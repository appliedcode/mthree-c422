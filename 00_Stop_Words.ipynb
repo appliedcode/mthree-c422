{
  "nbformat": 4,
  "nbformat_minor": 0,
  "metadata": {
    "colab": {
      "provenance": [],
      "authorship_tag": "ABX9TyND2P1at1SkmlDjh0hseSAr",
      "include_colab_link": true
    },
    "kernelspec": {
      "name": "python3",
      "display_name": "Python 3"
    },
    "language_info": {
      "name": "python"
    }
  },
  "cells": [
    {
      "cell_type": "markdown",
      "metadata": {
        "id": "view-in-github",
        "colab_type": "text"
      },
      "source": [
        "<a href=\"https://colab.research.google.com/github/appliedcode/mthree-c422/blob/mthree-c422-Likhitha/00_Stop_Words.ipynb\" target=\"_parent\"><img src=\"https://colab.research.google.com/assets/colab-badge.svg\" alt=\"Open In Colab\"/></a>"
      ]
    },
    {
      "cell_type": "code",
      "execution_count": 1,
      "metadata": {
        "colab": {
          "base_uri": "https://localhost:8080/"
        },
        "id": "6Z7iuxor0rJc",
        "outputId": "17304ddd-a7a9-4bb1-ce43-26bf872b9426"
      },
      "outputs": [
        {
          "output_type": "stream",
          "name": "stdout",
          "text": [
            "Number of default stop words: 326\n",
            "Sample stop words: ['quite', 'by', 'other', 'thru', 'across', 'various', 'therein', 'its', 'part', 'hereafter']\n",
            "'myself' is a stop word: True\n",
            "'mystery' is a stop word: False\n",
            "'btw' added as stop word: True\n",
            "New total number of stop words: 327\n",
            "'beyond' removed from stop words: False\n",
            "Final number of stop words: 326\n"
          ]
        }
      ],
      "source": [
        "# Perform standard imports\n",
        "import spacy\n",
        "\n",
        "# Load English tokenizer, tagger, parser, NER and word vectors\n",
        "nlp = spacy.load('en_core_web_sm')\n",
        "\n",
        "# Print the number of stop words in spaCy's default list\n",
        "print(\"Number of default stop words:\", len(nlp.Defaults.stop_words))\n",
        "\n",
        "# Print the set of spaCy's default stop words\n",
        "print(\"Sample stop words:\", list(nlp.Defaults.stop_words)[:10])  # Just a sample\n",
        "\n",
        "# Check if specific words are stop words\n",
        "print(\"'myself' is a stop word:\", nlp.vocab['myself'].is_stop)\n",
        "print(\"'mystery' is a stop word:\", nlp.vocab['mystery'].is_stop)\n",
        "\n",
        "# Add a custom stop word\n",
        "nlp.Defaults.stop_words.add('btw')\n",
        "nlp.vocab['btw'].is_stop = True\n",
        "\n",
        "# Confirm addition\n",
        "print(\"'btw' added as stop word:\", nlp.vocab['btw'].is_stop)\n",
        "print(\"New total number of stop words:\", len(nlp.Defaults.stop_words))\n",
        "\n",
        "# Remove an existing stop word\n",
        "nlp.Defaults.stop_words.remove('beyond')\n",
        "nlp.vocab['beyond'].is_stop = False\n",
        "\n",
        "# Confirm removal\n",
        "print(\"'beyond' removed from stop words:\", nlp.vocab['beyond'].is_stop)\n",
        "print(\"Final number of stop words:\", len(nlp.Defaults.stop_words))\n"
      ]
    }
  ]
}