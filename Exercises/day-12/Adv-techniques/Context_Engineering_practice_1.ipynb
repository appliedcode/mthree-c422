{
  "nbformat": 4,
  "nbformat_minor": 0,
  "metadata": {
    "colab": {
      "provenance": [],
      "authorship_tag": "ABX9TyMDmCuUrODs4FbkdQK7CkgH",
      "include_colab_link": true
    },
    "kernelspec": {
      "name": "python3",
      "display_name": "Python 3"
    },
    "language_info": {
      "name": "python"
    }
  },
  "cells": [
    {
      "cell_type": "markdown",
      "metadata": {
        "id": "view-in-github",
        "colab_type": "text"
      },
      "source": [
        "<a href=\"https://colab.research.google.com/github/appliedcode/mthree-c422/blob/mthree-422-salleh/Exercises/day-12/Adv-techniques/Context_Engineering_practice_1.ipynb\" target=\"_parent\"><img src=\"https://colab.research.google.com/assets/colab-badge.svg\" alt=\"Open In Colab\"/></a>"
      ]
    },
    {
      "cell_type": "markdown",
      "source": [
        "## **Self-Practice Problems – Context Management \\& Prompt Optimization**\n",
        "\n",
        "### **Part A – Context Management**\n",
        "\n",
        "These tasks will test your ability to pass context across multiple AI calls, handle continuity, and see how truncating context impacts responses.\n",
        "\n",
        "***\n",
        "\n",
        "**Problem 1 – Story Continuation Without Losing Details**\n",
        "\n",
        "- Start a short story (2–3 lines) with the AI.\n",
        "- In the next 3–4 prompts, ask the AI to **add more events**, **introduce a new character**, and **create a twist ending**.\n",
        "- Compare two runs:\n",
        "\n",
        "1. Without passing any prior context.\n",
        "2. With a conversation log that includes all previous responses.\n",
        "- **Question:** How different are the coherence and continuity between the two runs?\n",
        "\n",
        "***\n",
        "\n",
        "**Problem 2 – FAQ Bot Simulation**\n",
        "\n",
        "- Choose a topic (e.g., \"Python Programming Basics\").\n",
        "- Ask a sequence of **related questions** as if you are building a FAQ chatbot:\n",
        "\n",
        "1. \"What is Python used for?\"\n",
        "2. \"What are data types in Python?\"\n",
        "3. \"Explain Python lists in one sentence.\"\n",
        "- Test answering with and without including **full previous Q\\&A** in the prompt.\n",
        "- **Question:** What information does the AI miss without context?\n",
        "\n",
        "***\n",
        "\n",
        "**Problem 3 – Context Truncation Challenge** *(Advanced)*\n",
        "\n",
        "- Build a loop that stores conversation history but **truncates older turns** if it exceeds a certain number of characters/tokens.\n",
        "- Simulate a 10-turn conversation and see if truncation breaks continuity.\n",
        "- **Question:** Which parts of the story/answers start to drop off first?\n",
        "\n",
        "***\n",
        "\n",
        "### **Part B – Prompt Optimization**\n",
        "\n",
        "Students will refine vague prompts into clear, specific instructions and analyze the difference in AI responses.\n",
        "\n",
        "***\n",
        "\n",
        "**Problem 4 – Recipe Request Optimization**\n",
        "\n",
        "- Vague prompt: `\"Give me a recipe for pasta\"`.\n",
        "- Optimize it by specifying:\n",
        "    - Audience (beginner cook)\n",
        "    - Ingredients to include/exclude\n",
        "    - Portion size\n",
        "    - Output format (ingredients list + numbered steps)\n",
        "- Compare the vague and optimized outputs.\n",
        "- **Question:** What improvements did you notice?\n",
        "\n",
        "***\n",
        "\n",
        "**Problem 5 – Study Guide Creation**\n",
        "\n",
        "- Choose a subject (Math, History, Physics, etc.).\n",
        "- First, ask: `\"Tell me about this subject\"`.\n",
        "- Then, design a prompt that produces:\n",
        "    - 5 bullet points summarizing key concepts\n",
        "    - A suggested daily study plan\n",
        "    - Easy examples for each concept\n",
        "- Compare both outputs for usefulness and structure.\n",
        "\n",
        "***\n",
        "\n",
        "**Problem 6 – Summarization with Constraints**\n",
        "\n",
        "- Start with a paragraph from Wikipedia or any online source.\n",
        "- First prompt: `\"Summarize this paragraph\"`.\n",
        "- Optimized prompt: `\"Summarize this paragraph in exactly 3 bullet points, each under 12 words, keep only key facts\"`.\n",
        "- Compare results for precision and conciseness.\n",
        "\n",
        "***\n",
        "\n",
        "### **Part C – Combined Challenge**\n",
        "\n",
        "**Problem 7 – Multi-Turn Optimized Interview**\n",
        "\n",
        "- Simulate a job interview with the AI for a \"Machine Learning Engineer\" role:\n",
        "\n",
        "1. Ask an AI-generated job description.\n",
        "2. Ask it to generate 3 common interview questions.\n",
        "3. Ask follow-up questions based on its previous answers.\n",
        "- **Rules:**\n",
        "    - Always keep context from all previous turns.\n",
        "    - Optimize every prompt to clearly state the desired format.\n",
        "- **Question:** How does the AI’s interview flow change without context or with vague prompts?\n",
        "\n",
        "***\n",
        "\n",
        "💡 **Tip:** For each problem, students should:\n",
        "\n",
        "1. Run first with vague or no-context setups.\n",
        "2. Re-run with optimized prompts and/or full context.\n",
        "3. Write 2–3 sentences on observed differences.\n",
        "\n",
        "***"
      ],
      "metadata": {
        "id": "iHKkA6EDRlvK"
      }
    },
    {
      "cell_type": "code",
      "execution_count": 1,
      "metadata": {
        "colab": {
          "base_uri": "https://localhost:8080/"
        },
        "id": "bTAiNRxVQKL4",
        "outputId": "44d6322c-6315-439d-9654-181aad3e895d"
      },
      "outputs": [
        {
          "output_type": "stream",
          "name": "stdout",
          "text": [
            "✅ OpenAI API key loaded safely\n"
          ]
        }
      ],
      "source": [
        "from google.colab import userdata\n",
        "import os\n",
        "\n",
        "# Set your OpenAI API key securely in Colab Secrets (once)\n",
        "# userdata.set(\"OPENAI_API_KEY\", \"your-api-key-here\")\n",
        "\n",
        "# Retrieve key in your notebook\n",
        "openai_api_key = userdata.get(\"OPENAI_API_KEY\")\n",
        "if openai_api_key:\n",
        "    os.environ[\"OPENAI_API_KEY\"] = openai_api_key\n",
        "    print(\"✅ OpenAI API key loaded safely\")\n",
        "else:\n",
        "    print(\"❌ OpenAI API key not found. Please set it using Colab Secrets.\")"
      ]
    },
    {
      "cell_type": "code",
      "source": [
        "!pip install --quiet openai -q\n",
        "# Create client\n",
        "from openai import OpenAI\n",
        "client = OpenAI(api_key=os.environ[\"OPENAI_API_KEY\"])"
      ],
      "metadata": {
        "id": "oZkUDPFFQ1L_"
      },
      "execution_count": 2,
      "outputs": []
    },
    {
      "cell_type": "code",
      "source": [
        "def generate_response(prompt, model=\"gpt-4o-mini\", temperature=0.7):\n",
        "    \"\"\"\n",
        "    Sends a user prompt to the OpenAI model and returns the AI's response.\n",
        "    \"\"\"\n",
        "    try:\n",
        "        completion = client.chat.completions.create(\n",
        "            model=model,\n",
        "            messages=[{\"role\": \"user\", \"content\": prompt}],\n",
        "            temperature=temperature\n",
        "        )\n",
        "        return completion.choices[0].message.content.strip()\n",
        "    except Exception as e:\n",
        "        return f\"Error: {e}\""
      ],
      "metadata": {
        "id": "MEKagbFdRDaw"
      },
      "execution_count": 3,
      "outputs": []
    },
    {
      "cell_type": "markdown",
      "source": [
        "#Part A – Context Management"
      ],
      "metadata": {
        "id": "1dTWA039SjfP"
      }
    },
    {
      "cell_type": "markdown",
      "source": [],
      "metadata": {
        "id": "Ikyic5FRSoeC"
      }
    },
    {
      "cell_type": "markdown",
      "source": [
        "Problem 1 – Story Continuation Without Losing Details"
      ],
      "metadata": {
        "id": "epRwnFzVSshp"
      }
    },
    {
      "cell_type": "code",
      "source": [
        "beginning = 'Comel wanted to move to a town near the mountains, so she went to the town of Rompuru. '\n",
        "prompts = [\n",
        "    beginning,\n",
        "    \"Add more events\",\n",
        "    \"Introduce a new character\",\n",
        "    \"Create a twist ending\",\n",
        "    ]"
      ],
      "metadata": {
        "id": "9c9x24cBSupE"
      },
      "execution_count": 6,
      "outputs": []
    },
    {
      "cell_type": "code",
      "source": [
        "# 1_1\n",
        "# WITHOUT Context\n",
        "print(\"=== Story WITHOUT Context ===\")\n",
        "for prompt in prompts:\n",
        "    print(generate_response(prompt))\n",
        "    print()\n"
      ],
      "metadata": {
        "colab": {
          "base_uri": "https://localhost:8080/"
        },
        "id": "SVxxC3LPTvtE",
        "outputId": "a5eaeb7e-71fc-4636-b5e9-0b46d941ffc3"
      },
      "execution_count": 7,
      "outputs": [
        {
          "output_type": "stream",
          "name": "stdout",
          "text": [
            "=== Story WITHOUT Context ===\n",
            "In the town of Rompuru, the air was crisp and fresh, filled with the scent of pine and wildflowers. Nestled at the foot of the majestic mountains, it was a place where nature and community thrived together. Comel arrived with a heart full of dreams and a sense of adventure.\n",
            "\n",
            "As she wandered through the quaint streets, she admired the charming wooden houses adorned with colorful flower boxes. The town square was bustling with activity; locals were setting up stalls for the weekly market, where fresh produce, handmade crafts, and delicious baked goods were on offer.\n",
            "\n",
            "Comel introduced herself to a few friendly faces, who welcomed her with warm smiles and open arms. They told her stories of their lives in Rompuru, sharing tales of hiking adventures, winter festivals, and the breathtaking views from the mountain peaks. She felt an instant connection to this tight-knit community.\n",
            "\n",
            "Inspired by their stories, Comel decided to explore the mountains herself. She packed a small backpack with essentials and set out on a winding trail that led up into the heights. As she climbed, the landscape transformed into a stunning panorama of towering trees, glistening streams, and wild animals darting through the underbrush. \n",
            "\n",
            "At the summit, Comel stood in awe of the view—the sprawling valleys below, the distant peaks dusted with snow, and the vast sky painted in hues of orange and pink as the sun began to set. In that moment, she felt a profound sense of belonging and knew she had made the right choice in coming to Rompuru.\n",
            "\n",
            "As days turned into weeks, Comel settled into her new life. She joined the local hiking club, learned to ski at the nearby slopes, and even took up painting, inspired by the beauty that surrounded her. Each new experience deepened her love for the town and its people.\n",
            "\n",
            "Rompuru was not just a place to live; it was a home where Comel could grow, explore, and create lasting memories. With the mountains as her backdrop, she embraced the adventures that lay ahead, grateful for the journey that had brought her to this enchanting town.\n",
            "\n",
            "Sure! To help you better, could you clarify which type of events you would like to add? Are you looking for historical events, upcoming events in a specific field (like entertainment, sports, or technology), or events in a certain location? Please provide more details!\n",
            "\n",
            "**Character Name:** Elara Thorne\n",
            "\n",
            "**Age:** 27\n",
            "\n",
            "**Occupation:** Cartographer and Explorer\n",
            "\n",
            "**Appearance:** Elara has a striking appearance, with long, wavy auburn hair that she often ties back with a leather cord to keep it out of her face while she works. Her bright green eyes are always alight with curiosity, framed by a dusting of freckles across her nose and cheeks. She typically wears practical, weathered clothing — sturdy boots, cargo pants, and a fitted tunic — all adorned with pockets filled with maps, compasses, and various tools of her trade.\n",
            "\n",
            "**Background:** Growing up in a small coastal town, Elara was captivated by the tales of explorers and adventurers her grandfather told her. He was a retired sailor who shared stories of uncharted lands and hidden treasures. Inspired, Elara pursued a career in cartography, combining her love for geography with her adventurous spirit. She studied at a prestigious academy, where she excelled in both mapping techniques and navigation.\n",
            "\n",
            "**Personality:** Elara is fiercely independent and adventurous, often diving headfirst into new challenges. She possesses a keen intellect and a sharp wit, making her both resourceful and quick-thinking in difficult situations. While she is confident in her abilities, she can be somewhat headstrong, sometimes taking risks that others might deem reckless. Despite her adventurous nature, she has a deep sense of empathy and is always willing to lend a hand to those in need.\n",
            "\n",
            "**Skills:** Elara is an expert in cartography, skilled in both traditional and modern mapping techniques. She is also a proficient navigator, able to read the stars and use a compass with ease. Her knowledge of various terrains and ecosystems makes her an adept survivalist. Additionally, she has a knack for storytelling, often sharing her experiences and the histories of the places she visits.\n",
            "\n",
            "**Motivation:** Elara's primary goal is to create a comprehensive map of the world, including areas that have yet to be explored. She dreams of uncovering lost civilizations and forgotten lore. Driven by her thirst for knowledge and adventure, she hopes to inspire others to appreciate the beauty and mystery of the world around them.\n",
            "\n",
            "**Conflict:** As Elara sets out on her latest expedition, she discovers a hidden society that guards ancient secrets and treasures. Torn between her desire to explore and respect for their way of life, she must navigate the complexities of her ambition and ethics, forcing her to confront questions about discovery, ownership, and the impact of her actions on the world. \n",
            "\n",
            "Elara Thorne is a character whose journey promises excitement, moral dilemmas, and the thrill of uncovering the unknown.\n",
            "\n",
            "As the sun set over the small town of Maplewood, Detective Sarah Lewis finally pieced together the clues from a series of mysterious disappearances that had plagued the community for months. After weeks of investigation, she discovered a hidden underground lair beneath the old abandoned church, where she believed the culprit was hiding. \n",
            "\n",
            "With her heart racing, she descended the creaking staircase, flashlight in hand, illuminating the damp stone walls. The air was thick with tension as she moved deeper into the lair, finding evidence of the missing townsfolk—personal belongings scattered around, photographs pinned to the wall.\n",
            "\n",
            "Suddenly, she heard a noise behind her—a soft rustling. She turned, ready to confront the perpetrator, only to find her partner, Officer Mark Jensen, stepping out from the shadows. “I’ve been looking everywhere for you!” he exclaimed, relief flooding his voice.\n",
            "\n",
            "“Mark, I think I’ve found them,” Sarah said, urgency in her tone. “We need to call for backup.”\n",
            "\n",
            "But as Sarah turned to lead Mark further into the lair, she noticed something strange. An old newspaper clippings were pinned next to a photo of her own family—her parents, her younger brother. Confusion washed over her. \n",
            "\n",
            "“Why is my family here?” she asked, her voice trembling.\n",
            "\n",
            "Mark’s expression changed, a flicker of something dark crossing his face. “You shouldn’t have come here, Sarah. They were never missing.”\n",
            "\n",
            "“What do you mean?” she stammered, backing away.\n",
            "\n",
            "“Your family is safe. They’ve been living a different life. They chose to disappear, and I helped them.”\n",
            "\n",
            "As realization dawned, the walls around her seemed to close in. The faces of the missing were not victims—they were part of a secret she had been too blind to see. \n",
            "\n",
            "“And you,” she whispered, horrified, “You were part of it all along.”\n",
            "\n",
            "Mark stepped closer, a chilling smile forming on his lips. “It’s time for you to join them, Sarah. Family is everything, after all.”\n",
            "\n",
            "And with that, the detective found herself trapped in the very darkness she had sought to extinguish, the truth more twisted than she could have ever imagined.\n",
            "\n"
          ]
        }
      ]
    },
    {
      "cell_type": "code",
      "source": [
        "# 1_2\n",
        "# WITH Context\n",
        "print(\"=== Story WITH Context ===\")\n",
        "context = \"\"\n",
        "for prompt in prompts:\n",
        "    full_prompt = context + f\"\\nUser: {prompt}\\nAI:\"\n",
        "    response = generate_response(full_prompt)\n",
        "    print(f\"User: {prompt}\\nAI: {response}\\n\")\n",
        "    context += f\"\\nUser: {prompt}\\nAI: {response}\""
      ],
      "metadata": {
        "colab": {
          "base_uri": "https://localhost:8080/"
        },
        "id": "7tH_kK7VT2Lg",
        "outputId": "5d868305-9ea7-4ce6-8994-0aa45fe8f3fc"
      },
      "execution_count": 9,
      "outputs": [
        {
          "output_type": "stream",
          "name": "stdout",
          "text": [
            "=== Story WITH Context ===\n",
            "User: Comel wanted to move to a town near the mountains, so she went to the town of Rompuru. \n",
            "AI: In Rompuru, Comel was immediately captivated by the breathtaking views of the towering mountains that framed the town. The air was crisp and fresh, filled with the scent of pine trees and the distant sound of a bubbling creek. As she wandered through the quaint streets, she noticed charming houses adorned with colorful flowers and friendly locals who greeted her with warm smiles.\n",
            "\n",
            "Comel spent her days exploring the nearby trails, hiking through lush forests and discovering hidden waterfalls. She visited small shops that sold homemade crafts and delicious treats, quickly becoming a familiar face in the community. The locals shared stories of the mountains, highlighting the best spots for skiing in the winter and hiking in the summer.\n",
            "\n",
            "As she settled into her new life, Comel found a cozy cottage with a view of the mountains right from her window. She embraced the slower pace of life in Rompuru, finding joy in the simple pleasures of nature and the camaraderie of her new friends. Each day felt like a new adventure, and Comel knew she had found the perfect place to call home.\n",
            "\n",
            "User: Add more events\n",
            "AI: As the weeks passed, Comel became more integrated into the vibrant community of Rompuru. One sunny Saturday, she attended the annual Mountain Festival, a celebration that brought everyone together to honor the beauty of the surrounding landscape. The town square was alive with music, laughter, and the aroma of local delicacies. Comel tried her hand at traditional mountain crafts, from pottery to weaving, and even participated in a friendly baking competition, where she showcased her famous apple pie.\n",
            "\n",
            "During the festival, she met a group of fellow outdoor enthusiasts who invited her to join their hiking club. They explored new trails every weekend, and one particularly memorable hike led them to the summit of a nearby peak just in time to watch the sunrise. The breathtaking view, with the sun casting golden rays over the mountains, left Comel in awe and solidified her love for the area.\n",
            "\n",
            "As autumn approached, the leaves transformed into a riot of colors, and Comel decided to take up photography to capture the mesmerizing scenery. She spent her afternoons wandering through the woods with her camera, documenting everything from the vibrant foliage to the wildlife that roamed the mountains. Her photographs caught the attention of a local art gallery, which invited her to showcase her work in an upcoming exhibition.\n",
            "\n",
            "In the spirit of giving back, Comel also volunteered at the local community center, helping to organize youth programs and outdoor education sessions. She shared her passion for nature with the children, teaching them about local flora and fauna during nature walks.\n",
            "\n",
            "As winter arrived, Comel embraced the snowy landscape, taking up skiing for the first time. With the help of her new friends, she learned the ropes and spent weekends gliding down the slopes, laughing and enjoying the thrill of the mountain air. She even joined in on the town's holiday festivities, helping to decorate the town square with twinkling lights and participating in a cozy Christmas market that brought everyone together.\n",
            "\n",
            "Through all these experiences, Comel felt a deepening connection to Rompuru. Each adventure, whether it was a hike, a festival, or a simple gathering with friends, added a layer to her new life. She realized that the mountains weren't just a backdrop; they were a part of her journey, shaping her into someone who embraced the beauty of nature and the warmth of community. As the seasons changed, so did Comel, blossoming in ways she had never imagined possible.\n",
            "\n",
            "User: Introduce a new character\n",
            "AI: As Comel continued to immerse herself in the life of Rompuru, she encountered a new character who would play a significant role in her journey. One crisp autumn afternoon, while she was out photographing the stunning fall foliage, she stumbled upon a small, secluded art studio nestled at the edge of the forest. Intrigued by the vibrant colors spilling from the windows, she decided to peek inside.\n",
            "\n",
            "Inside, she met Elise, a talented local artist known for her breathtaking landscape paintings that captured the essence of the mountains. Elise was in her late thirties, with long, flowing hair and an infectious enthusiasm for nature. Her studio was filled with canvases of various sizes, each depicting the beauty of Rompuru in different seasons. \n",
            "\n",
            "“I’m so glad you stopped by!” Elise exclaimed, her eyes lighting up as she noticed Comel’s camera. “Are you an artist too?”\n",
            "\n",
            "Comel smiled sheepishly. “I’m more of a hobbyist, just trying to capture the beauty around me. Your work is incredible!”\n",
            "\n",
            "The two quickly struck up a conversation, sharing their mutual love for the mountains and the inspiration they drew from the natural world. Elise offered to give Comel a few pointers on photography, suggesting techniques to enhance her images and how to find the perfect light. They began meeting regularly, merging their artistic passions. Comel would bring her photographs, and Elise would offer feedback while encouraging her to explore different styles.\n",
            "\n",
            "As their friendship blossomed, Elise invited Comel to join her for a weekend art retreat in a nearby cabin. It was a chance for both of them to escape the hustle and bustle of daily life and immerse themselves in creativity. The retreat was filled with painting sessions, guided hikes, and evenings spent around the fire sharing stories and dreams.\n",
            "\n",
            "During one of their hikes, Elise opened up about her own journey, revealing that she had moved to Rompuru years ago in search of solace after a difficult chapter in her life. The mountains had helped her heal, and she encouraged Comel to embrace the transformative power of nature.\n",
            "\n",
            "Inspired by Elise’s story, Comel began to reflect on her own past and the reasons she sought a new beginning in Rompuru. The two women formed a bond that went beyond art, supporting each other through their respective journeys of self-discovery and growth.\n",
            "\n",
            "With Elise’s encouragement, Comel decided to submit her photographs to the local art exhibition alongside Elise’s paintings. The opening night of the exhibition turned out to be a celebration of not just their art, but of friendship and community. As they stood together, surrounded by the beauty they both loved, Comel realized that Elise had become an integral part of her life in Rompuru, helping her see the world through a new lens—one filled with creativity, connection, and endless possibilities.\n",
            "\n",
            "User: Create a twist ending\n",
            "AI: As the exhibition night approached, excitement buzzed in the air. Comel and Elise worked tirelessly to prepare their displays, each pouring their heart and soul into the event. On the evening of the exhibition, the gallery was filled with townspeople, friends, and fellow artists, all eager to celebrate the beauty of Rompuru captured through their art.\n",
            "\n",
            "The evening was a resounding success, with many of Comel’s photographs receiving praise and interest. Just as she was beginning to feel a sense of accomplishment, a well-dressed woman entered the gallery. She had an air of sophistication about her, and Comel recognized her immediately—she was the owner of a renowned art gallery in the city, known for showcasing emerging talent.\n",
            "\n",
            "After taking a careful look at Comel’s work, the woman approached her, a glimmer of excitement in her eyes. “Your photographs are stunning! I would love to discuss the possibility of featuring you in my gallery back in the city,” she said.\n",
            "\n",
            "Comel’s heart raced at the thought of such an opportunity. The city had always represented a world of possibilities—one she had left behind in search of a simpler life here in Rompuru. Elated yet conflicted, she shared her excitement with Elise, who smiled widely but also noticed a hint of hesitation in Comel’s eyes.\n",
            "\n",
            "“Isn’t this what you wanted?” Elise asked gently. “To share your art with a larger audience?”\n",
            "\n",
            "“I do want that,” Comel admitted. “But I’ve found so much more here—friendship, community, a sense of belonging. I don’t know if I’m ready to leave it all behind.”\n",
            "\n",
            "Just then, the well-dressed woman interrupted their conversation, sensing the tension. “I understand this is a big decision, but opportunities like this don’t come often. You have real talent, and I believe your work deserves a wider audience.”\n",
            "\n",
            "As Comel weighed her options, she felt a tugging at her heartstrings. What had started as a journey to find herself in Rompuru had blossomed into a life rich with creativity and connection. Yet, the allure of the city and the promise of recognition was hard to resist.\n",
            "\n",
            "In a moment of clarity, Comel realized that she didn’t have to choose between the two worlds. “What if I could do both?” she proposed, surprising both Elise and the woman. “What if I could showcase my work in the city while still living here, drawing inspiration from the mountains?”\n",
            "\n",
            "The gallery owner paused, intrigued by Comel’s vision. “That’s certainly a unique approach. If you’re willing to explore that, I’d be more than happy to help you with a plan.”\n",
            "\n",
            "As the conversation unfolded, Comel found herself not only contemplating her next steps but also reflecting on the deep bonds she had formed in Rompuru. Just then, Elise spoke up with a smile, “And I can help you with your next series of photographs inspired by your experiences in both places. We can collaborate!”\n",
            "\n",
            "The twist in Comel’s journey wasn’t just about an opportunity presenting itself; it was about the realization that she could expand her horizons without sacrificing the life she had built. Embracing both the city and the mountains, Comel found herself standing at the crossroads of her dreams, ready to embark on a new chapter that honored her past while embracing her future.\n",
            "\n",
            "As the exhibition continued, Comel felt a renewed sense of purpose, knowing that the mountains would always be her home, while the city could offer a canvas for her art. With her friends by her side and a world of possibilities ahead, she knew that her journey was just beginning.\n",
            "\n"
          ]
        }
      ]
    }
  ]
}