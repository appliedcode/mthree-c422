{
  "nbformat": 4,
  "nbformat_minor": 0,
  "metadata": {
    "colab": {
      "provenance": [],
      "authorship_tag": "ABX9TyPB3JiFqyIhXFdkTJfO4rY6",
      "include_colab_link": true
    },
    "kernelspec": {
      "name": "python3",
      "display_name": "Python 3"
    },
    "language_info": {
      "name": "python"
    }
  },
  "cells": [
    {
      "cell_type": "markdown",
      "metadata": {
        "id": "view-in-github",
        "colab_type": "text"
      },
      "source": [
        "<a href=\"https://colab.research.google.com/github/appliedcode/mthree-c422/blob/mthree-c422-Likhitha/00_Stemming.ipynb\" target=\"_parent\"><img src=\"https://colab.research.google.com/assets/colab-badge.svg\" alt=\"Open In Colab\"/></a>"
      ]
    },
    {
      "cell_type": "code",
      "source": [
        "# Install nltk if needed\n",
        "!pip install --quiet nltk\n",
        "\n",
        "# Import necessary modules\n",
        "import nltk\n",
        "from nltk.stem.porter import PorterStemmer\n",
        "from nltk.stem.snowball import SnowballStemmer\n",
        "\n",
        "# Download NLTK resources (if not already downloaded)\n",
        "nltk.download('punkt')\n",
        "\n",
        "# Initialize both stemmers\n",
        "p_stemmer = PorterStemmer()\n",
        "s_stemmer = SnowballStemmer(language='english')\n",
        "\n",
        "# Define a list of test words\n",
        "words = ['run', 'runner', 'running', 'ran', 'runs', 'easily', 'fairly']\n",
        "\n",
        "# Porter Stemmer output\n",
        "print(\"Porter Stemmer:\")\n",
        "for word in words:\n",
        "    print(f\"{word:<10} --> {p_stemmer.stem(word)}\")\n",
        "\n",
        "print(\"\\nSnowball (Porter2) Stemmer:\")\n",
        "for word in words:\n",
        "    print(f\"{word:<10} --> {s_stemmer.stem(word)}\")\n"
      ],
      "metadata": {
        "colab": {
          "base_uri": "https://localhost:8080/"
        },
        "id": "9OjsUwWlrErJ",
        "outputId": "8b9633a5-2d96-4c18-869b-4c851595cef4"
      },
      "execution_count": 6,
      "outputs": [
        {
          "output_type": "stream",
          "name": "stdout",
          "text": [
            "Porter Stemmer:\n",
            "run        --> run\n",
            "runner     --> runner\n",
            "running    --> run\n",
            "ran        --> ran\n",
            "runs       --> run\n",
            "easily     --> easili\n",
            "fairly     --> fairli\n",
            "\n",
            "Snowball (Porter2) Stemmer:\n",
            "run        --> run\n",
            "runner     --> runner\n",
            "running    --> run\n",
            "ran        --> ran\n",
            "runs       --> run\n",
            "easily     --> easili\n",
            "fairly     --> fair\n"
          ]
        },
        {
          "output_type": "stream",
          "name": "stderr",
          "text": [
            "[nltk_data] Downloading package punkt to /root/nltk_data...\n",
            "[nltk_data]   Package punkt is already up-to-date!\n"
          ]
        }
      ]
    },
    {
      "cell_type": "code",
      "source": [
        "# Custom test words\n",
        "custom_words = ['consolingly', 'generous', 'generation', 'generously', 'generate']\n",
        "\n",
        "print(\"\\nCustom Word Stemming - Porter Stemmer:\")\n",
        "for word in custom_words:\n",
        "    print(f\"{word:<12} --> {p_stemmer.stem(word)}\")\n",
        "\n",
        "print(\"\\nCustom Word Stemming - Snowball Stemmer:\")\n",
        "for word in custom_words:\n",
        "    print(f\"{word:<12} --> {s_stemmer.stem(word)}\")\n"
      ],
      "metadata": {
        "colab": {
          "base_uri": "https://localhost:8080/"
        },
        "id": "UYsi3H0YrG_x",
        "outputId": "0cd519f2-5e31-4ebc-8637-3c4e9568e303"
      },
      "execution_count": 7,
      "outputs": [
        {
          "output_type": "stream",
          "name": "stdout",
          "text": [
            "\n",
            "Custom Word Stemming - Porter Stemmer:\n",
            "consolingly  --> consolingli\n",
            "generous     --> gener\n",
            "generation   --> gener\n",
            "generously   --> gener\n",
            "generate     --> gener\n",
            "\n",
            "Custom Word Stemming - Snowball Stemmer:\n",
            "consolingly  --> consol\n",
            "generous     --> generous\n",
            "generation   --> generat\n",
            "generously   --> generous\n",
            "generate     --> generat\n"
          ]
        }
      ]
    },
    {
      "cell_type": "code",
      "source": [
        "phrase = 'I am meeting him tomorrow at the meeting'\n",
        "\n",
        "print(\"\\nPhrase Stemming using Porter Stemmer:\")\n",
        "for word in phrase.split():\n",
        "    print(f\"{word:<10} --> {p_stemmer.stem(word)}\")\n"
      ],
      "metadata": {
        "colab": {
          "base_uri": "https://localhost:8080/"
        },
        "id": "qMKE1IRFrK4I",
        "outputId": "dd22bdf7-1511-4f33-fca0-0ad4d6e9814e"
      },
      "execution_count": 8,
      "outputs": [
        {
          "output_type": "stream",
          "name": "stdout",
          "text": [
            "\n",
            "Phrase Stemming using Porter Stemmer:\n",
            "I          --> i\n",
            "am         --> am\n",
            "meeting    --> meet\n",
            "him        --> him\n",
            "tomorrow   --> tomorrow\n",
            "at         --> at\n",
            "the        --> the\n",
            "meeting    --> meet\n"
          ]
        }
      ]
    }
  ]
}