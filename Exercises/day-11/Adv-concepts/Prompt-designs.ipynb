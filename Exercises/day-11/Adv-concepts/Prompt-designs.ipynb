{
  "cells": [
    {
      "cell_type": "markdown",
      "metadata": {
        "id": "view-in-github",
        "colab_type": "text"
      },
      "source": [
        "<a href=\"https://colab.research.google.com/github/appliedcode/mthree-c422/blob/mthree-422-salleh/Exercises/day-11/Adv-concepts/Prompt-designs.ipynb\" target=\"_parent\"><img src=\"https://colab.research.google.com/assets/colab-badge.svg\" alt=\"Open In Colab\"/></a>"
      ]
    },
    {
      "cell_type": "markdown",
      "source": [
        "# 📓 Lab: Advanced Prompt Design Techniques in AI Conversations"
      ],
      "metadata": {
        "id": "hFnkDgKDTUgk"
      }
    },
    {
      "cell_type": "code",
      "source": [
        "# Setup\n",
        "# Install OpenAI SDK\n",
        "!pip install openai -q\n",
        "from google.colab import userdata\n",
        "import os\n",
        "\n",
        "openai_api_key = userdata.get(\"OPENAI_API_KEY\")\n",
        "if openai_api_key:\n",
        "    os.environ[\"OPENAI_API_KEY\"] = openai_api_key\n",
        "    print(\"✅ OpenAI API key loaded safely\")\n",
        "else:\n",
        "    print(\"❌ OpenAI API key not found. Please set it using Colab Secrets.\")"
      ],
      "metadata": {
        "colab": {
          "base_uri": "https://localhost:8080/"
        },
        "id": "TeI221gvStSY",
        "outputId": "7a0dabac-813a-4c89-845c-6315b946bebd"
      },
      "execution_count": 1,
      "outputs": [
        {
          "output_type": "stream",
          "name": "stdout",
          "text": [
            "✅ OpenAI API key loaded safely\n"
          ]
        }
      ]
    },
    {
      "cell_type": "code",
      "source": [
        "from openai import OpenAI\n",
        "client = OpenAI(api_key=os.environ[\"OPENAI_API_KEY\"])  # Replace with your API key\n",
        "\n",
        "def ask_gpt(prompt, temperature=0.7, max_tokens=500):\n",
        "    \"\"\"Send a prompt to GPT-4o-mini and return the output\"\"\"\n",
        "    response = client.chat.completions.create(\n",
        "        model=\"gpt-4o-mini\",\n",
        "        messages=[{\"role\": \"user\", \"content\": prompt}],\n",
        "        temperature=temperature,\n",
        "        max_tokens=max_tokens\n",
        "    )\n",
        "    return response.choices[0].message.content"
      ],
      "metadata": {
        "id": "tum27-jCRCHH"
      },
      "execution_count": 2,
      "outputs": []
    },
    {
      "cell_type": "markdown",
      "source": [
        "## **1️⃣ Interview Pattern Prompting**\n",
        "\n",
        "**Goal:** Simulate an interview by prompting the model to ask and answer a series of questions on a topic. Helps in extracting detailed and structured info."
      ],
      "metadata": {
        "id": "3CPaNFrYRGxO"
      }
    },
    {
      "cell_type": "code",
      "source": [
        "base_prompt = \"\"\"\n",
        "Simulate an interview between a reporter and an AI expert about the impact of AI on education.\n",
        "Format it as a Q&A conversation with the reporter asking questions and the expert answering.\n",
        "Start with an introductory question.\n",
        "\"\"\"\n",
        "\n",
        "print(ask_gpt(base_prompt, temperature=0.6))"
      ],
      "metadata": {
        "colab": {
          "base_uri": "https://localhost:8080/"
        },
        "id": "2vMB3TKnRHNn",
        "outputId": "91481f40-7060-495d-a811-f6d5bff25b74"
      },
      "execution_count": 3,
      "outputs": [
        {
          "output_type": "stream",
          "name": "stdout",
          "text": [
            "**Reporter:** Thank you for joining us today. To start, can you tell us a bit about your background and why you’re passionate about the intersection of AI and education?\n",
            "\n",
            "**AI Expert:** Absolutely, and thank you for having me! I have a background in computer science and educational technology, with over a decade of experience in researching how AI can be integrated into learning environments. I’m passionate about this intersection because I believe that AI has the potential to personalize education, making it more accessible and effective for all learners, regardless of their background.\n",
            "\n",
            "**Reporter:** That’s fascinating! In what ways do you think AI is currently impacting education?\n",
            "\n",
            "**AI Expert:** AI is impacting education in several significant ways. Firstly, it’s enabling personalized learning experiences. For instance, adaptive learning platforms use AI to analyze a student’s performance and tailor content to their specific needs, allowing them to progress at their own pace. Secondly, AI-powered tools are assisting teachers by automating administrative tasks, such as grading and attendance tracking, which frees up their time to focus on instruction and student interaction. Lastly, AI is providing valuable insights through data analytics, helping educators identify trends and areas where students may need additional support.\n",
            "\n",
            "**Reporter:** Those sound like significant advancements. However, are there any potential downsides to integrating AI into education?\n",
            "\n",
            "**AI Expert:** Yes, there are certainly challenges and potential downsides. One major concern is data privacy. With AI systems collecting vast amounts of student data, it’s crucial to ensure that this information is handled responsibly and ethically. Additionally, there’s the risk of over-reliance on technology, which could diminish the human element of teaching. We must also consider the digital divide; not all students have equal access to technology, which could exacerbate existing inequalities in education. Finally, there’s the need for educators to be trained effectively in using these tools to enhance, rather than replace, traditional teaching methods.\n",
            "\n",
            "**Reporter:** Those are important points to consider. How do you envision the role of teachers evolving as AI becomes more integrated into the classroom?\n",
            "\n",
            "**AI Expert:** The role of teachers is likely to shift from being the primary source of information to becoming facilitators of learning. With AI handling more of the administrative and assessment tasks, teachers can focus on fostering critical thinking, creativity, and social-emotional skills. They will also play a crucial role in interpreting AI-generated insights and providing personalized support to students. Essentially, teachers will become more like coaches, guiding students through their learning journeys while\n"
          ]
        }
      ]
    },
    {
      "cell_type": "markdown",
      "source": [
        "## **2️⃣ Tree-of-Thoughts Prompting**\n",
        "\n",
        "**Goal:** Explore multiple lines of reasoning or ideas branching from a prompt before converging on an answer."
      ],
      "metadata": {
        "id": "YB1JLDOURLet"
      }
    },
    {
      "cell_type": "code",
      "source": [
        "prompt = \"\"\"\n",
        "You want to plan a weekend trip. Using a tree-of-thoughts approach, list 3 possible destinations.\n",
        "For each destination, list 2 pros and 2 cons.\n",
        "Then choose the best destination and explain why.\n",
        "\"\"\"\n",
        "\n",
        "print(ask_gpt(prompt, temperature=0.7))"
      ],
      "metadata": {
        "colab": {
          "base_uri": "https://localhost:8080/"
        },
        "id": "O982EGKMRNB8",
        "outputId": "fded78fb-1c2b-4d6c-bb92-eafc14121bc0"
      },
      "execution_count": 4,
      "outputs": [
        {
          "output_type": "stream",
          "name": "stdout",
          "text": [
            "### Destination 1: National Park\n",
            "\n",
            "**Pros:**\n",
            "1. **Natural Beauty:** Stunning landscapes, wildlife, and outdoor activities like hiking, camping, and photography.\n",
            "2. **Rejuvenation:** A chance to disconnect from technology and enjoy tranquility in nature.\n",
            "\n",
            "**Cons:**\n",
            "1. **Travel Time:** Depending on the park's location, it may require significant travel time to reach.\n",
            "2. **Weather Dependent:** Activities may be limited by weather conditions, especially in remote areas where rain or snow can disrupt plans.\n",
            "\n",
            "---\n",
            "\n",
            "### Destination 2: Beach Resort\n",
            "\n",
            "**Pros:**\n",
            "1. **Relaxation:** Opportunities for sunbathing, swimming, and enjoying beachside amenities like spas and restaurants.\n",
            "2. **Variety of Activities:** Water sports, beach games, and nightlife options can cater to different preferences.\n",
            "\n",
            "**Cons:**\n",
            "1. **Crowds:** Popular beach destinations can be crowded, particularly on weekends.\n",
            "2. **Cost:** Resort prices can be high, especially during peak seasons, making it a more expensive option.\n",
            "\n",
            "---\n",
            "\n",
            "### Destination 3: City Getaway\n",
            "\n",
            "**Pros:**\n",
            "1. **Cultural Experiences:** Access to museums, galleries, theaters, and a diverse culinary scene.\n",
            "2. **Convenience:** Typically offers a range of accommodations, dining, and entertainment options within close proximity.\n",
            "\n",
            "**Cons:**\n",
            "1. **Noise and Crowds:** Urban environments can be noisy and crowded, which may detract from relaxation.\n",
            "2. **Higher Costs:** City living can be expensive, with potential for high accommodation and dining costs.\n",
            "\n",
            "---\n",
            "\n",
            "### Best Destination Choice: National Park\n",
            "\n",
            "**Reasoning:**\n",
            "The National Park is the best choice due to its potential for a refreshing escape into nature, which can provide significant mental and physical health benefits. The tranquility and natural beauty available in a park can be more restorative compared to the hustle and bustle of city life or the crowded beaches. Additionally, outdoor activities like hiking and wildlife observation offer a more active and engaging experience, promoting overall well-being. While travel time and weather can be factors, the unique experiences in nature often outweigh these cons for a weekend getaway.\n"
          ]
        }
      ]
    },
    {
      "cell_type": "markdown",
      "source": [
        "## **3️⃣ Step-by-Step Reasoning \\& Decomposition**\n",
        "\n",
        "**Goal:** Decompose complex problems into steps and guide the AI to reason about each part sequentially."
      ],
      "metadata": {
        "id": "z_tt5nA4RO4I"
      }
    },
    {
      "cell_type": "code",
      "source": [
        "prompt = \"\"\"\n",
        "Q: A bookstore sold 30 books on Monday and 20% more on Tuesday.\n",
        "Calculate how many books were sold on Tuesday and in total.\n",
        "Let's decompose and reason step-by-step.\n",
        "\"\"\"\n",
        "\n",
        "print(ask_gpt(prompt, temperature=0))"
      ],
      "metadata": {
        "colab": {
          "base_uri": "https://localhost:8080/"
        },
        "id": "cx8TjPsaRPwN",
        "outputId": "4f4aebad-47e5-45fc-a39d-63da50ce6b07"
      },
      "execution_count": 5,
      "outputs": [
        {
          "output_type": "stream",
          "name": "stdout",
          "text": [
            "To find out how many books were sold on Tuesday and the total number of books sold over both days, we can follow these steps:\n",
            "\n",
            "1. **Calculate the number of books sold on Tuesday:**\n",
            "   - The bookstore sold 30 books on Monday.\n",
            "   - On Tuesday, they sold 20% more than what they sold on Monday.\n",
            "   - To find 20% of the books sold on Monday, we calculate:\n",
            "     \\[\n",
            "     20\\% \\text{ of } 30 = 0.20 \\times 30 = 6\n",
            "     \\]\n",
            "   - Now, we add this amount to the number of books sold on Monday to find the total for Tuesday:\n",
            "     \\[\n",
            "     \\text{Books sold on Tuesday} = 30 + 6 = 36\n",
            "     \\]\n",
            "\n",
            "2. **Calculate the total number of books sold over both days:**\n",
            "   - We add the number of books sold on Monday and Tuesday:\n",
            "     \\[\n",
            "     \\text{Total books sold} = \\text{Books sold on Monday} + \\text{Books sold on Tuesday} = 30 + 36 = 66\n",
            "     \\]\n",
            "\n",
            "So, the bookstore sold **36 books on Tuesday** and a **total of 66 books** over both days.\n"
          ]
        }
      ]
    },
    {
      "cell_type": "markdown",
      "source": [
        "## **4️⃣ Combining Prompts \\& Managing Context**\n",
        "\n",
        "**Goal:** Use multiple prompts or instructions combined to explore different aspects of a problem in one session."
      ],
      "metadata": {
        "id": "k_G-xkGGRSRW"
      }
    },
    {
      "cell_type": "code",
      "source": [
        "prompt = \"\"\"\n",
        "You are a financial advisor.\n",
        "\n",
        "Part 1: Summarize the benefits of investing in renewable energy funds.\n",
        "Part 2: List 3 risks associated with these investments.\n",
        "Part 3: Provide advice on how to mitigate these risks.\n",
        "\n",
        "Answer each part clearly.\n",
        "\"\"\"\n",
        "\n",
        "print(ask_gpt(prompt, temperature=0.7))"
      ],
      "metadata": {
        "colab": {
          "base_uri": "https://localhost:8080/"
        },
        "id": "zbFdASwMRUeP",
        "outputId": "361d55f6-4fe9-4544-a616-0636f2d8744c"
      },
      "execution_count": 6,
      "outputs": [
        {
          "output_type": "stream",
          "name": "stdout",
          "text": [
            "### Part 1: Benefits of Investing in Renewable Energy Funds\n",
            "\n",
            "1. **Growth Potential**: The renewable energy sector is rapidly expanding due to increasing global demand for clean energy. Government policies and public awareness surrounding climate change are driving investments in this sector, leading to significant growth potential.\n",
            "\n",
            "2. **Diversification**: Investing in renewable energy funds allows investors to diversify their portfolios. Renewable energy assets often behave differently than traditional energy sources, which can help reduce overall portfolio risk.\n",
            "\n",
            "3. **Sustainability and Social Responsibility**: Many investors are increasingly concerned about environmental, social, and governance (ESG) criteria. Investing in renewable energy aligns with these values, allowing investors to contribute positively to environmental sustainability while potentially profiting.\n",
            "\n",
            "4. **Government Incentives**: Many governments offer incentives, tax breaks, and subsidies for renewable energy projects, which can enhance the profitability of investments in this sector.\n",
            "\n",
            "5. **Technological Innovation**: The renewable energy sector is characterized by continual technological advancements. Investing in this field can provide exposure to cutting-edge technologies that may lead to significant returns as they become more mainstream.\n",
            "\n",
            "### Part 2: Risks Associated with Renewable Energy Investments\n",
            "\n",
            "1. **Market Volatility**: The renewable energy sector can be subject to significant market fluctuations due to changes in government policy, technological advancements, or shifts in consumer demand.\n",
            "\n",
            "2. **Regulatory Risks**: Changes in government regulations or subsidies can impact the profitability of renewable energy projects. If support for renewables wanes, it could negatively affect investment returns.\n",
            "\n",
            "3. **Technological Risks**: The renewable energy industry is rapidly evolving, and companies that fail to innovate or adapt to new technologies may become obsolete. This can lead to significant losses for investors.\n",
            "\n",
            "### Part 3: Advice on How to Mitigate These Risks\n",
            "\n",
            "1. **Diversification within the Sector**: By investing in a mix of renewable energy sources (solar, wind, biomass, etc.) and different geographic regions, investors can spread risk and reduce the impact of volatility in any single area.\n",
            "\n",
            "2. **Conducting Thorough Research**: Investors should stay informed about market trends, government policies, and technological advancements in the renewable energy sector. This knowledge can help investors make informed decisions and adapt their strategies as needed.\n",
            "\n",
            "3. **Investing in Established Funds or Companies**: Opting for well-established renewable energy funds or companies with a proven track record can help mitigate risks associated with market and technological volatility. These entities are often better equipped to handle regulatory\n"
          ]
        }
      ]
    },
    {
      "cell_type": "markdown",
      "source": [
        "## **5️⃣ Prompt Chaining \\& Multi-Turn Conversations**\n",
        "\n",
        "**Goal:** Maintain context over multiple conversational turns, where each turn builds on previous responses."
      ],
      "metadata": {
        "id": "4ZrSZmSuRXwF"
      }
    },
    {
      "cell_type": "code",
      "source": [
        "# Simulate multi-turn conversation by running prompts sequentially:\n",
        "\n",
        "# Turn 1: Ask for basic explanation\n",
        "turn1 = \"Explain blockchain technology in simple terms.\"\n",
        "\n",
        "response1 = ask_gpt(turn1)\n",
        "print(\"Turn 1 Response:\\n\", response1)\n",
        "\n",
        "# Turn 2: Ask for comparison based on previous answer\n",
        "turn2 = f\"\"\"Based on your previous explanation: \"{response1}\",\n",
        "explain how blockchain differs from traditional databases.\"\"\"\n",
        "\n",
        "response2 = ask_gpt(turn2)\n",
        "print(\"\\nTurn 2 Response:\\n\", response2)\n",
        "\n",
        "# Turn 3: Ask for real-world applications using previous info\n",
        "turn3 = f\"\"\"Given previous responses:\n",
        "1. {response1}\n",
        "2. {response2}\n",
        "List 3 industries that can benefit from blockchain and why.\n",
        "\"\"\"\n",
        "\n",
        "response3 = ask_gpt(turn3)\n",
        "print(\"\\nTurn 3 Response:\\n\", response3)"
      ],
      "metadata": {
        "colab": {
          "base_uri": "https://localhost:8080/"
        },
        "id": "BT3WP1HaRaG4",
        "outputId": "c1fa7e3b-8644-486e-80e3-0c0c06d2bcde"
      },
      "execution_count": 7,
      "outputs": [
        {
          "output_type": "stream",
          "name": "stdout",
          "text": [
            "Turn 1 Response:\n",
            " Sure! Blockchain technology is a way to securely record and share information across a network of computers. Here’s how it works in simple terms:\n",
            "\n",
            "1. **Digital Ledger**: Imagine a notebook that everyone can see and write in, but no one can erase anything. This notebook is called a \"ledger.\" In blockchain, the ledger is digital and shared among many computers.\n",
            "\n",
            "2. **Blocks**: Information is stored in \"blocks.\" Each block contains a list of transactions or data. Once a block is filled with information, it gets added to the chain of previous blocks, creating a \"blockchain.\"\n",
            "\n",
            "3. **Chain**: The blocks are linked together in chronological order, forming a chain. This makes it easy to see the history of all transactions.\n",
            "\n",
            "4. **Decentralization**: Instead of being stored in one central place, the blockchain is distributed across many computers (called nodes). This means no single person or organization controls it, making it more secure.\n",
            "\n",
            "5. **Security**: Each block is secured using cryptography, which means it’s really hard to change or tamper with the information once it’s added to the blockchain. This ensures trust and transparency among users.\n",
            "\n",
            "6. **Consensus**: Before a new block can be added, the computers in the network must agree that the information is valid. This agreement process is called \"consensus.\"\n",
            "\n",
            "In summary, blockchain technology is like a secure, digital notebook shared among many people, where everyone can see the information, but no one can change the past. It's used in various applications, like cryptocurrencies (like Bitcoin), supply chain tracking, and more!\n",
            "\n",
            "Turn 2 Response:\n",
            " Blockchain technology differs from traditional databases in several key ways. Here are the main distinctions:\n",
            "\n",
            "1. **Structure**:\n",
            "   - **Blockchain**: Information is organized in blocks that are linked together in a chronological chain. Once a block is added, it cannot be altered or deleted, ensuring a permanent and unchangeable record.\n",
            "   - **Traditional Databases**: Data is typically organized in tables where records can be easily modified, updated, or deleted. This flexibility allows for quick changes but can lead to issues with data integrity and history tracking.\n",
            "\n",
            "2. **Control**:\n",
            "   - **Blockchain**: It is decentralized, meaning it is not controlled by a single entity. Instead, the ledger is distributed across multiple nodes (computers) in the network, making it resistant to manipulation and providing transparency.\n",
            "   - **Traditional Databases**: Usually managed by a central authority or organization (like a database administrator), which has full control over the data. This centralization can lead to vulnerabilities and single points of failure.\n",
            "\n",
            "3. **Security**:\n",
            "   - **Blockchain**: Utilizes cryptographic techniques to secure data. Each block is linked and secured, making it extremely difficult to alter past records without consensus from the network. This enhances trust among users.\n",
            "   - **Traditional Databases**: While they can also employ security measures (like encryption and access controls), they are generally more susceptible to tampering, hacking, and unauthorized access, especially if the central authority is compromised.\n",
            "\n",
            "4. **Consensus Mechanism**:\n",
            "   - **Blockchain**: Before adding new data, the network of nodes must reach consensus to agree on its validity. This process can involve various methods (like Proof of Work or Proof of Stake) to ensure that only legitimate transactions are recorded.\n",
            "   - **Traditional Databases**: Changes can be made directly by users with the proper permissions, and updates often do not require a consensus process. This leads to faster transactions but may compromise accuracy if not managed correctly.\n",
            "\n",
            "5. **Transparency and Auditability**:\n",
            "   - **Blockchain**: Every participant in the network has access to the entire ledger, allowing for greater transparency. Transactions are publicly verifiable and can be audited easily, as the history is immutable.\n",
            "   - **Traditional Databases**: Access to data may be restricted to certain users, and while audit trails can be implemented, they can be manipulated by those in control of the database.\n",
            "\n",
            "6. **Performance and Scalability**:\n",
            "   - **Blockchain**:\n",
            "\n",
            "Turn 3 Response:\n",
            " Here are three industries that can benefit from blockchain technology and the reasons for its advantages:\n",
            "\n",
            "1. **Supply Chain Management**:\n",
            "   - **Transparency**: Blockchain provides a transparent and immutable record of every transaction in the supply chain, allowing all participants to track the movement of goods in real-time. This can help to verify the authenticity of products and reduce fraud.\n",
            "   - **Traceability**: In cases of recalls or quality issues, blockchain enables quick identification of the origin of products, making it easier to isolate and address problems.\n",
            "   - **Efficiency**: Smart contracts can automate various processes, reducing paperwork and the need for intermediaries, which can streamline operations and lower costs.\n",
            "\n",
            "2. **Finance and Banking**:\n",
            "   - **Security**: Blockchain’s cryptographic nature enhances security for financial transactions, reducing the risk of fraud and cyberattacks.\n",
            "   - **Lower Transaction Costs**: By eliminating intermediaries (like banks), blockchain can reduce transaction fees and speed up processing times for cross-border payments.\n",
            "   - **Financial Inclusion**: Blockchain can provide access to financial services for unbanked populations, enabling them to participate in the global economy through decentralized finance (DeFi) solutions.\n",
            "\n",
            "3. **Healthcare**:\n",
            "   - **Data Interoperability**: Blockchain can create a secure, shared database of patient records that is accessible by authorized healthcare providers, improving collaboration and continuity of care.\n",
            "   - **Patient Privacy**: Patients can control who has access to their medical data, enhancing privacy and security while still allowing for necessary data sharing among healthcare professionals.\n",
            "   - **Supply Chain Integrity**: Blockchain can be used to track pharmaceuticals through the supply chain, ensuring that drugs are legitimate and have not been tampered with, thereby combating counterfeit medications.\n",
            "\n",
            "These industries can leverage the unique properties of blockchain to enhance security, transparency, efficiency, and trust among stakeholders.\n"
          ]
        }
      ]
    },
    {
      "cell_type": "markdown",
      "source": [
        "# 💡 Tips for Students:\n",
        "\n",
        "- Experiment with your own prompts to see how outputs vary.\n",
        "- Compare responses when adding or removing instructions.\n",
        "- Try chaining more turns in the multi-turn conversation part.\n",
        "- Notice how stepwise reasoning improves clarity and accuracy."
      ],
      "metadata": {
        "id": "Oc0EbdU4Rb8d"
      }
    }
  ],
  "metadata": {
    "colab": {
      "name": "Welcome to Colab",
      "provenance": [],
      "include_colab_link": true
    },
    "kernelspec": {
      "display_name": "Python 3",
      "name": "python3"
    }
  },
  "nbformat": 4,
  "nbformat_minor": 0
}