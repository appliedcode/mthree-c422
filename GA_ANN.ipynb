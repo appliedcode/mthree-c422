{
  "cells": [
    {
      "cell_type": "markdown",
      "metadata": {
        "id": "view-in-github",
        "colab_type": "text"
      },
      "source": [
        "<a href=\"https://colab.research.google.com/github/appliedcode/mthree-c422/blob/mthree-c422-Avantika/GA_ANN.ipynb\" target=\"_parent\"><img src=\"https://colab.research.google.com/assets/colab-badge.svg\" alt=\"Open In Colab\"/></a>"
      ]
    },
    {
      "cell_type": "markdown",
      "source": [
        "1. Genetic Algorithm Lab: Solving the Maximum Ones Problem\n",
        "We'll use a simple genetic algorithm to maximize the number of \"1\"s in a binary string."
      ],
      "metadata": {
        "id": "nwTnsfMBE_IA"
      }
    },
    {
      "cell_type": "code",
      "source": [
        "# 1. Genetic Algorithm Lab: Solving the Maximum Ones Problem\n",
        "# We'll use a simple genetic algorithm to maximize the number of \"1\"s in a binary string.\n",
        "\n",
        "# Step 1: Imports and Parameters\n",
        "import numpy as np\n",
        "import random\n"
      ],
      "metadata": {
        "id": "Yy8jg1OgFCml"
      },
      "execution_count": 1,
      "outputs": []
    },
    {
      "cell_type": "code",
      "source": [
        "# Step 2: GA Functions\n",
        "def create_individual(length):\n",
        "    # Random binary individual\n",
        "    return np.random.randint(2, size=length)\n",
        "\n",
        "def fitness(individual):\n",
        "    # Objective: maximize number of 1s\n",
        "    return sum(individual)\n",
        "\n",
        "def mutate(individual, mutation_rate=0.01):\n",
        "    for i in range(len(individual)):\n",
        "        if random.random() < mutation_rate:\n",
        "            individual[i] = 1 - individual[i]\n",
        "    return individual\n",
        "\n",
        "def crossover(parent1, parent2):\n",
        "    point = random.randint(1, len(parent1)-1)\n",
        "    child1 = np.concatenate([parent1[:point], parent2[point:]])\n",
        "    child2 = np.concatenate([parent2[:point], parent1[point:]])\n",
        "    return child1, child2\n"
      ],
      "metadata": {
        "id": "GMXn0UuLFMig"
      },
      "execution_count": 2,
      "outputs": []
    },
    {
      "cell_type": "code",
      "source": [],
      "metadata": {
        "id": "m2DO1u0FHXoa"
      },
      "execution_count": null,
      "outputs": []
    },
    {
      "cell_type": "code",
      "source": [
        "def genetic_algorithm(population_size=10, chromosome_length=8, generations=20, mutation_rate=0.01):\n",
        "    print(\"hellow\")\n",
        "    population = [create_individual(chromosome_length) for _ in range(population_size)]\n",
        "\n",
        "    for g in range(generations):\n",
        "        scored = sorted(\n",
        "            [(fitness(ind), ind) for ind in population],\n",
        "            key=lambda pair: pair[0],\n",
        "            reverse=True\n",
        "        )\n",
        "        print(f\"Gen {g} | Best: {scored[0][0]} | Avg: {np.mean([f for f,_ in scored])}\")\n",
        "\n",
        "        next_gen = [scored[0][1], scored[1][1]]  # Elite selection\n",
        "\n",
        "        while len(next_gen) < population_size:\n",
        "            parents = random.sample(scored[:5], 2)\n",
        "            c1, c2 = crossover(parents[0][1], parents[1][1])\n",
        "            next_gen.append(mutate(c1.copy(), mutation_rate))\n",
        "            if len(next_gen) < population_size:\n",
        "                next_gen.append(mutate(c2.copy(), mutation_rate))\n",
        "\n",
        "        population = next_gen\n",
        "\n",
        "    print(\"Best individual:\", scored[0][1], \"with fitness:\", scored[0][0])\n",
        "genetic_algorithm()"
      ],
      "metadata": {
        "id": "4NzKNOofFTRg",
        "outputId": "e23bde7e-d477-4c12-fbc8-4941673c25a3",
        "colab": {
          "base_uri": "https://localhost:8080/"
        }
      },
      "execution_count": 3,
      "outputs": [
        {
          "output_type": "stream",
          "name": "stdout",
          "text": [
            "hellow\n",
            "Gen 0 | Best: 6 | Avg: 4.1\n",
            "Gen 1 | Best: 7 | Avg: 5.5\n",
            "Gen 2 | Best: 7 | Avg: 6.2\n",
            "Gen 3 | Best: 7 | Avg: 6.7\n",
            "Gen 4 | Best: 7 | Avg: 6.7\n",
            "Gen 5 | Best: 7 | Avg: 7.0\n",
            "Gen 6 | Best: 7 | Avg: 7.0\n",
            "Gen 7 | Best: 7 | Avg: 6.9\n",
            "Gen 8 | Best: 7 | Avg: 7.0\n",
            "Gen 9 | Best: 7 | Avg: 6.8\n",
            "Gen 10 | Best: 7 | Avg: 7.0\n",
            "Gen 11 | Best: 7 | Avg: 6.9\n",
            "Gen 12 | Best: 7 | Avg: 7.0\n",
            "Gen 13 | Best: 8 | Avg: 7.1\n",
            "Gen 14 | Best: 8 | Avg: 7.2\n",
            "Gen 15 | Best: 8 | Avg: 7.6\n",
            "Gen 16 | Best: 8 | Avg: 7.9\n",
            "Gen 17 | Best: 8 | Avg: 8.0\n",
            "Gen 18 | Best: 8 | Avg: 8.0\n",
            "Gen 19 | Best: 8 | Avg: 8.0\n",
            "Best individual: [1 1 1 1 1 1 1 1] with fitness: 8\n"
          ]
        }
      ]
    },
    {
      "cell_type": "markdown",
      "source": [
        "## Extension:\n",
        "- Try increasing chromosome_length or population_size.\n",
        "\n",
        "- Modify the fitness function to solve other problems (e.g., string matching)."
      ],
      "metadata": {
        "id": "f-UQpafRFWzI"
      }
    },
    {
      "cell_type": "code",
      "source": [
        "# 2. Artificial Neural Network Lab: Iris Dataset Classification\n",
        "# We'll use TensorFlow/Keras to build and train a simple neural network to classify iris species based on flower measurements.\n",
        "\n",
        "# Step 1: Imports\n",
        "import numpy as np\n",
        "import pandas as pd\n",
        "from sklearn.datasets import load_iris\n",
        "from sklearn.model_selection import train_test_split\n",
        "from sklearn.preprocessing import StandardScaler\n",
        "import tensorflow as tf\n",
        "from tensorflow import keras\n"
      ],
      "metadata": {
        "id": "fEanWCxbFq6U"
      },
      "execution_count": 4,
      "outputs": []
    },
    {
      "cell_type": "code",
      "source": [
        "# Step 2: Data Preparation\n",
        "# Load data and prepare splits\n",
        "iris = load_iris()\n",
        "X = iris.data\n",
        "y = iris.target\n",
        "\n",
        "scaler = StandardScaler()\n",
        "X_scaled = scaler.fit_transform(X)\n",
        "\n",
        "X_train, X_test, y_train, y_test = train_test_split(X_scaled, y, test_size=0.25, random_state=42)\n"
      ],
      "metadata": {
        "id": "qhG1yKgIFyM5"
      },
      "execution_count": 5,
      "outputs": []
    },
    {
      "cell_type": "code",
      "source": [
        "# Step 3: Build and Train the Neural Network\n",
        "model = keras.Sequential([\n",
        "    keras.layers.Dense(8, activation='relu', input_shape=(4,)),\n",
        "    keras.layers.Dense(6, activation='relu'),\n",
        "    keras.layers.Dense(3, activation='softmax') # 3 classes\n",
        "])\n",
        "\n",
        "model.compile(optimizer='adam',\n",
        "              loss='sparse_categorical_crossentropy',\n",
        "              metrics=['accuracy'])\n",
        "\n",
        "history = model.fit(X_train, y_train, epochs=50, validation_data=(X_test, y_test))\n"
      ],
      "metadata": {
        "id": "FRSlJtIwF42y",
        "outputId": "3d71f205-d5f7-4ff1-d9c1-2a0041aea410",
        "colab": {
          "base_uri": "https://localhost:8080/"
        }
      },
      "execution_count": 6,
      "outputs": [
        {
          "output_type": "stream",
          "name": "stdout",
          "text": [
            "Epoch 1/50\n"
          ]
        },
        {
          "output_type": "stream",
          "name": "stderr",
          "text": [
            "/usr/local/lib/python3.11/dist-packages/keras/src/layers/core/dense.py:87: UserWarning: Do not pass an `input_shape`/`input_dim` argument to a layer. When using Sequential models, prefer using an `Input(shape)` object as the first layer in the model instead.\n",
            "  super().__init__(activity_regularizer=activity_regularizer, **kwargs)\n"
          ]
        },
        {
          "output_type": "stream",
          "name": "stdout",
          "text": [
            "\u001b[1m4/4\u001b[0m \u001b[32m━━━━━━━━━━━━━━━━━━━━\u001b[0m\u001b[37m\u001b[0m \u001b[1m2s\u001b[0m 119ms/step - accuracy: 0.2176 - loss: 1.2745 - val_accuracy: 0.1579 - val_loss: 1.3022\n",
            "Epoch 2/50\n",
            "\u001b[1m4/4\u001b[0m \u001b[32m━━━━━━━━━━━━━━━━━━━━\u001b[0m\u001b[37m\u001b[0m \u001b[1m0s\u001b[0m 49ms/step - accuracy: 0.2472 - loss: 1.2291 - val_accuracy: 0.1579 - val_loss: 1.2720\n",
            "Epoch 3/50\n",
            "\u001b[1m4/4\u001b[0m \u001b[32m━━━━━━━━━━━━━━━━━━━━\u001b[0m\u001b[37m\u001b[0m \u001b[1m0s\u001b[0m 45ms/step - accuracy: 0.1988 - loss: 1.2342 - val_accuracy: 0.1316 - val_loss: 1.2434\n",
            "Epoch 4/50\n",
            "\u001b[1m4/4\u001b[0m \u001b[32m━━━━━━━━━━━━━━━━━━━━\u001b[0m\u001b[37m\u001b[0m \u001b[1m0s\u001b[0m 36ms/step - accuracy: 0.2119 - loss: 1.1933 - val_accuracy: 0.1316 - val_loss: 1.2174\n",
            "Epoch 5/50\n",
            "\u001b[1m4/4\u001b[0m \u001b[32m━━━━━━━━━━━━━━━━━━━━\u001b[0m\u001b[37m\u001b[0m \u001b[1m0s\u001b[0m 38ms/step - accuracy: 0.2375 - loss: 1.1587 - val_accuracy: 0.1053 - val_loss: 1.1932\n",
            "Epoch 6/50\n",
            "\u001b[1m4/4\u001b[0m \u001b[32m━━━━━━━━━━━━━━━━━━━━\u001b[0m\u001b[37m\u001b[0m \u001b[1m0s\u001b[0m 24ms/step - accuracy: 0.2747 - loss: 1.1502 - val_accuracy: 0.2105 - val_loss: 1.1701\n",
            "Epoch 7/50\n",
            "\u001b[1m4/4\u001b[0m \u001b[32m━━━━━━━━━━━━━━━━━━━━\u001b[0m\u001b[37m\u001b[0m \u001b[1m0s\u001b[0m 22ms/step - accuracy: 0.3098 - loss: 1.1451 - val_accuracy: 0.1842 - val_loss: 1.1481\n",
            "Epoch 8/50\n",
            "\u001b[1m4/4\u001b[0m \u001b[32m━━━━━━━━━━━━━━━━━━━━\u001b[0m\u001b[37m\u001b[0m \u001b[1m0s\u001b[0m 23ms/step - accuracy: 0.3731 - loss: 1.1187 - val_accuracy: 0.2895 - val_loss: 1.1274\n",
            "Epoch 9/50\n",
            "\u001b[1m4/4\u001b[0m \u001b[32m━━━━━━━━━━━━━━━━━━━━\u001b[0m\u001b[37m\u001b[0m \u001b[1m0s\u001b[0m 23ms/step - accuracy: 0.3571 - loss: 1.1124 - val_accuracy: 0.3684 - val_loss: 1.1076\n",
            "Epoch 10/50\n",
            "\u001b[1m4/4\u001b[0m \u001b[32m━━━━━━━━━━━━━━━━━━━━\u001b[0m\u001b[37m\u001b[0m \u001b[1m0s\u001b[0m 23ms/step - accuracy: 0.3970 - loss: 1.0881 - val_accuracy: 0.4474 - val_loss: 1.0883\n",
            "Epoch 11/50\n",
            "\u001b[1m4/4\u001b[0m \u001b[32m━━━━━━━━━━━━━━━━━━━━\u001b[0m\u001b[37m\u001b[0m \u001b[1m0s\u001b[0m 25ms/step - accuracy: 0.4577 - loss: 1.0697 - val_accuracy: 0.4474 - val_loss: 1.0696\n",
            "Epoch 12/50\n",
            "\u001b[1m4/4\u001b[0m \u001b[32m━━━━━━━━━━━━━━━━━━━━\u001b[0m\u001b[37m\u001b[0m \u001b[1m0s\u001b[0m 24ms/step - accuracy: 0.4238 - loss: 1.0587 - val_accuracy: 0.4737 - val_loss: 1.0513\n",
            "Epoch 13/50\n",
            "\u001b[1m4/4\u001b[0m \u001b[32m━━━━━━━━━━━━━━━━━━━━\u001b[0m\u001b[37m\u001b[0m \u001b[1m0s\u001b[0m 23ms/step - accuracy: 0.4019 - loss: 1.0424 - val_accuracy: 0.4737 - val_loss: 1.0334\n",
            "Epoch 14/50\n",
            "\u001b[1m4/4\u001b[0m \u001b[32m━━━━━━━━━━━━━━━━━━━━\u001b[0m\u001b[37m\u001b[0m \u001b[1m0s\u001b[0m 23ms/step - accuracy: 0.4643 - loss: 1.0183 - val_accuracy: 0.4474 - val_loss: 1.0165\n",
            "Epoch 15/50\n",
            "\u001b[1m4/4\u001b[0m \u001b[32m━━━━━━━━━━━━━━━━━━━━\u001b[0m\u001b[37m\u001b[0m \u001b[1m0s\u001b[0m 23ms/step - accuracy: 0.4985 - loss: 1.0075 - val_accuracy: 0.4474 - val_loss: 0.9994\n",
            "Epoch 16/50\n",
            "\u001b[1m4/4\u001b[0m \u001b[32m━━━━━━━━━━━━━━━━━━━━\u001b[0m\u001b[37m\u001b[0m \u001b[1m0s\u001b[0m 25ms/step - accuracy: 0.4586 - loss: 0.9936 - val_accuracy: 0.5000 - val_loss: 0.9823\n",
            "Epoch 17/50\n",
            "\u001b[1m4/4\u001b[0m \u001b[32m━━━━━━━━━━━━━━━━━━━━\u001b[0m\u001b[37m\u001b[0m \u001b[1m0s\u001b[0m 23ms/step - accuracy: 0.4701 - loss: 0.9826 - val_accuracy: 0.5000 - val_loss: 0.9655\n",
            "Epoch 18/50\n",
            "\u001b[1m4/4\u001b[0m \u001b[32m━━━━━━━━━━━━━━━━━━━━\u001b[0m\u001b[37m\u001b[0m \u001b[1m0s\u001b[0m 23ms/step - accuracy: 0.4693 - loss: 0.9645 - val_accuracy: 0.4737 - val_loss: 0.9486\n",
            "Epoch 19/50\n",
            "\u001b[1m4/4\u001b[0m \u001b[32m━━━━━━━━━━━━━━━━━━━━\u001b[0m\u001b[37m\u001b[0m \u001b[1m0s\u001b[0m 24ms/step - accuracy: 0.5442 - loss: 0.9427 - val_accuracy: 0.4737 - val_loss: 0.9320\n",
            "Epoch 20/50\n",
            "\u001b[1m4/4\u001b[0m \u001b[32m━━━━━━━━━━━━━━━━━━━━\u001b[0m\u001b[37m\u001b[0m \u001b[1m0s\u001b[0m 23ms/step - accuracy: 0.4775 - loss: 0.9344 - val_accuracy: 0.5263 - val_loss: 0.9153\n",
            "Epoch 21/50\n",
            "\u001b[1m4/4\u001b[0m \u001b[32m━━━━━━━━━━━━━━━━━━━━\u001b[0m\u001b[37m\u001b[0m \u001b[1m0s\u001b[0m 24ms/step - accuracy: 0.5143 - loss: 0.9243 - val_accuracy: 0.5789 - val_loss: 0.8987\n",
            "Epoch 22/50\n",
            "\u001b[1m4/4\u001b[0m \u001b[32m━━━━━━━━━━━━━━━━━━━━\u001b[0m\u001b[37m\u001b[0m \u001b[1m0s\u001b[0m 23ms/step - accuracy: 0.5360 - loss: 0.9069 - val_accuracy: 0.6316 - val_loss: 0.8825\n",
            "Epoch 23/50\n",
            "\u001b[1m4/4\u001b[0m \u001b[32m━━━━━━━━━━━━━━━━━━━━\u001b[0m\u001b[37m\u001b[0m \u001b[1m0s\u001b[0m 24ms/step - accuracy: 0.5738 - loss: 0.8953 - val_accuracy: 0.6316 - val_loss: 0.8667\n",
            "Epoch 24/50\n",
            "\u001b[1m4/4\u001b[0m \u001b[32m━━━━━━━━━━━━━━━━━━━━\u001b[0m\u001b[37m\u001b[0m \u001b[1m0s\u001b[0m 23ms/step - accuracy: 0.6146 - loss: 0.8781 - val_accuracy: 0.6842 - val_loss: 0.8509\n",
            "Epoch 25/50\n",
            "\u001b[1m4/4\u001b[0m \u001b[32m━━━━━━━━━━━━━━━━━━━━\u001b[0m\u001b[37m\u001b[0m \u001b[1m0s\u001b[0m 23ms/step - accuracy: 0.6513 - loss: 0.8636 - val_accuracy: 0.7368 - val_loss: 0.8352\n",
            "Epoch 26/50\n",
            "\u001b[1m4/4\u001b[0m \u001b[32m━━━━━━━━━━━━━━━━━━━━\u001b[0m\u001b[37m\u001b[0m \u001b[1m0s\u001b[0m 23ms/step - accuracy: 0.6859 - loss: 0.8581 - val_accuracy: 0.7632 - val_loss: 0.8197\n",
            "Epoch 27/50\n",
            "\u001b[1m4/4\u001b[0m \u001b[32m━━━━━━━━━━━━━━━━━━━━\u001b[0m\u001b[37m\u001b[0m \u001b[1m0s\u001b[0m 24ms/step - accuracy: 0.7310 - loss: 0.8373 - val_accuracy: 0.8158 - val_loss: 0.8039\n",
            "Epoch 28/50\n",
            "\u001b[1m4/4\u001b[0m \u001b[32m━━━━━━━━━━━━━━━━━━━━\u001b[0m\u001b[37m\u001b[0m \u001b[1m0s\u001b[0m 23ms/step - accuracy: 0.7412 - loss: 0.8263 - val_accuracy: 0.8158 - val_loss: 0.7886\n",
            "Epoch 29/50\n",
            "\u001b[1m4/4\u001b[0m \u001b[32m━━━━━━━━━━━━━━━━━━━━\u001b[0m\u001b[37m\u001b[0m \u001b[1m0s\u001b[0m 36ms/step - accuracy: 0.7830 - loss: 0.8108 - val_accuracy: 0.8158 - val_loss: 0.7734\n",
            "Epoch 30/50\n",
            "\u001b[1m4/4\u001b[0m \u001b[32m━━━━━━━━━━━━━━━━━━━━\u001b[0m\u001b[37m\u001b[0m \u001b[1m0s\u001b[0m 23ms/step - accuracy: 0.8028 - loss: 0.7867 - val_accuracy: 0.8421 - val_loss: 0.7584\n",
            "Epoch 31/50\n",
            "\u001b[1m4/4\u001b[0m \u001b[32m━━━━━━━━━━━━━━━━━━━━\u001b[0m\u001b[37m\u001b[0m \u001b[1m0s\u001b[0m 23ms/step - accuracy: 0.7835 - loss: 0.7822 - val_accuracy: 0.8421 - val_loss: 0.7436\n",
            "Epoch 32/50\n",
            "\u001b[1m4/4\u001b[0m \u001b[32m━━━━━━━━━━━━━━━━━━━━\u001b[0m\u001b[37m\u001b[0m \u001b[1m0s\u001b[0m 24ms/step - accuracy: 0.8173 - loss: 0.7723 - val_accuracy: 0.8421 - val_loss: 0.7292\n",
            "Epoch 33/50\n",
            "\u001b[1m4/4\u001b[0m \u001b[32m━━━━━━━━━━━━━━━━━━━━\u001b[0m\u001b[37m\u001b[0m \u001b[1m0s\u001b[0m 24ms/step - accuracy: 0.7829 - loss: 0.7651 - val_accuracy: 0.8421 - val_loss: 0.7146\n",
            "Epoch 34/50\n",
            "\u001b[1m4/4\u001b[0m \u001b[32m━━━━━━━━━━━━━━━━━━━━\u001b[0m\u001b[37m\u001b[0m \u001b[1m0s\u001b[0m 23ms/step - accuracy: 0.8287 - loss: 0.7393 - val_accuracy: 0.8421 - val_loss: 0.7004\n",
            "Epoch 35/50\n",
            "\u001b[1m4/4\u001b[0m \u001b[32m━━━━━━━━━━━━━━━━━━━━\u001b[0m\u001b[37m\u001b[0m \u001b[1m0s\u001b[0m 26ms/step - accuracy: 0.8121 - loss: 0.7374 - val_accuracy: 0.8421 - val_loss: 0.6862\n",
            "Epoch 36/50\n",
            "\u001b[1m4/4\u001b[0m \u001b[32m━━━━━━━━━━━━━━━━━━━━\u001b[0m\u001b[37m\u001b[0m \u001b[1m0s\u001b[0m 24ms/step - accuracy: 0.7923 - loss: 0.7229 - val_accuracy: 0.8421 - val_loss: 0.6720\n",
            "Epoch 37/50\n",
            "\u001b[1m4/4\u001b[0m \u001b[32m━━━━━━━━━━━━━━━━━━━━\u001b[0m\u001b[37m\u001b[0m \u001b[1m0s\u001b[0m 23ms/step - accuracy: 0.8308 - loss: 0.6925 - val_accuracy: 0.8421 - val_loss: 0.6583\n",
            "Epoch 38/50\n",
            "\u001b[1m4/4\u001b[0m \u001b[32m━━━━━━━━━━━━━━━━━━━━\u001b[0m\u001b[37m\u001b[0m \u001b[1m0s\u001b[0m 28ms/step - accuracy: 0.7923 - loss: 0.6946 - val_accuracy: 0.8421 - val_loss: 0.6449\n",
            "Epoch 39/50\n",
            "\u001b[1m4/4\u001b[0m \u001b[32m━━━━━━━━━━━━━━━━━━━━\u001b[0m\u001b[37m\u001b[0m \u001b[1m0s\u001b[0m 23ms/step - accuracy: 0.7829 - loss: 0.6936 - val_accuracy: 0.8421 - val_loss: 0.6319\n",
            "Epoch 40/50\n",
            "\u001b[1m4/4\u001b[0m \u001b[32m━━━━━━━━━━━━━━━━━━━━\u001b[0m\u001b[37m\u001b[0m \u001b[1m0s\u001b[0m 36ms/step - accuracy: 0.8188 - loss: 0.6658 - val_accuracy: 0.8421 - val_loss: 0.6192\n",
            "Epoch 41/50\n",
            "\u001b[1m4/4\u001b[0m \u001b[32m━━━━━━━━━━━━━━━━━━━━\u001b[0m\u001b[37m\u001b[0m \u001b[1m0s\u001b[0m 26ms/step - accuracy: 0.8104 - loss: 0.6636 - val_accuracy: 0.8421 - val_loss: 0.6069\n",
            "Epoch 42/50\n",
            "\u001b[1m4/4\u001b[0m \u001b[32m━━━━━━━━━━━━━━━━━━━━\u001b[0m\u001b[37m\u001b[0m \u001b[1m0s\u001b[0m 24ms/step - accuracy: 0.7906 - loss: 0.6554 - val_accuracy: 0.8421 - val_loss: 0.5948\n",
            "Epoch 43/50\n",
            "\u001b[1m4/4\u001b[0m \u001b[32m━━━━━━━━━━━━━━━━━━━━\u001b[0m\u001b[37m\u001b[0m \u001b[1m0s\u001b[0m 25ms/step - accuracy: 0.8167 - loss: 0.6307 - val_accuracy: 0.8421 - val_loss: 0.5829\n",
            "Epoch 44/50\n",
            "\u001b[1m4/4\u001b[0m \u001b[32m━━━━━━━━━━━━━━━━━━━━\u001b[0m\u001b[37m\u001b[0m \u001b[1m0s\u001b[0m 25ms/step - accuracy: 0.8354 - loss: 0.6188 - val_accuracy: 0.8421 - val_loss: 0.5713\n",
            "Epoch 45/50\n",
            "\u001b[1m4/4\u001b[0m \u001b[32m━━━━━━━━━━━━━━━━━━━━\u001b[0m\u001b[37m\u001b[0m \u001b[1m0s\u001b[0m 25ms/step - accuracy: 0.7885 - loss: 0.6261 - val_accuracy: 0.8421 - val_loss: 0.5601\n",
            "Epoch 46/50\n",
            "\u001b[1m4/4\u001b[0m \u001b[32m━━━━━━━━━━━━━━━━━━━━\u001b[0m\u001b[37m\u001b[0m \u001b[1m0s\u001b[0m 27ms/step - accuracy: 0.8365 - loss: 0.5884 - val_accuracy: 0.8421 - val_loss: 0.5490\n",
            "Epoch 47/50\n",
            "\u001b[1m4/4\u001b[0m \u001b[32m━━━━━━━━━━━━━━━━━━━━\u001b[0m\u001b[37m\u001b[0m \u001b[1m0s\u001b[0m 24ms/step - accuracy: 0.8390 - loss: 0.5784 - val_accuracy: 0.8421 - val_loss: 0.5381\n",
            "Epoch 48/50\n",
            "\u001b[1m4/4\u001b[0m \u001b[32m━━━━━━━━━━━━━━━━━━━━\u001b[0m\u001b[37m\u001b[0m \u001b[1m0s\u001b[0m 25ms/step - accuracy: 0.8077 - loss: 0.5927 - val_accuracy: 0.8421 - val_loss: 0.5275\n",
            "Epoch 49/50\n",
            "\u001b[1m4/4\u001b[0m \u001b[32m━━━━━━━━━━━━━━━━━━━━\u001b[0m\u001b[37m\u001b[0m \u001b[1m0s\u001b[0m 25ms/step - accuracy: 0.8015 - loss: 0.5727 - val_accuracy: 0.8421 - val_loss: 0.5174\n",
            "Epoch 50/50\n",
            "\u001b[1m4/4\u001b[0m \u001b[32m━━━━━━━━━━━━━━━━━━━━\u001b[0m\u001b[37m\u001b[0m \u001b[1m0s\u001b[0m 23ms/step - accuracy: 0.8036 - loss: 0.5750 - val_accuracy: 0.8421 - val_loss: 0.5076\n"
          ]
        }
      ]
    },
    {
      "cell_type": "code",
      "source": [
        "# Step 4: Evaluate and Visualize Results\n",
        "test_loss, test_acc = model.evaluate(X_test, y_test)\n",
        "print('\\nTest accuracy:', test_acc)\n",
        "\n",
        "import matplotlib.pyplot as plt\n",
        "plt.plot(history.history['accuracy'], label='Train Acc')\n",
        "plt.plot(history.history['val_accuracy'], label='Val Acc')\n",
        "plt.xlabel('Epoch')\n",
        "plt.ylabel('Accuracy')\n",
        "plt.legend()\n",
        "plt.title('Accuracy Over Epochs')\n",
        "plt.show()"
      ],
      "metadata": {
        "id": "wKT_Ri7EF_bl",
        "outputId": "a3c8bf89-e26a-460a-88ec-8940672274e6",
        "colab": {
          "base_uri": "https://localhost:8080/",
          "height": 524
        }
      },
      "execution_count": 7,
      "outputs": [
        {
          "output_type": "stream",
          "name": "stdout",
          "text": [
            "\u001b[1m2/2\u001b[0m \u001b[32m━━━━━━━━━━━━━━━━━━━━\u001b[0m\u001b[37m\u001b[0m \u001b[1m0s\u001b[0m 32ms/step - accuracy: 0.8531 - loss: 0.5012\n",
            "\n",
            "Test accuracy: 0.8421052694320679\n"
          ]
        },
        {
          "output_type": "display_data",
          "data": {
            "text/plain": [
              "<Figure size 640x480 with 1 Axes>"
            ],
            "image/png": "[encoded data removed]"
          },
          "metadata": {}
        }
      ]
    },
    {
      "cell_type": "markdown",
      "source": [
        "### Extension and Discussion:\n",
        "- Experiment with more or fewer layers/neurons, different activation functions.\n",
        "\n",
        "- Visualize the loss curve: plt.plot(history.history['loss'])\n",
        "\n",
        "- Try predicting the species of a new iris measurement by:\n",
        "  ```python\n",
        "  example = scaler.transform([[5.1, 3.5, 1.4, 0.2]])\n",
        "print(model.predict(example))\n",
        "```"
      ],
      "metadata": {
        "id": "zL-ijUGsGP4x"
      }
    }
  ],
  "metadata": {
    "colab": {
      "toc_visible": true,
      "provenance": [],
      "include_colab_link": true
    },
    "kernelspec": {
      "display_name": "Python 3",
      "name": "python3"
    }
  },
  "nbformat": 4,
  "nbformat_minor": 0
}