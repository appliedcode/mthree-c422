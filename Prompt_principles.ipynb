{
  "nbformat": 4,
  "nbformat_minor": 0,
  "metadata": {
    "colab": {
      "provenance": [],
      "authorship_tag": "ABX9TyMFYfxdgQ0q++Dji1n5saqP",
      "include_colab_link": true
    },
    "kernelspec": {
      "name": "python3",
      "display_name": "Python 3"
    },
    "language_info": {
      "name": "python"
    }
  },
  "cells": [
    {
      "cell_type": "markdown",
      "metadata": {
        "id": "view-in-github",
        "colab_type": "text"
      },
      "source": [
        "<a href=\"https://colab.research.google.com/github/appliedcode/mthree-c422/blob/mthree-c422-Prashanth/Prompt_principles.ipynb\" target=\"_parent\"><img src=\"https://colab.research.google.com/assets/colab-badge.svg\" alt=\"Open In Colab\"/></a>"
      ]
    },
    {
      "cell_type": "code",
      "execution_count": 5,
      "metadata": {
        "colab": {
          "base_uri": "https://localhost:8080/"
        },
        "id": "L4c2qOSTKZ1E",
        "outputId": "96ab6f44-b5a7-48fa-879e-65a03df34a28"
      },
      "outputs": [
        {
          "output_type": "stream",
          "name": "stdout",
          "text": [
            "✅ OpenAI API key loaded safely\n"
          ]
        }
      ],
      "source": [
        "# Setup\n",
        "# Install OpenAI SDK\n",
        "!pip install openai -q\n",
        "from google.colab import userdata\n",
        "import os\n",
        "\n",
        "openai_api_key = userdata.get(\"OPENAI_API_KEY\")\n",
        "if openai_api_key:\n",
        "    os.environ[\"OPENAI_API_KEY\"] = openai_api_key\n",
        "    print(\"✅ OpenAI API key loaded safely\")\n",
        "else:\n",
        "    print(\"❌ OpenAI API key not found. Please set it using Colab Secrets.\")"
      ]
    },
    {
      "cell_type": "code",
      "source": [
        "from openai import OpenAI\n",
        "client = OpenAI(api_key=os.environ[\"OPENAI_API_KEY\"])  # Replace with your API key\n",
        "\n",
        "def ask_gpt(prompt, temp=0.7, max_tokens=500):\n",
        "    \"\"\"Send a prompt to GPT-4o-mini and return the output\"\"\"\n",
        "    response = client.chat.completions.create(\n",
        "        model=\"gpt-4o-mini\",\n",
        "        messages=[{\"role\": \"user\", \"content\": prompt}],\n",
        "        temperature=temp,\n",
        "        max_tokens=max_tokens\n",
        "    )\n",
        "    return response.choices[0].message.content"
      ],
      "metadata": {
        "id": "NrvGIDuyRZME"
      },
      "execution_count": 7,
      "outputs": []
    },
    {
      "cell_type": "code",
      "source": [
        "prompt = \"Write a 50-word friendly welcome message for first-year university students in an encouraging tone.\"\n",
        "print(ask_gpt(prompt))"
      ],
      "metadata": {
        "id": "hAbFza9lRaui",
        "colab": {
          "base_uri": "https://localhost:8080/"
        },
        "outputId": "9644597f-1d10-4bc0-a079-80b2b642b746"
      },
      "execution_count": 8,
      "outputs": [
        {
          "output_type": "stream",
          "name": "stdout",
          "text": [
            "Welcome, first-year students! 🎉 We’re thrilled to have you join our vibrant community! Embrace new challenges, make lasting friendships, and explore your passions. Remember, every journey begins with a single step. Stay curious, ask questions, and enjoy every moment. Here’s to an exciting year ahead—let’s make it unforgettable together!\n"
          ]
        }
      ]
    },
    {
      "cell_type": "code",
      "source": [
        "# TODO: Your prompt here\n",
        "vague_prompt = \"Write about climate change\"\n",
        "clear_prompt = \"Explain climate change causes to high school students in a simple, positive tone, in 3 short sentences.\"\n",
        "\n",
        "print(\"Vague Output:\\n\", ask_gpt(vague_prompt))\n",
        "print(\"\\nClear Output:\\n\", ask_gpt(clear_prompt))\n",
        ""
      ],
      "metadata": {
        "colab": {
          "base_uri": "https://localhost:8080/"
        },
        "id": "B8YyqI8xSE1f",
        "outputId": "f6868ca4-f64b-4b36-e42a-045e09cf1688"
      },
      "execution_count": 9,
      "outputs": [
        {
          "output_type": "stream",
          "name": "stdout",
          "text": [
            "Vague Output:\n",
            " Climate change refers to significant and lasting changes in the Earth's climate, primarily driven by human activities, notably the burning of fossil fuels, deforestation, and industrial processes. These activities release greenhouse gases (GHGs) such as carbon dioxide (CO2), methane (CH4), and nitrous oxide (N2O) into the atmosphere, creating a greenhouse effect that traps heat.\n",
            "\n",
            "### Causes of Climate Change\n",
            "\n",
            "1. **Fossil Fuel Combustion**: The burning of coal, oil, and natural gas for energy and transportation is the largest source of GHG emissions. Power plants, vehicles, and industrial processes contribute significantly to CO2 levels.\n",
            "\n",
            "2. **Deforestation**: Trees absorb CO2, and when forests are cleared for agriculture, urban development, or logging, not only is this carbon storage capacity lost, but the act of cutting and burning trees also releases stored carbon back into the atmosphere.\n",
            "\n",
            "3. **Agricultural Practices**: Agriculture contributes to climate change through methane emissions from livestock and rice paddies, as well as nitrous oxide emissions from fertilized soils.\n",
            "\n",
            "4. **Industrial Processes**: Certain industrial activities release potent greenhouse gases, including fluorinated gases used in refrigeration and air conditioning.\n",
            "\n",
            "### Effects of Climate Change\n",
            "\n",
            "1. **Rising Temperatures**: Global average temperatures have increased significantly since the late 19th century, leading to more frequent and severe heatwaves.\n",
            "\n",
            "2. **Melting Ice and Rising Sea Levels**: Polar ice caps and glaciers are melting, contributing to rising sea levels, which threaten coastal communities and ecosystems.\n",
            "\n",
            "3. **Extreme Weather Events**: Climate change is linked to an increase in the frequency and intensity of extreme weather events such as hurricanes, floods, droughts, and wildfires.\n",
            "\n",
            "4. **Ecosystem Disruption**: Altered weather patterns can disrupt ecosystems, leading to species migration, habitat loss, and increased extinction risk for vulnerable species.\n",
            "\n",
            "5. **Human Health Risks**: Climate change poses direct and indirect health risks, including heat-related illnesses, respiratory issues from poor air quality, and the spread of vector-borne diseases like malaria and dengue fever.\n",
            "\n",
            "6. **Food Security**: Changing climate conditions can affect crop yields, threaten food supply chains, and exacerbate hunger and malnutrition, particularly in vulnerable regions.\n",
            "\n",
            "### Mitigation and Adaptation Strategies\n",
            "\n",
            "1. **Reducing Emissions**: Transitioning to renewable energy sources such as solar, wind, and hydroelectric power, increasing energy efficiency\n",
            "\n",
            "Clear Output:\n",
            " Climate change happens mainly because of human activities, like burning fossil fuels for energy and cutting down forests, which release greenhouse gases into the atmosphere. These gases trap heat from the sun, causing temperatures to rise and affecting our weather patterns. By using clean energy, conserving resources, and protecting nature, we can work together to create a healthier planet for ourselves and future generations!\n"
          ]
        }
      ]
    },
    {
      "cell_type": "code",
      "source": [
        "prompt = \"\"\"\n",
        "List 3 benefits of learning Python.\n",
        "Format the output as a markdown table with columns: 'Benefit' and 'Description'.\n",
        "\"\"\"\n",
        "print(ask_gpt(prompt))"
      ],
      "metadata": {
        "colab": {
          "base_uri": "https://localhost:8080/"
        },
        "id": "nLouERWvSMG7",
        "outputId": "7f9562fb-c3bf-4553-d8be-39224e4233d9"
      },
      "execution_count": 10,
      "outputs": [
        {
          "output_type": "stream",
          "name": "stdout",
          "text": [
            "Here’s a markdown table outlining three benefits of learning Python:\n",
            "\n",
            "| Benefit                | Description                                                                                     |\n",
            "|-----------------------|-------------------------------------------------------------------------------------------------|\n",
            "| Easy to Learn         | Python has a simple syntax that is easy to understand, making it accessible for beginners.     |\n",
            "| Versatile Applications | Python is used in various fields, including web development, data analysis, artificial intelligence, and automation. |\n",
            "| Strong Community Support | Python has a large and active community, providing extensive libraries, frameworks, and resources for learners. |\n"
          ]
        }
      ]
    },
    {
      "cell_type": "code",
      "source": [
        "\n",
        "para_prompt = \"Compare electric cars and petrol cars.\"\n",
        "table_prompt = \"Compare electric cars and petrol cars as a markdown table with rows for cost, performance, and environmental impact.\"\n",
        "\n",
        "print(\"Paragraph Output:\\n\", ask_gpt(para_prompt))\n",
        "print(\"\\nTable Output:\\n\", ask_gpt(table_prompt))"
      ],
      "metadata": {
        "colab": {
          "base_uri": "https://localhost:8080/"
        },
        "id": "UNXaP3QsSQnC",
        "outputId": "aa25f610-695d-4631-84e6-3b0a33fedcd5"
      },
      "execution_count": 11,
      "outputs": [
        {
          "output_type": "stream",
          "name": "stdout",
          "text": [
            "Paragraph Output:\n",
            " When comparing electric cars and petrol cars, several factors come into play, including environmental impact, cost, performance, maintenance, and infrastructure. Here’s a detailed comparison:\n",
            "\n",
            "### 1. **Environmental Impact**\n",
            "- **Electric Cars**: Generally produce zero tailpipe emissions, contributing to reduced air pollution. However, the environmental impact depends on the source of electricity used to charge them. If charged from renewable sources, their carbon footprint is significantly lower.\n",
            "- **Petrol Cars**: Emit greenhouse gases and pollutants such as CO2, NOx, and particulates. Their operation contributes to air quality problems and climate change.\n",
            "\n",
            "### 2. **Cost**\n",
            "- **Purchase Price**: Electric cars often have a higher upfront cost compared to petrol cars, although this gap is narrowing as technology advances and production scales up.\n",
            "- **Running Costs**: Electric cars typically have lower running costs due to lower electricity prices compared to petrol, lower maintenance costs, and fewer moving parts. Some regions offer incentives or tax breaks for electric vehicle (EV) buyers.\n",
            "- **Resale Value**: Traditionally, petrol cars have had better resale values, but this is changing as EVs gain popularity and demand increases.\n",
            "\n",
            "### 3. **Performance**\n",
            "- **Acceleration**: Electric cars usually offer quicker acceleration due to instant torque delivery. Many EVs can outperform traditional petrol cars in terms of 0-60 mph times.\n",
            "- **Range**: Petrol cars typically have a longer range on a full tank compared to the range of many electric cars on a single charge, although advancements in battery technology are rapidly improving EV ranges.\n",
            "- **Refueling Time**: Petrol cars can refuel in a few minutes at gas stations, while electric cars can take longer to charge, depending on the charging infrastructure and the type of charger used (e.g., fast charger vs. regular outlet).\n",
            "\n",
            "### 4. **Maintenance**\n",
            "- **Electric Cars**: Generally have lower maintenance requirements since they have fewer mechanical components (e.g., no oil changes, fewer moving parts). However, battery replacement can be costly if it becomes necessary after several years.\n",
            "- **Petrol Cars**: Require regular maintenance, including oil changes, exhaust system repairs, and other mechanical services, which can result in higher long-term costs.\n",
            "\n",
            "### 5. **Driving Experience**\n",
            "- **Electric Cars**: Known for a quiet and smooth driving experience. The low center of gravity due to battery placement can enhance handling and stability.\n",
            "- **Petrol Cars**\n",
            "\n",
            "Table Output:\n",
            " Here's a comparison of electric cars and petrol cars in a markdown table format:\n",
            "\n",
            "```markdown\n",
            "| Feature             | Electric Cars                                   | Petrol Cars                                     |\n",
            "|---------------------|------------------------------------------------|------------------------------------------------|\n",
            "| Cost                | Higher initial purchase price; lower operating costs due to cheaper electricity and maintenance | Lower initial purchase price; higher fuel and maintenance costs over time |\n",
            "| Performance         | Instant torque; quieter operation; often superior acceleration | Generally longer range; can refuel quickly at gas stations |\n",
            "| Environmental Impact| Lower emissions; renewable energy potential; battery production has environmental concerns | Higher emissions; reliance on fossil fuels; contributes to air pollution |\n",
            "```\n",
            "\n",
            "This table summarizes some key differences between electric and petrol cars regarding cost, performance, and environmental impact.\n"
          ]
        }
      ]
    },
    {
      "cell_type": "code",
      "source": [
        "few_shot_prompt = \"\"\"\n",
        "Classify each movie review as Positive, Negative, or Neutral.\n",
        "\n",
        "Review: \"Amazing visuals and a heartwarming plot.\"\n",
        "Sentiment: Positive\n",
        "\n",
        "Review: \"Predictable storyline but decent acting.\"\n",
        "Sentiment: Neutral\n",
        "\n",
        "Review: \"I walked out halfway, it was terrible.\"\n",
        "Sentiment: Negative\n",
        "\n",
        "Review: \"The music was lovely but the pacing was too slow.\"\n",
        "Sentiment:\n",
        "\"\"\"\n",
        "\n",
        "print(ask_gpt(few_shot_prompt))"
      ],
      "metadata": {
        "colab": {
          "base_uri": "https://localhost:8080/"
        },
        "id": "25f4eSDkSUcu",
        "outputId": "bb83e94f-7015-493a-f5d4-f68da3678a99"
      },
      "execution_count": 12,
      "outputs": [
        {
          "output_type": "stream",
          "name": "stdout",
          "text": [
            "Neutral\n"
          ]
        }
      ]
    },
    {
      "cell_type": "code",
      "source": [
        "article = \"\"\"Artificial intelligence is transforming industries but raises ethical concerns such as bias in algorithms, job automation, and data privacy. Several companies and governments are proposing transparency laws and AI ethics training to address these challenges.\"\"\"\n",
        "# Initial vague prompt\n",
        "vague_sum = ask_gpt(f\"Summarize this article: {article}\")\n",
        "\n",
        "# Improved prompt\n",
        "refined_sum = ask_gpt(f\"Summarize this article in 3 bullet points covering (1) main challenges, (2) risks, (3) solutions: {article}\")\n",
        "\n",
        "print(\"Original Summary:\\n\", vague_sum)\n",
        "print(\"\\nRefined Summary:\\n\", refined_sum)\n",
        ""
      ],
      "metadata": {
        "colab": {
          "base_uri": "https://localhost:8080/"
        },
        "id": "1Glypg7vUZ7i",
        "outputId": "ff34625d-43eb-4a8a-cb57-9ae026225c53"
      },
      "execution_count": 13,
      "outputs": [
        {
          "output_type": "stream",
          "name": "stdout",
          "text": [
            "Original Summary:\n",
            " The article discusses the transformative impact of artificial intelligence on various industries while highlighting significant ethical concerns, including algorithmic bias, job automation, and data privacy issues. In response to these challenges, numerous companies and governments are advocating for transparency laws and the implementation of AI ethics training to promote responsible use of AI technologies.\n",
            "\n",
            "Refined Summary:\n",
            " - **Main Challenges**: The integration of artificial intelligence in various industries leads to issues like algorithmic bias, job automation, and concerns over data privacy. \n",
            "\n",
            "- **Risks**: These challenges pose significant risks, including the perpetuation of discrimination, workforce displacement, and potential violations of individual privacy rights.\n",
            "\n",
            "- **Solutions**: In response, companies and governments are advocating for transparency laws and implementing AI ethics training to mitigate the ethical concerns associated with AI technologies.\n"
          ]
        }
      ]
    },
    {
      "cell_type": "code",
      "source": [
        "# Step 1\n",
        "audience_analysis = ask_gpt(\"Describe the target audience for a fitness app in 3 bullet points.\")\n",
        "# Step 2\n",
        "social_media_strategy = ask_gpt(\"Create a social media strategy for the above audience in 5 bullet points.\")\n",
        "# Step 3\n",
        "content_calendar = ask_gpt(\"Propose a 1-month Instagram content calendar for the above strategy, in a table with date, post idea, and caption.\")\n",
        "\n",
        "print(\"Audience Analysis:\\n\", audience_analysis)\n",
        "print(\"\\nSocial Media Strategy:\\n\", social_media_strategy)\n",
        "print(\"\\nContent Calendar:\\n\", content_calendar)\n",
        ""
      ],
      "metadata": {
        "colab": {
          "base_uri": "https://localhost:8080/"
        },
        "id": "_Y1vNrViUbjm",
        "outputId": "34b0fa0e-a637-4c7a-a770-946b93b695f1"
      },
      "execution_count": 14,
      "outputs": [
        {
          "metadata": {
            "tags": null
          },
          "name": "stdout",
          "output_type": "stream",
          "text": [
            "Audience Analysis:\n",
            " - **Health-Conscious Individuals**: People who prioritize fitness and wellness, actively seeking tools to track workouts, nutrition, and overall health improvements.\n",
            "\n",
            "- **Busy Professionals**: Individuals with limited time who require flexible workout solutions and quick access to fitness plans that can be easily integrated into their daily routines.\n",
            "\n",
            "- **Beginners to Intermediate Users**: Those who are new to fitness or looking to enhance their existing routines, needing guidance, motivation, and structured programs to achieve their health goals.\n",
            "\n",
            "Social Media Strategy:\n",
            " To create an effective social media strategy for a specific audience, consider the following five bullet points:\n",
            "\n",
            "1. **Audience Segmentation and Persona Development**: Identify and segment your audience into specific personas based on demographics, interests, behaviors, and pain points. Tailor content and messaging to resonate with each persona, ensuring relevance and engagement.\n",
            "\n",
            "2. **Content Calendar and Diverse Formats**: Develop a content calendar that outlines a mix of educational, entertaining, and promotional content. Utilize diverse formats such as videos, infographics, stories, and live sessions to keep the audience engaged and cater to different content consumption preferences.\n",
            "\n",
            "3. **Engagement and Community Building**: Foster a sense of community by actively engaging with your audience through comments, direct messages, and user-generated content. Encourage discussions, host Q&A sessions, and create polls or challenges to promote interaction and build loyalty.\n",
            "\n",
            "4. **Data-Driven Insights and Optimization**: Regularly analyze performance metrics to understand what content resonates best with your audience. Use insights to optimize future posts, refine targeting strategies, and adapt your approach based on engagement levels and audience feedback.\n",
            "\n",
            "5. **Influencer Collaborations and Partnerships**: Identify and collaborate with influencers or thought leaders within your niche to expand reach and credibility. Leverage their audience to promote your brand while ensuring that the partnership aligns with your brand values and resonates with your target audience.\n",
            "\n",
            "By following these strategies, you can effectively connect with your audience, build brand loyalty, and drive engagement on social media platforms.\n",
            "\n",
            "Content Calendar:\n",
            " Here's a 1-month Instagram content calendar designed to engage your audience, promote your brand, and maintain a consistent posting schedule. The calendar includes diverse content types such as educational posts, user-generated content, behind-the-scenes glimpses, and promotional offers.\n",
            "\n",
            "| Date        | Post Idea                            | Caption                                                                                         |\n",
            "|-------------|-------------------------------------|------------------------------------------------------------------------------------------------|\n",
            "| 1st         | Introduction Post                   | \"🌟 Welcome to our page! We’re excited to share our journey, tips, and insights with you. Stay tuned for amazing content! #HelloWorld\" |\n",
            "| 3rd         | Product Feature: New Arrival        | \"🚀 Check out our latest arrival! [Product Name] is here to enhance your experience. Available now! #NewIn\" |\n",
            "| 5th         | Behind-the-Scenes: Team at Work    | \"👥 Meet the dream team behind [Brand Name]! Here’s a sneak peek of us working hard to bring you the best. #TeamTuesday\" |\n",
            "| 7th         | Customer Testimonial                | \"💬 Hear it from our amazing customers! [Customer Name] shares their experience with [Product/Service]. #CustomerLove\" |\n",
            "| 9th         | Educational Post: Tips & Tricks     | \"💡 Did you know? [Share a useful tip related to your niche]. Save this post for future reference! #TipTuesday\" |\n",
            "| 11th        | User-Generated Content Highlight    | \"📸 Shoutout to [Username] for this fantastic photo using our [Product]! Tag us to be featured! #UGC\" |\n",
            "| 13th        | Interactive Poll/Question           | \"❓ We want to hear from you! What do you prefer? A or B? Comment below! #YourChoice\" |\n",
            "| 15th        | Mid-Month Motivation                | \"✨ It’s time for some mid-month motivation! Remember, every small step counts! #MotivationMonday\" |\n",
            "| 17th        | Infographic: Industry Statistics    | \"📊 Check out these fascinating stats about [Industry]! Swipe for insights that matter. #DidYouKnow\" |\n",
            "| 19th        | Throwback Post                      | \"🔙 Throwback to when we first started! Grateful for how far we’ve come. #TBT\" |\n",
            "| 21st        | Live Q&A Announcement               | \"💬 We’re going live this [Date/Time\n"
          ]
        }
      ]
    },
    {
      "cell_type": "code",
      "source": [],
      "metadata": {
        "id": "kmumJU3cUdL7"
      },
      "execution_count": null,
      "outputs": []
    }
  ]
}