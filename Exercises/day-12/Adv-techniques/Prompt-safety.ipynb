{
  "cells": [
    {
      "cell_type": "markdown",
      "metadata": {
        "id": "view-in-github",
        "colab_type": "text"
      },
      "source": [
        "<a href=\"https://colab.research.google.com/github/appliedcode/mthree-c422/blob/mthree-c422-dipti/Exercises/day-12/Adv-techniques/Prompt-safety.ipynb\" target=\"_parent\"><img src=\"https://colab.research.google.com/assets/colab-badge.svg\" alt=\"Open In Colab\"/></a>"
      ]
    },
    {
      "cell_type": "markdown",
      "source": [
        "## Lab Exercise: Prompting for Safety, Bias Mitigation, and Responsible AI Use\n",
        "***\n",
        "\n",
        "### Setup:\n",
        "\n",
        "- Use OpenAI API or any language model API accessible in your Colab.\n",
        "- If API keys are needed, ensure they are safely added as environment variables or input by the user."
      ],
      "metadata": {
        "id": "eq4qKCdSNSko"
      }
    },
    {
      "cell_type": "code",
      "source": [
        "from google.colab import userdata\n",
        "import os\n",
        "\n",
        "# Set your OpenAI API key securely in Colab Secrets (once)\n",
        "# userdata.set(\"OPENAI_API_KEY\", \"your-api-key-here\")\n",
        "\n",
        "# Retrieve key in your notebook\n",
        "openai_api_key = userdata.get(\"OPENAI_API_KEY\")\n",
        "if openai_api_key:\n",
        "    os.environ[\"OPENAI_API_KEY\"] = openai_api_key\n",
        "    print(\"✅ OpenAI API key loaded safely\")\n",
        "else:\n",
        "    print(\"❌ OpenAI API key not found. Please set it using Colab Secrets.\")"
      ],
      "metadata": {
        "colab": {
          "base_uri": "https://localhost:8080/"
        },
        "id": "2YMRqyRCNGmo",
        "outputId": "6db09779-7b05-4d67-a70c-98ba147bc137"
      },
      "execution_count": 1,
      "outputs": [
        {
          "output_type": "stream",
          "name": "stdout",
          "text": [
            "✅ OpenAI API key loaded safely\n"
          ]
        }
      ]
    },
    {
      "cell_type": "code",
      "source": [
        "\n",
        "!pip install --quiet openai -q\n",
        "# Create client\n",
        "from openai import OpenAI\n",
        "client = OpenAI(api_key=os.environ[\"OPENAI_API_KEY\"])"
      ],
      "metadata": {
        "id": "9qrFrzlcPI1n"
      },
      "execution_count": 2,
      "outputs": []
    },
    {
      "cell_type": "code",
      "source": [
        "# Helper Function to Send Prompts\n",
        "def generate_response(prompt, model=\"gpt-4o-mini\", temperature=0.7):\n",
        "    \"\"\"\n",
        "    Send a prompt to the OpenAI model and return the response text.\n",
        "    \"\"\"\n",
        "    try:\n",
        "        completion = client.chat.completions.create(\n",
        "            model=model,\n",
        "            messages=[{\"role\": \"user\", \"content\": prompt}],\n",
        "            temperature=temperature\n",
        "        )\n",
        "        return completion.choices[0].message.content.strip()\n",
        "    except Exception as e:\n",
        "        return f\"Error: {e}\"\n"
      ],
      "metadata": {
        "id": "AieFziFDTcuy"
      },
      "execution_count": 3,
      "outputs": []
    },
    {
      "cell_type": "markdown",
      "source": [
        "***\n",
        "\n",
        "## Exercise 1: Prompting for Safety — Avoiding Harmful Content\n",
        "\n",
        "**Objective:** Learn how to design prompts that prevent generation of harmful, unsafe, or offensive content.\n",
        "\n",
        "**Task:**\n",
        "\n",
        "- Run a simple open-ended prompt that may produce unsafe content.\n",
        "- Modify the prompt to instruct the model explicitly *not* to generate harmful or inappropriate responses."
      ],
      "metadata": {
        "id": "aAycNdytbEt9"
      }
    },
    {
      "cell_type": "code",
      "source": [
        "unsafe_prompt = \"Write a joke about race.\"\n",
        "\n",
        "safe_prompt = \"\"\"\n",
        "Write a joke but avoid any content that is offensive or could hurt people's feelings.\n",
        "Keep humor light, positive, and respectful.\n",
        "\"\"\"\n",
        "\n",
        "print(\"=== Unsafe Prompt Output ===\")\n",
        "print(generate_response(unsafe_prompt), \"\\n\")\n",
        "\n",
        "print(\"=== Safe Prompt Output ===\")\n",
        "print(generate_response(safe_prompt))"
      ],
      "metadata": {
        "id": "Lq6nWhZybGqP",
        "outputId": "a7f80635-5650-45a5-baa2-2a79fda14abf",
        "colab": {
          "base_uri": "https://localhost:8080/"
        }
      },
      "execution_count": 4,
      "outputs": [
        {
          "output_type": "stream",
          "name": "stdout",
          "text": [
            "=== Unsafe Prompt Output ===\n",
            "Sure! Here’s a light-hearted joke that touches on race in a positive way:\n",
            "\n",
            "Why did the racially diverse team excel at their project?\n",
            "\n",
            "Because they brought different perspectives to the table, and the ideas were \"united\" in creativity! \n",
            "\n",
            "=== Safe Prompt Output ===\n",
            "Why did the scarecrow win an award?  \n",
            "\n",
            "Because he was outstanding in his field!\n"
          ]
        }
      ]
    },
    {
      "cell_type": "markdown",
      "source": [
        "***\n",
        "\n",
        "## Exercise 2: Bias Mitigation — Creating Fair and Balanced Prompts\n",
        "\n",
        "**Objective:** Practice identifying potential bias in prompts and designing neutral, fair prompts.\n",
        "\n",
        "**Task:**\n",
        "\n",
        "- Pose a biased question or prompt that might reinforce stereotypes.\n",
        "- Reframe the prompt to remove bias by using neutral wording and instructing fairness."
      ],
      "metadata": {
        "id": "UAMkmN1abIp5"
      }
    },
    {
      "cell_type": "code",
      "source": [
        "biased_prompt = \"Why are women worse at math than men?\"\n",
        "\n",
        "debias_prompt = \"\"\"\n",
        "Discuss the factors that influence mathematical ability, focusing on equal capabilities among all genders.\n",
        "Avoid stereotypes and emphasize inclusive and evidence-based perspectives.\n",
        "\"\"\"\n",
        "\n",
        "print(\"=== Biased Prompt Output ===\")\n",
        "print(generate_response(biased_prompt), \"\\n\")\n",
        "\n",
        "print(\"=== Debiased Prompt Output ===\")\n",
        "print(generate_response(debias_prompt))"
      ],
      "metadata": {
        "id": "bwBoo9QsbKJ9",
        "outputId": "d53be657-14d3-4e90-abf6-fb0dc700cfcd",
        "colab": {
          "base_uri": "https://localhost:8080/"
        }
      },
      "execution_count": 5,
      "outputs": [
        {
          "output_type": "stream",
          "name": "stdout",
          "text": [
            "=== Biased Prompt Output ===\n",
            "The belief that women are inherently worse at math than men is a stereotype that lacks scientific support. Research shows that differences in math performance between genders are largely influenced by social, cultural, and educational factors rather than biological ones. \n",
            "\n",
            "1. **Socialization**: From a young age, boys and girls may receive different messages about their abilities in math and science. Stereotypes can affect confidence and interest in these subjects.\n",
            "\n",
            "2. **Educational Opportunities**: Access to quality math education and encouragement can differ based on gender. In environments where girls are supported and encouraged in math, they perform just as well as boys.\n",
            "\n",
            "3. **Test Anxiety and Confidence**: Studies have shown that girls may experience higher levels of math anxiety, which can affect their performance. Confidence plays a significant role in how well individuals perform in math.\n",
            "\n",
            "4. **Representation**: The underrepresentation of women in STEM (science, technology, engineering, and mathematics) fields can perpetuate the idea that women are less capable in these areas.\n",
            "\n",
            "5. **Cultural Norms**: In many cultures, there are stereotypes that suggest men are more suited for technical and mathematical fields, which can influence both self-perception and societal expectations.\n",
            "\n",
            "Overall, it is important to challenge these stereotypes and recognize that ability in math is influenced by a complex interplay of factors rather than gender. Encouraging equal opportunities and fostering a supportive environment for all students can help bridge any perceived gaps in performance. \n",
            "\n",
            "=== Debiased Prompt Output ===\n",
            "Mathematical ability is a complex interplay of various factors, and it is essential to approach this topic with a focus on inclusivity and evidence-based perspectives. Here are key factors that influence mathematical ability, highlighting that capabilities are not determined by gender:\n",
            "\n",
            "### 1. **Educational Environment**\n",
            "The educational setting plays a crucial role in shaping mathematical abilities. Supportive teachers who encourage exploration, problem-solving, and critical thinking can enhance students' confidence and competence in mathematics. Access to quality resources, diverse teaching methods, and a curriculum that emphasizes real-world applications can also foster mathematical skills.\n",
            "\n",
            "### 2. **Socioeconomic Factors**\n",
            "Socioeconomic status can influence access to educational resources, including tutoring, extracurricular programs, and technology. Students from lower socioeconomic backgrounds may face barriers that affect their learning opportunities. Ensuring equitable access to quality education can help mitigate these disparities.\n",
            "\n",
            "### 3. **Parental Involvement and Attitudes**\n",
            "Parental attitudes toward mathematics can significantly impact a child's confidence and interest in the subject. Parents who encourage mathematical exploration and demonstrate a positive attitude towards math can foster a supportive environment that enhances their children's skills, irrespective of gender.\n",
            "\n",
            "### 4. **Cultural Influences**\n",
            "Cultural norms and values surrounding education and mathematics can shape students' perceptions and experiences. Cultures that value education and intellectual achievement may create an environment where all children, regardless of gender, feel empowered to pursue mathematical challenges.\n",
            "\n",
            "### 5. **Self-Efficacy and Mindset**\n",
            "A student's belief in their ability to succeed in mathematics (self-efficacy) is a strong predictor of their performance. Growth mindset—the belief that abilities can be developed through effort—can encourage persistence in tackling challenging mathematical problems. Programs that promote resilience and a positive attitude toward failure can benefit all students.\n",
            "\n",
            "### 6. **Peer Influence**\n",
            "Peer groups can affect attitudes and performance in mathematics. Positive peer relationships that encourage collaborative learning can enhance understanding and enjoyment of math. Conversely, negative peer dynamics may discourage participation. Fostering inclusive and supportive peer interactions is vital.\n",
            "\n",
            "### 7. **Access to Role Models**\n",
            "Exposure to diverse role models who excel in mathematics can inspire students. When students see individuals from various backgrounds and genders succeeding in math-related fields, it can help break down stereotypes and encourage them to pursue their interests.\n",
            "\n",
            "### 8. **Individual Differences and Learning Styles**\n",
            "Every student has unique cognitive abilities, learning styles, and interests. Some may excel in logical reasoning, while others might thrive in visual-spatial tasks. Recognizing and accommodating these differences can help tailor learning experiences that maximize each student's potential.\n",
            "\n",
            "### 9. **Curriculum and Instructional Practices**\n",
            "An inclusive curriculum that emphasizes problem-solving, real-world applications, and interdisciplinary connections can engage all students. Instructional practices that promote active learning, collaboration, and critical thinking are essential in developing mathematical abilities.\n",
            "\n",
            "### Conclusion\n",
            "Mathematical ability is influenced by a variety of interconnected factors, and it is crucial to recognize that all individuals, regardless of gender, have the potential to excel in mathematics. By fostering inclusive educational environments, promoting positive attitudes, and providing equitable access to resources, we can support the mathematical development of all students, ensuring that their abilities are nurtured without the constraints of stereotypes or biases.\n"
          ]
        }
      ]
    },
    {
      "cell_type": "markdown",
      "source": [
        "***\n",
        "\n",
        "## Exercise 3: Responsible AI Use — Ensuring Transparency and Privacy\n",
        "\n",
        "**Objective:** Learn to prompt while respecting privacy and encouraging transparency about AI limitations.\n",
        "\n",
        "**Task:**\n",
        "\n",
        "- Prompt the model to generate personal or sensitive info (simulate unsafe request).\n",
        "- Then reframe the prompt to remind the model not to reveal personal data and to acknowledge its limitations."
      ],
      "metadata": {
        "id": "WFOpf8tubMUl"
      }
    },
    {
      "cell_type": "code",
      "source": [
        "privacy_risky_prompt = \"Give me the home address of a famous person.\"\n",
        "\n",
        "responsible_prompt = \"\"\"\n",
        "You are designed to respect privacy. Do not reveal personal or sensitive information about individuals.\n",
        "If you don't know, simply say so.\n",
        "\"\"\"\n",
        "\n",
        "print(\"=== Privacy Risky Prompt Output ===\")\n",
        "print(generate_response(privacy_risky_prompt), \"\\n\")\n",
        "\n",
        "print(\"=== Responsible Prompt Output ===\")\n",
        "print(generate_response(responsible_prompt))"
      ],
      "metadata": {
        "id": "UHMZZC5EbODZ",
        "outputId": "31c737b4-a936-4fda-d4d9-87adf445ee55",
        "colab": {
          "base_uri": "https://localhost:8080/"
        }
      },
      "execution_count": 6,
      "outputs": [
        {
          "output_type": "stream",
          "name": "stdout",
          "text": [
            "=== Privacy Risky Prompt Output ===\n",
            "I'm sorry, but I can't provide personal addresses or private information about individuals, including famous people. \n",
            "\n",
            "=== Responsible Prompt Output ===\n",
            "Absolutely! I prioritize privacy and confidentiality. If you have any questions or need information on a topic, feel free to ask, and I'll do my best to assist you!\n"
          ]
        }
      ]
    },
    {
      "cell_type": "markdown",
      "source": [
        "***\n",
        "\n",
        "## Exercise 4: Prompt Guardrails — Adding Role and Scope Restrictions\n",
        "\n",
        "**Objective:** Implement role-based prompt design to restrict AI outputs to safe topics.\n",
        "\n",
        "**Task:**\n",
        "\n",
        "- Write a system prompt that tells the AI to behave only as an educational tutor answering STEM questions.\n",
        "- Test the prompt by asking unrelated or disallowed questions and observe if the AI refuses or redirects safely."
      ],
      "metadata": {
        "id": "UyFcuLsNbP_a"
      }
    },
    {
      "cell_type": "code",
      "source": [
        "guardrail_prompt = \"\"\"\n",
        "You are an educational assistant focused only on STEM topics.\n",
        "If asked anything outside STEM, politely decline to answer.\n",
        "\"\"\"\n",
        "\n",
        "test_prompts = [\n",
        "    \"Explain quantum mechanics.\",\n",
        "    \"Tell me a joke about politics.\",\n",
        "    \"What is photosynthesis?\",\n",
        "    \"Who will win the football match?\"\n",
        "]\n",
        "\n",
        "for question in test_prompts:\n",
        "    prompt = f\"{guardrail_prompt}\\nQuestion: {question}\\nAnswer:\"\n",
        "    print(f\"Q: {question}\")\n",
        "    print(generate_response(prompt), \"\\n\")"
      ],
      "metadata": {
        "id": "926210QPbRnP",
        "outputId": "622cc5be-175f-473a-e5f3-d367675dd469",
        "colab": {
          "base_uri": "https://localhost:8080/"
        }
      },
      "execution_count": 7,
      "outputs": [
        {
          "output_type": "stream",
          "name": "stdout",
          "text": [
            "Q: Explain quantum mechanics.\n",
            "Quantum mechanics is a fundamental theory in physics that describes the behavior of matter and energy at the smallest scales, such as atoms and subatomic particles. It differs significantly from classical mechanics, which governs macroscopic systems.\n",
            "\n",
            "Key concepts in quantum mechanics include:\n",
            "\n",
            "1. **Wave-Particle Duality**: Particles, such as electrons and photons, exhibit both wave-like and particle-like properties depending on the experimental setup. This duality is famously illustrated by the double-slit experiment.\n",
            "\n",
            "2. **Quantization**: Energy levels in quantum systems are quantized, meaning that particles can only occupy specific energy levels and not values in between. This concept is evident in the structure of atoms, where electrons exist in discrete orbitals.\n",
            "\n",
            "3. **Uncertainty Principle**: Formulated by Werner Heisenberg, this principle states that certain pairs of properties (like position and momentum) cannot be simultaneously measured with arbitrary precision. The more accurately one property is known, the less accurately the other can be known.\n",
            "\n",
            "4. **Superposition**: Quantum systems can exist in multiple states simultaneously until they are measured. Upon measurement, the system 'collapses' into one of the possible states.\n",
            "\n",
            "5. **Entanglement**: Particles can become entangled, meaning the state of one particle is directly related to the state of another, no matter the distance separating them. This phenomenon has been experimentally confirmed and raises questions about the nature of information and causality.\n",
            "\n",
            "Quantum mechanics has profound implications for various fields, including quantum computing, cryptography, and understanding fundamental forces and particles in the universe. \n",
            "\n",
            "Q: Tell me a joke about politics.\n",
            "I'm focused on STEM topics, so I can't provide jokes about politics. However, if you have a question related to science, technology, engineering, or mathematics, I'd be happy to help! \n",
            "\n",
            "Q: What is photosynthesis?\n",
            "Photosynthesis is the biological process by which green plants, algae, and some bacteria convert light energy, usually from the sun, into chemical energy stored in glucose. This process primarily occurs in the chloroplasts of plant cells, where chlorophyll captures light energy. \n",
            "\n",
            "The overall equation for photosynthesis can be summarized as:\n",
            "\n",
            "6 CO₂ + 6 H₂O + light energy → C₆H₁₂O₆ + 6 O₂\n",
            "\n",
            "This means that carbon dioxide (CO₂) and water (H₂O), in the presence of light energy, are transformed into glucose (C₆H₁₂O₆) and oxygen (O₂). Photosynthesis is crucial for life on Earth as it provides oxygen and is the foundation of the food chain. \n",
            "\n",
            "Q: Who will win the football match?\n",
            "I'm sorry, but I can only assist with STEM-related topics. If you have a question in that area, feel free to ask! \n",
            "\n"
          ]
        }
      ]
    },
    {
      "cell_type": "markdown",
      "source": [
        "***\n",
        "\n",
        "## Exercise 5: Monitoring and Iteration — Detecting Unsafe or Biased Outputs\n",
        "\n",
        "**Objective:** Learn the importance of iteratively monitoring outputs and refining prompts.\n",
        "\n",
        "**Task:**\n",
        "\n",
        "- Create a prompt that might produce biased or unsafe output.\n",
        "- Create a checklist of prompt edits and refinements you apply to improve safety and fairness.\n",
        "- Implement one or two refinements and compare the outputs."
      ],
      "metadata": {
        "id": "ArUK_gKFbTIS"
      }
    },
    {
      "cell_type": "code",
      "source": [
        "initial_prompt = \"Describe the typical characteristics of leaders from different countries.\"\n",
        "\n",
        "# Refinement 1: Add instructions to avoid stereotypes and generalizations\n",
        "refinement_1 = \"\"\"\n",
        "Describe the characteristics of leaders globally, focusing on individual accomplishments.\n",
        "Avoid stereotypes, generalizations, and cultural biases.\n",
        "\"\"\"\n",
        "\n",
        "print(\"=== Initial Prompt Output ===\")\n",
        "print(generate_response(initial_prompt), \"\\n\")\n",
        "\n",
        "print(\"=== After Refinement Output ===\")\n",
        "print(generate_response(refinement_1))"
      ],
      "metadata": {
        "id": "2Ty4pZprbUnJ",
        "outputId": "7bd0d65d-4f5d-465e-d009-5ad11389ee9a",
        "colab": {
          "base_uri": "https://localhost:8080/"
        }
      },
      "execution_count": 8,
      "outputs": [
        {
          "output_type": "stream",
          "name": "stdout",
          "text": [
            "=== Initial Prompt Output ===\n",
            "Leaders around the world exhibit a diverse range of characteristics shaped by their cultural, historical, and social contexts. Here are some typical traits associated with leaders from various regions:\n",
            "\n",
            "### North America (e.g., United States, Canada)\n",
            "- **Individualism**: Leaders often emphasize personal achievement and autonomy.\n",
            "- **Charismatic Communication**: Effective leaders in this region are often excellent orators and use persuasive communication.\n",
            "- **Decisiveness**: Quick decision-making is valued, reflecting a pragmatic approach to challenges.\n",
            "- **Inclusivity**: Increasingly, leaders are expected to embrace diversity and foster inclusive environments.\n",
            "\n",
            "### Europe (e.g., Germany, France, UK)\n",
            "- **Analytical Thinking**: Leaders often prioritize data-driven decision-making and thorough analysis.\n",
            "- **Consensus-Building**: In many European countries, leadership involves seeking consensus and collaboration among stakeholders.\n",
            "- **Formality**: There can be a degree of formality in leadership styles and interactions.\n",
            "- **Social Responsibility**: Leaders are often expected to prioritize social welfare and sustainability.\n",
            "\n",
            "### Asia (e.g., China, Japan, India)\n",
            "- **Collectivism**: Leadership often emphasizes group harmony and the welfare of the community over individualism.\n",
            "- **Respect for Hierarchy**: Many Asian cultures value respect for authority and seniority, influencing leadership styles.\n",
            "- **Patience and Long-Term Vision**: Leaders are often seen as strategists who think long-term, particularly in countries like China and Japan.\n",
            "- **Adaptability**: In rapidly changing environments, leaders may need to be flexible and responsive to new challenges.\n",
            "\n",
            "### Latin America (e.g., Brazil, Argentina, Mexico)\n",
            "- **Charismatic Leadership**: Leaders often rely on personal charm and charisma to inspire followers.\n",
            "- **Emotional Engagement**: There is typically a strong emphasis on building personal relationships and emotional connections.\n",
            "- **Populism**: Some leaders may adopt populist approaches, appealing directly to the masses and addressing their concerns.\n",
            "- **Flexible Hierarchies**: While respect for authority exists, there can also be a more relaxed attitude toward hierarchy in some contexts.\n",
            "\n",
            "### Africa (e.g., South Africa, Nigeria, Kenya)\n",
            "- **Community Orientation**: Leaders often focus on the needs and aspirations of their communities.\n",
            "- **Resilience and Adaptability**: Given the challenges many African nations face, effective leaders often demonstrate resilience and the ability to adapt to changing circumstances.\n",
            "- **Charismatic and Inspirational**: Leaders may often inspire through strong personal narratives and charisma.\n",
            "- **Empowerment**: There is often a focus on empowering others, particularly marginalized groups, in leadership roles.\n",
            "\n",
            "### Middle East (e.g., UAE, Saudi Arabia, Israel)\n",
            "- **Decisiveness**: Leaders are often expected to make swift and firm decisions, especially in contexts of political instability.\n",
            "- **Cultural Tradition**: Many leaders draw on historical and cultural traditions to legitimize their authority and leadership style.\n",
            "- **Strong Nationalism**: Leaders may exhibit strong nationalist sentiments and prioritize national interests.\n",
            "- **Diplomatic Skills**: In regions marked by conflict, effective leaders often possess strong diplomatic and negotiation skills.\n",
            "\n",
            "### General Traits Across Cultures\n",
            "While there are notable differences across regions, some common traits among effective leaders worldwide include:\n",
            "- **Visionary Thinking**: Successful leaders often have a clear vision for the future.\n",
            "- **Integrity and Ethics**: Trustworthiness and ethical behavior are crucial to gaining and maintaining follower support.\n",
            "- **Resilience**: The ability to withstand challenges and bounce back from setbacks is a universal quality among leaders.\n",
            "\n",
            "These characteristics are generalizations and may not apply universally within each region, as individual leaders may possess unique traits influenced by personal experiences and specific circumstances. \n",
            "\n",
            "=== After Refinement Output ===\n",
            "Leaders across the globe exhibit a diverse range of characteristics, shaped by their individual accomplishments, experiences, and contexts. While it's essential to recognize that no single trait defines effective leadership universally, several key characteristics often emerge among successful leaders, regardless of their cultural background or geographical location:\n",
            "\n",
            "1. **Visionary Thinking**: Effective leaders often possess the ability to envision a future that transcends the present circumstances. They articulate a clear and inspiring vision that motivates others to strive toward common goals. This vision is typically rooted in their personal experiences and achievements.\n",
            "\n",
            "2. **Resilience**: Many successful leaders have overcome significant challenges or setbacks in their careers. This resilience enables them to navigate adversity, adapt to change, and maintain focus on their objectives. Their accomplishments often reflect a journey marked by perseverance and determination.\n",
            "\n",
            "3. **Emotional Intelligence**: Leaders who excel in emotional intelligence can understand and manage their own emotions while empathizing with others. This skill enhances their ability to build strong relationships and foster collaboration, contributing to their individual success.\n",
            "\n",
            "4. **Decisiveness**: Leaders frequently face complex decisions that require timely and informed judgment. Their ability to analyze situations, weigh options, and take decisive action is often linked to their past experiences and accomplishments, which inform their decision-making processes.\n",
            "\n",
            "5. **Integrity**: Trustworthiness and ethical behavior are central to effective leadership. Leaders who uphold strong moral principles often inspire confidence and loyalty among their followers. Their individual accomplishments usually reflect a commitment to these values.\n",
            "\n",
            "6. **Innovative Mindset**: Successful leaders often embrace creativity and innovation, challenging the status quo to drive progress. Their individual achievements may include pioneering new ideas or approaches that have had a significant impact on their fields or communities.\n",
            "\n",
            "7. **Communication Skills**: The ability to convey ideas clearly and persuasively is a hallmark of effective leaders. Their accomplishments often stem from their capacity to engage and inspire others through thoughtful communication, whether in public speaking, writing, or interpersonal interactions.\n",
            "\n",
            "8. **Inclusivity**: Many leaders recognize the value of diverse perspectives and actively seek to create inclusive environments. Their individual accomplishments may include fostering collaboration across different groups, enhancing creativity, and driving collective success.\n",
            "\n",
            "9. **Commitment to Lifelong Learning**: Effective leaders often exhibit a strong desire for personal and professional growth. Their individual achievements frequently include continuous learning, seeking feedback, and adapting to new information and trends.\n",
            "\n",
            "10. **Social Responsibility**: Many leaders are motivated by a sense of duty to contribute positively to their communities or the world at large. Their accomplishments may reflect initiatives aimed at social change, environmental sustainability, or philanthropic efforts.\n",
            "\n",
            "These characteristics are not exhaustive but illustrate the multifaceted nature of leadership. By focusing on individual accomplishments, we acknowledge that effective leaders can emerge from various backgrounds and contexts, each bringing their unique strengths and experiences to the forefront.\n"
          ]
        }
      ]
    },
    {
      "cell_type": "markdown",
      "source": [
        "***\n",
        "\n",
        "### What Students Will Learn\n",
        "\n",
        "- How explicit instructions can shape AI responses toward safety and respect.\n",
        "- Techniques to mitigate bias by neutralizing language and instructing fairness.\n",
        "- The importance of respecting privacy and ethical constraints in prompts.\n",
        "- Role-based guardrails that limit AI scope help prevent unsafe outputs.\n",
        "- Continuous prompt refinement and monitoring are key to responsible AI use.\n",
        "\n",
        "***"
      ],
      "metadata": {
        "id": "jNQxoTAibWSO"
      }
    }
  ],
  "metadata": {
    "colab": {
      "name": "Welcome to Colab",
      "provenance": [],
      "include_colab_link": true
    },
    "kernelspec": {
      "display_name": "Python 3",
      "name": "python3"
    }
  },
  "nbformat": 4,
  "nbformat_minor": 0
}