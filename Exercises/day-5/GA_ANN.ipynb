{
  "cells": [
    {
      "cell_type": "markdown",
      "source": [
        "1. Genetic Algorithm Lab: Solving the Maximum Ones Problem\n",
        "We'll use a simple genetic algorithm to maximize the number of \"1\"s in a binary string."
      ],
      "metadata": {
        "id": "nwTnsfMBE_IA"
      }
    },
    {
      "cell_type": "code",
      "source": [
        "# 1. Genetic Algorithm Lab: Solving the Maximum Ones Problem\n",
        "# We'll use a simple genetic algorithm to maximize the number of \"1\"s in a binary string.\n",
        "\n",
        "# Step 1: Imports and Parameters\n",
        "import numpy as np\n",
        "import random\n"
      ],
      "metadata": {
        "id": "Yy8jg1OgFCml"
      },
      "execution_count": 25,
      "outputs": []
    },
    {
      "cell_type": "code",
      "source": [
        "# Step 2: GA Functions\n",
        "def create_individual(length):\n",
        "    # Random binary individual\n",
        "    return np.random.randint(2, size=length)\n",
        "\n",
        "def fitness(individual):\n",
        "    # Objective: maximize number of 1s\n",
        "    return sum(individual)\n",
        "\n",
        "def mutate(individual, mutation_rate=0.01):\n",
        "    for i in range(len(individual)):\n",
        "        if random.random() < mutation_rate:\n",
        "            individual[i] = 1 - individual[i]\n",
        "    return individual\n",
        "\n",
        "def crossover(parent1, parent2):\n",
        "    point = random.randint(1, len(parent1)-1)\n",
        "    child1 = np.concatenate([parent1[:point], parent2[point:]])\n",
        "    child2 = np.concatenate([parent2[:point], parent1[point:]])\n",
        "    return child1, child2\n"
      ],
      "metadata": {
        "id": "GMXn0UuLFMig"
      },
      "execution_count": 34,
      "outputs": []
    },
    {
      "cell_type": "code",
      "source": [],
      "metadata": {
        "id": "m2DO1u0FHXoa"
      },
      "execution_count": null,
      "outputs": []
    },
    {
      "cell_type": "code",
      "source": [
        "def genetic_algorithm(population_size=10, chromosome_length=8, generations=20, mutation_rate=0.01):\n",
        "    print(\"hellow\")\n",
        "    population = [create_individual(chromosome_length) for _ in range(population_size)]\n",
        "\n",
        "    for g in range(generations):\n",
        "        scored = sorted(\n",
        "            [(fitness(ind), ind) for ind in population],\n",
        "            key=lambda pair: pair[0],\n",
        "            reverse=True\n",
        "        )\n",
        "        print(f\"Gen {g} | Best: {scored[0][0]} | Avg: {np.mean([f for f,_ in scored])}\")\n",
        "\n",
        "        next_gen = [scored[0][1], scored[1][1]]  # Elite selection\n",
        "\n",
        "        while len(next_gen) < population_size:\n",
        "            parents = random.sample(scored[:5], 2)\n",
        "            c1, c2 = crossover(parents[0][1], parents[1][1])\n",
        "            next_gen.append(mutate(c1.copy(), mutation_rate))\n",
        "            if len(next_gen) < population_size:\n",
        "                next_gen.append(mutate(c2.copy(), mutation_rate))\n",
        "\n",
        "        population = next_gen\n",
        "\n",
        "    print(\"Best individual:\", scored[0][1], \"with fitness:\", scored[0][0])\n",
        "genetic_algorithm()"
      ],
      "metadata": {
        "id": "4NzKNOofFTRg",
        "outputId": "d6e23d5a-a7e2-4cac-8d94-723bdae4b159",
        "colab": {
          "base_uri": "https://localhost:8080/"
        }
      },
      "execution_count": 39,
      "outputs": [
        {
          "output_type": "stream",
          "name": "stdout",
          "text": [
            "hellow\n",
            "Gen 0 | Best: 7 | Avg: 3.7\n",
            "Gen 1 | Best: 7 | Avg: 5.4\n",
            "Gen 2 | Best: 7 | Avg: 6.3\n",
            "Gen 3 | Best: 7 | Avg: 6.8\n",
            "Gen 4 | Best: 7 | Avg: 7.0\n",
            "Gen 5 | Best: 7 | Avg: 6.9\n",
            "Gen 6 | Best: 7 | Avg: 7.0\n",
            "Gen 7 | Best: 7 | Avg: 6.9\n",
            "Gen 8 | Best: 7 | Avg: 7.0\n",
            "Gen 9 | Best: 7 | Avg: 6.9\n",
            "Gen 10 | Best: 7 | Avg: 7.0\n",
            "Gen 11 | Best: 7 | Avg: 7.0\n",
            "Gen 12 | Best: 7 | Avg: 7.0\n",
            "Gen 13 | Best: 7 | Avg: 6.9\n",
            "Gen 14 | Best: 7 | Avg: 6.9\n",
            "Gen 15 | Best: 7 | Avg: 6.9\n",
            "Gen 16 | Best: 7 | Avg: 7.0\n",
            "Gen 17 | Best: 7 | Avg: 7.0\n",
            "Gen 18 | Best: 7 | Avg: 6.9\n",
            "Gen 19 | Best: 8 | Avg: 7.1\n",
            "Best individual: [1 1 1 1 1 1 1 1] with fitness: 8\n"
          ]
        }
      ]
    },
    {
      "cell_type": "markdown",
      "source": [
        "## Extension:\n",
        "- Try increasing chromosome_length or population_size.\n",
        "\n",
        "- Modify the fitness function to solve other problems (e.g., string matching)."
      ],
      "metadata": {
        "id": "f-UQpafRFWzI"
      }
    },
    {
      "cell_type": "code",
      "source": [
        "# 2. Artificial Neural Network Lab: Iris Dataset Classification\n",
        "# We'll use TensorFlow/Keras to build and train a simple neural network to classify iris species based on flower measurements.\n",
        "\n",
        "# Step 1: Imports\n",
        "import numpy as np\n",
        "import pandas as pd\n",
        "from sklearn.datasets import load_iris\n",
        "from sklearn.model_selection import train_test_split\n",
        "from sklearn.preprocessing import StandardScaler\n",
        "import tensorflow as tf\n",
        "from tensorflow import keras\n"
      ],
      "metadata": {
        "id": "fEanWCxbFq6U"
      },
      "execution_count": 28,
      "outputs": []
    },
    {
      "cell_type": "code",
      "source": [
        "# Step 2: Data Preparation\n",
        "# Load data and prepare splits\n",
        "iris = load_iris()\n",
        "X = iris.data\n",
        "y = iris.target\n",
        "\n",
        "scaler = StandardScaler()\n",
        "X_scaled = scaler.fit_transform(X)\n",
        "\n",
        "X_train, X_test, y_train, y_test = train_test_split(X_scaled, y, test_size=0.25, random_state=42)\n"
      ],
      "metadata": {
        "id": "qhG1yKgIFyM5"
      },
      "execution_count": 29,
      "outputs": []
    },
    {
      "cell_type": "code",
      "source": [
        "# Step 3: Build and Train the Neural Network\n",
        "model = keras.Sequential([\n",
        "    keras.layers.Dense(8, activation='relu', input_shape=(4,)),\n",
        "    keras.layers.Dense(6, activation='relu'),\n",
        "    keras.layers.Dense(3, activation='softmax') # 3 classes\n",
        "])\n",
        "\n",
        "model.compile(optimizer='adam',\n",
        "              loss='sparse_categorical_crossentropy',\n",
        "              metrics=['accuracy'])\n",
        "\n",
        "history = model.fit(X_train, y_train, epochs=50, validation_data=(X_test, y_test))\n"
      ],
      "metadata": {
        "id": "FRSlJtIwF42y",
        "outputId": "a702c56f-9872-4a55-bcec-0bc513cbdd3e",
        "colab": {
          "base_uri": "https://localhost:8080/"
        }
      },
      "execution_count": 30,
      "outputs": [
        {
          "output_type": "stream",
          "name": "stdout",
          "text": [
            "Epoch 1/50\n"
          ]
        },
        {
          "output_type": "stream",
          "name": "stderr",
          "text": [
            "/usr/local/lib/python3.11/dist-packages/keras/src/layers/core/dense.py:87: UserWarning: Do not pass an `input_shape`/`input_dim` argument to a layer. When using Sequential models, prefer using an `Input(shape)` object as the first layer in the model instead.\n",
            "  super().__init__(activity_regularizer=activity_regularizer, **kwargs)\n"
          ]
        },
        {
          "output_type": "stream",
          "name": "stdout",
          "text": [
            "\u001b[1m4/4\u001b[0m \u001b[32m━━━━━━━━━━━━━━━━━━━━\u001b[0m\u001b[37m\u001b[0m \u001b[1m2s\u001b[0m 87ms/step - accuracy: 0.3731 - loss: 1.1535 - val_accuracy: 0.3158 - val_loss: 1.1490\n",
            "Epoch 2/50\n",
            "\u001b[1m4/4\u001b[0m \u001b[32m━━━━━━━━━━━━━━━━━━━━\u001b[0m\u001b[37m\u001b[0m \u001b[1m0s\u001b[0m 25ms/step - accuracy: 0.3871 - loss: 1.1298 - val_accuracy: 0.3158 - val_loss: 1.1385\n",
            "Epoch 3/50\n",
            "\u001b[1m4/4\u001b[0m \u001b[32m━━━━━━━━━━━━━━━━━━━━\u001b[0m\u001b[37m\u001b[0m \u001b[1m0s\u001b[0m 25ms/step - accuracy: 0.3673 - loss: 1.1417 - val_accuracy: 0.3158 - val_loss: 1.1291\n",
            "Epoch 4/50\n",
            "\u001b[1m4/4\u001b[0m \u001b[32m━━━━━━━━━━━━━━━━━━━━\u001b[0m\u001b[37m\u001b[0m \u001b[1m0s\u001b[0m 28ms/step - accuracy: 0.4135 - loss: 1.1303 - val_accuracy: 0.3158 - val_loss: 1.1201\n",
            "Epoch 5/50\n",
            "\u001b[1m4/4\u001b[0m \u001b[32m━━━━━━━━━━━━━━━━━━━━\u001b[0m\u001b[37m\u001b[0m \u001b[1m0s\u001b[0m 25ms/step - accuracy: 0.3583 - loss: 1.1273 - val_accuracy: 0.3158 - val_loss: 1.1120\n",
            "Epoch 6/50\n",
            "\u001b[1m4/4\u001b[0m \u001b[32m━━━━━━━━━━━━━━━━━━━━\u001b[0m\u001b[37m\u001b[0m \u001b[1m0s\u001b[0m 25ms/step - accuracy: 0.3942 - loss: 1.1159 - val_accuracy: 0.3158 - val_loss: 1.1043\n",
            "Epoch 7/50\n",
            "\u001b[1m4/4\u001b[0m \u001b[32m━━━━━━━━━━━━━━━━━━━━\u001b[0m\u001b[37m\u001b[0m \u001b[1m0s\u001b[0m 27ms/step - accuracy: 0.3911 - loss: 1.0953 - val_accuracy: 0.3158 - val_loss: 1.0966\n",
            "Epoch 8/50\n",
            "\u001b[1m4/4\u001b[0m \u001b[32m━━━━━━━━━━━━━━━━━━━━\u001b[0m\u001b[37m\u001b[0m \u001b[1m0s\u001b[0m 38ms/step - accuracy: 0.3863 - loss: 1.1077 - val_accuracy: 0.3158 - val_loss: 1.0892\n",
            "Epoch 9/50\n",
            "\u001b[1m4/4\u001b[0m \u001b[32m━━━━━━━━━━━━━━━━━━━━\u001b[0m\u001b[37m\u001b[0m \u001b[1m0s\u001b[0m 26ms/step - accuracy: 0.4301 - loss: 1.0780 - val_accuracy: 0.3158 - val_loss: 1.0820\n",
            "Epoch 10/50\n",
            "\u001b[1m4/4\u001b[0m \u001b[32m━━━━━━━━━━━━━━━━━━━━\u001b[0m\u001b[37m\u001b[0m \u001b[1m0s\u001b[0m 26ms/step - accuracy: 0.4051 - loss: 1.0782 - val_accuracy: 0.3158 - val_loss: 1.0750\n",
            "Epoch 11/50\n",
            "\u001b[1m4/4\u001b[0m \u001b[32m━━━━━━━━━━━━━━━━━━━━\u001b[0m\u001b[37m\u001b[0m \u001b[1m0s\u001b[0m 26ms/step - accuracy: 0.3982 - loss: 1.0728 - val_accuracy: 0.3158 - val_loss: 1.0683\n",
            "Epoch 12/50\n",
            "\u001b[1m4/4\u001b[0m \u001b[32m━━━━━━━━━━━━━━━━━━━━\u001b[0m\u001b[37m\u001b[0m \u001b[1m0s\u001b[0m 27ms/step - accuracy: 0.4607 - loss: 1.0528 - val_accuracy: 0.3158 - val_loss: 1.0617\n",
            "Epoch 13/50\n",
            "\u001b[1m4/4\u001b[0m \u001b[32m━━━━━━━━━━━━━━━━━━━━\u001b[0m\u001b[37m\u001b[0m \u001b[1m0s\u001b[0m 25ms/step - accuracy: 0.4268 - loss: 1.0517 - val_accuracy: 0.3158 - val_loss: 1.0551\n",
            "Epoch 14/50\n",
            "\u001b[1m4/4\u001b[0m \u001b[32m━━━━━━━━━━━━━━━━━━━━\u001b[0m\u001b[37m\u001b[0m \u001b[1m0s\u001b[0m 24ms/step - accuracy: 0.3955 - loss: 1.0632 - val_accuracy: 0.3158 - val_loss: 1.0487\n",
            "Epoch 15/50\n",
            "\u001b[1m4/4\u001b[0m \u001b[32m━━━━━━━━━━━━━━━━━━━━\u001b[0m\u001b[37m\u001b[0m \u001b[1m0s\u001b[0m 30ms/step - accuracy: 0.4022 - loss: 1.0498 - val_accuracy: 0.3158 - val_loss: 1.0423\n",
            "Epoch 16/50\n",
            "\u001b[1m4/4\u001b[0m \u001b[32m━━━━━━━━━━━━━━━━━━━━\u001b[0m\u001b[37m\u001b[0m \u001b[1m0s\u001b[0m 26ms/step - accuracy: 0.4339 - loss: 1.0486 - val_accuracy: 0.3158 - val_loss: 1.0359\n",
            "Epoch 17/50\n",
            "\u001b[1m4/4\u001b[0m \u001b[32m━━━━━━━━━━━━━━━━━━━━\u001b[0m\u001b[37m\u001b[0m \u001b[1m0s\u001b[0m 26ms/step - accuracy: 0.4146 - loss: 1.0348 - val_accuracy: 0.3158 - val_loss: 1.0296\n",
            "Epoch 18/50\n",
            "\u001b[1m4/4\u001b[0m \u001b[32m━━━━━━━━━━━━━━━━━━━━\u001b[0m\u001b[37m\u001b[0m \u001b[1m0s\u001b[0m 26ms/step - accuracy: 0.4359 - loss: 1.0433 - val_accuracy: 0.3684 - val_loss: 1.0232\n",
            "Epoch 19/50\n",
            "\u001b[1m4/4\u001b[0m \u001b[32m━━━━━━━━━━━━━━━━━━━━\u001b[0m\u001b[37m\u001b[0m \u001b[1m0s\u001b[0m 26ms/step - accuracy: 0.4619 - loss: 1.0246 - val_accuracy: 0.3684 - val_loss: 1.0166\n",
            "Epoch 20/50\n",
            "\u001b[1m4/4\u001b[0m \u001b[32m━━━━━━━━━━━━━━━━━━━━\u001b[0m\u001b[37m\u001b[0m \u001b[1m0s\u001b[0m 30ms/step - accuracy: 0.4484 - loss: 1.0194 - val_accuracy: 0.3947 - val_loss: 1.0102\n",
            "Epoch 21/50\n",
            "\u001b[1m4/4\u001b[0m \u001b[32m━━━━━━━━━━━━━━━━━━━━\u001b[0m\u001b[37m\u001b[0m \u001b[1m0s\u001b[0m 29ms/step - accuracy: 0.4202 - loss: 1.0131 - val_accuracy: 0.3947 - val_loss: 1.0036\n",
            "Epoch 22/50\n",
            "\u001b[1m4/4\u001b[0m \u001b[32m━━━━━━━━━━━━━━━━━━━━\u001b[0m\u001b[37m\u001b[0m \u001b[1m0s\u001b[0m 28ms/step - accuracy: 0.4515 - loss: 1.0053 - val_accuracy: 0.3947 - val_loss: 0.9968\n",
            "Epoch 23/50\n",
            "\u001b[1m4/4\u001b[0m \u001b[32m━━━━━━━━━━━━━━━━━━━━\u001b[0m\u001b[37m\u001b[0m \u001b[1m0s\u001b[0m 32ms/step - accuracy: 0.4661 - loss: 0.9934 - val_accuracy: 0.3947 - val_loss: 0.9898\n",
            "Epoch 24/50\n",
            "\u001b[1m4/4\u001b[0m \u001b[32m━━━━━━━━━━━━━━━━━━━━\u001b[0m\u001b[37m\u001b[0m \u001b[1m0s\u001b[0m 27ms/step - accuracy: 0.4707 - loss: 0.9950 - val_accuracy: 0.4211 - val_loss: 0.9827\n",
            "Epoch 25/50\n",
            "\u001b[1m4/4\u001b[0m \u001b[32m━━━━━━━━━━━━━━━━━━━━\u001b[0m\u001b[37m\u001b[0m \u001b[1m0s\u001b[0m 28ms/step - accuracy: 0.4815 - loss: 0.9731 - val_accuracy: 0.4211 - val_loss: 0.9753\n",
            "Epoch 26/50\n",
            "\u001b[1m4/4\u001b[0m \u001b[32m━━━━━━━━━━━━━━━━━━━━\u001b[0m\u001b[37m\u001b[0m \u001b[1m0s\u001b[0m 26ms/step - accuracy: 0.4222 - loss: 0.9874 - val_accuracy: 0.4211 - val_loss: 0.9679\n",
            "Epoch 27/50\n",
            "\u001b[1m4/4\u001b[0m \u001b[32m━━━━━━━━━━━━━━━━━━━━\u001b[0m\u001b[37m\u001b[0m \u001b[1m0s\u001b[0m 26ms/step - accuracy: 0.5034 - loss: 0.9606 - val_accuracy: 0.4211 - val_loss: 0.9604\n",
            "Epoch 28/50\n",
            "\u001b[1m4/4\u001b[0m \u001b[32m━━━━━━━━━━━━━━━━━━━━\u001b[0m\u001b[37m\u001b[0m \u001b[1m0s\u001b[0m 26ms/step - accuracy: 0.4513 - loss: 0.9682 - val_accuracy: 0.4211 - val_loss: 0.9528\n",
            "Epoch 29/50\n",
            "\u001b[1m4/4\u001b[0m \u001b[32m━━━━━━━━━━━━━━━━━━━━\u001b[0m\u001b[37m\u001b[0m \u001b[1m0s\u001b[0m 25ms/step - accuracy: 0.4549 - loss: 0.9604 - val_accuracy: 0.4211 - val_loss: 0.9452\n",
            "Epoch 30/50\n",
            "\u001b[1m4/4\u001b[0m \u001b[32m━━━━━━━━━━━━━━━━━━━━\u001b[0m\u001b[37m\u001b[0m \u001b[1m0s\u001b[0m 27ms/step - accuracy: 0.4927 - loss: 0.9416 - val_accuracy: 0.4737 - val_loss: 0.9373\n",
            "Epoch 31/50\n",
            "\u001b[1m4/4\u001b[0m \u001b[32m━━━━━━━━━━━━━━━━━━━━\u001b[0m\u001b[37m\u001b[0m \u001b[1m0s\u001b[0m 29ms/step - accuracy: 0.5860 - loss: 0.9368 - val_accuracy: 0.4474 - val_loss: 0.9296\n",
            "Epoch 32/50\n",
            "\u001b[1m4/4\u001b[0m \u001b[32m━━━━━━━━━━━━━━━━━━━━\u001b[0m\u001b[37m\u001b[0m \u001b[1m0s\u001b[0m 26ms/step - accuracy: 0.5780 - loss: 0.9338 - val_accuracy: 0.4474 - val_loss: 0.9220\n",
            "Epoch 33/50\n",
            "\u001b[1m4/4\u001b[0m \u001b[32m━━━━━━━━━━━━━━━━━━━━\u001b[0m\u001b[37m\u001b[0m \u001b[1m0s\u001b[0m 40ms/step - accuracy: 0.5888 - loss: 0.9171 - val_accuracy: 0.4737 - val_loss: 0.9144\n",
            "Epoch 34/50\n",
            "\u001b[1m4/4\u001b[0m \u001b[32m━━━━━━━━━━━━━━━━━━━━\u001b[0m\u001b[37m\u001b[0m \u001b[1m0s\u001b[0m 38ms/step - accuracy: 0.6153 - loss: 0.9200 - val_accuracy: 0.5000 - val_loss: 0.9069\n",
            "Epoch 35/50\n",
            "\u001b[1m4/4\u001b[0m \u001b[32m━━━━━━━━━━━━━━━━━━━━\u001b[0m\u001b[37m\u001b[0m \u001b[1m0s\u001b[0m 47ms/step - accuracy: 0.6275 - loss: 0.9176 - val_accuracy: 0.5263 - val_loss: 0.8991\n",
            "Epoch 36/50\n",
            "\u001b[1m4/4\u001b[0m \u001b[32m━━━━━━━━━━━━━━━━━━━━\u001b[0m\u001b[37m\u001b[0m \u001b[1m0s\u001b[0m 44ms/step - accuracy: 0.6274 - loss: 0.9091 - val_accuracy: 0.6316 - val_loss: 0.8911\n",
            "Epoch 37/50\n",
            "\u001b[1m4/4\u001b[0m \u001b[32m━━━━━━━━━━━━━━━━━━━━\u001b[0m\u001b[37m\u001b[0m \u001b[1m0s\u001b[0m 48ms/step - accuracy: 0.6769 - loss: 0.8881 - val_accuracy: 0.7368 - val_loss: 0.8829\n",
            "Epoch 38/50\n",
            "\u001b[1m4/4\u001b[0m \u001b[32m━━━━━━━━━━━━━━━━━━━━\u001b[0m\u001b[37m\u001b[0m \u001b[1m0s\u001b[0m 39ms/step - accuracy: 0.7379 - loss: 0.8827 - val_accuracy: 0.7368 - val_loss: 0.8745\n",
            "Epoch 39/50\n",
            "\u001b[1m4/4\u001b[0m \u001b[32m━━━━━━━━━━━━━━━━━━━━\u001b[0m\u001b[37m\u001b[0m \u001b[1m0s\u001b[0m 48ms/step - accuracy: 0.8033 - loss: 0.8726 - val_accuracy: 0.7368 - val_loss: 0.8659\n",
            "Epoch 40/50\n",
            "\u001b[1m4/4\u001b[0m \u001b[32m━━━━━━━━━━━━━━━━━━━━\u001b[0m\u001b[37m\u001b[0m \u001b[1m0s\u001b[0m 48ms/step - accuracy: 0.8074 - loss: 0.8583 - val_accuracy: 0.7895 - val_loss: 0.8575\n",
            "Epoch 41/50\n",
            "\u001b[1m4/4\u001b[0m \u001b[32m━━━━━━━━━━━━━━━━━━━━\u001b[0m\u001b[37m\u001b[0m \u001b[1m0s\u001b[0m 50ms/step - accuracy: 0.8286 - loss: 0.8527 - val_accuracy: 0.7895 - val_loss: 0.8490\n",
            "Epoch 42/50\n",
            "\u001b[1m4/4\u001b[0m \u001b[32m━━━━━━━━━━━━━━━━━━━━\u001b[0m\u001b[37m\u001b[0m \u001b[1m0s\u001b[0m 25ms/step - accuracy: 0.8088 - loss: 0.8638 - val_accuracy: 0.8684 - val_loss: 0.8404\n",
            "Epoch 43/50\n",
            "\u001b[1m4/4\u001b[0m \u001b[32m━━━━━━━━━━━━━━━━━━━━\u001b[0m\u001b[37m\u001b[0m \u001b[1m0s\u001b[0m 25ms/step - accuracy: 0.8457 - loss: 0.8397 - val_accuracy: 0.8684 - val_loss: 0.8323\n",
            "Epoch 44/50\n",
            "\u001b[1m4/4\u001b[0m \u001b[32m━━━━━━━━━━━━━━━━━━━━\u001b[0m\u001b[37m\u001b[0m \u001b[1m0s\u001b[0m 26ms/step - accuracy: 0.8509 - loss: 0.8415 - val_accuracy: 0.8684 - val_loss: 0.8240\n",
            "Epoch 45/50\n",
            "\u001b[1m4/4\u001b[0m \u001b[32m━━━━━━━━━━━━━━━━━━━━\u001b[0m\u001b[37m\u001b[0m \u001b[1m0s\u001b[0m 28ms/step - accuracy: 0.8363 - loss: 0.8210 - val_accuracy: 0.8684 - val_loss: 0.8154\n",
            "Epoch 46/50\n",
            "\u001b[1m4/4\u001b[0m \u001b[32m━━━━━━━━━━━━━━━━━━━━\u001b[0m\u001b[37m\u001b[0m \u001b[1m0s\u001b[0m 38ms/step - accuracy: 0.8211 - loss: 0.8289 - val_accuracy: 0.8684 - val_loss: 0.8066\n",
            "Epoch 47/50\n",
            "\u001b[1m4/4\u001b[0m \u001b[32m━━━━━━━━━━━━━━━━━━━━\u001b[0m\u001b[37m\u001b[0m \u001b[1m0s\u001b[0m 25ms/step - accuracy: 0.8097 - loss: 0.8240 - val_accuracy: 0.8684 - val_loss: 0.7974\n",
            "Epoch 48/50\n",
            "\u001b[1m4/4\u001b[0m \u001b[32m━━━━━━━━━━━━━━━━━━━━\u001b[0m\u001b[37m\u001b[0m \u001b[1m0s\u001b[0m 26ms/step - accuracy: 0.8534 - loss: 0.8002 - val_accuracy: 0.8684 - val_loss: 0.7883\n",
            "Epoch 49/50\n",
            "\u001b[1m4/4\u001b[0m \u001b[32m━━━━━━━━━━━━━━━━━━━━\u001b[0m\u001b[37m\u001b[0m \u001b[1m0s\u001b[0m 27ms/step - accuracy: 0.8247 - loss: 0.8053 - val_accuracy: 0.8684 - val_loss: 0.7791\n",
            "Epoch 50/50\n",
            "\u001b[1m4/4\u001b[0m \u001b[32m━━━━━━━━━━━━━━━━━━━━\u001b[0m\u001b[37m\u001b[0m \u001b[1m0s\u001b[0m 27ms/step - accuracy: 0.8382 - loss: 0.7929 - val_accuracy: 0.8684 - val_loss: 0.7696\n"
          ]
        }
      ]
    },
    {
      "cell_type": "code",
      "source": [
        "# Step 4: Evaluate and Visualize Results\n",
        "test_loss, test_acc = model.evaluate(X_test, y_test)\n",
        "print('\\nTest accuracy:', test_acc)\n",
        "\n",
        "import matplotlib.pyplot as plt\n",
        "plt.plot(history.history['accuracy'], label='Train Acc')\n",
        "plt.plot(history.history['val_accuracy'], label='Val Acc')\n",
        "plt.xlabel('Epoch')\n",
        "plt.ylabel('Accuracy')\n",
        "plt.legend()\n",
        "plt.title('Accuracy Over Epochs')\n",
        "plt.show()"
      ],
      "metadata": {
        "id": "wKT_Ri7EF_bl",
        "outputId": "69c893c8-59fe-439e-e8f9-7a6c4d2e80a2",
        "colab": {
          "base_uri": "https://localhost:8080/",
          "height": 526
        }
      },
      "execution_count": 31,
      "outputs": [
        {
          "output_type": "stream",
          "name": "stdout",
          "text": [
            "\u001b[1m2/2\u001b[0m \u001b[32m━━━━━━━━━━━━━━━━━━━━\u001b[0m\u001b[37m\u001b[0m \u001b[1m0s\u001b[0m 26ms/step - accuracy: 0.8810 - loss: 0.7577\n",
            "\n",
            "Test accuracy: 0.8684210777282715\n"
          ]
        },
        {
          "output_type": "display_data",
          "data": {
            "text/plain": [
              "<Figure size 640x480 with 1 Axes>"
            ],
            "image/png": "[encoded data removed]"
          },
          "metadata": {}
        }
      ]
    },
    {
      "cell_type": "markdown",
      "source": [
        "### Extension and Discussion:\n",
        "- Experiment with more or fewer layers/neurons, different activation functions.\n",
        "\n",
        "- Visualize the loss curve: plt.plot(history.history['loss'])\n",
        "\n",
        "- Try predicting the species of a new iris measurement by:\n",
        "  ```python\n",
        "  example = scaler.transform([[5.1, 3.5, 1.4, 0.2]])\n",
        "print(model.predict(example))\n",
        "```"
      ],
      "metadata": {
        "id": "zL-ijUGsGP4x"
      }
    }
  ],
  "metadata": {
    "colab": {
      "name": "Welcome to Colab",
      "toc_visible": true,
      "provenance": []
    },
    "kernelspec": {
      "display_name": "Python 3",
      "name": "python3"
    }
  },
  "nbformat": 4,
  "nbformat_minor": 0
}