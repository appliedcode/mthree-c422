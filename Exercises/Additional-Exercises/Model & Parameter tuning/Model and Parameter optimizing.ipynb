{
 "cells": [
  {
   "cell_type": "code",
   "execution_count": 55,
   "id": "95011698-2e60-4104-818c-7356a3bafac2",
   "metadata": {},
   "outputs": [],
   "source": [
    "from sklearn.svm import SVC\n",
    "from sklearn.naive_bayes import GaussianNB\n",
    "from sklearn.naive_bayes import MultinomialNB\n",
    "from sklearn.ensemble import RandomForestClassifier\n",
    "from sklearn.linear_model import LogisticRegression\n",
    "from sklearn.tree import DecisionTreeClassifier\n",
    "from sklearn.datasets import load_digits"
   ]
  },
  {
   "cell_type": "code",
   "execution_count": 56,
   "id": "533df134-7e8e-43f2-bfa6-a38459a2992c",
   "metadata": {},
   "outputs": [
    {
     "data": {
      "text/plain": [
       "['DESCR', 'data', 'feature_names', 'frame', 'images', 'target', 'target_names']"
      ]
     },
     "execution_count": 56,
     "metadata": {},
     "output_type": "execute_result"
    }
   ],
   "source": [
    "digits = load_digits()\n",
    "dir(digits)"
   ]
  },
  {
   "cell_type": "code",
   "execution_count": 57,
   "id": "93a69ebd-c9c0-4acb-b024-8e94481023b0",
   "metadata": {},
   "outputs": [],
   "source": [
    "model_params = {\n",
    "    'SVC': {\n",
    "        'model': SVC(gamma = 'auto'),\n",
    "        'params': {\n",
    "            'C': [1, 10, 40],\n",
    "            'kernel': ['rbf', 'linear']}},\n",
    "    \n",
    "    'GaussianNB': {\n",
    "        'model': GaussianNB(),\n",
    "         'params': {}\n",
    "    }, \n",
    "    \n",
    "    'MultinomialNB': {\n",
    "        'model': MultinomialNB(),\n",
    "        'params': {}\n",
    "    },\n",
    "    \n",
    "    'RandomForest': {\n",
    "        'model': RandomForestClassifier(),\n",
    "        'params': {\n",
    "            'n_estimators': [10, 40, 100]}},\n",
    "    \n",
    "    'Logistic': {\n",
    "        'model': LogisticRegression(max_iter = 1000000),\n",
    "        'params': {\n",
    "            'C': [1, 5, 10]}\n",
    "        },\n",
    "    \n",
    "    'Decision Tree': { \n",
    "        'model': DecisionTreeClassifier(), \n",
    "        'params': {\n",
    "            'criterion': ['gini','entropy']}\n",
    "    }\n",
    "}"
   ]
  },
  {
   "cell_type": "code",
   "execution_count": 58,
   "id": "2052362b-602b-47ff-a82b-c27435115fe9",
   "metadata": {},
   "outputs": [
    {
     "data": {
      "text/plain": [
       "[{'model': 'SVC',\n",
       "  'best_params': {'C': 1, 'kernel': 'linear'},\n",
       "  'best_score': 0.9476973073351903},\n",
       " {'model': 'GaussianNB', 'best_params': {}, 'best_score': 0.8069281956050759},\n",
       " {'model': 'MultinomialNB',\n",
       "  'best_params': {},\n",
       "  'best_score': 0.8703497369235531},\n",
       " {'model': 'RandomForest',\n",
       "  'best_params': {'n_estimators': 100},\n",
       "  'best_score': 0.941580006190034},\n",
       " {'model': 'Logistic',\n",
       "  'best_params': {'C': 1},\n",
       "  'best_score': 0.9148777468276075},\n",
       " {'model': 'Decision Tree',\n",
       "  'best_params': {'criterion': 'entropy'},\n",
       "  'best_score': 0.8058093469514083}]"
      ]
     },
     "execution_count": 58,
     "metadata": {},
     "output_type": "execute_result"
    }
   ],
   "source": [
    "from sklearn.model_selection import GridSearchCV\n",
    "\n",
    "scores = []\n",
    "\n",
    "for model_name, mp in model_params.items():\n",
    "    clf = GridSearchCV(mp['model'], mp['params'], cv = 5, return_train_score = False)\n",
    "    clf.fit(digits.data, digits.target)\n",
    "    scores.append({\n",
    "        'model': model_name,\n",
    "        'best_params': clf.best_params_,\n",
    "        'best_score': clf.best_score_})\n",
    "\n",
    "scores"
   ]
  },
  {
   "cell_type": "code",
   "execution_count": 59,
   "id": "f8ad5761-1393-4d9f-a4af-deb9e52bad01",
   "metadata": {},
   "outputs": [
    {
     "data": {
      "text/html": [
       "<div>\n",
       "<style scoped>\n",
       "    .dataframe tbody tr th:only-of-type {\n",
       "        vertical-align: middle;\n",
       "    }\n",
       "\n",
       "    .dataframe tbody tr th {\n",
       "        vertical-align: top;\n",
       "    }\n",
       "\n",
       "    .dataframe thead th {\n",
       "        text-align: right;\n",
       "    }\n",
       "</style>\n",
       "<table border=\"1\" class=\"dataframe\">\n",
       "  <thead>\n",
       "    <tr style=\"text-align: right;\">\n",
       "      <th></th>\n",
       "      <th>model</th>\n",
       "      <th>best_params</th>\n",
       "      <th>best_score</th>\n",
       "    </tr>\n",
       "  </thead>\n",
       "  <tbody>\n",
       "    <tr>\n",
       "      <th>0</th>\n",
       "      <td>SVC</td>\n",
       "      <td>{'C': 1, 'kernel': 'linear'}</td>\n",
       "      <td>0.947697</td>\n",
       "    </tr>\n",
       "    <tr>\n",
       "      <th>1</th>\n",
       "      <td>GaussianNB</td>\n",
       "      <td>{}</td>\n",
       "      <td>0.806928</td>\n",
       "    </tr>\n",
       "    <tr>\n",
       "      <th>2</th>\n",
       "      <td>MultinomialNB</td>\n",
       "      <td>{}</td>\n",
       "      <td>0.870350</td>\n",
       "    </tr>\n",
       "    <tr>\n",
       "      <th>3</th>\n",
       "      <td>RandomForest</td>\n",
       "      <td>{'n_estimators': 100}</td>\n",
       "      <td>0.941580</td>\n",
       "    </tr>\n",
       "    <tr>\n",
       "      <th>4</th>\n",
       "      <td>Logistic</td>\n",
       "      <td>{'C': 1}</td>\n",
       "      <td>0.914878</td>\n",
       "    </tr>\n",
       "    <tr>\n",
       "      <th>5</th>\n",
       "      <td>Decision Tree</td>\n",
       "      <td>{'criterion': 'entropy'}</td>\n",
       "      <td>0.805809</td>\n",
       "    </tr>\n",
       "  </tbody>\n",
       "</table>\n",
       "</div>"
      ],
      "text/plain": [
       "           model                   best_params  best_score\n",
       "0            SVC  {'C': 1, 'kernel': 'linear'}    0.947697\n",
       "1     GaussianNB                            {}    0.806928\n",
       "2  MultinomialNB                            {}    0.870350\n",
       "3   RandomForest         {'n_estimators': 100}    0.941580\n",
       "4       Logistic                      {'C': 1}    0.914878\n",
       "5  Decision Tree      {'criterion': 'entropy'}    0.805809"
      ]
     },
     "execution_count": 59,
     "metadata": {},
     "output_type": "execute_result"
    }
   ],
   "source": [
    "import pandas as pd\n",
    "\n",
    "df = pd.DataFrame(scores, columns = ['model', 'best_params', 'best_score'])\n",
    "df"
   ]
  }
 ],
 "metadata": {
  "kernelspec": {
   "display_name": "Python [conda env:base] *",
   "language": "python",
   "name": "conda-base-py"
  },
  "language_info": {
   "codemirror_mode": {
    "name": "ipython",
    "version": 3
   },
   "file_extension": ".py",
   "mimetype": "text/x-python",
   "name": "python",
   "nbconvert_exporter": "python",
   "pygments_lexer": "ipython3",
   "version": "3.12.7"
  }
 },
 "nbformat": 4,
 "nbformat_minor": 5
}
