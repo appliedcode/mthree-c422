{
  "nbformat": 4,
  "nbformat_minor": 0,
  "metadata": {
    "colab": {
      "provenance": [],
      "authorship_tag": "ABX9TyOgS2+Fh5yMLt0UshcQESD0"
    },
    "kernelspec": {
      "name": "python3",
      "display_name": "Python 3"
    },
    "language_info": {
      "name": "python"
    }
  },
  "cells": [
    {
      "cell_type": "code",
      "execution_count": null,
      "metadata": {
        "colab": {
          "base_uri": "https://localhost:8080/"
        },
        "id": "-aAea11Iw2Ta",
        "outputId": "bd92f06f-dc02-4691-d400-7b930a09f58c"
      },
      "outputs": [
        {
          "output_type": "stream",
          "name": "stdout",
          "text": [
            "✅ OpenAI API key loaded safely\n"
          ]
        }
      ],
      "source": [
        "from google.colab import userdata\n",
        "import os\n",
        "\n",
        "# Set your OpenAI API key securely in Colab Secrets (once)\n",
        "# userdata.set(\"OPENAI_API_KEY\", \"your-api-key-here\")\n",
        "\n",
        "# Retrieve key in your notebook\n",
        "openai_api_key = userdata.get(\"OPENAI_API_KEY\")\n",
        "if openai_api_key:\n",
        "    os.environ[\"OPENAI_API_KEY\"] = openai_api_key\n",
        "    print(\"✅ OpenAI API key loaded safely\")\n",
        "else:\n",
        "    print(\"❌ OpenAI API key not found. Please set it using Colab Secrets.\")\n"
      ]
    },
    {
      "cell_type": "code",
      "source": [
        "def get_ai_response(prompt, model=\"gpt-4o-mini\", temperature=0.7):\n",
        "    try:\n",
        "        resp = client.chat.completions.create(\n",
        "            model=model,\n",
        "            messages=[{\"role\": \"user\", \"content\": prompt}],\n",
        "            temperature=temperature\n",
        "        )\n",
        "        return resp.choices[0].message.content.strip()\n",
        "    except Exception as e:\n",
        "        return f\"Error: {e}\""
      ],
      "metadata": {
        "id": "s6UIQIxFxijd"
      },
      "execution_count": null,
      "outputs": []
    },
    {
      "cell_type": "code",
      "source": [
        "import datetime\n",
        "\n",
        "prompt_log = []\n",
        "\n",
        "def log_prompt(prompt, response):\n",
        "    prompt_log.append({\n",
        "        \"timestamp\": datetime.datetime.now().isoformat(),\n",
        "        \"prompt\": prompt,\n",
        "        \"word_count\": len(prompt.split()),\n",
        "        \"response_excerpt\": response[:100]\n",
        "    })\n",
        "\n",
        "def print_logs():\n",
        "    for entry in prompt_log:\n",
        "        print(f\"[{entry['timestamp']}] Words: {entry['word_count']} | Prompt: {entry['prompt']}\")\n",
        "        print(f\"Response (excerpt): {entry['response_excerpt']}\\n\")\n",
        "\n",
        "# Test\n",
        "prompts = [\n",
        "    \"Explain the greenhouse effect.\",\n",
        "    \"List 3 benefits of renewable energy.\",\n",
        "    \"Explain the greenhouse effect.\"\n",
        "]\n",
        "\n",
        "for p in prompts:\n",
        "    r = get_ai_response(p)\n",
        "    log_prompt(p, r)\n",
        "\n",
        "print_logs()"
      ],
      "metadata": {
        "colab": {
          "base_uri": "https://localhost:8080/"
        },
        "id": "yU8zPn5H5Pvg",
        "outputId": "d377cd32-498f-4c5f-abc4-9a56515664d2"
      },
      "execution_count": null,
      "outputs": [
        {
          "output_type": "stream",
          "name": "stdout",
          "text": [
            "[2025-08-12T10:48:23.150782] Words: 4 | Prompt: Explain the greenhouse effect.\n",
            "Response (excerpt): Error: name 'client' is not defined\n",
            "\n",
            "[2025-08-12T10:48:23.150797] Words: 6 | Prompt: List 3 benefits of renewable energy.\n",
            "Response (excerpt): Error: name 'client' is not defined\n",
            "\n",
            "[2025-08-12T10:48:23.150801] Words: 4 | Prompt: Explain the greenhouse effect.\n",
            "Response (excerpt): Error: name 'client' is not defined\n",
            "\n"
          ]
        }
      ]
    },
    {
      "cell_type": "code",
      "source": [
        "# Here we simulate token counts (since direct token usage metadata may not be available)\n",
        "# We'll use an approximate word count as a stand-in\n",
        "token_log = []\n",
        "\n",
        "for p in prompts:\n",
        "    r = get_ai_response(p)\n",
        "    input_tokens = len(p.split()) * 1.3\n",
        "    output_tokens = len(r.split()) * 1.3\n",
        "    token_log.append({\"prompt\": p, \"input_tokens\": input_tokens, \"output_tokens\": output_tokens})\n",
        "\n",
        "avg_tokens = sum(e[\"input_tokens\"] + e[\"output_tokens\"] for e in token_log) / len(token_log)\n",
        "heaviest = max(token_log, key=lambda x: x[\"input_tokens\"] + x[\"output_tokens\"])\n",
        "\n",
        "print(\"Average tokens (approx):\", avg_tokens)\n",
        "print(\"Most token-heavy prompt:\", heaviest[\"prompt\"])"
      ],
      "metadata": {
        "colab": {
          "base_uri": "https://localhost:8080/"
        },
        "id": "xoJ_PgWF5gTw",
        "outputId": "1bc31ab9-6837-4bec-c36d-44c0680b2194"
      },
      "execution_count": null,
      "outputs": [
        {
          "output_type": "stream",
          "name": "stdout",
          "text": [
            "Average tokens (approx): 13.866666666666667\n",
            "Most token-heavy prompt: List 3 benefits of renewable energy.\n"
          ]
        }
      ]
    },
    {
      "cell_type": "code",
      "source": [
        "seen = {}\n",
        "for entry in prompt_log:\n",
        "    seen[entry['prompt']] = seen.get(entry['prompt'], 0) + 1\n",
        "\n",
        "print(\"Duplicate Prompts:\")\n",
        "for prompt, count in seen.items():\n",
        "    if count > 1:\n",
        "        print(f\"{prompt} -> {count} times\")"
      ],
      "metadata": {
        "colab": {
          "base_uri": "https://localhost:8080/"
        },
        "id": "H9v1h4j25izu",
        "outputId": "0056d345-744c-47b9-aced-173b8dfeda56"
      },
      "execution_count": null,
      "outputs": [
        {
          "output_type": "stream",
          "name": "stdout",
          "text": [
            "Duplicate Prompts:\n",
            "Explain the greenhouse effect. -> 2 times\n"
          ]
        }
      ]
    },
    {
      "cell_type": "code",
      "source": [
        "biased = \"Why are some groups less skilled at math?\"\n",
        "print(\"=== Biased Output ===\")\n",
        "print(get_ai_response(biased), \"\\n\")\n",
        "\n",
        "ethical = \"\"\"\n",
        "Discuss factors that can influence mathematical skills across all groups.\n",
        "Highlight equal potential and avoid stereotypes.\n",
        "\"\"\"\n",
        "print(\"=== Ethical Output ===\")\n",
        "print(get_ai_response(ethical))"
      ],
      "metadata": {
        "colab": {
          "base_uri": "https://localhost:8080/"
        },
        "id": "N5qOHKNr5nb5",
        "outputId": "cd5abdc3-bbcc-4e59-bbf9-973225c4eb63"
      },
      "execution_count": null,
      "outputs": [
        {
          "output_type": "stream",
          "name": "stdout",
          "text": [
            "=== Biased Output ===\n",
            "Error: name 'client' is not defined \n",
            "\n",
            "=== Ethical Output ===\n",
            "Error: name 'client' is not defined\n"
          ]
        }
      ]
    },
    {
      "cell_type": "code",
      "source": [
        "role_prompt = \"\"\"\n",
        "You are an AI providing general health information.\n",
        "You are NOT a medical professional.\n",
        "Always encourage consultation with licensed experts for diagnosis or medication.\n",
        "Question: What are treatments for high blood pressure?\n",
        "\"\"\"\n",
        "print(get_ai_response(role_prompt))"
      ],
      "metadata": {
        "colab": {
          "base_uri": "https://localhost:8080/"
        },
        "id": "OStMQSr75sl5",
        "outputId": "2c0d3532-d5a7-4e47-a547-2a382e6ec8dd"
      },
      "execution_count": null,
      "outputs": [
        {
          "output_type": "stream",
          "name": "stdout",
          "text": [
            "Error: name 'client' is not defined\n"
          ]
        }
      ]
    },
    {
      "cell_type": "code",
      "source": [
        "unsafe = \"Write a short violent story.\"\n",
        "print(\"=== Unsafe Prompt ===\")\n",
        "print(get_ai_response(unsafe), \"\\n\")\n",
        "\n",
        "safe = \"\"\"\n",
        "Write a short story about a conflict resolution.\n",
        "Avoid any graphic or violent details, focus on peaceful solutions.\n",
        "\"\"\"\n",
        "print(\"=== Safe Prompt ===\")\n",
        "print(get_ai_response(safe))"
      ],
      "metadata": {
        "colab": {
          "base_uri": "https://localhost:8080/"
        },
        "id": "iCwVThfJ5wS6",
        "outputId": "8d0af4c3-1dd3-4538-f191-4ec1caec6324"
      },
      "execution_count": null,
      "outputs": [
        {
          "output_type": "stream",
          "name": "stdout",
          "text": [
            "=== Unsafe Prompt ===\n",
            "Error: name 'client' is not defined \n",
            "\n",
            "=== Safe Prompt ===\n",
            "Error: name 'client' is not defined\n"
          ]
        }
      ]
    },
    {
      "cell_type": "code",
      "source": [
        "unsafe_privacy = \"Provide the home address of Elon Musk.\"\n",
        "print(\"=== Unsafe Privacy Prompt ===\")\n",
        "print(get_ai_response(unsafe_privacy), \"\\n\")\n",
        "\n",
        "safe_privacy = \"\"\"\n",
        "Provide a biography of Elon Musk focusing on public achievements, career milestones,\n",
        "and contributions to technology. Do NOT reveal any personal contact or residential details.\n",
        "\"\"\"\n",
        "print(\"=== Safe Privacy Prompt ===\")\n",
        "print(get_ai_response(safe_privacy))"
      ],
      "metadata": {
        "colab": {
          "base_uri": "https://localhost:8080/"
        },
        "id": "Hr4wi8c35_A6",
        "outputId": "d3307161-c3c0-4a09-acd7-9f74b30ed7ef"
      },
      "execution_count": null,
      "outputs": [
        {
          "output_type": "stream",
          "name": "stdout",
          "text": [
            "=== Unsafe Privacy Prompt ===\n",
            "Error: name 'client' is not defined \n",
            "\n",
            "=== Safe Privacy Prompt ===\n",
            "Error: name 'client' is not defined\n"
          ]
        }
      ]
    },
    {
      "cell_type": "code",
      "source": [
        "# Simulate chatbot storing sensitive data\n",
        "chat_history = []\n",
        "\n",
        "def chatbot_round(user_input):\n",
        "    chat_history.append(user_input)\n",
        "    if \"credit card\" in user_input.lower():\n",
        "        return \"For your security, I cannot store or process credit card info.\"\n",
        "    else:\n",
        "        return get_ai_response(user_input)\n",
        "\n",
        "# Unsafe example\n",
        "print(chatbot_round(\"My credit card number is 1234-5678-9876-5432\"))\n",
        "print(chatbot_round(\"What did I just tell you?\"))  # Should not leak\n",
        "\n",
        "# Mask sensitive info before saving\n",
        "import re\n",
        "\n",
        "def secure_chatbot_round(user_input):\n",
        "    masked = re.sub(r\"\\b(\\d{4}[- ]?){3}\\d{4}\\b\", \"[REDACTED]\", user_input)\n",
        "    chat_history.append(masked)\n",
        "    return get_ai_response(masked)\n",
        "\n",
        "print(secure_chatbot_round(\"My credit card number is 1234-5678-9876-5432\"))"
      ],
      "metadata": {
        "colab": {
          "base_uri": "https://localhost:8080/"
        },
        "id": "yVP_QQ9T7Iir",
        "outputId": "821383e8-3ee9-4231-c40b-6f35abc024bc"
      },
      "execution_count": null,
      "outputs": [
        {
          "output_type": "stream",
          "name": "stdout",
          "text": [
            "For your security, I cannot store or process credit card info.\n",
            "Error: name 'client' is not defined\n",
            "Error: name 'client' is not defined\n"
          ]
        }
      ]
    },
    {
      "cell_type": "code",
      "source": [
        "role_guard = \"\"\"\n",
        "You are a STEM tutor. You can only answer questions related to science, technology, engineering, or math.\n",
        "If the question is outside these topics, politely refuse and suggest a STEM question instead.\n",
        "\"\"\"\n",
        "\n",
        "questions = [\n",
        "    \"What is Newton's second law?\",\n",
        "    \"Tell me the current stock price of Apple.\",\n",
        "    \"Explain the process of photosynthesis.\"\n",
        "]\n",
        "\n",
        "for q in questions:\n",
        "    resp = get_ai_response(f\"{role_guard}\\nQuestion: {q}\\nAnswer:\")\n",
        "    print(f\"Q: {q}\\nA: {resp}\\n\")"
      ],
      "metadata": {
        "colab": {
          "base_uri": "https://localhost:8080/"
        },
        "id": "WT6Ufzzz7K1x",
        "outputId": "b623d341-9f58-4a8b-d99b-1270a409f9b3"
      },
      "execution_count": null,
      "outputs": [
        {
          "output_type": "stream",
          "name": "stdout",
          "text": [
            "Q: What is Newton's second law?\n",
            "A: Error: name 'client' is not defined\n",
            "\n",
            "Q: Tell me the current stock price of Apple.\n",
            "A: Error: name 'client' is not defined\n",
            "\n",
            "Q: Explain the process of photosynthesis.\n",
            "A: Error: name 'client' is not defined\n",
            "\n"
          ]
        }
      ]
    },
    {
      "cell_type": "code",
      "source": [
        "import datetime\n",
        "\n",
        "# Initialize log storage\n",
        "prompt_log = []\n",
        "\n",
        "def log_prompt_response(prompt, response):\n",
        "    timestamp = datetime.datetime.now().isoformat()\n",
        "    entry = {\n",
        "        \"timestamp\": timestamp,\n",
        "        \"prompt\": prompt,\n",
        "        \"response_excerpt\": response[:100]  # Save first 100 chars only\n",
        "    }\n",
        "    prompt_log.append(entry)\n",
        "\n",
        "def print_log():\n",
        "    for e in prompt_log:\n",
        "        print(f\"[{e['timestamp']}] Prompt: {e['prompt']}\")\n",
        "        print(f\"Response (excerpt): {e['response_excerpt']}\\n\")\n",
        "\n",
        "# Example usage\n",
        "sample_prompts = [\n",
        "    \"Explain the greenhouse effect.\",\n",
        "    \"List 3 benefits of renewable energy.\",\n",
        "    \"Explain the greenhouse effect.\"\n",
        "]\n",
        "\n",
        "for p in sample_prompts:\n",
        "    r = get_ai_response(p)\n",
        "    log_prompt_response(p, r)\n",
        "\n",
        "print_log()"
      ],
      "metadata": {
        "colab": {
          "base_uri": "https://localhost:8080/"
        },
        "id": "aJy_it_f7ckB",
        "outputId": "428a56ee-9a4c-4bbd-9e71-49d08b8d0194"
      },
      "execution_count": null,
      "outputs": [
        {
          "output_type": "stream",
          "name": "stdout",
          "text": [
            "[2025-08-12T11:02:41.000054] Prompt: Explain the greenhouse effect.\n",
            "Response (excerpt): Error: name 'client' is not defined\n",
            "\n",
            "[2025-08-12T11:02:41.000078] Prompt: List 3 benefits of renewable energy.\n",
            "Response (excerpt): Error: name 'client' is not defined\n",
            "\n",
            "[2025-08-12T11:02:41.000084] Prompt: Explain the greenhouse effect.\n",
            "Response (excerpt): Error: name 'client' is not defined\n",
            "\n"
          ]
        }
      ]
    },
    {
      "cell_type": "code",
      "metadata": {
        "id": "4e55aa4b"
      },
      "source": [
        "from openai import OpenAI\n",
        "\n",
        "client = OpenAI(api_key=openai_api_key)"
      ],
      "execution_count": null,
      "outputs": []
    },
    {
      "cell_type": "code",
      "source": [
        "# Biased prompt\n",
        "biased_prompt = \"Why are some groups less skilled at math?\"\n",
        "\n",
        "print(\"Biased Prompt Output:\")\n",
        "print(get_ai_response(biased_prompt), \"\\n\")\n",
        "\n",
        "# Ethical refined prompt\n",
        "ethical_prompt = \"\"\"\n",
        "Discuss factors that influence mathematical skills across all groups,\n",
        "emphasizing equal potential and avoiding stereotypes or biases.\n",
        "\"\"\"\n",
        "\n",
        "print(\"Ethical Prompt Output:\")\n",
        "print(get_ai_response(ethical_prompt))"
      ],
      "metadata": {
        "colab": {
          "base_uri": "https://localhost:8080/"
        },
        "id": "eP1EB2LY8wx5",
        "outputId": "1c6f0030-1c18-48f8-e1aa-37a9610d4e46"
      },
      "execution_count": null,
      "outputs": [
        {
          "output_type": "stream",
          "name": "stdout",
          "text": [
            "Biased Prompt Output:\n",
            "The perception that certain groups are less skilled at math can be attributed to a complex interplay of various factors, including socio-economic status, educational opportunities, cultural attitudes towards mathematics, and systemic biases. Here are some of the key factors:\n",
            "\n",
            "1. **Educational Access and Resources**: Disparities in access to quality education can significantly influence math skills. Schools in underfunded areas may lack qualified teachers, advanced coursework, and resources like tutoring or technology.\n",
            "\n",
            "2. **Socioeconomic Status**: Children from lower socioeconomic backgrounds may face challenges that affect their academic performance, including limited access to educational materials, extracurricular activities, and a home environment that supports learning.\n",
            "\n",
            "3. **Cultural Attitudes**: Cultural perceptions of math and education can shape student attitudes and motivation. In some cultures, there may be a stronger emphasis on math and science, while in others, these subjects might not be prioritized.\n",
            "\n",
            "4. **Self-Perception and Stereotypes**: Stereotype threat can affect performance. If individuals belong to a group that is stereotyped as being less skilled in math, they may experience anxiety that negatively impacts their performance.\n",
            "\n",
            "5. **Teaching Practices**: Different teaching methods and curricula can also impact math learning. Traditional approaches may not engage all learners effectively, and a lack of emphasis on critical thinking and problem-solving can hinder skill development.\n",
            "\n",
            "6. **Family Support and Expectations**: Parental involvement and expectations can play a critical role in a child’s academic success. Families that prioritize education and provide support can help children excel in math.\n",
            "\n",
            "7. **Language and Communication**: For non-native speakers or those from multilingual backgrounds, language barriers can affect understanding of math concepts, particularly if the instruction is not culturally relevant or accessible.\n",
            "\n",
            "8. **Psychological Factors**: Anxiety around math, often referred to as \"math anxiety,\" can affect performance. This can be exacerbated by negative past experiences or societal messages about math abilities.\n",
            "\n",
            "It's important to note that while statistical trends may show differences in performance among groups, these differences do not reflect inherent abilities. They are largely shaped by external factors, and addressing these disparities through equitable education policies and practices can help improve math outcomes for all groups. \n",
            "\n",
            "Ethical Prompt Output:\n",
            "Mathematical skills are influenced by a myriad of factors that extend beyond inherent ability or intelligence, emphasizing the principle of equal potential among all individuals. Here are several key factors that contribute to the development of mathematical skills across various groups:\n",
            "\n",
            "### 1. **Educational Opportunities**\n",
            "   - **Access to Quality Education**: Equal access to quality education is fundamental in developing mathematical skills. Schools that provide strong curricula, competent teachers, and resources can significantly enhance students' mathematical understanding.\n",
            "   - **Curriculum and Instruction Methods**: Diverse instructional approaches, including hands-on learning, technology integration, and differentiated instruction, cater to varied learning styles and foster a deeper understanding of mathematical concepts.\n",
            "\n",
            "### 2. **Cultural and Social Context**\n",
            "   - **Cultural Attitudes Toward Mathematics**: Different cultures have various perspectives on mathematics, which can influence students' motivation and interest. Cultures that value education and support mathematical learning can encourage greater participation and achievement.\n",
            "   - **Parental Involvement**: Support from parents and caregivers, including the encouragement of mathematical thinking in daily life and homework assistance, can positively impact children's attitudes and skills in mathematics.\n",
            "\n",
            "### 3. **Socioeconomic Factors**\n",
            "   - **Resource Availability**: Socioeconomic status can affect access to educational resources such as tutoring, books, and technology. Students from lower-income backgrounds may face challenges that can impede their mathematical development.\n",
            "   - **Stress and Environment**: Economic instability can create stress that distracts from learning. A stable home environment allows children to focus on their studies, including mathematics.\n",
            "\n",
            "### 4. **Psychological Factors**\n",
            "   - **Growth Mindset vs. Fixed Mindset**: Students who believe that their abilities can improve with effort (growth mindset) are more likely to engage with challenging mathematical problems and persist through difficulties, fostering better skills.\n",
            "   - **Self-Efficacy**: A student’s belief in their mathematical abilities influences their performance. Encouraging self-efficacy through positive reinforcement and support can help build confidence and competence in mathematics.\n",
            "\n",
            "### 5. **Peer Influence**\n",
            "   - **Collaborative Learning**: Interaction with peers can enhance understanding through collaborative problem-solving and discussion. Positive peer influences can motivate students to engage more deeply with mathematical concepts.\n",
            "   - **Role Models**: Exposure to diverse role models in mathematics—teachers, professionals, and community members—can inspire students and challenge stereotypes about who can excel in math.\n",
            "\n",
            "### 6. **Teacher Expectations and Training**\n",
            "   - **High Expectations**: Research shows that when teachers have high expectations for all students, regardless of background, it can lead to improved student performance. \n",
            "   - **Professional Development**: Training teachers to recognize and mitigate their biases can create a more inclusive classroom environment that supports all students.\n",
            "\n",
            "### 7. **Early Childhood Experiences**\n",
            "   - **Early Exposure to Mathematical Concepts**: Engaging with numbers, patterns, and problem-solving from a young age can lay a strong foundation for later mathematical skills. Play-based learning and informal math activities in early childhood can be beneficial.\n",
            "   - **Language and Communication**: The way mathematical language is introduced and discussed in early years can shape comfort with math. Promoting mathematical vocabulary and concepts in a supportive manner fosters early interest and understanding.\n",
            "\n",
            "### 8. **Technological Access**\n",
            "   - **Use of Technology**: Access to technology can enhance learning through interactive programs and resources that adapt to individual learning paces. Digital tools can make learning math more engaging and accessible.\n",
            "\n",
            "### Conclusion\n",
            "Fostering mathematical skills in all groups requires a holistic approach that recognizes the diverse influences on learning and development. By ensuring equitable access to resources, promoting positive cultural attitudes, providing supportive environments, and encouraging high expectations, we can help all individuals realize their full potential in mathematics, free from stereotypes and biases.\n"
          ]
        }
      ]
    },
    {
      "cell_type": "code",
      "metadata": {
        "colab": {
          "base_uri": "https://localhost:8080/"
        },
        "id": "4f5440e2",
        "outputId": "0b5ae5bf-7cac-4d0b-b4d4-9bd6bfab2062"
      },
      "source": [
        "import datetime\n",
        "from openai import OpenAI\n",
        "from google.colab import userdata\n",
        "import os\n",
        "\n",
        "# Retrieve and set OpenAI API key\n",
        "openai_api_key = userdata.get(\"OPENAI_API_KEY\")\n",
        "if openai_api_key:\n",
        "    os.environ[\"OPENAI_API_KEY\"] = openai_api_key\n",
        "    print(\"✅ OpenAI API key loaded safely\")\n",
        "else:\n",
        "    print(\"❌ OpenAI API key not found. Please set it using Colab Secrets.\")\n",
        "\n",
        "# Initialize the OpenAI client\n",
        "client = OpenAI(api_key=openai_api_key)\n",
        "\n",
        "def get_ai_response(prompt, model=\"gpt-4o-mini\", temperature=0.7):\n",
        "    try:\n",
        "        resp = client.chat.completions.create(\n",
        "            model=model,\n",
        "            messages=[{\"role\": \"user\", \"content\": prompt}],\n",
        "            temperature=temperature\n",
        "        )\n",
        "        return resp.choices[0].message.content.strip()\n",
        "    except Exception as e:\n",
        "        return f\"Error: {e}\"\n",
        "\n",
        "# Initialize log storage\n",
        "prompt_log = []\n",
        "\n",
        "def log_prompt_response(prompt, response):\n",
        "    timestamp = datetime.datetime.now().isoformat()\n",
        "    entry = {\n",
        "        \"timestamp\": timestamp,\n",
        "        \"prompt\": prompt,\n",
        "        \"response_excerpt\": response[:100]  # Save first 100 chars only\n",
        "    }\n",
        "    prompt_log.append(entry)\n",
        "\n",
        "def print_log():\n",
        "    for e in prompt_log:\n",
        "        print(f\"[{e['timestamp']}] Prompt: {e['prompt']}\")\n",
        "        print(f\"Response (excerpt): {e['response_excerpt']}\\n\")\n",
        "\n",
        "# Example usage\n",
        "sample_prompts = [\n",
        "    \"Explain the greenhouse effect.\",\n",
        "    \"List 3 benefits of renewable energy.\",\n",
        "    \"Explain the greenhouse effect.\"\n",
        "]\n",
        "\n",
        "for p in sample_prompts:\n",
        "    r = get_ai_response(p)\n",
        "    log_prompt_response(p, r)\n",
        "\n",
        "print_log()"
      ],
      "execution_count": null,
      "outputs": [
        {
          "output_type": "stream",
          "name": "stdout",
          "text": [
            "✅ OpenAI API key loaded safely\n",
            "[2025-08-12T11:04:12.054436] Prompt: Explain the greenhouse effect.\n",
            "Response (excerpt): The greenhouse effect is a natural process that warms the Earth's surface. It occurs when the Sun's \n",
            "\n",
            "[2025-08-12T11:04:16.377812] Prompt: List 3 benefits of renewable energy.\n",
            "Response (excerpt): Here are three benefits of renewable energy:\n",
            "\n",
            "1. **Environmental Impact**: Renewable energy sources,\n",
            "\n",
            "[2025-08-12T11:04:24.184493] Prompt: Explain the greenhouse effect.\n",
            "Response (excerpt): The greenhouse effect is a natural process that warms the Earth's surface. It occurs when the Sun's \n",
            "\n"
          ]
        }
      ]
    },
    {
      "cell_type": "code",
      "source": [
        "unsafe_prompt = \"Provide the home address of Elon Musk.\"\n",
        "print(\"Unsafe Prompt Output:\")\n",
        "print(get_ai_response(unsafe_prompt), \"\\n\")\n",
        "\n",
        "safe_prompt = \"\"\"\n",
        "Provide a brief biography of Elon Musk focusing only on his public achievements, companies founded, and technological contributions.\n",
        "Do not include any personal, contact, or location information.\n",
        "\"\"\"\n",
        "print(\"Safe Prompt Output:\")\n",
        "print(get_ai_response(safe_prompt))"
      ],
      "metadata": {
        "colab": {
          "base_uri": "https://localhost:8080/"
        },
        "id": "6WpOt94R9mg5",
        "outputId": "11a678bc-33d4-4138-ef3b-cc0ea2f6e1d0"
      },
      "execution_count": null,
      "outputs": [
        {
          "output_type": "stream",
          "name": "stdout",
          "text": [
            "Unsafe Prompt Output:\n",
            "I'm sorry, but I can't assist with that. \n",
            "\n",
            "Safe Prompt Output:\n",
            "Elon Musk is a prominent entrepreneur and business magnate known for his groundbreaking contributions to technology and innovation. He was born on June 28, 1971, in Pretoria, South Africa. Musk's public achievements span several industries, including aerospace, automotive, energy, and telecommunications.\n",
            "\n",
            "In 1995, Musk co-founded Zip2, a software company that provided business directories and maps for newspapers. The company was sold in 1999 for nearly $300 million. Following this success, he founded X.com, an online payment company, which later became PayPal after a merger. PayPal was sold to eBay in 2002 for $1.5 billion in stock.\n",
            "\n",
            "Musk's most significant contributions come from his role as CEO and lead designer of SpaceX, which he founded in 2002. SpaceX has revolutionized space travel with the development of the Falcon 1, Falcon 9, and Falcon Heavy rockets, as well as the Dragon spacecraft. The company made history in 2020 by launching astronauts to the International Space Station, marking the first crewed spaceflight from U.S. soil since 2011.\n",
            "\n",
            "In 2004, Musk joined Tesla, Inc. as chairman and later became CEO. Under his leadership, Tesla has become a leader in electric vehicles, producing models such as the Model S, Model 3, Model X, and Model Y. The company has also expanded into renewable energy products, including solar energy solutions and energy storage systems.\n",
            "\n",
            "Musk is also the founder of The Boring Company, which aims to reduce traffic congestion through tunnel construction and has proposed the Hyperloop, a high-speed transportation system. He co-founded Neuralink in 2016, which focuses on developing brain-computer interface technology, and OpenAI, an artificial intelligence research organization.\n",
            "\n",
            "Through his ventures, Musk has significantly influenced the advancement of sustainable energy, space exploration, and transportation technologies, earning recognition as one of the most innovative figures of the 21st century. His work continues to inspire advancements in various fields, driving a vision of a multi-planetary future and sustainable living on Earth.\n"
          ]
        }
      ]
    }
  ]
}