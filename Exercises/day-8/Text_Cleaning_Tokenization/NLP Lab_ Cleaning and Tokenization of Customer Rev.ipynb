{
  "nbformat": 4,
  "nbformat_minor": 0,
  "metadata": {
    "colab": {
      "provenance": [],
      "authorship_tag": "ABX9TyMUgH+jYpxofRkVQ1BNIQ+8",
      "include_colab_link": true
    },
    "kernelspec": {
      "name": "python3",
      "display_name": "Python 3"
    },
    "language_info": {
      "name": "python"
    }
  },
  "cells": [
    {
      "cell_type": "markdown",
      "metadata": {
        "id": "view-in-github",
        "colab_type": "text"
      },
      "source": [
        "<a href=\"https://colab.research.google.com/github/appliedcode/mthree-c422/blob/mthree-c422-dipti/Exercises/day-8/Text_Cleaning_Tokenization/NLP%20Lab_%20Cleaning%20and%20Tokenization%20of%20Customer%20Rev.ipynb\" target=\"_parent\"><img src=\"https://colab.research.google.com/assets/colab-badge.svg\" alt=\"Open In Colab\"/></a>"
      ]
    },
    {
      "cell_type": "markdown",
      "source": [
        "#NLP Lab: Cleaning and Tokenization of Customer Reviews\n",
        "\n",
        "##Objective\n",
        "Build a reusable text-preprocessing pipeline to clean, normalize, and tokenize a set of “messy” product reviews. You will compare multiple tokenization methods and visualize token frequencies.\n",
        "\n",
        "\n",
        "###Dataset\n",
        "Create a list of 10 messy customer review strings, for example:\n",
        "\n",
        "reviews = [\n",
        "  \"Absolutely LOVED this product!!! Will buy again 😊 Visit http://shop.example.com\",\n",
        "\n",
        "  \"Worst purchase ever... arrived broken, no response from support @helpdesk\",\n",
        "\n",
        "  \"Ok quality; does the job. 5/5 stars! #satisfied\",\n",
        "\n",
        "  \"Email me at user@example.org for details about bulk order!!!\",\n",
        "\n",
        "  \"Super overpriced!! Paid $299 but performance is meh...\",\n",
        "\n",
        "  \"<div>Great build quality</div><p>But shipping was slow</p>\",\n",
        "\n",
        "  \"Contact: +44 20 7946 0958 or (020)79460958\",\n",
        "\n",
        "  \"MixedCASE and random123numbers and symbols %^&*\",\n",
        "\n",
        "  \"Line1\\nLine2\\tTabbed text\\r\\nEnd of review\",\n",
        "\n",
        "  \"Contractions—can't, won't, shouldn't—are common here.\"\n",
        "]\n",
        "\n",
        "###Tasks\n",
        "**Implement Cleaning Functions**\n",
        "\n",
        "Remove URLs, email addresses, HTML tags, phone numbers, social media mentions/hashtags, and non-alphanumeric symbols (except whitespace and apostrophes).\n",
        "\n",
        "Normalize whitespace and convert text to lowercase.\n",
        "\n",
        "**Compare Tokenization Methods**\n",
        "\n",
        "Apply at least three methods to one cleaned review:\n",
        "Simple split()\n",
        "\n",
        "NLTK word_tokenize\n",
        "\n",
        "spaCy tokenization\n",
        "\n",
        "(Bonus) Regex-based tokenization\n",
        "\n",
        "**Aggregate and Visualize**\n",
        "Tokenize all cleaned reviews using your chosen method (e.g., regex).\n",
        "\n",
        "Compute the frequency distribution of tokens across the dataset.\n",
        "\n",
        "Plot the top 10 most frequent tokens with matplotlib or seaborn.\n",
        "\n",
        "**Analysis**\n",
        "Briefly comment on the differences observed between tokenization methods.\n",
        "\n",
        "Discuss any surprising tokens in the top 10 and suggest why they appear so often.\n",
        "\n",
        "###Deliverables\n",
        "A Colab notebook implementing the cleaning pipeline as reusable functions.\n",
        "\n",
        "Demonstrations of each tokenization method on one sample review.\n",
        "\n",
        "A bar chart of the top 10 tokens after processing all reviews.\n",
        "\n",
        "Written comments summarizing your observations and analysis."
      ],
      "metadata": {
        "id": "NiuXwc9qhahS"
      }
    },
    {
      "cell_type": "code",
      "execution_count": 1,
      "metadata": {
        "colab": {
          "base_uri": "https://localhost:8080/"
        },
        "id": "1sgjcNiihZha",
        "outputId": "5916f358-598e-4ad7-c597-0183b3ab2443"
      },
      "outputs": [
        {
          "output_type": "stream",
          "name": "stderr",
          "text": [
            "[nltk_data] Downloading package punkt to /root/nltk_data...\n",
            "[nltk_data]   Unzipping tokenizers/punkt.zip.\n"
          ]
        },
        {
          "output_type": "stream",
          "name": "stdout",
          "text": [
            "Collecting en-core-web-sm==3.8.0\n",
            "  Downloading https://github.com/explosion/spacy-models/releases/download/en_core_web_sm-3.8.0/en_core_web_sm-3.8.0-py3-none-any.whl (12.8 MB)\n",
            "\u001b[2K     \u001b[90m━━━━━━━━━━━━━━━━━━━━━━━━━━━━━━━━━━━━━━━━\u001b[0m \u001b[32m12.8/12.8 MB\u001b[0m \u001b[31m89.1 MB/s\u001b[0m eta \u001b[36m0:00:00\u001b[0m\n",
            "\u001b[?25h\u001b[38;5;2m✔ Download and installation successful\u001b[0m\n",
            "You can now load the package via spacy.load('en_core_web_sm')\n",
            "\u001b[38;5;3m⚠ Restart to reload dependencies\u001b[0m\n",
            "If you are in a Jupyter or Colab notebook, you may need to restart Python in\n",
            "order to load all the package's dependencies. You can do this by selecting the\n",
            "'Restart kernel' or 'Restart runtime' option.\n"
          ]
        }
      ],
      "source": [
        "!pip install --quiet nltk spacy beautifulsoup4 seaborn\n",
        "\n",
        "# Download NLTK data\n",
        "import nltk\n",
        "nltk.download('punkt')\n",
        "\n",
        "# Download spaCy model\n",
        "!python -m spacy download en_core_web_sm\n"
      ]
    },
    {
      "cell_type": "code",
      "source": [
        "reviews = [\n",
        "  \"Absolutely LOVED this product!!! Will buy again 😊 Visit http://shop.example.com\",\n",
        "  \"Worst purchase ever... arrived broken, no response from support @helpdesk\",\n",
        "  \"Ok quality; does the job. 5/5 stars! #satisfied\",\n",
        "  \"Email me at user@example.org for details about bulk order!!!\",\n",
        "  \"Super overpriced!! Paid $299 but performance is meh...\",\n",
        "  \"<div>Great build quality</div><p>But shipping was slow</p>\",\n",
        "  \"Contact: +44 20 7946 0958 or (020)79460958\",\n",
        "  \"MixedCASE and random123numbers and symbols %^&*\",\n",
        "  \"Line1\\nLine2\\tTabbed text\\r\\nEnd of review\",\n",
        "  \"Contractions—can't, won't, shouldn't—are common here.\"\n",
        "]\n",
        "print(\"Sample Messy Texts:\")\n",
        "print(\"=\" * 50)\n",
        "for i, text in enumerate(reviews, 1):\n",
        "    print(f\"{i:2d}. {repr(text)}\")"
      ],
      "metadata": {
        "colab": {
          "base_uri": "https://localhost:8080/"
        },
        "id": "mBTd8xIAix8z",
        "outputId": "dd163924-d2db-4c40-9c0b-25404b34d8a5"
      },
      "execution_count": 7,
      "outputs": [
        {
          "output_type": "stream",
          "name": "stdout",
          "text": [
            "Sample Messy Texts:\n",
            "==================================================\n",
            " 1. 'Absolutely LOVED this product!!! Will buy again 😊 Visit http://shop.example.com'\n",
            " 2. 'Worst purchase ever... arrived broken, no response from support @helpdesk'\n",
            " 3. 'Ok quality; does the job. 5/5 stars! #satisfied'\n",
            " 4. 'Email me at user@example.org for details about bulk order!!!'\n",
            " 5. 'Super overpriced!! Paid $299 but performance is meh...'\n",
            " 6. '<div>Great build quality</div><p>But shipping was slow</p>'\n",
            " 7. 'Contact: +44 20 7946 0958 or (020)79460958'\n",
            " 8. 'MixedCASE and random123numbers and symbols %^&*'\n",
            " 9. 'Line1\\nLine2\\tTabbed text\\r\\nEnd of review'\n",
            "10. \"Contractions—can't, won't, shouldn't—are common here.\"\n"
          ]
        }
      ]
    },
    {
      "cell_type": "code",
      "source": [
        "import re\n",
        "from bs4 import BeautifulSoup\n",
        "\n",
        "def clean_review(text):\n",
        "    text = BeautifulSoup(text, \"html.parser\").get_text()                       # Remove HTML\n",
        "    text = re.sub(r\"http\\S+|www\\S+\", \"\", text)                                 # Remove URLs\n",
        "    text = re.sub(r\"\\S+@\\S+\", \"\", text)                                        # Remove emails\n",
        "    text = re.sub(r\"@\\w+|#\\w+\", \"\", text)                                      # Remove mentions/hashtags\n",
        "    text = re.sub(r\"\\+?\\(?\\d{2,4}\\)?[\\s.-]?\\d{3,4}[\\s.-]?\\d{3,4}\", \"\", text)    # Remove phone numbers\n",
        "    text = re.sub(r\"[^\\w\\s']\", \" \", text)                                      # Remove special characters (keep apostrophes)\n",
        "    text = re.sub(r\"\\s+\", \" \", text)                                           # Normalize whitespace\n",
        "    return text.lower().strip()\n",
        "\n"
      ],
      "metadata": {
        "id": "u2ACSf9Viyv9"
      },
      "execution_count": 8,
      "outputs": []
    },
    {
      "cell_type": "code",
      "source": [
        "for i, text in enumerate(reviews[:3], 1):  # Show first 3 examples\n",
        "    print(f\"\\nExample {i}:\")\n",
        "    cleaned = clean_review(text)\n",
        "    print(f\"\\nFinal result: '{cleaned}'\")\n",
        "    print(\"\\n\" + \"=\"*80)"
      ],
      "metadata": {
        "colab": {
          "base_uri": "https://localhost:8080/"
        },
        "id": "7PvRQy5KkKlH",
        "outputId": "c3b6087d-e3fb-4749-d623-8f185b3497e9"
      },
      "execution_count": 9,
      "outputs": [
        {
          "output_type": "stream",
          "name": "stdout",
          "text": [
            "\n",
            "Example 1:\n",
            "\n",
            "Final result: 'absolutely loved this product will buy again visit'\n",
            "\n",
            "================================================================================\n",
            "\n",
            "Example 2:\n",
            "\n",
            "Final result: 'worst purchase ever arrived broken no response from support'\n",
            "\n",
            "================================================================================\n",
            "\n",
            "Example 3:\n",
            "\n",
            "Final result: 'ok quality does the job 5 5 stars'\n",
            "\n",
            "================================================================================\n"
          ]
        }
      ]
    },
    {
      "cell_type": "code",
      "source": [
        "cleaned_reviews = [clean_review(review) for review in reviews]\n",
        "for i, r in enumerate(cleaned_reviews, 1):\n",
        "    print(f\"{i}. {r}\")\n"
      ],
      "metadata": {
        "colab": {
          "base_uri": "https://localhost:8080/"
        },
        "id": "Cyo0KyAXi2pk",
        "outputId": "d779721a-7d4d-41d4-f5ba-12c26451f994"
      },
      "execution_count": 10,
      "outputs": [
        {
          "output_type": "stream",
          "name": "stdout",
          "text": [
            "1. absolutely loved this product will buy again visit\n",
            "2. worst purchase ever arrived broken no response from support\n",
            "3. ok quality does the job 5 5 stars\n",
            "4. email me at for details about bulk order\n",
            "5. super overpriced paid 299 but performance is meh\n",
            "6. great build qualitybut shipping was slow\n",
            "7. contact 44 or\n",
            "8. mixedcase and random123numbers and symbols\n",
            "9. line1 line2 tabbed text end of review\n",
            "10. contractions can't won't shouldn't are common here\n"
          ]
        }
      ]
    },
    {
      "cell_type": "code",
      "source": [
        "sample = cleaned_reviews[0]\n",
        "print(\"Sample cleaned review:\", sample)\n"
      ],
      "metadata": {
        "colab": {
          "base_uri": "https://localhost:8080/"
        },
        "id": "ZI_N01fZi3aB",
        "outputId": "d6ad2f68-5fdc-4115-b72f-cc5422936a75"
      },
      "execution_count": 11,
      "outputs": [
        {
          "output_type": "stream",
          "name": "stdout",
          "text": [
            "Sample cleaned review: absolutely loved this product will buy again visit\n"
          ]
        }
      ]
    },
    {
      "cell_type": "code",
      "source": [
        "split_tokens = sample.split()\n",
        "print(\"Split tokens:\", split_tokens)\n"
      ],
      "metadata": {
        "colab": {
          "base_uri": "https://localhost:8080/"
        },
        "id": "mMxSjohpi6a4",
        "outputId": "b7a97b2f-2083-4403-e6b0-e84b4665595e"
      },
      "execution_count": 12,
      "outputs": [
        {
          "output_type": "stream",
          "name": "stdout",
          "text": [
            "Split tokens: ['absolutely', 'loved', 'this', 'product', 'will', 'buy', 'again', 'visit']\n"
          ]
        }
      ]
    },
    {
      "cell_type": "code",
      "source": [
        "import spacy\n",
        "nlp = spacy.load(\"en_core_web_sm\")\n",
        "spacy_tokens = [token.text for token in nlp(sample)]\n",
        "print(\"spaCy tokens:\", spacy_tokens)\n"
      ],
      "metadata": {
        "colab": {
          "base_uri": "https://localhost:8080/"
        },
        "id": "xYWKW7p3jDt_",
        "outputId": "55d4a3f8-54b0-475d-d1db-f21de393ae0b"
      },
      "execution_count": 19,
      "outputs": [
        {
          "output_type": "stream",
          "name": "stdout",
          "text": [
            "spaCy tokens: ['absolutely', 'loved', 'this', 'product', 'will', 'buy', 'again', 'visit']\n"
          ]
        }
      ]
    },
    {
      "cell_type": "code",
      "source": [
        "regex_tokens = re.findall(r\"\\b\\w+(?:'\\w+)?\\b\", sample)\n",
        "print(\"Regex tokens:\", regex_tokens)\n"
      ],
      "metadata": {
        "colab": {
          "base_uri": "https://localhost:8080/"
        },
        "id": "ZoejdxhJjG92",
        "outputId": "a50e5f2a-e572-4dc4-84ed-991e96dee363"
      },
      "execution_count": 20,
      "outputs": [
        {
          "output_type": "stream",
          "name": "stdout",
          "text": [
            "Regex tokens: ['absolutely', 'loved', 'this', 'product', 'will', 'buy', 'again', 'visit']\n"
          ]
        }
      ]
    },
    {
      "cell_type": "code",
      "source": [
        "from collections import Counter\n",
        "\n",
        "all_tokens = []\n",
        "for review in cleaned_reviews:\n",
        "    tokens = re.findall(r\"\\b\\w+(?:'\\w+)?\\b\", review)\n",
        "    all_tokens.extend(tokens)\n",
        "\n",
        "freq_dist = Counter(all_tokens)\n"
      ],
      "metadata": {
        "id": "y3mx9UHRjORZ"
      },
      "execution_count": 21,
      "outputs": []
    },
    {
      "cell_type": "code",
      "source": [
        "import matplotlib.pyplot as plt\n",
        "import seaborn as sns\n",
        "\n",
        "top_tokens = freq_dist.most_common(10)\n",
        "tokens, counts = zip(*top_tokens)\n",
        "\n",
        "plt.figure(figsize=(10, 6))\n",
        "sns.barplot(x=list(tokens), y=list(counts))\n",
        "plt.title(\"Top 10 Most Frequent Tokens\")\n",
        "plt.xlabel(\"Tokens\")\n",
        "plt.ylabel(\"Frequency\")\n",
        "plt.show()\n"
      ],
      "metadata": {
        "colab": {
          "base_uri": "https://localhost:8080/",
          "height": 564
        },
        "id": "oYC-ndfxjRPU",
        "outputId": "c9863811-bf57-4be8-e0ab-420f548c9245"
      },
      "execution_count": 22,
      "outputs": [
        {
          "output_type": "display_data",
          "data": {
            "text/plain": [
              "<Figure size 1000x600 with 1 Axes>"
            ],
            "image/png": "[encoded data removed]"
          },
          "metadata": {}
        }
      ]
    }
  ]
}