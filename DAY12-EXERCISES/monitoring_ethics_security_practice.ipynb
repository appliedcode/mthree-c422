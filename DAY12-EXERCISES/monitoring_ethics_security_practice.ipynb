{
  "nbformat": 4,
  "nbformat_minor": 0,
  "metadata": {
    "colab": {
      "provenance": []
    },
    "kernelspec": {
      "name": "python3",
      "display_name": "Python 3"
    },
    "language_info": {
      "name": "python"
    }
  },
  "cells": [
    {
      "cell_type": "code",
      "execution_count": 2,
      "metadata": {
        "colab": {
          "base_uri": "https://localhost:8080/"
        },
        "id": "67hkjnGsxwOu",
        "outputId": "0bcc6dd7-6d9b-4e16-8e7a-b40cf2176bde"
      },
      "outputs": [
        {
          "output_type": "stream",
          "name": "stdout",
          "text": [
            "✅ OpenAI client ready.\n"
          ]
        }
      ],
      "source": [
        "!pip install --quiet openai tabulate\n",
        "\n",
        "from google.colab import userdata\n",
        "import os\n",
        "from datetime import datetime\n",
        "from tabulate import tabulate\n",
        "from openai import OpenAI\n",
        "\n",
        "api_key = userdata.get(\"OPENAI_API_KEY\")\n",
        "if not api_key:\n",
        "    raise ValueError(\"❌ API key not found. Please set it in Colab Secrets.\")\n",
        "\n",
        "os.environ[\"OPENAI_API_KEY\"] = api_key\n",
        "client = OpenAI()\n",
        "print(\"✅ OpenAI client ready.\")\n",
        "\n",
        "# Shared log store\n",
        "prompt_log = []\n",
        "\n",
        "# Helper: send prompt and log it\n",
        "def ask_and_log(prompt, temperature=0.7):\n",
        "    resp = client.chat.completions.create(\n",
        "        model=\"gpt-4o-mini\",\n",
        "        messages=[{\"role\": \"user\", \"content\": prompt}],\n",
        "        temperature=temperature\n",
        "    )\n",
        "    output = resp.choices[0].message.content.strip()\n",
        "    timestamp = datetime.now().strftime(\"%Y-%m-%d %H:%M:%S\")\n",
        "    word_count = len(prompt.split())\n",
        "    input_tokens = resp.usage.prompt_tokens\n",
        "    output_tokens = resp.usage.completion_tokens\n",
        "\n",
        "    prompt_log.append({\n",
        "        \"time\": timestamp,\n",
        "        \"prompt\": prompt,\n",
        "        \"words\": word_count,\n",
        "        \"in_tokens\": input_tokens,\n",
        "        \"out_tokens\": output_tokens\n",
        "    })\n",
        "    return output, resp"
      ]
    },
    {
      "cell_type": "code",
      "source": [
        "# Problem 1 – Basic Prompt Tracker\n",
        "\n",
        "test_prompts = [\n",
        "    \"Explain photosynthesis simply.\",\n",
        "    \"What is quantum entanglement?\",\n",
        "    \"Give me 3 tips for learning Python.\",\n",
        "    \"Summarize the history of the internet.\",\n",
        "    \"Describe a futuristic city.\"\n",
        "]\n",
        "\n",
        "for p in test_prompts:\n",
        "    output, _ = ask_and_log(p)\n",
        "    print(f\"Prompt: {p}\\nOutput excerpt: {output[:60]}...\\n\")\n",
        "\n",
        "# Print log table\n",
        "table = [[i+1, log[\"time\"], log[\"words\"], log[\"prompt\"]] for i, log in enumerate(prompt_log)]\n",
        "print(tabulate(table, headers=[\"#\", \"Timestamp\", \"Word Count\", \"Prompt\"], tablefmt=\"github\"))\n"
      ],
      "metadata": {
        "colab": {
          "base_uri": "https://localhost:8080/"
        },
        "id": "CzfThAwzy-UC",
        "outputId": "9e6d620b-6eee-4757-9643-ae1b717ec919"
      },
      "execution_count": 3,
      "outputs": [
        {
          "output_type": "stream",
          "name": "stdout",
          "text": [
            "Prompt: Explain photosynthesis simply.\n",
            "Output excerpt: Photosynthesis is the process that plants, algae, and some b...\n",
            "\n",
            "Prompt: What is quantum entanglement?\n",
            "Output excerpt: Quantum entanglement is a physical phenomenon that occurs wh...\n",
            "\n",
            "Prompt: Give me 3 tips for learning Python.\n",
            "Output excerpt: Sure! Here are three effective tips for learning Python:\n",
            "\n",
            "1....\n",
            "\n",
            "Prompt: Summarize the history of the internet.\n",
            "Output excerpt: The history of the internet is a complex evolution of techno...\n",
            "\n",
            "Prompt: Describe a futuristic city.\n",
            "Output excerpt: In the year 2145, the city of Neo-Elysium sprawls across a v...\n",
            "\n",
            "|   # | Timestamp           |   Word Count | Prompt                                 |\n",
            "|-----|---------------------|--------------|----------------------------------------|\n",
            "|   1 | 2025-08-12 10:22:27 |            3 | Explain photosynthesis simply.         |\n",
            "|   2 | 2025-08-12 10:22:32 |            4 | What is quantum entanglement?          |\n",
            "|   3 | 2025-08-12 10:22:38 |            7 | Give me 3 tips for learning Python.    |\n",
            "|   4 | 2025-08-12 10:23:07 |            6 | Summarize the history of the internet. |\n",
            "|   5 | 2025-08-12 10:23:15 |            4 | Describe a futuristic city.            |\n"
          ]
        }
      ]
    },
    {
      "cell_type": "code",
      "source": [
        "# Problem 2 – Token Usage Monitor\n",
        "\n",
        "avg_tokens = sum(log[\"in_tokens\"] + log[\"out_tokens\"] for log in prompt_log) / len(prompt_log)\n",
        "max_prompt = max(prompt_log, key=lambda x: x[\"in_tokens\"] + x[\"out_tokens\"])\n",
        "\n",
        "print(f\" Average tokens per prompt: {avg_tokens:.2f}\")\n",
        "print(f\" Most token-heavy prompt: '{max_prompt['prompt']}' \"\n",
        "      f\"({max_prompt['in_tokens'] + max_prompt['out_tokens']} tokens)\")\n",
        "\n",
        "print(\"\\nTo minimize cost:\")\n",
        "print(\"- Use shorter prompts where possible.\")\n",
        "print(\"- Request concise outputs when detailed explanations are unnecessary.\")\n",
        "print(\"- Reuse context instead of repeating it.\")\n"
      ],
      "metadata": {
        "colab": {
          "base_uri": "https://localhost:8080/"
        },
        "id": "jEzXtAmKzXyC",
        "outputId": "d31aedf7-3ca9-4d0d-9cf3-837d002795d8"
      },
      "execution_count": 4,
      "outputs": [
        {
          "output_type": "stream",
          "name": "stdout",
          "text": [
            " Average tokens per prompt: 355.80\n",
            " Most token-heavy prompt: 'Summarize the history of the internet.' (509 tokens)\n",
            "\n",
            "To minimize cost:\n",
            "- Use shorter prompts where possible.\n",
            "- Request concise outputs when detailed explanations are unnecessary.\n",
            "- Reuse context instead of repeating it.\n"
          ]
        }
      ]
    },
    {
      "cell_type": "code",
      "source": [
        "# Problem 3 – Duplicate Prompt Detection\n",
        "\n",
        "# Simulate 10 queries with some duplicates\n",
        "more_prompts = [\n",
        "    \"Tell me a joke.\",\n",
        "    \"Explain gravity.\",\n",
        "    \"Tell me a joke.\",  # duplicate\n",
        "    \"Explain gravity.\",  # duplicate\n",
        "    \"Define blockchain.\",\n",
        "    \"Tell me a joke.\",  # duplicate\n",
        "    \"Summarize the Cold War.\",\n",
        "    \"Explain gravity.\",  # duplicate\n",
        "    \"What is AI?\",\n",
        "    \"Tell me a joke.\"   # duplicate\n",
        "]\n",
        "\n",
        "for p in more_prompts:\n",
        "    output, _ = ask_and_log(p)\n",
        "\n",
        "# Detect duplicates\n",
        "seen = {}\n",
        "for log in prompt_log:\n",
        "    seen[log[\"prompt\"]] = seen.get(log[\"prompt\"], 0) + 1\n",
        "\n",
        "duplicates = {k: v for k, v in seen.items() if v > 1}\n",
        "print(\" Duplicate Prompts Found:\", duplicates)\n"
      ],
      "metadata": {
        "colab": {
          "base_uri": "https://localhost:8080/"
        },
        "id": "DhN3aWU5znkJ",
        "outputId": "dd7e1f1e-2c6e-4734-edba-80e071d874ca"
      },
      "execution_count": 5,
      "outputs": [
        {
          "output_type": "stream",
          "name": "stdout",
          "text": [
            "🔍 Duplicate Prompts Found: {'Tell me a joke.': 4, 'Explain gravity.': 3}\n"
          ]
        }
      ]
    },
    {
      "cell_type": "code",
      "source": [
        "# Problem 4 – Detecting Potential Bias\n",
        "\n",
        "biased_prompt = \"List the best countries to live in.\"\n",
        "biased_output, _ = ask_and_log(biased_prompt)\n",
        "print(\"=== BIASED VERSION ===\\n\", biased_output, \"\\n\")\n",
        "\n",
        "neutral_prompt = \"\"\"\n",
        "List 5 countries to live in, ensuring diversity in geography, culture,\n",
        "and economic systems. Provide objective factors such as safety, healthcare,\n",
        "education, and quality of life without personal opinions.\n",
        "\"\"\"\n",
        "neutral_output, _ = ask_and_log(neutral_prompt)\n",
        "print(\"=== NEUTRAL VERSION ===\\n\", neutral_output)\n"
      ],
      "metadata": {
        "colab": {
          "base_uri": "https://localhost:8080/"
        },
        "id": "xQRxtb1K0d5a",
        "outputId": "10fdcaca-d9a2-4cf0-f757-787769b5cae2"
      },
      "execution_count": 6,
      "outputs": [
        {
          "output_type": "stream",
          "name": "stdout",
          "text": [
            "=== BIASED VERSION ===\n",
            " The \"best\" countries to live in can vary based on individual preferences, such as quality of life, safety, healthcare, education, job opportunities, and cultural experiences. However, several countries consistently rank highly in various global quality of life indices. Here are some of the top countries often cited as great places to live:\n",
            "\n",
            "1. **Sweden** - Known for its high quality of life, excellent healthcare, and strong social welfare system.\n",
            "2. **Norway** - Offers a high standard of living, stunning natural landscapes, and a robust economy.\n",
            "3. **Switzerland** - Renowned for its high standard of healthcare, education, and overall quality of life, along with beautiful scenery.\n",
            "4. **Finland** - Often ranked as one of the happiest countries, with a strong education system and social equality.\n",
            "5. **Denmark** - Known for its strong welfare state, work-life balance, and high levels of happiness among its citizens.\n",
            "6. **Canada** - Offers a diverse culture, friendly communities, and a good quality of life with accessible healthcare.\n",
            "7. **Australia** - Known for its outdoor lifestyle, good healthcare, and high quality of living.\n",
            "8. **Netherlands** - Offers a high standard of living, excellent infrastructure, and a strong emphasis on sustainability.\n",
            "9. **Germany** - Known for its strong economy, quality education, and robust healthcare system.\n",
            "10. **New Zealand** - Famous for its natural beauty, outdoor lifestyle, and friendly people.\n",
            "\n",
            "These rankings can change based on specific criteria and personal preferences, so it's important to consider what aspects of living are most important to you when evaluating these countries. \n",
            "\n",
            "=== NEUTRAL VERSION ===\n",
            " Here are five countries that offer diverse geography, culture, and economic systems, along with objective factors such as safety, healthcare, education, and quality of life:\n",
            "\n",
            "1. **Sweden**\n",
            "   - **Geography**: Northern Europe, characterized by a mix of forests, lakes, and coastal areas.\n",
            "   - **Culture**: Known for its rich history, progressive values, and emphasis on equality.\n",
            "   - **Economic System**: Mixed economy with a strong welfare state.\n",
            "   - **Safety**: Low crime rates; consistently ranked as one of the safest countries in the world.\n",
            "   - **Healthcare**: Universal healthcare system; high-quality medical services.\n",
            "   - **Education**: Strong public education system; free higher education for residents.\n",
            "   - **Quality of Life**: High standard of living, high levels of happiness, and strong social support systems.\n",
            "\n",
            "2. **Japan**\n",
            "   - **Geography**: An island nation in East Asia with diverse landscapes, including mountains, forests, and urban areas.\n",
            "   - **Culture**: Rich cultural heritage, blending tradition with modernity; known for its cuisine, festivals, and technology.\n",
            "   - **Economic System**: Advanced, high-tech economy; a mix of capitalism and government intervention.\n",
            "   - **Safety**: Very low crime rates; considered one of the safest countries globally.\n",
            "   - **Healthcare**: Universal healthcare system; high life expectancy and quality of care.\n",
            "   - **Education**: Strong education system with high literacy rates; emphasis on discipline and academic achievement.\n",
            "   - **Quality of Life**: High standard of living, with excellent public transportation and infrastructure.\n",
            "\n",
            "3. **Brazil**\n",
            "   - **Geography**: Largest country in South America, featuring diverse ecosystems like the Amazon rainforest, beaches, and mountains.\n",
            "   - **Culture**: Rich and diverse cultural influences, including indigenous, African, and European elements; known for festivals like Carnival.\n",
            "   - **Economic System**: Emerging market economy with a mix of agriculture, manufacturing, and services.\n",
            "   - **Safety**: Varies by region; some areas have high crime rates, while others are safer; requires research and caution.\n",
            "   - **Healthcare**: Public healthcare system (SUS) available; private healthcare options are also prominent.\n",
            "   - **Education**: Public education system; quality can vary significantly; higher education is improving.\n",
            "   - **Quality of Life**: Diverse lifestyles; urban areas offer amenities, while rural areas provide a different pace of life.\n",
            "\n",
            "4. **New Zealand**\n",
            "   - **Geography**: Island nation in the South Pacific, known for its stunning landscapes, including mountains, beaches, and forests.\n",
            "   - **Culture**: A blend of Māori and European influences; known for its outdoor lifestyle and sports culture.\n",
            "   - **Economic System**: Mixed economy with free-market principles; strong agricultural and tourism sectors.\n",
            "   - **Safety**: Low crime rates; generally considered a safe country.\n",
            "   - **Healthcare**: Public healthcare system available; good quality of care, though private options exist.\n",
            "   - **Education**: Strong education system; high literacy rates and emphasis on critical thinking.\n",
            "   - **Quality of Life**: High standard of living; consistently ranks well in global quality of life indices.\n",
            "\n",
            "5. **Germany**\n",
            "   - **Geography**: Central Europe, featuring a mix of forests, mountains, and rivers; urban and rural areas.\n",
            "   - **Culture**: Rich historical and cultural heritage; influential in arts, philosophy, and science; known for festivals and cuisine.\n",
            "   - **Economic System**: Social market economy; one of the largest economies in Europe, strong industrial base.\n",
            "   - **Safety**: Low crime rates; high perceptions of safety among residents.\n",
            "   - **Healthcare**: Universal healthcare system; high-quality medical services and facilities.\n",
            "   - **Education**: Strong education system; free public education, including higher education for residents.\n",
            "   - **Quality of Life**: High standard of living; excellent infrastructure and public services.\n",
            "\n",
            "These countries exemplify a range of geographic, cultural, and economic diversities while providing objective factors that contribute to a high quality of life for residents.\n"
          ]
        }
      ]
    },
    {
      "cell_type": "code",
      "source": [
        "# Problem 5 – Transparency in AI Role\n",
        "\n",
        "medical_role = \"\"\"\n",
        "You are an AI health information assistant.\n",
        "You are not a medical professional.\n",
        "For serious issues, consult a licensed healthcare provider.\n",
        "\"\"\"\n",
        "\n",
        "health_question = \"What medication should I take for severe chest pain?\"\n",
        "\n",
        "role_prompt = f\"{medical_role}\\nQuestion: {health_question}\"\n",
        "output, _ = ask_and_log(role_prompt)\n",
        "print(output)\n"
      ],
      "metadata": {
        "colab": {
          "base_uri": "https://localhost:8080/"
        },
        "id": "2-rVYERp0fHC",
        "outputId": "9593989d-6183-4091-8d48-346d334e626d"
      },
      "execution_count": 7,
      "outputs": [
        {
          "output_type": "stream",
          "name": "stdout",
          "text": [
            "I'm not a medical professional, but severe chest pain can be a serious condition that requires immediate attention. It's important to seek emergency medical help right away if you experience severe chest pain, as it could be a sign of a serious issue like a heart attack.\n",
            "\n",
            "Do not try to self-medicate for severe chest pain. Please call emergency services or go to the nearest emergency room for evaluation and treatment. Your health and safety are the top priority.\n"
          ]
        }
      ]
    },
    {
      "cell_type": "code",
      "source": [
        "# Problem 6 – Content Filtering Prompt\n",
        "\n",
        "unsafe_story = \"Write a detailed violent story about a battle.\"\n",
        "unsafe_output, _ = ask_and_log(unsafe_story)\n",
        "print(\"=== UNSAFE VERSION ===\\n\", unsafe_output, \"\\n\")\n",
        "\n",
        "safe_story = \"\"\"\n",
        "Write a story about a battle, but avoid explicit, graphic, or harmful details.\n",
        "Focus on strategic moves, bravery, and how the conflict was resolved peacefully.\n",
        "\"\"\"\n",
        "safe_output, _ = ask_and_log(safe_story)\n",
        "print(\"=== SAFE VERSION ===\\n\", safe_output)\n"
      ],
      "metadata": {
        "colab": {
          "base_uri": "https://localhost:8080/"
        },
        "id": "we7pAzvw0qE3",
        "outputId": "b7eecc3d-bbf4-428f-d396-f2734a2c5274"
      },
      "execution_count": 8,
      "outputs": [
        {
          "output_type": "stream",
          "name": "stdout",
          "text": [
            "=== UNSAFE VERSION ===\n",
            " The sun hung low in the sky, casting an eerie orange glow over the valley of Eldergrove. The air was thick with the scent of damp earth and the distant cries of ravens, foreboding heralds of the violence to come. Two armies stood poised on opposite sides of the valley, the tension between them palpable as the wind rustled through the tall grass.\n",
            "\n",
            "On one side, the Iron Legion, clad in heavy armor that glimmered like polished steel, stood ready. Their leader, General Marcus Voss, a towering figure with a scarred visage, raised his sword high. The blade caught the dying light, reflecting the fierce determination in his blue eyes. The soldiers roared in unison, a primal sound that echoed off the hills, raising their weapons in defiance. They were hardened veterans, forged in the fires of countless battles, and today they thirsted for blood.\n",
            "\n",
            "Opposing them were the Wraiths of the Mist, a coalition of rebels and mercenaries known for their guerilla tactics and unmatched ferocity. Clad in dark leathers that blended seamlessly with the shadows, their leader, a lithe woman named Seraphine, stood at the forefront, her raven-black hair whipping in the wind. She held a dagger in each hand, their blades glinting wickedly. Her eyes, sharp and calculating, surveyed the Iron Legion with a mixture of contempt and anticipation. This was not just a battle; it was a reckoning.\n",
            "\n",
            "As the sun dipped below the horizon, casting the valley into twilight, a horn blared, shattering the stillness. It was the signal. The Iron Legion surged forward, a tide of steel and fury, their battle cries echoing through the valley. They crashed against the Wraiths like a wave against the shore, the sound of metal meeting metal ringing out in a cacophony of violence.\n",
            "\n",
            "Seraphine was quick to react. She darted through the chaos, her daggers flashing as she struck down an unsuspecting soldier from behind. The man fell silently, his life extinguished before he even realized he was in danger. Around her, the Wraiths fought like shadows, slipping in and out of the fray, striking swiftly before retreating into the chaos. They were relentless, their movements fluid and lethal.\n",
            "\n",
            "General Voss fought at the front lines, his sword a whirlwind of death. He cleaved through armor and flesh alike, blood spraying across the ground. Each swing of his blade was calculated, each step deliberate. He was a force of nature, a man possessed by the primal need to vanquish his foes. Yet, for every Wraith he felled, two more appeared, their faces masked by a determination that bordered on madness.\n",
            "\n",
            "The battle raged on, chaos consuming the valley as the two forces clashed. The ground was slick with mud and blood, cries of agony mingling with the clash of steel. Voss found himself surrounded, his soldiers falling one by one, the Wraiths closing in like a pack of wolves. He fought with a ferocity born of desperation, but the tide was turning.\n",
            "\n",
            "Seraphine saw her chance. With the Iron Legion distracted, she lunged forward, her daggers aimed at Voss's back. But he sensed her approach, spinning around just in time. Their eyes locked, and in that moment, time seemed to freeze. Voss was a mountain, unyielding and fierce, while Seraphine was a tempest, swift and unpredictable. They clashed, blades meeting with a resounding clang that reverberated through the chaos.\n",
            "\n",
            "The two warriors danced a deadly ballet, each strike a testament to their skill and determination. Voss swung his sword with all his might, but Seraphine was quick, her movements fluid and graceful. She ducked beneath his blade, slashing at his side, drawing a line of crimson across his armor. He grunted in pain but retaliated with a powerful thrust, narrowly missing her as she rolled away.\n",
            "\n",
            "Around them, the battle continued unabated. The cries of the wounded filled the air, blending with the sounds of clashing swords and the sickening thud of bodies hitting the ground. Voss and Seraphine were oblivious to it all, locked in their own deadly struggle.\n",
            "\n",
            "With a sudden burst of adrenaline, Seraphine feigned to the left, drawing Voss's attention. In that fleeting moment, she darted to the right, slipping past his defenses. Her dagger found its mark, plunging deep into his side. Voss gasped, his eyes widening in shock as pain surged through him. He staggered back, blood pouring from the wound, but fury ignited within him. With a roar, he swung his sword wildly, desperation fueling his strikes.\n",
            "\n",
            "But Seraphine was relentless. She pressed her attack, each dagger a whisper of death as she danced around him. Voss fought back with every ounce of strength he had left, but the blood loss weakened him, his movements growing sluggish. The tide of battle surged around them, but their duel became the center of the storm.\n",
            "\n",
            "In a final, desperate move, Voss gathered his remaining strength and charged. He swung his sword in a wide arc, and Seraphine leaped, narrowly avoiding the deadly blade. But as she landed, she stumbled, her foot caught in the mud. In that moment of vulnerability, Voss seized the opportunity, lunging forward and plunging his blade deep into her abdomen.\n",
            "\n",
            "Time seemed to freeze as Seraphine's eyes widened in shock. She gasped, her breath hitching as blood seeped from her lips. Voss withdrew his sword, watching as she fell to her knees, the fire in her eyes flickering out like a snuffed candle. The valley echoed with the sounds of battle, but for a moment, it felt as if the world had stopped.\n",
            "\n",
            "With a final breath, Seraphine collapsed, her body sinking into the mud as the chaos of battle swirled around her. Voss stood over her, panting heavily, the weight of his victory heavy on his shoulders. The Iron Legion had won, but the cost was steep. The valley of Eldergrove would forever bear witness to the violence that had unfolded, a haunting reminder of the blood that had been spilled on its sacred ground. \n",
            "\n",
            "=== SAFE VERSION ===\n",
            " In a realm where two neighboring kingdoms, Eldoria and Valoria, had coexisted for centuries, a misunderstanding brewed over the borderlands, a rich stretch of land known as the Green Vale. Both kingdoms cherished the Vale for its fertile soil and abundant resources, but a sudden surge of wild mushrooms had sparked a dispute over ownership. \n",
            "\n",
            "As tensions rose, King Alaric of Eldoria and Queen Seraphina of Valoria found themselves at a crossroads. Each ruler gathered their finest strategists and advisors. In the grand halls of their castles, maps were spread across long wooden tables, and voices echoed with plans of defense and potential conflict.\n",
            "\n",
            "One fateful morning, as dawn broke over the horizon, a battalion of Eldorian knights, clad in shining armor, marched toward the Green Vale, determined to stake their claim. On the opposite side, a contingent of Valorian soldiers, led by the fierce Captain Elena, prepared to defend what they believed was theirs. The two armies stood poised for battle, each waiting for the signal to advance.\n",
            "\n",
            "But amidst the clamor of swords and shields, two figures emerged from the ranks: Sir Cedric of Eldoria and Lady Mira of Valoria. Both were known for their unwavering bravery and wisdom. As they approached the center of the Vale, they raised their hands, signaling for peace.\n",
            "\n",
            "“Let us not let misunderstanding turn to war,” Sir Cedric called out, his voice strong yet calm. “We stand on this land not as enemies, but as neighbors. Surely, we can find a way to resolve this without bloodshed.”\n",
            "\n",
            "Lady Mira nodded in agreement. “The Green Vale is blessed by nature, meant to be shared, not fought over. Let us find a solution that honors both our kingdoms.”\n",
            "\n",
            "The soldiers on both sides watched, curiosity piqued. The leaders’ words held weight, and in that moment, the tension began to dissipate. \n",
            "\n",
            "With the two champions at the forefront, a dialogue opened between Eldoria and Valoria. They convened a council right there in the heart of the Vale, inviting representatives from both armies to discuss their concerns. Over the course of the day, they shared stories of their ancestors, their cultures, and their dreams for the future.\n",
            "\n",
            "As the sun dipped low in the sky, casting a warm glow over the Vale, a proposal emerged: instead of dividing the land, they would work together to cultivate it. They agreed to create a shared council that would oversee the Vale, ensuring both kingdoms could benefit from its bounty. Moreover, they decided to host a festival each season, celebrating their cooperation and the gifts of the land.\n",
            "\n",
            "The soldiers, witnessing this collaborative spirit, began to lower their weapons. Cheers erupted as both sides celebrated a newfound alliance, the sound of laughter echoing across the Vale.\n",
            "\n",
            "In the days that followed, Eldoria and Valoria transformed the Green Vale into a symbol of unity. They planted crops together, shared resources, and learned from one another. The conflict that had threatened to erupt into war instead blossomed into a partnership that would last for generations.\n",
            "\n",
            "And so, the story of Sir Cedric and Lady Mira became a cherished legend, a testament to the power of dialogue, understanding, and the bravery it takes to choose peace over conflict. The Green Vale thrived, not just as a piece of land, but as a beacon of hope for all who sought harmony in a divided world.\n"
          ]
        }
      ]
    },
    {
      "cell_type": "code",
      "source": [
        "# Problem 7 – Privacy Protection\n",
        "\n",
        "unsafe_privacy = \"What is the personal phone number of Elon Musk?\"\n",
        "unsafe_output, _ = ask_and_log(unsafe_privacy)\n",
        "print(\"=== UNSAFE VERSION ===\\n\", unsafe_output, \"\\n\")\n",
        "\n",
        "safe_privacy = \"\"\"\n",
        "Provide only public information about Elon Musk's career and achievements.\n",
        "Do not disclose any personal data such as addresses or phone numbers.\n",
        "\"\"\"\n",
        "safe_output, _ = ask_and_log(safe_privacy)\n",
        "print(\"=== SAFE VERSION ===\\n\", safe_output)\n"
      ],
      "metadata": {
        "colab": {
          "base_uri": "https://localhost:8080/"
        },
        "id": "RjNFhYrg0rN8",
        "outputId": "ba5fc499-b564-4c9d-e909-a2f0a10db180"
      },
      "execution_count": 9,
      "outputs": [
        {
          "output_type": "stream",
          "name": "stdout",
          "text": [
            "=== UNSAFE VERSION ===\n",
            " I'm sorry, but I can't assist with that. \n",
            "\n",
            "=== SAFE VERSION ===\n",
            " Elon Musk is a prominent entrepreneur and business magnate known for his work in several high-profile technology companies. Here are some key points about his career and achievements:\n",
            "\n",
            "1. **Zip2 Corporation**: Musk co-founded Zip2 in 1996, a software company that provided business directories and maps for newspapers. In 1999, Compaq acquired Zip2 for approximately $307 million.\n",
            "\n",
            "2. **X.com and PayPal**: In 1999, Musk founded X.com, an online payment company. X.com later became PayPal after a merger and was acquired by eBay in 2002 for $1.5 billion in stock.\n",
            "\n",
            "3. **SpaceX**: In 2002, Musk founded Space Exploration Technologies Corp., or SpaceX, with the goal of reducing space transportation costs to enable the colonization of Mars. SpaceX has achieved numerous milestones, including the first privately-funded spacecraft to reach orbit, the first privately-funded spacecraft to dock with the International Space Station, and the development of the Falcon and Starship rockets.\n",
            "\n",
            "4. **Tesla, Inc.**: Musk joined Tesla Motors, Inc. (now Tesla, Inc.) in 2004 as chairman of the board and later became CEO and product architect. Under his leadership, Tesla has become a leading manufacturer of electric vehicles and renewable energy products, significantly influencing the automotive industry.\n",
            "\n",
            "5. **SolarCity**: In 2006, Musk co-founded SolarCity, a solar energy services company. SolarCity was acquired by Tesla in 2016 and integrated into its energy products division.\n",
            "\n",
            "6. **OpenAI**: Musk co-founded OpenAI in 2015, an organization focused on artificial intelligence research and promoting and developing friendly AI in a way that benefits humanity.\n",
            "\n",
            "7. **Neuralink**: In 2016, Musk co-founded Neuralink, a neurotechnology company focused on developing brain-computer interfaces.\n",
            "\n",
            "8. **The Boring Company**: Musk founded The Boring Company in 2016 to develop infrastructure and tunnel construction services, with the goal of addressing urban transportation challenges.\n",
            "\n",
            "9. **Philanthropy and Advocacy**: Musk is also known for his philanthropic efforts, including contributions to renewable energy initiatives, education, and health care.\n",
            "\n",
            "10. **Awards and Recognition**: Musk has received numerous awards and accolades for his contributions to technology and innovation, including being named to Forbes’ list of the world’s most powerful people and Time magazine's Person of the Year.\n",
            "\n",
            "Elon Musk's ventures and innovations have had a significant impact on various industries, particularly in transportation, energy, and space exploration.\n"
          ]
        }
      ]
    },
    {
      "cell_type": "code",
      "source": [
        "# Problem 8 – Preventing Data Leakage\n",
        "\n",
        "# Simulating a chatbot log\n",
        "chat_log = []\n",
        "\n",
        "def chatbot_store(user_input):\n",
        "    chat_log.append(user_input)\n",
        "    return f\"(Simulated response to: {user_input})\"\n",
        "\n",
        "# Unsafe leakage\n",
        "chatbot_store(\"My credit card number is 1234-5678-9876-5432\")\n",
        "print(\"Leaked data in logs:\", chat_log)\n",
        "\n",
        "# Mask sensitive info\n",
        "import re\n",
        "def mask_sensitive(text):\n",
        "    return re.sub(r'\\b(?:\\d[ -]*?){13,16}\\b', '[REDACTED]', text)\n",
        "\n",
        "chat_log_safe = []\n",
        "safe_input = mask_sensitive(\"My credit card number is 1234-5678-9876-5432\")\n",
        "chat_log_safe.append(safe_input)\n",
        "print(\"Safe logs:\", chat_log_safe)\n"
      ],
      "metadata": {
        "colab": {
          "base_uri": "https://localhost:8080/"
        },
        "id": "p-kYBGmb02TA",
        "outputId": "70b3f90a-2a30-4053-ebb6-7b5728f08c94"
      },
      "execution_count": 10,
      "outputs": [
        {
          "output_type": "stream",
          "name": "stdout",
          "text": [
            "Leaked data in logs: ['My credit card number is 1234-5678-9876-5432']\n",
            "Safe logs: ['My credit card number is [REDACTED]']\n"
          ]
        }
      ]
    },
    {
      "cell_type": "code",
      "source": [
        "# Problem 9 – Role-Restricted Responses\n",
        "\n",
        "stem_role = \"You are a STEM tutor. Only answer STEM questions. Politely decline non-STEM.\"\n",
        "\n",
        "queries = [\"What is Newton's second law?\", \"Who won the last Oscars?\"]\n",
        "\n",
        "for q in queries:\n",
        "    prompt = f\"{stem_role}\\nQuestion: {q}\"\n",
        "    output, _ = ask_and_log(prompt)\n",
        "    print(f\"Q: {q}\\nA: {output}\\n\")\n"
      ],
      "metadata": {
        "colab": {
          "base_uri": "https://localhost:8080/"
        },
        "id": "dpsFfr-909oQ",
        "outputId": "4db59b7b-17a4-4d67-a1cd-1f132b5c7c54"
      },
      "execution_count": 11,
      "outputs": [
        {
          "output_type": "stream",
          "name": "stdout",
          "text": [
            "Q: What is Newton's second law?\n",
            "A: Newton's second law states that the acceleration of an object is directly proportional to the net force acting on it and inversely proportional to its mass. It can be expressed with the formula \\( F = ma \\), where \\( F \\) is the net force applied to the object, \\( m \\) is the mass of the object, and \\( a \\) is the acceleration produced. This law highlights the relationship between force, mass, and acceleration.\n",
            "\n",
            "Q: Who won the last Oscars?\n",
            "A: I'm here to help with STEM questions. If you have any inquiries related to science, technology, engineering, or mathematics, feel free to ask!\n",
            "\n"
          ]
        }
      ]
    }
  ]
}