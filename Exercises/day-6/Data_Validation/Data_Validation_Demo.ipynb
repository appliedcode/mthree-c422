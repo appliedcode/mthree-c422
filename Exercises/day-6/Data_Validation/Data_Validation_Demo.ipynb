{
  "cells": [
    {
      "cell_type": "markdown",
      "metadata": {
        "id": "view-in-github",
        "colab_type": "text"
      },
      "source": [
        "<a href=\"https://colab.research.google.com/github/appliedcode/mthree-c422/blob/main/Exercises/day-6/Data_Validation/Data_Validation_Demo.ipynb\" target=\"_parent\"><img src=\"https://colab.research.google.com/assets/colab-badge.svg\" alt=\"Open In Colab\"/></a>"
      ]
    },
    {
      "cell_type": "markdown",
      "source": [
        "### Data Validation and Preparation Using the Iris Dataset in Colab\n",
        "This lab is designed to help you practically apply data validation and preparation techniques as shown in the image. You’ll use Python and pandas in Google Colab.\n",
        "\n",
        "Objectives\n",
        "- Ingest a classic dataset\n",
        "\n",
        "- Validate data types and values\n",
        "\n",
        "- Detect and handle missing or anomalous data\n",
        "\n",
        "- Prepare the data for downstream machine learning tasks\n",
        "\n"
      ],
      "metadata": {
        "id": "RpsOG3v9XMxn"
      }
    },
    {
      "cell_type": "code",
      "source": [
        "# Step 1: Set Up the Environment\n",
        "# Install pandas if not available (usually pre-installed in Colab)\n",
        "!pip install pandas -q"
      ],
      "metadata": {
        "id": "a5YshFxxYuMt"
      },
      "execution_count": 20,
      "outputs": []
    },
    {
      "cell_type": "code",
      "source": [
        "# Step 2: Load the IRIS Dataset\n",
        "import pandas as pd\n",
        "\n",
        "url = \"https://raw.githubusercontent.com/uiuc-cse/data-fa14/gh-pages/data/iris.csv\"\n",
        "df = pd.read_csv(url)\n",
        "print(df.head())\n",
        "\n"
      ],
      "metadata": {
        "colab": {
          "base_uri": "https://localhost:8080/"
        },
        "id": "8P6FIt_AYwvl",
        "outputId": "e4010faf-bef9-4d15-b687-8f637f1e90a6"
      },
      "execution_count": 21,
      "outputs": [
        {
          "output_type": "stream",
          "name": "stdout",
          "text": [
            "   sepal_length  sepal_width  petal_length  petal_width species\n",
            "0           5.1          3.5           1.4          0.2  setosa\n",
            "1           4.9          3.0           1.4          0.2  setosa\n",
            "2           4.7          3.2           1.3          0.2  setosa\n",
            "3           4.6          3.1           1.5          0.2  setosa\n",
            "4           5.0          3.6           1.4          0.2  setosa\n"
          ]
        }
      ]
    },
    {
      "cell_type": "code",
      "source": [
        "# Step 3: Data Validation\n",
        "# Check Data Types and Summary\n",
        "print(df.info())\n",
        "print(df.describe())\n",
        "\n"
      ],
      "metadata": {
        "colab": {
          "base_uri": "https://localhost:8080/"
        },
        "id": "DS2Al26qY-pd",
        "outputId": "814da296-8bf2-4b92-925c-2f13f57ecb04"
      },
      "execution_count": 22,
      "outputs": [
        {
          "output_type": "stream",
          "name": "stdout",
          "text": [
            "<class 'pandas.core.frame.DataFrame'>\n",
            "RangeIndex: 150 entries, 0 to 149\n",
            "Data columns (total 5 columns):\n",
            " #   Column        Non-Null Count  Dtype  \n",
            "---  ------        --------------  -----  \n",
            " 0   sepal_length  150 non-null    float64\n",
            " 1   sepal_width   150 non-null    float64\n",
            " 2   petal_length  150 non-null    float64\n",
            " 3   petal_width   150 non-null    float64\n",
            " 4   species       150 non-null    object \n",
            "dtypes: float64(4), object(1)\n",
            "memory usage: 6.0+ KB\n",
            "None\n",
            "       sepal_length  sepal_width  petal_length  petal_width\n",
            "count    150.000000   150.000000    150.000000   150.000000\n",
            "mean       5.843333     3.054000      3.758667     1.198667\n",
            "std        0.828066     0.433594      1.764420     0.763161\n",
            "min        4.300000     2.000000      1.000000     0.100000\n",
            "25%        5.100000     2.800000      1.600000     0.300000\n",
            "50%        5.800000     3.000000      4.350000     1.300000\n",
            "75%        6.400000     3.300000      5.100000     1.800000\n",
            "max        7.900000     4.400000      6.900000     2.500000\n"
          ]
        }
      ]
    },
    {
      "cell_type": "code",
      "source": [
        "# 3.2 Validate Expected Value Ranges\n",
        "print(df['species'].unique())\n",
        "print(df.describe(include='all'))\n"
      ],
      "metadata": {
        "id": "8HFqLslJbMQr",
        "outputId": "4b70b387-5aa1-4db0-b523-b723bb304422",
        "colab": {
          "base_uri": "https://localhost:8080/"
        }
      },
      "execution_count": 23,
      "outputs": [
        {
          "output_type": "stream",
          "name": "stdout",
          "text": [
            "['setosa' 'versicolor' 'virginica']\n",
            "        sepal_length  sepal_width  petal_length  petal_width species\n",
            "count     150.000000   150.000000    150.000000   150.000000     150\n",
            "unique           NaN          NaN           NaN          NaN       3\n",
            "top              NaN          NaN           NaN          NaN  setosa\n",
            "freq             NaN          NaN           NaN          NaN      50\n",
            "mean        5.843333     3.054000      3.758667     1.198667     NaN\n",
            "std         0.828066     0.433594      1.764420     0.763161     NaN\n",
            "min         4.300000     2.000000      1.000000     0.100000     NaN\n",
            "25%         5.100000     2.800000      1.600000     0.300000     NaN\n",
            "50%         5.800000     3.000000      4.350000     1.300000     NaN\n",
            "75%         6.400000     3.300000      5.100000     1.800000     NaN\n",
            "max         7.900000     4.400000      6.900000     2.500000     NaN\n"
          ]
        }
      ]
    },
    {
      "cell_type": "code",
      "source": [
        "# 3.3 Detect Missing or Anomalous Data\n",
        "print(df.isnull().sum())\n",
        "\n",
        "# Example: Check for any negative lengths/widths\n",
        "for col in ['sepal_length', 'sepal_width', 'petal_length', 'petal_width']:\n",
        "    print(f\"{col} has values < 0:\", (df[col] < 0).any())\n"
      ],
      "metadata": {
        "id": "OYb1Z3OUbPwU",
        "outputId": "2939388d-56f4-48af-8077-56bfef65356f",
        "colab": {
          "base_uri": "https://localhost:8080/"
        }
      },
      "execution_count": 24,
      "outputs": [
        {
          "output_type": "stream",
          "name": "stdout",
          "text": [
            "sepal_length    0\n",
            "sepal_width     0\n",
            "petal_length    0\n",
            "petal_width     0\n",
            "species         0\n",
            "dtype: int64\n",
            "sepal_length has values < 0: False\n",
            "sepal_width has values < 0: False\n",
            "petal_length has values < 0: False\n",
            "petal_width has values < 0: False\n"
          ]
        }
      ]
    },
    {
      "cell_type": "code",
      "source": [
        "# Step 4: Data Preparation\n",
        "# 4.1 Handle Missing Values (if found)\n",
        "# If missing, fill with median (as example)\n",
        "df.fillna(df.median(numeric_only=True), inplace=True)\n"
      ],
      "metadata": {
        "id": "QZrMoHasbSUO"
      },
      "execution_count": 25,
      "outputs": []
    },
    {
      "cell_type": "code",
      "source": [
        "# 4.2 Create New Feature (example: sepal area)\n",
        "df['sepal_area'] = df['sepal_length'] * df['sepal_width']\n",
        "print(df[['sepal_length', 'sepal_width', 'sepal_area']].head())\n"
      ],
      "metadata": {
        "id": "E2V3RyYAbVOW",
        "outputId": "df815532-15e7-4ebd-d8a2-558680a048e3",
        "colab": {
          "base_uri": "https://localhost:8080/"
        }
      },
      "execution_count": 26,
      "outputs": [
        {
          "output_type": "stream",
          "name": "stdout",
          "text": [
            "   sepal_length  sepal_width  sepal_area\n",
            "0           5.1          3.5       17.85\n",
            "1           4.9          3.0       14.70\n",
            "2           4.7          3.2       15.04\n",
            "3           4.6          3.1       14.26\n",
            "4           5.0          3.6       18.00\n"
          ]
        }
      ]
    },
    {
      "cell_type": "code",
      "source": [
        "# 4.3 Encode Categorical Variables\n",
        "df['species_encoded'] = df['species'].astype('category').cat.codes\n",
        "print(df[['species', 'species_encoded']].head())\n"
      ],
      "metadata": {
        "id": "JLfVIv-EbXv5",
        "outputId": "85380874-18d8-4f1e-ec75-8dba6418939e",
        "colab": {
          "base_uri": "https://localhost:8080/"
        }
      },
      "execution_count": 27,
      "outputs": [
        {
          "output_type": "stream",
          "name": "stdout",
          "text": [
            "  species  species_encoded\n",
            "0  setosa                0\n",
            "1  setosa                0\n",
            "2  setosa                0\n",
            "3  setosa                0\n",
            "4  setosa                0\n"
          ]
        }
      ]
    },
    {
      "cell_type": "code",
      "source": [
        "# Step 5: Save Prepared Data (Optional)\n",
        "df.to_csv(\"iris_prepared.csv\", index=False)\n"
      ],
      "metadata": {
        "id": "cnUN9fWMbatd"
      },
      "execution_count": 28,
      "outputs": []
    },
    {
      "cell_type": "markdown",
      "source": [
        "### Step 6: Reflection Questions\n",
        "At the end of your notebook, answer:\n",
        "\n",
        "- What kind of data problems could you catch with validation?\n",
        "\n",
        "- Why is preparation crucial before training machine learning models?\n",
        "\n",
        "- What issues would occur if you skip validation and preparation?\n",
        "\n",
        "### Deliverables:\n",
        "\n",
        "- All code outputs for each step above.\n",
        "\n",
        "- Written answers to the reflection questions."
      ],
      "metadata": {
        "id": "9uwt2CvebhbF"
      }
    },
    {
      "cell_type": "markdown",
      "source": [
        "Additional Exercises (Dataset)\n",
        "- Student Performance (Portuguese School) - https://raw.githubusercontent.com/selva86/datasets/master/StudentPerformance.csv\n",
        "- Credit Card Fraud Detection - https://raw.githubusercontent.com/datasets/credit-card-fraud-detection/master/data/creditcard.csv"
      ],
      "metadata": {
        "id": "EvKYOQeybxr9"
      }
    }
  ],
  "metadata": {
    "colab": {
      "name": "Welcome to Colab",
      "provenance": [],
      "include_colab_link": true
    },
    "kernelspec": {
      "display_name": "Python 3",
      "name": "python3"
    }
  },
  "nbformat": 4,
  "nbformat_minor": 0
}