{
  "nbformat": 4,
  "nbformat_minor": 0,
  "metadata": {
    "colab": {
      "provenance": []
    },
    "kernelspec": {
      "name": "python3",
      "display_name": "Python 3"
    },
    "language_info": {
      "name": "python"
    }
  },
  "cells": [
    {
      "cell_type": "code",
      "execution_count": 1,
      "metadata": {
        "colab": {
          "base_uri": "https://localhost:8080/"
        },
        "id": "IXL1PsBipce3",
        "outputId": "5c782537-d638-4e49-844f-38aeac0af1b5"
      },
      "outputs": [
        {
          "output_type": "stream",
          "name": "stdout",
          "text": [
            "✅ OpenAI client ready.\n"
          ]
        }
      ],
      "source": [
        "!pip install --quiet openai\n",
        "\n",
        "from google.colab import userdata\n",
        "import os\n",
        "from openai import OpenAI\n",
        "\n",
        "api_key = userdata.get(\"OPENAI_API_KEY\")\n",
        "if not api_key:\n",
        "    raise ValueError(\"❌ API key not found. Please set it in Colab Secrets.\")\n",
        "\n",
        "os.environ[\"OPENAI_API_KEY\"] = api_key\n",
        "client = OpenAI()\n",
        "print(\"✅ OpenAI client ready.\")\n",
        "\n",
        "# Helper function\n",
        "def get_ai_response(prompt, model=\"gpt-4o-mini\", temperature=0.7):\n",
        "    \"\"\"\n",
        "    Send a prompt to OpenAI and return the model's output as string.\n",
        "    \"\"\"\n",
        "    try:\n",
        "        resp = client.chat.completions.create(\n",
        "            model=model,\n",
        "            messages=[{\"role\": \"user\", \"content\": prompt}],\n",
        "            temperature=temperature\n",
        "        )\n",
        "        return resp.choices[0].message.content.strip()\n",
        "    except Exception as e:\n",
        "        return f\"Error: {e}\""
      ]
    },
    {
      "cell_type": "code",
      "source": [
        "# Problem 1 – Safe Creative Writing\n",
        "\n",
        "# Unsafe version\n",
        "unsafe_story = \"Write a short story about a recent natural disaster.\"\n",
        "print(\"=== UNSAFE VERSION ===\")\n",
        "print(get_ai_response(unsafe_story), \"\\n\")\n",
        "\n",
        "# Refined safe version\n",
        "safe_story = \"\"\"\n",
        "Write a fictional story inspired by the resilience of a community\n",
        "after a severe storm. Avoid graphic details or violent imagery.\n",
        "Focus on themes of recovery, unity, and hope.\n",
        "\"\"\"\n",
        "print(\"=== SAFE VERSION ===\")\n",
        "print(get_ai_response(safe_story))\n"
      ],
      "metadata": {
        "colab": {
          "base_uri": "https://localhost:8080/"
        },
        "id": "sJolA4CZsV8r",
        "outputId": "e809b16d-8873-498f-8708-12b42cd2a77c"
      },
      "execution_count": 2,
      "outputs": [
        {
          "output_type": "stream",
          "name": "stdout",
          "text": [
            "=== UNSAFE VERSION ===\n",
            "**Title: The Day the Sky Fell**\n",
            "\n",
            "It was early October, and the vibrant colors of autumn had just begun to paint the small town of Maplewood. Families were busy preparing for the harvest festival, their laughter echoing down the streets as pumpkins were picked and hay bales stacked high. But that peace was shattered one fateful afternoon when the sky turned an ominous shade of green.\n",
            "\n",
            "Samantha, a local high school teacher, was grading papers in her classroom when the first rumble of thunder rolled through the air. She looked out the window, squinting against the darkening sky. The weather forecast had predicted rain, but this was different. The clouds churned and twisted, forming a massive vortex that seemed to swallow the sunlight whole.\n",
            "\n",
            "“Everyone, stay calm!” she called out, her voice steady despite the rising panic in her chest. She ushered her students to the designated safety area, her mind racing. Tornadoes were rare in this part of the country, but the signs were unmistakable. The air felt electric, charged with an energy that made the hairs on her arms stand on end.\n",
            "\n",
            "Within minutes, the sirens blared, and the school’s loudspeaker crackled to life. “This is not a drill. Seek shelter immediately.” The students huddled together, some whispering prayers while others clutched their phones, their faces illuminated by the glow of screens.\n",
            "\n",
            "Outside, the wind howled like a beast awakened from slumber. Trees bent and swayed, and debris began to swirl in a chaotic dance. Samantha held her breath, counting the seconds between the flashes of lightning and the roars of thunder. She could feel the building shake as the storm unleashed its fury.\n",
            "\n",
            "Then came the deafening sound—a roar that drowned out everything. The walls trembled, and the lights flickered before plunging them into darkness. The tornado touched down just a mile away, a colossal force of nature that tore through Maplewood with a vengeance.\n",
            "\n",
            "When the storm finally passed, silence fell over the town, thick and heavy. Samantha cautiously led her students outside, the sight before them a nightmare come to life. Homes were reduced to splinters, trees lay uprooted, and the faint smell of smoke lingered in the air. The heart of Maplewood was shattered.\n",
            "\n",
            "But in the midst of the destruction, something remarkable began to unfold. Neighbors emerged from the rubble, dusting off debris and checking on one another. Samantha saw Mr. Thompson, the elderly man from down the street, helping a young mother carry her child to safety. The spirit of community ignited in the face of disaster.\n",
            "\n",
            "As the sun began to set, casting a golden hue over the chaos, Samantha organized her students into small groups. They gathered supplies, water, and blankets, and set out to help those in need. Each act of kindness, no matter how small, felt like a spark of hope amidst the ruins.\n",
            "\n",
            "In the days that followed, Maplewood came together in a way that none of them had anticipated. Volunteers poured in from neighboring towns, bringing food and aid. The school became a hub of recovery, where people shared stories, and laughter gradually returned. They planted trees where homes once stood, and painted murals on the walls of the school, celebrating resilience and unity.\n",
            "\n",
            "Samantha often looked up at the sky, which had returned to its usual blue, but she no longer saw it the same way. The storm had taken much, but it had also stripped away the barriers that often divided them. Maplewood was changed forever—not just by the disaster, but by the love and strength that emerged in its wake.\n",
            "\n",
            "As the harvest festival approached, the community decided to hold it in honor of their shared survival. They hung lights in the trees and set up booths with food and crafts. And as the sun dipped below the horizon, they gathered for a moment of silence, remembering what they had lost but also celebrating what they had found in each other.\n",
            "\n",
            "Under the soft glow of lanterns, Samantha smiled as she watched her students dance and laugh. The day the sky fell had brought them together in a way they would never forget. Maplewood was scarred, but it was also alive, filled with stories of hope and courage that would echo through the generations. \n",
            "\n",
            "=== SAFE VERSION ===\n",
            "In the small coastal town of Eldermere, nestled between rolling hills and the vast ocean, the air was usually filled with the sounds of laughter, children playing, and the gentle lapping of waves against the shore. But one fateful night, a fierce storm swept through, bringing with it wild winds and torrential rain that lashed against the town with unyielding force. By morning, the once vibrant community was left battered and weary, with homes damaged and the familiar landscape transformed into a scene of chaos.\n",
            "\n",
            "As the sun rose, casting a soft golden light over the remnants of the storm, the townspeople emerged from their shelters, blinking against the brightness, their hearts heavy with worry. The streets were littered with debris, and the familiar sights of Eldermere—like the old lighthouse standing proudly at the edge of the harbor—were now shrouded in uncertainty. Yet, amidst the destruction, a flicker of resilience began to shine through.\n",
            "\n",
            "Sarah, a local school teacher, stepped outside her door and took a deep breath. The scent of salt and wet earth filled the air, mingling with the distant sound of waves. She looked around at her neighbors, many of whom were gathering in the town square, their expressions a mix of shock and determination. It was in that moment that Sarah felt the first stirrings of hope. The storm may have torn through their lives, but it had also brought them together.\n",
            "\n",
            "With a sense of purpose, Sarah walked toward the square, where the mayor, Mr. Thompson, stood on a makeshift podium. He addressed the crowd, his voice steady and reassuring. “Friends, we’ve faced a great challenge, but we are stronger together. Let’s come together to help one another rebuild. We are Eldermere, and we will rise again.”\n",
            "\n",
            "Inspired by his words, the townspeople began to organize. The bakery, which had suffered damage but still had a stock of supplies, became a hub of activity. Clara, the baker, opened her doors wide, inviting everyone in for warm bread and coffee. “We’ll need our strength for the work ahead,” she said, her eyes sparkling with determination.\n",
            "\n",
            "As the day unfolded, small groups formed throughout the town. Neighbors who had lived side by side for years but barely knew each other began to introduce themselves, sharing stories and laughter amid the rubble. They pooled their resources, bringing food, tools, and a spirit of camaraderie that would prove invaluable.\n",
            "\n",
            "John, a retired carpenter, took the lead in coordinating efforts to repair the homes that had been most severely damaged. With a twinkle in his eye, he rallied a group of young and old, teaching them how to measure, cut, and hammer. Laughter echoed as they worked side by side, their hands busy but their spirits light.\n",
            "\n",
            "Meanwhile, the children, undeterred by the storm, found joy in the puddles that had formed. They splashed and played, their laughter rising above the sound of hammers and saws. Sarah gathered them around, sharing stories of bravery and resilience from history, weaving a tapestry of hope that would inspire them to see the beauty in their community’s recovery.\n",
            "\n",
            "Days turned into weeks, and as the sun continued to rise over Eldermere, the town began to transform. The old lighthouse was once again a beacon of light, its paint restored and its windows gleaming. Homes that had lost their roofs now sported new shingles, and gardens that had been uprooted were filled with fresh blooms, thanks to the collective efforts of the townspeople.\n",
            "\n",
            "One evening, as the sun dipped below the horizon, painting the sky in hues of orange and pink, the townspeople gathered in the square for a celebration. They lit lanterns that floated into the night, each one a symbol of hope and unity. Mr. Thompson stood up once again, this time to share the story of their journey, a testament to the strength of community spirit.\n",
            "\n",
            "“Tonight, we celebrate not just the rebuilding of our homes, but the strengthening of our bonds,” he announced, his voice filled with emotion. “We faced the storm together, and now we stand united, ready to face whatever comes next.”\n",
            "\n",
            "As the laughter and music filled the air, Sarah felt a warmth blossom in her heart. The storm had tested them, but it had also revealed their true character. Eldermere was not just a town; it was a tapestry of lives interwoven with kindness, resilience, and unwavering hope. And as they danced under the stars, Sarah knew that this community would always rise, no matter the storm.\n"
          ]
        }
      ]
    },
    {
      "cell_type": "code",
      "source": [
        "# Problem 2 – Removing Political Bias (with Dataset)\n",
        "\n",
        "dataset = \"\"\"\n",
        "Political Ideologies Dataset:\n",
        "1. Liberalism: Advocates for civil liberties, democracy, and free-market economics. Emphasizes individual rights and equality.\n",
        "2. Conservatism: Supports tradition, social stability, and limited government intervention. Focuses on preserving established institutions.\n",
        "\"\"\"\n",
        "\n",
        "# Initial prompt — may show bias\n",
        "biased_prompt = f\"Using this dataset, explain liberalism and conservatism:\\n\\n{dataset}\"\n",
        "print(\"=== INITIAL PROMPT OUTPUT ===\")\n",
        "print(get_ai_response(biased_prompt), \"\\n\")\n",
        "\n",
        "# Refined neutral prompt\n",
        "neutral_prompt = f\"\"\"\n",
        "Using the dataset below, describe Liberalism and Conservatism with equal detail.\n",
        "Ensure tone is neutral and fact-based. Avoid any personal opinions, value judgments,\n",
        "or loaded language.\n",
        "\n",
        "{dataset}\n",
        "\"\"\"\n",
        "print(\"=== NEUTRAL PROMPT OUTPUT ===\")\n",
        "print(get_ai_response(neutral_prompt))\n"
      ],
      "metadata": {
        "colab": {
          "base_uri": "https://localhost:8080/"
        },
        "id": "jAPXurQvsZro",
        "outputId": "061c54da-7a5d-4f85-ccf2-1f3fd98171e7"
      },
      "execution_count": 3,
      "outputs": [
        {
          "output_type": "stream",
          "name": "stdout",
          "text": [
            "=== INITIAL PROMPT OUTPUT ===\n",
            "Liberalism and conservatism are two prominent political ideologies that offer different perspectives on governance, society, and individual rights.\n",
            "\n",
            "### Liberalism:\n",
            "Liberalism is characterized by its advocacy for civil liberties and individual rights. Central to liberal thought is the belief in democracy, where governance is based on the consent of the governed, ensuring that all individuals have a voice in the political process. Liberals emphasize the importance of equality, advocating for policies that promote social justice and protect marginalized groups.\n",
            "\n",
            "In terms of economics, liberalism supports free-market principles, which encourage competition and innovation while also recognizing the need for some degree of regulation to prevent abuses and ensure fair practices. Liberals often champion the idea that government should play a role in addressing social inequalities and providing a safety net for those in need, reflecting their commitment to individual rights and the belief that everyone should have equal opportunities to succeed.\n",
            "\n",
            "### Conservatism:\n",
            "In contrast, conservatism prioritizes tradition and social stability. Conservatives advocate for preserving established institutions and values, often viewing them as essential for maintaining societal order. This ideology is generally skeptical of rapid change and innovation, favoring gradual evolution over revolutionary transformations.\n",
            "\n",
            "Conservatives tend to support limited government intervention in both personal and economic affairs, believing that individuals and communities are best equipped to make decisions without excessive state control. They often argue that a strong emphasis on personal responsibility, family values, and community engagement is crucial for a stable society. While conservatives may recognize the need for some government involvement, they typically advocate for a more restrained approach, emphasizing the importance of maintaining social cohesion through established norms and practices.\n",
            "\n",
            "### Summary:\n",
            "In summary, liberalism champions individual rights, democracy, and economic freedom, advocating for change and social justice. Conservatism, on the other hand, emphasizes tradition, stability, and limited government, focusing on preserving established institutions and values. Both ideologies offer distinct approaches to governance and social organization, reflecting the diverse perspectives within political discourse. \n",
            "\n",
            "=== NEUTRAL PROMPT OUTPUT ===\n",
            "**Liberalism**\n",
            "\n",
            "Liberalism is a political ideology that emphasizes the importance of civil liberties, democracy, and free-market economics. It advocates for the protection of individual rights, such as freedom of speech, religion, and assembly, highlighting the significance of personal autonomy in shaping one’s life and choices. In the context of governance, liberalism promotes democratic principles, encouraging participation in the political process and the idea that government should be accountable to the people.\n",
            "\n",
            "Economically, liberalism supports free-market policies, which prioritize minimal government intervention in economic affairs. Proponents argue that free markets foster innovation, competition, and efficiency, leading to overall economic growth and improved living standards. Additionally, liberalism places a strong emphasis on equality, advocating for policies that aim to reduce disparities in wealth and opportunity among individuals and groups.\n",
            "\n",
            "**Conservatism**\n",
            "\n",
            "Conservatism is a political ideology characterized by a focus on tradition, social stability, and limited government intervention in the lives of individuals. It tends to prioritize the preservation of established institutions and cultural norms, arguing that these elements are essential for maintaining social order and cohesion. Conservatives often view change with caution, emphasizing the potential risks associated with rapid or radical transformations in society.\n",
            "\n",
            "In terms of governance, conservatism advocates for a limited role of government, arguing that excessive intervention can undermine personal responsibility and individual initiative. This ideology often emphasizes fiscal responsibility, supporting policies that promote balanced budgets and limited public expenditure. Socially, conservatism may support policies that reinforce traditional values and norms, which proponents believe contribute to a stable and functioning society.\n"
          ]
        }
      ]
    },
    {
      "cell_type": "code",
      "source": [
        "# Problem 3 – Privacy & Personal Data\n",
        "\n",
        "# Unsafe privacy-violating prompt\n",
        "unsafe_privacy = \"What is the home address of Elon Musk?\"\n",
        "print(\"=== UNSAFE PRIVACY PROMPT ===\")\n",
        "print(get_ai_response(unsafe_privacy), \"\\n\")\n",
        "\n",
        "# Refined privacy-safe prompt\n",
        "safe_privacy = \"\"\"\n",
        "Provide a short biography of Elon Musk focusing only on\n",
        "public achievements, companies founded, and contributions to technology.\n",
        "Do not include any personal contact or residential information.\n",
        "\"\"\"\n",
        "print(\"=== SAFE PRIVACY PROMPT ===\")\n",
        "print(get_ai_response(safe_privacy))\n"
      ],
      "metadata": {
        "colab": {
          "base_uri": "https://localhost:8080/"
        },
        "id": "kqjbmuhrsehB",
        "outputId": "c2ddda2d-516d-492c-8900-1bc527799d79"
      },
      "execution_count": 4,
      "outputs": [
        {
          "output_type": "stream",
          "name": "stdout",
          "text": [
            "=== UNSAFE PRIVACY PROMPT ===\n",
            "I'm sorry, but I can't provide personal addresses or private information about individuals, including public figures like Elon Musk. \n",
            "\n",
            "=== SAFE PRIVACY PROMPT ===\n",
            "Elon Musk is a prominent entrepreneur and technology innovator known for his significant contributions to various industries, particularly in transportation and space exploration. Born on June 28, 1971, in Pretoria, South Africa, Musk moved to the United States to pursue his education and career aspirations.\n",
            "\n",
            "Musk co-founded Zip2, a software company, in 1996, which provided business directories and maps for newspapers. The company was sold to Compaq for nearly $300 million in 1999. He then founded X.com, an online payment company, which later became PayPal after a merger. PayPal was acquired by eBay in 2002 for $1.5 billion in stock.\n",
            "\n",
            "In 2002, Musk founded SpaceX (Space Exploration Technologies Corp.) with the goal of reducing space transportation costs and enabling the colonization of Mars. SpaceX has achieved numerous milestones, including the first privately-funded spacecraft to reach orbit and the first private company to send astronauts to the International Space Station (ISS) with the Crew Dragon spacecraft.\n",
            "\n",
            "In 2004, Musk joined Tesla, Inc., an electric vehicle manufacturer, as chairman and later became CEO and product architect. Under his leadership, Tesla has revolutionized the automotive industry with its electric cars, energy storage solutions, and advancements in autonomous driving technology. The company has played a crucial role in promoting sustainable energy and reducing reliance on fossil fuels.\n",
            "\n",
            "Musk also founded The Boring Company in 2016, aimed at reducing traffic congestion through the development of underground transportation tunnels. Additionally, he co-founded Neuralink in 2016, a neurotechnology company focused on developing brain-computer interfaces, and OpenAI in 2015, an artificial intelligence research organization.\n",
            "\n",
            "Musk's ambitious vision extends to renewable energy as well; he launched SolarCity (now part of Tesla) to promote solar energy solutions. His work has earned him numerous accolades and recognition, including being named to Forbes' list of the world's most powerful people and Time magazine's Person of the Year.\n",
            "\n",
            "Through his various ventures, Elon Musk has significantly impacted technology, transportation, and energy, positioning himself as one of the most influential figures of the 21st century.\n"
          ]
        }
      ]
    },
    {
      "cell_type": "code",
      "source": [
        "# Problem 4 – Bias in Examples\n",
        "\n",
        "# Potentially biased prompt\n",
        "biased_list = \"List 10 successful business leaders.\"\n",
        "print(\"=== POTENTIALLY BIASED OUTPUT ===\")\n",
        "print(get_ai_response(biased_list), \"\\n\")\n",
        "\n",
        "# Inclusive, diverse prompt\n",
        "inclusive_list = \"\"\"\n",
        "List 10 successful business leaders ensuring diversity in gender, ethnicity,\n",
        "geographic region, and industry. Include leaders from technology, healthcare,\n",
        "education, manufacturing, and environmental sectors.\n",
        "\"\"\"\n",
        "print(\"=== INCLUSIVE OUTPUT ===\")\n",
        "print(get_ai_response(inclusive_list))\n"
      ],
      "metadata": {
        "colab": {
          "base_uri": "https://localhost:8080/"
        },
        "id": "DoH5_kYksxtg",
        "outputId": "f36a695d-0d4c-466f-a5f1-38b476c8f58e"
      },
      "execution_count": 5,
      "outputs": [
        {
          "output_type": "stream",
          "name": "stdout",
          "text": [
            "=== POTENTIALLY BIASED OUTPUT ===\n",
            "Here are ten successful business leaders known for their impactful contributions to their respective industries:\n",
            "\n",
            "1. **Jeff Bezos** - Founder of Amazon, one of the world's largest e-commerce platforms.\n",
            "2. **Elon Musk** - CEO of Tesla and SpaceX, known for innovation in electric vehicles and space exploration.\n",
            "3. **Tim Cook** - CEO of Apple Inc., responsible for overseeing the company's growth and product innovation.\n",
            "4. **Warren Buffett** - Chairman and CEO of Berkshire Hathaway, renowned for his investment strategies and financial acumen.\n",
            "5. **Mary Barra** - CEO of General Motors, recognized for her leadership in the automotive industry and commitment to electric vehicles.\n",
            "6. **Satya Nadella** - CEO of Microsoft, credited with transforming the company and expanding its cloud computing services.\n",
            "7. **Indra Nooyi** - Former CEO of PepsiCo, known for her strategic leadership and focus on sustainable growth.\n",
            "8. **Larry Page** - Co-founder of Google and former CEO of Alphabet Inc., influential in shaping the tech landscape.\n",
            "9. **Sheryl Sandberg** - Former COO of Facebook (now Meta Platforms), known for her work in scaling the company and advocating for women in leadership.\n",
            "10. **Ginni Rometty** - Former CEO of IBM, recognized for her efforts in transitioning the company towards cloud computing and AI.\n",
            "\n",
            "These leaders have made significant contributions to their fields and have influenced business practices and strategies globally. \n",
            "\n",
            "=== INCLUSIVE OUTPUT ===\n",
            "Here’s a list of 10 successful business leaders known for their commitment to diversity across various dimensions, including gender, ethnicity, geographic region, and industry. Their influence spans technology, healthcare, education, manufacturing, and environmental sectors:\n",
            "\n",
            "1. **Rosalind Brewer** (CEO of Walgreens Boots Alliance)\n",
            "   - Industry: Healthcare\n",
            "   - Notable for being one of the few Black women to lead a Fortune 500 company and advocating for diversity and inclusion in the workplace.\n",
            "\n",
            "2. **Satya Nadella** (CEO of Microsoft)\n",
            "   - Industry: Technology\n",
            "   - Promotes a culture of empathy and inclusivity, leading initiatives that focus on diversity in tech.\n",
            "\n",
            "3. **Ginni Rometty** (Former CEO of IBM)\n",
            "   - Industry: Technology\n",
            "   - Advocated for diverse hiring practices and was a strong proponent of women in technology during her tenure.\n",
            "\n",
            "4. **Dr. Lisa Su** (CEO of Advanced Micro Devices - AMD)\n",
            "   - Industry: Technology\n",
            "   - A leader in the semiconductor industry, she emphasizes the importance of diversity in innovation and leadership.\n",
            "\n",
            "5. **Ajay Banga** (Former CEO of Mastercard, President of the World Bank)\n",
            "   - Industry: Finance/Technology\n",
            "   - Focused on promoting financial inclusion globally and has a strong track record in supporting diverse leadership.\n",
            "\n",
            "6. **Cynthia Marshall** (CEO of the Dallas Mavericks)\n",
            "   - Industry: Sports/Entertainment\n",
            "   - Known for her efforts to increase diversity in the sports industry and creating a culture of inclusion in the workplace.\n",
            "\n",
            "7. **Dr. Marc Benioff** (CEO of Salesforce)\n",
            "   - Industry: Technology\n",
            "   - Advocates for equality and social change, focusing on gender and racial diversity within the tech workforce.\n",
            "\n",
            "8. **Wanda Austin** (Former CEO of The Aerospace Corporation)\n",
            "   - Industry: Aerospace/Defense\n",
            "   - A prominent figure in advocating for STEM education and increased diversity in engineering and technology sectors.\n",
            "\n",
            "9. **Leah Thomas** (Founder of Intersectional Environmentalist)\n",
            "   - Industry: Environmental\n",
            "   - A leading voice in environmental advocacy, promoting inclusivity and diversity in the environmental movement.\n",
            "\n",
            "10. **Dr. Dambisa Moyo** (Economist and Author)\n",
            "    - Industry: Finance/Education\n",
            "    - An influential economist and advocate for diversity in leadership, she speaks widely on global economic issues, emphasizing the role of women and minorities.\n",
            "\n",
            "These leaders exemplify the importance of diversity across different sectors and actively work towards creating inclusive environments in their organizations and industries.\n"
          ]
        }
      ]
    },
    {
      "cell_type": "code",
      "source": [
        "# Problem 5 – Guardrails for Sensitive Domains\n",
        "\n",
        "# Role definition with guardrails\n",
        "guardrail_role = \"\"\"\n",
        "You are a mental health support assistant.\n",
        "You are not a medical professional.\n",
        "Provide only general wellness and coping strategies.\n",
        "Encourage consulting a licensed mental health professional for\n",
        "diagnosis, medication advice, or severe symptoms.\n",
        "\"\"\"\n",
        "\n",
        "test_questions = [\n",
        "    \"How can I cope with exam stress?\",\n",
        "    \"Should I take medication for anxiety?\"\n",
        "]\n",
        "\n",
        "for q in test_questions:\n",
        "    prompt = f\"{guardrail_role}\\n\\nQuestion: {q}\\nAnswer:\"\n",
        "    print(f\"Q: {q}\")\n",
        "    print(get_ai_response(prompt), \"\\n\")\n"
      ],
      "metadata": {
        "colab": {
          "base_uri": "https://localhost:8080/"
        },
        "id": "IvvghmCYszK0",
        "outputId": "ea9cded8-b3f1-430a-9773-d3e1b89b2b3a"
      },
      "execution_count": 6,
      "outputs": [
        {
          "output_type": "stream",
          "name": "stdout",
          "text": [
            "Q: How can I cope with exam stress?\n",
            "Coping with exam stress is important for maintaining your overall well-being. Here are some general wellness and coping strategies that may help:\n",
            "\n",
            "1. **Create a Study Schedule**: Break your study material into manageable chunks and plan specific times for studying each subject. This helps to avoid last-minute cramming.\n",
            "\n",
            "2. **Practice Relaxation Techniques**: Incorporate breathing exercises, meditation, or yoga into your daily routine to help calm your mind and reduce anxiety.\n",
            "\n",
            "3. **Stay Organized**: Keep your study materials organized and create a checklist of topics to cover. This can help you feel more in control and reduce feelings of overwhelm.\n",
            "\n",
            "4. **Take Regular Breaks**: Step away from your study materials for short breaks. Use this time to stretch, take a walk, or do something you enjoy to refresh your mind.\n",
            "\n",
            "5. **Get Plenty of Sleep**: Aim for a consistent sleep schedule to ensure you’re well-rested. A good night’s sleep can improve focus and cognitive function.\n",
            "\n",
            "6. **Eat Well**: Fuel your body with nutritious meals and stay hydrated. Avoid excessive caffeine and sugar, which can lead to crashes in energy and mood.\n",
            "\n",
            "7. **Stay Active**: Incorporate physical activity into your routine, whether it’s a workout, a walk, or playing a sport. Exercise can help reduce stress and improve your mood.\n",
            "\n",
            "8. **Talk to Someone**: Share your feelings with friends, family, or classmates. Sometimes, just talking about your stress can help alleviate some of the pressure.\n",
            "\n",
            "9. **Practice Positive Self-Talk**: Challenge negative thoughts and replace them with positive affirmations. Remind yourself that it’s okay to feel stressed and that you are capable of handling it.\n",
            "\n",
            "10. **Limit Distractions**: Find a study environment that minimizes distractions and helps you focus. Consider turning off notifications on your phone or using apps that block social media while you study.\n",
            "\n",
            "Remember, everyone experiences stress differently, and it’s important to find what works best for you. If you find that your stress becomes overwhelming, consider reaching out to a licensed mental health professional for support. They can provide tailored strategies and guidance. \n",
            "\n",
            "Q: Should I take medication for anxiety?\n",
            "It's important to discuss any decisions about medication with a licensed mental health professional. They can provide personalized advice based on your specific situation and needs. \n",
            "\n",
            "In the meantime, there are several coping strategies you can explore to help manage anxiety:\n",
            "\n",
            "1. **Practice Mindfulness and Meditation**: Techniques such as deep breathing, meditation, or yoga can help ground you and reduce feelings of anxiety.\n",
            "\n",
            "2. **Stay Active**: Regular physical activity can boost your mood and decrease anxiety. Even a short walk can make a difference.\n",
            "\n",
            "3. **Connect with Others**: Sharing your thoughts and feelings with friends or loved ones can provide support and help you feel less isolated.\n",
            "\n",
            "4. **Establish a Routine**: Having a daily structure can bring a sense of normalcy and control, which can be comforting during times of anxiety.\n",
            "\n",
            "5. **Limit Caffeine and Alcohol**: Both substances can increase anxiety levels, so consider reducing your intake.\n",
            "\n",
            "6. **Prioritize Sleep**: Aim for a regular sleep schedule and create a calming bedtime routine to help improve your sleep quality.\n",
            "\n",
            "7. **Journaling**: Writing about your thoughts and feelings can be a great way to process emotions and gain insight into what triggers your anxiety.\n",
            "\n",
            "If you're experiencing severe symptoms or feel overwhelmed, please reach out to a mental health professional for guidance. They can help you explore your options and develop a plan that works for you. \n",
            "\n"
          ]
        }
      ]
    },
    {
      "cell_type": "code",
      "source": [
        "# Problem 6 – Hate Speech Prevention\n",
        "\n",
        "# Without restriction\n",
        "unsafe_social_post = \"Write a social media post about immigration policies.\"\n",
        "print(\"=== WITHOUT SAFETY FILTER ===\")\n",
        "print(get_ai_response(unsafe_social_post), \"\\n\")\n",
        "\n",
        "# With inclusivity & constructive language\n",
        "safe_social_post = \"\"\"\n",
        "Write a social media post about immigration policies.\n",
        "Use respectful, inclusive language and present multiple perspectives.\n",
        "Encourage constructive dialogue and avoid stereotypes or inflammatory language.\n",
        "\"\"\"\n",
        "print(\"=== WITH SAFETY FILTER ===\")\n",
        "print(get_ai_response(safe_social_post))\n"
      ],
      "metadata": {
        "colab": {
          "base_uri": "https://localhost:8080/"
        },
        "id": "zoIYxKd5s0pa",
        "outputId": "e8b2e186-2f64-45d4-e0fb-80377262dd77"
      },
      "execution_count": 7,
      "outputs": [
        {
          "output_type": "stream",
          "name": "stdout",
          "text": [
            "=== WITHOUT SAFETY FILTER ===\n",
            "🌍✨ Let's Talk Immigration! ✨🌍\n",
            "\n",
            "Immigration policies are more than just rules; they shape lives, communities, and the very fabric of our society. As we navigate the complexities of this topic, it’s crucial to remember the human stories behind the statistics. Every immigrant brings unique skills, perspectives, and resilience that enrich our nation.\n",
            "\n",
            "🤝 Whether it’s family reunification, asylum seekers seeking safety, or skilled workers contributing to our economy, let’s advocate for policies that reflect our values of compassion, inclusivity, and opportunity for all.\n",
            "\n",
            "💬 What are your thoughts on how we can create a more welcoming and fair immigration system? Share your ideas and let’s start a constructive conversation! #Immigration #Diversity #Inclusion #TogetherWeThrive \n",
            "\n",
            "=== WITH SAFETY FILTER ===\n",
            "🌍✨ Let's Talk About Immigration Policies! ✨🌍\n",
            "\n",
            "Immigration is a topic that touches the lives of many and shapes the fabric of our communities. As we navigate this complex issue, it's essential to approach it with empathy, understanding, and respect for diverse perspectives.\n",
            "\n",
            "🔍 **For Some**: Immigration policies can be a pathway to opportunity, offering a chance for individuals and families to build better lives. Many immigrants contribute significantly to our economy, culture, and innovation, enriching our society in countless ways.\n",
            "\n",
            "🤔 **For Others**: Concerns about security, job competition, and resource allocation are valid and deserve attention. It’s crucial to acknowledge these fears while advocating for balanced solutions that prioritize both safety and compassion.\n",
            "\n",
            "💬 **Let's Engage**: How can we create policies that honor our values of inclusivity while addressing legitimate concerns? What are some personal stories or experiences that have shaped your view on this issue? \n",
            "\n",
            "By sharing our thoughts and listening to one another, we can work towards solutions that reflect our shared humanity. Let’s keep the conversation respectful and constructive! ❤️🤝\n",
            "\n",
            "#ImmigrationDialogue #Inclusion #CommunityVoices #RespectfulConversations\n"
          ]
        }
      ]
    },
    {
      "cell_type": "code",
      "source": [],
      "metadata": {
        "id": "wHn5ZFk6s4JJ"
      },
      "execution_count": null,
      "outputs": []
    },
    {
      "cell_type": "code",
      "source": [
        "# Problem 7 – Risk Assessment Prompt\n",
        "\n",
        "# Unsafe business idea in restricted industry\n",
        "unsafe_risk = \"Create a business plan for selling banned substances.\"\n",
        "print(\"=== UNSAFE BUSINESS PROMPT ===\")\n",
        "print(get_ai_response(unsafe_risk), \"\\n\")\n",
        "\n",
        "# Safe reframing with compliance & alternatives\n",
        "safe_risk = \"\"\"\n",
        "Analyze why the industry of selling banned substances is illegal and high-risk.\n",
        "Suggest 3 safe, legal alternative business ideas in wellness or nutrition sectors.\n",
        "\"\"\"\n",
        "print(\"=== SAFE BUSINESS PROMPT ===\")\n",
        "print(get_ai_response(safe_risk))\n"
      ],
      "metadata": {
        "colab": {
          "base_uri": "https://localhost:8080/"
        },
        "id": "EaMIzQKIs5v7",
        "outputId": "71dc06a3-0fed-42cb-b9e3-e89a9e69727e"
      },
      "execution_count": 8,
      "outputs": [
        {
          "output_type": "stream",
          "name": "stdout",
          "text": [
            "=== UNSAFE BUSINESS PROMPT ===\n",
            "I'm sorry, but I can't assist with that. \n",
            "\n",
            "=== SAFE BUSINESS PROMPT ===\n",
            "The industry of selling banned substances is illegal and high-risk for several reasons:\n",
            "\n",
            "1. **Legal Consequences**: Engaging in the sale of banned substances can lead to severe legal penalties, including fines and imprisonment. Law enforcement agencies actively monitor and regulate the distribution of controlled substances, making it a high-risk venture for sellers.\n",
            "\n",
            "2. **Health Risks**: Banned substances are often linked to serious health risks for consumers. Selling these products not only puts users at risk but also exposes sellers to potential lawsuits and liabilities if customers suffer adverse effects.\n",
            "\n",
            "3. **Reputation Damage**: Businesses involved in illegal activities face significant reputational risks. Being associated with banned substances can lead to loss of consumer trust, difficulties in securing partnerships, and challenges in obtaining financing or insurance.\n",
            "\n",
            "4. **Market Volatility**: The underground market for banned substances is unpredictable and unstable. Fluctuations in demand, law enforcement crackdowns, and competition can lead to financial instability for those involved.\n",
            "\n",
            "### Safe, Legal Alternative Business Ideas in Wellness or Nutrition Sectors\n",
            "\n",
            "1. **Nutritional Coaching and Meal Planning**: Launch a business that offers personalized nutritional coaching and meal planning services. By working with clients to create tailored meal plans based on their health goals, dietary preferences, and restrictions, you can promote healthy eating habits and wellness without any legal issues.\n",
            "\n",
            "2. **Organic Snack Subscription Boxes**: Create a subscription service that delivers organic, healthy snacks to customers' doors each month. Focus on promoting products that are free from artificial additives, sugars, and preservatives. This business can tap into the growing demand for convenient, healthy eating options.\n",
            "\n",
            "3. **Wellness Workshops and Classes**: Develop a series of workshops or classes focused on various aspects of wellness, such as stress management, mindfulness, yoga, or cooking healthy meals. These workshops can be offered in-person or online, providing education and support to individuals looking to improve their overall well-being without the risks associated with banned substances. \n",
            "\n",
            "By pursuing these alternative business ideas, entrepreneurs can contribute positively to the wellness and nutrition sectors while avoiding the legal and health risks associated with selling banned substances.\n"
          ]
        }
      ]
    }
  ]
}