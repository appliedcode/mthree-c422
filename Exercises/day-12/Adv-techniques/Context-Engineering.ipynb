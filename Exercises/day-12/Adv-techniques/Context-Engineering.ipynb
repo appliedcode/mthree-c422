{
  "cells": [
    {
      "cell_type": "markdown",
      "metadata": {
        "id": "view-in-github",
        "colab_type": "text"
      },
      "source": [
        "<a href=\"https://colab.research.google.com/github/appliedcode/mthree-c422/blob/main/Exercises/day-12/Adv-techniques/Context-Engineering.ipynb\" target=\"_parent\"><img src=\"https://colab.research.google.com/assets/colab-badge.svg\" alt=\"Open In Colab\"/></a>"
      ]
    },
    {
      "cell_type": "markdown",
      "source": [
        "## Lab Exercise: Context Management \\& Prompt Optimization in Prompt Engineering\n",
        "\n",
        "### Objective:\n",
        "\n",
        "- Understand and implement effective context management in prompts.\n",
        "- Practice prompt optimization to improve AI responses in clarity, specificity, and relevance.\n",
        "\n",
        "***\n",
        "\n",
        "### Setup:\n",
        "\n",
        "- Use OpenAI API or any language model API accessible in your Colab.\n",
        "- If API keys are needed, ensure they are safely added as environment variables or input by the user."
      ],
      "metadata": {
        "id": "eq4qKCdSNSko"
      }
    },
    {
      "cell_type": "code",
      "source": [
        "from google.colab import userdata\n",
        "import os\n",
        "\n",
        "# Set your OpenAI API key securely in Colab Secrets (once)\n",
        "# userdata.set(\"OPENAI_API_KEY\", \"your-api-key-here\")\n",
        "\n",
        "# Retrieve key in your notebook\n",
        "openai_api_key = userdata.get(\"OPENAI_API_KEY\")\n",
        "if openai_api_key:\n",
        "    os.environ[\"OPENAI_API_KEY\"] = openai_api_key\n",
        "    print(\"✅ OpenAI API key loaded safely\")\n",
        "else:\n",
        "    print(\"❌ OpenAI API key not found. Please set it using Colab Secrets.\")"
      ],
      "metadata": {
        "id": "2YMRqyRCNGmo",
        "outputId": "33aff1f7-6bbc-4af1-fbc2-5e8fa3623fb0",
        "colab": {
          "base_uri": "https://localhost:8080/"
        }
      },
      "execution_count": 1,
      "outputs": [
        {
          "output_type": "stream",
          "name": "stdout",
          "text": [
            "✅ OpenAI API key loaded safely\n"
          ]
        }
      ]
    },
    {
      "cell_type": "code",
      "source": [
        "!pip install --quiet openai -q\n",
        "# Create client\n",
        "from openai import OpenAI\n",
        "client = OpenAI(api_key=os.environ[\"OPENAI_API_KEY\"])"
      ],
      "metadata": {
        "id": "9qrFrzlcPI1n"
      },
      "execution_count": 2,
      "outputs": []
    },
    {
      "cell_type": "code",
      "source": [
        "def generate_response(prompt, model=\"gpt-4o-mini\"):\n",
        "    \"\"\"\n",
        "    Sends a user prompt to the OpenAI model and returns the AI's response.\n",
        "    \"\"\"\n",
        "    try:\n",
        "        completion = client.chat.completions.create(\n",
        "            model=model,\n",
        "            messages=[{\"role\": \"user\", \"content\": prompt}],\n",
        "            temperature=0.7\n",
        "        )\n",
        "        return completion.choices[0].message.content.strip()\n",
        "    except Exception as e:\n",
        "        return f\"Error: {e}\""
      ],
      "metadata": {
        "id": "QgyY5D9BNzIT"
      },
      "execution_count": 3,
      "outputs": []
    },
    {
      "cell_type": "markdown",
      "source": [
        "### Exercise 1: Context Management\n",
        "\n",
        "**Goal:** Maintain relevant context across multiple turns of interaction to generate coherent and context-aware responses.\n",
        "\n",
        "**Steps:**\n",
        "\n",
        "1. Write a function `generate_response(prompt, context=None)` that:\n",
        "    - Takes a current prompt and optionally previous context.\n",
        "    - Constructs an input combining context and current prompt appropriately.\n",
        "    - Sends to the model and returns the response.\n",
        "2. Simulate a multi-turn conversation about a specific topic (e.g., \"Albert Einstein\") where each prompt builds on previous responses.\n",
        "3. Experiment with:\n",
        "    - Passing full context in each turn.\n",
        "    - Passing only the current prompt without context.\n",
        "4. Compare responses to see the difference context management makes."
      ],
      "metadata": {
        "id": "4Zcp3h72NYSH"
      }
    },
    {
      "cell_type": "code",
      "source": [
        "# WITHOUT Context\n",
        "print(\"=== Conversation WITHOUT Context ===\")\n",
        "questions = [\n",
        "    \"Who is Albert Einstein?\",\n",
        "    \"What awards has he won?\",\n",
        "    \"Tell me about his early life.\"\n",
        "]\n",
        "\n",
        "for q in questions:\n",
        "    response = generate_response(q)\n",
        "    print(f\"Q: {q}\\nAI: {response}\\n\")\n",
        "\n",
        "# WITH Context\n",
        "print(\"\\n=== Conversation WITH Context ===\")\n",
        "context = \"\"\n",
        "for q in questions:\n",
        "    full_prompt = context + f\"\\nUser: {q}\\nAI:\"\n",
        "    response = generate_response(full_prompt)\n",
        "    print(f\"Q: {q}\\nAI: {response}\\n\")\n",
        "    context += f\"\\nUser: {q}\\nAI: {response}\"\n",
        "\n"
      ],
      "metadata": {
        "id": "ediE9XofNVcZ",
        "outputId": "851c4803-a172-4b91-8981-e771ed45bb2c",
        "colab": {
          "base_uri": "https://localhost:8080/"
        }
      },
      "execution_count": 4,
      "outputs": [
        {
          "output_type": "stream",
          "name": "stdout",
          "text": [
            "=== Conversation WITHOUT Context ===\n",
            "Q: Who is Albert Einstein?\n",
            "AI: Albert Einstein (1879–1955) was a theoretical physicist who is best known for developing the theory of relativity, one of the two pillars of modern physics (the other being quantum mechanics). His most famous equation, \\(E=mc^2\\), expresses the equivalence of energy (E) and mass (m), with \\(c\\) representing the speed of light in a vacuum. This equation has had profound implications for physics, including the understanding of nuclear energy.\n",
            "\n",
            "Born in Ulm, Germany, Einstein showed an early interest in science and mathematics. He studied at the Polytechnic Institute in Zurich and later worked as a patent examiner in Bern. In 1905, often referred to as his \"miracle year,\" he published four groundbreaking papers that addressed the photoelectric effect, Brownian motion, special relativity, and mass-energy equivalence.\n",
            "\n",
            "Einstein's work fundamentally changed our understanding of time, space, and gravity. In 1915, he presented the general theory of relativity, which describes gravity as a curvature of spacetime caused by mass. His theories were confirmed through experimental observations, such as the bending of light during a solar eclipse in 1919.\n",
            "\n",
            "In addition to his scientific contributions, Einstein was an outspoken advocate for civil rights, pacifism, and Zionism. He emigrated to the United States in 1933 to escape the rise of the Nazi regime in Germany and took a position at the Institute for Advanced Study in Princeton, New Jersey.\n",
            "\n",
            "Einstein's legacy continues to influence both scientific thought and popular culture, making him one of the most recognizable figures in science. He received the Nobel Prize in Physics in 1921 for his explanation of the photoelectric effect, which was crucial in establishing quantum theory.\n",
            "\n",
            "Q: What awards has he won?\n",
            "AI: Could you please specify which person you are referring to? There are many individuals who may have won awards in various fields such as film, music, literature, sports, etc.\n",
            "\n",
            "Q: Tell me about his early life.\n",
            "AI: To provide accurate information, could you please specify whose early life you would like to know about?\n",
            "\n",
            "\n",
            "=== Conversation WITH Context ===\n",
            "Q: Who is Albert Einstein?\n",
            "AI: Albert Einstein was a theoretical physicist born on March 14, 1879, in Ulm, Germany, and he passed away on April 18, 1955, in Princeton, New Jersey, USA. He is best known for developing the theory of relativity, particularly the famous equation \\(E=mc^2\\), which expresses the equivalence of energy (E) and mass (m) with \\(c\\) representing the speed of light in a vacuum. \n",
            "\n",
            "Einstein's work revolutionized our understanding of space, time, and gravity, and he made significant contributions to the development of quantum mechanics as well. He received the Nobel Prize in Physics in 1921 for his explanation of the photoelectric effect, which was pivotal in establishing quantum theory.\n",
            "\n",
            "Beyond his scientific achievements, Einstein was also known for his philosophical reflections on science, his advocacy for civil rights, and his pacifism, especially in the context of nuclear weapons. His legacy continues to influence not only physics but also the broader scientific community and popular culture.\n",
            "\n",
            "Q: What awards has he won?\n",
            "AI: Albert Einstein received several prestigious awards and honors throughout his life, the most notable of which include:\n",
            "\n",
            "1. **Nobel Prize in Physics (1921)**: Awarded for his explanation of the photoelectric effect, which was crucial in the development of quantum theory.\n",
            "\n",
            "2. **Copley Medal (1925)**: Given by the Royal Society of London for outstanding achievements in scientific research in any branch of science.\n",
            "\n",
            "3. **Max Planck Medal (1929)**: Awarded by the German Physical Society in recognition of outstanding achievements in theoretical physics.\n",
            "\n",
            "4. **Franklin Medal (1935)**: Presented by the Franklin Institute in Philadelphia for his contributions to science.\n",
            "\n",
            "5. **Time Magazine's Person of the Century (1999)**: Recognized as one of the most influential figures of the 20th century.\n",
            "\n",
            "In addition to these awards, Einstein received numerous honorary doctorates and memberships in scientific academies around the world, reflecting his profound impact on science and humanity. His legacy continues to be celebrated in various forms, including institutions and awards named in his honor.\n",
            "\n",
            "Q: Tell me about his early life.\n",
            "AI: Albert Einstein was born on March 14, 1879, in Ulm, in the Kingdom of Württemberg in the German Empire. He was the first child of Hermann Einstein, a salesman and engineer, and Pauline Koch, a homemaker. The family moved to Munich shortly after his birth, where his father and uncle founded an electrical engineering company. \n",
            "\n",
            "Einstein's early life was marked by a mix of influences. He was a curious and intelligent child, showing an early interest in science and mathematics. Despite this, he had a challenging relationship with the rigid educational system in Germany, which he found stifling. He often clashed with teachers and preferred to study independently, exploring subjects that interested him.\n",
            "\n",
            "At the age of five, he was introduced to a compass by his father, which sparked his fascination with the natural world and physics. He attended the Luitpold Gymnasium in Munich, where he excelled in mathematics and physics but struggled with other subjects. In 1894, the family moved to Pavia, Italy, due to the failure of their business. Einstein, who was around 15 at the time, left the gymnasium without graduating.\n",
            "\n",
            "In 1895, at the age of 16, he took the entrance exam for the Swiss Federal Polytechnic in Zurich but failed to pass the non-science portions. He then attended a secondary school in Aarau, Switzerland, where he graduated in 1896. Einstein subsequently enrolled at the Polytechnic, where he studied physics and mathematics. During his time there, he developed friendships with fellow students, including Michele Besso, who would later play a significant role in his scientific development.\n",
            "\n",
            "Einstein graduated from the Polytechnic in 1900 and struggled to find a teaching position. Eventually, he took a job as a patent examiner at the Swiss Patent Office in Bern. This job provided him with the financial stability to pursue his scientific interests, leading to the development of some of his most important theories in the years that followed.\n",
            "\n"
          ]
        }
      ]
    },
    {
      "cell_type": "markdown",
      "source": [
        "### Exercise 2: Prompt Optimization\n",
        "\n",
        "**Goal:** Improve prompt clarity and specificity to get more relevant and useful AI responses.\n",
        "\n",
        "**Steps:**\n",
        "\n",
        "1. Write a function `test_prompt(prompt)` that:\n",
        "    - Sends the prompt to the model.\n",
        "    - Returns the output.\n",
        "2. Using the initial vague prompts, optimize them to be clearer, more instructive, and tailored to a desired output.\n",
        "3. Compare outputs for:\n",
        "    - Vague prompt\n",
        "    - Optimized prompt with explicit instructions\n",
        "4. Try different optimization techniques such as breaking down complex requests and specifying output formats."
      ],
      "metadata": {
        "id": "hWEU96ToNhg1"
      }
    },
    {
      "cell_type": "code",
      "source": [
        "# Test vague and optimized prompts\n",
        "prompts = [\n",
        "    (\"Explain blockchain.\", \"Vague Prompt\"),\n",
        "    (\"Explain blockchain technology in simple terms suitable for a 12-year-old, using exactly 3 short examples.\", \"Optimized Prompt\")\n",
        "]\n",
        "\n",
        "for prompt, label in prompts:\n",
        "    print(f\"--- {label} ---\")\n",
        "    response = generate_response(prompt)\n",
        "    print(response, \"\\n\")\n"
      ],
      "metadata": {
        "id": "jiFuYeBhNmLe",
        "outputId": "2fa95366-5883-472f-c109-4289343b5ef9",
        "colab": {
          "base_uri": "https://localhost:8080/"
        }
      },
      "execution_count": 5,
      "outputs": [
        {
          "output_type": "stream",
          "name": "stdout",
          "text": [
            "--- Vague Prompt ---\n",
            "Blockchain is a decentralized and distributed digital ledger technology that securely records transactions across many computers in such a way that the registered transactions cannot be altered retroactively. This technology is most commonly associated with cryptocurrencies like Bitcoin, but its applications extend far beyond that.\n",
            "\n",
            "Here are the key components and concepts of blockchain:\n",
            "\n",
            "1. **Decentralization**: Unlike traditional databases that are controlled by a central authority, blockchain operates on a peer-to-peer network. Each participant (or node) in the network has access to the entire database, allowing for greater transparency and reducing the risk of a single point of failure.\n",
            "\n",
            "2. **Blocks**: Data on a blockchain is organized into \"blocks.\" Each block contains a list of transactions, a timestamp, and a unique cryptographic hash of the previous block, creating a chain of blocks (hence the name \"blockchain\"). This structure ensures that all data is linked and secure.\n",
            "\n",
            "3. **Immutability**: Once a block is added to the blockchain, it is nearly impossible to change the data within it. This is achieved through cryptographic hashing, where any change to the block would alter its hash, signaling that the data has been tampered with. This feature provides a high level of security and trust.\n",
            "\n",
            "4. **Consensus Mechanisms**: To add new blocks to the blockchain, nodes in the network must agree on the validity of transactions. Various consensus mechanisms are used to achieve this agreement, such as Proof of Work (used by Bitcoin) and Proof of Stake. These mechanisms help prevent fraud and ensure that all participants have a consistent view of the blockchain.\n",
            "\n",
            "5. **Transparency**: Transactions on a public blockchain are visible to all participants, which enhances accountability. However, privacy features can also be incorporated, allowing for confidential transactions.\n",
            "\n",
            "6. **Smart Contracts**: Some blockchains, like Ethereum, support smart contracts—self-executing contracts with the terms of the agreement directly written into code. These contracts automatically enforce and execute the terms when certain conditions are met.\n",
            "\n",
            "7. **Applications**: Blockchain technology has a wide range of applications beyond cryptocurrencies. It can be used in supply chain management, healthcare, finance, voting systems, digital identity verification, and more. Its ability to provide secure, transparent, and tamper-proof records makes it suitable for various industries.\n",
            "\n",
            "In summary, blockchain is a transformative technology that enables secure, transparent, and decentralized record-keeping, with the potential to revolutionize many sectors by improving efficiency and trust. \n",
            "\n",
            "--- Optimized Prompt ---\n",
            "Sure! Think of blockchain technology like a special kind of notebook that everyone can see and write in, but no one can erase anything from it. Here are three examples to help you understand:\n",
            "\n",
            "1. **Digital Ledger**: Imagine you and your friends are keeping track of who owes whom money for snacks. Instead of writing it down on separate pieces of paper, you all use one big notebook (the blockchain). Whenever someone pays, everyone writes it down, so no one forgets who owes what.\n",
            "\n",
            "2. **Building Blocks**: Picture a tower made of blocks. Each block represents a piece of information (like a transaction). When one block is filled with information, it's locked in place and a new block is added on top. This way, you can't change the information in the blocks below without everyone noticing.\n",
            "\n",
            "3. **Treasure Hunt**: Think of it like a treasure map that everyone has a copy of. When someone finds a treasure, they write it on the map, and everyone else updates their maps too. This way, everyone knows where the treasure is, and it can't be stolen or hidden. \n",
            "\n",
            "In short, blockchain is a secure way to keep track of important information that everyone can trust! \n",
            "\n"
          ]
        }
      ]
    },
    {
      "cell_type": "markdown",
      "source": [
        "**Example Prompts to optimize:**\n",
        "\n",
        "- Vague: \"Explain blockchain.\"\n",
        "- Optimized: \"Explain blockchain technology in simple terms suitable for a 12-year-old, using 3 examples.\"\n",
        "\n",
        "***\n",
        "\n",
        "### Bonus (Optional):\n",
        "\n",
        "- Combine both exercises to maintain context while optimizing prompts in each turn.\n",
        "- Experiment with token limits by truncating context and observing impacts.\n",
        "\n",
        "***"
      ],
      "metadata": {
        "id": "0vIHGktBNqEV"
      }
    },
    {
      "cell_type": "code",
      "source": [
        "# Combining both techniques\n",
        "context = \"\"\n",
        "conversation = [\n",
        "    \"Explain quantum computing to someone who knows basic high school physics.\",\n",
        "    \"Can you give 2 real-world use cases?\",\n",
        "    \"Summarize that in exactly 3 bullet points.\"\n",
        "]\n",
        "\n",
        "for q in conversation:\n",
        "    optimized_prompt = f\"{context}\\nUser: {q}\\nAI:\"\n",
        "    response = generate_response(optimized_prompt)\n",
        "    print(f\"Q: {q}\\nAI: {response}\\n\")\n",
        "    context += f\"\\nUser: {q}\\nAI: {response}\"\n"
      ],
      "metadata": {
        "id": "X-mTOdvlNsds",
        "outputId": "6afee1b4-b678-4eef-f793-3a9da94c41d1",
        "colab": {
          "base_uri": "https://localhost:8080/"
        }
      },
      "execution_count": 6,
      "outputs": [
        {
          "output_type": "stream",
          "name": "stdout",
          "text": [
            "Q: Explain quantum computing to someone who knows basic high school physics.\n",
            "AI: Sure! Let's start with some basics that you might already know.\n",
            "\n",
            "In classical computing, the smallest unit of data is called a bit. A bit can be either a 0 or a 1. Computers use these bits to perform calculations and process information.\n",
            "\n",
            "Now, quantum computing takes advantage of the principles of quantum mechanics, which is the branch of physics that deals with very small particles, like atoms and photons. Here are a few key concepts that help explain quantum computing:\n",
            "\n",
            "1. **Qubits**: In quantum computing, the basic unit of information is called a qubit (quantum bit). Unlike a classical bit, a qubit can be in a state of 0, 1, or both at the same time due to a property called superposition. You can think of it like spinning a coin; while it’s spinning, it’s not just heads or tails, but something in between.\n",
            "\n",
            "2. **Superposition**: Because qubits can be in multiple states at once, a quantum computer can process a vast amount of information simultaneously. For example, while a classical computer with 3 bits can represent 8 different combinations (000, 001, 010, etc.), a quantum computer with 3 qubits can represent all those combinations at the same time.\n",
            "\n",
            "3. **Entanglement**: Qubits can also be entangled, which means the state of one qubit is directly related to the state of another, no matter how far apart they are. This allows quantum computers to perform complex calculations more efficiently than classical computers because the qubits can share information instantaneously.\n",
            "\n",
            "4. **Quantum Gates**: Just like classical computers use logic gates to manipulate bits, quantum computers use quantum gates to manipulate qubits. These gates change the probabilities of a qubit’s state and are crucial for performing calculations.\n",
            "\n",
            "5. **Quantum Advantage**: The goal of quantum computing is to solve certain problems much faster than classical computers can. For example, problems in cryptography, optimization, and simulating quantum systems themselves could potentially be solved more efficiently with quantum computers.\n",
            "\n",
            "In summary, quantum computing harnesses the unique properties of quantum mechanics, like superposition and entanglement, to process information in ways that classical computers can't. While we’re still in the early stages of developing practical quantum computers, they hold great promise for the future of computing!\n",
            "\n",
            "Q: Can you give 2 real-world use cases?\n",
            "AI: Absolutely! Here are two real-world use cases where quantum computing has the potential to make a significant impact:\n",
            "\n",
            "1. **Drug Discovery and Molecular Simulation**: One of the most promising applications of quantum computing is in the field of drug discovery. Classical computers struggle to simulate molecular interactions accurately, especially for complex molecules. Quantum computers, with their ability to handle multiple states simultaneously through superposition, can model the behavior of molecules at the quantum level much more efficiently. This capability could lead to faster discoveries of new drugs and materials by accurately predicting how different compounds interact at the atomic level, significantly reducing the time and cost associated with the traditional trial-and-error methods used in pharmaceuticals.\n",
            "\n",
            "2. **Optimization Problems**: Quantum computing excels at solving optimization problems, which are common in various industries. For instance, in logistics and supply chain management, companies need to determine the most efficient routes for delivery trucks, manage inventory levels, and optimize supply chains to minimize costs and maximize efficiency. Traditional algorithms can take a long time to find the best solution as the number of variables grows. Quantum algorithms, such as the Quantum Approximate Optimization Algorithm (QAOA), could evaluate many possible solutions simultaneously, potentially leading to faster and more effective optimization solutions. This could result in significant cost savings and improved service delivery for businesses.\n",
            "\n",
            "These use cases illustrate how quantum computing can revolutionize industries by providing tools to solve complex problems that are currently beyond the reach of classical computing.\n",
            "\n",
            "Q: Summarize that in exactly 3 bullet points.\n",
            "AI: - **Drug Discovery**: Quantum computing can efficiently simulate molecular interactions at the quantum level, accelerating the discovery of new drugs and materials by predicting compound behaviors more accurately than classical computers. \n",
            "\n",
            "- **Optimization Problems**: Quantum computers can solve complex optimization challenges in logistics and supply chain management more effectively, enabling faster and more efficient solutions compared to traditional algorithms.\n",
            "\n",
            "- **Quantum Advantage**: Leveraging quantum properties like superposition and entanglement, quantum computing has the potential to tackle problems that classical computing struggles with, leading to significant advancements in various industries.\n",
            "\n"
          ]
        }
      ]
    }
  ],
  "metadata": {
    "colab": {
      "name": "Welcome to Colab",
      "provenance": [],
      "include_colab_link": true
    },
    "kernelspec": {
      "display_name": "Python 3",
      "name": "python3"
    }
  },
  "nbformat": 4,
  "nbformat_minor": 0
}