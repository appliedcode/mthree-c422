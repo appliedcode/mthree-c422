{
  "cells": [
    {
      "cell_type": "markdown",
      "source": [
        "## 📓 **Colab Lab: Practicing the 5 Principles of Prompt Engineering with GPT‑4o-mini**"
      ],
      "metadata": {
        "id": "hFnkDgKDTUgk"
      }
    },
    {
      "cell_type": "code",
      "source": [
        "# Setup\n",
        "# Install OpenAI SDK\n",
        "!pip install openai -q\n",
        "from google.colab import userdata\n",
        "import os\n",
        "\n",
        "openai_api_key = userdata.get(\"OPENAI_API_KEY\")\n",
        "if openai_api_key:\n",
        "    os.environ[\"OPENAI_API_KEY\"] = openai_api_key\n",
        "    print(\"✅ OpenAI API key loaded safely\")\n",
        "else:\n",
        "    print(\"❌ OpenAI API key not found. Please set it using Colab Secrets.\")\n"
      ],
      "metadata": {
        "id": "kRcM4QN7qGpf",
        "outputId": "6ad689c5-3b33-4728-9193-715536468b78",
        "colab": {
          "base_uri": "https://localhost:8080/"
        }
      },
      "execution_count": 10,
      "outputs": [
        {
          "output_type": "stream",
          "name": "stdout",
          "text": [
            "✅ OpenAI API key loaded safely\n"
          ]
        }
      ]
    },
    {
      "cell_type": "code",
      "source": [
        "from openai import OpenAI\n",
        "client = OpenAI(api_key=os.environ[\"OPENAI_API_KEY\"])  # Replace with your API key\n",
        "\n",
        "def ask_gpt(prompt, temp=0.7, max_tokens=500):\n",
        "    \"\"\"Send a prompt to GPT-4o-mini and return the output\"\"\"\n",
        "    response = client.chat.completions.create(\n",
        "        model=\"gpt-4o-mini\",\n",
        "        messages=[{\"role\": \"user\", \"content\": prompt}],\n",
        "        temperature=temp,\n",
        "        max_tokens=max_tokens\n",
        "    )\n",
        "    return response.choices[0].message.content"
      ],
      "metadata": {
        "id": "rQzrL2tQDdsn"
      },
      "execution_count": 11,
      "outputs": []
    },
    {
      "cell_type": "markdown",
      "source": [
        "## **Principle 1 — Give Clear Direction**\n",
        "\n",
        "**Goal:** Be specific about *what*, *for whom*, and *how* the task should be done."
      ],
      "metadata": {
        "id": "zerNRrRGqOOF"
      }
    },
    {
      "cell_type": "code",
      "source": [
        "prompt = \"Write a 50-word friendly welcome message for first-year university students in an encouraging tone.\"\n",
        "print(ask_gpt(prompt))"
      ],
      "metadata": {
        "id": "wh8Pd8sSqLIW",
        "outputId": "48b65870-017a-4d9b-9062-dafba8a7f477",
        "colab": {
          "base_uri": "https://localhost:8080/"
        }
      },
      "execution_count": 12,
      "outputs": [
        {
          "output_type": "stream",
          "name": "stdout",
          "text": [
            "Welcome, first-year students! We’re thrilled to have you join our vibrant community. Embrace this exciting journey filled with new experiences, friendships, and opportunities for growth. Remember, every challenge is a chance to learn. Dive in, explore, and make the most of your time here. We’re here to support you every step!\n"
          ]
        }
      ]
    },
    {
      "cell_type": "markdown",
      "source": [
        "**🎯 Student Exercise:**\n",
        "\n",
        "1. Write a vague prompt, e.g., `\"Write about climate change\"`.\n",
        "2. Run it and observe the output.\n",
        "3. Now rewrite it with **clear direction** for audience, style, and purpose.\n",
        "4. Compare outputs."
      ],
      "metadata": {
        "id": "qILNxxPLqQed"
      }
    },
    {
      "cell_type": "code",
      "source": [
        "# TODO: Your prompt here\n",
        "vague_prompt = \"Write about climate change\"\n",
        "clear_prompt = \"Explain climate change causes to high school students in a simple, positive tone, in 3 short sentences.\"\n",
        "\n",
        "print(\"Vague Output:\\n\", ask_gpt(vague_prompt))\n",
        "print(\"\\nClear Output:\\n\", ask_gpt(clear_prompt))"
      ],
      "metadata": {
        "id": "mzUnenajqUQv",
        "outputId": "c48ee396-4e73-40be-be07-16e2cfa55489",
        "colab": {
          "base_uri": "https://localhost:8080/"
        }
      },
      "execution_count": 13,
      "outputs": [
        {
          "output_type": "stream",
          "name": "stdout",
          "text": [
            "Vague Output:\n",
            " Climate change refers to long-term alterations in temperature, precipitation, wind patterns, and other elements of the Earth's climate system. It is primarily driven by human activities, particularly the burning of fossil fuels, deforestation, and industrial processes, which release greenhouse gases (GHGs) such as carbon dioxide (CO2), methane (CH4), and nitrous oxide (N2O) into the atmosphere. These gases trap heat from the sun, leading to a gradual increase in global temperatures—a phenomenon commonly known as global warming.\n",
            "\n",
            "### Key Aspects of Climate Change:\n",
            "\n",
            "1. **Rising Temperatures**: Global average temperatures have increased significantly since the late 19th century. The last few decades have been the warmest in recorded history, with significant impacts on ecosystems and human societies.\n",
            "\n",
            "2. **Melting Ice and Rising Sea Levels**: The warming climate is causing polar ice sheets and glaciers to melt, contributing to rising sea levels. This poses a threat to coastal communities and ecosystems, leading to increased flooding and erosion.\n",
            "\n",
            "3. **Extreme Weather Events**: Climate change is linked to an increase in the frequency and intensity of extreme weather events, including hurricanes, droughts, heatwaves, and heavy rainfall. These events can have devastating effects on infrastructure, agriculture, and human health.\n",
            "\n",
            "4. **Ecosystem Disruption**: Changes in climate can alter habitat ranges for many species, leading to shifts in biodiversity. Some species may face extinction if they cannot adapt to the changing conditions or migrate to more suitable environments.\n",
            "\n",
            "5. **Impact on Agriculture**: Climate change affects agricultural productivity through altered rainfall patterns, increased temperatures, and the spread of pests and diseases. This can lead to food insecurity, especially in regions that are already vulnerable.\n",
            "\n",
            "6. **Human Health Risks**: The effects of climate change can exacerbate health issues, including respiratory problems from air pollution, heat-related illnesses, and the spread of infectious diseases. Vulnerable populations, such as the elderly and those with preexisting health conditions, are particularly at risk.\n",
            "\n",
            "### Mitigation and Adaptation:\n",
            "\n",
            "Addressing climate change requires both mitigation—reducing the emissions of GHGs—and adaptation—making adjustments to social, economic, and environmental practices to minimize the impacts of climate change.\n",
            "\n",
            "- **Mitigation Strategies**: These include transitioning to renewable energy sources (such as solar, wind, and hydro), improving energy efficiency, reforestation, investing in carbon capture and storage technologies, and promoting sustainable agriculture.\n",
            "\n",
            "- **Adaptation\n",
            "\n",
            "Clear Output:\n",
            " Climate change is mainly caused by the increase of greenhouse gases, like carbon dioxide, in our atmosphere from activities like burning fossil fuels and deforestation. These gases trap heat from the sun, leading to a warmer planet and changing weather patterns. The good news is that we can all help by using renewable energy, reducing waste, and protecting our forests, making a big difference together!\n"
          ]
        }
      ]
    },
    {
      "cell_type": "markdown",
      "source": [
        "## **Principle 2 — Specify Format**\n",
        "\n",
        "**Goal:** Tell the AI exactly how to structure its response."
      ],
      "metadata": {
        "id": "5iqa31WSqcBA"
      }
    },
    {
      "cell_type": "code",
      "source": [
        "prompt = \"\"\"\n",
        "List 3 benefits of learning Python.\n",
        "Format the output as a markdown table with columns: 'Benefit' and 'Description'.\n",
        "\"\"\"\n",
        "print(ask_gpt(prompt))"
      ],
      "metadata": {
        "id": "DWtx2g3jqd1-",
        "outputId": "23683a96-ff70-4862-cbbb-d73dfbaa4bbc",
        "colab": {
          "base_uri": "https://localhost:8080/"
        }
      },
      "execution_count": 14,
      "outputs": [
        {
          "output_type": "stream",
          "name": "stdout",
          "text": [
            "Here's a markdown table listing three benefits of learning Python:\n",
            "\n",
            "| Benefit                     | Description                                                                                     |\n",
            "|-----------------------------|-------------------------------------------------------------------------------------------------|\n",
            "| Easy to Learn               | Python has a simple and straightforward syntax, making it accessible for beginners and reducing the learning curve. |\n",
            "| Versatile and Flexible      | Python can be used for various applications, including web development, data analysis, artificial intelligence, scientific computing, and more. |\n",
            "| Strong Community Support     | Python boasts a large and active community, providing a wealth of resources, libraries, and frameworks, as well as support through forums and documentation. |\n"
          ]
        }
      ]
    },
    {
      "cell_type": "markdown",
      "source": [
        "**🎯 Student Exercise:**\n",
        "\n",
        "- Ask GPT to **compare electric cars and petrol cars** with format instructions:\n",
        "    - First: Paragraph form\n",
        "    - Second: Markdown table form\n",
        "- Compare clarity and usefulness."
      ],
      "metadata": {
        "id": "edBRTfupqhub"
      }
    },
    {
      "cell_type": "code",
      "source": [
        "para_prompt = \"Compare electric cars and petrol cars.\"\n",
        "table_prompt = \"Compare electric cars and petrol cars as a markdown table with rows for cost, performance, and environmental impact.\"\n",
        "\n",
        "print(\"Paragraph Output:\\n\", ask_gpt(para_prompt))\n",
        "print(\"\\nTable Output:\\n\", ask_gpt(table_prompt))"
      ],
      "metadata": {
        "id": "Pg1mp1Wgql5v",
        "outputId": "ba417062-4ce4-492d-ac4a-36c0f00a785f",
        "colab": {
          "base_uri": "https://localhost:8080/"
        }
      },
      "execution_count": 15,
      "outputs": [
        {
          "output_type": "stream",
          "name": "stdout",
          "text": [
            "Paragraph Output:\n",
            " Electric cars (EVs) and petrol cars (internal combustion engine vehicles) have distinct characteristics, advantages, and disadvantages. Here’s a comparison based on several key factors:\n",
            "\n",
            "### 1. **Environmental Impact**\n",
            "- **Electric Cars**: Generally produce zero tailpipe emissions, which significantly reduces air pollution in urban areas. However, the environmental impact can vary depending on how the electricity is generated (renewable vs. fossil fuels).\n",
            "- **Petrol Cars**: Emit greenhouse gases and other pollutants during operation, contributing to air quality issues and climate change.\n",
            "\n",
            "### 2. **Energy Efficiency**\n",
            "- **Electric Cars**: More efficient in converting stored energy into movement. EVs can convert over 60% of the electrical energy from the grid to power at the wheels.\n",
            "- **Petrol Cars**: Typically convert only about 20-30% of the energy stored in petrol into movement, with much of the energy lost as heat.\n",
            "\n",
            "### 3. **Operating Costs**\n",
            "- **Electric Cars**: Generally have lower operating costs. Electricity costs are often cheaper than petrol on a per-mile basis, and EVs have fewer moving parts, leading to lower maintenance costs.\n",
            "- **Petrol Cars**: Fuel costs can be higher, and maintenance may involve more frequent oil changes, exhaust system repairs, and other mechanical issues.\n",
            "\n",
            "### 4. **Range and Refueling**\n",
            "- **Electric Cars**: Range can be a concern, with most EVs currently offering between 150 to 300 miles on a full charge. Charging infrastructure is expanding, but charging can take longer than refueling a petrol car.\n",
            "- **Petrol Cars**: Typically have a longer range on a full tank and can be refueled quickly at gas stations, making them more convenient for long-distance travel.\n",
            "\n",
            "### 5. **Performance**\n",
            "- **Electric Cars**: Provide instant torque, leading to quick acceleration. Many EVs are designed for a smooth and quiet driving experience.\n",
            "- **Petrol Cars**: Performance can vary widely, but they often provide a familiar driving experience with a range of engine sounds and characteristics that some drivers prefer.\n",
            "\n",
            "### 6. **Initial Cost**\n",
            "- **Electric Cars**: Generally have a higher upfront cost compared to petrol cars, although prices are decreasing as technology advances. Incentives and tax credits can offset some of these costs in many regions.\n",
            "- **Petrol Cars**: Usually have a lower initial purchase price, making them more accessible for many consumers.\n",
            "\n",
            "###\n",
            "\n",
            "Table Output:\n",
            " Here's a comparison of electric cars and petrol cars in a markdown table format:\n",
            "\n",
            "| Feature              | Electric Cars                     | Petrol Cars                        |\n",
            "|----------------------|-----------------------------------|------------------------------------|\n",
            "| **Cost**             | Generally higher upfront costs due to battery technology, but lower long-term operating costs due to less maintenance and fuel savings. | Typically lower upfront costs, but higher long-term expenses due to fuel prices and more frequent maintenance. |\n",
            "| **Performance**      | Instant torque provides quick acceleration; generally quieter; range can be limited, but technology is improving. | Good acceleration and performance; range is typically higher than most electric cars; engine noise can be a factor. |\n",
            "| **Environmental Impact** | Lower emissions during operation; dependent on the energy source for electricity; battery production has environmental concerns. | Higher emissions from combustion; contributes to air pollution and greenhouse gas emissions; fuel extraction and refining also have environmental impacts. |\n",
            "\n",
            "This table provides a straightforward comparison of the key factors related to electric and petrol cars.\n"
          ]
        }
      ]
    },
    {
      "cell_type": "markdown",
      "source": [
        "## **Principle 3 — Provide Examples (Few-Shot Prompting)**\n",
        "\n",
        "**Goal:** Show the AI what kind of response you expect.\n"
      ],
      "metadata": {
        "id": "CESuJ2_Fqn4W"
      }
    },
    {
      "cell_type": "code",
      "source": [
        "prompt = \"\"\"\n",
        "Classify each review as Positive or Negative.\n",
        "\n",
        "Review: \"Loved the coffee, will come again.\"\n",
        "Sentiment: Positive\n",
        "\n",
        "Review: \"Service was slow and unhelpful.\"\n",
        "Sentiment: Negative\n",
        "\n",
        "Review: \"The dessert was delicious and beautifully presented.\"\n",
        "Sentiment:\n",
        "\"\"\"\n",
        "print(ask_gpt(prompt))"
      ],
      "metadata": {
        "id": "vHi9WqxUqrDO",
        "outputId": "59fcd894-04af-4645-9bfa-0934b5fe3718",
        "colab": {
          "base_uri": "https://localhost:8080/"
        }
      },
      "execution_count": 16,
      "outputs": [
        {
          "output_type": "stream",
          "name": "stdout",
          "text": [
            "Positive\n"
          ]
        }
      ]
    },
    {
      "cell_type": "markdown",
      "source": [
        "**🎯 Student Exercise:**\n",
        "\n",
        "- Create a **few-shot prompt** to classify movie reviews as \"Positive\", \"Negative\", \"Neutral\". Provide at least 2 examples for each label, then add a new review for the model to classify.\n"
      ],
      "metadata": {
        "id": "vK24wwfwqvaB"
      }
    },
    {
      "cell_type": "code",
      "source": [
        "few_shot_prompt = \"\"\"\n",
        "Classify each movie review as Positive, Negative, or Neutral.\n",
        "\n",
        "Review: \"Amazing visuals and a heartwarming plot.\"\n",
        "Sentiment: Positive\n",
        "\n",
        "Review: \"Predictable storyline but decent acting.\"\n",
        "Sentiment: Neutral\n",
        "\n",
        "Review: \"I walked out halfway, it was terrible.\"\n",
        "Sentiment: Negative\n",
        "\n",
        "Review: \"The music was lovely but the pacing was too slow.\"\n",
        "Sentiment:\n",
        "\"\"\"\n",
        "\n",
        "print(ask_gpt(few_shot_prompt))"
      ],
      "metadata": {
        "id": "LwWI62r2qx2C",
        "colab": {
          "base_uri": "https://localhost:8080/"
        },
        "outputId": "31dff060-3847-41df-9659-a2c00c046c2a"
      },
      "execution_count": 17,
      "outputs": [
        {
          "output_type": "stream",
          "name": "stdout",
          "text": [
            "Neutral\n"
          ]
        }
      ]
    },
    {
      "cell_type": "markdown",
      "source": [
        "## **Principle 4 — Evaluate Quality**\n",
        "\n",
        "**Goal:** Review the AI output and refine the prompt to improve quality.\n"
      ],
      "metadata": {
        "id": "KLDxsGzpq2qX"
      }
    },
    {
      "cell_type": "markdown",
      "source": [
        "**🎯 Student Task Flow:**\n",
        "\n",
        "1. Start with a prompt: `\"Summarize this article about AI ethics.\"`\n",
        "2. Note missing details.\n",
        "3. Add constraints: *\"In 3 bullet points, mention challenges, risks, and solutions.\"*\n",
        "4. Compare before vs after."
      ],
      "metadata": {
        "id": "b_1mUbOtEE-_"
      }
    },
    {
      "cell_type": "code",
      "source": [
        "article = \"\"\"Artificial intelligence is transforming industries but raises ethical concerns such as bias in algorithms, job automation, and data privacy. Several companies and governments are proposing transparency laws and AI ethics training to address these challenges.\"\"\"\n",
        "# Initial vague prompt\n",
        "vague_sum = ask_gpt(f\"Summarize this article: {article}\")\n",
        "\n",
        "# Improved prompt\n",
        "refined_sum = ask_gpt(f\"Summarize this article in 3 bullet points covering (1) main challenges, (2) risks, (3) solutions: {article}\")\n",
        "\n",
        "print(\"Original Summary:\\n\", vague_sum)\n",
        "print(\"\\nRefined Summary:\\n\", refined_sum)"
      ],
      "metadata": {
        "id": "U0lP4zKGq9y-",
        "outputId": "00605f13-177a-4846-8142-07437ac37318",
        "colab": {
          "base_uri": "https://localhost:8080/"
        }
      },
      "execution_count": 18,
      "outputs": [
        {
          "output_type": "stream",
          "name": "stdout",
          "text": [
            "Original Summary:\n",
            " The article discusses the transformative impact of artificial intelligence across various industries, highlighting ethical issues such as algorithmic bias, job automation, and data privacy concerns. In response to these challenges, numerous companies and governments are advocating for transparency laws and implementing AI ethics training to ensure responsible use of AI technology.\n",
            "\n",
            "Refined Summary:\n",
            " - **Main Challenges**: The rise of artificial intelligence poses significant ethical concerns, including algorithmic bias, the potential for job automation, and issues surrounding data privacy. \n",
            "\n",
            "- **Risks**: These challenges lead to risks such as unfair treatment of individuals due to biased algorithms, job displacement for workers, and breaches of personal data privacy.\n",
            "\n",
            "- **Solutions**: To mitigate these issues, companies and governments are advocating for transparency laws and implementing AI ethics training to promote responsible AI development and usage.\n"
          ]
        }
      ]
    },
    {
      "cell_type": "markdown",
      "source": [
        "## **Principle 5 — Divide Labor (Break Down Complex Tasks)**\n",
        "\n",
        "**Goal:** Break a big request into smaller steps.\n",
        "\n",
        "**Example:**\n",
        "Instead of:\n",
        "> \"Write a travel guide for Rome.\"\n",
        "\n",
        "Do:\n",
        "\n",
        "1. List top attractions.\n",
        "2. Suggest a 3-day itinerary.\n",
        "3. Give restaurant recommendations.\n",
        "\n",
        "***\n",
        "\n",
        "**🎯 Student Exercise:**\n",
        "\n",
        "- Use **three separate prompts** to create parts of a digital marketing plan:\n",
        "\n",
        "1. Audience analysis for a fitness app.\n",
        "2. Social media strategy.\n",
        "3. 1-month content calendar.\n"
      ],
      "metadata": {
        "id": "NTYJwroRrDa9"
      }
    },
    {
      "cell_type": "code",
      "source": [
        "# Step 1\n",
        "audience_analysis = ask_gpt(\"Describe the target audience for a fitness app in 3 bullet points.\")\n",
        "# Step 2\n",
        "social_media_strategy = ask_gpt(\"Create a social media strategy for the above audience in 5 bullet points.\")\n",
        "# Step 3\n",
        "content_calendar = ask_gpt(\"Propose a 1-month Instagram content calendar for the above strategy, in a table with date, post idea, and caption.\")\n",
        "\n",
        "print(\"Audience Analysis:\\n\", audience_analysis)\n",
        "print(\"\\nSocial Media Strategy:\\n\", social_media_strategy)\n",
        "print(\"\\nContent Calendar:\\n\", content_calendar)"
      ],
      "metadata": {
        "id": "T79FVPyprDI0",
        "outputId": "2f004423-720a-4801-a78b-aeb656d405be",
        "colab": {
          "base_uri": "https://localhost:8080/"
        }
      },
      "execution_count": 19,
      "outputs": [
        {
          "output_type": "stream",
          "name": "stdout",
          "text": [
            "Audience Analysis:\n",
            " - **Health-Conscious Individuals**: Users who prioritize their physical health and well-being, including those looking to lose weight, build muscle, or improve overall fitness levels.\n",
            "\n",
            "- **Tech-Savvy Millennials and Gen Z**: Younger demographics who are comfortable using mobile apps and technology to track their fitness progress, access workout routines, and connect with others in the fitness community.\n",
            "\n",
            "- **Busy Professionals and Parents**: Individuals seeking convenient, flexible workout solutions that can easily fit into their hectic schedules, allowing them to manage fitness alongside work and family responsibilities.\n",
            "\n",
            "Social Media Strategy:\n",
            " To create a social media strategy tailored to your audience, consider the following five bullet points:\n",
            "\n",
            "1. **Know Your Audience**: Conduct thorough research to understand the demographics, preferences, and behaviors of your target audience. Use surveys, analytics, and social listening tools to gather insights that inform your content and engagement strategies.\n",
            "\n",
            "2. **Develop Engaging Content**: Create a mix of content types that resonate with your audience, including videos, infographics, blog posts, and user-generated content. Focus on storytelling, addressing pain points, and showcasing user experiences to foster a deeper connection.\n",
            "\n",
            "3. **Choose the Right Platforms**: Identify the social media platforms where your audience is most active. Tailor your content and engagement approach to fit the unique characteristics and best practices of each platform, whether it's Instagram, TikTok, LinkedIn, or others.\n",
            "\n",
            "4. **Consistent Posting Schedule**: Establish a regular posting schedule to keep your audience engaged. Use analytics to determine the best times to post and leverage content calendars to plan and organize your content in advance.\n",
            "\n",
            "5. **Engage and Build Community**: Actively engage with your audience by responding to comments, messages, and mentions. Host live Q&A sessions, webinars, or contests to foster community and encourage interaction. Building relationships will enhance brand loyalty and word-of-mouth referrals.\n",
            "\n",
            "Content Calendar:\n",
            " Sure! Below is a proposed 1-month Instagram content calendar that aligns with a general strategy of engaging your audience, building brand awareness, and promoting community interaction. You can customize it based on your specific brand, audience, and goals.\n",
            "\n",
            "| Date       | Post Idea                         | Caption                                                               |\n",
            "|------------|-----------------------------------|----------------------------------------------------------------------|\n",
            "| 1st        | Introduction to the brand         | “🌟 Welcome to our community! We’re excited to share our journey with you. What’s your favorite thing about [niche]? #BrandIntroduction” |\n",
            "| 3rd        | Behind-the-scenes photo           | “Ever wondered what goes into creating [your product/service]? Here’s a sneak peek! #BehindTheScenes” |\n",
            "| 5th        | Customer testimonial graphic       | “We love hearing from our amazing customers! 💬 Here’s what [Customer Name] has to say about us. #CustomerLove” |\n",
            "| 7th        | Educational post (tips)           | “💡 Tip Tuesday! Here are 5 tips to [achieve a goal related to your niche]. What’s your go-to tip? #TipTuesday” |\n",
            "| 9th        | User-generated content            | “Shoutout to [User] for this incredible photo! 🌟 Want to be featured? Tag us in your posts! #UserGeneratedContent” |\n",
            "| 11th       | Poll or question in Stories       | “🗳️ Poll Time: Which product feature do you love most? Vote in our Stories!” |\n",
            "| 13th       | Inspirational quote               | “💖 ‘[Inspirational Quote]’ – [Author]. Let’s inspire each other today! #MotivationMonday” |\n",
            "| 15th       | Product spotlight                  | “✨ Check out our [Product Name]! Here’s why it’s a must-have. What’s your favorite feature? #ProductSpotlight” |\n",
            "| 17th       | Fun fact about the industry       | “Did you know? 🤔 [Fun fact about your industry]. What surprises you the most? #FunFactFriday” |\n",
            "| 19th       | Community spotlight                | “We love our community! 💕 Meet [Community Member/Customer] and learn about their story. #CommunitySpotlight” |\n",
            "| 21st       | Video tutorial or demo            | “🎥 Watch as we show you how to [use your product/service]. Have any questions? Drop them below\n"
          ]
        }
      ]
    }
  ],
  "metadata": {
    "colab": {
      "provenance": []
    },
    "kernelspec": {
      "display_name": "Python 3",
      "name": "python3"
    }
  },
  "nbformat": 4,
  "nbformat_minor": 0
}