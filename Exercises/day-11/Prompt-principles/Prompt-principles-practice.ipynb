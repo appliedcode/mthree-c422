{
  "nbformat": 4,
  "nbformat_minor": 0,
  "metadata": {
    "colab": {
      "provenance": [],
      "authorship_tag": "ABX9TyN18QP7mxVDKSPuhqK8UXJL",
      "include_colab_link": true
    },
    "kernelspec": {
      "name": "python3",
      "display_name": "Python 3"
    },
    "language_info": {
      "name": "python"
    }
  },
  "cells": [
    {
      "cell_type": "markdown",
      "metadata": {
        "id": "view-in-github",
        "colab_type": "text"
      },
      "source": [
        "<a href=\"https://colab.research.google.com/github/appliedcode/mthree-c422/blob/mthree-422-salleh/Exercises/day-11/Prompt-principles/Prompt-principles-practice.ipynb\" target=\"_parent\"><img src=\"https://colab.research.google.com/assets/colab-badge.svg\" alt=\"Open In Colab\"/></a>"
      ]
    },
    {
      "cell_type": "markdown",
      "source": [
        "## 📝 Problem Statement: Prompt Engineering Practice Lab with Diverse Datasets\n",
        "\n",
        "**Objective:**\n",
        "Apply and experiment with the **5 principles of prompt engineering** —\n",
        "\n",
        "1. Give Clear Direction\n",
        "2. Specify Format\n",
        "3. Provide Examples\n",
        "4. Evaluate Quality\n",
        "5. Divide Labor\n",
        "\n",
        "**Task:**\n",
        "Using the OpenAI API in Google Colab with the `gpt-4o-mini` model:\n",
        "\n",
        "***\n",
        "\n",
        "### 1. Give Clear Direction\n",
        "\n",
        "**Dataset:** Article excerpt on renewable energy\n",
        "**Data snippet:**\n",
        "\"Renewable energy sources such as solar, wind, and hydropower are increasingly cost-effective alternatives to fossil fuels. They reduce greenhouse gas emissions and offer sustainable energy solutions worldwide.\"\n",
        "\n",
        "- Start with a vague prompt (e.g., \"Write about energy.\")\n",
        "- Rewrite it with clear direction including audience (e.g., teenagers), tone (informative), and length (100 words).\n",
        "- Compare and analyze the outputs.\n",
        "\n",
        "***\n",
        "\n",
        "### 2. Specify Format\n",
        "\n",
        "**Dataset:** Product descriptions of three smartphones\n",
        "**Data snippet:**\n",
        "\n",
        "- Phone A: OLED display, 12MP camera, 4000mAh battery.\n",
        "- Phone B: AMOLED display, 108MP camera, 4500mAh battery.\n",
        "- Phone C: LCD display, 48MP camera, 3500mAh battery.\n",
        "- Ask a comparison question without specifying format.\n",
        "- Repeat with instructions to produce a markdown table listing features and specs.\n",
        "- Compare the clarity and usefulness of the outputs.\n",
        "\n",
        "***\n",
        "\n",
        "### 3. Provide Examples (Few-Shot)\n",
        "\n",
        "**Dataset:** Customer reviews for a coffee shop\n",
        "**Reviews:**\n",
        "\n",
        "- \"Loved the espresso, very rich flavor.\"\n",
        "- \"Service was slow but the ambiance was nice.\"\n",
        "- \"The croissant was stale and dry.\"\n",
        "- Provide 2-3 labeled examples classifying reviews as Positive, Neutral, or Negative.\n",
        "- Add a new review for the model to classify.\n",
        "\n",
        "***\n",
        "\n",
        "### 4. Evaluate Quality\n",
        "\n",
        "**Dataset:** Short news article on urban gardening\n",
        "**Text:**\n",
        "\"Community gardens are flourishing in cities worldwide, providing fresh produce and green spaces for residents. They improve air quality, foster social connections, and promote sustainability.\"\n",
        "\n",
        "- Summarize this text initially with a generic prompt.\n",
        "- Evaluate the output for completeness and key points.\n",
        "- Refine the prompt to ask for a 3-bullet summary mentioning benefits, social impact, and environmental effects.\n",
        "- Compare before and after outputs.\n",
        "\n",
        "***\n",
        "\n",
        "### 5. Divide Labor (Break Complex Tasks)\n",
        "\n",
        "**Dataset:** Business project - launching an online bookstore\n",
        "\n",
        "- Step 1 prompt: Define and describe the target customer base.\n",
        "- Step 2 prompt: Develop a marketing strategy tailored for the audience.\n",
        "- Step 3 prompt: Draft a content calendar for social media launch posts.\n",
        "- Run each prompt sequentially in Colab.\n",
        "- Combine the outputs into a cohesive overall launch plan.\n",
        "\n",
        "***\n",
        "\n",
        "## Deliverables\n",
        "\n",
        "For each principle:\n",
        "\n",
        "- Your original prompt(s)\n",
        "- Model output(s)\n",
        "- Observations on prompt design impact\n",
        "\n",
        "***\n",
        "\n",
        "**Goal:**\n",
        "Experience how tailoring prompts with clear direction, format, examples, evaluation, and task decomposition improves AI-generated content quality and usability.\n",
        "\n",
        "***\n",
        "\n",
        "If you would like, I can prepare this as a **ready-to-use Colab notebook template** with code cells pre-set for the datasets and exercises, so students can focus just on crafting prompts and observing results. Let me know if you want me to do that!"
      ],
      "metadata": {
        "id": "GYDCjsDYSP4N"
      }
    },
    {
      "cell_type": "code",
      "execution_count": null,
      "metadata": {
        "id": "odztFojHSK3M"
      },
      "outputs": [],
      "source": []
    }
  ]
}