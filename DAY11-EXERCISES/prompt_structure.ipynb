{
  "nbformat": 4,
  "nbformat_minor": 0,
  "metadata": {
    "colab": {
      "provenance": []
    },
    "kernelspec": {
      "name": "python3",
      "display_name": "Python 3"
    },
    "language_info": {
      "name": "python"
    }
  },
  "cells": [
    {
      "cell_type": "code",
      "execution_count": 2,
      "metadata": {
        "id": "t-T09dlqixjV"
      },
      "outputs": [],
      "source": [
        "\n",
        "!pip install --quiet openai\n",
        "\n",
        "from google.colab import userdata\n",
        "import os\n",
        "from openai import OpenAI\n",
        "\n",
        "api_key = userdata.get('OPENAI_API_KEY')\n",
        "if not api_key:\n",
        "    raise ValueError(\"❌ API key not found. Please set with userdata.set(...)\")\n",
        "\n",
        "os.environ[\"OPENAI_API_KEY\"] = api_key\n",
        "client = OpenAI(api_key=os.environ[\"OPENAI_API_KEY\"])"
      ]
    },
    {
      "cell_type": "code",
      "source": [
        "# Unclear prompt:\n",
        "unclear = \"Tell me about Newton's law.\"\n",
        "# Clearer version:\n",
        "clear = \"Write a 3-sentence explanation of Newton’s First Law in simple language for a 12-year-old.\"\n",
        "\n",
        "for prompt in [unclear, clear]:\n",
        "    resp = client.chat.completions.create(\n",
        "        model=\"gpt-4o-mini\",\n",
        "        messages=[{\"role\": \"user\", \"content\": prompt}],\n",
        "        max_tokens=80,\n",
        "    )\n",
        "    print(f\"\\nPrompt: {prompt}\\n---Answer---\\n{resp.choices[0].message.content.strip()}\")"
      ],
      "metadata": {
        "colab": {
          "base_uri": "https://localhost:8080/"
        },
        "id": "5leCpA39ljYE",
        "outputId": "e000df48-4567-4077-b355-fe44ffa9884b"
      },
      "execution_count": 3,
      "outputs": [
        {
          "output_type": "stream",
          "name": "stdout",
          "text": [
            "\n",
            "Prompt: Tell me about Newton's law.\n",
            "---Answer---\n",
            "Newton's laws of motion are three fundamental principles that describe the relationship between the motion of an object and the forces acting on it. These laws, formulated by Sir Isaac Newton in the late 17th century, laid the foundation for classical mechanics. Here is a summary of each of the three laws:\n",
            "\n",
            "1. **Newton's First Law (Law of Inertia)**:\n",
            "   This law states that an\n",
            "\n",
            "Prompt: Write a 3-sentence explanation of Newton’s First Law in simple language for a 12-year-old.\n",
            "---Answer---\n",
            "Newton’s First Law says that an object will stay still or keep moving in a straight line unless something makes it change. This means if you kick a soccer ball, it will keep rolling until something like friction or another player stops it. Basically, things like to keep doing what they’re already doing unless acted on by a force!\n"
          ]
        }
      ]
    },
    {
      "cell_type": "code",
      "source": [
        "prompt = (\"You are a science teacher. Explain Newton’s First Law with an example involving riding a bike, in 4 sentences.\")\n",
        "resp = client.chat.completions.create(\n",
        "    model=\"gpt-4o-mini\",\n",
        "    messages=[{\"role\": \"user\", \"content\": prompt}],\n",
        "    max_tokens=100,\n",
        ")\n",
        "print(resp.choices[0].message.content.strip())"
      ],
      "metadata": {
        "colab": {
          "base_uri": "https://localhost:8080/"
        },
        "id": "0LBhtSuLlrR8",
        "outputId": "ed0c090b-7568-49f8-9d76-12d85ed3095b"
      },
      "execution_count": 4,
      "outputs": [
        {
          "output_type": "stream",
          "name": "stdout",
          "text": [
            "Newton's First Law states that an object at rest will remain at rest, and an object in motion will continue moving at a constant velocity unless acted upon by a net external force. When you're riding a bike and you suddenly stop pedaling, the bike won't immediately come to a halt; instead, it will continue to roll forward due to its inertia. If you apply the brakes, you exert an external force that causes the bike to slow down and eventually stop. Conversely, if there are no opposing forces\n"
          ]
        }
      ]
    },
    {
      "cell_type": "code",
      "source": [
        "prompt = (\n",
        "    \"Summarize Newton’s First Law in exactly 2 bullet points and avoid technical jargon.\"\n",
        ")\n",
        "resp = client.chat.completions.create(\n",
        "    model=\"gpt-4o-mini\",\n",
        "    messages=[{\"role\": \"user\", \"content\": prompt}],\n",
        "    max_tokens=60,\n",
        ")\n",
        "print(resp.choices[0].message.content.strip())"
      ],
      "metadata": {
        "colab": {
          "base_uri": "https://localhost:8080/"
        },
        "id": "9kTs_eb8lxFF",
        "outputId": "69983f85-5dcf-4171-eacc-f1d23c41349d"
      },
      "execution_count": 5,
      "outputs": [
        {
          "output_type": "stream",
          "name": "stdout",
          "text": [
            "- Objects at rest stay still, and moving objects continue to move in the same direction unless something causes them to change.\n",
            "- This means that things don’t change their state of motion on their own; an outside force is needed to make a change.\n"
          ]
        }
      ]
    },
    {
      "cell_type": "code",
      "source": [
        "prompt = \"\"\"\n",
        "### Instruction:\n",
        "Explain Newton's First Law to a beginner.\n",
        "### Context:\n",
        "The reader is learning about physics for the first time.\n",
        "### Output:\n",
        "Respond in 2 simple sentences and give a real-life example.\n",
        "\"\"\"\n",
        "resp = client.chat.completions.create(\n",
        "    model=\"gpt-4o-mini\",\n",
        "    messages=[{\"role\": \"user\", \"content\": prompt}],\n",
        "    max_tokens=80,\n",
        ")\n",
        "print(resp.choices[0].message.content.strip())"
      ],
      "metadata": {
        "colab": {
          "base_uri": "https://localhost:8080/"
        },
        "id": "81_YvEptlyUK",
        "outputId": "e792267c-9ffb-42a7-ddca-2352b913f862"
      },
      "execution_count": 6,
      "outputs": [
        {
          "output_type": "stream",
          "name": "stdout",
          "text": [
            "Newton's First Law states that an object at rest will stay at rest, and an object in motion will continue to move in a straight line at a constant speed, unless acted on by a force. For example, when you're riding in a car that suddenly stops, your body tends to lurch forward because it wants to keep moving at the same speed until something (like the seatbelt) stops you\n"
          ]
        }
      ]
    },
    {
      "cell_type": "code",
      "source": [
        "prompt = \"\"\"Explain Newton’s First Law.\n",
        "\n",
        "Example 1:\n",
        "Q: What is Newton’s First Law?\n",
        "A: An object will keep moving in the same way unless acted on by another force.\n",
        "\n",
        "Example 2:\n",
        "Q: Can you explain Newton’s First Law using a rolling ball?\n",
        "A: A rolling ball keeps moving until friction or something else stops it.\n",
        "\n",
        "Now, give a new example using a moving car.\n",
        "\"\"\"\n",
        "resp = client.chat.completions.create(\n",
        "    model=\"gpt-4o-mini\",\n",
        "    messages=[{\"role\": \"user\", \"content\": prompt}],\n",
        "    max_tokens=80,\n",
        ")\n",
        "print(resp.choices[0].message.content.strip())"
      ],
      "metadata": {
        "colab": {
          "base_uri": "https://localhost:8080/"
        },
        "id": "PqQz0Q8ll3Ag",
        "outputId": "850c524c-7b2f-4538-8f40-98f20cfa891e"
      },
      "execution_count": 7,
      "outputs": [
        {
          "output_type": "stream",
          "name": "stdout",
          "text": [
            "Q: Can you explain Newton’s First Law using a moving car?  \n",
            "A: A moving car will continue to drive at the same speed and in the same direction unless a force, like the brakes or a collision, acts on it to change its motion.\n"
          ]
        }
      ]
    }
  ]
}