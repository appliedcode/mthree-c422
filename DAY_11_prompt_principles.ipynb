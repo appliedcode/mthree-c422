{
  "nbformat": 4,
  "nbformat_minor": 0,
  "metadata": {
    "colab": {
      "provenance": [],
      "authorship_tag": "ABX9TyN82lugXL+rMcCciM37pO1l"
    },
    "kernelspec": {
      "name": "python3",
      "display_name": "Python 3"
    },
    "language_info": {
      "name": "python"
    }
  },
  "cells": [
    {
      "cell_type": "code",
      "source": [
        "# Setup\n",
        "# Install OpenAI SDK\n",
        "!pip install openai -q\n",
        "from google.colab import userdata\n",
        "import os\n",
        "\n",
        "openai_api_key = userdata.get(\"OPENAI_API_KEY\")\n",
        "if openai_api_key:\n",
        "    os.environ[\"OPENAI_API_KEY\"] = openai_api_key\n",
        "    print(\"✅ OpenAI API key loaded safely\")\n",
        "else:\n",
        "    print(\"❌ OpenAI API key not found. Please set it using Colab Secrets.\")"
      ],
      "metadata": {
        "colab": {
          "base_uri": "https://localhost:8080/"
        },
        "id": "hcLXV4dzV1sN",
        "outputId": "c0a0201b-7287-4ba1-84c6-62a77dcc0cfc"
      },
      "execution_count": null,
      "outputs": [
        {
          "output_type": "stream",
          "name": "stdout",
          "text": [
            "✅ OpenAI API key loaded safely\n"
          ]
        }
      ]
    },
    {
      "cell_type": "code",
      "source": [
        "from openai import OpenAI\n",
        "client = OpenAI(api_key=os.environ[\"OPENAI_API_KEY\"])  # Replace with your API key\n",
        "\n",
        "def ask_gpt(prompt, temp=0.7, max_tokens=500):\n",
        "    \"\"\"Send a prompt to GPT-4o-mini and return the output\"\"\"\n",
        "    response = client.chat.completions.create(\n",
        "        model=\"gpt-4o-mini\",\n",
        "        messages=[{\"role\": \"user\", \"content\": prompt}],\n",
        "        temperature=temp,\n",
        "        max_tokens=max_tokens\n",
        "    )\n",
        "    return response.choices[0].message.content"
      ],
      "metadata": {
        "id": "AqVZsSSMV8h8"
      },
      "execution_count": null,
      "outputs": []
    },
    {
      "cell_type": "code",
      "source": [
        "# Vague prompt (no format specified)\n",
        "prompt_vague = f\"Write about this: {data_snippet}\"\n",
        "\n",
        "# Clear format-specified prompt\n",
        "prompt_format = f\"\"\"\n",
        "Based on the following excerpt: \"{data_snippet}\"\n",
        "Write a bullet-point summary with exactly 4 key points.\n",
        "Each bullet should be a single sentence, under 15 words.\n",
        "\"\"\"\n",
        "\n",
        "# Run vague prompt\n",
        "response_vague = client.chat.completions.create(\n",
        "    model=\"gpt-4o-mini\",\n",
        "    messages=[{\"role\": \"user\", \"content\": prompt_vague}],\n",
        "    max_tokens=150\n",
        ")\n",
        "\n",
        "# Run format-specified prompt\n",
        "response_format = client.chat.completions.create(\n",
        "    model=\"gpt-4o-mini\",\n",
        "    messages=[{\"role\": \"user\", \"content\": prompt_format}],\n",
        "    max_tokens=150\n",
        ")\n",
        "\n",
        "# Print results\n",
        "print(\"=== VAGUE PROMPT OUTPUT ===\")\n",
        "print(response_vague.choices[0].message.content.strip())\n",
        "\n",
        "print(\"\\n=== FORMAT-SPECIFIED PROMPT OUTPUT ===\")\n",
        "print(response_format.choices[0].message.content.strip())\n"
      ],
      "metadata": {
        "colab": {
          "base_uri": "https://localhost:8080/"
        },
        "id": "tGaZ_7SJWQHS",
        "outputId": "2be12b7b-0305-4624-fba1-82773656423a"
      },
      "execution_count": null,
      "outputs": [
        {
          "output_type": "stream",
          "name": "stdout",
          "text": [
            "=== VAGUE PROMPT OUTPUT ===\n",
            "Renewable energy sources, including solar, wind, and hydropower, are rapidly transforming the global energy landscape. As technological advancements continue to drive down costs, these clean energy alternatives are proving to be not only viable but often more economical than traditional fossil fuels. This shift is pivotal in addressing the twin challenges of energy security and climate change.\n",
            "\n",
            "**Cost-Effectiveness of Renewables**\n",
            "\n",
            "In recent years, the cost of generating electricity from renewable sources has plummeted. According to various studies, prices for solar photovoltaic (PV) systems have decreased by more than 80% since the turn of the century, while onshore wind energy costs have halved. These reductions have made renewables highly competitive with coal, natural gas, and even nuclear power\n",
            "\n",
            "=== FORMAT-SPECIFIED PROMPT OUTPUT ===\n",
            "- Renewable energy sources include solar, wind, and hydropower.  \n",
            "- These alternatives are becoming more cost-effective compared to fossil fuels.  \n",
            "- Renewable energy significantly reduces greenhouse gas emissions.  \n",
            "- They provide sustainable energy solutions globally.\n"
          ]
        }
      ]
    },
    {
      "cell_type": "code",
      "source": [
        "data_snippet = \"\"\"\n",
        "Phone A: OLED display, 12MP camera, 4000mAh battery.\n",
        "Phone B: AMOLED display, 108MP camera, 4500mAh battery.\n",
        "Phone C: LCD display, 48MP camera, 3500mAh battery.\n",
        "\"\"\"\n",
        "\n",
        "# --- Vague Prompt (no format specified) ---\n",
        "prompt_vague = f\"\"\"\n",
        "Compare the features of these smartphones:\n",
        "{data_snippet}\n",
        "\"\"\"\n",
        "\n",
        "# --- Format-Specified Prompt (Markdown Table) ---\n",
        "prompt_format = f\"\"\"\n",
        "Based on the following smartphone descriptions:\n",
        "{data_snippet}\n",
        "\n",
        "Produce a markdown table comparing the phones.\n",
        "The table should have columns: Phone, Display, Camera, Battery.\n",
        "Do not add extra commentary.\n",
        "\"\"\"\n",
        "\n",
        "# --- Run vague prompt ---\n",
        "response_vague = client.chat.completions.create(\n",
        "    model=\"gpt-4o-mini\",\n",
        "    messages=[{\"role\": \"user\", \"content\": prompt_vague}],\n",
        "    max_tokens=200\n",
        ")\n",
        "\n",
        "# --- Run format-specified prompt ---\n",
        "response_format = client.chat.completions.create(\n",
        "    model=\"gpt-4o-mini\",\n",
        "    messages=[{\"role\": \"user\", \"content\": prompt_format}],\n",
        "    max_tokens=200\n",
        ")\n",
        "\n",
        "# --- Print outputs ---\n",
        "print(\"=== VAGUE PROMPT OUTPUT ===\")\n",
        "print(response_vague.choices[0].message.content.strip())\n",
        "\n",
        "print(\"\\n=== FORMAT-SPECIFIED PROMPT OUTPUT ===\")\n",
        "print(response_format.choices[0].message.content.strip())\n"
      ],
      "metadata": {
        "colab": {
          "base_uri": "https://localhost:8080/"
        },
        "id": "MLFtv5ewWxag",
        "outputId": "3da95c01-921f-4f53-eef3-b91f45f3e14a"
      },
      "execution_count": null,
      "outputs": [
        {
          "output_type": "stream",
          "name": "stdout",
          "text": [
            "=== VAGUE PROMPT OUTPUT ===\n",
            "Here’s a comparison of the features of the three smartphones:\n",
            "\n",
            "### Display:\n",
            "- **Phone A:** OLED display\n",
            "- **Phone B:** AMOLED display\n",
            "- **Phone C:** LCD display\n",
            "\n",
            "**Comparison:** \n",
            "Both Phone A and Phone B use advanced display technologies (OLED and AMOLED), which offer better color accuracy, contrast, and power efficiency compared to Phone C’s LCD display. AMOLED screens (like in Phone B) generally provide deeper blacks and more vibrant colors than OLED screens, but the difference might not be very pronounced depending on individual usage.\n",
            "\n",
            "### Camera:\n",
            "- **Phone A:** 12MP camera\n",
            "- **Phone B:** 108MP camera\n",
            "- **Phone C:** 48MP camera\n",
            "\n",
            "**Comparison:**\n",
            "Phone B's 108MP camera offers significantly higher resolution compared to the other two phones, potentially resulting in more detailed photos. Phone C’s 48MP camera is also promising but not as high-resolution as Phone B’s. Phone A's 12MP camera may\n",
            "\n",
            "=== FORMAT-SPECIFIED PROMPT OUTPUT ===\n",
            "| Phone   | Display     | Camera  | Battery   |\n",
            "|---------|-------------|---------|-----------|\n",
            "| Phone A | OLED        | 12MP    | 4000mAh   |\n",
            "| Phone B | AMOLED      | 108MP   | 4500mAh   |\n",
            "| Phone C | LCD         | 48MP    | 3500mAh   |\n"
          ]
        }
      ]
    },
    {
      "cell_type": "code",
      "source": [
        "# Few-shot example classification\n",
        "reviews = \"\"\"\n",
        "Review: \"Loved the espresso, very rich flavor.\"\n",
        "Sentiment: Positive\n",
        "\n",
        "Review: \"Service was slow but the ambiance was nice.\"\n",
        "Sentiment: Neutral\n",
        "\n",
        "Review: \"The croissant was stale and dry.\"\n",
        "Sentiment: Negative\n",
        "\n",
        "Review: \"The latte art was beautiful and the coffee tasted great.\"\n",
        "Sentiment:\n",
        "\"\"\"\n",
        "\n",
        "response_fewshot = client.chat.completions.create(\n",
        "    model=\"gpt-4o-mini\",\n",
        "    messages=[{\"role\": \"user\", \"content\": reviews}],\n",
        "    max_tokens=50\n",
        ")\n",
        "\n",
        "print(\"=== FEW-SHOT OUTPUT ===\")\n",
        "print(response_fewshot.choices[0].message.content.strip())\n"
      ],
      "metadata": {
        "colab": {
          "base_uri": "https://localhost:8080/"
        },
        "id": "I0K3-E1RXGyQ",
        "outputId": "e7964d29-a3ae-4cf8-803f-7b8359e334da"
      },
      "execution_count": null,
      "outputs": [
        {
          "output_type": "stream",
          "name": "stdout",
          "text": [
            "=== FEW-SHOT OUTPUT ===\n",
            "Positive\n"
          ]
        }
      ]
    },
    {
      "cell_type": "code",
      "source": [
        "text = \"Community gardens are flourishing in cities worldwide, providing fresh produce and green spaces for residents. They improve air quality, foster social connections, and promote sustainability.\"\n",
        "\n",
        "# Generic prompt\n",
        "generic_prompt = f\"Summarize the following text:\\n{text}\"\n",
        "generic_summary = client.chat.completions.create(\n",
        "    model=\"gpt-4o-mini\",\n",
        "    messages=[{\"role\": \"user\", \"content\": generic_prompt}],\n",
        "    max_tokens=100\n",
        ")\n",
        "\n",
        "# Refined prompt\n",
        "refined_prompt = f\"\"\"\n",
        "Summarize the following text in exactly 3 bullet points.\n",
        "Mention:\n",
        "1. Benefits\n",
        "2. Social impact\n",
        "3. Environmental effects\n",
        "\n",
        "Text: {text}\n",
        "\"\"\"\n",
        "refined_summary = client.chat.completions.create(\n",
        "    model=\"gpt-4o-mini\",\n",
        "    messages=[{\"role\": \"user\", \"content\": refined_prompt}],\n",
        "    max_tokens=100\n",
        ")\n",
        "\n",
        "print(\"=== GENERIC SUMMARY ===\")\n",
        "print(generic_summary.choices[0].message.content.strip())\n",
        "\n",
        "print(\"\\n=== REFINED SUMMARY ===\")\n",
        "print(refined_summary.choices[0].message.content.strip())\n"
      ],
      "metadata": {
        "colab": {
          "base_uri": "https://localhost:8080/"
        },
        "id": "CJNlxxtwXLQH",
        "outputId": "67472835-aaf1-4d4d-92a5-db9f7e8df182"
      },
      "execution_count": null,
      "outputs": [
        {
          "output_type": "stream",
          "name": "stdout",
          "text": [
            "=== GENERIC SUMMARY ===\n",
            "Community gardens are thriving in cities globally, offering fresh produce and green spaces. They enhance air quality, strengthen social ties, and encourage sustainability.\n",
            "\n",
            "=== REFINED SUMMARY ===\n",
            "- **Benefits**: Community gardens offer residents access to fresh produce and green spaces, enhancing their quality of life.  \n",
            "- **Social Impact**: They foster social connections among community members, creating a sense of belonging and cooperation.  \n",
            "- **Environmental Effects**: Community gardens improve air quality and promote sustainability practices within urban settings.\n"
          ]
        }
      ]
    },
    {
      "cell_type": "code",
      "source": [
        "# Step 1 - Target customer base\n",
        "prompt1 = \"Define and describe the target customer base for an online bookstore.\"\n",
        "step1 = client.chat.completions.create(\n",
        "    model=\"gpt-4o-mini\",\n",
        "    messages=[{\"role\": \"user\", \"content\": prompt1}],\n",
        "    max_tokens=150\n",
        ")\n",
        "\n",
        "# Step 2 - Marketing strategy\n",
        "prompt2 = f\"Develop a marketing strategy tailored for this audience:\\n{step1.choices[0].message.content}\"\n",
        "step2 = client.chat.completions.create(\n",
        "    model=\"gpt-4o-mini\",\n",
        "    messages=[{\"role\": \"user\", \"content\": prompt2}],\n",
        "    max_tokens=200\n",
        ")\n",
        "\n",
        "# Step 3 - Content calendar\n",
        "prompt3 = f\"Draft a 1-week content calendar for social media launch posts for this bookstore:\\n{step2.choices[0].message.content}\"\n",
        "step3 = client.chat.completions.create(\n",
        "    model=\"gpt-4o-mini\",\n",
        "    messages=[{\"role\": \"user\", \"content\": prompt3}],\n",
        "    max_tokens=200\n",
        ")\n",
        "\n",
        "# Combine results\n",
        "print(\"=== STEP 1: TARGET AUDIENCE ===\")\n",
        "print(step1.choices[0].message.content.strip())\n",
        "\n",
        "print(\"\\n=== STEP 2: MARKETING STRATEGY ===\")\n",
        "print(step2.choices[0].message.content.strip())\n",
        "\n",
        "print(\"\\n=== STEP 3: CONTENT CALENDAR ===\")\n",
        "print(step3.choices[0].message.content.strip())\n"
      ],
      "metadata": {
        "colab": {
          "base_uri": "https://localhost:8080/"
        },
        "id": "TwHRXDcEXTZl",
        "outputId": "3a31b9ee-8030-4817-c78c-9187f3205b9e"
      },
      "execution_count": null,
      "outputs": [
        {
          "output_type": "stream",
          "name": "stdout",
          "text": [
            "=== STEP 1: TARGET AUDIENCE ===\n",
            "The target customer base for an online bookstore can be diverse, as reading interests and habits vary widely across different demographics. Here’s a detailed definition and description of key segments within the target customer base:\n",
            "\n",
            "### 1. **Demographic Segments**\n",
            "\n",
            "- **Age Groups:**\n",
            "  - **Children and Young Adults (Ages 0-18):** Parents and guardians are primary purchasers for this segment, looking for educational materials, children's books, and young adult fiction.\n",
            "  - **Adults (Ages 19-64):** This is a major segment encompassing college students, professionals, and casual readers. Interests may include fiction, non-fiction, self-help, and academic texts.\n",
            "  - **Seniors (Ages 65+):\n",
            "\n",
            "=== STEP 2: MARKETING STRATEGY ===\n",
            "### Marketing Strategy for an Online Bookstore Targeting Diverse Demographic Segments\n",
            "\n",
            "#### **1. Overview**\n",
            "To effectively engage our varied audience, the marketing strategy will leverage targeted campaigns, content marketing, and strategic partnerships while emphasizing the unique interests and behaviors of each demographic segment within our target market.\n",
            "\n",
            "#### **2. Customer Segments**\n",
            "- **Children and Young Adults (Ages 0-18)**\n",
            "- **Adults (Ages 19-64)**\n",
            "- **Seniors (Ages 65+)**\n",
            "\n",
            "#### **3. Marketing Strategies by Segment**\n",
            "\n",
            "**A. Children and Young Adults (Ages 0-18)**\n",
            "\n",
            "- **Target Audience:** Parents and guardians.\n",
            "  \n",
            "- **Content Type:**\n",
            "  - **Educational Resources:** Develop blog posts and downloadable content aimed at parents, discussing the benefits of reading at different ages and recommending age-appropriate books.\n",
            "  - **Reading Challenges:** Create seasonal reading challenges and campaigns (e.g., summer reading programs) to encourage\n",
            "\n",
            "=== STEP 3: CONTENT CALENDAR ===\n",
            "reading among children and teens.\n",
            "\n",
            "**B. Adults (Ages 19-64)**\n",
            "\n",
            "- **Target Audience:** A diverse group that includes students, professionals, and casual readers.\n",
            "  \n",
            "- **Content Type:**\n",
            "  - **Book Reviews & Recommendations:** Share curated lists of popular genres, new releases, and hidden gems.\n",
            "  - **Author Spotlights:** Highlight interviews or spotlights featuring emerging and established authors.\n",
            "  - **Thematic Content:** Create posts around special occasions, themes (e.g., mental health, diversity), or lifestyle-related reading (e.g., self-help books for work-life balance).\n",
            "\n",
            "**C. Seniors (Ages 65+)**\n",
            "\n",
            "- **Target Audience:** Retirees, lifelong learners, and book club members.\n",
            "\n",
            "- **Content Type:**\n",
            "  - **Nostalgic Reads:** Feature classic literature and modern adaptations that resonate with older readers.\n",
            "  - **Community Engagement:** Promote book clubs, local author events, and discussions on timeless topics.\n",
            "  -\n"
          ]
        }
      ]
    },
    {
      "cell_type": "code",
      "source": [
        "# General prompt\n",
        "general_prompt = \"Tell me about Marie Curie.\"\n",
        "general_output = client.chat.completions.create(\n",
        "    model=\"gpt-4o-mini\",\n",
        "    messages=[{\"role\": \"user\", \"content\": general_prompt}],\n",
        "    max_tokens=100\n",
        ")\n",
        "\n",
        "# Refined prompt with audience, style, and length\n",
        "refined_prompt = (\n",
        "    \"Tell me about Marie Curie for a third-grade audience, \"\n",
        "    \"in an excited storytelling style, under 50 words.\"\n",
        ")\n",
        "refined_output = client.chat.completions.create(\n",
        "    model=\"gpt-4o-mini\",\n",
        "    messages=[{\"role\": \"user\", \"content\": refined_prompt}],\n",
        "    max_tokens=100\n",
        ")\n",
        "\n",
        "print(\"=== GENERAL OUTPUT ===\")\n",
        "print(general_output.choices[0].message.content.strip())\n",
        "\n",
        "print(\"\\n=== REFINED OUTPUT ===\")\n",
        "print(refined_output.choices[0].message.content.strip())\n"
      ],
      "metadata": {
        "colab": {
          "base_uri": "https://localhost:8080/"
        },
        "id": "KZ56hXW5X5T1",
        "outputId": "eda693fb-23f3-4dbc-b8ad-045a2f855d5d"
      },
      "execution_count": null,
      "outputs": [
        {
          "output_type": "stream",
          "name": "stdout",
          "text": [
            "=== GENERAL OUTPUT ===\n",
            "Marie Curie was a pioneering scientist known for her groundbreaking work in radioactivity, a term she coined. Born Maria Skłodowska on November 7, 1867, in Warsaw, Poland, she later moved to France, where she conducted much of her research. Curie was the first woman to win a Nobel Prize and remains the only person to have received Nobel Prizes in two different scientific fields: Physics and Chemistry.\n",
            "\n",
            "Curie's significant achievements include:\n",
            "\n",
            "1. **Discovery of Radio\n",
            "\n",
            "=== REFINED OUTPUT ===\n",
            "Once upon a time, there was a brilliant scientist named Marie Curie! She loved exploring the secrets of tiny atoms. Marie discovered special things called radioactivity and won two shiny gold medals for her work! She showed us that girls can be amazing scientists too! Hooray for Marie!\n"
          ]
        }
      ]
    },
    {
      "cell_type": "code",
      "source": [
        "vacation_info = \"\"\"\n",
        "Tokyo: Modern city, cherry blossoms, sushi, bullet trains\n",
        "Paris: Art museums, Eiffel Tower, pastries, romantic walks\n",
        "Cape Town: Mountains, beaches, wildlife, multicultural\n",
        "\"\"\"\n",
        "\n",
        "# No format guidance\n",
        "no_format_prompt = f\"List the best features for each city:\\n{vacation_info}\"\n",
        "no_format_output = client.chat.completions.create(\n",
        "    model=\"gpt-4o-mini\",\n",
        "    messages=[{\"role\": \"user\", \"content\": no_format_prompt}],\n",
        "    max_tokens=150\n",
        ")\n",
        "\n",
        "# JSON format\n",
        "json_format_prompt = f\"\"\"\n",
        "Provide the best features for each city in a JSON array.\n",
        "Each city should be an object with \"name\" and \"features\" fields.\n",
        "\n",
        "Cities:\n",
        "{vacation_info}\n",
        "\"\"\"\n",
        "json_format_output = client.chat.completions.create(\n",
        "    model=\"gpt-4o-mini\",\n",
        "    messages=[{\"role\": \"user\", \"content\": json_format_prompt}],\n",
        "    max_tokens=200\n",
        ")\n",
        "\n",
        "print(\"=== NO FORMAT ===\")\n",
        "print(no_format_output.choices[0].message.content.strip())\n",
        "\n",
        "print(\"\\n=== JSON FORMAT ===\")\n",
        "print(json_format_output.choices[0].message.content.strip())\n"
      ],
      "metadata": {
        "colab": {
          "base_uri": "https://localhost:8080/"
        },
        "id": "bpcAc6bWYFRa",
        "outputId": "ecb5aa14-0ba1-42f5-bbe0-c72d9f14d8b1"
      },
      "execution_count": null,
      "outputs": [
        {
          "output_type": "stream",
          "name": "stdout",
          "text": [
            "=== NO FORMAT ===\n",
            "Sure! Here are the best features for each city:\n",
            "\n",
            "**Tokyo:**\n",
            "1. **Modern City** - A hub of innovation and technology with impressive skyscrapers and cutting-edge architecture.\n",
            "2. **Cherry Blossoms** - Stunning cherry blossom seasons in parks like Ueno and Shinjuku Gyoen, attracting visitors from around the world.\n",
            "3. **Sushi** - Renowned for its exceptional sushi, with a variety of options from street vendors to high-end Michelin-starred restaurants.\n",
            "4. **Bullet Trains** - The Shinkansen offers a fast and efficient way to travel across Japan, known for its punctuality and comfort.\n",
            "\n",
            "**Paris:**\n",
            "1. **Art Museums** - Home to iconic museums like the Louvre and Musée\n",
            "\n",
            "=== JSON FORMAT ===\n",
            "Here is a JSON array that includes the best features for each city:\n",
            "\n",
            "```json\n",
            "[\n",
            "    {\n",
            "        \"name\": \"Tokyo\",\n",
            "        \"features\": [\n",
            "            \"Modern city\",\n",
            "            \"Cherry blossoms\",\n",
            "            \"Sushi\",\n",
            "            \"Bullet trains\"\n",
            "        ]\n",
            "    },\n",
            "    {\n",
            "        \"name\": \"Paris\",\n",
            "        \"features\": [\n",
            "            \"Art museums\",\n",
            "            \"Eiffel Tower\",\n",
            "            \"Pastries\",\n",
            "            \"Romantic walks\"\n",
            "        ]\n",
            "    },\n",
            "    {\n",
            "        \"name\": \"Cape Town\",\n",
            "        \"features\": [\n",
            "            \"Mountains\",\n",
            "            \"Beaches\",\n",
            "            \"Wildlife\",\n",
            "            \"Multicultural\"\n",
            "        ]\n",
            "    }\n",
            "]\n",
            "```\n"
          ]
        }
      ]
    },
    {
      "cell_type": "code",
      "source": [
        "fewshot_prompt = \"\"\"\n",
        "Comment: \"Had a great time at the concert!\"\n",
        "Label: Praise\n",
        "\n",
        "Comment: \"The app keeps crashing every time I use it.\"\n",
        "Label: Complaint\n",
        "\n",
        "Comment: \"Thanks for the quick delivery!\"\n",
        "Label: Thank You\n",
        "\n",
        "Comment: \"My package arrived damaged.\"\n",
        "Label:\n",
        "\"\"\"\n",
        "\n",
        "fewshot_output = client.chat.completions.create(\n",
        "    model=\"gpt-4o-mini\",\n",
        "    messages=[{\"role\": \"user\", \"content\": fewshot_prompt}],\n",
        "    max_tokens=50\n",
        ")\n",
        "\n",
        "print(\"=== FEW-SHOT CLASSIFICATION ===\")\n",
        "print(fewshot_output.choices[0].message.content.strip())\n"
      ],
      "metadata": {
        "colab": {
          "base_uri": "https://localhost:8080/"
        },
        "id": "IkF8VfxJYKOz",
        "outputId": "60796e28-0b18-44eb-fabe-56f68dcaa89a"
      },
      "execution_count": null,
      "outputs": [
        {
          "output_type": "stream",
          "name": "stdout",
          "text": [
            "=== FEW-SHOT CLASSIFICATION ===\n",
            "Label: Complaint\n"
          ]
        }
      ]
    },
    {
      "cell_type": "code",
      "source": [
        "job_ad = \"We are seeking a software developer with experience in Python, JavaScript, and cloud platforms. Responsibilities include building web applications, collaborating with designers, and deploying solutions to cloud infrastructure.\"\n",
        "\n",
        "# Simple prompt\n",
        "simple_prompt = f\"Summarize the job ad:\\n{job_ad}\"\n",
        "simple_summary = client.chat.completions.create(\n",
        "    model=\"gpt-4o-mini\",\n",
        "    messages=[{\"role\": \"user\", \"content\": simple_prompt}],\n",
        "    max_tokens=100\n",
        ")\n",
        "\n",
        "# Refined prompt\n",
        "refined_summary_prompt = f\"\"\"\n",
        "Summarize the job ad in 2 sentences.\n",
        "Include required skills and main responsibilities.\n",
        "\n",
        "Job ad:\n",
        "{job_ad}\n",
        "\"\"\"\n",
        "refined_summary = client.chat.completions.create(\n",
        "    model=\"gpt-4o-mini\",\n",
        "    messages=[{\"role\": \"user\", \"content\": refined_summary_prompt}],\n",
        "    max_tokens=100\n",
        ")\n",
        "\n",
        "print(\"=== SIMPLE SUMMARY ===\")\n",
        "print(simple_summary.choices[0].message.content.strip())\n",
        "\n",
        "print(\"\\n=== REFINED SUMMARY ===\")\n",
        "print(refined_summary.choices[0].message.content.strip())\n"
      ],
      "metadata": {
        "colab": {
          "base_uri": "https://localhost:8080/"
        },
        "id": "ETGTzWmZYPE5",
        "outputId": "40ed4043-185c-4ec4-8fde-78fd204ff0a1"
      },
      "execution_count": null,
      "outputs": [
        {
          "output_type": "stream",
          "name": "stdout",
          "text": [
            "=== SIMPLE SUMMARY ===\n",
            "We are looking for a software developer proficient in Python, JavaScript, and cloud platforms. Key responsibilities include developing web applications, collaborating with designers, and deploying solutions to cloud infrastructure.\n",
            "\n",
            "=== REFINED SUMMARY ===\n",
            "We are looking for a software developer proficient in Python, JavaScript, and cloud platforms. The role involves building web applications, collaborating with designers, and deploying solutions to cloud infrastructure.\n"
          ]
        }
      ]
    },
    {
      "cell_type": "code",
      "source": [
        "# Step 1\n",
        "prompt1 = \"Identify types of exhibits and activities suitable for middle school visitors at a university science fair.\"\n",
        "step1 = client.chat.completions.create(\n",
        "    model=\"gpt-4o-mini\",\n",
        "    messages=[{\"role\": \"user\", \"content\": prompt1}],\n",
        "    max_tokens=150\n",
        ")\n",
        "\n",
        "# Step 2\n",
        "prompt2 = f\"Propose a timeline for the science fair event:\\n{step1.choices[0].message.content}\"\n",
        "step2 = client.chat.completions.create(\n",
        "    model=\"gpt-4o-mini\",\n",
        "    messages=[{\"role\": \"user\", \"content\": prompt2}],\n",
        "    max_tokens=150\n",
        ")\n",
        "\n",
        "# Step 3\n",
        "prompt3 = f\"Draft a list of safety instructions for the event:\\n{step2.choices[0].message.content}\"\n",
        "step3 = client.chat.completions.create(\n",
        "    model=\"gpt-4o-mini\",\n",
        "    messages=[{\"role\": \"user\", \"content\": prompt3}],\n",
        "    max_tokens=150\n",
        ")\n",
        "\n",
        "print(\"=== STEP 1: EXHIBITS & ACTIVITIES ===\")\n",
        "print(step1.choices[0].message.content.strip())\n",
        "\n",
        "print(\"\\n=== STEP 2: TIMELINE ===\")\n",
        "print(step2.choices[0].message.content.strip())\n",
        "\n",
        "print(\"\\n=== STEP 3: SAFETY INSTRUCTIONS ===\")\n",
        "print(step3.choices[0].message.content.strip())\n"
      ],
      "metadata": {
        "colab": {
          "base_uri": "https://localhost:8080/"
        },
        "id": "HJ1HUli4YXos",
        "outputId": "95e672e9-788e-4eab-ce8c-5f10a81ea44d"
      },
      "execution_count": null,
      "outputs": [
        {
          "output_type": "stream",
          "name": "stdout",
          "text": [
            "=== STEP 1: EXHIBITS & ACTIVITIES ===\n",
            "When hosting a university science fair for middle school visitors, it's essential to create engaging and interactive exhibits and activities that cater to their interests and educational level. Here are several types of exhibits and activities that can be suitable:\n",
            "\n",
            "### Interactive Exhibits\n",
            "1. **Hands-On Science Stations**: \n",
            "   - **Chemistry Experiments**: Simple, safe experiments like creating slime or observing chemical reactions using baking soda and vinegar.\n",
            "   - **Physics Demonstrations**: Stations with simple machines or physics puzzles, such as building paper airplanes or exploring inertia with rolling balls.\n",
            "\n",
            "2. **Biology Exploration**: \n",
            "   - **Microscope Stations**: Allow students to look at prepared slides of plant and animal cells.\n",
            "   - **Ecosystem in a\n",
            "\n",
            "=== STEP 2: TIMELINE ===\n",
            "Bottle**: A mini-ecosystem demonstration where visitors can observe aquatic life and understand the balance of ecosystems.\n",
            "\n",
            "3. **Engineering Challenges**:\n",
            "   - **Build a Bridge**: Use everyday materials (like straws and tape) to build a bridge that can hold a certain weight.\n",
            "   - **Rube Goldberg Machines**: Set up a station where visitors can create complex machines using various objects to perform a simple task.\n",
            "\n",
            "4. **Technology and Coding**:\n",
            "   - **Robotics Showcase**: Display working robots or drones that attendees can interact with or program.\n",
            "   - **Coding Games**: Interactive screens where students can learn basic coding concepts through games.\n",
            "\n",
            "### Educational Activities\n",
            "1. **Workshops**: \n",
            "   - Short,\n",
            "\n",
            "=== STEP 3: SAFETY INSTRUCTIONS ===\n",
            "hands-on workshops on various topics related to ecosystems, engineering, and technology.\n",
            "\n",
            "### Safety Instructions for the Event\n",
            "To ensure a safe and enjoyable experience for all attendees, please adhere to the following safety instructions:\n",
            "\n",
            "#### General Safety Guidelines:\n",
            "1. **Supervision Required**: Children must be accompanied by an adult at all times.\n",
            "2. **Stay Alert**: Be aware of your surroundings and watch for any potential hazards, especially in crowded areas.\n",
            "3. **Emergency Exits**: Familiarize yourself with the location of emergency exits and follow any posted signs.\n",
            "\n",
            "#### Mini-Ecosystem Demonstration (Bottle):\n",
            "1. **No Touching**: Please do not touch or disturb the aquarium or any aquatic life unless instructed by a staff member.\n",
            "2\n"
          ]
        }
      ]
    }
  ]
}