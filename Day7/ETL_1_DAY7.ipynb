{
  "nbformat": 4,
  "nbformat_minor": 0,
  "metadata": {
    "colab": {
      "provenance": []
    },
    "kernelspec": {
      "name": "python3",
      "display_name": "Python 3"
    },
    "language_info": {
      "name": "python"
    }
  },
  "cells": [
    {
      "cell_type": "markdown",
      "source": [
        "TL Pipeline in Google Colab Using Only Local Resources\n",
        "Objective: Learn how to perform a full Extract-Transform-Load (ETL) data pipeline using only Python, pandas, and SQLite—all within Google Colab, with no cloud databases or external APIs required.\n",
        "\n",
        "1. Prerequisites\n",
        "A Google account to access Colab.\n",
        "\n",
        "Basic Python and pandas knowledge.\n",
        "\n",
        "No external cloud or database accounts required.\n",
        "\n",
        "2. Scenario\n",
        "You’re provided with a local .csv file (customers.csv) mimicking customer biological measurements. \\\n",
        "You’ll ingest, clean, enrich, and store this data in a local SQLite database—all inside your Colab notebook.\n"
      ],
      "metadata": {
        "id": "BxWQEDETu6Hl"
      }
    },
    {
      "cell_type": "code",
      "execution_count": 2,
      "metadata": {
        "id": "B083kBsgrotc"
      },
      "outputs": [],
      "source": [
        "\n",
        "\n",
        "# A. Extract\n",
        "# 1. Download or Create a Sample Data File\n",
        "# Use any small public .csv (for demo, we’ll use a height/weight dataset):\n",
        "url = \"https://people.sc.fsu.edu/~jburkardt/data/csv/hw_200.csv\"\n",
        "!wget -qO customers.csv $url\n"
      ]
    },
    {
      "cell_type": "code",
      "source": [
        "\n",
        "\n",
        "# 2. Load Into pandas DataFrame\n",
        "import pandas as pd\n",
        "\n",
        "df_customers = pd.read_csv('customers.csv')\n",
        "print(df_customers.head())\n",
        "print(df_customers.columns)\n"
      ],
      "metadata": {
        "colab": {
          "base_uri": "https://localhost:8080/"
        },
        "id": "3GD7DcGnvBZU",
        "outputId": "2f1b904d-afb1-4154-9aa9-d9061af52282"
      },
      "execution_count": 3,
      "outputs": [
        {
          "output_type": "stream",
          "name": "stdout",
          "text": [
            "   Index   Height(Inches)\"   \"Weight(Pounds)\"\n",
            "0      1             65.78             112.99\n",
            "1      2             71.52             136.49\n",
            "2      3             69.40             153.03\n",
            "3      4             68.22             142.34\n",
            "4      5             67.79             144.30\n",
            "Index(['Index', ' Height(Inches)\"', ' \"Weight(Pounds)\"'], dtype='object')\n"
          ]
        }
      ]
    },
    {
      "cell_type": "code",
      "source": [
        "\n",
        "\n",
        "# B. Transform\n",
        "# 1. Clean Data\n",
        "# Remove duplicates\n",
        "\n",
        "# Rename messy columns for cleaner analysis\n",
        "\n",
        "# Remove duplicates based on 'Index' column\n",
        "df_customers.drop_duplicates('Index', inplace=True)\n",
        "\n",
        "# Clean up column names\n",
        "df_customers.columns = [col.strip().replace('\"', '').replace(\"'\", \"\") for col in df_customers.columns]\n",
        "\n",
        "# View cleaned DataFrame\n",
        "print(df_customers.head())"
      ],
      "metadata": {
        "colab": {
          "base_uri": "https://localhost:8080/"
        },
        "id": "Nw6YrpddvElX",
        "outputId": "4483425a-ded5-4c4c-e260-b0538fb6d54f"
      },
      "execution_count": 4,
      "outputs": [
        {
          "output_type": "stream",
          "name": "stdout",
          "text": [
            "   Index  Height(Inches)  Weight(Pounds)\n",
            "0      1           65.78          112.99\n",
            "1      2           71.52          136.49\n",
            "2      3           69.40          153.03\n",
            "3      4           68.22          142.34\n",
            "4      5           67.79          144.30\n"
          ]
        }
      ]
    },
    {
      "cell_type": "code",
      "source": [
        "\n",
        "# 2. Add Enriched & Derived Columns\n",
        "# Compute a \"BMI\" (Body Mass Index) column\n",
        "\n",
        "# Add a BMI column, Height in inches, Weight in pounds\n",
        "df_customers['BMI'] = (df_customers['Weight(Pounds)'] / (df_customers['Height(Inches)'] * 0.0254) ** 2)\n",
        "print(df_customers.head())\n"
      ],
      "metadata": {
        "colab": {
          "base_uri": "https://localhost:8080/"
        },
        "id": "gBlnEOEdvnSM",
        "outputId": "1cdbc35a-e967-4d19-8f71-25159277f89f"
      },
      "execution_count": 5,
      "outputs": [
        {
          "output_type": "stream",
          "name": "stdout",
          "text": [
            "   Index  Height(Inches)  Weight(Pounds)        BMI\n",
            "0      1           65.78          112.99  40.474812\n",
            "1      2           71.52          136.49  41.359796\n",
            "2      3           69.40          153.03  49.248182\n",
            "3      4           68.22          142.34  47.406304\n",
            "4      5           67.79          144.30  48.670704\n"
          ]
        }
      ]
    },
    {
      "cell_type": "code",
      "source": [
        "\n",
        "\n",
        "# C. Load\n",
        "# 1. Store the Result in a Local SQLite Database\n",
        "import sqlite3\n",
        "\n",
        "conn = sqlite3.connect('customers_etl_lab.db')\n",
        "df_customers.to_sql('customers_etl', conn, if_exists='replace', index=False)\n"
      ],
      "metadata": {
        "colab": {
          "base_uri": "https://localhost:8080/"
        },
        "id": "mqkS9bVFvpgy",
        "outputId": "647443ca-675b-4304-a8fd-27e371a25503"
      },
      "execution_count": 6,
      "outputs": [
        {
          "output_type": "execute_result",
          "data": {
            "text/plain": [
              "200"
            ]
          },
          "metadata": {},
          "execution_count": 6
        }
      ]
    },
    {
      "cell_type": "code",
      "source": [
        "\n",
        "\n",
        "# 2. Run SQL Queries on the Transformed Data\n",
        "# Example: Get customers with BMI > 25 (overweight threshold)\n",
        "query = \"SELECT * FROM customers_etl WHERE BMI > 45;\"\n",
        "df_overweight = pd.read_sql(query, conn)\n",
        "print(df_overweight.head())\n"
      ],
      "metadata": {
        "colab": {
          "base_uri": "https://localhost:8080/"
        },
        "id": "cLE7EvCUv1Tn",
        "outputId": "4163479d-6e3d-4fd5-a294-e809bc2fa51d"
      },
      "execution_count": 7,
      "outputs": [
        {
          "output_type": "stream",
          "name": "stdout",
          "text": [
            "   Index  Height(Inches)  Weight(Pounds)        BMI\n",
            "0      3           69.40          153.03  49.248182\n",
            "1      4           68.22          142.34  47.406304\n",
            "2      5           67.79          144.30  48.670704\n",
            "3      7           69.80          141.49  45.013986\n",
            "4     17           66.46          129.50  45.444535\n"
          ]
        }
      ]
    },
    {
      "cell_type": "code",
      "metadata": {
        "colab": {
          "base_uri": "https://localhost:8080/",
          "height": 429
        },
        "id": "a67d0e36",
        "outputId": "a62d4119-bc5b-4c8b-9951-b088e3c34c09"
      },
      "source": [
        "import matplotlib.pyplot as plt\n",
        "\n",
        "# Plot a histogram of BMI values\n",
        "plt.figure(figsize=(10, 6))\n",
        "plt.hist(df_customers['BMI'], bins=20, edgecolor='black')\n",
        "plt.title('Distribution of BMI Values')\n",
        "plt.xlabel('BMI')\n",
        "plt.ylabel('Frequency')\n",
        "plt.grid(axis='y', alpha=0.75)\n",
        "plt.show()"
      ],
      "execution_count": 8,
      "outputs": [
        {
          "output_type": "display_data",
          "data": {
            "text/plain": [
              "<Figure size 1000x600 with 1 Axes>"
            ],
            "image/png": "[encoded data removed]"
          },
          "metadata": {}
        }
      ]
    },
    {
      "cell_type": "code",
      "metadata": {
        "colab": {
          "base_uri": "https://localhost:8080/",
          "height": 429
        },
        "id": "34bdca89",
        "outputId": "68a63c56-37af-4c3c-cef5-45e8e03a8d73"
      },
      "source": [
        "import matplotlib.pyplot as plt\n",
        "\n",
        "# Plot a histogram of BMI values\n",
        "plt.figure(figsize=(10, 6))\n",
        "plt.hist(df_customers['BMI'], bins=20, edgecolor='black')\n",
        "plt.title('Distribution of BMI Values')\n",
        "plt.xlabel('BMI')\n",
        "plt.ylabel('Frequency')\n",
        "plt.grid(axis='y', alpha=0.75)\n",
        "plt.show()"
      ],
      "execution_count": 9,
      "outputs": [
        {
          "output_type": "display_data",
          "data": {
            "text/plain": [
              "<Figure size 1000x600 with 1 Axes>"
            ],
            "image/png": "[encoded data removed]"
          },
          "metadata": {}
        }
      ]
    }
  ]
}