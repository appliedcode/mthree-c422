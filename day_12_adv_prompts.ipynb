{
  "cells": [
    {
      "cell_type": "markdown",
      "source": [
        "## Lab Exercise: Context Management \\& Prompt Optimization in Prompt Engineering\n",
        "\n",
        "### Objective:\n",
        "\n",
        "- Understand and implement effective context management in prompts.\n",
        "- Practice prompt optimization to improve AI responses in clarity, specificity, and relevance.\n",
        "\n",
        "***\n",
        "\n",
        "### Setup:\n",
        "\n",
        "- Use OpenAI API or any language model API accessible in your Colab.\n",
        "- If API keys are needed, ensure they are safely added as environment variables or input by the user."
      ],
      "metadata": {
        "id": "eq4qKCdSNSko"
      }
    },
    {
      "cell_type": "code",
      "source": [
        "from google.colab import userdata\n",
        "import os\n",
        "\n",
        "# Set your OpenAI API key securely in Colab Secrets (once)\n",
        "# userdata.set(\"OPENAI_API_KEY\", \"your-api-key-here\")\n",
        "\n",
        "# Retrieve key in your notebook\n",
        "openai_api_key = userdata.get(\"OPENAI_API_KEY\")\n",
        "if openai_api_key:\n",
        "    os.environ[\"OPENAI_API_KEY\"] = openai_api_key\n",
        "    print(\"✅ OpenAI API key loaded safely\")\n",
        "else:\n",
        "    print(\"❌ OpenAI API key not found. Please set it using Colab Secrets.\")"
      ],
      "metadata": {
        "id": "2YMRqyRCNGmo",
        "outputId": "346b7ea5-8270-44ec-aeb3-4145028db955",
        "colab": {
          "base_uri": "https://localhost:8080/"
        }
      },
      "execution_count": null,
      "outputs": [
        {
          "output_type": "stream",
          "name": "stdout",
          "text": [
            "✅ OpenAI API key loaded safely\n"
          ]
        }
      ]
    },
    {
      "cell_type": "code",
      "source": [
        "!pip install --quiet openai -q\n",
        "# Create client\n",
        "from openai import OpenAI\n",
        "client = OpenAI(api_key=os.environ[\"OPENAI_API_KEY\"])"
      ],
      "metadata": {
        "id": "9qrFrzlcPI1n"
      },
      "execution_count": null,
      "outputs": []
    },
    {
      "cell_type": "code",
      "source": [
        "def generate_response(prompt, model=\"gpt-4o-mini\", max_tokens=200):\n",
        "    \"\"\"\n",
        "    Sends a user prompt to the OpenAI model and returns the AI's response.\n",
        "    \"\"\"\n",
        "    try:\n",
        "        completion = client.chat.completions.create(\n",
        "            model=model,\n",
        "            messages=[{\"role\": \"user\", \"content\": prompt}],\n",
        "            temperature=0.7,\n",
        "            max_tokens=max_tokens\n",
        "        )\n",
        "        return completion.choices[0].message.content.strip()\n",
        "    except Exception as e:\n",
        "        return f\"Error: {e}\""
      ],
      "metadata": {
        "id": "QgyY5D9BNzIT"
      },
      "execution_count": null,
      "outputs": []
    },
    {
      "cell_type": "markdown",
      "source": [
        "### Exercise 1: Context Management\n",
        "\n",
        "**Goal:** Maintain relevant context across multiple turns of interaction to generate coherent and context-aware responses.\n",
        "\n",
        "**Steps:**\n",
        "\n",
        "1. Write a function `generate_response(prompt, context=None)` that:\n",
        "    - Takes a current prompt and optionally previous context.\n",
        "    - Constructs an input combining context and current prompt appropriately.\n",
        "    - Sends to the model and returns the response.\n",
        "2. Simulate a multi-turn conversation about a specific topic (e.g., \"Albert Einstein\") where each prompt builds on previous responses.\n",
        "3. Experiment with:\n",
        "    - Passing full context in each turn.\n",
        "    - Passing only the current prompt without context.\n",
        "4. Compare responses to see the difference context management makes."
      ],
      "metadata": {
        "id": "4Zcp3h72NYSH"
      }
    },
    {
      "cell_type": "code",
      "source": [
        "import time\n",
        "\n",
        "# WITHOUT Context\n",
        "print(\"=== Conversation WITHOUT Context ===\")\n",
        "questions = [\n",
        "    \"Who is Albert Einstein?\",\n",
        "    \"What awards has he won?\",\n",
        "    \"Tell me about his early life.\"\n",
        "]\n",
        "\n",
        "for q in questions:\n",
        "    response = generate_response(q)\n",
        "    print(f\"Q: {q}\\nAI: {response}\\n\")\n",
        "    time.sleep(1) # Add a short delay\n",
        "\n",
        "# WITH Context\n",
        "print(\"\\n=== Conversation WITH Context ===\")\n",
        "context = \"\"\n",
        "for q in questions:\n",
        "    full_prompt = context + f\"\\nUser: {q}\\nAI:\"\n",
        "    response = generate_response(full_prompt)\n",
        "    print(f\"Q: {q}\\nAI: {response}\\n\")\n",
        "    context += f\"\\nUser: {q}\\nAI: {response}\"\n",
        "    time.sleep(1) # Add a short delay"
      ],
      "metadata": {
        "id": "ediE9XofNVcZ",
        "outputId": "4658630e-9e28-4bc7-aaad-eeb75feab08b",
        "colab": {
          "base_uri": "https://localhost:8080/"
        }
      },
      "execution_count": null,
      "outputs": [
        {
          "output_type": "stream",
          "name": "stdout",
          "text": [
            "=== Conversation WITHOUT Context ===\n",
            "Q: Who is Albert Einstein?\n",
            "AI: Albert Einstein (1879–1955) was a theoretical physicist widely regarded as one of the most influential scientists of the 20th century. He is best known for formulating the theory of relativity, which revolutionized our understanding of space, time, and gravity. His most famous equation, \\(E=mc^2\\), expresses the equivalence of mass and energy and has become a symbol of modern physics.\n",
            "\n",
            "Einstein was born in Ulm, in the Kingdom of Württemberg in the German Empire, and later moved to Munich. He studied physics and mathematics at the Polytechnic Institute in Zurich, Switzerland. After working in a patent office, he published several groundbreaking papers in 1905, a year often referred to as his \"annus mirabilis\" or miracle year. These papers included his work on the photoelectric effect, for which he received the Nobel Prize in Physics in 1921.\n",
            "\n",
            "Throughout his life, Einstein contributed to various areas of physics, including statistical mechanics,\n",
            "\n",
            "Q: What awards has he won?\n",
            "AI: To provide you with accurate information, could you please specify who you are referring to when you mention \"he\"?\n",
            "\n",
            "Q: Tell me about his early life.\n",
            "AI: To provide a detailed response, could you please specify which individual you're asking about regarding their early life?\n",
            "\n",
            "\n",
            "=== Conversation WITH Context ===\n",
            "Q: Who is Albert Einstein?\n",
            "AI: Albert Einstein was a theoretical physicist born on March 14, 1879, in Ulm, Germany, and he passed away on April 18, 1955, in Princeton, New Jersey, USA. He is best known for developing the theory of relativity, particularly the equation E=mc², which expresses the equivalence of mass and energy. His work revolutionized the understanding of space, time, and gravity, and he made significant contributions to the field of quantum mechanics as well.\n",
            "\n",
            "Einstein received the Nobel Prize in Physics in 1921 for his explanation of the photoelectric effect, which was pivotal in establishing quantum theory. Beyond his scientific achievements, he was also known for his philosophical views on science, pacifism, and civil rights. Einstein's influence extends beyond the realm of physics, making him one of the most recognized and celebrated scientists in history.\n",
            "\n",
            "Q: What awards has he won?\n",
            "AI: Albert Einstein received several prestigious awards and honors during his lifetime, the most notable of which include:\n",
            "\n",
            "1. **Nobel Prize in Physics (1921)**: Awarded for his explanation of the photoelectric effect, which was crucial in the development of quantum theory.\n",
            "\n",
            "2. **Copley Medal (1925)**: Awarded by the Royal Society of London for his outstanding achievements in scientific research.\n",
            "\n",
            "3. **Gold Medal of the Royal Astronomical Society (1926)**: Recognized for his contributions to theoretical physics.\n",
            "\n",
            "4. **Franklin Medal (1935)**: Awarded by the Franklin Institute for his contributions to the field of science.\n",
            "\n",
            "5. **Time Magazine's Person of the Century (1999)**: Recognized as one of the most influential figures of the 20th century.\n",
            "\n",
            "Additionally, Einstein received numerous honorary degrees, memberships in scientific societies, and various accolades from universities and institutions worldwide in recognition of his groundbreaking contributions to science and humanity.\n",
            "\n",
            "Q: Tell me about his early life.\n",
            "AI: Albert Einstein was born on March 14, 1879, in Ulm, a small town in the Kingdom of Württemberg, Germany. He was the first child of Hermann Einstein, a salesman and engineer, and Pauline Koch. The family moved to Munich when Albert was an infant, where his father and uncle founded an electrical engineering company.\n",
            "\n",
            "Einstein showed an early interest in science and mathematics, but his educational journey was not without challenges. He was a curious child, often questioning the conventional teachings of his school. At the age of five, he was given a compass, which sparked his fascination with physics. However, he struggled in the rigid school environment, particularly in subjects that did not interest him.\n",
            "\n",
            "In 1894, when Einstein was 15, his family moved to Italy, leaving him behind to finish school. He eventually left school to join them, and he never returned to formal education in Germany. Einstein later enrolled in the Swiss Federal Polytechnic in Zurich, Switzerland, where he studied\n",
            "\n"
          ]
        }
      ]
    },
    {
      "cell_type": "markdown",
      "source": [
        "### Exercise 2: Prompt Optimization\n",
        "\n",
        "**Goal:** Improve prompt clarity and specificity to get more relevant and useful AI responses.\n",
        "\n",
        "**Steps:**\n",
        "\n",
        "1. Write a function `test_prompt(prompt)` that:\n",
        "    - Sends the prompt to the model.\n",
        "    - Returns the output.\n",
        "2. Using the initial vague prompts, optimize them to be clearer, more instructive, and tailored to a desired output.\n",
        "3. Compare outputs for:\n",
        "    - Vague prompt\n",
        "    - Optimized prompt with explicit instructions\n",
        "4. Try different optimization techniques such as breaking down complex requests and specifying output formats."
      ],
      "metadata": {
        "id": "hWEU96ToNhg1"
      }
    },
    {
      "cell_type": "code",
      "source": [
        "# Test vague and optimized prompts\n",
        "prompts = [\n",
        "    (\"Explain blockchain.\", \"Vague Prompt\"),\n",
        "    (\"Explain blockchain technology in simple terms suitable for a 12-year-old, using exactly 3 short examples.\", \"Optimized Prompt\")\n",
        "]\n",
        "\n",
        "for prompt, label in prompts:\n",
        "    print(f\"--- {label} ---\")\n",
        "    response = generate_response(prompt)\n",
        "    print(response, \"\\n\")\n"
      ],
      "metadata": {
        "id": "jiFuYeBhNmLe",
        "outputId": "fd543539-5429-427b-a671-db77ec6908f5",
        "colab": {
          "base_uri": "https://localhost:8080/"
        }
      },
      "execution_count": null,
      "outputs": [
        {
          "output_type": "stream",
          "name": "stdout",
          "text": [
            "--- Vague Prompt ---\n",
            "Blockchain is a decentralized and distributed digital ledger technology that securely records transactions across multiple computers in such a way that the registered transactions cannot be altered retroactively. Here’s a breakdown of its key characteristics and components:\n",
            "\n",
            "1. **Decentralization**: Unlike traditional databases that are controlled by a central authority, a blockchain operates on a peer-to-peer network where each participant (or node) has access to the entire database. This reduces the risk of single points of failure and increases transparency.\n",
            "\n",
            "2. **Distributed Ledger**: Each participant in the network maintains a copy of the entire blockchain, ensuring that all copies are synchronized. This means that data is not stored in a single location, making it more secure against tampering and fraud.\n",
            "\n",
            "3. **Blocks and Chains**: Transactions are grouped together in blocks. Each block contains a list of transactions, a timestamp, and a reference (hash) to the previous block, creating a chronological chain of blocks. This structure is what gives the technology its name—blockchain.\n",
            "\n",
            "4. **Cryptographic Security**: Blockchain uses cryptographic techniques to secure data transactions. Each block is linked to the previous block through cryptographic hashes, ensuring that any attempt to alter a block would require changing all subsequent blocks, which is computationally impractical.\n",
            "\n",
            "5. **Consensus Mechanisms**: To validate and confirm transactions, blockchains use consensus algorithms, such as Proof of Work (PoW) or Proof of Stake (PoS). These mechanisms ensure that all participants agree on the state of the blockchain, preventing fraudulent transactions.\n",
            "\n",
            "6. **Transparency and Immutability**: Once a transaction is recorded on the blockchain, it cannot be changed or deleted without the consensus of the network. This immutability provides a transparent and verifiable record of all transactions.\n",
            "\n",
            "7. **Smart Contracts**: Some blockchains, like Ethereum, allow for programmable transactions through smart contracts—self-executing contracts with the terms of the agreement directly written into code. These can automate processes and reduce the need for intermediaries.\n",
            "\n",
            "8. **Applications**: While blockchain is most commonly associated with cryptocurrencies (like Bitcoin), its applications extend to various fields including supply chain management, healthcare, finance, identity verification, voting systems, and more.\n",
            "\n",
            "Overall, blockchain technology offers a secure, transparent, and efficient way to record and verify transactions, making it a revolutionary tool for many industries. \n",
            "\n",
            "--- Optimized Prompt ---\n",
            "Sure! Imagine blockchain technology like a special notebook that everyone can see and write in, but no one can erase anything. Here are three simple examples to help explain it:\n",
            "\n",
            "1. **Digital Ledger**: Think of a blockchain like a giant digital ledger where everyone keeps track of who owes what. If you lend your friend 5 dollars, you both write it down in the notebook. Once it's written, nobody can change it, so you both know how much money you owe each other.\n",
            "\n",
            "2. **Building Blocks**: Imagine a tower made of colorful blocks. Each block has information, like transactions or records. When one block is full, it gets stacked on top of another block. This way, everyone can see all the blocks in the tower, and they can’t be taken apart easily.\n",
            "\n",
            "3. **Game Scores**: Picture a video game where every player’s score is saved in a shared scoreboard. If one player wins a game, their score gets added, and everyone can see it. No one can cheat by changing their score because the scoreboard is shared with everyone, making it fair for all players.\n",
            "\n",
            "In short, blockchain keeps information safe and fair by allowing everyone to see it, but not change it! \n",
            "\n"
          ]
        }
      ]
    },
    {
      "cell_type": "markdown",
      "source": [
        "**Example Prompts to optimize:**\n",
        "\n",
        "- Vague: \"Explain blockchain.\"\n",
        "- Optimized: \"Explain blockchain technology in simple terms suitable for a 12-year-old, using 3 examples.\"\n",
        "\n",
        "***\n",
        "\n",
        "### Bonus (Optional):\n",
        "\n",
        "- Combine both exercises to maintain context while optimizing prompts in each turn.\n",
        "- Experiment with token limits by truncating context and observing impacts.\n",
        "\n",
        "***"
      ],
      "metadata": {
        "id": "0vIHGktBNqEV"
      }
    },
    {
      "cell_type": "code",
      "source": [
        "# Combining both techniques\n",
        "context = \"\"\n",
        "conversation = [\n",
        "    \"Explain quantum computing to someone who knows basic high school physics.\",\n",
        "    \"Can you give 2 real-world use cases?\",\n",
        "    \"Summarize that in exactly 3 bullet points.\"\n",
        "]\n",
        "\n",
        "for q in conversation:\n",
        "    optimized_prompt = f\"{context}\\nUser: {q}\\nAI:\"\n",
        "    response = generate_response(optimized_prompt)\n",
        "    print(f\"Q: {q}\\nAI: {response}\\n\")\n",
        "    context += f\"\\nUser: {q}\\nAI: {response}\"\n"
      ],
      "metadata": {
        "id": "X-mTOdvlNsds",
        "outputId": "b604c5db-2194-4e61-f6cd-5b3325db7a05",
        "colab": {
          "base_uri": "https://localhost:8080/"
        }
      },
      "execution_count": null,
      "outputs": [
        {
          "output_type": "stream",
          "name": "stdout",
          "text": [
            "Q: Explain quantum computing to someone who knows basic high school physics.\n",
            "AI: Sure! Let’s break it down in simple terms.\n",
            "\n",
            "### Classical Computers\n",
            "First, think about a classical computer (like the one you're using). It processes information using bits, which can be either a 0 or a 1. All the tasks your computer performs—like browsing the internet or playing video games—are based on manipulating these bits.\n",
            "\n",
            "### Quantum Bits (Qubits)\n",
            "Now, quantum computing introduces a new kind of bit called a **qubit**. Unlike a regular bit, a qubit can be both 0 and 1 at the same time due to a property called **superposition**. Imagine a spinning coin: while it’s spinning, it's not just heads or tails; it’s in a state that could be considered both until you stop it and look. This allows quantum computers to process a vast amount of possibilities simultaneously.\n",
            "\n",
            "### Entanglement\n",
            "Another key feature of quantum computing is **entanglement**. When qubits become entangled, the state of one qubit is instantly related to the state of another, no matter how far apart they are. This means that changing one qubit will affect the other, allowing for complex correlations and enabling powerful computations.\n",
            "\n",
            "### Quantum Gates\n",
            "Just like classical computers use logic gates to perform operations on bits, quantum computers use **quantum gates** to perform operations on qubits. These gates manipulate the probabilities of a qubit being in a certain state, allowing for intricate calculations that would be infeasible for classical computers.\n",
            "\n",
            "### Why It Matters\n",
            "So, why is this important? Quantum computers have the potential to solve certain types of problems much faster than classical computers. For example, they could efficiently factor large numbers (important for cryptography), simulate molecular interactions (helpful in chemistry and material science), and optimize complex systems (like supply chains or financial models).\n",
            "\n",
            "### Summary\n",
            "In summary, quantum computing takes advantage of the strange and fascinating principles of quantum mechanics—like superposition and entanglement—to perform computations in ways that traditional computers cannot. While we are still in the early stages of developing practical quantum computers, the potential applications could revolutionize fields from cryptography to medicine.\n",
            "\n",
            "Q: Can you give 2 real-world use cases?\n",
            "AI: Absolutely! Here are two real-world use cases of quantum computing:\n",
            "\n",
            "### 1. Drug Discovery and Molecular Simulation\n",
            "Quantum computing can significantly advance the field of drug discovery and molecular simulation. Classical computers struggle to simulate complex molecules and chemical reactions due to the vast number of variables involved. Quantum computers, with their ability to handle multiple states simultaneously through superposition, can model the behavior of molecules at the quantum level more efficiently. \n",
            "\n",
            "For example, companies like IBM and Google are working on using quantum computers to predict how different drugs will interact with specific proteins in the body. This could lead to faster and more effective drug development, reducing the time and cost associated with bringing new medications to market.\n",
            "\n",
            "### 2. Cryptography and Cybersecurity\n",
            "Quantum computing poses both a challenge and an opportunity in the field of cryptography. Many current encryption methods, such as RSA, rely on the difficulty of factoring large numbers, which classical computers find challenging. However, quantum computers can potentially break these encryption schemes using algorithms like Shor's algorithm, which can factor large numbers exponentially faster than classical methods.\n",
            "\n",
            "On the flip side, quantum computing also paves the way for developing new, more secure encryption methods based on quantum principles. For instance, quantum key distribution (QKD) uses the principles of quantum mechanics to create secure communication channels. Any attempt to eavesdrop on a quantum communication would disturb the quantum states, alerting the parties involved to the breach. This could lead to a new era of secure communications in sectors such as banking, national security, and personal data protection.\n",
            "\n",
            "These examples illustrate how quantum computing could transform industries by solving complex problems that are currently beyond the reach of classical computing.\n",
            "\n",
            "Q: Summarize that in exactly 3 bullet points.\n",
            "AI: - **Drug Discovery**: Quantum computing can accelerate drug discovery by efficiently simulating complex molecular interactions, leading to faster and more effective development of new medications.\n",
            "\n",
            "- **Cryptography**: While quantum computers could potentially break current encryption methods (like RSA), they also enable the creation of new, more secure encryption techniques, such as quantum key distribution (QKD) that detect eavesdropping.\n",
            "\n",
            "- **Transformative Potential**: These advancements in quantum computing have the potential to revolutionize industries by solving complex problems that classical computers cannot efficiently tackle.\n",
            "\n"
          ]
        }
      ]
    }
  ],
  "metadata": {
    "colab": {
      "provenance": []
    },
    "kernelspec": {
      "display_name": "Python 3",
      "name": "python3"
    }
  },
  "nbformat": 4,
  "nbformat_minor": 0
}