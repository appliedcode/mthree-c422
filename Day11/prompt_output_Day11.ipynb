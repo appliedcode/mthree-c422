{
  "cells": [
    {
      "cell_type": "markdown",
      "source": [
        "# 🧪 Colab Lab: Mastering Prompt Structure\n",
        "\n"
      ],
      "metadata": {
        "id": "hFnkDgKDTUgk"
      }
    },
    {
      "cell_type": "code",
      "source": [
        "!pip install --quiet openai\n",
        "\n",
        "from google.colab import userdata\n",
        "import os\n",
        "from openai import OpenAI\n",
        "\n",
        "api_key = userdata.get('OPENAI_API_KEY')\n",
        "if not api_key:\n",
        "    raise ValueError(\"❌ API key not found. Please set with userdata.set(...)\")\n",
        "\n",
        "os.environ[\"OPENAI_API_KEY\"] = api_key\n",
        "client = OpenAI(api_key=os.environ[\"OPENAI_API_KEY\"])\n"
      ],
      "metadata": {
        "id": "b-MrRDkKZxI6"
      },
      "execution_count": 6,
      "outputs": []
    },
    {
      "cell_type": "code",
      "source": [
        "# Setup\n",
        "def gpt_request(prompt, model=\"gpt-4o-mini\", temperature=0.7):\n",
        "    \"\"\"Send a prompt to GPT-4o-mini and return the response\"\"\"\n",
        "    response = client.chat.completions.create(\n",
        "        model=model,\n",
        "        messages=[{\"role\": \"user\", \"content\": prompt}],\n",
        "        temperature=temperature,\n",
        "        max_tokens=1000\n",
        "    )\n",
        "    return response.choices[0].message.content\n",
        "\n",
        "# Test the connection\n",
        "print(\"✅ Connected to GPT-4o-mini!\")\n",
        "print(gpt_request(\"Say hello and confirm you are GPT-4o-mini\"))"
      ],
      "metadata": {
        "id": "AMu0nG8RUleT",
        "colab": {
          "base_uri": "https://localhost:8080/"
        },
        "outputId": "e1108124-6cff-4bc0-81ea-c34d683eb9c6"
      },
      "execution_count": 7,
      "outputs": [
        {
          "output_type": "stream",
          "name": "stdout",
          "text": [
            "✅ Connected to GPT-4o-mini!\n",
            "Hello! I am GPT-4, here to assist you. How can I help you today?\n"
          ]
        }
      ]
    },
    {
      "cell_type": "markdown",
      "source": [
        "# Exercise 1: Text Generation"
      ],
      "metadata": {
        "id": "5-bxrnHZUcZ_"
      }
    },
    {
      "cell_type": "code",
      "source": [
        "# Part A: Explanation\n",
        "prompt = \"Explain quantum computing to a 12-year-old in simple terms.\"\n",
        "response = gpt_request(prompt)\n",
        "print(\"🧒 For 12-year-old:\")\n",
        "print(response)\n",
        "print(\"\\n\" + \"=\"*50 + \"\\n\")\n",
        "\n",
        "# Student Task: Try different age groups\n",
        "prompt_5yr = \"Explain quantum computing to a 5-year-old in very simple terms.\"\n",
        "response_5yr = gpt_request(prompt_5yr)\n",
        "print(\"👶 For 5-year-old:\")\n",
        "print(response_5yr)\n",
        "print(\"\\n\" + \"=\"*50 + \"\\n\")\n",
        "\n",
        "prompt_college = \"Explain quantum computing to a college student studying computer science.\"\n",
        "response_college = gpt_request(prompt_college)\n",
        "print(\"🎓 For college student:\")\n",
        "print(response_college)\n"
      ],
      "metadata": {
        "id": "RhihJQzaUdlH",
        "colab": {
          "base_uri": "https://localhost:8080/"
        },
        "outputId": "db7dea5f-beb6-42ac-fece-aecdc3e8328f"
      },
      "execution_count": 8,
      "outputs": [
        {
          "output_type": "stream",
          "name": "stdout",
          "text": [
            "🧒 For 12-year-old:\n",
            "Sure! Imagine you have a really powerful computer, but instead of using regular bits (like tiny switches that can be either off or on), it uses special bits called qubits. \n",
            "\n",
            "In a regular computer, each bit can only be a 0 or a 1. But a qubit can be both 0 and 1 at the same time, thanks to something called superposition. You can think of it like spinning a coin: while it’s spinning, it’s kind of both heads and tails at the same time!\n",
            "\n",
            "Now, because qubits can be in more than one state at once, quantum computers can do many calculations at the same time. This makes them really good at solving certain types of problems much faster than regular computers.\n",
            "\n",
            "Also, qubits can be linked together in a special way called entanglement. When qubits are entangled, changing one qubit can instantly change another, no matter how far apart they are. It's like having two magic coins that know what the other one is showing, even if you put one in your pocket and the other in a different room!\n",
            "\n",
            "So, in short, quantum computing is like having a super-smart computer that uses the special rules of quantum physics to think in ways that regular computers can’t, making it really powerful for specific problems.\n",
            "\n",
            "==================================================\n",
            "\n",
            "👶 For 5-year-old:\n",
            "Okay! Imagine you have a really big box of LEGO blocks. When you want to build something, you can either use one block at a time or you can use a special magic block that lets you use lots of blocks all at once. \n",
            "\n",
            "Regular computers are like using one block at a time. They work on one thing at a time, pretty fast, but still one by one. \n",
            "\n",
            "Quantum computers are like using that magic block. They can look at many things at the same time! This makes them super powerful for solving big problems, like puzzles, much faster than regular computers. \n",
            "\n",
            "So, quantum computers are like magic LEGO builders that can do lots of cool things all at once!\n",
            "\n",
            "==================================================\n",
            "\n",
            "🎓 For college student:\n",
            "Sure! Quantum computing is a fascinating and advanced area of computing that leverages the principles of quantum mechanics to process information in fundamentally different ways than classical computers. Here’s a breakdown to help you understand the key concepts:\n",
            "\n",
            "### Classical vs. Quantum Bits\n",
            "1. **Classical Bits**: In classical computing, information is processed using bits, which can exist in one of two states: 0 or 1. All operations, computations, and data storage are based on these binary states.\n",
            "\n",
            "2. **Quantum Bits (Qubits)**: Quantum computers use qubits, which can exist not only in the states 0 and 1 but also in superpositions of both states simultaneously. This means a qubit can be in a state represented as a combination of 0 and 1, which is mathematically described using complex numbers. \n",
            "\n",
            "### Superposition\n",
            "- **Superposition** is a fundamental principle of quantum mechanics that allows a quantum system to be in multiple states at once. For example, a single qubit can be in a state that is 70% 0 and 30% 1 at the same time. This property enables quantum computers to process a vast amount of information simultaneously.\n",
            "\n",
            "### Entanglement\n",
            "- **Entanglement** is another key concept in quantum mechanics. When qubits become entangled, the state of one qubit becomes dependent on the state of another, no matter the distance between them. This means that measuring one qubit will instantly affect the state of the other entangled qubit. This property can be used to create highly efficient algorithms and communication channels.\n",
            "\n",
            "### Quantum Gates and Circuits\n",
            "- Just like classical computers use logic gates (AND, OR, NOT) to perform operations on bits, quantum computers use **quantum gates** to manipulate qubits. These gates operate on the principles of superposition and entanglement to perform computations. A quantum circuit is a sequence of quantum gates applied to qubits.\n",
            "\n",
            "### Quantum Algorithms\n",
            "- Quantum computing enables the development of algorithms that can solve certain problems much faster than classical algorithms. Some well-known quantum algorithms include:\n",
            "  - **Shor's Algorithm**: Efficiently factors large integers, which has implications for cryptography.\n",
            "  - **Grover's Algorithm**: Provides a quadratic speedup for unstructured search problems.\n",
            "\n",
            "### Quantum Speedup\n",
            "- The most exciting aspect of quantum computing is its potential for **quantum speedup**, where quantum algorithms can outperform their classical counterparts for specific tasks. For example, problems that are intractable for classical computers (like simulating quantum systems) might be efficiently solved by quantum computers.\n",
            "\n",
            "### Challenges\n",
            "- Despite its promise, quantum computing faces significant challenges:\n",
            "  - **Decoherence**: Qubits are very sensitive to their environment, and interactions can cause them to lose their quantum properties.\n",
            "  - **Error Rates**: Quantum operations can introduce errors, and developing efficient error correction methods is crucial.\n",
            "  - **Scalability**: Building large-scale quantum computers with enough qubits to solve practical problems remains an ongoing research challenge.\n",
            "\n",
            "### Applications\n",
            "- Potential applications of quantum computing include:\n",
            "  - Cryptography (breaking existing encryption methods)\n",
            "  - Optimization problems in logistics and finance\n",
            "  - Drug discovery and materials science through quantum simulations\n",
            "  - Machine learning enhancements\n",
            "\n",
            "### Conclusion\n",
            "In summary, quantum computing harnesses the unique properties of quantum mechanics to process information in ways that classical computers cannot. While still in its early stages, the field holds great promise for revolutionizing various industries by solving complex problems that are currently beyond our reach. As a computer science student, understanding the principles of quantum computing will prepare you for future advancements in technology.\n"
          ]
        }
      ]
    },
    {
      "cell_type": "code",
      "source": [
        "# Part B: Short Essay\n",
        "prompt = \"Write a 150-word essay on the importance of clean water access worldwide.\"\n",
        "response = gpt_request(prompt)\n",
        "print(\"📝 Clean Water Essay:\")\n",
        "print(response)\n",
        "print(f\"\\nWord count: {len(response.split())}\")\n"
      ],
      "metadata": {
        "id": "GUFaHPxGUo05",
        "colab": {
          "base_uri": "https://localhost:8080/"
        },
        "outputId": "e281172f-bace-4117-9934-48ecec17897a"
      },
      "execution_count": 9,
      "outputs": [
        {
          "output_type": "stream",
          "name": "stdout",
          "text": [
            "📝 Clean Water Essay:\n",
            "Access to clean water is a fundamental human right and a crucial component for health, development, and economic growth worldwide. Approximately 2 billion people lack reliable access to safe drinking water, leading to devastating consequences for public health. Contaminated water sources contribute to the spread of waterborne diseases, such as cholera and dysentery, disproportionately affecting vulnerable populations, particularly children. \n",
            "\n",
            "Clean water is essential for sanitation and hygiene practices, which are vital in preventing disease transmission. Furthermore, access to safe water supports agricultural productivity and food security, as it is necessary for irrigation and livestock. Economically, communities with reliable water sources can thrive, as businesses and industries depend on clean water for their operations.\n",
            "\n",
            "International efforts to improve water access, such as the United Nations Sustainable Development Goals, highlight the urgent need for global collaboration. Ensuring everyone has access to clean water not only promotes health and dignity but also fosters sustainable development and prosperity for all societies.\n",
            "\n",
            "Word count: 157\n"
          ]
        }
      ]
    },
    {
      "cell_type": "code",
      "source": [
        "# Part C: Email Draft\n",
        "prompt = \"\"\"Write a formal email to Professor Johnson requesting a 3-day extension\n",
        "on the final project due to illness. Include appropriate subject line.\"\"\"\n",
        "response = gpt_request(prompt)\n",
        "print(\"📧 Email Draft:\")\n",
        "print(response)\n"
      ],
      "metadata": {
        "id": "ZgVryP2JUqcr",
        "colab": {
          "base_uri": "https://localhost:8080/"
        },
        "outputId": "f205daec-4faf-430e-e7ae-4bd3a5d8b0ed"
      },
      "execution_count": 10,
      "outputs": [
        {
          "output_type": "stream",
          "name": "stdout",
          "text": [
            "📧 Email Draft:\n",
            "Subject: Request for Extension on Final Project Due to Illness\n",
            "\n",
            "Dear Professor Johnson,\n",
            "\n",
            "I hope this message finds you well. I am writing to formally request a three-day extension on the final project for your course, which is currently due on [original due date]. Unfortunately, I have been experiencing health issues that have hindered my ability to complete the project to the best of my abilities.\n",
            "\n",
            "I understand the importance of adhering to deadlines, and I assure you that this request is not made lightly. I have been in touch with my healthcare provider and am following their guidance to recover as quickly as possible. \n",
            "\n",
            "If granted the extension, I am confident that I will be able to produce work that meets the standards of your course. I would greatly appreciate your understanding and support during this challenging time.\n",
            "\n",
            "Thank you for considering my request. I look forward to your response.\n",
            "\n",
            "Sincerely,  \n",
            "[Your Name]  \n",
            "[Your Student ID]  \n",
            "[Your Course Name]  \n",
            "[Your Contact Information]  \n"
          ]
        }
      ]
    },
    {
      "cell_type": "markdown",
      "source": [
        "# Exercise 2: Code Output\n"
      ],
      "metadata": {
        "id": "IZvZM7Z4UuVf"
      }
    },
    {
      "cell_type": "code",
      "source": [
        "# Part A: Code Generation\n",
        "prompt = \"Write Python code to merge two sorted lists into one sorted list. Include comments and example usage.\"\n",
        "response = gpt_request(prompt)\n",
        "print(\"💻 Merge Sorted Lists:\")\n",
        "print(response)\n"
      ],
      "metadata": {
        "id": "CFMuWmtSUvj0",
        "colab": {
          "base_uri": "https://localhost:8080/"
        },
        "outputId": "a5cd2dcf-89a3-4770-c496-cae49c89c75a"
      },
      "execution_count": 11,
      "outputs": [
        {
          "output_type": "stream",
          "name": "stdout",
          "text": [
            "💻 Merge Sorted Lists:\n",
            "Certainly! Below is a Python code snippet that merges two sorted lists into one sorted list while maintaining the sorted order. I've included comments to explain each step and an example usage at the end.\n",
            "\n",
            "```python\n",
            "def merge_sorted_lists(list1, list2):\n",
            "    \"\"\"\n",
            "    Merges two sorted lists into one sorted list.\n",
            "    \n",
            "    Parameters:\n",
            "    list1 (list): The first sorted list.\n",
            "    list2 (list): The second sorted list.\n",
            "    \n",
            "    Returns:\n",
            "    list: A new sorted list containing all elements from list1 and list2.\n",
            "    \"\"\"\n",
            "    \n",
            "    # Initialize pointers for list1 and list2\n",
            "    i, j = 0, 0\n",
            "    merged_list = []  # This will hold the merged output\n",
            "\n",
            "    # Traverse both lists and append the smaller element to merged_list\n",
            "    while i < len(list1) and j < len(list2):\n",
            "        if list1[i] < list2[j]:\n",
            "            merged_list.append(list1[i])\n",
            "            i += 1  # Move the pointer in list1\n",
            "        else:\n",
            "            merged_list.append(list2[j])\n",
            "            j += 1  # Move the pointer in list2\n",
            "\n",
            "    # If there are remaining elements in list1, add them to merged_list\n",
            "    while i < len(list1):\n",
            "        merged_list.append(list1[i])\n",
            "        i += 1\n",
            "\n",
            "    # If there are remaining elements in list2, add them to merged_list\n",
            "    while j < len(list2):\n",
            "        merged_list.append(list2[j])\n",
            "        j += 1\n",
            "\n",
            "    return merged_list\n",
            "\n",
            "# Example usage\n",
            "if __name__ == \"__main__\":\n",
            "    list1 = [1, 3, 5, 7]\n",
            "    list2 = [2, 4, 6, 8]\n",
            "    \n",
            "    merged = merge_sorted_lists(list1, list2)\n",
            "    print(\"Merged sorted list:\", merged)\n",
            "```\n",
            "\n",
            "### Explanation:\n",
            "1. **Function Definition**: `merge_sorted_lists` takes two sorted lists as input.\n",
            "2. **Pointers**: We use two pointers `i` and `j` to traverse through `list1` and `list2`, respectively.\n",
            "3. **Merging Logic**: We compare the elements pointed to by `i` and `j`. The smaller element is appended to the `merged_list`, and the corresponding pointer is incremented.\n",
            "4. **Remaining Elements**: After the main loop, we check if there are any remaining elements in either list and append them to the `merged_list`.\n",
            "5. **Return Value**: The function returns the merged sorted list.\n",
            "6. **Example Usage**: The example at the bottom shows how to use the function and prints the merged list.\n",
            "\n",
            "When you run the code, it will merge the two provided sorted lists and display the output.\n"
          ]
        }
      ]
    },
    {
      "cell_type": "code",
      "source": [
        "# Part B: Code Refactoring\n",
        "original_code = \"\"\"\n",
        "def add(a,b):\n",
        "    return a+b\n",
        "\n",
        "def multiply(x,y):\n",
        "    return x*y\n",
        "\"\"\"\n",
        "\n",
        "prompt = f\"\"\"Refactor the following Python code to:\n",
        "1. Add proper docstrings\n",
        "2. Add type hints\n",
        "3. Add input validation\n",
        "4. Follow PEP 8 style guidelines\n",
        "\n",
        "Original code:\n",
        "{original_code}\"\"\"\n",
        "\n",
        "response = gpt_request(prompt)\n",
        "print(\"🔧 Refactored Code:\")\n",
        "print(response)\n"
      ],
      "metadata": {
        "id": "38TViMG-Ux0e",
        "colab": {
          "base_uri": "https://localhost:8080/"
        },
        "outputId": "ad6f78d6-2d80-44f9-c648-597d3e33682f"
      },
      "execution_count": 12,
      "outputs": [
        {
          "output_type": "stream",
          "name": "stdout",
          "text": [
            "🔧 Refactored Code:\n",
            "Here is the refactored version of the provided Python code, incorporating proper docstrings, type hints, input validation, and adherence to PEP 8 style guidelines.\n",
            "\n",
            "```python\n",
            "def add(a: float, b: float) -> float:\n",
            "    \"\"\"Return the sum of two numbers.\n",
            "\n",
            "    Args:\n",
            "        a (float): The first number to add.\n",
            "        b (float): The second number to add.\n",
            "\n",
            "    Returns:\n",
            "        float: The sum of a and b.\n",
            "\n",
            "    Raises:\n",
            "        ValueError: If a or b is not a number.\n",
            "    \"\"\"\n",
            "    if not isinstance(a, (int, float)) or not isinstance(b, (int, float)):\n",
            "        raise ValueError(\"Both a and b must be numbers.\")\n",
            "    \n",
            "    return a + b\n",
            "\n",
            "\n",
            "def multiply(x: float, y: float) -> float:\n",
            "    \"\"\"Return the product of two numbers.\n",
            "\n",
            "    Args:\n",
            "        x (float): The first number to multiply.\n",
            "        y (float): The second number to multiply.\n",
            "\n",
            "    Returns:\n",
            "        float: The product of x and y.\n",
            "\n",
            "    Raises:\n",
            "        ValueError: If x or y is not a number.\n",
            "    \"\"\"\n",
            "    if not isinstance(x, (int, float)) or not isinstance(y, (int, float)):\n",
            "        raise ValueError(\"Both x and y must be numbers.\")\n",
            "    \n",
            "    return x * y\n",
            "```\n",
            "\n",
            "### Changes Made:\n",
            "1. **Docstrings**: Added clear descriptions of the functions, their arguments, return values, and potential exceptions.\n",
            "2. **Type Hints**: Specified types for the parameters and return values.\n",
            "3. **Input Validation**: Added checks to ensure that inputs are numbers (either `int` or `float`).\n",
            "4. **PEP 8 Compliance**: Ensured consistent formatting and spacing according to PEP 8 guidelines.\n"
          ]
        }
      ]
    },
    {
      "cell_type": "code",
      "source": [
        "# Part C: Code Debugging\n",
        "buggy_code = \"\"\"\n",
        "def factorial(n):\n",
        "    if n == 0:\n",
        "        return 0  # This is wrong!\n",
        "    else:\n",
        "        return n * factorial(n-1)\n",
        "\n",
        "# Test\n",
        "print(factorial(5))  # Should be 120, but returns 0\n",
        "\"\"\"\n",
        "\n",
        "prompt = f\"\"\"Find and fix the bug in this Python factorial function.\n",
        "Explain what was wrong and provide the corrected version:\n",
        "\n",
        "{buggy_code}\"\"\"\n",
        "\n",
        "response = gpt_request(prompt)\n",
        "print(\"🐛 Debug Analysis:\")\n",
        "print(response)\n"
      ],
      "metadata": {
        "id": "QgUStZaOUzzV",
        "colab": {
          "base_uri": "https://localhost:8080/"
        },
        "outputId": "c3202e69-bf38-4e4f-8a0a-5a239a88ec9d"
      },
      "execution_count": 13,
      "outputs": [
        {
          "output_type": "stream",
          "name": "stdout",
          "text": [
            "🐛 Debug Analysis:\n",
            "The bug in the provided `factorial` function is in the base case. The function currently returns `0` when `n` is `0`, which is incorrect. The factorial of `0` is defined to be `1`, not `0`. This mistake leads to incorrect results when calculating the factorial of any positive integer, as it will eventually reach the base case and return `0`.\n",
            "\n",
            "Here’s the corrected version of the function:\n",
            "\n",
            "```python\n",
            "def factorial(n):\n",
            "    if n == 0:\n",
            "        return 1  # Corrected: factorial of 0 is 1\n",
            "    else:\n",
            "        return n * factorial(n - 1)\n",
            "\n",
            "# Test\n",
            "print(factorial(5))  # Should return 120\n",
            "```\n",
            "\n",
            "### Explanation:\n",
            "- The original function returns `0` when `n` is `0`, which violates the mathematical definition of factorial. The correct base case for the factorial function should return `1` when `n` is `0`, since \\(0! = 1\\).\n",
            "- The recursive formula remains the same, where the function calls itself with `n - 1` until it reaches the base case.\n",
            "\n",
            "With this fix, the output of `factorial(5)` will now correctly return `120`.\n"
          ]
        }
      ]
    },
    {
      "cell_type": "markdown",
      "source": [
        "# Exercise 3: Summarization\n"
      ],
      "metadata": {
        "id": "K1Fs8-fkU2Qy"
      }
    },
    {
      "cell_type": "code",
      "source": [
        "# # Sample text for summarization\n",
        "article_text = \"\"\"\n",
        "Artificial intelligence has transformed numerous industries in recent years, from healthcare to finance to transportation.\n",
        "Machine learning algorithms can now diagnose diseases with accuracy comparable to human doctors, detect fraudulent\n",
        "financial transactions in real-time, and enable self-driving cars to navigate complex urban environments. However,\n",
        "these advances come with significant challenges including job displacement, privacy concerns, and algorithmic bias.\n",
        "Companies and governments are working to address these issues through regulation, retraining programs, and ethical AI\n",
        "frameworks. The future of AI development will likely depend on balancing innovation with responsible implementation\n",
        "that considers societal impact and ensures equitable benefits for all.\n",
        "\"\"\"\n",
        "\n",
        "# Extractive Summary\n",
        "prompt_extractive = f\"\"\"Create an extractive summary of the following text by selecting\n",
        "the most important sentences directly from the original:\n",
        "\n",
        "{article_text}\"\"\"\n",
        "\n",
        "extractive_summary = gpt_request(prompt_extractive)\n",
        "print(\"📋 Extractive Summary:\")\n",
        "print(extractive_summary)\n",
        "print(\"\\n\" + \"=\"*50 + \"\\n\")\n",
        "\n",
        "# Abstractive Summary\n",
        "prompt_abstractive = f\"\"\"Create an abstractive summary of the following text by\n",
        "rewriting the key points in your own words (2-3 sentences):\n",
        "\n",
        "{article_text}\"\"\"\n",
        "\n",
        "abstractive_summary = gpt_request(prompt_abstractive)\n",
        "print(\"✍️ Abstractive Summary:\")\n",
        "print(abstractive_summary)\n"
      ],
      "metadata": {
        "id": "5aHVZWmEU4Cw",
        "colab": {
          "base_uri": "https://localhost:8080/"
        },
        "outputId": "6e5619de-0233-446a-e010-fd8611c61e6b"
      },
      "execution_count": 14,
      "outputs": [
        {
          "output_type": "stream",
          "name": "stdout",
          "text": [
            "📋 Extractive Summary:\n",
            "Artificial intelligence has transformed numerous industries in recent years, from healthcare to finance to transportation. However, these advances come with significant challenges including job displacement, privacy concerns, and algorithmic bias. Companies and governments are working to address these issues through regulation, retraining programs, and ethical AI frameworks. The future of AI development will likely depend on balancing innovation with responsible implementation that considers societal impact and ensures equitable benefits for all.\n",
            "\n",
            "==================================================\n",
            "\n",
            "✍️ Abstractive Summary:\n",
            "Recent advancements in artificial intelligence have revolutionized various sectors, including healthcare, finance, and transportation, with machine learning achieving human-like accuracy in tasks such as disease diagnosis and fraud detection. Nevertheless, these innovations pose challenges like job loss, privacy issues, and algorithmic bias. To tackle these concerns, stakeholders are focusing on regulations, retraining initiatives, and ethical frameworks, emphasizing the need to balance technological progress with responsible practices that promote fairness and societal well-being.\n"
          ]
        }
      ]
    },
    {
      "cell_type": "markdown",
      "source": [
        "# Exercise 4: Classification / Labeling\n"
      ],
      "metadata": {
        "id": "fmHJfP84U7iI"
      }
    },
    {
      "cell_type": "code",
      "source": [
        "# Movie reviews for sentiment classification\n",
        "reviews = [\n",
        "    \"This movie was absolutely incredible! The acting was phenomenal and the plot kept me engaged throughout.\",\n",
        "    \"Boring and predictable. I fell asleep halfway through and didn't miss anything important.\",\n",
        "    \"It was okay. Some good moments but overall just average. Nothing special but not terrible either.\",\n",
        "    \"Waste of money and time. Poor dialogue, terrible acting, and nonsensical plot.\",\n",
        "    \"A masterpiece! This film will be remembered as one of the greatest of all time.\"\n",
        "]\n",
        "\n",
        "prompt = \"\"\"Classify each of the following movie reviews as either:\n",
        "- POSITIVE (clearly positive sentiment)\n",
        "- NEGATIVE (clearly negative sentiment)\n",
        "- NEUTRAL (mixed or neutral sentiment)\n",
        "\n",
        "Format your response as:\n",
        "Review 1: [CLASSIFICATION] - [Brief reason]\n",
        "Review 2: [CLASSIFICATION] - [Brief reason]\n",
        "etc.\n",
        "\n",
        "Reviews:\n",
        "\"\"\" + \"\\n\".join([f\"{i+1}. {review}\" for i, review in enumerate(reviews)])\n",
        "\n",
        "response = gpt_request(prompt)\n",
        "print(\"🏷️ Sentiment Classification:\")\n",
        "print(response)\n"
      ],
      "metadata": {
        "id": "FlO688UdU6jz",
        "colab": {
          "base_uri": "https://localhost:8080/"
        },
        "outputId": "6cb9fd27-3244-4bdd-e63b-bd5f78ccacf3"
      },
      "execution_count": 15,
      "outputs": [
        {
          "output_type": "stream",
          "name": "stdout",
          "text": [
            "🏷️ Sentiment Classification:\n",
            "Review 1: POSITIVE - The review expresses strong enthusiasm and praise for the acting and plot.  \n",
            "Review 2: NEGATIVE - The reviewer expresses clear dissatisfaction, highlighting boredom and lack of engagement.  \n",
            "Review 3: NEUTRAL - The review is mixed, acknowledging some good moments but ultimately deeming the movie average.  \n",
            "Review 4: NEGATIVE - The review strongly criticizes multiple aspects of the film, indicating a very negative experience.  \n",
            "Review 5: POSITIVE - The review conveys high praise and regards the film as a significant work of art.\n"
          ]
        }
      ]
    },
    {
      "cell_type": "markdown",
      "source": [
        "# Exercise 5: Tables / JSON Output\n"
      ],
      "metadata": {
        "id": "5P6VmvMMU-PS"
      }
    },
    {
      "cell_type": "code",
      "source": [
        "# Part A: Table Format\n",
        "prompt = \"\"\"Create a comparison table for three types of renewable energy: Solar, Wind, and Hydroelectric.\n",
        "Compare them across these dimensions:\n",
        "- Initial cost (High/Medium/Low)\n",
        "- Maintenance requirements\n",
        "- Environmental impact\n",
        "- Reliability\n",
        "- Best suited locations\n",
        "\n",
        "Format as a clear table with proper headers.\"\"\"\n",
        "\n",
        "response = gpt_request(prompt)\n",
        "print(\"📊 Renewable Energy Comparison Table:\")\n",
        "print(response)\n"
      ],
      "metadata": {
        "id": "SCKtK-bOU_u8",
        "colab": {
          "base_uri": "https://localhost:8080/"
        },
        "outputId": "c3807d90-8ed7-4967-c638-0db9262d4cb7"
      },
      "execution_count": 16,
      "outputs": [
        {
          "output_type": "stream",
          "name": "stdout",
          "text": [
            "📊 Renewable Energy Comparison Table:\n",
            "Here's a comparison table for Solar, Wind, and Hydroelectric renewable energy sources:\n",
            "\n",
            "| Dimension                | Solar                | Wind                 | Hydroelectric        |\n",
            "|--------------------------|----------------------|----------------------|----------------------|\n",
            "| **Initial Cost**         | Medium               | Medium               | High                 |\n",
            "| **Maintenance Requirements** | Low                  | Medium               | Medium               |\n",
            "| **Environmental Impact** | Low (land use issues) | Medium (bird/bat impact) | Low (fish habitat issues) |\n",
            "| **Reliability**          | Moderate (weather-dependent) | Moderate (weather-dependent) | High (consistent power generation) |\n",
            "| **Best Suited Locations**| Sunny regions        | Windy areas (coasts, plains) | River valleys, areas with significant water flow |\n",
            "\n",
            "This table provides a concise overview of the three types of renewable energy across the specified dimensions.\n"
          ]
        }
      ]
    },
    {
      "cell_type": "code",
      "source": [
        "# Part B: JSON Format\n",
        "prompt = \"\"\"Generate a JSON object containing information about 5 programming languages.\n",
        "For each language include:\n",
        "- name\n",
        "- year_created\n",
        "- primary_use_case\n",
        "- difficulty_level (1-10 scale)\n",
        "- popular_frameworks (array of 2-3 frameworks)\n",
        "\n",
        "Ensure valid JSON format.\"\"\"\n",
        "\n",
        "response = gpt_request(prompt, temperature=0.3)  # Lower temperature for structured output\n",
        "print(\"🗂️ Programming Languages JSON:\")\n",
        "print(response)\n",
        "\n",
        "# Optional: Validate JSON\n",
        "try:\n",
        "    import json\n",
        "    parsed = json.loads(response)\n",
        "    print(\"\\n✅ Valid JSON format!\")\n",
        "except json.JSONDecodeError:\n",
        "    print(\"\\n❌ Invalid JSON format - needs fixing\")\n"
      ],
      "metadata": {
        "id": "Nln1L6ddVB45",
        "colab": {
          "base_uri": "https://localhost:8080/"
        },
        "outputId": "757c70af-7811-4eae-8e26-cdc7a389fb76"
      },
      "execution_count": 17,
      "outputs": [
        {
          "output_type": "stream",
          "name": "stdout",
          "text": [
            "🗂️ Programming Languages JSON:\n",
            "```json\n",
            "{\n",
            "  \"programming_languages\": [\n",
            "    {\n",
            "      \"name\": \"Python\",\n",
            "      \"year_created\": 1991,\n",
            "      \"primary_use_case\": \"Web Development, Data Science, Automation\",\n",
            "      \"difficulty_level\": 3,\n",
            "      \"popular_frameworks\": [\"Django\", \"Flask\", \"Pandas\"]\n",
            "    },\n",
            "    {\n",
            "      \"name\": \"JavaScript\",\n",
            "      \"year_created\": 1995,\n",
            "      \"primary_use_case\": \"Web Development, Mobile Apps\",\n",
            "      \"difficulty_level\": 4,\n",
            "      \"popular_frameworks\": [\"React\", \"Angular\", \"Vue.js\"]\n",
            "    },\n",
            "    {\n",
            "      \"name\": \"Java\",\n",
            "      \"year_created\": 1995,\n",
            "      \"primary_use_case\": \"Enterprise Applications, Android Development\",\n",
            "      \"difficulty_level\": 6,\n",
            "      \"popular_frameworks\": [\"Spring\", \"Hibernate\", \"JavaServer Faces\"]\n",
            "    },\n",
            "    {\n",
            "      \"name\": \"C++\",\n",
            "      \"year_created\": 1985,\n",
            "      \"primary_use_case\": \"System Software, Game Development\",\n",
            "      \"difficulty_level\": 7,\n",
            "      \"popular_frameworks\": [\"Qt\", \"Boost\", \"Cinder\"]\n",
            "    },\n",
            "    {\n",
            "      \"name\": \"Ruby\",\n",
            "      \"year_created\": 1995,\n",
            "      \"primary_use_case\": \"Web Development\",\n",
            "      \"difficulty_level\": 5,\n",
            "      \"popular_frameworks\": [\"Ruby on Rails\", \"Sinatra\", \"Hanami\"]\n",
            "    }\n",
            "  ]\n",
            "}\n",
            "```\n",
            "\n",
            "❌ Invalid JSON format - needs fixing\n"
          ]
        }
      ]
    },
    {
      "cell_type": "markdown",
      "source": [
        "# Exercise 6: Evaluation / Comparison\n"
      ],
      "metadata": {
        "id": "JLGVEONLVEa3"
      }
    },
    {
      "cell_type": "code",
      "source": [
        "# Two explanations of the same concept\n",
        "explanation_1 = \"\"\"\n",
        "Photosynthesis is when plants use sunlight to make food. The green parts of plants, called chlorophyll,\n",
        "capture sunlight and use it along with water and carbon dioxide to create glucose, which is plant food.\n",
        "Oxygen is released as a waste product, which is lucky for us because we need oxygen to breathe.\n",
        "\"\"\"\n",
        "\n",
        "explanation_2 = \"\"\"\n",
        "Photosynthesis is a complex biochemical process where chloroplasts in plant cells convert light energy\n",
        "into chemical energy. The process involves light-dependent reactions in the thylakoids and the Calvin\n",
        "cycle in the stroma, ultimately producing glucose through carbon fixation while releasing oxygen as\n",
        "a byproduct of water photolysis.\n",
        "\"\"\"\n",
        "\n",
        "prompt = f\"\"\"Compare these two explanations of photosynthesis and evaluate them based on:\n",
        "1. Clarity and accessibility\n",
        "2. Scientific accuracy\n",
        "3. Appropriate audience level\n",
        "4. Completeness\n",
        "\n",
        "Explanation A:\n",
        "{explanation_1}\n",
        "\n",
        "Explanation B:\n",
        "{explanation_2}\n",
        "\n",
        "Provide a detailed analysis and recommendation for which explanation is better for different audiences.\"\"\"\n",
        "\n",
        "response = gpt_request(prompt)\n",
        "print(\"⚖️ Comparison Analysis:\")\n",
        "print(response)\n"
      ],
      "metadata": {
        "id": "QAd75bElVGS5",
        "colab": {
          "base_uri": "https://localhost:8080/"
        },
        "outputId": "9856fbba-85fd-4fe6-eccb-1843015a0791"
      },
      "execution_count": 18,
      "outputs": [
        {
          "output_type": "stream",
          "name": "stdout",
          "text": [
            "⚖️ Comparison Analysis:\n",
            "### Analysis of Explanations\n",
            "\n",
            "#### 1. Clarity and Accessibility\n",
            "\n",
            "- **Explanation A**: This explanation uses simple language and straightforward concepts that are easy to understand. It clearly states what photosynthesis is and breaks down the process into basic components (sunlight, chlorophyll, water, carbon dioxide, glucose, and oxygen). The use of the phrase \"lucky for us\" adds a conversational tone that enhances accessibility.\n",
            "  \n",
            "- **Explanation B**: This explanation employs more technical language and concepts, such as \"biochemical process,\" \"chloroplasts,\" \"light-dependent reactions,\" \"thylakoids,\" \"Calvin cycle,\" and \"carbon fixation.\" While it is precise, it may be difficult for someone without a background in biology to grasp the full meaning.\n",
            "\n",
            "#### 2. Scientific Accuracy\n",
            "\n",
            "- **Explanation A**: While this explanation is accurate in its basic description of photosynthesis, it simplifies the process significantly. It does not mention the specific steps (light-dependent reactions and the Calvin cycle) and uses general terms like \"plant food,\" which could misrepresent the complexity of glucose production.\n",
            "\n",
            "- **Explanation B**: This explanation is scientifically accurate and detailed. It correctly identifies the components and processes involved in photosynthesis, such as the roles of chloroplasts, thylakoids, and the stroma, as well as the distinction between light-dependent reactions and the Calvin cycle. It uses specific terminology that is appropriate for a more advanced understanding of the topic.\n",
            "\n",
            "#### 3. Appropriate Audience Level\n",
            "\n",
            "- **Explanation A**: This explanation is tailored for a general audience, including younger students or individuals with no scientific background. It provides essential information without overwhelming the reader with complexity. \n",
            "\n",
            "- **Explanation B**: This explanation is suitable for an audience with a higher level of scientific literacy, such as high school or college students studying biology. It assumes some prior knowledge of cellular biology and biochemistry, which may not be accessible to all readers.\n",
            "\n",
            "#### 4. Completeness\n",
            "\n",
            "- **Explanation A**: While it covers the fundamental aspects of photosynthesis, it lacks detail regarding the mechanisms involved in the process. It does not explain how light energy is converted into chemical energy or the specific steps that lead to glucose production.\n",
            "\n",
            "- **Explanation B**: This explanation is comprehensive and encompasses the critical steps and mechanisms of photosynthesis. It provides a complete picture of the process, detailing both the light-dependent reactions and the Calvin cycle, which together lead to the production of glucose and the release of oxygen.\n",
            "\n",
            "### Recommendations\n",
            "\n",
            "- **For Younger Students or General Audience**: **Explanation A** is the better choice. Its clarity, accessibility, and simplicity make it suitable for individuals who may be encountering photosynthesis for the first time. It effectively communicates the basic concept without overwhelming the reader with jargon.\n",
            "\n",
            "- **For Advanced Students or Scientific Audience**: **Explanation B** is more appropriate. Its detailed and scientifically accurate description is ideal for individuals with a background in biology who seek a deeper understanding of photosynthesis. For this audience, the technical vocabulary and complexity enhance the educational value of the explanation.\n",
            "\n",
            "### Conclusion\n",
            "\n",
            "In summary, both explanations have their strengths and weaknesses, but their effectiveness largely depends on the intended audience. Explanation A excels in clarity and accessibility for a general audience, while Explanation B provides a thorough and scientifically accurate depiction suitable for more knowledgeable readers.\n"
          ]
        }
      ]
    },
    {
      "cell_type": "code",
      "source": [
        "# Exercise 7: Advanced Prompt Engineering\n"
      ],
      "metadata": {
        "id": "XbWWm8FvVHgV"
      },
      "execution_count": 19,
      "outputs": []
    },
    {
      "cell_type": "code",
      "source": [
        "# Test different temperature settings\n",
        "prompt = \"Write a creative opening line for a mystery novel.\"\n",
        "\n",
        "print(\"🌡️ Temperature Comparison:\")\n",
        "for temp in [0.1, 0.5, 0.9]:\n",
        "    response = gpt_request(prompt, temperature=temp)\n",
        "    print(f\"Temperature {temp}: {response}\\n\")\n",
        "\n",
        "# Test prompt specificity\n",
        "vague_prompt = \"Write about AI.\"\n",
        "specific_prompt = \"Write a 100-word explanation of how AI chatbots like GPT-4o-mini process and respond to user questions, aimed at high school students.\"\n",
        "\n",
        "print(\"🎯 Prompt Specificity Comparison:\")\n",
        "print(\"Vague prompt result:\")\n",
        "print(gpt_request(vague_prompt))\n",
        "print(\"\\nSpecific prompt result:\")\n",
        "print(gpt_request(specific_prompt))\n"
      ],
      "metadata": {
        "id": "j_Fzb1arVJYh",
        "colab": {
          "base_uri": "https://localhost:8080/"
        },
        "outputId": "6ca6b89f-3421-4706-aa76-1b4985e4f60d"
      },
      "execution_count": 20,
      "outputs": [
        {
          "output_type": "stream",
          "name": "stdout",
          "text": [
            "🌡️ Temperature Comparison:\n",
            "Temperature 0.1: The fog rolled in like a whispered secret, cloaking the small town of Eldridge in shadows, where every door hid a story and every story held a truth someone was desperate to bury.\n",
            "\n",
            "Temperature 0.5: The fog clung to the cobblestones like a secret, muffling the sound of footsteps as Eleanor discovered the first clue hidden beneath the old clock tower's shadow—a blood-stained handkerchief, embroidered with initials she recognized all too well.\n",
            "\n",
            "Temperature 0.9: The rain fell like secrets from a broken sky, each drop a reminder that in this town, nothing was ever as it seemed.\n",
            "\n",
            "🎯 Prompt Specificity Comparison:\n",
            "Vague prompt result:\n",
            "Artificial Intelligence (AI) refers to the simulation of human intelligence processes by machines, especially computer systems. These processes include learning (the acquisition of information and rules for using it), reasoning (using rules to reach approximate or definite conclusions), and self-correction. AI technology has a wide range of applications, from simple tasks like scheduling and data entry to complex functions like natural language processing, image recognition, and autonomous driving.\n",
            "\n",
            "### Types of AI\n",
            "\n",
            "1. **Narrow AI**: Also known as Weak AI, this type specializes in a specific task or a narrow range of tasks. Examples include virtual assistants like Siri and Alexa, recommendation systems on streaming platforms, and facial recognition software.\n",
            "\n",
            "2. **General AI**: Often referred to as Strong AI or AGI (Artificial General Intelligence), this type of AI would have the ability to understand, learn, and apply intelligence across a broad range of tasks, similar to human cognitive abilities. As of now, AGI remains largely theoretical and is a subject of ongoing research and debate.\n",
            "\n",
            "3. **Superintelligent AI**: This hypothetical form of AI would surpass human intelligence in all aspects, including creativity, problem-solving, and social skills. Discussions around superintelligent AI often involve ethical considerations and the potential risks associated with such advanced technology.\n",
            "\n",
            "### Applications of AI\n",
            "\n",
            "AI has permeated various sectors, including:\n",
            "\n",
            "- **Healthcare**: AI algorithms are used for diagnosing diseases, personalizing treatment plans, and managing patient data. They assist in medical imaging, drug discovery, and predictive analytics.\n",
            "\n",
            "- **Finance**: Financial institutions employ AI for fraud detection, risk assessment, algorithmic trading, and customer service through chatbots.\n",
            "\n",
            "- **Transportation**: AI powers autonomous vehicles, optimizing routes and improving safety through real-time data analysis.\n",
            "\n",
            "- **Manufacturing**: AI enhances production processes through automation, predictive maintenance, and quality control.\n",
            "\n",
            "- **Entertainment**: AI curates content on streaming services, personalizes gaming experiences, and even creates music and art.\n",
            "\n",
            "### Challenges and Ethical Considerations\n",
            "\n",
            "Despite its potential, AI also poses challenges and ethical dilemmas:\n",
            "\n",
            "- **Bias and Fairness**: AI systems can inherit biases present in their training data, leading to unfair outcomes in areas such as hiring, law enforcement, and lending.\n",
            "\n",
            "- **Privacy**: The use of AI in data collection raises concerns about user privacy, data security, and surveillance.\n",
            "\n",
            "- **Job Displacement**: Automation driven by AI could lead to job losses in certain sectors, necessitating discussions about workforce retraining and the future of work.\n",
            "\n",
            "- **Accountability**: As AI systems make more autonomous decisions, questions arise about accountability and transparency, particularly in critical applications like healthcare and criminal justice.\n",
            "\n",
            "### The Future of AI\n",
            "\n",
            "The future of AI holds immense promise and potential risks. As research progresses, we may witness advancements that enhance the capabilities of AI while also grappling with the ethical and societal implications of its integration into daily life. Collaborative efforts among technologists, policymakers, and ethicists will be crucial to ensuring that AI development aligns with human values and promotes the common good. \n",
            "\n",
            "In conclusion, AI is a transformative technology that continues to reshape our world. Its development raises both opportunities for innovation and challenges that require careful consideration and management. As we move forward, the goal will be to harness AI's capabilities responsibly and ethically to improve lives and society as a whole.\n",
            "\n",
            "Specific prompt result:\n",
            "AI chatbots like GPT-4o-mini use advanced algorithms to understand and respond to user questions. When you type a question, the chatbot first analyzes the words and their meanings. It looks for context and relevant information from a vast database of text it has learned from. Then, using patterns it has recognized during training, it generates a response that aims to be coherent and relevant. The chatbot doesn’t think like a human; instead, it predicts the best answer based on probabilities. This process happens quickly, allowing it to provide answers in real-time, making conversations feel natural and engaging.\n"
          ]
        }
      ]
    },
    {
      "cell_type": "markdown",
      "source": [
        "# Student Reflection Questions\n"
      ],
      "metadata": {
        "id": "qPL9wlIbVIoL"
      }
    },
    {
      "cell_type": "code",
      "source": [
        "reflection_prompts = [\n",
        "    \"Which type of output (text, code, JSON, etc.) did GPT-4o-mini handle best? Why do you think that is?\",\n",
        "    \"How did changing the temperature setting affect the creativity vs consistency of outputs?\",\n",
        "    \"What did you notice about the importance of prompt specificity?\",\n",
        "    \"Which exercise taught you the most about effective prompt engineering?\"\n",
        "]\n",
        "\n",
        "print(\"🤔 Reflection Questions:\")\n",
        "for i, question in enumerate(reflection_prompts, 1):\n",
        "    print(f\"{i}. {question}\")\n",
        "    print(\"   Your answer: ________________\\n\")\n"
      ],
      "metadata": {
        "id": "kmMq1IQIVOIa",
        "colab": {
          "base_uri": "https://localhost:8080/"
        },
        "outputId": "cfed994c-e4aa-47ec-b228-35f010406a22"
      },
      "execution_count": 21,
      "outputs": [
        {
          "output_type": "stream",
          "name": "stdout",
          "text": [
            "🤔 Reflection Questions:\n",
            "1. Which type of output (text, code, JSON, etc.) did GPT-4o-mini handle best? Why do you think that is?\n",
            "   Your answer: ________________\n",
            "\n",
            "2. How did changing the temperature setting affect the creativity vs consistency of outputs?\n",
            "   Your answer: ________________\n",
            "\n",
            "3. What did you notice about the importance of prompt specificity?\n",
            "   Your answer: ________________\n",
            "\n",
            "4. Which exercise taught you the most about effective prompt engineering?\n",
            "   Your answer: ________________\n",
            "\n"
          ]
        }
      ]
    },
    {
      "cell_type": "markdown",
      "source": [
        "# Bonus Challenge\n"
      ],
      "metadata": {
        "id": "0eVdMr8RVQnO"
      }
    },
    {
      "cell_type": "code",
      "source": [
        "# Create a prompt that generates multiple output types in one response\n",
        "challenge_prompt = \"\"\"Create a mini lesson plan about climate change that includes:\n",
        "1. A brief explanation (50 words)\n",
        "2. Python code to calculate carbon footprint\n",
        "3. A JSON object with 3 climate facts\n",
        "4. A classification of 3 human activities as High/Medium/Low carbon impact\n",
        "\n",
        "Format each section clearly with headers.\"\"\"\n",
        "\n",
        "response = gpt_request(challenge_prompt, temperature=0.5)\n",
        "print(\"🏆 Multi-format Challenge:\")\n",
        "print(response)"
      ],
      "metadata": {
        "id": "DAhnS6OxVTth",
        "colab": {
          "base_uri": "https://localhost:8080/"
        },
        "outputId": "357ba9a5-0fa1-4236-d674-cc81163ddad2"
      },
      "execution_count": 22,
      "outputs": [
        {
          "output_type": "stream",
          "name": "stdout",
          "text": [
            "🏆 Multi-format Challenge:\n",
            "# Mini Lesson Plan on Climate Change\n",
            "\n",
            "## 1. Brief Explanation\n",
            "Climate change refers to significant and lasting changes in the Earth's climate, primarily caused by human activities that increase greenhouse gas emissions. These changes lead to global warming, extreme weather events, and environmental degradation, affecting ecosystems and human societies worldwide.\n",
            "\n",
            "## 2. Python Code to Calculate Carbon Footprint\n",
            "```python\n",
            "def calculate_carbon_footprint(miles_driven, fuel_efficiency):\n",
            "    # Average CO2 emissions per gallon of gasoline burned\n",
            "    CO2_per_gallon = 19.6  # in pounds\n",
            "    gallons_used = miles_driven / fuel_efficiency\n",
            "    carbon_footprint = gallons_used * CO2_per_gallon\n",
            "    return carbon_footprint\n",
            "\n",
            "# Example usage\n",
            "miles = 1000  # miles driven\n",
            "efficiency = 25  # miles per gallon\n",
            "footprint = calculate_carbon_footprint(miles, efficiency)\n",
            "print(f\"Carbon footprint for {miles} miles driven: {footprint} pounds of CO2\")\n",
            "```\n",
            "\n",
            "## 3. JSON Object with 3 Climate Facts\n",
            "```json\n",
            "{\n",
            "  \"climate_facts\": [\n",
            "    {\n",
            "      \"fact\": \"The Earth's average temperature has risen by about 1.2 degrees Celsius since the late 19th century.\"\n",
            "    },\n",
            "    {\n",
            "      \"fact\": \"Human activities, especially fossil fuel burning, are responsible for over 70% of greenhouse gas emissions.\"\n",
            "    },\n",
            "    {\n",
            "      \"fact\": \"Climate change is expected to increase the frequency and intensity of extreme weather events.\"\n",
            "    }\n",
            "  ]\n",
            "}\n",
            "```\n",
            "\n",
            "## 4. Classification of 3 Human Activities as High/Medium/Low Carbon Impact\n",
            "- **High Carbon Impact**: Air travel (significant emissions per passenger mile)\n",
            "- **Medium Carbon Impact**: Driving gasoline-powered cars (varies by fuel efficiency)\n",
            "- **Low Carbon Impact**: Bicycling (minimal emissions, dependent on manufacturing)\n"
          ]
        }
      ]
    }
  ],
  "metadata": {
    "colab": {
      "provenance": []
    },
    "kernelspec": {
      "display_name": "Python 3",
      "name": "python3"
    }
  },
  "nbformat": 4,
  "nbformat_minor": 0
}