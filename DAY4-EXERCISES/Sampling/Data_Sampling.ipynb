{
  "nbformat": 4,
  "nbformat_minor": 0,
  "metadata": {
    "colab": {
      "provenance": []
    },
    "kernelspec": {
      "name": "python3",
      "display_name": "Python 3"
    },
    "language_info": {
      "name": "python"
    }
  },
  "cells": [
    {
      "cell_type": "code",
      "execution_count": 2,
      "metadata": {
        "colab": {
          "base_uri": "https://localhost:8080/",
          "height": 206
        },
        "id": "Dyjcu1hTXFFX",
        "outputId": "be7e0c1f-65e5-4caa-83f4-a0ed11daa20e"
      },
      "outputs": [
        {
          "output_type": "execute_result",
          "data": {
            "text/plain": [
              "   sepal length (cm)  sepal width (cm)  petal length (cm)  petal width (cm)  \\\n",
              "0                5.1               3.5                1.4               0.2   \n",
              "1                4.9               3.0                1.4               0.2   \n",
              "2                4.7               3.2                1.3               0.2   \n",
              "3                4.6               3.1                1.5               0.2   \n",
              "4                5.0               3.6                1.4               0.2   \n",
              "\n",
              "   target  \n",
              "0       0  \n",
              "1       0  \n",
              "2       0  \n",
              "3       0  \n",
              "4       0  "
            ],
            "text/html": [
              "\n",
              "  <div id=\"df-0fd627d0-15c4-4701-9d69-edb68d0d22ac\" class=\"colab-df-container\">\n",
              "    <div>\n",
              "<style scoped>\n",
              "    .dataframe tbody tr th:only-of-type {\n",
              "        vertical-align: middle;\n",
              "    }\n",
              "\n",
              "    .dataframe tbody tr th {\n",
              "        vertical-align: top;\n",
              "    }\n",
              "\n",
              "    .dataframe thead th {\n",
              "        text-align: right;\n",
              "    }\n",
              "</style>\n",
              "<table border=\"1\" class=\"dataframe\">\n",
              "  <thead>\n",
              "    <tr style=\"text-align: right;\">\n",
              "      <th></th>\n",
              "      <th>sepal length (cm)</th>\n",
              "      <th>sepal width (cm)</th>\n",
              "      <th>petal length (cm)</th>\n",
              "      <th>petal width (cm)</th>\n",
              "      <th>target</th>\n",
              "    </tr>\n",
              "  </thead>\n",
              "  <tbody>\n",
              "    <tr>\n",
              "      <th>0</th>\n",
              "      <td>5.1</td>\n",
              "      <td>3.5</td>\n",
              "      <td>1.4</td>\n",
              "      <td>0.2</td>\n",
              "      <td>0</td>\n",
              "    </tr>\n",
              "    <tr>\n",
              "      <th>1</th>\n",
              "      <td>4.9</td>\n",
              "      <td>3.0</td>\n",
              "      <td>1.4</td>\n",
              "      <td>0.2</td>\n",
              "      <td>0</td>\n",
              "    </tr>\n",
              "    <tr>\n",
              "      <th>2</th>\n",
              "      <td>4.7</td>\n",
              "      <td>3.2</td>\n",
              "      <td>1.3</td>\n",
              "      <td>0.2</td>\n",
              "      <td>0</td>\n",
              "    </tr>\n",
              "    <tr>\n",
              "      <th>3</th>\n",
              "      <td>4.6</td>\n",
              "      <td>3.1</td>\n",
              "      <td>1.5</td>\n",
              "      <td>0.2</td>\n",
              "      <td>0</td>\n",
              "    </tr>\n",
              "    <tr>\n",
              "      <th>4</th>\n",
              "      <td>5.0</td>\n",
              "      <td>3.6</td>\n",
              "      <td>1.4</td>\n",
              "      <td>0.2</td>\n",
              "      <td>0</td>\n",
              "    </tr>\n",
              "  </tbody>\n",
              "</table>\n",
              "</div>\n",
              "    <div class=\"colab-df-buttons\">\n",
              "\n",
              "  <div class=\"colab-df-container\">\n",
              "    <button class=\"colab-df-convert\" onclick=\"convertToInteractive('df-0fd627d0-15c4-4701-9d69-edb68d0d22ac')\"\n",
              "            title=\"Convert this dataframe to an interactive table.\"\n",
              "            style=\"display:none;\">\n",
              "\n",
              "  <svg xmlns=\"http://www.w3.org/2000/svg\" height=\"24px\" viewBox=\"0 -960 960 960\">\n",
              "    <path d=\"M120-120v-720h720v720H120Zm60-500h600v-160H180v160Zm220 220h160v-160H400v160Zm0 220h160v-160H400v160ZM180-400h160v-160H180v160Zm440 0h160v-160H620v160ZM180-180h160v-160H180v160Zm440 0h160v-160H620v160Z\"/>\n",
              "  </svg>\n",
              "    </button>\n",
              "\n",
              "  <style>\n",
              "    .colab-df-container {\n",
              "      display:flex;\n",
              "      gap: 12px;\n",
              "    }\n",
              "\n",
              "    .colab-df-convert {\n",
              "      background-color: #E8F0FE;\n",
              "      border: none;\n",
              "      border-radius: 50%;\n",
              "      cursor: pointer;\n",
              "      display: none;\n",
              "      fill: #1967D2;\n",
              "      height: 32px;\n",
              "      padding: 0 0 0 0;\n",
              "      width: 32px;\n",
              "    }\n",
              "\n",
              "    .colab-df-convert:hover {\n",
              "      background-color: #E2EBFA;\n",
              "      box-shadow: 0px 1px 2px rgba(60, 64, 67, 0.3), 0px 1px 3px 1px rgba(60, 64, 67, 0.15);\n",
              "      fill: #174EA6;\n",
              "    }\n",
              "\n",
              "    .colab-df-buttons div {\n",
              "      margin-bottom: 4px;\n",
              "    }\n",
              "\n",
              "    [theme=dark] .colab-df-convert {\n",
              "      background-color: #3B4455;\n",
              "      fill: #D2E3FC;\n",
              "    }\n",
              "\n",
              "    [theme=dark] .colab-df-convert:hover {\n",
              "      background-color: #434B5C;\n",
              "      box-shadow: 0px 1px 3px 1px rgba(0, 0, 0, 0.15);\n",
              "      filter: drop-shadow(0px 1px 2px rgba(0, 0, 0, 0.3));\n",
              "      fill: #FFFFFF;\n",
              "    }\n",
              "  </style>\n",
              "\n",
              "    <script>\n",
              "      const buttonEl =\n",
              "        document.querySelector('#df-0fd627d0-15c4-4701-9d69-edb68d0d22ac button.colab-df-convert');\n",
              "      buttonEl.style.display =\n",
              "        google.colab.kernel.accessAllowed ? 'block' : 'none';\n",
              "\n",
              "      async function convertToInteractive(key) {\n",
              "        const element = document.querySelector('#df-0fd627d0-15c4-4701-9d69-edb68d0d22ac');\n",
              "        const dataTable =\n",
              "          await google.colab.kernel.invokeFunction('convertToInteractive',\n",
              "                                                    [key], {});\n",
              "        if (!dataTable) return;\n",
              "\n",
              "        const docLinkHtml = 'Like what you see? Visit the ' +\n",
              "          '<a target=\"_blank\" href=https://colab.research.google.com/notebooks/data_table.ipynb>data table notebook</a>'\n",
              "          + ' to learn more about interactive tables.';\n",
              "        element.innerHTML = '';\n",
              "        dataTable['output_type'] = 'display_data';\n",
              "        await google.colab.output.renderOutput(dataTable, element);\n",
              "        const docLink = document.createElement('div');\n",
              "        docLink.innerHTML = docLinkHtml;\n",
              "        element.appendChild(docLink);\n",
              "      }\n",
              "    </script>\n",
              "  </div>\n",
              "\n",
              "\n",
              "    <div id=\"df-0d29a6b1-358f-4b4b-86be-e4e592928f77\">\n",
              "      <button class=\"colab-df-quickchart\" onclick=\"quickchart('df-0d29a6b1-358f-4b4b-86be-e4e592928f77')\"\n",
              "                title=\"Suggest charts\"\n",
              "                style=\"display:none;\">\n",
              "\n",
              "<svg xmlns=\"http://www.w3.org/2000/svg\" height=\"24px\"viewBox=\"0 0 24 24\"\n",
              "     width=\"24px\">\n",
              "    <g>\n",
              "        <path d=\"M19 3H5c-1.1 0-2 .9-2 2v14c0 1.1.9 2 2 2h14c1.1 0 2-.9 2-2V5c0-1.1-.9-2-2-2zM9 17H7v-7h2v7zm4 0h-2V7h2v10zm4 0h-2v-4h2v4z\"/>\n",
              "    </g>\n",
              "</svg>\n",
              "      </button>\n",
              "\n",
              "<style>\n",
              "  .colab-df-quickchart {\n",
              "      --bg-color: #E8F0FE;\n",
              "      --fill-color: #1967D2;\n",
              "      --hover-bg-color: #E2EBFA;\n",
              "      --hover-fill-color: #174EA6;\n",
              "      --disabled-fill-color: #AAA;\n",
              "      --disabled-bg-color: #DDD;\n",
              "  }\n",
              "\n",
              "  [theme=dark] .colab-df-quickchart {\n",
              "      --bg-color: #3B4455;\n",
              "      --fill-color: #D2E3FC;\n",
              "      --hover-bg-color: #434B5C;\n",
              "      --hover-fill-color: #FFFFFF;\n",
              "      --disabled-bg-color: #3B4455;\n",
              "      --disabled-fill-color: #666;\n",
              "  }\n",
              "\n",
              "  .colab-df-quickchart {\n",
              "    background-color: var(--bg-color);\n",
              "    border: none;\n",
              "    border-radius: 50%;\n",
              "    cursor: pointer;\n",
              "    display: none;\n",
              "    fill: var(--fill-color);\n",
              "    height: 32px;\n",
              "    padding: 0;\n",
              "    width: 32px;\n",
              "  }\n",
              "\n",
              "  .colab-df-quickchart:hover {\n",
              "    background-color: var(--hover-bg-color);\n",
              "    box-shadow: 0 1px 2px rgba(60, 64, 67, 0.3), 0 1px 3px 1px rgba(60, 64, 67, 0.15);\n",
              "    fill: var(--button-hover-fill-color);\n",
              "  }\n",
              "\n",
              "  .colab-df-quickchart-complete:disabled,\n",
              "  .colab-df-quickchart-complete:disabled:hover {\n",
              "    background-color: var(--disabled-bg-color);\n",
              "    fill: var(--disabled-fill-color);\n",
              "    box-shadow: none;\n",
              "  }\n",
              "\n",
              "  .colab-df-spinner {\n",
              "    border: 2px solid var(--fill-color);\n",
              "    border-color: transparent;\n",
              "    border-bottom-color: var(--fill-color);\n",
              "    animation:\n",
              "      spin 1s steps(1) infinite;\n",
              "  }\n",
              "\n",
              "  @keyframes spin {\n",
              "    0% {\n",
              "      border-color: transparent;\n",
              "      border-bottom-color: var(--fill-color);\n",
              "      border-left-color: var(--fill-color);\n",
              "    }\n",
              "    20% {\n",
              "      border-color: transparent;\n",
              "      border-left-color: var(--fill-color);\n",
              "      border-top-color: var(--fill-color);\n",
              "    }\n",
              "    30% {\n",
              "      border-color: transparent;\n",
              "      border-left-color: var(--fill-color);\n",
              "      border-top-color: var(--fill-color);\n",
              "      border-right-color: var(--fill-color);\n",
              "    }\n",
              "    40% {\n",
              "      border-color: transparent;\n",
              "      border-right-color: var(--fill-color);\n",
              "      border-top-color: var(--fill-color);\n",
              "    }\n",
              "    60% {\n",
              "      border-color: transparent;\n",
              "      border-right-color: var(--fill-color);\n",
              "    }\n",
              "    80% {\n",
              "      border-color: transparent;\n",
              "      border-right-color: var(--fill-color);\n",
              "      border-bottom-color: var(--fill-color);\n",
              "    }\n",
              "    90% {\n",
              "      border-color: transparent;\n",
              "      border-bottom-color: var(--fill-color);\n",
              "    }\n",
              "  }\n",
              "</style>\n",
              "\n",
              "      <script>\n",
              "        async function quickchart(key) {\n",
              "          const quickchartButtonEl =\n",
              "            document.querySelector('#' + key + ' button');\n",
              "          quickchartButtonEl.disabled = true;  // To prevent multiple clicks.\n",
              "          quickchartButtonEl.classList.add('colab-df-spinner');\n",
              "          try {\n",
              "            const charts = await google.colab.kernel.invokeFunction(\n",
              "                'suggestCharts', [key], {});\n",
              "          } catch (error) {\n",
              "            console.error('Error during call to suggestCharts:', error);\n",
              "          }\n",
              "          quickchartButtonEl.classList.remove('colab-df-spinner');\n",
              "          quickchartButtonEl.classList.add('colab-df-quickchart-complete');\n",
              "        }\n",
              "        (() => {\n",
              "          let quickchartButtonEl =\n",
              "            document.querySelector('#df-0d29a6b1-358f-4b4b-86be-e4e592928f77 button');\n",
              "          quickchartButtonEl.style.display =\n",
              "            google.colab.kernel.accessAllowed ? 'block' : 'none';\n",
              "        })();\n",
              "      </script>\n",
              "    </div>\n",
              "\n",
              "    </div>\n",
              "  </div>\n"
            ],
            "application/vnd.google.colaboratory.intrinsic+json": {
              "type": "dataframe",
              "variable_name": "df",
              "summary": "{\n  \"name\": \"df\",\n  \"rows\": 150,\n  \"fields\": [\n    {\n      \"column\": \"sepal length (cm)\",\n      \"properties\": {\n        \"dtype\": \"number\",\n        \"std\": 0.8280661279778629,\n        \"min\": 4.3,\n        \"max\": 7.9,\n        \"num_unique_values\": 35,\n        \"samples\": [\n          6.2,\n          4.5,\n          5.6\n        ],\n        \"semantic_type\": \"\",\n        \"description\": \"\"\n      }\n    },\n    {\n      \"column\": \"sepal width (cm)\",\n      \"properties\": {\n        \"dtype\": \"number\",\n        \"std\": 0.435866284936698,\n        \"min\": 2.0,\n        \"max\": 4.4,\n        \"num_unique_values\": 23,\n        \"samples\": [\n          2.3,\n          4.0,\n          3.5\n        ],\n        \"semantic_type\": \"\",\n        \"description\": \"\"\n      }\n    },\n    {\n      \"column\": \"petal length (cm)\",\n      \"properties\": {\n        \"dtype\": \"number\",\n        \"std\": 1.7652982332594667,\n        \"min\": 1.0,\n        \"max\": 6.9,\n        \"num_unique_values\": 43,\n        \"samples\": [\n          6.7,\n          3.8,\n          3.7\n        ],\n        \"semantic_type\": \"\",\n        \"description\": \"\"\n      }\n    },\n    {\n      \"column\": \"petal width (cm)\",\n      \"properties\": {\n        \"dtype\": \"number\",\n        \"std\": 0.7622376689603465,\n        \"min\": 0.1,\n        \"max\": 2.5,\n        \"num_unique_values\": 22,\n        \"samples\": [\n          0.2,\n          1.2,\n          1.3\n        ],\n        \"semantic_type\": \"\",\n        \"description\": \"\"\n      }\n    },\n    {\n      \"column\": \"target\",\n      \"properties\": {\n        \"dtype\": \"number\",\n        \"std\": 0,\n        \"min\": 0,\n        \"max\": 2,\n        \"num_unique_values\": 3,\n        \"samples\": [\n          0,\n          1,\n          2\n        ],\n        \"semantic_type\": \"\",\n        \"description\": \"\"\n      }\n    }\n  ]\n}"
            }
          },
          "metadata": {},
          "execution_count": 2
        }
      ],
      "source": [
        "# Sampling Tech\n",
        "import pandas as pd\n",
        "import numpy as np\n",
        "from sklearn.datasets import load_iris\n",
        "\n",
        "# Load Iris dataset into DataFrame\n",
        "iris = load_iris(as_frame=True)\n",
        "df = iris.frame\n",
        "df['target'] = iris.target\n",
        "df.head()"
      ]
    },
    {
      "cell_type": "markdown",
      "source": [
        "Probabilstic Sampling Mthods"
      ],
      "metadata": {
        "id": "YOILj-sFYFqY"
      }
    },
    {
      "cell_type": "code",
      "source": [
        "# 1.1 Simple Random Sampling\n",
        "# Select n rows uniformly at random.\n",
        "\n",
        "# Simple random sample of 50 observations\n",
        "simple_rand = df.sample(n=50, random_state=42)\n",
        "print(simple_rand.shape)"
      ],
      "metadata": {
        "colab": {
          "base_uri": "https://localhost:8080/"
        },
        "id": "Xq8UnJnrXUdi",
        "outputId": "47f76017-85e0-45d8-c367-f76cbf8434c2"
      },
      "execution_count": 3,
      "outputs": [
        {
          "output_type": "stream",
          "name": "stdout",
          "text": [
            "(50, 5)\n"
          ]
        }
      ]
    },
    {
      "cell_type": "code",
      "source": [
        "# 1.2 Systematic Sampling\n",
        "# Choose every kᵗʰ record after a random start.\n",
        "def systematic_sampling(data, k, seed=42):\n",
        "    np.random.seed(seed)\n",
        "    start = np.random.randint(0, k)\n",
        "    indices = np.arange(start, len(data), k)\n",
        "    return data.iloc[indices]\n",
        "\n",
        "# Every 10th after a random start\n",
        "sys_sample = systematic_sampling(df, k=10)\n",
        "print(sys_sample.shape)\n"
      ],
      "metadata": {
        "colab": {
          "base_uri": "https://localhost:8080/"
        },
        "id": "xVbQsc4gXffV",
        "outputId": "56ee7eed-216f-486e-8a2e-ee94ac1abdb1"
      },
      "execution_count": 4,
      "outputs": [
        {
          "output_type": "stream",
          "name": "stdout",
          "text": [
            "(15, 5)\n"
          ]
        }
      ]
    },
    {
      "cell_type": "code",
      "source": [
        "# 1.3 Stratified Random Sampling\n",
        "# Sample within each class proportional to its size.\n",
        "# Stratified sample: 30% from each species\n",
        "strata = df.groupby('target', group_keys=False).apply(\n",
        "    lambda x: x.sample(frac=0.3, random_state=42)\n",
        ")\n",
        "print(strata['target'].value_counts(normalize=True))\n"
      ],
      "metadata": {
        "colab": {
          "base_uri": "https://localhost:8080/"
        },
        "id": "xttQQpNdXqWc",
        "outputId": "9375654f-4483-4ad8-a77b-de9b93f3dff3"
      },
      "execution_count": 5,
      "outputs": [
        {
          "output_type": "stream",
          "name": "stdout",
          "text": [
            "target\n",
            "0    0.333333\n",
            "1    0.333333\n",
            "2    0.333333\n",
            "Name: proportion, dtype: float64\n"
          ]
        },
        {
          "output_type": "stream",
          "name": "stderr",
          "text": [
            "/tmp/ipython-input-3070871200.py:4: DeprecationWarning: DataFrameGroupBy.apply operated on the grouping columns. This behavior is deprecated, and in a future version of pandas the grouping columns will be excluded from the operation. Either pass `include_groups=False` to exclude the groupings or explicitly select the grouping columns after groupby to silence this warning.\n",
            "  strata = df.groupby('target', group_keys=False).apply(\n"
          ]
        }
      ]
    },
    {
      "cell_type": "code",
      "source": [
        "# 1.4 Cluster Sampling\n",
        "# Randomly select entire clusters, then use all items in chosen clusters.\n",
        "\n",
        "# Define clusters by rounding sepal length\n",
        "df['cluster'] = (df['sepal length (cm)'] // 1).astype(int)\n",
        "clusters = df['cluster'].unique()\n",
        "\n",
        "# Randomly pick 2 clusters\n",
        "chosen = np.random.choice(clusters, size=2, replace=False)\n",
        "cluster_sample = df[df['cluster'].isin(chosen)]\n",
        "print(\"Clusters chosen:\", chosen)\n",
        "print(cluster_sample['cluster'].value_counts())"
      ],
      "metadata": {
        "colab": {
          "base_uri": "https://localhost:8080/"
        },
        "id": "1xchlFEgX1eh",
        "outputId": "eaf4619f-e9fa-42c0-d7b9-a50a898514cd"
      },
      "execution_count": 6,
      "outputs": [
        {
          "output_type": "stream",
          "name": "stdout",
          "text": [
            "Clusters chosen: [4 7]\n",
            "cluster\n",
            "4    22\n",
            "7    13\n",
            "Name: count, dtype: int64\n"
          ]
        }
      ]
    },
    {
      "cell_type": "markdown",
      "source": [
        "Non-Probabilistic Sampling Methods"
      ],
      "metadata": {
        "id": "91PGHKVpYMpw"
      }
    },
    {
      "cell_type": "code",
      "source": [
        "# 2.1 Convenience Sampling\n",
        "# Select the first n rows or any easily accessible subset.\n",
        "# First 50 rows as a convenience sample\n",
        "convenience = df.head(50)\n",
        "print(convenience.shape)"
      ],
      "metadata": {
        "colab": {
          "base_uri": "https://localhost:8080/"
        },
        "id": "xlmR6lKYYNbl",
        "outputId": "ad5b51db-1abd-4692-fe71-15b1760a26ed"
      },
      "execution_count": 7,
      "outputs": [
        {
          "output_type": "stream",
          "name": "stdout",
          "text": [
            "(50, 6)\n"
          ]
        }
      ]
    },
    {
      "cell_type": "code",
      "source": [
        "# 2.2 Judgmental (Selective) Sampling\n",
        "# Manually pick samples based on domain knowledge.\n",
        "# E.g., pick all Setosa and first 10 Versicolor\n",
        "judgmental = pd.concat([\n",
        "    df[df['target'] == 0],\n",
        "    df[df['target'] == 1].head(10)\n",
        "])\n",
        "print(judgmental['target'].value_counts())"
      ],
      "metadata": {
        "colab": {
          "base_uri": "https://localhost:8080/"
        },
        "id": "on6QNjlhYU1R",
        "outputId": "05369808-1307-4e12-ce0c-73f1369c3cde"
      },
      "execution_count": 8,
      "outputs": [
        {
          "output_type": "stream",
          "name": "stdout",
          "text": [
            "target\n",
            "0    50\n",
            "1    10\n",
            "Name: count, dtype: int64\n"
          ]
        }
      ]
    },
    {
      "cell_type": "code",
      "source": [
        "# 2.3 Snowball Sampling\n",
        "# Begin with a small seed and expand via similarity (simulated by nearest neighbors here).\n",
        "from sklearn.neighbors import NearestNeighbors\n",
        "\n",
        "# Seed: pick 5 random points\n",
        "seed = df.sample(n=5, random_state=42)\n",
        "nbrs = NearestNeighbors(n_neighbors=3).fit(df.drop(columns=['target','cluster']))\n",
        "distances, indices = nbrs.kneighbors(seed.drop(columns=['target','cluster']))\n",
        "\n",
        "# Snowball: union of seed and their neighbors\n",
        "snowball_idx = set(seed.index)\n",
        "for neigh in indices:\n",
        "    snowball_idx.update(neigh)\n",
        "snowball = df.loc[list(snowball_idx)]\n",
        "print(snowball.shape)"
      ],
      "metadata": {
        "colab": {
          "base_uri": "https://localhost:8080/"
        },
        "id": "6MYIsnyBYVmf",
        "outputId": "1c2e4c4d-6227-457f-b3b8-7f373b1fa2d2"
      },
      "execution_count": 9,
      "outputs": [
        {
          "output_type": "stream",
          "name": "stdout",
          "text": [
            "(13, 6)\n"
          ]
        }
      ]
    },
    {
      "cell_type": "code",
      "source": [
        "# 2.4 Quota Sampling\n",
        "# Ensure the sample meets predefined quotas for each stratum.\n",
        "# Quotas: 20 Setosa, 15 Versicolor, 10 Virginica\n",
        "quota = pd.concat([\n",
        "    df[df['target']==0].sample(n=20, random_state=42),\n",
        "    df[df['target']==1].sample(n=15, random_state=42),\n",
        "    df[df['target']==2].sample(n=10, random_state=42)\n",
        "])\n",
        "print(quota['target'].value_counts())"
      ],
      "metadata": {
        "colab": {
          "base_uri": "https://localhost:8080/"
        },
        "id": "0nMbya81Yf46",
        "outputId": "b8d856ef-182a-4985-84d4-ae28d1f0a90b"
      },
      "execution_count": 10,
      "outputs": [
        {
          "output_type": "stream",
          "name": "stdout",
          "text": [
            "target\n",
            "0    20\n",
            "1    15\n",
            "2    10\n",
            "Name: count, dtype: int64\n"
          ]
        }
      ]
    },
    {
      "cell_type": "markdown",
      "source": [
        "Compare Sample Sizes and Class Distributions"
      ],
      "metadata": {
        "id": "dQ1w8IJWZD5C"
      }
    },
    {
      "cell_type": "code",
      "source": [
        "# Create a dictionary of sample sets to compare\n",
        "samples = {\n",
        "    'Simple Random': simple_rand,\n",
        "    'Systematic': sys_sample,\n",
        "    'Stratified': strata,\n",
        "    'Cluster': cluster_sample,\n",
        "    'Convenience': convenience,\n",
        "    'Judgmental': judgmental,\n",
        "    'Snowball': snowball,\n",
        "    'Quota': quota\n",
        "}\n",
        "\n",
        "# Print sample sizes and class distribution\n",
        "for name, sample in samples.items():\n",
        "    print(f\"\\n{name} Sample:\")\n",
        "    print(\"Sample size:\", sample.shape[0])\n",
        "    print(\"Class distribution:\\n\", sample['target'].value_counts(normalize=True))"
      ],
      "metadata": {
        "colab": {
          "base_uri": "https://localhost:8080/"
        },
        "id": "5OnNiHUJZIdg",
        "outputId": "dcc6f6f8-fe97-4f7a-8c11-62772bfbee29"
      },
      "execution_count": 11,
      "outputs": [
        {
          "output_type": "stream",
          "name": "stdout",
          "text": [
            "\n",
            "Simple Random Sample:\n",
            "Sample size: 50\n",
            "Class distribution:\n",
            " target\n",
            "0    0.38\n",
            "2    0.32\n",
            "1    0.30\n",
            "Name: proportion, dtype: float64\n",
            "\n",
            "Systematic Sample:\n",
            "Sample size: 15\n",
            "Class distribution:\n",
            " target\n",
            "0    0.333333\n",
            "1    0.333333\n",
            "2    0.333333\n",
            "Name: proportion, dtype: float64\n",
            "\n",
            "Stratified Sample:\n",
            "Sample size: 45\n",
            "Class distribution:\n",
            " target\n",
            "0    0.333333\n",
            "1    0.333333\n",
            "2    0.333333\n",
            "Name: proportion, dtype: float64\n",
            "\n",
            "Cluster Sample:\n",
            "Sample size: 35\n",
            "Class distribution:\n",
            " target\n",
            "0    0.571429\n",
            "2    0.371429\n",
            "1    0.057143\n",
            "Name: proportion, dtype: float64\n",
            "\n",
            "Convenience Sample:\n",
            "Sample size: 50\n",
            "Class distribution:\n",
            " target\n",
            "0    1.0\n",
            "Name: proportion, dtype: float64\n",
            "\n",
            "Judgmental Sample:\n",
            "Sample size: 60\n",
            "Class distribution:\n",
            " target\n",
            "0    0.833333\n",
            "1    0.166667\n",
            "Name: proportion, dtype: float64\n",
            "\n",
            "Snowball Sample:\n",
            "Sample size: 13\n",
            "Class distribution:\n",
            " target\n",
            "1    0.538462\n",
            "0    0.230769\n",
            "2    0.230769\n",
            "Name: proportion, dtype: float64\n",
            "\n",
            "Quota Sample:\n",
            "Sample size: 45\n",
            "Class distribution:\n",
            " target\n",
            "0    0.444444\n",
            "1    0.333333\n",
            "2    0.222222\n",
            "Name: proportion, dtype: float64\n"
          ]
        }
      ]
    },
    {
      "cell_type": "markdown",
      "source": [
        "Modify Parameters and Observe Effects"
      ],
      "metadata": {
        "id": "MsXUQj7yZtmS"
      }
    },
    {
      "cell_type": "code",
      "source": [
        "# New simple random sample with 30 observations\n",
        "simple_rand_30 = df.sample(n=30, random_state=0)\n",
        "\n",
        "# New systematic sample with different step\n",
        "sys_sample_5 = systematic_sampling(df, k=5, seed=1)\n",
        "\n",
        "# New stratified sample with 50% from each class\n",
        "# strata_50 = df.groupby('target', group_keys=False).apply(\n",
        "#     lambda x: x.sample(frac=0.5, random_state=1)\n",
        "# )\n",
        "strata_50 = df.groupby('target', group_keys=False).apply(\n",
        "    lambda x: x.sample(frac=0.5, random_state=1),\n",
        "    include_groups=False\n",
        ")\n",
        "\n",
        "# New quota sample with adjusted targets\n",
        "quota_new = pd.concat([\n",
        "    df[df['target']==0].sample(n=10, random_state=0),\n",
        "    df[df['target']==1].sample(n=20, random_state=0),\n",
        "    df[df['target']==2].sample(n=20, random_state=0)\n",
        "])\n"
      ],
      "metadata": {
        "id": "euTwK3xhZQyb"
      },
      "execution_count": 13,
      "outputs": []
    },
    {
      "cell_type": "code",
      "source": [
        "import matplotlib.pyplot as plt\n",
        "import seaborn as sns\n",
        "\n",
        "# Plot class distribution for all samples\n",
        "fig, axes = plt.subplots(4, 2, figsize=(12, 12))\n",
        "axes = axes.ravel()\n",
        "\n",
        "for ax, (name, sample) in zip(axes, samples.items()):\n",
        "    sns.countplot(data=sample, x='target', ax=ax)\n",
        "    ax.set_title(name)\n",
        "    ax.set_ylim(0, max(df['target'].value_counts()) + 10)\n",
        "\n",
        "plt.tight_layout()\n",
        "plt.show()"
      ],
      "metadata": {
        "colab": {
          "base_uri": "https://localhost:8080/",
          "height": 1000
        },
        "id": "SdYUnhDPa91X",
        "outputId": "e7a7f66d-7f59-4c51-872f-4b7e1057aac5"
      },
      "execution_count": 14,
      "outputs": [
        {
          "output_type": "display_data",
          "data": {
            "text/plain": [
              "<Figure size 1200x1200 with 8 Axes>"
            ],
            "image/png": "[encoded data removed]"
          },
          "metadata": {}
        }
      ]
    },
    {
      "cell_type": "markdown",
      "source": [
        "## Practical Use Cases\n",
        "\n",
        "- **Simple Random Sampling**: When every observation has equal chance; best for general surveys.\n",
        "- **Systematic Sampling**: Good when data is ordered (e.g., time series) and periodicity isn’t an issue.\n",
        "- **Stratified Sampling**: Use when classes are imbalanced and you want proportional representation.\n",
        "- **Cluster Sampling**: Useful for geographically distributed data (e.g., select 2 cities and survey all residents).\n",
        "- **Convenience Sampling**: Fast, but risky for bias; use for quick prototyping or low-stakes settings.\n",
        "- **Judgmental Sampling**: Domain-driven; suitable when you know what you're looking for.\n",
        "- **Snowball Sampling**: Often used in social network or rare population studies.\n",
        "- **Quota Sampling**: When you need to meet a target distribution (e.g., by gender, age group).\n",
        "\n"
      ],
      "metadata": {
        "id": "X3udVyJObHnI"
      }
    },
    {
      "cell_type": "code",
      "source": [],
      "metadata": {
        "id": "Tg2UHP2lbJbm"
      },
      "execution_count": 16,
      "outputs": []
    }
  ]
}