{
  "nbformat": 4,
  "nbformat_minor": 0,
  "metadata": {
    "colab": {
      "provenance": [],
      "authorship_tag": "ABX9TyMgCePEg7494/73cnp9iCJM",
      "include_colab_link": true
    },
    "kernelspec": {
      "name": "python3",
      "display_name": "Python 3"
    },
    "language_info": {
      "name": "python"
    }
  },
  "cells": [
    {
      "cell_type": "markdown",
      "metadata": {
        "id": "view-in-github",
        "colab_type": "text"
      },
      "source": [
        "<a href=\"https://colab.research.google.com/github/appliedcode/mthree-c422/blob/mthree-c422-Likhitha/Backward_Selection.ipynb\" target=\"_parent\"><img src=\"https://colab.research.google.com/assets/colab-badge.svg\" alt=\"Open In Colab\"/></a>"
      ]
    },
    {
      "cell_type": "code",
      "execution_count": 4,
      "metadata": {
        "colab": {
          "base_uri": "https://localhost:8080/"
        },
        "id": "GTfTfX_nkA2d",
        "outputId": "16630e4c-4f39-4637-c653-ae2d328c5ade"
      },
      "outputs": [
        {
          "output_type": "stream",
          "name": "stdout",
          "text": [
            "1️⃣ Backward Selection (5 features):\n",
            "Selected Features: [12, 21, 22, 23, 26]\n",
            "Test Accuracy: 0.9650\n",
            "\n",
            "2️⃣ Auto-Tuned Feature Count:\n",
            "Best feature count: 4 → Accuracy: 0.9720\n",
            "\n",
            "3️⃣ Stratified K-Fold Selection:\n",
            "Selected Features: [0, 3, 11, 22, 26]\n",
            "CV Accuracy: 0.9508 ± 0.0162\n",
            "\n",
            "4️⃣ Balanced Accuracy Scoring:\n",
            "Selected Features: [0, 20, 21, 22, 23]\n",
            "Balanced Accuracy on Test Set: 0.9481\n",
            "\n",
            "5️⃣ Wine Dataset Evaluation:\n",
            "Selected Features: ['alcalinity_of_ash', 'flavanoids', 'color_intensity', 'hue', 'proline']\n",
            "Wine Dataset Accuracy: 0.9333\n"
          ]
        }
      ],
      "source": [
        "import pandas as pd\n",
        "import numpy as np\n",
        "from sklearn.datasets import load_breast_cancer, load_wine\n",
        "from sklearn.linear_model import LogisticRegression\n",
        "from sklearn.feature_selection import SequentialFeatureSelector\n",
        "from sklearn.model_selection import train_test_split, StratifiedKFold, cross_val_score\n",
        "from sklearn.metrics import (\n",
        "    accuracy_score, balanced_accuracy_score, classification_report\n",
        ")\n",
        "import warnings\n",
        "\n",
        "# Suppress future warnings\n",
        "warnings.filterwarnings(\"ignore\", category=FutureWarning)\n",
        "\n",
        "# Load breast cancer dataset\n",
        "X, y = load_breast_cancer(return_X_y=True)\n",
        "X = pd.DataFrame(X)\n",
        "\n",
        "# Train/test split\n",
        "X_train, X_test, y_train, y_test = train_test_split(X, y, random_state=42)\n",
        "\n",
        "# Logistic regression model\n",
        "model = LogisticRegression(max_iter=5000, solver='liblinear')\n",
        "\n",
        "# 1. Backward selection (fixed 5 features)\n",
        "sfs_backward = SequentialFeatureSelector(\n",
        "    model, n_features_to_select=5, direction='backward'\n",
        ")\n",
        "sfs_backward.fit(X_train, y_train)\n",
        "selected_features = X.columns[sfs_backward.get_support()]\n",
        "model.fit(X_train[selected_features], y_train)\n",
        "y_pred = model.predict(X_test[selected_features])\n",
        "acc = accuracy_score(y_test, y_pred)\n",
        "print(\"1️⃣ Backward Selection (5 features):\")\n",
        "print(\"Selected Features:\", list(selected_features))\n",
        "print(f\"Test Accuracy: {acc:.4f}\\n\")\n",
        "\n",
        "# 2. Auto-tune best number of features (FIXED loop condition)\n",
        "best_k, best_acc = None, 0\n",
        "for k in range(1, X.shape[1]):  # Must be < total features\n",
        "    sfs = SequentialFeatureSelector(\n",
        "        model, n_features_to_select=k, direction='backward'\n",
        "    ).fit(X_train, y_train)\n",
        "    feats = X_train.columns[sfs.get_support()]\n",
        "    model.fit(X_train[feats], y_train)\n",
        "    acc = accuracy_score(y_test, model.predict(X_test[feats]))\n",
        "    if acc > best_acc:\n",
        "        best_k, best_acc = k, acc\n",
        "print(\"2️⃣ Auto-Tuned Feature Count:\")\n",
        "print(f\"Best feature count: {best_k} → Accuracy: {best_acc:.4f}\\n\")\n",
        "\n",
        "# 3. Stratified K-Fold with backward selection\n",
        "kf = StratifiedKFold(n_splits=5, shuffle=True, random_state=42)\n",
        "sfs_cv = SequentialFeatureSelector(\n",
        "    model, n_features_to_select=5, direction='backward',\n",
        "    scoring='accuracy', cv=kf\n",
        ").fit(X, y)\n",
        "feats_cv = X.columns[sfs_cv.get_support()]\n",
        "cv_scores = cross_val_score(model, X[feats_cv], y, cv=kf)\n",
        "print(\"3️⃣ Stratified K-Fold Selection:\")\n",
        "print(\"Selected Features:\", list(feats_cv))\n",
        "print(f\"CV Accuracy: {cv_scores.mean():.4f} ± {cv_scores.std():.4f}\\n\")\n",
        "\n",
        "# 4. Custom scoring: balanced accuracy\n",
        "sfs_bal = SequentialFeatureSelector(\n",
        "    model, n_features_to_select=5, direction='backward',\n",
        "    scoring='balanced_accuracy'\n",
        ").fit(X_train, y_train)\n",
        "feats_bal = X_train.columns[sfs_bal.get_support()]\n",
        "model.fit(X_train[feats_bal], y_train)\n",
        "y_bal_pred = model.predict(X_test[feats_bal])\n",
        "bal_acc = balanced_accuracy_score(y_test, y_bal_pred)\n",
        "print(\"4️⃣ Balanced Accuracy Scoring:\")\n",
        "print(\"Selected Features:\", list(feats_bal))\n",
        "print(f\"Balanced Accuracy on Test Set: {bal_acc:.4f}\\n\")\n",
        "\n",
        "# 5. Apply to Wine dataset\n",
        "def apply_to_wine():\n",
        "    print(\"5️⃣ Wine Dataset Evaluation:\")\n",
        "    X_wine, y_wine = load_wine(return_X_y=True, as_frame=True)\n",
        "    X_tr, X_ts, y_tr, y_ts = train_test_split(X_wine, y_wine, random_state=42)\n",
        "    sfs_wine = SequentialFeatureSelector(\n",
        "        model, n_features_to_select=5, direction='backward'\n",
        "    ).fit(X_tr, y_tr)\n",
        "    feats = X_tr.columns[sfs_wine.get_support()]\n",
        "    model.fit(X_tr[feats], y_tr)\n",
        "    y_wine_pred = model.predict(X_ts[feats])\n",
        "    acc = accuracy_score(y_ts, y_wine_pred)\n",
        "    print(\"Selected Features:\", list(feats))\n",
        "    print(f\"Wine Dataset Accuracy: {acc:.4f}\")\n",
        "\n",
        "apply_to_wine()\n"
      ]
    }
  ]
}