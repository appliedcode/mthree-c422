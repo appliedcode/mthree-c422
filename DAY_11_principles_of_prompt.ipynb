{
  "cells": [
    {
      "cell_type": "markdown",
      "metadata": {
        "id": "view-in-github",
        "colab_type": "text"
      },
      "source": [
        "<a href=\"https://colab.research.google.com/github/appliedcode/mthree-c422/blob/c422_Mounika/DAY_11_principles_of_prompt.ipynb\" target=\"_parent\"><img src=\"https://colab.research.google.com/assets/colab-badge.svg\" alt=\"Open In Colab\"/></a>"
      ]
    },
    {
      "cell_type": "markdown",
      "source": [
        "## 📓 **Colab Lab: Practicing the 5 Principles of Prompt Engineering with GPT‑4o-mini**"
      ],
      "metadata": {
        "id": "hFnkDgKDTUgk"
      }
    },
    {
      "cell_type": "code",
      "source": [
        "# Setup\n",
        "# Install OpenAI SDK\n",
        "!pip install openai -q\n",
        "from google.colab import userdata\n",
        "import os\n",
        "\n",
        "openai_api_key = userdata.get(\"OPENAI_API_KEY\")\n",
        "if openai_api_key:\n",
        "    os.environ[\"OPENAI_API_KEY\"] = openai_api_key\n",
        "    print(\"✅ OpenAI API key loaded safely\")\n",
        "else:\n",
        "    print(\"❌ OpenAI API key not found. Please set it using Colab Secrets.\")\n"
      ],
      "metadata": {
        "id": "kRcM4QN7qGpf",
        "outputId": "4822b0b3-5193-4a21-e8c8-948d70c5bb44",
        "colab": {
          "base_uri": "https://localhost:8080/"
        }
      },
      "execution_count": null,
      "outputs": [
        {
          "output_type": "stream",
          "name": "stdout",
          "text": [
            "✅ OpenAI API key loaded safely\n"
          ]
        }
      ]
    },
    {
      "cell_type": "code",
      "source": [
        "from openai import OpenAI\n",
        "client = OpenAI(api_key=os.environ[\"OPENAI_API_KEY\"])  # Replace with your API key\n",
        "\n",
        "def ask_gpt(prompt, temp=0.7, max_tokens=500):\n",
        "    \"\"\"Send a prompt to GPT-4o-mini and return the output\"\"\"\n",
        "    response = client.chat.completions.create(\n",
        "        model=\"gpt-4o-mini\",\n",
        "        messages=[{\"role\": \"user\", \"content\": prompt}],\n",
        "        temperature=temp,\n",
        "        max_tokens=max_tokens\n",
        "    )\n",
        "    return response.choices[0].message.content"
      ],
      "metadata": {
        "id": "rQzrL2tQDdsn"
      },
      "execution_count": null,
      "outputs": []
    },
    {
      "cell_type": "markdown",
      "source": [
        "## **Principle 1 — Give Clear Direction**\n",
        "\n",
        "**Goal:** Be specific about *what*, *for whom*, and *how* the task should be done."
      ],
      "metadata": {
        "id": "zerNRrRGqOOF"
      }
    },
    {
      "cell_type": "code",
      "source": [
        "prompt = \"Write a 50-word friendly welcome message for first-year university students in an encouraging tone.\"\n",
        "print(ask_gpt(prompt))"
      ],
      "metadata": {
        "id": "wh8Pd8sSqLIW",
        "outputId": "900e1fe1-01a9-4d62-f027-4a76f8853a75",
        "colab": {
          "base_uri": "https://localhost:8080/"
        }
      },
      "execution_count": null,
      "outputs": [
        {
          "output_type": "stream",
          "name": "stdout",
          "text": [
            "Welcome, first-year students! 🎉 We're thrilled to have you join our vibrant community. Embrace this exciting journey of discovery, growth, and new friendships. Remember, it’s okay to ask questions and seek help. You’re not alone—together, we’ll make this year unforgettable. Here’s to new beginnings and endless possibilities! 🌟\n"
          ]
        }
      ]
    },
    {
      "cell_type": "markdown",
      "source": [
        "**🎯 Student Exercise:**\n",
        "\n",
        "1. Write a vague prompt, e.g., `\"Write about climate change\"`.\n",
        "2. Run it and observe the output.\n",
        "3. Now rewrite it with **clear direction** for audience, style, and purpose.\n",
        "4. Compare outputs."
      ],
      "metadata": {
        "id": "qILNxxPLqQed"
      }
    },
    {
      "cell_type": "code",
      "source": [
        "# TODO: Your prompt here\n",
        "vague_prompt = \"Write about climate change\"\n",
        "clear_prompt = \"Explain climate change causes to high school students in a simple, positive tone, in 3 short sentences.\"\n",
        "\n",
        "print(\"Vague Output:\\n\", ask_gpt(vague_prompt))\n",
        "print(\"\\nClear Output:\\n\", ask_gpt(clear_prompt))"
      ],
      "metadata": {
        "id": "mzUnenajqUQv",
        "outputId": "52f849cf-5a4f-4604-d4f0-85ef964ed1e5",
        "colab": {
          "base_uri": "https://localhost:8080/"
        }
      },
      "execution_count": null,
      "outputs": [
        {
          "output_type": "stream",
          "name": "stdout",
          "text": [
            "Vague Output:\n",
            " Climate change refers to significant and lasting changes in the Earth's climate, primarily driven by human activities that increase concentrations of greenhouse gases (GHGs) in the atmosphere. These activities include burning fossil fuels for energy, deforestation, industrial processes, and agriculture. The resultant increase in GHG levels leads to a variety of environmental impacts, such as rising global temperatures, altered weather patterns, and changes in precipitation.\n",
            "\n",
            "### Key Aspects of Climate Change:\n",
            "\n",
            "1. **Greenhouse Gases**: The primary GHGs include carbon dioxide (CO2), methane (CH4), nitrous oxide (N2O), and fluorinated gases. CO2, produced from burning fossil fuels and deforestation, is the most significant contributor to climate change.\n",
            "\n",
            "2. **Global Warming**: One of the most visible effects of climate change is global warming, characterized by an increase in average surface temperatures. The Earth's temperature has risen by about 1.2 degrees Celsius since the late 19th century, largely due to human activities.\n",
            "\n",
            "3. **Impacts on Weather Patterns**: Climate change affects weather patterns, leading to more extreme weather events, such as hurricanes, droughts, floods, and heatwaves. These changes can disrupt ecosystems, agriculture, and water supplies, posing risks to food security and human health.\n",
            "\n",
            "4. **Melting Ice and Rising Sea Levels**: The warming climate contributes to the melting of glaciers and polar ice caps, resulting in rising sea levels. This threatens coastal communities and ecosystems, leading to increased flooding and erosion.\n",
            "\n",
            "5. **Ecosystem Disruption**: Many species are struggling to adapt to the rapid changes in their environments. This has led to shifts in biodiversity, with some species facing extinction while others expand into new areas. Coral reefs, which are highly sensitive to temperature changes, are experiencing widespread bleaching.\n",
            "\n",
            "6. **Socioeconomic Effects**: Climate change disproportionately affects vulnerable populations, exacerbating existing inequalities. Communities in developing countries are often the hardest hit due to limited resources to adapt to changing conditions. Economic impacts are also significant, with damage to infrastructure, increased healthcare costs, and shifts in agricultural productivity.\n",
            "\n",
            "7. **Mitigation and Adaptation**: Addressing climate change requires a two-pronged approach: mitigation and adaptation. Mitigation involves reducing GHG emissions through renewable energy, energy efficiency, reforestation, and sustainable agriculture. Adaptation refers to adjusting practices and infrastructure to minimize the impacts of climate change, such as building flood defenses or developing drought\n",
            "\n",
            "Clear Output:\n",
            " Climate change is mainly caused by human activities like burning fossil fuels, which release greenhouse gases into the atmosphere. These gases trap heat from the sun, leading to a warmer planet and changing weather patterns. The good news is that by using clean energy sources, reducing waste, and making eco-friendly choices, we can all help protect our Earth for future generations!\n"
          ]
        }
      ]
    },
    {
      "cell_type": "markdown",
      "source": [
        "## **Principle 2 — Specify Format**\n",
        "\n",
        "**Goal:** Tell the AI exactly how to structure its response."
      ],
      "metadata": {
        "id": "5iqa31WSqcBA"
      }
    },
    {
      "cell_type": "code",
      "source": [
        "prompt = \"\"\"\n",
        "List 3 benefits of learning Python.\n",
        "Format the output as a markdown table with columns: 'Benefit' and 'Description'.\n",
        "\"\"\"\n",
        "print(ask_gpt(prompt))"
      ],
      "metadata": {
        "id": "DWtx2g3jqd1-",
        "outputId": "584dac00-b021-4d51-d5e9-393132ad2918",
        "colab": {
          "base_uri": "https://localhost:8080/"
        }
      },
      "execution_count": null,
      "outputs": [
        {
          "output_type": "stream",
          "name": "stdout",
          "text": [
            "```markdown\n",
            "| Benefit                  | Description                                                                 |\n",
            "|--------------------------|-----------------------------------------------------------------------------|\n",
            "| Easy to Learn            | Python has a simple syntax that is easy to read and write, making it ideal for beginners. |\n",
            "| Versatile Applications    | Python is used in various fields such as web development, data analysis, artificial intelligence, and automation. |\n",
            "| Strong Community Support  | Python has a large and active community, providing extensive libraries, frameworks, and resources for learners and developers. |\n",
            "```\n"
          ]
        }
      ]
    },
    {
      "cell_type": "markdown",
      "source": [
        "**🎯 Student Exercise:**\n",
        "\n",
        "- Ask GPT to **compare electric cars and petrol cars** with format instructions:\n",
        "    - First: Paragraph form\n",
        "    - Second: Markdown table form\n",
        "- Compare clarity and usefulness."
      ],
      "metadata": {
        "id": "edBRTfupqhub"
      }
    },
    {
      "cell_type": "code",
      "source": [
        "para_prompt = \"Compare electric cars and petrol cars.\"\n",
        "table_prompt = \"Compare electric cars and petrol cars as a markdown table with rows for cost, performance, and environmental impact.\"\n",
        "\n",
        "print(\"Paragraph Output:\\n\", ask_gpt(para_prompt))\n",
        "print(\"\\nTable Output:\\n\", ask_gpt(table_prompt))"
      ],
      "metadata": {
        "id": "Pg1mp1Wgql5v",
        "outputId": "8e6912a0-0ff1-444a-fe90-c391744dfeb2",
        "colab": {
          "base_uri": "https://localhost:8080/"
        }
      },
      "execution_count": null,
      "outputs": [
        {
          "output_type": "stream",
          "name": "stdout",
          "text": [
            "Paragraph Output:\n",
            " Comparing electric cars (EVs) and petrol (gasoline) cars involves looking at several key aspects including environmental impact, performance, cost, maintenance, and convenience. Here’s a detailed comparison:\n",
            "\n",
            "### 1. Environmental Impact\n",
            "- **Electric Cars**: Generally produce zero tailpipe emissions, which significantly reduces air pollution in urban areas. However, the environmental impact depends on how the electricity is generated (renewable vs. fossil fuels) and the lifecycle emissions from battery production.\n",
            "- **Petrol Cars**: Emit carbon dioxide (CO2) and other pollutants like nitrogen oxides and particulate matter, contributing to air pollution and climate change.\n",
            "\n",
            "### 2. Performance\n",
            "- **Electric Cars**: Offer instant torque, leading to quick acceleration. They tend to have a lower center of gravity, which can enhance handling. However, range can be a limiting factor, although many newer models have significantly improved ranges.\n",
            "- **Petrol Cars**: Traditionally provide a longer range on a single tank compared to many budget EVs, and refueling is quicker (typically a few minutes). However, they may not accelerate as quickly as some electric counterparts.\n",
            "\n",
            "### 3. Cost\n",
            "- **Electric Cars**: Generally have a higher upfront purchase price, though this is decreasing as technology advances. They often have lower operating costs due to cheaper electricity compared to petrol and lower maintenance costs (fewer moving parts).\n",
            "- **Petrol Cars**: Typically have a lower initial purchase price. However, with fluctuating fuel prices, the long-term fuel costs can be higher, and they usually require more frequent maintenance.\n",
            "\n",
            "### 4. Maintenance\n",
            "- **Electric Cars**: Require less maintenance because they have fewer moving parts and do not require oil changes. The main maintenance issues can arise from battery life and the cost of replacement.\n",
            "- **Petrol Cars**: Require regular maintenance such as oil changes, engine servicing, and exhaust system checks. They generally have more moving parts, leading to a higher potential for mechanical issues.\n",
            "\n",
            "### 5. Convenience\n",
            "- **Electric Cars**: Charging infrastructure is expanding, but charging can take longer than refueling a petrol car. Home charging is a significant advantage for EV owners, allowing for convenient overnight charging.\n",
            "- **Petrol Cars**: Refueling is quick and widely available, making them generally more convenient for long-distance travel, especially in areas with limited charging infrastructure.\n",
            "\n",
            "### 6. Driving Experience\n",
            "- **Electric Cars**: Often provide a quieter,\n",
            "\n",
            "Table Output:\n",
            " Here’s a comparison of electric cars and petrol cars in a markdown table format:\n",
            "\n",
            "```markdown\n",
            "| Feature            | Electric Cars                       | Petrol Cars                          |\n",
            "|--------------------|------------------------------------|-------------------------------------|\n",
            "| Cost               | Higher upfront cost, lower operating costs (fuel and maintenance) | Lower upfront cost, higher fuel and maintenance costs |\n",
            "| Performance        | Instant torque, quieter operation, generally good acceleration | Varied performance, often noisier, acceleration depends on engine type |\n",
            "| Environmental Impact| Lower emissions, renewable energy potential, battery disposal concerns | Higher emissions, reliance on fossil fuels, pollution during operation |\n",
            "```\n",
            "\n",
            "Feel free to expand or modify the table as needed!\n"
          ]
        }
      ]
    },
    {
      "cell_type": "markdown",
      "source": [
        "## **Principle 3 — Provide Examples (Few-Shot Prompting)**\n",
        "\n",
        "**Goal:** Show the AI what kind of response you expect.\n"
      ],
      "metadata": {
        "id": "CESuJ2_Fqn4W"
      }
    },
    {
      "cell_type": "code",
      "source": [
        "prompt = \"\"\"\n",
        "Classify each review as Positive or Negative.\n",
        "\n",
        "Review: \"Loved the coffee, will come again.\"\n",
        "Sentiment: Positive\n",
        "\n",
        "Review: \"Service was slow and unhelpful.\"\n",
        "Sentiment: Negative\n",
        "\n",
        "Review: \"The dessert was delicious and beautifully presented.\"\n",
        "Sentiment:\n",
        "\"\"\"\n",
        "print(ask_gpt(prompt))"
      ],
      "metadata": {
        "id": "vHi9WqxUqrDO",
        "outputId": "a568001a-4e6b-421c-bb29-eb99b4c73cf8",
        "colab": {
          "base_uri": "https://localhost:8080/"
        }
      },
      "execution_count": null,
      "outputs": [
        {
          "output_type": "stream",
          "name": "stdout",
          "text": [
            "Positive\n"
          ]
        }
      ]
    },
    {
      "cell_type": "markdown",
      "source": [
        "**🎯 Student Exercise:**\n",
        "\n",
        "- Create a **few-shot prompt** to classify movie reviews as \"Positive\", \"Negative\", \"Neutral\". Provide at least 2 examples for each label, then add a new review for the model to classify.\n"
      ],
      "metadata": {
        "id": "vK24wwfwqvaB"
      }
    },
    {
      "cell_type": "code",
      "source": [
        "few_shot_prompt = \"\"\"\n",
        "Classify each movie review as Positive, Negative, or Neutral.\n",
        "\n",
        "Review: \"Amazing visuals and a heartwarming plot.\"\n",
        "Sentiment: Positive\n",
        "\n",
        "Review: \"Predictable storyline but decent acting.\"\n",
        "Sentiment: Neutral\n",
        "\n",
        "Review: \"I walked out halfway, it was terrible.\"\n",
        "Sentiment: Negative\n",
        "\n",
        "Review: \"The music was lovely but the pacing was too slow.\"\n",
        "Sentiment:\n",
        "\"\"\"\n",
        "\n",
        "print(ask_gpt(few_shot_prompt))"
      ],
      "metadata": {
        "id": "LwWI62r2qx2C"
      },
      "execution_count": null,
      "outputs": []
    },
    {
      "cell_type": "markdown",
      "source": [
        "## **Principle 4 — Evaluate Quality**\n",
        "\n",
        "**Goal:** Review the AI output and refine the prompt to improve quality.\n"
      ],
      "metadata": {
        "id": "KLDxsGzpq2qX"
      }
    },
    {
      "cell_type": "markdown",
      "source": [
        "**🎯 Student Task Flow:**\n",
        "\n",
        "1. Start with a prompt: `\"Summarize this article about AI ethics.\"`\n",
        "2. Note missing details.\n",
        "3. Add constraints: *\"In 3 bullet points, mention challenges, risks, and solutions.\"*\n",
        "4. Compare before vs after."
      ],
      "metadata": {
        "id": "b_1mUbOtEE-_"
      }
    },
    {
      "cell_type": "code",
      "source": [
        "article = \"\"\"Artificial intelligence is transforming industries but raises ethical concerns such as bias in algorithms, job automation, and data privacy. Several companies and governments are proposing transparency laws and AI ethics training to address these challenges.\"\"\"\n",
        "# Initial vague prompt\n",
        "vague_sum = ask_gpt(f\"Summarize this article: {article}\")\n",
        "\n",
        "# Improved prompt\n",
        "refined_sum = ask_gpt(f\"Summarize this article in 3 bullet points covering (1) main challenges, (2) risks, (3) solutions: {article}\")\n",
        "\n",
        "print(\"Original Summary:\\n\", vague_sum)\n",
        "print(\"\\nRefined Summary:\\n\", refined_sum)"
      ],
      "metadata": {
        "id": "U0lP4zKGq9y-",
        "outputId": "af824082-8d10-4ba6-f853-6a29548fd9da",
        "colab": {
          "base_uri": "https://localhost:8080/"
        }
      },
      "execution_count": null,
      "outputs": [
        {
          "output_type": "stream",
          "name": "stdout",
          "text": [
            "Original Summary:\n",
            " The article discusses the transformative impact of artificial intelligence (AI) across various industries, while highlighting significant ethical concerns, including algorithmic bias, job automation, and data privacy issues. In response to these challenges, numerous companies and governments are advocating for transparency laws and implementing AI ethics training to ensure responsible AI development and usage.\n",
            "\n",
            "Refined Summary:\n",
            " - **Main Challenges**: The integration of artificial intelligence in industries presents ethical concerns, including algorithmic bias, job automation, and data privacy issues.  \n",
            "- **Risks**: These challenges pose significant risks, such as perpetuating inequality, displacing workers, and compromising sensitive information.  \n",
            "- **Solutions**: To mitigate these issues, various companies and governments are advocating for transparency laws and implementing AI ethics training programs.\n"
          ]
        }
      ]
    },
    {
      "cell_type": "markdown",
      "source": [
        "## **Principle 5 — Divide Labor (Break Down Complex Tasks)**\n",
        "\n",
        "**Goal:** Break a big request into smaller steps.\n",
        "\n",
        "**Example:**\n",
        "Instead of:\n",
        "> \"Write a travel guide for Rome.\"\n",
        "\n",
        "Do:\n",
        "\n",
        "1. List top attractions.\n",
        "2. Suggest a 3-day itinerary.\n",
        "3. Give restaurant recommendations.\n",
        "\n",
        "***\n",
        "\n",
        "**🎯 Student Exercise:**\n",
        "\n",
        "- Use **three separate prompts** to create parts of a digital marketing plan:\n",
        "\n",
        "1. Audience analysis for a fitness app.\n",
        "2. Social media strategy.\n",
        "3. 1-month content calendar.\n"
      ],
      "metadata": {
        "id": "NTYJwroRrDa9"
      }
    },
    {
      "cell_type": "code",
      "source": [
        "# Step 1\n",
        "audience_analysis = ask_gpt(\"Describe the target audience for a fitness app in 3 bullet points.\")\n",
        "# Step 2\n",
        "social_media_strategy = ask_gpt(\"Create a social media strategy for the above audience in 5 bullet points.\")\n",
        "# Step 3\n",
        "content_calendar = ask_gpt(\"Propose a 1-month Instagram content calendar for the above strategy, in a table with date, post idea, and caption.\")\n",
        "\n",
        "print(\"Audience Analysis:\\n\", audience_analysis)\n",
        "print(\"\\nSocial Media Strategy:\\n\", social_media_strategy)\n",
        "print(\"\\nContent Calendar:\\n\", content_calendar)"
      ],
      "metadata": {
        "id": "T79FVPyprDI0",
        "outputId": "ae176b23-86cc-4334-e286-570b24a1caf6",
        "colab": {
          "base_uri": "https://localhost:8080/"
        }
      },
      "execution_count": null,
      "outputs": [
        {
          "output_type": "stream",
          "name": "stdout",
          "text": [
            "Audience Analysis:\n",
            " - **Health-Conscious Individuals:** People who prioritize their physical well-being and are looking for effective ways to track workouts, nutrition, and overall health metrics.\n",
            "\n",
            "- **Tech-Savvy Users:** Individuals who are comfortable using mobile technology and are interested in integrating fitness tracking and coaching into their daily routines through apps.\n",
            "\n",
            "- **Varied Fitness Levels:** A diverse demographic that includes beginners seeking guidance, intermediates looking to enhance their routines, and advanced users wanting to optimize their performance and track progress.\n",
            "\n",
            "Social Media Strategy:\n",
            " Certainly! To create an effective social media strategy, it’s important to define the audience first. Assuming your audience is young adults aged 18-30 who are tech-savvy, socially conscious, and engaged with current trends, here’s a tailored strategy:\n",
            "\n",
            "1. **Content Creation & Curation**: Develop a mix of engaging content formats, including short videos, infographics, and user-generated content that resonate with young adults. Focus on trending topics, sustainability, and social causes to capture their interests.\n",
            "\n",
            "2. **Platform Selection**: Prioritize platforms popular among young adults, such as Instagram, TikTok, and Twitter. Use Instagram Stories and TikTok challenges to create interactive and entertaining content while leveraging Twitter for real-time engagement and conversations.\n",
            "\n",
            "3. **Influencer Partnerships**: Collaborate with micro-influencers who align with your brand values and have a genuine connection with their followers. This can enhance authenticity and reach within niche communities, driving engagement and trust.\n",
            "\n",
            "4. **Community Engagement**: Foster a sense of community by actively responding to comments and messages, and encouraging discussions. Create polls, Q&A sessions, and live events to engage your audience and make them feel valued and heard.\n",
            "\n",
            "5. **Analytics & Adaptation**: Regularly analyze engagement metrics, audience feedback, and content performance to refine your strategy. Be adaptable and willing to pivot based on what resonates most with your audience, ensuring your content remains relevant and impactful.\n",
            "\n",
            "Implementing these strategies can help you effectively connect with and engage your target audience on social media.\n",
            "\n",
            "Content Calendar:\n",
            " Here's a 1-month Instagram content calendar that aligns with a general engagement strategy. This calendar focuses on a mix of educational content, user engagement, behind-the-scenes glimpses, and promotional posts. Feel free to customize the ideas to fit your brand's specific theme, products, or services.\n",
            "\n",
            "| Date       | Post Idea                              | Caption                                                            |\n",
            "|------------|----------------------------------------|--------------------------------------------------------------------|\n",
            "| 1st        | Introduction Post                      | \"🌟 Welcome to our page! We're excited to share our journey with you. Follow along for tips, inspiration, and exclusive content! #Welcome #JoinUs\" |\n",
            "| 3rd        | Tip of the Week                       | \"💡 Tip Tuesday: [Insert valuable tip related to your niche]. Save this post for reference! #TipTuesday #ProTip\"  |\n",
            "| 5th        | User-Generated Content (UGC)         | \"😍 We love seeing how you use our products! Tag us in your posts for a chance to be featured! #CustomerLove #UGC\"  |\n",
            "| 7th        | Behind-the-Scenes                     | \"🎬 A sneak peek behind the scenes! Here’s how we create [product/service]. What do you think? #BehindTheScenes #Process\" |\n",
            "| 10th       | Poll or Question in Stories            | \"📊 We want to hear from you! What kind of content do you want to see more of? Vote in our stories! #Poll #YourOpinionMatters\" |\n",
            "| 12th       | Inspirational Quote                   | \"✨ 'Success is not the key to happiness. Happiness is the key to success.' What motivates you? #MotivationMonday #Inspiration\" |\n",
            "| 15th       | Product Spotlight                      | \"🌟 Product Highlight: [Insert product name]. Did you know it [insert unique feature]? Check it out in our bio! #ProductSpotlight #ShopNow\" |\n",
            "| 17th       | Educational Carousel Post              | \"📚 Swipe through for [insert educational content]. Save this for future reference! #Education #LearnWithUs\" |\n",
            "| 20th       | Contest Announcement                   | \"🎉 Contest Alert! Win [prize] by [brief contest instructions]. Tag your friends below! #Contest #Giveaway\" |\n",
            "| 22nd       | Customer Testimonial                   | \"❤️ Hear from one of our amazing customers! [Insert brief testimonial]. Thank you for your support!\n"
          ]
        }
      ]
    },
    {
      "cell_type": "markdown",
      "source": [
        "## **💡 Reflection Questions for Students**\n",
        "\n",
        "- Which principle improved your results the most?\n",
        "- Did specifying format make the output easier to use?\n",
        "- How did providing examples change the output?\n",
        "- When would breaking down a task be most useful?"
      ],
      "metadata": {
        "id": "fkyT1W0XrJ7C"
      }
    }
  ],
  "metadata": {
    "colab": {
      "provenance": [],
      "include_colab_link": true
    },
    "kernelspec": {
      "display_name": "Python 3",
      "name": "python3"
    }
  },
  "nbformat": 4,
  "nbformat_minor": 0
}