{
  "cells": [
    {
      "cell_type": "markdown",
      "metadata": {
        "id": "RpsOG3v9XMxn"
      },
      "source": [
        "# ETL Lab Exercise: Global Earthquake Data Analysis\n",
        "\n",
        "## Problem Statement\n",
        "\n",
        "In this lab, you will build a complete ETL (Extract-Transform-Load) pipeline in Google Colab using publicly available global earthquake data from the US Geological Survey (USGS).\n",
        "\n",
        "---\n",
        "\n",
        "## Tasks\n",
        "\n",
        "### 1. Extract\n",
        "- **Download:**  \n",
        "  Download the latest global earthquake data directly from the USGS public API or their CSV archive.  \n",
        "  - Example URL (last 30 days earthquake data):  \n",
        "    https://earthquake.usgs.gov/earthquakes/feed/v1.0/summary/all_month.csv\n",
        "- **Load:**  \n",
        "  Load the CSV file into a pandas DataFrame.\n",
        "\n",
        "### 2. Transform\n",
        "- **Clean:**  \n",
        "  - Handle missing or inconsistent data entries.\n",
        "  - Rename columns for clarity if necessary.\n",
        "- **Feature Engineering:**  \n",
        "  - Create a new column `DepthCategory` classifying earthquake depth as \"Shallow\" (<70 km), \"Intermediate\" (70-300 km), or \"Deep\" (>300 km).\n",
        "  - Calculate time-based features such as extracting the month and weekday from the timestamp.\n",
        "  - Filter earthquakes by magnitude threshold (e.g., magnitude ≥ 4.0).\n",
        "\n",
        "### 3. Load\n",
        "- **Local Storage:**  \n",
        "  Store the transformed DataFrame into a local SQLite database inside Colab.\n",
        "- **Query & Analyze:**  \n",
        "  - Write SQL queries to:\n",
        "    - Find the number of earthquakes per depth category.\n",
        "    - List the top 5 strongest earthquakes in the last 30 days.\n",
        "    - Find average magnitude by weekday.\n",
        "\n",
        "---\n",
        "\n",
        "## Constraints\n",
        "\n",
        "- Perform the entire ETL process only with pandas, SQLite, and standard Python within Google Colab.\n",
        "- Do not use any external databases or proprietary cloud services.\n",
        "\n",
        "---\n",
        "\n",
        "## Dataset Details\n",
        "\n",
        "- **Dataset:** Global earthquakes, last 30 days  \n",
        "- **Source URL:** [USGS Earthquake Data - All Month CSV](https://earthquake.usgs.gov/earthquakes/feed/v1.0/summary/all_month.csv)\n",
        "\n",
        "---\n",
        "\n",
        "## Example Challenge Questions\n",
        "\n",
        "- Which depth category experiences the most earthquakes?\n",
        "- On which weekday do the strongest earthquakes most frequently occur?\n",
        "- What is the distribution of earthquake magnitudes in your filtered data?\n",
        "\n",
        "---\n",
        "\n",
        "**Expected Outcome:**  \n",
        "You will gain practical ETL experience on a real-world geoscience dataset, including downloading live data, cleaning and feature engineering, and storing/querying the results locally—all within a Colab notebook.\n"
      ]
    },
    {
      "cell_type": "markdown",
      "metadata": {
        "id": "WI2MFwO5Q76F"
      },
      "source": []
    },
    {
      "cell_type": "code",
      "source": [
        "# Load CSV file\n",
        "import pandas as pd\n",
        "\n",
        "url = \"https://earthquake.usgs.gov/earthquakes/feed/v1.0/summary/all_month.csv\"\n",
        "\n",
        "df = pd.read_csv(url)\n",
        "print(df.head())\n",
        "print(df.columns)\n"
      ],
      "metadata": {
        "id": "sEpRyYbm1cbq",
        "outputId": "cec2eb28-32e7-42e1-d598-bbdf9cf06c27",
        "colab": {
          "base_uri": "https://localhost:8080/"
        }
      },
      "execution_count": 1,
      "outputs": [
        {
          "output_type": "stream",
          "name": "stdout",
          "text": [
            "                       time   latitude   longitude  depth   mag magType   nst  \\\n",
            "0  2025-08-06T19:20:57.320Z  34.285500 -116.851997   1.47  1.19      ml  25.0   \n",
            "1  2025-08-06T19:08:53.900Z  34.854000 -118.788333   0.33  1.43      ml  24.0   \n",
            "2  2025-08-06T19:00:23.688Z  60.374000 -150.665800  32.90  1.60      ml   NaN   \n",
            "3  2025-08-06T18:53:27.360Z  33.271333 -116.417333   4.47  0.77      ml  23.0   \n",
            "4  2025-08-06T18:48:50.940Z  17.929167  -66.912667  11.61  1.71      md   7.0   \n",
            "\n",
            "     gap      dmin   rms  ...                   updated  \\\n",
            "0   49.0  0.061460  0.18  ...  2025-08-06T19:22:59.839Z   \n",
            "1   83.0  0.077850  0.17  ...  2025-08-06T19:16:41.531Z   \n",
            "2    NaN       NaN  0.66  ...  2025-08-06T19:03:34.329Z   \n",
            "3   75.0  0.003128  0.18  ...  2025-08-06T18:56:48.391Z   \n",
            "4  244.0  0.042970  0.09  ...  2025-08-06T19:11:56.960Z   \n",
            "\n",
            "                              place        type horizontalError depthError  \\\n",
            "0     3 km NNW of Big Bear City, CA  earthquake            0.29       0.42   \n",
            "1               7 km E of Lebec, CA  earthquake            0.26       0.49   \n",
            "2  15 km SSE of Funny River, Alaska  earthquake             NaN       1.50   \n",
            "3   4 km WNW of Borrego Springs, CA  earthquake            0.22       0.34   \n",
            "4    4 km S of Guánica, Puerto Rico  earthquake            0.88       0.26   \n",
            "\n",
            "   magError  magNst     status  locationSource magSource  \n",
            "0  0.206000     8.0  automatic              ci        ci  \n",
            "1  0.225000    38.0  automatic              ci        ci  \n",
            "2       NaN     NaN  automatic              ak        ak  \n",
            "3  0.318000     2.0  automatic              ci        ci  \n",
            "4  0.007727     2.0   reviewed              pr        pr  \n",
            "\n",
            "[5 rows x 22 columns]\n",
            "Index(['time', 'latitude', 'longitude', 'depth', 'mag', 'magType', 'nst',\n",
            "       'gap', 'dmin', 'rms', 'net', 'id', 'updated', 'place', 'type',\n",
            "       'horizontalError', 'depthError', 'magError', 'magNst', 'status',\n",
            "       'locationSource', 'magSource'],\n",
            "      dtype='object')\n"
          ]
        }
      ]
    },
    {
      "cell_type": "code",
      "source": [
        "# Detect Missing Values and Data Types\n",
        "print(df.info())\n",
        "print(\"\\n\")\n",
        "print(df.isnull().sum())"
      ],
      "metadata": {
        "id": "SIOE7wM_1mjl",
        "outputId": "cbec825a-d621-4ce7-b53a-6e708f5090e3",
        "colab": {
          "base_uri": "https://localhost:8080/"
        }
      },
      "execution_count": 2,
      "outputs": [
        {
          "output_type": "stream",
          "name": "stdout",
          "text": [
            "<class 'pandas.core.frame.DataFrame'>\n",
            "RangeIndex: 12199 entries, 0 to 12198\n",
            "Data columns (total 22 columns):\n",
            " #   Column           Non-Null Count  Dtype  \n",
            "---  ------           --------------  -----  \n",
            " 0   time             12199 non-null  object \n",
            " 1   latitude         12199 non-null  float64\n",
            " 2   longitude        12199 non-null  float64\n",
            " 3   depth            12199 non-null  float64\n",
            " 4   mag              12198 non-null  float64\n",
            " 5   magType          12198 non-null  object \n",
            " 6   nst              10379 non-null  float64\n",
            " 7   gap              10378 non-null  float64\n",
            " 8   dmin             10372 non-null  float64\n",
            " 9   rms              12197 non-null  float64\n",
            " 10  net              12199 non-null  object \n",
            " 11  id               12199 non-null  object \n",
            " 12  updated          12199 non-null  object \n",
            " 13  place            12199 non-null  object \n",
            " 14  type             12199 non-null  object \n",
            " 15  horizontalError  9816 non-null   float64\n",
            " 16  depthError       12197 non-null  float64\n",
            " 17  magError         10342 non-null  float64\n",
            " 18  magNst           10372 non-null  float64\n",
            " 19  status           12199 non-null  object \n",
            " 20  locationSource   12199 non-null  object \n",
            " 21  magSource        12199 non-null  object \n",
            "dtypes: float64(12), object(10)\n",
            "memory usage: 2.0+ MB\n",
            "None\n",
            "\n",
            "\n",
            "time                  0\n",
            "latitude              0\n",
            "longitude             0\n",
            "depth                 0\n",
            "mag                   1\n",
            "magType               1\n",
            "nst                1820\n",
            "gap                1821\n",
            "dmin               1827\n",
            "rms                   2\n",
            "net                   0\n",
            "id                    0\n",
            "updated               0\n",
            "place                 0\n",
            "type                  0\n",
            "horizontalError    2383\n",
            "depthError            2\n",
            "magError           1857\n",
            "magNst             1827\n",
            "status                0\n",
            "locationSource        0\n",
            "magSource             0\n",
            "dtype: int64\n"
          ]
        }
      ]
    },
    {
      "cell_type": "code",
      "source": [
        "# Drop columns that will be required.\n",
        "df.drop(columns=['magType', 'nst','gap', 'dmin', 'rms', 'net','updated', 'horizontalError', 'depthError', 'magError', 'magNst', 'status', 'locationSource', 'magSource'], inplace=True)\n",
        "\n"
      ],
      "metadata": {
        "id": "M_ykJ9qn1ucU",
        "outputId": "439d2d75-a104-4d14-9468-ec8ddda69637",
        "colab": {
          "base_uri": "https://localhost:8080/",
          "height": 410
        }
      },
      "execution_count": 4,
      "outputs": [
        {
          "output_type": "error",
          "ename": "KeyError",
          "evalue": "\"['magType', 'nst', 'gap', 'dmin', 'rms', 'net', 'updated', 'horizontalError', 'depthError', 'magError', 'magNst', 'status', 'locationSource', 'magSource'] not found in axis\"",
          "traceback": [
            "\u001b[0;31m---------------------------------------------------------------------------\u001b[0m",
            "\u001b[0;31mKeyError\u001b[0m                                  Traceback (most recent call last)",
            "\u001b[0;32m/tmp/ipython-input-1067346072.py\u001b[0m in \u001b[0;36m<cell line: 0>\u001b[0;34m()\u001b[0m\n\u001b[1;32m      1\u001b[0m \u001b[0;31m# Drop columns that will be required.\u001b[0m\u001b[0;34m\u001b[0m\u001b[0;34m\u001b[0m\u001b[0m\n\u001b[0;32m----> 2\u001b[0;31m \u001b[0mdf\u001b[0m\u001b[0;34m.\u001b[0m\u001b[0mdrop\u001b[0m\u001b[0;34m(\u001b[0m\u001b[0mcolumns\u001b[0m\u001b[0;34m=\u001b[0m\u001b[0;34m[\u001b[0m\u001b[0;34m'magType'\u001b[0m\u001b[0;34m,\u001b[0m \u001b[0;34m'nst'\u001b[0m\u001b[0;34m,\u001b[0m\u001b[0;34m'gap'\u001b[0m\u001b[0;34m,\u001b[0m \u001b[0;34m'dmin'\u001b[0m\u001b[0;34m,\u001b[0m \u001b[0;34m'rms'\u001b[0m\u001b[0;34m,\u001b[0m \u001b[0;34m'net'\u001b[0m\u001b[0;34m,\u001b[0m\u001b[0;34m'updated'\u001b[0m\u001b[0;34m,\u001b[0m \u001b[0;34m'horizontalError'\u001b[0m\u001b[0;34m,\u001b[0m \u001b[0;34m'depthError'\u001b[0m\u001b[0;34m,\u001b[0m \u001b[0;34m'magError'\u001b[0m\u001b[0;34m,\u001b[0m \u001b[0;34m'magNst'\u001b[0m\u001b[0;34m,\u001b[0m \u001b[0;34m'status'\u001b[0m\u001b[0;34m,\u001b[0m \u001b[0;34m'locationSource'\u001b[0m\u001b[0;34m,\u001b[0m \u001b[0;34m'magSource'\u001b[0m\u001b[0;34m]\u001b[0m\u001b[0;34m,\u001b[0m \u001b[0minplace\u001b[0m\u001b[0;34m=\u001b[0m\u001b[0;32mTrue\u001b[0m\u001b[0;34m)\u001b[0m\u001b[0;34m\u001b[0m\u001b[0;34m\u001b[0m\u001b[0m\n\u001b[0m\u001b[1;32m      3\u001b[0m \u001b[0;34m\u001b[0m\u001b[0m\n\u001b[1;32m      4\u001b[0m \u001b[0;31m# Fill in blank values with median.\u001b[0m\u001b[0;34m\u001b[0m\u001b[0;34m\u001b[0m\u001b[0m\n\u001b[1;32m      5\u001b[0m \u001b[0mdf\u001b[0m\u001b[0;34m[\u001b[0m\u001b[0;34m\"mag\"\u001b[0m\u001b[0;34m]\u001b[0m\u001b[0;34m.\u001b[0m\u001b[0mfillna\u001b[0m\u001b[0;34m(\u001b[0m\u001b[0mdf\u001b[0m\u001b[0;34m[\u001b[0m\u001b[0;34m\"mag\"\u001b[0m\u001b[0;34m]\u001b[0m\u001b[0;34m.\u001b[0m\u001b[0mmedian\u001b[0m\u001b[0;34m(\u001b[0m\u001b[0;34m)\u001b[0m\u001b[0;34m,\u001b[0m \u001b[0minplace\u001b[0m\u001b[0;34m=\u001b[0m\u001b[0;32mTrue\u001b[0m\u001b[0;34m)\u001b[0m\u001b[0;34m\u001b[0m\u001b[0;34m\u001b[0m\u001b[0m\n",
            "\u001b[0;32m/usr/local/lib/python3.11/dist-packages/pandas/core/frame.py\u001b[0m in \u001b[0;36mdrop\u001b[0;34m(self, labels, axis, index, columns, level, inplace, errors)\u001b[0m\n\u001b[1;32m   5579\u001b[0m                 \u001b[0mweight\u001b[0m  \u001b[0;36m1.0\u001b[0m     \u001b[0;36m0.8\u001b[0m\u001b[0;34m\u001b[0m\u001b[0;34m\u001b[0m\u001b[0m\n\u001b[1;32m   5580\u001b[0m         \"\"\"\n\u001b[0;32m-> 5581\u001b[0;31m         return super().drop(\n\u001b[0m\u001b[1;32m   5582\u001b[0m             \u001b[0mlabels\u001b[0m\u001b[0;34m=\u001b[0m\u001b[0mlabels\u001b[0m\u001b[0;34m,\u001b[0m\u001b[0;34m\u001b[0m\u001b[0;34m\u001b[0m\u001b[0m\n\u001b[1;32m   5583\u001b[0m             \u001b[0maxis\u001b[0m\u001b[0;34m=\u001b[0m\u001b[0maxis\u001b[0m\u001b[0;34m,\u001b[0m\u001b[0;34m\u001b[0m\u001b[0;34m\u001b[0m\u001b[0m\n",
            "\u001b[0;32m/usr/local/lib/python3.11/dist-packages/pandas/core/generic.py\u001b[0m in \u001b[0;36mdrop\u001b[0;34m(self, labels, axis, index, columns, level, inplace, errors)\u001b[0m\n\u001b[1;32m   4786\u001b[0m         \u001b[0;32mfor\u001b[0m \u001b[0maxis\u001b[0m\u001b[0;34m,\u001b[0m \u001b[0mlabels\u001b[0m \u001b[0;32min\u001b[0m \u001b[0maxes\u001b[0m\u001b[0;34m.\u001b[0m\u001b[0mitems\u001b[0m\u001b[0;34m(\u001b[0m\u001b[0;34m)\u001b[0m\u001b[0;34m:\u001b[0m\u001b[0;34m\u001b[0m\u001b[0;34m\u001b[0m\u001b[0m\n\u001b[1;32m   4787\u001b[0m             \u001b[0;32mif\u001b[0m \u001b[0mlabels\u001b[0m \u001b[0;32mis\u001b[0m \u001b[0;32mnot\u001b[0m \u001b[0;32mNone\u001b[0m\u001b[0;34m:\u001b[0m\u001b[0;34m\u001b[0m\u001b[0;34m\u001b[0m\u001b[0m\n\u001b[0;32m-> 4788\u001b[0;31m                 \u001b[0mobj\u001b[0m \u001b[0;34m=\u001b[0m \u001b[0mobj\u001b[0m\u001b[0;34m.\u001b[0m\u001b[0m_drop_axis\u001b[0m\u001b[0;34m(\u001b[0m\u001b[0mlabels\u001b[0m\u001b[0;34m,\u001b[0m \u001b[0maxis\u001b[0m\u001b[0;34m,\u001b[0m \u001b[0mlevel\u001b[0m\u001b[0;34m=\u001b[0m\u001b[0mlevel\u001b[0m\u001b[0;34m,\u001b[0m \u001b[0merrors\u001b[0m\u001b[0;34m=\u001b[0m\u001b[0merrors\u001b[0m\u001b[0;34m)\u001b[0m\u001b[0;34m\u001b[0m\u001b[0;34m\u001b[0m\u001b[0m\n\u001b[0m\u001b[1;32m   4789\u001b[0m \u001b[0;34m\u001b[0m\u001b[0m\n\u001b[1;32m   4790\u001b[0m         \u001b[0;32mif\u001b[0m \u001b[0minplace\u001b[0m\u001b[0;34m:\u001b[0m\u001b[0;34m\u001b[0m\u001b[0;34m\u001b[0m\u001b[0m\n",
            "\u001b[0;32m/usr/local/lib/python3.11/dist-packages/pandas/core/generic.py\u001b[0m in \u001b[0;36m_drop_axis\u001b[0;34m(self, labels, axis, level, errors, only_slice)\u001b[0m\n\u001b[1;32m   4828\u001b[0m                 \u001b[0mnew_axis\u001b[0m \u001b[0;34m=\u001b[0m \u001b[0maxis\u001b[0m\u001b[0;34m.\u001b[0m\u001b[0mdrop\u001b[0m\u001b[0;34m(\u001b[0m\u001b[0mlabels\u001b[0m\u001b[0;34m,\u001b[0m \u001b[0mlevel\u001b[0m\u001b[0;34m=\u001b[0m\u001b[0mlevel\u001b[0m\u001b[0;34m,\u001b[0m \u001b[0merrors\u001b[0m\u001b[0;34m=\u001b[0m\u001b[0merrors\u001b[0m\u001b[0;34m)\u001b[0m\u001b[0;34m\u001b[0m\u001b[0;34m\u001b[0m\u001b[0m\n\u001b[1;32m   4829\u001b[0m             \u001b[0;32melse\u001b[0m\u001b[0;34m:\u001b[0m\u001b[0;34m\u001b[0m\u001b[0;34m\u001b[0m\u001b[0m\n\u001b[0;32m-> 4830\u001b[0;31m                 \u001b[0mnew_axis\u001b[0m \u001b[0;34m=\u001b[0m \u001b[0maxis\u001b[0m\u001b[0;34m.\u001b[0m\u001b[0mdrop\u001b[0m\u001b[0;34m(\u001b[0m\u001b[0mlabels\u001b[0m\u001b[0;34m,\u001b[0m \u001b[0merrors\u001b[0m\u001b[0;34m=\u001b[0m\u001b[0merrors\u001b[0m\u001b[0;34m)\u001b[0m\u001b[0;34m\u001b[0m\u001b[0;34m\u001b[0m\u001b[0m\n\u001b[0m\u001b[1;32m   4831\u001b[0m             \u001b[0mindexer\u001b[0m \u001b[0;34m=\u001b[0m \u001b[0maxis\u001b[0m\u001b[0;34m.\u001b[0m\u001b[0mget_indexer\u001b[0m\u001b[0;34m(\u001b[0m\u001b[0mnew_axis\u001b[0m\u001b[0;34m)\u001b[0m\u001b[0;34m\u001b[0m\u001b[0;34m\u001b[0m\u001b[0m\n\u001b[1;32m   4832\u001b[0m \u001b[0;34m\u001b[0m\u001b[0m\n",
            "\u001b[0;32m/usr/local/lib/python3.11/dist-packages/pandas/core/indexes/base.py\u001b[0m in \u001b[0;36mdrop\u001b[0;34m(self, labels, errors)\u001b[0m\n\u001b[1;32m   7068\u001b[0m         \u001b[0;32mif\u001b[0m \u001b[0mmask\u001b[0m\u001b[0;34m.\u001b[0m\u001b[0many\u001b[0m\u001b[0;34m(\u001b[0m\u001b[0;34m)\u001b[0m\u001b[0;34m:\u001b[0m\u001b[0;34m\u001b[0m\u001b[0;34m\u001b[0m\u001b[0m\n\u001b[1;32m   7069\u001b[0m             \u001b[0;32mif\u001b[0m \u001b[0merrors\u001b[0m \u001b[0;34m!=\u001b[0m \u001b[0;34m\"ignore\"\u001b[0m\u001b[0;34m:\u001b[0m\u001b[0;34m\u001b[0m\u001b[0;34m\u001b[0m\u001b[0m\n\u001b[0;32m-> 7070\u001b[0;31m                 \u001b[0;32mraise\u001b[0m \u001b[0mKeyError\u001b[0m\u001b[0;34m(\u001b[0m\u001b[0;34mf\"{labels[mask].tolist()} not found in axis\"\u001b[0m\u001b[0;34m)\u001b[0m\u001b[0;34m\u001b[0m\u001b[0;34m\u001b[0m\u001b[0m\n\u001b[0m\u001b[1;32m   7071\u001b[0m             \u001b[0mindexer\u001b[0m \u001b[0;34m=\u001b[0m \u001b[0mindexer\u001b[0m\u001b[0;34m[\u001b[0m\u001b[0;34m~\u001b[0m\u001b[0mmask\u001b[0m\u001b[0;34m]\u001b[0m\u001b[0;34m\u001b[0m\u001b[0;34m\u001b[0m\u001b[0m\n\u001b[1;32m   7072\u001b[0m         \u001b[0;32mreturn\u001b[0m \u001b[0mself\u001b[0m\u001b[0;34m.\u001b[0m\u001b[0mdelete\u001b[0m\u001b[0;34m(\u001b[0m\u001b[0mindexer\u001b[0m\u001b[0;34m)\u001b[0m\u001b[0;34m\u001b[0m\u001b[0;34m\u001b[0m\u001b[0m\n",
            "\u001b[0;31mKeyError\u001b[0m: \"['magType', 'nst', 'gap', 'dmin', 'rms', 'net', 'updated', 'horizontalError', 'depthError', 'magError', 'magNst', 'status', 'locationSource', 'magSource'] not found in axis\""
          ]
        }
      ]
    },
    {
      "cell_type": "code",
      "source": [
        "# Fill in blank values with median.\n",
        "df[\"mag\"].fillna(df[\"mag\"].median(), inplace=True)"
      ],
      "metadata": {
        "id": "DqMvY2VX2dwE",
        "outputId": "3e52b3ed-a826-44db-d542-7408bc8e7d22",
        "colab": {
          "base_uri": "https://localhost:8080/"
        }
      },
      "execution_count": 5,
      "outputs": [
        {
          "output_type": "stream",
          "name": "stderr",
          "text": [
            "/tmp/ipython-input-3903895307.py:2: FutureWarning: A value is trying to be set on a copy of a DataFrame or Series through chained assignment using an inplace method.\n",
            "The behavior will change in pandas 3.0. This inplace method will never work because the intermediate object on which we are setting values always behaves as a copy.\n",
            "\n",
            "For example, when doing 'df[col].method(value, inplace=True)', try using 'df.method({col: value}, inplace=True)' or df[col] = df[col].method(value) instead, to perform the operation inplace on the original object.\n",
            "\n",
            "\n",
            "  df[\"mag\"].fillna(df[\"mag\"].median(), inplace=True)\n"
          ]
        }
      ]
    },
    {
      "cell_type": "code",
      "source": [
        "# Data Profiling with ydata_profiling - but this can be skipped.\n",
        "!pip install ydata-profiling\n",
        "from ydata_profiling import ProfileReport\n",
        "\n",
        "# Generate profile report\n",
        "profile = ProfileReport(df, title='Titanic Data Profiling', explorative=True)\n",
        "profile.to_notebook_iframe()  # For Jupyter/Colab interactive view"
      ],
      "metadata": {
        "id": "qJHizqh42oEx"
      },
      "execution_count": null,
      "outputs": []
    },
    {
      "cell_type": "code",
      "source": [
        "def depth_category(depth):\n",
        "    if depth < 70:\n",
        "        return \"Shallow\"\n",
        "    elif 70 <= depth <= 300:\n",
        "        return \"Intermediate\"\n",
        "    else:\n",
        "        return \"Deep\"\n",
        "\n",
        "df[\"DepthCategory\"] = df[\"depth\"].apply(depth_category)\n"
      ],
      "metadata": {
        "id": "1y4zmgBy2n6n"
      },
      "execution_count": 6,
      "outputs": []
    }
  ],
  "metadata": {
    "colab": {
      "name": "Welcome to Colab",
      "provenance": []
    },
    "kernelspec": {
      "display_name": "Python 3",
      "name": "python3"
    }
  },
  "nbformat": 4,
  "nbformat_minor": 0
}