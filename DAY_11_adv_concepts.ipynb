{
  "nbformat": 4,
  "nbformat_minor": 0,
  "metadata": {
    "colab": {
      "provenance": [],
      "authorship_tag": "ABX9TyNGhE/GkVSrNvTMyfSoa6Ij"
    },
    "kernelspec": {
      "name": "python3",
      "display_name": "Python 3"
    },
    "language_info": {
      "name": "python"
    }
  },
  "cells": [
    {
      "cell_type": "code",
      "execution_count": 6,
      "metadata": {
        "id": "5HiBypOljFgu"
      },
      "outputs": [],
      "source": [
        "# Install and import OpenAI SDK\n",
        "!pip install openai -q\n",
        "\n",
        "from openai import OpenAI\n",
        "from google.colab import userdata\n",
        "\n",
        "client = OpenAI(api_key=userdata.get(\"OPENAI_API_KEY\"))\n",
        "\n",
        "def ask_gpt(prompt, temp=0.7, max_tokens=300):\n",
        "    \"\"\"Helper function to send prompt to GPT-4o-mini.\"\"\"\n",
        "    response = client.chat.completions.create(\n",
        "        model=\"gpt-4o-mini\",\n",
        "        messages=[{\"role\": \"user\", \"content\": prompt}],\n",
        "        temperature=temp,\n",
        "        max_tokens=max_tokens\n",
        "    )\n",
        "    return response.choices[0].message.content"
      ]
    },
    {
      "cell_type": "code",
      "source": [
        "# CoT OFF\n",
        "prompt_no_cot = \"\"\"\n",
        "A store sells pencils at 3 for $1.50.\n",
        "How many pencils can you buy with $6?\n",
        "\"\"\"\n",
        "print(\"=== Without Chain-of-Thought ===\")\n",
        "print(ask_gpt(prompt_no_cot, temp=0))\n",
        "\n",
        "# CoT ON\n",
        "prompt_cot = \"\"\"\n",
        "A store sells pencils at 3 for $1.50.\n",
        "How many pencils can you buy with $6?\n",
        "Let's think step by step.\n",
        "\"\"\"\n",
        "print(\"\\n=== With Chain-of-Thought ===\")\n",
        "print(ask_gpt(prompt_cot, temp=0))\n",
        "\n",
        "# Observation: CoT version should show interim steps like:\n",
        "# 1. Price per pencil calculation\n",
        "# 2. Division into $6 budget"
      ],
      "metadata": {
        "colab": {
          "base_uri": "https://localhost:8080/"
        },
        "id": "VIPdOQLejuA9",
        "outputId": "032a3970-ce1d-46e4-885e-0507dbe3eed3"
      },
      "execution_count": 7,
      "outputs": [
        {
          "output_type": "stream",
          "name": "stdout",
          "text": [
            "=== Without Chain-of-Thought ===\n",
            "To find out how many pencils you can buy with $6, first determine how many sets of 3 pencils you can purchase with that amount.\n",
            "\n",
            "The cost for 3 pencils is $1.50. \n",
            "\n",
            "Now, divide $6 by $1.50 to find out how many sets of 3 pencils you can buy:\n",
            "\n",
            "\\[\n",
            "\\frac{6}{1.50} = 4\n",
            "\\]\n",
            "\n",
            "This means you can buy 4 sets of 3 pencils. Since each set contains 3 pencils, you can calculate the total number of pencils:\n",
            "\n",
            "\\[\n",
            "4 \\text{ sets} \\times 3 \\text{ pencils/set} = 12 \\text{ pencils}\n",
            "\\]\n",
            "\n",
            "Therefore, with $6, you can buy **12 pencils**.\n",
            "\n",
            "=== With Chain-of-Thought ===\n",
            "To determine how many pencils you can buy with $6 when the store sells pencils at 3 for $1.50, we can follow these steps:\n",
            "\n",
            "1. **Find the cost per pencil**: \n",
            "   - If 3 pencils cost $1.50, then the cost per pencil is:\n",
            "     \\[\n",
            "     \\text{Cost per pencil} = \\frac{1.50}{3} = 0.50 \\text{ dollars per pencil}\n",
            "     \\]\n",
            "\n",
            "2. **Determine how many pencils you can buy with $6**:\n",
            "   - To find out how many pencils you can buy with $6, we divide the total amount of money by the cost per pencil:\n",
            "     \\[\n",
            "     \\text{Number of pencils} = \\frac{6}{0.50} = 12\n",
            "     \\]\n",
            "\n",
            "3. **Conclusion**:\n",
            "   - You can buy **12 pencils** with $6.\n"
          ]
        }
      ]
    },
    {
      "cell_type": "code",
      "source": [
        "# No persona\n",
        "prompt_no_persona = \"Give me 3 must-visit spots in Kyoto, Japan.\"\n",
        "print(\"=== Without Persona ===\")\n",
        "print(ask_gpt(prompt_no_persona))\n",
        "\n",
        "# With persona\n",
        "prompt_persona = \"\"\"\n",
        "You are a seasoned Japan travel guide.\n",
        "Create an exciting 3-point list of must-visit spots in Kyoto, Japan,\n",
        "including cultural context and insider tips.\n",
        "\"\"\"\n",
        "print(\"\\n=== With Persona ===\")\n",
        "print(ask_gpt(prompt_persona))\n",
        "\n",
        "# Observation: Persona version should sound warmer, more descriptive,\n",
        "# with tips only a 'guide' would give."
      ],
      "metadata": {
        "colab": {
          "base_uri": "https://localhost:8080/"
        },
        "id": "8JTtfqEokP0L",
        "outputId": "f787039f-163b-4b78-f37d-9d36fefb1b74"
      },
      "execution_count": 8,
      "outputs": [
        {
          "output_type": "stream",
          "name": "stdout",
          "text": [
            "=== Without Persona ===\n",
            "Kyoto, Japan, is renowned for its stunning historical sites, beautiful temples, and rich cultural heritage. Here are three must-visit spots:\n",
            "\n",
            "1. **Kinkaku-ji (Golden Pavilion)**: This iconic Zen Buddhist temple is famous for its stunning gold leaf exterior that reflects in the surrounding pond. The serene gardens and the picturesque setting make it a perfect spot for photography and meditation. Visiting during different seasons provides a unique experience, especially when the cherry blossoms bloom or the leaves change color in autumn.\n",
            "\n",
            "2. **Fushimi Inari Taisha**: Known for its thousands of vibrant red torii gates, this Shinto shrine is dedicated to Inari, the god of rice. The trails lead up Mount Inari, offering a beautiful hike with stunning views of the city. The atmosphere is particularly enchanting during early mornings or late afternoons when the light filters through the gates.\n",
            "\n",
            "3. **Arashiyama Bamboo Grove**: This enchanting bamboo forest is a must-see for nature lovers. Walking through the towering bamboo stalks creates a magical atmosphere, and the sound of the wind rustling through the leaves adds to the experience. Nearby, you can also explore the Iwatayama Monkey Park and the picturesque Togetsukyo Bridge.\n",
            "\n",
            "These locations capture the essence of Kyoto’s beauty and cultural significance, making them essential stops on your visit.\n",
            "\n",
            "=== With Persona ===\n",
            "Absolutely! Kyoto, the heart of Japan's cultural heritage, is a treasure trove of history, art, and natural beauty. Here are three must-visit spots:\n",
            "\n",
            "### 1. **Kinkaku-ji (The Golden Pavilion)**\n",
            "   - **Cultural Context**: Kinkaku-ji, a stunning Zen Buddhist temple, is covered in gold leaf, reflecting beautifully in the surrounding pond. Originally built as a retirement villa for a shogun in the 14th century, it was converted into a temple after his death.\n",
            "   - **Insider Tip**: Visit early in the morning or late in the afternoon to avoid crowds and capture the best photographs. Don't forget to explore the surrounding gardens, which are just as breathtaking as the temple itself. Consider bringing a small picnic to enjoy by the pond!\n",
            "\n",
            "### 2. **Fushimi Inari Taisha**\n",
            "   - **Cultural Context**: This iconic shrine is famous for its thousands of vermillion torii gates that wind up the sacred Mount Inari. Dedicated to Inari, the Shinto god of rice, the shrine has been a pilgrimage site since ancient times.\n",
            "   - **Insider Tip**: Instead of just visiting the base, hike to the top of the mountain (about a 2-hour walk). The journey is less crowded, and you'll encounter smaller, serene shrines along the way. Bring water and snacks to enjoy at the summit while taking in panoramic views of Kyoto.\n",
            "\n",
            "###\n"
          ]
        }
      ]
    },
    {
      "cell_type": "code",
      "source": [
        "# Concise & Formal\n",
        "prompt_concise_formal = \"Explain global warming in exactly 2 formal sentences.\"\n",
        "print(\"=== Concise & Formal ===\")\n",
        "print(ask_gpt(prompt_concise_formal))\n",
        "\n",
        "# Detailed & Casual\n",
        "prompt_detailed_casual = \"Explain global warming in a detailed but casual, friendly tone.\"\n",
        "print(\"\\n=== Detailed & Casual ===\")\n",
        "print(ask_gpt(prompt_detailed_casual))\n",
        "\n",
        "# Observation: Expect big differences in sentence length, vocabulary,\n",
        "# and reader engagement."
      ],
      "metadata": {
        "colab": {
          "base_uri": "https://localhost:8080/"
        },
        "id": "Wj4JEJRwkb6r",
        "outputId": "4ec0ce69-9bdf-4566-bd3e-f2f4a9e347c1"
      },
      "execution_count": 9,
      "outputs": [
        {
          "output_type": "stream",
          "name": "stdout",
          "text": [
            "=== Concise & Formal ===\n",
            "Global warming refers to the long-term increase in Earth's average surface temperature due to the accumulation of greenhouse gases in the atmosphere, primarily from human activities such as burning fossil fuels and deforestation. This phenomenon leads to significant environmental changes, including rising sea levels, altered weather patterns, and increased frequency of extreme weather events.\n",
            "\n",
            "=== Detailed & Casual ===\n",
            "Sure! Let’s chat about global warming in a way that’s easy to understand.\n",
            "\n",
            "So, global warming is basically the long-term heating of our planet due to human activities, especially the burning of fossil fuels like coal, oil, and natural gas. When we burn these fuels, they release greenhouse gases (GHGs) like carbon dioxide (CO2) and methane (CH4) into the atmosphere. Think of greenhouse gases like a cozy blanket around Earth. They trap heat from the sun, keeping our planet warm enough for us to live. But here’s the catch: we’ve been piling on way too many blankets!\n",
            "\n",
            "Now, the Earth’s climate has always changed over millions of years due to natural factors, but what’s happening now is different. Since the late 19th century, the planet’s average temperature has risen significantly—about 1.2 degrees Celsius (or about 2.2 degrees Fahrenheit) since pre-industrial times. While that might not sound like much, it can have some pretty big impacts on weather patterns, sea levels, and ecosystems.\n",
            "\n",
            "When the planet warms up, we can expect more extreme weather. This means hotter summers, heavier rainfall, and even droughts in some places. These changes can lead to flooding, wildfires, and heatwaves, which can be tough on people, animals, and plants alike. Plus, as glaciers and ice sheets melt, sea levels rise, which threatens coastal communities.\n",
            "\n",
            "But it’s not all doom and gloom! The\n"
          ]
        }
      ]
    },
    {
      "cell_type": "code",
      "source": [
        "# Creative (High temp)\n",
        "prompt_creative = \"Imagine a day in 2080 where cities float above oceans. Describe creatively.\"\n",
        "print(\"=== Creative (Temp=0.9) ===\")\n",
        "print(ask_gpt(prompt_creative, temp=0.9))\n",
        "\n",
        "# Accurate (Low temp)\n",
        "prompt_accurate = \"\"\"\n",
        "Describe realistic expectations for global urban life in 2080\n",
        "based on current scientific and economic data.\n",
        "\"\"\"\n",
        "print(\"\\n=== Accurate (Temp=0.2) ===\")\n",
        "print(ask_gpt(prompt_accurate, temp=0.2))\n",
        "\n",
        "# Observation:\n",
        "# High temp = imaginative, novel scenarios\n",
        "# Low temp = grounded, factual predictions"
      ],
      "metadata": {
        "colab": {
          "base_uri": "https://localhost:8080/"
        },
        "id": "Kqntno3Yki5e",
        "outputId": "23f3969a-23bc-4c16-e47a-7cdc9f28bbf3"
      },
      "execution_count": 10,
      "outputs": [
        {
          "output_type": "stream",
          "name": "stdout",
          "text": [
            "=== Creative (Temp=0.9) ===\n",
            "The year is 2080. As dawn breaks over the horizon, a delicate sun spills golden light across the undulating waves of the vast ocean below. Here, in the floating city of Alcyon, a kaleidoscope of colors dances in the sky, hues of soft lavender and fiery orange reflecting off the crystalline domes that crown the buildings. Suspended high above the water, the city sways gently, cradled by a latticework of bioengineered floating platforms, each brimming with vibrant flora that captures the morning dew and glows softly with bioluminescent life.\n",
            "\n",
            "As the inhabitants awaken, their morning routines are accompanied by the soothing sound of waves lapping against the city’s foundation. Eco-friendly transportation pods, streamlined and gliding silently through the air, weave between the skyscrapers and terraces, their soft hums harmonizing with the distant calls of seabirds. The city is alive, a symphony of movement and peace, where life flourishes in perfect harmony with the ocean’s rhythm.\n",
            "\n",
            "People step out onto their balconies, where gardens of hydroponic herbs and flowers spill over the edges, their scents mingling in the salty breeze. Children, their laughter bright as the dawn, race across suspended walkways lined with translucent solar panels that shimmer like fish scales, generating energy to power the city with incredible efficiency. Underneath, schools of iridescent fish dart through the crystalline waters, their movements choreographed in a ballet that echoes the vibrant lives above\n",
            "\n",
            "=== Accurate (Temp=0.2) ===\n",
            "By 2080, global urban life is expected to be shaped by a combination of technological advancements, demographic shifts, environmental challenges, and evolving social dynamics. Here are some realistic expectations based on current scientific and economic data:\n",
            "\n",
            "### 1. **Population Growth and Urbanization**\n",
            "- **Increased Urban Population**: The UN projects that by 2050, about 68% of the world’s population will live in urban areas. By 2080, this could rise further, leading to megacities with populations exceeding 20 million.\n",
            "- **Diverse Demographics**: Urban populations will be increasingly diverse, with significant migration from rural areas and international immigration contributing to multicultural urban environments.\n",
            "\n",
            "### 2. **Sustainable Infrastructure**\n",
            "- **Green Buildings**: Urban architecture will likely prioritize sustainability, featuring energy-efficient designs, green roofs, and materials that reduce carbon footprints.\n",
            "- **Smart Cities**: Integration of IoT (Internet of Things) technologies will enhance urban management, improving traffic flow, energy use, and public services through data-driven decision-making.\n",
            "\n",
            "### 3. **Transportation Innovations**\n",
            "- **Autonomous Vehicles**: Self-driving cars and public transport systems may dominate urban mobility, reducing traffic congestion and accidents.\n",
            "- **Public Transit Expansion**: Investments in efficient public transportation systems, including electric buses and high-speed rail, will be crucial to accommodate growing populations and reduce reliance on personal vehicles.\n",
            "\n",
            "### 4. **Environmental Challenges**\n",
            "- **Climate Resilience**: Cities will need\n"
          ]
        }
      ]
    },
    {
      "cell_type": "code",
      "source": [
        "# ==== Setup ====\n",
        "!pip install openai -q\n",
        "\n",
        "from openai import OpenAI\n",
        "from google.colab import userdata # Import userdata\n",
        "\n",
        "client = OpenAI(api_key=userdata.get(\"OPENAI_API_KEY\")) # Use userdata.get()\n",
        "\n",
        "def ask_gpt(prompt, temperature=0.7, max_tokens=500):\n",
        "    \"\"\"Send prompt to GPT-4o-mini and return model's reply text.\"\"\"\n",
        "    response = client.chat.completions.create(\n",
        "        model=\"gpt-4o-mini\",\n",
        "        messages=[{\"role\": \"user\", \"content\": prompt}],\n",
        "        temperature=temperature,\n",
        "        max_tokens=max_tokens\n",
        "    )\n",
        "    return response.choices[0].message.content"
      ],
      "metadata": {
        "id": "SCf5-s8EkwAk"
      },
      "execution_count": 13,
      "outputs": []
    },
    {
      "cell_type": "code",
      "source": [
        "prompt_interview = \"\"\"\n",
        "Simulate an interview between a journalist and the CEO of a space tourism company in the year 2045.\n",
        "Include at least 5 Q&A pairs covering:\n",
        "- History of the company\n",
        "- Spacecraft technology\n",
        "- Safety measures\n",
        "- Cost to customers\n",
        "- Plans for the next decade\n",
        "Format clearly as:\n",
        "Q: ...\n",
        "A: ...\n",
        "\"\"\"\n",
        "\n",
        "print(\"=== Interview Pattern Output ===\\n\")\n",
        "print(ask_gpt(prompt_interview, temperature=0.6))"
      ],
      "metadata": {
        "colab": {
          "base_uri": "https://localhost:8080/"
        },
        "id": "ehNw9RBrk-2Z",
        "outputId": "bab75e60-8a27-4b90-8017-1a84993b7b70"
      },
      "execution_count": 14,
      "outputs": [
        {
          "output_type": "stream",
          "name": "stdout",
          "text": [
            "=== Interview Pattern Output ===\n",
            "\n",
            "**Q: Can you tell us a bit about the history of your company and how it has evolved since its inception?**  \n",
            "**A:** Absolutely! Our company, Celestial Voyages, was founded in 2025 with a vision to make space travel accessible to everyone. Initially, we focused on suborbital flights, catering to adventure seekers and space enthusiasts. Over the years, we successfully launched multiple spacecraft and built a loyal customer base. By 2035, we expanded our offerings to include orbital stays, and in 2040, we introduced our first lunar excursion package. Today, we’re proud to be a leader in the space tourism industry, with thousands of satisfied customers and a reputation for innovation and safety.\n",
            "\n",
            "---\n",
            "\n",
            "**Q: What advancements in spacecraft technology have you made to enhance the customer experience?**  \n",
            "**A:** Our spacecraft, the StarSeeker, is the result of years of research and development. It features advanced propulsion systems that allow for smoother launches and re-entries, as well as enhanced life support systems that ensure maximum comfort and safety during flights. We’ve also integrated virtual reality experiences into our cabins, allowing passengers to enjoy immersive views of Earth and space while they travel. Our latest model even includes an observation deck, providing breathtaking 360-degree views of the cosmos.\n",
            "\n",
            "---\n",
            "\n",
            "**Q: Safety is a top concern for potential travelers. What measures have you implemented to ensure the safety of your passengers?**  \n",
            "**A:** Safety is our highest priority, and we adhere to the strictest international safety standards. Our spacecraft undergo rigorous testing and certification processes, including simulations for emergency scenarios. We’ve implemented multiple redundancy systems for all critical systems, and our crew members are extensively trained in emergency response. Additionally, we conduct pre-flight health assessments for all passengers to ensure they are fit for space travel. Our track record speaks for itself—since our first flight, we’ve maintained a flawless safety record.\n",
            "\n",
            "---\n",
            "\n",
            "**Q: Space tourism can be expensive. What is the cost for customers, and how do you justify that price?**  \n",
            "**A:** Currently, a suborbital flight with us costs around $250,000 per person, while our orbital packages start at $1 million. While these prices may seem steep, they reflect the high level of technology, training, and safety that goes into each flight. We also provide a once-in-a-lifetime experience, including personalized services and unique opportunities to witness Earth from space. As technology advances and competition increases,\n"
          ]
        }
      ]
    },
    {
      "cell_type": "code",
      "source": [
        "prompt_tree = \"\"\"\n",
        "I want to choose the best startup idea to pitch.\n",
        "Generate 3 different business ideas.\n",
        "For each idea, list:\n",
        "- 2 pros\n",
        "- 2 cons\n",
        "After listing, analyze all 3 ideas and choose the best with reasons.\n",
        "\"\"\"\n",
        "\n",
        "print(\"=== Tree-of-Thoughts Output ===\\n\")\n",
        "print(ask_gpt(prompt_tree, temperature=0.7))"
      ],
      "metadata": {
        "colab": {
          "base_uri": "https://localhost:8080/"
        },
        "id": "pFKXnZHXlUZO",
        "outputId": "0c9479b9-36dd-4a74-aed1-9cc849777cf0"
      },
      "execution_count": 15,
      "outputs": [
        {
          "output_type": "stream",
          "name": "stdout",
          "text": [
            "=== Tree-of-Thoughts Output ===\n",
            "\n",
            "Here are three different startup ideas along with their respective pros and cons:\n",
            "\n",
            "### Idea 1: Eco-Friendly Packaging Solutions\n",
            "**Description:** A company that produces biodegradable, sustainable packaging materials for e-commerce businesses and food delivery services.\n",
            "\n",
            "**Pros:**\n",
            "1. **Growing Market Demand:** There is an increasing demand for sustainable products as consumers become more environmentally conscious, which can lead to a strong customer base.\n",
            "2. **Brand Differentiation:** Offering eco-friendly solutions can set businesses apart from competitors, appealing to a niche market willing to pay a premium for sustainability.\n",
            "\n",
            "**Cons:**\n",
            "1. **Higher Production Costs:** Eco-friendly materials can be more expensive to source and produce, which might affect pricing and profit margins.\n",
            "2. **Regulatory Challenges:** Navigating regulations related to packaging and environmental standards can be complex and time-consuming.\n",
            "\n",
            "---\n",
            "\n",
            "### Idea 2: Virtual Reality Fitness Platform\n",
            "**Description:** A platform that combines virtual reality (VR) technology with fitness routines, allowing users to exercise in immersive environments from home.\n",
            "\n",
            "**Pros:**\n",
            "1. **Innovative Experience:** VR fitness can provide a unique and engaging workout experience, attracting users looking for something beyond traditional exercise methods.\n",
            "2. **Flexible Market:** The platform can cater to various demographics, including those who prefer home workouts, making it versatile and scalable.\n",
            "\n",
            "**Cons:**\n",
            "1. **High Initial Investment:** Developing a VR platform requires significant upfront investment in technology and content creation, which can be a barrier to entry.\n",
            "2. **Limited Audience Reach:** Not everyone has access to VR hardware, which could limit the customer base and market penetration.\n",
            "\n",
            "---\n",
            "\n",
            "### Idea 3: Personalized Nutrition Subscription Service\n",
            "**Description:** A subscription service that provides personalized meal plans and nutritional supplements based on individual health goals, preferences, and dietary restrictions.\n",
            "\n",
            "**Pros:**\n",
            "1. **Growing Health Consciousness:** With an increasing focus on health and wellness, there is a robust market for personalized nutrition solutions.\n",
            "2. **Recurring Revenue Model:** Subscription services can create consistent revenue streams, improving financial stability and predictability.\n",
            "\n",
            "**Cons:**\n",
            "1. **High Competition:** The market for meal planning and nutrition services is saturated, making it difficult to stand out.\n",
            "2. **Customer Retention Challenges:** Maintaining customer engagement can be difficult, as users may lose interest or find alternatives.\n",
            "\n",
            "---\n",
            "\n",
            "### Analysis and Recommendation\n",
            "After evaluating all three ideas, the **Personalized Nutrition Subscription Service** stands out as the best option for several reasons:\n",
            "\n",
            "1. **Market Trends:** The\n"
          ]
        }
      ]
    },
    {
      "cell_type": "code",
      "source": [
        "# Direct Prompt\n",
        "prompt_direct = \"\"\"\n",
        "A company produces 500 gadgets. Each sells for $40.\n",
        "Production cost per gadget is $25.\n",
        "Calculate total revenue, total cost, and total profit.\n",
        "\"\"\"\n",
        "print(\"=== Direct Calculation ===\\n\")\n",
        "print(ask_gpt(prompt_direct, temperature=0))\n",
        "\n",
        "# Step-by-Step Prompt\n",
        "prompt_steps = \"\"\"\n",
        "A company produces 500 gadgets. Each sells for $40.\n",
        "Production cost per gadget is $25.\n",
        "Let's calculate step-by-step:\n",
        "1. Total revenue\n",
        "2. Total cost\n",
        "3. Total profit\n",
        "Show the working for each step.\n",
        "\"\"\"\n",
        "print(\"\\n=== Step-by-Step Calculation ===\\n\")\n",
        "print(ask_gpt(prompt_steps, temperature=0))"
      ],
      "metadata": {
        "colab": {
          "base_uri": "https://localhost:8080/"
        },
        "id": "Pk5LEji5ldYk",
        "outputId": "fe579d5c-f217-4660-9b9e-c476ad212bae"
      },
      "execution_count": 16,
      "outputs": [
        {
          "output_type": "stream",
          "name": "stdout",
          "text": [
            "=== Direct Calculation ===\n",
            "\n",
            "To calculate the total revenue, total cost, and total profit for the company, we can use the following formulas:\n",
            "\n",
            "1. **Total Revenue (TR)** = Number of gadgets sold × Selling price per gadget\n",
            "2. **Total Cost (TC)** = Number of gadgets produced × Production cost per gadget\n",
            "3. **Total Profit (TP)** = Total Revenue - Total Cost\n",
            "\n",
            "Given:\n",
            "- Number of gadgets = 500\n",
            "- Selling price per gadget = $40\n",
            "- Production cost per gadget = $25\n",
            "\n",
            "Now, let's calculate each:\n",
            "\n",
            "1. **Total Revenue**:\n",
            "   \\[\n",
            "   TR = 500 \\text{ gadgets} \\times 40 \\text{ dollars/gadget} = 20,000 \\text{ dollars}\n",
            "   \\]\n",
            "\n",
            "2. **Total Cost**:\n",
            "   \\[\n",
            "   TC = 500 \\text{ gadgets} \\times 25 \\text{ dollars/gadget} = 12,500 \\text{ dollars}\n",
            "   \\]\n",
            "\n",
            "3. **Total Profit**:\n",
            "   \\[\n",
            "   TP = TR - TC = 20,000 \\text{ dollars} - 12,500 \\text{ dollars} = 7,500 \\text{ dollars}\n",
            "   \\]\n",
            "\n",
            "In summary:\n",
            "- Total Revenue: $20,000\n",
            "- Total Cost: $12,500\n",
            "- Total Profit: $7,500\n",
            "\n",
            "=== Step-by-Step Calculation ===\n",
            "\n",
            "Let's calculate each step one by one.\n",
            "\n",
            "### Step 1: Total Revenue\n",
            "Total revenue is calculated by multiplying the number of gadgets sold by the selling price per gadget.\n",
            "\n",
            "\\[\n",
            "\\text{Total Revenue} = \\text{Number of Gadgets} \\times \\text{Selling Price per Gadget}\n",
            "\\]\n",
            "\n",
            "Given:\n",
            "- Number of Gadgets = 500\n",
            "- Selling Price per Gadget = $40\n",
            "\n",
            "\\[\n",
            "\\text{Total Revenue} = 500 \\times 40 = 20000\n",
            "\\]\n",
            "\n",
            "### Step 2: Total Cost\n",
            "Total cost is calculated by multiplying the number of gadgets produced by the production cost per gadget.\n",
            "\n",
            "\\[\n",
            "\\text{Total Cost} = \\text{Number of Gadgets} \\times \\text{Production Cost per Gadget}\n",
            "\\]\n",
            "\n",
            "Given:\n",
            "- Production Cost per Gadget = $25\n",
            "\n",
            "\\[\n",
            "\\text{Total Cost} = 500 \\times 25 = 12500\n",
            "\\]\n",
            "\n",
            "### Step 3: Total Profit\n",
            "Total profit is calculated by subtracting the total cost from the total revenue.\n",
            "\n",
            "\\[\n",
            "\\text{Total Profit} = \\text{Total Revenue} - \\text{Total Cost}\n",
            "\\]\n",
            "\n",
            "Using the values calculated in the previous steps:\n",
            "\n",
            "\\[\n",
            "\\text{Total Profit} = 20000 - 12500 = 7500\n",
            "\\]\n",
            "\n",
            "### Summary of Results\n",
            "1. **Total Revenue**: $20,000\n",
            "2. **Total Cost**: $12,500\n",
            "3. **Total Profit**: $7,500\n"
          ]
        }
      ]
    },
    {
      "cell_type": "code",
      "source": [
        "prompt_combined = \"\"\"\n",
        "You are a climate change consultant.\n",
        "\n",
        "Part 1: Summarize 3 benefits of urban green roofs.\n",
        "Part 2: List 3 main challenges to implementing them.\n",
        "Part 3: Suggest 3 evidence-based solutions to these challenges.\n",
        "\n",
        "Label each part clearly in your answer.\n",
        "\"\"\"\n",
        "\n",
        "print(\"=== Combined Prompt Output ===\\n\")\n",
        "print(ask_gpt(prompt_combined, temperature=0.7))"
      ],
      "metadata": {
        "colab": {
          "base_uri": "https://localhost:8080/"
        },
        "id": "0mz9NIcGlkYW",
        "outputId": "05265032-71e2-4862-83e1-b894b4a20605"
      },
      "execution_count": 17,
      "outputs": [
        {
          "output_type": "stream",
          "name": "stdout",
          "text": [
            "=== Combined Prompt Output ===\n",
            "\n",
            "### Part 1: Benefits of Urban Green Roofs\n",
            "\n",
            "1. **Stormwater Management**: Urban green roofs help absorb and retain rainwater, reducing runoff and alleviating pressure on urban drainage systems. This can mitigate flooding and decrease the risk of water pollution in nearby waterways.\n",
            "\n",
            "2. **Temperature Regulation**: Green roofs contribute to urban heat island mitigation by providing insulation and cooling effects. This can lower the ambient temperature in cities, reducing energy consumption for air conditioning and improving overall urban climate resilience.\n",
            "\n",
            "3. **Biodiversity Enhancement**: Green roofs can create habitats for various species, including birds, insects, and plants. They contribute to urban biodiversity by providing green spaces that support pollinators and other wildlife, which is essential for ecosystem health.\n",
            "\n",
            "### Part 2: Challenges to Implementing Urban Green Roofs\n",
            "\n",
            "1. **High Initial Costs**: The installation of green roofs can be costly due to the need for specialized materials, structural support, and maintenance considerations. This can deter property developers and city planners from investing in green roof projects.\n",
            "\n",
            "2. **Maintenance Requirements**: Green roofs require ongoing maintenance, including irrigation, weeding, and plant care. Without proper maintenance, the effectiveness and aesthetic value of the green roof can decline over time.\n",
            "\n",
            "3. **Structural Limitations**: Not all buildings are structurally equipped to support the additional weight of a green roof. Existing buildings may require retrofitting, which can be complex and expensive, posing a barrier to implementation.\n",
            "\n",
            "### Part 3: Evidence-Based Solutions to Challenges\n",
            "\n",
            "1. **Financial Incentives and Grants**: Governments and local authorities can offer financial incentives, such as tax breaks, grants, or subsidies, to offset the initial costs of green roof installation. Programs can be modeled after successful initiatives in cities like Toronto and Chicago, which have seen increased adoption of green roofs due to such support.\n",
            "\n",
            "2. **Maintenance Training Programs**: Developing training programs for building owners and maintenance staff can ensure that green roofs are properly cared for. These programs can include best practices for plant selection, irrigation, and pest management, which can enhance the longevity and effectiveness of green roofs.\n",
            "\n",
            "3. **Engineering Solutions for Structural Assessment**: Before installation, conducting thorough structural assessments can identify buildings suitable for green roofs and those that may require retrofitting. Collaboration with engineers and architects can lead to innovative designs that minimize weight while maximizing green space, making green roofs feasible for more buildings.\n"
          ]
        }
      ]
    },
    {
      "cell_type": "code",
      "source": [
        "# Turn 1: Basic explanation\n",
        "turn1 = \"Explain what e-commerce is and its current global scope.\"\n",
        "res1 = ask_gpt(turn1)\n",
        "print(\"=== Turn 1 ===\\n\", res1)\n",
        "\n",
        "# Turn 2: Build on previous answer\n",
        "turn2 = f\"Based on your previous explanation: {res1} Explain how AI can improve e-commerce operations.\"\n",
        "res2 = ask_gpt(turn2)\n",
        "print(\"\\n=== Turn 2 ===\\n\", res2)\n",
        "\n",
        "# Turn 3: Use all context for strategy\n",
        "turn3 = f\"\"\"\n",
        "Using the previous answers:\n",
        "1. {res1}\n",
        "2. {res2}\n",
        "\n",
        "Outline a practical AI implementation strategy for a small online retailer to improve customer experience.\n",
        "\"\"\"\n",
        "res3 = ask_gpt(turn3)\n",
        "print(\"\\n=== Turn 3 ===\\n\", res3)"
      ],
      "metadata": {
        "colab": {
          "base_uri": "https://localhost:8080/"
        },
        "id": "syx0u88flrM2",
        "outputId": "288fc9a6-9d5e-4f39-d60b-94c92302c39f"
      },
      "execution_count": 18,
      "outputs": [
        {
          "output_type": "stream",
          "name": "stdout",
          "text": [
            "=== Turn 1 ===\n",
            " E-commerce, or electronic commerce, refers to the buying and selling of goods and services over the internet. It encompasses a wide range of business models, including:\n",
            "\n",
            "1. **Business-to-Consumer (B2C)**: Traditional retail transactions where businesses sell directly to consumers (e.g., Amazon, Walmart).\n",
            "2. **Business-to-Business (B2B)**: Transactions between businesses, such as wholesalers and retailers (e.g., Alibaba, ThomasNet).\n",
            "3. **Consumer-to-Consumer (C2C)**: Platforms that facilitate transactions between consumers, often through third-party services (e.g., eBay, Craigslist).\n",
            "4. **Consumer-to-Business (C2B)**: When individuals sell products or services to businesses (e.g., freelance work platforms like Upwork).\n",
            "5. **Business-to-Government (B2G)**: Transactions between businesses and government entities, often involving procurement or service contracts.\n",
            "\n",
            "### Current Global Scope of E-Commerce\n",
            "\n",
            "As of 2023, e-commerce has become a significant driver of the global economy, with several key trends and statistics highlighting its scope:\n",
            "\n",
            "1. **Market Size**: The global e-commerce market was valued at over $5 trillion in 2021 and is expected to continue growing, potentially reaching $7 trillion or more by the mid-2020s. This growth is fueled by increasing internet penetration, mobile device usage, and changing consumer behaviors.\n",
            "\n",
            "2. **Digital Payments**: The rise of secure digital payment systems, such as digital wallets (e.g., PayPal, Apple Pay), cryptocurrency, and other innovative payment solutions, has made online transactions easier and more secure, contributing to the growth of e-commerce.\n",
            "\n",
            "3. **Mobile Commerce (m-commerce)**: A significant portion of e-commerce transactions now occurs via mobile devices. The convenience of shopping through smartphones and tablets has led to an increase in mobile shopping apps and responsive websites.\n",
            "\n",
            "4. **Global Reach**: E-commerce has a global scope, enabling businesses to reach customers in various regions. Emerging markets, particularly in Asia, Africa, and Latin America, are experiencing rapid growth in e-commerce, driven by increasing internet access and a growing middle class.\n",
            "\n",
            "5. **Consumer Behavior**: The COVID-19 pandemic accelerated the shift towards online shopping, with many consumers adopting e-commerce for the first time. This trend has continued, with many shoppers preferring the convenience of online purchases over traditional brick-and-mortar stores.\n",
            "\n",
            "6. **Logistics and Supply Chain\n",
            "\n",
            "=== Turn 2 ===\n",
            " Artificial Intelligence (AI) has the potential to significantly enhance e-commerce operations across various facets of the industry. Here are several ways AI can improve e-commerce:\n",
            "\n",
            "### 1. **Personalization and Customer Experience**\n",
            "- **Recommendation Systems**: AI algorithms analyze customer behavior, preferences, and purchasing history to provide personalized product recommendations. This increases the likelihood of conversions and enhances customer satisfaction (e.g., Amazon's \"Customers who bought this also bought\" feature).\n",
            "- **Dynamic Pricing**: AI can analyze market trends, competitor pricing, and consumer demand to optimize pricing strategies in real-time, ensuring competitive pricing while maximizing profit margins.\n",
            "\n",
            "### 2. **Inventory Management**\n",
            "- **Demand Forecasting**: AI can analyze historical sales data and external factors (like seasonality and economic indicators) to predict future demand. This helps businesses maintain optimal inventory levels, reduce stockouts, and minimize excess inventory.\n",
            "- **Automated Replenishment**: AI systems can automatically trigger reordering of stock based on predictive analytics, ensuring that popular products are always available without overstocking.\n",
            "\n",
            "### 3. **Customer Service and Support**\n",
            "- **Chatbots and Virtual Assistants**: AI-powered chatbots can handle customer inquiries 24/7, providing instant responses and assistance. They can resolve common issues, guide customers through the purchasing process, and escalate complex issues to human agents as needed.\n",
            "- **Sentiment Analysis**: AI can analyze customer feedback from reviews, social media, and surveys to gauge sentiment about products and services, helping businesses address concerns and improve offerings.\n",
            "\n",
            "### 4. **Fraud Detection and Security**\n",
            "- **Anomaly Detection**: AI algorithms can identify unusual patterns in transaction data that might indicate fraudulent activity. By flagging suspicious transactions in real-time, businesses can mitigate risks and enhance security.\n",
            "- **User Authentication**: AI can enhance security through biometric authentication methods (such as facial recognition or fingerprint scanning) and behavioral analytics, making it harder for fraudsters to access accounts.\n",
            "\n",
            "### 5. **Marketing and Advertising**\n",
            "- **Targeted Advertising**: AI can analyze customer data to create highly targeted advertising campaigns, reaching the right audience with relevant offers. This improves return on investment (ROI) for marketing spend.\n",
            "- **A/B Testing and Optimization**: AI can automate and optimize A/B testing of different marketing strategies, web layouts, and product placements to identify the most effective approaches for driving conversions.\n",
            "\n",
            "### 6. **Logistics and Supply Chain Optimization**\n",
            "- **Route\n",
            "\n",
            "=== Turn 3 ===\n",
            " Implementing AI in a small online retail business can significantly enhance the customer experience, streamline operations, and drive sales. Here’s a practical AI implementation strategy tailored for a small online retailer:\n",
            "\n",
            "### 1. Define Clear Objectives\n",
            "- **Goal Setting**: Identify specific goals for AI implementation, such as increasing conversion rates, improving customer satisfaction, or optimizing inventory management.\n",
            "- **Metrics**: Determine key performance indicators (KPIs) to measure success, such as customer retention rate, average order value, and response time to customer inquiries.\n",
            "\n",
            "### 2. Assess Current Capabilities\n",
            "- **Technology Audit**: Review existing technology infrastructure, including website, CRM systems, and payment processing platforms, to determine readiness for AI integration.\n",
            "- **Data Availability**: Analyze the availability and quality of customer data, sales history, and product information necessary for AI algorithms.\n",
            "\n",
            "### 3. Select Appropriate AI Tools and Platforms\n",
            "- **Recommendation Systems**: Consider integrating an AI-powered recommendation engine (e.g., Dynamic Yield, Nosto) to provide personalized product suggestions based on customer behavior and browsing history.\n",
            "- **Chatbots**: Implement a chatbot solution (e.g., Drift, Intercom) on your website to handle common customer inquiries, provide instant support, and guide users through the purchasing process.\n",
            "- **Email Marketing Automation**: Use AI-driven email marketing platforms (e.g., Mailchimp, Klaviyo) to segment customers and send personalized email campaigns based on browsing behavior and purchase history.\n",
            "\n",
            "### 4. Develop a Customer-Centric Strategy\n",
            "- **Personalized Shopping Experience**: Use AI to tailor the shopping experience, offering personalized product recommendations and targeted promotions based on customer data.\n",
            "- **Dynamic Pricing**: Implement tools that adjust pricing based on real-time analysis of competitor prices and demand trends to remain competitive without sacrificing margins.\n",
            "\n",
            "### 5. Improve Inventory Management\n",
            "- **Demand Forecasting Tools**: Utilize AI solutions that analyze historical sales data and market trends to predict demand for products, helping to optimize stock levels and reduce stockouts.\n",
            "- **Automated Replenishment**: Set up automated systems to reorder popular products based on predictive analytics, ensuring that inventory aligns with expected demand.\n",
            "\n",
            "### 6. Enhance Customer Service\n",
            "- **AI-Powered Support**: Launch a chatbot on your website for 24/7 customer support, answering frequently asked questions and assisting with order tracking and returns.\n",
            "- **Sentiment Analysis**: Use AI tools to analyze customer feedback from surveys and social media\n"
          ]
        }
      ]
    },
    {
      "cell_type": "code",
      "source": [
        "base_prompt = \"\"\"\n",
        "Simulate an interview between a reporter and an AI expert about the impact of AI on education.\n",
        "Format it as a Q&A conversation with the reporter asking questions and the expert answering.\n",
        "Start with an introductory question.\n",
        "\"\"\"\n",
        "\n",
        "print(ask_gpt(base_prompt, temperature=0.6))"
      ],
      "metadata": {
        "colab": {
          "base_uri": "https://localhost:8080/"
        },
        "id": "x4ejUh4imBHt",
        "outputId": "b5c5cdf1-fe57-4f18-d081-ddd990dfa1ab"
      },
      "execution_count": 19,
      "outputs": [
        {
          "output_type": "stream",
          "name": "stdout",
          "text": [
            "**Reporter:** Thank you for joining us today. To start off, can you tell us a little about your background and your work in the field of AI and education?\n",
            "\n",
            "**AI Expert:** Thank you for having me. I have a background in artificial intelligence and educational technology. For the past decade, I’ve been involved in research and development of AI tools designed to enhance learning experiences. My focus has been on how AI can personalize education, improve accessibility, and support teachers in their roles.\n",
            "\n",
            "**Reporter:** That sounds fascinating! How do you see AI transforming the traditional classroom setting?\n",
            "\n",
            "**AI Expert:** AI has the potential to revolutionize the classroom in several ways. For one, it can provide personalized learning experiences tailored to each student's pace and style of learning. This means that students who struggle with certain concepts can receive additional support, while advanced learners can be challenged with more complex material. Additionally, AI can automate administrative tasks, allowing teachers to focus more on instruction and student engagement.\n",
            "\n",
            "**Reporter:** What are some specific examples of AI tools currently being used in education?\n",
            "\n",
            "**AI Expert:** There are several exciting tools out there. For instance, platforms like Khan Academy and Duolingo use AI algorithms to adapt lessons based on a learner’s progress. AI-driven tutoring systems, such as Carnegie Learning, provide real-time feedback and personalized problem sets. Moreover, AI can analyze student data to identify trends and areas needing attention, which helps educators make informed decisions.\n",
            "\n",
            "**Reporter:** Are there any concerns about the reliance on AI in education?\n",
            "\n",
            "**AI Expert:** Absolutely, there are valid concerns. One major issue is data privacy; we need to ensure that student data is protected and used ethically. There’s also the risk of over-reliance on technology, which could detract from the human elements of teaching and learning. Furthermore, we must address equity in access to these AI tools, as not all schools have the same resources.\n",
            "\n",
            "**Reporter:** How can educators effectively integrate AI into their teaching practices?\n",
            "\n",
            "**AI Expert:** Integration requires training and support for educators. They need to understand how to use AI tools effectively and how to interpret the data these tools provide. Professional development programs should focus on blending AI with traditional teaching methods, ensuring that technology enhances, rather than replaces, the teacher-student relationship.\n",
            "\n",
            "**Reporter:** Looking ahead, what do you envision for the future of AI in education?\n",
            "\n",
            "**AI Expert:** I envision a future where AI is seamlessly integrated into the educational ecosystem. We may see fully adaptive learning\n"
          ]
        }
      ]
    },
    {
      "cell_type": "code",
      "source": [
        "prompt = \"\"\"\n",
        "You want to plan a weekend trip. Using a tree-of-thoughts approach, list 3 possible destinations.\n",
        "For each destination, list 2 pros and 2 cons.\n",
        "Then choose the best destination and explain why.\n",
        "\"\"\"\n",
        "\n",
        "print(ask_gpt(prompt, temperature=0.7))"
      ],
      "metadata": {
        "colab": {
          "base_uri": "https://localhost:8080/"
        },
        "id": "0RM--SHvmGY-",
        "outputId": "1296ae49-24e7-4871-da9d-b60ddc9f8037"
      },
      "execution_count": 20,
      "outputs": [
        {
          "output_type": "stream",
          "name": "stdout",
          "text": [
            "### Destination 1: National Park\n",
            "\n",
            "**Pros:**\n",
            "1. **Natural Beauty:** Offers stunning landscapes, hiking trails, and opportunities for wildlife viewing.\n",
            "2. **Outdoor Activities:** Activities such as hiking, camping, and kayaking are readily available, promoting an active lifestyle.\n",
            "\n",
            "**Cons:**\n",
            "1. **Weather Dependency:** Outdoor activities can be affected by weather conditions, potentially leading to cancellations or limited enjoyment.\n",
            "2. **Accessibility:** Some parks may be far from urban areas, making transportation more challenging and time-consuming.\n",
            "\n",
            "---\n",
            "\n",
            "### Destination 2: City Getaway\n",
            "\n",
            "**Pros:**\n",
            "1. **Cultural Experiences:** Access to museums, theaters, restaurants, and local events, providing a rich cultural experience.\n",
            "2. **Convenience:** Generally easier to reach with various transportation options and amenities readily available.\n",
            "\n",
            "**Cons:**\n",
            "1. **Crowds:** Popular cities can be crowded, making it less relaxing and potentially overwhelming.\n",
            "2. **Cost:** Accommodations and activities in urban areas can be more expensive compared to rural destinations.\n",
            "\n",
            "---\n",
            "\n",
            "### Destination 3: Beach Resort\n",
            "\n",
            "**Pros:**\n",
            "1. **Relaxation:** The beach environment promotes relaxation, with opportunities for sunbathing, swimming, and water sports.\n",
            "2. **Social Activities:** Many resorts offer social events, dining options, and activities that can enhance the experience.\n",
            "\n",
            "**Cons:**\n",
            "1. **Over-commercialization:** Some beach resorts may be overly touristy, lacking authenticity and local charm.\n",
            "2. **Limited Activities:** Depending on the resort, activities may be limited to the beach and water-related pursuits, which might not appeal to everyone.\n",
            "\n",
            "---\n",
            "\n",
            "### Best Destination: National Park\n",
            "\n",
            "**Explanation:**\n",
            "The National Park stands out as the best destination for several reasons. Firstly, it provides a unique opportunity to connect with nature, which can be rejuvenating and refreshing. The variety of outdoor activities caters to different interests, whether you prefer hiking, camping, or simply enjoying the scenery. While weather can be a concern, the natural beauty and adventure offered by a national park typically outweigh this drawback. Additionally, the experience of disconnecting from urban life and immersing oneself in nature can be profoundly rewarding, making it an ideal choice for a weekend trip.\n"
          ]
        }
      ]
    },
    {
      "cell_type": "code",
      "source": [
        "prompt = \"\"\"\n",
        "Q: A bookstore sold 30 books on Monday and 20% more on Tuesday.\n",
        "Calculate how many books were sold on Tuesday and in total.\n",
        "Let's decompose and reason step-by-step.\n",
        "\"\"\"\n",
        "\n",
        "print(ask_gpt(prompt, temperature=0))"
      ],
      "metadata": {
        "colab": {
          "base_uri": "https://localhost:8080/"
        },
        "id": "YYGKry8PmUNY",
        "outputId": "2e76931c-9819-43a4-9810-e6d31ee5fab9"
      },
      "execution_count": 21,
      "outputs": [
        {
          "output_type": "stream",
          "name": "stdout",
          "text": [
            "To find out how many books were sold on Tuesday and the total number of books sold over both days, we can follow these steps:\n",
            "\n",
            "1. **Calculate the number of books sold on Tuesday:**\n",
            "   - The bookstore sold 30 books on Monday.\n",
            "   - On Tuesday, they sold 20% more than what they sold on Monday.\n",
            "   - To find 20% of the books sold on Monday, we calculate:\n",
            "     \\[\n",
            "     20\\% \\text{ of } 30 = 0.20 \\times 30 = 6\n",
            "     \\]\n",
            "   - Now, we add this amount to the number of books sold on Monday to find the total sold on Tuesday:\n",
            "     \\[\n",
            "     \\text{Books sold on Tuesday} = 30 + 6 = 36\n",
            "     \\]\n",
            "\n",
            "2. **Calculate the total number of books sold over both days:**\n",
            "   - We add the number of books sold on Monday and Tuesday:\n",
            "     \\[\n",
            "     \\text{Total books sold} = \\text{Books sold on Monday} + \\text{Books sold on Tuesday} = 30 + 36 = 66\n",
            "     \\]\n",
            "\n",
            "So, the bookstore sold **36 books on Tuesday** and a **total of 66 books** over both days.\n"
          ]
        }
      ]
    },
    {
      "cell_type": "code",
      "source": [
        "prompt = \"\"\"\n",
        "You are a financial advisor.\n",
        "\n",
        "Part 1: Summarize the benefits of investing in renewable energy funds.\n",
        "Part 2: List 3 risks associated with these investments.\n",
        "Part 3: Provide advice on how to mitigate these risks.\n",
        "\n",
        "Answer each part clearly.\n",
        "\"\"\"\n",
        "\n",
        "print(ask_gpt(prompt, temperature=0.7))\n",
        ""
      ],
      "metadata": {
        "colab": {
          "base_uri": "https://localhost:8080/"
        },
        "id": "1vusMaNfmXjz",
        "outputId": "9778e01c-f73f-4ddd-b428-8754f33c7690"
      },
      "execution_count": 22,
      "outputs": [
        {
          "output_type": "stream",
          "name": "stdout",
          "text": [
            "### Part 1: Benefits of Investing in Renewable Energy Funds\n",
            "\n",
            "1. **Sustainable Growth**: Renewable energy is a growing sector, benefiting from global shifts towards sustainability and reducing carbon emissions. Investments in this area can lead to significant long-term growth as countries transition away from fossil fuels.\n",
            "\n",
            "2. **Government Support**: Many governments offer incentives for renewable energy projects, such as tax credits, grants, and favorable regulations. This support can enhance the financial viability of renewable energy investments.\n",
            "\n",
            "3. **Diversification**: Renewable energy funds can provide diversification in an investment portfolio. By including these funds, investors can spread risk across different sectors and reduce dependence on traditional energy markets.\n",
            "\n",
            "4. **Positive Impact**: Investing in renewable energy aligns with ethical and environmental values, allowing investors to contribute to a cleaner planet while potentially benefiting financially.\n",
            "\n",
            "5. **Technological Advancements**: The renewable energy sector is often at the forefront of technological innovation, which can lead to new opportunities and efficiencies, further enhancing returns on investment.\n",
            "\n",
            "### Part 2: Risks Associated with Renewable Energy Investments\n",
            "\n",
            "1. **Market Volatility**: The renewable energy sector can be subject to significant market fluctuations due to changes in government policies, technological advancements, and competition from traditional energy sources.\n",
            "\n",
            "2. **Regulatory Risks**: Changes in regulations, such as the removal of subsidies or changes in environmental policies, can adversely affect the profitability of renewable energy projects.\n",
            "\n",
            "3. **Technological Risks**: The renewable energy industry is rapidly evolving, and investments may be vulnerable to technological obsolescence. New technologies could render existing projects less competitive or obsolete.\n",
            "\n",
            "### Part 3: Advice on How to Mitigate These Risks\n",
            "\n",
            "1. **Diversification Within the Sector**: Investors should consider diversifying their holdings within the renewable energy sector by investing in various types of renewable sources (solar, wind, hydro, bioenergy) and companies at different stages of development (startups, established firms).\n",
            "\n",
            "2. **Stay Informed on Policy Changes**: Regularly monitor regulatory developments and government policies related to renewable energy. Engaging with industry reports and news can help investors anticipate changes that may impact their investments.\n",
            "\n",
            "3. **Invest in Established Companies**: Focus on investing in well-established companies with a proven track record in the renewable energy sector. These firms are likely to have more resources to adapt to technological changes and regulatory shifts, thus reducing risk exposure.\n",
            "\n",
            "By understanding the benefits, risks, and strategies to mitigate those risks, investors can make informed\n"
          ]
        }
      ]
    },
    {
      "cell_type": "code",
      "source": [
        "  # Simulate multi-turn conversation by running prompts sequentially:\n",
        "\n",
        "# Turn 1: Ask for basic explanation\n",
        "turn1 = \"Explain blockchain technology in simple terms.\"\n",
        "\n",
        "response1 = ask_gpt(turn1)\n",
        "print(\"Turn 1 Response:\\n\", response1)\n",
        "\n",
        "# Turn 2: Ask for comparison based on previous answer\n",
        "turn2 = f\"\"\"Based on your previous explanation: \"{response1}\",\n",
        "explain how blockchain differs from traditional databases.\"\"\"\n",
        "\n",
        "response2 = ask_gpt(turn2)\n",
        "print(\"\\nTurn 2 Response:\\n\", response2)\n",
        "\n",
        "# Turn 3: Ask for real-world applications using previous info\n",
        "turn3 = f\"\"\"Given previous responses:\n",
        "1. {response1}\n",
        "2. {response2}\n",
        "List 3 industries that can benefit from blockchain and why.\n",
        "\"\"\"\n",
        "\n",
        "response3 = ask_gpt(turn3)\n",
        "print(\"\\nTurn 3 Response:\\n\", response3)"
      ],
      "metadata": {
        "colab": {
          "base_uri": "https://localhost:8080/"
        },
        "id": "niSkjKjTmhPN",
        "outputId": "a608ae35-695b-45c0-8061-6e1cee61bc4d"
      },
      "execution_count": 23,
      "outputs": [
        {
          "output_type": "stream",
          "name": "stdout",
          "text": [
            "Turn 1 Response:\n",
            " Sure! Blockchain technology is a way to record information in a secure and transparent manner. Here’s how it works in simple terms:\n",
            "\n",
            "1. **Digital Ledger**: Imagine a digital notebook where you write down transactions or information. This notebook is called a \"ledger.\"\n",
            "\n",
            "2. **Blocks**: Instead of writing everything in one place, the information is grouped into \"blocks.\" Each block contains a number of transactions.\n",
            "\n",
            "3. **Chain**: Once a block is filled with information, it is linked to the previous block, forming a \"chain.\" This is why it's called a \"blockchain.\"\n",
            "\n",
            "4. **Decentralization**: Instead of one person or organization controlling the notebook, copies of this ledger are kept by many people (called nodes) around the world. This makes it hard to tamper with the information.\n",
            "\n",
            "5. **Security**: Each block has a unique code (called a hash) that makes it secure. If someone tries to change the information in a block, the hash changes, and everyone can see that something is wrong.\n",
            "\n",
            "6. **Transparency**: Everyone who has a copy of the ledger can see all the information, which helps build trust among users.\n",
            "\n",
            "7. **Consensus**: Before adding new blocks to the chain, the nodes must agree that the information is valid. This is done using consensus mechanisms.\n",
            "\n",
            "In summary, blockchain is like a secure, shared notebook that everyone can see and trust, making it great for things like digital currencies, contracts, and many other applications!\n",
            "\n",
            "Turn 2 Response:\n",
            " Blockchain technology differs from traditional databases in several key ways:\n",
            "\n",
            "1. **Structure**:\n",
            "   - **Blockchain**: Information is stored in blocks that are linked together in a chronological chain. Each block contains a set of transactions and is connected to the previous block, forming an immutable history.\n",
            "   - **Traditional Databases**: Data is typically stored in tables, with rows and columns. The structure is more flexible, allowing for easy updates, deletions, and modifications.\n",
            "\n",
            "2. **Control**:\n",
            "   - **Blockchain**: It is decentralized, meaning that no single entity has control over the entire database. Instead, multiple copies exist across various nodes, and all participants can access the same data.\n",
            "   - **Traditional Databases**: Usually centralized, meaning one organization or administrator controls the database. Changes can be made by authorized users, and data can be easily altered or deleted.\n",
            "\n",
            "3. **Immutability**:\n",
            "   - **Blockchain**: Once data is added to the blockchain, it is nearly impossible to change or delete it. This immutability is a key feature that enhances security and trust.\n",
            "   - **Traditional Databases**: Data can be modified or deleted at any time by users with the appropriate permissions, which can lead to issues of trust and data integrity.\n",
            "\n",
            "4. **Transparency**:\n",
            "   - **Blockchain**: All participants have access to the same data, and transactions are visible to everyone in the network. This transparency fosters trust among users.\n",
            "   - **Traditional Databases**: Access to data is often restricted based on user roles, and only certain individuals may have visibility into specific information.\n",
            "\n",
            "5. **Consensus Mechanism**:\n",
            "   - **Blockchain**: Transactions must be verified through consensus mechanisms, such as Proof of Work or Proof of Stake, where network participants agree on the validity of transactions before they are added to the blockchain.\n",
            "   - **Traditional Databases**: Changes can be made by authorized users without requiring consensus from other users. The database administrator typically has the final say on data updates.\n",
            "\n",
            "6. **Data Integrity**:\n",
            "   - **Blockchain**: Uses cryptographic techniques (like hashing and digital signatures) to secure data and ensure its integrity. Any change in data results in a different hash, indicating tampering.\n",
            "   - **Traditional Databases**: While they can implement security measures, they are generally more vulnerable to data breaches or unauthorized changes since they rely on user permissions.\n",
            "\n",
            "7. **Use Cases**:\n",
            "   - **Blockchain**\n",
            "\n",
            "Turn 3 Response:\n",
            " Here are three industries that can benefit significantly from blockchain technology, along with explanations of how they can leverage its features:\n",
            "\n",
            "1. **Finance and Banking**:\n",
            "   - **Why**: Blockchain can enhance security, reduce fraud, and streamline transactions. By using blockchain, banks can process cross-border payments more efficiently, with lower fees and faster settlement times. The immutable nature of blockchain ensures that transaction records are tamper-proof, increasing trust among users. Additionally, smart contracts can automate various financial processes, such as loan agreements and trade settlements.\n",
            "\n",
            "2. **Supply Chain Management**:\n",
            "   - **Why**: Blockchain provides transparency and traceability in supply chains. With a decentralized ledger, all participants in the supply chain can access real-time information about the movement of goods. This helps in verifying the authenticity of products, monitoring conditions during transport, and quickly identifying the source of any issues (such as recalls). The ability to track an item from origin to consumer enhances accountability and reduces fraud.\n",
            "\n",
            "3. **Healthcare**:\n",
            "   - **Why**: Blockchain can improve the management of patient records and ensure data privacy while allowing secure sharing of information among healthcare providers. By using blockchain, patients can have more control over their medical data, granting access only to authorized personnel. This can lead to better coordination of care, improved outcomes, and enhanced research capabilities by allowing researchers to access anonymized data while maintaining patient privacy.\n",
            "\n",
            "These industries illustrate how blockchain's unique characteristics—decentralization, immutability, security, and transparency—can address specific challenges and enhance operational efficiencies.\n"
          ]
        }
      ]
    }
  ]
}