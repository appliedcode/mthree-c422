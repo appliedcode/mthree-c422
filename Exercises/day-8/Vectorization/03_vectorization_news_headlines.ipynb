{
  "nbformat": 4,
  "nbformat_minor": 0,
  "metadata": {
    "colab": {
      "provenance": [],
      "authorship_tag": "ABX9TyOftUMOfUmCs1L8eJNPamtN",
      "include_colab_link": true
    },
    "kernelspec": {
      "name": "python3",
      "display_name": "Python 3"
    },
    "language_info": {
      "name": "python"
    }
  },
  "cells": [
    {
      "cell_type": "markdown",
      "metadata": {
        "id": "view-in-github",
        "colab_type": "text"
      },
      "source": [
        "<a href=\"https://colab.research.google.com/github/appliedcode/mthree-c422/blob/mthree-422-salleh/Exercises/day-8/Vectorization/03_vectorization_news_headlines.ipynb\" target=\"_parent\"><img src=\"https://colab.research.google.com/assets/colab-badge.svg\" alt=\"Open In Colab\"/></a>"
      ]
    },
    {
      "cell_type": "markdown",
      "source": [
        "News Headlines NLP Lab: Bag-of-Words and Document Similarity\n",
        "Objective\n",
        "\n",
        "Analyze a collection of news headlines by building a Bag-of-Words representation to extract features, explore word frequency, and compute document similarity.\n",
        "Dataset\n",
        "\n",
        "Use the following list of news headlines:\n",
        "\n",
        "headlines = [\n",
        "    \"AI outperforms doctors in diagnosing rare diseases\",\n",
        "    \"Stock markets hit new record highs amid global optimism\",\n",
        "    \"New vaccine shows promise in early trials\",\n",
        "    \"Climate change impacts agriculture across multiple continents\",\n",
        "    \"Scientists develop biodegradable plastic from seaweed\",\n",
        "    \"Sports teams adapt strategies with big data analytics\",\n",
        "    \"Electric vehicles set new sales record worldwide\",\n",
        "    \"Breakthrough in quantum computing boosts encryption security\"\n",
        "]\n",
        "\n",
        "Tasks\n",
        "\n",
        "    Preprocessing\n",
        "        Write a function to lowercase all text, remove punctuation, and normalize whitespace in each headline.\n",
        "    Bag-of-Words Analysis\n",
        "        Use scikit-learn’s CountVectorizer with stop word removal and vocabulary limited to 50 words.\n",
        "        Fit and transform the preprocessed headlines into a Bag-of-Words matrix.\n",
        "        Display the vocabulary, shape, and sparsity of the matrix.\n",
        "    Word Frequency and Visualization\n",
        "        Compute total word frequency across all headlines.\n",
        "        Plot the top 10 most frequent words using matplotlib or seaborn.\n",
        "    Document Similarity\n",
        "        Calculate cosine similarity between headline vectors.\n",
        "        Display the similarity matrix in tabular form.\n",
        "        Identify the two most similar headlines and explain their similarity based on shared vocabulary.\n",
        "\n",
        "Deliverables\n",
        "\n",
        "    A notebook implementing the preprocessing function and Bag-of-Words construction.\n",
        "    Printed output showing vocabulary and matrix characteristics.\n",
        "    A bar chart of the top 10 words by frequency.\n",
        "    A similarity matrix with highlighted most similar headline pairs.\n",
        "    A short commentary explaining the results.\n",
        "\n",
        "This exercise provides hands-on experience with core NLP techniques including text cleaning, feature extraction via Bag-of-Words, and comparing documents using cosine similarity on vectorized features."
      ],
      "metadata": {
        "id": "Yw5EhM6W-lKj"
      }
    },
    {
      "cell_type": "code",
      "execution_count": null,
      "metadata": {
        "id": "_SVr7aL78ffX"
      },
      "outputs": [],
      "source": [
        "# Import required libraries\n",
        "import numpy as np\n",
        "import pandas as pd\n",
        "import matplotlib.pyplot as plt\n",
        "import seaborn as sns\n",
        "from collections import Counter\n",
        "from sklearn.feature_extraction.text import CountVectorizer, TfidfVectorizer\n",
        "from sklearn.metrics.pairwise import cosine_similarity\n",
        "import re"
      ]
    }
  ]
}