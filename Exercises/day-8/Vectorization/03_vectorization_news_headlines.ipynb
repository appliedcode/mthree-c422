{
  "nbformat": 4,
  "nbformat_minor": 0,
  "metadata": {
    "colab": {
      "provenance": [],
      "authorship_tag": "ABX9TyO59N3Z11Eqs+yrLrM41rtq"
    },
    "kernelspec": {
      "name": "python3",
      "display_name": "Python 3"
    },
    "language_info": {
      "name": "python"
    }
  },
  "cells": [
    {
      "cell_type": "markdown",
      "source": [
        "News Headlines NLP Lab: Bag-of-Words and Document Similarity\n",
        "Objective\n",
        "\n",
        "Analyze a collection of news headlines by building a Bag-of-Words representation to extract features, explore word frequency, and compute document similarity.\n",
        "Dataset\n",
        "\n",
        "Use the following list of news headlines:\n",
        "\n",
        "headlines = [\n",
        "    \"AI outperforms doctors in diagnosing rare diseases\",\\\n",
        "    \"Stock markets hit new record highs amid global optimism\",\\\n",
        "    \"New vaccine shows promise in early trials\",\\\n",
        "    \"Climate change impacts agriculture across multiple continents\",\\\n",
        "    \"Scientists develop biodegradable plastic from seaweed\",\\\n",
        "    \"Sports teams adapt strategies with big data analytics\",\\\n",
        "    \"Electric vehicles set new sales record worldwide\",\\\n",
        "    \"Breakthrough in quantum computing boosts encryption security\"\n",
        "]\n",
        "\n",
        "Tasks\n",
        "\n",
        "    Preprocessing\n",
        "        Write a function to lowercase all text, remove punctuation, and normalize whitespace in each headline.\n",
        "    Bag-of-Words Analysis\n",
        "        Use scikit-learn’s CountVectorizer with stop word removal and vocabulary limited to 50 words.\n",
        "        Fit and transform the preprocessed headlines into a Bag-of-Words matrix.\n",
        "        Display the vocabulary, shape, and sparsity of the matrix.\n",
        "    Word Frequency and Visualization\n",
        "        Compute total word frequency across all headlines.\n",
        "        Plot the top 10 most frequent words using matplotlib or seaborn.\n",
        "    Document Similarity\n",
        "        Calculate cosine similarity between headline vectors.\n",
        "        Display the similarity matrix in tabular form.\n",
        "        Identify the two most similar headlines and explain their similarity based on shared vocabulary.\n",
        "\n",
        "Deliverables\n",
        "\n",
        "    A notebook implementing the preprocessing function and Bag-of-Words construction.\n",
        "    Printed output showing vocabulary and matrix characteristics.\n",
        "    A bar chart of the top 10 words by frequency.\n",
        "    A similarity matrix with highlighted most similar headline pairs.\n",
        "    A short commentary explaining the results.\n",
        "\n",
        "This exercise provides hands-on experience with core NLP techniques including text cleaning, feature extraction via Bag-of-Words, and comparing documents using cosine similarity on vectorized features."
      ],
      "metadata": {
        "id": "Yw5EhM6W-lKj"
      }
    },
    {
      "cell_type": "code",
      "execution_count": 1,
      "metadata": {
        "id": "_SVr7aL78ffX"
      },
      "outputs": [],
      "source": [
        "# Import required libraries\n",
        "import numpy as np\n",
        "import pandas as pd\n",
        "import matplotlib.pyplot as plt\n",
        "import seaborn as sns\n",
        "from collections import Counter\n",
        "from sklearn.feature_extraction.text import CountVectorizer, TfidfVectorizer\n",
        "from sklearn.metrics.pairwise import cosine_similarity\n",
        "import re"
      ]
    },
    {
      "cell_type": "code",
      "source": [
        "headlines = [\n",
        "    \"AI outperforms doctors in diagnosing rare diseases\",\n",
        "    \"Stock markets hit new record highs amid global optimism\",\n",
        "    \"New vaccine shows promise in early trials\",\n",
        "    \"Climate change impacts agriculture across multiple continents\",\n",
        "    \"Scientists develop biodegradable plastic from seaweed\",\n",
        "    \"Sports teams adapt strategies with big data analytics\",\n",
        "    \"Electric vehicles set new sales record worldwide\",\n",
        "    \"Breakthrough in quantum computing boosts encryption security\"\n",
        "]\n",
        "\n",
        "print(\"Sample Headlines for Vectorization:\")\n",
        "print(\"=\" * 50)\n",
        "for i, doc in enumerate(headlines, 1):\n",
        "    print(f\"{i}. {doc}\")"
      ],
      "metadata": {
        "id": "g7X-y5Jz_Nks",
        "outputId": "95eca5d2-7d2a-492e-ddf3-a9e564801fc2",
        "colab": {
          "base_uri": "https://localhost:8080/"
        }
      },
      "execution_count": 3,
      "outputs": [
        {
          "output_type": "stream",
          "name": "stdout",
          "text": [
            "Sample Headlines for Vectorization:\n",
            "==================================================\n",
            "1. AI outperforms doctors in diagnosing rare diseases\n",
            "2. Stock markets hit new record highs amid global optimism\n",
            "3. New vaccine shows promise in early trials\n",
            "4. Climate change impacts agriculture across multiple continents\n",
            "5. Scientists develop biodegradable plastic from seaweed\n",
            "6. Sports teams adapt strategies with big data analytics\n",
            "7. Electric vehicles set new sales record worldwide\n",
            "8. Breakthrough in quantum computing boosts encryption security\n"
          ]
        }
      ]
    },
    {
      "cell_type": "code",
      "source": [
        "# Preprocessing\n",
        "def simple_preprocess(text):\n",
        "    \"\"\"Basic text preprocessing for vectorization\"\"\"\n",
        "    # Convert to lowercase\n",
        "    text = text.lower()\n",
        "    # Remove punctuation and extra spaces\n",
        "    text = re.sub(r'[^\\w\\s]', '', text)\n",
        "    text = re.sub(r'\\s+', ' ', text).strip()\n",
        "    return text\n",
        "\n",
        "# Preprocess documents\n",
        "processed_headlines = [simple_preprocess(headline) for headline in headlines]\n",
        "print(f\"\\nPreprocessed Documents:\")\n",
        "for i, headline in enumerate(processed_headlines, 1):\n",
        "    print(f\"{i}. {headline}\")"
      ],
      "metadata": {
        "id": "qkO0GwsJArAz",
        "outputId": "415d9d51-efa5-42c1-a462-5c894515a4d1",
        "colab": {
          "base_uri": "https://localhost:8080/"
        }
      },
      "execution_count": 4,
      "outputs": [
        {
          "output_type": "stream",
          "name": "stdout",
          "text": [
            "\n",
            "Preprocessed Documents:\n",
            "1. ai outperforms doctors in diagnosing rare diseases\n",
            "2. stock markets hit new record highs amid global optimism\n",
            "3. new vaccine shows promise in early trials\n",
            "4. climate change impacts agriculture across multiple continents\n",
            "5. scientists develop biodegradable plastic from seaweed\n",
            "6. sports teams adapt strategies with big data analytics\n",
            "7. electric vehicles set new sales record worldwide\n",
            "8. breakthrough in quantum computing boosts encryption security\n"
          ]
        }
      ]
    }
  ]
}