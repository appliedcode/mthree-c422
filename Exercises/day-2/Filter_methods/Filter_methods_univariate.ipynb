{
  "cells": [
    {
      "cell_type": "markdown",
      "id": "522617be",
      "metadata": {
        "id": "522617be"
      },
      "source": [
        "\n",
        "## Exercise 2: Univariate Selection (ANOVA F-Value)\n",
        "\n",
        "**Problem Description:**  \n",
        "Rank features by how well they distinguish classes via ANOVA F-value.\n",
        "\n",
        "**Solution Overview:**  \n",
        "Use `SelectKBest(f_classif)` to compute F-scores, vary _k_, and plot results.\n",
        "\n"
      ]
    },
    {
      "cell_type": "code",
      "execution_count": 11,
      "id": "290fe267",
      "metadata": {
        "vscode": {
          "languageId": "plaintext"
        },
        "id": "290fe267"
      },
      "outputs": [],
      "source": [
        "# 2.1 Setup\n",
        "from sklearn.feature_selection import SelectKBest, f_classif"
      ]
    },
    {
      "cell_type": "code",
      "execution_count": 12,
      "id": "97a524a3",
      "metadata": {
        "vscode": {
          "languageId": "plaintext"
        },
        "id": "97a524a3"
      },
      "outputs": [],
      "source": [
        "# 2.2 Compute F-scores and select top k\n",
        "def run_anova(k):\n",
        "  selector = SelectKBest(score_func=f_classif, k=k)\n",
        "  X_k = selector.fit_transform(X, y)\n",
        "  df = pd.DataFrame({\n",
        "  'feature': X.columns,\n",
        "  'F_score': selector.scores_\n",
        "  }).sort_values('F_score', ascending=False)\n",
        "  print(f\"\\nTop {k} features by ANOVA F-value:\\n\", df.head(k))\n",
        "  return df"
      ]
    },
    {
      "cell_type": "code",
      "execution_count": 13,
      "id": "eb9df965",
      "metadata": {
        "vscode": {
          "languageId": "plaintext"
        },
        "id": "eb9df965",
        "outputId": "90635337-d196-4c94-9c0c-eeece9adffe2",
        "colab": {
          "base_uri": "https://localhost:8080/",
          "height": 332
        }
      },
      "outputs": [
        {
          "output_type": "error",
          "ename": "NameError",
          "evalue": "name 'X' is not defined",
          "traceback": [
            "\u001b[0;31m---------------------------------------------------------------------------\u001b[0m",
            "\u001b[0;31mNameError\u001b[0m                                 Traceback (most recent call last)",
            "\u001b[0;32m/tmp/ipython-input-13-2588254157.py\u001b[0m in \u001b[0;36m<cell line: 0>\u001b[0;34m()\u001b[0m\n\u001b[1;32m      1\u001b[0m \u001b[0;31m# 2.3 Try k = 1, 2, 3, 4 and plot\u001b[0m\u001b[0;34m\u001b[0m\u001b[0;34m\u001b[0m\u001b[0m\n\u001b[1;32m      2\u001b[0m \u001b[0;32mfor\u001b[0m \u001b[0mk\u001b[0m \u001b[0;32min\u001b[0m \u001b[0;34m[\u001b[0m\u001b[0;36m1\u001b[0m\u001b[0;34m,\u001b[0m\u001b[0;36m2\u001b[0m\u001b[0;34m,\u001b[0m\u001b[0;36m3\u001b[0m\u001b[0;34m,\u001b[0m\u001b[0;36m4\u001b[0m\u001b[0;34m]\u001b[0m\u001b[0;34m:\u001b[0m\u001b[0;34m\u001b[0m\u001b[0;34m\u001b[0m\u001b[0m\n\u001b[0;32m----> 3\u001b[0;31m   \u001b[0mdf_anova\u001b[0m \u001b[0;34m=\u001b[0m \u001b[0mrun_anova\u001b[0m\u001b[0;34m(\u001b[0m\u001b[0mk\u001b[0m\u001b[0;34m)\u001b[0m\u001b[0;34m\u001b[0m\u001b[0;34m\u001b[0m\u001b[0m\n\u001b[0m\u001b[1;32m      4\u001b[0m   \u001b[0mplt\u001b[0m\u001b[0;34m.\u001b[0m\u001b[0mfigure\u001b[0m\u001b[0;34m(\u001b[0m\u001b[0mfigsize\u001b[0m\u001b[0;34m=\u001b[0m\u001b[0;34m(\u001b[0m\u001b[0;36m6\u001b[0m\u001b[0;34m,\u001b[0m\u001b[0;36m4\u001b[0m\u001b[0;34m)\u001b[0m\u001b[0;34m)\u001b[0m\u001b[0;34m\u001b[0m\u001b[0;34m\u001b[0m\u001b[0m\n\u001b[1;32m      5\u001b[0m   \u001b[0msns\u001b[0m\u001b[0;34m.\u001b[0m\u001b[0mbarplot\u001b[0m\u001b[0;34m(\u001b[0m\u001b[0mx\u001b[0m\u001b[0;34m=\u001b[0m\u001b[0;34m'F_score'\u001b[0m\u001b[0;34m,\u001b[0m \u001b[0my\u001b[0m\u001b[0;34m=\u001b[0m\u001b[0;34m'feature'\u001b[0m\u001b[0;34m,\u001b[0m \u001b[0mdata\u001b[0m\u001b[0;34m=\u001b[0m\u001b[0mdf_anova\u001b[0m\u001b[0;34m)\u001b[0m\u001b[0;34m\u001b[0m\u001b[0;34m\u001b[0m\u001b[0m\n",
            "\u001b[0;32m/tmp/ipython-input-12-3130514226.py\u001b[0m in \u001b[0;36mrun_anova\u001b[0;34m(k)\u001b[0m\n\u001b[1;32m      2\u001b[0m \u001b[0;32mdef\u001b[0m \u001b[0mrun_anova\u001b[0m\u001b[0;34m(\u001b[0m\u001b[0mk\u001b[0m\u001b[0;34m)\u001b[0m\u001b[0;34m:\u001b[0m\u001b[0;34m\u001b[0m\u001b[0;34m\u001b[0m\u001b[0m\n\u001b[1;32m      3\u001b[0m   \u001b[0mselector\u001b[0m \u001b[0;34m=\u001b[0m \u001b[0mSelectKBest\u001b[0m\u001b[0;34m(\u001b[0m\u001b[0mscore_func\u001b[0m\u001b[0;34m=\u001b[0m\u001b[0mf_classif\u001b[0m\u001b[0;34m,\u001b[0m \u001b[0mk\u001b[0m\u001b[0;34m=\u001b[0m\u001b[0mk\u001b[0m\u001b[0;34m)\u001b[0m\u001b[0;34m\u001b[0m\u001b[0;34m\u001b[0m\u001b[0m\n\u001b[0;32m----> 4\u001b[0;31m   \u001b[0mX_k\u001b[0m \u001b[0;34m=\u001b[0m \u001b[0mselector\u001b[0m\u001b[0;34m.\u001b[0m\u001b[0mfit_transform\u001b[0m\u001b[0;34m(\u001b[0m\u001b[0mX\u001b[0m\u001b[0;34m,\u001b[0m \u001b[0my\u001b[0m\u001b[0;34m)\u001b[0m\u001b[0;34m\u001b[0m\u001b[0;34m\u001b[0m\u001b[0m\n\u001b[0m\u001b[1;32m      5\u001b[0m   df = pd.DataFrame({\n\u001b[1;32m      6\u001b[0m   \u001b[0;34m'feature'\u001b[0m\u001b[0;34m:\u001b[0m \u001b[0mX\u001b[0m\u001b[0;34m.\u001b[0m\u001b[0mcolumns\u001b[0m\u001b[0;34m,\u001b[0m\u001b[0;34m\u001b[0m\u001b[0;34m\u001b[0m\u001b[0m\n",
            "\u001b[0;31mNameError\u001b[0m: name 'X' is not defined"
          ]
        }
      ],
      "source": [
        "# 2.3 Try k = 1, 2, 3, 4 and plot\n",
        "for k in [1,2,3,4]:\n",
        "  df_anova = run_anova(k)\n",
        "  plt.figure(figsize=(6,4))\n",
        "  sns.barplot(x='F_score', y='feature', data=df_anova)\n",
        "  plt.title('ANOVA F-scores')\n",
        "  plt.show()"
      ]
    },
    {
      "cell_type": "markdown",
      "id": "55f13ef1",
      "metadata": {
        "id": "55f13ef1"
      },
      "source": [
        "# 2.3 Analysis\n",
        "Interpret the meaning of the F-score for each feature.\n",
        "\n",
        "Try k = 1, 2, 4 and discuss stability of rankings.\n",
        "\n",
        "Visualize F-scores with a horizontal bar plot."
      ]
    },
    {
      "cell_type": "markdown",
      "id": "74559a5b",
      "metadata": {
        "id": "74559a5b"
      },
      "source": [
        "# Exercise 2: ANOVA F-Value\n",
        "## Analysis to Include in Code"
      ]
    },
    {
      "cell_type": "code",
      "execution_count": null,
      "id": "f229cf68",
      "metadata": {
        "vscode": {
          "languageId": "plaintext"
        },
        "id": "f229cf68"
      },
      "outputs": [],
      "source": [
        "# 1. Score Table\n",
        "display(anova_df.style.background_gradient('Reds', subset=['F_score']))\n"
      ]
    },
    {
      "cell_type": "code",
      "execution_count": 14,
      "id": "a3de14d5",
      "metadata": {
        "vscode": {
          "languageId": "plaintext"
        },
        "id": "a3de14d5",
        "outputId": "2cad1770-f606-4acb-b6a7-cbfa1ec5d7f6",
        "colab": {
          "base_uri": "https://localhost:8080/",
          "height": 315
        }
      },
      "outputs": [
        {
          "output_type": "error",
          "ename": "NameError",
          "evalue": "name 'X' is not defined",
          "traceback": [
            "\u001b[0;31m---------------------------------------------------------------------------\u001b[0m",
            "\u001b[0;31mNameError\u001b[0m                                 Traceback (most recent call last)",
            "\u001b[0;32m/tmp/ipython-input-14-1795763066.py\u001b[0m in \u001b[0;36m<cell line: 0>\u001b[0;34m()\u001b[0m\n\u001b[1;32m      2\u001b[0m \u001b[0mstability\u001b[0m \u001b[0;34m=\u001b[0m \u001b[0;34m{\u001b[0m\u001b[0;34m}\u001b[0m\u001b[0;34m\u001b[0m\u001b[0;34m\u001b[0m\u001b[0m\n\u001b[1;32m      3\u001b[0m \u001b[0;32mfor\u001b[0m \u001b[0mk\u001b[0m \u001b[0;32min\u001b[0m \u001b[0;34m[\u001b[0m\u001b[0;36m1\u001b[0m\u001b[0;34m,\u001b[0m\u001b[0;36m2\u001b[0m\u001b[0;34m,\u001b[0m\u001b[0;36m3\u001b[0m\u001b[0;34m,\u001b[0m\u001b[0;36m4\u001b[0m\u001b[0;34m]\u001b[0m\u001b[0;34m:\u001b[0m\u001b[0;34m\u001b[0m\u001b[0;34m\u001b[0m\u001b[0m\n\u001b[0;32m----> 4\u001b[0;31m     \u001b[0mstability\u001b[0m\u001b[0;34m[\u001b[0m\u001b[0mk\u001b[0m\u001b[0;34m]\u001b[0m \u001b[0;34m=\u001b[0m \u001b[0mlist\u001b[0m\u001b[0;34m(\u001b[0m\u001b[0mrun_anova\u001b[0m\u001b[0;34m(\u001b[0m\u001b[0mk\u001b[0m\u001b[0;34m)\u001b[0m\u001b[0;34m[\u001b[0m\u001b[0;34m'feature'\u001b[0m\u001b[0;34m]\u001b[0m\u001b[0;34m[\u001b[0m\u001b[0;34m:\u001b[0m\u001b[0mk\u001b[0m\u001b[0;34m]\u001b[0m\u001b[0;34m)\u001b[0m\u001b[0;34m\u001b[0m\u001b[0;34m\u001b[0m\u001b[0m\n\u001b[0m\u001b[1;32m      5\u001b[0m \u001b[0mprint\u001b[0m\u001b[0;34m(\u001b[0m\u001b[0;34m\"Top-k stability:\"\u001b[0m\u001b[0;34m,\u001b[0m \u001b[0mstability\u001b[0m\u001b[0;34m)\u001b[0m\u001b[0;34m\u001b[0m\u001b[0;34m\u001b[0m\u001b[0m\n",
            "\u001b[0;32m/tmp/ipython-input-12-3130514226.py\u001b[0m in \u001b[0;36mrun_anova\u001b[0;34m(k)\u001b[0m\n\u001b[1;32m      2\u001b[0m \u001b[0;32mdef\u001b[0m \u001b[0mrun_anova\u001b[0m\u001b[0;34m(\u001b[0m\u001b[0mk\u001b[0m\u001b[0;34m)\u001b[0m\u001b[0;34m:\u001b[0m\u001b[0;34m\u001b[0m\u001b[0;34m\u001b[0m\u001b[0m\n\u001b[1;32m      3\u001b[0m   \u001b[0mselector\u001b[0m \u001b[0;34m=\u001b[0m \u001b[0mSelectKBest\u001b[0m\u001b[0;34m(\u001b[0m\u001b[0mscore_func\u001b[0m\u001b[0;34m=\u001b[0m\u001b[0mf_classif\u001b[0m\u001b[0;34m,\u001b[0m \u001b[0mk\u001b[0m\u001b[0;34m=\u001b[0m\u001b[0mk\u001b[0m\u001b[0;34m)\u001b[0m\u001b[0;34m\u001b[0m\u001b[0;34m\u001b[0m\u001b[0m\n\u001b[0;32m----> 4\u001b[0;31m   \u001b[0mX_k\u001b[0m \u001b[0;34m=\u001b[0m \u001b[0mselector\u001b[0m\u001b[0;34m.\u001b[0m\u001b[0mfit_transform\u001b[0m\u001b[0;34m(\u001b[0m\u001b[0mX\u001b[0m\u001b[0;34m,\u001b[0m \u001b[0my\u001b[0m\u001b[0;34m)\u001b[0m\u001b[0;34m\u001b[0m\u001b[0;34m\u001b[0m\u001b[0m\n\u001b[0m\u001b[1;32m      5\u001b[0m   df = pd.DataFrame({\n\u001b[1;32m      6\u001b[0m   \u001b[0;34m'feature'\u001b[0m\u001b[0;34m:\u001b[0m \u001b[0mX\u001b[0m\u001b[0;34m.\u001b[0m\u001b[0mcolumns\u001b[0m\u001b[0;34m,\u001b[0m\u001b[0;34m\u001b[0m\u001b[0;34m\u001b[0m\u001b[0m\n",
            "\u001b[0;31mNameError\u001b[0m: name 'X' is not defined"
          ]
        }
      ],
      "source": [
        "# Ranking Stability\n",
        "stability = {}\n",
        "for k in [1,2,3,4]:\n",
        "    stability[k] = list(run_anova(k)['feature'][:k])\n",
        "print(\"Top-k stability:\", stability)\n"
      ]
    },
    {
      "cell_type": "code",
      "execution_count": null,
      "id": "79665e97",
      "metadata": {
        "vscode": {
          "languageId": "plaintext"
        },
        "id": "79665e97"
      },
      "outputs": [],
      "source": [
        "# Cumulative Explained Variance (approximate)\n",
        "cum = anova_df['F_score'].cumsum() / anova_df['F_score'].sum()\n",
        "plt.plot(range(1,len(cum)+1), cum, marker='o')\n",
        "plt.xlabel(\"Number of Features\"); plt.ylabel(\"Cumulative F-score (%)\")\n",
        "plt.title(\"Cumulative Importance by F-score\")\n",
        "plt.show()\n"
      ]
    }
  ],
  "metadata": {
    "language_info": {
      "name": "python"
    },
    "colab": {
      "provenance": []
    },
    "kernelspec": {
      "name": "python3",
      "display_name": "Python 3"
    }
  },
  "nbformat": 4,
  "nbformat_minor": 5
}