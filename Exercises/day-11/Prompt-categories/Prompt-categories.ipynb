{
  "cells": [
    {
      "cell_type": "markdown",
      "metadata": {
        "id": "view-in-github",
        "colab_type": "text"
      },
      "source": [
        "<a href=\"https://colab.research.google.com/github/appliedcode/mthree-c422/blob/main/Exercises/day-11/Prompt-categories/Prompt-categories.ipynb\" target=\"_parent\"><img src=\"https://colab.research.google.com/assets/colab-badge.svg\" alt=\"Open In Colab\"/></a>"
      ]
    },
    {
      "cell_type": "markdown",
      "source": [
        "# Lab Exercise 1 — Zero-Shot Prompt Engineering\n",
        "### Objective\n",
        "- Classify text into target categories without any training, by crafting a natural language instruction."
      ],
      "metadata": {
        "id": "sunTe-KaYXcB"
      }
    },
    {
      "cell_type": "code",
      "source": [
        "# Exercise\n",
        "# Use a zero-shot classification model to assign each news headline to the right category (sports, politics, business).\n",
        "\n",
        "# Install Hugging Face Transformers\n",
        "!pip install transformers -q\n",
        "\n",
        "from transformers import pipeline\n",
        "\n",
        "# Load zero-shot classification pipeline\n",
        "classifier = pipeline(\"zero-shot-classification\", model=\"facebook/bart-large-mnli\")\n",
        "\n",
        "# --- THIS IS THE PROMPT / INPUT ---\n",
        "texts = [\n",
        "    \"The prime minister met foreign leaders to discuss trade agreements.\",\n",
        "    \"The local team won the championship after a thrilling final.\",\n",
        "    \"Stock markets surged after tech companies posted strong earnings.\"\n",
        "]\n",
        "candidate_labels = [\"sports\", \"politics\", \"business\"]\n",
        "# -------------------------------\n",
        "\n",
        "for text in texts:\n",
        "    print(\"=== PROMPT SENT TO MODEL ===\")\n",
        "    print(text)\n",
        "    result = classifier(text, candidate_labels)\n",
        "    print(f\"Predicted Label: {result['labels'][0]} (Score: {result['scores'][0]:.2f})\")\n",
        "    print(\"-\" * 60)\n",
        " Label: {result['labels'][0]} (Score: {result['scores'][0]:.2f})\")\n",
        "    print(\"-\" * 60)\n"
      ],
      "metadata": {
        "id": "uGVnMbZKYYvi"
      },
      "execution_count": null,
      "outputs": []
    },
    {
      "cell_type": "markdown",
      "source": [
        "# Lab Exercise 2 — Few-Shot Prompting\n",
        "### Objective\n",
        "- Show how adding a few examples to the prompt improves the model’s output accuracy."
      ],
      "metadata": {
        "id": "iBp0Ec8jZGWf"
      }
    },
    {
      "cell_type": "code",
      "source": [
        "# Exercise\n",
        "# Ask a model to classify movie review sentiment using few-shot prompting.\n",
        "!pip install transformers accelerate\n",
        "\n",
        "from transformers import pipeline\n",
        "\n",
        "generator = pipeline(\"text-generation\", model=\"tiiuae/falcon-7b-instruct\", device_map=\"auto\")\n",
        "\n",
        "# --- THIS IS THE PROMPT ---\n",
        "prompt = \"\"\"Classify the sentiment of the following movie reviews as Positive or Negative.\n",
        "\n",
        "Review: \"I loved this film! The story was captivating.\"\n",
        "Sentiment: Positive\n",
        "\n",
        "Review: \"This was the worst acting I have ever seen.\"\n",
        "Sentiment: Negative\n",
        "\n",
        "Review: \"Absolutely wonderful soundtrack and direction.\"\n",
        "Sentiment: Positive\n",
        "\n",
        "Review: \"The plot was dull and uninteresting.\"\n",
        "Sentiment:\"\"\"\n",
        "# --------------------------\n",
        "\n",
        "print(\"=== PROMPT SENT TO MODEL ===\")\n",
        "print(prompt)\n",
        "\n",
        "response = generator(prompt, max_new_tokens=20, temperature=0.2)\n",
        "\n",
        "print(\"\\n=== MODEL RESPONSE ===\")\n",
        "print(response[0]['generated_text'])\n"
      ],
      "metadata": {
        "id": "YIep9r4vZB2h"
      },
      "execution_count": null,
      "outputs": []
    },
    {
      "cell_type": "markdown",
      "source": [
        "# Lab Exercise 3 — Chain-of-Thought Prompting\n",
        "## Objective\n",
        "- Guide the model to output step-by-step reasoning before giving the final answer."
      ],
      "metadata": {
        "id": "VMrfE1lvZMSu"
      }
    },
    {
      "cell_type": "code",
      "source": [
        "# Exercise\n",
        "# Solve math word problems with explicit reasoning.\n",
        "# Use the same Falcon-7b-instruct model as above for reasoning\n",
        "\n",
        "# --- THIS IS THE PROMPT ---\n",
        "prompt = \"\"\"\n",
        "Q: Tom has 3 apples. He buys 2 more packs with 4 apples each. Then he eats 3 apples. How many apples does he have left?\n",
        "Let's think step-by-step.\n",
        "\n",
        "1. Tom starts with 3 apples.\n",
        "2. He buys 2 packs of 4 apples = 2 * 4 = 8 apples.\n",
        "3. Total apples now = 3 + 8 = 11 apples.\n",
        "4. He eats 3 apples, so remaining = 11 - 3 = 8 apples.\n",
        "Answer: 8\n",
        "\n",
        "Q: Sarah has 10 pencils. She gives 3 to John and 2 to Mary. How many does she have left?\n",
        "Let's think step-by-step.\n",
        "\"\"\"\n",
        "# --------------------------\n",
        "\n",
        "print(\"=== PROMPT SENT TO MODEL ===\")\n",
        "print(prompt)\n",
        "\n",
        "response = generator(prompt, max_new_tokens=50, temperature=0)\n",
        "\n",
        "print(\"\\n=== MODEL RESPONSE ===\")\n",
        "print(response[0]['generated_text'])\n"
      ],
      "metadata": {
        "id": "qIfYlqguZPPN"
      },
      "execution_count": null,
      "outputs": []
    }
  ],
  "metadata": {
    "colab": {
      "name": "Welcome to Colab",
      "toc_visible": true,
      "provenance": [],
      "include_colab_link": true
    },
    "kernelspec": {
      "display_name": "Python 3",
      "name": "python3"
    }
  },
  "nbformat": 4,
  "nbformat_minor": 0
}