{
  "cells": [
    {
      "cell_type": "markdown",
      "metadata": {},
      "source": [
        "Lab: AI Ethics & Core Principles with Larger Dataset\n",
        "Step 1 — Dataset Creation"
      ]
    },
    {
      "cell_type": "markdown",
      "metadata": {},
      "source": [
        "Step 1 — Dataset Creation\n"
      ]
    },
    {
      "cell_type": "code",
      "execution_count": 3,
      "metadata": {
        "colab": {
          "base_uri": "https://localhost:8080/",
          "height": 206
        },
        "id": "_j6ClvHmXpXu",
        "outputId": "018fb10d-e827-41a9-9d67-8b5d0759a27c"
      },
      "outputs": [
        {
          "data": {
            "application/vnd.google.colaboratory.intrinsic+json": {
              "summary": "{\n  \"name\": \"data\",\n  \"rows\": 1000,\n  \"fields\": [\n    {\n      \"column\": \"Applicant_ID\",\n      \"properties\": {\n        \"dtype\": \"number\",\n        \"std\": 288,\n        \"min\": 1,\n        \"max\": 1000,\n        \"num_unique_values\": 1000,\n        \"samples\": [\n          522,\n          738,\n          741\n        ],\n        \"semantic_type\": \"\",\n        \"description\": \"\"\n      }\n    },\n    {\n      \"column\": \"Age\",\n      \"properties\": {\n        \"dtype\": \"number\",\n        \"std\": 14,\n        \"min\": 18,\n        \"max\": 69,\n        \"num_unique_values\": 52,\n        \"samples\": [\n          50,\n          51,\n          18\n        ],\n        \"semantic_type\": \"\",\n        \"description\": \"\"\n      }\n    },\n    {\n      \"column\": \"Gender\",\n      \"properties\": {\n        \"dtype\": \"category\",\n        \"num_unique_values\": 3,\n        \"samples\": [\n          \"Female\",\n          \"Male\",\n          \"Other\"\n        ],\n        \"semantic_type\": \"\",\n        \"description\": \"\"\n      }\n    },\n    {\n      \"column\": \"Ethnicity\",\n      \"properties\": {\n        \"dtype\": \"category\",\n        \"num_unique_values\": 5,\n        \"samples\": [\n          \"Other\",\n          \"Asian\",\n          \"Hispanic\"\n        ],\n        \"semantic_type\": \"\",\n        \"description\": \"\"\n      }\n    },\n    {\n      \"column\": \"Income\",\n      \"properties\": {\n        \"dtype\": \"number\",\n        \"std\": 36,\n        \"min\": 20,\n        \"max\": 149,\n        \"num_unique_values\": 130,\n        \"samples\": [\n          52,\n          93,\n          32\n        ],\n        \"semantic_type\": \"\",\n        \"description\": \"\"\n      }\n    },\n    {\n      \"column\": \"Credit_Score\",\n      \"properties\": {\n        \"dtype\": \"number\",\n        \"std\": 158,\n        \"min\": 300,\n        \"max\": 850,\n        \"num_unique_values\": 466,\n        \"samples\": [\n          689,\n          448,\n          683\n        ],\n        \"semantic_type\": \"\",\n        \"description\": \"\"\n      }\n    },\n    {\n      \"column\": \"Loan_Amount\",\n      \"properties\": {\n        \"dtype\": \"number\",\n        \"std\": 27,\n        \"min\": 5,\n        \"max\": 99,\n        \"num_unique_values\": 95,\n        \"samples\": [\n          7,\n          94,\n          25\n        ],\n        \"semantic_type\": \"\",\n        \"description\": \"\"\n      }\n    },\n    {\n      \"column\": \"Loan_Approved\",\n      \"properties\": {\n        \"dtype\": \"number\",\n        \"std\": 0,\n        \"min\": 0,\n        \"max\": 1,\n        \"num_unique_values\": 2,\n        \"samples\": [\n          0,\n          1\n        ],\n        \"semantic_type\": \"\",\n        \"description\": \"\"\n      }\n    }\n  ]\n}",
              "type": "dataframe",
              "variable_name": "data"
            },
            "text/html": [
              "\n",
              "  <div id=\"df-c1a41a7a-33e1-413b-8e70-e08f71960bcb\" class=\"colab-df-container\">\n",
              "    <div>\n",
              "<style scoped>\n",
              "    .dataframe tbody tr th:only-of-type {\n",
              "        vertical-align: middle;\n",
              "    }\n",
              "\n",
              "    .dataframe tbody tr th {\n",
              "        vertical-align: top;\n",
              "    }\n",
              "\n",
              "    .dataframe thead th {\n",
              "        text-align: right;\n",
              "    }\n",
              "</style>\n",
              "<table border=\"1\" class=\"dataframe\">\n",
              "  <thead>\n",
              "    <tr style=\"text-align: right;\">\n",
              "      <th></th>\n",
              "      <th>Applicant_ID</th>\n",
              "      <th>Age</th>\n",
              "      <th>Gender</th>\n",
              "      <th>Ethnicity</th>\n",
              "      <th>Income</th>\n",
              "      <th>Credit_Score</th>\n",
              "      <th>Loan_Amount</th>\n",
              "      <th>Loan_Approved</th>\n",
              "    </tr>\n",
              "  </thead>\n",
              "  <tbody>\n",
              "    <tr>\n",
              "      <th>0</th>\n",
              "      <td>1</td>\n",
              "      <td>56</td>\n",
              "      <td>Female</td>\n",
              "      <td>White</td>\n",
              "      <td>43</td>\n",
              "      <td>575</td>\n",
              "      <td>67</td>\n",
              "      <td>1</td>\n",
              "    </tr>\n",
              "    <tr>\n",
              "      <th>1</th>\n",
              "      <td>2</td>\n",
              "      <td>69</td>\n",
              "      <td>Male</td>\n",
              "      <td>White</td>\n",
              "      <td>127</td>\n",
              "      <td>799</td>\n",
              "      <td>13</td>\n",
              "      <td>1</td>\n",
              "    </tr>\n",
              "    <tr>\n",
              "      <th>2</th>\n",
              "      <td>3</td>\n",
              "      <td>46</td>\n",
              "      <td>Male</td>\n",
              "      <td>Other</td>\n",
              "      <td>30</td>\n",
              "      <td>636</td>\n",
              "      <td>98</td>\n",
              "      <td>0</td>\n",
              "    </tr>\n",
              "    <tr>\n",
              "      <th>3</th>\n",
              "      <td>4</td>\n",
              "      <td>32</td>\n",
              "      <td>Male</td>\n",
              "      <td>Hispanic</td>\n",
              "      <td>36</td>\n",
              "      <td>780</td>\n",
              "      <td>15</td>\n",
              "      <td>0</td>\n",
              "    </tr>\n",
              "    <tr>\n",
              "      <th>4</th>\n",
              "      <td>5</td>\n",
              "      <td>60</td>\n",
              "      <td>Male</td>\n",
              "      <td>Black</td>\n",
              "      <td>44</td>\n",
              "      <td>572</td>\n",
              "      <td>46</td>\n",
              "      <td>1</td>\n",
              "    </tr>\n",
              "  </tbody>\n",
              "</table>\n",
              "</div>\n",
              "    <div class=\"colab-df-buttons\">\n",
              "\n",
              "  <div class=\"colab-df-container\">\n",
              "    <button class=\"colab-df-convert\" onclick=\"convertToInteractive('df-c1a41a7a-33e1-413b-8e70-e08f71960bcb')\"\n",
              "            title=\"Convert this dataframe to an interactive table.\"\n",
              "            style=\"display:none;\">\n",
              "\n",
              "  <svg xmlns=\"http://www.w3.org/2000/svg\" height=\"24px\" viewBox=\"0 -960 960 960\">\n",
              "    <path d=\"M120-120v-720h720v720H120Zm60-500h600v-160H180v160Zm220 220h160v-160H400v160Zm0 220h160v-160H400v160ZM180-400h160v-160H180v160Zm440 0h160v-160H620v160ZM180-180h160v-160H180v160Zm440 0h160v-160H620v160Z\"/>\n",
              "  </svg>\n",
              "    </button>\n",
              "\n",
              "  <style>\n",
              "    .colab-df-container {\n",
              "      display:flex;\n",
              "      gap: 12px;\n",
              "    }\n",
              "\n",
              "    .colab-df-convert {\n",
              "      background-color: #E8F0FE;\n",
              "      border: none;\n",
              "      border-radius: 50%;\n",
              "      cursor: pointer;\n",
              "      display: none;\n",
              "      fill: #1967D2;\n",
              "      height: 32px;\n",
              "      padding: 0 0 0 0;\n",
              "      width: 32px;\n",
              "    }\n",
              "\n",
              "    .colab-df-convert:hover {\n",
              "      background-color: #E2EBFA;\n",
              "      box-shadow: 0px 1px 2px rgba(60, 64, 67, 0.3), 0px 1px 3px 1px rgba(60, 64, 67, 0.15);\n",
              "      fill: #174EA6;\n",
              "    }\n",
              "\n",
              "    .colab-df-buttons div {\n",
              "      margin-bottom: 4px;\n",
              "    }\n",
              "\n",
              "    [theme=dark] .colab-df-convert {\n",
              "      background-color: #3B4455;\n",
              "      fill: #D2E3FC;\n",
              "    }\n",
              "\n",
              "    [theme=dark] .colab-df-convert:hover {\n",
              "      background-color: #434B5C;\n",
              "      box-shadow: 0px 1px 3px 1px rgba(0, 0, 0, 0.15);\n",
              "      filter: drop-shadow(0px 1px 2px rgba(0, 0, 0, 0.3));\n",
              "      fill: #FFFFFF;\n",
              "    }\n",
              "  </style>\n",
              "\n",
              "    <script>\n",
              "      const buttonEl =\n",
              "        document.querySelector('#df-c1a41a7a-33e1-413b-8e70-e08f71960bcb button.colab-df-convert');\n",
              "      buttonEl.style.display =\n",
              "        google.colab.kernel.accessAllowed ? 'block' : 'none';\n",
              "\n",
              "      async function convertToInteractive(key) {\n",
              "        const element = document.querySelector('#df-c1a41a7a-33e1-413b-8e70-e08f71960bcb');\n",
              "        const dataTable =\n",
              "          await google.colab.kernel.invokeFunction('convertToInteractive',\n",
              "                                                    [key], {});\n",
              "        if (!dataTable) return;\n",
              "\n",
              "        const docLinkHtml = 'Like what you see? Visit the ' +\n",
              "          '<a target=\"_blank\" href=https://colab.research.google.com/notebooks/data_table.ipynb>data table notebook</a>'\n",
              "          + ' to learn more about interactive tables.';\n",
              "        element.innerHTML = '';\n",
              "        dataTable['output_type'] = 'display_data';\n",
              "        await google.colab.output.renderOutput(dataTable, element);\n",
              "        const docLink = document.createElement('div');\n",
              "        docLink.innerHTML = docLinkHtml;\n",
              "        element.appendChild(docLink);\n",
              "      }\n",
              "    </script>\n",
              "  </div>\n",
              "\n",
              "\n",
              "    <div id=\"df-86229e29-5f79-4e03-b7a0-f141ac01d70c\">\n",
              "      <button class=\"colab-df-quickchart\" onclick=\"quickchart('df-86229e29-5f79-4e03-b7a0-f141ac01d70c')\"\n",
              "                title=\"Suggest charts\"\n",
              "                style=\"display:none;\">\n",
              "\n",
              "<svg xmlns=\"http://www.w3.org/2000/svg\" height=\"24px\"viewBox=\"0 0 24 24\"\n",
              "     width=\"24px\">\n",
              "    <g>\n",
              "        <path d=\"M19 3H5c-1.1 0-2 .9-2 2v14c0 1.1.9 2 2 2h14c1.1 0 2-.9 2-2V5c0-1.1-.9-2-2-2zM9 17H7v-7h2v7zm4 0h-2V7h2v10zm4 0h-2v-4h2v4z\"/>\n",
              "    </g>\n",
              "</svg>\n",
              "      </button>\n",
              "\n",
              "<style>\n",
              "  .colab-df-quickchart {\n",
              "      --bg-color: #E8F0FE;\n",
              "      --fill-color: #1967D2;\n",
              "      --hover-bg-color: #E2EBFA;\n",
              "      --hover-fill-color: #174EA6;\n",
              "      --disabled-fill-color: #AAA;\n",
              "      --disabled-bg-color: #DDD;\n",
              "  }\n",
              "\n",
              "  [theme=dark] .colab-df-quickchart {\n",
              "      --bg-color: #3B4455;\n",
              "      --fill-color: #D2E3FC;\n",
              "      --hover-bg-color: #434B5C;\n",
              "      --hover-fill-color: #FFFFFF;\n",
              "      --disabled-bg-color: #3B4455;\n",
              "      --disabled-fill-color: #666;\n",
              "  }\n",
              "\n",
              "  .colab-df-quickchart {\n",
              "    background-color: var(--bg-color);\n",
              "    border: none;\n",
              "    border-radius: 50%;\n",
              "    cursor: pointer;\n",
              "    display: none;\n",
              "    fill: var(--fill-color);\n",
              "    height: 32px;\n",
              "    padding: 0;\n",
              "    width: 32px;\n",
              "  }\n",
              "\n",
              "  .colab-df-quickchart:hover {\n",
              "    background-color: var(--hover-bg-color);\n",
              "    box-shadow: 0 1px 2px rgba(60, 64, 67, 0.3), 0 1px 3px 1px rgba(60, 64, 67, 0.15);\n",
              "    fill: var(--button-hover-fill-color);\n",
              "  }\n",
              "\n",
              "  .colab-df-quickchart-complete:disabled,\n",
              "  .colab-df-quickchart-complete:disabled:hover {\n",
              "    background-color: var(--disabled-bg-color);\n",
              "    fill: var(--disabled-fill-color);\n",
              "    box-shadow: none;\n",
              "  }\n",
              "\n",
              "  .colab-df-spinner {\n",
              "    border: 2px solid var(--fill-color);\n",
              "    border-color: transparent;\n",
              "    border-bottom-color: var(--fill-color);\n",
              "    animation:\n",
              "      spin 1s steps(1) infinite;\n",
              "  }\n",
              "\n",
              "  @keyframes spin {\n",
              "    0% {\n",
              "      border-color: transparent;\n",
              "      border-bottom-color: var(--fill-color);\n",
              "      border-left-color: var(--fill-color);\n",
              "    }\n",
              "    20% {\n",
              "      border-color: transparent;\n",
              "      border-left-color: var(--fill-color);\n",
              "      border-top-color: var(--fill-color);\n",
              "    }\n",
              "    30% {\n",
              "      border-color: transparent;\n",
              "      border-left-color: var(--fill-color);\n",
              "      border-top-color: var(--fill-color);\n",
              "      border-right-color: var(--fill-color);\n",
              "    }\n",
              "    40% {\n",
              "      border-color: transparent;\n",
              "      border-right-color: var(--fill-color);\n",
              "      border-top-color: var(--fill-color);\n",
              "    }\n",
              "    60% {\n",
              "      border-color: transparent;\n",
              "      border-right-color: var(--fill-color);\n",
              "    }\n",
              "    80% {\n",
              "      border-color: transparent;\n",
              "      border-right-color: var(--fill-color);\n",
              "      border-bottom-color: var(--fill-color);\n",
              "    }\n",
              "    90% {\n",
              "      border-color: transparent;\n",
              "      border-bottom-color: var(--fill-color);\n",
              "    }\n",
              "  }\n",
              "</style>\n",
              "\n",
              "      <script>\n",
              "        async function quickchart(key) {\n",
              "          const quickchartButtonEl =\n",
              "            document.querySelector('#' + key + ' button');\n",
              "          quickchartButtonEl.disabled = true;  // To prevent multiple clicks.\n",
              "          quickchartButtonEl.classList.add('colab-df-spinner');\n",
              "          try {\n",
              "            const charts = await google.colab.kernel.invokeFunction(\n",
              "                'suggestCharts', [key], {});\n",
              "          } catch (error) {\n",
              "            console.error('Error during call to suggestCharts:', error);\n",
              "          }\n",
              "          quickchartButtonEl.classList.remove('colab-df-spinner');\n",
              "          quickchartButtonEl.classList.add('colab-df-quickchart-complete');\n",
              "        }\n",
              "        (() => {\n",
              "          let quickchartButtonEl =\n",
              "            document.querySelector('#df-86229e29-5f79-4e03-b7a0-f141ac01d70c button');\n",
              "          quickchartButtonEl.style.display =\n",
              "            google.colab.kernel.accessAllowed ? 'block' : 'none';\n",
              "        })();\n",
              "      </script>\n",
              "    </div>\n",
              "\n",
              "    </div>\n",
              "  </div>\n"
            ],
            "text/plain": [
              "   Applicant_ID  Age  Gender Ethnicity  Income  Credit_Score  Loan_Amount  \\\n",
              "0             1   56  Female     White      43           575           67   \n",
              "1             2   69    Male     White     127           799           13   \n",
              "2             3   46    Male     Other      30           636           98   \n",
              "3             4   32    Male  Hispanic      36           780           15   \n",
              "4             5   60    Male     Black      44           572           46   \n",
              "\n",
              "   Loan_Approved  \n",
              "0              1  \n",
              "1              1  \n",
              "2              0  \n",
              "3              0  \n",
              "4              1  "
            ]
          },
          "execution_count": 3,
          "metadata": {},
          "output_type": "execute_result"
        }
      ],
      "source": [
        "import pandas as pd\n",
        "import numpy as np\n",
        "\n",
        "# Set random seed for reproducibility\n",
        "np.random.seed(42)\n",
        "\n",
        "genders = [\"Male\", \"Female\", \"Other\"]\n",
        "ethnicities = [\"White\", \"Black\", \"Asian\", \"Hispanic\", \"Other\"]\n",
        "\n",
        "n = 1000\n",
        "data = pd.DataFrame({\n",
        "    \"Applicant_ID\": range(1, n+1),\n",
        "    \"Age\": np.random.randint(18, 70, n),\n",
        "    \"Gender\": np.random.choice(genders, n, p=[0.48, 0.48, 0.04]),\n",
        "    \"Ethnicity\": np.random.choice(ethnicities, n, p=[0.4, 0.2, 0.2, 0.15, 0.05]),\n",
        "    \"Income\": np.random.randint(20, 150, n),  # Annual income (k USD)\n",
        "    \"Credit_Score\": np.random.randint(300, 851, n),\n",
        "    \"Loan_Amount\": np.random.randint(5, 100, n) # Request amount in thousands\n",
        "})\n",
        "\n",
        "# Biased approval logic for realism\n",
        "data[\"Loan_Approved\"] = np.where(\n",
        "    (data[\"Credit_Score\"] > 650) & (data[\"Income\"] > 50),\n",
        "    np.random.choice([1, 0], n, p=[0.8, 0.2]),\n",
        "    np.random.choice([1, 0], n, p=[0.3, 0.7])\n",
        ")\n",
        "\n",
        "data.head()"
      ]
    },
    {
      "cell_type": "markdown",
      "metadata": {},
      "source": [
        "Task 1 — Fairness\n"
      ]
    },
    {
      "cell_type": "code",
      "execution_count": 4,
      "metadata": {
        "colab": {
          "base_uri": "https://localhost:8080/"
        },
        "id": "8dL42ob-cpPN",
        "outputId": "0ee393b5-4a15-4661-fdf1-63384728af44"
      },
      "outputs": [
        {
          "name": "stdout",
          "output_type": "stream",
          "text": [
            "Approval Rate by Gender (%)\n",
            " Gender\n",
            "Female    42.561983\n",
            "Male      44.842105\n",
            "Other     36.585366\n",
            "Name: Loan_Approved, dtype: float64\n",
            "\n",
            "Approval Rate by Ethnicity (%)\n",
            " Ethnicity\n",
            "Asian       44.549763\n",
            "Black       43.718593\n",
            "Hispanic    45.517241\n",
            "Other       45.283019\n",
            "White       41.581633\n",
            "Name: Loan_Approved, dtype: float64\n"
          ]
        }
      ],
      "source": [
        "# Approval rate by Gender\n",
        "gender_approval = data.groupby(\"Gender\")[\"Loan_Approved\"].mean() * 100\n",
        "print(\"Approval Rate by Gender (%)\\n\", gender_approval)\n",
        "\n",
        "# Approval rate by Ethnicity\n",
        "ethnicity_approval = data.groupby(\"Ethnicity\")[\"Loan_Approved\"].mean() * 100\n",
        "print(\"\\nApproval Rate by Ethnicity (%)\\n\", ethnicity_approval)"
      ]
    },
    {
      "cell_type": "markdown",
      "metadata": {},
      "source": [
        "Findings:\n",
        "\n",
        "\"Other\" gender and some ethnicities have lower approval rates → possible bias.\n",
        "Mitigation ideas:\n",
        "Use re-balanced sampling during training.\n",
        "Apply fairness constraints in model training.\n",
        "Conduct bias audits before deployment."
      ]
    },
    {
      "cell_type": "markdown",
      "metadata": {},
      "source": [
        "Task 2 — Transparency\n"
      ]
    },
    {
      "cell_type": "code",
      "execution_count": 5,
      "metadata": {
        "colab": {
          "base_uri": "https://localhost:8080/",
          "height": 517
        },
        "id": "_kFD4YpxcpJq",
        "outputId": "5b17d63c-832c-456e-a863-1e0c821df37b"
      },
      "outputs": [
        {
          "data": {
            "image/png": "[encoded data removed]",
            "text/plain": [
              "<Figure size 1200x600 with 1 Axes>"
            ]
          },
          "metadata": {},
          "output_type": "display_data"
        },
        {
          "name": "stdout",
          "output_type": "stream",
          "text": [
            "Model Accuracy: 73.00%\n"
          ]
        }
      ],
      "source": [
        "from sklearn.model_selection import train_test_split\n",
        "from sklearn.tree import DecisionTreeClassifier, plot_tree\n",
        "import matplotlib.pyplot as plt\n",
        "\n",
        "# Prepare data\n",
        "X = data[[\"Age\", \"Income\", \"Credit_Score\", \"Loan_Amount\"]]\n",
        "y = data[\"Loan_Approved\"]\n",
        "\n",
        "X_train, X_test, y_train, y_test = train_test_split(X, y, test_size=0.2, random_state=42)\n",
        "\n",
        "# Train Decision Tree\n",
        "clf = DecisionTreeClassifier(max_depth=3, random_state=42)\n",
        "clf.fit(X_train, y_train)\n",
        "\n",
        "# Visualize tree\n",
        "plt.figure(figsize=(12,6))\n",
        "plot_tree(clf, feature_names=X.columns, class_names=[\"Rejected\", \"Approved\"], filled=True)\n",
        "plt.show()\n",
        "\n",
        "print(f\"Model Accuracy: {clf.score(X_test, y_test)*100:.2f}%\")"
      ]
    },
    {
      "cell_type": "markdown",
      "metadata": {},
      "source": [
        "Interpretation: From the tree, we can explain:\n",
        "\n",
        "If Credit_Score <= 649.5 → high chance of rejection.\n",
        "If Credit_Score > 649.5 and Income > 50.5 → high chance of approval."
      ]
    },
    {
      "cell_type": "markdown",
      "metadata": {},
      "source": [
        "Task 3 — Accountability\n"
      ]
    },
    {
      "cell_type": "code",
      "execution_count": 6,
      "metadata": {
        "colab": {
          "base_uri": "https://localhost:8080/"
        },
        "id": "ryVFTSgrcpEW",
        "outputId": "4008c337-43a2-4bb8-d1cb-fa6c2d6a3d5d"
      },
      "outputs": [
        {
          "name": "stdout",
          "output_type": "stream",
          "text": [
            "{'timestamp': datetime.datetime(2025, 8, 13, 8, 4, 16, 827389), 'input': [35, 80, 720, 30], 'prediction': 1}\n"
          ]
        },
        {
          "name": "stderr",
          "output_type": "stream",
          "text": [
            "/usr/local/lib/python3.11/dist-packages/sklearn/utils/validation.py:2739: UserWarning: X does not have valid feature names, but DecisionTreeClassifier was fitted with feature names\n",
            "  warnings.warn(\n"
          ]
        }
      ],
      "source": [
        "import datetime\n",
        "\n",
        "def predict_and_log(model, input_data):\n",
        "    prediction = model.predict([input_data])[0]\n",
        "    log_entry = {\n",
        "        \"timestamp\": datetime.datetime.now(),\n",
        "        \"input\": input_data,\n",
        "        \"prediction\": int(prediction)\n",
        "    }\n",
        "    print(log_entry)\n",
        "    # Save to CSV for traceability\n",
        "    pd.DataFrame([log_entry]).to_csv(\"prediction_logs.csv\", mode='a', header=False, index=False)\n",
        "\n",
        "# Example prediction\n",
        "predict_and_log(clf, [35, 80, 720, 30])"
      ]
    },
    {
      "cell_type": "markdown",
      "metadata": {},
      "source": [
        "Why important?\n",
        "\n",
        "Logs allow audit trails to investigate wrong decisions and assign responsibility.\n"
      ]
    },
    {
      "cell_type": "markdown",
      "metadata": {},
      "source": [
        "Task 4 — Privacy\n"
      ]
    },
    {
      "cell_type": "code",
      "execution_count": 7,
      "metadata": {
        "colab": {
          "base_uri": "https://localhost:8080/"
        },
        "id": "_0O-Dvlyczwv",
        "outputId": "295acd41-f34b-49f8-a961-bb7b1add7d3a"
      },
      "outputs": [
        {
          "name": "stdout",
          "output_type": "stream",
          "text": [
            "   Applicant_ID Applicant_ID_Masked\n",
            "0             1             ID_0001\n",
            "1             2             ID_0002\n",
            "2             3             ID_0003\n",
            "3             4             ID_0004\n",
            "4             5             ID_0005\n"
          ]
        }
      ],
      "source": [
        "# Mask Applicant_ID\n",
        "data[\"Applicant_ID_Masked\"] = data[\"Applicant_ID\"].apply(lambda x: f\"ID_{str(x).zfill(4)}\")\n",
        "print(data[[\"Applicant_ID\", \"Applicant_ID_Masked\"]].head())\n",
        "\n",
        "# Drop raw IDs if needed\n",
        "data_privacy = data.drop(columns=[\"Applicant_ID\"])"
      ]
    },
    {
      "cell_type": "markdown",
      "metadata": {},
      "source": [
        "Trade-off: Masking improves anonymity but may reduce the ability to track individuals for follow-ups."
      ]
    },
    {
      "cell_type": "markdown",
      "metadata": {},
      "source": [
        "Task 5 — Safety & Reliability\n"
      ]
    },
    {
      "cell_type": "code",
      "execution_count": 8,
      "metadata": {
        "colab": {
          "base_uri": "https://localhost:8080/"
        },
        "id": "CR65wVDTc1eU",
        "outputId": "dbab6d8d-3485-4b4c-c273-3529e8d1c061"
      },
      "outputs": [
        {
          "name": "stdout",
          "output_type": "stream",
          "text": [
            "Invalid records found:\n",
            "       Applicant_ID  Age  Gender Ethnicity  Income  Credit_Score  Loan_Amount  \\\n",
            "1000          1001   -5    Male     White     500           900           50   \n",
            "1001          1002  200  Female     Black     -20           100          200   \n",
            "\n",
            "      Loan_Approved Applicant_ID_Masked  \n",
            "1000              1                 NaN  \n",
            "1001              0                 NaN  \n"
          ]
        }
      ],
      "source": [
        "# Add invalid entries\n",
        "invalid_entries = pd.DataFrame({\n",
        "    \"Applicant_ID\": [1001, 1002],\n",
        "    \"Age\": [-5, 200],\n",
        "    \"Gender\": [\"Male\", \"Female\"],\n",
        "    \"Ethnicity\": [\"White\", \"Black\"],\n",
        "    \"Income\": [500, -20],\n",
        "    \"Credit_Score\": [900, 100],\n",
        "    \"Loan_Amount\": [50, 200],\n",
        "    \"Loan_Approved\": [1, 0]\n",
        "})\n",
        "data_with_invalid = pd.concat([data, invalid_entries], ignore_index=True)\n",
        "\n",
        "# Validation function\n",
        "def validate_data(df):\n",
        "    issues = df[\n",
        "        (df[\"Age\"] < 18) | (df[\"Age\"] > 100) |\n",
        "        (df[\"Credit_Score\"] < 300) | (df[\"Credit_Score\"] > 850) |\n",
        "        (df[\"Income\"] < 0) |\n",
        "        (df[\"Loan_Amount\"] <= 0)\n",
        "    ]\n",
        "    return issues\n",
        "\n",
        "print(\"Invalid records found:\\n\", validate_data(data_with_invalid))"
      ]
    },
    {
      "cell_type": "markdown",
      "metadata": {},
      "source": [
        "Task 6 — Inclusivity\n"
      ]
    },
    {
      "cell_type": "code",
      "execution_count": 9,
      "metadata": {
        "colab": {
          "base_uri": "https://localhost:8080/"
        },
        "id": "A0fpXq0Xc3Y5",
        "outputId": "867ef603-e0e9-421a-cad5-ae8079ad1a75"
      },
      "outputs": [
        {
          "name": "stdout",
          "output_type": "stream",
          "text": [
            "Gender Representation (%)\n",
            " Gender\n",
            "Female    48.4\n",
            "Male      47.5\n",
            "Other      4.1\n",
            "Name: proportion, dtype: float64\n",
            "\n",
            "Ethnicity Representation (%)\n",
            " Ethnicity\n",
            "White       39.2\n",
            "Asian       21.1\n",
            "Black       19.9\n",
            "Hispanic    14.5\n",
            "Other        5.3\n",
            "Name: proportion, dtype: float64\n"
          ]
        }
      ],
      "source": [
        "# Representation by Gender\n",
        "gender_rep = data[\"Gender\"].value_counts(normalize=True) * 100\n",
        "print(\"Gender Representation (%)\\n\", gender_rep)\n",
        "\n",
        "# Representation by Ethnicity\n",
        "ethnicity_rep = data[\"Ethnicity\"].value_counts(normalize=True) * 100\n",
        "print(\"\\nEthnicity Representation (%)\\n\", ethnicity_rep)"
      ]
    },
    {
      "cell_type": "markdown",
      "metadata": {},
      "source": [
        "Observation: Certain groups (e.g., “Other” gender and ethnicity) are underrepresented. Solution: Collect more balanced data or augment data from underrepresented groups.\n",
        "\n"
      ]
    }
  ],
  "metadata": {
    "colab": {
      "provenance": []
    },
    "kernelspec": {
      "display_name": "Python 3",
      "name": "python3"
    },
    "language_info": {
      "name": "python"
    }
  },
  "nbformat": 4,
  "nbformat_minor": 0
}
