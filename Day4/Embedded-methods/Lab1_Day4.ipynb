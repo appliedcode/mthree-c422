{
  "nbformat": 4,
  "nbformat_minor": 0,
  "metadata": {
    "colab": {
      "provenance": []
    },
    "kernelspec": {
      "name": "python3",
      "display_name": "Python 3"
    },
    "language_info": {
      "name": "python"
    }
  },
  "cells": [
    {
      "cell_type": "code",
      "execution_count": 1,
      "metadata": {
        "id": "WLmlimbxZ_7_"
      },
      "outputs": [],
      "source": [
        "\n",
        "# Lab Exercises: Embedded Feature‐Selection Methods\n",
        "# Use the Breast Cancer dataset (sklearn.datasets.load_breast_cancer) for all exercises. Split once into training and test sets:\n",
        "from sklearn.datasets import load_breast_cancer\n",
        "from sklearn.model_selection import train_test_split\n",
        "\n",
        "X, y = load_breast_cancer(return_X_y=True, as_frame=True)\n",
        "X_train, X_test, y_train, y_test = train_test_split(\n",
        "    X, y, test_size=0.3, random_state=42\n",
        ")"
      ]
    },
    {
      "cell_type": "markdown",
      "source": [
        "Exercise 1: L1-Regularized Logistic Regression\n",
        "Fit LogisticRegression(penalty='l1', solver='saga', C=1.0, max_iter=5000).\n",
        "\n",
        "Use SelectFromModel (prefit) to select the 5 features with nonzero coefficients.\n",
        "\n",
        "Retrain a vanilla logistic model on those features.\n",
        "\n",
        "Report selected features and test accuracy."
      ],
      "metadata": {
        "id": "XeBcOioubDd6"
      }
    },
    {
      "cell_type": "code",
      "source": [
        "from sklearn.linear_model import LogisticRegression\n",
        "from sklearn.feature_selection import SelectFromModel\n",
        "from sklearn.metrics import accuracy_score\n",
        "\n",
        "model_l1 = LogisticRegression(penalty='l1', solver='saga', C=1.0, max_iter=5000)\n",
        "model_l1.fit(X_train, y_train)\n",
        "\n",
        "sfm_l1 = SelectFromModel(model_l1, prefit=True, max_features=5)\n",
        "feat_l1 = X_train.columns[sfm_l1.get_support()]\n",
        "\n",
        "model = LogisticRegression(max_iter=5000).fit(X_train[feat_l1], y_train)\n",
        "print(\"L1 features:\", list(feat_l1))\n",
        "print(\"Accuracy (L1):\", accuracy_score(y_test, model.predict(X_test[feat_l1])))\n"
      ],
      "metadata": {
        "colab": {
          "base_uri": "https://localhost:8080/"
        },
        "id": "7e8xIGt4bA4g",
        "outputId": "a4d6b9e2-38d8-4303-d314-a1a1d8d92939"
      },
      "execution_count": 3,
      "outputs": [
        {
          "output_type": "stream",
          "name": "stdout",
          "text": [
            "L1 features: ['mean perimeter', 'area error', 'worst radius', 'worst perimeter', 'worst area']\n",
            "Accuracy (L1): 0.9590643274853801\n"
          ]
        }
      ]
    },
    {
      "cell_type": "markdown",
      "source": [
        "Exercise 2: L2-Regularization with Thresholding\n",
        "Fit LogisticRegression(penalty='l2', C=1.0, max_iter=5000).\n",
        "\n",
        "Extract absolute coefficients, select the 5 largest.\n",
        "\n",
        "Retrain and evaluate on those features."
      ],
      "metadata": {
        "id": "4YcKMb6TbSZo"
      }
    },
    {
      "cell_type": "code",
      "source": [
        "\n",
        "import numpy as np\n",
        "\n",
        "model_l2 = LogisticRegression(penalty='l2', C=1.0, max_iter=5000)\n",
        "model_l2.fit(X_train, y_train)\n",
        "\n",
        "abs_coefs = np.abs(model_l2.coef_)[0]\n",
        "idx = np.argsort(abs_coefs)[-5:]\n",
        "feat_l2 = X_train.columns[idx]\n",
        "\n",
        "model = LogisticRegression(max_iter=5000).fit(X_train[feat_l2], y_train)\n",
        "print(\"L2 features:\", list(feat_l2))\n",
        "print(\"Accuracy (L2):\", accuracy_score(y_test, model.predict(X_test[feat_l2])))"
      ],
      "metadata": {
        "colab": {
          "base_uri": "https://localhost:8080/"
        },
        "id": "BGXvTbULbMvh",
        "outputId": "6cef70d5-8fa1-43dd-9d62-348efd835457"
      },
      "execution_count": 4,
      "outputs": [
        {
          "output_type": "stream",
          "name": "stdout",
          "text": [
            "L2 features: ['worst symmetry', 'worst compactness', 'mean radius', 'worst concavity', 'texture error']\n",
            "Accuracy (L2): 0.9532163742690059\n"
          ]
        }
      ]
    },
    {
      "cell_type": "markdown",
      "source": [
        "Exercise 3: Elastic Net Regularization\n",
        "Standardize data with StandardScaler.\n",
        "\n",
        "Fit ElasticNetCV(l1_ratio=[.1, .5, .9], cv=5).\n",
        "\n",
        "Use SelectFromModel to pick the 5 nonzero–coefficient features.\n",
        "\n",
        "Retrain and evaluate."
      ],
      "metadata": {
        "id": "T5DLsSFpbUnu"
      }
    },
    {
      "cell_type": "code",
      "source": [
        "from sklearn.preprocessing import StandardScaler\n",
        "from sklearn.feature_selection import SelectFromModel\n",
        "from sklearn.linear_model import ElasticNetCV\n",
        "import numpy as np\n",
        "from sklearn.linear_model import LogisticRegression\n",
        "from sklearn.metrics import accuracy_score\n",
        "\n",
        "scaler = StandardScaler().fit(X_train)\n",
        "X_tr_s = scaler.transform(X_train)\n",
        "X_ts_s = scaler.transform(X_test)\n",
        "\n",
        "enet = ElasticNetCV(l1_ratio=[.1, .5, .9], cv=5, random_state=0, max_iter=10000, tol=0.01)\n",
        "enet.fit(X_tr_s, y_train)\n",
        "\n",
        "# Calculate the mean of the absolute coefficients across all l1_ratio values\n",
        "mean_abs_coefs = np.mean(np.abs(enet.coef_), axis=0)\n",
        "\n",
        "# Get the indices of the top 5 features based on mean absolute coefficients\n",
        "top_5_feature_indices = np.argsort(mean_abs_coefs)[-5:]\n",
        "\n",
        "# Select the feature names\n",
        "feat_enet = X_train.columns[top_5_feature_indices]\n",
        "\n",
        "# Retrain and evaluate on those features\n",
        "model = LogisticRegression(max_iter=5000).fit(X_tr_s[:, top_5_feature_indices], y_train)\n",
        "print(\"Elastic Net features:\", list(feat_enet))\n",
        "print(\"Accuracy (ElasticNet):\", accuracy_score(y_test, model.predict(X_ts_s[:, top_5_feature_indices])))"
      ],
      "metadata": {
        "colab": {
          "base_uri": "https://localhost:8080/"
        },
        "id": "i9HKUB2hbWhm",
        "outputId": "e4553b52-ddcf-4916-fad9-0217275c6d71"
      },
      "execution_count": 10,
      "outputs": [
        {
          "output_type": "stream",
          "name": "stdout",
          "text": [
            "Elastic Net features: ['mean radius']\n",
            "Accuracy (ElasticNet): 0.9122807017543859\n"
          ]
        }
      ]
    }
  ]
}