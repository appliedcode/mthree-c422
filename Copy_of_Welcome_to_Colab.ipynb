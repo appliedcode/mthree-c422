{
  "cells": [
    {
      "cell_type": "markdown",
      "source": [
        "# 🧪 Colab Lab: Mastering Prompt Structure\n",
        "\n"
      ],
      "metadata": {
        "id": "hFnkDgKDTUgk"
      }
    },
    {
      "cell_type": "code",
      "source": [
        "!pip install --quiet openai\n",
        "\n",
        "from google.colab import userdata\n",
        "import os\n",
        "from openai import OpenAI\n",
        "\n",
        "api_key = userdata.get('OPENAI_API_KEY')\n",
        "if not api_key:\n",
        "    raise ValueError(\"❌ API key not found. Please set with userdata.set(...)\")\n",
        "\n",
        "os.environ[\"OPENAI_API_KEY\"] = api_key\n",
        "client = OpenAI(api_key=os.environ[\"OPENAI_API_KEY\"])\n"
      ],
      "metadata": {
        "id": "b-MrRDkKZxI6"
      },
      "execution_count": null,
      "outputs": []
    },
    {
      "cell_type": "code",
      "source": [
        "# Setup\n",
        "def gpt_request(prompt, model=\"gpt-4o-mini\", temperature=0.7):\n",
        "    \"\"\"Send a prompt to GPT-4o-mini and return the response\"\"\"\n",
        "    response = client.chat.completions.create(\n",
        "        model=model,\n",
        "        messages=[{\"role\": \"user\", \"content\": prompt}],\n",
        "        temperature=temperature,\n",
        "        max_tokens=1000\n",
        "    )\n",
        "    return response.choices[0].message.content\n",
        "\n",
        "# Test the connection\n",
        "print(\"✅ Connected to GPT-4o-mini!\")\n",
        "print(gpt_request(\"Say hello and confirm you are GPT-4o-mini\"))"
      ],
      "metadata": {
        "id": "AMu0nG8RUleT",
        "outputId": "c31037cf-0d87-4daf-e66b-5a7959d5ea67",
        "colab": {
          "base_uri": "https://localhost:8080/"
        }
      },
      "execution_count": null,
      "outputs": [
        {
          "output_type": "stream",
          "name": "stdout",
          "text": [
            "✅ Connected to GPT-4o-mini!\n",
            "Hello! I am GPT-4, here to assist you. How can I help you today?\n"
          ]
        }
      ]
    },
    {
      "cell_type": "markdown",
      "source": [
        "# Exercise 1: Text Generation"
      ],
      "metadata": {
        "id": "5-bxrnHZUcZ_"
      }
    },
    {
      "cell_type": "code",
      "source": [
        "# Part A: Explanation\n",
        "prompt = \"Explain quantum computing to a 12-year-old in simple terms.\"\n",
        "response = gpt_request(prompt)\n",
        "print(\"🧒 For 12-year-old:\")\n",
        "print(response)\n",
        "print(\"\\n\" + \"=\"*50 + \"\\n\")\n",
        "\n",
        "# Student Task: Try different age groups\n",
        "prompt_5yr = \"Explain quantum computing to a 5-year-old in very simple terms.\"\n",
        "response_5yr = gpt_request(prompt_5yr)\n",
        "print(\"👶 For 5-year-old:\")\n",
        "print(response_5yr)\n",
        "print(\"\\n\" + \"=\"*50 + \"\\n\")\n",
        "\n",
        "prompt_college = \"Explain quantum computing to a college student studying computer science.\"\n",
        "response_college = gpt_request(prompt_college)\n",
        "print(\"🎓 For college student:\")\n",
        "print(response_college)\n"
      ],
      "metadata": {
        "id": "RhihJQzaUdlH",
        "outputId": "118c684a-61d5-4a05-916d-a845ce3cc668",
        "colab": {
          "base_uri": "https://localhost:8080/"
        }
      },
      "execution_count": null,
      "outputs": [
        {
          "output_type": "stream",
          "name": "stdout",
          "text": [
            "🧒 For 12-year-old:\n",
            "Sure! Imagine that regular computers are like really fast and smart librarians. They can find and organize information really quickly, but they work with bits, which are like little light switches that can either be off (0) or on (1). This is how they store and process information.\n",
            "\n",
            "Now, quantum computers are like supercharged librarians who can do even more amazing things! Instead of just using bits, they use something called \"qubits.\" Qubits are special because they can be both 0 and 1 at the same time, thanks to a cool property called \"superposition.\" You can think of it like spinning a coin: while it's spinning, it's not just heads or tails; it's kind of both!\n",
            "\n",
            "Another cool thing about qubits is that they can be connected together through something called \"entanglement.\" This is like having two magic coins that, no matter how far apart they are, if you look at one and it’s heads, the other one will always be tails. This connection helps quantum computers solve problems much faster than regular computers.\n",
            "\n",
            "So, in simple terms, quantum computers are super-smart machines that can think about many possibilities at once and work together in special ways to solve really tough problems faster than our regular computers can. It’s like having a super brain that can do things we can’t even imagine!\n",
            "\n",
            "==================================================\n",
            "\n",
            "👶 For 5-year-old:\n",
            "Okay! Imagine you have a really big box of toys, and you want to find your favorite toy car. Normally, you would look at each toy one by one until you find it. That can take a long time if you have a lot of toys!\n",
            "\n",
            "Now, imagine if you had a super special magic helper who could look at many toys at the same time! That’s kind of like how quantum computers work. They can look at lots of possibilities all at once, which helps them solve problems much faster than regular computers.\n",
            "\n",
            "So, quantum computing is like having a really smart and fast helper that can do many things at the same time!\n",
            "\n",
            "==================================================\n",
            "\n",
            "🎓 For college student:\n",
            "Sure! Quantum computing is a fascinating and complex field that combines principles of quantum mechanics with computer science. Here’s a breakdown of the key concepts to help you understand it better.\n",
            "\n",
            "### Classical vs. Quantum Computers\n",
            "\n",
            "1. **Classical Computers:**\n",
            "   - **Bits:** Traditional computers use bits as the smallest unit of data, which can be either 0 or 1.\n",
            "   - **Operations:** They perform calculations and processes using these bits through logical operations, like AND, OR, and NOT gates.\n",
            "\n",
            "2. **Quantum Computers:**\n",
            "   - **Qubits:** Instead of bits, quantum computers use quantum bits or qubits. A qubit can represent 0, 1, or both 0 and 1 simultaneously due to a property called superposition.\n",
            "   - **Superposition:** This means that a qubit can exist in multiple states at once, allowing quantum computers to process a vast amount of information simultaneously.\n",
            "   - **Entanglement:** Qubits can also be entangled, meaning the state of one qubit can depend on the state of another, no matter the distance between them. This property enables highly efficient data processing and communication.\n",
            "   - **Quantum Gates:** Quantum computers perform operations using quantum gates, which manipulate qubits in ways that classical gates cannot. These gates exploit superposition and entanglement to perform complex calculations.\n",
            "\n",
            "### Advantages of Quantum Computing\n",
            "\n",
            "- **Parallelism:** Because of superposition, quantum computers can explore multiple solutions at the same time, potentially solving certain problems much faster than classical computers.\n",
            "- **Complex Problem Solving:** Quantum computers excel at problems involving large datasets, optimization, cryptography, and simulations of quantum systems (like molecular modeling).\n",
            "\n",
            "### Challenges in Quantum Computing\n",
            "\n",
            "- **Error Rates:** Qubits are very sensitive to their environment, leading to higher error rates in calculations. Maintaining coherence (the state of superposition) long enough to perform calculations is a significant challenge.\n",
            "- **Scalability:** Building and maintaining a large number of stable qubits is a complex engineering challenge.\n",
            "- **Algorithm Development:** While there are some algorithms (like Shor's for factoring and Grover's for searching) that show quantum computers' potential, developing new quantum algorithms is still an active area of research.\n",
            "\n",
            "### Current State and Future\n",
            "\n",
            "As of now, quantum computing is still in its early stages. Companies like IBM, Google, and startups like Rigetti and IonQ are developing quantum computers and exploring practical applications. Researchers are also working on hybrid systems that combine classical and quantum computing to leverage the strengths of both.\n",
            "\n",
            "### Conclusion\n",
            "\n",
            "In summary, quantum computing represents a paradigm shift in how we approach computation. While it won't replace classical computers for everyday tasks, it has the potential to tackle problems that are currently intractable, opening new avenues in fields like cryptography, drug discovery, and materials science. If you're interested in pursuing this field, there's a lot of exciting research and development happening, and your background in computer science will provide a strong foundation!\n"
          ]
        }
      ]
    },
    {
      "cell_type": "code",
      "source": [
        "# Part B: Short Essay\n",
        "prompt = \"Write a 150-word essay on the importance of clean water access worldwide.\"\n",
        "response = gpt_request(prompt)\n",
        "print(\"📝 Clean Water Essay:\")\n",
        "print(response)\n",
        "print(f\"\\nWord count: {len(response.split())}\")\n"
      ],
      "metadata": {
        "id": "GUFaHPxGUo05",
        "outputId": "cada29c5-63ce-4530-f585-6e4e91df495a",
        "colab": {
          "base_uri": "https://localhost:8080/"
        }
      },
      "execution_count": null,
      "outputs": [
        {
          "output_type": "stream",
          "name": "stdout",
          "text": [
            "📝 Clean Water Essay:\n",
            "Access to clean water is a fundamental human right and a critical component for sustainable development worldwide. Approximately 2 billion people lack reliable access to safe drinking water, leading to severe health issues, economic disparities, and social inequalities. Contaminated water sources are linked to the spread of waterborne diseases, which disproportionately affect vulnerable populations, particularly children. Ensuring clean water access not only improves public health but also enhances educational opportunities; children, especially girls, often miss school due to the burden of water collection.\n",
            "\n",
            "Moreover, clean water is essential for agriculture and food security, supporting livelihoods and economic growth. Sustainable water management fosters resilience against climate change and promotes environmental conservation. As global populations continue to rise, the demand for clean water will intensify, making it imperative for governments, organizations, and communities to invest in infrastructure and innovative solutions. Promoting equitable access to clean water is vital for achieving global health, reducing poverty, and fostering economic development.\n",
            "\n",
            "Word count: 156\n"
          ]
        }
      ]
    },
    {
      "cell_type": "code",
      "source": [
        "# Part C: Email Draft\n",
        "prompt = \"\"\"Write a formal email to Professor Johnson requesting a 3-day extension\n",
        "on the final project due to illness. Include appropriate subject line.\"\"\"\n",
        "response = gpt_request(prompt)\n",
        "print(\"📧 Email Draft:\")\n",
        "print(response)\n"
      ],
      "metadata": {
        "id": "ZgVryP2JUqcr",
        "outputId": "d8c739bd-a57d-4d17-d98c-90d1834611d5",
        "colab": {
          "base_uri": "https://localhost:8080/"
        }
      },
      "execution_count": null,
      "outputs": [
        {
          "output_type": "stream",
          "name": "stdout",
          "text": [
            "📧 Email Draft:\n",
            "Subject: Request for Extension on Final Project Due to Illness\n",
            "\n",
            "Dear Professor Johnson,\n",
            "\n",
            "I hope this message finds you well. I am writing to formally request a three-day extension on the final project due for your course, [Course Name], originally scheduled for submission on [Original Due Date]. Unfortunately, I have been unwell and unable to complete the project to the best of my ability.\n",
            "\n",
            "I have been following my medical provider's advice to ensure a swift recovery, but this has impacted my ability to work effectively on the project. I am committed to maintaining the quality of my work and believe that a short extension will allow me to achieve that.\n",
            "\n",
            "I understand the importance of adhering to deadlines and sincerely appreciate your consideration of my request. If you need any documentation regarding my illness, I would be happy to provide it.\n",
            "\n",
            "Thank you for your understanding, and I look forward to your response.\n",
            "\n",
            "Best regards,\n",
            "\n",
            "[Your Full Name]  \n",
            "[Your Student ID]  \n",
            "[Your Course Name]  \n",
            "[Your Contact Information]  \n"
          ]
        }
      ]
    },
    {
      "cell_type": "markdown",
      "source": [
        "# Exercise 2: Code Output\n"
      ],
      "metadata": {
        "id": "IZvZM7Z4UuVf"
      }
    },
    {
      "cell_type": "code",
      "source": [
        "# Part A: Code Generation\n",
        "prompt = \"Write Python code to merge two sorted lists into one sorted list. Include comments and example usage.\"\n",
        "response = gpt_request(prompt)\n",
        "print(\"💻 Merge Sorted Lists:\")\n",
        "print(response)\n"
      ],
      "metadata": {
        "id": "CFMuWmtSUvj0",
        "outputId": "e245bc80-6981-4de9-f0a3-4ea63a749ff1",
        "colab": {
          "base_uri": "https://localhost:8080/"
        }
      },
      "execution_count": null,
      "outputs": [
        {
          "output_type": "stream",
          "name": "stdout",
          "text": [
            "💻 Merge Sorted Lists:\n",
            "Certainly! You can merge two sorted lists into one sorted list using a simple algorithm that compares the elements of both lists and combines them in sorted order. Here's how you can do it in Python:\n",
            "\n",
            "```python\n",
            "def merge_sorted_lists(list1, list2):\n",
            "    \"\"\"\n",
            "    Merge two sorted lists into one sorted list.\n",
            "    \n",
            "    :param list1: First sorted list\n",
            "    :param list2: Second sorted list\n",
            "    :return: A new list containing all elements from both lists in sorted order\n",
            "    \"\"\"\n",
            "    merged_list = []\n",
            "    i, j = 0, 0  # Initialize pointers for both lists\n",
            "\n",
            "    # Traverse both lists and merge them\n",
            "    while i < len(list1) and j < len(list2):\n",
            "        if list1[i] < list2[j]:\n",
            "            merged_list.append(list1[i])\n",
            "            i += 1  # Move pointer in list1\n",
            "        else:\n",
            "            merged_list.append(list2[j])\n",
            "            j += 1  # Move pointer in list2\n",
            "\n",
            "    # If there are remaining elements in list1, add them\n",
            "    while i < len(list1):\n",
            "        merged_list.append(list1[i])\n",
            "        i += 1\n",
            "\n",
            "    # If there are remaining elements in list2, add them\n",
            "    while j < len(list2):\n",
            "        merged_list.append(list2[j])\n",
            "        j += 1\n",
            "\n",
            "    return merged_list\n",
            "\n",
            "# Example usage\n",
            "if __name__ == \"__main__\":\n",
            "    sorted_list1 = [1, 3, 5, 7]\n",
            "    sorted_list2 = [2, 4, 6, 8]\n",
            "\n",
            "    merged = merge_sorted_lists(sorted_list1, sorted_list2)\n",
            "    print(\"Merged sorted list:\", merged)  # Output: [1, 2, 3, 4, 5, 6, 7, 8]\n",
            "```\n",
            "\n",
            "### Explanation:\n",
            "- The function `merge_sorted_lists` takes two sorted lists as input.\n",
            "- It initializes an empty list `merged_list` to hold the merged results and two pointers `i` and `j` to track the current index in `list1` and `list2`, respectively.\n",
            "- It uses a while loop to compare elements from both lists and appends the smaller element to `merged_list`.\n",
            "- If there are any remaining elements in either list after one of the lists has been fully traversed, those elements are appended to `merged_list`.\n",
            "- Finally, the function returns the merged sorted list.\n",
            "\n",
            "### Example Usage:\n",
            "In this example, the function merges the two sorted lists `[1, 3, 5, 7]` and `[2, 4, 6, 8]`, resulting in the merged sorted list `[1, 2, 3, 4, 5, 6, 7, 8]`.\n"
          ]
        }
      ]
    },
    {
      "cell_type": "code",
      "source": [
        "# Part B: Code Refactoring\n",
        "original_code = \"\"\"\n",
        "def add(a,b):\n",
        "    return a+b\n",
        "\n",
        "def multiply(x,y):\n",
        "    return x*y\n",
        "\"\"\"\n",
        "\n",
        "prompt = f\"\"\"Refactor the following Python code to:\n",
        "1. Add proper docstrings\n",
        "2. Add type hints\n",
        "3. Add input validation\n",
        "4. Follow PEP 8 style guidelines\n",
        "\n",
        "Original code:\n",
        "{original_code}\"\"\"\n",
        "\n",
        "response = gpt_request(prompt)\n",
        "print(\"🔧 Refactored Code:\")\n",
        "print(response)\n"
      ],
      "metadata": {
        "id": "38TViMG-Ux0e",
        "outputId": "0cedd103-1bd2-4ced-99f8-493026a84f34",
        "colab": {
          "base_uri": "https://localhost:8080/"
        }
      },
      "execution_count": null,
      "outputs": [
        {
          "output_type": "stream",
          "name": "stdout",
          "text": [
            "🔧 Refactored Code:\n",
            "Here's the refactored Python code with the requested improvements:\n",
            "\n",
            "```python\n",
            "def add(a: float, b: float) -> float:\n",
            "    \"\"\"\n",
            "    Adds two numbers together.\n",
            "\n",
            "    Args:\n",
            "        a (float): The first number to add.\n",
            "        b (float): The second number to add.\n",
            "\n",
            "    Returns:\n",
            "        float: The sum of the two numbers.\n",
            "\n",
            "    Raises:\n",
            "        ValueError: If either a or b is not a number.\n",
            "    \"\"\"\n",
            "    if not isinstance(a, (int, float)) or not isinstance(b, (int, float)):\n",
            "        raise ValueError(\"Both a and b must be numbers.\")\n",
            "    \n",
            "    return a + b\n",
            "\n",
            "\n",
            "def multiply(x: float, y: float) -> float:\n",
            "    \"\"\"\n",
            "    Multiplies two numbers together.\n",
            "\n",
            "    Args:\n",
            "        x (float): The first number to multiply.\n",
            "        y (float): The second number to multiply.\n",
            "\n",
            "    Returns:\n",
            "        float: The product of the two numbers.\n",
            "\n",
            "    Raises:\n",
            "        ValueError: If either x or y is not a number.\n",
            "    \"\"\"\n",
            "    if not isinstance(x, (int, float)) or not isinstance(y, (int, float)):\n",
            "        raise ValueError(\"Both x and y must be numbers.\")\n",
            "    \n",
            "    return x * y\n",
            "```\n",
            "\n",
            "### Changes Made:\n",
            "1. **Docstrings**: Added detailed docstrings for each function explaining the parameters, return values, and potential exceptions.\n",
            "2. **Type Hints**: Added type hints to the parameters and return types of the functions.\n",
            "3. **Input Validation**: Added checks to ensure that the inputs are either integers or floats, raising a `ValueError` if they are not.\n",
            "4. **PEP 8 Compliance**: Ensured that the code follows the PEP 8 style guidelines, including proper spacing and formatting.\n"
          ]
        }
      ]
    },
    {
      "cell_type": "code",
      "source": [
        "# Part C: Code Debugging\n",
        "buggy_code = \"\"\"\n",
        "def factorial(n):\n",
        "    if n == 0:\n",
        "        return 0  # This is wrong!\n",
        "    else:\n",
        "        return n * factorial(n-1)\n",
        "\n",
        "# Test\n",
        "print(factorial(5))  # Should be 120, but returns 0\n",
        "\"\"\"\n",
        "\n",
        "prompt = f\"\"\"Find and fix the bug in this Python factorial function.\n",
        "Explain what was wrong and provide the corrected version:\n",
        "\n",
        "{buggy_code}\"\"\"\n",
        "\n",
        "response = gpt_request(prompt)\n",
        "print(\"🐛 Debug Analysis:\")\n",
        "print(response)\n"
      ],
      "metadata": {
        "id": "QgUStZaOUzzV",
        "outputId": "55dbfb03-26c0-43df-c51f-e68209902755",
        "colab": {
          "base_uri": "https://localhost:8080/"
        }
      },
      "execution_count": null,
      "outputs": [
        {
          "output_type": "stream",
          "name": "stdout",
          "text": [
            "🐛 Debug Analysis:\n",
            "The bug in the provided `factorial` function is in the base case. The base case correctly identifies that the factorial of 0 should return 1, not 0. The factorial of 0 is defined to be 1 (0! = 1). Therefore, the line `return 0` should be corrected to `return 1`.\n",
            "\n",
            "Here is the corrected version of the `factorial` function:\n",
            "\n",
            "```python\n",
            "def factorial(n):\n",
            "    if n == 0:\n",
            "        return 1  # Corrected to return 1 instead of 0\n",
            "    else:\n",
            "        return n * factorial(n-1)\n",
            "\n",
            "# Test\n",
            "print(factorial(5))  # This should now return 120\n",
            "```\n",
            "\n",
            "### Explanation of the Fix:\n",
            "1. **Base Case Issue**: The original function incorrectly returned 0 when `n` was 0, which caused the recursion to ultimately return 0 for all calculations because multiplying by 0 yields 0.\n",
            "2. **Correct Base Case**: The factorial function must return 1 for the base case of 0 to ensure that the recursive multiplications work correctly for positive integers.\n",
            "\n",
            "Now, with this fix, calling `factorial(5)` will correctly return `120`.\n"
          ]
        }
      ]
    },
    {
      "cell_type": "markdown",
      "source": [
        "# Exercise 3: Summarization\n"
      ],
      "metadata": {
        "id": "K1Fs8-fkU2Qy"
      }
    },
    {
      "cell_type": "code",
      "source": [
        "# # Sample text for summarization\n",
        "article_text = \"\"\"\n",
        "Artificial intelligence has transformed numerous industries in recent years, from healthcare to finance to transportation.\n",
        "Machine learning algorithms can now diagnose diseases with accuracy comparable to human doctors, detect fraudulent\n",
        "financial transactions in real-time, and enable self-driving cars to navigate complex urban environments. However,\n",
        "these advances come with significant challenges including job displacement, privacy concerns, and algorithmic bias.\n",
        "Companies and governments are working to address these issues through regulation, retraining programs, and ethical AI\n",
        "frameworks. The future of AI development will likely depend on balancing innovation with responsible implementation\n",
        "that considers societal impact and ensures equitable benefits for all.\n",
        "\"\"\"\n",
        "\n",
        "# Extractive Summary\n",
        "prompt_extractive = f\"\"\"Create an extractive summary of the following text by selecting\n",
        "the most important sentences directly from the original:\n",
        "\n",
        "{article_text}\"\"\"\n",
        "\n",
        "extractive_summary = gpt_request(prompt_extractive)\n",
        "print(\"📋 Extractive Summary:\")\n",
        "print(extractive_summary)\n",
        "print(\"\\n\" + \"=\"*50 + \"\\n\")\n",
        "\n",
        "# Abstractive Summary\n",
        "prompt_abstractive = f\"\"\"Create an abstractive summary of the following text by\n",
        "rewriting the key points in your own words (2-3 sentences):\n",
        "\n",
        "{article_text}\"\"\"\n",
        "\n",
        "abstractive_summary = gpt_request(prompt_abstractive)\n",
        "print(\"✍️ Abstractive Summary:\")\n",
        "print(abstractive_summary)\n"
      ],
      "metadata": {
        "id": "5aHVZWmEU4Cw",
        "outputId": "595a9897-775d-46de-f6f0-9c4b52246086",
        "colab": {
          "base_uri": "https://localhost:8080/"
        }
      },
      "execution_count": null,
      "outputs": [
        {
          "output_type": "stream",
          "name": "stdout",
          "text": [
            "📋 Extractive Summary:\n",
            "Artificial intelligence has transformed numerous industries in recent years, from healthcare to finance to transportation. However, these advances come with significant challenges including job displacement, privacy concerns, and algorithmic bias. Companies and governments are working to address these issues through regulation, retraining programs, and ethical AI frameworks. The future of AI development will likely depend on balancing innovation with responsible implementation that considers societal impact and ensures equitable benefits for all.\n",
            "\n",
            "==================================================\n",
            "\n",
            "✍️ Abstractive Summary:\n",
            "Recent advancements in artificial intelligence have revolutionized various sectors, such as healthcare, finance, and transportation, with machine learning achieving human-like accuracy in disease diagnosis and real-time fraud detection. However, these innovations also raise important challenges, including job loss, privacy issues, and biases in algorithms. To tackle these concerns, stakeholders are focusing on regulation, retraining initiatives, and ethical guidelines, aiming to foster responsible AI development that maximizes societal benefits.\n"
          ]
        }
      ]
    },
    {
      "cell_type": "markdown",
      "source": [
        "# Exercise 4: Classification / Labeling\n"
      ],
      "metadata": {
        "id": "fmHJfP84U7iI"
      }
    },
    {
      "cell_type": "code",
      "source": [
        "# Movie reviews for sentiment classification\n",
        "reviews = [\n",
        "    \"This movie was absolutely incredible! The acting was phenomenal and the plot kept me engaged throughout.\",\n",
        "    \"Boring and predictable. I fell asleep halfway through and didn't miss anything important.\",\n",
        "    \"It was okay. Some good moments but overall just average. Nothing special but not terrible either.\",\n",
        "    \"Waste of money and time. Poor dialogue, terrible acting, and nonsensical plot.\",\n",
        "    \"A masterpiece! This film will be remembered as one of the greatest of all time.\"\n",
        "]\n",
        "\n",
        "prompt = \"\"\"Classify each of the following movie reviews as either:\n",
        "- POSITIVE (clearly positive sentiment)\n",
        "- NEGATIVE (clearly negative sentiment)\n",
        "- NEUTRAL (mixed or neutral sentiment)\n",
        "\n",
        "Format your response as:\n",
        "Review 1: [CLASSIFICATION] - [Brief reason]\n",
        "Review 2: [CLASSIFICATION] - [Brief reason]\n",
        "etc.\n",
        "\n",
        "Reviews:\n",
        "\"\"\" + \"\\n\".join([f\"{i+1}. {review}\" for i, review in enumerate(reviews)])\n",
        "\n",
        "response = gpt_request(prompt)\n",
        "print(\"🏷️ Sentiment Classification:\")\n",
        "print(response)\n"
      ],
      "metadata": {
        "id": "FlO688UdU6jz",
        "outputId": "9c1bd3db-e84a-467d-d82c-5c88547aff49",
        "colab": {
          "base_uri": "https://localhost:8080/"
        }
      },
      "execution_count": null,
      "outputs": [
        {
          "output_type": "stream",
          "name": "stdout",
          "text": [
            "🏷️ Sentiment Classification:\n",
            "Review 1: POSITIVE - The review expresses strong enthusiasm and appreciation for the acting and plot.  \n",
            "Review 2: NEGATIVE - The review conveys clear dissatisfaction and describes a negative experience with the movie.  \n",
            "Review 3: NEUTRAL - The review presents a mixed sentiment, acknowledging some good moments while ultimately deeming the film average.  \n",
            "Review 4: NEGATIVE - The review is highly critical, describing multiple aspects of the film as poor and expressing regret for watching it.  \n",
            "Review 5: POSITIVE - The review is extremely positive, calling the film a masterpiece and suggesting it will have lasting significance.  \n"
          ]
        }
      ]
    },
    {
      "cell_type": "markdown",
      "source": [
        "# Exercise 5: Tables / JSON Output\n"
      ],
      "metadata": {
        "id": "5P6VmvMMU-PS"
      }
    },
    {
      "cell_type": "code",
      "source": [
        "# Part A: Table Format\n",
        "prompt = \"\"\"Create a comparison table for three types of renewable energy: Solar, Wind, and Hydroelectric.\n",
        "Compare them across these dimensions:\n",
        "- Initial cost (High/Medium/Low)\n",
        "- Maintenance requirements\n",
        "- Environmental impact\n",
        "- Reliability\n",
        "- Best suited locations\n",
        "\n",
        "Format as a clear table with proper headers.\"\"\"\n",
        "\n",
        "response = gpt_request(prompt)\n",
        "print(\"📊 Renewable Energy Comparison Table:\")\n",
        "print(response)\n"
      ],
      "metadata": {
        "id": "SCKtK-bOU_u8",
        "outputId": "aadea0bd-af19-41c4-d0b1-25cbf4ba6e27",
        "colab": {
          "base_uri": "https://localhost:8080/"
        }
      },
      "execution_count": null,
      "outputs": [
        {
          "output_type": "stream",
          "name": "stdout",
          "text": [
            "📊 Renewable Energy Comparison Table:\n",
            "Here's a comparison table for Solar, Wind, and Hydroelectric energy across the specified dimensions:\n",
            "\n",
            "| Dimension             | Solar           | Wind            | Hydroelectric     |\n",
            "|-----------------------|------------------|------------------|-------------------|\n",
            "| **Initial Cost**      | Medium           | Medium           | High              |\n",
            "| **Maintenance Requirements** | Low              | Medium           | Medium            |\n",
            "| **Environmental Impact** | Low (land use, resource extraction) | Moderate (impact on wildlife and noise) | Low to Moderate (fish habitats, water flow) |\n",
            "| **Reliability**       | Moderate (weather-dependent) | Moderate to High (wind variability) | High (consistent energy supply) |\n",
            "| **Best Suited Locations** | Sunny areas (deserts, rooftops) | Windy areas (coasts, open plains) | Near water bodies (rivers, dams) |\n",
            "\n",
            "This table provides a clear comparison of the three renewable energy types across various important dimensions.\n"
          ]
        }
      ]
    },
    {
      "cell_type": "code",
      "source": [
        "# Part B: JSON Format\n",
        "prompt = \"\"\"Generate a JSON object containing information about 5 programming languages.\n",
        "For each language include:\n",
        "- name\n",
        "- year_created\n",
        "- primary_use_case\n",
        "- difficulty_level (1-10 scale)\n",
        "- popular_frameworks (array of 2-3 frameworks)\n",
        "\n",
        "Ensure valid JSON format.\"\"\"\n",
        "\n",
        "response = gpt_request(prompt, temperature=0.3)  # Lower temperature for structured output\n",
        "print(\"🗂️ Programming Languages JSON:\")\n",
        "print(response)\n",
        "\n",
        "# Optional: Validate JSON\n",
        "try:\n",
        "    import json\n",
        "    parsed = json.loads(response)\n",
        "    print(\"\\n✅ Valid JSON format!\")\n",
        "except json.JSONDecodeError:\n",
        "    print(\"\\n❌ Invalid JSON format - needs fixing\")\n"
      ],
      "metadata": {
        "id": "Nln1L6ddVB45",
        "outputId": "e09a5b2a-38d7-4a4d-aea5-496bdee189a1",
        "colab": {
          "base_uri": "https://localhost:8080/"
        }
      },
      "execution_count": null,
      "outputs": [
        {
          "output_type": "stream",
          "name": "stdout",
          "text": [
            "🗂️ Programming Languages JSON:\n",
            "```json\n",
            "{\n",
            "  \"programming_languages\": [\n",
            "    {\n",
            "      \"name\": \"Python\",\n",
            "      \"year_created\": 1991,\n",
            "      \"primary_use_case\": \"Web development, data analysis, artificial intelligence\",\n",
            "      \"difficulty_level\": 3,\n",
            "      \"popular_frameworks\": [\"Django\", \"Flask\", \"Pandas\"]\n",
            "    },\n",
            "    {\n",
            "      \"name\": \"JavaScript\",\n",
            "      \"year_created\": 1995,\n",
            "      \"primary_use_case\": \"Web development, server-side applications\",\n",
            "      \"difficulty_level\": 4,\n",
            "      \"popular_frameworks\": [\"React\", \"Angular\", \"Node.js\"]\n",
            "    },\n",
            "    {\n",
            "      \"name\": \"Java\",\n",
            "      \"year_created\": 1995,\n",
            "      \"primary_use_case\": \"Enterprise applications, Android development\",\n",
            "      \"difficulty_level\": 5,\n",
            "      \"popular_frameworks\": [\"Spring\", \"Hibernate\", \"JavaServer Faces\"]\n",
            "    },\n",
            "    {\n",
            "      \"name\": \"C++\",\n",
            "      \"year_created\": 1985,\n",
            "      \"primary_use_case\": \"System/software development, game development\",\n",
            "      \"difficulty_level\": 7,\n",
            "      \"popular_frameworks\": [\"Qt\", \"Boost\", \"Cinder\"]\n",
            "    },\n",
            "    {\n",
            "      \"name\": \"Ruby\",\n",
            "      \"year_created\": 1995,\n",
            "      \"primary_use_case\": \"Web development, scripting\",\n",
            "      \"difficulty_level\": 4,\n",
            "      \"popular_frameworks\": [\"Ruby on Rails\", \"Sinatra\", \"Hanami\"]\n",
            "    }\n",
            "  ]\n",
            "}\n",
            "```\n",
            "\n",
            "❌ Invalid JSON format - needs fixing\n"
          ]
        }
      ]
    },
    {
      "cell_type": "markdown",
      "source": [
        "# Exercise 6: Evaluation / Comparison\n"
      ],
      "metadata": {
        "id": "JLGVEONLVEa3"
      }
    },
    {
      "cell_type": "code",
      "source": [
        "# Two explanations of the same concept\n",
        "explanation_1 = \"\"\"\n",
        "Photosynthesis is when plants use sunlight to make food. The green parts of plants, called chlorophyll,\n",
        "capture sunlight and use it along with water and carbon dioxide to create glucose, which is plant food.\n",
        "Oxygen is released as a waste product, which is lucky for us because we need oxygen to breathe.\n",
        "\"\"\"\n",
        "\n",
        "explanation_2 = \"\"\"\n",
        "Photosynthesis is a complex biochemical process where chloroplasts in plant cells convert light energy\n",
        "into chemical energy. The process involves light-dependent reactions in the thylakoids and the Calvin\n",
        "cycle in the stroma, ultimately producing glucose through carbon fixation while releasing oxygen as\n",
        "a byproduct of water photolysis.\n",
        "\"\"\"\n",
        "\n",
        "prompt = f\"\"\"Compare these two explanations of photosynthesis and evaluate them based on:\n",
        "1. Clarity and accessibility\n",
        "2. Scientific accuracy\n",
        "3. Appropriate audience level\n",
        "4. Completeness\n",
        "\n",
        "Explanation A:\n",
        "{explanation_1}\n",
        "\n",
        "Explanation B:\n",
        "{explanation_2}\n",
        "\n",
        "Provide a detailed analysis and recommendation for which explanation is better for different audiences.\"\"\"\n",
        "\n",
        "response = gpt_request(prompt)\n",
        "print(\"⚖️ Comparison Analysis:\")\n",
        "print(response)\n"
      ],
      "metadata": {
        "id": "QAd75bElVGS5",
        "outputId": "20cfa2b8-5da6-4e1a-ed6e-d407bf736273",
        "colab": {
          "base_uri": "https://localhost:8080/"
        }
      },
      "execution_count": null,
      "outputs": [
        {
          "output_type": "stream",
          "name": "stdout",
          "text": [
            "⚖️ Comparison Analysis:\n",
            "### Evaluation of Explanations\n",
            "\n",
            "**Explanation A:**\n",
            "\n",
            "1. **Clarity and Accessibility:**\n",
            "   - Explanation A is straightforward and uses simple language that is easy to understand. It avoids technical jargon, making it accessible to a general audience, including children and non-scientists.\n",
            "\n",
            "2. **Scientific Accuracy:**\n",
            "   - While generally accurate, Explanation A oversimplifies some aspects of photosynthesis. It mentions chlorophyll but does not explain the role of chloroplasts or the specific processes involved (light-dependent reactions and the Calvin cycle). The term \"plant food\" can be misleading, as it suggests that glucose is directly consumed by plants, whereas it is primarily used for energy and growth.\n",
            "\n",
            "3. **Appropriate Audience Level:**\n",
            "   - This explanation is suitable for younger audiences, beginners, or those who are not familiar with biological concepts. It serves well in educational contexts for elementary or middle school students.\n",
            "\n",
            "4. **Completeness:**\n",
            "   - Explanation A lacks depth and detail about the specific processes and mechanisms involved in photosynthesis. It does not mention the stages of photosynthesis or the importance of chloroplasts.\n",
            "\n",
            "**Explanation B:**\n",
            "\n",
            "1. **Clarity and Accessibility:**\n",
            "   - Explanation B is more technical and uses specific scientific terminology, which may be less accessible to a general audience. Phrases like \"light-dependent reactions,\" \"thylakoids,\" and \"chemical energy\" might be confusing without prior knowledge.\n",
            "\n",
            "2. **Scientific Accuracy:**\n",
            "   - This explanation is scientifically accurate and includes essential details about the processes involved in photosynthesis. It correctly describes the roles of chloroplasts and the specific stages of the process, providing a more comprehensive understanding of how photosynthesis occurs.\n",
            "\n",
            "3. **Appropriate Audience Level:**\n",
            "   - Explanation B is better suited for an audience with a background in biology or higher education, such as high school students, college students, or individuals studying plant biology. It assumes some prior knowledge of cell biology and biochemistry.\n",
            "\n",
            "4. **Completeness:**\n",
            "   - This explanation is much more complete, covering both the light-dependent reactions and the Calvin cycle, along with the production of glucose and the release of oxygen. It provides a fuller picture of the photosynthesis process.\n",
            "\n",
            "### Recommendations Based on Audience\n",
            "\n",
            "- **For Younger Audiences (Elementary and Middle School Students):**\n",
            "  - **Use Explanation A.** Its simplicity and relatable language will engage students and facilitate understanding of basic concepts without overwhelming them with complex details.\n",
            "\n",
            "- **For High School Students and Above (Biology Students, College Students):**\n",
            "  - **Use Explanation B.** This audience requires a deeper understanding of the mechanisms involved in photosynthesis, and the detailed explanation will help them grasp the complexity of the process.\n",
            "\n",
            "### Conclusion\n",
            "\n",
            "In summary, both explanations serve their purposes well for different audiences. Explanation A is effective for introducing the concept of photosynthesis in a clear and accessible manner, while Explanation B provides a comprehensive and scientifically accurate depiction suitable for more advanced learners. Selecting the appropriate explanation depends on the audience's background and level of understanding.\n"
          ]
        }
      ]
    },
    {
      "cell_type": "code",
      "source": [
        "# Exercise 7: Advanced Prompt Engineering\n"
      ],
      "metadata": {
        "id": "XbWWm8FvVHgV"
      },
      "execution_count": null,
      "outputs": []
    },
    {
      "cell_type": "code",
      "source": [
        "# Test different temperature settings\n",
        "prompt = \"Write a creative opening line for a mystery novel.\"\n",
        "\n",
        "print(\"🌡️ Temperature Comparison:\")\n",
        "for temp in [0.1, 0.5, 0.9]:\n",
        "    response = gpt_request(prompt, temperature=temp)\n",
        "    print(f\"Temperature {temp}: {response}\\n\")\n",
        "\n",
        "# Test prompt specificity\n",
        "vague_prompt = \"Write about AI.\"\n",
        "specific_prompt = \"Write a 100-word explanation of how AI chatbots like GPT-4o-mini process and respond to user questions, aimed at high school students.\"\n",
        "\n",
        "print(\"🎯 Prompt Specificity Comparison:\")\n",
        "print(\"Vague prompt result:\")\n",
        "print(gpt_request(vague_prompt))\n",
        "print(\"\\nSpecific prompt result:\")\n",
        "print(gpt_request(specific_prompt))\n"
      ],
      "metadata": {
        "id": "j_Fzb1arVJYh",
        "outputId": "bdd60d64-2857-4697-e6f3-2505c78d394d",
        "colab": {
          "base_uri": "https://localhost:8080/"
        }
      },
      "execution_count": null,
      "outputs": [
        {
          "output_type": "stream",
          "name": "stdout",
          "text": [
            "🌡️ Temperature Comparison:\n",
            "Temperature 0.1: The fog rolled in like a whispered secret, cloaking the old manor in shadows, where the only witness to the night’s dark intentions was a clock that hadn’t ticked in decades.\n",
            "\n",
            "Temperature 0.5: The fog rolled in like a whispered secret, shrouding the old manor in a veil of uncertainty, where every creak of the floorboards echoed the ghosts of truths long buried.\n",
            "\n",
            "Temperature 0.9: The night was thick with fog, but it wasn’t the mist that shrouded the old manor; it was the secret buried beneath the floorboards, waiting for someone brave enough—or foolish enough—to unearth it.\n",
            "\n",
            "🎯 Prompt Specificity Comparison:\n",
            "Vague prompt result:\n",
            "Artificial Intelligence (AI) refers to the simulation of human intelligence in machines that are programmed to think and learn like humans. This technology encompasses a variety of subfields, including machine learning, natural language processing, robotics, and computer vision, among others. AI systems are designed to perform tasks that typically require human intelligence, such as understanding language, recognizing patterns, solving problems, and making decisions.\n",
            "\n",
            "### Types of AI\n",
            "\n",
            "1. **Narrow AI**: Also known as weak AI, this type is designed for a specific task. Examples include virtual assistants like Siri and Alexa, recommendation algorithms used by streaming services, and chatbots for customer service.\n",
            "\n",
            "2. **General AI**: Also referred to as strong AI or AGI (Artificial General Intelligence), this type would possess the ability to understand, learn, and apply intelligence across a broad range of tasks, similar to a human. While AGI is a topic of ongoing research, it has not yet been achieved.\n",
            "\n",
            "3. **Superintelligent AI**: This is a theoretical form of AI that surpasses human intelligence across all aspects, including creativity, problem-solving, and emotional intelligence. Discussions around superintelligent AI often involve ethical considerations and the potential risks associated with such powerful systems.\n",
            "\n",
            "### Applications of AI\n",
            "\n",
            "AI has found applications across numerous fields, including:\n",
            "\n",
            "- **Healthcare**: AI-driven tools assist in diagnosing diseases, personalizing treatment plans, and predicting patient outcomes. Machine learning algorithms can analyze medical images and even predict patient deterioration.\n",
            "\n",
            "- **Finance**: AI algorithms are used for fraud detection, algorithmic trading, and risk assessment. They analyze vast amounts of data to identify patterns and make predictions.\n",
            "\n",
            "- **Transportation**: Self-driving cars use AI to interpret sensor data, navigate roads, and make real-time decisions. AI is also employed in traffic management systems to optimize flow and reduce congestion.\n",
            "\n",
            "- **Manufacturing**: AI enhances automation in manufacturing processes, improving efficiency, quality control, and supply chain management.\n",
            "\n",
            "- **Entertainment**: Streaming services use AI to analyze viewing habits and recommend content. Video games leverage AI for creating responsive and adaptive gameplay experiences.\n",
            "\n",
            "### Challenges and Ethical Considerations\n",
            "\n",
            "While AI offers significant benefits, it also poses various challenges and ethical dilemmas:\n",
            "\n",
            "- **Bias and Fairness**: AI systems can perpetuate or even exacerbate societal biases present in the data they are trained on. Ensuring fairness and transparency in AI algorithms is a critical concern.\n",
            "\n",
            "- **Job Displacement**: Automation powered by AI may lead to job displacement in certain sectors, raising questions about the future of work and the need for reskilling the workforce.\n",
            "\n",
            "- **Privacy**: The use of AI in surveillance and data collection can infringe upon individual privacy rights. Balancing technological advancement with privacy protection is essential.\n",
            "\n",
            "- **Security**: As AI systems become more integrated into critical infrastructure, they are potential targets for cyber threats. Ensuring the security and reliability of AI systems is paramount.\n",
            "\n",
            "### The Future of AI\n",
            "\n",
            "The future of AI is promising yet uncertain. As research continues to advance, we can expect more sophisticated applications that could revolutionize industries and daily life. However, it is crucial for developers, policymakers, and society to engage in discussions about the implications of AI, ensuring that its development aligns with ethical standards and benefits humanity as a whole.\n",
            "\n",
            "In summary, AI has the potential to transform numerous aspects of life and work, but it is essential to navigate its challenges thoughtfully to harness its capabilities responsibly and ethically.\n",
            "\n",
            "Specific prompt result:\n",
            "AI chatbots like GPT-4o-mini use advanced algorithms to understand and respond to user questions. When you ask a question, the chatbot first analyzes the words and their meanings using something called natural language processing (NLP). It breaks down your input to grasp context and intent. Then, it searches through a vast amount of information and patterns learned from previous conversations. Finally, it generates a response by predicting what comes next in a conversation, aiming to provide relevant and coherent answers. This process happens almost instantly, making it seem like you’re chatting with a real person!\n"
          ]
        }
      ]
    },
    {
      "cell_type": "markdown",
      "source": [
        "# Student Reflection Questions\n"
      ],
      "metadata": {
        "id": "qPL9wlIbVIoL"
      }
    },
    {
      "cell_type": "code",
      "source": [
        "reflection_prompts = [\n",
        "    \"Which type of output (text, code, JSON, etc.) did GPT-4o-mini handle best? Why do you think that is?\",\n",
        "    \"How did changing the temperature setting affect the creativity vs consistency of outputs?\",\n",
        "    \"What did you notice about the importance of prompt specificity?\",\n",
        "    \"Which exercise taught you the most about effective prompt engineering?\"\n",
        "]\n",
        "\n",
        "print(\"🤔 Reflection Questions:\")\n",
        "for i, question in enumerate(reflection_prompts, 1):\n",
        "    print(f\"{i}. {question}\")\n",
        "    print(\"   Your answer: ________________\\n\")\n"
      ],
      "metadata": {
        "id": "kmMq1IQIVOIa",
        "outputId": "1b5e2ac4-c020-4ac2-9285-9cca9384ce1a",
        "colab": {
          "base_uri": "https://localhost:8080/"
        }
      },
      "execution_count": null,
      "outputs": [
        {
          "output_type": "stream",
          "name": "stdout",
          "text": [
            "🤔 Reflection Questions:\n",
            "1. Which type of output (text, code, JSON, etc.) did GPT-4o-mini handle best? Why do you think that is?\n",
            "   Your answer: ________________\n",
            "\n",
            "2. How did changing the temperature setting affect the creativity vs consistency of outputs?\n",
            "   Your answer: ________________\n",
            "\n",
            "3. What did you notice about the importance of prompt specificity?\n",
            "   Your answer: ________________\n",
            "\n",
            "4. Which exercise taught you the most about effective prompt engineering?\n",
            "   Your answer: ________________\n",
            "\n"
          ]
        }
      ]
    },
    {
      "cell_type": "markdown",
      "source": [
        "# Bonus Challenge\n"
      ],
      "metadata": {
        "id": "0eVdMr8RVQnO"
      }
    },
    {
      "cell_type": "code",
      "source": [
        "# Create a prompt that generates multiple output types in one response\n",
        "challenge_prompt = \"\"\"Create a mini lesson plan about climate change that includes:\n",
        "1. A brief explanation (50 words)\n",
        "2. Python code to calculate carbon footprint\n",
        "3. A JSON object with 3 climate facts\n",
        "4. A classification of 3 human activities as High/Medium/Low carbon impact\n",
        "\n",
        "Format each section clearly with headers.\"\"\"\n",
        "\n",
        "response = gpt_request(challenge_prompt, temperature=0.5)\n",
        "print(\"🏆 Multi-format Challenge:\")\n",
        "print(response)"
      ],
      "metadata": {
        "id": "DAhnS6OxVTth",
        "outputId": "1d37d087-6320-4bf1-c18c-052d616de947",
        "colab": {
          "base_uri": "https://localhost:8080/"
        }
      },
      "execution_count": null,
      "outputs": [
        {
          "output_type": "stream",
          "name": "stdout",
          "text": [
            "🏆 Multi-format Challenge:\n",
            "# Mini Lesson Plan on Climate Change\n",
            "\n",
            "## 1. Brief Explanation\n",
            "Climate change refers to long-term shifts in temperatures and weather patterns, primarily caused by human activities such as burning fossil fuels. These activities increase greenhouse gas emissions, leading to global warming and severe environmental impacts, including rising sea levels, extreme weather, and loss of biodiversity.\n",
            "\n",
            "---\n",
            "\n",
            "## 2. Python Code to Calculate Carbon Footprint\n",
            "\n",
            "```python\n",
            "def calculate_carbon_footprint(miles_driven, electricity_usage_kwh, natural_gas_usage_therms):\n",
            "    # Carbon emissions factors (in kg CO2)\n",
            "    emissions_per_mile = 0.404  # average emissions for gasoline cars\n",
            "    emissions_per_kwh = 0.5      # average emissions for electricity\n",
            "    emissions_per_therm = 5.3     # average emissions for natural gas\n",
            "\n",
            "    # Calculate total carbon footprint\n",
            "    total_emissions = (miles_driven * emissions_per_mile) + \\\n",
            "                      (electricity_usage_kwh * emissions_per_kwh) + \\\n",
            "                      (natural_gas_usage_therms * emissions_per_therm)\n",
            "    \n",
            "    return total_emissions\n",
            "\n",
            "# Example usage\n",
            "miles = 1000  # miles driven\n",
            "electricity = 300  # electricity usage in kWh\n",
            "natural_gas = 50  # natural gas usage in therms\n",
            "\n",
            "carbon_footprint = calculate_carbon_footprint(miles, electricity, natural_gas)\n",
            "print(f\"Total Carbon Footprint: {carbon_footprint} kg CO2\")\n",
            "```\n",
            "\n",
            "---\n",
            "\n",
            "## 3. JSON Object with 3 Climate Facts\n",
            "\n",
            "```json\n",
            "{\n",
            "  \"climate_facts\": [\n",
            "    {\n",
            "      \"fact\": \"The Earth's average temperature has risen by 1.2°C since the late 19th century.\",\n",
            "      \"source\": \"NASA\"\n",
            "    },\n",
            "    {\n",
            "      \"fact\": \"The last seven years have been the warmest on record.\",\n",
            "      \"source\": \"World Meteorological Organization\"\n",
            "    },\n",
            "    {\n",
            "      \"fact\": \"Melting ice sheets contribute to rising sea levels, which threaten coastal communities.\",\n",
            "      \"source\": \"National Geographic\"\n",
            "    }\n",
            "  ]\n",
            "}\n",
            "```\n",
            "\n",
            "---\n",
            "\n",
            "## 4. Classification of 3 Human Activities as High/Medium/Low Carbon Impact\n",
            "\n",
            "| Activity                   | Carbon Impact  |\n",
            "|----------------------------|----------------|\n",
            "| Driving a gasoline car     | High           |\n",
            "| Using public transportation | Medium         |\n",
            "| Recycling                   | Low            | \n",
            "\n",
            "--- \n",
            "\n",
            "This lesson plan provides a comprehensive overview of climate change, including a practical coding exercise, data representation, and an understanding of carbon impact from various human activities.\n"
          ]
        }
      ]
    }
  ],
  "metadata": {
    "colab": {
      "provenance": []
    },
    "kernelspec": {
      "display_name": "Python 3",
      "name": "python3"
    }
  },
  "nbformat": 4,
  "nbformat_minor": 0
}