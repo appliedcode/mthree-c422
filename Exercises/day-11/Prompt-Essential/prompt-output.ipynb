{
  "cells": [
    {
      "cell_type": "markdown",
      "metadata": {
        "id": "view-in-github",
        "colab_type": "text"
      },
      "source": [
        "<a href=\"https://colab.research.google.com/github/appliedcode/mthree-c422/blob/main/Exercises/day-11/Prompt-Essential/prompt-output.ipynb\" target=\"_parent\"><img src=\"https://colab.research.google.com/assets/colab-badge.svg\" alt=\"Open In Colab\"/></a>"
      ]
    },
    {
      "cell_type": "markdown",
      "source": [
        "# 🧪 Colab Lab: Mastering Prompt Structure\n",
        "\n"
      ],
      "metadata": {
        "id": "hFnkDgKDTUgk"
      }
    },
    {
      "cell_type": "code",
      "source": [
        "!pip install --quiet openai\n",
        "\n",
        "from google.colab import userdata\n",
        "import os\n",
        "from openai import OpenAI\n",
        "\n",
        "api_key = userdata.get('OPENAI_API_KEY')\n",
        "if not api_key:\n",
        "    raise ValueError(\"❌ API key not found. Please set with userdata.set(...)\")\n",
        "\n",
        "os.environ[\"OPENAI_API_KEY\"] = api_key\n",
        "client = OpenAI(api_key=os.environ[\"OPENAI_API_KEY\"])\n"
      ],
      "metadata": {
        "colab": {
          "base_uri": "https://localhost:8080/"
        },
        "id": "b-MrRDkKZxI6",
        "outputId": "9b774612-44e6-4e4d-b19d-41a4f08c7c33"
      },
      "execution_count": 31,
      "outputs": [
        {
          "output_type": "stream",
          "name": "stdout",
          "text": [
            "✅ OpenAI API key loaded safely\n"
          ]
        }
      ]
    },
    {
      "cell_type": "code",
      "source": [
        "# Setup\n",
        "def gpt_request(prompt, model=\"gpt-4o-mini\", temperature=0.7):\n",
        "    \"\"\"Send a prompt to GPT-4o-mini and return the response\"\"\"\n",
        "    response = client.chat.completions.create(\n",
        "        model=model,\n",
        "        messages=[{\"role\": \"user\", \"content\": prompt}],\n",
        "        temperature=temperature,\n",
        "        max_tokens=1000\n",
        "    )\n",
        "    return response.choices[0].message.content\n",
        "\n",
        "# Test the connection\n",
        "print(\"✅ Connected to GPT-4o-mini!\")\n",
        "print(gpt_request(\"Say hello and confirm you are GPT-4o-mini\"))"
      ],
      "metadata": {
        "id": "AMu0nG8RUleT"
      },
      "execution_count": null,
      "outputs": []
    },
    {
      "cell_type": "markdown",
      "source": [
        "# Exercise 1: Text Generation"
      ],
      "metadata": {
        "id": "5-bxrnHZUcZ_"
      }
    },
    {
      "cell_type": "code",
      "source": [
        "# Part A: Explanation\n",
        "prompt = \"Explain quantum computing to a 12-year-old in simple terms.\"\n",
        "response = gpt_request(prompt)\n",
        "print(\"🧒 For 12-year-old:\")\n",
        "print(response)\n",
        "print(\"\\n\" + \"=\"*50 + \"\\n\")\n",
        "\n",
        "# Student Task: Try different age groups\n",
        "prompt_5yr = \"Explain quantum computing to a 5-year-old in very simple terms.\"\n",
        "response_5yr = gpt_request(prompt_5yr)\n",
        "print(\"👶 For 5-year-old:\")\n",
        "print(response_5yr)\n",
        "print(\"\\n\" + \"=\"*50 + \"\\n\")\n",
        "\n",
        "prompt_college = \"Explain quantum computing to a college student studying computer science.\"\n",
        "response_college = gpt_request(prompt_college)\n",
        "print(\"🎓 For college student:\")\n",
        "print(response_college)\n"
      ],
      "metadata": {
        "id": "RhihJQzaUdlH"
      },
      "execution_count": null,
      "outputs": []
    },
    {
      "cell_type": "code",
      "source": [
        "# Part B: Short Essay\n",
        "prompt = \"Write a 150-word essay on the importance of clean water access worldwide.\"\n",
        "response = gpt_request(prompt)\n",
        "print(\"📝 Clean Water Essay:\")\n",
        "print(response)\n",
        "print(f\"\\nWord count: {len(response.split())}\")\n"
      ],
      "metadata": {
        "id": "GUFaHPxGUo05"
      },
      "execution_count": null,
      "outputs": []
    },
    {
      "cell_type": "code",
      "source": [
        "# Part C: Email Draft\n",
        "prompt = \"\"\"Write a formal email to Professor Johnson requesting a 3-day extension\n",
        "on the final project due to illness. Include appropriate subject line.\"\"\"\n",
        "response = gpt_request(prompt)\n",
        "print(\"📧 Email Draft:\")\n",
        "print(response)\n"
      ],
      "metadata": {
        "id": "ZgVryP2JUqcr"
      },
      "execution_count": null,
      "outputs": []
    },
    {
      "cell_type": "markdown",
      "source": [
        "# Exercise 2: Code Output\n"
      ],
      "metadata": {
        "id": "IZvZM7Z4UuVf"
      }
    },
    {
      "cell_type": "code",
      "source": [
        "# Part A: Code Generation\n",
        "prompt = \"Write Python code to merge two sorted lists into one sorted list. Include comments and example usage.\"\n",
        "response = gpt_request(prompt)\n",
        "print(\"💻 Merge Sorted Lists:\")\n",
        "print(response)\n"
      ],
      "metadata": {
        "id": "CFMuWmtSUvj0"
      },
      "execution_count": null,
      "outputs": []
    },
    {
      "cell_type": "code",
      "source": [
        "# Part B: Code Refactoring\n",
        "original_code = \"\"\"\n",
        "def add(a,b):\n",
        "    return a+b\n",
        "\n",
        "def multiply(x,y):\n",
        "    return x*y\n",
        "\"\"\"\n",
        "\n",
        "prompt = f\"\"\"Refactor the following Python code to:\n",
        "1. Add proper docstrings\n",
        "2. Add type hints\n",
        "3. Add input validation\n",
        "4. Follow PEP 8 style guidelines\n",
        "\n",
        "Original code:\n",
        "{original_code}\"\"\"\n",
        "\n",
        "response = gpt_request(prompt)\n",
        "print(\"🔧 Refactored Code:\")\n",
        "print(response)\n"
      ],
      "metadata": {
        "id": "38TViMG-Ux0e"
      },
      "execution_count": null,
      "outputs": []
    },
    {
      "cell_type": "code",
      "source": [
        "# Part C: Code Debugging\n",
        "buggy_code = \"\"\"\n",
        "def factorial(n):\n",
        "    if n == 0:\n",
        "        return 0  # This is wrong!\n",
        "    else:\n",
        "        return n * factorial(n-1)\n",
        "\n",
        "# Test\n",
        "print(factorial(5))  # Should be 120, but returns 0\n",
        "\"\"\"\n",
        "\n",
        "prompt = f\"\"\"Find and fix the bug in this Python factorial function.\n",
        "Explain what was wrong and provide the corrected version:\n",
        "\n",
        "{buggy_code}\"\"\"\n",
        "\n",
        "response = gpt_request(prompt)\n",
        "print(\"🐛 Debug Analysis:\")\n",
        "print(response)\n"
      ],
      "metadata": {
        "id": "QgUStZaOUzzV"
      },
      "execution_count": null,
      "outputs": []
    },
    {
      "cell_type": "markdown",
      "source": [
        "# Exercise 3: Summarization\n"
      ],
      "metadata": {
        "id": "K1Fs8-fkU2Qy"
      }
    },
    {
      "cell_type": "code",
      "source": [
        "# # Sample text for summarization\n",
        "article_text = \"\"\"\n",
        "Artificial intelligence has transformed numerous industries in recent years, from healthcare to finance to transportation.\n",
        "Machine learning algorithms can now diagnose diseases with accuracy comparable to human doctors, detect fraudulent\n",
        "financial transactions in real-time, and enable self-driving cars to navigate complex urban environments. However,\n",
        "these advances come with significant challenges including job displacement, privacy concerns, and algorithmic bias.\n",
        "Companies and governments are working to address these issues through regulation, retraining programs, and ethical AI\n",
        "frameworks. The future of AI development will likely depend on balancing innovation with responsible implementation\n",
        "that considers societal impact and ensures equitable benefits for all.\n",
        "\"\"\"\n",
        "\n",
        "# Extractive Summary\n",
        "prompt_extractive = f\"\"\"Create an extractive summary of the following text by selecting\n",
        "the most important sentences directly from the original:\n",
        "\n",
        "{article_text}\"\"\"\n",
        "\n",
        "extractive_summary = gpt_request(prompt_extractive)\n",
        "print(\"📋 Extractive Summary:\")\n",
        "print(extractive_summary)\n",
        "print(\"\\n\" + \"=\"*50 + \"\\n\")\n",
        "\n",
        "# Abstractive Summary\n",
        "prompt_abstractive = f\"\"\"Create an abstractive summary of the following text by\n",
        "rewriting the key points in your own words (2-3 sentences):\n",
        "\n",
        "{article_text}\"\"\"\n",
        "\n",
        "abstractive_summary = gpt_request(prompt_abstractive)\n",
        "print(\"✍️ Abstractive Summary:\")\n",
        "print(abstractive_summary)\n"
      ],
      "metadata": {
        "id": "5aHVZWmEU4Cw"
      },
      "execution_count": null,
      "outputs": []
    },
    {
      "cell_type": "markdown",
      "source": [
        "# Exercise 4: Classification / Labeling\n"
      ],
      "metadata": {
        "id": "fmHJfP84U7iI"
      }
    },
    {
      "cell_type": "code",
      "source": [
        "# Movie reviews for sentiment classification\n",
        "reviews = [\n",
        "    \"This movie was absolutely incredible! The acting was phenomenal and the plot kept me engaged throughout.\",\n",
        "    \"Boring and predictable. I fell asleep halfway through and didn't miss anything important.\",\n",
        "    \"It was okay. Some good moments but overall just average. Nothing special but not terrible either.\",\n",
        "    \"Waste of money and time. Poor dialogue, terrible acting, and nonsensical plot.\",\n",
        "    \"A masterpiece! This film will be remembered as one of the greatest of all time.\"\n",
        "]\n",
        "\n",
        "prompt = \"\"\"Classify each of the following movie reviews as either:\n",
        "- POSITIVE (clearly positive sentiment)\n",
        "- NEGATIVE (clearly negative sentiment)\n",
        "- NEUTRAL (mixed or neutral sentiment)\n",
        "\n",
        "Format your response as:\n",
        "Review 1: [CLASSIFICATION] - [Brief reason]\n",
        "Review 2: [CLASSIFICATION] - [Brief reason]\n",
        "etc.\n",
        "\n",
        "Reviews:\n",
        "\"\"\" + \"\\n\".join([f\"{i+1}. {review}\" for i, review in enumerate(reviews)])\n",
        "\n",
        "response = gpt_request(prompt)\n",
        "print(\"🏷️ Sentiment Classification:\")\n",
        "print(response)\n"
      ],
      "metadata": {
        "id": "FlO688UdU6jz"
      },
      "execution_count": null,
      "outputs": []
    },
    {
      "cell_type": "markdown",
      "source": [
        "# Exercise 5: Tables / JSON Output\n"
      ],
      "metadata": {
        "id": "5P6VmvMMU-PS"
      }
    },
    {
      "cell_type": "code",
      "source": [
        "# Part A: Table Format\n",
        "prompt = \"\"\"Create a comparison table for three types of renewable energy: Solar, Wind, and Hydroelectric.\n",
        "Compare them across these dimensions:\n",
        "- Initial cost (High/Medium/Low)\n",
        "- Maintenance requirements\n",
        "- Environmental impact\n",
        "- Reliability\n",
        "- Best suited locations\n",
        "\n",
        "Format as a clear table with proper headers.\"\"\"\n",
        "\n",
        "response = gpt_request(prompt)\n",
        "print(\"📊 Renewable Energy Comparison Table:\")\n",
        "print(response)\n"
      ],
      "metadata": {
        "id": "SCKtK-bOU_u8"
      },
      "execution_count": null,
      "outputs": []
    },
    {
      "cell_type": "code",
      "source": [
        "# Part B: JSON Format\n",
        "prompt = \"\"\"Generate a JSON object containing information about 5 programming languages.\n",
        "For each language include:\n",
        "- name\n",
        "- year_created\n",
        "- primary_use_case\n",
        "- difficulty_level (1-10 scale)\n",
        "- popular_frameworks (array of 2-3 frameworks)\n",
        "\n",
        "Ensure valid JSON format.\"\"\"\n",
        "\n",
        "response = gpt_request(prompt, temperature=0.3)  # Lower temperature for structured output\n",
        "print(\"🗂️ Programming Languages JSON:\")\n",
        "print(response)\n",
        "\n",
        "# Optional: Validate JSON\n",
        "try:\n",
        "    import json\n",
        "    parsed = json.loads(response)\n",
        "    print(\"\\n✅ Valid JSON format!\")\n",
        "except json.JSONDecodeError:\n",
        "    print(\"\\n❌ Invalid JSON format - needs fixing\")\n"
      ],
      "metadata": {
        "id": "Nln1L6ddVB45"
      },
      "execution_count": null,
      "outputs": []
    },
    {
      "cell_type": "markdown",
      "source": [
        "# Exercise 6: Evaluation / Comparison\n"
      ],
      "metadata": {
        "id": "JLGVEONLVEa3"
      }
    },
    {
      "cell_type": "code",
      "source": [
        "# Two explanations of the same concept\n",
        "explanation_1 = \"\"\"\n",
        "Photosynthesis is when plants use sunlight to make food. The green parts of plants, called chlorophyll,\n",
        "capture sunlight and use it along with water and carbon dioxide to create glucose, which is plant food.\n",
        "Oxygen is released as a waste product, which is lucky for us because we need oxygen to breathe.\n",
        "\"\"\"\n",
        "\n",
        "explanation_2 = \"\"\"\n",
        "Photosynthesis is a complex biochemical process where chloroplasts in plant cells convert light energy\n",
        "into chemical energy. The process involves light-dependent reactions in the thylakoids and the Calvin\n",
        "cycle in the stroma, ultimately producing glucose through carbon fixation while releasing oxygen as\n",
        "a byproduct of water photolysis.\n",
        "\"\"\"\n",
        "\n",
        "prompt = f\"\"\"Compare these two explanations of photosynthesis and evaluate them based on:\n",
        "1. Clarity and accessibility\n",
        "2. Scientific accuracy\n",
        "3. Appropriate audience level\n",
        "4. Completeness\n",
        "\n",
        "Explanation A:\n",
        "{explanation_1}\n",
        "\n",
        "Explanation B:\n",
        "{explanation_2}\n",
        "\n",
        "Provide a detailed analysis and recommendation for which explanation is better for different audiences.\"\"\"\n",
        "\n",
        "response = gpt_request(prompt)\n",
        "print(\"⚖️ Comparison Analysis:\")\n",
        "print(response)\n"
      ],
      "metadata": {
        "id": "QAd75bElVGS5"
      },
      "execution_count": null,
      "outputs": []
    },
    {
      "cell_type": "code",
      "source": [
        "# Exercise 7: Advanced Prompt Engineering\n"
      ],
      "metadata": {
        "id": "XbWWm8FvVHgV"
      },
      "execution_count": null,
      "outputs": []
    },
    {
      "cell_type": "code",
      "source": [
        "# Test different temperature settings\n",
        "prompt = \"Write a creative opening line for a mystery novel.\"\n",
        "\n",
        "print(\"🌡️ Temperature Comparison:\")\n",
        "for temp in [0.1, 0.5, 0.9]:\n",
        "    response = gpt_request(prompt, temperature=temp)\n",
        "    print(f\"Temperature {temp}: {response}\\n\")\n",
        "\n",
        "# Test prompt specificity\n",
        "vague_prompt = \"Write about AI.\"\n",
        "specific_prompt = \"Write a 100-word explanation of how AI chatbots like GPT-4o-mini process and respond to user questions, aimed at high school students.\"\n",
        "\n",
        "print(\"🎯 Prompt Specificity Comparison:\")\n",
        "print(\"Vague prompt result:\")\n",
        "print(gpt_request(vague_prompt))\n",
        "print(\"\\nSpecific prompt result:\")\n",
        "print(gpt_request(specific_prompt))\n"
      ],
      "metadata": {
        "id": "j_Fzb1arVJYh"
      },
      "execution_count": null,
      "outputs": []
    },
    {
      "cell_type": "markdown",
      "source": [
        "# Student Reflection Questions\n"
      ],
      "metadata": {
        "id": "qPL9wlIbVIoL"
      }
    },
    {
      "cell_type": "code",
      "source": [
        "reflection_prompts = [\n",
        "    \"Which type of output (text, code, JSON, etc.) did GPT-4o-mini handle best? Why do you think that is?\",\n",
        "    \"How did changing the temperature setting affect the creativity vs consistency of outputs?\",\n",
        "    \"What did you notice about the importance of prompt specificity?\",\n",
        "    \"Which exercise taught you the most about effective prompt engineering?\"\n",
        "]\n",
        "\n",
        "print(\"🤔 Reflection Questions:\")\n",
        "for i, question in enumerate(reflection_prompts, 1):\n",
        "    print(f\"{i}. {question}\")\n",
        "    print(\"   Your answer: ________________\\n\")\n"
      ],
      "metadata": {
        "id": "kmMq1IQIVOIa"
      },
      "execution_count": null,
      "outputs": []
    },
    {
      "cell_type": "markdown",
      "source": [
        "# Bonus Challenge\n"
      ],
      "metadata": {
        "id": "0eVdMr8RVQnO"
      }
    },
    {
      "cell_type": "code",
      "source": [
        "# Create a prompt that generates multiple output types in one response\n",
        "challenge_prompt = \"\"\"Create a mini lesson plan about climate change that includes:\n",
        "1. A brief explanation (50 words)\n",
        "2. Python code to calculate carbon footprint\n",
        "3. A JSON object with 3 climate facts\n",
        "4. A classification of 3 human activities as High/Medium/Low carbon impact\n",
        "\n",
        "Format each section clearly with headers.\"\"\"\n",
        "\n",
        "response = gpt_request(challenge_prompt, temperature=0.5)\n",
        "print(\"🏆 Multi-format Challenge:\")\n",
        "print(response)"
      ],
      "metadata": {
        "id": "DAhnS6OxVTth"
      },
      "execution_count": null,
      "outputs": []
    }
  ],
  "metadata": {
    "colab": {
      "name": "Welcome to Colab",
      "provenance": [],
      "include_colab_link": true
    },
    "kernelspec": {
      "display_name": "Python 3",
      "name": "python3"
    }
  },
  "nbformat": 4,
  "nbformat_minor": 0
}