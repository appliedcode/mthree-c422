{
  "cells": [
    {
      "cell_type": "markdown",
      "metadata": {
        "id": "view-in-github",
        "colab_type": "text"
      },
      "source": [
        "<a href=\"https://colab.research.google.com/github/appliedcode/mthree-c422/blob/main/Exercises/day-14/Responsible_AI/Responsible_AI_DC.ipynb\" target=\"_parent\"><img src=\"https://colab.research.google.com/assets/colab-badge.svg\" alt=\"Open In Colab\"/></a>"
      ]
    },
    {
      "cell_type": "markdown",
      "source": [
        "# **Lab Exercise Solution: Responsible AI Development Lifecycle**\n",
        "\n",
        "**Objective:**\n",
        "Explore how to embed ethics at each AI lifecycle stage, engage stakeholders, and perform impact assessments using code, case study analysis, and reflection.\n",
        "\n",
        "***\n",
        "\n",
        "## **Part 1: Ethics Integration Across AI Lifecycle Stages**"
      ],
      "metadata": {
        "id": "mH7jpjg0YJ8e"
      }
    },
    {
      "cell_type": "code",
      "source": [
        "# Defining AI lifecycle stages with integrated ethical practices\n",
        "ai_lifecycle = {\n",
        "    \"Design\": [\n",
        "        \"Define ethical principles (fairness, privacy, transparency, accountability)\",\n",
        "        \"Conduct upfront ethical risk assessments\",\n",
        "        \"Use inclusive design - involve diverse teams\"\n",
        "    ],\n",
        "    \"Development\": [\n",
        "        \"Implement bias detection and fairness-aware algorithms\",\n",
        "        \"Ensure model explainability using interpretable methods (e.g., SHAP, LIME)\",\n",
        "        \"Apply robust data privacy protections like encryption and anonymization\"\n",
        "    ],\n",
        "    \"Deployment\": [\n",
        "        \"Perform AI impact assessments before release\",\n",
        "        \"Engage stakeholders for validation and feedback\",\n",
        "        \"Set up accountability channels for issues and redress\"\n",
        "    ],\n",
        "    \"Monitoring & Maintenance\": [\n",
        "        \"Regular fairness, bias, and performance audits\",\n",
        "        \"Update models based on feedback and changes in context\",\n",
        "        \"Maintain transparency with stakeholders\"\n",
        "    ]\n",
        "}\n",
        "\n",
        "# Output lifecycle stages and practices\n",
        "print(\"Responsible AI Development Lifecycle with Ethical Practices:\\n\")\n",
        "for stage, practices in ai_lifecycle.items():\n",
        "    print(f\"--- {stage} Stage ---\")\n",
        "    for p in practices:\n",
        "        print(f\" - {p}\")\n",
        "    print()"
      ],
      "metadata": {
        "id": "FmrM5b5Dv8pE",
        "outputId": "24578628-1871-44a8-8a2f-339a59f09008",
        "colab": {
          "base_uri": "https://localhost:8080/"
        }
      },
      "execution_count": 19,
      "outputs": [
        {
          "output_type": "stream",
          "name": "stdout",
          "text": [
            "Responsible AI Development Lifecycle with Ethical Practices:\n",
            "\n",
            "--- Design Stage ---\n",
            " - Define ethical principles (fairness, privacy, transparency, accountability)\n",
            " - Conduct upfront ethical risk assessments\n",
            " - Use inclusive design - involve diverse teams\n",
            "\n",
            "--- Development Stage ---\n",
            " - Implement bias detection and fairness-aware algorithms\n",
            " - Ensure model explainability using interpretable methods (e.g., SHAP, LIME)\n",
            " - Apply robust data privacy protections like encryption and anonymization\n",
            "\n",
            "--- Deployment Stage ---\n",
            " - Perform AI impact assessments before release\n",
            " - Engage stakeholders for validation and feedback\n",
            " - Set up accountability channels for issues and redress\n",
            "\n",
            "--- Monitoring & Maintenance Stage ---\n",
            " - Regular fairness, bias, and performance audits\n",
            " - Update models based on feedback and changes in context\n",
            " - Maintain transparency with stakeholders\n",
            "\n"
          ]
        }
      ]
    },
    {
      "cell_type": "markdown",
      "source": [
        "**Expected Output (example):**\n",
        "\n",
        "```\n",
        "--- Design Stage ---\n",
        " - Define ethical principles (fairness, privacy, transparency, accountability)\n",
        " - Conduct upfront ethical risk assessments\n",
        " - Use inclusive design - involve diverse teams\n",
        "...\n",
        "```\n",
        "\n",
        "**Explanation:**\n",
        "\n",
        "- We mapped **ethics considerations** to each lifecycle stage.\n",
        "- This structure can be used as a **checklist** before moving to the next stage.\n",
        "\n",
        "***\n",
        "\n",
        "## **Part 2: Case Study Exploration — Ethical Challenges in AI Development**"
      ],
      "metadata": {
        "id": "X5bn9Z0QwAR8"
      }
    },
    {
      "cell_type": "code",
      "source": [
        "# Case studies of real-world ethical AI challenges\n",
        "case_studies = {\n",
        "    \"Facial Recognition\": \"Bias in training data caused higher error rates for minority groups, leading to wrongful arrests.\",\n",
        "    \"Banking AI\": \"Opaque credit scoring algorithms resulted in unintentional discrimination against certain demographics.\",\n",
        "    \"Autonomous Vehicles\": \"Deployment without public consultation raised concerns about safety and accountability.\"\n",
        "}\n",
        "\n",
        "print(\"Case Studies of Ethical AI Challenges:\\n\")\n",
        "for case, desc in case_studies.items():\n",
        "    print(f\"{case}:\\n - {desc}\\n\")\n",
        "\n",
        "# Solution Example: Proposed safeguards for one case\n",
        "selected_case = \"Banking AI\"\n",
        "solutions = [\n",
        "    \"Regularly audit credit scoring decisions for bias.\",\n",
        "    \"Incorporate interpretable models to explain credit decisions.\",\n",
        "    \"Ensure training data is representative of all demographics.\"\n",
        "]\n",
        "\n",
        "print(f\"Proposed Safeguards for {selected_case}:\")\n",
        "for s in solutions:\n",
        "    print(f\" - {s}\")"
      ],
      "metadata": {
        "id": "dgLV653iwCfN",
        "outputId": "206ac549-ebe0-4558-fcda-f8ab0b171590",
        "colab": {
          "base_uri": "https://localhost:8080/"
        }
      },
      "execution_count": 20,
      "outputs": [
        {
          "output_type": "stream",
          "name": "stdout",
          "text": [
            "Case Studies of Ethical AI Challenges:\n",
            "\n",
            "Facial Recognition:\n",
            " - Bias in training data caused higher error rates for minority groups, leading to wrongful arrests.\n",
            "\n",
            "Banking AI:\n",
            " - Opaque credit scoring algorithms resulted in unintentional discrimination against certain demographics.\n",
            "\n",
            "Autonomous Vehicles:\n",
            " - Deployment without public consultation raised concerns about safety and accountability.\n",
            "\n",
            "Proposed Safeguards for Banking AI:\n",
            " - Regularly audit credit scoring decisions for bias.\n",
            " - Incorporate interpretable models to explain credit decisions.\n",
            " - Ensure training data is representative of all demographics.\n"
          ]
        }
      ]
    },
    {
      "cell_type": "markdown",
      "source": [
        "**Expected Output:**\n",
        "\n",
        "```\n",
        "Proposed Safeguards for Banking AI:\n",
        " - Regularly audit credit scoring decisions for bias.\n",
        " - Incorporate interpretable models to explain credit decisions.\n",
        " - Ensure training data is representative of all demographics.\n",
        "```\n",
        "\n",
        "\n",
        "***\n",
        "\n",
        "## **Part 3: Stakeholder Engagement and Impact Assessment**"
      ],
      "metadata": {
        "id": "somZz3TBwJlX"
      }
    },
    {
      "cell_type": "code",
      "source": [
        "import matplotlib.pyplot as plt\n",
        "\n",
        "# Simulated survey results before and after stakeholder engagement\n",
        "trust_levels = ['High Trust', 'Neutral', 'Low Trust']\n",
        "before = [25, 40, 35]  # percentages\n",
        "after = [55, 30, 15]\n",
        "\n",
        "fig, ax = plt.subplots(figsize=(8,6))\n",
        "width = 0.35\n",
        "\n",
        "x = range(len(trust_levels))\n",
        "ax.bar(x, before, width, label='Before Engagement', color='#FF9999')\n",
        "ax.bar([p + width for p in x], after, width, label='After Engagement', color='#99FF99')\n",
        "\n",
        "ax.set_xticks([p + width/2 for p in x])\n",
        "ax.set_xticklabels(trust_levels)\n",
        "ax.set_ylabel('Percentage of Stakeholders')\n",
        "ax.set_title('Stakeholder Trust Before and After Engagement')\n",
        "ax.legend()\n",
        "plt.show()\n",
        "\n",
        "# Interpretation\n",
        "print(\"Interpretation:\")\n",
        "print(\"- High trust increased from 25% to 55% after engagement.\")\n",
        "print(\"- Low trust decreased significantly from 35% to 15%, showing successful perception shift.\")\n",
        "print(\"- Continuous engagement ensures AI solutions align with stakeholder values.\")"
      ],
      "metadata": {
        "id": "eIn80gCIv9C7",
        "outputId": "96b841f0-29fc-4d3d-e13f-e424cca0de8a",
        "colab": {
          "base_uri": "https://localhost:8080/",
          "height": 616
        }
      },
      "execution_count": 21,
      "outputs": [
        {
          "output_type": "display_data",
          "data": {
            "text/plain": [
              "<Figure size 800x600 with 1 Axes>"
            ],
            "image/png": "[encoded data removed]"
          },
          "metadata": {}
        },
        {
          "output_type": "stream",
          "name": "stdout",
          "text": [
            "Interpretation:\n",
            "- High trust increased from 25% to 55% after engagement.\n",
            "- Low trust decreased significantly from 35% to 15%, showing successful perception shift.\n",
            "- Continuous engagement ensures AI solutions align with stakeholder values.\n"
          ]
        }
      ]
    },
    {
      "cell_type": "markdown",
      "source": [
        "**Insight:** Engagement activities such as workshops, public consultations, and transparent communication **increase trust** and acceptance.\n",
        "\n",
        "***\n",
        "\n",
        "## **Part 4: Reflection and Best Practices**"
      ],
      "metadata": {
        "id": "xSmBRfoJwPDw"
      }
    },
    {
      "cell_type": "code",
      "source": [
        "reflection = \"\"\"\n",
        "Key Takeaways:\n",
        "\n",
        "1. Ethics should be integrated from the very first design step and maintained throughout the AI lifecycle.\n",
        "2. Case studies highlight that missing ethics early can cause costly mistakes later.\n",
        "3. Stakeholder engagement not only improves trust but can uncover issues invisible to developers.\n",
        "4. Impact assessments should be repeated — not one-time — as AI operates in dynamic environments.\n",
        "5. Transparency, fairness, and accountability ensure sustainable, trusted AI adoption.\n",
        "\n",
        "Best Practices:\n",
        "- Create an AI Ethics Checklist reviewed at each project stage.\n",
        "- Use diverse and representative datasets to minimize bias.\n",
        "- Adopt explainable AI to help users and regulators understand decisions.\n",
        "- Build continuous feedback loops with stakeholders.\n",
        "\n",
        "\"\"\"\n",
        "print(reflection)"
      ],
      "metadata": {
        "id": "46HKuU0QwR2J",
        "outputId": "0c97ff59-6396-4a1d-8350-3f54c69d53a5",
        "colab": {
          "base_uri": "https://localhost:8080/"
        }
      },
      "execution_count": 23,
      "outputs": [
        {
          "output_type": "stream",
          "name": "stdout",
          "text": [
            "\n",
            "Key Takeaways:\n",
            "\n",
            "1. Ethics should be integrated from the very first design step and maintained throughout the AI lifecycle.\n",
            "2. Case studies highlight that missing ethics early can cause costly mistakes later.\n",
            "3. Stakeholder engagement not only improves trust but can uncover issues invisible to developers.\n",
            "4. Impact assessments should be repeated — not one-time — as AI operates in dynamic environments.\n",
            "5. Transparency, fairness, and accountability ensure sustainable, trusted AI adoption.\n",
            "\n",
            "Best Practices:\n",
            "- Create an AI Ethics Checklist reviewed at each project stage.\n",
            "- Use diverse and representative datasets to minimize bias.\n",
            "- Adopt explainable AI to help users and regulators understand decisions.\n",
            "- Build continuous feedback loops with stakeholders.\n",
            "\n",
            "\n"
          ]
        }
      ]
    }
  ],
  "metadata": {
    "colab": {
      "name": "Welcome to Colab",
      "provenance": [],
      "gpuType": "T4",
      "include_colab_link": true
    },
    "kernelspec": {
      "display_name": "Python 3",
      "name": "python3"
    },
    "accelerator": "GPU"
  },
  "nbformat": 4,
  "nbformat_minor": 0
}