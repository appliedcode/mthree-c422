{
  "cells": [
    {
      "cell_type": "markdown",
      "metadata": {
        "id": "view-in-github",
        "colab_type": "text"
      },
      "source": [
        "<a href=\"https://colab.research.google.com/github/appliedcode/mthree-c422/blob/mthree-c422-dipti/Exercises/day-11/LLM-intro/LLM-Typeofstructure.ipynb\" target=\"_parent\"><img src=\"https://colab.research.google.com/assets/colab-badge.svg\" alt=\"Open In Colab\"/></a>"
      ]
    },
    {
      "cell_type": "markdown",
      "source": [
        "# Lab Exercise: Introduction to Prompt Engineering and Large Language Models (LLMs)\n"
      ],
      "metadata": {
        "id": "hFnkDgKDTUgk"
      }
    },
    {
      "cell_type": "code",
      "source": [
        "from google.colab import userdata\n",
        "import os\n",
        "\n",
        "# Set your OpenAI API key securely in Colab Secrets (once)\n",
        "# userdata.set(\"OPENAI_API_KEY\", \"your-api-key-here\")\n",
        "\n",
        "# Retrieve key in your notebook\n",
        "openai_api_key = userdata.get(\"OPENAI_API_KEY\")\n",
        "if openai_api_key:\n",
        "    os.environ[\"OPENAI_API_KEY\"] = openai_api_key\n",
        "    print(\"✅ OpenAI API key loaded safely\")\n",
        "else:\n",
        "    print(\"❌ OpenAI API key not found. Please set it using Colab Secrets.\")"
      ],
      "metadata": {
        "colab": {
          "base_uri": "https://localhost:8080/"
        },
        "id": "b-MrRDkKZxI6",
        "outputId": "8b011766-01b8-44e8-cbc0-6f014844caa2"
      },
      "execution_count": 2,
      "outputs": [
        {
          "output_type": "stream",
          "name": "stdout",
          "text": [
            "✅ OpenAI API key loaded safely\n"
          ]
        }
      ]
    },
    {
      "cell_type": "code",
      "source": [
        "!pip install --quiet openai -q"
      ],
      "metadata": {
        "id": "eyeKWLK4bM2Q"
      },
      "execution_count": 3,
      "outputs": []
    },
    {
      "cell_type": "code",
      "source": [
        "# Create client\n",
        "from openai import OpenAI\n",
        "client = OpenAI(api_key=os.environ[\"OPENAI_API_KEY\"])"
      ],
      "metadata": {
        "id": "lNqOYjPrbNo7"
      },
      "execution_count": 4,
      "outputs": []
    },
    {
      "cell_type": "code",
      "source": [
        "# Exercise 1 – Instructions Pattern\n",
        "prompt = \"You are a bicycle mechanic. Give step-by-step instructions (max 6 steps) for adjusting rim brakes on a road bike.\"\n",
        "\n",
        "resp = client.chat.completions.create(\n",
        "    model=\"gpt-4o-mini\",\n",
        "    messages=[{\"role\": \"system\", \"content\": \"You are a helpful assistant.\"},\n",
        "              {\"role\": \"user\", \"content\": prompt}],\n",
        "    max_tokens=150\n",
        ")\n",
        "print(resp.choices[0].message.content)\n",
        "\n",
        "\n"
      ],
      "metadata": {
        "colab": {
          "base_uri": "https://localhost:8080/"
        },
        "id": "8U4WXgvtbWV-",
        "outputId": "906cc2c2-bba3-4420-f283-963e974e3d13"
      },
      "execution_count": 5,
      "outputs": [
        {
          "output_type": "stream",
          "name": "stdout",
          "text": [
            "Sure! Here are step-by-step instructions for adjusting rim brakes on a road bike:\n",
            "\n",
            "### Step 1: Check Brake Alignment\n",
            "1. **Inspect Brake Position**: Ensure that the brake pads are aligned properly with the rim. The pads should make contact with the rim surface and not with the tire or the frame.\n",
            "  \n",
            "### Step 2: Adjust Brake Pad Position\n",
            "2. **Loosen Pad Bolts**: Using a 5mm Allen wrench (or the appropriate tool for your brake pads), slightly loosen the bolts holding the brake pads.\n",
            "3. **Align Pads**: Adjust the pads so they sit flat against the rim and are centered on the braking surface. Aim for about 1mm clearance between the pads and the tire.\n",
            "\n",
            "\n"
          ]
        }
      ]
    },
    {
      "cell_type": "code",
      "source": [
        "# Exercise 2 – Examples (Few‑Shot) Pattern\n",
        "few_shot = \"\"\"Translate English → French.\n",
        "\n",
        "English: Good morning!\n",
        "French: Bonjour !\n",
        "\n",
        "English: Where is the library?\n",
        "French: Où est la bibliothèque ?\n",
        "\n",
        "English: I love prompt engineering.\n",
        "French:\"\"\"\n",
        "\n",
        "resp = client.chat.completions.create(\n",
        "    model=\"gpt-4o-mini\",\n",
        "    messages=[{\"role\": \"user\", \"content\": few_shot}],\n",
        "    max_tokens=50\n",
        ")\n",
        "print(resp.choices[0].message.content)\n"
      ],
      "metadata": {
        "id": "C3FyrQo8e4yB",
        "outputId": "c5782ed8-6587-49b5-ebc2-94318a975fdf",
        "colab": {
          "base_uri": "https://localhost:8080/"
        }
      },
      "execution_count": 6,
      "outputs": [
        {
          "output_type": "stream",
          "name": "stdout",
          "text": [
            "French: J'aime l'ingénierie des prompts.\n"
          ]
        }
      ]
    },
    {
      "cell_type": "code",
      "source": [
        "# Exercise 3 – Persona Pattern\n",
        "prompt = \"You are Ada Lovelace writing a 120-word diary entry about today’s AI advancements.\"\n",
        "resp = client.chat.completions.create(\n",
        "    model=\"gpt-4o-mini\",\n",
        "    messages=[{\"role\": \"user\", \"content\": prompt}],\n",
        "    max_tokens=200\n",
        ")\n",
        "print(resp.choices[0].message.content)\n"
      ],
      "metadata": {
        "id": "fjjoAIZFfBvo",
        "outputId": "84744e67-e13b-45ba-fc33-fc297ae97b2d",
        "colab": {
          "base_uri": "https://localhost:8080/"
        }
      },
      "execution_count": 7,
      "outputs": [
        {
          "output_type": "stream",
          "name": "stdout",
          "text": [
            "October 21, 2023\n",
            "\n",
            "Today, I find myself in awe of the marvelous advancements in artificial intelligence. Machines now not only compute but also learn and adapt, demonstrating reasoning akin to the human mind. I am particularly fascinated by the development of algorithms that can generate poetry and art, breathing creativity into the mechanical sphere. The blending of human ingenuity and mathematical precision creates a symphony of innovation that I could scarcely envision in my own time. Yet, I ponder the ethical implications of such intelligence. As these creations develop, we must remain vigilant guardians of morality, ensuring that our designs serve humanity's highest aspirations. The future is a tapestry woven with threads of reason and imagination, and I yearn to explore its unfathomable possibilities.\n"
          ]
        }
      ]
    },
    {
      "cell_type": "code",
      "source": [
        "# Exercise 4 – Recipe + Alternative Approaches Pattern\n",
        "prompt = \"\"\"Give me a recipe to reduce exam stress, then propose two\n",
        "alternative approaches, each with pros & cons.\"\"\"\n",
        "resp = client.chat.completions.create(\n",
        "    model=\"gpt-4o-mini\",\n",
        "    messages=[{\"role\": \"user\", \"content\": prompt}],\n",
        "    max_tokens=300\n",
        ")\n",
        "print(resp.choices[0].message.content)\n"
      ],
      "metadata": {
        "id": "es_ZRyuLfJsT",
        "outputId": "4d8eda79-e9e6-4cdb-bc97-89413c2082f8",
        "colab": {
          "base_uri": "https://localhost:8080/"
        }
      },
      "execution_count": 8,
      "outputs": [
        {
          "output_type": "stream",
          "name": "stdout",
          "text": [
            "### Recipe to Reduce Exam Stress\n",
            "\n",
            "**Ingredients:**\n",
            "\n",
            "1. **Regular Study Schedule**\n",
            "   - Break study material into manageable chunks\n",
            "   - Plan study sessions well in advance of the exam\n",
            "\n",
            "2. **Healthy Nutrition**\n",
            "   - Consume brain-boosting foods (e.g., nuts, fruits, whole grains)\n",
            "   - Stay hydrated by drinking plenty of water\n",
            "\n",
            "3. **Physical Activity**\n",
            "   - Engage in at least 30 minutes of exercise daily (walking, yoga, etc.)\n",
            "   - Consider activities that promote relaxation (dance, swimming)\n",
            "\n",
            "4. **Mindfulness Practices**\n",
            "   - Spend 10-15 minutes daily on meditation or deep-breathing exercises\n",
            "   - Use apps or online resources for guided sessions\n",
            "\n",
            "5. **Adequate Sleep**\n",
            "   - Aim for 7-9 hours of quality sleep each night\n",
            "   - Establish a calming bedtime routine to enhance sleep quality\n",
            "\n",
            "6. **Time Management Techniques**\n",
            "   - Use the Pomodoro Technique: 25 minutes of focused study followed by a 5-minute break\n",
            "   - Prioritize tasks with a to-do list\n",
            "\n",
            "7. **Social Support**\n",
            "   - Reach out to friends, study groups, or family for support\n",
            "   - Share your feelings and concerns openly with someone you trust\n",
            "\n",
            "8. **Positive Affirmations**\n",
            "   - Write down a few affirmations to bolster self-confidence (e.g., \"I am capable of succeeding\")\n",
            "\n",
            "### Alternative Approaches to Manage Exam Stress\n",
            "\n",
            "#### 1. **\n"
          ]
        }
      ]
    },
    {
      "cell_type": "code",
      "source": [
        "# Exercise 5 – Ask-for-Input / Flipped Interaction Pattern\n",
        "prompt = \"\"\"You are an interviewer. Ask me 3 questions about my career goals,\n",
        "then summarize them and recommend a suitable tech course.\"\"\"\n",
        "resp = client.chat.completions.create(\n",
        "    model=\"gpt-4o-mini\",\n",
        "    messages=[{\"role\": \"user\", \"content\": prompt}],\n",
        "    max_tokens=300\n",
        ")\n",
        "print(resp.choices[0].message.content)\n"
      ],
      "metadata": {
        "id": "jzKENZXhfPF7",
        "outputId": "b0d0b23f-d8ca-4f6b-abfb-6d886f1c6401",
        "colab": {
          "base_uri": "https://localhost:8080/"
        }
      },
      "execution_count": 9,
      "outputs": [
        {
          "output_type": "stream",
          "name": "stdout",
          "text": [
            "Sure! Here are three questions to help me understand your career goals:\n",
            "\n",
            "1. What specific role or position are you aiming to achieve in the tech industry, and what skills do you believe are essential to succeed in that role?\n",
            "2. Are you looking to specialize in a particular area of technology (e.g., software development, data science, cybersecurity), or are you open to exploring various fields?\n",
            "3. What is your timeline for achieving your career goals, and how much time can you dedicate each week to learning or furthering your skill set?\n",
            "\n",
            "Once you provide your answers, I’ll summarize your responses and recommend a suitable tech course!\n"
          ]
        }
      ]
    },
    {
      "cell_type": "code",
      "source": [
        "# Exercise 6 – Menu / Meta-Language Pattern\n",
        "menu_prompt = \"\"\"### MENU\n",
        "ACTION = Explain, Summarize, Translate\n",
        "FORMAT = Plain, Bullets\n",
        "\n",
        "Command: ACTION=Summarize; FORMAT=Bullets;\n",
        "TEXT=\"Prompt engineering accelerates AI adoption across industries.\"\n",
        "###\"\"\"\n",
        "\n",
        "resp = client.chat.completions.create(\n",
        "    model=\"gpt-4o-mini\",\n",
        "    messages=[{\"role\": \"user\", \"content\": menu_prompt}],\n",
        "    max_tokens=150\n",
        ")\n",
        "print(resp.choices[0].message.content)\n"
      ],
      "metadata": {
        "id": "8o7PYDaffVJ3",
        "outputId": "3c17292c-14d4-407b-9c05-677086a388ca",
        "colab": {
          "base_uri": "https://localhost:8080/"
        }
      },
      "execution_count": 10,
      "outputs": [
        {
          "output_type": "stream",
          "name": "stdout",
          "text": [
            "- Prompt engineering is a method to improve interactions with AI.\n",
            "- It plays a crucial role in fostering the adoption of AI technologies.\n",
            "- This approach is gaining traction across various industries.\n"
          ]
        }
      ]
    },
    {
      "cell_type": "code",
      "source": [
        "inst=\"write something about master in business\"\n",
        "out=client.chat.completions.create(\n",
        "    model=\"gpt-4o-mini\",\n",
        "    messages=[{\"role\": \"user\", \"content\": inst}],\n",
        "    max_tokens=150\n",
        ")\n",
        "print(out.choices[0].message.content)"
      ],
      "metadata": {
        "colab": {
          "base_uri": "https://localhost:8080/"
        },
        "id": "JDtLNTlbL1nt",
        "outputId": "7d374c86-5043-4547-fb3e-91c1aa5a3d33"
      },
      "execution_count": 11,
      "outputs": [
        {
          "output_type": "stream",
          "name": "stdout",
          "text": [
            "A Master in Business, often referred to as a Master of Business Administration (MBA) or a Master's in Business Management, is a graduate-level program designed to equip students with advanced knowledge and skills in various areas of business. These programs typically cover a broad range of topics, including finance, marketing, operations, human resources, entrepreneurship, strategy, and leadership.\n",
            "\n",
            "### Key Features of a Master in Business Program:\n",
            "\n",
            "1. **Curriculum**: The curriculum often blends theoretical knowledge with practical applications. Students engage in case studies, group projects, simulations, and experiential learning opportunities, which provide real-world insights into business challenges.\n",
            "\n",
            "2. **Specializations**: Many programs offer specializations or concentrations, allowing students to tailor their studies to specific interests, such as\n"
          ]
        }
      ]
    }
  ],
  "metadata": {
    "colab": {
      "name": "Welcome to Colab",
      "provenance": [],
      "include_colab_link": true
    },
    "kernelspec": {
      "display_name": "Python 3",
      "name": "python3"
    }
  },
  "nbformat": 4,
  "nbformat_minor": 0
}