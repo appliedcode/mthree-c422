{
  "cells": [
    {
      "cell_type": "markdown",
      "source": [
        "#Lab Exercise: Introduction to Supervised, Unsupervised\n",
        "##Objective:\n",
        "- Understand and implement basic examples of supervised, unsupervised, and reinforcement learning.\n",
        "\n",
        "- Use common datasets and simple models for clarity.\n",
        "\n",
        "- Observe and interpret results."
      ],
      "metadata": {
        "id": "3kZNe6myxtsW"
      },
      "id": "3kZNe6myxtsW"
    },
    {
      "cell_type": "code",
      "source": [
        "# Setup: Import libraries and load datasets\n",
        "# Common imports\n",
        "import numpy as np\n",
        "import pandas as pd\n",
        "import matplotlib.pyplot as plt\n",
        "\n",
        "# For supervised and unsupervised tasks\n",
        "from sklearn.datasets import load_iris, load_digits\n",
        "from sklearn.model_selection import train_test_split\n",
        "from sklearn.linear_model import LogisticRegression\n",
        "from sklearn.metrics import accuracy_score, classification_report, adjusted_rand_score\n",
        "from sklearn.cluster import KMeans\n",
        "\n",
        "# For reinforcement learning task\n",
        "!pip install gymnasium --quiet\n",
        "import gymnasium as gym\n"
      ],
      "metadata": {
        "id": "FbwevnwMx0Ru"
      },
      "id": "FbwevnwMx0Ru",
      "execution_count": null,
      "outputs": []
    },
    {
      "cell_type": "code",
      "source": [
        "# Part 1: Supervised Learning — Iris Dataset Classification\n",
        "# Task:\n",
        "# Train a Logistic Regression model to classify Iris flower species.\n",
        "# Load data\n",
        "iris = load_iris(as_frame=True)\n",
        "X, y = iris.data, iris.target\n",
        "\n",
        "# Split data (70% train, 30% test)\n",
        "X_train, X_test, y_train, y_test = train_test_split(X, y, test_size=0.3, random_state=42)\n",
        "\n",
        "# Train logistic regression\n",
        "model = LogisticRegression(max_iter=200)\n",
        "model.fit(X_train, y_train)\n",
        "\n",
        "# Predict and evaluate\n",
        "y_pred = model.predict(X_test)\n",
        "print(\"Classification Report:\\n\", classification_report(y_test, y_pred))\n",
        "print(\"Test Accuracy:\", accuracy_score(y_test, y_pred))\n"
      ],
      "metadata": {
        "id": "WI17kGvNx33j"
      },
      "id": "WI17kGvNx33j",
      "execution_count": null,
      "outputs": []
    },
    {
      "cell_type": "markdown",
      "source": [
        "##What you learn:\n",
        "\n",
        "- How a supervised model learns from labeled data.\n",
        "\n",
        "- How to evaluate classification performance using accuracy and detailed reports."
      ],
      "metadata": {
        "id": "2RbGPY22x_uB"
      },
      "id": "2RbGPY22x_uB"
    },
    {
      "cell_type": "code",
      "source": [
        "# Part 2: Unsupervised Learning — K-Means Clustering on Digits Dataset\n",
        "#Task:\n",
        " #Cluster digit images into groups without label information.\n",
        "\n",
        "# Load digits data\n",
        "digits = load_digits()\n",
        "X_digits, y_digits = digits.data, digits.target\n",
        "\n",
        "# K-means clustering (10 clusters for 10 digits)\n",
        "kmeans = KMeans(n_clusters=10, random_state=42, n_init=10)\n",
        "clusters = kmeans.fit_predict(X_digits)\n",
        "\n",
        "# Evaluate clustering quality against true labels (adjusted rand index)\n",
        "ari_score = adjusted_rand_score(y_digits, clusters)\n",
        "print(f\"Adjusted Rand Index (measures cluster-label agreement): {ari_score:.4f}\")\n"
      ],
      "metadata": {
        "id": "jQFtocfVx_Ai"
      },
      "id": "jQFtocfVx_Ai",
      "execution_count": null,
      "outputs": []
    },
    {
      "cell_type": "markdown",
      "source": [
        "## What you learn:\n",
        "\n",
        "- How unsupervised learning discovers data structure without labels.\n",
        "\n",
        "- The concept of clustering and how results can be evaluated despite no training labels."
      ],
      "metadata": {
        "id": "g5_rml2tyRUm"
      },
      "id": "g5_rml2tyRUm"
    }
  ],
  "metadata": {
    "language_info": {
      "name": "python"
    },
    "colab": {
      "provenance": []
    },
    "kernelspec": {
      "name": "python3",
      "display_name": "Python 3"
    }
  },
  "nbformat": 4,
  "nbformat_minor": 5
}