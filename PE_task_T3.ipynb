{
  "nbformat": 4,
  "nbformat_minor": 0,
  "metadata": {
    "colab": {
      "provenance": [],
      "include_colab_link": true
    },
    "kernelspec": {
      "name": "python3",
      "display_name": "Python 3"
    },
    "language_info": {
      "name": "python"
    }
  },
  "cells": [
    {
      "cell_type": "markdown",
      "metadata": {
        "id": "view-in-github",
        "colab_type": "text"
      },
      "source": [
        "<a href=\"https://colab.research.google.com/github/appliedcode/mthree-c422/blob/mthree-422-srilatha/PE_task_T3.ipynb\" target=\"_parent\"><img src=\"https://colab.research.google.com/assets/colab-badge.svg\" alt=\"Open In Colab\"/></a>"
      ]
    },
    {
      "cell_type": "code",
      "execution_count": 1,
      "metadata": {
        "colab": {
          "base_uri": "https://localhost:8080/"
        },
        "id": "djxUpcMvQWkC",
        "outputId": "221e66b2-b994-4bc0-85aa-1552f0c34bca"
      },
      "outputs": [
        {
          "output_type": "stream",
          "name": "stdout",
          "text": [
            "✅ OpenAI API key loaded safely\n"
          ]
        }
      ],
      "source": [
        "# Installs openai library.\n",
        "\n",
        "# Loads OpenAI API key from Colab’s secret storage (userdata.get(\"OPENAI_API_KEY\")).\n",
        "\n",
        "# Stores the dataset directly in the notebook so it’s always available for prompt context.\n",
        "\n",
        "# This dataset contains five key topics about climate change and environmental policy.\n",
        "\n",
        "from google.colab import userdata\n",
        "import os\n",
        "\n",
        "# Set your OpenAI API key securely in Colab Secrets (once)\n",
        "# userdata.set(\"OPENAI_API_KEY\", \"your-api-key-here\")\n",
        "\n",
        "# Retrieve key in your notebook\n",
        "openai_api_key = userdata.get(\"OPENAI_API_KEY\")\n",
        "if openai_api_key:\n",
        "    os.environ[\"OPENAI_API_KEY\"] = openai_api_key\n",
        "    print(\"✅ OpenAI API key loaded safely\")\n",
        "else:\n",
        "    print(\"❌ OpenAI API key not found. Please set it using Colab Secrets.\")"
      ]
    },
    {
      "cell_type": "code",
      "source": [
        "!pip install --quiet openai -q\n",
        "# Create client\n",
        "from openai import OpenAI\n",
        "client = OpenAI(api_key=os.environ[\"OPENAI_API_KEY\"])"
      ],
      "metadata": {
        "id": "QuN7DsklQqTZ"
      },
      "execution_count": 2,
      "outputs": []
    },
    {
      "cell_type": "code",
      "source": [
        "climate_dataset = \"\"\"\n",
        "1. Greenhouse Gas Emissions: Emissions from fossil fuels, agriculture, and industry contribute to global warming. Key gases: CO2, methane, nitrous oxide. Main challenge: reducing emissions while balancing economic growth.\n",
        "\n",
        "2. Renewable Energy Transition: Moving from coal, oil, and gas to renewable sources like solar, wind, and hydro. Benefits: reduced emissions, sustainable supply. Challenges: storage, grid modernization, initial investment costs.\n",
        "\n",
        "3. Climate Adaptation Strategies: Measures to cope with climate impacts, e.g., sea wall construction, drought-resistant crops, disaster preparedness. Benefits: reduced vulnerability. Challenges: funding, equitable implementation.\n",
        "\n",
        "4. International Climate Agreements: Treaties like the Paris Agreement aim to limit global temperature rise. Goals include emission targets and financial/climate aid to developing nations. Challenges: enforcement, political will.\n",
        "\n",
        "5. Biodiversity Protection: Conservation of species and habitats through protected areas, anti-poaching laws, and restoration projects. Benefits: ecological balance, cultural heritage preservation. Challenges: habitat loss, funding, illegal exploitation.\n",
        "\"\"\""
      ],
      "metadata": {
        "id": "BnhZYWW5Q2Rw"
      },
      "execution_count": 3,
      "outputs": []
    },
    {
      "cell_type": "code",
      "source": [
        "# helper function\n",
        "def generate_response(prompt, model=\"gpt-4o-mini\", max_tokens=100, temp=0.1):\n",
        "\n",
        "    response = client.chat.completions.create(\n",
        "        model=model,\n",
        "        messages=[\n",
        "            {\"role\": \"user\", \"content\": prompt}\n",
        "        ],\n",
        "        max_tokens=max_tokens,\n",
        "        temperature=temp,\n",
        "    )\n",
        "\n",
        "    return response.choices[0].message.content\n"
      ],
      "metadata": {
        "id": "POngJfMWRK8V"
      },
      "execution_count": 4,
      "outputs": []
    },
    {
      "cell_type": "code",
      "source": [
        "# Write direct, zero‑shot, and few‑shot prompts explaining climate change concepts or dataset entries.\n",
        "\n",
        "# zero-shot - Zero-shot prompt: Ask model a question with no extra context.\n",
        "\n",
        "prompt_zero = \"Explain what is renewable energy\"\n",
        "response_zero = generate_response(prompt_zero)\n",
        "print(response_zero)"
      ],
      "metadata": {
        "colab": {
          "base_uri": "https://localhost:8080/"
        },
        "id": "sPHcGtGhRMpI",
        "outputId": "956dcb67-6b31-4479-8cd8-7687c0c30fdd"
      },
      "execution_count": 5,
      "outputs": [
        {
          "output_type": "stream",
          "name": "stdout",
          "text": [
            "Renewable energy refers to energy that is generated from natural resources that are replenished on a human timescale. Unlike fossil fuels, which can take millions of years to form and are finite, renewable energy sources are sustainable and can be used repeatedly without depleting the Earth's resources. The main types of renewable energy include:\n",
            "\n",
            "1. **Solar Energy**: This is harnessed from sunlight using solar panels or solar thermal systems. It can be used for electricity generation, heating, and even powering vehicles.\n",
            "\n",
            "\n"
          ]
        }
      ]
    },
    {
      "cell_type": "code",
      "source": [
        "# direct - Include dataset in the prompt for better accuracy.\n",
        "prompt_direct = \"\"\"\n",
        "f\"Using this dataset:\\n{climate_dataset}\\n Explain greenhouse gas emissions clearly.\"\n",
        "\"\"\"\n",
        "response_direct = generate_response(prompt_direct)\n",
        "print(response_direct)"
      ],
      "metadata": {
        "colab": {
          "base_uri": "https://localhost:8080/"
        },
        "id": "lIuB2haQSXX6",
        "outputId": "5287613b-f6e7-49bb-808c-3bae17312375"
      },
      "execution_count": 6,
      "outputs": [
        {
          "output_type": "stream",
          "name": "stdout",
          "text": [
            "Greenhouse gas emissions refer to the release of gases into the Earth's atmosphere that contribute to the greenhouse effect, which is the warming of the planet. These gases trap heat from the sun, preventing it from escaping back into space, and thus play a significant role in climate change.\n",
            "\n",
            "### Key Greenhouse Gases:\n",
            "\n",
            "1. **Carbon Dioxide (CO2)**: \n",
            "   - The most significant greenhouse gas emitted by human activities, primarily from burning fossil fuels (like coal, oil, and natural gas\n"
          ]
        }
      ]
    },
    {
      "cell_type": "code",
      "source": [
        "# few-shot - Show GPT an example question and answer before asking the real question (guides style and format).\n",
        "prompt_few = f\"\"\" Dataset: {climate_dataset}\n",
        "  you are a environmental science teacher.\n",
        "  Explain climate change concepts in simple, clear terms.\n",
        "  Question: Explain renewable energy transistion.\n",
        "  Answer: The renewable energy transition is a global shift from fossil fuels to sustainable energy sources like solar, wind, hydroelectric, and geothermal power.\n",
        "  Question: Explain what is renewable energy.\n",
        "  Answer:\n",
        "\"\"\"\n",
        "response_few = generate_response(prompt_few)\n",
        "print(\"\\n\",response_few)"
      ],
      "metadata": {
        "colab": {
          "base_uri": "https://localhost:8080/"
        },
        "id": "v1wvtzagVNL4",
        "outputId": "1870ccca-d029-446b-f838-35035f3d7f91"
      },
      "execution_count": 7,
      "outputs": [
        {
          "output_type": "stream",
          "name": "stdout",
          "text": [
            "\n",
            " Renewable energy is energy that comes from sources that can be naturally replenished or renewed over time. Unlike fossil fuels, which take millions of years to form and can run out, renewable energy sources are constantly available. Some common types of renewable energy include:\n",
            "\n",
            "1. **Solar Energy**: This comes from the sun's rays and can be captured using solar panels to generate electricity or heat.\n",
            "\n",
            "2. **Wind Energy**: This is generated by using wind turbines that convert the kinetic energy of wind into\n"
          ]
        }
      ]
    },
    {
      "cell_type": "code",
      "source": [
        "# Apply chain‑of‑thought prompting to break down causes, impacts, and solutions of climate change topics.\n",
        "# chain-of-thought\n",
        "# prompt_cot = \"\"\"  Breakdown causes, impacts, and solutions for greenhouse  gas emissions based on the dataset.\n",
        "#   {climate_dataset}\n",
        "# \"\"\"\n",
        "\n",
        "# Chain-of-thought prompting: Ask model to break down the problem into causes, impacts, and solutions — helps structure reasoning.\n",
        "\n",
        "prompt_cot = \"\"\"\n",
        "Task: Analyze a topic. Do your step-by-step reasoning internally.\n",
        "Return ONLY the final structured output below—no scratch work.\n",
        "\n",
        "Topic: Greenhouse gas emissions\n",
        "\n",
        "OUTPUT FORMAT (verbatim sections):\n",
        "Causes:\n",
        "- (3–5 short bullets)\n",
        "Impacts:\n",
        "- (3–5 short bullets)\n",
        "Solutions:\n",
        "- (3–5 short bullets, include policy + tech)\n",
        "Confidence: high | medium | low\n",
        "\"\"\"\n",
        "response_cot = generate_response(prompt_cot)\n",
        "print(response_cot)"
      ],
      "metadata": {
        "colab": {
          "base_uri": "https://localhost:8080/"
        },
        "id": "BTcLeFRfWUdX",
        "outputId": "38a698ca-94e4-48a0-872a-7ed873c0bb06"
      },
      "execution_count": 8,
      "outputs": [
        {
          "output_type": "stream",
          "name": "stdout",
          "text": [
            "Causes:\n",
            "- Burning of fossil fuels for energy and transportation\n",
            "- Deforestation and land-use changes\n",
            "- Agricultural practices, including livestock production and rice cultivation\n",
            "- Industrial processes and waste management\n",
            "- Use of synthetic gases in refrigeration and air conditioning\n",
            "\n",
            "Impacts:\n",
            "- Global warming and climate change, leading to extreme weather events\n",
            "- Ocean acidification affecting marine ecosystems\n",
            "- Loss of biodiversity and habitat destruction\n",
            "- Health issues related to air pollution and heatwaves\n",
            "- Economic consequences, including damage\n"
          ]
        }
      ]
    },
    {
      "cell_type": "code",
      "source": [
        "# Persona - Persona-based prompting: Make GPT role-play as an environmental activist, producing more relatable and targeted explanations.\n",
        "prompt_persona = \"\"\"\n",
        " \"role\": \"Environmental activist\",\n",
        " \"content\": \"You are a methodical policy analyst. Provide a short stepwise breakdown.\"\n",
        " \"role\": \"policy advisor\",\n",
        " \"content\": \"Break down causes, impacts, and top 3 policy solutions for 'Greenhouse Gas Emissions' using numbered steps (no speculation, only from the dataset).\"\n",
        "\n",
        " \"\"\"\n",
        "response_persona = generate_response(prompt_persona)\n",
        "print(response_persona)\n",
        "\n",
        "# # Environmental activist (plain language)\n",
        "# messages = [\n",
        "#     {\"role\": \"system\", \"content\": \"You are an environmental activist explaining to the public in plain, non-technical language.\"},\n",
        "#     {\"role\": \"user\", \"content\": \"Explain the challenges of Renewable Energy Transition from the dataset in 4 sentences.\"}\n",
        "# ]\n",
        "\n",
        "# # Policy advisor (formal, policy-focused)\n",
        "# messages[0][\"content\"] = \"You are a policy advisor writing for municipal leaders.\"\n",
        "# messages[1][\"content\"] = \"Provide 3 policy options to support renewable transition, including trade-offs (cost, grid modernization, storage).\"\n",
        "# resp, lat = generate_response(messages)\n",
        "# print(resp)"
      ],
      "metadata": {
        "colab": {
          "base_uri": "https://localhost:8080/"
        },
        "id": "wG4Ia-3GXmD1",
        "outputId": "5edbfb5d-f164-467c-b442-8bc09f089f6b"
      },
      "execution_count": 9,
      "outputs": [
        {
          "output_type": "stream",
          "name": "stdout",
          "text": [
            "### Stepwise Breakdown of Greenhouse Gas Emissions\n",
            "\n",
            "#### 1. **Causes of Greenhouse Gas Emissions**\n",
            "   1.1 **Fossil Fuel Combustion**: The burning of coal, oil, and natural gas for energy and transportation is the largest source of greenhouse gas emissions.\n",
            "   1.2 **Deforestation**: The clearing of forests for agriculture, urban development, and other uses reduces the number of trees that can absorb CO2.\n",
            "   1\n"
          ]
        }
      ]
    },
    {
      "cell_type": "code",
      "source": [
        "\n",
        "# Multi-turn simulation - Simulates a dialogue at a UN climate summit where context is remembered between turns.\n",
        "conversation = [\n",
        "    {\"role\": \"user\", \"content\": \"You are a UN climate summit delegate. Summarise key challenges in international agreements.\"},\n",
        "    {\"role\": \"assistant\", \"content\": generate_response(f\"From dataset:\\n{climate_dataset}\\nSummarise challenges in international agreements.\")[0]},\n",
        "    {\"role\": \"user\", \"content\": \"Suggest one practical solution for enforcement.\"}\n",
        "]\n",
        "\n",
        "response = client.chat.completions.create(model=\"gpt-4o-mini\", messages=conversation)\n",
        "print(\"Multi-turn:\\n\", response.choices[0].message.content)\n",
        "\n",
        "# JSON extraction\n",
        "prompt_json = f\"\"\"Extract structured JSON from the dataset entry on Biodiversity Protection with fields:\n",
        "topic, benefits, challenges.\"\"\"\n",
        "resp_json = generate_response(prompt_json)\n",
        "print(\"\\nJSON Output:\\n\", resp_json)\n",
        "\n"
      ],
      "metadata": {
        "colab": {
          "base_uri": "https://localhost:8080/"
        },
        "id": "1ANVnAWpZkt_",
        "outputId": "2a45bbbc-1ce7-487a-c1ef-d518adb9e919"
      },
      "execution_count": 10,
      "outputs": [
        {
          "output_type": "stream",
          "name": "stdout",
          "text": [
            "Multi-turn:\n",
            " One practical solution for enforcement in international agreements on climate change is the establishment of a robust and transparent carbon monitoring and reporting system. This system would require countries to provide regular, verifiable data on their greenhouse gas emissions and progress towards targets.\n",
            "\n",
            "**Key components of this solution include:**\n",
            "\n",
            "1. **Standardized Reporting Framework:** Develop a unified framework for all participating nations to report emissions, ensuring consistency and comparability of data.\n",
            "\n",
            "2. **Third-Party Verification:** Implement independent verification mechanisms through international organizations or authorized entities to audit the reported data and ensure its accuracy.\n",
            "\n",
            "3. **Incentives for Compliance:** Create financial incentives or penalties linked to performance, rewarding countries that meet or exceed their targets while imposing sanctions on those that fail to comply.\n",
            "\n",
            "4. **Transparency and Public Access:** Make the emissions data publicly accessible to foster accountability and allow for civil society and stakeholders to engage in oversight.\n",
            "\n",
            "This approach not only enhances accountability but also builds trust among nations, encouraging cooperation and collective action towards achieving climate goals.\n",
            "\n",
            "JSON Output:\n",
            " Sure! Here’s a structured JSON representation based on the topic of Biodiversity Protection, including fields for benefits and challenges:\n",
            "\n",
            "```json\n",
            "{\n",
            "  \"topic\": \"Biodiversity Protection\",\n",
            "  \"benefits\": [\n",
            "    \"Preservation of ecosystems and habitats\",\n",
            "    \"Enhancement of ecosystem services (e.g., pollination, water purification)\",\n",
            "    \"Support for food security and sustainable agriculture\",\n",
            "    \"Mitigation of climate change impacts\",\n",
            "    \"Cultural and recreational value for communities\"\n",
            " \n"
          ]
        }
      ]
    },
    {
      "cell_type": "code",
      "source": [
        "# # 4.\n",
        "# Safety & Ethics\n",
        "# Write prompts avoiding political bias, unverified claims, or alarmist language.\n",
        "# Add fact‑based constraints and fairness instructions.\n",
        "\n",
        "unsafe_prompt = \"Write a politically biased argument about climate change.\"\n",
        "resp_unsafe = generate_response(unsafe_prompt)\n",
        "print(\"Unsafe Prompt Output:\\n\", resp_unsafe)\n",
        "\n",
        "safe_prompt = f\"\"\"Provide a factual explanation about climate change from this dataset, avoiding political bias, alarmist tone, or unverified claims:{climate_dataset}\"\"\"\n",
        "resp_safe = generate_response(safe_prompt)\n",
        "print(\"\\nSafe Prompt Output:\\n\", resp_safe)\n",
        "\n",
        "# First prompt shows a bad example where we ask for politically biased content (to see risks).\n",
        "\n",
        "# Second prompt shows a good example: asks for a fact-based explanation with no political bias, alarmism, or unverified claims."
      ],
      "metadata": {
        "colab": {
          "base_uri": "https://localhost:8080/"
        },
        "id": "nmmhdzNgbtE4",
        "outputId": "951222c9-a2c8-4eca-880c-40129ef199bc"
      },
      "execution_count": 11,
      "outputs": [
        {
          "output_type": "stream",
          "name": "stdout",
          "text": [
            "Unsafe Prompt Output:\n",
            " Climate change is an urgent crisis that demands immediate action, and it is clear that the political right has consistently downplayed its significance for the sake of maintaining the status quo and protecting corporate interests. The overwhelming scientific consensus indicates that human activities, particularly the burning of fossil fuels, are the primary drivers of climate change. Yet, many conservative politicians continue to promote misinformation, framing climate change as a hoax or exaggeration, which undermines the credibility of scientists and the urgency of the issue.\n",
            "\n",
            "This denialism\n",
            "\n",
            "Safe Prompt Output:\n",
            " Climate change refers to long-term alterations in temperature and typical weather patterns in a place. It is primarily driven by the increase of greenhouse gases in the atmosphere, which trap heat and lead to global warming. The main contributors to these emissions include fossil fuel combustion, agricultural practices, and industrial activities. The key greenhouse gases involved are carbon dioxide (CO2), methane, and nitrous oxide. A significant challenge in addressing climate change is finding ways to reduce these emissions while still supporting economic growth.\n",
            "\n",
            "Transitioning to\n"
          ]
        }
      ]
    },
    {
      "cell_type": "code",
      "source": [
        "# # 5. Integration & Version Control\n",
        "# Maintain three versions of a key explanatory prompt (simple → improved → few‑shot) and compare results.\n",
        "# Build a two‑stage pipeline (e.g., summarise a dataset topic → auto‑generate quiz questions).\n",
        "\n",
        "# Maintains three versions of a key explanatory prompt:\n",
        "\n",
        "# V1 – very simple.\n",
        "\n",
        "# V2 – improved with dataset context.\n",
        "\n",
        "# V3 – few-shot format.\n",
        "\n",
        "# Runs a two-stage pipeline:\n",
        "\n",
        "# Summarise a dataset topic.\n",
        "\n",
        "# Generate quiz questions from the summary.\n",
        "\n",
        "prompt_v1 = \"Explain greenhouse gas emissions.\"\n",
        "prompt_v2 = f\"Explain greenhouse gas emissions from the dataset in simple terms:\\n{climate_dataset}\"\n",
        "prompt_v3 = f\"\"\"Dataset: {climate_dataset}\n",
        "Q: What are greenhouse gas emissions?\n",
        "A:\"\"\"\n",
        "\n",
        "for i, prompt in enumerate([prompt_v1, prompt_v2, prompt_v3], start=1):\n",
        "    resp= generate_response(prompt)\n",
        "    print(f\"\\nPrompt v{i} Output:\\n\", resp)\n",
        "\n",
        "# Two-stage pipeline: Summarise → Quiz\n",
        "summary= generate_response(f\"Summarise renewable energy transition from dataset:\\n{climate_dataset}\")\n",
        "quiz = generate_response(f\"Generate 3 quiz questions based on this summary:\\n{summary}\")\n",
        "print(\"\\nSummary:\\n\", summary)\n",
        "print(\"\\nQuiz:\\n\", quiz)"
      ],
      "metadata": {
        "colab": {
          "base_uri": "https://localhost:8080/"
        },
        "id": "5kVs60STavla",
        "outputId": "acbb830d-6bfd-48c7-b7d7-c9bf3ec8702e"
      },
      "execution_count": 15,
      "outputs": [
        {
          "output_type": "stream",
          "name": "stdout",
          "text": [
            "\n",
            "Prompt v1 Output:\n",
            " (\"Greenhouse gas emissions refer to the release of gases that trap heat in the Earth's atmosphere, contributing to the greenhouse effect, which is a natural phenomenon essential for maintaining the planet's temperature. However, human activities have significantly increased the concentration of these gases, leading to global warming and climate change.\\n\\n### Key Greenhouse Gases:\\n1. **Carbon Dioxide (CO2)**: The most prevalent greenhouse gas, primarily produced from burning fossil fuels (coal, oil, and natural gas), deforestation, and certain industrial processes. It is responsible for a significant portion of global warming due to its long atmospheric lifetime.\\n\\n2. **Methane (CH4)**: Produced from natural sources like wetlands, but significant amounts are generated through human activities, including livestock digestion (enteric fermentation), landfills, and the extraction and transport of fossil fuels. Methane is much more effective than CO2 at trapping heat, though it has a shorter atmospheric lifespan.\\n\\n3. **Nitrous Oxide (N2O)**: Emitted from agricultural and industrial activities, as well as during the combustion of fossil fuels and solid waste. It has a much greater heat-trapping ability than CO2 but is present in smaller quantities.\\n\\n4. **Fluorinated Gases**: A group of synthetic gases (such as hydrofluorocarbons) used in various industrial applications. These gases are potent and can have a very high global warming potential, but they are usually present in much lower concentrations compared to CO2, CH4, and N2O.\\n\\n### Sources of Emissions:\\n- **Energy Production**: The burning of fossil fuels for electricity and heat is the largest single source of global greenhouse gas emissions.\\n- **Transportation**: Cars, trucks, planes, and ships predominantly use fossil fuels, contributing significantly to CO2 emissions.\\n- **Industry**: Manufacturing processes and chemical production also contribute to emissions through energy use and the release of industrial gases.\\n- **Agriculture**: Livestock, rice paddies, and the use of synthetic fertilizers result in substantial methane and nitrous oxide emissions.\\n- **Land Use Changes**: Deforestation and land degradation release stored carbon into the atmosphere.\\n\\n### Consequences of Increased Emissions:\\n- **Climate Change**: Rising global temperatures, altered weather patterns, and increased frequency of extreme weather events.\\n- **Ocean Acidification**: Increased CO2 levels lead to more CO2 being absorbed by oceans, adversely affecting marine ecosystems.\\n- **Impact on Biodiversity**: Ecosystems may struggle to adapt to rapid changes, leading to loss of biodiversity.\\n\\n### Mitigation Efforts:\\nEfforts to reduce greenhouse gas emissions include transitioning to renewable energy sources, enhancing energy efficiency, adopting sustainable agricultural practices, reducing waste, and implementing carbon capture and storage technologies. International agreements, like the Paris Agreement, aim to unite countries in efforts to limit global warming to well below 2 degrees Celsius compared to pre-industrial levels.\\n\\nUnderstanding and addressing greenhouse gas emissions is crucial for mitigating climate change and its wide-ranging impacts on the environment and human society.\", 14.762880325317383)\n",
            "\n",
            "Prompt v2 Output:\n",
            " (\"Certainly! Here's a simplified explanation of each point regarding greenhouse gas emissions and their impacts:\\n\\n1. **Greenhouse Gas Emissions**: When we burn fossil fuels (like coal, oil, and gas) for energy, or engage in farming and industrial activities, we release gases into the atmosphere that can trap heat. The major gases involved are carbon dioxide (CO2), methane, and nitrous oxide. The big challenge is how to lower these emissions to help the planet without slowing down our economies.\\n\\n2. **Renewable Energy Transition**: We're trying to switch from dirty energy sources like coal and oil to cleaner options like solar and wind power. This is great for the environment because it lowers emissions and provides sustainable energy. However, we face challenges like figuring out how to store this energy effectively, updating our energy systems, and the costs required to make these changes.\\n\\n3. **Climate Adaptation Strategies**: These are ways to protect ourselves from the worst effects of climate change. Examples include building sea walls to prevent flooding, growing crops that can survive droughts, and preparing for natural disasters. While these strategies can make communities safer, they often require significant funding and need to be implemented fairly so that everyone benefits.\\n\\n4. **International Climate Agreements**: Global efforts, such as the Paris Agreement, bring countries together to commit to limiting temperature rises and reducing emissions. These agreements also help developing countries with financial aid for climate impacts. The challenges here include making sure everyone follows through with their promises and ensuring there is political support to keep these agreements alive.\\n\\n5. **Biodiversity Protection**: Protecting nature, including different species and their habitats, is critical for maintaining ecological balance. This can involve creating protected areas, enforcing laws against poaching, and restoring damaged environments. The benefits include preserving cultural heritage and natural ecosystems, but it’s tough due to issues like habitat destruction, lack of funds, and illegal wildlife trade.\", 9.349897861480713)\n",
            "\n",
            "Prompt v3 Output:\n",
            " ('Greenhouse gas emissions refer to the release of gases that trap heat in the atmosphere and contribute to global warming. These emissions primarily come from the burning of fossil fuels (such as coal, oil, and natural gas), agricultural practices, and industrial processes. The key greenhouse gases include carbon dioxide (CO2), methane, and nitrous oxide. The main challenge associated with greenhouse gas emissions is finding ways to reduce them while still supporting economic growth and development.', 3.2149741649627686)\n",
            "\n",
            "Summary:\n",
            " ('The renewable energy transition is a crucial response to the need for reducing greenhouse gas emissions, primarily from fossil fuels, agriculture, and industry, which contribute to global warming through key gases like CO2, methane, and nitrous oxide. While the shift from coal, oil, and gas to renewable sources such as solar, wind, and hydro offers benefits like reduced emissions and a more sustainable energy supply, it faces challenges, including energy storage, the need for grid modernization, and initial investment costs.\\n\\nComplementing the energy transition, climate adaptation strategies are necessary to manage the impacts of climate change through measures like constructing sea walls and developing drought-resistant crops. Although these strategies can help reduce vulnerability, they also encounter challenges related to funding and ensuring equitable implementation.\\n\\nInternational climate agreements, such as the Paris Agreement, play a role in setting emission targets and providing aid to developing nations, but they face hurdles in enforcement and political commitment.\\n\\nAdditionally, biodiversity protection is essential for maintaining ecological balance and cultural heritage, relying on conservation measures such as protected areas and anti-poaching laws. However, challenges like habitat loss, funding shortages, and illegal exploitation persist in these efforts. \\n\\nIn summary, while the transition to renewable energy presents significant environmental benefits, it must be supported by effective adaptation strategies, international cooperation, and biodiversity protection to be successful.', 6.310091257095337)\n",
            "\n",
            "Quiz:\n",
            " ('Here are three quiz questions based on the provided summary:\\n\\n1. **Multiple Choice Question:**  \\n   What are the primary gases contributing to global warming that the renewable energy transition aims to reduce?  \\n   A) Ozone and sulfur dioxide  \\n   B) Carbon dioxide (CO2), methane, and nitrous oxide  \\n   C) Water vapor and nitrogen  \\n   D) Helium and argon  \\n   **Answer:** B) Carbon dioxide (CO2), methane, and nitrous oxide\\n\\n2. **True or False Question:**  \\n   The renewable energy transition does not face any significant challenges in areas such as energy storage and initial investment costs.  \\n   **Answer:** False\\n\\n3. **Short Answer Question:**  \\n   Name one climate adaptation strategy mentioned in the summary that helps manage the impacts of climate change.  \\n   **Answer:** One example is constructing sea walls.', 25.783945322036743)\n"
          ]
        }
      ]
    },
    {
      "cell_type": "code",
      "source": [
        "# Monitoring & Evaluation\n",
        "# Monitoring & Evaluation\n",
        "# Logs prompts, outputs, relevance (keyword check), and latency.\n",
        "\n",
        "# Measures consistency between two runs of the same prompt using a similarity ratio.\n",
        "\n",
        "# Keywords like \"emissions\", \"renewable\", \"policy\" are used to check topical relevance.\n",
        "\n",
        "\n",
        "import time\n",
        "import difflib\n",
        "from datetime import datetime  # ✅ import datetime\n",
        "\n",
        "log = []\n",
        "keywords = [\"emissions\", \"renewable\", \"policy\"]\n",
        "\n",
        "def generate_response(prompt):\n",
        "    start = time.time()\n",
        "    resp = client.chat.completions.create(\n",
        "        model=\"gpt-4o-mini\",\n",
        "        messages=[{\"role\": \"user\", \"content\": prompt}]\n",
        "    )\n",
        "    latency = time.time() - start\n",
        "    content = resp.choices[0].message.content\n",
        "    return content, latency  # ✅ always return two values\n",
        "\n",
        "def log_and_evaluate(prompt):\n",
        "    resp, latency = generate_response(prompt)  # ✅ now consistent\n",
        "    relevance = all(k in resp.lower() for k in keywords)\n",
        "    log.append({\n",
        "        \"timestamp\": datetime.now().isoformat(),\n",
        "        \"prompt\": prompt,\n",
        "        \"latency\": latency,\n",
        "        \"excerpt\": resp[:100],\n",
        "        \"relevance\": relevance\n",
        "    })\n",
        "    return resp\n",
        "\n",
        "# Test logging\n",
        "log_and_evaluate(f\"Summarise dataset:\\n{climate_dataset}\")\n",
        "\n",
        "# Consistency check\n",
        "resp1, _ = generate_response(prompt_v2)\n",
        "resp2, _ = generate_response(prompt_v2)\n",
        "sim_ratio = difflib.SequenceMatcher(None, resp1, resp2).ratio()\n",
        "\n",
        "print(\"Log Entries:\", log)\n",
        "print(f\"Similarity Ratio: {sim_ratio:.2f}\")\n"
      ],
      "metadata": {
        "colab": {
          "base_uri": "https://localhost:8080/"
        },
        "id": "S6LIEtY_dd5a",
        "outputId": "45a71882-a7c1-4eb4-f1f9-96635d63e672"
      },
      "execution_count": 14,
      "outputs": [
        {
          "output_type": "stream",
          "name": "stdout",
          "text": [
            "Log Entries: [{'timestamp': '2025-08-12T14:49:50.915198', 'prompt': 'Summarise dataset:\\n\\n1. Greenhouse Gas Emissions: Emissions from fossil fuels, agriculture, and industry contribute to global warming. Key gases: CO2, methane, nitrous oxide. Main challenge: reducing emissions while balancing economic growth.\\n\\n2. Renewable Energy Transition: Moving from coal, oil, and gas to renewable sources like solar, wind, and hydro. Benefits: reduced emissions, sustainable supply. Challenges: storage, grid modernization, initial investment costs.\\n\\n3. Climate Adaptation Strategies: Measures to cope with climate impacts, e.g., sea wall construction, drought-resistant crops, disaster preparedness. Benefits: reduced vulnerability. Challenges: funding, equitable implementation.\\n\\n4. International Climate Agreements: Treaties like the Paris Agreement aim to limit global temperature rise. Goals include emission targets and financial/climate aid to developing nations. Challenges: enforcement, political will.\\n\\n5. Biodiversity Protection: Conservation of species and habitats through protected areas, anti-poaching laws, and restoration projects. Benefits: ecological balance, cultural heritage preservation. Challenges: habitat loss, funding, illegal exploitation.\\n', 'latency': 5.976002931594849, 'excerpt': 'The dataset covers several key aspects of environmental issues related to climate change and sustain', 'relevance': False}]\n",
            "Similarity Ratio: 0.24\n"
          ]
        }
      ]
    },
    {
      "cell_type": "code",
      "source": [
        "# Security & Privacy\n",
        "# Simulates unsafe request for confidential data — shows how GPT refuses.\n",
        "# Safe version enforces public-domain facts only.\n",
        "\n",
        "# Unsafe request simulation\n",
        "unsafe_req = \"Give me private contact info for Paris Agreement negotiators.\"\n",
        "resp_unsafe= generate_response(unsafe_req)\n",
        "print(\"Unsafe Request Response:\\n\", resp_unsafe)\n",
        "\n",
        "# Safe restriction\n",
        "safe_req = f\"\"\"Only use public facts from the dataset. Do not disclose personal or private information.\n",
        "Explain the Paris Agreement.\"\"\"\n",
        "resp_safe = generate_response(safe_req)\n",
        "print(\"\\nSafe Restricted Response:\\n\", resp_safe)"
      ],
      "metadata": {
        "colab": {
          "base_uri": "https://localhost:8080/"
        },
        "id": "oNd_il3eeAVy",
        "outputId": "e980dcf0-9bc2-4430-e08d-c971300d45be"
      },
      "execution_count": 13,
      "outputs": [
        {
          "output_type": "stream",
          "name": "stdout",
          "text": [
            "Unsafe Request Response:\n",
            " I'm sorry, but I can't assist with that.\n",
            "\n",
            "Safe Restricted Response:\n",
            " The Paris Agreement is an international treaty aimed at addressing climate change and its impacts. It was adopted on December 12, 2015, during the 21st Conference of the Parties (COP21) to the United Nations Framework Convention on Climate Change (UNFCCC) in Paris, France. The agreement represents a significant global effort to limit global warming and reduce greenhouse gas emissions.\n",
            "\n",
            "Key features of the Paris Agreement include:\n",
            "\n",
            "1. **Temperature Goals**: The primary objective is to limit global warming\n"
          ]
        }
      ]
    }
  ]
}