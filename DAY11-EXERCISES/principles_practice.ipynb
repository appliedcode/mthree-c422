{
  "nbformat": 4,
  "nbformat_minor": 0,
  "metadata": {
    "colab": {
      "provenance": []
    },
    "kernelspec": {
      "name": "python3",
      "display_name": "Python 3"
    },
    "language_info": {
      "name": "python"
    }
  },
  "cells": [
    {
      "cell_type": "code",
      "execution_count": 1,
      "metadata": {
        "colab": {
          "base_uri": "https://localhost:8080/"
        },
        "id": "3RCzXJ8cSKmX",
        "outputId": "fb143558-bca6-4184-86c6-600c21955c8a"
      },
      "outputs": [
        {
          "output_type": "stream",
          "name": "stdout",
          "text": [
            "✅ OpenAI API key loaded safely\n"
          ]
        }
      ],
      "source": [
        "# Setup\n",
        "# Install OpenAI SDK\n",
        "!pip install openai -q\n",
        "from google.colab import userdata\n",
        "import os\n",
        "\n",
        "openai_api_key = userdata.get(\"OPENAI_API_KEY\")\n",
        "if openai_api_key:\n",
        "    os.environ[\"OPENAI_API_KEY\"] = openai_api_key\n",
        "    print(\"✅ OpenAI API key loaded safely\")\n",
        "else:\n",
        "    print(\"❌ OpenAI API key not found. Please set it using Colab Secrets.\")"
      ]
    },
    {
      "cell_type": "code",
      "source": [
        "from openai import OpenAI\n",
        "client = OpenAI(api_key=os.environ[\"OPENAI_API_KEY\"])\n",
        "\n",
        "def ask_gpt(prompt, temp=0.7, max_tokens=500):\n",
        "    \"\"\"Send a prompt to GPT-4o-mini and return the output\"\"\"\n",
        "    response = client.chat.completions.create(\n",
        "        model=\"gpt-4o-mini\",\n",
        "        messages=[{\"role\": \"user\", \"content\": prompt}],\n",
        "        temperature=temp,\n",
        "        max_tokens=max_tokens\n",
        "    )\n",
        "    return response.choices[0].message.content"
      ],
      "metadata": {
        "id": "RlvNrNTMTSKq"
      },
      "execution_count": 2,
      "outputs": []
    },
    {
      "cell_type": "code",
      "source": [
        "# Dataset: Renewable energy article snippet\n",
        "\n",
        "# Vague Prompt\n",
        "prompt_vague = \"Write about energy.\"\n",
        "print(\"=== Vague Prompt Output ===\\n\")\n",
        "print(ask_gpt(prompt_vague, temp=0.7, max_tokens=80))\n",
        "\n",
        "# Clear Direction Prompt\n",
        "prompt_clear = (\n",
        "    \"Explain renewable energy sources (solar, wind, hydropower) \"\n",
        "    \"to high school students in an informative but simple tone, 100 words or less.\"\n",
        ")\n",
        "print(\"\\n=== Clear Direction Prompt Output ===\\n\")\n",
        "print(ask_gpt(prompt_clear, temp=0.7, max_tokens=100))\n"
      ],
      "metadata": {
        "colab": {
          "base_uri": "https://localhost:8080/"
        },
        "id": "ApM0jxzUTbqu",
        "outputId": "342a74de-e405-4ecd-ec4c-d7a15878c327"
      },
      "execution_count": 3,
      "outputs": [
        {
          "output_type": "stream",
          "name": "stdout",
          "text": [
            "=== Vague Prompt Output ===\n",
            "\n",
            "Energy is a fundamental concept in both physics and everyday life, representing the capacity to perform work or produce change. It exists in various forms, including kinetic (the energy of motion), potential (stored energy based on position), thermal (heat energy), chemical (energy stored in chemical bonds), electrical, nuclear, and more. Each form of energy can be transformed into another, allowing for a wide range of\n",
            "\n",
            "=== Clear Direction Prompt Output ===\n",
            "\n",
            "Renewable energy sources are ways to generate power that won’t run out. \n",
            "\n",
            "**Solar energy** uses sunlight to create electricity through solar panels. \n",
            "\n",
            "**Wind energy** harnesses the wind's movement using turbines that spin and generate power. \n",
            "\n",
            "**Hydropower** relies on flowing water, usually from rivers or dams, to turn turbines and produce electricity. \n",
            "\n",
            "All these sources are clean, meaning they don’t pollute the air or water, and they help combat climate change. By using renewable\n"
          ]
        }
      ]
    },
    {
      "cell_type": "code",
      "source": [
        "#2.\n",
        "# Dataset: Smartphone specs\n",
        "\n",
        "# Without format\n",
        "prompt_no_format = \"Compare Phone A, Phone B, and Phone C.\"\n",
        "print(\"=== Without Format ===\\n\")\n",
        "print(ask_gpt(prompt_no_format, temp=0.7, max_tokens=100))\n",
        "\n",
        "# With format specified\n",
        "prompt_with_format = (\n",
        "    \"Compare Phone A, Phone B, and Phone C in a markdown table \"\n",
        "    \"with columns: Phone, Display, Camera, Battery.\"\n",
        ")\n",
        "print(\"\\n=== With Format Specified ===\\n\")\n",
        "print(ask_gpt(prompt_with_format, temp=0.7, max_tokens=100))\n"
      ],
      "metadata": {
        "colab": {
          "base_uri": "https://localhost:8080/"
        },
        "id": "DY3JnpW6T4P2",
        "outputId": "7a56494b-239f-4d0e-a951-3d32348fea67"
      },
      "execution_count": 4,
      "outputs": [
        {
          "output_type": "stream",
          "name": "stdout",
          "text": [
            "=== Without Format ===\n",
            "\n",
            "To effectively compare Phone A, Phone B, and Phone C, I would need specific details about each phone, such as their specifications, features, performance, design, battery life, camera quality, operating system, and price. \n",
            "\n",
            "If you can provide the specifics for each phone, I'd be happy to help you compare them based on those criteria!\n",
            "\n",
            "=== With Format Specified ===\n",
            "\n",
            "Here's a comparison of Phone A, Phone B, and Phone C in a markdown table format:\n",
            "\n",
            "```markdown\n",
            "| Phone   | Display             | Camera                  | Battery               |\n",
            "|---------|---------------------|-------------------------|-----------------------|\n",
            "| Phone A | 6.1-inch OLED       | 12 MP (wide), 12 MP (ultra-wide) | 3500 mAh, 25W fast charging |\n",
            "| Phone B | 6.5-inch LCD        | 48\n"
          ]
        }
      ]
    },
    {
      "cell_type": "code",
      "source": [
        "#3.\n",
        "# Dataset: Coffee shop reviews\n",
        "\n",
        "few_shot_prompt = \"\"\"Classify each review as Positive, Negative, or Neutral:\n",
        "\n",
        "Review: \"Loved the espresso, very rich flavor.\"\n",
        "Sentiment: Positive\n",
        "\n",
        "Review: \"Service was slow but the ambiance was nice.\"\n",
        "Sentiment: Neutral\n",
        "\n",
        "Review: \"The croissant was stale and dry.\"\n",
        "Sentiment: Negative\n",
        "\n",
        "Review: \"Great coffee but a bit noisy during peak hours.\"\n",
        "Sentiment:\"\"\"\n",
        "\n",
        "print(\"=== Few-Shot Prompt Output ===\\n\")\n",
        "print(ask_gpt(few_shot_prompt, temp=0.7, max_tokens=20))\n"
      ],
      "metadata": {
        "colab": {
          "base_uri": "https://localhost:8080/"
        },
        "id": "eGeT03B_T73T",
        "outputId": "cfd68fb6-63f9-4509-eade-8af9cf836c27"
      },
      "execution_count": 6,
      "outputs": [
        {
          "output_type": "stream",
          "name": "stdout",
          "text": [
            "=== Few-Shot Prompt Output ===\n",
            "\n",
            "Positive\n"
          ]
        }
      ]
    },
    {
      "cell_type": "code",
      "source": [
        "# 4.Dataset: Urban gardening article\n",
        "\n",
        "# Vague Prompt\n",
        "prompt_vague_summary = 'Summarize this text: \"Community gardens are flourishing in cities worldwide, providing fresh produce and green spaces for residents. They improve air quality, foster social connections, and promote sustainability.\"'\n",
        "print(\"=== Vague Summary Output ===\\n\")\n",
        "print(ask_gpt(prompt_vague_summary, temp=0.7, max_tokens=60))\n",
        "\n",
        "# Refined Prompt\n",
        "prompt_refined_summary = \"\"\"Summarize this article in 3 bullet points each covering:\n",
        "1) Main benefits\n",
        "2) Social impact\n",
        "3) Environmental effects\n",
        "\n",
        "Text: Community gardens are flourishing in cities worldwide, providing fresh produce and green spaces for residents. They improve air quality, foster social connections, and promote sustainability.\"\"\"\n",
        "print(\"\\n=== Refined Summary Output ===\\n\")\n",
        "print(ask_gpt(prompt_refined_summary, temp=0.7, max_tokens=80))\n"
      ],
      "metadata": {
        "colab": {
          "base_uri": "https://localhost:8080/"
        },
        "id": "7F7O3wvuT87W",
        "outputId": "16e8820f-0299-4bd7-81fc-89f4441c8be4"
      },
      "execution_count": 7,
      "outputs": [
        {
          "output_type": "stream",
          "name": "stdout",
          "text": [
            "=== Vague Summary Output ===\n",
            "\n",
            "Community gardens are thriving globally, offering fresh produce and green spaces while enhancing air quality, building social connections, and promoting sustainability.\n",
            "\n",
            "=== Refined Summary Output ===\n",
            "\n",
            "- **Main Benefits:** Community gardens offer residents access to fresh produce, enhance local food security, and create green spaces that contribute to physical and mental well-being.\n",
            "\n",
            "- **Social Impact:** These gardens foster social connections among community members, encouraging collaboration, inclusivity, and a sense of belonging, while also serving as educational hubs for gardening and sustainability practices.\n",
            "\n",
            "- **Environmental Effects:** Community gardens improve air quality\n"
          ]
        }
      ]
    },
    {
      "cell_type": "code",
      "source": [
        "# 5.\n",
        "# Dataset: Online bookstore launch plan\n",
        "\n",
        "# Step 1: Audience\n",
        "prompt_audience = \"Describe the target audience for an online bookstore focused on rare and antique books.\"\n",
        "audience_output = ask_gpt(prompt_audience, temp=0.7, max_tokens=100)\n",
        "print(\"=== Step 1: Target Audience ===\\n\")\n",
        "print(audience_output)\n",
        "\n",
        "# Step 2: Marketing strategy based on audience\n",
        "prompt_strategy = f\"Based on the following audience, create a marketing strategy with 5 bullet points:\\n\\n{audience_output}\"\n",
        "strategy_output = ask_gpt(prompt_strategy, temp=0.7, max_tokens=100)\n",
        "print(\"\\n=== Step 2: Marketing Strategy ===\\n\")\n",
        "print(strategy_output)\n",
        "\n",
        "# Step 3: 1-month social media content calendar\n",
        "prompt_calendar = f\"Propose a 1-month social media content calendar in a table with Date, Post Idea, and Caption, based on this strategy:\\n\\n{strategy_output}\"\n",
        "print(\"\\n=== Step 3: Content Calendar ===\\n\")\n",
        "print(ask_gpt(prompt_calendar, temp=0.7, max_tokens=200))\n"
      ],
      "metadata": {
        "colab": {
          "base_uri": "https://localhost:8080/"
        },
        "id": "QmPHoyp4UH_S",
        "outputId": "95dbcda8-7815-45ec-cd29-18ca97d948f7"
      },
      "execution_count": 8,
      "outputs": [
        {
          "output_type": "stream",
          "name": "stdout",
          "text": [
            "=== Step 1: Target Audience ===\n",
            "\n",
            "The target audience for an online bookstore specializing in rare and antique books is likely to be diverse but can be categorized into several key segments:\n",
            "\n",
            "1. **Collectors**: Individuals who actively seek to build and maintain collections of rare and antique books. This group often includes seasoned collectors with a deep appreciation for the history, craftsmanship, and uniqueness of these items. They may be looking for specific editions, first prints, or books with historical significance.\n",
            "\n",
            "2. **Bibliophiles**: Passionate readers and book\n",
            "\n",
            "=== Step 2: Marketing Strategy ===\n",
            "\n",
            "lovers who enjoy exploring the literary world and appreciate the aesthetic and tactile qualities of rare and antique books. They may not actively collect but are interested in acquiring unique pieces to enhance their personal libraries.\n",
            "\n",
            "3. **Gift Buyers**: Individuals looking for special and meaningful gifts for friends, family, or loved ones who appreciate literature. This segment may include people shopping for birthdays, anniversaries, or other significant occasions.\n",
            "\n",
            "4. **Scholars and Researchers**: Academics, students, and researchers who\n",
            "\n",
            "=== Step 3: Content Calendar ===\n",
            "\n",
            "Here’s a proposed 1-month social media content calendar designed to engage your target audience of literary enthusiasts, gift buyers, and scholars/researchers. The calendar includes a mix of post ideas and engaging captions to attract and resonate with your audience.\n",
            "\n",
            "| Date       | Post Idea                                         | Caption                                                                                      |\n",
            "|------------|---------------------------------------------------|---------------------------------------------------------------------------------------------|\n",
            "| 1st        | Showcase a rare antique book                       | \"Every book has a story, but some books tell stories of their own. Discover the beauty of this rare find! 📚✨ #AntiqueBooks #LiteraryTreasures\" |\n",
            "| 3rd        | Share a quote from a famous author                | \"‘A room without books is like a body without a soul.’ – Cicero. What does your library say about you? #BookQuotes #LiteraryLife\" |\n",
            "| 5th        | Video tour of a beautifully styled personal library| \"Step inside this dream library! What elements would you add to create\n"
          ]
        }
      ]
    }
  ]
}