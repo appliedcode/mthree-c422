{
  "cells": [
    {
      "cell_type": "markdown",
      "metadata": {
        "id": "view-in-github",
        "colab_type": "text"
      },
      "source": [
        "<a href=\"https://colab.research.google.com/github/appliedcode/mthree-c422/blob/mthree-c422-dipti/Exercises/day-11/Adv-concepts/Prompt-designs.ipynb\" target=\"_parent\"><img src=\"https://colab.research.google.com/assets/colab-badge.svg\" alt=\"Open In Colab\"/></a>"
      ]
    },
    {
      "cell_type": "markdown",
      "source": [
        "# 📓 Lab: Advanced Prompt Design Techniques in AI Conversations"
      ],
      "metadata": {
        "id": "hFnkDgKDTUgk"
      }
    },
    {
      "cell_type": "code",
      "source": [
        "# Setup\n",
        "# Install OpenAI SDK\n",
        "!pip install openai -q\n",
        "from google.colab import userdata\n",
        "import os\n",
        "\n",
        "openai_api_key = userdata.get(\"OPENAI_API_KEY\")\n",
        "if openai_api_key:\n",
        "    os.environ[\"OPENAI_API_KEY\"] = openai_api_key\n",
        "    print(\"✅ OpenAI API key loaded safely\")\n",
        "else:\n",
        "    print(\"❌ OpenAI API key not found. Please set it using Colab Secrets.\")"
      ],
      "metadata": {
        "colab": {
          "base_uri": "https://localhost:8080/"
        },
        "id": "TeI221gvStSY",
        "outputId": "e2cea262-3dc7-426e-d074-2d117a81301a"
      },
      "execution_count": 1,
      "outputs": [
        {
          "output_type": "stream",
          "name": "stdout",
          "text": [
            "✅ OpenAI API key loaded safely\n"
          ]
        }
      ]
    },
    {
      "cell_type": "code",
      "source": [
        "from openai import OpenAI\n",
        "client = OpenAI(api_key=os.environ[\"OPENAI_API_KEY\"])  # Replace with your API key\n",
        "\n",
        "def ask_gpt(prompt, temperature=0.7, max_tokens=500):\n",
        "    \"\"\"Send a prompt to GPT-4o-mini and return the output\"\"\"\n",
        "    response = client.chat.completions.create(\n",
        "        model=\"gpt-4o-mini\",\n",
        "        messages=[{\"role\": \"user\", \"content\": prompt}],\n",
        "        temperature=temperature,\n",
        "        max_tokens=max_tokens\n",
        "    )\n",
        "    return response.choices[0].message.content"
      ],
      "metadata": {
        "id": "tum27-jCRCHH"
      },
      "execution_count": 2,
      "outputs": []
    },
    {
      "cell_type": "markdown",
      "source": [
        "## **1️⃣ Interview Pattern Prompting**\n",
        "\n",
        "**Goal:** Simulate an interview by prompting the model to ask and answer a series of questions on a topic. Helps in extracting detailed and structured info."
      ],
      "metadata": {
        "id": "3CPaNFrYRGxO"
      }
    },
    {
      "cell_type": "code",
      "source": [
        "base_prompt = \"\"\"\n",
        "Simulate an interview between a reporter and an AI expert about the impact of AI on education.\n",
        "Format it as a Q&A conversation with the reporter asking questions and the expert answering.\n",
        "Start with an introductory question.\n",
        "\"\"\"\n",
        "\n",
        "print(ask_gpt(base_prompt, temperature=0.6))"
      ],
      "metadata": {
        "colab": {
          "base_uri": "https://localhost:8080/"
        },
        "id": "2vMB3TKnRHNn",
        "outputId": "af661730-c137-49b1-8010-cfaca04f0b37"
      },
      "execution_count": 3,
      "outputs": [
        {
          "output_type": "stream",
          "name": "stdout",
          "text": [
            "**Reporter:** Thank you for joining us today. To start off, can you explain what role you see artificial intelligence playing in the education sector?\n",
            "\n",
            "**AI Expert:** Absolutely, and thank you for having me. AI is increasingly becoming a transformative force in education. It can personalize learning experiences, automate administrative tasks, and provide educators with insights into student performance. For instance, AI can tailor educational content to fit individual learning styles and paces, helping students grasp concepts more effectively.\n",
            "\n",
            "**Reporter:** That sounds promising. Can you elaborate on how AI personalizes learning for students?\n",
            "\n",
            "**AI Expert:** Certainly! AI algorithms analyze data from various sources, such as assessments, quizzes, and even classroom interactions. By doing this, AI can identify a student’s strengths and weaknesses. For example, if a student struggles with math, the AI can recommend specific resources or exercises to address those gaps. This level of personalization helps keep students engaged and motivated.\n",
            "\n",
            "**Reporter:** What about teachers? How can AI support them in their roles?\n",
            "\n",
            "**AI Expert:** AI can be a significant support system for teachers. By automating administrative tasks like grading and attendance tracking, educators can focus more on teaching and interacting with students. Additionally, AI can provide teachers with analytics on student performance, helping them identify which students may need extra support or which teaching methods are most effective.\n",
            "\n",
            "**Reporter:** Are there any concerns about the reliance on AI in education?\n",
            "\n",
            "**AI Expert:** Yes, there are valid concerns. One major issue is the potential for data privacy violations, as student data is sensitive. There’s also the risk of over-reliance on technology, which could undermine the importance of human interaction in learning. It's essential to strike a balance between utilizing AI and maintaining the critical elements of traditional teaching.\n",
            "\n",
            "**Reporter:** How do you see the future of AI in education evolving?\n",
            "\n",
            "**AI Expert:** I believe we’ll see a more integrated approach where AI complements traditional learning methods rather than replacing them. As technology evolves, we'll likely see more sophisticated AI tools that can adapt to diverse educational environments. Moreover, there will be a growing emphasis on ethical AI usage in education, ensuring that technology enhances learning without compromising equity or access.\n",
            "\n",
            "**Reporter:** What steps should educational institutions take to implement AI effectively?\n",
            "\n",
            "**AI Expert:** Institutions should start by investing in training for educators to understand and utilize AI tools effectively. Additionally, they should ensure that any AI solutions they adopt are transparent and align with their educational goals. Collaboration with AI developers can also help tailor\n"
          ]
        }
      ]
    },
    {
      "cell_type": "markdown",
      "source": [
        "## **2️⃣ Tree-of-Thoughts Prompting**\n",
        "\n",
        "**Goal:** Explore multiple lines of reasoning or ideas branching from a prompt before converging on an answer."
      ],
      "metadata": {
        "id": "YB1JLDOURLet"
      }
    },
    {
      "cell_type": "code",
      "source": [
        "prompt = \"\"\"\n",
        "You want to plan a weekend trip. Using a tree-of-thoughts approach, list 3 possible destinations.\n",
        "For each destination, list 2 pros and 2 cons.\n",
        "Then choose the best destination and explain why.\n",
        "\"\"\"\n",
        "\n",
        "print(ask_gpt(prompt, temperature=0.7))"
      ],
      "metadata": {
        "colab": {
          "base_uri": "https://localhost:8080/"
        },
        "id": "O982EGKMRNB8",
        "outputId": "979df99c-a850-4c12-f1d0-7b13277b7dcd"
      },
      "execution_count": 4,
      "outputs": [
        {
          "output_type": "stream",
          "name": "stdout",
          "text": [
            "### Destination 1: Beach Resort\n",
            "\n",
            "**Pros:**\n",
            "1. Relaxation: A beach resort offers a peaceful environment, perfect for unwinding and enjoying the sun.\n",
            "2. Activities: There are plenty of activities like swimming, snorkeling, and beach volleyball available.\n",
            "\n",
            "**Cons:**\n",
            "1. Crowds: Popular beach resorts can be crowded, leading to a less tranquil experience.\n",
            "2. Cost: Accommodations and food at resorts can be expensive.\n",
            "\n",
            "---\n",
            "\n",
            "### Destination 2: Mountain Retreat\n",
            "\n",
            "**Pros:**\n",
            "1. Scenic Views: Mountains offer breathtaking landscapes and opportunities for photography.\n",
            "2. Outdoor Activities: Hiking, biking, and exploring nature are great ways to stay active.\n",
            "\n",
            "**Cons:**\n",
            "1. Weather Variability: Mountain weather can be unpredictable, potentially ruining outdoor plans.\n",
            "2. Accessibility: Some mountain retreats can be difficult to reach, requiring extensive travel or hiking.\n",
            "\n",
            "---\n",
            "\n",
            "### Destination 3: City Escape\n",
            "\n",
            "**Pros:**\n",
            "1. Cultural Attractions: Cities typically offer museums, theaters, and restaurants, providing a rich cultural experience.\n",
            "2. Nightlife: Vibrant nightlife with bars, clubs, and events to enjoy after dark.\n",
            "\n",
            "**Cons:**\n",
            "1. Noise and Crowds: Cities can be noisy and crowded, making it hard to find quiet moments.\n",
            "2. Higher Costs: Accommodations and dining in cities can be pricier compared to rural areas.\n",
            "\n",
            "---\n",
            "\n",
            "### Best Destination: Mountain Retreat\n",
            "\n",
            "**Explanation:**\n",
            "The mountain retreat stands out as the best choice for a weekend trip. It combines the beauty of nature with opportunities for adventure and physical activity, which can be refreshing and invigorating. Unlike the beach resort, which can be crowded, the mountains often provide a more serene environment, allowing for personal reflection and connection with nature. While the weather may be unpredictable, the chance to hike and explore scenic trails outweighs the potential downsides. Overall, the mountain retreat offers a balanced mix of relaxation and activity, making it an ideal weekend getaway.\n"
          ]
        }
      ]
    },
    {
      "cell_type": "markdown",
      "source": [
        "## **3️⃣ Step-by-Step Reasoning \\& Decomposition**\n",
        "\n",
        "**Goal:** Decompose complex problems into steps and guide the AI to reason about each part sequentially."
      ],
      "metadata": {
        "id": "z_tt5nA4RO4I"
      }
    },
    {
      "cell_type": "code",
      "source": [
        "prompt = \"\"\"\n",
        "Q: A bookstore sold 30 books on Monday and 20% more on Tuesday.\n",
        "Calculate how many books were sold on Tuesday and in total.\n",
        "Let's decompose and reason step-by-step.\n",
        "\"\"\"\n",
        "\n",
        "print(ask_gpt(prompt, temperature=0))"
      ],
      "metadata": {
        "colab": {
          "base_uri": "https://localhost:8080/"
        },
        "id": "cx8TjPsaRPwN",
        "outputId": "b0b9f4da-a495-489f-d136-5892c8093f3d"
      },
      "execution_count": 5,
      "outputs": [
        {
          "output_type": "stream",
          "name": "stdout",
          "text": [
            "To find out how many books were sold on Tuesday and the total number of books sold over both days, we can follow these steps:\n",
            "\n",
            "1. **Calculate the number of books sold on Tuesday:**\n",
            "   - The bookstore sold 30 books on Monday.\n",
            "   - On Tuesday, they sold 20% more than what they sold on Monday.\n",
            "   - To find 20% of the books sold on Monday, we calculate:\n",
            "     \\[\n",
            "     20\\% \\text{ of } 30 = 0.20 \\times 30 = 6\n",
            "     \\]\n",
            "   - Now, we add this amount to the number of books sold on Monday to find the total sold on Tuesday:\n",
            "     \\[\n",
            "     \\text{Books sold on Tuesday} = 30 + 6 = 36\n",
            "     \\]\n",
            "\n",
            "2. **Calculate the total number of books sold over both days:**\n",
            "   - We add the number of books sold on Monday and Tuesday:\n",
            "     \\[\n",
            "     \\text{Total books sold} = \\text{Books sold on Monday} + \\text{Books sold on Tuesday} = 30 + 36 = 66\n",
            "     \\]\n",
            "\n",
            "So, the bookstore sold **36 books on Tuesday** and a **total of 66 books** over both days.\n"
          ]
        }
      ]
    },
    {
      "cell_type": "markdown",
      "source": [
        "## **4️⃣ Combining Prompts \\& Managing Context**\n",
        "\n",
        "**Goal:** Use multiple prompts or instructions combined to explore different aspects of a problem in one session."
      ],
      "metadata": {
        "id": "k_G-xkGGRSRW"
      }
    },
    {
      "cell_type": "code",
      "source": [
        "prompt = \"\"\"\n",
        "You are a financial advisor.\n",
        "\n",
        "Part 1: Summarize the benefits of investing in renewable energy funds.\n",
        "Part 2: List 3 risks associated with these investments.\n",
        "Part 3: Provide advice on how to mitigate these risks.\n",
        "\n",
        "Answer each part clearly.\n",
        "\"\"\"\n",
        "\n",
        "print(ask_gpt(prompt, temperature=0.7))"
      ],
      "metadata": {
        "colab": {
          "base_uri": "https://localhost:8080/"
        },
        "id": "zbFdASwMRUeP",
        "outputId": "723f544f-e8ca-4423-e5e1-17b2f8edb6e0"
      },
      "execution_count": 6,
      "outputs": [
        {
          "output_type": "stream",
          "name": "stdout",
          "text": [
            "### Part 1: Benefits of Investing in Renewable Energy Funds\n",
            "\n",
            "1. **Sustainable Growth Potential**: Renewable energy is a rapidly growing sector driven by global efforts to combat climate change and transition to cleaner energy sources. Investing in renewable energy funds allows investors to participate in this growth.\n",
            "\n",
            "2. **Environmental Impact**: Investing in renewable energy supports the development of sustainable energy solutions, contributing to the reduction of greenhouse gas emissions and fostering a healthier planet.\n",
            "\n",
            "3. **Government Incentives**: Many governments offer tax incentives, subsidies, and favorable regulations for renewable energy projects. These incentives can enhance the profitability of investments in this sector.\n",
            "\n",
            "4. **Diversification**: Renewable energy funds can provide diversification in an investment portfolio, reducing overall risk by spreading investments across various energy sources and technologies.\n",
            "\n",
            "5. **Long-term Stability**: As the global economy shifts towards sustainability, renewable energy sources are likely to become more stable and less susceptible to price volatility compared to fossil fuels.\n",
            "\n",
            "### Part 2: Risks Associated with Renewable Energy Investments\n",
            "\n",
            "1. **Market Volatility**: The renewable energy sector can be subject to significant market fluctuations based on changes in technology, policy, and consumer preferences, which can affect the performance of funds.\n",
            "\n",
            "2. **Regulatory Risks**: Changes in government policies, subsidies, or regulations can impact the profitability and viability of renewable energy projects, potentially leading to financial losses.\n",
            "\n",
            "3. **Technological Risks**: The renewable energy sector is continuously evolving, and investments in outdated technology or companies that fail to innovate may suffer from declining competitiveness.\n",
            "\n",
            "### Part 3: Advice on Mitigating Risks\n",
            "\n",
            "1. **Diversification**: Investors should diversify their portfolios by investing in a mix of renewable energy funds and other asset classes. This reduces exposure to any single investment and mitigates the impact of market volatility.\n",
            "\n",
            "2. **Stay Informed on Policy Changes**: Regularly monitor regulatory developments and government policies related to renewable energy. Staying informed can help investors anticipate changes that may affect their investments and allow for timely adjustments.\n",
            "\n",
            "3. **Focus on Established Companies**: Consider investing in funds that focus on well-established companies with proven track records in renewable energy technologies. These companies are often better positioned to navigate market fluctuations and technological changes.\n",
            "\n",
            "By understanding the benefits, risks, and strategies to mitigate those risks, investors can make informed decisions about their investments in renewable energy funds.\n"
          ]
        }
      ]
    },
    {
      "cell_type": "markdown",
      "source": [
        "## **5️⃣ Prompt Chaining \\& Multi-Turn Conversations**\n",
        "\n",
        "**Goal:** Maintain context over multiple conversational turns, where each turn builds on previous responses."
      ],
      "metadata": {
        "id": "4ZrSZmSuRXwF"
      }
    },
    {
      "cell_type": "code",
      "source": [
        "# Simulate multi-turn conversation by running prompts sequentially:\n",
        "\n",
        "# Turn 1: Ask for basic explanation\n",
        "turn1 = \"Explain blockchain technology in simple terms.\"\n",
        "\n",
        "response1 = ask_gpt(turn1)\n",
        "print(\"Turn 1 Response:\\n\", response1)\n",
        "\n",
        "# Turn 2: Ask for comparison based on previous answer\n",
        "turn2 = f\"\"\"Based on your previous explanation: \"{response1}\",\n",
        "explain how blockchain differs from traditional databases.\"\"\"\n",
        "\n",
        "response2 = ask_gpt(turn2)\n",
        "print(\"\\nTurn 2 Response:\\n\", response2)\n",
        "\n",
        "# Turn 3: Ask for real-world applications using previous info\n",
        "turn3 = f\"\"\"Given previous responses:\n",
        "1. {response1}\n",
        "2. {response2}\n",
        "List 3 industries that can benefit from blockchain and why.\n",
        "\"\"\"\n",
        "\n",
        "response3 = ask_gpt(turn3)\n",
        "print(\"\\nTurn 3 Response:\\n\", response3)"
      ],
      "metadata": {
        "colab": {
          "base_uri": "https://localhost:8080/"
        },
        "id": "BT3WP1HaRaG4",
        "outputId": "1cfc1b13-b9aa-4f98-dfbc-cbe40a6d4fd8"
      },
      "execution_count": 7,
      "outputs": [
        {
          "output_type": "stream",
          "name": "stdout",
          "text": [
            "Turn 1 Response:\n",
            " Sure! Blockchain technology is a way to store information that makes it very secure and trustworthy. Here’s how it works in simple terms:\n",
            "\n",
            "1. **Digital Ledger**: Imagine a notebook where you write down transactions or information. In blockchain, this notebook is digital and called a \"ledger.\"\n",
            "\n",
            "2. **Blocks**: The information is stored in small groups called \"blocks.\" Each block contains a list of transactions, just like a page in your notebook.\n",
            "\n",
            "3. **Chain**: Once a block is filled with information, it is linked to the previous block, forming a \"chain\" of blocks—hence the name \"blockchain.\"\n",
            "\n",
            "4. **Decentralization**: Instead of being stored in one central place (like a bank), copies of this ledger are held by many different people (called \"nodes\") all over the world. This makes it harder for anyone to tamper with the information.\n",
            "\n",
            "5. **Security**: Each block has a unique code called a \"hash.\" If someone tries to change the information in a block, it will change the hash, and everyone will know something is wrong. This makes it very secure.\n",
            "\n",
            "6. **Transparency**: Because everyone has a copy of the same ledger, anyone can see the transactions, which makes the system transparent and builds trust.\n",
            "\n",
            "In summary, blockchain is a secure, transparent, and decentralized way to record information that helps prevent fraud and ensures that everyone involved has access to the same data.\n",
            "\n",
            "Turn 2 Response:\n",
            " Blockchain technology differs from traditional databases in several key ways, primarily in terms of structure, control, security, and transparency. Here’s a comparison of the two:\n",
            "\n",
            "1. **Structure**:\n",
            "   - **Blockchain**: Information is stored in blocks that are linked together in a chronological chain. Each block contains a set of transactions and is permanently added to the chain once filled.\n",
            "   - **Traditional Database**: Data is stored in tables or rows, and can be easily modified, deleted, or updated. The structure is usually relational, meaning it’s organized in a way that defines relationships between data.\n",
            "\n",
            "2. **Control**:\n",
            "   - **Blockchain**: It is typically decentralized, meaning that no single entity has control over the entire network. Instead, multiple nodes (participants) maintain their own copies of the ledger, making it more resilient to failure or tampering.\n",
            "   - **Traditional Database**: Usually centralized, with a single authority (like a company or organization) controlling the database. This can make it vulnerable to data loss, corruption, or unauthorized changes.\n",
            "\n",
            "3. **Security**:\n",
            "   - **Blockchain**: Each block contains a unique hash and is linked to the previous block. Any attempt to alter the information in a block would change its hash, alerting the network to the tampering. Additionally, data is often encrypted.\n",
            "   - **Traditional Database**: While traditional databases can implement security measures (like access controls and encryption), they are more susceptible to attacks because they have a centralized point of failure. A hacker could target the central database to alter data or steal information.\n",
            "\n",
            "4. **Transparency**:\n",
            "   - **Blockchain**: All transactions are visible to all participants in the network, promoting transparency. Once data is added to the blockchain, it is nearly impossible to alter or delete, creating a permanent record.\n",
            "   - **Traditional Database**: Access to data can be restricted, and changes can be made without a public record, making it less transparent. Users may not have visibility into who changed what and when.\n",
            "\n",
            "5. **Data Integrity**:\n",
            "   - **Blockchain**: The immutable nature of the blockchain ensures that once data is recorded, it cannot be changed without consensus from the network. This provides a high level of data integrity.\n",
            "   - **Traditional Database**: Data can be easily changed or deleted, which can lead to inconsistencies or errors if not properly managed. There may also be a risk of data being altered improperly.\n",
            "\n",
            "6. **Consensus Mechanism\n",
            "\n",
            "Turn 3 Response:\n",
            " Here are three industries that can benefit significantly from blockchain technology, along with reasons for each:\n",
            "\n",
            "1. **Finance and Banking**:\n",
            "   - **Efficiency in Transactions**: Blockchain can streamline and expedite cross-border payments and remittances, reducing transaction times from days to minutes and lowering fees by eliminating intermediaries.\n",
            "   - **Increased Security**: By using cryptography and decentralized networks, blockchain provides enhanced security against fraud and cyberattacks, fostering trust in digital transactions.\n",
            "   - **Transparency and Auditability**: Financial transactions recorded on a blockchain are transparent and immutable, making it easier for regulators to audit and verify compliance, thereby enhancing trust in financial systems.\n",
            "\n",
            "2. **Supply Chain Management**:\n",
            "   - **Enhanced Traceability**: Blockchain allows for real-time tracking of products from origin to final destination, helping businesses verify the authenticity of goods and ensuring compliance with safety standards.\n",
            "   - **Reduced Fraud**: By providing a transparent record of each step in the supply chain, blockchain can help reduce counterfeiting and fraud, especially in industries like pharmaceuticals and luxury goods.\n",
            "   - **Improved Collaboration**: Blockchain facilitates better collaboration among stakeholders in the supply chain by providing a single source of truth that can be accessed by all parties, improving communication and reducing disputes.\n",
            "\n",
            "3. **Healthcare**:\n",
            "   - **Secure Patient Data Management**: Blockchain can provide a secure and decentralized way to store and share patient health records, ensuring that only authorized individuals have access to sensitive information.\n",
            "   - **Interoperability**: It can enhance the interoperability of health data across different systems and institutions, allowing for more efficient sharing of medical records and facilitating better patient care.\n",
            "   - **Drug Traceability**: Blockchain can help track pharmaceuticals throughout the supply chain, ensuring that drugs are genuine and have not been tampered with, thereby improving patient safety.\n",
            "\n",
            "These industries can leverage blockchain technology to improve efficiency, security, and trust, ultimately leading to better outcomes for businesses and consumers alike.\n"
          ]
        }
      ]
    },
    {
      "cell_type": "markdown",
      "source": [
        "# 💡 Tips for Students:\n",
        "\n",
        "- Experiment with your own prompts to see how outputs vary.\n",
        "- Compare responses when adding or removing instructions.\n",
        "- Try chaining more turns in the multi-turn conversation part.\n",
        "- Notice how stepwise reasoning improves clarity and accuracy."
      ],
      "metadata": {
        "id": "Oc0EbdU4Rb8d"
      }
    }
  ],
  "metadata": {
    "colab": {
      "name": "Welcome to Colab",
      "provenance": [],
      "include_colab_link": true
    },
    "kernelspec": {
      "display_name": "Python 3",
      "name": "python3"
    }
  },
  "nbformat": 4,
  "nbformat_minor": 0
}