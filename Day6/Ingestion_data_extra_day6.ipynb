{
  "nbformat": 4,
  "nbformat_minor": 0,
  "metadata": {
    "colab": {
      "provenance": []
    },
    "kernelspec": {
      "name": "python3",
      "display_name": "Python 3"
    },
    "language_info": {
      "name": "python"
    }
  },
  "cells": [
    {
      "cell_type": "code",
      "execution_count": 1,
      "metadata": {
        "id": "7is775rMcERf"
      },
      "outputs": [],
      "source": [
        "\n",
        "\n",
        "# Step 1: Set Up the Environment\n",
        "# Install required libraries (requests and pandas)\n",
        "!pip install requests pandas -q\n",
        "\n",
        ""
      ]
    },
    {
      "cell_type": "code",
      "source": [
        "# Step 2: Ingest Data from a Public REST API\n",
        "# Example: Fetch random user data from the Random User Generator API.\n",
        "import requests\n",
        "import pandas as pd\n",
        "\n",
        "api_url = \"https://disease.sh/v3/covid-19/countries\"\n",
        "response = requests.get(api_url)\n",
        "data = response.json()\n",
        "\n",
        "# Convert the results to a DataFrame\n",
        "df_api = pd.json_normalize(data)\n",
        "print(\"Data from REST API:\")\n",
        "print(df_api.head())"
      ],
      "metadata": {
        "colab": {
          "base_uri": "https://localhost:8080/"
        },
        "id": "2-pWKqGocuLS",
        "outputId": "3da65a1a-facd-4b94-b8ab-28edfbf9232b"
      },
      "execution_count": 6,
      "outputs": [
        {
          "output_type": "stream",
          "name": "stdout",
          "text": [
            "Data from REST API:\n",
            "         updated      country   cases  todayCases  deaths  todayDeaths  \\\n",
            "0  1754302476454  Afghanistan  234174           0    7996            0   \n",
            "1  1754302476442      Albania  334863           0    3605            0   \n",
            "2  1754302476446      Algeria  272010           0    6881            0   \n",
            "3  1754302476502      Andorra   48015           0     165            0   \n",
            "4  1754302476477       Angola  107327           0    1937            0   \n",
            "\n",
            "   recovered  todayRecovered  active  critical  ...  oneTestPerPeople  \\\n",
            "0     211080               0   15098         0  ...                29   \n",
            "1     330233               0    1025         0  ...                 1   \n",
            "2     183061               0   82068         0  ...               196   \n",
            "3          0               0   47850         0  ...                 0   \n",
            "4     103419               0    1971         0  ...                23   \n",
            "\n",
            "   activePerOneMillion  recoveredPerOneMillion  criticalPerOneMillion  \\\n",
            "0               370.46                 5179.32                    0.0   \n",
            "1               357.59               115209.32                    0.0   \n",
            "2              1809.65                 4036.61                    0.0   \n",
            "3            617714.26                    0.00                    0.0   \n",
            "4                56.27                 2952.52                    0.0   \n",
            "\n",
            "   countryInfo._id countryInfo.iso2  countryInfo.iso3  countryInfo.lat  \\\n",
            "0              4.0               AF               AFG             33.0   \n",
            "1              8.0               AL               ALB             41.0   \n",
            "2             12.0               DZ               DZA             28.0   \n",
            "3             20.0               AD               AND             42.5   \n",
            "4             24.0               AO               AGO            -12.5   \n",
            "\n",
            "   countryInfo.long                            countryInfo.flag  \n",
            "0              65.0  https://disease.sh/assets/img/flags/af.png  \n",
            "1              20.0  https://disease.sh/assets/img/flags/al.png  \n",
            "2               3.0  https://disease.sh/assets/img/flags/dz.png  \n",
            "3               1.6  https://disease.sh/assets/img/flags/ad.png  \n",
            "4              18.5  https://disease.sh/assets/img/flags/ao.png  \n",
            "\n",
            "[5 rows x 28 columns]\n"
          ]
        }
      ]
    },
    {
      "cell_type": "code",
      "source": [
        "\n",
        "\n",
        "# Step 3: Ingest Data from a CSV File\n",
        "# Example using the Iris dataset (direct CSV link):\n",
        "\n",
        "csv_url = \"leads-100.csv\"\n",
        "df_csv = pd.read_csv(csv_url)\n",
        "print(\"\\nData from CSV File:\")\n",
        "print(df_csv.head())\n",
        "\n",
        ""
      ],
      "metadata": {
        "colab": {
          "base_uri": "https://localhost:8080/"
        },
        "id": "IbBW_OGTcz12",
        "outputId": "6556d23a-551f-48c3-9345-2fe7c1fca789"
      },
      "execution_count": 11,
      "outputs": [
        {
          "output_type": "stream",
          "name": "stdout",
          "text": [
            "\n",
            "Data from CSV File:\n",
            "   Index       Account Id       Lead Owner First Name Last Name  \\\n",
            "0      1  0970F99ED4a2CE4    Bethany Dixon     Victor   Cochran   \n",
            "1      2  e9AABddbCA4AFee  Andres Callahan    Maureen   Fuentes   \n",
            "2      3  99CF54fE56dDc5e     Angel Ortega      Ralph   Murillo   \n",
            "3      4  5B8C661A897ACE3    Dana Mcdonald    Richard    Obrien   \n",
            "4      5  2C7aEb5e8F432Ab      Sharon Cruz      Terri     Perry   \n",
            "\n",
            "                   Company                Phone 1               Phone 2  \\\n",
            "0  Grimes, Madden and Huff        +1-532-344-1362            2754733370   \n",
            "1               Crosby Inc  001-672-799-2170x5610  +1-887-577-1205x5686   \n",
            "2         Velasquez-Hardin      985.939.5411x2641   +1-852-904-1856x071   \n",
            "3              Barrett Ltd           223.427.4047    (240)452-2332x4601   \n",
            "4             Maddox Group             4953467238          802-739-3164   \n",
            "\n",
            "                    Email 1                       Email 2  \\\n",
            "0  hatkinson@mclaughlin.com             ygibbs@guzman.com   \n",
            "1      bshelton@wilkins.org        hunter84@jefferson.com   \n",
            "2   mmooney@savage-shaw.com            kelsey70@leach.net   \n",
            "3       trankaren@parks.biz  normanvickie@giles-ewing.com   \n",
            "4     katiepruitt@bauer.com      collierjasmin@barton.com   \n",
            "\n",
            "                          Website           Source     Deal Stage  \\\n",
            "0  http://www.rosales-molina.com/  Retargeting Ads       New Lead   \n",
            "1   https://www.myers-mendez.biz/       Google Ads     Closed Won   \n",
            "2   https://www.chase-miller.com/          Chatbot      Contacted   \n",
            "3               http://watts.com/       Trade Show  Proposal Sent   \n",
            "4     http://vincent-harvey.info/         Referral    Closed Lost   \n",
            "\n",
            "                                        Notes  \n",
            "0                             Speak own such.  \n",
            "1                 Consumer environment still.  \n",
            "2          Onto goal father easy development.  \n",
            "3           Medical education throughout lay.  \n",
            "4  Manager poor this speak center team first.  \n"
          ]
        }
      ]
    },
    {
      "cell_type": "code",
      "source": [
        "\n",
        "\n",
        "# Step 4: Inspect and Compare Data\n",
        "# Perform basic inspection on both data sources.\n",
        "# Inspect columns and info for both DataFrames\n",
        "print(\"API Data Columns:\", df_api.columns)\n",
        "print(\"CSV Data Columns:\", df_csv.columns)\n",
        "\n",
        "print(\"\\nAPI Data Info:\")\n",
        "print(df_api.info())\n",
        "\n",
        "print(\"\\nCSV Data Info:\")\n",
        "print(df_csv.info())\n"
      ],
      "metadata": {
        "colab": {
          "base_uri": "https://localhost:8080/"
        },
        "id": "QL_HtTcfc2yy",
        "outputId": "e41ea7d1-b7d1-4898-ef1a-6c8b1f5004e2"
      },
      "execution_count": 12,
      "outputs": [
        {
          "output_type": "stream",
          "name": "stdout",
          "text": [
            "API Data Columns: Index(['updated', 'country', 'cases', 'todayCases', 'deaths', 'todayDeaths',\n",
            "       'recovered', 'todayRecovered', 'active', 'critical',\n",
            "       'casesPerOneMillion', 'deathsPerOneMillion', 'tests',\n",
            "       'testsPerOneMillion', 'population', 'continent', 'oneCasePerPeople',\n",
            "       'oneDeathPerPeople', 'oneTestPerPeople', 'activePerOneMillion',\n",
            "       'recoveredPerOneMillion', 'criticalPerOneMillion', 'countryInfo._id',\n",
            "       'countryInfo.iso2', 'countryInfo.iso3', 'countryInfo.lat',\n",
            "       'countryInfo.long', 'countryInfo.flag'],\n",
            "      dtype='object')\n",
            "CSV Data Columns: Index(['Index', 'Account Id', 'Lead Owner', 'First Name', 'Last Name',\n",
            "       'Company', 'Phone 1', 'Phone 2', 'Email 1', 'Email 2', 'Website',\n",
            "       'Source', 'Deal Stage', 'Notes'],\n",
            "      dtype='object')\n",
            "\n",
            "API Data Info:\n",
            "<class 'pandas.core.frame.DataFrame'>\n",
            "RangeIndex: 231 entries, 0 to 230\n",
            "Data columns (total 28 columns):\n",
            " #   Column                  Non-Null Count  Dtype  \n",
            "---  ------                  --------------  -----  \n",
            " 0   updated                 231 non-null    int64  \n",
            " 1   country                 231 non-null    object \n",
            " 2   cases                   231 non-null    int64  \n",
            " 3   todayCases              231 non-null    int64  \n",
            " 4   deaths                  231 non-null    int64  \n",
            " 5   todayDeaths             231 non-null    int64  \n",
            " 6   recovered               231 non-null    int64  \n",
            " 7   todayRecovered          231 non-null    int64  \n",
            " 8   active                  231 non-null    int64  \n",
            " 9   critical                231 non-null    int64  \n",
            " 10  casesPerOneMillion      231 non-null    int64  \n",
            " 11  deathsPerOneMillion     231 non-null    int64  \n",
            " 12  tests                   231 non-null    int64  \n",
            " 13  testsPerOneMillion      231 non-null    int64  \n",
            " 14  population              231 non-null    int64  \n",
            " 15  continent               231 non-null    object \n",
            " 16  oneCasePerPeople        231 non-null    int64  \n",
            " 17  oneDeathPerPeople       231 non-null    int64  \n",
            " 18  oneTestPerPeople        231 non-null    int64  \n",
            " 19  activePerOneMillion     231 non-null    float64\n",
            " 20  recoveredPerOneMillion  231 non-null    float64\n",
            " 21  criticalPerOneMillion   231 non-null    float64\n",
            " 22  countryInfo._id         229 non-null    float64\n",
            " 23  countryInfo.iso2        229 non-null    object \n",
            " 24  countryInfo.iso3        229 non-null    object \n",
            " 25  countryInfo.lat         231 non-null    float64\n",
            " 26  countryInfo.long        231 non-null    float64\n",
            " 27  countryInfo.flag        231 non-null    object \n",
            "dtypes: float64(6), int64(17), object(5)\n",
            "memory usage: 50.7+ KB\n",
            "None\n",
            "\n",
            "CSV Data Info:\n",
            "<class 'pandas.core.frame.DataFrame'>\n",
            "RangeIndex: 100 entries, 0 to 99\n",
            "Data columns (total 14 columns):\n",
            " #   Column      Non-Null Count  Dtype \n",
            "---  ------      --------------  ----- \n",
            " 0   Index       100 non-null    int64 \n",
            " 1   Account Id  100 non-null    object\n",
            " 2   Lead Owner  100 non-null    object\n",
            " 3   First Name  100 non-null    object\n",
            " 4   Last Name   100 non-null    object\n",
            " 5   Company     100 non-null    object\n",
            " 6   Phone 1     100 non-null    object\n",
            " 7   Phone 2     100 non-null    object\n",
            " 8   Email 1     100 non-null    object\n",
            " 9   Email 2     100 non-null    object\n",
            " 10  Website     100 non-null    object\n",
            " 11  Source      100 non-null    object\n",
            " 12  Deal Stage  100 non-null    object\n",
            " 13  Notes       100 non-null    object\n",
            "dtypes: int64(1), object(13)\n",
            "memory usage: 11.1+ KB\n",
            "None\n"
          ]
        }
      ]
    },
    {
      "cell_type": "markdown",
      "source": [
        "\n",
        "Step 5: Reflection Questions\n",
        "At the end of your notebook, answer these questions:\n",
        "\n",
        "What were the main steps for ingesting data from a REST API vs. a CSV?\n",
        "\n",
        "What are some possible challenges or error scenarios for each ingestion method?\n",
        "\n",
        "For your workflow, when would you prefer an API vs. a CSV file?"
      ],
      "metadata": {
        "id": "CqM8E5qrc7CV"
      }
    },
    {
      "cell_type": "markdown",
      "metadata": {
        "id": "120477b5"
      },
      "source": [
        "Here are the answers to the reflection questions:\n",
        "\n",
        "**What were the main steps for ingesting data from a REST API vs. a CSV?**\n",
        "\n",
        "**REST API:**\n",
        "1. Import necessary libraries (e.g., `requests` for fetching data, `pandas` for data manipulation).\n",
        "2. Define the API endpoint URL.\n",
        "3. Make an HTTP GET request to the API endpoint using `requests.get()`.\n",
        "4. Parse the JSON response from the API using the `.json()` method.\n",
        "5. Convert the relevant part of the JSON data (e.g., the 'results' list) into a pandas DataFrame using `pd.json_normalize()`.\n",
        "\n",
        "**CSV File:**\n",
        "1. Import the `pandas` library.\n",
        "2. Define the URL or file path to the CSV file.\n",
        "3. Read the CSV file directly into a pandas DataFrame using `pd.read_csv()`.\n",
        "\n",
        "**What are some possible challenges or error scenarios for each ingestion method?**\n",
        "\n",
        "**REST API:**\n",
        "*   **API Rate Limits:** APIs often have limits on how many requests you can make in a given time frame. Exceeding these limits will result in errors.\n",
        "*   **Authentication/Authorization:** Many APIs require API keys or tokens for access, which need to be handled securely.\n",
        "*   **API Changes:** The API structure or endpoint might change, breaking your code.\n",
        "*   **Network Issues:** Connectivity problems or slow network speeds can cause requests to fail or time out.\n",
        "*   **Data Format Inconsistencies:** While JSON is common, variations in the structure can require careful parsing.\n",
        "*   **API Downtime:** The API service could be temporarily unavailable.\n",
        "\n",
        "**CSV File:**\n",
        "*   **Incorrect File Path or URL:** The file might not exist at the specified location.\n",
        "*   **Incorrect Delimiter or Encoding:** CSV files can use different delimiters (comma, semicolon, tab) or character encodings, which can cause parsing issues.\n",
        "*   **Malformatted Data:** Inconsistent rows, extra commas, or missing values can lead to errors during reading.\n",
        "*   **Large File Size:** Very large CSV files can consume a lot of memory and take a long time to load.\n",
        "*   **Changes in File Structure:** If columns are added, removed, or reordered, the code reading the file may break.\n",
        "*   **Data Type Issues:** Pandas might infer incorrect data types, requiring manual conversion.\n",
        "\n",
        "**For your workflow, when would you prefer an API vs. a CSV file?**\n",
        "\n",
        "**Prefer API when:**\n",
        "*   You need real-time or near-real-time data.\n",
        "*   The data is frequently updated.\n",
        "*   You only need a subset of the data based on specific parameters (APIs often allow filtering).\n",
        "*   You need to interact with the data (e.g., send data back to the source).\n",
        "*   The data source is dynamic and changes frequently.\n",
        "\n",
        "**Prefer CSV file when:**\n",
        "*   You need a static snapshot of the data.\n",
        "*   The data is not updated frequently.\n",
        "*   You need to process the entire dataset at once.\n",
        "*   The data source is readily available as a file and doesn't require complex querying.\n",
        "*   You are working with historical data archives.\n",
        "*   Simplicity and ease of use are paramount for smaller datasets."
      ]
    }
  ]
}