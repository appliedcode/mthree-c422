{
  "cells": [
    {
      "cell_type": "markdown",
      "metadata": {
        "id": "view-in-github",
        "colab_type": "text"
      },
      "source": [
        "<a href=\"https://colab.research.google.com/github/appliedcode/mthree-c422/blob/main/Exercises/day-6/Feature_Engineerring_with_Validation/Practice.ipynb\" target=\"_parent\"><img src=\"https://colab.research.google.com/assets/colab-badge.svg\" alt=\"Open In Colab\"/></a>"
      ]
    },
    {
      "cell_type": "markdown",
      "source": [
        "## Additional Lab Exercises: Feature Engineering & Validation Pipelines\n",
        "\n",
        "Below are three self-guided exercises. For each, students should build reusable `clean_data()`, `engineer_features()`, and `validate_data()` functions in Colab. Direct CSV links are provided.\n",
        "\n",
        "---\n",
        "\n",
        "### Exercise 1: Diabetes Risk Prediction Pipeline\n",
        "\n",
        "**Dataset (Pima Indians Diabetes):**  \n",
        "https://raw.githubusercontent.com/plotly/datasets/master/diabetes.csv\n",
        "\n",
        "**Tasks**  \n",
        "1. **Clean Data**  \n",
        "   - Identify zero values in physiological measures (e.g., `Glucose`, `BloodPressure`) and replace with column medians.  \n",
        "   - Drop duplicate rows.  \n",
        "2. **Feature Engineering**  \n",
        "   - Create BMI categories (`Underweight`, `Normal`, `Overweight`, `Obese`) from `BMI`.  \n",
        "   - Compute `age_bin` by decade.  \n",
        "   - Generate interaction term `Glucose*Insulin`.  \n",
        "3. **Validation**  \n",
        "   - Assert no nulls remain.  \n",
        "   - Check that all new categorical bins cover expected ranges.  \n",
        "\n",
        "---\n",
        "\n",
        "### Exercise 2: Customer Churn Prediction Pipeline\n",
        "\n",
        "**Dataset (Telco Customer Churn):**  \n",
        "https://raw.githubusercontent.com/blastchar/telco-customer-churn/master/WA_Fn-UseC_-Telco-Customer-Churn.csv\n",
        "\n",
        "**Tasks**  \n",
        "1. **Clean Data**  \n",
        "   - Convert `TotalCharges` to numeric, coerce errors, then impute missing.  \n",
        "   - Drop `customerID`.  \n",
        "2. **Feature Engineering**  \n",
        "   - Create `tenure_group` (e.g., `0-12`,`13-24`,…) from `tenure`.  \n",
        "   - Compute `avg_charges_per_month = TotalCharges / tenure`.  \n",
        "   - Encode `Contract` and `PaymentMethod` with one-hot encoding.  \n",
        "3. **Validation**  \n",
        "   - Verify no infinite values in `avg_charges_per_month`.  \n",
        "   - Confirm all `tenure_group` labels appear at least once.  \n",
        "\n",
        "---\n",
        "\n",
        "### Exercise 3: House Price Modeling Pipeline\n",
        "\n",
        "**Dataset (Ames Housing – from Kaggle):**  \n",
        "https://raw.githubusercontent.com/ageron/handson-ml/master/datasets/housing/housing.csv  *(Use as proxy for Kaggle)*\n",
        "\n",
        "**Tasks**  \n",
        "1. **Clean Data**  \n",
        "   - Impute `total_bedrooms` median.  \n",
        "   - Drop `ocean_proximity` outliers (if any).  \n",
        "2. **Feature Engineering**  \n",
        "   - Create `rooms_per_household`, `bedrooms_per_room`, `population_per_household`.  \n",
        "   - Bin `median_income` into quartiles.  \n",
        "   - Log-transform `median_house_value`.  \n",
        "3. **Validation**  \n",
        "   - Ensure no negative or zero values in ratio features.  \n",
        "   - Check that log transformation values are finite.  \n",
        "\n",
        "---"
      ],
      "metadata": {
        "id": "RpsOG3v9XMxn"
      }
    }
  ],
  "metadata": {
    "colab": {
      "name": "Welcome to Colab",
      "provenance": [],
      "include_colab_link": true
    },
    "kernelspec": {
      "display_name": "Python 3",
      "name": "python3"
    }
  },
  "nbformat": 4,
  "nbformat_minor": 0
}