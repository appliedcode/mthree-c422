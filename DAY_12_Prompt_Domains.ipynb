{
  "nbformat": 4,
  "nbformat_minor": 0,
  "metadata": {
    "colab": {
      "provenance": [],
      "authorship_tag": "ABX9TyNr/z2xRgeKDZrgbH1Sn+uP",
      "include_colab_link": true
    },
    "kernelspec": {
      "name": "python3",
      "display_name": "Python 3"
    },
    "language_info": {
      "name": "python"
    }
  },
  "cells": [
    {
      "cell_type": "markdown",
      "metadata": {
        "id": "view-in-github",
        "colab_type": "text"
      },
      "source": [
        "<a href=\"https://colab.research.google.com/github/appliedcode/mthree-c422/blob/c422_Mounika/DAY_12_Prompt_Domains.ipynb\" target=\"_parent\"><img src=\"https://colab.research.google.com/assets/colab-badge.svg\" alt=\"Open In Colab\"/></a>"
      ]
    },
    {
      "cell_type": "code",
      "execution_count": null,
      "metadata": {
        "colab": {
          "base_uri": "https://localhost:8080/"
        },
        "id": "E2nrHOA5qBwf",
        "outputId": "3722d7ac-43f2-45ca-a5b7-5094b20cd2e9"
      },
      "outputs": [
        {
          "output_type": "stream",
          "name": "stdout",
          "text": [
            "✅ OpenAI API key loaded safely\n"
          ]
        }
      ],
      "source": [
        "from google.colab import userdata\n",
        "import os\n",
        "\n",
        "# Set your OpenAI API key securely in Colab Secrets (once)\n",
        "# userdata.set(\"OPENAI_API_KEY\", \"your-api-key-here\")\n",
        "\n",
        "# Retrieve key in your notebook\n",
        "openai_api_key = userdata.get(\"OPENAI_API_KEY\")\n",
        "if openai_api_key:\n",
        "    os.environ[\"OPENAI_API_KEY\"] = openai_api_key\n",
        "    print(\"✅ OpenAI API key loaded safely\")\n",
        "else:\n",
        "    print(\"❌ OpenAI API key not found. Please set it using Colab Secrets.\")\n"
      ]
    },
    {
      "cell_type": "code",
      "source": [
        "!pip install --quiet openai -q\n",
        "# Create client\n",
        "from openai import OpenAI\n",
        "client = OpenAI(api_key=os.environ[\"OPENAI_API_KEY\"])\n"
      ],
      "metadata": {
        "id": "2Rwl8cLnqRgP"
      },
      "execution_count": null,
      "outputs": []
    },
    {
      "cell_type": "code",
      "source": [
        "# Helper Function to Send Prompts\n",
        "def generate_response(prompt, model=\"gpt-4o-mini\", temperature=0.7):\n",
        "    \"\"\"\n",
        "    Send a prompt to the OpenAI model and return the response text.\n",
        "    \"\"\"\n",
        "    try:\n",
        "        completion = client.chat.completions.create(\n",
        "            model=model,\n",
        "            messages=[{\"role\": \"user\", \"content\": prompt}],\n",
        "            temperature=temperature\n",
        "        )\n",
        "        return completion.choices[0].message.content.strip()\n",
        "    except Exception as e:\n",
        "        return f\"Error: {e}\""
      ],
      "metadata": {
        "id": "GOMI2q7lqZTr"
      },
      "execution_count": null,
      "outputs": []
    },
    {
      "cell_type": "code",
      "source": [
        "prompt = \"\"\"\n",
        "You are a friendly customer service chatbot named HelpBot.\n",
        "Answer user questions clearly and positively.\n",
        "If you don't know the answer, politely say you will follow up.\n",
        "User: How do I reset my password?\n",
        "HelpBot:\n",
        "\"\"\"\n",
        "\n",
        "response = generate_response(prompt)\n",
        "print(response)"
      ],
      "metadata": {
        "colab": {
          "base_uri": "https://localhost:8080/"
        },
        "id": "jrhF7LSYqexq",
        "outputId": "0ca9eb3f-0c27-444b-ffed-16f8f8b5e135"
      },
      "execution_count": null,
      "outputs": [
        {
          "output_type": "stream",
          "name": "stdout",
          "text": [
            "To reset your password, please follow these steps:\n",
            "\n",
            "1. Go to the login page of the website or app.\n",
            "2. Click on the \"Forgot Password?\" link.\n",
            "3. Enter your email address associated with your account and submit the form.\n",
            "4. Check your email for a password reset link. Make sure to check your spam or junk folder if you don’t see it in your inbox.\n",
            "5. Follow the instructions in the email to create a new password.\n",
            "\n",
            "If you have any trouble, feel free to ask for more help!\n"
          ]
        }
      ]
    },
    {
      "cell_type": "code",
      "source": [
        "few_shot_prompt = \"\"\"\n",
        "You are HelpBot, a friendly customer service chatbot.\n",
        "\n",
        "User: How do I reset my password?\n",
        "HelpBot: To reset your password, go to account settings and click 'Forgot Password'.\n",
        "\n",
        "User: What is your refund policy?\n",
        "HelpBot: We offer refunds within 30 days of purchase; please contact support.\n",
        "\n",
        "User: How do I update my shipping address?\n",
        "HelpBot:\n",
        "\"\"\"\n",
        "\n",
        "response = generate_response(few_shot_prompt)\n",
        "print(response)"
      ],
      "metadata": {
        "colab": {
          "base_uri": "https://localhost:8080/"
        },
        "id": "wivuwAJgqn1I",
        "outputId": "55dda8da-e592-41c1-8ad8-1e4d94807ac4"
      },
      "execution_count": null,
      "outputs": [
        {
          "output_type": "stream",
          "name": "stdout",
          "text": [
            "To update your shipping address, log into your account, go to your profile or account settings, and select 'Shipping Address' to make the necessary changes. If you need further assistance, feel free to reach out!\n"
          ]
        }
      ]
    },
    {
      "cell_type": "code",
      "source": [
        "article_text = \"\"\"\n",
        "Artificial intelligence (AI) is transforming many industries by automating tasks and generating new insights.\n",
        "AI technologies include machine learning, natural language processing, and computer vision.\n",
        "\"\"\"\n",
        "\n",
        "prompt = f\"Summarize the following text in two sentences:\\n\\n{article_text}\"\n",
        "\n",
        "response = generate_response(prompt)\n",
        "print(response)"
      ],
      "metadata": {
        "colab": {
          "base_uri": "https://localhost:8080/"
        },
        "id": "7rpyipYAqvAo",
        "outputId": "18801a22-bf50-40f0-e86b-a3c8c1c2aaff"
      },
      "execution_count": null,
      "outputs": [
        {
          "output_type": "stream",
          "name": "stdout",
          "text": [
            "Artificial intelligence (AI) is revolutionizing various industries through task automation and the generation of new insights. Key AI technologies encompass machine learning, natural language processing, and computer vision.\n"
          ]
        }
      ]
    },
    {
      "cell_type": "code",
      "source": [
        "prompt_bullets = f\"\"\"\n",
        "Summarize the following text into 3 concise bullet points:\n",
        "\n",
        "{article_text}\n",
        "\"\"\"\n",
        "\n",
        "response = generate_response(prompt_bullets)\n",
        "print(response)\n"
      ],
      "metadata": {
        "colab": {
          "base_uri": "https://localhost:8080/"
        },
        "id": "QYCKhQTsq2kg",
        "outputId": "f4a00872-405f-4817-d249-4fcdf99c597e"
      },
      "execution_count": null,
      "outputs": [
        {
          "output_type": "stream",
          "name": "stdout",
          "text": [
            "- AI is revolutionizing various industries through task automation and insight generation.\n",
            "- Key AI technologies encompass machine learning, natural language processing, and computer vision.\n"
          ]
        }
      ]
    },
    {
      "cell_type": "code",
      "source": [
        "\n",
        "code_prompt = \"\"\"\n",
        "Write a Python function to sort a list of integers using bubble sort.\n",
        "Include comments explaining each step.\n",
        "\"\"\"\n",
        "\n",
        "response = generate_response(code_prompt)\n",
        "print(response)"
      ],
      "metadata": {
        "colab": {
          "base_uri": "https://localhost:8080/"
        },
        "id": "y3y3_ddkq_-c",
        "outputId": "1e14358b-4de5-440b-82f7-fb5e904d3f81"
      },
      "execution_count": null,
      "outputs": [
        {
          "output_type": "stream",
          "name": "stdout",
          "text": [
            "Certainly! Below is a Python function that implements the bubble sort algorithm to sort a list of integers. I've included comments to explain each step of the process.\n",
            "\n",
            "```python\n",
            "def bubble_sort(arr):\n",
            "    \"\"\"\n",
            "    Sorts a list of integers using the bubble sort algorithm.\n",
            "    \n",
            "    :param arr: List of integers to be sorted\n",
            "    :return: Sorted list of integers\n",
            "    \"\"\"\n",
            "    n = len(arr)  # Get the number of elements in the list\n",
            "    \n",
            "    # Traverse through all elements in the list\n",
            "    for i in range(n):\n",
            "        # Initialize a flag to track if any swaps were made\n",
            "        swapped = False\n",
            "        \n",
            "        # Last i elements are already in place, no need to check them\n",
            "        for j in range(0, n - i - 1):\n",
            "            # Compare the current element with the next element\n",
            "            if arr[j] > arr[j + 1]:\n",
            "                # If the current element is greater, swap them\n",
            "                arr[j], arr[j + 1] = arr[j + 1], arr[j]\n",
            "                # Set the flag to True indicating a swap occurred\n",
            "                swapped = True\n",
            "        \n",
            "        # If no two elements were swapped in the inner loop, the array is sorted\n",
            "        if not swapped:\n",
            "            break\n",
            "\n",
            "    return arr  # Return the sorted list\n",
            "\n",
            "# Example usage:\n",
            "unsorted_list = [64, 34, 25, 12, 22, 11, 90]\n",
            "sorted_list = bubble_sort(unsorted_list)\n",
            "print(\"Sorted list:\", sorted_list)\n",
            "```\n",
            "\n",
            "### Explanation of the Code:\n",
            "1. **Function Definition**: The function `bubble_sort` takes a list `arr` as input.\n",
            "2. **Length Calculation**: `n` is determined as the length of the list, which is used to control the number of iterations.\n",
            "3. **Outer Loop**: The outer loop runs `n` times, where `i` is the current pass number. After each pass, the largest unsorted element will have \"bubbled\" to its correct position.\n",
            "4. **Inner Loop**: The inner loop compares adjacent elements of the list. \n",
            "   - It runs from the start of the list up to `n - i - 1`, as the last `i` elements are already sorted.\n",
            "5. **Comparison and Swapping**: If an element is greater than the next element, a swap occurs, and the `swapped` flag is set to `True`.\n",
            "6. **Early Exit**: If no swaps were made during a pass (indicating the list is already sorted), the function breaks out of the loop early.\n",
            "7. **Return**: Finally, the sorted list is returned.\n",
            "\n",
            "### Example Usage:\n",
            "The example usage demonstrates how to call the `bubble_sort` function with an unsorted list, and it prints the sorted result.\n"
          ]
        }
      ]
    },
    {
      "cell_type": "code",
      "source": [
        "js_prompt = \"\"\"\n",
        "Write a JavaScript function to perform bubble sort on an array of numbers.\n",
        "Include comments explaining the logic.\n",
        "\"\"\"\n",
        "\n",
        "response = generate_response(js_prompt)\n",
        "print(response)"
      ],
      "metadata": {
        "colab": {
          "base_uri": "https://localhost:8080/"
        },
        "id": "_SVXo9DfrHdD",
        "outputId": "1ac50a87-67aa-468c-8513-6a123c6e4db7"
      },
      "execution_count": null,
      "outputs": [
        {
          "output_type": "stream",
          "name": "stdout",
          "text": [
            "Certainly! Below is a JavaScript function that implements the bubble sort algorithm. I've included comments to explain each part of the code.\n",
            "\n",
            "```javascript\n",
            "/**\n",
            " * Bubble Sort Algorithm\n",
            " * This function sorts an array of numbers using the bubble sort technique.\n",
            " * \n",
            " * @param {number[]} arr - The array of numbers to be sorted.\n",
            " * @return {number[]} - The sorted array.\n",
            " */\n",
            "function bubbleSort(arr) {\n",
            "    // Get the length of the array\n",
            "    const n = arr.length;\n",
            "\n",
            "    // Outer loop to keep track of the number of passes\n",
            "    for (let i = 0; i < n - 1; i++) {\n",
            "        // Flag to detect if any swapping happened in this pass\n",
            "        let swapped = false;\n",
            "\n",
            "        // Inner loop to compare adjacent elements\n",
            "        for (let j = 0; j < n - 1 - i; j++) {\n",
            "            // If the current element is greater than the next element, swap them\n",
            "            if (arr[j] > arr[j + 1]) {\n",
            "                // Swap the elements\n",
            "                let temp = arr[j];\n",
            "                arr[j] = arr[j + 1];\n",
            "                arr[j + 1] = temp;\n",
            "\n",
            "                // Set the flag to true indicating a swap occurred\n",
            "                swapped = true;\n",
            "            }\n",
            "        }\n",
            "\n",
            "        // If no two elements were swapped in the inner loop, the array is sorted\n",
            "        if (!swapped) {\n",
            "            break;\n",
            "        }\n",
            "    }\n",
            "\n",
            "    // Return the sorted array\n",
            "    return arr;\n",
            "}\n",
            "\n",
            "// Example usage:\n",
            "const numbers = [64, 34, 25, 12, 22, 11, 90];\n",
            "const sortedNumbers = bubbleSort(numbers);\n",
            "console.log(sortedNumbers); // Output: [11, 12, 22, 25, 34, 64, 90]\n",
            "```\n",
            "\n",
            "### Explanation of the Code:\n",
            "1. **Function Definition**: We define a function `bubbleSort` that takes an array of numbers as its parameter.\n",
            "\n",
            "2. **Length Calculation**: We calculate the length of the array `n` to determine how many passes we need.\n",
            "\n",
            "3. **Outer Loop**: The outer loop runs `n-1` times because in each pass, the largest unsorted element is placed at its correct position. After `n-1` passes, the array will be sorted.\n",
            "\n",
            "4. **Swapping Flag**: A flag `swapped` is used to keep track of whether any elements were swapped during the inner loop. If no elements were swapped, it means the array is already sorted.\n",
            "\n",
            "5. **Inner Loop**: The inner loop compares adjacent elements. If the current element is greater than the next one, they are swapped to move the larger element towards the end of the array.\n",
            "\n",
            "6. **Swapping Elements**: The elements are swapped using a temporary variable `temp`.\n",
            "\n",
            "7. **Early Exit**: If no swaps occurred during a full pass through the array, the algorithm breaks early, making it more efficient for nearly sorted arrays.\n",
            "\n",
            "8. **Return the Sorted Array**: Finally, the sorted array is returned.\n",
            "\n",
            "Feel free to test the function with different arrays of numbers!\n"
          ]
        }
      ]
    },
    {
      "cell_type": "code",
      "source": [
        "text = \"\"\"\n",
        "Contact John Doe at john.doe@example.com or call him at +1 (555) 123-4567.\n",
        "\"\"\"\n",
        "\n",
        "prompt = f\"\"\"\n",
        "Extract the name, email, and phone number from the following text and output as JSON:\n",
        "{text}\n",
        "\"\"\"\n",
        "\n",
        "response = generate_response(prompt)\n",
        "print(response)"
      ],
      "metadata": {
        "colab": {
          "base_uri": "https://localhost:8080/"
        },
        "id": "b-O5b1K_rTDo",
        "outputId": "ef5b1da2-4dc5-415d-c08c-0b965cec134f"
      },
      "execution_count": null,
      "outputs": [
        {
          "output_type": "stream",
          "name": "stdout",
          "text": [
            "```json\n",
            "{\n",
            "  \"name\": \"John Doe\",\n",
            "  \"email\": \"john.doe@example.com\",\n",
            "  \"phone\": \"+1 (555) 123-4567\"\n",
            "}\n",
            "```\n"
          ]
        }
      ]
    },
    {
      "cell_type": "code",
      "source": [
        "feedback = \"\"\"\n",
        "I bought the laptop last month and it works great, but the battery life could be better.\n",
        "Customer: Alice Smith\n",
        "Date: 2025-07-20\n",
        "\"\"\"\n",
        "\n",
        "prompt = f\"\"\"\n",
        "Extract the customer name, date, product feedback summary, and sentiment (positive/negative) as JSON:\n",
        "\n",
        "{feedback}\n",
        "\"\"\"\n",
        "\n",
        "response = generate_response(prompt)\n",
        "print(response)"
      ],
      "metadata": {
        "colab": {
          "base_uri": "https://localhost:8080/"
        },
        "id": "_pXa2JgErZuu",
        "outputId": "6df5e1b2-777a-4f30-9e28-cf7d13b94007"
      },
      "execution_count": null,
      "outputs": [
        {
          "output_type": "stream",
          "name": "stdout",
          "text": [
            "```json\n",
            "{\n",
            "  \"customer_name\": \"Alice Smith\",\n",
            "  \"date\": \"2025-07-20\",\n",
            "  \"product_feedback_summary\": \"I bought the laptop last month and it works great, but the battery life could be better.\",\n",
            "  \"sentiment\": \"mixed\"\n",
            "}\n",
            "```\n"
          ]
        }
      ]
    },
    {
      "cell_type": "markdown",
      "source": [
        "EX-1\n"
      ],
      "metadata": {
        "id": "zgFEqZt2rqlH"
      }
    },
    {
      "cell_type": "code",
      "source": [
        "prompt = \"\"\"\n",
        "You are a budget travel advisor chatbot who is friendly and concise.\n",
        "Give 3 cheap accommodation tips for backpackers traveling to {destination}.\n",
        "\"\"\"\n",
        "for place in [\"Thailand\", \"Spain\", \"Peru\"]:\n",
        "    print(f\"--- {place} ---\")\n",
        "    print(generate_response(prompt.format(destination=place)), \"\\n\")"
      ],
      "metadata": {
        "colab": {
          "base_uri": "https://localhost:8080/"
        },
        "id": "ne2Ykizartb4",
        "outputId": "950cc408-f3bd-4a95-9a82-04d34d61b542"
      },
      "execution_count": null,
      "outputs": [
        {
          "output_type": "stream",
          "name": "stdout",
          "text": [
            "--- Thailand ---\n",
            "Sure! Here are three budget-friendly accommodation tips for backpackers traveling to Thailand:\n",
            "\n",
            "1. **Hostels**: Look for hostels in popular tourist areas. They typically offer dormitory-style rooms at affordable rates, often with social spaces and kitchens. Websites like Hostelworld or Booking.com can help you find the best deals.\n",
            "\n",
            "2. **Guesthouses**: Consider staying in family-run guesthouses. They often provide a more personal experience and can be cheaper than hotels. Plus, you may get local insights and tips from the owners.\n",
            "\n",
            "3. **Couchsurfing**: Use platforms like Couchsurfing to find free accommodation by staying with locals. It’s a great way to meet new people and experience Thai culture firsthand without spending a dime on lodging.\n",
            "\n",
            "Happy travels! \n",
            "\n",
            "--- Spain ---\n",
            "Sure! Here are three budget-friendly accommodation tips for backpackers traveling to Spain:\n",
            "\n",
            "1. **Hostels**: Look for hostels in major cities like Barcelona and Madrid. They offer dormitory-style rooms at affordable rates and often provide kitchen facilities, which can save you money on meals.\n",
            "\n",
            "2. **Couchsurfing**: Consider using Couchsurfing to find locals willing to host you for free. It’s a great way to meet new people and experience the culture from a local's perspective.\n",
            "\n",
            "3. **Guesthouses and Pensions**: Search for family-run guesthouses or pensions, especially in smaller towns. They often have lower rates than hotels and provide a cozy atmosphere with a personal touch.\n",
            "\n",
            "Happy travels! \n",
            "\n",
            "--- Peru ---\n",
            "Sure! Here are three budget-friendly accommodation tips for backpackers traveling to Peru:\n",
            "\n",
            "1. **Hostels:** Look for hostels in major cities like Lima, Cusco, and Arequipa. They often offer dormitory-style rooms at affordable rates and provide a social atmosphere, perfect for meeting fellow travelers.\n",
            "\n",
            "2. **Guesthouses and Homestays:** Consider staying in local guesthouses or homestays, which can be cheaper than hotels. These options often provide a more authentic experience and a chance to connect with local families.\n",
            "\n",
            "3. **Camping:** If you're adventurous, check for camping options, especially around places like the Inca Trail or Colca Canyon. Some hostels allow you to pitch a tent in their backyard for a minimal fee, and it’s a great way to save money while enjoying nature!\n",
            "\n",
            "Happy travels! \n",
            "\n"
          ]
        }
      ]
    },
    {
      "cell_type": "code",
      "source": [
        "few_shot = \"\"\"\n",
        "You are BookHelper, the online bookstore assistant.\n",
        "\n",
        "User: How do I track my book order?\n",
        "BookHelper: Log in, go to 'Orders', click the order ID to track.\n",
        "\n",
        "User: Can I return a damaged book?\n",
        "BookHelper: Yes, damaged books can be returned within 14 days for free.\n",
        "\n",
        "User: Do you ship internationally?\n",
        "BookHelper: Yes, we ship to over 50 countries with added shipping costs.\n",
        "\n",
        "User: What are your audiobook prices?\n",
        "BookHelper:\n",
        "\"\"\"\n",
        "\n",
        "print(generate_response(few_shot))"
      ],
      "metadata": {
        "colab": {
          "base_uri": "https://localhost:8080/"
        },
        "id": "mWYTkPcsr89W",
        "outputId": "383ab6e8-0a8e-4c79-a939-8023d169389a"
      },
      "execution_count": null,
      "outputs": [
        {
          "output_type": "stream",
          "name": "stdout",
          "text": [
            "Our audiobook prices vary depending on the title and publisher. You can find specific prices listed on each audiobook's product page. Additionally, we often have sales and promotions, so keep an eye out for special deals! If you have a specific title in mind, I can help you find its price.\n"
          ]
        }
      ]
    },
    {
      "cell_type": "code",
      "source": [
        "article = \"\"\"\n",
        "Space exploration has advanced through new rocket technologies, private sector involvement,\n",
        "and upcoming Mars missions. AI is helping design spacecraft and analyze space data.\n",
        "\"\"\"\n",
        "print(\"--- 2-sentence summary ---\")\n",
        "print(generate_response(f\"Summarize in 2 sentences:\\n{article}\\n\"), \"\\n\")\n",
        "\n",
        "print(\"--- 5-bullet facts ---\")\n",
        "print(generate_response(f\"Summarize into 5 bullet points:\\n{article}\\n\"), \"\\n\")\n",
        "\n",
        "print(\"--- Child-friendly summary ---\")\n",
        "print(generate_response(f\"Explain for a 10-year-old in 3 sentences:\\n{article}\"))"
      ],
      "metadata": {
        "colab": {
          "base_uri": "https://localhost:8080/"
        },
        "id": "YPk-Bw8rsOuN",
        "outputId": "80fc1030-8d1d-4d00-a193-7486977930e6"
      },
      "execution_count": null,
      "outputs": [
        {
          "output_type": "stream",
          "name": "stdout",
          "text": [
            "--- 2-sentence summary ---\n",
            "Recent advancements in space exploration are fueled by innovative rocket technologies, increased participation from the private sector, and forthcoming missions to Mars. Additionally, artificial intelligence is playing a crucial role in spacecraft design and the analysis of space-related data. \n",
            "\n",
            "--- 5-bullet facts ---\n",
            "- Advancements in rocket technologies have significantly propelled space exploration efforts.\n",
            "- The involvement of the private sector is playing a crucial role in expanding space missions and capabilities.\n",
            "- Upcoming missions to Mars are on the horizon, promising new discoveries and exploration opportunities.\n",
            "- Artificial intelligence is being utilized to enhance spacecraft design and improve the analysis of space data.\n",
            "- These combined efforts are driving the future of space exploration forward at an unprecedented pace. \n",
            "\n",
            "--- Child-friendly summary ---\n",
            "Space exploration is getting better because of new types of rockets and companies that want to help explore space. Smart computers, called AI, are being used to create better spacecraft and to understand all the information we gather from space. Soon, we will also be sending missions to Mars to learn more about the planet!\n"
          ]
        }
      ]
    },
    {
      "cell_type": "code",
      "source": [
        "long_text = \"\"\"\n",
        "The project faced numerous challenges including budget cuts, resource mismanagement,\n",
        "and delays from supply chain disruptions. While the introduction celebrated the vision,\n",
        "it became clear that leadership turnover also contributed to issues.\n",
        "\"\"\"\n",
        "prompt = f\"From the text below, list ONLY the challenges mentioned:\\n{long_text}\"\n",
        "print(generate_response(prompt))"
      ],
      "metadata": {
        "colab": {
          "base_uri": "https://localhost:8080/"
        },
        "id": "PT4bXDVIsigD",
        "outputId": "95fb7ccf-ebc1-43f3-b9c2-ce7bc0beceb1"
      },
      "execution_count": null,
      "outputs": [
        {
          "output_type": "stream",
          "name": "stdout",
          "text": [
            "1. Budget cuts  \n",
            "2. Resource mismanagement  \n",
            "3. Delays from supply chain disruptions  \n",
            "4. Leadership turnover\n"
          ]
        }
      ]
    },
    {
      "cell_type": "code",
      "source": [
        "langs = {\n",
        "    \"Python\": \"Write a Python function to generate first 10 Fibonacci numbers with comments.\",\n",
        "    \"JavaScript\": \"Write a JavaScript function to generate first 10 Fibonacci numbers with comments.\",\n",
        "    \"Java\": \"Write a Java program to print first 10 Fibonacci numbers with comments.\"\n",
        "}\n",
        "for lang, prompt in langs.items():\n",
        "    print(f\"--- {lang} ---\")\n",
        "    print(generate_response(prompt), \"\\n\")"
      ],
      "metadata": {
        "colab": {
          "base_uri": "https://localhost:8080/"
        },
        "id": "ctUke2fnswQg",
        "outputId": "328f5d14-c702-4ab5-ae93-95ad9ea6b59a"
      },
      "execution_count": null,
      "outputs": [
        {
          "output_type": "stream",
          "name": "stdout",
          "text": [
            "--- Python ---\n",
            "Certainly! Below is a Python function that generates the first 10 Fibonacci numbers, along with comments explaining each part of the code.\n",
            "\n",
            "```python\n",
            "def generate_fibonacci(n):\n",
            "    \"\"\"\n",
            "    Generate the first n Fibonacci numbers.\n",
            "\n",
            "    Parameters:\n",
            "    n (int): The number of Fibonacci numbers to generate.\n",
            "\n",
            "    Returns:\n",
            "    list: A list containing the first n Fibonacci numbers.\n",
            "    \"\"\"\n",
            "    # Initialize a list to hold the Fibonacci numbers\n",
            "    fibonacci_numbers = []\n",
            "    \n",
            "    # The first two Fibonacci numbers\n",
            "    a, b = 0, 1\n",
            "    \n",
            "    # Generate Fibonacci numbers until we have n numbers\n",
            "    for _ in range(n):\n",
            "        # Append the current Fibonacci number to the list\n",
            "        fibonacci_numbers.append(a)\n",
            "        \n",
            "        # Update a and b for the next Fibonacci number\n",
            "        a, b = b, a + b\n",
            "    \n",
            "    return fibonacci_numbers\n",
            "\n",
            "# Generate the first 10 Fibonacci numbers\n",
            "first_10_fibonacci = generate_fibonacci(10)\n",
            "\n",
            "# Print the result\n",
            "print(first_10_fibonacci)\n",
            "```\n",
            "\n",
            "### Explanation:\n",
            "- The function `generate_fibonacci` takes an integer `n` as input, which specifies how many Fibonacci numbers to generate.\n",
            "- It initializes an empty list called `fibonacci_numbers` to store the Fibonacci numbers.\n",
            "- It sets the first two Fibonacci numbers `a` (0) and `b` (1).\n",
            "- A `for` loop runs `n` times, appending the current Fibonacci number (`a`) to the list and then updating `a` and `b` to the next two Fibonacci numbers in the sequence.\n",
            "- Finally, it returns the list of Fibonacci numbers generated.\n",
            "- The last part of the code calls this function to get the first 10 Fibonacci numbers and prints them. \n",
            "\n",
            "--- JavaScript ---\n",
            "Certainly! Below is a JavaScript function that generates the first 10 Fibonacci numbers, along with comments to explain each part of the code.\n",
            "\n",
            "```javascript\n",
            "function generateFibonacci(n) {\n",
            "    // Initialize an array to hold the Fibonacci numbers\n",
            "    let fibonacciNumbers = [];\n",
            "\n",
            "    // Start with the first two Fibonacci numbers\n",
            "    let a = 0; // First Fibonacci number\n",
            "    let b = 1; // Second Fibonacci number\n",
            "\n",
            "    // Loop to generate the Fibonacci numbers\n",
            "    for (let i = 0; i < n; i++) {\n",
            "        // Push the current Fibonacci number (a) to the array\n",
            "        fibonacciNumbers.push(a);\n",
            "        \n",
            "        // Calculate the next Fibonacci number\n",
            "        let next = a + b; // The next number is the sum of the last two numbers\n",
            "        \n",
            "        // Update a and b for the next iteration\n",
            "        a = b; // Move to the next number in the sequence\n",
            "        b = next; // Update b to the new Fibonacci number\n",
            "    }\n",
            "\n",
            "    // Return the array containing the Fibonacci numbers\n",
            "    return fibonacciNumbers;\n",
            "}\n",
            "\n",
            "// Call the function to generate the first 10 Fibonacci numbers\n",
            "const first10Fibonacci = generateFibonacci(10);\n",
            "\n",
            "// Log the result to the console\n",
            "console.log(first10Fibonacci);\n",
            "```\n",
            "\n",
            "### Explanation of the Code:\n",
            "1. **Function Definition**: We define a function `generateFibonacci` that takes one parameter `n`, which specifies how many Fibonacci numbers to generate.\n",
            "2. **Array Initialization**: We create an empty array `fibonacciNumbers` to store the generated Fibonacci numbers.\n",
            "3. **Initial Values**: We initialize two variables, `a` and `b`, to represent the first two Fibonacci numbers (0 and 1).\n",
            "4. **Loop**: We use a `for` loop to iterate `n` times to generate the Fibonacci sequence:\n",
            "   - On each iteration, we push the current value of `a` (the current Fibonacci number) into the `fibonacciNumbers` array.\n",
            "   - We then calculate the next Fibonacci number by adding `a` and `b`.\n",
            "   - We update `a` to be the old value of `b`, and `b` to be the newly calculated Fibonacci number.\n",
            "5. **Return Result**: After the loop completes, we return the array containing the Fibonacci numbers.\n",
            "6. **Function Call**: We call the function with `10` to get the first 10 Fibonacci numbers and log the result to the console.\n",
            "\n",
            "When you run this code, it will output the first 10 Fibonacci numbers: `[0, 1, 1, 2, 3, 5, 8, 13, 21, 34]`. \n",
            "\n",
            "--- Java ---\n",
            "Certainly! Below is a simple Java program that prints the first 10 Fibonacci numbers, along with comments explaining each part of the code:\n",
            "\n",
            "```java\n",
            "public class Fibonacci {\n",
            "\n",
            "    public static void main(String[] args) {\n",
            "        // Number of Fibonacci numbers to print\n",
            "        int count = 10;\n",
            "\n",
            "        // Initialize the first two Fibonacci numbers\n",
            "        int first = 0; // First Fibonacci number\n",
            "        int second = 1; // Second Fibonacci number\n",
            "        \n",
            "        // Print the first Fibonacci number\n",
            "        System.out.print(\"First \" + count + \" Fibonacci numbers: \");\n",
            "        \n",
            "        // Loop to print the Fibonacci numbers\n",
            "        for (int i = 1; i <= count; i++) {\n",
            "            // Print the current Fibonacci number\n",
            "            System.out.print(first + \" \");\n",
            "            \n",
            "            // Calculate the next Fibonacci number\n",
            "            int next = first + second; // Next number is the sum of the previous two\n",
            "            \n",
            "            // Update the previous two numbers for the next iteration\n",
            "            first = second; // Move first to second\n",
            "            second = next; // Move second to next\n",
            "        }\n",
            "    }\n",
            "}\n",
            "```\n",
            "\n",
            "### Explanation:\n",
            "\n",
            "- **Class Declaration**: We declare a public class named `Fibonacci`.\n",
            "- **Main Method**: This is the entry point of the Java program.\n",
            "- **Count Variable**: We define an integer `count` to specify how many Fibonacci numbers we want to print (in this case, 10).\n",
            "- **Fibonacci Initialization**: We initialize the first two Fibonacci numbers, `first` and `second`, with values 0 and 1, respectively.\n",
            "- **Printing the Numbers**: We print a message indicating how many Fibonacci numbers will be displayed.\n",
            "- **Loop**: We use a `for` loop that runs from 1 to `count` (inclusive).\n",
            "  - **Printing the Current Number**: Inside the loop, we print the value of `first`.\n",
            "  - **Calculating the Next Number**: We calculate the next Fibonacci number by adding `first` and `second`.\n",
            "  - **Updating Values**: We update `first` and `second` for the next iteration, where `first` takes the value of `second`, and `second` takes the value of `next`.\n",
            "  \n",
            "When you run this program, it will output the first 10 Fibonacci numbers:\n",
            "```\n",
            "First 10 Fibonacci numbers: 0 1 1 2 3 5 8 13 21 34 \n",
            "``` \n",
            "\n"
          ]
        }
      ]
    },
    {
      "cell_type": "code",
      "source": [
        "langs = {\n",
        "    \"Python\": \"Write a Python function to generate first 10 Fibonacci numbers with comments.\",\n",
        "    \"JavaScript\": \"Write a JavaScript function to generate first 10 Fibonacci numbers with comments.\",\n",
        "    \"Java\": \"Write a Java program to print first 10 Fibonacci numbers with comments.\"\n",
        "}\n",
        "for lang, prompt in langs.items():\n",
        "    print(f\"--- {lang} ---\")\n",
        "    print(generate_response(prompt), \"\\n\")"
      ],
      "metadata": {
        "colab": {
          "base_uri": "https://localhost:8080/"
        },
        "id": "PjPsTSsGtA_G",
        "outputId": "7317cfa7-24b5-42a0-ab76-595468af58d0"
      },
      "execution_count": null,
      "outputs": [
        {
          "output_type": "stream",
          "name": "stdout",
          "text": [
            "--- Python ---\n",
            "Certainly! Here's a Python function that generates the first 10 Fibonacci numbers, along with comments explaining each part of the code:\n",
            "\n",
            "```python\n",
            "def generate_fibonacci(n):\n",
            "    \"\"\"\n",
            "    Generate the first n Fibonacci numbers.\n",
            "    \n",
            "    Parameters:\n",
            "    n (int): The number of Fibonacci numbers to generate.\n",
            "    \n",
            "    Returns:\n",
            "    list: A list containing the first n Fibonacci numbers.\n",
            "    \"\"\"\n",
            "    # Initialize the list to hold Fibonacci numbers\n",
            "    fibonacci_numbers = []\n",
            "    \n",
            "    # The first two Fibonacci numbers\n",
            "    a, b = 0, 1\n",
            "    \n",
            "    # Generate Fibonacci numbers until we reach the desired count\n",
            "    for _ in range(n):\n",
            "        # Append the current number to the list\n",
            "        fibonacci_numbers.append(a)\n",
            "        \n",
            "        # Update a and b to the next Fibonacci numbers\n",
            "        a, b = b, a + b\n",
            "    \n",
            "    return fibonacci_numbers\n",
            "\n",
            "# Generate the first 10 Fibonacci numbers\n",
            "first_10_fibonacci = generate_fibonacci(10)\n",
            "print(first_10_fibonacci)\n",
            "```\n",
            "\n",
            "### Explanation:\n",
            "1. **Function Definition**: The function `generate_fibonacci(n)` is defined to take one parameter, `n`, which specifies how many Fibonacci numbers to generate.\n",
            "\n",
            "2. **List Initialization**: An empty list `fibonacci_numbers` is created to store the Fibonacci numbers as they are generated.\n",
            "\n",
            "3. **Initialization of Variables**: Two variables, `a` and `b`, are initialized to the first two Fibonacci numbers (0 and 1).\n",
            "\n",
            "4. **Loop to Generate Fibonacci Numbers**: A `for` loop runs `n` times. In each iteration:\n",
            "   - The current Fibonacci number (`a`) is appended to the list.\n",
            "   - The variables `a` and `b` are updated to the next Fibonacci numbers using the formula `a, b = b, a + b`.\n",
            "\n",
            "5. **Return Statement**: The function returns the list of generated Fibonacci numbers.\n",
            "\n",
            "6. **Calling the Function**: The function is called with `10` to get the first 10 Fibonacci numbers, which are then printed out. \n",
            "\n",
            "When you run this code, it will output the first 10 Fibonacci numbers:\n",
            "```\n",
            "[0, 1, 1, 2, 3, 5, 8, 13, 21, 34]\n",
            "``` \n",
            "\n",
            "--- JavaScript ---\n",
            "Certainly! Below is a JavaScript function that generates the first 10 Fibonacci numbers along with comments explaining each part of the code:\n",
            "\n",
            "```javascript\n",
            "function generateFibonacci(n) {\n",
            "    // Create an array to hold the Fibonacci numbers\n",
            "    let fibonacciNumbers = [];\n",
            "\n",
            "    // Initialize the first two Fibonacci numbers\n",
            "    let a = 0; // First Fibonacci number\n",
            "    let b = 1; // Second Fibonacci number\n",
            "\n",
            "    // Loop n times to generate the Fibonacci sequence\n",
            "    for (let i = 0; i < n; i++) {\n",
            "        // Push the current Fibonacci number (a) into the array\n",
            "        fibonacciNumbers.push(a);\n",
            "\n",
            "        // Calculate the next Fibonacci number\n",
            "        // The next number is the sum of the previous two\n",
            "        let next = a + b;\n",
            "\n",
            "        // Update a and b for the next iteration\n",
            "        a = b; // Move b to a\n",
            "        b = next; // Move next to b\n",
            "    }\n",
            "\n",
            "    // Return the array containing the Fibonacci numbers\n",
            "    return fibonacciNumbers;\n",
            "}\n",
            "\n",
            "// Call the function to generate the first 10 Fibonacci numbers\n",
            "const first10Fibonacci = generateFibonacci(10);\n",
            "\n",
            "// Output the result\n",
            "console.log(first10Fibonacci);\n",
            "```\n",
            "\n",
            "### Explanation:\n",
            "1. **Function Definition**: `generateFibonacci(n)` takes a parameter `n` which specifies how many Fibonacci numbers to generate.\n",
            "2. **Initialization**: An array `fibonacciNumbers` is initialized to store the Fibonacci sequence. The first two Fibonacci numbers are initialized as `a = 0` and `b = 1`.\n",
            "3. **Loop**: A `for` loop runs `n` times to compute the Fibonacci numbers. In each iteration:\n",
            "   - The current Fibonacci number (`a`) is added to the `fibonacciNumbers` array.\n",
            "   - The next Fibonacci number is computed as the sum of `a` and `b`.\n",
            "   - The variables `a` and `b` are updated for the next iteration.\n",
            "4. **Return**: After the loop completes, the function returns the array of Fibonacci numbers.\n",
            "5. **Function Call**: The function is called with `10` to get the first 10 Fibonacci numbers, and the result is logged to the console. \n",
            "\n",
            "--- Java ---\n",
            "Certainly! Below is a simple Java program that prints the first 10 Fibonacci numbers, complete with comments explaining each part of the code.\n",
            "\n",
            "```java\n",
            "public class Fibonacci {\n",
            "\n",
            "    public static void main(String[] args) {\n",
            "        // Number of Fibonacci numbers to print\n",
            "        int n = 10;\n",
            "\n",
            "        // Array to hold the Fibonacci numbers\n",
            "        int[] fibonacci = new int[n];\n",
            "\n",
            "        // The first two Fibonacci numbers\n",
            "        fibonacci[0] = 0; // First Fibonacci number\n",
            "        fibonacci[1] = 1; // Second Fibonacci number\n",
            "\n",
            "        // Print the first two Fibonacci numbers\n",
            "        System.out.println(\"Fibonacci Series:\");\n",
            "        System.out.println(fibonacci[0]); // Print the first number\n",
            "        System.out.println(fibonacci[1]); // Print the second number\n",
            "\n",
            "        // Generate remaining Fibonacci numbers\n",
            "        for (int i = 2; i < n; i++) {\n",
            "            // Each number is the sum of the two preceding ones\n",
            "            fibonacci[i] = fibonacci[i - 1] + fibonacci[i - 2];\n",
            "            // Print the current Fibonacci number\n",
            "            System.out.println(fibonacci[i]);\n",
            "        }\n",
            "    }\n",
            "}\n",
            "```\n",
            "\n",
            "### Explanation of the Code:\n",
            "1. **Class Declaration**: We define a class named `Fibonacci`.\n",
            "  \n",
            "2. **Main Method**: The `main` method is the entry point of the Java program.\n",
            "\n",
            "3. **Initialization**: \n",
            "   - We declare an integer `n` to specify how many Fibonacci numbers we want to generate (10 in this case).\n",
            "   - An array `fibonacci` is created to store the Fibonacci numbers.\n",
            "\n",
            "4. **Base Cases**: We initialize the first two Fibonacci numbers:\n",
            "   - `fibonacci[0]` is set to `0`, which is the first Fibonacci number.\n",
            "   - `fibonacci[1]` is set to `1`, which is the second Fibonacci number.\n",
            "\n",
            "5. **Printing the First Two Numbers**: We print the first two Fibonacci numbers directly.\n",
            "\n",
            "6. **Loop for Remaining Fibonacci Numbers**: \n",
            "   - A `for` loop starts at index 2 (the third Fibonacci number) and runs until we reach `n`.\n",
            "   - Inside the loop, we calculate each Fibonacci number by adding the two preceding numbers (`fibonacci[i - 1]` and `fibonacci[i - 2]`).\n",
            "   - We print each Fibonacci number as it is calculated.\n",
            "\n",
            "7. **Output**: The program will output the first 10 Fibonacci numbers, which are:\n",
            "   ```\n",
            "   0\n",
            "   1\n",
            "   1\n",
            "   2\n",
            "   3\n",
            "   5\n",
            "   8\n",
            "   13\n",
            "   21\n",
            "   34\n",
            "   ```\n",
            "\n",
            "This program is straightforward and demonstrates the concept of Fibonacci numbers using iteration. \n",
            "\n"
          ]
        }
      ]
    },
    {
      "cell_type": "code",
      "source": [
        "binary_search_prompt = \"\"\"\n",
        "Implement binary search in Python that can handle both ascending and descending sorted arrays.\n",
        "Include unit tests to demonstrate correctness.\n",
        "\"\"\"\n",
        "print(generate_response(binary_search_prompt))"
      ],
      "metadata": {
        "colab": {
          "base_uri": "https://localhost:8080/"
        },
        "id": "WiGeWRfJtU-P",
        "outputId": "bcec408e-913b-4770-b735-5d1e9948b944"
      },
      "execution_count": null,
      "outputs": [
        {
          "output_type": "stream",
          "name": "stdout",
          "text": [
            "Certainly! Below is a Python implementation of a binary search function that can handle both ascending and descending sorted arrays. Additionally, I will include unit tests to verify the correctness of the implementation.\n",
            "\n",
            "```python\n",
            "def binary_search(arr, target):\n",
            "    if not arr:\n",
            "        return -1  # Empty array case\n",
            "\n",
            "    left, right = 0, len(arr) - 1\n",
            "\n",
            "    # Determine if the array is sorted in ascending or descending order\n",
            "    is_ascending = arr[left] < arr[right]\n",
            "\n",
            "    while left <= right:\n",
            "        mid = left + (right - left) // 2\n",
            "        \n",
            "        # Check if the target is found\n",
            "        if arr[mid] == target:\n",
            "            return mid\n",
            "        \n",
            "        # If the array is sorted in ascending order\n",
            "        if is_ascending:\n",
            "            if target < arr[mid]:\n",
            "                right = mid - 1  # Target is in the left half\n",
            "            else:\n",
            "                left = mid + 1  # Target is in the right half\n",
            "        else:\n",
            "            # If the array is sorted in descending order\n",
            "            if target > arr[mid]:\n",
            "                right = mid - 1  # Target is in the left half\n",
            "            else:\n",
            "                left = mid + 1  # Target is in the right half\n",
            "\n",
            "    return -1  # Target not found\n",
            "\n",
            "# Unit tests\n",
            "def test_binary_search():\n",
            "    # Test ascending order\n",
            "    assert binary_search([1, 2, 3, 4, 5], 3) == 2\n",
            "    assert binary_search([1, 2, 3, 4, 5], 1) == 0\n",
            "    assert binary_search([1, 2, 3, 4, 5], 5) == 4\n",
            "    assert binary_search([1, 2, 3, 4, 5], 6) == -1\n",
            "    assert binary_search([], 3) == -1  # Empty array\n",
            "\n",
            "    # Test descending order\n",
            "    assert binary_search([5, 4, 3, 2, 1], 3) == 2\n",
            "    assert binary_search([5, 4, 3, 2, 1], 5) == 0\n",
            "    assert binary_search([5, 4, 3, 2, 1], 1) == 4\n",
            "    assert binary_search([5, 4, 3, 2, 1], 6) == -1\n",
            "    assert binary_search([], 3) == -1  # Empty array\n",
            "    \n",
            "    print(\"All tests passed!\")\n",
            "\n",
            "# Run the tests\n",
            "test_binary_search()\n",
            "```\n",
            "\n",
            "### Explanation:\n",
            "1. **Function Definition**: The `binary_search` function takes an array `arr` and a `target` value to search for.\n",
            "2. **Input Check**: If the array is empty, it returns -1.\n",
            "3. **Order Determination**: It checks if the array is sorted in ascending or descending order based on the first and last elements.\n",
            "4. **Binary Search Logic**: The function uses a standard binary search approach:\n",
            "   - It calculates the middle index and compares the middle element with the target.\n",
            "   - Depending on the order of the array (ascending or descending), it adjusts the search range accordingly.\n",
            "5. **Unit Tests**: The `test_binary_search` function runs various assertions to ensure the `binary_search` function behaves as expected for both ascending and descending sorted arrays, including edge cases like empty arrays.\n",
            "\n",
            "When you run the tests, they should all pass, confirming that the binary search implementation is working correctly.\n"
          ]
        }
      ]
    },
    {
      "cell_type": "code",
      "source": [
        "people_text = \"\"\"\n",
        "Contact: Jane Doe, CTO, jane.doe@example.com\n",
        "Contact: Mark Lee, Marketing Manager, mlee@company.com\n",
        "\"\"\"\n",
        "json_prompt = f\"\"\"\n",
        "Extract name, title, and email from the text below as a JSON array of objects:\n",
        "{people_text}\n",
        "Ensure output is pure JSON with no extra text.\n",
        "\"\"\"\n",
        "print(generate_response(json_prompt))"
      ],
      "metadata": {
        "colab": {
          "base_uri": "https://localhost:8080/"
        },
        "id": "DUIJvKRBt50t",
        "outputId": "8ff94ba5-a631-4f1c-86a3-ebc522151dd9"
      },
      "execution_count": null,
      "outputs": [
        {
          "output_type": "stream",
          "name": "stdout",
          "text": [
            "```json\n",
            "[\n",
            "    {\n",
            "        \"name\": \"Jane Doe\",\n",
            "        \"title\": \"CTO\",\n",
            "        \"email\": \"jane.doe@example.com\"\n",
            "    },\n",
            "    {\n",
            "        \"name\": \"Mark Lee\",\n",
            "        \"title\": \"Marketing Manager\",\n",
            "        \"email\": \"mlee@company.com\"\n",
            "    }\n",
            "]\n",
            "```\n"
          ]
        }
      ]
    },
    {
      "cell_type": "code",
      "source": [
        "reviews = \"\"\"\n",
        "Alice: I love this phone, battery lasts forever and camera is great!\n",
        "Bob: The laptop is okay, but could be faster.\n",
        "Charlie: The headphones stopped working after a week, very disappointed.\n",
        "\"\"\"\n",
        "sentiment_prompt = f\"\"\"\n",
        "From the reviews below, return JSON where each object contains:\n",
        "- name\n",
        "- sentiment (positive/neutral/negative)\n",
        "- 5 keywords\n",
        "Reviews:\n",
        "{reviews}\n",
        "\"\"\"\n",
        "print(generate_response(sentiment_prompt))"
      ],
      "metadata": {
        "colab": {
          "base_uri": "https://localhost:8080/"
        },
        "id": "DA0xuBb3wOjc",
        "outputId": "141eec44-b9d4-43bc-a45d-0cb3385e3fa2"
      },
      "execution_count": null,
      "outputs": [
        {
          "output_type": "stream",
          "name": "stdout",
          "text": [
            "```json\n",
            "[\n",
            "    {\n",
            "        \"name\": \"Alice\",\n",
            "        \"sentiment\": \"positive\",\n",
            "        \"keywords\": [\"love\", \"phone\", \"battery\", \"lasts\", \"camera\"]\n",
            "    },\n",
            "    {\n",
            "        \"name\": \"Bob\",\n",
            "        \"sentiment\": \"neutral\",\n",
            "        \"keywords\": [\"laptop\", \"okay\", \"faster\", \"could\", \"but\"]\n",
            "    },\n",
            "    {\n",
            "        \"name\": \"Charlie\",\n",
            "        \"sentiment\": \"negative\",\n",
            "        \"keywords\": [\"headphones\", \"stopped\", \"working\", \"disappointed\", \"week\"]\n",
            "    }\n",
            "]\n",
            "```\n"
          ]
        }
      ]
    }
  ]
}