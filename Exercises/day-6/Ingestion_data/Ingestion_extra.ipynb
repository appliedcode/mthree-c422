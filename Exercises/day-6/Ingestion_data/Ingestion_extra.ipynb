{
  "cells": [
    {
      "cell_type": "markdown",
      "source": [
        "# Ingesting Data from REST API and CSV in Google Colab\n",
        "This lab exercise is inspired by the provided image, focusing on demonstrating how to ingest data from a public REST API and a local CSV file. It is suitable for running directly in Google Colab.\n",
        "\n",
        "Load from different data Set\n",
        "- COVID-19(https://disease.sh/v3/covid-19/countries)\n",
        "- Fetch air quality measurements for Los Angeles from OpenAQ.(https://api.openaq.org/v2/measurements?city=Los%20Angeles&limit=10)\n"
      ],
      "metadata": {
        "id": "W4J5zNWUMcF8"
      }
    },
    {
      "cell_type": "code",
      "source": [
        "# Set Up the Environment\n",
        "# Install required libraries (requests and pandas)\n",
        "!pip install requests pandas -q\n"
      ],
      "metadata": {
        "id": "GaHbsc-4DQ-V"
      },
      "execution_count": 1,
      "outputs": []
    },
    {
      "cell_type": "code",
      "source": [
        "import requests\n",
        "import pandas as pd"
      ],
      "metadata": {
        "id": "9GWYd-iUGAgb"
      },
      "execution_count": 2,
      "outputs": []
    },
    {
      "cell_type": "code",
      "source": [
        "# CSV example: COVID-19(https://disease.sh/v3/covid-19/countries)\n",
        "csv_url = \"https://disease.sh/v3/covid-19/countries\"\n",
        "df_csv = pd.read_csv(csv_url)\n",
        "print(\"\\nData from CSV File:\")\n",
        "print(df_csv.head())\n",
        "\n",
        "print(\"\\n\\nCSV Data Columns:\", df_csv.columns)\n",
        "print(\"\\n\\nCSV Data Info:\")\n",
        "print(df_csv.info())"
      ],
      "metadata": {
        "id": "ocX1ydCSGcwd",
        "outputId": "394a2c10-7f8f-450c-9341-252b298f7945",
        "colab": {
          "base_uri": "https://localhost:8080/"
        }
      },
      "execution_count": 3,
      "outputs": [
        {
          "output_type": "stream",
          "name": "stdout",
          "text": [
            "\n",
            "Data from CSV File:\n",
            "Empty DataFrame\n",
            "Columns: [[{\"updated\":1754428456475, country:\"Afghanistan\", countryInfo:{\"_id\":4, iso2:\"AF\", iso3:\"AFG\", lat:33, long:65, flag:\"https://disease.sh/assets/img/flags/af.png\"}, cases:234174, todayCases:0, deaths:7996, todayDeaths:0, recovered:211080, todayRecovered:0, active:15098, critical:0, casesPerOneMillion:5746, deathsPerOneMillion:196, tests:1390730, testsPerOneMillion:34125, population:40754388, continent:\"Asia\", oneCasePerPeople:174, oneDeathPerPeople:5097, oneTestPerPeople:29, activePerOneMillion:370.46, recoveredPerOneMillion:5179.32, criticalPerOneMillion:0}, {\"updated\":1754428456469, country:\"Albania\", countryInfo:{\"_id\":8, iso2:\"AL\", iso3:\"ALB\", lat:41, long:20, flag:\"https://disease.sh/assets/img/flags/al.png\"}, cases:334863, todayCases:0.1, deaths:3605, todayDeaths:0.1, recovered:330233, todayRecovered:0.1, active:1025, critical:0.1, casesPerOneMillion:116825, deathsPerOneMillion:1258, tests:1941032, testsPerOneMillion:677173, population:2866374, continent:\"Europe\", oneCasePerPeople:9, oneDeathPerPeople:795, oneTestPerPeople:1, activePerOneMillion:357.59, recoveredPerOneMillion:115209.32, criticalPerOneMillion:0}.1, {\"updated\":1754428456472, country:\"Algeria\", countryInfo:{\"_id\":12, iso2:\"DZ\", iso3:\"DZA\", lat:28, long:3, flag:\"https://disease.sh/assets/img/flags/dz.png\"}, cases:272010, todayCases:0.2, deaths:6881, todayDeaths:0.2, recovered:183061, todayRecovered:0.2, active:82068, critical:0.2, casesPerOneMillion:5998, deathsPerOneMillion:152, tests:230960, testsPerOneMillion:5093, population:45350148, continent:\"Africa\", oneCasePerPeople:167, oneDeathPerPeople:6591, oneTestPerPeople:196, activePerOneMillion:1809.65, recoveredPerOneMillion:4036.61, criticalPerOneMillion:0}.2, {\"updated\":1754428456520, country:\"Andorra\", countryInfo:{\"_id\":20, iso2:\"AD\", iso3:\"AND\", lat:42.5, long:1.6, flag:\"https://disease.sh/assets/img/flags/ad.png\"}, cases:48015, todayCases:0.3, deaths:165, todayDeaths:0.3, recovered:0, todayRecovered:0.3, active:47850, critical:0.3, ...]\n",
            "Index: []\n",
            "\n",
            "[0 rows x 6468 columns]\n",
            "\n",
            "\n",
            "CSV Data Columns: Index(['[{\"updated\":1754428456475', 'country:\"Afghanistan\"',\n",
            "       'countryInfo:{\"_id\":4', 'iso2:\"AF\"', 'iso3:\"AFG\"', 'lat:33', 'long:65',\n",
            "       'flag:\"https://disease.sh/assets/img/flags/af.png\"}', 'cases:234174',\n",
            "       'todayCases:0',\n",
            "       ...\n",
            "       'tests:2525756', 'testsPerOneMillion:164744', 'population:15331428',\n",
            "       'continent:\"Africa\".57', 'oneCasePerPeople:58.1',\n",
            "       'oneDeathPerPeople:2671', 'oneTestPerPeople:6.4',\n",
            "       'activePerOneMillion:112.91', 'recoveredPerOneMillion:16886.1',\n",
            "       'criticalPerOneMillion:0.78}]'],\n",
            "      dtype='object', length=6468)\n",
            "\n",
            "\n",
            "CSV Data Info:\n",
            "<class 'pandas.core.frame.DataFrame'>\n",
            "RangeIndex: 0 entries\n",
            "Columns: 6468 entries, [{\"updated\":1754428456475 to criticalPerOneMillion:0.78}]\n",
            "dtypes: object(6468)\n",
            "memory usage: 132.0+ bytes\n",
            "None\n"
          ]
        }
      ]
    },
    {
      "cell_type": "code",
      "source": [
        "# REST API Example:\n",
        "api_url = \"https://api.openaq.org/v3/locations\"\n",
        "params = {\n",
        "    \"city\": \"Los Angeles\",\n",
        "    \"limit\": 10\n",
        "}\n",
        "headers = {\n",
        "    \"X-API-Key\": \"87d7f1a95d4b8c3a683530a3527c5b4e7770b03fcfc9cf0fb969eb8d961c7802\"\n",
        "}\n",
        "\n",
        "response = requests.get(api_url, params=params, headers=headers)\n",
        "api_data_result = response.json()\n",
        "print(api_data_result)\n",
        "\n",
        "df_api = pd.json_normalize(api_data_result['results'])\n",
        "print(\"\\n\\nData from REST API:\")\n",
        "print(df_api.head())\n",
        "\n",
        "print(\"\\n\\nAPI Data Columns:\", df_api.columns)\n",
        "print(\"\\n\\nAPI Data Info:\")\n",
        "print(df_api.info())"
      ],
      "metadata": {
        "id": "zBWdpd-hGh_X",
        "outputId": "ac8a8ce0-e34d-4079-92b6-0930b8f90f14",
        "colab": {
          "base_uri": "https://localhost:8080/"
        }
      },
      "execution_count": 4,
      "outputs": [
        {
          "output_type": "stream",
          "name": "stdout",
          "text": [
            "{'meta': {'name': 'openaq-api', 'website': '/', 'page': 1, 'limit': 10, 'found': '>10'}, 'results': [{'id': 3, 'name': 'NMA - Nima', 'locality': None, 'timezone': 'Africa/Accra', 'country': {'id': 152, 'code': 'GH', 'name': 'Ghana'}, 'owner': {'id': 4, 'name': 'Unknown Governmental Organization'}, 'provider': {'id': 209, 'name': 'Dr. Raphael E. Arku and Colleagues'}, 'isMobile': False, 'isMonitor': True, 'instruments': [{'id': 2, 'name': 'Government Monitor'}], 'sensors': [{'id': 6, 'name': 'pm10 µg/m³', 'parameter': {'id': 1, 'name': 'pm10', 'units': 'µg/m³', 'displayName': 'PM10'}}, {'id': 5, 'name': 'pm25 µg/m³', 'parameter': {'id': 2, 'name': 'pm25', 'units': 'µg/m³', 'displayName': 'PM2.5'}}], 'coordinates': {'latitude': 5.58389, 'longitude': -0.19968}, 'licenses': None, 'bounds': [-0.19968, 5.58389, -0.19968, 5.58389], 'distance': None, 'datetimeFirst': None, 'datetimeLast': None}, {'id': 4, 'name': 'NMT - Nima', 'locality': None, 'timezone': 'Africa/Accra', 'country': {'id': 152, 'code': 'GH', 'name': 'Ghana'}, 'owner': {'id': 4, 'name': 'Unknown Governmental Organization'}, 'provider': {'id': 209, 'name': 'Dr. Raphael E. Arku and Colleagues'}, 'isMobile': False, 'isMonitor': True, 'instruments': [{'id': 2, 'name': 'Government Monitor'}], 'sensors': [{'id': 7, 'name': 'pm10 µg/m³', 'parameter': {'id': 1, 'name': 'pm10', 'units': 'µg/m³', 'displayName': 'PM10'}}, {'id': 8, 'name': 'pm25 µg/m³', 'parameter': {'id': 2, 'name': 'pm25', 'units': 'µg/m³', 'displayName': 'PM2.5'}}], 'coordinates': {'latitude': 5.58165, 'longitude': -0.19898}, 'licenses': None, 'bounds': [-0.19898, 5.58165, -0.19898, 5.58165], 'distance': None, 'datetimeFirst': None, 'datetimeLast': None}, {'id': 5, 'name': 'JTA - Jamestown', 'locality': None, 'timezone': 'Africa/Accra', 'country': {'id': 152, 'code': 'GH', 'name': 'Ghana'}, 'owner': {'id': 4, 'name': 'Unknown Governmental Organization'}, 'provider': {'id': 209, 'name': 'Dr. Raphael E. Arku and Colleagues'}, 'isMobile': False, 'isMonitor': True, 'instruments': [{'id': 2, 'name': 'Government Monitor'}], 'sensors': [{'id': 10, 'name': 'pm10 µg/m³', 'parameter': {'id': 1, 'name': 'pm10', 'units': 'µg/m³', 'displayName': 'PM10'}}, {'id': 9, 'name': 'pm25 µg/m³', 'parameter': {'id': 2, 'name': 'pm25', 'units': 'µg/m³', 'displayName': 'PM2.5'}}], 'coordinates': {'latitude': 5.5401139, 'longitude': -0.2103972}, 'licenses': None, 'bounds': [-0.2103972, 5.5401139, -0.2103972, 5.5401139], 'distance': None, 'datetimeFirst': None, 'datetimeLast': None}, {'id': 6, 'name': 'ADT - Asylum Down', 'locality': None, 'timezone': 'Africa/Accra', 'country': {'id': 152, 'code': 'GH', 'name': 'Ghana'}, 'owner': {'id': 4, 'name': 'Unknown Governmental Organization'}, 'provider': {'id': 209, 'name': 'Dr. Raphael E. Arku and Colleagues'}, 'isMobile': False, 'isMonitor': True, 'instruments': [{'id': 2, 'name': 'Government Monitor'}], 'sensors': [{'id': 11, 'name': 'pm10 µg/m³', 'parameter': {'id': 1, 'name': 'pm10', 'units': 'µg/m³', 'displayName': 'PM10'}}, {'id': 12, 'name': 'pm25 µg/m³', 'parameter': {'id': 2, 'name': 'pm25', 'units': 'µg/m³', 'displayName': 'PM2.5'}}], 'coordinates': {'latitude': 5.570722, 'longitude': -0.2120555}, 'licenses': None, 'bounds': [-0.2120555, 5.570722, -0.2120555, 5.570722], 'distance': None, 'datetimeFirst': None, 'datetimeLast': None}, {'id': 7, 'name': 'ADEPA - Asylum Down', 'locality': None, 'timezone': 'Africa/Accra', 'country': {'id': 152, 'code': 'GH', 'name': 'Ghana'}, 'owner': {'id': 4, 'name': 'Unknown Governmental Organization'}, 'provider': {'id': 209, 'name': 'Dr. Raphael E. Arku and Colleagues'}, 'isMobile': False, 'isMonitor': True, 'instruments': [{'id': 2, 'name': 'Government Monitor'}], 'sensors': [{'id': 14, 'name': 'pm10 µg/m³', 'parameter': {'id': 1, 'name': 'pm10', 'units': 'µg/m³', 'displayName': 'PM10'}}, {'id': 13, 'name': 'pm25 µg/m³', 'parameter': {'id': 2, 'name': 'pm25', 'units': 'µg/m³', 'displayName': 'PM2.5'}}], 'coordinates': {'latitude': 5.567833, 'longitude': -0.2040278}, 'licenses': None, 'bounds': [-0.2040278, 5.567833, -0.2040278, 5.567833], 'distance': None, 'datetimeFirst': None, 'datetimeLast': None}, {'id': 8, 'name': 'ADA - Asylum Down', 'locality': None, 'timezone': 'Africa/Accra', 'country': {'id': 152, 'code': 'GH', 'name': 'Ghana'}, 'owner': {'id': 4, 'name': 'Unknown Governmental Organization'}, 'provider': {'id': 209, 'name': 'Dr. Raphael E. Arku and Colleagues'}, 'isMobile': False, 'isMonitor': True, 'instruments': [{'id': 2, 'name': 'Government Monitor'}], 'sensors': [{'id': 16, 'name': 'pm10 µg/m³', 'parameter': {'id': 1, 'name': 'pm10', 'units': 'µg/m³', 'displayName': 'PM10'}}, {'id': 15, 'name': 'pm25 µg/m³', 'parameter': {'id': 2, 'name': 'pm25', 'units': 'µg/m³', 'displayName': 'PM2.5'}}], 'coordinates': {'latitude': 5.566722, 'longitude': -0.2077778}, 'licenses': None, 'bounds': [-0.2077778, 5.566722, -0.2077778, 5.566722], 'distance': None, 'datetimeFirst': None, 'datetimeLast': None}, {'id': 9, 'name': 'ELC - East Legon', 'locality': None, 'timezone': 'Africa/Accra', 'country': {'id': 152, 'code': 'GH', 'name': 'Ghana'}, 'owner': {'id': 4, 'name': 'Unknown Governmental Organization'}, 'provider': {'id': 209, 'name': 'Dr. Raphael E. Arku and Colleagues'}, 'isMobile': False, 'isMonitor': True, 'instruments': [{'id': 2, 'name': 'Government Monitor'}], 'sensors': [{'id': 17, 'name': 'pm10 µg/m³', 'parameter': {'id': 1, 'name': 'pm10', 'units': 'µg/m³', 'displayName': 'PM10'}}, {'id': 18, 'name': 'pm25 µg/m³', 'parameter': {'id': 2, 'name': 'pm25', 'units': 'µg/m³', 'displayName': 'PM2.5'}}], 'coordinates': {'latitude': 5.6335571, 'longitude': -0.1651875}, 'licenses': None, 'bounds': [-0.1651875, 5.6335571, -0.1651875, 5.6335571], 'distance': None, 'datetimeFirst': None, 'datetimeLast': None}, {'id': 10, 'name': 'ELT - East Legon', 'locality': None, 'timezone': 'Africa/Accra', 'country': {'id': 152, 'code': 'GH', 'name': 'Ghana'}, 'owner': {'id': 4, 'name': 'Unknown Governmental Organization'}, 'provider': {'id': 209, 'name': 'Dr. Raphael E. Arku and Colleagues'}, 'isMobile': False, 'isMonitor': True, 'instruments': [{'id': 2, 'name': 'Government Monitor'}], 'sensors': [{'id': 20, 'name': 'pm10 µg/m³', 'parameter': {'id': 1, 'name': 'pm10', 'units': 'µg/m³', 'displayName': 'PM10'}}, {'id': 19, 'name': 'pm25 µg/m³', 'parameter': {'id': 2, 'name': 'pm25', 'units': 'µg/m³', 'displayName': 'PM2.5'}}], 'coordinates': {'latitude': 5.6408995, 'longitude': -0.1695437}, 'licenses': None, 'bounds': [-0.1695437, 5.6408995, -0.1695437, 5.6408995], 'distance': None, 'datetimeFirst': None, 'datetimeLast': None}, {'id': 11, 'name': 'ELA - East Legon', 'locality': None, 'timezone': 'Africa/Accra', 'country': {'id': 152, 'code': 'GH', 'name': 'Ghana'}, 'owner': {'id': 4, 'name': 'Unknown Governmental Organization'}, 'provider': {'id': 209, 'name': 'Dr. Raphael E. Arku and Colleagues'}, 'isMobile': False, 'isMonitor': True, 'instruments': [{'id': 2, 'name': 'Government Monitor'}], 'sensors': [{'id': 22, 'name': 'pm10 µg/m³', 'parameter': {'id': 1, 'name': 'pm10', 'units': 'µg/m³', 'displayName': 'PM10'}}, {'id': 21, 'name': 'pm25 µg/m³', 'parameter': {'id': 2, 'name': 'pm25', 'units': 'µg/m³', 'displayName': 'PM2.5'}}], 'coordinates': {'latitude': 5.6408137, 'longitude': -0.1579063}, 'licenses': None, 'bounds': [-0.1579063, 5.6408137, -0.1579063, 5.6408137], 'distance': None, 'datetimeFirst': None, 'datetimeLast': None}, {'id': 12, 'name': 'SPARTAN - IIT Kanpur', 'locality': None, 'timezone': 'Asia/Kolkata', 'country': {'id': 9, 'code': 'IN', 'name': 'India'}, 'owner': {'id': 4, 'name': 'Unknown Governmental Organization'}, 'provider': {'id': 226, 'name': 'Spartan'}, 'isMobile': False, 'isMonitor': True, 'instruments': [{'id': 2, 'name': 'Government Monitor'}], 'sensors': [{'id': 23, 'name': 'pm25 µg/m³', 'parameter': {'id': 2, 'name': 'pm25', 'units': 'µg/m³', 'displayName': 'PM2.5'}}], 'coordinates': {'latitude': 26.519, 'longitude': 80.233}, 'licenses': None, 'bounds': [80.233, 26.519, 80.233, 26.519], 'distance': None, 'datetimeFirst': None, 'datetimeLast': None}]}\n",
            "\n",
            "\n",
            "Data from REST API:\n",
            "   id                 name locality      timezone  isMobile  isMonitor  \\\n",
            "0   3           NMA - Nima     None  Africa/Accra     False       True   \n",
            "1   4           NMT - Nima     None  Africa/Accra     False       True   \n",
            "2   5      JTA - Jamestown     None  Africa/Accra     False       True   \n",
            "3   6    ADT - Asylum Down     None  Africa/Accra     False       True   \n",
            "4   7  ADEPA - Asylum Down     None  Africa/Accra     False       True   \n",
            "\n",
            "                                 instruments  \\\n",
            "0  [{'id': 2, 'name': 'Government Monitor'}]   \n",
            "1  [{'id': 2, 'name': 'Government Monitor'}]   \n",
            "2  [{'id': 2, 'name': 'Government Monitor'}]   \n",
            "3  [{'id': 2, 'name': 'Government Monitor'}]   \n",
            "4  [{'id': 2, 'name': 'Government Monitor'}]   \n",
            "\n",
            "                                             sensors licenses  \\\n",
            "0  [{'id': 6, 'name': 'pm10 µg/m³', 'parameter': ...     None   \n",
            "1  [{'id': 7, 'name': 'pm10 µg/m³', 'parameter': ...     None   \n",
            "2  [{'id': 10, 'name': 'pm10 µg/m³', 'parameter':...     None   \n",
            "3  [{'id': 11, 'name': 'pm10 µg/m³', 'parameter':...     None   \n",
            "4  [{'id': 14, 'name': 'pm10 µg/m³', 'parameter':...     None   \n",
            "\n",
            "                                           bounds  ... datetimeLast  \\\n",
            "0          [-0.19968, 5.58389, -0.19968, 5.58389]  ...         None   \n",
            "1          [-0.19898, 5.58165, -0.19898, 5.58165]  ...         None   \n",
            "2  [-0.2103972, 5.5401139, -0.2103972, 5.5401139]  ...         None   \n",
            "3    [-0.2120555, 5.570722, -0.2120555, 5.570722]  ...         None   \n",
            "4    [-0.2040278, 5.567833, -0.2040278, 5.567833]  ...         None   \n",
            "\n",
            "  country.id country.code  country.name owner.id  \\\n",
            "0        152           GH         Ghana        4   \n",
            "1        152           GH         Ghana        4   \n",
            "2        152           GH         Ghana        4   \n",
            "3        152           GH         Ghana        4   \n",
            "4        152           GH         Ghana        4   \n",
            "\n",
            "                          owner.name  provider.id  \\\n",
            "0  Unknown Governmental Organization          209   \n",
            "1  Unknown Governmental Organization          209   \n",
            "2  Unknown Governmental Organization          209   \n",
            "3  Unknown Governmental Organization          209   \n",
            "4  Unknown Governmental Organization          209   \n",
            "\n",
            "                        provider.name  coordinates.latitude  \\\n",
            "0  Dr. Raphael E. Arku and Colleagues              5.583890   \n",
            "1  Dr. Raphael E. Arku and Colleagues              5.581650   \n",
            "2  Dr. Raphael E. Arku and Colleagues              5.540114   \n",
            "3  Dr. Raphael E. Arku and Colleagues              5.570722   \n",
            "4  Dr. Raphael E. Arku and Colleagues              5.567833   \n",
            "\n",
            "  coordinates.longitude  \n",
            "0             -0.199680  \n",
            "1             -0.198980  \n",
            "2             -0.210397  \n",
            "3             -0.212056  \n",
            "4             -0.204028  \n",
            "\n",
            "[5 rows x 22 columns]\n",
            "\n",
            "\n",
            "API Data Columns: Index(['id', 'name', 'locality', 'timezone', 'isMobile', 'isMonitor',\n",
            "       'instruments', 'sensors', 'licenses', 'bounds', 'distance',\n",
            "       'datetimeFirst', 'datetimeLast', 'country.id', 'country.code',\n",
            "       'country.name', 'owner.id', 'owner.name', 'provider.id',\n",
            "       'provider.name', 'coordinates.latitude', 'coordinates.longitude'],\n",
            "      dtype='object')\n",
            "\n",
            "\n",
            "API Data Info:\n",
            "<class 'pandas.core.frame.DataFrame'>\n",
            "RangeIndex: 10 entries, 0 to 9\n",
            "Data columns (total 22 columns):\n",
            " #   Column                 Non-Null Count  Dtype  \n",
            "---  ------                 --------------  -----  \n",
            " 0   id                     10 non-null     int64  \n",
            " 1   name                   10 non-null     object \n",
            " 2   locality               0 non-null      object \n",
            " 3   timezone               10 non-null     object \n",
            " 4   isMobile               10 non-null     bool   \n",
            " 5   isMonitor              10 non-null     bool   \n",
            " 6   instruments            10 non-null     object \n",
            " 7   sensors                10 non-null     object \n",
            " 8   licenses               0 non-null      object \n",
            " 9   bounds                 10 non-null     object \n",
            " 10  distance               0 non-null      object \n",
            " 11  datetimeFirst          0 non-null      object \n",
            " 12  datetimeLast           0 non-null      object \n",
            " 13  country.id             10 non-null     int64  \n",
            " 14  country.code           10 non-null     object \n",
            " 15  country.name           10 non-null     object \n",
            " 16  owner.id               10 non-null     int64  \n",
            " 17  owner.name             10 non-null     object \n",
            " 18  provider.id            10 non-null     int64  \n",
            " 19  provider.name          10 non-null     object \n",
            " 20  coordinates.latitude   10 non-null     float64\n",
            " 21  coordinates.longitude  10 non-null     float64\n",
            "dtypes: bool(2), float64(2), int64(4), object(14)\n",
            "memory usage: 1.7+ KB\n",
            "None\n"
          ]
        }
      ]
    }
  ],
  "metadata": {
    "colab": {
      "provenance": [],
      "toc_visible": true
    },
    "kernelspec": {
      "display_name": "Python 3",
      "name": "python3"
    }
  },
  "nbformat": 4,
  "nbformat_minor": 0
}