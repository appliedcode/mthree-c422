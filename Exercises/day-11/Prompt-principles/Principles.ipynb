{
  "cells": [
    {
      "cell_type": "markdown",
      "metadata": {
        "id": "view-in-github",
        "colab_type": "text"
      },
      "source": [
        "<a href=\"https://colab.research.google.com/github/appliedcode/mthree-c422/blob/main/Exercises/day-11/Prompt-principles/Principles.ipynb\" target=\"_parent\"><img src=\"https://colab.research.google.com/assets/colab-badge.svg\" alt=\"Open In Colab\"/></a>"
      ]
    },
    {
      "cell_type": "markdown",
      "source": [
        "## 📓 **Colab Lab: Practicing the 5 Principles of Prompt Engineering with GPT‑4o-mini**"
      ],
      "metadata": {
        "id": "hFnkDgKDTUgk"
      }
    },
    {
      "cell_type": "code",
      "source": [
        "# Setup\n",
        "# Install OpenAI SDK\n",
        "!pip install openai -q\n",
        "\n",
        "from openai import OpenAI\n",
        "client = OpenAI(api_key=\"YOUR_API_KEY\")  # Replace with your API key\n",
        "\n",
        "def ask_gpt(prompt, temp=0.7, max_tokens=500):\n",
        "    \"\"\"Send a prompt to GPT-4o-mini and return the output\"\"\"\n",
        "    response = client.chat.completions.create(\n",
        "        model=\"gpt-4o-mini\",\n",
        "        messages=[{\"role\": \"user\", \"content\": prompt}],\n",
        "        temperature=temp,\n",
        "        max_tokens=max_tokens\n",
        "    )\n",
        "    return response.choices[0].message.content"
      ],
      "metadata": {
        "id": "kRcM4QN7qGpf"
      },
      "execution_count": null,
      "outputs": []
    },
    {
      "cell_type": "markdown",
      "source": [
        "## **Principle 1 — Give Clear Direction**\n",
        "\n",
        "**Goal:** Be specific about *what*, *for whom*, and *how* the task should be done."
      ],
      "metadata": {
        "id": "zerNRrRGqOOF"
      }
    },
    {
      "cell_type": "code",
      "source": [
        "prompt = \"Write a 50-word friendly welcome message for first-year university students in an encouraging tone.\"\n",
        "print(ask_gpt(prompt))"
      ],
      "metadata": {
        "id": "wh8Pd8sSqLIW"
      },
      "execution_count": null,
      "outputs": []
    },
    {
      "cell_type": "markdown",
      "source": [
        "**🎯 Student Exercise:**\n",
        "\n",
        "1. Write a vague prompt, e.g., `\"Write about climate change\"`.\n",
        "2. Run it and observe the output.\n",
        "3. Now rewrite it with **clear direction** for audience, style, and purpose.\n",
        "4. Compare outputs."
      ],
      "metadata": {
        "id": "qILNxxPLqQed"
      }
    },
    {
      "cell_type": "code",
      "source": [
        "# TODO: Your prompt here\n",
        "vague_prompt = \"Write about climate change\"\n",
        "clear_prompt = \"Explain climate change causes to high school students in a simple, positive tone, in 3 short sentences.\"\n",
        "\n",
        "print(\"Vague Output:\\n\", ask_gpt(vague_prompt))\n",
        "print(\"\\nClear Output:\\n\", ask_gpt(clear_prompt))"
      ],
      "metadata": {
        "id": "mzUnenajqUQv"
      },
      "execution_count": null,
      "outputs": []
    },
    {
      "cell_type": "markdown",
      "source": [
        "## **Principle 2 — Specify Format**\n",
        "\n",
        "**Goal:** Tell the AI exactly how to structure its response."
      ],
      "metadata": {
        "id": "5iqa31WSqcBA"
      }
    },
    {
      "cell_type": "code",
      "source": [
        "prompt = \"\"\"\n",
        "List 3 benefits of learning Python.\n",
        "Format the output as a markdown table with columns: 'Benefit' and 'Description'.\n",
        "\"\"\"\n",
        "print(ask_gpt(prompt))"
      ],
      "metadata": {
        "id": "DWtx2g3jqd1-"
      },
      "execution_count": null,
      "outputs": []
    },
    {
      "cell_type": "markdown",
      "source": [
        "**🎯 Student Exercise:**\n",
        "\n",
        "- Ask GPT to **compare electric cars and petrol cars** with format instructions:\n",
        "    - First: Paragraph form\n",
        "    - Second: Markdown table form\n",
        "- Compare clarity and usefulness."
      ],
      "metadata": {
        "id": "edBRTfupqhub"
      }
    },
    {
      "cell_type": "code",
      "source": [
        "# TODO: Write both prompts\n",
        "para_prompt = \"Compare electric cars and petrol cars.\"\n",
        "table_prompt = \"Compare electric cars and petrol cars as a markdown table with rows for cost, performance, and environmental impact.\"\n",
        "\n",
        "print(\"Paragraph Output:\\n\", ask_gpt(para_prompt))\n",
        "print(\"\\nTable Output:\\n\", ask_gpt(table_prompt))"
      ],
      "metadata": {
        "id": "Pg1mp1Wgql5v"
      },
      "execution_count": null,
      "outputs": []
    },
    {
      "cell_type": "markdown",
      "source": [
        "## **Principle 3 — Provide Examples (Few-Shot Prompting)**\n",
        "\n",
        "**Goal:** Show the AI what kind of response you expect.\n"
      ],
      "metadata": {
        "id": "CESuJ2_Fqn4W"
      }
    },
    {
      "cell_type": "code",
      "source": [
        "prompt = \"\"\"\n",
        "Classify each review as Positive or Negative.\n",
        "\n",
        "Review: \"Loved the coffee, will come again.\"\n",
        "Sentiment: Positive\n",
        "\n",
        "Review: \"Service was slow and unhelpful.\"\n",
        "Sentiment: Negative\n",
        "\n",
        "Review: \"The dessert was delicious and beautifully presented.\"\n",
        "Sentiment:\n",
        "\"\"\"\n",
        "print(ask_gpt(prompt))"
      ],
      "metadata": {
        "id": "vHi9WqxUqrDO"
      },
      "execution_count": null,
      "outputs": []
    },
    {
      "cell_type": "markdown",
      "source": [
        "**🎯 Student Exercise:**\n",
        "\n",
        "- Create a **few-shot prompt** to classify movie reviews as \"Positive\", \"Negative\", \"Neutral\". Provide at least 2 examples for each label, then add a new review for the model to classify.\n"
      ],
      "metadata": {
        "id": "vK24wwfwqvaB"
      }
    },
    {
      "cell_type": "code",
      "source": [
        "# TODO: Your few-shot prompt here"
      ],
      "metadata": {
        "id": "LwWI62r2qx2C"
      },
      "execution_count": null,
      "outputs": []
    },
    {
      "cell_type": "markdown",
      "source": [
        "```python\n",
        "# TODO: Your few-shot prompt here\n",
        "few_shot_prompt = \"\"\"\n",
        "Classify each movie review as Positive, Negative, or Neutral.\n",
        "\n",
        "Review: \"Amazing visuals and a heartwarming plot.\"\n",
        "Sentiment: Positive\n",
        "\n",
        "Review: \"Predictable storyline but decent acting.\"\n",
        "Sentiment: Neutral\n",
        "\n",
        "Review: \"I walked out halfway, it was terrible.\"\n",
        "Sentiment: Negative\n",
        "\n",
        "Review: \"The music was lovely but the pacing was too slow.\"\n",
        "Sentiment:\n",
        "\"\"\"\n",
        "\n",
        "print(ask_gpt(few_shot_prompt))\n",
        "```"
      ],
      "metadata": {
        "id": "bSg3D5LbqzeN"
      }
    },
    {
      "cell_type": "markdown",
      "source": [
        "## **Principle 4 — Evaluate Quality**\n",
        "\n",
        "**Goal:** Review the AI output and refine the prompt to improve quality.\n"
      ],
      "metadata": {
        "id": "KLDxsGzpq2qX"
      }
    },
    {
      "cell_type": "code",
      "source": [
        "**🎯 Student Task Flow:**\n",
        "\n",
        "1. Start with a prompt: `\"Summarize this article about AI ethics.\"`\n",
        "2. Note missing details.\n",
        "3. Add constraints: *\"In 3 bullet points, mention challenges, risks, and solutions.\"*\n",
        "4. Compare before vs after."
      ],
      "metadata": {
        "id": "rdfgGmSlq575"
      },
      "execution_count": null,
      "outputs": []
    },
    {
      "cell_type": "code",
      "source": [
        "article = \"\"\"Artificial intelligence is transforming industries but raises ethical concerns such as bias in algorithms, job automation, and data privacy. Several companies and governments are proposing transparency laws and AI ethics training to address these challenges.\"\"\"\n",
        "# Initial vague prompt\n",
        "vague_sum = ask_gpt(f\"Summarize this article: {article}\")\n",
        "\n",
        "# Improved prompt\n",
        "refined_sum = ask_gpt(f\"Summarize this article in 3 bullet points covering (1) main challenges, (2) risks, (3) solutions: {article}\")\n",
        "\n",
        "print(\"Original Summary:\\n\", vague_sum)\n",
        "print(\"\\nRefined Summary:\\n\", refined_sum)"
      ],
      "metadata": {
        "id": "U0lP4zKGq9y-"
      },
      "execution_count": null,
      "outputs": []
    },
    {
      "cell_type": "markdown",
      "source": [
        "## **Principle 5 — Divide Labor (Break Down Complex Tasks)**\n",
        "\n",
        "**Goal:** Break a big request into smaller steps.\n",
        "\n",
        "**Example:**\n",
        "Instead of:\n",
        "> \"Write a travel guide for Rome.\"\n",
        "\n",
        "Do:\n",
        "\n",
        "1. List top attractions.\n",
        "2. Suggest a 3-day itinerary.\n",
        "3. Give restaurant recommendations.\n",
        "\n",
        "***\n",
        "\n",
        "**🎯 Student Exercise:**\n",
        "\n",
        "- Use **three separate prompts** to create parts of a digital marketing plan:\n",
        "\n",
        "1. Audience analysis for a fitness app.\n",
        "2. Social media strategy.\n",
        "3. 1-month content calendar.\n"
      ],
      "metadata": {
        "id": "NTYJwroRrDa9"
      }
    },
    {
      "cell_type": "code",
      "source": [
        "# Step 1\n",
        "audience_analysis = ask_gpt(\"Describe the target audience for a fitness app in 3 bullet points.\")\n",
        "# Step 2\n",
        "social_media_strategy = ask_gpt(\"Create a social media strategy for the above audience in 5 bullet points.\")\n",
        "# Step 3\n",
        "content_calendar = ask_gpt(\"Propose a 1-month Instagram content calendar for the above strategy, in a table with date, post idea, and caption.\")\n",
        "\n",
        "print(\"Audience Analysis:\\n\", audience_analysis)\n",
        "print(\"\\nSocial Media Strategy:\\n\", social_media_strategy)\n",
        "print(\"\\nContent Calendar:\\n\", content_calendar)"
      ],
      "metadata": {
        "id": "T79FVPyprDI0"
      },
      "execution_count": null,
      "outputs": []
    },
    {
      "cell_type": "markdown",
      "source": [
        "## **💡 Reflection Questions for Students**\n",
        "\n",
        "- Which principle improved your results the most?\n",
        "- Did specifying format make the output easier to use?\n",
        "- How did providing examples change the output?\n",
        "- When would breaking down a task be most useful?"
      ],
      "metadata": {
        "id": "fkyT1W0XrJ7C"
      }
    }
  ],
  "metadata": {
    "colab": {
      "name": "Welcome to Colab",
      "provenance": [],
      "include_colab_link": true
    },
    "kernelspec": {
      "display_name": "Python 3",
      "name": "python3"
    }
  },
  "nbformat": 4,
  "nbformat_minor": 0
}