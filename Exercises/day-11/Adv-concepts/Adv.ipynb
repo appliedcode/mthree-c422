{
  "cells": [
    {
      "cell_type": "markdown",
      "metadata": {
        "id": "view-in-github",
        "colab_type": "text"
      },
      "source": [
        "<a href=\"https://colab.research.google.com/github/appliedcode/mthree-c422/blob/main/Exercises/day-11/Adv-concepts/Adv.ipynb\" target=\"_parent\"><img src=\"https://colab.research.google.com/assets/colab-badge.svg\" alt=\"Open In Colab\"/></a>"
      ]
    },
    {
      "cell_type": "markdown",
      "source": [
        "# 📓 Advanced Prompt Engineering Lab with GPT-4o-mini\n",
        "## Overview\n",
        "\n",
        "This lab explores four advanced prompt engineering techniques to help you gain deeper control over AI outputs:\n",
        "\n",
        "1. Chain-of-Thought (CoT) Prompting — guiding step-by-step reasoning\n",
        "2. Persona-Based Prompting — adopting roles \\& personas\n",
        "3. Controlling Verbosity, Style \\& Tone — adjusting length, formality, mood\n",
        "4. Prompting for Creativity vs. Accuracy — balancing imaginative vs. factual output\n",
        "\n",
        "***"
      ],
      "metadata": {
        "id": "oXmejYAuI67C"
      }
    },
    {
      "cell_type": "code",
      "source": [
        "# Setup (Run this first)\n",
        "!pip install openai -q\n",
        "\n",
        "from openai import OpenAI\n",
        "client = OpenAI(api_key=\"YOUR_API_KEY\")  # Replace with your OpenAI API key\n",
        "\n",
        "def ask_gpt(prompt, temp=0.7, max_tokens=500):\n",
        "    \"\"\"Send prompt to GPT-4o-mini and get response.\"\"\"\n",
        "    response = client.chat.completions.create(\n",
        "        model=\"gpt-4o-mini\",\n",
        "        messages=[{\"role\": \"user\", \"content\": prompt}],\n",
        "        temperature=temp,\n",
        "        max_tokens=max_tokens\n",
        "    )\n",
        "    return response.choices[0].message.content"
      ],
      "metadata": {
        "id": "shJFIb6eJAAk"
      },
      "execution_count": null,
      "outputs": []
    },
    {
      "cell_type": "markdown",
      "source": [
        "## 1️⃣ Chain-of-Thought (CoT) Prompting\n",
        "\n",
        "**Goal:** Encourage the model to think through complex problems step-by-step before answering."
      ],
      "metadata": {
        "id": "28e9CfxAJDpA"
      }
    },
    {
      "cell_type": "code",
      "source": [
        "# Prompt a math word problem with CoT\n",
        "cot_prompt = \"\"\"\n",
        "Q: A farmer has 12 sheep and buys 5 more. Then 3 sheep are sold. How many sheep does he have now?\n",
        "Let's think step by step.\n",
        "\n",
        "1. The farmer starts with 12 sheep.\n",
        "2. He buys 5 more, so 12 + 5 = 17.\n",
        "3. He sells 3, so 17 - 3 = 14.\n",
        "\n",
        "Answer: 14\n",
        "\n",
        "Q: A bookstore sold 45 books on Monday and twice as many on Tuesday. How many books were sold on both days combined?\n",
        "Let's think step by step.\n",
        "\"\"\"\n",
        "\n",
        "print(ask_gpt(cot_prompt, temp=0))"
      ],
      "metadata": {
        "id": "tXRQ5_OdJHZG"
      },
      "execution_count": null,
      "outputs": []
    },
    {
      "cell_type": "markdown",
      "source": [
        "## 2️⃣ Persona-Based Prompting\n",
        "\n",
        "**Goal:** Guide the behavior, tone, and knowledge of the model by assigning a role/persona."
      ],
      "metadata": {
        "id": "8P9wX_qRJQcx"
      }
    },
    {
      "cell_type": "code",
      "source": [
        "# Prompt the model to respond as a travel guide\n",
        "persona_prompt = \"\"\"\n",
        "You are an expert travel guide specializing in Italy. Provide a 3-point list of must-see places in Rome for a first-time visitor, in an enthusiastic and friendly tone.\n",
        "\"\"\"\n",
        "\n",
        "print(ask_gpt(persona_prompt))"
      ],
      "metadata": {
        "id": "x9Ec_xaNJS3d"
      },
      "execution_count": null,
      "outputs": []
    },
    {
      "cell_type": "markdown",
      "source": [
        "## 3️⃣ Controlling Verbosity, Style \\& Tone\n",
        "\n",
        "**Goal:** Control length, formality, tone (e.g., concise vs detailed, formal vs casual)."
      ],
      "metadata": {
        "id": "pBzBXDueJbSp"
      }
    },
    {
      "cell_type": "code",
      "source": [
        "# Compare outputs with different verbosity and tone\n",
        "# Concise & formal\n",
        "prompt1 = \"Explain the importance of water conservation in 2 formal sentences.\"\n",
        "\n",
        "# Detailed & casual\n",
        "prompt2 = \"Explain why saving water is important in a casual and detailed style.\"\n",
        "\n",
        "print(\"Concise & Formal:\\n\", ask_gpt(prompt1))\n",
        "print(\"\\nDetailed & Casual:\\n\", ask_gpt(prompt2))"
      ],
      "metadata": {
        "id": "9v7DbLO8Jeou"
      },
      "execution_count": null,
      "outputs": []
    },
    {
      "cell_type": "markdown",
      "source": [
        "## 4️⃣ Prompting for Creativity vs. Accuracy\n",
        "\n",
        "**Goal:** Adjust temperature and prompt wording to balance imaginative vs factual outputs."
      ],
      "metadata": {
        "id": "MisunzzwJjby"
      }
    },
    {
      "cell_type": "code",
      "source": [
        "creative_prompt = \"Describe a futuristic city with flying cars and robots, write creatively and vividly.\"\n",
        "factual_prompt = \"Describe current trends in urban transportation with factual details and data.\"\n",
        "\n",
        "print(\"Creative Description (high creativity):\\n\", ask_gpt(creative_prompt, temp=0.9))\n",
        "print(\"\\nFactual Description (low creativity):\\n\", ask_gpt(factual_prompt, temp=0.2))"
      ],
      "metadata": {
        "id": "sH52XpvOJl1a"
      },
      "execution_count": null,
      "outputs": []
    },
    {
      "cell_type": "markdown",
      "source": [
        "# 📝 Reflection Questions\n",
        "\n",
        "- How did chain-of-thought help with complex problem solving?\n",
        "- How did persona-based prompting change tone and style?\n",
        "- Which verbosity and style control improved readability?\n",
        "- When is high creativity useful compared to factual accuracy?"
      ],
      "metadata": {
        "id": "Hire7jVwJojl"
      }
    }
  ],
  "metadata": {
    "colab": {
      "name": "Welcome to Colab",
      "toc_visible": true,
      "provenance": [],
      "include_colab_link": true
    },
    "kernelspec": {
      "display_name": "Python 3",
      "name": "python3"
    }
  },
  "nbformat": 4,
  "nbformat_minor": 0
}