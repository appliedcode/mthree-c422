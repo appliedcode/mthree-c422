{
 "cells": [
  {
   "cell_type": "markdown",
   "id": "076a3739",
   "metadata": {},
   "source": [
    "# Solution: News Headlines Feature Extraction & Similarity"
   ]
  },
  {
   "cell_type": "code",
   "execution_count": null,
   "id": "51596dd0",
   "metadata": {
    "vscode": {
     "languageId": "plaintext"
    }
   },
   "outputs": [],
   "source": [
    "# Import required libraries\n",
    "import numpy as np\n",
    "import pandas as pd\n",
    "import matplotlib.pyplot as plt\n",
    "from sklearn.feature_extraction.text import CountVectorizer\n",
    "from sklearn.metrics.pairwise import cosine_similarity\n",
    "import re\n",
    "\n",
    "# Sample news headlines\n",
    "headlines = [\n",
    "    \"AI outperforms doctors in diagnosing rare diseases\",\n",
    "    \"Stock markets hit new record highs amid global optimism\",\n",
    "    \"New vaccine shows promise in early trials\",\n",
    "    \"Climate change impacts agriculture across multiple continents\",\n",
    "    \"Scientists develop biodegradable plastic from seaweed\",\n",
    "    \"Sports teams adapt strategies with big data analytics\",\n",
    "    \"Electric vehicles set new sales record worldwide\",\n",
    "    \"Breakthrough in quantum computing boosts encryption security\"\n",
    "]\n",
    "\n",
    "# 1. Preprocessing function\n",
    "def simple_preprocess(text):\n",
    "    text = text.lower()\n",
    "    text = re.sub(r'[^\\w\\s]', '', text)\n",
    "    text = re.sub(r'\\s+', ' ', text).strip()\n",
    "    return text\n",
    "\n",
    "processed_headlines = [simple_preprocess(item) for item in headlines]\n",
    "\n",
    "# 2. Bag-of-Words vectorization\n",
    "vectorizer = CountVectorizer(\n",
    "    stop_words='english',   # Remove common English stop words\n",
    "    max_features=50         # Limit vocab size\n",
    ")\n",
    "bow_matrix = vectorizer.fit_transform(processed_headlines)\n",
    "feature_names = vectorizer.get_feature_names_out()\n",
    "\n",
    "print(\"BoW Vocabulary:\", feature_names)\n",
    "print(\"Matrix shape:\", bow_matrix.shape)\n",
    "print(\"Matrix density:\", bow_matrix.nnz / (bow_matrix.shape[0] * bow_matrix.shape[1]))\n",
    "\n",
    "# 3. Word frequencies and visualization\n",
    "word_freq = bow_matrix.sum(axis=0).A1\n",
    "word_freq_df = pd.DataFrame({'word': feature_names, 'freq': word_freq}).sort_values('freq', ascending=False)\n",
    "print(\"\\nTop 10 most frequent words:\\n\", word_freq_df.head(10))\n",
    "\n",
    "# Plot\n",
    "plt.figure(figsize=(8, 4))\n",
    "plt.bar(word_freq_df.head(10)['word'], word_freq_df.head(10)['freq'], color=\"skyblue\")\n",
    "plt.title(\"Top 10 Most Frequent Words in News Headlines\")\n",
    "plt.xlabel(\"Word\")\n",
    "plt.ylabel(\"Frequency\")\n",
    "plt.xticks(rotation=30)\n",
    "plt.show()\n",
    "\n",
    "# 4. Document similarity\n",
    "similarity = cosine_similarity(bow_matrix)\n",
    "sim_df = pd.DataFrame(similarity, index=[f\"Headline {i+1}\" for i in range(len(headlines))], columns=[f\"Headline {i+1}\" for i in range(len(headlines))])\n",
    "print(\"\\nCosine Similarity Matrix (rounded):\\n\", sim_df.round(2))\n",
    "\n",
    "# Identify most similar pair (excluding self-similarity)\n",
    "most_sim_idx = np.dstack(np.unravel_index(np.argsort(similarity.ravel()), similarity.shape))[0][::-1]\n",
    "for i, j in most_sim_idx:\n",
    "    if i != j:\n",
    "        print(f\"\\nMost similar headlines are {i+1} and {j+1} with similarity {similarity[i,j]:.2f}\")\n",
    "        print(\"==>\", headlines[i])\n",
    "        print(\"==>\", headlines[j])\n",
    "        break\n"
   ]
  }
 ],
 "metadata": {
  "language_info": {
   "name": "python"
  }
 },
 "nbformat": 4,
 "nbformat_minor": 5
}
