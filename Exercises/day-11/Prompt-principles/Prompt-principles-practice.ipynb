{
  "nbformat": 4,
  "nbformat_minor": 0,
  "metadata": {
    "colab": {
      "provenance": [],
      "authorship_tag": "ABX9TyNFCCpQepixPvXzN5lqUsz8",
      "include_colab_link": true
    },
    "kernelspec": {
      "name": "python3",
      "display_name": "Python 3"
    },
    "language_info": {
      "name": "python"
    }
  },
  "cells": [
    {
      "cell_type": "markdown",
      "metadata": {
        "id": "view-in-github",
        "colab_type": "text"
      },
      "source": [
        "<a href=\"https://colab.research.google.com/github/appliedcode/mthree-c422/blob/mthree-422-salleh/Exercises/day-11/Prompt-principles/Prompt-principles-practice.ipynb\" target=\"_parent\"><img src=\"https://colab.research.google.com/assets/colab-badge.svg\" alt=\"Open In Colab\"/></a>"
      ]
    },
    {
      "cell_type": "markdown",
      "source": [
        "## 📝 Problem Statement: Prompt Engineering Practice Lab with Diverse Datasets\n",
        "\n",
        "**Objective:**\n",
        "Apply and experiment with the **5 principles of prompt engineering** —\n",
        "\n",
        "1. Give Clear Direction\n",
        "2. Specify Format\n",
        "3. Provide Examples\n",
        "4. Evaluate Quality\n",
        "5. Divide Labor\n",
        "\n",
        "**Task:**\n",
        "Using the OpenAI API in Google Colab with the `gpt-4o-mini` model:\n",
        "\n",
        "***\n",
        "\n",
        "### 1. Give Clear Direction\n",
        "\n",
        "**Dataset:** Article excerpt on renewable energy\n",
        "**Data snippet:**\n",
        "\"Renewable energy sources such as solar, wind, and hydropower are increasingly cost-effective alternatives to fossil fuels. They reduce greenhouse gas emissions and offer sustainable energy solutions worldwide.\"\n",
        "\n",
        "- Start with a vague prompt (e.g., \"Write about energy.\")\n",
        "- Rewrite it with clear direction including audience (e.g., teenagers), tone (informative), and length (100 words).\n",
        "- Compare and analyze the outputs.\n",
        "\n",
        "***\n",
        "\n",
        "### 2. Specify Format\n",
        "\n",
        "**Dataset:** Product descriptions of three smartphones\n",
        "**Data snippet:**\n",
        "\n",
        "- Phone A: OLED display, 12MP camera, 4000mAh battery.\n",
        "- Phone B: AMOLED display, 108MP camera, 4500mAh battery.\n",
        "- Phone C: LCD display, 48MP camera, 3500mAh battery.\n",
        "- Ask a comparison question without specifying format.\n",
        "- Repeat with instructions to produce a markdown table listing features and specs.\n",
        "- Compare the clarity and usefulness of the outputs.\n",
        "\n",
        "***\n",
        "\n",
        "### 3. Provide Examples (Few-Shot)\n",
        "\n",
        "**Dataset:** Customer reviews for a coffee shop\n",
        "**Reviews:**\n",
        "\n",
        "- \"Loved the espresso, very rich flavor.\"\n",
        "- \"Service was slow but the ambiance was nice.\"\n",
        "- \"The croissant was stale and dry.\"\n",
        "- Provide 2-3 labeled examples classifying reviews as Positive, Neutral, or Negative.\n",
        "- Add a new review for the model to classify.\n",
        "\n",
        "***\n",
        "\n",
        "### 4. Evaluate Quality\n",
        "\n",
        "**Dataset:** Short news article on urban gardening\n",
        "**Text:**\n",
        "\"Community gardens are flourishing in cities worldwide, providing fresh produce and green spaces for residents. They improve air quality, foster social connections, and promote sustainability.\"\n",
        "\n",
        "- Summarize this text initially with a generic prompt.\n",
        "- Evaluate the output for completeness and key points.\n",
        "- Refine the prompt to ask for a 3-bullet summary mentioning benefits, social impact, and environmental effects.\n",
        "- Compare before and after outputs.\n",
        "\n",
        "***\n",
        "\n",
        "### 5. Divide Labor (Break Complex Tasks)\n",
        "\n",
        "**Dataset:** Business project - launching an online bookstore\n",
        "\n",
        "- Step 1 prompt: Define and describe the target customer base.\n",
        "- Step 2 prompt: Develop a marketing strategy tailored for the audience.\n",
        "- Step 3 prompt: Draft a content calendar for social media launch posts.\n",
        "- Run each prompt sequentially in Colab.\n",
        "- Combine the outputs into a cohesive overall launch plan.\n",
        "\n",
        "***\n",
        "\n",
        "## Deliverables\n",
        "\n",
        "For each principle:\n",
        "\n",
        "- Your original prompt(s)\n",
        "- Model output(s)\n",
        "- Observations on prompt design impact\n",
        "\n",
        "***\n",
        "\n",
        "**Goal:**\n",
        "Experience how tailoring prompts with clear direction, format, examples, evaluation, and task decomposition improves AI-generated content quality and usability.\n",
        "\n",
        "***\n",
        "\n",
        "If you would like, I can prepare this as a **ready-to-use Colab notebook template** with code cells pre-set for the datasets and exercises, so students can focus just on crafting prompts and observing results. Let me know if you want me to do that!"
      ],
      "metadata": {
        "id": "GYDCjsDYSP4N"
      }
    },
    {
      "cell_type": "code",
      "execution_count": 1,
      "metadata": {
        "id": "odztFojHSK3M",
        "colab": {
          "base_uri": "https://localhost:8080/"
        },
        "outputId": "3b0f4c53-0760-4ccf-cf74-f7197b129a23"
      },
      "outputs": [
        {
          "output_type": "stream",
          "name": "stdout",
          "text": [
            "✅ OpenAI API key loaded safely\n"
          ]
        }
      ],
      "source": [
        "# Setup\n",
        "# Install OpenAI SDK\n",
        "!pip install openai -q\n",
        "from google.colab import userdata\n",
        "import os\n",
        "\n",
        "openai_api_key = userdata.get(\"OPENAI_API_KEY\")\n",
        "if openai_api_key:\n",
        "    os.environ[\"OPENAI_API_KEY\"] = openai_api_key\n",
        "    print(\"✅ OpenAI API key loaded safely\")\n",
        "else:\n",
        "    print(\"❌ OpenAI API key not found. Please set it using Colab Secrets.\")\n"
      ]
    },
    {
      "cell_type": "code",
      "source": [
        "from openai import OpenAI\n",
        "client = OpenAI(api_key=os.environ[\"OPENAI_API_KEY\"])  # Replace with your API key\n",
        "\n",
        "def ask_gpt(prompt, temp=0.7, max_tokens=500):\n",
        "    \"\"\"Send a prompt to GPT-4o-mini and return the output\"\"\"\n",
        "    response = client.chat.completions.create(\n",
        "        model=\"gpt-4o-mini\",\n",
        "        messages=[{\"role\": \"user\", \"content\": prompt}],\n",
        "        temperature=temp,\n",
        "        max_tokens=max_tokens\n",
        "    )\n",
        "    return response.choices[0].message.content"
      ],
      "metadata": {
        "id": "kTBumDFPUAQz"
      },
      "execution_count": 2,
      "outputs": []
    },
    {
      "cell_type": "markdown",
      "source": [
        "#Principle 1 — Give Clear Direction\n",
        "\n",
        "Goal: Be specific about what, for whom, and how the task should be done.\n"
      ],
      "metadata": {
        "id": "w5G1NEpOUKaK"
      }
    },
    {
      "cell_type": "code",
      "source": [
        "data_snippet = (\n",
        "    \"Renewable energy sources such as solar, wind, and hydropower are increasingly cost-effective alternatives to fossil fuels. \",\n",
        "     \"They reduce greenhouse gas emissions and offer sustainable energy solutions worldwide.\"\n",
        ")\n",
        "\n",
        "vague_prompt = f\"\"\"Write about energy.\n",
        "Use only the following data snippet as your source:\n",
        "---\n",
        "{data_snippet}\n",
        "---\n",
        "\"\"\"\n",
        "\n",
        "clear_prompt = f\"\"\"Write, in about 100 words, about energy so that it is easily understood by teenagers in a friendly and informative tone.\n",
        "Use only the following data snippet as your source:\n",
        "---\n",
        "{data_snippet}\n",
        "---\n",
        "\"\"\"\n",
        "\n",
        "print(\"Vague Output:\\n\", ask_gpt(vague_prompt))\n",
        "print(\"Clear Output:\\n\", ask_gpt(clear_prompt))"
      ],
      "metadata": {
        "colab": {
          "base_uri": "https://localhost:8080/"
        },
        "id": "pVvRvr9TZKXG",
        "outputId": "a17bb48a-9cf1-41a0-c2bc-fde74f332380"
      },
      "execution_count": 3,
      "outputs": [
        {
          "output_type": "stream",
          "name": "stdout",
          "text": [
            "Vague Output:\n",
            " Energy plays a crucial role in powering our modern world, and the shift towards renewable energy sources is becoming increasingly prominent. Renewable energy sources such as solar, wind, and hydropower are emerging as cost-effective alternatives to traditional fossil fuels. This transition is not only economically beneficial but also essential for addressing environmental concerns.\n",
            "\n",
            "The use of renewable energy significantly reduces greenhouse gas emissions, which are a major contributor to climate change. By harnessing natural processes, these energy sources provide sustainable energy solutions that can meet the growing demand for power while minimizing ecological impact. As countries and communities worldwide adopt these technologies, they contribute to a cleaner and more sustainable future, ensuring that energy needs are met without compromising the health of our planet.\n",
            "Clear Output:\n",
            " Hey there! Let’s talk about energy. You might have heard about renewable energy sources like solar, wind, and hydropower. These are awesome alternatives to fossil fuels, which are often harmful to the environment. The cool thing is that renewable energy is becoming cheaper and more efficient every day! By using these clean energy sources, we can reduce greenhouse gas emissions and help protect our planet. Plus, they provide sustainable energy solutions that can last for generations. So, the next time you think about energy, remember that there are eco-friendly options out there making a positive impact!\n"
          ]
        }
      ]
    }
  ]
}