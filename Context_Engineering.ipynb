{
  "cells": [
    {
      "cell_type": "markdown",
      "metadata": {
        "id": "view-in-github",
        "colab_type": "text"
      },
      "source": [
        "<a href=\"https://colab.research.google.com/github/appliedcode/mthree-c422/blob/mthree-c422-Avantika/Context_Engineering.ipynb\" target=\"_parent\"><img src=\"https://colab.research.google.com/assets/colab-badge.svg\" alt=\"Open In Colab\"/></a>"
      ]
    },
    {
      "cell_type": "markdown",
      "source": [
        "## Lab Exercise: Context Management \\& Prompt Optimization in Prompt Engineering\n",
        "\n",
        "### Objective:\n",
        "\n",
        "- Understand and implement effective context management in prompts.\n",
        "- Practice prompt optimization to improve AI responses in clarity, specificity, and relevance.\n",
        "\n",
        "***\n",
        "\n",
        "### Setup:\n",
        "\n",
        "- Use OpenAI API or any language model API accessible in your Colab.\n",
        "- If API keys are needed, ensure they are safely added as environment variables or input by the user."
      ],
      "metadata": {
        "id": "eq4qKCdSNSko"
      }
    },
    {
      "cell_type": "code",
      "source": [
        "from google.colab import userdata\n",
        "import os\n",
        "\n",
        "# Set your OpenAI API key securely in Colab Secrets (once)\n",
        "# userdata.set(\"OPENAI_API_KEY\", \"your-api-key-here\")\n",
        "\n",
        "# Retrieve key in your notebook\n",
        "openai_api_key = userdata.get(\"OPENAI_API_KEY\")\n",
        "if openai_api_key:\n",
        "    os.environ[\"OPENAI_API_KEY\"] = openai_api_key\n",
        "    print(\"✅ OpenAI API key loaded safely\")\n",
        "else:\n",
        "    print(\"❌ OpenAI API key not found. Please set it using Colab Secrets.\")"
      ],
      "metadata": {
        "id": "2YMRqyRCNGmo",
        "outputId": "2b443b44-7699-4c8b-ba23-7ae76a4b4dae",
        "colab": {
          "base_uri": "https://localhost:8080/"
        }
      },
      "execution_count": 1,
      "outputs": [
        {
          "output_type": "stream",
          "name": "stdout",
          "text": [
            "✅ OpenAI API key loaded safely\n"
          ]
        }
      ]
    },
    {
      "cell_type": "code",
      "source": [
        "!pip install --quiet openai -q\n",
        "# Create client\n",
        "from openai import OpenAI\n",
        "client = OpenAI(api_key=os.environ[\"OPENAI_API_KEY\"])"
      ],
      "metadata": {
        "id": "9qrFrzlcPI1n"
      },
      "execution_count": 2,
      "outputs": []
    },
    {
      "cell_type": "code",
      "source": [
        "def generate_response(prompt, model=\"gpt-4o-mini\", max_tokens=200):\n",
        "    \"\"\"\n",
        "    Sends a user prompt to the OpenAI model and returns the AI's response.\n",
        "    \"\"\"\n",
        "    try:\n",
        "        completion = client.chat.completions.create(\n",
        "            model=model,\n",
        "            messages=[{\"role\": \"user\", \"content\": prompt}],\n",
        "            temperature=0.7,\n",
        "            max_tokens=max_tokens\n",
        "        )\n",
        "        return completion.choices[0].message.content.strip()\n",
        "    except Exception as e:\n",
        "        return f\"Error: {e}\""
      ],
      "metadata": {
        "id": "QgyY5D9BNzIT"
      },
      "execution_count": 5,
      "outputs": []
    },
    {
      "cell_type": "markdown",
      "source": [
        "### Exercise 1: Context Management\n",
        "\n",
        "**Goal:** Maintain relevant context across multiple turns of interaction to generate coherent and context-aware responses.\n",
        "\n",
        "**Steps:**\n",
        "\n",
        "1. Write a function `generate_response(prompt, context=None)` that:\n",
        "    - Takes a current prompt and optionally previous context.\n",
        "    - Constructs an input combining context and current prompt appropriately.\n",
        "    - Sends to the model and returns the response.\n",
        "2. Simulate a multi-turn conversation about a specific topic (e.g., \"Albert Einstein\") where each prompt builds on previous responses.\n",
        "3. Experiment with:\n",
        "    - Passing full context in each turn.\n",
        "    - Passing only the current prompt without context.\n",
        "4. Compare responses to see the difference context management makes."
      ],
      "metadata": {
        "id": "4Zcp3h72NYSH"
      }
    },
    {
      "cell_type": "code",
      "source": [
        "# WITHOUT Context\n",
        "print(\"=== Conversation WITHOUT Context ===\")\n",
        "questions = [\n",
        "    \"Who is Albert Einstein?\",\n",
        "    \"What awards has he won?\",\n",
        "    \"Tell me about his early life.\"\n",
        "]\n",
        "\n",
        "for q in questions:\n",
        "    response = generate_response(q)\n",
        "    print(f\"Q: {q}\\nAI: {response}\\n\")\n",
        "\n",
        "# WITH Context\n",
        "print(\"\\n=== Conversation WITH Context ===\")\n",
        "context = \"\"\n",
        "for q in questions:\n",
        "    full_prompt = context + f\"\\nUser: {q}\\nAI:\"\n",
        "    response = generate_response(full_prompt)\n",
        "    print(f\"Q: {q}\\nAI: {response}\\n\")\n",
        "    context += f\"\\nUser: {q}\\nAI: {response}\"\n",
        "\n"
      ],
      "metadata": {
        "id": "ediE9XofNVcZ",
        "outputId": "f128f996-1e33-4e94-d69f-98759d3e661a",
        "colab": {
          "base_uri": "https://localhost:8080/"
        }
      },
      "execution_count": 7,
      "outputs": [
        {
          "output_type": "stream",
          "name": "stdout",
          "text": [
            "=== Conversation WITHOUT Context ===\n",
            "Q: Who is Albert Einstein?\n",
            "AI: Error: Error code: 429 - {'error': {'message': 'You exceeded your current quota, please check your plan and billing details. For more information on this error, read the docs: https://platform.openai.com/docs/guides/error-codes/api-errors.', 'type': 'insufficient_quota', 'param': None, 'code': 'insufficient_quota'}}\n",
            "\n",
            "Q: What awards has he won?\n",
            "AI: Error: Error code: 429 - {'error': {'message': 'You exceeded your current quota, please check your plan and billing details. For more information on this error, read the docs: https://platform.openai.com/docs/guides/error-codes/api-errors.', 'type': 'insufficient_quota', 'param': None, 'code': 'insufficient_quota'}}\n",
            "\n",
            "Q: Tell me about his early life.\n",
            "AI: Error: Error code: 429 - {'error': {'message': 'You exceeded your current quota, please check your plan and billing details. For more information on this error, read the docs: https://platform.openai.com/docs/guides/error-codes/api-errors.', 'type': 'insufficient_quota', 'param': None, 'code': 'insufficient_quota'}}\n",
            "\n",
            "\n",
            "=== Conversation WITH Context ===\n",
            "Q: Who is Albert Einstein?\n",
            "AI: Error: Error code: 429 - {'error': {'message': 'You exceeded your current quota, please check your plan and billing details. For more information on this error, read the docs: https://platform.openai.com/docs/guides/error-codes/api-errors.', 'type': 'insufficient_quota', 'param': None, 'code': 'insufficient_quota'}}\n",
            "\n",
            "Q: What awards has he won?\n",
            "AI: Error: Error code: 429 - {'error': {'message': 'You exceeded your current quota, please check your plan and billing details. For more information on this error, read the docs: https://platform.openai.com/docs/guides/error-codes/api-errors.', 'type': 'insufficient_quota', 'param': None, 'code': 'insufficient_quota'}}\n",
            "\n",
            "Q: Tell me about his early life.\n",
            "AI: Error: Error code: 429 - {'error': {'message': 'You exceeded your current quota, please check your plan and billing details. For more information on this error, read the docs: https://platform.openai.com/docs/guides/error-codes/api-errors.', 'type': 'insufficient_quota', 'param': None, 'code': 'insufficient_quota'}}\n",
            "\n"
          ]
        }
      ]
    },
    {
      "cell_type": "markdown",
      "source": [
        "### Exercise 2: Prompt Optimization\n",
        "\n",
        "**Goal:** Improve prompt clarity and specificity to get more relevant and useful AI responses.\n",
        "\n",
        "**Steps:**\n",
        "\n",
        "1. Write a function `test_prompt(prompt)` that:\n",
        "    - Sends the prompt to the model.\n",
        "    - Returns the output.\n",
        "2. Using the initial vague prompts, optimize them to be clearer, more instructive, and tailored to a desired output.\n",
        "3. Compare outputs for:\n",
        "    - Vague prompt\n",
        "    - Optimized prompt with explicit instructions\n",
        "4. Try different optimization techniques such as breaking down complex requests and specifying output formats."
      ],
      "metadata": {
        "id": "hWEU96ToNhg1"
      }
    },
    {
      "cell_type": "code",
      "source": [
        "# Test vague and optimized prompts\n",
        "prompts = [\n",
        "    (\"Explain blockchain.\", \"Vague Prompt\"),\n",
        "    (\"Explain blockchain technology in simple terms suitable for a 12-year-old, using exactly 3 short examples.\", \"Optimized Prompt\")\n",
        "]\n",
        "\n",
        "for prompt, label in prompts:\n",
        "    print(f\"--- {label} ---\")\n",
        "    response = generate_response(prompt)\n",
        "    print(response, \"\\n\")\n"
      ],
      "metadata": {
        "id": "jiFuYeBhNmLe",
        "outputId": "675a4e2a-a168-4d22-f49a-9acc4808eae9",
        "colab": {
          "base_uri": "https://localhost:8080/"
        }
      },
      "execution_count": 8,
      "outputs": [
        {
          "output_type": "stream",
          "name": "stdout",
          "text": [
            "--- Vague Prompt ---\n",
            "Error: Error code: 429 - {'error': {'message': 'You exceeded your current quota, please check your plan and billing details. For more information on this error, read the docs: https://platform.openai.com/docs/guides/error-codes/api-errors.', 'type': 'insufficient_quota', 'param': None, 'code': 'insufficient_quota'}} \n",
            "\n",
            "--- Optimized Prompt ---\n",
            "Error: Error code: 429 - {'error': {'message': 'You exceeded your current quota, please check your plan and billing details. For more information on this error, read the docs: https://platform.openai.com/docs/guides/error-codes/api-errors.', 'type': 'insufficient_quota', 'param': None, 'code': 'insufficient_quota'}} \n",
            "\n"
          ]
        }
      ]
    },
    {
      "cell_type": "markdown",
      "source": [
        "**Example Prompts to optimize:**\n",
        "\n",
        "- Vague: \"Explain blockchain.\"\n",
        "- Optimized: \"Explain blockchain technology in simple terms suitable for a 12-year-old, using 3 examples.\"\n",
        "\n",
        "***\n",
        "\n",
        "### Bonus (Optional):\n",
        "\n",
        "- Combine both exercises to maintain context while optimizing prompts in each turn.\n",
        "- Experiment with token limits by truncating context and observing impacts.\n",
        "\n",
        "***"
      ],
      "metadata": {
        "id": "0vIHGktBNqEV"
      }
    },
    {
      "cell_type": "code",
      "source": [
        "# Combining both techniques\n",
        "context = \"\"\n",
        "conversation = [\n",
        "    \"Explain quantum computing to someone who knows basic high school physics.\",\n",
        "    \"Can you give 2 real-world use cases?\",\n",
        "    \"Summarize that in exactly 3 bullet points.\"\n",
        "]\n",
        "\n",
        "for q in conversation:\n",
        "    optimized_prompt = f\"{context}\\nUser: {q}\\nAI:\"\n",
        "    response = generate_response(optimized_prompt)\n",
        "    print(f\"Q: {q}\\nAI: {response}\\n\")\n",
        "    context += f\"\\nUser: {q}\\nAI: {response}\"\n"
      ],
      "metadata": {
        "id": "X-mTOdvlNsds",
        "outputId": "1776da12-3e60-4f36-c7c9-e4cce029c429",
        "colab": {
          "base_uri": "https://localhost:8080/"
        }
      },
      "execution_count": 9,
      "outputs": [
        {
          "output_type": "stream",
          "name": "stdout",
          "text": [
            "Q: Explain quantum computing to someone who knows basic high school physics.\n",
            "AI: Error: Error code: 429 - {'error': {'message': 'You exceeded your current quota, please check your plan and billing details. For more information on this error, read the docs: https://platform.openai.com/docs/guides/error-codes/api-errors.', 'type': 'insufficient_quota', 'param': None, 'code': 'insufficient_quota'}}\n",
            "\n",
            "Q: Can you give 2 real-world use cases?\n",
            "AI: Error: Error code: 429 - {'error': {'message': 'You exceeded your current quota, please check your plan and billing details. For more information on this error, read the docs: https://platform.openai.com/docs/guides/error-codes/api-errors.', 'type': 'insufficient_quota', 'param': None, 'code': 'insufficient_quota'}}\n",
            "\n",
            "Q: Summarize that in exactly 3 bullet points.\n",
            "AI: Error: Error code: 429 - {'error': {'message': 'You exceeded your current quota, please check your plan and billing details. For more information on this error, read the docs: https://platform.openai.com/docs/guides/error-codes/api-errors.', 'type': 'insufficient_quota', 'param': None, 'code': 'insufficient_quota'}}\n",
            "\n"
          ]
        }
      ]
    }
  ],
  "metadata": {
    "colab": {
      "provenance": [],
      "include_colab_link": true
    },
    "kernelspec": {
      "display_name": "Python 3",
      "name": "python3"
    }
  },
  "nbformat": 4,
  "nbformat_minor": 0
}