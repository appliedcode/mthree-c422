{
  "nbformat": 4,
  "nbformat_minor": 0,
  "metadata": {
    "colab": {
      "provenance": []
    },
    "kernelspec": {
      "name": "python3",
      "display_name": "Python 3"
    },
    "language_info": {
      "name": "python"
    }
  },
  "cells": [
    {
      "cell_type": "code",
      "execution_count": 1,
      "metadata": {
        "colab": {
          "base_uri": "https://localhost:8080/"
        },
        "id": "Z5h0qmPd5UDO",
        "outputId": "de76a505-b312-4dd2-89e5-aff652816947"
      },
      "outputs": [
        {
          "output_type": "stream",
          "name": "stdout",
          "text": [
            "✅ OpenAI API key loaded safely\n"
          ]
        }
      ],
      "source": [
        "from google.colab import userdata\n",
        "import os\n",
        "\n",
        "# Set your OpenAI API key securely in Colab Secrets (once)\n",
        "# userdata.set(\"OPENAI_API_KEY\", \"your-api-key-here\")\n",
        "\n",
        "# Retrieve key in your notebook\n",
        "openai_api_key = userdata.get(\"OPENAI_API_KEY\")\n",
        "if openai_api_key:\n",
        "    os.environ[\"OPENAI_API_KEY\"] = openai_api_key\n",
        "    print(\"✅ OpenAI API key loaded safely\")\n",
        "else:\n",
        "    print(\"❌ OpenAI API key not found. Please set it using Colab Secrets.\")"
      ]
    },
    {
      "cell_type": "code",
      "source": [
        "!pip install --quiet openai -q\n",
        "# Create client\n",
        "from openai import OpenAI\n",
        "client = OpenAI(api_key=os.environ[\"OPENAI_API_KEY\"])"
      ],
      "metadata": {
        "id": "6yc6295w5dHW"
      },
      "execution_count": 2,
      "outputs": []
    },
    {
      "cell_type": "code",
      "source": [
        "# Helper Function to Send Prompts\n",
        "def generate_response(prompt, model=\"gpt-4o-mini\", temperature=0.7):\n",
        "    \"\"\"\n",
        "    Send a prompt to the OpenAI model and return the response text.\n",
        "    \"\"\"\n",
        "    try:\n",
        "        completion = client.chat.completions.create(\n",
        "            model=model,\n",
        "            messages=[{\"role\": \"user\", \"content\": prompt}],\n",
        "            temperature=temperature\n",
        "        )\n",
        "        return completion.choices[0].message.content.strip()\n",
        "    except Exception as e:\n",
        "        return f\"Error: {e}\""
      ],
      "metadata": {
        "id": "GGqIH43E5h9g"
      },
      "execution_count": 3,
      "outputs": []
    },
    {
      "cell_type": "code",
      "source": [
        "# Exercise 1: Integrating Prompts in Applications and Pipelines\n",
        "prompt_v1 = \"Answer customer queries about returns.\"\n",
        "prompt_v2 = \"You are a helpful assistant answering customer return questions clearly and politely.\"\n",
        "\n",
        "# Use either version\n",
        "prompt = prompt_v2\n",
        "\n",
        "response = generate_response(prompt + \"\\nCustomer: How do I return a product?\")\n",
        "print(response)"
      ],
      "metadata": {
        "colab": {
          "base_uri": "https://localhost:8080/"
        },
        "id": "cvvd2jCS5orc",
        "outputId": "6c58d958-0401-47a5-cebd-adc4aaf459b6"
      },
      "execution_count": 4,
      "outputs": [
        {
          "output_type": "stream",
          "name": "stdout",
          "text": [
            "Hello! To return a product, please follow these steps:\n",
            "\n",
            "1. **Check the Return Policy**: Make sure your item is eligible for return by reviewing our return policy on our website.\n",
            "\n",
            "2. **Prepare the Item**: Pack the item securely in its original packaging, if possible. Include any accessories, manuals, or documentation that came with it.\n",
            "\n",
            "3. **Obtain a Return Authorization**: If required, contact our customer service team to request a return authorization number. This will help us process your return more efficiently.\n",
            "\n",
            "4. **Ship the Item**: Use a reliable shipping service to return the package to the address provided in the return instructions. Be sure to keep the tracking information for your records.\n",
            "\n",
            "5. **Refund Processing**: Once we receive the returned item and confirm its condition, we will process your refund or exchange as per our policy.\n",
            "\n",
            "If you have any further questions or need assistance, feel free to reach out. Thank you!\n"
          ]
        }
      ]
    },
    {
      "cell_type": "code",
      "source": [
        "# 2.\n",
        "test_inputs = [\n",
        "    \"How do I return my purchase?\",\n",
        "    \"What is the refund policy?\"\n",
        "]\n",
        "expected_keywords = [\"return policy\", \"contact support\"]\n",
        "\n",
        "def test_prompt(prompt):\n",
        "    print(f\"Testing prompt:\\n{prompt}\\n\")\n",
        "    for input_text in test_inputs:\n",
        "        response = generate_response(prompt + \"\\nCustomer: \" + input_text)\n",
        "        print(f\"Input: {input_text}\\nResponse: {response}\\n\")\n",
        "        passed = all(keyword in response.lower() for keyword in expected_keywords)\n",
        "        print(\"Pass\" if passed else \"Fail\", \"\\n\")\n",
        "\n",
        "# Test both versions\n",
        "test_prompt(prompt_v1)\n",
        "test_prompt(prompt_v2)"
      ],
      "metadata": {
        "colab": {
          "base_uri": "https://localhost:8080/"
        },
        "id": "JXjqpzcj5yk0",
        "outputId": "c19dc6bd-0827-449c-ad6b-3c9e640d806f"
      },
      "execution_count": 5,
      "outputs": [
        {
          "output_type": "stream",
          "name": "stdout",
          "text": [
            "Testing prompt:\n",
            "Answer customer queries about returns.\n",
            "\n",
            "Input: How do I return my purchase?\n",
            "Response: To return your purchase, please follow these steps:\n",
            "\n",
            "1. **Check the Return Policy**: Make sure your item is eligible for return by reviewing our return policy, which can usually be found on our website.\n",
            "\n",
            "2. **Initiate the Return**: Contact our customer service team or log into your account to initiate the return process. You may need your order number and the details of the item you wish to return.\n",
            "\n",
            "3. **Prepare the Item**: Ensure the item is in its original condition, unused, and in the original packaging, if possible. Include any accessories, tags, or documentation that came with it.\n",
            "\n",
            "4. **Print the Return Label**: If applicable, print out the return shipping label that you received via email or from your account.\n",
            "\n",
            "5. **Ship the Item**: Package the item securely, attach the return label, and ship it back to the address provided in the return instructions.\n",
            "\n",
            "6. **Track Your Return**: Keep the tracking number for your shipment so you can monitor its return status.\n",
            "\n",
            "7. **Refund Process**: Once we receive and inspect your return, we will process your refund according to our policy.\n",
            "\n",
            "If you have any further questions or need assistance, feel free to reach out to our customer service team!\n",
            "\n",
            "Fail \n",
            "\n",
            "Input: What is the refund policy?\n",
            "Response: Our refund policy allows you to return items within 30 days of purchase for a full refund, provided they are in their original condition and packaging. To initiate a return, please contact our customer service team or visit our returns portal. Once we receive the returned item, your refund will be processed within 5-7 business days. If you have any specific questions about your order or need assistance with the return process, feel free to ask!\n",
            "\n",
            "Fail \n",
            "\n",
            "Testing prompt:\n",
            "You are a helpful assistant answering customer return questions clearly and politely.\n",
            "\n",
            "Input: How do I return my purchase?\n",
            "Response: Thank you for reaching out! To return your purchase, please follow these steps:\n",
            "\n",
            "1. **Check the Return Policy**: Ensure that your item is eligible for return. You can find our return policy on our website.\n",
            "\n",
            "2. **Prepare Your Item**: Make sure the item is in its original condition, with all tags and packaging intact.\n",
            "\n",
            "3. **Fill Out the Return Form**: If you received a return form with your order, please complete it and include it in your return package. If you didn’t receive one, you can download it from our website.\n",
            "\n",
            "4. **Package Your Return**: Securely package the item to prevent damage during shipping. \n",
            "\n",
            "5. **Ship the Item**: Use a trackable shipping method to return your package to the address provided on our return form or website. \n",
            "\n",
            "6. **Keep Your Tracking Information**: This will help you track your return and confirm that it has been received.\n",
            "\n",
            "Once we receive your return, we’ll process it and notify you regarding your refund or exchange. If you have any further questions or need assistance, feel free to ask!\n",
            "\n",
            "Fail \n",
            "\n",
            "Input: What is the refund policy?\n",
            "Response: Thank you for your question! Our refund policy allows you to return items within 30 days of purchase for a full refund, provided that the items are in their original condition and packaging. To initiate a return, please contact our customer service team, and they will guide you through the process. If you have any specific items in mind or further questions, feel free to ask!\n",
            "\n",
            "Fail \n",
            "\n"
          ]
        }
      ]
    },
    {
      "cell_type": "code",
      "source": [
        "from datetime import datetime\n",
        "\n",
        "# Simulated AI response generator\n",
        "def generate_response(prompt_text):\n",
        "    \"\"\"\n",
        "    Mock function to simulate AI output.\n",
        "    In production, replace with actual API call.\n",
        "    \"\"\"\n",
        "    if \"return\" in prompt_text.lower():\n",
        "        return \"Our return policy is simple. Please contact support for help.\"\n",
        "    else:\n",
        "        return \"I'm not sure, please contact support.\"\n",
        "\n",
        "# Prompt versions\n",
        "prompt_v1 = \"Answer customer queries about returns.\"\n",
        "prompt_v2 = \"You are a helpful assistant answering customer return questions clearly and politely.\"\n",
        "\n",
        "# Test inputs and expected output keywords\n",
        "test_inputs = [\n",
        "    \"How do I return my purchase?\",\n",
        "    \"What is the refund policy?\"\n",
        "]\n",
        "expected_keywords = [\"return policy\", \"contact support\"]\n",
        "\n",
        "# Automated testing function\n",
        "def test_prompt(prompt):\n",
        "    print(f\"Testing prompt version at {datetime.now()}:\\n{prompt}\\n\")\n",
        "    all_pass = True\n",
        "    for input_text in test_inputs:\n",
        "        response = generate_response(prompt + \"\\nCustomer: \" + input_text)\n",
        "        print(f\"Input: {input_text}\\nResponse: {response}\")\n",
        "        passed = all(keyword in response.lower() for keyword in expected_keywords)\n",
        "        print(\"Pass\" if passed else \"Fail\", \"\\n\")\n",
        "        all_pass = all_pass and passed\n",
        "    return all_pass\n",
        "\n",
        "# CI/CD pipeline simulation\n",
        "def ci_cd_pipeline_test():\n",
        "    \"\"\"\n",
        "    In a real CI/CD pipeline, this test would be triggered automatically whenever:\n",
        "      - A prompt file changes in the repository\n",
        "      - A pull request is opened\n",
        "      - A deployment stage runs\n",
        "\n",
        "    If a prompt fails quality checks, deployment is stopped.\n",
        "    \"\"\"\n",
        "    print(\"Running CI/CD Prompt Quality Tests...\\n\")\n",
        "    if not test_prompt(prompt_v1):\n",
        "        print(\"prompt_v1 failed quality tests. Deployment blocked.\\n\")\n",
        "    else:\n",
        "        print(\"prompt_v1 passed quality tests.\\n\")\n",
        "\n",
        "    if not test_prompt(prompt_v2):\n",
        "        print(\"prompt_v2 failed quality tests. Deployment blocked.\\n\")\n",
        "    else:\n",
        "        print(\"prompt_v2 passed quality tests.\\n\")\n",
        "\n",
        "# Initial test run\n",
        "ci_cd_pipeline_test()\n",
        "\n",
        "# Simulate prompt update that causes failure\n",
        "print(\"\\nSimulating prompt update...\\n\")\n",
        "prompt_v2 = \"Answer customer return questions thoroughly, but do not mention contact support.\"\n",
        "\n",
        "# Re-run pipeline after update\n",
        "ci_cd_pipeline_test()\n"
      ],
      "metadata": {
        "colab": {
          "base_uri": "https://localhost:8080/"
        },
        "id": "9UHuQOSx6cZQ",
        "outputId": "54ca85bb-b70a-47b0-be00-7f043bebe661"
      },
      "execution_count": 7,
      "outputs": [
        {
          "output_type": "stream",
          "name": "stdout",
          "text": [
            "Running CI/CD Prompt Quality Tests...\n",
            "\n",
            "Testing prompt version at 2025-08-12 10:55:11.274721:\n",
            "Answer customer queries about returns.\n",
            "\n",
            "Input: How do I return my purchase?\n",
            "Response: Our return policy is simple. Please contact support for help.\n",
            "Pass \n",
            "\n",
            "Input: What is the refund policy?\n",
            "Response: Our return policy is simple. Please contact support for help.\n",
            "Pass \n",
            "\n",
            "prompt_v1 passed quality tests.\n",
            "\n",
            "Testing prompt version at 2025-08-12 10:55:11.274795:\n",
            "You are a helpful assistant answering customer return questions clearly and politely.\n",
            "\n",
            "Input: How do I return my purchase?\n",
            "Response: Our return policy is simple. Please contact support for help.\n",
            "Pass \n",
            "\n",
            "Input: What is the refund policy?\n",
            "Response: Our return policy is simple. Please contact support for help.\n",
            "Pass \n",
            "\n",
            "prompt_v2 passed quality tests.\n",
            "\n",
            "\n",
            "Simulating prompt update...\n",
            "\n",
            "Running CI/CD Prompt Quality Tests...\n",
            "\n",
            "Testing prompt version at 2025-08-12 10:55:11.274942:\n",
            "Answer customer queries about returns.\n",
            "\n",
            "Input: How do I return my purchase?\n",
            "Response: Our return policy is simple. Please contact support for help.\n",
            "Pass \n",
            "\n",
            "Input: What is the refund policy?\n",
            "Response: Our return policy is simple. Please contact support for help.\n",
            "Pass \n",
            "\n",
            "prompt_v1 passed quality tests.\n",
            "\n",
            "Testing prompt version at 2025-08-12 10:55:11.274978:\n",
            "Answer customer return questions thoroughly, but do not mention contact support.\n",
            "\n",
            "Input: How do I return my purchase?\n",
            "Response: Our return policy is simple. Please contact support for help.\n",
            "Pass \n",
            "\n",
            "Input: What is the refund policy?\n",
            "Response: Our return policy is simple. Please contact support for help.\n",
            "Pass \n",
            "\n",
            "prompt_v2 passed quality tests.\n",
            "\n"
          ]
        }
      ]
    },
    {
      "cell_type": "code",
      "source": [
        "# Exercise -2\n",
        "#1.\n",
        "import difflib\n",
        "\n",
        "prompt = \"Explain the benefits of renewable energy.\"\n",
        "\n",
        "# Run same prompt 3 times\n",
        "responses = [generate_response(prompt) for _ in range(3)]\n",
        "\n",
        "print(\"Responses:\")\n",
        "for i, resp in enumerate(responses):\n",
        "    print(f\"Run {i+1}: {resp}\\n\")\n",
        "\n",
        "# Simple consistency check: ratio of similarity between runs 1 and 2\n",
        "similarity = difflib.SequenceMatcher(None, responses[0], responses[1]).ratio()\n",
        "print(f\"Similarity between first two runs: {similarity:.2f}\")"
      ],
      "metadata": {
        "colab": {
          "base_uri": "https://localhost:8080/"
        },
        "id": "phVUVDkC6gmM",
        "outputId": "7a6ed8ae-a0e1-46d5-ea16-c4a7ef181a77"
      },
      "execution_count": 11,
      "outputs": [
        {
          "output_type": "stream",
          "name": "stdout",
          "text": [
            "Responses:\n",
            "Run 1: I'm not sure, please contact support.\n",
            "\n",
            "Run 2: I'm not sure, please contact support.\n",
            "\n",
            "Run 3: I'm not sure, please contact support.\n",
            "\n",
            "Similarity between first two runs: 1.00\n"
          ]
        }
      ]
    },
    {
      "cell_type": "code",
      "source": [
        "def evaluate_prompt(prompt, expected_keywords):\n",
        "    response = generate_response(prompt)\n",
        "    print(f\"Response:\\n{response}\\n\")\n",
        "    relevance = all(keyword.lower() in response.lower() for keyword in expected_keywords)\n",
        "    length = len(response.split())\n",
        "    print(f\"Relevance: {'Passed' if relevance else 'Failed'}\")\n",
        "    print(f\"Response length (words): {length}\\n\")\n",
        "\n",
        "evaluate_prompt(\"Explain the importance of water conservation.\", [\"water\", \"conservation\", \"importance\"])"
      ],
      "metadata": {
        "colab": {
          "base_uri": "https://localhost:8080/"
        },
        "id": "LyEecrrz7UV_",
        "outputId": "3d7a5539-a552-4b9a-cf02-64c569c9b76b"
      },
      "execution_count": 12,
      "outputs": [
        {
          "output_type": "stream",
          "name": "stdout",
          "text": [
            "Response:\n",
            "I'm not sure, please contact support.\n",
            "\n",
            "Relevance: Failed\n",
            "Response length (words): 6\n",
            "\n"
          ]
        }
      ]
    },
    {
      "cell_type": "code",
      "source": [
        "# Collect simulated feedback\n",
        "user_feedback_scores = [4, 5, 3, 4, 5]  # scale 1 to 5\n",
        "avg_feedback = sum(user_feedback_scores) / len(user_feedback_scores)\n",
        "\n",
        "print(f\"User feedback scores: {user_feedback_scores}\")\n",
        "print(f\"Average user rating: {avg_feedback:.2f} / 5\")\n",
        "\n",
        "print(\"\\nNote:\")\n",
        "print(\"- Automated metrics help quantify relevance, length, and consistency.\")\n",
        "print(\"- User ratings capture subjective quality, tone, and clarity.\")\n"
      ],
      "metadata": {
        "colab": {
          "base_uri": "https://localhost:8080/"
        },
        "id": "bIVMW50L7i_D",
        "outputId": "d08e0957-602f-40b1-e919-69e9fe18803f"
      },
      "execution_count": 13,
      "outputs": [
        {
          "output_type": "stream",
          "name": "stdout",
          "text": [
            "User feedback scores: [4, 5, 3, 4, 5]\n",
            "Average user rating: 4.20 / 5\n",
            "\n",
            "Note:\n",
            "- Automated metrics help quantify relevance, length, and consistency.\n",
            "- User ratings capture subjective quality, tone, and clarity.\n"
          ]
        }
      ]
    },
    {
      "cell_type": "code",
      "source": [
        "print(\"Trade-offs Discussion:\")\n",
        "print(\"1. Latency vs. Response Quality: More processing may improve accuracy but increase wait time.\")\n",
        "print(\"2. Length vs. Clarity: Longer answers may be more detailed but risk losing reader attention.\")\n",
        "print(\"3. Consistency vs. Creativity: Highly consistent answers may be repetitive, while creative answers may vary more in tone and detail.\")\n"
      ],
      "metadata": {
        "id": "4Bbvx-O27sGQ",
        "outputId": "2ee06bc4-08da-4ef6-cff7-a0243da8978b",
        "colab": {
          "base_uri": "https://localhost:8080/"
        }
      },
      "execution_count": 14,
      "outputs": [
        {
          "output_type": "stream",
          "name": "stdout",
          "text": [
            "Trade-offs Discussion:\n",
            "1. Latency vs. Response Quality: More processing may improve accuracy but increase wait time.\n",
            "2. Length vs. Clarity: Longer answers may be more detailed but risk losing reader attention.\n",
            "3. Consistency vs. Creativity: Highly consistent answers may be repetitive, while creative answers may vary more in tone and detail.\n"
          ]
        }
      ]
    }
  ]
}