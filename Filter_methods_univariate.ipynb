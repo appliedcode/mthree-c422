{
  "nbformat": 4,
  "nbformat_minor": 0,
  "metadata": {
    "colab": {
      "provenance": [],
      "authorship_tag": "ABX9TyPfD12KmRgCvFC+vXgpijBh",
      "include_colab_link": true
    },
    "kernelspec": {
      "name": "python3",
      "display_name": "Python 3"
    },
    "language_info": {
      "name": "python"
    }
  },
  "cells": [
    {
      "cell_type": "markdown",
      "metadata": {
        "id": "view-in-github",
        "colab_type": "text"
      },
      "source": [
        "<a href=\"https://colab.research.google.com/github/appliedcode/mthree-c422/blob/mthree-422-srilatha/Filter_methods_univariate.ipynb\" target=\"_parent\"><img src=\"https://colab.research.google.com/assets/colab-badge.svg\" alt=\"Open In Colab\"/></a>"
      ]
    },
    {
      "cell_type": "code",
      "execution_count": null,
      "metadata": {
        "id": "eIpsqBZEfAiw"
      },
      "outputs": [],
      "source": [
        "from sklearn.feature_selection import SelectKBest, f_classif\n",
        "from sklearn.datasets import load_iris\n",
        "import pandas as pd\n",
        "import matplotlib.pyplot as plt\n",
        "import seaborn as sns"
      ]
    },
    {
      "cell_type": "code",
      "source": [
        "data = load_iris()\n",
        "X = pd.DataFrame(data.data, columns=data.feature_names)\n",
        "y = data.target\n",
        "\n",
        "# Feature selection\n",
        "k = 3\n",
        "selector = SelectKBest(score_func=f_classif, k=k)\n",
        "X_anova = selector.fit_transform(X, y)\n",
        "scores = selector.scores_\n",
        "\n",
        "# Create and sort DataFrame of F-scores\n",
        "anova_df = pd.DataFrame({'feature': X.columns, 'F_score': scores})\n",
        "anova_df = anova_df.sort_values(by='F_score', ascending=False)\n",
        "\n",
        "# Print results\n",
        "print(anova_df)\n",
        "print(f\"Top {k} features:\", list(anova_df['feature'][:k]))"
      ],
      "metadata": {
        "colab": {
          "base_uri": "https://localhost:8080/"
        },
        "id": "oTpHGTmkgBFW",
        "outputId": "33c92f70-4e2c-4126-c5ee-f1e59f08d7d1"
      },
      "execution_count": null,
      "outputs": [
        {
          "output_type": "stream",
          "name": "stdout",
          "text": [
            "             feature      F_score\n",
            "2  petal length (cm)  1180.161182\n",
            "3   petal width (cm)   960.007147\n",
            "0  sepal length (cm)   119.264502\n",
            "1   sepal width (cm)    49.160040\n",
            "Top 3 features: ['petal length (cm)', 'petal width (cm)', 'sepal length (cm)']\n"
          ]
        }
      ]
    },
    {
      "cell_type": "code",
      "source": [
        "display(anova_df.style.background_gradient('Reds', subset=['F_score']))\n"
      ],
      "metadata": {
        "colab": {
          "base_uri": "https://localhost:8080/",
          "height": 174
        },
        "id": "4P-7NptIg9BO",
        "outputId": "beccce93-14dd-42b8-86a5-2e276753d5a0"
      },
      "execution_count": null,
      "outputs": [
        {
          "output_type": "display_data",
          "data": {
            "text/plain": [
              "<pandas.io.formats.style.Styler at 0x7c2e6c3c9890>"
            ],
            "text/html": [
              "<style type=\"text/css\">\n",
              "#T_ae456_row0_col1 {\n",
              "  background-color: #67000d;\n",
              "  color: #f1f1f1;\n",
              "}\n",
              "#T_ae456_row1_col1 {\n",
              "  background-color: #b91419;\n",
              "  color: #f1f1f1;\n",
              "}\n",
              "#T_ae456_row2_col1 {\n",
              "  background-color: #ffebe2;\n",
              "  color: #000000;\n",
              "}\n",
              "#T_ae456_row3_col1 {\n",
              "  background-color: #fff5f0;\n",
              "  color: #000000;\n",
              "}\n",
              "</style>\n",
              "<table id=\"T_ae456\" class=\"dataframe\">\n",
              "  <thead>\n",
              "    <tr>\n",
              "      <th class=\"blank level0\" >&nbsp;</th>\n",
              "      <th id=\"T_ae456_level0_col0\" class=\"col_heading level0 col0\" >feature</th>\n",
              "      <th id=\"T_ae456_level0_col1\" class=\"col_heading level0 col1\" >F_score</th>\n",
              "    </tr>\n",
              "  </thead>\n",
              "  <tbody>\n",
              "    <tr>\n",
              "      <th id=\"T_ae456_level0_row0\" class=\"row_heading level0 row0\" >2</th>\n",
              "      <td id=\"T_ae456_row0_col0\" class=\"data row0 col0\" >petal length (cm)</td>\n",
              "      <td id=\"T_ae456_row0_col1\" class=\"data row0 col1\" >1180.161182</td>\n",
              "    </tr>\n",
              "    <tr>\n",
              "      <th id=\"T_ae456_level0_row1\" class=\"row_heading level0 row1\" >3</th>\n",
              "      <td id=\"T_ae456_row1_col0\" class=\"data row1 col0\" >petal width (cm)</td>\n",
              "      <td id=\"T_ae456_row1_col1\" class=\"data row1 col1\" >960.007147</td>\n",
              "    </tr>\n",
              "    <tr>\n",
              "      <th id=\"T_ae456_level0_row2\" class=\"row_heading level0 row2\" >0</th>\n",
              "      <td id=\"T_ae456_row2_col0\" class=\"data row2 col0\" >sepal length (cm)</td>\n",
              "      <td id=\"T_ae456_row2_col1\" class=\"data row2 col1\" >119.264502</td>\n",
              "    </tr>\n",
              "    <tr>\n",
              "      <th id=\"T_ae456_level0_row3\" class=\"row_heading level0 row3\" >1</th>\n",
              "      <td id=\"T_ae456_row3_col0\" class=\"data row3 col0\" >sepal width (cm)</td>\n",
              "      <td id=\"T_ae456_row3_col1\" class=\"data row3 col1\" >49.160040</td>\n",
              "    </tr>\n",
              "  </tbody>\n",
              "</table>\n"
            ]
          },
          "metadata": {}
        }
      ]
    },
    {
      "cell_type": "code",
      "source": [
        "data = load_iris()\n",
        "X = pd.DataFrame(data.data, columns=data.feature_names)\n",
        "y = data.target\n",
        "\n",
        "# Define the function\n",
        "def run_anova(k):\n",
        "    selector = SelectKBest(score_func=f_classif, k=k)\n",
        "    selector.fit(X, y)\n",
        "    scores = selector.scores_\n",
        "    anova_df = pd.DataFrame({'feature': X.columns, 'F_score': scores})\n",
        "    anova_df = anova_df.sort_values(by='F_score', ascending=False)\n",
        "    return anova_df\n",
        "\n",
        "# Stability check\n",
        "stability = {}\n",
        "for k in [1, 2, 3, 4]:\n",
        "    stability[k] = list(run_anova(k)['feature'][:k])\n",
        "\n",
        "print(\"Top-k stability:\", stability)"
      ],
      "metadata": {
        "colab": {
          "base_uri": "https://localhost:8080/"
        },
        "id": "Y0oEGfM5hKjw",
        "outputId": "30e69162-9541-4ce6-b0c7-dd90451f4e6c"
      },
      "execution_count": null,
      "outputs": [
        {
          "output_type": "stream",
          "name": "stdout",
          "text": [
            "Top-k stability: {1: ['petal length (cm)'], 2: ['petal length (cm)', 'petal width (cm)'], 3: ['petal length (cm)', 'petal width (cm)', 'sepal length (cm)'], 4: ['petal length (cm)', 'petal width (cm)', 'sepal length (cm)', 'sepal width (cm)']}\n"
          ]
        }
      ]
    },
    {
      "cell_type": "code",
      "source": [
        "cum = anova_df['F_score'].cumsum() / anova_df['F_score'].sum()\n",
        "plt.plot(range(1,len(cum)+1), cum, marker='o')\n",
        "plt.xlabel(\"Number of Features\"); plt.ylabel(\"Cumulative F-score (%)\")\n",
        "plt.title(\"Cumulative Importance by F-score\")\n",
        "plt.show()"
      ],
      "metadata": {
        "colab": {
          "base_uri": "https://localhost:8080/",
          "height": 472
        },
        "id": "Apab4RxJiVJf",
        "outputId": "2773cf82-1d46-4654-b776-4edb26337451"
      },
      "execution_count": null,
      "outputs": [
        {
          "output_type": "display_data",
          "data": {
            "text/plain": [
              "<Figure size 640x480 with 1 Axes>"
            ],
            "image/png": "[encoded data removed]"
          },
          "metadata": {}
        }
      ]
    }
  ]
}