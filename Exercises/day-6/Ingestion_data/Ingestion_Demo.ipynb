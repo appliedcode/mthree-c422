{
  "cells": [
    {
      "cell_type": "markdown",
      "metadata": {
        "id": "view-in-github",
        "colab_type": "text"
      },
      "source": [
        "<a href=\"https://colab.research.google.com/github/appliedcode/mthree-c422/blob/main/Exercises/day-6/Ingestion_data/Ingestion_Demo.ipynb\" target=\"_parent\"><img src=\"https://colab.research.google.com/assets/colab-badge.svg\" alt=\"Open In Colab\"/></a>"
      ]
    },
    {
      "cell_type": "markdown",
      "source": [
        "# Ingesting Data from REST API and CSV in Google Colab\n",
        "This lab exercise is inspired by the provided image, focusing on demonstrating how to ingest data from a public REST API and a local CSV file. It is suitable for running directly in Google Colab.\n",
        "\n",
        "Objectives\n",
        "- Practice loading data from a REST API using Python.\n",
        "\n",
        "- Load and inspect data from a local CSV file.\n",
        "\n",
        "- Compare the similarities and differences between API and CSV ingestion.\n",
        "\n"
      ],
      "metadata": {
        "id": "W4J5zNWUMcF8"
      }
    },
    {
      "cell_type": "code",
      "source": [
        "# Step 1: Set Up the Environment\n",
        "# Install required libraries (requests and pandas)\n",
        "!pip install requests pandas -q\n"
      ],
      "metadata": {
        "colab": {
          "base_uri": "https://localhost:8080/"
        },
        "id": "Cm1LfJl2VLWe",
        "outputId": "708c36f5-6d6d-438b-e4f7-3549e4c77b45"
      },
      "execution_count": 1,
      "outputs": [
        {
          "output_type": "stream",
          "name": "stdout",
          "text": [
            "Requirement already satisfied: requests in /usr/local/lib/python3.11/dist-packages (2.32.3)\n",
            "Requirement already satisfied: pandas in /usr/local/lib/python3.11/dist-packages (2.2.2)\n",
            "Requirement already satisfied: charset-normalizer<4,>=2 in /usr/local/lib/python3.11/dist-packages (from requests) (3.4.2)\n",
            "Requirement already satisfied: idna<4,>=2.5 in /usr/local/lib/python3.11/dist-packages (from requests) (3.10)\n",
            "Requirement already satisfied: urllib3<3,>=1.21.1 in /usr/local/lib/python3.11/dist-packages (from requests) (2.5.0)\n",
            "Requirement already satisfied: certifi>=2017.4.17 in /usr/local/lib/python3.11/dist-packages (from requests) (2025.7.14)\n",
            "Requirement already satisfied: numpy>=1.23.2 in /usr/local/lib/python3.11/dist-packages (from pandas) (2.0.2)\n",
            "Requirement already satisfied: python-dateutil>=2.8.2 in /usr/local/lib/python3.11/dist-packages (from pandas) (2.9.0.post0)\n",
            "Requirement already satisfied: pytz>=2020.1 in /usr/local/lib/python3.11/dist-packages (from pandas) (2025.2)\n",
            "Requirement already satisfied: tzdata>=2022.7 in /usr/local/lib/python3.11/dist-packages (from pandas) (2025.2)\n",
            "Requirement already satisfied: six>=1.5 in /usr/local/lib/python3.11/dist-packages (from python-dateutil>=2.8.2->pandas) (1.17.0)\n"
          ]
        }
      ]
    },
    {
      "cell_type": "code",
      "source": [
        "# Step 2: Ingest Data from a Public REST API\n",
        "# Example: Fetch random user data from the Random User Generator API.\n",
        "import requests\n",
        "import pandas as pd\n",
        "\n",
        "api_url = \"https://randomuser.me/api/?results=10\"\n",
        "response = requests.get(api_url)\n",
        "data = response.json()\n",
        "\n",
        "# Convert the results to a DataFrame\n",
        "df_api = pd.json_normalize(data['results'])\n",
        "print(\"Data from REST API:\")\n",
        "print(df_api.head())\n"
      ],
      "metadata": {
        "colab": {
          "base_uri": "https://localhost:8080/"
        },
        "id": "EIeOxt0QVNlo",
        "outputId": "2c8fa0fa-46cd-4b69-9517-a9ca156fb4d7"
      },
      "execution_count": 2,
      "outputs": [
        {
          "output_type": "stream",
          "name": "stdout",
          "text": [
            "Data from REST API:\n",
            "   gender                          email           phone            cell nat  \\\n",
            "0  female  elizabeth.hoffman@example.com  (387) 681-5946  (499) 889-9844  US   \n",
            "1  female     shubhangi.babu@example.com      7426556581      9682729702  IN   \n",
            "2    male   theodore.leclerc@example.com  05-66-55-09-31  06-65-93-00-11  FR   \n",
            "3  female       lucy.wallace@example.com    016973 36262    07007 574854  GB   \n",
            "4    male   svitan.korpanyuk@example.com  (067) Z96-2416  (099) O27-2231  UA   \n",
            "\n",
            "  name.title name.first  name.last  location.street.number  \\\n",
            "0        Mrs  Elizabeth    Hoffman                    4377   \n",
            "1       Miss  Shubhangi       Babu                    4844   \n",
            "2         Mr   Théodore    Leclerc                    6079   \n",
            "3         Ms       Lucy    Wallace                    7102   \n",
            "4         Mr     Svitan  Korpanyuk                    2890   \n",
            "\n",
            "   location.street.name  ...  \\\n",
            "0              Royal Ln  ...   \n",
            "1       Bannerghatta Rd  ...   \n",
            "2  Rue de L'Abbé-Carton  ...   \n",
            "3            North Road  ...   \n",
            "4       Alli Tarasovoyi  ...   \n",
            "\n",
            "                                        login.sha256  \\\n",
            "0  8abe57c8581ae031a6183810ed8b8d2d7fca3c20f41c90...   \n",
            "1  c79943ec71156860fd5dff17b28ae46bd54b83e36eef98...   \n",
            "2  af4549a57bb0864a0d10b5593bd5a35efb06f3befc7b4e...   \n",
            "3  e07177473a03089c11fffacfd4e311ab6810425dd90948...   \n",
            "4  b9672ca5f6c8bcd6099e1f794c6953de2bc8aad97ba86c...   \n",
            "\n",
            "                   dob.date dob.age           registered.date registered.age  \\\n",
            "0  1999-03-13T12:13:19.888Z      26  2006-11-14T19:45:13.071Z             18   \n",
            "1  1996-05-31T17:34:56.104Z      29  2018-07-20T02:44:22.054Z              7   \n",
            "2  1963-10-30T18:21:07.104Z      61  2020-03-14T16:46:11.782Z              5   \n",
            "3  1966-04-14T00:05:51.472Z      59  2007-02-01T12:02:11.038Z             18   \n",
            "4  1968-02-24T02:42:15.050Z      57  2010-02-20T13:01:22.004Z             15   \n",
            "\n",
            "  id.name          id.value                                     picture.large  \\\n",
            "0     SSN       633-01-4810   https://randomuser.me/api/portraits/women/2.jpg   \n",
            "1   UIDAI      447356754012  https://randomuser.me/api/portraits/women/10.jpg   \n",
            "2   INSEE  1630928244417 57     https://randomuser.me/api/portraits/men/9.jpg   \n",
            "3    NINO     ZY 25 96 32 V  https://randomuser.me/api/portraits/women/66.jpg   \n",
            "4                      None    https://randomuser.me/api/portraits/men/66.jpg   \n",
            "\n",
            "                                      picture.medium  \\\n",
            "0  https://randomuser.me/api/portraits/med/women/...   \n",
            "1  https://randomuser.me/api/portraits/med/women/...   \n",
            "2  https://randomuser.me/api/portraits/med/men/9.jpg   \n",
            "3  https://randomuser.me/api/portraits/med/women/...   \n",
            "4  https://randomuser.me/api/portraits/med/men/66...   \n",
            "\n",
            "                                   picture.thumbnail  \n",
            "0  https://randomuser.me/api/portraits/thumb/wome...  \n",
            "1  https://randomuser.me/api/portraits/thumb/wome...  \n",
            "2  https://randomuser.me/api/portraits/thumb/men/...  \n",
            "3  https://randomuser.me/api/portraits/thumb/wome...  \n",
            "4  https://randomuser.me/api/portraits/thumb/men/...  \n",
            "\n",
            "[5 rows x 34 columns]\n"
          ]
        }
      ]
    },
    {
      "cell_type": "code",
      "source": [
        "# Step 3: Ingest Data from a CSV File\n",
        "# Example using the Iris dataset (direct CSV link):\n",
        "\n",
        "csv_url = \"https://raw.githubusercontent.com/uiuc-cse/data-fa14/gh-pages/data/iris.csv\"\n",
        "df_csv = pd.read_csv(csv_url)\n",
        "print(\"\\nData from CSV File:\")\n",
        "print(df_csv.head())\n"
      ],
      "metadata": {
        "colab": {
          "base_uri": "https://localhost:8080/"
        },
        "id": "zbgeoChWVT_6",
        "outputId": "a1afacc0-1701-4d2d-ea82-10ba3aac2d1c"
      },
      "execution_count": 3,
      "outputs": [
        {
          "output_type": "stream",
          "name": "stdout",
          "text": [
            "\n",
            "Data from CSV File:\n",
            "   sepal_length  sepal_width  petal_length  petal_width species\n",
            "0           5.1          3.5           1.4          0.2  setosa\n",
            "1           4.9          3.0           1.4          0.2  setosa\n",
            "2           4.7          3.2           1.3          0.2  setosa\n",
            "3           4.6          3.1           1.5          0.2  setosa\n",
            "4           5.0          3.6           1.4          0.2  setosa\n"
          ]
        }
      ]
    },
    {
      "cell_type": "code",
      "source": [
        "# Step 4: Inspect and Compare Data\n",
        "# Perform basic inspection on both data sources.\n",
        "# Inspect columns and info for both DataFrames\n",
        "print(\"API Data Columns:\", df_api.columns)\n",
        "print(\"CSV Data Columns:\", df_csv.columns)\n",
        "\n",
        "print(\"\\nAPI Data Info:\")\n",
        "print(df_api.info())\n",
        "\n",
        "print(\"\\nCSV Data Info:\")\n",
        "print(df_csv.info())\n"
      ],
      "metadata": {
        "colab": {
          "base_uri": "https://localhost:8080/"
        },
        "id": "qM_LiP9XVXPU",
        "outputId": "cb7a545e-525b-4d86-fabd-55d140b486ac"
      },
      "execution_count": 4,
      "outputs": [
        {
          "output_type": "stream",
          "name": "stdout",
          "text": [
            "API Data Columns: Index(['gender', 'email', 'phone', 'cell', 'nat', 'name.title', 'name.first',\n",
            "       'name.last', 'location.street.number', 'location.street.name',\n",
            "       'location.city', 'location.state', 'location.country',\n",
            "       'location.postcode', 'location.coordinates.latitude',\n",
            "       'location.coordinates.longitude', 'location.timezone.offset',\n",
            "       'location.timezone.description', 'login.uuid', 'login.username',\n",
            "       'login.password', 'login.salt', 'login.md5', 'login.sha1',\n",
            "       'login.sha256', 'dob.date', 'dob.age', 'registered.date',\n",
            "       'registered.age', 'id.name', 'id.value', 'picture.large',\n",
            "       'picture.medium', 'picture.thumbnail'],\n",
            "      dtype='object')\n",
            "CSV Data Columns: Index(['sepal_length', 'sepal_width', 'petal_length', 'petal_width',\n",
            "       'species'],\n",
            "      dtype='object')\n",
            "\n",
            "API Data Info:\n",
            "<class 'pandas.core.frame.DataFrame'>\n",
            "RangeIndex: 10 entries, 0 to 9\n",
            "Data columns (total 34 columns):\n",
            " #   Column                          Non-Null Count  Dtype \n",
            "---  ------                          --------------  ----- \n",
            " 0   gender                          10 non-null     object\n",
            " 1   email                           10 non-null     object\n",
            " 2   phone                           10 non-null     object\n",
            " 3   cell                            10 non-null     object\n",
            " 4   nat                             10 non-null     object\n",
            " 5   name.title                      10 non-null     object\n",
            " 6   name.first                      10 non-null     object\n",
            " 7   name.last                       10 non-null     object\n",
            " 8   location.street.number          10 non-null     int64 \n",
            " 9   location.street.name            10 non-null     object\n",
            " 10  location.city                   10 non-null     object\n",
            " 11  location.state                  10 non-null     object\n",
            " 12  location.country                10 non-null     object\n",
            " 13  location.postcode               10 non-null     object\n",
            " 14  location.coordinates.latitude   10 non-null     object\n",
            " 15  location.coordinates.longitude  10 non-null     object\n",
            " 16  location.timezone.offset        10 non-null     object\n",
            " 17  location.timezone.description   10 non-null     object\n",
            " 18  login.uuid                      10 non-null     object\n",
            " 19  login.username                  10 non-null     object\n",
            " 20  login.password                  10 non-null     object\n",
            " 21  login.salt                      10 non-null     object\n",
            " 22  login.md5                       10 non-null     object\n",
            " 23  login.sha1                      10 non-null     object\n",
            " 24  login.sha256                    10 non-null     object\n",
            " 25  dob.date                        10 non-null     object\n",
            " 26  dob.age                         10 non-null     int64 \n",
            " 27  registered.date                 10 non-null     object\n",
            " 28  registered.age                  10 non-null     int64 \n",
            " 29  id.name                         10 non-null     object\n",
            " 30  id.value                        7 non-null      object\n",
            " 31  picture.large                   10 non-null     object\n",
            " 32  picture.medium                  10 non-null     object\n",
            " 33  picture.thumbnail               10 non-null     object\n",
            "dtypes: int64(3), object(31)\n",
            "memory usage: 2.8+ KB\n",
            "None\n",
            "\n",
            "CSV Data Info:\n",
            "<class 'pandas.core.frame.DataFrame'>\n",
            "RangeIndex: 150 entries, 0 to 149\n",
            "Data columns (total 5 columns):\n",
            " #   Column        Non-Null Count  Dtype  \n",
            "---  ------        --------------  -----  \n",
            " 0   sepal_length  150 non-null    float64\n",
            " 1   sepal_width   150 non-null    float64\n",
            " 2   petal_length  150 non-null    float64\n",
            " 3   petal_width   150 non-null    float64\n",
            " 4   species       150 non-null    object \n",
            "dtypes: float64(4), object(1)\n",
            "memory usage: 6.0+ KB\n",
            "None\n"
          ]
        }
      ]
    },
    {
      "cell_type": "markdown",
      "source": [
        "## Step 5: Reflection Questions\n",
        "At the end of your notebook, answer these questions:\n",
        "\n",
        "- What were the main steps for ingesting data from a REST API vs. a CSV?\n",
        "\n",
        "- What are some possible challenges or error scenarios for each ingestion method?\n",
        "\n",
        "- For your workflow, when would you prefer an API vs. a CSV file?"
      ],
      "metadata": {
        "id": "dDdpfmv1Vfr8"
      }
    },
    {
      "cell_type": "code",
      "source": [
        "# (Optional) Save Your Results\n",
        "# Save both datasets to Colab files (optional)\n",
        "df_api.to_csv(\"users_api.csv\", index=False)\n",
        "df_csv.to_csv(\"iris_csv.csv\", index=False)"
      ],
      "metadata": {
        "id": "rIsKz0BpVmSl"
      },
      "execution_count": 5,
      "outputs": []
    },
    {
      "cell_type": "markdown",
      "source": [
        "Deliverables:\n",
        "\n",
        "- Code snippets and output for REST API and CSV ingestion.\n",
        "\n",
        "- Completed reflection answers."
      ],
      "metadata": {
        "id": "yQpMk-VmVsyQ"
      }
    }
  ],
  "metadata": {
    "colab": {
      "provenance": [],
      "include_colab_link": true
    },
    "kernelspec": {
      "display_name": "Python 3",
      "name": "python3"
    }
  },
  "nbformat": 4,
  "nbformat_minor": 0
}