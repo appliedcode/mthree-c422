{
  "nbformat": 4,
  "nbformat_minor": 0,
  "metadata": {
    "colab": {
      "provenance": []
    },
    "kernelspec": {
      "name": "python3",
      "display_name": "Python 3"
    },
    "language_info": {
      "name": "python"
    }
  },
  "cells": [
    {
      "cell_type": "code",
      "execution_count": 7,
      "metadata": {
        "colab": {
          "base_uri": "https://localhost:8080/"
        },
        "id": "AC6tqb54nfy2",
        "outputId": "600dcc68-e91a-410e-fe60-a193f9f9a819"
      },
      "outputs": [
        {
          "output_type": "stream",
          "name": "stdout",
          "text": [
            "Original (English): He works at Apple and eats an apple every day.\n",
            "\n",
            "Translated (French): Il travaille chez Apple et mange une pomme tous les jours.\n"
          ]
        }
      ],
      "source": [
        "# Import the necessary Libraries\n",
        "import warnings\n",
        "warnings.filterwarnings(\"ignore\", category=UserWarning)\n",
        "from transformers import pipeline, logging\n",
        "\n",
        "# Suppress warnings from transformers\n",
        "logging.set_verbosity_error()\n",
        "\n",
        "# Load the translation pipeline (English to French)\n",
        "translator = pipeline(\"translation_en_to_fr\", model=\"Helsinki-NLP/opus-mt-en-fr\")\n",
        "\n",
        "# Input sentence\n",
        "text = \"He works at Apple and eats an apple every day.\"\n",
        "\n",
        "# Translate the sentence\n",
        "translated = translator(text, max_length=50)\n",
        "\n",
        "# Print the result\n",
        "print(\"Original (English):\", text)\n",
        "print(\"\\nTranslated (French):\", translated[0]['translation_text'])"
      ]
    },
    {
      "cell_type": "code",
      "source": [],
      "metadata": {
        "id": "iFzqFjRdnlt5"
      },
      "execution_count": null,
      "outputs": []
    }
  ]
}