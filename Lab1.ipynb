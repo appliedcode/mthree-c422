{
  "nbformat": 4,
  "nbformat_minor": 0,
  "metadata": {
    "colab": {
      "provenance": [],
      "include_colab_link": true
    },
    "kernelspec": {
      "name": "python3",
      "display_name": "Python 3"
    },
    "language_info": {
      "name": "python"
    }
  },
  "cells": [
    {
      "cell_type": "markdown",
      "metadata": {
        "id": "view-in-github",
        "colab_type": "text"
      },
      "source": [
        "<a href=\"https://colab.research.google.com/github/appliedcode/mthree-c422/blob/mthree-c422-Avantika/Lab1.ipynb\" target=\"_parent\"><img src=\"https://colab.research.google.com/assets/colab-badge.svg\" alt=\"Open In Colab\"/></a>"
      ]
    },
    {
      "cell_type": "code",
      "execution_count": 3,
      "metadata": {
        "id": "Je1rSo0GgiJ0",
        "colab": {
          "base_uri": "https://localhost:8080/",
          "height": 178
        },
        "outputId": "70e0030a-070c-4919-814d-146de0b312e2"
      },
      "outputs": [
        {
          "output_type": "execute_result",
          "data": {
            "text/plain": [
              "target\n",
              "1    249\n",
              "0    149\n",
              "Name: count, dtype: int64"
            ],
            "text/html": [
              "<div>\n",
              "<style scoped>\n",
              "    .dataframe tbody tr th:only-of-type {\n",
              "        vertical-align: middle;\n",
              "    }\n",
              "\n",
              "    .dataframe tbody tr th {\n",
              "        vertical-align: top;\n",
              "    }\n",
              "\n",
              "    .dataframe thead th {\n",
              "        text-align: right;\n",
              "    }\n",
              "</style>\n",
              "<table border=\"1\" class=\"dataframe\">\n",
              "  <thead>\n",
              "    <tr style=\"text-align: right;\">\n",
              "      <th></th>\n",
              "      <th>count</th>\n",
              "    </tr>\n",
              "    <tr>\n",
              "      <th>target</th>\n",
              "      <th></th>\n",
              "    </tr>\n",
              "  </thead>\n",
              "  <tbody>\n",
              "    <tr>\n",
              "      <th>1</th>\n",
              "      <td>249</td>\n",
              "    </tr>\n",
              "    <tr>\n",
              "      <th>0</th>\n",
              "      <td>149</td>\n",
              "    </tr>\n",
              "  </tbody>\n",
              "</table>\n",
              "</div><br><label><b>dtype:</b> int64</label>"
            ]
          },
          "metadata": {},
          "execution_count": 3
        }
      ],
      "source": [
        "# Lab Exercises: Embedded Feature‐Selection Methods\n",
        "# Use the Breast Cancer dataset (sklearn.datasets.load_breast_cancer) for all exercises. Split once into training and test sets:\n",
        "from sklearn.datasets import load_breast_cancer\n",
        "from sklearn.model_selection import train_test_split\n",
        "\n",
        "X, y = load_breast_cancer(return_X_y=True, as_frame=True)\n",
        "X_train, X_test, y_train, y_test = train_test_split(\n",
        "    X, y, test_size=0.3, random_state=42\n",
        ")\n",
        "X.columns.tolist()\n",
        "X.head()\n",
        "y_train.value_counts()\n"
      ]
    },
    {
      "cell_type": "markdown",
      "source": [
        "# Exercise 1: L1-Regularized Logistic Regression\n",
        "- Fit LogisticRegression(penalty='l1', solver='saga', C=1.0, max_iter=5000).\n",
        "\n",
        "- Use SelectFromModel (prefit) to select the 5 features with nonzero coefficients.\n",
        "\n",
        "- Retrain a vanilla logistic model on those features.\n",
        "\n",
        "- Report selected features and test accuracy."
      ],
      "metadata": {
        "id": "rbDBckzBgvE9"
      }
    },
    {
      "cell_type": "code",
      "source": [
        "from sklearn.linear_model import LogisticRegression\n",
        "from sklearn.feature_selection import SelectFromModel\n",
        "from sklearn.metrics import accuracy_score\n",
        "\n",
        "model_l1 = LogisticRegression(penalty='l1', solver='saga', C=1.0, max_iter=5000)\n",
        "model_l1.fit(X_train, y_train)\n",
        "\n",
        "sfm_l1 = SelectFromModel(model_l1, prefit=True, max_features=5)\n",
        "feat_l1 = X_train.columns[sfm_l1.get_support()]\n",
        "\n",
        "model = LogisticRegression(max_iter=5000).fit(X_train[feat_l1], y_train)\n",
        "print(\"L1 features:\", list(feat_l1))\n",
        "print(\"Accuracy (L1):\", accuracy_score(y_test, model.predict(X_test[feat_l1])))\n"
      ],
      "metadata": {
        "id": "mJ9vGlC-gqTu",
        "colab": {
          "base_uri": "https://localhost:8080/"
        },
        "outputId": "0b148ac4-3a01-4caa-f4ff-51bd9705f9d7"
      },
      "execution_count": 2,
      "outputs": [
        {
          "output_type": "stream",
          "name": "stdout",
          "text": [
            "L1 features: ['mean perimeter', 'area error', 'worst radius', 'worst perimeter', 'worst area']\n",
            "Accuracy (L1): 0.9590643274853801\n"
          ]
        }
      ]
    },
    {
      "cell_type": "markdown",
      "source": [
        "# Exercise 2: L2-Regularization with Thresholding\n",
        "- Fit LogisticRegression(penalty='l2', C=1.0, max_iter=5000).\n",
        "\n",
        "- Extract absolute coefficients, select the 5 largest.\n",
        "\n",
        "- Retrain and evaluate on those features."
      ],
      "metadata": {
        "id": "LrQIwB2Kg4BT"
      }
    },
    {
      "cell_type": "code",
      "source": [
        "import numpy as np\n",
        "\n",
        "model_l2 = LogisticRegression(penalty='l2', C=1.0, max_iter=5000)\n",
        "model_l2.fit(X_train, y_train)\n",
        "\n",
        "abs_coefs = np.abs(model_l2.coef_)[0]\n",
        "idx = np.argsort(abs_coefs)[-5:]\n",
        "feat_l2 = X_train.columns[idx]\n",
        "\n",
        "model = LogisticRegression(max_iter=5000).fit(X_train[feat_l2], y_train)\n",
        "print(\"L2 features:\", list(feat_l2))\n",
        "print(\"Accuracy (L2):\", accuracy_score(y_test, model.predict(X_test[feat_l2])))\n"
      ],
      "metadata": {
        "id": "UtHlhNfgg0_N",
        "colab": {
          "base_uri": "https://localhost:8080/"
        },
        "outputId": "24ea29e4-210d-45aa-f263-62046b1c8797"
      },
      "execution_count": 4,
      "outputs": [
        {
          "output_type": "stream",
          "name": "stdout",
          "text": [
            "L2 features: ['worst symmetry', 'worst compactness', 'mean radius', 'worst concavity', 'texture error']\n",
            "Accuracy (L2): 0.9532163742690059\n"
          ]
        }
      ]
    },
    {
      "cell_type": "markdown",
      "source": [
        "# Exercise 3: Elastic Net Regularization\n",
        "- Standardize data with StandardScaler.\n",
        "\n",
        "- Fit ElasticNetCV(l1_ratio=[.1, .5, .9], cv=5).\n",
        "\n",
        "- Use SelectFromModel to pick the 5 nonzero–coefficient features.\n",
        "\n",
        "- Retrain and evaluate."
      ],
      "metadata": {
        "id": "q9Ihd18WhEoF"
      }
    },
    {
      "cell_type": "code",
      "source": [
        "from sklearn.preprocessing import StandardScaler\n",
        "from sklearn.linear_model import ElasticNetCV, LogisticRegression\n",
        "from sklearn.feature_selection import SelectFromModel\n",
        "from sklearn.metrics import accuracy_score\n",
        "import numpy as np\n",
        "\n",
        "scaler = StandardScaler().fit(X_train)\n",
        "X_tr_s = scaler.transform(X_train)\n",
        "X_ts_s = scaler.transform(X_test)\n",
        "\n",
        "# Increased max_iter for ElasticNetCV\n",
        "enet = ElasticNetCV(l1_ratio=[.1, .5, .9], cv=5, random_state=0, max_iter=10000)\n",
        "enet.fit(X_tr_s, y_train)\n",
        "\n",
        "# Extract absolute coefficients and select the 5 largest\n",
        "abs_coefs_enet = np.abs(enet.coef_)\n",
        "# ElasticNetCV coef_ can be 2D for multi-output, ensure we work with 1D for this task\n",
        "if abs_coefs_enet.ndim > 1:\n",
        "    abs_coefs_enet = abs_coefs_enet[0] # Assuming single output for breast cancer data\n",
        "\n",
        "idx_enet = np.argsort(abs_coefs_enet)[-5:]\n",
        "\n",
        "# Use the indices to select columns from the scaled NumPy arrays\n",
        "X_tr_selected_enet = X_tr_s[:, idx_enet]\n",
        "X_ts_selected_enet = X_ts_s[:, idx_enet]\n",
        "\n",
        "# Get the names of the selected features from the original DataFrame columns\n",
        "feat_enet = X_train.columns[idx_enet]\n",
        "\n",
        "\n",
        "model = LogisticRegression(max_iter=5000).fit(X_tr_selected_enet, y_train)\n",
        "print(\"Elastic Net features:\", list(feat_enet))\n",
        "print(\"Accuracy (ElasticNet):\", accuracy_score(y_test, model.predict(X_ts_selected_enet)))"
      ],
      "metadata": {
        "id": "2CfDVtaZg-2R",
        "colab": {
          "base_uri": "https://localhost:8080/"
        },
        "outputId": "fdea6e31-e5f6-4448-941f-31a153706237"
      },
      "execution_count": 10,
      "outputs": [
        {
          "output_type": "stream",
          "name": "stdout",
          "text": [
            "Elastic Net features: ['radius error', 'mean compactness', 'mean concave points', 'worst area', 'worst radius']\n",
            "Accuracy (ElasticNet): 0.9415204678362573\n"
          ]
        }
      ]
    }
  ]
}