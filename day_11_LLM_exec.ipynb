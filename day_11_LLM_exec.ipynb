{
  "nbformat": 4,
  "nbformat_minor": 0,
  "metadata": {
    "colab": {
      "provenance": [],
      "authorship_tag": "ABX9TyMLKSqJY9Na67N9naf0/Bsq"
    },
    "kernelspec": {
      "name": "python3",
      "display_name": "Python 3"
    },
    "language_info": {
      "name": "python"
    }
  },
  "cells": [
    {
      "cell_type": "code",
      "source": [
        "!pip install --quiet openai\n",
        "from openai import OpenAI\n",
        "import os\n",
        "from google.colab import userdata\n",
        "\n",
        "api_key = userdata.get('OPENAI_API_KEY')\n",
        "if not api_key:\n",
        "    raise ValueError(\"❌ API key not found.\")\n",
        "os.environ[\"OPENAI_API_KEY\"] = api_key\n",
        "client = OpenAI(api_key=os.environ[\"OPENAI_API_KEY\"])"
      ],
      "metadata": {
        "id": "hAblehMAXG3a"
      },
      "execution_count": null,
      "outputs": []
    },
    {
      "cell_type": "code",
      "source": [
        "prompt = \"Explain how photosynthesis works in three sentences.\"\n",
        "response = client.chat.completions.create(\n",
        "    model=\"gpt-4o-mini\",\n",
        "    messages=[{\"role\": \"user\", \"content\": prompt}],\n",
        "    max_tokens=100\n",
        ")\n",
        "print(response.choices[0].message.content)"
      ],
      "metadata": {
        "colab": {
          "base_uri": "https://localhost:8080/"
        },
        "id": "Udnw0teAXKq0",
        "outputId": "75ce16c2-612d-4a9f-cc34-553e3075aa09"
      },
      "execution_count": null,
      "outputs": [
        {
          "output_type": "stream",
          "name": "stdout",
          "text": [
            "Photosynthesis is the process by which green plants, algae, and some bacteria convert light energy, usually from the sun, into chemical energy stored in glucose. This process occurs mainly in the chloroplasts, where chlorophyll captures sunlight and uses it to transform carbon dioxide from the air and water from the soil into glucose and oxygen. The overall reaction can be summarized by the equation: 6 CO₂ + 6 H₂O + light energy → C₆H₁₂O₆\n"
          ]
        }
      ]
    },
    {
      "cell_type": "code",
      "source": [
        "prompt = (\n",
        "    \"Explain how photosynthesis works in detail, using bullet points with specific steps and examples.\"\n",
        ")\n",
        "response = client.chat.completions.create(\n",
        "    model=\"gpt-4o-mini\",\n",
        "    messages=[{\"role\": \"user\", \"content\": prompt}],\n",
        "    max_tokens=150\n",
        ")\n",
        "print(response.choices[0].message.content)"
      ],
      "metadata": {
        "colab": {
          "base_uri": "https://localhost:8080/"
        },
        "id": "23o5PwOzXQvX",
        "outputId": "1597986a-b1f5-4d9e-8c44-097b5fdb2558"
      },
      "execution_count": null,
      "outputs": [
        {
          "output_type": "stream",
          "name": "stdout",
          "text": [
            "Photosynthesis is the biochemical process by which green plants, algae, and some bacteria convert light energy, usually from the sun, into chemical energy stored in glucose. It primarily occurs in the chloroplasts of plant cells. Here's a detailed breakdown of the process, including specific steps and examples:\n",
            "\n",
            "### Overview\n",
            "- **Location**: Chloroplasts in plant cells.\n",
            "- **Overall Reaction**: \n",
            "  \\[\n",
            "  6CO_2 + 6H_2O + \\text{light energy} \\rightarrow C_6H_{12}O_6 + 6O_2\n",
            "  \\]\n",
            "- **Input**: Carbon dioxide (CO₂), water (H₂O), and light energy.\n",
            "- **Output**\n"
          ]
        }
      ]
    },
    {
      "cell_type": "code",
      "source": [
        "few_shot = \"\"\"\n",
        "English: Thank you for your help!\n",
        "French: Merci pour votre aide !\n",
        "\n",
        "English: I cannot attend the meeting.\n",
        "French: Je ne peux pas assister à la réunion.\n",
        "\n",
        "English: Please call me tomorrow.\n",
        "French:\n",
        "\"\"\"\n",
        "response = client.chat.completions.create(\n",
        "    model=\"gpt-4o-mini\",\n",
        "    messages=[{\"role\": \"user\", \"content\": few_shot}],\n",
        "    max_tokens=50\n",
        ")\n",
        "print(response.choices[0].message.content)"
      ],
      "metadata": {
        "colab": {
          "base_uri": "https://localhost:8080/"
        },
        "id": "ZR7rNRcyXm_6",
        "outputId": "8178297c-53f1-460f-9aee-64fc69d41622"
      },
      "execution_count": null,
      "outputs": [
        {
          "output_type": "stream",
          "name": "stdout",
          "text": [
            "French: Veuillez m'appeler demain.\n"
          ]
        }
      ]
    },
    {
      "cell_type": "code",
      "source": [
        "prompt = (\n",
        "    \"You are a friendly travel guide for Tokyo. Recommend places to visit and food to try to a first-time visitor.\"\n",
        ")\n",
        "response = client.chat.completions.create(\n",
        "    model=\"gpt-4o-mini\",\n",
        "    messages=[{\"role\": \"user\", \"content\": prompt}],\n",
        "    max_tokens=120\n",
        ")\n",
        "print(response.choices[0].message.content)"
      ],
      "metadata": {
        "colab": {
          "base_uri": "https://localhost:8080/"
        },
        "id": "H_hDWo8bXp2t",
        "outputId": "0ebb985b-cea4-4c48-a772-0c14d6494d75"
      },
      "execution_count": null,
      "outputs": [
        {
          "output_type": "stream",
          "name": "stdout",
          "text": [
            "Welcome to Tokyo! You’re in for an incredible experience filled with rich culture, modern attractions, and delicious food. Here’s a guide to help you explore the city during your first visit.\n",
            "\n",
            "### **Places to Visit:**\n",
            "\n",
            "1. **Shibuya Crossing:**\n",
            "   - One of the busiest pedestrian intersections in the world. It's an iconic spot; from the nearby Hachiko statue, you can watch the organized chaos.\n",
            "\n",
            "2. **Meiji Shrine:**\n",
            "   - A serene Shinto shrine nestled in a forested area, offering a peaceful escape from the bustling city. It’s a\n"
          ]
        }
      ]
    },
    {
      "cell_type": "code",
      "source": [
        "prompt = (\n",
        "    \"You are a strict Tokyo tour manager. Plan a tightly scheduled day with timings and specific stops.\"\n",
        ")\n",
        "response = client.chat.completions.create(\n",
        "    model=\"gpt-4o-mini\",\n",
        "    messages=[{\"role\": \"user\", \"content\": prompt}],\n",
        "    max_tokens=120\n",
        ")\n",
        "print(response.choices[0].message.content)"
      ],
      "metadata": {
        "colab": {
          "base_uri": "https://localhost:8080/"
        },
        "id": "UkMVRCD_XzKp",
        "outputId": "7872ce87-8504-4631-82ee-f5fd1e24a3c7"
      },
      "execution_count": null,
      "outputs": [
        {
          "output_type": "stream",
          "name": "stdout",
          "text": [
            "Certainly! Here's a tightly scheduled day in Tokyo, ensuring you experience a mix of culture, cuisine, and entertainment, all while optimizing travel times and keeping to a strict schedule.\n",
            "\n",
            "### Tokyo One-Day Itinerary\n",
            "\n",
            "**7:30 AM - Breakfast at Tsukiji Outer Market**  \n",
            "- **Duration**: 1 hour  \n",
            "- **Activity**: Enjoy a fresh seafood breakfast at one of the many stalls or small restaurants. Try grilled fish, sushi, or tamago (Japanese omelet).\n",
            "\n",
            "**8:30 AM - Travel to Asakusa**  \n",
            "- **Duration**: 30\n"
          ]
        }
      ]
    },
    {
      "cell_type": "code",
      "source": [
        "prompt = (\n",
        "    \"Share a recipe for improving daily productivity. Then provide two alternative approaches, each with its advantages and disadvantages.\"\n",
        ")\n",
        "response = client.chat.completions.create(\n",
        "    model=\"gpt-4o-mini\",\n",
        "    messages=[{\"role\": \"user\", \"content\": prompt}],\n",
        "    max_tokens=200\n",
        ")\n",
        "print(response.choices[0].message.content)"
      ],
      "metadata": {
        "colab": {
          "base_uri": "https://localhost:8080/"
        },
        "id": "RjbiQDgdX4Ck",
        "outputId": "339a6088-3e54-4249-bce7-10778f47794c"
      },
      "execution_count": null,
      "outputs": [
        {
          "output_type": "stream",
          "name": "stdout",
          "text": [
            "### Recipe for Improving Daily Productivity\n",
            "\n",
            "**Ingredients:**\n",
            "\n",
            "1. **Morning Routine (30 minutes)**\n",
            "   - 10 minutes of meditation or deep breathing\n",
            "   - 15 minutes of physical activity (stretching, yoga, or a short workout)\n",
            "   - 5 minutes of planning your day (write down 3 primary goals)\n",
            "\n",
            "2. **Task Prioritization Method**\n",
            "   - Utilize the Eisenhower Matrix:\n",
            "     - **Urgent and Important:** Do first\n",
            "     - **Important but Not Urgent:** Schedule for later\n",
            "     - **Urgent but Not Important:** Delegate if possible\n",
            "     - **Not Urgent and Not Important:** Consider eliminating\n",
            "\n",
            "3. **Time Blocking (3-4 hours)**\n",
            "   - Allocate specific chunks of time for focused work sessions (25-50 minutes) followed by short breaks (5-10 minutes).\n",
            "\n",
            "4. **Limit Distractions**\n",
            "   - Set your phone to \"Do Not Disturb\" mode.\n",
            "   - Use website blockers\n"
          ]
        }
      ]
    },
    {
      "cell_type": "code",
      "source": [
        "prompt = (\n",
        "    \"You are an interviewer. Ask me three questions to understand my favorite hobbies. Then, based on my answers, create a personalized weekend plan and summarize my hobbies first.\"\n",
        ")\n",
        "response = client.chat.completions.create(\n",
        "    model=\"gpt-4o-mini\",\n",
        "    messages=[{\"role\": \"user\", \"content\": prompt}],\n",
        "    max_tokens=220\n",
        ")\n",
        "print(response.choices[0].message.content)"
      ],
      "metadata": {
        "colab": {
          "base_uri": "https://localhost:8080/"
        },
        "id": "McirVPHvYIS9",
        "outputId": "c54b620b-dc81-4a09-a9f7-be33cdbca1cd"
      },
      "execution_count": null,
      "outputs": [
        {
          "output_type": "stream",
          "name": "stdout",
          "text": [
            "Great! Let's start with a few questions to get a better understanding of your favorite hobbies:\n",
            "\n",
            "1. What are some activities you enjoy doing in your free time? (For example, reading, sports, crafting, cooking, etc.)\n",
            "2. Do you prefer indoor or outdoor activities when it comes to your hobbies? \n",
            "3. How much time do you usually like to dedicate to your hobbies on the weekends? \n",
            "\n",
            "Once I have your answers, I can summarize your hobbies and create a personalized weekend plan for you!\n"
          ]
        }
      ]
    },
    {
      "cell_type": "code",
      "source": [
        "menu_prompt = \"\"\"\n",
        "ACTION = Translate; FORMAT = Numbered; LANGUAGE = Spanish; TEXT = \"Machine learning improves over time.\"\n",
        "\"\"\"\n",
        "response = client.chat.completions.create(\n",
        "    model=\"gpt-4o-mini\",\n",
        "    messages=[{\"role\": \"user\", \"content\": menu_prompt}],\n",
        "    max_tokens=50\n",
        ")\n",
        "print(response.choices[0].message.content)"
      ],
      "metadata": {
        "colab": {
          "base_uri": "https://localhost:8080/"
        },
        "id": "RbpfWOq-YWHt",
        "outputId": "b20a1b1e-1cdd-4820-95ce-a9100c4aea45"
      },
      "execution_count": null,
      "outputs": [
        {
          "output_type": "stream",
          "name": "stdout",
          "text": [
            "1. El aprendizaje automático mejora con el tiempo.\n"
          ]
        }
      ]
    },
    {
      "cell_type": "code",
      "source": [
        "prompt = \"Describe 'Artificial Intelligence' in a tweet, maximum 280 characters.\"\n",
        "response = client.chat.completions.create(\n",
        "    model=\"gpt-4o-mini\",\n",
        "    messages=[{\"role\": \"user\", \"content\": prompt}],\n",
        "    max_tokens=50\n",
        ")\n",
        "print(response.choices[0].message.content)"
      ],
      "metadata": {
        "colab": {
          "base_uri": "https://localhost:8080/"
        },
        "id": "KjApmDVYYbOT",
        "outputId": "2dacfdd0-9806-4861-9304-e0cbcaa02664"
      },
      "execution_count": null,
      "outputs": [
        {
          "output_type": "stream",
          "name": "stdout",
          "text": [
            "Artificial Intelligence (AI) is the simulation of human intelligence in machines, enabling them to learn, reason, and solve problems. From virtual assistants to self-driving cars, AI transforms industries and daily life, enhancing efficiency and innovation. The future is intelligent!\n"
          ]
        }
      ]
    },
    {
      "cell_type": "code",
      "source": [
        "prompt = \"Write an academic-style abstract (~150 words) explaining Artificial Intelligence.\"\n",
        "response = client.chat.completions.create(\n",
        "    model=\"gpt-4o-mini\",\n",
        "    messages=[{\"role\": \"user\", \"content\": prompt}],\n",
        "    max_tokens=200\n",
        ")\n",
        "print(response.choices[0].message.content)"
      ],
      "metadata": {
        "colab": {
          "base_uri": "https://localhost:8080/"
        },
        "id": "V4Ni31RfYhGf",
        "outputId": "daa2f046-fade-4eca-e50b-24681dfbd1ff"
      },
      "execution_count": null,
      "outputs": [
        {
          "output_type": "stream",
          "name": "stdout",
          "text": [
            "Artificial Intelligence (AI) encompasses the development of computer systems capable of performing tasks that typically require human intelligence, including reasoning, learning, problem-solving, perception, and language understanding. Through techniques such as machine learning, natural language processing, and neural networks, AI systems can analyze vast amounts of data, identify patterns, and make informed decisions with minimal human intervention. The interdisciplinary nature of AI integrates principles from computer science, cognitive science, mathematics, and engineering, allowing for advancements in various domains, including healthcare, finance, and autonomous systems. Moreover, the ethical implications of AI, such as bias, privacy, and job displacement, present significant challenges that warrant ongoing research and societal discourse. As AI technologies continue to evolve rapidly, their potential to transform industries and societal functions underscores the importance of developing robust frameworks for responsible and equitable deployment. This paper aims to provide a comprehensive overview of AI, examining its methodologies, applications, and socio-economic impact.\n"
          ]
        }
      ]
    },
    {
      "cell_type": "code",
      "source": [
        "prompt = (\n",
        "    \"Explain Artificial Intelligence as a simple story for children aged 7, using simple language.\"\n",
        ")\n",
        "response = client.chat.completions.create(\n",
        "    model=\"gpt-4o-mini\",\n",
        "    messages=[{\"role\": \"user\", \"content\": prompt}],\n",
        "    max_tokens=120\n",
        ")\n",
        "print(response.choices[0].message.content)"
      ],
      "metadata": {
        "colab": {
          "base_uri": "https://localhost:8080/"
        },
        "id": "Jp_SyC6GYrOt",
        "outputId": "d4d9e379-1869-4b5b-b3a8-832ba82113f4"
      },
      "execution_count": null,
      "outputs": [
        {
          "output_type": "stream",
          "name": "stdout",
          "text": [
            "**Title: The Robot Friend**\n",
            "\n",
            "Once upon a time in a colorful town, there lived a little girl named Mia. Mia loved to play and explore, but sometimes she felt a little lonely. One day, while she was in her room, she found a shiny box with a big button on it. Curious, she pushed the button.\n",
            "\n",
            "Out popped a friendly robot named Robo! \"Hello, Mia! I'm your robot friend. I'm here to help you!\" Robo had bright blinking lights and could talk just like a human.\n",
            "\n",
            "Mia was amazed. \"How can you help me, Robo?\" she\n"
          ]
        }
      ]
    },
    {
      "cell_type": "code",
      "source": [
        "prompt = (\n",
        "    \"Simulate a customer support conversation for a broken printer. Ask me clarifying questions before offering a solution, and confirm my answers before proceeding.\"\n",
        ")\n",
        "response = client.chat.completions.create(\n",
        "    model=\"gpt-4o-mini\",\n",
        "    messages=[{\"role\": \"user\", \"content\": prompt}],\n",
        "    max_tokens=180\n",
        ")\n",
        "print(response.choices[0].message.content)"
      ],
      "metadata": {
        "colab": {
          "base_uri": "https://localhost:8080/"
        },
        "id": "9JCZLSIhYzuX",
        "outputId": "047bc719-8041-4936-9413-f3480eb3c237"
      },
      "execution_count": null,
      "outputs": [
        {
          "output_type": "stream",
          "name": "stdout",
          "text": [
            "Sure! Let's get started. \n",
            "\n",
            "**Support Rep:** Hi there! Thank you for contacting customer support. I understand you're having an issue with your printer. Can you please describe the problem you're experiencing?\n",
            "\n",
            "---\n",
            "\n",
            "Feel free to provide your response, and I'll ask some clarifying questions based on that!\n"
          ]
        }
      ]
    },
    {
      "cell_type": "code",
      "source": [
        "messages = [\n",
        "    {\"role\": \"user\", \"content\": prompt},\n",
        "    {\"role\": \"assistant\", \"content\": \"<model's first question>\"},\n",
        "    {\"role\": \"user\", \"content\": \"<your answer>\"},\n",
        "    # and so on\n",
        "]\n",
        "response = client.chat.completions.create(\n",
        "    model=\"gpt-4o-mini\",\n",
        "    messages=messages,\n",
        "    max_tokens=80\n",
        ")"
      ],
      "metadata": {
        "id": "56L-fUEIY2Vm"
      },
      "execution_count": null,
      "outputs": []
    }
  ]
}