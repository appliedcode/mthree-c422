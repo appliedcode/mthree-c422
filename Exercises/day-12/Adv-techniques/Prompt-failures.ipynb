{
  "cells": [
    {
      "cell_type": "markdown",
      "metadata": {
        "id": "view-in-github",
        "colab_type": "text"
      },
      "source": [
        "<a href=\"https://colab.research.google.com/github/appliedcode/mthree-c422/blob/mthree-c422-dipti/Exercises/day-12/Adv-techniques/Prompt-failures.ipynb\" target=\"_parent\"><img src=\"https://colab.research.google.com/assets/colab-badge.svg\" alt=\"Open In Colab\"/></a>"
      ]
    },
    {
      "cell_type": "markdown",
      "source": [
        "## Lab Exercises: Handling Ambiguity, Troubleshooting & Prompt Failures in Prompt Engineering\n",
        "***\n",
        "\n",
        "### Setup:\n",
        "\n",
        "- Use OpenAI API or any language model API accessible in your Colab.\n",
        "- If API keys are needed, ensure they are safely added as environment variables or input by the user."
      ],
      "metadata": {
        "id": "eq4qKCdSNSko"
      }
    },
    {
      "cell_type": "code",
      "source": [
        "from google.colab import userdata\n",
        "import os\n",
        "\n",
        "# Set your OpenAI API key securely in Colab Secrets (once)\n",
        "# userdata.set(\"OPENAI_API_KEY\", \"your-api-key-here\")\n",
        "\n",
        "# Retrieve key in your notebook\n",
        "openai_api_key = userdata.get(\"OPENAI_API_KEY\")\n",
        "if openai_api_key:\n",
        "    os.environ[\"OPENAI_API_KEY\"] = openai_api_key\n",
        "    print(\"✅ OpenAI API key loaded safely\")\n",
        "else:\n",
        "    print(\"❌ OpenAI API key not found. Please set it using Colab Secrets.\")"
      ],
      "metadata": {
        "colab": {
          "base_uri": "https://localhost:8080/"
        },
        "id": "2YMRqyRCNGmo",
        "outputId": "345870a0-0b4c-4b69-c878-399ad08c9c00"
      },
      "execution_count": 1,
      "outputs": [
        {
          "output_type": "stream",
          "name": "stdout",
          "text": [
            "✅ OpenAI API key loaded safely\n"
          ]
        }
      ]
    },
    {
      "cell_type": "code",
      "source": [
        "\n",
        "!pip install --quiet openai -q\n",
        "# Create client\n",
        "from openai import OpenAI\n",
        "client = OpenAI(api_key=os.environ[\"OPENAI_API_KEY\"])"
      ],
      "metadata": {
        "id": "9qrFrzlcPI1n"
      },
      "execution_count": 2,
      "outputs": []
    },
    {
      "cell_type": "code",
      "source": [
        "# Helper Function to Send Prompts\n",
        "def generate_response(prompt, model=\"gpt-4o-mini\", temperature=0.7):\n",
        "    try:\n",
        "        response = client.chat.completions.create(\n",
        "            model=model,\n",
        "            messages=[{\"role\": \"user\", \"content\": prompt}],\n",
        "            temperature=temperature\n",
        "        )\n",
        "        return response.choices[0].message.content.strip()\n",
        "    except Exception as e:\n",
        "        return f\"Error: {e}\"\n"
      ],
      "metadata": {
        "id": "AieFziFDTcuy"
      },
      "execution_count": 3,
      "outputs": []
    },
    {
      "cell_type": "markdown",
      "source": [
        "## Exercise 1: Identifying Ambiguity in Prompts\n",
        "### Objective: See how ambiguous prompts produce inconsistent or unclear responses."
      ],
      "metadata": {
        "id": "22Xf3vG3TfxS"
      }
    },
    {
      "cell_type": "code",
      "source": [
        "# Task:\n",
        "# Use an ambiguous prompt like:\n",
        "ambiguous_prompt = \"Describe the process.\"\n"
      ],
      "metadata": {
        "id": "lzzvZtN-Tiwy"
      },
      "execution_count": 4,
      "outputs": []
    },
    {
      "cell_type": "code",
      "source": [
        "# Create a clarified version with clear intent and constraints:\n",
        "\n",
        "clarified_prompt = \"Describe the photosynthesis process focusing on light absorption and chemical reactions.\"\n"
      ],
      "metadata": {
        "id": "Z6BPIz3MTmwq"
      },
      "execution_count": 5,
      "outputs": []
    },
    {
      "cell_type": "code",
      "source": [
        "# Run both through generate_response() and compare outputs.\n",
        "print(\"=== Ambiguous Prompt ===\")\n",
        "print(generate_response(ambiguous_prompt), \"\\n\")\n",
        "\n",
        "print(\"=== Clarified Prompt ===\")\n",
        "print(generate_response(clarified_prompt))\n"
      ],
      "metadata": {
        "id": "nQ5jHU-sTpeH",
        "outputId": "38ca35a6-6260-4d23-ef3a-ab1e4fae042f",
        "colab": {
          "base_uri": "https://localhost:8080/"
        }
      },
      "execution_count": 6,
      "outputs": [
        {
          "output_type": "stream",
          "name": "stdout",
          "text": [
            "=== Ambiguous Prompt ===\n",
            "Could you please specify which process you would like me to describe? There are many different processes across various fields such as science, technology, business, or even daily life activities. Providing more context will help me give you a detailed and relevant explanation. \n",
            "\n",
            "=== Clarified Prompt ===\n",
            "Photosynthesis is the biological process by which green plants, algae, and some bacteria convert light energy into chemical energy, stored in glucose, using carbon dioxide and water. This process primarily occurs in the chloroplasts of plant cells. It can be divided into two main stages: the light-dependent reactions and the light-independent reactions (Calvin cycle).\n",
            "\n",
            "### Light-Dependent Reactions\n",
            "\n",
            "1. **Light Absorption**:\n",
            "   - The process begins when chlorophyll, the green pigment in chloroplasts, absorbs light energy, primarily from the blue and red wavelengths of sunlight. \n",
            "   - This light energy excites electrons in the chlorophyll molecules, increasing their energy level.\n",
            "\n",
            "2. **Water Splitting (Photolysis)**:\n",
            "   - The excited electrons are transferred to an electron transport chain within the thylakoid membranes of the chloroplasts.\n",
            "   - To replace the lost electrons, water molecules (H₂O) are split into oxygen (O₂), protons (H⁺), and electrons through a process called photolysis. This reaction releases oxygen as a byproduct.\n",
            "\n",
            "3. **Electron Transport Chain**:\n",
            "   - The high-energy electrons move through the electron transport chain, which consists of a series of proteins embedded in the thylakoid membrane.\n",
            "   - As electrons are transferred along the chain, they lose energy, which is used to pump protons (H⁺) from the stroma into the thylakoid lumen, creating a proton gradient.\n",
            "\n",
            "4. **ATP and NADPH Formation**:\n",
            "   - The energy stored in the proton gradient is used by ATP synthase, an enzyme that synthesizes ATP (adenosine triphosphate) from ADP (adenosine diphosphate) and inorganic phosphate (Pi) as protons flow back into the stroma.\n",
            "   - Meanwhile, the electrons ultimately reduce NADP⁺ to form NADPH (nicotinamide adenine dinucleotide phosphate), another energy carrier.\n",
            "   - The end products of the light-dependent reactions are ATP and NADPH, which are crucial for the next stage of photosynthesis.\n",
            "\n",
            "### Light-Independent Reactions (Calvin Cycle)\n",
            "\n",
            "1. **Carbon Fixation**:\n",
            "   - The Calvin cycle occurs in the stroma of the chloroplasts and does not directly require light. Instead, it uses the ATP and NADPH produced in the light-dependent reactions.\n",
            "   - Carbon dioxide (CO₂) from the atmosphere is fixed into a five-carbon sugar, ribulose bisphosphate (RuBP), by the enzyme ribulose bisphosphate carboxylase/oxygenase (RuBisCO). This reaction produces a six-carbon intermediate that is immediately split into two three-carbon molecules known as 3-phosphoglycerate (3-PGA).\n",
            "\n",
            "2. **Reduction Phase**:\n",
            "   - The 3-PGA molecules are then phosphorylated by ATP and reduced by NADPH to form glyceraldehyde-3-phosphate (G3P), another three-carbon sugar.\n",
            "   - Some of the G3P molecules are used to regenerate RuBP, allowing the cycle to continue, while others can be used to synthesize glucose and other carbohydrates.\n",
            "\n",
            "3. **Regeneration of RuBP**:\n",
            "   - ATP is used again to convert G3P back into RuBP, enabling the cycle to continue and allowing further carbon fixation.\n",
            "\n",
            "### Summary\n",
            "\n",
            "In summary, photosynthesis transforms light energy into chemical energy through two main processes: the light-dependent reactions, which generate ATP and NADPH while releasing oxygen, and the Calvin cycle, which uses these energy carriers to convert carbon dioxide into glucose. This process is essential for life on Earth as it provides the organic compounds and oxygen needed by nearly all living organisms.\n"
          ]
        }
      ]
    },
    {
      "cell_type": "markdown",
      "source": [
        "## Exercise 2: Troubleshooting Inconsistent or Irrelevant Output\n",
        "### Objective: Practice troubleshooting a vague or failed prompt by refining it step-by-step."
      ],
      "metadata": {
        "id": "_JmnOAs4TtOi"
      }
    },
    {
      "cell_type": "code",
      "source": [
        "# Task:\n",
        "\n",
        "# Start with a vague prompt that tends to fail:\n",
        "vague = \"Write a poem.\"\n"
      ],
      "metadata": {
        "id": "jtPRi0wfTyBS"
      },
      "execution_count": 7,
      "outputs": []
    },
    {
      "cell_type": "code",
      "source": [
        "# Observe shortcomings in the output (such as randomness or lack of clear structure).\n",
        "\n",
        "# Refine the prompt to add instructions:\n",
        "refined = \"Write a 4-line rhyming poem about spring with a hopeful tone.\"\n"
      ],
      "metadata": {
        "id": "tXVJoDNDT1x9"
      },
      "execution_count": 8,
      "outputs": []
    },
    {
      "cell_type": "code",
      "source": [
        "# If the model produces unexpected content, add explicit \"Important:\" instructions to guide it further.\n",
        "print(\"=== Vague Prompt ===\")\n",
        "print(generate_response(vague), \"\\n\")\n",
        "\n",
        "print(\"=== Refined Prompt ===\")\n",
        "print(generate_response(refined), \"\\n\")\n",
        "\n",
        "important_refined = \"\"\"\n",
        "Important: The poem must not mention winter or cold, focus only on spring themes in 4 lines with rhyme.\n",
        "Write the poem:\n",
        "\"\"\"\n",
        "print(generate_response(important_refined))\n"
      ],
      "metadata": {
        "id": "0ioSBS_2T4ao",
        "outputId": "b8bd227b-0071-4cbf-8bf6-864a10ae7797",
        "colab": {
          "base_uri": "https://localhost:8080/"
        }
      },
      "execution_count": 9,
      "outputs": [
        {
          "output_type": "stream",
          "name": "stdout",
          "text": [
            "=== Vague Prompt ===\n",
            "In the hush of morning’s glow,  \n",
            "Where whispers of the breezes flow,  \n",
            "The world awakens, soft and bright,  \n",
            "With colors spun from dreams of night.  \n",
            "\n",
            "The dew-kissed petals, fresh and fair,  \n",
            "Dance lightly on the fragrant air,  \n",
            "While sunbeams weave through branches high,  \n",
            "A golden tapestry in the sky.  \n",
            "\n",
            "The brook, it sings a merry tune,  \n",
            "A symphony of nature’s boon,  \n",
            "Each ripple tells a tale of old,  \n",
            "Of secrets kept, and wonders bold.  \n",
            "\n",
            "The mountains stand, majestic, grand,  \n",
            "Guardians of this verdant land,  \n",
            "Their peaks adorned with clouds like lace,  \n",
            "A timeless, ever-stoic grace.  \n",
            "\n",
            "And as the day begins to fade,  \n",
            "With twilight’s brush, the colors wade,  \n",
            "The stars emerge, a sparkling choir,  \n",
            "To light the dreams that hearts conspire.  \n",
            "\n",
            "So let us wander, hand in hand,  \n",
            "Through fields of gold, on shifting sand,  \n",
            "For in this world of fleeting time,  \n",
            "We find our rhythm, our own rhyme. \n",
            "\n",
            "=== Refined Prompt ===\n",
            "In springtime's glow, the blossoms bloom,  \n",
            "Awakening life from winter’s gloom.  \n",
            "With every songbird's cheerful call,  \n",
            "Hope rises high, embracing all. \n",
            "\n",
            "Blossoms dance in the gentle breeze,  \n",
            "Awakening life in vibrant trees.  \n",
            "Sunlight spills on the dewy ground,  \n",
            "Nature's symphony, a joyful sound.\n"
          ]
        }
      ]
    },
    {
      "cell_type": "markdown",
      "source": [
        "## Exercise 3: Diagnosing and Fixing Hallucinations in AI Responses\n",
        "### Objective: Learn how to manage prompts to reduce AI \"hallucinations\" (made-up facts)."
      ],
      "metadata": {
        "id": "FtCKe8lyT7Ts"
      }
    },
    {
      "cell_type": "code",
      "source": [
        "# Ask the model a fact-based question without anchoring:\n",
        "hallucination_prompt = \"Tell me about the latest Mars mission.\"\n"
      ],
      "metadata": {
        "id": "v3AEDqRKT98F"
      },
      "execution_count": 10,
      "outputs": []
    },
    {
      "cell_type": "code",
      "source": [
        "# Then anchor the prompt with fact-stating instructions:\n",
        "\n",
        "anchored_prompt = \"\"\"\n",
        "Based only on verified scientific information up to 2023,\n",
        "summarize the objectives of the latest Mars mission.\n",
        "If not sure, say 'I don't know.'\n",
        "\"\"\"\n"
      ],
      "metadata": {
        "id": "AY11yDV6UAAo"
      },
      "execution_count": 11,
      "outputs": []
    },
    {
      "cell_type": "code",
      "source": [
        "# Compare outputs.\n",
        "\n",
        "print(\"=== Potential Hallucination Prompt ===\")\n",
        "print(generate_response(hallucination_prompt), \"\\n\")\n",
        "\n",
        "print(\"=== Anchored Prompt to Avoid Hallucinations ===\")\n",
        "print(generate_response(anchored_prompt))\n"
      ],
      "metadata": {
        "id": "GsYtKP0BUB--",
        "outputId": "e5dc4814-9544-4e1d-a9c8-223caf38e612",
        "colab": {
          "base_uri": "https://localhost:8080/"
        }
      },
      "execution_count": 12,
      "outputs": [
        {
          "output_type": "stream",
          "name": "stdout",
          "text": [
            "=== Potential Hallucination Prompt ===\n",
            "As of my last update in October 2023, one of the latest Mars missions is NASA's Perseverance rover, which landed on Mars on February 18, 2021. Its primary mission is to search for signs of ancient life and collect rock and soil samples for potential return to Earth. Perseverance carries a suite of scientific instruments, including cameras and spectrometers, to analyze the Martian surface and atmosphere.\n",
            "\n",
            "Additionally, Perseverance is accompanied by the Ingenuity helicopter, which has successfully demonstrated powered flight on another planet for the first time. The data and images collected by these missions are helping scientists understand the planet's geology and climate, and are paving the way for future human exploration.\n",
            "\n",
            "Furthermore, there are ongoing missions from other space agencies, such as the United Arab Emirates' Hope orbiter, which is studying the Martian atmosphere, and the European Space Agency's ExoMars program, which aims to send a rover to Mars in the future.\n",
            "\n",
            "For the most current updates or missions launched after October 2023, I would recommend checking NASA's official website or other reputable space news sources. \n",
            "\n",
            "=== Anchored Prompt to Avoid Hallucinations ===\n",
            "As of 2023, the latest Mars mission is the Mars Sample Return (MSR) mission, which aims to bring samples from the Martian surface back to Earth for detailed analysis. The key objectives of this mission include:\n",
            "\n",
            "1. **Sample Collection**: To collect and cache rock and soil samples from various locations on Mars that may contain signs of past life or valuable geological information.\n",
            "\n",
            "2. **Sample Retrieval**: To develop technology and methods for retrieving the cached samples from the Martian surface.\n",
            "\n",
            "3. **Return to Earth**: To safely return the collected samples to Earth, where they can be studied using advanced laboratory techniques that are not possible on Mars.\n",
            "\n",
            "4. **Understanding Mars' History**: To gain insights into the planet's geology, climate, and potential for past life by studying the collected samples in detail.\n",
            "\n",
            "5. **Preparation for Human Exploration**: To gather critical information that will inform future human missions to Mars, including understanding the planet's environment and resources.\n",
            "\n",
            "These objectives are designed to enhance our understanding of Mars and prepare for future exploration efforts.\n"
          ]
        }
      ]
    },
    {
      "cell_type": "markdown",
      "source": [
        "## Exercise 4: Handling Overly Long or Complex Prompts (Troubleshooting Failure Modes)\n",
        "### Objective: See how very long or overloaded prompts can cause failure or truncated responses.\n",
        "\n",
        "#### Task:\n",
        "\n",
        "- Create an overstuffed prompt combining multiple tasks or large amounts of data.\n",
        "\n",
        "- Send it and observe if the output cuts off or gets confused.\n",
        "\n",
        "- Then split the task into smaller prompts with focused instructions.\n",
        "\n",
        "- Compare the results and check for better coherence and completeness."
      ],
      "metadata": {
        "id": "ulxios7tUE18"
      }
    },
    {
      "cell_type": "code",
      "source": [
        "overloaded_prompt = \"\"\"\n",
        "Explain the theory of relativity including special and general relativity,\n",
        "provide examples, historical context, significance in physics, and common misconceptions,\n",
        "all in a single paragraph.\n",
        "\"\"\" * 3  # Repeated to simulate length\n",
        "\n",
        "print(\"=== Overloaded Prompt ===\")\n",
        "print(generate_response(overloaded_prompt), \"\\n\")\n",
        "\n",
        "smaller_prompts = [\n",
        "    \"Explain the theory of special relativity in simple terms.\",\n",
        "    \"Explain the theory of general relativity with a real-world example.\",\n",
        "    \"List common misconceptions about relativity.\"\n",
        "]\n",
        "\n",
        "for i, sp in enumerate(smaller_prompts, 1):\n",
        "    print(f\"--- Smaller Prompt {i} ---\")\n",
        "    print(generate_response(sp), \"\\n\")\n"
      ],
      "metadata": {
        "id": "P5zHIl7HULw4",
        "outputId": "dcd0b480-d27f-4629-d933-05042fb43b80",
        "colab": {
          "base_uri": "https://localhost:8080/"
        }
      },
      "execution_count": 13,
      "outputs": [
        {
          "output_type": "stream",
          "name": "stdout",
          "text": [
            "=== Overloaded Prompt ===\n",
            "The theory of relativity, formulated by Albert Einstein in the early 20th century, comprises two interrelated theories: special relativity (1905) and general relativity (1915). Special relativity introduces the concept that the laws of physics are invariant for all observers, regardless of their relative motion, leading to groundbreaking implications such as time dilation and length contraction, exemplified by the famous thought experiment of a train moving at relativistic speeds where observers measure different times for events. General relativity extends these ideas to include gravity, describing it not as a force but as the curvature of spacetime caused by mass; this is illustrated by the bending of light around massive objects, a phenomenon confirmed during a solar eclipse in 1919. Historically, relativity revolutionized our understanding of space and time, challenging Newtonian mechanics and laying the groundwork for modern physics, including cosmology and quantum mechanics. Its significance is profound, influencing technologies like GPS, which must account for relativistic effects, yet common misconceptions persist, such as the belief that relativity implies that \"everything is relative\" or that it suggests time travel is possible in a straightforward manner. \n",
            "\n",
            "--- Smaller Prompt 1 ---\n",
            "The theory of special relativity, proposed by Albert Einstein in 1905, is a fundamental concept in physics that describes how space and time are interrelated, especially when objects are moving at high speeds, close to the speed of light. Here are the key ideas in simple terms:\n",
            "\n",
            "1. **Speed of Light is Constant**: One of the core principles of special relativity is that the speed of light in a vacuum is always the same, regardless of how fast you are moving or in which direction. This means that if you measure the speed of light, you will always find it to be about 299,792 kilometers per second (or about 186,282 miles per second), no matter who is measuring it.\n",
            "\n",
            "2. **Time Dilation**: When objects move close to the speed of light, time appears to pass more slowly for them compared to someone who is standing still. This means that if you were traveling in a spaceship at a very high speed, you would age more slowly than someone who stayed on Earth. This effect is called time dilation.\n",
            "\n",
            "3. **Length Contraction**: Similarly, objects moving at high speeds will appear shorter in the direction they are moving compared to when they are at rest. This is known as length contraction. If you were to measure a fast-moving spaceship, it would look shorter than if it were at rest.\n",
            "\n",
            "4. **Mass and Energy Relationship**: Special relativity also introduces the famous equation \\(E=mc^2\\), which shows that mass (m) and energy (E) are interchangeable; they are different forms of the same thing. The \"c\" represents the speed of light. This means that a small amount of mass can be converted into a large amount of energy.\n",
            "\n",
            "5. **No Absolute Reference Frame**: There is no single \"absolute\" frame of reference from which motion can be measured. Instead, all motion is relative. This means that the laws of physics are the same for all observers, regardless of their relative speeds.\n",
            "\n",
            "In summary, special relativity changes our understanding of time, space, and energy, especially when dealing with speeds close to the speed of light. It tells us that our intuitive ideas about how the universe works do not always hold true at these extreme conditions. \n",
            "\n",
            "--- Smaller Prompt 2 ---\n",
            "The theory of general relativity, proposed by Albert Einstein in 1915, is a fundamental framework for understanding gravity. It describes gravity not as a force acting at a distance, as described by Newtonian physics, but as a curvature of spacetime caused by mass and energy.\n",
            "\n",
            "### Key Concepts of General Relativity:\n",
            "\n",
            "1. **Spacetime**: General relativity combines the three dimensions of space with the dimension of time into a four-dimensional continuum known as spacetime.\n",
            "\n",
            "2. **Curvature of Spacetime**: Massive objects like planets and stars warp the fabric of spacetime around them. This curvature is what we perceive as gravity. Smaller objects move along the curves created by these massive bodies.\n",
            "\n",
            "3. **Equivalence Principle**: This principle states that the effects of gravity are indistinguishable from acceleration. For example, a person in a sealed room cannot tell if they are experiencing gravity or being accelerated in space.\n",
            "\n",
            "### Real-World Example: The Orbit of Mercury\n",
            "\n",
            "One of the classic examples of general relativity's predictions is its explanation of the orbit of Mercury, the planet closest to the Sun. \n",
            "\n",
            "**The Problem**: For many years, astronomers observed that Mercury’s orbit exhibited a slight anomaly. Its perihelion (the point in its orbit where it is closest to the Sun) shifted slightly with each orbit more than what could be explained by Newtonian mechanics.\n",
            "\n",
            "**General Relativity's Explanation**: Einstein's theory provided a solution. He showed that the intense gravitational field of the Sun causes a curvature in spacetime that affects Mercury's orbit. The predictions made by general relativity accounted for the additional precession of Mercury’s perihelion, matching the observed values perfectly.\n",
            "\n",
            "### Implications:\n",
            "\n",
            "1. **Gravitational Lensing**: General relativity predicts that light from distant stars is bent when it passes near a massive object, like a galaxy. This effect, known as gravitational lensing, has been observed and provides evidence for the theory.\n",
            "\n",
            "2. **Time Dilation**: Clocks in stronger gravitational fields (like on the surface of Earth) tick more slowly than those in weaker fields (like in space). This effect has practical implications for GPS satellites, which must account for both gravitational time dilation and relative motion to provide accurate positioning data.\n",
            "\n",
            "3. **Black Holes**: General relativity predicts the existence of black holes, regions of spacetime where gravity is so intense that nothing, not even light, can escape.\n",
            "\n",
            "Overall, general relativity revolutionized our understanding of gravity and the structure of the universe, providing a more comprehensive picture that has been confirmed through various experiments and astronomical observations. \n",
            "\n",
            "--- Smaller Prompt 3 ---\n",
            "Here are some common misconceptions about relativity, specifically regarding Einstein's theories of special relativity and general relativity:\n",
            "\n",
            "1. **Speed of Light is Just a Limit**: Many believe that the speed of light is simply a maximum speed. In reality, according to special relativity, the speed of light is a fundamental constant of nature, and nothing with mass can reach or exceed it.\n",
            "\n",
            "2. **Time Dilation is Only an Illusion**: Some think that time dilation (the effect where time moves slower for objects moving at high speeds) is merely a perceptual illusion. In fact, it is a physical effect that has been confirmed by experiments, such as those involving atomic clocks on fast-moving jets.\n",
            "\n",
            "3. **Mass Increases with Speed**: The idea that an object's mass increases as it approaches the speed of light is often misunderstood. It's more accurate to say that its relativistic energy increases, and mass is better described in terms of invariant mass, which does not change.\n",
            "\n",
            "4. **Gravity is a Force**: In general relativity, gravity is not a force in the traditional sense but rather the curvature of spacetime caused by mass. This is a departure from Newtonian physics, which views gravity as an attractive force acting at a distance.\n",
            "\n",
            "5. **Black Holes are Just Theoretical**: While black holes were once considered theoretical constructs, they have been observed and confirmed through various astronomical observations, including the detection of gravitational waves and the imaging of black hole shadows.\n",
            "\n",
            "6. **Time Travel is Impossible**: While practical time travel as depicted in science fiction is not feasible, general relativity does allow for certain solutions (like wormholes) that theoretically permit time travel under specific conditions.\n",
            "\n",
            "7. **Relativity is Only About Speed**: Many people think relativity only concerns objects moving at high speeds. However, it also deals with the effects of gravity and the geometry of spacetime, affecting time and space even in everyday situations.\n",
            "\n",
            "8. **Space and Time are Absolute**: A common misconception is that space and time are absolute entities. Relativity shows that they are relative and interwoven, affecting each other depending on the observer's frame of reference.\n",
            "\n",
            "9. **Twin Paradox is a Paradox**: The twin paradox, where one twin travels at near-light speed and returns younger than the other twin, is often misunderstood. It is not truly a paradox; the resolution lies in the fact that the traveling twin experiences acceleration and deceleration, breaking the symmetry of the situation.\n",
            "\n",
            "10. **All Effects of Relativity are Only Significant at High Speeds**: While relativistic effects become more pronounced at speeds close to the speed of light, they can also be observed in everyday life. For instance, GPS satellites must account for time dilation effects to provide accurate positioning.\n",
            "\n",
            "11. **General Relativity is Just a Modified Newtonian Gravity**: Although general relativity reduces to Newtonian gravity under weak-field conditions, it fundamentally changes our understanding of gravity and incorporates spacetime curvature, which is not present in Newtonian gravity.\n",
            "\n",
            "12. **Relativity Proves Everything is Relative**: While relativity introduces the idea of relative motion, it does not imply that all things are equally valid or that there are no absolute truths; certain physical laws and constants remain invariant.\n",
            "\n",
            "Understanding these misconceptions can help clarify the profound implications of Einstein's theories and their impact on our understanding of the universe. \n",
            "\n"
          ]
        }
      ]
    },
    {
      "cell_type": "markdown",
      "source": [
        "## Exercise 5: Meta-Prompting for Troubleshooting\n",
        "### Objective: Use meta-prompts to ask the model to clarify its understanding or identify issues with ambiguous instructions."
      ],
      "metadata": {
        "id": "05ef0UTHUPYn"
      }
    },
    {
      "cell_type": "code",
      "source": [
        "# Start with an ambiguous prompt:\n",
        "ambiguous_request = \"Create an efficient sorting algorithm.\"\n"
      ],
      "metadata": {
        "id": "3EK0m7aBUO6S"
      },
      "execution_count": 14,
      "outputs": []
    },
    {
      "cell_type": "code",
      "source": [
        "# Ask the model if it understands what is meant by \"efficient sorting algorithm\":\n",
        "\n",
        "meta_prompt = \"\"\"\n",
        "Before you write code, please explain what you understand by\n",
        "'efficient sorting algorithm.' If unsure, ask for clarification.\n",
        "\"\"\"\n"
      ],
      "metadata": {
        "id": "1wfF1o8hUVmF"
      },
      "execution_count": 15,
      "outputs": []
    },
    {
      "cell_type": "code",
      "source": [
        "# Run meta-prompt and analyze the output.\n",
        "# Based on the model's answer, refine the original prompt with explicit constraints.\n",
        "\n",
        "print(\"=== Ambiguous Request ===\")\n",
        "print(generate_response(ambiguous_request), \"\\n\")\n",
        "\n",
        "print(\"=== Meta Prompt (Check Understanding) ===\")\n",
        "print(generate_response(meta_prompt), \"\\n\")\n",
        "\n",
        "refined_sort_prompt = \"\"\"\n",
        "Write a Python function implementing merge sort, emphasizing O(n log n) time complexity.\n",
        "Include comments explaining each step.\n",
        "\"\"\"\n",
        "print(generate_response(refined_sort_prompt))\n",
        "\n"
      ],
      "metadata": {
        "id": "T3CT5gIOUeoF",
        "outputId": "9e35a19b-2bcd-4644-f094-7a32328e4189",
        "colab": {
          "base_uri": "https://localhost:8080/"
        }
      },
      "execution_count": 16,
      "outputs": [
        {
          "output_type": "stream",
          "name": "stdout",
          "text": [
            "=== Ambiguous Request ===\n",
            "Creating an efficient sorting algorithm can be a complex task depending on the requirements and constraints you have. However, one of the most well-known efficient sorting algorithms is **QuickSort**, which is generally efficient and performs well on average.\n",
            "\n",
            "### QuickSort Algorithm\n",
            "\n",
            "QuickSort uses a divide-and-conquer strategy to sort an array. It works as follows:\n",
            "\n",
            "1. **Choose a Pivot**: Select an element from the array as the pivot.\n",
            "2. **Partitioning**: Rearrange the array so that all elements less than the pivot come before it, and all elements greater than the pivot come after it. After this step, the pivot is in its final position.\n",
            "3. **Recursively Apply**: Recursively apply the above steps to the sub-arrays of elements with smaller values and elements with greater values.\n",
            "\n",
            "### Python Implementation of QuickSort\n",
            "\n",
            "Here’s a simple implementation of QuickSort in Python:\n",
            "\n",
            "```python\n",
            "def quicksort(arr):\n",
            "    if len(arr) <= 1:\n",
            "        return arr\n",
            "    else:\n",
            "        pivot = arr[len(arr) // 2]  # Choose the middle element as the pivot\n",
            "        left = [x for x in arr if x < pivot]  # Elements less than pivot\n",
            "        middle = [x for x in arr if x == pivot]  # Elements equal to pivot\n",
            "        right = [x for x in arr if x > pivot]  # Elements greater than pivot\n",
            "        return quicksort(left) + middle + quicksort(right)  # Concatenate results\n",
            "\n",
            "# Example usage:\n",
            "array = [3, 6, 8, 10, 1, 2, 1]\n",
            "sorted_array = quicksort(array)\n",
            "print(sorted_array)  # Output: [1, 1, 2, 3, 6, 8, 10]\n",
            "```\n",
            "\n",
            "### Time Complexity\n",
            "\n",
            "- **Average Case**: O(n log n)\n",
            "- **Worst Case**: O(n²) (This occurs when the smallest or largest element is always chosen as the pivot, leading to unbalanced partitions.)\n",
            "- **Best Case**: O(n log n)\n",
            "\n",
            "### Space Complexity\n",
            "\n",
            "- O(log n) for the recursive stack space in the best case, but it can go up to O(n) in the worst case for the recursive stack.\n",
            "\n",
            "### Improvements\n",
            "\n",
            "To improve QuickSort's performance:\n",
            "1. **Choose a Better Pivot**: Use techniques such as \"median-of-three\" to choose the pivot.\n",
            "2. **Switch to Insertion Sort**: For small subarrays (e.g., size < 10), you can switch to a simpler sorting algorithm like Insertion Sort, which is faster for small datasets.\n",
            "\n",
            "This implementation is a basic version of QuickSort; in practice, you might want to optimize it further based on the specific requirements of your dataset or environment. \n",
            "\n",
            "=== Meta Prompt (Check Understanding) ===\n",
            "An efficient sorting algorithm is one that can arrange a list of elements (such as numbers or strings) in a specific order (typically ascending or descending) with minimal computational resources, particularly in terms of time and space complexity. Efficiency is often evaluated based on:\n",
            "\n",
            "1. **Time Complexity**: This refers to how the runtime of the algorithm grows with the size of the input data. Common time complexities for sorting algorithms include:\n",
            "   - **O(n log n)**: This is often considered optimal for comparison-based sorting algorithms. Examples include Merge Sort and Quick Sort.\n",
            "   - **O(n)**: Achieved by non-comparison-based sorting algorithms like Counting Sort or Radix Sort, but generally applicable under specific conditions (e.g., when the range of the input values is known and limited).\n",
            "\n",
            "2. **Space Complexity**: This measures the amount of extra memory an algorithm requires in addition to the input data. Some algorithms, like Merge Sort, require additional space proportional to the size of the input, while others, like Quick Sort, can be implemented in-place, reducing additional memory usage.\n",
            "\n",
            "3. **Stability**: A stable sorting algorithm maintains the relative order of records with equal keys (i.e., if two items are equal, their order in the sorted output is the same as their order in the input).\n",
            "\n",
            "4. **Adaptability**: Some algorithms are more efficient on partially sorted data. For example, Insertion Sort performs better on nearly sorted lists, with an average time complexity of O(n).\n",
            "\n",
            "5. **Worst-case vs. Average-case Performance**: An efficient sorting algorithm should ideally perform well not just on average inputs but also in the worst-case scenario.\n",
            "\n",
            "Ultimately, the choice of a sorting algorithm may depend on the specific requirements of the task, such as the size of the data set, the nature of the data, and whether memory usage is a concern. \n",
            "\n",
            "Certainly! Below is a Python function that implements the merge sort algorithm, which has a time complexity of O(n log n). The function is well-commented to explain each step of the process.\n",
            "\n",
            "```python\n",
            "def merge_sort(arr):\n",
            "    \"\"\"\n",
            "    Sorts an array using the merge sort algorithm.\n",
            "    \n",
            "    Parameters:\n",
            "    arr (list): The array to be sorted.\n",
            "    \n",
            "    Returns:\n",
            "    list: A new sorted array.\n",
            "    \"\"\"\n",
            "    # Base case: If the array has 1 or 0 elements, it is already sorted\n",
            "    if len(arr) <= 1:\n",
            "        return arr\n",
            "\n",
            "    # Step 1: Divide the array into two halves\n",
            "    mid = len(arr) // 2  # Find the middle index\n",
            "    left_half = arr[:mid]  # Left subarray\n",
            "    right_half = arr[mid:]  # Right subarray\n",
            "\n",
            "    # Step 2: Recursively sort both halves\n",
            "    sorted_left = merge_sort(left_half)  # Sort the left half\n",
            "    sorted_right = merge_sort(right_half)  # Sort the right half\n",
            "\n",
            "    # Step 3: Merge the sorted halves\n",
            "    return merge(sorted_left, sorted_right)\n",
            "\n",
            "def merge(left, right):\n",
            "    \"\"\"\n",
            "    Merges two sorted arrays into a single sorted array.\n",
            "    \n",
            "    Parameters:\n",
            "    left (list): The left sorted array.\n",
            "    right (list): The right sorted array.\n",
            "    \n",
            "    Returns:\n",
            "    list: A merged sorted array containing all elements from both input arrays.\n",
            "    \"\"\"\n",
            "    merged = []  # This will store the merged result\n",
            "    i = j = 0  # Pointers for left and right arrays\n",
            "\n",
            "    # Step 4: Compare elements from both arrays and merge them in sorted order\n",
            "    while i < len(left) and j < len(right):\n",
            "        if left[i] < right[j]:  # If current element in left is smaller\n",
            "            merged.append(left[i])  # Add it to merged array\n",
            "            i += 1  # Move to the next element in left\n",
            "        else:  # If current element in right is smaller or equal\n",
            "            merged.append(right[j])  # Add it to merged array\n",
            "            j += 1  # Move to the next element in right\n",
            "\n",
            "    # Step 5: If there are remaining elements in left or right, add them to merged\n",
            "    while i < len(left):  # If there are leftover elements in left\n",
            "        merged.append(left[i])\n",
            "        i += 1\n",
            "\n",
            "    while j < len(right):  # If there are leftover elements in right\n",
            "        merged.append(right[j])\n",
            "        j += 1\n",
            "\n",
            "    return merged  # Return the merged sorted array\n",
            "\n",
            "# Example usage:\n",
            "if __name__ == \"__main__\":\n",
            "    unsorted_array = [38, 27, 43, 3, 9, 82, 10]\n",
            "    sorted_array = merge_sort(unsorted_array)\n",
            "    print(\"Sorted array:\", sorted_array)\n",
            "```\n",
            "\n",
            "### Explanation of Steps:\n",
            "1. **Base Case**: If the array has one or zero elements, it is already sorted, so we return it immediately.\n",
            "2. **Divide**: We find the middle index of the array and split it into two halves.\n",
            "3. **Recursive Sort**: We recursively call `merge_sort` on both halves to sort them.\n",
            "4. **Merge**: The `merge` function takes two sorted arrays and combines them into a single sorted array. It compares elements from both arrays and appends the smaller one to the merged array.\n",
            "5. **Remaining Elements**: After the main merging loop, any remaining elements in either the left or right array are appended to the merged result to ensure all elements are included.\n",
            "\n",
            "This implementation is efficient and adheres to the O(n log n) time complexity characteristic of the merge sort algorithm.\n"
          ]
        }
      ]
    },
    {
      "cell_type": "markdown",
      "source": [
        "#### What Students Will Learn\n",
        "- How ambiguous or incomplete prompts lead to weak or inconsistent AI outputs.\n",
        "\n",
        "- Iterative troubleshooting by refining prompts with specificity, structure, and constraints.\n",
        "\n",
        "- Techniques to avoid hallucinations via anchoring and explicit instructions.\n",
        "\n",
        "- The importance of task decomposition for complex queries.\n",
        "\n",
        "- Using meta-prompting to clarify intent and prompt understanding.\n",
        "\n",
        "- Recognizing failure modes such as length truncation and ambiguous phrasing."
      ],
      "metadata": {
        "id": "La0dHmkOU4N1"
      }
    },
    {
      "cell_type": "code",
      "source": [],
      "metadata": {
        "id": "QzTgYcu4V37V"
      },
      "execution_count": null,
      "outputs": []
    }
  ],
  "metadata": {
    "colab": {
      "name": "Welcome to Colab",
      "provenance": [],
      "include_colab_link": true
    },
    "kernelspec": {
      "display_name": "Python 3",
      "name": "python3"
    }
  },
  "nbformat": 4,
  "nbformat_minor": 0
}