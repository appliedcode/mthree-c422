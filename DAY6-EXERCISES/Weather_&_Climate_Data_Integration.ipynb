{
  "nbformat": 4,
  "nbformat_minor": 0,
  "metadata": {
    "colab": {
      "provenance": []
    },
    "kernelspec": {
      "name": "python3",
      "display_name": "Python 3"
    },
    "language_info": {
      "name": "python"
    }
  },
  "cells": [
    {
      "cell_type": "code",
      "execution_count": 1,
      "metadata": {
        "colab": {
          "base_uri": "https://localhost:8080/"
        },
        "id": "AyeD7Pgzfwz7",
        "outputId": "741cb9c5-c044-4313-cff9-5934056d54a8"
      },
      "outputs": [
        {
          "output_type": "stream",
          "name": "stdout",
          "text": [
            "CSV (Historical Weather) Sample:\n",
            "       date  actual_mean_temp  actual_min_temp  actual_max_temp  \\\n",
            "0  2014-7-1                81               70               91   \n",
            "1  2014-7-2                85               74               95   \n",
            "2  2014-7-3                82               71               93   \n",
            "3  2014-7-4                75               64               86   \n",
            "4  2014-7-5                72               60               84   \n",
            "\n",
            "   average_min_temp  average_max_temp  record_min_temp  record_max_temp  \\\n",
            "0                67                89               56              104   \n",
            "1                68                89               56              101   \n",
            "2                68                89               56               99   \n",
            "3                68                89               55               99   \n",
            "4                68                89               57              100   \n",
            "\n",
            "   record_min_temp_year  record_max_temp_year  actual_precipitation  \\\n",
            "0                  1919                  2012                  0.00   \n",
            "1                  2008                  1931                  0.00   \n",
            "2                  2010                  1931                  0.14   \n",
            "3                  1933                  1955                  0.00   \n",
            "4                  1967                  1954                  0.00   \n",
            "\n",
            "   average_precipitation  record_precipitation  \n",
            "0                   0.10                  5.91  \n",
            "1                   0.10                  1.53  \n",
            "2                   0.11                  2.50  \n",
            "3                   0.10                  2.63  \n",
            "4                   0.10                  1.65  \n"
          ]
        }
      ],
      "source": [
        "import pandas as pd\n",
        "import requests\n",
        "csv_url = \"https://raw.githubusercontent.com/fivethirtyeight/data/master/us-weather-history/KCLT.csv\"\n",
        "df_csv = pd.read_csv(csv_url)\n",
        "\n",
        "print(\"CSV (Historical Weather) Sample:\")\n",
        "print(df_csv.head())\n"
      ]
    },
    {
      "cell_type": "code",
      "source": [
        "api_url = \"https://api.open-meteo.com/v1/forecast?latitude=52.52&longitude=13.41&current_weather=true\"\n",
        "response = requests.get(api_url)\n",
        "\n",
        "if response.status_code == 200:\n",
        "    data_api = response.json()\n",
        "    current_weather = data_api['current_weather']\n",
        "    df_api = pd.DataFrame([current_weather])\n",
        "    print(\"\\nAPI Data Sample:\")\n",
        "    print(df_api)\n",
        "else:\n",
        "    print(f\"API request failed with status code: {response.status_code}\")\n"
      ],
      "metadata": {
        "colab": {
          "base_uri": "https://localhost:8080/"
        },
        "id": "mv4YRmM4gSK2",
        "outputId": "d637215b-25ae-49ff-cb91-b30e90200127"
      },
      "execution_count": 11,
      "outputs": [
        {
          "output_type": "stream",
          "name": "stdout",
          "text": [
            "\n",
            "API Data Sample:\n",
            "               time  interval  temperature  windspeed  winddirection  is_day  \\\n",
            "0  2025-08-04T14:45       900         22.2       10.6            252       1   \n",
            "\n",
            "   weathercode  \n",
            "0            3  \n"
          ]
        }
      ]
    },
    {
      "cell_type": "code",
      "source": [
        "api_url = \"https://api.open-meteo.com/v1/forecast?latitude=52.52&longitude=13.41&current_weather=true\"\n",
        "response = requests.get(api_url)\n",
        "data = response.json()\n",
        "\n",
        "# Flatten current weather\n",
        "df_api = pd.json_normalize(data['current_weather'])\n",
        "print(\"\\nAPI (Current Weather) Sample:\")\n",
        "print(df_api.head())\n"
      ],
      "metadata": {
        "colab": {
          "base_uri": "https://localhost:8080/"
        },
        "id": "9svO08orgZ-9",
        "outputId": "cd4cf2f2-da7d-46e9-a386-73cbcb0ad400"
      },
      "execution_count": 8,
      "outputs": [
        {
          "output_type": "stream",
          "name": "stdout",
          "text": [
            "\n",
            "API (Current Weather) Sample:\n",
            "               time  interval  temperature  windspeed  winddirection  is_day  \\\n",
            "0  2025-08-04T14:45       900         22.2       10.6            252       1   \n",
            "\n",
            "   weathercode  \n",
            "0            3  \n"
          ]
        }
      ]
    },
    {
      "cell_type": "code",
      "source": [
        "# Clean CSV\n",
        "df_csv_clean = df_csv[['date', 'actual_mean_temp']].copy()\n",
        "df_csv_clean.columns = ['timestamp', 'value']\n",
        "df_csv_clean['source'] = 'csv'\n",
        "\n",
        "# Clean API\n",
        "df_api_clean = df_api[['time', 'temperature']].copy()\n",
        "df_api_clean.columns = ['timestamp', 'value']\n",
        "df_api_clean['source'] = 'api'\n"
      ],
      "metadata": {
        "id": "wuDvchMqkOi9"
      },
      "execution_count": 12,
      "outputs": []
    },
    {
      "cell_type": "code",
      "source": [
        "# Concatenate\n",
        "df_unified = pd.concat([df_csv_clean, df_api_clean], ignore_index=True)\n",
        "\n",
        "print(\"\\nUnified Dataset Sample:\")\n",
        "print(df_unified.head(10))\n"
      ],
      "metadata": {
        "colab": {
          "base_uri": "https://localhost:8080/"
        },
        "id": "WYnDVpHTlgzQ",
        "outputId": "aa38ac3f-aafe-4b89-e0c7-b25234b9ee89"
      },
      "execution_count": 13,
      "outputs": [
        {
          "output_type": "stream",
          "name": "stdout",
          "text": [
            "\n",
            "Unified Dataset Sample:\n",
            "   timestamp  value source\n",
            "0   2014-7-1   81.0    csv\n",
            "1   2014-7-2   85.0    csv\n",
            "2   2014-7-3   82.0    csv\n",
            "3   2014-7-4   75.0    csv\n",
            "4   2014-7-5   72.0    csv\n",
            "5   2014-7-6   74.0    csv\n",
            "6   2014-7-7   79.0    csv\n",
            "7   2014-7-8   83.0    csv\n",
            "8   2014-7-9   80.0    csv\n",
            "9  2014-7-10   78.0    csv\n"
          ]
        }
      ]
    }
  ]
}