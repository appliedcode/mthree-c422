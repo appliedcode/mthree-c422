{
  "cells": [
    {
      "cell_type": "markdown",
      "metadata": {
        "id": "view-in-github",
        "colab_type": "text"
      },
      "source": [
        "<a href=\"https://colab.research.google.com/github/appliedcode/mthree-c422/blob/main/Exercises/Additional-Exercises/Data_Engineering/Practice-1.ipynb\" target=\"_parent\"><img src=\"https://colab.research.google.com/assets/colab-badge.svg\" alt=\"Open In Colab\"/></a>"
      ]
    },
    {
      "cell_type": "markdown",
      "source": [
        "## Datasets & Exercise Ideas for Data Cleansing Practice\n",
        "\n",
        "Here are varied datasets along with ideas for self-guided data cleansing exercises. These are great for developing practical skills using Google Colab or Jupyter!\n",
        "\n",
        "---\n",
        "\n",
        "### 1. **Pima Indians Diabetes Dataset**\n",
        "**URL:** https://raw.githubusercontent.com/plotly/datasets/master/diabetes.csv  \n",
        "**Exercise Ideas:**\n",
        "- Identify and treat invalid zero values in physiological columns.\n",
        "- Impute missing values with medians.\n",
        "- Detect and remove duplicate rows.\n",
        "- Standardize column names to lowercase.\n",
        "\n",
        "---\n",
        "\n",
        "### 2. **Housing/California Housing Prices**\n",
        "**URL:** https://raw.githubusercontent.com/ageron/handson-ml/master/datasets/housing/housing.csv  \n",
        "**Exercise Ideas:**\n",
        "- Impute missing values in `total_bedrooms`.\n",
        "- Remove duplicate or outlier rows.\n",
        "- Check for and handle invalid or extreme values in numerical columns.\n",
        "- Clean and one-hot encode the `ocean_proximity` column.\n",
        "\n",
        "---\n",
        "\n",
        "### 3. **UCI Adult Census (Income) Dataset**\n",
        "**URL:** https://archive.ics.uci.edu/ml/machine-learning-databases/adult/adult.data  \n",
        "**Exercise Ideas:**\n",
        "- Replace `\"?\"` entries with NaN, then treat or drop missing.\n",
        "- Remove duplicate rows and entries with impossible ages.\n",
        "- Normalize or encode categorical features (e.g., `workclass`).\n",
        "- Ensure all columns have proper, lower-case, snake_case names.\n",
        "\n",
        "---\n",
        "\n",
        "### 4. **IMDB Movie Metadata**\n",
        "**URL:** https://raw.githubusercontent.com/sundeepblue/movie_rating_prediction/master/movie_metadata.csv  \n",
        "**Exercise Ideas:**\n",
        "- Normalize and lowercase movie titles; remove punctuation.  \n",
        "- Handle missing values in `director_name`, `budget`, or `gross`.  \n",
        "- Convert `title_year` to integer; flag missing years.  \n",
        "- Drop duplicates by `movie_title` and `title_year`.  \n",
        "- One-hot encode `genres` by splitting on the `|` delimiter.  \n",
        "- Create new feature `profit = gross - budget`.\n",
        "\n",
        "---\n",
        "\n",
        "### 8. **Wine Quality (Red) Dataset**\n",
        "**URL:** https://archive.ics.uci.edu/ml/machine-learning-databases/wine-quality/winequality-red.csv  \n",
        "**Exercise Ideas:**\n",
        "- Detect and impute missing or zero values in chemical measurements.\n",
        "- Remove duplicate records.\n",
        "- Bin `quality` into \"Low,\" \"Medium,\" and \"High.\"\n",
        "- Standardize all feature names to lowercase with underscores.\n",
        "\n",
        "---"
      ],
      "metadata": {
        "id": "ysLnzw3qFN9y"
      }
    }
  ],
  "metadata": {
    "colab": {
      "name": "Welcome to Colab",
      "toc_visible": true,
      "provenance": [],
      "include_colab_link": true
    },
    "kernelspec": {
      "display_name": "Python 3",
      "name": "python3"
    }
  },
  "nbformat": 4,
  "nbformat_minor": 0
}