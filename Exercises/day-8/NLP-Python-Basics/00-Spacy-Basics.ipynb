{
  "cells": [
    {
      "cell_type": "markdown",
      "metadata": {
        "id": "NvUD3EiiYCzX"
      },
      "source": [
        "___\n",
        "\n",
        "<a href='http://www.pieriandata.com'> <img src='https://github.com/appliedcode/mthree-c422/blob/main/Exercises/day-8/Pierian_Data_Logo.png?raw=1' /></a>\n",
        "___"
      ]
    },
    {
      "cell_type": "markdown",
      "metadata": {
        "id": "5orEyw0-YCzY"
      },
      "source": [
        "# spaCy Basics\n",
        "\n",
        "**spaCy** (https://spacy.io/) is an open-source Python library that parses and \"understands\" large volumes of text. Separate models are available that cater to specific languages (English, French, German, etc.).\n",
        "\n",
        "In this section we'll install and setup spaCy to work with Python, and then introduce some concepts related to Natural Language Processing."
      ]
    },
    {
      "cell_type": "markdown",
      "metadata": {
        "id": "xXHQ9nU0YCzZ"
      },
      "source": [
        "# Installation and Setup\n",
        "\n",
        "Installation is a two-step process. First, install spaCy using either conda or pip. Next, download the specific model you want, based on language.<br> For more info visit https://spacy.io/usage/\n",
        "\n",
        "### 1. From the command line or terminal:\n",
        "> `conda install -c conda-forge spacy`\n",
        "> <br>*or*<br>\n",
        "> `pip install -U spacy`\n",
        "\n",
        "> ### Alternatively you can create a virtual environment:\n",
        "> `conda create -n spacyenv python=3 spacy=2`\n",
        "\n",
        "### 2. Next, also from the command line (you must run this as admin or use sudo):\n",
        "\n",
        "> `python -m spacy download en`\n",
        "\n",
        "> ### If successful, you should see a message like:\n",
        "\n",
        "> **`Linking successful`**<br>\n",
        "> `    C:\\Anaconda3\\envs\\spacyenv\\lib\\site-packages\\en_core_web_sm -->`<br>\n",
        "> `    C:\\Anaconda3\\envs\\spacyenv\\lib\\site-packages\\spacy\\data\\en`<br>\n",
        "> ` `<br>\n",
        "> `    You can now load the model via spacy.load('en')`\n"
      ]
    },
    {
      "cell_type": "markdown",
      "metadata": {
        "id": "LReEa2NxYCzZ"
      },
      "source": [
        "# Working with spaCy in Python\n",
        "\n",
        "This is a typical set of instructions for importing and working with spaCy. Don't be surprised if this takes awhile - spaCy has a fairly large library to load:"
      ]
    },
    {
      "cell_type": "code",
      "execution_count": 1,
      "metadata": {
        "colab": {
          "base_uri": "https://localhost:8080/"
        },
        "id": "P5hDGSR-YCza",
        "outputId": "c2ce4565-7c31-49a2-f6ad-d316ccfde728"
      },
      "outputs": [
        {
          "output_type": "stream",
          "name": "stdout",
          "text": [
            "Tesla PROPN nsubj\n",
            "is AUX aux\n",
            "looking VERB ROOT\n",
            "at ADP prep\n",
            "buying VERB pcomp\n",
            "U.S. PROPN dobj\n",
            "startup VERB advcl\n",
            "for ADP prep\n",
            "$ SYM quantmod\n",
            "6 NUM compound\n",
            "million NUM pobj\n"
          ]
        }
      ],
      "source": [
        "# Import spaCy and load the language library\n",
        "import spacy\n",
        "nlp = spacy.load('en_core_web_sm')\n",
        "\n",
        "# Create a Doc object\n",
        "doc = nlp(u'Tesla is looking at buying U.S. startup for $6 million')\n",
        "\n",
        "# Print each token separately\n",
        "for token in doc:\n",
        "    print(token.text, token.pos_, token.dep_)"
      ]
    },
    {
      "cell_type": "markdown",
      "metadata": {
        "id": "DKeCBsc0YCzc"
      },
      "source": [
        "This doesn't look very user-friendly, but right away we see some interesting things happen:\n",
        "1. Tesla is recognized to be a Proper Noun, not just a word at the start of a sentence\n",
        "2. U.S. is kept together as one entity (we call this a 'token')\n",
        "\n",
        "As we dive deeper into spaCy we'll see what each of these abbreviations mean and how they're derived. We'll also see how spaCy can interpret the last three tokens combined `$6 million` as referring to ***money***."
      ]
    },
    {
      "cell_type": "markdown",
      "metadata": {
        "id": "k5f8dyalYCzd"
      },
      "source": [
        "___\n",
        "# spaCy Objects\n",
        "\n",
        "After importing the spacy module in the cell above we loaded a **model** and named it `nlp`.<br>Next we created a **Doc** object by applying the model to our text, and named it `doc`.<br>spaCy also builds a companion **Vocab** object that we'll cover in later sections.<br>The **Doc** object that holds the processed text is our focus here."
      ]
    },
    {
      "cell_type": "markdown",
      "metadata": {
        "id": "mcmCsnICYCzd"
      },
      "source": [
        "___\n",
        "# Pipeline\n",
        "When we run `nlp`, our text enters a *processing pipeline* that first breaks down the text and then performs a series of operations to tag, parse and describe the data.   Image source: https://spacy.io/usage/spacy-101#pipelines"
      ]
    },
    {
      "cell_type": "markdown",
      "metadata": {
        "id": "eoDtvdH7YCzd"
      },
      "source": [
        "<img src=\"https://github.com/appliedcode/mthree-c422/blob/main/Exercises/day-8/pipeline1.png?raw=1\" width=\"600\">"
      ]
    },
    {
      "cell_type": "markdown",
      "metadata": {
        "id": "_qppweIKYCzd"
      },
      "source": [
        "We can check to see what components currently live in the pipeline. In later sections we'll learn how to disable components and add new ones as needed."
      ]
    },
    {
      "cell_type": "code",
      "execution_count": 2,
      "metadata": {
        "colab": {
          "base_uri": "https://localhost:8080/"
        },
        "id": "cHIZt-vmYCze",
        "outputId": "73862bc6-4a6e-4c19-f888-aacbb68bfa9d"
      },
      "outputs": [
        {
          "output_type": "execute_result",
          "data": {
            "text/plain": [
              "[('tok2vec', <spacy.pipeline.tok2vec.Tok2Vec at 0x785a039e3b30>),\n",
              " ('tagger', <spacy.pipeline.tagger.Tagger at 0x785a039e3dd0>),\n",
              " ('parser', <spacy.pipeline.dep_parser.DependencyParser at 0x785acb70ac70>),\n",
              " ('attribute_ruler',\n",
              "  <spacy.pipeline.attributeruler.AttributeRuler at 0x785a046759d0>),\n",
              " ('lemmatizer',\n",
              "  <spacy.lang.en.lemmatizer.EnglishLemmatizer at 0x785a03752410>),\n",
              " ('ner', <spacy.pipeline.ner.EntityRecognizer at 0x785a9f5a7300>)]"
            ]
          },
          "metadata": {},
          "execution_count": 2
        }
      ],
      "source": [
        "nlp.pipeline"
      ]
    },
    {
      "cell_type": "code",
      "execution_count": 3,
      "metadata": {
        "colab": {
          "base_uri": "https://localhost:8080/"
        },
        "id": "ZivE84bKYCzg",
        "outputId": "d0342ed0-900a-4298-8626-193cb93dd7f3"
      },
      "outputs": [
        {
          "output_type": "execute_result",
          "data": {
            "text/plain": [
              "['tok2vec', 'tagger', 'parser', 'attribute_ruler', 'lemmatizer', 'ner']"
            ]
          },
          "metadata": {},
          "execution_count": 3
        }
      ],
      "source": [
        "nlp.pipe_names"
      ]
    },
    {
      "cell_type": "markdown",
      "metadata": {
        "id": "6sKMRH-uYCzi"
      },
      "source": [
        "___\n",
        "## Tokenization\n",
        "The first step in processing text is to split up all the component parts (words & punctuation) into \"tokens\". These tokens are annotated inside the Doc object to contain descriptive information. We'll go into much more detail on tokenization in an upcoming lecture. For now, let's look at another example:"
      ]
    },
    {
      "cell_type": "code",
      "execution_count": 4,
      "metadata": {
        "colab": {
          "base_uri": "https://localhost:8080/"
        },
        "id": "lxfGhewKYCzi",
        "outputId": "4b556527-8df3-4e47-db65-53815865c074"
      },
      "outputs": [
        {
          "output_type": "stream",
          "name": "stdout",
          "text": [
            "Tesla PROPN nsubj\n",
            "is AUX aux\n",
            "n't PART neg\n",
            "   SPACE dep\n",
            "looking VERB ROOT\n",
            "into ADP prep\n",
            "startups NOUN pobj\n",
            "anymore ADV advmod\n",
            ". PUNCT punct\n"
          ]
        }
      ],
      "source": [
        "doc2 = nlp(u\"Tesla isn't   looking into startups anymore.\")\n",
        "\n",
        "for token in doc2:\n",
        "    print(token.text, token.pos_, token.dep_)"
      ]
    },
    {
      "cell_type": "markdown",
      "metadata": {
        "id": "AV_j4EunYCzj"
      },
      "source": [
        "Notice how `isn't` has been split into two tokens. spaCy recognizes both the root verb `is` and the negation attached to it. Notice also that both the extended whitespace and the period at the end of the sentence are assigned their own tokens.\n",
        "\n",
        "It's important to note that even though `doc2` contains processed information about each token, it also retains the original text:"
      ]
    },
    {
      "cell_type": "code",
      "execution_count": 5,
      "metadata": {
        "colab": {
          "base_uri": "https://localhost:8080/"
        },
        "id": "2RYnBi4xYCzj",
        "outputId": "f56f9b4a-8d82-4d38-f90f-a5742f1b66dd"
      },
      "outputs": [
        {
          "output_type": "execute_result",
          "data": {
            "text/plain": [
              "Tesla isn't   looking into startups anymore."
            ]
          },
          "metadata": {},
          "execution_count": 5
        }
      ],
      "source": [
        "doc2"
      ]
    },
    {
      "cell_type": "code",
      "execution_count": 6,
      "metadata": {
        "colab": {
          "base_uri": "https://localhost:8080/"
        },
        "id": "SpeUdl5AYCzk",
        "outputId": "dae7b272-092c-4c1e-bfed-c024c1e04dac"
      },
      "outputs": [
        {
          "output_type": "execute_result",
          "data": {
            "text/plain": [
              "Tesla"
            ]
          },
          "metadata": {},
          "execution_count": 6
        }
      ],
      "source": [
        "doc2[0]"
      ]
    },
    {
      "cell_type": "code",
      "execution_count": 7,
      "metadata": {
        "colab": {
          "base_uri": "https://localhost:8080/"
        },
        "id": "lzLemWGlYCzk",
        "outputId": "e0e1f26d-e593-4b6c-c4d1-1167621e7763"
      },
      "outputs": [
        {
          "output_type": "execute_result",
          "data": {
            "text/plain": [
              "spacy.tokens.doc.Doc"
            ]
          },
          "metadata": {},
          "execution_count": 7
        }
      ],
      "source": [
        "type(doc2)"
      ]
    },
    {
      "cell_type": "markdown",
      "metadata": {
        "id": "TvwK_fZ2YCzk"
      },
      "source": [
        "___\n",
        "## Part-of-Speech Tagging (POS)\n",
        "The next step after splitting the text up into tokens is to assign parts of speech. In the above example, `Tesla` was recognized to be a ***proper noun***. Here some statistical modeling is required. For example, words that follow \"the\" are typically nouns.\n",
        "\n",
        "For a full list of POS Tags visit https://spacy.io/api/annotation#pos-tagging"
      ]
    },
    {
      "cell_type": "code",
      "execution_count": 8,
      "metadata": {
        "colab": {
          "base_uri": "https://localhost:8080/",
          "height": 35
        },
        "id": "suNjZoGHYCzl",
        "outputId": "94598601-9254-4901-ec93-240e3640dbd6"
      },
      "outputs": [
        {
          "output_type": "execute_result",
          "data": {
            "text/plain": [
              "'PROPN'"
            ],
            "application/vnd.google.colaboratory.intrinsic+json": {
              "type": "string"
            }
          },
          "metadata": {},
          "execution_count": 8
        }
      ],
      "source": [
        "doc2[0].pos_"
      ]
    },
    {
      "cell_type": "markdown",
      "metadata": {
        "id": "oBCxmWnOYCzl"
      },
      "source": [
        "___\n",
        "## Dependencies\n",
        "We also looked at the syntactic dependencies assigned to each token. `Tesla` is identified as an `nsubj` or the ***nominal subject*** of the sentence.\n",
        "\n",
        "For a full list of Syntactic Dependencies visit https://spacy.io/api/annotation#dependency-parsing\n",
        "<br>A good explanation of typed dependencies can be found [here](https://nlp.stanford.edu/software/dependencies_manual.pdf)"
      ]
    },
    {
      "cell_type": "code",
      "execution_count": 9,
      "metadata": {
        "colab": {
          "base_uri": "https://localhost:8080/",
          "height": 35
        },
        "id": "gKpDlwZcYCzl",
        "outputId": "80c91e78-360b-47b7-ea5c-7c2828036767"
      },
      "outputs": [
        {
          "output_type": "execute_result",
          "data": {
            "text/plain": [
              "'nsubj'"
            ],
            "application/vnd.google.colaboratory.intrinsic+json": {
              "type": "string"
            }
          },
          "metadata": {},
          "execution_count": 9
        }
      ],
      "source": [
        "doc2[0].dep_"
      ]
    },
    {
      "cell_type": "markdown",
      "metadata": {
        "id": "DF2IYvDbYCzm"
      },
      "source": [
        "To see the full name of a tag use `spacy.explain(tag)`"
      ]
    },
    {
      "cell_type": "code",
      "execution_count": 10,
      "metadata": {
        "colab": {
          "base_uri": "https://localhost:8080/",
          "height": 35
        },
        "id": "iYmZDRR6YCzm",
        "outputId": "3e331c91-d182-4df1-918d-e343759629a0"
      },
      "outputs": [
        {
          "output_type": "execute_result",
          "data": {
            "text/plain": [
              "'proper noun'"
            ],
            "application/vnd.google.colaboratory.intrinsic+json": {
              "type": "string"
            }
          },
          "metadata": {},
          "execution_count": 10
        }
      ],
      "source": [
        "spacy.explain('PROPN')"
      ]
    },
    {
      "cell_type": "code",
      "execution_count": 11,
      "metadata": {
        "colab": {
          "base_uri": "https://localhost:8080/",
          "height": 35
        },
        "id": "Bu8cREpyYCzm",
        "outputId": "ec51b4cc-c40a-462a-e93b-a4141e946b2f"
      },
      "outputs": [
        {
          "output_type": "execute_result",
          "data": {
            "text/plain": [
              "'nominal subject'"
            ],
            "application/vnd.google.colaboratory.intrinsic+json": {
              "type": "string"
            }
          },
          "metadata": {},
          "execution_count": 11
        }
      ],
      "source": [
        "spacy.explain('nsubj')"
      ]
    },
    {
      "cell_type": "markdown",
      "metadata": {
        "id": "-vskr71KYCzn"
      },
      "source": [
        "___\n",
        "## Additional Token Attributes\n",
        "We'll see these again in upcoming lectures. For now we just want to illustrate some of the other information that spaCy assigns to tokens:"
      ]
    },
    {
      "cell_type": "markdown",
      "metadata": {
        "id": "AAg72WJIYCzn"
      },
      "source": [
        "|Tag|Description|doc2[0].tag|\n",
        "|:------|:------:|:------|\n",
        "|`.text`|The original word text<!-- .element: style=\"text-align:left;\" -->|`Tesla`|\n",
        "|`.lemma_`|The base form of the word|`tesla`|\n",
        "|`.pos_`|The simple part-of-speech tag|`PROPN`/`proper noun`|\n",
        "|`.tag_`|The detailed part-of-speech tag|`NNP`/`noun, proper singular`|\n",
        "|`.shape_`|The word shape – capitalization, punctuation, digits|`Xxxxx`|\n",
        "|`.is_alpha`|Is the token an alpha character?|`True`|\n",
        "|`.is_stop`|Is the token part of a stop list, i.e. the most common words of the language?|`False`|"
      ]
    },
    {
      "cell_type": "code",
      "execution_count": 13,
      "metadata": {
        "colab": {
          "base_uri": "https://localhost:8080/"
        },
        "id": "bT8PeqUxYCzn",
        "outputId": "ab7de741-a061-4e2e-8218-837fa04cf3c1"
      },
      "outputs": [
        {
          "output_type": "stream",
          "name": "stdout",
          "text": [
            "looking\n",
            "look\n",
            "NNP\n",
            "PROPN\n",
            "Xxxxx\n",
            "True\n",
            "False\n"
          ]
        }
      ],
      "source": [
        "# Lemmas (the base form of the word):\n",
        "print(doc2[4].text)\n",
        "print(doc2[4].lemma_)\n",
        "print(doc2[0].tag_)\n",
        "print(doc2[0].pos_)\n",
        "print(doc2[0].shape_)\n",
        "print(doc2[0].is_alpha)\n",
        "print(doc2[0].is_stop)"
      ]
    },
    {
      "cell_type": "code",
      "execution_count": 14,
      "metadata": {
        "colab": {
          "base_uri": "https://localhost:8080/"
        },
        "id": "RHT_K8sEYCzo",
        "outputId": "2607ab0d-3753-4eff-abda-a78c01a27c2e"
      },
      "outputs": [
        {
          "output_type": "stream",
          "name": "stdout",
          "text": [
            "VERB\n",
            "VBG / verb, gerund or present participle\n"
          ]
        }
      ],
      "source": [
        "# Simple Parts-of-Speech & Detailed Tags:\n",
        "print(doc2[4].pos_)\n",
        "print(doc2[4].tag_ + ' / ' + spacy.explain(doc2[4].tag_))"
      ]
    },
    {
      "cell_type": "code",
      "execution_count": 15,
      "metadata": {
        "colab": {
          "base_uri": "https://localhost:8080/"
        },
        "id": "H3zepY08YCzo",
        "outputId": "ebaf7dc3-e2d6-4063-ed84-17bcac9ac291"
      },
      "outputs": [
        {
          "output_type": "stream",
          "name": "stdout",
          "text": [
            "Tesla: Xxxxx\n",
            "U.S. : X.X.\n"
          ]
        }
      ],
      "source": [
        "# Word Shapes:\n",
        "print(doc2[0].text+': '+doc2[0].shape_)\n",
        "print(doc[5].text+' : '+doc[5].shape_)"
      ]
    },
    {
      "cell_type": "code",
      "execution_count": 16,
      "metadata": {
        "colab": {
          "base_uri": "https://localhost:8080/"
        },
        "id": "clCmhkHEYCzo",
        "outputId": "16735c34-d01d-4c47-c86b-c25e30ce2be9"
      },
      "outputs": [
        {
          "output_type": "stream",
          "name": "stdout",
          "text": [
            "True\n",
            "False\n"
          ]
        }
      ],
      "source": [
        "# Boolean Values:\n",
        "print(doc2[0].is_alpha)\n",
        "print(doc2[0].is_stop)"
      ]
    },
    {
      "cell_type": "markdown",
      "metadata": {
        "id": "rCh4MQI2YCzp"
      },
      "source": [
        "___\n",
        "## Spans\n",
        "Large Doc objects can be hard to work with at times. A **span** is a slice of Doc object in the form `Doc[start:stop]`."
      ]
    },
    {
      "cell_type": "code",
      "execution_count": 17,
      "metadata": {
        "id": "Dhl7pM8IYCzp"
      },
      "outputs": [],
      "source": [
        "doc3 = nlp(u'Although commmonly attributed to John Lennon from his song \"Beautiful Boy\", \\\n",
        "the phrase \"Life is what happens to us while we are making other plans\" was written by \\\n",
        "cartoonist Allen Saunders and published in Reader\\'s Digest in 1957, when Lennon was 17.')"
      ]
    },
    {
      "cell_type": "code",
      "execution_count": 18,
      "metadata": {
        "colab": {
          "base_uri": "https://localhost:8080/"
        },
        "id": "NpLiRnTZYCzp",
        "outputId": "e8f43187-bab1-4da8-aa1f-30548c12f04a"
      },
      "outputs": [
        {
          "output_type": "stream",
          "name": "stdout",
          "text": [
            "\"Life is what happens to us while we are making other plans\"\n"
          ]
        }
      ],
      "source": [
        "life_quote = doc3[16:30]\n",
        "print(life_quote)"
      ]
    },
    {
      "cell_type": "code",
      "execution_count": 19,
      "metadata": {
        "colab": {
          "base_uri": "https://localhost:8080/"
        },
        "id": "Xub5oZE1YCzp",
        "outputId": "37937282-bff0-4aa6-e2db-c018c69fa02b"
      },
      "outputs": [
        {
          "output_type": "execute_result",
          "data": {
            "text/plain": [
              "spacy.tokens.span.Span"
            ]
          },
          "metadata": {},
          "execution_count": 19
        }
      ],
      "source": [
        "type(life_quote)"
      ]
    },
    {
      "cell_type": "markdown",
      "metadata": {
        "id": "gLU4LBPSYCzq"
      },
      "source": [
        "In upcoming lectures we'll see how to create Span objects using `Span()`. This will allow us to assign additional information to the Span."
      ]
    },
    {
      "cell_type": "markdown",
      "metadata": {
        "id": "G7_AgECuYCzq"
      },
      "source": [
        "___\n",
        "## Sentences\n",
        "Certain tokens inside a Doc object may also receive a \"start of sentence\" tag. While this doesn't immediately build a list of sentences, these tags enable the generation of sentence segments through `Doc.sents`. Later we'll write our own segmentation rules."
      ]
    },
    {
      "cell_type": "code",
      "execution_count": 22,
      "metadata": {
        "id": "J70KSxpiYCzq"
      },
      "outputs": [],
      "source": [
        "doc4 = nlp(u'This is the first sentence. This is another sentence. This is the last sentence. This is the another new sentence added')"
      ]
    },
    {
      "cell_type": "code",
      "execution_count": 23,
      "metadata": {
        "colab": {
          "base_uri": "https://localhost:8080/"
        },
        "id": "79UjW6OmYCzr",
        "outputId": "b2d2aea2-b350-4c16-f666-4f0be6e6f1ba"
      },
      "outputs": [
        {
          "output_type": "stream",
          "name": "stdout",
          "text": [
            "This is the first sentence.\n",
            "This is another sentence.\n",
            "This is the last sentence.\n",
            "This is the another new sentence added\n"
          ]
        }
      ],
      "source": [
        "for sent in doc4.sents:\n",
        "    print(sent)"
      ]
    },
    {
      "cell_type": "code",
      "execution_count": 24,
      "metadata": {
        "colab": {
          "base_uri": "https://localhost:8080/"
        },
        "id": "_PoAs-LXYCz7",
        "outputId": "98c3c82c-df71-46a3-d6bd-1e0934797b5b"
      },
      "outputs": [
        {
          "output_type": "execute_result",
          "data": {
            "text/plain": [
              "True"
            ]
          },
          "metadata": {},
          "execution_count": 24
        }
      ],
      "source": [
        "doc4[6].is_sent_start\n"
      ]
    },
    {
      "cell_type": "code",
      "source": [
        "doc4[10].is_alpha"
      ],
      "metadata": {
        "colab": {
          "base_uri": "https://localhost:8080/"
        },
        "id": "so1D4aDCcrW3",
        "outputId": "08d59e73-7234-4abf-ae9d-28c09da7746a"
      },
      "execution_count": 25,
      "outputs": [
        {
          "output_type": "execute_result",
          "data": {
            "text/plain": [
              "False"
            ]
          },
          "metadata": {},
          "execution_count": 25
        }
      ]
    }
  ],
  "metadata": {
    "kernelspec": {
      "display_name": "Python 3",
      "language": "python",
      "name": "python3"
    },
    "language_info": {
      "codemirror_mode": {
        "name": "ipython",
        "version": 3
      },
      "file_extension": ".py",
      "mimetype": "text/x-python",
      "name": "python",
      "nbconvert_exporter": "python",
      "pygments_lexer": "ipython3",
      "version": "3.6.7"
    },
    "colab": {
      "provenance": []
    }
  },
  "nbformat": 4,
  "nbformat_minor": 0
}