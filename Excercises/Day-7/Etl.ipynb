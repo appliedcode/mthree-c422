{
  "nbformat": 4,
  "nbformat_minor": 0,
  "metadata": {
    "colab": {
      "provenance": [],
      "gpuType": "T4",
      "authorship_tag": "ABX9TyOHMNPw2c0aFeaL7+uga3s2",
      "include_colab_link": true
    },
    "kernelspec": {
      "name": "python3",
      "display_name": "Python 3"
    },
    "language_info": {
      "name": "python"
    },
    "accelerator": "GPU"
  },
  "cells": [
    {
      "cell_type": "markdown",
      "metadata": {
        "id": "view-in-github",
        "colab_type": "text"
      },
      "source": [
        "<a href=\"https://colab.research.google.com/github/appliedcode/mthree-c422/blob/mthree-c422-rama/Excercises/Day-7/Etl.ipynb\" target=\"_parent\"><img src=\"https://colab.research.google.com/assets/colab-badge.svg\" alt=\"Open In Colab\"/></a>"
      ]
    },
    {
      "cell_type": "code",
      "execution_count": 1,
      "metadata": {
        "id": "P6WiNHeAznI7"
      },
      "outputs": [],
      "source": [
        "# A. Extract\n",
        "# 1. Download or Create a Sample Data File\n",
        "# Use any small public .csv (for demo, we’ll use a height/weight dataset):\n",
        "url = \"https://people.sc.fsu.edu/~jburkardt/data/csv/hw_200.csv\"\n",
        "!wget -qO customers.csv $url\n"
      ]
    },
    {
      "cell_type": "code",
      "source": [
        "# 2. Load Into pandas DataFrame\n",
        "import pandas as pd\n",
        "\n",
        "df_customers = pd.read_csv('customers.csv')\n",
        "print(df_customers.head())\n",
        "print(df_customers.columns)"
      ],
      "metadata": {
        "colab": {
          "base_uri": "https://localhost:8080/"
        },
        "id": "74VgA9P0zwpZ",
        "outputId": "9590ce48-87fc-49ff-9da4-945a354eaf9b"
      },
      "execution_count": 2,
      "outputs": [
        {
          "output_type": "stream",
          "name": "stdout",
          "text": [
            "   Index   Height(Inches)\"   \"Weight(Pounds)\"\n",
            "0      1             65.78             112.99\n",
            "1      2             71.52             136.49\n",
            "2      3             69.40             153.03\n",
            "3      4             68.22             142.34\n",
            "4      5             67.79             144.30\n",
            "Index(['Index', ' Height(Inches)\"', ' \"Weight(Pounds)\"'], dtype='object')\n"
          ]
        }
      ]
    },
    {
      "cell_type": "code",
      "source": [
        "# B. Transform\n",
        "# 1. Clean Data\n",
        "# Remove duplicates\n",
        "\n",
        "# Rename messy columns for cleaner analysis\n",
        "\n",
        "# Remove duplicates based on 'Index' column\n",
        "df_customers.drop_duplicates('Index', inplace=True)\n",
        "\n",
        "# Clean up column names\n",
        "df_customers.columns = [col.strip().replace('\"', '').replace(\"'\", \"\") for col in df_customers.columns]\n",
        "\n",
        "# View cleaned DataFrame\n",
        "print(df_customers.head())\n"
      ],
      "metadata": {
        "colab": {
          "base_uri": "https://localhost:8080/"
        },
        "id": "T4BZq88Fz52g",
        "outputId": "da1b8129-3591-4ae0-d88d-00f8c1602cbf"
      },
      "execution_count": 3,
      "outputs": [
        {
          "output_type": "stream",
          "name": "stdout",
          "text": [
            "   Index  Height(Inches)  Weight(Pounds)\n",
            "0      1           65.78          112.99\n",
            "1      2           71.52          136.49\n",
            "2      3           69.40          153.03\n",
            "3      4           68.22          142.34\n",
            "4      5           67.79          144.30\n"
          ]
        }
      ]
    },
    {
      "cell_type": "code",
      "source": [
        "# 2. Add Enriched & Derived Columns\n",
        "# Compute a \"BMI\" (Body Mass Index) column\n",
        "\n",
        "# Add a BMI column, Height in inches, Weight in pounds\n",
        "df_customers['BMI'] = (df_customers['Weight(Pounds)'] / (df_customers['Height(Inches)'] * 0.0254) ** 2)\n",
        "print(df_customers.head())"
      ],
      "metadata": {
        "colab": {
          "base_uri": "https://localhost:8080/"
        },
        "id": "_Cys2e33z9Dm",
        "outputId": "5f97d3b7-777a-4f41-e069-079c806f1464"
      },
      "execution_count": 4,
      "outputs": [
        {
          "output_type": "stream",
          "name": "stdout",
          "text": [
            "   Index  Height(Inches)  Weight(Pounds)        BMI\n",
            "0      1           65.78          112.99  40.474812\n",
            "1      2           71.52          136.49  41.359796\n",
            "2      3           69.40          153.03  49.248182\n",
            "3      4           68.22          142.34  47.406304\n",
            "4      5           67.79          144.30  48.670704\n"
          ]
        }
      ]
    },
    {
      "cell_type": "code",
      "source": [
        "# C. Load\n",
        "# 1. Store the Result in a Local SQLite Database\n",
        "import sqlite3\n",
        "\n",
        "conn = sqlite3.connect('customers_etl_lab.db')\n",
        "df_customers.to_sql('customers_etl', conn, if_exists='replace', index=False)\n"
      ],
      "metadata": {
        "colab": {
          "base_uri": "https://localhost:8080/"
        },
        "id": "x2ljAXJAz-dS",
        "outputId": "ab0334ab-244d-48c0-c45d-8f32524b6b72"
      },
      "execution_count": 5,
      "outputs": [
        {
          "output_type": "execute_result",
          "data": {
            "text/plain": [
              "200"
            ]
          },
          "metadata": {},
          "execution_count": 5
        }
      ]
    },
    {
      "cell_type": "code",
      "source": [
        "# 2. Run SQL Queries on the Transformed Data\n",
        "# Example: Get customers with BMI > 25 (overweight threshold)\n",
        "query = \"SELECT * FROM customers_etl WHERE BMI > 45;\"\n",
        "df_overweight = pd.read_sql(query, conn)\n",
        "print(df_overweight.head())\n"
      ],
      "metadata": {
        "colab": {
          "base_uri": "https://localhost:8080/"
        },
        "id": "QZKOYFQ40B0I",
        "outputId": "ba9dbe34-43dd-4128-bd3f-3ee935601a53"
      },
      "execution_count": 6,
      "outputs": [
        {
          "output_type": "stream",
          "name": "stdout",
          "text": [
            "   Index  Height(Inches)  Weight(Pounds)        BMI\n",
            "0      3           69.40          153.03  49.248182\n",
            "1      4           68.22          142.34  47.406304\n",
            "2      5           67.79          144.30  48.670704\n",
            "3      7           69.80          141.49  45.013986\n",
            "4     17           66.46          129.50  45.444535\n"
          ]
        }
      ]
    },
    {
      "cell_type": "code",
      "source": [
        "import matplotlib.pyplot as plt\n",
        "\n",
        "# Plot histogram of BMI values\n",
        "df_overweight['BMI'].hist(bins=10, edgecolor='black')\n",
        "plt.title('Histogram of BMI Values (BMI > 45)')\n",
        "plt.xlabel('BMI')\n",
        "plt.ylabel('Frequency')\n",
        "plt.show()\n"
      ],
      "metadata": {
        "colab": {
          "base_uri": "https://localhost:8080/",
          "height": 472
        },
        "id": "50qUzNTF0T46",
        "outputId": "cd9250ae-038c-41e6-85a1-5dd6dbafa3da"
      },
      "execution_count": 7,
      "outputs": [
        {
          "output_type": "display_data",
          "data": {
            "text/plain": [
              "<Figure size 640x480 with 1 Axes>"
            ],
            "image/png": "[encoded data removed]"
          },
          "metadata": {}
        }
      ]
    },
    {
      "cell_type": "code",
      "source": [
        "def categorize_bmi(bmi):\n",
        "    if bmi < 18.5:\n",
        "        return \"Underweight\"\n",
        "    elif 18.5 <= bmi < 25:\n",
        "        return \"Normal\"\n",
        "    elif 25 <= bmi < 30:\n",
        "        return \"Overweight\"\n",
        "    else:\n",
        "        return \"Obese\"\n",
        "\n",
        "df_overweight['BMI_Category'] = df_overweight['BMI'].apply(categorize_bmi)\n",
        "print(df_overweight[['BMI', 'BMI_Category']].head())\n"
      ],
      "metadata": {
        "colab": {
          "base_uri": "https://localhost:8080/"
        },
        "id": "ZCKNyMvl0W7v",
        "outputId": "6f53e02d-db03-4c82-c605-36073494977e"
      },
      "execution_count": 8,
      "outputs": [
        {
          "output_type": "stream",
          "name": "stdout",
          "text": [
            "         BMI BMI_Category\n",
            "0  49.248182        Obese\n",
            "1  47.406304        Obese\n",
            "2  48.670704        Obese\n",
            "3  45.013986        Obese\n",
            "4  45.444535        Obese\n"
          ]
        }
      ]
    },
    {
      "cell_type": "code",
      "source": [
        "# Validate that all BMI values are positive\n",
        "assert (df_overweight['BMI'] > 0).all(), \"BMI values must be > 0\"\n"
      ],
      "metadata": {
        "id": "JGUA_xZX0Z5u"
      },
      "execution_count": 9,
      "outputs": []
    }
  ]
}