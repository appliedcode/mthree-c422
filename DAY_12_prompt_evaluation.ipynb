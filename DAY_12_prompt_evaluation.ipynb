{
  "nbformat": 4,
  "nbformat_minor": 0,
  "metadata": {
    "colab": {
      "provenance": [],
      "authorship_tag": "ABX9TyPXYy2XBTV2aYPUdzKd9+oS"
    },
    "kernelspec": {
      "name": "python3",
      "display_name": "Python 3"
    },
    "language_info": {
      "name": "python"
    }
  },
  "cells": [
    {
      "cell_type": "code",
      "execution_count": null,
      "metadata": {
        "colab": {
          "base_uri": "https://localhost:8080/"
        },
        "id": "ovwvTNWN-JWe",
        "outputId": "7757a7aa-553f-45e2-d716-a09ccb3ae4af"
      },
      "outputs": [
        {
          "output_type": "stream",
          "name": "stdout",
          "text": [
            "✅ OpenAI API key loaded safely\n"
          ]
        }
      ],
      "source": [
        "\n",
        "from google.colab import userdata\n",
        "import os\n",
        "\n",
        "# Set your OpenAI API key securely in Colab Secrets (once)\n",
        "# userdata.set(\"OPENAI_API_KEY\", \"your-api-key-here\")\n",
        "\n",
        "# Retrieve key in your notebook\n",
        "openai_api_key = userdata.get(\"OPENAI_API_KEY\")\n",
        "if openai_api_key:\n",
        "    os.environ[\"OPENAI_API_KEY\"] = openai_api_key\n",
        "    print(\"✅ OpenAI API key loaded safely\")\n",
        "else:\n",
        "    print(\"❌ OpenAI API key not found. Please set it using Colab Secrets.\")"
      ]
    },
    {
      "cell_type": "code",
      "source": [
        "!pip install --quiet openai -q\n",
        "# Create client\n",
        "from openai import OpenAI\n",
        "client = OpenAI(api_key=os.environ[\"OPENAI_API_KEY\"])\n",
        "\n"
      ],
      "metadata": {
        "id": "tNyZdCkS-UAC"
      },
      "execution_count": null,
      "outputs": []
    },
    {
      "cell_type": "code",
      "source": [
        "# Helper Function to Send Prompts\n",
        "def generate_response(prompt, model=\"gpt-4o-mini\", temperature=0.7):\n",
        "    \"\"\"\n",
        "    Send a prompt to the OpenAI model and return the response text.\n",
        "    \"\"\"\n",
        "    try:\n",
        "        completion = client.chat.completions.create(\n",
        "            model=model,\n",
        "            messages=[{\"role\": \"user\", \"content\": prompt}],\n",
        "            temperature=temperature\n",
        "        )\n",
        "        return completion.choices[0].message.content.strip()\n",
        "    except Exception as e:\n",
        "        return f\"Error: {e}\"\n",
        "\n",
        "\n"
      ],
      "metadata": {
        "id": "6yz7-SgX-a97"
      },
      "execution_count": null,
      "outputs": []
    },
    {
      "cell_type": "code",
      "source": [
        "\n",
        "prompt_v1 = \"Answer customer queries about returns.\"\n",
        "prompt_v2 = \"You are a helpful assistant answering customer return questions clearly and politely.\"\n",
        "\n",
        "# Use either version\n",
        "prompt = prompt_v2\n",
        "\n",
        "response = generate_response(prompt + \"\\nCustomer: How do I return a product?\")\n",
        "print(response)"
      ],
      "metadata": {
        "colab": {
          "base_uri": "https://localhost:8080/"
        },
        "id": "oaThExlw-fwM",
        "outputId": "76aa8472-4d31-4b18-ff24-eeb174c353dc"
      },
      "execution_count": null,
      "outputs": [
        {
          "output_type": "stream",
          "name": "stdout",
          "text": [
            "Thank you for your question! To return a product, please follow these steps:\n",
            "\n",
            "1. **Check the Return Policy**: Review our return policy on our website to ensure your item is eligible for return.\n",
            "\n",
            "2. **Prepare the Item**: Make sure the item is in its original condition, with all tags and packaging intact.\n",
            "\n",
            "3. **Request a Return Authorization**: Contact our customer service team or visit our returns portal to obtain a return authorization number (RAN).\n",
            "\n",
            "4. **Package the Item**: Securely pack the item in a box, including the original receipt or order confirmation and the return authorization number.\n",
            "\n",
            "5. **Ship the Item**: Send the package to the address provided by our customer service team. Be sure to keep the shipping receipt for your records.\n",
            "\n",
            "6. **Track Your Return**: If you have a tracking number, you can monitor the return shipment.\n",
            "\n",
            "Once we receive the returned item, we will process your refund or exchange as per our policy. If you have any further questions, feel free to ask!\n"
          ]
        }
      ]
    },
    {
      "cell_type": "code",
      "source": [
        "test_inputs = [\n",
        "    \"How do I return my purchase?\",\n",
        "    \"What is the refund policy?\"\n",
        "]\n",
        "expected_keywords = [\"return policy\", \"contact support\"]\n",
        "\n",
        "def test_prompt(prompt):\n",
        "    print(f\"Testing prompt:\\n{prompt}\\n\")\n",
        "    for input_text in test_inputs:\n",
        "        response = generate_response(prompt + \"\\nCustomer: \" + input_text)\n",
        "        print(f\"Input: {input_text}\\nResponse: {response}\\n\")\n",
        "        passed = all(keyword in response.lower() for keyword in expected_keywords)\n",
        "        print(\"Pass\" if passed else \"Fail\", \"\\n\")\n",
        "\n",
        "# Test both versions\n",
        "test_prompt(prompt_v1)\n",
        "test_prompt(prompt_v2)"
      ],
      "metadata": {
        "colab": {
          "base_uri": "https://localhost:8080/"
        },
        "id": "_hBo7HTC-oI6",
        "outputId": "6aa754dd-3f39-43e6-bf87-dabcf38b94ae"
      },
      "execution_count": null,
      "outputs": [
        {
          "output_type": "stream",
          "name": "stdout",
          "text": [
            "Testing prompt:\n",
            "Answer customer queries about returns.\n",
            "\n",
            "Input: How do I return my purchase?\n",
            "Response: To return your purchase, please follow these steps:\n",
            "\n",
            "1. **Check the Return Policy**: Review our return policy to ensure your item is eligible for return. Most items can be returned within [insert return period, e.g., 30 days] of purchase.\n",
            "\n",
            "2. **Prepare Your Item**: Ensure the item is in its original condition, with tags attached and in its original packaging if possible. Include any accessories, manuals, or free gifts that came with the item.\n",
            "\n",
            "3. **Access the Return Portal**: Visit our website and go to the \"Returns\" section. You may need to log in to your account to initiate the return process.\n",
            "\n",
            "4. **Complete the Return Form**: Fill out the return form with your order details and reason for return. \n",
            "\n",
            "5. **Print Return Label**: If applicable, print out the return shipping label provided in the portal.\n",
            "\n",
            "6. **Package Your Return**: Securely package the item and attach the return label to the outside of the package.\n",
            "\n",
            "7. **Ship the Package**: Drop off the package at the designated shipping carrier location. Make sure to keep the tracking number for your records.\n",
            "\n",
            "8. **Refund/Exchange Processing**: Once we receive your return, we will inspect the item and process your refund or exchange within [insert processing time, e.g., 5-7 business days].\n",
            "\n",
            "If you have any further questions or need assistance, feel free to reach out to our customer service team!\n",
            "\n",
            "Fail \n",
            "\n",
            "Input: What is the refund policy?\n",
            "Response: Our refund policy allows you to return items within 30 days of purchase for a full refund. To qualify for a refund, items must be in their original condition, unused, and in the original packaging. Please keep your receipt or proof of purchase. If you have any specific items in mind or need assistance with the return process, feel free to ask!\n",
            "\n",
            "Fail \n",
            "\n",
            "Testing prompt:\n",
            "You are a helpful assistant answering customer return questions clearly and politely.\n",
            "\n",
            "Input: How do I return my purchase?\n",
            "Response: Thank you for reaching out! To return your purchase, please follow these steps:\n",
            "\n",
            "1. **Check the Return Policy**: Review our return policy to ensure your item is eligible for return. Generally, items can be returned within [insert return window, e.g., 30 days] of purchase.\n",
            "\n",
            "2. **Prepare Your Item**: Make sure the item is in its original condition, unused, and in the original packaging, along with any accessories or documentation.\n",
            "\n",
            "3. **Complete the Return Form**: If included in your package, fill out the return form. If you don’t have one, you can download it from our website or contact customer service for assistance.\n",
            "\n",
            "4. **Pack the Item**: Carefully pack the item to avoid any damage during shipping. Include the return form inside the package.\n",
            "\n",
            "5. **Ship the Package**: Use a trackable shipping method to return the item to the address provided in our return policy. Keep the tracking number for your records.\n",
            "\n",
            "6. **Refund Processing**: Once we receive your return and verify its condition, we’ll process your refund within [insert processing time, e.g., 5-7 business days].\n",
            "\n",
            "If you have any further questions or need assistance with the return process, please don’t hesitate to ask!\n",
            "\n",
            "Fail \n",
            "\n",
            "Input: What is the refund policy?\n",
            "Response: Thank you for your question! Our refund policy allows for returns within 30 days of purchase, provided that the item is in its original condition and packaging. To initiate a return, please contact our customer service team for instructions. Once we receive the returned item, we will process your refund within 5-7 business days. If you have any further questions, feel free to ask!\n",
            "\n",
            "Fail \n",
            "\n"
          ]
        }
      ]
    },
    {
      "cell_type": "code",
      "source": [
        "import difflib\n",
        "\n",
        "prompt = \"Explain the benefits of renewable energy.\"\n",
        "\n",
        "# Run same prompt 3 times\n",
        "responses = [generate_response(prompt) for _ in range(3)]\n",
        "\n",
        "print(\"Responses:\")\n",
        "for i, resp in enumerate(responses):\n",
        "    print(f\"Run {i+1}: {resp}\\n\")\n",
        "\n",
        "# Simple consistency check: ratio of similarity between runs 1 and 2\n",
        "similarity = difflib.SequenceMatcher(None, responses[0], responses[1]).ratio()\n",
        "print(f\"Similarity between first two runs: {similarity:.2f}\")"
      ],
      "metadata": {
        "colab": {
          "base_uri": "https://localhost:8080/"
        },
        "id": "09s1681G-ttE",
        "outputId": "755128d8-de47-4960-b611-708ab7fa9dc6"
      },
      "execution_count": null,
      "outputs": [
        {
          "output_type": "stream",
          "name": "stdout",
          "text": [
            "Responses:\n",
            "Run 1: Renewable energy offers numerous benefits that contribute to environmental sustainability, economic growth, and energy security. Here are some key advantages:\n",
            "\n",
            "1. **Environmental Benefits**:\n",
            "   - **Reduced Greenhouse Gas Emissions**: Renewable energy sources, such as solar, wind, and hydroelectric power, produce little to no greenhouse gases during operation, helping to mitigate climate change.\n",
            "   - **Lower Air Pollution**: By displacing fossil fuels, renewables reduce air pollutants (like sulfur dioxide and nitrogen oxides) that can cause respiratory and cardiovascular problems.\n",
            "   - **Biodiversity Preservation**: Utilizing renewable energy can help decrease habitat destruction associated with fossil fuel extraction and reduce the ecological footprint of energy production.\n",
            "\n",
            "2. **Sustainability**:\n",
            "   - **Infinite Resource**: Renewable energy sources are naturally replenished. For example, sunlight and wind are abundant and will not run out in the foreseeable future, unlike fossil fuels.\n",
            "   - **Resource Diversification**: By harnessing various renewable sources, countries can diversify their energy portfolios, reducing dependence on a single energy source and enhancing energy security.\n",
            "\n",
            "3. **Economic Advantages**:\n",
            "   - **Job Creation**: The renewable energy sector is labor-intensive, leading to job creation in manufacturing, installation, maintenance, and operation. It is often seen as a driver for new employment opportunities.\n",
            "   - **Energy Independence**: By investing in domestic renewable energy, countries can reduce their reliance on imported fossil fuels, enhancing energy security and stabilizing energy prices.\n",
            "   - **Cost Competitiveness**: The cost of renewable technologies, especially solar and wind, has declined significantly in recent years, making them increasingly cost-competitive with traditional energy sources.\n",
            "\n",
            "4. **Energy Security**:\n",
            "   - **Resilience to Supply Disruptions**: Diversifying energy sources with renewables can make energy systems more resilient to geopolitical tensions, natural disasters, and market fluctuations.\n",
            "   - **Decentralization**: Renewable energy systems can be deployed on a smaller scale, enabling localized energy production (e.g., rooftop solar). This can enhance energy security and reduce transmission losses.\n",
            "\n",
            "5. **Technological Innovation**:\n",
            "   - The transition to renewable energy often drives innovation in energy storage, smart grid technology, and energy efficiency measures, leading to advances that can benefit the broader economy.\n",
            "\n",
            "6. **Public Health Improvements**:\n",
            "   - Reducing air and water pollution associated with fossil fuel extraction and combustion leads to better public health outcomes, decreasing healthcare costs and improving quality of life.\n",
            "\n",
            "7. **Social Benefits**:\n",
            "   - Access to renewable energy can empower communities, especially in remote or underdeveloped areas where traditional energy infrastructure is lacking, enabling economic development and improved living standards.\n",
            "\n",
            "Overall, the shift towards renewable energy is critical for creating a sustainable, resilient, and equitable energy future.\n",
            "\n",
            "Run 2: Renewable energy offers numerous benefits that contribute to environmental sustainability, economic growth, and social well-being. Here are some key advantages:\n",
            "\n",
            "1. **Environmental Benefits**:\n",
            "   - **Reduced Greenhouse Gas Emissions**: Renewable energy sources, such as solar, wind, and hydro, produce little to no greenhouse gases during operation, helping mitigate climate change.\n",
            "   - **Lower Air Pollution**: By replacing fossil fuels, renewables reduce air pollutants that can cause health problems, benefiting public health and reducing healthcare costs.\n",
            "   - **Conservation of Resources**: Renewable energy relies on naturally replenished resources, reducing reliance on finite fossil fuels and helping preserve natural ecosystems.\n",
            "\n",
            "2. **Economic Benefits**:\n",
            "   - **Job Creation**: The renewable energy sector is labor-intensive, creating jobs in manufacturing, installation, and maintenance. This can stimulate local economies.\n",
            "   - **Energy Independence**: By investing in domestic renewable energy sources, countries can reduce dependence on imported fuels, enhancing energy security and stabilizing prices.\n",
            "   - **Long-term Savings**: While initial investments may be higher, renewable energy often leads to lower long-term energy costs due to the absence of fuel costs and decreasing technology prices.\n",
            "\n",
            "3. **Social Benefits**:\n",
            "   - **Access to Energy**: Renewable energy can improve energy access in remote or underserved areas, promoting equity and helping communities develop economically.\n",
            "   - **Resilience and Reliability**: Renewable energy systems can enhance grid reliability and resilience against natural disasters, as they can be decentralized and distributed across various locations.\n",
            "   - **Public Support and Awareness**: Growing awareness of environmental issues has led to increased public support for renewable energy initiatives, fostering community engagement and involvement.\n",
            "\n",
            "4. **Technological Advancement**:\n",
            "   - **Innovation and Research**: The renewable energy sector is a hotbed for innovation, driving advancements in technology that can lead to more efficient energy solutions.\n",
            "   - **Integration with Smart Technologies**: Renewables can be integrated with smart grids and energy storage solutions, enhancing overall energy management and efficiency.\n",
            "\n",
            "5. **Sustainable Development**:\n",
            "   - **Alignment with Global Goals**: Investing in renewable energy supports efforts to meet global sustainability goals, such as the United Nations Sustainable Development Goals (SDGs), particularly those related to clean energy and climate action.\n",
            "   - **Intergenerational Equity**: By transitioning to renewable energy, we ensure that future generations have access to clean, reliable energy sources, promoting a sustainable future.\n",
            "\n",
            "In summary, renewable energy presents a multifaceted solution to some of the most pressing challenges facing society today, including climate change, energy security, and economic inequality, making it a vital component of a sustainable future.\n",
            "\n",
            "Run 3: Renewable energy offers numerous benefits that contribute to environmental sustainability, economic growth, and social well-being. Here are some key advantages:\n",
            "\n",
            "1. **Environmental Benefits**:\n",
            "   - **Reduced Greenhouse Gas Emissions**: Renewable energy sources like wind, solar, and hydroelectric power produce little to no greenhouse gases during operation, helping to combat climate change.\n",
            "   - **Lower Air Pollution**: They contribute to cleaner air by reducing pollutants such as sulfur dioxide and particulate matter, which are associated with fossil fuel combustion.\n",
            "   - **Conservation of Natural Resources**: Renewable energy relies on resources that are naturally replenished, reducing the depletion of finite resources like coal, oil, and natural gas.\n",
            "\n",
            "2. **Energy Security**:\n",
            "   - **Diverse Energy Supply**: Utilizing a mix of renewable sources can reduce dependence on imported fuels, enhancing energy security and stability in energy prices.\n",
            "   - **Local Production**: Many renewable energy sources can be harnessed locally, reducing vulnerability to international energy market fluctuations and geopolitical tensions.\n",
            "\n",
            "3. **Economic Benefits**:\n",
            "   - **Job Creation**: The renewable energy sector has shown significant potential for job creation, with roles ranging from manufacturing and installation to maintenance and research.\n",
            "   - **Investment Opportunities**: The growing demand for renewable technologies is attracting investments, stimulating economic growth and innovation.\n",
            "   - **Reduced Energy Costs**: As technology advances and scales up, the cost of renewable energy continues to decline, often becoming cheaper than fossil fuels in many regions.\n",
            "\n",
            "4. **Sustainability and Resilience**:\n",
            "   - **Long-term Sustainability**: Renewable energy provides a sustainable alternative to fossil fuels, ensuring that energy needs can be met for future generations.\n",
            "   - **Resilience to Climate Change**: By reducing reliance on fossil fuels, nations can better adapt to the impacts of climate change and enhance their resilience to extreme weather events.\n",
            "\n",
            "5. **Community Benefits**:\n",
            "   - **Energy Independence**: Communities can harness local renewable resources, fostering energy independence and empowering local economies.\n",
            "   - **Rural Development**: Many renewable energy projects, such as wind farms and solar installations, are located in rural areas, providing economic opportunities and supporting local development.\n",
            "\n",
            "6. **Technological Innovation**:\n",
            "   - **Advancements in Technology**: The push for renewable energy has spurred innovation in energy storage, grid management, and energy efficiency technologies, which can have broader applications.\n",
            "   - **Smart Grid Development**: The integration of renewable energy sources into the grid encourages the development of smart grid technologies, enhancing overall energy efficiency and reliability.\n",
            "\n",
            "In summary, renewable energy not only supports environmental goals but also drives economic growth, promotes energy independence, and enhances community resilience, making it a pivotal element in striving for a sustainable future.\n",
            "\n",
            "Similarity between first two runs: 0.24\n"
          ]
        }
      ]
    },
    {
      "cell_type": "code",
      "source": [
        "def evaluate_prompt(prompt, expected_keywords):\n",
        "    response = generate_response(prompt)\n",
        "    print(f\"Response:\\n{response}\\n\")\n",
        "    relevance = all(keyword.lower() in response.lower() for keyword in expected_keywords)\n",
        "    length = len(response.split())\n",
        "    print(f\"Relevance: {'Passed' if relevance else 'Failed'}\")\n",
        "    print(f\"Response length (words): {length}\\n\")\n",
        "\n",
        "evaluate_prompt(\"Explain the importance of water conservation.\", [\"water\", \"conservation\", \"importance\"])"
      ],
      "metadata": {
        "colab": {
          "base_uri": "https://localhost:8080/"
        },
        "id": "OB73A699_fXj",
        "outputId": "8dcbf522-db07-4b99-c0ea-9f247b25977c"
      },
      "execution_count": null,
      "outputs": [
        {
          "output_type": "stream",
          "name": "stdout",
          "text": [
            "Response:\n",
            "Water conservation is crucial for several reasons, reflecting its significance for the environment, society, and the economy. Here are some key points highlighting its importance:\n",
            "\n",
            "1. **Scarcity of Freshwater**: Freshwater resources are limited, with only about 2.5% of the world's water being freshwater. The increasing demand from a growing population, agriculture, and industry can lead to depletion of these vital resources.\n",
            "\n",
            "2. **Environmental Protection**: Conserving water helps protect ecosystems. Many aquatic habitats, such as rivers, lakes, and wetlands, are adversely affected by over-extraction of water, which can lead to loss of biodiversity and disruption of natural processes.\n",
            "\n",
            "3. **Climate Change Resilience**: Water conservation can mitigate the impacts of climate change. As climate patterns shift, certain regions may experience droughts or water shortages. Efficient water use helps communities adapt to these changes and maintain water availability.\n",
            "\n",
            "4. **Sustainable Agriculture**: Agriculture is one of the largest consumers of freshwater. Implementing water conservation techniques in farming can lead to sustainable practices that enhance food security while minimizing water use, ensuring that crops receive adequate moisture without wasting resources.\n",
            "\n",
            "5. **Economic Benefits**: Water conservation can lead to significant cost savings for households and businesses. Reduced water bills, lower energy costs for heating water, and decreased need for infrastructure expansion can all stem from efficient water use.\n",
            "\n",
            "6. **Quality of Water Supply**: Over-extraction of water resources can lead to the degradation of water quality. By conserving water, we can reduce the amount of wastewater generated, thus minimizing pollution and improving the overall quality of available water.\n",
            "\n",
            "7. **Social Equity**: Access to clean water is a fundamental human right. Water conservation efforts can help ensure that more people have access to this vital resource, particularly in regions where water scarcity is a pressing issue.\n",
            "\n",
            "8. **Future Generations**: Conserving water today ensures that future generations will have access to the resources they need. By adopting sustainable practices, we can help maintain the balance of the water cycle and ensure a reliable supply for years to come.\n",
            "\n",
            "In summary, water conservation is essential for maintaining ecological balance, supporting economic growth, ensuring social equity, and preparing for the future in a world facing increasing water-related challenges.\n",
            "\n",
            "Relevance: Passed\n",
            "Response length (words): 357\n",
            "\n"
          ]
        }
      ]
    },
    {
      "cell_type": "code",
      "source": [
        "# Step 1: Summarize article\n",
        "article = \"\"\"\n",
        "Artificial intelligence is being used to improve renewable energy efficiency.\n",
        "Smart algorithms help predict electricity demand, optimize grid usage,\n",
        "and integrate solar and wind power into existing infrastructure.\n",
        "\"\"\"\n",
        "\n",
        "summary_prompt = f\"Summarize this article in 2 concise sentences:\\n\\n{article}\"\n",
        "summary = generate_response(summary_prompt)\n",
        "print(\"Summary:\", summary, \"\\n\")\n",
        "\n",
        "# Step 2: Generate quiz questions from summary\n",
        "quiz_prompt = f\"From this summary, generate 3 quiz questions:\\n\\n{summary}\"\n",
        "quiz = generate_response(quiz_prompt)\n",
        "print(\"Quiz Questions:\\n\", quiz)"
      ],
      "metadata": {
        "colab": {
          "base_uri": "https://localhost:8080/"
        },
        "id": "zUn9E_0N_0s0",
        "outputId": "822d877a-2a46-4e19-e3da-5130358d0dfe"
      },
      "execution_count": null,
      "outputs": [
        {
          "output_type": "stream",
          "name": "stdout",
          "text": [
            "Summary: Artificial intelligence is enhancing renewable energy efficiency through smart algorithms that predict electricity demand and optimize grid usage. These advancements facilitate the integration of solar and wind power into existing infrastructure. \n",
            "\n",
            "Quiz Questions:\n",
            " 1. How is artificial intelligence improving renewable energy efficiency according to the summary?  \n",
            "   A) By reducing the use of fossil fuels  \n",
            "   B) Through smart algorithms that predict electricity demand and optimize grid usage  \n",
            "   C) By increasing the size of energy storage systems  \n",
            "   D) By promoting nuclear energy  \n",
            "\n",
            "2. What role do smart algorithms play in the context of renewable energy as mentioned in the summary?  \n",
            "   A) They create new energy sources  \n",
            "   B) They predict electricity demand and optimize grid usage  \n",
            "   C) They generate electricity from waste  \n",
            "   D) They replace traditional energy sources  \n",
            "\n",
            "3. Which types of renewable energy are mentioned as being integrated into existing infrastructure through these advancements?  \n",
            "   A) Hydroelectric and geothermal  \n",
            "   B) Solar and wind power  \n",
            "   C) Biomass and tidal energy  \n",
            "   D) Natural gas and coal\n"
          ]
        }
      ]
    },
    {
      "cell_type": "code",
      "source": [
        "base_question = \"Explain the importance of cybersecurity for small businesses.\"\n",
        "\n",
        "role_explainer = f\"You are a technical explainer. Break the following topic into bullet points:\\n{base_question}\"\n",
        "role_coach = f\"You are a motivational mentor. Encourage the reader to learn about:\\n{base_question}\"\n",
        "\n",
        "print(\"=== Technical Explainer ===\")\n",
        "print(generate_response(role_explainer), \"\\n\")\n",
        "\n",
        "print(\"=== Motivational Mentor ===\")\n",
        "print(generate_response(role_coach))"
      ],
      "metadata": {
        "colab": {
          "base_uri": "https://localhost:8080/"
        },
        "id": "9qK5V3xzAXrj",
        "outputId": "2e29b362-5a93-413f-e363-6cc4cef3555d"
      },
      "execution_count": null,
      "outputs": [
        {
          "output_type": "stream",
          "name": "stdout",
          "text": [
            "=== Technical Explainer ===\n",
            "### Importance of Cybersecurity for Small Businesses\n",
            "\n",
            "- **Protection of Sensitive Data**  \n",
            "  - Safeguards customer information (e.g., personal data, payment details).\n",
            "  - Protects proprietary business data (e.g., trade secrets, intellectual property).\n",
            "\n",
            "- **Prevention of Financial Loss**  \n",
            "  - Reduces the risk of financial theft and fraud.\n",
            "  - Minimizes costs associated with data breaches (e.g., recovery, legal fees).\n",
            "\n",
            "- **Maintaining Customer Trust**  \n",
            "  - Builds credibility by demonstrating commitment to data protection.\n",
            "  - Enhances customer loyalty through secure transactions and interactions.\n",
            "\n",
            "- **Compliance with Regulations**  \n",
            "  - Helps meet legal and regulatory requirements (e.g., GDPR, HIPAA).\n",
            "  - Avoids penalties and fines associated with non-compliance.\n",
            "\n",
            "- **Business Continuity**  \n",
            "  - Ensures operations can continue in the event of a cyber incident.\n",
            "  - Facilitates quick recovery and minimizes downtime after an attack.\n",
            "\n",
            "- **Reputation Management**  \n",
            "  - Protects brand reputation by preventing data breaches that could harm public perception.\n",
            "  - Encourages positive word-of-mouth and customer referrals.\n",
            "\n",
            "- **Competitive Advantage**  \n",
            "  - Positions the business as trustworthy compared to competitors with weaker security measures.\n",
            "  - Attracts security-conscious customers and partners.\n",
            "\n",
            "- **Awareness and Preparedness**  \n",
            "  - Promotes a culture of security awareness among employees.\n",
            "  - Prepares the organization to respond effectively to potential threats.\n",
            "\n",
            "- **Mitigation of Risk**  \n",
            "  - Identifies and addresses vulnerabilities before they can be exploited.\n",
            "  - Reduces the likelihood and impact of cyber attacks on the business.\n",
            "\n",
            "- **Access to Insurance Benefits**  \n",
            "  - Many cybersecurity insurance policies require basic security measures.\n",
            "  - Having robust cybersecurity can lower insurance premiums and increase coverage options.\n",
            "\n",
            "- **Adaptation to Evolving Threats**  \n",
            "  - Keeps the business informed about emerging cyber threats and trends.\n",
            "  - Encourages continuous improvement of security measures in response to new risks. \n",
            "\n",
            "=== Motivational Mentor ===\n",
            "Absolutely! Let's dive into the crucial topic of cybersecurity for small businesses. \n",
            "\n",
            "In today's digital age, the importance of cybersecurity cannot be overstated—especially for small businesses. While you may think that your business is too small to be a target, the reality is that cybercriminals often see small businesses as easier prey. Here are several compelling reasons why understanding and prioritizing cybersecurity is essential for your business's success:\n",
            "\n",
            "### 1. **Protect Your Reputation**\n",
            "A data breach can have devastating effects on your business's reputation. Customers expect their personal information to be safe. If they learn that your business has been compromised, it can erode their trust and loyalty. By investing in cybersecurity, you're not just protecting your data; you're also safeguarding your brand’s integrity.\n",
            "\n",
            "### 2. **Safeguard Your Financial Health**\n",
            "Cyberattacks can lead to significant financial losses through direct theft, recovery costs, and potential legal fees. Small businesses often operate on tight budgets, and the financial impact of a breach can be catastrophic. By employing robust cybersecurity measures, you can protect your bottom line and ensure that your business remains financially viable.\n",
            "\n",
            "### 3. **Compliance with Regulations**\n",
            "Many industries have legal requirements regarding data protection. Failing to comply can result in heavy fines and legal challenges. By understanding cybersecurity, you ensure that your business complies with laws and regulations, protecting you from penalties and reinforcing customer trust.\n",
            "\n",
            "### 4. **Empower Your Team**\n",
            "A strong cybersecurity culture starts with education. By learning about cybersecurity, you can empower your employees to recognize potential threats and take proactive measures. This not only reduces the risk of a breach but also fosters a sense of responsibility and vigilance within your team.\n",
            "\n",
            "### 5. **Boost Competitive Advantage**\n",
            "In a world where consumers are increasingly aware of data privacy, demonstrating a commitment to cybersecurity can set your business apart from competitors. Customers are more likely to choose businesses that prioritize their safety. This commitment can open doors to new opportunities and partnerships.\n",
            "\n",
            "### 6. **Prepare for the Future**\n",
            "As technology continues to evolve, so do the tactics of cybercriminals. By investing time in learning about cybersecurity today, you’re preparing your business for the future. This proactive approach can help you adapt to new threats as they arise and ensure your business remains resilient.\n",
            "\n",
            "### 7. **Cultivate a Culture of Security**\n",
            "When you prioritize cybersecurity, you create an environment where security becomes a shared responsibility. This culture not only protects your business but also fosters teamwork and collaboration as employees work together to keep the company safe.\n",
            "\n",
            "### In Closing\n",
            "Embracing cybersecurity isn’t just about protecting your business from threats; it’s about empowering yourself and your team to thrive in a digital world. Take the initiative today to learn more about cybersecurity best practices. Invest in training, tools, and resources that will fortify your defenses and position your business for long-term success.\n",
            "\n",
            "Remember, cybersecurity isn’t just an IT issue—it’s a vital component of your overall business strategy. By making it a priority, you're not only protecting what you’ve built but also paving the way for a secure and prosperous future. So, take that step, learn, and grow! Your business deserves it.\n"
          ]
        }
      ]
    },
    {
      "cell_type": "code",
      "source": [
        "prompt_v1 = \"Give travel tips for visiting Japan.\"\n",
        "prompt_v2 = \"You are a travel assistant. Suggest 3 budget-friendly travel tips for Japan.\"\n",
        "prompt_v3 = \"\"\"You are a helpful travel assistant.\n",
        "Example:\n",
        "1. Visit free attractions like parks\n",
        "2. Eat at local markets\n",
        "3. Use public transport\n",
        "Now give 3 budget-friendly Japan travel tips in similar style.\"\"\"\n",
        "\n",
        "versions = [prompt_v1, prompt_v2, prompt_v3]\n",
        "\n",
        "for i, pv in enumerate(versions, 1):\n",
        "    print(f\"--- Version {i} ---\")\n",
        "    print(generate_response(pv), \"\\n\")"
      ],
      "metadata": {
        "colab": {
          "base_uri": "https://localhost:8080/"
        },
        "id": "ejJcQ_wOAjk5",
        "outputId": "4a0a1057-b4b0-434a-b074-a36d8b6f5a2e"
      },
      "execution_count": null,
      "outputs": [
        {
          "output_type": "stream",
          "name": "stdout",
          "text": [
            "--- Version 1 ---\n",
            "Visiting Japan can be an incredible experience, as the country offers a unique blend of traditional culture and modern innovation. Here are some travel tips to help you make the most of your trip:\n",
            "\n",
            "### Planning Your Trip\n",
            "1. **Best Time to Visit**: Spring (March to May) is famous for cherry blossoms, while autumn (September to November) offers stunning fall foliage. Summer can be hot and humid, while winter (December to February) is great for skiing and winter festivals.\n",
            "\n",
            "2. **Travel Insurance**: Consider purchasing travel insurance that covers health, theft, and cancellations.\n",
            "\n",
            "3. **Itinerary**: Plan your itinerary in advance but leave some flexibility for spontaneous experiences. Popular destinations include Tokyo, Kyoto, Osaka, Hiroshima, and Hokkaido.\n",
            "\n",
            "### Getting Around\n",
            "4. **Japan Rail Pass**: If you plan to travel between cities, consider getting a Japan Rail Pass, which offers unlimited travel on JR trains for a set number of days.\n",
            "\n",
            "5. **Public Transport**: Familiarize yourself with Japan's extensive public transportation system. Subways and trains are efficient and punctual. Apps like Google Maps or Hyperdia can help with navigation.\n",
            "\n",
            "6. **IC Cards**: Get an IC card (like Suica or Pasmo) for easy payment on trains, buses, and even at convenience stores.\n",
            "\n",
            "### Accommodations\n",
            "7. **Types of Lodging**: Explore a variety of accommodations, from traditional ryokans (inns) to capsule hotels and Western-style hotels. Book in advance, especially during peak seasons.\n",
            "\n",
            "8. **Etiquette in Ryokans**: If you stay in a ryokan, be prepared to follow specific customs, such as removing your shoes and wearing provided yukatas.\n",
            "\n",
            "### Culture and Etiquette\n",
            "9. **Respect Local Customs**: Familiarize yourself with Japanese customs. Bowing is a common greeting, and it’s polite to say \"itadakimasu\" before meals and \"gochisousama deshita\" after.\n",
            "\n",
            "10. **Tipping**: Tipping is not a common practice in Japan and can be considered rude. Exceptional service is standard.\n",
            "\n",
            "11. **Quiet Public Spaces**: Keep your voice down in public places, especially on public transport. Speaking on the phone is generally frowned upon.\n",
            "\n",
            "### Food and Dining\n",
            "12. **Try Local Cuisine**: Don’t miss out on sushi, ramen, tempura, and street food. Explore local markets and convenience stores for affordable and delicious options.\n",
            "\n",
            "13. **Dining Etiquette**: Use your chopsticks properly (don’t stick them upright in rice), and remember to say \"kanpai\" (cheers) before drinking.\n",
            "\n",
            "### Communication\n",
            "14. **Language**: While English is spoken in tourist areas, learning a few basic Japanese phrases can enhance your experience and is appreciated by locals.\n",
            "\n",
            "15. **Wi-Fi and Connectivity**: Consider renting a pocket Wi-Fi or getting a local SIM card to stay connected during your travels.\n",
            "\n",
            "### Cash and Payments\n",
            "16. **Cash vs. Card**: Japan is still a cash-oriented society. Always carry cash, especially in rural areas. ATMs that accept international cards can be found at convenience stores.\n",
            "\n",
            "17. **Currency Exchange**: Exchange money at airports or use ATMs that allow currency withdrawal. Avoid exchanging at hotels for better rates.\n",
            "\n",
            "### Safety and Health\n",
            "18. **Safety**: Japan is one of the safest countries in the world. However, always exercise common sense and stay aware of your surroundings.\n",
            "\n",
            "19. **Emergency Numbers**: Familiarize yourself with emergency contacts (119 for fire/ambulance, 110 for police).\n",
            "\n",
            "20. **Health Precautions**: Check if you need any vaccinations before traveling and consider carrying any necessary medications with you.\n",
            "\n",
            "### Enjoying the Experience\n",
            "21. **Cultural Experiences**: Participate in traditional tea ceremonies, visit temples and shrines, and attend festivals if possible.\n",
            "\n",
            "22. **Stay Open-Minded**: Embrace the differences in culture and customs. Be patient and respectful, and you’ll have a rewarding experience.\n",
            "\n",
            "By keeping these tips in mind, you'll be well-prepared to enjoy all that Japan has to offer. Happy travels! \n",
            "\n",
            "--- Version 2 ---\n",
            "Absolutely! Here are three budget-friendly travel tips for visiting Japan:\n",
            "\n",
            "1. **Use a Japan Rail Pass**: If you plan to travel between cities, consider purchasing a Japan Rail Pass before your trip. This pass allows unlimited travel on most JR trains, including the Shinkansen (bullet trains), for a set number of days. It can significantly reduce transportation costs if you plan to visit multiple regions.\n",
            "\n",
            "2. **Eat at Convenience Stores and Supermarkets**: Japan is known for its convenience stores (konbini) which offer a wide variety of affordable and delicious meals, snacks, and drinks. Look for bento boxes, onigiri (rice balls), and sandwiches, which can be both tasty and inexpensive. Supermarkets also have budget-friendly meal options, especially during evening discounts.\n",
            "\n",
            "3. **Take Advantage of Free Attractions**: Japan has many beautiful parks, shrines, and temples that are free to enter. Popular spots like the Meiji Shrine in Tokyo, Fushimi Inari Taisha in Kyoto, and the gardens in cities like Kanazawa are either free or have minimal entry fees. Additionally, many cities offer free walking tours, which are a great way to explore while learning about the local culture.\n",
            "\n",
            "By using these tips, you can enjoy your trip to Japan without breaking the bank! \n",
            "\n",
            "--- Version 3 ---\n",
            "1. Explore historical sites and temples that offer free or low-cost entry, like Senso-ji in Tokyo or Fushimi Inari Taisha in Kyoto.  \n",
            "2. Enjoy inexpensive and delicious meals at konbini (convenience stores) or local izakayas, which often have affordable lunch sets.  \n",
            "3. Take advantage of regional train passes for unlimited travel within specific areas, allowing you to explore multiple cities without breaking the bank. \n",
            "\n"
          ]
        }
      ]
    },
    {
      "cell_type": "code",
      "source": [
        "from collections import Counter\n",
        "\n",
        "prompt = \"Explain how photosynthesis works.\"\n",
        "expected_keywords = [\"photosynthesis\", \"sunlight\", \"chlorophyll\", \"glucose\", \"oxygen\"]\n",
        "\n",
        "response = generate_response(prompt)\n",
        "print(\"Response:\\n\", response, \"\\n\")\n",
        "\n",
        "score = sum(1 for kw in expected_keywords if kw.lower() in response.lower())\n",
        "print(f\"Keyword Match Score: {score}/{len(expected_keywords)}\")"
      ],
      "metadata": {
        "colab": {
          "base_uri": "https://localhost:8080/"
        },
        "id": "VPBDIxCLCDFg",
        "outputId": "f0737f21-46e9-43b2-a87f-8c27524baa0c"
      },
      "execution_count": null,
      "outputs": [
        {
          "output_type": "stream",
          "name": "stdout",
          "text": [
            "Response:\n",
            " Photosynthesis is the process by which green plants, algae, and some bacteria convert light energy into chemical energy, specifically glucose, using carbon dioxide and water. This process is essential for life on Earth, as it provides the oxygen we breathe and is the foundation of the food chain.\n",
            "\n",
            "Here’s a step-by-step explanation of how photosynthesis works:\n",
            "\n",
            "### 1. **Light Absorption**\n",
            "- **Chlorophyll**: Photosynthesis primarily occurs in the chloroplasts of plant cells, which contain chlorophyll, a green pigment that captures sunlight. Chlorophyll absorbs light mainly in the blue and red wavelengths, reflecting green light, which is why plants appear green.\n",
            "\n",
            "### 2. **Water Splitting (Photolysis)**\n",
            "- When chlorophyll absorbs sunlight, it energizes electrons, leading to the splitting of water molecules (H₂O) into oxygen (O₂), protons (H⁺), and electrons (e⁻). This reaction occurs in the thylakoid membranes of the chloroplasts during the light-dependent reactions.\n",
            "\n",
            "### 3. **Oxygen Release**\n",
            "- The oxygen produced from the splitting of water is released into the atmosphere as a byproduct. This is the oxygen that living organisms breathe.\n",
            "\n",
            "### 4. **Energy Conversion**\n",
            "- The energized electrons from chlorophyll move through a series of proteins known as the electron transport chain. As they move, they lose energy, which is used to pump H⁺ ions into the thylakoid lumen, creating a concentration gradient.\n",
            "\n",
            "### 5. **ATP and NADPH Formation**\n",
            "- The energy stored in the H⁺ ion gradient is used to produce ATP (adenosine triphosphate) through a process called chemiosmosis. Additionally, the electrons ultimately reduce NADP⁺ to form NADPH. Both ATP and NADPH are energy carriers that store energy for the next stage of photosynthesis.\n",
            "\n",
            "### 6. **Calvin Cycle (Light-Independent Reactions)**\n",
            "- In the stroma of the chloroplasts, ATP and NADPH produced in the light-dependent reactions are used in the Calvin cycle to convert carbon dioxide (CO₂) from the atmosphere into glucose (C₆H₁₂O₆). \n",
            "- The cycle involves three main steps:\n",
            "  - **Carbon Fixation**: CO₂ is fixed into a 5-carbon sugar, ribulose bisphosphate (RuBP), by the enzyme RuBisCO, forming a 6-carbon compound that quickly splits into two 3-carbon molecules (3-phosphoglycerate or 3-PGA).\n",
            "  - **Reduction Phase**: ATP and NADPH are used to convert 3-PGA into glyceraldehyde-3-phosphate (G3P), a 3-carbon sugar.\n",
            "  - **Regeneration of RuBP**: Some G3P molecules go on to form glucose and other carbohydrates, while others are used to regenerate RuBP, allowing the cycle to continue.\n",
            "\n",
            "### 7. **Glucose Production**\n",
            "- The G3P molecules produced can be further processed to form glucose and other carbohydrates, which serve as energy sources for the plant and, ultimately, for other organisms that consume plants.\n",
            "\n",
            "### Summary\n",
            "Overall, photosynthesis can be summarized by the equation:\n",
            "\\[ 6CO₂ + 6H₂O + light \\ energy \\rightarrow C₆H₁₂O₆ + 6O₂ \\]\n",
            "\n",
            "This process not only produces glucose for the plant’s energy needs but also releases oxygen into the atmosphere, which is vital for most life forms on Earth. \n",
            "\n",
            "Keyword Match Score: 5/5\n"
          ]
        }
      ]
    },
    {
      "cell_type": "code",
      "source": [
        "runs = [generate_response(\"What are the benefits of exercise?\") for _ in range(3)]\n",
        "lengths = [len(r.split()) for r in runs]\n",
        "\n",
        "for i, r in enumerate(runs, 1):\n",
        "    print(f\"Run {i} length: {lengths[i-1]} words\")\n",
        "\n",
        "print(\"Average length:\", sum(lengths) / len(lengths))\n",
        "print(\"Min length:\", min(lengths))\n",
        "print(\"Max length:\", max(lengths))"
      ],
      "metadata": {
        "colab": {
          "base_uri": "https://localhost:8080/"
        },
        "id": "xiSNQW6DCuuM",
        "outputId": "921a2e2a-78b8-4a8c-91a0-b136aea55b31"
      },
      "execution_count": null,
      "outputs": [
        {
          "output_type": "stream",
          "name": "stdout",
          "text": [
            "Run 1 length: 328 words\n",
            "Run 2 length: 318 words\n",
            "Run 3 length: 374 words\n",
            "Average length: 340.0\n",
            "Min length: 318\n",
            "Max length: 374\n"
          ]
        }
      ]
    },
    {
      "cell_type": "code",
      "source": [
        "import random\n",
        "\n",
        "prompt_versions = [\n",
        "    \"Explain blockchain in simple terms.\",\n",
        "    \"Explain blockchain in simple terms with a real-world analogy.\"\n",
        "]\n",
        "\n",
        "log = []\n",
        "\n",
        "for pv in prompt_versions:\n",
        "    response = generate_response(pv)\n",
        "    rating = random.randint(1, 5)  # Simulated feedback\n",
        "    log.append({\"prompt\": pv, \"excerpt\": response[:60], \"rating\": rating})\n",
        "\n",
        "for entry in log:\n",
        "    print(entry)\n",
        "\n",
        "avg_ratings = {}\n",
        "for pv in prompt_versions:\n",
        "    ratings = [e[\"rating\"] for e in log if e[\"prompt\"] == pv]\n",
        "    avg_ratings[pv] = sum(ratings) / len(ratings)\n",
        "\n",
        "print(\"Average ratings:\", avg_ratings)"
      ],
      "metadata": {
        "colab": {
          "base_uri": "https://localhost:8080/"
        },
        "id": "Ee4BtpOiDFet",
        "outputId": "3665d258-d4ec-4ab9-ac5d-31a7d204ed6d"
      },
      "execution_count": null,
      "outputs": [
        {
          "output_type": "stream",
          "name": "stdout",
          "text": [
            "{'prompt': 'Explain blockchain in simple terms.', 'excerpt': 'Blockchain is a technology that allows for secure and transp', 'rating': 1}\n",
            "{'prompt': 'Explain blockchain in simple terms with a real-world analogy.', 'excerpt': 'Sure! Think of blockchain like a digital notebook that multi', 'rating': 4}\n",
            "Average ratings: {'Explain blockchain in simple terms.': 1.0, 'Explain blockchain in simple terms with a real-world analogy.': 4.0}\n"
          ]
        }
      ]
    },
    {
      "cell_type": "code",
      "source": [
        "test_prompts = [\n",
        "    \"Summarize the plot of Romeo and Juliet in 2 sentences.\",\n",
        "    \"Write a 200-word essay on climate change impacts.\"\n",
        "]\n",
        "\n",
        "for p in test_prompts:\n",
        "    resp = generate_response(p)\n",
        "    print(f\"Prompt: {p}\")\n",
        "    print(f\"Word count: {len(resp.split())}\")\n",
        "    print()"
      ],
      "metadata": {
        "colab": {
          "base_uri": "https://localhost:8080/"
        },
        "id": "TmvveAK-DWH_",
        "outputId": "b24de5e7-29c5-4ee1-9daa-177a72754523"
      },
      "execution_count": null,
      "outputs": [
        {
          "output_type": "stream",
          "name": "stdout",
          "text": [
            "Prompt: Summarize the plot of Romeo and Juliet in 2 sentences.\n",
            "Word count: 41\n",
            "\n",
            "Prompt: Write a 200-word essay on climate change impacts.\n",
            "Word count: 204\n",
            "\n"
          ]
        }
      ]
    }
  ]
}