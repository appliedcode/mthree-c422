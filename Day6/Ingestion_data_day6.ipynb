{
  "nbformat": 4,
  "nbformat_minor": 0,
  "metadata": {
    "colab": {
      "provenance": []
    },
    "kernelspec": {
      "name": "python3",
      "display_name": "Python 3"
    },
    "language_info": {
      "name": "python"
    }
  },
  "cells": [
    {
      "cell_type": "code",
      "execution_count": 1,
      "metadata": {
        "id": "7is775rMcERf"
      },
      "outputs": [],
      "source": [
        "\n",
        "\n",
        "# Step 1: Set Up the Environment\n",
        "# Install required libraries (requests and pandas)\n",
        "!pip install requests pandas -q\n",
        "\n",
        ""
      ]
    },
    {
      "cell_type": "code",
      "source": [
        "\n",
        "\n",
        "# Step 2: Ingest Data from a Public REST API\n",
        "# Example: Fetch random user data from the Random User Generator API.\n",
        "import requests\n",
        "import pandas as pd\n",
        "\n",
        "api_url = \"https://randomuser.me/api/?results=10\"\n",
        "response = requests.get(api_url)\n",
        "data = response.json()\n",
        "\n",
        "# Convert the results to a DataFrame\n",
        "df_api = pd.json_normalize(data['results'])\n",
        "print(\"Data from REST API:\")\n",
        "print(df_api.head())\n",
        "\n",
        ""
      ],
      "metadata": {
        "colab": {
          "base_uri": "https://localhost:8080/"
        },
        "id": "2-pWKqGocuLS",
        "outputId": "9e9c6955-64e6-47cc-fa9f-fd07a16c3ad0"
      },
      "execution_count": 2,
      "outputs": [
        {
          "output_type": "stream",
          "name": "stdout",
          "text": [
            "Data from REST API:\n",
            "   gender                           email         phone          cell nat  \\\n",
            "0  female         beatrice.lo@example.com  T43 W20-6596  Q67 W86-4025  CA   \n",
            "1  female       natalia.nunez@example.com   900-627-559   607-875-987  ES   \n",
            "2    male        gunbir.singh@example.com    7705147489    8161145902  IN   \n",
            "3    male     viktor.gjelsvik@example.com      79565344      46408309  NO   \n",
            "4    male  dharmesh.mardhekar@example.com    7332016631    9159175098  IN   \n",
            "\n",
            "  name.title name.first  name.last  location.street.number  \\\n",
            "0       Miss   Beatrice         Lo                    8251   \n",
            "1       Miss    Natalia      Núñez                    6444   \n",
            "2         Mr     Gunbir      Singh                    4359   \n",
            "3         Mr     Viktor   Gjelsvik                    3403   \n",
            "4         Mr   Dharmesh  Mardhekar                    4615   \n",
            "\n",
            "   location.street.name  ...  \\\n",
            "0               Pine Rd  ...   \n",
            "1  Calle de La Almudena  ...   \n",
            "2       MG Rd Bangalore  ...   \n",
            "3         Herslebs gate  ...   \n",
            "4        Ranganathan St  ...   \n",
            "\n",
            "                                        login.sha256  \\\n",
            "0  bdfce3d5bd4bad1a9ce8e24faaaa6ebd3d3a4f35b16970...   \n",
            "1  b8d06f06f8be289307969d920c70573cc12440839615ff...   \n",
            "2  f3b29079caf96f3a6beed458d5e1b5b7419bb9ab476a19...   \n",
            "3  67c403ba6935d7e2cb3a037e92a47aea2b4987df5b2898...   \n",
            "4  75e4c52def4a91dc986e83dcada9a3b657d1a865d5bc5b...   \n",
            "\n",
            "                   dob.date dob.age           registered.date registered.age  \\\n",
            "0  1988-01-26T23:00:19.728Z      37  2018-06-06T18:38:46.761Z              7   \n",
            "1  1973-06-01T23:44:52.332Z      52  2014-07-16T22:44:53.475Z             11   \n",
            "2  1976-02-09T08:24:49.263Z      49  2010-06-04T01:48:17.986Z             15   \n",
            "3  1967-05-31T10:25:39.423Z      58  2005-06-01T08:15:12.962Z             20   \n",
            "4  1951-10-29T00:39:02.985Z      73  2003-09-06T11:55:27.337Z             21   \n",
            "\n",
            "  id.name      id.value                                     picture.large  \\\n",
            "0     SIN     688225903  https://randomuser.me/api/portraits/women/42.jpg   \n",
            "1     DNI    53127398-U  https://randomuser.me/api/portraits/women/17.jpg   \n",
            "2   UIDAI  824581604502    https://randomuser.me/api/portraits/men/63.jpg   \n",
            "3      FN   31056742746    https://randomuser.me/api/portraits/men/59.jpg   \n",
            "4   UIDAI  433464699155    https://randomuser.me/api/portraits/men/84.jpg   \n",
            "\n",
            "                                      picture.medium  \\\n",
            "0  https://randomuser.me/api/portraits/med/women/...   \n",
            "1  https://randomuser.me/api/portraits/med/women/...   \n",
            "2  https://randomuser.me/api/portraits/med/men/63...   \n",
            "3  https://randomuser.me/api/portraits/med/men/59...   \n",
            "4  https://randomuser.me/api/portraits/med/men/84...   \n",
            "\n",
            "                                   picture.thumbnail  \n",
            "0  https://randomuser.me/api/portraits/thumb/wome...  \n",
            "1  https://randomuser.me/api/portraits/thumb/wome...  \n",
            "2  https://randomuser.me/api/portraits/thumb/men/...  \n",
            "3  https://randomuser.me/api/portraits/thumb/men/...  \n",
            "4  https://randomuser.me/api/portraits/thumb/men/...  \n",
            "\n",
            "[5 rows x 34 columns]\n"
          ]
        }
      ]
    },
    {
      "cell_type": "code",
      "source": [
        "\n",
        "\n",
        "# Step 3: Ingest Data from a CSV File\n",
        "# Example using the Iris dataset (direct CSV link):\n",
        "\n",
        "csv_url = \"https://raw.githubusercontent.com/uiuc-cse/data-fa14/gh-pages/data/iris.csv\"\n",
        "df_csv = pd.read_csv(csv_url)\n",
        "print(\"\\nData from CSV File:\")\n",
        "print(df_csv.head())\n",
        "\n",
        ""
      ],
      "metadata": {
        "colab": {
          "base_uri": "https://localhost:8080/"
        },
        "id": "IbBW_OGTcz12",
        "outputId": "1d4fe74b-5054-4829-ba31-dac04daa7a42"
      },
      "execution_count": 3,
      "outputs": [
        {
          "output_type": "stream",
          "name": "stdout",
          "text": [
            "\n",
            "Data from CSV File:\n",
            "   sepal_length  sepal_width  petal_length  petal_width species\n",
            "0           5.1          3.5           1.4          0.2  setosa\n",
            "1           4.9          3.0           1.4          0.2  setosa\n",
            "2           4.7          3.2           1.3          0.2  setosa\n",
            "3           4.6          3.1           1.5          0.2  setosa\n",
            "4           5.0          3.6           1.4          0.2  setosa\n"
          ]
        }
      ]
    },
    {
      "cell_type": "code",
      "source": [
        "\n",
        "\n",
        "# Step 4: Inspect and Compare Data\n",
        "# Perform basic inspection on both data sources.\n",
        "# Inspect columns and info for both DataFrames\n",
        "print(\"API Data Columns:\", df_api.columns)\n",
        "print(\"CSV Data Columns:\", df_csv.columns)\n",
        "\n",
        "print(\"\\nAPI Data Info:\")\n",
        "print(df_api.info())\n",
        "\n",
        "print(\"\\nCSV Data Info:\")\n",
        "print(df_csv.info())\n"
      ],
      "metadata": {
        "colab": {
          "base_uri": "https://localhost:8080/"
        },
        "id": "QL_HtTcfc2yy",
        "outputId": "088902ba-1d90-4f90-f2fd-389f3fb8a260"
      },
      "execution_count": 4,
      "outputs": [
        {
          "output_type": "stream",
          "name": "stdout",
          "text": [
            "API Data Columns: Index(['gender', 'email', 'phone', 'cell', 'nat', 'name.title', 'name.first',\n",
            "       'name.last', 'location.street.number', 'location.street.name',\n",
            "       'location.city', 'location.state', 'location.country',\n",
            "       'location.postcode', 'location.coordinates.latitude',\n",
            "       'location.coordinates.longitude', 'location.timezone.offset',\n",
            "       'location.timezone.description', 'login.uuid', 'login.username',\n",
            "       'login.password', 'login.salt', 'login.md5', 'login.sha1',\n",
            "       'login.sha256', 'dob.date', 'dob.age', 'registered.date',\n",
            "       'registered.age', 'id.name', 'id.value', 'picture.large',\n",
            "       'picture.medium', 'picture.thumbnail'],\n",
            "      dtype='object')\n",
            "CSV Data Columns: Index(['sepal_length', 'sepal_width', 'petal_length', 'petal_width',\n",
            "       'species'],\n",
            "      dtype='object')\n",
            "\n",
            "API Data Info:\n",
            "<class 'pandas.core.frame.DataFrame'>\n",
            "RangeIndex: 10 entries, 0 to 9\n",
            "Data columns (total 34 columns):\n",
            " #   Column                          Non-Null Count  Dtype \n",
            "---  ------                          --------------  ----- \n",
            " 0   gender                          10 non-null     object\n",
            " 1   email                           10 non-null     object\n",
            " 2   phone                           10 non-null     object\n",
            " 3   cell                            10 non-null     object\n",
            " 4   nat                             10 non-null     object\n",
            " 5   name.title                      10 non-null     object\n",
            " 6   name.first                      10 non-null     object\n",
            " 7   name.last                       10 non-null     object\n",
            " 8   location.street.number          10 non-null     int64 \n",
            " 9   location.street.name            10 non-null     object\n",
            " 10  location.city                   10 non-null     object\n",
            " 11  location.state                  10 non-null     object\n",
            " 12  location.country                10 non-null     object\n",
            " 13  location.postcode               10 non-null     object\n",
            " 14  location.coordinates.latitude   10 non-null     object\n",
            " 15  location.coordinates.longitude  10 non-null     object\n",
            " 16  location.timezone.offset        10 non-null     object\n",
            " 17  location.timezone.description   10 non-null     object\n",
            " 18  login.uuid                      10 non-null     object\n",
            " 19  login.username                  10 non-null     object\n",
            " 20  login.password                  10 non-null     object\n",
            " 21  login.salt                      10 non-null     object\n",
            " 22  login.md5                       10 non-null     object\n",
            " 23  login.sha1                      10 non-null     object\n",
            " 24  login.sha256                    10 non-null     object\n",
            " 25  dob.date                        10 non-null     object\n",
            " 26  dob.age                         10 non-null     int64 \n",
            " 27  registered.date                 10 non-null     object\n",
            " 28  registered.age                  10 non-null     int64 \n",
            " 29  id.name                         10 non-null     object\n",
            " 30  id.value                        9 non-null      object\n",
            " 31  picture.large                   10 non-null     object\n",
            " 32  picture.medium                  10 non-null     object\n",
            " 33  picture.thumbnail               10 non-null     object\n",
            "dtypes: int64(3), object(31)\n",
            "memory usage: 2.8+ KB\n",
            "None\n",
            "\n",
            "CSV Data Info:\n",
            "<class 'pandas.core.frame.DataFrame'>\n",
            "RangeIndex: 150 entries, 0 to 149\n",
            "Data columns (total 5 columns):\n",
            " #   Column        Non-Null Count  Dtype  \n",
            "---  ------        --------------  -----  \n",
            " 0   sepal_length  150 non-null    float64\n",
            " 1   sepal_width   150 non-null    float64\n",
            " 2   petal_length  150 non-null    float64\n",
            " 3   petal_width   150 non-null    float64\n",
            " 4   species       150 non-null    object \n",
            "dtypes: float64(4), object(1)\n",
            "memory usage: 6.0+ KB\n",
            "None\n"
          ]
        }
      ]
    },
    {
      "cell_type": "markdown",
      "source": [
        "\n",
        "Step 5: Reflection Questions\n",
        "At the end of your notebook, answer these questions:\n",
        "\n",
        "What were the main steps for ingesting data from a REST API vs. a CSV?\n",
        "\n",
        "What are some possible challenges or error scenarios for each ingestion method?\n",
        "\n",
        "For your workflow, when would you prefer an API vs. a CSV file?"
      ],
      "metadata": {
        "id": "CqM8E5qrc7CV"
      }
    },
    {
      "cell_type": "markdown",
      "metadata": {
        "id": "120477b5"
      },
      "source": [
        "Here are the answers to the reflection questions:\n",
        "\n",
        "**What were the main steps for ingesting data from a REST API vs. a CSV?**\n",
        "\n",
        "**REST API:**\n",
        "1. Import necessary libraries (e.g., `requests` for fetching data, `pandas` for data manipulation).\n",
        "2. Define the API endpoint URL.\n",
        "3. Make an HTTP GET request to the API endpoint using `requests.get()`.\n",
        "4. Parse the JSON response from the API using the `.json()` method.\n",
        "5. Convert the relevant part of the JSON data (e.g., the 'results' list) into a pandas DataFrame using `pd.json_normalize()`.\n",
        "\n",
        "**CSV File:**\n",
        "1. Import the `pandas` library.\n",
        "2. Define the URL or file path to the CSV file.\n",
        "3. Read the CSV file directly into a pandas DataFrame using `pd.read_csv()`.\n",
        "\n",
        "**What are some possible challenges or error scenarios for each ingestion method?**\n",
        "\n",
        "**REST API:**\n",
        "*   **API Rate Limits:** APIs often have limits on how many requests you can make in a given time frame. Exceeding these limits will result in errors.\n",
        "*   **Authentication/Authorization:** Many APIs require API keys or tokens for access, which need to be handled securely.\n",
        "*   **API Changes:** The API structure or endpoint might change, breaking your code.\n",
        "*   **Network Issues:** Connectivity problems or slow network speeds can cause requests to fail or time out.\n",
        "*   **Data Format Inconsistencies:** While JSON is common, variations in the structure can require careful parsing.\n",
        "*   **API Downtime:** The API service could be temporarily unavailable.\n",
        "\n",
        "**CSV File:**\n",
        "*   **Incorrect File Path or URL:** The file might not exist at the specified location.\n",
        "*   **Incorrect Delimiter or Encoding:** CSV files can use different delimiters (comma, semicolon, tab) or character encodings, which can cause parsing issues.\n",
        "*   **Malformatted Data:** Inconsistent rows, extra commas, or missing values can lead to errors during reading.\n",
        "*   **Large File Size:** Very large CSV files can consume a lot of memory and take a long time to load.\n",
        "*   **Changes in File Structure:** If columns are added, removed, or reordered, the code reading the file may break.\n",
        "*   **Data Type Issues:** Pandas might infer incorrect data types, requiring manual conversion.\n",
        "\n",
        "**For your workflow, when would you prefer an API vs. a CSV file?**\n",
        "\n",
        "**Prefer API when:**\n",
        "*   You need real-time or near-real-time data.\n",
        "*   The data is frequently updated.\n",
        "*   You only need a subset of the data based on specific parameters (APIs often allow filtering).\n",
        "*   You need to interact with the data (e.g., send data back to the source).\n",
        "*   The data source is dynamic and changes frequently.\n",
        "\n",
        "**Prefer CSV file when:**\n",
        "*   You need a static snapshot of the data.\n",
        "*   The data is not updated frequently.\n",
        "*   You need to process the entire dataset at once.\n",
        "*   The data source is readily available as a file and doesn't require complex querying.\n",
        "*   You are working with historical data archives.\n",
        "*   Simplicity and ease of use are paramount for smaller datasets."
      ]
    }
  ]
}