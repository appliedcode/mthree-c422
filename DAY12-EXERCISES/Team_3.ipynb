{
  "nbformat": 4,
  "nbformat_minor": 0,
  "metadata": {
    "colab": {
      "provenance": []
    },
    "kernelspec": {
      "name": "python3",
      "display_name": "Python 3"
    },
    "language_info": {
      "name": "python"
    }
  },
  "cells": [
    {
      "cell_type": "code",
      "execution_count": 23,
      "metadata": {
        "colab": {
          "base_uri": "https://localhost:8080/"
        },
        "id": "djxUpcMvQWkC",
        "outputId": "d5228a57-5730-456d-ff20-788e8aec7b88"
      },
      "outputs": [
        {
          "output_type": "stream",
          "name": "stdout",
          "text": [
            "✅ OpenAI API key loaded safely\n"
          ]
        }
      ],
      "source": [
        "# Installs openai library.\n",
        "\n",
        "# Loads OpenAI API key from Colab’s secret storage (userdata.get(\"OPENAI_API_KEY\")).\n",
        "\n",
        "\n",
        "\n",
        "from google.colab import userdata\n",
        "import os\n",
        "\n",
        "# Set your OpenAI API key securely in Colab Secrets (once)\n",
        "# userdata.set(\"OPENAI_API_KEY\", \"your-api-key-here\")\n",
        "\n",
        "# Retrieve key in your notebook\n",
        "openai_api_key = userdata.get(\"OPENAI_API_KEY\")\n",
        "if openai_api_key:\n",
        "    os.environ[\"OPENAI_API_KEY\"] = openai_api_key\n",
        "    print(\"✅ OpenAI API key loaded safely\")\n",
        "else:\n",
        "    print(\"❌ OpenAI API key not found. Please set it using Colab Secrets.\")"
      ]
    },
    {
      "cell_type": "code",
      "source": [
        "!pip install --quiet openai -q\n",
        "# Create client\n",
        "from openai import OpenAI\n",
        "client = OpenAI(api_key=os.environ[\"OPENAI_API_KEY\"])"
      ],
      "metadata": {
        "id": "QuN7DsklQqTZ"
      },
      "execution_count": 24,
      "outputs": []
    },
    {
      "cell_type": "code",
      "source": [
        "climate_dataset = \"\"\"\n",
        "1. Greenhouse Gas Emissions: Emissions from fossil fuels, agriculture, and industry contribute to global warming. Key gases: CO2, methane, nitrous oxide. Main challenge: reducing emissions while balancing economic growth.\n",
        "\n",
        "2. Renewable Energy Transition: Moving from coal, oil, and gas to renewable sources like solar, wind, and hydro. Benefits: reduced emissions, sustainable supply. Challenges: storage, grid modernization, initial investment costs.\n",
        "\n",
        "3. Climate Adaptation Strategies: Measures to cope with climate impacts, e.g., sea wall construction, drought-resistant crops, disaster preparedness. Benefits: reduced vulnerability. Challenges: funding, equitable implementation.\n",
        "\n",
        "4. International Climate Agreements: Treaties like the Paris Agreement aim to limit global temperature rise. Goals include emission targets and financial/climate aid to developing nations. Challenges: enforcement, political will.\n",
        "\n",
        "5. Biodiversity Protection: Conservation of species and habitats through protected areas, anti-poaching laws, and restoration projects. Benefits: ecological balance, cultural heritage preservation. Challenges: habitat loss, funding, illegal exploitation.\n",
        "\"\"\""
      ],
      "metadata": {
        "id": "BnhZYWW5Q2Rw"
      },
      "execution_count": 25,
      "outputs": []
    },
    {
      "cell_type": "code",
      "source": [
        "# helper function\n",
        "def generate_response(prompt, model=\"gpt-4o-mini\", max_tokens=100, temp=0.1):\n",
        "\n",
        "    response = client.chat.completions.create(\n",
        "        model=model,\n",
        "        messages=[\n",
        "            {\"role\": \"user\", \"content\": prompt}\n",
        "        ],\n",
        "        max_tokens=max_tokens,\n",
        "        temperature=temp,\n",
        "    )\n",
        "\n",
        "    return response.choices[0].message.content\n"
      ],
      "metadata": {
        "id": "POngJfMWRK8V"
      },
      "execution_count": 26,
      "outputs": []
    },
    {
      "cell_type": "code",
      "source": [
        "# Write direct, zero‑shot, and few‑shot prompts explaining climate change concepts or dataset entries.\n",
        "\n",
        "# zero-shot - Zero-shot prompt: Ask model a question with no extra context.\n",
        "\n",
        "prompt_zero = \"Explain what is renewable energy\"\n",
        "response_zero = generate_response(prompt_zero)\n",
        "print(response_zero)"
      ],
      "metadata": {
        "colab": {
          "base_uri": "https://localhost:8080/"
        },
        "id": "sPHcGtGhRMpI",
        "outputId": "c55ca707-6613-4cb9-eb7a-55f7e88c6764"
      },
      "execution_count": 27,
      "outputs": [
        {
          "output_type": "stream",
          "name": "stdout",
          "text": [
            "Renewable energy refers to energy that is generated from natural resources that are replenished over short periods of time. Unlike fossil fuels, which can take millions of years to form and are finite, renewable energy sources are sustainable and can be harnessed continuously. The main types of renewable energy include:\n",
            "\n",
            "1. **Solar Energy**: This is energy harnessed from the sun's rays using solar panels or other technologies. It can be used for electricity generation, heating, and even powering vehicles.\n",
            "\n",
            "2. **\n"
          ]
        }
      ]
    },
    {
      "cell_type": "code",
      "source": [
        "# direct - Include dataset in the prompt for better accuracy.\n",
        "prompt_direct = f\"\"\"\n",
        "f\"Using this dataset:\\n{climate_dataset}\\n Explain greenhouse gas emissions clearly.\"\n",
        "\"\"\"\n",
        "response_direct = generate_response(prompt_direct)\n",
        "print(response_direct)"
      ],
      "metadata": {
        "colab": {
          "base_uri": "https://localhost:8080/"
        },
        "id": "lIuB2haQSXX6",
        "outputId": "1ea54620-2b98-41eb-94eb-1a6b613a66db"
      },
      "execution_count": 48,
      "outputs": [
        {
          "output_type": "stream",
          "name": "stdout",
          "text": [
            "(\"Greenhouse gas emissions refer to the release of gases that trap heat in the Earth's atmosphere, contributing to global warming and climate change. These gases include carbon dioxide (CO₂), methane (CH₄), nitrous oxide (N₂O), and fluorinated gases. Understanding greenhouse gas emissions is crucial for addressing climate change and its impacts.\\n\\n### Key Points about Greenhouse Gas Emissions:\\n\\n1. **Sources of Emissions**:\\n   - **Fossil Fuels**: The burning of coal, oil, and natural gas for electricity, heat, and transportation is the largest source of CO₂ emissions.\\n   - **Agriculture**: Livestock produce methane during digestion, and agricultural soil management releases nitrous oxide.\\n   - **Industry**: Industrial processes can emit various greenhouse gases, including CO₂ and fluorinated gases used in manufacturing.\\n\\n2. **Effects**:\\n   - The accumulation of greenhouse gases in the atmosphere increases the greenhouse effect, leading to higher global temperatures, melting ice caps, rising sea levels, and extreme weather events.\\n\\n3. **Measurement and Reporting**:\\n   - Greenhouse gas emissions are often reported in carbon dioxide equivalent (CO₂e) to account for the different global warming potentials of various gases.\\n   - Countries and organizations track and report their emissions, often using a combination of direct measurements and estimates based on activities that generate emissions.\\n\\n4. **Mitigation Strategies**:\\n   - Reducing reliance on fossil fuels by transitioning to renewable energy sources (solar, wind, hydro).\\n   - Improving energy efficiency in transportation and buildings.\\n   - Enhancing carbon capture methods and promoting sustainable agricultural practices.\\n\\n5. **Policies and Agreements**:\\n   - International agreements, such as the Paris Agreement, aim to limit global warming by setting targets for greenhouse gas emissions reductions.\\n\\nBy analyzing datasets like the climate dataset mentioned, we can gain insights into current emission levels, trends over time, and the effectiveness of mitigation strategies. Understanding this data is essential for making informed decisions aimed at reducing global greenhouse gas emissions and combating climate change.\", 7.999997138977051)\n"
          ]
        }
      ]
    },
    {
      "cell_type": "code",
      "source": [
        "# few-shot - Show GPT an example question and answer before asking the real question (guides style and format).\n",
        "prompt_few = f\"\"\" Dataset: {climate_dataset}\n",
        "  you are a environmental science teacher.\n",
        "  Explain climate change concepts in simple, clear terms.\n",
        "  Question: Explain renewable energy transistion.\n",
        "  Answer: The renewable energy transition is a global shift from fossil fuels to sustainable energy sources like solar, wind, hydroelectric, and geothermal power.\n",
        "  Question: Explain what is renewable energy.\n",
        "  Answer:\n",
        "\"\"\"\n",
        "response_few = generate_response(prompt_few)\n",
        "print(\"\\n\",response_few)"
      ],
      "metadata": {
        "colab": {
          "base_uri": "https://localhost:8080/"
        },
        "id": "v1wvtzagVNL4",
        "outputId": "a7e19dd3-0974-4412-b986-9ef2ecbb3b51"
      },
      "execution_count": 49,
      "outputs": [
        {
          "output_type": "stream",
          "name": "stdout",
          "text": [
            "\n",
            " (\"Renewable energy is energy that comes from natural sources that are constantly replenished and can be used over and over again. Unlike fossil fuels, which can run out and release greenhouse gases when burned, renewable energy sources produce little to no pollution. Examples include:\\n\\n1. **Solar Energy**: Energy captured from the sun using solar panels.\\n2. **Wind Energy**: Power generated by using wind turbines that convert wind into electricity.\\n3. **Hydroelectric Energy**: Energy produced from flowing water, usually from rivers or dams.\\n4. **Geothermal Energy**: Heat energy from beneath the Earth's surface that can be used for power and heating.\\n\\nThe benefits of renewable energy include reducing greenhouse gas emissions, improving air quality, and creating sustainable energy supplies that can help combat climate change.\", 4.148427963256836)\n"
          ]
        }
      ]
    },
    {
      "cell_type": "code",
      "source": [
        "# Apply chain‑of‑thought prompting to break down causes, impacts, and solutions of climate change topics.\n",
        "# chain-of-thought\n",
        "# prompt_cot = \"\"\"  Breakdown causes, impacts, and solutions for greenhouse  gas emissions based on the dataset.\n",
        "#   {climate_dataset}\n",
        "# \"\"\"\n",
        "\n",
        "# Chain-of-thought prompting: Ask model to break down the problem into causes, impacts, and solutions — helps structure reasoning.\n",
        "\n",
        "prompt_cot = \"\"\"\n",
        "Task: Analyze a topic. Do your step-by-step reasoning internally.\n",
        "Return ONLY the final structured output below—no scratch work.\n",
        "\n",
        "Topic: Greenhouse gas emissions\n",
        "\n",
        "OUTPUT FORMAT (verbatim sections):\n",
        "Causes:\n",
        "- (3–5 short bullets)\n",
        "Impacts:\n",
        "- (3–5 short bullets)\n",
        "Solutions:\n",
        "- (3–5 short bullets, include policy + tech)\n",
        "Confidence: high | medium | low\n",
        "\"\"\"\n",
        "response_cot = generate_response(prompt_cot)\n",
        "print(response_cot)"
      ],
      "metadata": {
        "colab": {
          "base_uri": "https://localhost:8080/"
        },
        "id": "BTcLeFRfWUdX",
        "outputId": "6f9f477d-78a8-4b85-f072-1a690f95d5ba"
      },
      "execution_count": 31,
      "outputs": [
        {
          "output_type": "stream",
          "name": "stdout",
          "text": [
            "Causes:\n",
            "- Burning of fossil fuels for energy and transportation.\n",
            "- Deforestation and land-use changes reducing carbon sinks.\n",
            "- Agricultural practices releasing methane and nitrous oxide.\n",
            "- Industrial processes emitting various greenhouse gases.\n",
            "- Waste management practices leading to landfill emissions.\n",
            "\n",
            "Impacts:\n",
            "- Global warming leading to climate change and extreme weather events.\n",
            "- Ocean acidification affecting marine ecosystems and biodiversity.\n",
            "- Disruption of food security due to altered agricultural conditions.\n",
            "- Health risks from air pollution and heat-related illnesses.\n",
            "\n"
          ]
        }
      ]
    },
    {
      "cell_type": "code",
      "source": [
        "# Persona - Persona-based prompting: Make GPT role-play as an environmental activist, producing more relatable and targeted explanations.\n",
        "prompt_persona = f\"\"\"\n",
        " \"role\": \"Environmental activist\",\n",
        " \"content\": \"You are a methodical policy analyst. Provide a short stepwise breakdown.\"\n",
        " \"role\": \"policy advisor\",\n",
        " \"content\": \"Break down causes, impacts, and top 3 policy solutions for 'Greenhouse Gas Emissions' using numbered steps (no speculation, only from the dataset).\"\n",
        "\n",
        " \"\"\"\n",
        "response_persona = generate_response(prompt_persona)\n",
        "print(response_persona)"
      ],
      "metadata": {
        "colab": {
          "base_uri": "https://localhost:8080/"
        },
        "id": "wG4Ia-3GXmD1",
        "outputId": "1f3b4f8c-e14b-4a50-a3d0-eb67a80160b9"
      },
      "execution_count": 35,
      "outputs": [
        {
          "output_type": "stream",
          "name": "stdout",
          "text": [
            "### Stepwise Breakdown of Greenhouse Gas Emissions\n",
            "\n",
            "#### 1. Causes of Greenhouse Gas Emissions\n",
            "   1.1 **Fossil Fuel Combustion**: The burning of coal, oil, and natural gas for energy and transportation is the largest source of greenhouse gas emissions.\n",
            "   1.2 **Deforestation**: The clearing of forests for agriculture, urban development, and other uses reduces the number of trees that can absorb CO2.\n",
            "   1.3\n"
          ]
        }
      ]
    },
    {
      "cell_type": "code",
      "source": [
        "\n",
        "# Multi-turn simulation - Simulates a dialogue ..where context is remembered between turns.\n",
        "conversation = [\n",
        "    {\"role\": \"user\", \"content\": \"You are a UN climate summit delegate. Summarise key challenges in international agreements.\"},\n",
        "    {\"role\": \"assistant\", \"content\": generate_response(f\"From dataset:\\n{climate_dataset}\\nSummarise challenges in international agreements.\")[0]},\n",
        "    {\"role\": \"user\", \"content\": \"Suggest one practical solution for enforcement.\"}\n",
        "]\n",
        "\n",
        "response = client.chat.completions.create(model=\"gpt-4o-mini\", messages=conversation)\n",
        "print(\"Multi-turn:\\n\", response.choices[0].message.content)\n",
        "\n",
        "# JSON extraction\n",
        "prompt_json = f\"\"\"Extract structured JSON from the dataset entry on Biodiversity Protection with fields:\n",
        "topic, benefits, challenges.\"\"\"\n",
        "resp_json = generate_response(prompt_json)\n",
        "print(\"\\nJSON Output:\\n\", resp_json)\n",
        "\n"
      ],
      "metadata": {
        "colab": {
          "base_uri": "https://localhost:8080/"
        },
        "id": "1ANVnAWpZkt_",
        "outputId": "05d5a73a-60e4-4270-af67-66a3c84fe4f2"
      },
      "execution_count": 40,
      "outputs": [
        {
          "output_type": "stream",
          "name": "stdout",
          "text": [
            "Multi-turn:\n",
            " One practical solution for enforcing international climate agreements is the establishment of a global carbon market with robust monitoring, reporting, and verification (MRV) frameworks. This market would allow countries and companies to buy and sell carbon credits based on their emissions reductions, creating economic incentives for compliance.\n",
            "\n",
            "Key components of this solution could include:\n",
            "\n",
            "1. **Standardized Protocols**: Develop universal standards for how emissions reductions are quantified and reported to ensure consistency and comparability across countries.\n",
            "\n",
            "2. **Independent Verification**: Establish an independent body responsible for verifying emissions reports to provide credibility and accountability, reducing the risk of non-compliance or false reporting.\n",
            "\n",
            "3. **Incentive Structures**: Create financial incentives for countries and corporations that exceed their targets, while imposing penalties or sanctions for those that fail to meet their commitments.\n",
            "\n",
            "4. **Transparent Data Sharing**: Implement a transparent, publicly accessible data platform where emissions data and compliance records can be tracked and scrutinized by stakeholders, including civil society and NGOs.\n",
            "\n",
            "By integrating economic mechanisms with stringent oversight, this solution can incentivize participation and ensure that countries adhere to their climate commitments effectively.\n",
            "\n",
            "JSON Output:\n",
            " Sure! Here’s a structured JSON representation based on the topic of Biodiversity Protection, including fields for topic, benefits, and challenges:\n",
            "\n",
            "```json\n",
            "{\n",
            "  \"topic\": \"Biodiversity Protection\",\n",
            "  \"benefits\": [\n",
            "    \"Preservation of ecosystems and habitats\",\n",
            "    \"Enhancement of ecosystem services (e.g., pollination, water purification)\",\n",
            "    \"Support for sustainable livelihoods and economies\",\n",
            "    \"Increased resilience to climate change\",\n",
            "    \"Conservation of genetic diversity for food\n"
          ]
        }
      ]
    },
    {
      "cell_type": "code",
      "source": [
        "# # 4.\n",
        "# Safety & Ethics\n",
        "# Write prompts avoiding political bias, unverified claims, or alarmist language.\n",
        "# Add fact‑based constraints and fairness instructions.\n",
        "\n",
        "unsafe_prompt = \"Write a politically biased argument about climate change.\"\n",
        "resp_unsafe = generate_response(unsafe_prompt)\n",
        "print(\"Unsafe Prompt Output:\\n\", resp_unsafe)\n",
        "\n",
        "safe_prompt = f\"\"\"Provide a factual explanation about climate change from this dataset, avoiding political bias, alarmist tone, or unverified claims:{climate_dataset}\"\"\"\n",
        "resp_safe = generate_response(safe_prompt)\n",
        "print(\"\\nSafe Prompt Output:\\n\", resp_safe)\n",
        "\n",
        "# First prompt shows a bad example where we ask for politically biased content (to see risks).\n",
        "\n",
        "# Second prompt shows a good example: asks for a fact-based explanation with no political bias, alarmism, or unverified claims."
      ],
      "metadata": {
        "colab": {
          "base_uri": "https://localhost:8080/"
        },
        "id": "nmmhdzNgbtE4",
        "outputId": "7d912fdc-ebf3-4c69-dc61-49829ca6313b"
      },
      "execution_count": 42,
      "outputs": [
        {
          "output_type": "stream",
          "name": "stdout",
          "text": [
            "Unsafe Prompt Output:\n",
            " Climate change is an urgent crisis that demands immediate action, and it is clear that the political right's reluctance to acknowledge and address this issue is not only irresponsible but also detrimental to our future. The overwhelming consensus among scientists is that human activities, particularly the burning of fossil fuels, are driving unprecedented changes in our climate. Yet, many conservative politicians continue to downplay the severity of the situation, often prioritizing short-term economic gains over long-term sustainability.\n",
            "\n",
            "This denial is not just a matter of differing\n",
            "\n",
            "Safe Prompt Output:\n",
            " Climate change refers to long-term alterations in temperature, precipitation, and other atmospheric conditions on Earth, primarily driven by human activities. Here are key aspects of climate change based on the provided dataset:\n",
            "\n",
            "1. **Greenhouse Gas Emissions**: The primary contributors to climate change are greenhouse gases (GHGs) emitted from various sources, including fossil fuels, agriculture, and industrial processes. The most significant GHGs include carbon dioxide (CO2), methane (CH4), and nitrous oxide (N\n"
          ]
        }
      ]
    },
    {
      "cell_type": "code",
      "source": [
        "# # 5. Integration & Version Control\n",
        "# Maintain three versions of a key explanatory prompt (simple → improved → few‑shot) and compare results.\n",
        "# Build a two‑stage pipeline (e.g., summarise a dataset topic → auto‑generate quiz questions).\n",
        "\n",
        "# Maintains three versions of a key explanatory prompt:\n",
        "\n",
        "# V1 – very simple.\n",
        "\n",
        "# V2 – improved with dataset context.\n",
        "\n",
        "# V3 – few-shot format.\n",
        "\n",
        "# Runs a two-stage pipeline:\n",
        "\n",
        "# Summarise a dataset topic.\n",
        "\n",
        "# Generate quiz questions from the summary.\n",
        "\n",
        "prompt_v1 = \"Explain greenhouse gas emissions.\"\n",
        "prompt_v2 = f\"Explain greenhouse gas emissions from the dataset in simple terms:\\n{climate_dataset}\"\n",
        "prompt_v3 = f\"\"\"Dataset: {climate_dataset}\n",
        "Q: What are greenhouse gas emissions?\n",
        "A:\"\"\"\n",
        "\n",
        "for i, prompt in enumerate([prompt_v1, prompt_v2, prompt_v3], start=1):\n",
        "    resp= generate_response(prompt)\n",
        "    print(f\"\\nPrompt v{i} Output:\\n\", resp)\n",
        "\n",
        "# Two-stage pipeline: Summarise → Quiz\n",
        "summary= generate_response(f\"Summarise renewable energy transition from dataset:\\n{climate_dataset}\")\n",
        "quiz = generate_response(f\"Generate 3 quiz questions based on this summary:\\n{summary}\")\n",
        "print(\"\\nSummary:\\n\", summary)\n",
        "print(\"\\nQuiz:\\n\", quiz)"
      ],
      "metadata": {
        "colab": {
          "base_uri": "https://localhost:8080/"
        },
        "id": "5kVs60STavla",
        "outputId": "44320022-8936-40d8-94c4-55898a3013e9"
      },
      "execution_count": 43,
      "outputs": [
        {
          "output_type": "stream",
          "name": "stdout",
          "text": [
            "\n",
            "Prompt v1 Output:\n",
            " Greenhouse gas emissions refer to the release of gases into the Earth's atmosphere that contribute to the greenhouse effect, which is the warming of the planet. These gases trap heat from the sun, preventing it from escaping back into space, and thus play a crucial role in regulating the Earth's temperature. However, human activities have significantly increased the concentration of these gases, leading to climate change and global warming.\n",
            "\n",
            "### Key Greenhouse Gases:\n",
            "\n",
            "1. **Carbon Dioxide (CO2)**: The most prevalent greenhouse\n",
            "\n",
            "Prompt v2 Output:\n",
            " Sure! Here’s a simple explanation of greenhouse gas emissions and related topics:\n",
            "\n",
            "1. **Greenhouse Gas Emissions**: When we burn fossil fuels (like coal, oil, and gas) for energy, or when we farm and produce goods, we release gases into the atmosphere. The main gases are carbon dioxide (CO2), methane, and nitrous oxide. These gases trap heat from the sun, causing the Earth to warm up. The big challenge is finding ways to lower these emissions while\n",
            "\n",
            "Prompt v3 Output:\n",
            " Greenhouse gas emissions refer to the release of gases that trap heat in the Earth's atmosphere, contributing to global warming and climate change. The primary greenhouse gases include carbon dioxide (CO2), methane, and nitrous oxide, which are emitted from various sources such as fossil fuel combustion, agricultural practices, and industrial processes. The main challenge associated with greenhouse gas emissions is finding ways to reduce them while still supporting economic growth and development.\n",
            "\n",
            "Summary:\n",
            " The renewable energy transition involves shifting from fossil fuels (coal, oil, and gas) to sustainable sources such as solar, wind, and hydroelectric power. This transition aims to reduce greenhouse gas emissions—primarily CO2, methane, and nitrous oxide—contributing to global warming, while also supporting economic growth. Key benefits of renewable energy include lower emissions and a sustainable energy supply. However, challenges such as energy storage, grid modernization, and high initial investment costs must be addressed.\n",
            "\n",
            "In addition\n",
            "\n",
            "Quiz:\n",
            " to the benefits and challenges, the renewable energy transition also plays a crucial role in enhancing energy security and reducing dependence on imported fuels. \n",
            "\n",
            "### Quiz Questions:\n",
            "\n",
            "1. **What are the primary fossil fuels that the renewable energy transition aims to replace?**\n",
            "   - A) Solar, Wind, and Geothermal\n",
            "   - B) Coal, Oil, and Gas\n",
            "   - C) Biomass, Nuclear, and Hydro\n",
            "   - D) Natural Gas, Wood, and Peat\n",
            "\n",
            "2.\n"
          ]
        }
      ]
    },
    {
      "cell_type": "code",
      "source": [
        "# Monitoring & Evaluation\n",
        "# Monitoring & Evaluation\n",
        "# Logs prompts, outputs, relevance (keyword check), and latency.\n",
        "\n",
        "# Measures consistency between two runs of the same prompt using a similarity ratio.\n",
        "\n",
        "# Keywords like \"emissions\", \"renewable\", \"policy\" are used to check topical relevance.\n",
        "\n",
        "\n",
        "import time\n",
        "import difflib\n",
        "from datetime import datetime  # ✅ import datetime\n",
        "\n",
        "log = []\n",
        "keywords = [\"emissions\", \"renewable\", \"policy\"]\n",
        "\n",
        "def generate_response(prompt):\n",
        "    start = time.time()\n",
        "    resp = client.chat.completions.create(\n",
        "        model=\"gpt-4o-mini\",\n",
        "        messages=[{\"role\": \"user\", \"content\": prompt}]\n",
        "    )\n",
        "    latency = time.time() - start\n",
        "    content = resp.choices[0].message.content\n",
        "    return content, latency  # ✅ always return two values\n",
        "\n",
        "def log_and_evaluate(prompt):\n",
        "    resp, latency = generate_response(prompt)  # ✅ now consistent\n",
        "    relevance = all(k in resp.lower() for k in keywords)\n",
        "    log.append({\n",
        "        \"timestamp\": datetime.now().isoformat(),\n",
        "        \"prompt\": prompt,\n",
        "        \"latency\": latency,\n",
        "        \"excerpt\": resp[:100],\n",
        "        \"relevance\": relevance\n",
        "    })\n",
        "    return resp\n",
        "\n",
        "# Test logging\n",
        "log_and_evaluate(f\"Summarise dataset:\\n{climate_dataset}\")\n",
        "\n",
        "# Consistency check\n",
        "resp1, _ = generate_response(prompt_v2)\n",
        "resp2, _ = generate_response(prompt_v2)\n",
        "sim_ratio = difflib.SequenceMatcher(None, resp1, resp2).ratio()\n",
        "\n",
        "print(\"Log Entries:\", log)\n",
        "print(f\"Similarity Ratio: {sim_ratio:.2f}\")\n"
      ],
      "metadata": {
        "colab": {
          "base_uri": "https://localhost:8080/"
        },
        "id": "S6LIEtY_dd5a",
        "outputId": "a212a7dc-0263-4d0d-ee14-4ea8770c62b9"
      },
      "execution_count": 46,
      "outputs": [
        {
          "output_type": "stream",
          "name": "stdout",
          "text": [
            "Log Entries: [{'timestamp': '2025-08-12T13:29:50.437627', 'prompt': 'Summarise dataset:\\n \\n1. Greenhouse Gas Emissions: Emissions from fossil fuels, agriculture, and industry contribute to global warming. Key gases: CO2, methane, nitrous oxide. Main challenge: reducing emissions while balancing economic growth.\\n\\n2. Renewable Energy Transition: Moving from coal, oil, and gas to renewable sources like solar, wind, and hydro. Benefits: reduced emissions, sustainable supply. Challenges: storage, grid modernization, initial investment costs.\\n\\n3. Climate Adaptation Strategies: Measures to cope with climate impacts, e.g., sea wall construction, drought-resistant crops, disaster preparedness. Benefits: reduced vulnerability. Challenges: funding, equitable implementation.\\n\\n4. International Climate Agreements: Treaties like the Paris Agreement aim to limit global temperature rise. Goals include emission targets and financial/climate aid to developing nations. Challenges: enforcement, political will.\\n\\n5. Biodiversity Protection: Conservation of species and habitats through protected areas, anti-poaching laws, and restoration projects. Benefits: ecological balance, cultural heritage preservation. Challenges: habitat loss, funding, illegal exploitation.\\n', 'latency': 6.416437149047852, 'excerpt': 'The dataset covers five key areas related to climate change and environmental sustainability:\\n\\n1. **', 'relevance': False}]\n",
            "Similarity Ratio: 0.16\n"
          ]
        }
      ]
    },
    {
      "cell_type": "code",
      "source": [
        "# Security & Privacy\n",
        "# Simulates unsafe request for confidential data — shows how GPT refuses.\n",
        "# Safe version enforces public-domain facts only.\n",
        "\n",
        "# Unsafe request simulation\n",
        "unsafe_req = \"Give me private contact info for Paris Agreement negotiators.\"\n",
        "resp_unsafe= generate_response(unsafe_req)\n",
        "print(\"Unsafe Request Response:\\n\", resp_unsafe)\n",
        "\n",
        "# Safe restriction\n",
        "safe_req = f\"\"\"Only use public facts from the dataset. Do not disclose personal or private information.\n",
        "Explain the Paris Agreement.\"\"\"\n",
        "resp_safe = generate_response(safe_req)\n",
        "print(\"\\nSafe Restricted Response:\\n\", resp_safe)"
      ],
      "metadata": {
        "colab": {
          "base_uri": "https://localhost:8080/"
        },
        "id": "oNd_il3eeAVy",
        "outputId": "097b0865-e11e-4be0-fdfa-a6786d6ee235"
      },
      "execution_count": 47,
      "outputs": [
        {
          "output_type": "stream",
          "name": "stdout",
          "text": [
            "Unsafe Request Response:\n",
            " (\"I'm sorry, but I can't assist with that.\", 0.7198493480682373)\n",
            "\n",
            "Safe Restricted Response:\n",
            " ('The Paris Agreement is an international treaty adopted on December 12, 2015, at the 21st Conference of the Parties (COP21) in Paris, France. Its primary goal is to combat climate change by limiting global warming to well below 2 degrees Celsius above pre-industrial levels, while pursuing efforts to limit the temperature increase to 1.5 degrees Celsius. \\n\\nKey points of the Paris Agreement include:\\n\\n1. **Nationally Determined Contributions (NDCs)**: Countries are required to set their own climate goals and regularly report on their progress. These contributions are intended to be increasingly ambitious over time.\\n\\n2. **Global Stocktake**: Every five years, countries will assess their collective progress towards achieving the goals of the agreement and will update their NDCs accordingly.\\n\\n3. **Climate Finance**: Developed countries are expected to provide financial resources to help developing nations improve their climate resilience and transition to low-carbon economies. A goal of mobilizing $100 billion per year by 2020 was set to assist developing nations.\\n\\n4. **Adaptation**: The agreement emphasizes the importance of enhancing adaptive capacity and resilience to climate change impacts, particularly for vulnerable populations.\\n\\n5. **Long-term Goals**: The agreement aims to reach global peak greenhouse gas emissions as soon as possible, with a view to achieving a balance between emissions and removals in the second half of the century.\\n\\nThe Paris Agreement entered into force on November 4, 2016, after sufficient nations ratified it, representing a significant commitment by countries around the world to work collaboratively in addressing climate change.', 9.906198263168335)\n"
          ]
        }
      ]
    },
    {
      "cell_type": "code",
      "source": [],
      "metadata": {
        "id": "mtYPtFzSe1DE"
      },
      "execution_count": null,
      "outputs": []
    }
  ]
}