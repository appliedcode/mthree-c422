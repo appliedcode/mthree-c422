{
  "cells": [
    {
      "cell_type": "markdown",
      "source": [
        "#Lab Exercise: Introduction to Supervised, Unsupervised\n",
        "##Objective:\n",
        "- Understand and implement basic examples of supervised, unsupervised, and reinforcement learning.\n",
        "\n",
        "- Use common datasets and simple models for clarity.\n",
        "\n",
        "- Observe and interpret results."
      ],
      "metadata": {
        "id": "3kZNe6myxtsW"
      },
      "id": "3kZNe6myxtsW"
    },
    {
      "cell_type": "code",
      "source": [
        "# Setup: Import libraries and load datasets\n",
        "# Common imports\n",
        "import numpy as np\n",
        "import pandas as pd\n",
        "import matplotlib.pyplot as plt\n",
        "\n",
        "# For supervised and unsupervised tasks\n",
        "from sklearn.datasets import load_iris, load_digits\n",
        "from sklearn.model_selection import train_test_split\n",
        "from sklearn.linear_model import LogisticRegression\n",
        "from sklearn.metrics import accuracy_score, classification_report, adjusted_rand_score\n",
        "from sklearn.cluster import KMeans\n",
        "\n",
        "# For reinforcement learning task\n",
        "!pip install gymnasium --quiet\n",
        "import gymnasium as gym\n"
      ],
      "metadata": {
        "id": "FbwevnwMx0Ru"
      },
      "id": "FbwevnwMx0Ru",
      "execution_count": 1,
      "outputs": []
    },
    {
      "cell_type": "code",
      "source": [
        "# Part 1: Supervised Learning — Iris Dataset Classification\n",
        "# Task:\n",
        "# Train a Logistic Regression model to classify Iris flower species.\n",
        "# Load data\n",
        "iris = load_iris(as_frame=True)\n",
        "X, y = iris.data, iris.target\n",
        "\n",
        "# Split data (70% train, 30% test)\n",
        "X_train, X_test, y_train, y_test = train_test_split(X, y, test_size=0.3, random_state=42)\n",
        "\n",
        "# Train logistic regression\n",
        "model = LogisticRegression(max_iter=200)\n",
        "model.fit(X_train, y_train)\n",
        "\n",
        "# Predict and evaluate\n",
        "y_pred = model.predict(X_test)\n",
        "print(\"Classification Report:\\n\", classification_report(y_test, y_pred))\n",
        "print(\"Test Accuracy:\", accuracy_score(y_test, y_pred))\n"
      ],
      "metadata": {
        "id": "WI17kGvNx33j",
        "outputId": "fddb6b5c-4054-4573-c795-b29613fb720b",
        "colab": {
          "base_uri": "https://localhost:8080/"
        }
      },
      "id": "WI17kGvNx33j",
      "execution_count": 2,
      "outputs": [
        {
          "output_type": "stream",
          "name": "stdout",
          "text": [
            "Classification Report:\n",
            "               precision    recall  f1-score   support\n",
            "\n",
            "           0       1.00      1.00      1.00        19\n",
            "           1       1.00      1.00      1.00        13\n",
            "           2       1.00      1.00      1.00        13\n",
            "\n",
            "    accuracy                           1.00        45\n",
            "   macro avg       1.00      1.00      1.00        45\n",
            "weighted avg       1.00      1.00      1.00        45\n",
            "\n",
            "Test Accuracy: 1.0\n"
          ]
        }
      ]
    },
    {
      "cell_type": "markdown",
      "source": [
        "##What you learn:\n",
        "\n",
        "- How a supervised model learns from labeled data.\n",
        "\n",
        "- How to evaluate classification performance using accuracy and detailed reports."
      ],
      "metadata": {
        "id": "2RbGPY22x_uB"
      },
      "id": "2RbGPY22x_uB"
    },
    {
      "cell_type": "code",
      "source": [
        "# Part 2: Unsupervised Learning — K-Means Clustering on Digits Dataset\n",
        "#Task:\n",
        " #Cluster digit images into groups without label information.\n",
        "\n",
        "# Load digits data\n",
        "digits = load_digits()\n",
        "X_digits, y_digits = digits.data, digits.target\n",
        "\n",
        "# K-means clustering (10 clusters for 10 digits)\n",
        "kmeans = KMeans(n_clusters=10, random_state=42, n_init=10)\n",
        "clusters = kmeans.fit_predict(X_digits)\n",
        "\n",
        "# Evaluate clustering quality against true labels (adjusted rand index)\n",
        "ari_score = adjusted_rand_score(y_digits, clusters)\n",
        "print(f\"Adjusted Rand Index (measures cluster-label agreement): {ari_score:.4f}\")\n"
      ],
      "metadata": {
        "id": "jQFtocfVx_Ai",
        "outputId": "fbcb1015-afbc-4c36-8661-5626b4d7df64",
        "colab": {
          "base_uri": "https://localhost:8080/"
        }
      },
      "id": "jQFtocfVx_Ai",
      "execution_count": 3,
      "outputs": [
        {
          "output_type": "stream",
          "name": "stdout",
          "text": [
            "Adjusted Rand Index (measures cluster-label agreement): 0.6669\n"
          ]
        }
      ]
    },
    {
      "cell_type": "markdown",
      "source": [
        "**Breakdown:**\n",
        "\n",
        "Precision = TP / (TP + FP)\n",
        "How many predicted positives are actually correct?\n",
        "\n",
        "Recall = TP / (TP + FN)\n",
        "How many actual positives did the model catch?\n",
        "\n",
        "F1-score = Harmonic mean of precision and recall\n",
        "Good balance when classes are imbalanced\n",
        "\n",
        "The report also gives:\n",
        "\n",
        "Support = actual number of instances per class\n",
        "\n",
        "Macro avg = average over all classes (unweighted)\n",
        "\n",
        "Weighted avg = weighted by support (good when class sizes vary)\n",
        "\n"
      ],
      "metadata": {
        "id": "1JZ8mDGqpy3D"
      },
      "id": "1JZ8mDGqpy3D"
    },
    {
      "cell_type": "markdown",
      "source": [
        "## What you learn:\n",
        "\n",
        "- How unsupervised learning discovers data structure without labels.\n",
        "\n",
        "- The concept of clustering and how results can be evaluated despite no training labels."
      ],
      "metadata": {
        "id": "g5_rml2tyRUm"
      },
      "id": "g5_rml2tyRUm"
    },
    {
      "cell_type": "markdown",
      "source": [
        "Unsupervised learning involves:\n",
        "\n",
        "No labels (no target output).\n",
        "\n",
        "The algorithm finds structure or patterns in the input data.\n",
        "\n",
        "Examples include:\n",
        "\n",
        "Clustering: grouping similar items (e.g., KMeans).\n",
        "\n",
        "Dimensionality reduction: simplifying high-dimensional data (e.g., PCA)."
      ],
      "metadata": {
        "id": "SRvvaR-vqUvK"
      },
      "id": "SRvvaR-vqUvK"
    },
    {
      "cell_type": "code",
      "source": [
        "##  reinforcement learning\n",
        "\n",
        "import gymnasium as gym\n",
        "env = gym.make(\"CartPole-v1\", render_mode=\"human\")\n",
        "obs, info = env.reset()\n"
      ],
      "metadata": {
        "id": "JxTNAj_Do2uI"
      },
      "id": "JxTNAj_Do2uI",
      "execution_count": 4,
      "outputs": []
    },
    {
      "cell_type": "markdown",
      "source": [
        "**Adjusted Rand Index (ARI)**\n",
        "📌 What is ARI?\n",
        "Rand Index (RI) measures how similar the clustered labels are to the true labels.\n",
        "\n",
        "ARI is a corrected-for-chance version of RI.\n",
        "\n",
        "ARI = 1 → perfect match\n",
        "\n",
        "ARI = 0 → random labeling\n",
        "\n",
        "ARI < 0 → worse than random"
      ],
      "metadata": {
        "id": "anJTpKEGqlxP"
      },
      "id": "anJTpKEGqlxP"
    },
    {
      "cell_type": "code",
      "source": [
        "from sklearn.metrics import adjusted_rand_score\n",
        "\n",
        "# y_digits = true labels, clusters = predicted clusters\n",
        "ari_score = adjusted_rand_score(y_digits, clusters)\n",
        "print(\"Adjusted Rand Index:\", ari_score)\n"
      ],
      "metadata": {
        "id": "7GNZttALpYPp",
        "outputId": "62aa534d-ea76-4528-8418-617a0fbd768d",
        "colab": {
          "base_uri": "https://localhost:8080/"
        }
      },
      "id": "7GNZttALpYPp",
      "execution_count": 5,
      "outputs": [
        {
          "output_type": "stream",
          "name": "stdout",
          "text": [
            "Adjusted Rand Index: 0.6669121092859385\n"
          ]
        }
      ]
    }
  ],
  "metadata": {
    "language_info": {
      "name": "python"
    },
    "colab": {
      "provenance": []
    },
    "kernelspec": {
      "name": "python3",
      "display_name": "Python 3"
    }
  },
  "nbformat": 4,
  "nbformat_minor": 5
}