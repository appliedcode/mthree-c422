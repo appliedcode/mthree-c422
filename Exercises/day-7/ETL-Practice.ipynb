{
 "cells": [
  {
   "cell_type": "markdown",
   "id": "9ba2f67a",
   "metadata": {},
   "source": [
    "# ETL Lab Exercise: Global COVID-19 Time Series Data\n",
    "\n",
    "## Problem Statement\n",
    "\n",
    "In this lab, you will build a complete ETL pipeline in Google Colab with the publicly available global COVID-19 confirmed cases dataset.\n",
    "\n",
    "---\n",
    "\n",
    "### Tasks\n",
    "\n",
    "1. **Extract:**\n",
    "   - Download the global confirmed COVID-19 time series CSV file directly from the Johns Hopkins University GitHub repository:\n",
    "     https://raw.githubusercontent.com/CSSEGISandData/COVID-19/master/csse_covid_19_data/csse_covid_19_time_series/time_series_covid19_confirmed_global.csv\n",
    "   - Load the CSV file into a pandas DataFrame.\n",
    "\n",
    "2. **Transform:**\n",
    "   - Clean the data by handling missing values or anomalous entries.\n",
    "   - Reshape the data from wide format (many date columns) to long format: columns `[Country/Region, Date, Confirmed Cases]`.\n",
    "   - Convert the date column to datetime format and aggregate confirmed cases monthly by country.\n",
    "   - Create new features such as monthly case increase and growth rates.\n",
    "\n",
    "3. **Load:**\n",
    "   - Store the transformed data into a local SQLite database within Colab.\n",
    "   - Write and run SQL queries to:\n",
    "     - Retrieve the top 5 countries by confirmed cases for any selected month.\n",
    "     - Compare monthly growth rates for specified countries.\n",
    "     - Identify countries with zero reported cases for given time periods.\n",
    "\n",
    "---\n",
    "\n",
    "### Dataset Details\n",
    "\n",
    "- Dataset: Global daily confirmed COVID-19 cases  \n",
    "- Source URL:  \n",
    "  https://raw.githubusercontent.com/CSSEGISandData/COVID-19/master/csse_covid_19_data/csse_covid_19_time_series/time_series_covid19_confirmed_global.csv\n",
    "\n",
    "---\n",
    "\n",
    "### Learning Outcomes\n",
    "\n",
    "- Practice ETL with real-world pandemic data.\n",
    "- Experience reshaping and aggregating time series data in pandas.\n",
    "- Learn to store and query complex datasets in SQLite locally.\n",
    "- Understand temporal patterns through analytic queries.\n",
    "\n",
    "---\n",
    "\n",
    "Would you like me to provide a sample Colab notebook with code to guide you through this ETL workflow?\n"
   ]
  }
 ],
 "metadata": {
  "language_info": {
   "name": "python"
  }
 },
 "nbformat": 4,
 "nbformat_minor": 5
}
