{
  "nbformat": 4,
  "nbformat_minor": 0,
  "metadata": {
    "colab": {
      "provenance": [],
      "gpuType": "T4"
    },
    "kernelspec": {
      "name": "python3",
      "display_name": "Python 3"
    },
    "language_info": {
      "name": "python"
    },
    "accelerator": "GPU"
  },
  "cells": [
    {
      "cell_type": "markdown",
      "source": [
        "### Embedded Feature‐Selection Methods"
      ],
      "metadata": {
        "id": "TKSdhiVKatTS"
      }
    },
    {
      "cell_type": "code",
      "execution_count": 1,
      "metadata": {
        "id": "Md4tfmpfaJO-"
      },
      "outputs": [],
      "source": [
        "from sklearn.datasets import load_breast_cancer\n",
        "from sklearn.model_selection import train_test_split\n",
        "\n",
        "X, y = load_breast_cancer(return_X_y=True, as_frame=True)\n",
        "X_train, X_test, y_train, y_test = train_test_split(\n",
        "    X, y, test_size=0.3, random_state=42\n",
        ")"
      ]
    },
    {
      "cell_type": "markdown",
      "source": [
        "#### Exercise 1: L1-Regularized Logistic Regression"
      ],
      "metadata": {
        "id": "V9LdAscia9eC"
      }
    },
    {
      "cell_type": "code",
      "source": [
        "from sklearn.linear_model import LogisticRegression\n",
        "from sklearn.feature_selection import SelectFromModel\n",
        "from sklearn.metrics import accuracy_score\n",
        "\n",
        "model_l1 = LogisticRegression(penalty='l1', solver='saga', C=1.0, max_iter=5000)\n",
        "model_l1.fit(X_train, y_train)\n",
        "\n",
        "sfm_l1 = SelectFromModel(model_l1, prefit=True, max_features=5)\n",
        "feat_l1 = X_train.columns[sfm_l1.get_support()]\n",
        "\n",
        "model = LogisticRegression(max_iter=5000).fit(X_train[feat_l1], y_train)\n",
        "print(\"L1 features:\", list(feat_l1))\n",
        "print(\"Accuracy (L1):\", accuracy_score(y_test, model.predict(X_test[feat_l1])))"
      ],
      "metadata": {
        "colab": {
          "base_uri": "https://localhost:8080/"
        },
        "id": "T42p5EmIa4gx",
        "outputId": "cfe5c20a-4659-409c-871f-14de2c5bad46"
      },
      "execution_count": 2,
      "outputs": [
        {
          "output_type": "stream",
          "name": "stdout",
          "text": [
            "L1 features: ['mean perimeter', 'area error', 'worst radius', 'worst perimeter', 'worst area']\n",
            "Accuracy (L1): 0.9590643274853801\n"
          ]
        }
      ]
    },
    {
      "cell_type": "markdown",
      "source": [
        "#### L2-Regularization with Thresholding"
      ],
      "metadata": {
        "id": "FSgdGtX9bKvQ"
      }
    },
    {
      "cell_type": "code",
      "source": [
        "import numpy as np\n",
        "\n",
        "model_l2 = LogisticRegression(penalty='l2', C=1.0, max_iter=5000)\n",
        "model_l2.fit(X_train, y_train)\n",
        "\n",
        "abs_coefs = np.abs(model_l2.coef_)[0]\n",
        "idx = np.argsort(abs_coefs)[-5:]\n",
        "feat_l2 = X_train.columns[idx]\n",
        "\n",
        "model = LogisticRegression(max_iter=5000).fit(X_train[feat_l2], y_train)\n",
        "print(\"L2 features:\", list(feat_l2))\n",
        "print(\"Accuracy (L2):\", accuracy_score(y_test, model.predict(X_test[feat_l2])))"
      ],
      "metadata": {
        "colab": {
          "base_uri": "https://localhost:8080/"
        },
        "id": "NJBFVfBXa_Nz",
        "outputId": "f16035db-0fcd-415a-e515-fc4ab639dc56"
      },
      "execution_count": 3,
      "outputs": [
        {
          "output_type": "stream",
          "name": "stdout",
          "text": [
            "L2 features: ['worst symmetry', 'worst compactness', 'mean radius', 'worst concavity', 'texture error']\n",
            "Accuracy (L2): 0.9532163742690059\n"
          ]
        }
      ]
    },
    {
      "cell_type": "markdown",
      "source": [
        "#### Elastic Net Regularization"
      ],
      "metadata": {
        "id": "qZIKxMj7bY_v"
      }
    },
    {
      "cell_type": "code",
      "source": [
        "import numpy as np\n",
        "from sklearn.preprocessing import StandardScaler\n",
        "from sklearn.linear_model import ElasticNetCV, LogisticRegression\n",
        "from sklearn.metrics import accuracy_score\n",
        "\n",
        "# 1. Standardize the data\n",
        "scaler = StandardScaler().fit(X_train)\n",
        "X_tr_s = scaler.transform(X_train)\n",
        "X_ts_s = scaler.transform(X_test)\n",
        "\n",
        "# 2. Fit ElasticNetCV with increased iterations\n",
        "enet = ElasticNetCV(\n",
        "    l1_ratio=[.1, .5, .9],\n",
        "    cv=5,\n",
        "    max_iter=10000,\n",
        "    tol=1e-4,\n",
        "    random_state=0\n",
        ")\n",
        "enet.fit(X_tr_s, y_train)\n",
        "\n",
        "# 3. Manually select the 5 nonzero coefficients with largest magnitude\n",
        "coefs = enet.coef_  # shape (n_features,)\n",
        "# Zero out truly zero (or near-zero) coefficients first\n",
        "nonzero_idxs = np.where(np.abs(coefs) > 1e-8)[0]\n",
        "# Sort those by absolute value descending\n",
        "sorted_nonzero = nonzero_idxs[np.argsort(-np.abs(coefs[nonzero_idxs]))]\n",
        "top5_idxs = sorted_nonzero[:5]\n",
        "\n",
        "feat_enet = X_train.columns[top5_idxs]\n",
        "\n",
        "# 4. Retrain Logistic Regression on selected features\n",
        "model = LogisticRegression(max_iter=5000).fit(\n",
        "    X_tr_s[:, top5_idxs],\n",
        "    y_train\n",
        ")\n",
        "\n",
        "# 5. Evaluate on test data\n",
        "accuracy = accuracy_score(\n",
        "    y_test,\n",
        "    model.predict(X_ts_s[:, top5_idxs])\n",
        ")\n",
        "\n",
        "print(\"Elastic Net features:\", list(feat_enet))\n",
        "print(\"Accuracy (ElasticNet):\", accuracy)"
      ],
      "metadata": {
        "colab": {
          "base_uri": "https://localhost:8080/"
        },
        "id": "JuUqCa82bdfC",
        "outputId": "777ebe5a-6994-423f-dab9-e2c0065980ae"
      },
      "execution_count": 5,
      "outputs": [
        {
          "output_type": "stream",
          "name": "stdout",
          "text": [
            "Elastic Net features: ['worst radius', 'worst area', 'mean concave points', 'mean compactness', 'radius error']\n",
            "Accuracy (ElasticNet): 0.9415204678362573\n"
          ]
        }
      ]
    },
    {
      "cell_type": "code",
      "source": [],
      "metadata": {
        "id": "HfjFlr92gcqx"
      },
      "execution_count": null,
      "outputs": []
    }
  ]
}