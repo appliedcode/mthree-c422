{
  "cells": [
    {
      "cell_type": "markdown",
      "source": [
        "# Ingesting Data from REST API and CSV in Google Colab\n",
        "This lab exercise is inspired by the provided image, focusing on demonstrating how to ingest data from a public REST API and a local CSV file. It is suitable for running directly in Google Colab.\n",
        "\n",
        "Load from different data Set\n",
        "- COVID-19(https://disease.sh/v3/covid-19/countries)\n",
        "- Fetch air quality measurements for Los Angeles from OpenAQ.(https://api.openaq.org/v2/measurements?city=Los%20Angeles&limit=10)\n"
      ],
      "metadata": {
        "id": "W4J5zNWUMcF8"
      }
    },
    {
      "cell_type": "code",
      "source": [
        "# Step 1: Set Up the Environment\n",
        "# Install required libraries (requests and pandas)\n",
        "!pip install requests pandas -q\n"
      ],
      "metadata": {
        "id": "o8O6Hj30WgO1"
      },
      "execution_count": 9,
      "outputs": []
    },
    {
      "cell_type": "code",
      "source": [
        "import requests\n",
        "import pandas as pd\n",
        "\n",
        "api_url = \"https://disease.sh/v3/covid-19/countries\"\n",
        "response = requests.get(api_url)\n",
        "data = response.json()\n",
        "\n",
        "df_api = pd.json_normalize(data)\n",
        "print(\"Data from REST API:\")\n",
        "print(df_api.head())"
      ],
      "metadata": {
        "id": "C3y_SE1wbHEQ",
        "outputId": "d3877d10-f5c2-463a-c266-238e68016f67",
        "colab": {
          "base_uri": "https://localhost:8080/"
        }
      },
      "execution_count": 13,
      "outputs": [
        {
          "output_type": "stream",
          "name": "stdout",
          "text": [
            "Data from REST API:\n",
            "         updated      country   cases  todayCases  deaths  todayDeaths  \\\n",
            "0  1754300676200  Afghanistan  234174           0    7996            0   \n",
            "1  1754300676192      Albania  334863           0    3605            0   \n",
            "2  1754300676195      Algeria  272010           0    6881            0   \n",
            "3  1754300676243      Andorra   48015           0     165            0   \n",
            "4  1754300676222       Angola  107327           0    1937            0   \n",
            "\n",
            "   recovered  todayRecovered  active  critical  ...  oneTestPerPeople  \\\n",
            "0     211080               0   15098         0  ...                29   \n",
            "1     330233               0    1025         0  ...                 1   \n",
            "2     183061               0   82068         0  ...               196   \n",
            "3          0               0   47850         0  ...                 0   \n",
            "4     103419               0    1971         0  ...                23   \n",
            "\n",
            "   activePerOneMillion  recoveredPerOneMillion  criticalPerOneMillion  \\\n",
            "0               370.46                 5179.32                    0.0   \n",
            "1               357.59               115209.32                    0.0   \n",
            "2              1809.65                 4036.61                    0.0   \n",
            "3            617714.26                    0.00                    0.0   \n",
            "4                56.27                 2952.52                    0.0   \n",
            "\n",
            "   countryInfo._id countryInfo.iso2  countryInfo.iso3  countryInfo.lat  \\\n",
            "0              4.0               AF               AFG             33.0   \n",
            "1              8.0               AL               ALB             41.0   \n",
            "2             12.0               DZ               DZA             28.0   \n",
            "3             20.0               AD               AND             42.5   \n",
            "4             24.0               AO               AGO            -12.5   \n",
            "\n",
            "   countryInfo.long                            countryInfo.flag  \n",
            "0              65.0  https://disease.sh/assets/img/flags/af.png  \n",
            "1              20.0  https://disease.sh/assets/img/flags/al.png  \n",
            "2               3.0  https://disease.sh/assets/img/flags/dz.png  \n",
            "3               1.6  https://disease.sh/assets/img/flags/ad.png  \n",
            "4              18.5  https://disease.sh/assets/img/flags/ao.png  \n",
            "\n",
            "[5 rows x 28 columns]\n"
          ]
        }
      ]
    },
    {
      "cell_type": "code",
      "source": [
        "# Step 3: Ingest Data from a CSV File\n",
        "# Example using the Iris dataset (direct CSV link):\n",
        "\n",
        "csv_url = \"/content/sample_data/anscombe.json\"\n",
        "df_csv = pd.read_csv(csv_url)\n",
        "print(df_csv.head())"
      ],
      "metadata": {
        "id": "9GZL_7g_ejBY",
        "outputId": "ef27a215-00d1-4605-b57f-630d3a6b15c9",
        "colab": {
          "base_uri": "https://localhost:8080/"
        }
      },
      "execution_count": 23,
      "outputs": [
        {
          "output_type": "stream",
          "name": "stdout",
          "text": [
            "                                   [\n",
            "{\"Series\":\"I\" \"X\":10.0 \"Y\":8.04} NaN\n",
            "              \"X\":8.0  \"Y\":6.95} NaN\n",
            "              \"X\":13.0 \"Y\":7.58} NaN\n",
            "              \"X\":9.0  \"Y\":8.81} NaN\n",
            "              \"X\":11.0 \"Y\":8.33} NaN\n"
          ]
        }
      ]
    }
  ],
  "metadata": {
    "colab": {
      "provenance": []
    },
    "kernelspec": {
      "display_name": "Python 3",
      "name": "python3"
    }
  },
  "nbformat": 4,
  "nbformat_minor": 0
}