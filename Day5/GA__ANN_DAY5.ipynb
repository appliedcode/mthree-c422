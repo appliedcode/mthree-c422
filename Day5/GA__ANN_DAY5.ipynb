{
  "nbformat": 4,
  "nbformat_minor": 0,
  "metadata": {
    "colab": {
      "provenance": []
    },
    "kernelspec": {
      "name": "python3",
      "display_name": "Python 3"
    },
    "language_info": {
      "name": "python"
    }
  },
  "cells": [
    {
      "cell_type": "markdown",
      "source": [
        "Genetic Algorithm Lab: Solving the Maximum Ones Problem We'll use a simple genetic algorithm to maximize the number of \"1\"s in a binary string.\n"
      ],
      "metadata": {
        "id": "q2RomYoTnLKM"
      }
    },
    {
      "cell_type": "code",
      "execution_count": 1,
      "metadata": {
        "id": "5W5vRofJnKK2"
      },
      "outputs": [],
      "source": [
        "\n",
        "\n",
        "# 1. Genetic Algorithm Lab: Solving the Maximum Ones Problem\n",
        "# We'll use a simple genetic algorithm to maximize the number of \"1\"s in a binary string.\n",
        "\n",
        "# Step 1: Imports and Parameters\n",
        "import numpy as np\n",
        "import random\n",
        "\n",
        ""
      ]
    },
    {
      "cell_type": "code",
      "source": [
        "\n",
        "\n",
        "# Step 2: GA Functions\n",
        "def create_individual(length):\n",
        "    # Random binary individual\n",
        "    return np.random.randint(2, size=length)\n",
        "\n",
        "def fitness(individual):\n",
        "    # Objective: maximize number of 1s\n",
        "    return sum(individual)\n",
        "\n",
        "def mutate(individual, mutation_rate=0.01):\n",
        "    for i in range(len(individual)):\n",
        "        if random.random() < mutation_rate:\n",
        "            individual[i] = 1 - individual[i]\n",
        "    return individual\n",
        "\n",
        "def crossover(parent1, parent2):\n",
        "    point = random.randint(1, len(parent1)-1)\n",
        "    child1 = np.concatenate([parent1[:point], parent2[point:]])\n",
        "    child2 = np.concatenate([parent2[:point], parent1[point:]])\n",
        "    return child1, child2\n",
        "\n",
        ""
      ],
      "metadata": {
        "id": "vwh5sNNNnP-i"
      },
      "execution_count": 2,
      "outputs": []
    },
    {
      "cell_type": "code",
      "source": [
        "def genetic_algorithm(population_size=10, chromosome_length=8, generations=20, mutation_rate=0.01):\n",
        "    print(\"hellow\")\n",
        "    population = [create_individual(chromosome_length) for _ in range(population_size)]\n",
        "\n",
        "    for g in range(generations):\n",
        "        scored = sorted(\n",
        "            [(fitness(ind), ind) for ind in population],\n",
        "            key=lambda pair: pair[0],\n",
        "            reverse=True\n",
        "        )\n",
        "        print(f\"Gen {g} | Best: {scored[0][0]} | Avg: {np.mean([f for f,_ in scored])}\")\n",
        "\n",
        "        next_gen = [scored[0][1], scored[1][1]]  # Elite selection\n",
        "\n",
        "        while len(next_gen) < population_size:\n",
        "            parents = random.sample(scored[:5], 2)\n",
        "            c1, c2 = crossover(parents[0][1], parents[1][1])\n",
        "            next_gen.append(mutate(c1.copy(), mutation_rate))\n",
        "            if len(next_gen) < population_size:\n",
        "                next_gen.append(mutate(c2.copy(), mutation_rate))\n",
        "\n",
        "        population = next_gen\n",
        "\n",
        "    print(\"Best individual:\", scored[0][1], \"with fitness:\", scored[0][0])\n",
        "genetic_algorithm()\n",
        ""
      ],
      "metadata": {
        "colab": {
          "base_uri": "https://localhost:8080/"
        },
        "id": "O_griWaenShs",
        "outputId": "f9be8a0d-ef37-4f99-869b-d71dd0e6f2a4"
      },
      "execution_count": 3,
      "outputs": [
        {
          "output_type": "stream",
          "name": "stdout",
          "text": [
            "hellow\n",
            "Gen 0 | Best: 6 | Avg: 3.6\n",
            "Gen 1 | Best: 6 | Avg: 4.2\n",
            "Gen 2 | Best: 6 | Avg: 5.1\n",
            "Gen 3 | Best: 6 | Avg: 5.7\n",
            "Gen 4 | Best: 6 | Avg: 6.0\n",
            "Gen 5 | Best: 6 | Avg: 6.0\n",
            "Gen 6 | Best: 7 | Avg: 6.0\n",
            "Gen 7 | Best: 7 | Avg: 6.4\n",
            "Gen 8 | Best: 7 | Avg: 6.8\n",
            "Gen 9 | Best: 8 | Avg: 6.9\n",
            "Gen 10 | Best: 8 | Avg: 7.2\n",
            "Gen 11 | Best: 8 | Avg: 7.7\n",
            "Gen 12 | Best: 8 | Avg: 8.0\n",
            "Gen 13 | Best: 8 | Avg: 8.0\n",
            "Gen 14 | Best: 8 | Avg: 8.0\n",
            "Gen 15 | Best: 8 | Avg: 8.0\n",
            "Gen 16 | Best: 8 | Avg: 7.9\n",
            "Gen 17 | Best: 8 | Avg: 7.9\n",
            "Gen 18 | Best: 8 | Avg: 8.0\n",
            "Gen 19 | Best: 8 | Avg: 8.0\n",
            "Best individual: [1 1 1 1 1 1 1 1] with fitness: 8\n"
          ]
        }
      ]
    },
    {
      "cell_type": "markdown",
      "source": [
        "\n",
        "Extension:\n",
        "Try increasing chromosome_length or population_size.\n",
        "\n",
        "Modify the fitness function to solve other problems (e.g., string matching)."
      ],
      "metadata": {
        "id": "yIk0PSR5nUxu"
      }
    },
    {
      "cell_type": "code",
      "source": [
        "\n",
        "\n",
        "# 2. Artificial Neural Network Lab: Iris Dataset Classification\n",
        "# We'll use TensorFlow/Keras to build and train a simple neural network to classify iris species based on flower measurements.\n",
        "\n",
        "# Step 1: Imports\n",
        "import numpy as np\n",
        "import pandas as pd\n",
        "from sklearn.datasets import load_iris\n",
        "from sklearn.model_selection import train_test_split\n",
        "from sklearn.preprocessing import StandardScaler\n",
        "import tensorflow as tf\n",
        "from tensorflow import keras"
      ],
      "metadata": {
        "id": "MGX6CsyFnVqe"
      },
      "execution_count": 4,
      "outputs": []
    },
    {
      "cell_type": "code",
      "source": [
        "\n",
        "\n",
        "\n",
        "\n",
        "# Step 2: Data Preparation\n",
        "# Load data and prepare splits\n",
        "iris = load_iris()\n",
        "X = iris.data\n",
        "y = iris.target\n",
        "\n",
        "scaler = StandardScaler()\n",
        "X_scaled = scaler.fit_transform(X)\n",
        "\n",
        "X_train, X_test, y_train, y_test = train_test_split(X_scaled, y, test_size=0.25, random_state=42)"
      ],
      "metadata": {
        "id": "NUDDTXuRnYAB"
      },
      "execution_count": 5,
      "outputs": []
    },
    {
      "cell_type": "code",
      "source": [
        "\n",
        "# Step 3: Build and Train the Neural Network\n",
        "model = keras.Sequential([\n",
        "    keras.layers.Dense(8, activation='relu', input_shape=(4,)),\n",
        "    keras.layers.Dense(6, activation='relu'),\n",
        "    keras.layers.Dense(3, activation='softmax') # 3 classes\n",
        "])\n",
        "\n",
        "model.compile(optimizer='adam',\n",
        "              loss='sparse_categorical_crossentropy',\n",
        "              metrics=['accuracy'])\n",
        "\n",
        "history = model.fit(X_train, y_train, epochs=50, validation_data=(X_test, y_test))\n",
        "\n",
        ""
      ],
      "metadata": {
        "colab": {
          "base_uri": "https://localhost:8080/"
        },
        "id": "fCSU4QfTnbCi",
        "outputId": "f4ab6147-79a3-4113-8e7a-b0026cdfeb15"
      },
      "execution_count": 6,
      "outputs": [
        {
          "output_type": "stream",
          "name": "stderr",
          "text": [
            "/usr/local/lib/python3.11/dist-packages/keras/src/layers/core/dense.py:87: UserWarning: Do not pass an `input_shape`/`input_dim` argument to a layer. When using Sequential models, prefer using an `Input(shape)` object as the first layer in the model instead.\n",
            "  super().__init__(activity_regularizer=activity_regularizer, **kwargs)\n"
          ]
        },
        {
          "output_type": "stream",
          "name": "stdout",
          "text": [
            "Epoch 1/50\n",
            "\u001b[1m4/4\u001b[0m \u001b[32m━━━━━━━━━━━━━━━━━━━━\u001b[0m\u001b[37m\u001b[0m \u001b[1m3s\u001b[0m 183ms/step - accuracy: 0.3301 - loss: 1.1303 - val_accuracy: 0.2105 - val_loss: 1.1053\n",
            "Epoch 2/50\n",
            "\u001b[1m4/4\u001b[0m \u001b[32m━━━━━━━━━━━━━━━━━━━━\u001b[0m\u001b[37m\u001b[0m \u001b[1m1s\u001b[0m 115ms/step - accuracy: 0.2311 - loss: 1.1237 - val_accuracy: 0.2105 - val_loss: 1.1030\n",
            "Epoch 3/50\n",
            "\u001b[1m4/4\u001b[0m \u001b[32m━━━━━━━━━━━━━━━━━━━━\u001b[0m\u001b[37m\u001b[0m \u001b[1m1s\u001b[0m 102ms/step - accuracy: 0.2024 - loss: 1.1222 - val_accuracy: 0.2105 - val_loss: 1.1012\n",
            "Epoch 4/50\n",
            "\u001b[1m4/4\u001b[0m \u001b[32m━━━━━━━━━━━━━━━━━━━━\u001b[0m\u001b[37m\u001b[0m \u001b[1m0s\u001b[0m 108ms/step - accuracy: 0.2536 - loss: 1.1163 - val_accuracy: 0.2368 - val_loss: 1.0995\n",
            "Epoch 5/50\n",
            "\u001b[1m4/4\u001b[0m \u001b[32m━━━━━━━━━━━━━━━━━━━━\u001b[0m\u001b[37m\u001b[0m \u001b[1m0s\u001b[0m 131ms/step - accuracy: 0.2743 - loss: 1.1163 - val_accuracy: 0.2632 - val_loss: 1.0976\n",
            "Epoch 6/50\n",
            "\u001b[1m4/4\u001b[0m \u001b[32m━━━━━━━━━━━━━━━━━━━━\u001b[0m\u001b[37m\u001b[0m \u001b[1m1s\u001b[0m 120ms/step - accuracy: 0.2659 - loss: 1.1118 - val_accuracy: 0.2632 - val_loss: 1.0956\n",
            "Epoch 7/50\n",
            "\u001b[1m4/4\u001b[0m \u001b[32m━━━━━━━━━━━━━━━━━━━━\u001b[0m\u001b[37m\u001b[0m \u001b[1m1s\u001b[0m 143ms/step - accuracy: 0.2868 - loss: 1.1044 - val_accuracy: 0.2895 - val_loss: 1.0935\n",
            "Epoch 8/50\n",
            "\u001b[1m4/4\u001b[0m \u001b[32m━━━━━━━━━━━━━━━━━━━━\u001b[0m\u001b[37m\u001b[0m \u001b[1m0s\u001b[0m 124ms/step - accuracy: 0.2793 - loss: 1.1009 - val_accuracy: 0.2895 - val_loss: 1.0916\n",
            "Epoch 9/50\n",
            "\u001b[1m4/4\u001b[0m \u001b[32m━━━━━━━━━━━━━━━━━━━━\u001b[0m\u001b[37m\u001b[0m \u001b[1m1s\u001b[0m 153ms/step - accuracy: 0.2948 - loss: 1.1010 - val_accuracy: 0.2895 - val_loss: 1.0899\n",
            "Epoch 10/50\n",
            "\u001b[1m4/4\u001b[0m \u001b[32m━━━━━━━━━━━━━━━━━━━━\u001b[0m\u001b[37m\u001b[0m \u001b[1m0s\u001b[0m 57ms/step - accuracy: 0.3042 - loss: 1.0921 - val_accuracy: 0.2632 - val_loss: 1.0880\n",
            "Epoch 11/50\n",
            "\u001b[1m4/4\u001b[0m \u001b[32m━━━━━━━━━━━━━━━━━━━━\u001b[0m\u001b[37m\u001b[0m \u001b[1m0s\u001b[0m 44ms/step - accuracy: 0.3077 - loss: 1.0912 - val_accuracy: 0.2632 - val_loss: 1.0860\n",
            "Epoch 12/50\n",
            "\u001b[1m4/4\u001b[0m \u001b[32m━━━━━━━━━━━━━━━━━━━━\u001b[0m\u001b[37m\u001b[0m \u001b[1m0s\u001b[0m 87ms/step - accuracy: 0.2981 - loss: 1.0884 - val_accuracy: 0.2632 - val_loss: 1.0840\n",
            "Epoch 13/50\n",
            "\u001b[1m4/4\u001b[0m \u001b[32m━━━━━━━━━━━━━━━━━━━━\u001b[0m\u001b[37m\u001b[0m \u001b[1m1s\u001b[0m 70ms/step - accuracy: 0.2741 - loss: 1.0860 - val_accuracy: 0.2632 - val_loss: 1.0819\n",
            "Epoch 14/50\n",
            "\u001b[1m4/4\u001b[0m \u001b[32m━━━━━━━━━━━━━━━━━━━━\u001b[0m\u001b[37m\u001b[0m \u001b[1m0s\u001b[0m 59ms/step - accuracy: 0.2787 - loss: 1.0829 - val_accuracy: 0.2632 - val_loss: 1.0796\n",
            "Epoch 15/50\n",
            "\u001b[1m4/4\u001b[0m \u001b[32m━━━━━━━━━━━━━━━━━━━━\u001b[0m\u001b[37m\u001b[0m \u001b[1m0s\u001b[0m 61ms/step - accuracy: 0.3338 - loss: 1.0776 - val_accuracy: 0.2895 - val_loss: 1.0771\n",
            "Epoch 16/50\n",
            "\u001b[1m4/4\u001b[0m \u001b[32m━━━━━━━━━━━━━━━━━━━━\u001b[0m\u001b[37m\u001b[0m \u001b[1m0s\u001b[0m 58ms/step - accuracy: 0.3109 - loss: 1.0778 - val_accuracy: 0.2895 - val_loss: 1.0743\n",
            "Epoch 17/50\n",
            "\u001b[1m4/4\u001b[0m \u001b[32m━━━━━━━━━━━━━━━━━━━━\u001b[0m\u001b[37m\u001b[0m \u001b[1m0s\u001b[0m 60ms/step - accuracy: 0.2979 - loss: 1.0744 - val_accuracy: 0.2895 - val_loss: 1.0713\n",
            "Epoch 18/50\n",
            "\u001b[1m4/4\u001b[0m \u001b[32m━━━━━━━━━━━━━━━━━━━━\u001b[0m\u001b[37m\u001b[0m \u001b[1m0s\u001b[0m 60ms/step - accuracy: 0.3177 - loss: 1.0674 - val_accuracy: 0.2895 - val_loss: 1.0680\n",
            "Epoch 19/50\n",
            "\u001b[1m4/4\u001b[0m \u001b[32m━━━━━━━━━━━━━━━━━━━━\u001b[0m\u001b[37m\u001b[0m \u001b[1m0s\u001b[0m 51ms/step - accuracy: 0.3311 - loss: 1.0649 - val_accuracy: 0.2895 - val_loss: 1.0646\n",
            "Epoch 20/50\n",
            "\u001b[1m4/4\u001b[0m \u001b[32m━━━━━━━━━━━━━━━━━━━━\u001b[0m\u001b[37m\u001b[0m \u001b[1m0s\u001b[0m 91ms/step - accuracy: 0.3280 - loss: 1.0593 - val_accuracy: 0.2895 - val_loss: 1.0609\n",
            "Epoch 21/50\n",
            "\u001b[1m4/4\u001b[0m \u001b[32m━━━━━━━━━━━━━━━━━━━━\u001b[0m\u001b[37m\u001b[0m \u001b[1m0s\u001b[0m 44ms/step - accuracy: 0.3545 - loss: 1.0524 - val_accuracy: 0.2895 - val_loss: 1.0566\n",
            "Epoch 22/50\n",
            "\u001b[1m4/4\u001b[0m \u001b[32m━━━━━━━━━━━━━━━━━━━━\u001b[0m\u001b[37m\u001b[0m \u001b[1m0s\u001b[0m 28ms/step - accuracy: 0.3420 - loss: 1.0492 - val_accuracy: 0.2895 - val_loss: 1.0522\n",
            "Epoch 23/50\n",
            "\u001b[1m4/4\u001b[0m \u001b[32m━━━━━━━━━━━━━━━━━━━━\u001b[0m\u001b[37m\u001b[0m \u001b[1m0s\u001b[0m 25ms/step - accuracy: 0.3378 - loss: 1.0440 - val_accuracy: 0.2895 - val_loss: 1.0476\n",
            "Epoch 24/50\n",
            "\u001b[1m4/4\u001b[0m \u001b[32m━━━━━━━━━━━━━━━━━━━━\u001b[0m\u001b[37m\u001b[0m \u001b[1m0s\u001b[0m 27ms/step - accuracy: 0.3330 - loss: 1.0424 - val_accuracy: 0.2895 - val_loss: 1.0425\n",
            "Epoch 25/50\n",
            "\u001b[1m4/4\u001b[0m \u001b[32m━━━━━━━━━━━━━━━━━━━━\u001b[0m\u001b[37m\u001b[0m \u001b[1m0s\u001b[0m 26ms/step - accuracy: 0.3632 - loss: 1.0304 - val_accuracy: 0.2895 - val_loss: 1.0372\n",
            "Epoch 26/50\n",
            "\u001b[1m4/4\u001b[0m \u001b[32m━━━━━━━━━━━━━━━━━━━━\u001b[0m\u001b[37m\u001b[0m \u001b[1m0s\u001b[0m 28ms/step - accuracy: 0.3112 - loss: 1.0323 - val_accuracy: 0.2895 - val_loss: 1.0322\n",
            "Epoch 27/50\n",
            "\u001b[1m4/4\u001b[0m \u001b[32m━━━━━━━━━━━━━━━━━━━━\u001b[0m\u001b[37m\u001b[0m \u001b[1m0s\u001b[0m 29ms/step - accuracy: 0.3143 - loss: 1.0271 - val_accuracy: 0.2895 - val_loss: 1.0271\n",
            "Epoch 28/50\n",
            "\u001b[1m4/4\u001b[0m \u001b[32m━━━━━━━━━━━━━━━━━━━━\u001b[0m\u001b[37m\u001b[0m \u001b[1m0s\u001b[0m 25ms/step - accuracy: 0.3341 - loss: 1.0136 - val_accuracy: 0.2895 - val_loss: 1.0220\n",
            "Epoch 29/50\n",
            "\u001b[1m4/4\u001b[0m \u001b[32m━━━━━━━━━━━━━━━━━━━━\u001b[0m\u001b[37m\u001b[0m \u001b[1m0s\u001b[0m 39ms/step - accuracy: 0.3466 - loss: 1.0056 - val_accuracy: 0.2895 - val_loss: 1.0169\n",
            "Epoch 30/50\n",
            "\u001b[1m4/4\u001b[0m \u001b[32m━━━━━━━━━━━━━━━━━━━━\u001b[0m\u001b[37m\u001b[0m \u001b[1m0s\u001b[0m 28ms/step - accuracy: 0.3330 - loss: 1.0010 - val_accuracy: 0.2895 - val_loss: 1.0117\n",
            "Epoch 31/50\n",
            "\u001b[1m4/4\u001b[0m \u001b[32m━━━━━━━━━━━━━━━━━━━━\u001b[0m\u001b[37m\u001b[0m \u001b[1m0s\u001b[0m 24ms/step - accuracy: 0.3570 - loss: 0.9885 - val_accuracy: 0.2895 - val_loss: 1.0065\n",
            "Epoch 32/50\n",
            "\u001b[1m4/4\u001b[0m \u001b[32m━━━━━━━━━━━━━━━━━━━━\u001b[0m\u001b[37m\u001b[0m \u001b[1m0s\u001b[0m 26ms/step - accuracy: 0.3570 - loss: 0.9848 - val_accuracy: 0.2895 - val_loss: 1.0012\n",
            "Epoch 33/50\n",
            "\u001b[1m4/4\u001b[0m \u001b[32m━━━━━━━━━━━━━━━━━━━━\u001b[0m\u001b[37m\u001b[0m \u001b[1m0s\u001b[0m 26ms/step - accuracy: 0.3507 - loss: 0.9766 - val_accuracy: 0.6842 - val_loss: 0.9957\n",
            "Epoch 34/50\n",
            "\u001b[1m4/4\u001b[0m \u001b[32m━━━━━━━━━━━━━━━━━━━━\u001b[0m\u001b[37m\u001b[0m \u001b[1m0s\u001b[0m 26ms/step - accuracy: 0.6540 - loss: 0.9685 - val_accuracy: 0.6842 - val_loss: 0.9902\n",
            "Epoch 35/50\n",
            "\u001b[1m4/4\u001b[0m \u001b[32m━━━━━━━━━━━━━━━━━━━━\u001b[0m\u001b[37m\u001b[0m \u001b[1m0s\u001b[0m 25ms/step - accuracy: 0.6565 - loss: 0.9732 - val_accuracy: 0.6842 - val_loss: 0.9846\n",
            "Epoch 36/50\n",
            "\u001b[1m4/4\u001b[0m \u001b[32m━━━━━━━━━━━━━━━━━━━━\u001b[0m\u001b[37m\u001b[0m \u001b[1m0s\u001b[0m 30ms/step - accuracy: 0.6607 - loss: 0.9706 - val_accuracy: 0.6842 - val_loss: 0.9789\n",
            "Epoch 37/50\n",
            "\u001b[1m4/4\u001b[0m \u001b[32m━━━━━━━━━━━━━━━━━━━━\u001b[0m\u001b[37m\u001b[0m \u001b[1m0s\u001b[0m 38ms/step - accuracy: 0.6305 - loss: 0.9535 - val_accuracy: 0.6842 - val_loss: 0.9730\n",
            "Epoch 38/50\n",
            "\u001b[1m4/4\u001b[0m \u001b[32m━━━━━━━━━━━━━━━━━━━━\u001b[0m\u001b[37m\u001b[0m \u001b[1m0s\u001b[0m 25ms/step - accuracy: 0.6388 - loss: 0.9509 - val_accuracy: 0.6842 - val_loss: 0.9670\n",
            "Epoch 39/50\n",
            "\u001b[1m4/4\u001b[0m \u001b[32m━━━━━━━━━━━━━━━━━━━━\u001b[0m\u001b[37m\u001b[0m \u001b[1m0s\u001b[0m 25ms/step - accuracy: 0.6128 - loss: 0.9390 - val_accuracy: 0.6842 - val_loss: 0.9609\n",
            "Epoch 40/50\n",
            "\u001b[1m4/4\u001b[0m \u001b[32m━━━━━━━━━━━━━━━━━━━━\u001b[0m\u001b[37m\u001b[0m \u001b[1m0s\u001b[0m 26ms/step - accuracy: 0.6690 - loss: 0.9394 - val_accuracy: 0.6842 - val_loss: 0.9547\n",
            "Epoch 41/50\n",
            "\u001b[1m4/4\u001b[0m \u001b[32m━━━━━━━━━━━━━━━━━━━━\u001b[0m\u001b[37m\u001b[0m \u001b[1m0s\u001b[0m 26ms/step - accuracy: 0.6638 - loss: 0.9262 - val_accuracy: 0.6842 - val_loss: 0.9484\n",
            "Epoch 42/50\n",
            "\u001b[1m4/4\u001b[0m \u001b[32m━━━━━━━━━━━━━━━━━━━━\u001b[0m\u001b[37m\u001b[0m \u001b[1m0s\u001b[0m 25ms/step - accuracy: 0.6326 - loss: 0.9325 - val_accuracy: 0.6842 - val_loss: 0.9417\n",
            "Epoch 43/50\n",
            "\u001b[1m4/4\u001b[0m \u001b[32m━━━━━━━━━━━━━━━━━━━━\u001b[0m\u001b[37m\u001b[0m \u001b[1m0s\u001b[0m 25ms/step - accuracy: 0.6440 - loss: 0.9145 - val_accuracy: 0.6842 - val_loss: 0.9352\n",
            "Epoch 44/50\n",
            "\u001b[1m4/4\u001b[0m \u001b[32m━━━━━━━━━━━━━━━━━━━━\u001b[0m\u001b[37m\u001b[0m \u001b[1m0s\u001b[0m 26ms/step - accuracy: 0.6451 - loss: 0.9152 - val_accuracy: 0.6842 - val_loss: 0.9285\n",
            "Epoch 45/50\n",
            "\u001b[1m4/4\u001b[0m \u001b[32m━━━━━━━━━━━━━━━━━━━━\u001b[0m\u001b[37m\u001b[0m \u001b[1m0s\u001b[0m 24ms/step - accuracy: 0.6461 - loss: 0.9017 - val_accuracy: 0.6842 - val_loss: 0.9218\n",
            "Epoch 46/50\n",
            "\u001b[1m4/4\u001b[0m \u001b[32m━━━━━━━━━━━━━━━━━━━━\u001b[0m\u001b[37m\u001b[0m \u001b[1m0s\u001b[0m 24ms/step - accuracy: 0.7034 - loss: 0.8979 - val_accuracy: 0.6842 - val_loss: 0.9149\n",
            "Epoch 47/50\n",
            "\u001b[1m4/4\u001b[0m \u001b[32m━━━━━━━━━━━━━━━━━━━━\u001b[0m\u001b[37m\u001b[0m \u001b[1m0s\u001b[0m 26ms/step - accuracy: 0.6440 - loss: 0.8889 - val_accuracy: 0.6842 - val_loss: 0.9077\n",
            "Epoch 48/50\n",
            "\u001b[1m4/4\u001b[0m \u001b[32m━━━━━━━━━━━━━━━━━━━━\u001b[0m\u001b[37m\u001b[0m \u001b[1m0s\u001b[0m 37ms/step - accuracy: 0.5878 - loss: 0.8831 - val_accuracy: 0.6842 - val_loss: 0.9004\n",
            "Epoch 49/50\n",
            "\u001b[1m4/4\u001b[0m \u001b[32m━━━━━━━━━━━━━━━━━━━━\u001b[0m\u001b[37m\u001b[0m \u001b[1m0s\u001b[0m 26ms/step - accuracy: 0.6503 - loss: 0.8653 - val_accuracy: 0.7105 - val_loss: 0.8929\n",
            "Epoch 50/50\n",
            "\u001b[1m4/4\u001b[0m \u001b[32m━━━━━━━━━━━━━━━━━━━━\u001b[0m\u001b[37m\u001b[0m \u001b[1m0s\u001b[0m 25ms/step - accuracy: 0.6967 - loss: 0.8612 - val_accuracy: 0.7632 - val_loss: 0.8853\n"
          ]
        }
      ]
    },
    {
      "cell_type": "code",
      "source": [
        "\n",
        "\n",
        "# Step 4: Evaluate and Visualize Results\n",
        "test_loss, test_acc = model.evaluate(X_test, y_test)\n",
        "print('\\nTest accuracy:', test_acc)\n",
        "\n",
        "import matplotlib.pyplot as plt\n",
        "plt.plot(history.history['accuracy'], label='Train Acc')\n",
        "plt.plot(history.history['val_accuracy'], label='Val Acc')\n",
        "plt.xlabel('Epoch')\n",
        "plt.ylabel('Accuracy')\n",
        "plt.legend()\n",
        "plt.title('Accuracy Over Epochs')\n",
        "plt.show()"
      ],
      "metadata": {
        "colab": {
          "base_uri": "https://localhost:8080/",
          "height": 527
        },
        "id": "JU061BWbnfbo",
        "outputId": "cbf59a35-accf-4d0d-8374-b6cb55c93d33"
      },
      "execution_count": 7,
      "outputs": [
        {
          "output_type": "stream",
          "name": "stdout",
          "text": [
            "\u001b[1m2/2\u001b[0m \u001b[32m━━━━━━━━━━━━━━━━━━━━\u001b[0m\u001b[37m\u001b[0m \u001b[1m0s\u001b[0m 27ms/step - accuracy: 0.7588 - loss: 0.8809\n",
            "\n",
            "Test accuracy: 0.7631579041481018\n"
          ]
        },
        {
          "output_type": "display_data",
          "data": {
            "text/plain": [
              "<Figure size 640x480 with 1 Axes>"
            ],
            "image/png": "[encoded data removed]"
          },
          "metadata": {}
        }
      ]
    },
    {
      "cell_type": "markdown",
      "source": [
        "\n",
        "Extension and Discussion:\n",
        "Experiment with more or fewer layers/neurons, different activation functions.\n",
        "\n",
        "Visualize the loss curve: plt.plot(history.history['loss'])\n",
        "\n",
        "Try predicting the species of a new iris measurement by:\n",
        "\n",
        "example = scaler.transform([[5.1, 3.5, 1.4, 0.2]])\n",
        "print(model.predict(example))"
      ],
      "metadata": {
        "id": "m_mfTcx3pCF7"
      }
    },
    {
      "cell_type": "code",
      "source": [],
      "metadata": {
        "id": "tK46PQk6pDJL"
      },
      "execution_count": 7,
      "outputs": []
    }
  ]
}