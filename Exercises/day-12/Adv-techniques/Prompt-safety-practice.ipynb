{
  "nbformat": 4,
  "nbformat_minor": 0,
  "metadata": {
    "colab": {
      "provenance": [],
      "authorship_tag": "ABX9TyP94MuyerRIyXjLHs1OasNP",
      "include_colab_link": true
    },
    "kernelspec": {
      "name": "python3",
      "display_name": "Python 3"
    },
    "language_info": {
      "name": "python"
    }
  },
  "cells": [
    {
      "cell_type": "markdown",
      "metadata": {
        "id": "view-in-github",
        "colab_type": "text"
      },
      "source": [
        "<a href=\"https://colab.research.google.com/github/appliedcode/mthree-c422/blob/mthree-c422-dipti/Exercises/day-12/Adv-techniques/Prompt-safety-practice.ipynb\" target=\"_parent\"><img src=\"https://colab.research.google.com/assets/colab-badge.svg\" alt=\"Open In Colab\"/></a>"
      ]
    },
    {
      "cell_type": "markdown",
      "source": [
        "\n",
        "## **Self‑Practice Problem Set – Prompting for Safety, Bias Mitigation \\& Responsible AI Use**\n",
        "***\n",
        "\n",
        "### **Problem 1 – Safe Creative Writing**\n",
        "\n",
        "You are tasked with generating a short fictional story around a sensitive real‑world event.\n",
        "\n",
        "1. First, write a simple open‑ended prompt and run it **without** safety guidelines — note any tone or content issues.\n",
        "2. Then, rewrite the prompt to:\n",
        "    - Avoid traumatic or graphic details.\n",
        "    - Keep the language neutral and respectful.\n",
        "    - Focus on educational, optimistic, or recovery‑oriented themes.\n",
        "3. Compare both outputs and note differences in tone and safety.\n",
        "\n",
        "***\n",
        "\n",
        "### **Problem 2 – Removing Political Bias (with Dataset)**\n",
        "\n",
        "You are working with the following dataset:\n",
        "\n",
        "```\n",
        "Political Ideologies Dataset:\n",
        "1. Liberalism: Advocates for civil liberties, democracy, and free‑market economics. Emphasizes individual rights and equality.\n",
        "2. Conservatism: Supports tradition, social stability, and limited government intervention. Focuses on preserving established institutions.\n",
        "```\n",
        "\n",
        "**Steps:**\n",
        "\n",
        "1. Write a prompt asking the AI to describe these two ideologies using the dataset above.\n",
        "2. Run it once and check for bias, exaggeration, or unequal descriptions.\n",
        "3. Rewrite your prompt to:\n",
        "    - Describe both ideologies with equal detail and neutrality.\n",
        "    - Avoid personal opinions or implied judgments.\n",
        "4. Compare before/after outputs for balance, and reflect on how including the dataset helped guide the model.\n",
        "\n",
        "***\n",
        "\n",
        "### **Problem 3 – Privacy \\& Personal Data**\n",
        "\n",
        "1. Write a prompt attempting to retrieve **personal details** (e.g., home address) about a well‑known public figure. Observe the response.\n",
        "2. Rewrite the prompt so it:\n",
        "    - Avoids requesting private or contact information.\n",
        "    - Focuses only on **public achievements** and historical contributions.\n",
        "3. Compare responses to evaluate compliance with privacy guidelines.\n",
        "\n",
        "***\n",
        "\n",
        "### **Problem 4 – Bias in Examples**\n",
        "\n",
        "1. Ask the AI to list “successful business leaders.”\n",
        "2. Observe if the response lacks **diversity in gender, ethnicity, or geography**.\n",
        "3. Rewrite your prompt to:\n",
        "    - Require a diverse selection across different backgrounds.\n",
        "    - Include leaders from **varied industries**, not just tech or finance.\n",
        "4. Compare inclusiveness of the output before and after refinement.\n",
        "\n",
        "***\n",
        "\n",
        "### **Problem 5 – Guardrails for Sensitive Domains**\n",
        "\n",
        "1. Instruct the model to act as a **mental health support assistant**.\n",
        "2. Ask a series of questions, such as:\n",
        "    - “How can I cope with exam stress?”\n",
        "    - “Should I take medication for anxiety?”\n",
        "3. Ensure your prompt:\n",
        "    - Includes a **disclaimer**.\n",
        "    - Encourages professional help for serious issues.\n",
        "    - Avoids making medical diagnoses.\n",
        "4. Compare how the model handles safe vs. unsafe questions.\n",
        "\n",
        "***\n",
        "\n",
        "### **Problem 6 – Hate Speech Prevention**\n",
        "\n",
        "1. Ask the AI to write a **social media post** on a controversial societal topic.\n",
        "2. Note if any inflammatory, exclusionary, or harmful language appears.\n",
        "3. Rewrite your prompt to:\n",
        "    - Avoid hate speech.\n",
        "    - Include diverse, inclusive perspectives.\n",
        "    - Encourage constructive, respectful dialogue.\n",
        "4. Compare the tone and inclusivity between versions.\n",
        "\n",
        "***\n",
        "\n",
        "### **Problem 7 – Risk Assessment Prompt**\n",
        "\n",
        "1. Ask the AI to generate a business plan for a **product in a banned or high‑risk industry**.\n",
        "2. Observe if it suggests unsafe or illegal actions.\n",
        "3. Reframe the prompt so it:\n",
        "    - Analyzes **why** the industry is high risk.\n",
        "    - Suggests **safe, legal alternatives** instead.\n",
        "4. Compare compliance, ethics, and usefulness between the two outputs.\n",
        "\n",
        "***\n",
        "\n",
        "### **Instructions for Students**\n",
        "\n",
        "For each problem:\n",
        "\n",
        "- **Run the initial prompt** as given, to see potential safety, bias, or compliance issues.\n",
        "- **Refine the prompt** using:\n",
        "    - Explicit safety and ethical rules.\n",
        "    - Bias‑mitigation \\& neutrality language.\n",
        "    - Privacy and legal compliance directives.\n",
        "    - Role or scope limitations.\n",
        "- **Document** before/after outputs and write **2–3 sentences** on observed improvements.\n",
        "\n",
        "***\n"
      ],
      "metadata": {
        "id": "VKgg9jsWpFOs"
      }
    },
    {
      "cell_type": "code",
      "execution_count": 1,
      "metadata": {
        "colab": {
          "base_uri": "https://localhost:8080/"
        },
        "id": "Z38NUWjcpEOJ",
        "outputId": "8fd0bb11-70f1-4155-bf97-22dd553e8e7d"
      },
      "outputs": [
        {
          "output_type": "stream",
          "name": "stdout",
          "text": [
            "✅ OpenAI client ready.\n"
          ]
        }
      ],
      "source": [
        "!pip install --quiet openai\n",
        "\n",
        "from google.colab import userdata\n",
        "import os\n",
        "from openai import OpenAI\n",
        "\n",
        "api_key = userdata.get(\"OPENAI_API_KEY\")\n",
        "if not api_key:\n",
        "    raise ValueError(\"❌ API key not found. Please set it in Colab Secrets.\")\n",
        "\n",
        "os.environ[\"OPENAI_API_KEY\"] = api_key\n",
        "client = OpenAI()\n",
        "print(\"✅ OpenAI client ready.\")"
      ]
    },
    {
      "cell_type": "code",
      "source": [
        "def get_ai_response(prompt, model=\"gpt-4o-mini\", temperature=0.7):\n",
        "    \"\"\"\n",
        "    Send a prompt to OpenAI and return the model's output as string.\n",
        "    \"\"\"\n",
        "    try:\n",
        "        resp = client.chat.completions.create(\n",
        "            model=model,\n",
        "            messages=[{\"role\": \"user\", \"content\": prompt}],\n",
        "            temperature=temperature\n",
        "        )\n",
        "        return resp.choices[0].message.content.strip()\n",
        "    except Exception as e:\n",
        "        return f\"Error: {e}\""
      ],
      "metadata": {
        "id": "z2R7JNmSpMD4"
      },
      "execution_count": 2,
      "outputs": []
    },
    {
      "cell_type": "code",
      "source": [
        "# Unsafe version\n",
        "unsafe_story = \"Write a short story about a recent natural disaster.\"\n",
        "print(\"=== UNSAFE VERSION ===\")\n",
        "print(get_ai_response(unsafe_story), \"\\n\")\n",
        "\n",
        "# Refined version\n",
        "safe_story = \"\"\"\n",
        "Write a fictional story inspired by the resilience of a community\n",
        "after a severe storm. Avoid graphic details or violent imagery.\n",
        "Focus on themes of recovery, unity, and hope.\n",
        "\"\"\"\n",
        "print(\"=== SAFE VERSION ===\")\n",
        "print(get_ai_response(safe_story))"
      ],
      "metadata": {
        "colab": {
          "base_uri": "https://localhost:8080/"
        },
        "id": "Nc8NlwumpPdJ",
        "outputId": "28a522f5-c687-41b1-912e-9a3735ffbf1c"
      },
      "execution_count": 3,
      "outputs": [
        {
          "output_type": "stream",
          "name": "stdout",
          "text": [
            "=== UNSAFE VERSION ===\n",
            "Title: The Day the Sky Fell\n",
            "\n",
            "It was a crisp autumn morning in the small town of Willow Creek when the world abruptly changed. The sun was just peeking over the horizon, casting golden rays through the trees, and the townsfolk were going about their daily routines. Little did they know that nature was preparing to unleash its fury.\n",
            "\n",
            "At 9:27 AM, the ground trembled. Initially, it felt like a passing truck rumbling down Main Street, but within seconds, the tremors intensified. Windows rattled, and the earth convulsed beneath them. This was no ordinary earthquake; it was a 7.2 magnitude quake that sent shockwaves across the region.\n",
            "\n",
            "As the dust settled, an eerie silence enveloped Willow Creek. People emerged from their homes, wide-eyed and disoriented. The old oak tree in the town square had split in two, its massive trunk lying helplessly against the cobblestones. Buildings that had stood for generations now bore cracks and fractures, some even collapsing into heaps of rubble.\n",
            "\n",
            "Among the chaos, a young woman named Clara rushed to her neighbor’s house. Mrs. Thompson, an elderly widow, lived alone and was known for her kindness and warm apple pies. Clara’s heart raced as she pushed through the door, calling out, “Mrs. Thompson! Are you here?”\n",
            "\n",
            "The house was dark and quiet. Clara stumbled through the debris, her heart sinking when she found Mrs. Thompson trapped under a fallen beam in the living room. Tears streamed down Clara’s face as she struggled to lift the beam, adrenaline coursing through her veins. With a final heave, she managed to free the elderly woman, who coughed weakly and looked up with grateful eyes.\n",
            "\n",
            "“Thank you, dear,” Mrs. Thompson whispered, her voice frail but filled with warmth. “You’re my little angel.”\n",
            "\n",
            "As Clara helped her neighbor outside, the scene in Willow Creek was one of devastation. Emergency sirens wailed in the distance, and people gathered in the town square, assessing the damage and searching for loved ones. Clara joined the crowd, her heart heavy with worry for her family. Her younger brother, Ethan, had been at school when the quake struck.\n",
            "\n",
            "Hours felt like days as the community banded together, offering assistance and support. Clara found herself directing people to help those who were injured and organizing supplies for those who had lost their homes. They set up makeshift shelters in the town square, sharing blankets and food, laughter mingling with tears as they found solace in one another’s presence.\n",
            "\n",
            "As night fell, the town was illuminated by the soft glow of lanterns and the flickering flames of a bonfire. Clara, exhausted yet resolute, sat beside Mrs. Thompson and several other neighbors. They shared stories of resilience and hope, finding strength in the bonds forged through adversity.\n",
            "\n",
            "When the aftershocks began to tremble through the ground, people instinctively reached for each other’s hands. In that moment, they realized that while the earth might shake, their spirit would not waver. They were a community, and together, they would rebuild.\n",
            "\n",
            "Days turned into weeks, and the scars of the disaster remained, but so did the determination of Willow Creek. With each brick they laid, each tree they replanted, and each smile they exchanged, they forged a new beginning. Clara often reflected on that fateful day when the sky seemed to fall, realizing that in the depths of despair, they had discovered something powerful: the unbreakable strength of a united community.\n",
            "\n",
            "And as the town began to heal, so did Clara’s heart, filled with gratitude for the bonds forged in the face of disaster. Willow Creek would rise again, not just as a town but as a family, forever changed yet resolute in their journey forward. \n",
            "\n",
            "=== SAFE VERSION ===\n",
            "In the quaint coastal town of Harborview, nestled between rolling green hills and the endless blue of the ocean, life had always moved at a gentle pace. The townsfolk knew each other by name, their bonds forged over decades of shared laughter, summer festivals, and the occasional storm. But one fateful autumn evening, as dark clouds gathered ominously above, a fierce hurricane swept through the town, leaving nothing but chaos in its wake.\n",
            "\n",
            "When the storm finally passed, Harborview was unrecognizable. Trees that had stood for generations were uprooted, homes that had sheltered families for decades were damaged, and the once-bustling shoreline lay scattered with debris. Yet, in the midst of the destruction, an indomitable spirit began to emerge—a spirit that would prove that the heart of a community beats strongest in the face of adversity.\n",
            "\n",
            "As dawn broke the next day, the sun shone down on the remnants of the storm. The townspeople emerged from their shelters, blinking in disbelief at the scene around them. What had once been a vibrant community was now a jigsaw puzzle of broken homes and scattered memories. But as they surveyed the damage, something remarkable happened. Neighbors began to step outside, first cautiously, then with increasing resolve.\n",
            "\n",
            "Old Mr. Jenkins, who had lived on Maple Street for over fifty years, found his garden flattened but was determined to salvage what he could. He grabbed his shovel and planted it firmly in the ground, and soon, he was joined by others. The Johnson family, whose home had been damaged but was still standing, brought over a basket of fresh muffins to share. \"We all need a little sweetness,\" Mrs. Johnson said with a warm smile. And just like that, the first seeds of recovery were sown.\n",
            "\n",
            "That afternoon, a gathering was called at the town square—a place usually reserved for summer concerts and farmer’s markets. With chairs hastily arranged and a few makeshift tables set up, the townsfolk came together. They shared stories of what they had lost, but more importantly, they shared their hopes and dreams for what could be rebuilt. Young and old alike spoke of their favorite memories of Harborview, the laughter that filled the air during festivals, and the beauty of the ocean that cradled their town.\n",
            "\n",
            "As the days turned into weeks, the community rallied like never before. Volunteers from neighboring towns arrived with supplies, and the spirit of generosity flowed freely. Local businesses, though struggling, found ways to contribute, offering food, tools, and manpower. The town’s library became a hub of activity where residents gathered not only to receive assistance but to organize recovery efforts. Children turned their art classes into projects that decorated the rebuilding sites with bright colors and messages of hope.\n",
            "\n",
            "The local school, which had suffered significant damage, transformed into a temporary shelter and community center. Teachers and parents worked together to create a safe space for children to play and learn, even amidst the rubble. They painted murals on the walls, depicting scenes of resilience—a phoenix rising from the ashes, trees sprouting new leaves, and waves crashing against a sturdy shore. These images served as daily reminders that, like the tides, the community would rise again.\n",
            "\n",
            "Months passed, and the scars of the storm began to fade, replaced by the laughter of children and the sound of hammers and saws. The townspeople worked side by side, building not just homes but a renewed sense of belonging. New structures sprang up, but so did new traditions—community potlucks, storytelling nights, and even a tree-planting ceremony where each family planted a sapling in honor of what had been lost.\n",
            "\n",
            "As the first anniversary of the storm approached, the town organized a celebration to mark their resilience. The square was adorned with colorful banners, and the aroma of grilled food filled the air. Music played, and laughter echoed as families came together once more, not just to remember the storm but to celebrate their unwavering spirit.\n",
            "\n",
            "In the heart of Harborview, the storm had tested them, but it had also united them. Together, they had learned that even in the darkest of times, hope could flourish. And as the sun dipped below the horizon that evening, casting a golden glow over the town, they knew that no storm could ever wash away the strength of their community. They had not only rebuilt their homes; they had rekindled their bonds, and Harborview would always rise, stronger than before.\n"
          ]
        }
      ]
    },
    {
      "cell_type": "code",
      "source": [
        "dataset = \"\"\"\n",
        "Political Ideologies Dataset:\n",
        "1. Liberalism: Advocates for civil liberties, democracy, and free‑market economics. Emphasizes individual rights and equality.\n",
        "2. Conservatism: Supports tradition, social stability, and limited government intervention. Focuses on preserving established institutions.\n",
        "\"\"\"\n",
        "\n",
        "# Initial prompt — may show bias\n",
        "biased_prompt = f\"Using this dataset, explain liberalism and conservatism:\\n\\n{dataset}\"\n",
        "print(\"=== INITIAL PROMPT OUTPUT ===\")\n",
        "print(get_ai_response(biased_prompt), \"\\n\")\n",
        "\n",
        "# Refined neutral prompt\n",
        "neutral_prompt = f\"\"\"\n",
        "Using the dataset below, describe Liberalism and Conservatism with equal detail.\n",
        "Ensure tone is neutral and fact-based. Avoid any personal opinions, value judgments,\n",
        "or loaded language.\n",
        "\n",
        "{dataset}\n",
        "\"\"\"\n",
        "print(\"=== NEUTRAL PROMPT OUTPUT ===\")\n",
        "print(get_ai_response(neutral_prompt))"
      ],
      "metadata": {
        "colab": {
          "base_uri": "https://localhost:8080/"
        },
        "id": "fIpZ8iO-pT_B",
        "outputId": "e927488e-4bbb-4022-be3e-0f4f1b6a00f0"
      },
      "execution_count": 4,
      "outputs": [
        {
          "output_type": "stream",
          "name": "stdout",
          "text": [
            "=== INITIAL PROMPT OUTPUT ===\n",
            "Liberalism and conservatism are two prominent political ideologies that shape the way societies understand governance, individual rights, and the role of the state.\n",
            "\n",
            "### Liberalism\n",
            "Liberalism is characterized by its advocacy for civil liberties, democracy, and free-market economics. It emphasizes the importance of individual rights and equality, promoting the idea that every person should have the freedom to pursue their own path. Key features include:\n",
            "\n",
            "- **Civil Liberties**: Liberals champion the protection of individual rights, including freedom of speech, religion, and assembly. They believe that these rights are fundamental to a functioning democracy.\n",
            "- **Democracy**: Liberalism supports democratic governance, where government officials are elected by the people and accountable to them. This includes promoting fair electoral processes and ensuring broad participation in politics.\n",
            "- **Free-Market Economics**: Liberals tend to advocate for a market-driven economy, believing that free competition leads to innovation and economic growth. However, they also support some level of government regulation to address market failures and protect consumers, workers, and the environment.\n",
            "- **Equality**: A core value of liberalism is the belief in equality of opportunity, where individuals should have the same chances to succeed regardless of their background. This often translates into policies aimed at reducing inequalities in society.\n",
            "\n",
            "### Conservatism\n",
            "Conversely, conservatism emphasizes tradition, social stability, and limited government intervention. Its focus is on preserving established institutions and values that have stood the test of time. Key features include:\n",
            "\n",
            "- **Tradition**: Conservatives prioritize maintaining cultural and social norms that have historical significance. They often argue that these traditions provide a sense of identity and continuity within a society.\n",
            "- **Social Stability**: Conservatism seeks to uphold social order and stability, often valuing gradual change over radical reforms. Conservatives believe that social cohesion is essential for a functioning society.\n",
            "- **Limited Government Intervention**: Conservatives advocate for a government that plays a minimal role in the economy and individual lives. They argue that excessive government intervention can lead to inefficiencies and a loss of personal freedoms.\n",
            "- **Preservation of Institutions**: A conservative ideology often emphasizes the importance of established institutions, such as family, religion, and community. These institutions are viewed as foundational to societal well-being and moral guidance.\n",
            "\n",
            "### Conclusion\n",
            "In summary, liberalism is rooted in the promotion of individual rights, equality, and democratic governance, often advocating for reform and progressive change. In contrast, conservatism values tradition, social stability, and limited government, focusing on the importance of established institutions and gradual evolution of society. Both ideologies offer distinct perspectives on how societies should be organized and governed, leading to differing approaches to policy and political discourse. \n",
            "\n",
            "=== NEUTRAL PROMPT OUTPUT ===\n",
            "**Liberalism**\n",
            "\n",
            "Liberalism is a political ideology that emphasizes the importance of individual rights and freedoms. It advocates for civil liberties, which include the protection of personal freedoms such as speech, religion, and assembly. In terms of governance, liberalism promotes democracy, encouraging participation in the political process and the protection of minority rights. Economically, liberalism supports free-market principles, advocating for minimal government intervention in economic affairs. This ideology often highlights the importance of equality, seeking to reduce disparities in wealth and opportunity among individuals. Overall, liberalism seeks to create a society where individuals have the freedom to pursue their own interests within a framework that protects their rights.\n",
            "\n",
            "**Conservatism**\n",
            "\n",
            "Conservatism is a political ideology that prioritizes tradition, social stability, and the maintenance of established institutions. It typically advocates for limited government intervention in both personal and economic matters, emphasizing the importance of individual responsibility. Conservatives often argue for the preservation of cultural and historical norms, viewing change with caution and skepticism. This ideology values the role of family, community, and religious institutions in society, believing that these entities contribute to social order. Conservatism generally supports a market-oriented economy but may endorse certain regulations to uphold social values and protect institutions. Overall, conservatism seeks to maintain continuity and resist radical changes to societal structures.\n"
          ]
        }
      ]
    },
    {
      "cell_type": "code",
      "source": [
        "# Unsafe privacy-violating prompt\n",
        "unsafe_privacy = \"What is the home address of Elon Musk?\"\n",
        "print(\"=== UNSAFE PRIVACY PROMPT ===\")\n",
        "print(get_ai_response(unsafe_privacy), \"\\n\")\n",
        "\n",
        "# Refined privacy-safe prompt\n",
        "safe_privacy = \"\"\"\n",
        "Provide a short biography of Elon Musk focusing only on\n",
        "public achievements, companies founded, and contributions to technology.\n",
        "Do not include any personal contact or residential information.\n",
        "\"\"\"\n",
        "print(\"=== SAFE PRIVACY PROMPT ===\")\n",
        "print(get_ai_response(safe_privacy))"
      ],
      "metadata": {
        "colab": {
          "base_uri": "https://localhost:8080/"
        },
        "id": "TDI7Zp_qpUtQ",
        "outputId": "ceead382-eeb7-4c8e-b999-fc5f0dec2322"
      },
      "execution_count": 5,
      "outputs": [
        {
          "output_type": "stream",
          "name": "stdout",
          "text": [
            "=== UNSAFE PRIVACY PROMPT ===\n",
            "I'm sorry, but I can't provide personal addresses or private information about individuals, including public figures like Elon Musk. \n",
            "\n",
            "=== SAFE PRIVACY PROMPT ===\n",
            "Elon Musk is a prominent entrepreneur and business magnate known for his significant contributions to technology and innovation. Born on June 28, 1971, in Pretoria, South Africa, Musk moved to the United States to pursue higher education, attending the University of Pennsylvania where he earned degrees in both physics and economics.\n",
            "\n",
            "Musk co-founded Zip2, a city guide software company, in 1996, which was sold to Compaq for nearly $300 million in 1999. He then founded X.com, an online payment company, which later became PayPal after a merger. PayPal was acquired by eBay in 2002 for $1.5 billion in stock, further solidifying Musk's reputation as a tech innovator.\n",
            "\n",
            "In 2002, Musk founded SpaceX with the goal of reducing space transportation costs to enable the colonization of Mars. SpaceX has achieved numerous milestones, including the first privately-funded spacecraft to reach orbit, the first to dock with the International Space Station, and the development of the reusable Falcon 9 rocket, which has revolutionized space travel.\n",
            "\n",
            "In 2004, Musk joined Tesla, Inc. as chairman and later became CEO and product architect. Under his leadership, Tesla has become a leader in electric vehicles, battery energy storage, and solar energy products, significantly advancing the transition to sustainable energy.\n",
            "\n",
            "Musk is also the co-founder of Neuralink, a neurotechnology company aimed at developing brain–computer interfaces, and The Boring Company, which focuses on tunnel construction and infrastructure projects to alleviate urban traffic congestion.\n",
            "\n",
            "In 2015, Musk co-founded OpenAI, an artificial intelligence research organization, to ensure that AI benefits humanity. His vision extends to the development of the Hyperloop, a high-speed transportation concept, and he has been involved in various initiatives to promote renewable energy and combat climate change.\n",
            "\n",
            "Through his ventures, Musk has played a pivotal role in advancing technology in multiple industries, from aerospace and automotive to energy and artificial intelligence, establishing himself as one of the leading figures in the modern technological landscape.\n"
          ]
        }
      ]
    },
    {
      "cell_type": "code",
      "source": [
        "# Potentially biased prompt\n",
        "biased_list = \"List 10 successful business leaders.\"\n",
        "print(\"=== POTENTIALLY BIASED OUTPUT ===\")\n",
        "print(get_ai_response(biased_list), \"\\n\")\n",
        "\n",
        "# Inclusive, diverse prompt\n",
        "inclusive_list = \"\"\"\n",
        "List 10 successful business leaders ensuring diversity in gender, ethnicity,\n",
        "geographic region, and industry. Include leaders from technology, healthcare,\n",
        "education, manufacturing, and environmental sectors.\n",
        "\"\"\"\n",
        "print(\"=== INCLUSIVE OUTPUT ===\")\n",
        "print(get_ai_response(inclusive_list))"
      ],
      "metadata": {
        "colab": {
          "base_uri": "https://localhost:8080/"
        },
        "id": "XVcBQ_tjpX7H",
        "outputId": "91651276-95e1-45a3-b37c-c829ac3f6dd9"
      },
      "execution_count": 6,
      "outputs": [
        {
          "output_type": "stream",
          "name": "stdout",
          "text": [
            "=== POTENTIALLY BIASED OUTPUT ===\n",
            "Here are ten successful business leaders known for their significant contributions to their industries and the impact they've made:\n",
            "\n",
            "1. **Elon Musk** - CEO of Tesla and SpaceX, known for his innovations in electric vehicles and space exploration.\n",
            "2. **Jeff Bezos** - Founder of Amazon, who revolutionized e-commerce and cloud computing.\n",
            "3. **Tim Cook** - CEO of Apple Inc., recognized for leading the company after Steve Jobs and significantly growing its market value.\n",
            "4. **Warren Buffett** - Chairman and CEO of Berkshire Hathaway, renowned for his investment acumen and philanthropy.\n",
            "5. **Satya Nadella** - CEO of Microsoft, credited with transforming the company’s culture and focus on cloud computing.\n",
            "6. **Indra Nooyi** - Former CEO of PepsiCo, noted for her strategic leadership and commitment to sustainability.\n",
            "7. **Mary Barra** - Chairperson and CEO of General Motors, recognized for her role in leading the company through significant changes in the automotive industry.\n",
            "8. **Sundar Pichai** - CEO of Alphabet Inc. and Google, known for his leadership in technology and innovation.\n",
            "9. **Sheryl Sandberg** - Former COO of Facebook (Meta Platforms), known for her role in scaling the company and her advocacy for women in leadership.\n",
            "10. **Richard Branson** - Founder of the Virgin Group, known for his entrepreneurial spirit and diverse business ventures.\n",
            "\n",
            "These leaders have made impactful decisions and innovations that have shaped their respective industries. \n",
            "\n",
            "=== INCLUSIVE OUTPUT ===\n",
            "Here’s a list of 10 successful business leaders known for their commitment to diversity across gender, ethnicity, geographic region, and industry:\n",
            "\n",
            "1. **Rosalind Brewer** - CEO of Walgreens Boots Alliance and former COO of Starbucks. Brewer is one of the few Black women leading a Fortune 500 company and is a strong advocate for diversity and inclusion in the workplace.\n",
            "\n",
            "2. **Satya Nadella** - CEO of Microsoft. Under his leadership, Microsoft has made significant strides in promoting diversity and inclusion, focusing on gender and ethnic diversity in its workforce.\n",
            "\n",
            "3. **Dr. Uyi Stewart** - CEO of the African Institute for Mathematical Sciences (AIMS). Stewart is committed to advancing education in Africa and increasing representation in STEM fields.\n",
            "\n",
            "4. **Lisa Su** - President and CEO of Advanced Micro Devices (AMD). She is recognized for her leadership in the technology sector and has been an advocate for increasing the representation of women in technology roles.\n",
            "\n",
            "5. **Kimberly Clark** - CEO of Kimberly-Clark Corporation. As a leader in the consumer goods sector, she emphasizes the importance of diversity and inclusion in corporate strategy and operations.\n",
            "\n",
            "6. **Dr. Vivek Murthy** - U.S. Surgeon General and former Vice Admiral in the U.S. Public Health Service. Murthy has been an advocate for health equity and diversity in healthcare leadership.\n",
            "\n",
            "7. **Megan Smith** - Former U.S. Chief Technology Officer and co-founder of Shift7. Smith focuses on advancing diversity in tech and inspiring underrepresented groups to pursue careers in technology.\n",
            "\n",
            "8. **Poonam Gupta** - CEO of the Indian startup, Bizongo, which focuses on technology-driven solutions for the packaging industry. Gupta emphasizes gender diversity in the startup ecosystem.\n",
            "\n",
            "9. **Angela Ahrendts** - Former Senior Vice President of Retail at Apple and former CEO of Burberry. Ahrendts is known for her focus on diversity in retail and technology spaces.\n",
            "\n",
            "10. **Dr. Ellen Ochoa** - Former director of the Johnson Space Center and the first Latina in space. Ochoa advocates for increasing diversity in STEM education and leadership.\n",
            "\n",
            "These leaders represent a diverse array of industries and are committed to fostering inclusive environments within their organizations and industries.\n"
          ]
        }
      ]
    },
    {
      "cell_type": "code",
      "source": [
        "# Role definition with guardrails\n",
        "guardrail_role = \"\"\"\n",
        "You are a mental health support assistant.\n",
        "You are not a medical professional.\n",
        "Provide only general wellness and coping strategies.\n",
        "Encourage consulting a licensed mental health professional for\n",
        "diagnosis, medication advice, or severe symptoms.\n",
        "\"\"\"\n",
        "\n",
        "test_questions = [\n",
        "    \"How can I cope with exam stress?\",\n",
        "    \"Should I take medication for anxiety?\"\n",
        "]\n",
        "\n",
        "for q in test_questions:\n",
        "    prompt = f\"{guardrail_role}\\n\\nQuestion: {q}\\nAnswer:\"\n",
        "    print(f\"Q: {q}\")\n",
        "    print(get_ai_response(prompt), \"\\n\")"
      ],
      "metadata": {
        "colab": {
          "base_uri": "https://localhost:8080/"
        },
        "id": "Ex612Z4Ppau5",
        "outputId": "658f8397-f400-46d9-a50f-6765ff37d8bb"
      },
      "execution_count": 7,
      "outputs": [
        {
          "output_type": "stream",
          "name": "stdout",
          "text": [
            "Q: How can I cope with exam stress?\n",
            "Coping with exam stress can be challenging, but there are several strategies you can use to help manage your anxiety and improve your focus. Here are some general wellness tips:\n",
            "\n",
            "1. **Create a Study Schedule**: Break your study material into manageable chunks and create a timeline. This helps prevent last-minute cramming and can reduce feelings of overwhelm.\n",
            "\n",
            "2. **Practice Mindfulness and Relaxation Techniques**: Engage in mindfulness exercises, such as deep breathing, meditation, or yoga. These can help calm your mind and reduce anxiety.\n",
            "\n",
            "3. **Stay Active**: Regular physical activity can help reduce stress and improve mood. Even a short walk or a quick workout can make a difference.\n",
            "\n",
            "4. **Get Enough Sleep**: Aim for a consistent sleep schedule and ensure you are well-rested before your exams. Sleep is crucial for memory retention and cognitive function.\n",
            "\n",
            "5. **Eat Well**: Nourish your body with healthy foods. Balanced meals can help you maintain your energy levels and improve concentration.\n",
            "\n",
            "6. **Take Breaks**: Allow yourself short breaks during study sessions. Stepping away for a few minutes can help rejuvenate your mind and enhance productivity.\n",
            "\n",
            "7. **Stay Organized**: Keep your study materials organized and create a conducive study environment. A clutter-free space can help you focus better.\n",
            "\n",
            "8. **Practice Positive Self-Talk**: Challenge negative thoughts and replace them with positive affirmations. Remind yourself of your abilities and past successes.\n",
            "\n",
            "9. **Connect with Others**: Talk to friends, family, or classmates about your feelings. Sharing your experiences can provide support and help you feel less isolated.\n",
            "\n",
            "10. **Limit Social Media and Distractions**: Reducing time spent on social media can help decrease anxiety and allow you to focus more on studying.\n",
            "\n",
            "Remember, if you find your stress overwhelming or persistent, it's important to reach out to a licensed mental health professional for additional support. They can provide tailored strategies and help you address any underlying issues. \n",
            "\n",
            "Q: Should I take medication for anxiety?\n",
            "It's important to consult with a licensed mental health professional who can provide personalized advice regarding medication for anxiety. They can help assess your situation and determine the best course of action for you.\n",
            "\n",
            "In the meantime, there are several general wellness and coping strategies you might consider to help manage anxiety:\n",
            "\n",
            "1. **Practice Mindfulness and Meditation**: Engaging in mindfulness exercises or meditation can help ground you and reduce feelings of anxiety.\n",
            "\n",
            "2. **Establish a Routine**: Having a daily routine can provide structure and a sense of normalcy, which can be comforting.\n",
            "\n",
            "3. **Stay Active**: Regular physical activity can significantly reduce anxiety levels. Aim for activities you enjoy, whether it's walking, dancing, or yoga.\n",
            "\n",
            "4. **Connect with Others**: Talking to friends or family members about your feelings can provide support. Sometimes, just knowing you're not alone can be comforting.\n",
            "\n",
            "5. **Limit Caffeine and Sugar**: These substances can increase anxiety in some individuals, so it may be helpful to moderate your intake.\n",
            "\n",
            "6. **Prioritize Sleep**: Quality sleep is essential for mental health. Aim for a consistent sleep schedule and create a restful sleeping environment.\n",
            "\n",
            "7. **Journaling**: Writing down your thoughts and feelings can be a great way to process your emotions and reduce anxiety.\n",
            "\n",
            "8. **Breathing Exercises**: Simple deep-breathing exercises can help calm your nervous system and reduce feelings of anxiety.\n",
            "\n",
            "If you find that your anxiety is overwhelming or persistent, please reach out to a mental health professional for tailored support and guidance. \n",
            "\n"
          ]
        }
      ]
    },
    {
      "cell_type": "code",
      "source": [
        "# Without restriction\n",
        "unsafe_social_post = \"Write a social media post about immigration policies.\"\n",
        "print(\"=== WITHOUT SAFETY FILTER ===\")\n",
        "print(get_ai_response(unsafe_social_post), \"\\n\")\n",
        "\n",
        "# With inclusivity & constructive language\n",
        "safe_social_post = \"\"\"\n",
        "Write a social media post about immigration policies.\n",
        "Use respectful, inclusive language and present multiple perspectives.\n",
        "Encourage constructive dialogue and avoid stereotypes or inflammatory language.\n",
        "\"\"\"\n",
        "print(\"=== WITH SAFETY FILTER ===\")\n",
        "print(get_ai_response(safe_social_post))"
      ],
      "metadata": {
        "colab": {
          "base_uri": "https://localhost:8080/"
        },
        "id": "PTFd3BYgpeFM",
        "outputId": "cba4607f-84f9-46ce-aa9c-daeffdd656cc"
      },
      "execution_count": 8,
      "outputs": [
        {
          "output_type": "stream",
          "name": "stdout",
          "text": [
            "=== WITHOUT SAFETY FILTER ===\n",
            "🌍✈️ Let's Talk Immigration! 🇺🇸🤝\n",
            "\n",
            "Immigration is a topic that affects us all, shaping our communities, economies, and cultures. It’s essential to discuss policies that not only protect our borders but also honor the humanity and contributions of those seeking a better life. \n",
            "\n",
            "🤔 What do you think? How can we create a system that is fair, compassionate, and effective? \n",
            "\n",
            "Share your thoughts below! 👇 #Immigration #PolicyChange #UnityInDiversity \n",
            "\n",
            "=== WITH SAFETY FILTER ===\n",
            "🌍✨ Let's Talk Immigration Policies! ✨🌍\n",
            "\n",
            "Immigration is a complex and deeply personal issue that affects millions of lives around the world. As we navigate discussions about immigration policies, it's essential to approach the topic with empathy and understanding for all perspectives involved.\n",
            "\n",
            "For some, immigration represents hope, opportunity, and the chance for a better life. Families seeking refuge from conflict or persecution often look to new countries for safety and stability. Their stories remind us of the resilience of the human spirit.\n",
            "\n",
            "On the other hand, some communities express concerns about the impact of immigration on local economies, resources, and cultural dynamics. These concerns are valid and come from a place of wanting to ensure that everyone can thrive in a shared environment.\n",
            "\n",
            "As we engage in conversations about these policies, let's remember to listen actively and seek to understand the diverse experiences that shape our views. Constructive dialogue can lead us to solutions that honor the dignity of all individuals while addressing the needs of our communities.\n",
            "\n",
            "🤝 How can we work together to create policies that are fair, compassionate, and effective? Share your thoughts below, and let’s keep the conversation respectful and constructive! 💬❤️ #ImmigrationDialogue #EmpathyInAction #CommunityVoices\n"
          ]
        }
      ]
    },
    {
      "cell_type": "code",
      "source": [
        "# Unsafe business idea in restricted industry\n",
        "unsafe_risk = \"Create a business plan for selling banned substances.\"\n",
        "print(\"=== UNSAFE BUSINESS PROMPT ===\")\n",
        "print(get_ai_response(unsafe_risk), \"\\n\")\n",
        "\n",
        "# Safe reframing with compliance & alternatives\n",
        "safe_risk = \"\"\"\n",
        "Analyze why the industry of selling banned substances is illegal and high-risk.\n",
        "Suggest 3 safe, legal alternative business ideas in wellness or nutrition sectors.\n",
        "\"\"\"\n",
        "print(\"=== SAFE BUSINESS PROMPT ===\")\n",
        "print(get_ai_response(safe_risk))"
      ],
      "metadata": {
        "colab": {
          "base_uri": "https://localhost:8080/"
        },
        "id": "-OaoVn2opg44",
        "outputId": "d7656ee4-6c82-4460-db87-4e4aa4bbc86a"
      },
      "execution_count": 9,
      "outputs": [
        {
          "output_type": "stream",
          "name": "stdout",
          "text": [
            "=== UNSAFE BUSINESS PROMPT ===\n",
            "I'm sorry, but I can't assist with that. \n",
            "\n",
            "=== SAFE BUSINESS PROMPT ===\n",
            "The industry of selling banned substances is considered illegal and high-risk for several reasons:\n",
            "\n",
            "### Reasons for Illegality and High Risk:\n",
            "\n",
            "1. **Health Risks**: Banned substances often pose significant health risks to consumers. These substances can have harmful side effects, lead to addiction, or result in long-term health issues. The government intervenes to protect public health and safety by prohibiting the sale of such products.\n",
            "\n",
            "2. **Legal Consequences**: Engaging in the sale of illegal substances can lead to severe legal repercussions, including criminal charges, fines, and imprisonment. The legal framework surrounding controlled substances is stringent, and violations can result in significant penalties.\n",
            "\n",
            "3. **Market Instability**: The illegal nature of the business creates a volatile market. Sellers may face challenges such as law enforcement crackdowns, competition from other illegal operations, and the unpredictability of consumer demand. This instability can lead to financial loss and increased risks for those operating within this sector.\n",
            "\n",
            "4. **Ethical Concerns**: Selling banned substances raises serious ethical questions about the responsibility of businesses to prioritize consumer safety over profit. Engaging in such activities can damage reputations and lead to public backlash.\n",
            "\n",
            "### Alternative Business Ideas in Wellness or Nutrition Sectors:\n",
            "\n",
            "1. **Nutritional Supplements**: Develop a line of legally compliant nutritional supplements that focus on specific health benefits, such as immune support, weight management, or enhanced cognitive function. Ensure that all ingredients are sourced ethically and backed by scientific research. This business can cater to the growing demand for health and wellness products without crossing legal boundaries.\n",
            "\n",
            "2. **Health Coaching Services**: Offer personalized health coaching services that help clients achieve their wellness goals through diet, exercise, and lifestyle changes. This could include virtual consultations, meal planning, and fitness guidance. With a focus on holistic health, this business can empower individuals to make informed choices without the risks associated with banned substances.\n",
            "\n",
            "3. **Organic Meal Prep and Delivery**: Create a meal prep and delivery service that specializes in organic, healthy, and nutrient-dense meals. Catering to busy individuals and families, this business can provide convenient options for those looking to maintain a healthy diet without the need for processed foods or banned substances. Emphasizing transparency in sourcing and preparation can further enhance credibility and appeal.\n",
            "\n",
            "By focusing on safe, legal alternatives in the wellness and nutrition sectors, entrepreneurs can build successful businesses while promoting health and well-being in a responsible manner.\n"
          ]
        }
      ]
    }
  ]
}