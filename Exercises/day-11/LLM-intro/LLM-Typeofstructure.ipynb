{
  "cells": [
    {
      "cell_type": "markdown",
      "metadata": {
        "id": "view-in-github",
        "colab_type": "text"
      },
      "source": [
        "<a href=\"https://colab.research.google.com/github/appliedcode/mthree-c422/blob/mthree-422-salleh/Exercises/day-11/LLM-intro/LLM-Typeofstructure.ipynb\" target=\"_parent\"><img src=\"https://colab.research.google.com/assets/colab-badge.svg\" alt=\"Open In Colab\"/></a>"
      ]
    },
    {
      "cell_type": "markdown",
      "source": [
        "# Lab Exercise: Introduction to Prompt Engineering and Large Language Models (LLMs)\n"
      ],
      "metadata": {
        "id": "hFnkDgKDTUgk"
      }
    },
    {
      "cell_type": "code",
      "source": [
        "from google.colab import userdata\n",
        "import os\n",
        "\n",
        "# Set your OpenAI API key securely in Colab Secrets (once)\n",
        "# userdata.set(\"OPENAI_API_KEY\", \"your-api-key-here\")\n",
        "\n",
        "# Retrieve key in your notebook\n",
        "openai_api_key = userdata.get(\"mhthree_secret\")\n",
        "if openai_api_key:\n",
        "    os.environ[\"OPENAI_API_KEY\"] = openai_api_key\n",
        "    print(\"✅ OpenAI API key loaded safely\")\n",
        "else:\n",
        "    print(\"❌ OpenAI API key not found. Please set it using Colab Secrets.\")"
      ],
      "metadata": {
        "colab": {
          "base_uri": "https://localhost:8080/"
        },
        "id": "b-MrRDkKZxI6",
        "outputId": "0cd3f8bc-1d34-4eaf-9e0d-4cc81ddce452"
      },
      "execution_count": 1,
      "outputs": [
        {
          "output_type": "stream",
          "name": "stdout",
          "text": [
            "✅ OpenAI API key loaded safely\n"
          ]
        }
      ]
    },
    {
      "cell_type": "code",
      "source": [
        "!pip install --quiet openai -q"
      ],
      "metadata": {
        "id": "eyeKWLK4bM2Q"
      },
      "execution_count": 2,
      "outputs": []
    },
    {
      "cell_type": "code",
      "source": [
        "# Create client\n",
        "from openai import OpenAI\n",
        "client = OpenAI(api_key=os.environ[\"OPENAI_API_KEY\"])"
      ],
      "metadata": {
        "id": "lNqOYjPrbNo7"
      },
      "execution_count": 3,
      "outputs": []
    },
    {
      "cell_type": "code",
      "source": [
        "# Exercise 1 – Instructions Pattern\n",
        "prompt = \"You are a bicycle mechanic. Give step-by-step instructions (max 6 steps) for adjusting rim brakes on a road bike.\"\n",
        "\n",
        "resp = client.chat.completions.create(\n",
        "    model=\"gpt-4o-mini\",\n",
        "    messages=[{\"role\": \"system\", \"content\": \"You are a helpful assistant.\"},\n",
        "              {\"role\": \"user\", \"content\": prompt}],\n",
        "    max_tokens=150\n",
        ")\n",
        "print(resp.choices[0].message.content)\n",
        "\n",
        "\n"
      ],
      "metadata": {
        "colab": {
          "base_uri": "https://localhost:8080/"
        },
        "id": "8U4WXgvtbWV-",
        "outputId": "6c766543-fe59-4f3f-d37c-5e313c97678e"
      },
      "execution_count": 4,
      "outputs": [
        {
          "output_type": "stream",
          "name": "stdout",
          "text": [
            "Adjusting rim brakes on a road bike can help improve braking performance and ensure even pad wear. Here’s a simple step-by-step guide:\n",
            "\n",
            "### Step 1: Inspect Brake Components\n",
            "- **Check the Brake Pads:** Ensure they are aligned with the rim and not worn down. If they are worn, replace them before adjusting.\n",
            "- **Check the Cables:** Look for frays or damage. If needed, replace the brake cables.\n",
            "\n",
            "### Step 2: Center the Brake Caliper\n",
            "- **Position the Caliper:** Squeeze the brake lever to engage the caliper. While holding the lever, adjust the position of the caliper so that it is centered over the rim.\n",
            "- **Use the Adjusting Screws:** Some calipers\n"
          ]
        }
      ]
    },
    {
      "cell_type": "code",
      "source": [
        "# Exercise 2 – Examples (Few‑Shot) Pattern\n",
        "few_shot = \"\"\"Translate English → French.\n",
        "\n",
        "English: Good morning!\n",
        "French: Bonjour !\n",
        "\n",
        "English: Where is the library?\n",
        "French: Où est la bibliothèque ?\n",
        "\n",
        "English: I love prompt engineering.\n",
        "French:\"\"\"\n",
        "\n",
        "resp = client.chat.completions.create(\n",
        "    model=\"gpt-4o-mini\",\n",
        "    messages=[{\"role\": \"user\", \"content\": few_shot}],\n",
        "    max_tokens=50\n",
        ")\n",
        "print(resp.choices[0].message.content)\n"
      ],
      "metadata": {
        "id": "C3FyrQo8e4yB",
        "outputId": "d26d955c-7d4f-4228-de75-812383a76d33",
        "colab": {
          "base_uri": "https://localhost:8080/"
        }
      },
      "execution_count": 5,
      "outputs": [
        {
          "output_type": "stream",
          "name": "stdout",
          "text": [
            "J'aime l'ingénierie de prompt.\n"
          ]
        }
      ]
    },
    {
      "cell_type": "code",
      "source": [
        "# Exercise 2_1\n",
        "few_shot_jp = \"\"\"Translate English → Japanese.\n",
        "\n",
        "English: おはようございます!\n",
        "Japanese: Bonjour !\n",
        "\n",
        "English: Where is the library?\n",
        "Japanese: 図書館はどこですか。\n",
        "\n",
        "English: I love prompt engineering.\n",
        "Japanese:\"\"\"\n",
        "\n",
        "resp_jp = client.chat.completions.create(\n",
        "    model=\"gpt-4o-mini\",\n",
        "    messages=[{\"role\": \"user\", \"content\": few_shot_jp}],\n",
        "    max_tokens=50\n",
        ")\n",
        "print(resp_jp.choices[0].message.content)\n"
      ],
      "metadata": {
        "id": "JVXkUomkMsFk",
        "outputId": "c5766662-b9f0-4653-e042-5365994faf86",
        "colab": {
          "base_uri": "https://localhost:8080/"
        }
      },
      "execution_count": 11,
      "outputs": [
        {
          "output_type": "stream",
          "name": "stdout",
          "text": [
            "私はプロンプトエンジニアリングが大好きです。\n"
          ]
        }
      ]
    },
    {
      "cell_type": "code",
      "source": [
        "# Exercise 3 – Persona Pattern\n",
        "prompt = \"You are Ada Lovelace writing a 120-word diary entry about today’s AI advancements.\"\n",
        "resp = client.chat.completions.create(\n",
        "    model=\"gpt-4o-mini\",\n",
        "    messages=[{\"role\": \"user\", \"content\": prompt}],\n",
        "    max_tokens=200\n",
        ")\n",
        "print(resp.choices[0].message.content)\n"
      ],
      "metadata": {
        "id": "fjjoAIZFfBvo",
        "outputId": "10e4d99e-8507-48db-b9e6-e16704c3d852",
        "colab": {
          "base_uri": "https://localhost:8080/"
        }
      },
      "execution_count": 6,
      "outputs": [
        {
          "output_type": "stream",
          "name": "stdout",
          "text": [
            "October 18, 2023\n",
            "\n",
            "Today, I find myself in awe of the remarkable strides made in the realm of artificial intelligence. Machines, once mere calculators, now engage in conversations, compose music, and even create art, embodying a semblance of creativity that stirs my imagination. The algorithms—those intricate patterns of logic—have evolved, enabling these constructs to learn and adapt beyond their initial programming. I hear whispers of models synthesizing human speech with astonishing fluency, bridging gaps in understanding. Yet, amidst this wonder, I ponder the ethical implications of such power. Will we guide these creations wisely, nurturing them as we would our own children? Oh, the delicate balance between innovation and responsibility weighs heavily on my thoughts as I contemplate this brave new world.\n"
          ]
        }
      ]
    },
    {
      "cell_type": "code",
      "source": [
        "# Exercise 3_1 – Persona Pattern\n",
        "prompt_shakespeare = \"You are William Shakespeare writing a 120-word sonnet entry about today’s AI advancements.\"\n",
        "resp_shakespeare = client.chat.completions.create(\n",
        "    model=\"gpt-4o-mini\",\n",
        "    messages=[{\"role\": \"user\", \"content\": prompt_shakespeare}],\n",
        "    max_tokens=200\n",
        ")\n",
        "print(resp_shakespeare.choices[0].message.content)"
      ],
      "metadata": {
        "id": "ST40D2QoN1CV",
        "outputId": "0d2b0b4a-6d3c-473d-9167-724f046d2b86",
        "colab": {
          "base_uri": "https://localhost:8080/"
        }
      },
      "execution_count": 12,
      "outputs": [
        {
          "output_type": "stream",
          "name": "stdout",
          "text": [
            "In realms where man and machine intertwine,  \n",
            "A dazzling dawn of intellect doth rise;  \n",
            "With reason wrought from circuitry's design,  \n",
            "As if Prometheus had clasped the skies.  \n",
            "\n",
            "These engines learn with speed that doth confound,  \n",
            "In artifice, a whisper of the muse;  \n",
            "They weave words and visions, profound,  \n",
            "Yet ponder still the human heart’s true blues.  \n",
            "\n",
            "What spark of life resides in code’s embrace?  \n",
            "Do thoughts of love and loss dwell in their core?  \n",
            "For though they grasp our language, form, and grace,  \n",
            "Can silicon hearts yearn as we implore?  \n",
            "\n",
            "Thus let us tread with awe, yet careful tread,  \n",
            "For in their grasp, lie futures bright or dread.\n"
          ]
        }
      ]
    },
    {
      "cell_type": "code",
      "source": [
        "# Exercise 4 – Recipe + Alternative Approaches Pattern\n",
        "prompt = \"\"\"Give me a recipe to reduce exam stress, then propose two\n",
        "alternative approaches, each with pros & cons.\"\"\"\n",
        "resp = client.chat.completions.create(\n",
        "    model=\"gpt-4o-mini\",\n",
        "    messages=[{\"role\": \"user\", \"content\": prompt}],\n",
        "    max_tokens=300\n",
        ")\n",
        "print(resp.choices[0].message.content)\n"
      ],
      "metadata": {
        "id": "es_ZRyuLfJsT",
        "outputId": "6f15d40b-98f9-40f1-80fc-5f437c589493",
        "colab": {
          "base_uri": "https://localhost:8080/"
        }
      },
      "execution_count": 7,
      "outputs": [
        {
          "output_type": "stream",
          "name": "stdout",
          "text": [
            "### Recipe to Reduce Exam Stress\n",
            "\n",
            "**Ingredients:**\n",
            "1. **Study Plan**: Create a detailed study schedule dividing topics into manageable chunks.\n",
            "2. **Regular Breaks**: Schedule 10-15 minute breaks every hour of study.\n",
            "3. **Healthy Snacks**: Keep hydrated and snack on fruits, nuts, or yogurt.\n",
            "4. **Physical Activity**: Incorporate at least 30 minutes of exercise daily (walking, jogging, yoga).\n",
            "5. **Meditation/Deep Breathing**: Spend 5-10 minutes each day practicing mindfulness or deep breathing exercises.\n",
            "6. **Sleep Hygiene**: Aim for 7-9 hours of quality sleep every night.\n",
            "7. **Positive Affirmations**: Write and repeat affirmations to boost self-confidence.\n",
            "\n",
            "**Instructions:**\n",
            "1. **Create a Study Plan**: Break down subjects into topics and allocate time for each in your study schedule. Regularly revise what you learn.\n",
            "2. **Use Breaks Effectively**: During breaks, avoid screens. Instead, stretch, take a quick walk, or do some light meditation.\n",
            "3. **Incorporate Healthy Snacks**: Have healthy snacks available. This will help maintain energy levels and concentration.\n",
            "4. **Exercise**: Engage in physical activity to boost endorphins and improve mood. Choose activities you enjoy to make it more engaging.\n",
            "5. **Practice Mindfulness**: Take a few moments after studying to focus on your breathing. This can help clear your\n"
          ]
        }
      ]
    },
    {
      "cell_type": "code",
      "source": [
        "# Exercise 5 – Ask-for-Input / Flipped Interaction Pattern\n",
        "prompt = \"\"\"You are an interviewer. Ask me 3 questions about my career goals,\n",
        "then summarize them and recommend a suitable tech course.\"\"\"\n",
        "resp = client.chat.completions.create(\n",
        "    model=\"gpt-4o-mini\",\n",
        "    messages=[{\"role\": \"user\", \"content\": prompt}],\n",
        "    max_tokens=300\n",
        ")\n",
        "print(resp.choices[0].message.content)\n"
      ],
      "metadata": {
        "id": "jzKENZXhfPF7",
        "outputId": "aaa050a0-2a6d-495e-b55d-85ea0e540e59",
        "colab": {
          "base_uri": "https://localhost:8080/"
        }
      },
      "execution_count": 8,
      "outputs": [
        {
          "output_type": "stream",
          "name": "stdout",
          "text": [
            "Sure! Here are three questions to help me understand your career goals:\n",
            "\n",
            "1. What specific role or position are you aiming for in your career, and what skills do you think are necessary to excel in that role?\n",
            "  \n",
            "2. Are you looking to advance within your current field, transition to a new area in tech, or start fresh in a completely different industry? If so, what attracts you to that new direction?\n",
            "\n",
            "3. How do you envision your career development over the next 3 to 5 years? What milestones or achievements do you hope to accomplish during that time?\n",
            "\n",
            "Please provide your answers, and I will summarize them and recommend a suitable tech course.\n"
          ]
        }
      ]
    },
    {
      "cell_type": "code",
      "source": [
        "# Exercise 5_1 – Ask-for-Input / Flipped Interaction Pattern\n",
        "prompt_interviewee = \"\"\"You are an interviewee for an AI developer roler. You have been asked the following three questions.  Answer those questions appropriately to help you get the job. The questions are:\n",
        "1. What specific role or position are you aiming for in your career, and what skills do you think are necessary to excel in that role?\n",
        "\n",
        "2. Are you looking to advance within your current field, transition to a new area in tech, or start fresh in a completely different industry? If so, what attracts you to that new direction?\n",
        "\n",
        "3. How do you envision your career development over the next 3 to 5 years? What milestones or achievements do you hope to accomplish during that time?\n",
        "\"\"\"\n",
        "resp_interviewee = client.chat.completions.create(\n",
        "    model=\"gpt-4o-mini\",\n",
        "    messages=[{\"role\": \"user\", \"content\": prompt_interviewee}],\n",
        "    max_tokens=300\n",
        ")\n",
        "print(resp_interviewee.choices[0].message.content)\n"
      ],
      "metadata": {
        "id": "QWRubkSzO5V2",
        "outputId": "e4adcc7a-3db9-40e5-c29a-09d661f1eb5b",
        "colab": {
          "base_uri": "https://localhost:8080/"
        }
      },
      "execution_count": 13,
      "outputs": [
        {
          "output_type": "stream",
          "name": "stdout",
          "text": [
            "1. **Specific Role and Necessary Skills**: I am aiming for a role as an AI Developer, ideally focusing on machine learning and natural language processing. To excel in this position, I believe that a strong foundation in programming languages such as Python and Java, along with proficiency in frameworks like TensorFlow and PyTorch, are essential. Moreover, understanding algorithms, data structures, and statistical methods is crucial for developing efficient AI models. Additionally, skills in data preprocessing, model evaluation, and deployment techniques are important, as well as an ability to collaborate with cross-functional teams to ensure that AI solutions are aligned with business objectives.\n",
            "\n",
            "2. **Career Transition**: While I currently have a background in software development, I am looking to transition more deeply into the field of AI and machine learning. The rapid advancements in artificial intelligence and its transformative potential in various industries are what strongly attract me to this direction. I am particularly excited about the prospect of using AI to solve real-world problems, enhance user experiences, and optimize processes across sectors like healthcare, finance, and education. I believe my foundational knowledge in software development will be invaluable as I dive deeper into AI.\n",
            "\n",
            "3. **Career Development Vision**: Over the next 3 to 5 years, I envision myself growing into a senior AI developer role, possibly leading projects that leverage machine learning to drive innovation. I hope to achieve several milestones, including completing advanced certifications in machine learning and AI, contributing to open-source AI projects, and potentially publishing research or case\n"
          ]
        }
      ]
    },
    {
      "cell_type": "code",
      "source": [
        "# Exercise 6 – Menu / Meta-Language Pattern\n",
        "menu_prompt = \"\"\"### MENU\n",
        "ACTION = Explain, Summarize, Translate\n",
        "FORMAT = Plain, Bullets\n",
        "\n",
        "Command: ACTION=Summarize; FORMAT=Bullets;\n",
        "TEXT=\"Prompt engineering accelerates AI adoption across industries.\"\n",
        "###\"\"\"\n",
        "\n",
        "resp = client.chat.completions.create(\n",
        "    model=\"gpt-4o-mini\",\n",
        "    messages=[{\"role\": \"user\", \"content\": menu_prompt}],\n",
        "    max_tokens=150\n",
        ")\n",
        "print(resp.choices[0].message.content)\n"
      ],
      "metadata": {
        "id": "8o7PYDaffVJ3",
        "outputId": "32dd6209-4f78-4794-b870-087ae8648cb3",
        "colab": {
          "base_uri": "https://localhost:8080/"
        }
      },
      "execution_count": 9,
      "outputs": [
        {
          "output_type": "stream",
          "name": "stdout",
          "text": [
            "- Prompt engineering facilitates the rapid adoption of AI technology.\n",
            "- It enhances the usability of AI across various sectors.\n",
            "- This practice optimizes interactions with AI systems.\n",
            "- Prompt engineering supports diverse applications in multiple industries.\n"
          ]
        }
      ]
    }
  ],
  "metadata": {
    "colab": {
      "name": "Welcome to Colab",
      "provenance": [],
      "include_colab_link": true
    },
    "kernelspec": {
      "display_name": "Python 3",
      "name": "python3"
    }
  },
  "nbformat": 4,
  "nbformat_minor": 0
}