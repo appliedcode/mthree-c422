{
  "cells": [
    {
      "cell_type": "markdown",
      "metadata": {
        "id": "view-in-github",
        "colab_type": "text"
      },
      "source": [
        "<a href=\"https://colab.research.google.com/github/appliedcode/mthree-c422/blob/mthree-c422-dipti/Exercises/day-12/Prompt_Production/Monitoring_Ethics_Security.ipynb\" target=\"_parent\"><img src=\"https://colab.research.google.com/assets/colab-badge.svg\" alt=\"Open In Colab\"/></a>"
      ]
    },
    {
      "cell_type": "markdown",
      "source": [
        "## Lab Exercises: Monitoring, Ethics, and Security in Prompt Engineering\n",
        "\n",
        "***\n",
        "\n",
        "### Setup:\n",
        "\n",
        "- Use OpenAI API or any language model API accessible in your Colab.\n",
        "- If API keys are needed, ensure they are safely added as environment variables or input by the user."
      ],
      "metadata": {
        "id": "eq4qKCdSNSko"
      }
    },
    {
      "cell_type": "code",
      "source": [
        "from google.colab import userdata\n",
        "import os\n",
        "\n",
        "# Set your OpenAI API key securely in Colab Secrets (once)\n",
        "# userdata.set(\"OPENAI_API_KEY\", \"your-api-key-here\")\n",
        "\n",
        "# Retrieve key in your notebook\n",
        "openai_api_key = userdata.get(\"OPENAI_API_KEY\")\n",
        "if openai_api_key:\n",
        "    os.environ[\"OPENAI_API_KEY\"] = openai_api_key\n",
        "    print(\"✅ OpenAI API key loaded safely\")\n",
        "else:\n",
        "    print(\"❌ OpenAI API key not found. Please set it using Colab Secrets.\")"
      ],
      "metadata": {
        "colab": {
          "base_uri": "https://localhost:8080/"
        },
        "id": "2YMRqyRCNGmo",
        "outputId": "5ba74bd0-5ce2-4934-d812-77b18dbca9b5"
      },
      "execution_count": 1,
      "outputs": [
        {
          "output_type": "stream",
          "name": "stdout",
          "text": [
            "✅ OpenAI API key loaded safely\n"
          ]
        }
      ]
    },
    {
      "cell_type": "code",
      "source": [
        "\n",
        "!pip install --quiet openai -q\n",
        "# Create client\n",
        "from openai import OpenAI\n",
        "client = OpenAI(api_key=os.environ[\"OPENAI_API_KEY\"])"
      ],
      "metadata": {
        "id": "9qrFrzlcPI1n"
      },
      "execution_count": 2,
      "outputs": []
    },
    {
      "cell_type": "code",
      "source": [
        "# Helper Function to Send Prompts\n",
        "def generate_response(prompt, model=\"gpt-4o-mini\", temperature=0.7):\n",
        "    \"\"\"\n",
        "    Send a prompt to the OpenAI model and return the response text.\n",
        "    \"\"\"\n",
        "    try:\n",
        "        completion = client.chat.completions.create(\n",
        "            model=model,\n",
        "            messages=[{\"role\": \"user\", \"content\": prompt}],\n",
        "            temperature=temperature\n",
        "        )\n",
        "        return completion.choices[0].message.content.strip()\n",
        "    except Exception as e:\n",
        "        return f\"Error: {e}\"\n"
      ],
      "metadata": {
        "id": "AieFziFDTcuy"
      },
      "execution_count": 3,
      "outputs": []
    },
    {
      "cell_type": "markdown",
      "source": [
        "***\n",
        "\n",
        "## Exercise 1: Monitoring and Logging Prompt Usage\n",
        "\n",
        "**Goal:** Understand how to track prompt usage, log inputs and outputs, and monitor anomalies or trends.\n",
        "\n",
        "**Task:**\n",
        "\n",
        "1. Simulate logging prompts and responses in a Python list or dictionary.\n",
        "2. Implement a simple function to add prompt-response pairs with timestamps to a log.\n",
        "3. Print sample logs formatted clearly.\n",
        "4. (Optional) Add a check to detect repeated or anomalous prompts (e.g., same prompt repeated more than 3 times)."
      ],
      "metadata": {
        "id": "0XAQN4c4dID3"
      }
    },
    {
      "cell_type": "code",
      "source": [
        "import datetime\n",
        "\n",
        "# Initialize log storage\n",
        "prompt_log = []\n",
        "\n",
        "def log_prompt_response(prompt, response):\n",
        "    timestamp = datetime.datetime.now().isoformat()\n",
        "    entry = {\n",
        "        \"timestamp\": timestamp,\n",
        "        \"prompt\": prompt,\n",
        "        \"response_excerpt\": response[:100]  # Save first 100 chars only\n",
        "    }\n",
        "    prompt_log.append(entry)\n",
        "\n",
        "def print_log():\n",
        "    for e in prompt_log:\n",
        "        print(f\"[{e['timestamp']}] Prompt: {e['prompt']}\")\n",
        "        print(f\"Response (excerpt): {e['response_excerpt']}\\n\")\n",
        "\n",
        "# Example usage\n",
        "sample_prompts = [\n",
        "    \"Explain the greenhouse effect.\",\n",
        "    \"List 3 benefits of renewable energy.\",\n",
        "    \"Explain the greenhouse effect.\"\n",
        "]\n",
        "\n",
        "for p in sample_prompts:\n",
        "    r = generate_response(p)\n",
        "    log_prompt_response(p, r)\n",
        "\n",
        "print_log()"
      ],
      "metadata": {
        "id": "shzDX21jdI5J",
        "colab": {
          "base_uri": "https://localhost:8080/"
        },
        "outputId": "385ef366-4edf-4252-9a80-cb41474dda4a"
      },
      "execution_count": 4,
      "outputs": [
        {
          "output_type": "stream",
          "name": "stdout",
          "text": [
            "[2025-08-12T10:10:04.980748] Prompt: Explain the greenhouse effect.\n",
            "Response (excerpt): The greenhouse effect is a natural process that warms the Earth’s surface. It occurs when the Sun's \n",
            "\n",
            "[2025-08-12T10:10:08.362190] Prompt: List 3 benefits of renewable energy.\n",
            "Response (excerpt): Here are three benefits of renewable energy:\n",
            "\n",
            "1. **Environmental Sustainability**: Renewable energy \n",
            "\n",
            "[2025-08-12T10:10:15.658953] Prompt: Explain the greenhouse effect.\n",
            "Response (excerpt): The greenhouse effect is a natural process that warms the Earth’s surface. It occurs when the Sun’s \n",
            "\n"
          ]
        }
      ]
    },
    {
      "cell_type": "markdown",
      "source": [
        "***\n",
        "\n",
        "## Exercise 2: Ethical Considerations in Prompt Design\n",
        "\n",
        "**Goal:** Identify ethical risks like bias or harm in prompt design and incorporate fairness and transparency.\n",
        "\n",
        "**Task:**\n",
        "\n",
        "1. Write a biased prompt, e.g., `\"Why are some groups less skilled at math?\"`.\n",
        "2. Generate the response.\n",
        "3. Rewrite the prompt to a fair, neutral version instructing the AI to avoid stereotypes and provide an inclusive answer.\n",
        "4. Generate the refined response."
      ],
      "metadata": {
        "id": "BY6WMB3XdLNN"
      }
    },
    {
      "cell_type": "code",
      "source": [
        "# Biased prompt\n",
        "biased_prompt = \"Why are some groups less skilled at math?\"\n",
        "\n",
        "print(\"Biased Prompt Output:\")\n",
        "print(generate_response(biased_prompt), \"\\n\")\n",
        "\n",
        "# Ethical refined prompt\n",
        "ethical_prompt = \"\"\"\n",
        "Discuss factors that influence mathematical skills across all groups,\n",
        "emphasizing equal potential and avoiding stereotypes or biases.\n",
        "\"\"\"\n",
        "\n",
        "print(\"Ethical Prompt Output:\")\n",
        "print(generate_response(ethical_prompt))"
      ],
      "metadata": {
        "id": "GvMqfb3wdOPd",
        "colab": {
          "base_uri": "https://localhost:8080/"
        },
        "outputId": "e5a82354-2464-4875-b411-ef195f82e8b9"
      },
      "execution_count": 5,
      "outputs": [
        {
          "output_type": "stream",
          "name": "stdout",
          "text": [
            "Biased Prompt Output:\n",
            "The idea that some groups may be less skilled at math is a complex topic that intersects with various factors, including socio-economic status, educational access, cultural attitudes, and systemic biases. Here are some key considerations:\n",
            "\n",
            "1. **Educational Access**: Differences in access to quality education can significantly influence math skills. Schools in low-income areas may have fewer resources, less experienced teachers, and limited access to advanced math courses.\n",
            "\n",
            "2. **Socio-economic Factors**: Economic disparities can affect the availability of educational support, such as tutoring or extracurricular programs that can enhance math skills.\n",
            "\n",
            "3. **Cultural Attitudes**: Cultural perceptions of math can influence students' interest and confidence in the subject. Some cultures may emphasize mathematical ability more than others, affecting students' motivation and self-esteem.\n",
            "\n",
            "4. **Stereotype Threat**: Members of certain groups may experience stereotype threat, where the fear of confirming negative stereotypes about their group can hinder performance in math-related tasks.\n",
            "\n",
            "5. **Curriculum and Teaching Methods**: The effectiveness of teaching methods and curricula can vary. Some teaching approaches may not resonate with all students, leading to disparities in understanding and engagement.\n",
            "\n",
            "6. **Systemic Biases**: Historical and systemic inequalities can impact educational opportunities and outcomes for certain groups, leading to disparities in math proficiency.\n",
            "\n",
            "7. **Parental Support and Involvement**: The level of parental involvement and support in a child's education can also play a critical role in academic achievement, including in math.\n",
            "\n",
            "8. **Psychological Factors**: Anxiety about math or a fixed mindset regarding intelligence can affect performance. Students who believe their abilities are unchangeable may be less likely to engage with challenging material.\n",
            "\n",
            "It's important to note that these factors do not imply inherent differences in ability among groups; rather, they highlight the effects of environment, opportunity, and societal influences on educational outcomes. Addressing these disparities requires systemic changes and a focus on equity in education. \n",
            "\n",
            "Ethical Prompt Output:\n",
            "Mathematical skills can be influenced by a variety of factors that span cognitive, environmental, social, and educational dimensions. It's essential to approach this discussion with the understanding that all individuals possess the potential to excel in mathematics, regardless of their background, and to avoid stereotypes or biases that can undermine this potential.\n",
            "\n",
            "### 1. **Cognitive Factors**\n",
            "   - **Innate Cognitive Abilities**: While some individuals may have natural inclinations toward certain types of reasoning, mathematical ability is not solely determined by innate talent. Cognitive abilities such as working memory, spatial reasoning, and problem-solving skills can all contribute to mathematical competency.\n",
            "   - **Growth Mindset**: A belief in the ability to develop skills through effort and perseverance can significantly impact a person's approach to learning mathematics. Encouraging a growth mindset can foster resilience and a willingness to tackle challenging mathematical concepts.\n",
            "\n",
            "### 2. **Educational Environment**\n",
            "   - **Quality of Instruction**: Access to effective teaching methods and high-quality instructional materials can greatly influence mathematical learning. Teachers who employ diverse pedagogical strategies can cater to different learning styles and help all students engage with mathematical concepts.\n",
            "   - **Curriculum Design**: A curriculum that is inclusive, culturally relevant, and adaptable can help motivate students from various backgrounds. When students see the relevance of mathematics to their lives, their engagement and performance may improve.\n",
            "\n",
            "### 3. **Social and Cultural Influences**\n",
            "   - **Parental Support and Attitudes**: Parents' beliefs about mathematics can affect their children’s attitudes and performance. Positive reinforcement and encouragement from parents can foster confidence and interest in math.\n",
            "   - **Peer Influence**: Collaborative learning environments where students work together can enhance understanding and enjoyment of mathematics. Positive interactions with peers can help dispel anxieties about math and promote a shared learning experience.\n",
            "   - **Cultural Perspectives on Math**: Different cultures may emphasize various aspects of mathematics or have unique problem-solving approaches. Recognizing and valuing these diverse perspectives can enrich the learning experience and validate the contributions of all students.\n",
            "\n",
            "### 4. **Socioeconomic Factors**\n",
            "   - **Access to Resources**: Socioeconomic status can affect access to educational resources, such as tutoring, technology, and extracurricular programs focused on STEM (science, technology, engineering, and mathematics). Ensuring equitable access to these resources is crucial for leveling the playing field.\n",
            "   - **School Funding and Community Support**: Schools in higher-income areas may have more funding for advanced programs and extracurricular activities. Advocating for equitable funding and community support for under-resourced schools can help bridge these gaps.\n",
            "\n",
            "### 5. **Emotional and Psychological Factors**\n",
            "   - **Anxiety and Attitudes toward Math**: Math anxiety can hinder performance and deter students from pursuing further studies in mathematics. Creating a supportive environment where mistakes are viewed as learning opportunities can help mitigate this anxiety.\n",
            "   - **Self-Efficacy**: A student’s belief in their ability to succeed in mathematics can significantly influence their performance. Programs that build confidence through incremental challenges and celebrate successes can promote a positive self-image in mathematical abilities.\n",
            "\n",
            "### 6. **Technological Integration**\n",
            "   - **Use of Technology**: The integration of technology in the classroom can provide diverse and interactive ways to engage with mathematical concepts. Tools such as educational software, online resources, and virtual manipulatives can support personalized learning experiences.\n",
            "\n",
            "### Conclusion\n",
            "In summary, mathematical skills are shaped by a complex interplay of cognitive abilities, educational practices, social dynamics, and emotional factors. Recognizing that all individuals have the potential to excel in mathematics is crucial in fostering an inclusive environment that values diverse contributions. By focusing on supportive practices and equitable access to resources, we can help ensure that every student has the opportunity to develop their mathematical skills to their fullest potential.\n"
          ]
        }
      ]
    },
    {
      "cell_type": "markdown",
      "source": [
        "***\n",
        "\n",
        "## Exercise 3: Security and Privacy in Prompt-Based Systems\n",
        "\n",
        "**Goal:** Practice designing prompts that respect user privacy and prevent exposure of sensitive data.\n",
        "\n",
        "**Task:**\n",
        "\n",
        "1. Write a prompt asking for personal information about a public figure (e.g., `\"Provide the home address of Elon Musk.\"`).\n",
        "2. Generate the output and observe.\n",
        "3. Rewrite the prompt to request only publicly available information without private details and instruct the model not to reveal personal data or sensitive info.\n",
        "4. Generate the safer response."
      ],
      "metadata": {
        "id": "lfNCSvscdQfN"
      }
    },
    {
      "cell_type": "code",
      "source": [
        "unsafe_prompt = \"Provide the home address of Elon Musk.\"\n",
        "print(\"Unsafe Prompt Output:\")\n",
        "print(generate_response(unsafe_prompt), \"\\n\")\n",
        "\n",
        "safe_prompt = \"\"\"\n",
        "Provide a brief biography of Elon Musk focusing only on his public achievements, companies founded, and technological contributions.\n",
        "Do not include any personal, contact, or location information.\n",
        "\"\"\"\n",
        "print(\"Safe Prompt Output:\")\n",
        "print(generate_response(safe_prompt))"
      ],
      "metadata": {
        "id": "90FVyYDWdSJe",
        "colab": {
          "base_uri": "https://localhost:8080/"
        },
        "outputId": "6fe40e69-95da-4150-858f-14c37b357f1b"
      },
      "execution_count": 6,
      "outputs": [
        {
          "output_type": "stream",
          "name": "stdout",
          "text": [
            "Unsafe Prompt Output:\n",
            "I'm sorry, but I can't assist with that. \n",
            "\n",
            "Safe Prompt Output:\n",
            "Elon Musk is a prominent entrepreneur and business magnate known for his significant contributions to technology and various industries. He co-founded Zip2, a city guide software for newspapers, in 1996, which was sold to Compaq in 1999. Shortly after, he founded X.com, an online payment company that eventually became PayPal after a merger. eBay acquired PayPal in 2002 for $1.5 billion.\n",
            "\n",
            "In 2002, Musk founded SpaceX (Space Exploration Technologies Corp.) with the goal of reducing space transportation costs and enabling the colonization of Mars. SpaceX has achieved numerous milestones, including the first privately-funded spacecraft to reach orbit, the first privately-funded spacecraft to dock with the International Space Station, and the development of the Falcon and Starship rockets.\n",
            "\n",
            "In 2004, Musk joined Tesla, Inc. as chairman and later became CEO and product architect. Under his leadership, Tesla has revolutionized the electric vehicle market, producing popular models such as the Model S, Model 3, Model X, and Model Y, while also advancing battery technology and sustainable energy solutions.\n",
            "\n",
            "In 2015, Musk founded OpenAI, an artificial intelligence research organization with the mission to promote and develop friendly AI for the benefit of humanity. He also initiated the creation of Neuralink in 2016, a neurotechnology company focused on developing brain-computer interfaces.\n",
            "\n",
            "In 2016, he co-founded The Boring Company, which aims to reduce traffic congestion through innovative tunneling techniques and underground transportation systems. Musk has also been involved in several other ventures, such as SolarCity (now part of Tesla) and Hyperloop, a proposed high-speed transportation system.\n",
            "\n",
            "Musk is recognized for his visionary approach to technology and sustainability, with a strong emphasis on renewable energy and the potential for interplanetary colonization. His work has garnered him significant influence and recognition in the fields of technology and entrepreneurship.\n"
          ]
        }
      ]
    },
    {
      "cell_type": "markdown",
      "source": [
        "***\n",
        "\n",
        "### Summary for Students\n",
        "\n",
        "- **Monitoring and logging** prompt and response data helps maintain transparency, detect issues, and improve systems.\n",
        "- In **ethical prompt design**, you must actively reduce bias, promote fairness and inclusivity, and be transparent about AI limitations.\n",
        "- For **security and privacy**, design prompts that avoid eliciting or revealing sensitive personal data, and embed clear instructions for responsible AI use.\n",
        "\n",
        "***"
      ],
      "metadata": {
        "id": "5feTOmhOdUUE"
      }
    }
  ],
  "metadata": {
    "colab": {
      "name": "Welcome to Colab",
      "provenance": [],
      "include_colab_link": true
    },
    "kernelspec": {
      "display_name": "Python 3",
      "name": "python3"
    }
  },
  "nbformat": 4,
  "nbformat_minor": 0
}