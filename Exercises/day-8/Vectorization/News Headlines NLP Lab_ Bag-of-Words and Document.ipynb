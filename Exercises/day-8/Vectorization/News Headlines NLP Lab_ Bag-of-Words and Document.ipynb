{
  "nbformat": 4,
  "nbformat_minor": 0,
  "metadata": {
    "colab": {
      "provenance": [],
      "authorship_tag": "ABX9TyN+2iililNeDRyWoHueKa/l",
      "include_colab_link": true
    },
    "kernelspec": {
      "name": "python3",
      "display_name": "Python 3"
    },
    "language_info": {
      "name": "python"
    }
  },
  "cells": [
    {
      "cell_type": "markdown",
      "metadata": {
        "id": "view-in-github",
        "colab_type": "text"
      },
      "source": [
        "<a href=\"https://colab.research.google.com/github/appliedcode/mthree-c422/blob/mthree-c422-dipti/Exercises/day-8/Vectorization/News%20Headlines%20NLP%20Lab_%20Bag-of-Words%20and%20Document.ipynb\" target=\"_parent\"><img src=\"https://colab.research.google.com/assets/colab-badge.svg\" alt=\"Open In Colab\"/></a>"
      ]
    },
    {
      "cell_type": "markdown",
      "source": [
        "#News Headlines NLP Lab: Bag-of-Words and Document Similarity\n",
        "\n",
        "##Objective\n",
        "Analyze a collection of news headlines by building a Bag-of-Words representation to extract features, explore word frequency, and compute document similarity.\n",
        "\n",
        "\n",
        "###Dataset\n",
        "Use the following list of news headlines:\n",
        "\n",
        "headlines = [\n",
        "    \"AI outperforms doctors in diagnosing rare diseases\",\n",
        "\n",
        "    \"Stock markets hit new record highs amid global optimism\",\n",
        "    \"New vaccine shows promise in early trials\",\n",
        "    \"Climate change impacts agriculture across multiple continents\",\n",
        "    \"Scientists develop biodegradable plastic from seaweed\",\n",
        "    \"Sports teams adapt strategies with big data analytics\",\n",
        "    \"Electric vehicles set new sales record worldwide\",\n",
        "    \"Breakthrough in quantum computing boosts encryption security\"\n",
        "]\n",
        "\n",
        "\n",
        "###Tasks\n",
        "**Preprocessing**\n",
        "\n",
        "Write a function to lowercase all text, remove punctuation, and normalize whitespace in each headline.\n",
        "\n",
        "**Bag-of-Words Analysis**\n",
        "\n",
        "Use scikit-learn’s CountVectorizer with stop word removal and vocabulary limited to 50 words.\n",
        "\n",
        "Fit and transform the preprocessed headlines into a Bag-of-Words matrix.\n",
        "\n",
        "Display the vocabulary, shape, and sparsity of the matrix.\n",
        "\n",
        "**Word Frequency and Visualization**\n",
        "\n",
        "Compute total word frequency across all headlines.\n",
        "\n",
        "Plot the top 10 most frequent words using matplotlib or seaborn.\n",
        "\n",
        "**Document Similarity**\n",
        "\n",
        "Calculate cosine similarity between headline vectors.\n",
        "\n",
        "Display the similarity matrix in tabular form.\n",
        "\n",
        "Identify the two most similar headlines and explain their similarity based on\n",
        "shared vocabulary.\n",
        "\n",
        "##Deliverables\n",
        "A notebook implementing the preprocessing function and Bag-of-Words construction.\n",
        "\n",
        "Printed output showing vocabulary and matrix characteristics.\n",
        "\n",
        "A bar chart of the top 10 words by frequency.\n",
        "\n",
        "A similarity matrix with highlighted most similar headline pairs.\n",
        "\n",
        "A short commentary explaining the results.\n",
        "\n",
        "This exercise provides hands-on experience with core NLP techniques including text cleaning, feature extraction via Bag-of-Words, and comparing documents using cosine similarity on vectorized features."
      ],
      "metadata": {
        "id": "bkEjLt_9x16c"
      }
    },
    {
      "cell_type": "code",
      "execution_count": 1,
      "metadata": {
        "id": "Sh8-KmmQxziA"
      },
      "outputs": [],
      "source": [
        "!pip install --quiet scikit-learn seaborn\n"
      ]
    },
    {
      "cell_type": "code",
      "source": [
        "headlines = [\n",
        "    \"AI outperforms doctors in diagnosing rare diseases\",\n",
        "    \"Stock markets hit new record highs amid global optimism\",\n",
        "    \"New vaccine shows promise in early trials\",\n",
        "    \"Climate change impacts agriculture across multiple continents\",\n",
        "    \"Scientists develop biodegradable plastic from seaweed\",\n",
        "    \"Sports teams adapt strategies with big data analytics\",\n",
        "    \"Electric vehicles set new sales record worldwide\",\n",
        "    \"Breakthrough in quantum computing boosts encryption security\"\n",
        "]\n"
      ],
      "metadata": {
        "id": "b7yC75DZytJ0"
      },
      "execution_count": 2,
      "outputs": []
    },
    {
      "cell_type": "code",
      "source": [
        "import re\n",
        "\n",
        "def preprocess(text):\n",
        "    text = text.lower()\n",
        "    text = re.sub(r\"[^\\w\\s]\", \"\", text)  # remove punctuation\n",
        "    text = re.sub(r\"\\s+\", \" \", text)     # normalize whitespace\n",
        "    return text.strip()\n",
        "\n",
        "cleaned_headlines = [preprocess(h) for h in headlines]\n",
        "print(cleaned_headlines)\n"
      ],
      "metadata": {
        "colab": {
          "base_uri": "https://localhost:8080/"
        },
        "id": "BAmCQdd-yyCG",
        "outputId": "e674da88-7eb6-427e-a50d-6772f7c8fcc2"
      },
      "execution_count": 3,
      "outputs": [
        {
          "output_type": "stream",
          "name": "stdout",
          "text": [
            "['ai outperforms doctors in diagnosing rare diseases', 'stock markets hit new record highs amid global optimism', 'new vaccine shows promise in early trials', 'climate change impacts agriculture across multiple continents', 'scientists develop biodegradable plastic from seaweed', 'sports teams adapt strategies with big data analytics', 'electric vehicles set new sales record worldwide', 'breakthrough in quantum computing boosts encryption security']\n"
          ]
        }
      ]
    },
    {
      "cell_type": "code",
      "source": [
        "from sklearn.feature_extraction.text import CountVectorizer\n",
        "\n",
        "vectorizer = CountVectorizer(stop_words='english', max_features=50)\n",
        "X = vectorizer.fit_transform(cleaned_headlines)\n",
        "\n",
        "# Vocabulary\n",
        "vocab = vectorizer.get_feature_names_out()\n",
        "print(\"Vocabulary:\", vocab)\n",
        "\n",
        "# Matrix shape and sparsity\n",
        "print(\"BoW Matrix shape:\", X.shape)\n",
        "print(\"Sparsity: {:.2f}%\".format(100.0 * (1.0 - X.nnz / (X.shape[0] * X.shape[1]))))\n"
      ],
      "metadata": {
        "colab": {
          "base_uri": "https://localhost:8080/"
        },
        "id": "5lWbGFEky0zk",
        "outputId": "b4f97dbe-decf-474f-e5fe-a9e624b1c4ea"
      },
      "execution_count": 4,
      "outputs": [
        {
          "output_type": "stream",
          "name": "stdout",
          "text": [
            "Vocabulary: ['adapt' 'agriculture' 'ai' 'amid' 'analytics' 'big' 'biodegradable'\n",
            " 'boosts' 'breakthrough' 'change' 'climate' 'computing' 'continents'\n",
            " 'data' 'develop' 'diagnosing' 'diseases' 'doctors' 'early' 'electric'\n",
            " 'encryption' 'global' 'highs' 'hit' 'impacts' 'markets' 'multiple' 'new'\n",
            " 'optimism' 'outperforms' 'plastic' 'promise' 'quantum' 'rare' 'record'\n",
            " 'sales' 'scientists' 'seaweed' 'security' 'set' 'shows' 'sports' 'stock'\n",
            " 'strategies' 'teams' 'trials' 'vaccine' 'vehicles' 'worldwide']\n",
            "BoW Matrix shape: (8, 49)\n",
            "Sparsity: 86.73%\n"
          ]
        }
      ]
    },
    {
      "cell_type": "code",
      "source": [
        "import numpy as np\n",
        "import matplotlib.pyplot as plt\n",
        "import seaborn as sns\n",
        "\n",
        "# Total frequency\n",
        "word_counts = np.asarray(X.sum(axis=0)).flatten()\n",
        "word_freq = dict(zip(vocab, word_counts))\n",
        "\n",
        "# Top 10 words\n",
        "top_words = sorted(word_freq.items(), key=lambda x: x[1], reverse=True)[:10]\n",
        "words, counts = zip(*top_words)\n",
        "\n",
        "# Plot\n",
        "plt.figure(figsize=(10,6))\n",
        "sns.barplot(x=list(words), y=list(counts), palette='viridis')\n",
        "plt.title(\"Top 10 Most Frequent Words\")\n",
        "plt.xlabel(\"Words\")\n",
        "plt.ylabel(\"Frequency\")\n",
        "plt.show()\n"
      ],
      "metadata": {
        "colab": {
          "base_uri": "https://localhost:8080/",
          "height": 671
        },
        "id": "HGb_enbUy4Dg",
        "outputId": "cce004f9-ba7f-4d58-d596-7902c35c0ab6"
      },
      "execution_count": 5,
      "outputs": [
        {
          "output_type": "stream",
          "name": "stderr",
          "text": [
            "/tmp/ipython-input-811330242.py:15: FutureWarning: \n",
            "\n",
            "Passing `palette` without assigning `hue` is deprecated and will be removed in v0.14.0. Assign the `x` variable to `hue` and set `legend=False` for the same effect.\n",
            "\n",
            "  sns.barplot(x=list(words), y=list(counts), palette='viridis')\n"
          ]
        },
        {
          "output_type": "display_data",
          "data": {
            "text/plain": [
              "<Figure size 1000x600 with 1 Axes>"
            ],
            "image/png": "[encoded data removed]"
          },
          "metadata": {}
        }
      ]
    },
    {
      "cell_type": "code",
      "source": [
        "from sklearn.metrics.pairwise import cosine_similarity\n",
        "import pandas as pd\n",
        "\n",
        "similarity_matrix = cosine_similarity(X)\n",
        "\n",
        "# Create a DataFrame for display\n",
        "sim_df = pd.DataFrame(similarity_matrix, index=range(1,9), columns=range(1,9))\n",
        "print(\"Cosine Similarity Matrix:\\n\")\n",
        "print(sim_df.round(2))\n"
      ],
      "metadata": {
        "colab": {
          "base_uri": "https://localhost:8080/"
        },
        "id": "YrOtfYIJy88O",
        "outputId": "5cb34d39-9f6f-4bc7-f404-ab3b3e39925d"
      },
      "execution_count": 6,
      "outputs": [
        {
          "output_type": "stream",
          "name": "stdout",
          "text": [
            "Cosine Similarity Matrix:\n",
            "\n",
            "     1     2     3    4    5    6     7    8\n",
            "1  1.0  0.00  0.00  0.0  0.0  0.0  0.00  0.0\n",
            "2  0.0  1.00  0.14  0.0  0.0  0.0  0.25  0.0\n",
            "3  0.0  0.14  1.00  0.0  0.0  0.0  0.15  0.0\n",
            "4  0.0  0.00  0.00  1.0  0.0  0.0  0.00  0.0\n",
            "5  0.0  0.00  0.00  0.0  1.0  0.0  0.00  0.0\n",
            "6  0.0  0.00  0.00  0.0  0.0  1.0  0.00  0.0\n",
            "7  0.0  0.25  0.15  0.0  0.0  0.0  1.00  0.0\n",
            "8  0.0  0.00  0.00  0.0  0.0  0.0  0.00  1.0\n"
          ]
        }
      ]
    },
    {
      "cell_type": "code",
      "source": [
        "import numpy as np\n",
        "\n",
        "# Ignore diagonal\n",
        "np.fill_diagonal(similarity_matrix, 0)\n",
        "max_sim_idx = np.unravel_index(np.argmax(similarity_matrix), similarity_matrix.shape)\n",
        "\n",
        "print(f\"\\nMost similar headlines are:\")\n",
        "print(f\"[{max_sim_idx[0]+1}]: {headlines[max_sim_idx[0]]}\")\n",
        "print(f\"[{max_sim_idx[1]+1}]: {headlines[max_sim_idx[1]]}\")\n"
      ],
      "metadata": {
        "colab": {
          "base_uri": "https://localhost:8080/"
        },
        "id": "ggNvKYk1y_Zs",
        "outputId": "c3be6d47-dd58-45c3-c059-7895c57e7eca"
      },
      "execution_count": 7,
      "outputs": [
        {
          "output_type": "stream",
          "name": "stdout",
          "text": [
            "\n",
            "Most similar headlines are:\n",
            "[2]: Stock markets hit new record highs amid global optimism\n",
            "[7]: Electric vehicles set new sales record worldwide\n"
          ]
        }
      ]
    }
  ]
}