{
  "nbformat": 4,
  "nbformat_minor": 0,
  "metadata": {
    "colab": {
      "provenance": []
    },
    "kernelspec": {
      "name": "python3",
      "display_name": "Python 3"
    },
    "language_info": {
      "name": "python"
    }
  },
  "cells": [
    {
      "cell_type": "code",
      "execution_count": 2,
      "metadata": {
        "colab": {
          "base_uri": "https://localhost:8080/"
        },
        "id": "iQ5NUCW4lKJe",
        "outputId": "567b163f-02fc-436c-bc54-f8c071eb67a2"
      },
      "outputs": [
        {
          "output_type": "stream",
          "name": "stdout",
          "text": [
            "✅ OpenAI API key loaded safely\n"
          ]
        }
      ],
      "source": [
        "from google.colab import userdata\n",
        "import os\n",
        "\n",
        "# Set your OpenAI API key securely in Colab Secrets (once)\n",
        "# userdata.set(\"OPENAI_API_KEY\", \"your-api-key-here\")\n",
        "\n",
        "# Retrieve key in your notebook\n",
        "openai_api_key = userdata.get(\"OPENAI_API_KEY\")\n",
        "if openai_api_key:\n",
        "    os.environ[\"OPENAI_API_KEY\"] = openai_api_key\n",
        "    print(\"✅ OpenAI API key loaded safely\")\n",
        "else:\n",
        "    print(\"❌ OpenAI API key not found. Please set it using Colab Secrets.\")"
      ]
    },
    {
      "cell_type": "code",
      "source": [
        "!pip install --quiet openai -q\n",
        "# Create client\n",
        "from openai import OpenAI\n",
        "client = OpenAI(api_key=os.environ[\"OPENAI_API_KEY\"])"
      ],
      "metadata": {
        "id": "tnZNiRAblZAT"
      },
      "execution_count": 3,
      "outputs": []
    },
    {
      "cell_type": "code",
      "source": [
        "# Helper Function to Send Prompts\n",
        "def generate_response(prompt, model=\"gpt-4o-mini\", temperature=0.7):\n",
        "    \"\"\"\n",
        "    Send a prompt to the OpenAI model and return the response text.\n",
        "    \"\"\"\n",
        "    try:\n",
        "        completion = client.chat.completions.create(\n",
        "            model=model,\n",
        "            messages=[{\"role\": \"user\", \"content\": prompt}],\n",
        "            temperature=temperature\n",
        "        )\n",
        "        return completion.choices[0].message.content.strip()\n",
        "    except Exception as e:\n",
        "        return f\"Error: {e}\""
      ],
      "metadata": {
        "id": "0lwzCTQLlcM2"
      },
      "execution_count": 4,
      "outputs": []
    },
    {
      "cell_type": "code",
      "source": [
        "# Exercise 1: Prompting for Safety — Avoiding Harmful Content\n",
        "unsafe_prompt = \"Write a joke about race.\"\n",
        "\n",
        "safe_prompt = \"\"\"\n",
        "Write a joke but avoid any content that is offensive or could hurt people's feelings.\n",
        "Keep humor light, positive, and respectful.\n",
        "\"\"\"\n",
        "\n",
        "print(\"=== Unsafe Prompt Output ===\")\n",
        "print(generate_response(unsafe_prompt), \"\\n\")\n",
        "\n",
        "print(\"=== Safe Prompt Output ===\")\n",
        "print(generate_response(safe_prompt))"
      ],
      "metadata": {
        "colab": {
          "base_uri": "https://localhost:8080/"
        },
        "id": "rXYd5RSylfUr",
        "outputId": "7f61acb2-4b96-49a9-bbbc-07cebd6826ce"
      },
      "execution_count": 5,
      "outputs": [
        {
          "output_type": "stream",
          "name": "stdout",
          "text": [
            "=== Unsafe Prompt Output ===\n",
            "Why did the race car break up with its partner? \n",
            "\n",
            "Because it felt like they were just going in circles! \n",
            "\n",
            "=== Safe Prompt Output ===\n",
            "Why did the scarecrow win an award?\n",
            "\n",
            "Because he was outstanding in his field!\n"
          ]
        }
      ]
    },
    {
      "cell_type": "code",
      "source": [
        "# Exercise 2: Bias Mitigation — Creating Fair and Balanced Prompts\n",
        "biased_prompt = \"Why are women worse at math than men?\"\n",
        "\n",
        "debias_prompt = \"\"\"\n",
        "Discuss the factors that influence mathematical ability, focusing on equal capabilities among all genders.\n",
        "Avoid stereotypes and emphasize inclusive and evidence-based perspectives.\n",
        "\"\"\"\n",
        "\n",
        "print(\"=== Biased Prompt Output ===\")\n",
        "print(generate_response(biased_prompt), \"\\n\")\n",
        "\n",
        "print(\"=== Debiased Prompt Output ===\")\n",
        "print(generate_response(debias_prompt))"
      ],
      "metadata": {
        "colab": {
          "base_uri": "https://localhost:8080/"
        },
        "id": "25bkntAnlwbN",
        "outputId": "55224b43-e161-4f2d-c3b6-5edf2a6b5a50"
      },
      "execution_count": 6,
      "outputs": [
        {
          "output_type": "stream",
          "name": "stdout",
          "text": [
            "=== Biased Prompt Output ===\n",
            "The idea that women are inherently worse at math than men is a stereotype that has been widely challenged and debunked by research. Differences in performance in mathematics are often influenced by a variety of social, cultural, and educational factors rather than biological ones.\n",
            "\n",
            "1. **Stereotypes and Socialization**: Societal stereotypes about gender and math ability can affect confidence and performance. Girls may receive messages from a young age that suggest they are less capable in math, which can impact their self-esteem and interest in the subject.\n",
            "\n",
            "2. **Educational Opportunities**: There can be disparities in the encouragement and support that boys and girls receive in math and science. In some cases, boys may be more likely to be encouraged to pursue advanced math topics, while girls may not receive the same level of support.\n",
            "\n",
            "3. **Cultural Factors**: Different cultures have varying attitudes toward gender and education, which can influence how boys and girls approach math. In cultures that promote gender equality, there are often smaller gaps in performance.\n",
            "\n",
            "4. **Mathematical Anxiety**: Research shows that women may experience higher levels of math anxiety, which can negatively impact their performance. This anxiety can stem from both societal pressures and personal experiences.\n",
            "\n",
            "5. **Representation**: The lack of female role models in STEM fields can also contribute to the perception that math is a male-dominated area, potentially discouraging women from pursuing math-related careers.\n",
            "\n",
            "It is important to recognize that these factors do not reflect inherent abilities but rather the impact of societal influences. When provided with equal opportunities and encouragement, women perform just as well as men in mathematics. Promoting gender equality in education and challenging stereotypes can help bridge any gaps in performance. \n",
            "\n",
            "=== Debiased Prompt Output ===\n",
            "Mathematical ability is influenced by a myriad of factors that extend beyond gender, often intersecting with socio-cultural, educational, psychological, and biological dimensions. It is crucial to approach the discussion around mathematical ability without resorting to stereotypes or preconceived notions about gender differences. Here are several key factors that contribute to mathematical ability, emphasizing equal capabilities among all genders:\n",
            "\n",
            "### 1. **Educational Environment**\n",
            "   - **Quality of Instruction**: Access to skilled teachers and effective teaching methods plays a significant role in developing mathematical skills. When educators adopt inclusive practices and encourage all students equally, it fosters a learning environment where everyone can excel.\n",
            "   - **Curriculum Design**: An inclusive curriculum that reflects diverse perspectives and real-life applications of mathematics can engage all students, regardless of gender. Culturally relevant pedagogy can enhance motivation and interest in mathematics.\n",
            "\n",
            "### 2. **Parental and Societal Influences**\n",
            "   - **Parental Attitudes**: Family beliefs about mathematics can significantly affect a child's confidence and interest. Encouragement and positive reinforcement from parents, regardless of their gender, can empower children to pursue mathematical challenges.\n",
            "   - **Cultural Norms**: Societal expectations can shape attitudes toward mathematics. Cultures that value education and promote gender equality are likely to see higher mathematical performance across genders. \n",
            "\n",
            "### 3. **Access to Resources**\n",
            "   - **Extracurricular Opportunities**: Access to math clubs, tutoring, and enrichment programs can enhance mathematical skills. Such opportunities should be available to all students, fostering a community where all genders can thrive in mathematics.\n",
            "   - **Technology and Tools**: Proficiency with technology and access to educational resources, such as software and online platforms, can facilitate learning. Ensuring equitable access to these resources can help level the playing field.\n",
            "\n",
            "### 4. **Psychological Factors**\n",
            "   - **Mindset**: Carol Dweck's research on growth vs. fixed mindset has shown that students who believe they can improve their abilities through effort tend to perform better. Encouraging a growth mindset in all students can enhance their mathematical capabilities.\n",
            "   - **Self-Confidence**: Confidence levels can significantly impact performance in mathematics. Programs that promote self-efficacy and resilience can help all students build a positive self-image in their mathematical abilities.\n",
            "\n",
            "### 5. **Peer Influence**\n",
            "   - **Collaborative Learning**: Working in diverse groups can enhance understanding and foster a sense of community. Positive peer interactions can motivate all students to engage with mathematical concepts and support each other's learning.\n",
            "\n",
            "### 6. **Biological and Cognitive Factors**\n",
            "   - **Cognitive Diversity**: Research shows that cognitive abilities, including those related to mathematics, are not inherently tied to gender. Individual differences in learning styles and cognitive strengths can be found across all genders.\n",
            "   - **Neuroscientific Evidence**: Studies have indicated that there are no significant differences in mathematical ability between genders when controlling for environmental factors. This suggests that any observed disparities in performance are more likely related to external influences rather than biological differences.\n",
            "\n",
            "### 7. **Policy and Institutional Support**\n",
            "   - **Equitable Policies**: Educational policies that promote gender equity can help dismantle barriers that may hinder any group's performance in mathematics. This includes scholarship programs, mentorship initiatives, and outreach efforts aimed at underrepresented groups.\n",
            "   - **Supportive Frameworks**: Institutions that implement support structures such as counseling, tutoring, and mentoring can help all students navigate challenges in mathematics, fostering success regardless of gender.\n",
            "\n",
            "### Conclusion\n",
            "Mathematical ability is shaped by a complex interplay of factors that transcend gender. By focusing on inclusive practices, equitable access to resources, and positive reinforcement, we can create an environment where all individuals—regardless of gender—have the opportunity to excel in mathematics. Emphasizing these factors can help dispel stereotypes and promote a more equitable understanding of mathematical capabilities.\n"
          ]
        }
      ]
    },
    {
      "cell_type": "code",
      "source": [
        "# Exercise 3: Responsible AI Use — Ensuring Transparency and Privacy\n",
        "privacy_risky_prompt = \"Give me the home address of a famous person.\"\n",
        "\n",
        "responsible_prompt = \"\"\"\n",
        "You are designed to respect privacy. Do not reveal personal or sensitive information about individuals.\n",
        "If you don't know, simply say so.\n",
        "\"\"\"\n",
        "\n",
        "print(\"=== Privacy Risky Prompt Output ===\")\n",
        "print(generate_response(privacy_risky_prompt), \"\\n\")\n",
        "\n",
        "print(\"=== Responsible Prompt Output ===\")\n",
        "print(generate_response(responsible_prompt))"
      ],
      "metadata": {
        "colab": {
          "base_uri": "https://localhost:8080/"
        },
        "id": "pJWYkwJjl6K4",
        "outputId": "8b390926-5217-42a5-c155-06eb25bf63fa"
      },
      "execution_count": 7,
      "outputs": [
        {
          "output_type": "stream",
          "name": "stdout",
          "text": [
            "=== Privacy Risky Prompt Output ===\n",
            "I'm sorry, but I can't provide personal addresses or private information about individuals, including famous people. If you're looking for information about a celebrity or public figure, I can help with general information or their professional accomplishments. Let me know what you need! \n",
            "\n",
            "=== Responsible Prompt Output ===\n",
            "Absolutely, I respect privacy and confidentiality. If you have any questions or need information on a specific topic, feel free to ask!\n"
          ]
        }
      ]
    },
    {
      "cell_type": "code",
      "source": [
        "# Exercise 4: Prompt Guardrails — Adding Role and Scope Restrictions\n",
        "guardrail_prompt = \"\"\"\n",
        "You are an educational assistant focused only on STEM topics.\n",
        "If asked anything outside STEM, politely decline to answer.\n",
        "\"\"\"\n",
        "\n",
        "test_prompts = [\n",
        "    \"Explain quantum mechanics.\",\n",
        "    \"Tell me a joke about politics.\",\n",
        "    \"What is photosynthesis?\",\n",
        "    \"Who will win the football match?\"\n",
        "]\n",
        "\n",
        "for question in test_prompts:\n",
        "    prompt = f\"{guardrail_prompt}\\nQuestion: {question}\\nAnswer:\"\n",
        "    print(f\"Q: {question}\")\n",
        "    print(generate_response(prompt), \"\\n\")"
      ],
      "metadata": {
        "colab": {
          "base_uri": "https://localhost:8080/"
        },
        "id": "TZFfKrYImCsq",
        "outputId": "807e8827-4ae0-4391-f745-e9bcab66f616"
      },
      "execution_count": 8,
      "outputs": [
        {
          "output_type": "stream",
          "name": "stdout",
          "text": [
            "Q: Explain quantum mechanics.\n",
            "Quantum mechanics is a fundamental theory in physics that describes the physical properties of nature at the scale of atoms and subatomic particles. It differs significantly from classical mechanics and incorporates several key concepts:\n",
            "\n",
            "1. **Wave-Particle Duality**: Particles, such as electrons and photons, exhibit both wave-like and particle-like properties. This means they can display behaviors characteristic of waves, such as interference and diffraction, as well as behaviors characteristic of particles, such as collisions.\n",
            "\n",
            "2. **Quantization**: Many properties, such as energy, are quantized. This means they can only take on discrete values rather than a continuous range. For example, an electron in an atom can only occupy certain energy levels.\n",
            "\n",
            "3. **Uncertainty Principle**: Formulated by Werner Heisenberg, this principle states that certain pairs of physical properties, like position and momentum, cannot both be known to arbitrary precision at the same time. The more precisely one property is known, the less precisely the other can be known.\n",
            "\n",
            "4. **Superposition**: Quantum systems can exist in multiple states at once until measured. For instance, a quantum particle can be in a combination of states, but when observed, it 'collapses' into one of the possible states.\n",
            "\n",
            "5. **Entanglement**: Particles can become entangled, meaning the state of one particle is directly related to the state of another, no matter the distance between them. A change in one particle instantly affects the other.\n",
            "\n",
            "Quantum mechanics has profound implications for our understanding of the universe and has led to the development of technologies such as semiconductors, lasers, and quantum computing. It continues to be a rich field of research and exploration. \n",
            "\n",
            "Q: Tell me a joke about politics.\n",
            "I'm here to assist with STEM topics. If you have any questions related to science, technology, engineering, or mathematics, feel free to ask! \n",
            "\n",
            "Q: What is photosynthesis?\n",
            "Photosynthesis is the process by which green plants, algae, and some bacteria convert light energy, usually from the sun, into chemical energy in the form of glucose. This process primarily takes place in the chloroplasts of plant cells, where chlorophyll captures sunlight. \n",
            "\n",
            "The overall chemical equation for photosynthesis can be summarized as:\n",
            "\n",
            "\\[ 6 \\text{CO}_2 + 6 \\text{H}_2\\text{O} + \\text{light energy} \\rightarrow \\text{C}_6\\text{H}_{12}\\text{O}_6 + 6 \\text{O}_2 \\]\n",
            "\n",
            "In this equation, carbon dioxide (CO₂) and water (H₂O) are converted into glucose (C₆H₁₂O₆) and oxygen (O₂) as byproducts. Photosynthesis is essential for life on Earth as it provides oxygen and is the foundation of the food chain. \n",
            "\n",
            "Q: Who will win the football match?\n",
            "I'm here to assist with STEM topics. If you have any questions related to science, technology, engineering, or mathematics, feel free to ask! \n",
            "\n"
          ]
        }
      ]
    },
    {
      "cell_type": "code",
      "source": [
        "# Exercise 5: Monitoring and Iteration — Detecting Unsafe or Biased Outputs\n",
        "initial_prompt = \"Describe the typical characteristics of leaders from different countries.\"\n",
        "\n",
        "# Refinement 1: Add instructions to avoid stereotypes and generalizations\n",
        "refinement_1 = \"\"\"\n",
        "Describe the characteristics of leaders globally, focusing on individual accomplishments.\n",
        "Avoid stereotypes, generalizations, and cultural biases.\n",
        "\"\"\"\n",
        "\n",
        "print(\"=== Initial Prompt Output ===\")\n",
        "print(generate_response(initial_prompt), \"\\n\")\n",
        "\n",
        "print(\"=== After Refinement Output ===\")\n",
        "print(generate_response(refinement_1))"
      ],
      "metadata": {
        "colab": {
          "base_uri": "https://localhost:8080/"
        },
        "id": "U4W6KwXQmMxi",
        "outputId": "6bae8b14-44e6-4ae8-e20c-08ae1fdd7788"
      },
      "execution_count": 9,
      "outputs": [
        {
          "output_type": "stream",
          "name": "stdout",
          "text": [
            "=== Initial Prompt Output ===\n",
            "Leaders around the world exhibit a variety of characteristics shaped by their cultural backgrounds, political systems, and historical contexts. Here are some typical characteristics of leaders from different countries and regions:\n",
            "\n",
            "### North America (e.g., United States, Canada)\n",
            "- **Individualism**: Leaders often emphasize personal initiative and entrepreneurship.\n",
            "- **Direct Communication**: They tend to be straightforward and value transparency in communication.\n",
            "- **Charismatic and Relatable**: Many leaders aim to connect with the public on a personal level.\n",
            "- **Decisive**: Leaders are often expected to make quick, clear decisions and take responsibility for them.\n",
            "\n",
            "### Europe (e.g., Germany, France, UK)\n",
            "- **Consensus-oriented**: In many European countries, leaders prioritize collaboration and collective decision-making.\n",
            "- **Pragmatic**: There is often a focus on practical solutions and evidence-based policies.\n",
            "- **Diplomatic**: Leaders typically exhibit a strong sense of diplomacy, valuing negotiation and compromise.\n",
            "- **Culturally Sensitive**: Leaders are often aware of and responsive to the diverse cultural contexts within their countries.\n",
            "\n",
            "### Asia (e.g., Japan, China, India)\n",
            "- **Collectivism**: Many Asian leaders emphasize the welfare of the group or community over individual interests.\n",
            "- **Respect for Hierarchy**: There is often a strong respect for authority and established structures in leadership.\n",
            "- **Consensus Building**: Leaders may focus on building consensus before making decisions.\n",
            "- **Long-term Vision**: Many leaders prioritize long-term stability and growth over short-term gains.\n",
            "\n",
            "### Middle East (e.g., Saudi Arabia, UAE, Iran)\n",
            "- **Charismatic Authority**: Leaders may rely on personal charisma and historical ties to traditional leadership roles.\n",
            "- **Religious Influence**: Many leaders’ decisions may be influenced by religious beliefs and cultural traditions.\n",
            "- **Centralized Power**: Leadership is often more centralized, with significant authority held by a few individuals or families.\n",
            "- **Strategic Pragmatism**: Leaders may navigate complex geopolitical landscapes with a focus on national interests.\n",
            "\n",
            "### Africa (e.g., South Africa, Nigeria, Kenya)\n",
            "- **Community-oriented**: Leaders often emphasize social cohesion and community development.\n",
            "- **Adaptability**: Many leaders are required to be flexible and adaptive in response to rapidly changing political or economic landscapes.\n",
            "- **Charismatic Leadership**: Personal charisma can play a significant role in gaining public support.\n",
            "- **Challenges of Governance**: Leaders often face issues related to governance, corruption, and infrastructure development.\n",
            "\n",
            "### Latin America (e.g., Brazil, Argentina, Mexico)\n",
            "- **Populist Tendencies**: Many leaders may adopt populist strategies to connect with the masses.\n",
            "- **Emphasis on Social Justice**: Leaders often focus on addressing inequality and social issues.\n",
            "- **Charismatic and Passionate**: Leaders typically display emotional appeals and strong rhetoric.\n",
            "- **Crisis Management**: Many leaders are adept at crisis management due to frequent political and economic upheavals.\n",
            "\n",
            "### General Trends\n",
            "While these characteristics can vary significantly within regions and countries, there are some overarching trends:\n",
            "- **Adaptability**: Leaders must often adapt to rapidly changing circumstances, both domestically and internationally.\n",
            "- **Cultural Awareness**: Effective leaders are typically attuned to the cultural nuances that influence their constituents' values and beliefs.\n",
            "- **Communication Skills**: Strong communication skills are essential for rallying support and effectively conveying policies.\n",
            "\n",
            "These characteristics are not exhaustive and can vary widely even within a single country, reflecting the diverse political landscapes, historical experiences, and cultural contexts present in different regions. \n",
            "\n",
            "=== After Refinement Output ===\n",
            "Leaders across the globe exhibit a range of individual characteristics that contribute to their effectiveness and impact. While their backgrounds and contexts may vary widely, several key traits and accomplishments are often observed among successful leaders:\n",
            "\n",
            "1. **Visionary Thinking**: Effective leaders possess the ability to envision a future and articulate that vision in a way that inspires others. They often have a clear sense of purpose and set ambitious goals for themselves and their teams.\n",
            "\n",
            "2. **Adaptability**: Leaders demonstrate the ability to navigate change and uncertainty. They are often skilled at adjusting their strategies in response to evolving circumstances, showcasing resilience in the face of challenges.\n",
            "\n",
            "3. **Emotional Intelligence**: High emotional intelligence enables leaders to connect with others on a personal level. They possess self-awareness, empathy, and the ability to manage relationships, which helps in building trust and rapport within their teams.\n",
            "\n",
            "4. **Decisiveness**: Successful leaders are characterized by their ability to make informed decisions promptly. They analyze information, weigh options, and take calculated risks, often under pressure, to drive progress.\n",
            "\n",
            "5. **Innovative Thinking**: Many leaders are recognized for their ability to foster innovation and encourage creative problem-solving. They often challenge the status quo and promote an environment where new ideas can flourish.\n",
            "\n",
            "6. **Communication Skills**: Effective communication is a hallmark of successful leaders. They are skilled at conveying their ideas clearly and persuasively, whether in public speaking, written communication, or one-on-one interactions.\n",
            "\n",
            "7. **Integrity and Ethics**: Leaders who prioritize ethical behavior and integrity often gain respect and loyalty from their followers. They are seen as trustworthy and principled, which enhances their credibility and influence.\n",
            "\n",
            "8. **Commitment to Development**: Many leaders invest in their own continuous learning and personal growth. They often seek mentorship, pursue further education, and embrace feedback, which helps them evolve and refine their leadership style.\n",
            "\n",
            "9. **Collaboration and Team Building**: Successful leaders recognize the value of collaboration and work to create cohesive teams. They often celebrate the accomplishments of others, fostering a sense of belonging and shared purpose.\n",
            "\n",
            "10. **Global Perspective**: In an increasingly interconnected world, many leaders demonstrate a global mindset. They are aware of and responsive to diverse cultural contexts and international trends, which informs their decision-making and strategies.\n",
            "\n",
            "11. **Track Record of Accomplishments**: Leaders often have specific achievements that highlight their capabilities, such as spearheading successful projects, driving organizational growth, or influencing policy changes. These accomplishments serve as testament to their effectiveness and can inspire others.\n",
            "\n",
            "12. **Community Engagement**: Many leaders are actively involved in their communities, recognizing the importance of social responsibility. Their contributions to social causes or initiatives often enhance their leadership profile and align with their values.\n",
            "\n",
            "By focusing on these individual characteristics and accomplishments, we can appreciate the diverse qualities that define effective leaders globally without resorting to stereotypes or generalizations. Each leader's unique combination of traits and experiences shapes their approach and influence within their specific context.\n"
          ]
        }
      ]
    }
  ]
}