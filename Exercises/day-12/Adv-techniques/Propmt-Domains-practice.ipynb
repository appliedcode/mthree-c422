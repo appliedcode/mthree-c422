{
  "nbformat": 4,
  "nbformat_minor": 0,
  "metadata": {
    "colab": {
      "provenance": [],
      "authorship_tag": "ABX9TyNB7LAYGohw/aEM3/ARn3P2",
      "include_colab_link": true
    },
    "kernelspec": {
      "name": "python3",
      "display_name": "Python 3"
    },
    "language_info": {
      "name": "python"
    }
  },
  "cells": [
    {
      "cell_type": "markdown",
      "metadata": {
        "id": "view-in-github",
        "colab_type": "text"
      },
      "source": [
        "<a href=\"https://colab.research.google.com/github/appliedcode/mthree-c422/blob/mthree-422-salleh/Exercises/day-12/Adv-techniques/Propmt-Domains-practice.ipynb\" target=\"_parent\"><img src=\"https://colab.research.google.com/assets/colab-badge.svg\" alt=\"Open In Colab\"/></a>"
      ]
    },
    {
      "cell_type": "markdown",
      "source": [
        "## **Self‑Practice Problem Statements – Prompt Engineering for Specific Domains**\n",
        "\n",
        "\n",
        "***\n",
        "\n",
        "### **Section 1 – Chatbots**\n",
        "\n",
        "**Problem 1 – Personality \\& Tone Control**\n",
        "\n",
        "- Create a chatbot that acts as a **travel advisor** for budget backpackers.\n",
        "- Requirements:\n",
        "    - Friendly tone\n",
        "    - Give concise travel tips\n",
        "    - Offer suggestions for cheap accommodations in any given country\n",
        "- Test it by asking about **3 different destinations** and see if the tone remains consistent.\n",
        "\n",
        "**Problem 2 – Few‑Shot Chatbot Training**\n",
        "\n",
        "- Build a customer support chatbot for an **online bookstore** using **few-shot examples**.\n",
        "- Include at least **3 Q\\&A examples** before the real question.\n",
        "- Test it with a query not present in your examples to see if it responds in the correct style.\n",
        "\n",
        "***\n",
        "\n",
        "### **Section 2 – Summarization**\n",
        "\n",
        "**Problem 3 – Multi-Format Summaries**\n",
        "\n",
        "- Take a news article or Wikipedia entry.\n",
        "- First, create:\n",
        "\n",
        "1. A **2-sentence concise summary**.\n",
        "2. A **5-bullet key facts summary**.\n",
        "3. A **child-friendly 3-sentence summary**.\n",
        "- Observe how the same source produces different outputs based on prompt instructions.\n",
        "\n",
        "**Problem 4 – Focused Summarization**\n",
        "\n",
        "- Choose a long technical blog post.\n",
        "- Produce a summary that:\n",
        "    - Omits introduction and unrelated details\n",
        "    - Focuses **only** on \"challenges\" discussed in the article.\n",
        "\n",
        "***\n",
        "\n",
        "### **Section 3 – Coding**\n",
        "\n",
        "**Problem 5 – Multi-Language Code Generation**\n",
        "\n",
        "- Prompt the AI to create a **Fibonacci sequence generator**:\n",
        "    - In **Python**\n",
        "    - In **JavaScript**\n",
        "    - In **Java**\n",
        "- For each, instruct the AI to **add code comments** and **a sample run**.\n",
        "\n",
        "**Problem 6 – Algorithm with Performance Requirement**\n",
        "\n",
        "- Write a prompt that asks the AI to implement **binary search**:\n",
        "    - In Python\n",
        "    - Must handle both sorted ascending and descending arrays\n",
        "    - Include **unit test code**.\n",
        "\n",
        "***\n",
        "\n",
        "### **Section 4 – Data Extraction**\n",
        "\n",
        "**Problem 7 – JSON Output Extraction**\n",
        "\n",
        "- Give the AI a paragraph describing multiple people with names, job titles, and emails.\n",
        "- Prompt it to return a **JSON list of objects** with `name`, `title`, and `email` keys.\n",
        "- Ensure the output is **pure JSON** with no extra text.\n",
        "\n",
        "**Problem 8 – Sentiment \\& Keyword Extraction**\n",
        "\n",
        "- Take a set of **3 user product reviews** (mix of positive, neutral, negative).\n",
        "- Prompt the AI to return:\n",
        "    - Reviewer name\n",
        "    - Sentiment (positive/neutral/negative)\n",
        "    - 5 keywords describing the review content\n",
        "- Output format: **CSV or JSON**.\n",
        "\n",
        "***\n",
        "\n",
        "### **Student Instructions**\n",
        "\n",
        "For each problem:\n",
        "\n",
        "1. **Start with a baseline prompt** and run it.\n",
        "2. If the result is incomplete or off-target, **refine** by:\n",
        "    - Adding role instructions\n",
        "    - Specifying output format\n",
        "    - Giving examples (few-shot prompting)\n",
        "3. Compare initial and refined outputs — write **2–3 sentence observations** for each.\n",
        "\n",
        "***"
      ],
      "metadata": {
        "id": "f5DNfu2gqEm4"
      }
    },
    {
      "cell_type": "code",
      "execution_count": null,
      "metadata": {
        "id": "P0AkUJ5dp1iX"
      },
      "outputs": [],
      "source": [
        "from google.colab import userdata\n",
        "import os\n",
        "\n",
        "# Set your OpenAI API key securely in Colab Secrets (once)\n",
        "# userdata.set(\"OPENAI_API_KEY\", \"your-api-key-here\")\n",
        "\n",
        "# Retrieve key in your notebook\n",
        "openai_api_key = userdata.get(\"OPENAI_API_KEY\")\n",
        "if openai_api_key:\n",
        "    os.environ[\"OPENAI_API_KEY\"] = openai_api_key\n",
        "    print(\"✅ OpenAI API key loaded safely\")\n",
        "else:\n",
        "    print(\"❌ OpenAI API key not found. Please set it using Colab Secrets.\")"
      ]
    },
    {
      "cell_type": "code",
      "source": [
        "!pip install --quiet openai -q\n",
        "# Create client\n",
        "from openai import OpenAI\n",
        "client = OpenAI(api_key=os.environ[\"OPENAI_API_KEY\"])"
      ],
      "metadata": {
        "id": "PBe7Vt4nqeQk"
      },
      "execution_count": null,
      "outputs": []
    },
    {
      "cell_type": "code",
      "source": [
        "# Helper Function to Send Prompts\n",
        "def generate_response(prompt, model=\"gpt-4o-mini\", temperature=0.7):\n",
        "    \"\"\"\n",
        "    Send a prompt to the OpenAI model and return the response text.\n",
        "    \"\"\"\n",
        "    try:\n",
        "        completion = client.chat.completions.create(\n",
        "            model=model,\n",
        "            messages=[{\"role\": \"user\", \"content\": prompt}],\n",
        "            temperature=temperature\n",
        "        )\n",
        "        return completion.choices[0].message.content.strip()\n",
        "    except Exception as e:\n",
        "        return f\"Error: {e}\"\n"
      ],
      "metadata": {
        "id": "8wY8h_3vqfJe"
      },
      "execution_count": null,
      "outputs": []
    }
  ]
}