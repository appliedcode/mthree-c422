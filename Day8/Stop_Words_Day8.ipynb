{
  "cells": [
    {
      "cell_type": "markdown",
      "metadata": {
        "id": "84fdqB2jymx_"
      },
      "source": [
        "# Stop Words\n",
        "Words like \"a\" and \"the\" appear so frequently that they don't require tagging as thoroughly as nouns, verbs and modifiers. We call these *stop words*, and they can be filtered from the text to be processed. spaCy holds a built-in list of some 305 English stop words."
      ]
    },
    {
      "cell_type": "code",
      "execution_count": 1,
      "metadata": {
        "id": "seX5pp9JymyC"
      },
      "outputs": [],
      "source": [
        "# Perform standard imports:\n",
        "import spacy\n",
        "nlp = spacy.load('en_core_web_sm')"
      ]
    },
    {
      "cell_type": "code",
      "execution_count": 2,
      "metadata": {
        "colab": {
          "base_uri": "https://localhost:8080/"
        },
        "id": "wdF2kHgeymyE",
        "outputId": "435cdf72-6a32-44b3-e4be-ab5f0a4cc11e"
      },
      "outputs": [
        {
          "output_type": "stream",
          "name": "stdout",
          "text": [
            "{'then', 'just', 'herself', 'their', 'own', \"n't\", 'you', '‘m', 'whereby', 'rather', 'wherever', 'under', 'whereafter', 'its', 'it', '’d', 'third', 'can', 'against', 'so', 'indeed', 'name', 'even', 'a', 'five', 'off', 'both', 'is', 'cannot', '‘re', 'such', 'should', 'along', 'than', \"'s\", 'being', 'all', 'nor', 'he', 'themselves', 'there', 'nowhere', 'several', 'alone', 'least', '‘ve', 'until', 'more', 'throughout', 'since', 'whoever', 'thru', 'thereby', 'him', 'others', 'at', 'anyone', 'either', 'other', 'these', \"'m\", 'noone', 'without', '‘ll', 'anyway', 'afterwards', 'yours', 'something', 'done', 'twelve', 'never', 'therein', 'seem', 'ca', 'hence', 'no', 'few', 'thereupon', 'none', \"'d\", 'n‘t', 'same', 'enough', 'why', 'somehow', 'make', 'in', 'call', 'the', 'too', 'yourself', 'amount', 'therefore', 'again', 'out', 'now', \"'ll\", 'if', 'often', 'already', 'every', 'but', 'please', 'from', 'formerly', 'yet', 'towards', 'yourselves', 'i', 'nothing', 'someone', 'else', 'down', 'almost', 'would', 'and', 'on', 'anyhow', 'three', 'due', 'one', 'six', 'we', 'any', 'last', 'twenty', 'within', 'unless', '’ve', 'has', 'fifteen', 'see', 'be', 'whose', 'my', 'during', 'latterly', '’ll', 'them', 'another', 'though', 'amongst', 'onto', 'whatever', 'while', 'front', 'everything', 'however', 'very', 'namely', 'when', 'less', 'move', 'must', 'empty', 'besides', 'me', 'otherwise', 'does', 'once', 'side', 'hereby', 'myself', 'upon', 'by', 'sometimes', 'sixty', 'of', 'serious', 'beyond', 're', 'what', 'made', 'which', 'himself', 'above', 'whether', 'many', 'may', 'us', 'whole', 'per', 'most', 'seems', 'an', 'do', 'become', 'nobody', 'moreover', 'did', 'former', 'whither', 'nevertheless', 'latter', '‘s', 'herein', 'across', 'four', 'eight', 'quite', 'somewhere', \"'ve\", 'only', 'take', 'between', 'put', 'two', 'ever', 'those', 'over', 'everywhere', 'among', 'except', 'had', 'nine', 'back', 'ourselves', 'part', 'hers', 'anything', 'who', 'becomes', 'about', 'hereafter', 'not', 'say', 'still', 'her', 'up', 'beforehand', 'show', 'thus', '’re', 'although', 'everyone', 'neither', 'after', 'his', 'been', 'toward', 'perhaps', 'hereupon', 'that', 'before', 'they', 'your', 'below', 'meanwhile', 'becoming', 'much', '’m', 'itself', 'wherein', 'beside', 'forty', 'via', 'she', 'seemed', 'behind', 'will', 'for', 'eleven', 'here', 'together', 'regarding', 'our', 'to', 'bottom', 'thereafter', 'next', 'as', 'used', 'are', 'whenever', 'into', 'whereas', 'or', 'get', 'became', 'go', 'where', 'whom', 'fifty', 'were', 'through', 'n’t', 'anywhere', 'various', 'mine', 'some', 'top', '‘d', '’s', 'with', 'full', 'mostly', 'first', 'how', 'give', 'using', 'was', 'because', 'around', 'keep', 'have', 'also', 'ours', 'ten', 'this', 'always', 'hundred', 'thence', \"'re\", 'doing', 'am', 'seeming', 'each', 'might', 'well', 'could', 'whence', 'sometime', 'elsewhere', 'really', 'further', 'whereupon'}\n"
          ]
        }
      ],
      "source": [
        "# Print the set of spaCy's default stop words (remember that sets are unordered):\n",
        "print(nlp.Defaults.stop_words)"
      ]
    },
    {
      "cell_type": "code",
      "execution_count": 3,
      "metadata": {
        "colab": {
          "base_uri": "https://localhost:8080/"
        },
        "id": "dZqbPIRvymyI",
        "outputId": "06d6e771-72e9-454a-bfeb-c1fd8f16b37e"
      },
      "outputs": [
        {
          "output_type": "execute_result",
          "data": {
            "text/plain": [
              "326"
            ]
          },
          "metadata": {},
          "execution_count": 3
        }
      ],
      "source": [
        "len(nlp.Defaults.stop_words)"
      ]
    },
    {
      "cell_type": "markdown",
      "metadata": {
        "id": "1huc6D22ymyJ"
      },
      "source": [
        "## To see if a word is a stop word"
      ]
    },
    {
      "cell_type": "code",
      "execution_count": 4,
      "metadata": {
        "colab": {
          "base_uri": "https://localhost:8080/"
        },
        "id": "FCdD4OagymyK",
        "outputId": "a238c459-bed9-4214-f7cb-7422b547db90"
      },
      "outputs": [
        {
          "output_type": "execute_result",
          "data": {
            "text/plain": [
              "True"
            ]
          },
          "metadata": {},
          "execution_count": 4
        }
      ],
      "source": [
        "nlp.vocab['myself'].is_stop"
      ]
    },
    {
      "cell_type": "code",
      "execution_count": 5,
      "metadata": {
        "colab": {
          "base_uri": "https://localhost:8080/"
        },
        "id": "0d1iBHrVymyM",
        "outputId": "1898d04e-7f69-4787-860d-5fecf245f006"
      },
      "outputs": [
        {
          "output_type": "execute_result",
          "data": {
            "text/plain": [
              "False"
            ]
          },
          "metadata": {},
          "execution_count": 5
        }
      ],
      "source": [
        "nlp.vocab['mystery'].is_stop"
      ]
    },
    {
      "cell_type": "markdown",
      "metadata": {
        "id": "rfRAmH60ymyO"
      },
      "source": [
        "## To add a stop word\n",
        "There may be times when you wish to add a stop word to the default set. Perhaps you decide that `'btw'` (common shorthand for \"by the way\") should be considered a stop word."
      ]
    },
    {
      "cell_type": "code",
      "execution_count": 6,
      "metadata": {
        "id": "FxOisD_WymyQ"
      },
      "outputs": [],
      "source": [
        "# Add the word to the set of stop words. Use lowercase!\n",
        "nlp.Defaults.stop_words.add('btw')\n",
        "\n",
        "# Set the stop_word tag on the lexeme\n",
        "nlp.vocab['btw'].is_stop = True"
      ]
    },
    {
      "cell_type": "code",
      "execution_count": 7,
      "metadata": {
        "colab": {
          "base_uri": "https://localhost:8080/"
        },
        "id": "0TpwotU7ymyR",
        "outputId": "ee79a9f7-2cd0-49a6-a7cb-09204e62ae17"
      },
      "outputs": [
        {
          "output_type": "execute_result",
          "data": {
            "text/plain": [
              "327"
            ]
          },
          "metadata": {},
          "execution_count": 7
        }
      ],
      "source": [
        "len(nlp.Defaults.stop_words)"
      ]
    },
    {
      "cell_type": "code",
      "execution_count": 8,
      "metadata": {
        "colab": {
          "base_uri": "https://localhost:8080/"
        },
        "id": "6kUHbePZymyT",
        "outputId": "af84108f-5e03-4881-a9e2-c12613262196"
      },
      "outputs": [
        {
          "output_type": "execute_result",
          "data": {
            "text/plain": [
              "True"
            ]
          },
          "metadata": {},
          "execution_count": 8
        }
      ],
      "source": [
        "nlp.vocab['btw'].is_stop"
      ]
    },
    {
      "cell_type": "markdown",
      "metadata": {
        "id": "RUa4MF6IymyU"
      },
      "source": [
        "When adding stop words, always use lowercase. Lexemes are\n",
        "\n",
        "---\n",
        "\n",
        "converted to lowercase before being added to **vocab**\n",
        "\n",
        "\n",
        "---\n",
        "\n"
      ]
    },
    {
      "cell_type": "markdown",
      "metadata": {
        "id": "NDb4-q9KymyV"
      },
      "source": [
        "## To remove a stop word\n",
        "Alternatively, you may decide that `'beyond'` should not be considered a stop word."
      ]
    },
    {
      "cell_type": "code",
      "execution_count": 9,
      "metadata": {
        "id": "f_4ZXANYymyV"
      },
      "outputs": [],
      "source": [
        "# Remove the word from the set of stop words\n",
        "nlp.Defaults.stop_words.remove('beyond')\n",
        "\n",
        "# Remove the stop_word tag from the lexeme\n",
        "nlp.vocab['beyond'].is_stop = False"
      ]
    },
    {
      "cell_type": "code",
      "execution_count": 10,
      "metadata": {
        "colab": {
          "base_uri": "https://localhost:8080/"
        },
        "id": "NeDMNd7qymyW",
        "outputId": "163e6a74-c732-439b-907b-bc1fae6c24e2"
      },
      "outputs": [
        {
          "output_type": "execute_result",
          "data": {
            "text/plain": [
              "326"
            ]
          },
          "metadata": {},
          "execution_count": 10
        }
      ],
      "source": [
        "len(nlp.Defaults.stop_words)"
      ]
    },
    {
      "cell_type": "code",
      "execution_count": 11,
      "metadata": {
        "colab": {
          "base_uri": "https://localhost:8080/"
        },
        "id": "KFj08SmgymyW",
        "outputId": "fbf18c22-4a18-490e-c488-07e43314272e"
      },
      "outputs": [
        {
          "output_type": "execute_result",
          "data": {
            "text/plain": [
              "False"
            ]
          },
          "metadata": {},
          "execution_count": 11
        }
      ],
      "source": [
        "nlp.vocab['beyond'].is_stop"
      ]
    }
  ],
  "metadata": {
    "kernelspec": {
      "display_name": "Python 3",
      "language": "python",
      "name": "python3"
    },
    "language_info": {
      "codemirror_mode": {
        "name": "ipython",
        "version": 3
      },
      "file_extension": ".py",
      "mimetype": "text/x-python",
      "name": "python",
      "nbconvert_exporter": "python",
      "pygments_lexer": "ipython3",
      "version": "3.6.7"
    },
    "colab": {
      "provenance": []
    }
  },
  "nbformat": 4,
  "nbformat_minor": 0
}