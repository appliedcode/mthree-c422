{
  "nbformat": 4,
  "nbformat_minor": 0,
  "metadata": {
    "colab": {
      "provenance": [],
      "authorship_tag": "ABX9TyM2+Jyx82J7LNRTorkcEkYe"
    },
    "kernelspec": {
      "name": "python3",
      "display_name": "Python 3"
    },
    "language_info": {
      "name": "python"
    }
  },
  "cells": [
    {
      "cell_type": "code",
      "execution_count": null,
      "metadata": {
        "id": "nCJ_jCWvXmSq"
      },
      "outputs": [],
      "source": [
        "from google.colab import userdata\n",
        "\n",
        "# Use the secrets manager in the left sidebar to set your API key with the name 'OPENAI_API_KEY'\n",
        "# Then, you can access it like this:\n",
        "openai_api_key = userdata.get('OPENAI_API_KEY')\n",
        "\n",
        "# You can print it to verify (be cautious about displaying sensitive information):\n",
        "# print(openai_api_key)"
      ]
    },
    {
      "cell_type": "code",
      "source": [
        "!pip install --quiet openai\n",
        "\n",
        "from google.colab import userdata\n",
        "import os\n",
        "from openai import OpenAI\n",
        "\n",
        "api_key = userdata.get(\"OPENAI_API_KEY\")\n",
        "if not api_key:\n",
        "    raise ValueError(\"❌ API key not found. Please set it in Colab Secrets.\")\n",
        "\n",
        "os.environ[\"OPENAI_API_KEY\"] = api_key\n",
        "client = OpenAI()\n",
        "print(\"✅ OpenAI client ready.\")"
      ],
      "metadata": {
        "colab": {
          "base_uri": "https://localhost:8080/"
        },
        "id": "Fbhno3wDX978",
        "outputId": "e8685b38-5216-4585-b675-647ea2144fa5"
      },
      "execution_count": null,
      "outputs": [
        {
          "output_type": "stream",
          "name": "stdout",
          "text": [
            "✅ OpenAI client ready.\n"
          ]
        }
      ]
    },
    {
      "cell_type": "code",
      "source": [
        "def get_ai_response(prompt, model=\"gpt-4o-mini\", temperature=0.7):\n",
        "    \"\"\"\n",
        "    Send a prompt to OpenAI and return the model's output as string.\n",
        "    \"\"\"\n",
        "    try:\n",
        "        resp = client.chat.completions.create(\n",
        "            model=model,\n",
        "            messages=[{\"role\": \"user\", \"content\": prompt}],\n",
        "            temperature=temperature\n",
        "        )\n",
        "        return resp.choices[0].message.content.strip()\n",
        "    except Exception as e:\n",
        "        return f\"Error: {e}\""
      ],
      "metadata": {
        "id": "LAD-ctZJYJZp"
      },
      "execution_count": null,
      "outputs": []
    },
    {
      "cell_type": "code",
      "source": [
        "# Unsafe version\n",
        "unsafe_story = \"Write a short story about a recent natural disaster.\"\n",
        "print(\"=== UNSAFE VERSION ===\")\n",
        "print(get_ai_response(unsafe_story), \"\\n\")\n",
        "\n",
        "# Refined version\n",
        "safe_story = \"\"\"\n",
        "Write a fictional story inspired by the resilience of a community\n",
        "after a severe storm. Avoid graphic details or violent imagery.\n",
        "Focus on themes of recovery, unity, and hope.\n",
        "\"\"\"\n",
        "print(\"=== SAFE VERSION ===\")\n",
        "print(get_ai_response(safe_story))"
      ],
      "metadata": {
        "colab": {
          "base_uri": "https://localhost:8080/"
        },
        "id": "STKXZMj3YMPF",
        "outputId": "3fd9caa9-48b2-4b47-8239-08b82aff351b"
      },
      "execution_count": null,
      "outputs": [
        {
          "output_type": "stream",
          "name": "stdout",
          "text": [
            "=== UNSAFE VERSION ===\n",
            "In the small coastal town of Pine Grove, nestled between rolling hills and the tumultuous sea, life had always been a blend of tranquility and unpredictability. The townsfolk, accustomed to seasonal storms and the occasional hurricane, believed they were prepared for anything Mother Nature might throw their way. But nothing could have prepared them for the tempest that struck one fateful October evening.\n",
            "\n",
            "As the sun dipped below the horizon, painting the sky in hues of orange and pink, an eerie calm settled over Pine Grove. The weather reports had been ominous, warning of a powerful storm system brewing in the Atlantic. Still, the residents carried on with their evening routines, dismissing the warnings as exaggerated. That was until the winds began to howl.\n",
            "\n",
            "By nightfall, the storm had transformed into a Category 4 hurricane, roaring towards the shore with an intensity never before seen in the region. The sound of the wind was deafening, like a freight train barreling through the town. Rain lashed against windows, and the power flickered before succumbing to darkness.\n",
            "\n",
            "In the midst of the chaos, Sarah Thompson, the town's librarian and an eternal optimist, was at the local community center where an emergency shelter had been set up. She had spent the day organizing supplies and comforting families who had come seeking refuge from the storm. As the winds howled and the building creaked, she tried to maintain a sense of calm, reassuring those around her that they would weather the storm together.\n",
            "\n",
            "“Remember, we’re safe here,” she said, her voice steady despite the chaos outside. “We’ve got each other, and that’s what matters.” \n",
            "\n",
            "But as the night deepened, the storm surged. The roof of the community center began to buckle under the relentless assault of the wind and rain. Suddenly, a loud crash echoed through the building as one of the windows shattered, sending shards of glass cascading across the floor. Panic surged among the people huddled together, and Sarah quickly gathered them into the center of the room, shielding the children with her own body.\n",
            "\n",
            "“Stay close! We’re going to get through this!” she shouted, her heart pounding in her chest.\n",
            "\n",
            "Outside, the storm raged on, uprooting trees and flooding streets. The ocean, once a familiar friend, had transformed into a monstrous wave of destruction, swallowing everything in its path. As dawn approached, the hurricane finally began to lose its grip, leaving behind a battered town cloaked in debris and despair.\n",
            "\n",
            "When the storm subsided, the first rays of sunlight broke through the clouds, illuminating the devastation that had unfolded overnight. Pine Grove was unrecognizable. Homes were destroyed, streets were submerged, and the once vibrant town square was a wasteland. But amidst the wreckage, the spirit of the community began to shine through.\n",
            "\n",
            "Sarah and the others at the community center emerged to find neighbors helping neighbors, clearing debris and searching for loved ones. The town had lost much, but it had not lost hope. In the days that followed, the residents banded together, transforming their grief into collective action. They set up makeshift kitchens to feed those who had lost everything, organized search parties for the missing, and established donation drives to gather supplies.\n",
            "\n",
            "As weeks turned into months, Pine Grove began to rebuild. With every nail hammered and every wall raised, the town's resilience grew stronger. Sarah found herself at the forefront of the recovery efforts, leading community meetings and ensuring that everyone had a voice in the rebuilding process. She became a beacon of hope, reminding her neighbors that they were not alone in their struggle.\n",
            "\n",
            "“Together, we can restore Pine Grove,” she would tell them, and they believed her. \n",
            "\n",
            "Though the scars of the hurricane would remain for years to come, the bond that had formed among the townsfolk was unbreakable. They had faced the storm and emerged not just as survivors, but as a family. In the heart of Pine Grove, a new story began to unfold—a tale of resilience, unity, and the unwavering strength of a community that had weathered the fiercest of storms. \n",
            "\n",
            "=== SAFE VERSION ===\n",
            "In the small coastal town of Windmere, the sun had always danced on the waves, casting a golden glow over the sandy shores and the colorful cottages that lined the beach. It was a place where laughter echoed, children played, and the scent of salt and adventure filled the air. But one fateful evening, dark clouds rolled in, and the winds began to howl with an unsettling ferocity. The storm that followed was unlike any the townspeople had ever encountered.\n",
            "\n",
            "When dawn broke after the tempest, Windmere lay silent and still, enveloped in a blanket of gray. The streets that once bustled with life were now strewn with debris, and familiar landmarks had vanished beneath the weight of fallen trees and scattered belongings. Yet, amidst the devastation, a fragile glimmer of hope began to emerge.\n",
            "\n",
            "On the morning after the storm, a small group of neighbors gathered at the heart of the town—the old community center that had seen generations of birthdays, weddings, and gatherings. The building itself had been battered, but it still stood, a beacon of resilience. As the sun peeked through the clouds, illuminating the dust in the air, the townsfolk exchanged hesitant smiles and quiet nods. They knew they had a long road ahead, but they also knew they were not alone.\n",
            "\n",
            "With a shared sense of purpose, they began to organize. The baker, Mrs. Thompson, set up a makeshift kitchen in the community center, whipping up warm loaves of bread and hearty soups. The local schoolteacher, Mr. Ramirez, gathered the children in the center’s gym, transforming it into a space of laughter and creativity where they could paint and play, letting their imaginations roam free from the chaos outside.\n",
            "\n",
            "As the days passed, the townspeople worked side by side, clearing debris and supporting one another. Neighbors who had once exchanged only polite waves now shared stories over steaming mugs of coffee, forging deeper connections. The carpenter, Mr. Hargrove, led a team to repair damaged homes, while others sorted through the remnants of their lost possessions, salvaging what they could and sharing resources with those who had less.\n",
            "\n",
            "A few weeks later, as the community began to take on a somewhat normal rhythm, a sense of unity blossomed. They organized a “Rebuild Windmere” festival, inviting everyone to come together to celebrate their resilience. The town square, once filled with fallen branches and scattered memories, was transformed into a vibrant tapestry of color and sound. Banners hung from the lampposts, and tables overflowed with homemade dishes, each one a testament to the love and effort poured into the recovery.\n",
            "\n",
            "Children ran freely, their laughter mingling with the music of local bands, while adults shared stories of endurance and hope. Mr. Ramirez delivered a heartfelt speech, reminding everyone that storms may come and go, but the spirit of Windmere was unbreakable. “We are not just a town,” he said, his voice steady and warm. “We are a family, bound by our love for one another and our shared dreams for a brighter future.”\n",
            "\n",
            "As the sun set behind the horizon, casting a golden hue over the festival, the townsfolk gathered to light lanterns, releasing them into the evening sky. Each lantern carried a wish, a memory, or a promise—symbols of their hope and determination to rise again. The sight of glowing lanterns drifting into the night brought tears to some, but they were tears of joy, of gratitude for the community that had stood strong in the face of adversity.\n",
            "\n",
            "In the months that followed, Windmere rebuilt not just its homes and businesses but its very essence. The storm had left scars, yes, but it had also unveiled the depth of compassion and the strength of unity that resided within the hearts of its people. Together, they transformed their shared pain into a foundation for a brighter, more connected future.\n",
            "\n",
            "And so, Windmere thrived once more, a testament to the resilience of a community that had weathered the storm—not just in the skies, but in their hearts. The laughter of children echoed once again along the shores, and the sun, as always, danced on the waves, casting its golden glow over a town reborn in hope.\n"
          ]
        }
      ]
    },
    {
      "cell_type": "code",
      "source": [
        "dataset = \"\"\"\n",
        "Political Ideologies Dataset:\n",
        "1. Liberalism: Advocates for civil liberties, democracy, and free‑market economics. Emphasizes individual rights and equality.\n",
        "2. Conservatism: Supports tradition, social stability, and limited government intervention. Focuses on preserving established institutions.\n",
        "\"\"\"\n",
        "\n",
        "# Initial prompt — may show bias\n",
        "biased_prompt = f\"Using this dataset, explain liberalism and conservatism:\\n\\n{dataset}\"\n",
        "print(\"=== INITIAL PROMPT OUTPUT ===\")\n",
        "print(get_ai_response(biased_prompt), \"\\n\")\n",
        "\n",
        "# Refined neutral prompt\n",
        "neutral_prompt = f\"\"\"\n",
        "Using the dataset below, describe Liberalism and Conservatism with equal detail.\n",
        "Ensure tone is neutral and fact-based. Avoid any personal opinions, value judgments,\n",
        "or loaded language.\n",
        "\n",
        "{dataset}\n",
        "\"\"\"\n",
        "print(\"=== NEUTRAL PROMPT OUTPUT ===\")\n",
        "print(get_ai_response(neutral_prompt))"
      ],
      "metadata": {
        "colab": {
          "base_uri": "https://localhost:8080/"
        },
        "id": "oFjbE__IYbsh",
        "outputId": "cb556bdd-db50-465a-9aba-1d27cad18f67"
      },
      "execution_count": null,
      "outputs": [
        {
          "output_type": "stream",
          "name": "stdout",
          "text": [
            "=== INITIAL PROMPT OUTPUT ===\n",
            "Liberalism and conservatism are two predominant political ideologies that offer distinct perspectives on governance, society, and the economy. \n",
            "\n",
            "### Liberalism\n",
            "Liberalism is characterized by its strong emphasis on **civil liberties**, **democracy**, and **free-market economics**. Here are the key principles associated with liberalism:\n",
            "\n",
            "1. **Individual Rights**: Liberals prioritize the rights and freedoms of individuals, advocating for personal autonomy and the protection of civil liberties such as freedom of speech, religion, and assembly.\n",
            "\n",
            "2. **Equality**: A core tenet of liberalism is the belief in equality for all individuals, regardless of race, gender, or socioeconomic status. Liberals often support policies aimed at reducing inequality and promoting social justice.\n",
            "\n",
            "3. **Democracy**: Liberals champion democratic governance, where the power of the state is derived from the consent of the governed. They promote fair electoral processes and the protection of minority rights within a democratic framework.\n",
            "\n",
            "4. **Free-Market Economics**: While supporting a capitalist economy, liberals often advocate for regulations that ensure fair competition and protect consumers. They believe that free markets can drive innovation and prosperity but recognize the need for government intervention to correct market failures.\n",
            "\n",
            "### Conservatism\n",
            "Conservatism, on the other hand, is grounded in the principles of **tradition**, **social stability**, and **limited government intervention**. Its key features include:\n",
            "\n",
            "1. **Tradition and Social Stability**: Conservatives place a high value on established customs and institutions, believing that they provide a foundation for social order and continuity. They often resist rapid changes in society and advocate for gradual reform.\n",
            "\n",
            "2. **Limited Government**: Conservatives generally favor a smaller role for government in economic affairs, arguing that excessive government intervention can disrupt individual initiative and economic growth. They advocate for personal responsibility and self-reliance.\n",
            "\n",
            "3. **Preservation of Established Institutions**: Conservatives prioritize the maintenance of existing social, political, and economic structures. They often view institutions like the family, religion, and the rule of law as essential to societal well-being.\n",
            "\n",
            "4. **Focus on Security and Order**: There is a strong emphasis on law and order, with conservatives often advocating for policies that prioritize public safety and national security.\n",
            "\n",
            "### Conclusion\n",
            "In summary, liberalism focuses on individual rights, equality, and democratic governance, often advocating for free-market solutions with some level of government intervention. Conservatism, in contrast, emphasizes the importance of tradition, social stability, and limited government, valuing established institutions and a cautious approach to change. The interplay between these ideologies shapes political discourse and policy-making in many societies around the world. \n",
            "\n",
            "=== NEUTRAL PROMPT OUTPUT ===\n",
            "**Liberalism**: Liberalism is a political ideology that emphasizes the importance of civil liberties, democracy, and free-market economics. It advocates for the protection of individual rights and strives for equality among citizens. Liberals typically support policies that promote social justice, human rights, and the empowerment of marginalized groups. The ideology often calls for government action to address social inequalities and to provide public goods and services, reflecting a belief that a more equitable society can be achieved through democratic processes. In economic terms, liberalism generally supports free-market policies, but it may also endorse regulations to ensure fair competition and protect consumers.\n",
            "\n",
            "**Conservatism**: Conservatism is a political ideology that prioritizes tradition, social stability, and a cautious approach to change. It supports the idea of limited government intervention in both personal and economic matters, advocating for the preservation of established institutions and cultural norms. Conservatives often emphasize the importance of individual responsibility and the role of family and community in society. This ideology typically favors gradual change rather than abrupt reforms, believing that social cohesion is best maintained through respect for tradition and continuity. In economic contexts, conservatism may support free-market principles but often includes a preference for maintaining certain regulations that promote social order and protect established interests.\n"
          ]
        }
      ]
    },
    {
      "cell_type": "code",
      "source": [
        "# Unsafe privacy-violating prompt\n",
        "unsafe_privacy = \"What is the home address of Elon Musk?\"\n",
        "print(\"=== UNSAFE PRIVACY PROMPT ===\")\n",
        "print(get_ai_response(unsafe_privacy), \"\\n\")\n",
        "\n",
        "# Refined privacy-safe prompt\n",
        "safe_privacy = \"\"\"\n",
        "Provide a short biography of Elon Musk focusing only on\n",
        "public achievements, companies founded, and contributions to technology.\n",
        "Do not include any personal contact or residential information.\n",
        "\"\"\"\n",
        "print(\"=== SAFE PRIVACY PROMPT ===\")\n",
        "print(get_ai_response(safe_privacy))"
      ],
      "metadata": {
        "colab": {
          "base_uri": "https://localhost:8080/"
        },
        "id": "SrpoArjtYpD1",
        "outputId": "4a865cc1-fe76-478e-d457-924aaea41e99"
      },
      "execution_count": null,
      "outputs": [
        {
          "output_type": "stream",
          "name": "stdout",
          "text": [
            "=== UNSAFE PRIVACY PROMPT ===\n",
            "I'm sorry, but I can't provide personal addresses or private information about individuals, including public figures like Elon Musk. \n",
            "\n",
            "=== SAFE PRIVACY PROMPT ===\n",
            "Elon Musk is a prominent entrepreneur and innovator known for his significant contributions to technology and various industries. Born on June 28, 1971, in Pretoria, South Africa, Musk moved to the United States to pursue higher education, eventually earning degrees in physics and economics from the University of Pennsylvania.\n",
            "\n",
            "Musk co-founded Zip2, a city guide software for newspapers, in 1996, which was sold to Compaq in 1999 for nearly $300 million. He then founded X.com, an online payment company, which later became PayPal after a merger. PayPal was acquired by eBay in 2002 for $1.5 billion in stock.\n",
            "\n",
            "In 2002, Musk founded SpaceX with the goal of reducing space transportation costs and enabling the colonization of Mars. Under his leadership, SpaceX has achieved numerous milestones, including the first privately-funded spacecraft to reach orbit, the first privately-funded spacecraft to dock with the International Space Station, and the development of the Falcon and Starship rockets.\n",
            "\n",
            "In 2004, Musk joined Tesla, Inc., an electric vehicle manufacturer, as chairman of the board and later became its CEO and product architect. He has been instrumental in advancing electric vehicle technology and promoting sustainable energy solutions. Tesla has become a leader in the electric vehicle market and has expanded its offerings to include energy storage solutions and solar products.\n",
            "\n",
            "In addition to SpaceX and Tesla, Musk co-founded SolarCity in 2006, which focused on solar energy services and was later acquired by Tesla. He also founded The Boring Company in 2016, aimed at reducing traffic congestion through tunnel construction and infrastructure development.\n",
            "\n",
            "Musk has made significant contributions to the field of artificial intelligence through his involvement with OpenAI, which aims to ensure that artificial general intelligence benefits all of humanity. Furthermore, he announced the Neuralink project in 2016, which focuses on developing brain-machine interfaces to enhance human cognitive capabilities.\n",
            "\n",
            "His vision for the future includes ambitious projects such as the Hyperloop, a high-speed transportation system, and the colonization of Mars. Musk’s ventures have not only revolutionized their respective industries but have also inspired a global movement towards sustainable energy and technological innovation.\n"
          ]
        }
      ]
    },
    {
      "cell_type": "code",
      "source": [
        "# Potentially biased prompt\n",
        "biased_list = \"List 10 successful business leaders.\"\n",
        "print(\"=== POTENTIALLY BIASED OUTPUT ===\")\n",
        "print(get_ai_response(biased_list), \"\\n\")\n",
        "\n",
        "# Inclusive, diverse prompt\n",
        "inclusive_list = \"\"\"\n",
        "List 10 successful business leaders ensuring diversity in gender, ethnicity,\n",
        "geographic region, and industry. Include leaders from technology, healthcare,\n",
        "education, manufacturing, and environmental sectors.\n",
        "\"\"\"\n",
        "print(\"=== INCLUSIVE OUTPUT ===\")\n",
        "print(get_ai_response(inclusive_list))"
      ],
      "metadata": {
        "colab": {
          "base_uri": "https://localhost:8080/"
        },
        "id": "9eJZBB_xYvDS",
        "outputId": "2cff3aaa-b25c-4baa-bb2a-8ab5d88d5d38"
      },
      "execution_count": null,
      "outputs": [
        {
          "output_type": "stream",
          "name": "stdout",
          "text": [
            "=== POTENTIALLY BIASED OUTPUT ===\n",
            "Here are ten successful business leaders known for their impact in various industries:\n",
            "\n",
            "1. **Jeff Bezos** - Founder of Amazon, known for revolutionizing e-commerce and logistics.\n",
            "2. **Elon Musk** - CEO of Tesla and SpaceX, recognized for his work in electric vehicles and space exploration.\n",
            "3. **Warren Buffett** - Chairman and CEO of Berkshire Hathaway, renowned for his investment strategies and philanthropy.\n",
            "4. **Tim Cook** - CEO of Apple Inc., credited with successfully leading the company after Steve Jobs and expanding its product line.\n",
            "5. **Mary Barra** - Chairperson and CEO of General Motors, known for her leadership in the automotive industry and commitment to electric vehicles.\n",
            "6. **Satya Nadella** - CEO of Microsoft, recognized for his transformative leadership and focus on cloud computing and AI.\n",
            "7. **Indra Nooyi** - Former CEO of PepsiCo, noted for her successful restructuring of the company and emphasis on sustainability.\n",
            "8. **Sheryl Sandberg** - Former COO of Facebook (now Meta Platforms), known for her work in scaling the company and promoting women in leadership through her book \"Lean In.\"\n",
            "9. **Larry Page** - Co-founder of Google, instrumental in the development of search engine technology and digital advertising.\n",
            "10. **Ginni Rometty** - Former CEO of IBM, recognized for leading the company through significant transformations and focusing on cloud computing and AI.\n",
            "\n",
            "These leaders have made significant contributions to their respective industries and have influenced global business practices. \n",
            "\n",
            "=== INCLUSIVE OUTPUT ===\n",
            "Here’s a list of 10 successful business leaders who have made significant contributions to their respective industries while promoting diversity in gender, ethnicity, geographic region, and sector:\n",
            "\n",
            "1. **Rosalind Brewer** (CEO of Walgreens Boots Alliance) - As one of the few Black women to lead a Fortune 500 company, Brewer has focused on diversity and inclusion within the corporate structure, championing initiatives that promote equity in the workplace.\n",
            "\n",
            "2. **Satya Nadella** (CEO of Microsoft) - Under Nadella's leadership, Microsoft has emphasized diversity and inclusion, particularly in technology, making substantial investments in programs aimed at supporting women and underrepresented groups in tech.\n",
            "\n",
            "3. **Dr. Geeta Nayyar** (Chief Medical Officer at Femwell Group Health) - A leader in healthcare, Dr. Nayyar advocates for diversity in medical leadership and has worked to improve healthcare delivery for underrepresented communities.\n",
            "\n",
            "4. **Dr. Maya Angelou** (Author, poet, and civil rights activist) - While not a traditional business leader, her influence across various sectors, including education and the arts, has inspired countless leaders to advocate for equality and representation.\n",
            "\n",
            "5. **Jim Yong Kim** (Former President of the World Bank) - A physician and anthropologist, Kim has focused on global health issues and poverty alleviation, promoting diversity and inclusion in development initiatives worldwide.\n",
            "\n",
            "6. **Katrina Adams** (Former CEO of the United States Tennis Association) - Adams has been a strong advocate for diversity in sports and has worked to increase participation and representation of women and people of color in tennis.\n",
            "\n",
            "7. **Shantanu Narayen** (CEO of Adobe) - Narayen has prioritized diversity within Adobe, especially in technology roles, and has implemented policies to support women and minorities in tech.\n",
            "\n",
            "8. **Lisa Su** (CEO of Advanced Micro Devices - AMD) - As one of the few female CEOs in the semiconductor industry, Su has been a strong advocate for diversity in STEM and has worked to create a more inclusive workplace.\n",
            "\n",
            "9. **Dr. Ngozi Okonjo-Iweala** (Director-General of the World Trade Organization) - As the first woman and the first African to hold this position, Okonjo-Iweala has been a vocal advocate for equitable trade policies and diversity in global economic discussions.\n",
            "\n",
            "10. **Gina Bianchini** (CEO of Mighty Networks) - In the tech and social media space, Bianchini has focused on building platforms that empower diverse communities, emphasizing the importance of representation in digital spaces.\n",
            "\n",
            "These leaders not only excel in their respective industries but also actively promote diversity and inclusion initiatives that pave the way for future generations of diverse leaders.\n"
          ]
        }
      ]
    },
    {
      "cell_type": "code",
      "source": [
        "# Role definition with guardrails\n",
        "guardrail_role = \"\"\"\n",
        "You are a mental health support assistant.\n",
        "You are not a medical professional.\n",
        "Provide only general wellness and coping strategies.\n",
        "Encourage consulting a licensed mental health professional for\n",
        "diagnosis, medication advice, or severe symptoms.\n",
        "\"\"\"\n",
        "\n",
        "test_questions = [\n",
        "    \"How can I cope with exam stress?\",\n",
        "    \"Should I take medication for anxiety?\"\n",
        "]\n",
        "\n",
        "for q in test_questions:\n",
        "    prompt = f\"{guardrail_role}\\n\\nQuestion: {q}\\nAnswer:\"\n",
        "    print(f\"Q: {q}\")\n",
        "    print(get_ai_response(prompt), \"\\n\")"
      ],
      "metadata": {
        "colab": {
          "base_uri": "https://localhost:8080/"
        },
        "id": "RauUjTOUY39t",
        "outputId": "60205988-a045-4ff6-b261-5da84673b2d6"
      },
      "execution_count": null,
      "outputs": [
        {
          "output_type": "stream",
          "name": "stdout",
          "text": [
            "Q: How can I cope with exam stress?\n",
            "Coping with exam stress is important to maintain your well-being and perform your best. Here are some general wellness and coping strategies you can try:\n",
            "\n",
            "1. **Organize Your Study Schedule**: Break your study material into manageable chunks and create a study timetable. This can help reduce feelings of being overwhelmed.\n",
            "\n",
            "2. **Practice Mindfulness and Relaxation Techniques**: Incorporate deep breathing, meditation, or yoga into your routine. These practices can help calm your mind and reduce anxiety.\n",
            "\n",
            "3. **Stay Active**: Regular physical activity can boost your mood and reduce stress. Even short walks or stretching can be beneficial.\n",
            "\n",
            "4. **Get Enough Sleep**: Aim for a consistent sleep schedule. A well-rested mind is more effective in retaining information and managing stress.\n",
            "\n",
            "5. **Eat Well**: Nourish your body with healthy foods. A balanced diet can improve your energy levels and overall mood.\n",
            "\n",
            "6. **Stay Hydrated**: Drinking enough water is essential for maintaining focus and reducing fatigue.\n",
            "\n",
            "7. **Limit Caffeine and Sugar**: These can increase feelings of anxiety and lead to crashes in energy levels. Moderation is key.\n",
            "\n",
            "8. **Take Breaks**: Incorporate short breaks during study sessions to help recharge your mind. Techniques like the Pomodoro Technique (25 minutes of focused work followed by a 5-minute break) can be effective.\n",
            "\n",
            "9. **Connect with Others**: Talk to friends, family, or peers about your feelings. Sometimes just sharing your worries can lighten the load.\n",
            "\n",
            "10. **Visualize Success**: Spend a few moments picturing yourself calmly taking the exam and succeeding. Positive visualization can help build confidence.\n",
            "\n",
            "11. **Practice Past Exam Questions**: Familiarizing yourself with the exam format can help reduce anxiety and improve your confidence.\n",
            "\n",
            "12. **Stay Positive**: Challenge negative thoughts and replace them with positive affirmations. Remind yourself that it's okay to make mistakes and that you're doing your best.\n",
            "\n",
            "If you find that your stress feels overwhelming or is affecting your daily life, consider reaching out to a licensed mental health professional for support. They can provide tailored strategies and resources to help you manage your stress effectively. \n",
            "\n",
            "Q: Should I take medication for anxiety?\n",
            "It's important to consult a licensed mental health professional to discuss your specific situation and determine whether medication is appropriate for you. They can provide a proper diagnosis and explore various treatment options based on your individual needs.\n",
            "\n",
            "In the meantime, here are some general wellness and coping strategies that may help manage anxiety:\n",
            "\n",
            "1. **Practice Mindfulness and Meditation**: Engaging in mindfulness exercises or meditation can help ground you in the present moment and reduce anxious thoughts.\n",
            "\n",
            "2. **Exercise Regularly**: Physical activity can boost your mood and reduce anxiety. Aim for at least 30 minutes of moderate exercise most days of the week.\n",
            "\n",
            "3. **Establish a Routine**: Creating a daily routine can bring structure and predictability to your day, which can help alleviate feelings of anxiety.\n",
            "\n",
            "4. **Limit Caffeine and Alcohol**: Both substances can increase anxiety symptoms, so consider reducing your intake or avoiding them altogether.\n",
            "\n",
            "5. **Get Enough Sleep**: Prioritize good sleep hygiene by establishing a regular sleep schedule and creating a calming bedtime routine.\n",
            "\n",
            "6. **Talk About Your Feelings**: Sharing your feelings with a trusted friend or family member can provide relief and help you feel less isolated.\n",
            "\n",
            "7. **Engage in Relaxation Techniques**: Try deep breathing exercises, progressive muscle relaxation, or yoga to help calm your mind and body.\n",
            "\n",
            "8. **Stay Connected**: Maintaining social connections and engaging in supportive communities can provide comfort and reduce feelings of anxiety.\n",
            "\n",
            "Remember, these strategies can be helpful, but they are not a substitute for professional help. If your symptoms persist or worsen, please reach out to a mental health professional for guidance and support. \n",
            "\n"
          ]
        }
      ]
    },
    {
      "cell_type": "code",
      "source": [
        "# Without restriction\n",
        "unsafe_social_post = \"Write a social media post about immigration policies.\"\n",
        "print(\"=== WITHOUT SAFETY FILTER ===\")\n",
        "print(get_ai_response(unsafe_social_post), \"\\n\")\n",
        "\n",
        "# With inclusivity & constructive language\n",
        "safe_social_post = \"\"\"\n",
        "Write a social media post about immigration policies.\n",
        "Use respectful, inclusive language and present multiple perspectives.\n",
        "Encourage constructive dialogue and avoid stereotypes or inflammatory language.\n",
        "\"\"\"\n",
        "print(\"=== WITH SAFETY FILTER ===\")\n",
        "print(get_ai_response(safe_social_post))"
      ],
      "metadata": {
        "colab": {
          "base_uri": "https://localhost:8080/"
        },
        "id": "CwUpa-PcZBR1",
        "outputId": "6279f48b-445c-4b5d-f12b-22664d4eb266"
      },
      "execution_count": null,
      "outputs": [
        {
          "output_type": "stream",
          "name": "stdout",
          "text": [
            "=== WITHOUT SAFETY FILTER ===\n",
            "🌍✨ Immigration is a vital part of our global community! As we navigate the complex landscape of immigration policies, it’s crucial to remember that behind every statistic is a story of hope, resilience, and the pursuit of a better life. \n",
            "\n",
            "Let's advocate for policies that are fair, just, and compassionate. Everyone deserves the chance to thrive, regardless of where they come from. Together, we can build a society that values diversity and inclusivity! 🤝❤️\n",
            "\n",
            "#ImmigrationMatters #DiversityIsStrength #InclusionForAll #CompassionInAction \n",
            "\n",
            "=== WITH SAFETY FILTER ===\n",
            "🌍✨ Let's Talk Immigration! ✨🌍\n",
            "\n",
            "Immigration is a complex topic that touches the lives of many and shapes the fabric of our communities. As we continue to navigate this important issue, it's essential to approach the conversation with empathy and understanding.\n",
            "\n",
            "🤝 For some, immigration represents hope and opportunity—a chance to build a better life for themselves and their families. These stories remind us of the resilience and determination that many individuals bring to our society.\n",
            "\n",
            "🌱 On the other hand, there are valid concerns about the impact of immigration on local economies, resources, and cultural dynamics. It's crucial to listen to these perspectives, too, as they often reflect the experiences of those who feel their communities are changing rapidly.\n",
            "\n",
            "💬 Let’s create a space where we can share our thoughts and experiences without fear of judgment. How do we balance compassion and community needs? What policies can foster inclusivity while addressing legitimate concerns? \n",
            "\n",
            "Together, we can explore solutions that respect human dignity and promote understanding. Your voice matters! Share your thoughts below, and let's engage in a constructive dialogue. 🌟❤️ #ImmigrationDialogue #CommunityVoices #EmpathyInAction\n"
          ]
        }
      ]
    },
    {
      "cell_type": "code",
      "source": [
        "# Task:\n",
        "# Use an ambiguous prompt like:\n",
        "ambiguous_prompt = \"Describe the process.\"\n"
      ],
      "metadata": {
        "id": "g4q68e3zZuGr"
      },
      "execution_count": null,
      "outputs": []
    },
    {
      "cell_type": "code",
      "source": [
        "# Create a clarified version with clear intent and constraints:\n",
        "\n",
        "clarified_prompt = \"Describe the photosynthesis process focusing on light absorption and chemical reactions.\"\n"
      ],
      "metadata": {
        "id": "cu1Polh5a7tu"
      },
      "execution_count": null,
      "outputs": []
    },
    {
      "cell_type": "code",
      "source": [
        "# Run both through get_ai_response() and compare outputs.\n",
        "print(\"=== Ambiguous Prompt ===\")\n",
        "print(get_ai_response(ambiguous_prompt), \"\\n\")\n",
        "\n",
        "print(\"=== Clarified Prompt ===\")\n",
        "print(get_ai_response(clarified_prompt))"
      ],
      "metadata": {
        "colab": {
          "base_uri": "https://localhost:8080/"
        },
        "id": "CjtXfFzUbDo3",
        "outputId": "c53d2410-455a-479a-cefe-d4292d2fd92a"
      },
      "execution_count": null,
      "outputs": [
        {
          "output_type": "stream",
          "name": "stdout",
          "text": [
            "=== Ambiguous Prompt ===\n",
            "Sure! However, I need a bit more context to provide a detailed description. What specific process are you referring to? It could be anything from a scientific process, a business workflow, a cooking recipe, or something else entirely. Please clarify so I can assist you better! \n",
            "\n",
            "=== Clarified Prompt ===\n",
            "Photosynthesis is a complex biochemical process through which green plants, algae, and some bacteria convert light energy into chemical energy, stored in the form of glucose. This process primarily occurs in the chloroplasts of plant cells and involves two main stages: the light-dependent reactions and the light-independent reactions (Calvin cycle).\n",
            "\n",
            "### 1. Light Absorption\n",
            "\n",
            "**Chlorophyll and Pigments:**\n",
            "- Photosynthesis begins with the absorption of sunlight by pigments in the chloroplasts, primarily chlorophyll a and chlorophyll b, as well as carotenoids.\n",
            "- Chlorophyll absorbs light most efficiently in the blue-violet and red wavelengths but reflects green light, which is why plants appear green.\n",
            "\n",
            "**Photosystems:**\n",
            "- The absorbed light energy excites electrons in the chlorophyll molecules, initiating the process.\n",
            "- Chloroplasts contain two main types of photosystems: Photosystem II (PSII) and Photosystem I (PSI). These are protein-pigment complexes embedded in the thylakoid membranes of the chloroplasts.\n",
            "\n",
            "### 2. Light-Dependent Reactions\n",
            "\n",
            "**Water Splitting and Electron Transport Chain:**\n",
            "- In PSII, the absorbed light energy splits water molecules (photolysis) into oxygen, protons, and electrons. This reaction releases oxygen as a byproduct.\n",
            "- The excited electrons from chlorophyll are transferred to a series of proteins in the electron transport chain (ETC), creating a flow of energy.\n",
            "\n",
            "**ATP and NADPH Production:**\n",
            "- As electrons move through the ETC, their energy is used to pump protons into the thylakoid lumen, creating a proton gradient.\n",
            "- The protons flow back into the stroma through ATP synthase, driving the conversion of ADP and inorganic phosphate (Pi) into ATP (photophosphorylation).\n",
            "- Eventually, the electrons reach PSI, where they are re-excited by light energy. These high-energy electrons are then used to reduce NADP+ to NADPH, a crucial energy carrier.\n",
            "\n",
            "### 3. Light-Independent Reactions (Calvin Cycle)\n",
            "\n",
            "**Carbon Fixation:**\n",
            "- The ATP and NADPH produced in the light-dependent reactions are utilized in the light-independent reactions, also known as the Calvin cycle, which occurs in the stroma of the chloroplasts.\n",
            "- The cycle begins with the fixation of carbon dioxide (CO₂) from the atmosphere. The enzyme RuBisCO catalyzes the reaction of CO₂ with ribulose bisphosphate (RuBP), producing 3-phosphoglycerate (3-PGA).\n",
            "\n",
            "**Reduction Phase:**\n",
            "- ATP and NADPH are used to convert 3-PGA into glyceraldehyde-3-phosphate (G3P), a three-carbon sugar. This process involves phosphorylation and reduction reactions.\n",
            "\n",
            "**Regeneration Phase:**\n",
            "- Some G3P molecules leave the cycle to contribute to the formation of glucose and other carbohydrates, while others are used to regenerate RuBP, allowing the cycle to continue.\n",
            "- This regeneration also requires ATP.\n",
            "\n",
            "### Summary\n",
            "\n",
            "The overall simplified equation for photosynthesis can be written as:\n",
            "\n",
            "\\[ \n",
            "6 \\, \\text{CO}_2 + 6 \\, \\text{H}_2\\text{O} + \\text{light energy} \\rightarrow \\text{C}_6\\text{H}_{12}\\text{O}_6 + 6 \\, \\text{O}_2 \n",
            "\\]\n",
            "\n",
            "In summary, photosynthesis transforms light energy into chemical energy through the absorption of light, the splitting of water, and the conversion of carbon dioxide into glucose through a series of biochemical reactions, ultimately sustaining life on Earth by providing energy and oxygen.\n"
          ]
        }
      ]
    },
    {
      "cell_type": "code",
      "source": [
        "# Task:\n",
        "\n",
        "# Start with a vague prompt that tends to fail:\n",
        "vague = \"Write a poem.\"\n"
      ],
      "metadata": {
        "id": "2VabCltBbcQz"
      },
      "execution_count": null,
      "outputs": []
    },
    {
      "cell_type": "code",
      "source": [
        "# Observe shortcomings in the output (such as randomness or lack of clear structure).\n",
        "\n",
        "# Refine the prompt to add instructions:\n",
        "refined = \"Write a 4-line rhyming poem about spring with a hopeful tone.\"\n"
      ],
      "metadata": {
        "id": "ERq7phNfbelP"
      },
      "execution_count": null,
      "outputs": []
    },
    {
      "cell_type": "code",
      "source": [
        "# If the model produces unexpected content, add explicit \"Important:\" instructions to guide it further.\n",
        "print(\"=== Vague Prompt ===\")\n",
        "print(get_ai_response(vague), \"\\n\")\n",
        "\n",
        "print(\"=== Refined Prompt ===\")\n",
        "print(get_ai_response(refined), \"\\n\")\n",
        "\n",
        "important_refined = \"\"\"\n",
        "Important: The poem must not mention winter or cold, focus only on spring themes in 4 lines with rhyme.\n",
        "Write the poem:\n",
        "\"\"\"\n",
        "print(get_ai_response(important_refined))"
      ],
      "metadata": {
        "colab": {
          "base_uri": "https://localhost:8080/"
        },
        "id": "2taAfSLxbjsM",
        "outputId": "e296e883-0ebf-419e-f137-14142c597082"
      },
      "execution_count": null,
      "outputs": [
        {
          "output_type": "stream",
          "name": "stdout",
          "text": [
            "=== Vague Prompt ===\n",
            "In the hush of dawn's embrace,  \n",
            "Where shadows dance and whispers trace,  \n",
            "The world awakens, soft and slow,  \n",
            "As golden rays begin to glow.  \n",
            "\n",
            "The dew-kissed grass, a jeweled sheet,  \n",
            "Beneath the sky, a canvas sweet,  \n",
            "Each blade a story, fresh and new,  \n",
            "In nature's breath, life's dreams renew.  \n",
            "\n",
            "The trees stand tall, like ancient guards,  \n",
            "Their branches weave a tapestry of stars,  \n",
            "With every rustle, secrets shared,  \n",
            "Of whispered hopes and hearts laid bare.  \n",
            "\n",
            "The river sings a gentle song,  \n",
            "Its currents swift, yet never wrong,  \n",
            "A melody of time's embrace,  \n",
            "A winding path through nature's grace.  \n",
            "\n",
            "As sun ascends, the colors blend,  \n",
            "In hues of amber, gold, and mend,  \n",
            "The day unfolds, a vibrant scene,  \n",
            "A tapestry of what has been.  \n",
            "\n",
            "So let us walk in morning's light,  \n",
            "With open hearts, our spirits bright,  \n",
            "For in each moment, life reveals,  \n",
            "The beauty found in what it feels. \n",
            "\n",
            "=== Refined Prompt ===\n",
            "In springtime's light, the world awakes,  \n",
            "With blossoms bright and gentle lakes.  \n",
            "A whispering breeze, a sky so blue,  \n",
            "Hope blossoms forth in every hue. \n",
            "\n",
            "In gardens bright, the blossoms sway,  \n",
            "As sunlight dances, chasing gray.  \n",
            "With every bud, the world’s anew,  \n",
            "In vibrant hues, life’s dreams break through.\n"
          ]
        }
      ]
    },
    {
      "cell_type": "code",
      "source": [
        "# Ask the model a fact-based question without anchoring:\n",
        "hallucination_prompt = \"Tell me about the latest Mars mission.\"\n"
      ],
      "metadata": {
        "id": "l3PFPGqXb1_g"
      },
      "execution_count": null,
      "outputs": []
    },
    {
      "cell_type": "code",
      "source": [
        "# Then anchor the prompt with fact-stating instructions:\n",
        "\n",
        "anchored_prompt = \"\"\"\n",
        "Based only on verified scientific information up to 2023,\n",
        "summarize the objectives of the latest Mars mission.\n",
        "If not sure, say 'I don't know.'\n",
        "\"\"\""
      ],
      "metadata": {
        "id": "Qk2qn7KXb6TC"
      },
      "execution_count": null,
      "outputs": []
    },
    {
      "cell_type": "code",
      "source": [
        "# Compare outputs.\n",
        "\n",
        "print(\"=== Potential Hallucination Prompt ===\")\n",
        "print(get_ai_response(hallucination_prompt), \"\\n\")\n",
        "\n",
        "print(\"=== Anchored Prompt to Avoid Hallucinations ===\")\n",
        "print(get_ai_response(anchored_prompt))"
      ],
      "metadata": {
        "colab": {
          "base_uri": "https://localhost:8080/"
        },
        "id": "dD6eOS6ib8Q-",
        "outputId": "bf77a96b-3c21-4870-8a1e-0d5d16be0bd4"
      },
      "execution_count": null,
      "outputs": [
        {
          "output_type": "stream",
          "name": "stdout",
          "text": [
            "=== Potential Hallucination Prompt ===\n",
            "As of October 2023, the latest Mars mission is NASA's Mars Sample Return (MSR) program, which aims to bring samples of Martian soil and rock back to Earth for detailed analysis. While the mission is being developed in collaboration with the European Space Agency (ESA), the first phase includes the Mars Perseverance rover, which landed on Mars in February 2021. Perseverance is tasked with collecting and storing samples from the Jezero Crater, which are believed to be rich in ancient microbial life.\n",
            "\n",
            "Perseverance has been actively conducting scientific investigations and has already collected several samples that it is caching for future retrieval. The mission is expected to continue collecting samples until around 2025.\n",
            "\n",
            "Following Perseverance's work, the MSR program includes plans for a lander and a sample retrieval rover to collect these cached samples and return them to a Mars ascent vehicle, which will launch them into Mars orbit. From there, another spacecraft will transport the samples back to Earth, with the goal of arriving in the 2030s.\n",
            "\n",
            "In addition, the ESA is developing the Earth Return Orbiter, which will capture the samples in Martian orbit and bring them back to Earth.\n",
            "\n",
            "As missions to Mars continue to evolve, new discoveries and technological advancements are likely to shape future exploration of the Red Planet. For the most up-to-date information, it's always a good idea to check official NASA or ESA resources. \n",
            "\n",
            "=== Anchored Prompt to Avoid Hallucinations ===\n",
            "As of 2023, the latest Mars missions include NASA's Perseverance rover and the Ingenuity helicopter, which landed on Mars in February 2021. The main objectives of the Perseverance mission are:\n",
            "\n",
            "1. **Astrobiology**: To search for signs of ancient microbial life in the Jezero Crater, which is believed to have once contained a lake.\n",
            "\n",
            "2. **Sample Collection**: To collect and store rock and soil samples for potential return to Earth by future missions.\n",
            "\n",
            "3. **Geological Assessment**: To study the planet's geology and climate, providing insights into its past environment.\n",
            "\n",
            "4. **Technology Demonstration**: To test new technology, including the MOXIE experiment, which aims to produce oxygen from Mars' carbon dioxide-rich atmosphere.\n",
            "\n",
            "5. **Preparation for Human Exploration**: To gather data that will help inform future human missions to Mars.\n",
            "\n",
            "These objectives aim to enhance our understanding of Mars and pave the way for future exploration.\n"
          ]
        }
      ]
    },
    {
      "cell_type": "code",
      "source": [
        "overloaded_prompt = \"\"\"\n",
        "Explain the theory of relativity including special and general relativity,\n",
        "provide examples, historical context, significance in physics, and common misconceptions,\n",
        "all in a single paragraph.\n",
        "\"\"\" * 3  # Repeated to simulate length\n",
        "\n",
        "print(\"=== Overloaded Prompt ===\")\n",
        "print(get_ai_response(overloaded_prompt), \"\\n\")\n",
        "\n",
        "smaller_prompts = [\n",
        "    \"Explain the theory of special relativity in simple terms.\",\n",
        "    \"Explain the theory of general relativity with a real-world example.\",\n",
        "    \"List common misconceptions about relativity.\"\n",
        "]\n",
        "\n",
        "for i, sp in enumerate(smaller_prompts, 1):\n",
        "    print(f\"--- Smaller Prompt {i} ---\")\n",
        "    print(get_ai_response(sp), \"\\n\")"
      ],
      "metadata": {
        "colab": {
          "base_uri": "https://localhost:8080/"
        },
        "id": "EsE4MbNvcUKw",
        "outputId": "28c0422e-b182-4c36-bf02-5e6a16fc114b"
      },
      "execution_count": null,
      "outputs": [
        {
          "output_type": "stream",
          "name": "stdout",
          "text": [
            "=== Overloaded Prompt ===\n",
            "The theory of relativity, proposed by Albert Einstein in the early 20th century, encompasses two parts: special relativity (1905) and general relativity (1915). Special relativity introduced the revolutionary concepts that the laws of physics are the same for all observers in uniform motion and that the speed of light is constant, leading to phenomena like time dilation and length contraction; for example, a twin traveling at near-light speed ages more slowly than their Earth-bound sibling. General relativity expanded these ideas to include gravity, describing it not as a force but as the curvature of spacetime caused by mass, predicting phenomena such as the bending of light around massive objects, which was confirmed during a solar eclipse in 1919. Historically, Einstein's theories challenged the Newtonian framework that had dominated physics for centuries, profoundly influencing our understanding of space, time, and gravity, and laying the groundwork for modern cosmology. Common misconceptions include the belief that relativity denies an absolute time or that it only applies to objects moving at relativistic speeds; in fact, relativity applies universally while clarifying that time and space are interwoven and dependent on the observer's frame of reference. \n",
            "\n",
            "--- Smaller Prompt 1 ---\n",
            "Sure! The theory of special relativity, proposed by Albert Einstein in 1905, is a fundamental idea in physics that changes our understanding of space and time. Here’s a simple breakdown:\n",
            "\n",
            "1. **Two Key Principles**:\n",
            "   - **Constant Speed of Light**: No matter how fast you are moving or in what direction, light travels at the same speed (about 299,792 kilometers per second or 186,282 miles per second) for everyone.\n",
            "   - **Relativity of Simultaneity**: Events that seem to happen at the same time for one observer may not appear simultaneous to another observer moving at a different speed.\n",
            "\n",
            "2. **Time Dilation**: If you travel very fast (close to the speed of light), time will pass more slowly for you compared to someone who is not moving as fast. This means if you went on a high-speed journey through space and returned, you might find that less time has passed for you than for people who stayed on Earth.\n",
            "\n",
            "3. **Length Contraction**: Similarly, objects moving at high speeds will appear shorter in the direction of motion to someone observing from a stationary position. So, if a spaceship travels close to the speed of light, it will look shorter to someone watching from the ground.\n",
            "\n",
            "4. **Mass-Energy Equivalence**: This is famously summarized in the equation \\(E=mc^2\\), which means that mass can be converted into energy and vice versa. This principle explains why nuclear reactions can release so much energy.\n",
            "\n",
            "5. **Gravity and Acceleration**: Special relativity focuses on observers moving at constant speeds (not accelerating). It does not deal with gravity, which is addressed in Einstein's later theory, general relativity.\n",
            "\n",
            "In summary, special relativity shows us that space and time are interlinked and can change depending on how fast you are moving, leading to some surprising and counterintuitive consequences. \n",
            "\n",
            "--- Smaller Prompt 2 ---\n",
            "The theory of general relativity, formulated by Albert Einstein in 1915, is a fundamental theory of gravitation that describes gravity not as a force, but as a curvature of spacetime caused by mass and energy. In simpler terms, massive objects like planets and stars warp the fabric of spacetime around them, and this curvature influences the motion of objects nearby.\n",
            "\n",
            "### Key Concepts of General Relativity:\n",
            "1. **Spacetime**: The four-dimensional continuum that combines the three dimensions of space with the dimension of time.\n",
            "2. **Curvature**: Mass and energy tell spacetime how to curve, and curved spacetime tells objects how to move.\n",
            "3. **Geodesics**: The paths that objects follow in curved spacetime are called geodesics, which can be thought of as the \"straightest\" possible paths in that curved context.\n",
            "\n",
            "### Real-World Example: The Orbit of Mercury\n",
            "\n",
            "One of the classic examples that illustrate general relativity is the precession of Mercury's orbit around the Sun. \n",
            "\n",
            "#### Background:\n",
            "Before general relativity, Newton's laws of motion and universal gravitation explained most planetary motions very well. However, astronomers observed that Mercury’s orbit did not precisely match the predictions made by Newtonian physics. Specifically, the point of Mercury's closest approach to the Sun (called perihelion) shifted slightly with each orbit, a phenomenon known as perihelion precession.\n",
            "\n",
            "#### The Challenge:\n",
            "Using Newtonian mechanics, the precession could be calculated fairly accurately, but there remained a small discrepancy of about 43 arcseconds per century that could not be accounted for by known gravitational influences from other planets.\n",
            "\n",
            "#### General Relativity's Insight:\n",
            "Einstein's theory of general relativity provided a new understanding of gravity that accounted for this discrepancy. According to general relativity, the massive Sun creates a curvature in spacetime that affects the trajectory of Mercury. The curvature caused by the Sun’s mass means that Mercury is not only influenced by the gravitational pull of the Sun but also by the way that the Sun warps the spacetime around it.\n",
            "\n",
            "When Einstein applied his equations to the problem of Mercury's orbit, he found that the effects of spacetime curvature due to the Sun's mass could explain the additional precession observed. His calculations matched the observed value perfectly, thus confirming general relativity’s predictions.\n",
            "\n",
            "### Conclusion:\n",
            "The precession of Mercury’s orbit is a prime example of how general relativity provides a deeper and more accurate understanding of gravitational interactions. It illustrates the concept that gravity is not merely a force acting at a distance but is a manifestation of the curvature of spacetime caused by mass. This insight has profound implications, influencing modern astrophysics, cosmology, and our understanding of the universe. \n",
            "\n",
            "--- Smaller Prompt 3 ---\n",
            "Here are some common misconceptions about relativity, specifically regarding both Special Relativity and General Relativity:\n",
            "\n",
            "### Special Relativity Misconceptions\n",
            "\n",
            "1. **Time Dilation Means Time Slows Down**: Many believe that time itself slows down for a moving observer. In reality, it’s the measurement of time that differs between observers; each perceives their own time as normal.\n",
            "\n",
            "2. **Mass Increases with Speed**: It is often stated that an object’s mass increases as it approaches the speed of light. In modern physics, we prefer to talk about relativistic momentum and energy, rather than mass increasing.\n",
            "\n",
            "3. **Nothing Can Travel Faster Than Light**: While it's true that nothing can exceed the speed of light in a vacuum, some interpretations of quantum mechanics (such as entanglement) seem to suggest that information can be transmitted faster than light, though this does not violate relativity.\n",
            "\n",
            "4. **Relativity is Only About Speed**: Relativity encompasses more than just speed; it also involves the effects of gravity, particularly in general relativity, and how space and time are interconnected.\n",
            "\n",
            "5. **Simultaneity is Absolute**: People often think that simultaneity is the same for all observers. However, relativity shows that events perceived as simultaneous in one frame of reference may not be simultaneous in another.\n",
            "\n",
            "### General Relativity Misconceptions\n",
            "\n",
            "1. **Gravity is a Force**: While gravity is often thought of as a force, general relativity describes it as the curvature of spacetime caused by mass. Objects move along the curved paths in this spacetime.\n",
            "\n",
            "2. **Black Holes are 'Holes'**: The term \"black hole\" can be misleading. They are not holes in space, but rather extremely dense regions where gravity is so strong that not even light can escape.\n",
            "\n",
            "3. **Time Passes Slower Near Massive Objects**: While it's true that time is affected by gravity (gravitational time dilation), the difference is only significant under extreme conditions, such as near a black hole or neutron star.\n",
            "\n",
            "4. **General Relativity is Just an Extension of Newton's Laws**: While general relativity does reduce to Newtonian gravity under certain conditions, it introduces fundamentally new concepts about spacetime and is not merely an extension.\n",
            "\n",
            "5. **Relativity is Just a Theory**: In scientific terminology, a \"theory\" is a well-substantiated explanation of some aspect of the natural world. Relativity has been extensively tested and confirmed, not merely a hypothesis or conjecture.\n",
            "\n",
            "6. **Relativity is Unintuitive and Doesn't Apply to Everyday Life**: Many effects of relativity, such as time dilation, are negligible at everyday speeds but become significant in high-speed or high-gravity scenarios, including technologies like GPS.\n",
            "\n",
            "### General Misconceptions\n",
            "\n",
            "1. **Relativity is Only for Astrophysics**: While it has profound implications in astrophysics, relativity also has practical applications in technologies such as GPS and particle accelerators.\n",
            "\n",
            "2. **Einstein Came Up with Everything Alone**: While Einstein is credited with the theories of relativity, many ideas were built upon the work of earlier scientists, including Lorentz, Poincaré, and Newton.\n",
            "\n",
            "3. **Relativity is Outdated**: Some believe that relativity has been superseded by quantum mechanics or other theories. In truth, relativity remains a cornerstone of modern physics and is compatible with quantum theory in many ways.\n",
            "\n",
            "Understanding these misconceptions can help clarify the real implications and nature of relativity in physics. \n",
            "\n"
          ]
        }
      ]
    },
    {
      "cell_type": "code",
      "source": [
        "# Start with an ambiguous prompt:\n",
        "ambiguous_request = \"Create an efficient sorting algorithm.\"\n"
      ],
      "metadata": {
        "id": "EmnfdQWScskr"
      },
      "execution_count": null,
      "outputs": []
    },
    {
      "cell_type": "code",
      "source": [
        "# Ask the model if it understands what is meant by \"efficient sorting algorithm\":\n",
        "\n",
        "meta_prompt = \"\"\"\n",
        "Before you write code, please explain what you understand by\n",
        "'efficient sorting algorithm.' If unsure, ask for clarification.\n",
        "\"\"\""
      ],
      "metadata": {
        "id": "YI8JNrZNcvr_"
      },
      "execution_count": null,
      "outputs": []
    },
    {
      "cell_type": "code",
      "source": [
        "# Run meta-prompt and analyze the output.\n",
        "# Based on the model's answer, refine the original prompt with explicit constraints.\n",
        "\n",
        "print(\"=== Ambiguous Request ===\")\n",
        "print(get_ai_response(ambiguous_request), \"\\n\")\n",
        "\n",
        "print(\"=== Meta Prompt (Check Understanding) ===\")\n",
        "print(get_ai_response(meta_prompt), \"\\n\")\n",
        "\n",
        "refined_sort_prompt = \"\"\"\n",
        "Write a Python function implementing merge sort, emphasizing O(n log n) time complexity.\n",
        "Include comments explaining each step.\n",
        "\"\"\"\n",
        "print(get_ai_response(refined_sort_prompt))"
      ],
      "metadata": {
        "colab": {
          "base_uri": "https://localhost:8080/"
        },
        "id": "C_DRck_hczhC",
        "outputId": "af15e62b-5bab-4595-a12a-f0d4374385c8"
      },
      "execution_count": null,
      "outputs": [
        {
          "output_type": "stream",
          "name": "stdout",
          "text": [
            "=== Ambiguous Request ===\n",
            "Creating an efficient sorting algorithm involves understanding the characteristics and requirements of sorting. While there are many established sorting algorithms, I will provide a brief overview of an efficient sorting algorithm known as **Merge Sort**.\n",
            "\n",
            "### Merge Sort Algorithm\n",
            "\n",
            "Merge Sort is a classic divide-and-conquer algorithm that is efficient and has a time complexity of \\(O(n \\log n)\\). Here’s how it works:\n",
            "\n",
            "1. **Divide**: Split the array into two halves until each subarray contains a single element.\n",
            "2. **Conquer**: Merge the subarrays back together in sorted order.\n",
            "\n",
            "### Merge Sort Implementation in Python\n",
            "\n",
            "Here is a simple implementation of the Merge Sort algorithm in Python:\n",
            "\n",
            "```python\n",
            "def merge_sort(arr):\n",
            "    if len(arr) > 1:\n",
            "        mid = len(arr) // 2  # Find the middle of the array\n",
            "        left_half = arr[:mid]  # Divide the array elements into 2 halves\n",
            "        right_half = arr[mid:]\n",
            "\n",
            "        merge_sort(left_half)  # Sort the first half\n",
            "        merge_sort(right_half)  # Sort the second half\n",
            "\n",
            "        i = j = k = 0\n",
            "\n",
            "        # Copy data to temp arrays L[] and R[]\n",
            "        while i < len(left_half) and j < len(right_half):\n",
            "            if left_half[i] < right_half[j]:\n",
            "                arr[k] = left_half[i]\n",
            "                i += 1\n",
            "            else:\n",
            "                arr[k] = right_half[j]\n",
            "                j += 1\n",
            "            k += 1\n",
            "\n",
            "        # Checking if any element was left\n",
            "        while i < len(left_half):\n",
            "            arr[k] = left_half[i]\n",
            "            i += 1\n",
            "            k += 1\n",
            "\n",
            "        while j < len(right_half):\n",
            "            arr[k] = right_half[j]\n",
            "            j += 1\n",
            "            k += 1\n",
            "\n",
            "    return arr\n",
            "\n",
            "# Example usage:\n",
            "if __name__ == \"__main__\":\n",
            "    data = [38, 27, 43, 3, 9, 82, 10]\n",
            "    sorted_data = merge_sort(data)\n",
            "    print(\"Sorted array:\", sorted_data)\n",
            "```\n",
            "\n",
            "### Explanation of the Code\n",
            "\n",
            "1. **Base Case**: If the length of the array is 1 or less, it is already sorted.\n",
            "2. **Dividing the Array**: The array is divided into two halves using slicing.\n",
            "3. **Recursive Calls**: `merge_sort()` is called recursively on both halves.\n",
            "4. **Merging**: The two sorted halves are merged back together:\n",
            "   - Two pointers are used to track the current index of each half.\n",
            "   - Compare elements from both halves and add the smaller element to the sorted array.\n",
            "5. **Handling Remaining Elements**: After one of the halves is exhausted, any remaining elements from the other half are copied over.\n",
            "\n",
            "### Advantages of Merge Sort\n",
            "- **Stable**: It maintains the relative order of equal elements.\n",
            "- **Consistent Time Complexity**: It has a guaranteed time complexity of \\(O(n \\log n)\\), making it efficient for large datasets.\n",
            "\n",
            "### Disadvantages of Merge Sort\n",
            "- **Space Complexity**: It requires additional space proportional to the size of the array being sorted.\n",
            "\n",
            "This implementation provides a clear and efficient way to sort an array using the Merge Sort algorithm. \n",
            "\n",
            "=== Meta Prompt (Check Understanding) ===\n",
            "An efficient sorting algorithm is one that can arrange a list of items in a specific order (usually ascending or descending) while minimizing the time and space complexity associated with the sorting process. Here are some key characteristics and criteria that define an efficient sorting algorithm:\n",
            "\n",
            "1. **Time Complexity**: This refers to the amount of time an algorithm takes to sort data as a function of the input size. Efficient sorting algorithms typically have a time complexity of \\(O(n \\log n)\\) in the average and worst cases, such as Merge Sort and Quick Sort. Simpler algorithms like Bubble Sort or Insertion Sort have a time complexity of \\(O(n^2)\\) and are generally less efficient for large datasets.\n",
            "\n",
            "2. **Space Complexity**: This measures the amount of additional memory required by the algorithm. Some sorting algorithms, like Merge Sort, require additional space proportional to the size of the input, while others, like Quick Sort, can sort in-place (using \\(O(\\log n)\\) space for the recursion stack).\n",
            "\n",
            "3. **Stability**: A stable sorting algorithm maintains the relative order of records with equal keys (values). For example, if two items are equal, they will appear in the same order in the sorted output as they did in the input. Stability can be important in certain applications.\n",
            "\n",
            "4. **Adaptability**: Some algorithms are adaptive, meaning they perform better when the input is partially sorted. For example, Insertion Sort is efficient for small or nearly sorted datasets.\n",
            "\n",
            "5. **Worst-Case Performance**: An efficient sorting algorithm should have a predictable worst-case performance. For example, Quick Sort has a worst-case performance of \\(O(n^2)\\) but is often very fast in practice, while Merge Sort guarantees \\(O(n \\log n)\\) performance.\n",
            "\n",
            "6. **Comparison vs. Non-Comparison**: Most efficient sorting algorithms are comparison-based (they compare elements to determine order), but there are non-comparison-based algorithms, like Counting Sort and Radix Sort, which can achieve linear time complexity under certain conditions.\n",
            "\n",
            "In summary, an efficient sorting algorithm effectively balances the trade-offs between time and space complexity, and its choice can depend on the specific characteristics of the data being sorted and the requirements of the application. \n",
            "\n",
            "Certainly! Below is a Python implementation of the Merge Sort algorithm, which is designed to have a time complexity of O(n log n). I've included comments to explain each step of the algorithm.\n",
            "\n",
            "```python\n",
            "def merge_sort(arr):\n",
            "    \"\"\"\n",
            "    Sorts an array using the merge sort algorithm.\n",
            "    \n",
            "    Parameters:\n",
            "    arr (list): The list of elements to be sorted.\n",
            "    \n",
            "    Returns:\n",
            "    list: A new sorted list.\n",
            "    \"\"\"\n",
            "    # Base case: if the array has one or zero elements, it's already sorted\n",
            "    if len(arr) <= 1:\n",
            "        return arr\n",
            "    \n",
            "    # Step 1: Divide the array into two halves\n",
            "    mid = len(arr) // 2  # Find the middle index\n",
            "    left_half = arr[:mid]  # Left sub-array\n",
            "    right_half = arr[mid:]  # Right sub-array\n",
            "    \n",
            "    # Step 2: Recursively sort both halves\n",
            "    sorted_left = merge_sort(left_half)  # Sort the left sub-array\n",
            "    sorted_right = merge_sort(right_half)  # Sort the right sub-array\n",
            "    \n",
            "    # Step 3: Merge the sorted halves\n",
            "    return merge(sorted_left, sorted_right)\n",
            "\n",
            "def merge(left, right):\n",
            "    \"\"\"\n",
            "    Merges two sorted arrays into a single sorted array.\n",
            "    \n",
            "    Parameters:\n",
            "    left (list): The first sorted list.\n",
            "    right (list): The second sorted list.\n",
            "    \n",
            "    Returns:\n",
            "    list: A merged sorted list containing elements from both input lists.\n",
            "    \"\"\"\n",
            "    merged = []  # This will hold the merged result\n",
            "    i = j = 0  # Initialize pointers for left and right lists\n",
            "\n",
            "    # Step 4: Compare elements from both arrays and merge them\n",
            "    while i < len(left) and j < len(right):\n",
            "        if left[i] < right[j]:\n",
            "            merged.append(left[i])  # Add smaller element to merged\n",
            "            i += 1  # Move pointer in left array\n",
            "        else:\n",
            "            merged.append(right[j])  # Add smaller element to merged\n",
            "            j += 1  # Move pointer in right array\n",
            "\n",
            "    # Step 5: If there are remaining elements in left or right, add them to merged\n",
            "    while i < len(left):\n",
            "        merged.append(left[i])\n",
            "        i += 1\n",
            "\n",
            "    while j < len(right):\n",
            "        merged.append(right[j])\n",
            "        j += 1\n",
            "\n",
            "    return merged  # Return the combined sorted array\n",
            "\n",
            "# Example usage\n",
            "if __name__ == \"__main__\":\n",
            "    sample_array = [38, 27, 43, 3, 9, 82, 10]\n",
            "    sorted_array = merge_sort(sample_array)\n",
            "    print(\"Sorted array:\", sorted_array)\n",
            "```\n",
            "\n",
            "### Explanation of the Code:\n",
            "\n",
            "1. **Base Case**: The `merge_sort` function checks if the list has one or zero elements. If so, it returns the list as it is already sorted.\n",
            "\n",
            "2. **Dividing**: The array is divided into two halves using the midpoint. The left half contains elements from the start to the midpoint, and the right half contains the rest.\n",
            "\n",
            "3. **Recursive Sorting**: The `merge_sort` function is called recursively on both halves until the base case is reached.\n",
            "\n",
            "4. **Merging**: The `merge` function takes two sorted lists and merges them into a single sorted list. It uses two pointers to track the current position in each list. It compares the elements pointed to by the pointers and appends the smaller one to the merged list.\n",
            "\n",
            "5. **Handling Remaining Elements**: After one of the lists is fully traversed, any remaining elements from the other list are appended to the merged list.\n",
            "\n",
            "This implementation ensures that the overall time complexity of the merge sort algorithm remains O(n log n), making it efficient for sorting larger datasets.\n"
          ]
        }
      ]
    }
  ]
}