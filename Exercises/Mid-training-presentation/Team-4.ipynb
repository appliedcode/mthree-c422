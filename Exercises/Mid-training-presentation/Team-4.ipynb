{
  "cells": [
    {
      "cell_type": "markdown",
      "metadata": {
        "colab_type": "text",
        "id": "view-in-github"
      },
      "source": [
        "<a href=\"https://colab.research.google.com/github/appliedcode/mthree-c422/blob/main/Exercises/day-6/practice.ipynb\" target=\"_parent\"><img src=\"https://colab.research.google.com/assets/colab-badge.svg\" alt=\"Open In Colab\"/></a>"
      ]
    },
    {
      "cell_type": "markdown",
      "metadata": {
        "id": "RpsOG3v9XMxn"
      },
      "source": [
        "# ETL Lab Exercise: NYC Yellow Taxi Trip Dataset (Public CSV Download)\n",
        "\n",
        "## Problem Statement\n",
        "\n",
        "In this exercise, you'll build an ETL (Extract-Transform-Load) pipeline in Google Colab, using real-world trip data from New York City's iconic yellow taxis.\n",
        "\n",
        "---\n",
        "\n",
        "## Tasks\n",
        "\n",
        "### 1. Extract\n",
        "- **Download:**  \n",
        "  Download a recent sample NYC Yellow Taxi Trip data CSV from this public direct URL:  \n",
        "  [https://data.cityofnewyork.us/api/views/kxp8-n2sj/rows.csv?accessType=DOWNLOAD](https://data.cityofnewyork.us/api/views/kxp8-n2sj/rows.csv?accessType=DOWNLOAD)\n",
        "- **Load:**  \n",
        "  Load the CSV file into a pandas DataFrame.\n",
        "\n",
        "### 2. Transform\n",
        "- **Clean:**  \n",
        "  - Handle missing or inconsistent values in key columns (like fare amount, trip distance, passenger count).\n",
        "  - Convert date columns (e.g., pickup/dropoff datetime) to proper datetime format.\n",
        "  - Remove records that aren't plausible (e.g., zero or negative trip distance or fare).\n",
        "- **Feature Engineering:**  \n",
        "  - Compute trip duration in minutes.\n",
        "  - Create a new feature called `Tip_Percent` as `tip_amount/total_amount * 100`.\n",
        "  - Categorize each ride by time of day (\"Morning\", \"Afternoon\", \"Evening\", \"Night\") using the pickup timestamp.\n",
        "\n",
        "### 3. Load\n",
        "- **SQLite Storage:**  \n",
        "  Store the transformed DataFrame in a local SQLite database in Colab.\n",
        "- **SQL Queries:**  \n",
        "  - What is the average fare by time-of-day category?\n",
        "  - What is the distribution of tip percentages?\n",
        "  - Which hour of the day sees the highest average trip duration?\n",
        "\n",
        "---\n",
        "\n",
        "## Constraints\n",
        "\n",
        "- Use only pandas, Python standard library, and SQLite inside Google Colab.\n",
        "- Do not use external databases or cloud services.\n",
        "\n",
        "---\n",
        "\n",
        "## Dataset\n",
        "\n",
        "- **NYC Yellow Taxi Trip Data (Sample CSV, January to June 2020):**  \n",
        "  [https://data.cityofnewyork.us/api/views/kxp8-n2sj/rows.csv?accessType=DOWNLOAD](https://data.cityofnewyork.us/api/views/kxp8-n2sj/rows.csv?accessType=DOWNLOAD)\n",
        "\n",
        "---\n",
        "\n",
        "## Example Challenge Questions\n",
        "\n",
        "- What is the median trip distance in the data?\n",
        "- How does tip percentage relate to trip duration?\n",
        "- What proportion of trips are cash vs. card payments?\n",
        "\n",
        "---\n",
        "\n",
        "**Expected Outcome:**  \n",
        "By completing this lab, you’ll experience the full pipeline: extracting real urban transport data, cleaning and crafting new analytics features, and running practical SQL queries—100% locally within Colab.\n"
      ]
    },
    {
      "cell_type": "markdown",
      "metadata": {
        "id": "WI2MFwO5Q76F"
      },
      "source": []
    }
  ],
  "metadata": {
    "colab": {
      "include_colab_link": true,
      "name": "Welcome to Colab",
      "provenance": []
    },
    "kernelspec": {
      "display_name": "Python 3",
      "name": "python3"
    }
  },
  "nbformat": 4,
  "nbformat_minor": 0
}
