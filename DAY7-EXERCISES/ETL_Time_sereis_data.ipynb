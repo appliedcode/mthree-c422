{
  "nbformat": 4,
  "nbformat_minor": 0,
  "metadata": {
    "colab": {
      "provenance": []
    },
    "kernelspec": {
      "name": "python3",
      "display_name": "Python 3"
    },
    "language_info": {
      "name": "python"
    }
  },
  "cells": [
    {
      "cell_type": "code",
      "execution_count": 1,
      "metadata": {
        "id": "CfN6XaBSyRDX"
      },
      "outputs": [],
      "source": [
        "# Download the dataset\n",
        "url = \"https://raw.githubusercontent.com/CSSEGISandData/COVID-19/master/csse_covid_19_data/csse_covid_19_time_series/time_series_covid19_confirmed_global.csv\"\n",
        "!wget -qO covid_confirmed.csv $url"
      ]
    },
    {
      "cell_type": "code",
      "source": [
        "import pandas as pd\n",
        "\n",
        "df_raw = pd.read_csv(\"covid_confirmed.csv\")\n",
        "print(df_raw.head())"
      ],
      "metadata": {
        "colab": {
          "base_uri": "https://localhost:8080/"
        },
        "id": "D5euaf-P0Ft7",
        "outputId": "b88f3586-5f90-4a2d-e98b-01aa8f6c7c26"
      },
      "execution_count": 2,
      "outputs": [
        {
          "output_type": "stream",
          "name": "stdout",
          "text": [
            "  Province/State Country/Region       Lat       Long  1/22/20  1/23/20  \\\n",
            "0            NaN    Afghanistan  33.93911  67.709953        0        0   \n",
            "1            NaN        Albania  41.15330  20.168300        0        0   \n",
            "2            NaN        Algeria  28.03390   1.659600        0        0   \n",
            "3            NaN        Andorra  42.50630   1.521800        0        0   \n",
            "4            NaN         Angola -11.20270  17.873900        0        0   \n",
            "\n",
            "   1/24/20  1/25/20  1/26/20  1/27/20  ...  2/28/23  3/1/23  3/2/23  3/3/23  \\\n",
            "0        0        0        0        0  ...   209322  209340  209358  209362   \n",
            "1        0        0        0        0  ...   334391  334408  334408  334427   \n",
            "2        0        0        0        0  ...   271441  271448  271463  271469   \n",
            "3        0        0        0        0  ...    47866   47875   47875   47875   \n",
            "4        0        0        0        0  ...   105255  105277  105277  105277   \n",
            "\n",
            "   3/4/23  3/5/23  3/6/23  3/7/23  3/8/23  3/9/23  \n",
            "0  209369  209390  209406  209436  209451  209451  \n",
            "1  334427  334427  334427  334427  334443  334457  \n",
            "2  271469  271477  271477  271490  271494  271496  \n",
            "3   47875   47875   47875   47875   47890   47890  \n",
            "4  105277  105277  105277  105277  105288  105288  \n",
            "\n",
            "[5 rows x 1147 columns]\n"
          ]
        }
      ]
    },
    {
      "cell_type": "code",
      "source": [
        "# Drop unnecessary columns and melt the date columns\n",
        "df = df_raw.drop(columns=[\"Lat\", \"Long\", \"Province/State\"])\n",
        "\n",
        "# Wide to long format\n",
        "df_long = df.melt(id_vars=[\"Country/Region\"], var_name=\"Date\", value_name=\"Confirmed\")\n",
        "\n",
        "# Convert Date to datetime\n",
        "df_long[\"Date\"] = pd.to_datetime(df_long[\"Date\"])\n",
        "\n",
        "# Group by country and date (some countries have multiple entries)\n",
        "df_grouped = df_long.groupby([\"Country/Region\", \"Date\"]).sum().reset_index()\n",
        "df_grouped.rename(columns={\"Country/Region\": \"Country\"}, inplace=True)\n",
        "\n",
        "print(df_grouped.head())\n"
      ],
      "metadata": {
        "colab": {
          "base_uri": "https://localhost:8080/"
        },
        "id": "esL3n64T0Lvi",
        "outputId": "97ec6f81-44fe-4b0e-fd5c-6bcd0e139f4d"
      },
      "execution_count": 3,
      "outputs": [
        {
          "output_type": "stream",
          "name": "stdout",
          "text": [
            "       Country       Date  Confirmed\n",
            "0  Afghanistan 2020-01-22          0\n",
            "1  Afghanistan 2020-01-23          0\n",
            "2  Afghanistan 2020-01-24          0\n",
            "3  Afghanistan 2020-01-25          0\n",
            "4  Afghanistan 2020-01-26          0\n"
          ]
        },
        {
          "output_type": "stream",
          "name": "stderr",
          "text": [
            "/tmp/ipython-input-489144949.py:8: UserWarning: Could not infer format, so each element will be parsed individually, falling back to `dateutil`. To ensure parsing is consistent and as-expected, please specify a format.\n",
            "  df_long[\"Date\"] = pd.to_datetime(df_long[\"Date\"])\n"
          ]
        }
      ]
    },
    {
      "cell_type": "code",
      "source": [
        "# Add 'Month' column for monthly grouping\n",
        "df_grouped[\"Month\"] = df_grouped[\"Date\"].dt.to_period(\"M\").dt.to_timestamp()\n",
        "\n",
        "# Get monthly last available value (cumulative confirmed)\n",
        "df_monthly = df_grouped.sort_values(\"Date\").groupby([\"Country\", \"Month\"]).last().reset_index()\n",
        "\n",
        "# Calculate monthly increase\n",
        "df_monthly[\"Monthly_Increase\"] = df_monthly.groupby(\"Country\")[\"Confirmed\"].diff().fillna(0)\n",
        "\n",
        "# Calculate growth rate (avoid division by zero)\n",
        "df_monthly[\"Growth_Rate\"] = df_monthly.groupby(\"Country\")[\"Confirmed\"].pct_change().fillna(0).replace([float('inf'), -float('inf')], 0)\n",
        "\n",
        "print(df_monthly.head())\n"
      ],
      "metadata": {
        "colab": {
          "base_uri": "https://localhost:8080/"
        },
        "id": "fVSy8FKs0S9i",
        "outputId": "18279f96-ed2e-450f-9cbf-f1412f2145e3"
      },
      "execution_count": 4,
      "outputs": [
        {
          "output_type": "stream",
          "name": "stdout",
          "text": [
            "       Country      Month       Date  Confirmed  Monthly_Increase  Growth_Rate\n",
            "0  Afghanistan 2020-01-01 2020-01-31          0               0.0     0.000000\n",
            "1  Afghanistan 2020-02-01 2020-02-29          5               5.0     0.000000\n",
            "2  Afghanistan 2020-03-01 2020-03-31        166             161.0    32.200000\n",
            "3  Afghanistan 2020-04-01 2020-04-30       1827            1661.0    10.006024\n",
            "4  Afghanistan 2020-05-01 2020-05-31      15180           13353.0     7.308703\n"
          ]
        }
      ]
    },
    {
      "cell_type": "code",
      "source": [
        "# to SQLite\n",
        "\n",
        "import sqlite3\n",
        "\n",
        "# Connect to SQLite and save table\n",
        "conn = sqlite3.connect(\"covid_etl.db\")\n",
        "df_monthly.to_sql(\"covid_data\", conn, if_exists=\"replace\", index=False)\n",
        "\n",
        "print(\"Data loaded to SQLite.\")\n"
      ],
      "metadata": {
        "colab": {
          "base_uri": "https://localhost:8080/"
        },
        "id": "UB7xIZzN0alB",
        "outputId": "b0846233-c801-44b3-f201-9d760b17c87f"
      },
      "execution_count": 6,
      "outputs": [
        {
          "output_type": "stream",
          "name": "stdout",
          "text": [
            "Data loaded to SQLite.\n"
          ]
        }
      ]
    },
    {
      "cell_type": "code",
      "source": [
        "# Top 5 Countries by Confirmed Cases in a Selected Month\n",
        "month = \"2021-01-01\"  # Change as needed\n",
        "\n",
        "query_top5 =\"SELECT Country, Confirmed FROM covid_data WHERE Month = '{month}' ORDER BY Confirmed DESC LIMIT 5;\"\n",
        "\n",
        "\n",
        "top5_df = pd.read_sql(query_top5, conn)\n",
        "print(top5_df)\n"
      ],
      "metadata": {
        "colab": {
          "base_uri": "https://localhost:8080/"
        },
        "id": "Ln2-_eEq0qGs",
        "outputId": "f67dfa05-7d4d-4bbe-9797-2c4c83b2fd75"
      },
      "execution_count": 9,
      "outputs": [
        {
          "output_type": "stream",
          "name": "stdout",
          "text": [
            "Empty DataFrame\n",
            "Columns: [Country, Confirmed]\n",
            "Index: []\n"
          ]
        }
      ]
    },
    {
      "cell_type": "code",
      "source": [
        "# Compare Monthly Growth Rates for Selected Countries\n",
        "countries = (\"India\", \"Brazil\", \"Russia\")\n",
        "\n",
        "query_growth = f\"\"\"\n",
        "SELECT Country, Month, ROUND(Growth_Rate * 100, 2) AS GrowthPercent\n",
        "FROM covid_data\n",
        "WHERE Country IN {countries}\n",
        "ORDER BY Country, Month;\n",
        "\"\"\"\n",
        "\n",
        "growth_df = pd.read_sql(query_growth, conn)\n",
        "print(growth_df.head())\n",
        "\n"
      ],
      "metadata": {
        "colab": {
          "base_uri": "https://localhost:8080/"
        },
        "id": "J8nmetuw1O-T",
        "outputId": "f22ebc4e-d87b-4593-d2a4-8e2dad9e74d7"
      },
      "execution_count": 12,
      "outputs": [
        {
          "output_type": "stream",
          "name": "stdout",
          "text": [
            "  Country                Month  GrowthPercent\n",
            "0  Brazil  2020-01-01 00:00:00           0.00\n",
            "1  Brazil  2020-02-01 00:00:00           0.00\n",
            "2  Brazil  2020-03-01 00:00:00      285750.00\n",
            "3  Brazil  2020-04-01 00:00:00        1425.05\n",
            "4  Brazil  2020-05-01 00:00:00         491.99\n"
          ]
        }
      ]
    },
    {
      "cell_type": "code",
      "source": [
        "# Identify countries with zero reported cases for given time periods.\n",
        "\n",
        "month_zero = \"2020-03-01\"\n",
        "\n",
        "query_zero = f\"\"\"\n",
        "SELECT Country\n",
        "FROM covid_data\n",
        "WHERE Month = '{month_zero}' AND Confirmed = 0;\n",
        "\"\"\"\n",
        "\n",
        "zero_df = pd.read_sql(query_zero, conn)\n",
        "print(zero_df)\n"
      ],
      "metadata": {
        "colab": {
          "base_uri": "https://localhost:8080/"
        },
        "id": "JNPpq-GK1ynZ",
        "outputId": "24f09abf-7fea-41b1-86b5-bd2f3423d460"
      },
      "execution_count": 13,
      "outputs": [
        {
          "output_type": "stream",
          "name": "stdout",
          "text": [
            "Empty DataFrame\n",
            "Columns: [Country]\n",
            "Index: []\n"
          ]
        }
      ]
    }
  ]
}