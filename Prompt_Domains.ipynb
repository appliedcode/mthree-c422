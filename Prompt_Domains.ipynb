{
  "cells": [
    {
      "cell_type": "markdown",
      "metadata": {
        "id": "view-in-github",
        "colab_type": "text"
      },
      "source": [
        "<a href=\"https://colab.research.google.com/github/appliedcode/mthree-c422/blob/mthree-c422-Avantika/Prompt_Domains.ipynb\" target=\"_parent\"><img src=\"https://colab.research.google.com/assets/colab-badge.svg\" alt=\"Open In Colab\"/></a>"
      ]
    },
    {
      "cell_type": "markdown",
      "source": [
        "## Lab Exercises: Prompt Engineering for Chatbots, Summarization, Coding, and Data Extraction\n",
        "***\n",
        "\n",
        "### Setup:\n",
        "\n",
        "- Use OpenAI API or any language model API accessible in your Colab.\n",
        "- If API keys are needed, ensure they are safely added as environment variables or input by the user."
      ],
      "metadata": {
        "id": "eq4qKCdSNSko"
      }
    },
    {
      "cell_type": "code",
      "source": [
        "from google.colab import userdata\n",
        "import os\n",
        "\n",
        "# Set your OpenAI API key securely in Colab Secrets (once)\n",
        "# userdata.set(\"OPENAI_API_KEY\", \"your-api-key-here\")\n",
        "\n",
        "# Retrieve key in your notebook\n",
        "openai_api_key = userdata.get(\"OPENAI_API_KEY\")\n",
        "if openai_api_key:\n",
        "    os.environ[\"OPENAI_API_KEY\"] = openai_api_key\n",
        "    print(\"✅ OpenAI API key loaded safely\")\n",
        "else:\n",
        "    print(\"❌ OpenAI API key not found. Please set it using Colab Secrets.\")"
      ],
      "metadata": {
        "colab": {
          "base_uri": "https://localhost:8080/"
        },
        "id": "2YMRqyRCNGmo",
        "outputId": "0efb5403-fff9-45b3-cd97-e3512fba650b"
      },
      "execution_count": null,
      "outputs": [
        {
          "output_type": "stream",
          "name": "stdout",
          "text": [
            "✅ OpenAI API key loaded safely\n"
          ]
        }
      ]
    },
    {
      "cell_type": "code",
      "source": [
        "\n",
        "!pip install --quiet openai -q\n",
        "# Create client\n",
        "from openai import OpenAI\n",
        "client = OpenAI(api_key=os.environ[\"OPENAI_API_KEY\"])"
      ],
      "metadata": {
        "id": "9qrFrzlcPI1n",
        "colab": {
          "base_uri": "https://localhost:8080/",
          "height": 176
        },
        "outputId": "a18e4e34-02da-4a58-8664-3f3b9f2e11ef"
      },
      "execution_count": 3,
      "outputs": [
        {
          "output_type": "error",
          "ename": "NameError",
          "evalue": "name 'os' is not defined",
          "traceback": [
            "\u001b[0;31m---------------------------------------------------------------------------\u001b[0m",
            "\u001b[0;31mNameError\u001b[0m                                 Traceback (most recent call last)",
            "\u001b[0;32m/tmp/ipython-input-1631838903.py\u001b[0m in \u001b[0;36m<cell line: 0>\u001b[0;34m()\u001b[0m\n\u001b[1;32m      2\u001b[0m \u001b[0;31m# Create client\u001b[0m\u001b[0;34m\u001b[0m\u001b[0;34m\u001b[0m\u001b[0m\n\u001b[1;32m      3\u001b[0m \u001b[0;32mfrom\u001b[0m \u001b[0mopenai\u001b[0m \u001b[0;32mimport\u001b[0m \u001b[0mOpenAI\u001b[0m\u001b[0;34m\u001b[0m\u001b[0;34m\u001b[0m\u001b[0m\n\u001b[0;32m----> 4\u001b[0;31m \u001b[0mclient\u001b[0m \u001b[0;34m=\u001b[0m \u001b[0mOpenAI\u001b[0m\u001b[0;34m(\u001b[0m\u001b[0mapi_key\u001b[0m\u001b[0;34m=\u001b[0m\u001b[0mos\u001b[0m\u001b[0;34m.\u001b[0m\u001b[0menviron\u001b[0m\u001b[0;34m[\u001b[0m\u001b[0;34m\"OPENAI_API_KEY\"\u001b[0m\u001b[0;34m]\u001b[0m\u001b[0;34m)\u001b[0m\u001b[0;34m\u001b[0m\u001b[0;34m\u001b[0m\u001b[0m\n\u001b[0m",
            "\u001b[0;31mNameError\u001b[0m: name 'os' is not defined"
          ]
        }
      ]
    },
    {
      "cell_type": "code",
      "source": [
        "# Helper Function to Send Prompts\n",
        "def generate_response(prompt, model=\"gpt-4o-mini\", temperature=0.7):\n",
        "    \"\"\"\n",
        "    Send a prompt to the OpenAI model and return the response text.\n",
        "    \"\"\"\n",
        "    try:\n",
        "        completion = client.chat.completions.create(\n",
        "            model=model,\n",
        "            messages=[{\"role\": \"user\", \"content\": prompt}],\n",
        "            temperature=temperature\n",
        "        )\n",
        "        return completion.choices[0].message.content.strip()\n",
        "    except Exception as e:\n",
        "        return f\"Error: {e}\"\n"
      ],
      "metadata": {
        "id": "AieFziFDTcuy"
      },
      "execution_count": 1,
      "outputs": []
    },
    {
      "cell_type": "markdown",
      "source": [
        "**Goal:** Design prompts that enable the chatbot to respond conversationally, handle user intents, and maintain friendly tone.\n",
        "\n",
        "**Tasks:**\n",
        "\n",
        "1. Craft a base prompt that instructs the model to act as a friendly customer service chatbot."
      ],
      "metadata": {
        "id": "TUeonu4tXlPq"
      }
    },
    {
      "cell_type": "code",
      "source": [
        "prompt = \"\"\"\n",
        "You are a friendly customer service chatbot named HelpBot.\n",
        "Answer user questions clearly and positively.\n",
        "If you don't know the answer, politely say you will follow up.\n",
        "User: How do I reset my password?\n",
        "HelpBot:\n",
        "\"\"\"\n",
        "\n",
        "response = generate_response(prompt)\n",
        "print(response)"
      ],
      "metadata": {
        "id": "uoD_lxrnXnB4",
        "outputId": "82098ad3-21b7-44f1-a25e-ae8e8faf39e9",
        "colab": {
          "base_uri": "https://localhost:8080/"
        }
      },
      "execution_count": null,
      "outputs": [
        {
          "output_type": "stream",
          "name": "stdout",
          "text": [
            "To reset your password, please follow these steps:\n",
            "\n",
            "1. Go to the login page of the website or app.\n",
            "2. Click on the \"Forgot Password?\" link.\n",
            "3. Enter your registered email address and submit the form.\n",
            "4. Check your email for a password reset link and follow the instructions provided.\n",
            "\n",
            "If you need further assistance, feel free to ask!\n"
          ]
        }
      ]
    },
    {
      "cell_type": "markdown",
      "source": [
        "2. Extend with examples of typical Q\\&A to improve chatbot behavior (few-shot prompting):"
      ],
      "metadata": {
        "id": "_LWkC7QaXo2H"
      }
    },
    {
      "cell_type": "code",
      "source": [
        "few_shot_prompt = \"\"\"\n",
        "You are HelpBot, a friendly customer service chatbot.\n",
        "\n",
        "User: How do I reset my password?\n",
        "HelpBot: To reset your password, go to account settings and click 'Forgot Password'.\n",
        "\n",
        "User: What is your refund policy?\n",
        "HelpBot: We offer refunds within 30 days of purchase; please contact support.\n",
        "\n",
        "User: How do I update my shipping address?\n",
        "HelpBot:\n",
        "\"\"\"\n",
        "\n",
        "response = generate_response(few_shot_prompt)\n",
        "print(response)"
      ],
      "metadata": {
        "id": "SSXRwUodXqlj",
        "outputId": "de1b0b96-8550-4dbf-d4b9-e25dc45c90e3",
        "colab": {
          "base_uri": "https://localhost:8080/"
        }
      },
      "execution_count": null,
      "outputs": [
        {
          "output_type": "stream",
          "name": "stdout",
          "text": [
            "To update your shipping address, go to your account settings, select 'Shipping Information', and enter your new address. Don't forget to save the changes! If you need further assistance, feel free to ask.\n"
          ]
        }
      ]
    },
    {
      "cell_type": "markdown",
      "source": [
        "3. Experiment with additional constraints or roles to make chatbot responses more formal, concise, or humorous.\n",
        "***\n",
        "\n",
        "## Exercise 2: Summarization Prompt Engineering\n",
        "\n",
        "**Goal:** Create prompts that extract concise, informative summaries with controlled length and format.\n",
        "\n",
        "1. Summarize a sample article into a short paragraph:"
      ],
      "metadata": {
        "id": "pz9903EKXsL5"
      }
    },
    {
      "cell_type": "code",
      "source": [
        "article_text = \"\"\"\n",
        "Artificial intelligence (AI) is transforming many industries by automating tasks and generating new insights.\n",
        "AI technologies include machine learning, natural language processing, and computer vision.\n",
        "\"\"\"\n",
        "\n",
        "prompt = f\"Summarize the following text in two sentences:\\n\\n{article_text}\"\n",
        "\n",
        "response = generate_response(prompt)\n",
        "print(response)"
      ],
      "metadata": {
        "id": "ZnMfhvE6Xx6o",
        "outputId": "7c65dcd2-43cb-412b-9dd1-7e2f63911b7a",
        "colab": {
          "base_uri": "https://localhost:8080/"
        }
      },
      "execution_count": null,
      "outputs": [
        {
          "output_type": "stream",
          "name": "stdout",
          "text": [
            "Artificial intelligence (AI) is revolutionizing various industries through task automation and the generation of new insights. Key AI technologies encompass machine learning, natural language processing, and computer vision.\n"
          ]
        }
      ]
    },
    {
      "cell_type": "markdown",
      "source": [
        "2. Summarize the same text as bullet points, specifying the format:"
      ],
      "metadata": {
        "id": "qH05GuBIX1cs"
      }
    },
    {
      "cell_type": "code",
      "source": [
        "prompt_bullets = f\"\"\"\n",
        "Summarize the following text into 3 concise bullet points:\n",
        "\n",
        "{article_text}\n",
        "\"\"\"\n",
        "\n",
        "response = generate_response(prompt_bullets)\n",
        "print(response)"
      ],
      "metadata": {
        "id": "YbA0mj8JX4UB",
        "outputId": "3fd0cbb6-f157-4fb7-de2a-af9b0505c165",
        "colab": {
          "base_uri": "https://localhost:8080/"
        }
      },
      "execution_count": null,
      "outputs": [
        {
          "output_type": "stream",
          "name": "stdout",
          "text": [
            "- AI is revolutionizing various industries through task automation and insight generation.\n",
            "- Key AI technologies encompass machine learning, natural language processing, and computer vision.\n",
            "- The impact of AI is significant, enhancing efficiency and innovation across sectors.\n"
          ]
        }
      ]
    },
    {
      "cell_type": "markdown",
      "source": [
        "3. Try controlling summary style by asking for simplified explanations suitable for children or domain experts.\n",
        "***\n",
        "\n",
        "## Exercise 3: Coding Prompt Engineering\n",
        "\n",
        "**Goal:** Write prompts that enable generation of code snippets in specific languages with explanations or tests.\n",
        "\n",
        "1. Generate Python code for a bubble sort:"
      ],
      "metadata": {
        "id": "yU8ez2xhX51T"
      }
    },
    {
      "cell_type": "code",
      "source": [
        "code_prompt = \"\"\"\n",
        "Write a Python function to sort a list of integers using bubble sort.\n",
        "Include comments explaining each step.\n",
        "\"\"\"\n",
        "\n",
        "response = generate_response(code_prompt)\n",
        "print(response)"
      ],
      "metadata": {
        "id": "iSFTF3G5X92X",
        "outputId": "f0d92706-efa0-417f-a1d2-70c3fb7da572",
        "colab": {
          "base_uri": "https://localhost:8080/"
        }
      },
      "execution_count": null,
      "outputs": [
        {
          "output_type": "stream",
          "name": "stdout",
          "text": [
            "Certainly! Below is a Python function that implements the Bubble Sort algorithm to sort a list of integers. I've included comments to explain each step of the process.\n",
            "\n",
            "```python\n",
            "def bubble_sort(arr):\n",
            "    \"\"\"\n",
            "    Sorts a list of integers using the bubble sort algorithm.\n",
            "\n",
            "    Parameters:\n",
            "    arr (list): A list of integers to be sorted.\n",
            "\n",
            "    Returns:\n",
            "    list: The sorted list of integers.\n",
            "    \"\"\"\n",
            "    n = len(arr)  # Get the length of the list\n",
            "\n",
            "    # Traverse through all elements in the list\n",
            "    for i in range(n):\n",
            "        # Initialize a flag to check if any swapping occurred\n",
            "        swapped = False\n",
            "        \n",
            "        # Last i elements are already sorted, no need to check them\n",
            "        for j in range(0, n - i - 1):\n",
            "            # Compare the adjacent elements\n",
            "            if arr[j] > arr[j + 1]:\n",
            "                # Swap if the element found is greater than the next element\n",
            "                arr[j], arr[j + 1] = arr[j + 1], arr[j]\n",
            "                swapped = True  # Set the flag to True if a swap occurred\n",
            "        \n",
            "        # If no two elements were swapped in the inner loop, the list is sorted\n",
            "        if not swapped:\n",
            "            break\n",
            "\n",
            "    return arr  # Return the sorted list\n",
            "\n",
            "# Example usage:\n",
            "if __name__ == \"__main__\":\n",
            "    sample_list = [64, 34, 25, 12, 22, 11, 90]\n",
            "    sorted_list = bubble_sort(sample_list)\n",
            "    print(\"Sorted list:\", sorted_list)\n",
            "```\n",
            "\n",
            "### Explanation of the Code:\n",
            "\n",
            "1. **Function Definition**: The function `bubble_sort` takes a single argument `arr`, which is expected to be a list of integers.\n",
            "\n",
            "2. **Length Calculation**: The length of the list is stored in `n` to determine how many iterations are needed.\n",
            "\n",
            "3. **Outer Loop**: The outer loop iterates over each element of the list. The variable `i` keeps track of how many passes have been made.\n",
            "\n",
            "4. **Swapping Flag**: A boolean variable `swapped` is initialized to `False` at the start of each outer loop iteration. This flag is used to check if any swaps were made during the inner loop.\n",
            "\n",
            "5. **Inner Loop**: The inner loop compares adjacent elements in the list. It runs from the beginning of the list to `n - i - 1`, as the last `i` elements are already sorted.\n",
            "\n",
            "6. **Comparison and Swap**: If the current element is greater than the next one, they are swapped, and the `swapped` flag is set to `True`.\n",
            "\n",
            "7. **Early Termination**: If no swaps occurred during an inner loop iteration (indicated by `swapped` remaining `False`), the list is already sorted, and the function can break out of the loop early.\n",
            "\n",
            "8. **Return Value**: Finally, the sorted list is returned.\n",
            "\n",
            "### Example Usage:\n",
            "The example usage at the bottom shows how you can call the `bubble_sort` function with a sample list and print the sorted result.\n"
          ]
        }
      ]
    },
    {
      "cell_type": "markdown",
      "source": [
        "2. Ask for the same algorithm in JavaScript:"
      ],
      "metadata": {
        "id": "lmxR-OYLX_jv"
      }
    },
    {
      "cell_type": "code",
      "source": [
        "js_prompt = \"\"\"\n",
        "Write a JavaScript function to perform bubble sort on an array of numbers.\n",
        "Include comments explaining the logic.\n",
        "\"\"\"\n",
        "\n",
        "response = generate_response(js_prompt)\n",
        "print(response)"
      ],
      "metadata": {
        "id": "Hzw5Lm65YBTX",
        "outputId": "fb2595f2-1cde-43b5-9985-8960e41f94ab",
        "colab": {
          "base_uri": "https://localhost:8080/"
        }
      },
      "execution_count": null,
      "outputs": [
        {
          "output_type": "stream",
          "name": "stdout",
          "text": [
            "Certainly! Below is a JavaScript function that implements the bubble sort algorithm to sort an array of numbers. I've included comments to explain the logic behind each step.\n",
            "\n",
            "```javascript\n",
            "/**\n",
            " * Function to perform bubble sort on an array of numbers.\n",
            " * @param {number[]} arr - The array of numbers to be sorted.\n",
            " * @returns {number[]} - The sorted array.\n",
            " */\n",
            "function bubbleSort(arr) {\n",
            "    // Get the length of the array\n",
            "    const n = arr.length;\n",
            "\n",
            "    // Outer loop to iterate over the entire array\n",
            "    for (let i = 0; i < n - 1; i++) {\n",
            "        // A flag to check if any swapping occurred\n",
            "        let swapped = false;\n",
            "\n",
            "        // Inner loop to compare adjacent elements\n",
            "        for (let j = 0; j < n - 1 - i; j++) {\n",
            "            // If the current element is greater than the next element\n",
            "            if (arr[j] > arr[j + 1]) {\n",
            "                // Swap the elements\n",
            "                [arr[j], arr[j + 1]] = [arr[j + 1], arr[j]];\n",
            "                // Set the flag to true to indicate a swap has occurred\n",
            "                swapped = true;\n",
            "            }\n",
            "        }\n",
            "\n",
            "        // If no elements were swapped, the array is already sorted\n",
            "        if (!swapped) {\n",
            "            break;\n",
            "        }\n",
            "    }\n",
            "    return arr; // Return the sorted array\n",
            "}\n",
            "\n",
            "// Example usage\n",
            "const numbers = [64, 34, 25, 12, 22, 11, 90];\n",
            "console.log(\"Original array:\", numbers);\n",
            "const sortedNumbers = bubbleSort(numbers);\n",
            "console.log(\"Sorted array:\", sortedNumbers);\n",
            "```\n",
            "\n",
            "### Explanation:\n",
            "\n",
            "1. **Function Definition**: The `bubbleSort` function accepts an array of numbers as an argument.\n",
            "\n",
            "2. **Outer Loop**: The outer loop runs from 0 to `n-1`, where `n` is the length of the array. This loop represents the number of passes through the array.\n",
            "\n",
            "3. **Swapping Flag**: A flag `swapped` is initialized to `false` at the start of each outer loop iteration. This flag helps to determine if any swaps occurred during the inner loop.\n",
            "\n",
            "4. **Inner Loop**: The inner loop compares adjacent elements. It runs from the start of the array to `n-1-i`, where `i` is the current pass number. This is because with each pass, the largest unsorted element \"bubbles up\" to its correct position, so we can skip checking the last `i` elements.\n",
            "\n",
            "5. **Comparison and Swap**: If the current element is greater than the next element, they are swapped. The flag `swapped` is set to `true` to indicate a swap has occurred.\n",
            "\n",
            "6. **Early Termination**: If no elements were swapped during a pass (i.e., the array is already sorted), the loop breaks early for optimization.\n",
            "\n",
            "7. **Return Value**: The sorted array is returned after completing the sorting process.\n",
            "\n",
            "The example usage at the end demonstrates how to call the `bubbleSort` function and log the original and sorted arrays.\n"
          ]
        }
      ]
    },
    {
      "cell_type": "markdown",
      "source": [
        "3. Request code with test cases or error handling:"
      ],
      "metadata": {
        "id": "081Oth1tYDJx"
      }
    },
    {
      "cell_type": "code",
      "source": [
        "test_prompt = \"\"\"\n",
        "Write a Python function for bubble sort with a test case that prints the sorted list.\n",
        "\"\"\"\n",
        "\n",
        "response = generate_response(test_prompt)\n",
        "print(response)"
      ],
      "metadata": {
        "id": "_QCySJoKYEoF",
        "outputId": "26aad21a-ffb8-4bc5-fe59-14b0f9aceac8",
        "colab": {
          "base_uri": "https://localhost:8080/"
        }
      },
      "execution_count": null,
      "outputs": [
        {
          "output_type": "stream",
          "name": "stdout",
          "text": [
            "Certainly! Below is a Python function that implements the bubble sort algorithm, along with a test case that demonstrates its functionality by printing the sorted list.\n",
            "\n",
            "```python\n",
            "def bubble_sort(arr):\n",
            "    n = len(arr)\n",
            "    # Traverse through all elements in the array\n",
            "    for i in range(n):\n",
            "        # Last i elements are already in place, so we can skip them\n",
            "        for j in range(0, n-i-1):\n",
            "            # Swap if the element found is greater than the next element\n",
            "            if arr[j] > arr[j+1]:\n",
            "                arr[j], arr[j+1] = arr[j+1], arr[j]\n",
            "\n",
            "# Test case\n",
            "if __name__ == \"__main__\":\n",
            "    test_list = [64, 34, 25, 12, 22, 11, 90]\n",
            "    print(\"Original list:\", test_list)\n",
            "    bubble_sort(test_list)\n",
            "    print(\"Sorted list:\", test_list)\n",
            "```\n",
            "\n",
            "### Explanation:\n",
            "- The `bubble_sort` function takes a list `arr` as input.\n",
            "- It uses two nested loops: the outer loop runs through each element, while the inner loop compares adjacent elements and swaps them if they are in the wrong order.\n",
            "- This process repeats until the entire list is sorted.\n",
            "- The test case creates a sample list, prints the original list, sorts it using the `bubble_sort` function, and then prints the sorted list. \n",
            "\n",
            "### Output:\n",
            "When you run this code, you should see the following output:\n",
            "\n",
            "```\n",
            "Original list: [64, 34, 25, 12, 22, 11, 90]\n",
            "Sorted list: [11, 12, 22, 25, 34, 64, 90]\n",
            "```\n"
          ]
        }
      ]
    },
    {
      "cell_type": "markdown",
      "source": [
        "***\n",
        "\n",
        "## Exercise 4: Data Extraction Prompt Engineering\n",
        "\n",
        "**Goal:** Design prompts to extract structured data (e.g., JSON) from unstructured text for easy parsing.\n",
        "\n",
        "1. Extract contact details from a sample text:"
      ],
      "metadata": {
        "id": "JilVVWGkYGI_"
      }
    },
    {
      "cell_type": "code",
      "source": [
        "text = \"\"\"\n",
        "Contact John Doe at john.doe@example.com or call him at +1 (555) 123-4567.\n",
        "\"\"\"\n",
        "\n",
        "prompt = f\"\"\"\n",
        "Extract the name, email, and phone number from the following text and output as JSON:\n",
        "{text}\n",
        "\"\"\"\n",
        "\n",
        "response = generate_response(prompt)\n",
        "print(response)"
      ],
      "metadata": {
        "id": "VXY3LXHqYIm7",
        "outputId": "9b10edae-3ea6-43a6-e0a9-0d3da80a430b",
        "colab": {
          "base_uri": "https://localhost:8080/"
        }
      },
      "execution_count": null,
      "outputs": [
        {
          "output_type": "stream",
          "name": "stdout",
          "text": [
            "```json\n",
            "{\n",
            "  \"name\": \"John Doe\",\n",
            "  \"email\": \"john.doe@example.com\",\n",
            "  \"phone\": \"+1 (555) 123-4567\"\n",
            "}\n",
            "```\n"
          ]
        }
      ]
    },
    {
      "cell_type": "markdown",
      "source": [
        "2. Extract multiple fields from customer feedback:"
      ],
      "metadata": {
        "id": "jJSm7eVLYKQ3"
      }
    },
    {
      "cell_type": "code",
      "source": [
        "feedback = \"\"\"\n",
        "I bought the laptop last month and it works great, but the battery life could be better.\n",
        "Customer: Alice Smith\n",
        "Date: 2025-07-20\n",
        "\"\"\"\n",
        "\n",
        "prompt = f\"\"\"\n",
        "Extract the customer name, date, product feedback summary, and sentiment (positive/negative) as JSON:\n",
        "\n",
        "{feedback}\n",
        "\"\"\"\n",
        "\n",
        "response = generate_response(prompt)\n",
        "print(response)"
      ],
      "metadata": {
        "id": "EgWdY07fYMIU",
        "outputId": "64450c37-03ef-4af8-99aa-3aa75a490580",
        "colab": {
          "base_uri": "https://localhost:8080/"
        }
      },
      "execution_count": null,
      "outputs": [
        {
          "output_type": "stream",
          "name": "stdout",
          "text": [
            "```json\n",
            "{\n",
            "  \"customer_name\": \"Alice Smith\",\n",
            "  \"date\": \"2025-07-20\",\n",
            "  \"product_feedback_summary\": \"I bought the laptop last month and it works great, but the battery life could be better.\",\n",
            "  \"sentiment\": \"mixed\"\n",
            "}\n",
            "```\n"
          ]
        }
      ]
    },
    {
      "cell_type": "markdown",
      "source": [
        "3. Experiment with prompts that instruct output formatting strictly, e.g., JSON without extra text.\n",
        "\n",
        "***\n",
        "\n",
        "### Summary for Students\n",
        "\n",
        "- Practice crafting domain-specific prompts with clear instructions and examples.\n",
        "- Observe how few-shot prompting improves chatbot response relevancy.\n",
        "- Control output style and length in summarization using explicit formats.\n",
        "- Specify programming language and add commenting/test requirements in coding prompts.\n",
        "- Guide the model to output structured data in JSON for data extraction tasks.\n",
        "- Feel free to experiment by modifying the prompts, adding constraints, and adjusting temperature to see response variations.\n",
        "\n",
        "***\n"
      ],
      "metadata": {
        "id": "xvljn6YJYO5c"
      }
    }
  ],
  "metadata": {
    "colab": {
      "provenance": [],
      "include_colab_link": true
    },
    "kernelspec": {
      "display_name": "Python 3",
      "name": "python3"
    }
  },
  "nbformat": 4,
  "nbformat_minor": 0
}