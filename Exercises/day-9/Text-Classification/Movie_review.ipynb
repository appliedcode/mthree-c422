📊 Session 6: Text Classification

Learning Objectives:

    Understand different text classification algorithms (MultinomialNB, SVM, Logistic Regression)
    Implement train/test split and cross-validation
    Evaluate models using confusion matrix, F1-score, and other metrics
    Practice multi-class text classification
    Compare model performance and select the best approach

Dataset: We'll work with news articles, product reviews, and custom datasets
🛠️ Setup and Imports

🎬 Movie Reviews Sentiment Classification: Complete Solution

# Required Libraries
import pandas as pd
import numpy as np
import re
import string
from collections import defaultdict
import matplotlib.pyplot as plt
import seaborn as sns

from sklearn.model_selection import train_test_split, StratifiedKFold, cross_val_score, GridSearchCV
from sklearn.feature_extraction.text import TfidfVectorizer, CountVectorizer
from sklearn.metrics import (accuracy_score, precision_score, recall_score, f1_score,
                             classification_report, confusion_matrix, roc_curve, auc)
from sklearn.preprocessing import LabelEncoder

from sklearn.naive_bayes import MultinomialNB
from sklearn.linear_model import LogisticRegression
from sklearn.svm import SVC
from sklearn.ensemble import RandomForestClassifier
from sklearn.neighbors import KNeighborsClassifier

import nltk
from nltk.corpus import stopwords
from nltk.tokenize import word_tokenize
from nltk.stem import WordNetLemmatizer

# Download necessary NLTK data
nltk.download('punkt')
nltk.download('stopwords')
nltk.download('wordnet')

# 1. Create Sample Movie Reviews Dataset
def create_movie_review_dataset():
    # Positive reviews
    positive_reviews = [
        "I absolutely loved this film! The story was compelling and the acting superb.",
        "An amazing cinematic experience with brilliant performances.",
        "A heartwarming story that touched me deeply.",
        "Fantastic direction and stunning visuals. Highly recommended!",
        "Top-notch screenplay and incredible soundtrack."
    ]
    # Negative reviews
    negative_reviews = [
        "The movie was boring and slow-paced; I wouldn’t recommend it.",
        "Terrible acting and a predictable script ruined it for me.",
        "Waste of time. The plot made no sense at all.",
        "Poor editing and bad special effects spoiled the experience.",
        "One of the worst movies I have ever watched."
    ]
    # Neutral reviews
    neutral_reviews = [
        "It was an okay movie — nothing special but watchable.",
        "The storyline was average and the characters were decent.",
        "Some parts were entertaining, others quite dull.",
        "Not great, not terrible, just an average film experience.",
        "A middling movie, not memorable but not horrible either."
    ]
    texts = positive_reviews + negative_reviews + neutral_reviews
    labels = (['Positive'] * len(positive_reviews) +
              ['Negative'] * len(negative_reviews) +
              ['Neutral'] * len(neutral_reviews))
    return pd.DataFrame({'text': texts, 'sentiment': labels})

df = create_movie_review_dataset()
