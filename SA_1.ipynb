{
  "nbformat": 4,
  "nbformat_minor": 0,
  "metadata": {
    "colab": {
      "provenance": [],
      "authorship_tag": "ABX9TyOTz0uOkEd/NDAKDln//VMZ",
      "include_colab_link": true
    },
    "kernelspec": {
      "name": "python3",
      "display_name": "Python 3"
    },
    "language_info": {
      "name": "python"
    }
  },
  "cells": [
    {
      "cell_type": "markdown",
      "metadata": {
        "id": "view-in-github",
        "colab_type": "text"
      },
      "source": [
        "<a href=\"https://colab.research.google.com/github/appliedcode/mthree-c422/blob/mthree-c422-Prashanth/SA_1.ipynb\" target=\"_parent\"><img src=\"https://colab.research.google.com/assets/colab-badge.svg\" alt=\"Open In Colab\"/></a>"
      ]
    },
    {
      "cell_type": "code",
      "execution_count": 1,
      "metadata": {
        "colab": {
          "base_uri": "https://localhost:8080/"
        },
        "id": "AQ9XKybpcMH1",
        "outputId": "eccc90d2-d218-4a64-8ae3-68685f37eb67"
      },
      "outputs": [
        {
          "output_type": "stream",
          "name": "stderr",
          "text": [
            "[nltk_data] Downloading package vader_lexicon to /root/nltk_data...\n"
          ]
        },
        {
          "output_type": "execute_result",
          "data": {
            "text/plain": [
              "True"
            ]
          },
          "metadata": {},
          "execution_count": 1
        }
      ],
      "source": [
        "import nltk\n",
        "nltk.download('vader_lexicon')"
      ]
    },
    {
      "cell_type": "code",
      "source": [
        "from nltk.sentiment.vader import SentimentIntensityAnalyzer\n",
        "\n",
        "sid = SentimentIntensityAnalyzer()"
      ],
      "metadata": {
        "id": "7h7IW7vHcUaG"
      },
      "execution_count": 2,
      "outputs": []
    },
    {
      "cell_type": "code",
      "source": [
        "a = 'This was a good movie.'\n",
        "sid.polarity_scores(a)"
      ],
      "metadata": {
        "colab": {
          "base_uri": "https://localhost:8080/"
        },
        "id": "zii9y-2McYv3",
        "outputId": "4dea7c39-b9d3-4dc6-b038-7d1d080d6f2f"
      },
      "execution_count": 3,
      "outputs": [
        {
          "output_type": "execute_result",
          "data": {
            "text/plain": [
              "{'neg': 0.0, 'neu': 0.508, 'pos': 0.492, 'compound': 0.4404}"
            ]
          },
          "metadata": {},
          "execution_count": 3
        }
      ]
    },
    {
      "cell_type": "code",
      "source": [
        "a = 'This was the best, most awesome movie EVER MADE!!!'\n",
        "sid.polarity_scores(a)"
      ],
      "metadata": {
        "colab": {
          "base_uri": "https://localhost:8080/"
        },
        "id": "I9EFojzccaEa",
        "outputId": "3df7faaf-c847-4255-de0d-9810763e7bb5"
      },
      "execution_count": 4,
      "outputs": [
        {
          "output_type": "execute_result",
          "data": {
            "text/plain": [
              "{'neg': 0.0, 'neu': 0.425, 'pos': 0.575, 'compound': 0.8877}"
            ]
          },
          "metadata": {},
          "execution_count": 4
        }
      ]
    },
    {
      "cell_type": "code",
      "source": [
        "a = 'This was the worst film to ever disgrace the screen.'\n",
        "sid.polarity_scores(a)"
      ],
      "metadata": {
        "colab": {
          "base_uri": "https://localhost:8080/"
        },
        "id": "OQc0sBZycbls",
        "outputId": "46cf2657-2e14-46cb-cac5-97900c609a23"
      },
      "execution_count": 5,
      "outputs": [
        {
          "output_type": "execute_result",
          "data": {
            "text/plain": [
              "{'neg': 0.477, 'neu': 0.523, 'pos': 0.0, 'compound': -0.8074}"
            ]
          },
          "metadata": {},
          "execution_count": 5
        }
      ]
    },
    {
      "cell_type": "code",
      "source": [
        "import numpy as np\n",
        "import pandas as pd\n",
        "\n",
        "df = pd.read_csv('../TextFiles/amazonreviews.tsv', sep='\\t')\n",
        "df.head()"
      ],
      "metadata": {
        "colab": {
          "base_uri": "https://localhost:8080/",
          "height": 339
        },
        "id": "oqci8Ggxccw8",
        "outputId": "c781ee1b-2ebb-4c25-baac-8b3b7a78c200"
      },
      "execution_count": 6,
      "outputs": [
        {
          "output_type": "error",
          "ename": "FileNotFoundError",
          "evalue": "[Errno 2] No such file or directory: '../TextFiles/amazonreviews.tsv'",
          "traceback": [
            "\u001b[0;31m---------------------------------------------------------------------------\u001b[0m",
            "\u001b[0;31mFileNotFoundError\u001b[0m                         Traceback (most recent call last)",
            "\u001b[0;32m/tmp/ipython-input-1009448818.py\u001b[0m in \u001b[0;36m<cell line: 0>\u001b[0;34m()\u001b[0m\n\u001b[1;32m      2\u001b[0m \u001b[0;32mimport\u001b[0m \u001b[0mpandas\u001b[0m \u001b[0;32mas\u001b[0m \u001b[0mpd\u001b[0m\u001b[0;34m\u001b[0m\u001b[0;34m\u001b[0m\u001b[0m\n\u001b[1;32m      3\u001b[0m \u001b[0;34m\u001b[0m\u001b[0m\n\u001b[0;32m----> 4\u001b[0;31m \u001b[0mdf\u001b[0m \u001b[0;34m=\u001b[0m \u001b[0mpd\u001b[0m\u001b[0;34m.\u001b[0m\u001b[0mread_csv\u001b[0m\u001b[0;34m(\u001b[0m\u001b[0;34m'../TextFiles/amazonreviews.tsv'\u001b[0m\u001b[0;34m,\u001b[0m \u001b[0msep\u001b[0m\u001b[0;34m=\u001b[0m\u001b[0;34m'\\t'\u001b[0m\u001b[0;34m)\u001b[0m\u001b[0;34m\u001b[0m\u001b[0;34m\u001b[0m\u001b[0m\n\u001b[0m\u001b[1;32m      5\u001b[0m \u001b[0mdf\u001b[0m\u001b[0;34m.\u001b[0m\u001b[0mhead\u001b[0m\u001b[0;34m(\u001b[0m\u001b[0;34m)\u001b[0m\u001b[0;34m\u001b[0m\u001b[0;34m\u001b[0m\u001b[0m\n",
            "\u001b[0;32m/usr/local/lib/python3.11/dist-packages/pandas/io/parsers/readers.py\u001b[0m in \u001b[0;36mread_csv\u001b[0;34m(filepath_or_buffer, sep, delimiter, header, names, index_col, usecols, dtype, engine, converters, true_values, false_values, skipinitialspace, skiprows, skipfooter, nrows, na_values, keep_default_na, na_filter, verbose, skip_blank_lines, parse_dates, infer_datetime_format, keep_date_col, date_parser, date_format, dayfirst, cache_dates, iterator, chunksize, compression, thousands, decimal, lineterminator, quotechar, quoting, doublequote, escapechar, comment, encoding, encoding_errors, dialect, on_bad_lines, delim_whitespace, low_memory, memory_map, float_precision, storage_options, dtype_backend)\u001b[0m\n\u001b[1;32m   1024\u001b[0m     \u001b[0mkwds\u001b[0m\u001b[0;34m.\u001b[0m\u001b[0mupdate\u001b[0m\u001b[0;34m(\u001b[0m\u001b[0mkwds_defaults\u001b[0m\u001b[0;34m)\u001b[0m\u001b[0;34m\u001b[0m\u001b[0;34m\u001b[0m\u001b[0m\n\u001b[1;32m   1025\u001b[0m \u001b[0;34m\u001b[0m\u001b[0m\n\u001b[0;32m-> 1026\u001b[0;31m     \u001b[0;32mreturn\u001b[0m \u001b[0m_read\u001b[0m\u001b[0;34m(\u001b[0m\u001b[0mfilepath_or_buffer\u001b[0m\u001b[0;34m,\u001b[0m \u001b[0mkwds\u001b[0m\u001b[0;34m)\u001b[0m\u001b[0;34m\u001b[0m\u001b[0;34m\u001b[0m\u001b[0m\n\u001b[0m\u001b[1;32m   1027\u001b[0m \u001b[0;34m\u001b[0m\u001b[0m\n\u001b[1;32m   1028\u001b[0m \u001b[0;34m\u001b[0m\u001b[0m\n",
            "\u001b[0;32m/usr/local/lib/python3.11/dist-packages/pandas/io/parsers/readers.py\u001b[0m in \u001b[0;36m_read\u001b[0;34m(filepath_or_buffer, kwds)\u001b[0m\n\u001b[1;32m    618\u001b[0m \u001b[0;34m\u001b[0m\u001b[0m\n\u001b[1;32m    619\u001b[0m     \u001b[0;31m# Create the parser.\u001b[0m\u001b[0;34m\u001b[0m\u001b[0;34m\u001b[0m\u001b[0m\n\u001b[0;32m--> 620\u001b[0;31m     \u001b[0mparser\u001b[0m \u001b[0;34m=\u001b[0m \u001b[0mTextFileReader\u001b[0m\u001b[0;34m(\u001b[0m\u001b[0mfilepath_or_buffer\u001b[0m\u001b[0;34m,\u001b[0m \u001b[0;34m**\u001b[0m\u001b[0mkwds\u001b[0m\u001b[0;34m)\u001b[0m\u001b[0;34m\u001b[0m\u001b[0;34m\u001b[0m\u001b[0m\n\u001b[0m\u001b[1;32m    621\u001b[0m \u001b[0;34m\u001b[0m\u001b[0m\n\u001b[1;32m    622\u001b[0m     \u001b[0;32mif\u001b[0m \u001b[0mchunksize\u001b[0m \u001b[0;32mor\u001b[0m \u001b[0miterator\u001b[0m\u001b[0;34m:\u001b[0m\u001b[0;34m\u001b[0m\u001b[0;34m\u001b[0m\u001b[0m\n",
            "\u001b[0;32m/usr/local/lib/python3.11/dist-packages/pandas/io/parsers/readers.py\u001b[0m in \u001b[0;36m__init__\u001b[0;34m(self, f, engine, **kwds)\u001b[0m\n\u001b[1;32m   1618\u001b[0m \u001b[0;34m\u001b[0m\u001b[0m\n\u001b[1;32m   1619\u001b[0m         \u001b[0mself\u001b[0m\u001b[0;34m.\u001b[0m\u001b[0mhandles\u001b[0m\u001b[0;34m:\u001b[0m \u001b[0mIOHandles\u001b[0m \u001b[0;34m|\u001b[0m \u001b[0;32mNone\u001b[0m \u001b[0;34m=\u001b[0m \u001b[0;32mNone\u001b[0m\u001b[0;34m\u001b[0m\u001b[0;34m\u001b[0m\u001b[0m\n\u001b[0;32m-> 1620\u001b[0;31m         \u001b[0mself\u001b[0m\u001b[0;34m.\u001b[0m\u001b[0m_engine\u001b[0m \u001b[0;34m=\u001b[0m \u001b[0mself\u001b[0m\u001b[0;34m.\u001b[0m\u001b[0m_make_engine\u001b[0m\u001b[0;34m(\u001b[0m\u001b[0mf\u001b[0m\u001b[0;34m,\u001b[0m \u001b[0mself\u001b[0m\u001b[0;34m.\u001b[0m\u001b[0mengine\u001b[0m\u001b[0;34m)\u001b[0m\u001b[0;34m\u001b[0m\u001b[0;34m\u001b[0m\u001b[0m\n\u001b[0m\u001b[1;32m   1621\u001b[0m \u001b[0;34m\u001b[0m\u001b[0m\n\u001b[1;32m   1622\u001b[0m     \u001b[0;32mdef\u001b[0m \u001b[0mclose\u001b[0m\u001b[0;34m(\u001b[0m\u001b[0mself\u001b[0m\u001b[0;34m)\u001b[0m \u001b[0;34m->\u001b[0m \u001b[0;32mNone\u001b[0m\u001b[0;34m:\u001b[0m\u001b[0;34m\u001b[0m\u001b[0;34m\u001b[0m\u001b[0m\n",
            "\u001b[0;32m/usr/local/lib/python3.11/dist-packages/pandas/io/parsers/readers.py\u001b[0m in \u001b[0;36m_make_engine\u001b[0;34m(self, f, engine)\u001b[0m\n\u001b[1;32m   1878\u001b[0m                 \u001b[0;32mif\u001b[0m \u001b[0;34m\"b\"\u001b[0m \u001b[0;32mnot\u001b[0m \u001b[0;32min\u001b[0m \u001b[0mmode\u001b[0m\u001b[0;34m:\u001b[0m\u001b[0;34m\u001b[0m\u001b[0;34m\u001b[0m\u001b[0m\n\u001b[1;32m   1879\u001b[0m                     \u001b[0mmode\u001b[0m \u001b[0;34m+=\u001b[0m \u001b[0;34m\"b\"\u001b[0m\u001b[0;34m\u001b[0m\u001b[0;34m\u001b[0m\u001b[0m\n\u001b[0;32m-> 1880\u001b[0;31m             self.handles = get_handle(\n\u001b[0m\u001b[1;32m   1881\u001b[0m                 \u001b[0mf\u001b[0m\u001b[0;34m,\u001b[0m\u001b[0;34m\u001b[0m\u001b[0;34m\u001b[0m\u001b[0m\n\u001b[1;32m   1882\u001b[0m                 \u001b[0mmode\u001b[0m\u001b[0;34m,\u001b[0m\u001b[0;34m\u001b[0m\u001b[0;34m\u001b[0m\u001b[0m\n",
            "\u001b[0;32m/usr/local/lib/python3.11/dist-packages/pandas/io/common.py\u001b[0m in \u001b[0;36mget_handle\u001b[0;34m(path_or_buf, mode, encoding, compression, memory_map, is_text, errors, storage_options)\u001b[0m\n\u001b[1;32m    871\u001b[0m         \u001b[0;32mif\u001b[0m \u001b[0mioargs\u001b[0m\u001b[0;34m.\u001b[0m\u001b[0mencoding\u001b[0m \u001b[0;32mand\u001b[0m \u001b[0;34m\"b\"\u001b[0m \u001b[0;32mnot\u001b[0m \u001b[0;32min\u001b[0m \u001b[0mioargs\u001b[0m\u001b[0;34m.\u001b[0m\u001b[0mmode\u001b[0m\u001b[0;34m:\u001b[0m\u001b[0;34m\u001b[0m\u001b[0;34m\u001b[0m\u001b[0m\n\u001b[1;32m    872\u001b[0m             \u001b[0;31m# Encoding\u001b[0m\u001b[0;34m\u001b[0m\u001b[0;34m\u001b[0m\u001b[0m\n\u001b[0;32m--> 873\u001b[0;31m             handle = open(\n\u001b[0m\u001b[1;32m    874\u001b[0m                 \u001b[0mhandle\u001b[0m\u001b[0;34m,\u001b[0m\u001b[0;34m\u001b[0m\u001b[0;34m\u001b[0m\u001b[0m\n\u001b[1;32m    875\u001b[0m                 \u001b[0mioargs\u001b[0m\u001b[0;34m.\u001b[0m\u001b[0mmode\u001b[0m\u001b[0;34m,\u001b[0m\u001b[0;34m\u001b[0m\u001b[0;34m\u001b[0m\u001b[0m\n",
            "\u001b[0;31mFileNotFoundError\u001b[0m: [Errno 2] No such file or directory: '../TextFiles/amazonreviews.tsv'"
          ]
        }
      ]
    },
    {
      "cell_type": "code",
      "source": [
        "\n",
        "import pandas as pd\n",
        "import numpy as np\n",
        "import matplotlib.pyplot as plt\n",
        "import seaborn as sns\n",
        "import nltk\n",
        "from nltk.corpus import stopwords\n",
        "from nltk.tokenize import word_tokenize\n",
        "from sklearn.model_selection import train_test_split\n",
        "from sklearn.feature_extraction.text import TfidfVectorizer\n",
        "from sklearn.linear_model import LogisticRegression\n",
        "from sklearn.metrics import classification_report, confusion_matrix, accuracy_score\n",
        "import warnings\n",
        "warnings.filterwarnings('ignore')\n",
        "\n",
        "# Download NLTK data\n",
        "nltk.download('vader_lexicon', quiet=True)\n",
        "nltk.download('punkt', quiet=True)\n",
        "nltk.download('stopwords', quiet=True)\n",
        "\n",
        "from nltk.sentiment import SentimentIntensityAnalyzer\n",
        "print('✅ Libraries imported and NLTK data downloaded!')"
      ],
      "metadata": {
        "colab": {
          "base_uri": "https://localhost:8080/"
        },
        "id": "bEI1VYTDcd6l",
        "outputId": "4960e809-c38e-4278-8f6c-0b7e5dc0254e"
      },
      "execution_count": 7,
      "outputs": [
        {
          "output_type": "stream",
          "name": "stdout",
          "text": [
            "✅ Libraries imported and NLTK data downloaded!\n"
          ]
        }
      ]
    },
    {
      "cell_type": "code",
      "source": [
        "\n",
        "# Sample product reviews\n",
        "reviews = [\n",
        "    'This product is amazing! I love it.',\n",
        "    'Terrible experience, will not buy again.',\n",
        "    'It works as expected. Nothing special.',\n",
        "    'Absolutely fantastic! Exceeded my expectations.',\n",
        "    'Not worth the price. Very disappointed.',\n",
        "    'Great value for money.',\n",
        "    'The quality is poor and it broke quickly.',\n",
        "    'I am satisfied with my purchase.',\n",
        "    'Worst product ever.',\n",
        "    'Decent, but could be better.'\n",
        "]\n",
        "labels = ['positive', 'negative', 'neutral', 'positive', 'negative', 'positive', 'negative', 'positive', 'negative', 'neutral']\n",
        "df = pd.DataFrame({'review': reviews, 'label': labels})\n",
        "df.head()\n",
        ""
      ],
      "metadata": {
        "colab": {
          "base_uri": "https://localhost:8080/",
          "height": 206
        },
        "id": "gZVQqLDLh1P1",
        "outputId": "a1b7dd3d-9115-426f-8843-3e18e6edc16f"
      },
      "execution_count": 8,
      "outputs": [
        {
          "output_type": "execute_result",
          "data": {
            "text/plain": [
              "                                            review     label\n",
              "0              This product is amazing! I love it.  positive\n",
              "1         Terrible experience, will not buy again.  negative\n",
              "2           It works as expected. Nothing special.   neutral\n",
              "3  Absolutely fantastic! Exceeded my expectations.  positive\n",
              "4          Not worth the price. Very disappointed.  negative"
            ],
            "text/html": [
              "\n",
              "  <div id=\"df-655dacfa-31f4-48d9-ade1-3ef240200263\" class=\"colab-df-container\">\n",
              "    <div>\n",
              "<style scoped>\n",
              "    .dataframe tbody tr th:only-of-type {\n",
              "        vertical-align: middle;\n",
              "    }\n",
              "\n",
              "    .dataframe tbody tr th {\n",
              "        vertical-align: top;\n",
              "    }\n",
              "\n",
              "    .dataframe thead th {\n",
              "        text-align: right;\n",
              "    }\n",
              "</style>\n",
              "<table border=\"1\" class=\"dataframe\">\n",
              "  <thead>\n",
              "    <tr style=\"text-align: right;\">\n",
              "      <th></th>\n",
              "      <th>review</th>\n",
              "      <th>label</th>\n",
              "    </tr>\n",
              "  </thead>\n",
              "  <tbody>\n",
              "    <tr>\n",
              "      <th>0</th>\n",
              "      <td>This product is amazing! I love it.</td>\n",
              "      <td>positive</td>\n",
              "    </tr>\n",
              "    <tr>\n",
              "      <th>1</th>\n",
              "      <td>Terrible experience, will not buy again.</td>\n",
              "      <td>negative</td>\n",
              "    </tr>\n",
              "    <tr>\n",
              "      <th>2</th>\n",
              "      <td>It works as expected. Nothing special.</td>\n",
              "      <td>neutral</td>\n",
              "    </tr>\n",
              "    <tr>\n",
              "      <th>3</th>\n",
              "      <td>Absolutely fantastic! Exceeded my expectations.</td>\n",
              "      <td>positive</td>\n",
              "    </tr>\n",
              "    <tr>\n",
              "      <th>4</th>\n",
              "      <td>Not worth the price. Very disappointed.</td>\n",
              "      <td>negative</td>\n",
              "    </tr>\n",
              "  </tbody>\n",
              "</table>\n",
              "</div>\n",
              "    <div class=\"colab-df-buttons\">\n",
              "\n",
              "  <div class=\"colab-df-container\">\n",
              "    <button class=\"colab-df-convert\" onclick=\"convertToInteractive('df-655dacfa-31f4-48d9-ade1-3ef240200263')\"\n",
              "            title=\"Convert this dataframe to an interactive table.\"\n",
              "            style=\"display:none;\">\n",
              "\n",
              "  <svg xmlns=\"http://www.w3.org/2000/svg\" height=\"24px\" viewBox=\"0 -960 960 960\">\n",
              "    <path d=\"M120-120v-720h720v720H120Zm60-500h600v-160H180v160Zm220 220h160v-160H400v160Zm0 220h160v-160H400v160ZM180-400h160v-160H180v160Zm440 0h160v-160H620v160ZM180-180h160v-160H180v160Zm440 0h160v-160H620v160Z\"/>\n",
              "  </svg>\n",
              "    </button>\n",
              "\n",
              "  <style>\n",
              "    .colab-df-container {\n",
              "      display:flex;\n",
              "      gap: 12px;\n",
              "    }\n",
              "\n",
              "    .colab-df-convert {\n",
              "      background-color: #E8F0FE;\n",
              "      border: none;\n",
              "      border-radius: 50%;\n",
              "      cursor: pointer;\n",
              "      display: none;\n",
              "      fill: #1967D2;\n",
              "      height: 32px;\n",
              "      padding: 0 0 0 0;\n",
              "      width: 32px;\n",
              "    }\n",
              "\n",
              "    .colab-df-convert:hover {\n",
              "      background-color: #E2EBFA;\n",
              "      box-shadow: 0px 1px 2px rgba(60, 64, 67, 0.3), 0px 1px 3px 1px rgba(60, 64, 67, 0.15);\n",
              "      fill: #174EA6;\n",
              "    }\n",
              "\n",
              "    .colab-df-buttons div {\n",
              "      margin-bottom: 4px;\n",
              "    }\n",
              "\n",
              "    [theme=dark] .colab-df-convert {\n",
              "      background-color: #3B4455;\n",
              "      fill: #D2E3FC;\n",
              "    }\n",
              "\n",
              "    [theme=dark] .colab-df-convert:hover {\n",
              "      background-color: #434B5C;\n",
              "      box-shadow: 0px 1px 3px 1px rgba(0, 0, 0, 0.15);\n",
              "      filter: drop-shadow(0px 1px 2px rgba(0, 0, 0, 0.3));\n",
              "      fill: #FFFFFF;\n",
              "    }\n",
              "  </style>\n",
              "\n",
              "    <script>\n",
              "      const buttonEl =\n",
              "        document.querySelector('#df-655dacfa-31f4-48d9-ade1-3ef240200263 button.colab-df-convert');\n",
              "      buttonEl.style.display =\n",
              "        google.colab.kernel.accessAllowed ? 'block' : 'none';\n",
              "\n",
              "      async function convertToInteractive(key) {\n",
              "        const element = document.querySelector('#df-655dacfa-31f4-48d9-ade1-3ef240200263');\n",
              "        const dataTable =\n",
              "          await google.colab.kernel.invokeFunction('convertToInteractive',\n",
              "                                                    [key], {});\n",
              "        if (!dataTable) return;\n",
              "\n",
              "        const docLinkHtml = 'Like what you see? Visit the ' +\n",
              "          '<a target=\"_blank\" href=https://colab.research.google.com/notebooks/data_table.ipynb>data table notebook</a>'\n",
              "          + ' to learn more about interactive tables.';\n",
              "        element.innerHTML = '';\n",
              "        dataTable['output_type'] = 'display_data';\n",
              "        await google.colab.output.renderOutput(dataTable, element);\n",
              "        const docLink = document.createElement('div');\n",
              "        docLink.innerHTML = docLinkHtml;\n",
              "        element.appendChild(docLink);\n",
              "      }\n",
              "    </script>\n",
              "  </div>\n",
              "\n",
              "\n",
              "    <div id=\"df-fc5cc748-c1f9-46ca-837e-0fcbe7923b83\">\n",
              "      <button class=\"colab-df-quickchart\" onclick=\"quickchart('df-fc5cc748-c1f9-46ca-837e-0fcbe7923b83')\"\n",
              "                title=\"Suggest charts\"\n",
              "                style=\"display:none;\">\n",
              "\n",
              "<svg xmlns=\"http://www.w3.org/2000/svg\" height=\"24px\"viewBox=\"0 0 24 24\"\n",
              "     width=\"24px\">\n",
              "    <g>\n",
              "        <path d=\"M19 3H5c-1.1 0-2 .9-2 2v14c0 1.1.9 2 2 2h14c1.1 0 2-.9 2-2V5c0-1.1-.9-2-2-2zM9 17H7v-7h2v7zm4 0h-2V7h2v10zm4 0h-2v-4h2v4z\"/>\n",
              "    </g>\n",
              "</svg>\n",
              "      </button>\n",
              "\n",
              "<style>\n",
              "  .colab-df-quickchart {\n",
              "      --bg-color: #E8F0FE;\n",
              "      --fill-color: #1967D2;\n",
              "      --hover-bg-color: #E2EBFA;\n",
              "      --hover-fill-color: #174EA6;\n",
              "      --disabled-fill-color: #AAA;\n",
              "      --disabled-bg-color: #DDD;\n",
              "  }\n",
              "\n",
              "  [theme=dark] .colab-df-quickchart {\n",
              "      --bg-color: #3B4455;\n",
              "      --fill-color: #D2E3FC;\n",
              "      --hover-bg-color: #434B5C;\n",
              "      --hover-fill-color: #FFFFFF;\n",
              "      --disabled-bg-color: #3B4455;\n",
              "      --disabled-fill-color: #666;\n",
              "  }\n",
              "\n",
              "  .colab-df-quickchart {\n",
              "    background-color: var(--bg-color);\n",
              "    border: none;\n",
              "    border-radius: 50%;\n",
              "    cursor: pointer;\n",
              "    display: none;\n",
              "    fill: var(--fill-color);\n",
              "    height: 32px;\n",
              "    padding: 0;\n",
              "    width: 32px;\n",
              "  }\n",
              "\n",
              "  .colab-df-quickchart:hover {\n",
              "    background-color: var(--hover-bg-color);\n",
              "    box-shadow: 0 1px 2px rgba(60, 64, 67, 0.3), 0 1px 3px 1px rgba(60, 64, 67, 0.15);\n",
              "    fill: var(--button-hover-fill-color);\n",
              "  }\n",
              "\n",
              "  .colab-df-quickchart-complete:disabled,\n",
              "  .colab-df-quickchart-complete:disabled:hover {\n",
              "    background-color: var(--disabled-bg-color);\n",
              "    fill: var(--disabled-fill-color);\n",
              "    box-shadow: none;\n",
              "  }\n",
              "\n",
              "  .colab-df-spinner {\n",
              "    border: 2px solid var(--fill-color);\n",
              "    border-color: transparent;\n",
              "    border-bottom-color: var(--fill-color);\n",
              "    animation:\n",
              "      spin 1s steps(1) infinite;\n",
              "  }\n",
              "\n",
              "  @keyframes spin {\n",
              "    0% {\n",
              "      border-color: transparent;\n",
              "      border-bottom-color: var(--fill-color);\n",
              "      border-left-color: var(--fill-color);\n",
              "    }\n",
              "    20% {\n",
              "      border-color: transparent;\n",
              "      border-left-color: var(--fill-color);\n",
              "      border-top-color: var(--fill-color);\n",
              "    }\n",
              "    30% {\n",
              "      border-color: transparent;\n",
              "      border-left-color: var(--fill-color);\n",
              "      border-top-color: var(--fill-color);\n",
              "      border-right-color: var(--fill-color);\n",
              "    }\n",
              "    40% {\n",
              "      border-color: transparent;\n",
              "      border-right-color: var(--fill-color);\n",
              "      border-top-color: var(--fill-color);\n",
              "    }\n",
              "    60% {\n",
              "      border-color: transparent;\n",
              "      border-right-color: var(--fill-color);\n",
              "    }\n",
              "    80% {\n",
              "      border-color: transparent;\n",
              "      border-right-color: var(--fill-color);\n",
              "      border-bottom-color: var(--fill-color);\n",
              "    }\n",
              "    90% {\n",
              "      border-color: transparent;\n",
              "      border-bottom-color: var(--fill-color);\n",
              "    }\n",
              "  }\n",
              "</style>\n",
              "\n",
              "      <script>\n",
              "        async function quickchart(key) {\n",
              "          const quickchartButtonEl =\n",
              "            document.querySelector('#' + key + ' button');\n",
              "          quickchartButtonEl.disabled = true;  // To prevent multiple clicks.\n",
              "          quickchartButtonEl.classList.add('colab-df-spinner');\n",
              "          try {\n",
              "            const charts = await google.colab.kernel.invokeFunction(\n",
              "                'suggestCharts', [key], {});\n",
              "          } catch (error) {\n",
              "            console.error('Error during call to suggestCharts:', error);\n",
              "          }\n",
              "          quickchartButtonEl.classList.remove('colab-df-spinner');\n",
              "          quickchartButtonEl.classList.add('colab-df-quickchart-complete');\n",
              "        }\n",
              "        (() => {\n",
              "          let quickchartButtonEl =\n",
              "            document.querySelector('#df-fc5cc748-c1f9-46ca-837e-0fcbe7923b83 button');\n",
              "          quickchartButtonEl.style.display =\n",
              "            google.colab.kernel.accessAllowed ? 'block' : 'none';\n",
              "        })();\n",
              "      </script>\n",
              "    </div>\n",
              "\n",
              "    </div>\n",
              "  </div>\n"
            ],
            "application/vnd.google.colaboratory.intrinsic+json": {
              "type": "dataframe",
              "variable_name": "df",
              "summary": "{\n  \"name\": \"df\",\n  \"rows\": 10,\n  \"fields\": [\n    {\n      \"column\": \"review\",\n      \"properties\": {\n        \"dtype\": \"string\",\n        \"num_unique_values\": 10,\n        \"samples\": [\n          \"Worst product ever.\",\n          \"Terrible experience, will not buy again.\",\n          \"Great value for money.\"\n        ],\n        \"semantic_type\": \"\",\n        \"description\": \"\"\n      }\n    },\n    {\n      \"column\": \"label\",\n      \"properties\": {\n        \"dtype\": \"category\",\n        \"num_unique_values\": 3,\n        \"samples\": [\n          \"positive\",\n          \"negative\",\n          \"neutral\"\n        ],\n        \"semantic_type\": \"\",\n        \"description\": \"\"\n      }\n    }\n  ]\n}"
            }
          },
          "metadata": {},
          "execution_count": 8
        }
      ]
    },
    {
      "cell_type": "code",
      "source": [
        "sia = SentimentIntensityAnalyzer()\n",
        "df['vader_score'] = df['review'].apply(lambda x: sia.polarity_scores(x)['compound'])\n",
        "def vader_label(score):\n",
        "    if score >= 0.05:\n",
        "        return 'positive'\n",
        "    elif score <= -0.05:\n",
        "        return 'negative'\n",
        "    else:\n",
        "        return 'neutral'\n",
        "df['vader_pred'] = df['vader_score'].apply(vader_label)\n",
        "\n",
        "print('VADER Sentiment Predictions:')\n",
        "print(df[['review', 'vader_score', 'vader_pred']])\n",
        "\n",
        "# Visualization\n",
        "plt.figure(figsize=(6,4))\n",
        "sns.countplot(x='vader_pred', data=df, order=['positive','neutral','negative'])\n",
        "plt.title('VADER Sentiment Distribution')\n",
        "plt.show()"
      ],
      "metadata": {
        "colab": {
          "base_uri": "https://localhost:8080/",
          "height": 618
        },
        "id": "Y9Xwhv39h3oG",
        "outputId": "b88413c5-abbf-4554-bf4e-0b224b467996"
      },
      "execution_count": 9,
      "outputs": [
        {
          "output_type": "stream",
          "name": "stdout",
          "text": [
            "VADER Sentiment Predictions:\n",
            "                                            review  vader_score vader_pred\n",
            "0              This product is amazing! I love it.       0.8516   positive\n",
            "1         Terrible experience, will not buy again.      -0.4767   negative\n",
            "2           It works as expected. Nothing special.      -0.3089   negative\n",
            "3  Absolutely fantastic! Exceeded my expectations.       0.6352   positive\n",
            "4          Not worth the price. Very disappointed.      -0.6198   negative\n",
            "5                           Great value for money.       0.7579   positive\n",
            "6        The quality is poor and it broke quickly.      -0.7096   negative\n",
            "7                 I am satisfied with my purchase.       0.4215   positive\n",
            "8                              Worst product ever.      -0.6249   negative\n",
            "9                     Decent, but could be better.       0.5927   positive\n"
          ]
        },
        {
          "output_type": "display_data",
          "data": {
            "text/plain": [
              "<Figure size 600x400 with 1 Axes>"
            ],
            "image/png": "[encoded data removed]"
          },
          "metadata": {}
        }
      ]
    },
    {
      "cell_type": "code",
      "source": [
        "# Preprocessing\n",
        "X = df['review']\n",
        "y = df['label']\n",
        "X_train, X_test, y_train, y_test = train_test_split(X, y, test_size=0.3, random_state=42, stratify=y)\n",
        "\n",
        "vectorizer = TfidfVectorizer(stop_words='english')\n",
        "X_train_vec = vectorizer.fit_transform(X_train)\n",
        "X_test_vec = vectorizer.transform(X_test)\n",
        "\n",
        "clf = LogisticRegression(max_iter=200)\n",
        "clf.fit(X_train_vec, y_train)\n",
        "y_pred = clf.predict(X_test_vec)\n",
        "\n",
        "print('Classification Report:')\n",
        "print(classification_report(y_test, y_pred))\n",
        "\n",
        "# Confusion matrix\n",
        "cm = confusion_matrix(y_test, y_pred, labels=['positive','neutral','negative'])\n",
        "plt.figure(figsize=(5,4))\n",
        "sns.heatmap(cm, annot=True, fmt='d', cmap='Blues', xticklabels=['positive','neutral','negative'], yticklabels=['positive','neutral','negative'])\n",
        "plt.xlabel('Predicted')\n",
        "plt.ylabel('True')\n",
        "plt.title('Confusion Matrix (Logistic Regression)')\n",
        "plt.show()"
      ],
      "metadata": {
        "colab": {
          "base_uri": "https://localhost:8080/",
          "height": 601
        },
        "id": "Y0qHaH95h5k2",
        "outputId": "e8083398-14bf-41ce-ac04-e1b16a36b118"
      },
      "execution_count": 10,
      "outputs": [
        {
          "output_type": "stream",
          "name": "stdout",
          "text": [
            "Classification Report:\n",
            "              precision    recall  f1-score   support\n",
            "\n",
            "    negative       0.00      0.00      0.00         1\n",
            "     neutral       0.00      0.00      0.00         1\n",
            "    positive       0.33      1.00      0.50         1\n",
            "\n",
            "    accuracy                           0.33         3\n",
            "   macro avg       0.11      0.33      0.17         3\n",
            "weighted avg       0.11      0.33      0.17         3\n",
            "\n"
          ]
        },
        {
          "output_type": "display_data",
          "data": {
            "text/plain": [
              "<Figure size 500x400 with 2 Axes>"
            ],
            "image/png": "[encoded data removed]"
          },
          "metadata": {}
        }
      ]
    },
    {
      "cell_type": "code",
      "source": [
        "negation_examples = [\n",
        "    'I do not like this product.',\n",
        "    'Not bad at all!',\n",
        "    'I cant say its good.',\n",
        "    'This is not the worst experience.',\n",
        "    'I am not unhappy with the result.'\n",
        "]\n",
        "for text in negation_examples:\n",
        "    score = sia.polarity_scores(text)['compound']\n",
        "    label = vader_label(score)\n",
        "    print(f'\"{text}\" -> Score: {score:.2f}, Sentiment: {label}')\n",
        ""
      ],
      "metadata": {
        "colab": {
          "base_uri": "https://localhost:8080/"
        },
        "id": "wtw9Isegh7Wk",
        "outputId": "26054aaa-98c2-4b41-dca1-6ccfecf6c02d"
      },
      "execution_count": 13,
      "outputs": [
        {
          "output_type": "stream",
          "name": "stdout",
          "text": [
            "\"I do not like this product.\" -> Score: -0.28, Sentiment: negative\n",
            "\"Not bad at all!\" -> Score: 0.48, Sentiment: positive\n",
            "\"I cant say its good.\" -> Score: -0.34, Sentiment: negative\n",
            "\"This is not the worst experience.\" -> Score: 0.51, Sentiment: positive\n",
            "\"I am not unhappy with the result.\" -> Score: 0.33, Sentiment: positive\n"
          ]
        }
      ]
    },
    {
      "cell_type": "code",
      "source": [
        "\n",
        "plt.figure(figsize=(6,4))\n",
        "sns.countplot(x='label', data=df, order=['positive','neutral','negative'])\n",
        "plt.title('True Sentiment Distribution')\n",
        "plt.show()"
      ],
      "metadata": {
        "colab": {
          "base_uri": "https://localhost:8080/",
          "height": 410
        },
        "id": "861sH1vNh9Di",
        "outputId": "69c5dbf6-0f60-4276-f305-6acb04fdb269"
      },
      "execution_count": 14,
      "outputs": [
        {
          "output_type": "display_data",
          "data": {
            "text/plain": [
              "<Figure size 600x400 with 1 Axes>"
            ],
            "image/png": "[encoded data removed]"
          },
          "metadata": {}
        }
      ]
    },
    {
      "cell_type": "code",
      "source": [
        "# Import spaCy and load the language library\n",
        "import spacy\n"
      ],
      "metadata": {
        "id": "7KLzx6Lsh_0c"
      },
      "execution_count": 16,
      "outputs": []
    },
    {
      "cell_type": "code",
      "source": [
        "nlp = spacy.load('en_core_web_md')  # make sure to use a larger model!\n",
        "nlp(u'lion').vector\n",
        "\n"
      ],
      "metadata": {
        "colab": {
          "base_uri": "https://localhost:8080/"
        },
        "id": "Hc4eRW6Sm_Hw",
        "outputId": "2e3703fb-d396-43ec-8e81-5e34d17ec938"
      },
      "execution_count": 23,
      "outputs": [
        {
          "output_type": "execute_result",
          "data": {
            "text/plain": [
              "array([-0.76275  , -0.2074   ,  0.32124  , -0.45817  , -0.36041  ,\n",
              "        0.60152  ,  0.74492  ,  0.079701 , -0.23428  ,  0.31224  ,\n",
              "       -0.43189  ,  0.20746  , -0.40774  , -0.2538   , -0.12308  ,\n",
              "       -0.39652  ,  0.2361   ,  0.20473  ,  0.49645  ,  0.26983  ,\n",
              "       -0.45623  ,  0.20879  , -0.0027486,  0.050435 , -0.003348 ,\n",
              "       -0.088146 , -0.53855  ,  0.42507  , -0.70535  , -0.31984  ,\n",
              "       -0.56023  , -0.042877 ,  0.31083  , -0.23038  ,  0.43657  ,\n",
              "        0.18436  ,  0.52997  , -0.1038   ,  0.010579 ,  0.5373   ,\n",
              "       -0.64911  ,  0.15171  , -0.13305  , -0.17798  ,  0.083277 ,\n",
              "       -0.15615  , -0.1446   , -0.27032  ,  0.19693  ,  0.22867  ,\n",
              "       -0.5745   ,  0.16468  ,  0.029028 ,  0.66735  , -0.13859  ,\n",
              "        0.51194  , -0.029928 ,  0.11792  , -0.15589  ,  0.69151  ,\n",
              "        0.19838  ,  0.032428 ,  0.37526  ,  0.099998 , -0.48631  ,\n",
              "       -0.13605  ,  0.5295   , -0.089214 ,  0.34458  ,  0.19393  ,\n",
              "        0.012607 , -0.1999   , -0.38105  , -0.05991  , -0.81039  ,\n",
              "        0.16744  , -0.71753  , -0.45249  , -0.15331  , -0.63738  ,\n",
              "       -0.65694  , -0.18735  ,  0.63503  ,  0.21831  ,  0.25238  ,\n",
              "       -0.28389  ,  0.92852  ,  0.27839  ,  0.23513  , -0.17551  ,\n",
              "        0.27253  , -0.069459 ,  0.28146  , -0.72036  , -0.21074  ,\n",
              "        0.2844   , -0.56551  , -0.088767 , -0.53687  ,  0.32924  ,\n",
              "        0.018555 ,  0.44599  ,  0.53125  ,  0.33813  , -0.2496   ,\n",
              "       -1.3837   , -0.6186   ,  0.16952  ,  0.41993  , -0.14406  ,\n",
              "        0.49195  , -0.44095  ,  0.22829  , -0.3835   ,  0.37375  ,\n",
              "        0.017091 ,  0.7226   , -0.059622 ,  0.18684  ,  0.38005  ,\n",
              "        0.49409  ,  0.048001 ,  0.64468  , -0.3216   , -0.36432  ,\n",
              "       -0.073444 , -0.016888 , -0.33217  , -0.87165  , -0.096356 ,\n",
              "        0.098888 , -0.8651   ,  0.0093075,  0.27166  ,  0.088393 ,\n",
              "       -0.39287  , -0.043349 , -0.1348   ,  0.25003  , -0.042534 ,\n",
              "       -1.6471   ,  0.13621  , -0.09254  ,  0.0056756,  0.73089  ,\n",
              "       -0.60677  , -0.098333 ,  0.31013  ,  0.24706  , -0.04379  ,\n",
              "       -0.32615  , -0.066207 ,  0.14114  , -0.77077  , -0.29903  ,\n",
              "        0.23375  , -0.34266  ,  0.39098  ,  0.57531  , -0.10536  ,\n",
              "        0.037208 ,  0.13038  , -0.5205   , -0.069537 ,  0.15813  ,\n",
              "        0.32067  , -0.26295  , -0.22167  ,  0.0075272,  0.20216  ,\n",
              "        0.026607 , -0.074615 ,  0.080685 ,  0.048114 , -0.66353  ,\n",
              "        0.22107  ,  0.24209  , -0.1021   ,  0.305    ,  0.14341  ,\n",
              "       -0.054846 , -0.11603  , -0.24537  ,  0.27788  , -0.2664   ,\n",
              "       -0.3657   ,  0.14288  , -0.73955  , -0.2029   , -0.46982  ,\n",
              "       -0.2818   ,  0.55073  , -0.20431  ,  0.46961  ,  0.14369  ,\n",
              "        0.25199  ,  0.54011  , -0.44682  ,  0.22835  , -0.56032  ,\n",
              "       -0.563    ,  0.28263  , -0.36653  ,  0.0044703,  0.41113  ,\n",
              "        0.45625  ,  0.2533   ,  0.10798  , -0.09376  , -0.47141  ,\n",
              "        0.074787 ,  0.6536   ,  0.11043  ,  0.33477  , -0.59218  ,\n",
              "       -0.45336  ,  0.15047  ,  0.70703  ,  0.31043  ,  0.48735  ,\n",
              "        0.36108  ,  0.027264 ,  0.01392  , -0.1515   , -0.29762  ,\n",
              "        0.17523  ,  0.96212  ,  0.36939  ,  0.26589  ,  0.10913  ,\n",
              "       -0.03072  , -0.23175  , -0.4      , -0.095803 , -0.024775 ,\n",
              "        0.14012  , -0.72798  , -0.13216  ,  0.39832  ,  0.030282 ,\n",
              "       -0.047631 , -0.060496 ,  0.12715  , -0.86461  , -0.20217  ,\n",
              "        0.32554  , -0.11635  , -0.099599 , -0.048509 , -0.45854  ,\n",
              "        0.098873 , -0.27002  , -0.25829  ,  0.10591  ,  0.38639  ,\n",
              "        0.077101 ,  0.5914   ,  0.32764  ,  0.15978  ,  0.081    ,\n",
              "        0.07582  ,  0.32709  , -0.015143 ,  0.2692   ,  0.14536  ,\n",
              "        0.49708  ,  0.20422  , -0.30185  , -0.74162  ,  0.28929  ,\n",
              "        0.29051  ,  0.026477 ,  0.23335  ,  0.11181  ,  0.42294  ,\n",
              "        0.72279  ,  0.33024  , -0.37637  ,  0.13693  , -0.50228  ,\n",
              "        0.062155 ,  0.43698  , -0.18967  , -0.43764  ,  0.44629  ,\n",
              "       -0.1434   ,  0.064268 , -0.56959  , -0.066664 , -0.46406  ,\n",
              "       -0.0044868, -0.062906 , -0.86369  , -0.16995  , -0.62189  ,\n",
              "        0.55016  ,  0.09481  , -0.042774 ,  0.17285  , -0.55231  ],\n",
              "      dtype=float32)"
            ]
          },
          "metadata": {},
          "execution_count": 23
        }
      ]
    },
    {
      "cell_type": "code",
      "source": [
        "\n",
        "# Create a three-token Doc object:\n",
        "tokens = nlp(u'lion cat pet')\n",
        "\n",
        "# Iterate through token combinations:\n",
        "for token1 in tokens:\n",
        "    for token2 in tokens:\n",
        "        print(token1.text, token2.text, token1.similarity(token2))"
      ],
      "metadata": {
        "colab": {
          "base_uri": "https://localhost:8080/"
        },
        "id": "S0uaDe53nFP5",
        "outputId": "cdc361ea-4228-4e2f-8333-47f4ef5656e7"
      },
      "execution_count": 24,
      "outputs": [
        {
          "output_type": "stream",
          "name": "stdout",
          "text": [
            "lion lion 1.0\n",
            "lion cat 0.31077107787132263\n",
            "lion pet 0.31077107787132263\n",
            "cat lion 0.31077107787132263\n",
            "cat cat 1.0\n",
            "cat pet 1.0000001192092896\n",
            "pet lion 0.31077107787132263\n",
            "pet cat 1.0000001192092896\n",
            "pet pet 1.0\n"
          ]
        }
      ]
    },
    {
      "cell_type": "code",
      "source": [
        "# For brevity, assign each token a name\n",
        "a,b,c = tokens\n",
        "\n",
        "# Display as a Markdown table (this only works in Jupyter!)\n",
        "from IPython.display import Markdown, display\n",
        "display(Markdown(f'<table><tr><th></th><th>{a.text}</th><th>{b.text}</th><th>{c.text}</th></tr>\\\n",
        "<tr><td>**{a.text}**</td><td>{a.similarity(a):{.4}}</td><td>{b.similarity(a):{.4}}</td><td>{c.similarity(a):{.4}}</td></tr>\\\n",
        "<tr><td>**{b.text}**</td><td>{a.similarity(b):{.4}}</td><td>{b.similarity(b):{.4}}</td><td>{c.similarity(b):{.4}}</td></tr>\\\n",
        "<tr><td>**{c.text}**</td><td>{a.similarity(c):{.4}}</td><td>{b.similarity(c):{.4}}</td><td>{c.similarity(c):{.4}}</td></tr>'))"
      ],
      "metadata": {
        "colab": {
          "base_uri": "https://localhost:8080/",
          "height": 142
        },
        "id": "2ZZPzBuBqfEG",
        "outputId": "0ba57a89-4aa1-4375-eda0-923c6475d387"
      },
      "execution_count": 25,
      "outputs": [
        {
          "output_type": "display_data",
          "data": {
            "text/plain": [
              "<IPython.core.display.Markdown object>"
            ],
            "text/markdown": "<table><tr><th></th><th>lion</th><th>cat</th><th>pet</th></tr><tr><td>**lion**</td><td>1.0</td><td>0.3108</td><td>0.3108</td></tr><tr><td>**cat**</td><td>0.3108</td><td>1.0</td><td>1.0</td></tr><tr><td>**pet**</td><td>0.3108</td><td>1.0</td><td>1.0</td></tr>"
          },
          "metadata": {}
        }
      ]
    },
    {
      "cell_type": "code",
      "source": [
        "# Create a three-token Doc object:\n",
        "tokens = nlp(u'like love hate')\n",
        "\n",
        "# Iterate through token combinations:\n",
        "for token1 in tokens:\n",
        "    for token2 in tokens:\n",
        "        print(token1.text, token2.text, token1.similarity(token2))"
      ],
      "metadata": {
        "colab": {
          "base_uri": "https://localhost:8080/"
        },
        "id": "0hIFCVlzrImv",
        "outputId": "c2057078-2436-495c-9a46-64a585406ad5"
      },
      "execution_count": 26,
      "outputs": [
        {
          "output_type": "stream",
          "name": "stdout",
          "text": [
            "like like 1.0\n",
            "like love 1.0\n",
            "like hate 1.0\n",
            "love like 1.0\n",
            "love love 1.0\n",
            "love hate 1.0\n",
            "hate like 1.0\n",
            "hate love 1.0\n",
            "hate hate 1.0\n"
          ]
        }
      ]
    },
    {
      "cell_type": "code",
      "source": [
        "tokens = nlp(u'dog cat nargle')\n",
        "\n",
        "for token in tokens:\n",
        "    print(token.text, token.has_vector, token.vector_norm, token.is_oov)"
      ],
      "metadata": {
        "colab": {
          "base_uri": "https://localhost:8080/"
        },
        "id": "MLnSo7zQrbJP",
        "outputId": "c10e4221-ea16-481a-bfe8-c282055865e3"
      },
      "execution_count": 27,
      "outputs": [
        {
          "output_type": "stream",
          "name": "stdout",
          "text": [
            "dog True 7.443447 False\n",
            "cat True 7.443447 False\n",
            "nargle False 0.0 True\n"
          ]
        }
      ]
    },
    {
      "cell_type": "code",
      "source": [
        "from scipy import spatial\n",
        "\n",
        "cosine_similarity = lambda x, y: 1 - spatial.distance.cosine(x, y)\n",
        "\n",
        "king = nlp.vocab['king'].vector\n",
        "man = nlp.vocab['man'].vector\n",
        "woman = nlp.vocab['woman'].vector\n",
        "\n",
        "# Now we find the closest vector in the vocabulary to the result of \"man\" - \"woman\" + \"queen\"\n",
        "new_vector = king - man + woman\n",
        "computed_similarities = []\n",
        "\n",
        "for word in nlp.vocab:\n",
        "    # Ignore words without vectors and mixed-case words:\n",
        "    if word.has_vector:\n",
        "        if word.is_lower:\n",
        "            if word.is_alpha:\n",
        "                similarity = cosine_similarity(new_vector, word.vector)\n",
        "                computed_similarities.append((word, similarity))\n",
        "\n",
        "computed_similarities = sorted(computed_similarities, key=lambda item: -item[1])\n",
        "\n",
        "print([w[0].text for w in computed_similarities[:10]])"
      ],
      "metadata": {
        "colab": {
          "base_uri": "https://localhost:8080/"
        },
        "id": "hNmjOw7irdWv",
        "outputId": "2b51101e-bc06-4238-e9d8-c318d78b9909"
      },
      "execution_count": 28,
      "outputs": [
        {
          "output_type": "stream",
          "name": "stdout",
          "text": [
            "['woman', 'king', 'll', 'got', 'has', 'lovin', 'ol', 'n', 'it', 'where']\n"
          ]
        }
      ]
    },
    {
      "cell_type": "code",
      "source": [],
      "metadata": {
        "id": "16pYyK8Irfj7"
      },
      "execution_count": null,
      "outputs": []
    }
  ]
}