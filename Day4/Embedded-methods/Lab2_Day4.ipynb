{
  "nbformat": 4,
  "nbformat_minor": 0,
  "metadata": {
    "colab": {
      "provenance": []
    },
    "kernelspec": {
      "name": "python3",
      "display_name": "Python 3"
    },
    "language_info": {
      "name": "python"
    }
  },
  "cells": [
    {
      "cell_type": "markdown",
      "source": [
        "Exercise 4: Tree-Based Importance\n",
        "Fit RandomForestClassifier(n_estimators=100, random_state=0).\n",
        "\n",
        "Use SelectFromModel to select the top 5 features by impurity importance.\n",
        "\n",
        "Retrain and evaluate."
      ],
      "metadata": {
        "id": "iZPEUlGAljJe"
      }
    },
    {
      "cell_type": "code",
      "execution_count": 3,
      "metadata": {
        "colab": {
          "base_uri": "https://localhost:8080/"
        },
        "id": "828V3fY5ih1L",
        "outputId": "e9c99bd0-9688-4c26-a833-fcb2183d612d"
      },
      "outputs": [
        {
          "output_type": "stream",
          "name": "stdout",
          "text": [
            "RF features: [11, 12, 13, 14, 19]\n",
            "Accuracy (RF): 0.965\n"
          ]
        }
      ],
      "source": [
        "\n",
        "from sklearn.linear_model import LogisticRegression\n",
        "from sklearn.feature_selection import SelectFromModel\n",
        "from sklearn.metrics import accuracy_score\n",
        "import numpy as np\n",
        "from sklearn.ensemble import RandomForestClassifier\n",
        "\n",
        "rf = RandomForestClassifier(n_estimators=100, random_state=0)\n",
        "rf.fit(X_train, y_train)\n",
        "\n",
        "sfm_rf = SelectFromModel(rf, prefit=True, max_features=5, threshold=-np.inf)\n",
        "feat_rf = X_train.columns[sfm_rf.get_support()]\n",
        "\n",
        "model = LogisticRegression(max_iter=5000).fit(X_train[feat_rf], y_train)\n",
        "print(\"RF features:\", list(feat_rf))\n",
        "print(\"Accuracy (RF):\", accuracy_score(y_test, model.predict(X_test[feat_rf])))\n",
        ""
      ]
    },
    {
      "cell_type": "markdown",
      "source": [
        "Exercise 5: Gradient-Boosting (XGBoost) Importance\n",
        "Fit XGBClassifier(n_estimators=100, use_label_encoder=False, - eval_metric='logloss', random_state=0).\n",
        "\n",
        "Use SelectFromModel to pick the top 5 features.\n",
        "\n",
        "Retrain and evaluate."
      ],
      "metadata": {
        "id": "elLo0KzKluYF"
      }
    },
    {
      "cell_type": "code",
      "source": [
        "\n",
        "import xgboost as xgb\n",
        "\n",
        "xgb_clf = xgb.XGBClassifier(\n",
        "    n_estimators=100, eval_metric='logloss', random_state=0\n",
        ")\n",
        "xgb_clf.fit(X_train, y_train)\n",
        "\n",
        "sfm_xgb = SelectFromModel(xgb_clf, prefit=True, max_features=5, threshold=-np.inf)\n",
        "feat_xgb = X_train.columns[sfm_xgb.get_support()]\n",
        "\n",
        "model = LogisticRegression(max_iter=5000).fit(X_train[feat_xgb], y_train)\n",
        "print(\"XGB features:\", list(feat_xgb))\n",
        "print(\"Accuracy (XGB):\", accuracy_score(y_test, model.predict(X_test[feat_xgb])))\n"
      ],
      "metadata": {
        "colab": {
          "base_uri": "https://localhost:8080/"
        },
        "id": "G_b3NH6Elvdv",
        "outputId": "06d24ab8-977d-437a-cf63-1f95f6a2f622"
      },
      "execution_count": 4,
      "outputs": [
        {
          "output_type": "stream",
          "name": "stdout",
          "text": [
            "XGB features: [5, 11, 12, 14, 19]\n",
            "Accuracy (XGB): 0.965\n"
          ]
        }
      ]
    },
    {
      "cell_type": "markdown",
      "source": [
        "\n",
        "Exercise 6: Stability Selection (Randomized Lasso)\n",
        "Fit RandomizedLasso(alpha=0.025, random_state=0).\n",
        "\n",
        "Select the top 5 features with highest selection frequency.\n",
        "\n",
        "Retrain and evaluate."
      ],
      "metadata": {
        "id": "zTjJpO7Rl1Qu"
      }
    },
    {
      "cell_type": "code",
      "source": [
        "import numpy as np\n",
        "from sklearn.linear_model import LogisticRegression\n",
        "from sklearn.metrics import accuracy_score\n",
        "from sklearn.utils import resample\n",
        "\n",
        "# Parameters for stability selection\n",
        "n_bootstraps    = 100\n",
        "sample_fraction = 0.75\n",
        "C               = 1.0\n",
        "\n",
        "# Increase iterations and loosen tolerance\n",
        "max_iter = 50000\n",
        "tol      = 1e-2\n",
        "\n",
        "n_features       = X_train.shape[1]\n",
        "selection_counts = np.zeros(n_features, dtype=int)\n",
        "\n",
        "for i in range(n_bootstraps):\n",
        "    # a) bootstrap sample\n",
        "    idx  = resample(\n",
        "        np.arange(X_train.shape[0]),\n",
        "        replace=True,\n",
        "        n_samples=int(sample_fraction * X_train.shape[0]),\n",
        "        random_state=i\n",
        "    )\n",
        "    X_bs = X_train.iloc[idx].values\n",
        "    y_bs = y_train[idx]\n",
        "\n",
        "\n",
        "    # b) fit L1‐penalized logistic with more iterations and looser tol\n",
        "    lr = LogisticRegression(\n",
        "        penalty='l1',\n",
        "        solver='saga',\n",
        "        C=C,\n",
        "        max_iter=max_iter,\n",
        "        tol=tol,\n",
        "        random_state=0\n",
        "    )\n",
        "    lr.fit(X_bs, y_bs)\n",
        "\n",
        "    # c) tally nonzero coefficients\n",
        "    nonzero = np.abs(lr.coef_)[0] > 1e-8\n",
        "    selection_counts += nonzero.astype(int)\n",
        "\n",
        "# Compute frequencies and pick top 5 stable features\n",
        "selection_freq = selection_counts / n_bootstraps\n",
        "top5_idx       = np.argsort(-selection_freq)[:5]\n",
        "feat_rl        = X_train.columns[top5_idx]\n",
        "\n",
        "# Retrain on the stable features\n",
        "final_model = LogisticRegression(max_iter=5000).fit(X_train[feat_rl], y_train)\n",
        "accuracy    = accuracy_score(y_test, final_model.predict(X_test[feat_rl]))\n",
        "\n",
        "print(\"Stability features:\", list(feat_rl))\n",
        "print(\"Accuracy (Stability):\", accuracy)"
      ],
      "metadata": {
        "colab": {
          "base_uri": "https://localhost:8080/"
        },
        "id": "OPKh-uUrlxjG",
        "outputId": "41b0dc9f-5e21-4caf-bb8d-bdb9267cd5b9"
      },
      "execution_count": 13,
      "outputs": [
        {
          "output_type": "stream",
          "name": "stdout",
          "text": [
            "Stability features: [7, 14, 12, 11, 19]\n",
            "Accuracy (Stability): 0.965\n"
          ]
        }
      ]
    },
    {
      "cell_type": "markdown",
      "source": [
        "Exercise 7: Embedded Specialized Model (Decision Tree)\n",
        "Fit DecisionTreeClassifier(max_depth=3, random_state=0).\n",
        "\n",
        "Use its feature_importances_ to select top 5.\n",
        "\n",
        "Retrain logistic model and evaluate."
      ],
      "metadata": {
        "id": "2hqDwzkll4hE"
      }
    },
    {
      "cell_type": "code",
      "source": [
        "\n",
        "\n",
        "from sklearn.tree import DecisionTreeClassifier\n",
        "\n",
        "dt = DecisionTreeClassifier(max_depth=3, random_state=0)\n",
        "dt.fit(X_train, y_train)\n",
        "\n",
        "import numpy as np\n",
        "idx_dt = np.argsort(dt.feature_importances_)[-5:]\n",
        "feat_dt = X_train.columns[idx_dt]\n",
        "\n",
        "model = LogisticRegression(max_iter=5000).fit(X_train[feat_dt], y_train)\n",
        "print(\"DT features:\", list(feat_dt))\n",
        "print(\"Accuracy (DT):\", accuracy_score(y_test, model.predict(X_test[feat_dt])))\n",
        "\n",
        ""
      ],
      "metadata": {
        "colab": {
          "base_uri": "https://localhost:8080/"
        },
        "id": "8jIg-_esl7a5",
        "outputId": "e7bf7443-2fae-4a0e-82a8-c79746cd27df"
      },
      "execution_count": 11,
      "outputs": [
        {
          "output_type": "stream",
          "name": "stdout",
          "text": [
            "DT features: [16, 5, 19, 12, 11]\n",
            "Accuracy (DT): 0.965\n"
          ]
        }
      ]
    }
  ]
}