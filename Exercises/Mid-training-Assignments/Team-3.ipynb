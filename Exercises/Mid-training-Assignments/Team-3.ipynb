{
  "cells": [
    {
      "cell_type": "markdown",
      "metadata": {
        "colab_type": "text",
        "id": "view-in-github"
      },
      "source": [
        "<a href=\"https://colab.research.google.com/github/appliedcode/mthree-c422/blob/main/Exercises/day-6/practice.ipynb\" target=\"_parent\"><img src=\"https://colab.research.google.com/assets/colab-badge.svg\" alt=\"Open In Colab\"/></a>"
      ]
    },
    {
      "cell_type": "markdown",
      "metadata": {
        "id": "WI2MFwO5Q76F"
      },
      "source": []
    },
    {
      "cell_type": "markdown",
      "metadata": {
        "id": "RpsOG3v9XMxn"
      },
      "source": [
        "# ETL Lab Exercise: Global Superstore Dataset\n",
        "\n",
        "## Problem Statement\n",
        "\n",
        "In this exercise, you will build an ETL (Extract-Transform-Load) pipeline in Google Colab using the publicly available \"Global Superstore\" dataset, which contains sales transactions, customer, and product data from a fictional worldwide retail store.\n",
        "\n",
        "---\n",
        "\n",
        "## Tasks\n",
        "\n",
        "### 1. Extract\n",
        "- **Download:**  \n",
        "  Download the Global Superstore dataset CSV from this public URL:  \n",
        "  https://raw.githubusercontent.com/plotly/datasets/master/supermarket_Sales.csv  \n",
        "- **Load:**  \n",
        "  Load the CSV file into a pandas DataFrame:  \n",
        "  ```python\n",
        "   import pandas as pd\n",
        "   df = pd.read_csv(\"https://raw.githubusercontent.com/plotly/datasets/master/supermarket_Sales.csv\")\n",
        "  ```\n",
        "\n",
        "### 2. Transform\n",
        "- **Clean:**  \n",
        "- Handle missing or inconsistent data entries.  \n",
        "- Rename columns for clarity if needed.  \n",
        "- Convert date columns (e.g., `Invoice Date`) to datetime format.  \n",
        "- **Feature Engineering:**  \n",
        "- Calculate `OrderProcessingTime` as the difference (in days) between `Ship Date` and `Order Date` (if present), or between `Invoice Date` and `Order Date`.  \n",
        "- Categorize sales into \"Low\", \"Medium\", and \"High\" based on quantiles of the `Total` column.  \n",
        "- Extract the year and month from the invoice date for time series analysis.\n",
        "\n",
        "### 3. Load\n",
        "- **SQLite Storage:**  \n",
        "Store the transformed DataFrame inside a local SQLite database within Colab.  \n",
        "- **SQL Queries:**  \n",
        "- Retrieve total sales by `City` and `Category`.  \n",
        "- Find the average order processing time by `Customer Type`.  \n",
        "- List the top 5 customers by total `Total` sales.\n",
        "\n",
        "---\n",
        "\n",
        "## Constraints\n",
        "\n",
        "- All ETL steps must be performed using pandas, SQLite, and Python standard libraries within Colab only.  \n",
        "- Do not use any external cloud database or services.\n",
        "\n",
        "---\n",
        "\n",
        "## Dataset\n",
        "\n",
        "- **Global Superstore dataset CSV:**  \n",
        "https://raw.githubusercontent.com/plotly/datasets/master/supermarket_Sales.csv\n",
        "\n",
        "---\n",
        "\n",
        "## Example Challenge Questions\n",
        "\n",
        "- Which city has the highest total sales overall?  \n",
        "- What is the average order processing time for different customer types?  \n",
        "- Which product lines contribute most to revenue in each region?\n",
        "\n",
        "---\n",
        "\n",
        "**Expected Outcome:**  \n",
        "By completing this lab, you will build practical skills in data ingestion, cleaning, feature engineering, and local database management—using a real-world retail dataset inside Google Colab.  \n"
      ]
    }
  ],
  "metadata": {
    "colab": {
      "include_colab_link": true,
      "name": "Welcome to Colab",
      "provenance": []
    },
    "kernelspec": {
      "display_name": "Python 3",
      "name": "python3"
    }
  },
  "nbformat": 4,
  "nbformat_minor": 0
}
