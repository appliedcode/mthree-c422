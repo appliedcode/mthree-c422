{
  "nbformat": 4,
  "nbformat_minor": 0,
  "metadata": {
    "colab": {
      "provenance": [],
      "authorship_tag": "ABX9TyMcsKX/pErpZaxjDlnlk/lO",
      "include_colab_link": true
    },
    "kernelspec": {
      "name": "python3",
      "display_name": "Python 3"
    },
    "language_info": {
      "name": "python"
    }
  },
  "cells": [
    {
      "cell_type": "markdown",
      "metadata": {
        "id": "view-in-github",
        "colab_type": "text"
      },
      "source": [
        "<a href=\"https://colab.research.google.com/github/appliedcode/mthree-c422/blob/mthree-c422-Likhitha/Responsible_AI_DC_Practice_md.ipynb\" target=\"_parent\"><img src=\"https://colab.research.google.com/assets/colab-badge.svg\" alt=\"Open In Colab\"/></a>"
      ]
    },
    {
      "cell_type": "code",
      "execution_count": 1,
      "metadata": {
        "id": "FC5N2Bv8sb16"
      },
      "outputs": [],
      "source": [
        "import json\n",
        "import numpy as np, pandas as pd\n",
        "from sklearn.model_selection import train_test_split\n",
        "from sklearn.ensemble import RandomForestClassifier\n",
        "from sklearn.metrics import confusion_matrix, accuracy_score\n",
        "import shap\n",
        "import matplotlib.pyplot as plt\n"
      ]
    },
    {
      "cell_type": "code",
      "source": [
        "np.random.seed(2025)\n",
        "n = 300\n",
        "genders = [\"Male\", \"Female\"]\n",
        "age_groups = [\"18-30\", \"31-45\", \"46-60\", \"60+\"]\n",
        "trust_levels = [\"High\", \"Medium\", \"Low\"]\n",
        "\n",
        "df = pd.DataFrame({\n",
        "    \"Patient_ID\": range(1, n+1),\n",
        "    \"Gender\": np.random.choice(genders, n, p=[0.48, 0.52]),\n",
        "    \"Age_Group\": np.random.choice(age_groups, n),\n",
        "    \"Blood_Pressure\": np.random.randint(90, 180, n),\n",
        "    \"Cholesterol_Level\": np.random.randint(150, 300, n),\n",
        "    \"Family_History_Risk\": np.random.choice([0,1], n, p=[0.6,0.4]),\n",
        "    \"AI_Diagnosis\": np.random.choice([\"Low Risk\",\"Medium Risk\",\"High Risk\"], n, p=[0.5,0.3,0.2]),\n",
        "    \"Public_Trust_in_AI\": np.random.choice(trust_levels, n, p=[0.35,0.45,0.2])\n",
        "})"
      ],
      "metadata": {
        "id": "ri3USynbsogZ"
      },
      "execution_count": 2,
      "outputs": []
    },
    {
      "cell_type": "code",
      "source": [
        "label_map = {\"Low Risk\":0, \"Medium Risk\":1, \"High Risk\":2}\n",
        "df[\"label\"] = df[\"AI_Diagnosis\"].map(label_map)\n",
        "X = pd.get_dummies(df[[\"Gender\",\"Age_Group\",\"Blood_Pressure\",\"Cholesterol_Level\",\"Family_History_Risk\"]], drop_first=True)\n",
        "y = df[\"label\"]\n"
      ],
      "metadata": {
        "id": "j6ALcculsuWL"
      },
      "execution_count": 3,
      "outputs": []
    },
    {
      "cell_type": "code",
      "source": [
        "X_train, X_test, y_train, y_test, df_train, df_test = train_test_split(X, y, df, test_size=0.25, random_state=42, stratify=y)\n",
        "clf = RandomForestClassifier(n_estimators=100, random_state=42)\n",
        "clf.fit(X_train, y_train)\n",
        "y_pred = clf.predict(X_test)"
      ],
      "metadata": {
        "id": "pKFv2hzEswjI"
      },
      "execution_count": 4,
      "outputs": []
    },
    {
      "cell_type": "code",
      "source": [
        "acc = accuracy_score(y_test, y_pred)\n",
        "print(f\"Overall accuracy (proxy): {acc:.3f}\")"
      ],
      "metadata": {
        "colab": {
          "base_uri": "https://localhost:8080/"
        },
        "id": "mx5nBvqosztX",
        "outputId": "c932749f-611c-41d3-8f16-1473aaf789df"
      },
      "execution_count": 5,
      "outputs": [
        {
          "output_type": "stream",
          "name": "stdout",
          "text": [
            "Overall accuracy (proxy): 0.427\n"
          ]
        }
      ]
    },
    {
      "cell_type": "code",
      "source": [
        "def group_fairness_table(df_slice, preds, true, group_col):\n",
        "    out = {}\n",
        "    base = pd.DataFrame({group_col: df_slice[group_col].values, \"y_true\": true.values, \"y_pred\": preds})\n",
        "    for g, sub in base.groupby(group_col):\n",
        "        support = len(sub)\n",
        "        # positive prediction rate (PPR): proportion predicted High Risk\n",
        "        ppr = (sub[\"y_pred\"]==2).mean()\n",
        "        # TPR for High Risk: among true High Risk, fraction predicted High Risk\n",
        "        high_true = sub[sub[\"y_true\"]==2]\n",
        "        tpr = (high_true[\"y_pred\"]==2).mean() if len(high_true)>0 else np.nan\n",
        "        out[g] = {\"support\":int(support), \"PPR\":float(ppr), \"TPR\":(float(tpr) if not np.isnan(tpr) else \"NA\")}\n",
        "    return pd.DataFrame(out).T\n",
        "\n",
        "fair_gender = group_fairness_table(df_test, y_pred, y_test, \"Gender\")\n",
        "fair_age   = group_fairness_table(df_test, y_pred, y_test, \"Age_Group\")\n",
        "\n",
        "print(\"\\nFairness by Gender (HighRisk PPR & TPR):\")\n",
        "print(fair_gender)\n",
        "print(\"\\nFairness by Age_Group (HighRisk PPR & TPR):\")\n",
        "print(fair_age)\n",
        "\n",
        "# Compute simple disparity metrics (Demographic parity diff = max PPR - min PPR)\n",
        "def disparity_summary(fair_df):\n",
        "    pprs = [v[\"PPR\"] for v in fair_df.to_dict(orient=\"index\").values()]\n",
        "    return {\"min_ppr\": min(pprs), \"max_ppr\": max(pprs), \"dp_diff\": max(pprs)-min(pprs)}\n",
        "dg = disparity_summary(fair_gender); da = disparity_summary(fair_age)\n",
        "print(\"\\nDisparity summary (Gender):\", dg)\n",
        "print(\"Disparity summary (Age):\", da)\n"
      ],
      "metadata": {
        "colab": {
          "base_uri": "https://localhost:8080/"
        },
        "id": "-tRPLLaxs3v2",
        "outputId": "9c2ac021-888e-4aa7-f9e1-a73dcd145090"
      },
      "execution_count": 6,
      "outputs": [
        {
          "output_type": "stream",
          "name": "stdout",
          "text": [
            "\n",
            "Fairness by Gender (HighRisk PPR & TPR):\n",
            "        support   PPR  TPR\n",
            "Female     40.0  0.25  0.3\n",
            "Male       35.0  0.00  0.0\n",
            "\n",
            "Fairness by Age_Group (HighRisk PPR & TPR):\n",
            "       support       PPR       TPR\n",
            "18-30     16.0  0.187500  0.333333\n",
            "31-45     12.0  0.083333  0.000000\n",
            "46-60     22.0  0.272727  1.000000\n",
            "60+       25.0  0.000000  0.000000\n",
            "\n",
            "Disparity summary (Gender): {'min_ppr': 0.0, 'max_ppr': 0.25, 'dp_diff': 0.25}\n",
            "Disparity summary (Age): {'min_ppr': 0.0, 'max_ppr': 0.2727272727272727, 'dp_diff': 0.2727272727272727}\n"
          ]
        }
      ]
    },
    {
      "cell_type": "code",
      "source": [
        "explainer = shap.TreeExplainer(clf)\n",
        "shap_values = explainer.shap_values(X_test)\n",
        "# For multiclass shap_values is a list; pick index 2 (High Risk) if present\n",
        "sv = shap_values[2] if isinstance(shap_values, list) and len(shap_values)>2 else shap_values\n",
        "plt.figure(figsize=(6,3))\n",
        "shap.summary_plot(sv, X_test, plot_type=\"bar\", show=False)\n",
        "plt.title(\"SHAP: Top features for High Risk\")\n",
        "plt.tight_layout()\n",
        "plt.savefig(\"shap_highrisk_bar.png\", dpi=120)\n",
        "plt.close()\n",
        "print(\"\\nSaved SHAP summary plot -> shap_highrisk_bar.png\")\n"
      ],
      "metadata": {
        "colab": {
          "base_uri": "https://localhost:8080/"
        },
        "id": "4Ozu4CXrs8qZ",
        "outputId": "b4094072-89fe-4084-c993-7560a69aecc5"
      },
      "execution_count": 7,
      "outputs": [
        {
          "output_type": "stream",
          "name": "stderr",
          "text": [
            "/tmp/ipython-input-3720220083.py:6: FutureWarning: The NumPy global RNG was seeded by calling `np.random.seed`. In a future version this function will no longer use the global RNG. Pass `rng` explicitly to opt-in to the new behaviour and silence this warning.\n",
            "  shap.summary_plot(sv, X_test, plot_type=\"bar\", show=False)\n"
          ]
        },
        {
          "output_type": "stream",
          "name": "stdout",
          "text": [
            "\n",
            "Saved SHAP summary plot -> shap_highrisk_bar.png\n"
          ]
        }
      ]
    },
    {
      "cell_type": "code",
      "source": [
        "audit = {\n",
        "    \"timestamp\": pd.Timestamp.now().isoformat(),\n",
        "    \"overall_accuracy\": acc,\n",
        "    \"gender_fairness\": fair_gender.to_dict(),\n",
        "    \"age_fairness\": fair_age.to_dict(),\n",
        "    \"gender_dp_diff\": dg[\"dp_diff\"],\n",
        "    \"age_dp_diff\": da[\"dp_diff\"],\n",
        "    \"notes\": \"High Risk treated as positive (label==2). Labels are synthetic; treat results as demonstration.\"\n",
        "}\n",
        "with open(\"audit_summary.json\",\"w\") as f:\n",
        "    json.dump(audit, f, indent=2)\n",
        "print(\"Audit summary written -> audit_summary.json\")\n",
        "\n",
        "# ---------- Short action plan (print)\n",
        "print(\"\\nAction Plan (short):\")\n",
        "print(\"1) Data: collect more clinical ground-truth outcomes; ensure representative sampling by gender/age.\")\n",
        "print(\"2) Model: test per-group calibration; consider group-specific thresholds or reweighting if dp_diff > 0.05.\")\n",
        "print(\"3) Transparency: publish feature importances & decision rules; integrate SHAP explanations in clinician UI.\")\n",
        "print(\"4) Oversight: human-in-the-loop review for High Risk cases; monitoring pipeline for model drift.\")\n",
        "print(\"5) Privacy & Accountability: log predictions, keep audit trail, and enforce access controls.\")"
      ],
      "metadata": {
        "colab": {
          "base_uri": "https://localhost:8080/"
        },
        "id": "EXO3GT95tAVa",
        "outputId": "eef054f8-4bec-421e-b493-6bfe94fbdde2"
      },
      "execution_count": 8,
      "outputs": [
        {
          "output_type": "stream",
          "name": "stdout",
          "text": [
            "Audit summary written -> audit_summary.json\n",
            "\n",
            "Action Plan (short):\n",
            "1) Data: collect more clinical ground-truth outcomes; ensure representative sampling by gender/age.\n",
            "2) Model: test per-group calibration; consider group-specific thresholds or reweighting if dp_diff > 0.05.\n",
            "3) Transparency: publish feature importances & decision rules; integrate SHAP explanations in clinician UI.\n",
            "4) Oversight: human-in-the-loop review for High Risk cases; monitoring pipeline for model drift.\n",
            "5) Privacy & Accountability: log predictions, keep audit trail, and enforce access controls.\n"
          ]
        }
      ]
    }
  ]
}