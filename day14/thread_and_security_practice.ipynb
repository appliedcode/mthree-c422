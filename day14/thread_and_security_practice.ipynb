{
  "nbformat": 4,
  "nbformat_minor": 0,
  "metadata": {
    "colab": {
      "provenance": [],
      "gpuType": "T4"
    },
    "kernelspec": {
      "name": "python3",
      "display_name": "Python 3"
    },
    "language_info": {
      "name": "python"
    },
    "accelerator": "GPU"
  },
  "cells": [
    {
      "cell_type": "code",
      "source": [
        "\n",
        "# Install necessary packages\n",
        "!pip install shap scikit-learn pandas matplotlib -q\n",
        "\n",
        "import pandas as pd\n",
        "import numpy as np\n",
        "from sklearn.model_selection import train_test_split\n",
        "from sklearn.ensemble import RandomForestClassifier\n",
        "from sklearn.metrics import classification_report, confusion_matrix\n",
        "import shap\n",
        "import datetime"
      ],
      "metadata": {
        "id": "2uzy1Rc8CmN6"
      },
      "execution_count": 5,
      "outputs": []
    },
    {
      "cell_type": "code",
      "source": [
        "df = pd.read_csv('creditcard.csv')\n",
        "X = df.drop(columns=['Class'])\n",
        "y = df['Class']  # Target: 1=Fraud, 0=Non-Fraud\n",
        "\n",
        "print(\"Dataset shape:\", X.shape)\n",
        "print(\"Fraud class distribution:\\n\", y.value_counts())"
      ],
      "metadata": {
        "colab": {
          "base_uri": "https://localhost:8080/"
        },
        "id": "VqpWO3lGCmpo",
        "outputId": "6ef2479e-4717-4181-ad26-07b10f29680b"
      },
      "execution_count": 6,
      "outputs": [
        {
          "output_type": "stream",
          "name": "stdout",
          "text": [
            "Dataset shape: (162557, 30)\n",
            "Fraud class distribution:\n",
            " Class\n",
            "0.0    162200\n",
            "1.0       356\n",
            "Name: count, dtype: int64\n"
          ]
        }
      ]
    },
    {
      "cell_type": "code",
      "source": [
        "def poison_labels(y, fraction=0.02, target_label=0):\n",
        "    \"\"\"\n",
        "    Flip labels for a fraction of cases to simulate poisoning attacks.\n",
        "    \"\"\"\n",
        "    y_poisoned = y.copy()\n",
        "    n_poison = int(fraction * len(y))\n",
        "    indices = np.random.choice(len(y), n_poison, replace=False)\n",
        "    y_poisoned.iloc[indices] = target_label\n",
        "    return y_poisoned\n",
        "\n",
        "print(\"\\nSimulating label poisoning (2% flipped to class 0)...\")\n",
        "y_poisoned = poison_labels(y, fraction=0.02, target_label=0)\n"
      ],
      "metadata": {
        "colab": {
          "base_uri": "https://localhost:8080/"
        },
        "id": "-nGUaS0nCplS",
        "outputId": "615cfb46-0eec-4415-ade0-4beddf616647"
      },
      "execution_count": 12,
      "outputs": [
        {
          "output_type": "stream",
          "name": "stdout",
          "text": [
            "\n",
            "Simulating label poisoning (2% flipped to class 0)...\n"
          ]
        }
      ]
    },
    {
      "cell_type": "code",
      "source": [
        "# Drop rows where target is missing\n",
        "mask = y_poisoned.notna()\n",
        "X = X.loc[mask]\n",
        "y_poisoned = y_poisoned.loc[mask]\n",
        "\n",
        "print(\"Remaining samples after dropping NaN targets:\", len(y_poisoned))\n",
        "print(\"Target distribution:\\n\", y_poisoned.value_counts())\n"
      ],
      "metadata": {
        "colab": {
          "base_uri": "https://localhost:8080/"
        },
        "id": "hO13WOAQJ69O",
        "outputId": "d6f75098-1cbf-4295-f550-3ea6a90caf58"
      },
      "execution_count": 14,
      "outputs": [
        {
          "output_type": "stream",
          "name": "stdout",
          "text": [
            "Remaining samples after dropping NaN targets: 162556\n",
            "Target distribution:\n",
            " Class\n",
            "0.0    162211\n",
            "1.0       345\n",
            "Name: count, dtype: int64\n"
          ]
        }
      ]
    },
    {
      "cell_type": "code",
      "source": [
        "from sklearn.model_selection import train_test_split\n",
        "\n",
        "X_train, X_test, y_train, y_test = train_test_split(\n",
        "    X, y_poisoned, test_size=0.3, random_state=42, stratify=y_poisoned\n",
        ")\n"
      ],
      "metadata": {
        "id": "kMtlRQbHCuCP"
      },
      "execution_count": 15,
      "outputs": []
    },
    {
      "cell_type": "code",
      "source": [
        "clf = RandomForestClassifier(n_estimators=100, random_state=42)\n",
        "clf.fit(X_train, y_train)\n",
        "\n",
        "y_pred = clf.predict(X_test)\n",
        "\n",
        "print(\"\\nBaseline Model - Classification Report (With Poisoned Data):\")\n",
        "print(classification_report(y_test, y_pred, digits=4))"
      ],
      "metadata": {
        "colab": {
          "base_uri": "https://localhost:8080/"
        },
        "id": "g_At6R_DCwID",
        "outputId": "ab2268fa-24ef-4456-eb05-62b854a86903"
      },
      "execution_count": 16,
      "outputs": [
        {
          "output_type": "stream",
          "name": "stdout",
          "text": [
            "\n",
            "Baseline Model - Classification Report (With Poisoned Data):\n",
            "              precision    recall  f1-score   support\n",
            "\n",
            "         0.0     0.9996    0.9998    0.9997     48663\n",
            "         1.0     0.8925    0.7981    0.8426       104\n",
            "\n",
            "    accuracy                         0.9994     48767\n",
            "   macro avg     0.9460    0.8989    0.9212     48767\n",
            "weighted avg     0.9993    0.9994    0.9993     48767\n",
            "\n"
          ]
        }
      ]
    },
    {
      "cell_type": "code",
      "source": [
        "X_privacy = X.drop(columns=['Amount', 'Time'])\n",
        "X_train_priv, X_test_priv, y_train_priv, y_test_priv = train_test_split(\n",
        "    X_privacy, y_poisoned, test_size=0.3, random_state=42, stratify=y_poisoned\n",
        ")\n",
        "\n",
        "clf_priv = RandomForestClassifier(n_estimators=100, random_state=42)\n",
        "clf_priv.fit(X_train_priv, y_train_priv)\n",
        "y_pred_priv = clf_priv.predict(X_test_priv)\n",
        "\n",
        "print(\"\\nPrivacy-Preserved Model - Classification Report:\")\n",
        "print(classification_report(y_test_priv, y_pred_priv, digits=4))"
      ],
      "metadata": {
        "colab": {
          "base_uri": "https://localhost:8080/"
        },
        "id": "ciReWWECCyqt",
        "outputId": "0596415c-82b5-4143-d93a-aa4a19db23dd"
      },
      "execution_count": 17,
      "outputs": [
        {
          "output_type": "stream",
          "name": "stdout",
          "text": [
            "\n",
            "Privacy-Preserved Model - Classification Report:\n",
            "              precision    recall  f1-score   support\n",
            "\n",
            "         0.0     0.9996    0.9998    0.9997     48663\n",
            "         1.0     0.8936    0.8077    0.8485       104\n",
            "\n",
            "    accuracy                         0.9994     48767\n",
            "   macro avg     0.9466    0.9037    0.9241     48767\n",
            "weighted avg     0.9994    0.9994    0.9994     48767\n",
            "\n"
          ]
        }
      ]
    },
    {
      "cell_type": "code",
      "source": [
        "audit_log = {\n",
        "    \"timestamp\": datetime.datetime.now().isoformat(),\n",
        "    \"poisoning_fraction\": 0.02,\n",
        "    \"baseline_metrics\": classification_report(y_test, y_pred, output_dict=True),\n",
        "    \"privacy_preserved_metrics\": classification_report(y_test_priv, y_pred_priv, output_dict=True),\n",
        "    \"confusion_matrix_baseline\": confusion_matrix(y_test, y_pred).tolist(),\n",
        "    \"confusion_matrix_privacy\": confusion_matrix(y_test_priv, y_pred_priv).tolist()\n",
        "}\n",
        "\n",
        "print(\"\\n--- Security Audit Log ---\")\n",
        "print(audit_log)"
      ],
      "metadata": {
        "colab": {
          "base_uri": "https://localhost:8080/"
        },
        "id": "HENBnm8ZDws1",
        "outputId": "d0510328-3cb0-48d5-dc65-f14f82053944"
      },
      "execution_count": 18,
      "outputs": [
        {
          "output_type": "stream",
          "name": "stdout",
          "text": [
            "\n",
            "--- Security Audit Log ---\n",
            "{'timestamp': '2025-08-14T10:40:16.061525', 'poisoning_fraction': 0.02, 'baseline_metrics': {'0.0': {'precision': 0.9995685581624687, 'recall': 0.9997945050654501, 'f1-score': 0.9996815188468927, 'support': 48663.0}, '1.0': {'precision': 0.8924731182795699, 'recall': 0.7980769230769231, 'f1-score': 0.8426395939086294, 'support': 104.0}, 'accuracy': 0.9993643242356511, 'macro avg': {'precision': 0.9460208382210193, 'recall': 0.8989357140711867, 'f1-score': 0.9211605563777611, 'support': 48767.0}, 'weighted avg': {'precision': 0.9993401675346298, 'recall': 0.9993643242356511, 'f1-score': 0.9993466128614195, 'support': 48767.0}}, 'privacy_preserved_metrics': {'0.0': {'precision': 0.9995890945698848, 'recall': 0.9997945050654501, 'f1-score': 0.9996917892660475, 'support': 48663.0}, '1.0': {'precision': 0.8936170212765957, 'recall': 0.8076923076923077, 'f1-score': 0.8484848484848485, 'support': 104.0}, 'accuracy': 0.9993848299054688, 'macro avg': {'precision': 0.9466030579232403, 'recall': 0.903743406378879, 'f1-score': 0.9240883188754481, 'support': 48767.0}, 'weighted avg': {'precision': 0.9993630996220203, 'recall': 0.9993848299054688, 'f1-score': 0.9993693269074599, 'support': 48767.0}}, 'confusion_matrix_baseline': [[48653, 10], [21, 83]], 'confusion_matrix_privacy': [[48653, 10], [20, 84]]}\n"
          ]
        }
      ]
    },
    {
      "cell_type": "code",
      "source": [
        "print(\"\\nGenerating SHAP explanation for baseline model...\")\n",
        "\n",
        "# Create SHAP explainer\n",
        "explainer = shap.TreeExplainer(clf)\n",
        "shap_values = explainer.shap_values(X_test)\n",
        "\n",
        "# Handle output shape for both old and new SHAP versions\n",
        "if isinstance(shap_values, list):\n",
        "    # Old behavior: list with one array per class\n",
        "    shap_to_plot = shap_values[1]  # Positive/fraud class\n",
        "else:\n",
        "    # New behavior: 3D array (n_samples, n_features, n_classes)\n",
        "    shap_to_plot = shap_values[:, :, 1]  # Class index 1 = fraud\n",
        "\n",
        "# Make sure shapes match\n",
        "print(\"SHAP values shape to plot:\", shap_to_plot.shape)\n",
        "print(\"X_test shape:\", X_test.shape)\n",
        "\n",
        "# Summary plot for positive class (fraud)\n",
        "shap.summary_plot(shap_to_plot, X_test, plot_type=\"bar\")\n"
      ],
      "metadata": {
        "colab": {
          "base_uri": "https://localhost:8080/",
          "height": 1000
        },
        "id": "H6folWBdDyGU",
        "outputId": "47db65ef-aa6a-444e-e61e-2f52bf9cc517"
      },
      "execution_count": 20,
      "outputs": [
        {
          "output_type": "stream",
          "name": "stdout",
          "text": [
            "\n",
            "Generating SHAP explanation for baseline model...\n",
            "SHAP values shape to plot: (48767, 30)\n",
            "X_test shape: (48767, 30)\n"
          ]
        },
        {
          "output_type": "display_data",
          "data": {
            "text/plain": [
              "<Figure size 800x950 with 1 Axes>"
            ],
            "image/png": "[encoded data removed]"
          },
          "metadata": {}
        }
      ]
    },
    {
      "cell_type": "code",
      "source": [
        "compliance_report = f\"\"\"\n",
        "CREDIT CARD FRAUD DETECTION - AI SECURITY & PRIVACY AUDIT\n",
        "--------------------------------------------------------\n",
        "Timestamp: {audit_log['timestamp']}\n",
        "\n",
        "Threat Simulation:\n",
        "- Simulated {audit_log['poisoning_fraction']*100:.1f}% label poisoning to test fraud model robustness.\n",
        "\n",
        "Model Performance:\n",
        "- Baseline Accuracy: {audit_log['baseline_metrics']['accuracy']:.4f}\n",
        "- Privacy-Preserved Accuracy: {audit_log['privacy_preserved_metrics']['accuracy']:.4f}\n",
        "\n",
        "Security Governance:\n",
        "- Evaluated model under data poisoning threat scenario.\n",
        "- Applied simple feature masking ('Amount', 'Time') to enhance privacy.\n",
        "\n",
        "Transparency:\n",
        "- SHAP feature importance analysis used to interpret influential features for fraud classification.\n",
        "\n",
        "Audit Readiness:\n",
        "- Metrics, confusion matrices, and parameters logged for review.\n",
        "- Supports compliance with GDPR, PCI DSS, and AI governance best practices.\n",
        "\"\"\"\n",
        "\n",
        "print(compliance_report)\n"
      ],
      "metadata": {
        "colab": {
          "base_uri": "https://localhost:8080/"
        },
        "id": "cmwPQlNCD1J_",
        "outputId": "d7a966c4-eae0-40c3-a970-cfd5d50a16f9"
      },
      "execution_count": 21,
      "outputs": [
        {
          "output_type": "stream",
          "name": "stdout",
          "text": [
            "\n",
            "CREDIT CARD FRAUD DETECTION - AI SECURITY & PRIVACY AUDIT\n",
            "--------------------------------------------------------\n",
            "Timestamp: 2025-08-14T10:40:16.061525\n",
            "\n",
            "Threat Simulation:\n",
            "- Simulated 2.0% label poisoning to test fraud model robustness.\n",
            "\n",
            "Model Performance:\n",
            "- Baseline Accuracy: 0.9994\n",
            "- Privacy-Preserved Accuracy: 0.9994\n",
            "\n",
            "Security Governance:\n",
            "- Evaluated model under data poisoning threat scenario.\n",
            "- Applied simple feature masking ('Amount', 'Time') to enhance privacy.\n",
            "\n",
            "Transparency:\n",
            "- SHAP feature importance analysis used to interpret influential features for fraud classification.\n",
            "\n",
            "Audit Readiness:\n",
            "- Metrics, confusion matrices, and parameters logged for review.\n",
            "- Supports compliance with GDPR, PCI DSS, and AI governance best practices.\n",
            "\n"
          ]
        }
      ]
    }
  ]
}