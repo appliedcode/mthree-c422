{
  "cells": [
    {
      "cell_type": "markdown",
      "metadata": {
        "id": "view-in-github",
        "colab_type": "text"
      },
      "source": [
        "<a href=\"https://colab.research.google.com/github/appliedcode/mthree-c422/blob/mthree-c422-dipti/Exercises/day-11/Prompt-Essential/prompt-structure.ipynb\" target=\"_parent\"><img src=\"https://colab.research.google.com/assets/colab-badge.svg\" alt=\"Open In Colab\"/></a>"
      ]
    },
    {
      "cell_type": "markdown",
      "source": [
        "# 🧪 Colab Lab: Mastering Prompt Structure\n",
        "\n"
      ],
      "metadata": {
        "id": "hFnkDgKDTUgk"
      }
    },
    {
      "cell_type": "code",
      "source": [
        "!pip install --quiet openai\n",
        "\n",
        "from google.colab import userdata\n",
        "import os\n",
        "from openai import OpenAI\n",
        "\n",
        "api_key = userdata.get('OPENAI_API_KEY')\n",
        "if not api_key:\n",
        "    raise ValueError(\"❌ API key not found. Please set with userdata.set(...)\")\n",
        "\n",
        "os.environ[\"OPENAI_API_KEY\"] = api_key\n",
        "client = OpenAI(api_key=os.environ[\"OPENAI_API_KEY\"])"
      ],
      "metadata": {
        "id": "b-MrRDkKZxI6"
      },
      "execution_count": 1,
      "outputs": []
    },
    {
      "cell_type": "markdown",
      "source": [
        "1️⃣ CLARITY — Make the Task Unambiguous\n",
        "Task:\n",
        "Write a prompt asking the model to explain Newton’s First Law, first unclearly, then with clear instructions."
      ],
      "metadata": {
        "id": "DWPZphMqQ748"
      }
    },
    {
      "cell_type": "code",
      "source": [
        "# Unclear prompt:\n",
        "unclear = \"Tell me about Newton's law.\"\n",
        "# Clearer version:\n",
        "clear = \"Write a 3-sentence explanation of Newton’s First Law in simple language for a 12-year-old.\"\n",
        "\n",
        "for prompt in [unclear, clear]:\n",
        "    resp = client.chat.completions.create(\n",
        "        model=\"gpt-4o-mini\",\n",
        "        messages=[{\"role\": \"user\", \"content\": prompt}],\n",
        "        max_tokens=80,\n",
        "    )\n",
        "    print(f\"\\nPrompt: {prompt}\\n---Answer---\\n{resp.choices[0].message.content.strip()}\")\n"
      ],
      "metadata": {
        "id": "EMw2mUTcRC87",
        "colab": {
          "base_uri": "https://localhost:8080/"
        },
        "outputId": "18291e18-66d4-4fcd-c916-efdbdacb94ba"
      },
      "execution_count": 2,
      "outputs": [
        {
          "output_type": "stream",
          "name": "stdout",
          "text": [
            "\n",
            "Prompt: Tell me about Newton's law.\n",
            "---Answer---\n",
            "Newton's laws of motion are three physical laws that form the foundation for classical mechanics, laying the groundwork for understanding how objects move. These laws were formulated by Sir Isaac Newton in the 17th century and are as follows:\n",
            "\n",
            "1. **Newton's First Law (Law of Inertia)**: An object at rest will remain at rest, and an object in motion will continue in motion with a constant\n",
            "\n",
            "Prompt: Write a 3-sentence explanation of Newton’s First Law in simple language for a 12-year-old.\n",
            "---Answer---\n",
            "Newton's First Law says that an object will stay still or keep moving in a straight line at the same speed unless something pushes or pulls on it. This means that if you roll a ball on the ground, it will keep rolling until something like friction or a wall stops it. Basically, things like to keep doing what they're already doing, unless something else changes that!\n"
          ]
        }
      ]
    },
    {
      "cell_type": "markdown",
      "source": [
        "2️⃣ CONTEXT — Inject Relevant Details\n",
        "## Task:\n",
        "- Give more context to the model."
      ],
      "metadata": {
        "id": "vL86MpLGRHN5"
      }
    },
    {
      "cell_type": "code",
      "source": [
        "prompt = (\"You are a science teacher. Explain Newton’s First Law with an example involving riding a bike, in 4 sentences.\")\n",
        "resp = client.chat.completions.create(\n",
        "    model=\"gpt-4o-mini\",\n",
        "    messages=[{\"role\": \"user\", \"content\": prompt}],\n",
        "    max_tokens=100,\n",
        ")\n",
        "print(resp.choices[0].message.content.strip())"
      ],
      "metadata": {
        "id": "8Txjrm0JRGnU",
        "colab": {
          "base_uri": "https://localhost:8080/"
        },
        "outputId": "d3820132-da8b-464c-c827-3eb84e3a3b8e"
      },
      "execution_count": 3,
      "outputs": [
        {
          "output_type": "stream",
          "name": "stdout",
          "text": [
            "Newton's First Law, also known as the law of inertia, states that an object at rest will stay at rest, and an object in motion will stay in motion at a constant velocity unless acted upon by an external force. When you're riding a bike, you must pedal to overcome the bike's inertia to get it moving; if you stop pedaling, the bike will eventually slow down and stop due to friction with the ground and air resistance. If you hit a bump or a sudden obstacle, the\n"
          ]
        }
      ]
    },
    {
      "cell_type": "markdown",
      "source": [
        "3️⃣ CONSTRAINTS — Define Output Boundaries\n",
        "## Task:\n",
        "- Ask for specific format, word count, or do’s and don'ts."
      ],
      "metadata": {
        "id": "Y7acccp-RPe4"
      }
    },
    {
      "cell_type": "code",
      "source": [
        "prompt = (\n",
        "    \"Summarize Newton’s First Law in exactly 2 bullet points and avoid technical jargon.\"\n",
        ")\n",
        "resp = client.chat.completions.create(\n",
        "    model=\"gpt-4o-mini\",\n",
        "    messages=[{\"role\": \"user\", \"content\": prompt}],\n",
        "    max_tokens=60,\n",
        ")\n",
        "print(resp.choices[0].message.content.strip())\n"
      ],
      "metadata": {
        "id": "nUiJywafRO9O",
        "colab": {
          "base_uri": "https://localhost:8080/"
        },
        "outputId": "a29aea82-42e6-4c98-d00b-8dffc59b38fb"
      },
      "execution_count": 4,
      "outputs": [
        {
          "output_type": "stream",
          "name": "stdout",
          "text": [
            "- Objects at rest stay still, and moving objects keep going in the same direction unless something causes them to change.  \n",
            "- This means that without any outside force acting on them, things won't start moving or stop moving on their own.\n"
          ]
        }
      ]
    },
    {
      "cell_type": "markdown",
      "source": [
        "4️⃣ ORGANIZATION — Structure the Prompt\n",
        "## Task:\n",
        "- Use sections (instructions, context, output format)."
      ],
      "metadata": {
        "id": "wZqNlKK7RVBl"
      }
    },
    {
      "cell_type": "code",
      "source": [
        "prompt = \"\"\"\n",
        "### Instruction:\n",
        "Explain Newton's First Law to a beginner.\n",
        "### Context:\n",
        "The reader is learning about physics for the first time.\n",
        "### Output:\n",
        "Respond in 2 simple sentences and give a real-life example.\n",
        "\"\"\"\n",
        "resp = client.chat.completions.create(\n",
        "    model=\"gpt-4o-mini\",\n",
        "    messages=[{\"role\": \"user\", \"content\": prompt}],\n",
        "    max_tokens=80,\n",
        ")\n",
        "print(resp.choices[0].message.content.strip())"
      ],
      "metadata": {
        "id": "lRltbyqbRZAr",
        "colab": {
          "base_uri": "https://localhost:8080/"
        },
        "outputId": "7ad9e210-c44f-4633-de50-eafa2c87210c"
      },
      "execution_count": 5,
      "outputs": [
        {
          "output_type": "stream",
          "name": "stdout",
          "text": [
            "Newton's First Law states that an object at rest will stay at rest, and an object in motion will continue moving at the same speed and in the same direction unless acted upon by a net external force. For example, if you slide a hockey puck on ice, it will keep sliding until friction from the ice or a player's stick eventually stops it.\n"
          ]
        }
      ]
    },
    {
      "cell_type": "code",
      "source": [
        "prompt = \"\"\"\n",
        "### Instruction:\n",
        "Explain thermodynamics\n",
        "### Context:\n",
        "The reader is learning about physics for the first time.\n",
        "### Output:\n",
        "Respond in 2 simple sentences and give a real-life example.\n",
        "\"\"\"\n",
        "resp = client.chat.completions.create(\n",
        "    model=\"gpt-4o-mini\",\n",
        "    messages=[{\"role\": \"user\", \"content\": prompt}],\n",
        "    max_tokens=80,\n",
        ")\n",
        "print(resp.choices[0].message.content.strip())"
      ],
      "metadata": {
        "colab": {
          "base_uri": "https://localhost:8080/"
        },
        "id": "P506EYMkkepB",
        "outputId": "c85eeaa9-c064-4daf-f4d8-560d158bf17a"
      },
      "execution_count": 6,
      "outputs": [
        {
          "output_type": "stream",
          "name": "stdout",
          "text": [
            "Thermodynamics is the branch of physics that studies how heat energy is transformed into and from other forms of energy, often focusing on the laws that govern these processes. A real-life example is when you boil water in a kettle; the heat from the stove is transferred to the kettle and then to the water, turning it from liquid to steam.\n"
          ]
        }
      ]
    },
    {
      "cell_type": "markdown",
      "source": [
        " 5️⃣ PREFIXES & LABELS — Make Inputs and Outputs Explicit\n",
        "## Task:\n",
        "- Use prefixes/labels in your examples for few-shot prompts."
      ],
      "metadata": {
        "id": "mkZgqNg1Rjla"
      }
    },
    {
      "cell_type": "code",
      "source": [
        "prompt = \"\"\"Explain Newton’s First Law.\n",
        "\n",
        "Example 1:\n",
        "Q: What is Newton’s First Law?\n",
        "A: An object will keep moving in the same way unless acted on by another force.\n",
        "\n",
        "Example 2:\n",
        "Q: Can you explain Newton’s First Law using a rolling ball?\n",
        "A: A rolling ball keeps moving until friction or something else stops it.\n",
        "\n",
        "Now, give a new example using a moving car.\n",
        "\"\"\"\n",
        "resp = client.chat.completions.create(\n",
        "    model=\"gpt-4o-mini\",\n",
        "    messages=[{\"role\": \"user\", \"content\": prompt}],\n",
        "    max_tokens=80,\n",
        ")\n",
        "print(resp.choices[0].message.content.strip())"
      ],
      "metadata": {
        "id": "_u9T2_FKRjFP",
        "colab": {
          "base_uri": "https://localhost:8080/"
        },
        "outputId": "2b6393fc-cf83-4732-d3b8-2f08e89a64ec"
      },
      "execution_count": 7,
      "outputs": [
        {
          "output_type": "stream",
          "name": "stdout",
          "text": [
            "Q: Can you explain Newton’s First Law using a moving car?  \n",
            "A: A moving car will continue to travel at the same speed and in the same direction unless the driver applies the brakes, accelerates, or turns the steering wheel, or unless external forces like friction or a collision intervene.\n"
          ]
        }
      ]
    },
    {
      "cell_type": "markdown",
      "source": [
        "6️⃣ DECOMPOSITION — Break Down Complex Tasks\n",
        "## Task:\n",
        "- Guide the model with step-by-step or modular instructions."
      ],
      "metadata": {
        "id": "8FHDll-bRscf"
      }
    },
    {
      "cell_type": "markdown",
      "source": [
        "🎯 Next Steps & Reflection\n",
        "For each section, tweak your own prompt and rerun.\n",
        "Ask yourself:\n",
        "\n",
        "Which structure resulted in the best explanation?\n",
        "\n",
        "Where did the model follow instructions tightly?\n",
        "\n",
        "Where did structure help/fail to reduce confusion or vagueness?"
      ],
      "metadata": {
        "id": "ZTHeHIGfRzeK"
      }
    },
    {
      "cell_type": "code",
      "source": [
        "prompt = \"\"\"\n",
        "### Instruction:\n",
        "Explain antenna and its types\n",
        "### Context:\n",
        "The reader is learning about physics for the first time.\n",
        "### Output:\n",
        "Respond in 2 simple sentences and give a real-life example.\n",
        "\"\"\"\n",
        "resp = client.chat.completions.create(\n",
        "    model=\"gpt-4o-mini\",\n",
        "    messages=[{\"role\": \"user\", \"content\": prompt}],\n",
        "    max_tokens=80,\n",
        ")\n",
        "print(resp.choices[0].message.content.strip())"
      ],
      "metadata": {
        "id": "z9GnB4jcRq1_",
        "colab": {
          "base_uri": "https://localhost:8080/"
        },
        "outputId": "aba886fc-618a-4a1e-d663-b474dbee41da"
      },
      "execution_count": 8,
      "outputs": [
        {
          "output_type": "stream",
          "name": "stdout",
          "text": [
            "An antenna is a device that transmits or receives radio waves, converting electrical energy into electromagnetic waves and vice versa. There are various types of antennas, including dipole antennas, which are often used in radios, and parabolic antennas, like satellite dishes that receive signals from space.\n"
          ]
        }
      ]
    }
  ],
  "metadata": {
    "colab": {
      "name": "Welcome to Colab",
      "provenance": [],
      "include_colab_link": true
    },
    "kernelspec": {
      "display_name": "Python 3",
      "name": "python3"
    }
  },
  "nbformat": 4,
  "nbformat_minor": 0
}