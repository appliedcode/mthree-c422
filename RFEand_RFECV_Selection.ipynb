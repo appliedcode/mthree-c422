{
  "nbformat": 4,
  "nbformat_minor": 0,
  "metadata": {
    "colab": {
      "provenance": [],
      "authorship_tag": "ABX9TyPMQmlv5Ey6JGN95LXJRhF4",
      "include_colab_link": true
    },
    "kernelspec": {
      "name": "python3",
      "display_name": "Python 3"
    },
    "language_info": {
      "name": "python"
    }
  },
  "cells": [
    {
      "cell_type": "markdown",
      "metadata": {
        "id": "view-in-github",
        "colab_type": "text"
      },
      "source": [
        "<a href=\"https://colab.research.google.com/github/appliedcode/mthree-c422/blob/mthree-c422-Likhitha/RFEand_RFECV_Selection.ipynb\" target=\"_parent\"><img src=\"https://colab.research.google.com/assets/colab-badge.svg\" alt=\"Open In Colab\"/></a>"
      ]
    },
    {
      "cell_type": "code",
      "execution_count": 1,
      "metadata": {
        "id": "5Jyx9iDWuDv6"
      },
      "outputs": [],
      "source": [
        "import pandas as pd\n",
        "import numpy as np\n",
        "import matplotlib.pyplot as plt\n",
        "from sklearn.datasets import load_breast_cancer, load_iris\n",
        "from sklearn.linear_model import LogisticRegression\n",
        "from sklearn.feature_selection import RFE, RFECV\n",
        "from sklearn.model_selection import train_test_split, StratifiedKFold, cross_val_score\n",
        "from sklearn.metrics import accuracy_score"
      ]
    },
    {
      "cell_type": "code",
      "source": [
        "model = LogisticRegression(max_iter=5000)\n",
        "cv = StratifiedKFold(n_splits=5, shuffle=True, random_state=42)\n"
      ],
      "metadata": {
        "id": "mIPUphpwuRbV"
      },
      "execution_count": 2,
      "outputs": []
    },
    {
      "cell_type": "code",
      "source": [
        "X, y = load_breast_cancer(return_X_y=True)\n",
        "X = pd.DataFrame(X, columns=load_breast_cancer().feature_names)"
      ],
      "metadata": {
        "id": "2rXBkNiDuUyc"
      },
      "execution_count": 3,
      "outputs": []
    },
    {
      "cell_type": "code",
      "source": [
        "X_train, X_test, y_train, y_test = train_test_split(X, y, random_state=42)"
      ],
      "metadata": {
        "id": "hhiH9jwFuXZP"
      },
      "execution_count": 4,
      "outputs": []
    },
    {
      "cell_type": "code",
      "source": [
        "rfe = RFE(estimator=model, n_features_to_select=5)\n",
        "rfe.fit(X_train, y_train)\n",
        "selected_rfe = X.columns[rfe.get_support()]\n",
        "print(\"🔹RFE Chosen Features (5):\", list(selected_rfe))\n",
        "\n",
        "model.fit(X_train[selected_rfe], y_train)\n",
        "y_pred_rfe = model.predict(X_test[selected_rfe])\n",
        "print(f\"🔹Accuracy with RFE (5 features): {accuracy_score(y_test, y_pred_rfe):.4f}\\n\")\n"
      ],
      "metadata": {
        "colab": {
          "base_uri": "https://localhost:8080/"
        },
        "id": "AF8VY9TQu_mN",
        "outputId": "6fd19456-035d-4b72-ce0b-f95411925e38"
      },
      "execution_count": 5,
      "outputs": [
        {
          "output_type": "stream",
          "name": "stdout",
          "text": [
            "🔹RFE Chosen Features (5): ['mean radius', 'texture error', 'worst radius', 'worst compactness', 'worst concavity']\n",
            "🔹Accuracy with RFE (5 features): 0.9790\n",
            "\n"
          ]
        }
      ]
    },
    {
      "cell_type": "code",
      "source": [
        "best_score, best_k = 0, 0\n",
        "for k in range(1, X.shape[1] + 1):\n",
        "    rfe_k = RFE(estimator=model, n_features_to_select=k)\n",
        "    score = cross_val_score(rfe_k, X, y, scoring='accuracy', cv=cv).mean()\n",
        "    if score > best_score:\n",
        "        best_score = score\n",
        "        best_k = k\n",
        "print(f\"🔹RFE Auto-Tuned Best k: {best_k} → CV Accuracy: {best_score:.4f}\\n\")\n"
      ],
      "metadata": {
        "colab": {
          "base_uri": "https://localhost:8080/"
        },
        "id": "Cg2wvWU6vE4v",
        "outputId": "65485633-6413-41a3-f910-7b00bcbcce5d"
      },
      "execution_count": 6,
      "outputs": [
        {
          "output_type": "stream",
          "name": "stdout",
          "text": [
            "🔹RFE Auto-Tuned Best k: 21 → CV Accuracy: 0.9561\n",
            "\n"
          ]
        }
      ]
    },
    {
      "cell_type": "code",
      "source": [
        "from sklearn.metrics import make_scorer, balanced_accuracy_score\n",
        "\n",
        "balanced_scorer = make_scorer(balanced_accuracy_score)\n",
        "best_bal_score, best_bal_k = 0, 0\n",
        "for k in range(1, X.shape[1] + 1):\n",
        "    rfe_k = RFE(estimator=model, n_features_to_select=k)\n",
        "    score = cross_val_score(rfe_k, X, y, scoring=balanced_scorer, cv=cv).mean()\n",
        "    if score > best_bal_score:\n",
        "        best_bal_score = score\n",
        "        best_bal_k = k\n",
        "print(f\"🔹RFE (Balanced Accuracy): Best k = {best_bal_k} → Balanced CV Acc: {best_bal_score:.4f}\\n\")"
      ],
      "metadata": {
        "colab": {
          "base_uri": "https://localhost:8080/"
        },
        "id": "Wb7i2imcxFCN",
        "outputId": "75ed6889-ec43-468d-838e-f2a96a9af11d"
      },
      "execution_count": 7,
      "outputs": [
        {
          "output_type": "stream",
          "name": "stdout",
          "text": [
            "🔹RFE (Balanced Accuracy): Best k = 14 → Balanced CV Acc: 0.9507\n",
            "\n"
          ]
        }
      ]
    },
    {
      "cell_type": "code",
      "source": [
        "rfecv = RFECV(\n",
        "    estimator=model,\n",
        "    step=1,\n",
        "    cv=cv,\n",
        "    scoring='accuracy',\n",
        "    n_jobs=-1,\n",
        "    min_features_to_select=1\n",
        ")\n",
        "rfecv.fit(X_train, y_train)\n",
        "selected_rfecv = X.columns[rfecv.get_support()]\n",
        "print(\"🔹RFECV Chosen Features:\", list(selected_rfecv))\n",
        "print(f\"🔹RFECV Optimal Feature Count: {rfecv.n_features_}\")\n",
        "\n",
        "model.fit(X_train[selected_rfecv], y_train)\n",
        "y_pred_rfecv = model.predict(X_test[selected_rfecv])\n",
        "print(f\"🔹RFECV Accuracy on Test Set: {accuracy_score(y_test, y_pred_rfecv):.4f}\\n\")"
      ],
      "metadata": {
        "colab": {
          "base_uri": "https://localhost:8080/"
        },
        "id": "rCsMlWCox-g0",
        "outputId": "cc6c2410-789a-4c6b-a9f3-e1c957c063f1"
      },
      "execution_count": 8,
      "outputs": [
        {
          "output_type": "stream",
          "name": "stdout",
          "text": [
            "🔹RFECV Chosen Features: ['mean radius', 'mean texture', 'mean perimeter', 'mean area', 'mean smoothness', 'mean compactness', 'mean concavity', 'mean concave points', 'mean symmetry', 'mean fractal dimension', 'radius error', 'texture error', 'perimeter error', 'area error', 'smoothness error', 'concavity error', 'concave points error', 'symmetry error', 'worst radius', 'worst texture', 'worst perimeter', 'worst area', 'worst smoothness', 'worst compactness', 'worst concavity', 'worst concave points', 'worst symmetry', 'worst fractal dimension']\n",
            "🔹RFECV Optimal Feature Count: 28\n",
            "🔹RFECV Accuracy on Test Set: 0.9650\n",
            "\n"
          ]
        }
      ]
    },
    {
      "cell_type": "code",
      "source": [
        "plt.figure(figsize=(8, 5))\n",
        "plt.plot(\n",
        "    range(1, len(rfecv.cv_results_['mean_test_score']) + 1),\n",
        "    rfecv.cv_results_['mean_test_score']\n",
        ")\n",
        "plt.xlabel(\"Number of features selected\")\n",
        "plt.ylabel(\"Cross-validation accuracy\")\n",
        "plt.title(\"RFECV Accuracy vs Number of Selected Features\")\n",
        "plt.grid(True)\n",
        "plt.show()\n"
      ],
      "metadata": {
        "colab": {
          "base_uri": "https://localhost:8080/",
          "height": 487
        },
        "id": "utBF9JsNyHUO",
        "outputId": "28e845bd-e943-4197-981d-981282799802"
      },
      "execution_count": 10,
      "outputs": [
        {
          "output_type": "display_data",
          "data": {
            "text/plain": [
              "<Figure size 800x500 with 1 Axes>"
            ],
            "image/png": "[encoded data removed]"
          },
          "metadata": {}
        }
      ]
    },
    {
      "cell_type": "code",
      "source": [
        "def apply_rfe_to_iris():\n",
        "    print(\"\\n🌸 Applying to Iris Dataset:\")\n",
        "    X_iris, y_iris = load_iris(return_X_y=True)\n",
        "    X_iris = pd.DataFrame(X_iris, columns=load_iris().feature_names)\n",
        "\n",
        "    # Auto-tune RFE for Iris\n",
        "    best_score, best_k = 0, 0\n",
        "    for k in range(1, X_iris.shape[1] + 1):\n",
        "        rfe = RFE(model, n_features_to_select=k)\n",
        "        score = cross_val_score(rfe, X_iris, y_iris, scoring='accuracy', cv=cv).mean()\n",
        "        if score > best_score:\n",
        "            best_score = score\n",
        "            best_k = k\n",
        "    print(f\"🔹Best k for Iris: {best_k} → CV Accuracy: {best_score:.4f}\")\n",
        "\n",
        "    # RFECV for Iris\n",
        "    rfecv_iris = RFECV(model, cv=cv, scoring='accuracy')\n",
        "    rfecv_iris.fit(X_iris, y_iris)\n",
        "    selected_feats = X_iris.columns[rfecv_iris.get_support()]\n",
        "    print(\"🔹RFECV Selected Features (Iris):\", list(selected_feats))\n",
        "\n",
        "# ✅ Call the function\n",
        "apply_rfe_to_iris()\n"
      ],
      "metadata": {
        "colab": {
          "base_uri": "https://localhost:8080/"
        },
        "id": "mCjjHwNByO79",
        "outputId": "4265f461-548b-48c8-fb87-506148c42f9e"
      },
      "execution_count": 13,
      "outputs": [
        {
          "output_type": "stream",
          "name": "stdout",
          "text": [
            "\n",
            "🌸 Applying to Iris Dataset:\n",
            "🔹Best k for Iris: 2 → CV Accuracy: 0.9667\n",
            "🔹RFECV Selected Features (Iris): ['petal length (cm)', 'petal width (cm)']\n"
          ]
        }
      ]
    }
  ]
}