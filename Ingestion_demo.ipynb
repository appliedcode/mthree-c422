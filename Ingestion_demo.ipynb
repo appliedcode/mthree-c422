{
  "nbformat": 4,
  "nbformat_minor": 0,
  "metadata": {
    "colab": {
      "provenance": []
    },
    "kernelspec": {
      "name": "python3",
      "display_name": "Python 3"
    },
    "language_info": {
      "name": "python"
    }
  },
  "cells": [
    {
      "cell_type": "code",
      "execution_count": 1,
      "metadata": {
        "id": "r0V0aEoCbB5t"
      },
      "outputs": [],
      "source": [
        "# Step 1: Set Up the Environment\n",
        "# Install required libraries (requests and pandas)\n",
        "!pip install requests pandas -q"
      ]
    },
    {
      "cell_type": "code",
      "source": [
        "\n",
        "# Step 2: Ingest Data from a Public REST API\n",
        "# Example: Fetch random user data from the Random User Generator API.\n",
        "import requests\n",
        "import pandas as pd\n",
        "\n",
        "api_url = \"https://randomuser.me/api/?results=10\"\n",
        "response = requests.get(api_url)\n",
        "data = response.json()\n",
        "\n",
        "# Convert the results to a DataFrame\n",
        "df_api = pd.json_normalize(data['results'])\n",
        "print(\"Data from REST API:\")\n",
        "print(df_api.head())"
      ],
      "metadata": {
        "colab": {
          "base_uri": "https://localhost:8080/"
        },
        "id": "v5QLGFmpbGSO",
        "outputId": "fa703f98-e2e3-4e04-ec12-6bda04b8c4b4"
      },
      "execution_count": 2,
      "outputs": [
        {
          "output_type": "stream",
          "name": "stdout",
          "text": [
            "Data from REST API:\n",
            "   gender                         email           phone            cell nat  \\\n",
            "0  female     andrea.novaes@example.com  (22) 2698-6038  (84) 7776-0907  BR   \n",
            "1  female     harper.miller@example.com    D56 O59-8974    O45 K35-7497  CA   \n",
            "2  female       ilona.arola@example.com      05-648-421   048-265-61-65  FI   \n",
            "3  female      agniya.kayda@example.com  (066) V08-7993  (098) M91-7846  UA   \n",
            "4  female  maiwenn.gonzalez@example.com  01-17-69-86-31  06-57-05-34-28  FR   \n",
            "\n",
            "  name.title name.first name.last  location.street.number  \\\n",
            "0        Mrs     Andréa    Novaes                     172   \n",
            "1       Miss     Harper    Miller                    6350   \n",
            "2       Miss      Ilona     Arola                    6305   \n",
            "3         Ms     Agniya     Kayda                    6845   \n",
            "4        Mrs    Maïwenn  Gonzalez                    6292   \n",
            "\n",
            "  location.street.name  ...  \\\n",
            "0   Beco dos Namorados  ...   \n",
            "1              Peel St  ...   \n",
            "2         Reijolankatu  ...   \n",
            "3       Krizhanivskogo  ...   \n",
            "4   Place de la Mairie  ...   \n",
            "\n",
            "                                        login.sha256  \\\n",
            "0  363e40bfc8d040f5bc0ea8a5a1d6437ab80aadc19bce05...   \n",
            "1  50a02e37f4048870275da8b8b4714a0685bda7648be710...   \n",
            "2  8885359d2ddd2d6afd89f2716a963303821a10d1952806...   \n",
            "3  5fa984ad1f95a0ead1877c28ec476205ec96480d607b83...   \n",
            "4  eb7caa93f418db47199a9dff991c8b8faa2f88f48724a2...   \n",
            "\n",
            "                   dob.date dob.age           registered.date registered.age  \\\n",
            "0  1946-05-14T11:11:57.137Z      79  2008-02-07T09:33:40.504Z             17   \n",
            "1  1991-07-25T04:16:20.981Z      34  2009-09-13T14:30:39.064Z             15   \n",
            "2  1993-09-17T02:29:34.569Z      31  2016-11-20T07:29:55.509Z              8   \n",
            "3  1990-08-28T18:40:13.820Z      34  2014-05-04T16:55:24.524Z             11   \n",
            "4  1964-01-08T20:54:19.050Z      61  2017-07-09T07:40:35.222Z              8   \n",
            "\n",
            "  id.name           id.value  \\\n",
            "0     CPF     712.906.477-74   \n",
            "1     SIN          768552259   \n",
            "2    HETU  NaNNA276undefined   \n",
            "3                       None   \n",
            "4   INSEE   2640031968498 48   \n",
            "\n",
            "                                      picture.large  \\\n",
            "0  https://randomuser.me/api/portraits/women/63.jpg   \n",
            "1  https://randomuser.me/api/portraits/women/75.jpg   \n",
            "2   https://randomuser.me/api/portraits/women/9.jpg   \n",
            "3  https://randomuser.me/api/portraits/women/28.jpg   \n",
            "4  https://randomuser.me/api/portraits/women/17.jpg   \n",
            "\n",
            "                                      picture.medium  \\\n",
            "0  https://randomuser.me/api/portraits/med/women/...   \n",
            "1  https://randomuser.me/api/portraits/med/women/...   \n",
            "2  https://randomuser.me/api/portraits/med/women/...   \n",
            "3  https://randomuser.me/api/portraits/med/women/...   \n",
            "4  https://randomuser.me/api/portraits/med/women/...   \n",
            "\n",
            "                                   picture.thumbnail  \n",
            "0  https://randomuser.me/api/portraits/thumb/wome...  \n",
            "1  https://randomuser.me/api/portraits/thumb/wome...  \n",
            "2  https://randomuser.me/api/portraits/thumb/wome...  \n",
            "3  https://randomuser.me/api/portraits/thumb/wome...  \n",
            "4  https://randomuser.me/api/portraits/thumb/wome...  \n",
            "\n",
            "[5 rows x 34 columns]\n"
          ]
        }
      ]
    },
    {
      "cell_type": "code",
      "source": [
        "# Step 3: Ingest Data from a CSV File\n",
        "# Example using the Iris dataset (direct CSV link):\n",
        "\n",
        "csv_url = \"https://raw.githubusercontent.com/uiuc-cse/data-fa14/gh-pages/data/iris.csv\"\n",
        "df_csv = pd.read_csv(csv_url)\n",
        "print(\"\\nData from CSV File:\")\n",
        "print(df_csv.head())"
      ],
      "metadata": {
        "colab": {
          "base_uri": "https://localhost:8080/"
        },
        "id": "nvO33hWEcknZ",
        "outputId": "4f8b9679-4aaa-49fd-8bfb-807ac843f9c3"
      },
      "execution_count": 3,
      "outputs": [
        {
          "output_type": "stream",
          "name": "stdout",
          "text": [
            "\n",
            "Data from CSV File:\n",
            "   sepal_length  sepal_width  petal_length  petal_width species\n",
            "0           5.1          3.5           1.4          0.2  setosa\n",
            "1           4.9          3.0           1.4          0.2  setosa\n",
            "2           4.7          3.2           1.3          0.2  setosa\n",
            "3           4.6          3.1           1.5          0.2  setosa\n",
            "4           5.0          3.6           1.4          0.2  setosa\n"
          ]
        }
      ]
    },
    {
      "cell_type": "code",
      "source": [
        "print(\"API Data Columns:\", df_api.columns)\n",
        "print(\"CSV Data Columns:\", df_csv.columns)\n",
        "\n",
        "print(\"\\nAPI Data Info:\")\n",
        "print(df_api.info())\n",
        "\n",
        "print(\"\\nCSV Data Info:\")\n",
        "print(df_csv.info())"
      ],
      "metadata": {
        "colab": {
          "base_uri": "https://localhost:8080/"
        },
        "id": "UKQ3lvdRcnEy",
        "outputId": "1cb3e7ec-e1c0-49a7-d4f3-320cee89ad80"
      },
      "execution_count": 4,
      "outputs": [
        {
          "output_type": "stream",
          "name": "stdout",
          "text": [
            "API Data Columns: Index(['gender', 'email', 'phone', 'cell', 'nat', 'name.title', 'name.first',\n",
            "       'name.last', 'location.street.number', 'location.street.name',\n",
            "       'location.city', 'location.state', 'location.country',\n",
            "       'location.postcode', 'location.coordinates.latitude',\n",
            "       'location.coordinates.longitude', 'location.timezone.offset',\n",
            "       'location.timezone.description', 'login.uuid', 'login.username',\n",
            "       'login.password', 'login.salt', 'login.md5', 'login.sha1',\n",
            "       'login.sha256', 'dob.date', 'dob.age', 'registered.date',\n",
            "       'registered.age', 'id.name', 'id.value', 'picture.large',\n",
            "       'picture.medium', 'picture.thumbnail'],\n",
            "      dtype='object')\n",
            "CSV Data Columns: Index(['sepal_length', 'sepal_width', 'petal_length', 'petal_width',\n",
            "       'species'],\n",
            "      dtype='object')\n",
            "\n",
            "API Data Info:\n",
            "<class 'pandas.core.frame.DataFrame'>\n",
            "RangeIndex: 10 entries, 0 to 9\n",
            "Data columns (total 34 columns):\n",
            " #   Column                          Non-Null Count  Dtype \n",
            "---  ------                          --------------  ----- \n",
            " 0   gender                          10 non-null     object\n",
            " 1   email                           10 non-null     object\n",
            " 2   phone                           10 non-null     object\n",
            " 3   cell                            10 non-null     object\n",
            " 4   nat                             10 non-null     object\n",
            " 5   name.title                      10 non-null     object\n",
            " 6   name.first                      10 non-null     object\n",
            " 7   name.last                       10 non-null     object\n",
            " 8   location.street.number          10 non-null     int64 \n",
            " 9   location.street.name            10 non-null     object\n",
            " 10  location.city                   10 non-null     object\n",
            " 11  location.state                  10 non-null     object\n",
            " 12  location.country                10 non-null     object\n",
            " 13  location.postcode               10 non-null     object\n",
            " 14  location.coordinates.latitude   10 non-null     object\n",
            " 15  location.coordinates.longitude  10 non-null     object\n",
            " 16  location.timezone.offset        10 non-null     object\n",
            " 17  location.timezone.description   10 non-null     object\n",
            " 18  login.uuid                      10 non-null     object\n",
            " 19  login.username                  10 non-null     object\n",
            " 20  login.password                  10 non-null     object\n",
            " 21  login.salt                      10 non-null     object\n",
            " 22  login.md5                       10 non-null     object\n",
            " 23  login.sha1                      10 non-null     object\n",
            " 24  login.sha256                    10 non-null     object\n",
            " 25  dob.date                        10 non-null     object\n",
            " 26  dob.age                         10 non-null     int64 \n",
            " 27  registered.date                 10 non-null     object\n",
            " 28  registered.age                  10 non-null     int64 \n",
            " 29  id.name                         10 non-null     object\n",
            " 30  id.value                        7 non-null      object\n",
            " 31  picture.large                   10 non-null     object\n",
            " 32  picture.medium                  10 non-null     object\n",
            " 33  picture.thumbnail               10 non-null     object\n",
            "dtypes: int64(3), object(31)\n",
            "memory usage: 2.8+ KB\n",
            "None\n",
            "\n",
            "CSV Data Info:\n",
            "<class 'pandas.core.frame.DataFrame'>\n",
            "RangeIndex: 150 entries, 0 to 149\n",
            "Data columns (total 5 columns):\n",
            " #   Column        Non-Null Count  Dtype  \n",
            "---  ------        --------------  -----  \n",
            " 0   sepal_length  150 non-null    float64\n",
            " 1   sepal_width   150 non-null    float64\n",
            " 2   petal_length  150 non-null    float64\n",
            " 3   petal_width   150 non-null    float64\n",
            " 4   species       150 non-null    object \n",
            "dtypes: float64(4), object(1)\n",
            "memory usage: 6.0+ KB\n",
            "None\n"
          ]
        }
      ]
    },
    {
      "cell_type": "code",
      "source": [
        "# (Optional) Save Your Results\n",
        "# Save both datasets to Colab files (optional)\n",
        "df_api.to_csv(\"users_api.csv\", index=False)\n",
        "df_csv.to_csv(\"iris_csv.csv\", index=False)"
      ],
      "metadata": {
        "id": "rdda24MIcooN"
      },
      "execution_count": 5,
      "outputs": []
    },
    {
      "cell_type": "code",
      "source": [],
      "metadata": {
        "id": "kNx4PCjQcrJX"
      },
      "execution_count": null,
      "outputs": []
    }
  ]
}