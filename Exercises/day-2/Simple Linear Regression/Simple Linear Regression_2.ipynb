{
 "cells": [
  {
   "cell_type": "markdown",
   "id": "74e9b8b5",
   "metadata": {},
   "source": [
    "# Objective\n",
    "Fit a straight line to a set of data points and use the model to make predictions."
   ]
  },
  {
   "cell_type": "code",
   "execution_count": null,
   "id": "f7c47b47",
   "metadata": {
    "vscode": {
     "languageId": "plaintext"
    }
   },
   "outputs": [],
   "source": [
    "# 1. Import Libraries\n",
    "import numpy as np\n",
    "import pandas as pd\n",
    "import matplotlib.pyplot as plt\n",
    "from sklearn.linear_model import LinearRegression"
   ]
  },
  {
   "cell_type": "code",
   "execution_count": null,
   "id": "46762a82",
   "metadata": {
    "vscode": {
     "languageId": "plaintext"
    }
   },
   "outputs": [],
   "source": [
    "# 2. Generate Sample Data\n",
    "# Create some random data with a linear relationship\n",
    "np.random.seed(42)\n",
    "X = 2 * np.random.rand(100, 1)\n",
    "y = 4 + 3 * X + np.random.randn(100, 1)\n",
    "\n",
    "plt.scatter(X, y)\n",
    "plt.xlabel(\"X\")\n",
    "plt.ylabel(\"y\")\n",
    "plt.title(\"Scatter plot of the data\")\n",
    "plt.show()\n"
   ]
  },
  {
   "cell_type": "code",
   "execution_count": null,
   "id": "4c3d2fd0",
   "metadata": {
    "vscode": {
     "languageId": "plaintext"
    }
   },
   "outputs": [],
   "source": [
    "# 3. Create and Fit the Model\n",
    "lin_reg = LinearRegression()\n",
    "lin_reg.fit(X, y)\n",
    "\n",
    "print(\"Slope (coefficient):\", lin_reg.coef_[0][0])\n",
    "print(\"Intercept:\", lin_reg.intercept_[0])\n"
   ]
  },
  {
   "cell_type": "code",
   "execution_count": null,
   "id": "ddc7eabb",
   "metadata": {
    "vscode": {
     "languageId": "plaintext"
    }
   },
   "outputs": [],
   "source": [
    "# 4. Make Predictions\n",
    "X_new = np.array([[0], [2]])\n",
    "y_pred = lin_reg.predict(X_new)\n",
    "\n",
    "plt.scatter(X, y)\n",
    "plt.plot(X_new, y_pred, color=\"red\", linewidth=2)\n",
    "plt.xlabel(\"X\")\n",
    "plt.ylabel(\"y\")\n",
    "plt.title(\"Best Fit Line\")\n",
    "plt.show()\n"
   ]
  },
  {
   "cell_type": "markdown",
   "id": "4a9ed08c",
   "metadata": {},
   "source": [
    "# 5. Your Turn\n",
    "Change the data: Try changing the random seed or coefficients and observe the effect.\n",
    "\n",
    "Use your own data: Import a CSV (pd.read_csv) with two columns and repeat the analysis.\n",
    "Hint: You can use data set used in previous exercises.\n",
    "\n"
   ]
  },
  {
   "cell_type": "markdown",
   "id": "e32f332f",
   "metadata": {},
   "source": []
  }
 ],
 "metadata": {
  "language_info": {
   "name": "python"
  }
 },
 "nbformat": 4,
 "nbformat_minor": 5
}
