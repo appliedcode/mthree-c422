{
  "cells": [
    {
      "cell_type": "markdown",
      "metadata": {
        "id": "view-in-github",
        "colab_type": "text"
      },
      "source": [
        "<a href=\"https://colab.research.google.com/github/appliedcode/mthree-c422/blob/mthree-c422-dipti/Exercises/day-12/Adv-techniques/Context-Engineering.ipynb\" target=\"_parent\"><img src=\"https://colab.research.google.com/assets/colab-badge.svg\" alt=\"Open In Colab\"/></a>"
      ]
    },
    {
      "cell_type": "markdown",
      "source": [
        "## Lab Exercise: Context Management \\& Prompt Optimization in Prompt Engineering\n",
        "\n",
        "### Objective:\n",
        "\n",
        "- Understand and implement effective context management in prompts.\n",
        "- Practice prompt optimization to improve AI responses in clarity, specificity, and relevance.\n",
        "\n",
        "***\n",
        "\n",
        "### Setup:\n",
        "\n",
        "- Use OpenAI API or any language model API accessible in your Colab.\n",
        "- If API keys are needed, ensure they are safely added as environment variables or input by the user."
      ],
      "metadata": {
        "id": "eq4qKCdSNSko"
      }
    },
    {
      "cell_type": "code",
      "source": [
        "from google.colab import userdata\n",
        "import os\n",
        "\n",
        "# Set your OpenAI API key securely in Colab Secrets (once)\n",
        "# userdata.set(\"OPENAI_API_KEY\", \"your-api-key-here\")\n",
        "\n",
        "# Retrieve key in your notebook\n",
        "openai_api_key = userdata.get(\"OPENAI_API_KEY\")\n",
        "if openai_api_key:\n",
        "    os.environ[\"OPENAI_API_KEY\"] = openai_api_key\n",
        "    print(\"✅ OpenAI API key loaded safely\")\n",
        "else:\n",
        "    print(\"❌ OpenAI API key not found. Please set it using Colab Secrets.\")"
      ],
      "metadata": {
        "id": "2YMRqyRCNGmo",
        "outputId": "2ebbdd95-08c2-4712-c167-e16b1dc8ea1a",
        "colab": {
          "base_uri": "https://localhost:8080/"
        }
      },
      "execution_count": 1,
      "outputs": [
        {
          "output_type": "stream",
          "name": "stdout",
          "text": [
            "✅ OpenAI API key loaded safely\n"
          ]
        }
      ]
    },
    {
      "cell_type": "code",
      "source": [
        "!pip install --quiet openai -q\n",
        "# Create client\n",
        "from openai import OpenAI\n",
        "client = OpenAI(api_key=os.environ[\"OPENAI_API_KEY\"])"
      ],
      "metadata": {
        "id": "9qrFrzlcPI1n"
      },
      "execution_count": 2,
      "outputs": []
    },
    {
      "cell_type": "code",
      "source": [
        "def generate_response(prompt, model=\"gpt-4o-mini\", max_tokens=200):\n",
        "    \"\"\"\n",
        "    Sends a user prompt to the OpenAI model and returns the AI's response.\n",
        "    \"\"\"\n",
        "    try:\n",
        "        completion = client.chat.completions.create(\n",
        "            model=model,\n",
        "            messages=[{\"role\": \"user\", \"content\": prompt}],\n",
        "            temperature=0.7,\n",
        "            max_tokens=max_tokens\n",
        "        )\n",
        "        return completion.choices[0].message.content.strip()\n",
        "    except Exception as e:\n",
        "        return f\"Error: {e}\""
      ],
      "metadata": {
        "id": "QgyY5D9BNzIT"
      },
      "execution_count": 4,
      "outputs": []
    },
    {
      "cell_type": "markdown",
      "source": [
        "### Exercise 1: Context Management\n",
        "\n",
        "**Goal:** Maintain relevant context across multiple turns of interaction to generate coherent and context-aware responses.\n",
        "\n",
        "**Steps:**\n",
        "\n",
        "1. Write a function `generate_response(prompt, context=None)` that:\n",
        "    - Takes a current prompt and optionally previous context.\n",
        "    - Constructs an input combining context and current prompt appropriately.\n",
        "    - Sends to the model and returns the response.\n",
        "2. Simulate a multi-turn conversation about a specific topic (e.g., \"Albert Einstein\") where each prompt builds on previous responses.\n",
        "3. Experiment with:\n",
        "    - Passing full context in each turn.\n",
        "    - Passing only the current prompt without context.\n",
        "4. Compare responses to see the difference context management makes."
      ],
      "metadata": {
        "id": "4Zcp3h72NYSH"
      }
    },
    {
      "cell_type": "code",
      "source": [
        "# WITHOUT Context\n",
        "print(\"=== Conversation WITHOUT Context ===\")\n",
        "questions = [\n",
        "    \"Who is Albert Einstein?\",\n",
        "    \"What awards has he won?\",\n",
        "    \"Tell me about his early life.\"\n",
        "]\n",
        "\n",
        "for q in questions:\n",
        "    response = generate_response(q)\n",
        "    print(f\"Q: {q}\\nAI: {response}\\n\")\n",
        "\n",
        "# WITH Context\n",
        "print(\"\\n=== Conversation WITH Context ===\")\n",
        "context = \"\"\n",
        "for q in questions:\n",
        "    full_prompt = context + f\"\\nUser: {q}\\nAI:\"\n",
        "    response = generate_response(full_prompt)\n",
        "    print(f\"Q: {q}\\nAI: {response}\\n\")\n",
        "    context += f\"\\nUser: {q}\\nAI: {response}\"\n",
        "\n"
      ],
      "metadata": {
        "id": "ediE9XofNVcZ",
        "outputId": "5770c27b-0586-402c-ab84-63def62d4b29",
        "colab": {
          "base_uri": "https://localhost:8080/"
        }
      },
      "execution_count": 5,
      "outputs": [
        {
          "output_type": "stream",
          "name": "stdout",
          "text": [
            "=== Conversation WITHOUT Context ===\n",
            "Q: Who is Albert Einstein?\n",
            "AI: Albert Einstein (1879–1955) was a theoretical physicist who is best known for developing the theory of relativity, one of the two pillars of modern physics (the other being quantum mechanics). His work revolutionized our understanding of space, time, and energy. \n",
            "\n",
            "Einstein's most famous equation, \\(E=mc^2\\), expresses the equivalence of mass and energy and has had profound implications for both theoretical physics and practical applications, such as nuclear energy. \n",
            "\n",
            "Born in Ulm, Germany, Einstein showed an early interest in mathematics and physics. He studied at the Polytechnic Institute in Zurich and later worked as a patent examiner in Bern, Switzerland. During this time, he published several groundbreaking papers, including those on the photoelectric effect, which later earned him the Nobel Prize in Physics in 1921.\n",
            "\n",
            "Einstein's contributions to physics extended beyond relativity; he also made significant contributions to statistical mechanics and cosmology. In addition to his scientific achievements, Einstein was an\n",
            "\n",
            "Q: What awards has he won?\n",
            "AI: To provide you with accurate information, could you please specify who you are referring to when you say \"he\"?\n",
            "\n",
            "Q: Tell me about his early life.\n",
            "AI: To provide you with an accurate response, I need to know which person you are referring to. Could you please specify?\n",
            "\n",
            "\n",
            "=== Conversation WITH Context ===\n",
            "Q: Who is Albert Einstein?\n",
            "AI: Albert Einstein was a theoretical physicist, best known for developing the theory of relativity, which revolutionized our understanding of space, time, and gravity. Born on March 14, 1879, in Ulm, Germany, he became one of the most influential scientists of the 20th century. His most famous equation, \\(E=mc^2\\), describes the relationship between mass and energy.\n",
            "\n",
            "Einstein's work laid the groundwork for many modern physics concepts and has had far-reaching implications in areas such as cosmology and quantum mechanics. He received the Nobel Prize in Physics in 1921 for his explanation of the photoelectric effect, which was pivotal in establishing quantum theory.\n",
            "\n",
            "Beyond his scientific contributions, Einstein was also known for his philosophical views on science, pacifism, and social issues. He passed away on April 18, 1955, but remains a symbol of genius and creativity in the scientific community.\n",
            "\n",
            "Q: What awards has he won?\n",
            "AI: Albert Einstein received several prestigious awards and honors throughout his lifetime, the most notable of which include:\n",
            "\n",
            "1. **Nobel Prize in Physics (1921)**: Awarded for his explanation of the photoelectric effect, which was crucial in establishing quantum theory.\n",
            "\n",
            "2. **Copley Medal (1925)**: Awarded by the Royal Society of London for outstanding achievements in scientific research.\n",
            "\n",
            "3. **Max Planck Medal (1929)**: Given by the German Physical Society for outstanding achievements in theoretical physics.\n",
            "\n",
            "4. **Franklin Medal (1935)**: Awarded by the Franklin Institute for his contributions to science.\n",
            "\n",
            "5. **Time Magazine’s Person of the Century (1999)**: Recognized as one of the most influential figures of the 20th century.\n",
            "\n",
            "In addition to these awards, Einstein received numerous honorary doctorates and was elected to various scientific academies and societies across the world. His legacy continues to be celebrated in various forms, including awards and institutions named in his\n",
            "\n",
            "Q: Tell me about his early life.\n",
            "AI: Albert Einstein was born on March 14, 1879, in Ulm, in the Kingdom of Württemberg in the German Empire. He was the first child of Hermann Einstein, a salesman and engineer, and Pauline Koch. The family moved to Munich shortly after his birth, where Hermann and his brother ran a small electrical engineering company.\n",
            "\n",
            "Einstein's early life was marked by a mix of academic struggles and early intellectual curiosity. He was a relatively quiet and introspective child, and his early education began at the Luitpold Gymnasium in Munich. Although he exhibited a strong interest in mathematics and science from a young age, he struggled with the rigid educational system and often found himself at odds with his teachers. This led to a sense of alienation and dissatisfaction with the traditional schooling methods.\n",
            "\n",
            "In 1894, when Einstein was 15 years old, his family moved to Italy due to financial difficulties. He left the Gymnasium without completing his degree and joined them in Pavia. During\n",
            "\n"
          ]
        }
      ]
    },
    {
      "cell_type": "markdown",
      "source": [
        "### Exercise 2: Prompt Optimization\n",
        "\n",
        "**Goal:** Improve prompt clarity and specificity to get more relevant and useful AI responses.\n",
        "\n",
        "**Steps:**\n",
        "\n",
        "1. Write a function `test_prompt(prompt)` that:\n",
        "    - Sends the prompt to the model.\n",
        "    - Returns the output.\n",
        "2. Using the initial vague prompts, optimize them to be clearer, more instructive, and tailored to a desired output.\n",
        "3. Compare outputs for:\n",
        "    - Vague prompt\n",
        "    - Optimized prompt with explicit instructions\n",
        "4. Try different optimization techniques such as breaking down complex requests and specifying output formats."
      ],
      "metadata": {
        "id": "hWEU96ToNhg1"
      }
    },
    {
      "cell_type": "code",
      "source": [
        "# Test vague and optimized prompts\n",
        "prompts = [\n",
        "    (\"Explain blockchain.\", \"Vague Prompt\"),\n",
        "    (\"Explain blockchain technology in simple terms suitable for a 12-year-old, using exactly 3 short examples.\", \"Optimized Prompt\")\n",
        "]\n",
        "\n",
        "for prompt, label in prompts:\n",
        "    print(f\"--- {label} ---\")\n",
        "    response = generate_response(prompt)\n",
        "    print(response, \"\\n\")\n"
      ],
      "metadata": {
        "id": "jiFuYeBhNmLe",
        "outputId": "b07deb0f-f1b6-4a5f-d1cf-517522fd6b85",
        "colab": {
          "base_uri": "https://localhost:8080/"
        }
      },
      "execution_count": 6,
      "outputs": [
        {
          "output_type": "stream",
          "name": "stdout",
          "text": [
            "--- Vague Prompt ---\n",
            "Blockchain is a decentralized digital ledger technology that securely records transactions across multiple computers in such a way that the registered transactions cannot be altered retroactively. Here are the key components and characteristics of blockchain:\n",
            "\n",
            "1. **Structure**: A blockchain consists of a series of blocks, each containing a list of transactions. Each block includes a cryptographic hash of the previous block, a timestamp, and transaction data. This chaining of blocks makes it difficult to alter any single block without affecting all subsequent blocks.\n",
            "\n",
            "2. **Decentralization**: Unlike traditional databases that are typically managed by a central authority (like a bank or a government), a blockchain is maintained by a network of nodes (computers) that participate in its operation. This decentralization enhances security and transparency, as there is no single point of failure.\n",
            "\n",
            "3. **Consensus Mechanisms**: To ensure that all participants in the network agree on the state of the blockchain, consensus mechanisms are used. Common methods include Proof of Work (PoW), used \n",
            "\n",
            "--- Optimized Prompt ---\n",
            "Sure! Think of blockchain technology like a special digital notebook that everyone can see but no one can change. Here are three examples to help you understand:\n",
            "\n",
            "1. **Digital Ledger**: Imagine you and your friends are keeping track of who owes whom for snacks. Instead of one person holding the notebook, everyone has their own copy. Whenever someone pays back, you all write it down. This way, if someone tries to change their debt, everyone else can see it’s different and knows it’s not true.\n",
            "\n",
            "2. **Video Game Items**: Picture playing a video game where you earn special items. Each item has a unique code that everyone can see. If you trade an item with a friend, the game updates everyone’s list at the same time. This way, no one can cheat and say they still have the item when they’ve already traded it away.\n",
            "\n",
            "3. **Voting System**: Think about a class election where everyone votes for a class president. Instead of just one teacher counting \n",
            "\n"
          ]
        }
      ]
    },
    {
      "cell_type": "markdown",
      "source": [
        "**Example Prompts to optimize:**\n",
        "\n",
        "- Vague: \"Explain blockchain.\"\n",
        "- Optimized: \"Explain blockchain technology in simple terms suitable for a 12-year-old, using 3 examples.\"\n",
        "\n",
        "***\n",
        "\n",
        "### Bonus (Optional):\n",
        "\n",
        "- Combine both exercises to maintain context while optimizing prompts in each turn.\n",
        "- Experiment with token limits by truncating context and observing impacts.\n",
        "\n",
        "***"
      ],
      "metadata": {
        "id": "0vIHGktBNqEV"
      }
    },
    {
      "cell_type": "code",
      "source": [
        "# Combining both techniques\n",
        "context = \"\"\n",
        "conversation = [\n",
        "    \"Explain quantum computing to someone who knows basic high school physics.\",\n",
        "    \"Can you give 2 real-world use cases?\",\n",
        "    \"Summarize that in exactly 3 bullet points.\"\n",
        "]\n",
        "\n",
        "for q in conversation:\n",
        "    optimized_prompt = f\"{context}\\nUser: {q}\\nAI:\"\n",
        "    response = generate_response(optimized_prompt)\n",
        "    print(f\"Q: {q}\\nAI: {response}\\n\")\n",
        "    context += f\"\\nUser: {q}\\nAI: {response}\"\n"
      ],
      "metadata": {
        "id": "X-mTOdvlNsds",
        "outputId": "086a7ff4-8768-461c-c265-41db95b543bf",
        "colab": {
          "base_uri": "https://localhost:8080/"
        }
      },
      "execution_count": 7,
      "outputs": [
        {
          "output_type": "stream",
          "name": "stdout",
          "text": [
            "Q: Explain quantum computing to someone who knows basic high school physics.\n",
            "AI: Sure! Let's start with some basic concepts that you're already familiar with from high school physics.\n",
            "\n",
            "### Classical Bits vs. Quantum Bits\n",
            "\n",
            "In classical computing, information is stored in bits, which can be either 0 or 1. Each bit is like a light switch that can be either off (0) or on (1).\n",
            "\n",
            "Quantum computing, on the other hand, uses **quantum bits**, or **qubits**. A qubit can also be 0 or 1, but thanks to the principles of quantum mechanics, it can be in a **superposition** of both states at the same time. Imagine a spinning coin; while it's in the air, it's not just heads or tails—it's a blend of both until it lands.\n",
            "\n",
            "### Superposition\n",
            "\n",
            "Superposition is a key principle in quantum mechanics. When a qubit is in superposition, it can represent multiple combinations of 0 and 1 simultaneously. This allows quantum computers to process a vast amount of information at once\n",
            "\n",
            "Q: Can you give 2 real-world use cases?\n",
            "AI: Absolutely! Here are two real-world use cases for quantum computing:\n",
            "\n",
            "### 1. Drug Discovery and Molecular Simulation\n",
            "\n",
            "Quantum computing has the potential to revolutionize the field of drug discovery and molecular simulation. Traditional computers struggle to simulate complex molecules and their interactions because the calculations become exponentially difficult as the size of the molecules increases. Quantum computers can leverage superposition and entanglement to model these interactions much more efficiently.\n",
            "\n",
            "For example, pharmaceutical companies can use quantum computers to simulate how different drug compounds interact with biological targets at the quantum level. This can significantly speed up the process of discovering new drugs and tailoring them to specific diseases, ultimately leading to more effective treatments.\n",
            "\n",
            "### 2. Optimization Problems\n",
            "\n",
            "Many industries face complex optimization problems where the goal is to find the best solution among a vast number of possibilities. These problems are common in logistics, finance, and manufacturing. For instance, airlines need to optimize flight schedules, delivery companies must determine the best routes for their trucks, and investment firms seek to optimize their\n",
            "\n",
            "Q: Summarize that in exactly 3 bullet points.\n",
            "AI: - **Drug Discovery:** Quantum computing can simulate complex molecular interactions more efficiently, speeding up the discovery of new drugs and personalized treatments. \n",
            "\n",
            "- **Optimization Problems:** Industries like logistics and finance can use quantum computers to solve complex optimization problems, such as optimizing flight schedules and delivery routes.\n",
            "\n",
            "- **Superposition and Entanglement:** Quantum computers leverage principles of quantum mechanics, allowing them to process vast amounts of information simultaneously, which classical computers struggle to handle.\n",
            "\n"
          ]
        }
      ]
    }
  ],
  "metadata": {
    "colab": {
      "name": "Welcome to Colab",
      "provenance": [],
      "include_colab_link": true
    },
    "kernelspec": {
      "display_name": "Python 3",
      "name": "python3"
    }
  },
  "nbformat": 4,
  "nbformat_minor": 0
}