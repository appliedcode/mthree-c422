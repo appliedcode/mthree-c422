{
  "cells": [
    {
      "cell_type": "markdown",
      "metadata": {
        "id": "view-in-github",
        "colab_type": "text"
      },
      "source": [
        "<a href=\"https://colab.research.google.com/github/appliedcode/mthree-c422/blob/main/Exercises/day-7/ETL-1.ipynb\" target=\"_parent\"><img src=\"https://colab.research.google.com/assets/colab-badge.svg\" alt=\"Open In Colab\"/></a>"
      ]
    },
    {
      "cell_type": "markdown",
      "source": [
        "# ETL Pipeline in Google Colab Using Only Local Resources\n",
        "**Objective:**\n",
        "Learn how to perform a full Extract-Transform-Load (ETL) data pipeline using only Python, pandas, and SQLite—all within Google Colab, with no cloud databases or external APIs required.\n",
        "\n",
        "## 1. Prerequisites\n",
        "- A Google account to access Colab.\n",
        "\n",
        "- Basic Python and pandas knowledge.\n",
        "\n",
        "- No external cloud or database accounts required.\n",
        "\n",
        "## 2. Scenario\n",
        "- You’re provided with a local .csv file (customers.csv) mimicking customer biological measurements. \\\n",
        "- You’ll ingest, clean, enrich, and store this data in a local SQLite database—all inside your Colab notebook."
      ],
      "metadata": {
        "id": "RpsOG3v9XMxn"
      }
    },
    {
      "cell_type": "code",
      "source": [
        "# A. Extract\n",
        "# 1. Download or Create a Sample Data File\n",
        "# Use any small public .csv (for demo, we’ll use a height/weight dataset):\n",
        "url = \"https://people.sc.fsu.edu/~jburkardt/data/csv/hw_200.csv\"\n",
        "!wget -qO customers.csv $url\n"
      ],
      "metadata": {
        "id": "n_Yi-rZ7OM6o"
      },
      "execution_count": 19,
      "outputs": []
    },
    {
      "cell_type": "code",
      "source": [
        "# 2. Load Into pandas DataFrame\n",
        "import pandas as pd\n",
        "\n",
        "df_customers = pd.read_csv('customers.csv')\n",
        "print(df_customers.head())\n",
        "print(df_customers.columns)\n"
      ],
      "metadata": {
        "id": "LSo4gEMZOTT5",
        "outputId": "516486eb-7b30-4729-a1b5-e51d91ed59e3",
        "colab": {
          "base_uri": "https://localhost:8080/"
        }
      },
      "execution_count": 20,
      "outputs": [
        {
          "output_type": "stream",
          "name": "stdout",
          "text": [
            "   Index   Height(Inches)\"   \"Weight(Pounds)\"\n",
            "0      1             65.78             112.99\n",
            "1      2             71.52             136.49\n",
            "2      3             69.40             153.03\n",
            "3      4             68.22             142.34\n",
            "4      5             67.79             144.30\n",
            "Index(['Index', ' Height(Inches)\"', ' \"Weight(Pounds)\"'], dtype='object')\n"
          ]
        }
      ]
    },
    {
      "cell_type": "code",
      "source": [
        "# B. Transform\n",
        "# 1. Clean Data\n",
        "# Remove duplicates\n",
        "\n",
        "# Rename messy columns for cleaner analysis\n",
        "\n",
        "# Remove duplicates based on 'Index' column\n",
        "df_customers.drop_duplicates('Index', inplace=True)\n",
        "\n",
        "# Clean up column names\n",
        "df_customers.columns = [col.strip().replace('\"', '').replace(\"'\", \"\") for col in df_customers.columns]\n",
        "\n",
        "# View cleaned DataFrame\n",
        "print(df_customers.head())\n"
      ],
      "metadata": {
        "id": "82QPaEVYOWm1",
        "outputId": "a27a8477-b042-45d3-db37-8c9b77aa3de7",
        "colab": {
          "base_uri": "https://localhost:8080/"
        }
      },
      "execution_count": 21,
      "outputs": [
        {
          "output_type": "stream",
          "name": "stdout",
          "text": [
            "   Index  Height(Inches)  Weight(Pounds)\n",
            "0      1           65.78          112.99\n",
            "1      2           71.52          136.49\n",
            "2      3           69.40          153.03\n",
            "3      4           68.22          142.34\n",
            "4      5           67.79          144.30\n"
          ]
        }
      ]
    },
    {
      "cell_type": "code",
      "source": [
        "# 2. Add Enriched & Derived Columns\n",
        "# Compute a \"BMI\" (Body Mass Index) column\n",
        "\n",
        "# Add a BMI column, Height in inches, Weight in pounds\n",
        "df_customers['BMI'] = (df_customers['Weight(Pounds)'] / (df_customers['Height(Inches)'] * 0.0254) ** 2)\n",
        "print(df_customers.head())\n"
      ],
      "metadata": {
        "id": "xWneA7xaObWZ",
        "outputId": "4f541a60-b824-42c0-82b2-5a06bc5ffb2e",
        "colab": {
          "base_uri": "https://localhost:8080/"
        }
      },
      "execution_count": 25,
      "outputs": [
        {
          "output_type": "stream",
          "name": "stdout",
          "text": [
            "   Index  Height(Inches)  Weight(Pounds)        BMI\n",
            "0      1           65.78          112.99  40.474812\n",
            "1      2           71.52          136.49  41.359796\n",
            "2      3           69.40          153.03  49.248182\n",
            "3      4           68.22          142.34  47.406304\n",
            "4      5           67.79          144.30  48.670704\n"
          ]
        }
      ]
    },
    {
      "cell_type": "code",
      "source": [
        "# C. Load\n",
        "# 1. Store the Result in a Local SQLite Database\n",
        "import sqlite3\n",
        "\n",
        "conn = sqlite3.connect('customers_etl_lab.db')\n",
        "df_customers.to_sql('customers_etl', conn, if_exists='replace', index=False)\n"
      ],
      "metadata": {
        "id": "bVjSXe_vOfPi",
        "outputId": "6e7a0276-0723-406a-ac5c-95fe6bcbbfba",
        "colab": {
          "base_uri": "https://localhost:8080/"
        }
      },
      "execution_count": 26,
      "outputs": [
        {
          "output_type": "execute_result",
          "data": {
            "text/plain": [
              "200"
            ]
          },
          "metadata": {},
          "execution_count": 26
        }
      ]
    },
    {
      "cell_type": "code",
      "source": [
        "# 2. Run SQL Queries on the Transformed Data\n",
        "# Example: Get customers with BMI > 25 (overweight threshold)\n",
        "query = \"SELECT * FROM customers_etl WHERE BMI > 25;\"\n",
        "df_overweight = pd.read_sql(query, conn)\n",
        "print(df_overweight.head())\n"
      ],
      "metadata": {
        "id": "WbvcU_IdOi5M",
        "outputId": "aa1b7ce9-abc0-492b-a230-4d70ba04cc31",
        "colab": {
          "base_uri": "https://localhost:8080/"
        }
      },
      "execution_count": 27,
      "outputs": [
        {
          "output_type": "stream",
          "name": "stdout",
          "text": [
            "   Index  Height(Inches)  Weight(Pounds)        BMI\n",
            "0      1           65.78          112.99  40.474812\n",
            "1      2           71.52          136.49  41.359796\n",
            "2      3           69.40          153.03  49.248182\n",
            "3      4           68.22          142.34  47.406304\n",
            "4      5           67.79          144.30  48.670704\n"
          ]
        }
      ]
    }
  ],
  "metadata": {
    "colab": {
      "name": "Welcome to Colab",
      "provenance": [],
      "include_colab_link": true
    },
    "kernelspec": {
      "display_name": "Python 3",
      "name": "python3"
    }
  },
  "nbformat": 4,
  "nbformat_minor": 0
}