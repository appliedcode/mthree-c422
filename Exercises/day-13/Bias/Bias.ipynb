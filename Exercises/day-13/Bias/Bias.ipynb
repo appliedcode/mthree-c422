{
  "cells": [
    {
      "cell_type": "markdown",
      "metadata": {
        "id": "view-in-github",
        "colab_type": "text"
      },
      "source": [
        "<a href=\"https://colab.research.google.com/github/appliedcode/mthree-c422/blob/mthree-c422-Avantika/Exercises/day-13/Bias/Bias.ipynb\" target=\"_parent\"><img src=\"https://colab.research.google.com/assets/colab-badge.svg\" alt=\"Open In Colab\"/></a>"
      ]
    },
    {
      "cell_type": "markdown",
      "source": [
        "***\n",
        "\n",
        "# Practice Exercise Set: Understanding Bias in Algorithms\n",
        "\n",
        "This set focuses on exploring data, algorithmic, and societal bias, methods to detect and mitigate bias, and applying fairness metrics to evaluate models.\n",
        "\n",
        "***\n",
        "\n",
        "## 1. Types of Bias in Algorithms\n",
        "\n",
        "### Exercise 1.1 — Explore Types of Bias (Conceptual)\n",
        "\n",
        "- **Data Bias:** Bias arising from unrepresentative or skewed datasets (e.g., selection bias, sampling bias).\n",
        "- **Algorithmic Bias:** Bias introduced by model choices or design (e.g., feature selection bias, inductive bias).\n",
        "- **Societal Bias:** Pre-existing societal inequalities reflected in data and models (e.g., historical discrimination, stereotype bias).\n",
        "\n",
        "\n",
        "### Exercise 1.2 — Identify Bias Sources\n",
        "\n",
        "- Given a dataset of loan applications with demographic attributes, reflect on possible sources of each bias type. For example, data bias may come from under-sampling minorities, algorithm bias from model ignoring fairness, and societal bias from systemic economic disparities.\n",
        "\n",
        "*(This task is primarily conceptual and discussion-based.)*\n",
        "\n",
        "***\n",
        "\n",
        "## 2. Techniques for Detecting Bias\n",
        "\n",
        "We’ll use a synthetic loan dataset for hands-on detection.\n",
        "\n",
        "### Exercise 2.1 — Data Bias Detection\n",
        "\n",
        "- Analyze demographic group distribution and label imbalance.\n",
        "- Perform chi-square test for independence.\n",
        "- Visualize approval rates by groups."
      ],
      "metadata": {
        "id": "YGaiV8GXXwbO"
      }
    },
    {
      "cell_type": "code",
      "source": [
        "import pandas as pd\n",
        "import numpy as np\n",
        "import matplotlib.pyplot as plt\n",
        "from scipy.stats import chi2_contingency\n",
        "\n",
        "# Generate synthetic data\n",
        "np.random.seed(0)\n",
        "n = 1000\n",
        "genders = ['Male', 'Female']\n",
        "ethnicities = ['Group_A', 'Group_B', 'Group_C']\n",
        "\n",
        "data = pd.DataFrame({\n",
        "    'Gender': np.random.choice(genders, n, p=[0.6, 0.4]),\n",
        "    'Ethnicity': np.random.choice(ethnicities, n, p=[0.5, 0.3, 0.2])\n",
        "})\n",
        "\n",
        "# Simulated loan approvals with bias: Group_A has higher approval rate\n",
        "data['Loan_Approved'] = np.where(\n",
        "    (data['Ethnicity'] == 'Group_A'),\n",
        "    np.random.choice([1, 0], n, p=[0.7, 0.3]),\n",
        "    np.random.choice([1, 0], n, p=[0.4, 0.6])\n",
        ")\n",
        "\n",
        "# Group distribution\n",
        "print(data['Ethnicity'].value_counts(normalize=True))\n",
        "\n",
        "# Approval rates by Ethnicity\n",
        "approval_rates = data.groupby('Ethnicity')['Loan_Approved'].mean()\n",
        "print(approval_rates)\n",
        "\n",
        "# Chi-square test\n",
        "contingency_table = pd.crosstab(data['Ethnicity'], data['Loan_Approved'])\n",
        "chi2, p, dof, expected = chi2_contingency(contingency_table)\n",
        "print(f\"Chi-square test p-value: {p}\")\n",
        "\n",
        "# Bar plot\n",
        "approval_rates.plot(kind='bar', title='Loan Approval Rate by Ethnicity')\n",
        "plt.ylabel('Approval Rate')\n",
        "plt.show()"
      ],
      "metadata": {
        "id": "95OUF231pjcx",
        "outputId": "c43dd01d-6239-45a9-cb83-1cf630fe06ea",
        "colab": {
          "base_uri": "https://localhost:8080/",
          "height": 708
        }
      },
      "execution_count": 1,
      "outputs": [
        {
          "output_type": "stream",
          "name": "stdout",
          "text": [
            "Ethnicity\n",
            "Group_A    0.481\n",
            "Group_B    0.294\n",
            "Group_C    0.225\n",
            "Name: proportion, dtype: float64\n",
            "Ethnicity\n",
            "Group_A    0.704782\n",
            "Group_B    0.421769\n",
            "Group_C    0.457778\n",
            "Name: Loan_Approved, dtype: float64\n",
            "Chi-square test p-value: 1.1871666628169174e-16\n"
          ]
        },
        {
          "output_type": "display_data",
          "data": {
            "text/plain": [
              "<Figure size 640x480 with 1 Axes>"
            ],
            "image/png": "[encoded data removed]"
          },
          "metadata": {}
        }
      ]
    },
    {
      "cell_type": "markdown",
      "source": [
        "### Explanation:\n",
        "\n",
        "- Imbalanced group sizes and differing approval rates indicate potential data bias.\n",
        "- A small p-value from chi-square suggests approval depends on ethnicity.\n",
        "\n",
        "***\n",
        "\n",
        "### Exercise 2.2 — Algorithmic Bias Detection\n",
        "\n",
        "- Train a baseline classifier (e.g. logistic regression).\n",
        "- Compute accuracy, True Positive Rate (TPR), False Positive Rate (FPR) per group.\n",
        "- Check feature importance for sensitive attributes.\n",
        "\n"
      ],
      "metadata": {
        "id": "XlR-wN-sprCd"
      }
    },
    {
      "cell_type": "code",
      "source": [
        "\n",
        "from sklearn.linear_model import LogisticRegression\n",
        "from sklearn.model_selection import train_test_split\n",
        "from sklearn.metrics import confusion_matrix\n",
        "\n",
        "# Prepare data\n",
        "X = pd.get_dummies(data[['Gender', 'Ethnicity']], drop_first=True)\n",
        "y = data['Loan_Approved']\n",
        "\n",
        "X_train, X_test, y_train, y_test = train_test_split(X, y, test_size=0.3, random_state=42)\n",
        "\n",
        "model = LogisticRegression(solver='liblinear')\n",
        "model.fit(X_train, y_train)\n",
        "\n",
        "y_pred = model.predict(X_test)\n",
        "\n",
        "# Group-wise metrics function\n",
        "def group_metrics(df, labels, preds, group_col):\n",
        "    results = {}\n",
        "    for g in df[group_col].unique():\n",
        "        idx = df[group_col]==g\n",
        "        tn, fp, fn, tp = confusion_matrix(labels[idx], preds[idx]).ravel()\n",
        "        tpr = tp / (tp + fn) if (tp + fn) > 0 else 0\n",
        "        fpr = fp / (fp + tn) if (fp + tn) > 0 else 0\n",
        "        acc = (tp + tn) / (tp + tn + fp + fn)\n",
        "        results[g] = {'Accuracy': acc, 'TPR': tpr, 'FPR': fpr}\n",
        "    return pd.DataFrame(results)\n",
        "\n",
        "df_test = X_test.copy()\n",
        "df_test['Gender'] = data.loc[y_test.index, 'Gender'].values\n",
        "df_test['Ethnicity'] = data.loc[y_test.index, 'Ethnicity'].values\n",
        "\n",
        "metrics_gender = group_metrics(df_test, y_test, y_pred, 'Gender')\n",
        "metrics_ethnicity = group_metrics(df_test, y_test, y_pred, 'Ethnicity')\n",
        "\n",
        "print(\"Metrics by Gender:\")\n",
        "print(metrics_gender)\n",
        "print(\"\\nMetrics by Ethnicity:\")\n",
        "print(metrics_ethnicity)\n",
        "\n",
        "# Feature importance (coefficients)\n",
        "coef = pd.Series(model.coef_[0], index=X.columns)\n",
        "print(\"\\nFeature importance:\")\n",
        "print(coef.sort_values(ascending=False))"
      ],
      "metadata": {
        "id": "pPc5BIweplhQ",
        "outputId": "6088c373-cd73-49fb-be65-400e139573a9",
        "colab": {
          "base_uri": "https://localhost:8080/"
        }
      },
      "execution_count": 2,
      "outputs": [
        {
          "output_type": "stream",
          "name": "stdout",
          "text": [
            "Metrics by Gender:\n",
            "              Male    Female\n",
            "Accuracy  0.652850  0.682243\n",
            "TPR       0.605263  0.566667\n",
            "FPR       0.278481  0.170213\n",
            "\n",
            "Metrics by Ethnicity:\n",
            "           Group_C   Group_B   Group_A\n",
            "Accuracy  0.513514  0.623656  0.774436\n",
            "TPR       0.000000  0.000000  1.000000\n",
            "FPR       0.000000  0.000000  1.000000\n",
            "\n",
            "Feature importance:\n",
            "Gender_Male         -0.202833\n",
            "Ethnicity_Group_B   -0.917951\n",
            "Ethnicity_Group_C   -0.923650\n",
            "dtype: float64\n"
          ]
        }
      ]
    },
    {
      "cell_type": "markdown",
      "source": [
        "### Explanation:\n",
        "\n",
        "- Examine if performance metrics differ substantially between groups.\n",
        "- Large differences in TPR or FPR indicate algorithmic bias.\n",
        "- Sensitive features with large coefficients may drive bias.\n",
        "\n",
        "***\n",
        "\n",
        "## 3. Techniques for Mitigating Bias\n",
        "\n",
        "### Exercise 3.1 — Pre-processing: Re-sampling to Balance Dataset"
      ],
      "metadata": {
        "id": "fYj7u_fwpuzs"
      }
    },
    {
      "cell_type": "code",
      "source": [
        "from sklearn.utils import resample\n",
        "\n",
        "# Resample minority group to balance dataset\n",
        "df_minority = data[data['Ethnicity']=='Group_C']\n",
        "df_majority = data[data['Ethnicity']!='Group_C']\n",
        "\n",
        "df_minority_upsampled = resample(df_minority, replace=True, n_samples=len(df_majority), random_state=42)\n",
        "\n",
        "df_balanced = pd.concat([df_majority, df_minority_upsampled])\n",
        "\n",
        "# Recheck approval rates\n",
        "print(df_balanced['Ethnicity'].value_counts(normalize=True))\n",
        "print(df_balanced.groupby('Ethnicity')['Loan_Approved'].mean())"
      ],
      "metadata": {
        "id": "n1OEI3GLpwZz",
        "outputId": "36862d6a-4e33-4368-c241-90f58317d3fc",
        "colab": {
          "base_uri": "https://localhost:8080/"
        }
      },
      "execution_count": null,
      "outputs": [
        {
          "output_type": "stream",
          "name": "stdout",
          "text": [
            "Ethnicity\n",
            "Group_C    0.500000\n",
            "Group_A    0.310323\n",
            "Group_B    0.189677\n",
            "Name: proportion, dtype: float64\n",
            "Ethnicity\n",
            "Group_A    0.704782\n",
            "Group_B    0.421769\n",
            "Group_C    0.441290\n",
            "Name: Loan_Approved, dtype: float64\n"
          ]
        }
      ]
    },
    {
      "cell_type": "markdown",
      "source": [
        "### Exercise 3.2 — In-processing: Train with Fairness Constraint (Sample for illustration)\n",
        "\n",
        "- Implement fairness constraints if toolkits like `aif360` or other libraries are available (not shown here for simplicity).\n",
        "\n",
        "\n",
        "### Exercise 3.3 — Post-processing: Adjust Decision Thresholds per Group"
      ],
      "metadata": {
        "id": "pfyBpBaZpyf1"
      }
    },
    {
      "cell_type": "code",
      "source": [
        "# Example: Compute thresholds to equalize TPR or FPR (high level exercise)\n",
        "# Requires predicted probabilities and per-group ROC curves (not shown due to complexity)"
      ],
      "metadata": {
        "id": "KF9vpKazp08B"
      },
      "execution_count": null,
      "outputs": []
    },
    {
      "cell_type": "markdown",
      "source": [
        "***\n",
        "\n",
        "## 4. Fairness Metrics and Evaluation\n",
        "\n",
        "### Exercise 4.1 — Compute Common Fairness Metrics"
      ],
      "metadata": {
        "id": "m63Y5eQdp20h"
      }
    },
    {
      "cell_type": "code",
      "source": [
        "def demographic_parity(y_true, y_pred, group):\n",
        "    rates = pd.DataFrame({'y_pred': y_pred, 'group': group}).groupby('group')['y_pred'].mean()\n",
        "    return rates.max() - rates.min()\n",
        "\n",
        "def equal_opportunity(y_true, y_pred, group):\n",
        "    results = {}\n",
        "    df = pd.DataFrame({'y_true': y_true, 'y_pred': y_pred, 'group': group})\n",
        "    for g in df['group'].unique():\n",
        "        subset = df[df['group'] == g]\n",
        "        tp = ((subset['y_pred'] == 1) & (subset['y_true'] == 1)).sum()\n",
        "        fn = ((subset['y_pred'] == 0) & (subset['y_true'] == 1)).sum()\n",
        "        tpr = tp / (tp + fn) if (tp + fn) > 0 else 0\n",
        "        results[g] = tpr\n",
        "    tpr_vals = list(results.values())\n",
        "    return max(tpr_vals) - min(tpr_vals)\n",
        "\n",
        "dp_ethnicity = demographic_parity(y_test, y_pred, df_test['Ethnicity'])\n",
        "eo_ethnicity = equal_opportunity(y_test, y_pred, df_test['Ethnicity'])\n",
        "\n",
        "print(f\"Demographic Parity Difference (Ethnicity): {dp_ethnicity:.3f}\")\n",
        "print(f\"Equal Opportunity Difference (Ethnicity): {eo_ethnicity:.3f}\")"
      ],
      "metadata": {
        "id": "JGThWlPsp2in",
        "outputId": "b87d2125-75e3-43f7-fb1c-6bd3314b75d0",
        "colab": {
          "base_uri": "https://localhost:8080/"
        }
      },
      "execution_count": null,
      "outputs": [
        {
          "output_type": "stream",
          "name": "stdout",
          "text": [
            "Demographic Parity Difference (Ethnicity): 1.000\n",
            "Equal Opportunity Difference (Ethnicity): 1.000\n"
          ]
        }
      ]
    },
    {
      "cell_type": "markdown",
      "source": [
        "### Exercise 4.2 — Compare Before/After Mitigation\n",
        "\n",
        "- Repeat model training and metric calculation on balanced data and compare fairness results.\n",
        "\n",
        "\n",
        "### Exercise 4.3 — Discussion\n",
        "\n",
        "- Reflect on how accuracy may trade off with fairness.\n",
        "- Consider how mitigations affect model complexity or interpretability.\n",
        "\n",
        "***"
      ],
      "metadata": {
        "id": "cZe4Gf2ep7LF"
      }
    },
    {
      "cell_type": "markdown",
      "metadata": {
        "id": "4ff615c2"
      },
      "source": [
        "# Task\n",
        "Explain the concepts of in-processing and post-processing fairness mitigation techniques, and discuss how to compare the fairness of a model before and after applying mitigation."
      ]
    },
    {
      "cell_type": "markdown",
      "metadata": {
        "id": "c16f3966"
      },
      "source": [
        "## In-processing mitigation (task 3.2)\n",
        "\n",
        "### Subtask:\n",
        "Discuss the concept of in-processing mitigation and mention the need for external libraries for practical implementation.\n"
      ]
    },
    {
      "cell_type": "markdown",
      "metadata": {
        "id": "4dc1176d"
      },
      "source": [
        "**Reasoning**:\n",
        "Write a markdown cell explaining in-processing bias mitigation, including modifying the training process and the need for specialized libraries.\n",
        "\n"
      ]
    },
    {
      "cell_type": "code",
      "metadata": {
        "colab": {
          "base_uri": "https://localhost:8080/",
          "height": 124
        },
        "id": "fb3d9bc0",
        "outputId": "0ce8022f-c977-471e-9b67-202678aaf3a7"
      },
      "source": [
        "### In-processing Mitigation\n",
        "\n",
        "In-processing mitigation techniques address bias during the model training phase. These methods modify the training process or the model's objective function to incorporate fairness constraints.\n",
        "\n",
        "Examples include:\n",
        "\n",
        "- **Adding a fairness regularization term** to the loss function to penalize unfair outcomes.\n",
        "- **Modifying the optimization algorithm** to ensure fairness across different groups.\n",
        "\n",
        "Practical implementation of sophisticated in-processing techniques often requires specialized toolkits or libraries designed for algorithmic fairness. Libraries like `aif360` provide pre-built algorithms and frameworks to integrate fairness considerations directly into the model training pipeline."
      ],
      "execution_count": 3,
      "outputs": [
        {
          "output_type": "error",
          "ename": "SyntaxError",
          "evalue": "unterminated string literal (detected at line 3) (ipython-input-2668350054.py, line 3)",
          "traceback": [
            "\u001b[0;36m  File \u001b[0;32m\"/tmp/ipython-input-2668350054.py\"\u001b[0;36m, line \u001b[0;32m3\u001b[0m\n\u001b[0;31m    In-processing mitigation techniques address bias during the model training phase. These methods modify the training process or the model's objective function to incorporate fairness constraints.\u001b[0m\n\u001b[0m                                                                                                                                            ^\u001b[0m\n\u001b[0;31mSyntaxError\u001b[0m\u001b[0;31m:\u001b[0m unterminated string literal (detected at line 3)\n"
          ]
        }
      ]
    },
    {
      "cell_type": "markdown",
      "metadata": {
        "id": "a16f4761"
      },
      "source": [
        "**Reasoning**:\n",
        "Correct the syntax error and regenerate the markdown cell explaining in-processing bias mitigation.\n",
        "\n"
      ]
    },
    {
      "cell_type": "code",
      "metadata": {
        "id": "N5xUsIQDwEpW"
      },
      "source": [
        "# ### In-processing Mitigation\n",
        "#\n",
        "# In-processing mitigation techniques address bias during the model training phase. These methods modify the training process or the model's objective function to incorporate fairness constraints.\n",
        "#\n",
        "# Examples include:\n",
        "#\n",
        "# - **Adding a fairness regularization term** to the loss function to penalize unfair outcomes.\n",
        "# - **Modifying the optimization algorithm** to ensure fairness across different groups.\n",
        "#\n",
        "# Practical implementation of sophisticated in-processing techniques often requires specialized toolkits or libraries designed for algorithmic fairness. Libraries like `aif360` provide pre-built algorithms and frameworks to integrate fairness considerations directly into the model training pipeline."
      ],
      "execution_count": 4,
      "outputs": []
    },
    {
      "cell_type": "markdown",
      "metadata": {
        "id": "8daeef81"
      },
      "source": [
        "## Post-processing mitigation (task 3.3)\n",
        "\n",
        "### Subtask:\n",
        "Discuss the concept of post-processing mitigation and mention the need for predicted probabilities and per-group ROC curves for practical implementation.\n"
      ]
    },
    {
      "cell_type": "markdown",
      "metadata": {
        "id": "146dc671"
      },
      "source": [
        "**Reasoning**:\n",
        "Create a markdown cell to explain post-processing bias mitigation, including adjusting decision thresholds and the requirements for implementation.\n",
        "\n"
      ]
    },
    {
      "cell_type": "code",
      "metadata": {
        "id": "c08f1708"
      },
      "source": [
        "# ### Post-processing Mitigation\n",
        "#\n",
        "# Post-processing mitigation techniques address bias *after* a model has been trained and its predictions have been made. These methods adjust the model's outputs or decisions to improve fairness without retraining the model.\n",
        "#\n",
        "# A common example is **adjusting decision thresholds per group**. This involves setting different thresholds for different demographic groups to equalize fairness metrics like True Positive Rate (TPR) or False Positive Rate (FPR) across these groups.\n",
        "#\n",
        "# Implementing techniques like equalizing TPR or FPR through threshold adjustment practically requires access to the model's predicted probabilities for each instance and the ability to analyze and compare Receiver Operating Characteristic (ROC) curves for different groups to determine the appropriate thresholds."
      ],
      "execution_count": 5,
      "outputs": []
    },
    {
      "cell_type": "markdown",
      "metadata": {
        "id": "471e4b9b"
      },
      "source": [
        "## Compare before/after mitigation (task 4.2)\n",
        "\n",
        "### Subtask:\n",
        "Train the model on the balanced dataset created in Task 3.1, calculate fairness metrics, and compare them to the metrics from the original model.\n"
      ]
    },
    {
      "cell_type": "markdown",
      "metadata": {
        "id": "7299c8fe"
      },
      "source": [
        "**Reasoning**:\n",
        "Prepare the balanced data for model training, split it into training and testing sets, train a logistic regression model on the balanced training data, make predictions on the balanced test data, prepare the test data for fairness metric calculation, and then calculate and print the fairness metrics for the balanced model, comparing them to the original model's metrics.\n",
        "\n"
      ]
    },
    {
      "cell_type": "code",
      "metadata": {
        "colab": {
          "base_uri": "https://localhost:8080/",
          "height": 211
        },
        "id": "a48e6eff",
        "outputId": "90b8284a-c8be-404e-fd68-4e6d16753c3c"
      },
      "source": [
        "# Prepare the balanced dataset for model training\n",
        "X_balanced = pd.get_dummies(df_balanced[['Gender', 'Ethnicity']], drop_first=True)\n",
        "y_balanced = df_balanced['Loan_Approved']\n",
        "\n",
        "# Split the balanced data\n",
        "X_train_balanced, X_test_balanced, y_train_balanced, y_test_balanced = train_test_split(X_balanced, y_balanced, test_size=0.3, random_state=42)\n",
        "\n",
        "# Train a Logistic Regression model on the balanced data\n",
        "model_balanced = LogisticRegression(solver='liblinear')\n",
        "model_balanced.fit(X_train_balanced, y_train_balanced)\n",
        "\n",
        "# Make predictions on the balanced test set\n",
        "y_pred_balanced = model_balanced.predict(X_test_balanced)\n",
        "\n",
        "# Create a DataFrame for fairness metric calculation\n",
        "df_test_balanced = X_test_balanced.copy()\n",
        "# Ensure indices align correctly when adding back original columns\n",
        "df_test_balanced['Gender'] = df_balanced.loc[y_test_balanced.index, 'Gender'].values\n",
        "df_test_balanced['Ethnicity'] = df_balanced.loc[y_test_balanced.index, 'Ethnicity'].values\n",
        "\n",
        "\n",
        "# Calculate fairness metrics for the balanced model\n",
        "dp_ethnicity_balanced = demographic_parity(y_test_balanced, y_pred_balanced, df_test_balanced['Ethnicity'])\n",
        "eo_ethnicity_balanced = equal_opportunity(y_test_balanced, y_pred_balanced, df_test_balanced['Ethnicity'])\n",
        "\n",
        "# Print and compare fairness metrics\n",
        "print(\"Fairness Metrics (Balanced Model):\")\n",
        "print(f\"Demographic Parity Difference (Ethnicity): {dp_ethnicity_balanced:.3f}\")\n",
        "print(f\"Equal Opportunity Difference (Ethnicity): {eo_ethnicity_balanced:.3f}\")\n",
        "\n",
        "print(\"\\nFairness Metrics (Original Model):\")\n",
        "print(f\"Demographic Parity Difference (Ethnicity): {dp_ethnicity:.3f}\")\n",
        "print(f\"Equal Opportunity Difference (Ethnicity): {eo_ethnicity:.3f}\")"
      ],
      "execution_count": 6,
      "outputs": [
        {
          "output_type": "error",
          "ename": "NameError",
          "evalue": "name 'df_balanced' is not defined",
          "traceback": [
            "\u001b[0;31m---------------------------------------------------------------------------\u001b[0m",
            "\u001b[0;31mNameError\u001b[0m                                 Traceback (most recent call last)",
            "\u001b[0;32m/tmp/ipython-input-2860553124.py\u001b[0m in \u001b[0;36m<cell line: 0>\u001b[0;34m()\u001b[0m\n\u001b[1;32m      1\u001b[0m \u001b[0;31m# Prepare the balanced dataset for model training\u001b[0m\u001b[0;34m\u001b[0m\u001b[0;34m\u001b[0m\u001b[0m\n\u001b[0;32m----> 2\u001b[0;31m \u001b[0mX_balanced\u001b[0m \u001b[0;34m=\u001b[0m \u001b[0mpd\u001b[0m\u001b[0;34m.\u001b[0m\u001b[0mget_dummies\u001b[0m\u001b[0;34m(\u001b[0m\u001b[0mdf_balanced\u001b[0m\u001b[0;34m[\u001b[0m\u001b[0;34m[\u001b[0m\u001b[0;34m'Gender'\u001b[0m\u001b[0;34m,\u001b[0m \u001b[0;34m'Ethnicity'\u001b[0m\u001b[0;34m]\u001b[0m\u001b[0;34m]\u001b[0m\u001b[0;34m,\u001b[0m \u001b[0mdrop_first\u001b[0m\u001b[0;34m=\u001b[0m\u001b[0;32mTrue\u001b[0m\u001b[0;34m)\u001b[0m\u001b[0;34m\u001b[0m\u001b[0;34m\u001b[0m\u001b[0m\n\u001b[0m\u001b[1;32m      3\u001b[0m \u001b[0my_balanced\u001b[0m \u001b[0;34m=\u001b[0m \u001b[0mdf_balanced\u001b[0m\u001b[0;34m[\u001b[0m\u001b[0;34m'Loan_Approved'\u001b[0m\u001b[0;34m]\u001b[0m\u001b[0;34m\u001b[0m\u001b[0;34m\u001b[0m\u001b[0m\n\u001b[1;32m      4\u001b[0m \u001b[0;34m\u001b[0m\u001b[0m\n\u001b[1;32m      5\u001b[0m \u001b[0;31m# Split the balanced data\u001b[0m\u001b[0;34m\u001b[0m\u001b[0;34m\u001b[0m\u001b[0m\n",
            "\u001b[0;31mNameError\u001b[0m: name 'df_balanced' is not defined"
          ]
        }
      ]
    },
    {
      "cell_type": "markdown",
      "metadata": {
        "id": "70f79361"
      },
      "source": [
        "**Reasoning**:\n",
        "The error indicates that `df_balanced` is not defined. This is likely because the previous cell that created `df_balanced` was not executed or the variable was not persisted correctly. I need to recreate `df_balanced` from the original `data` DataFrame using the resampling logic before proceeding with model training and evaluation.\n",
        "\n"
      ]
    },
    {
      "cell_type": "code",
      "metadata": {
        "colab": {
          "base_uri": "https://localhost:8080/",
          "height": 356
        },
        "id": "o_oCq6-rwQLJ",
        "outputId": "0775807e-6e6f-421b-ad3f-4704cb1a0064"
      },
      "source": [
        "from sklearn.utils import resample\n",
        "from sklearn.model_selection import train_test_split\n",
        "from sklearn.linear_model import LogisticRegression\n",
        "import pandas as pd\n",
        "\n",
        "# Recreate the balanced dataset\n",
        "df_minority = data[data['Ethnicity']=='Group_C']\n",
        "df_majority = data[data['Ethnicity']!='Group_C']\n",
        "\n",
        "df_minority_upsampled = resample(df_minority, replace=True, n_samples=len(df_majority), random_state=42)\n",
        "\n",
        "df_balanced = pd.concat([df_majority, df_minority_upsampled])\n",
        "\n",
        "# Prepare the balanced dataset for model training\n",
        "X_balanced = pd.get_dummies(df_balanced[['Gender', 'Ethnicity']], drop_first=True)\n",
        "y_balanced = df_balanced['Loan_Approved']\n",
        "\n",
        "# Split the balanced data\n",
        "X_train_balanced, X_test_balanced, y_train_balanced, y_test_balanced = train_test_split(X_balanced, y_balanced, test_size=0.3, random_state=42)\n",
        "\n",
        "# Train a Logistic Regression model on the balanced data\n",
        "model_balanced = LogisticRegression(solver='liblinear')\n",
        "model_balanced.fit(X_train_balanced, y_train_balanced)\n",
        "\n",
        "# Make predictions on the balanced test set\n",
        "y_pred_balanced = model_balanced.predict(X_test_balanced)\n",
        "\n",
        "# Create a DataFrame for fairness metric calculation\n",
        "df_test_balanced = X_test_balanced.copy()\n",
        "# Ensure indices align correctly when adding back original columns\n",
        "df_test_balanced['Gender'] = df_balanced.loc[y_test_balanced.index, 'Gender'].values\n",
        "df_test_balanced['Ethnicity'] = df_balanced.loc[y_test_balanced.index, 'Ethnicity'].values\n",
        "\n",
        "\n",
        "# Calculate fairness metrics for the balanced model\n",
        "dp_ethnicity_balanced = demographic_parity(y_test_balanced, y_pred_balanced, df_test_balanced['Ethnicity'])\n",
        "eo_ethnicity_balanced = equal_opportunity(y_test_balanced, y_pred_balanced, df_test_balanced['Ethnicity'])\n",
        "\n",
        "# Print and compare fairness metrics\n",
        "print(\"Fairness Metrics (Balanced Model):\")\n",
        "print(f\"Demographic Parity Difference (Ethnicity): {dp_ethnicity_balanced:.3f}\")\n",
        "print(f\"Equal Opportunity Difference (Ethnicity): {eo_ethnicity_balanced:.3f}\")\n",
        "\n",
        "print(\"\\nFairness Metrics (Original Model):\")\n",
        "print(f\"Demographic Parity Difference (Ethnicity): {dp_ethnicity:.3f}\")\n",
        "print(f\"Equal Opportunity Difference (Ethnicity): {eo_ethnicity:.3f}\")"
      ],
      "execution_count": 7,
      "outputs": [
        {
          "output_type": "error",
          "ename": "ValueError",
          "evalue": "Length of values (1340) does not match length of index (465)",
          "traceback": [
            "\u001b[0;31m---------------------------------------------------------------------------\u001b[0m",
            "\u001b[0;31mValueError\u001b[0m                                Traceback (most recent call last)",
            "\u001b[0;32m/tmp/ipython-input-3693499176.py\u001b[0m in \u001b[0;36m<cell line: 0>\u001b[0;34m()\u001b[0m\n\u001b[1;32m     29\u001b[0m \u001b[0mdf_test_balanced\u001b[0m \u001b[0;34m=\u001b[0m \u001b[0mX_test_balanced\u001b[0m\u001b[0;34m.\u001b[0m\u001b[0mcopy\u001b[0m\u001b[0;34m(\u001b[0m\u001b[0;34m)\u001b[0m\u001b[0;34m\u001b[0m\u001b[0;34m\u001b[0m\u001b[0m\n\u001b[1;32m     30\u001b[0m \u001b[0;31m# Ensure indices align correctly when adding back original columns\u001b[0m\u001b[0;34m\u001b[0m\u001b[0;34m\u001b[0m\u001b[0m\n\u001b[0;32m---> 31\u001b[0;31m \u001b[0mdf_test_balanced\u001b[0m\u001b[0;34m[\u001b[0m\u001b[0;34m'Gender'\u001b[0m\u001b[0;34m]\u001b[0m \u001b[0;34m=\u001b[0m \u001b[0mdf_balanced\u001b[0m\u001b[0;34m.\u001b[0m\u001b[0mloc\u001b[0m\u001b[0;34m[\u001b[0m\u001b[0my_test_balanced\u001b[0m\u001b[0;34m.\u001b[0m\u001b[0mindex\u001b[0m\u001b[0;34m,\u001b[0m \u001b[0;34m'Gender'\u001b[0m\u001b[0;34m]\u001b[0m\u001b[0;34m.\u001b[0m\u001b[0mvalues\u001b[0m\u001b[0;34m\u001b[0m\u001b[0;34m\u001b[0m\u001b[0m\n\u001b[0m\u001b[1;32m     32\u001b[0m \u001b[0mdf_test_balanced\u001b[0m\u001b[0;34m[\u001b[0m\u001b[0;34m'Ethnicity'\u001b[0m\u001b[0;34m]\u001b[0m \u001b[0;34m=\u001b[0m \u001b[0mdf_balanced\u001b[0m\u001b[0;34m.\u001b[0m\u001b[0mloc\u001b[0m\u001b[0;34m[\u001b[0m\u001b[0my_test_balanced\u001b[0m\u001b[0;34m.\u001b[0m\u001b[0mindex\u001b[0m\u001b[0;34m,\u001b[0m \u001b[0;34m'Ethnicity'\u001b[0m\u001b[0;34m]\u001b[0m\u001b[0;34m.\u001b[0m\u001b[0mvalues\u001b[0m\u001b[0;34m\u001b[0m\u001b[0;34m\u001b[0m\u001b[0m\n\u001b[1;32m     33\u001b[0m \u001b[0;34m\u001b[0m\u001b[0m\n",
            "\u001b[0;32m/usr/local/lib/python3.11/dist-packages/pandas/core/frame.py\u001b[0m in \u001b[0;36m__setitem__\u001b[0;34m(self, key, value)\u001b[0m\n\u001b[1;32m   4309\u001b[0m         \u001b[0;32melse\u001b[0m\u001b[0;34m:\u001b[0m\u001b[0;34m\u001b[0m\u001b[0;34m\u001b[0m\u001b[0m\n\u001b[1;32m   4310\u001b[0m             \u001b[0;31m# set column\u001b[0m\u001b[0;34m\u001b[0m\u001b[0;34m\u001b[0m\u001b[0m\n\u001b[0;32m-> 4311\u001b[0;31m             \u001b[0mself\u001b[0m\u001b[0;34m.\u001b[0m\u001b[0m_set_item\u001b[0m\u001b[0;34m(\u001b[0m\u001b[0mkey\u001b[0m\u001b[0;34m,\u001b[0m \u001b[0mvalue\u001b[0m\u001b[0;34m)\u001b[0m\u001b[0;34m\u001b[0m\u001b[0;34m\u001b[0m\u001b[0m\n\u001b[0m\u001b[1;32m   4312\u001b[0m \u001b[0;34m\u001b[0m\u001b[0m\n\u001b[1;32m   4313\u001b[0m     \u001b[0;32mdef\u001b[0m \u001b[0m_setitem_slice\u001b[0m\u001b[0;34m(\u001b[0m\u001b[0mself\u001b[0m\u001b[0;34m,\u001b[0m \u001b[0mkey\u001b[0m\u001b[0;34m:\u001b[0m \u001b[0mslice\u001b[0m\u001b[0;34m,\u001b[0m \u001b[0mvalue\u001b[0m\u001b[0;34m)\u001b[0m \u001b[0;34m->\u001b[0m \u001b[0;32mNone\u001b[0m\u001b[0;34m:\u001b[0m\u001b[0;34m\u001b[0m\u001b[0;34m\u001b[0m\u001b[0m\n",
            "\u001b[0;32m/usr/local/lib/python3.11/dist-packages/pandas/core/frame.py\u001b[0m in \u001b[0;36m_set_item\u001b[0;34m(self, key, value)\u001b[0m\n\u001b[1;32m   4522\u001b[0m         \u001b[0mensure\u001b[0m \u001b[0mhomogeneity\u001b[0m\u001b[0;34m.\u001b[0m\u001b[0;34m\u001b[0m\u001b[0;34m\u001b[0m\u001b[0m\n\u001b[1;32m   4523\u001b[0m         \"\"\"\n\u001b[0;32m-> 4524\u001b[0;31m         \u001b[0mvalue\u001b[0m\u001b[0;34m,\u001b[0m \u001b[0mrefs\u001b[0m \u001b[0;34m=\u001b[0m \u001b[0mself\u001b[0m\u001b[0;34m.\u001b[0m\u001b[0m_sanitize_column\u001b[0m\u001b[0;34m(\u001b[0m\u001b[0mvalue\u001b[0m\u001b[0;34m)\u001b[0m\u001b[0;34m\u001b[0m\u001b[0;34m\u001b[0m\u001b[0m\n\u001b[0m\u001b[1;32m   4525\u001b[0m \u001b[0;34m\u001b[0m\u001b[0m\n\u001b[1;32m   4526\u001b[0m         if (\n",
            "\u001b[0;32m/usr/local/lib/python3.11/dist-packages/pandas/core/frame.py\u001b[0m in \u001b[0;36m_sanitize_column\u001b[0;34m(self, value)\u001b[0m\n\u001b[1;32m   5264\u001b[0m \u001b[0;34m\u001b[0m\u001b[0m\n\u001b[1;32m   5265\u001b[0m         \u001b[0;32mif\u001b[0m \u001b[0mis_list_like\u001b[0m\u001b[0;34m(\u001b[0m\u001b[0mvalue\u001b[0m\u001b[0;34m)\u001b[0m\u001b[0;34m:\u001b[0m\u001b[0;34m\u001b[0m\u001b[0;34m\u001b[0m\u001b[0m\n\u001b[0;32m-> 5266\u001b[0;31m             \u001b[0mcom\u001b[0m\u001b[0;34m.\u001b[0m\u001b[0mrequire_length_match\u001b[0m\u001b[0;34m(\u001b[0m\u001b[0mvalue\u001b[0m\u001b[0;34m,\u001b[0m \u001b[0mself\u001b[0m\u001b[0;34m.\u001b[0m\u001b[0mindex\u001b[0m\u001b[0;34m)\u001b[0m\u001b[0;34m\u001b[0m\u001b[0;34m\u001b[0m\u001b[0m\n\u001b[0m\u001b[1;32m   5267\u001b[0m         \u001b[0marr\u001b[0m \u001b[0;34m=\u001b[0m \u001b[0msanitize_array\u001b[0m\u001b[0;34m(\u001b[0m\u001b[0mvalue\u001b[0m\u001b[0;34m,\u001b[0m \u001b[0mself\u001b[0m\u001b[0;34m.\u001b[0m\u001b[0mindex\u001b[0m\u001b[0;34m,\u001b[0m \u001b[0mcopy\u001b[0m\u001b[0;34m=\u001b[0m\u001b[0;32mTrue\u001b[0m\u001b[0;34m,\u001b[0m \u001b[0mallow_2d\u001b[0m\u001b[0;34m=\u001b[0m\u001b[0;32mTrue\u001b[0m\u001b[0;34m)\u001b[0m\u001b[0;34m\u001b[0m\u001b[0;34m\u001b[0m\u001b[0m\n\u001b[1;32m   5268\u001b[0m         if (\n",
            "\u001b[0;32m/usr/local/lib/python3.11/dist-packages/pandas/core/common.py\u001b[0m in \u001b[0;36mrequire_length_match\u001b[0;34m(data, index)\u001b[0m\n\u001b[1;32m    571\u001b[0m     \"\"\"\n\u001b[1;32m    572\u001b[0m     \u001b[0;32mif\u001b[0m \u001b[0mlen\u001b[0m\u001b[0;34m(\u001b[0m\u001b[0mdata\u001b[0m\u001b[0;34m)\u001b[0m \u001b[0;34m!=\u001b[0m \u001b[0mlen\u001b[0m\u001b[0;34m(\u001b[0m\u001b[0mindex\u001b[0m\u001b[0;34m)\u001b[0m\u001b[0;34m:\u001b[0m\u001b[0;34m\u001b[0m\u001b[0;34m\u001b[0m\u001b[0m\n\u001b[0;32m--> 573\u001b[0;31m         raise ValueError(\n\u001b[0m\u001b[1;32m    574\u001b[0m             \u001b[0;34m\"Length of values \"\u001b[0m\u001b[0;34m\u001b[0m\u001b[0;34m\u001b[0m\u001b[0m\n\u001b[1;32m    575\u001b[0m             \u001b[0;34mf\"({len(data)}) \"\u001b[0m\u001b[0;34m\u001b[0m\u001b[0;34m\u001b[0m\u001b[0m\n",
            "\u001b[0;31mValueError\u001b[0m: Length of values (1340) does not match length of index (465)"
          ]
        }
      ]
    },
    {
      "cell_type": "markdown",
      "metadata": {
        "id": "f20c4dc0"
      },
      "source": [
        "**Reasoning**:\n",
        "The error \"ValueError: Length of values (1340) does not match length of index (465)\" occurs when trying to assign columns to `df_test_balanced`. This is because `df_balanced.loc[y_test_balanced.index, 'Gender'].values` is selecting rows from the entire `df_balanced` DataFrame based on the indices of the test set, which results in more rows than in the test set due to upsampling. To fix this, I need to create `df_test_balanced` by merging the original `data` DataFrame with `X_test_balanced` on their index before adding the 'Gender' and 'Ethnicity' columns. This ensures that the sensitive attribute columns are correctly aligned with the test set features.\n",
        "\n"
      ]
    },
    {
      "cell_type": "code",
      "metadata": {
        "colab": {
          "base_uri": "https://localhost:8080/",
          "height": 211
        },
        "id": "2_Uago0AwTSv",
        "outputId": "033b35c0-efb2-4e30-b753-a0aa2b26a550"
      },
      "source": [
        "from sklearn.utils import resample\n",
        "from sklearn.model_selection import train_test_split\n",
        "from sklearn.linear_model import LogisticRegression\n",
        "import pandas as pd\n",
        "\n",
        "# Recreate the balanced dataset\n",
        "df_minority = data[data['Ethnicity']=='Group_C']\n",
        "df_majority = data[data['Ethnicity']!='Group_C']\n",
        "\n",
        "df_minority_upsampled = resample(df_minority, replace=True, n_samples=len(df_majority), random_state=42)\n",
        "\n",
        "df_balanced = pd.concat([df_majority, df_minority_upsampled])\n",
        "\n",
        "# Prepare the balanced dataset for model training\n",
        "X_balanced = pd.get_dummies(df_balanced[['Gender', 'Ethnicity']], drop_first=True)\n",
        "y_balanced = df_balanced['Loan_Approved']\n",
        "\n",
        "# Split the balanced data\n",
        "X_train_balanced, X_test_balanced, y_train_balanced, y_test_balanced = train_test_split(X_balanced, y_balanced, test_size=0.3, random_state=42)\n",
        "\n",
        "# Train a Logistic Regression model on the balanced data\n",
        "model_balanced = LogisticRegression(solver='liblinear')\n",
        "model_balanced.fit(X_train_balanced, y_train_balanced)\n",
        "\n",
        "# Make predictions on the balanced test set\n",
        "y_pred_balanced = model_balanced.predict(X_test_balanced)\n",
        "\n",
        "# Create a DataFrame for fairness metric calculation by merging with original data on index\n",
        "df_test_balanced = pd.merge(X_test_balanced, data[['Gender', 'Ethnicity']], left_index=True, right_index=True, how='left')\n",
        "\n",
        "# Calculate fairness metrics for the balanced model\n",
        "dp_ethnicity_balanced = demographic_parity(y_test_balanced, y_pred_balanced, df_test_balanced['Ethnicity'])\n",
        "eo_ethnicity_balanced = equal_opportunity(y_test_balanced, y_pred_balanced, df_test_balanced['Ethnicity'])\n",
        "\n",
        "# Print and compare fairness metrics\n",
        "print(\"Fairness Metrics (Balanced Model):\")\n",
        "print(f\"Demographic Parity Difference (Ethnicity): {dp_ethnicity_balanced:.3f}\")\n",
        "print(f\"Equal Opportunity Difference (Ethnicity): {eo_ethnicity_balanced:.3f}\")\n",
        "\n",
        "print(\"\\nFairness Metrics (Original Model):\")\n",
        "print(f\"Demographic Parity Difference (Ethnicity): {dp_ethnicity:.3f}\")\n",
        "print(f\"Equal Opportunity Difference (Ethnicity): {eo_ethnicity:.3f}\")"
      ],
      "execution_count": 8,
      "outputs": [
        {
          "output_type": "error",
          "ename": "NameError",
          "evalue": "name 'demographic_parity' is not defined",
          "traceback": [
            "\u001b[0;31m---------------------------------------------------------------------------\u001b[0m",
            "\u001b[0;31mNameError\u001b[0m                                 Traceback (most recent call last)",
            "\u001b[0;32m/tmp/ipython-input-1449941389.py\u001b[0m in \u001b[0;36m<cell line: 0>\u001b[0;34m()\u001b[0m\n\u001b[1;32m     30\u001b[0m \u001b[0;34m\u001b[0m\u001b[0m\n\u001b[1;32m     31\u001b[0m \u001b[0;31m# Calculate fairness metrics for the balanced model\u001b[0m\u001b[0;34m\u001b[0m\u001b[0;34m\u001b[0m\u001b[0m\n\u001b[0;32m---> 32\u001b[0;31m \u001b[0mdp_ethnicity_balanced\u001b[0m \u001b[0;34m=\u001b[0m \u001b[0mdemographic_parity\u001b[0m\u001b[0;34m(\u001b[0m\u001b[0my_test_balanced\u001b[0m\u001b[0;34m,\u001b[0m \u001b[0my_pred_balanced\u001b[0m\u001b[0;34m,\u001b[0m \u001b[0mdf_test_balanced\u001b[0m\u001b[0;34m[\u001b[0m\u001b[0;34m'Ethnicity'\u001b[0m\u001b[0;34m]\u001b[0m\u001b[0;34m)\u001b[0m\u001b[0;34m\u001b[0m\u001b[0;34m\u001b[0m\u001b[0m\n\u001b[0m\u001b[1;32m     33\u001b[0m \u001b[0meo_ethnicity_balanced\u001b[0m \u001b[0;34m=\u001b[0m \u001b[0mequal_opportunity\u001b[0m\u001b[0;34m(\u001b[0m\u001b[0my_test_balanced\u001b[0m\u001b[0;34m,\u001b[0m \u001b[0my_pred_balanced\u001b[0m\u001b[0;34m,\u001b[0m \u001b[0mdf_test_balanced\u001b[0m\u001b[0;34m[\u001b[0m\u001b[0;34m'Ethnicity'\u001b[0m\u001b[0;34m]\u001b[0m\u001b[0;34m)\u001b[0m\u001b[0;34m\u001b[0m\u001b[0;34m\u001b[0m\u001b[0m\n\u001b[1;32m     34\u001b[0m \u001b[0;34m\u001b[0m\u001b[0m\n",
            "\u001b[0;31mNameError\u001b[0m: name 'demographic_parity' is not defined"
          ]
        }
      ]
    },
    {
      "cell_type": "markdown",
      "metadata": {
        "id": "3b0ba9b6"
      },
      "source": [
        "**Reasoning**:\n",
        "The error \"NameError: name 'demographic_parity' is not defined\" indicates that the functions `demographic_parity` and `equal_opportunity` are not available in the current execution environment. I need to include the definitions of these functions in the current code block before calling them.\n",
        "\n"
      ]
    },
    {
      "cell_type": "code",
      "metadata": {
        "colab": {
          "base_uri": "https://localhost:8080/",
          "height": 280
        },
        "id": "v981yq1BwWvS",
        "outputId": "2ac292c4-0eb2-4b60-f872-0ff404f784ee"
      },
      "source": [
        "from sklearn.utils import resample\n",
        "from sklearn.model_selection import train_test_split\n",
        "from sklearn.linear_model import LogisticRegression\n",
        "import pandas as pd\n",
        "\n",
        "# Define fairness metric functions (re-included as they were not available)\n",
        "def demographic_parity(y_true, y_pred, group):\n",
        "    rates = pd.DataFrame({'y_pred': y_pred, 'group': group}).groupby('group')['y_pred'].mean()\n",
        "    return rates.max() - rates.min()\n",
        "\n",
        "def equal_opportunity(y_true, y_pred, group):\n",
        "    results = {}\n",
        "    df = pd.DataFrame({'y_true': y_true, 'y_pred': y_pred, 'group': group})\n",
        "    for g in df['group'].unique():\n",
        "        subset = df[df['group'] == g]\n",
        "        tp = ((subset['y_pred'] == 1) & (subset['y_true'] == 1)).sum()\n",
        "        fn = ((subset['y_pred'] == 0) & (subset['y_true'] == 1)).sum()\n",
        "        tpr = tp / (tp + fn) if (tp + fn) > 0 else 0\n",
        "        results[g] = tpr\n",
        "    tpr_vals = list(results.values())\n",
        "    return max(tpr_vals) - min(tpr_vals)\n",
        "\n",
        "# Recreate the balanced dataset\n",
        "df_minority = data[data['Ethnicity']=='Group_C']\n",
        "df_majority = data[data['Ethnicity']!='Group_C']\n",
        "\n",
        "df_minority_upsampled = resample(df_minority, replace=True, n_samples=len(df_majority), random_state=42)\n",
        "\n",
        "df_balanced = pd.concat([df_majority, df_minority_upsampled])\n",
        "\n",
        "# Prepare the balanced dataset for model training\n",
        "X_balanced = pd.get_dummies(df_balanced[['Gender', 'Ethnicity']], drop_first=True)\n",
        "y_balanced = df_balanced['Loan_Approved']\n",
        "\n",
        "# Split the balanced data\n",
        "X_train_balanced, X_test_balanced, y_train_balanced, y_test_balanced = train_test_split(X_balanced, y_balanced, test_size=0.3, random_state=42)\n",
        "\n",
        "# Train a Logistic Regression model on the balanced data\n",
        "model_balanced = LogisticRegression(solver='liblinear')\n",
        "model_balanced.fit(X_train_balanced, y_train_balanced)\n",
        "\n",
        "# Make predictions on the balanced test set\n",
        "y_pred_balanced = model_balanced.predict(X_test_balanced)\n",
        "\n",
        "# Create a DataFrame for fairness metric calculation by merging with original data on index\n",
        "df_test_balanced = pd.merge(X_test_balanced, data[['Gender', 'Ethnicity']], left_index=True, right_index=True, how='left')\n",
        "\n",
        "# Calculate fairness metrics for the balanced model\n",
        "dp_ethnicity_balanced = demographic_parity(y_test_balanced, y_pred_balanced, df_test_balanced['Ethnicity'])\n",
        "eo_ethnicity_balanced = equal_opportunity(y_test_balanced, y_pred_balanced, df_test_balanced['Ethnicity'])\n",
        "\n",
        "# Print and compare fairness metrics\n",
        "print(\"Fairness Metrics (Balanced Model):\")\n",
        "print(f\"Demographic Parity Difference (Ethnicity): {dp_ethnicity_balanced:.3f}\")\n",
        "print(f\"Equal Opportunity Difference (Ethnicity): {eo_ethnicity_balanced:.3f}\")\n",
        "\n",
        "print(\"\\nFairness Metrics (Original Model):\")\n",
        "print(f\"Demographic Parity Difference (Ethnicity): {dp_ethnicity:.3f}\")\n",
        "print(f\"Equal Opportunity Difference (Ethnicity): {eo_ethnicity:.3f}\")"
      ],
      "execution_count": 9,
      "outputs": [
        {
          "output_type": "stream",
          "name": "stdout",
          "text": [
            "Fairness Metrics (Balanced Model):\n",
            "Demographic Parity Difference (Ethnicity): 1.000\n",
            "Equal Opportunity Difference (Ethnicity): 1.000\n",
            "\n",
            "Fairness Metrics (Original Model):\n"
          ]
        },
        {
          "output_type": "error",
          "ename": "NameError",
          "evalue": "name 'dp_ethnicity' is not defined",
          "traceback": [
            "\u001b[0;31m---------------------------------------------------------------------------\u001b[0m",
            "\u001b[0;31mNameError\u001b[0m                                 Traceback (most recent call last)",
            "\u001b[0;32m/tmp/ipython-input-3605816754.py\u001b[0m in \u001b[0;36m<cell line: 0>\u001b[0;34m()\u001b[0m\n\u001b[1;32m     56\u001b[0m \u001b[0;34m\u001b[0m\u001b[0m\n\u001b[1;32m     57\u001b[0m \u001b[0mprint\u001b[0m\u001b[0;34m(\u001b[0m\u001b[0;34m\"\\nFairness Metrics (Original Model):\"\u001b[0m\u001b[0;34m)\u001b[0m\u001b[0;34m\u001b[0m\u001b[0;34m\u001b[0m\u001b[0m\n\u001b[0;32m---> 58\u001b[0;31m \u001b[0mprint\u001b[0m\u001b[0;34m(\u001b[0m\u001b[0;34mf\"Demographic Parity Difference (Ethnicity): {dp_ethnicity:.3f}\"\u001b[0m\u001b[0;34m)\u001b[0m\u001b[0;34m\u001b[0m\u001b[0;34m\u001b[0m\u001b[0m\n\u001b[0m\u001b[1;32m     59\u001b[0m \u001b[0mprint\u001b[0m\u001b[0;34m(\u001b[0m\u001b[0;34mf\"Equal Opportunity Difference (Ethnicity): {eo_ethnicity:.3f}\"\u001b[0m\u001b[0;34m)\u001b[0m\u001b[0;34m\u001b[0m\u001b[0;34m\u001b[0m\u001b[0m\n",
            "\u001b[0;31mNameError\u001b[0m: name 'dp_ethnicity' is not defined"
          ]
        }
      ]
    },
    {
      "cell_type": "markdown",
      "metadata": {
        "id": "4a990adf"
      },
      "source": [
        "**Reasoning**:\n",
        "The error \"NameError: name 'dp_ethnicity' is not defined\" indicates that the variables `dp_ethnicity` and `eo_ethnicity` from the original model evaluation are not available in the current execution environment. I need to re-calculate the fairness metrics for the original model within this code block so they are available for comparison.\n",
        "\n"
      ]
    },
    {
      "cell_type": "code",
      "metadata": {
        "colab": {
          "base_uri": "https://localhost:8080/"
        },
        "id": "C4vz_EevwkYO",
        "outputId": "166243b6-68c5-44f5-ebab-22061dce43d1"
      },
      "source": [
        "from sklearn.utils import resample\n",
        "from sklearn.model_selection import train_test_split\n",
        "from sklearn.linear_model import LogisticRegression\n",
        "import pandas as pd\n",
        "\n",
        "# Define fairness metric functions (re-included as they were not available)\n",
        "def demographic_parity(y_true, y_pred, group):\n",
        "    rates = pd.DataFrame({'y_pred': y_pred, 'group': group}).groupby('group')['y_pred'].mean()\n",
        "    return rates.max() - rates.min()\n",
        "\n",
        "def equal_opportunity(y_true, y_pred, group):\n",
        "    results = {}\n",
        "    df = pd.DataFrame({'y_true': y_true, 'y_pred': y_pred, 'group': group})\n",
        "    for g in df['group'].unique():\n",
        "        subset = df[df['group'] == g]\n",
        "        tp = ((subset['y_pred'] == 1) & (subset['y_true'] == 1)).sum()\n",
        "        fn = ((subset['y_pred'] == 0) & (subset['y_true'] == 1)).sum()\n",
        "        tpr = tp / (tp + fn) if (tp + fn) > 0 else 0\n",
        "        results[g] = tpr\n",
        "    tpr_vals = list(results.values())\n",
        "    return max(tpr_vals) - min(tpr_vals)\n",
        "\n",
        "# Recreate the balanced dataset\n",
        "df_minority = data[data['Ethnicity']=='Group_C']\n",
        "df_majority = data[data['Ethnicity']!='Group_C']\n",
        "\n",
        "df_minority_upsampled = resample(df_minority, replace=True, n_samples=len(df_majority), random_state=42)\n",
        "\n",
        "df_balanced = pd.concat([df_majority, df_minority_upsampled])\n",
        "\n",
        "# Prepare the balanced dataset for model training\n",
        "X_balanced = pd.get_dummies(df_balanced[['Gender', 'Ethnicity']], drop_first=True)\n",
        "y_balanced = df_balanced['Loan_Approved']\n",
        "\n",
        "# Split the balanced data\n",
        "X_train_balanced, X_test_balanced, y_train_balanced, y_test_balanced = train_test_split(X_balanced, y_balanced, test_size=0.3, random_state=42)\n",
        "\n",
        "# Train a Logistic Regression model on the balanced data\n",
        "model_balanced = LogisticRegression(solver='liblinear')\n",
        "model_balanced.fit(X_train_balanced, y_train_balanced)\n",
        "\n",
        "# Make predictions on the balanced test set\n",
        "y_pred_balanced = model_balanced.predict(X_test_balanced)\n",
        "\n",
        "# Create a DataFrame for fairness metric calculation by merging with original data on index\n",
        "df_test_balanced = pd.merge(X_test_balanced, data[['Gender', 'Ethnicity']], left_index=True, right_index=True, how='left')\n",
        "\n",
        "# Calculate fairness metrics for the balanced model\n",
        "dp_ethnicity_balanced = demographic_parity(y_test_balanced, y_pred_balanced, df_test_balanced['Ethnicity'])\n",
        "eo_ethnicity_balanced = equal_opportunity(y_test_balanced, y_pred_balanced, df_test_balanced['Ethnicity'])\n",
        "\n",
        "# Re-calculate fairness metrics for the original model (as they were not available)\n",
        "# Prepare data for original model metrics calculation\n",
        "X = pd.get_dummies(data[['Gender', 'Ethnicity']], drop_first=True)\n",
        "y = data['Loan_Approved']\n",
        "X_train, X_test, y_train, y_test = train_test_split(X, y, test_size=0.3, random_state=42)\n",
        "model = LogisticRegression(solver='liblinear')\n",
        "model.fit(X_train, y_train)\n",
        "y_pred = model.predict(X_test)\n",
        "df_test = X_test.copy()\n",
        "df_test['Gender'] = data.loc[y_test.index, 'Gender'].values\n",
        "df_test['Ethnicity'] = data.loc[y_test.index, 'Ethnicity'].values\n",
        "\n",
        "dp_ethnicity = demographic_parity(y_test, y_pred, df_test['Ethnicity'])\n",
        "eo_ethnicity = equal_opportunity(y_test, y_pred, df_test['Ethnicity'])\n",
        "\n",
        "\n",
        "# Print and compare fairness metrics\n",
        "print(\"Fairness Metrics (Balanced Model):\")\n",
        "print(f\"Demographic Parity Difference (Ethnicity): {dp_ethnicity_balanced:.3f}\")\n",
        "print(f\"Equal Opportunity Difference (Ethnicity): {eo_ethnicity_balanced:.3f}\")\n",
        "\n",
        "print(\"\\nFairness Metrics (Original Model):\")\n",
        "print(f\"Demographic Parity Difference (Ethnicity): {dp_ethnicity:.3f}\")\n",
        "print(f\"Equal Opportunity Difference (Ethnicity): {eo_ethnicity:.3f}\")"
      ],
      "execution_count": 11,
      "outputs": [
        {
          "output_type": "stream",
          "name": "stdout",
          "text": [
            "Fairness Metrics (Balanced Model):\n",
            "Demographic Parity Difference (Ethnicity): 1.000\n",
            "Equal Opportunity Difference (Ethnicity): 1.000\n",
            "\n",
            "Fairness Metrics (Original Model):\n",
            "Demographic Parity Difference (Ethnicity): 1.000\n",
            "Equal Opportunity Difference (Ethnicity): 1.000\n"
          ]
        }
      ]
    },
    {
      "cell_type": "markdown",
      "metadata": {
        "id": "da913d3c"
      },
      "source": [
        "## Discussion (task 4.3)\n",
        "\n",
        "### Subtask:\n",
        "Reflect on the trade-offs between accuracy and fairness, and the impact of mitigation techniques on model complexity and interpretability.\n"
      ]
    },
    {
      "cell_type": "markdown",
      "metadata": {
        "id": "f4063b06"
      },
      "source": [
        "**Reasoning**:\n",
        "Write a markdown cell to discuss the trade-offs between accuracy and fairness and the impact of the mitigation technique on model complexity and interpretability, based on the previous steps.\n",
        "\n"
      ]
    },
    {
      "cell_type": "code",
      "metadata": {
        "id": "50c7e040"
      },
      "source": [
        "# ### Discussion: Accuracy, Fairness, and Mitigation Impact\n",
        "#\n",
        "# In this exercise, we observed how a bias mitigation technique (upsampling the minority group 'Group_C' in the training data) was applied to address data imbalance and improve fairness with respect to 'Ethnicity'.\n",
        "#\n",
        "# While the explicit accuracy metrics (like overall accuracy) for the original and balanced models were not directly compared in the previous steps, it's important to understand the general trade-off that can exist between model accuracy and fairness. Often, optimizing solely for overall accuracy might lead to disparate performance across different sensitive groups, thus reducing fairness. Conversely, applying fairness constraints or mitigation techniques can sometimes lead to a slight decrease in overall accuracy in exchange for a more equitable distribution of errors or outcomes across groups. In our case, the upsampling aimed to give the minority group more representation during training, which *could* influence the model's ability to generalize equally well across all groups.\n",
        "#\n",
        "# The fairness metrics (Demographic Parity and Equal Opportunity differences for 'Ethnicity') for both the original and balanced models were both 1.000. This indicates that, despite the resampling, the significant difference in approval rates between the groups persisted in the model's predictions on the test set as measured by these metrics. This highlights that simple data balancing techniques may not always be sufficient to fully mitigate algorithmic bias, especially when the underlying patterns of bias are strong.\n",
        "#\n",
        "# Regarding the impact of the mitigation technique on model complexity and interpretability:\n",
        "#\n",
        "# - **Complexity:** The upsampling technique itself did not fundamentally change the complexity of the Logistic Regression model. Logistic Regression remains a relatively simple and interpretable model. The complexity was increased in the data preparation step (resampling), leading to a larger training dataset.\n",
        "# - **Interpretability:** The interpretability of the Logistic Regression model trained on the balanced data is largely the same as the original model. We can still examine the coefficients to understand the influence of different features on the predictions. The upsampling process doesn't obscure the relationship between features and the outcome in the trained model itself, although interpreting the coefficients now reflects the model's learning from the artificially balanced data distribution.\n",
        "#\n",
        "# This exercise demonstrates that mitigating bias is a complex task, and the effectiveness and trade-offs are highly dependent on the specific dataset, the type of bias present, the chosen mitigation technique, and the fairness metrics used for evaluation."
      ],
      "execution_count": 12,
      "outputs": []
    },
    {
      "cell_type": "markdown",
      "metadata": {
        "id": "b3721fed"
      },
      "source": [
        "## Summary:\n",
        "\n",
        "### Data Analysis Key Findings\n",
        "\n",
        "*   **In-processing mitigation** involves modifying the model training process or objective function to incorporate fairness constraints. Practical implementation often requires specialized libraries like `aif360`.\n",
        "*   **Post-processing mitigation** involves adjusting model outputs or decisions *after* training to improve fairness without retraining. A common technique is adjusting decision thresholds per group, which requires predicted probabilities and analysis of per-group ROC curves.\n",
        "*   Training a Logistic Regression model on a dataset balanced by upsampling the minority group did not reduce the fairness disparities for 'Ethnicity' as measured by Demographic Parity and Equal Opportunity metrics, which remained 1.000 for both the original and balanced models on the test set.\n",
        "*   The upsampling mitigation technique increased the complexity of the data preparation step (larger training dataset) but did not fundamentally change the complexity or interpretability of the Logistic Regression model itself.\n",
        "\n",
        "### Insights or Next Steps\n",
        "\n",
        "*   Simple data balancing techniques like upsampling may not be sufficient to mitigate strong underlying biases in the data or model. More advanced in-processing or post-processing techniques should be explored.\n",
        "*   Evaluating the trade-off between accuracy and fairness requires explicitly calculating and comparing accuracy metrics alongside fairness metrics before and after applying mitigation techniques.\n"
      ]
    }
  ],
  "metadata": {
    "colab": {
      "name": "Welcome to Colab",
      "provenance": [],
      "include_colab_link": true
    },
    "kernelspec": {
      "display_name": "Python 3",
      "name": "python3"
    }
  },
  "nbformat": 4,
  "nbformat_minor": 0
}