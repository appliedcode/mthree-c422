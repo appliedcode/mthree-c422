{
  "nbformat": 4,
  "nbformat_minor": 0,
  "metadata": {
    "colab": {
      "provenance": [],
      "authorship_tag": "ABX9TyPp6v0b9smp9eISAAtOb6xC",
      "include_colab_link": true
    },
    "kernelspec": {
      "name": "python3",
      "display_name": "Python 3"
    },
    "language_info": {
      "name": "python"
    }
  },
  "cells": [
    {
      "cell_type": "markdown",
      "metadata": {
        "id": "view-in-github",
        "colab_type": "text"
      },
      "source": [
        "<a href=\"https://colab.research.google.com/github/appliedcode/mthree-c422/blob/mthree-422-salleh/Exercises/day-13/AI-Ethics/Production-Ready-Practice-2.ipynb\" target=\"_parent\"><img src=\"https://colab.research.google.com/assets/colab-badge.svg\" alt=\"Open In Colab\"/></a>"
      ]
    },
    {
      "cell_type": "markdown",
      "source": [
        "#Problem Set: Operationalizing Ethics in AI Development & Deployment — Ride‑Hailing Driver Evaluation"
      ],
      "metadata": {
        "id": "YhZKYBqqHsgc"
      }
    },
    {
      "cell_type": "markdown",
      "source": [
        "We’ll simulate an AI system that rates and flags ride‑hailing drivers for review based on their trip history and customer feedback. \\\n",
        "The goal: embed and operationalize ethics from design through to post‑deployment monitoring.\n"
      ],
      "metadata": {
        "id": "gGKeTXfOHzh6"
      }
    },
    {
      "cell_type": "markdown",
      "source": [
        "#1. Dataset Creation"
      ],
      "metadata": {
        "id": "vtHekyWiIA5o"
      }
    },
    {
      "cell_type": "code",
      "execution_count": 2,
      "metadata": {
        "id": "_QmraOwI52ux",
        "outputId": "e6c1b542-5cdc-45df-9283-fdd975d539cd",
        "colab": {
          "base_uri": "https://localhost:8080/",
          "height": 206
        }
      },
      "outputs": [
        {
          "output_type": "execute_result",
          "data": {
            "text/plain": [
              "   Driver_ID  Age  Gender City_Type  Trips_Completed  Avg_Rating  Complaints  \\\n",
              "0          1   44   Other     Metro              324        3.88          12   \n",
              "1          2   52    Male     Urban              323        3.96          17   \n",
              "2          3   41  Female     Urban              448        3.53           4   \n",
              "3          4   41  Female      Town             1485        4.83          19   \n",
              "4          5   64    Male     Urban              501        3.66          15   \n",
              "\n",
              "   Accidents  Flagged_For_Review  \n",
              "0          3                   1  \n",
              "1          3                   0  \n",
              "2          4                   1  \n",
              "3          1                   0  \n",
              "4          2                   0  "
            ],
            "text/html": [
              "\n",
              "  <div id=\"df-8936fda5-c028-4d57-a0c3-efdf5bdcc3a9\" class=\"colab-df-container\">\n",
              "    <div>\n",
              "<style scoped>\n",
              "    .dataframe tbody tr th:only-of-type {\n",
              "        vertical-align: middle;\n",
              "    }\n",
              "\n",
              "    .dataframe tbody tr th {\n",
              "        vertical-align: top;\n",
              "    }\n",
              "\n",
              "    .dataframe thead th {\n",
              "        text-align: right;\n",
              "    }\n",
              "</style>\n",
              "<table border=\"1\" class=\"dataframe\">\n",
              "  <thead>\n",
              "    <tr style=\"text-align: right;\">\n",
              "      <th></th>\n",
              "      <th>Driver_ID</th>\n",
              "      <th>Age</th>\n",
              "      <th>Gender</th>\n",
              "      <th>City_Type</th>\n",
              "      <th>Trips_Completed</th>\n",
              "      <th>Avg_Rating</th>\n",
              "      <th>Complaints</th>\n",
              "      <th>Accidents</th>\n",
              "      <th>Flagged_For_Review</th>\n",
              "    </tr>\n",
              "  </thead>\n",
              "  <tbody>\n",
              "    <tr>\n",
              "      <th>0</th>\n",
              "      <td>1</td>\n",
              "      <td>44</td>\n",
              "      <td>Other</td>\n",
              "      <td>Metro</td>\n",
              "      <td>324</td>\n",
              "      <td>3.88</td>\n",
              "      <td>12</td>\n",
              "      <td>3</td>\n",
              "      <td>1</td>\n",
              "    </tr>\n",
              "    <tr>\n",
              "      <th>1</th>\n",
              "      <td>2</td>\n",
              "      <td>52</td>\n",
              "      <td>Male</td>\n",
              "      <td>Urban</td>\n",
              "      <td>323</td>\n",
              "      <td>3.96</td>\n",
              "      <td>17</td>\n",
              "      <td>3</td>\n",
              "      <td>0</td>\n",
              "    </tr>\n",
              "    <tr>\n",
              "      <th>2</th>\n",
              "      <td>3</td>\n",
              "      <td>41</td>\n",
              "      <td>Female</td>\n",
              "      <td>Urban</td>\n",
              "      <td>448</td>\n",
              "      <td>3.53</td>\n",
              "      <td>4</td>\n",
              "      <td>4</td>\n",
              "      <td>1</td>\n",
              "    </tr>\n",
              "    <tr>\n",
              "      <th>3</th>\n",
              "      <td>4</td>\n",
              "      <td>41</td>\n",
              "      <td>Female</td>\n",
              "      <td>Town</td>\n",
              "      <td>1485</td>\n",
              "      <td>4.83</td>\n",
              "      <td>19</td>\n",
              "      <td>1</td>\n",
              "      <td>0</td>\n",
              "    </tr>\n",
              "    <tr>\n",
              "      <th>4</th>\n",
              "      <td>5</td>\n",
              "      <td>64</td>\n",
              "      <td>Male</td>\n",
              "      <td>Urban</td>\n",
              "      <td>501</td>\n",
              "      <td>3.66</td>\n",
              "      <td>15</td>\n",
              "      <td>2</td>\n",
              "      <td>0</td>\n",
              "    </tr>\n",
              "  </tbody>\n",
              "</table>\n",
              "</div>\n",
              "    <div class=\"colab-df-buttons\">\n",
              "\n",
              "  <div class=\"colab-df-container\">\n",
              "    <button class=\"colab-df-convert\" onclick=\"convertToInteractive('df-8936fda5-c028-4d57-a0c3-efdf5bdcc3a9')\"\n",
              "            title=\"Convert this dataframe to an interactive table.\"\n",
              "            style=\"display:none;\">\n",
              "\n",
              "  <svg xmlns=\"http://www.w3.org/2000/svg\" height=\"24px\" viewBox=\"0 -960 960 960\">\n",
              "    <path d=\"M120-120v-720h720v720H120Zm60-500h600v-160H180v160Zm220 220h160v-160H400v160Zm0 220h160v-160H400v160ZM180-400h160v-160H180v160Zm440 0h160v-160H620v160ZM180-180h160v-160H180v160Zm440 0h160v-160H620v160Z\"/>\n",
              "  </svg>\n",
              "    </button>\n",
              "\n",
              "  <style>\n",
              "    .colab-df-container {\n",
              "      display:flex;\n",
              "      gap: 12px;\n",
              "    }\n",
              "\n",
              "    .colab-df-convert {\n",
              "      background-color: #E8F0FE;\n",
              "      border: none;\n",
              "      border-radius: 50%;\n",
              "      cursor: pointer;\n",
              "      display: none;\n",
              "      fill: #1967D2;\n",
              "      height: 32px;\n",
              "      padding: 0 0 0 0;\n",
              "      width: 32px;\n",
              "    }\n",
              "\n",
              "    .colab-df-convert:hover {\n",
              "      background-color: #E2EBFA;\n",
              "      box-shadow: 0px 1px 2px rgba(60, 64, 67, 0.3), 0px 1px 3px 1px rgba(60, 64, 67, 0.15);\n",
              "      fill: #174EA6;\n",
              "    }\n",
              "\n",
              "    .colab-df-buttons div {\n",
              "      margin-bottom: 4px;\n",
              "    }\n",
              "\n",
              "    [theme=dark] .colab-df-convert {\n",
              "      background-color: #3B4455;\n",
              "      fill: #D2E3FC;\n",
              "    }\n",
              "\n",
              "    [theme=dark] .colab-df-convert:hover {\n",
              "      background-color: #434B5C;\n",
              "      box-shadow: 0px 1px 3px 1px rgba(0, 0, 0, 0.15);\n",
              "      filter: drop-shadow(0px 1px 2px rgba(0, 0, 0, 0.3));\n",
              "      fill: #FFFFFF;\n",
              "    }\n",
              "  </style>\n",
              "\n",
              "    <script>\n",
              "      const buttonEl =\n",
              "        document.querySelector('#df-8936fda5-c028-4d57-a0c3-efdf5bdcc3a9 button.colab-df-convert');\n",
              "      buttonEl.style.display =\n",
              "        google.colab.kernel.accessAllowed ? 'block' : 'none';\n",
              "\n",
              "      async function convertToInteractive(key) {\n",
              "        const element = document.querySelector('#df-8936fda5-c028-4d57-a0c3-efdf5bdcc3a9');\n",
              "        const dataTable =\n",
              "          await google.colab.kernel.invokeFunction('convertToInteractive',\n",
              "                                                    [key], {});\n",
              "        if (!dataTable) return;\n",
              "\n",
              "        const docLinkHtml = 'Like what you see? Visit the ' +\n",
              "          '<a target=\"_blank\" href=https://colab.research.google.com/notebooks/data_table.ipynb>data table notebook</a>'\n",
              "          + ' to learn more about interactive tables.';\n",
              "        element.innerHTML = '';\n",
              "        dataTable['output_type'] = 'display_data';\n",
              "        await google.colab.output.renderOutput(dataTable, element);\n",
              "        const docLink = document.createElement('div');\n",
              "        docLink.innerHTML = docLinkHtml;\n",
              "        element.appendChild(docLink);\n",
              "      }\n",
              "    </script>\n",
              "  </div>\n",
              "\n",
              "\n",
              "    <div id=\"df-f9dd77d3-6ef3-4bb7-bf66-555d83d210e8\">\n",
              "      <button class=\"colab-df-quickchart\" onclick=\"quickchart('df-f9dd77d3-6ef3-4bb7-bf66-555d83d210e8')\"\n",
              "                title=\"Suggest charts\"\n",
              "                style=\"display:none;\">\n",
              "\n",
              "<svg xmlns=\"http://www.w3.org/2000/svg\" height=\"24px\"viewBox=\"0 0 24 24\"\n",
              "     width=\"24px\">\n",
              "    <g>\n",
              "        <path d=\"M19 3H5c-1.1 0-2 .9-2 2v14c0 1.1.9 2 2 2h14c1.1 0 2-.9 2-2V5c0-1.1-.9-2-2-2zM9 17H7v-7h2v7zm4 0h-2V7h2v10zm4 0h-2v-4h2v4z\"/>\n",
              "    </g>\n",
              "</svg>\n",
              "      </button>\n",
              "\n",
              "<style>\n",
              "  .colab-df-quickchart {\n",
              "      --bg-color: #E8F0FE;\n",
              "      --fill-color: #1967D2;\n",
              "      --hover-bg-color: #E2EBFA;\n",
              "      --hover-fill-color: #174EA6;\n",
              "      --disabled-fill-color: #AAA;\n",
              "      --disabled-bg-color: #DDD;\n",
              "  }\n",
              "\n",
              "  [theme=dark] .colab-df-quickchart {\n",
              "      --bg-color: #3B4455;\n",
              "      --fill-color: #D2E3FC;\n",
              "      --hover-bg-color: #434B5C;\n",
              "      --hover-fill-color: #FFFFFF;\n",
              "      --disabled-bg-color: #3B4455;\n",
              "      --disabled-fill-color: #666;\n",
              "  }\n",
              "\n",
              "  .colab-df-quickchart {\n",
              "    background-color: var(--bg-color);\n",
              "    border: none;\n",
              "    border-radius: 50%;\n",
              "    cursor: pointer;\n",
              "    display: none;\n",
              "    fill: var(--fill-color);\n",
              "    height: 32px;\n",
              "    padding: 0;\n",
              "    width: 32px;\n",
              "  }\n",
              "\n",
              "  .colab-df-quickchart:hover {\n",
              "    background-color: var(--hover-bg-color);\n",
              "    box-shadow: 0 1px 2px rgba(60, 64, 67, 0.3), 0 1px 3px 1px rgba(60, 64, 67, 0.15);\n",
              "    fill: var(--button-hover-fill-color);\n",
              "  }\n",
              "\n",
              "  .colab-df-quickchart-complete:disabled,\n",
              "  .colab-df-quickchart-complete:disabled:hover {\n",
              "    background-color: var(--disabled-bg-color);\n",
              "    fill: var(--disabled-fill-color);\n",
              "    box-shadow: none;\n",
              "  }\n",
              "\n",
              "  .colab-df-spinner {\n",
              "    border: 2px solid var(--fill-color);\n",
              "    border-color: transparent;\n",
              "    border-bottom-color: var(--fill-color);\n",
              "    animation:\n",
              "      spin 1s steps(1) infinite;\n",
              "  }\n",
              "\n",
              "  @keyframes spin {\n",
              "    0% {\n",
              "      border-color: transparent;\n",
              "      border-bottom-color: var(--fill-color);\n",
              "      border-left-color: var(--fill-color);\n",
              "    }\n",
              "    20% {\n",
              "      border-color: transparent;\n",
              "      border-left-color: var(--fill-color);\n",
              "      border-top-color: var(--fill-color);\n",
              "    }\n",
              "    30% {\n",
              "      border-color: transparent;\n",
              "      border-left-color: var(--fill-color);\n",
              "      border-top-color: var(--fill-color);\n",
              "      border-right-color: var(--fill-color);\n",
              "    }\n",
              "    40% {\n",
              "      border-color: transparent;\n",
              "      border-right-color: var(--fill-color);\n",
              "      border-top-color: var(--fill-color);\n",
              "    }\n",
              "    60% {\n",
              "      border-color: transparent;\n",
              "      border-right-color: var(--fill-color);\n",
              "    }\n",
              "    80% {\n",
              "      border-color: transparent;\n",
              "      border-right-color: var(--fill-color);\n",
              "      border-bottom-color: var(--fill-color);\n",
              "    }\n",
              "    90% {\n",
              "      border-color: transparent;\n",
              "      border-bottom-color: var(--fill-color);\n",
              "    }\n",
              "  }\n",
              "</style>\n",
              "\n",
              "      <script>\n",
              "        async function quickchart(key) {\n",
              "          const quickchartButtonEl =\n",
              "            document.querySelector('#' + key + ' button');\n",
              "          quickchartButtonEl.disabled = true;  // To prevent multiple clicks.\n",
              "          quickchartButtonEl.classList.add('colab-df-spinner');\n",
              "          try {\n",
              "            const charts = await google.colab.kernel.invokeFunction(\n",
              "                'suggestCharts', [key], {});\n",
              "          } catch (error) {\n",
              "            console.error('Error during call to suggestCharts:', error);\n",
              "          }\n",
              "          quickchartButtonEl.classList.remove('colab-df-spinner');\n",
              "          quickchartButtonEl.classList.add('colab-df-quickchart-complete');\n",
              "        }\n",
              "        (() => {\n",
              "          let quickchartButtonEl =\n",
              "            document.querySelector('#df-f9dd77d3-6ef3-4bb7-bf66-555d83d210e8 button');\n",
              "          quickchartButtonEl.style.display =\n",
              "            google.colab.kernel.accessAllowed ? 'block' : 'none';\n",
              "        })();\n",
              "      </script>\n",
              "    </div>\n",
              "\n",
              "    </div>\n",
              "  </div>\n"
            ],
            "application/vnd.google.colaboratory.intrinsic+json": {
              "type": "dataframe",
              "variable_name": "data",
              "summary": "{\n  \"name\": \"data\",\n  \"rows\": 1500,\n  \"fields\": [\n    {\n      \"column\": \"Driver_ID\",\n      \"properties\": {\n        \"dtype\": \"number\",\n        \"std\": 433,\n        \"min\": 1,\n        \"max\": 1500,\n        \"num_unique_values\": 1500,\n        \"samples\": [\n          1117,\n          1369,\n          423\n        ],\n        \"semantic_type\": \"\",\n        \"description\": \"\"\n      }\n    },\n    {\n      \"column\": \"Age\",\n      \"properties\": {\n        \"dtype\": \"number\",\n        \"std\": 12,\n        \"min\": 21,\n        \"max\": 64,\n        \"num_unique_values\": 44,\n        \"samples\": [\n          51,\n          62,\n          49\n        ],\n        \"semantic_type\": \"\",\n        \"description\": \"\"\n      }\n    },\n    {\n      \"column\": \"Gender\",\n      \"properties\": {\n        \"dtype\": \"category\",\n        \"num_unique_values\": 3,\n        \"samples\": [\n          \"Other\",\n          \"Male\",\n          \"Female\"\n        ],\n        \"semantic_type\": \"\",\n        \"description\": \"\"\n      }\n    },\n    {\n      \"column\": \"City_Type\",\n      \"properties\": {\n        \"dtype\": \"category\",\n        \"num_unique_values\": 3,\n        \"samples\": [\n          \"Metro\",\n          \"Urban\",\n          \"Town\"\n        ],\n        \"semantic_type\": \"\",\n        \"description\": \"\"\n      }\n    },\n    {\n      \"column\": \"Trips_Completed\",\n      \"properties\": {\n        \"dtype\": \"number\",\n        \"std\": 559,\n        \"min\": 51,\n        \"max\": 1999,\n        \"num_unique_values\": 1046,\n        \"samples\": [\n          1927,\n          903,\n          1023\n        ],\n        \"semantic_type\": \"\",\n        \"description\": \"\"\n      }\n    },\n    {\n      \"column\": \"Avg_Rating\",\n      \"properties\": {\n        \"dtype\": \"number\",\n        \"std\": 0.5719473152104775,\n        \"min\": 3.0,\n        \"max\": 5.0,\n        \"num_unique_values\": 201,\n        \"samples\": [\n          4.9,\n          4.8,\n          4.49\n        ],\n        \"semantic_type\": \"\",\n        \"description\": \"\"\n      }\n    },\n    {\n      \"column\": \"Complaints\",\n      \"properties\": {\n        \"dtype\": \"number\",\n        \"std\": 5,\n        \"min\": 0,\n        \"max\": 19,\n        \"num_unique_values\": 20,\n        \"samples\": [\n          12,\n          6,\n          11\n        ],\n        \"semantic_type\": \"\",\n        \"description\": \"\"\n      }\n    },\n    {\n      \"column\": \"Accidents\",\n      \"properties\": {\n        \"dtype\": \"number\",\n        \"std\": 1,\n        \"min\": 0,\n        \"max\": 4,\n        \"num_unique_values\": 5,\n        \"samples\": [\n          4,\n          0,\n          1\n        ],\n        \"semantic_type\": \"\",\n        \"description\": \"\"\n      }\n    },\n    {\n      \"column\": \"Flagged_For_Review\",\n      \"properties\": {\n        \"dtype\": \"number\",\n        \"std\": 0,\n        \"min\": 0,\n        \"max\": 1,\n        \"num_unique_values\": 2,\n        \"samples\": [\n          0,\n          1\n        ],\n        \"semantic_type\": \"\",\n        \"description\": \"\"\n      }\n    }\n  ]\n}"
            }
          },
          "metadata": {},
          "execution_count": 2
        }
      ],
      "source": [
        "import pandas as pd\n",
        "import numpy as np\n",
        "\n",
        "np.random.seed(77)\n",
        "\n",
        "# Synthetic Dataset for Ride-Hailing Drivers\n",
        "n = 1500\n",
        "genders = [\"Male\", \"Female\", \"Other\"]\n",
        "cities = [\"Metro\", \"Urban\", \"Town\"]\n",
        "\n",
        "data = pd.DataFrame({\n",
        "    \"Driver_ID\": range(1, n+1),\n",
        "    \"Age\": np.random.randint(21, 65, n),\n",
        "    \"Gender\": np.random.choice(genders, n, p=[0.6, 0.35, 0.05]),\n",
        "    \"City_Type\": np.random.choice(cities, n, p=[0.4, 0.45, 0.15]),\n",
        "    \"Trips_Completed\": np.random.randint(50, 2000, n),\n",
        "    \"Avg_Rating\": np.round(np.random.uniform(3.0, 5.0, n), 2),  # rating out of 5\n",
        "    \"Complaints\": np.random.randint(0, 20, n),\n",
        "    \"Accidents\": np.random.randint(0, 5, n)\n",
        "})\n",
        "\n",
        "# Introduce bias: drivers from Metro more likely to be flagged for review\n",
        "data[\"Flagged_For_Review\"] = np.where(\n",
        "    (data[\"Complaints\"] > 5) | (data[\"Accidents\"] > 0),\n",
        "    np.random.choice([1, 0], n, p=[0.7, 0.3]),\n",
        "    np.random.choice([1, 0], n, p=[0.15, 0.85])\n",
        ")\n",
        "\n",
        "mask_metro = data[\"City_Type\"] == \"Metro\"\n",
        "metro_draws = np.random.choice([1, 0], size=len(data), p=[0.4, 0.6])\n",
        "data[\"Flagged_For_Review\"] = np.where(\n",
        "    mask_metro, metro_draws, data[\"Flagged_For_Review\"]\n",
        ")\n",
        "\n",
        "data.head()"
      ]
    },
    {
      "cell_type": "markdown",
      "source": [
        "#Part A — Operationalizing Ethics in Development"
      ],
      "metadata": {
        "id": "OIcvGuH5Lcv5"
      }
    },
    {
      "cell_type": "markdown",
      "source": [
        "#Task 1 — Bias Assessment Before Deployment\n",
        "\n",
        "    Train a baseline model to predict Flagged_For_Review.\n",
        "    Measure positive prediction rates across Gender and City_Type.\n",
        "    Identify if certain groups are unfairly targeted.\n"
      ],
      "metadata": {
        "id": "djm2XsbMLop6"
      }
    },
    {
      "cell_type": "markdown",
      "source": [
        "#Task 2 — Ethics‑Aware Fairness Gate\n",
        "\n",
        "    Create a fairness testing function that:\n",
        "        Calculates demographic disparity.\n",
        "        Fails the build if disparity > 0.08.\n"
      ],
      "metadata": {
        "id": "lvvjoHmVL7Cc"
      }
    },
    {
      "cell_type": "markdown",
      "source": [
        "#Task 3 — Feature Importance Ethics Audit\n",
        "\n",
        "    Output top feature importances.\n",
        "    Flag socio‑demographic features (like Gender, City_Type) if they rank highly.\n",
        "    Suggest mitigations such as masking, regularization, or balanced training data.\n"
      ],
      "metadata": {
        "id": "nbKEwnEQMH8-"
      }
    },
    {
      "cell_type": "markdown",
      "source": [
        "#Task 4 — Ethical Development Documentation\n",
        "\n",
        "    Draft two ethics user stories for the development team that explicitly incorporate bias mitigation and transparency.\n"
      ],
      "metadata": {
        "id": "2oLKLhguMdCg"
      }
    },
    {
      "cell_type": "markdown",
      "source": [
        "#Part B — Operationalizing Ethics in Deployment"
      ],
      "metadata": {
        "id": "6iZBgY0IMklD"
      }
    },
    {
      "cell_type": "markdown",
      "source": [
        "#Task 5 — Accountability via Prediction Logging\n",
        "\n",
        "    Build a prediction API function that logs:\n",
        "        Timestamp\n",
        "        Model version\n",
        "        Inputs\n",
        "        Prediction outcome\n"
      ],
      "metadata": {
        "id": "eKExKtf4MssV"
      }
    },
    {
      "cell_type": "markdown",
      "source": [
        "#Task 6 — Post‑Deployment Monitoring\n",
        "\n",
        "    Simulate continuous fairness metric tracking by group.\n",
        "    Trigger an alert if disparity > 0.08.\n"
      ],
      "metadata": {
        "id": "9U-NZFLmM25i"
      }
    },
    {
      "cell_type": "markdown",
      "source": [
        "#Task 7 — Privacy Protection\n",
        "\n",
        "    Apply hashing to Driver_ID before storing logs to protect identity.\n"
      ],
      "metadata": {
        "id": "pLisYvQuM7iy"
      }
    },
    {
      "cell_type": "markdown",
      "source": [
        "#Task 8 — Inclusivity Feedback Loop\n",
        "\n",
        "    Simulate feedback submission from underrepresented driver groups.\n",
        "    Show how these examples are added to the dataset for retraining.\n"
      ],
      "metadata": {
        "id": "5QZ0cp1VM_qN"
      }
    },
    {
      "cell_type": "markdown",
      "source": [],
      "metadata": {
        "id": "u91hkBOCNFRo"
      }
    },
    {
      "cell_type": "markdown",
      "source": [
        "Task 9 — Incident Response Simulation\n",
        "\n",
        "    Create a mock ethical incident scenario (e.g., high flag rates for one city).\n",
        "    Write a 4‑step incident plan:\n",
        "\n",
        "  1. Detection\n",
        "  2. Investigation\n",
        "  3. Communication\n",
        "  4. Remediation\n"
      ],
      "metadata": {
        "id": "Kl7HNMneNKNS"
      }
    },
    {
      "cell_type": "markdown",
      "source": [
        "Bonus Ideas\n",
        "\n",
        "    Use SHAP values to explain why specific drivers are being flagged.\n",
        "    Implement real‑time dashboard simulation for bias monitoring in deployment.\n"
      ],
      "metadata": {
        "id": "v64_7eevNUYV"
      }
    }
  ]
}