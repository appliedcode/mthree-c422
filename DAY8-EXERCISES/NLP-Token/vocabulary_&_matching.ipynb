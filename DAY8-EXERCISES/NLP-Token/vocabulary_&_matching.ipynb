{
  "nbformat": 4,
  "nbformat_minor": 0,
  "metadata": {
    "colab": {
      "provenance": []
    },
    "kernelspec": {
      "name": "python3",
      "display_name": "Python 3"
    },
    "language_info": {
      "name": "python"
    }
  },
  "cells": [
    {
      "cell_type": "code",
      "execution_count": 1,
      "metadata": {
        "id": "gpeLmwKBy66A"
      },
      "outputs": [],
      "source": [
        "import spacy\n",
        "nlp = spacy.load('en_core_web_sm')"
      ]
    },
    {
      "cell_type": "code",
      "source": [
        "# Import the Matcher library\n",
        "from spacy.matcher import Matcher\n",
        "matcher = Matcher(nlp.vocab)"
      ],
      "metadata": {
        "id": "3fJx96ijzUJb"
      },
      "execution_count": 2,
      "outputs": []
    },
    {
      "cell_type": "code",
      "source": [
        "pattern1 = [{'LOWER': 'solarpower'}]\n",
        "pattern2 = [{'LOWER': 'solar'}, {'LOWER': 'power'}]\n",
        "pattern3 = [{'LOWER': 'solar'}, {'IS_PUNCT': True}, {'LOWER': 'power'}]\n",
        "\n",
        "# Add rule to the matcher (new syntax)\n",
        "matcher.add('SolarPower', [pattern1, pattern2, pattern3])\n",
        "\n",
        "# Test on a sample sentence\n",
        "doc = nlp(\"Solar power is becoming popular. solarpower plants are growing. solar-power is another form.\")\n",
        "\n",
        "found_matches = matcher(doc)\n",
        "print(found_matches)\n",
        "\n",
        "# Apply matcher\n",
        "matches = matcher(doc)\n",
        "\n",
        "for match_id, start, end in found_matches:\n",
        "    string_id = nlp.vocab.strings[match_id]  # get string representation\n",
        "    span = doc[start:end]                    # get the matched span\n",
        "    print(match_id, string_id, start, end, span.text)"
      ],
      "metadata": {
        "colab": {
          "base_uri": "https://localhost:8080/"
        },
        "id": "2_-QEA3tzV6t",
        "outputId": "17e99441-ff90-41cf-e13c-6f08fcb11def"
      },
      "execution_count": 5,
      "outputs": [
        {
          "output_type": "stream",
          "name": "stdout",
          "text": [
            "[(8656102463236116519, 0, 2), (8656102463236116519, 6, 7), (8656102463236116519, 11, 14)]\n",
            "8656102463236116519 SolarPower 0 2 Solar power\n",
            "8656102463236116519 SolarPower 6 7 solarpower\n",
            "8656102463236116519 SolarPower 11 14 solar-power\n"
          ]
        }
      ]
    },
    {
      "cell_type": "code",
      "source": [
        "# Setting pattern options and quantifiers\n",
        "# # Redefine the patterns:\n",
        "# pattern1 = [{'LOWER': 'solarpower'}]\n",
        "# pattern2 = [{'LOWER': 'solar'}, {'IS_PUNCT': True, 'OP':'*'}, {'LOWER': 'power'}]\n",
        "\n",
        "# # Remove the old patterns to avoid duplication:\n",
        "# matcher.remove('SolarPower')\n",
        "\n",
        "# # Add the new set of patterns to the 'SolarPower' matcher:\n",
        "# matcher.add('SolarPower', None, pattern1, pattern2)\n",
        "\n",
        "import spacy\n",
        "from spacy.matcher import Matcher\n",
        "\n",
        "# Load model\n",
        "nlp = spacy.load(\"en_core_web_sm\")\n",
        "\n",
        "# Create Matcher\n",
        "matcher = Matcher(nlp.vocab)\n",
        "\n",
        "# Define patterns with quantifier using 'OP'\n",
        "pattern1 = [{'LOWER': 'solarpower'}]\n",
        "pattern2 = [{'LOWER': 'solar'}, {'IS_PUNCT': True, 'OP':'*'}, {'LOWER': 'power'}]\n",
        "\n",
        "# Add pattern using updated spaCy syntax\n",
        "matcher.add('SolarPower', [pattern1, pattern2])\n",
        "\n",
        "# Test text\n",
        "doc = nlp(\"Solar power and solarpower are often written as solar-power or even solar--power.\")\n",
        "\n",
        "# Apply matcher\n",
        "matches = matcher(doc)\n",
        "\n",
        "# Display results\n",
        "for match_id, start, end in matches:\n",
        "    span = doc[start:end]\n",
        "    print(\"Matched span:\", span.text)\n"
      ],
      "metadata": {
        "colab": {
          "base_uri": "https://localhost:8080/"
        },
        "id": "aAMF7hM1zYMC",
        "outputId": "f79fa1e5-837b-405d-eacb-562cb71e9ff6"
      },
      "execution_count": 8,
      "outputs": [
        {
          "output_type": "stream",
          "name": "stdout",
          "text": [
            "Matched span: Solar power\n",
            "Matched span: solarpower\n",
            "Matched span: solar-power\n",
            "Matched span: solar--power\n"
          ]
        }
      ]
    },
    {
      "cell_type": "code",
      "source": [
        "found_matches = matcher(doc)\n",
        "print(found_matches)"
      ],
      "metadata": {
        "colab": {
          "base_uri": "https://localhost:8080/"
        },
        "id": "UW-1ucXZ0kof",
        "outputId": "1e5a3c6d-fcd2-434e-c1b8-8f77b8e4953d"
      },
      "execution_count": 9,
      "outputs": [
        {
          "output_type": "stream",
          "name": "stdout",
          "text": [
            "[(8656102463236116519, 0, 2), (8656102463236116519, 3, 4), (8656102463236116519, 8, 11), (8656102463236116519, 13, 16)]\n"
          ]
        }
      ]
    },
    {
      "cell_type": "code",
      "source": [
        "import spacy\n",
        "from spacy.matcher import Matcher\n",
        "\n",
        "# Load spaCy model\n",
        "nlp = spacy.load(\"en_core_web_sm\")\n",
        "\n",
        "# Create matcher object\n",
        "matcher = Matcher(nlp.vocab)\n",
        "\n",
        "# Define patterns (matching lemma for 'power')\n",
        "pattern1 = [{'LOWER': 'solarpower'}]\n",
        "pattern2 = [{'LOWER': 'solar'}, {'IS_PUNCT': True, 'OP':'*'}, {'LEMMA': 'power'}]\n",
        "\n",
        "# Safely remove old rule if it exists\n",
        "if 'SolarPower' in matcher:\n",
        "    matcher.remove('SolarPower')\n",
        "\n",
        "# Add updated patterns using modern spaCy syntax\n",
        "matcher.add('SolarPower', [pattern1, pattern2])\n",
        "\n",
        "# Test on text\n",
        "doc = nlp(\"They invested in solar-power technologies and solarpower plants.\")\n",
        "\n",
        "# Apply matcher\n",
        "matches = matcher(doc)\n",
        "for match_id, start, end in matches:\n",
        "    span = doc[start:end]\n",
        "    print(\"Matched span:\", span.text)\n"
      ],
      "metadata": {
        "colab": {
          "base_uri": "https://localhost:8080/"
        },
        "id": "kYS-FEO30rNh",
        "outputId": "ba9b69f7-ffc9-41f2-a575-cb24bd951ae8"
      },
      "execution_count": 11,
      "outputs": [
        {
          "output_type": "stream",
          "name": "stdout",
          "text": [
            "Matched span: solar-power\n",
            "Matched span: solarpower\n"
          ]
        }
      ]
    },
    {
      "cell_type": "code",
      "source": [
        "doc2 = nlp(u'Solar-powered energy runs solar-powered cars.')"
      ],
      "metadata": {
        "id": "KbejPdNy0vvH"
      },
      "execution_count": 12,
      "outputs": []
    },
    {
      "cell_type": "code",
      "source": [
        "found_matches = matcher(doc2)\n",
        "print(found_matches)"
      ],
      "metadata": {
        "colab": {
          "base_uri": "https://localhost:8080/"
        },
        "id": "ptJI2XgJ09kl",
        "outputId": "cdf1c794-1e8d-4137-eb1a-fda144582aae"
      },
      "execution_count": 13,
      "outputs": [
        {
          "output_type": "stream",
          "name": "stdout",
          "text": [
            "[(8656102463236116519, 0, 3), (8656102463236116519, 5, 8)]\n"
          ]
        }
      ]
    },
    {
      "cell_type": "code",
      "source": [
        "# pattern1 = [{'LOWER': 'solarpower'}]\n",
        "# pattern2 = [{'LOWER': 'solar'}, {'IS_PUNCT': True, 'OP':'*'}, {'LOWER': 'power'}]\n",
        "# pattern3 = [{'LOWER': 'solarpowered'}]\n",
        "# pattern4 = [{'LOWER': 'solar'}, {'IS_PUNCT': True, 'OP':'*'}, {'LOWER': 'powered'}]\n",
        "\n",
        "# # Remove the old patterns to avoid duplication:\n",
        "# matcher.remove('SolarPower')\n",
        "\n",
        "# # Add the new set of patterns to the 'SolarPower' matcher:\n",
        "# matcher.add('SolarPower', None, pattern1, pattern2, pattern3, pattern4)\n",
        "\n",
        "import spacy\n",
        "from spacy.matcher import Matcher\n",
        "\n",
        "# Load the language model\n",
        "nlp = spacy.load(\"en_core_web_sm\")\n",
        "\n",
        "# Initialize the matcher\n",
        "matcher = Matcher(nlp.vocab)\n",
        "\n",
        "# Define patterns\n",
        "pattern1 = [{'LOWER': 'solarpower'}]\n",
        "pattern2 = [{'LOWER': 'solar'}, {'IS_PUNCT': True, 'OP': '*'}, {'LOWER': 'power'}]\n",
        "pattern3 = [{'LOWER': 'solarpowered'}]\n",
        "pattern4 = [{'LOWER': 'solar'}, {'IS_PUNCT': True, 'OP': '*'}, {'LOWER': 'powered'}]\n",
        "\n",
        "# Remove old patterns if they exist\n",
        "if 'SolarPower' in matcher:\n",
        "    matcher.remove('SolarPower')\n",
        "\n",
        "# Add patterns using the correct syntax\n",
        "matcher.add('SolarPower', [pattern1, pattern2, pattern3, pattern4])\n",
        "\n",
        "# Test it\n",
        "doc = nlp(\"They invested in solar-powered panels, solarpowered devices, and traditional solar power.\")\n",
        "\n",
        "matches = matcher(doc)\n",
        "for match_id, start, end in matches:\n",
        "    span = doc[start:end]\n",
        "    print(\"Matched span:\", span.text)\n"
      ],
      "metadata": {
        "colab": {
          "base_uri": "https://localhost:8080/"
        },
        "id": "_hzUBjhB1B6O",
        "outputId": "9d3ba430-3f82-4614-c45e-a814123c0528"
      },
      "execution_count": 15,
      "outputs": [
        {
          "output_type": "stream",
          "name": "stdout",
          "text": [
            "Matched span: solar-powered\n",
            "Matched span: solarpowered\n",
            "Matched span: solar power\n"
          ]
        }
      ]
    },
    {
      "cell_type": "code",
      "source": [
        "found_matches = matcher(doc2)\n",
        "print(found_matches)\n"
      ],
      "metadata": {
        "colab": {
          "base_uri": "https://localhost:8080/"
        },
        "id": "CnJwCeIB1ZDn",
        "outputId": "173a4f1c-b330-40c0-d018-c936a2e8cc08"
      },
      "execution_count": 17,
      "outputs": [
        {
          "output_type": "stream",
          "name": "stdout",
          "text": [
            "[(8656102463236116519, 0, 3), (8656102463236116519, 5, 8)]\n"
          ]
        }
      ]
    },
    {
      "cell_type": "code",
      "source": [
        "# Example\n",
        "import spacy\n",
        "from spacy.matcher import Matcher\n",
        "\n",
        "# Load the model\n",
        "nlp = spacy.load(\"en_core_web_sm\")\n",
        "\n",
        "# Initialize the matcher\n",
        "matcher = Matcher(nlp.vocab)\n",
        "\n",
        "# Define the hashtag pattern: # followed by any token\n",
        "hashtag_pattern = [{'ORTH': '#'}, {}]\n",
        "\n",
        "# Add pattern\n",
        "matcher.add(\"HASHTAG_PATTERN\", [hashtag_pattern])\n",
        "\n",
        "# Sample text\n",
        "doc = nlp(\"Follow #AI and #DataScience trends. Also check #2025Trends!\")\n",
        "\n",
        "# Apply matcher\n",
        "matches = matcher(doc)\n",
        "for match_id, start, end in matches:\n",
        "    span = doc[start:end]\n",
        "    print(\"Matched span:\", span.text)\n"
      ],
      "metadata": {
        "colab": {
          "base_uri": "https://localhost:8080/"
        },
        "id": "OjcYTh0g1cUu",
        "outputId": "053362f6-1b4d-4685-c896-25221866cbed"
      },
      "execution_count": 18,
      "outputs": [
        {
          "output_type": "stream",
          "name": "stdout",
          "text": [
            "Matched span: #AI\n",
            "Matched span: #DataScience\n",
            "Matched span: #2025Trends\n"
          ]
        }
      ]
    },
    {
      "cell_type": "code",
      "source": [
        "# phrase mathcer\n",
        "import spacy\n",
        "nlp = spacy.load('en_core_web_sm')\n",
        "from spacy.matcher import PhraseMatcher\n",
        "matcher = PhraseMatcher(nlp.vocab)"
      ],
      "metadata": {
        "id": "aE0xUcba1poG"
      },
      "execution_count": 26,
      "outputs": []
    },
    {
      "cell_type": "code",
      "source": [
        "import requests\n",
        "from io import StringIO\n",
        "from bs4 import BeautifulSoup\n",
        "\n",
        "# URL of the page to treat as a text file\n",
        "url = \"https://en.wikipedia.org/wiki/Reaganomics\"\n",
        "\n",
        "# 1. Fetch the HTML content\n",
        "response = requests.get(url)\n",
        "response.raise_for_status()  # Stop if there was an HTTP error\n",
        "\n",
        "# 2. Wrap the HTML in a file‐like buffer\n",
        "html_stream = StringIO(response.text)\n",
        "\n",
        "# 3. (Optional) Read the first few lines as you would a file\n",
        "print(\"First 5 lines of raw HTML:\\n\")\n",
        "for _ in range(5):\n",
        "    print(html_stream.readline().strip())\n",
        "\n",
        "# 4. Parse the HTML and extract plain‐text paragraphs\n",
        "html_stream.seek(0)  # Rewind to the beginning\n",
        "soup = BeautifulSoup(html_stream, \"html.parser\")\n",
        "\n",
        "paragraphs = [p.get_text() for p in soup.select(\"p\")]\n",
        "text_content = \"\\n\\n\".join(paragraphs)\n",
        "\n",
        "# 5. Work with the plain‐text content\n",
        "print(\"\\nFirst 500 characters of extracted text:\\n\")\n",
        "print(text_content[:500])\n",
        "\n",
        "# 6. Example: Save extracted text to a local file\n",
        "with open(\"reaganomics.txt\", \"w\", encoding=\"utf-8\") as f:\n",
        "    f.write(text_content)\n",
        "\n",
        "print(\"\\n Extracted text saved to reaganomics.txt\")"
      ],
      "metadata": {
        "colab": {
          "base_uri": "https://localhost:8080/"
        },
        "id": "8dBvzMQI1yqm",
        "outputId": "e5af5036-b85f-4e96-9cff-95e8b41fc0af"
      },
      "execution_count": 27,
      "outputs": [
        {
          "output_type": "stream",
          "name": "stdout",
          "text": [
            "First 5 lines of raw HTML:\n",
            "\n",
            "<!DOCTYPE html>\n",
            "<html class=\"client-nojs vector-feature-language-in-header-enabled vector-feature-language-in-main-page-header-disabled vector-feature-page-tools-pinned-disabled vector-feature-toc-pinned-clientpref-1 vector-feature-main-menu-pinned-disabled vector-feature-limited-width-clientpref-1 vector-feature-limited-width-content-enabled vector-feature-custom-font-size-clientpref-1 vector-feature-appearance-pinned-clientpref-1 vector-feature-night-mode-enabled skin-theme-clientpref-day vector-sticky-header-enabled vector-toc-available\" lang=\"en\" dir=\"ltr\">\n",
            "<head>\n",
            "<meta charset=\"UTF-8\">\n",
            "<title>Reaganomics - Wikipedia</title>\n",
            "\n",
            "First 500 characters of extracted text:\n",
            "\n",
            "\n",
            "\n",
            "\n",
            "Reaganomics (/reɪɡəˈnɒmɪks/ ⓘ; a portmanteau of Reagan and economics attributed to Paul Harvey),[1] or Reaganism, were the neoliberal[2][3][4] economic policies promoted by U.S. President Ronald Reagan during the 1980s. These policies focused mainly on supply-side economics; however, opponents (including some Republicans) characterized them as \"trickle-down economics\" or Voodoo Economics,[5][6] while Reagan and his advocates preferred to call it free-market economics.\n",
            "\n",
            "\n",
            "The pillars of Reagan'\n",
            "\n",
            " Extracted text saved to reaganomics.txt\n"
          ]
        }
      ]
    },
    {
      "cell_type": "code",
      "source": [
        "with open('reaganomics.txt', encoding='utf8') as f:\n",
        "    doc3 = nlp(f.read())"
      ],
      "metadata": {
        "id": "Em8rF46b28CG"
      },
      "execution_count": 28,
      "outputs": []
    },
    {
      "cell_type": "code",
      "source": [
        "# First, create a list of match phrases:\n",
        "phrase_list = ['voodoo economics', 'supply-side economics', 'trickle-down economics', 'free-market economics']\n",
        "\n",
        "# Next, convert each phrase to a Doc object:\n",
        "phrase_patterns = [nlp(text) for text in phrase_list]\n",
        "\n",
        "# Pass each Doc object into matcher (note the use of the asterisk!):\n",
        "matcher.add('VoodooEconomics', None, *phrase_patterns)\n",
        "\n",
        "# Build a list of matches:\n",
        "matches = matcher(doc3)"
      ],
      "metadata": {
        "id": "kn1pmfYY3C49"
      },
      "execution_count": 29,
      "outputs": []
    },
    {
      "cell_type": "code",
      "source": [
        "matches"
      ],
      "metadata": {
        "colab": {
          "base_uri": "https://localhost:8080/"
        },
        "id": "-kg23tmZ3Fz3",
        "outputId": "b662c5cd-3a68-4dfe-c784-3e7e1619434f"
      },
      "execution_count": 30,
      "outputs": [
        {
          "output_type": "execute_result",
          "data": {
            "text/plain": [
              "[(3473369816841043438, 41, 45),\n",
              " (3473369816841043438, 58, 62),\n",
              " (3473369816841043438, 76, 80),\n",
              " (3473369816841043438, 679, 683)]"
            ]
          },
          "metadata": {},
          "execution_count": 30
        }
      ]
    },
    {
      "cell_type": "code",
      "source": [
        "doc3[:70]"
      ],
      "metadata": {
        "colab": {
          "base_uri": "https://localhost:8080/"
        },
        "id": "p0CcLeY_3Gcj",
        "outputId": "f5227ff4-422f-49b6-fde4-9e4d5c2615f3"
      },
      "execution_count": 31,
      "outputs": [
        {
          "output_type": "execute_result",
          "data": {
            "text/plain": [
              "\n",
              "\n",
              "\n",
              "Reaganomics (/reɪɡəˈnɒmɪks/ ⓘ; a portmanteau of Reagan and economics attributed to Paul Harvey),[1] or Reaganism, were the neoliberal[2][3][4] economic policies promoted by U.S. President Ronald Reagan during the 1980s. These policies focused mainly on supply-side economics; however, opponents (including some Republicans) characterized them as \"trickle-down economics\" or Voodoo Economics,[5][6] while Reagan and"
            ]
          },
          "metadata": {},
          "execution_count": 31
        }
      ]
    },
    {
      "cell_type": "code",
      "source": [
        "# viewing mathces\n",
        "\n",
        "doc3[665:685]"
      ],
      "metadata": {
        "colab": {
          "base_uri": "https://localhost:8080/"
        },
        "id": "KWl9fMLe3IgA",
        "outputId": "0b500d86-e6f6-4b37-a9d9-bbf9e864e200"
      },
      "execution_count": 32,
      "outputs": [
        {
          "output_type": "execute_result",
          "data": {
            "text/plain": [
              "New Deal policies. At the same time he attracted a following from the supply-side economics movement,"
            ]
          },
          "metadata": {},
          "execution_count": 32
        }
      ]
    },
    {
      "cell_type": "code",
      "source": [
        "doc3[2975:2995]"
      ],
      "metadata": {
        "colab": {
          "base_uri": "https://localhost:8080/"
        },
        "id": "-HHax65_3Rfs",
        "outputId": "9b92298b-4839-4e10-be76-6311d56ce036"
      },
      "execution_count": 33,
      "outputs": [
        {
          "output_type": "execute_result",
          "data": {
            "text/plain": [
              "of lawsuits by the ACLU (and similar organizations) against mental institutions.[73]\n",
              "\n",
              "\n",
              "During the Reagan administration,"
            ]
          },
          "metadata": {},
          "execution_count": 33
        }
      ]
    },
    {
      "cell_type": "code",
      "source": [
        "# Build a list of sentences\n",
        "sents = [sent for sent in doc3.sents]\n",
        "\n",
        "# In the next section we'll see that sentences contain start and end token values:\n",
        "print(sents[0].start, sents[0].end)"
      ],
      "metadata": {
        "colab": {
          "base_uri": "https://localhost:8080/"
        },
        "id": "uA43-RUs3UKB",
        "outputId": "2cff5125-857c-4751-bb8b-6de09c764bb6"
      },
      "execution_count": 34,
      "outputs": [
        {
          "output_type": "stream",
          "name": "stdout",
          "text": [
            "0 36\n"
          ]
        }
      ]
    },
    {
      "cell_type": "code",
      "source": [
        "# Iterate over the sentence list until the sentence end value exceeds a match start value:\n",
        "for sent in sents:\n",
        "    if matches[0][1] < sent.end:  # this is the fifth match, that starts at doc3[673]\n",
        "        print(sent)\n",
        "        break"
      ],
      "metadata": {
        "id": "Xc1qZlvp3W5t",
        "outputId": "a620bd43-18a3-4aaa-be4f-4cb07b8f62f4",
        "colab": {
          "base_uri": "https://localhost:8080/"
        }
      },
      "execution_count": 35,
      "outputs": [
        {
          "output_type": "stream",
          "name": "stdout",
          "text": [
            "These policies focused mainly on supply-side economics; however, opponents (including some Republicans) characterized them as \"trickle-down economics\" or Voodoo Economics,[5][6] while Reagan and his advocates preferred to call it free-market economics.\n",
            "\n",
            "\n",
            "\n"
          ]
        }
      ]
    }
  ]
}