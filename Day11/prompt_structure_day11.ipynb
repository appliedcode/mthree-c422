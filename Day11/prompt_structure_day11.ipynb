{
  "cells": [
    {
      "cell_type": "markdown",
      "source": [
        "# 🧪 Colab Lab: Mastering Prompt Structure\n",
        "\n"
      ],
      "metadata": {
        "id": "hFnkDgKDTUgk"
      }
    },
    {
      "cell_type": "code",
      "source": [
        "!pip install --quiet openai\n",
        "\n",
        "from google.colab import userdata\n",
        "import os\n",
        "from openai import OpenAI\n",
        "\n",
        "api_key = userdata.get('OPENAI_API_KEY')\n",
        "if not api_key:\n",
        "    raise ValueError(\"❌ API key not found. Please set with userdata.set(...)\")\n",
        "\n",
        "os.environ[\"OPENAI_API_KEY\"] = api_key\n",
        "client = OpenAI(api_key=os.environ[\"OPENAI_API_KEY\"])"
      ],
      "metadata": {
        "id": "b-MrRDkKZxI6"
      },
      "execution_count": 8,
      "outputs": []
    },
    {
      "cell_type": "markdown",
      "source": [
        "1️⃣ CLARITY — Make the Task Unambiguous\n",
        "Task:\n",
        "Write a prompt asking the model to explain Newton’s First Law, first unclearly, then with clear instructions."
      ],
      "metadata": {
        "id": "DWPZphMqQ748"
      }
    },
    {
      "cell_type": "code",
      "source": [
        "# Unclear prompt:\n",
        "unclear = \"Tell me about Newton's law.\"\n",
        "# Clearer version:\n",
        "clear = \"Write a 3-sentence explanation of Newton’s First Law in simple language for a 12-year-old.\"\n",
        "\n",
        "for prompt in [unclear, clear]:\n",
        "    resp = client.chat.completions.create(\n",
        "        model=\"gpt-4o-mini\",\n",
        "        messages=[{\"role\": \"user\", \"content\": prompt}],\n",
        "        max_tokens=80,\n",
        "    )\n",
        "    print(f\"\\nPrompt: {prompt}\\n---Answer---\\n{resp.choices[0].message.content.strip()}\")\n"
      ],
      "metadata": {
        "id": "EMw2mUTcRC87",
        "colab": {
          "base_uri": "https://localhost:8080/"
        },
        "outputId": "88dbdb15-000f-45fe-d554-d4f78694fa59"
      },
      "execution_count": 9,
      "outputs": [
        {
          "output_type": "stream",
          "name": "stdout",
          "text": [
            "\n",
            "Prompt: Tell me about Newton's law.\n",
            "---Answer---\n",
            "Newton's laws of motion are three fundamental principles that form the foundation of classical mechanics. They describe the relationship between the motion of an object and the forces acting on it. Here's a brief overview of each law:\n",
            "\n",
            "1. **Newton's First Law of Motion (Law of Inertia)**: \n",
            "   This law states that an object at rest will remain at rest, and an object in motion will continue\n",
            "\n",
            "Prompt: Write a 3-sentence explanation of Newton’s First Law in simple language for a 12-year-old.\n",
            "---Answer---\n",
            "Newton’s First Law says that things like to keep doing what they’re already doing. If something is sitting still, it will stay still until something pushes or pulls it. And if it’s moving, it will keep moving at the same speed in the same direction unless something stops it or changes its path.\n"
          ]
        }
      ]
    },
    {
      "cell_type": "markdown",
      "source": [
        "2️⃣ CONTEXT — Inject Relevant Details\n",
        "## Task:\n",
        "- Give more context to the model."
      ],
      "metadata": {
        "id": "vL86MpLGRHN5"
      }
    },
    {
      "cell_type": "code",
      "source": [
        "prompt = (\"You are a science teacher. Explain Newton’s First Law with an example involving riding a bike, in 4 sentences.\")\n",
        "resp = client.chat.completions.create(\n",
        "    model=\"gpt-4o-mini\",\n",
        "    messages=[{\"role\": \"user\", \"content\": prompt}],\n",
        "    max_tokens=100,\n",
        ")\n",
        "print(resp.choices[0].message.content.strip())"
      ],
      "metadata": {
        "id": "8Txjrm0JRGnU",
        "colab": {
          "base_uri": "https://localhost:8080/"
        },
        "outputId": "3dc8d2a6-faba-4ef2-f726-a57d57e09e62"
      },
      "execution_count": 10,
      "outputs": [
        {
          "output_type": "stream",
          "name": "stdout",
          "text": [
            "Newton’s First Law states that an object at rest will remain at rest, and an object in motion will continue in motion with the same speed and in the same direction unless acted upon by an unbalanced force. When you ride a bike, the bike will keep moving forward once you start pedaling due to its inertia, which is the tendency of an object to resist changes in its state of motion. If you stop pedaling or apply the brakes, the bike will eventually come to a stop because of\n"
          ]
        }
      ]
    },
    {
      "cell_type": "markdown",
      "source": [
        "3️⃣ CONSTRAINTS — Define Output Boundaries\n",
        "## Task:\n",
        "- Ask for specific format, word count, or do’s and don'ts."
      ],
      "metadata": {
        "id": "Y7acccp-RPe4"
      }
    },
    {
      "cell_type": "code",
      "source": [
        "prompt = (\n",
        "    \"Summarize Newton’s First Law in exactly 2 bullet points and avoid technical jargon.\"\n",
        ")\n",
        "resp = client.chat.completions.create(\n",
        "    model=\"gpt-4o-mini\",\n",
        "    messages=[{\"role\": \"user\", \"content\": prompt}],\n",
        "    max_tokens=60,\n",
        ")\n",
        "print(resp.choices[0].message.content.strip())\n"
      ],
      "metadata": {
        "id": "nUiJywafRO9O",
        "colab": {
          "base_uri": "https://localhost:8080/"
        },
        "outputId": "aeeefe07-2987-486f-d7b4-746b6b54f891"
      },
      "execution_count": 11,
      "outputs": [
        {
          "output_type": "stream",
          "name": "stdout",
          "text": [
            "- An object at rest will stay still, and an object in motion will keep moving in the same direction unless something causes it to change.\n",
            "- This means things don't start moving or stop moving on their own; they need a push or pull from outside.\n"
          ]
        }
      ]
    },
    {
      "cell_type": "markdown",
      "source": [
        "4️⃣ ORGANIZATION — Structure the Prompt\n",
        "## Task:\n",
        "- Use sections (instructions, context, output format)."
      ],
      "metadata": {
        "id": "wZqNlKK7RVBl"
      }
    },
    {
      "cell_type": "code",
      "source": [
        "prompt = \"\"\"\n",
        "### Instruction:\n",
        "Explain Newton's First Law to a beginner.\n",
        "### Context:\n",
        "The reader is learning about physics for the first time.\n",
        "### Output:\n",
        "Respond in 2 simple sentences and give a real-life example.\n",
        "\"\"\"\n",
        "resp = client.chat.completions.create(\n",
        "    model=\"gpt-4o-mini\",\n",
        "    messages=[{\"role\": \"user\", \"content\": prompt}],\n",
        "    max_tokens=80,\n",
        ")\n",
        "print(resp.choices[0].message.content.strip())"
      ],
      "metadata": {
        "id": "lRltbyqbRZAr",
        "colab": {
          "base_uri": "https://localhost:8080/"
        },
        "outputId": "5aca0714-2d3e-4819-f66d-a2903f39dd47"
      },
      "execution_count": 12,
      "outputs": [
        {
          "output_type": "stream",
          "name": "stdout",
          "text": [
            "Newton's First Law states that an object at rest will stay at rest, and an object in motion will stay in motion at the same speed and in the same direction, unless acted upon by an external force. For example, when a hockey puck slides on ice, it will keep moving in a straight line until the friction of the ice or the stick of a player stops it.\n"
          ]
        }
      ]
    },
    {
      "cell_type": "markdown",
      "source": [
        " 5️⃣ PREFIXES & LABELS — Make Inputs and Outputs Explicit\n",
        "## Task:\n",
        "- Use prefixes/labels in your examples for few-shot prompts."
      ],
      "metadata": {
        "id": "mkZgqNg1Rjla"
      }
    },
    {
      "cell_type": "code",
      "source": [
        "prompt = \"\"\"Explain Newton’s First Law.\n",
        "\n",
        "Example 1:\n",
        "Q: What is Newton’s First Law?\n",
        "A: An object will keep moving in the same way unless acted on by another force.\n",
        "\n",
        "Example 2:\n",
        "Q: Can you explain Newton’s First Law using a rolling ball?\n",
        "A: A rolling ball keeps moving until friction or something else stops it.\n",
        "\n",
        "Now, give a new example using a moving car.\n",
        "\"\"\"\n",
        "resp = client.chat.completions.create(\n",
        "    model=\"gpt-4o-mini\",\n",
        "    messages=[{\"role\": \"user\", \"content\": prompt}],\n",
        "    max_tokens=80,\n",
        ")\n",
        "print(resp.choices[0].message.content.strip())"
      ],
      "metadata": {
        "id": "_u9T2_FKRjFP",
        "colab": {
          "base_uri": "https://localhost:8080/"
        },
        "outputId": "990e7cb5-36ff-45fa-93ab-70af03560988"
      },
      "execution_count": 13,
      "outputs": [
        {
          "output_type": "stream",
          "name": "stdout",
          "text": [
            "Q: Can you explain Newton’s First Law using a moving car?  \n",
            "A: A moving car will continue to travel at the same speed and in the same direction unless the driver applies the brakes, turns the steering wheel, or another force, like a speed bump or a collision, acts on it to change its motion.\n"
          ]
        }
      ]
    },
    {
      "cell_type": "markdown",
      "source": [
        "6️⃣ DECOMPOSITION — Break Down Complex Tasks\n",
        "## Task:\n",
        "- Guide the model with step-by-step or modular instructions."
      ],
      "metadata": {
        "id": "8FHDll-bRscf"
      }
    },
    {
      "cell_type": "code",
      "metadata": {
        "colab": {
          "base_uri": "https://localhost:8080/"
        },
        "id": "5d779c68",
        "outputId": "bb9ae44f-f4be-4db4-d6f2-369dff9c3cdc"
      },
      "source": [
        "prompt = \"\"\"\n",
        "Explain Newton's First Law by following these steps:\n",
        "1. State the law in simple terms.\n",
        "2. Provide a real-life example.\n",
        "3. Briefly explain why the example demonstrates the law.\n",
        "\"\"\"\n",
        "resp = client.chat.completions.create(\n",
        "    model=\"gpt-4o-mini\",\n",
        "    messages=[{\"role\": \"user\", \"content\": prompt}],\n",
        "    max_tokens=100,\n",
        ")\n",
        "print(resp.choices[0].message.content.strip())"
      ],
      "execution_count": 14,
      "outputs": [
        {
          "output_type": "stream",
          "name": "stdout",
          "text": [
            "### 1. State the law in simple terms.\n",
            "Newton's First Law states that an object at rest will stay at rest, and an object in motion will continue to move at a constant speed in a straight line, unless acted upon by a net external force.\n",
            "\n",
            "### 2. Provide a real-life example.\n",
            "Imagine a soccer ball lying on a field. It will remain stationary unless someone kicks it or it is affected by something like wind. Once the ball is kicked, it will roll across the\n"
          ]
        }
      ]
    }
  ],
  "metadata": {
    "colab": {
      "provenance": []
    },
    "kernelspec": {
      "display_name": "Python 3",
      "name": "python3"
    }
  },
  "nbformat": 4,
  "nbformat_minor": 0
}