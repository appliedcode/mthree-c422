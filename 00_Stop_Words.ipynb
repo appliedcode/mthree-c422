{
  "cells": [
    {
      "cell_type": "markdown",
      "metadata": {
        "id": "view-in-github",
        "colab_type": "text"
      },
      "source": [
        "<a href=\"https://colab.research.google.com/github/appliedcode/mthree-c422/blob/mthree-c422-Avantika/00_Stop_Words.ipynb\" target=\"_parent\"><img src=\"https://colab.research.google.com/assets/colab-badge.svg\" alt=\"Open In Colab\"/></a>"
      ]
    },
    {
      "cell_type": "markdown",
      "metadata": {
        "id": "foGcQ5tylucs"
      },
      "source": [
        "___\n",
        "\n",
        "<a href='http://www.pieriandata.com'> <img src='../Pierian_Data_Logo.png' /></a>\n",
        "___"
      ]
    },
    {
      "cell_type": "markdown",
      "metadata": {
        "id": "Om-jlxHjlucu"
      },
      "source": [
        "# Stop Words\n",
        "Words like \"a\" and \"the\" appear so frequently that they don't require tagging as thoroughly as nouns, verbs and modifiers. We call these *stop words*, and they can be filtered from the text to be processed. spaCy holds a built-in list of some 305 English stop words."
      ]
    },
    {
      "cell_type": "code",
      "execution_count": 1,
      "metadata": {
        "id": "9L84iB07lucv"
      },
      "outputs": [],
      "source": [
        "# Perform standard imports:\n",
        "import spacy\n",
        "nlp = spacy.load('en_core_web_sm')"
      ]
    },
    {
      "cell_type": "code",
      "execution_count": 2,
      "metadata": {
        "colab": {
          "base_uri": "https://localhost:8080/"
        },
        "id": "p8VxFYXllucy",
        "outputId": "d432b6e7-7e30-408a-88aa-67ce1742ba52"
      },
      "outputs": [
        {
          "output_type": "stream",
          "name": "stdout",
          "text": [
            "{'though', 'nevertheless', 'amount', 'sometime', 'there', 'you', 'am', 'keep', 'upon', 'ever', 'once', 'with', 'still', 'third', 'them', 'now', 'toward', 'six', 'against', 'us', 'hundred', 'seem', 'however', 'hers', '‘ve', 'hereby', 'using', 'become', 'whatever', 'part', 'due', 'most', 'fifty', 'move', 'less', 'not', 'quite', 'she', 'everything', 'yourselves', 'via', '’re', 'where', 'himself', 'call', 'least', 'without', 'he', 'made', 'above', 'themselves', 'mostly', 'one', 'such', 'wherever', 'enough', 'by', 'done', 'of', 'serious', 'no', 'another', 'noone', 'further', 'became', 'even', 'any', 'did', 'so', 'cannot', 'side', 'will', 'if', 'on', 'more', '‘d', 'under', 'every', 'again', 'last', 'towards', 'either', 'never', 'forty', 'beside', 'as', 'first', 'its', 'why', 'whither', 'afterwards', 'because', 'perhaps', 'his', 'various', 'onto', \"'ve\", 'same', \"'ll\", 'could', 'bottom', 'through', 'n‘t', 'beyond', 'doing', 'must', 'about', 'ourselves', 'also', 'whole', \"'m\", 'than', 'into', 'while', 'we', 'was', 'were', 'beforehand', 'together', 'several', \"'re\", 'be', 'does', 'otherwise', 'go', 'ten', 'please', 'when', 'amongst', 'make', 'should', 'both', '‘s', 'take', 'and', 'what', 'your', 'whose', 'thereby', 're', 'well', 'anywhere', 'ours', 'which', 'some', '’ve', 'thence', 'after', 'who', 'latter', 'twenty', 'are', 'it', 'seeming', 'over', '’d', 'they', 'can', 'may', 'itself', 'own', 'been', 'often', '’ll', 'something', 'whereas', 'hence', 'get', 'whereby', 'unless', 'thus', 'thru', 'do', 'becoming', 'indeed', 'wherein', 'before', 'a', 'each', 'from', 'somewhere', 'that', 'out', 'latterly', 'someone', 'those', 'to', 'too', 'seems', 'or', 'whereupon', 'is', 'really', 'me', 'back', 'along', 'for', 'throughout', 'ca', 'yourself', 'below', 'the', 'regarding', 'down', 'off', \"n't\", 'although', 'eight', 'i', 'their', 'see', '’s', 'whereafter', 'elsewhere', 'next', 'very', 'sometimes', 'four', 'sixty', 'being', 'anyhow', 'whom', 'except', '‘ll', 'n’t', 'hereupon', 'fifteen', 'much', 'meanwhile', 'have', 'show', 'until', 'other', 'put', 'whenever', 'everyone', 'always', 'whether', 'among', 'whence', 'already', 'else', 'becomes', 'up', 'but', 'had', 'empty', 'give', 'then', '‘re', 'nor', 'nine', 'has', 'whoever', 'say', 'since', 'therefore', 'used', 'formerly', 'an', 'front', 'many', 'anyone', 'just', 'here', 'mine', 'might', 'herein', 'top', 'anyway', 'how', 'hereafter', 'between', 'neither', 'thereupon', '’m', 'therein', 'during', 'around', 'per', 'alone', 'would', '‘m', 'myself', 'eleven', 'anything', 'almost', 'this', 'former', 'my', 'full', 'herself', 'within', 'besides', 'others', 'our', 'namely', 'few', 'moreover', 'her', 'nothing', \"'d\", 'everywhere', 'in', 'somehow', 'these', 'two', 'twelve', 'behind', 'name', 'rather', 'yet', 'at', 'yours', 'him', 'all', 'five', 'thereafter', 'none', 'seemed', 'nobody', \"'s\", 'across', 'nowhere', 'three', 'only'}\n"
          ]
        }
      ],
      "source": [
        "# Print the set of spaCy's default stop words (remember that sets are unordered):\n",
        "print(nlp.Defaults.stop_words)"
      ]
    },
    {
      "cell_type": "code",
      "execution_count": 3,
      "metadata": {
        "colab": {
          "base_uri": "https://localhost:8080/"
        },
        "id": "U0bTNDhNlucz",
        "outputId": "45c45f6f-13c6-4925-9741-bd099234f8e2"
      },
      "outputs": [
        {
          "output_type": "execute_result",
          "data": {
            "text/plain": [
              "326"
            ]
          },
          "metadata": {},
          "execution_count": 3
        }
      ],
      "source": [
        "len(nlp.Defaults.stop_words)"
      ]
    },
    {
      "cell_type": "markdown",
      "metadata": {
        "id": "nwkWZbvAluc0"
      },
      "source": [
        "## To see if a word is a stop word"
      ]
    },
    {
      "cell_type": "code",
      "execution_count": 4,
      "metadata": {
        "colab": {
          "base_uri": "https://localhost:8080/"
        },
        "id": "X-R_jASfluc0",
        "outputId": "2660d1dc-2b04-4ac5-a686-fef419f1699b"
      },
      "outputs": [
        {
          "output_type": "execute_result",
          "data": {
            "text/plain": [
              "True"
            ]
          },
          "metadata": {},
          "execution_count": 4
        }
      ],
      "source": [
        "nlp.vocab['myself'].is_stop"
      ]
    },
    {
      "cell_type": "code",
      "execution_count": 5,
      "metadata": {
        "colab": {
          "base_uri": "https://localhost:8080/"
        },
        "id": "Slax6BCZluc0",
        "outputId": "fd4f3e43-55a2-4ac8-bc43-eea9901911e1"
      },
      "outputs": [
        {
          "output_type": "execute_result",
          "data": {
            "text/plain": [
              "False"
            ]
          },
          "metadata": {},
          "execution_count": 5
        }
      ],
      "source": [
        "nlp.vocab['mystery'].is_stop"
      ]
    },
    {
      "cell_type": "markdown",
      "metadata": {
        "id": "7sKTIJCFluc0"
      },
      "source": [
        "## To add a stop word\n",
        "There may be times when you wish to add a stop word to the default set. Perhaps you decide that `'btw'` (common shorthand for \"by the way\") should be considered a stop word."
      ]
    },
    {
      "cell_type": "code",
      "execution_count": 6,
      "metadata": {
        "id": "L4W5dYzoluc1"
      },
      "outputs": [],
      "source": [
        "# Add the word to the set of stop words. Use lowercase!\n",
        "nlp.Defaults.stop_words.add('btw')\n",
        "\n",
        "# Set the stop_word tag on the lexeme\n",
        "nlp.vocab['btw'].is_stop = True"
      ]
    },
    {
      "cell_type": "code",
      "execution_count": 7,
      "metadata": {
        "colab": {
          "base_uri": "https://localhost:8080/"
        },
        "id": "nfFqzzpDluc1",
        "outputId": "9b980747-7f8e-4eca-8686-89d7a02e551d"
      },
      "outputs": [
        {
          "output_type": "execute_result",
          "data": {
            "text/plain": [
              "327"
            ]
          },
          "metadata": {},
          "execution_count": 7
        }
      ],
      "source": [
        "len(nlp.Defaults.stop_words)"
      ]
    },
    {
      "cell_type": "code",
      "execution_count": 8,
      "metadata": {
        "colab": {
          "base_uri": "https://localhost:8080/"
        },
        "id": "mbRU8Kimluc2",
        "outputId": "b6e2e907-fe6a-42fc-9ddc-6ba2e9c20b83"
      },
      "outputs": [
        {
          "output_type": "execute_result",
          "data": {
            "text/plain": [
              "True"
            ]
          },
          "metadata": {},
          "execution_count": 8
        }
      ],
      "source": [
        "nlp.vocab['btw'].is_stop"
      ]
    },
    {
      "cell_type": "markdown",
      "metadata": {
        "id": "gisxqD2_luc3"
      },
      "source": [
        "<font color=green>When adding stop words, always use lowercase. Lexemes are converted to lowercase before being added to **vocab**.</font>"
      ]
    },
    {
      "cell_type": "markdown",
      "metadata": {
        "id": "PnAXAEg7luc3"
      },
      "source": [
        "## To remove a stop word\n",
        "Alternatively, you may decide that `'beyond'` should not be considered a stop word."
      ]
    },
    {
      "cell_type": "code",
      "execution_count": 9,
      "metadata": {
        "id": "sud1fsdMluc3"
      },
      "outputs": [],
      "source": [
        "# Remove the word from the set of stop words\n",
        "nlp.Defaults.stop_words.remove('beyond')\n",
        "\n",
        "# Remove the stop_word tag from the lexeme\n",
        "nlp.vocab['beyond'].is_stop = False"
      ]
    },
    {
      "cell_type": "code",
      "execution_count": 10,
      "metadata": {
        "colab": {
          "base_uri": "https://localhost:8080/"
        },
        "id": "0bMA7pfpluc3",
        "outputId": "b65a951b-b7e5-463e-f39c-b4435f260c63"
      },
      "outputs": [
        {
          "output_type": "execute_result",
          "data": {
            "text/plain": [
              "326"
            ]
          },
          "metadata": {},
          "execution_count": 10
        }
      ],
      "source": [
        "len(nlp.Defaults.stop_words)"
      ]
    },
    {
      "cell_type": "code",
      "execution_count": 11,
      "metadata": {
        "colab": {
          "base_uri": "https://localhost:8080/"
        },
        "id": "mhcjF9mOluc3",
        "outputId": "d3d97201-5c6f-42b0-c23b-50996bb259bf"
      },
      "outputs": [
        {
          "output_type": "execute_result",
          "data": {
            "text/plain": [
              "False"
            ]
          },
          "metadata": {},
          "execution_count": 11
        }
      ],
      "source": [
        "nlp.vocab['beyond'].is_stop"
      ]
    },
    {
      "cell_type": "markdown",
      "metadata": {
        "id": "Rgvn4tl-luc4"
      },
      "source": [
        "Great! Now you should be able to access spaCy's default set of stop words, and add or remove stop words as needed.\n",
        "## Next up: Vocabulary and Matching"
      ]
    }
  ],
  "metadata": {
    "kernelspec": {
      "display_name": "Python 3",
      "language": "python",
      "name": "python3"
    },
    "language_info": {
      "codemirror_mode": {
        "name": "ipython",
        "version": 3
      },
      "file_extension": ".py",
      "mimetype": "text/x-python",
      "name": "python",
      "nbconvert_exporter": "python",
      "pygments_lexer": "ipython3",
      "version": "3.6.7"
    },
    "colab": {
      "provenance": [],
      "include_colab_link": true
    }
  },
  "nbformat": 4,
  "nbformat_minor": 0
}