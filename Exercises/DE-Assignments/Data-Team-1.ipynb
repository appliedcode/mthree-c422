{
 "cells": [
  {
   "cell_type": "markdown",
   "metadata": {
    "colab_type": "text",
    "id": "view-in-github"
   },
   "source": [
    "<a href=\"https://colab.research.google.com/github/appliedcode/mthree-c422/blob/main/Exercises/day-6/practice.ipynb\" target=\"_parent\"><img src=\"https://colab.research.google.com/assets/colab-badge.svg\" alt=\"Open In Colab\"/></a>"
   ]
  },
  {
   "cell_type": "markdown",
   "metadata": {
    "id": "RpsOG3v9XMxn"
   },
   "source": [
    "# ETL Lab Exercise: Wine Quality Dataset\n",
    "\n",
    "## Problem Statement\n",
    "\n",
    "In this exercise, you will build an end-to-end ETL (Extract-Transform-Load) pipeline using the public \"Wine Quality\" dataset from the UCI Machine Learning Repository. All work will be done in Google Colab using only local resources.\n",
    "\n",
    "---\n",
    "\n",
    "## Tasks\n",
    "\n",
    "### 1. Extract\n",
    "- **Download:**  \n",
    "  Download the \"Wine Quality - Red\" dataset directly from this URL:  \n",
    "  https://archive.ics.uci.edu/ml/machine-learning-databases/wine-quality/winequality-red.csv\n",
    "- **Load:**  \n",
    "  Load the CSV file into a pandas DataFrame, specifying the separator (`;`).\n",
    "\n",
    "### 2. Transform\n",
    "- **Clean:**  \n",
    "  - Check for and handle any missing or anomalous values.\n",
    "  - Rename columns for better readability, if desired.\n",
    "- **Feature Engineering:**  \n",
    "  - Classify each wine as \"High Quality\" if its `quality` score is 7 or higher, otherwise \"Low/Medium Quality.\"\n",
    "  - Normalize numerical features for further analysis.\n",
    "  - (Optional) Create a feature representing the sum of acidity levels (`fixed acidity` + `volatile acidity`).\n",
    "\n",
    "### 3. Load\n",
    "- **SQLite Storage:**  \n",
    "  Store the transformed DataFrame into a local SQLite database in Colab.\n",
    "- **SQL Queries:**  \n",
    "  - Count the number of high and low/medium quality wines.\n",
    "  - Find the average alcohol percentage by wine quality group.\n",
    "  - Identify the top 5 wines (rows) with the highest alcohol content.\n",
    "\n",
    "---\n",
    "\n",
    "## Constraints\n",
    "\n",
    "- Use only pandas, Python standard library, and SQLite—all within Google Colab.\n",
    "- Do **not** use any external or cloud database services.\n",
    "\n",
    "---\n",
    "\n",
    "## Dataset\n",
    "\n",
    "- **Wine Quality Red CSV:**  \n",
    "  [https://archive.ics.uci.edu/ml/machine-learning-databases/wine-quality/winequality-red.csv](https://archive.ics.uci.edu/ml/machine-learning-databases/wine-quality/winequality-red.csv)\n",
    "\n",
    "---\n",
    "\n",
    "## Example Challenge Questions\n",
    "\n",
    "- What percentage of red wines are classified as high quality?\n",
    "- Which parameter most strongly correlates with wine quality in this sample?\n",
    "- What is the distribution of alcohol content among different quality groups?\n",
    "\n",
    "---\n",
    "\n",
    "**Expected Outcome:**  \n",
    "You’ll successfully practice ETL skills on a benchmark dataset: from real-world-style data ingestion, cleaning, and enrichment, to local SQL storage and querying for analytics—all inside Colab."
   ]
  },
  {
   "metadata": {
    "ExecuteTime": {
     "end_time": "2025-08-05T12:52:38.636384Z",
     "start_time": "2025-08-05T12:52:28.827521Z"
    }
   },
   "cell_type": "code",
   "source": [
    "# A. Extract\n",
    "# 1. Download the Wine Quality Red dataset\n",
    "import requests\n",
    "!pip install wget\n",
    "url = \"https://archive.ics.uci.edu/ml/machine-learning-databases/wine-quality/winequality-red.csv\"\n",
    "import wget\n",
    "wget.download(url, 'winequality-red.csv')"
   ],
   "outputs": [
    {
     "name": "stdout",
     "output_type": "stream",
     "text": [
      "Requirement already satisfied: wget in c:\\users\\nilay\\anaconda3\\lib\\site-packages (3.2)\n"
     ]
    },
    {
     "data": {
      "text/plain": [
       "'winequality-red.csv'"
      ]
     },
     "execution_count": 5,
     "metadata": {},
     "output_type": "execute_result"
    }
   ],
   "execution_count": 5
  },
  {
   "metadata": {
    "ExecuteTime": {
     "end_time": "2025-08-05T12:54:10.577335Z",
     "start_time": "2025-08-05T12:54:09.621862Z"
    }
   },
   "cell_type": "code",
   "source": [
    "# 2. Load the CSV file into a pandas DataFrame\n",
    "import pandas as pd\n",
    "df_wine = pd.read_csv('winequality-red.csv', sep=';')\n",
    "print(df_wine.head())\n",
    "print(df_wine.columns)"
   ],
   "outputs": [
    {
     "name": "stdout",
     "output_type": "stream",
     "text": [
      "   fixed acidity  volatile acidity  citric acid  residual sugar  chlorides  \\\n",
      "0            7.4              0.70         0.00             1.9      0.076   \n",
      "1            7.8              0.88         0.00             2.6      0.098   \n",
      "2            7.8              0.76         0.04             2.3      0.092   \n",
      "3           11.2              0.28         0.56             1.9      0.075   \n",
      "4            7.4              0.70         0.00             1.9      0.076   \n",
      "\n",
      "   free sulfur dioxide  total sulfur dioxide  density    pH  sulphates  \\\n",
      "0                 11.0                  34.0   0.9978  3.51       0.56   \n",
      "1                 25.0                  67.0   0.9968  3.20       0.68   \n",
      "2                 15.0                  54.0   0.9970  3.26       0.65   \n",
      "3                 17.0                  60.0   0.9980  3.16       0.58   \n",
      "4                 11.0                  34.0   0.9978  3.51       0.56   \n",
      "\n",
      "   alcohol  quality  \n",
      "0      9.4        5  \n",
      "1      9.8        5  \n",
      "2      9.8        5  \n",
      "3      9.8        6  \n",
      "4      9.4        5  \n",
      "Index(['fixed acidity', 'volatile acidity', 'citric acid', 'residual sugar',\n",
      "       'chlorides', 'free sulfur dioxide', 'total sulfur dioxide', 'density',\n",
      "       'pH', 'sulphates', 'alcohol', 'quality'],\n",
      "      dtype='object')\n"
     ]
    }
   ],
   "execution_count": 6
  },
  {
   "metadata": {
    "ExecuteTime": {
     "end_time": "2025-08-05T13:13:28.198522Z",
     "start_time": "2025-08-05T13:13:28.169385Z"
    }
   },
   "cell_type": "code",
   "source": [
    "# B. Transform\n",
    "# 1. Clean the data\n",
    "# Check for missing values\n",
    "print(df_wine.isnull().sum())\n",
    "df_wine.columns = [col.strip().replace(' ', '_') for col in df_wine.columns]\n",
    "df_wine.drop_duplicates(inplace=True)\n",
    "print(df_wine.head())"
   ],
   "outputs": [
    {
     "name": "stdout",
     "output_type": "stream",
     "text": [
      "fixed_acidity           0\n",
      "volatile_acidity        0\n",
      "citric_acid             0\n",
      "residual_sugar          0\n",
      "chlorides               0\n",
      "free_sulfur_dioxide     0\n",
      "total_sulfur_dioxide    0\n",
      "density                 0\n",
      "pH                      0\n",
      "sulphates               0\n",
      "alcohol                 0\n",
      "quality                 0\n",
      "quality_class           0\n",
      "total_acidity           0\n",
      "dtype: int64\n",
      "   fixed_acidity  volatile_acidity  citric_acid  residual_sugar  chlorides  \\\n",
      "0       0.247788          0.397260         0.00        0.068493   0.106845   \n",
      "1       0.283186          0.520548         0.00        0.116438   0.143573   \n",
      "2       0.283186          0.438356         0.04        0.095890   0.133556   \n",
      "3       0.584071          0.109589         0.56        0.068493   0.105175   \n",
      "5       0.247788          0.369863         0.00        0.061644   0.105175   \n",
      "\n",
      "   free_sulfur_dioxide  total_sulfur_dioxide   density        pH  sulphates  \\\n",
      "0             0.140845              0.098940  0.567548  0.606299   0.137725   \n",
      "1             0.338028              0.215548  0.494126  0.362205   0.209581   \n",
      "2             0.197183              0.169611  0.508811  0.409449   0.191617   \n",
      "3             0.225352              0.190813  0.582232  0.330709   0.149701   \n",
      "5             0.169014              0.120141  0.567548  0.606299   0.137725   \n",
      "\n",
      "    alcohol  quality       quality_class  total_acidity  \n",
      "0  0.153846      0.4  Low/Medium Quality       0.645048  \n",
      "1  0.215385      0.4  Low/Medium Quality       0.803734  \n",
      "2  0.215385      0.4  Low/Medium Quality       0.721542  \n",
      "3  0.215385      0.6  Low/Medium Quality       0.693660  \n",
      "5  0.153846      0.4  Low/Medium Quality       0.617651  \n"
     ]
    }
   ],
   "execution_count": 15
  },
  {
   "metadata": {
    "ExecuteTime": {
     "end_time": "2025-08-05T12:56:17.313381Z",
     "start_time": "2025-08-05T12:56:16.015784Z"
    }
   },
   "cell_type": "code",
   "source": [
    "# 2. Feature Engineering\n",
    "# Classify wines as \"High Quality\" or \"Low/Medium Quality\"\n",
    "df_wine['quality_class'] = df_wine['quality'].apply(lambda x: 'High Quality' if x >= 7 else 'Low/Medium Quality')\n",
    "\n",
    "from sklearn.preprocessing import MinMaxScaler\n",
    "scaler = MinMaxScaler()\n",
    "numerical_cols = df_wine.select_dtypes(include=['float64', 'int64']).columns\n",
    "df_wine[numerical_cols] = scaler.fit_transform(df_wine[numerical_cols])\n",
    "\n",
    "df_wine['total_acidity'] = df_wine['fixed_acidity'] + df_wine['volatile_acidity']\n",
    "print(df_wine.head())"
   ],
   "outputs": [
    {
     "name": "stdout",
     "output_type": "stream",
     "text": [
      "   fixed_acidity  volatile_acidity  citric_acid  residual_sugar  chlorides  \\\n",
      "0       0.247788          0.397260         0.00        0.068493   0.106845   \n",
      "1       0.283186          0.520548         0.00        0.116438   0.143573   \n",
      "2       0.283186          0.438356         0.04        0.095890   0.133556   \n",
      "3       0.584071          0.109589         0.56        0.068493   0.105175   \n",
      "5       0.247788          0.369863         0.00        0.061644   0.105175   \n",
      "\n",
      "   free_sulfur_dioxide  total_sulfur_dioxide   density        pH  sulphates  \\\n",
      "0             0.140845              0.098940  0.567548  0.606299   0.137725   \n",
      "1             0.338028              0.215548  0.494126  0.362205   0.209581   \n",
      "2             0.197183              0.169611  0.508811  0.409449   0.191617   \n",
      "3             0.225352              0.190813  0.582232  0.330709   0.149701   \n",
      "5             0.169014              0.120141  0.567548  0.606299   0.137725   \n",
      "\n",
      "    alcohol  quality       quality_class  total_acidity  \n",
      "0  0.153846      0.4  Low/Medium Quality       0.645048  \n",
      "1  0.215385      0.4  Low/Medium Quality       0.803734  \n",
      "2  0.215385      0.4  Low/Medium Quality       0.721542  \n",
      "3  0.215385      0.6  Low/Medium Quality       0.693660  \n",
      "5  0.153846      0.4  Low/Medium Quality       0.617651  \n"
     ]
    }
   ],
   "execution_count": 9
  },
  {
   "metadata": {
    "ExecuteTime": {
     "end_time": "2025-08-05T12:56:18.177197Z",
     "start_time": "2025-08-05T12:56:18.092814Z"
    }
   },
   "cell_type": "code",
   "source": [
    "# C. Load\n",
    "# 1. Store the transformed DataFrame into a local SQLite database\n",
    "import sqlite3\n",
    "conn = sqlite3.connect('wine_quality_etl_lab.db')\n",
    "df_wine.to_sql('wine_quality', conn, if_exists='replace', index=False)"
   ],
   "outputs": [
    {
     "data": {
      "text/plain": [
       "1359"
      ]
     },
     "execution_count": 10,
     "metadata": {},
     "output_type": "execute_result"
    }
   ],
   "execution_count": 10
  },
  {
   "metadata": {
    "ExecuteTime": {
     "end_time": "2025-08-05T12:58:15.181668Z",
     "start_time": "2025-08-05T12:58:15.171601Z"
    }
   },
   "cell_type": "code",
   "source": [
    "# 2. Run SQL Queries on the Transformed Data\n",
    "# Count the number of high and low/medium quality wines\n",
    "query_quality_count = \"\"\"\n",
    "SELECT quality_class, COUNT(*) AS count\n",
    "FROM wine_quality\n",
    "GROUP BY quality_class;\n",
    "\"\"\"\n",
    "df_quality_count = pd.read_sql(query_quality_count, conn)\n",
    "print(df_quality_count)"
   ],
   "outputs": [
    {
     "name": "stdout",
     "output_type": "stream",
     "text": [
      "        quality_class  count\n",
      "0        High Quality    184\n",
      "1  Low/Medium Quality   1175\n"
     ]
    }
   ],
   "execution_count": 14
  },
  {
   "metadata": {
    "ExecuteTime": {
     "end_time": "2025-08-05T12:56:52.456016Z",
     "start_time": "2025-08-05T12:56:52.428518Z"
    }
   },
   "cell_type": "code",
   "source": [
    "# Find the average alcohol percentage by wine quality group\n",
    "query_avg_alcohol = \"\"\"\n",
    "SELECT quality_class, AVG(alcohol) AS avg_alcohol\n",
    "FROM wine_quality\n",
    "GROUP BY quality_class;\n",
    "\"\"\"\n",
    "df_avg_alcohol = pd.read_sql(query_avg_alcohol, conn)\n",
    "print(df_avg_alcohol)"
   ],
   "outputs": [
    {
     "name": "stdout",
     "output_type": "stream",
     "text": [
      "        quality_class  avg_alcohol\n",
      "0        High Quality     0.485047\n",
      "1  Low/Medium Quality     0.285669\n"
     ]
    }
   ],
   "execution_count": 12
  },
  {
   "metadata": {
    "ExecuteTime": {
     "end_time": "2025-08-05T13:31:33.575313Z",
     "start_time": "2025-08-05T13:31:33.543049Z"
    }
   },
   "cell_type": "code",
   "source": [
    "# Identify the top 5 wines with the highest alcohol content\n",
    "query_top_alcohol = \"\"\"\n",
    "SELECT *\n",
    "FROM wine_quality\n",
    "ORDER BY alcohol DESC\n",
    "LIMIT 5;\n",
    "\"\"\"\n",
    "df_top_alcohol = pd.read_sql(query_top_alcohol, conn)\n",
    "print(df_top_alcohol)"
   ],
   "outputs": [
    {
     "name": "stdout",
     "output_type": "stream",
     "text": [
      "   fixed_acidity  volatile_acidity  citric_acid  residual_sugar  chlorides  \\\n",
      "0       1.000000          0.164384         0.65        0.452055   0.140234   \n",
      "1       0.053097          0.150685         0.00        0.061644   0.063439   \n",
      "2       0.371681          0.232877         0.45        0.116438   0.088481   \n",
      "3       0.035398          0.205479         0.24        0.075342   0.080134   \n",
      "4       0.026549          0.205479         0.00        0.082192   0.060100   \n",
      "\n",
      "   free_sulfur_dioxide  total_sulfur_dioxide   density        pH  sulphates  \\\n",
      "0             0.295775              0.229682  0.552863  0.188976   0.305389   \n",
      "1             0.366197              0.201413  0.112335  0.740157   0.275449   \n",
      "2             0.084507              0.042403  0.339941  0.456693   0.275449   \n",
      "3             0.253521              0.155477  0.119677  0.771654   0.245509   \n",
      "4             0.211268              0.127208  0.107930  0.763780   0.245509   \n",
      "\n",
      "    alcohol  quality       quality_class  total_acidity  \n",
      "0  1.000000      0.4  Low/Medium Quality       1.164384  \n",
      "1  0.861538      0.6  Low/Medium Quality       0.203782  \n",
      "2  0.861538      0.6  Low/Medium Quality       0.604558  \n",
      "3  0.861538      1.0        High Quality       0.240878  \n",
      "4  0.861538      0.8        High Quality       0.232028  \n"
     ]
    }
   ],
   "execution_count": 17
  },
  {
   "metadata": {
    "ExecuteTime": {
     "end_time": "2025-08-05T13:31:48.629386Z",
     "start_time": "2025-08-05T13:31:47.505243Z"
    }
   },
   "cell_type": "code",
   "source": [
    "# graphical representation of the average alcohol content by quality class\n",
    "import matplotlib.pyplot as plt\n",
    "plt.figure(figsize=(10, 6))\n",
    "df_avg_alcohol.plot(kind='bar', x='quality_class', y='avg_alcohol', legend=False)\n",
    "plt.title('Average Alcohol Content by Wine Quality Class')\n",
    "plt.xlabel('Wine Quality Class')\n",
    "plt.ylabel('Average Alcohol Content')"
   ],
   "outputs": [
    {
     "data": {
      "text/plain": [
       "Text(0, 0.5, 'Average Alcohol Content')"
      ]
     },
     "execution_count": 18,
     "metadata": {},
     "output_type": "execute_result"
    },
    {
     "data": {
      "text/plain": [
       "<Figure size 1000x600 with 0 Axes>"
      ]
     },
     "metadata": {},
     "output_type": "display_data"
    },
    {
     "data": {
      "text/plain": [
       "<Figure size 640x480 with 1 Axes>"
      ],
      "image/png": "[encoded data removed]"
     },
     "metadata": {},
     "output_type": "display_data"
    }
   ],
   "execution_count": 18
  },
  {
   "metadata": {
    "ExecuteTime": {
     "end_time": "2025-08-05T14:30:22.323767Z",
     "start_time": "2025-08-05T14:30:22.170234Z"
    }
   },
   "cell_type": "code",
   "source": [
    "#push code to GitHub in branch 'mthree-c422-nilay\n",
    "!git init'\n",
    "# !git remote add origin\n",
    "# !git add .\n",
    "# !git commit -m \"ETL Lab Exercise: Wine Quality Dataset\"\n",
    "# !git push origin mthree-c422-nilay\n"
   ],
   "outputs": [
    {
     "name": "stderr",
     "output_type": "stream",
     "text": [
      "git: 'init'' is not a git command. See 'git --help'.\n",
      "\n",
      "The most similar command is\n",
      "\tinit\n"
     ]
    }
   ],
   "execution_count": 19
  },
  {
   "metadata": {},
   "cell_type": "code",
   "outputs": [],
   "execution_count": null,
   "source": ""
  }
 ],
 "metadata": {
  "colab": {
   "include_colab_link": true,
   "name": "Welcome to Colab",
   "provenance": []
  },
  "kernelspec": {
   "display_name": "Python 3 (ipykernel)",
   "name": "python3",
   "language": "python"
  }
 },
 "nbformat": 4,
 "nbformat_minor": 0
}
