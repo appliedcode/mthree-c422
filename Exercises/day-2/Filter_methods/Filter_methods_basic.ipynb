{
 "cells": [
  {
   "cell_type": "markdown",
   "id": "bd19c49b",
   "metadata": {},
   "source": [
    "# Colab Lab: Filter Methods for Feature Selection\n",
    "\n",
    "This notebook contains six self-contained exercises. Each section includes problem description, solution overview, and complete code cells you can copy & paste into Colab. Execute each code block in order.\n",
    "\n",
    "---\n",
    "\n",
    "## Exercise 1: Variance Threshold (Basic Selection)\n",
    "\n",
    "**Problem Description:**  \n",
    "Low-variance features carry little information. Removing them reduces noise and model complexity.\n",
    "\n",
    "**Solution Overview:**  \n",
    "Use `VarianceThreshold` to drop features below a variance threshold. Explore thresholds 0.2, 0.6, and 0.8 and plot variances.\n",
    "\n"
   ]
  },
  {
   "cell_type": "code",
   "execution_count": null,
   "id": "ea737c96",
   "metadata": {
    "vscode": {
     "languageId": "plaintext"
    }
   },
   "outputs": [],
   "source": [
    "# 1.1 Setup\n",
    "!pip install scikit-learn pandas matplotlib seaborn --quiet\n",
    "import pandas as pd\n",
    "import numpy as np\n",
    "import matplotlib.pyplot as plt\n",
    "import seaborn as sns\n",
    "from sklearn.datasets import load_iris\n",
    "from sklearn.feature_selection import VarianceThreshold"
   ]
  },
  {
   "cell_type": "code",
   "execution_count": null,
   "id": "f04fadfb",
   "metadata": {
    "vscode": {
     "languageId": "plaintext"
    }
   },
   "outputs": [],
   "source": [
    "# 1.2 Load Data\n",
    "data = load_iris()\n",
    "X = pd.DataFrame(data.data, columns=data.feature_names)\n",
    "y = pd.Series(data.target, name='target')\n",
    "print(\"Original features:\", list(X.columns))"
   ]
  },
  {
   "cell_type": "code",
   "execution_count": null,
   "id": "83dd0761",
   "metadata": {
    "vscode": {
     "languageId": "plaintext"
    }
   },
   "outputs": [],
   "source": [
    "# 1.3 Compute Feature Variances & Plot\n",
    "variances = X.var()\n",
    "plt.figure(figsize=(6,4))\n",
    "variances.plot(kind='bar', title='Feature Variances')\n",
    "plt.ylabel('Variance')\n",
    "plt.show()"
   ]
  },
  {
   "cell_type": "code",
   "execution_count": null,
   "id": "815fa43c",
   "metadata": {
    "vscode": {
     "languageId": "plaintext"
    }
   },
   "outputs": [],
   "source": [
    "# 1.4 Apply VarianceThreshold for different thresholds\n",
    "for thresh in [0.2, 0.6, 0.8]:\n",
    "sel = VarianceThreshold(threshold=thresh)\n",
    "X_sel = sel.fit_transform(X)\n",
    "kept = X.columns[sel.get_support()]\n",
    "print(f\"Threshold={thresh}: kept features →\", list(kept))"
   ]
  },
  {
   "cell_type": "markdown",
   "id": "f557c61f",
   "metadata": {},
   "source": [
    "# 1.4 Analysis\n",
    "* Which features were removed?\n",
    "* How does changing the threshold to 0.2 or 0.8 affect the selected set?\n",
    "* Plot the variances of all features as a bar chart."
   ]
  },
  {
   "cell_type": "markdown",
   "id": "5fa210cd",
   "metadata": {},
   "source": [
    "# Exercise 1: Variance Threshold\n",
    "## Analysis to Include in Code"
   ]
  },
  {
   "cell_type": "code",
   "execution_count": null,
   "id": "bba68da5",
   "metadata": {
    "vscode": {
     "languageId": "plaintext"
    }
   },
   "outputs": [],
   "source": [
    "# 1. Removed vs. Kept Features \n",
    "removed = set(X.columns) - set(kept)\n",
    "print(\"Removed features:\", removed)\n"
   ]
  },
  {
   "cell_type": "code",
   "execution_count": null,
   "id": "8714b54a",
   "metadata": {
    "vscode": {
     "languageId": "plaintext"
    }
   },
   "outputs": [],
   "source": [
    "# 2. Variance Distribution\n",
    "variances.sort_values().plot(kind='box', title=\"Variance Distribution\")\n",
    "plt.show()\n"
   ]
  },
  {
   "cell_type": "code",
   "execution_count": null,
   "id": "714f3cef",
   "metadata": {
    "vscode": {
     "languageId": "plaintext"
    }
   },
   "outputs": [],
   "source": [
    "# 3. Threshold Sensitivity\n",
    "results = []\n",
    "for t in np.linspace(0, variances.max(), 10):\n",
    "    sel = VarianceThreshold(threshold=t)\n",
    "    results.append((t, sel.fit(X).get_support().sum()))\n",
    "pd.DataFrame(results, columns=['threshold','n_kept']).plot(x='threshold', y='n_kept', marker='o')\n",
    "plt.title(\"Features Kept vs. Threshold\")\n",
    "plt.show()\n"
   ]
  }
 ],
 "metadata": {
  "language_info": {
   "name": "python"
  }
 },
 "nbformat": 4,
 "nbformat_minor": 5
}
