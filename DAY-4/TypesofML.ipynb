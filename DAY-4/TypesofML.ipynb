{
  "nbformat": 4,
  "nbformat_minor": 0,
  "metadata": {
    "colab": {
      "provenance": []
    },
    "kernelspec": {
      "name": "python3",
      "display_name": "Python 3"
    },
    "language_info": {
      "name": "python"
    }
  },
  "cells": [
    {
      "cell_type": "code",
      "execution_count": null,
      "metadata": {
        "id": "KiuvXkZUnNxM"
      },
      "outputs": [],
      "source": [
        "import numpy as np\n",
        "import pandas as pd\n",
        "import matplotlib.pyplot as plt\n",
        "\n",
        "# For supervised and unsupervised tasks\n",
        "from sklearn.datasets import load_iris, load_digits\n",
        "from sklearn.model_selection import train_test_split\n",
        "from sklearn.linear_model import LogisticRegression\n",
        "from sklearn.metrics import accuracy_score, classification_report, adjusted_rand_score\n",
        "from sklearn.cluster import KMeans\n",
        "\n",
        "# For reinforcement learning task\n",
        "!pip install gymnasium --quiet\n",
        "import gymnasium as gym"
      ]
    },
    {
      "cell_type": "code",
      "source": [
        "iris = load_iris(as_frame=True)\n",
        "X, y = iris.data, iris.target\n",
        "\n",
        "# Split data (70% train, 30% test)\n",
        "X_train, X_test, y_train, y_test = train_test_split(X, y, test_size=0.3, random_state=42)\n",
        "\n",
        "# Train logistic regression\n",
        "model = LogisticRegression(max_iter=200)\n",
        "model.fit(X_train, y_train)\n",
        "\n",
        "# Predict and evaluate\n",
        "y_pred = model.predict(X_test)\n",
        "print(\"Classification Report:\\n\", classification_report(y_test, y_pred))\n",
        "print(\"Test Accuracy:\", accuracy_score(y_test, y_pred))"
      ],
      "metadata": {
        "colab": {
          "base_uri": "https://localhost:8080/"
        },
        "id": "fuW8k3RjnRxa",
        "outputId": "7be5c0c6-3f62-407a-9d3d-08412dab4b76"
      },
      "execution_count": null,
      "outputs": [
        {
          "output_type": "stream",
          "name": "stdout",
          "text": [
            "Classification Report:\n",
            "               precision    recall  f1-score   support\n",
            "\n",
            "           0       1.00      1.00      1.00        19\n",
            "           1       1.00      1.00      1.00        13\n",
            "           2       1.00      1.00      1.00        13\n",
            "\n",
            "    accuracy                           1.00        45\n",
            "   macro avg       1.00      1.00      1.00        45\n",
            "weighted avg       1.00      1.00      1.00        45\n",
            "\n",
            "Test Accuracy: 1.0\n"
          ]
        }
      ]
    },
    {
      "cell_type": "code",
      "source": [
        "digits = load_digits()\n",
        "X_digits, y_digits = digits.data, digits.target\n",
        "\n",
        "# K-means clustering (10 clusters for 10 digits)\n",
        "kmeans = KMeans(n_clusters=10, random_state=42, n_init=10)\n",
        "clusters = kmeans.fit_predict(X_digits)\n",
        "\n",
        "# Evaluate clustering quality against true labels (adjusted rand index)\n",
        "ari_score = adjusted_rand_score(y_digits, clusters)\n",
        "print(f\"Adjusted Rand Index (measures cluster-label agreement): {ari_score:.4f}\")"
      ],
      "metadata": {
        "colab": {
          "base_uri": "https://localhost:8080/"
        },
        "id": "BoqGLjFhnfQu",
        "outputId": "df64d376-0b0c-4f39-8f8e-03e66f40b0cd"
      },
      "execution_count": null,
      "outputs": [
        {
          "output_type": "stream",
          "name": "stdout",
          "text": [
            "Adjusted Rand Index (measures cluster-label agreement): 0.6669\n"
          ]
        }
      ]
    },
    {
      "cell_type": "code",
      "source": [],
      "metadata": {
        "id": "ziPaygZgnnIU"
      },
      "execution_count": null,
      "outputs": []
    }
  ]
}