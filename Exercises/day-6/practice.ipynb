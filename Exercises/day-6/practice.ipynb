{
  "cells": [
    {
      "cell_type": "markdown",
      "metadata": {
        "id": "view-in-github",
        "colab_type": "text"
      },
      "source": [
        "<a href=\"https://colab.research.google.com/github/appliedcode/mthree-c422/blob/main/Exercises/day-6/practice.ipynb\" target=\"_parent\"><img src=\"https://colab.research.google.com/assets/colab-badge.svg\" alt=\"Open In Colab\"/></a>"
      ]
    },
    {
      "cell_type": "markdown",
      "source": [
        "# ETL Pipeline Lab Exercise: Heart Disease UCI Dataset in Google Colab\n",
        "\n",
        "## Problem Statement\n",
        "\n",
        "In this lab, you will build a complete ETL (Extract-Transform-Load) pipeline in Google Colab that processes the \"Heart Disease UCI\" dataset from Kaggle.\n",
        "\n",
        "### Your Tasks:\n",
        "\n",
        "1. **Extract:**\n",
        "   - Download the dataset file `heart.csv` using the Kaggle API in your Colab notebook.\n",
        "   - Load the dataset into a pandas DataFrame.\n",
        "\n",
        "2. **Transform:**\n",
        "   - Clean and preprocess the data by handling any missing values and renaming columns for better readability if needed.\n",
        "   - Create a new column named `RiskLevel` which categorizes patients into:\n",
        "     - \"Low\"\n",
        "     - \"Medium\"\n",
        "     - \"High\"\n",
        "     \n",
        "     based on their `age` and `cholesterol` levels.\n",
        "   - Normalize key numerical features to prepare the dataset for analysis.\n",
        "\n",
        "3. **Load:**\n",
        "   - Store the transformed DataFrame into a local SQLite database inside Google Colab.\n",
        "   - Write and execute SQL queries on the stored data to:\n",
        "     - Retrieve counts of patients grouped by `RiskLevel`.\n",
        "     - Filter and display records of patients classified as `High` risk.\n",
        "\n",
        "### Constraints\n",
        "\n",
        "- Perform all operations using **pandas**, **SQLite**, and the **Kaggle API** entirely within Google Colab.\n",
        "- Do **not** use any external cloud databases or services.\n",
        "\n",
        "### Dataset Details\n",
        "\n",
        "- **Dataset name:** Heart Disease UCI  \n",
        "- **Kaggle URL:** [https://www.kaggle.com/ronitf/heart-disease-uci](https://www.kaggle.com/ronitf/heart-disease-uci)\n",
        "\n",
        "---\n",
        "\n",
        "## Expected Learning Outcomes\n",
        "\n",
        "- Gain hands-on experience in extracting data from Kaggle using the API in Colab.\n",
        "- Practice data cleaning, feature engineering, and normalization using pandas.\n",
        "- Store and query data efficiently in a local SQLite database within Colab.\n",
        "- Build reproducible ETL workflows using only free and local resources.\n",
        "\n",
        "---\n"
      ],
      "metadata": {
        "id": "RpsOG3v9XMxn"
      }
    },
    {
      "cell_type": "markdown",
      "source": [],
      "metadata": {
        "id": "WI2MFwO5Q76F"
      }
    }
  ],
  "metadata": {
    "colab": {
      "name": "Welcome to Colab",
      "provenance": [],
      "include_colab_link": true
    },
    "kernelspec": {
      "display_name": "Python 3",
      "name": "python3"
    }
  },
  "nbformat": 4,
  "nbformat_minor": 0
}