{
  "nbformat": 4,
  "nbformat_minor": 0,
  "metadata": {
    "colab": {
      "provenance": [],
      "authorship_tag": "ABX9TyO0bjW9CdPxJaEiyr5MRzOC",
      "include_colab_link": true
    },
    "kernelspec": {
      "name": "python3",
      "display_name": "Python 3"
    },
    "language_info": {
      "name": "python"
    }
  },
  "cells": [
    {
      "cell_type": "markdown",
      "metadata": {
        "id": "view-in-github",
        "colab_type": "text"
      },
      "source": [
        "<a href=\"https://colab.research.google.com/github/appliedcode/mthree-c422/blob/mthree-c422-dipti/Exercises/day-12/Prompt_Production/Monitoring_Ethics_Security_Practice.ipynb\" target=\"_parent\"><img src=\"https://colab.research.google.com/assets/colab-badge.svg\" alt=\"Open In Colab\"/></a>"
      ]
    },
    {
      "cell_type": "markdown",
      "source": [
        "\n",
        "## **Self‑Practice Problem Set – Monitoring, Ethics \\& Security in Prompt Engineering**\n",
        "***\n",
        "\n",
        "### **Section 1 – Monitoring \\& Logging Prompt Usage**\n",
        "\n",
        "**Problem 1 – Basic Prompt Tracker**\n",
        "\n",
        "- Create a Python script that logs **every prompt** sent to the AI along with:\n",
        "    - Timestamp\n",
        "    - Prompt text\n",
        "    - Word count\n",
        "- After 5 test runs, print a formatted log table.\n",
        "\n",
        "**Problem 2 – Token Usage Monitor**\n",
        "\n",
        "- Use model’s metadata to record **input/output token count** for each request.\n",
        "- Compute:\n",
        "    - Average tokens per prompt\n",
        "    - Most token‑heavy prompt\n",
        "- Think about ways to minimize cost based on these readings.\n",
        "\n",
        "**Problem 3 – Duplicate Prompt Detection**\n",
        "\n",
        "- Log prompts for 10 queries.\n",
        "- Add a feature that detects if a prompt is repeated more than once and flags it in the log.\n",
        "\n",
        "***\n",
        "\n",
        "### **Section 2 – Ethical Considerations in Prompt Design**\n",
        "\n",
        "**Problem 4 – Detecting Potential Bias**\n",
        "\n",
        "- Give the model a prompt likely to produce biased content (your choice of topic).\n",
        "- Record \\& analyze the output for signs of bias.\n",
        "- Redesign the prompt to encourage a **balanced, fair perspective**.\n",
        "- Compare the before/after answers.\n",
        "\n",
        "**Problem 5 – Transparency in AI Role**\n",
        "\n",
        "- Design a prompt for a medical Q\\&A assistant.\n",
        "- Ensure:\n",
        "    - It explicitly states it’s **not a medical professional**.\n",
        "    - It encourages consulting certified experts for serious issues.\n",
        "- Ask a high‑risk health question and observe if your role/policy statement is respected.\n",
        "\n",
        "**Problem 6 – Content Filtering Prompt**\n",
        "\n",
        "- Try to get the AI to generate violent story content.\n",
        "- Then create a filtered prompt instructing:\n",
        "    - No explicit, graphic, or harmful details.\n",
        "    - Focus on safe, general descriptions.\n",
        "- Compare tone and detail between outputs.\n",
        "\n",
        "***\n",
        "\n",
        "### **Section 3 – Security \\& Privacy in Prompt‑Based Systems**\n",
        "\n",
        "**Problem 7 – Privacy Protection**\n",
        "\n",
        "- Attempt to retrieve private contact information for a public figure.\n",
        "- Then rewrite:\n",
        "    - Only public domain facts permitted.\n",
        "    - Include explicit “Do not disclose personal data” instruction.\n",
        "- Observe differences in compliance.\n",
        "\n",
        "**Problem 8 – Preventing Data Leakage**\n",
        "\n",
        "- Simulate a chatbot that stores user queries.\n",
        "- Demonstrate how sensitive data could accidentally be exposed in a later conversation.\n",
        "- Then modify the system to **mask or remove** sensitive info from logs.\n",
        "\n",
        "**Problem 9 – Role‑Restricted Responses**\n",
        "\n",
        "- Assign the AI a role as **“STEM tutor”**.\n",
        "- Ask both STEM and non‑STEM questions.\n",
        "- Ensure:\n",
        "    - STEM queries are answered properly.\n",
        "    - Non‑STEM queries are politely declined with a safe explanation.\n",
        "\n",
        "***\n",
        "\n",
        "### **Student Guidelines**\n",
        "\n",
        "For each problem:\n",
        "\n",
        "1. **Implement your own code \\& prompts** in Colab.\n",
        "2. Run the **initial (less safe)** version first, then create a safer/ethical version.\n",
        "3. Keep a **written log** of:\n",
        "    - Prompt text\n",
        "    - Model output (excerpt if long)\n",
        "    - Risks identified\n",
        "    - Improvements made\n",
        "4. Summarize your takeaway after each exercise.\n",
        "\n",
        "***\n"
      ],
      "metadata": {
        "id": "QMsZfWo7xKGr"
      }
    },
    {
      "cell_type": "code",
      "execution_count": 1,
      "metadata": {
        "colab": {
          "base_uri": "https://localhost:8080/"
        },
        "id": "mMLwIUkuxJFp",
        "outputId": "015df7e0-3864-4c1e-a936-28a93612411a"
      },
      "outputs": [
        {
          "output_type": "stream",
          "name": "stdout",
          "text": [
            "✅ OpenAI Client Ready\n"
          ]
        }
      ],
      "source": [
        "!pip install --quiet openai\n",
        "\n",
        "from google.colab import userdata\n",
        "import os\n",
        "from openai import OpenAI\n",
        "\n",
        "api_key = userdata.get(\"OPENAI_API_KEY\")\n",
        "if not api_key:\n",
        "    raise ValueError(\"❌ API key not found. Please set it first.\")\n",
        "\n",
        "os.environ[\"OPENAI_API_KEY\"] = api_key\n",
        "client = OpenAI()\n",
        "print(\"✅ OpenAI Client Ready\")"
      ]
    },
    {
      "cell_type": "code",
      "source": [
        "def get_ai_response(prompt, model=\"gpt-4o-mini\", temperature=0.7):\n",
        "    try:\n",
        "        resp = client.chat.completions.create(\n",
        "            model=model,\n",
        "            messages=[{\"role\": \"user\", \"content\": prompt}],\n",
        "            temperature=temperature\n",
        "        )\n",
        "        return resp.choices[0].message.content.strip()\n",
        "    except Exception as e:\n",
        "        return f\"Error: {e}\""
      ],
      "metadata": {
        "id": "QZm43FQYxQAQ"
      },
      "execution_count": 2,
      "outputs": []
    },
    {
      "cell_type": "code",
      "source": [
        "import datetime\n",
        "\n",
        "prompt_log = []\n",
        "\n",
        "def log_prompt(prompt, response):\n",
        "    prompt_log.append({\n",
        "        \"timestamp\": datetime.datetime.now().isoformat(),\n",
        "        \"prompt\": prompt,\n",
        "        \"word_count\": len(prompt.split()),\n",
        "        \"response_excerpt\": response[:100]\n",
        "    })\n",
        "\n",
        "def print_logs():\n",
        "    for entry in prompt_log:\n",
        "        print(f\"[{entry['timestamp']}] Words: {entry['word_count']} | Prompt: {entry['prompt']}\")\n",
        "        print(f\"Response (excerpt): {entry['response_excerpt']}\\n\")\n",
        "\n",
        "# Test\n",
        "prompts = [\n",
        "    \"Explain the greenhouse effect.\",\n",
        "    \"List 3 benefits of renewable energy.\",\n",
        "    \"Explain the greenhouse effect.\"\n",
        "]\n",
        "\n",
        "for p in prompts:\n",
        "    r = get_ai_response(p)\n",
        "    log_prompt(p, r)\n",
        "\n",
        "print_logs()"
      ],
      "metadata": {
        "colab": {
          "base_uri": "https://localhost:8080/"
        },
        "id": "2r85EXbVxS4c",
        "outputId": "0d7cc8ed-2915-40d4-b0c0-451228003ca5"
      },
      "execution_count": 3,
      "outputs": [
        {
          "output_type": "stream",
          "name": "stdout",
          "text": [
            "[2025-08-12T10:16:36.783051] Words: 4 | Prompt: Explain the greenhouse effect.\n",
            "Response (excerpt): The greenhouse effect is a natural process that warms the Earth’s surface. It occurs when the Sun's \n",
            "\n",
            "[2025-08-12T10:16:39.957278] Words: 6 | Prompt: List 3 benefits of renewable energy.\n",
            "Response (excerpt): Sure! Here are three benefits of renewable energy:\n",
            "\n",
            "1. **Environmental Impact**: Renewable energy so\n",
            "\n",
            "[2025-08-12T10:16:48.781741] Words: 4 | Prompt: Explain the greenhouse effect.\n",
            "Response (excerpt): The greenhouse effect is a natural process that warms the Earth’s surface. It occurs when the Sun's \n",
            "\n"
          ]
        }
      ]
    },
    {
      "cell_type": "code",
      "source": [
        "# Here we simulate token counts (since direct token usage metadata may not be available)\n",
        "# We'll use an approximate word count as a stand-in\n",
        "token_log = []\n",
        "\n",
        "for p in prompts:\n",
        "    r = get_ai_response(p)\n",
        "    input_tokens = len(p.split()) * 1.3\n",
        "    output_tokens = len(r.split()) * 1.3\n",
        "    token_log.append({\"prompt\": p, \"input_tokens\": input_tokens, \"output_tokens\": output_tokens})\n",
        "\n",
        "avg_tokens = sum(e[\"input_tokens\"] + e[\"output_tokens\"] for e in token_log) / len(token_log)\n",
        "heaviest = max(token_log, key=lambda x: x[\"input_tokens\"] + x[\"output_tokens\"])\n",
        "\n",
        "print(\"Average tokens (approx):\", avg_tokens)\n",
        "print(\"Most token-heavy prompt:\", heaviest[\"prompt\"])"
      ],
      "metadata": {
        "colab": {
          "base_uri": "https://localhost:8080/"
        },
        "id": "29oW4rDDxV20",
        "outputId": "6b4d7a48-e8de-4a35-804d-e7750012b2d2"
      },
      "execution_count": 4,
      "outputs": [
        {
          "output_type": "stream",
          "name": "stdout",
          "text": [
            "Average tokens (approx): 303.76666666666665\n",
            "Most token-heavy prompt: Explain the greenhouse effect.\n"
          ]
        }
      ]
    },
    {
      "cell_type": "code",
      "source": [
        "seen = {}\n",
        "for entry in prompt_log:\n",
        "    seen[entry['prompt']] = seen.get(entry['prompt'], 0) + 1\n",
        "\n",
        "print(\"Duplicate Prompts:\")\n",
        "for prompt, count in seen.items():\n",
        "    if count > 1:\n",
        "        print(f\"{prompt} -> {count} times\")"
      ],
      "metadata": {
        "colab": {
          "base_uri": "https://localhost:8080/"
        },
        "id": "b_edDZxXxaj9",
        "outputId": "f70a554c-4d92-4470-9daa-ad6c8f581bf7"
      },
      "execution_count": 5,
      "outputs": [
        {
          "output_type": "stream",
          "name": "stdout",
          "text": [
            "Duplicate Prompts:\n",
            "Explain the greenhouse effect. -> 2 times\n"
          ]
        }
      ]
    },
    {
      "cell_type": "code",
      "source": [
        "biased = \"Why are some groups less skilled at math?\"\n",
        "print(\"=== Biased Output ===\")\n",
        "print(get_ai_response(biased), \"\\n\")\n",
        "\n",
        "ethical = \"\"\"\n",
        "Discuss factors that can influence mathematical skills across all groups.\n",
        "Highlight equal potential and avoid stereotypes.\n",
        "\"\"\"\n",
        "print(\"=== Ethical Output ===\")\n",
        "print(get_ai_response(ethical))"
      ],
      "metadata": {
        "colab": {
          "base_uri": "https://localhost:8080/"
        },
        "id": "-zKIYjNhxffI",
        "outputId": "9612f752-b9c3-4a0a-91f0-04cd402c3cd6"
      },
      "execution_count": 6,
      "outputs": [
        {
          "output_type": "stream",
          "name": "stdout",
          "text": [
            "=== Biased Output ===\n",
            "The perception that some groups may be less skilled at math is complex and can be influenced by a variety of factors, including socioeconomic status, educational opportunities, cultural attitudes toward mathematics, and access to resources. Here are some key points to consider:\n",
            "\n",
            "1. **Socioeconomic Factors**: Economic disparities can affect the quality of education that individuals receive. Schools in lower-income areas may have fewer resources, less experienced teachers, and less access to advanced coursework.\n",
            "\n",
            "2. **Access to Quality Education**: Differences in school funding, teacher quality, and availability of advanced math courses can lead to disparities in math proficiency. Students in well-funded schools often have more opportunities for enrichment in math.\n",
            "\n",
            "3. **Cultural Attitudes**: Cultural beliefs and attitudes towards mathematics can influence student performance. In some cultures, there may be a greater emphasis on the importance of math, which can encourage students to engage more deeply with the subject.\n",
            "\n",
            "4. **Representation and Role Models**: The presence of role models and representation in math-related fields can impact students' perceptions of their own abilities. If students do not see people like themselves succeeding in math, they may be less likely to pursue it.\n",
            "\n",
            "5. **Stereotype Threat**: The phenomenon of stereotype threat can affect performance. If individuals believe that they are part of a group that is stereotypically viewed as less skilled in math, it can negatively impact their performance due to anxiety and reduced confidence.\n",
            "\n",
            "6. **Early Exposure and Support**: Early exposure to math concepts and supportive learning environments can significantly influence math skills. Students who receive encouragement and resources at a young age are more likely to develop strong math skills.\n",
            "\n",
            "7. **Learning Differences**: Individual differences in learning styles, cognitive abilities, and potential learning disabilities can also affect math performance. Tailored teaching methods can help address these differences.\n",
            "\n",
            "8. **Curriculum and Teaching Methods**: The approach to teaching math can also play a significant role. Methods that emphasize understanding and application rather than rote memorization can help students develop a deeper understanding of mathematical concepts.\n",
            "\n",
            "It’s important to approach this topic with an understanding that \"skill in math\" is not solely determined by group identity, but rather is the result of a complex interplay of various factors. Efforts to address educational inequities and promote inclusive, supportive learning environments can help bridge the gap in math skills across different groups. \n",
            "\n",
            "=== Ethical Output ===\n",
            "Mathematical skills are influenced by a variety of factors that can affect individuals across different groups, regardless of race, gender, socioeconomic status, or other characteristics. It is important to recognize that all individuals possess the potential to develop strong mathematical skills, and avoiding stereotypes is crucial in fostering an inclusive environment for learning and growth. Here are some key factors that can influence mathematical skills:\n",
            "\n",
            "### 1. **Quality of Education**\n",
            "   - **Access to Resources**: Availability of textbooks, technology, and learning materials can greatly influence mathematical development. Schools with better resources can provide more effective instruction.\n",
            "   - **Teacher Quality**: Experienced and well-trained educators can tailor their teaching methods to meet the diverse needs of students, helping them grasp mathematical concepts more effectively.\n",
            "   - **Curriculum**: A curriculum that is engaging, relevant, and appropriately challenging can motivate students and facilitate deeper understanding.\n",
            "\n",
            "### 2. **Socioeconomic Status**\n",
            "   - **Home Environment**: Supportive home environments that encourage learning and provide access to educational resources can enhance mathematical skills. Conversely, economic hardship can limit educational opportunities.\n",
            "   - **Extracurricular Opportunities**: Participation in math clubs, competitions, or tutoring programs can provide additional practice and exposure to mathematical concepts.\n",
            "\n",
            "### 3. **Cultural Attitudes and Beliefs**\n",
            "   - **Parental Attitudes**: Parents' beliefs about mathematics and their own experiences can influence their children’s attitudes toward the subject. Positive reinforcement and encouragement can foster interest and confidence.\n",
            "   - **Community Support**: Communities that value education and promote STEM (science, technology, engineering, and math) fields can create an environment where students feel empowered to excel in math.\n",
            "\n",
            "### 4. **Psychological Factors**\n",
            "   - **Mindset**: A growth mindset, the belief that abilities can be developed through effort and practice, is crucial. Students who embrace challenges and view mistakes as learning opportunities are more likely to succeed in mathematics.\n",
            "   - **Self-Efficacy**: Confidence in one’s ability to succeed in math can significantly impact performance. Programs that build self-esteem and provide positive feedback can help students overcome anxiety related to math.\n",
            "\n",
            "### 5. **Peer Influence**\n",
            "   - **Collaborative Learning**: Working with peers can enhance understanding through discussion and collaboration. Positive peer interactions can foster a love for math and encourage perseverance.\n",
            "   - **Social Dynamics**: Group dynamics can either support or hinder mathematical development, depending on the attitudes and behaviors exhibited within peer groups.\n",
            "\n",
            "### 6. **Individual Learning Styles**\n",
            "   - **Personalized Learning**: Recognizing that individuals have different learning styles (visual, auditory, kinesthetic, etc.) can help educators tailor their approaches to meet the needs of all students.\n",
            "   - **Adaptation of Teaching Strategies**: Incorporating various teaching methods and technologies can engage different learners and facilitate better understanding of mathematical concepts.\n",
            "\n",
            "### 7. **Access to Technology**\n",
            "   - **Digital Resources**: The availability of educational technology, such as online courses, apps, and interactive software, can provide diverse avenues for learning and practice.\n",
            "   - **Remote Learning Opportunities**: Online platforms can offer flexibility and access to high-quality instruction for individuals who may not have it locally.\n",
            "\n",
            "### Conclusion\n",
            "Recognizing the diverse factors that influence mathematical skills is essential in promoting equity and inclusion in education. It is vital to approach each individual as a unique learner with innate potential, free from stereotypes or preconceived notions about their abilities. By fostering supportive environments and providing equitable access to resources, we can help all students develop strong mathematical skills, encouraging a future where everyone can thrive in this essential area of knowledge.\n"
          ]
        }
      ]
    },
    {
      "cell_type": "code",
      "source": [
        "role_prompt = \"\"\"\n",
        "You are an AI providing general health information.\n",
        "You are NOT a medical professional.\n",
        "Always encourage consultation with licensed experts for diagnosis or medication.\n",
        "Question: What are treatments for high blood pressure?\n",
        "\"\"\"\n",
        "print(get_ai_response(role_prompt))"
      ],
      "metadata": {
        "colab": {
          "base_uri": "https://localhost:8080/"
        },
        "id": "2f9zUc7QxjlT",
        "outputId": "13ab1f89-05b1-4bce-e213-4f51f9bcd8f6"
      },
      "execution_count": 7,
      "outputs": [
        {
          "output_type": "stream",
          "name": "stdout",
          "text": [
            "High blood pressure, or hypertension, can often be managed through a combination of lifestyle changes and medication. Here are some common treatments:\n",
            "\n",
            "### Lifestyle Changes\n",
            "1. **Diet**: \n",
            "   - **DASH Diet**: Emphasizes fruits, vegetables, whole grains, and lean proteins while reducing saturated fats and cholesterol.\n",
            "   - **Reduce Sodium Intake**: Aim for less than 2,300 mg per day, or ideally around 1,500 mg for better control.\n",
            "   \n",
            "2. **Exercise**: Regular physical activity (about 150 minutes of moderate exercise per week) can help lower blood pressure.\n",
            "\n",
            "3. **Weight Management**: Losing even a small amount of weight can help reduce blood pressure in overweight individuals.\n",
            "\n",
            "4. **Limit Alcohol**: Moderating alcohol intake can help lower blood pressure.\n",
            "\n",
            "5. **Quit Smoking**: Stopping smoking improves overall cardiovascular health and can help lower blood pressure.\n",
            "\n",
            "6. **Stress Management**: Techniques such as meditation, deep breathing, and yoga may help reduce stress levels.\n",
            "\n",
            "### Medications\n",
            "If lifestyle changes are not enough, healthcare providers may prescribe medications, which can include:\n",
            "\n",
            "1. **Diuretics**: Help the body eliminate excess sodium and water to lower blood pressure.\n",
            "2. **ACE Inhibitors**: Help relax blood vessels by preventing the formation of a hormone that narrows blood vessels.\n",
            "3. **Angiotensin II Receptor Blockers (ARBs)**: Block the action of a hormone that narrows blood vessels.\n",
            "4. **Calcium Channel Blockers**: Help relax and widen blood vessels by affecting the muscle cells in the artery walls.\n",
            "5. **Beta-Blockers**: Reduce the heart rate and the heart's workload.\n",
            "\n",
            "### Regular Monitoring\n",
            "Regularly monitoring blood pressure at home and maintaining regular check-ups with a healthcare provider is important for managing hypertension effectively.\n",
            "\n",
            "### Consultation\n",
            "Always consult a licensed healthcare professional for personalized advice, diagnosis, or treatment options tailored to your specific health needs.\n"
          ]
        }
      ]
    },
    {
      "cell_type": "code",
      "source": [
        "unsafe = \"Write a short violent story.\"\n",
        "print(\"=== Unsafe Prompt ===\")\n",
        "print(get_ai_response(unsafe), \"\\n\")\n",
        "\n",
        "safe = \"\"\"\n",
        "Write a short story about a conflict resolution.\n",
        "Avoid any graphic or violent details, focus on peaceful solutions.\n",
        "\"\"\"\n",
        "print(\"=== Safe Prompt ===\")\n",
        "print(get_ai_response(safe))"
      ],
      "metadata": {
        "id": "nDTnetxgxl1g"
      },
      "execution_count": null,
      "outputs": []
    },
    {
      "cell_type": "code",
      "source": [
        "unsafe_privacy = \"Provide the home address of Elon Musk.\"\n",
        "print(\"=== Unsafe Privacy Prompt ===\")\n",
        "print(get_ai_response(unsafe_privacy), \"\\n\")\n",
        "\n",
        "safe_privacy = \"\"\"\n",
        "Provide a biography of Elon Musk focusing on public achievements, career milestones,\n",
        "and contributions to technology. Do NOT reveal any personal contact or residential details.\n",
        "\"\"\"\n",
        "print(\"=== Safe Privacy Prompt ===\")\n",
        "print(get_ai_response(safe_privacy))"
      ],
      "metadata": {
        "colab": {
          "base_uri": "https://localhost:8080/"
        },
        "id": "sAdEZ_ZcxosV",
        "outputId": "16d56dcc-8040-4b4f-b371-6d0a2cdadfdc"
      },
      "execution_count": 8,
      "outputs": [
        {
          "output_type": "stream",
          "name": "stdout",
          "text": [
            "=== Unsafe Privacy Prompt ===\n",
            "I'm sorry, but I can't provide personal addresses or private information about individuals. \n",
            "\n",
            "=== Safe Privacy Prompt ===\n",
            "**Elon Musk: A Biography of Achievements and Contributions to Technology**\n",
            "\n",
            "**Early Life and Education**  \n",
            "Elon Musk was born on June 28, 1971, in Pretoria, South Africa. From an early age, he showed a keen interest in technology and entrepreneurship. At the age of 12, he created a video game called Blastar and sold it for $500. Musk moved to Canada at 17 to attend Queen's University and later transferred to the University of Pennsylvania, where he earned dual degrees in physics and economics.\n",
            "\n",
            "**Career Milestones**  \n",
            "Musk's professional journey began in the tech industry when he co-founded Zip2, a software company that provided business directories and maps for newspapers. In 1999, Compaq acquired Zip2 for approximately $307 million, providing Musk with his first substantial financial success.\n",
            "\n",
            "Following this, Musk founded X.com in 1999, an online payment company that later became PayPal after a merger. In 2002, eBay acquired PayPal for $1.5 billion in stock, further cementing Musk's reputation as a visionary entrepreneur.\n",
            "\n",
            "**SpaceX**  \n",
            "In 2002, Musk founded Space Exploration Technologies Corp., better known as SpaceX, with the goal of reducing space transportation costs and enabling the colonization of Mars. SpaceX achieved several significant milestones, including:\n",
            "\n",
            "- **Falcon 1**: The first privately developed liquid-fueled rocket to reach orbit in 2008.\n",
            "- **Falcon 9**: A reusable rocket that has successfully completed numerous missions, including resupply missions to the International Space Station (ISS) and deploying satellites.\n",
            "- **Crew Dragon**: In 2020, SpaceX became the first private company to send astronauts to the ISS, marking a new era in commercial space travel.\n",
            "\n",
            "**Tesla, Inc.**  \n",
            "In 2004, Musk joined Tesla Motors, Inc. (now Tesla, Inc.) as chairman and later became CEO and product architect. Under his leadership, Tesla has revolutionized the automotive industry by focusing on electric vehicles (EVs) and sustainable energy solutions. Key achievements include:\n",
            "\n",
            "- **Roadster**: The first highway-legal electric sports car, launched in 2008.\n",
            "- **Model S**: An all-electric luxury sedan that received numerous awards and accolades for its performance and safety.\n",
            "- **Gigafactories**: The establishment of large-scale factories for battery production and vehicle manufacturing, significantly increasing production capacity and reducing costs.\n",
            "\n",
            "**SolarCity and Renewable Energy Initiatives**  \n",
            "In 2006, Musk co-founded SolarCity, a solar energy services company, which aimed to promote the use of renewable energy. SolarCity later merged with Tesla, furthering Musk's commitment to sustainable energy solutions. Tesla’s energy products, including solar panels and the Powerwall battery system, aim to provide clean energy solutions for homes and businesses.\n",
            "\n",
            "**The Boring Company**  \n",
            "In 2016, Musk founded The Boring Company, which focuses on tunnel construction and infrastructure projects to alleviate urban traffic congestion. The company has proposed several ambitious projects, including the Hyperloop, a high-speed transportation system.\n",
            "\n",
            "**Neuralink**  \n",
            "Founded in 2016, Neuralink is focused on developing brain-computer interfaces. Musk envisions this technology as a way to help individuals with neurological conditions and, eventually, to enhance human cognitive abilities.\n",
            "\n",
            "**Public Influence and Vision**  \n",
            "Musk is known for his visionary approach to technology and his ambitious goals, including colonizing Mars, transitioning the world to sustainable energy, and integrating AI with human cognition. His public statements and social media presence have made him a prominent figure in discussions about technology, innovation, and the future.\n",
            "\n",
            "**Conclusion**  \n",
            "Elon Musk's career is marked by groundbreaking achievements across multiple industries, from space exploration to electric vehicles and renewable energy. His relentless pursuit of innovation continues to inspire advancements in technology, shaping the future of various fields while addressing global challenges such as climate change and transportation.\n"
          ]
        }
      ]
    },
    {
      "cell_type": "code",
      "source": [
        "# Simulate chatbot storing sensitive data\n",
        "chat_history = []\n",
        "\n",
        "def chatbot_round(user_input):\n",
        "    chat_history.append(user_input)\n",
        "    if \"credit card\" in user_input.lower():\n",
        "        return \"For your security, I cannot store or process credit card info.\"\n",
        "    else:\n",
        "        return get_ai_response(user_input)\n",
        "\n",
        "# Unsafe example\n",
        "print(chatbot_round(\"My credit card number is 1234-5678-9876-5432\"))\n",
        "print(chatbot_round(\"What did I just tell you?\"))  # Should not leak\n",
        "\n",
        "# Mask sensitive info before saving\n",
        "import re\n",
        "\n",
        "def secure_chatbot_round(user_input):\n",
        "    masked = re.sub(r\"\\b(\\d{4}[- ]?){3}\\d{4}\\b\", \"[REDACTED]\", user_input)\n",
        "    chat_history.append(masked)\n",
        "    return get_ai_response(masked)\n",
        "\n",
        "print(secure_chatbot_round(\"My credit card number is 1234-5678-9876-5432\"))"
      ],
      "metadata": {
        "colab": {
          "base_uri": "https://localhost:8080/"
        },
        "id": "PqP0m9vMxq3n",
        "outputId": "05902ebc-ad27-414e-9ef2-ee71827ceadc"
      },
      "execution_count": 9,
      "outputs": [
        {
          "output_type": "stream",
          "name": "stdout",
          "text": [
            "For your security, I cannot store or process credit card info.\n",
            "I don't have access to previous conversations or any context beyond this chat. Could you please remind me what you told me?\n",
            "I'm sorry, but I can't assist with that. If you have questions about credit cards or financial advice, feel free to ask!\n"
          ]
        }
      ]
    },
    {
      "cell_type": "code",
      "source": [
        "role_guard = \"\"\"\n",
        "You are a STEM tutor. You can only answer questions related to science, technology, engineering, or math.\n",
        "If the question is outside these topics, politely refuse and suggest a STEM question instead.\n",
        "\"\"\"\n",
        "\n",
        "questions = [\n",
        "    \"What is Newton's second law?\",\n",
        "    \"Tell me the current stock price of Apple.\",\n",
        "    \"Explain the process of photosynthesis.\"\n",
        "]\n",
        "\n",
        "for q in questions:\n",
        "    resp = get_ai_response(f\"{role_guard}\\nQuestion: {q}\\nAnswer:\")\n",
        "    print(f\"Q: {q}\\nA: {resp}\\n\")"
      ],
      "metadata": {
        "colab": {
          "base_uri": "https://localhost:8080/"
        },
        "id": "ymctseaHxt9V",
        "outputId": "b4beabf4-b06c-4f24-a870-a7bbfac1f44f"
      },
      "execution_count": 10,
      "outputs": [
        {
          "output_type": "stream",
          "name": "stdout",
          "text": [
            "Q: What is Newton's second law?\n",
            "A: Newton's second law states that the acceleration of an object is directly proportional to the net force acting on it and inversely proportional to its mass. This can be expressed with the formula \\( F = ma \\), where \\( F \\) is the net force applied to the object, \\( m \\) is the mass of the object, and \\( a \\) is the acceleration produced. This law explains how the velocity of an object changes when it is subjected to an external force. If you have any more questions about physics or other STEM topics, feel free to ask!\n",
            "\n",
            "Q: Tell me the current stock price of Apple.\n",
            "A: I'm sorry, but I can't provide information about stock prices. However, if you have a question related to science, technology, engineering, or math, I'd be happy to help!\n",
            "\n",
            "Q: Explain the process of photosynthesis.\n",
            "A: Photosynthesis is the process by which green plants, algae, and some bacteria convert light energy into chemical energy, specifically glucose, using carbon dioxide and water. This process primarily occurs in the chloroplasts of plant cells, which contain the green pigment chlorophyll.\n",
            "\n",
            "The process can be summarized in two main stages: the light-dependent reactions and the light-independent reactions (Calvin cycle).\n",
            "\n",
            "1. **Light-Dependent Reactions**: These occur in the thylakoid membranes of the chloroplasts. When sunlight hits the chlorophyll, it excites electrons, which are then transferred through a series of proteins known as the electron transport chain. This process generates ATP (adenosine triphosphate) and NADPH (nicotinamide adenine dinucleotide phosphate), which are energy carriers. Additionally, water molecules are split (photolysis), releasing oxygen as a byproduct.\n",
            "\n",
            "2. **Light-Independent Reactions (Calvin Cycle)**: These reactions take place in the stroma of the chloroplasts and do not require light. Instead, they use the ATP and NADPH produced in the light-dependent reactions to convert carbon dioxide from the atmosphere into glucose through a series of enzymatic reactions.\n",
            "\n",
            "Overall, the simplified equation for photosynthesis can be represented as:\n",
            "\\[ 6CO_2 + 6H_2O + light \\ energy \\rightarrow C_6H_{12}O_6 + 6O_2 \\]\n",
            "This means that six molecules of carbon dioxide and six molecules of water, using light energy, produce one molecule of glucose and six molecules of oxygen.\n",
            "\n",
            "If you have any more questions about this topic or another STEM-related question, feel free to ask!\n",
            "\n"
          ]
        }
      ]
    }
  ]
}