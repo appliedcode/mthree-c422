{
  "cells": [
    {
      "cell_type": "markdown",
      "metadata": {
        "id": "view-in-github",
        "colab_type": "text"
      },
      "source": [
        "<a href=\"https://colab.research.google.com/github/appliedcode/mthree-c422/blob/mthree-c422-Avantika/Data_Ethics.ipynb\" target=\"_parent\"><img src=\"https://colab.research.google.com/assets/colab-badge.svg\" alt=\"Open In Colab\"/></a>"
      ]
    },
    {
      "cell_type": "markdown",
      "source": [
        "# Practice Exercise Set: Data Ethics — Hands-On with Code\n",
        "\n",
        "Covers: Data Collection \\& Consent, Bias, Minimization, Anonymization, Risks, Governance, Quality, Sharing, and Monitoring.\n",
        "\n",
        "***\n",
        "\n",
        "## 1. Data Collection, Privacy \\& Consent\n",
        "\n",
        "### Exercise 1.1 — Consent Simulation and Filtering\n",
        "\n",
        "- Generate synthetic user data with various consent types (explicit, implicit, none).\n",
        "- Write function to filter out records lacking valid consent."
      ],
      "metadata": {
        "id": "YGaiV8GXXwbO"
      }
    },
    {
      "cell_type": "code",
      "source": [
        "import pandas as pd\n",
        "import numpy as np\n",
        "\n",
        "np.random.seed(2025)\n",
        "n = 500\n",
        "\n",
        "# Synthetic user data with consent types\n",
        "consent_types = [\"explicit\", \"implicit\", \"none\"]\n",
        "data = pd.DataFrame({\n",
        "    \"User_ID\": range(1, n+1),\n",
        "    \"Age\": np.random.randint(18, 80, n),\n",
        "    \"Gender\": np.random.choice([\"Male\", \"Female\", \"Other\"], n, p=[0.48, 0.48, 0.04]),\n",
        "    \"Consent_Type\": np.random.choice(consent_types, n, p=[0.6, 0.3, 0.1])\n",
        "})\n",
        "\n",
        "# Filter function: keep only explicit or implicit consent\n",
        "def filter_valid_consent(df):\n",
        "    valid = df[df[\"Consent_Type\"].isin([\"explicit\", \"implicit\"])]\n",
        "    return valid\n",
        "\n",
        "valid_data = filter_valid_consent(data)\n",
        "print(f\"Total records: {len(data)}; Records with valid consent: {len(valid_data)}\")"
      ],
      "metadata": {
        "id": "xYA0oa5KmoHV",
        "outputId": "8a1a16f0-76a4-4c1a-e45b-e5a7694de8ed",
        "colab": {
          "base_uri": "https://localhost:8080/"
        }
      },
      "execution_count": 1,
      "outputs": [
        {
          "output_type": "stream",
          "name": "stdout",
          "text": [
            "Total records: 500; Records with valid consent: 447\n"
          ]
        }
      ]
    },
    {
      "cell_type": "markdown",
      "source": [
        "*Explanation:* The function ensures only records with valid consent are used, respecting privacy and legal constraints.\n",
        "\n",
        "***\n",
        "\n",
        "## 2. Bias in Data\n",
        "\n",
        "### Exercise 2.1 — Detect Gender Bias in Outcome\n",
        "\n",
        "- Add a biased outcome variable where males tend to respond more positively.\n",
        "- Calculate and visualize positive response rates by gender."
      ],
      "metadata": {
        "id": "afZRZ23XmqBs"
      }
    },
    {
      "cell_type": "code",
      "source": [
        "import matplotlib.pyplot as plt\n",
        "\n",
        "# Add biased outcome variable\n",
        "data[\"Response\"] = np.random.choice([0, 1], n, p=[0.6, 0.4])\n",
        "male_mask = data[\"Gender\"] == \"Male\"\n",
        "data.loc[male_mask, \"Response\"] = np.random.choice([0, 1], male_mask.sum(), p=[0.4, 0.6])\n",
        "\n",
        "# Calculate positive response rates by Gender\n",
        "response_rates = data.groupby(\"Gender\")[\"Response\"].mean()\n",
        "print(response_rates)\n",
        "\n",
        "# Visualize\n",
        "response_rates.plot(kind=\"bar\", title=\"Positive Response Rate by Gender\")\n",
        "plt.xlabel(\"Gender\")\n",
        "plt.ylabel(\"Positive Response Rate\")\n",
        "plt.show()"
      ],
      "metadata": {
        "id": "hLeKU7g-msRQ",
        "outputId": "b41ab76a-defe-43fd-874d-d922c22c1e1c",
        "colab": {
          "base_uri": "https://localhost:8080/",
          "height": 595
        }
      },
      "execution_count": 2,
      "outputs": [
        {
          "output_type": "stream",
          "name": "stdout",
          "text": [
            "Gender\n",
            "Female    0.355856\n",
            "Male      0.584980\n",
            "Other     0.480000\n",
            "Name: Response, dtype: float64\n"
          ]
        },
        {
          "output_type": "display_data",
          "data": {
            "text/plain": [
              "<Figure size 640x480 with 1 Axes>"
            ],
            "image/png": "[encoded data removed]"
          },
          "metadata": {}
        }
      ]
    },
    {
      "cell_type": "markdown",
      "source": [
        "\n",
        "***\n",
        "\n",
        "## 3. Data Minimization\n",
        "\n",
        "### Exercise 3.1 — Keep Only Essential Features\n",
        "\n",
        "- Select columns necessary for analysis and remove others.\n"
      ],
      "metadata": {
        "id": "TLAH9g0Omu7A"
      }
    },
    {
      "cell_type": "code",
      "source": [
        "# Minimal dataset for analysis\n",
        "minimal_data = data[[\"User_ID\", \"Age\", \"Gender\", \"Response\"]]\n",
        "print(minimal_data.head())"
      ],
      "metadata": {
        "id": "CkVZw8cvm0uZ",
        "outputId": "914ebb7a-f4c7-4522-d039-631504316729",
        "colab": {
          "base_uri": "https://localhost:8080/"
        }
      },
      "execution_count": 3,
      "outputs": [
        {
          "output_type": "stream",
          "name": "stdout",
          "text": [
            "   User_ID  Age  Gender  Response\n",
            "0        1   48  Female         0\n",
            "1        2   36  Female         0\n",
            "2        3   48    Male         1\n",
            "3        4   30  Female         0\n",
            "4        5   74  Female         0\n"
          ]
        }
      ]
    },
    {
      "cell_type": "markdown",
      "source": [
        "*Explanation:*\n",
        "Retaining only necessary data reduces privacy risks and potential misuse.\n",
        "\n",
        "***\n",
        "\n",
        "## 4. Anonymization \\& Pseudonymization\n",
        "\n",
        "### Exercise 4.1 — Pseudonymize User Identifiers\n",
        "\n",
        "- Use SHA-256 hashing to pseudonymize User_ID."
      ],
      "metadata": {
        "id": "pofRUtu1m2q0"
      }
    },
    {
      "cell_type": "code",
      "source": [
        "import hashlib\n",
        "\n",
        "data[\"User_PseudoID\"] = data[\"User_ID\"].apply(lambda x: hashlib.sha256(str(x).encode()).hexdigest())\n",
        "print(data[[\"User_ID\", \"User_PseudoID\"]].head())"
      ],
      "metadata": {
        "id": "uSkiwOTgm4Jf",
        "outputId": "a252a929-4973-4870-ed52-deb20be2fd98",
        "colab": {
          "base_uri": "https://localhost:8080/"
        }
      },
      "execution_count": 4,
      "outputs": [
        {
          "output_type": "stream",
          "name": "stdout",
          "text": [
            "   User_ID                                      User_PseudoID\n",
            "0        1  6b86b273ff34fce19d6b804eff5a3f5747ada4eaa22f1d...\n",
            "1        2  d4735e3a265e16eee03f59718b9b5d03019c07d8b6c51f...\n",
            "2        3  4e07408562bedb8b60ce05c1decfe3ad16b72230967de0...\n",
            "3        4  4b227777d4dd1fc61c6f884f48641d02b4d121d3fd328c...\n",
            "4        5  ef2d127de37b942baad06145e54b0c619a1f22327b2ebb...\n"
          ]
        }
      ]
    },
    {
      "cell_type": "markdown",
      "source": [
        "\n",
        "*Explanation:*\n",
        "Pseudonymization allows data utility without directly exposing identities.\n",
        "\n",
        "***\n",
        "\n",
        "## 5. De-Anonymization Risks\n",
        "\n",
        "### Exercise 5.1 — Simulate Linkage Attack\n",
        "\n",
        "- Using auxiliary data, attempt naive re-identification by demographic matching."
      ],
      "metadata": {
        "id": "5GLso2w2m5cy"
      }
    },
    {
      "cell_type": "code",
      "source": [
        "# Auxiliary dataset with demographics\n",
        "aux_data = data[[\"User_PseudoID\", \"Age\", \"Gender\"]].sample(100, random_state=1)\n",
        "\n",
        "# Attempt match on Age & Gender to re-identify\n",
        "merged = pd.merge(data, aux_data.drop(columns=[\"User_PseudoID\"]), on=[\"Age\", \"Gender\"])\n",
        "print(f\"Possible re-identifications found: {len(merged)}\")"
      ],
      "metadata": {
        "id": "giiGMXSdm7GH",
        "outputId": "d6169096-5db4-4d36-8b9e-0c8ef0e614ab",
        "colab": {
          "base_uri": "https://localhost:8080/"
        }
      },
      "execution_count": 5,
      "outputs": [
        {
          "output_type": "stream",
          "name": "stdout",
          "text": [
            "Possible re-identifications found: 458\n"
          ]
        }
      ]
    },
    {
      "cell_type": "markdown",
      "source": [
        "*Explanation:*\n",
        "Matches indicate risk in current anonymization, highlighting need for stronger privacy methods.\n",
        "\n",
        "***\n",
        "\n",
        "## 6. Data Governance \\& Stewardship\n",
        "\n",
        "### Exercise 6.1 — Define Roles and Access Control\n",
        "\n",
        "- Simulate a data access matrix for Admin vs Analyst."
      ],
      "metadata": {
        "id": "nMLM9OOzm88G"
      }
    },
    {
      "cell_type": "code",
      "source": [
        "access_control = pd.DataFrame({\n",
        "    \"Field\": [\"User_ID\", \"Age\", \"Gender\", \"Response\", \"Sensitive_Info\"],\n",
        "    \"Admin\": [\"Read/Write\"]*5,\n",
        "    \"Analyst\": [\"No Access\", \"Read\", \"Read\", \"Read\", \"No Access\"]\n",
        "})\n",
        "\n",
        "print(access_control)"
      ],
      "metadata": {
        "id": "mZ1dXEGGm-ca",
        "outputId": "7c2be4bc-1e85-49d6-8987-c5c36fbb2ced",
        "colab": {
          "base_uri": "https://localhost:8080/"
        }
      },
      "execution_count": 6,
      "outputs": [
        {
          "output_type": "stream",
          "name": "stdout",
          "text": [
            "            Field       Admin    Analyst\n",
            "0         User_ID  Read/Write  No Access\n",
            "1             Age  Read/Write       Read\n",
            "2          Gender  Read/Write       Read\n",
            "3        Response  Read/Write       Read\n",
            "4  Sensitive_Info  Read/Write  No Access\n"
          ]
        }
      ]
    },
    {
      "cell_type": "markdown",
      "source": [
        "*Explanation:*\n",
        "Clear roles and permissions promote responsible data stewardship.\n",
        "\n",
        "***\n",
        "\n",
        "## 7. Data Quality \\& Lineage\n",
        "\n",
        "### Exercise 7.1 — Check Missing and Invalid Data"
      ],
      "metadata": {
        "id": "aWcu0uzUm_-X"
      }
    },
    {
      "cell_type": "code",
      "source": [
        "print(\"Missing values per column:\\n\", data.isnull().sum())\n",
        "print(\"Invalid age entries (negative age):\", (data[\"Age\"] < 0).sum())"
      ],
      "metadata": {
        "id": "1gRVlTEgnBeB",
        "outputId": "eb54e162-7db9-4032-f915-b21a441c88eb",
        "colab": {
          "base_uri": "https://localhost:8080/"
        }
      },
      "execution_count": 7,
      "outputs": [
        {
          "output_type": "stream",
          "name": "stdout",
          "text": [
            "Missing values per column:\n",
            " User_ID          0\n",
            "Age              0\n",
            "Gender           0\n",
            "Consent_Type     0\n",
            "Response         0\n",
            "User_PseudoID    0\n",
            "dtype: int64\n",
            "Invalid age entries (negative age): 0\n"
          ]
        }
      ]
    },
    {
      "cell_type": "markdown",
      "source": [
        "*Explanation:*\n",
        "Data quality checks detect issues that could affect analysis and decision-making.\n",
        "\n",
        "***\n",
        "\n",
        "## 8. Ethical Data Sharing\n",
        "\n",
        "### Exercise 8.1 — Simulate Data Sharing Approval Logic"
      ],
      "metadata": {
        "id": "cak0LH7wnDUa"
      }
    },
    {
      "cell_type": "code",
      "source": [
        "def approve_data_sharing(request_type):\n",
        "    if request_type == \"aggregated\":\n",
        "        return True\n",
        "    elif request_type == \"anonymized\":\n",
        "        return True\n",
        "    elif request_type == \"full\":\n",
        "        return False  # restrict full raw data sharing\n",
        "    else:\n",
        "        return False\n",
        "\n",
        "requests = [\"aggregated\", \"anonymized\", \"full\", \"unknown\"]\n",
        "for req in requests:\n",
        "    print(f\"Request '{req}': {'Approved' if approve_data_sharing(req) else 'Denied'}\")"
      ],
      "metadata": {
        "id": "km4Y0khPnE7i",
        "outputId": "6fcd1ac9-1eb3-4802-8564-8b6680c40d0c",
        "colab": {
          "base_uri": "https://localhost:8080/"
        }
      },
      "execution_count": 8,
      "outputs": [
        {
          "output_type": "stream",
          "name": "stdout",
          "text": [
            "Request 'aggregated': Approved\n",
            "Request 'anonymized': Approved\n",
            "Request 'full': Denied\n",
            "Request 'unknown': Denied\n"
          ]
        }
      ]
    },
    {
      "cell_type": "markdown",
      "source": [
        "*Explanation:*\n",
        "Policy-based approval helps enforce ethical sharing practices.\n",
        "\n",
        "***\n",
        "\n",
        "## 9. Monitoring \\& Compliance\n",
        "\n",
        "### Exercise 9.1 — Alert on Bias and Consent Compliance"
      ],
      "metadata": {
        "id": "fQOwTSQInGvT"
      }
    },
    {
      "cell_type": "code",
      "source": [
        "# Calculate response disparity by gender\n",
        "disparity = response_rates.max() - response_rates.min()\n",
        "threshold = 0.15\n",
        "\n",
        "if disparity > threshold:\n",
        "    print(f\"⚠️ Alert: Gender bias disparity {disparity:.2f} exceeds threshold {threshold}\")\n",
        "else:\n",
        "    print(f\"✅ Bias disparity {disparity:.2f} within acceptable limit\")\n",
        "\n",
        "# Consent compliance check\n",
        "valid_consent_ratio = len(valid_data) / len(data)\n",
        "if valid_consent_ratio < 0.9:\n",
        "    print(f\"⚠️ Alert: Consent compliance low ({valid_consent_ratio:.2f})\")\n",
        "else:\n",
        "    print(f\"✅ Consent compliance good ({valid_consent_ratio:.2f})\")"
      ],
      "metadata": {
        "id": "Tlpyp8uznJA3",
        "outputId": "6a2ee807-21a1-4632-c3ce-7c5a762bdca7",
        "colab": {
          "base_uri": "https://localhost:8080/"
        }
      },
      "execution_count": 9,
      "outputs": [
        {
          "output_type": "stream",
          "name": "stdout",
          "text": [
            "⚠️ Alert: Gender bias disparity 0.23 exceeds threshold 0.15\n",
            "⚠️ Alert: Consent compliance low (0.89)\n"
          ]
        }
      ]
    },
    {
      "cell_type": "markdown",
      "source": [
        "*Explanation:*\n",
        "Ongoing monitoring ensures ethical standards are maintained.\n",
        "\n",
        "***"
      ],
      "metadata": {
        "id": "z-hdRmtWnKxj"
      }
    },
    {
      "cell_type": "markdown",
      "source": [],
      "metadata": {
        "id": "5AMuzEHInNTW"
      }
    }
  ],
  "metadata": {
    "colab": {
      "provenance": [],
      "include_colab_link": true
    },
    "kernelspec": {
      "display_name": "Python 3",
      "name": "python3"
    }
  },
  "nbformat": 4,
  "nbformat_minor": 0
}