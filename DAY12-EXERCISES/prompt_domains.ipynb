{
  "nbformat": 4,
  "nbformat_minor": 0,
  "metadata": {
    "colab": {
      "provenance": []
    },
    "kernelspec": {
      "name": "python3",
      "display_name": "Python 3"
    },
    "language_info": {
      "name": "python"
    }
  },
  "cells": [
    {
      "cell_type": "code",
      "execution_count": 1,
      "metadata": {
        "colab": {
          "base_uri": "https://localhost:8080/"
        },
        "id": "tv5kncn2mUhN",
        "outputId": "97a439f4-cdd2-45d9-cfe2-1516e21f94f9"
      },
      "outputs": [
        {
          "output_type": "stream",
          "name": "stdout",
          "text": [
            "✅ OpenAI API key loaded safely\n"
          ]
        }
      ],
      "source": [
        "from google.colab import userdata\n",
        "import os\n",
        "\n",
        "# Set your OpenAI API key securely in Colab Secrets (once)\n",
        "# userdata.set(\"OPENAI_API_KEY\", \"your-api-key-here\")\n",
        "\n",
        "# Retrieve key in your notebook\n",
        "openai_api_key = userdata.get(\"OPENAI_API_KEY\")\n",
        "if openai_api_key:\n",
        "    os.environ[\"OPENAI_API_KEY\"] = openai_api_key\n",
        "    print(\"✅ OpenAI API key loaded safely\")\n",
        "else:\n",
        "    print(\"❌ OpenAI API key not found. Please set it using Colab Secrets.\")"
      ]
    },
    {
      "cell_type": "code",
      "source": [
        "!pip install --quiet openai -q\n",
        "# Create client\n",
        "from openai import OpenAI\n",
        "client = OpenAI(api_key=os.environ[\"OPENAI_API_KEY\"])"
      ],
      "metadata": {
        "id": "yzFRW6IDnP3V"
      },
      "execution_count": 2,
      "outputs": []
    },
    {
      "cell_type": "code",
      "source": [
        "# Helper Function to Send Prompts\n",
        "def generate_response(prompt, model=\"gpt-4o-mini\", temperature=0.7):\n",
        "    \"\"\"\n",
        "    Send a prompt to the OpenAI model and return the response text.\n",
        "    \"\"\"\n",
        "    try:\n",
        "        completion = client.chat.completions.create(\n",
        "            model=model,\n",
        "            messages=[{\"role\": \"user\", \"content\": prompt}],\n",
        "            temperature=temperature\n",
        "        )\n",
        "        return completion.choices[0].message.content.strip()\n",
        "    except Exception as e:\n",
        "        return f\"Error: {e}\""
      ],
      "metadata": {
        "id": "RLovdTrMnR4Y"
      },
      "execution_count": 3,
      "outputs": []
    },
    {
      "cell_type": "code",
      "source": [
        "# 1.Craft a base prompt that instructs the model to act as a friendly customer service chatbot.\n",
        "prompt = \"\"\"\n",
        "You are a friendly customer service chatbot named HelpBot.\n",
        "Answer user questions clearly and positively.\n",
        "If you don't know the answer, politely say you will follow up.\n",
        "User: How do I reset my password?\n",
        "HelpBot:\n",
        "\"\"\"\n",
        "\n",
        "response = generate_response(prompt)\n",
        "print(response)"
      ],
      "metadata": {
        "colab": {
          "base_uri": "https://localhost:8080/"
        },
        "id": "PfnsBiFJnVVm",
        "outputId": "cb16d70a-2da2-45fa-ecc4-bff82b9843fe"
      },
      "execution_count": 4,
      "outputs": [
        {
          "output_type": "stream",
          "name": "stdout",
          "text": [
            "To reset your password, please follow these steps:\n",
            "\n",
            "1. Go to the login page of the website or app.\n",
            "2. Click on the \"Forgot Password?\" link.\n",
            "3. Enter your registered email address and submit the form.\n",
            "4. Check your email for a password reset link and follow the instructions provided.\n",
            "\n",
            "If you need further assistance, feel free to ask!\n"
          ]
        }
      ]
    },
    {
      "cell_type": "code",
      "source": [
        "# 2. Extend with examples of typical Q&A to improve chatbot behavior (few-shot prompting):\n",
        "few_shot_prompt = \"\"\"\n",
        "You are HelpBot, a friendly customer service chatbot.\n",
        "\n",
        "User: How do I reset my password?\n",
        "HelpBot: To reset your password, go to account settings and click 'Forgot Password'.\n",
        "\n",
        "User: What is your refund policy?\n",
        "HelpBot: We offer refunds within 30 days of purchase; please contact support.\n",
        "\n",
        "User: How do I update my shipping address?\n",
        "HelpBot:\n",
        "\"\"\"\n",
        "\n",
        "response = generate_response(few_shot_prompt)\n",
        "print(response)\n"
      ],
      "metadata": {
        "colab": {
          "base_uri": "https://localhost:8080/"
        },
        "id": "TtZW_DxUnknV",
        "outputId": "6e8f12aa-d385-4d1c-af23-a9fe26601898"
      },
      "execution_count": 5,
      "outputs": [
        {
          "output_type": "stream",
          "name": "stdout",
          "text": [
            "To update your shipping address, go to your account settings, select 'Shipping Address', and enter your new address. Don’t forget to save the changes! If you need further assistance, feel free to ask!\n"
          ]
        }
      ]
    },
    {
      "cell_type": "code",
      "source": [
        "# Exercise 2: Summarization Prompt Engineering\n",
        "# 1.  Summarize a sample article into a short paragraph:\n",
        "article_text = \"\"\"\n",
        "Artificial intelligence (AI) is transforming many industries by automating tasks and generating new insights.\n",
        "AI technologies include machine learning, natural language processing, and computer vision.\n",
        "\"\"\"\n",
        "\n",
        "prompt = f\"Summarize the following text in two sentences:\\n\\n{article_text}\"\n",
        "\n",
        "response = generate_response(prompt)\n",
        "print(response)"
      ],
      "metadata": {
        "colab": {
          "base_uri": "https://localhost:8080/"
        },
        "id": "A5HkRftanosb",
        "outputId": "2264ace6-f7fe-4bec-e25d-f88945d1045e"
      },
      "execution_count": 6,
      "outputs": [
        {
          "output_type": "stream",
          "name": "stdout",
          "text": [
            "Artificial intelligence (AI) is revolutionizing various industries through task automation and the creation of new insights. Key AI technologies encompass machine learning, natural language processing, and computer vision.\n"
          ]
        }
      ]
    },
    {
      "cell_type": "code",
      "source": [
        "#2. Summarize the same text as bullet points, specifying the format:\n",
        "prompt_bullets = f\"\"\"\n",
        "Summarize the following text into 3 concise bullet points:\n",
        "\n",
        "{article_text}\n",
        "\"\"\"\n",
        "\n",
        "response = generate_response(prompt_bullets)\n",
        "print(response)"
      ],
      "metadata": {
        "colab": {
          "base_uri": "https://localhost:8080/"
        },
        "id": "6DyeITr_n1oZ",
        "outputId": "5e52fddb-6a36-48ed-b332-5a8673b2ac44"
      },
      "execution_count": 7,
      "outputs": [
        {
          "output_type": "stream",
          "name": "stdout",
          "text": [
            "- Artificial intelligence (AI) is revolutionizing various industries through task automation and insight generation.  \n",
            "- Key AI technologies encompass machine learning, natural language processing, and computer vision.  \n",
            "- AI's applications lead to increased efficiency and innovation across sectors.\n"
          ]
        }
      ]
    },
    {
      "cell_type": "code",
      "source": [
        "#  Exercise 3: Coding Prompt Engineering\n",
        "code_prompt = \"\"\"\n",
        "Write a Python function to sort a list of integers using bubble sort.\n",
        "Include comments explaining each step.\n",
        "\"\"\"\n",
        "\n",
        "response = generate_response(code_prompt)\n",
        "print(response)"
      ],
      "metadata": {
        "colab": {
          "base_uri": "https://localhost:8080/"
        },
        "id": "DRBfU55cn8by",
        "outputId": "d816bdd1-1f9f-4116-a918-c28af2601d4a"
      },
      "execution_count": 8,
      "outputs": [
        {
          "output_type": "stream",
          "name": "stdout",
          "text": [
            "Certainly! Below is a Python function that implements the bubble sort algorithm to sort a list of integers. Each step is accompanied by comments to explain what is happening.\n",
            "\n",
            "```python\n",
            "def bubble_sort(arr):\n",
            "    \"\"\"\n",
            "    Sorts a list of integers using the bubble sort algorithm.\n",
            "    \n",
            "    Parameters:\n",
            "    arr (list): A list of integers to be sorted.\n",
            "    \n",
            "    Returns:\n",
            "    list: The sorted list of integers.\n",
            "    \"\"\"\n",
            "    n = len(arr)  # Get the number of elements in the list\n",
            "    \n",
            "    # Outer loop to iterate through the entire array\n",
            "    for i in range(n):\n",
            "        # A flag to check if any swaps were made during this pass\n",
            "        swapped = False\n",
            "        \n",
            "        # Inner loop to compare adjacent elements\n",
            "        # The last i elements are already sorted, so we can ignore them\n",
            "        for j in range(0, n - i - 1):\n",
            "            # If the current element is greater than the next element\n",
            "            if arr[j] > arr[j + 1]:\n",
            "                # Swap the elements\n",
            "                arr[j], arr[j + 1] = arr[j + 1], arr[j]\n",
            "                swapped = True  # Set the flag to True since we made a swap\n",
            "        \n",
            "        # If no swaps were made, the array is already sorted\n",
            "        if not swapped:\n",
            "            break\n",
            "\n",
            "    return arr  # Return the sorted list\n",
            "\n",
            "# Example usage:\n",
            "if __name__ == \"__main__\":\n",
            "    unsorted_list = [64, 34, 25, 12, 22, 11, 90]\n",
            "    sorted_list = bubble_sort(unsorted_list)\n",
            "    print(\"Sorted list:\", sorted_list)\n",
            "```\n",
            "\n",
            "### Explanation:\n",
            "1. **Function Definition**: The `bubble_sort` function takes a list of integers as input.\n",
            "2. **Getting Length**: We determine the length of the list `arr` using `len(arr)`.\n",
            "3. **Outer Loop**: The outer loop runs from `0` to `n-1`, where `n` is the length of the list.\n",
            "4. **Swapped Flag**: A boolean flag `swapped` is used to track if any elements were swapped during a pass through the list.\n",
            "5. **Inner Loop**: The inner loop runs through the unsorted portion of the list. It compares each element with its next neighbor.\n",
            "6. **Comparison and Swapping**: If the current element is greater than the next element, they are swapped.\n",
            "7. **Check for Swaps**: If no swaps occurred during a pass, the list is already sorted, and we can break out of the loop early.\n",
            "8. **Return the Sorted List**: Finally, the sorted list is returned.\n",
            "\n",
            "This implementation of bubble sort has a time complexity of \\(O(n^2)\\) in the worst and average cases, but it can be more efficient if the list is already partially sorted.\n"
          ]
        }
      ]
    },
    {
      "cell_type": "code",
      "source": [
        "#2. Ask for the same algorithm in JavaScript:\n",
        "js_prompt = \"\"\"\n",
        "Write a JavaScript function to perform bubble sort on an array of numbers.\n",
        "Include comments explaining the logic.\n",
        "\"\"\"\n",
        "\n",
        "response = generate_response(js_prompt)\n",
        "print(response)"
      ],
      "metadata": {
        "colab": {
          "base_uri": "https://localhost:8080/"
        },
        "id": "YdkPosZjoMw4",
        "outputId": "610e59f3-996b-4f43-b125-f3ec690eda79"
      },
      "execution_count": 9,
      "outputs": [
        {
          "output_type": "stream",
          "name": "stdout",
          "text": [
            "Sure! Below is a JavaScript function that implements the bubble sort algorithm to sort an array of numbers. I've included comments to explain the logic behind each part of the code.\n",
            "\n",
            "```javascript\n",
            "function bubbleSort(arr) {\n",
            "    // Get the length of the array\n",
            "    const n = arr.length;\n",
            "    \n",
            "    // Outer loop to ensure we go through the entire array\n",
            "    for (let i = 0; i < n - 1; i++) {\n",
            "        // A flag to track if a swap was made\n",
            "        let swapped = false;\n",
            "        \n",
            "        // Inner loop for comparing adjacent elements\n",
            "        for (let j = 0; j < n - 1 - i; j++) {\n",
            "            // Compare the current element with the next element\n",
            "            if (arr[j] > arr[j + 1]) {\n",
            "                // If the current element is greater, swap them\n",
            "                let temp = arr[j];\n",
            "                arr[j] = arr[j + 1];\n",
            "                arr[j + 1] = temp;\n",
            "                \n",
            "                // Set the flag to true indicating a swap has occurred\n",
            "                swapped = true;\n",
            "            }\n",
            "        }\n",
            "\n",
            "        // If no swaps were made, the array is already sorted\n",
            "        if (!swapped) {\n",
            "            break;\n",
            "        }\n",
            "    }\n",
            "    \n",
            "    // Return the sorted array\n",
            "    return arr;\n",
            "}\n",
            "\n",
            "// Example usage:\n",
            "const numbers = [64, 34, 25, 12, 22, 11, 90];\n",
            "console.log(\"Unsorted array:\", numbers);\n",
            "const sortedNumbers = bubbleSort(numbers);\n",
            "console.log(\"Sorted array:\", sortedNumbers);\n",
            "```\n",
            "\n",
            "### Explanation of the Code:\n",
            "1. **Function Definition**: The function `bubbleSort` takes an array `arr` as input.\n",
            "2. **Outer Loop**: The outer loop runs from `0` to `n - 1` (where `n` is the length of the array). This loop ensures we pass through the array multiple times.\n",
            "3. **Swapped Flag**: A boolean flag `swapped` is introduced to keep track of whether any elements were swapped during the inner loop. If no swaps are done during an iteration, it implies the array is already sorted, and we can break out of the loop early.\n",
            "4. **Inner Loop**: The inner loop compares each element with its adjacent element. If the current element is greater than the next element, they are swapped.\n",
            "5. **Swapping Elements**: The swapping is done using a temporary variable `temp` to hold one of the values during the swap.\n",
            "6. **Early Exit**: If the `swapped` flag remains `false` after completing an inner loop iteration, it means the array is sorted, and we can exit early.\n",
            "7. **Return Statement**: Finally, the function returns the sorted array.\n",
            "\n",
            "This implementation of bubble sort has a time complexity of \\(O(n^2)\\) in the worst case, making it less efficient for large datasets compared to more advanced sorting algorithms like quicksort or mergesort. However, it's a good introductory example for understanding sorting algorithms.\n"
          ]
        }
      ]
    },
    {
      "cell_type": "code",
      "source": [
        "#3. Request code with test cases or error handling:\n",
        "test_prompt = \"\"\"\n",
        "Write a Python function for bubble sort with a test case that prints the sorted list.\n",
        "\"\"\"\n",
        "response = generate_response(test_prompt)\n",
        "print(response)"
      ],
      "metadata": {
        "colab": {
          "base_uri": "https://localhost:8080/"
        },
        "id": "YLOJRGC2oRoB",
        "outputId": "5fe5f525-b9db-40c5-9f3b-b4aa8558cdc7"
      },
      "execution_count": 11,
      "outputs": [
        {
          "output_type": "stream",
          "name": "stdout",
          "text": [
            "Sure! Below is a Python function that implements the bubble sort algorithm, along with a test case that demonstrates its functionality by printing the sorted list.\n",
            "\n",
            "```python\n",
            "def bubble_sort(arr):\n",
            "    n = len(arr)\n",
            "    # Traverse through all elements in the list\n",
            "    for i in range(n):\n",
            "        # Last i elements are already sorted, so we can skip them\n",
            "        for j in range(0, n-i-1):\n",
            "            # Swap if the element found is greater than the next element\n",
            "            if arr[j] > arr[j+1]:\n",
            "                arr[j], arr[j+1] = arr[j+1], arr[j]\n",
            "\n",
            "# Test case\n",
            "if __name__ == \"__main__\":\n",
            "    test_list = [64, 34, 25, 12, 22, 11, 90]\n",
            "    print(\"Original list:\", test_list)\n",
            "    bubble_sort(test_list)\n",
            "    print(\"Sorted list:\", test_list)\n",
            "```\n",
            "\n",
            "### Explanation\n",
            "- The `bubble_sort` function sorts the list `arr` in ascending order using the bubble sort algorithm.\n",
            "- It uses two nested loops: the outer loop runs through each element, while the inner loop compares adjacent elements and swaps them if they are in the wrong order.\n",
            "- The test case initializes a list called `test_list`, prints the original list, sorts it using the `bubble_sort` function, and then prints the sorted list.\n",
            "\n",
            "You can run this code in a Python environment to see how it works!\n"
          ]
        }
      ]
    },
    {
      "cell_type": "code",
      "source": [
        "# Exercise 4: Data Extraction Prompt Engineering\n",
        "#1. Extract contact details from a sample text:\n",
        "text = \"\"\"\n",
        "Contact John Doe at john.doe@example.com or call him at +1 (555) 123-4567.\n",
        "\"\"\"\n",
        "\n",
        "prompt = f\"\"\"\n",
        "Extract the name, email, and phone number from the following text and output as JSON:\n",
        "{text}\n",
        "\"\"\"\n",
        "\n",
        "response = generate_response(prompt)\n",
        "print(response)"
      ],
      "metadata": {
        "colab": {
          "base_uri": "https://localhost:8080/"
        },
        "id": "qOaZB9GooZJ5",
        "outputId": "a31a8a8d-87d8-47cb-f36d-3e1ad6b2bf22"
      },
      "execution_count": 12,
      "outputs": [
        {
          "output_type": "stream",
          "name": "stdout",
          "text": [
            "```json\n",
            "{\n",
            "  \"name\": \"John Doe\",\n",
            "  \"email\": \"john.doe@example.com\",\n",
            "  \"phone\": \"+1 (555) 123-4567\"\n",
            "}\n",
            "```\n"
          ]
        }
      ]
    },
    {
      "cell_type": "code",
      "source": [
        "# 2.Extract multiple fields from customer feedback:\n",
        "feedback = \"\"\"\n",
        "I bought the laptop last month and it works great, but the battery life could be better.\n",
        "Customer: Alice Smith\n",
        "Date: 2025-07-20\n",
        "\"\"\"\n",
        "\n",
        "prompt = f\"\"\"\n",
        "Extract the customer name, date, product feedback summary, and sentiment (positive/negative) as JSON:\n",
        "\n",
        "{feedback}\n",
        "\"\"\"\n",
        "\n",
        "response = generate_response(prompt)\n",
        "print(response)"
      ],
      "metadata": {
        "colab": {
          "base_uri": "https://localhost:8080/"
        },
        "id": "fTfFNp1Qokix",
        "outputId": "702ca7a2-1a72-4873-cc0e-6c2e6687eb5e"
      },
      "execution_count": 13,
      "outputs": [
        {
          "output_type": "stream",
          "name": "stdout",
          "text": [
            "```json\n",
            "{\n",
            "  \"customer_name\": \"Alice Smith\",\n",
            "  \"date\": \"2025-07-20\",\n",
            "  \"product_feedback_summary\": \"I bought the laptop last month and it works great, but the battery life could be better.\",\n",
            "  \"sentiment\": \"mixed\"\n",
            "}\n",
            "```\n"
          ]
        }
      ]
    },
    {
      "cell_type": "code",
      "source": [
        "# Exercise 5: Strict Output Formatting\n",
        "# Goal: Force the model to output JSON only, without any extra explanation or text.\n",
        "\n",
        "order_text = \"\"\"\n",
        "Michael Johnson ordered a pair of running shoes on 2025-08-10.\n",
        "Shipping address: 123 Oak Avenue, Seattle, WA.\n",
        "Contact: michael.j@example.com\n",
        "\"\"\"\n",
        "\n",
        "strict_json_prompt = f\"\"\"\n",
        "Extract the following fields from the text and respond ONLY with valid JSON (no extra text):\n",
        "- customer_name\n",
        "- product\n",
        "- order_date\n",
        "- shipping_address\n",
        "- email\n",
        "\n",
        "Text:\n",
        "{order_text}\n",
        "\"\"\"\n",
        "\n",
        "response = generate_response(strict_json_prompt)\n",
        "print(response)\n"
      ],
      "metadata": {
        "colab": {
          "base_uri": "https://localhost:8080/"
        },
        "id": "qO1dtwLOosYS",
        "outputId": "de1012a3-2114-4009-fd90-ff01cc52e03b"
      },
      "execution_count": 15,
      "outputs": [
        {
          "output_type": "stream",
          "name": "stdout",
          "text": [
            "```json\n",
            "{\n",
            "  \"customer_name\": \"Michael Johnson\",\n",
            "  \"product\": \"running shoes\",\n",
            "  \"order_date\": \"2025-08-10\",\n",
            "  \"shipping_address\": \"123 Oak Avenue, Seattle, WA\",\n",
            "  \"email\": \"michael.j@example.com\"\n",
            "}\n",
            "```\n"
          ]
        }
      ]
    }
  ]
}