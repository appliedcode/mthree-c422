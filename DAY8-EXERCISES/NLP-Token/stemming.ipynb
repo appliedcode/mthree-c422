{
  "nbformat": 4,
  "nbformat_minor": 0,
  "metadata": {
    "colab": {
      "provenance": []
    },
    "kernelspec": {
      "name": "python3",
      "display_name": "Python 3"
    },
    "language_info": {
      "name": "python"
    }
  },
  "cells": [
    {
      "cell_type": "code",
      "execution_count": 1,
      "metadata": {
        "id": "yfhpKsuFq0nv"
      },
      "outputs": [],
      "source": [
        "#Porter Stemmer\n",
        "import nltk\n",
        "from nltk.stem.porter import *"
      ]
    },
    {
      "cell_type": "code",
      "source": [
        "p_stemmer = PorterStemmer()"
      ],
      "metadata": {
        "id": "O5f1GPYmssnV"
      },
      "execution_count": 2,
      "outputs": []
    },
    {
      "cell_type": "code",
      "source": [
        "words = ['run','runner','running','ran','runs','easily','fairly']"
      ],
      "metadata": {
        "id": "dkZQZKbGsyRt"
      },
      "execution_count": 3,
      "outputs": []
    },
    {
      "cell_type": "code",
      "source": [
        "for word in words:\n",
        "    print(word+' --> '+p_stemmer.stem(word))"
      ],
      "metadata": {
        "colab": {
          "base_uri": "https://localhost:8080/"
        },
        "id": "jWOpSFxHs0DU",
        "outputId": "1d7e3ab2-468c-44e4-b065-a54db4efb512"
      },
      "execution_count": 4,
      "outputs": [
        {
          "output_type": "stream",
          "name": "stdout",
          "text": [
            "run --> run\n",
            "runner --> runner\n",
            "running --> run\n",
            "ran --> ran\n",
            "runs --> run\n",
            "easily --> easili\n",
            "fairly --> fairli\n"
          ]
        }
      ]
    },
    {
      "cell_type": "code",
      "source": [
        "# snowball stemmer\n",
        "from nltk.stem.snowball import SnowballStemmer\n",
        "# The Snowball Stemmer requires that you pass a language parameter\n",
        "s_stemmer = SnowballStemmer(language='english')"
      ],
      "metadata": {
        "id": "AFYH3EBms8bs"
      },
      "execution_count": 5,
      "outputs": []
    },
    {
      "cell_type": "code",
      "source": [
        "\n",
        "words = ['run','runner','running','ran','runs','easily','fairly']\n"
      ],
      "metadata": {
        "id": "t-m3i3ggtNxI"
      },
      "execution_count": 6,
      "outputs": []
    },
    {
      "cell_type": "code",
      "source": [
        "for word in words:\n",
        "    print(word+' --> '+s_stemmer.stem(word))"
      ],
      "metadata": {
        "colab": {
          "base_uri": "https://localhost:8080/"
        },
        "id": "AqI0fQ6ltULM",
        "outputId": "2891c83c-75f7-4358-e58e-47eb86b4bab8"
      },
      "execution_count": 7,
      "outputs": [
        {
          "output_type": "stream",
          "name": "stdout",
          "text": [
            "run --> run\n",
            "runner --> runner\n",
            "running --> run\n",
            "ran --> ran\n",
            "runs --> run\n",
            "easily --> easili\n",
            "fairly --> fair\n"
          ]
        }
      ]
    },
    {
      "cell_type": "code",
      "source": [
        "words = ['generous','generation','generously','generate']\n",
        "for word in words:\n",
        "    print(word+' --> '+s_stemmer.stem(word))"
      ],
      "metadata": {
        "colab": {
          "base_uri": "https://localhost:8080/"
        },
        "id": "1jJrlXt8tXOt",
        "outputId": "2fe7b87f-ffb0-4d86-a56d-034449bf76de"
      },
      "execution_count": 8,
      "outputs": [
        {
          "output_type": "stream",
          "name": "stdout",
          "text": [
            "generous --> generous\n",
            "generation --> generat\n",
            "generously --> generous\n",
            "generate --> generat\n"
          ]
        }
      ]
    },
    {
      "cell_type": "code",
      "source": [
        "words = ['consolingly']\n",
        "print('Porter Stemmer:')\n",
        "for word in words:\n",
        "    print(word+' --> '+p_stemmer.stem(word))\n",
        "\n",
        "print('Porter2 Stemmer:')\n",
        "for word in words:\n",
        "    print(word+' --> '+s_stemmer.stem(word))"
      ],
      "metadata": {
        "colab": {
          "base_uri": "https://localhost:8080/"
        },
        "id": "Ze4f8i3jtbrn",
        "outputId": "f8138d52-12f6-4ef9-e191-0e0fdafe851b"
      },
      "execution_count": 11,
      "outputs": [
        {
          "output_type": "stream",
          "name": "stdout",
          "text": [
            "Porter Stemmer:\n",
            "consolingly --> consolingli\n",
            "Porter2 Stemmer:\n",
            "consolingly --> consol\n"
          ]
        }
      ]
    },
    {
      "cell_type": "code",
      "source": [
        "phrase = 'I am meeting him tomorrow at the meeting'\n",
        "for word in phrase.split():\n",
        "    print(word+' --> '+p_stemmer.stem(word))"
      ],
      "metadata": {
        "colab": {
          "base_uri": "https://localhost:8080/"
        },
        "id": "vhKqqGTTtyzt",
        "outputId": "41b629da-d1a1-487e-a57d-8c376e44d965"
      },
      "execution_count": 12,
      "outputs": [
        {
          "output_type": "stream",
          "name": "stdout",
          "text": [
            "I --> i\n",
            "am --> am\n",
            "meeting --> meet\n",
            "him --> him\n",
            "tomorrow --> tomorrow\n",
            "at --> at\n",
            "the --> the\n",
            "meeting --> meet\n"
          ]
        }
      ]
    },
    {
      "cell_type": "code",
      "source": [
        "# Import the stemmers\n",
        "from nltk.stem.porter import PorterStemmer\n",
        "from nltk.stem.snowball import SnowballStemmer\n",
        "\n",
        "# Create stemmer instances\n",
        "p_stemmer = PorterStemmer()\n",
        "s_stemmer = SnowballStemmer(language='english')\n",
        "\n",
        "# 🔤 Your own custom words to test\n",
        "words = ['generously', 'flies', 'running', 'happily', 'studies', 'relational', 'meeting']\n",
        "\n",
        "# Porter Stemmer\n",
        "print('Porter Stemmer Results:')\n",
        "for word in words:\n",
        "    print(f'{word:12} --> {p_stemmer.stem(word)}')\n",
        "\n",
        "print('\\n Porter2 (Snowball) Stemmer Results:')\n",
        "for word in words:\n",
        "    print(f'{word:12} --> {s_stemmer.stem(word)}')\n"
      ],
      "metadata": {
        "colab": {
          "base_uri": "https://localhost:8080/"
        },
        "id": "5HEE3taIuQgT",
        "outputId": "52c0721f-d4af-4be8-e26a-8d4c0b9c0ff9"
      },
      "execution_count": 14,
      "outputs": [
        {
          "output_type": "stream",
          "name": "stdout",
          "text": [
            "Porter Stemmer Results:\n",
            "generously   --> gener\n",
            "flies        --> fli\n",
            "running      --> run\n",
            "happily      --> happili\n",
            "studies      --> studi\n",
            "relational   --> relat\n",
            "meeting      --> meet\n",
            "\n",
            " Porter2 (Snowball) Stemmer Results:\n",
            "generously   --> generous\n",
            "flies        --> fli\n",
            "running      --> run\n",
            "happily      --> happili\n",
            "studies      --> studi\n",
            "relational   --> relat\n",
            "meeting      --> meet\n"
          ]
        }
      ]
    },
    {
      "cell_type": "code",
      "source": [],
      "metadata": {
        "id": "nAIPDEXIuUAK"
      },
      "execution_count": null,
      "outputs": []
    }
  ]
}