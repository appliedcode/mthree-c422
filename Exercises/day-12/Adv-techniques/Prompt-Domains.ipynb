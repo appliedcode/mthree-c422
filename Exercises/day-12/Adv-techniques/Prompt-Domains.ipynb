{
  "cells": [
    {
      "cell_type": "markdown",
      "metadata": {
        "id": "view-in-github",
        "colab_type": "text"
      },
      "source": [
        "<a href=\"https://colab.research.google.com/github/appliedcode/mthree-c422/blob/mthree-c422-dipti/Exercises/day-12/Adv-techniques/Prompt-Domains.ipynb\" target=\"_parent\"><img src=\"https://colab.research.google.com/assets/colab-badge.svg\" alt=\"Open In Colab\"/></a>"
      ]
    },
    {
      "cell_type": "markdown",
      "source": [
        "## Lab Exercises: Prompt Engineering for Chatbots, Summarization, Coding, and Data Extraction\n",
        "***\n",
        "\n",
        "### Setup:\n",
        "\n",
        "- Use OpenAI API or any language model API accessible in your Colab.\n",
        "- If API keys are needed, ensure they are safely added as environment variables or input by the user."
      ],
      "metadata": {
        "id": "eq4qKCdSNSko"
      }
    },
    {
      "cell_type": "code",
      "source": [
        "from google.colab import userdata\n",
        "import os\n",
        "\n",
        "# Set your OpenAI API key securely in Colab Secrets (once)\n",
        "# userdata.set(\"OPENAI_API_KEY\", \"your-api-key-here\")\n",
        "\n",
        "# Retrieve key in your notebook\n",
        "openai_api_key = userdata.get(\"OPENAI_API_KEY\")\n",
        "if openai_api_key:\n",
        "    os.environ[\"OPENAI_API_KEY\"] = openai_api_key\n",
        "    print(\"✅ OpenAI API key loaded safely\")\n",
        "else:\n",
        "    print(\"❌ OpenAI API key not found. Please set it using Colab Secrets.\")"
      ],
      "metadata": {
        "colab": {
          "base_uri": "https://localhost:8080/"
        },
        "id": "2YMRqyRCNGmo",
        "outputId": "cacaef5e-f926-4607-c9f6-63174e2f89f2"
      },
      "execution_count": 1,
      "outputs": [
        {
          "output_type": "stream",
          "name": "stdout",
          "text": [
            "✅ OpenAI API key loaded safely\n"
          ]
        }
      ]
    },
    {
      "cell_type": "code",
      "source": [
        "\n",
        "!pip install --quiet openai -q\n",
        "# Create client\n",
        "from openai import OpenAI\n",
        "client = OpenAI(api_key=os.environ[\"OPENAI_API_KEY\"])"
      ],
      "metadata": {
        "id": "9qrFrzlcPI1n"
      },
      "execution_count": 2,
      "outputs": []
    },
    {
      "cell_type": "code",
      "source": [
        "# Helper Function to Send Prompts\n",
        "def generate_response(prompt, model=\"gpt-4o-mini\", temperature=0.7):\n",
        "    \"\"\"\n",
        "    Send a prompt to the OpenAI model and return the response text.\n",
        "    \"\"\"\n",
        "    try:\n",
        "        completion = client.chat.completions.create(\n",
        "            model=model,\n",
        "            messages=[{\"role\": \"user\", \"content\": prompt}],\n",
        "            temperature=temperature\n",
        "        )\n",
        "        return completion.choices[0].message.content.strip()\n",
        "    except Exception as e:\n",
        "        return f\"Error: {e}\"\n"
      ],
      "metadata": {
        "id": "AieFziFDTcuy"
      },
      "execution_count": 3,
      "outputs": []
    },
    {
      "cell_type": "markdown",
      "source": [
        "**Goal:** Design prompts that enable the chatbot to respond conversationally, handle user intents, and maintain friendly tone.\n",
        "\n",
        "**Tasks:**\n",
        "\n",
        "1. Craft a base prompt that instructs the model to act as a friendly customer service chatbot."
      ],
      "metadata": {
        "id": "TUeonu4tXlPq"
      }
    },
    {
      "cell_type": "code",
      "source": [
        "prompt = \"\"\"\n",
        "You are a friendly customer service chatbot named HelpBot.\n",
        "Answer user questions clearly and positively.\n",
        "If you don't know the answer, politely say you will follow up.\n",
        "User: How do I reset my password?\n",
        "HelpBot:\n",
        "\"\"\"\n",
        "\n",
        "response = generate_response(prompt)\n",
        "print(response)"
      ],
      "metadata": {
        "id": "uoD_lxrnXnB4",
        "outputId": "496e6a0d-137d-474c-b7c7-865c3411028f",
        "colab": {
          "base_uri": "https://localhost:8080/"
        }
      },
      "execution_count": 4,
      "outputs": [
        {
          "output_type": "stream",
          "name": "stdout",
          "text": [
            "To reset your password, please follow these steps:\n",
            "\n",
            "1. Go to the login page of the website or app.\n",
            "2. Click on the \"Forgot Password?\" link.\n",
            "3. Enter the email address associated with your account.\n",
            "4. Check your email for a password reset link and follow the instructions provided.\n",
            "\n",
            "If you don't receive the email, please check your spam or junk folder. If you need further assistance, feel free to ask!\n"
          ]
        }
      ]
    },
    {
      "cell_type": "markdown",
      "source": [
        "2. Extend with examples of typical Q\\&A to improve chatbot behavior (few-shot prompting):"
      ],
      "metadata": {
        "id": "_LWkC7QaXo2H"
      }
    },
    {
      "cell_type": "code",
      "source": [
        "few_shot_prompt = \"\"\"\n",
        "You are HelpBot, a friendly customer service chatbot.\n",
        "\n",
        "User: How do I reset my password?\n",
        "HelpBot: To reset your password, go to account settings and click 'Forgot Password'.\n",
        "\n",
        "User: What is your refund policy?\n",
        "HelpBot: We offer refunds within 30 days of purchase; please contact support.\n",
        "\n",
        "User: How do I update my shipping address?\n",
        "HelpBot:\n",
        "\"\"\"\n",
        "\n",
        "response = generate_response(few_shot_prompt)\n",
        "print(response)"
      ],
      "metadata": {
        "id": "SSXRwUodXqlj",
        "outputId": "3aee68b9-7b36-4e4d-a275-15cdc79f289f",
        "colab": {
          "base_uri": "https://localhost:8080/"
        }
      },
      "execution_count": 5,
      "outputs": [
        {
          "output_type": "stream",
          "name": "stdout",
          "text": [
            "To update your shipping address, please go to your account settings, navigate to the 'Shipping Information' section, and enter your new address. Make sure to save the changes before exiting. If you need further assistance, feel free to ask!\n"
          ]
        }
      ]
    },
    {
      "cell_type": "markdown",
      "source": [
        "3. Experiment with additional constraints or roles to make chatbot responses more formal, concise, or humorous.\n",
        "***\n",
        "\n",
        "## Exercise 2: Summarization Prompt Engineering\n",
        "\n",
        "**Goal:** Create prompts that extract concise, informative summaries with controlled length and format.\n",
        "\n",
        "1. Summarize a sample article into a short paragraph:"
      ],
      "metadata": {
        "id": "pz9903EKXsL5"
      }
    },
    {
      "cell_type": "code",
      "source": [
        "article_text = \"\"\"\n",
        "Artificial intelligence (AI) is transforming many industries by automating tasks and generating new insights.\n",
        "AI technologies include machine learning, natural language processing, and computer vision.\n",
        "\"\"\"\n",
        "\n",
        "prompt = f\"Summarize the following text in two sentences:\\n\\n{article_text}\"\n",
        "\n",
        "response = generate_response(prompt)\n",
        "print(response)"
      ],
      "metadata": {
        "id": "ZnMfhvE6Xx6o",
        "outputId": "577b382a-4f9a-4f82-9586-9f1773123809",
        "colab": {
          "base_uri": "https://localhost:8080/"
        }
      },
      "execution_count": 6,
      "outputs": [
        {
          "output_type": "stream",
          "name": "stdout",
          "text": [
            "Artificial intelligence (AI) is revolutionizing various industries through task automation and the generation of new insights. Key AI technologies encompass machine learning, natural language processing, and computer vision.\n"
          ]
        }
      ]
    },
    {
      "cell_type": "markdown",
      "source": [
        "2. Summarize the same text as bullet points, specifying the format:"
      ],
      "metadata": {
        "id": "qH05GuBIX1cs"
      }
    },
    {
      "cell_type": "code",
      "source": [
        "prompt_bullets = f\"\"\"\n",
        "Summarize the following text into 3 concise bullet points:\n",
        "\n",
        "{article_text}\n",
        "\"\"\"\n",
        "\n",
        "response = generate_response(prompt_bullets)\n",
        "print(response)"
      ],
      "metadata": {
        "id": "YbA0mj8JX4UB",
        "outputId": "ce0e6558-e514-4c1a-ea09-a93e8deb38bb",
        "colab": {
          "base_uri": "https://localhost:8080/"
        }
      },
      "execution_count": 7,
      "outputs": [
        {
          "output_type": "stream",
          "name": "stdout",
          "text": [
            "- AI is revolutionizing various industries through task automation and insight generation.  \n",
            "- Key AI technologies encompass machine learning, natural language processing, and computer vision.  \n",
            "- These advancements are enhancing efficiency and decision-making across sectors.\n"
          ]
        }
      ]
    },
    {
      "cell_type": "markdown",
      "source": [
        "3. Try controlling summary style by asking for simplified explanations suitable for children or domain experts.\n",
        "***\n",
        "\n",
        "## Exercise 3: Coding Prompt Engineering\n",
        "\n",
        "**Goal:** Write prompts that enable generation of code snippets in specific languages with explanations or tests.\n",
        "\n",
        "1. Generate Python code for a bubble sort:"
      ],
      "metadata": {
        "id": "yU8ez2xhX51T"
      }
    },
    {
      "cell_type": "code",
      "source": [
        "code_prompt = \"\"\"\n",
        "Write a Python function to sort a list of integers using bubble sort.\n",
        "Include comments explaining each step.\n",
        "\"\"\"\n",
        "\n",
        "response = generate_response(code_prompt)\n",
        "print(response)"
      ],
      "metadata": {
        "id": "iSFTF3G5X92X",
        "outputId": "9324b614-cafd-48e4-8da2-5ded6b834ca3",
        "colab": {
          "base_uri": "https://localhost:8080/"
        }
      },
      "execution_count": 8,
      "outputs": [
        {
          "output_type": "stream",
          "name": "stdout",
          "text": [
            "Certainly! Below is a Python function that implements the bubble sort algorithm to sort a list of integers. I've included comments to explain each step of the process.\n",
            "\n",
            "```python\n",
            "def bubble_sort(arr):\n",
            "    \"\"\"\n",
            "    Sorts a list of integers in ascending order using the bubble sort algorithm.\n",
            "\n",
            "    Parameters:\n",
            "    arr (list): A list of integers to be sorted.\n",
            "\n",
            "    Returns:\n",
            "    list: The sorted list of integers.\n",
            "    \"\"\"\n",
            "    n = len(arr)  # Get the length of the list\n",
            "    # Outer loop for each pass through the list\n",
            "    for i in range(n):\n",
            "        # Initialize a flag to check if a swap was made\n",
            "        swapped = False\n",
            "        # Inner loop for comparing adjacent elements\n",
            "        for j in range(0, n - i - 1):\n",
            "            # Compare the current element with the next element\n",
            "            if arr[j] > arr[j + 1]:\n",
            "                # Swap if the current element is greater than the next\n",
            "                arr[j], arr[j + 1] = arr[j + 1], arr[j]\n",
            "                swapped = True  # Set the flag to True to indicate a swap occurred\n",
            "\n",
            "        # If no swaps were made, the list is already sorted\n",
            "        if not swapped:\n",
            "            break  # Exit the loop early\n",
            "\n",
            "    return arr  # Return the sorted list\n",
            "```\n",
            "\n",
            "### Explanation of the Code:\n",
            "\n",
            "1. **Function Definition**: The function `bubble_sort` takes a list of integers `arr` as input.\n",
            "\n",
            "2. **Length Calculation**: The variable `n` stores the length of the input list.\n",
            "\n",
            "3. **Outer Loop**: The outer loop runs `n` times. Each iteration represents one full pass through the list.\n",
            "\n",
            "4. **Swapped Flag**: A boolean variable `swapped` is initialized to `False` at the beginning of each pass. This is used to track whether any swaps occur during that pass.\n",
            "\n",
            "5. **Inner Loop**: The inner loop runs from the beginning of the list to `n - i - 1`. The `-i` accounts for the fact that with each complete pass, the largest elements \"bubble up\" to their correct positions at the end of the list, so we can skip checking them in subsequent passes.\n",
            "\n",
            "6. **Comparison and Swap**: Inside the inner loop, we compare each element with the next one. If the current element is greater than the next element, we swap them and set the `swapped` flag to `True`.\n",
            "\n",
            "7. **Early Exit**: After the inner loop, if no swaps occurred (i.e., the `swapped` flag remains `False`), it means the list is already sorted, so we can break out of the outer loop early.\n",
            "\n",
            "8. **Return the Sorted List**: Finally, the sorted list is returned.\n",
            "\n",
            "### Example Usage:\n",
            "You can use the function as follows:\n",
            "\n",
            "```python\n",
            "numbers = [64, 34, 25, 12, 22, 11, 90]\n",
            "sorted_numbers = bubble_sort(numbers)\n",
            "print(\"Sorted numbers:\", sorted_numbers)\n",
            "```\n",
            "\n",
            "This will output:\n",
            "```\n",
            "Sorted numbers: [11, 12, 22, 25, 34, 64, 90]\n",
            "```\n"
          ]
        }
      ]
    },
    {
      "cell_type": "markdown",
      "source": [
        "2. Ask for the same algorithm in JavaScript:"
      ],
      "metadata": {
        "id": "lmxR-OYLX_jv"
      }
    },
    {
      "cell_type": "code",
      "source": [
        "js_prompt = \"\"\"\n",
        "Write a JavaScript function to perform bubble sort on an array of numbers.\n",
        "Include comments explaining the logic.\n",
        "\"\"\"\n",
        "\n",
        "response = generate_response(js_prompt)\n",
        "print(response)"
      ],
      "metadata": {
        "id": "Hzw5Lm65YBTX",
        "outputId": "3cff3908-8cf5-4021-f717-a7b9b506021c",
        "colab": {
          "base_uri": "https://localhost:8080/"
        }
      },
      "execution_count": 9,
      "outputs": [
        {
          "output_type": "stream",
          "name": "stdout",
          "text": [
            "Certainly! Below is a JavaScript function that implements the bubble sort algorithm, along with comments explaining each part of the logic.\n",
            "\n",
            "```javascript\n",
            "function bubbleSort(arr) {\n",
            "    // Get the length of the array\n",
            "    const n = arr.length;\n",
            "\n",
            "    // Outer loop to iterate through all elements in the array\n",
            "    for (let i = 0; i < n - 1; i++) {\n",
            "        // A flag to check if any swapping occurred in this pass\n",
            "        let swapped = false;\n",
            "\n",
            "        // Inner loop to compare adjacent elements\n",
            "        for (let j = 0; j < n - 1 - i; j++) {\n",
            "            // If the current element is greater than the next element\n",
            "            if (arr[j] > arr[j + 1]) {\n",
            "                // Swap the elements\n",
            "                let temp = arr[j];\n",
            "                arr[j] = arr[j + 1];\n",
            "                arr[j + 1] = temp;\n",
            "\n",
            "                // Set the swapped flag to true\n",
            "                swapped = true;\n",
            "            }\n",
            "        }\n",
            "\n",
            "        // If no elements were swapped, the array is sorted, so we can break early\n",
            "        if (!swapped) {\n",
            "            break;\n",
            "        }\n",
            "    }\n",
            "\n",
            "    // Return the sorted array\n",
            "    return arr;\n",
            "}\n",
            "\n",
            "// Example usage:\n",
            "const numbers = [64, 34, 25, 12, 22, 11, 90];\n",
            "const sortedNumbers = bubbleSort(numbers);\n",
            "console.log(sortedNumbers); // Output: [11, 12, 22, 25, 34, 64, 90]\n",
            "```\n",
            "\n",
            "### Explanation:\n",
            "1. **Outer Loop (`for` loop)**: This loop runs `n-1` times, where `n` is the length of the array. Each iteration represents one pass through the array to bubble up the largest unsorted element to its correct position.\n",
            "\n",
            "2. **Inner Loop (`for` loop)**: This loop compares each pair of adjacent elements. It runs from the start of the array to `n-1-i` because after each outer loop iteration, the largest elements are already sorted at the end of the array.\n",
            "\n",
            "3. **Swapping Elements**: If the current element (`arr[j]`) is greater than the next element (`arr[j + 1]`), we swap them. This is done using a temporary variable (`temp`).\n",
            "\n",
            "4. **Swapped Flag**: A flag (`swapped`) is used to track whether any elements were swapped during the inner loop. If no swaps occurred, it means the array is already sorted, and we can break out of the loop early to optimize performance.\n",
            "\n",
            "5. **Return Statement**: Finally, the sorted array is returned. \n",
            "\n",
            "This implementation of bubble sort has a time complexity of O(n^2) in the worst case, which is typical for simple sorting algorithms like bubble sort.\n"
          ]
        }
      ]
    },
    {
      "cell_type": "markdown",
      "source": [
        "3. Request code with test cases or error handling:"
      ],
      "metadata": {
        "id": "081Oth1tYDJx"
      }
    },
    {
      "cell_type": "code",
      "source": [
        "test_prompt = \"\"\"\n",
        "Write a Python function for bubble sort with a test case that prints the sorted list.\n",
        "\"\"\"\n",
        "\n",
        "response = generate_response(test_prompt)\n",
        "print(response)"
      ],
      "metadata": {
        "id": "_QCySJoKYEoF",
        "outputId": "4d55a939-a0b8-43cf-a8ae-5038fe4c842f",
        "colab": {
          "base_uri": "https://localhost:8080/"
        }
      },
      "execution_count": 10,
      "outputs": [
        {
          "output_type": "stream",
          "name": "stdout",
          "text": [
            "Certainly! Below is a Python function that implements the bubble sort algorithm, along with a test case to demonstrate its functionality.\n",
            "\n",
            "```python\n",
            "def bubble_sort(arr):\n",
            "    n = len(arr)\n",
            "    # Traverse through all array elements\n",
            "    for i in range(n):\n",
            "        # Last i elements are already sorted\n",
            "        for j in range(0, n - i - 1):\n",
            "            # Traverse the array from 0 to n-i-1\n",
            "            # Swap if the element found is greater than the next element\n",
            "            if arr[j] > arr[j + 1]:\n",
            "                arr[j], arr[j + 1] = arr[j + 1], arr[j]\n",
            "\n",
            "# Test case\n",
            "if __name__ == \"__main__\":\n",
            "    test_list = [64, 34, 25, 12, 22, 11, 90]\n",
            "    print(\"Original list:\", test_list)\n",
            "    bubble_sort(test_list)\n",
            "    print(\"Sorted list:\", test_list)\n",
            "```\n",
            "\n",
            "### Explanation:\n",
            "- The `bubble_sort` function takes a list `arr` as input and sorts it in place.\n",
            "- It repeatedly steps through the list, compares adjacent elements, and swaps them if they are in the wrong order.\n",
            "- The process is repeated until the list is sorted.\n",
            "- The test case demonstrates how to use the function, printing the original and sorted lists. \n",
            "\n",
            "You can run this code in a Python environment, and it will display the original list followed by the sorted list.\n"
          ]
        }
      ]
    },
    {
      "cell_type": "markdown",
      "source": [
        "***\n",
        "\n",
        "## Exercise 4: Data Extraction Prompt Engineering\n",
        "\n",
        "**Goal:** Design prompts to extract structured data (e.g., JSON) from unstructured text for easy parsing.\n",
        "\n",
        "1. Extract contact details from a sample text:"
      ],
      "metadata": {
        "id": "JilVVWGkYGI_"
      }
    },
    {
      "cell_type": "code",
      "source": [
        "text = \"\"\"\n",
        "Contact John Doe at john.doe@example.com or call him at +1 (555) 123-4567.\n",
        "\"\"\"\n",
        "\n",
        "prompt = f\"\"\"\n",
        "Extract the name, email, and phone number from the following text and output as JSON:\n",
        "{text}\n",
        "\"\"\"\n",
        "\n",
        "response = generate_response(prompt)\n",
        "print(response)"
      ],
      "metadata": {
        "id": "VXY3LXHqYIm7",
        "outputId": "096adbf5-1a2d-4dcb-cb80-bcab8d60f31d",
        "colab": {
          "base_uri": "https://localhost:8080/"
        }
      },
      "execution_count": 11,
      "outputs": [
        {
          "output_type": "stream",
          "name": "stdout",
          "text": [
            "```json\n",
            "{\n",
            "  \"name\": \"John Doe\",\n",
            "  \"email\": \"john.doe@example.com\",\n",
            "  \"phone\": \"+1 (555) 123-4567\"\n",
            "}\n",
            "```\n"
          ]
        }
      ]
    },
    {
      "cell_type": "markdown",
      "source": [
        "2. Extract multiple fields from customer feedback:"
      ],
      "metadata": {
        "id": "jJSm7eVLYKQ3"
      }
    },
    {
      "cell_type": "code",
      "source": [
        "feedback = \"\"\"\n",
        "I bought the laptop last month and it works great, but the battery life could be better.\n",
        "Customer: Alice Smith\n",
        "Date: 2025-07-20\n",
        "\"\"\"\n",
        "\n",
        "prompt = f\"\"\"\n",
        "Extract the customer name, date, product feedback summary, and sentiment (positive/negative) as JSON:\n",
        "\n",
        "{feedback}\n",
        "\"\"\"\n",
        "\n",
        "response = generate_response(prompt)\n",
        "print(response)"
      ],
      "metadata": {
        "id": "EgWdY07fYMIU",
        "outputId": "477adca8-f151-4994-baa8-dce7d0ae51c7",
        "colab": {
          "base_uri": "https://localhost:8080/"
        }
      },
      "execution_count": 12,
      "outputs": [
        {
          "output_type": "stream",
          "name": "stdout",
          "text": [
            "```json\n",
            "{\n",
            "  \"customer_name\": \"Alice Smith\",\n",
            "  \"date\": \"2025-07-20\",\n",
            "  \"product_feedback_summary\": \"I bought the laptop last month and it works great, but the battery life could be better.\",\n",
            "  \"sentiment\": \"mixed\"\n",
            "}\n",
            "```\n"
          ]
        }
      ]
    },
    {
      "cell_type": "markdown",
      "source": [
        "3. Experiment with prompts that instruct output formatting strictly, e.g., JSON without extra text.\n",
        "\n",
        "***\n",
        "\n",
        "### Summary for Students\n",
        "\n",
        "- Practice crafting domain-specific prompts with clear instructions and examples.\n",
        "- Observe how few-shot prompting improves chatbot response relevancy.\n",
        "- Control output style and length in summarization using explicit formats.\n",
        "- Specify programming language and add commenting/test requirements in coding prompts.\n",
        "- Guide the model to output structured data in JSON for data extraction tasks.\n",
        "- Feel free to experiment by modifying the prompts, adding constraints, and adjusting temperature to see response variations.\n",
        "\n",
        "***\n"
      ],
      "metadata": {
        "id": "xvljn6YJYO5c"
      }
    }
  ],
  "metadata": {
    "colab": {
      "name": "Welcome to Colab",
      "provenance": [],
      "include_colab_link": true
    },
    "kernelspec": {
      "display_name": "Python 3",
      "name": "python3"
    }
  },
  "nbformat": 4,
  "nbformat_minor": 0
}