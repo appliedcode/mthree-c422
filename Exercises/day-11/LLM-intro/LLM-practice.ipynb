{
  "nbformat": 4,
  "nbformat_minor": 0,
  "metadata": {
    "colab": {
      "provenance": [],
      "authorship_tag": "ABX9TyPp7MSMzv//f0CK8WFjAgKY",
      "include_colab_link": true
    },
    "kernelspec": {
      "name": "python3",
      "display_name": "Python 3"
    },
    "language_info": {
      "name": "python"
    }
  },
  "cells": [
    {
      "cell_type": "markdown",
      "metadata": {
        "id": "view-in-github",
        "colab_type": "text"
      },
      "source": [
        "<a href=\"https://colab.research.google.com/github/appliedcode/mthree-c422/blob/mthree-c422-dipti/Exercises/day-11/LLM-intro/LLM-practice.ipynb\" target=\"_parent\"><img src=\"https://colab.research.google.com/assets/colab-badge.svg\" alt=\"Open In Colab\"/></a>"
      ]
    },
    {
      "cell_type": "markdown",
      "source": [
        "\n",
        "## 🎯 Self-Study Exercises: Exploring Prompt Engineering Patterns\n",
        "\n",
        "### Exercise 1: Instruction Clarity and Detail\n",
        "\n",
        "- Write a prompt asking an AI to explain how photosynthesis works.\n",
        "- Try two versions:\n",
        "a) Give a brief explanation in 3 sentences.\n",
        "b) Give a detailed explanation with examples, formatted in bullet points.\n",
        "- Compare the length, clarity, and completeness of the outputs.\n",
        "\n",
        "***\n",
        "\n",
        "### Exercise 2: Few-Shot Learning\n",
        "\n",
        "- Create a few-shot prompt that shows how to politely decline an invitation in English and French.\n",
        "- Provide 2 examples (English phrase + French translation).\n",
        "- Add a new English phrase and ask the model to provide the French translation.\n",
        "- Experiment by changing the number of examples and observe changes.\n",
        "\n",
        "***\n",
        "\n",
        "### Exercise 3: Persona Roleplay\n",
        "\n",
        "- Write a prompt instructing the model to behave as a friendly travel guide for Tokyo.\n",
        "- Ask for recommendations on places to visit and food to try.\n",
        "- Rewrite the prompt to roleplay as a strict tour manager focusing on timing and schedules.\n",
        "- Note the differences in tone and content.\n",
        "\n",
        "***\n",
        "\n",
        "### Exercise 4: Recipe and Alternatives\n",
        "\n",
        "- Request a recipe for improving daily productivity.\n",
        "- Ask the model to suggest two alternative approaches, each with advantages and disadvantages.\n",
        "- Modify the prompt to ask for a creative approach and a scientific approach instead.\n",
        "- See how the style and content vary.\n",
        "\n",
        "***\n",
        "\n",
        "### Exercise 5: Flipped Interaction / Ask-for-Input\n",
        "\n",
        "- Write an initial prompt that instructs the AI to interview you with 3 questions to understand your favorite hobbies.\n",
        "- Use the model’s questions to build a personalized weekend plan based on your answers.\n",
        "- Try making the AI summarize your answers before giving the plan.\n",
        "- Test how the interaction feels when you answer in multiple turns.\n",
        "\n",
        "***\n",
        "\n",
        "### Exercise 6: Menu / Command Syntax\n",
        "\n",
        "- Define a small command menu using this pattern:\n",
        "\n",
        "```\n",
        "ACTION = Translate, Summarize, Explain  \n",
        "FORMAT = Plain, Bullets, Numbered  \n",
        "LANGUAGE = English, French, Spanish  \n",
        "\n",
        "Command: ACTION=Translate; FORMAT=Numbered; LANGUAGE=Spanish; TEXT=\"Machine learning improves over time.\"\n",
        "```\n",
        "\n",
        "- Run this prompt and observe output.\n",
        "- Change commands to translate into French, summarize in bullets, and explain in plain English.\n",
        "- Expand the command with additional options like STYLE = Formal, Casual and test.\n",
        "\n",
        "***\n",
        "\n",
        "### Exercise 7: Controlling Output Length and Style\n",
        "\n",
        "- Ask the model to describe “Artificial Intelligence” in:\n",
        "a) a tweet (280 characters max)\n",
        "b) a formal academic abstract (~150 words)\n",
        "c) a children’s story (simple language)\n",
        "- Observe how the style and complexity change with length constraints.\n",
        "\n",
        "***\n",
        "\n",
        "### Exercise 8: Multi-turn Conversation Simulation\n",
        "\n",
        "- Simulate a customer support dialogue where the AI asks clarifying questions before providing a solution to a printer issue.\n",
        "- Write prompt instructions to make the AI confirm your answers before continuing.\n",
        "- Try chaining multiple prompts and see how memory of conversation context influences coherence.\n",
        "\n",
        "***\n",
        "\n",
        "### Reflection Questions for Self-Review\n",
        "\n",
        "- Which prompts resulted in the most relevant and coherent answers?\n",
        "- How did instructions and personas influence tone and style?\n",
        "- Did few-shot examples improve output quality or consistency?\n",
        "- How effective was the menu/command syntax in structuring the response?\n",
        "- How did controlling verbosity and formatting shape the clarity of information?\n",
        "- What challenges did you face in multi-turn dialogue simulation?\n",
        "\n",
        "***\n"
      ],
      "metadata": {
        "id": "n9spzoKaM1Nd"
      }
    },
    {
      "cell_type": "code",
      "execution_count": 1,
      "metadata": {
        "colab": {
          "base_uri": "https://localhost:8080/"
        },
        "id": "XM4ehRI-Mz8z",
        "outputId": "df254a47-46d9-48de-9d37-8498f54fa60c"
      },
      "outputs": [
        {
          "output_type": "stream",
          "name": "stdout",
          "text": [
            "✅ OpenAI API key loaded safely\n"
          ]
        }
      ],
      "source": [
        "from google.colab import userdata\n",
        "import os\n",
        "\n",
        "# Set your OpenAI API key securely in Colab Secrets (once)\n",
        "# userdata.set(\"OPENAI_API_KEY\", \"your-api-key-here\")\n",
        "\n",
        "# Retrieve key in your notebook\n",
        "openai_api_key = userdata.get(\"OPENAI_API_KEY\")\n",
        "if openai_api_key:\n",
        "    os.environ[\"OPENAI_API_KEY\"] = openai_api_key\n",
        "    print(\"✅ OpenAI API key loaded safely\")\n",
        "else:\n",
        "    print(\"❌ OpenAI API key not found. Please set it using Colab Secrets.\")"
      ]
    },
    {
      "cell_type": "code",
      "source": [
        "!pip install --quiet openai -q"
      ],
      "metadata": {
        "id": "2--az1FtNB7q"
      },
      "execution_count": 2,
      "outputs": []
    },
    {
      "cell_type": "code",
      "source": [
        "# Create client\n",
        "from openai import OpenAI\n",
        "client = OpenAI(api_key=os.environ[\"OPENAI_API_KEY\"])"
      ],
      "metadata": {
        "id": "ZL6RK8aYNCl9"
      },
      "execution_count": 3,
      "outputs": []
    },
    {
      "cell_type": "code",
      "source": [
        "prompt = \"Explain how photosynthesis works in three sentences.\"\n",
        "response = client.chat.completions.create(\n",
        "    model=\"gpt-4o-mini\",\n",
        "    messages=[{\"role\": \"user\", \"content\": prompt}],\n",
        "    max_tokens=100\n",
        ")\n",
        "print(response.choices[0].message.content)\n",
        "#"
      ],
      "metadata": {
        "colab": {
          "base_uri": "https://localhost:8080/"
        },
        "id": "ZaP1Y0KiNGIT",
        "outputId": "dfa80cba-fca6-43c1-e469-379c588ca478"
      },
      "execution_count": 7,
      "outputs": [
        {
          "output_type": "stream",
          "name": "stdout",
          "text": [
            "Photosynthesis is the process by which green plants, algae, and some bacteria convert sunlight into energy, using chlorophyll found in their chloroplasts. During this process, carbon dioxide from the atmosphere and water from the soil are transformed into glucose and oxygen through a series of chemical reactions, primarily using the energy captured from sunlight. This process can be summarized by the equation: 6CO₂ + 6H₂O + light energy → C₆H₁₂O₆ + \n"
          ]
        }
      ]
    },
    {
      "cell_type": "code",
      "source": [
        "prompt = (\n",
        "    \"Explain how photosynthesis works in detail, using bullet points with specific steps and examples.\"\n",
        ")\n",
        "response = client.chat.completions.create(\n",
        "    model=\"gpt-4o-mini\",\n",
        "    messages=[{\"role\": \"user\", \"content\": prompt}],\n",
        "    max_tokens=150\n",
        ")\n",
        "print(response.choices[0].message.content)"
      ],
      "metadata": {
        "colab": {
          "base_uri": "https://localhost:8080/"
        },
        "id": "BgN-zgs9QBF1",
        "outputId": "e8027ff2-6c03-476e-d273-c1e33f8d2060"
      },
      "execution_count": 8,
      "outputs": [
        {
          "output_type": "stream",
          "name": "stdout",
          "text": [
            "Sure! Photosynthesis is the biological process by which green plants, algae, and some bacteria convert light energy into chemical energy in the form of glucose, using carbon dioxide and water. Here’s a detailed breakdown of the process:\n",
            "\n",
            "### Overview of Photosynthesis\n",
            "- **Location**: It primarily occurs in the chloroplasts of plant cells.\n",
            "- **General Equation**: \n",
            "  \\[\n",
            "  6CO_2 + 6H_2O + light \\ energy \\rightarrow C_6H_{12}O_6 + 6O_2\n",
            "  \\]\n",
            "  (Carbon dioxide + Water + Light energy → Glucose + Oxygen)\n",
            "\n",
            "### Main Stages of Photosynthesis\n",
            "Photosynthesis can be divided into two major stages:\n"
          ]
        }
      ]
    },
    {
      "cell_type": "code",
      "source": [
        "few_shot = \"\"\"\n",
        "English: Thank you for your help!\n",
        "French: Merci pour votre aide !\n",
        "\n",
        "English: I cannot attend the meeting.\n",
        "French: Je ne peux pas assister à la réunion.\n",
        "\n",
        "English: Please call me tomorrow.\n",
        "French:\n",
        "\"\"\"\n",
        "response = client.chat.completions.create(\n",
        "    model=\"gpt-4o-mini\",\n",
        "    messages=[{\"role\": \"user\", \"content\": few_shot}],\n",
        "    max_tokens=50\n",
        ")\n",
        "print(response.choices[0].message.content)"
      ],
      "metadata": {
        "colab": {
          "base_uri": "https://localhost:8080/"
        },
        "id": "NW8ji793QEsl",
        "outputId": "c2105c53-111d-4bc1-a47e-45d3d4bf4a1b"
      },
      "execution_count": 9,
      "outputs": [
        {
          "output_type": "stream",
          "name": "stdout",
          "text": [
            "French: S'il vous plaît, appelez-moi demain.\n"
          ]
        }
      ]
    },
    {
      "cell_type": "code",
      "source": [
        "prompt = (\n",
        "    \"You are a friendly travel guide for Tokyo. Recommend places to visit and food to try to a first-time visitor.\"\n",
        ")\n",
        "response = client.chat.completions.create(\n",
        "    model=\"gpt-4o-mini\",\n",
        "    messages=[{\"role\": \"user\", \"content\": prompt}],\n",
        "    max_tokens=120\n",
        ")\n",
        "print(response.choices[0].message.content)"
      ],
      "metadata": {
        "colab": {
          "base_uri": "https://localhost:8080/"
        },
        "id": "YP6j8tHOQH0B",
        "outputId": "1bb7be2d-ae4f-467a-96b4-ebec338c0375"
      },
      "execution_count": 10,
      "outputs": [
        {
          "output_type": "stream",
          "name": "stdout",
          "text": [
            "Absolutely, I'd love to help you explore Tokyo! Here's a comprehensive list of must-visit places and delicious food to try during your first trip.\n",
            "\n",
            "### Places to Visit:\n",
            "\n",
            "1. **Shibuya Crossing**:\n",
            "   - One of the busiest pedestrian crossings in the world! It's an electrifying experience to see hundreds of people cross at once. Don't forget to take a photo at the famous Hachiko statue nearby.\n",
            "\n",
            "2. **Senso-ji Temple**:\n",
            "   - Tokyo's oldest temple, located in Asakusa. The approach to the temple, called Nakamise Street, is lined\n"
          ]
        }
      ]
    },
    {
      "cell_type": "code",
      "source": [
        "prompt = (\n",
        "    \"You are a strict Tokyo tour manager. Plan a tightly scheduled day with timings and specific stops.\"\n",
        ")\n",
        "response = client.chat.completions.create(\n",
        "    model=\"gpt-4o-mini\",\n",
        "    messages=[{\"role\": \"user\", \"content\": prompt}],\n",
        "    max_tokens=120\n",
        ")\n",
        "print(response.choices[0].message.content)"
      ],
      "metadata": {
        "colab": {
          "base_uri": "https://localhost:8080/"
        },
        "id": "F8LPs_8aQKmx",
        "outputId": "0807ed2b-45aa-48e5-95b7-c148693e4f84"
      },
      "execution_count": 11,
      "outputs": [
        {
          "output_type": "stream",
          "name": "stdout",
          "text": [
            "Certainly! Here’s a tightly scheduled day in Tokyo with specific stops and timings. \n",
            "\n",
            "### Tokyo One-Day Itinerary\n",
            "\n",
            "#### 8:00 AM - **Breakfast at Tsukiji Outer Market**\n",
            "- Start your day with a fresh seafood breakfast at a local stall in the Tsukiji Outer Market.\n",
            "- **Duration:** 1 hour\n",
            "\n",
            "#### 9:00 AM - **Visit Hamarikyu Gardens**\n",
            "- A short walk from Tsukiji, enjoy a peaceful stroll through these beautiful historical gardens.\n",
            "- **Duration:** 1 hour\n",
            "\n",
            "#### 10:00 AM - **Take\n"
          ]
        }
      ]
    },
    {
      "cell_type": "code",
      "source": [
        "prompt = (\n",
        "    \"Share a recipe for improving daily productivity. Then provide two alternative approaches, each with its advantages and disadvantages.\"\n",
        ")\n",
        "response = client.chat.completions.create(\n",
        "    model=\"gpt-4o-mini\",\n",
        "    messages=[{\"role\": \"user\", \"content\": prompt}],\n",
        "    max_tokens=200\n",
        ")\n",
        "print(response.choices[0].message.content)"
      ],
      "metadata": {
        "colab": {
          "base_uri": "https://localhost:8080/"
        },
        "id": "xzCeshg0QNC9",
        "outputId": "03dcba16-a4d6-486c-ccea-e459cc2d75c6"
      },
      "execution_count": 12,
      "outputs": [
        {
          "output_type": "stream",
          "name": "stdout",
          "text": [
            "**Recipe for Improving Daily Productivity**\n",
            "\n",
            "**Ingredients:**\n",
            "1. Clear Goals\n",
            "2. Prioritized To-Do List\n",
            "3. Time Blocks\n",
            "4. Regular Breaks\n",
            "5. Positive Environment\n",
            "6. Accountability Partner\n",
            "\n",
            "**Instructions:**\n",
            "\n",
            "1. **Set Clear Goals:** Start your day by identifying three key objectives that you want to accomplish. Ensure they are specific, measurable, achievable, relevant, and time-bound (SMART).\n",
            "\n",
            "2. **Create a Prioritized To-Do List:** Write down all tasks you need to complete for the day. Then, rank them by priority. Focus on high-impact tasks that align with your goals.\n",
            "\n",
            "3. **Establish Time Blocks:** Allocate specific blocks of time for each task based on your priorities. For example, use the Pomodoro Technique (25 minutes of work followed by a 5-minute break) for increased focus.\n",
            "\n",
            "4. **Schedule Regular Breaks:** Incorporate short breaks between time blocks to recharge. Use this time to stretch,\n"
          ]
        }
      ]
    },
    {
      "cell_type": "code",
      "source": [
        "menu_prompt = \"\"\"\n",
        "ACTION = Translate; FORMAT = Numbered; LANGUAGE = Spanish; TEXT = \"Machine learning improves over time.\"\n",
        "\"\"\"\n",
        "response = client.chat.completions.create(\n",
        "    model=\"gpt-4o-mini\",\n",
        "    messages=[{\"role\": \"user\", \"content\": menu_prompt}],\n",
        "    max_tokens=50\n",
        ")\n",
        "print(response.choices[0].message.content)"
      ],
      "metadata": {
        "colab": {
          "base_uri": "https://localhost:8080/"
        },
        "id": "9YeDJ8t9QQXL",
        "outputId": "a4b3dc5d-073f-4571-d696-7f81758f6005"
      },
      "execution_count": 13,
      "outputs": [
        {
          "output_type": "stream",
          "name": "stdout",
          "text": [
            "1. El aprendizaje automático mejora con el tiempo.\n"
          ]
        }
      ]
    },
    {
      "cell_type": "code",
      "source": [
        "prompt = \"Describe 'Artificial Intelligence' in a tweet, maximum 280 characters.\"\n",
        "response = client.chat.completions.create(\n",
        "    model=\"gpt-4o-mini\",\n",
        "    messages=[{\"role\": \"user\", \"content\": prompt}],\n",
        "    max_tokens=50\n",
        ")\n",
        "print(response.choices[0].message.content)"
      ],
      "metadata": {
        "colab": {
          "base_uri": "https://localhost:8080/"
        },
        "id": "e-PHFPUoQTIY",
        "outputId": "db6b65fa-0fda-47a6-9b88-480ef4a153b2"
      },
      "execution_count": 14,
      "outputs": [
        {
          "output_type": "stream",
          "name": "stdout",
          "text": [
            "Artificial Intelligence (AI) refers to computer systems designed to perform tasks that typically require human intelligence, such as learning, reasoning, problem-solving, and understanding language. From virtual assistants to self-driving cars, AI is transforming how we live and work! #\n"
          ]
        }
      ]
    },
    {
      "cell_type": "code",
      "source": [
        "prompt = \"Write an academic-style abstract (~150 words) explaining Artificial Intelligence.\"\n",
        "response = client.chat.completions.create(\n",
        "    model=\"gpt-4o-mini\",\n",
        "    messages=[{\"role\": \"user\", \"content\": prompt}],\n",
        "    max_tokens=200\n",
        ")\n",
        "print(response.choices[0].message.content)"
      ],
      "metadata": {
        "colab": {
          "base_uri": "https://localhost:8080/"
        },
        "id": "2E0TmtYnQVme",
        "outputId": "27938dcf-e0de-4554-e94b-8ead85007708"
      },
      "execution_count": 15,
      "outputs": [
        {
          "output_type": "stream",
          "name": "stdout",
          "text": [
            "Artificial Intelligence (AI) refers to the simulation of human intelligence processes by computer systems, encompassing a range of functionalities such as learning, reasoning, and self-correction. This interdisciplinary field integrates concepts from computer science, cognitive psychology, linguistics, and neuroscience to create algorithms and models that can interpret data, recognize patterns, and make decisions autonomously. AI is categorized into various subfields, including machine learning, natural language processing, robotics, and computer vision, each contributing to the enhancement of system capabilities. As AI systems evolve, they demonstrate significant potential across diverse domains, from healthcare and finance to transportation and entertainment, thereby reshaping industries and societal structures. However, the rapid advancement of AI also raises ethical, security, and regulatory concerns, necessitating ongoing discourse about its implications on employment, privacy, and human agency. This abstract underscores the dual nature of AI as both a transformative technological force and a catalyst for critical societal challenges.\n"
          ]
        }
      ]
    },
    {
      "cell_type": "code",
      "source": [
        "prompt = (\n",
        "    \"Explain Artificial Intelligence as a simple story for children aged 7, using simple language.\"\n",
        ")\n",
        "response = client.chat.completions.create(\n",
        "    model=\"gpt-4o-mini\",\n",
        "    messages=[{\"role\": \"user\", \"content\": prompt}],\n",
        "    max_tokens=120\n",
        ")\n",
        "print(response.choices[0].message.content)"
      ],
      "metadata": {
        "colab": {
          "base_uri": "https://localhost:8080/"
        },
        "id": "LQYmglqcQ18E",
        "outputId": "3e97fd72-1255-44db-a810-e49eb34938ec"
      },
      "execution_count": 16,
      "outputs": [
        {
          "output_type": "stream",
          "name": "stdout",
          "text": [
            "Once upon a time in a colorful, busy kingdom called Techland, lived a friendly robot named Robbie. Robbie was special because he could learn new things just like kids do! He didn’t have a sparkly crown or a fancy castle, but he had a big heart and loved to help everyone.\n",
            "\n",
            "One sunny day, while playing in the meadow, Robbie noticed his friend, Lily the Little Lion, looking sad. “What’s wrong, Lily?” Robbie asked.\n",
            "\n",
            "“Oh, Robbie! I have a big test at school tomorrow, and I don’t know how to answer the questions!” Lily said,\n"
          ]
        }
      ]
    },
    {
      "cell_type": "code",
      "source": [
        "prompt = (\n",
        "    \"Simulate a customer support conversation for a broken printer. Ask me clarifying questions before offering a solution, and confirm my answers before proceeding.\"\n",
        ")\n",
        "response = client.chat.completions.create(\n",
        "    model=\"gpt-4o-mini\",\n",
        "    messages=[{\"role\": \"user\", \"content\": prompt}],\n",
        "    max_tokens=180\n",
        ")\n",
        "print(response.choices[0].message.content)"
      ],
      "metadata": {
        "colab": {
          "base_uri": "https://localhost:8080/"
        },
        "id": "7o2Z0ORWQ45n",
        "outputId": "5209ced6-6fc1-4281-ce58-8415f777eac9"
      },
      "execution_count": 17,
      "outputs": [
        {
          "output_type": "stream",
          "name": "stdout",
          "text": [
            "Sure! Let's start the customer support conversation. \n",
            "\n",
            "---\n",
            "\n",
            "**Customer Support Agent:** Hi there! Thank you for reaching out. I understand that you're having issues with your printer. Can you please describe the problem you're experiencing?\n",
            "\n",
            "---\n",
            "\n",
            "Feel free to give me your response, and we'll continue from there!\n"
          ]
        }
      ]
    },
    {
      "cell_type": "code",
      "source": [
        "initial_prompt=\"You are an interviewer. Ask me three questions to understand my favorite hobbies. Then, based on my answers, create a personalized weekend plan and summarize my hobbies first.\"\n",
        "messages = [\n",
        "    {\"role\": \"user\", \"content\": initial_prompt},\n",
        "    {\"role\": \"assistant\", \"content\": \"<model's first question>\"},\n",
        "    {\"role\": \"user\", \"content\": \"<your answer>\"},\n",
        "    # and so on\n",
        "]\n",
        "response = client.chat.completions.create(\n",
        "    model=\"gpt-4o-mini\",\n",
        "    messages=messages,\n",
        "    max_tokens=80\n",
        ")\n",
        "print(response.choices[0].message.content)"
      ],
      "metadata": {
        "colab": {
          "base_uri": "https://localhost:8080/"
        },
        "id": "ngTdqV20Q77M",
        "outputId": "a9eb904b-4f5d-4952-a108-667b70a908e5"
      },
      "execution_count": 21,
      "outputs": [
        {
          "output_type": "stream",
          "name": "stdout",
          "text": [
            "Great! Let’s get started with my questions:\n",
            "\n",
            "1. What are some hobbies you currently enjoy during your free time, and how did you get into them?\n",
            "   \n",
            "2. Do you prefer outdoor activities or indoor hobbies, and what types of environments do you feel most relaxed or energized in?\n",
            "\n",
            "3. Are there any specific hobbies you’ve always wanted to try but haven’t had the chance to yet?\n",
            "\n",
            "\n"
          ]
        }
      ]
    }
  ]
}