{
  "nbformat": 4,
  "nbformat_minor": 0,
  "metadata": {
    "colab": {
      "provenance": [],
      "authorship_tag": "ABX9TyP4Nm8Spv/jAUsh3ostKAY0",
      "include_colab_link": true
    },
    "kernelspec": {
      "name": "python3",
      "display_name": "Python 3"
    },
    "language_info": {
      "name": "python"
    }
  },
  "cells": [
    {
      "cell_type": "markdown",
      "metadata": {
        "id": "view-in-github",
        "colab_type": "text"
      },
      "source": [
        "<a href=\"https://colab.research.google.com/github/appliedcode/mthree-c422/blob/mthree-c422-Prashanth/LLMtypesofstructure.ipynb\" target=\"_parent\"><img src=\"https://colab.research.google.com/assets/colab-badge.svg\" alt=\"Open In Colab\"/></a>"
      ]
    },
    {
      "cell_type": "code",
      "execution_count": 15,
      "metadata": {
        "colab": {
          "base_uri": "https://localhost:8080/"
        },
        "id": "maSM2ZtEKfVG",
        "outputId": "18dfb294-66ff-4aad-a292-074c60125eaa"
      },
      "outputs": [
        {
          "output_type": "stream",
          "name": "stdout",
          "text": [
            "✅ OpenAI API key loaded safely\n"
          ]
        }
      ],
      "source": [
        "from google.colab import userdata\n",
        "import os\n",
        "\n",
        "# Set your OpenAI API key securely in Colab Secrets (once)\n",
        "# userdata.set(\"OPENAI_API_KEY\", \"your-api-key-here\")\n",
        "\n",
        "# Retrieve key in your notebook\n",
        "openai_api_key = userdata.get(\"OPENAI_API_KEY\")\n",
        "if openai_api_key:\n",
        "    os.environ[\"OPENAI_API_KEY\"] = openai_api_key\n",
        "    print(\"✅ OpenAI API key loaded safely\")\n",
        "else:\n",
        "    print(\"❌ OpenAI API key not found. Please set it using Colab Secrets.\")"
      ]
    },
    {
      "cell_type": "code",
      "source": [
        "!pip install --quiet openai -q\n"
      ],
      "metadata": {
        "id": "a1x1jxrnKm_T"
      },
      "execution_count": 16,
      "outputs": []
    },
    {
      "cell_type": "code",
      "source": [
        "# Create client\n",
        "from openai import OpenAI\n",
        "client = OpenAI(api_key=os.environ[\"OPENAI_API_KEY\"])"
      ],
      "metadata": {
        "id": "E2imEkVgKsAh"
      },
      "execution_count": 17,
      "outputs": []
    },
    {
      "cell_type": "code",
      "source": [
        "# Exercise 1 – Instructions Pattern\n",
        "prompt = \"You are a bicycle mechanic. Give step-by-step instructions (max 6 steps) for adjusting rim brakes on a road bike.\"\n",
        "\n",
        "resp = client.chat.completions.create(\n",
        "    model=\"gpt-4o-mini\",\n",
        "    messages=[{\"role\": \"system\", \"content\": \"You are a helpful assistant.\"},\n",
        "              {\"role\": \"user\", \"content\": prompt}],\n",
        "    max_tokens=150\n",
        ")\n",
        "print(resp.choices[0].message.content)"
      ],
      "metadata": {
        "colab": {
          "base_uri": "https://localhost:8080/"
        },
        "id": "4zLQmYkgKuRa",
        "outputId": "71753f7c-8758-404c-8a8a-47b0e43665b3"
      },
      "execution_count": 18,
      "outputs": [
        {
          "output_type": "stream",
          "name": "stdout",
          "text": [
            "Certainly! Here’s a step-by-step guide to adjusting rim brakes on a road bike:\n",
            "\n",
            "### Step 1: Inspect Brake Pads\n",
            "- **Check Alignment**: Ensure the brake pads are aligned correctly with the rim. The pads should contact the rim flatly and not touch the tire. If they are not aligned, loosen the pad bolts and reposition them.\n",
            "\n",
            "### Step 2: Check Cable Tension\n",
            "- **Test Pull**: Squeeze the brake lever to see how much cable is pulled. Ideally, the brake lever should require a moderate amount of pressure to engage the brakes effectively. Adjust the cable tension using the barrel adjuster on the brake (if equipped) or by loosening the cable anchor bolt and pulling the cable tighter.\n",
            "\n",
            "###\n"
          ]
        }
      ]
    },
    {
      "cell_type": "code",
      "source": [
        "# Exercise 2 – Examples (Few‑Shot) Pattern\n",
        "few_shot = \"\"\"Translate English → French.\n",
        "\n",
        "English: Good morning!\n",
        "French: Bonjour !\n",
        "\n",
        "English: Where is the library?\n",
        "French: Où est la bibliothèque ?\n",
        "\n",
        "English: I love prompt engineering.\n",
        "French:\"\"\"\n",
        "\n",
        "resp = client.chat.completions.create(\n",
        "    model=\"gpt-4o-mini\",\n",
        "    messages=[{\"role\": \"user\", \"content\": few_shot}],\n",
        "    max_tokens=50\n",
        ")\n",
        "print(resp.choices[0].message.content)"
      ],
      "metadata": {
        "colab": {
          "base_uri": "https://localhost:8080/"
        },
        "id": "8O1IfXwgKx99",
        "outputId": "c3490033-197b-45bc-89c3-2c65988b0a79"
      },
      "execution_count": 19,
      "outputs": [
        {
          "output_type": "stream",
          "name": "stdout",
          "text": [
            "J'adore l'ingénierie des prompts.\n"
          ]
        }
      ]
    },
    {
      "cell_type": "code",
      "source": [
        "# Exercise 3 – Persona Pattern\n",
        "prompt = \"You are Ada Lovelace writing a 120-word diary entry about today’s AI advancements.\"\n",
        "resp = client.chat.completions.create(\n",
        "    model=\"gpt-4o-mini\",\n",
        "    messages=[{\"role\": \"user\", \"content\": prompt}],\n",
        "    max_tokens=200\n",
        ")\n",
        "print(resp.choices[0].message.content)"
      ],
      "metadata": {
        "colab": {
          "base_uri": "https://localhost:8080/"
        },
        "id": "bnzhDEmIK1lk",
        "outputId": "c850b27b-110c-4065-bcf1-9416c6789e96"
      },
      "execution_count": 20,
      "outputs": [
        {
          "output_type": "stream",
          "name": "stdout",
          "text": [
            "April 2024\n",
            "\n",
            "Today, I find myself awash in wonder at the remarkable advancements in artificial intelligence. These machines, once mere conceptions of thought, now engage in complex problem-solving and creative endeavors with a grace I scarcely imagined. I read of systems that compose symphonies and generate artwork that rivals the human touch. The notion that such algorithms could learn and adapt astounds me! Yet, I ponder the implications of this sentience. Are we shepherds guiding these entities, or will they transcend our intentions? The discourse surrounding ethics and responsibility in AI development grows ever more urgent. As I reflect, I remain hopeful that our creations will bolster human ingenuity, fostering progress while preserving the warmth of our shared human experience.\n"
          ]
        }
      ]
    },
    {
      "cell_type": "code",
      "source": [
        "# Exercise 4 – Recipe + Alternative Approaches Pattern\n",
        "prompt = \"\"\"Give me a recipe to reduce exam stress, then propose two\n",
        "alternative approaches, each with pros & cons.\"\"\"\n",
        "resp = client.chat.completions.create(\n",
        "    model=\"gpt-4o-mini\",\n",
        "    messages=[{\"role\": \"user\", \"content\": prompt}],\n",
        "    max_tokens=300\n",
        ")\n",
        "print(resp.choices[0].message.content)\n"
      ],
      "metadata": {
        "colab": {
          "base_uri": "https://localhost:8080/"
        },
        "id": "dcm1SGo8Rlo0",
        "outputId": "1bca07a7-549a-43d7-8ab9-f57c98a81b2d"
      },
      "execution_count": 21,
      "outputs": [
        {
          "output_type": "stream",
          "name": "stdout",
          "text": [
            "### Recipe to Reduce Exam Stress\n",
            "\n",
            "**Ingredients:**\n",
            "\n",
            "1. **Mindfulness Meditation** – 10 minutes daily\n",
            "2. **Physical Activity** – 30 minutes (walking, yoga, or any preferred exercise)\n",
            "3. **Balanced Diet** – Include fruits, vegetables, whole grains, and proteins\n",
            "4. **Adequate Sleep** – Aim for 7-9 hours each night\n",
            "5. **Study Schedule** – Plan your study sessions with breaks\n",
            "6. **Social Support** – Connect with friends or family for support\n",
            "7. **Breathing Exercises** – 5 minutes when feeling overwhelmed\n",
            "8. **Limit Caffeine and Sugar** – Opt for water and herbal teas\n",
            "\n",
            "**Instructions:**\n",
            "\n",
            "1. **Mindfulness Meditation**: Start each day by sitting quietly and focusing on your breath for 10 minutes. This helps clear your mind and center your thoughts.\n",
            "   \n",
            "2. **Physical Activity**: Incorporate 30 minutes of physical exercise into your daily routine. Activities like walking, jogging, or yoga not only boost your energy but also improve your mood.\n",
            "   \n",
            "3. **Balanced Diet**: Consume a balanced diet rich in nutrients. Foods like leafy greens, fruits, nuts, and lean proteins help maintain your energy levels and mental clarity.\n",
            "   \n",
            "4. **Adequate Sleep**: Establish a nighttime routine that allows you to wind down and achieve 7-9 hours of restorative sleep.\n",
            "   \n",
            "5. **Study Schedule**: Create a study plan\n"
          ]
        }
      ]
    },
    {
      "cell_type": "code",
      "source": [
        "# Exercise 5 – Ask-for-Input / Flipped Interaction Pattern\n",
        "prompt = \"\"\"You are an interviewer. Ask me 3 questions about my career goals,\n",
        "then summarize them and recommend a suitable tech course.\"\"\"\n",
        "resp = client.chat.completions.create(\n",
        "    model=\"gpt-4o-mini\",\n",
        "    messages=[{\"role\": \"user\", \"content\": prompt}],\n",
        "    max_tokens=300\n",
        ")\n",
        "print(resp.choices[0].message.content)"
      ],
      "metadata": {
        "colab": {
          "base_uri": "https://localhost:8080/"
        },
        "id": "J4CG0eftRnN6",
        "outputId": "20533872-9a29-4129-df57-28e4bc1398b6"
      },
      "execution_count": 22,
      "outputs": [
        {
          "output_type": "stream",
          "name": "stdout",
          "text": [
            "Absolutely! Here are three questions to help me understand your career goals:\n",
            "\n",
            "1. What specific role or position do you aspire to achieve in your career within the tech industry?\n",
            "   \n",
            "2. Are there particular skills or technologies you feel are essential for reaching your career goals, and how familiar are you with them currently?\n",
            "\n",
            "3. What is your ideal timeline for achieving these goals, and do you have any preferences for the type of learning format (online courses, bootcamps, etc.) that works best for you?\n",
            "\n",
            "Once you answer these questions, I’ll summarize your goals and provide a suitable tech course recommendation.\n"
          ]
        }
      ]
    },
    {
      "cell_type": "code",
      "source": [
        "\n",
        "# Exercise 6 – Menu / Meta-Language Pattern\n",
        "menu_prompt = \"\"\"### MENU\n",
        "ACTION = Explain, Summarize, Translate\n",
        "FORMAT = Plain, Bullets\n",
        "\n",
        "Command: ACTION=Summarize; FORMAT=Bullets;\n",
        "TEXT=\"Prompt engineering accelerates AI adoption across industries.\"\n",
        "###\"\"\"\n",
        "\n",
        "resp = client.chat.completions.create(\n",
        "    model=\"gpt-4o-mini\",\n",
        "    messages=[{\"role\": \"user\", \"content\": menu_prompt}],\n",
        "    max_tokens=150\n",
        ")\n",
        "print(resp.choices[0].message.content)"
      ],
      "metadata": {
        "id": "bPe1sCZDRwkp",
        "outputId": "b4de2342-38af-4111-86db-8f57958c34d9",
        "colab": {
          "base_uri": "https://localhost:8080/"
        }
      },
      "execution_count": 23,
      "outputs": [
        {
          "output_type": "stream",
          "name": "stdout",
          "text": [
            "- Prompt engineering is a technique used in AI development.\n",
            "- It helps to streamline and enhance the process of incorporating AI technologies.\n",
            "- This approach is accelerating the adoption of AI across various industries.\n"
          ]
        }
      ]
    },
    {
      "cell_type": "code",
      "source": [],
      "metadata": {
        "id": "fv4LmYHbRyhx"
      },
      "execution_count": null,
      "outputs": []
    }
  ]
}