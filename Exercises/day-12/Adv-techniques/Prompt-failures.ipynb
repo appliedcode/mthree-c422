{
  "cells": [
    {
      "cell_type": "markdown",
      "metadata": {
        "id": "view-in-github",
        "colab_type": "text"
      },
      "source": [
        "<a href=\"https://colab.research.google.com/github/appliedcode/mthree-c422/blob/main/Exercises/day-12/Adv-techniques/Prompt_failures.ipynb\" target=\"_parent\"><img src=\"https://colab.research.google.com/assets/colab-badge.svg\" alt=\"Open In Colab\"/></a>"
      ]
    },
    {
      "cell_type": "markdown",
      "source": [
        "## Lab Exercises: Handling Ambiguity, Troubleshooting & Prompt Failures in Prompt Engineering\n",
        "***\n",
        "\n",
        "### Setup:\n",
        "\n",
        "- Use OpenAI API or any language model API accessible in your Colab.\n",
        "- If API keys are needed, ensure they are safely added as environment variables or input by the user."
      ],
      "metadata": {
        "id": "eq4qKCdSNSko"
      }
    },
    {
      "cell_type": "code",
      "source": [
        "from google.colab import userdata\n",
        "import os\n",
        "\n",
        "# Set your OpenAI API key securely in Colab Secrets (once)\n",
        "# userdata.set(\"OPENAI_API_KEY\", \"your-api-key-here\")\n",
        "\n",
        "# Retrieve key in your notebook\n",
        "openai_api_key = userdata.get(\"OPENAI_API_KEY\")\n",
        "if openai_api_key:\n",
        "    os.environ[\"OPENAI_API_KEY\"] = openai_api_key\n",
        "    print(\"✅ OpenAI API key loaded safely\")\n",
        "else:\n",
        "    print(\"❌ OpenAI API key not found. Please set it using Colab Secrets.\")"
      ],
      "metadata": {
        "colab": {
          "base_uri": "https://localhost:8080/"
        },
        "id": "2YMRqyRCNGmo",
        "outputId": "3a11378e-b777-4a28-a4a4-bf3d09479c87"
      },
      "execution_count": 9,
      "outputs": [
        {
          "output_type": "stream",
          "name": "stdout",
          "text": [
            "✅ OpenAI API key loaded safely\n"
          ]
        }
      ]
    },
    {
      "cell_type": "code",
      "source": [
        "\n",
        "!pip install --quiet openai -q\n",
        "# Create client\n",
        "from openai import OpenAI\n",
        "client = OpenAI(api_key=os.environ[\"OPENAI_API_KEY\"])"
      ],
      "metadata": {
        "id": "9qrFrzlcPI1n"
      },
      "execution_count": 10,
      "outputs": []
    },
    {
      "cell_type": "code",
      "source": [
        "# Helper Function to Send Prompts\n",
        "def generate_response(prompt, model=\"gpt-4o-mini\", temperature=0.7):\n",
        "    try:\n",
        "        response = client.chat.completions.create(\n",
        "            model=model,\n",
        "            messages=[{\"role\": \"user\", \"content\": prompt}],\n",
        "            temperature=temperature\n",
        "        )\n",
        "        return response.choices[0].message.content.strip()\n",
        "    except Exception as e:\n",
        "        return f\"Error: {e}\"\n"
      ],
      "metadata": {
        "id": "AieFziFDTcuy"
      },
      "execution_count": 11,
      "outputs": []
    },
    {
      "cell_type": "markdown",
      "source": [
        "## Exercise 1: Identifying Ambiguity in Prompts\n",
        "### Objective: See how ambiguous prompts produce inconsistent or unclear responses."
      ],
      "metadata": {
        "id": "22Xf3vG3TfxS"
      }
    },
    {
      "cell_type": "code",
      "source": [
        "# Task:\n",
        "# Use an ambiguous prompt like:\n",
        "ambiguous_prompt = \"Describe the process.\"\n"
      ],
      "metadata": {
        "id": "lzzvZtN-Tiwy"
      },
      "execution_count": 12,
      "outputs": []
    },
    {
      "cell_type": "code",
      "source": [
        "# Create a clarified version with clear intent and constraints:\n",
        "\n",
        "clarified_prompt = \"Describe the photosynthesis process focusing on light absorption and chemical reactions.\"\n"
      ],
      "metadata": {
        "id": "Z6BPIz3MTmwq"
      },
      "execution_count": 13,
      "outputs": []
    },
    {
      "cell_type": "code",
      "source": [
        "# Run both through generate_response() and compare outputs.\n",
        "print(\"=== Ambiguous Prompt ===\")\n",
        "print(generate_response(ambiguous_prompt), \"\\n\")\n",
        "\n",
        "print(\"=== Clarified Prompt ===\")\n",
        "print(generate_response(clarified_prompt))\n"
      ],
      "metadata": {
        "id": "nQ5jHU-sTpeH",
        "outputId": "ff847ddb-d0c2-4d85-bdb6-3ace23c61763",
        "colab": {
          "base_uri": "https://localhost:8080/"
        }
      },
      "execution_count": 14,
      "outputs": [
        {
          "output_type": "stream",
          "name": "stdout",
          "text": [
            "=== Ambiguous Prompt ===\n",
            "Could you please specify which process you would like me to describe? There are many processes across various fields, such as scientific procedures, manufacturing, project management, or even personal habits. Let me know, and I'll be happy to provide a detailed description! \n",
            "\n",
            "=== Clarified Prompt ===\n",
            "Photosynthesis is the biochemical process by which green plants, algae, and some bacteria convert light energy into chemical energy, primarily in the form of glucose, using carbon dioxide and water. This process occurs mainly in the chloroplasts of plant cells and involves two main stages: the light-dependent reactions and the light-independent reactions (Calvin cycle).\n",
            "\n",
            "### 1. Light Absorption\n",
            "\n",
            "**Chlorophyll and Pigments:**\n",
            "- The process begins with the absorption of light, primarily in the blue and red wavelengths, by chlorophyll, the main pigment in plants. Chlorophyll is located in the thylakoid membranes of the chloroplasts.\n",
            "- Other accessory pigments, such as carotenoids, also play a role in capturing light energy and protecting the plant from damage by excess light.\n",
            "\n",
            "**Photon Absorption:**\n",
            "- When chlorophyll absorbs photons (light particles), it becomes excited and enters a higher energy state. This energy is then transferred to nearby pigment molecules, a process called resonance energy transfer.\n",
            "\n",
            "### 2. Light-Dependent Reactions\n",
            "\n",
            "**Location:** Thylakoid membranes of chloroplasts.\n",
            "\n",
            "**Key Processes:**\n",
            "- **Water Splitting (Photolysis):** The absorbed light energy is used to split water molecules (H₂O) into oxygen (O₂), protons (H⁺), and electrons (e⁻). This reaction is catalyzed by the enzyme Photosystem II.\n",
            "  \n",
            "  \\[\n",
            "  2H_2O \\rightarrow 4H^+ + 4e^- + O_2\n",
            "  \\]\n",
            "\n",
            "- **Electron Transport Chain:** The excited electrons from chlorophyll are transferred through a series of proteins known as the electron transport chain (ETC). As electrons move through the ETC, they lose energy, which is used to pump protons into the thylakoid lumen, creating a proton gradient.\n",
            "\n",
            "- **ATP and NADPH Formation:** The proton gradient drives ATP synthesis through ATP synthase, a process known as chemiosmosis. The electrons ultimately reduce NADP⁺ to form NADPH. Both ATP and NADPH produced in this stage are essential energy carriers for the next stage of photosynthesis.\n",
            "\n",
            "### 3. Light-Independent Reactions (Calvin Cycle)\n",
            "\n",
            "**Location:** Stroma of chloroplasts.\n",
            "\n",
            "**Key Processes:**\n",
            "- **Carbon Fixation:** Carbon dioxide (CO₂) from the atmosphere is fixed into a stable intermediate through the action of the enzyme RuBisCO, forming 3-phosphoglycerate (3-PGA).\n",
            "  \n",
            "  \\[\n",
            "  CO_2 + RuBP \\rightarrow 3-PGA\n",
            "  \\]\n",
            "\n",
            "- **Reduction Phase:** ATP and NADPH produced in the light-dependent reactions are used to convert 3-PGA into glyceraldehyde-3-phosphate (G3P), a three-carbon sugar. This process involves phosphorylation (adding a phosphate group) and reduction (adding electrons).\n",
            "\n",
            "- **Regeneration of RuBP:** Some of the G3P molecules are used to regenerate ribulose bisphosphate (RuBP), allowing the cycle to continue. This regeneration also consumes ATP.\n",
            "\n",
            "- **Glucose Formation:** Ultimately, through several cycles of the Calvin cycle, G3P can be converted into glucose and other carbohydrates.\n",
            "\n",
            "### Summary\n",
            "\n",
            "In summary, photosynthesis is a complex process that harnesses light energy to produce glucose from carbon dioxide and water. The light-dependent reactions capture and convert light energy into chemical energy stored in ATP and NADPH, while the light-independent reactions utilize this energy to fix carbon and synthesize glucose. The overall equation for photosynthesis can be summarized as:\n",
            "\n",
            "\\[\n",
            "6CO_2 + 6H_2O + light \\ energy \\rightarrow C_6H_{12}O_6 + 6O_2\n",
            "\\] \n",
            "\n",
            "This process is vital for life on Earth, as it provides the organic compounds and oxygen needed by most organisms.\n"
          ]
        }
      ]
    },
    {
      "cell_type": "markdown",
      "source": [
        "## Exercise 2: Troubleshooting Inconsistent or Irrelevant Output\n",
        "### Objective: Practice troubleshooting a vague or failed prompt by refining it step-by-step."
      ],
      "metadata": {
        "id": "_JmnOAs4TtOi"
      }
    },
    {
      "cell_type": "code",
      "source": [
        "# Task:\n",
        "\n",
        "# Start with a vague prompt that tends to fail:\n",
        "vague = \"Write a poem.\"\n"
      ],
      "metadata": {
        "id": "jtPRi0wfTyBS"
      },
      "execution_count": 15,
      "outputs": []
    },
    {
      "cell_type": "code",
      "source": [
        "# Observe shortcomings in the output (such as randomness or lack of clear structure).\n",
        "\n",
        "# Refine the prompt to add instructions:\n",
        "refined = \"Write a 4-line rhyming poem about spring with a hopeful tone.\"\n"
      ],
      "metadata": {
        "id": "tXVJoDNDT1x9"
      },
      "execution_count": 16,
      "outputs": []
    },
    {
      "cell_type": "code",
      "source": [
        "# If the model produces unexpected content, add explicit \"Important:\" instructions to guide it further.\n",
        "print(\"=== Vague Prompt ===\")\n",
        "print(generate_response(vague), \"\\n\")\n",
        "\n",
        "print(\"=== Refined Prompt ===\")\n",
        "print(generate_response(refined), \"\\n\")\n",
        "\n",
        "important_refined = \"\"\"\n",
        "Important: The poem must not mention winter or cold, focus only on spring themes in 4 lines with rhyme.\n",
        "Write the poem:\n",
        "\"\"\"\n",
        "print(generate_response(important_refined))\n"
      ],
      "metadata": {
        "id": "0ioSBS_2T4ao",
        "outputId": "7d1a317a-60b4-4fff-f098-b52e2041d836",
        "colab": {
          "base_uri": "https://localhost:8080/"
        }
      },
      "execution_count": 17,
      "outputs": [
        {
          "output_type": "stream",
          "name": "stdout",
          "text": [
            "=== Vague Prompt ===\n",
            "In the quiet of the evening's glow,  \n",
            "Where whispered winds through willows flow,  \n",
            "The sky, a canvas painted gold,  \n",
            "Holds secrets of the day untold.  \n",
            "\n",
            "Beneath the stars, a silver light,  \n",
            "The world wraps gently in the night.  \n",
            "Each heartbeat echoes, soft and clear,  \n",
            "As time stands still, and dreams draw near.  \n",
            "\n",
            "The moon, a guardian, watches high,  \n",
            "Casting shadows where memories lie.  \n",
            "In the stillness, hopes take flight,  \n",
            "Carried on the breeze, a sweet delight.  \n",
            "\n",
            "With every breath, a story spun,  \n",
            "Of laughter shared, of battles won.  \n",
            "Through fields of solace, hearts will roam,  \n",
            "In nature's arms, we find our home.  \n",
            "\n",
            "So let us dance with twilight's sway,  \n",
            "Embrace the magic of the day.  \n",
            "For in this moment, pure and true,  \n",
            "The universe whispers, \"I am here for you.\" \n",
            "\n",
            "=== Refined Prompt ===\n",
            "In spring's embrace, the blossoms bloom,  \n",
            "Awakening life from winter's gloom.  \n",
            "With every ray, the world ignites,  \n",
            "A canvas bright with future's lights. \n",
            "\n",
            "In gardens bloom with colors bright,  \n",
            "The sun ascends, a joyful sight.  \n",
            "With whispers soft, the breezes play,  \n",
            "Embracing all, the dance of day.\n"
          ]
        }
      ]
    },
    {
      "cell_type": "markdown",
      "source": [
        "## Exercise 3: Diagnosing and Fixing Hallucinations in AI Responses\n",
        "### Objective: Learn how to manage prompts to reduce AI \"hallucinations\" (made-up facts)."
      ],
      "metadata": {
        "id": "FtCKe8lyT7Ts"
      }
    },
    {
      "cell_type": "code",
      "source": [
        "# Ask the model a fact-based question without anchoring:\n",
        "hallucination_prompt = \"Tell me about the latest Mars mission.\"\n"
      ],
      "metadata": {
        "id": "v3AEDqRKT98F"
      },
      "execution_count": 18,
      "outputs": []
    },
    {
      "cell_type": "code",
      "source": [
        "# Then anchor the prompt with fact-stating instructions:\n",
        "\n",
        "anchored_prompt = \"\"\"\n",
        "Based only on verified scientific information up to 2023,\n",
        "summarize the objectives of the latest Mars mission.\n",
        "If not sure, say 'I don't know.'\n",
        "\"\"\"\n"
      ],
      "metadata": {
        "id": "AY11yDV6UAAo"
      },
      "execution_count": 19,
      "outputs": []
    },
    {
      "cell_type": "code",
      "source": [
        "# Compare outputs.\n",
        "\n",
        "print(\"=== Potential Hallucination Prompt ===\")\n",
        "print(generate_response(hallucination_prompt), \"\\n\")\n",
        "\n",
        "print(\"=== Anchored Prompt to Avoid Hallucinations ===\")\n",
        "print(generate_response(anchored_prompt))\n"
      ],
      "metadata": {
        "id": "GsYtKP0BUB--",
        "outputId": "526ee5b5-0cc9-4edb-9204-f4bae6d5faf4",
        "colab": {
          "base_uri": "https://localhost:8080/"
        }
      },
      "execution_count": 20,
      "outputs": [
        {
          "output_type": "stream",
          "name": "stdout",
          "text": [
            "=== Potential Hallucination Prompt ===\n",
            "As of my last knowledge update in October 2023, the most recent Mars missions included the Perseverance rover and the Ingenuity helicopter, which were part of NASA's Mars 2020 mission. Perseverance landed on Mars in February 2021 and has been conducting scientific research, including searching for signs of ancient life and collecting rock and soil samples for future return to Earth. Ingenuity, a technology demonstrator, has successfully completed multiple flights, showcasing the potential for aerial exploration on Mars.\n",
            "\n",
            "In addition to NASA's efforts, several other countries and organizations, including the UAE with their Hope orbiter and China with the Tianwen-1 mission, were active in Mars exploration. The Hope orbiter, which entered Martian orbit in February 2021, is studying the planet's atmosphere and weather, while Tianwen-1 includes an orbiter, lander, and the Zhurong rover, which has been exploring the Martian surface since May 2021.\n",
            "\n",
            "For the very latest developments or missions beyond October 2023, I recommend checking NASA’s official website or other reputable space news sources. \n",
            "\n",
            "=== Anchored Prompt to Avoid Hallucinations ===\n",
            "As of 2023, the latest Mars missions, including NASA's Perseverance rover and the UAE's Hope orbiter, have several key objectives:\n",
            "\n",
            "1. **Search for Signs of Past Life**: Perseverance aims to explore the Jezero Crater to find evidence of ancient microbial life and understand the planet's geology and climate.\n",
            "\n",
            "2. **Sample Collection**: The rover is tasked with collecting rock and soil samples for potential return to Earth in future missions, which will help in detailed analysis.\n",
            "\n",
            "3. **Testing New Technologies**: Perseverance is testing new technologies for future human exploration, such as the MOXIE experiment, which produces oxygen from Martian CO2.\n",
            "\n",
            "4. **Understanding Mars' Climate and Geology**: Both missions aim to study the Martian atmosphere, geology, and surface processes to gain insights into the planet's history and evolution.\n",
            "\n",
            "5. **Preparing for Human Exploration**: The missions are contributing to knowledge required for future human missions to Mars, addressing challenges related to life support and sustainability.\n",
            "\n",
            "These objectives reflect the ongoing interest in Mars as a target for exploration and potential future colonization.\n"
          ]
        }
      ]
    },
    {
      "cell_type": "markdown",
      "source": [
        "## Exercise 4: Handling Overly Long or Complex Prompts (Troubleshooting Failure Modes)\n",
        "### Objective: See how very long or overloaded prompts can cause failure or truncated responses.\n",
        "\n",
        "#### Task:\n",
        "\n",
        "- Create an overstuffed prompt combining multiple tasks or large amounts of data.\n",
        "\n",
        "- Send it and observe if the output cuts off or gets confused.\n",
        "\n",
        "- Then split the task into smaller prompts with focused instructions.\n",
        "\n",
        "- Compare the results and check for better coherence and completeness."
      ],
      "metadata": {
        "id": "ulxios7tUE18"
      }
    },
    {
      "cell_type": "code",
      "source": [
        "overloaded_prompt = \"\"\"\n",
        "Explain the theory of relativity including special and general relativity,\n",
        "provide examples, historical context, significance in physics, and common misconceptions,\n",
        "all in a single paragraph.\n",
        "\"\"\" * 3  # Repeated to simulate length\n",
        "\n",
        "print(\"=== Overloaded Prompt ===\")\n",
        "print(generate_response(overloaded_prompt), \"\\n\")\n",
        "\n",
        "smaller_prompts = [\n",
        "    \"Explain the theory of special relativity in simple terms.\",\n",
        "    \"Explain the theory of general relativity with a real-world example.\",\n",
        "    \"List common misconceptions about relativity.\"\n",
        "]\n",
        "\n",
        "for i, sp in enumerate(smaller_prompts, 1):\n",
        "    print(f\"--- Smaller Prompt {i} ---\")\n",
        "    print(generate_response(sp), \"\\n\")\n"
      ],
      "metadata": {
        "id": "P5zHIl7HULw4",
        "outputId": "c10a0a65-9f7e-4306-9b38-79884db98c8d",
        "colab": {
          "base_uri": "https://localhost:8080/"
        }
      },
      "execution_count": 21,
      "outputs": [
        {
          "output_type": "stream",
          "name": "stdout",
          "text": [
            "=== Overloaded Prompt ===\n",
            "The theory of relativity, developed by Albert Einstein in the early 20th century, encompasses two interrelated theories: special relativity (1905) and general relativity (1915). Special relativity revolutionized our understanding of space and time, introducing concepts such as the constancy of the speed of light and time dilation, exemplified by the twin paradox where a traveling twin ages more slowly than one who remains on Earth. General relativity expanded this framework to include gravity, describing it not as a force but as the curvature of spacetime caused by mass, successfully predicting phenomena such as the bending of light around massive objects, which was confirmed during a solar eclipse in 1919. Historically, this theory marked a significant shift from Newtonian physics, reshaping our understanding of the universe and laying the groundwork for modern cosmology and astrophysics. Its significance is profound, influencing technologies such as GPS and leading to insights about black holes and the expanding universe. However, common misconceptions persist, such as the idea that relativity is only about speed or that it denies the existence of absolute time, whereas it actually reveals that time is relative and intertwined with the spatial dimension, leading to a more intricate understanding of our universe. \n",
            "\n",
            "--- Smaller Prompt 1 ---\n",
            "The theory of special relativity, developed by Albert Einstein in 1905, fundamentally changed our understanding of space and time. Here are the key ideas explained in simple terms:\n",
            "\n",
            "1. **Speed of Light is Constant**: One of the main principles of special relativity is that the speed of light in a vacuum is always the same, no matter how fast you are moving or in which direction. This speed is about 299,792 kilometers per second (or about 186,282 miles per second).\n",
            "\n",
            "2. **Relative Motion**: Special relativity shows that measurements of time and space can differ depending on how fast you are moving relative to someone else. For example, if you are traveling very fast, time will pass more slowly for you compared to someone who is stationary. This phenomenon is known as time dilation.\n",
            "\n",
            "3. **Length Contraction**: Similarly, objects moving at high speeds will appear shorter in the direction of motion to a stationary observer. This is called length contraction.\n",
            "\n",
            "4. **Mass and Energy Relationship**: Special relativity also introduces the famous equation \\(E=mc^2\\), which means that mass can be converted into energy and vice versa. This equation shows that even a small amount of mass can be turned into a large amount of energy because of the \\(c^2\\) (the speed of light squared) factor.\n",
            "\n",
            "5. **No Absolute Reference Frame**: In special relativity, there is no absolute frame of reference. This means that all motion is relative. If two people are moving relative to each other, they can each consider themselves to be at rest, and there is no \"preferred\" perspective.\n",
            "\n",
            "To summarize, special relativity tells us that space and time are interwoven and that our observations of them can change based on our relative speeds. It challenges our everyday understanding of how the universe works and has been confirmed by many experiments since its introduction. \n",
            "\n",
            "--- Smaller Prompt 2 ---\n",
            "The theory of general relativity, proposed by Albert Einstein in 1915, fundamentally changed our understanding of gravity. Unlike Newton's view of gravity as a force acting at a distance, general relativity describes gravity as the curvature of spacetime caused by mass and energy.\n",
            "\n",
            "### Key Concepts of General Relativity:\n",
            "\n",
            "1. **Spacetime**: In general relativity, time and three-dimensional space are intertwined into a four-dimensional continuum known as spacetime. Massive objects like planets and stars warp this spacetime around them.\n",
            "\n",
            "2. **Curvature of Spacetime**: According to general relativity, massive objects (like the Earth or the Sun) cause a curvature in the fabric of spacetime. Smaller objects move along the curves in this spacetime, which we perceive as gravitational attraction.\n",
            "\n",
            "3. **Geodesics**: Objects in free fall move along paths called geodesics, which are the shortest paths in curved spacetime. This means that objects naturally follow the curvature created by mass rather than being \"pulled\" by a force.\n",
            "\n",
            "### Real-World Example: The Orbit of Mercury\n",
            "\n",
            "One of the most famous real-world confirmations of general relativity is the precession of the orbit of Mercury. For many years, astronomers noticed that Mercury's elliptical orbit around the Sun did not perfectly match the predictions made using Newtonian mechanics. Specifically, the point of Mercury's closest approach to the Sun (called perihelion) shifted slightly with each orbit.\n",
            "\n",
            "#### Newton's Prediction:\n",
            "Using Newton's laws, astronomers calculated the orbit of Mercury and found that it should precess (shift) by a certain amount. However, observations showed that Mercury's orbit precessed more than Newton's calculations could account for—about 574 arcseconds per century.\n",
            "\n",
            "#### General Relativity's Prediction:\n",
            "Einstein's theory of general relativity provided a new way to calculate gravitational effects. When applying general relativity to Mercury's orbit, Einstein accounted for the curvature of spacetime caused by the immense mass of the Sun. His calculations showed that the additional precession of Mercury's orbit could be explained by this curvature.\n",
            "\n",
            "The result? General relativity predicted an extra precession of about 43 arcseconds per century, perfectly matching the discrepancy observed. This was one of the first major tests of general relativity and provided strong evidence that the theory accurately described gravitational phenomena.\n",
            "\n",
            "### Conclusion\n",
            "\n",
            "General relativity revolutionized our understanding of gravity, providing a framework that explains not just the movement of planets, but a wide range of phenomena, from the bending of light around massive objects (gravitational lensing) to the expansion of the universe itself. Mercury's orbit serves as a classic example of how general relativity differs from Newtonian mechanics and demonstrates its profound implications for our understanding of the cosmos. \n",
            "\n",
            "--- Smaller Prompt 3 ---\n",
            "Certainly! Here are some common misconceptions about Einstein's theory of relativity:\n",
            "\n",
            "1. **Time Dilation Means Time Slows Down for Everyone**: Many people think that time dilation means that time itself slows down universally. In reality, time dilation is relative; it depends on the observer's frame of reference. For example, an observer moving at high speed will see time slow down for another observer, but they won't perceive their own time as slowed.\n",
            "\n",
            "2. **Nothing Can Move Faster Than Light**: While it's true that nothing can travel faster than the speed of light in a vacuum, some misunderstand this to mean that information cannot be transmitted faster than light. Certain phenomena, like quantum entanglement, can appear to transmit information instantaneously, but they do not allow for faster-than-light communication.\n",
            "\n",
            "3. **Massive Objects Create Gravity by Curving Space**: While it's true that massive objects cause spacetime to curve, some people think that the curvature itself is what causes gravity. In reality, gravity is the result of the influence of that curvature on the motion of objects.\n",
            "\n",
            "4. **Relativity is Just a Theory**: Some mistakenly equate \"theory\" with \"guess\" or \"hypothesis.\" In scientific terms, a theory is a well-substantiated explanation of some aspect of the natural world, supported by a body of evidence. Relativity is one of the most tested theories in physics.\n",
            "\n",
            "5. **Time Travel is Possible**: While relativity allows for certain scenarios that could theoretically permit time travel (like wormholes), it does not provide a practical method for time travel that is achievable with our current understanding of physics.\n",
            "\n",
            "6. **Relativity is Only About Speed**: While special relativity primarily deals with the effects of high speeds, general relativity deals with gravitation and the curvature of spacetime. These are distinct but interconnected aspects of the same theory.\n",
            "\n",
            "7. **GPS Doesn't Need to Account for Relativity**: Many believe that GPS technology is straightforward and does not involve relativistic effects. In reality, satellites experience both special and general relativistic time dilation effects, and these must be corrected for accurate positioning.\n",
            "\n",
            "8. **Einstein Said Everything is Relative**: While relativity emphasizes the relativity of measurements (like time and space), it does not imply that \"everything is relative.\" Physical laws are consistent and universal; it's the measurements that can vary based on the observer's frame of reference.\n",
            "\n",
            "9. **Black Holes are Just a Theory**: Some people think that black holes are merely theoretical constructs. While they are predicted by general relativity, observational evidence (like the Event Horizon Telescope imaging the black hole in M87) supports their existence.\n",
            "\n",
            "10. **Relativity is Incompatible with Quantum Mechanics**: While general relativity and quantum mechanics describe different aspects of the universe, they are not fundamentally incompatible. Physicists are actively working toward a theory of quantum gravity that reconciles the two.\n",
            "\n",
            "Understanding these misconceptions can help clarify the principles of relativity and its implications in modern physics. \n",
            "\n"
          ]
        }
      ]
    },
    {
      "cell_type": "markdown",
      "source": [
        "## Exercise 5: Meta-Prompting for Troubleshooting\n",
        "### Objective: Use meta-prompts to ask the model to clarify its understanding or identify issues with ambiguous instructions."
      ],
      "metadata": {
        "id": "05ef0UTHUPYn"
      }
    },
    {
      "cell_type": "code",
      "source": [
        "# Start with an ambiguous prompt:\n",
        "ambiguous_request = \"Create an efficient sorting algorithm.\"\n"
      ],
      "metadata": {
        "id": "3EK0m7aBUO6S"
      },
      "execution_count": 22,
      "outputs": []
    },
    {
      "cell_type": "code",
      "source": [
        "# Ask the model if it understands what is meant by \"efficient sorting algorithm\":\n",
        "\n",
        "meta_prompt = \"\"\"\n",
        "Before you write code, please explain what you understand by\n",
        "'efficient sorting algorithm.' If unsure, ask for clarification.\n",
        "\"\"\"\n"
      ],
      "metadata": {
        "id": "1wfF1o8hUVmF"
      },
      "execution_count": 23,
      "outputs": []
    },
    {
      "cell_type": "code",
      "source": [
        "# Run meta-prompt and analyze the output.\n",
        "# Based on the model's answer, refine the original prompt with explicit constraints.\n",
        "\n",
        "print(\"=== Ambiguous Request ===\")\n",
        "print(generate_response(ambiguous_request), \"\\n\")\n",
        "\n",
        "print(\"=== Meta Prompt (Check Understanding) ===\")\n",
        "print(generate_response(meta_prompt), \"\\n\")\n",
        "\n",
        "refined_sort_prompt = \"\"\"\n",
        "Write a Python function implementing merge sort, emphasizing O(n log n) time complexity.\n",
        "Include comments explaining each step.\n",
        "\"\"\"\n",
        "print(generate_response(refined_sort_prompt))\n",
        "\n"
      ],
      "metadata": {
        "id": "T3CT5gIOUeoF",
        "outputId": "7909de39-2b79-44bb-da70-17d362cf99f1",
        "colab": {
          "base_uri": "https://localhost:8080/"
        }
      },
      "execution_count": 24,
      "outputs": [
        {
          "output_type": "stream",
          "name": "stdout",
          "text": [
            "=== Ambiguous Request ===\n",
            "Creating an efficient sorting algorithm can mean different things depending on the context and requirements (e.g., time complexity, space complexity, stability, etc.). One of the most well-known and efficient sorting algorithms is **QuickSort**. Below, I will explain how QuickSort works and provide an implementation in Python.\n",
            "\n",
            "### QuickSort Algorithm\n",
            "\n",
            "**Overview:**\n",
            "QuickSort is a divide-and-conquer algorithm that works by selecting a 'pivot' element from the array and partitioning the other elements into two sub-arrays according to whether they are less than or greater than the pivot. The sub-arrays are then sorted recursively.\n",
            "\n",
            "**Time Complexity:**\n",
            "- Average case: O(n log n)\n",
            "- Worst case: O(n²) (This can be mitigated by using techniques such as randomizing the pivot)\n",
            "- Best case: O(n log n)\n",
            "\n",
            "**Space Complexity:**\n",
            "- O(log n) due to recursive stack space\n",
            "\n",
            "### QuickSort Implementation in Python\n",
            "\n",
            "```python\n",
            "def quicksort(arr):\n",
            "    if len(arr) <= 1:\n",
            "        return arr\n",
            "    else:\n",
            "        pivot = arr[len(arr) // 2]  # Choosing the pivot (middle element)\n",
            "        left = [x for x in arr if x < pivot]  # Elements less than pivot\n",
            "        middle = [x for x in arr if x == pivot]  # Elements equal to pivot\n",
            "        right = [x for x in arr if x > pivot]  # Elements greater than pivot\n",
            "        return quicksort(left) + middle + quicksort(right)  # Concatenate results\n",
            "\n",
            "# Example usage\n",
            "if __name__ == \"__main__\":\n",
            "    sample_array = [3, 6, 8, 10, 1, 2, 1]\n",
            "    sorted_array = quicksort(sample_array)\n",
            "    print(\"Sorted array:\", sorted_array)\n",
            "```\n",
            "\n",
            "### Explanation of the Code:\n",
            "1. **Base Case:** If the array has one or zero elements, it is already sorted, so we return it.\n",
            "2. **Choosing a Pivot:** The pivot is chosen as the middle element of the array.\n",
            "3. **Partitioning:**\n",
            "   - We create three lists: `left` for elements less than the pivot, `middle` for elements equal to the pivot, and `right` for elements greater than the pivot.\n",
            "4. **Recursion:** We call `quicksort` recursively on the `left` and `right` arrays and concatenate the results with the `middle`.\n",
            "\n",
            "### Conclusion\n",
            "QuickSort is a practical and efficient sorting algorithm for most applications. However, it’s important to consider the specific use case and data characteristics, as other algorithms like MergeSort or HeapSort may be more suitable in certain scenarios. \n",
            "\n",
            "=== Meta Prompt (Check Understanding) ===\n",
            "An efficient sorting algorithm is one that organizes a collection of items (typically numbers or strings) into a specified order (ascending or descending) while minimizing the use of computational resources, particularly time and space. The efficiency of a sorting algorithm is often measured using two main criteria:\n",
            "\n",
            "1. **Time Complexity**: This represents the amount of time an algorithm takes to complete as a function of the size of the input data. It is usually expressed using Big O notation. For example:\n",
            "   - An algorithm with a time complexity of \\(O(n \\log n)\\) (like Merge Sort or Quick Sort) is generally considered efficient for large datasets.\n",
            "   - An algorithm with \\(O(n^2)\\) complexity (like Bubble Sort or Insertion Sort) can be inefficient for large datasets, though it may perform well on small or nearly sorted datasets.\n",
            "\n",
            "2. **Space Complexity**: This refers to the amount of memory an algorithm uses relative to the input size. An efficient sorting algorithm should ideally use minimal additional space. For example:\n",
            "   - In-place sorting algorithms (like Quick Sort or Heap Sort) require only a small, constant amount of additional space.\n",
            "   - Non-in-place algorithms (like Merge Sort) might require additional space proportional to the size of the input.\n",
            "\n",
            "An efficient sorting algorithm balances these two aspects, effectively handling large datasets while using reasonable amounts of time and memory. Other practical considerations may include stability (whether equal elements retain their relative order), adaptability (how well the algorithm performs on nearly sorted data), and simplicity of implementation.\n",
            "\n",
            "If you have a specific context or criteria in mind regarding \"efficient sorting algorithm,\" please let me know! \n",
            "\n",
            "Certainly! Merge sort is a classic divide-and-conquer algorithm that sorts an array or list by recursively splitting it into halves, sorting each half, and then merging the sorted halves back together. The overall time complexity for merge sort is O(n log n), which is efficient for large datasets. Here is a Python implementation of merge sort with detailed comments explaining each step:\n",
            "\n",
            "```python\n",
            "def merge_sort(array):\n",
            "    # Base case: if the array has one or zero elements, it is already sorted.\n",
            "    if len(array) <= 1:\n",
            "        return array\n",
            "\n",
            "    # Step 1: Divide the array into two halves.\n",
            "    mid = len(array) // 2  # Find the middle index.\n",
            "    left_half = array[:mid]  # Split the array into the left half.\n",
            "    right_half = array[mid:]  # Split the array into the right half.\n",
            "\n",
            "    # Step 2: Recursively sort both halves.\n",
            "    sorted_left = merge_sort(left_half)  # Recursively sort the left half.\n",
            "    sorted_right = merge_sort(right_half)  # Recursively sort the right half.\n",
            "\n",
            "    # Step 3: Merge the two sorted halves and return the sorted array.\n",
            "    return merge(sorted_left, sorted_right)\n",
            "\n",
            "def merge(left, right):\n",
            "    # This function merges two sorted arrays (left and right) into one sorted array.\n",
            "    merged = []  # This will hold the merged result.\n",
            "    i = j = 0  # Initialize pointers for left and right arrays.\n",
            "\n",
            "    # Step 4: Compare elements of both arrays and merge them in sorted order.\n",
            "    while i < len(left) and j < len(right):\n",
            "        if left[i] < right[j]:  # If the current element in left is smaller.\n",
            "            merged.append(left[i])  # Add it to the merged result.\n",
            "            i += 1  # Move the pointer in the left array.\n",
            "        else:  # If the current element in right is smaller or equal.\n",
            "            merged.append(right[j])  # Add it to the merged result.\n",
            "            j += 1  # Move the pointer in the right array.\n",
            "\n",
            "    # Step 5: If there are remaining elements in the left array, add them.\n",
            "    while i < len(left):\n",
            "        merged.append(left[i])  # Add remaining elements from left.\n",
            "        i += 1  # Move the pointer in the left array.\n",
            "\n",
            "    # Step 6: If there are remaining elements in the right array, add them.\n",
            "    while j < len(right):\n",
            "        merged.append(right[j])  # Add remaining elements from right.\n",
            "        j += 1  # Move the pointer in the right array.\n",
            "\n",
            "    return merged  # Return the fully merged sorted array.\n",
            "\n",
            "# Example usage:\n",
            "if __name__ == \"__main__\":\n",
            "    arr = [38, 27, 43, 3, 9, 82, 10]\n",
            "    sorted_arr = merge_sort(arr)\n",
            "    print(\"Sorted array:\", sorted_arr)\n",
            "```\n",
            "\n",
            "### Explanation of the Code:\n",
            "1. **Function `merge_sort`**: This is the main function that handles the sorting. It first checks if the array has one or fewer elements (base case) and returns it as it is already sorted.\n",
            "  \n",
            "2. **Dividing the Array**: The array is divided into two halves using the middle index.\n",
            "\n",
            "3. **Recursive Calls**: The function calls itself recursively on both halves to sort them.\n",
            "\n",
            "4. **Function `merge`**: This function takes two sorted arrays (left and right) and merges them into a single sorted array. It uses two pointers to track the current index in each array.\n",
            "\n",
            "5. **Merging Process**: The merging process involves comparing the elements pointed by the two pointers and adding the smaller element to the merged array. This continues until all elements from both arrays are processed.\n",
            "\n",
            "6. **Adding Remaining Elements**: After one of the arrays is fully traversed, any remaining elements from the other array are appended to the merged array.\n",
            "\n",
            "### Time Complexity:\n",
            "- The time complexity of merge sort is O(n log n) because:\n",
            "  - The array is divided in half log(n) times (where n is the number of elements).\n",
            "  - Each level of division requires O(n) time to merge the elements back together. Thus, the overall complexity is O(n log n).\n"
          ]
        }
      ]
    },
    {
      "cell_type": "markdown",
      "source": [
        "#### What Students Will Learn\n",
        "- How ambiguous or incomplete prompts lead to weak or inconsistent AI outputs.\n",
        "\n",
        "- Iterative troubleshooting by refining prompts with specificity, structure, and constraints.\n",
        "\n",
        "- Techniques to avoid hallucinations via anchoring and explicit instructions.\n",
        "\n",
        "- The importance of task decomposition for complex queries.\n",
        "\n",
        "- Using meta-prompting to clarify intent and prompt understanding.\n",
        "\n",
        "- Recognizing failure modes such as length truncation and ambiguous phrasing."
      ],
      "metadata": {
        "id": "La0dHmkOU4N1"
      }
    },
    {
      "cell_type": "code",
      "source": [],
      "metadata": {
        "id": "QzTgYcu4V37V"
      },
      "execution_count": null,
      "outputs": []
    }
  ],
  "metadata": {
    "colab": {
      "name": "Welcome to Colab",
      "provenance": [],
      "include_colab_link": true
    },
    "kernelspec": {
      "display_name": "Python 3",
      "name": "python3"
    }
  },
  "nbformat": 4,
  "nbformat_minor": 0
}