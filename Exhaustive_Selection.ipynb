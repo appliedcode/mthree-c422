{
  "nbformat": 4,
  "nbformat_minor": 0,
  "metadata": {
    "colab": {
      "provenance": [],
      "authorship_tag": "ABX9TyOMlt6hyp0DOJrDrVH4Pfmk",
      "include_colab_link": true
    },
    "kernelspec": {
      "name": "python3",
      "display_name": "Python 3"
    },
    "language_info": {
      "name": "python"
    }
  },
  "cells": [
    {
      "cell_type": "markdown",
      "metadata": {
        "id": "view-in-github",
        "colab_type": "text"
      },
      "source": [
        "<a href=\"https://colab.research.google.com/github/appliedcode/mthree-c422/blob/mthree-c422-Likhitha/Exhaustive_Selection.ipynb\" target=\"_parent\"><img src=\"https://colab.research.google.com/assets/colab-badge.svg\" alt=\"Open In Colab\"/></a>"
      ]
    },
    {
      "cell_type": "code",
      "execution_count": 2,
      "metadata": {
        "id": "aJlsphCjouGF"
      },
      "outputs": [],
      "source": [
        "import pandas as pd\n",
        "from sklearn.datasets import load_breast_cancer, load_iris\n",
        "from sklearn.linear_model import LogisticRegression\n",
        "from mlxtend.feature_selection import ExhaustiveFeatureSelector\n",
        "from sklearn.model_selection import train_test_split, StratifiedKFold\n",
        "from sklearn.metrics import accuracy_score\n",
        "import warnings\n",
        "\n",
        "# Suppress warnings for cleaner output\n",
        "warnings.filterwarnings(\"ignore\")"
      ]
    },
    {
      "cell_type": "code",
      "source": [
        "def run_exhaustive_selector(X, y, model, min_k, max_k, scoring='accuracy', cv=5):\n",
        "    efs = ExhaustiveFeatureSelector(\n",
        "        model,\n",
        "        min_features=min_k,\n",
        "        max_features=max_k,\n",
        "        scoring=scoring,\n",
        "        cv=cv,\n",
        "        print_progress=True,\n",
        "        n_jobs=-1\n",
        "    )\n",
        "    efs.fit(X, y)\n",
        "    best_idx = list(efs.best_idx_)\n",
        "    best_score = efs.best_score_\n",
        "    best_features = X.columns[best_idx]\n",
        "    return best_features, best_score"
      ],
      "metadata": {
        "id": "Ld0bpqRKq6eT"
      },
      "execution_count": 3,
      "outputs": []
    },
    {
      "cell_type": "code",
      "source": [
        "def auto_feature_count_selection():\n",
        "    print(\"\\n--- Automated Feature Count Tuning (Breast Cancer Dataset) ---\")\n",
        "    X, y = load_breast_cancer(return_X_y=True, as_frame=True)\n",
        "    X_train, X_test, y_train, y_test = train_test_split(X, y, random_state=42, stratify=y)\n",
        "    model = LogisticRegression(max_iter=5000)\n",
        "\n",
        "    best_features, best_score = None, 0\n",
        "    best_k = 0\n",
        "    for k in range(1, 4):  # You can increase this range for more thorough search\n",
        "        print(f\"\\nEvaluating feature subsets of size {k}\")\n",
        "        feats, score = run_exhaustive_selector(X_train, y_train, model, k, k)\n",
        "        if score > best_score:\n",
        "            best_features, best_score, best_k = feats, score, k\n",
        "\n",
        "    print(f\"\\nBest Feature Count: {best_k}\")\n",
        "    print(f\"Best Features: {list(best_features)}\")\n",
        "\n",
        "    model.fit(X_train[best_features], y_train)\n",
        "    y_pred = model.predict(X_test[best_features])\n",
        "    acc = accuracy_score(y_test, y_pred)\n",
        "    print(f\"Test Accuracy: {acc:.4f}\")"
      ],
      "metadata": {
        "id": "8uqP7bHiq-uC"
      },
      "execution_count": 4,
      "outputs": []
    },
    {
      "cell_type": "code",
      "source": [
        "def stratified_cv_selection():\n",
        "    print(\"\\n--- Stratified K-Fold Integration (Breast Cancer Dataset) ---\")\n",
        "    X, y = load_breast_cancer(return_X_y=True, as_frame=True)\n",
        "    model = LogisticRegression(max_iter=5000)\n",
        "    kf = StratifiedKFold(n_splits=5, shuffle=True, random_state=42)\n",
        "\n",
        "    best_features, best_score = run_exhaustive_selector(X, y, model, 1, 2, cv=kf)\n",
        "    print(\"Selected Features (Stratified CV):\", list(best_features))\n",
        "    print(f\"Mean CV Accuracy: {best_score:.4f}\")"
      ],
      "metadata": {
        "id": "I7o1Qy-GrD1D"
      },
      "execution_count": 5,
      "outputs": []
    },
    {
      "cell_type": "code",
      "source": [
        "def custom_scoring_selection(scoring_metric='balanced_accuracy'):\n",
        "    print(f\"\\n--- Custom Scoring ({scoring_metric}) ---\")\n",
        "    X, y = load_breast_cancer(return_X_y=True, as_frame=True)\n",
        "    X_train, X_test, y_train, y_test = train_test_split(X, y, random_state=42, stratify=y)\n",
        "    model = LogisticRegression(max_iter=5000)\n",
        "\n",
        "    best_features, _ = run_exhaustive_selector(X_train, y_train, model, 1, 2, scoring=scoring_metric)\n",
        "    print(\"Selected Features:\", list(best_features))\n",
        "\n",
        "    model.fit(X_train[best_features], y_train)\n",
        "    y_pred = model.predict(X_test[best_features])\n",
        "    acc = accuracy_score(y_test, y_pred)\n",
        "    print(f\"Test Accuracy: {acc:.4f}\")\n"
      ],
      "metadata": {
        "id": "dVVvG3xIrHdO"
      },
      "execution_count": 6,
      "outputs": []
    },
    {
      "cell_type": "code",
      "source": [
        "def apply_to_iris():\n",
        "    print(\"\\n--- Applying Exhaustive Selection to Iris Dataset ---\")\n",
        "    X, y = load_iris(return_X_y=True, as_frame=True)\n",
        "    X_train, X_test, y_train, y_test = train_test_split(X, y, random_state=42, stratify=y)\n",
        "\n",
        "    # Use default multi-class handling (no need to override)\n",
        "    model = LogisticRegression(max_iter=5000)\n",
        "\n",
        "    best_features, _ = run_exhaustive_selector(X_train, y_train, model, 1, 2)\n",
        "    print(\"Selected Features (Iris):\", list(best_features))\n",
        "\n",
        "    model.fit(X_train[best_features], y_train)\n",
        "    y_pred = model.predict(X_test[best_features])\n",
        "    acc = accuracy_score(y_test, y_pred)\n",
        "    print(f\"Iris Test Accuracy: {acc:.4f}\")"
      ],
      "metadata": {
        "id": "0NymhUQjrQcE"
      },
      "execution_count": 7,
      "outputs": []
    },
    {
      "cell_type": "code",
      "source": [
        "if __name__ == \"__main__\":\n",
        "    auto_feature_count_selection()\n",
        "    stratified_cv_selection()\n",
        "    custom_scoring_selection(scoring_metric='f1_weighted')\n",
        "    custom_scoring_selection(scoring_metric='balanced_accuracy')\n",
        "    apply_to_iris()"
      ],
      "metadata": {
        "colab": {
          "base_uri": "https://localhost:8080/"
        },
        "id": "ZpCwBNMIrSD8",
        "outputId": "ffb8d8d2-03ed-4544-ac95-d1dd6abaada5"
      },
      "execution_count": 8,
      "outputs": [
        {
          "output_type": "stream",
          "name": "stdout",
          "text": [
            "\n",
            "--- Automated Feature Count Tuning (Breast Cancer Dataset) ---\n",
            "\n",
            "Evaluating feature subsets of size 1\n"
          ]
        },
        {
          "output_type": "stream",
          "name": "stderr",
          "text": [
            "Features: 30/30"
          ]
        },
        {
          "output_type": "stream",
          "name": "stdout",
          "text": [
            "\n",
            "Evaluating feature subsets of size 2\n"
          ]
        },
        {
          "output_type": "stream",
          "name": "stderr",
          "text": [
            "Features: 435/435"
          ]
        },
        {
          "output_type": "stream",
          "name": "stdout",
          "text": [
            "\n",
            "Evaluating feature subsets of size 3\n"
          ]
        },
        {
          "output_type": "stream",
          "name": "stderr",
          "text": [
            "Features: 4060/4060"
          ]
        },
        {
          "output_type": "stream",
          "name": "stdout",
          "text": [
            "\n",
            "Best Feature Count: 3\n",
            "Best Features: ['mean radius', 'worst texture', 'worst perimeter']\n",
            "Test Accuracy: 0.9580\n",
            "\n",
            "--- Stratified K-Fold Integration (Breast Cancer Dataset) ---\n"
          ]
        },
        {
          "output_type": "stream",
          "name": "stderr",
          "text": [
            "Features: 465/465"
          ]
        },
        {
          "output_type": "stream",
          "name": "stdout",
          "text": [
            "Selected Features (Stratified CV): ['worst texture', 'worst perimeter']\n",
            "Mean CV Accuracy: 0.9456\n",
            "\n",
            "--- Custom Scoring (f1_weighted) ---\n"
          ]
        },
        {
          "output_type": "stream",
          "name": "stderr",
          "text": [
            "Features: 465/465"
          ]
        },
        {
          "output_type": "stream",
          "name": "stdout",
          "text": [
            "Selected Features: ['worst texture', 'worst perimeter']\n",
            "Test Accuracy: 0.9580\n",
            "\n",
            "--- Custom Scoring (balanced_accuracy) ---\n"
          ]
        },
        {
          "output_type": "stream",
          "name": "stderr",
          "text": [
            "Features: 465/465"
          ]
        },
        {
          "output_type": "stream",
          "name": "stdout",
          "text": [
            "Selected Features: ['worst texture', 'worst perimeter']\n",
            "Test Accuracy: 0.9580\n",
            "\n",
            "--- Applying Exhaustive Selection to Iris Dataset ---\n"
          ]
        },
        {
          "output_type": "stream",
          "name": "stderr",
          "text": [
            "Features: 10/10"
          ]
        },
        {
          "output_type": "stream",
          "name": "stdout",
          "text": [
            "Selected Features (Iris): ['sepal length (cm)', 'petal length (cm)']\n",
            "Iris Test Accuracy: 0.9211\n"
          ]
        }
      ]
    }
  ]
}