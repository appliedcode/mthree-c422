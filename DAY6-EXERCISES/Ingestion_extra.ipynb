{
  "nbformat": 4,
  "nbformat_minor": 0,
  "metadata": {
    "colab": {
      "provenance": []
    },
    "kernelspec": {
      "name": "python3",
      "display_name": "Python 3"
    },
    "language_info": {
      "name": "python"
    }
  },
  "cells": [
    {
      "cell_type": "code",
      "execution_count": 1,
      "metadata": {
        "id": "8AV11_FHgiFv"
      },
      "outputs": [],
      "source": [
        "!pip install requests pandas -q"
      ]
    },
    {
      "cell_type": "markdown",
      "source": [
        "##### Ingest Data from REST APIs"
      ],
      "metadata": {
        "id": "3iIx05Z9gwZl"
      }
    },
    {
      "cell_type": "code",
      "source": [
        "\n",
        "import requests\n",
        "import pandas as pd\n",
        "\n",
        "# Fetch COVID-19 data\n",
        "covid_url = \"https://disease.sh/v3/covid-19/countries\"\n",
        "response_covid = requests.get(covid_url)\n",
        "data_covid = response_covid.json()\n",
        "\n",
        "# Convert to DataFrame\n",
        "df_covid = pd.json_normalize(data_covid)\n",
        "print(\"COVID-19 Data (first 5 rows):\")\n",
        "print(df_covid[['country', 'cases', 'deaths', 'recovered', 'active']].head())\n"
      ],
      "metadata": {
        "colab": {
          "base_uri": "https://localhost:8080/"
        },
        "id": "G1hBjtgFgrm5",
        "outputId": "c0164e06-132a-487e-9552-fe8bbd96e133"
      },
      "execution_count": 4,
      "outputs": [
        {
          "output_type": "stream",
          "name": "stdout",
          "text": [
            "COVID-19 Data (first 5 rows):\n",
            "       country   cases  deaths  recovered  active\n",
            "0  Afghanistan  234174    7996     211080   15098\n",
            "1      Albania  334863    3605     330233    1025\n",
            "2      Algeria  272010    6881     183061   82068\n",
            "3      Andorra   48015     165          0   47850\n",
            "4       Angola  107327    1937     103419    1971\n"
          ]
        }
      ]
    },
    {
      "cell_type": "code",
      "source": [
        "import requests\n",
        "import pandas as pd\n",
        "\n",
        "# API_KEY = \"77046260a677c0a74d857787018c7a14e8b897175028e295fd1cfa15ec19dad0\"\n",
        "# headers = {\n",
        "#     \"X-API-Key\": API_KEY\n",
        "# }\n",
        "\n",
        "# openaq_v3_url = \"https://api.openaq.org/v2/measurements?city=Los%20Angeles&limit=10\"\n",
        "# response_air = requests.get(openaq_v3_url, headers=headers)\n",
        "# data_air = response_air.json()\n",
        "\n",
        "# print(\"Received keys:\", data_air.keys())\n",
        "# print(\"Full response example:\", data_air)\n",
        "\n",
        "# # Safe extraction\n",
        "# if 'results' in data_air and isinstance(data_air['results'], list) and len(data_air['results']) > 0:\n",
        "#     df_air = pd.json_normalize(data_air['results'])\n",
        "#     display_columns = [\n",
        "#         'parameter', 'value', 'unit',\n",
        "#         'date.utc',\n",
        "#         'coordinates.latitude', 'coordinates.longitude'\n",
        "#     ]\n",
        "#     available_columns = [col for col in display_columns if col in df_air.columns]\n",
        "#     print(df_air[available_columns].head())\n",
        "# else:\n",
        "#     print(\"\\nNo results found or unexpected response format:\")\n",
        "#     print(data_air)\n",
        "url = \"https://api.openaq.org/v3/locations\"\n",
        "params = {\n",
        "    \"city\": \"Los Angeles\",\n",
        "    \"limit\": 10\n",
        "}\n",
        "headers = {\n",
        "    \"X-API-Key\": \"77046260a677c0a74d857787018c7a14e8b897175028e295fd1cfa15ec19dad0\"\n",
        "}\n",
        "\n",
        "response = requests.get(url, params=params, headers=headers)\n",
        "data = response.json()\n",
        "\n",
        "\n",
        "df_air = pd.json_normalize(data['results'])\n",
        "print(\"Data from REST API:\")\n",
        "print(df_air.head())\n",
        ""
      ],
      "metadata": {
        "colab": {
          "base_uri": "https://localhost:8080/"
        },
        "id": "b_IIydnegz4V",
        "outputId": "05136d02-8f6f-4219-a069-7887766cb8f1"
      },
      "execution_count": 29,
      "outputs": [
        {
          "output_type": "stream",
          "name": "stdout",
          "text": [
            "Data from REST API:\n",
            "   id                 name locality      timezone  isMobile  isMonitor  \\\n",
            "0   3           NMA - Nima     None  Africa/Accra     False       True   \n",
            "1   4           NMT - Nima     None  Africa/Accra     False       True   \n",
            "2   5      JTA - Jamestown     None  Africa/Accra     False       True   \n",
            "3   6    ADT - Asylum Down     None  Africa/Accra     False       True   \n",
            "4   7  ADEPA - Asylum Down     None  Africa/Accra     False       True   \n",
            "\n",
            "                                 instruments  \\\n",
            "0  [{'id': 2, 'name': 'Government Monitor'}]   \n",
            "1  [{'id': 2, 'name': 'Government Monitor'}]   \n",
            "2  [{'id': 2, 'name': 'Government Monitor'}]   \n",
            "3  [{'id': 2, 'name': 'Government Monitor'}]   \n",
            "4  [{'id': 2, 'name': 'Government Monitor'}]   \n",
            "\n",
            "                                             sensors licenses  \\\n",
            "0  [{'id': 6, 'name': 'pm10 µg/m³', 'parameter': ...     None   \n",
            "1  [{'id': 7, 'name': 'pm10 µg/m³', 'parameter': ...     None   \n",
            "2  [{'id': 10, 'name': 'pm10 µg/m³', 'parameter':...     None   \n",
            "3  [{'id': 11, 'name': 'pm10 µg/m³', 'parameter':...     None   \n",
            "4  [{'id': 14, 'name': 'pm10 µg/m³', 'parameter':...     None   \n",
            "\n",
            "                                           bounds  ... datetimeLast  \\\n",
            "0          [-0.19968, 5.58389, -0.19968, 5.58389]  ...         None   \n",
            "1          [-0.19898, 5.58165, -0.19898, 5.58165]  ...         None   \n",
            "2  [-0.2103972, 5.5401139, -0.2103972, 5.5401139]  ...         None   \n",
            "3    [-0.2120555, 5.570722, -0.2120555, 5.570722]  ...         None   \n",
            "4    [-0.2040278, 5.567833, -0.2040278, 5.567833]  ...         None   \n",
            "\n",
            "  country.id country.code  country.name owner.id  \\\n",
            "0        152           GH         Ghana        4   \n",
            "1        152           GH         Ghana        4   \n",
            "2        152           GH         Ghana        4   \n",
            "3        152           GH         Ghana        4   \n",
            "4        152           GH         Ghana        4   \n",
            "\n",
            "                          owner.name  provider.id  \\\n",
            "0  Unknown Governmental Organization          209   \n",
            "1  Unknown Governmental Organization          209   \n",
            "2  Unknown Governmental Organization          209   \n",
            "3  Unknown Governmental Organization          209   \n",
            "4  Unknown Governmental Organization          209   \n",
            "\n",
            "                        provider.name  coordinates.latitude  \\\n",
            "0  Dr. Raphael E. Arku and Colleagues              5.583890   \n",
            "1  Dr. Raphael E. Arku and Colleagues              5.581650   \n",
            "2  Dr. Raphael E. Arku and Colleagues              5.540114   \n",
            "3  Dr. Raphael E. Arku and Colleagues              5.570722   \n",
            "4  Dr. Raphael E. Arku and Colleagues              5.567833   \n",
            "\n",
            "  coordinates.longitude  \n",
            "0             -0.199680  \n",
            "1             -0.198980  \n",
            "2             -0.210397  \n",
            "3             -0.212056  \n",
            "4             -0.204028  \n",
            "\n",
            "[5 rows x 22 columns]\n"
          ]
        }
      ]
    },
    {
      "cell_type": "code",
      "source": [
        "# Load CSV file\n",
        "csv_url = \"https://raw.githubusercontent.com/uiuc-cse/data-fa14/gh-pages/data/iris.csv\"\n",
        "df_csv = pd.read_csv(csv_url)\n",
        "\n",
        "print(\"\\nIris CSV Data (first 5 rows):\")\n",
        "print(df_csv.head())\n"
      ],
      "metadata": {
        "colab": {
          "base_uri": "https://localhost:8080/"
        },
        "id": "r_iyx8akgtIy",
        "outputId": "c7ab816b-cb8f-43c3-ef29-6bd64546fa98"
      },
      "execution_count": 30,
      "outputs": [
        {
          "output_type": "stream",
          "name": "stdout",
          "text": [
            "\n",
            "Iris CSV Data (first 5 rows):\n",
            "   sepal_length  sepal_width  petal_length  petal_width species\n",
            "0           5.1          3.5           1.4          0.2  setosa\n",
            "1           4.9          3.0           1.4          0.2  setosa\n",
            "2           4.7          3.2           1.3          0.2  setosa\n",
            "3           4.6          3.1           1.5          0.2  setosa\n",
            "4           5.0          3.6           1.4          0.2  setosa\n"
          ]
        }
      ]
    },
    {
      "cell_type": "code",
      "source": [
        "# Basic inspection\n",
        "print(\"\\nCOVID Data Columns:\", df_covid.columns[:10])\n",
        "print(\"Air Quality Data Columns:\", df_air.columns[:10])\n",
        "print(\"CSV Data Columns:\", df_csv.columns)\n",
        "\n",
        "print(\"\\nCOVID Data Info:\")\n",
        "print(df_covid.info())\n",
        "\n",
        "print(\"\\nAir Quality Data Info:\")\n",
        "print(df_air.info())\n",
        "\n",
        "print(\"\\nCSV Data Info:\")\n",
        "print(df_csv.info())\n"
      ],
      "metadata": {
        "colab": {
          "base_uri": "https://localhost:8080/"
        },
        "id": "4_P5kEoitjA1",
        "outputId": "fe3295d2-b03b-4a33-81a4-d1282677a998"
      },
      "execution_count": 31,
      "outputs": [
        {
          "output_type": "stream",
          "name": "stdout",
          "text": [
            "\n",
            "COVID Data Columns: Index(['updated', 'country', 'cases', 'todayCases', 'deaths', 'todayDeaths',\n",
            "       'recovered', 'todayRecovered', 'active', 'critical'],\n",
            "      dtype='object')\n",
            "Air Quality Data Columns: Index(['id', 'name', 'locality', 'timezone', 'isMobile', 'isMonitor',\n",
            "       'instruments', 'sensors', 'licenses', 'bounds'],\n",
            "      dtype='object')\n",
            "CSV Data Columns: Index(['sepal_length', 'sepal_width', 'petal_length', 'petal_width',\n",
            "       'species'],\n",
            "      dtype='object')\n",
            "\n",
            "COVID Data Info:\n",
            "<class 'pandas.core.frame.DataFrame'>\n",
            "RangeIndex: 231 entries, 0 to 230\n",
            "Data columns (total 28 columns):\n",
            " #   Column                  Non-Null Count  Dtype  \n",
            "---  ------                  --------------  -----  \n",
            " 0   updated                 231 non-null    int64  \n",
            " 1   country                 231 non-null    object \n",
            " 2   cases                   231 non-null    int64  \n",
            " 3   todayCases              231 non-null    int64  \n",
            " 4   deaths                  231 non-null    int64  \n",
            " 5   todayDeaths             231 non-null    int64  \n",
            " 6   recovered               231 non-null    int64  \n",
            " 7   todayRecovered          231 non-null    int64  \n",
            " 8   active                  231 non-null    int64  \n",
            " 9   critical                231 non-null    int64  \n",
            " 10  casesPerOneMillion      231 non-null    int64  \n",
            " 11  deathsPerOneMillion     231 non-null    int64  \n",
            " 12  tests                   231 non-null    int64  \n",
            " 13  testsPerOneMillion      231 non-null    int64  \n",
            " 14  population              231 non-null    int64  \n",
            " 15  continent               231 non-null    object \n",
            " 16  oneCasePerPeople        231 non-null    int64  \n",
            " 17  oneDeathPerPeople       231 non-null    int64  \n",
            " 18  oneTestPerPeople        231 non-null    int64  \n",
            " 19  activePerOneMillion     231 non-null    float64\n",
            " 20  recoveredPerOneMillion  231 non-null    float64\n",
            " 21  criticalPerOneMillion   231 non-null    float64\n",
            " 22  countryInfo._id         229 non-null    float64\n",
            " 23  countryInfo.iso2        229 non-null    object \n",
            " 24  countryInfo.iso3        229 non-null    object \n",
            " 25  countryInfo.lat         231 non-null    float64\n",
            " 26  countryInfo.long        231 non-null    float64\n",
            " 27  countryInfo.flag        231 non-null    object \n",
            "dtypes: float64(6), int64(17), object(5)\n",
            "memory usage: 50.7+ KB\n",
            "None\n",
            "\n",
            "Air Quality Data Info:\n",
            "<class 'pandas.core.frame.DataFrame'>\n",
            "RangeIndex: 10 entries, 0 to 9\n",
            "Data columns (total 22 columns):\n",
            " #   Column                 Non-Null Count  Dtype  \n",
            "---  ------                 --------------  -----  \n",
            " 0   id                     10 non-null     int64  \n",
            " 1   name                   10 non-null     object \n",
            " 2   locality               0 non-null      object \n",
            " 3   timezone               10 non-null     object \n",
            " 4   isMobile               10 non-null     bool   \n",
            " 5   isMonitor              10 non-null     bool   \n",
            " 6   instruments            10 non-null     object \n",
            " 7   sensors                10 non-null     object \n",
            " 8   licenses               0 non-null      object \n",
            " 9   bounds                 10 non-null     object \n",
            " 10  distance               0 non-null      object \n",
            " 11  datetimeFirst          0 non-null      object \n",
            " 12  datetimeLast           0 non-null      object \n",
            " 13  country.id             10 non-null     int64  \n",
            " 14  country.code           10 non-null     object \n",
            " 15  country.name           10 non-null     object \n",
            " 16  owner.id               10 non-null     int64  \n",
            " 17  owner.name             10 non-null     object \n",
            " 18  provider.id            10 non-null     int64  \n",
            " 19  provider.name          10 non-null     object \n",
            " 20  coordinates.latitude   10 non-null     float64\n",
            " 21  coordinates.longitude  10 non-null     float64\n",
            "dtypes: bool(2), float64(2), int64(4), object(14)\n",
            "memory usage: 1.7+ KB\n",
            "None\n",
            "\n",
            "CSV Data Info:\n",
            "<class 'pandas.core.frame.DataFrame'>\n",
            "RangeIndex: 150 entries, 0 to 149\n",
            "Data columns (total 5 columns):\n",
            " #   Column        Non-Null Count  Dtype  \n",
            "---  ------        --------------  -----  \n",
            " 0   sepal_length  150 non-null    float64\n",
            " 1   sepal_width   150 non-null    float64\n",
            " 2   petal_length  150 non-null    float64\n",
            " 3   petal_width   150 non-null    float64\n",
            " 4   species       150 non-null    object \n",
            "dtypes: float64(4), object(1)\n",
            "memory usage: 6.0+ KB\n",
            "None\n"
          ]
        }
      ]
    }
  ]
}