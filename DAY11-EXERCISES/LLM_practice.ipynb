{
  "nbformat": 4,
  "nbformat_minor": 0,
  "metadata": {
    "colab": {
      "provenance": []
    },
    "kernelspec": {
      "name": "python3",
      "display_name": "Python 3"
    },
    "language_info": {
      "name": "python"
    }
  },
  "cells": [
    {
      "cell_type": "code",
      "execution_count": 1,
      "metadata": {
        "colab": {
          "base_uri": "https://localhost:8080/"
        },
        "id": "BIx4IX43N7Gd",
        "outputId": "7992f678-d3b1-44b0-ae66-1a2412e51ea6"
      },
      "outputs": [
        {
          "output_type": "stream",
          "name": "stdout",
          "text": [
            "✅ OpenAI API key loaded safely\n"
          ]
        }
      ],
      "source": [
        "from google.colab import userdata\n",
        "import os\n",
        "\n",
        "# Set your OpenAI API key securely in Colab Secrets (once)\n",
        "# userdata.set(\"OPENAI_API_KEY\", \"your-api-key-here\")\n",
        "\n",
        "# Retrieve key in your notebook\n",
        "openai_api_key = userdata.get(\"OPENAI_API_KEY\")\n",
        "if openai_api_key:\n",
        "    os.environ[\"OPENAI_API_KEY\"] = openai_api_key\n",
        "    print(\"✅ OpenAI API key loaded safely\")\n",
        "else:\n",
        "    print(\"❌ OpenAI API key not found. Please set it using Colab Secrets.\")"
      ]
    },
    {
      "cell_type": "code",
      "source": [
        "!pip install --quiet openai -q"
      ],
      "metadata": {
        "id": "nFZYZ2KoPEB2"
      },
      "execution_count": 2,
      "outputs": []
    },
    {
      "cell_type": "code",
      "source": [
        "# Create client\n",
        "from openai import OpenAI\n",
        "client = OpenAI(api_key=os.environ[\"OPENAI_API_KEY\"])"
      ],
      "metadata": {
        "id": "c70Q2mOwPGIH"
      },
      "execution_count": 3,
      "outputs": []
    },
    {
      "cell_type": "code",
      "source": [
        "# Exercise-1\n",
        "# Version A: Brief explanation (3 sentences)\n",
        "prompt_brief = \"Explain how photosynthesis works in exactly 3 sentences.\"\n",
        "\n",
        "response_brief = client.chat.completions.create(\n",
        "    model=\"gpt-4o-mini\",\n",
        "    messages=[{\"role\": \"user\", \"content\": prompt_brief}],\n",
        "    max_tokens=150\n",
        ")\n",
        "print(response_brief.choices[0].message.content)"
      ],
      "metadata": {
        "colab": {
          "base_uri": "https://localhost:8080/"
        },
        "id": "3QwUO51SPgO6",
        "outputId": "863163c0-5361-4064-9294-a2fb73cac567"
      },
      "execution_count": 6,
      "outputs": [
        {
          "output_type": "stream",
          "name": "stdout",
          "text": [
            "Photosynthesis is the process by which green plants, algae, and some bacteria convert light energy into chemical energy using sunlight, carbon dioxide, and water. During this process, chlorophyll captures light energy which drives the conversion of carbon dioxide and water into glucose and oxygen through a series of reactions, primarily taking place in the chloroplasts. The overall equation for photosynthesis can be summarized as: 6CO₂ + 6H₂O + light energy → C₆H₁₂O₆ + 6O₂.\n"
          ]
        }
      ]
    },
    {
      "cell_type": "code",
      "source": [
        "prompt_detailed = (\n",
        "    \"Explain how photosynthesis works in detail, using bullet points and including examples \"\n",
        "    \"from different types of plants.\"\n",
        ")\n",
        "\n",
        "response_detailed = client.chat.completions.create(\n",
        "    model=\"gpt-4o-mini\",\n",
        "    messages=[{\"role\": \"user\", \"content\": prompt_detailed}],\n",
        "    max_tokens=300\n",
        ")\n",
        "print(response_detailed.choices[0].message.content)"
      ],
      "metadata": {
        "colab": {
          "base_uri": "https://localhost:8080/"
        },
        "id": "Hft0SAuOQJyp",
        "outputId": "79a725e3-cd9d-456f-cb29-335cd8ef4bf3"
      },
      "execution_count": 7,
      "outputs": [
        {
          "output_type": "stream",
          "name": "stdout",
          "text": [
            "Certainly! Photosynthesis is the biological process through which green plants, algae, and some bacteria convert light energy into chemical energy, specifically glucose. Below is a detailed breakdown of how photosynthesis works, along with examples from different types of plants.\n",
            "\n",
            "### Overview of Photosynthesis\n",
            "- **Definition**: Photosynthesis is the process by which autotrophic organisms convert light energy into chemical energy stored in glucose.\n",
            "- **Chemical Equation**: The general equation for photosynthesis is:\n",
            "  \\[\n",
            "  6 \\, CO_2 + 6 \\, H_2O + \\text{light energy} \\rightarrow C_6H_{12}O_6 + 6 \\, O_2\n",
            "  \\]\n",
            "\n",
            "### Key Components of Photosynthesis\n",
            "- **Chloroplasts**: Organelles in plant cells where photosynthesis occurs. They contain chlorophyll, the green pigment that captures light energy.\n",
            "- **Chlorophyll**: The primary pigment involved in photosynthesis, located in the thylakoid membranes of chloroplasts. It absorbs red and blue light while reflecting green light.\n",
            "- **Light Energy**: Typically derived from sunlight, which is captured by chlorophyll during the light-dependent reactions.\n",
            "\n",
            "### Stages of Photosynthesis\n",
            "Photosynthesis occurs in two main stages: the Light-Dependent Reactions and the Light-Independent Reactions (Calvin Cycle).\n",
            "\n",
            "#### 1. Light-Dependent Reactions\n",
            "- **Location**: Thylakoid membranes of chloroplast\n"
          ]
        }
      ]
    },
    {
      "cell_type": "code",
      "source": [
        "# Exercise-2\n",
        "few_shot = \"\"\"\n",
        "English: Thank you for your help!\n",
        "French: Merci pour votre aide !\n",
        "\n",
        "English: I cannot attend the meeting.\n",
        "French: Je ne peux pas assister à la réunion.\n",
        "\n",
        "English: Please call me tomorrow.\n",
        "French:\n",
        "\"\"\"\n",
        "response = client.chat.completions.create(\n",
        "    model=\"gpt-4o-mini\",\n",
        "    messages=[{\"role\": \"user\", \"content\": few_shot}],\n",
        "    max_tokens=50\n",
        ")\n",
        "print(response.choices[0].message.content)"
      ],
      "metadata": {
        "colab": {
          "base_uri": "https://localhost:8080/"
        },
        "id": "Onj8e7srQOxr",
        "outputId": "b95945bd-9dbc-4274-ce04-eb639697f1bf"
      },
      "execution_count": 8,
      "outputs": [
        {
          "output_type": "stream",
          "name": "stdout",
          "text": [
            "French: S'il vous plaît, appelez-moi demain.\n"
          ]
        }
      ]
    },
    {
      "cell_type": "code",
      "source": [
        "# Step 1: Build the few-shot prompt with 2 examples\n",
        "few_shot_prompt = \"\"\"Translate English → French (politely declining an invitation).\n",
        "\n",
        "English: I'm sorry, but I won't be able to make it to dinner tonight.\n",
        "French: Je suis désolé, mais je ne pourrai pas venir dîner ce soir.\n",
        "\n",
        "English: Thank you for the invitation, but I already have other plans.\n",
        "French: Merci pour l'invitation, mais j'ai déjà d'autres projets.\n",
        "\n",
        "English: I appreciate the offer, but I need to focus on work this weekend.\n",
        "French:\"\"\"\n",
        "\n",
        "# Step 2: Send request\n",
        "response = client.chat.completions.create(\n",
        "    model=\"gpt-4o-mini\",\n",
        "    messages=[{\"role\": \"user\", \"content\": few_shot_prompt}],\n",
        "    max_tokens=50\n",
        ")\n",
        "\n",
        "# Step 3: Print the model's completion\n",
        "print(\"\\n=== Model's Translation ===\\n\")\n",
        "print(response.choices[0].message.content)"
      ],
      "metadata": {
        "colab": {
          "base_uri": "https://localhost:8080/"
        },
        "id": "Ey9-jJsQQwbW",
        "outputId": "f92ea185-53e1-4d90-e054-369e2ac69d3f"
      },
      "execution_count": 9,
      "outputs": [
        {
          "output_type": "stream",
          "name": "stdout",
          "text": [
            "\n",
            "=== Model's Translation ===\n",
            "\n",
            "J'apprécie l'offre, mais je dois me concentrer sur le travail ce week-end.\n"
          ]
        }
      ]
    },
    {
      "cell_type": "code",
      "source": [
        "#Exercise-3\n",
        "# Friendly travel guide persona\n",
        "prompt_friendly = \"You are a friendly travel guide for Tokyo. Recommend places to visit and foods to try, with a warm and welcoming tone.\"\n",
        "\n",
        "resp_friendly = client.chat.completions.create(\n",
        "    model=\"gpt-4o-mini\",\n",
        "    messages=[{\"role\": \"user\", \"content\": prompt_friendly}],\n",
        "    max_tokens=200\n",
        ")\n",
        "print(\"\\n=== Friendly Travel Guide ===\\n\")\n",
        "print(resp_friendly.choices[0].message.content)\n",
        "\n",
        "\n"
      ],
      "metadata": {
        "colab": {
          "base_uri": "https://localhost:8080/"
        },
        "id": "PKMJuaC6Qx_S",
        "outputId": "f0fbaddb-12b9-45a5-a0a4-57e84ff9fa6b"
      },
      "execution_count": 10,
      "outputs": [
        {
          "output_type": "stream",
          "name": "stdout",
          "text": [
            "\n",
            "=== Friendly Travel Guide ===\n",
            "\n",
            "Absolutely! Tokyo is a vibrant city bursting with culture, history, and delicious food! I’m thrilled to share some must-visit places and culinary delights that will make your trip unforgettable. Let’s dive right in!\n",
            "\n",
            "### Places to Visit:\n",
            "\n",
            "1. **Shibuya Crossing**: Start your adventure at this iconic intersection, known as one of the busiest pedestrian crossings in the world. It’s a quintessential Tokyo experience, and you can enjoy the hustle and bustle from the nearby Starbucks!\n",
            "\n",
            "2. **Senso-ji Temple**: Located in Asakusa, this ancient Buddhist temple is the oldest in Tokyo, dating back to 628 AD. Stroll through the vibrant Nakamise Street leading up to the temple, where you’ll find traditional snacks and souvenirs.\n",
            "\n",
            "3. **Meiji Shrine**: Nestled within a beautiful forested area, this serene shrine is dedicated to Emperor Meiji and Empress Shoken. It’s the perfect place to experience traditional Shinto rituals and take a peaceful\n"
          ]
        }
      ]
    },
    {
      "cell_type": "code",
      "source": [
        "# Strict tour manager persona\n",
        "prompt_strict = \"You are a strict tour manager for Tokyo. Recommend places to visit and foods to try, with precise timing and schedules, no extra chatter.\"\n",
        "\n",
        "resp_strict = client.chat.completions.create(\n",
        "    model=\"gpt-4o-mini\",\n",
        "    messages=[{\"role\": \"user\", \"content\": prompt_strict}],\n",
        "    max_tokens=200\n",
        ")\n",
        "print(\"\\n=== Strict Tour Manager ===\\n\")\n",
        "print(resp_strict.choices[0].message.content)"
      ],
      "metadata": {
        "colab": {
          "base_uri": "https://localhost:8080/"
        },
        "id": "2fCnXSXBRUja",
        "outputId": "f75df63b-66a2-4172-f4d0-cd2b8188294f"
      },
      "execution_count": 11,
      "outputs": [
        {
          "output_type": "stream",
          "name": "stdout",
          "text": [
            "\n",
            "=== Strict Tour Manager ===\n",
            "\n",
            "**Tokyo One-Day Itinerary**\n",
            "\n",
            "**8:00 AM - Breakfast at Tsukiji Outer Market**  \n",
            "- **Recommendation:** Fresh sushi or tamagoyaki (Japanese omelet).  \n",
            "- **Duration:** 1 hour.\n",
            "\n",
            "**9:00 AM - Visit Senso-ji Temple, Asakusa**  \n",
            "- **Duration:** 1 hour  \n",
            "- **Key Points:** Nakamise Street Shopping for souvenirs.\n",
            "\n",
            "**10:00 AM - Explore Ueno Park**  \n",
            "- **Duration:** 1 hour  \n",
            "- **Key Points:** Visit one museum (choose between Tokyo National Museum or Ueno Zoo).\n",
            "\n",
            "**11:00 AM - Head to Akihabara**  \n",
            "- **Duration:** 1 hour  \n",
            "- **Key Points:** Electronics stores and anime culture.\n",
            "\n",
            "**12:00 PM - Lunch at Akihabara**  \n",
            "- **Recommendation:** Maid café or anime-themed restaurant.  \n",
            "- **Duration:** 1 hour.\n",
            "\n",
            "**1:00 PM - Travel to Shibuya\n"
          ]
        }
      ]
    },
    {
      "cell_type": "code",
      "source": [
        "# Exercise-4\n",
        "prompt = (\n",
        "    \"Share a recipe for improving daily productivity. Then provide two alternative approaches, each with its advantages and disadvantages.\"\n",
        ")\n",
        "response = client.chat.completions.create(\n",
        "    model=\"gpt-4o-mini\",\n",
        "    messages=[{\"role\": \"user\", \"content\": prompt}],\n",
        "    max_tokens=200\n",
        ")\n",
        "print(response.choices[0].message.content)"
      ],
      "metadata": {
        "colab": {
          "base_uri": "https://localhost:8080/"
        },
        "id": "za52l_lERmSk",
        "outputId": "8690f4b5-3a43-4f83-db7a-ae3576ecc822"
      },
      "execution_count": 12,
      "outputs": [
        {
          "output_type": "stream",
          "name": "stdout",
          "text": [
            "**Recipe for Improving Daily Productivity**\n",
            "\n",
            "**Ingredients:**\n",
            "1. Clear Goals\n",
            "2. Time Block Schedule\n",
            "3. Priority List\n",
            "4. Regular Breaks\n",
            "5. Environment Optimization\n",
            "6. Accountability Partner\n",
            "7. Reflection Time\n",
            "\n",
            "**Instructions:**\n",
            "\n",
            "1. **Define Clear Goals**: Start each day or week by setting clear, achievable goals. Break larger projects into smaller tasks to make them manageable.\n",
            "\n",
            "2. **Create a Time Block Schedule**: Allocate specific blocks of time for different tasks throughout your day. This helps maintain focus and structure.\n",
            "\n",
            "3. **Develop a Priority List**: At the beginning of each day, rank tasks by priority. Focus on the most critical tasks that align with your goals.\n",
            "\n",
            "4. **Incorporate Regular Breaks**: Work in intervals (like the Pomodoro Technique, where you work for 25 minutes and take a 5-minute break). This prevents burnout and maintains high energy levels.\n",
            "\n",
            "5. **Optimize Your Environment**: Create a\n"
          ]
        }
      ]
    },
    {
      "cell_type": "code",
      "source": [
        "# Exercise-5\n",
        "prompt = (\n",
        "    \"You are an interviewer. Ask me three questions to understand my favorite hobbies. Then, based on my answers, create a personalized weekend plan and summarize my hobbies first.\"\n",
        ")\n",
        "response = client.chat.completions.create(\n",
        "    model=\"gpt-4o-mini\",\n",
        "    messages=[{\"role\": \"user\", \"content\": prompt}],\n",
        "    max_tokens=220\n",
        ")\n",
        "print(response.choices[0].message.content)"
      ],
      "metadata": {
        "colab": {
          "base_uri": "https://localhost:8080/"
        },
        "id": "Rvvb5EYrRt-B",
        "outputId": "092712f2-1ca8-4e71-fff7-7f6829b57c30"
      },
      "execution_count": 13,
      "outputs": [
        {
          "output_type": "stream",
          "name": "stdout",
          "text": [
            "Great! Let's get started. Here are my three questions:\n",
            "\n",
            "1. What are some hobbies or activities that you enjoy doing in your free time? \n",
            "2. Are there any specific hobbies you are passionate about or would like to explore further?\n",
            "3. How do you usually prefer to spend your weekends? Do you like to relax, be active, or socialize?\n",
            "\n",
            "Once I have your answers, I can summarize your hobbies and create a personalized weekend plan!\n"
          ]
        }
      ]
    },
    {
      "cell_type": "code",
      "source": [
        "# Exercise-6\n",
        "# Base menu pattern\n",
        "menu_prompt_1 = \"\"\"### MENU\n",
        "ACTION = Translate, Summarize, Explain\n",
        "FORMAT = Plain, Bullets, Numbered\n",
        "LANGUAGE = English, French, Spanish\n",
        "\n",
        "Command: ACTION=Translate; FORMAT=Numbered; LANGUAGE=Spanish; TEXT=\"Machine learning improves over time.\"\n",
        "###\"\"\"\n",
        "\n",
        "resp1 = client.chat.completions.create(\n",
        "    model=\"gpt-4o-mini\",\n",
        "    messages=[{\"role\": \"user\", \"content\": menu_prompt_1}],\n",
        "    max_tokens=150\n",
        ")\n",
        "print(\"\\n=== Command 1 Output ===\\n\")\n",
        "print(resp1.choices[0].message.content)\n",
        "\n",
        "# Change to: translate into French\n",
        "menu_prompt_2 = \"\"\"### MENU\n",
        "ACTION = Translate, Summarize, Explain\n",
        "FORMAT = Plain, Bullets, Numbered\n",
        "LANGUAGE = English, French, Spanish\n",
        "\n",
        "Command: ACTION=Translate; FORMAT=Numbered; LANGUAGE=French; TEXT=\"Machine learning improves over time.\"\n",
        "###\"\"\"\n",
        "\n",
        "resp2 = client.chat.completions.create(\n",
        "    model=\"gpt-4o-mini\",\n",
        "    messages=[{\"role\": \"user\", \"content\": menu_prompt_2}],\n",
        "    max_tokens=150\n",
        ")\n",
        "print(\"\\n=== Command 2 Output ===\\n\")\n",
        "print(resp2.choices[0].message.content)\n",
        "\n",
        "# Summarize in bullets\n",
        "menu_prompt_3 = \"\"\"### MENU\n",
        "ACTION = Translate, Summarize, Explain\n",
        "FORMAT = Plain, Bullets, Numbered\n",
        "LANGUAGE = English, French, Spanish\n",
        "\n",
        "Command: ACTION=Summarize; FORMAT=Bullets; LANGUAGE=English; TEXT=\"Machine learning is a field of AI that allows systems to learn and improve from experience without being explicitly programmed.\"\n",
        "###\"\"\"\n",
        "\n",
        "resp3 = client.chat.completions.create(\n",
        "    model=\"gpt-4o-mini\",\n",
        "    messages=[{\"role\": \"user\", \"content\": menu_prompt_3}],\n",
        "    max_tokens=150\n",
        ")\n",
        "print(\"\\n=== Command 3 Output ===\\n\")\n",
        "print(resp3.choices[0].message.content)\n",
        "\n",
        "# Explain in plain English, with STYLE option\n",
        "menu_prompt_4 = \"\"\"### MENU\n",
        "ACTION = Translate, Summarize, Explain\n",
        "FORMAT = Plain, Bullets, Numbered\n",
        "LANGUAGE = English, French, Spanish\n",
        "STYLE = Formal, Casual\n",
        "\n",
        "Command: ACTION=Explain; FORMAT=Plain; LANGUAGE=English; STYLE=Casual; TEXT=\"Machine learning improves over time.\"\n",
        "###\"\"\"\n",
        "\n",
        "resp4 = client.chat.completions.create(\n",
        "    model=\"gpt-4o-mini\",\n",
        "    messages=[{\"role\": \"user\", \"content\": menu_prompt_4}],\n",
        "    max_tokens=150\n",
        ")\n",
        "print(\"\\n=== Command 4 Output (with STYLE) ===\\n\")\n",
        "print(resp4.choices[0].message.content)\n"
      ],
      "metadata": {
        "colab": {
          "base_uri": "https://localhost:8080/"
        },
        "id": "Colif0ZKRxhg",
        "outputId": "afd065b2-3d01-4d9c-ba05-9115cc5c6477"
      },
      "execution_count": 14,
      "outputs": [
        {
          "output_type": "stream",
          "name": "stdout",
          "text": [
            "\n",
            "=== Command 1 Output ===\n",
            "\n",
            "1. El aprendizaje automático mejora con el tiempo.\n",
            "\n",
            "=== Command 2 Output ===\n",
            "\n",
            "1. L'apprentissage automatique s'améliore avec le temps.\n",
            "\n",
            "=== Command 3 Output ===\n",
            "\n",
            "- Machine learning is a branch of artificial intelligence (AI).\n",
            "- It enables systems to learn from experiences.\n",
            "- Systems can improve over time without explicit programming.\n",
            "\n",
            "\n",
            "=== Command 4 Output (with STYLE) ===\n",
            "\n",
            "Machine learning improves over time because it allows systems to learn from data and experience. Here’s how it works in a casual way:\n",
            "\n",
            "1. **Learning from Data**: Machine learning algorithms analyze large amounts of data to identify patterns and relationships. The more data they get, the better they can understand and make predictions.\n",
            "\n",
            "2. **Continuous Updates**: As new data comes in, these algorithms can be updated. This means they can refine their models and improve their accuracy over time.\n",
            "\n",
            "3. **Feedback Loop**: Many machine learning systems use feedback to enhance their performance. If their predictions are incorrect, they can learn from those mistakes and adjust their approach.\n",
            "\n",
            "4. **Adaptability**: Machine learning systems are adaptable. They don’t just stick to\n"
          ]
        }
      ]
    },
    {
      "cell_type": "code",
      "source": [
        "# exercise7\n",
        "# tweet\n",
        "prompt_tweet = \"Describe 'Artificial Intelligence' as a tweet, maximum 280 characters.\"\n",
        "\n",
        "resp_tweet = client.chat.completions.create(\n",
        "    model=\"gpt-4o-mini\",\n",
        "    messages=[{\"role\": \"user\", \"content\": prompt_tweet}],\n",
        "    max_tokens=80\n",
        ")\n",
        "print(\"\\n=== AI as a Tweet ===\\n\")\n",
        "print(resp_tweet.choices[0].message.content)\n"
      ],
      "metadata": {
        "colab": {
          "base_uri": "https://localhost:8080/"
        },
        "id": "sXHhOBfdSUrM",
        "outputId": "04c8ef15-2809-4d2e-f5d3-984f88366fbb"
      },
      "execution_count": 16,
      "outputs": [
        {
          "output_type": "stream",
          "name": "stdout",
          "text": [
            "\n",
            "=== AI as a Tweet ===\n",
            "\n",
            "🤖✨ Artificial Intelligence is the simulation of human intelligence processes by machines, especially computer systems. It includes learning, reasoning, and self-correction. From chatbots to autonomous vehicles, AI is revolutionizing how we interact with technology! #AI #Innovation\n"
          ]
        }
      ]
    },
    {
      "cell_type": "code",
      "source": [
        "prompt_abstract = \"Describe 'Artificial Intelligence' as a formal academic abstract, approximately 150 words.\"\n",
        "\n",
        "resp_abstract = client.chat.completions.create(\n",
        "    model=\"gpt-4o-mini\",\n",
        "    messages=[{\"role\": \"user\", \"content\": prompt_abstract}],\n",
        "    max_tokens=250\n",
        ")\n",
        "print(\"\\n=== AI as an Academic Abstract ===\\n\")\n",
        "print(resp_abstract.choices[0].message.content)\n"
      ],
      "metadata": {
        "colab": {
          "base_uri": "https://localhost:8080/"
        },
        "id": "e4zpar58SWhX",
        "outputId": "42daafbe-3426-4800-c75d-adb1063e166a"
      },
      "execution_count": 17,
      "outputs": [
        {
          "output_type": "stream",
          "name": "stdout",
          "text": [
            "\n",
            "=== AI as an Academic Abstract ===\n",
            "\n",
            "Artificial Intelligence (AI) refers to the branch of computer science focused on creating systems capable of performing tasks that traditionally require human intelligence. These tasks encompass a variety of functions, including reasoning, learning, problem-solving, perception, language understanding, and decision-making. AI is categorized into two primary types: narrow AI, which is designed for specific tasks, and general AI, which seeks to replicate human-like cognitive abilities across diverse domains. The development of AI involves multiple interdisciplinary fields, including machine learning, neural networks, natural language processing, and robotics. Current advancements in these areas have led to significant breakthroughs, enabling AI applications in healthcare, finance, transportation, and autonomous systems. However, the rapid evolution of AI technology raises ethical concerns regarding data privacy, job displacement, and algorithmic bias. As AI continues to advance, ongoing discourse surrounding its societal implications and the establishment of regulatory frameworks is crucial to harness its potential while mitigating risks.\n"
          ]
        }
      ]
    },
    {
      "cell_type": "code",
      "source": [
        "prompt_children = \"Describe 'Artificial Intelligence' as a short children’s story using simple language.\"\n",
        "\n",
        "resp_children = client.chat.completions.create(\n",
        "    model=\"gpt-4o-mini\",\n",
        "    messages=[{\"role\": \"user\", \"content\": prompt_children}],\n",
        "    max_tokens=200\n",
        ")\n",
        "print(\"\\n=== AI as a Children's Story ===\\n\")\n",
        "print(resp_children.choices[0].message.content)\n"
      ],
      "metadata": {
        "colab": {
          "base_uri": "https://localhost:8080/"
        },
        "id": "gTI_jl0FSrfh",
        "outputId": "33ad865b-59f0-40d9-8b76-09f25c262f95"
      },
      "execution_count": 18,
      "outputs": [
        {
          "output_type": "stream",
          "name": "stdout",
          "text": [
            "\n",
            "=== AI as a Children's Story ===\n",
            "\n",
            "**Title: Benny the Helpful Robot**\n",
            "\n",
            "Once upon a time, in a bright and cheerful town, there lived a little robot named Benny. Benny was not just any robot; he was a special robot made to help everyone around him.\n",
            "\n",
            "Every day, Benny would wake up with a big smile and say, \"How can I help today?\" He loved helping the townsfolk with all sorts of tasks.\n",
            "\n",
            "One sunny morning, Benny saw Mrs. Green, the town's best baker. She was trying to carry a heavy box of flour, but it was too much for her! Benny zoomed over and said, \"Let me help you, Mrs. Green!\" He carefully picked up the box and carried it inside her bakery.\n",
            "\n",
            "\"Thank you, Benny!\" Mrs. Green replied with a grin. \"You’re so strong and helpful!\"\n",
            "\n",
            "Later that day, Benny noticed Timmy, a little boy, sitting on the ground looking sad. \"What’s wrong, Timmy?\" he asked. Timmy\n"
          ]
        }
      ]
    },
    {
      "cell_type": "code",
      "source": [
        "#Exercise-8\n",
        "\n",
        "prompt_turn1 = \"\"\"You are a customer support agent for a printer company.\n",
        "Always greet politely, then ask 2–3 clarifying questions before offering any solutions.\n",
        "Confirm my answers before moving to the next step.\"\"\"\n",
        "\n",
        "resp_turn1 = client.chat.completions.create(\n",
        "    model=\"gpt-4o-mini\",\n",
        "    messages=[\n",
        "        {\"role\": \"system\", \"content\": \"You are a helpful, polite printer support agent.\"},\n",
        "        {\"role\": \"user\", \"content\": prompt_turn1}\n",
        "    ],\n",
        "    max_tokens=200\n",
        ")\n",
        "print(\"\\n=== Turn 1 ===\\n\")\n",
        "print(resp_turn1.choices[0].message.content)\n"
      ],
      "metadata": {
        "colab": {
          "base_uri": "https://localhost:8080/"
        },
        "id": "P0yXaob6S2Ph",
        "outputId": "1666d93a-e6a2-4399-a6cb-2591859cacc8"
      },
      "execution_count": 19,
      "outputs": [
        {
          "output_type": "stream",
          "name": "stdout",
          "text": [
            "\n",
            "=== Turn 1 ===\n",
            "\n",
            "Hello! Thank you for reaching out to us today. How can I assist you with your printer issues? \n",
            "\n",
            "To better understand your situation, could you please tell me the make and model of your printer? Also, are you experiencing any specific errors or problems that you'd like help with? Lastly, what type of device are you trying to print from? \n",
            "\n",
            "Once I have this information, I'll be able to assist you more effectively!\n"
          ]
        }
      ]
    },
    {
      "cell_type": "code",
      "source": [
        "prompt_turn2 = \"The printer is not printing, and yes, it is connected to Wi-Fi.\"\n",
        "\n",
        "resp_turn2 = client.chat.completions.create(\n",
        "    model=\"gpt-4o-mini\",\n",
        "    messages=[\n",
        "        {\"role\": \"system\", \"content\": \"You are a helpful, polite printer support agent.\"},\n",
        "        {\"role\": \"assistant\", \"content\": resp_turn1.choices[0].message.content},\n",
        "        {\"role\": \"user\", \"content\": prompt_turn2}\n",
        "    ],\n",
        "    max_tokens=200\n",
        ")\n",
        "print(\"\\n=== Turn 2 ===\\n\")\n",
        "print(resp_turn2.choices[0].message.content)\n"
      ],
      "metadata": {
        "colab": {
          "base_uri": "https://localhost:8080/"
        },
        "id": "E2aPYHmPS3-u",
        "outputId": "f2405635-4471-408b-fc0c-11590528a284"
      },
      "execution_count": 20,
      "outputs": [
        {
          "output_type": "stream",
          "name": "stdout",
          "text": [
            "\n",
            "=== Turn 2 ===\n",
            "\n",
            "I'm here to help! Let's troubleshoot the issue step by step. \n",
            "\n",
            "1. **Check Printer Status**: \n",
            "   - Make sure the printer is turned on and that there are no warning lights or error messages on the printer's display.\n",
            "\n",
            "2. **Check the Connection**:\n",
            "   - Since your printer is connected to Wi-Fi, ensure that it is connected to the same network as your computer or device. You can usually check the network settings from the printer's control panel.\n",
            "\n",
            "3. **Printer Queue**:\n",
            "   - On your computer, go to the 'Devices and Printers' (or 'Printers & Scanners') settings. Check if there are any pending print jobs in the printer queue. If there are, try clearing it and send the print job again.\n",
            "\n",
            "4. **Reconnect**:\n",
            "   - Sometimes, disconnecting and reconnecting the printer to Wi-Fi can help. Go into the printer's network settings and reconnect it to your Wi-Fi network.\n",
            "\n",
            "5. **Update Drivers\n"
          ]
        }
      ]
    },
    {
      "cell_type": "code",
      "source": [
        "prompt_turn3 = \"Yes, I tried turning it off and on again.\"\n",
        "\n",
        "resp_turn3 = client.chat.completions.create(\n",
        "    model=\"gpt-4o-mini\",\n",
        "    messages=[\n",
        "        {\"role\": \"system\", \"content\": \"You are a helpful, polite printer support agent.\"},\n",
        "        {\"role\": \"assistant\", \"content\": resp_turn1.choices[0].message.content},\n",
        "        {\"role\": \"user\", \"content\": prompt_turn2},\n",
        "        {\"role\": \"assistant\", \"content\": resp_turn2.choices[0].message.content},\n",
        "        {\"role\": \"user\", \"content\": prompt_turn3}\n",
        "    ],\n",
        "    max_tokens=200\n",
        ")\n",
        "print(\"\\n=== Turn 3 ===\\n\")\n",
        "print(resp_turn3.choices[0].message.content)\n"
      ],
      "metadata": {
        "colab": {
          "base_uri": "https://localhost:8080/"
        },
        "id": "US9f7iA4S8d4",
        "outputId": "e4c4ef45-878d-4269-c899-108d80944d1b"
      },
      "execution_count": 21,
      "outputs": [
        {
          "output_type": "stream",
          "name": "stdout",
          "text": [
            "\n",
            "=== Turn 3 ===\n",
            "\n",
            "Turning the printer off and on is a great first step! Let’s continue troubleshooting:\n",
            "\n",
            "1. **Check Printer Connectivity**: \n",
            "   - Ensure the printer is still connected to the Wi-Fi network. Sometimes a power cycle can disconnect the printer. You may need to access the printer's menu to confirm it's still connected to your network.\n",
            "\n",
            "2. **Print a Network Configuration Page**: \n",
            "   - Many printers allow you to print a network configuration page that shows the current network settings and status. This can help confirm if your printer is connected to the right Wi-Fi network.\n",
            "\n",
            "3. **Check for Software Updates**: \n",
            "   - Make sure the printer's firmware is up to date. You can usually find this in the printer's settings under 'Maintenance' or 'Settings'. \n",
            "\n",
            "4. **Try Printing a Test Page**: \n",
            "   - From your computer, try printing a test page directly from the printer settings found in 'Devices and Printers'. If the printer can print a test page\n"
          ]
        }
      ]
    }
  ]
}