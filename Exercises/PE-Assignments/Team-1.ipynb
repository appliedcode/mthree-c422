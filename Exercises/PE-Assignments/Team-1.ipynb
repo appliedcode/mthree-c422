{
  "cells": [
    {
      "cell_type": "markdown",
      "metadata": {
        "id": "view-in-github",
        "colab_type": "text"
      },
      "source": [
        "<a href=\"https://colab.research.google.com/github/appliedcode/mthree-c422/blob/mthree-c422-dipti/Exercises/PE-Assignments/Team-1.ipynb\" target=\"_parent\"><img src=\"https://colab.research.google.com/assets/colab-badge.svg\" alt=\"Open In Colab\"/></a>"
      ]
    },
    {
      "cell_type": "code",
      "execution_count": null,
      "metadata": {
        "colab": {
          "base_uri": "https://localhost:8080/"
        },
        "id": "DaoUjWBySK2y",
        "outputId": "79321ded-5a94-476f-81ba-920fa23909ef"
      },
      "outputs": [
        {
          "output_type": "stream",
          "name": "stdout",
          "text": [
            "✅ OpenAI API key loaded safely\n"
          ]
        }
      ],
      "source": [
        "from google.colab import userdata\n",
        "import os\n",
        "\n",
        "# Set your OpenAI API key securely in Colab Secrets (once)\n",
        "# userdata.set(\"OPENAI_API_KEY\", \"your-api-key-here\")\n",
        "\n",
        "# Retrieve key in your notebook\n",
        "openai_api_key = userdata.get(\"OPENAI_API_KEY\")\n",
        "if openai_api_key:\n",
        "    os.environ[\"OpenAI\"] = openai_api_key\n",
        "    print(\"✅ OpenAI API key loaded safely\")\n",
        "else:\n",
        "    print(\"❌ OpenAI API key not found. Please set it using Colab Secrets.\")"
      ]
    },
    {
      "cell_type": "code",
      "execution_count": null,
      "metadata": {
        "id": "rK8BjXpWXKkn"
      },
      "outputs": [],
      "source": [
        "!pip install --quiet openai -q\n",
        "# Create client\n",
        "from openai import OpenAI\n",
        "client = OpenAI(api_key=os.environ[\"OpenAI\"])"
      ]
    },
    {
      "cell_type": "code",
      "execution_count": null,
      "metadata": {
        "id": "noINNSHBXQXX"
      },
      "outputs": [],
      "source": [
        "# Helper Function to Send Prompts\n",
        "def generate_response(prompt, model=\"gpt-4o-mini\", temperature=0.7):\n",
        "    \"\"\"\n",
        "    Send a prompt to the OpenAI model and return the response text.\n",
        "    \"\"\"\n",
        "    try:\n",
        "        completion = client.chat.completions.create(\n",
        "            model=model,\n",
        "            messages=[{\"role\": \"user\", \"content\": prompt}],\n",
        "            temperature=temperature\n",
        "        )\n",
        "        return completion.choices[0].message.content.strip()\n",
        "    except Exception as e:\n",
        "        return f\"Error: {e}\""
      ]
    },
    {
      "cell_type": "markdown",
      "metadata": {
        "id": "iFqUsb8pXgpN"
      },
      "source": [
        "Healthcare & Medical Research Dataset:\n",
        "\n",
        "1. Cancer Research: Focuses on understanding cancer biology, developing treatments, and improving early diagnosis. Advances include immunotherapy and targeted therapies. Challenges involve drug resistance and side-effects.\n",
        "\n",
        "2. Cardiovascular Disease: Study of heart-related illnesses including prevention, diagnosis, and treatment. Key factors include hypertension, cholesterol, and lifestyle. Challenges are late detection and chronic management.\n",
        "\n",
        "3. Infectious Diseases: Research on pathogens like bacteria, viruses, and fungi. Development of vaccines, antibiotics, and antiviral drugs. Challenges include drug resistance and emerging diseases.\n",
        "\n",
        "4. Mental Health: Covers psychological disorders, therapy methods, and social impact. Emphasis on early intervention and reducing stigma. Challenges are access to care and individualized treatment.\n",
        "\n",
        "5. Public Health: Focus on population health, epidemiology, and health policy. Aims to improve health outcomes through education and preventive measures. Challenges include health disparities and resource allocation."
      ]
    },
    {
      "cell_type": "code",
      "execution_count": null,
      "metadata": {
        "id": "maefVacuZznH"
      },
      "outputs": [],
      "source": [
        "HEALTHCARE_DATASET = \"\"\"Healthcare & Medical Research Dataset:\n",
        "\n",
        "1. Cancer Research: Focuses on understanding cancer biology, developing treatments, and improving early diagnosis. Advances include immunotherapy and targeted therapies. Challenges involve drug resistance and side-effects.\n",
        "\n",
        "2. Cardiovascular Disease: Study of heart-related illnesses including prevention, diagnosis, and treatment. Key factors include hypertension, cholesterol, and lifestyle. Challenges are late detection and chronic management.\n",
        "\n",
        "3. Infectious Diseases: Research on pathogens like bacteria, viruses, and fungi. Development of vaccines, antibiotics, and antiviral drugs. Challenges include drug resistance and emerging diseases.\n",
        "\n",
        "4. Mental Health: Covers psychological disorders, therapy methods, and social impact. Emphasis on early intervention and reducing stigma. Challenges are access to care and individualized treatment.\n",
        "\n",
        "5. Public Health: Focus on population health, epidemiology, and health policy. Aims to improve health outcomes through education and preventive measures. Challenges include health disparities and resource allocation.\"\"\""
      ]
    },
    {
      "cell_type": "code",
      "execution_count": null,
      "metadata": {
        "colab": {
          "base_uri": "https://localhost:8080/"
        },
        "id": "dU1rmEWjZ3Hn",
        "outputId": "a003219c-9867-4800-f433-381d3862421b"
      },
      "outputs": [
        {
          "name": "stdout",
          "output_type": "stream",
          "text": [
            "Direct concept:\n",
            "Error: Error code: 429 - {'error': {'message': 'You exceeded your current quota, please check your plan and billing details. For more information on this error, read the docs: https://platform.openai.com/docs/guides/error-codes/api-errors.', 'type': 'insufficient_quota', 'param': None, 'code': 'insufficient_quota'}}\n"
          ]
        }
      ],
      "source": [
        "direct=\"\"\"Explain the following healthcare topic clearly and concisely for an educated layperson.\n",
        "    Use plain language, define technical terms, and include one practical takeaway.\\n\n",
        "\"\"\"\n",
        "print(\"Direct concept:\")\n",
        "print(generate_response(direct + \" using the dataset: \" + HEALTHCARE_DATASET))"
      ]
    },
    {
      "cell_type": "code",
      "execution_count": null,
      "metadata": {
        "colab": {
          "base_uri": "https://localhost:8080/"
        },
        "id": "uW5eTFblcRdk",
        "outputId": "2acc3f34-4dc2-4769-9574-ff5957c230f8"
      },
      "outputs": [
        {
          "name": "stdout",
          "output_type": "stream",
          "text": [
            "Few-shot concept:\n",
            "Error: Error code: 429 - {'error': {'message': 'You exceeded your current quota, please check your plan and billing details. For more information on this error, read the docs: https://platform.openai.com/docs/guides/error-codes/api-errors.', 'type': 'insufficient_quota', 'param': None, 'code': 'insufficient_quota'}}\n"
          ]
        }
      ],
      "source": [
        "few_shot=\"\"\"You are a medical educator. Below are examples of how to explain topics simply.\n",
        "    Example 1:\\nQ: What is hypertension?\\nA: Hypertension means high blood pressure — when the force of blood pushing on artery walls is too high.\n",
        "    It raises risk for heart disease; lifestyle changes and medication can help.\\n\\\n",
        "    Now explain the following:\\nQ: {topic}\\nDATA: {data}\\nA:\"\"\"\n",
        "print(\"Few-shot concept:\")\n",
        "print(generate_response(few_shot.format(topic=\"Public Health\", data=HEALTHCARE_DATASET)))"
      ]
    },
    {
      "cell_type": "code",
      "execution_count": null,
      "metadata": {
        "id": "bD5Rgqejc6je"
      },
      "outputs": [],
      "source": [
        "multi_shot_prompt = \"\"\"\n",
        "Topic: Mental Health\n",
        "Explanation: Covers psychological disorders, therapy methods, and social impact. Emphasis on early intervention and reducing stigma.\n",
        "Challenges: Access to care and individualized treatment.\n",
        "\n",
        "Topic: Public Health\n",
        "Explanation: Focuses on population health, epidemiology, and health policy. Aims to improve health outcomes through education and preventive measures.\n",
        "Challenges: Health disparities and resource allocation.\n",
        "\n",
        "Topic: Infectious Diseases\n",
        "Explanation:\n",
        "Challenges:\n",
        "\"\"\""
      ]
    },
    {
      "cell_type": "code",
      "execution_count": null,
      "metadata": {
        "colab": {
          "base_uri": "https://localhost:8080/"
        },
        "collapsed": true,
        "id": "U1GTR3_cdHFX",
        "outputId": "7ba64187-1867-415e-8e39-819093b165ad"
      },
      "outputs": [
        {
          "name": "stdout",
          "output_type": "stream",
          "text": [
            "response\n",
            "\n",
            "Error: Error code: 429 - {'error': {'message': 'You exceeded your current quota, please check your plan and billing details. For more information on this error, read the docs: https://platform.openai.com/docs/guides/error-codes/api-errors.', 'type': 'insufficient_quota', 'param': None, 'code': 'insufficient_quota'}}\n"
          ]
        }
      ],
      "source": [
        "multi_prompt = \"explain the following please\"\n",
        "\n",
        "print(\"response\\n\")\n",
        "print (generate_response(multi_prompt + multi_shot_prompt))"
      ]
    },
    {
      "cell_type": "code",
      "execution_count": null,
      "metadata": {
        "colab": {
          "base_uri": "https://localhost:8080/"
        },
        "collapsed": true,
        "id": "in66wZD2eFdQ",
        "outputId": "b930e8de-732e-4250-ef1e-d05d36edd949"
      },
      "outputs": [
        {
          "name": "stdout",
          "output_type": "stream",
          "text": [
            "Chain of Thought concept:\n",
            "### Infectious Diseases: A Step-by-Step Explanation\n",
            "\n",
            "#### 1. Definition of Infectious Diseases\n",
            "Infectious diseases are illnesses caused by pathogens—microorganisms that can invade the body and multiply, leading to illness. These diseases can spread from person to person, through vectors (like insects), or through contaminated food, water, or surfaces.\n",
            "\n",
            "#### 2. Key Terminology\n",
            "- **Pathogens**: These are microorganisms that cause disease. They include bacteria, viruses, fungi, and parasites. Each type of pathogen can cause different kinds of infections and diseases.\n",
            "  \n",
            "- **Epidemiology**: This is the study of how diseases spread and can be controlled within populations. Epidemiologists investigate patterns, causes, and effects of health and disease conditions to inform public health strategies.\n",
            "\n",
            "- **Antimicrobial Resistance (AMR)**: This occurs when pathogens evolve and develop the ability to resist the effects of medications that once effectively treated them, making infections harder to treat. AMR is a significant public health challenge, as it can lead to longer hospital stays, higher medical costs, and increased mortality.\n",
            "\n",
            "#### 3. Prevention of Infectious Diseases\n",
            "Preventing infectious diseases involves several practical strategies:\n",
            "\n",
            "- **Vaccination**: Vaccines stimulate the immune system to protect against specific pathogens. Immunization programs have been crucial in controlling or eradicating diseases like measles, polio, and smallpox.\n",
            "\n",
            "- **Handwashing**: Regular and proper handwashing with soap and water is one of the simplest and most effective ways to prevent the spread of infectious diseases. It helps remove pathogens from the hands, reducing the likelihood of transmission.\n",
            "\n",
            "- **Safe Food Practices**: Cooking food thoroughly and practicing safe food handling can prevent foodborne illnesses caused by pathogens.\n",
            "\n",
            "- **Vector Control**: Reducing exposure to vectors like mosquitoes through measures such as insect repellent, nets, and environmental management can help prevent diseases like malaria and dengue fever.\n",
            "\n",
            "#### 4. Challenges in Infectious Disease Control\n",
            "Despite advances in medicine and public health, several challenges persist:\n",
            "\n",
            "- **Emerging Infectious Diseases**: New pathogens or strains can emerge due to changes in the environment, human behavior, and global travel, making it essential to remain vigilant and adaptable.\n",
            "\n",
            "- **Antimicrobial Resistance**: As mentioned, the rise of AMR complicates treatment options and requires careful use of antibiotics and ongoing research for new therapies.\n",
            "\n",
            "- **Global Disparities**: Access to vaccines, sanitation, and healthcare varies greatly across regions, impacting the ability to control infectious diseases effectively.\n",
            "\n",
            "### Conclusion\n",
            "Infectious diseases remain a significant public health concern, influenced by complex interactions between pathogens and humans. Understanding the nature of these diseases, employing preventive measures like vaccination and handwashing, and addressing challenges such as antimicrobial resistance are crucial steps in safeguarding public health. By staying informed and proactive, individuals and communities can better protect themselves against infectious diseases.\n"
          ]
        }
      ],
      "source": [
        "chain_of_thought_prompt = \"\"\"\n",
        "Topic: Infectious Diseases\n",
        "\n",
        "1. Think step-by-step.\n",
        "2. Explain the concept of Infectious Diseases clearly and concisely.\n",
        "3. Define technical terms like \"pathogens\", \"epidemiology\", and \"antimicrobial resistance\".\n",
        "4. Provide practical takeaways, such as the importance of vaccination and handwashing.\n",
        "5. Structure the explanation logically, starting with the basic definition and moving to prevention and challenges.\n",
        "\n",
        "Explanation:\n",
        "\"\"\"\n",
        "\n",
        "print(\"Chain of Thought concept:\")\n",
        "print(generate_response(chain_of_thought_prompt.format(topic=\"Public Health\", data=HEALTHCARE_DATASET)))"
      ]
    },
    {
      "cell_type": "code",
      "execution_count": null,
      "metadata": {
        "colab": {
          "base_uri": "https://localhost:8080/"
        },
        "id": "YtnXBQ4emTFO",
        "outputId": "41e151d1-cc5f-4f0e-aed4-f7358e7b4c7f"
      },
      "outputs": [
        {
          "name": "stdout",
          "output_type": "stream",
          "text": [
            "Persona-based concept:\n",
            "Hello there! I’m so glad you came in with your questions today. Let’s talk about something that’s on your mind. \n",
            "\n",
            "Whether it’s about nutrition, exercise, or how to manage stress, I want you to feel comfortable and informed. It’s important to understand how our body works and what it needs to stay healthy. \n",
            "\n",
            "For example, if we talk about nutrition, think of your body like a car. Just like a car needs the right fuel to run smoothly, your body needs the right foods. Eating a balanced diet means including fruits, vegetables, whole grains, and proteins. These foods help keep your energy up, your mood steady, and your body functioning well.\n",
            "\n",
            "If we’re discussing exercise, it’s all about movement. You don’t have to run a marathon to be active! Simple things like walking, dancing, or even gardening can keep your body strong and your heart healthy.\n",
            "\n",
            "And when it comes to managing stress, it’s normal to feel overwhelmed sometimes. Finding time to relax, whether it’s through reading, taking a bath, or spending time with loved ones, can really help.\n",
            "\n",
            "So, here’s a simple tip for you: try to include at least one colorful fruit or vegetable in every meal. It’s an easy way to boost your nutrition and it can make your meals more fun!\n",
            "\n",
            "Remember, taking small steps can lead to big changes over time. You’re doing great by seeking out information, and I’m here to help you along the way!\n"
          ]
        }
      ],
      "source": [
        "persona_prompt = \"\"\"\n",
        "You are a friendly family doctor speaking to a curious patient.\n",
        "Your job is to explain the topic in everyday language,\n",
        "avoiding medical jargon unless you define it clearly.\n",
        "Use a warm and reassuring tone, and end with one simple tip\n",
        "the patient can use in their daily life.\n",
        "\n",
        "\n",
        "Doctor's Explanation:\n",
        "\"\"\"\n",
        "\n",
        "print(\"Persona-based concept:\")\n",
        "print(generate_response(persona_prompt.format(topic=\"Cardiovascular Disease\", data=HEALTHCARE_DATASET)))"
      ]
    }
  ],
  "metadata": {
    "colab": {
      "provenance": [],
      "include_colab_link": true
    },
    "kernelspec": {
      "display_name": "Python 3",
      "name": "python3"
    },
    "language_info": {
      "name": "python"
    }
  },
  "nbformat": 4,
  "nbformat_minor": 0
}