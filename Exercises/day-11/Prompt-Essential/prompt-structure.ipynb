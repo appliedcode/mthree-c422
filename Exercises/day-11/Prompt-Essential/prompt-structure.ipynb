{
  "cells": [
    {
      "cell_type": "markdown",
      "metadata": {
        "id": "view-in-github",
        "colab_type": "text"
      },
      "source": [
        "<a href=\"https://colab.research.google.com/github/appliedcode/mthree-c422/blob/main/Exercises/day-11/Prompt-Essential/prompt-structure.ipynb\" target=\"_parent\"><img src=\"https://colab.research.google.com/assets/colab-badge.svg\" alt=\"Open In Colab\"/></a>"
      ]
    },
    {
      "cell_type": "markdown",
      "source": [
        "# 🧪 Colab Lab: Mastering Prompt Structure\n",
        "\n"
      ],
      "metadata": {
        "id": "hFnkDgKDTUgk"
      }
    },
    {
      "cell_type": "code",
      "source": [
        "!pip install --quiet openai\n",
        "\n",
        "from google.colab import userdata\n",
        "import os\n",
        "from openai import OpenAI\n",
        "\n",
        "api_key = userdata.get('OPENAI_API_KEY')\n",
        "if not api_key:\n",
        "    raise ValueError(\"❌ API key not found. Please set with userdata.set(...)\")\n",
        "\n",
        "os.environ[\"OPENAI_API_KEY\"] = api_key\n",
        "client = OpenAI(api_key=os.environ[\"OPENAI_API_KEY\"])"
      ],
      "metadata": {
        "colab": {
          "base_uri": "https://localhost:8080/"
        },
        "id": "b-MrRDkKZxI6",
        "outputId": "9b774612-44e6-4e4d-b19d-41a4f08c7c33"
      },
      "execution_count": 31,
      "outputs": [
        {
          "output_type": "stream",
          "name": "stdout",
          "text": [
            "✅ OpenAI API key loaded safely\n"
          ]
        }
      ]
    },
    {
      "cell_type": "markdown",
      "source": [
        "1️⃣ CLARITY — Make the Task Unambiguous\n",
        "Task:\n",
        "Write a prompt asking the model to explain Newton’s First Law, first unclearly, then with clear instructions."
      ],
      "metadata": {
        "id": "DWPZphMqQ748"
      }
    },
    {
      "cell_type": "code",
      "source": [
        "# Unclear prompt:\n",
        "unclear = \"Tell me about Newton's law.\"\n",
        "# Clearer version:\n",
        "clear = \"Write a 3-sentence explanation of Newton’s First Law in simple language for a 12-year-old.\"\n",
        "\n",
        "for prompt in [unclear, clear]:\n",
        "    resp = client.chat.completions.create(\n",
        "        model=\"gpt-4o-mini\",\n",
        "        messages=[{\"role\": \"user\", \"content\": prompt}],\n",
        "        max_tokens=80,\n",
        "    )\n",
        "    print(f\"\\nPrompt: {prompt}\\n---Answer---\\n{resp.choices[0].message.content.strip()}\")\n"
      ],
      "metadata": {
        "id": "EMw2mUTcRC87"
      },
      "execution_count": null,
      "outputs": []
    },
    {
      "cell_type": "markdown",
      "source": [
        "2️⃣ CONTEXT — Inject Relevant Details\n",
        "## Task:\n",
        "- Give more context to the model."
      ],
      "metadata": {
        "id": "vL86MpLGRHN5"
      }
    },
    {
      "cell_type": "code",
      "source": [
        "prompt = (\"You are a science teacher. Explain Newton’s First Law with an example involving riding a bike, in 4 sentences.\")\n",
        "resp = client.chat.completions.create(\n",
        "    model=\"gpt-4o-mini\",\n",
        "    messages=[{\"role\": \"user\", \"content\": prompt}],\n",
        "    max_tokens=100,\n",
        ")\n",
        "print(resp.choices[0].message.content.strip())"
      ],
      "metadata": {
        "id": "8Txjrm0JRGnU"
      },
      "execution_count": null,
      "outputs": []
    },
    {
      "cell_type": "markdown",
      "source": [
        "3️⃣ CONSTRAINTS — Define Output Boundaries\n",
        "## Task:\n",
        "- Ask for specific format, word count, or do’s and don'ts."
      ],
      "metadata": {
        "id": "Y7acccp-RPe4"
      }
    },
    {
      "cell_type": "code",
      "source": [
        "prompt = (\n",
        "    \"Summarize Newton’s First Law in exactly 2 bullet points and avoid technical jargon.\"\n",
        ")\n",
        "resp = client.chat.completions.create(\n",
        "    model=\"gpt-4o-mini\",\n",
        "    messages=[{\"role\": \"user\", \"content\": prompt}],\n",
        "    max_tokens=60,\n",
        ")\n",
        "print(resp.choices[0].message.content.strip())\n"
      ],
      "metadata": {
        "id": "nUiJywafRO9O"
      },
      "execution_count": null,
      "outputs": []
    },
    {
      "cell_type": "markdown",
      "source": [
        "4️⃣ ORGANIZATION — Structure the Prompt\n",
        "## Task:\n",
        "- Use sections (instructions, context, output format)."
      ],
      "metadata": {
        "id": "wZqNlKK7RVBl"
      }
    },
    {
      "cell_type": "code",
      "source": [
        "prompt = \"\"\"\n",
        "### Instruction:\n",
        "Explain Newton's First Law to a beginner.\n",
        "### Context:\n",
        "The reader is learning about physics for the first time.\n",
        "### Output:\n",
        "Respond in 2 simple sentences and give a real-life example.\n",
        "\"\"\"\n",
        "resp = client.chat.completions.create(\n",
        "    model=\"gpt-4o-mini\",\n",
        "    messages=[{\"role\": \"user\", \"content\": prompt}],\n",
        "    max_tokens=80,\n",
        ")\n",
        "print(resp.choices[0].message.content.strip())"
      ],
      "metadata": {
        "id": "lRltbyqbRZAr"
      },
      "execution_count": null,
      "outputs": []
    },
    {
      "cell_type": "markdown",
      "source": [
        " 5️⃣ PREFIXES & LABELS — Make Inputs and Outputs Explicit\n",
        "## Task:\n",
        "- Use prefixes/labels in your examples for few-shot prompts."
      ],
      "metadata": {
        "id": "mkZgqNg1Rjla"
      }
    },
    {
      "cell_type": "code",
      "source": [
        "prompt = \"\"\"Explain Newton’s First Law.\n",
        "\n",
        "Example 1:\n",
        "Q: What is Newton’s First Law?\n",
        "A: An object will keep moving in the same way unless acted on by another force.\n",
        "\n",
        "Example 2:\n",
        "Q: Can you explain Newton’s First Law using a rolling ball?\n",
        "A: A rolling ball keeps moving until friction or something else stops it.\n",
        "\n",
        "Now, give a new example using a moving car.\n",
        "\"\"\"\n",
        "resp = client.chat.completions.create(\n",
        "    model=\"gpt-4o-mini\",\n",
        "    messages=[{\"role\": \"user\", \"content\": prompt}],\n",
        "    max_tokens=80,\n",
        ")\n",
        "print(resp.choices[0].message.content.strip())"
      ],
      "metadata": {
        "id": "_u9T2_FKRjFP"
      },
      "execution_count": null,
      "outputs": []
    },
    {
      "cell_type": "markdown",
      "source": [
        "6️⃣ DECOMPOSITION — Break Down Complex Tasks\n",
        "## Task:\n",
        "- Guide the model with step-by-step or modular instructions."
      ],
      "metadata": {
        "id": "8FHDll-bRscf"
      }
    },
    {
      "cell_type": "markdown",
      "source": [
        "🎯 Next Steps & Reflection\n",
        "For each section, tweak your own prompt and rerun.\n",
        "Ask yourself:\n",
        "\n",
        "Which structure resulted in the best explanation?\n",
        "\n",
        "Where did the model follow instructions tightly?\n",
        "\n",
        "Where did structure help/fail to reduce confusion or vagueness?"
      ],
      "metadata": {
        "id": "ZTHeHIGfRzeK"
      }
    },
    {
      "cell_type": "code",
      "source": [],
      "metadata": {
        "id": "z9GnB4jcRq1_"
      },
      "execution_count": null,
      "outputs": []
    }
  ],
  "metadata": {
    "colab": {
      "name": "Welcome to Colab",
      "provenance": [],
      "include_colab_link": true
    },
    "kernelspec": {
      "display_name": "Python 3",
      "name": "python3"
    }
  },
  "nbformat": 4,
  "nbformat_minor": 0
}