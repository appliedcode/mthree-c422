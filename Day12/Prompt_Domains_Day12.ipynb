{
  "nbformat": 4,
  "nbformat_minor": 0,
  "metadata": {
    "colab": {
      "provenance": []
    },
    "kernelspec": {
      "name": "python3",
      "display_name": "Python 3"
    },
    "language_info": {
      "name": "python"
    }
  },
  "cells": [
    {
      "cell_type": "markdown",
      "source": [
        "# Lab Exercises: Prompt Engineering for Chatbots, Summarization, Coding, and Data Extraction\n"
      ],
      "metadata": {
        "id": "Rq0IvPY_5LrE"
      }
    },
    {
      "cell_type": "markdown",
      "source": [
        "Setup:\n",
        "Use OpenAI API or any language model API accessible in your Colab.\n",
        "If API keys are needed, ensure they are safely added as environment variables or input by the user."
      ],
      "metadata": {
        "id": "ST6502nr5Qp8"
      }
    },
    {
      "cell_type": "code",
      "execution_count": 1,
      "metadata": {
        "colab": {
          "base_uri": "https://localhost:8080/"
        },
        "id": "ceIJSujViiJ2",
        "outputId": "b14f745f-807e-4a4d-b923-c809311ab961"
      },
      "outputs": [
        {
          "output_type": "stream",
          "name": "stdout",
          "text": [
            "✅ OpenAI API key loaded safely\n"
          ]
        }
      ],
      "source": [
        "\n",
        "from google.colab import userdata\n",
        "import os\n",
        "\n",
        "# Set your OpenAI API key securely in Colab Secrets (once)\n",
        "# userdata.set(\"OPENAI_API_KEY\", \"your-api-key-here\")\n",
        "\n",
        "# Retrieve key in your notebook\n",
        "openai_api_key = userdata.get(\"OPENAI_API_KEY\")\n",
        "if openai_api_key:\n",
        "    os.environ[\"OPENAI_API_KEY\"] = openai_api_key\n",
        "    print(\"✅ OpenAI API key loaded safely\")\n",
        "else:\n",
        "    print(\"❌ OpenAI API key not found. Please set it using Colab Secrets.\")\n",
        ""
      ]
    },
    {
      "cell_type": "code",
      "source": [
        "\n",
        "\n",
        "\n",
        "!pip install --quiet openai -q\n",
        "# Create client\n",
        "from openai import OpenAI\n",
        "client = OpenAI(api_key=os.environ[\"OPENAI_API_KEY\"])"
      ],
      "metadata": {
        "id": "g7lI5FJO5QIJ"
      },
      "execution_count": 2,
      "outputs": []
    },
    {
      "cell_type": "code",
      "source": [
        "\n",
        "\n",
        "# Helper Function to Send Prompts\n",
        "def generate_response(prompt, model=\"gpt-4o-mini\", temperature=0.7):\n",
        "    \"\"\"\n",
        "    Send a prompt to the OpenAI model and return the response text.\n",
        "    \"\"\"\n",
        "    try:\n",
        "        completion = client.chat.completions.create(\n",
        "            model=model,\n",
        "            messages=[{\"role\": \"user\", \"content\": prompt}],\n",
        "            temperature=temperature\n",
        "        )\n",
        "        return completion.choices[0].message.content.strip()\n",
        "    except Exception as e:\n",
        "        return f\"Error: {e}\"\n"
      ],
      "metadata": {
        "id": "N0cfd4AE7Cmy"
      },
      "execution_count": 3,
      "outputs": []
    },
    {
      "cell_type": "markdown",
      "source": [
        "\n",
        "Goal: Design prompts that enable the chatbot to respond conversationally, handle user intents, and maintain friendly tone.\n",
        "\n",
        "Tasks:\n",
        "\n",
        "Craft a base prompt that instructs the model to act as a friendly customer service chatbot."
      ],
      "metadata": {
        "id": "fKeTIBQ07GoN"
      }
    },
    {
      "cell_type": "code",
      "source": [
        "prompt = \"\"\"\n",
        "You are a friendly customer service chatbot named HelpBot.\n",
        "Answer user questions clearly and positively.\n",
        "If you don't know the answer, politely say you will follow up.\n",
        "User: How do I reset my password?\n",
        "HelpBot:\n",
        "\"\"\"\n",
        "\n",
        "response = generate_response(prompt)\n",
        "print(response)"
      ],
      "metadata": {
        "colab": {
          "base_uri": "https://localhost:8080/"
        },
        "id": "uSrZTslR7EwE",
        "outputId": "75434cb5-a308-4126-996d-bd4e45527351"
      },
      "execution_count": 4,
      "outputs": [
        {
          "output_type": "stream",
          "name": "stdout",
          "text": [
            "To reset your password, please follow these steps:\n",
            "\n",
            "1. Go to the login page of the website or app.\n",
            "2. Click on the \"Forgot Password?\" link.\n",
            "3. Enter your email address associated with your account and submit the form.\n",
            "4. Check your email for a password reset link and follow the instructions provided.\n",
            "\n",
            "If you encounter any issues or need further assistance, feel free to ask!\n"
          ]
        }
      ]
    },
    {
      "cell_type": "code",
      "source": [
        "\n",
        "\n",
        "prompt = \"\"\"\n",
        "You are a friendly customer service chatbot named HelpBot.\n",
        "Answer user questions clearly and positively.\n",
        "If you don't know the answer, politely say you will follow up.\n",
        "User: How do I reset my password?\n",
        "HelpBot:\n",
        "\"\"\"\n",
        "\n",
        "response = generate_response(prompt)\n",
        "print(response)"
      ],
      "metadata": {
        "colab": {
          "base_uri": "https://localhost:8080/"
        },
        "id": "19P0a0yy7Jco",
        "outputId": "e397799d-88d1-4b0b-e5a0-3823f4041ba8"
      },
      "execution_count": 5,
      "outputs": [
        {
          "output_type": "stream",
          "name": "stdout",
          "text": [
            "To reset your password, please follow these steps:\n",
            "\n",
            "1. Go to the login page of the website or app.\n",
            "2. Click on the \"Forgot Password?\" link.\n",
            "3. Enter your registered email address and submit the form.\n",
            "4. Check your email for a password reset link.\n",
            "5. Follow the instructions in the email to set a new password.\n",
            "\n",
            "If you encounter any issues or don’t receive the email, please let me know, and I’ll be happy to assist further!\n"
          ]
        }
      ]
    },
    {
      "cell_type": "code",
      "source": [
        "\n",
        "\n",
        "few_shot_prompt = \"\"\"\n",
        "You are HelpBot, a friendly customer service chatbot.\n",
        "\n",
        "User: How do I reset my password?\n",
        "HelpBot: To reset your password, go to account settings and click 'Forgot Password'.\n",
        "\n",
        "User: What is your refund policy?\n",
        "HelpBot: We offer refunds within 30 days of purchase; please contact support.\n",
        "\n",
        "User: How do I update my shipping address?\n",
        "HelpBot:\n",
        "\"\"\"\n",
        "\n",
        "response = generate_response(few_shot_prompt)\n",
        "print(response)"
      ],
      "metadata": {
        "colab": {
          "base_uri": "https://localhost:8080/"
        },
        "id": "NhjFoJ5x7LOU",
        "outputId": "fd1d2c68-eef6-4bf0-f70f-d83754cc1061"
      },
      "execution_count": 6,
      "outputs": [
        {
          "output_type": "stream",
          "name": "stdout",
          "text": [
            "To update your shipping address, please log in to your account, go to 'Account Settings', and select 'Shipping Address'. From there, you can edit your address. If you need further assistance, feel free to ask!\n"
          ]
        }
      ]
    },
    {
      "cell_type": "markdown",
      "source": [
        "Exercise 2: Summarization Prompt Engineering\n",
        "\n",
        "Goal: Create prompts that extract concise, informative summaries with controlled length and format.\n",
        "\n",
        "Summarize a sample article into a short paragraph:"
      ],
      "metadata": {
        "id": "HNsNt_my7Nww"
      }
    },
    {
      "cell_type": "code",
      "source": [
        "\n",
        "\n",
        "article_text = \"\"\"\n",
        "Artificial intelligence (AI) is transforming many industries by automating tasks and generating new insights.\n",
        "AI technologies include machine learning, natural language processing, and computer vision.\n",
        "\"\"\"\n",
        "\n",
        "prompt = f\"Summarize the following text in two sentences:\\n\\n{article_text}\"\n",
        "\n",
        "response = generate_response(prompt)\n",
        "print(response)\n",
        ""
      ],
      "metadata": {
        "colab": {
          "base_uri": "https://localhost:8080/"
        },
        "id": "1J-mb36o7Por",
        "outputId": "8a3c1dc0-6a35-4a4e-e72c-05e2c0866791"
      },
      "execution_count": 7,
      "outputs": [
        {
          "output_type": "stream",
          "name": "stdout",
          "text": [
            "Artificial intelligence (AI) is revolutionizing various industries through task automation and the generation of new insights. Key AI technologies encompass machine learning, natural language processing, and computer vision.\n"
          ]
        }
      ]
    },
    {
      "cell_type": "markdown",
      "source": [
        "Summarize the same text as bullet points, specifying the format:\n"
      ],
      "metadata": {
        "id": "-gl8A9cq7Trg"
      }
    },
    {
      "cell_type": "code",
      "source": [
        "\n",
        "\n",
        "prompt_bullets = f\"\"\"\n",
        "Summarize the following text into 3 concise bullet points:\n",
        "\n",
        "{article_text}\n",
        "\"\"\"\n",
        "\n",
        "response = generate_response(prompt_bullets)\n",
        "print(response)"
      ],
      "metadata": {
        "colab": {
          "base_uri": "https://localhost:8080/"
        },
        "id": "Vk10COnV7SIk",
        "outputId": "a3ce4373-e3de-43d2-f160-759c3b76999d"
      },
      "execution_count": 8,
      "outputs": [
        {
          "output_type": "stream",
          "name": "stdout",
          "text": [
            "- AI is revolutionizing various industries through task automation and insight generation.  \n",
            "- Key AI technologies encompass machine learning, natural language processing, and computer vision.  \n",
            "- The impact of AI is significant, enhancing efficiency and innovation across sectors.\n"
          ]
        }
      ]
    },
    {
      "cell_type": "markdown",
      "source": [
        "Exercise 3: Coding Prompt Engineering\n",
        "Goal: Write prompts that enable generation of code snippets in specific languages with explanations or tests.\n",
        "\n",
        "Generate Python code for a bubble sort:"
      ],
      "metadata": {
        "id": "ZYGZswWq7fB9"
      }
    },
    {
      "cell_type": "code",
      "source": [
        "\n",
        "\n",
        "code_prompt = \"\"\"\n",
        "Write a Python function to sort a list of integers using bubble sort.\n",
        "Include comments explaining each step.\n",
        "\"\"\"\n",
        "\n",
        "response = generate_response(code_prompt)\n",
        "print(response)\n",
        ""
      ],
      "metadata": {
        "colab": {
          "base_uri": "https://localhost:8080/"
        },
        "id": "u7LnSzQP7eik",
        "outputId": "2cc68e74-e3b6-49df-abef-e8ac1c4bbcef"
      },
      "execution_count": 9,
      "outputs": [
        {
          "output_type": "stream",
          "name": "stdout",
          "text": [
            "Certainly! Below is a Python function that implements the bubble sort algorithm to sort a list of integers. Each step is explained with comments.\n",
            "\n",
            "```python\n",
            "def bubble_sort(arr):\n",
            "    \"\"\"\n",
            "    Sorts a list of integers using the bubble sort algorithm.\n",
            "\n",
            "    Parameters:\n",
            "    arr (list): A list of integers to be sorted\n",
            "\n",
            "    Returns:\n",
            "    list: A sorted list of integers\n",
            "    \"\"\"\n",
            "    n = len(arr)  # Get the number of elements in the list\n",
            "\n",
            "    # Outer loop to iterate over each element in the array\n",
            "    for i in range(n):\n",
            "        # A flag to check if any swaps were made in this pass\n",
            "        swapped = False\n",
            "        \n",
            "        # Inner loop for comparing adjacent elements\n",
            "        for j in range(0, n - i - 1):\n",
            "            # Compare the current element with the next element\n",
            "            if arr[j] > arr[j + 1]:\n",
            "                # If the current element is greater, swap them\n",
            "                arr[j], arr[j + 1] = arr[j + 1], arr[j]\n",
            "                swapped = True  # Set the flag to True since a swap was made\n",
            "        \n",
            "        # If no swaps were made, the array is already sorted, so we can exit early\n",
            "        if not swapped:\n",
            "            break\n",
            "\n",
            "    return arr  # Return the sorted list\n",
            "\n",
            "# Example usage:\n",
            "numbers = [64, 34, 25, 12, 22, 11, 90]\n",
            "sorted_numbers = bubble_sort(numbers)\n",
            "print(\"Sorted array:\", sorted_numbers)\n",
            "```\n",
            "\n",
            "### Explanation of the Code:\n",
            "\n",
            "1. **Function Definition**: The function `bubble_sort` takes a list of integers `arr` as its parameter.\n",
            "2. **Length Calculation**: The variable `n` stores the length of the list, which will be used to determine how many passes we need to make.\n",
            "3. **Outer Loop**: The outer loop runs `n` times. Each iteration represents a complete pass through the list.\n",
            "4. **Swapped Flag**: A boolean variable `swapped` is initialized to `False` at the beginning of each pass. This flag helps to determine if any swaps were made in the current pass.\n",
            "5. **Inner Loop**: The inner loop compares adjacent elements. It runs from the start of the list to `n - i - 1` because the last `i` elements are already sorted after `i` passes.\n",
            "6. **Element Comparison**: Inside the inner loop, if the current element `arr[j]` is greater than the next element `arr[j + 1]`, they are swapped, and `swapped` is set to `True`.\n",
            "7. **Early Exit**: If no swaps were made during a pass (meaning the list is already sorted), the function breaks out of the loop early for efficiency.\n",
            "8. **Return Value**: Finally, the sorted list is returned.\n",
            "\n",
            "You can use the provided example to see how the function works and test it with different lists of integers.\n"
          ]
        }
      ]
    },
    {
      "cell_type": "markdown",
      "source": [
        "Ask for the same algorithm in JavaScript:\n"
      ],
      "metadata": {
        "id": "9iOnoWW07mqQ"
      }
    },
    {
      "cell_type": "code",
      "source": [
        "\n",
        "\n",
        "js_prompt = \"\"\"\n",
        "Write a JavaScript function to perform bubble sort on an array of numbers.\n",
        "Include comments explaining the logic.\n",
        "\"\"\"\n",
        "\n",
        "response = generate_response(js_prompt)\n",
        "print(response)"
      ],
      "metadata": {
        "colab": {
          "base_uri": "https://localhost:8080/"
        },
        "id": "Mz4yPNZ87j97",
        "outputId": "7c6a6f99-ffb4-4431-cd07-ceacf4d3a57a"
      },
      "execution_count": 10,
      "outputs": [
        {
          "output_type": "stream",
          "name": "stdout",
          "text": [
            "Certainly! Below is a JavaScript function that implements the bubble sort algorithm to sort an array of numbers. I've included comments to explain each part of the code.\n",
            "\n",
            "```javascript\n",
            "function bubbleSort(arr) {\n",
            "    // Get the length of the array\n",
            "    const n = arr.length;\n",
            "\n",
            "    // Outer loop to traverse through all elements in the array\n",
            "    for (let i = 0; i < n - 1; i++) {\n",
            "        // A flag to detect if any swapping occurs\n",
            "        let swapped = false;\n",
            "\n",
            "        // Inner loop to compare adjacent elements\n",
            "        // The last i elements are already sorted, so we can skip them\n",
            "        for (let j = 0; j < n - i - 1; j++) {\n",
            "            // Compare the adjacent elements\n",
            "            if (arr[j] > arr[j + 1]) {\n",
            "                // If they are in the wrong order, swap them\n",
            "                let temp = arr[j];\n",
            "                arr[j] = arr[j + 1];\n",
            "                arr[j + 1] = temp;\n",
            "\n",
            "                // Set the swapped flag to true\n",
            "                swapped = true;\n",
            "            }\n",
            "        }\n",
            "\n",
            "        // If no two elements were swapped in the inner loop, the array is sorted\n",
            "        if (!swapped) {\n",
            "            break; // Exit the loop early as the array is already sorted\n",
            "        }\n",
            "    }\n",
            "\n",
            "    // Return the sorted array\n",
            "    return arr;\n",
            "}\n",
            "\n",
            "// Example usage:\n",
            "const numbers = [64, 34, 25, 12, 22, 11, 90];\n",
            "const sortedNumbers = bubbleSort(numbers);\n",
            "console.log(sortedNumbers); // Output: [11, 12, 22, 25, 34, 64, 90]\n",
            "```\n",
            "\n",
            "### Explanation:\n",
            "\n",
            "1. **Function Definition**: The function `bubbleSort` takes an array `arr` as an argument.\n",
            "\n",
            "2. **Length Calculation**: We store the length of the array in the variable `n`.\n",
            "\n",
            "3. **Outer Loop**: The outer loop runs `n - 1` times. Each iteration represents a pass through the array.\n",
            "\n",
            "4. **Swapped Flag**: We use a flag called `swapped` to track whether any elements were swapped during the inner loop. This helps in optimizing the algorithm by allowing it to exit early if the array becomes sorted before all passes are completed.\n",
            "\n",
            "5. **Inner Loop**: The inner loop compares adjacent elements of the array. It runs `n - i - 1` times because with each pass, the largest unsorted element moves to its correct position at the end of the array.\n",
            "\n",
            "6. **Element Comparison and Swapping**: If the current element is greater than the next element, they are swapped. The `swapped` flag is set to `true` to indicate that a swap has occurred.\n",
            "\n",
            "7. **Early Exit**: If no swaps were made during an inner loop iteration (indicating the array is sorted), the outer loop breaks early.\n",
            "\n",
            "8. **Return Statement**: Finally, the sorted array is returned.\n",
            "\n",
            "This implementation of bubble sort has a time complexity of O(n^2) in the worst and average cases, making it less efficient for large datasets. However, it is simple and a good educational tool for understanding sorting algorithms.\n"
          ]
        }
      ]
    },
    {
      "cell_type": "markdown",
      "source": [
        "Request code with test cases or error handling:\n"
      ],
      "metadata": {
        "id": "eJ42N-bs7rtG"
      }
    },
    {
      "cell_type": "code",
      "source": [
        "\n",
        "\n",
        "test_prompt = \"\"\"\n",
        "Write a Python function for bubble sort with a test case that prints the sorted list.\n",
        "\"\"\"\n",
        "\n",
        "response = generate_response(test_prompt)\n",
        "print(response)\n",
        ""
      ],
      "metadata": {
        "colab": {
          "base_uri": "https://localhost:8080/"
        },
        "id": "QlGFhxlm7o62",
        "outputId": "482b10f1-5232-46d6-cbb6-83b85fc4f6ec"
      },
      "execution_count": 11,
      "outputs": [
        {
          "output_type": "stream",
          "name": "stdout",
          "text": [
            "Sure! Here’s a Python function that implements the bubble sort algorithm, along with a test case that demonstrates its functionality by printing the sorted list.\n",
            "\n",
            "```python\n",
            "def bubble_sort(arr):\n",
            "    n = len(arr)\n",
            "    # Traverse through all array elements\n",
            "    for i in range(n):\n",
            "        # Last i elements are already sorted\n",
            "        for j in range(0, n-i-1):\n",
            "            # Swap if the element found is greater than the next element\n",
            "            if arr[j] > arr[j+1]:\n",
            "                arr[j], arr[j+1] = arr[j+1], arr[j]\n",
            "\n",
            "# Test case\n",
            "if __name__ == \"__main__\":\n",
            "    test_list = [64, 34, 25, 12, 22, 11, 90]\n",
            "    print(\"Original list:\", test_list)\n",
            "    bubble_sort(test_list)\n",
            "    print(\"Sorted list:\", test_list)\n",
            "```\n",
            "\n",
            "### Explanation:\n",
            "- The `bubble_sort` function takes a list `arr` as an argument and sorts it in ascending order using the bubble sort algorithm.\n",
            "- The outer loop runs for each element in the list, while the inner loop compares adjacent elements and swaps them if they are in the wrong order.\n",
            "- The process continues until the entire list is sorted.\n",
            "\n",
            "### Output:\n",
            "When you run this code, you should see the following output:\n",
            "\n",
            "```\n",
            "Original list: [64, 34, 25, 12, 22, 11, 90]\n",
            "Sorted list: [11, 12, 22, 25, 34, 64, 90]\n",
            "```\n"
          ]
        }
      ]
    },
    {
      "cell_type": "markdown",
      "source": [
        "\n",
        "Exercise 4: Data Extraction Prompt Engineering\n",
        "\n",
        "Goal: Design prompts to extract structured data (e.g., JSON) from unstructured text for easy parsing.\n",
        "\n",
        "Extract contact details from a sample text:"
      ],
      "metadata": {
        "id": "mOXgimcL7uM5"
      }
    },
    {
      "cell_type": "code",
      "source": [
        "text = \"\"\"\n",
        "Contact John Doe at john.doe@example.com or call him at +1 (555) 123-4567.\n",
        "\"\"\"\n",
        "\n",
        "prompt = f\"\"\"\n",
        "Extract the name, email, and phone number from the following text and output as JSON:\n",
        "{text}\n",
        "\"\"\"\n",
        "\n",
        "response = generate_response(prompt)\n",
        "print(response)\n",
        ""
      ],
      "metadata": {
        "colab": {
          "base_uri": "https://localhost:8080/"
        },
        "id": "AreMPXAG7wIc",
        "outputId": "6ed8b4f7-3749-40ea-a322-5803d2a6a215"
      },
      "execution_count": 12,
      "outputs": [
        {
          "output_type": "stream",
          "name": "stdout",
          "text": [
            "```json\n",
            "{\n",
            "  \"name\": \"John Doe\",\n",
            "  \"email\": \"john.doe@example.com\",\n",
            "  \"phone\": \"+1 (555) 123-4567\"\n",
            "}\n",
            "```\n"
          ]
        }
      ]
    },
    {
      "cell_type": "markdown",
      "source": [
        "Extract multiple fields from customer feedback:\n"
      ],
      "metadata": {
        "id": "tAdbr6Da7z81"
      }
    },
    {
      "cell_type": "code",
      "source": [
        "\n",
        "\n",
        "feedback = \"\"\"\n",
        "I bought the laptop last month and it works great, but the battery life could be better.\n",
        "Customer: Alice Smith\n",
        "Date: 2025-07-20\n",
        "\"\"\"\n",
        "\n",
        "prompt = f\"\"\"\n",
        "Extract the customer name, date, product feedback summary, and sentiment (positive/negative) as JSON:\n",
        "\n",
        "{feedback}\n",
        "\"\"\"\n",
        "\n",
        "response = generate_response(prompt)\n",
        "print(response)"
      ],
      "metadata": {
        "colab": {
          "base_uri": "https://localhost:8080/"
        },
        "id": "Y2uKCa737yJw",
        "outputId": "ab205128-e21e-4a5d-d52b-926a985fb1a5"
      },
      "execution_count": 13,
      "outputs": [
        {
          "output_type": "stream",
          "name": "stdout",
          "text": [
            "```json\n",
            "{\n",
            "  \"customer_name\": \"Alice Smith\",\n",
            "  \"date\": \"2025-07-20\",\n",
            "  \"product_feedback_summary\": \"I bought the laptop last month and it works great, but the battery life could be better.\",\n",
            "  \"sentiment\": \"mixed\"\n",
            "}\n",
            "```\n"
          ]
        }
      ]
    },
    {
      "cell_type": "markdown",
      "source": [
        "\n",
        "Experiment with prompts that instruct output formatting strictly, e.g., JSON without extra text."
      ],
      "metadata": {
        "id": "7immOg_r79Da"
      }
    },
    {
      "cell_type": "code",
      "source": [
        "strict_json_prompt = f\"\"\"\n",
        "Extract the customer name, date, product feedback summary, and sentiment (positive/negative) from the following text and output ONLY the JSON object. Do not include any other text.\n",
        "\n",
        "Customer: Bob Johnson\n",
        "Date: 2025-07-21\n",
        "Feedback: The new software update is buggy and slow. I'm very disappointed.\n",
        "\"\"\"\n",
        "\n",
        "response = generate_response(strict_json_prompt)\n",
        "print(response)"
      ],
      "metadata": {
        "colab": {
          "base_uri": "https://localhost:8080/"
        },
        "id": "UZb0g0Yr72Zw",
        "outputId": "99e43684-e570-481c-b8c8-7f5a8ca6d7b8"
      },
      "execution_count": 14,
      "outputs": [
        {
          "output_type": "stream",
          "name": "stdout",
          "text": [
            "{\n",
            "  \"customer_name\": \"Bob Johnson\",\n",
            "  \"date\": \"2025-07-21\",\n",
            "  \"product_feedback_summary\": \"The new software update is buggy and slow. I'm very disappointed.\",\n",
            "  \"sentiment\": \"negative\"\n",
            "}\n"
          ]
        }
      ]
    },
    {
      "cell_type": "markdown",
      "source": [
        "# **Summary**\n",
        "Practice crafting domain-specific prompts with clear instructions and examples.\n",
        "\n",
        "Observe how few-shot prompting improves chatbot response relevancy.\n",
        "\n",
        "Control output style and length in summarization using explicit formats.\n",
        "\n",
        "Specify programming language and add commenting/test requirements in coding prompts.\n",
        "\n",
        "Guide the model to output structured data in JSON for data extraction tasks.\n",
        "\n",
        "Feel free to experiment by modifying the prompts, adding constraints, and adjusting temperature to see response variations."
      ],
      "metadata": {
        "id": "b9BwEqIC8EVk"
      }
    }
  ]
}