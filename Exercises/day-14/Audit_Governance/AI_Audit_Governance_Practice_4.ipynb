{
  "nbformat": 4,
  "nbformat_minor": 0,
  "metadata": {
    "colab": {
      "provenance": [],
      "authorship_tag": "ABX9TyNB7cLsItjtdRrpSMJpP6lV",
      "include_colab_link": true
    },
    "kernelspec": {
      "name": "python3",
      "display_name": "Python 3"
    },
    "language_info": {
      "name": "python"
    }
  },
  "cells": [
    {
      "cell_type": "markdown",
      "metadata": {
        "id": "view-in-github",
        "colab_type": "text"
      },
      "source": [
        "<a href=\"https://colab.research.google.com/github/appliedcode/mthree-c422/blob/mthree-422-salleh/Exercises/day-14/Audit_Governance/AI_Audit_Governance_Practice_4.ipynb\" target=\"_parent\"><img src=\"https://colab.research.google.com/assets/colab-badge.svg\" alt=\"Open In Colab\"/></a>"
      ]
    },
    {
      "cell_type": "markdown",
      "source": [
        "## **Problem Statement** – AI Governance, Fairness, and Auditing in Heart Disease Prediction\n",
        "\n",
        "You are part of a **health technology company’s AI compliance team**.\n",
        "Your task is to evaluate and audit a heart disease prediction model to ensure it adheres to **AI governance principles**: **fairness, transparency, and accountability**.\n",
        "\n",
        "The predictive model aims to determine whether a patient is at risk of heart disease based on medical and lifestyle features. Since healthcare AI systems must comply with **strict ethics and regulatory frameworks** (such as HIPAA, FDA AI/ML Guidance, IEEE and WHO AI principles), you must:\n",
        "\n",
        "- **Identify and measure bias** in model predictions against a sensitive attribute (in this case, `sex`: Male vs Female patients).\n",
        "- **Ensure transparency** by using explainability tools (e.g., **SHAP**) to show which features most influence model predictions.\n",
        "- **Implement AI auditing workflows** by logging performance metrics, bias statistics, and interpretability findings.\n",
        "- **Produce a compliance and governance report** documenting the model’s evaluation, ready for auditors and oversight boards.\n",
        "\n",
        "**Business Context:**\n",
        "Medical diagnosis models that show bias could lead to harmful disparities in care. Auditing the model is essential for meeting ethical obligations, maintaining trust, and ensuring compliance with regulatory standards.\n",
        "\n"
      ],
      "metadata": {
        "id": "xmyZvns_2Eem"
      }
    },
    {
      "cell_type": "code",
      "execution_count": 1,
      "metadata": {
        "id": "1VDq_Osy1Ahk"
      },
      "outputs": [],
      "source": [
        "# Install required packages\n",
        "!pip install shap scikit-learn pandas -q\n",
        "\n",
        "import numpy as np\n",
        "import pandas as pd\n",
        "from sklearn.datasets import fetch_openml\n",
        "from sklearn.model_selection import train_test_split\n",
        "from sklearn.ensemble import RandomForestClassifier\n",
        "from sklearn.metrics import classification_report, confusion_matrix\n",
        "import shap\n",
        "import datetime"
      ]
    },
    {
      "cell_type": "code",
      "source": [
        "from sklearn.datasets import fetch_openml\n",
        "# -------------------\n",
        "# Dataset Collection\n",
        "# -------------------\n",
        "# Load the Heart Disease dataset from OpenML\n",
        "heart_data = fetch_openml(name='heart-disease', version=1, as_frame=True)\n",
        "\n",
        "# Features (X) and Target (y)\n",
        "X = heart_data.data\n",
        "y = heart_data.target.map({'present': 1, 'absent': 0})  # 1 = Disease present, 0 = Absent\n",
        "\n",
        "print(\"Dataset shape:\", X.shape)\n",
        "print(\"Target distribution:\\n\", y.value_counts())\n",
        "\n",
        "# Ensure 'sex' column exists as sensitive attribute (already part of dataset)\n",
        "# Map to binary: 1=Male, 0=Female\n",
        "X['sex'] = X['sex'].astype(int)  # Already encoded in dataset\n"
      ],
      "metadata": {
        "id": "Q5_wyjlU2rZ5",
        "outputId": "3ff026e6-fc0f-42cb-8da1-59add84d42a2",
        "colab": {
          "base_uri": "https://localhost:8080/",
          "height": 221
        }
      },
      "execution_count": 4,
      "outputs": [
        {
          "output_type": "error",
          "ename": "AttributeError",
          "evalue": "'NoneType' object has no attribute 'map'",
          "traceback": [
            "\u001b[0;31m---------------------------------------------------------------------------\u001b[0m",
            "\u001b[0;31mAttributeError\u001b[0m                            Traceback (most recent call last)",
            "\u001b[0;32m/tmp/ipython-input-2133566390.py\u001b[0m in \u001b[0;36m<cell line: 0>\u001b[0;34m()\u001b[0m\n\u001b[1;32m      8\u001b[0m \u001b[0;31m# Features (X) and Target (y)\u001b[0m\u001b[0;34m\u001b[0m\u001b[0;34m\u001b[0m\u001b[0m\n\u001b[1;32m      9\u001b[0m \u001b[0mX\u001b[0m \u001b[0;34m=\u001b[0m \u001b[0mheart_data\u001b[0m\u001b[0;34m.\u001b[0m\u001b[0mdata\u001b[0m\u001b[0;34m\u001b[0m\u001b[0;34m\u001b[0m\u001b[0m\n\u001b[0;32m---> 10\u001b[0;31m \u001b[0my\u001b[0m \u001b[0;34m=\u001b[0m \u001b[0mheart_data\u001b[0m\u001b[0;34m.\u001b[0m\u001b[0mtarget\u001b[0m\u001b[0;34m.\u001b[0m\u001b[0mmap\u001b[0m\u001b[0;34m(\u001b[0m\u001b[0;34m{\u001b[0m\u001b[0;34m'present'\u001b[0m\u001b[0;34m:\u001b[0m \u001b[0;36m1\u001b[0m\u001b[0;34m,\u001b[0m \u001b[0;34m'absent'\u001b[0m\u001b[0;34m:\u001b[0m \u001b[0;36m0\u001b[0m\u001b[0;34m}\u001b[0m\u001b[0;34m)\u001b[0m  \u001b[0;31m# 1 = Disease present, 0 = Absent\u001b[0m\u001b[0;34m\u001b[0m\u001b[0;34m\u001b[0m\u001b[0m\n\u001b[0m\u001b[1;32m     11\u001b[0m \u001b[0;34m\u001b[0m\u001b[0m\n\u001b[1;32m     12\u001b[0m \u001b[0mprint\u001b[0m\u001b[0;34m(\u001b[0m\u001b[0;34m\"Dataset shape:\"\u001b[0m\u001b[0;34m,\u001b[0m \u001b[0mX\u001b[0m\u001b[0;34m.\u001b[0m\u001b[0mshape\u001b[0m\u001b[0;34m)\u001b[0m\u001b[0;34m\u001b[0m\u001b[0;34m\u001b[0m\u001b[0m\n",
            "\u001b[0;31mAttributeError\u001b[0m: 'NoneType' object has no attribute 'map'"
          ]
        }
      ]
    }
  ]
}