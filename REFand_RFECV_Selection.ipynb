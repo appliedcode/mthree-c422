{
  "nbformat": 4,
  "nbformat_minor": 0,
  "metadata": {
    "colab": {
      "provenance": [],
      "gpuType": "T4",
      "authorship_tag": "ABX9TyOVE1lCxvkbOVVnnKtlonaW"
    },
    "kernelspec": {
      "name": "python3",
      "display_name": "Python 3"
    },
    "language_info": {
      "name": "python"
    },
    "accelerator": "GPU"
  },
  "cells": [
    {
      "cell_type": "code",
      "source": [
        "import pandas as pd\n",
        "import numpy as np\n",
        "import matplotlib.pyplot as plt\n",
        "from sklearn.datasets import load_breast_cancer, load_iris\n",
        "from sklearn.linear_model import LogisticRegression\n",
        "from sklearn.feature_selection import RFE, RFECV\n",
        "from sklearn.model_selection import train_test_split, StratifiedKFold, cross_val_score\n",
        "from sklearn.metrics import accuracy_score"
      ],
      "metadata": {
        "id": "rDlawU_kIqgA"
      },
      "execution_count": 2,
      "outputs": []
    },
    {
      "cell_type": "code",
      "source": [
        "model = LogisticRegression(max_iter=5000)\n",
        "cv = StratifiedKFold(n_splits=5, shuffle=True, random_state=42)"
      ],
      "metadata": {
        "id": "fb8BiglkItVa"
      },
      "execution_count": 3,
      "outputs": []
    },
    {
      "cell_type": "code",
      "source": [
        "model = LogisticRegression(max_iter=5000)\n",
        "cv = StratifiedKFold(n_splits=5, shuffle=True, random_state=42)"
      ],
      "metadata": {
        "id": "F6PmP1WeI0XX"
      },
      "execution_count": 4,
      "outputs": []
    },
    {
      "cell_type": "code",
      "source": [
        "X, y = load_breast_cancer(return_X_y=True)\n",
        "X = pd.DataFrame(X, columns=load_breast_cancer().feature_names)\n",
        ""
      ],
      "metadata": {
        "id": "aTLji1unI4zz"
      },
      "execution_count": 5,
      "outputs": []
    },
    {
      "cell_type": "code",
      "source": [
        "X_train, X_test, y_train, y_test = train_test_split(X, y, random_state=42)\n",
        ""
      ],
      "metadata": {
        "id": "lFqT4GvgI9uz"
      },
      "execution_count": 6,
      "outputs": []
    },
    {
      "cell_type": "code",
      "source": [
        "rfe = RFE(estimator=model, n_features_to_select=5)\n",
        "rfe.fit(X_train, y_train)\n",
        "selected_rfe = X.columns[rfe.get_support()]\n",
        "print(\"🔹RFE Chosen Features (5):\", list(selected_rfe))\n",
        "\n",
        "model.fit(X_train[selected_rfe], y_train)\n",
        "y_pred_rfe = model.predict(X_test[selected_rfe])\n",
        "print(f\"🔹Accuracy with RFE (5 features): {accuracy_score(y_test, y_pred_rfe):.4f}\\n\")"
      ],
      "metadata": {
        "colab": {
          "base_uri": "https://localhost:8080/"
        },
        "id": "OZ45SmJwJBwP",
        "outputId": "d25c0515-6663-4a2b-aed1-c6b7ab6d8d20"
      },
      "execution_count": 7,
      "outputs": [
        {
          "output_type": "stream",
          "name": "stdout",
          "text": [
            "🔹RFE Chosen Features (5): ['mean radius', 'texture error', 'worst radius', 'worst compactness', 'worst concavity']\n",
            "🔹Accuracy with RFE (5 features): 0.9790\n",
            "\n"
          ]
        }
      ]
    },
    {
      "cell_type": "code",
      "source": [
        "best_score, best_k = 0, 0\n",
        "for k in range(1, X.shape[1] + 1):\n",
        "    rfe_k = RFE(estimator=model, n_features_to_select=k)\n",
        "    score = cross_val_score(rfe_k, X, y, scoring='accuracy', cv=cv).mean()\n",
        "    if score > best_score:\n",
        "        best_score = score\n",
        "        best_k = k\n",
        "print(f\"🔹RFE Auto-Tuned Best k: {best_k} → CV Accuracy: {best_score:.4f}\\n\")"
      ],
      "metadata": {
        "colab": {
          "base_uri": "https://localhost:8080/"
        },
        "id": "oLhPZKc0JJyg",
        "outputId": "5dd2c2ec-7579-4814-96c1-4d9cdea29e81"
      },
      "execution_count": 8,
      "outputs": [
        {
          "output_type": "stream",
          "name": "stdout",
          "text": [
            "🔹RFE Auto-Tuned Best k: 21 → CV Accuracy: 0.9561\n",
            "\n"
          ]
        }
      ]
    },
    {
      "cell_type": "code",
      "source": [
        "from sklearn.metrics import make_scorer, balanced_accuracy_score\n",
        "\n",
        "balanced_scorer = make_scorer(balanced_accuracy_score)\n",
        "best_bal_score, best_bal_k = 0, 0\n",
        "for k in range(1, X.shape[1] + 1):\n",
        "    rfe_k = RFE(estimator=model, n_features_to_select=k)\n",
        "    score = cross_val_score(rfe_k, X, y, scoring=balanced_scorer, cv=cv).mean()\n",
        "    if score > best_bal_score:\n",
        "        best_bal_score = score\n",
        "        best_bal_k = k\n",
        "print(f\"🔹RFE (Balanced Accuracy): Best k = {best_bal_k} → Balanced CV Acc: {best_bal_score:.4f}\\n\")\n",
        ""
      ],
      "metadata": {
        "colab": {
          "base_uri": "https://localhost:8080/"
        },
        "id": "ZMlCBgjVK5Ba",
        "outputId": "0d8c2546-7b26-4274-9f10-70c6dce2479a"
      },
      "execution_count": 9,
      "outputs": [
        {
          "output_type": "stream",
          "name": "stdout",
          "text": [
            "🔹RFE (Balanced Accuracy): Best k = 14 → Balanced CV Acc: 0.9507\n",
            "\n"
          ]
        }
      ]
    },
    {
      "cell_type": "code",
      "source": [
        "rfecv = RFECV(\n",
        "    estimator=model,\n",
        "    step=1,\n",
        "    cv=cv,\n",
        "    scoring='accuracy',\n",
        "    n_jobs=-1,\n",
        "    min_features_to_select=1\n",
        ")\n",
        "rfecv.fit(X_train, y_train)\n",
        "selected_rfecv = X.columns[rfecv.get_support()]\n",
        "print(\"🔹RFECV Chosen Features:\", list(selected_rfecv))\n",
        "print(f\"🔹RFECV Optimal Feature Count: {rfecv.n_features_}\")\n",
        "\n",
        "model.fit(X_train[selected_rfecv], y_train)\n",
        "y_pred_rfecv = model.predict(X_test[selected_rfecv])\n",
        "print(f\"🔹RFECV Accuracy on Test Set: {accuracy_score(y_test, y_pred_rfecv):.4f}\\n\")\n",
        ""
      ],
      "metadata": {
        "colab": {
          "base_uri": "https://localhost:8080/"
        },
        "id": "RPuBsNdnNBrl",
        "outputId": "d59b63fe-afe2-4683-9395-2bf38633e9dd"
      },
      "execution_count": 10,
      "outputs": [
        {
          "output_type": "stream",
          "name": "stdout",
          "text": [
            "🔹RFECV Chosen Features: ['mean radius', 'mean texture', 'mean smoothness', 'mean compactness', 'mean concavity', 'mean concave points', 'mean symmetry', 'texture error', 'perimeter error', 'area error', 'worst radius', 'worst texture', 'worst perimeter', 'worst smoothness', 'worst compactness', 'worst concavity', 'worst concave points', 'worst symmetry']\n",
            "🔹RFECV Optimal Feature Count: 18\n",
            "🔹RFECV Accuracy on Test Set: 0.9580\n",
            "\n"
          ]
        }
      ]
    },
    {
      "cell_type": "code",
      "source": [
        "plt.figure(figsize=(8, 5))\n",
        "plt.plot(\n",
        "    range(1, len(rfecv.cv_results_['mean_test_score']) + 1),\n",
        "    rfecv.cv_results_['mean_test_score']\n",
        ")\n",
        "plt.xlabel(\"Number of features selected\")\n",
        "plt.ylabel(\"Cross-validation accuracy\")\n",
        "plt.title(\"RFECV Accuracy vs Number of Selected Features\")\n",
        "plt.grid(True)\n",
        "plt.show()"
      ],
      "metadata": {
        "colab": {
          "base_uri": "https://localhost:8080/",
          "height": 487
        },
        "id": "XQ7CeLvNNMaR",
        "outputId": "a45b212f-3f46-49d2-cf94-852bfcb06008"
      },
      "execution_count": 11,
      "outputs": [
        {
          "output_type": "display_data",
          "data": {
            "text/plain": [
              "<Figure size 800x500 with 1 Axes>"
            ],
            "image/png": "[encoded data removed]"
          },
          "metadata": {}
        }
      ]
    },
    {
      "cell_type": "code",
      "source": [
        "def apply_rfe_to_iris():\n",
        "    print(\"\\n🌸 Applying to Iris Dataset:\")\n",
        "    X_iris, y_iris = load_iris(return_X_y=True)\n",
        "    X_iris = pd.DataFrame(X_iris, columns=load_iris().feature_names)\n",
        "\n",
        "    # Auto-tune RFE for Iris\n",
        "    best_score, best_k = 0, 0\n",
        "    for k in range(1, X_iris.shape[1] + 1):\n",
        "        rfe = RFE(model, n_features_to_select=k)\n",
        "        score = cross_val_score(rfe, X_iris, y_iris, scoring='accuracy', cv=cv).mean()\n",
        "        if score > best_score:\n",
        "            best_score = score\n",
        "            best_k = k\n",
        "    print(f\"🔹Best k for Iris: {best_k} → CV Accuracy: {best_score:.4f}\")\n",
        "\n",
        "    # RFECV for Iris\n",
        "    rfecv_iris = RFECV(model, cv=cv, scoring='accuracy')\n",
        "    rfecv_iris.fit(X_iris, y_iris)\n",
        "    selected_feats = X_iris.columns[rfecv_iris.get_support()]\n",
        "    print(\"🔹RFECV Selected Features (Iris):\", list(selected_feats))\n",
        "\n",
        "# ✅ Call the function\n",
        "apply_rfe_to_iris()"
      ],
      "metadata": {
        "colab": {
          "base_uri": "https://localhost:8080/"
        },
        "id": "F0GYEvcNNWrR",
        "outputId": "d09088f6-417c-4d58-9dbe-76e51d6f3c36"
      },
      "execution_count": 12,
      "outputs": [
        {
          "output_type": "stream",
          "name": "stdout",
          "text": [
            "\n",
            "🌸 Applying to Iris Dataset:\n",
            "🔹Best k for Iris: 2 → CV Accuracy: 0.9667\n",
            "🔹RFECV Selected Features (Iris): ['petal length (cm)', 'petal width (cm)']\n"
          ]
        }
      ]
    }
  ]
}