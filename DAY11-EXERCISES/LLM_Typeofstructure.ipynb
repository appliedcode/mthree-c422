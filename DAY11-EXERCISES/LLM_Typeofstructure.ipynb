{
  "nbformat": 4,
  "nbformat_minor": 0,
  "metadata": {
    "colab": {
      "provenance": []
    },
    "kernelspec": {
      "name": "python3",
      "display_name": "Python 3"
    },
    "language_info": {
      "name": "python"
    }
  },
  "cells": [
    {
      "cell_type": "code",
      "execution_count": 1,
      "metadata": {
        "colab": {
          "base_uri": "https://localhost:8080/"
        },
        "id": "Zj2pKa1NKRdH",
        "outputId": "659c42cf-4670-4d51-cbed-f5f0eae8dec6"
      },
      "outputs": [
        {
          "output_type": "stream",
          "name": "stdout",
          "text": [
            "✅ OpenAI API key loaded safely\n"
          ]
        }
      ],
      "source": [
        "from google.colab import userdata\n",
        "import os\n",
        "\n",
        "# Set your OpenAI API key securely in Colab Secrets (once)\n",
        "# userdata.set(\"OPENAI_API_KEY\", \"your-api-key-here\")\n",
        "\n",
        "# Retrieve key in your notebook\n",
        "openai_api_key = userdata.get(\"OPENAI_API_KEY\")\n",
        "if openai_api_key:\n",
        "    os.environ[\"OPENAI_API_KEY\"] = openai_api_key\n",
        "    print(\"✅ OpenAI API key loaded safely\")\n",
        "else:\n",
        "    print(\"❌ OpenAI API key not found. Please set it using Colab Secrets.\")"
      ]
    },
    {
      "cell_type": "code",
      "source": [
        "!pip install --quiet openai -q"
      ],
      "metadata": {
        "id": "l19img2bKieB"
      },
      "execution_count": 2,
      "outputs": []
    },
    {
      "cell_type": "code",
      "source": [
        "# Create client\n",
        "from openai import OpenAI\n",
        "client = OpenAI(api_key=os.environ[\"OPENAI_API_KEY\"])"
      ],
      "metadata": {
        "id": "qpz_7PlJKnHO"
      },
      "execution_count": 3,
      "outputs": []
    },
    {
      "cell_type": "code",
      "source": [
        "# Exercise 1 – Instructions Pattern\n",
        "prompt = \"You are a bicycle mechanic. Give step-by-step instructions (max 6 steps) for adjusting rim brakes on a road bike.\"\n",
        "\n",
        "resp = client.chat.completions.create(\n",
        "    model=\"gpt-4o-mini\",\n",
        "    messages=[{\"role\": \"system\", \"content\": \"You are a helpful assistant.\"},\n",
        "              {\"role\": \"user\", \"content\": prompt}],\n",
        "    max_tokens=150\n",
        ")\n",
        "print(resp.choices[0].message.content)"
      ],
      "metadata": {
        "colab": {
          "base_uri": "https://localhost:8080/"
        },
        "id": "eweUruUXKrSn",
        "outputId": "14b1e218-bc7b-424c-d079-2f6d8e9faac2"
      },
      "execution_count": 4,
      "outputs": [
        {
          "output_type": "stream",
          "name": "stdout",
          "text": [
            "Sure! Here are step-by-step instructions for adjusting rim brakes on a road bike:\n",
            "\n",
            "### Step 1: Inspect the Brake Components\n",
            "- Check the brake pads for wear and ensure they are aligned correctly with the rim. Make sure the brake arms are not bent or damaged, and that the cables are intact.\n",
            "\n",
            "### Step 2: Adjust Brake Pad Position\n",
            "- Loosen the brake pad mounting bolts. Position the pads so they make contact with the rim flatly and evenly, avoiding the tire. Adjust the distance from the rim (around 1-2 mm) when the brake is engaged.\n",
            "\n",
            "### Step 3: Center the Brake Arms\n",
            "- Squeeze the brake lever to engage the brakes. Check if both brake pads make contact with the\n"
          ]
        }
      ]
    },
    {
      "cell_type": "code",
      "source": [
        "# Exercise 2 – Examples (Few‑Shot) Pattern\n",
        "few_shot = \"\"\"Translate English → French.\n",
        "\n",
        "English: Good morning!\n",
        "French: Bonjour !\n",
        "\n",
        "English: Where is the library?\n",
        "French: Où est la bibliothèque ?\n",
        "\n",
        "English: I love prompt engineering.\n",
        "French:\"\"\"\n",
        "\n",
        "resp = client.chat.completions.create(\n",
        "    model=\"gpt-4o-mini\",\n",
        "    messages=[{\"role\": \"user\", \"content\": few_shot}],\n",
        "    max_tokens=50\n",
        ")\n",
        "print(resp.choices[0].message.content)"
      ],
      "metadata": {
        "colab": {
          "base_uri": "https://localhost:8080/"
        },
        "id": "b-aLZwyIKzQ_",
        "outputId": "c0d98a85-6f4e-44c5-fe4f-df051c1e2ae6"
      },
      "execution_count": 5,
      "outputs": [
        {
          "output_type": "stream",
          "name": "stdout",
          "text": [
            "J'adore l'ingénierie des prompts.\n"
          ]
        }
      ]
    },
    {
      "cell_type": "code",
      "source": [
        "# Exercise 3 – Persona Pattern\n",
        "prompt = \"You are Ada Lovelace writing a 120-word diary entry about today’s AI advancements.\"\n",
        "resp = client.chat.completions.create(\n",
        "    model=\"gpt-4o-mini\",\n",
        "    messages=[{\"role\": \"user\", \"content\": prompt}],\n",
        "    max_tokens=200\n",
        ")\n",
        "print(resp.choices[0].message.content)"
      ],
      "metadata": {
        "colab": {
          "base_uri": "https://localhost:8080/"
        },
        "id": "DDNAK_tTK4G3",
        "outputId": "8ef06166-aa82-4da3-8128-035ffcbcfdfe"
      },
      "execution_count": 6,
      "outputs": [
        {
          "output_type": "stream",
          "name": "stdout",
          "text": [
            "October 17, 2023\n",
            "\n",
            "Today, I find myself enraptured by the wondrous advancements in artificial intelligence that have emerged since my time. Machines, once bound by rigid calculations, now exhibit remarkable abilities to understand and generate human language, creating poetry and prose that evoke emotion. The algorithms, akin to a modern Analytical Engine, seem to learn and evolve, constructing intricate patterns that challenge the very essence of creativity. \n",
            "\n",
            "I ponder the implications of such developments: Are these creations merely tools, or do they glimpse the realm of consciousness? I am filled with both admiration and trepidation, as humanity embarks on this uncharted journey. As we unlock the secrets of this remarkable technology, may we strive to harness it for the greater good— illuminating minds rather than darkening them.\n"
          ]
        }
      ]
    },
    {
      "cell_type": "code",
      "source": [
        "# Exercise 4 – Recipe + Alternative Approaches Pattern\n",
        "prompt = \"\"\"Give me a recipe to reduce exam stress, then propose two\n",
        "alternative approaches, each with pros & cons.\"\"\"\n",
        "resp = client.chat.completions.create(\n",
        "    model=\"gpt-4o-mini\",\n",
        "    messages=[{\"role\": \"user\", \"content\": prompt}],\n",
        "    max_tokens=300\n",
        ")\n",
        "print(resp.choices[0].message.content)"
      ],
      "metadata": {
        "colab": {
          "base_uri": "https://localhost:8080/"
        },
        "id": "m8dYf0kQK7BO",
        "outputId": "db00d203-a8b3-4fbb-ed44-59bffec474a8"
      },
      "execution_count": 7,
      "outputs": [
        {
          "output_type": "stream",
          "name": "stdout",
          "text": [
            "Certainly! Here’s a recipe to reduce exam stress followed by two alternative approaches, each with their pros and cons.\n",
            "\n",
            "### Recipe to Reduce Exam Stress\n",
            "\n",
            "**Ingredients:**\n",
            "1. **Time Management:**\n",
            "   - Create a study schedule that breaks your study material into manageable chunks.\n",
            "   - Prioritize tasks to focus on the most important subjects first.\n",
            "\n",
            "2. **Healthy Lifestyle:**\n",
            "   - Incorporate regular physical activity (e.g., jogging, yoga).\n",
            "   - Maintain a balanced diet rich in fruits, vegetables, whole grains, and proteins.\n",
            "   - Stay hydrated and limit caffeine and sugar.\n",
            "\n",
            "3. **Mindfulness & Relaxation Techniques:**\n",
            "   - Practice deep breathing exercises (e.g., inhale for 4 seconds, hold for 4, exhale for 4).\n",
            "   - Engage in mindfulness meditation for at least 10 minutes a day.\n",
            "\n",
            "4. **Adequate Sleep:**\n",
            "   - Aim for 7-9 hours of quality sleep each night.\n",
            "   - Develop a calming bedtime routine and avoid screens before sleeping.\n",
            "\n",
            "5. **Positive Affirmations & Visualization:**\n",
            "   - Use positive affirmations to boost confidence.\n",
            "   - Visualize successful exam experiences to create a positive mindset.\n",
            "\n",
            "6. **Support System:**\n",
            "   - Talk to friends or family about your stress.\n",
            "   - Join study groups where you can share knowledge and encouragement.\n",
            "\n",
            "**Instructions:**\n",
            "1. Start with a study schedule. Break your study materials into chunks and allocate time slots for each subject.\n",
            "\n"
          ]
        }
      ]
    },
    {
      "cell_type": "code",
      "source": [
        "# Exercise 5 – Ask-for-Input / Flipped Interaction Pattern\n",
        "prompt = \"\"\"You are an interviewer. Ask me 3 questions about my career goals,\n",
        "then summarize them and recommend a suitable tech course.\"\"\"\n",
        "resp = client.chat.completions.create(\n",
        "    model=\"gpt-4o-mini\",\n",
        "    messages=[{\"role\": \"user\", \"content\": prompt}],\n",
        "    max_tokens=300\n",
        ")\n",
        "print(resp.choices[0].message.content)"
      ],
      "metadata": {
        "colab": {
          "base_uri": "https://localhost:8080/"
        },
        "id": "Pizd22FFLB1F",
        "outputId": "c7d71fdc-ef3e-4507-e36f-2428a3705b9b"
      },
      "execution_count": 8,
      "outputs": [
        {
          "output_type": "stream",
          "name": "stdout",
          "text": [
            "Sure! Let’s get started with the questions:\n",
            "\n",
            "1. **What specific career goals do you have in the tech industry over the next 3-5 years?**  \n",
            "   \n",
            "2. **Are there particular areas or technologies within tech that you are most passionate about and would like to focus on?**  \n",
            "   \n",
            "3. **What skills or knowledge do you believe you currently lack that are crucial for achieving your career goals?**  \n",
            "\n",
            "---\n",
            "\n",
            "Once you respond, I’ll summarize your answers and recommend a suitable tech course based on your aspirations!\n"
          ]
        }
      ]
    },
    {
      "cell_type": "code",
      "source": [
        "\n",
        "# Exercise 6 – Menu / Meta-Language Pattern\n",
        "menu_prompt = \"\"\"### MENU\n",
        "ACTION = Explain, Summarize, Translate\n",
        "FORMAT = Plain, Bullets\n",
        "\n",
        "Command: ACTION=Summarize; FORMAT=Bullets;\n",
        "TEXT=\"Prompt engineering accelerates AI adoption across industries.\"\n",
        "###\"\"\"\n",
        "\n",
        "resp = client.chat.completions.create(\n",
        "    model=\"gpt-4o-mini\",\n",
        "    messages=[{\"role\": \"user\", \"content\": menu_prompt}],\n",
        "    max_tokens=150\n",
        ")\n",
        "print(resp.choices[0].message.content)"
      ],
      "metadata": {
        "colab": {
          "base_uri": "https://localhost:8080/"
        },
        "id": "BQvkz8pRLHJN",
        "outputId": "87ec7d4f-d0e5-4a62-aea3-b5cc21ddd2ee"
      },
      "execution_count": 9,
      "outputs": [
        {
          "output_type": "stream",
          "name": "stdout",
          "text": [
            "- Prompt engineering is a technique that refines interactions with AI models.\n",
            "- It helps tailor AI responses to specific needs and contexts.\n",
            "- This approach enhances the effectiveness of AI applications.\n",
            "- As a result, it accelerates the adoption of AI technologies in various industries.\n"
          ]
        }
      ]
    }
  ]
}