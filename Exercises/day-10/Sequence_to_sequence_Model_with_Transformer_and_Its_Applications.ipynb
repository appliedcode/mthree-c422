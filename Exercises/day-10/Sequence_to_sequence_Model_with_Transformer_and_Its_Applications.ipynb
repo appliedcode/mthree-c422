{
  "nbformat": 4,
  "nbformat_minor": 0,
  "metadata": {
    "colab": {
      "provenance": []
    },
    "kernelspec": {
      "name": "python3",
      "display_name": "Python 3"
    },
    "language_info": {
      "name": "python"
    }
  },
  "cells": [
    {
      "cell_type": "code",
      "execution_count": 3,
      "metadata": {
        "colab": {
          "base_uri": "https://localhost:8080/"
        },
        "id": "AC6tqb54nfy2",
        "outputId": "1e6bf035-8bfb-41de-fc37-e7280ff3b925"
      },
      "outputs": [
        {
          "output_type": "stream",
          "name": "stdout",
          "text": [
            "Original (English): He works at Apple and eats an apple every day.\n",
            "\n",
            "Translated (French): Il travaille chez Apple et mange une pomme tous les jours.\n",
            "Original (English): A cat is a pet animal \n",
            "\n",
            "Translated (French): Un chat est un animal de compagnie\n"
          ]
        }
      ],
      "source": [
        "# Import the necessary Libraries\n",
        "import warnings\n",
        "warnings.filterwarnings(\"ignore\", category=UserWarning)\n",
        "from transformers import pipeline, logging\n",
        "\n",
        "# Suppress warnings from transformers\n",
        "logging.set_verbosity_error()\n",
        "\n",
        "# Load the translation pipeline (English to French)\n",
        "translator = pipeline(\"translation_en_to_fr\", model=\"Helsinki-NLP/opus-mt-en-fr\")\n",
        "\n",
        "# Input sentence\n",
        "text = \"He works at Apple and eats an apple every day.\"\n",
        "address=\"A cat is a pet animal \"\n",
        "\n",
        "# Translate the sentence\n",
        "translated = translator(text, max_length=50)\n",
        "translated1 = translator(address, max_length=50)\n",
        "# Print the result\n",
        "print(\"Original (English):\", text)\n",
        "print(\"\\nTranslated (French):\", translated[0]['translation_text'])\n",
        "\n",
        "print(\"Original (English):\", address)\n",
        "print(\"\\nTranslated (French):\", translated1[0]['translation_text'])"
      ]
    },
    {
      "cell_type": "code",
      "source": [],
      "metadata": {
        "id": "iFzqFjRdnlt5"
      },
      "execution_count": null,
      "outputs": []
    }
  ]
}