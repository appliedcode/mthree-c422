{
  "nbformat": 4,
  "nbformat_minor": 0,
  "metadata": {
    "colab": {
      "provenance": [],
      "authorship_tag": "ABX9TyO9O1wfXmY+zfj4yS35EYNr",
      "include_colab_link": true
    },
    "kernelspec": {
      "name": "python3",
      "display_name": "Python 3"
    },
    "language_info": {
      "name": "python"
    }
  },
  "cells": [
    {
      "cell_type": "markdown",
      "metadata": {
        "id": "view-in-github",
        "colab_type": "text"
      },
      "source": [
        "<a href=\"https://colab.research.google.com/github/appliedcode/mthree-c422/blob/mthree-422-srilatha/Forward_selection.ipynb\" target=\"_parent\"><img src=\"https://colab.research.google.com/assets/colab-badge.svg\" alt=\"Open In Colab\"/></a>"
      ]
    },
    {
      "cell_type": "code",
      "execution_count": null,
      "metadata": {
        "id": "VfIHoiYJUUvd"
      },
      "outputs": [],
      "source": [
        "import pandas as pd\n",
        "from sklearn.datasets import load_breast_cancer\n",
        "from sklearn.linear_model import LogisticRegression\n",
        "from sklearn.feature_selection import SequentialFeatureSelector\n",
        "from sklearn.model_selection import train_test_split\n",
        "from sklearn.metrics import accuracy_score\n",
        "from sklearn.feature_selection import SequentialFeatureSelector\n",
        "from sklearn.model_selection import train_test_split, cross_val_score, StratifiedKFold\n",
        "from sklearn.metrics import (\n",
        "    accuracy_score, precision_score, recall_score, roc_auc_score,\n",
        "    classification_report, roc_curve\n",
        ")"
      ]
    },
    {
      "cell_type": "code",
      "source": [
        "# Load data\n",
        "X, y = load_breast_cancer(return_X_y=True)\n",
        "X = pd.DataFrame(X)"
      ],
      "metadata": {
        "id": "G5Vaucj8VhSm"
      },
      "execution_count": null,
      "outputs": []
    },
    {
      "cell_type": "code",
      "source": [
        "# Split dataset into train and test\n",
        "X_train, X_test, y_train, y_test = train_test_split(X, y, random_state=42)"
      ],
      "metadata": {
        "id": "Qfjjuq2NV44h"
      },
      "execution_count": null,
      "outputs": []
    },
    {
      "cell_type": "code",
      "source": [
        "\n",
        "# Create logistic regression model\n",
        "model = LogisticRegression(max_iter=5000)"
      ],
      "metadata": {
        "id": "KtT6DcYkV-k-"
      },
      "execution_count": null,
      "outputs": []
    },
    {
      "cell_type": "code",
      "source": [
        "# Forward Selection: add features one by one that improve model performance\n",
        "sfs_forward = SequentialFeatureSelector(\n",
        "    model, n_features_to_select=5, direction='forward'\n",
        ")\n",
        "sfs_forward.fit(X_train, y_train)\n",
        "\n",
        "selected_features = X.columns[sfs_forward.get_support()]\n",
        "print(\"Forward Selection Chosen Features:\", list(selected_features))"
      ],
      "metadata": {
        "colab": {
          "base_uri": "https://localhost:8080/"
        },
        "id": "XWvyM9UAWEqi",
        "outputId": "210d411d-6476-4ff6-8376-37471159d667"
      },
      "execution_count": null,
      "outputs": [
        {
          "output_type": "stream",
          "name": "stdout",
          "text": [
            "Forward Selection Chosen Features: [0, 2, 21, 22, 25]\n"
          ]
        }
      ]
    },
    {
      "cell_type": "code",
      "source": [
        "\n",
        "# Train model with selected features and evaluate\n",
        "model.fit(X_train[selected_features], y_train)\n",
        "y_pred = model.predict(X_test[selected_features])\n",
        "acc = accuracy_score(y_test, y_pred)\n",
        "\n",
        "print(f\"Accuracy with Forward Selection (5 features): {acc:.4f}\")\n"
      ],
      "metadata": {
        "colab": {
          "base_uri": "https://localhost:8080/"
        },
        "id": "6goHBs8DWL7b",
        "outputId": "fd09bb9d-7c49-421d-cd34-6763ad46e6ac"
      },
      "execution_count": null,
      "outputs": [
        {
          "output_type": "stream",
          "name": "stdout",
          "text": [
            "Accuracy with Forward Selection (5 features): 0.9720\n"
          ]
        }
      ]
    },
    {
      "cell_type": "code",
      "source": [
        "best_k, best_acc = None, 0\n",
        "for k in range(1, 5):\n",
        "    sfs = SequentialFeatureSelector(\n",
        "        model, n_features_to_select=k, direction='forward'\n",
        "    ).fit(X_train, y_train)\n",
        "    feats = X_train.columns[sfs.get_support()]\n",
        "    model.fit(X_train[feats], y_train)\n",
        "    acc = accuracy_score(y_test, model.predict(X_test[feats]))\n",
        "    if acc > best_acc:\n",
        "        best_acc, best_k = acc, k\n",
        "\n",
        "print(f\"Optimal k: {best_k} features → Accuracy: {best_acc:.4f}\")"
      ],
      "metadata": {
        "colab": {
          "base_uri": "https://localhost:8080/"
        },
        "id": "Yt2pp_-aWppa",
        "outputId": "6f894e70-290b-4ea6-e315-0810fe1a1459"
      },
      "execution_count": null,
      "outputs": [
        {
          "output_type": "stream",
          "name": "stdout",
          "text": [
            "Optimal k: 2 features → Accuracy: 0.9720\n"
          ]
        }
      ]
    },
    {
      "cell_type": "code",
      "source": [
        "best_k, best_acc = None, 0\n",
        "for k in range(3, 5):\n",
        "    sfs = SequentialFeatureSelector(\n",
        "        model, n_features_to_select=k, direction='forward'\n",
        "    ).fit(X_train, y_train)\n",
        "    feats = X_train.columns[sfs.get_support()]\n",
        "    model.fit(X_train[feats], y_train)\n",
        "    acc = accuracy_score(y_test, model.predict(X_test[feats]))\n",
        "    if acc > best_acc:\n",
        "        best_acc, best_k = acc, k\n",
        "\n",
        "print(f\"Optimal k: {best_k} features → Accuracy: {best_acc:.2f}\")"
      ],
      "metadata": {
        "colab": {
          "base_uri": "https://localhost:8080/"
        },
        "id": "uD5f5kQCaVyB",
        "outputId": "0f80c558-4804-4dd0-ea76-961ec038f81e"
      },
      "execution_count": null,
      "outputs": [
        {
          "output_type": "stream",
          "name": "stdout",
          "text": [
            "Optimal k: 3 features → Accuracy: 0.97\n"
          ]
        }
      ]
    },
    {
      "cell_type": "code",
      "source": [
        "from sklearn.model_selection import StratifiedKFold, cross_val_score\n",
        "\n",
        "kf = StratifiedKFold(n_splits=5, shuffle=True, random_state= 42)\n",
        "sfs = SequentialFeatureSelector(\n",
        "    model,\n",
        "    n_features_to_select=5,\n",
        "    direction='forward',\n",
        "    cv=kf,\n",
        "    scoring='accuracy'\n",
        ").fit(X, y)\n",
        "\n",
        "feats = X.columns[sfs.get_support()]\n",
        "scores = cross_val_score(model.fit(X[feats], y), X[feats], y, cv=kf)\n",
        "print(f\"Selected: {list(feats)}\")\n",
        "print(f\"CV Accuracy: {scores.mean():.4f} ± {scores.std():.4f}\")"
      ],
      "metadata": {
        "colab": {
          "base_uri": "https://localhost:8080/"
        },
        "id": "rn7VdGu1bpex",
        "outputId": "4b4d7e33-8b3b-46c0-94e3-3a027c6ff8c9"
      },
      "execution_count": null,
      "outputs": [
        {
          "output_type": "stream",
          "name": "stdout",
          "text": [
            "Selected: [3, 4, 20, 21, 26]\n",
            "CV Accuracy: 0.9543 ± 0.0195\n"
          ]
        }
      ]
    },
    {
      "cell_type": "code",
      "source": [
        "from sklearn.model_selection import StratifiedKFold, cross_val_score\n",
        "\n",
        "kf = StratifiedKFold(n_splits=5, shuffle=True, random_state=50)\n",
        "sfs = SequentialFeatureSelector(\n",
        "    model,\n",
        "    n_features_to_select=4,\n",
        "    cv=kf,\n",
        "    scoring='accuracy'\n",
        ").fit(X, y)\n",
        "\n",
        "feats = X.columns[sfs.get_support()]\n",
        "scores = cross_val_score(model.fit(X[feats], y), X[feats], y, cv=kf)\n",
        "print(f\"Selected: {list(feats)}\")\n",
        "print(f\"CV Accuracy: {scores.mean():.4f} ± {scores.std():.4f}\")"
      ],
      "metadata": {
        "colab": {
          "base_uri": "https://localhost:8080/"
        },
        "id": "Klgnt8iOf9_d",
        "outputId": "c264532f-8f69-43cc-9bcc-03c13a73d8ba"
      },
      "execution_count": null,
      "outputs": [
        {
          "output_type": "stream",
          "name": "stdout",
          "text": [
            "Selected: [11, 20, 21, 26]\n",
            "CV Accuracy: 0.9543 ± 0.0128\n"
          ]
        }
      ]
    },
    {
      "cell_type": "code",
      "source": [
        "# F1-score based forward selection\n",
        "sfs_f1 = SequentialFeatureSelector(\n",
        "    model, n_features_to_select=5,\n",
        "    direction='forward',\n",
        "    scoring='f1'\n",
        ").fit(X_train, y_train)\n",
        "\n",
        "feats_f1 = X_train.columns[sfs_f1.get_support()]\n",
        "model.fit(X_train[feats_f1], y_train)\n",
        "print(\"F1-based features:\", list(feats_f1))\n",
        "print(\"Test F1:\", precision_score(y_test, model.predict(X_test[feats_f1]), average='binary'))\n"
      ],
      "metadata": {
        "colab": {
          "base_uri": "https://localhost:8080/"
        },
        "id": "_-GDsQt5gb6D",
        "outputId": "c4ae36fa-0c69-4480-a2bc-2031304bf15f"
      },
      "execution_count": null,
      "outputs": [
        {
          "output_type": "stream",
          "name": "stdout",
          "text": [
            "F1-based features: [4, 5, 20, 21, 26]\n",
            "Test F1: 0.967032967032967\n"
          ]
        }
      ]
    },
    {
      "cell_type": "code",
      "source": [
        "from sklearn.datasets import load_iris\n",
        "\n",
        "X2, y2 = load_iris(return_X_y=True, as_frame=True)\n",
        "model = LogisticRegression(max_iter=5000)\n",
        "X2_train, X2_test, y2_train, y2_test = train_test_split(X2, y2, random_state=42)\n",
        "\n",
        "sfs_iris = SequentialFeatureSelector(\n",
        "    model, n_features_to_select=2, direction='forward'\n",
        ").fit(X2_train, y2_train)\n",
        "\n",
        "feats_iris = X2.columns[sfs_iris.get_support()]\n",
        "model.fit(X2_train[feats_iris], y2_train)\n",
        "acc2 = accuracy_score(y2_test, model.predict(X2_test[feats_iris]))\n",
        "print(\"Iris selected features:\", list(feats_iris))\n",
        "print(f\"Iris accuracy: {acc2:.4f}\")\n"
      ],
      "metadata": {
        "colab": {
          "base_uri": "https://localhost:8080/"
        },
        "id": "piZmV-ylkFXn",
        "outputId": "c44b549d-5231-4800-8ca1-0562584ac205"
      },
      "execution_count": null,
      "outputs": [
        {
          "output_type": "stream",
          "name": "stdout",
          "text": [
            "Iris selected features: ['petal length (cm)', 'petal width (cm)']\n",
            "Iris accuracy: 1.0000\n"
          ]
        }
      ]
    },
    {
      "cell_type": "markdown",
      "source": [],
      "metadata": {
        "id": "nIUswE0nfEWr"
      }
    }
  ]
}