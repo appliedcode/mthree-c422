{
  "nbformat": 4,
  "nbformat_minor": 0,
  "metadata": {
    "colab": {
      "provenance": []
    },
    "kernelspec": {
      "name": "python3",
      "display_name": "Python 3"
    },
    "language_info": {
      "name": "python"
    }
  },
  "cells": [
    {
      "cell_type": "code",
      "execution_count": 1,
      "metadata": {
        "id": "LxpXeXyC_fx7"
      },
      "outputs": [],
      "source": [
        "!pip install scikit-learn -q\n",
        "\n",
        "import numpy as np\n",
        "from sklearn.metrics import precision_score, recall_score, f1_score, classification_report"
      ]
    },
    {
      "cell_type": "code",
      "source": [
        "# Simulate Classification Results\n",
        "# Let's create dummy data to simulate predictions from a binary classification model.\n",
        "# True labels\n",
        "y_true = np.array([0, 1, 1, 1, 0, 0, 1, 0, 1, 1])\n",
        "\n",
        "# Predicted labels by a model\n",
        "y_pred = np.array([0, 0, 1, 1, 0, 1, 1, 0, 1, 0])\n",
        "\n",
        "print(\"True labels:\", y_true)\n",
        "print(\"Predicted labels:\", y_pred)"
      ],
      "metadata": {
        "colab": {
          "base_uri": "https://localhost:8080/"
        },
        "id": "T_BDdSOK_sFL",
        "outputId": "a2bd4ab1-0044-4f38-c2e8-ac0183c92562"
      },
      "execution_count": 8,
      "outputs": [
        {
          "output_type": "stream",
          "name": "stdout",
          "text": [
            "True labels: [0 1 1 1 0 0 1 0 1 1]\n",
            "Predicted labels: [0 0 1 1 0 1 1 0 1 1]\n"
          ]
        }
      ]
    },
    {
      "cell_type": "code",
      "source": [
        "# Calculate Precision, Recall, and F1-score\n",
        "# Precision: Out of predicted positives, how many were correct?\n",
        "precision = precision_score(y_true, y_pred)\n",
        "\n",
        "# Recall: Out of actual positives, how many did we find?\n",
        "recall = recall_score(y_true, y_pred)\n",
        "\n",
        "# F1-score: Harmonic mean of precision and recall\n",
        "f1 = f1_score(y_true, y_pred)\n",
        "\n",
        "print(f\"Precision: {precision:.2f}\")\n",
        "print(f\"Recall:    {recall:.2f}\")\n",
        "print(f\"F1-score:  {f1:.2f}\")"
      ],
      "metadata": {
        "colab": {
          "base_uri": "https://localhost:8080/"
        },
        "id": "GFEw842j_vfb",
        "outputId": "80bbb3e6-092a-4a39-ab2e-fd7d6cf0ac62"
      },
      "execution_count": 10,
      "outputs": [
        {
          "output_type": "stream",
          "name": "stdout",
          "text": [
            "Precision: 0.83\n",
            "Recall:    0.83\n",
            "F1-score:  0.83\n"
          ]
        }
      ]
    },
    {
      "cell_type": "code",
      "source": [
        "# Generate a Full Classification Report\n",
        "# Provides metrics for both classes, along with support (number of samples for each class)\n",
        "print(classification_report(y_true, y_pred, target_names=[\"Class 0\", \"Class 1\"]))"
      ],
      "metadata": {
        "colab": {
          "base_uri": "https://localhost:8080/"
        },
        "id": "DMtvXKXc_0M5",
        "outputId": "67effff2-4152-4e21-9262-26d447e11f8d"
      },
      "execution_count": 4,
      "outputs": [
        {
          "output_type": "stream",
          "name": "stdout",
          "text": [
            "              precision    recall  f1-score   support\n",
            "\n",
            "     Class 0       0.60      0.75      0.67         4\n",
            "     Class 1       0.80      0.67      0.73         6\n",
            "\n",
            "    accuracy                           0.70        10\n",
            "   macro avg       0.70      0.71      0.70        10\n",
            "weighted avg       0.72      0.70      0.70        10\n",
            "\n"
          ]
        }
      ]
    },
    {
      "cell_type": "code",
      "source": [
        "from sklearn.metrics import ConfusionMatrixDisplay, confusion_matrix\n",
        "import matplotlib.pyplot as plt\n",
        "\n",
        "# Compute confusion matrix\n",
        "cm = confusion_matrix(y_true, y_pred)\n",
        "\n",
        "# Display it\n",
        "disp = ConfusionMatrixDisplay(confusion_matrix=cm, display_labels=[\"Class 0\", \"Class 1\"])\n",
        "disp.plot(cmap=plt.cm.Blues)\n",
        "plt.title(\"Confusion Matrix\")\n",
        "plt.show()\n"
      ],
      "metadata": {
        "colab": {
          "base_uri": "https://localhost:8080/",
          "height": 472
        },
        "id": "TV8L6O9sAHYr",
        "outputId": "fc0fb8ba-cb99-4cb2-d910-80d9d07c5eae"
      },
      "execution_count": 11,
      "outputs": [
        {
          "output_type": "display_data",
          "data": {
            "text/plain": [
              "<Figure size 640x480 with 2 Axes>"
            ],
            "image/png": "[encoded data removed]"
          },
          "metadata": {}
        }
      ]
    },
    {
      "cell_type": "code",
      "source": [
        "# Perfect match between prediction and true labels\n",
        "y_true = np.array([0, 1, 0, 1, 1, 0])\n",
        "y_pred = np.array([0, 1, 0, 1, 1, 0])\n",
        "\n",
        "from sklearn.metrics import precision_score, recall_score, f1_score, classification_report\n",
        "\n",
        "print(\"True labels:\", y_true)\n",
        "print(\"Predicted labels:\", y_pred)\n",
        "\n",
        "precision = precision_score(y_true, y_pred)\n",
        "recall = recall_score(y_true, y_pred)\n",
        "f1 = f1_score(y_true, y_pred)\n",
        "\n",
        "print(f\"Precision: {precision:.2f}\")\n",
        "print(f\"Recall:    {recall:.2f}\")\n",
        "print(f\"F1-score:  {f1:.2f}\")\n",
        "\n",
        "print(\"\\nClassification Report:\")\n",
        "print(classification_report(y_true, y_pred, target_names=[\"Class 0\", \"Class 1\"]))\n"
      ],
      "metadata": {
        "colab": {
          "base_uri": "https://localhost:8080/"
        },
        "id": "iULanyhEAaTh",
        "outputId": "1ed59bdc-6aee-4e4b-dd76-b574172f44e0"
      },
      "execution_count": 14,
      "outputs": [
        {
          "output_type": "stream",
          "name": "stdout",
          "text": [
            "True labels: [0 1 0 1 1 0]\n",
            "Predicted labels: [0 1 0 1 1 0]\n",
            "Precision: 1.00\n",
            "Recall:    1.00\n",
            "F1-score:  1.00\n",
            "\n",
            "Classification Report:\n",
            "              precision    recall  f1-score   support\n",
            "\n",
            "     Class 0       1.00      1.00      1.00         3\n",
            "     Class 1       1.00      1.00      1.00         3\n",
            "\n",
            "    accuracy                           1.00         6\n",
            "   macro avg       1.00      1.00      1.00         6\n",
            "weighted avg       1.00      1.00      1.00         6\n",
            "\n"
          ]
        }
      ]
    },
    {
      "cell_type": "code",
      "source": [
        "y_true = np.array([0, 1, 1, 1, 1, 1])\n",
        "y_pred = np.array([0, 1, 0, 0, 0, 1])\n",
        "\n",
        "\n",
        "from sklearn.metrics import precision_score, recall_score, f1_score, classification_report\n",
        "\n",
        "print(\"True labels:\", y_true)\n",
        "print(\"Predicted labels:\", y_pred)\n",
        "\n",
        "precision = precision_score(y_true, y_pred)\n",
        "recall = recall_score(y_true, y_pred)\n",
        "f1 = f1_score(y_true, y_pred)\n",
        "\n",
        "print(f\"Precision: {precision:.2f}\")\n",
        "print(f\"Recall:    {recall:.2f}\")\n",
        "print(f\"F1-score:  {f1:.2f}\")\n",
        "\n",
        "print(\"\\nClassification Report:\")\n",
        "print(classification_report(y_true, y_pred, target_names=[\"Class 0\", \"Class 1\"]))\n"
      ],
      "metadata": {
        "colab": {
          "base_uri": "https://localhost:8080/"
        },
        "id": "aCSsAgd2BEjl",
        "outputId": "94a591e3-c5d3-456d-b258-5cc751daca7e"
      },
      "execution_count": 15,
      "outputs": [
        {
          "output_type": "stream",
          "name": "stdout",
          "text": [
            "True labels: [0 1 1 1 1 1]\n",
            "Predicted labels: [0 1 0 0 0 1]\n",
            "Precision: 1.00\n",
            "Recall:    0.40\n",
            "F1-score:  0.57\n",
            "\n",
            "Classification Report:\n",
            "              precision    recall  f1-score   support\n",
            "\n",
            "     Class 0       0.25      1.00      0.40         1\n",
            "     Class 1       1.00      0.40      0.57         5\n",
            "\n",
            "    accuracy                           0.50         6\n",
            "   macro avg       0.62      0.70      0.49         6\n",
            "weighted avg       0.88      0.50      0.54         6\n",
            "\n"
          ]
        }
      ]
    },
    {
      "cell_type": "code",
      "source": [
        "y_true = np.array([0, 1, 0, 1, 1, 0])\n",
        "y_pred = np.array([1, 1, 1, 1, 1, 1])\n",
        "\n",
        "from sklearn.metrics import precision_score, recall_score, f1_score, classification_report\n",
        "\n",
        "print(\"True labels:\", y_true)\n",
        "print(\"Predicted labels:\", y_pred)\n",
        "\n",
        "precision = precision_score(y_true, y_pred)\n",
        "recall = recall_score(y_true, y_pred)\n",
        "f1 = f1_score(y_true, y_pred)\n",
        "\n",
        "print(f\"Precision: {precision:.2f}\")\n",
        "print(f\"Recall:    {recall:.2f}\")\n",
        "print(f\"F1-score:  {f1:.2f}\")\n",
        "\n",
        "print(\"\\nClassification Report:\")\n",
        "print(classification_report(y_true, y_pred, target_names=[\"Class 0\", \"Class 1\"]))\n"
      ],
      "metadata": {
        "colab": {
          "base_uri": "https://localhost:8080/"
        },
        "id": "FweEseRfBQVv",
        "outputId": "70a8d3b1-a3d7-47f5-d97c-059d046a3fe6"
      },
      "execution_count": 16,
      "outputs": [
        {
          "output_type": "stream",
          "name": "stdout",
          "text": [
            "True labels: [0 1 0 1 1 0]\n",
            "Predicted labels: [1 1 1 1 1 1]\n",
            "Precision: 0.50\n",
            "Recall:    1.00\n",
            "F1-score:  0.67\n",
            "\n",
            "Classification Report:\n",
            "              precision    recall  f1-score   support\n",
            "\n",
            "     Class 0       0.00      0.00      0.00         3\n",
            "     Class 1       0.50      1.00      0.67         3\n",
            "\n",
            "    accuracy                           0.50         6\n",
            "   macro avg       0.25      0.50      0.33         6\n",
            "weighted avg       0.25      0.50      0.33         6\n",
            "\n"
          ]
        },
        {
          "output_type": "stream",
          "name": "stderr",
          "text": [
            "/usr/local/lib/python3.11/dist-packages/sklearn/metrics/_classification.py:1565: UndefinedMetricWarning: Precision is ill-defined and being set to 0.0 in labels with no predicted samples. Use `zero_division` parameter to control this behavior.\n",
            "  _warn_prf(average, modifier, f\"{metric.capitalize()} is\", len(result))\n",
            "/usr/local/lib/python3.11/dist-packages/sklearn/metrics/_classification.py:1565: UndefinedMetricWarning: Precision is ill-defined and being set to 0.0 in labels with no predicted samples. Use `zero_division` parameter to control this behavior.\n",
            "  _warn_prf(average, modifier, f\"{metric.capitalize()} is\", len(result))\n",
            "/usr/local/lib/python3.11/dist-packages/sklearn/metrics/_classification.py:1565: UndefinedMetricWarning: Precision is ill-defined and being set to 0.0 in labels with no predicted samples. Use `zero_division` parameter to control this behavior.\n",
            "  _warn_prf(average, modifier, f\"{metric.capitalize()} is\", len(result))\n"
          ]
        }
      ]
    },
    {
      "cell_type": "markdown",
      "source": [
        "High Precision means -> When the model says something is positive, it's usually right.\n",
        "High Recall means -> The model finds most of the actual positives"
      ],
      "metadata": {
        "id": "H2p2uFt8BeUf"
      }
    },
    {
      "cell_type": "code",
      "source": [],
      "metadata": {
        "id": "6IngMOAwBvp9"
      },
      "execution_count": null,
      "outputs": []
    }
  ]
}