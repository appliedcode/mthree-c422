{
  "cells": [
    {
      "cell_type": "markdown",
      "metadata": {
        "id": "view-in-github",
        "colab_type": "text"
      },
      "source": [
        "<a href=\"https://colab.research.google.com/github/appliedcode/mthree-c422/blob/mthree-422-salleh/Exercises/day-11/Prompt-Essential/prompt-output.ipynb\" target=\"_parent\"><img src=\"https://colab.research.google.com/assets/colab-badge.svg\" alt=\"Open In Colab\"/></a>"
      ]
    },
    {
      "cell_type": "markdown",
      "source": [
        "# 🧪 Colab Lab: Mastering Prompt Structure\n",
        "\n"
      ],
      "metadata": {
        "id": "hFnkDgKDTUgk"
      }
    },
    {
      "cell_type": "code",
      "source": [
        "!pip install --quiet openai\n",
        "\n",
        "from google.colab import userdata\n",
        "import os\n",
        "from openai import OpenAI\n",
        "\n",
        "api_key = userdata.get('OPENAI_API_KEY')\n",
        "if not api_key:\n",
        "    raise ValueError(\"❌ API key not found. Please set with userdata.set(...)\")\n",
        "\n",
        "os.environ[\"OPENAI_API_KEY\"] = api_key\n",
        "client = OpenAI(api_key=os.environ[\"OPENAI_API_KEY\"])\n"
      ],
      "metadata": {
        "id": "b-MrRDkKZxI6"
      },
      "execution_count": null,
      "outputs": []
    },
    {
      "cell_type": "code",
      "source": [
        "# Setup\n",
        "def gpt_request(prompt, model=\"gpt-4o-mini\", temperature=0.7):\n",
        "    \"\"\"Send a prompt to GPT-4o-mini and return the response\"\"\"\n",
        "    response = client.chat.completions.create(\n",
        "        model=model,\n",
        "        messages=[{\"role\": \"user\", \"content\": prompt}],\n",
        "        temperature=temperature,\n",
        "        max_tokens=1000\n",
        "    )\n",
        "    return response.choices[0].message.content\n",
        "\n",
        "# Test the connection\n",
        "print(\"✅ Connected to GPT-4o-mini!\")\n",
        "print(gpt_request(\"Say hello and confirm you are GPT-4o-mini\"))"
      ],
      "metadata": {
        "id": "AMu0nG8RUleT",
        "outputId": "058d8745-9746-42a0-f5ce-83bb1f72fe33",
        "colab": {
          "base_uri": "https://localhost:8080/"
        }
      },
      "execution_count": null,
      "outputs": [
        {
          "output_type": "stream",
          "name": "stdout",
          "text": [
            "✅ Connected to GPT-4o-mini!\n",
            "Hello! I'm here to assist you. However, I am based on the GPT-4 architecture, not specifically \"GPT-4o-mini.\" How can I help you today?\n"
          ]
        }
      ]
    },
    {
      "cell_type": "markdown",
      "source": [
        "# Exercise 1: Text Generation"
      ],
      "metadata": {
        "id": "5-bxrnHZUcZ_"
      }
    },
    {
      "cell_type": "code",
      "source": [
        "# Part A: Explanation\n",
        "prompt = \"Explain quantum computing to a 12-year-old in simple terms.\"\n",
        "response = gpt_request(prompt)\n",
        "print(\"🧒 For 12-year-old:\")\n",
        "print(response)\n",
        "print(\"\\n\" + \"=\"*50 + \"\\n\")\n",
        "\n",
        "# Student Task: Try different age groups\n",
        "prompt_5yr = \"Explain quantum computing to a 5-year-old in very simple terms.\"\n",
        "response_5yr = gpt_request(prompt_5yr)\n",
        "print(\"👶 For 5-year-old:\")\n",
        "print(response_5yr)\n",
        "print(\"\\n\" + \"=\"*50 + \"\\n\")\n",
        "\n",
        "prompt_college = \"Explain quantum computing to a college student studying computer science.\"\n",
        "response_college = gpt_request(prompt_college)\n",
        "print(\"🎓 For college student:\")\n",
        "print(response_college)\n"
      ],
      "metadata": {
        "id": "RhihJQzaUdlH",
        "outputId": "bed91c51-a72c-4c0e-efd1-34f40e830664",
        "colab": {
          "base_uri": "https://localhost:8080/"
        }
      },
      "execution_count": null,
      "outputs": [
        {
          "output_type": "stream",
          "name": "stdout",
          "text": [
            "🧒 For 12-year-old:\n",
            "Sure! Imagine you have a really big library filled with books, and you want to find one specific book. If you look for it the regular way, you have to check each book one by one, which can take a long time. This is kind of like how regular computers work—they look at one option at a time.\n",
            "\n",
            "Now, think of quantum computers as having special powers! Instead of checking one book at a time, they can look at many books at once. This is because they use tiny particles called qubits, which can be both \"on\" and \"off\" at the same time, unlike regular bits that are either \"on\" (1) or \"off\" (0). This special ability helps them solve certain problems much faster than regular computers.\n",
            "\n",
            "So, in simple terms, quantum computing is like having a magical library helper that can find the book you want super quickly by looking at many possibilities at once!\n",
            "\n",
            "==================================================\n",
            "\n",
            "👶 For 5-year-old:\n",
            "Okay! Imagine you have a really big toy box full of all your favorite toys. If you want to find your favorite toy car, you have to look through the box one toy at a time. That can take a long time!\n",
            "\n",
            "Now, think about a magic toy box that can look at all the toys at once! It can find your toy car much faster, like a superhero! \n",
            "\n",
            "Quantum computing is like that magic toy box. Instead of looking at things one by one, it can look at lots of things all at the same time. That helps it solve really hard problems super quickly!\n",
            "\n",
            "==================================================\n",
            "\n",
            "🎓 For college student:\n",
            "Certainly! Let's break down quantum computing into digestible concepts.\n",
            "\n",
            "### Classical vs Quantum Computing\n",
            "\n",
            "1. **Classical Computing**: \n",
            "   - Classical computers (like the one you're using) process information using bits, which can be either 0 or 1. All types of operations and data processing in classical computing rely on combinations of these bits.\n",
            "   - Operations are performed using logic gates, and the processing follows a linear path.\n",
            "\n",
            "2. **Quantum Computing**: \n",
            "   - Quantum computers, on the other hand, use **quantum bits**, or **qubits**. Unlike classical bits, qubits can exist in a state of 0, 1, or both simultaneously, thanks to the principles of superposition and entanglement.\n",
            "   - **Superposition** allows qubits to perform multiple calculations at once. For instance, while a classical bit can be in one state at a time, a qubit can represent many combinations of states simultaneously, leading to exponential growth in computational power for certain tasks.\n",
            "\n",
            "### Key Concepts of Quantum Computing\n",
            "\n",
            "1. **Qubits**:\n",
            "   - A qubit is the fundamental unit of quantum information. It can be represented physically using atoms, photons, or superconducting circuits.\n",
            "\n",
            "2. **Superposition**:\n",
            "   - This is the ability of a qubit to be in a combination of both 0 and 1 at the same time. When measured, it will collapse to one of the states, but until then, it can represent both states, allowing parallelism in computations.\n",
            "\n",
            "3. **Entanglement**:\n",
            "   - Qubits can be entangled, meaning the state of one qubit can depend on the state of another, no matter how far apart they are. This correlation can be used to perform complex operations more efficiently than classical computing.\n",
            "\n",
            "4. **Quantum Gates**:\n",
            "   - Just as classical computers use logic gates (AND, OR, NOT), quantum computers use quantum gates to manipulate qubits. These gates change the probability amplitudes of the qubit states and can create complex operations through their interactions.\n",
            "\n",
            "5. **Quantum Algorithms**:\n",
            "   - Some algorithms, like Shor's algorithm (for factoring large numbers) and Grover's algorithm (for searching unsorted databases), can outperform their classical counterparts significantly. This indicates the potential for quantum computing to tackle problems that are currently intractable for classical computers.\n",
            "\n",
            "### Applications of Quantum Computing\n",
            "\n",
            "1. **Cryptography**: Quantum computers could break many of the cryptographic systems currently in use by efficiently factoring large numbers.\n",
            "2. **Optimization Problems**: They can solve complex optimization problems in logistics, finance, and machine learning more efficiently than classical methods.\n",
            "3. **Material Science**: Simulating molecular structures and quantum systems could lead to breakthroughs in materials and drug discovery.\n",
            "\n",
            "### Challenges\n",
            "\n",
            "1. **Decoherence**: Qubits are sensitive to their environment, and interaction with external factors can cause them to lose their quantum state. This makes maintaining qubits in a coherent state challenging.\n",
            "2. **Error Rates**: Quantum operations currently have higher error rates than classical operations, requiring error correction methods that are still being developed.\n",
            "\n",
            "### Conclusion\n",
            "\n",
            "Quantum computing represents a fundamentally different approach to computation, leveraging the principles of quantum mechanics to process information in ways that classical computers cannot. While still in its infancy, the potential for quantum computing is enormous and could revolutionize various fields in the coming years. As a computer science student, understanding these concepts can prepare you for future developments in technology and algorithms that exploit the power of quantum mechanics.\n"
          ]
        }
      ]
    },
    {
      "cell_type": "code",
      "source": [
        "# Part B: Short Essay\n",
        "prompt = \"Write a 150-word essay on the importance of clean water access worldwide.\"\n",
        "response = gpt_request(prompt)\n",
        "print(\"📝 Clean Water Essay:\")\n",
        "print(response)\n",
        "print(f\"\\nWord count: {len(response.split())}\")\n"
      ],
      "metadata": {
        "id": "GUFaHPxGUo05",
        "outputId": "2ed95102-03a1-4f96-d1fb-c7430793bcbb",
        "colab": {
          "base_uri": "https://localhost:8080/"
        }
      },
      "execution_count": null,
      "outputs": [
        {
          "output_type": "stream",
          "name": "stdout",
          "text": [
            "📝 Clean Water Essay:\n",
            "Access to clean water is a fundamental human right and a cornerstone for public health, economic development, and environmental sustainability. Approximately 2 billion people worldwide lack reliable access to safe drinking water, leading to dire consequences such as waterborne diseases, malnutrition, and increased mortality rates, particularly among children. Clean water is essential for sanitation and hygiene, directly impacting community health and reducing the burden on healthcare systems.\n",
            "\n",
            "Furthermore, clean water access plays a vital role in economic development. It enables agricultural productivity, promotes food security, and supports local industries. Communities with reliable water sources experience improved educational outcomes, as children, especially girls, spend less time collecting water and more time in school.\n",
            "\n",
            "Moreover, addressing water scarcity and pollution is crucial for environmental conservation, as healthy ecosystems depend on clean water. Promoting equitable access to clean water is not only a moral imperative but also a pathway to achieving sustainable development goals and fostering global stability.\n",
            "\n",
            "Word count: 155\n"
          ]
        }
      ]
    },
    {
      "cell_type": "code",
      "source": [
        "# Part C: Email Draft\n",
        "prompt = \"\"\"Write a formal email to Professor Johnson requesting a 3-day extension\n",
        "on the final project due to illness. Include appropriate subject line.\"\"\"\n",
        "response = gpt_request(prompt)\n",
        "print(\"📧 Email Draft:\")\n",
        "print(response)\n"
      ],
      "metadata": {
        "id": "ZgVryP2JUqcr",
        "outputId": "ea056c57-329d-4338-d962-54f5729da6cd",
        "colab": {
          "base_uri": "https://localhost:8080/"
        }
      },
      "execution_count": null,
      "outputs": [
        {
          "output_type": "stream",
          "name": "stdout",
          "text": [
            "📧 Email Draft:\n",
            "Subject: Request for Extension on Final Project Due to Illness\n",
            "\n",
            "Dear Professor Johnson,\n",
            "\n",
            "I hope this message finds you well. I am writing to formally request a three-day extension on the final project due for your course, [Course Name], originally scheduled for submission on [Original Due Date]. Unfortunately, I have been unwell and unable to work on the project as planned.\n",
            "\n",
            "I understand the importance of adhering to deadlines and assure you that this request is made only after careful consideration of my current situation. I believe that an extension would allow me to complete the project to the best of my ability.\n",
            "\n",
            "Thank you very much for considering my request. I appreciate your understanding and support. Please let me know if you need any further information or documentation regarding my illness.\n",
            "\n",
            "Sincerely,  \n",
            "[Your Name]  \n",
            "[Your Student ID]  \n",
            "[Your Contact Information]  \n",
            "[Your Course Name]  \n"
          ]
        }
      ]
    },
    {
      "cell_type": "markdown",
      "source": [
        "# Exercise 2: Code Output\n"
      ],
      "metadata": {
        "id": "IZvZM7Z4UuVf"
      }
    },
    {
      "cell_type": "code",
      "source": [
        "# Part A: Code Generation\n",
        "prompt = \"Write Python code to merge two sorted lists into one sorted list. Include comments and example usage.\"\n",
        "response = gpt_request(prompt)\n",
        "print(\"💻 Merge Sorted Lists:\")\n",
        "print(response)\n"
      ],
      "metadata": {
        "id": "CFMuWmtSUvj0",
        "outputId": "c1eda0ef-6dc6-4b9a-8e3d-1a469c204436",
        "colab": {
          "base_uri": "https://localhost:8080/"
        }
      },
      "execution_count": null,
      "outputs": [
        {
          "output_type": "stream",
          "name": "stdout",
          "text": [
            "💻 Merge Sorted Lists:\n",
            "Certainly! Below is a Python code snippet that merges two sorted lists into one sorted list. The code includes comments for clarity and an example of how to use the function.\n",
            "\n",
            "```python\n",
            "def merge_sorted_lists(list1, list2):\n",
            "    \"\"\"\n",
            "    Merge two sorted lists into one sorted list.\n",
            "    \n",
            "    Args:\n",
            "    list1 (list): The first sorted list.\n",
            "    list2 (list): The second sorted list.\n",
            "    \n",
            "    Returns:\n",
            "    list: A new sorted list containing all elements from list1 and list2.\n",
            "    \"\"\"\n",
            "    # Initialize pointers for both lists and the result list\n",
            "    i, j = 0, 0\n",
            "    merged_list = []\n",
            "    \n",
            "    # Compare elements from both lists and merge them in sorted order\n",
            "    while i < len(list1) and j < len(list2):\n",
            "        if list1[i] < list2[j]:\n",
            "            merged_list.append(list1[i])\n",
            "            i += 1\n",
            "        else:\n",
            "            merged_list.append(list2[j])\n",
            "            j += 1\n",
            "            \n",
            "    # If there are remaining elements in list1, append them\n",
            "    while i < len(list1):\n",
            "        merged_list.append(list1[i])\n",
            "        i += 1\n",
            "        \n",
            "    # If there are remaining elements in list2, append them\n",
            "    while j < len(list2):\n",
            "        merged_list.append(list2[j])\n",
            "        j += 1\n",
            "        \n",
            "    return merged_list\n",
            "\n",
            "# Example usage:\n",
            "if __name__ == \"__main__\":\n",
            "    list1 = [1, 3, 5, 7]\n",
            "    list2 = [2, 4, 6, 8]\n",
            "    \n",
            "    merged = merge_sorted_lists(list1, list2)\n",
            "    print(\"Merged sorted list:\", merged)\n",
            "```\n",
            "\n",
            "### Explanation\n",
            "1. The function `merge_sorted_lists` takes two sorted lists as input arguments.\n",
            "2. It initializes two pointers `i` and `j` to track the current index of `list1` and `list2`, respectively, and an empty list `merged_list` to store the result.\n",
            "3. It uses a `while` loop to compare the elements of both lists. The smaller element is appended to `merged_list`, and the corresponding pointer is incremented.\n",
            "4. After one of the lists is fully traversed, any remaining elements from the other list are appended to `merged_list`.\n",
            "5. Finally, the merged sorted list is returned.\n",
            "\n",
            "### Example Output\n",
            "When you run the provided example, the output will be:\n",
            "```\n",
            "Merged sorted list: [1, 2, 3, 4, 5, 6, 7, 8]\n",
            "``` \n",
            "\n",
            "This demonstrates the merging of two sorted lists into a single sorted list.\n"
          ]
        }
      ]
    },
    {
      "cell_type": "code",
      "source": [
        "# Part B: Code Refactoring\n",
        "original_code = \"\"\"\n",
        "def add(a,b):\n",
        "    return a+b\n",
        "\n",
        "def multiply(x,y):\n",
        "    return x*y\n",
        "\"\"\"\n",
        "\n",
        "prompt = f\"\"\"Refactor the following Python code to:\n",
        "1. Add proper docstrings\n",
        "2. Add type hints\n",
        "3. Add input validation\n",
        "4. Follow PEP 8 style guidelines\n",
        "\n",
        "Original code:\n",
        "{original_code}\"\"\"\n",
        "\n",
        "response = gpt_request(prompt)\n",
        "print(\"🔧 Refactored Code:\")\n",
        "print(response)\n"
      ],
      "metadata": {
        "id": "38TViMG-Ux0e",
        "outputId": "9649a6a4-1fcd-48f4-9b9a-7d026cbd4a8d",
        "colab": {
          "base_uri": "https://localhost:8080/"
        }
      },
      "execution_count": null,
      "outputs": [
        {
          "output_type": "stream",
          "name": "stdout",
          "text": [
            "🔧 Refactored Code:\n",
            "Here is a refactored version of your Python code that includes proper docstrings, type hints, input validation, and follows PEP 8 style guidelines:\n",
            "\n",
            "```python\n",
            "def add(a: float, b: float) -> float:\n",
            "    \"\"\"\n",
            "    Add two numbers.\n",
            "\n",
            "    Args:\n",
            "        a (float): The first number to be added.\n",
            "        b (float): The second number to be added.\n",
            "\n",
            "    Returns:\n",
            "        float: The sum of a and b.\n",
            "\n",
            "    Raises:\n",
            "        ValueError: If a or b is not a number.\n",
            "    \"\"\"\n",
            "    if not isinstance(a, (int, float)) or not isinstance(b, (int, float)):\n",
            "        raise ValueError(\"Both a and b must be numbers.\")\n",
            "    \n",
            "    return a + b\n",
            "\n",
            "\n",
            "def multiply(x: float, y: float) -> float:\n",
            "    \"\"\"\n",
            "    Multiply two numbers.\n",
            "\n",
            "    Args:\n",
            "        x (float): The first number to be multiplied.\n",
            "        y (float): The second number to be multiplied.\n",
            "\n",
            "    Returns:\n",
            "        float: The product of x and y.\n",
            "\n",
            "    Raises:\n",
            "        ValueError: If x or y is not a number.\n",
            "    \"\"\"\n",
            "    if not isinstance(x, (int, float)) or not isinstance(y, (int, float)):\n",
            "        raise ValueError(\"Both x and y must be numbers.\")\n",
            "    \n",
            "    return x * y\n",
            "```\n",
            "\n",
            "### Changes Made:\n",
            "1. **Docstrings**: Each function now has a detailed docstring explaining its purpose, arguments, return value, and potential exceptions.\n",
            "2. **Type Hints**: Added type hints to indicate that the functions expect `float` arguments and return a `float`.\n",
            "3. **Input Validation**: Added checks to ensure that the inputs are either `int` or `float`, raising a `ValueError` if they are not.\n",
            "4. **PEP 8 Compliance**: Ensured that the code follows PEP 8 style guidelines, including spacing and line length.\n"
          ]
        }
      ]
    },
    {
      "cell_type": "code",
      "source": [
        "# Part C: Code Debugging\n",
        "buggy_code = \"\"\"\n",
        "def factorial(n):\n",
        "    if n == 0:\n",
        "        return 0  # This is wrong!\n",
        "    else:\n",
        "        return n * factorial(n-1)\n",
        "\n",
        "# Test\n",
        "print(factorial(5))  # Should be 120, but returns 0\n",
        "\"\"\"\n",
        "\n",
        "prompt = f\"\"\"Find and fix the bug in this Python factorial function.\n",
        "Explain what was wrong and provide the corrected version:\n",
        "\n",
        "{buggy_code}\"\"\"\n",
        "\n",
        "response = gpt_request(prompt)\n",
        "print(\"🐛 Debug Analysis:\")\n",
        "print(response)\n"
      ],
      "metadata": {
        "id": "QgUStZaOUzzV",
        "outputId": "e6ce6a52-8ed6-4c71-fc0b-66abc36508d2",
        "colab": {
          "base_uri": "https://localhost:8080/"
        }
      },
      "execution_count": null,
      "outputs": [
        {
          "output_type": "stream",
          "name": "stdout",
          "text": [
            "🐛 Debug Analysis:\n",
            "The bug in the provided `factorial` function is in the base case for when `n` is equal to 0. The factorial of 0 is defined to be 1, but the function currently returns 0. This causes the function to return 0 for any input greater than 0, since the recursive calls will eventually reach the base case of 0.\n",
            "\n",
            "Here is the corrected version of the function:\n",
            "\n",
            "```python\n",
            "def factorial(n):\n",
            "    if n == 0:\n",
            "        return 1  # Corrected to return 1\n",
            "    else:\n",
            "        return n * factorial(n - 1)\n",
            "\n",
            "# Test\n",
            "print(factorial(5))  # Should print 120\n",
            "```\n",
            "\n",
            "### Explanation of the Fix:\n",
            "- The base case for the factorial function was incorrectly returning 0 when `n` is 0. The factorial of 0 is defined as 1, so we need to return 1 instead.\n",
            "- With this change, when the function is called with `n = 5`, it correctly computes the factorial by recursively multiplying `5 * 4 * 3 * 2 * 1`, ultimately returning 120.\n"
          ]
        }
      ]
    },
    {
      "cell_type": "markdown",
      "source": [
        "# Exercise 3: Summarization\n"
      ],
      "metadata": {
        "id": "K1Fs8-fkU2Qy"
      }
    },
    {
      "cell_type": "code",
      "source": [
        "# # Sample text for summarization\n",
        "article_text = \"\"\"\n",
        "Artificial intelligence has transformed numerous industries in recent years, from healthcare to finance to transportation.\n",
        "Machine learning algorithms can now diagnose diseases with accuracy comparable to human doctors, detect fraudulent\n",
        "financial transactions in real-time, and enable self-driving cars to navigate complex urban environments. However,\n",
        "these advances come with significant challenges including job displacement, privacy concerns, and algorithmic bias.\n",
        "Companies and governments are working to address these issues through regulation, retraining programs, and ethical AI\n",
        "frameworks. The future of AI development will likely depend on balancing innovation with responsible implementation\n",
        "that considers societal impact and ensures equitable benefits for all.\n",
        "\"\"\"\n",
        "\n",
        "# Extractive Summary\n",
        "prompt_extractive = f\"\"\"Create an extractive summary of the following text by selecting\n",
        "the most important sentences directly from the original:\n",
        "\n",
        "{article_text}\"\"\"\n",
        "\n",
        "extractive_summary = gpt_request(prompt_extractive)\n",
        "print(\"📋 Extractive Summary:\")\n",
        "print(extractive_summary)\n",
        "print(\"\\n\" + \"=\"*50 + \"\\n\")\n",
        "\n",
        "# Abstractive Summary\n",
        "prompt_abstractive = f\"\"\"Create an abstractive summary of the following text by\n",
        "rewriting the key points in your own words (2-3 sentences):\n",
        "\n",
        "{article_text}\"\"\"\n",
        "\n",
        "abstractive_summary = gpt_request(prompt_abstractive)\n",
        "print(\"✍️ Abstractive Summary:\")\n",
        "print(abstractive_summary)\n"
      ],
      "metadata": {
        "id": "5aHVZWmEU4Cw",
        "outputId": "75646979-247f-4c5c-a5c5-fb32cd20706a",
        "colab": {
          "base_uri": "https://localhost:8080/"
        }
      },
      "execution_count": null,
      "outputs": [
        {
          "output_type": "stream",
          "name": "stdout",
          "text": [
            "📋 Extractive Summary:\n",
            "Artificial intelligence has transformed numerous industries in recent years, from healthcare to finance to transportation. However, these advances come with significant challenges including job displacement, privacy concerns, and algorithmic bias. Companies and governments are working to address these issues through regulation, retraining programs, and ethical AI frameworks. The future of AI development will likely depend on balancing innovation with responsible implementation that considers societal impact and ensures equitable benefits for all.\n",
            "\n",
            "==================================================\n",
            "\n",
            "✍️ Abstractive Summary:\n",
            "Recent advancements in artificial intelligence have revolutionized various sectors such as healthcare, finance, and transportation, allowing for accurate disease diagnosis, real-time fraud detection, and autonomous vehicle navigation. Despite these benefits, challenges like job loss, privacy issues, and algorithmic bias persist, prompting companies and governments to seek solutions through regulation and ethical frameworks. The future of AI will hinge on achieving a balance between innovation and responsible use, aiming to ensure equitable advantages for society.\n"
          ]
        }
      ]
    },
    {
      "cell_type": "markdown",
      "source": [
        "# Exercise 4: Classification / Labeling\n"
      ],
      "metadata": {
        "id": "fmHJfP84U7iI"
      }
    },
    {
      "cell_type": "code",
      "source": [
        "# Movie reviews for sentiment classification\n",
        "reviews = [\n",
        "    \"This movie was absolutely incredible! The acting was phenomenal and the plot kept me engaged throughout.\",\n",
        "    \"Boring and predictable. I fell asleep halfway through and didn't miss anything important.\",\n",
        "    \"It was okay. Some good moments but overall just average. Nothing special but not terrible either.\",\n",
        "    \"Waste of money and time. Poor dialogue, terrible acting, and nonsensical plot.\",\n",
        "    \"A masterpiece! This film will be remembered as one of the greatest of all time.\"\n",
        "]\n",
        "\n",
        "prompt = \"\"\"Classify each of the following movie reviews as either:\n",
        "- POSITIVE (clearly positive sentiment)\n",
        "- NEGATIVE (clearly negative sentiment)\n",
        "- NEUTRAL (mixed or neutral sentiment)\n",
        "\n",
        "Format your response as:\n",
        "Review 1: [CLASSIFICATION] - [Brief reason]\n",
        "Review 2: [CLASSIFICATION] - [Brief reason]\n",
        "etc.\n",
        "\n",
        "Reviews:\n",
        "\"\"\" + \"\\n\".join([f\"{i+1}. {review}\" for i, review in enumerate(reviews)])\n",
        "\n",
        "response = gpt_request(prompt)\n",
        "print(\"🏷️ Sentiment Classification:\")\n",
        "print(response)\n"
      ],
      "metadata": {
        "id": "FlO688UdU6jz",
        "outputId": "700d7ed0-f7d4-40ba-a58f-18766c5d50ff",
        "colab": {
          "base_uri": "https://localhost:8080/"
        }
      },
      "execution_count": null,
      "outputs": [
        {
          "output_type": "stream",
          "name": "stdout",
          "text": [
            "🏷️ Sentiment Classification:\n",
            "Review 1: POSITIVE - Clearly expresses enthusiasm for the movie with strong praise for acting and plot engagement.  \n",
            "Review 2: NEGATIVE - Uses harsh language to describe the experience, indicating strong dissatisfaction.  \n",
            "Review 3: NEUTRAL - Contains mixed feelings, acknowledging both good moments and an overall average impression.  \n",
            "Review 4: NEGATIVE - Clearly conveys a negative sentiment with strong criticism of various aspects of the film.  \n",
            "Review 5: POSITIVE - Highly praises the film as a masterpiece, indicating strong positive sentiment.  \n"
          ]
        }
      ]
    },
    {
      "cell_type": "markdown",
      "source": [
        "# Exercise 5: Tables / JSON Output\n"
      ],
      "metadata": {
        "id": "5P6VmvMMU-PS"
      }
    },
    {
      "cell_type": "code",
      "source": [
        "# Part A: Table Format\n",
        "prompt = \"\"\"Create a comparison table for three types of renewable energy: Solar, Wind, and Hydroelectric.\n",
        "Compare them across these dimensions:\n",
        "- Initial cost (High/Medium/Low)\n",
        "- Maintenance requirements\n",
        "- Environmental impact\n",
        "- Reliability\n",
        "- Best suited locations\n",
        "\n",
        "Format as a clear table with proper headers.\"\"\"\n",
        "\n",
        "response = gpt_request(prompt)\n",
        "print(\"📊 Renewable Energy Comparison Table:\")\n",
        "print(response)\n"
      ],
      "metadata": {
        "id": "SCKtK-bOU_u8",
        "outputId": "78a2a3e3-000c-4a13-e190-81e531c19680",
        "colab": {
          "base_uri": "https://localhost:8080/"
        }
      },
      "execution_count": null,
      "outputs": [
        {
          "output_type": "stream",
          "name": "stdout",
          "text": [
            "📊 Renewable Energy Comparison Table:\n",
            "Here's a comparison table for Solar, Wind, and Hydroelectric energy across the specified dimensions:\n",
            "\n",
            "| Dimension               | Solar             | Wind              | Hydroelectric      |\n",
            "|-------------------------|-------------------|-------------------|---------------------|\n",
            "| Initial Cost            | Medium            | Medium            | High                |\n",
            "| Maintenance Requirements | Low               | Medium            | Low                 |\n",
            "| Environmental Impact    | Low (land use)    | Medium (wildlife) | Medium (ecosystem)  |\n",
            "| Reliability             | Medium            | Medium            | High                |\n",
            "| Best Suited Locations   | Sunny areas       | Open areas (windy)| Near water bodies    |\n",
            "\n",
            "This table provides a clear comparison of the three types of renewable energy across various dimensions.\n"
          ]
        }
      ]
    },
    {
      "cell_type": "code",
      "source": [
        "# Part B: JSON Format\n",
        "prompt = \"\"\"Generate a JSON object containing information about 5 programming languages.\n",
        "For each language include:\n",
        "- name\n",
        "- year_created\n",
        "- primary_use_case\n",
        "- difficulty_level (1-10 scale)\n",
        "- popular_frameworks (array of 2-3 frameworks)\n",
        "\n",
        "Ensure valid JSON format.\"\"\"\n",
        "\n",
        "response = gpt_request(prompt, temperature=0.3)  # Lower temperature for structured output\n",
        "print(\"🗂️ Programming Languages JSON:\")\n",
        "print(response)\n",
        "\n",
        "# Optional: Validate JSON\n",
        "try:\n",
        "    import json\n",
        "    parsed = json.loads(response)\n",
        "    print(\"\\n✅ Valid JSON format!\")\n",
        "except json.JSONDecodeError:\n",
        "    print(\"\\n❌ Invalid JSON format - needs fixing\")\n"
      ],
      "metadata": {
        "id": "Nln1L6ddVB45",
        "outputId": "23d28eb4-40d6-4dfe-d102-61ba7fd7ca55",
        "colab": {
          "base_uri": "https://localhost:8080/"
        }
      },
      "execution_count": null,
      "outputs": [
        {
          "output_type": "stream",
          "name": "stdout",
          "text": [
            "🗂️ Programming Languages JSON:\n",
            "```json\n",
            "{\n",
            "  \"programming_languages\": [\n",
            "    {\n",
            "      \"name\": \"Python\",\n",
            "      \"year_created\": 1991,\n",
            "      \"primary_use_case\": \"Web development, Data analysis, Artificial intelligence\",\n",
            "      \"difficulty_level\": 3,\n",
            "      \"popular_frameworks\": [\"Django\", \"Flask\", \"Pandas\"]\n",
            "    },\n",
            "    {\n",
            "      \"name\": \"JavaScript\",\n",
            "      \"year_created\": 1995,\n",
            "      \"primary_use_case\": \"Web development, Mobile applications\",\n",
            "      \"difficulty_level\": 4,\n",
            "      \"popular_frameworks\": [\"React\", \"Angular\", \"Vue.js\"]\n",
            "    },\n",
            "    {\n",
            "      \"name\": \"Java\",\n",
            "      \"year_created\": 1995,\n",
            "      \"primary_use_case\": \"Enterprise applications, Android development\",\n",
            "      \"difficulty_level\": 6,\n",
            "      \"popular_frameworks\": [\"Spring\", \"Hibernate\", \"JavaServer Faces\"]\n",
            "    },\n",
            "    {\n",
            "      \"name\": \"C++\",\n",
            "      \"year_created\": 1985,\n",
            "      \"primary_use_case\": \"System programming, Game development\",\n",
            "      \"difficulty_level\": 7,\n",
            "      \"popular_frameworks\": [\"Qt\", \"Boost\", \"Cinder\"]\n",
            "    },\n",
            "    {\n",
            "      \"name\": \"Ruby\",\n",
            "      \"year_created\": 1995,\n",
            "      \"primary_use_case\": \"Web development, Prototyping\",\n",
            "      \"difficulty_level\": 5,\n",
            "      \"popular_frameworks\": [\"Ruby on Rails\", \"Sinatra\", \"Hanami\"]\n",
            "    }\n",
            "  ]\n",
            "}\n",
            "```\n",
            "\n",
            "❌ Invalid JSON format - needs fixing\n"
          ]
        }
      ]
    },
    {
      "cell_type": "markdown",
      "source": [
        "# Exercise 6: Evaluation / Comparison\n"
      ],
      "metadata": {
        "id": "JLGVEONLVEa3"
      }
    },
    {
      "cell_type": "code",
      "source": [
        "# Two explanations of the same concept\n",
        "explanation_1 = \"\"\"\n",
        "Photosynthesis is when plants use sunlight to make food. The green parts of plants, called chlorophyll,\n",
        "capture sunlight and use it along with water and carbon dioxide to create glucose, which is plant food.\n",
        "Oxygen is released as a waste product, which is lucky for us because we need oxygen to breathe.\n",
        "\"\"\"\n",
        "\n",
        "explanation_2 = \"\"\"\n",
        "Photosynthesis is a complex biochemical process where chloroplasts in plant cells convert light energy\n",
        "into chemical energy. The process involves light-dependent reactions in the thylakoids and the Calvin\n",
        "cycle in the stroma, ultimately producing glucose through carbon fixation while releasing oxygen as\n",
        "a byproduct of water photolysis.\n",
        "\"\"\"\n",
        "\n",
        "prompt = f\"\"\"Compare these two explanations of photosynthesis and evaluate them based on:\n",
        "1. Clarity and accessibility\n",
        "2. Scientific accuracy\n",
        "3. Appropriate audience level\n",
        "4. Completeness\n",
        "\n",
        "Explanation A:\n",
        "{explanation_1}\n",
        "\n",
        "Explanation B:\n",
        "{explanation_2}\n",
        "\n",
        "Provide a detailed analysis and recommendation for which explanation is better for different audiences.\"\"\"\n",
        "\n",
        "response = gpt_request(prompt)\n",
        "print(\"⚖️ Comparison Analysis:\")\n",
        "print(response)\n"
      ],
      "metadata": {
        "id": "QAd75bElVGS5",
        "outputId": "3cc258bf-cad7-472f-95e0-fe534d9e09a9",
        "colab": {
          "base_uri": "https://localhost:8080/"
        }
      },
      "execution_count": null,
      "outputs": [
        {
          "output_type": "stream",
          "name": "stdout",
          "text": [
            "⚖️ Comparison Analysis:\n",
            "### Analysis of Explanations\n",
            "\n",
            "#### Explanation A\n",
            "\n",
            "1. **Clarity and Accessibility**: \n",
            "   - Explanation A is straightforward and uses simple language. It effectively communicates the basic concept of photosynthesis without overwhelming details, making it easy for a general audience, including young students or individuals with little to no scientific background, to understand.\n",
            "\n",
            "2. **Scientific Accuracy**: \n",
            "   - The explanation is scientifically accurate in describing the essential elements of photosynthesis: the role of sunlight, chlorophyll, water, carbon dioxide, glucose, and oxygen. However, it oversimplifies the process by not mentioning the specific biochemical pathways involved.\n",
            "\n",
            "3. **Appropriate Audience Level**: \n",
            "   - This explanation is well-suited for elementary or middle school students and the general public. It provides an introductory understanding without requiring prior knowledge of biology.\n",
            "\n",
            "4. **Completeness**: \n",
            "   - While it covers the basic components of photosynthesis, it lacks detail about the processes involved (e.g., light-dependent reactions and the Calvin cycle). This limits its completeness for an audience that may want to delve deeper into the subject.\n",
            "\n",
            "#### Explanation B\n",
            "\n",
            "1. **Clarity and Accessibility**: \n",
            "   - Explanation B is more technical and uses specialized terminology (e.g., \"chloroplasts,\" \"thylakoids,\" \"Calvin cycle,\" \"carbon fixation,\" \"photolysis\"). This makes it less accessible to someone without a background in biology or related fields.\n",
            "\n",
            "2. **Scientific Accuracy**: \n",
            "   - This explanation is scientifically accurate and conveys a more in-depth understanding of the photosynthesis process, including the specific stages and mechanisms involved. It accurately describes the roles of light-dependent reactions and the Calvin cycle.\n",
            "\n",
            "3. **Appropriate Audience Level**: \n",
            "   - Explanation B is better suited for high school students, college students, or individuals with a strong interest in biology or biochemistry. It assumes a certain level of prior knowledge and familiarity with scientific concepts.\n",
            "\n",
            "4. **Completeness**: \n",
            "   - The explanation is more complete than A because it addresses the specific processes involved in photosynthesis. It provides a clearer picture of how glucose and oxygen are produced, making it suitable for a more knowledgeable audience.\n",
            "\n",
            "### Recommendations\n",
            "\n",
            "- **For General Audiences (e.g., younger students, non-scientists)**: \n",
            "  - **Use Explanation A**. Its clarity, simplicity, and accessibility make it ideal for individuals who need a foundational understanding of photosynthesis without the complexity of biochemical processes.\n",
            "\n",
            "- **For Educational Contexts (e.g., high school biology classes, college-level courses)**: \n",
            "  - **Use Explanation B**. Its scientific accuracy and completeness make it suitable for audiences that require a deeper understanding of the mechanisms of photosynthesis. It would engage students who are prepared to learn about the detailed processes involved.\n",
            "\n",
            "- **For Science Communication and Public Outreach**: \n",
            "  - A mix of both explanations could be employed. Start with the simplicity of Explanation A to establish a basic understanding and then transition into the details of Explanation B for audiences that express interest in a deeper dive into the subject.\n",
            "\n",
            "In conclusion, each explanation serves its purpose well depending on the target audience. Choosing the appropriate explanation based on the audience's background knowledge and needs is key to effective communication of scientific concepts.\n"
          ]
        }
      ]
    },
    {
      "cell_type": "code",
      "source": [
        "# Exercise 7: Advanced Prompt Engineering\n"
      ],
      "metadata": {
        "id": "XbWWm8FvVHgV"
      },
      "execution_count": null,
      "outputs": []
    },
    {
      "cell_type": "code",
      "source": [
        "# Test different temperature settings\n",
        "prompt = \"Write a creative opening line for a mystery novel.\"\n",
        "\n",
        "print(\"🌡️ Temperature Comparison:\")\n",
        "for temp in [0.1, 0.5, 0.9]:\n",
        "    response = gpt_request(prompt, temperature=temp)\n",
        "    print(f\"Temperature {temp}: {response}\\n\")\n",
        "\n",
        "# Test prompt specificity\n",
        "vague_prompt = \"Write about AI.\"\n",
        "specific_prompt = \"Write a 100-word explanation of how AI chatbots like GPT-4o-mini process and respond to user questions, aimed at high school students.\"\n",
        "\n",
        "print(\"🎯 Prompt Specificity Comparison:\")\n",
        "print(\"Vague prompt result:\")\n",
        "print(gpt_request(vague_prompt))\n",
        "print(\"\\nSpecific prompt result:\")\n",
        "print(gpt_request(specific_prompt))\n"
      ],
      "metadata": {
        "id": "j_Fzb1arVJYh",
        "outputId": "7d4cef0d-df29-429f-d7b2-484e206653db",
        "colab": {
          "base_uri": "https://localhost:8080/"
        }
      },
      "execution_count": null,
      "outputs": [
        {
          "output_type": "stream",
          "name": "stdout",
          "text": [
            "🌡️ Temperature Comparison:\n",
            "Temperature 0.1: The fog rolled in like a whispered secret, cloaking the small town in shadows, but it was the sudden silence that hinted at the darkness lurking just beneath the surface.\n",
            "\n",
            "Temperature 0.5: The fog rolled in like a whispered secret, cloaking the small town of Eldridge in shadows, where every locked door seemed to hold a story waiting to be unearthed.\n",
            "\n",
            "Temperature 0.9: The rain fell in relentless sheets, washing away the secrets of the night, but beneath the surface of the old cobblestone street, something far darker stirred, waiting for the right moment to be unearthed.\n",
            "\n",
            "🎯 Prompt Specificity Comparison:\n",
            "Vague prompt result:\n",
            "Artificial Intelligence (AI) refers to the simulation of human intelligence processes by machines, particularly computer systems. These processes include learning (the acquisition of information and rules for using it), reasoning (using rules to reach approximate or definite conclusions), and self-correction. AI can be classified into two main types: narrow AI and general AI.\n",
            "\n",
            "1. **Narrow AI**: Also known as weak AI, this type is designed and trained for a specific task. Examples include virtual assistants like Siri and Alexa, recommendation systems used by platforms like Netflix and Amazon, and autonomous vehicles. Narrow AI is prevalent today and is responsible for many of the conveniences and efficiencies we experience in daily life.\n",
            "\n",
            "2. **General AI**: Also referred to as strong AI, this type would possess the ability to understand, learn, and apply intelligence in a way indistinguishable from a human being. General AI is still largely theoretical and has not yet been realized. Researchers are exploring various approaches to achieve this level of intelligence, including neural networks, machine learning, and cognitive computing.\n",
            "\n",
            "### Applications of AI\n",
            "\n",
            "AI has a wide range of applications across various fields:\n",
            "\n",
            "- **Healthcare**: AI systems are used for diagnostic purposes, analyzing medical images, predicting patient outcomes, and personalizing treatment plans. For example, AI can help identify patterns in health data that may indicate the onset of diseases.\n",
            "\n",
            "- **Finance**: In the financial sector, AI algorithms are employed for fraud detection, risk assessment, and algorithmic trading. AI can analyze vast amounts of data much faster than humans, allowing for more informed decision-making.\n",
            "\n",
            "- **Manufacturing**: AI is used in automation, predictive maintenance, and supply chain optimization. Robotics powered by AI can perform repetitive tasks with high precision, while AI systems can predict equipment failures before they happen.\n",
            "\n",
            "- **Transportation**: Self-driving cars and smart traffic management systems are revolutionary applications of AI in the transportation industry. These technologies aim to improve safety, reduce traffic congestion, and enhance the efficiency of logistics.\n",
            "\n",
            "- **Entertainment**: AI is transforming the entertainment industry through content creation, personalized recommendations, and even in video game development, where AI can create dynamic and responsive environments.\n",
            "\n",
            "### Ethical Considerations\n",
            "\n",
            "The rapid advancement of AI has raised numerous ethical concerns. Issues such as data privacy, algorithmic bias, job displacement, and the potential for misuse of AI technologies are at the forefront of discussions among policymakers, ethicists, and technologists. Ensuring that AI systems are transparent, fair, and accountable is crucial for fostering public trust and maximizing the benefits of AI.\n",
            "\n",
            "### The Future of AI\n",
            "\n",
            "The future of AI holds immense potential. As technology continues to evolve, the integration of AI into everyday life is expected to deepen, leading to innovations we can only begin to imagine. However, it is essential to navigate this landscape thoughtfully, balancing innovation with ethical considerations to create a future where AI benefits all of humanity. The ongoing dialogue around responsible AI development will play a vital role in shaping the trajectory of this transformative technology.\n",
            "\n",
            "Specific prompt result:\n",
            "AI chatbots like GPT-4o-mini work by using advanced algorithms to understand and generate human-like text. When you ask a question, the chatbot analyzes your input to grasp its meaning, looking for keywords and context. It then accesses a vast database of information learned from books, websites, and conversations to find relevant answers. The AI predicts the most appropriate response by considering grammar, tone, and clarity. After formulating a reply, it sends the answer back to you. This process happens quickly, allowing for real-time conversations, making it seem like you’re chatting with a human!\n"
          ]
        }
      ]
    },
    {
      "cell_type": "markdown",
      "source": [
        "# Student Reflection Questions\n"
      ],
      "metadata": {
        "id": "qPL9wlIbVIoL"
      }
    },
    {
      "cell_type": "code",
      "source": [
        "reflection_prompts = [\n",
        "    \"Which type of output (text, code, JSON, etc.) did GPT-4o-mini handle best? Why do you think that is?\",\n",
        "    \"How did changing the temperature setting affect the creativity vs consistency of outputs?\",\n",
        "    \"What did you notice about the importance of prompt specificity?\",\n",
        "    \"Which exercise taught you the most about effective prompt engineering?\"\n",
        "]\n",
        "\n",
        "print(\"🤔 Reflection Questions:\")\n",
        "for i, question in enumerate(reflection_prompts, 1):\n",
        "    print(f\"{i}. {question}\")\n",
        "    print(\"   Your answer: ________________\\n\")\n"
      ],
      "metadata": {
        "id": "kmMq1IQIVOIa",
        "outputId": "b9fdb919-f67f-4d2d-ab1d-0a14f6e879b9",
        "colab": {
          "base_uri": "https://localhost:8080/"
        }
      },
      "execution_count": null,
      "outputs": [
        {
          "output_type": "stream",
          "name": "stdout",
          "text": [
            "🤔 Reflection Questions:\n",
            "1. Which type of output (text, code, JSON, etc.) did GPT-4o-mini handle best? Why do you think that is?\n",
            "   Your answer: ________________\n",
            "\n",
            "2. How did changing the temperature setting affect the creativity vs consistency of outputs?\n",
            "   Your answer: ________________\n",
            "\n",
            "3. What did you notice about the importance of prompt specificity?\n",
            "   Your answer: ________________\n",
            "\n",
            "4. Which exercise taught you the most about effective prompt engineering?\n",
            "   Your answer: ________________\n",
            "\n"
          ]
        }
      ]
    },
    {
      "cell_type": "markdown",
      "source": [
        "# Bonus Challenge\n"
      ],
      "metadata": {
        "id": "0eVdMr8RVQnO"
      }
    },
    {
      "cell_type": "code",
      "source": [
        "# Create a prompt that generates multiple output types in one response\n",
        "challenge_prompt = \"\"\"Create a mini lesson plan about climate change that includes:\n",
        "1. A brief explanation (50 words)\n",
        "2. Python code to calculate carbon footprint\n",
        "3. A JSON object with 3 climate facts\n",
        "4. A classification of 3 human activities as High/Medium/Low carbon impact\n",
        "\n",
        "Format each section clearly with headers.\"\"\"\n",
        "\n",
        "response = gpt_request(challenge_prompt, temperature=0.5)\n",
        "print(\"🏆 Multi-format Challenge:\")\n",
        "print(response)"
      ],
      "metadata": {
        "id": "DAhnS6OxVTth",
        "outputId": "f7eb9800-8a58-4078-9009-65a313fdedd1",
        "colab": {
          "base_uri": "https://localhost:8080/"
        }
      },
      "execution_count": null,
      "outputs": [
        {
          "output_type": "stream",
          "name": "stdout",
          "text": [
            "🏆 Multi-format Challenge:\n",
            "# Mini Lesson Plan: Understanding Climate Change\n",
            "\n",
            "## 1. Brief Explanation\n",
            "Climate change refers to long-term alterations in temperature, precipitation, and other atmospheric conditions on Earth. Primarily driven by human activities, such as burning fossil fuels and deforestation, climate change leads to severe environmental impacts, including rising sea levels, extreme weather events, and loss of biodiversity.\n",
            "\n",
            "## 2. Python Code to Calculate Carbon Footprint\n",
            "```python\n",
            "def calculate_carbon_footprint(miles_driven, fuel_efficiency):\n",
            "    # Assuming fuel efficiency is in miles per gallon (mpg)\n",
            "    # Carbon emissions per gallon of gasoline burned\n",
            "    carbon_per_gallon = 19.6  # in pounds\n",
            "    gallons_used = miles_driven / fuel_efficiency\n",
            "    carbon_footprint = gallons_used * carbon_per_gallon\n",
            "    return carbon_footprint\n",
            "\n",
            "# Example usage\n",
            "miles = 150  # miles driven\n",
            "efficiency = 25  # fuel efficiency in mpg\n",
            "footprint = calculate_carbon_footprint(miles, efficiency)\n",
            "print(f\"Carbon footprint for driving {miles} miles: {footprint} pounds of CO2\")\n",
            "```\n",
            "\n",
            "## 3. JSON Object with 3 Climate Facts\n",
            "```json\n",
            "{\n",
            "  \"climate_facts\": [\n",
            "    {\n",
            "      \"fact\": \"The Earth's average temperature has risen by about 1.2°C since the late 19th century.\",\n",
            "      \"source\": \"NASA\"\n",
            "    },\n",
            "    {\n",
            "      \"fact\": \"Ocean acidification has increased by 30% since the beginning of the Industrial Revolution.\",\n",
            "      \"source\": \"National Oceanic and Atmospheric Administration (NOAA)\"\n",
            "    },\n",
            "    {\n",
            "      \"fact\": \"Glaciers and ice sheets are losing mass, contributing to rising sea levels.\",\n",
            "      \"source\": \"IPCC\"\n",
            "    }\n",
            "  ]\n",
            "}\n",
            "```\n",
            "\n",
            "## 4. Classification of Human Activities as High/Medium/Low Carbon Impact\n",
            "- **High Carbon Impact:**\n",
            "  - Burning fossil fuels for electricity and heat\n",
            "  - Air travel\n",
            "  - Deforestation\n",
            "\n",
            "- **Medium Carbon Impact:**\n",
            "  - Driving gasoline or diesel cars\n",
            "  - Industrial manufacturing\n",
            "  - Agricultural practices (e.g., livestock farming)\n",
            "\n",
            "- **Low Carbon Impact:**\n",
            "  - Biking or walking\n",
            "  - Using public transportation\n",
            "  - Recycling and composting efforts\n"
          ]
        }
      ]
    }
  ],
  "metadata": {
    "colab": {
      "name": "Welcome to Colab",
      "provenance": [],
      "include_colab_link": true
    },
    "kernelspec": {
      "display_name": "Python 3",
      "name": "python3"
    }
  },
  "nbformat": 4,
  "nbformat_minor": 0
}