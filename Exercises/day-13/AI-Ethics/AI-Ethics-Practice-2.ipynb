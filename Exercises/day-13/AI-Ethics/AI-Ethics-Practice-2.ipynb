{
  "nbformat": 4,
  "nbformat_minor": 0,
  "metadata": {
    "colab": {
      "provenance": [],
      "authorship_tag": "ABX9TyPKrlCn4/9Sme/sckhkucc/",
      "include_colab_link": true
    },
    "kernelspec": {
      "name": "python3",
      "display_name": "Python 3"
    },
    "language_info": {
      "name": "python"
    }
  },
  "cells": [
    {
      "cell_type": "markdown",
      "metadata": {
        "id": "view-in-github",
        "colab_type": "text"
      },
      "source": [
        "<a href=\"https://colab.research.google.com/github/appliedcode/mthree-c422/blob/mthree-422-salleh/Exercises/day-13/AI-Ethics/AI-Ethics-Practice-2.ipynb\" target=\"_parent\"><img src=\"https://colab.research.google.com/assets/colab-badge.svg\" alt=\"Open In Colab\"/></a>"
      ]
    },
    {
      "cell_type": "markdown",
      "source": [
        "#Problem Set: AI Ethics and Core Principles with Larger Dataset\n",
        "This lab will help you practice Fairness, Transparency, Accountability, Privacy, Safety/Reliability, and Inclusivity using a synthetic dataset included below."
      ],
      "metadata": {
        "id": "DfNYnlf1i8Ch"
      }
    },
    {
      "cell_type": "code",
      "execution_count": null,
      "metadata": {
        "id": "IJ7_f-hzivkY"
      },
      "outputs": [],
      "source": []
    }
  ]
}