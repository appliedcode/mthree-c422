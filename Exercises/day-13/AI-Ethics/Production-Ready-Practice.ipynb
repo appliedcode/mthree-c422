{
  "nbformat": 4,
  "nbformat_minor": 0,
  "metadata": {
    "colab": {
      "provenance": [],
      "authorship_tag": "ABX9TyM97AZDZfF5VH4L9f2tJF4a",
      "include_colab_link": true
    },
    "kernelspec": {
      "name": "python3",
      "display_name": "Python 3"
    },
    "language_info": {
      "name": "python"
    }
  },
  "cells": [
    {
      "cell_type": "markdown",
      "metadata": {
        "id": "view-in-github",
        "colab_type": "text"
      },
      "source": [
        "<a href=\"https://colab.research.google.com/github/appliedcode/mthree-c422/blob/mthree-422-salleh/Exercises/day-13/AI-Ethics/Production-Ready-Practice.ipynb\" target=\"_parent\"><img src=\"https://colab.research.google.com/assets/colab-badge.svg\" alt=\"Open In Colab\"/></a>"
      ]
    },
    {
      "cell_type": "markdown",
      "source": [
        "#Problem Set: Operationalizing Ethics in AI Development & Deployment — Recruitment Screening Context"
      ],
      "metadata": {
        "id": "GIGZXXBG7Nia"
      }
    },
    {
      "cell_type": "markdown",
      "source": [
        "We’ll simulate an AI model that screens job applicants for shortlisting. Your tasks will focus on embedding and operationalizing ethics both during development and after deployment."
      ],
      "metadata": {
        "id": "_2-qrvHA7TrD"
      }
    },
    {
      "cell_type": "markdown",
      "source": [
        "1. Dataset Creation (Run in Colab)"
      ],
      "metadata": {
        "id": "E-33E7yZ7bnd"
      }
    },
    {
      "cell_type": "code",
      "execution_count": 4,
      "metadata": {
        "id": "xwbTSKzI5P2S",
        "colab": {
          "base_uri": "https://localhost:8080/",
          "height": 206
        },
        "outputId": "438ae2c0-a8a6-4259-ca56-016f42a54f72"
      },
      "outputs": [
        {
          "output_type": "execute_result",
          "data": {
            "text/plain": [
              "   Applicant_ID  Age Gender Ethnicity  Education  Years_Experience  \\\n",
              "0             1   22   Male   Group_B  Bachelors                12   \n",
              "1             2   48  Other   Group_B  Bachelors                12   \n",
              "2             3   54   Male   Group_B  Bachelors                19   \n",
              "3             4   58   Male   Group_C    Masters                 8   \n",
              "4             5   37   Male   Group_C  Bachelors                16   \n",
              "\n",
              "   Skill_Score  Shortlisted  \n",
              "0           87            0  \n",
              "1           89            1  \n",
              "2           45            0  \n",
              "3           41            0  \n",
              "4           48            0  "
            ],
            "text/html": [
              "\n",
              "  <div id=\"df-2e242aab-5a61-4bb6-b5b1-7382ce4e83ec\" class=\"colab-df-container\">\n",
              "    <div>\n",
              "<style scoped>\n",
              "    .dataframe tbody tr th:only-of-type {\n",
              "        vertical-align: middle;\n",
              "    }\n",
              "\n",
              "    .dataframe tbody tr th {\n",
              "        vertical-align: top;\n",
              "    }\n",
              "\n",
              "    .dataframe thead th {\n",
              "        text-align: right;\n",
              "    }\n",
              "</style>\n",
              "<table border=\"1\" class=\"dataframe\">\n",
              "  <thead>\n",
              "    <tr style=\"text-align: right;\">\n",
              "      <th></th>\n",
              "      <th>Applicant_ID</th>\n",
              "      <th>Age</th>\n",
              "      <th>Gender</th>\n",
              "      <th>Ethnicity</th>\n",
              "      <th>Education</th>\n",
              "      <th>Years_Experience</th>\n",
              "      <th>Skill_Score</th>\n",
              "      <th>Shortlisted</th>\n",
              "    </tr>\n",
              "  </thead>\n",
              "  <tbody>\n",
              "    <tr>\n",
              "      <th>0</th>\n",
              "      <td>1</td>\n",
              "      <td>22</td>\n",
              "      <td>Male</td>\n",
              "      <td>Group_B</td>\n",
              "      <td>Bachelors</td>\n",
              "      <td>12</td>\n",
              "      <td>87</td>\n",
              "      <td>0</td>\n",
              "    </tr>\n",
              "    <tr>\n",
              "      <th>1</th>\n",
              "      <td>2</td>\n",
              "      <td>48</td>\n",
              "      <td>Other</td>\n",
              "      <td>Group_B</td>\n",
              "      <td>Bachelors</td>\n",
              "      <td>12</td>\n",
              "      <td>89</td>\n",
              "      <td>1</td>\n",
              "    </tr>\n",
              "    <tr>\n",
              "      <th>2</th>\n",
              "      <td>3</td>\n",
              "      <td>54</td>\n",
              "      <td>Male</td>\n",
              "      <td>Group_B</td>\n",
              "      <td>Bachelors</td>\n",
              "      <td>19</td>\n",
              "      <td>45</td>\n",
              "      <td>0</td>\n",
              "    </tr>\n",
              "    <tr>\n",
              "      <th>3</th>\n",
              "      <td>4</td>\n",
              "      <td>58</td>\n",
              "      <td>Male</td>\n",
              "      <td>Group_C</td>\n",
              "      <td>Masters</td>\n",
              "      <td>8</td>\n",
              "      <td>41</td>\n",
              "      <td>0</td>\n",
              "    </tr>\n",
              "    <tr>\n",
              "      <th>4</th>\n",
              "      <td>5</td>\n",
              "      <td>37</td>\n",
              "      <td>Male</td>\n",
              "      <td>Group_C</td>\n",
              "      <td>Bachelors</td>\n",
              "      <td>16</td>\n",
              "      <td>48</td>\n",
              "      <td>0</td>\n",
              "    </tr>\n",
              "  </tbody>\n",
              "</table>\n",
              "</div>\n",
              "    <div class=\"colab-df-buttons\">\n",
              "\n",
              "  <div class=\"colab-df-container\">\n",
              "    <button class=\"colab-df-convert\" onclick=\"convertToInteractive('df-2e242aab-5a61-4bb6-b5b1-7382ce4e83ec')\"\n",
              "            title=\"Convert this dataframe to an interactive table.\"\n",
              "            style=\"display:none;\">\n",
              "\n",
              "  <svg xmlns=\"http://www.w3.org/2000/svg\" height=\"24px\" viewBox=\"0 -960 960 960\">\n",
              "    <path d=\"M120-120v-720h720v720H120Zm60-500h600v-160H180v160Zm220 220h160v-160H400v160Zm0 220h160v-160H400v160ZM180-400h160v-160H180v160Zm440 0h160v-160H620v160ZM180-180h160v-160H180v160Zm440 0h160v-160H620v160Z\"/>\n",
              "  </svg>\n",
              "    </button>\n",
              "\n",
              "  <style>\n",
              "    .colab-df-container {\n",
              "      display:flex;\n",
              "      gap: 12px;\n",
              "    }\n",
              "\n",
              "    .colab-df-convert {\n",
              "      background-color: #E8F0FE;\n",
              "      border: none;\n",
              "      border-radius: 50%;\n",
              "      cursor: pointer;\n",
              "      display: none;\n",
              "      fill: #1967D2;\n",
              "      height: 32px;\n",
              "      padding: 0 0 0 0;\n",
              "      width: 32px;\n",
              "    }\n",
              "\n",
              "    .colab-df-convert:hover {\n",
              "      background-color: #E2EBFA;\n",
              "      box-shadow: 0px 1px 2px rgba(60, 64, 67, 0.3), 0px 1px 3px 1px rgba(60, 64, 67, 0.15);\n",
              "      fill: #174EA6;\n",
              "    }\n",
              "\n",
              "    .colab-df-buttons div {\n",
              "      margin-bottom: 4px;\n",
              "    }\n",
              "\n",
              "    [theme=dark] .colab-df-convert {\n",
              "      background-color: #3B4455;\n",
              "      fill: #D2E3FC;\n",
              "    }\n",
              "\n",
              "    [theme=dark] .colab-df-convert:hover {\n",
              "      background-color: #434B5C;\n",
              "      box-shadow: 0px 1px 3px 1px rgba(0, 0, 0, 0.15);\n",
              "      filter: drop-shadow(0px 1px 2px rgba(0, 0, 0, 0.3));\n",
              "      fill: #FFFFFF;\n",
              "    }\n",
              "  </style>\n",
              "\n",
              "    <script>\n",
              "      const buttonEl =\n",
              "        document.querySelector('#df-2e242aab-5a61-4bb6-b5b1-7382ce4e83ec button.colab-df-convert');\n",
              "      buttonEl.style.display =\n",
              "        google.colab.kernel.accessAllowed ? 'block' : 'none';\n",
              "\n",
              "      async function convertToInteractive(key) {\n",
              "        const element = document.querySelector('#df-2e242aab-5a61-4bb6-b5b1-7382ce4e83ec');\n",
              "        const dataTable =\n",
              "          await google.colab.kernel.invokeFunction('convertToInteractive',\n",
              "                                                    [key], {});\n",
              "        if (!dataTable) return;\n",
              "\n",
              "        const docLinkHtml = 'Like what you see? Visit the ' +\n",
              "          '<a target=\"_blank\" href=https://colab.research.google.com/notebooks/data_table.ipynb>data table notebook</a>'\n",
              "          + ' to learn more about interactive tables.';\n",
              "        element.innerHTML = '';\n",
              "        dataTable['output_type'] = 'display_data';\n",
              "        await google.colab.output.renderOutput(dataTable, element);\n",
              "        const docLink = document.createElement('div');\n",
              "        docLink.innerHTML = docLinkHtml;\n",
              "        element.appendChild(docLink);\n",
              "      }\n",
              "    </script>\n",
              "  </div>\n",
              "\n",
              "\n",
              "    <div id=\"df-4e733faa-7ef1-4697-acbe-92d9ec680421\">\n",
              "      <button class=\"colab-df-quickchart\" onclick=\"quickchart('df-4e733faa-7ef1-4697-acbe-92d9ec680421')\"\n",
              "                title=\"Suggest charts\"\n",
              "                style=\"display:none;\">\n",
              "\n",
              "<svg xmlns=\"http://www.w3.org/2000/svg\" height=\"24px\"viewBox=\"0 0 24 24\"\n",
              "     width=\"24px\">\n",
              "    <g>\n",
              "        <path d=\"M19 3H5c-1.1 0-2 .9-2 2v14c0 1.1.9 2 2 2h14c1.1 0 2-.9 2-2V5c0-1.1-.9-2-2-2zM9 17H7v-7h2v7zm4 0h-2V7h2v10zm4 0h-2v-4h2v4z\"/>\n",
              "    </g>\n",
              "</svg>\n",
              "      </button>\n",
              "\n",
              "<style>\n",
              "  .colab-df-quickchart {\n",
              "      --bg-color: #E8F0FE;\n",
              "      --fill-color: #1967D2;\n",
              "      --hover-bg-color: #E2EBFA;\n",
              "      --hover-fill-color: #174EA6;\n",
              "      --disabled-fill-color: #AAA;\n",
              "      --disabled-bg-color: #DDD;\n",
              "  }\n",
              "\n",
              "  [theme=dark] .colab-df-quickchart {\n",
              "      --bg-color: #3B4455;\n",
              "      --fill-color: #D2E3FC;\n",
              "      --hover-bg-color: #434B5C;\n",
              "      --hover-fill-color: #FFFFFF;\n",
              "      --disabled-bg-color: #3B4455;\n",
              "      --disabled-fill-color: #666;\n",
              "  }\n",
              "\n",
              "  .colab-df-quickchart {\n",
              "    background-color: var(--bg-color);\n",
              "    border: none;\n",
              "    border-radius: 50%;\n",
              "    cursor: pointer;\n",
              "    display: none;\n",
              "    fill: var(--fill-color);\n",
              "    height: 32px;\n",
              "    padding: 0;\n",
              "    width: 32px;\n",
              "  }\n",
              "\n",
              "  .colab-df-quickchart:hover {\n",
              "    background-color: var(--hover-bg-color);\n",
              "    box-shadow: 0 1px 2px rgba(60, 64, 67, 0.3), 0 1px 3px 1px rgba(60, 64, 67, 0.15);\n",
              "    fill: var(--button-hover-fill-color);\n",
              "  }\n",
              "\n",
              "  .colab-df-quickchart-complete:disabled,\n",
              "  .colab-df-quickchart-complete:disabled:hover {\n",
              "    background-color: var(--disabled-bg-color);\n",
              "    fill: var(--disabled-fill-color);\n",
              "    box-shadow: none;\n",
              "  }\n",
              "\n",
              "  .colab-df-spinner {\n",
              "    border: 2px solid var(--fill-color);\n",
              "    border-color: transparent;\n",
              "    border-bottom-color: var(--fill-color);\n",
              "    animation:\n",
              "      spin 1s steps(1) infinite;\n",
              "  }\n",
              "\n",
              "  @keyframes spin {\n",
              "    0% {\n",
              "      border-color: transparent;\n",
              "      border-bottom-color: var(--fill-color);\n",
              "      border-left-color: var(--fill-color);\n",
              "    }\n",
              "    20% {\n",
              "      border-color: transparent;\n",
              "      border-left-color: var(--fill-color);\n",
              "      border-top-color: var(--fill-color);\n",
              "    }\n",
              "    30% {\n",
              "      border-color: transparent;\n",
              "      border-left-color: var(--fill-color);\n",
              "      border-top-color: var(--fill-color);\n",
              "      border-right-color: var(--fill-color);\n",
              "    }\n",
              "    40% {\n",
              "      border-color: transparent;\n",
              "      border-right-color: var(--fill-color);\n",
              "      border-top-color: var(--fill-color);\n",
              "    }\n",
              "    60% {\n",
              "      border-color: transparent;\n",
              "      border-right-color: var(--fill-color);\n",
              "    }\n",
              "    80% {\n",
              "      border-color: transparent;\n",
              "      border-right-color: var(--fill-color);\n",
              "      border-bottom-color: var(--fill-color);\n",
              "    }\n",
              "    90% {\n",
              "      border-color: transparent;\n",
              "      border-bottom-color: var(--fill-color);\n",
              "    }\n",
              "  }\n",
              "</style>\n",
              "\n",
              "      <script>\n",
              "        async function quickchart(key) {\n",
              "          const quickchartButtonEl =\n",
              "            document.querySelector('#' + key + ' button');\n",
              "          quickchartButtonEl.disabled = true;  // To prevent multiple clicks.\n",
              "          quickchartButtonEl.classList.add('colab-df-spinner');\n",
              "          try {\n",
              "            const charts = await google.colab.kernel.invokeFunction(\n",
              "                'suggestCharts', [key], {});\n",
              "          } catch (error) {\n",
              "            console.error('Error during call to suggestCharts:', error);\n",
              "          }\n",
              "          quickchartButtonEl.classList.remove('colab-df-spinner');\n",
              "          quickchartButtonEl.classList.add('colab-df-quickchart-complete');\n",
              "        }\n",
              "        (() => {\n",
              "          let quickchartButtonEl =\n",
              "            document.querySelector('#df-4e733faa-7ef1-4697-acbe-92d9ec680421 button');\n",
              "          quickchartButtonEl.style.display =\n",
              "            google.colab.kernel.accessAllowed ? 'block' : 'none';\n",
              "        })();\n",
              "      </script>\n",
              "    </div>\n",
              "\n",
              "    </div>\n",
              "  </div>\n"
            ],
            "application/vnd.google.colaboratory.intrinsic+json": {
              "type": "dataframe",
              "variable_name": "data",
              "summary": "{\n  \"name\": \"data\",\n  \"rows\": 1200,\n  \"fields\": [\n    {\n      \"column\": \"Applicant_ID\",\n      \"properties\": {\n        \"dtype\": \"number\",\n        \"std\": 346,\n        \"min\": 1,\n        \"max\": 1200,\n        \"num_unique_values\": 1200,\n        \"samples\": [\n          1179,\n          866,\n          102\n        ],\n        \"semantic_type\": \"\",\n        \"description\": \"\"\n      }\n    },\n    {\n      \"column\": \"Age\",\n      \"properties\": {\n        \"dtype\": \"number\",\n        \"std\": 11,\n        \"min\": 20,\n        \"max\": 59,\n        \"num_unique_values\": 40,\n        \"samples\": [\n          55,\n          40,\n          23\n        ],\n        \"semantic_type\": \"\",\n        \"description\": \"\"\n      }\n    },\n    {\n      \"column\": \"Gender\",\n      \"properties\": {\n        \"dtype\": \"category\",\n        \"num_unique_values\": 3,\n        \"samples\": [\n          \"Male\",\n          \"Other\",\n          \"Female\"\n        ],\n        \"semantic_type\": \"\",\n        \"description\": \"\"\n      }\n    },\n    {\n      \"column\": \"Ethnicity\",\n      \"properties\": {\n        \"dtype\": \"category\",\n        \"num_unique_values\": 3,\n        \"samples\": [\n          \"Group_B\",\n          \"Group_C\",\n          \"Group_A\"\n        ],\n        \"semantic_type\": \"\",\n        \"description\": \"\"\n      }\n    },\n    {\n      \"column\": \"Education\",\n      \"properties\": {\n        \"dtype\": \"category\",\n        \"num_unique_values\": 4,\n        \"samples\": [\n          \"Masters\",\n          \"PhD\",\n          \"Bachelors\"\n        ],\n        \"semantic_type\": \"\",\n        \"description\": \"\"\n      }\n    },\n    {\n      \"column\": \"Years_Experience\",\n      \"properties\": {\n        \"dtype\": \"number\",\n        \"std\": 5,\n        \"min\": 0,\n        \"max\": 19,\n        \"num_unique_values\": 20,\n        \"samples\": [\n          12,\n          18,\n          3\n        ],\n        \"semantic_type\": \"\",\n        \"description\": \"\"\n      }\n    },\n    {\n      \"column\": \"Skill_Score\",\n      \"properties\": {\n        \"dtype\": \"number\",\n        \"std\": 17,\n        \"min\": 40,\n        \"max\": 99,\n        \"num_unique_values\": 60,\n        \"samples\": [\n          87,\n          52,\n          95\n        ],\n        \"semantic_type\": \"\",\n        \"description\": \"\"\n      }\n    },\n    {\n      \"column\": \"Shortlisted\",\n      \"properties\": {\n        \"dtype\": \"number\",\n        \"std\": 0,\n        \"min\": 0,\n        \"max\": 1,\n        \"num_unique_values\": 2,\n        \"samples\": [\n          1,\n          0\n        ],\n        \"semantic_type\": \"\",\n        \"description\": \"\"\n      }\n    }\n  ]\n}"
            }
          },
          "metadata": {},
          "execution_count": 4
        }
      ],
      "source": [
        "import pandas as pd\n",
        "import numpy as np\n",
        "\n",
        "np.random.seed(123)\n",
        "\n",
        "# Synthetic Recruitment Dataset\n",
        "n = 1200\n",
        "genders = [\"Male\", \"Female\", \"Other\"]\n",
        "ethnicities = [\"Group_A\", \"Group_B\", \"Group_C\"]\n",
        "education_levels = [\"High School\", \"Bachelors\", \"Masters\", \"PhD\"]\n",
        "\n",
        "data = pd.DataFrame({\n",
        "    \"Applicant_ID\": range(1, n+1),\n",
        "    \"Age\": np.random.randint(20, 60, n),\n",
        "    \"Gender\": np.random.choice(genders, n, p=[0.5, 0.45, 0.05]),\n",
        "    \"Ethnicity\": np.random.choice(ethnicities, n, p=[0.4, 0.35, 0.25]),\n",
        "    \"Education\": np.random.choice(education_levels, n, p=[0.3, 0.4, 0.2, 0.1]),\n",
        "    \"Years_Experience\": np.random.randint(0, 20, n),\n",
        "    \"Skill_Score\": np.random.randint(40, 100, n)  # Out of 100\n",
        "})\n",
        "\n",
        "# Introduce a bias pattern:\n",
        "# Applicants with Master's or PhD and Skill_Score > 70 more likely to be shortlisted\n",
        "data[\"Shortlisted\"] = np.where(\n",
        "    (data[\"Education\"].isin([\"Masters\", \"PhD\"])) & (data[\"Skill_Score\"] > 70),\n",
        "    np.random.choice([1, 0], n, p=[0.75, 0.25]),\n",
        "    np.random.choice([1, 0], n, p=[0.35, 0.65])\n",
        ")\n",
        "\n",
        "# Extra: Slight advantage for Ethnicity = Group_A\n",
        "mask_group_a = data[\"Ethnicity\"] == \"Group_A\"\n",
        "boost = np.random.choice([1, 0], size=n, p=[0.55, 0.45])\n",
        "data[\"Shortlisted\"] = np.where(mask_group_a, boost, data[\"Shortlisted\"])\n",
        "\n",
        "data.head()"
      ]
    },
    {
      "cell_type": "markdown",
      "source": [
        "#Part A — Operationalizing Ethics in Development"
      ],
      "metadata": {
        "id": "MLrNacyA9l1h"
      }
    },
    {
      "cell_type": "markdown",
      "source": [
        "#Task 1 — Bias Detection in Development\n",
        "\n",
        "    Train a baseline model to predict Shortlisted.\n",
        "    Measure positive prediction rates by Gender and Ethnicity.\n",
        "    Identify potential bias sources.\n"
      ],
      "metadata": {
        "id": "YkUG7VuG9wBM"
      }
    },
    {
      "cell_type": "code",
      "source": [
        "from sklearn.model_selection import train_test_split\n",
        "from sklearn.ensemble import RandomForestClassifier\n",
        "from sklearn.metrics import accuracy_score\n"
      ],
      "metadata": {
        "id": "ZUzWjxoQ-I6C"
      },
      "execution_count": 5,
      "outputs": []
    },
    {
      "cell_type": "code",
      "source": [
        "# Prepare data\n",
        "X = pd.get_dummies(data.drop(columns=[\"Applicant_ID\",\"Shortlisted\"]), drop_first=True)\n",
        "y = data[\"Shortlisted\"]\n",
        "\n",
        "X_train, X_test, y_train, y_test = train_test_split(X, y, test_size=0.3, random_state=42)\n",
        "\n",
        "# Train baseline model\n",
        "model = RandomForestClassifier(n_estimators=50, random_state=42)\n",
        "model.fit(X_train, y_train)\n",
        "\n",
        "# Evaluate\n",
        "y_pred = model.predict(X_test)\n",
        "print(\"Baseline Accuracy:\", accuracy_score(y_test, y_pred))"
      ],
      "metadata": {
        "id": "KPQsVKdw-K9m",
        "outputId": "4767f1f0-bf3e-4eba-a6c1-112d5bf0c7e4",
        "colab": {
          "base_uri": "https://localhost:8080/"
        }
      },
      "execution_count": 7,
      "outputs": [
        {
          "output_type": "stream",
          "name": "stdout",
          "text": [
            "Baseline Accuracy: 0.5361111111111111\n"
          ]
        }
      ]
    },
    {
      "cell_type": "code",
      "source": [
        "# Bias check by Gender and Ethnicity\n",
        "# Merge back with sensitive attributes for bias check\n",
        "df_test = X_test.copy()\n",
        "df_test[\"y_true\"] = y_test\n",
        "df_test[\"y_pred\"] = y_pred\n",
        "df_test[\"Gender\"] = data.loc[y_test.index, \"Gender\"]\n",
        "df_test[\"Ethnicity\"] = data.loc[y_test.index, \"Ethnicity\"]\n",
        "\n",
        "# Bias by Gender\n",
        "print(\"\\nPositive prediction rate by Gender:\")\n",
        "print(df_test.groupby(\"Gender\")[\"y_pred\"].mean())\n",
        "\n",
        "# Bias by Ethnicity\n",
        "print(\"\\nPositive prediction rate by Ethnicity:\")\n",
        "print(df_test.groupby(\"Ethnicity\")[\"y_pred\"].mean())"
      ],
      "metadata": {
        "id": "qw-MS0m8_d8H",
        "outputId": "f70104f1-1d02-4438-8fdf-f3fe8f0a5d50",
        "colab": {
          "base_uri": "https://localhost:8080/"
        }
      },
      "execution_count": 12,
      "outputs": [
        {
          "output_type": "stream",
          "name": "stdout",
          "text": [
            "\n",
            "Positive prediction rate by Gender:\n",
            "Gender\n",
            "Female    0.387500\n",
            "Male      0.347826\n",
            "Other     0.812500\n",
            "Name: y_pred, dtype: float64\n",
            "\n",
            "Positive prediction rate by Ethnicity:\n",
            "Ethnicity\n",
            "Group_A    0.522388\n",
            "Group_B    0.261194\n",
            "Group_C    0.369565\n",
            "Name: y_pred, dtype: float64\n"
          ]
        }
      ]
    },
    {
      "cell_type": "markdown",
      "source": [
        "#Task 2 — Fairness Testing in Development"
      ],
      "metadata": {
        "id": "84ZLmolkBKF9"
      }
    },
    {
      "cell_type": "markdown",
      "source": [
        "Implement a pre‑deployment fairness test that fails if demographic disparity > 0.1."
      ],
      "metadata": {
        "id": "pIU-fWzMBTnO"
      }
    },
    {
      "cell_type": "markdown",
      "source": [],
      "metadata": {
        "id": "d_peL1dQB3a2"
      }
    },
    {
      "cell_type": "code",
      "source": [
        "def fairness_check(df, sensitive_attr, threshold=0.1):\n",
        "    rates = df.groupby(sensitive_attr)[\"y_pred\"].mean()\n",
        "    disparity = rates.max() - rates.min()\n",
        "    print(f\"{sensitive_attr} Disparity: {round(disparity, 3)}\")\n",
        "    return disparity <= threshold\n",
        "\n",
        "print(\"\\nFairness Checks:\")\n",
        "gender_fair = fairness_check(df_test, \"Gender\")\n",
        "ethnic_fair = fairness_check(df_test, \"Ethnicity\")\n",
        "\n",
        "if not (gender_fair and ethnic_fair):\n",
        "    print(\"❌ Fairness check FAILED — Mitigation required.\")\n",
        "else:\n",
        "    print(\"✅ Fairness check PASSED.\")"
      ],
      "metadata": {
        "id": "ABNP89uCBW4N",
        "outputId": "7c15435d-bf30-4faa-c6d9-c3fa8a9dacdd",
        "colab": {
          "base_uri": "https://localhost:8080/"
        }
      },
      "execution_count": 13,
      "outputs": [
        {
          "output_type": "stream",
          "name": "stdout",
          "text": [
            "\n",
            "Fairness Checks:\n",
            "Gender Disparity: 0.465\n",
            "Ethnicity Disparity: 0.261\n",
            "❌ Fairness check FAILED — Mitigation required.\n"
          ]
        }
      ]
    },
    {
      "cell_type": "markdown",
      "source": [
        "#Task 3 — Feature Role & Ethics Review"
      ],
      "metadata": {
        "id": "II3YOVyzBtz5"
      }
    },
    {
      "cell_type": "markdown",
      "source": [
        "\n",
        "    Generate feature importance rankings.\n",
        "    Flag socio‑demographic features (Gender, Ethnicity) if they rank high.\n",
        "    Suggest how to de‑bias them (e.g., removal, reweighting, representation balancing).\n"
      ],
      "metadata": {
        "id": "drm0LI7HB2b1"
      }
    },
    {
      "cell_type": "code",
      "source": [
        "importances = pd.Series(model.feature_importances_, index=X.columns)\n",
        "importances.sort_values(ascending=False).head(10)\n",
        "\n",
        "#importances = pd.Series(model.feature_importances_, index=X.columns).sort_values(ascending=False)\n",
        "#print(\"\\nTop Features (Importance):\")\n",
        "#print(importances.head(10))"
      ],
      "metadata": {
        "id": "BFMp39E3B-SG",
        "outputId": "aa919f80-e29a-420a-a5aa-4b1106a3c62d",
        "colab": {
          "base_uri": "https://localhost:8080/",
          "height": 398
        }
      },
      "execution_count": 18,
      "outputs": [
        {
          "output_type": "execute_result",
          "data": {
            "text/plain": [
              "Skill_Score              0.298223\n",
              "Age                      0.272882\n",
              "Years_Experience         0.233171\n",
              "Gender_Male              0.039751\n",
              "Ethnicity_Group_B        0.032707\n",
              "Education_Masters        0.032055\n",
              "Education_High School    0.028008\n",
              "Ethnicity_Group_C        0.027460\n",
              "Education_PhD            0.021553\n",
              "Gender_Other             0.014190\n",
              "dtype: float64"
            ],
            "text/html": [
              "<div>\n",
              "<style scoped>\n",
              "    .dataframe tbody tr th:only-of-type {\n",
              "        vertical-align: middle;\n",
              "    }\n",
              "\n",
              "    .dataframe tbody tr th {\n",
              "        vertical-align: top;\n",
              "    }\n",
              "\n",
              "    .dataframe thead th {\n",
              "        text-align: right;\n",
              "    }\n",
              "</style>\n",
              "<table border=\"1\" class=\"dataframe\">\n",
              "  <thead>\n",
              "    <tr style=\"text-align: right;\">\n",
              "      <th></th>\n",
              "      <th>0</th>\n",
              "    </tr>\n",
              "  </thead>\n",
              "  <tbody>\n",
              "    <tr>\n",
              "      <th>Skill_Score</th>\n",
              "      <td>0.298223</td>\n",
              "    </tr>\n",
              "    <tr>\n",
              "      <th>Age</th>\n",
              "      <td>0.272882</td>\n",
              "    </tr>\n",
              "    <tr>\n",
              "      <th>Years_Experience</th>\n",
              "      <td>0.233171</td>\n",
              "    </tr>\n",
              "    <tr>\n",
              "      <th>Gender_Male</th>\n",
              "      <td>0.039751</td>\n",
              "    </tr>\n",
              "    <tr>\n",
              "      <th>Ethnicity_Group_B</th>\n",
              "      <td>0.032707</td>\n",
              "    </tr>\n",
              "    <tr>\n",
              "      <th>Education_Masters</th>\n",
              "      <td>0.032055</td>\n",
              "    </tr>\n",
              "    <tr>\n",
              "      <th>Education_High School</th>\n",
              "      <td>0.028008</td>\n",
              "    </tr>\n",
              "    <tr>\n",
              "      <th>Ethnicity_Group_C</th>\n",
              "      <td>0.027460</td>\n",
              "    </tr>\n",
              "    <tr>\n",
              "      <th>Education_PhD</th>\n",
              "      <td>0.021553</td>\n",
              "    </tr>\n",
              "    <tr>\n",
              "      <th>Gender_Other</th>\n",
              "      <td>0.014190</td>\n",
              "    </tr>\n",
              "  </tbody>\n",
              "</table>\n",
              "</div><br><label><b>dtype:</b> float64</label>"
            ]
          },
          "metadata": {},
          "execution_count": 18
        }
      ]
    },
    {
      "cell_type": "markdown",
      "source": [
        "#Task 4 — Ethics-Aware Agile User Stories"
      ],
      "metadata": {
        "id": "gPKrx_HJC7vH"
      }
    },
    {
      "cell_type": "markdown",
      "source": [
        "Document two user stories for your model development that explicitly incorporate ethics (e.g., \"As a recruiter, I want the model to avoid bias based on gender\")."
      ],
      "metadata": {
        "id": "YIsffP9qDD3e"
      }
    },
    {
      "cell_type": "markdown",
      "source": [
        "Example user stories:\n",
        "\n",
        "    US1: As a recruiter, I want the AI model to evaluate candidates without bias based on gender so that all applicants are treated fairly.\n",
        "    US2: As a compliance officer, I want automated fairness checks in the model training pipeline so that biased models are not deployed.\n"
      ],
      "metadata": {
        "id": "ED91HlIuDZiy"
      }
    },
    {
      "cell_type": "markdown",
      "source": [
        "#Part B — Operationalizing Ethics in Deployment"
      ],
      "metadata": {
        "id": "jjRbPeSFDtkp"
      }
    },
    {
      "cell_type": "markdown",
      "source": [
        "#Task 5 — Logging & Accountability"
      ],
      "metadata": {
        "id": "Gx_-_1p9DwKW"
      }
    },
    {
      "cell_type": "markdown",
      "source": [
        "Create a prediction function that logs:\n",
        "\n",
        "    Timestamp\n",
        "    Input features\n",
        "    Model output\n",
        "    Model version\n"
      ],
      "metadata": {
        "id": "Z7aNH2SdD8ZY"
      }
    },
    {
      "cell_type": "code",
      "source": [
        "import datetime\n",
        "prediction_log = []\n",
        "MODEL_VERSION = \"1.0.0\"\n",
        "\n",
        "def predict_and_log(features):\n",
        "    pred = model.predict(features)[0]\n",
        "    log_entry = {\n",
        "        \"timestamp\": datetime.datetime.now().isoformat(),\n",
        "        \"model_version\": MODEL_VERSION,\n",
        "        \"input\": features.to_dict(orient='records')[0],\n",
        "        \"prediction\": int(pred)\n",
        "    }\n",
        "    prediction_log.append(log_entry)\n",
        "    return pred\n",
        "\n",
        "# Simulate one prediction\n",
        "sample_applicant = X_test.iloc[[0]]\n",
        "predict_and_log(sample_applicant)\n",
        "\n",
        "# Inspect logs\n",
        "prediction_log[:3]"
      ],
      "metadata": {
        "id": "OvPHjzuREFSW",
        "outputId": "1bc22d3b-9024-4dc0-8f8b-bd08e93e9b19",
        "colab": {
          "base_uri": "https://localhost:8080/"
        }
      },
      "execution_count": 19,
      "outputs": [
        {
          "output_type": "execute_result",
          "data": {
            "text/plain": [
              "[{'timestamp': '2025-08-13T10:57:19.613112',\n",
              "  'model_version': '1.0.0',\n",
              "  'input': {'Age': 44,\n",
              "   'Years_Experience': 1,\n",
              "   'Skill_Score': 44,\n",
              "   'Gender_Male': False,\n",
              "   'Gender_Other': False,\n",
              "   'Ethnicity_Group_B': False,\n",
              "   'Ethnicity_Group_C': False,\n",
              "   'Education_High School': True,\n",
              "   'Education_Masters': False,\n",
              "   'Education_PhD': False},\n",
              "  'prediction': 0}]"
            ]
          },
          "metadata": {},
          "execution_count": 19
        }
      ]
    },
    {
      "cell_type": "markdown",
      "source": [
        "#Task 6 — Real-Time Monitoring"
      ],
      "metadata": {
        "id": "eLgFe13vFHxF"
      }
    },
    {
      "cell_type": "markdown",
      "source": [
        "Simulate post‑deployment monitoring:\n",
        "\n",
        "    Track fairness disparity by Gender & Ethnicity.\n",
        "    Trigger alerts if bounds are exceeded.\n"
      ],
      "metadata": {
        "id": "_t91W2b1FMRH"
      }
    },
    {
      "cell_type": "code",
      "source": [
        "# Simulated post-deployment monitoring\n",
        "dp_gender = df_test.groupby(\"Gender\")[\"y_pred\"].mean().max() - df_test.groupby(\"Gender\")[\"y_pred\"].mean().min()\n",
        "dp_ethnicity = df_test.groupby(\"Ethnicity\")[\"y_pred\"].mean().max() - df_test.groupby(\"Ethnicity\")[\"y_pred\"].mean().min()\n",
        "\n",
        "print(f\"Gender Disparity: {dp_gender:.3f}\")\n",
        "print(f\"Ethnicity Disparity: {dp_ethnicity:.3f}\")\n",
        "\n",
        "if dp_gender > 0.1 or dp_ethnicity > 0.1:\n",
        "    print(\"⚠️ ALERT: Fairness threshold exceeded — Investigation required\")\n",
        "else:\n",
        "    print(\"✅ Fairness levels within acceptable range\")"
      ],
      "metadata": {
        "id": "2gtnlAZ6GTyM",
        "outputId": "46dfecd0-e694-48ef-fae7-0b8b2c19919b",
        "colab": {
          "base_uri": "https://localhost:8080/"
        }
      },
      "execution_count": 20,
      "outputs": [
        {
          "output_type": "stream",
          "name": "stdout",
          "text": [
            "Gender Disparity: 0.465\n",
            "Ethnicity Disparity: 0.261\n",
            "⚠️ ALERT: Fairness threshold exceeded — Investigation required\n"
          ]
        }
      ]
    },
    {
      "cell_type": "markdown",
      "source": [
        "#Task 7 — Privacy Controls"
      ],
      "metadata": {
        "id": "D-j89xCdFUlK"
      }
    },
    {
      "cell_type": "code",
      "source": [
        "import hashlib\n",
        "\n",
        "data[\"Applicant_ID\"] = data[\"Applicant_ID\"].apply(lambda x: hashlib.sha256(str(x).encode()).hexdigest())\n",
        "data.head()"
      ],
      "metadata": {
        "id": "BENuxMpcGvZ3",
        "outputId": "83ee99d3-7772-4858-8faa-84893a2a47d3",
        "colab": {
          "base_uri": "https://localhost:8080/",
          "height": 206
        }
      },
      "execution_count": 21,
      "outputs": [
        {
          "output_type": "execute_result",
          "data": {
            "text/plain": [
              "                                        Applicant_ID  Age Gender Ethnicity  \\\n",
              "0  6b86b273ff34fce19d6b804eff5a3f5747ada4eaa22f1d...   22   Male   Group_B   \n",
              "1  d4735e3a265e16eee03f59718b9b5d03019c07d8b6c51f...   48  Other   Group_B   \n",
              "2  4e07408562bedb8b60ce05c1decfe3ad16b72230967de0...   54   Male   Group_B   \n",
              "3  4b227777d4dd1fc61c6f884f48641d02b4d121d3fd328c...   58   Male   Group_C   \n",
              "4  ef2d127de37b942baad06145e54b0c619a1f22327b2ebb...   37   Male   Group_C   \n",
              "\n",
              "   Education  Years_Experience  Skill_Score  Shortlisted  \n",
              "0  Bachelors                12           87            0  \n",
              "1  Bachelors                12           89            1  \n",
              "2  Bachelors                19           45            0  \n",
              "3    Masters                 8           41            0  \n",
              "4  Bachelors                16           48            0  "
            ],
            "text/html": [
              "\n",
              "  <div id=\"df-f973e068-c7ea-4f58-ba84-fc7770916520\" class=\"colab-df-container\">\n",
              "    <div>\n",
              "<style scoped>\n",
              "    .dataframe tbody tr th:only-of-type {\n",
              "        vertical-align: middle;\n",
              "    }\n",
              "\n",
              "    .dataframe tbody tr th {\n",
              "        vertical-align: top;\n",
              "    }\n",
              "\n",
              "    .dataframe thead th {\n",
              "        text-align: right;\n",
              "    }\n",
              "</style>\n",
              "<table border=\"1\" class=\"dataframe\">\n",
              "  <thead>\n",
              "    <tr style=\"text-align: right;\">\n",
              "      <th></th>\n",
              "      <th>Applicant_ID</th>\n",
              "      <th>Age</th>\n",
              "      <th>Gender</th>\n",
              "      <th>Ethnicity</th>\n",
              "      <th>Education</th>\n",
              "      <th>Years_Experience</th>\n",
              "      <th>Skill_Score</th>\n",
              "      <th>Shortlisted</th>\n",
              "    </tr>\n",
              "  </thead>\n",
              "  <tbody>\n",
              "    <tr>\n",
              "      <th>0</th>\n",
              "      <td>6b86b273ff34fce19d6b804eff5a3f5747ada4eaa22f1d...</td>\n",
              "      <td>22</td>\n",
              "      <td>Male</td>\n",
              "      <td>Group_B</td>\n",
              "      <td>Bachelors</td>\n",
              "      <td>12</td>\n",
              "      <td>87</td>\n",
              "      <td>0</td>\n",
              "    </tr>\n",
              "    <tr>\n",
              "      <th>1</th>\n",
              "      <td>d4735e3a265e16eee03f59718b9b5d03019c07d8b6c51f...</td>\n",
              "      <td>48</td>\n",
              "      <td>Other</td>\n",
              "      <td>Group_B</td>\n",
              "      <td>Bachelors</td>\n",
              "      <td>12</td>\n",
              "      <td>89</td>\n",
              "      <td>1</td>\n",
              "    </tr>\n",
              "    <tr>\n",
              "      <th>2</th>\n",
              "      <td>4e07408562bedb8b60ce05c1decfe3ad16b72230967de0...</td>\n",
              "      <td>54</td>\n",
              "      <td>Male</td>\n",
              "      <td>Group_B</td>\n",
              "      <td>Bachelors</td>\n",
              "      <td>19</td>\n",
              "      <td>45</td>\n",
              "      <td>0</td>\n",
              "    </tr>\n",
              "    <tr>\n",
              "      <th>3</th>\n",
              "      <td>4b227777d4dd1fc61c6f884f48641d02b4d121d3fd328c...</td>\n",
              "      <td>58</td>\n",
              "      <td>Male</td>\n",
              "      <td>Group_C</td>\n",
              "      <td>Masters</td>\n",
              "      <td>8</td>\n",
              "      <td>41</td>\n",
              "      <td>0</td>\n",
              "    </tr>\n",
              "    <tr>\n",
              "      <th>4</th>\n",
              "      <td>ef2d127de37b942baad06145e54b0c619a1f22327b2ebb...</td>\n",
              "      <td>37</td>\n",
              "      <td>Male</td>\n",
              "      <td>Group_C</td>\n",
              "      <td>Bachelors</td>\n",
              "      <td>16</td>\n",
              "      <td>48</td>\n",
              "      <td>0</td>\n",
              "    </tr>\n",
              "  </tbody>\n",
              "</table>\n",
              "</div>\n",
              "    <div class=\"colab-df-buttons\">\n",
              "\n",
              "  <div class=\"colab-df-container\">\n",
              "    <button class=\"colab-df-convert\" onclick=\"convertToInteractive('df-f973e068-c7ea-4f58-ba84-fc7770916520')\"\n",
              "            title=\"Convert this dataframe to an interactive table.\"\n",
              "            style=\"display:none;\">\n",
              "\n",
              "  <svg xmlns=\"http://www.w3.org/2000/svg\" height=\"24px\" viewBox=\"0 -960 960 960\">\n",
              "    <path d=\"M120-120v-720h720v720H120Zm60-500h600v-160H180v160Zm220 220h160v-160H400v160Zm0 220h160v-160H400v160ZM180-400h160v-160H180v160Zm440 0h160v-160H620v160ZM180-180h160v-160H180v160Zm440 0h160v-160H620v160Z\"/>\n",
              "  </svg>\n",
              "    </button>\n",
              "\n",
              "  <style>\n",
              "    .colab-df-container {\n",
              "      display:flex;\n",
              "      gap: 12px;\n",
              "    }\n",
              "\n",
              "    .colab-df-convert {\n",
              "      background-color: #E8F0FE;\n",
              "      border: none;\n",
              "      border-radius: 50%;\n",
              "      cursor: pointer;\n",
              "      display: none;\n",
              "      fill: #1967D2;\n",
              "      height: 32px;\n",
              "      padding: 0 0 0 0;\n",
              "      width: 32px;\n",
              "    }\n",
              "\n",
              "    .colab-df-convert:hover {\n",
              "      background-color: #E2EBFA;\n",
              "      box-shadow: 0px 1px 2px rgba(60, 64, 67, 0.3), 0px 1px 3px 1px rgba(60, 64, 67, 0.15);\n",
              "      fill: #174EA6;\n",
              "    }\n",
              "\n",
              "    .colab-df-buttons div {\n",
              "      margin-bottom: 4px;\n",
              "    }\n",
              "\n",
              "    [theme=dark] .colab-df-convert {\n",
              "      background-color: #3B4455;\n",
              "      fill: #D2E3FC;\n",
              "    }\n",
              "\n",
              "    [theme=dark] .colab-df-convert:hover {\n",
              "      background-color: #434B5C;\n",
              "      box-shadow: 0px 1px 3px 1px rgba(0, 0, 0, 0.15);\n",
              "      filter: drop-shadow(0px 1px 2px rgba(0, 0, 0, 0.3));\n",
              "      fill: #FFFFFF;\n",
              "    }\n",
              "  </style>\n",
              "\n",
              "    <script>\n",
              "      const buttonEl =\n",
              "        document.querySelector('#df-f973e068-c7ea-4f58-ba84-fc7770916520 button.colab-df-convert');\n",
              "      buttonEl.style.display =\n",
              "        google.colab.kernel.accessAllowed ? 'block' : 'none';\n",
              "\n",
              "      async function convertToInteractive(key) {\n",
              "        const element = document.querySelector('#df-f973e068-c7ea-4f58-ba84-fc7770916520');\n",
              "        const dataTable =\n",
              "          await google.colab.kernel.invokeFunction('convertToInteractive',\n",
              "                                                    [key], {});\n",
              "        if (!dataTable) return;\n",
              "\n",
              "        const docLinkHtml = 'Like what you see? Visit the ' +\n",
              "          '<a target=\"_blank\" href=https://colab.research.google.com/notebooks/data_table.ipynb>data table notebook</a>'\n",
              "          + ' to learn more about interactive tables.';\n",
              "        element.innerHTML = '';\n",
              "        dataTable['output_type'] = 'display_data';\n",
              "        await google.colab.output.renderOutput(dataTable, element);\n",
              "        const docLink = document.createElement('div');\n",
              "        docLink.innerHTML = docLinkHtml;\n",
              "        element.appendChild(docLink);\n",
              "      }\n",
              "    </script>\n",
              "  </div>\n",
              "\n",
              "\n",
              "    <div id=\"df-2edd27dc-de88-402d-a1a4-0ac94dcd71dd\">\n",
              "      <button class=\"colab-df-quickchart\" onclick=\"quickchart('df-2edd27dc-de88-402d-a1a4-0ac94dcd71dd')\"\n",
              "                title=\"Suggest charts\"\n",
              "                style=\"display:none;\">\n",
              "\n",
              "<svg xmlns=\"http://www.w3.org/2000/svg\" height=\"24px\"viewBox=\"0 0 24 24\"\n",
              "     width=\"24px\">\n",
              "    <g>\n",
              "        <path d=\"M19 3H5c-1.1 0-2 .9-2 2v14c0 1.1.9 2 2 2h14c1.1 0 2-.9 2-2V5c0-1.1-.9-2-2-2zM9 17H7v-7h2v7zm4 0h-2V7h2v10zm4 0h-2v-4h2v4z\"/>\n",
              "    </g>\n",
              "</svg>\n",
              "      </button>\n",
              "\n",
              "<style>\n",
              "  .colab-df-quickchart {\n",
              "      --bg-color: #E8F0FE;\n",
              "      --fill-color: #1967D2;\n",
              "      --hover-bg-color: #E2EBFA;\n",
              "      --hover-fill-color: #174EA6;\n",
              "      --disabled-fill-color: #AAA;\n",
              "      --disabled-bg-color: #DDD;\n",
              "  }\n",
              "\n",
              "  [theme=dark] .colab-df-quickchart {\n",
              "      --bg-color: #3B4455;\n",
              "      --fill-color: #D2E3FC;\n",
              "      --hover-bg-color: #434B5C;\n",
              "      --hover-fill-color: #FFFFFF;\n",
              "      --disabled-bg-color: #3B4455;\n",
              "      --disabled-fill-color: #666;\n",
              "  }\n",
              "\n",
              "  .colab-df-quickchart {\n",
              "    background-color: var(--bg-color);\n",
              "    border: none;\n",
              "    border-radius: 50%;\n",
              "    cursor: pointer;\n",
              "    display: none;\n",
              "    fill: var(--fill-color);\n",
              "    height: 32px;\n",
              "    padding: 0;\n",
              "    width: 32px;\n",
              "  }\n",
              "\n",
              "  .colab-df-quickchart:hover {\n",
              "    background-color: var(--hover-bg-color);\n",
              "    box-shadow: 0 1px 2px rgba(60, 64, 67, 0.3), 0 1px 3px 1px rgba(60, 64, 67, 0.15);\n",
              "    fill: var(--button-hover-fill-color);\n",
              "  }\n",
              "\n",
              "  .colab-df-quickchart-complete:disabled,\n",
              "  .colab-df-quickchart-complete:disabled:hover {\n",
              "    background-color: var(--disabled-bg-color);\n",
              "    fill: var(--disabled-fill-color);\n",
              "    box-shadow: none;\n",
              "  }\n",
              "\n",
              "  .colab-df-spinner {\n",
              "    border: 2px solid var(--fill-color);\n",
              "    border-color: transparent;\n",
              "    border-bottom-color: var(--fill-color);\n",
              "    animation:\n",
              "      spin 1s steps(1) infinite;\n",
              "  }\n",
              "\n",
              "  @keyframes spin {\n",
              "    0% {\n",
              "      border-color: transparent;\n",
              "      border-bottom-color: var(--fill-color);\n",
              "      border-left-color: var(--fill-color);\n",
              "    }\n",
              "    20% {\n",
              "      border-color: transparent;\n",
              "      border-left-color: var(--fill-color);\n",
              "      border-top-color: var(--fill-color);\n",
              "    }\n",
              "    30% {\n",
              "      border-color: transparent;\n",
              "      border-left-color: var(--fill-color);\n",
              "      border-top-color: var(--fill-color);\n",
              "      border-right-color: var(--fill-color);\n",
              "    }\n",
              "    40% {\n",
              "      border-color: transparent;\n",
              "      border-right-color: var(--fill-color);\n",
              "      border-top-color: var(--fill-color);\n",
              "    }\n",
              "    60% {\n",
              "      border-color: transparent;\n",
              "      border-right-color: var(--fill-color);\n",
              "    }\n",
              "    80% {\n",
              "      border-color: transparent;\n",
              "      border-right-color: var(--fill-color);\n",
              "      border-bottom-color: var(--fill-color);\n",
              "    }\n",
              "    90% {\n",
              "      border-color: transparent;\n",
              "      border-bottom-color: var(--fill-color);\n",
              "    }\n",
              "  }\n",
              "</style>\n",
              "\n",
              "      <script>\n",
              "        async function quickchart(key) {\n",
              "          const quickchartButtonEl =\n",
              "            document.querySelector('#' + key + ' button');\n",
              "          quickchartButtonEl.disabled = true;  // To prevent multiple clicks.\n",
              "          quickchartButtonEl.classList.add('colab-df-spinner');\n",
              "          try {\n",
              "            const charts = await google.colab.kernel.invokeFunction(\n",
              "                'suggestCharts', [key], {});\n",
              "          } catch (error) {\n",
              "            console.error('Error during call to suggestCharts:', error);\n",
              "          }\n",
              "          quickchartButtonEl.classList.remove('colab-df-spinner');\n",
              "          quickchartButtonEl.classList.add('colab-df-quickchart-complete');\n",
              "        }\n",
              "        (() => {\n",
              "          let quickchartButtonEl =\n",
              "            document.querySelector('#df-2edd27dc-de88-402d-a1a4-0ac94dcd71dd button');\n",
              "          quickchartButtonEl.style.display =\n",
              "            google.colab.kernel.accessAllowed ? 'block' : 'none';\n",
              "        })();\n",
              "      </script>\n",
              "    </div>\n",
              "\n",
              "    </div>\n",
              "  </div>\n"
            ],
            "application/vnd.google.colaboratory.intrinsic+json": {
              "type": "dataframe",
              "variable_name": "data",
              "summary": "{\n  \"name\": \"data\",\n  \"rows\": 1200,\n  \"fields\": [\n    {\n      \"column\": \"Applicant_ID\",\n      \"properties\": {\n        \"dtype\": \"string\",\n        \"num_unique_values\": 1200,\n        \"samples\": [\n          \"ed07bf12b8fe09324c8bc24c6738e1a8fd1e1c579615665a73b5fffe740db719\",\n          \"80c39b8ca01cdfda142928ba683d503173017d52bfafacb118c62e34ec9bc693\",\n          \"37834f2f25762f23e1f74a531cbe445db73d6765ebe60878a7dfbecd7d4af6e1\"\n        ],\n        \"semantic_type\": \"\",\n        \"description\": \"\"\n      }\n    },\n    {\n      \"column\": \"Age\",\n      \"properties\": {\n        \"dtype\": \"number\",\n        \"std\": 11,\n        \"min\": 20,\n        \"max\": 59,\n        \"num_unique_values\": 40,\n        \"samples\": [\n          55,\n          40,\n          23\n        ],\n        \"semantic_type\": \"\",\n        \"description\": \"\"\n      }\n    },\n    {\n      \"column\": \"Gender\",\n      \"properties\": {\n        \"dtype\": \"category\",\n        \"num_unique_values\": 3,\n        \"samples\": [\n          \"Male\",\n          \"Other\",\n          \"Female\"\n        ],\n        \"semantic_type\": \"\",\n        \"description\": \"\"\n      }\n    },\n    {\n      \"column\": \"Ethnicity\",\n      \"properties\": {\n        \"dtype\": \"category\",\n        \"num_unique_values\": 3,\n        \"samples\": [\n          \"Group_B\",\n          \"Group_C\",\n          \"Group_A\"\n        ],\n        \"semantic_type\": \"\",\n        \"description\": \"\"\n      }\n    },\n    {\n      \"column\": \"Education\",\n      \"properties\": {\n        \"dtype\": \"category\",\n        \"num_unique_values\": 4,\n        \"samples\": [\n          \"Masters\",\n          \"PhD\",\n          \"Bachelors\"\n        ],\n        \"semantic_type\": \"\",\n        \"description\": \"\"\n      }\n    },\n    {\n      \"column\": \"Years_Experience\",\n      \"properties\": {\n        \"dtype\": \"number\",\n        \"std\": 5,\n        \"min\": 0,\n        \"max\": 19,\n        \"num_unique_values\": 20,\n        \"samples\": [\n          12,\n          18,\n          3\n        ],\n        \"semantic_type\": \"\",\n        \"description\": \"\"\n      }\n    },\n    {\n      \"column\": \"Skill_Score\",\n      \"properties\": {\n        \"dtype\": \"number\",\n        \"std\": 17,\n        \"min\": 40,\n        \"max\": 99,\n        \"num_unique_values\": 60,\n        \"samples\": [\n          87,\n          52,\n          95\n        ],\n        \"semantic_type\": \"\",\n        \"description\": \"\"\n      }\n    },\n    {\n      \"column\": \"Shortlisted\",\n      \"properties\": {\n        \"dtype\": \"number\",\n        \"std\": 0,\n        \"min\": 0,\n        \"max\": 1,\n        \"num_unique_values\": 2,\n        \"samples\": [\n          1,\n          0\n        ],\n        \"semantic_type\": \"\",\n        \"description\": \"\"\n      }\n    }\n  ]\n}"
            }
          },
          "metadata": {},
          "execution_count": 21
        }
      ]
    },
    {
      "cell_type": "markdown",
      "source": [
        "Apply pseudo‑ID hashing for Applicant_ID before storing predictions/logs."
      ],
      "metadata": {
        "id": "NramyrXbFiJX"
      }
    },
    {
      "cell_type": "markdown",
      "source": [
        "#Task 8 — Inclusivity Feedback Loop"
      ],
      "metadata": {
        "id": "UtBoYbhXFm20"
      }
    },
    {
      "cell_type": "markdown",
      "source": [
        "Simulate adding feedback cases from underrepresented groups to improve future retraining."
      ],
      "metadata": {
        "id": "8ExS0Et7Fsv5"
      }
    },
    {
      "cell_type": "code",
      "source": [
        "# Simulating underrepresented feedback cases\n",
        "feedback = pd.DataFrame({\n",
        "    \"Age\": [29, 32],\n",
        "    \"Gender\": [\"Other\", \"Other\"],\n",
        "    \"Ethnicity\": [\"Group_C\", \"Group_C\"],\n",
        "    \"Education\": [\"Bachelors\", \"Masters\"],\n",
        "    \"Years_Experience\": [5, 7],\n",
        "    \"Skill_Score\": [82, 76],\n",
        "    \"Shortlisted\": [1, 1]\n",
        "})\n",
        "\n",
        "# Append for future retraining\n",
        "data_updated = pd.concat([data, feedback], ignore_index=True)\n",
        "print(\"Updated dataset size:\", data_updated.shape)"
      ],
      "metadata": {
        "id": "VAAm3cypHBTh",
        "outputId": "a85f6ba8-a948-47c9-d9e7-fbe896de3812",
        "colab": {
          "base_uri": "https://localhost:8080/"
        }
      },
      "execution_count": 22,
      "outputs": [
        {
          "output_type": "stream",
          "name": "stdout",
          "text": [
            "Updated dataset size: (1202, 8)\n"
          ]
        }
      ]
    },
    {
      "cell_type": "markdown",
      "source": [
        "#Task 9 — Ethical Incident Simulation"
      ],
      "metadata": {
        "id": "uLLYHAnRFw4f"
      }
    },
    {
      "cell_type": "markdown",
      "source": [
        "\n",
        "    Create a mock scenario where a bias complaint is received.\n",
        "    Write a structured incident response plan:\n",
        "        Detection\n",
        "        Investigation\n",
        "        Communication\n",
        "        Remediation\n"
      ],
      "metadata": {
        "id": "5te_M5c4F4vC"
      }
    },
    {
      "cell_type": "markdown",
      "source": [
        "Bias Complaint Example Plan\n",
        "\n",
        "    Detection — Monitoring dashboard flags Ethnicity bias > 0.15.\n",
        "    Investigation — Review model logs & fairness metrics, audit training data composition.\n",
        "    Communication — Report findings to compliance team & stakeholders.\n",
        "    Remediation — Retrain with balanced data + remove sensitive feature weights.\n",
        "    Prevention — Add stricter CI/CD bias thresholds.\n",
        "\n"
      ],
      "metadata": {
        "id": "bMV3ZTBGHPE0"
      }
    }
  ]
}