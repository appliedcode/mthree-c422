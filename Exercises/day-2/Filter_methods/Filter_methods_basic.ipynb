{
  "cells": [
    {
      "cell_type": "markdown",
      "id": "bd19c49b",
      "metadata": {
        "id": "bd19c49b"
      },
      "source": [
        "# Colab Lab: Filter Methods for Feature Selection\n",
        "\n",
        "This notebook contains six self-contained exercises. Each section includes problem description, solution overview, and complete code cells you can copy & paste into Colab. Execute each code block in order.\n",
        "\n",
        "---\n",
        "\n",
        "## Exercise 1: Variance Threshold (Basic Selection)\n",
        "\n",
        "**Problem Description:**  \n",
        "Low-variance features carry little information. Removing them reduces noise and model complexity.\n",
        "\n",
        "**Solution Overview:**  \n",
        "Use `VarianceThreshold` to drop features below a variance threshold. Explore thresholds 0.2, 0.6, and 0.8 and plot variances.\n",
        "\n"
      ]
    },
    {
      "cell_type": "code",
      "execution_count": 6,
      "id": "ea737c96",
      "metadata": {
        "vscode": {
          "languageId": "plaintext"
        },
        "id": "ea737c96"
      },
      "outputs": [],
      "source": [
        "# 1.1 Setup\n",
        "!pip install scikit-learn pandas matplotlib seaborn --quiet\n",
        "import pandas as pd\n",
        "import numpy as np\n",
        "import matplotlib.pyplot as plt\n",
        "import seaborn as sns\n",
        "from sklearn.datasets import load_iris\n",
        "from sklearn.feature_selection import VarianceThreshold"
      ]
    },
    {
      "cell_type": "code",
      "execution_count": 7,
      "id": "f04fadfb",
      "metadata": {
        "vscode": {
          "languageId": "plaintext"
        },
        "id": "f04fadfb",
        "outputId": "45873eea-7b7b-4a27-cf7c-901cbd3312fe",
        "colab": {
          "base_uri": "https://localhost:8080/"
        }
      },
      "outputs": [
        {
          "output_type": "stream",
          "name": "stdout",
          "text": [
            "Original features: ['sepal length (cm)', 'sepal width (cm)', 'petal length (cm)', 'petal width (cm)']\n"
          ]
        }
      ],
      "source": [
        "# 1.2 Load Data\n",
        "data = load_iris()\n",
        "X = pd.DataFrame(data.data, columns=data.feature_names)\n",
        "y = pd.Series(data.target, name='target')\n",
        "print(\"Original features:\", list(X.columns))"
      ]
    },
    {
      "cell_type": "code",
      "execution_count": 8,
      "id": "83dd0761",
      "metadata": {
        "vscode": {
          "languageId": "plaintext"
        },
        "id": "83dd0761",
        "outputId": "88c2841d-fb32-4534-e621-4bd206f6f753",
        "colab": {
          "base_uri": "https://localhost:8080/",
          "height": 499
        }
      },
      "outputs": [
        {
          "output_type": "display_data",
          "data": {
            "text/plain": [
              "<Figure size 600x400 with 1 Axes>"
            ],
            "image/png": "[encoded data removed]"
          },
          "metadata": {}
        }
      ],
      "source": [
        "# 1.3 Compute Feature Variances & Plot\n",
        "variances = X.var()\n",
        "plt.figure(figsize=(6,4))\n",
        "variances.plot(kind='bar', title='Feature Variances')\n",
        "plt.ylabel('Variance')\n",
        "plt.show()"
      ]
    },
    {
      "cell_type": "code",
      "execution_count": 9,
      "id": "815fa43c",
      "metadata": {
        "vscode": {
          "languageId": "plaintext"
        },
        "id": "815fa43c",
        "outputId": "4ac38a1e-2f14-4e32-a218-5fe0ef4b8100",
        "colab": {
          "base_uri": "https://localhost:8080/"
        }
      },
      "outputs": [
        {
          "output_type": "stream",
          "name": "stdout",
          "text": [
            "Threshold=0.2: kept features → ['sepal length (cm)', 'petal length (cm)', 'petal width (cm)']\n",
            "Threshold=0.6: kept features → ['sepal length (cm)', 'petal length (cm)']\n",
            "Threshold=0.8: kept features → ['petal length (cm)']\n"
          ]
        }
      ],
      "source": [
        "# 1.4 Apply VarianceThreshold for different thresholds\n",
        "for thresh in [0.2, 0.6, 0.8]:\n",
        "  sel = VarianceThreshold(threshold=thresh)\n",
        "  X_sel = sel.fit_transform(X)\n",
        "  kept = X.columns[sel.get_support()]\n",
        "  print(f\"Threshold={thresh}: kept features →\", list(kept))"
      ]
    },
    {
      "cell_type": "markdown",
      "id": "f557c61f",
      "metadata": {
        "id": "f557c61f"
      },
      "source": [
        "# 1.4 Analysis\n",
        "* Which features were removed?\n",
        "* How does changing the threshold to 0.2 or 0.8 affect the selected set?\n",
        "* Plot the variances of all features as a bar chart."
      ]
    },
    {
      "cell_type": "markdown",
      "id": "5fa210cd",
      "metadata": {
        "id": "5fa210cd"
      },
      "source": [
        "# Exercise 1: Variance Threshold\n",
        "## Analysis to Include in Code"
      ]
    },
    {
      "cell_type": "code",
      "execution_count": 10,
      "id": "bba68da5",
      "metadata": {
        "vscode": {
          "languageId": "plaintext"
        },
        "id": "bba68da5",
        "outputId": "103c2eb5-d520-4c2a-9f23-32b4213d6914",
        "colab": {
          "base_uri": "https://localhost:8080/"
        }
      },
      "outputs": [
        {
          "output_type": "stream",
          "name": "stdout",
          "text": [
            "Removed features: {'sepal length (cm)', 'sepal width (cm)', 'petal width (cm)'}\n"
          ]
        }
      ],
      "source": [
        "# 1. Removed vs. Kept Features\n",
        "removed = set(X.columns) - set(kept)\n",
        "print(\"Removed features:\", removed)\n"
      ]
    },
    {
      "cell_type": "code",
      "execution_count": 11,
      "id": "8714b54a",
      "metadata": {
        "vscode": {
          "languageId": "plaintext"
        },
        "id": "8714b54a",
        "outputId": "c9630308-2cca-4419-85ae-77e0766b1bc8",
        "colab": {
          "base_uri": "https://localhost:8080/",
          "height": 433
        }
      },
      "outputs": [
        {
          "output_type": "display_data",
          "data": {
            "text/plain": [
              "<Figure size 640x480 with 1 Axes>"
            ],
            "image/png": "[encoded data removed]"
          },
          "metadata": {}
        }
      ],
      "source": [
        "# 2. Variance Distribution\n",
        "variances.sort_values().plot(kind='box', title=\"Variance Distribution\")\n",
        "plt.show()\n"
      ]
    },
    {
      "cell_type": "code",
      "execution_count": 12,
      "id": "714f3cef",
      "metadata": {
        "vscode": {
          "languageId": "plaintext"
        },
        "id": "714f3cef",
        "outputId": "aefe8c2e-a5e9-4d55-e9c9-e72936f807a2",
        "colab": {
          "base_uri": "https://localhost:8080/",
          "height": 356
        }
      },
      "outputs": [
        {
          "output_type": "error",
          "ename": "ValueError",
          "evalue": "No feature in X meets the variance threshold 3.11628",
          "traceback": [
            "\u001b[0;31m---------------------------------------------------------------------------\u001b[0m",
            "\u001b[0;31mValueError\u001b[0m                                Traceback (most recent call last)",
            "\u001b[0;32m/tmp/ipython-input-12-3266115364.py\u001b[0m in \u001b[0;36m<cell line: 0>\u001b[0;34m()\u001b[0m\n\u001b[1;32m      3\u001b[0m \u001b[0;32mfor\u001b[0m \u001b[0mt\u001b[0m \u001b[0;32min\u001b[0m \u001b[0mnp\u001b[0m\u001b[0;34m.\u001b[0m\u001b[0mlinspace\u001b[0m\u001b[0;34m(\u001b[0m\u001b[0;36m0\u001b[0m\u001b[0;34m,\u001b[0m \u001b[0mvariances\u001b[0m\u001b[0;34m.\u001b[0m\u001b[0mmax\u001b[0m\u001b[0;34m(\u001b[0m\u001b[0;34m)\u001b[0m\u001b[0;34m,\u001b[0m \u001b[0;36m10\u001b[0m\u001b[0;34m)\u001b[0m\u001b[0;34m:\u001b[0m\u001b[0;34m\u001b[0m\u001b[0;34m\u001b[0m\u001b[0m\n\u001b[1;32m      4\u001b[0m     \u001b[0msel\u001b[0m \u001b[0;34m=\u001b[0m \u001b[0mVarianceThreshold\u001b[0m\u001b[0;34m(\u001b[0m\u001b[0mthreshold\u001b[0m\u001b[0;34m=\u001b[0m\u001b[0mt\u001b[0m\u001b[0;34m)\u001b[0m\u001b[0;34m\u001b[0m\u001b[0;34m\u001b[0m\u001b[0m\n\u001b[0;32m----> 5\u001b[0;31m     \u001b[0mresults\u001b[0m\u001b[0;34m.\u001b[0m\u001b[0mappend\u001b[0m\u001b[0;34m(\u001b[0m\u001b[0;34m(\u001b[0m\u001b[0mt\u001b[0m\u001b[0;34m,\u001b[0m \u001b[0msel\u001b[0m\u001b[0;34m.\u001b[0m\u001b[0mfit\u001b[0m\u001b[0;34m(\u001b[0m\u001b[0mX\u001b[0m\u001b[0;34m)\u001b[0m\u001b[0;34m.\u001b[0m\u001b[0mget_support\u001b[0m\u001b[0;34m(\u001b[0m\u001b[0;34m)\u001b[0m\u001b[0;34m.\u001b[0m\u001b[0msum\u001b[0m\u001b[0;34m(\u001b[0m\u001b[0;34m)\u001b[0m\u001b[0;34m)\u001b[0m\u001b[0;34m)\u001b[0m\u001b[0;34m\u001b[0m\u001b[0;34m\u001b[0m\u001b[0m\n\u001b[0m\u001b[1;32m      6\u001b[0m \u001b[0mpd\u001b[0m\u001b[0;34m.\u001b[0m\u001b[0mDataFrame\u001b[0m\u001b[0;34m(\u001b[0m\u001b[0mresults\u001b[0m\u001b[0;34m,\u001b[0m \u001b[0mcolumns\u001b[0m\u001b[0;34m=\u001b[0m\u001b[0;34m[\u001b[0m\u001b[0;34m'threshold'\u001b[0m\u001b[0;34m,\u001b[0m\u001b[0;34m'n_kept'\u001b[0m\u001b[0;34m]\u001b[0m\u001b[0;34m)\u001b[0m\u001b[0;34m.\u001b[0m\u001b[0mplot\u001b[0m\u001b[0;34m(\u001b[0m\u001b[0mx\u001b[0m\u001b[0;34m=\u001b[0m\u001b[0;34m'threshold'\u001b[0m\u001b[0;34m,\u001b[0m \u001b[0my\u001b[0m\u001b[0;34m=\u001b[0m\u001b[0;34m'n_kept'\u001b[0m\u001b[0;34m,\u001b[0m \u001b[0mmarker\u001b[0m\u001b[0;34m=\u001b[0m\u001b[0;34m'o'\u001b[0m\u001b[0;34m)\u001b[0m\u001b[0;34m\u001b[0m\u001b[0;34m\u001b[0m\u001b[0m\n\u001b[1;32m      7\u001b[0m \u001b[0mplt\u001b[0m\u001b[0;34m.\u001b[0m\u001b[0mtitle\u001b[0m\u001b[0;34m(\u001b[0m\u001b[0;34m\"Features Kept vs. Threshold\"\u001b[0m\u001b[0;34m)\u001b[0m\u001b[0;34m\u001b[0m\u001b[0;34m\u001b[0m\u001b[0m\n",
            "\u001b[0;32m/usr/local/lib/python3.11/dist-packages/sklearn/base.py\u001b[0m in \u001b[0;36mwrapper\u001b[0;34m(estimator, *args, **kwargs)\u001b[0m\n\u001b[1;32m   1387\u001b[0m                 )\n\u001b[1;32m   1388\u001b[0m             ):\n\u001b[0;32m-> 1389\u001b[0;31m                 \u001b[0;32mreturn\u001b[0m \u001b[0mfit_method\u001b[0m\u001b[0;34m(\u001b[0m\u001b[0mestimator\u001b[0m\u001b[0;34m,\u001b[0m \u001b[0;34m*\u001b[0m\u001b[0margs\u001b[0m\u001b[0;34m,\u001b[0m \u001b[0;34m**\u001b[0m\u001b[0mkwargs\u001b[0m\u001b[0;34m)\u001b[0m\u001b[0;34m\u001b[0m\u001b[0;34m\u001b[0m\u001b[0m\n\u001b[0m\u001b[1;32m   1390\u001b[0m \u001b[0;34m\u001b[0m\u001b[0m\n\u001b[1;32m   1391\u001b[0m         \u001b[0;32mreturn\u001b[0m \u001b[0mwrapper\u001b[0m\u001b[0;34m\u001b[0m\u001b[0;34m\u001b[0m\u001b[0m\n",
            "\u001b[0;32m/usr/local/lib/python3.11/dist-packages/sklearn/feature_selection/_variance_threshold.py\u001b[0m in \u001b[0;36mfit\u001b[0;34m(self, X, y)\u001b[0m\n\u001b[1;32m    126\u001b[0m             \u001b[0;32mif\u001b[0m \u001b[0mX\u001b[0m\u001b[0;34m.\u001b[0m\u001b[0mshape\u001b[0m\u001b[0;34m[\u001b[0m\u001b[0;36m0\u001b[0m\u001b[0;34m]\u001b[0m \u001b[0;34m==\u001b[0m \u001b[0;36m1\u001b[0m\u001b[0;34m:\u001b[0m\u001b[0;34m\u001b[0m\u001b[0;34m\u001b[0m\u001b[0m\n\u001b[1;32m    127\u001b[0m                 \u001b[0mmsg\u001b[0m \u001b[0;34m+=\u001b[0m \u001b[0;34m\" (X contains only one sample)\"\u001b[0m\u001b[0;34m\u001b[0m\u001b[0;34m\u001b[0m\u001b[0m\n\u001b[0;32m--> 128\u001b[0;31m             \u001b[0;32mraise\u001b[0m \u001b[0mValueError\u001b[0m\u001b[0;34m(\u001b[0m\u001b[0mmsg\u001b[0m\u001b[0;34m.\u001b[0m\u001b[0mformat\u001b[0m\u001b[0;34m(\u001b[0m\u001b[0mself\u001b[0m\u001b[0;34m.\u001b[0m\u001b[0mthreshold\u001b[0m\u001b[0;34m)\u001b[0m\u001b[0;34m)\u001b[0m\u001b[0;34m\u001b[0m\u001b[0;34m\u001b[0m\u001b[0m\n\u001b[0m\u001b[1;32m    129\u001b[0m \u001b[0;34m\u001b[0m\u001b[0m\n\u001b[1;32m    130\u001b[0m         \u001b[0;32mreturn\u001b[0m \u001b[0mself\u001b[0m\u001b[0;34m\u001b[0m\u001b[0;34m\u001b[0m\u001b[0m\n",
            "\u001b[0;31mValueError\u001b[0m: No feature in X meets the variance threshold 3.11628"
          ]
        }
      ],
      "source": [
        "# 3. Threshold Sensitivity\n",
        "results = []\n",
        "for t in np.linspace(0, variances.max(), 10):\n",
        "    sel = VarianceThreshold(threshold=t)\n",
        "    results.append((t, sel.fit(X).get_support().sum()))\n",
        "pd.DataFrame(results, columns=['threshold','n_kept']).plot(x='threshold', y='n_kept', marker='o')\n",
        "plt.title(\"Features Kept vs. Threshold\")\n",
        "plt.show()\n"
      ]
    }
  ],
  "metadata": {
    "language_info": {
      "name": "python"
    },
    "colab": {
      "provenance": []
    },
    "kernelspec": {
      "name": "python3",
      "display_name": "Python 3"
    }
  },
  "nbformat": 4,
  "nbformat_minor": 5
}