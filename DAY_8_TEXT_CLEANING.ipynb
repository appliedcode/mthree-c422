{
  "nbformat": 4,
  "nbformat_minor": 0,
  "metadata": {
    "colab": {
      "provenance": [],
      "authorship_tag": "ABX9TyPzg0f0z+oUtmDRqVbaPI+v"
    },
    "kernelspec": {
      "name": "python3",
      "display_name": "Python 3"
    },
    "language_info": {
      "name": "python"
    }
  },
  "cells": [
    {
      "cell_type": "code",
      "execution_count": null,
      "metadata": {
        "colab": {
          "base_uri": "https://localhost:8080/"
        },
        "id": "k0Oh63DcdOqY",
        "outputId": "30f3626c-2313-49dc-9a53-2a8cc49d6ce5"
      },
      "outputs": [
        {
          "output_type": "stream",
          "name": "stdout",
          "text": [
            "✅ spaCy model loaded successfully!\n",
            "Sample Messy Texts:\n",
            "==================================================\n",
            " 1. 'Hey there!!! Check out this AMAZING deal at https://example.com/sale 🎉'\n",
            " 2. 'EMAIL me at john.doe@company.com for more INFO!!!'\n",
            " 3. '   So much    extra    whitespace   everywhere   '\n",
            " 4. 'HTML content: This is a paragraph with bold text'\n",
            " 5. 'Phone: +1-555-123-4567 or call (555) 987-6543 today!'\n",
            " 6. 'Social media: Follow @username #trending #viral #amazing'\n",
            " 7. 'Mixed CASE and 123 numbers and $pecial ch@r@cters!!!'\n",
            " 8. 'Line breaks\\nand\\ttabs\\teverywhere\\r\\n'\n",
            " 9. \"Contractions like don't, won't, I'm, and we're are common\"\n",
            "10. 'Numbers: 1st, 2nd, 3rd places and dates like 01/15/2024'\n"
          ]
        }
      ],
      "source": [
        "# Import required libraries\n",
        "import re\n",
        "import string\n",
        "import nltk\n",
        "import spacy\n",
        "import pandas as pd\n",
        "import numpy as np\n",
        "from collections import Counter\n",
        "import matplotlib.pyplot as plt\n",
        "import seaborn as sns\n",
        "\n",
        "# Download required NLTK data (if not already downloaded)\n",
        "nltk.download('punkt', quiet=True)\n",
        "nltk.download('stopwords', quiet=True)\n",
        "nltk.download('wordnet', quiet=True)\n",
        "nltk.download('punkt_tab', quiet=True)\n",
        "\n",
        "# Load spaCy model (install with: python -m spacy download en_core_web_sm)\n",
        "try:\n",
        "    nlp = spacy.load(\"en_core_web_sm\")\n",
        "    print(\"✅ spaCy model loaded successfully!\")\n",
        "except OSError:\n",
        "    print(\"❌ Please install spaCy English model: python -m spacy download en_core_web_sm\")\n",
        "    nlp = None\n",
        "\n",
        "# Sample messy text data for demonstration\n",
        "messy_texts = [\n",
        "    \"Hey there!!! Check out this AMAZING deal at https://example.com/sale 🎉\",\n",
        "    \"EMAIL me at john.doe@company.com for more INFO!!!\",\n",
        "    \"   So much    extra    whitespace   everywhere   \",\n",
        "    \"HTML content: This is a paragraph with bold text\",\n",
        "    \"Phone: +1-555-123-4567 or call (555) 987-6543 today!\",\n",
        "    \"Social media: Follow @username #trending #viral #amazing\",\n",
        "    \"Mixed CASE and 123 numbers and $pecial ch@r@cters!!!\",\n",
        "    \"Line breaks\\nand\\ttabs\\teverywhere\\r\\n\",\n",
        "    \"Contractions like don't, won't, I'm, and we're are common\",\n",
        "    \"Numbers: 1st, 2nd, 3rd places and dates like 01/15/2024\"\n",
        "]\n",
        "\n",
        "print(\"Sample Messy Texts:\")\n",
        "print(\"=\" * 50)\n",
        "for i, text in enumerate(messy_texts, 1):\n",
        "    print(f\"{i:2d}. {repr(text)}\")\n"
      ]
    },
    {
      "cell_type": "code",
      "source": [
        "# Step-by-step text cleaning demonstration\n",
        "\n",
        "def demonstrate_cleaning_steps(text):\n",
        "    \"\"\"Show each cleaning step with before/after examples\"\"\"\n",
        "    print(f\"Original: {repr(text)}\")\n",
        "    print(f\"Display:  {text}\")\n",
        "    print(\"-\" * 80)\n",
        "\n",
        "    # Step 1: Remove URLs\n",
        "    import re\n",
        "    url_pattern = r'http[s]?://(?:[a-zA-Z]|[0-9]|[$-_@.&+]|[!*\\(\\),]|(?:%[0-9a-fA-F][0-9a-fA-F]))+'\n",
        "    step1 = re.sub(url_pattern, '', text)\n",
        "    print(f\"After URL removal: {step1}\")\n",
        "\n",
        "    # Step 2: Remove email addresses\n",
        "    email_pattern = r'\\b[A-Za-z0-9._%+-]+@[A-Za-z0-9.-]+\\.[A-Z|a-z]{2,}\\b'\n",
        "    step2 = re.sub(email_pattern, '', step1)\n",
        "    print(f\"After email removal: {step2}\")\n",
        "\n",
        "    # Step 3: Remove HTML tags\n",
        "    html_pattern = r'<[^>]+>'\n",
        "    step3 = re.sub(html_pattern, '', step2)\n",
        "    print(f\"After HTML removal: {step3}\")\n",
        "\n",
        "    # Step 4: Remove phone numbers\n",
        "    phone_pattern = r'\\+?1?[-.\\s]?\\d{3}[-.\\s]?\\d{3}[-.\\s]?\\d{4}|\\(\\d{3}\\)[-.\\s]?\\d{3}[-.\\s]?\\d{4}'\n",
        "    step4 = re.sub(phone_pattern, '', step3)\n",
        "    print(f\"After phone removal: {step4}\")\n",
        "\n",
        "    # Step 5: Remove social media elements\n",
        "    hashtag_pattern = r'#\\w+'\n",
        "    mention_pattern = r'@\\w+'\n",
        "    step5 = re.sub(hashtag_pattern, '', step4)\n",
        "    step5 = re.sub(mention_pattern, '', step5)\n",
        "    print(f\"After social media removal: {step5}\")\n",
        "\n",
        "    # Step 6: Normalize whitespace\n",
        "    whitespace_pattern = r'\\s+'\n",
        "    step6 = re.sub(whitespace_pattern, ' ', step5).strip()\n",
        "    print(f\"After whitespace normalization: {step6}\")\n",
        "\n",
        "    # Step 7: Convert to lowercase\n",
        "    step7 = step6.lower()\n",
        "    print(f\"After lowercasing: {step7}\")\n",
        "\n",
        "    print(\"=\" * 80)\n",
        "    return step7\n",
        "\n",
        "# Test with our messy examples\n",
        "print(\"TEXT CLEANING DEMONSTRATION\")\n",
        "print(\"=\" * 80)\n",
        "\n",
        "for i, text in enumerate(messy_texts[:3], 1):  # Show first 3 examples\n",
        "    print(f\"\\nExample {i}:\")\n",
        "    cleaned = demonstrate_cleaning_steps(text)\n",
        "    print(f\"\\nFinal result: '{cleaned}'\")\n",
        "    print(\"\\n\" + \"=\"*80)"
      ],
      "metadata": {
        "colab": {
          "base_uri": "https://localhost:8080/"
        },
        "id": "e3Zmmjy0d_Vd",
        "outputId": "36c0a151-bf9d-4ded-c363-b08cfda986ad"
      },
      "execution_count": null,
      "outputs": [
        {
          "output_type": "stream",
          "name": "stdout",
          "text": [
            "TEXT CLEANING DEMONSTRATION\n",
            "================================================================================\n",
            "\n",
            "Example 1:\n",
            "Original: 'Hey there!!! Check out this AMAZING deal at https://example.com/sale 🎉'\n",
            "Display:  Hey there!!! Check out this AMAZING deal at https://example.com/sale 🎉\n",
            "--------------------------------------------------------------------------------\n",
            "After URL removal: Hey there!!! Check out this AMAZING deal at  🎉\n",
            "After email removal: Hey there!!! Check out this AMAZING deal at  🎉\n",
            "After HTML removal: Hey there!!! Check out this AMAZING deal at  🎉\n",
            "After phone removal: Hey there!!! Check out this AMAZING deal at  🎉\n",
            "After social media removal: Hey there!!! Check out this AMAZING deal at  🎉\n",
            "After whitespace normalization: Hey there!!! Check out this AMAZING deal at 🎉\n",
            "After lowercasing: hey there!!! check out this amazing deal at 🎉\n",
            "================================================================================\n",
            "\n",
            "Final result: 'hey there!!! check out this amazing deal at 🎉'\n",
            "\n",
            "================================================================================\n",
            "\n",
            "Example 2:\n",
            "Original: 'EMAIL me at john.doe@company.com for more INFO!!!'\n",
            "Display:  EMAIL me at john.doe@company.com for more INFO!!!\n",
            "--------------------------------------------------------------------------------\n",
            "After URL removal: EMAIL me at john.doe@company.com for more INFO!!!\n",
            "After email removal: EMAIL me at  for more INFO!!!\n",
            "After HTML removal: EMAIL me at  for more INFO!!!\n",
            "After phone removal: EMAIL me at  for more INFO!!!\n",
            "After social media removal: EMAIL me at  for more INFO!!!\n",
            "After whitespace normalization: EMAIL me at for more INFO!!!\n",
            "After lowercasing: email me at for more info!!!\n",
            "================================================================================\n",
            "\n",
            "Final result: 'email me at for more info!!!'\n",
            "\n",
            "================================================================================\n",
            "\n",
            "Example 3:\n",
            "Original: '   So much    extra    whitespace   everywhere   '\n",
            "Display:     So much    extra    whitespace   everywhere   \n",
            "--------------------------------------------------------------------------------\n",
            "After URL removal:    So much    extra    whitespace   everywhere   \n",
            "After email removal:    So much    extra    whitespace   everywhere   \n",
            "After HTML removal:    So much    extra    whitespace   everywhere   \n",
            "After phone removal:    So much    extra    whitespace   everywhere   \n",
            "After social media removal:    So much    extra    whitespace   everywhere   \n",
            "After whitespace normalization: So much extra whitespace everywhere\n",
            "After lowercasing: so much extra whitespace everywhere\n",
            "================================================================================\n",
            "\n",
            "Final result: 'so much extra whitespace everywhere'\n",
            "\n",
            "================================================================================\n"
          ]
        }
      ]
    },
    {
      "cell_type": "code",
      "source": [
        "# Tokenization Comparison: NLTK vs spaCy vs Simple Split\n",
        "\n",
        "sample_text = \"\"\"\n",
        "Dr. Smith's research on AI (published in 2024) shows that machine learning can't\n",
        "solve every problem. However, it's incredibly useful! Visit https://example.com\n",
        "for more details. What do you think?\n",
        "\"\"\"\n",
        "\n",
        "print(\"TOKENIZATION COMPARISON\")\n",
        "print(\"=\" * 60)\n",
        "print(f\"Sample text: {sample_text.strip()}\")\n",
        "print(\"-\" * 60)\n",
        "\n",
        "# Method 1: Simple Python split\n",
        "simple_tokens = sample_text.split()\n",
        "print(f\"\\n1. SIMPLE SPLIT ({len(simple_tokens)} tokens):\")\n",
        "print(f\"   {simple_tokens}\")\n",
        "\n",
        "# Method 2: NLTK word tokenization\n",
        "from nltk.tokenize import word_tokenize, sent_tokenize\n",
        "nltk_word_tokens = word_tokenize(sample_text)\n",
        "print(f\"\\n2. NLTK WORD TOKENIZE ({len(nltk_word_tokens)} tokens):\")\n",
        "print(f\"   {nltk_word_tokens}\")\n",
        "\n",
        "# Method 3: NLTK sentence tokenization\n",
        "nltk_sent_tokens = sent_tokenize(sample_text)\n",
        "print(f\"\\n3. NLTK SENTENCE TOKENIZE ({len(nltk_sent_tokens)} sentences):\")\n",
        "for i, sent in enumerate(nltk_sent_tokens, 1):\n",
        "    print(f\"   {i}. {sent.strip()}\")\n",
        "\n",
        "# Method 4: spaCy tokenization (if available)\n",
        "if nlp:\n",
        "    doc = nlp(sample_text)\n",
        "    spacy_tokens = [token.text for token in doc]\n",
        "    print(f\"\\n4. SPACY TOKENIZE ({len(spacy_tokens)} tokens):\")\n",
        "    print(f\"   {spacy_tokens}\")\n",
        "\n",
        "    # spaCy sentences\n",
        "    spacy_sents = [sent.text.strip() for sent in doc.sents]\n",
        "    print(f\"\\n5. SPACY SENTENCES ({len(spacy_sents)} sentences):\")\n",
        "    for i, sent in enumerate(spacy_sents, 1):\n",
        "        print(f\"   {i}. {sent}\")\n",
        "\n",
        "# Method 5: Regular expression tokenization\n",
        "import re\n",
        "regex_tokens = re.findall(r'\\b\\w+\\b', sample_text)\n",
        "print(f\"\\n6. REGEX TOKENIZE (\\b\\w+\\b) ({len(regex_tokens)} tokens):\")\n",
        "print(f\"   {regex_tokens}\")\n",
        "\n",
        "print(\"\\n\" + \"=\" * 60)\n",
        "print(\"Key Differences:\")\n",
        "print(\"• Simple split: Fastest but crude, keeps punctuation\")\n",
        "print(\"• NLTK: Good balance, handles punctuation well\")\n",
        "print(\"• spaCy: Most sophisticated, includes linguistic analysis\")\n",
        "print(\"• Regex: Customizable but requires pattern knowledge\")\n"
      ],
      "metadata": {
        "colab": {
          "base_uri": "https://localhost:8080/"
        },
        "id": "ceL6gnU2e1FQ",
        "outputId": "24a4889e-fb02-41d5-a1d1-21d6620e9814"
      },
      "execution_count": null,
      "outputs": [
        {
          "output_type": "stream",
          "name": "stdout",
          "text": [
            "TOKENIZATION COMPARISON\n",
            "============================================================\n",
            "Sample text: Dr. Smith's research on AI (published in 2024) shows that machine learning can't\n",
            "solve every problem. However, it's incredibly useful! Visit https://example.com\n",
            "for more details. What do you think?\n",
            "------------------------------------------------------------\n",
            "\n",
            "1. SIMPLE SPLIT (29 tokens):\n",
            "   ['Dr.', \"Smith's\", 'research', 'on', 'AI', '(published', 'in', '2024)', 'shows', 'that', 'machine', 'learning', \"can't\", 'solve', 'every', 'problem.', 'However,', \"it's\", 'incredibly', 'useful!', 'Visit', 'https://example.com', 'for', 'more', 'details.', 'What', 'do', 'you', 'think?']\n",
            "\n",
            "2. NLTK WORD TOKENIZE (41 tokens):\n",
            "   ['Dr.', 'Smith', \"'s\", 'research', 'on', 'AI', '(', 'published', 'in', '2024', ')', 'shows', 'that', 'machine', 'learning', 'ca', \"n't\", 'solve', 'every', 'problem', '.', 'However', ',', 'it', \"'s\", 'incredibly', 'useful', '!', 'Visit', 'https', ':', '//example.com', 'for', 'more', 'details', '.', 'What', 'do', 'you', 'think', '?']\n",
            "\n",
            "3. NLTK SENTENCE TOKENIZE (4 sentences):\n",
            "   1. Dr. Smith's research on AI (published in 2024) shows that machine learning can't\n",
            "solve every problem.\n",
            "   2. However, it's incredibly useful!\n",
            "   3. Visit https://example.com\n",
            "for more details.\n",
            "   4. What do you think?\n",
            "\n",
            "4. SPACY TOKENIZE (43 tokens):\n",
            "   ['\\n', 'Dr.', 'Smith', \"'s\", 'research', 'on', 'AI', '(', 'published', 'in', '2024', ')', 'shows', 'that', 'machine', 'learning', 'ca', \"n't\", '\\n', 'solve', 'every', 'problem', '.', 'However', ',', 'it', \"'s\", 'incredibly', 'useful', '!', 'Visit', 'https://example.com', '\\n', 'for', 'more', 'details', '.', 'What', 'do', 'you', 'think', '?', '\\n']\n",
            "\n",
            "5. SPACY SENTENCES (4 sentences):\n",
            "   1. Dr. Smith's research on AI (published in 2024) shows that machine learning can't\n",
            "solve every problem.\n",
            "   2. However, it's incredibly useful!\n",
            "   3. Visit https://example.com\n",
            "for more details.\n",
            "   4. What do you think?\n",
            "\n",
            "6. REGEX TOKENIZE (\b\\w+\b) (34 tokens):\n",
            "   ['Dr', 'Smith', 's', 'research', 'on', 'AI', 'published', 'in', '2024', 'shows', 'that', 'machine', 'learning', 'can', 't', 'solve', 'every', 'problem', 'However', 'it', 's', 'incredibly', 'useful', 'Visit', 'https', 'example', 'com', 'for', 'more', 'details', 'What', 'do', 'you', 'think']\n",
            "\n",
            "============================================================\n",
            "Key Differences:\n",
            "• Simple split: Fastest but crude, keeps punctuation\n",
            "• NLTK: Good balance, handles punctuation well\n",
            "• spaCy: Most sophisticated, includes linguistic analysis\n",
            "• Regex: Customizable but requires pattern knowledge\n"
          ]
        }
      ]
    },
    {
      "cell_type": "markdown",
      "source": [
        "EXEC - 1"
      ],
      "metadata": {
        "id": "AlBQf3aZhaPE"
      }
    },
    {
      "cell_type": "markdown",
      "source": [
        "Data set up"
      ],
      "metadata": {
        "id": "W-8OHEzNh60R"
      }
    },
    {
      "cell_type": "code",
      "source": [
        "reviews = [\n",
        "    \"Absolutely LOVED this product!!! Will buy again 😊 Visit http://shop.example.com\",\n",
        "    \"Worst purchase ever... arrived broken, no response from support @helpdesk\",\n",
        "    \"Ok quality; does the job. 5/5 stars! #satisfied\",\n",
        "    \"Email me at user@example.org for details about bulk order!!!\",\n",
        "    \"Super overpriced!! Paid $299 but performance is meh...\",\n",
        "    \"<div>Great build quality</div><p>But shipping was slow</p>\",\n",
        "    \"Contact: +44 20 7946 0958 or (020)79460958\",\n",
        "    \"MixedCASE and random123numbers and symbols %^&*\",\n",
        "    \"Line1\\nLine2\\tTabbed text\\r\\nEnd of review\",\n",
        "    \"Contractions—can't, won't, shouldn't—are common here.\"\n",
        "]\n"
      ],
      "metadata": {
        "id": "ASO-gNkxhfNo"
      },
      "execution_count": null,
      "outputs": []
    },
    {
      "cell_type": "code",
      "source": [
        "import re\n",
        "from bs4 import BeautifulSoup\n",
        "\n",
        "def clean_text(text):\n",
        "    text = text.lower()\n",
        "    text = re.sub(r'http\\S+|www\\S+', '', text)  # Remove URLs\n",
        "    text = re.sub(r'\\S+@\\S+', '', text)  # Remove emails\n",
        "    text = re.sub(r'<.*?>', '', text)  # Remove HTML tags\n",
        "    text = re.sub(r'@\\w+|#\\w+', '', text)  # Remove mentions/hashtags\n",
        "    text = re.sub(r'\\+?\\d[\\d\\s\\-\\(\\)]{8,}', '', text)  # Remove phone numbers\n",
        "    text = re.sub(r'[^\\w\\s\\']', '', text)  # Keep only alphanumeric and apostrophes\n",
        "    text = re.sub(r'\\s+', ' ', text).strip()  # Normalize whitespace\n",
        "    return text\n"
      ],
      "metadata": {
        "id": "wvbMy35ViDLA"
      },
      "execution_count": null,
      "outputs": []
    },
    {
      "cell_type": "code",
      "source": [
        "cleaned_reviews = [clean_text(review) for review in reviews]\n"
      ],
      "metadata": {
        "id": "RUX1gRW0iF6b"
      },
      "execution_count": null,
      "outputs": []
    },
    {
      "cell_type": "code",
      "source": [
        "sample = cleaned_reviews[0]\n",
        "print(\"Cleaned Sample Review:\", sample)\n"
      ],
      "metadata": {
        "colab": {
          "base_uri": "https://localhost:8080/"
        },
        "id": "GoCk0NldiOTH",
        "outputId": "e3fe1202-14a4-450d-88a5-0e521ec55789"
      },
      "execution_count": null,
      "outputs": [
        {
          "output_type": "stream",
          "name": "stdout",
          "text": [
            "Cleaned Sample Review: absolutely loved this product will buy again visit\n"
          ]
        }
      ]
    },
    {
      "cell_type": "code",
      "source": [
        "split_tokens = sample.split()\n",
        "print(\"Simple Split:\", split_tokens)\n"
      ],
      "metadata": {
        "colab": {
          "base_uri": "https://localhost:8080/"
        },
        "id": "jv6wN4ALiQpV",
        "outputId": "9adb2f89-0d97-4bf4-ce1e-2ca4146fb089"
      },
      "execution_count": null,
      "outputs": [
        {
          "output_type": "stream",
          "name": "stdout",
          "text": [
            "Simple Split: ['absolutely', 'loved', 'this', 'product', 'will', 'buy', 'again', 'visit']\n"
          ]
        }
      ]
    },
    {
      "cell_type": "code",
      "source": [
        "import nltk\n",
        "nltk.download('punkt')\n",
        "from nltk.tokenize import word_tokenize\n",
        "\n",
        "nltk_tokens = word_tokenize(sample)\n",
        "print(\"NLTK Tokens:\", nltk_tokens)\n"
      ],
      "metadata": {
        "colab": {
          "base_uri": "https://localhost:8080/"
        },
        "id": "vCJMQ4q4iWkL",
        "outputId": "2543e776-a19f-41f0-cb91-8a8cda8d9bea"
      },
      "execution_count": null,
      "outputs": [
        {
          "output_type": "stream",
          "name": "stdout",
          "text": [
            "NLTK Tokens: ['absolutely', 'loved', 'this', 'product', 'will', 'buy', 'again', 'visit']\n"
          ]
        },
        {
          "output_type": "stream",
          "name": "stderr",
          "text": [
            "[nltk_data] Downloading package punkt to /root/nltk_data...\n",
            "[nltk_data]   Package punkt is already up-to-date!\n"
          ]
        }
      ]
    },
    {
      "cell_type": "code",
      "source": [
        "import spacy\n",
        "nlp = spacy.load(\"en_core_web_sm\")\n",
        "\n",
        "doc = nlp(sample)\n",
        "spacy_tokens = [token.text for token in doc]\n",
        "print(\"spaCy Tokens:\", spacy_tokens)\n"
      ],
      "metadata": {
        "colab": {
          "base_uri": "https://localhost:8080/"
        },
        "id": "UcuhBoHjia8A",
        "outputId": "0589c343-f891-45c3-b4f5-de29a204e40d"
      },
      "execution_count": null,
      "outputs": [
        {
          "output_type": "stream",
          "name": "stdout",
          "text": [
            "spaCy Tokens: ['absolutely', 'loved', 'this', 'product', 'will', 'buy', 'again', 'visit']\n"
          ]
        }
      ]
    },
    {
      "cell_type": "code",
      "source": [
        "regex_tokens = re.findall(r\"\\b\\w+(?:'\\w+)?\\b\", sample)\n",
        "print(\"Regex Tokens:\", regex_tokens)\n"
      ],
      "metadata": {
        "colab": {
          "base_uri": "https://localhost:8080/"
        },
        "id": "qP8Qc3hzjCnE",
        "outputId": "0ef554e9-10f1-4c75-da29-b6c937a35f14"
      },
      "execution_count": null,
      "outputs": [
        {
          "output_type": "stream",
          "name": "stdout",
          "text": [
            "Regex Tokens: ['absolutely', 'loved', 'this', 'product', 'will', 'buy', 'again', 'visit']\n"
          ]
        }
      ]
    },
    {
      "cell_type": "code",
      "source": [
        "all_tokens = []\n",
        "for review in cleaned_reviews:\n",
        "    tokens = re.findall(r\"\\b\\w+(?:'\\w+)?\\b\", review)\n",
        "    all_tokens.extend(tokens)\n"
      ],
      "metadata": {
        "id": "mJ893kKPjH7l"
      },
      "execution_count": null,
      "outputs": []
    },
    {
      "cell_type": "code",
      "source": [
        "from collections import Counter\n",
        "import matplotlib.pyplot as plt\n",
        "\n",
        "freq_dist = Counter(all_tokens)\n",
        "common_tokens = freq_dist.most_common(10)\n",
        "print(\"Top 10 Tokens:\", common_tokens)\n"
      ],
      "metadata": {
        "colab": {
          "base_uri": "https://localhost:8080/"
        },
        "id": "OI6x_kwcjMQw",
        "outputId": "23697f5d-8727-42fa-bb62-4a6c166e0a47"
      },
      "execution_count": null,
      "outputs": [
        {
          "output_type": "stream",
          "name": "stdout",
          "text": [
            "Top 10 Tokens: [('and', 2), ('absolutely', 1), ('loved', 1), ('this', 1), ('product', 1), ('will', 1), ('buy', 1), ('again', 1), ('visit', 1), ('worst', 1)]\n"
          ]
        }
      ]
    },
    {
      "cell_type": "code",
      "source": [
        "tokens, counts = zip(*common_tokens)\n",
        "\n",
        "plt.figure(figsize=(10, 5))\n",
        "plt.bar(tokens, counts)\n",
        "plt.title(\"Top 10 Most Frequent Tokens\")\n",
        "plt.xlabel(\"Tokens\")\n",
        "plt.ylabel(\"Frequency\")\n",
        "plt.show()\n"
      ],
      "metadata": {
        "colab": {
          "base_uri": "https://localhost:8080/",
          "height": 487
        },
        "id": "WQCDPTSrjTXW",
        "outputId": "d2b8df30-c6ea-420a-a5b5-ae40e34d0e19"
      },
      "execution_count": null,
      "outputs": [
        {
          "output_type": "display_data",
          "data": {
            "text/plain": [
              "<Figure size 1000x500 with 1 Axes>"
            ],
            "image/png": "[encoded data removed]"
          },
          "metadata": {}
        }
      ]
    }
  ]
}