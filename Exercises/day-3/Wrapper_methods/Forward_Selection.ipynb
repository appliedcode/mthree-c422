{
 "cells": [
  {
   "cell_type": "code",
   "execution_count": null,
   "id": "a9b5fa65",
   "metadata": {
    "vscode": {
     "languageId": "plaintext"
    }
   },
   "outputs": [],
   "source": [
    "# Forward Selection\n",
    "import pandas as pd\n",
    "from sklearn.datasets import load_breast_cancer\n",
    "from sklearn.linear_model import LogisticRegression\n",
    "from sklearn.feature_selection import SequentialFeatureSelector\n",
    "from sklearn.model_selection import train_test_split\n",
    "from sklearn.metrics import accuracy_score\n"
   ]
  },
  {
   "cell_type": "code",
   "execution_count": null,
   "id": "4e080b2b",
   "metadata": {
    "vscode": {
     "languageId": "plaintext"
    }
   },
   "outputs": [],
   "source": [
    "# Load data\n",
    "X, y = load_breast_cancer(return_X_y=True)\n",
    "X = pd.DataFrame(X)"
   ]
  },
  {
   "cell_type": "code",
   "execution_count": null,
   "id": "7b38155f",
   "metadata": {
    "vscode": {
     "languageId": "plaintext"
    }
   },
   "outputs": [],
   "source": [
    "# Split dataset into train and test\n",
    "X_train, X_test, y_train, y_test = train_test_split(X, y, random_state=42)"
   ]
  },
  {
   "cell_type": "code",
   "execution_count": null,
   "id": "a028b5d0",
   "metadata": {
    "vscode": {
     "languageId": "plaintext"
    }
   },
   "outputs": [],
   "source": [
    "# Create logistic regression model\n",
    "model = LogisticRegression(max_iter=5000)"
   ]
  },
  {
   "cell_type": "code",
   "execution_count": null,
   "id": "cca6f470",
   "metadata": {
    "vscode": {
     "languageId": "plaintext"
    }
   },
   "outputs": [],
   "source": [
    "# Forward Selection: add features one by one that improve model performance\n",
    "sfs_forward = SequentialFeatureSelector(\n",
    "    model, n_features_to_select=5, direction='forward'\n",
    ")\n",
    "sfs_forward.fit(X_train, y_train)\n",
    "\n",
    "selected_features = X.columns[sfs_forward.get_support()]\n",
    "print(\"Forward Selection Chosen Features:\", list(selected_features))"
   ]
  },
  {
   "cell_type": "code",
   "execution_count": null,
   "id": "a2946ba1",
   "metadata": {
    "vscode": {
     "languageId": "plaintext"
    }
   },
   "outputs": [],
   "source": [
    "# Train model with selected features and evaluate\n",
    "model.fit(X_train[selected_features], y_train)\n",
    "y_pred = model.predict(X_test[selected_features])\n",
    "acc = accuracy_score(y_test, y_pred)\n",
    "\n",
    "print(f\"Accuracy with Forward Selection (5 features): {acc:.4f}\")\n"
   ]
  },
  {
   "cell_type": "markdown",
   "id": "30345432",
   "metadata": {},
   "source": [
    "# Analysis:\n",
    "## Forward selection generally starts from an empty set and adds features that best improve\n",
    "## model performance incrementally. This can help identify a small subset of highly predictive features.\n",
    "## You may observe slightly improved or comparable accuracy to using all features with fewer variables,\n",
    "## indicating a good feature subset."
   ]
  }
 ],
 "metadata": {
  "language_info": {
   "name": "python"
  }
 },
 "nbformat": 4,
 "nbformat_minor": 5
}
