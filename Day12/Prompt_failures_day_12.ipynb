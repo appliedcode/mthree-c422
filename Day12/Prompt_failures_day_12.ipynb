{
  "cells": [
    {
      "cell_type": "markdown",
      "source": [
        "## Lab Exercises: Handling Ambiguity, Troubleshooting & Prompt Failures in Prompt Engineering\n",
        "***\n",
        "\n",
        "### Setup:\n",
        "\n",
        "- Use OpenAI API or any language model API accessible in your Colab.\n",
        "- If API keys are needed, ensure they are safely added as environment variables or input by the user."
      ],
      "metadata": {
        "id": "eq4qKCdSNSko"
      }
    },
    {
      "cell_type": "code",
      "source": [
        "from google.colab import userdata\n",
        "import os\n",
        "\n",
        "# Set your OpenAI API key securely in Colab Secrets (once)\n",
        "# userdata.set(\"OPENAI_API_KEY\", \"your-api-key-here\")\n",
        "\n",
        "# Retrieve key in your notebook\n",
        "openai_api_key = userdata.get(\"OPENAI_API_KEY\")\n",
        "if openai_api_key:\n",
        "    os.environ[\"OPENAI_API_KEY\"] = openai_api_key\n",
        "    print(\"✅ OpenAI API key loaded safely\")\n",
        "else:\n",
        "    print(\"❌ OpenAI API key not found. Please set it using Colab Secrets.\")"
      ],
      "metadata": {
        "colab": {
          "base_uri": "https://localhost:8080/"
        },
        "id": "2YMRqyRCNGmo",
        "outputId": "11bed9b7-544c-440a-e444-fe28ab12b5f9"
      },
      "execution_count": 1,
      "outputs": [
        {
          "output_type": "stream",
          "name": "stdout",
          "text": [
            "✅ OpenAI API key loaded safely\n"
          ]
        }
      ]
    },
    {
      "cell_type": "code",
      "source": [
        "\n",
        "!pip install --quiet openai -q\n",
        "# Create client\n",
        "from openai import OpenAI\n",
        "client = OpenAI(api_key=os.environ[\"OPENAI_API_KEY\"])"
      ],
      "metadata": {
        "id": "9qrFrzlcPI1n"
      },
      "execution_count": 2,
      "outputs": []
    },
    {
      "cell_type": "code",
      "source": [
        "# Helper Function to Send Prompts\n",
        "def generate_response(prompt, model=\"gpt-4o-mini\", temperature=0.7):\n",
        "    try:\n",
        "        response = client.chat.completions.create(\n",
        "            model=model,\n",
        "            messages=[{\"role\": \"user\", \"content\": prompt}],\n",
        "            temperature=temperature\n",
        "        )\n",
        "        return response.choices[0].message.content.strip()\n",
        "    except Exception as e:\n",
        "        return f\"Error: {e}\"\n"
      ],
      "metadata": {
        "id": "AieFziFDTcuy"
      },
      "execution_count": 3,
      "outputs": []
    },
    {
      "cell_type": "markdown",
      "source": [
        "## Exercise 1: Identifying Ambiguity in Prompts\n",
        "### Objective: See how ambiguous prompts produce inconsistent or unclear responses."
      ],
      "metadata": {
        "id": "22Xf3vG3TfxS"
      }
    },
    {
      "cell_type": "code",
      "source": [
        "# Task:\n",
        "# Use an ambiguous prompt like:\n",
        "ambiguous_prompt = \"Describe the process.\"\n"
      ],
      "metadata": {
        "id": "lzzvZtN-Tiwy"
      },
      "execution_count": 4,
      "outputs": []
    },
    {
      "cell_type": "code",
      "source": [
        "# Create a clarified version with clear intent and constraints:\n",
        "\n",
        "clarified_prompt = \"Describe the photosynthesis process focusing on light absorption and chemical reactions.\"\n"
      ],
      "metadata": {
        "id": "Z6BPIz3MTmwq"
      },
      "execution_count": 5,
      "outputs": []
    },
    {
      "cell_type": "code",
      "source": [
        "# Run both through generate_response() and compare outputs.\n",
        "print(\"=== Ambiguous Prompt ===\")\n",
        "print(generate_response(ambiguous_prompt), \"\\n\")\n",
        "\n",
        "print(\"=== Clarified Prompt ===\")\n",
        "print(generate_response(clarified_prompt))\n"
      ],
      "metadata": {
        "id": "nQ5jHU-sTpeH",
        "outputId": "ad53ace3-8c2c-4e3e-c90e-19500630e35e",
        "colab": {
          "base_uri": "https://localhost:8080/"
        }
      },
      "execution_count": 6,
      "outputs": [
        {
          "output_type": "stream",
          "name": "stdout",
          "text": [
            "=== Ambiguous Prompt ===\n",
            "Could you please clarify which process you are referring to? There are many processes in various contexts, such as scientific, industrial, educational, or even personal development. Providing more details will help me give a more accurate and relevant description. \n",
            "\n",
            "=== Clarified Prompt ===\n",
            "Photosynthesis is the process by which green plants, algae, and some bacteria convert light energy into chemical energy stored in glucose. It primarily takes place in the chloroplasts of plant cells and involves two main stages: the light-dependent reactions and the light-independent reactions (Calvin cycle).\n",
            "\n",
            "### 1. Light Absorption\n",
            "\n",
            "**Chlorophyll and Accessory Pigments:**\n",
            "- The primary pigment involved in photosynthesis is chlorophyll, which is found in the thylakoid membranes of chloroplasts. Chlorophyll absorbs light most efficiently in the blue (around 430 nm) and red (around 660 nm) wavelengths, while reflecting green light (around 500-550 nm), which is why plants appear green.\n",
            "- In addition to chlorophyll, accessory pigments such as carotenoids and phycobilins capture light energy in other wavelengths and transfer that energy to chlorophyll.\n",
            "\n",
            "**Photosystems:**\n",
            "- Light absorption occurs in photosystems, which are complexes of chlorophyll and proteins. There are two main types: Photosystem I (PSI) and Photosystem II (PSII).\n",
            "- When photons of light strike chlorophyll molecules, they excite electrons to a higher energy state. This process is called photoexcitation.\n",
            "\n",
            "### 2. Light-Dependent Reactions\n",
            "\n",
            "These reactions occur in the thylakoid membranes and require light.\n",
            "\n",
            "**Electron Transport Chain:**\n",
            "- The excited electrons from PSII are transferred to an electron transport chain. As electrons move through this chain, they lose energy, which is used to pump protons (H⁺ ions) from the stroma into the thylakoid lumen, creating a proton gradient.\n",
            "- This proton gradient drives ATP synthesis through a process called chemiosmosis, facilitated by the enzyme ATP synthase.\n",
            "\n",
            "**Water Splitting:**\n",
            "- To replace the electrons lost by PSII, water molecules are split in a process called photolysis, producing oxygen (O₂) as a byproduct and supplying electrons to PSII.\n",
            "  \\[\n",
            "  2H_2O \\rightarrow 4H^+ + 4e^- + O_2\n",
            "  \\]\n",
            "\n",
            "**NADPH Formation:**\n",
            "- The electrons continue to PSI, where they are re-excited by light and ultimately used to reduce NADP⁺ to NADPH:\n",
            "  \\[\n",
            "  NADP^+ + 2e^- + H^+ \\rightarrow NADPH\n",
            "  \\]\n",
            "\n",
            "### 3. Light-Independent Reactions (Calvin Cycle)\n",
            "\n",
            "These reactions occur in the stroma of chloroplasts and do not directly require light but depend on the products of the light-dependent reactions (ATP and NADPH).\n",
            "\n",
            "**Carbon Fixation:**\n",
            "- The Calvin cycle begins with the fixation of carbon dioxide (CO₂) from the atmosphere. CO₂ combines with ribulose bisphosphate (RuBP), catalyzed by the enzyme ribulose bisphosphate carboxylase/oxygenase (RuBisCO), resulting in an unstable 6-carbon compound that splits into two molecules of 3-phosphoglycerate (3-PGA).\n",
            "\n",
            "**Reduction Phase:**\n",
            "- ATP and NADPH produced in the light-dependent reactions are used to convert 3-PGA into glyceraldehyde-3-phosphate (G3P), a 3-carbon sugar. This involves phosphorylation by ATP and reduction by NADPH.\n",
            "\n",
            "**Regeneration of RuBP:**\n",
            "- Some G3P molecules are used to synthesize glucose and other carbohydrates, while others are recycled to regenerate RuBP, allowing the cycle to continue. This regeneration requires ATP.\n",
            "\n",
            "### Summary\n",
            "\n",
            "In summary, photosynthesis involves the absorption of light energy by chlorophyll, leading to the conversion of water and carbon dioxide into glucose and oxygen. The light-dependent reactions capture and convert light energy into chemical energy (ATP and NADPH), which is then utilized in the Calvin cycle to produce organic molecules. The overall equation for photosynthesis can be simplified as:\n",
            "\n",
            "\\[\n",
            "6CO_2 + 6H_2O + light \\ energy \\rightarrow C_6H_{12}O_6 + 6O_2\n",
            "\\] \n",
            "\n",
            "This process is vital for life on Earth, providing the oxygen we breathe and serving as the foundation of the food chain.\n"
          ]
        }
      ]
    },
    {
      "cell_type": "markdown",
      "source": [
        "## Exercise 2: Troubleshooting Inconsistent or Irrelevant Output\n",
        "### Objective: Practice troubleshooting a vague or failed prompt by refining it step-by-step."
      ],
      "metadata": {
        "id": "_JmnOAs4TtOi"
      }
    },
    {
      "cell_type": "code",
      "source": [
        "# Task:\n",
        "\n",
        "# Start with a vague prompt that tends to fail:\n",
        "vague = \"Write a poem.\"\n"
      ],
      "metadata": {
        "id": "jtPRi0wfTyBS"
      },
      "execution_count": 7,
      "outputs": []
    },
    {
      "cell_type": "code",
      "source": [
        "# Observe shortcomings in the output (such as randomness or lack of clear structure).\n",
        "\n",
        "# Refine the prompt to add instructions:\n",
        "refined = \"Write a 4-line rhyming poem about spring with a hopeful tone.\"\n"
      ],
      "metadata": {
        "id": "tXVJoDNDT1x9"
      },
      "execution_count": 8,
      "outputs": []
    },
    {
      "cell_type": "code",
      "source": [
        "# If the model produces unexpected content, add explicit \"Important:\" instructions to guide it further.\n",
        "print(\"=== Vague Prompt ===\")\n",
        "print(generate_response(vague), \"\\n\")\n",
        "\n",
        "print(\"=== Refined Prompt ===\")\n",
        "print(generate_response(refined), \"\\n\")\n",
        "\n",
        "important_refined = \"\"\"\n",
        "Important: The poem must not mention winter or cold, focus only on spring themes in 4 lines with rhyme.\n",
        "Write the poem:\n",
        "\"\"\"\n",
        "print(generate_response(important_refined))\n"
      ],
      "metadata": {
        "id": "0ioSBS_2T4ao",
        "outputId": "26b2a2bf-5e57-4b22-8d1d-b31c9a398318",
        "colab": {
          "base_uri": "https://localhost:8080/"
        }
      },
      "execution_count": 9,
      "outputs": [
        {
          "output_type": "stream",
          "name": "stdout",
          "text": [
            "=== Vague Prompt ===\n",
            "In a garden where the wildflowers sway,  \n",
            "Beneath the sun's soft, golden ray,  \n",
            "Whispers of the breeze weave tales untold,  \n",
            "Of secrets kept in petals, bright and bold.  \n",
            "\n",
            "The daisies dance in a playful line,  \n",
            "While violets blush, their colors divine,  \n",
            "A symphony of scents fills the air,  \n",
            "As nature’s brush paints everywhere.  \n",
            "\n",
            "The trees stand tall, guardians of time,  \n",
            "Their leaves a chorus, a rustling rhyme,  \n",
            "Each branch a story, each trunk a song,  \n",
            "In the heart of this haven, where we belong.  \n",
            "\n",
            "The sky, a canvas of azure and dreams,  \n",
            "Reflects in the pond where the sunlight gleams,  \n",
            "Ripples of laughter, a fleeting embrace,  \n",
            "In this tranquil sanctuary, we find our place.  \n",
            "\n",
            "So let us wander where the wildflowers grow,  \n",
            "With every step, let our spirits glow,  \n",
            "For in this moment, so simple, so sweet,  \n",
            "Life’s greatest treasures lie at our feet. \n",
            "\n",
            "=== Refined Prompt ===\n",
            "In springtime's glow, the blossoms bloom,  \n",
            "Awakening earth from winter's gloom.  \n",
            "With every breeze, new dreams take flight,  \n",
            "A tapestry of colors, pure delight. \n",
            "\n",
            "In fields where blossoms dance and sway,  \n",
            "The sun ignites a golden ray,  \n",
            "With laughter carried on the breeze,  \n",
            "Spring whispers secrets through the trees.\n"
          ]
        }
      ]
    },
    {
      "cell_type": "markdown",
      "source": [
        "## Exercise 3: Diagnosing and Fixing Hallucinations in AI Responses\n",
        "### Objective: Learn how to manage prompts to reduce AI \"hallucinations\" (made-up facts)."
      ],
      "metadata": {
        "id": "FtCKe8lyT7Ts"
      }
    },
    {
      "cell_type": "code",
      "source": [
        "# Ask the model a fact-based question without anchoring:\n",
        "hallucination_prompt = \"Tell me about the latest Mars mission.\"\n"
      ],
      "metadata": {
        "id": "v3AEDqRKT98F"
      },
      "execution_count": 10,
      "outputs": []
    },
    {
      "cell_type": "code",
      "source": [
        "# Then anchor the prompt with fact-stating instructions:\n",
        "\n",
        "anchored_prompt = \"\"\"\n",
        "Based only on verified scientific information up to 2023,\n",
        "summarize the objectives of the latest Mars mission.\n",
        "If not sure, say 'I don't know.'\n",
        "\"\"\"\n"
      ],
      "metadata": {
        "id": "AY11yDV6UAAo"
      },
      "execution_count": 11,
      "outputs": []
    },
    {
      "cell_type": "code",
      "source": [
        "# Compare outputs.\n",
        "\n",
        "print(\"=== Potential Hallucination Prompt ===\")\n",
        "print(generate_response(hallucination_prompt), \"\\n\")\n",
        "\n",
        "print(\"=== Anchored Prompt to Avoid Hallucinations ===\")\n",
        "print(generate_response(anchored_prompt))\n"
      ],
      "metadata": {
        "id": "GsYtKP0BUB--",
        "outputId": "f30ce749-10f0-4f66-9935-7a33f0285490",
        "colab": {
          "base_uri": "https://localhost:8080/"
        }
      },
      "execution_count": 12,
      "outputs": [
        {
          "output_type": "stream",
          "name": "stdout",
          "text": [
            "=== Potential Hallucination Prompt ===\n",
            "As of my last update in October 2023, the most recent Mars mission is NASA's Perseverance rover, which landed on Mars on February 18, 2021. Perseverance is part of NASA's Mars 2020 mission and is designed to explore the Jezero Crater, which is believed to have once contained a lake and might hold signs of ancient microbial life.\n",
            "\n",
            "Perseverance's primary goals include:\n",
            "\n",
            "1. **Astrobiology**: Searching for signs of past life and collecting rock and soil samples for potential return to Earth.\n",
            "2. **Sample Collection**: Collecting and caching samples of Martian rock and regolith for future missions to bring back to Earth.\n",
            "3. **Testing New Technologies**: Demonstrating new technologies that could be used in future Mars explorations, including the MOXIE experiment that produces oxygen from the Martian carbon dioxide atmosphere.\n",
            "4. **Understanding Mars' Geology and Climate**: Studying the planet's geology and climate to understand its past and prepare for future human exploration.\n",
            "\n",
            "Perseverance is accompanied by the Ingenuity helicopter, which has conducted several successful flights, demonstrating the feasibility of powered flight in the thin Martian atmosphere.\n",
            "\n",
            "In addition to Perseverance, the European Space Agency (ESA) and Roscosmos launched the ExoMars mission, which includes the Rosalind Franklin rover and the Kazachok lander. The launch was delayed multiple times, but it aimed to investigate the Martian subsurface for signs of life.\n",
            "\n",
            "For the latest updates, including any new missions or findings, I recommend checking the official NASA website or other reputable space news sources. \n",
            "\n",
            "=== Anchored Prompt to Avoid Hallucinations ===\n",
            "As of 2023, the latest Mars mission is NASA's Perseverance rover, which landed on Mars in February 2021. The objectives of the Perseverance mission include:\n",
            "\n",
            "1. **Search for Signs of Past Life**: Perseverance aims to explore the Jezero Crater, which was once a lake, to search for signs of ancient microbial life.\n",
            "\n",
            "2. **Collecting Samples**: The rover is designed to collect and store rock and soil samples that could be returned to Earth by future missions for detailed analysis.\n",
            "\n",
            "3. **Testing Oxygen Production**: Perseverance is equipped with an experiment called MOXIE (Mars Oxygen In-Situ Resource Utilization Experiment) to produce oxygen from the Martian atmosphere, which is primarily composed of carbon dioxide.\n",
            "\n",
            "4. **Characterizing the Climate and Geology**: The rover is conducting detailed studies of Martian geology and climate to better understand the planet's history and its potential for supporting life.\n",
            "\n",
            "5. **Preparing for Human Exploration**: The mission is also focused on testing technologies and methods that will be essential for future human missions to Mars.\n",
            "\n",
            "These objectives are part of a broader exploration strategy to better understand Mars and prepare for future human exploration.\n"
          ]
        }
      ]
    },
    {
      "cell_type": "markdown",
      "source": [
        "## Exercise 4: Handling Overly Long or Complex Prompts (Troubleshooting Failure Modes)\n",
        "### Objective: See how very long or overloaded prompts can cause failure or truncated responses.\n",
        "\n",
        "#### Task:\n",
        "\n",
        "- Create an overstuffed prompt combining multiple tasks or large amounts of data.\n",
        "\n",
        "- Send it and observe if the output cuts off or gets confused.\n",
        "\n",
        "- Then split the task into smaller prompts with focused instructions.\n",
        "\n",
        "- Compare the results and check for better coherence and completeness."
      ],
      "metadata": {
        "id": "ulxios7tUE18"
      }
    },
    {
      "cell_type": "code",
      "source": [
        "overloaded_prompt = \"\"\"\n",
        "Explain the theory of relativity including special and general relativity,\n",
        "provide examples, historical context, significance in physics, and common misconceptions,\n",
        "all in a single paragraph.\n",
        "\"\"\" * 3  # Repeated to simulate length\n",
        "\n",
        "print(\"=== Overloaded Prompt ===\")\n",
        "print(generate_response(overloaded_prompt), \"\\n\")\n",
        "\n",
        "smaller_prompts = [\n",
        "    \"Explain the theory of special relativity in simple terms.\",\n",
        "    \"Explain the theory of general relativity with a real-world example.\",\n",
        "    \"List common misconceptions about relativity.\"\n",
        "]\n",
        "\n",
        "for i, sp in enumerate(smaller_prompts, 1):\n",
        "    print(f\"--- Smaller Prompt {i} ---\")\n",
        "    print(generate_response(sp), \"\\n\")\n"
      ],
      "metadata": {
        "id": "P5zHIl7HULw4",
        "outputId": "78ec89a6-2882-4fa3-af3f-38e3ef83a201",
        "colab": {
          "base_uri": "https://localhost:8080/"
        }
      },
      "execution_count": 13,
      "outputs": [
        {
          "output_type": "stream",
          "name": "stdout",
          "text": [
            "=== Overloaded Prompt ===\n",
            "The theory of relativity, developed by Albert Einstein in the early 20th century, comprises two key components: special relativity (1905) and general relativity (1915). Special relativity introduces the idea that the laws of physics are the same for all observers in uniform motion and reveals that the speed of light is constant regardless of the observer's motion, leading to the famous equation \\(E=mc^2\\), which illustrates the equivalence of mass and energy; a practical example is the functioning of GPS satellites, which must account for relativistic effects to provide accurate positioning. General relativity expands this framework to include acceleration and gravity, proposing that massive objects like planets warp spacetime, causing other objects to follow curved paths—an example being the way light bends around the sun, confirmed during a solar eclipse in 1919. Historically, these theories challenged the Newtonian concepts of absolute time and space, profoundly influencing modern physics and cosmology. They have significant implications in various fields, including astrophysics and quantum mechanics, yet a common misconception is that relativity implies that \"everything is relative,\" when in fact it establishes a precise framework for understanding the universe's structure and behavior. \n",
            "\n",
            "--- Smaller Prompt 1 ---\n",
            "Sure! The theory of special relativity, proposed by Albert Einstein in 1905, fundamentally changed our understanding of space and time. Here are the key ideas explained simply:\n",
            "\n",
            "1. **The Speed of Light is Constant**: One of the main principles is that the speed of light in a vacuum is always the same (about 299,792 kilometers per second) for everyone, regardless of how fast they are moving. This is different from everyday experiences where speeds can add up (like a car moving faster when you drive in the same direction).\n",
            "\n",
            "2. **Time Dilation**: Because the speed of light is constant, time can actually pass at different rates for people moving at different speeds. If you travel very fast (close to the speed of light), time will pass more slowly for you compared to someone who is stationary. This means that if you took a journey in a spaceship going near light speed and returned to Earth, you would find that less time has passed for you than for the people who stayed on Earth.\n",
            "\n",
            "3. **Length Contraction**: Similarly, objects moving at very high speeds will appear shorter in the direction of motion to an outside observer. This effect is only noticeable at speeds close to the speed of light.\n",
            "\n",
            "4. **Mass and Energy**: Special relativity also tells us that mass and energy are interchangeable, expressed in the famous equation \\(E=mc^2\\). This means that mass can be converted into energy and vice versa, which is the principle behind nuclear reactions.\n",
            "\n",
            "5. **Relative Motion**: The theory emphasizes that motion is relative. There is no absolute frame of reference; instead, everything is measured relative to something else. For example, if you’re on a train moving at a constant speed, you won’t notice you’re moving unless you look outside.\n",
            "\n",
            "In summary, special relativity shows us that space and time are interconnected and that they behave in ways that can seem strange compared to our everyday experiences. It has profound implications for our understanding of the universe and has been confirmed by many experiments. \n",
            "\n",
            "--- Smaller Prompt 2 ---\n",
            "The theory of general relativity, proposed by Albert Einstein in 1915, describes gravity not as a conventional force, but as a curvature of spacetime caused by mass and energy. According to this theory, massive objects like planets and stars warp the fabric of spacetime around them, and this curvature affects the motion of objects, essentially guiding them along curved paths rather than straight lines.\n",
            "\n",
            "### Key Concepts of General Relativity:\n",
            "\n",
            "1. **Spacetime**: A four-dimensional continuum that combines the three dimensions of space with the dimension of time.\n",
            "  \n",
            "2. **Curvature**: Massive objects create curvature in spacetime. The more massive the object, the greater the curvature.\n",
            "\n",
            "3. **Geodesics**: Objects move along the paths of least resistance in curved spacetime, known as geodesics. In the absence of other forces, objects will follow these paths.\n",
            "\n",
            "### Real-World Example: The Orbit of Mercury\n",
            "\n",
            "One of the classic tests of general relativity involved the orbit of the planet Mercury. For many years, astronomers noticed that Mercury's orbit around the Sun did not behave as expected according to Newtonian physics. Specifically, the point of Mercury's closest approach to the Sun (called perihelion) shifted slightly with each orbit. This phenomenon was known as the \"perihelion precession.\"\n",
            "\n",
            "### Explanation:\n",
            "\n",
            "1. **Newtonian Gravity**: According to Newton's laws, the gravitational influence of the Sun would cause Mercury to follow an elliptical orbit. However, calculations showed that the observed precession of Mercury's orbit could not be fully explained by the gravitational effects of other planets.\n",
            "\n",
            "2. **General Relativity's Prediction**: Einstein's general relativity, however, provided a new perspective. According to his theory, the mass of the Sun curves spacetime around it, and this curvature affects the path of Mercury. When Einstein applied his equations to the situation, he found that they accurately accounted for the additional precession of Mercury's orbit.\n",
            "\n",
            "3. **Observed Result**: The predicted precession matched the observed value, confirming that general relativity correctly described the influence of gravity in this case. The discrepancy between observed and expected values was resolved, with general relativity providing the correct framework for understanding the dynamics at play.\n",
            "\n",
            "### Conclusion:\n",
            "\n",
            "The example of Mercury's orbit is a powerful illustration of Einstein's general relativity in action. It demonstrates how massive objects like the Sun warp spacetime, leading to effects that cannot be explained by Newtonian mechanics alone. This theory has since been confirmed by many other experiments and observations, making it a cornerstone of modern physics and our understanding of the universe. \n",
            "\n",
            "--- Smaller Prompt 3 ---\n",
            "Certainly! Here are some common misconceptions about relativity, particularly Einstein's theories of Special Relativity and General Relativity:\n",
            "\n",
            "1. **Time Dilation Means Time Stops**: Many people think that time dilation means that time can stop or that it behaves in a non-linear way. In reality, time dilation refers to the fact that time passes at different rates for observers in different frames of reference, especially at high velocities or in strong gravitational fields, but time itself continues to pass.\n",
            "\n",
            "2. **Relativity is Only About Speed**: While Special Relativity primarily addresses the effects of high speeds, General Relativity deals with gravity and acceleration. Many misunderstandings arise from conflating the two theories or believing that relativity only applies to objects moving at near-light speeds.\n",
            "\n",
            "3. **Mass Increases with Speed**: A common misconception is that an object's mass increases as it approaches the speed of light. In reality, it's more accurate to say that the object's relativistic momentum increases, and the concept of \"rest mass\" remains invariant.\n",
            "\n",
            "4. **Nothing Can Travel Faster Than Light**: While it's true that no information or matter can exceed the speed of light in a vacuum, some interpretations of quantum mechanics (like quantum entanglement) lead to the misconception that faster-than-light effects are possible.\n",
            "\n",
            "5. **Time is Absolute**: Many people believe that time is the same for everyone, regardless of their state of motion. However, relativity shows that time is relative and can vary depending on the observer's speed and gravitational field.\n",
            "\n",
            "6. **Gravity is a Force**: In General Relativity, gravity is not a conventional force but rather a curvature of spacetime caused by mass. This shifts the understanding of gravity from an attraction between masses to the geometry of spacetime.\n",
            "\n",
            "7. **Black Holes are Just Theoretical**: While black holes were once a theoretical prediction, they have been observed indirectly through their effects on surrounding matter and more recently through direct imaging. Some people still think they are purely hypothetical.\n",
            "\n",
            "8. **Relativity is Only for Physics Nerds**: Some believe that relativity is only relevant for high-level physics and has no bearing on everyday life. In fact, technologies like GPS and certain aspects of modern electronics rely on relativistic principles to function correctly.\n",
            "\n",
            "9. **You Can't Experience Time Dilation**: People often think that time dilation only occurs in extreme conditions, such as near the speed of light. However, time dilation can be experienced in more mundane situations, such as when comparing atomic clocks at different altitudes (due to gravitational time dilation).\n",
            "\n",
            "10. **Relativity is Counterintuitive**: While some aspects of relativity can seem strange or counterintuitive, they are based on consistent mathematical formulations and experimental evidence. The theory is well-established and continuously supported by experimental results.\n",
            "\n",
            "Understanding these misconceptions can help clarify the true nature of relativity and its implications for our understanding of space, time, and gravity. \n",
            "\n"
          ]
        }
      ]
    },
    {
      "cell_type": "markdown",
      "source": [
        "## Exercise 5: Meta-Prompting for Troubleshooting\n",
        "### Objective: Use meta-prompts to ask the model to clarify its understanding or identify issues with ambiguous instructions."
      ],
      "metadata": {
        "id": "05ef0UTHUPYn"
      }
    },
    {
      "cell_type": "code",
      "source": [
        "# Start with an ambiguous prompt:\n",
        "ambiguous_request = \"Create an efficient sorting algorithm.\"\n"
      ],
      "metadata": {
        "id": "3EK0m7aBUO6S"
      },
      "execution_count": 14,
      "outputs": []
    },
    {
      "cell_type": "code",
      "source": [
        "# Ask the model if it understands what is meant by \"efficient sorting algorithm\":\n",
        "\n",
        "meta_prompt = \"\"\"\n",
        "Before you write code, please explain what you understand by\n",
        "'efficient sorting algorithm.' If unsure, ask for clarification.\n",
        "\"\"\"\n"
      ],
      "metadata": {
        "id": "1wfF1o8hUVmF"
      },
      "execution_count": 15,
      "outputs": []
    },
    {
      "cell_type": "code",
      "source": [
        "# Run meta-prompt and analyze the output.\n",
        "# Based on the model's answer, refine the original prompt with explicit constraints.\n",
        "\n",
        "print(\"=== Ambiguous Request ===\")\n",
        "print(generate_response(ambiguous_request), \"\\n\")\n",
        "\n",
        "print(\"=== Meta Prompt (Check Understanding) ===\")\n",
        "print(generate_response(meta_prompt), \"\\n\")\n",
        "\n",
        "refined_sort_prompt = \"\"\"\n",
        "Write a Python function implementing merge sort, emphasizing O(n log n) time complexity.\n",
        "Include comments explaining each step.\n",
        "\"\"\"\n",
        "print(generate_response(refined_sort_prompt))\n",
        "\n"
      ],
      "metadata": {
        "id": "T3CT5gIOUeoF",
        "outputId": "86c4ef67-d13f-4080-d9f9-8c11ff3c0a40",
        "colab": {
          "base_uri": "https://localhost:8080/"
        }
      },
      "execution_count": 16,
      "outputs": [
        {
          "output_type": "stream",
          "name": "stdout",
          "text": [
            "=== Ambiguous Request ===\n",
            "Creating an efficient sorting algorithm involves understanding the requirements and constraints of the problem at hand. Below, I'll describe the Quick Sort algorithm, which is often considered one of the most efficient sorting algorithms for average cases due to its O(n log n) average time complexity. \n",
            "\n",
            "### Quick Sort Algorithm\n",
            "\n",
            "Quick Sort is a divide-and-conquer algorithm. Here's how it works:\n",
            "\n",
            "1. **Choose a Pivot**: Select an element from the array as the pivot. Various strategies exist for choosing the pivot, including picking the first element, the last element, a random element, or the median.\n",
            "\n",
            "2. **Partitioning**: Rearrange the array so that elements less than the pivot come before it and elements greater than the pivot come after it. The pivot is then in its final position.\n",
            "\n",
            "3. **Recursively Apply**: Recursively apply the above steps to the sub-arrays of elements with smaller values and elements with greater values.\n",
            "\n",
            "### Quick Sort Implementation in Python\n",
            "\n",
            "Here’s a simple implementation of Quick Sort in Python:\n",
            "\n",
            "```python\n",
            "def quick_sort(arr):\n",
            "    # Base case: arrays with fewer than 2 elements are already sorted\n",
            "    if len(arr) < 2:\n",
            "        return arr\n",
            "\n",
            "    # Choose the pivot (we can choose the last element here)\n",
            "    pivot = arr[-1]\n",
            "    \n",
            "    # Partitioning step\n",
            "    less_than_pivot = [x for x in arr[:-1] if x <= pivot]\n",
            "    greater_than_pivot = [x for x in arr[:-1] if x > pivot]\n",
            "\n",
            "    # Recursive sorting\n",
            "    return quick_sort(less_than_pivot) + [pivot] + quick_sort(greater_than_pivot)\n",
            "\n",
            "# Example usage\n",
            "if __name__ == \"__main__\":\n",
            "    arr = [10, 7, 8, 9, 1, 5]\n",
            "    sorted_arr = quick_sort(arr)\n",
            "    print(\"Sorted array:\", sorted_arr)\n",
            "```\n",
            "\n",
            "### Explanation of the Code\n",
            "\n",
            "1. **Base Case**: The function checks if the array length is less than 2. If so, it returns the array as it is already sorted.\n",
            "\n",
            "2. **Pivot Selection**: The pivot is chosen as the last element of the array.\n",
            "\n",
            "3. **Partitioning**: Two list comprehensions are used to create `less_than_pivot` and `greater_than_pivot` arrays, which hold elements less than or equal to and greater than the pivot, respectively.\n",
            "\n",
            "4. **Recursive Calls**: The function recursively calls itself on both partitions and concatenates the results along with the pivot.\n",
            "\n",
            "### Efficiency\n",
            "\n",
            "- **Time Complexity**: On average, Quick Sort runs in O(n log n) time. However, its worst-case time complexity is O(n²), which can occur when the smallest or largest element is always chosen as the pivot. This can be mitigated by choosing a random pivot or using a median-of-three method.\n",
            "- **Space Complexity**: Quick Sort is an in-place sort (although this implementation uses additional space for the partitions), so its space complexity can be O(log n) due to recursion stack space.\n",
            "\n",
            "This implementation is straightforward and effectively sorts an array while demonstrating the principles behind the Quick Sort algorithm. \n",
            "\n",
            "=== Meta Prompt (Check Understanding) ===\n",
            "An efficient sorting algorithm is one that organizes a collection of data (such as an array or list) into a specified order (typically ascending or descending) while minimizing the use of computational resources, particularly time and space. Here are some key characteristics of efficient sorting algorithms:\n",
            "\n",
            "1. **Time Complexity**: Efficient sorting algorithms have favorable time complexities. For example:\n",
            "   - **O(n log n)** is often considered optimal for comparison-based sorting algorithms (like Merge Sort and Quick Sort).\n",
            "   - **O(n)** can be achieved for specific types of data or under certain conditions using non-comparison-based algorithms (like Counting Sort or Radix Sort).\n",
            "\n",
            "2. **Space Complexity**: The amount of additional memory used by the algorithm is also important. Some algorithms, like Merge Sort, require additional space for merging, while others, like Quick Sort, can be implemented in-place, using minimal extra space.\n",
            "\n",
            "3. **Stability**: A stable sorting algorithm maintains the relative order of records with equal keys. This is important in cases where multiple keys are present and the original order of items with equal keys matters.\n",
            "\n",
            "4. **Adaptability**: Some sorting algorithms perform better on partially sorted data. For instance, Insertion Sort is efficient for small or nearly sorted datasets.\n",
            "\n",
            "5. **Scalability**: An efficient algorithm should perform well as the size of the input data grows. It should ideally not degrade significantly with larger datasets.\n",
            "\n",
            "6. **Implementation Complexity**: While an algorithm might be theoretically efficient, its practical implementation can vary in complexity. An efficient algorithm should ideally be easy to implement and maintain.\n",
            "\n",
            "In summary, an efficient sorting algorithm effectively balances time and space requirements while providing good performance across various scenarios and data types. If you have specific criteria or contexts in mind for \"efficient,\" please let me know! \n",
            "\n",
            "Certainly! Here’s a Python implementation of the Merge Sort algorithm, which runs in O(n log n) time complexity. The function includes detailed comments to explain each step of the process.\n",
            "\n",
            "```python\n",
            "def merge_sort(arr):\n",
            "    \"\"\"\n",
            "    This function sorts an array using the merge sort algorithm.\n",
            "    The time complexity of merge sort is O(n log n).\n",
            "    \"\"\"\n",
            "    if len(arr) > 1:  # Check if the array has more than one element\n",
            "        mid = len(arr) // 2  # Find the middle index of the array\n",
            "\n",
            "        # Split the array into two halves\n",
            "        left_half = arr[:mid]  # Elements from start to mid\n",
            "        right_half = arr[mid:]  # Elements from mid to end\n",
            "\n",
            "        # Recursively sort both halves\n",
            "        merge_sort(left_half)  # Sort the left half\n",
            "        merge_sort(right_half)  # Sort the right half\n",
            "\n",
            "        # Initialize indices for left_half, right_half, and merged array\n",
            "        i = j = k = 0\n",
            "        \n",
            "        # Merge the sorted halves\n",
            "        while i < len(left_half) and j < len(right_half):  # While both halves have elements\n",
            "            if left_half[i] < right_half[j]:  # Compare elements from both halves\n",
            "                arr[k] = left_half[i]  # If left element is smaller, add it to the merged array\n",
            "                i += 1  # Move to the next element in the left half\n",
            "            else:\n",
            "                arr[k] = right_half[j]  # If right element is smaller or equal, add it to the merged array\n",
            "                j += 1  # Move to the next element in the right half\n",
            "            k += 1  # Move to the next position in the merged array\n",
            "\n",
            "        # Check if any elements were left in the left_half\n",
            "        while i < len(left_half):\n",
            "            arr[k] = left_half[i]  # Add remaining elements to merged array\n",
            "            i += 1\n",
            "            k += 1\n",
            "\n",
            "        # Check if any elements were left in the right_half\n",
            "        while j < len(right_half):\n",
            "            arr[k] = right_half[j]  # Add remaining elements to merged array\n",
            "            j += 1\n",
            "            k += 1\n",
            "\n",
            "    return arr  # Return the sorted array (optional, as it sorts in place)\n",
            "\n",
            "# Example usage:\n",
            "arr = [38, 27, 43, 3, 9, 82, 10]\n",
            "sorted_arr = merge_sort(arr)\n",
            "print(\"Sorted array:\", sorted_arr)\n",
            "```\n",
            "\n",
            "### Explanation of Steps:\n",
            "1. **Base Case**: The function checks if the length of the array is greater than 1. If not, the array is already sorted.\n",
            "   \n",
            "2. **Dividing the Array**: The array is divided into two halves using the middle index. This is done recursively.\n",
            "\n",
            "3. **Recursive Sort**: The `merge_sort` function is called recursively on both halves of the array.\n",
            "\n",
            "4. **Merging**: After both halves are sorted, they are merged back together:\n",
            "   - Two pointers (`i` for the left half and `j` for the right half) are used to track the current index of each half.\n",
            "   - A third pointer (`k`) keeps track of the position in the original array where the next smallest element should be placed.\n",
            "   - Elements from the left and right halves are compared and placed in the original array in sorted order.\n",
            "\n",
            "5. **Remaining Elements**: After one half is exhausted, any remaining elements in the other half are copied directly into the original array.\n",
            "\n",
            "This implementation sorts the array in place and returns the sorted array. You can modify it to not return the array, as the sorting happens within the input array.\n"
          ]
        }
      ]
    },
    {
      "cell_type": "markdown",
      "source": [
        "#### What Students Will Learn\n",
        "- How ambiguous or incomplete prompts lead to weak or inconsistent AI outputs.\n",
        "\n",
        "- Iterative troubleshooting by refining prompts with specificity, structure, and constraints.\n",
        "\n",
        "- Techniques to avoid hallucinations via anchoring and explicit instructions.\n",
        "\n",
        "- The importance of task decomposition for complex queries.\n",
        "\n",
        "- Using meta-prompting to clarify intent and prompt understanding.\n",
        "\n",
        "- Recognizing failure modes such as length truncation and ambiguous phrasing."
      ],
      "metadata": {
        "id": "La0dHmkOU4N1"
      }
    }
  ],
  "metadata": {
    "colab": {
      "provenance": []
    },
    "kernelspec": {
      "display_name": "Python 3",
      "name": "python3"
    }
  },
  "nbformat": 4,
  "nbformat_minor": 0
}