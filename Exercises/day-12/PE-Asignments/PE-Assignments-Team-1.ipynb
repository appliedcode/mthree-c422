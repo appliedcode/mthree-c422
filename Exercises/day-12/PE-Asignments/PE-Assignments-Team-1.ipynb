{
  "nbformat": 4,
  "nbformat_minor": 0,
  "metadata": {
    "colab": {
      "provenance": [],
      "authorship_tag": "ABX9TyOwT1V8vVbkCtMt6vymMKGz",
      "include_colab_link": true
    },
    "kernelspec": {
      "name": "python3",
      "display_name": "Python 3"
    },
    "language_info": {
      "name": "python"
    }
  },
  "cells": [
    {
      "cell_type": "markdown",
      "metadata": {
        "id": "view-in-github",
        "colab_type": "text"
      },
      "source": [
        "<a href=\"https://colab.research.google.com/github/appliedcode/mthree-c422/blob/mthree-422-salleh/Exercises/day-12/PE-Asignments/PE-Assignments-Team-1.ipynb\" target=\"_parent\"><img src=\"https://colab.research.google.com/assets/colab-badge.svg\" alt=\"Open In Colab\"/></a>"
      ]
    },
    {
      "cell_type": "markdown",
      "source": [
        "# Team Project: End-to-End Prompt Engineering with Healthcare \\& Medical Research Dataset\n",
        "\n",
        "## Project Overview\n",
        "\n",
        "Your team will build a modular AI-powered application pipeline in Google Colab using the OpenAI API. The focus is on **healthcare and medical research** domain, covering all major prompt engineering aspects from basics to advanced, including safety, ethics, privacy, integration, and evaluation.\n",
        "\n",
        "You must adapt prompt designs, pipeline integration, and monitoring to this new dataset while ensuring responsible AI use.\n",
        "\n",
        "***\n",
        "\n",
        "## Dataset (embed in your notebook)\n",
        "\n",
        "```\n",
        "Healthcare & Medical Research Dataset:\n",
        "\n",
        "1. Cancer Research: Focuses on understanding cancer biology, developing treatments, and improving early diagnosis. Advances include immunotherapy and targeted therapies. Challenges involve drug resistance and side-effects.\n",
        "\n",
        "2. Cardiovascular Disease: Study of heart-related illnesses including prevention, diagnosis, and treatment. Key factors include hypertension, cholesterol, and lifestyle. Challenges are late detection and chronic management.\n",
        "\n",
        "3. Infectious Diseases: Research on pathogens like bacteria, viruses, and fungi. Development of vaccines, antibiotics, and antiviral drugs. Challenges include drug resistance and emerging diseases.\n",
        "\n",
        "4. Mental Health: Covers psychological disorders, therapy methods, and social impact. Emphasis on early intervention and reducing stigma. Challenges are access to care and individualized treatment.\n",
        "\n",
        "5. Public Health: Focus on population health, epidemiology, and health policy. Aims to improve health outcomes through education and preventive measures. Challenges include health disparities and resource allocation.\n",
        "```\n",
        "\n",
        "\n",
        "***\n",
        "\n",
        "## Core Tasks for Teams\n",
        "\n",
        "1. **Fundamentals**\n",
        "    - Create direct and zero-shot/few-shot prompts explaining healthcare concepts.\n",
        "    - Use clear instructions and test on dataset entries.\n",
        "2. **Intermediate Techniques**\n",
        "    - Chain-of-thought prompts breaking down causes and treatments per disease type.\n",
        "    - Persona-based prompts (e.g., doctor, health educator) explaining complex info simply.\n",
        "3. **Advanced**\n",
        "    - Multi-turn conversation simulating a patient-doctor Q\\&A, maintaining context.\n",
        "    - Resolve ambiguity in vague medical prompts by refining with dataset facts.\n",
        "    - Domain-specific prompts for summarizing research, recommending wellness habits, extracting JSON structured data on diseases or treatments.\n",
        "4. **Safety \\& Ethics**\n",
        "    - Write prompts avoiding medical misinformation and biased language.\n",
        "    - Add instructions preventing unsafe advice.\n",
        "    - Include disclaimers and privacy respect.\n",
        "5. **Integration \\& Version Control**\n",
        "    - Implement prompt versioning with at least three phrasings for explaining public health.\n",
        "    - Construct multi-stage pipelines (e.g., disease summary → suggested lifestyle changes).\n",
        "6. **Monitoring \\& Evaluation**\n",
        "    - Log prompts, latencies, and response excerpts.\n",
        "    - Perform keyword relevance checks (e.g., “treatment”, “risk”, “prevention”).\n",
        "    - Calculate consistency scores over repeated prompt runs.\n",
        "7. **Security \\& Privacy**\n",
        "    - Simulate refusal of private patient info requests.\n",
        "    - Demonstrate safe prompt reframing and role restriction.\n",
        "\n",
        "***\n",
        "\n",
        "## Deliverables\n",
        "\n",
        "- Google Colab notebook with:\n",
        "    - Adapted prompts and codes for each task using the healthcare dataset.\n",
        "    - Monitoring, logging, and evaluation modules.\n",
        "    - Safety and privacy safeguards.\n",
        "- Team report documenting your approach, observations, challenges, and ethical considerations.\n",
        "\n",
        "***\n",
        "\n",
        "## Evaluation Criteria\n",
        "\n",
        "- Coverage and quality of all prompt engineering aspects.\n",
        "- Domain-specific creativity and accuracy.\n",
        "- Ethical and safety measures applied.\n",
        "- Robustness and monitoring effectiveness.\n",
        "- Clarity and completeness of documentation.\n",
        "\n",
        "***\n",
        "\n",
        "💡 **Hint:** Extend with real healthcare challenges or recent medical advances but keep prompts factual, respectful, and unbiased.\n",
        "\n",
        "***"
      ],
      "metadata": {
        "id": "jCdXGoS-IK4J"
      }
    },
    {
      "cell_type": "code",
      "execution_count": null,
      "metadata": {
        "id": "cV_jHjtEF-fR"
      },
      "outputs": [],
      "source": []
    }
  ]
}