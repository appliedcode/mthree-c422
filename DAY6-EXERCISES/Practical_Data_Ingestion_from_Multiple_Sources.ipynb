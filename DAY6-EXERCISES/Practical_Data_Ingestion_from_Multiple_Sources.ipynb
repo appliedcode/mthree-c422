{
  "nbformat": 4,
  "nbformat_minor": 0,
  "metadata": {
    "colab": {
      "provenance": []
    },
    "kernelspec": {
      "name": "python3",
      "display_name": "Python 3"
    },
    "language_info": {
      "name": "python"
    }
  },
  "cells": [
    {
      "cell_type": "code",
      "execution_count": 4,
      "metadata": {
        "id": "V3iXdRogdNLU"
      },
      "outputs": [],
      "source": [
        "!pip install pandas requests -q"
      ]
    },
    {
      "cell_type": "code",
      "source": [
        "import pandas as pd\n",
        "import requests\n",
        "\n",
        "csv_url = \"https://raw.githubusercontent.com/uiuc-cse/data-fa14/gh-pages/data/iris.csv\"\n",
        "df_csv = pd.read_csv(csv_url)\n",
        "\n",
        "print(\"CSV Data Sample:\")\n",
        "print(df_csv.head())\n"
      ],
      "metadata": {
        "colab": {
          "base_uri": "https://localhost:8080/"
        },
        "id": "wAyH7tyWfKbd",
        "outputId": "891d4c0a-fe04-47d9-fa9b-54ca4e8647f5"
      },
      "execution_count": 5,
      "outputs": [
        {
          "output_type": "stream",
          "name": "stdout",
          "text": [
            "CSV Data Sample:\n",
            "   sepal_length  sepal_width  petal_length  petal_width species\n",
            "0           5.1          3.5           1.4          0.2  setosa\n",
            "1           4.9          3.0           1.4          0.2  setosa\n",
            "2           4.7          3.2           1.3          0.2  setosa\n",
            "3           4.6          3.1           1.5          0.2  setosa\n",
            "4           5.0          3.6           1.4          0.2  setosa\n"
          ]
        }
      ]
    },
    {
      "cell_type": "code",
      "source": [
        "json_url = \"https://jsonplaceholder.typicode.com/users\"\n",
        "df_json = pd.read_json(json_url)\n",
        "\n",
        "print(\"\\nJSON Data Sample:\")\n",
        "print(df_json.head())\n"
      ],
      "metadata": {
        "colab": {
          "base_uri": "https://localhost:8080/"
        },
        "id": "jWP0YmwWfUv_",
        "outputId": "94269b66-985f-438c-b634-a22fca745ac5"
      },
      "execution_count": 6,
      "outputs": [
        {
          "output_type": "stream",
          "name": "stdout",
          "text": [
            "\n",
            "JSON Data Sample:\n",
            "   id              name   username                      email  \\\n",
            "0   1     Leanne Graham       Bret          Sincere@april.biz   \n",
            "1   2      Ervin Howell  Antonette          Shanna@melissa.tv   \n",
            "2   3  Clementine Bauch   Samantha         Nathan@yesenia.net   \n",
            "3   4  Patricia Lebsack   Karianne  Julianne.OConner@kory.org   \n",
            "4   5  Chelsey Dietrich     Kamren   Lucio_Hettinger@annie.ca   \n",
            "\n",
            "                                             address                  phone  \\\n",
            "0  {'street': 'Kulas Light', 'suite': 'Apt. 556',...  1-770-736-8031 x56442   \n",
            "1  {'street': 'Victor Plains', 'suite': 'Suite 87...    010-692-6593 x09125   \n",
            "2  {'street': 'Douglas Extension', 'suite': 'Suit...         1-463-123-4447   \n",
            "3  {'street': 'Hoeger Mall', 'suite': 'Apt. 692',...      493-170-9623 x156   \n",
            "4  {'street': 'Skiles Walks', 'suite': 'Suite 351...          (254)954-1289   \n",
            "\n",
            "         website                                            company  \n",
            "0  hildegard.org  {'name': 'Romaguera-Crona', 'catchPhrase': 'Mu...  \n",
            "1  anastasia.net  {'name': 'Deckow-Crist', 'catchPhrase': 'Proac...  \n",
            "2    ramiro.info  {'name': 'Romaguera-Jacobson', 'catchPhrase': ...  \n",
            "3       kale.biz  {'name': 'Robel-Corkery', 'catchPhrase': 'Mult...  \n",
            "4   demarco.info  {'name': 'Keebler LLC', 'catchPhrase': 'User-c...  \n"
          ]
        }
      ]
    },
    {
      "cell_type": "code",
      "source": [
        "api_url = \"https://randomuser.me/api/?results=5\"\n",
        "response = requests.get(api_url)\n",
        "data = response.json()\n",
        "df_api = pd.json_normalize(data['results'])\n",
        "\n",
        "print(\"\\nREST API Data Sample:\")\n",
        "print(df_api.head())\n"
      ],
      "metadata": {
        "colab": {
          "base_uri": "https://localhost:8080/"
        },
        "id": "XX3DMG6TfWSv",
        "outputId": "33480bf9-520a-434f-a80f-7b428574da88"
      },
      "execution_count": 7,
      "outputs": [
        {
          "output_type": "stream",
          "name": "stdout",
          "text": [
            "\n",
            "REST API Data Sample:\n",
            "  gender                           email           phone            cell nat  \\\n",
            "0   male          diego.mora@example.com     953-863-093     656-154-185  ES   \n",
            "1   male         gautam.nand@example.com      8172361080      7681752215  IN   \n",
            "2   male      alex.guillaume@example.com  05-81-05-74-67  06-95-36-16-59  FR   \n",
            "3   male    nelson.patterson@example.com    04-9699-2582    0448-043-406  AU   \n",
            "4   male  shivansh.prajapati@example.com      9264151850      7565834772  IN   \n",
            "\n",
            "  name.title name.first  name.last  location.street.number  \\\n",
            "0         Mr      Diego       Mora                    8985   \n",
            "1         Mr     Gautam       Nand                    5522   \n",
            "2         Mr       Alex  Guillaume                    6038   \n",
            "3         Mr     Nelson  Patterson                    7335   \n",
            "4         Mr   Shivansh  Prajapati                    6034   \n",
            "\n",
            "  location.street.name  ...  \\\n",
            "0   Avenida de América  ...   \n",
            "1            Pali Hill  ...   \n",
            "2       Rue du Village  ...   \n",
            "3       W Belt Line Rd  ...   \n",
            "4            Rajpur Rd  ...   \n",
            "\n",
            "                                        login.sha256  \\\n",
            "0  61639822a7803d0bbbf65e1eb2edd013c92358c67574a0...   \n",
            "1  0eb3192390cf93e224629b651ac6d354226a5daecd0da5...   \n",
            "2  80803212905272bd25a4b6f01f510a3a0bfc9eecaad238...   \n",
            "3  813366dc60084965f4fe806b7bfd9c8e99b2f9ddb1d9dc...   \n",
            "4  1d0c3c8bf62cd736d3c6a6be48f2d5743024e08d3b605f...   \n",
            "\n",
            "                   dob.date dob.age           registered.date registered.age  \\\n",
            "0  1991-10-18T01:18:13.154Z      33  2021-08-25T19:58:38.309Z              3   \n",
            "1  1966-06-30T05:41:12.933Z      59  2016-02-24T03:39:13.288Z              9   \n",
            "2  1963-03-20T00:18:58.683Z      62  2004-06-21T19:11:09.800Z             21   \n",
            "3  1989-10-27T21:34:21.485Z      35  2003-07-19T19:52:06.389Z             22   \n",
            "4  1972-09-15T04:55:14.836Z      52  2011-09-05T19:23:43.021Z             13   \n",
            "\n",
            "  id.name          id.value                                   picture.large  \\\n",
            "0     DNI        87082609-N  https://randomuser.me/api/portraits/men/49.jpg   \n",
            "1   UIDAI      249541608615  https://randomuser.me/api/portraits/men/99.jpg   \n",
            "2   INSEE  1630241699796 18  https://randomuser.me/api/portraits/men/61.jpg   \n",
            "3     TFN         862981464  https://randomuser.me/api/portraits/men/81.jpg   \n",
            "4   UIDAI      508716088780  https://randomuser.me/api/portraits/men/72.jpg   \n",
            "\n",
            "                                      picture.medium  \\\n",
            "0  https://randomuser.me/api/portraits/med/men/49...   \n",
            "1  https://randomuser.me/api/portraits/med/men/99...   \n",
            "2  https://randomuser.me/api/portraits/med/men/61...   \n",
            "3  https://randomuser.me/api/portraits/med/men/81...   \n",
            "4  https://randomuser.me/api/portraits/med/men/72...   \n",
            "\n",
            "                                   picture.thumbnail  \n",
            "0  https://randomuser.me/api/portraits/thumb/men/...  \n",
            "1  https://randomuser.me/api/portraits/thumb/men/...  \n",
            "2  https://randomuser.me/api/portraits/thumb/men/...  \n",
            "3  https://randomuser.me/api/portraits/thumb/men/...  \n",
            "4  https://randomuser.me/api/portraits/thumb/men/...  \n",
            "\n",
            "[5 rows x 34 columns]\n"
          ]
        }
      ]
    },
    {
      "cell_type": "code",
      "source": [
        "# Clean CSV (Iris) data\n",
        "df_csv_clean = df_csv.rename(columns={'species': 'name'})\n",
        "df_csv_clean['email'] = None\n",
        "df_csv_clean['source'] = 'csv'\n",
        "\n",
        "# Clean JSON (User data)\n",
        "df_json_clean = df_json[['name', 'email']].copy()\n",
        "df_json_clean['source'] = 'json'\n",
        "for col in ['sepal_length', 'sepal_width', 'petal_length', 'petal_width']:\n",
        "    df_json_clean[col] = None\n",
        "\n",
        "# Clean REST API (Random users)\n",
        "df_api_clean = pd.DataFrame({\n",
        "    'name': df_api['name.first'] + ' ' + df_api['name.last'],\n",
        "    'email': df_api['email'],\n",
        "    'source': 'api'\n",
        "})\n",
        "for col in ['sepal_length', 'sepal_width', 'petal_length', 'petal_width']:\n",
        "    df_api_clean[col] = None\n"
      ],
      "metadata": {
        "id": "ThOb9uzDfgC9"
      },
      "execution_count": 8,
      "outputs": []
    },
    {
      "cell_type": "code",
      "source": [
        "# Define common columns\n",
        "common_cols = ['name', 'email', 'source',\n",
        "               'sepal_length', 'sepal_width', 'petal_length', 'petal_width']\n",
        "\n",
        "# Concatenate all sources\n",
        "unified_df = pd.concat([\n",
        "    df_csv_clean[common_cols],\n",
        "    df_json_clean[common_cols],\n",
        "    df_api_clean[common_cols]\n",
        "], ignore_index=True)\n",
        "\n",
        "print(\"\\nUnified Clean Dataset Sample:\")\n",
        "print(unified_df.head(10))\n"
      ],
      "metadata": {
        "colab": {
          "base_uri": "https://localhost:8080/"
        },
        "id": "GBE3_jwufhJf",
        "outputId": "5a651c70-bef3-48d3-ef04-eff86a4765fb"
      },
      "execution_count": 9,
      "outputs": [
        {
          "output_type": "stream",
          "name": "stdout",
          "text": [
            "\n",
            "Unified Clean Dataset Sample:\n",
            "     name email source  sepal_length  sepal_width  petal_length  petal_width\n",
            "0  setosa  None    csv           5.1          3.5           1.4          0.2\n",
            "1  setosa  None    csv           4.9          3.0           1.4          0.2\n",
            "2  setosa  None    csv           4.7          3.2           1.3          0.2\n",
            "3  setosa  None    csv           4.6          3.1           1.5          0.2\n",
            "4  setosa  None    csv           5.0          3.6           1.4          0.2\n",
            "5  setosa  None    csv           5.4          3.9           1.7          0.4\n",
            "6  setosa  None    csv           4.6          3.4           1.4          0.3\n",
            "7  setosa  None    csv           5.0          3.4           1.5          0.2\n",
            "8  setosa  None    csv           4.4          2.9           1.4          0.2\n",
            "9  setosa  None    csv           4.9          3.1           1.5          0.1\n"
          ]
        },
        {
          "output_type": "stream",
          "name": "stderr",
          "text": [
            "/tmp/ipython-input-475028740.py:6: FutureWarning: The behavior of DataFrame concatenation with empty or all-NA entries is deprecated. In a future version, this will no longer exclude empty or all-NA columns when determining the result dtypes. To retain the old behavior, exclude the relevant entries before the concat operation.\n",
            "  unified_df = pd.concat([\n"
          ]
        }
      ]
    },
    {
      "cell_type": "code",
      "source": [
        "# 1. Standardization challenge\n",
        "print(\"\\n1. The most standardization was needed in aligning column names and missing columns across sources.\")\n",
        "\n",
        "# 2. Common merging issues\n",
        "print(\"\\n2. Common problems include inconsistent schemas, missing values, or nested/unstructured data formats.\")\n",
        "\n",
        "# 3. Importance of central ingestion layer\n",
        "print(\"\\n3. A central ingestion and transformation layer ensures consistency, reduces duplication, and enables scalability when handling diverse datasets.\")\n"
      ],
      "metadata": {
        "colab": {
          "base_uri": "https://localhost:8080/"
        },
        "id": "IOK5fmrZflxV",
        "outputId": "032bded2-bbc2-4e27-887f-bbdc1dc465db"
      },
      "execution_count": 10,
      "outputs": [
        {
          "output_type": "stream",
          "name": "stdout",
          "text": [
            "\n",
            "1. The most standardization was needed in aligning column names and missing columns across sources.\n",
            "\n",
            "2. Common problems include inconsistent schemas, missing values, or nested/unstructured data formats.\n",
            "\n",
            "3. A central ingestion and transformation layer ensures consistency, reduces duplication, and enables scalability when handling diverse datasets.\n"
          ]
        }
      ]
    }
  ]
}