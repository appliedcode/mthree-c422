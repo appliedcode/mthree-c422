{
  "nbformat": 4,
  "nbformat_minor": 0,
  "metadata": {
    "colab": {
      "provenance": [],
      "gpuType": "T4",
      "authorship_tag": "ABX9TyOYTilakxS/j5Bl7zG9eEWw",
      "include_colab_link": true
    },
    "kernelspec": {
      "name": "python3",
      "display_name": "Python 3"
    },
    "language_info": {
      "name": "python"
    },
    "accelerator": "GPU"
  },
  "cells": [
    {
      "cell_type": "markdown",
      "metadata": {
        "id": "view-in-github",
        "colab_type": "text"
      },
      "source": [
        "<a href=\"https://colab.research.google.com/github/appliedcode/mthree-c422/blob/mthree-c422-rama/Excercises/Day-6/Ingestion_demo_.ipynb\" target=\"_parent\"><img src=\"https://colab.research.google.com/assets/colab-badge.svg\" alt=\"Open In Colab\"/></a>"
      ]
    },
    {
      "cell_type": "code",
      "execution_count": 1,
      "metadata": {
        "id": "zGULUSZYb6nJ"
      },
      "outputs": [],
      "source": [
        "# Step 1: Set Up the Environment\n",
        "# Install required libraries (requests and pandas)\n",
        "!pip install requests pandas -q\n"
      ]
    },
    {
      "cell_type": "code",
      "source": [
        "# Step 2: Ingest Data from a Public REST API\n",
        "# Example: Fetch random user data from the Random User Generator API.\n",
        "import requests\n",
        "import pandas as pd\n",
        "\n",
        "api_url = \"https://randomuser.me/api/?results=10\"\n",
        "response = requests.get(api_url)\n",
        "data = response.json()\n",
        "\n",
        "# Convert the results to a DataFrame\n",
        "df_api = pd.json_normalize(data['results'])\n",
        "print(\"Data from REST API:\")\n",
        "print(df_api.head())"
      ],
      "metadata": {
        "colab": {
          "base_uri": "https://localhost:8080/"
        },
        "id": "SIyf3S8FcOca",
        "outputId": "4fa662c5-9c37-4653-f157-b0da6e2c9d80"
      },
      "execution_count": 2,
      "outputs": [
        {
          "output_type": "stream",
          "name": "stdout",
          "text": [
            "Data from REST API:\n",
            "   gender                        email           phone            cell nat  \\\n",
            "0    male  augusto.ordonez@example.com  (610) 661 7412  (618) 246 3076  MX   \n",
            "1  female    hannah.walker@example.com  (708)-075-4643  (598)-590-9998  NZ   \n",
            "2  female   chloe.gonzalez@example.com  05-22-37-82-58  06-52-38-06-99  FR   \n",
            "3  female    afet.kormukcu@example.com  (634)-571-5236  (147)-813-2177  TR   \n",
            "4  female     sara.vasquez@example.com  (624) 307 3012  (624) 286 2484  MX   \n",
            "\n",
            "  name.title name.first name.last  location.street.number  \\\n",
            "0         Mr    Augusto   Ordóñez                    8929   \n",
            "1        Mrs     Hannah    Walker                    3604   \n",
            "2       Miss      Chloé  Gonzalez                    9230   \n",
            "3       Miss       Afet  Körmükçü                    8464   \n",
            "4        Mrs       Sara   Vásquez                    8940   \n",
            "\n",
            "    location.street.name  ...  \\\n",
            "0     Andador Sur Urbina  ...   \n",
            "1          Totara Avenue  ...   \n",
            "2    Rue Jean-Baldassini  ...   \n",
            "3              Bağdat Cd  ...   \n",
            "4  Callejón Sur Trujillo  ...   \n",
            "\n",
            "                                        login.sha256  \\\n",
            "0  0fbc72f8b5813139c2cb1d7b76a15ad20f23ae4f4b73dd...   \n",
            "1  b01311b97e4c6c5a2422630bd90e44843009b2237a4041...   \n",
            "2  7d737aeb75632de85c93ce7e77c330784415c7e6419315...   \n",
            "3  55e27ffd291bc162c70470521e4d69ded151d42d7d0d76...   \n",
            "4  9d0cb3fb37915b70f46f4d6af0dc522bf1a26d743651e1...   \n",
            "\n",
            "                   dob.date dob.age           registered.date registered.age  \\\n",
            "0  1947-02-21T23:29:51.036Z      78  2020-11-30T12:20:47.754Z              4   \n",
            "1  1988-12-31T13:41:29.988Z      36  2007-12-18T05:06:58.869Z             17   \n",
            "2  1969-05-31T06:40:17.738Z      56  2013-04-27T15:39:00.124Z             12   \n",
            "3  1997-02-22T11:38:15.661Z      28  2007-08-17T13:55:43.099Z             17   \n",
            "4  1975-07-11T20:20:53.478Z      50  2002-11-12T12:28:40.644Z             22   \n",
            "\n",
            "  id.name          id.value                                     picture.large  \\\n",
            "0     NSS   91 93 94 8992 4    https://randomuser.me/api/portraits/men/32.jpg   \n",
            "1                      None  https://randomuser.me/api/portraits/women/65.jpg   \n",
            "2   INSEE  2690412134027 69  https://randomuser.me/api/portraits/women/68.jpg   \n",
            "3                      None  https://randomuser.me/api/portraits/women/94.jpg   \n",
            "4     NSS   52 83 27 2082 5   https://randomuser.me/api/portraits/women/4.jpg   \n",
            "\n",
            "                                      picture.medium  \\\n",
            "0  https://randomuser.me/api/portraits/med/men/32...   \n",
            "1  https://randomuser.me/api/portraits/med/women/...   \n",
            "2  https://randomuser.me/api/portraits/med/women/...   \n",
            "3  https://randomuser.me/api/portraits/med/women/...   \n",
            "4  https://randomuser.me/api/portraits/med/women/...   \n",
            "\n",
            "                                   picture.thumbnail  \n",
            "0  https://randomuser.me/api/portraits/thumb/men/...  \n",
            "1  https://randomuser.me/api/portraits/thumb/wome...  \n",
            "2  https://randomuser.me/api/portraits/thumb/wome...  \n",
            "3  https://randomuser.me/api/portraits/thumb/wome...  \n",
            "4  https://randomuser.me/api/portraits/thumb/wome...  \n",
            "\n",
            "[5 rows x 34 columns]\n"
          ]
        }
      ]
    },
    {
      "cell_type": "code",
      "source": [
        "# Step 3: Ingest Data from a CSV File\n",
        "# Example using the Iris dataset (direct CSV link):\n",
        "\n",
        "csv_url = \"https://raw.githubusercontent.com/uiuc-cse/data-fa14/gh-pages/data/iris.csv\"\n",
        "df_csv = pd.read_csv(csv_url)\n",
        "print(\"\\nData from CSV File:\")\n",
        "print(df_csv.head())\n"
      ],
      "metadata": {
        "colab": {
          "base_uri": "https://localhost:8080/"
        },
        "id": "nMZJcuRycTvF",
        "outputId": "b9555d1d-43fe-4ebf-e25d-9e077ce3c525"
      },
      "execution_count": 3,
      "outputs": [
        {
          "output_type": "stream",
          "name": "stdout",
          "text": [
            "\n",
            "Data from CSV File:\n",
            "   sepal_length  sepal_width  petal_length  petal_width species\n",
            "0           5.1          3.5           1.4          0.2  setosa\n",
            "1           4.9          3.0           1.4          0.2  setosa\n",
            "2           4.7          3.2           1.3          0.2  setosa\n",
            "3           4.6          3.1           1.5          0.2  setosa\n",
            "4           5.0          3.6           1.4          0.2  setosa\n"
          ]
        }
      ]
    },
    {
      "cell_type": "code",
      "source": [
        "# Step 4: Inspect and Compare Data\n",
        "# Perform basic inspection on both data sources.\n",
        "# Inspect columns and info for both DataFrames\n",
        "print(\"API Data Columns:\", df_api.columns)\n",
        "print(\"CSV Data Columns:\", df_csv.columns)\n",
        "\n",
        "print(\"\\nAPI Data Info:\")\n",
        "print(df_api.info())\n",
        "\n",
        "print(\"\\nCSV Data Info:\")\n",
        "print(df_csv.info())"
      ],
      "metadata": {
        "colab": {
          "base_uri": "https://localhost:8080/"
        },
        "id": "sh7nNA4ocf4O",
        "outputId": "5381b010-29f4-4cff-d052-827da9a3ec2d"
      },
      "execution_count": 4,
      "outputs": [
        {
          "output_type": "stream",
          "name": "stdout",
          "text": [
            "API Data Columns: Index(['gender', 'email', 'phone', 'cell', 'nat', 'name.title', 'name.first',\n",
            "       'name.last', 'location.street.number', 'location.street.name',\n",
            "       'location.city', 'location.state', 'location.country',\n",
            "       'location.postcode', 'location.coordinates.latitude',\n",
            "       'location.coordinates.longitude', 'location.timezone.offset',\n",
            "       'location.timezone.description', 'login.uuid', 'login.username',\n",
            "       'login.password', 'login.salt', 'login.md5', 'login.sha1',\n",
            "       'login.sha256', 'dob.date', 'dob.age', 'registered.date',\n",
            "       'registered.age', 'id.name', 'id.value', 'picture.large',\n",
            "       'picture.medium', 'picture.thumbnail'],\n",
            "      dtype='object')\n",
            "CSV Data Columns: Index(['sepal_length', 'sepal_width', 'petal_length', 'petal_width',\n",
            "       'species'],\n",
            "      dtype='object')\n",
            "\n",
            "API Data Info:\n",
            "<class 'pandas.core.frame.DataFrame'>\n",
            "RangeIndex: 10 entries, 0 to 9\n",
            "Data columns (total 34 columns):\n",
            " #   Column                          Non-Null Count  Dtype \n",
            "---  ------                          --------------  ----- \n",
            " 0   gender                          10 non-null     object\n",
            " 1   email                           10 non-null     object\n",
            " 2   phone                           10 non-null     object\n",
            " 3   cell                            10 non-null     object\n",
            " 4   nat                             10 non-null     object\n",
            " 5   name.title                      10 non-null     object\n",
            " 6   name.first                      10 non-null     object\n",
            " 7   name.last                       10 non-null     object\n",
            " 8   location.street.number          10 non-null     int64 \n",
            " 9   location.street.name            10 non-null     object\n",
            " 10  location.city                   10 non-null     object\n",
            " 11  location.state                  10 non-null     object\n",
            " 12  location.country                10 non-null     object\n",
            " 13  location.postcode               10 non-null     object\n",
            " 14  location.coordinates.latitude   10 non-null     object\n",
            " 15  location.coordinates.longitude  10 non-null     object\n",
            " 16  location.timezone.offset        10 non-null     object\n",
            " 17  location.timezone.description   10 non-null     object\n",
            " 18  login.uuid                      10 non-null     object\n",
            " 19  login.username                  10 non-null     object\n",
            " 20  login.password                  10 non-null     object\n",
            " 21  login.salt                      10 non-null     object\n",
            " 22  login.md5                       10 non-null     object\n",
            " 23  login.sha1                      10 non-null     object\n",
            " 24  login.sha256                    10 non-null     object\n",
            " 25  dob.date                        10 non-null     object\n",
            " 26  dob.age                         10 non-null     int64 \n",
            " 27  registered.date                 10 non-null     object\n",
            " 28  registered.age                  10 non-null     int64 \n",
            " 29  id.name                         10 non-null     object\n",
            " 30  id.value                        8 non-null      object\n",
            " 31  picture.large                   10 non-null     object\n",
            " 32  picture.medium                  10 non-null     object\n",
            " 33  picture.thumbnail               10 non-null     object\n",
            "dtypes: int64(3), object(31)\n",
            "memory usage: 2.8+ KB\n",
            "None\n",
            "\n",
            "CSV Data Info:\n",
            "<class 'pandas.core.frame.DataFrame'>\n",
            "RangeIndex: 150 entries, 0 to 149\n",
            "Data columns (total 5 columns):\n",
            " #   Column        Non-Null Count  Dtype  \n",
            "---  ------        --------------  -----  \n",
            " 0   sepal_length  150 non-null    float64\n",
            " 1   sepal_width   150 non-null    float64\n",
            " 2   petal_length  150 non-null    float64\n",
            " 3   petal_width   150 non-null    float64\n",
            " 4   species       150 non-null    object \n",
            "dtypes: float64(4), object(1)\n",
            "memory usage: 6.0+ KB\n",
            "None\n"
          ]
        }
      ]
    },
    {
      "cell_type": "markdown",
      "source": [
        "1. What were the main steps for ingesting data from a REST API vs. a CSV?\n",
        "\n",
        "**REST API Ingestion Steps**:\n",
        "\n",
        "\n",
        "*   Identify and construct the API endpoint URL.\n",
        "*   Send a request using a library like requests.\n",
        "\n",
        "*   Receive a JSON response.\n",
        "\n",
        "*   Parse the response and convert it to a structured format using pandas.DataFrame.\n",
        "\n",
        "**CSV File Ingestion Steps:**\n",
        "\n",
        "\n",
        "*   \n",
        "Upload the CSV file using Colab’s files.upload() or access it from a known path.\n",
        "*   Use pandas.read_csv() to read the file into a DataFrame.\n",
        "\n",
        "**Key Difference:**\n",
        "\n",
        "REST API involves network calls and JSON parsing, while CSV ingestion reads local/static data.\n",
        "\n",
        "\n"
      ],
      "metadata": {
        "id": "AdMSE-nnhH7Y"
      }
    },
    {
      "cell_type": "markdown",
      "source": [
        "[link text](https://)"
      ],
      "metadata": {
        "id": "fEBv4HnqhiH4"
      }
    },
    {
      "cell_type": "markdown",
      "source": [
        "2. What are some possible challenges or error scenarios for each ingestion method?\n",
        "\n",
        "**For REST API Ingestion:**\n",
        "\n",
        "\n",
        "*   Network issues (no internet, timeouts, bad request).\n",
        "*   API changes (endpoint or structure).\n",
        "\n",
        "*   Rate limits or API key restrictions.\n",
        "*   JSON structure inconsistencies or deeply nested data.\n",
        "\n",
        "**For CSV Ingestion:**\n",
        "\n",
        "\n",
        "*   File not found or incorrect path.\n",
        "*   Encoding errors (e.g., UTF-8 vs ANSI).\n",
        "\n",
        "*   Inconsistent delimiters or missing headers.\n",
        "*   Corrupted or improperly formatted CSV files.\n",
        "\n",
        "\n",
        "\n",
        "\n",
        "\n",
        "\n",
        "\n",
        "\n"
      ],
      "metadata": {
        "id": "MxmULArDiPFW"
      }
    },
    {
      "cell_type": "markdown",
      "source": [
        "3. For your workflow, when would you prefer an API vs. a CSV file?\n",
        "**Prefer API when:**\n",
        "\n",
        "\n",
        "*   You need real-time or frequently updated data.\n",
        "*   You're building a dynamic app or dashboard.\n",
        "\n",
        "*   You want to automate the data fetching process.\n",
        "\n",
        "**Prefer CSV when:**\n",
        "\n",
        "\n",
        "*   Data is static, pre-downloaded, or shared offline.\n",
        "*   You’re working on data cleaning, exploration, or training models.\n",
        "\n",
        "*   There's no need for frequent updates, and the data is already cleaned.\n",
        "\n",
        "\n",
        "\n",
        "\n",
        "\n",
        "\n"
      ],
      "metadata": {
        "id": "df1m8QeHjHZE"
      }
    },
    {
      "cell_type": "code",
      "source": [
        "# (Optional) Save Your Results\n",
        "# Save both datasets to Colab files (optional)\n",
        "df_api.to_csv(\"users_api.csv\", index=False)\n",
        "df_csv.to_csv(\"iris_csv.csv\", index=False)"
      ],
      "metadata": {
        "id": "VaejWCT2jkho"
      },
      "execution_count": 5,
      "outputs": []
    },
    {
      "cell_type": "markdown",
      "source": [],
      "metadata": {
        "id": "0aw-7rOmh7Qt"
      }
    },
    {
      "cell_type": "markdown",
      "source": [],
      "metadata": {
        "id": "r5Ne-zWRiJmN"
      }
    }
  ]
}