{
  "cells": [
    {
      "cell_type": "markdown",
      "metadata": {
        "id": "view-in-github",
        "colab_type": "text"
      },
      "source": [
        "<a href=\"https://colab.research.google.com/github/appliedcode/mthree-c422/blob/main/Exercises/day-4/Conversion_techniques/Word2vec.ipynb\" target=\"_parent\"><img src=\"https://colab.research.google.com/assets/colab-badge.svg\" alt=\"Open In Colab\"/></a>"
      ]
    },
    {
      "cell_type": "markdown",
      "source": [
        "# 🧠 Word2Vec Exercise\n",
        "\n",
        "## 🎯 Objective\n",
        "- Train a **Word2Vec** model on a small text corpus.\n",
        "- Convert words into **dense vector representations** (embeddings).\n",
        "- Explore **semantically similar words** and basic **word relationships**.\n",
        "\n",
        "---\n",
        "\n",
        "## 📚 Dataset\n",
        "\n",
        "Use the following **6 sentences** as your training corpus:\n",
        "\n",
        "1. *I enjoy walking in the park.*\n",
        "2. *Walking and running are good exercises.*\n",
        "3. *I love jogging around the neighborhood.*\n",
        "4. *Exercise keeps me healthy and energetic.*\n",
        "5. *Morning walks help clear my mind.*\n",
        "6. *The park is full of beautiful trees.*\n",
        "\n",
        "## 🧩 Tasks\n",
        "\n",
        "### 🔄 Preprocessing\n",
        "- Convert all sentences to **lowercase**.\n",
        "- **Tokenize** each sentence into individual words.\n",
        "- **Remove punctuation** from the tokens.\n",
        "\n",
        "---\n",
        "\n",
        "### 🛠️ Train Word2Vec Model\n",
        "- Use the **skip-gram** architecture (`sg=1`).\n",
        "- Set:\n",
        "  - `vector_size = 50`\n",
        "  - `window = 3`\n",
        "  - `epochs = 100`\n",
        "- Input the **preprocessed tokenized sentences** into the model for training.\n",
        "\n",
        "---\n",
        "\n",
        "### 🔍 Explore Embeddings\n",
        "\n",
        "- **Extract and display** the vector embedding corresponding to the word `\"walking\"` from the trained Word2Vec model.\n",
        "\n",
        "- **Identify and print** the top five words most similar to `\"walking\"`, ranked by cosine similarity.\n",
        "\n",
        "- **Calculate and report** the cosine similarity score between the words `\"walking\"` and `\"running\"`.\n",
        "\n",
        "- **Solve a word analogy** using vector arithmetic:  \n",
        "  Determine the word that is most similar to the result of `\"running\"` + `\"morning\"` − `\"walking\"`."
      ],
      "metadata": {
        "id": "bOx5MkTlY-ec"
      }
    },
    {
      "cell_type": "code",
      "source": [
        "import nltk\n",
        "# Download both old and new tokenizer data\n",
        "nltk.download('punkt')\n",
        "nltk.download('punkt_tab')\n",
        "nltk.download('stopwords')"
      ],
      "metadata": {
        "id": "fCRYJGvtY995",
        "outputId": "d1ba8e28-e245-4d8d-f65f-1699848db761",
        "colab": {
          "base_uri": "https://localhost:8080/"
        }
      },
      "execution_count": 2,
      "outputs": [
        {
          "output_type": "stream",
          "name": "stderr",
          "text": [
            "[nltk_data] Downloading package punkt to /root/nltk_data...\n",
            "[nltk_data]   Package punkt is already up-to-date!\n",
            "[nltk_data] Downloading package punkt_tab to /root/nltk_data...\n",
            "[nltk_data]   Unzipping tokenizers/punkt_tab.zip.\n",
            "[nltk_data] Downloading package stopwords to /root/nltk_data...\n",
            "[nltk_data]   Unzipping corpora/stopwords.zip.\n"
          ]
        },
        {
          "output_type": "execute_result",
          "data": {
            "text/plain": [
              "True"
            ]
          },
          "metadata": {},
          "execution_count": 2
        }
      ]
    },
    {
      "cell_type": "code",
      "source": [
        "# Install required packages if you have not already\n",
        "!pip install gensim nltk -q\n",
        "\n",
        "import nltk\n",
        "from nltk.tokenize import word_tokenize\n",
        "from gensim.models import Word2Vec\n",
        "import string\n",
        "\n",
        "# Download punkt tokenizer once\n",
        "nltk.download('punkt')\n",
        "\n",
        "# Step 1: Corpus and Preprocessing\n",
        "sentences = [\n",
        "    \"I enjoy walking in the park.\",\n",
        "    \"Walking and running are good exercises.\",\n",
        "    \"I love jogging around the neighborhood.\",\n",
        "    \"Exercise keeps me healthy and energetic.\",\n",
        "    \"Morning walks help clear my mind.\",\n",
        "    \"The park is full of beautiful trees.\"\n",
        "]\n",
        "\n",
        "def preprocess(sent):\n",
        "    # Lowercase\n",
        "    sent = sent.lower()\n",
        "    # Remove punctuation\n",
        "    sent = sent.translate(str.maketrans('', '', string.punctuation))\n",
        "    # Tokenize\n",
        "    tokens = word_tokenize(sent)\n",
        "    return tokens\n",
        "\n",
        "tokenized_sentences = [preprocess(s) for s in sentences]\n",
        "\n",
        "# Step 2: Train Word2Vec Model\n",
        "model = Word2Vec(\n",
        "    sentences=tokenized_sentences,\n",
        "    vector_size=50,\n",
        "    window=3,\n",
        "    min_count=1,  # consider all words\n",
        "    sg=1,         # skip-gram\n",
        "    epochs=100\n",
        ")\n",
        "\n",
        "# Step 3: Vector for 'walking'\n",
        "print(\"Vector for 'walking' (first 10 dimensions):\")\n",
        "print(model.wv['walking'][:10])\n",
        "\n",
        "# Step 4: Top 5 most similar words to 'walking'\n",
        "print(\"\\nTop 5 words similar to 'walking':\")\n",
        "for word, score in model.wv.most_similar('walking', topn=5):\n",
        "    print(f\"{word}: {score:.4f}\")\n",
        "\n",
        "# Step 5: Similarity between 'walking' and 'running'\n",
        "similarity = model.wv.similarity('walking', 'running')\n",
        "print(f\"\\nSimilarity between 'walking' and 'running': {similarity:.4f}\")\n",
        "\n",
        "# Step 6: Analogy: running + morning - walking\n",
        "print(\"\\nWords most similar to the analogy 'running' + 'morning' - 'walking':\")\n",
        "for word, score in model.wv.most_similar(positive=['running', 'morning'], negative=['walking'], topn=3):\n",
        "    print(f\"{word}: {score:.4f}\")\n"
      ],
      "metadata": {
        "id": "0bsGrAzv3BD7",
        "outputId": "308c7ff6-6c19-48f2-c93c-3a2225cb6f61",
        "colab": {
          "base_uri": "https://localhost:8080/"
        }
      },
      "execution_count": 4,
      "outputs": [
        {
          "output_type": "stream",
          "name": "stdout",
          "text": [
            "Vector for 'walking' (first 10 dimensions):\n",
            "[-0.01759433  0.00767909  0.01061761  0.0114562   0.0146957  -0.0129286\n",
            "  0.00259938  0.0126877  -0.00618321 -0.01260977]\n",
            "\n",
            "Top 5 words similar to 'walking':\n",
            "me: 0.2180\n",
            "and: 0.1931\n",
            "exercises: 0.1745\n",
            "help: 0.1718\n",
            "the: 0.1668\n",
            "\n",
            "Similarity between 'walking' and 'running': 0.1529\n",
            "\n",
            "Words most similar to the analogy 'running' + 'morning' - 'walking':\n",
            "in: 0.1845\n",
            "mind: 0.1780\n",
            "clear: 0.1610\n"
          ]
        },
        {
          "output_type": "stream",
          "name": "stderr",
          "text": [
            "[nltk_data] Downloading package punkt to /root/nltk_data...\n",
            "[nltk_data]   Package punkt is already up-to-date!\n"
          ]
        }
      ]
    }
  ],
  "metadata": {
    "colab": {
      "provenance": [],
      "include_colab_link": true
    },
    "kernelspec": {
      "display_name": "Python 3",
      "name": "python3"
    }
  },
  "nbformat": 4,
  "nbformat_minor": 0
}