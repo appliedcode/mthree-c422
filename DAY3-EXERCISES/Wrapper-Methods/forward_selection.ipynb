{
  "nbformat": 4,
  "nbformat_minor": 0,
  "metadata": {
    "colab": {
      "provenance": [],
      "gpuType": "T4"
    },
    "kernelspec": {
      "name": "python3",
      "display_name": "Python 3"
    },
    "language_info": {
      "name": "python"
    },
    "accelerator": "GPU"
  },
  "cells": [
    {
      "cell_type": "markdown",
      "source": [
        "### Forward_Selection"
      ],
      "metadata": {
        "id": "KwVtnSD9V2Eg"
      }
    },
    {
      "cell_type": "code",
      "execution_count": 1,
      "metadata": {
        "id": "CPO2iyTfVxoS"
      },
      "outputs": [],
      "source": [
        "import pandas as pd\n",
        "from sklearn.datasets import load_breast_cancer\n",
        "from sklearn.linear_model import LogisticRegression\n",
        "from sklearn.feature_selection import SequentialFeatureSelector\n",
        "from sklearn.model_selection import train_test_split\n",
        "from sklearn.metrics import accuracy_score\n",
        "from sklearn.feature_selection import SequentialFeatureSelector\n",
        "from sklearn.model_selection import train_test_split, cross_val_score, StratifiedKFold\n",
        "from sklearn.metrics import (\n",
        "    accuracy_score, precision_score, recall_score, roc_auc_score,\n",
        "    classification_report, roc_curve\n",
        ")"
      ]
    },
    {
      "cell_type": "code",
      "source": [
        "X, y = load_breast_cancer(return_X_y=True)\n",
        "X = pd.DataFrame(X)"
      ],
      "metadata": {
        "id": "tgAw_IZmWgqg"
      },
      "execution_count": 2,
      "outputs": []
    },
    {
      "cell_type": "code",
      "source": [
        "# Split dataset into train and test\n",
        "X_train, X_test, y_train, y_test = train_test_split(X, y, random_state=42)"
      ],
      "metadata": {
        "id": "mlveIpR2WqHT"
      },
      "execution_count": 3,
      "outputs": []
    },
    {
      "cell_type": "code",
      "source": [
        "model = LogisticRegression(max_iter=5000)\n",
        "# model = LogisticRegression(max_iter=3999)-> [no change in accuracy when changed to 3999]"
      ],
      "metadata": {
        "id": "SZ1oDkX8W7d9"
      },
      "execution_count": 10,
      "outputs": []
    },
    {
      "cell_type": "code",
      "source": [
        "# Forward Selection: add features one by one that improve model performance\n",
        "sfs_forward = SequentialFeatureSelector(\n",
        "    # model, n_features_to_select=5, direction='forward'\n",
        "    model, n_features_to_select=7, direction='forward'\n",
        ")\n",
        "sfs_forward.fit(X_train, y_train)\n",
        "\n",
        "selected_features = X.columns[sfs_forward.get_support()]\n",
        "print(\"Forward Selection Chosen Features:\", list(selected_features))"
      ],
      "metadata": {
        "colab": {
          "base_uri": "https://localhost:8080/"
        },
        "id": "x3PXpgO-XLLS",
        "outputId": "2a507b7c-2414-4e4c-c821-c7496224b308"
      },
      "execution_count": 14,
      "outputs": [
        {
          "output_type": "stream",
          "name": "stdout",
          "text": [
            "Forward Selection Chosen Features: [0, 2, 4, 9, 21, 22, 25]\n"
          ]
        }
      ]
    },
    {
      "cell_type": "code",
      "source": [
        "# Train model with selected features and evaluate\n",
        "model.fit(X_train[selected_features], y_train)\n",
        "y_pred = model.predict(X_test[selected_features])\n",
        "acc = accuracy_score(y_test, y_pred)\n",
        "\n",
        "print(f\"Accuracy with Forward Selection (7 features): {acc:.4f}\")"
      ],
      "metadata": {
        "colab": {
          "base_uri": "https://localhost:8080/"
        },
        "id": "EGezTINrXL2T",
        "outputId": "9f416686-9ee1-4615-f5fb-fe11d5121d7d"
      },
      "execution_count": 16,
      "outputs": [
        {
          "output_type": "stream",
          "name": "stdout",
          "text": [
            "Accuracy with Forward Selection (7 features): 0.9720\n"
          ]
        }
      ]
    },
    {
      "cell_type": "markdown",
      "source": [
        "#### Analysis"
      ],
      "metadata": {
        "id": "5EUdSmUfYrgY"
      }
    },
    {
      "cell_type": "code",
      "source": [
        "best_k, best_acc = None, 0\n",
        "for k in range(1, 5):\n",
        "    sfs = SequentialFeatureSelector(\n",
        "        model, n_features_to_select=k, direction='forward'\n",
        "    ).fit(X_train, y_train)\n",
        "    feats = X_train.columns[sfs.get_support()]\n",
        "    model.fit(X_train[feats], y_train)\n",
        "    acc = accuracy_score(y_test, model.predict(X_test[feats]))\n",
        "    if acc > best_acc:\n",
        "        best_acc, best_k = acc, k\n",
        "\n",
        "print(f\"Optimal k: {best_k} features → Accuracy: {best_acc:.4f}\")"
      ],
      "metadata": {
        "colab": {
          "base_uri": "https://localhost:8080/"
        },
        "id": "qUmYt11LXjcz",
        "outputId": "c7007058-2427-4a6e-d393-95f5e0f0647c"
      },
      "execution_count": 17,
      "outputs": [
        {
          "output_type": "stream",
          "name": "stdout",
          "text": [
            "Optimal k: 2 features → Accuracy: 0.9720\n"
          ]
        }
      ]
    },
    {
      "cell_type": "markdown",
      "source": [
        "### Stratified K-Fold Integration"
      ],
      "metadata": {
        "id": "UJ6BGC1OZAHO"
      }
    },
    {
      "cell_type": "code",
      "source": [
        "from sklearn.model_selection import StratifiedKFold, cross_val_score\n",
        "\n",
        "kf = StratifiedKFold(n_splits=5, shuffle=True, random_state=42)\n",
        "sfs = SequentialFeatureSelector(\n",
        "    model,\n",
        "    n_features_to_select=5,\n",
        "    direction='forward',\n",
        "    cv=kf,\n",
        "    scoring='accuracy'\n",
        ").fit(X, y)\n",
        "\n",
        "feats = X.columns[sfs.get_support()]\n",
        "scores = cross_val_score(model.fit(X[feats], y), X[feats], y, cv=kf)\n",
        "print(f\"Selected: {list(feats)}\")\n",
        "print(f\"CV Accuracy: {scores.mean():.4f} ± {scores.std():.4f}\")"
      ],
      "metadata": {
        "colab": {
          "base_uri": "https://localhost:8080/"
        },
        "id": "fOGblQUAZBlY",
        "outputId": "a70baf15-5f5f-4d11-a4d3-695b58c2491c"
      },
      "execution_count": 18,
      "outputs": [
        {
          "output_type": "stream",
          "name": "stdout",
          "text": [
            "Selected: [3, 4, 20, 21, 26]\n",
            "CV Accuracy: 0.9543 ± 0.0195\n"
          ]
        }
      ]
    },
    {
      "cell_type": "markdown",
      "source": [
        "### Custom Scoring Function"
      ],
      "metadata": {
        "id": "g5Ss5LQcaDdN"
      }
    },
    {
      "cell_type": "code",
      "source": [
        "# F1-score based forward selection\n",
        "sfs_f1 = SequentialFeatureSelector(\n",
        "    model, n_features_to_select=5,\n",
        "    direction='forward',\n",
        "    scoring='f1'\n",
        ").fit(X_train, y_train)\n",
        "\n",
        "feats_f1 = X_train.columns[sfs_f1.get_support()]\n",
        "model.fit(X_train[feats_f1], y_train)\n",
        "print(\"F1-based features:\", list(feats_f1))\n",
        "print(\"Test F1:\", precision_score(y_test, model.predict(X_test[feats_f1]), average='binary'))"
      ],
      "metadata": {
        "colab": {
          "base_uri": "https://localhost:8080/"
        },
        "id": "YzeOlq5aZZzP",
        "outputId": "3b645d5c-6cf2-4d8c-c7d7-87da17606da9"
      },
      "execution_count": 19,
      "outputs": [
        {
          "output_type": "stream",
          "name": "stdout",
          "text": [
            "F1-based features: [4, 5, 20, 21, 26]\n",
            "Test F1: 0.967032967032967\n"
          ]
        }
      ]
    },
    {
      "cell_type": "code",
      "source": [
        "from sklearn.metrics import balanced_accuracy_score\n",
        "\n",
        "sfs_bal = SequentialFeatureSelector(\n",
        "    model, n_features_to_select=5,\n",
        "    direction='forward',\n",
        "    scoring='balanced_accuracy'\n",
        ").fit(X_train, y_train)\n",
        "\n",
        "feats_bal = X_train.columns[sfs_bal.get_support()]\n",
        "model.fit(X_train[feats_bal], y_train)\n",
        "\n",
        "print(\"Balanced Accuracy-based features:\", list(feats_bal))\n",
        "print(\"Test Balanced Accuracy:\", balanced_accuracy_score(\n",
        "    y_test, model.predict(X_test[feats_bal])\n",
        "))\n"
      ],
      "metadata": {
        "colab": {
          "base_uri": "https://localhost:8080/"
        },
        "id": "gZmEnQ3xaU5e",
        "outputId": "d74903bf-9c85-4e90-cff2-fb4a568bceff"
      },
      "execution_count": 21,
      "outputs": [
        {
          "output_type": "stream",
          "name": "stdout",
          "text": [
            "Balanced Accuracy-based features: [0, 21, 22, 23, 25]\n",
            "Test Balanced Accuracy: 0.9480857261756138\n"
          ]
        }
      ]
    },
    {
      "cell_type": "markdown",
      "source": [
        "### New Dataset"
      ],
      "metadata": {
        "id": "PSNPCHyAbeQ8"
      }
    },
    {
      "cell_type": "code",
      "source": [
        "from sklearn.datasets import load_iris\n",
        "\n",
        "X2, y2 = load_iris(return_X_y=True, as_frame=True)\n",
        "model = LogisticRegression(max_iter=5000)\n",
        "X2_train, X2_test, y2_train, y2_test = train_test_split(X2, y2, random_state=42)\n",
        "\n",
        "sfs_iris = SequentialFeatureSelector(\n",
        "    model, n_features_to_select=2, direction='forward'\n",
        ").fit(X2_train, y2_train)\n",
        "\n",
        "feats_iris = X2.columns[sfs_iris.get_support()]\n",
        "model.fit(X2_train[feats_iris], y2_train)\n",
        "acc2 = accuracy_score(y2_test, model.predict(X2_test[feats_iris]))\n",
        "print(\"Iris selected features:\", list(feats_iris))\n",
        "print(f\"Iris accuracy: {acc2:.4f}\")"
      ],
      "metadata": {
        "colab": {
          "base_uri": "https://localhost:8080/"
        },
        "id": "91teZbmoaoct",
        "outputId": "89fe0d0b-e0d9-4796-a52f-54f3162ab670"
      },
      "execution_count": 24,
      "outputs": [
        {
          "output_type": "stream",
          "name": "stdout",
          "text": [
            "Iris selected features: ['petal length (cm)', 'petal width (cm)']\n",
            "Iris accuracy: 1.0000\n"
          ]
        }
      ]
    }
  ]
}