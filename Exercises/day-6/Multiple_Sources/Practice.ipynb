{
  "cells": [
    {
      "cell_type": "markdown",
      "metadata": {
        "id": "view-in-github",
        "colab_type": "text"
      },
      "source": [
        "<a href=\"https://colab.research.google.com/github/appliedcode/mthree-c422/blob/main/Exercises/day-6/Multiple_Sources/Practice.ipynb\" target=\"_parent\"><img src=\"https://colab.research.google.com/assets/colab-badge.svg\" alt=\"Open In Colab\"/></a>"
      ]
    },
    {
      "cell_type": "markdown",
      "source": [
        "## Additional Lab Exercises: Cleaning & Feature Engineering Pipelines\n",
        "\n",
        "Below are four exercises with direct CSV links. For each, build modular `clean_data()` and `engineer_features()` functions in Colab.\n",
        "\n",
        "---\n",
        "\n",
        "### Exercise A: Housing Prices Pipeline\n",
        "\n",
        "**Dataset (Housing Prices Mini):**  \n",
        "https://raw.githubusercontent.com/ageron/handson-ml/master/datasets/housing/housing.csv\n",
        "\n",
        "**Tasks**  \n",
        "1. Load and inspect for missing values and outliers.  \n",
        "2. Impute `total_bedrooms` with median.  \n",
        "3. Create new features:  \n",
        "   - `rooms_per_household = total_rooms / households`  \n",
        "   - `bedrooms_per_room  = total_bedrooms / total_rooms`  \n",
        "   - `population_per_household = population / households`  \n",
        "4. One-hot encode `ocean_proximity`.  \n",
        "5. Normalize numeric features (MinMax or StandardScaler).  \n",
        "6. Wrap cleaning and feature logic in functions.\n",
        "\n",
        "---\n",
        "\n",
        "### Exercise B: Credit Card Transactions\n",
        "\n",
        "**Dataset (UCI Default of Credit Card Clients):**  \n",
        "https://archive.ics.uci.edu/static/public/422/default_of_credit_card_clients__data_.csv\n",
        "\n",
        "**Tasks**  \n",
        "1. Rename columns to lowercase and remove spaces.  \n",
        "2. Handle missing or invalid billing/payment values.  \n",
        "3. Engineer features:  \n",
        "   - `avg_bill_amt = (bill_amt1 + … + bill_amt6) / 6`  \n",
        "   - `avg_pay_amt  = (pay_amt1 + … + pay_amt6) / 6`  \n",
        "   - `pay_bill_ratio = avg_pay_amt / avg_bill_amt`  \n",
        "4. Bin `age` into groups (e.g., decades).  \n",
        "5. One-hot encode `sex`, `education`, `marriage`.  \n",
        "6. Modularize into `clean_data()` and `engineer_features()`.\n",
        "\n",
        "---"
      ],
      "metadata": {
        "id": "RpsOG3v9XMxn"
      }
    }
  ],
  "metadata": {
    "colab": {
      "name": "Welcome to Colab",
      "provenance": [],
      "include_colab_link": true
    },
    "kernelspec": {
      "display_name": "Python 3",
      "name": "python3"
    }
  },
  "nbformat": 4,
  "nbformat_minor": 0
}