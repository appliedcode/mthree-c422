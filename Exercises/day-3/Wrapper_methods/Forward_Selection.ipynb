{
  "cells": [
    {
      "cell_type": "code",
      "execution_count": 1,
      "id": "a9b5fa65",
      "metadata": {
        "vscode": {
          "languageId": "plaintext"
        },
        "id": "a9b5fa65"
      },
      "outputs": [],
      "source": [
        "# Forward Selection\n",
        "import pandas as pd\n",
        "from sklearn.datasets import load_breast_cancer\n",
        "from sklearn.linear_model import LogisticRegression\n",
        "from sklearn.feature_selection import SequentialFeatureSelector\n",
        "from sklearn.model_selection import train_test_split\n",
        "from sklearn.metrics import accuracy_score\n",
        "from sklearn.feature_selection import SequentialFeatureSelector\n",
        "from sklearn.model_selection import train_test_split, cross_val_score, StratifiedKFold\n",
        "from sklearn.metrics import (\n",
        "    accuracy_score, precision_score, recall_score, roc_auc_score,\n",
        "    classification_report, roc_curve\n",
        ")"
      ]
    },
    {
      "cell_type": "code",
      "execution_count": 2,
      "id": "4e080b2b",
      "metadata": {
        "vscode": {
          "languageId": "plaintext"
        },
        "id": "4e080b2b"
      },
      "outputs": [],
      "source": [
        "# Load data\n",
        "X, y = load_breast_cancer(return_X_y=True)\n",
        "X = pd.DataFrame(X)"
      ]
    },
    {
      "cell_type": "code",
      "execution_count": 8,
      "id": "7b38155f",
      "metadata": {
        "vscode": {
          "languageId": "plaintext"
        },
        "id": "7b38155f"
      },
      "outputs": [],
      "source": [
        "# Split dataset into train and test\n",
        "X_train, X_test, y_train, y_test = train_test_split(X, y, random_state=30)"
      ]
    },
    {
      "cell_type": "code",
      "execution_count": 9,
      "id": "a028b5d0",
      "metadata": {
        "vscode": {
          "languageId": "plaintext"
        },
        "id": "a028b5d0"
      },
      "outputs": [],
      "source": [
        "# Create logistic regression model\n",
        "model = LogisticRegression(max_iter=5000)"
      ]
    },
    {
      "cell_type": "code",
      "execution_count": 10,
      "id": "cca6f470",
      "metadata": {
        "vscode": {
          "languageId": "plaintext"
        },
        "colab": {
          "base_uri": "https://localhost:8080/"
        },
        "id": "cca6f470",
        "outputId": "52133df9-8212-4702-baa3-a515933caa36"
      },
      "outputs": [
        {
          "output_type": "stream",
          "name": "stdout",
          "text": [
            "Forward Selection Chosen Features: [0, 1, 2, 21, 22]\n"
          ]
        }
      ],
      "source": [
        "# Forward Selection: add features one by one that improve model performance\n",
        "sfs_forward = SequentialFeatureSelector(\n",
        "    model, n_features_to_select=5, direction='forward'\n",
        ")\n",
        "sfs_forward.fit(X_train, y_train)\n",
        "\n",
        "selected_features = X.columns[sfs_forward.get_support()]\n",
        "print(\"Forward Selection Chosen Features:\", list(selected_features))"
      ]
    },
    {
      "cell_type": "code",
      "execution_count": 11,
      "id": "a2946ba1",
      "metadata": {
        "vscode": {
          "languageId": "plaintext"
        },
        "colab": {
          "base_uri": "https://localhost:8080/"
        },
        "id": "a2946ba1",
        "outputId": "d10db0aa-183d-4327-9488-25045e0e46f4"
      },
      "outputs": [
        {
          "output_type": "stream",
          "name": "stdout",
          "text": [
            "Accuracy with Forward Selection (5 features): 0.9371\n"
          ]
        }
      ],
      "source": [
        "# Train model with selected features and evaluate\n",
        "model.fit(X_train[selected_features], y_train)\n",
        "y_pred = model.predict(X_test[selected_features])\n",
        "acc = accuracy_score(y_test, y_pred)\n",
        "\n",
        "print(f\"Accuracy with Forward Selection (5 features): {acc:.4f}\")\n"
      ]
    },
    {
      "cell_type": "markdown",
      "id": "30345432",
      "metadata": {
        "id": "30345432"
      },
      "source": [
        "## Analysis:\n",
        "- Forward selection generally starts from an empty set and adds features that best improve\n",
        "- model performance incrementally. This can help identify a small subset of highly predictive features.\n",
        "- You may observe slightly improved or comparable accuracy to using all features with fewer variables,indicating a good feature subset."
      ]
    },
    {
      "cell_type": "markdown",
      "id": "14535568",
      "metadata": {
        "id": "14535568"
      },
      "source": [
        "**bold text**## 1. Automated Feature‐Count Tuning\n",
        "#### Adapt your script to automatically select the optimal n_features_to_select from a range (e.g., 1–30) by choosing the value that maximizes test accuracy.\n",
        "\n",
        "- Loop over possible feature counts.\n",
        "\n",
        "- Record test accuracy for each.\n",
        "\n",
        "- Print the best feature count and its accuracy.\n",
        "\n"
      ]
    },
    {
      "cell_type": "code",
      "execution_count": 12,
      "id": "99eb3fb4",
      "metadata": {
        "vscode": {
          "languageId": "plaintext"
        },
        "colab": {
          "base_uri": "https://localhost:8080/"
        },
        "id": "99eb3fb4",
        "outputId": "4ccb494a-6665-4d25-b67b-f407957e0c4c"
      },
      "outputs": [
        {
          "output_type": "stream",
          "name": "stdout",
          "text": [
            "Optimal k: 2 features → Accuracy: 0.9441\n"
          ]
        }
      ],
      "source": [
        "best_k, best_acc = None, 0\n",
        "for k in range(1, 5):\n",
        "    sfs = SequentialFeatureSelector(\n",
        "        model, n_features_to_select=k, direction='forward'\n",
        "    ).fit(X_train, y_train)\n",
        "    feats = X_train.columns[sfs.get_support()]\n",
        "    model.fit(X_train[feats], y_train)\n",
        "    acc = accuracy_score(y_test, model.predict(X_test[feats]))\n",
        "    if acc > best_acc:\n",
        "        best_acc, best_k = acc, k\n",
        "\n",
        "print(f\"Optimal k: {best_k} features → Accuracy: {best_acc:.4f}\")\n"
      ]
    },
    {
      "cell_type": "markdown",
      "id": "b415b16f",
      "metadata": {
        "id": "b415b16f"
      },
      "source": [
        "## 2. Stratified K-Fold Integration\n",
        "#### Replace the single train/test split with Stratified K-Fold during feature selection:\n",
        "\n",
        "- Use StratifiedKFold(n_splits=5) within SequentialFeatureSelector.\n",
        "\n",
        "- Report mean and standard deviation of accuracy across folds for your final feature set."
      ]
    },
    {
      "cell_type": "code",
      "execution_count": 13,
      "id": "9d124334",
      "metadata": {
        "vscode": {
          "languageId": "plaintext"
        },
        "id": "9d124334",
        "outputId": "33fdfe77-18c6-489e-c870-5c802a70c3dc",
        "colab": {
          "base_uri": "https://localhost:8080/"
        }
      },
      "outputs": [
        {
          "output_type": "stream",
          "name": "stdout",
          "text": [
            "Selected: [3, 4, 20, 21, 26]\n",
            "CV Accuracy: 0.9543 ± 0.0195\n"
          ]
        }
      ],
      "source": [
        "from sklearn.model_selection import StratifiedKFold, cross_val_score\n",
        "\n",
        "kf = StratifiedKFold(n_splits=5, shuffle=True, random_state=42)\n",
        "sfs = SequentialFeatureSelector(\n",
        "    model,\n",
        "    n_features_to_select=5,\n",
        "    direction='forward',\n",
        "    cv=kf,\n",
        "    scoring='accuracy'\n",
        ").fit(X, y)\n",
        "\n",
        "feats = X.columns[sfs.get_support()]\n",
        "scores = cross_val_score(model.fit(X[feats], y), X[feats], y, cv=kf)\n",
        "print(f\"Selected: {list(feats)}\")\n",
        "print(f\"CV Accuracy: {scores.mean():.4f} ± {scores.std():.4f}\")\n"
      ]
    },
    {
      "cell_type": "markdown",
      "id": "83f80ea5",
      "metadata": {
        "id": "83f80ea5"
      },
      "source": [
        "## 3. Custom Scoring Function\n",
        "#### Experiment with a different scoring metric in forward selection (e.g., F1-score or balanced accuracy) to handle class imbalance:\n",
        "\n",
        "- Pass scoring='f1' or scoring='balanced_accuracy' to SequentialFeatureSelector.\n",
        "\n",
        "- Compare the selected feature lists and test performance under each metric."
      ]
    },
    {
      "cell_type": "code",
      "execution_count": 14,
      "id": "33d11240",
      "metadata": {
        "vscode": {
          "languageId": "plaintext"
        },
        "colab": {
          "base_uri": "https://localhost:8080/"
        },
        "id": "33d11240",
        "outputId": "1764cb03-4d5d-41c5-c432-2109858487dc"
      },
      "outputs": [
        {
          "output_type": "stream",
          "name": "stdout",
          "text": [
            "F1-based features: [0, 1, 2, 21, 22]\n",
            "Test F1: 0.9361702127659575\n"
          ]
        }
      ],
      "source": [
        "# F1-score based forward selection\n",
        "sfs_f1 = SequentialFeatureSelector(\n",
        "    model, n_features_to_select=5,\n",
        "    direction='forward',\n",
        "    scoring='f1'\n",
        ").fit(X_train, y_train)\n",
        "\n",
        "feats_f1 = X_train.columns[sfs_f1.get_support()]\n",
        "model.fit(X_train[feats_f1], y_train)\n",
        "print(\"F1-based features:\", list(feats_f1))\n",
        "print(\"Test F1:\", precision_score(y_test, model.predict(X_test[feats_f1]), average='binary'))\n"
      ]
    },
    {
      "cell_type": "markdown",
      "id": "ccfd4cec",
      "metadata": {
        "id": "ccfd4cec"
      },
      "source": [
        "## 4. Application to a New Dataset\n",
        "#### Apply your forward‐selection pipeline unchanged to a different classification dataset (e.g., the Iris or Wine dataset):\n",
        "\n",
        "- Load a new dataset from sklearn.datasets.\n",
        "\n",
        "- Compare which features are selected and the resulting model accuracy.\n",
        "\n",
        "- Each exercise reuses your original code structure and deepens your grasp of forward wrapper selection through tuning, validation, stability, and computational considerations."
      ]
    },
    {
      "cell_type": "code",
      "execution_count": 18,
      "id": "aa8777be",
      "metadata": {
        "vscode": {
          "languageId": "plaintext"
        },
        "colab": {
          "base_uri": "https://localhost:8080/"
        },
        "id": "aa8777be",
        "outputId": "a0c2ef57-4c78-4b95-b0f2-86fe7ef172dc"
      },
      "outputs": [
        {
          "output_type": "stream",
          "name": "stdout",
          "text": [
            "Iris selected features: ['sepal length (cm)', 'sepal width (cm)', 'petal width (cm)']\n",
            "Iris accuracy: 0.9211\n"
          ]
        }
      ],
      "source": [
        "from sklearn.datasets import load_iris\n",
        "\n",
        "X2, y2 = load_iris(return_X_y=True, as_frame=True)\n",
        "model = LogisticRegression(max_iter=5000)\n",
        "X2_train, X2_test, y2_train, y2_test = train_test_split(X2, y2, random_state=20)\n",
        "\n",
        "sfs_iris = SequentialFeatureSelector(\n",
        "    model, n_features_to_select=3, direction='forward'\n",
        ").fit(X2_train, y2_train)\n",
        "\n",
        "feats_iris = X2.columns[sfs_iris.get_support()]\n",
        "model.fit(X2_train[feats_iris], y2_train)\n",
        "acc2 = accuracy_score(y2_test, model.predict(X2_test[feats_iris]))\n",
        "print(\"Iris selected features:\", list(feats_iris))\n",
        "print(f\"Iris accuracy: {acc2:.4f}\")\n"
      ]
    }
  ],
  "metadata": {
    "language_info": {
      "name": "python"
    },
    "colab": {
      "provenance": [],
      "gpuType": "T4"
    },
    "accelerator": "GPU",
    "kernelspec": {
      "name": "python3",
      "display_name": "Python 3"
    }
  },
  "nbformat": 4,
  "nbformat_minor": 5
}