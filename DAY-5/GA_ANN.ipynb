{
  "nbformat": 4,
  "nbformat_minor": 0,
  "metadata": {
    "colab": {
      "provenance": []
    },
    "kernelspec": {
      "name": "python3",
      "display_name": "Python 3"
    },
    "language_info": {
      "name": "python"
    }
  },
  "cells": [
    {
      "cell_type": "code",
      "execution_count": 1,
      "metadata": {
        "id": "i10gHdqqmyqr"
      },
      "outputs": [],
      "source": [
        "import numpy as np\n",
        "import random"
      ]
    },
    {
      "cell_type": "code",
      "source": [
        "# Step 2: GA Functions\n",
        "def create_individual(length):\n",
        "    # Random binary individual\n",
        "    return np.random.randint(2, size=length)\n",
        "\n",
        "def fitness(individual):\n",
        "    # Objective: maximize number of 1s\n",
        "    return sum(individual)\n",
        "\n",
        "def mutate(individual, mutation_rate=0.01):\n",
        "    for i in range(len(individual)):\n",
        "        if random.random() < mutation_rate:\n",
        "            individual[i] = 1 - individual[i]\n",
        "    return individual\n",
        "\n",
        "def crossover(parent1, parent2):\n",
        "    point = random.randint(1, len(parent1)-1)\n",
        "    child1 = np.concatenate([parent1[:point], parent2[point:]])\n",
        "    child2 = np.concatenate([parent2[:point], parent1[point:]])\n",
        "    return child1, child2"
      ],
      "metadata": {
        "id": "6z0RdcU6nOVq"
      },
      "execution_count": 2,
      "outputs": []
    },
    {
      "cell_type": "code",
      "source": [
        "def genetic_algorithm(population_size=10, chromosome_length=8, generations=20, mutation_rate=0.01):\n",
        "    print(\"hellow\")\n",
        "    population = [create_individual(chromosome_length) for _ in range(population_size)]\n",
        "\n",
        "    for g in range(generations):\n",
        "        scored = sorted(\n",
        "            [(fitness(ind), ind) for ind in population],\n",
        "            key=lambda pair: pair[0],\n",
        "            reverse=True\n",
        "        )\n",
        "        print(f\"Gen {g} | Best: {scored[0][0]} | Avg: {np.mean([f for f,_ in scored])}\")\n",
        "\n",
        "        next_gen = [scored[0][1], scored[1][1]]  # Elite selection\n",
        "\n",
        "        while len(next_gen) < population_size:\n",
        "            parents = random.sample(scored[:5], 2)\n",
        "            c1, c2 = crossover(parents[0][1], parents[1][1])\n",
        "            next_gen.append(mutate(c1.copy(), mutation_rate))\n",
        "            if len(next_gen) < population_size:\n",
        "                next_gen.append(mutate(c2.copy(), mutation_rate))\n",
        "\n",
        "        population = next_gen\n",
        "\n",
        "    print(\"Best individual:\", scored[0][1], \"with fitness:\", scored[0][0])\n",
        "genetic_algorithm()"
      ],
      "metadata": {
        "colab": {
          "base_uri": "https://localhost:8080/"
        },
        "id": "Df5Qbn0dnRKq",
        "outputId": "7bb4f030-8530-4dfa-fdb7-07836e668c6d"
      },
      "execution_count": 3,
      "outputs": [
        {
          "output_type": "stream",
          "name": "stdout",
          "text": [
            "hellow\n",
            "Gen 0 | Best: 7 | Avg: 3.9\n",
            "Gen 1 | Best: 7 | Avg: 5.5\n",
            "Gen 2 | Best: 8 | Avg: 6.8\n",
            "Gen 3 | Best: 8 | Avg: 7.1\n",
            "Gen 4 | Best: 8 | Avg: 7.5\n",
            "Gen 5 | Best: 8 | Avg: 8.0\n",
            "Gen 6 | Best: 8 | Avg: 8.0\n",
            "Gen 7 | Best: 8 | Avg: 8.0\n",
            "Gen 8 | Best: 8 | Avg: 7.8\n",
            "Gen 9 | Best: 8 | Avg: 7.8\n",
            "Gen 10 | Best: 8 | Avg: 7.9\n",
            "Gen 11 | Best: 8 | Avg: 8.0\n",
            "Gen 12 | Best: 8 | Avg: 7.9\n",
            "Gen 13 | Best: 8 | Avg: 8.0\n",
            "Gen 14 | Best: 8 | Avg: 7.9\n",
            "Gen 15 | Best: 8 | Avg: 8.0\n",
            "Gen 16 | Best: 8 | Avg: 8.0\n",
            "Gen 17 | Best: 8 | Avg: 8.0\n",
            "Gen 18 | Best: 8 | Avg: 7.9\n",
            "Gen 19 | Best: 8 | Avg: 8.0\n",
            "Best individual: [1 1 1 1 1 1 1 1] with fitness: 8\n"
          ]
        }
      ]
    },
    {
      "cell_type": "code",
      "source": [
        "import numpy as np\n",
        "import pandas as pd\n",
        "from sklearn.datasets import load_iris\n",
        "from sklearn.model_selection import train_test_split\n",
        "from sklearn.preprocessing import StandardScaler\n",
        "import tensorflow as tf\n",
        "from tensorflow import keras"
      ],
      "metadata": {
        "id": "3JViYzIAnZEa"
      },
      "execution_count": 4,
      "outputs": []
    },
    {
      "cell_type": "code",
      "source": [
        "def genetic_algorithm(population_size=10, chromosome_length=8, generations=20, mutation_rate=0.01):\n",
        "    print(\"hellow\")\n",
        "    population = [create_individual(chromosome_length) for _ in range(population_size)]\n",
        "\n",
        "    for g in range(generations):\n",
        "        scored = sorted(\n",
        "            [(fitness(ind), ind) for ind in population],\n",
        "            key=lambda pair: pair[0],\n",
        "            reverse=True\n",
        "        )\n",
        "        print(f\"Gen {g} | Best: {scored[0][0]} | Avg: {np.mean([f for f,_ in scored])}\")\n",
        "\n",
        "        next_gen = [scored[0][1], scored[1][1]]  # Elite selection\n",
        "\n",
        "        while len(next_gen) < population_size:\n",
        "            parents = random.sample(scored[:5], 2)\n",
        "            c1, c2 = crossover(parents[0][1], parents[1][1])\n",
        "            next_gen.append(mutate(c1.copy(), mutation_rate))\n",
        "            if len(next_gen) < population_size:\n",
        "                next_gen.append(mutate(c2.copy(), mutation_rate))\n",
        "\n",
        "        population = next_gen\n",
        "\n",
        "    print(\"Best individual:\", scored[0][1], \"with fitness:\", scored[0][0])\n",
        "genetic_algorithm()"
      ],
      "metadata": {
        "colab": {
          "base_uri": "https://localhost:8080/"
        },
        "id": "MKUjTnQ5nctN",
        "outputId": "0710a355-6c48-451e-9728-ec561a41d029"
      },
      "execution_count": 5,
      "outputs": [
        {
          "output_type": "stream",
          "name": "stdout",
          "text": [
            "hellow\n",
            "Gen 0 | Best: 7 | Avg: 4.2\n",
            "Gen 1 | Best: 7 | Avg: 5.2\n",
            "Gen 2 | Best: 7 | Avg: 5.8\n",
            "Gen 3 | Best: 7 | Avg: 6.8\n",
            "Gen 4 | Best: 7 | Avg: 7.0\n",
            "Gen 5 | Best: 7 | Avg: 7.0\n",
            "Gen 6 | Best: 7 | Avg: 7.0\n",
            "Gen 7 | Best: 7 | Avg: 7.0\n",
            "Gen 8 | Best: 7 | Avg: 6.9\n",
            "Gen 9 | Best: 7 | Avg: 7.0\n",
            "Gen 10 | Best: 7 | Avg: 6.9\n",
            "Gen 11 | Best: 7 | Avg: 7.0\n",
            "Gen 12 | Best: 7 | Avg: 7.0\n",
            "Gen 13 | Best: 7 | Avg: 6.9\n",
            "Gen 14 | Best: 7 | Avg: 6.8\n",
            "Gen 15 | Best: 7 | Avg: 6.8\n",
            "Gen 16 | Best: 7 | Avg: 6.9\n",
            "Gen 17 | Best: 7 | Avg: 7.0\n",
            "Gen 18 | Best: 7 | Avg: 6.9\n",
            "Gen 19 | Best: 8 | Avg: 7.1\n",
            "Best individual: [1 1 1 1 1 1 1 1] with fitness: 8\n"
          ]
        }
      ]
    },
    {
      "cell_type": "code",
      "source": [
        "# Step 1: Imports\n",
        "import numpy as np\n",
        "import pandas as pd\n",
        "from sklearn.datasets import load_iris\n",
        "from sklearn.model_selection import train_test_split\n",
        "from sklearn.preprocessing import StandardScaler\n",
        "import tensorflow as tf\n",
        "from tensorflow import keras"
      ],
      "metadata": {
        "id": "kso2kXbwnome"
      },
      "execution_count": 6,
      "outputs": []
    },
    {
      "cell_type": "code",
      "source": [
        "iris = load_iris()\n",
        "X = iris.data\n",
        "y = iris.target\n",
        "\n",
        "scaler = StandardScaler()\n",
        "X_scaled = scaler.fit_transform(X)\n",
        "\n",
        "X_train, X_test, y_train, y_test = train_test_split(X_scaled, y, test_size=0.25, random_state=42)"
      ],
      "metadata": {
        "id": "smk-lXIDn0pn"
      },
      "execution_count": 7,
      "outputs": []
    },
    {
      "cell_type": "code",
      "source": [
        "model = keras.Sequential([\n",
        "    keras.layers.Dense(8, activation='relu', input_shape=(4,)),\n",
        "    keras.layers.Dense(6, activation='relu'),\n",
        "    keras.layers.Dense(3, activation='softmax') # 3 classes\n",
        "])\n",
        "\n",
        "model.compile(optimizer='adam',\n",
        "              loss='sparse_categorical_crossentropy',\n",
        "              metrics=['accuracy'])\n",
        "\n",
        "history = model.fit(X_train, y_train, epochs=50, validation_data=(X_test, y_test))"
      ],
      "metadata": {
        "colab": {
          "base_uri": "https://localhost:8080/"
        },
        "id": "G0bRhUlzn2fj",
        "outputId": "c33bcfaa-8a22-41d2-ae5d-f72620dfea1d"
      },
      "execution_count": 8,
      "outputs": [
        {
          "output_type": "stream",
          "name": "stderr",
          "text": [
            "/usr/local/lib/python3.11/dist-packages/keras/src/layers/core/dense.py:87: UserWarning: Do not pass an `input_shape`/`input_dim` argument to a layer. When using Sequential models, prefer using an `Input(shape)` object as the first layer in the model instead.\n",
            "  super().__init__(activity_regularizer=activity_regularizer, **kwargs)\n"
          ]
        },
        {
          "output_type": "stream",
          "name": "stdout",
          "text": [
            "Epoch 1/50\n",
            "\u001b[1m4/4\u001b[0m \u001b[32m━━━━━━━━━━━━━━━━━━━━\u001b[0m\u001b[37m\u001b[0m \u001b[1m4s\u001b[0m 273ms/step - accuracy: 0.2751 - loss: 1.2331 - val_accuracy: 0.2368 - val_loss: 1.2437\n",
            "Epoch 2/50\n",
            "\u001b[1m4/4\u001b[0m \u001b[32m━━━━━━━━━━━━━━━━━━━━\u001b[0m\u001b[37m\u001b[0m \u001b[1m1s\u001b[0m 132ms/step - accuracy: 0.3469 - loss: 1.1860 - val_accuracy: 0.2632 - val_loss: 1.2161\n",
            "Epoch 3/50\n",
            "\u001b[1m4/4\u001b[0m \u001b[32m━━━━━━━━━━━━━━━━━━━━\u001b[0m\u001b[37m\u001b[0m \u001b[1m1s\u001b[0m 193ms/step - accuracy: 0.3219 - loss: 1.1786 - val_accuracy: 0.2895 - val_loss: 1.1894\n",
            "Epoch 4/50\n",
            "\u001b[1m4/4\u001b[0m \u001b[32m━━━━━━━━━━━━━━━━━━━━\u001b[0m\u001b[37m\u001b[0m \u001b[1m0s\u001b[0m 119ms/step - accuracy: 0.3244 - loss: 1.1617 - val_accuracy: 0.2895 - val_loss: 1.1632\n",
            "Epoch 5/50\n",
            "\u001b[1m4/4\u001b[0m \u001b[32m━━━━━━━━━━━━━━━━━━━━\u001b[0m\u001b[37m\u001b[0m \u001b[1m0s\u001b[0m 80ms/step - accuracy: 0.3668 - loss: 1.1484 - val_accuracy: 0.2895 - val_loss: 1.1376\n",
            "Epoch 6/50\n",
            "\u001b[1m4/4\u001b[0m \u001b[32m━━━━━━━━━━━━━━━━━━━━\u001b[0m\u001b[37m\u001b[0m \u001b[1m0s\u001b[0m 84ms/step - accuracy: 0.3443 - loss: 1.1135 - val_accuracy: 0.3421 - val_loss: 1.1132\n",
            "Epoch 7/50\n",
            "\u001b[1m4/4\u001b[0m \u001b[32m━━━━━━━━━━━━━━━━━━━━\u001b[0m\u001b[37m\u001b[0m \u001b[1m1s\u001b[0m 57ms/step - accuracy: 0.4006 - loss: 1.0700 - val_accuracy: 0.3684 - val_loss: 1.0898\n",
            "Epoch 8/50\n",
            "\u001b[1m4/4\u001b[0m \u001b[32m━━━━━━━━━━━━━━━━━━━━\u001b[0m\u001b[37m\u001b[0m \u001b[1m0s\u001b[0m 56ms/step - accuracy: 0.3682 - loss: 1.0889 - val_accuracy: 0.3684 - val_loss: 1.0667\n",
            "Epoch 9/50\n",
            "\u001b[1m4/4\u001b[0m \u001b[32m━━━━━━━━━━━━━━━━━━━━\u001b[0m\u001b[37m\u001b[0m \u001b[1m0s\u001b[0m 50ms/step - accuracy: 0.3997 - loss: 1.0687 - val_accuracy: 0.4474 - val_loss: 1.0450\n",
            "Epoch 10/50\n",
            "\u001b[1m4/4\u001b[0m \u001b[32m━━━━━━━━━━━━━━━━━━━━\u001b[0m\u001b[37m\u001b[0m \u001b[1m0s\u001b[0m 60ms/step - accuracy: 0.4668 - loss: 1.0477 - val_accuracy: 0.4737 - val_loss: 1.0245\n",
            "Epoch 11/50\n",
            "\u001b[1m4/4\u001b[0m \u001b[32m━━━━━━━━━━━━━━━━━━━━\u001b[0m\u001b[37m\u001b[0m \u001b[1m0s\u001b[0m 48ms/step - accuracy: 0.5269 - loss: 1.0146 - val_accuracy: 0.5000 - val_loss: 1.0052\n",
            "Epoch 12/50\n",
            "\u001b[1m4/4\u001b[0m \u001b[32m━━━━━━━━━━━━━━━━━━━━\u001b[0m\u001b[37m\u001b[0m \u001b[1m0s\u001b[0m 59ms/step - accuracy: 0.5443 - loss: 1.0030 - val_accuracy: 0.6053 - val_loss: 0.9867\n",
            "Epoch 13/50\n",
            "\u001b[1m4/4\u001b[0m \u001b[32m━━━━━━━━━━━━━━━━━━━━\u001b[0m\u001b[37m\u001b[0m \u001b[1m0s\u001b[0m 53ms/step - accuracy: 0.5784 - loss: 0.9873 - val_accuracy: 0.6579 - val_loss: 0.9688\n",
            "Epoch 14/50\n",
            "\u001b[1m4/4\u001b[0m \u001b[32m━━━━━━━━━━━━━━━━━━━━\u001b[0m\u001b[37m\u001b[0m \u001b[1m0s\u001b[0m 77ms/step - accuracy: 0.6368 - loss: 0.9812 - val_accuracy: 0.7105 - val_loss: 0.9516\n",
            "Epoch 15/50\n",
            "\u001b[1m4/4\u001b[0m \u001b[32m━━━━━━━━━━━━━━━━━━━━\u001b[0m\u001b[37m\u001b[0m \u001b[1m0s\u001b[0m 26ms/step - accuracy: 0.6958 - loss: 0.9519 - val_accuracy: 0.7368 - val_loss: 0.9346\n",
            "Epoch 16/50\n",
            "\u001b[1m4/4\u001b[0m \u001b[32m━━━━━━━━━━━━━━━━━━━━\u001b[0m\u001b[37m\u001b[0m \u001b[1m0s\u001b[0m 26ms/step - accuracy: 0.6909 - loss: 0.9467 - val_accuracy: 0.7368 - val_loss: 0.9169\n",
            "Epoch 17/50\n",
            "\u001b[1m4/4\u001b[0m \u001b[32m━━━━━━━━━━━━━━━━━━━━\u001b[0m\u001b[37m\u001b[0m \u001b[1m0s\u001b[0m 26ms/step - accuracy: 0.7507 - loss: 0.9030 - val_accuracy: 0.7368 - val_loss: 0.8989\n",
            "Epoch 18/50\n",
            "\u001b[1m4/4\u001b[0m \u001b[32m━━━━━━━━━━━━━━━━━━━━\u001b[0m\u001b[37m\u001b[0m \u001b[1m0s\u001b[0m 30ms/step - accuracy: 0.7018 - loss: 0.8946 - val_accuracy: 0.7368 - val_loss: 0.8802\n",
            "Epoch 19/50\n",
            "\u001b[1m4/4\u001b[0m \u001b[32m━━━━━━━━━━━━━━━━━━━━\u001b[0m\u001b[37m\u001b[0m \u001b[1m0s\u001b[0m 27ms/step - accuracy: 0.7827 - loss: 0.8692 - val_accuracy: 0.7368 - val_loss: 0.8615\n",
            "Epoch 20/50\n",
            "\u001b[1m4/4\u001b[0m \u001b[32m━━━━━━━━━━━━━━━━━━━━\u001b[0m\u001b[37m\u001b[0m \u001b[1m0s\u001b[0m 26ms/step - accuracy: 0.7863 - loss: 0.8593 - val_accuracy: 0.7895 - val_loss: 0.8430\n",
            "Epoch 21/50\n",
            "\u001b[1m4/4\u001b[0m \u001b[32m━━━━━━━━━━━━━━━━━━━━\u001b[0m\u001b[37m\u001b[0m \u001b[1m0s\u001b[0m 27ms/step - accuracy: 0.7799 - loss: 0.8689 - val_accuracy: 0.7895 - val_loss: 0.8252\n",
            "Epoch 22/50\n",
            "\u001b[1m4/4\u001b[0m \u001b[32m━━━━━━━━━━━━━━━━━━━━\u001b[0m\u001b[37m\u001b[0m \u001b[1m0s\u001b[0m 25ms/step - accuracy: 0.7850 - loss: 0.8372 - val_accuracy: 0.7895 - val_loss: 0.8079\n",
            "Epoch 23/50\n",
            "\u001b[1m4/4\u001b[0m \u001b[32m━━━━━━━━━━━━━━━━━━━━\u001b[0m\u001b[37m\u001b[0m \u001b[1m0s\u001b[0m 25ms/step - accuracy: 0.8292 - loss: 0.8019 - val_accuracy: 0.7895 - val_loss: 0.7907\n",
            "Epoch 24/50\n",
            "\u001b[1m4/4\u001b[0m \u001b[32m━━━━━━━━━━━━━━━━━━━━\u001b[0m\u001b[37m\u001b[0m \u001b[1m0s\u001b[0m 25ms/step - accuracy: 0.8144 - loss: 0.7978 - val_accuracy: 0.7895 - val_loss: 0.7738\n",
            "Epoch 25/50\n",
            "\u001b[1m4/4\u001b[0m \u001b[32m━━━━━━━━━━━━━━━━━━━━\u001b[0m\u001b[37m\u001b[0m \u001b[1m0s\u001b[0m 26ms/step - accuracy: 0.8165 - loss: 0.7869 - val_accuracy: 0.8158 - val_loss: 0.7571\n",
            "Epoch 26/50\n",
            "\u001b[1m4/4\u001b[0m \u001b[32m━━━━━━━━━━━━━━━━━━━━\u001b[0m\u001b[37m\u001b[0m \u001b[1m0s\u001b[0m 31ms/step - accuracy: 0.8238 - loss: 0.7720 - val_accuracy: 0.8158 - val_loss: 0.7408\n",
            "Epoch 27/50\n",
            "\u001b[1m4/4\u001b[0m \u001b[32m━━━━━━━━━━━━━━━━━━━━\u001b[0m\u001b[37m\u001b[0m \u001b[1m0s\u001b[0m 40ms/step - accuracy: 0.8295 - loss: 0.7574 - val_accuracy: 0.8158 - val_loss: 0.7246\n",
            "Epoch 28/50\n",
            "\u001b[1m4/4\u001b[0m \u001b[32m━━━━━━━━━━━━━━━━━━━━\u001b[0m\u001b[37m\u001b[0m \u001b[1m0s\u001b[0m 26ms/step - accuracy: 0.8659 - loss: 0.7309 - val_accuracy: 0.8158 - val_loss: 0.7092\n",
            "Epoch 29/50\n",
            "\u001b[1m4/4\u001b[0m \u001b[32m━━━━━━━━━━━━━━━━━━━━\u001b[0m\u001b[37m\u001b[0m \u001b[1m0s\u001b[0m 25ms/step - accuracy: 0.8487 - loss: 0.7339 - val_accuracy: 0.8158 - val_loss: 0.6937\n",
            "Epoch 30/50\n",
            "\u001b[1m4/4\u001b[0m \u001b[32m━━━━━━━━━━━━━━━━━━━━\u001b[0m\u001b[37m\u001b[0m \u001b[1m0s\u001b[0m 24ms/step - accuracy: 0.8476 - loss: 0.7230 - val_accuracy: 0.8158 - val_loss: 0.6787\n",
            "Epoch 31/50\n",
            "\u001b[1m4/4\u001b[0m \u001b[32m━━━━━━━━━━━━━━━━━━━━\u001b[0m\u001b[37m\u001b[0m \u001b[1m0s\u001b[0m 38ms/step - accuracy: 0.8622 - loss: 0.6868 - val_accuracy: 0.8421 - val_loss: 0.6639\n",
            "Epoch 32/50\n",
            "\u001b[1m4/4\u001b[0m \u001b[32m━━━━━━━━━━━━━━━━━━━━\u001b[0m\u001b[37m\u001b[0m \u001b[1m0s\u001b[0m 25ms/step - accuracy: 0.8487 - loss: 0.6833 - val_accuracy: 0.8421 - val_loss: 0.6493\n",
            "Epoch 33/50\n",
            "\u001b[1m4/4\u001b[0m \u001b[32m━━━━━━━━━━━━━━━━━━━━\u001b[0m\u001b[37m\u001b[0m \u001b[1m0s\u001b[0m 38ms/step - accuracy: 0.8388 - loss: 0.6745 - val_accuracy: 0.8684 - val_loss: 0.6351\n",
            "Epoch 34/50\n",
            "\u001b[1m4/4\u001b[0m \u001b[32m━━━━━━━━━━━━━━━━━━━━\u001b[0m\u001b[37m\u001b[0m \u001b[1m0s\u001b[0m 26ms/step - accuracy: 0.8597 - loss: 0.6677 - val_accuracy: 0.8684 - val_loss: 0.6211\n",
            "Epoch 35/50\n",
            "\u001b[1m4/4\u001b[0m \u001b[32m━━━━━━━━━━━━━━━━━━━━\u001b[0m\u001b[37m\u001b[0m \u001b[1m0s\u001b[0m 26ms/step - accuracy: 0.8382 - loss: 0.6541 - val_accuracy: 0.8684 - val_loss: 0.6076\n",
            "Epoch 36/50\n",
            "\u001b[1m4/4\u001b[0m \u001b[32m━━━━━━━━━━━━━━━━━━━━\u001b[0m\u001b[37m\u001b[0m \u001b[1m0s\u001b[0m 25ms/step - accuracy: 0.8393 - loss: 0.6433 - val_accuracy: 0.8684 - val_loss: 0.5941\n",
            "Epoch 37/50\n",
            "\u001b[1m4/4\u001b[0m \u001b[32m━━━━━━━━━━━━━━━━━━━━\u001b[0m\u001b[37m\u001b[0m \u001b[1m0s\u001b[0m 28ms/step - accuracy: 0.8637 - loss: 0.6046 - val_accuracy: 0.8947 - val_loss: 0.5809\n",
            "Epoch 38/50\n",
            "\u001b[1m4/4\u001b[0m \u001b[32m━━━━━━━━━━━━━━━━━━━━\u001b[0m\u001b[37m\u001b[0m \u001b[1m0s\u001b[0m 25ms/step - accuracy: 0.8699 - loss: 0.5930 - val_accuracy: 0.8947 - val_loss: 0.5680\n",
            "Epoch 39/50\n",
            "\u001b[1m4/4\u001b[0m \u001b[32m━━━━━━━━━━━━━━━━━━━━\u001b[0m\u001b[37m\u001b[0m \u001b[1m0s\u001b[0m 27ms/step - accuracy: 0.8793 - loss: 0.5929 - val_accuracy: 0.8947 - val_loss: 0.5556\n",
            "Epoch 40/50\n",
            "\u001b[1m4/4\u001b[0m \u001b[32m━━━━━━━━━━━━━━━━━━━━\u001b[0m\u001b[37m\u001b[0m \u001b[1m0s\u001b[0m 25ms/step - accuracy: 0.8606 - loss: 0.5675 - val_accuracy: 0.8947 - val_loss: 0.5434\n",
            "Epoch 41/50\n",
            "\u001b[1m4/4\u001b[0m \u001b[32m━━━━━━━━━━━━━━━━━━━━\u001b[0m\u001b[37m\u001b[0m \u001b[1m0s\u001b[0m 28ms/step - accuracy: 0.8610 - loss: 0.5841 - val_accuracy: 0.8947 - val_loss: 0.5317\n",
            "Epoch 42/50\n",
            "\u001b[1m4/4\u001b[0m \u001b[32m━━━━━━━━━━━━━━━━━━━━\u001b[0m\u001b[37m\u001b[0m \u001b[1m0s\u001b[0m 26ms/step - accuracy: 0.8475 - loss: 0.5796 - val_accuracy: 0.8947 - val_loss: 0.5204\n",
            "Epoch 43/50\n",
            "\u001b[1m4/4\u001b[0m \u001b[32m━━━━━━━━━━━━━━━━━━━━\u001b[0m\u001b[37m\u001b[0m \u001b[1m0s\u001b[0m 25ms/step - accuracy: 0.8781 - loss: 0.5636 - val_accuracy: 0.8947 - val_loss: 0.5093\n",
            "Epoch 44/50\n",
            "\u001b[1m4/4\u001b[0m \u001b[32m━━━━━━━━━━━━━━━━━━━━\u001b[0m\u001b[37m\u001b[0m \u001b[1m0s\u001b[0m 24ms/step - accuracy: 0.8833 - loss: 0.5489 - val_accuracy: 0.8947 - val_loss: 0.4983\n",
            "Epoch 45/50\n",
            "\u001b[1m4/4\u001b[0m \u001b[32m━━━━━━━━━━━━━━━━━━━━\u001b[0m\u001b[37m\u001b[0m \u001b[1m0s\u001b[0m 24ms/step - accuracy: 0.8604 - loss: 0.5292 - val_accuracy: 0.8947 - val_loss: 0.4875\n",
            "Epoch 46/50\n",
            "\u001b[1m4/4\u001b[0m \u001b[32m━━━━━━━━━━━━━━━━━━━━\u001b[0m\u001b[37m\u001b[0m \u001b[1m0s\u001b[0m 25ms/step - accuracy: 0.9031 - loss: 0.4988 - val_accuracy: 0.8947 - val_loss: 0.4769\n",
            "Epoch 47/50\n",
            "\u001b[1m4/4\u001b[0m \u001b[32m━━━━━━━━━━━━━━━━━━━━\u001b[0m\u001b[37m\u001b[0m \u001b[1m0s\u001b[0m 43ms/step - accuracy: 0.8667 - loss: 0.5261 - val_accuracy: 0.8947 - val_loss: 0.4666\n",
            "Epoch 48/50\n",
            "\u001b[1m4/4\u001b[0m \u001b[32m━━━━━━━━━━━━━━━━━━━━\u001b[0m\u001b[37m\u001b[0m \u001b[1m0s\u001b[0m 25ms/step - accuracy: 0.8829 - loss: 0.4997 - val_accuracy: 0.8947 - val_loss: 0.4567\n",
            "Epoch 49/50\n",
            "\u001b[1m4/4\u001b[0m \u001b[32m━━━━━━━━━━━━━━━━━━━━\u001b[0m\u001b[37m\u001b[0m \u001b[1m0s\u001b[0m 26ms/step - accuracy: 0.8725 - loss: 0.4998 - val_accuracy: 0.8947 - val_loss: 0.4469\n",
            "Epoch 50/50\n",
            "\u001b[1m4/4\u001b[0m \u001b[32m━━━━━━━━━━━━━━━━━━━━\u001b[0m\u001b[37m\u001b[0m \u001b[1m0s\u001b[0m 25ms/step - accuracy: 0.8635 - loss: 0.5008 - val_accuracy: 0.8947 - val_loss: 0.4375\n"
          ]
        }
      ]
    },
    {
      "cell_type": "code",
      "source": [
        "# Step 4: Evaluate and Visualize Results\n",
        "test_loss, test_acc = model.evaluate(X_test, y_test)\n",
        "print('\\nTest accuracy:', test_acc)\n",
        "\n",
        "import matplotlib.pyplot as plt\n",
        "plt.plot(history.history['accuracy'], label='Train Acc')\n",
        "plt.plot(history.history['val_accuracy'], label='Val Acc')\n",
        "plt.xlabel('Epoch')\n",
        "plt.ylabel('Accuracy')\n",
        "plt.legend()\n",
        "plt.title('Accuracy Over Epochs')\n",
        "plt.show()"
      ],
      "metadata": {
        "colab": {
          "base_uri": "https://localhost:8080/",
          "height": 524
        },
        "id": "vNa_LY47n4kv",
        "outputId": "c03aacb5-594b-4de4-c72d-527903e4dff5"
      },
      "execution_count": 9,
      "outputs": [
        {
          "output_type": "stream",
          "name": "stdout",
          "text": [
            "\u001b[1m2/2\u001b[0m \u001b[32m━━━━━━━━━━━━━━━━━━━━\u001b[0m\u001b[37m\u001b[0m \u001b[1m0s\u001b[0m 25ms/step - accuracy: 0.9090 - loss: 0.4275\n",
            "\n",
            "Test accuracy: 0.8947368264198303\n"
          ]
        },
        {
          "output_type": "display_data",
          "data": {
            "text/plain": [
              "<Figure size 640x480 with 1 Axes>"
            ],
            "image/png": "[encoded data removed]"
          },
          "metadata": {}
        }
      ]
    },
    {
      "cell_type": "code",
      "source": [
        "from keras.models import Sequential\n",
        "from keras.layers import Dense\n",
        "\n",
        "# Define model with more layers and varied activation\n",
        "model = Sequential([\n",
        "    Dense(16, input_shape=(X_train.shape[1],), activation='relu'),\n",
        "    Dense(8, activation='relu'),\n",
        "    Dense(3, activation='softmax')  # 3 classes for iris\n",
        "])\n",
        "\n",
        "model.compile(optimizer='adam', loss='sparse_categorical_crossentropy', metrics=['accuracy'])\n",
        "\n",
        "# Train the model\n",
        "history = model.fit(X_train, y_train, validation_data=(X_test, y_test), epochs=50)\n"
      ],
      "metadata": {
        "colab": {
          "base_uri": "https://localhost:8080/"
        },
        "id": "i3YwU6Qjn-Qw",
        "outputId": "e5c7c424-7a3c-4e6f-b5b9-95f206ad6e89"
      },
      "execution_count": 10,
      "outputs": [
        {
          "output_type": "stream",
          "name": "stdout",
          "text": [
            "Epoch 1/50\n",
            "\u001b[1m4/4\u001b[0m \u001b[32m━━━━━━━━━━━━━━━━━━━━\u001b[0m\u001b[37m\u001b[0m \u001b[1m2s\u001b[0m 154ms/step - accuracy: 0.0894 - loss: 1.1183 - val_accuracy: 0.0789 - val_loss: 1.1016\n",
            "Epoch 2/50\n",
            "\u001b[1m4/4\u001b[0m \u001b[32m━━━━━━━━━━━━━━━━━━━━\u001b[0m\u001b[37m\u001b[0m \u001b[1m0s\u001b[0m 43ms/step - accuracy: 0.1618 - loss: 1.0983 - val_accuracy: 0.1842 - val_loss: 1.0779\n",
            "Epoch 3/50\n",
            "\u001b[1m4/4\u001b[0m \u001b[32m━━━━━━━━━━━━━━━━━━━━\u001b[0m\u001b[37m\u001b[0m \u001b[1m0s\u001b[0m 38ms/step - accuracy: 0.1740 - loss: 1.0798 - val_accuracy: 0.2895 - val_loss: 1.0546\n",
            "Epoch 4/50\n",
            "\u001b[1m4/4\u001b[0m \u001b[32m━━━━━━━━━━━━━━━━━━━━\u001b[0m\u001b[37m\u001b[0m \u001b[1m0s\u001b[0m 24ms/step - accuracy: 0.2457 - loss: 1.0585 - val_accuracy: 0.4474 - val_loss: 1.0298\n",
            "Epoch 5/50\n",
            "\u001b[1m4/4\u001b[0m \u001b[32m━━━━━━━━━━━━━━━━━━━━\u001b[0m\u001b[37m\u001b[0m \u001b[1m0s\u001b[0m 25ms/step - accuracy: 0.3765 - loss: 1.0385 - val_accuracy: 0.4474 - val_loss: 1.0058\n",
            "Epoch 6/50\n",
            "\u001b[1m4/4\u001b[0m \u001b[32m━━━━━━━━━━━━━━━━━━━━\u001b[0m\u001b[37m\u001b[0m \u001b[1m0s\u001b[0m 25ms/step - accuracy: 0.4045 - loss: 1.0188 - val_accuracy: 0.4474 - val_loss: 0.9808\n",
            "Epoch 7/50\n",
            "\u001b[1m4/4\u001b[0m \u001b[32m━━━━━━━━━━━━━━━━━━━━\u001b[0m\u001b[37m\u001b[0m \u001b[1m0s\u001b[0m 24ms/step - accuracy: 0.4131 - loss: 1.0150 - val_accuracy: 0.4474 - val_loss: 0.9521\n",
            "Epoch 8/50\n",
            "\u001b[1m4/4\u001b[0m \u001b[32m━━━━━━━━━━━━━━━━━━━━\u001b[0m\u001b[37m\u001b[0m \u001b[1m0s\u001b[0m 26ms/step - accuracy: 0.4555 - loss: 0.9875 - val_accuracy: 0.5263 - val_loss: 0.9223\n",
            "Epoch 9/50\n",
            "\u001b[1m4/4\u001b[0m \u001b[32m━━━━━━━━━━━━━━━━━━━━\u001b[0m\u001b[37m\u001b[0m \u001b[1m0s\u001b[0m 25ms/step - accuracy: 0.4896 - loss: 0.9581 - val_accuracy: 0.6316 - val_loss: 0.8943\n",
            "Epoch 10/50\n",
            "\u001b[1m4/4\u001b[0m \u001b[32m━━━━━━━━━━━━━━━━━━━━\u001b[0m\u001b[37m\u001b[0m \u001b[1m0s\u001b[0m 27ms/step - accuracy: 0.5638 - loss: 0.9228 - val_accuracy: 0.6579 - val_loss: 0.8651\n",
            "Epoch 11/50\n",
            "\u001b[1m4/4\u001b[0m \u001b[32m━━━━━━━━━━━━━━━━━━━━\u001b[0m\u001b[37m\u001b[0m \u001b[1m0s\u001b[0m 24ms/step - accuracy: 0.5516 - loss: 0.9127 - val_accuracy: 0.6579 - val_loss: 0.8378\n",
            "Epoch 12/50\n",
            "\u001b[1m4/4\u001b[0m \u001b[32m━━━━━━━━━━━━━━━━━━━━\u001b[0m\u001b[37m\u001b[0m \u001b[1m0s\u001b[0m 25ms/step - accuracy: 0.5743 - loss: 0.8947 - val_accuracy: 0.6579 - val_loss: 0.8118\n",
            "Epoch 13/50\n",
            "\u001b[1m4/4\u001b[0m \u001b[32m━━━━━━━━━━━━━━━━━━━━\u001b[0m\u001b[37m\u001b[0m \u001b[1m0s\u001b[0m 37ms/step - accuracy: 0.6018 - loss: 0.8601 - val_accuracy: 0.7105 - val_loss: 0.7881\n",
            "Epoch 14/50\n",
            "\u001b[1m4/4\u001b[0m \u001b[32m━━━━━━━━━━━━━━━━━━━━\u001b[0m\u001b[37m\u001b[0m \u001b[1m0s\u001b[0m 24ms/step - accuracy: 0.6024 - loss: 0.8928 - val_accuracy: 0.7105 - val_loss: 0.7677\n",
            "Epoch 15/50\n",
            "\u001b[1m4/4\u001b[0m \u001b[32m━━━━━━━━━━━━━━━━━━━━\u001b[0m\u001b[37m\u001b[0m \u001b[1m0s\u001b[0m 25ms/step - accuracy: 0.6643 - loss: 0.8275 - val_accuracy: 0.7632 - val_loss: 0.7492\n",
            "Epoch 16/50\n",
            "\u001b[1m4/4\u001b[0m \u001b[32m━━━━━━━━━━━━━━━━━━━━\u001b[0m\u001b[37m\u001b[0m \u001b[1m0s\u001b[0m 25ms/step - accuracy: 0.6751 - loss: 0.8356 - val_accuracy: 0.7632 - val_loss: 0.7334\n",
            "Epoch 17/50\n",
            "\u001b[1m4/4\u001b[0m \u001b[32m━━━━━━━━━━━━━━━━━━━━\u001b[0m\u001b[37m\u001b[0m \u001b[1m0s\u001b[0m 24ms/step - accuracy: 0.6702 - loss: 0.8262 - val_accuracy: 0.7632 - val_loss: 0.7195\n",
            "Epoch 18/50\n",
            "\u001b[1m4/4\u001b[0m \u001b[32m━━━━━━━━━━━━━━━━━━━━\u001b[0m\u001b[37m\u001b[0m \u001b[1m0s\u001b[0m 24ms/step - accuracy: 0.7382 - loss: 0.7675 - val_accuracy: 0.7632 - val_loss: 0.7069\n",
            "Epoch 19/50\n",
            "\u001b[1m4/4\u001b[0m \u001b[32m━━━━━━━━━━━━━━━━━━━━\u001b[0m\u001b[37m\u001b[0m \u001b[1m0s\u001b[0m 24ms/step - accuracy: 0.7190 - loss: 0.7744 - val_accuracy: 0.7895 - val_loss: 0.6962\n",
            "Epoch 20/50\n",
            "\u001b[1m4/4\u001b[0m \u001b[32m━━━━━━━━━━━━━━━━━━━━\u001b[0m\u001b[37m\u001b[0m \u001b[1m0s\u001b[0m 38ms/step - accuracy: 0.7054 - loss: 0.7632 - val_accuracy: 0.8158 - val_loss: 0.6863\n",
            "Epoch 21/50\n",
            "\u001b[1m4/4\u001b[0m \u001b[32m━━━━━━━━━━━━━━━━━━━━\u001b[0m\u001b[37m\u001b[0m \u001b[1m0s\u001b[0m 24ms/step - accuracy: 0.7266 - loss: 0.7963 - val_accuracy: 0.8421 - val_loss: 0.6770\n",
            "Epoch 22/50\n",
            "\u001b[1m4/4\u001b[0m \u001b[32m━━━━━━━━━━━━━━━━━━━━\u001b[0m\u001b[37m\u001b[0m \u001b[1m0s\u001b[0m 25ms/step - accuracy: 0.7415 - loss: 0.7470 - val_accuracy: 0.8421 - val_loss: 0.6683\n",
            "Epoch 23/50\n",
            "\u001b[1m4/4\u001b[0m \u001b[32m━━━━━━━━━━━━━━━━━━━━\u001b[0m\u001b[37m\u001b[0m \u001b[1m0s\u001b[0m 24ms/step - accuracy: 0.7860 - loss: 0.7429 - val_accuracy: 0.8684 - val_loss: 0.6600\n",
            "Epoch 24/50\n",
            "\u001b[1m4/4\u001b[0m \u001b[32m━━━━━━━━━━━━━━━━━━━━\u001b[0m\u001b[37m\u001b[0m \u001b[1m0s\u001b[0m 25ms/step - accuracy: 0.8021 - loss: 0.7499 - val_accuracy: 0.8684 - val_loss: 0.6521\n",
            "Epoch 25/50\n",
            "\u001b[1m4/4\u001b[0m \u001b[32m━━━━━━━━━━━━━━━━━━━━\u001b[0m\u001b[37m\u001b[0m \u001b[1m0s\u001b[0m 30ms/step - accuracy: 0.8353 - loss: 0.7302 - val_accuracy: 0.8684 - val_loss: 0.6446\n",
            "Epoch 26/50\n",
            "\u001b[1m4/4\u001b[0m \u001b[32m━━━━━━━━━━━━━━━━━━━━\u001b[0m\u001b[37m\u001b[0m \u001b[1m0s\u001b[0m 26ms/step - accuracy: 0.8503 - loss: 0.7001 - val_accuracy: 0.8684 - val_loss: 0.6373\n",
            "Epoch 27/50\n",
            "\u001b[1m4/4\u001b[0m \u001b[32m━━━━━━━━━━━━━━━━━━━━\u001b[0m\u001b[37m\u001b[0m \u001b[1m0s\u001b[0m 26ms/step - accuracy: 0.8382 - loss: 0.7174 - val_accuracy: 0.8684 - val_loss: 0.6301\n",
            "Epoch 28/50\n",
            "\u001b[1m4/4\u001b[0m \u001b[32m━━━━━━━━━━━━━━━━━━━━\u001b[0m\u001b[37m\u001b[0m \u001b[1m0s\u001b[0m 25ms/step - accuracy: 0.8783 - loss: 0.6745 - val_accuracy: 0.8684 - val_loss: 0.6229\n",
            "Epoch 29/50\n",
            "\u001b[1m4/4\u001b[0m \u001b[32m━━━━━━━━━━━━━━━━━━━━\u001b[0m\u001b[37m\u001b[0m \u001b[1m0s\u001b[0m 28ms/step - accuracy: 0.8449 - loss: 0.6952 - val_accuracy: 0.8684 - val_loss: 0.6157\n",
            "Epoch 30/50\n",
            "\u001b[1m4/4\u001b[0m \u001b[32m━━━━━━━━━━━━━━━━━━━━\u001b[0m\u001b[37m\u001b[0m \u001b[1m0s\u001b[0m 26ms/step - accuracy: 0.8573 - loss: 0.7146 - val_accuracy: 0.8947 - val_loss: 0.6089\n",
            "Epoch 31/50\n",
            "\u001b[1m4/4\u001b[0m \u001b[32m━━━━━━━━━━━━━━━━━━━━\u001b[0m\u001b[37m\u001b[0m \u001b[1m0s\u001b[0m 37ms/step - accuracy: 0.8932 - loss: 0.7077 - val_accuracy: 0.8947 - val_loss: 0.6020\n",
            "Epoch 32/50\n",
            "\u001b[1m4/4\u001b[0m \u001b[32m━━━━━━━━━━━━━━━━━━━━\u001b[0m\u001b[37m\u001b[0m \u001b[1m0s\u001b[0m 27ms/step - accuracy: 0.9024 - loss: 0.6708 - val_accuracy: 0.8947 - val_loss: 0.5948\n",
            "Epoch 33/50\n",
            "\u001b[1m4/4\u001b[0m \u001b[32m━━━━━━━━━━━━━━━━━━━━\u001b[0m\u001b[37m\u001b[0m \u001b[1m0s\u001b[0m 25ms/step - accuracy: 0.9040 - loss: 0.6638 - val_accuracy: 0.8947 - val_loss: 0.5870\n",
            "Epoch 34/50\n",
            "\u001b[1m4/4\u001b[0m \u001b[32m━━━━━━━━━━━━━━━━━━━━\u001b[0m\u001b[37m\u001b[0m \u001b[1m0s\u001b[0m 25ms/step - accuracy: 0.8957 - loss: 0.6707 - val_accuracy: 0.8684 - val_loss: 0.5792\n",
            "Epoch 35/50\n",
            "\u001b[1m4/4\u001b[0m \u001b[32m━━━━━━━━━━━━━━━━━━━━\u001b[0m\u001b[37m\u001b[0m \u001b[1m0s\u001b[0m 25ms/step - accuracy: 0.8926 - loss: 0.6634 - val_accuracy: 0.8684 - val_loss: 0.5711\n",
            "Epoch 36/50\n",
            "\u001b[1m4/4\u001b[0m \u001b[32m━━━━━━━━━━━━━━━━━━━━\u001b[0m\u001b[37m\u001b[0m \u001b[1m0s\u001b[0m 24ms/step - accuracy: 0.8805 - loss: 0.6819 - val_accuracy: 0.8947 - val_loss: 0.5628\n",
            "Epoch 37/50\n",
            "\u001b[1m4/4\u001b[0m \u001b[32m━━━━━━━━━━━━━━━━━━━━\u001b[0m\u001b[37m\u001b[0m \u001b[1m0s\u001b[0m 25ms/step - accuracy: 0.8884 - loss: 0.6303 - val_accuracy: 0.8947 - val_loss: 0.5544\n",
            "Epoch 38/50\n",
            "\u001b[1m4/4\u001b[0m \u001b[32m━━━━━━━━━━━━━━━━━━━━\u001b[0m\u001b[37m\u001b[0m \u001b[1m0s\u001b[0m 25ms/step - accuracy: 0.8894 - loss: 0.6123 - val_accuracy: 0.8947 - val_loss: 0.5460\n",
            "Epoch 39/50\n",
            "\u001b[1m4/4\u001b[0m \u001b[32m━━━━━━━━━━━━━━━━━━━━\u001b[0m\u001b[37m\u001b[0m \u001b[1m0s\u001b[0m 25ms/step - accuracy: 0.8853 - loss: 0.6039 - val_accuracy: 0.9211 - val_loss: 0.5372\n",
            "Epoch 40/50\n",
            "\u001b[1m4/4\u001b[0m \u001b[32m━━━━━━━━━━━━━━━━━━━━\u001b[0m\u001b[37m\u001b[0m \u001b[1m0s\u001b[0m 25ms/step - accuracy: 0.8890 - loss: 0.5941 - val_accuracy: 0.9211 - val_loss: 0.5280\n",
            "Epoch 41/50\n",
            "\u001b[1m4/4\u001b[0m \u001b[32m━━━━━━━━━━━━━━━━━━━━\u001b[0m\u001b[37m\u001b[0m \u001b[1m0s\u001b[0m 28ms/step - accuracy: 0.8854 - loss: 0.6006 - val_accuracy: 0.9211 - val_loss: 0.5186\n",
            "Epoch 42/50\n",
            "\u001b[1m4/4\u001b[0m \u001b[32m━━━━━━━━━━━━━━━━━━━━\u001b[0m\u001b[37m\u001b[0m \u001b[1m0s\u001b[0m 24ms/step - accuracy: 0.8754 - loss: 0.5949 - val_accuracy: 0.9211 - val_loss: 0.5090\n",
            "Epoch 43/50\n",
            "\u001b[1m4/4\u001b[0m \u001b[32m━━━━━━━━━━━━━━━━━━━━\u001b[0m\u001b[37m\u001b[0m \u001b[1m0s\u001b[0m 24ms/step - accuracy: 0.8713 - loss: 0.6152 - val_accuracy: 0.9211 - val_loss: 0.4990\n",
            "Epoch 44/50\n",
            "\u001b[1m4/4\u001b[0m \u001b[32m━━━━━━━━━━━━━━━━━━━━\u001b[0m\u001b[37m\u001b[0m \u001b[1m0s\u001b[0m 25ms/step - accuracy: 0.8911 - loss: 0.5521 - val_accuracy: 0.9211 - val_loss: 0.4888\n",
            "Epoch 45/50\n",
            "\u001b[1m4/4\u001b[0m \u001b[32m━━━━━━━━━━━━━━━━━━━━\u001b[0m\u001b[37m\u001b[0m \u001b[1m0s\u001b[0m 38ms/step - accuracy: 0.8900 - loss: 0.5473 - val_accuracy: 0.9211 - val_loss: 0.4787\n",
            "Epoch 46/50\n",
            "\u001b[1m4/4\u001b[0m \u001b[32m━━━━━━━━━━━━━━━━━━━━\u001b[0m\u001b[37m\u001b[0m \u001b[1m0s\u001b[0m 24ms/step - accuracy: 0.8702 - loss: 0.5383 - val_accuracy: 0.9211 - val_loss: 0.4687\n",
            "Epoch 47/50\n",
            "\u001b[1m4/4\u001b[0m \u001b[32m━━━━━━━━━━━━━━━━━━━━\u001b[0m\u001b[37m\u001b[0m \u001b[1m0s\u001b[0m 27ms/step - accuracy: 0.9009 - loss: 0.5296 - val_accuracy: 0.9211 - val_loss: 0.4585\n",
            "Epoch 48/50\n",
            "\u001b[1m4/4\u001b[0m \u001b[32m━━━━━━━━━━━━━━━━━━━━\u001b[0m\u001b[37m\u001b[0m \u001b[1m0s\u001b[0m 25ms/step - accuracy: 0.8838 - loss: 0.5118 - val_accuracy: 0.8947 - val_loss: 0.4482\n",
            "Epoch 49/50\n",
            "\u001b[1m4/4\u001b[0m \u001b[32m━━━━━━━━━━━━━━━━━━━━\u001b[0m\u001b[37m\u001b[0m \u001b[1m0s\u001b[0m 29ms/step - accuracy: 0.9046 - loss: 0.4976 - val_accuracy: 0.8947 - val_loss: 0.4378\n",
            "Epoch 50/50\n",
            "\u001b[1m4/4\u001b[0m \u001b[32m━━━━━━━━━━━━━━━━━━━━\u001b[0m\u001b[37m\u001b[0m \u001b[1m0s\u001b[0m 39ms/step - accuracy: 0.8963 - loss: 0.4820 - val_accuracy: 0.8947 - val_loss: 0.4276\n"
          ]
        }
      ]
    },
    {
      "cell_type": "code",
      "source": [
        "import matplotlib.pyplot as plt\n",
        "\n",
        "plt.plot(history.history['loss'], label='Training Loss')\n",
        "plt.plot(history.history['val_loss'], label='Validation Loss')\n",
        "plt.xlabel(\"Epoch\")\n",
        "plt.ylabel(\"Loss\")\n",
        "plt.title(\"Loss Curve\")\n",
        "plt.legend()\n",
        "plt.grid(True)\n",
        "plt.show()\n"
      ],
      "metadata": {
        "colab": {
          "base_uri": "https://localhost:8080/",
          "height": 472
        },
        "id": "2L8nH5wtoUGz",
        "outputId": "32a9dcc1-b11c-4fc6-8afe-700746fc3918"
      },
      "execution_count": 11,
      "outputs": [
        {
          "output_type": "display_data",
          "data": {
            "text/plain": [
              "<Figure size 640x480 with 1 Axes>"
            ],
            "image/png": "[encoded data removed]"
          },
          "metadata": {}
        }
      ]
    },
    {
      "cell_type": "code",
      "source": [
        "from sklearn.preprocessing import StandardScaler\n",
        "\n",
        "scaler = StandardScaler()\n",
        "X_train_scaled = scaler.fit_transform(X_train)\n",
        "X_test_scaled = scaler.transform(X_test)\n"
      ],
      "metadata": {
        "id": "KeD4tGBOoW4P"
      },
      "execution_count": 12,
      "outputs": []
    },
    {
      "cell_type": "code",
      "source": [
        "# New iris sample (sepal length, sepal width, petal length, petal width)\n",
        "example = scaler.transform([[5.1, 3.5, 1.4, 0.2]])\n",
        "predicted_class = model.predict(example)\n",
        "print(\"Predicted probabilities:\", predicted_class)\n",
        "print(\"Predicted class:\", predicted_class.argmax())\n"
      ],
      "metadata": {
        "colab": {
          "base_uri": "https://localhost:8080/"
        },
        "id": "mV9aTbtDoZKU",
        "outputId": "9f24c499-dcb8-4bc4-aa9c-b829dfd3f668"
      },
      "execution_count": 13,
      "outputs": [
        {
          "output_type": "stream",
          "name": "stdout",
          "text": [
            "\u001b[1m1/1\u001b[0m \u001b[32m━━━━━━━━━━━━━━━━━━━━\u001b[0m\u001b[37m\u001b[0m \u001b[1m0s\u001b[0m 112ms/step\n",
            "Predicted probabilities: [[0.25584143 0.06460965 0.6795489 ]]\n",
            "Predicted class: 2\n"
          ]
        }
      ]
    },
    {
      "cell_type": "code",
      "source": [
        "from sklearn.datasets import load_iris\n",
        "iris = load_iris()\n",
        "\n",
        "print(\"Predicted Species:\", iris.target_names[predicted_class.argmax()])\n"
      ],
      "metadata": {
        "colab": {
          "base_uri": "https://localhost:8080/"
        },
        "id": "O_OOjPfDoaeB",
        "outputId": "0effc22e-5107-437d-94f2-7598436c04bd"
      },
      "execution_count": 14,
      "outputs": [
        {
          "output_type": "stream",
          "name": "stdout",
          "text": [
            "Predicted Species: virginica\n"
          ]
        }
      ]
    },
    {
      "cell_type": "code",
      "source": [],
      "metadata": {
        "id": "KN9lkt8uoc6h"
      },
      "execution_count": null,
      "outputs": []
    }
  ]
}