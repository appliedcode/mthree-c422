{
  "nbformat": 4,
  "nbformat_minor": 0,
  "metadata": {
    "colab": {
      "provenance": [],
      "authorship_tag": "ABX9TyNjMTCbbXtSYTlfwFIKNWCB",
      "include_colab_link": true
    },
    "kernelspec": {
      "name": "python3",
      "display_name": "Python 3"
    },
    "language_info": {
      "name": "python"
    }
  },
  "cells": [
    {
      "cell_type": "markdown",
      "metadata": {
        "id": "view-in-github",
        "colab_type": "text"
      },
      "source": [
        "<a href=\"https://colab.research.google.com/github/appliedcode/mthree-c422/blob/mthree-422-salleh/Exercises/day-13/AI-Ethics/AI-Ethics-Practice.ipynb\" target=\"_parent\"><img src=\"https://colab.research.google.com/assets/colab-badge.svg\" alt=\"Open In Colab\"/></a>"
      ]
    },
    {
      "cell_type": "markdown",
      "source": [
        "#Problem Set: Data Ethics in Smart City IoT Sensor Data Management"
      ],
      "metadata": {
        "id": "LgKcmTgPfHVh"
      }
    },
    {
      "cell_type": "markdown",
      "source": [
        "Scenario\n",
        "\n",
        "You are part of a Smart City analytics team responsible for collecting and analyzing IoT sensor data to improve urban safety, traffic flow, and environmental monitoring. The city council wants to ensure ethical handling of data — from collection and consent to governance, privacy, and compliance.\n",
        "\n",
        "You will work with a synthetic dataset simulating vehicle tracking sensors, air quality monitors, and some citizen-reported incidents."
      ],
      "metadata": {
        "id": "6yZOQ4sQfNu6"
      }
    },
    {
      "cell_type": "markdown",
      "source": [
        "Dataset Setup"
      ],
      "metadata": {
        "id": "QGp-CiIWfTch"
      }
    },
    {
      "cell_type": "code",
      "execution_count": 1,
      "metadata": {
        "id": "cA0OVRgtbOSC",
        "outputId": "f2ff9675-a298-47c3-f068-bd9cbe80519c",
        "colab": {
          "base_uri": "https://localhost:8080/",
          "height": 206
        }
      },
      "outputs": [
        {
          "output_type": "execute_result",
          "data": {
            "text/plain": [
              "   Device_ID  Owner_Age    District Consent_Type  Vehicle_Count  Avg_Speed  \\\n",
              "0          1         56  Green Zone     implicit            171       21.6   \n",
              "1          2         69    Downtown     explicit              1       71.7   \n",
              "2          3         46  Green Zone     implicit            101       39.9   \n",
              "3          4         32  Industrial     explicit             34       21.4   \n",
              "4          5         60    Downtown     implicit             97       10.9   \n",
              "\n",
              "   Air_Quality_Index  Reported_Incident  \n",
              "0                 48                  0  \n",
              "1                 25                  0  \n",
              "2                 31                  0  \n",
              "3                222                  0  \n",
              "4                158                  0  "
            ],
            "text/html": [
              "\n",
              "  <div id=\"df-7b2b24c1-a35b-4968-a401-7f6c001d7a83\" class=\"colab-df-container\">\n",
              "    <div>\n",
              "<style scoped>\n",
              "    .dataframe tbody tr th:only-of-type {\n",
              "        vertical-align: middle;\n",
              "    }\n",
              "\n",
              "    .dataframe tbody tr th {\n",
              "        vertical-align: top;\n",
              "    }\n",
              "\n",
              "    .dataframe thead th {\n",
              "        text-align: right;\n",
              "    }\n",
              "</style>\n",
              "<table border=\"1\" class=\"dataframe\">\n",
              "  <thead>\n",
              "    <tr style=\"text-align: right;\">\n",
              "      <th></th>\n",
              "      <th>Device_ID</th>\n",
              "      <th>Owner_Age</th>\n",
              "      <th>District</th>\n",
              "      <th>Consent_Type</th>\n",
              "      <th>Vehicle_Count</th>\n",
              "      <th>Avg_Speed</th>\n",
              "      <th>Air_Quality_Index</th>\n",
              "      <th>Reported_Incident</th>\n",
              "    </tr>\n",
              "  </thead>\n",
              "  <tbody>\n",
              "    <tr>\n",
              "      <th>0</th>\n",
              "      <td>1</td>\n",
              "      <td>56</td>\n",
              "      <td>Green Zone</td>\n",
              "      <td>implicit</td>\n",
              "      <td>171</td>\n",
              "      <td>21.6</td>\n",
              "      <td>48</td>\n",
              "      <td>0</td>\n",
              "    </tr>\n",
              "    <tr>\n",
              "      <th>1</th>\n",
              "      <td>2</td>\n",
              "      <td>69</td>\n",
              "      <td>Downtown</td>\n",
              "      <td>explicit</td>\n",
              "      <td>1</td>\n",
              "      <td>71.7</td>\n",
              "      <td>25</td>\n",
              "      <td>0</td>\n",
              "    </tr>\n",
              "    <tr>\n",
              "      <th>2</th>\n",
              "      <td>3</td>\n",
              "      <td>46</td>\n",
              "      <td>Green Zone</td>\n",
              "      <td>implicit</td>\n",
              "      <td>101</td>\n",
              "      <td>39.9</td>\n",
              "      <td>31</td>\n",
              "      <td>0</td>\n",
              "    </tr>\n",
              "    <tr>\n",
              "      <th>3</th>\n",
              "      <td>4</td>\n",
              "      <td>32</td>\n",
              "      <td>Industrial</td>\n",
              "      <td>explicit</td>\n",
              "      <td>34</td>\n",
              "      <td>21.4</td>\n",
              "      <td>222</td>\n",
              "      <td>0</td>\n",
              "    </tr>\n",
              "    <tr>\n",
              "      <th>4</th>\n",
              "      <td>5</td>\n",
              "      <td>60</td>\n",
              "      <td>Downtown</td>\n",
              "      <td>implicit</td>\n",
              "      <td>97</td>\n",
              "      <td>10.9</td>\n",
              "      <td>158</td>\n",
              "      <td>0</td>\n",
              "    </tr>\n",
              "  </tbody>\n",
              "</table>\n",
              "</div>\n",
              "    <div class=\"colab-df-buttons\">\n",
              "\n",
              "  <div class=\"colab-df-container\">\n",
              "    <button class=\"colab-df-convert\" onclick=\"convertToInteractive('df-7b2b24c1-a35b-4968-a401-7f6c001d7a83')\"\n",
              "            title=\"Convert this dataframe to an interactive table.\"\n",
              "            style=\"display:none;\">\n",
              "\n",
              "  <svg xmlns=\"http://www.w3.org/2000/svg\" height=\"24px\" viewBox=\"0 -960 960 960\">\n",
              "    <path d=\"M120-120v-720h720v720H120Zm60-500h600v-160H180v160Zm220 220h160v-160H400v160Zm0 220h160v-160H400v160ZM180-400h160v-160H180v160Zm440 0h160v-160H620v160ZM180-180h160v-160H180v160Zm440 0h160v-160H620v160Z\"/>\n",
              "  </svg>\n",
              "    </button>\n",
              "\n",
              "  <style>\n",
              "    .colab-df-container {\n",
              "      display:flex;\n",
              "      gap: 12px;\n",
              "    }\n",
              "\n",
              "    .colab-df-convert {\n",
              "      background-color: #E8F0FE;\n",
              "      border: none;\n",
              "      border-radius: 50%;\n",
              "      cursor: pointer;\n",
              "      display: none;\n",
              "      fill: #1967D2;\n",
              "      height: 32px;\n",
              "      padding: 0 0 0 0;\n",
              "      width: 32px;\n",
              "    }\n",
              "\n",
              "    .colab-df-convert:hover {\n",
              "      background-color: #E2EBFA;\n",
              "      box-shadow: 0px 1px 2px rgba(60, 64, 67, 0.3), 0px 1px 3px 1px rgba(60, 64, 67, 0.15);\n",
              "      fill: #174EA6;\n",
              "    }\n",
              "\n",
              "    .colab-df-buttons div {\n",
              "      margin-bottom: 4px;\n",
              "    }\n",
              "\n",
              "    [theme=dark] .colab-df-convert {\n",
              "      background-color: #3B4455;\n",
              "      fill: #D2E3FC;\n",
              "    }\n",
              "\n",
              "    [theme=dark] .colab-df-convert:hover {\n",
              "      background-color: #434B5C;\n",
              "      box-shadow: 0px 1px 3px 1px rgba(0, 0, 0, 0.15);\n",
              "      filter: drop-shadow(0px 1px 2px rgba(0, 0, 0, 0.3));\n",
              "      fill: #FFFFFF;\n",
              "    }\n",
              "  </style>\n",
              "\n",
              "    <script>\n",
              "      const buttonEl =\n",
              "        document.querySelector('#df-7b2b24c1-a35b-4968-a401-7f6c001d7a83 button.colab-df-convert');\n",
              "      buttonEl.style.display =\n",
              "        google.colab.kernel.accessAllowed ? 'block' : 'none';\n",
              "\n",
              "      async function convertToInteractive(key) {\n",
              "        const element = document.querySelector('#df-7b2b24c1-a35b-4968-a401-7f6c001d7a83');\n",
              "        const dataTable =\n",
              "          await google.colab.kernel.invokeFunction('convertToInteractive',\n",
              "                                                    [key], {});\n",
              "        if (!dataTable) return;\n",
              "\n",
              "        const docLinkHtml = 'Like what you see? Visit the ' +\n",
              "          '<a target=\"_blank\" href=https://colab.research.google.com/notebooks/data_table.ipynb>data table notebook</a>'\n",
              "          + ' to learn more about interactive tables.';\n",
              "        element.innerHTML = '';\n",
              "        dataTable['output_type'] = 'display_data';\n",
              "        await google.colab.output.renderOutput(dataTable, element);\n",
              "        const docLink = document.createElement('div');\n",
              "        docLink.innerHTML = docLinkHtml;\n",
              "        element.appendChild(docLink);\n",
              "      }\n",
              "    </script>\n",
              "  </div>\n",
              "\n",
              "\n",
              "    <div id=\"df-8d3e1294-5837-4751-8f06-c6c30dec6754\">\n",
              "      <button class=\"colab-df-quickchart\" onclick=\"quickchart('df-8d3e1294-5837-4751-8f06-c6c30dec6754')\"\n",
              "                title=\"Suggest charts\"\n",
              "                style=\"display:none;\">\n",
              "\n",
              "<svg xmlns=\"http://www.w3.org/2000/svg\" height=\"24px\"viewBox=\"0 0 24 24\"\n",
              "     width=\"24px\">\n",
              "    <g>\n",
              "        <path d=\"M19 3H5c-1.1 0-2 .9-2 2v14c0 1.1.9 2 2 2h14c1.1 0 2-.9 2-2V5c0-1.1-.9-2-2-2zM9 17H7v-7h2v7zm4 0h-2V7h2v10zm4 0h-2v-4h2v4z\"/>\n",
              "    </g>\n",
              "</svg>\n",
              "      </button>\n",
              "\n",
              "<style>\n",
              "  .colab-df-quickchart {\n",
              "      --bg-color: #E8F0FE;\n",
              "      --fill-color: #1967D2;\n",
              "      --hover-bg-color: #E2EBFA;\n",
              "      --hover-fill-color: #174EA6;\n",
              "      --disabled-fill-color: #AAA;\n",
              "      --disabled-bg-color: #DDD;\n",
              "  }\n",
              "\n",
              "  [theme=dark] .colab-df-quickchart {\n",
              "      --bg-color: #3B4455;\n",
              "      --fill-color: #D2E3FC;\n",
              "      --hover-bg-color: #434B5C;\n",
              "      --hover-fill-color: #FFFFFF;\n",
              "      --disabled-bg-color: #3B4455;\n",
              "      --disabled-fill-color: #666;\n",
              "  }\n",
              "\n",
              "  .colab-df-quickchart {\n",
              "    background-color: var(--bg-color);\n",
              "    border: none;\n",
              "    border-radius: 50%;\n",
              "    cursor: pointer;\n",
              "    display: none;\n",
              "    fill: var(--fill-color);\n",
              "    height: 32px;\n",
              "    padding: 0;\n",
              "    width: 32px;\n",
              "  }\n",
              "\n",
              "  .colab-df-quickchart:hover {\n",
              "    background-color: var(--hover-bg-color);\n",
              "    box-shadow: 0 1px 2px rgba(60, 64, 67, 0.3), 0 1px 3px 1px rgba(60, 64, 67, 0.15);\n",
              "    fill: var(--button-hover-fill-color);\n",
              "  }\n",
              "\n",
              "  .colab-df-quickchart-complete:disabled,\n",
              "  .colab-df-quickchart-complete:disabled:hover {\n",
              "    background-color: var(--disabled-bg-color);\n",
              "    fill: var(--disabled-fill-color);\n",
              "    box-shadow: none;\n",
              "  }\n",
              "\n",
              "  .colab-df-spinner {\n",
              "    border: 2px solid var(--fill-color);\n",
              "    border-color: transparent;\n",
              "    border-bottom-color: var(--fill-color);\n",
              "    animation:\n",
              "      spin 1s steps(1) infinite;\n",
              "  }\n",
              "\n",
              "  @keyframes spin {\n",
              "    0% {\n",
              "      border-color: transparent;\n",
              "      border-bottom-color: var(--fill-color);\n",
              "      border-left-color: var(--fill-color);\n",
              "    }\n",
              "    20% {\n",
              "      border-color: transparent;\n",
              "      border-left-color: var(--fill-color);\n",
              "      border-top-color: var(--fill-color);\n",
              "    }\n",
              "    30% {\n",
              "      border-color: transparent;\n",
              "      border-left-color: var(--fill-color);\n",
              "      border-top-color: var(--fill-color);\n",
              "      border-right-color: var(--fill-color);\n",
              "    }\n",
              "    40% {\n",
              "      border-color: transparent;\n",
              "      border-right-color: var(--fill-color);\n",
              "      border-top-color: var(--fill-color);\n",
              "    }\n",
              "    60% {\n",
              "      border-color: transparent;\n",
              "      border-right-color: var(--fill-color);\n",
              "    }\n",
              "    80% {\n",
              "      border-color: transparent;\n",
              "      border-right-color: var(--fill-color);\n",
              "      border-bottom-color: var(--fill-color);\n",
              "    }\n",
              "    90% {\n",
              "      border-color: transparent;\n",
              "      border-bottom-color: var(--fill-color);\n",
              "    }\n",
              "  }\n",
              "</style>\n",
              "\n",
              "      <script>\n",
              "        async function quickchart(key) {\n",
              "          const quickchartButtonEl =\n",
              "            document.querySelector('#' + key + ' button');\n",
              "          quickchartButtonEl.disabled = true;  // To prevent multiple clicks.\n",
              "          quickchartButtonEl.classList.add('colab-df-spinner');\n",
              "          try {\n",
              "            const charts = await google.colab.kernel.invokeFunction(\n",
              "                'suggestCharts', [key], {});\n",
              "          } catch (error) {\n",
              "            console.error('Error during call to suggestCharts:', error);\n",
              "          }\n",
              "          quickchartButtonEl.classList.remove('colab-df-spinner');\n",
              "          quickchartButtonEl.classList.add('colab-df-quickchart-complete');\n",
              "        }\n",
              "        (() => {\n",
              "          let quickchartButtonEl =\n",
              "            document.querySelector('#df-8d3e1294-5837-4751-8f06-c6c30dec6754 button');\n",
              "          quickchartButtonEl.style.display =\n",
              "            google.colab.kernel.accessAllowed ? 'block' : 'none';\n",
              "        })();\n",
              "      </script>\n",
              "    </div>\n",
              "\n",
              "    </div>\n",
              "  </div>\n"
            ],
            "application/vnd.google.colaboratory.intrinsic+json": {
              "type": "dataframe",
              "variable_name": "data",
              "summary": "{\n  \"name\": \"data\",\n  \"rows\": 800,\n  \"fields\": [\n    {\n      \"column\": \"Device_ID\",\n      \"properties\": {\n        \"dtype\": \"number\",\n        \"std\": 231,\n        \"min\": 1,\n        \"max\": 800,\n        \"num_unique_values\": 800,\n        \"samples\": [\n          697,\n          668,\n          64\n        ],\n        \"semantic_type\": \"\",\n        \"description\": \"\"\n      }\n    },\n    {\n      \"column\": \"Owner_Age\",\n      \"properties\": {\n        \"dtype\": \"number\",\n        \"std\": 18,\n        \"min\": 18,\n        \"max\": 79,\n        \"num_unique_values\": 62,\n        \"samples\": [\n          51,\n          18,\n          56\n        ],\n        \"semantic_type\": \"\",\n        \"description\": \"\"\n      }\n    },\n    {\n      \"column\": \"District\",\n      \"properties\": {\n        \"dtype\": \"category\",\n        \"num_unique_values\": 4,\n        \"samples\": [\n          \"Downtown\",\n          \"Suburban\",\n          \"Green Zone\"\n        ],\n        \"semantic_type\": \"\",\n        \"description\": \"\"\n      }\n    },\n    {\n      \"column\": \"Consent_Type\",\n      \"properties\": {\n        \"dtype\": \"category\",\n        \"num_unique_values\": 3,\n        \"samples\": [\n          \"implicit\",\n          \"explicit\",\n          \"none\"\n        ],\n        \"semantic_type\": \"\",\n        \"description\": \"\"\n      }\n    },\n    {\n      \"column\": \"Vehicle_Count\",\n      \"properties\": {\n        \"dtype\": \"number\",\n        \"std\": 57,\n        \"min\": 1,\n        \"max\": 199,\n        \"num_unique_values\": 197,\n        \"samples\": [\n          27,\n          39,\n          54\n        ],\n        \"semantic_type\": \"\",\n        \"description\": \"\"\n      }\n    },\n    {\n      \"column\": \"Avg_Speed\",\n      \"properties\": {\n        \"dtype\": \"number\",\n        \"std\": 20.331557620567896,\n        \"min\": 10.0,\n        \"max\": 79.8,\n        \"num_unique_values\": 492,\n        \"samples\": [\n          62.8,\n          55.7,\n          79.6\n        ],\n        \"semantic_type\": \"\",\n        \"description\": \"\"\n      }\n    },\n    {\n      \"column\": \"Air_Quality_Index\",\n      \"properties\": {\n        \"dtype\": \"number\",\n        \"std\": 83,\n        \"min\": 10,\n        \"max\": 299,\n        \"num_unique_values\": 275,\n        \"samples\": [\n          113,\n          115,\n          248\n        ],\n        \"semantic_type\": \"\",\n        \"description\": \"\"\n      }\n    },\n    {\n      \"column\": \"Reported_Incident\",\n      \"properties\": {\n        \"dtype\": \"number\",\n        \"std\": 0,\n        \"min\": 0,\n        \"max\": 1,\n        \"num_unique_values\": 2,\n        \"samples\": [\n          1,\n          0\n        ],\n        \"semantic_type\": \"\",\n        \"description\": \"\"\n      }\n    }\n  ]\n}"
            }
          },
          "metadata": {},
          "execution_count": 1
        }
      ],
      "source": [
        "import pandas as pd\n",
        "import numpy as np\n",
        "\n",
        "np.random.seed(42)\n",
        "n = 800\n",
        "\n",
        "consent_types = [\"explicit\", \"implicit\", \"none\"]\n",
        "districts = [\"Downtown\", \"Suburban\", \"Industrial\", \"Green Zone\"]\n",
        "\n",
        "data = pd.DataFrame({\n",
        "    \"Device_ID\": range(1, n+1),\n",
        "    \"Owner_Age\": np.random.randint(18, 80, n),\n",
        "    \"District\": np.random.choice(districts, n),\n",
        "    \"Consent_Type\": np.random.choice(consent_types, n, p=[0.6, 0.3, 0.1]),\n",
        "    \"Vehicle_Count\": np.random.randint(0, 200, n),\n",
        "    \"Avg_Speed\": np.round(np.random.uniform(10, 80, n), 1),\n",
        "    \"Air_Quality_Index\": np.random.randint(10, 300, n),\n",
        "    \"Reported_Incident\": np.random.choice([0, 1], n, p=[0.85, 0.15])\n",
        "})\n",
        "\n",
        "data.head()"
      ]
    },
    {
      "cell_type": "markdown",
      "source": [
        "#Exercises"
      ],
      "metadata": {
        "id": "CK3CuMDTfq4K"
      }
    },
    {
      "cell_type": "markdown",
      "source": [
        "1. Data Collection, Privacy & Consent\n",
        "\n",
        "    Task 1.1: Write a function to filter dataset to only keep records with valid consent for analytics.\\\n",
        "    Task 1.2: Compare size before and after consent filtering and discuss trade‑offs.\n",
        "\n"
      ],
      "metadata": {
        "id": "K_4I1pFqftPK"
      }
    },
    {
      "cell_type": "code",
      "source": [
        "# Filter function: keep only explicit or implicit consent\n",
        "def filter_valid_consent(df):\n",
        "    valid = df[df[\"Consent_Type\"].isin([\"explicit\", \"implicit\"])]\n",
        "    return valid\n",
        "\n",
        "valid_data = filter_valid_consent(data)\n",
        "\n",
        "print(f\"Before filtering: {len(data)} records\")\n",
        "print(f\"After filtering: {len(valid_data)} records\")"
      ],
      "metadata": {
        "id": "4MKicSJkgFSN",
        "outputId": "51c25aca-9caf-46d1-ee74-0fb8cf26ac4b",
        "colab": {
          "base_uri": "https://localhost:8080/"
        }
      },
      "execution_count": 2,
      "outputs": [
        {
          "output_type": "stream",
          "name": "stdout",
          "text": [
            "Before filtering: 800 records\n",
            "After filtering: 723 records\n"
          ]
        }
      ]
    },
    {
      "cell_type": "markdown",
      "source": [
        "Explanation: Filtering ensures legal and ethical use of data, but may result in loss of sample size."
      ],
      "metadata": {
        "id": "rwDg2VNGi7gW"
      }
    },
    {
      "cell_type": "markdown",
      "source": [
        "2. Implicit vs Explicit Consent\n",
        "\n",
        "    Task 2.1: Count and plot proportion of explicit, implicit, and none.\\\n",
        "    Task 2.2: Discuss how implicit consent might be risky in IoT sensor deployments.\n"
      ],
      "metadata": {
        "id": "r4WjB6C1gigP"
      }
    },
    {
      "cell_type": "code",
      "source": [
        "import matplotlib.pyplot as plt\n",
        "\n",
        "consent_counts = data[\"Consent_Type\"].value_counts()\n",
        "print(consent_counts)\n",
        "\n",
        "consent_counts.plot(kind=\"bar\", title=\"Consent Type Distribution\", color=['green','orange','red'])\n",
        "plt.ylabel(\"Count\")\n",
        "plt.show()\n",
        "\n",
        "print(\"Discussion: Implicit consent in IoT is risky since users might not be aware of data collection, leading to potential legal issues.\")"
      ],
      "metadata": {
        "id": "6K_e6-FcjlOQ",
        "outputId": "e468b917-f0cc-4ab1-f694-095624908f7b",
        "colab": {
          "base_uri": "https://localhost:8080/",
          "height": 619
        }
      },
      "execution_count": 3,
      "outputs": [
        {
          "output_type": "stream",
          "name": "stdout",
          "text": [
            "Consent_Type\n",
            "explicit    480\n",
            "implicit    243\n",
            "none         77\n",
            "Name: count, dtype: int64\n"
          ]
        },
        {
          "output_type": "display_data",
          "data": {
            "text/plain": [
              "<Figure size 640x480 with 1 Axes>"
            ],
            "image/png": "[encoded data removed]"
          },
          "metadata": {}
        },
        {
          "output_type": "stream",
          "name": "stdout",
          "text": [
            "Discussion: Implicit consent in IoT is risky since users might not be aware of data collection, leading to potential legal issues.\n"
          ]
        }
      ]
    },
    {
      "cell_type": "markdown",
      "source": [
        "3. Bias in Data\n",
        "\n",
        "    Task 3.1: Check if Reported_Incident rates differ significantly by District.\\\n",
        "    Task 3.2: Identify possible causes (sensor density, demographic differences) and how to correct bias.\n"
      ],
      "metadata": {
        "id": "z5hcM7UAglQV"
      }
    },
    {
      "cell_type": "code",
      "source": [
        "incident_rates = data.groupby(\"District\")[\"Reported_Incident\"].mean()\n",
        "print(incident_rates)\n",
        "\n",
        "incident_rates.plot(kind=\"bar\", title=\"Reported Incident Rates by District\")\n",
        "plt.show()\n",
        "\n",
        "print(\"Bias observation: If certain districts have much higher/lower rates, this may be due to uneven sensor placement or socio-economic factors.\")\n",
        "\n"
      ],
      "metadata": {
        "id": "wlZjUVdPkGC7",
        "outputId": "df714a82-5973-48e9-90af-450ce4a74ab7",
        "colab": {
          "base_uri": "https://localhost:8080/",
          "height": 668
        }
      },
      "execution_count": 4,
      "outputs": [
        {
          "output_type": "stream",
          "name": "stdout",
          "text": [
            "District\n",
            "Downtown      0.120930\n",
            "Green Zone    0.129213\n",
            "Industrial    0.115000\n",
            "Suburban      0.135266\n",
            "Name: Reported_Incident, dtype: float64\n"
          ]
        },
        {
          "output_type": "display_data",
          "data": {
            "text/plain": [
              "<Figure size 640x480 with 1 Axes>"
            ],
            "image/png": "[encoded data removed]"
          },
          "metadata": {}
        },
        {
          "output_type": "stream",
          "name": "stdout",
          "text": [
            "Bias observation: If certain districts have much higher/lower rates, this may be due to uneven sensor placement or socio-economic factors.\n"
          ]
        }
      ]
    },
    {
      "cell_type": "markdown",
      "source": [
        "4. Data Minimization\n",
        "\n",
        "    Task 4.1: Select only the necessary columns for traffic congestion analysis, removing unrelated personal or sensitive attributes.\\\n",
        "    Task 4.2: Explain benefits & risks of minimization.\n"
      ],
      "metadata": {
        "id": "v8bWeoQVg2Rh"
      }
    },
    {
      "cell_type": "code",
      "source": [
        "traffic_data = data[[\"District\", \"Vehicle_Count\", \"Avg_Speed\"]]\n",
        "traffic_data.head()\n",
        "\n",
        "print(\"We removed personal and unrelated attributes. This reduces privacy risk and unnecessary exposure of sensitive info.\")"
      ],
      "metadata": {
        "id": "kbGM1UjPkZu8",
        "outputId": "e1cdaaf7-6334-4f9a-d979-dbd02b0e543c",
        "colab": {
          "base_uri": "https://localhost:8080/"
        }
      },
      "execution_count": 5,
      "outputs": [
        {
          "output_type": "stream",
          "name": "stdout",
          "text": [
            "We removed personal and unrelated attributes. This reduces privacy risk and unnecessary exposure of sensitive info.\n"
          ]
        }
      ]
    },
    {
      "cell_type": "markdown",
      "source": [
        "5. Anonymization & Pseudonymization\n",
        "\n",
        "    Task 5.1: Remove Device_ID or replace with hashed pseudonym.\\\n",
        "    Task 5.2: Test whether you can still link records across datasets.\n"
      ],
      "metadata": {
        "id": "5XYLJ2oIg50d"
      }
    },
    {
      "cell_type": "markdown",
      "source": [
        "6. De-Anonymization Risks\n",
        "\n",
        "    Task 6.1: Create an auxiliary dataset with Owner_Age + District.\\\n",
        "    Task 6.2: Attempt a simple join to re-identify pseudonymized records and measure percentage matched.\n"
      ],
      "metadata": {
        "id": "Ls_AFlBahE48"
      }
    },
    {
      "cell_type": "markdown",
      "source": [
        "7. Data Governance & Stewardship\n",
        "\n",
        "    Task 7.1: Create a data access control table defining roles (Admin, Analyst, Public).\\\n",
        "    Task 7.2: Outline responsibilities of a Data Steward for this smart city project.\n"
      ],
      "metadata": {
        "id": "mglvDI_NhKHF"
      }
    },
    {
      "cell_type": "markdown",
      "source": [
        "8. Data Quality & Lineage\n",
        "\n",
        "    Task 8.1: Implement a basic data quality report: missing values, out-of-range Air_Quality_Index.\\\n",
        "    Task 8.2: Create a transformation log tracking each processing step.\n"
      ],
      "metadata": {
        "id": "nshhD3mIhdqi"
      }
    },
    {
      "cell_type": "markdown",
      "source": [
        "9. Ethical Data Sharing\n",
        "\n",
        "    Task 9.1: Build a sharable, aggregated version of the dataset by district (no personal info).\\\n",
        "    Task 9.2: Define rules for approving or denying sharing requests.\n"
      ],
      "metadata": {
        "id": "T9uLOZc_hkrg"
      }
    },
    {
      "cell_type": "markdown",
      "source": [
        "10. Monitoring & Compliance\n",
        "\n",
        "    Task 10.1: Write a compliance check that:\n",
        "        Alerts if consent compliance ratio <90%\n",
        "        Alerts if Reported_Incident rate disparity by district >0.15\n",
        "    Task 10.2: Document escalation steps if an alert is triggered.\n",
        "\n"
      ],
      "metadata": {
        "id": "23zUI2b-h28B"
      }
    },
    {
      "cell_type": "markdown",
      "source": [
        "Bonus\n",
        "\n",
        "    Apply k-anonymity checks to District + Age combination.\n",
        "    Simulate real-time consent withdrawal and show how to handle it in downstream analytics.\n"
      ],
      "metadata": {
        "id": "Va_K4jfPiEMB"
      }
    }
  ]
}