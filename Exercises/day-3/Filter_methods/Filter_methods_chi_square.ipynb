{
 "cells": [
  {
   "cell_type": "markdown",
   "id": "860726b7",
   "metadata": {},
   "source": [
    "## Exercise 6: Chi-Square Test\n",
    "\n",
    "**Problem Description:**  \n",
    "Test independence between non-negative features and categorical target using chi-square statistic.\n",
    "\n",
    "**Solution Overview:**  \n",
    "Scale to [0,1], apply `SelectKBest(chi2)`, vary _k_, and plot.\n",
    "\n"
   ]
  },
  {
   "cell_type": "code",
   "execution_count": null,
   "id": "47651214",
   "metadata": {
    "vscode": {
     "languageId": "plaintext"
    }
   },
   "outputs": [],
   "source": [
    "!pip install scikit-learn pandas matplotlib seaborn\n",
    "\n",
    "import pandas as pd\n",
    "import numpy as np\n",
    "import matplotlib.pyplot as plt\n",
    "from sklearn.datasets import load_iris\n",
    "from sklearn.feature_selection import VarianceThreshold\n",
    "from sklearn.feature_selection import SelectKBest, chi2\n",
    "from sklearn.preprocessing import MinMaxScaler"
   ]
  },
  {
   "cell_type": "code",
   "execution_count": null,
   "id": "47ebcc0f",
   "metadata": {
    "vscode": {
     "languageId": "plaintext"
    }
   },
   "outputs": [],
   "source": [
    "# Scale features to\n",
    "scaler = MinMaxScaler()\n",
    "X_scaled = pd.DataFrame(scaler.fit_transform(X), columns=X.columns)"
   ]
  },
  {
   "cell_type": "code",
   "execution_count": null,
   "id": "5b101210",
   "metadata": {
    "vscode": {
     "languageId": "plaintext"
    }
   },
   "outputs": [],
   "source": [
    "# Compute chi-sq scores for k=2\n",
    "selector = SelectKBest(score_func=chi2, k=2)\n",
    "selector.fit(X_scaled, y)\n",
    "df_chi2 = pd.DataFrame({\n",
    "'feature': X.columns,\n",
    "'chi2_score': selector.scores_\n",
    "}).sort_values('chi2_score', ascending=False)\n",
    "print(\"Chi-Square scores:\\n\", df_chi2)\n",
    "print(\"Top 2 features:\", list(df_chi2['feature'][:2]))"
   ]
  },
  {
   "cell_type": "code",
   "execution_count": null,
   "id": "e26e5c3e",
   "metadata": {
    "vscode": {
     "languageId": "plaintext"
    }
   },
   "outputs": [],
   "source": [
    "# Vary k=1,2,3 and plot\n",
    "for k in :\n",
    "    s = SelectKBest(score_func=chi2, k=k).fit(X_scaled, y)\n",
    "    print(f\"Top {k} features:\", list(X.columns[s.get_support()]))\n",
    "\n",
    "plt.figure(figsize=(6,4))\n",
    "sns.barplot(x='chi2_score', y='feature', data=df_chi2)\n",
    "plt.title('Chi-Square Scores')\n",
    "plt.show()"
   ]
  },
  {
   "cell_type": "markdown",
   "id": "69fe4df1",
   "metadata": {},
   "source": [
    "# 6.3 Analysis\n",
    "- Why must features be non-negative for chi-square?\n",
    "\n",
    "- Vary k from 1 to 3; how stable are selections?\n",
    "\n",
    "- Plot chi-square scores in a bar chart."
   ]
  },
  {
   "cell_type": "markdown",
   "id": "63659c40",
   "metadata": {},
   "source": [
    "# Exercise 6: Chi-Square Test\n",
    "## Analysis to Include in Code"
   ]
  },
  {
   "cell_type": "code",
   "execution_count": null,
   "id": "c2b8015e",
   "metadata": {
    "vscode": {
     "languageId": "plaintext"
    }
   },
   "outputs": [],
   "source": [
    "# k-Sensitivity\n",
    "\n",
    "for k in [1,2,3,4]:\n",
    "    sel = SelectKBest(chi2, k=k).fit(X_scaled,y)\n",
    "    print(k, list(X.columns[sel.get_support()]))\n"
   ]
  },
  {
   "cell_type": "code",
   "execution_count": null,
   "id": "c9d9474f",
   "metadata": {
    "vscode": {
     "languageId": "plaintext"
    }
   },
   "outputs": [],
   "source": [
    "# Score Distribution\n",
    "\n",
    "sns.histplot(df_chi2['chi2_score'], bins=5, kde=True)\n",
    "plt.title(\"Chi-Square Score Distribution\"); plt.show()\n"
   ]
  },
  {
   "cell_type": "code",
   "execution_count": null,
   "id": "a2a7bbcb",
   "metadata": {
    "vscode": {
     "languageId": "plaintext"
    }
   },
   "outputs": [],
   "source": [
    "# Feature vs. Class Counts\n",
    "\n",
    "feat = df_chi2['feature'].iloc[0]\n",
    "pd.crosstab(pd.cut(X_scaled[feat], bins=4), y, normalize='index')\n"
   ]
  }
 ],
 "metadata": {
  "language_info": {
   "name": "python"
  }
 },
 "nbformat": 4,
 "nbformat_minor": 5
}
