{
  "nbformat": 4,
  "nbformat_minor": 0,
  "metadata": {
    "colab": {
      "provenance": []
    },
    "kernelspec": {
      "name": "python3",
      "display_name": "Python 3"
    },
    "language_info": {
      "name": "python"
    }
  },
  "cells": [
    {
      "cell_type": "code",
      "execution_count": 1,
      "metadata": {
        "id": "VJYkfqBgXFyd"
      },
      "outputs": [],
      "source": [
        "# Step 1: Set Up the Environment\n",
        "# Install required libraries (requests and pandas)\n",
        "!pip install requests pandas -q"
      ]
    },
    {
      "cell_type": "code",
      "source": [
        "# Step 2: Ingest Data from a Public REST API\n",
        "# Example: Fetch random user data from the Random User Generator API.\n",
        "import requests\n",
        "import pandas as pd\n",
        "\n",
        "api_url = \"https://randomuser.me/api/?results=10\"\n",
        "response = requests.get(api_url)\n",
        "data = response.json()\n",
        "\n",
        "# Convert the results to a DataFrame\n",
        "df_api = pd.json_normalize(data['results'])\n",
        "print(\"Data from REST API:\")\n",
        "print(df_api.head())"
      ],
      "metadata": {
        "colab": {
          "base_uri": "https://localhost:8080/"
        },
        "id": "qA60jHgncuVa",
        "outputId": "a51fbf74-8960-496e-f98a-18fc7c4d6e51"
      },
      "execution_count": 2,
      "outputs": [
        {
          "output_type": "stream",
          "name": "stdout",
          "text": [
            "Data from REST API:\n",
            "   gender                            email           phone            cell  \\\n",
            "0  female          amy.laurent@example.com   076 918 27 77   077 282 97 74   \n",
            "1  female       grazyna.klasen@example.com    0206-4166587    0171-8933964   \n",
            "2    male          brdy.jaafry@example.com    023-32087736   0901-370-4469   \n",
            "3    male         francis.hart@example.com     01534 25688    07497 736791   \n",
            "4  female  magdalena.moseychuk@example.com  (098) A33-5030  (067) A04-5751   \n",
            "\n",
            "  nat name.title name.first  name.last  location.street.number  \\\n",
            "0  CH     Madame        Amy    Laurent                    5317   \n",
            "1  DE       Miss    Grazyna     Klasen                    9592   \n",
            "2  IR         Mr      بردیا      جعفری                    8307   \n",
            "3  GB         Mr    Francis       Hart                    1220   \n",
            "4  UA        Mrs  Magdalena  Moseychuk                    7802   \n",
            "\n",
            "              location.street.name  ...  \\\n",
            "0              Rue des Cuirassiers  ...   \n",
            "1                      Hauptstraße  ...   \n",
            "2                        شهید شواخ  ...   \n",
            "3                     Chester Road  ...   \n",
            "4  Ploshcha imeni Arutyunova S. G.  ...   \n",
            "\n",
            "                                        login.sha256  \\\n",
            "0  e08edd91787b61d2f5f73da5a0a91a3191953801235594...   \n",
            "1  06c0a08c1b674af44b9101db4958cfef189eac9d578202...   \n",
            "2  84d3878205aab5d6a6908d6a86276e0125d5a4a6198a4e...   \n",
            "3  944c70afd90db4dc29648de70ba4e25f3649113e47b8d3...   \n",
            "4  1d14973ab485f20e9dc717a3c6f8c9d2ff0d00e030ce14...   \n",
            "\n",
            "                   dob.date dob.age           registered.date registered.age  \\\n",
            "0  1949-11-08T08:05:32.499Z      75  2019-12-27T00:32:24.887Z              5   \n",
            "1  1993-04-30T07:56:39.984Z      32  2020-08-02T21:47:07.063Z              5   \n",
            "2  1964-02-29T04:59:25.717Z      61  2017-03-18T20:40:53.556Z              8   \n",
            "3  1979-07-27T11:47:04.814Z      46  2006-06-06T07:50:27.907Z             19   \n",
            "4  1989-10-28T01:39:54.809Z      35  2005-09-18T13:35:12.140Z             19   \n",
            "\n",
            "  id.name          id.value                                     picture.large  \\\n",
            "0     AVS  756.1690.2103.78  https://randomuser.me/api/portraits/women/85.jpg   \n",
            "1    SVNR   48 300493 K 874  https://randomuser.me/api/portraits/women/94.jpg   \n",
            "2                      None    https://randomuser.me/api/portraits/men/13.jpg   \n",
            "3    NINO     JH 82 37 16 X    https://randomuser.me/api/portraits/men/50.jpg   \n",
            "4                      None  https://randomuser.me/api/portraits/women/90.jpg   \n",
            "\n",
            "                                      picture.medium  \\\n",
            "0  https://randomuser.me/api/portraits/med/women/...   \n",
            "1  https://randomuser.me/api/portraits/med/women/...   \n",
            "2  https://randomuser.me/api/portraits/med/men/13...   \n",
            "3  https://randomuser.me/api/portraits/med/men/50...   \n",
            "4  https://randomuser.me/api/portraits/med/women/...   \n",
            "\n",
            "                                   picture.thumbnail  \n",
            "0  https://randomuser.me/api/portraits/thumb/wome...  \n",
            "1  https://randomuser.me/api/portraits/thumb/wome...  \n",
            "2  https://randomuser.me/api/portraits/thumb/men/...  \n",
            "3  https://randomuser.me/api/portraits/thumb/men/...  \n",
            "4  https://randomuser.me/api/portraits/thumb/wome...  \n",
            "\n",
            "[5 rows x 34 columns]\n"
          ]
        }
      ]
    },
    {
      "cell_type": "code",
      "source": [
        "# Step 3: Ingest Data from a CSV File\n",
        "# Example using the Iris dataset (direct CSV link):\n",
        "\n",
        "csv_url = \"https://raw.githubusercontent.com/uiuc-cse/data-fa14/gh-pages/data/iris.csv\"\n",
        "df_csv = pd.read_csv(csv_url)\n",
        "print(\"\\nData from CSV File:\")\n",
        "print(df_csv.head())"
      ],
      "metadata": {
        "colab": {
          "base_uri": "https://localhost:8080/"
        },
        "id": "MUMKM6oBc0ej",
        "outputId": "6f1332d1-7189-40de-9198-b72f0a901a59"
      },
      "execution_count": 3,
      "outputs": [
        {
          "output_type": "stream",
          "name": "stdout",
          "text": [
            "\n",
            "Data from CSV File:\n",
            "   sepal_length  sepal_width  petal_length  petal_width species\n",
            "0           5.1          3.5           1.4          0.2  setosa\n",
            "1           4.9          3.0           1.4          0.2  setosa\n",
            "2           4.7          3.2           1.3          0.2  setosa\n",
            "3           4.6          3.1           1.5          0.2  setosa\n",
            "4           5.0          3.6           1.4          0.2  setosa\n"
          ]
        }
      ]
    },
    {
      "cell_type": "code",
      "source": [
        "# Step 4: Inspect and Compare Data\n",
        "# Perform basic inspection on both data sources.\n",
        "# Inspect columns and info for both DataFrames\n",
        "print(\"API Data Columns:\", df_api.columns)\n",
        "print(\"CSV Data Columns:\", df_csv.columns)\n",
        "\n",
        "print(\"\\nAPI Data Info:\")\n",
        "print(df_api.info())\n",
        "\n",
        "print(\"\\nCSV Data Info:\")\n",
        "print(df_csv.info())"
      ],
      "metadata": {
        "colab": {
          "base_uri": "https://localhost:8080/"
        },
        "id": "pAgiCeihc1-d",
        "outputId": "5782f287-8e73-421e-f579-68a28cb78bce"
      },
      "execution_count": 4,
      "outputs": [
        {
          "output_type": "stream",
          "name": "stdout",
          "text": [
            "API Data Columns: Index(['gender', 'email', 'phone', 'cell', 'nat', 'name.title', 'name.first',\n",
            "       'name.last', 'location.street.number', 'location.street.name',\n",
            "       'location.city', 'location.state', 'location.country',\n",
            "       'location.postcode', 'location.coordinates.latitude',\n",
            "       'location.coordinates.longitude', 'location.timezone.offset',\n",
            "       'location.timezone.description', 'login.uuid', 'login.username',\n",
            "       'login.password', 'login.salt', 'login.md5', 'login.sha1',\n",
            "       'login.sha256', 'dob.date', 'dob.age', 'registered.date',\n",
            "       'registered.age', 'id.name', 'id.value', 'picture.large',\n",
            "       'picture.medium', 'picture.thumbnail'],\n",
            "      dtype='object')\n",
            "CSV Data Columns: Index(['sepal_length', 'sepal_width', 'petal_length', 'petal_width',\n",
            "       'species'],\n",
            "      dtype='object')\n",
            "\n",
            "API Data Info:\n",
            "<class 'pandas.core.frame.DataFrame'>\n",
            "RangeIndex: 10 entries, 0 to 9\n",
            "Data columns (total 34 columns):\n",
            " #   Column                          Non-Null Count  Dtype \n",
            "---  ------                          --------------  ----- \n",
            " 0   gender                          10 non-null     object\n",
            " 1   email                           10 non-null     object\n",
            " 2   phone                           10 non-null     object\n",
            " 3   cell                            10 non-null     object\n",
            " 4   nat                             10 non-null     object\n",
            " 5   name.title                      10 non-null     object\n",
            " 6   name.first                      10 non-null     object\n",
            " 7   name.last                       10 non-null     object\n",
            " 8   location.street.number          10 non-null     int64 \n",
            " 9   location.street.name            10 non-null     object\n",
            " 10  location.city                   10 non-null     object\n",
            " 11  location.state                  10 non-null     object\n",
            " 12  location.country                10 non-null     object\n",
            " 13  location.postcode               10 non-null     object\n",
            " 14  location.coordinates.latitude   10 non-null     object\n",
            " 15  location.coordinates.longitude  10 non-null     object\n",
            " 16  location.timezone.offset        10 non-null     object\n",
            " 17  location.timezone.description   10 non-null     object\n",
            " 18  login.uuid                      10 non-null     object\n",
            " 19  login.username                  10 non-null     object\n",
            " 20  login.password                  10 non-null     object\n",
            " 21  login.salt                      10 non-null     object\n",
            " 22  login.md5                       10 non-null     object\n",
            " 23  login.sha1                      10 non-null     object\n",
            " 24  login.sha256                    10 non-null     object\n",
            " 25  dob.date                        10 non-null     object\n",
            " 26  dob.age                         10 non-null     int64 \n",
            " 27  registered.date                 10 non-null     object\n",
            " 28  registered.age                  10 non-null     int64 \n",
            " 29  id.name                         10 non-null     object\n",
            " 30  id.value                        7 non-null      object\n",
            " 31  picture.large                   10 non-null     object\n",
            " 32  picture.medium                  10 non-null     object\n",
            " 33  picture.thumbnail               10 non-null     object\n",
            "dtypes: int64(3), object(31)\n",
            "memory usage: 2.8+ KB\n",
            "None\n",
            "\n",
            "CSV Data Info:\n",
            "<class 'pandas.core.frame.DataFrame'>\n",
            "RangeIndex: 150 entries, 0 to 149\n",
            "Data columns (total 5 columns):\n",
            " #   Column        Non-Null Count  Dtype  \n",
            "---  ------        --------------  -----  \n",
            " 0   sepal_length  150 non-null    float64\n",
            " 1   sepal_width   150 non-null    float64\n",
            " 2   petal_length  150 non-null    float64\n",
            " 3   petal_width   150 non-null    float64\n",
            " 4   species       150 non-null    object \n",
            "dtypes: float64(4), object(1)\n",
            "memory usage: 6.0+ KB\n",
            "None\n"
          ]
        }
      ]
    },
    {
      "cell_type": "code",
      "source": [
        "# Step 5: Reflection Questions\n",
        "# At the end of your notebook, answer these questions:\n",
        "\n",
        "# What were the main steps for ingesting data from a REST API vs. a CSV? --------------------------->1\n",
        "\n",
        "# What are some possible challenges or error scenarios for each ingestion method?--------------------->2\n",
        "\n",
        "# For your workflow, when would you prefer an API vs. a CSV file? _--------------------------------------->3"
      ],
      "metadata": {
        "id": "rXzd9DHrc4cJ"
      },
      "execution_count": null,
      "outputs": []
    },
    {
      "cell_type": "markdown",
      "source": [
        "1. For REST API:\n",
        "\n",
        "Import requests and pandas.\n",
        "\n",
        "Use requests.get() to call the API.\n",
        "\n",
        "Convert the response to JSON.\n",
        "\n",
        "Use pd.json_normalize() to create a DataFrame.\n",
        "\n",
        "For CSV:\n",
        "\n",
        "Import pandas.\n",
        "\n",
        "Use pd.read_csv() with the file path or URL to load the data directly."
      ],
      "metadata": {
        "id": "8lVQ22nreoCR"
      }
    },
    {
      "cell_type": "markdown",
      "source": [
        "2.\n",
        "For REST API:\n",
        "\n",
        "Internet or server issues.\n",
        "\n",
        "API may change structure or become unavailable.\n",
        "\n",
        "Rate limits or access restrictions.\n",
        "\n",
        "Complex nested JSON can be tricky to flatten.\n",
        "\n",
        "For CSV:\n",
        "\n",
        "Wrong file path or broken link.\n",
        "\n",
        "File may have missing data or bad formatting.\n",
        "\n",
        "Encoding problems (e.g., special characters).\n",
        "\n",
        "Header or column mismatch."
      ],
      "metadata": {
        "id": "hYowxw0LetFF"
      }
    },
    {
      "cell_type": "markdown",
      "source": [
        "3. Prefer API when:\n",
        "\n",
        "You need real-time or frequently updated data.\n",
        "\n",
        "Automating workflows or building data pipelines.\n",
        "\n",
        "Prefer CSV when:\n",
        "\n",
        "You’re doing offline analysis or using static data.\n",
        "\n",
        "You need a simple, portable format to share or store data."
      ],
      "metadata": {
        "id": "R9--LEGoe7pm"
      }
    },
    {
      "cell_type": "code",
      "source": [],
      "metadata": {
        "id": "JtOZfXTIerbh"
      },
      "execution_count": null,
      "outputs": []
    }
  ]
}