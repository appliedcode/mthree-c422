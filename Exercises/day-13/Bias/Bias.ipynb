{
  "cells": [
    {
      "cell_type": "markdown",
      "metadata": {
        "id": "view-in-github",
        "colab_type": "text"
      },
      "source": [
        "<a href=\"https://colab.research.google.com/github/appliedcode/mthree-c422/blob/main/Exercises/day-13/Bias/Bias.ipynb\" target=\"_parent\"><img src=\"https://colab.research.google.com/assets/colab-badge.svg\" alt=\"Open In Colab\"/></a>"
      ]
    },
    {
      "cell_type": "markdown",
      "source": [
        "***\n",
        "\n",
        "# Practice Exercise Set: Understanding Bias in Algorithms\n",
        "\n",
        "This set focuses on exploring data, algorithmic, and societal bias, methods to detect and mitigate bias, and applying fairness metrics to evaluate models.\n",
        "\n",
        "***\n",
        "\n",
        "## 1. Types of Bias in Algorithms\n",
        "\n",
        "### Exercise 1.1 — Explore Types of Bias (Conceptual)\n",
        "\n",
        "- **Data Bias:** Bias arising from unrepresentative or skewed datasets (e.g., selection bias, sampling bias).\n",
        "- **Algorithmic Bias:** Bias introduced by model choices or design (e.g., feature selection bias, inductive bias).\n",
        "- **Societal Bias:** Pre-existing societal inequalities reflected in data and models (e.g., historical discrimination, stereotype bias).\n",
        "\n",
        "\n",
        "### Exercise 1.2 — Identify Bias Sources\n",
        "\n",
        "- Given a dataset of loan applications with demographic attributes, reflect on possible sources of each bias type. For example, data bias may come from under-sampling minorities, algorithm bias from model ignoring fairness, and societal bias from systemic economic disparities.\n",
        "\n",
        "*(This task is primarily conceptual and discussion-based.)*\n",
        "\n",
        "***\n",
        "\n",
        "## 2. Techniques for Detecting Bias\n",
        "\n",
        "We’ll use a synthetic loan dataset for hands-on detection.\n",
        "\n",
        "### Exercise 2.1 — Data Bias Detection\n",
        "\n",
        "- Analyze demographic group distribution and label imbalance.\n",
        "- Perform chi-square test for independence.\n",
        "- Visualize approval rates by groups."
      ],
      "metadata": {
        "id": "YGaiV8GXXwbO"
      }
    },
    {
      "cell_type": "code",
      "source": [
        "import pandas as pd\n",
        "import numpy as np\n",
        "import matplotlib.pyplot as plt\n",
        "from scipy.stats import chi2_contingency\n",
        "\n",
        "# Generate synthetic data\n",
        "np.random.seed(0)\n",
        "n = 1000\n",
        "genders = ['Male', 'Female']\n",
        "ethnicities = ['Group_A', 'Group_B', 'Group_C']\n",
        "\n",
        "data = pd.DataFrame({\n",
        "    'Gender': np.random.choice(genders, n, p=[0.6, 0.4]),\n",
        "    'Ethnicity': np.random.choice(ethnicities, n, p=[0.5, 0.3, 0.2])\n",
        "})\n",
        "\n",
        "# Simulated loan approvals with bias: Group_A has higher approval rate\n",
        "data['Loan_Approved'] = np.where(\n",
        "    (data['Ethnicity'] == 'Group_A'),\n",
        "    np.random.choice([1, 0], n, p=[0.7, 0.3]),\n",
        "    np.random.choice([1, 0], n, p=[0.4, 0.6])\n",
        ")\n",
        "\n",
        "# Group distribution\n",
        "print(data['Ethnicity'].value_counts(normalize=True))\n",
        "\n",
        "# Approval rates by Ethnicity\n",
        "approval_rates = data.groupby('Ethnicity')['Loan_Approved'].mean()\n",
        "print(approval_rates)\n",
        "\n",
        "# Chi-square test\n",
        "contingency_table = pd.crosstab(data['Ethnicity'], data['Loan_Approved'])\n",
        "chi2, p, dof, expected = chi2_contingency(contingency_table)\n",
        "print(f\"Chi-square test p-value: {p}\")\n",
        "\n",
        "# Bar plot\n",
        "approval_rates.plot(kind='bar', title='Loan Approval Rate by Ethnicity')\n",
        "plt.ylabel('Approval Rate')\n",
        "plt.show()"
      ],
      "metadata": {
        "id": "95OUF231pjcx",
        "outputId": "6ef63cb5-b3c1-43ec-af03-39737767986a",
        "colab": {
          "base_uri": "https://localhost:8080/",
          "height": 713
        }
      },
      "execution_count": 51,
      "outputs": [
        {
          "output_type": "stream",
          "name": "stdout",
          "text": [
            "Ethnicity\n",
            "Group_A    0.481\n",
            "Group_B    0.294\n",
            "Group_C    0.225\n",
            "Name: proportion, dtype: float64\n",
            "Ethnicity\n",
            "Group_A    0.704782\n",
            "Group_B    0.421769\n",
            "Group_C    0.457778\n",
            "Name: Loan_Approved, dtype: float64\n",
            "Chi-square test p-value: 1.1871666628169174e-16\n"
          ]
        },
        {
          "output_type": "display_data",
          "data": {
            "text/plain": [
              "<Figure size 640x480 with 1 Axes>"
            ],
            "image/png": "[encoded data removed]"
          },
          "metadata": {}
        }
      ]
    },
    {
      "cell_type": "markdown",
      "source": [
        "### Explanation:\n",
        "\n",
        "- Imbalanced group sizes and differing approval rates indicate potential data bias.\n",
        "- A small p-value from chi-square suggests approval depends on ethnicity.\n",
        "\n",
        "***\n",
        "\n",
        "### Exercise 2.2 — Algorithmic Bias Detection\n",
        "\n",
        "- Train a baseline classifier (e.g. logistic regression).\n",
        "- Compute accuracy, True Positive Rate (TPR), False Positive Rate (FPR) per group.\n",
        "- Check feature importance for sensitive attributes.\n",
        "\n"
      ],
      "metadata": {
        "id": "XlR-wN-sprCd"
      }
    },
    {
      "cell_type": "code",
      "source": [
        "\n",
        "from sklearn.linear_model import LogisticRegression\n",
        "from sklearn.model_selection import train_test_split\n",
        "from sklearn.metrics import confusion_matrix\n",
        "\n",
        "# Prepare data\n",
        "X = pd.get_dummies(data[['Gender', 'Ethnicity']], drop_first=True)\n",
        "y = data['Loan_Approved']\n",
        "\n",
        "X_train, X_test, y_train, y_test = train_test_split(X, y, test_size=0.3, random_state=42)\n",
        "\n",
        "model = LogisticRegression(solver='liblinear')\n",
        "model.fit(X_train, y_train)\n",
        "\n",
        "y_pred = model.predict(X_test)\n",
        "\n",
        "# Group-wise metrics function\n",
        "def group_metrics(df, labels, preds, group_col):\n",
        "    results = {}\n",
        "    for g in df[group_col].unique():\n",
        "        idx = df[group_col]==g\n",
        "        tn, fp, fn, tp = confusion_matrix(labels[idx], preds[idx]).ravel()\n",
        "        tpr = tp / (tp + fn) if (tp + fn) > 0 else 0\n",
        "        fpr = fp / (fp + tn) if (fp + tn) > 0 else 0\n",
        "        acc = (tp + tn) / (tp + tn + fp + fn)\n",
        "        results[g] = {'Accuracy': acc, 'TPR': tpr, 'FPR': fpr}\n",
        "    return pd.DataFrame(results)\n",
        "\n",
        "df_test = X_test.copy()\n",
        "df_test['Gender'] = data.loc[y_test.index, 'Gender'].values\n",
        "df_test['Ethnicity'] = data.loc[y_test.index, 'Ethnicity'].values\n",
        "\n",
        "metrics_gender = group_metrics(df_test, y_test, y_pred, 'Gender')\n",
        "metrics_ethnicity = group_metrics(df_test, y_test, y_pred, 'Ethnicity')\n",
        "\n",
        "print(\"Metrics by Gender:\")\n",
        "print(metrics_gender)\n",
        "print(\"\\nMetrics by Ethnicity:\")\n",
        "print(metrics_ethnicity)\n",
        "\n",
        "# Feature importance (coefficients)\n",
        "coef = pd.Series(model.coef_[0], index=X.columns)\n",
        "print(\"\\nFeature importance:\")\n",
        "print(coef.sort_values(ascending=False))"
      ],
      "metadata": {
        "id": "pPc5BIweplhQ",
        "outputId": "376e2767-0ee0-4e2e-b730-6f2c47955a23",
        "colab": {
          "base_uri": "https://localhost:8080/"
        }
      },
      "execution_count": 52,
      "outputs": [
        {
          "output_type": "stream",
          "name": "stdout",
          "text": [
            "Metrics by Gender:\n",
            "              Male    Female\n",
            "Accuracy  0.652850  0.682243\n",
            "TPR       0.605263  0.566667\n",
            "FPR       0.278481  0.170213\n",
            "\n",
            "Metrics by Ethnicity:\n",
            "           Group_C   Group_B   Group_A\n",
            "Accuracy  0.513514  0.623656  0.774436\n",
            "TPR       0.000000  0.000000  1.000000\n",
            "FPR       0.000000  0.000000  1.000000\n",
            "\n",
            "Feature importance:\n",
            "Gender_Male         -0.202833\n",
            "Ethnicity_Group_B   -0.917951\n",
            "Ethnicity_Group_C   -0.923650\n",
            "dtype: float64\n"
          ]
        }
      ]
    },
    {
      "cell_type": "markdown",
      "source": [
        "### Explanation:\n",
        "\n",
        "- Examine if performance metrics differ substantially between groups.\n",
        "- Large differences in TPR or FPR indicate algorithmic bias.\n",
        "- Sensitive features with large coefficients may drive bias.\n",
        "\n",
        "***\n",
        "\n",
        "## 3. Techniques for Mitigating Bias\n",
        "\n",
        "### Exercise 3.1 — Pre-processing: Re-sampling to Balance Dataset"
      ],
      "metadata": {
        "id": "fYj7u_fwpuzs"
      }
    },
    {
      "cell_type": "code",
      "source": [
        "from sklearn.utils import resample\n",
        "\n",
        "# Resample minority group to balance dataset\n",
        "df_minority = data[data['Ethnicity']=='Group_C']\n",
        "df_majority = data[data['Ethnicity']!='Group_C']\n",
        "\n",
        "df_minority_upsampled = resample(df_minority, replace=True, n_samples=len(df_majority), random_state=42)\n",
        "\n",
        "df_balanced = pd.concat([df_majority, df_minority_upsampled])\n",
        "\n",
        "# Recheck approval rates\n",
        "print(df_balanced['Ethnicity'].value_counts(normalize=True))\n",
        "print(df_balanced.groupby('Ethnicity')['Loan_Approved'].mean())"
      ],
      "metadata": {
        "id": "n1OEI3GLpwZz",
        "outputId": "36862d6a-4e33-4368-c241-90f58317d3fc",
        "colab": {
          "base_uri": "https://localhost:8080/"
        }
      },
      "execution_count": 53,
      "outputs": [
        {
          "output_type": "stream",
          "name": "stdout",
          "text": [
            "Ethnicity\n",
            "Group_C    0.500000\n",
            "Group_A    0.310323\n",
            "Group_B    0.189677\n",
            "Name: proportion, dtype: float64\n",
            "Ethnicity\n",
            "Group_A    0.704782\n",
            "Group_B    0.421769\n",
            "Group_C    0.441290\n",
            "Name: Loan_Approved, dtype: float64\n"
          ]
        }
      ]
    },
    {
      "cell_type": "markdown",
      "source": [
        "### Exercise 3.2 — In-processing: Train with Fairness Constraint (Sample for illustration)\n",
        "\n",
        "- Implement fairness constraints if toolkits like `aif360` or other libraries are available (not shown here for simplicity).\n",
        "\n",
        "\n",
        "### Exercise 3.3 — Post-processing: Adjust Decision Thresholds per Group"
      ],
      "metadata": {
        "id": "pfyBpBaZpyf1"
      }
    },
    {
      "cell_type": "code",
      "source": [
        "# Example: Compute thresholds to equalize TPR or FPR (high level exercise)\n",
        "# Requires predicted probabilities and per-group ROC curves (not shown due to complexity)"
      ],
      "metadata": {
        "id": "KF9vpKazp08B"
      },
      "execution_count": 54,
      "outputs": []
    },
    {
      "cell_type": "markdown",
      "source": [
        "***\n",
        "\n",
        "## 4. Fairness Metrics and Evaluation\n",
        "\n",
        "### Exercise 4.1 — Compute Common Fairness Metrics"
      ],
      "metadata": {
        "id": "m63Y5eQdp20h"
      }
    },
    {
      "cell_type": "code",
      "source": [
        "def demographic_parity(y_true, y_pred, group):\n",
        "    rates = pd.DataFrame({'y_pred': y_pred, 'group': group}).groupby('group')['y_pred'].mean()\n",
        "    return rates.max() - rates.min()\n",
        "\n",
        "def equal_opportunity(y_true, y_pred, group):\n",
        "    results = {}\n",
        "    df = pd.DataFrame({'y_true': y_true, 'y_pred': y_pred, 'group': group})\n",
        "    for g in df['group'].unique():\n",
        "        subset = df[df['group'] == g]\n",
        "        tp = ((subset['y_pred'] == 1) & (subset['y_true'] == 1)).sum()\n",
        "        fn = ((subset['y_pred'] == 0) & (subset['y_true'] == 1)).sum()\n",
        "        tpr = tp / (tp + fn) if (tp + fn) > 0 else 0\n",
        "        results[g] = tpr\n",
        "    tpr_vals = list(results.values())\n",
        "    return max(tpr_vals) - min(tpr_vals)\n",
        "\n",
        "dp_ethnicity = demographic_parity(y_test, y_pred, df_test['Ethnicity'])\n",
        "eo_ethnicity = equal_opportunity(y_test, y_pred, df_test['Ethnicity'])\n",
        "\n",
        "print(f\"Demographic Parity Difference (Ethnicity): {dp_ethnicity:.3f}\")\n",
        "print(f\"Equal Opportunity Difference (Ethnicity): {eo_ethnicity:.3f}\")"
      ],
      "metadata": {
        "id": "JGThWlPsp2in",
        "outputId": "b87d2125-75e3-43f7-fb1c-6bd3314b75d0",
        "colab": {
          "base_uri": "https://localhost:8080/"
        }
      },
      "execution_count": 55,
      "outputs": [
        {
          "output_type": "stream",
          "name": "stdout",
          "text": [
            "Demographic Parity Difference (Ethnicity): 1.000\n",
            "Equal Opportunity Difference (Ethnicity): 1.000\n"
          ]
        }
      ]
    },
    {
      "cell_type": "markdown",
      "source": [
        "### Exercise 4.2 — Compare Before/After Mitigation\n",
        "\n",
        "- Repeat model training and metric calculation on balanced data and compare fairness results.\n",
        "\n",
        "\n",
        "### Exercise 4.3 — Discussion\n",
        "\n",
        "- Reflect on how accuracy may trade off with fairness.\n",
        "- Consider how mitigations affect model complexity or interpretability.\n",
        "\n",
        "***"
      ],
      "metadata": {
        "id": "cZe4Gf2ep7LF"
      }
    }
  ],
  "metadata": {
    "colab": {
      "name": "Welcome to Colab",
      "provenance": [],
      "include_colab_link": true
    },
    "kernelspec": {
      "display_name": "Python 3",
      "name": "python3"
    }
  },
  "nbformat": 4,
  "nbformat_minor": 0
}