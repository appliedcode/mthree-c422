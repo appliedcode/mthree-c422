{
  "nbformat": 4,
  "nbformat_minor": 0,
  "metadata": {
    "colab": {
      "provenance": []
    },
    "kernelspec": {
      "name": "python3",
      "display_name": "Python 3"
    },
    "language_info": {
      "name": "python"
    }
  },
  "cells": [
    {
      "cell_type": "code",
      "execution_count": 1,
      "metadata": {
        "colab": {
          "base_uri": "https://localhost:8080/"
        },
        "id": "RTYRGhoBQMwZ",
        "outputId": "f25f096b-49cf-4e94-e343-7073291bf18b"
      },
      "outputs": [
        {
          "output_type": "stream",
          "name": "stdout",
          "text": [
            "✅ OpenAI API key loaded safely\n"
          ]
        }
      ],
      "source": [
        "# Setup\n",
        "# Install OpenAI SDK\n",
        "!pip install openai -q\n",
        "from google.colab import userdata\n",
        "import os\n",
        "\n",
        "openai_api_key = userdata.get(\"OPENAI_API_KEY\")\n",
        "if openai_api_key:\n",
        "    os.environ[\"OPENAI_API_KEY\"] = openai_api_key\n",
        "    print(\"✅ OpenAI API key loaded safely\")\n",
        "else:\n",
        "    print(\"❌ OpenAI API key not found. Please set it using Colab Secrets.\")"
      ]
    },
    {
      "cell_type": "code",
      "source": [
        "from openai import OpenAI\n",
        "client = OpenAI(api_key=os.environ[\"OPENAI_API_KEY\"])  # Replace with your API key\n",
        "\n",
        "def ask_gpt(prompt, temp=0.7, max_tokens=500):\n",
        "    \"\"\"Send a prompt to GPT-4o-mini and return the output\"\"\"\n",
        "    response = client.chat.completions.create(\n",
        "        model=\"gpt-4o-mini\",\n",
        "        messages=[{\"role\": \"user\", \"content\": prompt}],\n",
        "        temperature=temp,\n",
        "        max_tokens=max_tokens\n",
        "    )\n",
        "    return response.choices[0].message.content"
      ],
      "metadata": {
        "id": "-Ezj2MrGQYVm"
      },
      "execution_count": 2,
      "outputs": []
    },
    {
      "cell_type": "code",
      "source": [
        "# # Principle 1 — Give Clear Direction\n",
        "# Goal: Be specific about what, for whom, and how the task should be done.\n",
        "\n",
        "prompt = \"Write a 50-word friendly welcome message for first-year university students in an encouraging tone.\"\n",
        "print(ask_gpt(prompt))"
      ],
      "metadata": {
        "colab": {
          "base_uri": "https://localhost:8080/"
        },
        "id": "S3-szjl2QdCz",
        "outputId": "04c289a1-ff9b-4b8d-e562-62bfdae755c5"
      },
      "execution_count": 3,
      "outputs": [
        {
          "output_type": "stream",
          "name": "stdout",
          "text": [
            "Welcome, first-year students! 🎉 We're thrilled to have you join our vibrant university community. Embrace new friendships, explore your passions, and don’t hesitate to seek help when needed. This journey is all about growth and discovery—make the most of it! Here’s to a fantastic year ahead! 🌟\n"
          ]
        }
      ]
    },
    {
      "cell_type": "code",
      "source": [
        "vague_prompt = \"Write about climate change\"\n",
        "clear_prompt = \"Explain climate change causes to high school students in a simple, positive tone, in 3 short sentences.\"\n",
        "\n",
        "print(\"Vague Output:\\n\", ask_gpt(vague_prompt))\n",
        "print(\"\\nClear Output:\\n\", ask_gpt(clear_prompt))"
      ],
      "metadata": {
        "colab": {
          "base_uri": "https://localhost:8080/"
        },
        "id": "rLGdJBwqQzW4",
        "outputId": "1ab73440-c75c-4e76-d14d-05e52b4c2fba"
      },
      "execution_count": 4,
      "outputs": [
        {
          "output_type": "stream",
          "name": "stdout",
          "text": [
            "Vague Output:\n",
            " Climate change refers to significant and lasting changes in the Earth's climate, primarily driven by human activities that increase the concentration of greenhouse gases (GHGs) in the atmosphere. These gases, including carbon dioxide (CO2), methane (CH4), and nitrous oxide (N2O), trap heat from the sun, leading to a warming effect commonly known as the greenhouse effect.\n",
            "\n",
            "### Causes of Climate Change\n",
            "\n",
            "1. **Fossil Fuel Combustion**: The burning of coal, oil, and natural gas for energy is the largest source of GHG emissions. This occurs in power plants, vehicles, industrial processes, and residential heating.\n",
            "\n",
            "2. **Deforestation**: Trees absorb CO2 as part of photosynthesis. When forests are cut down or burned, not only is this carbon sink lost, but the carbon stored in trees is released back into the atmosphere.\n",
            "\n",
            "3. **Agriculture**: Agricultural practices contribute to climate change through methane emissions from livestock and rice cultivation, as well as nitrous oxide from fertilized soils.\n",
            "\n",
            "4. **Industrial Processes**: Various industrial activities release GHGs directly into the atmosphere, including cement production, chemical manufacturing, and waste management.\n",
            "\n",
            "### Impacts of Climate Change\n",
            "\n",
            "1. **Rising Temperatures**: Global average temperatures have increased significantly over the past century, leading to more frequent and severe heatwaves.\n",
            "\n",
            "2. **Melting Ice and Rising Sea Levels**: Glaciers and polar ice caps are melting, contributing to rising sea levels. This threatens coastal communities and ecosystems.\n",
            "\n",
            "3. **Extreme Weather Events**: Climate change is linked to an increase in the frequency and intensity of extreme weather events, such as hurricanes, droughts, floods, and wildfires.\n",
            "\n",
            "4. **Ecosystem Disruption**: Changing climates affect habitats and species, leading to shifts in biodiversity, altered migration patterns, and increased extinction rates.\n",
            "\n",
            "5. **Ocean Acidification**: Increased CO2 levels are absorbed by oceans, leading to acidification that affects marine life, particularly organisms with calcium carbonate shells or skeletons.\n",
            "\n",
            "6. **Human Health Risks**: Climate change poses risks to public health through increased heat-related illnesses, respiratory issues from poor air quality, and the spread of vector-borne diseases.\n",
            "\n",
            "### Mitigation and Adaptation\n",
            "\n",
            "**Mitigation** involves efforts to reduce or prevent the emission of GHGs. Strategies include transitioning to renewable energy sources (such as solar, wind, and hydro), enhancing energy efficiency, promoting sustainable agriculture\n",
            "\n",
            "Clear Output:\n",
            " Climate change happens mainly because of greenhouse gases, like carbon dioxide, that we release into the atmosphere when we burn fossil fuels for energy and transportation. Deforestation and industrial activities also contribute to this problem. But the good news is that by using renewable energy, recycling, and making smarter choices, we can help protect our planet and create a healthier future!\n"
          ]
        }
      ]
    },
    {
      "cell_type": "code",
      "source": [
        "# Principle 2 — Specify Format\n",
        "# Goal: Tell the AI exactly how to structure its response.\n",
        "\n",
        "prompt = \"\"\"\n",
        "List 3 benefits of learning Python.\n",
        "Format the output as a markdown table with columns: 'Benefit' and 'Description'.\n",
        "\"\"\"\n",
        "print(ask_gpt(prompt))"
      ],
      "metadata": {
        "colab": {
          "base_uri": "https://localhost:8080/"
        },
        "id": "OiJiZaaaQ9mB",
        "outputId": "0246de35-292a-4640-a7d6-ecfd5e667c8d"
      },
      "execution_count": 5,
      "outputs": [
        {
          "output_type": "stream",
          "name": "stdout",
          "text": [
            "```markdown\n",
            "| Benefit                    | Description                                                                                     |\n",
            "|---------------------------|-------------------------------------------------------------------------------------------------|\n",
            "| Easy to Learn             | Python has a simple and intuitive syntax that makes it accessible for beginners and reduces the learning curve. |\n",
            "| Versatile and Flexible     | Python can be used for various applications, including web development, data analysis, artificial intelligence, and automation.  |\n",
            "| Strong Community Support    | Python boasts a large and active community, providing extensive resources, libraries, and frameworks, as well as support for learners. |\n",
            "```\n"
          ]
        }
      ]
    },
    {
      "cell_type": "code",
      "source": [
        "# exercise\n",
        "\n",
        "para_prompt = \"Compare electric cars and petrol cars.\"\n",
        "table_prompt = \"Compare electric cars and petrol cars as a markdown table with rows for cost, performance, and environmental impact.\"\n",
        "\n",
        "print(\"Paragraph Output:\\n\", ask_gpt(para_prompt))\n",
        "print(\"\\nTable Output:\\n\", ask_gpt(table_prompt))"
      ],
      "metadata": {
        "colab": {
          "base_uri": "https://localhost:8080/"
        },
        "id": "BmHl2yXeRHWg",
        "outputId": "fa2cfc4c-2797-428f-c34f-a8180fa26abf"
      },
      "execution_count": 6,
      "outputs": [
        {
          "output_type": "stream",
          "name": "stdout",
          "text": [
            "Paragraph Output:\n",
            " Comparing electric cars and petrol (gasoline) cars involves examining various factors, including environmental impact, performance, maintenance, range, refueling/recharging, and overall cost of ownership. Here’s a detailed comparison:\n",
            "\n",
            "### 1. **Environmental Impact**\n",
            "- **Electric Cars**: Generally produce zero tailpipe emissions, leading to reduced air pollution. The environmental impact depends on the source of electricity (renewable vs. fossil fuels) used for charging.\n",
            "- **Petrol Cars**: Emit greenhouse gases (GHGs) and other pollutants, contributing to air quality issues and climate change.\n",
            "\n",
            "### 2. **Performance**\n",
            "- **Electric Cars**: Offer instant torque, providing quick acceleration. They often have a lower center of gravity, improving handling. However, performance can vary widely among models.\n",
            "- **Petrol Cars**: Performance can vary based on engine size and type. Traditional petrol engines may provide a different driving experience, with a more familiar sound and feel for many drivers.\n",
            "\n",
            "### 3. **Maintenance**\n",
            "- **Electric Cars**: Typically have fewer moving parts and require less maintenance than petrol cars. They do not require oil changes, but battery health and software updates are essential.\n",
            "- **Petrol Cars**: Require regular maintenance, including oil changes, filter replacements, and exhaust system checks. Engine wear and tear are also considerations over time.\n",
            "\n",
            "### 4. **Range and Refueling/Recharging**\n",
            "- **Electric Cars**: Range varies by model, with many newer models offering over 200-300 miles on a single charge. Charging times can be longer than refueling petrol cars, with fast chargers providing quicker options.\n",
            "- **Petrol Cars**: Generally have a longer range on a full tank compared to many electric vehicles (EVs) and can be refueled in a few minutes at numerous gas stations.\n",
            "\n",
            "### 5. **Cost of Ownership**\n",
            "- **Electric Cars**: Generally have lower operating costs due to cheaper electricity compared to petrol prices. Incentives and tax credits can also offset the initial purchase price. However, replacement batteries can be costly.\n",
            "- **Petrol Cars**: Often have a lower upfront cost compared to electric cars. However, fuel and maintenance costs can add up over the vehicle's lifetime.\n",
            "\n",
            "### 6. **Infrastructure**\n",
            "- **Electric Cars**: Charging infrastructure is growing, but availability can vary, and home charging may not be feasible for all drivers. Urban areas often have better access to charging stations.\n",
            "- **Pet\n",
            "\n",
            "Table Output:\n",
            " Here's a comparison of electric cars and petrol cars in a markdown table format:\n",
            "\n",
            "| Feature              | Electric Cars                               | Petrol Cars                                  |\n",
            "|----------------------|--------------------------------------------|---------------------------------------------|\n",
            "| **Cost**             | Generally higher upfront cost; incentives available; lower maintenance costs | Lower upfront cost; higher fuel costs; more maintenance required |\n",
            "| **Performance**      | Instant torque; quieter operation; may have limited range depending on model | Good acceleration; range varies by fuel tank size; engine noise is more prominent |\n",
            "| **Environmental Impact** | Lower carbon emissions; renewable energy potential; battery production has environmental concerns | Higher carbon emissions; dependent on fossil fuels; impact from oil extraction and refining |\n",
            "\n",
            "Feel free to ask if you need more details on any specific aspect!\n"
          ]
        }
      ]
    },
    {
      "cell_type": "code",
      "source": [
        "# Principle 3 — Provide Examples (Few-Shot Prompting)\n",
        "# Goal: Show the AI what kind of response you expect.\n",
        "prompt = \"\"\"\n",
        "Classify each review as Positive or Negative.\n",
        "\n",
        "Review: \"Loved the coffee, will come again.\"\n",
        "Sentiment: Positive\n",
        "\n",
        "Review: \"Service was slow and unhelpful.\"\n",
        "Sentiment: Negative\n",
        "\n",
        "Review: \"The dessert was delicious and beautifully presented.\"\n",
        "Sentiment:\n",
        "\"\"\"\n",
        "print(ask_gpt(prompt))"
      ],
      "metadata": {
        "colab": {
          "base_uri": "https://localhost:8080/"
        },
        "id": "SnSUas7rRPhP",
        "outputId": "be9e7cdf-4c41-4a6a-ca38-b645684f3ad2"
      },
      "execution_count": 7,
      "outputs": [
        {
          "output_type": "stream",
          "name": "stdout",
          "text": [
            "Positive\n"
          ]
        }
      ]
    },
    {
      "cell_type": "code",
      "source": [
        "# exercise\n",
        "\n",
        "few_shot_prompt = \"\"\"\n",
        "Classify each movie review as Positive, Negative, or Neutral.\n",
        "\n",
        "Review: \"Amazing visuals and a heartwarming plot.\"\n",
        "Sentiment: Positive\n",
        "\n",
        "Review: \"Predictable storyline but decent acting.\"\n",
        "Sentiment: Neutral\n",
        "\n",
        "Review: \"I walked out halfway, it was terrible.\"\n",
        "Sentiment: Negative\n",
        "\n",
        "Review: \"The music was lovely but the pacing was too slow.\"\n",
        "Sentiment:\n",
        "\"\"\"\n",
        "\n",
        "print(ask_gpt(few_shot_prompt))"
      ],
      "metadata": {
        "colab": {
          "base_uri": "https://localhost:8080/"
        },
        "id": "8Ybx46ETRXKC",
        "outputId": "2d8790a8-35d6-4403-b193-e53478de94ce"
      },
      "execution_count": 8,
      "outputs": [
        {
          "output_type": "stream",
          "name": "stdout",
          "text": [
            "Neutral\n"
          ]
        }
      ]
    },
    {
      "cell_type": "code",
      "source": [
        "# Principle 4 — Evaluate Quality\n",
        "# Goal: Review the AI output and refine the prompt to improve quality.\n",
        "\n",
        "# 🎯 Student Task Flow:\n",
        "\n",
        "# Start with a prompt: \"Summarize this article about AI ethics.\"\n",
        "# Note missing details.\n",
        "# Add constraints: \"In 3 bullet points, mention challenges, risks, and solutions.\"\n",
        "# Compare before vs after.\n",
        "\n",
        "article = \"\"\"Artificial intelligence is transforming industries but raises ethical concerns such as bias in algorithms, job automation, and data privacy. Several companies and governments are proposing transparency laws and AI ethics training to address these challenges.\"\"\"\n",
        "# Initial vague prompt\n",
        "vague_sum = ask_gpt(f\"Summarize this article: {article}\")\n",
        "\n",
        "# Improved prompt\n",
        "refined_sum = ask_gpt(f\"Summarize this article in 3 bullet points covering (1) main challenges, (2) risks, (3) solutions: {article}\")\n",
        "\n",
        "print(\"Original Summary:\\n\", vague_sum)\n",
        "print(\"\\nRefined Summary:\\n\", refined_sum)"
      ],
      "metadata": {
        "colab": {
          "base_uri": "https://localhost:8080/"
        },
        "id": "9Hv0pJALRa6H",
        "outputId": "bf261e5b-3cf1-4117-aed4-7521c37d7423"
      },
      "execution_count": 9,
      "outputs": [
        {
          "output_type": "stream",
          "name": "stdout",
          "text": [
            "Original Summary:\n",
            " The article discusses the transformative impact of artificial intelligence on various industries while highlighting significant ethical concerns, including algorithmic bias, job automation, and data privacy issues. In response to these challenges, companies and governments are advocating for transparency laws and implementing AI ethics training to promote responsible AI use.\n",
            "\n",
            "Refined Summary:\n",
            " - **Main Challenges**: The integration of artificial intelligence across industries brings significant issues like algorithmic bias, the potential for job automation, and concerns over data privacy.\n",
            "\n",
            "- **Risks**: These challenges pose risks including discrimination in decision-making processes, job displacement for workers, and potential breaches of personal data security.\n",
            "\n",
            "- **Solutions**: To mitigate these risks, various companies and governments are advocating for transparency laws and implementing AI ethics training programs to promote responsible AI development and usage.\n"
          ]
        }
      ]
    },
    {
      "cell_type": "code",
      "source": [
        "# Principle 5 — Divide Labor (Break Down Complex Tasks)\n",
        "# Goal: Break a big request into smaller steps.\n",
        "# Step 1\n",
        "audience_analysis = ask_gpt(\"Describe the target audience for a fitness app in 3 bullet points.\")\n",
        "# Step 2\n",
        "social_media_strategy = ask_gpt(\"Create a social media strategy for the above audience in 5 bullet points.\")\n",
        "# Step 3\n",
        "content_calendar = ask_gpt(\"Propose a 1-month Instagram content calendar for the above strategy, in a table with date, post idea, and caption.\")\n",
        "\n",
        "print(\"Audience Analysis:\\n\", audience_analysis)\n",
        "print(\"\\nSocial Media Strategy:\\n\", social_media_strategy)\n",
        "print(\"\\nContent Calendar:\\n\", content_calendar)"
      ],
      "metadata": {
        "colab": {
          "base_uri": "https://localhost:8080/"
        },
        "id": "AwKPm4jZRmAZ",
        "outputId": "cef94edc-592d-43ed-f0b5-a94e0e74c634"
      },
      "execution_count": 10,
      "outputs": [
        {
          "output_type": "stream",
          "name": "stdout",
          "text": [
            "Audience Analysis:\n",
            " - **Health-Conscious Individuals**: People who are motivated to improve their physical health, maintain fitness, and adopt a healthier lifestyle, including beginners and seasoned fitness enthusiasts.\n",
            "\n",
            "- **Tech-Savvy Users**: Individuals comfortable with using smartphones and wearable technology to track their fitness progress and engage with interactive features, such as virtual workouts and community challenges.\n",
            "\n",
            "- **Goal-Oriented Users**: Those seeking specific fitness goals, such as weight loss, muscle gain, or preparing for an event, who appreciate personalized workout plans, tracking capabilities, and motivational support.\n",
            "\n",
            "Social Media Strategy:\n",
            " To create an effective social media strategy for your target audience, consider the following five bullet points:\n",
            "\n",
            "1. **Audience Research and Segmentation**: Conduct thorough research to understand the demographics, interests, and behaviors of your audience. Segment them into specific groups to tailor your content and messaging, ensuring that it resonates with each segment.\n",
            "\n",
            "2. **Content Creation and Curation**: Develop a diverse content calendar that includes educational posts, engaging visuals, user-generated content, and interactive formats like polls and quizzes. Focus on storytelling and authentic engagement to foster a deeper connection with your audience.\n",
            "\n",
            "3. **Platform Optimization**: Choose the right social media platforms based on where your audience spends their time. Optimize profiles with relevant keywords, high-quality visuals, and consistent branding. Utilize platform-specific features (like Stories, Reels, or Live sessions) to enhance visibility and engagement.\n",
            "\n",
            "4. **Community Engagement and Interaction**: Actively engage with your audience by responding to comments, messages, and mentions. Create opportunities for interaction through Q&A sessions, live chats, and community challenges to build a loyal and active online community.\n",
            "\n",
            "5. **Analytics and Adaptation**: Regularly monitor performance metrics using social media analytics tools to evaluate the effectiveness of your strategy. Analyze engagement rates, reach, and audience growth to refine your approach, testing different content types and posting times to optimize results. \n",
            "\n",
            "By following these steps, you can create a robust social media strategy that effectively reaches and engages your target audience.\n",
            "\n",
            "Content Calendar:\n",
            " Certainly! Below is a 1-month Instagram content calendar designed to engage your audience and promote your brand effectively. Each post idea includes a suggested caption.\n",
            "\n",
            "| Date       | Post Idea                            | Caption                                                          |\n",
            "|------------|-------------------------------------|------------------------------------------------------------------|\n",
            "| 1st        | Introduction Post                   | \"Welcome to our Instagram! 🎉 Here, we’ll share tips, inspiration, and the latest updates. Stay tuned! #Welcome\" |\n",
            "| 3rd        | Behind-the-Scenes                   | \"Ever wondered how we create our magic? ✨ Here’s a sneak peek behind the scenes! #BehindTheScenes\" |\n",
            "| 5th        | Customer Spotlight                   | \"Meet [Customer Name]! 🌟 We love seeing how you use our products. Tag us for a chance to be featured! #CustomerLove\" |\n",
            "| 7th        | Product Showcase                     | \"Say hello to our [Product Name]! 👋 Perfect for [describe its benefit]. Available now, link in bio! #ProductShowcase\" |\n",
            "| 10th       | Tip Tuesday                         | \"Tip Tuesday! 📝 Did you know that [insert useful tip related to your niche]? Save this post for later! #TipTuesday\" |\n",
            "| 12th       | User-Generated Content              | \"Shoutout to @username for this amazing photo! 📸 We love how you’re using our product! #UGC\" |\n",
            "| 15th       | Fun Poll or Quiz                    | \"Poll time! 🤔 What’s your favorite way to use our product? Vote in our stories! #Poll\" |\n",
            "| 17th       | Inspirational Quote                 | \"✨ 'Success is not the key to happiness. Happiness is the key to success.' – Albert Schweitzer #Inspiration\" |\n",
            "| 20th       | Tutorial Video                      | \"Check out our latest tutorial on how to use [Product Name]! 🎥 Link in bio! #Tutorial\" |\n",
            "| 22nd       | Seasonal Post (if applicable)      | \"Fall is here! 🍂 What’s your favorite fall activity? Share with us in the comments! #FallVibes\" |\n",
            "| 25th       | Giveaway Announcement               | \"🎉 GIVEAWAY ALERT! 🎉 We’re giving away [describe prize]. To enter: 1️⃣ Like this post 2️⃣ Tag 2 friends 3️⃣ Follow us!\" |\n",
            "| 27th       | Educational Content                 | \"\n"
          ]
        }
      ]
    }
  ]
}