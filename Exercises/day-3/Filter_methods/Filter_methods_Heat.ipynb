{
 "cells": [
  {
   "cell_type": "markdown",
   "id": "92263101",
   "metadata": {},
   "source": [
    "\n",
    "## Exercise 5: Correlation Matrix & Heatmap\n",
    "\n",
    "**Problem Description:**  \n",
    "Detect multicollinearity by identifying highly correlated feature pairs.\n",
    "\n",
    "**Solution Overview:**  \n",
    "Compute Pearson correlation matrix and visualize with heatmap.\n",
    "\n"
   ]
  },
  {
   "cell_type": "code",
   "execution_count": null,
   "id": "a7e43d58",
   "metadata": {
    "vscode": {
     "languageId": "plaintext"
    }
   },
   "outputs": [],
   "source": [
    "!pip install scikit-learn pandas matplotlib seaborn\n",
    "\n",
    "import pandas as pd\n",
    "import numpy as np\n",
    "import matplotlib.pyplot as plt\n",
    "from sklearn.datasets import load_iris\n",
    "from sklearn.feature_selection import VarianceThreshold"
   ]
  },
  {
   "cell_type": "code",
   "execution_count": null,
   "id": "a4d01941",
   "metadata": {
    "vscode": {
     "languageId": "plaintext"
    }
   },
   "outputs": [],
   "source": [
    "# 5.1 Compute correlation matrix\n",
    "corr = X.corr()"
   ]
  },
  {
   "cell_type": "code",
   "execution_count": null,
   "id": "07ff7e26",
   "metadata": {
    "vscode": {
     "languageId": "plaintext"
    }
   },
   "outputs": [],
   "source": [
    "# 5.2 Plot heatmap\n",
    "plt.figure(figsize=(6,5))\n",
    "sns.heatmap(corr, annot=True, cmap='coolwarm', vmin=-1, vmax=1)\n",
    "plt.title('Feature Correlation Matrix')\n",
    "plt.show()"
   ]
  },
  {
   "cell_type": "code",
   "execution_count": null,
   "id": "425df6e5",
   "metadata": {
    "vscode": {
     "languageId": "plaintext"
    }
   },
   "outputs": [],
   "source": [
    "# 5.3 Identify high-correlation pairs\n",
    "high_corr = [(i, j, corr.loc[i,j])\n",
    "for i in corr.columns for j in corr.columns\n",
    "if i != j and abs(corr.loc[i,j]) > 0.7 and i < j]\n",
    "print(\"Highly correlated pairs (|r|>0.7):\", high_corr)"
   ]
  },
  {
   "cell_type": "markdown",
   "id": "15ffc6f7",
   "metadata": {},
   "source": [
    "# Analysis\n",
    "- Identify pairs with |correlation| > 0.7.\n",
    "\n",
    "- Discuss multicollinearity implications.\n",
    "\n",
    "- Remove one feature from each high-correlation pair and retrain a simple model to observe performance change."
   ]
  },
  {
   "cell_type": "markdown",
   "id": "e4e14a08",
   "metadata": {},
   "source": [
    "# Exercise 5: Correlation & Heatmap\n",
    "## Analysis to Include in Code"
   ]
  },
  {
   "cell_type": "code",
   "execution_count": null,
   "id": "d3c49205",
   "metadata": {
    "vscode": {
     "languageId": "plaintext"
    }
   },
   "outputs": [],
   "source": [
    "# High-Correlation Pairs\n",
    "for i,j,r in high_corr:\n",
    "    print(f\"{i} ↔ {j}: r={r:.2f}\")\n"
   ]
  },
  {
   "cell_type": "code",
   "execution_count": null,
   "id": "eaf08272",
   "metadata": {
    "vscode": {
     "languageId": "plaintext"
    }
   },
   "outputs": [],
   "source": [
    "# Redundancy Impact\n",
    "\n",
    "drop = [i for i,j,_ in high_corr]\n",
    "X_reduced = X.drop(columns=drop)\n",
    "model = LogisticRegression(max_iter=200).fit(X_train[drop], y_train)\n",
    "print(\"Accuracy without redundant:\", accuracy_score(y_test, model.predict(X_test[drop])))\n"
   ]
  },
  {
   "cell_type": "code",
   "execution_count": null,
   "id": "7391d7e3",
   "metadata": {
    "vscode": {
     "languageId": "plaintext"
    }
   },
   "outputs": [],
   "source": [
    "# Partial Correlation (optional)\n",
    "import pingouin as pg\n",
    "pg.partial_corr(data=pd.concat([X, y.rename('target')], axis=1), x='sepal length (cm)', y='petal length (cm)', covar=['sepal width (cm)','petal width (cm)'])\n"
   ]
  }
 ],
 "metadata": {
  "language_info": {
   "name": "python"
  }
 },
 "nbformat": 4,
 "nbformat_minor": 5
}
