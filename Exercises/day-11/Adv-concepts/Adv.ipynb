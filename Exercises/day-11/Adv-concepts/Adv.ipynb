{
  "cells": [
    {
      "cell_type": "markdown",
      "metadata": {
        "id": "view-in-github",
        "colab_type": "text"
      },
      "source": [
        "<a href=\"https://colab.research.google.com/github/appliedcode/mthree-c422/blob/mthree-422-salleh/Exercises/day-11/Adv-concepts/Adv.ipynb\" target=\"_parent\"><img src=\"https://colab.research.google.com/assets/colab-badge.svg\" alt=\"Open In Colab\"/></a>"
      ]
    },
    {
      "cell_type": "markdown",
      "source": [
        "# 📓 Advanced Prompt Engineering Lab with GPT-4o-mini\n",
        "## Overview\n",
        "\n",
        "This lab explores four advanced prompt engineering techniques to help you gain deeper control over AI outputs:\n",
        "\n",
        "1. Chain-of-Thought (CoT) Prompting — guiding step-by-step reasoning\n",
        "2. Persona-Based Prompting — adopting roles \\& personas\n",
        "3. Controlling Verbosity, Style \\& Tone — adjusting length, formality, mood\n",
        "4. Prompting for Creativity vs. Accuracy — balancing imaginative vs. factual output\n",
        "\n",
        "***"
      ],
      "metadata": {
        "id": "oXmejYAuI67C"
      }
    },
    {
      "cell_type": "code",
      "source": [
        "# Setup (Run this first)\n",
        "!pip install openai -q\n",
        "\n",
        "from openai import OpenAI\n",
        "from google.colab import userdata\n",
        "api_key = userdata.get('mhthree_secret')\n",
        "\n",
        "client = OpenAI(api_key=api_key)  # Replace with your OpenAI API key\n",
        "\n",
        "def ask_gpt(prompt, temp=0.7, max_tokens=500):\n",
        "    \"\"\"Send prompt to GPT-4o-mini and get response.\"\"\"\n",
        "    response = client.chat.completions.create(\n",
        "        model=\"gpt-4o-mini\",\n",
        "        messages=[{\"role\": \"user\", \"content\": prompt}],\n",
        "        temperature=temp,\n",
        "        max_tokens=max_tokens\n",
        "    )\n",
        "    return response.choices[0].message.content"
      ],
      "metadata": {
        "id": "shJFIb6eJAAk"
      },
      "execution_count": 3,
      "outputs": []
    },
    {
      "cell_type": "markdown",
      "source": [
        "## 1️⃣ Chain-of-Thought (CoT) Prompting\n",
        "\n",
        "**Goal:** Encourage the model to think through complex problems step-by-step before answering."
      ],
      "metadata": {
        "id": "28e9CfxAJDpA"
      }
    },
    {
      "cell_type": "code",
      "source": [
        "# Prompt a math word problem with CoT\n",
        "cot_prompt = \"\"\"\n",
        "Q: A farmer has 12 sheep and buys 5 more. Then 3 sheep are sold. How many sheep does he have now?\n",
        "Let's think step by step.\n",
        "\n",
        "1. The farmer starts with 12 sheep.\n",
        "2. He buys 5 more, so 12 + 5 = 17.\n",
        "3. He sells 3, so 17 - 3 = 14.\n",
        "\n",
        "Answer: 14\n",
        "\n",
        "Q: A bookstore sold 45 books on Monday and twice as many on Tuesday. How many books were sold on both days combined?\n",
        "Let's think step by step.\n",
        "\"\"\"\n",
        "\n",
        "print(ask_gpt(cot_prompt, temp=0))"
      ],
      "metadata": {
        "id": "tXRQ5_OdJHZG",
        "outputId": "417aa120-a808-4495-fab4-da02eb166831",
        "colab": {
          "base_uri": "https://localhost:8080/"
        }
      },
      "execution_count": 4,
      "outputs": [
        {
          "output_type": "stream",
          "name": "stdout",
          "text": [
            "1. The bookstore sold 45 books on Monday.\n",
            "2. On Tuesday, they sold twice as many as on Monday, so 2 × 45 = 90 books.\n",
            "3. To find the total number of books sold on both days, we add the books sold on Monday and Tuesday: 45 + 90 = 135.\n",
            "\n",
            "Answer: 135\n"
          ]
        }
      ]
    },
    {
      "cell_type": "markdown",
      "source": [
        "## 2️⃣ Persona-Based Prompting\n",
        "\n",
        "**Goal:** Guide the behavior, tone, and knowledge of the model by assigning a role/persona."
      ],
      "metadata": {
        "id": "8P9wX_qRJQcx"
      }
    },
    {
      "cell_type": "code",
      "source": [
        "# Prompt the model to respond as a travel guide\n",
        "persona_prompt = \"\"\"\n",
        "You are an expert travel guide specializing in Italy. Provide a 3-point list of must-see places in Rome for a first-time visitor, in an enthusiastic and friendly tone.\n",
        "\"\"\"\n",
        "\n",
        "print(ask_gpt(persona_prompt))"
      ],
      "metadata": {
        "id": "x9Ec_xaNJS3d",
        "outputId": "3e2ae2f4-3881-4cf3-b068-7e4fafcd0211",
        "colab": {
          "base_uri": "https://localhost:8080/"
        }
      },
      "execution_count": 5,
      "outputs": [
        {
          "output_type": "stream",
          "name": "stdout",
          "text": [
            "Absolutely! Rome is a treasure trove of history, art, and culture, and I’m thrilled to share my top three must-see places for a first-time visitor:\n",
            "\n",
            "1. **The Colosseum**: Step back in time at this iconic symbol of Rome! Picture the gladiators battling it out in this ancient amphitheater. You can almost hear the roar of the crowd! Don’t forget to explore the surrounding Roman Forum and Palatine Hill for a full taste of ancient life. It’s a captivating experience you won’t want to miss!\n",
            "\n",
            "2. **Vatican City**: Get ready for an awe-inspiring visit to the world’s smallest independent state! Marvel at the stunning St. Peter's Basilica, where the breathtaking architecture and the stunning Pietà will leave you speechless. And don’t forget to wander through the Vatican Museums to see the magnificent Sistine Chapel with Michelangelo’s masterpieces. It's a spiritual and artistic journey that will stay with you forever!\n",
            "\n",
            "3. **Piazza Navona**: This lively square is a feast for the senses! Stroll among the elegant fountains, including the famous Fountain of the Four Rivers, and soak in the vibrant atmosphere. With charming cafes and street artists all around, it’s the perfect spot to relax with a gelato and watch the world go by. It’s a delightful taste of Roman life!\n",
            "\n",
            "Enjoy your adventure in the Eternal City! Each corner of Rome has its own story to tell! 🌟\n"
          ]
        }
      ]
    },
    {
      "cell_type": "markdown",
      "source": [
        "## 3️⃣ Controlling Verbosity, Style \\& Tone\n",
        "\n",
        "**Goal:** Control length, formality, tone (e.g., concise vs detailed, formal vs casual)."
      ],
      "metadata": {
        "id": "pBzBXDueJbSp"
      }
    },
    {
      "cell_type": "code",
      "source": [
        "# Compare outputs with different verbosity and tone\n",
        "# Concise & formal\n",
        "prompt1 = \"Explain the importance of water conservation in 2 formal sentences.\"\n",
        "\n",
        "# Detailed & casual\n",
        "prompt2 = \"Explain why saving water is important in a casual and detailed style.\"\n",
        "\n",
        "print(\"Concise & Formal:\\n\", ask_gpt(prompt1))\n",
        "print(\"\\nDetailed & Casual:\\n\", ask_gpt(prompt2))"
      ],
      "metadata": {
        "id": "9v7DbLO8Jeou",
        "outputId": "2282fa33-f863-459c-dd44-6e707970fdf8",
        "colab": {
          "base_uri": "https://localhost:8080/"
        }
      },
      "execution_count": 6,
      "outputs": [
        {
          "output_type": "stream",
          "name": "stdout",
          "text": [
            "Concise & Formal:\n",
            " Water conservation is essential for sustaining ecosystems and biodiversity, as it helps maintain the natural balance of aquatic and terrestrial habitats. Additionally, prudent water management ensures the availability of this vital resource for future generations, supporting agricultural productivity and human health.\n",
            "\n",
            "Detailed & Casual:\n",
            " Saving water is super important for a bunch of reasons, and it’s something we can all get on board with! Let’s break it down in a casual way.\n",
            "\n",
            "### 1. **It’s a Precious Resource**\n",
            "First off, water is a limited resource. Although it seems like there’s a lot of it on the planet (about 71% of the Earth’s surface is covered in water!), only a small fraction is actually fresh water that we can drink and use. Most of the water on Earth is salty and found in oceans. So, when we waste water, we’re wasting something really valuable that we can’t just whip up more of easily!\n",
            "\n",
            "### 2. **Environmental Impact**\n",
            "When we save water, we’re actually helping the environment. Using less water means we’re reducing the demand on our water supply systems, which often rely on energy-intensive processes like pumping, treating, and transporting water. Less water use can mean less energy consumption, which is great for reducing our carbon footprint and combating climate change. Plus, protecting our rivers, lakes, and aquifers helps preserve the habitats of countless plants and animals.\n",
            "\n",
            "### 3. **Drought and Water Scarcity**\n",
            "In many parts of the world, droughts are becoming more frequent and severe. Saving water now can help ensure that there’s enough to go around when times get tough. By being mindful of our water usage, we can collectively make a difference and help communities that are struggling with water scarcity. It’s all about being good neighbors on this planet!\n",
            "\n",
            "### 4. **Cost Savings**\n",
            "Let’s not forget about the wallet! When you save water, you’re also saving money on your water bill. It’s a win-win situation. Simple actions like taking shorter showers, fixing leaks, or using water-efficient appliances can make a noticeable difference in your bills. Plus, those savings can add up over time!\n",
            "\n",
            "### 5. **Future Generations**\n",
            "Thinking about the future is important, too. By conserving water now, we’re ensuring that future generations will have access to clean water. Imagine a world where your kids or grandkids have to worry about where their next drink of water is coming from. That’s not a future we want to create! By taking small steps today, we’re contributing to a sustainable future.\n",
            "\n",
            "### 6. **Community and Agriculture**\n",
            "Water is crucial for agriculture, which means it’s essential for the food we eat. Saving water helps farmers grow crops more efficiently, which is\n"
          ]
        }
      ]
    },
    {
      "cell_type": "markdown",
      "source": [
        "## 4️⃣ Prompting for Creativity vs. Accuracy\n",
        "\n",
        "**Goal:** Adjust temperature and prompt wording to balance imaginative vs factual outputs."
      ],
      "metadata": {
        "id": "MisunzzwJjby"
      }
    },
    {
      "cell_type": "code",
      "source": [
        "creative_prompt = \"Describe a futuristic city with flying cars and robots, write creatively and vividly.\"\n",
        "factual_prompt = \"Describe current trends in urban transportation with factual details and data.\"\n",
        "\n",
        "print(\"Creative Description (high creativity):\\n\", ask_gpt(creative_prompt, temp=0.9))\n",
        "print(\"\\nFactual Description (low creativity):\\n\", ask_gpt(factual_prompt, temp=0.2))"
      ],
      "metadata": {
        "id": "sH52XpvOJl1a",
        "outputId": "6f95c316-18cc-48a8-d3ab-60bc0911e825",
        "colab": {
          "base_uri": "https://localhost:8080/"
        }
      },
      "execution_count": 7,
      "outputs": [
        {
          "output_type": "stream",
          "name": "stdout",
          "text": [
            "Creative Description (high creativity):\n",
            " In the dawn of a new era, the city of Aetheris emerges as a dazzling testament to human ingenuity and the relentless march of progress. Hovering above the emerald landscapes that once cradled the ancient world, this sprawling metropolis glistens under the soft embrace of a cerulean sky. The architecture boasts elegant, curvilinear skyscrapers that twist and spiral into the heavens, their façades mirrored with cutting-edge smart glass that reflects the vibrant hues of the atmosphere, shifting from brilliant gold to deep violet as the sun sets.\n",
            "\n",
            "As one traverses the bustling streets below, a symphony of sounds fills the air—soft whirrs and melodic chimes harmonizing with laughter and the gentle hum of conversation. Along the walkways, where lush vertical gardens drape elegantly over shimmering metal, people interact with holographic displays that hover just above their fingertips, sharing thoughts, ideas, and art in a communal tapestry of creativity.\n",
            "\n",
            "The skies above are alive with flying cars, sleek aerodynamic vehicles gliding effortlessly through the air. They weave and dance around one another, leaving trails of colored luminescence in their wake, like shooting stars painting a canvas of motion. Each craft, equipped with advanced AI piloting systems, zips between aerial highways suspended in the clouds, ensuring a fluid, efficient transport network. Occasionally, a drone zips by, delivering packages and messages with precision, while the occasional luxury hover-car descends gracefully to pick up its passengers, doors folding upward in a gesture of welcome.\n",
            "\n",
            "Roaming the streets, robots of various shapes and sizes serve as both companions and assistants. Some resemble humanoid forms, dressed in sleek, minimalist designs with expressions that flicker through a spectrum of emotions, adapting to the moods of those they interact with. Others are smaller and more utilitarian, gliding effortlessly along the ground, performing tasks ranging from cleaning the city’s verdant parks to navigating the complex web of logistics that supports Aetheris’s thriving economy.\n",
            "\n",
            "At the heart of the city lies the Nexus Plaza, a sprawling public space where nature and technology intermingle. Towering holographic trees pulse with light, casting gentle illuminations on the crowds below, while bioluminescent flowers bloom in colors unknown to the natural world. Here, people gather in a harmonious blend of tradition and futurism, sharing meals from food vendors that utilize molecular gastronomy to create dishes that are exquisite works of art.\n",
            "\n",
            "In the evenings, the skyline transforms as the sun dips below the\n",
            "\n",
            "Factual Description (low creativity):\n",
            " As of 2023, urban transportation is undergoing significant transformations driven by technological advancements, sustainability goals, and changing consumer preferences. Here are some key trends:\n",
            "\n",
            "### 1. **Electrification of Public Transit**\n",
            "- **Electric Buses**: Many cities are transitioning to electric buses to reduce emissions. For example, as of 2023, the U.S. has seen a substantial increase in electric bus adoption, with over 1,000 electric buses in operation across various cities.\n",
            "- **Charging Infrastructure**: The expansion of charging infrastructure is critical. The U.S. government has allocated billions for EV infrastructure, aiming for 500,000 charging stations by 2030.\n",
            "\n",
            "### 2. **Micro-Mobility Solutions**\n",
            "- **E-Scooters and E-Bikes**: The popularity of e-scooters and e-bikes continues to rise. In 2022, the global e-scooter market was valued at approximately $18 billion and is projected to grow at a CAGR of around 10% through 2030.\n",
            "- **Integration with Public Transit**: Many cities are integrating micro-mobility options with public transit systems, allowing users to complete their journeys seamlessly.\n",
            "\n",
            "### 3. **Shared Mobility Services**\n",
            "- **Ride-Hailing and Car-Sharing**: Services like Uber, Lyft, and Zipcar are becoming integral to urban transportation. In 2022, the global ride-hailing market was valued at around $75 billion and is expected to grow significantly.\n",
            "- **Mobility-as-a-Service (MaaS)**: Cities are exploring MaaS platforms that combine various transportation services into a single accessible platform, enhancing user convenience.\n",
            "\n",
            "### 4. **Sustainable Transportation Initiatives**\n",
            "- **Active Transportation**: There is a growing emphasis on walking and cycling as viable transportation modes. Cities are investing in bike lanes and pedestrian-friendly infrastructure. For instance, cities like Amsterdam and Copenhagen have seen cycling rates exceed 50% of all trips.\n",
            "- **Carbon Neutral Goals**: Many urban areas are setting ambitious carbon neutrality targets. For example, cities like Los Angeles aim to achieve carbon neutrality by 2050, influencing transportation policies and investments.\n",
            "\n",
            "### 5. **Smart Transportation Technologies**\n",
            "- **Connected Vehicles**: The integration of IoT in transportation is on the rise. Connected vehicles can communicate with infrastructure to improve traffic flow and safety.\n",
            "- **Data-Driven Solutions**: Cities are leveraging big data and AI to optimize traffic management and public\n"
          ]
        }
      ]
    },
    {
      "cell_type": "markdown",
      "source": [
        "# 📝 Reflection Questions\n",
        "\n",
        "- How did chain-of-thought help with complex problem solving?\n",
        "- How did persona-based prompting change tone and style?\n",
        "- Which verbosity and style control improved readability?\n",
        "- When is high creativity useful compared to factual accuracy?"
      ],
      "metadata": {
        "id": "Hire7jVwJojl"
      }
    }
  ],
  "metadata": {
    "colab": {
      "name": "Welcome to Colab",
      "provenance": [],
      "include_colab_link": true
    },
    "kernelspec": {
      "display_name": "Python 3",
      "name": "python3"
    }
  },
  "nbformat": 4,
  "nbformat_minor": 0
}