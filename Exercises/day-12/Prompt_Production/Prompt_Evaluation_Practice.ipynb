{
  "nbformat": 4,
  "nbformat_minor": 0,
  "metadata": {
    "colab": {
      "provenance": [],
      "authorship_tag": "ABX9TyO0AYFINXtCuu4Kt+mWrSjH",
      "include_colab_link": true
    },
    "kernelspec": {
      "name": "python3",
      "display_name": "Python 3"
    },
    "language_info": {
      "name": "python"
    }
  },
  "cells": [
    {
      "cell_type": "markdown",
      "metadata": {
        "id": "view-in-github",
        "colab_type": "text"
      },
      "source": [
        "<a href=\"https://colab.research.google.com/github/appliedcode/mthree-c422/blob/mthree-c422-dipti/Exercises/day-12/Prompt_Production/Prompt_Evaluation_Practice.ipynb\" target=\"_parent\"><img src=\"https://colab.research.google.com/assets/colab-badge.svg\" alt=\"Open In Colab\"/></a>"
      ]
    },
    {
      "cell_type": "markdown",
      "source": [
        "\n",
        "## **Self‑Practice Problem Set – Prompt Integration \\& Performance Evaluation**\n",
        "\n",
        "***\n",
        "\n",
        "### **Section 1 – Integrating Prompts in Applications and Pipelines**\n",
        "\n",
        "**Problem 1 – Multi‑Stage Prompt Pipeline**\n",
        "\n",
        "- Design a two‑step pipeline where:\n",
        "\n",
        "1. The first prompt summarizes an article.\n",
        "2. The second prompt takes that summary and generates 3 quiz questions.\n",
        "- Implement a function that automatically feeds the output of step 1 as the input to step 2.\n",
        "- Test with at least two different articles to ensure reusability.\n",
        "\n",
        "***\n",
        "\n",
        "**Problem 2 – Role‑Switching in Prompt Pipelines**\n",
        "\n",
        "- Create a small application where the AI can operate in two distinct roles:\n",
        "\n",
        "1. As a **technical explainer** (breaking a topic into bullet points).\n",
        "2. As a **motivational mentor** (giving encouragement on the same topic).\n",
        "- Implement a role selector in code so the same base question can be processed in either role.\n",
        "\n",
        "***\n",
        "\n",
        "**Problem 3 – Prompt Version Control Simulation**\n",
        "\n",
        "- Store three versions of a prompt for a travel chatbot:\n",
        "    - Version 1: Minimal instructions\n",
        "    - Version 2: More detailed instructions\n",
        "    - Version 3: Includes examples (few‑shot)\n",
        "- Write code to allow “switching” versions dynamically via a variable or function parameter.\n",
        "- Compare outputs for the same test queries.\n",
        "\n",
        "***\n",
        "\n",
        "### **Section 2 – Prompt Performance Measurement and Evaluation**\n",
        "\n",
        "**Problem 4 – Keyword‑Based Scoring**\n",
        "\n",
        "- Choose a test prompt (e.g., “Explain how photosynthesis works”).\n",
        "- Define a set of 5 keywords you expect in the response.\n",
        "- Write a function to:\n",
        "    - Run the prompt.\n",
        "    - Score the output based on how many expected keywords appear.\n",
        "- Display a “keyword match score” for each run.\n",
        "\n",
        "***\n",
        "\n",
        "**Problem 5 – Response Length Evaluation**\n",
        "\n",
        "- For a given prompt, run it at least 3 times.\n",
        "- Record the **word count** for each output.\n",
        "- Calculate:\n",
        "    - Average length.\n",
        "    - Minimum and maximum length.\n",
        "- Reflect on whether differences in length affect clarity.\n",
        "\n",
        "***\n",
        "\n",
        "**Problem 6 – Consistency Measurement**\n",
        "\n",
        "- Run the same prompt 5 times with the same parameters.\n",
        "- Compare each output’s similarity using a text‑matching approach (e.g., `difflib.SequenceMatcher`).\n",
        "- Calculate an average **consistency score**.\n",
        "- Decide if the current prompt is “stable” or needs refinement.\n",
        "\n",
        "***\n",
        "\n",
        "**Problem 7 – Simulated User Feedback Loop**\n",
        "\n",
        "- Create a simple rating system where after each AI response, a “user” assigns a rating from 1–5 (manually or randomly).\n",
        "- Store prompt, response excerpt, and rating in a log.\n",
        "- At the end, output the **average rating per prompt version** to identify better‑performing prompts.\n",
        "\n",
        "***\n",
        "\n",
        "**Problem 8 – Latency Tracking for Prompt Performance**\n",
        "\n",
        "- Time how long the API takes to return a response for each prompt call.\n",
        "- Record:\n",
        "    - Prompt text\n",
        "    - Response time\n",
        "    - Word count of output\n",
        "- Plot or print the trade‑off between latency and length, noting any patterns.\n",
        "\n",
        "***\n",
        "\n",
        "### **📌 Instructions for Students**\n",
        "\n",
        "For each problem:\n",
        "\n",
        "1. Implement the code in Google Colab.\n",
        "2. Try with at least **two different prompts or datasets**.\n",
        "3. For performance evaluation tasks, **capture metrics** (keywords, similarity, latency) and store results in a dictionary or DataFrame.\n",
        "4. At the end, write a short reflection on:\n",
        "    - What prompt style worked best?\n",
        "    - Which metrics were most useful for evaluation?\n",
        "    - What trade‑offs you noticed between detail, speed, and consistency.\n",
        "\n",
        "***\n"
      ],
      "metadata": {
        "id": "UPv7KmrB6XiD"
      }
    },
    {
      "cell_type": "code",
      "execution_count": 1,
      "metadata": {
        "colab": {
          "base_uri": "https://localhost:8080/"
        },
        "id": "vFxFIsG56WXv",
        "outputId": "62794b2e-9f4e-4d3f-eb5d-a03e908a47c0"
      },
      "outputs": [
        {
          "output_type": "stream",
          "name": "stdout",
          "text": [
            "✅ OpenAI client ready\n"
          ]
        }
      ],
      "source": [
        "!pip install --quiet openai\n",
        "\n",
        "from google.colab import userdata\n",
        "import os, time\n",
        "from openai import OpenAI\n",
        "\n",
        "api_key = userdata.get(\"OPENAI_API_KEY\")\n",
        "if not api_key:\n",
        "    raise ValueError(\"❌ API key not found. Please set it in Colab Secrets (userdata).\")\n",
        "\n",
        "os.environ[\"OPENAI_API_KEY\"] = api_key\n",
        "client = OpenAI()\n",
        "print(\"✅ OpenAI client ready\")"
      ]
    },
    {
      "cell_type": "code",
      "source": [
        "def get_ai_response(prompt, model=\"gpt-4o-mini\", temperature=0.7):\n",
        "    try:\n",
        "        start_time = time.time()\n",
        "        resp = client.chat.completions.create(\n",
        "            model=model,\n",
        "            messages=[{\"role\": \"user\", \"content\": prompt}],\n",
        "            temperature=temperature\n",
        "        )\n",
        "        latency = time.time() - start_time\n",
        "        return resp.choices[0].message.content.strip(), latency\n",
        "    except Exception as e:\n",
        "        return f\"Error: {e}\", None"
      ],
      "metadata": {
        "id": "U-4q41MO6sUt"
      },
      "execution_count": 2,
      "outputs": []
    },
    {
      "cell_type": "code",
      "source": [
        "# Step 1: Summarize article\n",
        "article = \"\"\"\n",
        "Artificial intelligence is being used to improve renewable energy efficiency.\n",
        "Smart algorithms help predict electricity demand, optimize grid usage,\n",
        "and integrate solar and wind power into existing infrastructure.\n",
        "\"\"\"\n",
        "\n",
        "summary_prompt = f\"Summarize this article in 2 concise sentences:\\n\\n{article}\"\n",
        "summary, _ = get_ai_response(summary_prompt)\n",
        "print(\"Summary:\", summary, \"\\n\")\n",
        "\n",
        "# Step 2: Generate quiz questions from summary\n",
        "quiz_prompt = f\"From this summary, generate 3 quiz questions:\\n\\n{summary}\"\n",
        "quiz, _ = get_ai_response(quiz_prompt)\n",
        "print(\"Quiz Questions:\\n\", quiz)"
      ],
      "metadata": {
        "colab": {
          "base_uri": "https://localhost:8080/"
        },
        "id": "lUUq9I0f6vDO",
        "outputId": "e90f2ae5-d205-45d4-c3aa-baa332ef006f"
      },
      "execution_count": 3,
      "outputs": [
        {
          "output_type": "stream",
          "name": "stdout",
          "text": [
            "Summary: Artificial intelligence is enhancing renewable energy efficiency by utilizing smart algorithms to forecast electricity demand and optimize grid operations. These advancements facilitate the integration of solar and wind power into existing energy infrastructure. \n",
            "\n",
            "Quiz Questions:\n",
            " 1. How is artificial intelligence improving renewable energy efficiency according to the summary?\n",
            "   \n",
            "2. What role do smart algorithms play in the integration of renewable energy sources like solar and wind power into existing energy infrastructure?\n",
            "\n",
            "3. In what ways do advancements in AI contribute to the optimization of grid operations?\n"
          ]
        }
      ]
    },
    {
      "cell_type": "code",
      "source": [
        "base_question = \"Explain the importance of cybersecurity for small businesses.\"\n",
        "\n",
        "role_explainer = f\"You are a technical explainer. Break the following topic into bullet points:\\n{base_question}\"\n",
        "role_coach = f\"You are a motivational mentor. Encourage the reader to learn about:\\n{base_question}\"\n",
        "\n",
        "print(\"=== Technical Explainer ===\")\n",
        "print(get_ai_response(role_explainer)[0], \"\\n\")\n",
        "\n",
        "print(\"=== Motivational Mentor ===\")\n",
        "print(get_ai_response(role_coach)[0])"
      ],
      "metadata": {
        "colab": {
          "base_uri": "https://localhost:8080/"
        },
        "id": "WoiFuX-D6yZf",
        "outputId": "c21758c9-c79c-4c2f-9cc6-97bfb0aeac4c"
      },
      "execution_count": 4,
      "outputs": [
        {
          "output_type": "stream",
          "name": "stdout",
          "text": [
            "=== Technical Explainer ===\n",
            "### Importance of Cybersecurity for Small Businesses\n",
            "\n",
            "- **Protection of Sensitive Data**\n",
            "  - Safeguards customer information, financial records, and proprietary business data.\n",
            "  - Reduces the risk of data breaches that can compromise personal and financial information.\n",
            "\n",
            "- **Maintaining Customer Trust**\n",
            "  - Builds and maintains customer confidence in the business.\n",
            "  - Customers are more likely to engage with businesses that demonstrate robust cybersecurity practices.\n",
            "\n",
            "- **Compliance with Regulations**\n",
            "  - Helps meet legal and regulatory requirements for data protection (e.g., GDPR, HIPAA).\n",
            "  - Avoids penalties and fines associated with non-compliance.\n",
            "\n",
            "- **Prevention of Financial Loss**\n",
            "  - Minimizes the risk of financial losses due to cyberattacks, fraud, or operational disruptions.\n",
            "  - Protects against costs related to recovery, legal fees, and reputational damage.\n",
            "\n",
            "- **Business Continuity**\n",
            "  - Ensures that business operations can continue smoothly in the event of a cyber incident.\n",
            "  - Involves having incident response plans and recovery strategies in place.\n",
            "\n",
            "- **Defending Against Evolving Threats**\n",
            "  - Cyber threats are constantly changing; small businesses need to stay updated on the latest risks.\n",
            "  - Regularly updated cybersecurity measures can protect against new vulnerabilities and attack methods.\n",
            "\n",
            "- **Competitive Advantage**\n",
            "  - Demonstrating strong cybersecurity can differentiate a small business from its competitors.\n",
            "  - Can be marketed as a selling point to attract security-conscious customers.\n",
            "\n",
            "- **Employee Awareness and Training**\n",
            "  - Promotes a culture of cybersecurity awareness among employees.\n",
            "  - Trained employees are less likely to fall victim to phishing attacks or other social engineering tactics.\n",
            "\n",
            "- **Cost-Effectiveness**\n",
            "  - Investing in cybersecurity measures can be more cost-effective than dealing with the aftermath of a cyber incident.\n",
            "  - Tailored solutions for small businesses can provide necessary protections without breaking the bank.\n",
            "\n",
            "- **Vendor and Partner Relationships**\n",
            "  - Many vendors and partners require businesses to have cybersecurity measures in place before engaging in contracts.\n",
            "  - Enhances business relationships and opens up new opportunities in collaborative projects.\n",
            "\n",
            "- **Reputation Management**\n",
            "  - Protects the business's reputation, which is crucial for long-term success.\n",
            "  - A single significant breach can lead to lasting damage to a brand's image. \n",
            "\n",
            "By prioritizing cybersecurity, small businesses can not only protect their assets and customers but also create a sustainable and resilient operational framework. \n",
            "\n",
            "=== Motivational Mentor ===\n",
            "Absolutely! Let’s dive into the vital world of cybersecurity, especially for small businesses. \n",
            "\n",
            "In today’s digital age, the internet opens up endless opportunities, but it also exposes us to significant risks. For small businesses, the stakes are particularly high. Many may think that cybersecurity is only a concern for larger corporations, but the truth is, small businesses are often prime targets for cybercriminals. Here’s why understanding cybersecurity is not just important, but essential for your business’s success and longevity.\n",
            "\n",
            "### 1. **Protect Your Assets**\n",
            "Your business data—customer information, financial records, and intellectual property—is invaluable. A single data breach can lead to devastating financial losses, reputational damage, and loss of customer trust. By investing in cybersecurity measures, you’re safeguarding not just your data, but the very foundation of your business.\n",
            "\n",
            "### 2. **Build Customer Trust**\n",
            "Customers want to know that their information is safe. By demonstrating a commitment to cybersecurity, you build trust with your clients. This trust can be a competitive advantage, helping you to retain existing customers and attract new ones. When customers feel secure, they are more likely to engage with your business.\n",
            "\n",
            "### 3. **Compliance and Legal Protection**\n",
            "Many industries have regulations regarding data protection. Understanding cybersecurity helps you ensure compliance with these laws, avoiding hefty fines and legal issues. It’s not just about protecting your business; it’s about adhering to standards that protect your customers as well.\n",
            "\n",
            "### 4. **Enhance Operational Resilience**\n",
            "Cyberattacks can disrupt operations, leading to downtime that can cost your business dearly. By implementing robust cybersecurity protocols, you enhance your business’s resilience against potential attacks, ensuring that you can continue to operate smoothly even in the face of threats.\n",
            "\n",
            "### 5. **Stay Ahead of Evolving Threats**\n",
            "Cyber threats are constantly evolving, and staying informed about the latest trends in cybersecurity is crucial. By educating yourself and your team, you can proactively address vulnerabilities before they become significant issues. This mindset not only protects your business but also fosters a culture of awareness and responsibility.\n",
            "\n",
            "### 6. **Empower Your Team**\n",
            "Investing in cybersecurity education empowers your employees to recognize and respond to potential threats. A well-informed team is your first line of defense. Encourage them to be vigilant and proactive, fostering a workplace culture that prioritizes security.\n",
            "\n",
            "### 7. **Cost-Effective Solutions**\n",
            "Many small businesses mistakenly believe that cybersecurity solutions are too expensive. However, there are numerous affordable options available that can significantly reduce your risk. By prioritizing cybersecurity, you’re not just spending money; you’re making a wise investment in the future of your business.\n",
            "\n",
            "### 8. **Drive Growth with Confidence**\n",
            "When you have a solid cybersecurity strategy in place, you can focus on what truly matters: growing your business. With peace of mind regarding your digital security, you can channel your energy into innovation and expansion, knowing you have a protective shield around your operations.\n",
            "\n",
            "In conclusion, the importance of cybersecurity for small businesses cannot be overstated. It’s not merely an IT issue; it’s a crucial business strategy that impacts every aspect of your operations. Take the time to learn about cybersecurity, invest in the right tools and training, and create a culture of security within your organization. By doing so, you’re not just protecting your business; you’re positioning it for success in an increasingly digital world. Embrace the challenge, and empower yourself and your business to thrive!\n"
          ]
        }
      ]
    },
    {
      "cell_type": "code",
      "source": [
        "prompt_v1 = \"Give travel tips for visiting Japan.\"\n",
        "prompt_v2 = \"You are a travel assistant. Suggest 3 budget-friendly travel tips for Japan.\"\n",
        "prompt_v3 = \"\"\"You are a helpful travel assistant.\n",
        "Example:\n",
        "1. Visit free attractions like parks\n",
        "2. Eat at local markets\n",
        "3. Use public transport\n",
        "Now give 3 budget-friendly Japan travel tips in similar style.\"\"\"\n",
        "\n",
        "versions = [prompt_v1, prompt_v2, prompt_v3]\n",
        "\n",
        "for i, pv in enumerate(versions, 1):\n",
        "    print(f\"--- Version {i} ---\")\n",
        "    print(get_ai_response(pv)[0], \"\\n\")"
      ],
      "metadata": {
        "colab": {
          "base_uri": "https://localhost:8080/"
        },
        "id": "v8_4BjqP60-G",
        "outputId": "31c341a4-8f1d-415d-d04f-4a334d6ad7bf"
      },
      "execution_count": 5,
      "outputs": [
        {
          "output_type": "stream",
          "name": "stdout",
          "text": [
            "--- Version 1 ---\n",
            "Visiting Japan can be a wonderful experience filled with rich culture, delicious food, and breathtaking sights. Here are some travel tips to help you make the most of your trip:\n",
            "\n",
            "### 1. **Learn Basic Japanese Phrases**\n",
            "   - While many Japanese people speak some English, learning basic phrases like \"arigato\" (thank you), \"sumimasen\" (excuse me/sorry), and \"konnichiwa\" (hello) can go a long way in showing respect for the culture.\n",
            "\n",
            "### 2. **Get a Japan Rail Pass**\n",
            "   - If you plan to travel between cities, consider purchasing a Japan Rail Pass. It allows unlimited travel on most JR trains, including the Shinkansen (bullet train), for a set number of days.\n",
            "\n",
            "### 3. **Use Public Transportation**\n",
            "   - Japan has an extensive and efficient public transportation system. Familiarize yourself with local trains, subways, and buses. Apps like Hyperdia can help you navigate routes and schedules.\n",
            "\n",
            "### 4. **Cash is King**\n",
            "   - While credit cards are becoming more accepted, many places still prefer cash. Always carry yen, especially in rural areas and small shops. ATMs at convenience stores like 7-Eleven and FamilyMart typically accept foreign cards.\n",
            "\n",
            "### 5. **Respect Local Customs**\n",
            "   - Always bow when greeting someone, remove your shoes when entering someone's home or certain traditional accommodations, and be mindful of noise levels in public spaces.\n",
            "\n",
            "### 6. **Try Local Cuisine**\n",
            "   - Don't miss out on regional specialties. From sushi in Tokyo to okonomiyaki in Osaka and ramen in Fukuoka, be adventurous with your food choices. Visit local markets and street vendors for authentic experiences.\n",
            "\n",
            "### 7. **Stay Connected**\n",
            "   - Consider renting a portable Wi-Fi device or purchasing a SIM card for your phone. This will help you navigate, translate, and stay connected with family and friends.\n",
            "\n",
            "### 8. **Visit Temples and Shrines**\n",
            "   - Japan is home to many stunning temples and shrines. Be respectful when visiting, and familiarize yourself with the etiquette, such as purification rituals and prayer methods.\n",
            "\n",
            "### 9. **Take Advantage of Tourist Information Centers**\n",
            "   - Located in major cities and tourist areas, these centers offer maps, brochures, and helpful staff who can provide advice on attractions and transportation.\n",
            "\n",
            "### 10. **Be Mindful of Public Behavior**\n",
            "   - Maintain a quiet demeanor on public transport, avoid speaking on the phone in public places, and follow any specific rules at attractions, such as photography restrictions.\n",
            "\n",
            "### 11. **Experience Traditional Accommodations**\n",
            "   - Consider staying at a ryokan (traditional inn) for a unique experience. Enjoy tatami mats, futon bedding, and often a traditional kaiseki meal.\n",
            "\n",
            "### 12. **Plan for Seasonal Weather**\n",
            "   - Japan experiences distinct seasons. Check the weather for the time of your visit and pack appropriately. Cherry blossoms bloom in spring, while autumn offers stunning foliage.\n",
            "\n",
            "### 13. **Explore Beyond Major Cities**\n",
            "   - While Tokyo, Kyoto, and Osaka are must-visit cities, don’t overlook off-the-beaten-path locations like Nara, Takayama, and the Japanese Alps for a different perspective on Japan.\n",
            "\n",
            "### 14. **Use Convenience Stores**\n",
            "   - Japanese convenience stores (konbini) offer a wide variety of affordable and delicious food options, making them great for quick meals or snacks.\n",
            "\n",
            "### 15. **Have Fun with Onsen Etiquette**\n",
            "   - If you visit an onsen (hot spring), be aware of the bathing etiquette. Clean yourself thoroughly before entering the communal baths, and remember that tattoos may be frowned upon in some places.\n",
            "\n",
            "### 16. **Stay Hydrated and Connected**\n",
            "   - Carry a reusable water bottle as many places have water fountains. Convenience stores also sell bottled water at reasonable prices.\n",
            "\n",
            "### 17. **Take Advantage of Seasonal Festivals**\n",
            "   - Japan hosts numerous festivals throughout the year. Check local calendars to experience unique cultural events, parades, and traditional performances.\n",
            "\n",
            "By keeping these tips in mind, you'll be better prepared to navigate Japan's unique culture and enjoy all that this beautiful country has to offer! \n",
            "\n",
            "--- Version 2 ---\n",
            "Absolutely! Here are three budget-friendly travel tips for Japan:\n",
            "\n",
            "1. **Use a Japan Rail Pass**: If you plan to travel between cities, consider purchasing a Japan Rail Pass before your trip. This pass allows unlimited travel on most JR trains, including the Shinkansen (bullet trains), for a set number of days. It can save you a significant amount of money compared to buying individual tickets, especially for long-distance travel.\n",
            "\n",
            "2. **Eat Like a Local**: Japan offers a variety of affordable dining options. Look for konbini (convenience stores), which offer a wide range of delicious and inexpensive meals, including bento boxes, onigiri (rice balls), and sandwiches. Additionally, local ramen shops, curry houses, and supermarkets often have reasonably priced meals. Exploring street food stalls is another great way to enjoy authentic cuisine without breaking the bank.\n",
            "\n",
            "3. **Stay in Budget Accommodations**: Instead of hotels, consider staying in hostels, guesthouses, or capsule hotels, which can be much more affordable. Many of these options offer shared facilities and a chance to meet other travelers. Additionally, look for accommodations that allow you to cook your meals, which can further help you save on food expenses.\n",
            "\n",
            "By using these tips, you can enjoy the beauty and culture of Japan while keeping your travel costs low! \n",
            "\n",
            "--- Version 3 ---\n",
            "1. Explore free shrines and temples, many of which offer stunning architecture and beautiful gardens without an entrance fee.  \n",
            "2. Try affordable street food at local vendors or convenience stores for a taste of authentic Japanese cuisine on a budget.  \n",
            "3. Utilize Japan's extensive train system with a Japan Rail Pass to save on transportation costs while traveling between cities. \n",
            "\n"
          ]
        }
      ]
    },
    {
      "cell_type": "code",
      "source": [
        "from collections import Counter\n",
        "\n",
        "prompt = \"Explain how photosynthesis works.\"\n",
        "expected_keywords = [\"photosynthesis\", \"sunlight\", \"chlorophyll\", \"glucose\", \"oxygen\"]\n",
        "\n",
        "response, _ = get_ai_response(prompt)\n",
        "print(\"Response:\\n\", response, \"\\n\")\n",
        "\n",
        "score = sum(1 for kw in expected_keywords if kw.lower() in response.lower())\n",
        "print(f\"Keyword Match Score: {score}/{len(expected_keywords)}\")"
      ],
      "metadata": {
        "colab": {
          "base_uri": "https://localhost:8080/"
        },
        "id": "nsmxml6L63f1",
        "outputId": "508c9888-f5c3-4cb6-9451-928bcc4bc14e"
      },
      "execution_count": 6,
      "outputs": [
        {
          "output_type": "stream",
          "name": "stdout",
          "text": [
            "Response:\n",
            " Photosynthesis is a biochemical process through which green plants, algae, and some bacteria convert light energy into chemical energy stored in glucose. This process plays a crucial role in the Earth's ecosystem, as it produces oxygen and serves as the foundation for the food chain.\n",
            "\n",
            "### Key Components of Photosynthesis:\n",
            "1. **Light Energy**: Primarily from the sun.\n",
            "2. **Chlorophyll**: A green pigment found in chloroplasts that captures light energy.\n",
            "3. **Water (H₂O)**: Absorbed by plant roots from the soil.\n",
            "4. **Carbon Dioxide (CO₂)**: Taken from the atmosphere through tiny openings in leaves called stomata.\n",
            "\n",
            "### The Process of Photosynthesis:\n",
            "Photosynthesis occurs mainly in two stages: the light-dependent reactions and the light-independent reactions (Calvin cycle).\n",
            "\n",
            "#### 1. Light-Dependent Reactions:\n",
            "- **Location**: Thylakoid membranes of the chloroplasts.\n",
            "- **Process**:\n",
            "  - When chlorophyll absorbs sunlight, it energizes electrons, which are then transferred through a series of proteins known as the electron transport chain.\n",
            "  - This energy is used to split water molecules (photolysis) into oxygen, protons, and electrons. The oxygen is released as a byproduct.\n",
            "  - The energized electrons help generate ATP (adenosine triphosphate) and NADPH (nicotinamide adenine dinucleotide phosphate), which are energy carriers.\n",
            "\n",
            "#### 2. Light-Independent Reactions (Calvin Cycle):\n",
            "- **Location**: Stroma of the chloroplasts.\n",
            "- **Process**:\n",
            "  - The ATP and NADPH produced in the light-dependent reactions are used to convert carbon dioxide from the atmosphere into glucose through a series of reactions.\n",
            "  - The primary enzyme involved in this process is RuBisCO, which catalyzes the fixation of CO₂.\n",
            "  - The cycle ultimately produces glucose (C₆H₁₂O₆), which can be used by the plant for energy or stored as starch for later use.\n",
            "\n",
            "### Overall Chemical Equation:\n",
            "The overall equation for photosynthesis can be summarized as:\n",
            "\\[ 6 \\, \\text{CO}_2 + 6 \\, \\text{H}_2\\text{O} + \\text{light energy} \\rightarrow \\text{C}_6\\text{H}_{12}\\text{O}_6 + 6 \\, \\text{O}_2 \\]\n",
            "This indicates that six molecules of carbon dioxide and six molecules of water, using light energy, produce one molecule of glucose and six molecules of oxygen.\n",
            "\n",
            "### Importance of Photosynthesis:\n",
            "- **Oxygen Production**: It is the primary source of atmospheric oxygen, essential for the survival of most living organisms.\n",
            "- **Food Source**: It forms the basis of the food chain, as plants are primary producers.\n",
            "- **Carbon Dioxide Utilization**: Helps regulate atmospheric CO₂ levels, thus contributing to climate stability.\n",
            "\n",
            "In summary, photosynthesis is a vital process that not only fuels plant life but also supports life on Earth by producing oxygen and serving as the basis for the food web. \n",
            "\n",
            "Keyword Match Score: 5/5\n"
          ]
        }
      ]
    },
    {
      "cell_type": "code",
      "source": [
        "runs = [get_ai_response(\"What are the benefits of exercise?\")[0] for _ in range(3)]\n",
        "lengths = [len(r.split()) for r in runs]\n",
        "\n",
        "for i, r in enumerate(runs, 1):\n",
        "    print(f\"Run {i} length: {lengths[i-1]} words\")\n",
        "\n",
        "print(\"Average length:\", sum(lengths) / len(lengths))\n",
        "print(\"Min length:\", min(lengths))\n",
        "print(\"Max length:\", max(lengths))"
      ],
      "metadata": {
        "colab": {
          "base_uri": "https://localhost:8080/"
        },
        "id": "elVEojB366Hd",
        "outputId": "5d48dc36-be6f-49c0-a057-7048ca622405"
      },
      "execution_count": 7,
      "outputs": [
        {
          "output_type": "stream",
          "name": "stdout",
          "text": [
            "Run 1 length: 377 words\n",
            "Run 2 length: 378 words\n",
            "Run 3 length: 370 words\n",
            "Average length: 375.0\n",
            "Min length: 370\n",
            "Max length: 378\n"
          ]
        }
      ]
    },
    {
      "cell_type": "code",
      "source": [
        "import difflib\n",
        "\n",
        "prompt = \"Define cloud computing.\"\n",
        "responses = [get_ai_response(prompt)[0] for _ in range(5)]\n",
        "\n",
        "scores = []\n",
        "for i in range(len(responses) - 1):\n",
        "    sim = difflib.SequenceMatcher(None, responses[i], responses[i+1]).ratio()\n",
        "    scores.append(sim)\n",
        "    print(f\"Similarity Run {i+1} vs Run {i+2}: {sim:.2f}\")\n",
        "\n",
        "print(\"Average similarity:\", sum(scores) / len(scores))"
      ],
      "metadata": {
        "colab": {
          "base_uri": "https://localhost:8080/"
        },
        "id": "EQ-H4SRv6_PT",
        "outputId": "c90b7c80-f668-4b62-b0d3-f6d9ffbfa7de"
      },
      "execution_count": 8,
      "outputs": [
        {
          "output_type": "stream",
          "name": "stdout",
          "text": [
            "Similarity Run 1 vs Run 2: 0.89\n",
            "Similarity Run 2 vs Run 3: 1.00\n",
            "Similarity Run 3 vs Run 4: 0.02\n",
            "Similarity Run 4 vs Run 5: 0.01\n",
            "Average similarity: 0.48106511788670714\n"
          ]
        }
      ]
    },
    {
      "cell_type": "code",
      "source": [
        "import random\n",
        "\n",
        "prompt_versions = [\n",
        "    \"Explain blockchain in simple terms.\",\n",
        "    \"Explain blockchain in simple terms with a real-world analogy.\"\n",
        "]\n",
        "\n",
        "log = []\n",
        "\n",
        "for pv in prompt_versions:\n",
        "    response, _ = get_ai_response(pv)\n",
        "    rating = random.randint(1, 5)  # Simulated feedback\n",
        "    log.append({\"prompt\": pv, \"excerpt\": response[:60], \"rating\": rating})\n",
        "\n",
        "for entry in log:\n",
        "    print(entry)\n",
        "\n",
        "avg_ratings = {}\n",
        "for pv in prompt_versions:\n",
        "    ratings = [e[\"rating\"] for e in log if e[\"prompt\"] == pv]\n",
        "    avg_ratings[pv] = sum(ratings) / len(ratings)\n",
        "\n",
        "print(\"Average ratings:\", avg_ratings)"
      ],
      "metadata": {
        "colab": {
          "base_uri": "https://localhost:8080/"
        },
        "id": "b7i3Nqyd7Bd-",
        "outputId": "3d6b4bc8-eed2-4fd2-ceb4-7bfe10fbe396"
      },
      "execution_count": 9,
      "outputs": [
        {
          "output_type": "stream",
          "name": "stdout",
          "text": [
            "{'prompt': 'Explain blockchain in simple terms.', 'excerpt': \"Error: Error code: 429 - {'error': {'message': 'Rate limit r\", 'rating': 1}\n",
            "{'prompt': 'Explain blockchain in simple terms with a real-world analogy.', 'excerpt': 'Sure! Think of blockchain like a public library that everyon', 'rating': 5}\n",
            "Average ratings: {'Explain blockchain in simple terms.': 1.0, 'Explain blockchain in simple terms with a real-world analogy.': 5.0}\n"
          ]
        }
      ]
    },
    {
      "cell_type": "code",
      "source": [
        "test_prompts = [\n",
        "    \"Summarize the plot of Romeo and Juliet in 2 sentences.\",\n",
        "    \"Write a 200-word essay on climate change impacts.\"\n",
        "]\n",
        "\n",
        "for p in test_prompts:\n",
        "    resp, latency = get_ai_response(p)\n",
        "    print(f\"Prompt: {p}\")\n",
        "    if latency is not None:\n",
        "        print(f\"Latency: {latency:.2f} sec | Word count: {len(resp.split())}\")\n",
        "    else:\n",
        "        print(f\"Error: {resp}\")\n",
        "    print()"
      ],
      "metadata": {
        "colab": {
          "base_uri": "https://localhost:8080/"
        },
        "id": "r50vTcS67D_T",
        "outputId": "2b2e8835-5252-4f28-b8b1-4db236b27314"
      },
      "execution_count": 12,
      "outputs": [
        {
          "output_type": "stream",
          "name": "stdout",
          "text": [
            "Prompt: Summarize the plot of Romeo and Juliet in 2 sentences.\n",
            "Error: Error: Error code: 429 - {'error': {'message': 'Rate limit reached for gpt-4o-mini in organization org-PXo9R2TUiiTEAM2j0VKjrIlU on requests per day (RPD): Limit 200, Used 200, Requested 1. Please try again in 7m12s. Visit https://platform.openai.com/account/rate-limits to learn more. You can increase your rate limit by adding a payment method to your account at https://platform.openai.com/account/billing.', 'type': 'requests', 'param': None, 'code': 'rate_limit_exceeded'}}\n",
            "\n",
            "Prompt: Write a 200-word essay on climate change impacts.\n",
            "Error: Error: Error code: 429 - {'error': {'message': 'Rate limit reached for gpt-4o-mini in organization org-PXo9R2TUiiTEAM2j0VKjrIlU on requests per min (RPM): Limit 3, Used 3, Requested 1. Please try again in 20s. Visit https://platform.openai.com/account/rate-limits to learn more. You can increase your rate limit by adding a payment method to your account at https://platform.openai.com/account/billing.', 'type': 'requests', 'param': None, 'code': 'rate_limit_exceeded'}}\n",
            "\n"
          ]
        }
      ]
    }
  ]
}