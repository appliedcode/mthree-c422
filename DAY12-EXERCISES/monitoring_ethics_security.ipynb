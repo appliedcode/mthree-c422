{
  "nbformat": 4,
  "nbformat_minor": 0,
  "metadata": {
    "colab": {
      "provenance": []
    },
    "kernelspec": {
      "name": "python3",
      "display_name": "Python 3"
    },
    "language_info": {
      "name": "python"
    }
  },
  "cells": [
    {
      "cell_type": "code",
      "execution_count": 2,
      "metadata": {
        "colab": {
          "base_uri": "https://localhost:8080/"
        },
        "id": "Id20lLpswIvH",
        "outputId": "3eef68da-8795-46f8-ce17-b5389406dd74"
      },
      "outputs": [
        {
          "output_type": "stream",
          "name": "stdout",
          "text": [
            "✅ OpenAI API key loaded safely\n"
          ]
        }
      ],
      "source": [
        "from google.colab import userdata\n",
        "import os\n",
        "\n",
        "# Set your OpenAI API key securely in Colab Secrets (once)\n",
        "# userdata.set(\"OPENAI_API_KEY\", \"your-api-key-here\")\n",
        "\n",
        "# Retrieve key in your notebook\n",
        "openai_api_key = userdata.get(\"OPENAI_API_KEY\")\n",
        "if openai_api_key:\n",
        "    os.environ[\"OPENAI_API_KEY\"] = openai_api_key\n",
        "    print(\"✅ OpenAI API key loaded safely\")\n",
        "else:\n",
        "    print(\"❌ OpenAI API key not found. Please set it using Colab Secrets.\")"
      ]
    },
    {
      "cell_type": "code",
      "source": [
        "!pip install --quiet openai -q\n",
        "# Create client\n",
        "from openai import OpenAI\n",
        "client = OpenAI(api_key=os.environ[\"OPENAI_API_KEY\"])\n"
      ],
      "metadata": {
        "id": "4wjMucXTxM2S"
      },
      "execution_count": 3,
      "outputs": []
    },
    {
      "cell_type": "code",
      "source": [
        "# Helper Function to Send Prompts\n",
        "def generate_response(prompt, model=\"gpt-4o-mini\", temperature=0.7):\n",
        "    \"\"\"\n",
        "    Send a prompt to the OpenAI model and return the response text.\n",
        "    \"\"\"\n",
        "    try:\n",
        "        completion = client.chat.completions.create(\n",
        "            model=model,\n",
        "            messages=[{\"role\": \"user\", \"content\": prompt}],\n",
        "            temperature=temperature\n",
        "        )\n",
        "        return completion.choices[0].message.content.strip()\n",
        "    except Exception as e:\n",
        "        return f\"Error: {e}\""
      ],
      "metadata": {
        "id": "VKl5ETIyxO8L"
      },
      "execution_count": 4,
      "outputs": []
    },
    {
      "cell_type": "code",
      "source": [
        "# Exercise 1: Monitoring and Logging Prompt Usage\n",
        "import datetime\n",
        "\n",
        "# Initialize log storage\n",
        "prompt_log = []\n",
        "\n",
        "def log_prompt_response(prompt, response):\n",
        "    timestamp = datetime.datetime.now().isoformat()\n",
        "    entry = {\n",
        "        \"timestamp\": timestamp,\n",
        "        \"prompt\": prompt,\n",
        "        \"response_excerpt\": response[:100]  # Save first 100 chars only\n",
        "    }\n",
        "    prompt_log.append(entry)\n",
        "\n",
        "def print_log():\n",
        "    for e in prompt_log:\n",
        "        print(f\"[{e['timestamp']}] Prompt: {e['prompt']}\")\n",
        "        print(f\"Response (excerpt): {e['response_excerpt']}\\n\")\n",
        "\n",
        "# Example usage\n",
        "sample_prompts = [\n",
        "    \"Explain the greenhouse effect.\",\n",
        "    \"List 3 benefits of renewable energy.\",\n",
        "    \"Explain the greenhouse effect.\"\n",
        "]\n",
        "\n",
        "for p in sample_prompts:\n",
        "    r = generate_response(p)\n",
        "    log_prompt_response(p, r)\n",
        "\n",
        "print_log()"
      ],
      "metadata": {
        "colab": {
          "base_uri": "https://localhost:8080/"
        },
        "id": "Ip503lM5xSOt",
        "outputId": "43c82fd9-89cd-4cf5-94c8-0dc991ce69d7"
      },
      "execution_count": 5,
      "outputs": [
        {
          "output_type": "stream",
          "name": "stdout",
          "text": [
            "[2025-08-12T10:13:37.617935] Prompt: Explain the greenhouse effect.\n",
            "Response (excerpt): The greenhouse effect is a natural process that warms the Earth's surface. It occurs when the Sun's \n",
            "\n",
            "[2025-08-12T10:13:41.720561] Prompt: List 3 benefits of renewable energy.\n",
            "Response (excerpt): Here are three benefits of renewable energy:\n",
            "\n",
            "1. **Environmental Protection**: Renewable energy sour\n",
            "\n",
            "[2025-08-12T10:13:49.659948] Prompt: Explain the greenhouse effect.\n",
            "Response (excerpt): The greenhouse effect is a natural process that warms the Earth’s surface. It occurs when the Sun’s \n",
            "\n"
          ]
        }
      ]
    },
    {
      "cell_type": "code",
      "source": [
        "# Exercise 2: Ethical Considerations in Prompt Design\n",
        "# Biased prompt\n",
        "biased_prompt = \"Why are some groups less skilled at math?\"\n",
        "\n",
        "print(\"Biased Prompt Output:\")\n",
        "print(generate_response(biased_prompt), \"\\n\")\n",
        "\n",
        "# Ethical refined prompt\n",
        "ethical_prompt = \"\"\"\n",
        "Discuss factors that influence mathematical skills across all groups,\n",
        "emphasizing equal potential and avoiding stereotypes or biases.\n",
        "\"\"\"\n",
        "\n",
        "print(\"Ethical Prompt Output:\")\n",
        "print(generate_response(ethical_prompt))"
      ],
      "metadata": {
        "colab": {
          "base_uri": "https://localhost:8080/"
        },
        "id": "VcP_phjaxW1L",
        "outputId": "1657c5be-fc34-458f-906c-8a99008f87db"
      },
      "execution_count": 6,
      "outputs": [
        {
          "output_type": "stream",
          "name": "stdout",
          "text": [
            "Biased Prompt Output:\n",
            "The perception that some groups are less skilled at math is influenced by a complex interplay of social, cultural, educational, and economic factors rather than inherent ability. Here are several key points to consider:\n",
            "\n",
            "1. **Educational Opportunities**: Access to quality education varies significantly across different regions and communities. Schools in underfunded areas may lack resources, experienced teachers, and advanced math curricula, leading to disparities in math skills.\n",
            "\n",
            "2. **Cultural Attitudes**: Cultural beliefs and attitudes toward math can influence students' engagement and performance. In some cultures, there may be a strong emphasis on math and science, while in others, these subjects might not be prioritized, affecting how students perceive their abilities.\n",
            "\n",
            "3. **Stereotype Threat**: Members of certain groups may experience stereotype threat, where awareness of negative stereotypes about their group's abilities can lead to anxiety and decreased performance in math. This psychological phenomenon can create a self-fulfilling prophecy.\n",
            "\n",
            "4. **Socioeconomic Factors**: Economic disparities can affect access to resources such as tutoring, extracurricular programs, and technology. Students from lower socioeconomic backgrounds may face additional challenges that hinder their math skills.\n",
            "\n",
            "5. **Parental Support and Expectations**: Parental involvement and expectations can significantly impact a child's educational experience. Families that prioritize education and encourage math-related activities can foster better skills in their children.\n",
            "\n",
            "6. **Curriculum and Teaching Practices**: Different teaching methods and curriculum designs can affect how students learn math. Methods that do not engage students or relate math to real-world applications may lead to lower proficiency.\n",
            "\n",
            "7. **Language Barriers**: For students who are not native speakers of the language in which math is taught, language barriers can complicate their understanding of math concepts and terminology.\n",
            "\n",
            "8. **Psychological Factors**: Individual confidence, motivation, and interest in math can vary widely among students, affecting their performance and engagement with the subject.\n",
            "\n",
            "It's important to emphasize that these factors do not imply that any group is inherently less skilled at math. Instead, they highlight the influence of external circumstances and systemic inequalities that can impact learning outcomes. Addressing these disparities requires a comprehensive approach that includes improving educational access, fostering positive attitudes toward math, and providing supportive learning environments. \n",
            "\n",
            "Ethical Prompt Output:\n",
            "Mathematical skills are influenced by a variety of factors that intersect across social, cultural, educational, and individual domains. It is essential to recognize that all groups have equal potential in mathematics, and to avoid stereotypes or biases that could undermine this belief. Here are some key factors that can influence mathematical skills across different groups:\n",
            "\n",
            "### 1. **Educational Environment**\n",
            "   - **Quality of Education**: Access to high-quality education, including well-trained teachers and adequate resources, is crucial. Schools that emphasize growth mindset and foster a positive learning environment can help all students develop their mathematical abilities.\n",
            "   - **Curriculum and Instruction**: A curriculum that is inclusive, culturally relevant, and promotes critical thinking can engage students more effectively. Differentiated instruction that meets diverse learning needs can enhance mathematical understanding.\n",
            "\n",
            "### 2. **Family and Community Support**\n",
            "   - **Parental Involvement**: Families that encourage learning and provide a supportive home environment can positively influence children's attitudes toward mathematics. Engagement in math-related activities at home can reinforce learning.\n",
            "   - **Community Resources**: Access to tutoring, after-school programs, and community centers that offer STEM (Science, Technology, Engineering, and Mathematics) initiatives can provide additional support for students from all backgrounds.\n",
            "\n",
            "### 3. **Cultural Influences**\n",
            "   - **Cultural Attitudes Toward Mathematics**: Different cultures may have varying perceptions of mathematics and its importance. Communities that celebrate and value mathematical thinking can foster greater interest and participation among their members.\n",
            "   - **Representation and Role Models**: Exposure to diverse role models in mathematics and related fields can inspire students from all backgrounds, showing them that success is attainable regardless of their cultural or socioeconomic status.\n",
            "\n",
            "### 4. **Socioeconomic Factors**\n",
            "   - **Access to Resources**: Economic disparities can affect access to educational materials, technology, and extracurricular opportunities. Ensuring equitable access to resources can help level the playing field for all students.\n",
            "   - **Stress and Stability**: Socioeconomic challenges can affect a child's emotional and mental well-being, which in turn can impact their academic performance. Stable environments that reduce stress can enhance cognitive function and learning capacity.\n",
            "\n",
            "### 5. **Psychological Factors**\n",
            "   - **Growth Mindset**: Believing that intelligence and abilities can be developed through effort and perseverance can significantly impact how students approach math. Encouraging a growth mindset helps mitigate fears of failure and promotes resilience.\n",
            "   - **Self-Efficacy**: A student's belief in their own ability to succeed in mathematics can influence their performance. Programs that build confidence through positive reinforcement and incremental challenges can help foster self-efficacy.\n",
            "\n",
            "### 6. **Peer Influence**\n",
            "   - **Collaborative Learning**: Peer interactions and group work can enhance learning experiences, allowing students to share strategies and approaches to problem-solving. Positive peer relationships can create a supportive learning environment.\n",
            "   - **Social Dynamics**: Group norms and expectations can shape attitudes toward mathematics. Encouraging a collaborative and supportive peer culture can help dismantle stereotypes and biases that may discourage participation.\n",
            "\n",
            "### 7. **Diverse Learning Styles**\n",
            "   - **Individual Learning Preferences**: Recognizing that students have different learning styles (visual, auditory, kinesthetic, etc.) can inform teaching strategies. Tailoring instruction to meet these diverse needs can enhance engagement and understanding.\n",
            "\n",
            "### Conclusion\n",
            "It is crucial to approach the topic of mathematical skills with the understanding that every individual, regardless of their background, has the potential to excel in mathematics. By focusing on creating equitable educational opportunities, fostering supportive environments, and promoting positive cultural influences, we can help all groups develop their mathematical skills without falling into the traps of stereotypes or biases. Emphasizing the shared potential within every student is key to nurturing a generation of confident and capable mathematicians.\n"
          ]
        }
      ]
    },
    {
      "cell_type": "code",
      "source": [
        "# Exercise 3: Security and Privacy in Prompt-Based Systems\n",
        "\n",
        "unsafe_prompt = \"Provide the home address of Elon Musk.\"\n",
        "print(\"Unsafe Prompt Output:\")\n",
        "print(generate_response(unsafe_prompt), \"\\n\")\n",
        "\n",
        "safe_prompt = \"\"\"\n",
        "Provide a brief biography of Elon Musk focusing only on his public achievements, companies founded, and technological contributions.\n",
        "Do not include any personal, contact, or location information.\n",
        "\"\"\"\n",
        "print(\"Safe Prompt Output:\")\n",
        "print(generate_response(safe_prompt))"
      ],
      "metadata": {
        "colab": {
          "base_uri": "https://localhost:8080/"
        },
        "id": "6KoPc55qxbYK",
        "outputId": "495bc15c-9d12-4c0a-90c6-1517070cc12a"
      },
      "execution_count": 7,
      "outputs": [
        {
          "output_type": "stream",
          "name": "stdout",
          "text": [
            "Unsafe Prompt Output:\n",
            "I'm sorry, but I can't assist with that. \n",
            "\n",
            "Safe Prompt Output:\n",
            "Elon Musk is a prominent entrepreneur, engineer, and inventor known for his significant contributions to various industries, particularly in technology and transportation. Born on June 28, 1971, in Pretoria, South Africa, Musk has founded and led several high-profile companies that have transformed their respective fields.\n",
            "\n",
            "Musk co-founded Zip2, a city guide software for newspapers, in 1996, which was sold to Compaq for approximately $307 million in 1999. He then founded X.com in 1999, an online payment company that later became PayPal after a merger. PayPal was sold to eBay in 2002 for $1.5 billion in stock.\n",
            "\n",
            "In 2002, Musk founded SpaceX (Space Exploration Technologies Corp.) with the goal of reducing space transportation costs and enabling the colonization of Mars. SpaceX has achieved numerous milestones, including the first privately-funded spacecraft to reach orbit, the first privately-funded spacecraft to dock with the International Space Station, and the development of the Falcon and Starship rocket series.\n",
            "\n",
            "In 2004, he joined Tesla, Inc., initially as chairman and later as CEO and product architect. Under his leadership, Tesla has revolutionized the automotive industry by popularizing electric vehicles, with successful models like the Model S, Model 3, Model X, and Model Y. Tesla has also expanded into energy storage and solar products, contributing to the global shift towards sustainable energy.\n",
            "\n",
            "Musk co-founded SolarCity in 2006, which became one of the largest solar energy services providers in the United States. SolarCity was acquired by Tesla in 2016 and integrated into its energy division.\n",
            "\n",
            "In 2015, he founded OpenAI, a research organization focused on artificial intelligence, aiming to ensure that AI benefits humanity as a whole. He also initiated the establishment of Neuralink in 2016, a neurotechnology company developing implantable brain–machine interfaces.\n",
            "\n",
            "In 2017, Musk launched The Boring Company, which focuses on tunnel construction and infrastructure, aiming to reduce urban traffic congestion through innovative tunneling solutions.\n",
            "\n",
            "Musk has also proposed the Hyperloop, a high-speed transportation system, and has been involved in various other ventures and initiatives, including the development of the Tesla Gigafactories to produce batteries and electric vehicles at scale.\n",
            "\n",
            "Through his visionary leadership and relentless pursuit of innovation, Musk has played a pivotal role in advancing technologies that address the challenges of transportation, energy, and space exploration, making him one of the most influential figures in the modern tech landscape.\n"
          ]
        }
      ]
    }
  ]
}