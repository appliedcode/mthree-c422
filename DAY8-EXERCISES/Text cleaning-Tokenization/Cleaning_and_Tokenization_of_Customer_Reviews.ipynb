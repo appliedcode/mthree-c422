{
  "nbformat": 4,
  "nbformat_minor": 0,
  "metadata": {
    "colab": {
      "provenance": []
    },
    "kernelspec": {
      "name": "python3",
      "display_name": "Python 3"
    },
    "language_info": {
      "name": "python"
    }
  },
  "cells": [
    {
      "cell_type": "code",
      "execution_count": 12,
      "metadata": {
        "colab": {
          "base_uri": "https://localhost:8080/"
        },
        "id": "q7cPkXaEgkea",
        "outputId": "870cde8f-dc6f-4752-8e36-8233ba5ca07e"
      },
      "outputs": [
        {
          "output_type": "stream",
          "name": "stderr",
          "text": [
            "[nltk_data] Downloading package punkt to /root/nltk_data...\n",
            "[nltk_data]   Package punkt is already up-to-date!\n"
          ]
        },
        {
          "output_type": "stream",
          "name": "stdout",
          "text": [
            "\u001b[38;5;2m✔ Download and installation successful\u001b[0m\n",
            "You can now load the package via spacy.load('en_core_web_sm')\n",
            "\u001b[38;5;3m⚠ Restart to reload dependencies\u001b[0m\n",
            "If you are in a Jupyter or Colab notebook, you may need to restart Python in\n",
            "order to load all the package's dependencies. You can do this by selecting the\n",
            "'Restart kernel' or 'Restart runtime' option.\n"
          ]
        }
      ],
      "source": [
        "# Install required libraries\n",
        "!pip install --quiet nltk spacy beautifulsoup4\n",
        "\n",
        "# Download NLTK and spaCy data\n",
        "import nltk\n",
        "nltk.download('punkt')\n",
        "import spacy\n",
        "spacy.cli.download(\"en_core_web_sm\")\n"
      ]
    },
    {
      "cell_type": "code",
      "source": [
        "# setup-> review dataset\n",
        "reviews = [\n",
        "  \"Absolutely LOVED this product!!! Will buy again 😊 Visit http://shop.example.com\",\n",
        "  \"Worst purchase ever... arrived broken, no response from support @helpdesk\",\n",
        "  \"Ok quality; does the job. 5/5 stars! #satisfied\",\n",
        "  \"Email me at user@example.org for details about bulk order!!!\",\n",
        "  \"Super overpriced!! Paid $299 but performance is meh...\",\n",
        "  \"<div>Great build quality</div><p>But shipping was slow</p>\",\n",
        "  \"Contact: +44 20 7946 0958 or (020)79460958\",\n",
        "  \"MixedCASE and random123numbers and symbols %^&*\",\n",
        "  \"Line1\\nLine2\\tTabbed text\\r\\nEnd of review\",\n",
        "  \"Contractions—can't, won't, shouldn't—are common here.\"\n",
        "]\n"
      ],
      "metadata": {
        "id": "3n7d6VPshGWD"
      },
      "execution_count": 13,
      "outputs": []
    },
    {
      "cell_type": "code",
      "source": [
        "# cleaning functions\n",
        "import re\n",
        "from bs4 import BeautifulSoup\n",
        "\n",
        "def clean_review(text):\n",
        "    # Remove URLs\n",
        "    text = re.sub(r'http\\S+', '', text)\n",
        "\n",
        "    # Remove email addresses\n",
        "    text = re.sub(r'\\S+@\\S+', '', text)\n",
        "\n",
        "    # Remove HTML tags\n",
        "    text = BeautifulSoup(text, \"html.parser\").get_text()\n",
        "\n",
        "    # Remove phone numbers\n",
        "    text = re.sub(r'\\+?\\d[\\d\\s().-]{7,}\\d', '', text)\n",
        "\n",
        "    # Remove mentions and hashtags\n",
        "    text = re.sub(r'[@#]\\w+', '', text)\n",
        "\n",
        "    # Remove special characters (but keep apostrophes and whitespace)\n",
        "    text = re.sub(r\"[^\\w\\s']\", '', text)\n",
        "\n",
        "    # Normalize whitespace and lowercase\n",
        "    text = re.sub(r'\\s+', ' ', text).strip().lower()\n",
        "\n",
        "    return text\n",
        "\n",
        "# Apply cleaning\n",
        "cleaned_reviews = [clean_review(r) for r in reviews]\n",
        "cleaned_reviews\n"
      ],
      "metadata": {
        "colab": {
          "base_uri": "https://localhost:8080/"
        },
        "id": "CosZ_p1chQF_",
        "outputId": "a8a3959a-669f-4456-b200-3a63582e181b"
      },
      "execution_count": 14,
      "outputs": [
        {
          "output_type": "execute_result",
          "data": {
            "text/plain": [
              "['absolutely loved this product will buy again visit',\n",
              " 'worst purchase ever arrived broken no response from support',\n",
              " 'ok quality does the job 55 stars',\n",
              " 'email me at for details about bulk order',\n",
              " 'super overpriced paid 299 but performance is meh',\n",
              " 'great build qualitybut shipping was slow',\n",
              " 'contact or',\n",
              " 'mixedcase and random123numbers and symbols',\n",
              " 'line1 line2 tabbed text end of review',\n",
              " \"contractionscan't won't shouldn'tare common here\"]"
            ]
          },
          "metadata": {},
          "execution_count": 14
        }
      ]
    },
    {
      "cell_type": "code",
      "source": [
        "sample = cleaned_reviews[0]\n",
        "print(\"Cleaned Sample Review:\", sample)"
      ],
      "metadata": {
        "colab": {
          "base_uri": "https://localhost:8080/"
        },
        "id": "foVloIrwhWMN",
        "outputId": "466201c3-951f-45c0-b1a2-793f0fbd5a18"
      },
      "execution_count": 16,
      "outputs": [
        {
          "output_type": "stream",
          "name": "stdout",
          "text": [
            "Cleaned Sample Review: absolutely loved this product will buy again visit\n"
          ]
        }
      ]
    },
    {
      "cell_type": "markdown",
      "source": [
        "Tokenization methods"
      ],
      "metadata": {
        "id": "lnM33dd7hmQ0"
      }
    },
    {
      "cell_type": "code",
      "source": [
        "import nltk\n",
        "import spacy\n",
        "import re\n",
        "from nltk.tokenize import word_tokenize\n",
        "\n",
        "# Download required NLTK data\n",
        "nltk.download('punkt')\n",
        "nltk.download('punkt_tab')\n",
        "\n",
        "# Load spaCy model\n",
        "nlp = spacy.load(\"en_core_web_sm\")\n",
        "\n",
        "# Sample cleaned review (you'll need to replace this with your actual data)\n",
        "sample_review = \"absolutely loved this product will buy again visit\"\n",
        "print(\"Cleaned Sample Review:\\n\", sample_review)\n",
        "\n",
        "# 1. Split() method\n",
        "split_tokens = sample_review.split()\n",
        "print(\"\\nSplit() Tokens:\", split_tokens)\n",
        "\n",
        "# 2. NLTK word_tokenize\n",
        "nltk_tokens = word_tokenize(sample_review)\n",
        "print(\"\\nNLTK Tokens:\", nltk_tokens)\n",
        "\n",
        "# 3. spaCy Tokenizer\n",
        "spacy_tokens = [token.text for token in nlp(sample_review)]\n",
        "print(\"\\nspaCy Tokens:\", spacy_tokens)\n",
        "\n",
        "# 4. Regex-based tokenizer\n",
        "regex_tokens = re.findall(r\"\\b\\w[\\w']*\\b\", sample_review)\n",
        "print(\"\\nRegex Tokens:\", regex_tokens)\n",
        "\n",
        "# Compare the results\n",
        "print(\"\\n\" + \"=\"*50)\n",
        "print(\"COMPARISON OF TOKENIZATION METHODS\")\n",
        "print(\"=\"*50)\n",
        "print(f\"Split() method: {len(split_tokens)} tokens\")\n",
        "print(f\"NLTK method: {len(nltk_tokens)} tokens\")\n",
        "print(f\"spaCy method: {len(spacy_tokens)} tokens\")\n",
        "print(f\"Regex method: {len(regex_tokens)} tokens\")\n",
        "\n",
        "# Test with a more complex example\n",
        "complex_review = \"Don't you think this product's amazing? It's worth $29.99!\"\n",
        "print(f\"\\n\\nTesting with complex text: '{complex_review}'\")\n",
        "print(\"\\nSplit():\", complex_review.split())\n",
        "print(\"NLTK:\", word_tokenize(complex_review))\n",
        "print(\"spaCy:\", [token.text for token in nlp(complex_review)])\n",
        "print(\"Regex:\", re.findall(r\"\\b\\w[\\w']*\\b\", complex_review))"
      ],
      "metadata": {
        "colab": {
          "base_uri": "https://localhost:8080/"
        },
        "id": "aSADYfEJhiqW",
        "outputId": "f4931e8b-c86b-4669-848d-f1df15aa1acb"
      },
      "execution_count": 19,
      "outputs": [
        {
          "output_type": "stream",
          "name": "stderr",
          "text": [
            "[nltk_data] Downloading package punkt to /root/nltk_data...\n",
            "[nltk_data]   Package punkt is already up-to-date!\n",
            "[nltk_data] Downloading package punkt_tab to /root/nltk_data...\n",
            "[nltk_data]   Unzipping tokenizers/punkt_tab.zip.\n"
          ]
        },
        {
          "output_type": "stream",
          "name": "stdout",
          "text": [
            "Cleaned Sample Review:\n",
            " absolutely loved this product will buy again visit\n",
            "\n",
            "Split() Tokens: ['absolutely', 'loved', 'this', 'product', 'will', 'buy', 'again', 'visit']\n",
            "\n",
            "NLTK Tokens: ['absolutely', 'loved', 'this', 'product', 'will', 'buy', 'again', 'visit']\n",
            "\n",
            "spaCy Tokens: ['absolutely', 'loved', 'this', 'product', 'will', 'buy', 'again', 'visit']\n",
            "\n",
            "Regex Tokens: ['absolutely', 'loved', 'this', 'product', 'will', 'buy', 'again', 'visit']\n",
            "\n",
            "==================================================\n",
            "COMPARISON OF TOKENIZATION METHODS\n",
            "==================================================\n",
            "Split() method: 8 tokens\n",
            "NLTK method: 8 tokens\n",
            "spaCy method: 8 tokens\n",
            "Regex method: 8 tokens\n",
            "\n",
            "\n",
            "Testing with complex text: 'Don't you think this product's amazing? It's worth $29.99!'\n",
            "\n",
            "Split(): [\"Don't\", 'you', 'think', 'this', \"product's\", 'amazing?', \"It's\", 'worth', '$29.99!']\n",
            "NLTK: ['Do', \"n't\", 'you', 'think', 'this', 'product', \"'s\", 'amazing', '?', 'It', \"'s\", 'worth', '$', '29.99', '!']\n",
            "spaCy: ['Do', \"n't\", 'you', 'think', 'this', 'product', \"'s\", 'amazing', '?', 'It', \"'s\", 'worth', '$', '29.99', '!']\n",
            "Regex: [\"Don't\", 'you', 'think', 'this', \"product's\", 'amazing', \"It's\", 'worth', '29', '99']\n"
          ]
        }
      ]
    },
    {
      "cell_type": "code",
      "source": [
        "# Tokenize All Reviews (Using Regex Tokenizer)\n",
        "from collections import Counter\n",
        "\n",
        "# Tokenize all cleaned reviews using regex\n",
        "all_tokens = []\n",
        "for review in cleaned_reviews:\n",
        "    tokens = re.findall(r\"\\b\\w[\\w']*\\b\", review)\n",
        "    all_tokens.extend(tokens)\n",
        "\n",
        "# Count token frequency\n",
        "token_freq = Counter(all_tokens)\n",
        "token_freq.most_common(10)"
      ],
      "metadata": {
        "colab": {
          "base_uri": "https://localhost:8080/"
        },
        "id": "poX9lztwhxY2",
        "outputId": "f16485d5-77b9-49d5-9b76-e7fd3b010401"
      },
      "execution_count": 20,
      "outputs": [
        {
          "output_type": "execute_result",
          "data": {
            "text/plain": [
              "[('and', 2),\n",
              " ('absolutely', 1),\n",
              " ('loved', 1),\n",
              " ('this', 1),\n",
              " ('product', 1),\n",
              " ('will', 1),\n",
              " ('buy', 1),\n",
              " ('again', 1),\n",
              " ('visit', 1),\n",
              " ('worst', 1)]"
            ]
          },
          "metadata": {},
          "execution_count": 20
        }
      ]
    },
    {
      "cell_type": "code",
      "source": [
        "import matplotlib.pyplot as plt\n",
        "\n",
        "# Get top 10 tokens\n",
        "top_tokens = token_freq.most_common(10)\n",
        "words, freqs = zip(*top_tokens)\n",
        "\n",
        "# Plot\n",
        "plt.figure(figsize=(10,5))\n",
        "plt.bar(words, freqs)\n",
        "plt.title(\"Top 10 Most Frequent Tokens\")\n",
        "plt.ylabel(\"Frequency\")\n",
        "plt.xlabel(\"Token\")\n",
        "plt.xticks(rotation=45)\n",
        "plt.tight_layout()\n",
        "plt.show()\n"
      ],
      "metadata": {
        "colab": {
          "base_uri": "https://localhost:8080/",
          "height": 507
        },
        "id": "MsQR6G-nkwQz",
        "outputId": "57c0d9f2-ac85-4bd9-b0ef-67c808fd331e"
      },
      "execution_count": 21,
      "outputs": [
        {
          "output_type": "display_data",
          "data": {
            "text/plain": [
              "<Figure size 1000x500 with 1 Axes>"
            ],
            "image/png": "[encoded data removed]"
          },
          "metadata": {}
        }
      ]
    },
    {
      "cell_type": "code",
      "source": [
        "# Observations:\n",
        "print(\"\"\"\n",
        "1. Different tokenizers handle punctuation and contractions differently.\n",
        "   - For example, \"can't\" may be split into [\"ca\", \"n't\"] by NLTK but not regex.\n",
        "   - spaCy usually handles contractions best.\n",
        "\n",
        "2. Surprising tokens in top 10:\n",
        "   - Common words like 'the', 'this', 'is' often appear — stopwords.\n",
        "   - Words like 'product', 'buy', 'order' also frequent — expected in customer reviews.\n",
        "\n",
        "3. Regex tokenizer gives you full control and consistency.\n",
        "   - But may not handle edge cases as smartly as spaCy (like hyphenated words or emojis).\n",
        "\n",
        "4. spaCy is powerful for advanced NLP, but heavier for quick tasks.\n",
        "   - Great when POS tagging or named entity recognition is needed.\n",
        "\"\"\")\n"
      ],
      "metadata": {
        "colab": {
          "base_uri": "https://localhost:8080/"
        },
        "id": "8QUMu-ZNk837",
        "outputId": "0ee84f2c-27ce-4212-a665-f4a5ab8c6b59"
      },
      "execution_count": 22,
      "outputs": [
        {
          "output_type": "stream",
          "name": "stdout",
          "text": [
            "\n",
            "1. Different tokenizers handle punctuation and contractions differently.\n",
            "   - For example, \"can't\" may be split into [\"ca\", \"n't\"] by NLTK but not regex.\n",
            "   - spaCy usually handles contractions best.\n",
            "\n",
            "2. Surprising tokens in top 10:\n",
            "   - Common words like 'the', 'this', 'is' often appear — stopwords.\n",
            "   - Words like 'product', 'buy', 'order' also frequent — expected in customer reviews.\n",
            "\n",
            "3. Regex tokenizer gives you full control and consistency.\n",
            "   - But may not handle edge cases as smartly as spaCy (like hyphenated words or emojis).\n",
            "\n",
            "4. spaCy is powerful for advanced NLP, but heavier for quick tasks.\n",
            "   - Great when POS tagging or named entity recognition is needed.\n",
            "\n"
          ]
        }
      ]
    }
  ]
}