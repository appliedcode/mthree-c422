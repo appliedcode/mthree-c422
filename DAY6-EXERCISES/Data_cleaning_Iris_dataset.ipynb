{
  "nbformat": 4,
  "nbformat_minor": 0,
  "metadata": {
    "colab": {
      "provenance": []
    },
    "kernelspec": {
      "name": "python3",
      "display_name": "Python 3"
    },
    "language_info": {
      "name": "python"
    }
  },
  "cells": [
    {
      "cell_type": "code",
      "execution_count": 1,
      "metadata": {
        "id": "aRkZsY7-EoFL"
      },
      "outputs": [],
      "source": [
        "import pandas as pd\n",
        "import numpy as np"
      ]
    },
    {
      "cell_type": "code",
      "source": [
        "# Load Iris dataset directly\n",
        "url = \"https://raw.githubusercontent.com/mwaskom/seaborn-data/master/iris.csv\"\n",
        "df = pd.read_csv(url)\n",
        "print(\"Original Data:\")\n",
        "print(df.head())\n",
        "\n",
        "# Intentionally introduce missing values for demo\n",
        "np.random.seed(42)\n",
        "missing_idx = np.random.choice(df.index, size=10, replace=False)\n",
        "df.loc[missing_idx, 'sepal_length'] = np.nan\n"
      ],
      "metadata": {
        "colab": {
          "base_uri": "https://localhost:8080/"
        },
        "id": "bRkxxGOtE068",
        "outputId": "7c019513-d4a3-45a8-b1e6-b2def130c471"
      },
      "execution_count": 2,
      "outputs": [
        {
          "output_type": "stream",
          "name": "stdout",
          "text": [
            "Original Data:\n",
            "   sepal_length  sepal_width  petal_length  petal_width species\n",
            "0           5.1          3.5           1.4          0.2  setosa\n",
            "1           4.9          3.0           1.4          0.2  setosa\n",
            "2           4.7          3.2           1.3          0.2  setosa\n",
            "3           4.6          3.1           1.5          0.2  setosa\n",
            "4           5.0          3.6           1.4          0.2  setosa\n"
          ]
        }
      ]
    },
    {
      "cell_type": "code",
      "source": [
        "# Info and statistics\n",
        "print(df.info())\n",
        "print(df.describe())\n",
        "\n",
        "# Check missing values\n",
        "print(\"Missing values:\\n\", df.isnull().sum())\n"
      ],
      "metadata": {
        "colab": {
          "base_uri": "https://localhost:8080/"
        },
        "id": "DDWxkPP9E3-b",
        "outputId": "077d1344-1848-411e-d043-2ecf6dfc17a3"
      },
      "execution_count": 3,
      "outputs": [
        {
          "output_type": "stream",
          "name": "stdout",
          "text": [
            "<class 'pandas.core.frame.DataFrame'>\n",
            "RangeIndex: 150 entries, 0 to 149\n",
            "Data columns (total 5 columns):\n",
            " #   Column        Non-Null Count  Dtype  \n",
            "---  ------        --------------  -----  \n",
            " 0   sepal_length  140 non-null    float64\n",
            " 1   sepal_width   150 non-null    float64\n",
            " 2   petal_length  150 non-null    float64\n",
            " 3   petal_width   150 non-null    float64\n",
            " 4   species       150 non-null    object \n",
            "dtypes: float64(4), object(1)\n",
            "memory usage: 6.0+ KB\n",
            "None\n",
            "       sepal_length  sepal_width  petal_length  petal_width\n",
            "count    140.000000   150.000000    150.000000   150.000000\n",
            "mean       5.816429     3.057333      3.758000     1.199333\n",
            "std        0.831451     0.435866      1.765298     0.762238\n",
            "min        4.300000     2.000000      1.000000     0.100000\n",
            "25%        5.100000     2.800000      1.600000     0.300000\n",
            "50%        5.750000     3.000000      4.350000     1.300000\n",
            "75%        6.400000     3.300000      5.100000     1.800000\n",
            "max        7.900000     4.400000      6.900000     2.500000\n",
            "Missing values:\n",
            " sepal_length    10\n",
            "sepal_width      0\n",
            "petal_length     0\n",
            "petal_width      0\n",
            "species          0\n",
            "dtype: int64\n"
          ]
        }
      ]
    },
    {
      "cell_type": "code",
      "source": [
        "# 4.1 Handle missing values\n",
        "\n",
        "# Fill missing 'sepal_length' with median using direct assignment\n",
        "df['sepal_length'] = df['sepal_length'].fillna(df['sepal_length'].median())\n",
        "\n",
        "# 4.2 Remove duplicates (if any)\n",
        "df = df.drop_duplicates()\n",
        "\n",
        "# 4.3 Convert categorical variable 'species' to numeric codes\n",
        "df['species'] = df['species'].astype('category').cat.codes\n"
      ],
      "metadata": {
        "id": "JHjGQOF2E6t0"
      },
      "execution_count": 8,
      "outputs": []
    },
    {
      "cell_type": "code",
      "source": [
        "print(\"After cleaning, missing values:\\n\", df.isnull().sum())\n",
        "print(df.head())\n",
        "print(df.info())\n",
        "\n",
        "print(\"1) Main issues found: missing values in 'sepal_length' and categorical variable 'species'.\")\n",
        "print(\"2) Importance: Handling missing values prevents errors, biases, and unreliable results.\")\n",
        "print(\"3) Risks if skipped: Incorrect model predictions, misleading analysis, and failed algorithms.\")\n"
      ],
      "metadata": {
        "colab": {
          "base_uri": "https://localhost:8080/"
        },
        "id": "bo81lPX_FIPD",
        "outputId": "cc68066e-5233-47bb-d8cf-25f8604014fe"
      },
      "execution_count": 10,
      "outputs": [
        {
          "output_type": "stream",
          "name": "stdout",
          "text": [
            "After cleaning, missing values:\n",
            " sepal_length    0\n",
            "sepal_width     0\n",
            "petal_length    0\n",
            "petal_width     0\n",
            "species         0\n",
            "dtype: int64\n",
            "   sepal_length  sepal_width  petal_length  petal_width  species\n",
            "0           5.1          3.5           1.4          0.2        0\n",
            "1           4.9          3.0           1.4          0.2        0\n",
            "2           4.7          3.2           1.3          0.2        0\n",
            "3           4.6          3.1           1.5          0.2        0\n",
            "4           5.0          3.6           1.4          0.2        0\n",
            "<class 'pandas.core.frame.DataFrame'>\n",
            "Index: 149 entries, 0 to 149\n",
            "Data columns (total 5 columns):\n",
            " #   Column        Non-Null Count  Dtype  \n",
            "---  ------        --------------  -----  \n",
            " 0   sepal_length  149 non-null    float64\n",
            " 1   sepal_width   149 non-null    float64\n",
            " 2   petal_length  149 non-null    float64\n",
            " 3   petal_width   149 non-null    float64\n",
            " 4   species       149 non-null    int8   \n",
            "dtypes: float64(4), int8(1)\n",
            "memory usage: 6.0 KB\n",
            "None\n",
            "1) Main issues found: missing values in 'sepal_length' and categorical variable 'species'.\n",
            "2) Importance: Handling missing values prevents errors, biases, and unreliable results.\n",
            "3) Risks if skipped: Incorrect model predictions, misleading analysis, and failed algorithms.\n"
          ]
        }
      ]
    },
    {
      "cell_type": "code",
      "source": [],
      "metadata": {
        "id": "UvzLI--bFUIC"
      },
      "execution_count": null,
      "outputs": []
    }
  ]
}