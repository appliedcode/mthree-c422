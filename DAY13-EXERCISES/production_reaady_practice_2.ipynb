{
  "nbformat": 4,
  "nbformat_minor": 0,
  "metadata": {
    "colab": {
      "provenance": []
    },
    "kernelspec": {
      "name": "python3",
      "display_name": "Python 3"
    },
    "language_info": {
      "name": "python"
    }
  },
  "cells": [
    {
      "cell_type": "code",
      "execution_count": 2,
      "metadata": {
        "colab": {
          "base_uri": "https://localhost:8080/"
        },
        "id": "I9TpMrh4BD90",
        "outputId": "10891aa0-e478-4c47-fb0a-5337e76ff15e"
      },
      "outputs": [
        {
          "output_type": "stream",
          "name": "stdout",
          "text": [
            "   Driver_ID  Age  Gender City_Type  Trips_Completed  Avg_Rating  Complaints  \\\n",
            "0          1   44   Other     Metro              324        3.88          12   \n",
            "1          2   52    Male     Urban              323        3.96          17   \n",
            "2          3   41  Female     Urban              448        3.53           4   \n",
            "3          4   41  Female      Town             1485        4.83          19   \n",
            "4          5   64    Male     Urban              501        3.66          15   \n",
            "\n",
            "   Accidents  Flagged_For_Review  \n",
            "0          3                 1.0  \n",
            "1          3                 0.0  \n",
            "2          4                 1.0  \n",
            "3          1                 0.0  \n",
            "4          2                 0.0  \n"
          ]
        }
      ],
      "source": [
        "import pandas as pd\n",
        "import numpy as np\n",
        "\n",
        "# Seed for reproducibility\n",
        "np.random.seed(77)\n",
        "\n",
        "# Number of drivers\n",
        "n = 1500\n",
        "\n",
        "# Options\n",
        "genders = [\"Male\", \"Female\", \"Other\"]\n",
        "cities = [\"Metro\", \"Urban\", \"Town\"]\n",
        "\n",
        "# Create synthetic ride-hailing driver dataset\n",
        "data = pd.DataFrame({\n",
        "    \"Driver_ID\": range(1, n+1),\n",
        "    \"Age\": np.random.randint(21, 65, n),\n",
        "    \"Gender\": np.random.choice(genders, n, p=[0.6, 0.35, 0.05]),\n",
        "    \"City_Type\": np.random.choice(cities, n, p=[0.4, 0.45, 0.15]),\n",
        "    \"Trips_Completed\": np.random.randint(50, 2000, n),\n",
        "    \"Avg_Rating\": np.round(np.random.uniform(3.0, 5.0, n), 2),  # rating out of 5\n",
        "    \"Complaints\": np.random.randint(0, 20, n),\n",
        "    \"Accidents\": np.random.randint(0, 5, n)\n",
        "})\n",
        "\n",
        "# Step 1: Base rule — complaints or accidents increase review likelihood\n",
        "condition = (data[\"Complaints\"] > 5) | (data[\"Accidents\"] > 0)\n",
        "data.loc[condition, \"Flagged_For_Review\"] = np.random.choice([1, 0], condition.sum(), p=[0.7, 0.3])\n",
        "data.loc[~condition, \"Flagged_For_Review\"] = np.random.choice([1, 0], (~condition).sum(), p=[0.15, 0.85])\n",
        "\n",
        "# Step 2: Extra bias — Metro drivers are more likely to be flagged\n",
        "mask_metro = data[\"City_Type\"] == \"Metro\"\n",
        "data.loc[mask_metro, \"Flagged_For_Review\"] = np.random.choice([1, 0], mask_metro.sum(), p=[0.4, 0.6])\n",
        "\n",
        "# Preview dataset\n",
        "print(data.head())\n"
      ]
    },
    {
      "cell_type": "code",
      "source": [
        "# =========================================\n",
        "# Task 1: Bias Assessment Before Deployment\n",
        "# =========================================\n",
        "from sklearn.model_selection import train_test_split\n",
        "from sklearn.ensemble import RandomForestClassifier\n",
        "from sklearn.metrics import accuracy_score\n",
        "\n",
        "# Prepare data\n",
        "X = pd.get_dummies(data.drop(columns=[\"Driver_ID\", \"Flagged_For_Review\"]), drop_first=True)\n",
        "y = data[\"Flagged_For_Review\"]\n",
        "\n",
        "X_train, X_test, y_train, y_test = train_test_split(X, y, test_size=0.3, random_state=42)\n",
        "\n",
        "# Train baseline model\n",
        "model = RandomForestClassifier(n_estimators=50, random_state=42)\n",
        "model.fit(X_train, y_train)\n",
        "\n",
        "# Evaluate\n",
        "y_pred = model.predict(X_test)\n",
        "print(\"Baseline Accuracy:\", accuracy_score(y_test, y_pred))\n",
        "\n",
        "# Attach sensitive attributes back\n",
        "df_test = X_test.copy()\n",
        "df_test[\"y_pred\"] = y_pred\n",
        "df_test[\"Gender\"] = data.loc[y_test.index, \"Gender\"]\n",
        "df_test[\"City_Type\"] = data.loc[y_test.index, \"City_Type\"]\n",
        "\n",
        "# Positive prediction rates\n",
        "gender_rates = df_test.groupby(\"Gender\")[\"y_pred\"].mean()\n",
        "city_rates = df_test.groupby(\"City_Type\")[\"y_pred\"].mean()\n",
        "\n",
        "print(\"\\nPositive prediction rate by Gender:\\n\", gender_rates)\n",
        "print(\"\\nPositive prediction rate by City_Type:\\n\", city_rates)\n"
      ],
      "metadata": {
        "colab": {
          "base_uri": "https://localhost:8080/"
        },
        "id": "CBeEXE0uB-76",
        "outputId": "d1dd0338-f32d-4848-98d4-7c1baf72a9b3"
      },
      "execution_count": 3,
      "outputs": [
        {
          "output_type": "stream",
          "name": "stdout",
          "text": [
            "Baseline Accuracy: 0.5955555555555555\n",
            "\n",
            "Positive prediction rate by Gender:\n",
            " Gender\n",
            "Female    0.510638\n",
            "Male      0.562500\n",
            "Other     0.857143\n",
            "Name: y_pred, dtype: float64\n",
            "\n",
            "Positive prediction rate by City_Type:\n",
            " City_Type\n",
            "Metro    0.186170\n",
            "Town     0.753425\n",
            "Urban    0.857143\n",
            "Name: y_pred, dtype: float64\n"
          ]
        }
      ]
    },
    {
      "cell_type": "code",
      "source": [
        "# =========================================\n",
        "# Task 2: Ethics-Aware Fairness Gate\n",
        "# =========================================\n",
        "def fairness_check(df, sensitive_attr, threshold=0.08):\n",
        "    rates = df.groupby(sensitive_attr)[\"y_pred\"].mean()\n",
        "    disparity = rates.max() - rates.min()\n",
        "    print(f\"{sensitive_attr} disparity: {disparity:.3f}\")\n",
        "    return disparity <= threshold\n",
        "\n",
        "if not fairness_check(df_test, \"Gender\"):\n",
        "    print(\"❌ Fairness check failed for Gender.\")\n",
        "else:\n",
        "    print(\"✅ Fairness check passed for Gender.\")\n",
        "\n",
        "if not fairness_check(df_test, \"City_Type\"):\n",
        "    print(\"❌ Fairness check failed for City_Type.\")\n",
        "else:\n",
        "    print(\"✅ Fairness check passed for City_Type.\")\n"
      ],
      "metadata": {
        "colab": {
          "base_uri": "https://localhost:8080/"
        },
        "id": "V-sCmdQECDgZ",
        "outputId": "10176c06-9635-45b8-ea4c-80678d529336"
      },
      "execution_count": 4,
      "outputs": [
        {
          "output_type": "stream",
          "name": "stdout",
          "text": [
            "Gender disparity: 0.347\n",
            "❌ Fairness check failed for Gender.\n",
            "City_Type disparity: 0.671\n",
            "❌ Fairness check failed for City_Type.\n"
          ]
        }
      ]
    },
    {
      "cell_type": "code",
      "source": [
        "# =========================================\n",
        "# Task 3: Feature Importance Ethics Audit\n",
        "# =========================================\n",
        "importances = pd.Series(model.feature_importances_, index=X.columns).sort_values(ascending=False)\n",
        "print(importances.head(10))\n",
        "\n",
        "# Flag socio-demographic features\n",
        "socio_features = [\"Gender_Male\", \"Gender_Other\", \"City_Type_Town\", \"City_Type_Urban\"]\n",
        "for feat in socio_features:\n",
        "    if feat in importances.head(10).index:\n",
        "        print(f\"⚠️ Feature '{feat}' ranks high — consider mitigation.\")\n"
      ],
      "metadata": {
        "colab": {
          "base_uri": "https://localhost:8080/"
        },
        "id": "RwuBdpc1CKED",
        "outputId": "45586e40-5411-4c53-92af-87fa472c9026"
      },
      "execution_count": 5,
      "outputs": [
        {
          "output_type": "stream",
          "name": "stdout",
          "text": [
            "Trips_Completed    0.231122\n",
            "Avg_Rating         0.212556\n",
            "Age                0.185937\n",
            "Complaints         0.156722\n",
            "Accidents          0.077258\n",
            "City_Type_Urban    0.065511\n",
            "Gender_Male        0.031020\n",
            "City_Type_Town     0.026821\n",
            "Gender_Other       0.013054\n",
            "dtype: float64\n",
            "⚠️ Feature 'Gender_Male' ranks high — consider mitigation.\n",
            "⚠️ Feature 'Gender_Other' ranks high — consider mitigation.\n",
            "⚠️ Feature 'City_Type_Town' ranks high — consider mitigation.\n",
            "⚠️ Feature 'City_Type_Urban' ranks high — consider mitigation.\n"
          ]
        }
      ]
    },
    {
      "cell_type": "code",
      "source": [
        "# =========================================\n",
        "# Task 4: Ethical Development Documentation\n",
        "# =========================================\n",
        "user_stories = [\n",
        "    \"As a safety compliance officer, I want the system to evaluate drivers without bias toward city type so that all drivers are judged fairly.\",\n",
        "    \"As an operations manager, I want the system to provide clear reasons when flagging a driver, so drivers understand and can respond.\"\n",
        "]\n",
        "\n",
        "for story in user_stories:\n",
        "    print(\"-\", story)\n"
      ],
      "metadata": {
        "colab": {
          "base_uri": "https://localhost:8080/"
        },
        "id": "HHMEpZrHCPcg",
        "outputId": "a6d8ec75-45e1-4126-ef57-a0875d501593"
      },
      "execution_count": 6,
      "outputs": [
        {
          "output_type": "stream",
          "name": "stdout",
          "text": [
            "- As a safety compliance officer, I want the system to evaluate drivers without bias toward city type so that all drivers are judged fairly.\n",
            "- As an operations manager, I want the system to provide clear reasons when flagging a driver, so drivers understand and can respond.\n"
          ]
        }
      ]
    },
    {
      "cell_type": "code",
      "source": [
        "# =========================================\n",
        "# Task 5: Accountability via Prediction Logging\n",
        "# =========================================\n",
        "import datetime\n",
        "\n",
        "MODEL_VERSION = \"v1.0\"\n",
        "prediction_log = []\n",
        "\n",
        "def predict_and_log(driver_data):\n",
        "    pred = int(model.predict(driver_data)[0])\n",
        "    log_entry = {\n",
        "        \"timestamp\": datetime.datetime.now().isoformat(),\n",
        "        \"model_version\": MODEL_VERSION,\n",
        "        \"inputs\": driver_data.to_dict(orient=\"records\")[0],\n",
        "        \"prediction\": pred\n",
        "    }\n",
        "    prediction_log.append(log_entry)\n",
        "    return pred\n",
        "\n",
        "# Example\n",
        "sample_driver = X_test.iloc[[0]]\n",
        "predict_and_log(sample_driver)\n",
        "prediction_log[:2]\n"
      ],
      "metadata": {
        "colab": {
          "base_uri": "https://localhost:8080/"
        },
        "id": "wYoiV9mnCRPo",
        "outputId": "9034a635-4c98-42b8-ebf0-b88985e270b6"
      },
      "execution_count": 7,
      "outputs": [
        {
          "output_type": "execute_result",
          "data": {
            "text/plain": [
              "[{'timestamp': '2025-08-13T10:45:40.158486',\n",
              "  'model_version': 'v1.0',\n",
              "  'inputs': {'Age': 56,\n",
              "   'Trips_Completed': 1167,\n",
              "   'Avg_Rating': 3.95,\n",
              "   'Complaints': 9,\n",
              "   'Accidents': 3,\n",
              "   'Gender_Male': True,\n",
              "   'Gender_Other': False,\n",
              "   'City_Type_Town': False,\n",
              "   'City_Type_Urban': True},\n",
              "  'prediction': 1}]"
            ]
          },
          "metadata": {},
          "execution_count": 7
        }
      ]
    },
    {
      "cell_type": "code",
      "source": [
        "# =========================================\n",
        "# Task 6: Post-Deployment Monitoring\n",
        "# =========================================\n",
        "gender_disparity = gender_rates.max() - gender_rates.min()\n",
        "city_disparity = city_rates.max() - city_rates.min()\n",
        "\n",
        "if gender_disparity > 0.08:\n",
        "    print(\"⚠️ Alert: Gender fairness threshold exceeded.\")\n",
        "else:\n",
        "    print(\"✅ Gender fairness acceptable.\")\n",
        "\n",
        "if city_disparity > 0.08:\n",
        "    print(\"⚠️ Alert: City fairness threshold exceeded.\")\n",
        "else:\n",
        "    print(\"✅ City fairness acceptable.\")\n"
      ],
      "metadata": {
        "colab": {
          "base_uri": "https://localhost:8080/"
        },
        "id": "JuPO4bIiCSZy",
        "outputId": "348c2c5e-7221-464e-fc5b-d06ea3819113"
      },
      "execution_count": 8,
      "outputs": [
        {
          "output_type": "stream",
          "name": "stdout",
          "text": [
            "⚠️ Alert: Gender fairness threshold exceeded.\n",
            "⚠️ Alert: City fairness threshold exceeded.\n"
          ]
        }
      ]
    },
    {
      "cell_type": "code",
      "source": [
        "# =========================================\n",
        "# Task 7: Privacy Protection\n",
        "# =========================================\n",
        "import hashlib\n",
        "\n",
        "data[\"Driver_ID\"] = data[\"Driver_ID\"].apply(lambda x: hashlib.sha256(str(x).encode()).hexdigest())\n",
        "data.head()\n"
      ],
      "metadata": {
        "colab": {
          "base_uri": "https://localhost:8080/",
          "height": 206
        },
        "id": "x-Yp_LSXCUeC",
        "outputId": "96d1258e-df20-446d-aecd-3b02838e40ec"
      },
      "execution_count": 9,
      "outputs": [
        {
          "output_type": "execute_result",
          "data": {
            "text/plain": [
              "                                           Driver_ID  Age  Gender City_Type  \\\n",
              "0  6b86b273ff34fce19d6b804eff5a3f5747ada4eaa22f1d...   44   Other     Metro   \n",
              "1  d4735e3a265e16eee03f59718b9b5d03019c07d8b6c51f...   52    Male     Urban   \n",
              "2  4e07408562bedb8b60ce05c1decfe3ad16b72230967de0...   41  Female     Urban   \n",
              "3  4b227777d4dd1fc61c6f884f48641d02b4d121d3fd328c...   41  Female      Town   \n",
              "4  ef2d127de37b942baad06145e54b0c619a1f22327b2ebb...   64    Male     Urban   \n",
              "\n",
              "   Trips_Completed  Avg_Rating  Complaints  Accidents  Flagged_For_Review  \n",
              "0              324        3.88          12          3                 1.0  \n",
              "1              323        3.96          17          3                 0.0  \n",
              "2              448        3.53           4          4                 1.0  \n",
              "3             1485        4.83          19          1                 0.0  \n",
              "4              501        3.66          15          2                 0.0  "
            ],
            "text/html": [
              "\n",
              "  <div id=\"df-6e80f71d-4b69-45f0-97d7-86a49cacd542\" class=\"colab-df-container\">\n",
              "    <div>\n",
              "<style scoped>\n",
              "    .dataframe tbody tr th:only-of-type {\n",
              "        vertical-align: middle;\n",
              "    }\n",
              "\n",
              "    .dataframe tbody tr th {\n",
              "        vertical-align: top;\n",
              "    }\n",
              "\n",
              "    .dataframe thead th {\n",
              "        text-align: right;\n",
              "    }\n",
              "</style>\n",
              "<table border=\"1\" class=\"dataframe\">\n",
              "  <thead>\n",
              "    <tr style=\"text-align: right;\">\n",
              "      <th></th>\n",
              "      <th>Driver_ID</th>\n",
              "      <th>Age</th>\n",
              "      <th>Gender</th>\n",
              "      <th>City_Type</th>\n",
              "      <th>Trips_Completed</th>\n",
              "      <th>Avg_Rating</th>\n",
              "      <th>Complaints</th>\n",
              "      <th>Accidents</th>\n",
              "      <th>Flagged_For_Review</th>\n",
              "    </tr>\n",
              "  </thead>\n",
              "  <tbody>\n",
              "    <tr>\n",
              "      <th>0</th>\n",
              "      <td>6b86b273ff34fce19d6b804eff5a3f5747ada4eaa22f1d...</td>\n",
              "      <td>44</td>\n",
              "      <td>Other</td>\n",
              "      <td>Metro</td>\n",
              "      <td>324</td>\n",
              "      <td>3.88</td>\n",
              "      <td>12</td>\n",
              "      <td>3</td>\n",
              "      <td>1.0</td>\n",
              "    </tr>\n",
              "    <tr>\n",
              "      <th>1</th>\n",
              "      <td>d4735e3a265e16eee03f59718b9b5d03019c07d8b6c51f...</td>\n",
              "      <td>52</td>\n",
              "      <td>Male</td>\n",
              "      <td>Urban</td>\n",
              "      <td>323</td>\n",
              "      <td>3.96</td>\n",
              "      <td>17</td>\n",
              "      <td>3</td>\n",
              "      <td>0.0</td>\n",
              "    </tr>\n",
              "    <tr>\n",
              "      <th>2</th>\n",
              "      <td>4e07408562bedb8b60ce05c1decfe3ad16b72230967de0...</td>\n",
              "      <td>41</td>\n",
              "      <td>Female</td>\n",
              "      <td>Urban</td>\n",
              "      <td>448</td>\n",
              "      <td>3.53</td>\n",
              "      <td>4</td>\n",
              "      <td>4</td>\n",
              "      <td>1.0</td>\n",
              "    </tr>\n",
              "    <tr>\n",
              "      <th>3</th>\n",
              "      <td>4b227777d4dd1fc61c6f884f48641d02b4d121d3fd328c...</td>\n",
              "      <td>41</td>\n",
              "      <td>Female</td>\n",
              "      <td>Town</td>\n",
              "      <td>1485</td>\n",
              "      <td>4.83</td>\n",
              "      <td>19</td>\n",
              "      <td>1</td>\n",
              "      <td>0.0</td>\n",
              "    </tr>\n",
              "    <tr>\n",
              "      <th>4</th>\n",
              "      <td>ef2d127de37b942baad06145e54b0c619a1f22327b2ebb...</td>\n",
              "      <td>64</td>\n",
              "      <td>Male</td>\n",
              "      <td>Urban</td>\n",
              "      <td>501</td>\n",
              "      <td>3.66</td>\n",
              "      <td>15</td>\n",
              "      <td>2</td>\n",
              "      <td>0.0</td>\n",
              "    </tr>\n",
              "  </tbody>\n",
              "</table>\n",
              "</div>\n",
              "    <div class=\"colab-df-buttons\">\n",
              "\n",
              "  <div class=\"colab-df-container\">\n",
              "    <button class=\"colab-df-convert\" onclick=\"convertToInteractive('df-6e80f71d-4b69-45f0-97d7-86a49cacd542')\"\n",
              "            title=\"Convert this dataframe to an interactive table.\"\n",
              "            style=\"display:none;\">\n",
              "\n",
              "  <svg xmlns=\"http://www.w3.org/2000/svg\" height=\"24px\" viewBox=\"0 -960 960 960\">\n",
              "    <path d=\"M120-120v-720h720v720H120Zm60-500h600v-160H180v160Zm220 220h160v-160H400v160Zm0 220h160v-160H400v160ZM180-400h160v-160H180v160Zm440 0h160v-160H620v160ZM180-180h160v-160H180v160Zm440 0h160v-160H620v160Z\"/>\n",
              "  </svg>\n",
              "    </button>\n",
              "\n",
              "  <style>\n",
              "    .colab-df-container {\n",
              "      display:flex;\n",
              "      gap: 12px;\n",
              "    }\n",
              "\n",
              "    .colab-df-convert {\n",
              "      background-color: #E8F0FE;\n",
              "      border: none;\n",
              "      border-radius: 50%;\n",
              "      cursor: pointer;\n",
              "      display: none;\n",
              "      fill: #1967D2;\n",
              "      height: 32px;\n",
              "      padding: 0 0 0 0;\n",
              "      width: 32px;\n",
              "    }\n",
              "\n",
              "    .colab-df-convert:hover {\n",
              "      background-color: #E2EBFA;\n",
              "      box-shadow: 0px 1px 2px rgba(60, 64, 67, 0.3), 0px 1px 3px 1px rgba(60, 64, 67, 0.15);\n",
              "      fill: #174EA6;\n",
              "    }\n",
              "\n",
              "    .colab-df-buttons div {\n",
              "      margin-bottom: 4px;\n",
              "    }\n",
              "\n",
              "    [theme=dark] .colab-df-convert {\n",
              "      background-color: #3B4455;\n",
              "      fill: #D2E3FC;\n",
              "    }\n",
              "\n",
              "    [theme=dark] .colab-df-convert:hover {\n",
              "      background-color: #434B5C;\n",
              "      box-shadow: 0px 1px 3px 1px rgba(0, 0, 0, 0.15);\n",
              "      filter: drop-shadow(0px 1px 2px rgba(0, 0, 0, 0.3));\n",
              "      fill: #FFFFFF;\n",
              "    }\n",
              "  </style>\n",
              "\n",
              "    <script>\n",
              "      const buttonEl =\n",
              "        document.querySelector('#df-6e80f71d-4b69-45f0-97d7-86a49cacd542 button.colab-df-convert');\n",
              "      buttonEl.style.display =\n",
              "        google.colab.kernel.accessAllowed ? 'block' : 'none';\n",
              "\n",
              "      async function convertToInteractive(key) {\n",
              "        const element = document.querySelector('#df-6e80f71d-4b69-45f0-97d7-86a49cacd542');\n",
              "        const dataTable =\n",
              "          await google.colab.kernel.invokeFunction('convertToInteractive',\n",
              "                                                    [key], {});\n",
              "        if (!dataTable) return;\n",
              "\n",
              "        const docLinkHtml = 'Like what you see? Visit the ' +\n",
              "          '<a target=\"_blank\" href=https://colab.research.google.com/notebooks/data_table.ipynb>data table notebook</a>'\n",
              "          + ' to learn more about interactive tables.';\n",
              "        element.innerHTML = '';\n",
              "        dataTable['output_type'] = 'display_data';\n",
              "        await google.colab.output.renderOutput(dataTable, element);\n",
              "        const docLink = document.createElement('div');\n",
              "        docLink.innerHTML = docLinkHtml;\n",
              "        element.appendChild(docLink);\n",
              "      }\n",
              "    </script>\n",
              "  </div>\n",
              "\n",
              "\n",
              "    <div id=\"df-29c6cc3f-7b5b-4fb0-9116-a3e441c41dc1\">\n",
              "      <button class=\"colab-df-quickchart\" onclick=\"quickchart('df-29c6cc3f-7b5b-4fb0-9116-a3e441c41dc1')\"\n",
              "                title=\"Suggest charts\"\n",
              "                style=\"display:none;\">\n",
              "\n",
              "<svg xmlns=\"http://www.w3.org/2000/svg\" height=\"24px\"viewBox=\"0 0 24 24\"\n",
              "     width=\"24px\">\n",
              "    <g>\n",
              "        <path d=\"M19 3H5c-1.1 0-2 .9-2 2v14c0 1.1.9 2 2 2h14c1.1 0 2-.9 2-2V5c0-1.1-.9-2-2-2zM9 17H7v-7h2v7zm4 0h-2V7h2v10zm4 0h-2v-4h2v4z\"/>\n",
              "    </g>\n",
              "</svg>\n",
              "      </button>\n",
              "\n",
              "<style>\n",
              "  .colab-df-quickchart {\n",
              "      --bg-color: #E8F0FE;\n",
              "      --fill-color: #1967D2;\n",
              "      --hover-bg-color: #E2EBFA;\n",
              "      --hover-fill-color: #174EA6;\n",
              "      --disabled-fill-color: #AAA;\n",
              "      --disabled-bg-color: #DDD;\n",
              "  }\n",
              "\n",
              "  [theme=dark] .colab-df-quickchart {\n",
              "      --bg-color: #3B4455;\n",
              "      --fill-color: #D2E3FC;\n",
              "      --hover-bg-color: #434B5C;\n",
              "      --hover-fill-color: #FFFFFF;\n",
              "      --disabled-bg-color: #3B4455;\n",
              "      --disabled-fill-color: #666;\n",
              "  }\n",
              "\n",
              "  .colab-df-quickchart {\n",
              "    background-color: var(--bg-color);\n",
              "    border: none;\n",
              "    border-radius: 50%;\n",
              "    cursor: pointer;\n",
              "    display: none;\n",
              "    fill: var(--fill-color);\n",
              "    height: 32px;\n",
              "    padding: 0;\n",
              "    width: 32px;\n",
              "  }\n",
              "\n",
              "  .colab-df-quickchart:hover {\n",
              "    background-color: var(--hover-bg-color);\n",
              "    box-shadow: 0 1px 2px rgba(60, 64, 67, 0.3), 0 1px 3px 1px rgba(60, 64, 67, 0.15);\n",
              "    fill: var(--button-hover-fill-color);\n",
              "  }\n",
              "\n",
              "  .colab-df-quickchart-complete:disabled,\n",
              "  .colab-df-quickchart-complete:disabled:hover {\n",
              "    background-color: var(--disabled-bg-color);\n",
              "    fill: var(--disabled-fill-color);\n",
              "    box-shadow: none;\n",
              "  }\n",
              "\n",
              "  .colab-df-spinner {\n",
              "    border: 2px solid var(--fill-color);\n",
              "    border-color: transparent;\n",
              "    border-bottom-color: var(--fill-color);\n",
              "    animation:\n",
              "      spin 1s steps(1) infinite;\n",
              "  }\n",
              "\n",
              "  @keyframes spin {\n",
              "    0% {\n",
              "      border-color: transparent;\n",
              "      border-bottom-color: var(--fill-color);\n",
              "      border-left-color: var(--fill-color);\n",
              "    }\n",
              "    20% {\n",
              "      border-color: transparent;\n",
              "      border-left-color: var(--fill-color);\n",
              "      border-top-color: var(--fill-color);\n",
              "    }\n",
              "    30% {\n",
              "      border-color: transparent;\n",
              "      border-left-color: var(--fill-color);\n",
              "      border-top-color: var(--fill-color);\n",
              "      border-right-color: var(--fill-color);\n",
              "    }\n",
              "    40% {\n",
              "      border-color: transparent;\n",
              "      border-right-color: var(--fill-color);\n",
              "      border-top-color: var(--fill-color);\n",
              "    }\n",
              "    60% {\n",
              "      border-color: transparent;\n",
              "      border-right-color: var(--fill-color);\n",
              "    }\n",
              "    80% {\n",
              "      border-color: transparent;\n",
              "      border-right-color: var(--fill-color);\n",
              "      border-bottom-color: var(--fill-color);\n",
              "    }\n",
              "    90% {\n",
              "      border-color: transparent;\n",
              "      border-bottom-color: var(--fill-color);\n",
              "    }\n",
              "  }\n",
              "</style>\n",
              "\n",
              "      <script>\n",
              "        async function quickchart(key) {\n",
              "          const quickchartButtonEl =\n",
              "            document.querySelector('#' + key + ' button');\n",
              "          quickchartButtonEl.disabled = true;  // To prevent multiple clicks.\n",
              "          quickchartButtonEl.classList.add('colab-df-spinner');\n",
              "          try {\n",
              "            const charts = await google.colab.kernel.invokeFunction(\n",
              "                'suggestCharts', [key], {});\n",
              "          } catch (error) {\n",
              "            console.error('Error during call to suggestCharts:', error);\n",
              "          }\n",
              "          quickchartButtonEl.classList.remove('colab-df-spinner');\n",
              "          quickchartButtonEl.classList.add('colab-df-quickchart-complete');\n",
              "        }\n",
              "        (() => {\n",
              "          let quickchartButtonEl =\n",
              "            document.querySelector('#df-29c6cc3f-7b5b-4fb0-9116-a3e441c41dc1 button');\n",
              "          quickchartButtonEl.style.display =\n",
              "            google.colab.kernel.accessAllowed ? 'block' : 'none';\n",
              "        })();\n",
              "      </script>\n",
              "    </div>\n",
              "\n",
              "    </div>\n",
              "  </div>\n"
            ],
            "application/vnd.google.colaboratory.intrinsic+json": {
              "type": "dataframe",
              "variable_name": "data",
              "summary": "{\n  \"name\": \"data\",\n  \"rows\": 1500,\n  \"fields\": [\n    {\n      \"column\": \"Driver_ID\",\n      \"properties\": {\n        \"dtype\": \"string\",\n        \"num_unique_values\": 1500,\n        \"samples\": [\n          \"e1d9ce80c3abd825263ac199b82e1e29431d2b681312842a35cf8ee744911eaa\",\n          \"eed5fe88eedf687582e394a4afc70a7b8c6afbf20072c1a1d4a935ef5ef94640\",\n          \"814bb6b8dc12188a44b71e378dc20a4292e01979aa9ab95b09b8a681391dfc9d\"\n        ],\n        \"semantic_type\": \"\",\n        \"description\": \"\"\n      }\n    },\n    {\n      \"column\": \"Age\",\n      \"properties\": {\n        \"dtype\": \"number\",\n        \"std\": 12,\n        \"min\": 21,\n        \"max\": 64,\n        \"num_unique_values\": 44,\n        \"samples\": [\n          51,\n          62,\n          49\n        ],\n        \"semantic_type\": \"\",\n        \"description\": \"\"\n      }\n    },\n    {\n      \"column\": \"Gender\",\n      \"properties\": {\n        \"dtype\": \"category\",\n        \"num_unique_values\": 3,\n        \"samples\": [\n          \"Other\",\n          \"Male\",\n          \"Female\"\n        ],\n        \"semantic_type\": \"\",\n        \"description\": \"\"\n      }\n    },\n    {\n      \"column\": \"City_Type\",\n      \"properties\": {\n        \"dtype\": \"category\",\n        \"num_unique_values\": 3,\n        \"samples\": [\n          \"Metro\",\n          \"Urban\",\n          \"Town\"\n        ],\n        \"semantic_type\": \"\",\n        \"description\": \"\"\n      }\n    },\n    {\n      \"column\": \"Trips_Completed\",\n      \"properties\": {\n        \"dtype\": \"number\",\n        \"std\": 559,\n        \"min\": 51,\n        \"max\": 1999,\n        \"num_unique_values\": 1046,\n        \"samples\": [\n          1927,\n          903,\n          1023\n        ],\n        \"semantic_type\": \"\",\n        \"description\": \"\"\n      }\n    },\n    {\n      \"column\": \"Avg_Rating\",\n      \"properties\": {\n        \"dtype\": \"number\",\n        \"std\": 0.5719473152104775,\n        \"min\": 3.0,\n        \"max\": 5.0,\n        \"num_unique_values\": 201,\n        \"samples\": [\n          4.9,\n          4.8,\n          4.49\n        ],\n        \"semantic_type\": \"\",\n        \"description\": \"\"\n      }\n    },\n    {\n      \"column\": \"Complaints\",\n      \"properties\": {\n        \"dtype\": \"number\",\n        \"std\": 5,\n        \"min\": 0,\n        \"max\": 19,\n        \"num_unique_values\": 20,\n        \"samples\": [\n          12,\n          6,\n          11\n        ],\n        \"semantic_type\": \"\",\n        \"description\": \"\"\n      }\n    },\n    {\n      \"column\": \"Accidents\",\n      \"properties\": {\n        \"dtype\": \"number\",\n        \"std\": 1,\n        \"min\": 0,\n        \"max\": 4,\n        \"num_unique_values\": 5,\n        \"samples\": [\n          4,\n          0,\n          1\n        ],\n        \"semantic_type\": \"\",\n        \"description\": \"\"\n      }\n    },\n    {\n      \"column\": \"Flagged_For_Review\",\n      \"properties\": {\n        \"dtype\": \"number\",\n        \"std\": 0.4975921564812782,\n        \"min\": 0.0,\n        \"max\": 1.0,\n        \"num_unique_values\": 2,\n        \"samples\": [\n          0.0,\n          1.0\n        ],\n        \"semantic_type\": \"\",\n        \"description\": \"\"\n      }\n    }\n  ]\n}"
            }
          },
          "metadata": {},
          "execution_count": 9
        }
      ]
    },
    {
      "cell_type": "code",
      "source": [
        "# =========================================\n",
        "# Task 8: Inclusivity Feedback Loop\n",
        "# =========================================\n",
        "feedback = pd.DataFrame({\n",
        "    \"Driver_ID\": [\"new_1\", \"new_2\"],\n",
        "    \"Age\": [34, 42],\n",
        "    \"Gender\": [\"Other\", \"Other\"],\n",
        "    \"City_Type\": [\"Town\", \"Town\"],\n",
        "    \"Trips_Completed\": [500, 750],\n",
        "    \"Avg_Rating\": [4.8, 4.6],\n",
        "    \"Complaints\": [0, 1],\n",
        "    \"Accidents\": [0, 0],\n",
        "    \"Flagged_For_Review\": [0, 0]\n",
        "})\n",
        "\n",
        "data_updated = pd.concat([data, feedback], ignore_index=True)\n",
        "print(\"Updated dataset size:\", data_updated.shape)\n"
      ],
      "metadata": {
        "colab": {
          "base_uri": "https://localhost:8080/"
        },
        "id": "J8T6eCLvCZ0o",
        "outputId": "2c247fab-899a-42d4-dd73-679a637d8fd0"
      },
      "execution_count": 10,
      "outputs": [
        {
          "output_type": "stream",
          "name": "stdout",
          "text": [
            "Updated dataset size: (1502, 9)\n"
          ]
        }
      ]
    },
    {
      "cell_type": "code",
      "source": [
        "# =========================================\n",
        "# Task 9: Incident Response Simulation\n",
        "# =========================================\n",
        "incident_report = {\n",
        "    \"Detection\": \"Monitoring shows Metro drivers are flagged at double the rate of other cities.\",\n",
        "    \"Investigation\": \"Analyze model outputs and input features; check for correlations with city type.\",\n",
        "    \"Communication\": \"Notify compliance, legal, and driver relations teams; prepare public communication plan.\",\n",
        "    \"Remediation\": \"Retrain model with balanced data; reduce or remove city type influence.\"\n",
        "}\n",
        "\n",
        "for step, detail in incident_report.items():\n",
        "    print(f\"{step}: {detail}\")\n"
      ],
      "metadata": {
        "colab": {
          "base_uri": "https://localhost:8080/"
        },
        "id": "eanXlPX_CdCB",
        "outputId": "04b7f1b7-4756-43a5-fba7-2ef6bc9d153b"
      },
      "execution_count": 11,
      "outputs": [
        {
          "output_type": "stream",
          "name": "stdout",
          "text": [
            "Detection: Monitoring shows Metro drivers are flagged at double the rate of other cities.\n",
            "Investigation: Analyze model outputs and input features; check for correlations with city type.\n",
            "Communication: Notify compliance, legal, and driver relations teams; prepare public communication plan.\n",
            "Remediation: Retrain model with balanced data; reduce or remove city type influence.\n"
          ]
        }
      ]
    }
  ]
}