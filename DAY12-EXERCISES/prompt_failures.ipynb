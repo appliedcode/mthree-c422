{
  "nbformat": 4,
  "nbformat_minor": 0,
  "metadata": {
    "colab": {
      "provenance": []
    },
    "kernelspec": {
      "name": "python3",
      "display_name": "Python 3"
    },
    "language_info": {
      "name": "python"
    }
  },
  "cells": [
    {
      "cell_type": "code",
      "execution_count": 1,
      "metadata": {
        "colab": {
          "base_uri": "https://localhost:8080/"
        },
        "id": "u4E_hpClTg_I",
        "outputId": "438c0126-0b50-4ebd-b814-076f83fc52fc"
      },
      "outputs": [
        {
          "output_type": "stream",
          "name": "stdout",
          "text": [
            "✅ OpenAI API key loaded safely\n"
          ]
        }
      ],
      "source": [
        "from google.colab import userdata\n",
        "import os\n",
        "\n",
        "# Set your OpenAI API key securely in Colab Secrets (once)\n",
        "# userdata.set(\"OPENAI_API_KEY\", \"your-api-key-here\")\n",
        "\n",
        "# Retrieve key in your notebook\n",
        "openai_api_key = userdata.get(\"OPENAI_API_KEY\")\n",
        "if openai_api_key:\n",
        "    os.environ[\"OPENAI_API_KEY\"] = openai_api_key\n",
        "    print(\"✅ OpenAI API key loaded safely\")\n",
        "else:\n",
        "    print(\"❌ OpenAI API key not found. Please set it using Colab Secrets.\")"
      ]
    },
    {
      "cell_type": "code",
      "source": [
        "!pip install --quiet openai -q\n",
        "# Create client\n",
        "from openai import OpenAI\n",
        "client = OpenAI(api_key=os.environ[\"OPENAI_API_KEY\"])"
      ],
      "metadata": {
        "id": "2bYpYPI-T101"
      },
      "execution_count": 2,
      "outputs": []
    },
    {
      "cell_type": "code",
      "source": [
        "# Helper Function to Send Prompts\n",
        "def generate_response(prompt, model=\"gpt-4o-mini\", temperature=0.7):\n",
        "    try:\n",
        "        response = client.chat.completions.create(\n",
        "            model=model,\n",
        "            messages=[{\"role\": \"user\", \"content\": prompt}],\n",
        "            temperature=temperature\n",
        "        )\n",
        "        return response.choices[0].message.content.strip()\n",
        "    except Exception as e:\n",
        "        return f\"Error: {e}\""
      ],
      "metadata": {
        "id": "O09uieF0T5uZ"
      },
      "execution_count": 3,
      "outputs": []
    },
    {
      "cell_type": "code",
      "source": [
        "# Exercise 1: Identifying Ambiguity in Prompts\n",
        "# Task:\n",
        "# Use an ambiguous prompt like:\n",
        "ambiguous_prompt = \"Describe the process.\""
      ],
      "metadata": {
        "id": "Xbk6V1FoT-Z3"
      },
      "execution_count": 4,
      "outputs": []
    },
    {
      "cell_type": "code",
      "source": [
        "clarified_prompt = \"Describe the photosynthesis process focusing on light absorption and chemical reactions.\""
      ],
      "metadata": {
        "id": "yn_6psEwUDCa"
      },
      "execution_count": 5,
      "outputs": []
    },
    {
      "cell_type": "code",
      "source": [
        "# Run both through generate_response() and compare outputs.\n",
        "print(\"=== Ambiguous Prompt ===\")\n",
        "print(generate_response(ambiguous_prompt), \"\\n\")\n",
        "\n",
        "print(\"=== Clarified Prompt ===\")\n",
        "print(generate_response(clarified_prompt))"
      ],
      "metadata": {
        "colab": {
          "base_uri": "https://localhost:8080/"
        },
        "id": "R9fjj1YOUFOj",
        "outputId": "a3b081f9-9c73-4db8-d1a1-f3a3a24798ea"
      },
      "execution_count": 6,
      "outputs": [
        {
          "output_type": "stream",
          "name": "stdout",
          "text": [
            "=== Ambiguous Prompt ===\n",
            "Could you please clarify what specific process you would like me to describe? There are many different processes in various fields, such as scientific methods, manufacturing, project management, etc. Providing more details will help me give you a more accurate and relevant answer. \n",
            "\n",
            "=== Clarified Prompt ===\n",
            "Photosynthesis is a complex biochemical process that allows plants, algae, and some bacteria to convert light energy into chemical energy stored in glucose. This process primarily occurs in the chloroplasts of plant cells and can be divided into two main stages: the light-dependent reactions and the light-independent reactions (Calvin cycle).\n",
            "\n",
            "### 1. Light Absorption\n",
            "\n",
            "**Chlorophyll and Other Pigments:**\n",
            "- The process begins with the absorption of light by chlorophyll, the green pigment located in the thylakoid membranes of chloroplasts. Chlorophyll primarily absorbs light in the blue (around 430-450 nm) and red (around 640-680 nm) wavelengths, while reflecting green light (around 500-550 nm), which is why plants appear green.\n",
            "- In addition to chlorophyll, other pigments such as carotenoids (orange and yellow pigments) help capture light energy and protect the plant from damage caused by excess light.\n",
            "\n",
            "### 2. Light-Dependent Reactions\n",
            "\n",
            "**Location:** Thylakoid membranes of chloroplasts\n",
            "\n",
            "**Process:**\n",
            "- When chlorophyll absorbs photons of light, it becomes excited and releases high-energy electrons. This initiates a series of reactions known as the electron transport chain.\n",
            "- Water molecules (H₂O) are split in a process called photolysis, releasing oxygen (O₂) as a byproduct and providing electrons to replace those lost by chlorophyll. The reaction can be summarized as:\n",
            "  \\[\n",
            "  2H₂O \\rightarrow 4H^+ + 4e^- + O₂\n",
            "  \\]\n",
            "- The high-energy electrons travel through a series of proteins embedded in the thylakoid membrane, which are part of the electron transport chain. As the electrons move, they lose energy, which is used to pump protons (H⁺ ions) from the stroma into the thylakoid lumen, creating a proton gradient.\n",
            "- This proton gradient drives ATP synthase, an enzyme that synthesizes adenosine triphosphate (ATP) from adenosine diphosphate (ADP) and inorganic phosphate (Pi) through a process called chemiosmosis. The overall reaction is:\n",
            "  \\[\n",
            "  ADP + Pi + energy \\rightarrow ATP\n",
            "  \\]\n",
            "- The high-energy electrons are ultimately transferred to NADP⁺, reducing it to NADPH. The overall reaction for the reduction is:\n",
            "  \\[\n",
            "  NADP^+ + 2e^- + 2H^+ \\rightarrow NADPH + H^+\n",
            "  \\]\n",
            "- The products of the light-dependent reactions are ATP and NADPH, which are used in the next stage of photosynthesis.\n",
            "\n",
            "### 3. Light-Independent Reactions (Calvin Cycle)\n",
            "\n",
            "**Location:** Stroma of chloroplasts\n",
            "\n",
            "**Process:**\n",
            "- The Calvin cycle does not directly require light but uses the ATP and NADPH produced in the light-dependent reactions to drive the fixation of carbon dioxide (CO₂) into organic molecules.\n",
            "- The cycle begins with the enzyme ribulose bisphosphate carboxylase/oxygenase (RuBisCO) catalyzing the reaction between ribulose bisphosphate (RuBP) and CO₂, forming 3-phosphoglycerate (3-PGA).\n",
            "- ATP and NADPH are then used to convert 3-PGA into glyceraldehyde-3-phosphate (G3P), a three-carbon sugar. This involves a series of reactions where ATP provides energy and NADPH provides reducing power.\n",
            "- Some G3P molecules exit the cycle to be used in the synthesis of glucose and other carbohydrates, while others are recycled to regenerate RuBP, allowing the cycle to continue.\n",
            "\n",
            "### Summary\n",
            "\n",
            "In summary, photosynthesis is a vital process that converts light energy into chemical energy. Light absorption by chlorophyll initiates the light-dependent reactions, producing ATP and NADPH while releasing oxygen. The ATP and NADPH are then used in the Calvin cycle to convert carbon dioxide into glucose and other organic compounds, which serve as energy sources for the plant and, ultimately, for the entire ecosystem.\n"
          ]
        }
      ]
    },
    {
      "cell_type": "code",
      "source": [
        "# Exercise 2: Troubleshooting Inconsistent or Irrelevant Output\n",
        "\n",
        "# Task:\n",
        "\n",
        "# Start with a vague prompt that tends to fail:\n",
        "vague = \"Write a poem.\""
      ],
      "metadata": {
        "id": "QjkMajIaUIBY"
      },
      "execution_count": 7,
      "outputs": []
    },
    {
      "cell_type": "code",
      "source": [
        "# Observe shortcomings in the output (such as randomness or lack of clear structure).\n",
        "\n",
        "# Refine the prompt to add instructions:\n",
        "refined = \"Write a 4-line rhyming poem about spring with a hopeful tone.\""
      ],
      "metadata": {
        "id": "tQAaWxgTUNu7"
      },
      "execution_count": 8,
      "outputs": []
    },
    {
      "cell_type": "code",
      "source": [
        "# If the model produces unexpected content, add explicit \"Important:\" instructions to guide it further.\n",
        "print(\"=== Vague Prompt ===\")\n",
        "print(generate_response(vague), \"\\n\")\n",
        "\n",
        "print(\"=== Refined Prompt ===\")\n",
        "print(generate_response(refined), \"\\n\")\n",
        "\n",
        "important_refined = \"\"\"\n",
        "Important: The poem must not mention winter or cold, focus only on spring themes in 4 lines with rhyme.\n",
        "Write the poem:\n",
        "\"\"\"\n",
        "print(generate_response(important_refined))"
      ],
      "metadata": {
        "colab": {
          "base_uri": "https://localhost:8080/"
        },
        "id": "G-pqUH3qUTdz",
        "outputId": "6f3920a9-f8f3-4bb1-94b4-7bd0a9357b1d"
      },
      "execution_count": 9,
      "outputs": [
        {
          "output_type": "stream",
          "name": "stdout",
          "text": [
            "=== Vague Prompt ===\n",
            "In the quiet hush of dawn's embrace,  \n",
            "A golden light begins to trace,  \n",
            "The edges of the waking world,  \n",
            "As dreams of night are softly swirled.  \n",
            "\n",
            "The trees stand tall, their leaves a-flutter,  \n",
            "Whispers of secrets in the morning's utter,  \n",
            "Birds take flight, their songs a cheer,  \n",
            "A symphony that draws us near.  \n",
            "\n",
            "The dew-kissed grass, a jeweled spread,  \n",
            "Each droplet glistens like a thread,  \n",
            "We weave our hopes in nature’s loom,  \n",
            "As petals bloom and shadows loom.  \n",
            "\n",
            "With every step, the earth is alive,  \n",
            "In this sacred space, our spirits thrive,  \n",
            "The sun ascends, a fiery crown,  \n",
            "Warming hearts in its gentle gown.  \n",
            "\n",
            "So let us dance in this fleeting hour,  \n",
            "Embrace the magic, the radiant power,  \n",
            "For life is but a fleeting song,  \n",
            "A tapestry where we all belong. \n",
            "\n",
            "=== Refined Prompt ===\n",
            "In springtime's dance, the flowers bloom,  \n",
            "Awakening life from winter's gloom.  \n",
            "With colors bright and skies so clear,  \n",
            "Hope whispers softly, \"Joy is near.\" \n",
            "\n",
            "In blossoms bright, the gardens sing,  \n",
            "With every bud, the heart takes wing.  \n",
            "The sunlit days, in colors blend,  \n",
            "As life awakens, joys descend.\n"
          ]
        }
      ]
    },
    {
      "cell_type": "code",
      "source": [
        "# Exercise 3: Diagnosing and Fixing Hallucinations in AI Responses\n",
        "\n",
        "\n",
        "# Ask the model a fact-based question without anchoring:\n",
        "hallucination_prompt = \"Tell me about the latest Mars mission.\""
      ],
      "metadata": {
        "id": "Jrz7wa6yUXBg"
      },
      "execution_count": 10,
      "outputs": []
    },
    {
      "cell_type": "code",
      "source": [
        "\n",
        "# Then anchor the prompt with fact-stating instructions:\n",
        "\n",
        "anchored_prompt = \"\"\"\n",
        "Based only on verified scientific information up to 2023,\n",
        "summarize the objectives of the latest Mars mission.\n",
        "If not sure, say 'I don't know.'\n",
        "\"\"\""
      ],
      "metadata": {
        "id": "JqDutx46Ua5Z"
      },
      "execution_count": 11,
      "outputs": []
    },
    {
      "cell_type": "code",
      "source": [
        "\n",
        "# Compare outputs.\n",
        "\n",
        "print(\"=== Potential Hallucination Prompt ===\")\n",
        "print(generate_response(hallucination_prompt), \"\\n\")\n",
        "\n",
        "print(\"=== Anchored Prompt to Avoid Hallucinations ===\")\n",
        "print(generate_response(anchored_prompt))"
      ],
      "metadata": {
        "colab": {
          "base_uri": "https://localhost:8080/"
        },
        "id": "l6szCPedUc0p",
        "outputId": "0af27e07-e35a-4a36-d730-bc7ede17ecba"
      },
      "execution_count": 12,
      "outputs": [
        {
          "output_type": "stream",
          "name": "stdout",
          "text": [
            "=== Potential Hallucination Prompt ===\n",
            "As of October 2023, the latest Mars mission is NASA's Perseverance rover, which successfully landed on Mars on February 18, 2021. Perseverance is part of NASA's Mars 2020 mission and is equipped with advanced scientific instruments designed to search for signs of ancient microbial life, collect rock and soil samples, and test new technologies for future human exploration.\n",
            "\n",
            "Perseverance's main objectives include:\n",
            "\n",
            "1. **Astrobiology**: Studying the planet's geology and past climate to understand the potential for life on Mars.\n",
            "2. **Sample Collection**: Collecting and caching rock and soil samples for potential return to Earth by future missions.\n",
            "3. **Testing Technology**: Demonstrating technologies such as the MOXIE experiment, which produces oxygen from Martian CO2, and the Ingenuity helicopter, which successfully performed powered flight on another planet for the first time.\n",
            "\n",
            "Additionally, the European Space Agency (ESA) and the Russian space agency Roscosmos have been collaborating on the ExoMars mission, which aims to send the Rosalind Franklin rover to Mars, although its launch has faced delays and is currently planned for 2028.\n",
            "\n",
            "Please check reliable space agency updates or news sources for the most current information, as developments in space exploration can change rapidly. \n",
            "\n",
            "=== Anchored Prompt to Avoid Hallucinations ===\n",
            "As of 2023, the most recent Mars mission is NASA's Perseverance rover, which landed on Mars in February 2021. The main objectives of the Perseverance mission are:\n",
            "\n",
            "1. **Astrobiology**: To search for signs of ancient microbial life and to understand the planet's geology and past climate.\n",
            "2. **Sample Collection**: To collect and store soil and rock samples that could be returned to Earth by a future mission.\n",
            "3. **Testing Oxygen Production**: To demonstrate the ability to produce oxygen from Martian CO2, an important step for future human exploration.\n",
            "4. **Mars Helicopter Ingenuity**: To test powered flight in the thin Martian atmosphere with the Ingenuity helicopter, which has provided valuable data on flight operations in such conditions.\n",
            "5. **Understanding the Planet’s Geology**: To analyze the Martian surface and atmosphere to gain insights into the planet’s history and potential for past life.\n",
            "\n",
            "These objectives aim to advance our understanding of Mars and pave the way for future human exploration.\n"
          ]
        }
      ]
    },
    {
      "cell_type": "code",
      "source": [
        "# Exercise 4: Handling Overly Long or Complex Prompts (Troubleshooting Failure Modes)\n",
        "overloaded_prompt = \"\"\"\n",
        "Explain the theory of relativity including special and general relativity,\n",
        "provide examples, historical context, significance in physics, and common misconceptions,\n",
        "all in a single paragraph.\n",
        "\"\"\" * 3  # Repeated to simulate length\n",
        "\n",
        "print(\"=== Overloaded Prompt ===\")\n",
        "print(generate_response(overloaded_prompt), \"\\n\")\n",
        "\n",
        "smaller_prompts = [\n",
        "    \"Explain the theory of special relativity in simple terms.\",\n",
        "    \"Explain the theory of general relativity with a real-world example.\",\n",
        "    \"List common misconceptions about relativity.\"\n",
        "]\n",
        "\n",
        "for i, sp in enumerate(smaller_prompts, 1):\n",
        "    print(f\"--- Smaller Prompt {i} ---\")\n",
        "    print(generate_response(sp), \"\\n\")"
      ],
      "metadata": {
        "colab": {
          "base_uri": "https://localhost:8080/"
        },
        "id": "pB29pQLsUewV",
        "outputId": "cd851d1a-dd23-45a2-a76d-239b8f112f34"
      },
      "execution_count": 13,
      "outputs": [
        {
          "output_type": "stream",
          "name": "stdout",
          "text": [
            "=== Overloaded Prompt ===\n",
            "The theory of relativity, formulated by Albert Einstein in the early 20th century, encompasses two main components: special relativity (1905) and general relativity (1915). Special relativity revolutionized our understanding of space and time, asserting that the laws of physics are the same for all non-accelerating observers and introducing the famous equation E=mc², which shows the equivalence of mass and energy; it also explains phenomena such as time dilation and length contraction, exemplified by particles moving close to the speed of light appearing to experience less time than stationary observers. General relativity expanded this framework to include gravity, proposing that mass curves spacetime, which explains why planets orbit stars; a classic example is the prediction of light bending around massive objects, confirmed during a solar eclipse in 1919. Historically, these theories challenged Newtonian physics and laid the groundwork for modern cosmology and astrophysics, significantly influencing fields such as GPS technology, where time dilation effects must be accounted for. Common misconceptions include the belief that relativity only applies at very high speeds or that it suggests time travel is possible in a practical sense, when in reality, the effects of relativity become significant only at speeds approaching that of light. Overall, Einstein's relativity fundamentally altered our comprehension of the universe, reshaping the relationship between space, time, and gravity. \n",
            "\n",
            "--- Smaller Prompt 1 ---\n",
            "Sure! The theory of special relativity, proposed by Albert Einstein in 1905, is a fundamental theory in physics that describes how space and time are interconnected and how they behave at high speeds, particularly those close to the speed of light. Here are the key points explained in simple terms:\n",
            "\n",
            "1. **Speed of Light is Constant**: One of the main ideas is that the speed of light in a vacuum (about 299,792 kilometers per second or 186,282 miles per second) is always the same, no matter how fast you're moving or in which direction. This is different from everyday experiences where speeds can combine, like a car moving faster if you drive toward another moving car.\n",
            "\n",
            "2. **Time Dilation**: Time can pass at different rates depending on how fast you're moving. If you travel very close to the speed of light, time will slow down for you compared to someone who is stationary. This means if you went on a space journey at near-light speed and then returned, you might find that less time has passed for you than for people on Earth.\n",
            "\n",
            "3. **Length Contraction**: Objects moving at very high speeds will appear shorter in the direction of motion to a stationary observer. So, if a spaceship travels really fast, an observer on the ground would see it as being shorter than it actually is.\n",
            "\n",
            "4. **Mass and Energy**: Special relativity also tells us that mass and energy are related. The famous equation \\(E = mc^2\\) means that energy (E) and mass (m) are interchangeable; they are different forms of the same thing. This implies that as an object moves faster and approaches the speed of light, its mass effectively increases, requiring more energy to continue accelerating it.\n",
            "\n",
            "5. **Simultaneity is Relative**: Events that appear to happen at the same time from one observer's point of view may not seem simultaneous to another observer moving at a different speed. This challenges our intuitive understanding of time.\n",
            "\n",
            "In summary, special relativity changes how we think about space and time, showing that they are not absolute but relative to the observer's speed. It has profound implications for physics, affecting everything from GPS systems to our understanding of the universe. \n",
            "\n",
            "--- Smaller Prompt 2 ---\n",
            "The theory of general relativity, proposed by Albert Einstein in 1915, is a fundamental theory of gravitation that describes gravity not as a force, but as a curvature of spacetime caused by mass and energy. According to this theory, massive objects like planets, stars, and galaxies warp the fabric of spacetime around them, and this curvature affects the motion of other objects.\n",
            "\n",
            "### Basic Concepts of General Relativity\n",
            "1. **Spacetime**: General relativity combines the three dimensions of space with the dimension of time into a four-dimensional continuum known as spacetime.\n",
            "2. **Curvature**: Massive objects cause spacetime to curve, and this curvature influences the paths that objects travel. Instead of moving in straight lines, objects move along paths called geodesics, which are the shortest paths in curved spacetime.\n",
            "3. **Equivalence Principle**: This principle states that the effects of gravity are indistinguishable from acceleration. For example, being in a closed box on Earth feels the same as being in a box accelerating through space.\n",
            "\n",
            "### Real-World Example: The Orbit of Mercury\n",
            "One of the classic tests of general relativity is its explanation of the orbit of Mercury, the planet closest to the Sun. Mercury's orbit precesses, meaning that the point of closest approach to the Sun (the perihelion) shifts over time. \n",
            "\n",
            "#### Classical Newtonian Prediction\n",
            "Using Newton's law of gravitation, astronomers could predict Mercury's orbit fairly well, but there was a discrepancy. The orbit was observed to precess more than Newtonian mechanics could account for—by about 574 arcseconds per century.\n",
            "\n",
            "#### Einstein's Contribution\n",
            "When Einstein applied his theory of general relativity to Mercury's orbit, he found that the curvature of spacetime caused by the Sun's mass could explain the additional precession of Mercury's orbit. The Sun's gravitational field warps the spacetime around it, altering the path that Mercury follows. \n",
            "\n",
            "### Results\n",
            "When calculations were made using general relativity, they correctly accounted for the observed precession of Mercury's orbit. The prediction matched observations precisely, providing strong evidence for the validity of general relativity.\n",
            "\n",
            "### Conclusion\n",
            "General relativity has profound implications beyond Mercury’s orbit, influencing our understanding of black holes, gravitational waves, and the expansion of the universe. It fundamentally changed our view of gravity from a force acting at a distance to a geometric property of spacetime itself. This theory not only offers a framework for understanding celestial mechanics but also has practical applications like GPS technology, which must account for the effects of general relativity to provide accurate location data. \n",
            "\n",
            "--- Smaller Prompt 3 ---\n",
            "Relativity, particularly Einstein's theories of special and general relativity, has led to various misconceptions. Here are some common ones:\n",
            "\n",
            "1. **Relativity is Just About Speed**: While special relativity does address the effects of high speeds, it encompasses more, including time dilation and the interrelationship between space and time.\n",
            "\n",
            "2. **Time Travel is Possible**: While general relativity allows for theoretical constructs (like wormholes) that might permit time travel, such scenarios are speculative and not practically achievable with current technology.\n",
            "\n",
            "3. **Time Dilation Means Time Actually Slows Down**: Time dilation refers to the way time is measured differently for observers in different frames of reference. It doesn’t mean time itself slows down; rather, clocks run at different rates depending on their relative velocities or gravitational fields.\n",
            "\n",
            "4. **Mass Increases with Speed**: A common misconception is that an object's mass increases as it approaches the speed of light. In relativity, it’s more accurate to say that relativistic effects change the object's momentum and energy, but the rest mass remains constant.\n",
            "\n",
            "5. **Nothing Can Move Faster Than Light**: While it's true that, according to relativity, no information or matter can exceed the speed of light in a vacuum, some interpretations of quantum mechanics (like quantum entanglement) suggest phenomena that can appear to occur faster than light without transmitting information.\n",
            "\n",
            "6. **Gravity is a Force Like Other Forces**: In general relativity, gravity is not a conventional force but rather the curvature of spacetime caused by mass. Objects follow paths in this curved spacetime, which we perceive as gravitational attraction.\n",
            "\n",
            "7. **Relativity is Only Relevant for High Speeds or Massive Objects**: While the effects of relativity become significant at high speeds or in strong gravitational fields, they are also applicable in everyday situations, such as GPS satellites needing to account for relativistic effects to provide accurate positioning.\n",
            "\n",
            "8. **Einstein Said Everything is Relative**: While relativity introduces the idea that measurements can vary based on the observer's frame of reference, it does not mean \"everything is relative.\" There are absolute laws of physics that hold true across all frames.\n",
            "\n",
            "9. **The Twin Paradox is a Paradox**: The twin paradox, where one twin ages more slowly than the other due to traveling at high speed, is not a real paradox. It can be resolved by recognizing that the traveling twin experiences acceleration and deceleration, breaking the symmetry of the situation.\n",
            "\n",
            "10. **Black Holes are Just Theoretical**: While black holes were once considered theoretical, they have been observed indirectly through their effects on nearby matter and directly imaged via the Event Horizon Telescope.\n",
            "\n",
            "Understanding these misconceptions can promote a clearer appreciation of the principles of relativity and their implications for our understanding of the universe. \n",
            "\n"
          ]
        }
      ]
    },
    {
      "cell_type": "code",
      "source": [
        "# Exercise 5: Meta-Prompting for Troubleshooting\n",
        "\n",
        "# Start with an ambiguous prompt:\n",
        "ambiguous_request = \"Create an efficient sorting algorithm.\""
      ],
      "metadata": {
        "id": "IfLh7IMZUlXq"
      },
      "execution_count": 14,
      "outputs": []
    },
    {
      "cell_type": "code",
      "source": [
        "#\n",
        "# Ask the model if it understands what is meant by \"efficient sorting algorithm\":\n",
        "\n",
        "meta_prompt = \"\"\"\n",
        "Before you write code, please explain what you understand by\n",
        "'efficient sorting algorithm.' If unsure, ask for clarification.\n",
        "\"\"\""
      ],
      "metadata": {
        "id": "jp9pZIxrUqKJ"
      },
      "execution_count": 15,
      "outputs": []
    },
    {
      "cell_type": "code",
      "source": [
        "\n",
        "# Run meta-prompt and analyze the output.\n",
        "# Based on the model's answer, refine the original prompt with explicit constraints.\n",
        "\n",
        "print(\"=== Ambiguous Request ===\")\n",
        "print(generate_response(ambiguous_request), \"\\n\")\n",
        "\n",
        "print(\"=== Meta Prompt (Check Understanding) ===\")\n",
        "print(generate_response(meta_prompt), \"\\n\")\n",
        "\n",
        "refined_sort_prompt = \"\"\"\n",
        "Write a Python function implementing merge sort, emphasizing O(n log n) time complexity.\n",
        "Include comments explaining each step.\n",
        "\"\"\"\n",
        "print(generate_response(refined_sort_prompt))"
      ],
      "metadata": {
        "colab": {
          "base_uri": "https://localhost:8080/"
        },
        "id": "SInqSMlIUsqI",
        "outputId": "8a3a5507-26a9-4243-dfac-d2d87e8401f9"
      },
      "execution_count": 16,
      "outputs": [
        {
          "output_type": "stream",
          "name": "stdout",
          "text": [
            "=== Ambiguous Request ===\n",
            "Certainly! One of the most efficient general-purpose sorting algorithms is **Quicksort**. Quicksort is an in-place sorting algorithm that is often faster in practice than other O(n log n) algorithms, like Merge Sort or Heap Sort, especially for large datasets. Below is a simple implementation of the Quicksort algorithm in Python.\n",
            "\n",
            "### Quicksort Algorithm\n",
            "\n",
            "```python\n",
            "def quicksort(arr):\n",
            "    if len(arr) <= 1:\n",
            "        return arr\n",
            "    else:\n",
            "        pivot = arr[len(arr) // 2]  # Select the pivot element\n",
            "        left = [x for x in arr if x < pivot]  # Elements less than the pivot\n",
            "        middle = [x for x in arr if x == pivot]  # Elements equal to the pivot\n",
            "        right = [x for x in arr if x > pivot]  # Elements greater than the pivot\n",
            "        return quicksort(left) + middle + quicksort(right)  # Combine the results\n",
            "\n",
            "# Example usage:\n",
            "if __name__ == \"__main__\":\n",
            "    example_array = [3, 6, 8, 10, 1, 2, 1]\n",
            "    sorted_array = quicksort(example_array)\n",
            "    print(\"Sorted array:\", sorted_array)\n",
            "```\n",
            "\n",
            "### Explanation\n",
            "\n",
            "1. **Base Case**: If the array has one or no elements, it's already sorted, so we return it.\n",
            "\n",
            "2. **Choosing a Pivot**: We choose a pivot element. In this example, the pivot is selected as the middle element of the array.\n",
            "\n",
            "3. **Partitioning**: We create three lists:\n",
            "   - `left`: contains all elements less than the pivot.\n",
            "   - `middle`: contains all elements equal to the pivot (to handle duplicates).\n",
            "   - `right`: contains all elements greater than the pivot.\n",
            "\n",
            "4. **Recursive Calls**: We recursively apply the same process to the `left` and `right` lists.\n",
            "\n",
            "5. **Combining**: Finally, we concatenate the sorted `left`, the `middle`, and the sorted `right` to produce the final sorted array.\n",
            "\n",
            "### Time Complexity\n",
            "- **Average Case**: O(n log n)\n",
            "- **Worst Case**: O(n^2) (occurs when the smallest or largest element is always chosen as the pivot)\n",
            "- **Best Case**: O(n log n)\n",
            "\n",
            "### Space Complexity\n",
            "- O(log n) for the recursion stack in the average case.\n",
            "\n",
            "### Remarks\n",
            "Quicksort is generally faster due to its locality of reference and cache performance. However, the worst-case scenario can be avoided by using techniques like randomizing the pivot or using the median-of-three method to choose a better pivot. \n",
            "\n",
            "=== Meta Prompt (Check Understanding) ===\n",
            "An efficient sorting algorithm is one that organizes a collection of items (usually numbers or strings) in a specific order (ascending or descending) in a manner that minimizes the amount of time or resources required to perform the sorting. The efficiency of a sorting algorithm can be evaluated based on several criteria, including:\n",
            "\n",
            "1. **Time Complexity**: This refers to the amount of time an algorithm takes to complete as a function of the size of the input. Efficient sorting algorithms typically have a time complexity of O(n log n) for average and worst-case scenarios. Examples of such algorithms include Merge Sort, Quick Sort, and Heap Sort. In contrast, less efficient algorithms like Bubble Sort or Insertion Sort have a worst-case time complexity of O(n²).\n",
            "\n",
            "2. **Space Complexity**: This refers to the amount of additional memory required by the algorithm. Some sorting algorithms, like Merge Sort, require additional space for temporary arrays, while others, like Quick Sort, can be implemented in-place, using minimal additional memory. An efficient algorithm balances both time and space requirements.\n",
            "\n",
            "3. **Stability**: A stable sorting algorithm maintains the relative order of records with equal keys (values). This property can be important in certain applications, making stability a factor in determining efficiency based on the context of use.\n",
            "\n",
            "4. **Adaptability**: Some sorting algorithms can take advantage of existing order in the input data. For instance, Insertion Sort performs better on nearly sorted data, achieving a time complexity of O(n).\n",
            "\n",
            "5. **Complexity of Implementation**: An efficient algorithm should also be reasonably easy to implement and maintain. Algorithms that are overly complex may be less practical despite having better theoretical time complexity.\n",
            "\n",
            "Overall, an efficient sorting algorithm is one that not only sorts data quickly but does so while minimizing resource usage and maintaining ease of use, depending on the specific requirements of the task at hand. \n",
            "\n",
            "Certainly! Below is a Python implementation of the Merge Sort algorithm. The function is designed to sort a list of numbers while emphasizing its O(n log n) time complexity. I've added comments throughout the code to explain each step of the process.\n",
            "\n",
            "```python\n",
            "def merge_sort(arr):\n",
            "    # If the array is empty or has one element, it is already sorted\n",
            "    if len(arr) <= 1:\n",
            "        return arr\n",
            "\n",
            "    # Step 1: Divide the array into two halves\n",
            "    mid = len(arr) // 2  # Find the middle index\n",
            "    left_half = arr[:mid]  # Left half\n",
            "    right_half = arr[mid:]  # Right half\n",
            "\n",
            "    # Step 2: Recursively sort both halves\n",
            "    sorted_left = merge_sort(left_half)  # Sort the left half\n",
            "    sorted_right = merge_sort(right_half)  # Sort the right half\n",
            "\n",
            "    # Step 3: Merge the sorted halves\n",
            "    return merge(sorted_left, sorted_right)\n",
            "\n",
            "def merge(left, right):\n",
            "    # This function merges two sorted arrays into a single sorted array\n",
            "    merged = []  # This will hold the merged array\n",
            "    left_index, right_index = 0, 0  # Indices to track positions in the left and right arrays\n",
            "\n",
            "    # Step 4: Compare elements from both halves and merge them in sorted order\n",
            "    while left_index < len(left) and right_index < len(right):\n",
            "        if left[left_index] < right[right_index]:\n",
            "            merged.append(left[left_index])  # Add the smaller element to merged\n",
            "            left_index += 1  # Move to the next element in the left array\n",
            "        else:\n",
            "            merged.append(right[right_index])  # Add the smaller element to merged\n",
            "            right_index += 1  # Move to the next element in the right array\n",
            "\n",
            "    # Step 5: If there are remaining elements in either half, add them to merged\n",
            "    while left_index < len(left):\n",
            "        merged.append(left[left_index])  # Append remaining elements from left\n",
            "        left_index += 1\n",
            "\n",
            "    while right_index < len(right):\n",
            "        merged.append(right[right_index])  # Append remaining elements from right\n",
            "        right_index += 1\n",
            "\n",
            "    return merged  # Return the merged sorted array\n",
            "\n",
            "# Example usage\n",
            "if __name__ == \"__main__\":\n",
            "    input_array = [38, 27, 43, 3, 9, 82, 10]\n",
            "    sorted_array = merge_sort(input_array)\n",
            "    print(\"Sorted array:\", sorted_array)\n",
            "```\n",
            "\n",
            "### Explanation of the Merge Sort Process:\n",
            "\n",
            "1. **Base Case**: If the input array is empty or has one element, it is already sorted, so we directly return it.\n",
            "\n",
            "2. **Divide Step**: The array is split into two halves using the middle index. This is done using slicing.\n",
            "\n",
            "3. **Recursive Sort**: The function calls itself recursively for both halves of the array until it reaches the base case.\n",
            "\n",
            "4. **Merge Step**: The `merge` function takes two sorted arrays (left and right) and merges them into a single sorted array:\n",
            "   - It compares the elements of both arrays, adding the smaller element to the `merged` array.\n",
            "   - If one array is exhausted before the other, it appends the remaining elements of the other array.\n",
            "\n",
            "5. **Final Output**: The merged array is returned, which results in a fully sorted array once all recursive calls are completed.\n",
            "\n",
            "### Time Complexity:\n",
            "- The time complexity of Merge Sort is O(n log n). The division of the array into halves contributes a logarithmic factor (log n), while the merging process requires linear time (O(n)) for each level of recursion, resulting in the overall O(n log n) complexity.\n"
          ]
        }
      ]
    }
  ]
}