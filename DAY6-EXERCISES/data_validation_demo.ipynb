{
  "nbformat": 4,
  "nbformat_minor": 0,
  "metadata": {
    "colab": {
      "provenance": []
    },
    "kernelspec": {
      "name": "python3",
      "display_name": "Python 3"
    },
    "language_info": {
      "name": "python"
    }
  },
  "cells": [
    {
      "cell_type": "code",
      "execution_count": 1,
      "metadata": {
        "id": "sF7P8bqQQNCP"
      },
      "outputs": [],
      "source": [
        "import pandas as pd\n",
        "import numpy as np"
      ]
    },
    {
      "cell_type": "code",
      "source": [
        "# Load dataset\n",
        "url = \"https://raw.githubusercontent.com/uiuc-cse/data-fa14/gh-pages/data/iris.csv\"\n",
        "df = pd.read_csv(url)\n",
        "\n",
        "# Display initial rows\n",
        "print(df.head())\n"
      ],
      "metadata": {
        "colab": {
          "base_uri": "https://localhost:8080/"
        },
        "id": "SIF1GTCUcJe9",
        "outputId": "4698baba-2553-4f0c-c475-ed689d4e2ba4"
      },
      "execution_count": 2,
      "outputs": [
        {
          "output_type": "stream",
          "name": "stdout",
          "text": [
            "   sepal_length  sepal_width  petal_length  petal_width species\n",
            "0           5.1          3.5           1.4          0.2  setosa\n",
            "1           4.9          3.0           1.4          0.2  setosa\n",
            "2           4.7          3.2           1.3          0.2  setosa\n",
            "3           4.6          3.1           1.5          0.2  setosa\n",
            "4           5.0          3.6           1.4          0.2  setosa\n"
          ]
        }
      ]
    },
    {
      "cell_type": "code",
      "source": [
        "# Check data types and summary\n",
        "print(df.info())\n",
        "print(df.describe())\n"
      ],
      "metadata": {
        "colab": {
          "base_uri": "https://localhost:8080/"
        },
        "id": "zsGAbRPLcNww",
        "outputId": "9d7c44a1-7410-4343-aae4-bafe32ac19b2"
      },
      "execution_count": 3,
      "outputs": [
        {
          "output_type": "stream",
          "name": "stdout",
          "text": [
            "<class 'pandas.core.frame.DataFrame'>\n",
            "RangeIndex: 150 entries, 0 to 149\n",
            "Data columns (total 5 columns):\n",
            " #   Column        Non-Null Count  Dtype  \n",
            "---  ------        --------------  -----  \n",
            " 0   sepal_length  150 non-null    float64\n",
            " 1   sepal_width   150 non-null    float64\n",
            " 2   petal_length  150 non-null    float64\n",
            " 3   petal_width   150 non-null    float64\n",
            " 4   species       150 non-null    object \n",
            "dtypes: float64(4), object(1)\n",
            "memory usage: 6.0+ KB\n",
            "None\n",
            "       sepal_length  sepal_width  petal_length  petal_width\n",
            "count    150.000000   150.000000    150.000000   150.000000\n",
            "mean       5.843333     3.054000      3.758667     1.198667\n",
            "std        0.828066     0.433594      1.764420     0.763161\n",
            "min        4.300000     2.000000      1.000000     0.100000\n",
            "25%        5.100000     2.800000      1.600000     0.300000\n",
            "50%        5.800000     3.000000      4.350000     1.300000\n",
            "75%        6.400000     3.300000      5.100000     1.800000\n",
            "max        7.900000     4.400000      6.900000     2.500000\n"
          ]
        }
      ]
    },
    {
      "cell_type": "code",
      "source": [
        "# Unique species and full stats\n",
        "print(\"Unique species:\", df['species'].unique())\n",
        "print(df.describe(include='all'))\n"
      ],
      "metadata": {
        "colab": {
          "base_uri": "https://localhost:8080/"
        },
        "id": "G_00_jrDcSup",
        "outputId": "d59506e3-3b73-4d73-9618-827f4b1731ae"
      },
      "execution_count": 4,
      "outputs": [
        {
          "output_type": "stream",
          "name": "stdout",
          "text": [
            "Unique species: ['setosa' 'versicolor' 'virginica']\n",
            "        sepal_length  sepal_width  petal_length  petal_width species\n",
            "count     150.000000   150.000000    150.000000   150.000000     150\n",
            "unique           NaN          NaN           NaN          NaN       3\n",
            "top              NaN          NaN           NaN          NaN  setosa\n",
            "freq             NaN          NaN           NaN          NaN      50\n",
            "mean        5.843333     3.054000      3.758667     1.198667     NaN\n",
            "std         0.828066     0.433594      1.764420     0.763161     NaN\n",
            "min         4.300000     2.000000      1.000000     0.100000     NaN\n",
            "25%         5.100000     2.800000      1.600000     0.300000     NaN\n",
            "50%         5.800000     3.000000      4.350000     1.300000     NaN\n",
            "75%         6.400000     3.300000      5.100000     1.800000     NaN\n",
            "max         7.900000     4.400000      6.900000     2.500000     NaN\n"
          ]
        }
      ]
    },
    {
      "cell_type": "code",
      "source": [
        "# Check for missing values\n",
        "print(\"Missing values:\\n\", df.isnull().sum())\n",
        "\n",
        "# Check for any negative values in numerical columns\n",
        "for col in ['sepal_length', 'sepal_width', 'petal_length', 'petal_width']:\n",
        "    print(f\"{col} has values < 0:\", (df[col] < 0).any())\n"
      ],
      "metadata": {
        "colab": {
          "base_uri": "https://localhost:8080/"
        },
        "id": "-TC-vXbqcU2R",
        "outputId": "8201ccbf-02b3-4a80-a3f2-17923a3d8f6b"
      },
      "execution_count": 5,
      "outputs": [
        {
          "output_type": "stream",
          "name": "stdout",
          "text": [
            "Missing values:\n",
            " sepal_length    0\n",
            "sepal_width     0\n",
            "petal_length    0\n",
            "petal_width     0\n",
            "species         0\n",
            "dtype: int64\n",
            "sepal_length has values < 0: False\n",
            "sepal_width has values < 0: False\n",
            "petal_length has values < 0: False\n",
            "petal_width has values < 0: False\n"
          ]
        }
      ]
    },
    {
      "cell_type": "code",
      "source": [
        "# Fill missing numeric values with median — no missing here, but added as example\n",
        "df.fillna(df.median(numeric_only=True), inplace=True)\n"
      ],
      "metadata": {
        "id": "8MMLNmGmcXZo"
      },
      "execution_count": 6,
      "outputs": []
    },
    {
      "cell_type": "code",
      "source": [
        "# Create new feature: sepal_area\n",
        "df['sepal_area'] = df['sepal_length'] * df['sepal_width']\n",
        "print(df[['sepal_length', 'sepal_width', 'sepal_area']].head())\n"
      ],
      "metadata": {
        "colab": {
          "base_uri": "https://localhost:8080/"
        },
        "id": "c_xzqleDcaYq",
        "outputId": "b0cff446-4a76-4c63-b1cb-80b8f3a4fac9"
      },
      "execution_count": 7,
      "outputs": [
        {
          "output_type": "stream",
          "name": "stdout",
          "text": [
            "   sepal_length  sepal_width  sepal_area\n",
            "0           5.1          3.5       17.85\n",
            "1           4.9          3.0       14.70\n",
            "2           4.7          3.2       15.04\n",
            "3           4.6          3.1       14.26\n",
            "4           5.0          3.6       18.00\n"
          ]
        }
      ]
    },
    {
      "cell_type": "code",
      "source": [
        "# Convert species to numeric codes\n",
        "df['species_encoded'] = df['species'].astype('category').cat.codes\n",
        "print(df[['species', 'species_encoded']].head())\n"
      ],
      "metadata": {
        "colab": {
          "base_uri": "https://localhost:8080/"
        },
        "id": "04nymv2Ocdmw",
        "outputId": "f12cd601-f243-4b13-eb70-0e9d6a2584c7"
      },
      "execution_count": 8,
      "outputs": [
        {
          "output_type": "stream",
          "name": "stdout",
          "text": [
            "  species  species_encoded\n",
            "0  setosa                0\n",
            "1  setosa                0\n",
            "2  setosa                0\n",
            "3  setosa                0\n",
            "4  setosa                0\n"
          ]
        }
      ]
    },
    {
      "cell_type": "code",
      "source": [
        "\n",
        "\n",
        "print(\"\\n1) What kind of data problems could you catch with validation?\")\n",
        "print(\"- Missing values, wrong data types, out-of-range values, and duplicates.\")\n",
        "\n",
        "print(\"\\n2) Why is preparation crucial before training machine learning models?\")\n",
        "print(\"- Ensures data is clean, consistent, and numeric, so models learn effectively.\")\n",
        "\n",
        "print(\"\\n3) What issues would occur if you skip validation and preparation?\")\n",
        "print(\"- Errors during model training, poor accuracy, or biased outputs.\")\n"
      ],
      "metadata": {
        "colab": {
          "base_uri": "https://localhost:8080/"
        },
        "id": "dkfaWaEHcvdy",
        "outputId": "4361ca4e-6582-4432-fab1-49c830614627"
      },
      "execution_count": 9,
      "outputs": [
        {
          "output_type": "stream",
          "name": "stdout",
          "text": [
            "\n",
            "1) What kind of data problems could you catch with validation?\n",
            "- Missing values, wrong data types, out-of-range values, and duplicates.\n",
            "\n",
            "2) Why is preparation crucial before training machine learning models?\n",
            "- Ensures data is clean, consistent, and numeric, so models learn effectively.\n",
            "\n",
            "3) What issues would occur if you skip validation and preparation?\n",
            "- Errors during model training, poor accuracy, or biased outputs.\n"
          ]
        }
      ]
    }
  ]
}