{
  "nbformat": 4,
  "nbformat_minor": 0,
  "metadata": {
    "colab": {
      "provenance": []
    },
    "kernelspec": {
      "name": "python3",
      "display_name": "Python 3"
    },
    "language_info": {
      "name": "python"
    }
  },
  "cells": [
    {
      "cell_type": "code",
      "execution_count": 2,
      "metadata": {
        "colab": {
          "base_uri": "https://localhost:8080/"
        },
        "id": "f8cBKRSnHMtC",
        "outputId": "4ec6dbad-f29d-4939-ca3a-d8dabaa63e15"
      },
      "outputs": [
        {
          "output_type": "stream",
          "name": "stdout",
          "text": [
            "✅ OpenAI API key loaded safely\n"
          ]
        }
      ],
      "source": [
        "from google.colab import userdata\n",
        "import os\n",
        "\n",
        "# Set your OpenAI API key securely in Colab Secrets (once)\n",
        "# userdata.set(\"OPENAI_API_KEY\", \"your-api-key-here\")\n",
        "\n",
        "# Retrieve key in your notebook\n",
        "openai_api_key = userdata.get(\"OPENAI_API_KEY\")\n",
        "if openai_api_key:\n",
        "    os.environ[\"OPENAI_API_KEY\"] = openai_api_key\n",
        "    print(\"✅ OpenAI API key loaded safely\")\n",
        "else:\n",
        "    print(\"❌ OpenAI API key not found. Please set it using Colab Secrets.\")"
      ]
    },
    {
      "cell_type": "code",
      "source": [
        "!pip install --quiet openai -q\n",
        "# Create client\n",
        "from openai import OpenAI\n",
        "client = OpenAI(api_key=os.environ[\"OPENAI_API_KEY\"])"
      ],
      "metadata": {
        "id": "8Qf-2QjnK8dx"
      },
      "execution_count": 3,
      "outputs": []
    },
    {
      "cell_type": "code",
      "source": [
        "!pip install --quiet openai\n",
        "\n",
        "from google.colab import userdata\n",
        "import os, time\n",
        "from openai import OpenAI\n",
        "\n",
        "api_key = userdata.get(\"OPENAI_API_KEY\")\n",
        "if not api_key:\n",
        "    raise ValueError(\"❌ API key not found. Please set it in Colab Secrets (userdata).\")\n",
        "\n",
        "os.environ[\"OPENAI_API_KEY\"] = api_key\n",
        "client = OpenAI()\n",
        "print(\"✅ OpenAI client ready\")"
      ],
      "metadata": {
        "colab": {
          "base_uri": "https://localhost:8080/"
        },
        "id": "OffXW9tcLufV",
        "outputId": "71dcb3e4-d4c2-4673-f6c9-8319976f3fdd"
      },
      "execution_count": 6,
      "outputs": [
        {
          "output_type": "stream",
          "name": "stdout",
          "text": [
            "✅ OpenAI client ready\n"
          ]
        }
      ]
    },
    {
      "cell_type": "code",
      "source": [
        "def get_ai_response(prompt, model=\"gpt-4o-mini\", temperature=0.7):\n",
        "    try:\n",
        "        start_time = time.time()\n",
        "        resp = client.chat.completions.create(\n",
        "            model=model,\n",
        "            messages=[{\"role\": \"user\", \"content\": prompt}],\n",
        "            temperature=temperature\n",
        "        )\n",
        "        latency = time.time() - start_time\n",
        "        return resp.choices[0].message.content.strip(), latency\n",
        "    except Exception as e:\n",
        "        return f\"Error: {e}\", None"
      ],
      "metadata": {
        "id": "Lr10JDFcLAGf"
      },
      "execution_count": 7,
      "outputs": []
    },
    {
      "cell_type": "code",
      "source": [
        "# Problem 1 – Multi-Stage Prompt Pipeline\n",
        "article = \"\"\"\n",
        "Artificial intelligence is being used to improve renewable energy efficiency.\n",
        "Smart algorithms help predict electricity demand, optimize grid usage,\n",
        "and integrate solar and wind power into existing infrastructure.\n",
        "\"\"\"\n",
        "\n",
        "summary_prompt = f\"Summarize this article in 2 concise sentences:\\n\\n{article}\"\n",
        "summary, _ = get_ai_response(summary_prompt)\n",
        "print(\"Summary:\", summary, \"\\n\")\n",
        "\n",
        "quiz_prompt = f\"From this summary, generate 3 quiz questions:\\n\\n{summary}\"\n",
        "quiz, _ = get_ai_response(quiz_prompt)\n",
        "print(\"Quiz Questions:\\n\", quiz)\n"
      ],
      "metadata": {
        "colab": {
          "base_uri": "https://localhost:8080/"
        },
        "id": "_A8u-2lALEDX",
        "outputId": "66b1bd8b-0a54-4a34-8183-017c3616dd35"
      },
      "execution_count": 8,
      "outputs": [
        {
          "output_type": "stream",
          "name": "stdout",
          "text": [
            "Summary: Artificial intelligence enhances renewable energy efficiency by utilizing smart algorithms to predict electricity demand and optimize grid usage. This technology facilitates the integration of solar and wind power into existing energy infrastructure. \n",
            "\n",
            "Quiz Questions:\n",
            " 1. How does artificial intelligence improve renewable energy efficiency according to the summary?  \n",
            "   a) By increasing the production of fossil fuels  \n",
            "   b) By predicting electricity demand and optimizing grid usage  \n",
            "   c) By reducing the use of solar and wind power  \n",
            "   d) By eliminating the need for energy infrastructure  \n",
            "\n",
            "2. What role does artificial intelligence play in the integration of renewable energy sources like solar and wind power?  \n",
            "   a) It makes them less efficient  \n",
            "   b) It facilitates their integration into existing energy infrastructure  \n",
            "   c) It replaces traditional energy sources  \n",
            "   d) It creates barriers to their use  \n",
            "\n",
            "3. Which technology is mentioned as being enhanced by artificial intelligence to support renewable energy?  \n",
            "   a) Smart meters  \n",
            "   b) Smart algorithms  \n",
            "   c) Battery storage systems  \n",
            "   d) Wind turbines\n"
          ]
        }
      ]
    },
    {
      "cell_type": "code",
      "source": [
        "# Problem 2 – Role Switching in Prompt Pipelines\n",
        "base_question = \"Explain the importance of cybersecurity for small businesses.\"\n",
        "\n",
        "role_explainer = f\"You are a technical explainer. Break the following topic into bullet points:\\n{base_question}\"\n",
        "role_coach = f\"You are a motivational mentor. Encourage the reader to learn about:\\n{base_question}\"\n",
        "\n",
        "print(\"=== Technical Explainer ===\")\n",
        "print(get_ai_response(role_explainer)[0], \"\\n\")\n",
        "\n",
        "print(\"=== Motivational Mentor ===\")\n",
        "print(get_ai_response(role_coach)[0])\n"
      ],
      "metadata": {
        "colab": {
          "base_uri": "https://localhost:8080/"
        },
        "id": "CTM2-qndLlkg",
        "outputId": "3374f265-8eca-4882-836c-887e0e4117c6"
      },
      "execution_count": 9,
      "outputs": [
        {
          "output_type": "stream",
          "name": "stdout",
          "text": [
            "=== Technical Explainer ===\n",
            "### Importance of Cybersecurity for Small Businesses\n",
            "\n",
            "- **Protection of Sensitive Data**  \n",
            "  - Safeguards customer information (e.g., personal, financial details).\n",
            "  - Protects proprietary business information (e.g., trade secrets, intellectual property).\n",
            "\n",
            "- **Prevention of Financial Loss**  \n",
            "  - Reduces the risk of financial theft and fraud.\n",
            "  - Minimizes potential costs associated with data breaches (legal fees, recovery costs).\n",
            "\n",
            "- **Maintaining Customer Trust**  \n",
            "  - Builds confidence among customers regarding data protection.\n",
            "  - Enhances business reputation by demonstrating commitment to security.\n",
            "\n",
            "- **Compliance with Regulations**  \n",
            "  - Ensures adherence to legal requirements (e.g., GDPR, HIPAA).\n",
            "  - Avoids penalties and fines associated with non-compliance.\n",
            "\n",
            "- **Operational Continuity**  \n",
            "  - Protects against disruptions caused by cyberattacks (e.g., ransomware).\n",
            "  - Facilitates business continuity planning and disaster recovery processes.\n",
            "\n",
            "- **Competitive Advantage**  \n",
            "  - Differentiates the business as a secure option in the market.\n",
            "  - Attracts security-conscious customers and partners.\n",
            "\n",
            "- **Increasing Cyber Threat Landscape**  \n",
            "  - Acknowledges the rise in targeted attacks on small businesses.\n",
            "  - Recognizes that small businesses are often perceived as easier targets.\n",
            "\n",
            "- **Cost-Effective Security Solutions**  \n",
            "  - Availability of affordable cybersecurity tools and services tailored for small businesses.\n",
            "  - Encourages proactive measures to mitigate risks rather than reactive responses.\n",
            "\n",
            "- **Employee Training and Awareness**  \n",
            "  - Promotes a culture of security within the organization.\n",
            "  - Reduces risks associated with human error through training programs.\n",
            "\n",
            "- **Long-Term Business Sustainability**  \n",
            "  - Protects the longevity of the business by preventing catastrophic losses.\n",
            "  - Supports overall growth by ensuring a safe operating environment. \n",
            "\n",
            "=== Motivational Mentor ===\n",
            "Absolutely! Let's dive into the critical importance of cybersecurity for small businesses. \n",
            "\n",
            "In today’s digital age, the reliance on technology is at an all-time high. While this provides incredible opportunities for growth and efficiency, it also exposes businesses, particularly small ones, to significant risks. Here’s why you should prioritize learning about cybersecurity:\n",
            "\n",
            "1. **Protection from Threats**: Cyber threats are rampant and increasingly sophisticated. Small businesses often become targets because they may not have the robust defenses larger corporations do. Understanding cybersecurity can empower you to shield your business from data breaches, ransomware attacks, and other malicious activities that could compromise your sensitive information.\n",
            "\n",
            "2. **Building Trust with Customers**: Trust is the foundation of any successful business relationship. Customers want to know their data is safe. By prioritizing cybersecurity, you not only protect your business but also build confidence among your clients. Learning how to secure their information can become part of your brand's promise and a unique selling point.\n",
            "\n",
            "3. **Financial Security**: The financial impact of a cyber attack can be devastating for small businesses. The costs associated with data breaches—legal fees, recovery costs, and potential loss of business—can add up quickly. By investing time in understanding cybersecurity, you can implement measures that save you money in the long run and ensure your business remains financially healthy.\n",
            "\n",
            "4. **Regulatory Compliance**: Many industries are subject to regulations regarding data protection and privacy. Understanding cybersecurity helps you stay compliant with these laws, avoiding potential fines and legal issues that could arise from negligence. Being proactive in your cybersecurity efforts ensures you're not caught off guard.\n",
            "\n",
            "5. **Business Continuity**: A significant breach can halt your operations entirely. By learning about cybersecurity, you can develop a plan that not only protects your data but also ensures your business can recover quickly in the event of an incident. This resilience is crucial in today’s fast-paced environment.\n",
            "\n",
            "6. **Empowerment Through Knowledge**: The more you learn about cybersecurity, the more empowered you become as a business owner. You’ll be able to make informed decisions about the tools and strategies you need to safeguard your business. This knowledge can also help you train your employees, creating a culture of security within your organization.\n",
            "\n",
            "7. **Staying Ahead of Competitors**: In a world where digital prowess is increasingly crucial, being knowledgeable about cybersecurity can set you apart from your competitors. Clients are more likely to choose a business that demonstrates a commitment to protecting their data.\n",
            "\n",
            "Now is the time to act! Take the initiative to learn about cybersecurity—whether through online courses, webinars, or workshops. Engage with experts, read up-to-date articles, and share knowledge with your team. By making cybersecurity a priority, you not only protect your business but also pave the way for sustainable growth and success in an ever-evolving digital landscape.\n",
            "\n",
            "Remember, every step you take towards understanding cybersecurity is a step towards securing the future of your business. Embrace the challenge, invest in your knowledge, and watch your business thrive!\n"
          ]
        }
      ]
    },
    {
      "cell_type": "code",
      "source": [
        "# Problem 3 – Prompt Version Control Simulation\n",
        "prompt_v1 = \"Give travel tips for visiting Japan.\"\n",
        "prompt_v2 = \"You are a travel assistant. Suggest 3 budget-friendly travel tips for Japan.\"\n",
        "prompt_v3 = \"\"\"You are a helpful travel assistant.\n",
        "Example:\n",
        "1. Visit free attractions like parks\n",
        "2. Eat at local markets\n",
        "3. Use public transport\n",
        "Now give 3 budget-friendly Japan travel tips in similar style.\"\"\"\n",
        "\n",
        "versions = [prompt_v1, prompt_v2, prompt_v3]\n",
        "\n",
        "for i, pv in enumerate(versions, 1):\n",
        "    print(f\"--- Version {i} ---\")\n",
        "    print(get_ai_response(pv)[0], \"\\n\")\n"
      ],
      "metadata": {
        "colab": {
          "base_uri": "https://localhost:8080/"
        },
        "id": "7FvKlaa4L0k6",
        "outputId": "7f475b05-8edd-445d-c3f8-4bd2a0f4d3fa"
      },
      "execution_count": 10,
      "outputs": [
        {
          "output_type": "stream",
          "name": "stdout",
          "text": [
            "--- Version 1 ---\n",
            "Visiting Japan can be a wonderful experience, filled with unique culture, delicious food, and stunning landscapes. Here are some travel tips to help you make the most of your trip:\n",
            "\n",
            "### 1. Learn Basic Japanese Phrases\n",
            "- While many Japanese people speak some English, learning a few basic phrases can enhance your experience. Key phrases include greetings, thank you (arigatou gozaimasu), and essential questions like \"Where is...?\" (どこですか？ - doko desu ka?).\n",
            "\n",
            "### 2. Get a Japan Rail Pass\n",
            "- If you plan on traveling between cities, consider purchasing a Japan Rail Pass before your trip. It offers unlimited travel on most trains, including the shinkansen (bullet trains), making it a cost-effective option for exploring the country.\n",
            "\n",
            "### 3. Cash is King\n",
            "- While credit cards are becoming more accepted, many places still prefer cash. Ensure you have enough yen on hand, especially for smaller shops, restaurants, and rural areas. ATMs that accept international cards can be found at convenience stores.\n",
            "\n",
            "### 4. Respect Cultural Norms\n",
            "- Familiarize yourself with Japanese etiquette. Bowing is a common greeting; remove your shoes when entering homes and some traditional accommodations, and be respectful in public spaces. Avoid speaking loudly on public transport.\n",
            "\n",
            "### 5. Use Public Transportation\n",
            "- Japan has an efficient and clean public transportation system. Familiarize yourself with the subway and bus systems in cities like Tokyo and Osaka. Apps like Google Maps can help you navigate public transport.\n",
            "\n",
            "### 6. Try Local Cuisine\n",
            "- Japanese food is diverse and delicious. Don't miss out on trying sushi, ramen, tempura, okonomiyaki, and regional specialties. Visit local markets and izakayas for authentic experiences.\n",
            "\n",
            "### 7. Stay Connected\n",
            "- Consider renting a pocket Wi-Fi device or getting a SIM card for your phone. This will help you navigate, communicate, and stay connected while exploring.\n",
            "\n",
            "### 8. Plan Your Itinerary Wisely\n",
            "- Japan has many attractions, from ancient temples to modern cities. Prioritize your must-see sights but leave some time for spontaneous experiences. Consider visiting smaller towns for a more authentic experience.\n",
            "\n",
            "### 9. Attend Festivals\n",
            "- If your visit coincides with local festivals (matsuri), make an effort to attend. These events often feature traditional music, dance, food, and parades, offering a glimpse into Japanese culture.\n",
            "\n",
            "### 10. Stay in Different Types of Accommodations\n",
            "- Experience various accommodations, from traditional ryokan (Japanese inns) to capsule hotels. Each offers a unique experience and insight into Japanese hospitality.\n",
            "\n",
            "### 11. Be Mindful of Trash\n",
            "- Public trash bins are rare in Japan, so it's common practice to carry your trash with you until you find a place to dispose of it. Make sure to separate recyclables from general waste.\n",
            "\n",
            "### 12. Visit Temples and Shrines\n",
            "- Take time to explore Japan’s many temples and shrines. Each has its own unique history and beauty. Remember to observe proper etiquette when visiting, such as bowing at torii gates and washing hands at purification fountains.\n",
            "\n",
            "### 13. Enjoy Nature\n",
            "- Japan's natural beauty is breathtaking. Explore national parks, hike the Japanese Alps, relax in an onsen (hot spring), or visit famous spots like Mount Fuji and the cherry blossoms in spring.\n",
            "\n",
            "### 14. Stay Hydrated and Snack Smart\n",
            "- Carry a reusable water bottle and refill it at drinking fountains. Convenience stores offer a variety of tasty snacks and meals, perfect for on-the-go eating.\n",
            "\n",
            "### 15. Be Open and Flexible\n",
            "- While it’s great to have a plan, be open to new experiences and flexible with your itinerary. Sometimes the best moments come from unexpected adventures!\n",
            "\n",
            "By keeping these tips in mind, you can have a fulfilling and memorable experience during your visit to Japan. Enjoy your trip! \n",
            "\n",
            "--- Version 2 ---\n",
            "Absolutely! Here are three budget-friendly travel tips for Japan:\n",
            "\n",
            "1. **Utilize Japan Rail Pass**: If you plan to travel between cities, consider purchasing a Japan Rail Pass before you arrive. This pass offers unlimited travel on JR trains, including shinkansen (bullet trains), for a fixed period (7, 14, or 21 days). It's a cost-effective way to explore multiple destinations, and it allows you to travel efficiently without the hassle of buying individual tickets.\n",
            "\n",
            "2. **Eat Like a Local**: Instead of dining in expensive restaurants, opt for budget-friendly meals at local eateries. Look for konbini (convenience stores) like 7-Eleven, FamilyMart, and Lawson, which offer a variety of affordable and delicious options, including bento boxes, onigiri (rice balls), and sandwiches. Additionally, try local ramen shops, curry houses, or izakayas where you can enjoy filling meals at reasonable prices.\n",
            "\n",
            "3. **Stay in Budget Accommodations**: Consider staying in hostels, guesthouses, or capsule hotels, which are often much cheaper than traditional hotels. Websites like Hostelworld and Booking.com can help you find budget-friendly options. Alternatively, you can explore homestay options or even sleep on tatami mats in ryokans (traditional inns) for an authentic experience at a lower cost.\n",
            "\n",
            "By incorporating these tips into your travel plans, you can enjoy Japan without breaking the bank! \n",
            "\n",
            "--- Version 3 ---\n",
            "1. Explore local temples and shrines, many of which have free or low-cost entry fees.  \n",
            "2. Try bento boxes from convenience stores for affordable and delicious meals on the go.  \n",
            "3. Take advantage of regional rail passes for unlimited travel on public transportation within specific areas. \n",
            "\n"
          ]
        }
      ]
    },
    {
      "cell_type": "code",
      "source": [
        "# Problem 4 – Keyword-Based Scoring\n",
        "from collections import Counter\n",
        "\n",
        "prompt = \"Explain how photosynthesis works.\"\n",
        "expected_keywords = [\"photosynthesis\", \"sunlight\", \"chlorophyll\", \"glucose\", \"oxygen\"]\n",
        "\n",
        "response, _ = get_ai_response(prompt)\n",
        "print(\"Response:\\n\", response, \"\\n\")\n",
        "\n",
        "score = sum(1 for kw in expected_keywords if kw.lower() in response.lower())\n",
        "print(f\"Keyword Match Score: {score}/{len(expected_keywords)}\")\n"
      ],
      "metadata": {
        "colab": {
          "base_uri": "https://localhost:8080/"
        },
        "id": "jDSkD-14L3mt",
        "outputId": "df726e31-530d-49a4-a14d-360020e180ef"
      },
      "execution_count": 11,
      "outputs": [
        {
          "output_type": "stream",
          "name": "stdout",
          "text": [
            "Response:\n",
            " Photosynthesis is the process by which green plants, algae, and some bacteria convert light energy into chemical energy, specifically glucose, using carbon dioxide and water. This process is essential for life on Earth as it provides the primary source of energy for nearly all living organisms, directly or indirectly.\n",
            "\n",
            "### Key Components of Photosynthesis\n",
            "\n",
            "1. **Chlorophyll**: A green pigment found in the chloroplasts of plant cells, chlorophyll captures light energy, primarily from the sun.\n",
            "\n",
            "2. **Light**: Photosynthesis relies on sunlight as the energy source. The light energy is absorbed by chlorophyll and other pigments.\n",
            "\n",
            "3. **Carbon Dioxide (CO₂)**: Plants take in carbon dioxide from the atmosphere through small openings in their leaves called stomata.\n",
            "\n",
            "4. **Water (H₂O)**: Water is absorbed by plant roots from the soil and transported to the leaves.\n",
            "\n",
            "### The Photosynthesis Process\n",
            "\n",
            "Photosynthesis can be divided into two main stages: the light-dependent reactions and the light-independent reactions (Calvin cycle).\n",
            "\n",
            "#### 1. Light-Dependent Reactions\n",
            "\n",
            "These reactions occur in the thylakoid membranes of the chloroplasts and require light. The main steps include:\n",
            "\n",
            "- **Photon Absorption**: Chlorophyll absorbs sunlight, which excites electrons and initiates a series of reactions.\n",
            "- **Water Splitting (Photolysis)**: The absorbed energy splits water molecules (H₂O) into oxygen (O₂), protons (H⁺), and electrons. Oxygen is released as a byproduct.\n",
            "- **Electron Transport Chain**: The excited electrons are transferred through a series of proteins in the thylakoid membrane, known as the electron transport chain (ETC). As they move through the chain, they lose energy, which is used to pump protons into the thylakoid lumen, creating a proton gradient.\n",
            "- **ATP and NADPH Formation**: The proton gradient drives ATP synthase to produce adenosine triphosphate (ATP) from adenosine diphosphate (ADP) and inorganic phosphate. Meanwhile, the electrons reduce NADP⁺ to form nicotinamide adenine dinucleotide phosphate (NADPH). Both ATP and NADPH are energy carriers used in the next stage.\n",
            "\n",
            "#### 2. Light-Independent Reactions (Calvin Cycle)\n",
            "\n",
            "These reactions occur in the stroma of the chloroplasts and do not directly require light. They utilize ATP and NADPH produced in the light-dependent reactions to convert carbon dioxide into glucose. The main steps include:\n",
            "\n",
            "- **Carbon Fixation**: Carbon dioxide is captured and fixed into a five-carbon sugar, ribulose bisphosphate (RuBP), by the enzyme RuBisCO, forming a six-carbon intermediate that quickly splits into two three-carbon molecules (3-phosphoglycerate or 3-PGA).\n",
            "- **Reduction Phase**: ATP and NADPH are used to convert 3-PGA into glyceraldehyde-3-phosphate (G3P), a three-carbon sugar. Some of these G3P molecules will be used to synthesize glucose and other carbohydrates.\n",
            "- **Regeneration of RuBP**: The remaining G3P molecules are converted back into RuBP, enabling the cycle to continue.\n",
            "\n",
            "### Overall Equation of Photosynthesis\n",
            "\n",
            "The overall chemical equation for photosynthesis can be summarized as:\n",
            "\n",
            "\\[ 6 \\, \\text{CO}_2 + 6 \\, \\text{H}_2\\text{O} + \\text{light energy} \\rightarrow \\text{C}_6\\text{H}_{12}\\text{O}_6 + 6 \\, \\text{O}_2 \\]\n",
            "\n",
            "This equation indicates that six molecules of carbon dioxide and six molecules of water, in the presence of light energy, produce one molecule of glucose and six molecules of oxygen.\n",
            "\n",
            "### Importance of Photosynthesis\n",
            "\n",
            "Photosynthesis is crucial for several reasons:\n",
            "\n",
            "- It produces oxygen, which is essential for the survival of aerobic organisms.\n",
            "- It forms the basis of the food chain, as plants are primary producers.\n",
            "- It helps regulate atmospheric carbon dioxide levels, contributing to the global carbon cycle.\n",
            "\n",
            "In summary, photosynthesis is a vital biological process that sustains life on Earth by converting light energy into chemical energy, supporting ecosystems and oxygenating the atmosphere. \n",
            "\n",
            "Keyword Match Score: 5/5\n"
          ]
        }
      ]
    },
    {
      "cell_type": "code",
      "source": [
        "# Problem 5 – Response Length Evaluation\n",
        "runs = [get_ai_response(\"What are the benefits of exercise?\")[0] for _ in range(3)]\n",
        "lengths = [len(r.split()) for r in runs]\n",
        "\n",
        "for i, r in enumerate(runs, 1):\n",
        "    print(f\"Run {i} length: {lengths[i-1]} words\")\n",
        "\n",
        "print(\"Average length:\", sum(lengths) / len(lengths))\n",
        "print(\"Min length:\", min(lengths))\n",
        "print(\"Max length:\", max(lengths))\n"
      ],
      "metadata": {
        "colab": {
          "base_uri": "https://localhost:8080/"
        },
        "id": "HGkdExW6L5V7",
        "outputId": "455be8ec-55ea-435e-9dd1-bed6e6660bd3"
      },
      "execution_count": 12,
      "outputs": [
        {
          "output_type": "stream",
          "name": "stdout",
          "text": [
            "Run 1 length: 387 words\n",
            "Run 2 length: 340 words\n",
            "Run 3 length: 332 words\n",
            "Average length: 353.0\n",
            "Min length: 332\n",
            "Max length: 387\n"
          ]
        }
      ]
    },
    {
      "cell_type": "code",
      "source": [
        "# Problem 6 – Consistency Measurement\n",
        "import difflib\n",
        "\n",
        "prompt = \"Define cloud computing.\"\n",
        "responses = [get_ai_response(prompt)[0] for _ in range(5)]\n",
        "\n",
        "scores = []\n",
        "for i in range(len(responses) - 1):\n",
        "    sim = difflib.SequenceMatcher(None, responses[i], responses[i+1]).ratio()\n",
        "    scores.append(sim)\n",
        "    print(f\"Similarity Run {i+1} vs Run {i+2}: {sim:.2f}\")\n",
        "\n",
        "print(\"Average similarity:\", sum(scores) / len(scores))\n"
      ],
      "metadata": {
        "colab": {
          "base_uri": "https://localhost:8080/"
        },
        "id": "ZEeM0MwkL907",
        "outputId": "c9a7768a-2abe-4c8c-8216-98f7a4c22e79"
      },
      "execution_count": 13,
      "outputs": [
        {
          "output_type": "stream",
          "name": "stdout",
          "text": [
            "Similarity Run 1 vs Run 2: 0.01\n",
            "Similarity Run 2 vs Run 3: 0.01\n",
            "Similarity Run 3 vs Run 4: 0.01\n",
            "Similarity Run 4 vs Run 5: 0.89\n",
            "Average similarity: 0.2316680231698306\n"
          ]
        }
      ]
    },
    {
      "cell_type": "code",
      "source": [
        "# Problem 7 – Simulated User Feedback Loop\n",
        "import random\n",
        "\n",
        "prompt_versions = [\n",
        "    \"Explain blockchain in simple terms.\",\n",
        "    \"Explain blockchain in simple terms with a real-world analogy.\"\n",
        "]\n",
        "\n",
        "log = []\n",
        "\n",
        "for pv in prompt_versions:\n",
        "    response, _ = get_ai_response(pv)\n",
        "    rating = random.randint(1, 5)\n",
        "    log.append({\"prompt\": pv, \"excerpt\": response[:60], \"rating\": rating})\n",
        "\n",
        "for entry in log:\n",
        "    print(entry)\n",
        "\n",
        "avg_ratings = {}\n",
        "for pv in prompt_versions:\n",
        "    ratings = [e[\"rating\"] for e in log if e[\"prompt\"] == pv]\n",
        "    avg_ratings[pv] = sum(ratings) / len(ratings)\n",
        "\n",
        "print(\"Average ratings:\", avg_ratings)\n"
      ],
      "metadata": {
        "colab": {
          "base_uri": "https://localhost:8080/"
        },
        "id": "Yr7N1qW1L_pl",
        "outputId": "4183d198-c3f6-40e1-ba8c-3216d249cf54"
      },
      "execution_count": 14,
      "outputs": [
        {
          "output_type": "stream",
          "name": "stdout",
          "text": [
            "{'prompt': 'Explain blockchain in simple terms.', 'excerpt': \"Error: Error code: 429 - {'error': {'message': 'Rate limit r\", 'rating': 5}\n",
            "{'prompt': 'Explain blockchain in simple terms with a real-world analogy.', 'excerpt': \"Error: Error code: 429 - {'error': {'message': 'Rate limit r\", 'rating': 5}\n",
            "Average ratings: {'Explain blockchain in simple terms.': 5.0, 'Explain blockchain in simple terms with a real-world analogy.': 5.0}\n"
          ]
        }
      ]
    },
    {
      "cell_type": "code",
      "source": [
        "test_prompts = [\n",
        "    \"Summarize the plot of Romeo and Juliet in 2 sentences.\",\n",
        "    \"Write a 200-word essay on climate change impacts.\"\n",
        "]\n",
        "\n",
        "for p in test_prompts:\n",
        "    resp, latency = get_ai_response(p)\n",
        "    print(f\"Prompt: {p}\")\n",
        "    print(f\"Latency: {latency:.2f} sec | Word count: {len(resp.split())}\")\n",
        "    print()"
      ],
      "metadata": {
        "colab": {
          "base_uri": "https://localhost:8080/",
          "height": 263
        },
        "id": "irb-MKgcMBha",
        "outputId": "7a862379-ee73-4ad4-d263-371fada80af9"
      },
      "execution_count": 17,
      "outputs": [
        {
          "output_type": "stream",
          "name": "stdout",
          "text": [
            "Prompt: Summarize the plot of Romeo and Juliet in 2 sentences.\n",
            "Latency: 1.82 sec | Word count: 47\n",
            "\n",
            "Prompt: Write a 200-word essay on climate change impacts.\n"
          ]
        },
        {
          "output_type": "error",
          "ename": "TypeError",
          "evalue": "unsupported format string passed to NoneType.__format__",
          "traceback": [
            "\u001b[0;31m---------------------------------------------------------------------------\u001b[0m",
            "\u001b[0;31mTypeError\u001b[0m                                 Traceback (most recent call last)",
            "\u001b[0;32m/tmp/ipython-input-2623191953.py\u001b[0m in \u001b[0;36m<cell line: 0>\u001b[0;34m()\u001b[0m\n\u001b[1;32m      7\u001b[0m     \u001b[0mresp\u001b[0m\u001b[0;34m,\u001b[0m \u001b[0mlatency\u001b[0m \u001b[0;34m=\u001b[0m \u001b[0mget_ai_response\u001b[0m\u001b[0;34m(\u001b[0m\u001b[0mp\u001b[0m\u001b[0;34m)\u001b[0m\u001b[0;34m\u001b[0m\u001b[0;34m\u001b[0m\u001b[0m\n\u001b[1;32m      8\u001b[0m     \u001b[0mprint\u001b[0m\u001b[0;34m(\u001b[0m\u001b[0;34mf\"Prompt: {p}\"\u001b[0m\u001b[0;34m)\u001b[0m\u001b[0;34m\u001b[0m\u001b[0;34m\u001b[0m\u001b[0m\n\u001b[0;32m----> 9\u001b[0;31m     \u001b[0mprint\u001b[0m\u001b[0;34m(\u001b[0m\u001b[0;34mf\"Latency: {latency:.2f} sec | Word count: {len(resp.split())}\"\u001b[0m\u001b[0;34m)\u001b[0m\u001b[0;34m\u001b[0m\u001b[0;34m\u001b[0m\u001b[0m\n\u001b[0m\u001b[1;32m     10\u001b[0m     \u001b[0mprint\u001b[0m\u001b[0;34m(\u001b[0m\u001b[0;34m)\u001b[0m\u001b[0;34m\u001b[0m\u001b[0;34m\u001b[0m\u001b[0m\n",
            "\u001b[0;31mTypeError\u001b[0m: unsupported format string passed to NoneType.__format__"
          ]
        }
      ]
    }
  ]
}