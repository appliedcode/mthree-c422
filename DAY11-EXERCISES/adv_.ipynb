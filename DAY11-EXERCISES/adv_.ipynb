{
  "nbformat": 4,
  "nbformat_minor": 0,
  "metadata": {
    "colab": {
      "provenance": []
    },
    "kernelspec": {
      "name": "python3",
      "display_name": "Python 3"
    },
    "language_info": {
      "name": "python"
    }
  },
  "cells": [
    {
      "cell_type": "code",
      "execution_count": 5,
      "metadata": {
        "id": "rDUCvSE6inLe"
      },
      "outputs": [],
      "source": [
        "# Setup (Run this first)\n",
        "!pip install openai -q\n",
        "\n",
        "from openai import OpenAI\n",
        "client = OpenAI(api_key=\"paste-key-here\") # removed while pushing to git\n",
        "\n",
        "def ask_gpt(prompt, temp=0.7, max_tokens=500):\n",
        "    \"\"\"Send prompt to GPT-4o-mini and get response.\"\"\"\n",
        "    response = client.chat.completions.create(\n",
        "        model=\"gpt-4o-mini\",\n",
        "        messages=[{\"role\": \"user\", \"content\": prompt}],\n",
        "        temperature=temp,\n",
        "        max_tokens=max_tokens\n",
        "    )\n",
        "    return response.choices[0].message.content"
      ]
    },
    {
      "cell_type": "code",
      "source": [
        "# Chain-of-Thought (CoT) Prompting\n",
        "# Goal: Encourage the model to think through complex problems step-by-step before answering.\n",
        "# Prompt a math word problem with CoT\n",
        "cot_prompt = \"\"\"\n",
        "Q: A farmer has 12 sheep and buys 5 more. Then 3 sheep are sold. How many sheep does he have now?\n",
        "Let's think step by step.\n",
        "\n",
        "1. The farmer starts with 12 sheep.\n",
        "2. He buys 5 more, so 12 + 5 = 17.\n",
        "3. He sells 3, so 17 - 3 = 14.\n",
        "\n",
        "Answer: 14\n",
        "\n",
        "Q: A bookstore sold 45 books on Monday and twice as many on Tuesday. How many books were sold on both days combined?\n",
        "Let's think step by step.\n",
        "\"\"\"\n",
        "\n",
        "print(ask_gpt(cot_prompt, temp=0))"
      ],
      "metadata": {
        "colab": {
          "base_uri": "https://localhost:8080/"
        },
        "id": "xLolwNfCi67q",
        "outputId": "70b689fd-5308-46e0-c697-11f8f4758951"
      },
      "execution_count": 6,
      "outputs": [
        {
          "output_type": "stream",
          "name": "stdout",
          "text": [
            "1. The bookstore sold 45 books on Monday.\n",
            "2. On Tuesday, they sold twice as many as on Monday, so 2 × 45 = 90 books.\n",
            "3. To find the total number of books sold on both days, we add the books sold on Monday and Tuesday: 45 + 90 = 135.\n",
            "\n",
            "Answer: 135\n"
          ]
        }
      ]
    },
    {
      "cell_type": "code",
      "source": [
        "# Persona-Based Prompting\n",
        "# Goal: Guide the behavior, tone, and knowledge of the model by assigning a role/persona.\n",
        "# Prompt the model to respond as a travel guide\n",
        "persona_prompt = \"\"\"\n",
        "You are an expert travel guide specializing in Italy. Provide a 3-point list of must-see places in Rome for a first-time visitor, in an enthusiastic and friendly tone.\n",
        "\"\"\"\n",
        "\n",
        "print(ask_gpt(persona_prompt))\n",
        ""
      ],
      "metadata": {
        "colab": {
          "base_uri": "https://localhost:8080/"
        },
        "id": "R0BiHXRyjdg6",
        "outputId": "98fb52dc-6c80-4749-c7d9-e1d243cb59c8"
      },
      "execution_count": 7,
      "outputs": [
        {
          "output_type": "stream",
          "name": "stdout",
          "text": [
            "Absolutely! Rome is a treasure trove of history, art, and culture. Here are three must-see places that will make your first visit unforgettable:\n",
            "\n",
            "1. **The Colosseum**: Step back in time at this iconic symbol of ancient Rome! As you wander through the massive arches and envision the gladiatorial battles that once took place here, you’ll feel the pulse of history. Don’t forget to snap a few photos—this is one of the most photographed landmarks in the world!\n",
            "\n",
            "2. **Vatican City**: A trip to Rome wouldn’t be complete without a visit to the smallest independent state in the world! Marvel at the stunning architecture of St. Peter’s Basilica, and be sure to climb to the dome for breathtaking views of the city. Inside the Vatican Museums, you’ll be awestruck by the Sistine Chapel’s magnificent ceiling painted by Michelangelo—it's a true masterpiece!\n",
            "\n",
            "3. **Piazza Navona**: Get ready to soak up the vibrant atmosphere in this stunning square! With its beautiful fountains, lively street performers, and charming cafés, it’s the perfect spot to relax and enjoy some gelato. Take a moment to admire the exquisite Baroque architecture surrounding you—it’s a feast for the eyes!\n",
            "\n",
            "Enjoy your adventure in the Eternal City! 🌟\n"
          ]
        }
      ]
    },
    {
      "cell_type": "code",
      "source": [
        "# Controlling Verbosity, Style & Tone\n",
        "# Goal: Control length, formality, tone (e.g., concise vs detailed, formal vs casual).\n",
        "# Compare outputs with different verbosity and tone\n",
        "# Concise & formal\n",
        "prompt1 = \"Explain the importance of water conservation in 2 formal sentences.\"\n",
        "\n",
        "# Detailed & casual\n",
        "prompt2 = \"Explain why saving water is important in a casual and detailed style.\"\n",
        "\n",
        "print(\"Concise & Formal:\\n\", ask_gpt(prompt1))\n",
        "print(\"\\nDetailed & Casual:\\n\", ask_gpt(prompt2))"
      ],
      "metadata": {
        "colab": {
          "base_uri": "https://localhost:8080/"
        },
        "id": "D5tNmWrAjkiq",
        "outputId": "f2c3f2d0-704b-41bb-87f3-f7d8ff6e10cf"
      },
      "execution_count": 8,
      "outputs": [
        {
          "output_type": "stream",
          "name": "stdout",
          "text": [
            "Concise & Formal:\n",
            " Water conservation is essential for sustaining ecosystems, as it helps maintain biodiversity and supports the health of natural habitats. Additionally, efficient water use is crucial for ensuring a reliable supply of fresh water for future generations, mitigating the impacts of climate change, and promoting sustainable development.\n",
            "\n",
            "Detailed & Casual:\n",
            " Absolutely, saving water is super important, and it’s something we can all get behind! Let’s break it down in a casual way.\n",
            "\n",
            "### 1. **Essential for Life**\n",
            "First and foremost, water is essential for all living things. Humans, animals, plants—you name it, they all need water to survive. We’re made up of about 60% water ourselves! So, when we save water, we’re essentially making sure there’s enough to go around for everyone and everything.\n",
            "\n",
            "### 2. **Limited Resource**\n",
            "While it may seem like there’s a ton of water on Earth, the truth is that only about 2.5% of it is freshwater, and much of that is trapped in glaciers or deep underground. The water we can actually use is even less! So, being mindful about how we use it helps to keep this limited resource available for future generations.\n",
            "\n",
            "### 3. **Environmental Impact**\n",
            "Using less water also helps our ecosystems. Rivers, lakes, and wetlands rely on a healthy balance of water levels. When we overuse water, we can disrupt these habitats, harming fish and other wildlife. By saving water, we’re doing our part to protect these natural environments.\n",
            "\n",
            "### 4. **Energy Conservation**\n",
            "Did you know that saving water also saves energy? It takes a lot of energy to pump, heat, and treat water. By using less water, we’re also reducing the energy required for these processes, which means less fossil fuel consumption and a smaller carbon footprint. It’s a win-win!\n",
            "\n",
            "### 5. **Cost Savings**\n",
            "On a more personal level, using less water can save you money on your utility bills. Many places charge for water usage, so the less you use, the lower your bill. Plus, if you’re saving energy by using less hot water, that’s more money in your pocket as well. Who doesn’t love a little extra cash?\n",
            "\n",
            "### 6. **Drought Preparedness**\n",
            "With climate change, many areas are experiencing droughts or water shortages. By saving water now, we can better prepare for those tough times. It’s like having an emergency fund, but for water! When everyone pitches in, we can all help ensure there’s enough water during dry spells.\n",
            "\n",
            "### 7. **Simple Changes Make a Big Difference**\n",
            "The best part? Saving water doesn’t have to be a huge hassle. There are tons of simple ways to make a difference in your daily routine. Things like turning\n"
          ]
        }
      ]
    },
    {
      "cell_type": "code",
      "source": [
        "# Prompting for Creativity vs. Accuracy\n",
        "# Goal: Adjust temperature and prompt wording to balance imaginative vs factual outputs.\n",
        "\n",
        "creative_prompt = \"Describe a futuristic city with flying cars and robots, write creatively and vividly.\"\n",
        "factual_prompt = \"Describe current trends in urban transportation with factual details and data.\"\n",
        "\n",
        "print(\"Creative Description (high creativity):\\n\", ask_gpt(creative_prompt, temp=0.9))\n",
        "print(\"\\nFactual Description (low creativity):\\n\", ask_gpt(factual_prompt, temp=0.2))"
      ],
      "metadata": {
        "colab": {
          "base_uri": "https://localhost:8080/"
        },
        "id": "WQo3bdbqjsWq",
        "outputId": "3f9952c8-650e-45b5-bf20-0b7ce2a38d05"
      },
      "execution_count": 9,
      "outputs": [
        {
          "output_type": "stream",
          "name": "stdout",
          "text": [
            "Creative Description (high creativity):\n",
            " In the year 2142, the skyline of Neo-Arcadia reached for the heavens, a symphony of glinting glass and steel that shimmered under the soft hues of a perpetual twilight. The atmosphere was a dazzling tapestry of color where the day melted into night, illuminated by the soft luminescence of bio-luminescent flora cascading from vertical gardens that adorned every building. \n",
            "\n",
            "Flying cars, sleek and aerodynamic, zipped through the air like schools of glimmering fish. Their smooth lines reflected the ever-changing kaleidoscope of the sunset as they navigated invisible highways suspended above the ground, each vehicle enhanced by pulsating lights that danced to a rhythm only they understood. Passengers lounged in plush, holographic seats that adjusted to their forms, entertained by interactive displays projecting the latest in augmented reality adventures or simply enjoying a view of the sprawling city below.\n",
            "\n",
            "On the streets, a harmonious blend of robotics and humanity thrived. Robots of all shapes and sizes bustled about, each programmed with specific tasks that made the urban landscape an efficient, self-sustaining ecosystem. Small, spider-like drones flitted from window to window, delivering packages with pinpoint precision, while humanoid caretakers strolled through parks, engaging children in playful banter or assisting the elderly with their robotic limbs designed for support. \n",
            "\n",
            "Markets buzzed with life, their stalls overflowing with not just goods but experiences. Virtual reality booths allowed shoppers to sample anything from exotic alien fruits to designer clothing that changed color at a whim. The sweet aroma of street food, infused with spices from distant planets, wafted through the air, drawing a crowd around vendors whose wares were prepared by robotic chefs that performed culinary acrobatics, conjuring dishes that tantalized both the eye and palate.\n",
            "\n",
            "In the heart of the city stood the Architect’s Spire, a twisting landmark of orange and purple glass that spiraled into the sky. It was not only the administrative center but also a hub of innovation, where scientists and engineers collaborated with artificial intelligences to push the boundaries of what was possible. It was here that the city’s energy was harvested, converting waste into clean power, feeding the vibrant life force that ran through Neo-Arcadia. \n",
            "\n",
            "Above, the skies were home to a network of drones that created mesmerizing light displays every evening. They painted constellations that flickered in and out, echoes of the stars that once guided ancient civilizations. Somewhere in a hidden pocket of the city, a\n",
            "\n",
            "Factual Description (low creativity):\n",
            " As of 2023, urban transportation is experiencing significant transformations driven by technological advancements, sustainability goals, and changing consumer preferences. Here are some key trends:\n",
            "\n",
            "### 1. **Electrification of Public Transport**\n",
            "Many cities are transitioning to electric buses and trams to reduce greenhouse gas emissions. According to the International Energy Agency (IEA), the number of electric buses worldwide reached over 600,000 in 2021, with significant growth expected as cities aim for carbon neutrality. For instance, cities like Los Angeles and Shenzhen have committed to fully electrifying their bus fleets.\n",
            "\n",
            "### 2. **Micro-Mobility Solutions**\n",
            "The rise of micro-mobility options such as e-scooters and bike-sharing programs has transformed urban transportation. A report from the National Association of City Transportation Officials (NACTO) indicated that shared micromobility trips in the U.S. reached 88 million in 2021, a 20% increase from the previous year. Cities are increasingly integrating these options into their transportation networks to provide last-mile connectivity.\n",
            "\n",
            "### 3. **Mobility as a Service (MaaS)**\n",
            "MaaS platforms are gaining traction, allowing users to plan, book, and pay for multiple modes of transport through a single application. According to a report by Deloitte, the global MaaS market is expected to grow significantly, with projections estimating it could reach $100 billion by 2030. Cities like Helsinki have successfully implemented MaaS solutions, integrating public transport, taxis, and micro-mobility services.\n",
            "\n",
            "### 4. **Smart Traffic Management Systems**\n",
            "Cities are investing in smart traffic management systems that utilize real-time data to optimize traffic flow and reduce congestion. The use of AI and IoT technologies is becoming more prevalent. For example, cities like Barcelona and Singapore are deploying smart traffic lights that adapt to real-time traffic conditions, improving travel times and reducing emissions.\n",
            "\n",
            "### 5. **Sustainable Urban Design**\n",
            "Urban planners are increasingly focusing on creating walkable cities with mixed-use developments that reduce reliance on cars. The concept of \"15-minute cities,\" where residents can access most of their daily needs within a 15-minute walk or bike ride, is gaining popularity. Cities like Paris are actively implementing this model, promoting cycling and pedestrian-friendly infrastructure.\n",
            "\n",
            "### 6. **Autonomous Vehicles**\n",
            "While still in the experimental phase in many areas, autonomous vehicles (AVs) are being tested in urban environments. Companies like Waymo and Cruise are conducting\n"
          ]
        }
      ]
    }
  ]
}