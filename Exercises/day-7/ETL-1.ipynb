{
  "cells": [
    {
      "cell_type": "markdown",
      "metadata": {
        "id": "view-in-github",
        "colab_type": "text"
      },
      "source": [
        "<a href=\"https://colab.research.google.com/github/appliedcode/mthree-c422/blob/mthree-c422-dipti/Exercises/day-7/ETL-1.ipynb\" target=\"_parent\"><img src=\"https://colab.research.google.com/assets/colab-badge.svg\" alt=\"Open In Colab\"/></a>"
      ]
    },
    {
      "cell_type": "markdown",
      "source": [
        "# ETL Pipeline in Google Colab Using Only Local Resources\n",
        "**Objective:**\n",
        "Learn how to perform a full Extract-Transform-Load (ETL) data pipeline using only Python, pandas, and SQLite—all within Google Colab, with no cloud databases or external APIs required.\n",
        "\n",
        "## 1. Prerequisites\n",
        "- A Google account to access Colab.\n",
        "\n",
        "- Basic Python and pandas knowledge.\n",
        "\n",
        "- No external cloud or database accounts required.\n",
        "\n",
        "## 2. Scenario\n",
        "- You’re provided with a local .csv file (customers.csv) mimicking customer biological measurements. \\\n",
        "- You’ll ingest, clean, enrich, and store this data in a local SQLite database—all inside your Colab notebook."
      ],
      "metadata": {
        "id": "RpsOG3v9XMxn"
      }
    },
    {
      "cell_type": "code",
      "source": [
        "# A. Extract\n",
        "# 1. Download or Create a Sample Data File\n",
        "# Use any small public .csv (for demo, we’ll use a height/weight dataset):\n",
        "url = \"https://people.sc.fsu.edu/~jburkardt/data/csv/hw_200.csv\"\n",
        "!wget -qO customers.csv $url\n"
      ],
      "metadata": {
        "id": "n_Yi-rZ7OM6o"
      },
      "execution_count": 1,
      "outputs": []
    },
    {
      "cell_type": "code",
      "source": [
        "# 2. Load Into pandas DataFrame\n",
        "import pandas as pd\n",
        "\n",
        "df_customers = pd.read_csv('customers.csv')\n",
        "print(df_customers.head())\n",
        "print(df_customers.columns)\n"
      ],
      "metadata": {
        "colab": {
          "base_uri": "https://localhost:8080/"
        },
        "id": "LSo4gEMZOTT5",
        "outputId": "26dfd543-fc92-41f8-b672-d19ec02b7eec"
      },
      "execution_count": 2,
      "outputs": [
        {
          "output_type": "stream",
          "name": "stdout",
          "text": [
            "   Index   Height(Inches)\"   \"Weight(Pounds)\"\n",
            "0      1             65.78             112.99\n",
            "1      2             71.52             136.49\n",
            "2      3             69.40             153.03\n",
            "3      4             68.22             142.34\n",
            "4      5             67.79             144.30\n",
            "Index(['Index', ' Height(Inches)\"', ' \"Weight(Pounds)\"'], dtype='object')\n"
          ]
        }
      ]
    },
    {
      "cell_type": "code",
      "source": [
        "# B. Transform\n",
        "# 1. Clean Data\n",
        "# Remove duplicates\n",
        "\n",
        "# Rename messy columns for cleaner analysis\n",
        "\n",
        "# Remove duplicates based on 'Index' column\n",
        "df_customers.drop_duplicates('Index', inplace=True)\n",
        "\n",
        "# Clean up column names\n",
        "df_customers.columns = [col.strip().replace('\"', '').replace(\"'\", \"\") for col in df_customers.columns]\n",
        "\n",
        "# View cleaned DataFrame\n",
        "print(df_customers.head())\n"
      ],
      "metadata": {
        "colab": {
          "base_uri": "https://localhost:8080/"
        },
        "id": "82QPaEVYOWm1",
        "outputId": "aeaf67a2-26e5-4a72-c29d-77218c6f57be"
      },
      "execution_count": 3,
      "outputs": [
        {
          "output_type": "stream",
          "name": "stdout",
          "text": [
            "   Index  Height(Inches)  Weight(Pounds)\n",
            "0      1           65.78          112.99\n",
            "1      2           71.52          136.49\n",
            "2      3           69.40          153.03\n",
            "3      4           68.22          142.34\n",
            "4      5           67.79          144.30\n"
          ]
        }
      ]
    },
    {
      "cell_type": "code",
      "source": [
        "# 2. Add Enriched & Derived Columns\n",
        "# Compute a \"BMI\" (Body Mass Index) column\n",
        "\n",
        "# Add a BMI column, Height in inches, Weight in pounds\n",
        "df_customers['BMI'] = (df_customers['Weight(Pounds)'] / (df_customers['Height(Inches)'] * 0.0254) ** 2)\n",
        "print(df_customers.head())\n"
      ],
      "metadata": {
        "colab": {
          "base_uri": "https://localhost:8080/"
        },
        "id": "xWneA7xaObWZ",
        "outputId": "70ee62ad-53ab-4f72-99c8-5ee4599f3417"
      },
      "execution_count": 4,
      "outputs": [
        {
          "output_type": "stream",
          "name": "stdout",
          "text": [
            "   Index  Height(Inches)  Weight(Pounds)        BMI\n",
            "0      1           65.78          112.99  40.474812\n",
            "1      2           71.52          136.49  41.359796\n",
            "2      3           69.40          153.03  49.248182\n",
            "3      4           68.22          142.34  47.406304\n",
            "4      5           67.79          144.30  48.670704\n"
          ]
        }
      ]
    },
    {
      "cell_type": "code",
      "source": [
        "# C. Load\n",
        "# 1. Store the Result in a Local SQLite Database\n",
        "import sqlite3\n",
        "\n",
        "conn = sqlite3.connect('customers_etl_lab.db')\n",
        "df_customers.to_sql('customers_etl', conn, if_exists='replace', index=False)\n"
      ],
      "metadata": {
        "colab": {
          "base_uri": "https://localhost:8080/"
        },
        "id": "bVjSXe_vOfPi",
        "outputId": "a91fde13-969a-4df0-8a99-25a673751bde"
      },
      "execution_count": 5,
      "outputs": [
        {
          "output_type": "execute_result",
          "data": {
            "text/plain": [
              "200"
            ]
          },
          "metadata": {},
          "execution_count": 5
        }
      ]
    },
    {
      "cell_type": "code",
      "source": [
        "# 2. Run SQL Queries on the Transformed Data\n",
        "# Example: Get customers with BMI > 25 (overweight threshold)\n",
        "query = \"SELECT * FROM customers_etl WHERE BMI > 45;\"\n",
        "df_overweight = pd.read_sql(query, conn)\n",
        "print(df_overweight.head())\n"
      ],
      "metadata": {
        "colab": {
          "base_uri": "https://localhost:8080/"
        },
        "id": "WbvcU_IdOi5M",
        "outputId": "863590ba-2596-45fc-9e54-db10064448b1"
      },
      "execution_count": 6,
      "outputs": [
        {
          "output_type": "stream",
          "name": "stdout",
          "text": [
            "   Index  Height(Inches)  Weight(Pounds)        BMI\n",
            "0      3           69.40          153.03  49.248182\n",
            "1      4           68.22          142.34  47.406304\n",
            "2      5           67.79          144.30  48.670704\n",
            "3      7           69.80          141.49  45.013986\n",
            "4     17           66.46          129.50  45.444535\n"
          ]
        }
      ]
    },
    {
      "cell_type": "code",
      "source": [
        "import matplotlib.pyplot as plt\n",
        "\n",
        "plt.figure(figsize=(8,5))\n",
        "plt.hist(df_customers['BMI'], bins=20)\n",
        "plt.title(\"Distribution of BMI\")\n",
        "plt.xlabel(\"BMI\")\n",
        "plt.ylabel(\"Frequency\")\n",
        "plt.grid(True)\n",
        "plt.show()\n"
      ],
      "metadata": {
        "colab": {
          "base_uri": "https://localhost:8080/",
          "height": 487
        },
        "id": "qnqWAjj0x5sU",
        "outputId": "3ca6391f-51d2-40e9-d03b-7dcb05f902fd"
      },
      "execution_count": 7,
      "outputs": [
        {
          "output_type": "display_data",
          "data": {
            "text/plain": [
              "<Figure size 800x500 with 1 Axes>"
            ],
            "image/png": "[encoded data removed]"
          },
          "metadata": {}
        }
      ]
    },
    {
      "cell_type": "code",
      "source": [
        "df_customers['Height(cm)'] = df_customers['Height(Inches)'] * 2.54\n",
        "print(df_customers[['Height(Inches)', 'Height(cm)']].head())\n"
      ],
      "metadata": {
        "colab": {
          "base_uri": "https://localhost:8080/"
        },
        "id": "yIBC9djMx9TK",
        "outputId": "c3a4ef2d-5a2a-4a5b-d21d-e6791c873740"
      },
      "execution_count": 8,
      "outputs": [
        {
          "output_type": "stream",
          "name": "stdout",
          "text": [
            "   Height(Inches)  Height(cm)\n",
            "0           65.78    167.0812\n",
            "1           71.52    181.6608\n",
            "2           69.40    176.2760\n",
            "3           68.22    173.2788\n",
            "4           67.79    172.1866\n"
          ]
        }
      ]
    },
    {
      "cell_type": "markdown",
      "source": [
        "# Lab Extensions\n",
        "- Visualization: Plot a histogram of BMI values.\n",
        "\n",
        "- Experiment: Add a new feature or derive a different metric.\n",
        "\n",
        "- Validation: Add assertions (e.g., all BMI must be >0).\n",
        "Refer: https://realpython.com/python-assert-statement/"
      ],
      "metadata": {
        "id": "5uzvssUuPTs2"
      }
    }
  ],
  "metadata": {
    "colab": {
      "name": "Welcome to Colab",
      "provenance": [],
      "include_colab_link": true
    },
    "kernelspec": {
      "display_name": "Python 3",
      "name": "python3"
    }
  },
  "nbformat": 4,
  "nbformat_minor": 0
}