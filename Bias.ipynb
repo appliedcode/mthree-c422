{
  "nbformat": 4,
  "nbformat_minor": 0,
  "metadata": {
    "colab": {
      "provenance": [],
      "authorship_tag": "ABX9TyNxjiwRF43wZ/5q4Pz8VLOJ",
      "include_colab_link": true
    },
    "kernelspec": {
      "name": "python3",
      "display_name": "Python 3"
    },
    "language_info": {
      "name": "python"
    }
  },
  "cells": [
    {
      "cell_type": "markdown",
      "metadata": {
        "id": "view-in-github",
        "colab_type": "text"
      },
      "source": [
        "<a href=\"https://colab.research.google.com/github/appliedcode/mthree-c422/blob/mthree-c422-Likhitha/Bias.ipynb\" target=\"_parent\"><img src=\"https://colab.research.google.com/assets/colab-badge.svg\" alt=\"Open In Colab\"/></a>"
      ]
    },
    {
      "cell_type": "code",
      "execution_count": 1,
      "metadata": {
        "id": "x_5Ckyo9V2EX"
      },
      "outputs": [],
      "source": [
        "import pandas as pd\n",
        "import numpy as np\n",
        "import matplotlib.pyplot as plt\n",
        "from scipy.stats import chi2_contingency\n",
        "from sklearn.linear_model import LogisticRegression\n",
        "from sklearn.model_selection import train_test_split\n",
        "from sklearn.metrics import confusion_matrix\n",
        "from sklearn.utils import resample"
      ]
    },
    {
      "cell_type": "code",
      "source": [
        "np.random.seed(42)\n",
        "n = 1000\n",
        "\n",
        "genders = ['Male', 'Female']\n",
        "ethnicities = ['Group_A', 'Group_B', 'Group_C']\n",
        "\n",
        "# Base demographic distribution\n",
        "data = pd.DataFrame({\n",
        "    'Gender': np.random.choice(genders, n, p=[0.6, 0.4]),\n",
        "    'Ethnicity': np.random.choice(ethnicities, n, p=[0.5, 0.3, 0.2])\n",
        "})\n",
        "\n",
        "# Approval bias: Group_A has much higher approval rate\n",
        "approval_probs = {\n",
        "    'Group_A': 0.75,\n",
        "    'Group_B': 0.45,\n",
        "    'Group_C': 0.40\n",
        "}\n",
        "\n",
        "data['Loan_Approved'] = data['Ethnicity'].apply(\n",
        "    lambda e: np.random.choice([1, 0], p=[approval_probs[e], 1 - approval_probs[e]])\n",
        ")\n",
        "\n",
        "print(\"\\n--- Group distribution ---\")\n",
        "print(data['Ethnicity'].value_counts(normalize=True))\n",
        "print(\"\\n--- Approval rates by ethnicity ---\")\n",
        "print(data.groupby('Ethnicity')['Loan_Approved'].mean())\n"
      ],
      "metadata": {
        "colab": {
          "base_uri": "https://localhost:8080/"
        },
        "id": "ohoeKxmdWFmn",
        "outputId": "b4f57f53-495c-48f5-ff6d-0ab2375eaeef"
      },
      "execution_count": 2,
      "outputs": [
        {
          "output_type": "stream",
          "name": "stdout",
          "text": [
            "\n",
            "--- Group distribution ---\n",
            "Ethnicity\n",
            "Group_A    0.484\n",
            "Group_B    0.312\n",
            "Group_C    0.204\n",
            "Name: proportion, dtype: float64\n",
            "\n",
            "--- Approval rates by ethnicity ---\n",
            "Ethnicity\n",
            "Group_A    0.760331\n",
            "Group_B    0.455128\n",
            "Group_C    0.377451\n",
            "Name: Loan_Approved, dtype: float64\n"
          ]
        }
      ]
    },
    {
      "cell_type": "code",
      "source": [
        "contingency = pd.crosstab(data['Ethnicity'], data['Loan_Approved'])\n",
        "chi2, p, _, _ = chi2_contingency(contingency)\n",
        "print(f\"\\nChi-square p-value: {p:.3e} (low p → approval depends on ethnicity)\")\n",
        "\n",
        "# Visualization\n",
        "data.groupby('Ethnicity')['Loan_Approved'].mean().plot(\n",
        "    kind='bar', title='Loan Approval Rate by Ethnicity'\n",
        ")\n",
        "plt.ylabel('Approval Rate')\n",
        "plt.show()"
      ],
      "metadata": {
        "colab": {
          "base_uri": "https://localhost:8080/",
          "height": 553
        },
        "id": "MlBCxmiUWK16",
        "outputId": "6ff317f3-0e76-4d7c-f38c-8005d0ab1aae"
      },
      "execution_count": 3,
      "outputs": [
        {
          "output_type": "stream",
          "name": "stdout",
          "text": [
            "\n",
            "Chi-square p-value: 1.236e-26 (low p → approval depends on ethnicity)\n"
          ]
        },
        {
          "output_type": "display_data",
          "data": {
            "text/plain": [
              "<Figure size 640x480 with 1 Axes>"
            ],
            "image/png": "[encoded data removed]"
          },
          "metadata": {}
        }
      ]
    },
    {
      "cell_type": "code",
      "source": [
        "X = pd.get_dummies(data[['Gender', 'Ethnicity']], drop_first=True)\n",
        "y = data['Loan_Approved']\n",
        "\n",
        "X_train, X_test, y_train, y_test = train_test_split(X, y, test_size=0.3, random_state=42)\n",
        "\n",
        "model = LogisticRegression(solver='liblinear')\n",
        "model.fit(X_train, y_train)\n",
        "y_pred = model.predict(X_test)\n",
        "\n",
        "# Group metrics function\n",
        "def group_metrics(test_df, labels, preds, group_col):\n",
        "    results = {}\n",
        "    for g in test_df[group_col].unique():\n",
        "        idx = test_df[group_col] == g\n",
        "        tn, fp, fn, tp = confusion_matrix(labels[idx], preds[idx]).ravel()\n",
        "        tpr = tp / (tp + fn) if (tp + fn) > 0 else 0\n",
        "        fpr = fp / (fp + tn) if (fp + tn) > 0 else 0\n",
        "        acc = (tp + tn) / (tp + tn + fp + fn)\n",
        "        results[g] = {'Accuracy': acc, 'TPR': tpr, 'FPR': fpr}\n",
        "    return pd.DataFrame(results)\n",
        "\n",
        "df_test = X_test.copy()\n",
        "df_test['Gender'] = data.loc[y_test.index, 'Gender'].values\n",
        "df_test['Ethnicity'] = data.loc[y_test.index, 'Ethnicity'].values\n",
        "\n",
        "print(\"\\n--- Metrics by Gender ---\")\n",
        "print(group_metrics(df_test, y_test, y_pred, 'Gender'))\n",
        "\n",
        "print(\"\\n--- Metrics by Ethnicity ---\")\n",
        "print(group_metrics(df_test, y_test, y_pred, 'Ethnicity'))\n",
        "\n",
        "# Feature importance\n",
        "print(\"\\n--- Feature importance ---\")\n",
        "print(pd.Series(model.coef_[0], index=X.columns).sort_values(ascending=False))\n"
      ],
      "metadata": {
        "colab": {
          "base_uri": "https://localhost:8080/"
        },
        "id": "RykAgFphWPgj",
        "outputId": "d5a75d35-a1e9-4530-b4e3-cf679a89bc03"
      },
      "execution_count": 4,
      "outputs": [
        {
          "output_type": "stream",
          "name": "stdout",
          "text": [
            "\n",
            "--- Metrics by Gender ---\n",
            "              Male    Female\n",
            "Accuracy  0.654255  0.705357\n",
            "TPR       0.627119  0.718750\n",
            "FPR       0.300000  0.312500\n",
            "\n",
            "--- Metrics by Ethnicity ---\n",
            "           Group_C   Group_A   Group_B\n",
            "Accuracy  0.653846  0.769231  0.521739\n",
            "TPR       0.000000  1.000000  0.000000\n",
            "FPR       0.000000  1.000000  0.000000\n",
            "\n",
            "--- Feature importance ---\n",
            "Gender_Male         -0.350113\n",
            "Ethnicity_Group_B   -1.312285\n",
            "Ethnicity_Group_C   -1.492085\n",
            "dtype: float64\n"
          ]
        }
      ]
    },
    {
      "cell_type": "code",
      "source": [
        "def demographic_parity(y_true, y_pred, group):\n",
        "    rates = pd.DataFrame({'y_pred': y_pred, 'group': group}).groupby('group')['y_pred'].mean()\n",
        "    return rates.max() - rates.min()\n",
        "\n",
        "def equal_opportunity(y_true, y_pred, group):\n",
        "    df = pd.DataFrame({'y_true': y_true, 'y_pred': y_pred, 'group': group})\n",
        "    tprs = []\n",
        "    for g in df['group'].unique():\n",
        "        subset = df[df['group'] == g]\n",
        "        tp = ((subset['y_pred'] == 1) & (subset['y_true'] == 1)).sum()\n",
        "        fn = ((subset['y_pred'] == 0) & (subset['y_true'] == 1)).sum()\n",
        "        tpr = tp / (tp + fn) if (tp + fn) > 0 else 0\n",
        "        tprs.append(tpr)\n",
        "    return max(tprs) - min(tprs)\n",
        "\n",
        "dp_before = demographic_parity(y_test, y_pred, df_test['Ethnicity'])\n",
        "eo_before = equal_opportunity(y_test, y_pred, df_test['Ethnicity'])\n",
        "\n",
        "print(f\"\\nFairness BEFORE mitigation → DP diff: {dp_before:.3f}, EO diff: {eo_before:.3f}\")\n"
      ],
      "metadata": {
        "colab": {
          "base_uri": "https://localhost:8080/"
        },
        "id": "-0mFFtpXWVMl",
        "outputId": "4beb10f3-18f8-4eb9-83cf-60a87a79d913"
      },
      "execution_count": 5,
      "outputs": [
        {
          "output_type": "stream",
          "name": "stdout",
          "text": [
            "\n",
            "Fairness BEFORE mitigation → DP diff: 1.000, EO diff: 1.000\n"
          ]
        }
      ]
    },
    {
      "cell_type": "code",
      "source": [
        "from sklearn.utils import resample\n",
        "from sklearn.linear_model import LogisticRegression\n",
        "from sklearn.model_selection import train_test_split\n",
        "import pandas as pd\n",
        "\n",
        "# Example fairness metric functions (replace with yours)\n",
        "def demographic_parity(y_true, y_pred, sensitive_attr):\n",
        "    groups = sensitive_attr.unique()\n",
        "    rates = {g: y_pred[sensitive_attr == g].mean() for g in groups}\n",
        "    return max(rates.values()) - min(rates.values())\n",
        "\n",
        "def equal_opportunity(y_true, y_pred, sensitive_attr):\n",
        "    groups = sensitive_attr.unique()\n",
        "    tpr = {}\n",
        "    for g in groups:\n",
        "        mask = (sensitive_attr == g) & (y_true == 1)\n",
        "        tpr[g] = (y_pred[mask] == 1).mean()\n",
        "    return max(tpr.values()) - min(tpr.values())\n",
        "\n",
        "# Balance the data\n",
        "df_minority = data[data['Ethnicity'] == 'Group_C']\n",
        "df_majority = data[data['Ethnicity'] != 'Group_C']\n",
        "df_minority_up = resample(df_minority, replace=True,\n",
        "                          n_samples=len(df_majority), random_state=42)\n",
        "data_balanced = pd.concat([df_majority, df_minority_up]).reset_index(drop=True)\n",
        "\n",
        "# Prepare features & labels\n",
        "Xb = pd.get_dummies(data_balanced[['Gender', 'Ethnicity']], drop_first=True)\n",
        "yb = data_balanced['Loan_Approved']\n",
        "\n",
        "# Train-test split (indices now match data_balanced)\n",
        "Xb_train, Xb_test, yb_train, yb_test = train_test_split(\n",
        "    Xb, yb, test_size=0.3, random_state=42, stratify=yb\n",
        ")\n",
        "\n",
        "# Train logistic regression\n",
        "model_balanced = LogisticRegression(solver='liblinear')\n",
        "model_balanced.fit(Xb_train, yb_train)\n",
        "yb_pred = model_balanced.predict(Xb_test)\n",
        "\n",
        "# Match Ethnicity values correctly\n",
        "dfb_test = Xb_test.copy()\n",
        "dfb_test['Ethnicity'] = data_balanced.loc[yb_test.index, 'Ethnicity'].values\n",
        "\n",
        "# Fairness metrics after mitigation\n",
        "dp_after = demographic_parity(yb_test, yb_pred, dfb_test['Ethnicity'])\n",
        "eo_after = equal_opportunity(yb_test, yb_pred, dfb_test['Ethnicity'])\n",
        "\n",
        "print(f\"Fairness AFTER mitigation → DP diff: {dp_after:.3f}, EO diff: {eo_after:.3f}\")\n"
      ],
      "metadata": {
        "colab": {
          "base_uri": "https://localhost:8080/"
        },
        "id": "YGYMOvqXWaPa",
        "outputId": "365c5d04-cc28-4470-c73c-c543f949b525"
      },
      "execution_count": 8,
      "outputs": [
        {
          "output_type": "stream",
          "name": "stdout",
          "text": [
            "Fairness AFTER mitigation → DP diff: 1.000, EO diff: 1.000\n"
          ]
        }
      ]
    },
    {
      "cell_type": "code",
      "source": [
        "summary = pd.DataFrame({\n",
        "    'Metric': ['Demographic Parity Diff', 'Equal Opportunity Diff'],\n",
        "    'Before': [dp_before, eo_before],\n",
        "    'After': [dp_after, eo_after]\n",
        "})\n",
        "print(\"\\n--- Fairness comparison ---\")\n",
        "print(summary)"
      ],
      "metadata": {
        "colab": {
          "base_uri": "https://localhost:8080/"
        },
        "id": "HrcR7rUyWfew",
        "outputId": "b3a9755c-5bde-448d-f500-132ea7491341"
      },
      "execution_count": 9,
      "outputs": [
        {
          "output_type": "stream",
          "name": "stdout",
          "text": [
            "\n",
            "--- Fairness comparison ---\n",
            "                    Metric  Before  After\n",
            "0  Demographic Parity Diff     1.0    1.0\n",
            "1   Equal Opportunity Diff     1.0    1.0\n"
          ]
        }
      ]
    }
  ]
}