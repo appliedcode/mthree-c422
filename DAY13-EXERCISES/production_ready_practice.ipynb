{
  "nbformat": 4,
  "nbformat_minor": 0,
  "metadata": {
    "colab": {
      "provenance": []
    },
    "kernelspec": {
      "name": "python3",
      "display_name": "Python 3"
    },
    "language_info": {
      "name": "python"
    }
  },
  "cells": [
    {
      "cell_type": "code",
      "execution_count": 3,
      "metadata": {
        "colab": {
          "base_uri": "https://localhost:8080/"
        },
        "id": "bdxZiOfY7P6R",
        "outputId": "aa0f86c3-d292-40de-e213-1bf871feda5f"
      },
      "outputs": [
        {
          "output_type": "stream",
          "name": "stdout",
          "text": [
            "   Applicant_ID  Age Gender Ethnicity  Education  Years_Experience  \\\n",
            "0             1   22   Male   Group_B  Bachelors                12   \n",
            "1             2   48  Other   Group_B  Bachelors                12   \n",
            "2             3   54   Male   Group_B  Bachelors                19   \n",
            "3             4   58   Male   Group_C    Masters                 8   \n",
            "4             5   37   Male   Group_C  Bachelors                16   \n",
            "\n",
            "   Skill_Score  Shortlisted  \n",
            "0           87          0.0  \n",
            "1           89          0.0  \n",
            "2           45          1.0  \n",
            "3           41          0.0  \n",
            "4           48          0.0  \n"
          ]
        }
      ],
      "source": [
        "import pandas as pd\n",
        "import numpy as np\n",
        "\n",
        "# Seed for reproducibility\n",
        "np.random.seed(123)\n",
        "\n",
        "# Number of applicants\n",
        "n = 1200\n",
        "\n",
        "# Options for categorical data\n",
        "genders = [\"Male\", \"Female\", \"Other\"]\n",
        "ethnicities = [\"Group_A\", \"Group_B\", \"Group_C\"]\n",
        "education_levels = [\"High School\", \"Bachelors\", \"Masters\", \"PhD\"]\n",
        "\n",
        "# Create the synthetic recruitment dataset\n",
        "data = pd.DataFrame({\n",
        "    \"Applicant_ID\": range(1, n + 1),\n",
        "    \"Age\": np.random.randint(20, 60, n),\n",
        "    \"Gender\": np.random.choice(genders, n, p=[0.5, 0.45, 0.05]),\n",
        "    \"Ethnicity\": np.random.choice(ethnicities, n, p=[0.4, 0.35, 0.25]),\n",
        "    \"Education\": np.random.choice(education_levels, n, p=[0.3, 0.4, 0.2, 0.1]),\n",
        "    \"Years_Experience\": np.random.randint(0, 20, n),\n",
        "    \"Skill_Score\": np.random.randint(40, 100, n)  # Out of 100\n",
        "})\n",
        "\n",
        "# Shortlisting logic with bias patterns\n",
        "\n",
        "# 1. Education + Skill Score bias\n",
        "condition = (data[\"Education\"].isin([\"Masters\", \"PhD\"])) & (data[\"Skill_Score\"] > 70)\n",
        "data.loc[condition, \"Shortlisted\"] = np.random.choice([1, 0], condition.sum(), p=[0.75, 0.25])\n",
        "data.loc[~condition, \"Shortlisted\"] = np.random.choice([1, 0], (~condition).sum(), p=[0.35, 0.65])\n",
        "\n",
        "# 2. Additional bias: Favor Ethnicity = Group_A\n",
        "mask_group_a = data[\"Ethnicity\"] == \"Group_A\"\n",
        "data.loc[mask_group_a, \"Shortlisted\"] = np.random.choice([1, 0], mask_group_a.sum(), p=[0.55, 0.45])\n",
        "\n",
        "# Preview the dataset\n",
        "print(data.head())\n"
      ]
    },
    {
      "cell_type": "code",
      "source": [
        "# =========================================\n",
        "# Task 1: Bias Detection in Development\n",
        "# =========================================\n",
        "from sklearn.model_selection import train_test_split\n",
        "from sklearn.ensemble import RandomForestClassifier\n",
        "from sklearn.metrics import accuracy_score\n",
        "\n",
        "# Prepare data\n",
        "X = pd.get_dummies(data.drop(columns=[\"Applicant_ID\", \"Shortlisted\"]), drop_first=True)\n",
        "y = data[\"Shortlisted\"]\n",
        "\n",
        "X_train, X_test, y_train, y_test = train_test_split(X, y, test_size=0.3, random_state=42)\n",
        "\n",
        "# Train baseline model\n",
        "model = RandomForestClassifier(n_estimators=50, random_state=42)\n",
        "model.fit(X_train, y_train)\n",
        "\n",
        "# Evaluate\n",
        "y_pred = model.predict(X_test)\n",
        "print(\"Baseline Accuracy:\", accuracy_score(y_test, y_pred))\n",
        "\n",
        "# Bias check by Gender and Ethnicity\n",
        "df_test = X_test.copy()\n",
        "df_test[\"y_true\"] = y_test\n",
        "df_test[\"y_pred\"] = y_pred\n",
        "df_test[\"Gender\"] = data.loc[y_test.index, \"Gender\"]\n",
        "df_test[\"Ethnicity\"] = data.loc[y_test.index, \"Ethnicity\"]\n",
        "\n",
        "bias_gender = df_test.groupby(\"Gender\")[\"y_pred\"].mean()\n",
        "bias_ethnicity = df_test.groupby(\"Ethnicity\")[\"y_pred\"].mean()\n",
        "\n",
        "print(\"\\nPositive prediction rate by Gender:\\n\", bias_gender)\n",
        "print(\"\\nPositive prediction rate by Ethnicity:\\n\", bias_ethnicity)\n"
      ],
      "metadata": {
        "colab": {
          "base_uri": "https://localhost:8080/"
        },
        "id": "PH-wBhegAbMC",
        "outputId": "d06fb1f3-1ed6-4431-f8ce-e633f2b8f2ab"
      },
      "execution_count": 4,
      "outputs": [
        {
          "output_type": "stream",
          "name": "stdout",
          "text": [
            "Baseline Accuracy: 0.5055555555555555\n",
            "\n",
            "Positive prediction rate by Gender:\n",
            " Gender\n",
            "Female    0.325000\n",
            "Male      0.326087\n",
            "Other     0.437500\n",
            "Name: y_pred, dtype: float64\n",
            "\n",
            "Positive prediction rate by Ethnicity:\n",
            " Ethnicity\n",
            "Group_A    0.447761\n",
            "Group_B    0.216418\n",
            "Group_C    0.326087\n",
            "Name: y_pred, dtype: float64\n"
          ]
        }
      ]
    },
    {
      "cell_type": "code",
      "source": [
        "# =========================================\n",
        "# Task 2: Fairness Testing in Dev\n",
        "# =========================================\n",
        "def fairness_check(df, sensitive_attr, threshold=0.1):\n",
        "    rates = df.groupby(sensitive_attr)[\"y_pred\"].mean()\n",
        "    disparity = rates.max() - rates.min()\n",
        "    print(f\"{sensitive_attr} Disparity: {disparity:.3f}\")\n",
        "    return disparity <= threshold\n",
        "\n",
        "if not fairness_check(df_test, \"Gender\"):\n",
        "    print(\"❌ Fairness check failed for Gender.\")\n",
        "else:\n",
        "    print(\"✅ Fairness check passed for Gender.\")\n",
        "\n",
        "if not fairness_check(df_test, \"Ethnicity\"):\n",
        "    print(\"❌ Fairness check failed for Ethnicity.\")\n",
        "else:\n",
        "    print(\"✅ Fairness check passed for Ethnicity.\")\n"
      ],
      "metadata": {
        "colab": {
          "base_uri": "https://localhost:8080/"
        },
        "id": "OQyajTZEAfvc",
        "outputId": "773876b5-495a-43ce-d323-fd74ee60a51a"
      },
      "execution_count": 5,
      "outputs": [
        {
          "output_type": "stream",
          "name": "stdout",
          "text": [
            "Gender Disparity: 0.112\n",
            "❌ Fairness check failed for Gender.\n",
            "Ethnicity Disparity: 0.231\n",
            "❌ Fairness check failed for Ethnicity.\n"
          ]
        }
      ]
    },
    {
      "cell_type": "code",
      "source": [
        "# =========================================\n",
        "# Task 3: Feature Role & Ethics Review\n",
        "# =========================================\n",
        "importances = pd.Series(model.feature_importances_, index=X.columns)\n",
        "importances_sorted = importances.sort_values(ascending=False)\n",
        "print(importances_sorted.head(10))\n",
        "\n",
        "# Flag if socio-demographic features are high\n",
        "socio_features = [\"Gender_Male\", \"Gender_Other\", \"Ethnicity_Group_B\", \"Ethnicity_Group_C\"]\n",
        "for feat in socio_features:\n",
        "    if feat in importances_sorted.head(10).index:\n",
        "        print(f\"⚠️ Feature '{feat}' is high in importance — consider mitigation.\")\n"
      ],
      "metadata": {
        "colab": {
          "base_uri": "https://localhost:8080/"
        },
        "id": "XYnNkPnEAr6D",
        "outputId": "3f60aa5d-6005-4a82-b397-bf3ea7d5d286"
      },
      "execution_count": 6,
      "outputs": [
        {
          "output_type": "stream",
          "name": "stdout",
          "text": [
            "Skill_Score              0.305972\n",
            "Age                      0.268212\n",
            "Years_Experience         0.216665\n",
            "Gender_Male              0.037853\n",
            "Ethnicity_Group_B        0.035664\n",
            "Education_High School    0.034966\n",
            "Education_Masters        0.033892\n",
            "Ethnicity_Group_C        0.028907\n",
            "Education_PhD            0.022765\n",
            "Gender_Other             0.015104\n",
            "dtype: float64\n",
            "⚠️ Feature 'Gender_Male' is high in importance — consider mitigation.\n",
            "⚠️ Feature 'Gender_Other' is high in importance — consider mitigation.\n",
            "⚠️ Feature 'Ethnicity_Group_B' is high in importance — consider mitigation.\n",
            "⚠️ Feature 'Ethnicity_Group_C' is high in importance — consider mitigation.\n"
          ]
        }
      ]
    },
    {
      "cell_type": "code",
      "source": [
        "# =========================================\n",
        "# Task 4: Ethics-Aware Agile User Stories\n",
        "# =========================================\n",
        "user_stories = [\n",
        "    \"As a recruiter, I want the model to avoid bias based on gender so that all applicants are evaluated fairly.\",\n",
        "    \"As an HR manager, I want transparency in model decisions so that candidates can be given clear feedback.\"\n",
        "]\n",
        "\n",
        "for story in user_stories:\n",
        "    print(\"-\", story)\n"
      ],
      "metadata": {
        "colab": {
          "base_uri": "https://localhost:8080/"
        },
        "id": "Vjnr0XiUAueT",
        "outputId": "cb8a24b6-0435-4a5f-c0cc-862cbd65b9a7"
      },
      "execution_count": 7,
      "outputs": [
        {
          "output_type": "stream",
          "name": "stdout",
          "text": [
            "- As a recruiter, I want the model to avoid bias based on gender so that all applicants are evaluated fairly.\n",
            "- As an HR manager, I want transparency in model decisions so that candidates can be given clear feedback.\n"
          ]
        }
      ]
    },
    {
      "cell_type": "code",
      "source": [
        "# =========================================\n",
        "# Task 5: Logging & Accountability\n",
        "# =========================================\n",
        "import datetime\n",
        "\n",
        "MODEL_VERSION = \"v1.0\"\n",
        "prediction_log = []\n",
        "\n",
        "def predict_and_log(applicant_data):\n",
        "    pred = model.predict(applicant_data)[0]\n",
        "    log_entry = {\n",
        "        \"timestamp\": datetime.datetime.now().isoformat(),\n",
        "        \"input\": applicant_data.to_dict(orient='records')[0],\n",
        "        \"prediction\": int(pred),\n",
        "        \"model_version\": MODEL_VERSION\n",
        "    }\n",
        "    prediction_log.append(log_entry)\n",
        "    return pred\n",
        "\n",
        "# Example prediction\n",
        "sample_applicant = X_test.iloc[[0]]\n",
        "predict_and_log(sample_applicant)\n",
        "prediction_log[:2]\n"
      ],
      "metadata": {
        "colab": {
          "base_uri": "https://localhost:8080/"
        },
        "id": "mbTvY3-bAx3q",
        "outputId": "9c4b9a60-fcbd-41b6-fc19-4a1a4e53c1e0"
      },
      "execution_count": 8,
      "outputs": [
        {
          "output_type": "execute_result",
          "data": {
            "text/plain": [
              "[{'timestamp': '2025-08-13T10:39:09.320615',\n",
              "  'input': {'Age': 44,\n",
              "   'Years_Experience': 1,\n",
              "   'Skill_Score': 44,\n",
              "   'Gender_Male': False,\n",
              "   'Gender_Other': False,\n",
              "   'Ethnicity_Group_B': False,\n",
              "   'Ethnicity_Group_C': False,\n",
              "   'Education_High School': True,\n",
              "   'Education_Masters': False,\n",
              "   'Education_PhD': False},\n",
              "  'prediction': 0,\n",
              "  'model_version': 'v1.0'}]"
            ]
          },
          "metadata": {},
          "execution_count": 8
        }
      ]
    },
    {
      "cell_type": "code",
      "source": [
        "# =========================================\n",
        "# Task 6: Real-Time Monitoring\n",
        "# =========================================\n",
        "dp_gender = bias_gender.max() - bias_gender.min()\n",
        "dp_ethnicity = bias_ethnicity.max() - bias_ethnicity.min()\n",
        "\n",
        "if dp_gender > 0.1:\n",
        "    print(\"⚠️ Alert: Gender fairness threshold exceeded.\")\n",
        "else:\n",
        "    print(\"✅ Gender fairness acceptable.\")\n",
        "\n",
        "if dp_ethnicity > 0.1:\n",
        "    print(\"⚠️ Alert: Ethnicity fairness threshold exceeded.\")\n",
        "else:\n",
        "    print(\"✅ Ethnicity fairness acceptable.\")\n"
      ],
      "metadata": {
        "colab": {
          "base_uri": "https://localhost:8080/"
        },
        "id": "_sFwAbbrAzii",
        "outputId": "8171ef12-2fcb-44d0-8b71-106a33d5a1ec"
      },
      "execution_count": 9,
      "outputs": [
        {
          "output_type": "stream",
          "name": "stdout",
          "text": [
            "⚠️ Alert: Gender fairness threshold exceeded.\n",
            "⚠️ Alert: Ethnicity fairness threshold exceeded.\n"
          ]
        }
      ]
    },
    {
      "cell_type": "code",
      "source": [
        "# =========================================\n",
        "# Task 7: Privacy Controls\n",
        "# =========================================\n",
        "import hashlib\n",
        "\n",
        "data[\"Applicant_ID\"] = data[\"Applicant_ID\"].apply(lambda x: hashlib.sha256(str(x).encode()).hexdigest())\n",
        "data.head()\n"
      ],
      "metadata": {
        "colab": {
          "base_uri": "https://localhost:8080/",
          "height": 206
        },
        "id": "AABYszO5A1z6",
        "outputId": "533d79a2-a110-4a57-cc7b-021000688bc8"
      },
      "execution_count": 10,
      "outputs": [
        {
          "output_type": "execute_result",
          "data": {
            "text/plain": [
              "                                        Applicant_ID  Age Gender Ethnicity  \\\n",
              "0  6b86b273ff34fce19d6b804eff5a3f5747ada4eaa22f1d...   22   Male   Group_B   \n",
              "1  d4735e3a265e16eee03f59718b9b5d03019c07d8b6c51f...   48  Other   Group_B   \n",
              "2  4e07408562bedb8b60ce05c1decfe3ad16b72230967de0...   54   Male   Group_B   \n",
              "3  4b227777d4dd1fc61c6f884f48641d02b4d121d3fd328c...   58   Male   Group_C   \n",
              "4  ef2d127de37b942baad06145e54b0c619a1f22327b2ebb...   37   Male   Group_C   \n",
              "\n",
              "   Education  Years_Experience  Skill_Score  Shortlisted  \n",
              "0  Bachelors                12           87          0.0  \n",
              "1  Bachelors                12           89          0.0  \n",
              "2  Bachelors                19           45          1.0  \n",
              "3    Masters                 8           41          0.0  \n",
              "4  Bachelors                16           48          0.0  "
            ],
            "text/html": [
              "\n",
              "  <div id=\"df-7730d120-44bb-427d-9cae-304bb24b6132\" class=\"colab-df-container\">\n",
              "    <div>\n",
              "<style scoped>\n",
              "    .dataframe tbody tr th:only-of-type {\n",
              "        vertical-align: middle;\n",
              "    }\n",
              "\n",
              "    .dataframe tbody tr th {\n",
              "        vertical-align: top;\n",
              "    }\n",
              "\n",
              "    .dataframe thead th {\n",
              "        text-align: right;\n",
              "    }\n",
              "</style>\n",
              "<table border=\"1\" class=\"dataframe\">\n",
              "  <thead>\n",
              "    <tr style=\"text-align: right;\">\n",
              "      <th></th>\n",
              "      <th>Applicant_ID</th>\n",
              "      <th>Age</th>\n",
              "      <th>Gender</th>\n",
              "      <th>Ethnicity</th>\n",
              "      <th>Education</th>\n",
              "      <th>Years_Experience</th>\n",
              "      <th>Skill_Score</th>\n",
              "      <th>Shortlisted</th>\n",
              "    </tr>\n",
              "  </thead>\n",
              "  <tbody>\n",
              "    <tr>\n",
              "      <th>0</th>\n",
              "      <td>6b86b273ff34fce19d6b804eff5a3f5747ada4eaa22f1d...</td>\n",
              "      <td>22</td>\n",
              "      <td>Male</td>\n",
              "      <td>Group_B</td>\n",
              "      <td>Bachelors</td>\n",
              "      <td>12</td>\n",
              "      <td>87</td>\n",
              "      <td>0.0</td>\n",
              "    </tr>\n",
              "    <tr>\n",
              "      <th>1</th>\n",
              "      <td>d4735e3a265e16eee03f59718b9b5d03019c07d8b6c51f...</td>\n",
              "      <td>48</td>\n",
              "      <td>Other</td>\n",
              "      <td>Group_B</td>\n",
              "      <td>Bachelors</td>\n",
              "      <td>12</td>\n",
              "      <td>89</td>\n",
              "      <td>0.0</td>\n",
              "    </tr>\n",
              "    <tr>\n",
              "      <th>2</th>\n",
              "      <td>4e07408562bedb8b60ce05c1decfe3ad16b72230967de0...</td>\n",
              "      <td>54</td>\n",
              "      <td>Male</td>\n",
              "      <td>Group_B</td>\n",
              "      <td>Bachelors</td>\n",
              "      <td>19</td>\n",
              "      <td>45</td>\n",
              "      <td>1.0</td>\n",
              "    </tr>\n",
              "    <tr>\n",
              "      <th>3</th>\n",
              "      <td>4b227777d4dd1fc61c6f884f48641d02b4d121d3fd328c...</td>\n",
              "      <td>58</td>\n",
              "      <td>Male</td>\n",
              "      <td>Group_C</td>\n",
              "      <td>Masters</td>\n",
              "      <td>8</td>\n",
              "      <td>41</td>\n",
              "      <td>0.0</td>\n",
              "    </tr>\n",
              "    <tr>\n",
              "      <th>4</th>\n",
              "      <td>ef2d127de37b942baad06145e54b0c619a1f22327b2ebb...</td>\n",
              "      <td>37</td>\n",
              "      <td>Male</td>\n",
              "      <td>Group_C</td>\n",
              "      <td>Bachelors</td>\n",
              "      <td>16</td>\n",
              "      <td>48</td>\n",
              "      <td>0.0</td>\n",
              "    </tr>\n",
              "  </tbody>\n",
              "</table>\n",
              "</div>\n",
              "    <div class=\"colab-df-buttons\">\n",
              "\n",
              "  <div class=\"colab-df-container\">\n",
              "    <button class=\"colab-df-convert\" onclick=\"convertToInteractive('df-7730d120-44bb-427d-9cae-304bb24b6132')\"\n",
              "            title=\"Convert this dataframe to an interactive table.\"\n",
              "            style=\"display:none;\">\n",
              "\n",
              "  <svg xmlns=\"http://www.w3.org/2000/svg\" height=\"24px\" viewBox=\"0 -960 960 960\">\n",
              "    <path d=\"M120-120v-720h720v720H120Zm60-500h600v-160H180v160Zm220 220h160v-160H400v160Zm0 220h160v-160H400v160ZM180-400h160v-160H180v160Zm440 0h160v-160H620v160ZM180-180h160v-160H180v160Zm440 0h160v-160H620v160Z\"/>\n",
              "  </svg>\n",
              "    </button>\n",
              "\n",
              "  <style>\n",
              "    .colab-df-container {\n",
              "      display:flex;\n",
              "      gap: 12px;\n",
              "    }\n",
              "\n",
              "    .colab-df-convert {\n",
              "      background-color: #E8F0FE;\n",
              "      border: none;\n",
              "      border-radius: 50%;\n",
              "      cursor: pointer;\n",
              "      display: none;\n",
              "      fill: #1967D2;\n",
              "      height: 32px;\n",
              "      padding: 0 0 0 0;\n",
              "      width: 32px;\n",
              "    }\n",
              "\n",
              "    .colab-df-convert:hover {\n",
              "      background-color: #E2EBFA;\n",
              "      box-shadow: 0px 1px 2px rgba(60, 64, 67, 0.3), 0px 1px 3px 1px rgba(60, 64, 67, 0.15);\n",
              "      fill: #174EA6;\n",
              "    }\n",
              "\n",
              "    .colab-df-buttons div {\n",
              "      margin-bottom: 4px;\n",
              "    }\n",
              "\n",
              "    [theme=dark] .colab-df-convert {\n",
              "      background-color: #3B4455;\n",
              "      fill: #D2E3FC;\n",
              "    }\n",
              "\n",
              "    [theme=dark] .colab-df-convert:hover {\n",
              "      background-color: #434B5C;\n",
              "      box-shadow: 0px 1px 3px 1px rgba(0, 0, 0, 0.15);\n",
              "      filter: drop-shadow(0px 1px 2px rgba(0, 0, 0, 0.3));\n",
              "      fill: #FFFFFF;\n",
              "    }\n",
              "  </style>\n",
              "\n",
              "    <script>\n",
              "      const buttonEl =\n",
              "        document.querySelector('#df-7730d120-44bb-427d-9cae-304bb24b6132 button.colab-df-convert');\n",
              "      buttonEl.style.display =\n",
              "        google.colab.kernel.accessAllowed ? 'block' : 'none';\n",
              "\n",
              "      async function convertToInteractive(key) {\n",
              "        const element = document.querySelector('#df-7730d120-44bb-427d-9cae-304bb24b6132');\n",
              "        const dataTable =\n",
              "          await google.colab.kernel.invokeFunction('convertToInteractive',\n",
              "                                                    [key], {});\n",
              "        if (!dataTable) return;\n",
              "\n",
              "        const docLinkHtml = 'Like what you see? Visit the ' +\n",
              "          '<a target=\"_blank\" href=https://colab.research.google.com/notebooks/data_table.ipynb>data table notebook</a>'\n",
              "          + ' to learn more about interactive tables.';\n",
              "        element.innerHTML = '';\n",
              "        dataTable['output_type'] = 'display_data';\n",
              "        await google.colab.output.renderOutput(dataTable, element);\n",
              "        const docLink = document.createElement('div');\n",
              "        docLink.innerHTML = docLinkHtml;\n",
              "        element.appendChild(docLink);\n",
              "      }\n",
              "    </script>\n",
              "  </div>\n",
              "\n",
              "\n",
              "    <div id=\"df-e4ed401d-c10c-46eb-9a0e-be239d705754\">\n",
              "      <button class=\"colab-df-quickchart\" onclick=\"quickchart('df-e4ed401d-c10c-46eb-9a0e-be239d705754')\"\n",
              "                title=\"Suggest charts\"\n",
              "                style=\"display:none;\">\n",
              "\n",
              "<svg xmlns=\"http://www.w3.org/2000/svg\" height=\"24px\"viewBox=\"0 0 24 24\"\n",
              "     width=\"24px\">\n",
              "    <g>\n",
              "        <path d=\"M19 3H5c-1.1 0-2 .9-2 2v14c0 1.1.9 2 2 2h14c1.1 0 2-.9 2-2V5c0-1.1-.9-2-2-2zM9 17H7v-7h2v7zm4 0h-2V7h2v10zm4 0h-2v-4h2v4z\"/>\n",
              "    </g>\n",
              "</svg>\n",
              "      </button>\n",
              "\n",
              "<style>\n",
              "  .colab-df-quickchart {\n",
              "      --bg-color: #E8F0FE;\n",
              "      --fill-color: #1967D2;\n",
              "      --hover-bg-color: #E2EBFA;\n",
              "      --hover-fill-color: #174EA6;\n",
              "      --disabled-fill-color: #AAA;\n",
              "      --disabled-bg-color: #DDD;\n",
              "  }\n",
              "\n",
              "  [theme=dark] .colab-df-quickchart {\n",
              "      --bg-color: #3B4455;\n",
              "      --fill-color: #D2E3FC;\n",
              "      --hover-bg-color: #434B5C;\n",
              "      --hover-fill-color: #FFFFFF;\n",
              "      --disabled-bg-color: #3B4455;\n",
              "      --disabled-fill-color: #666;\n",
              "  }\n",
              "\n",
              "  .colab-df-quickchart {\n",
              "    background-color: var(--bg-color);\n",
              "    border: none;\n",
              "    border-radius: 50%;\n",
              "    cursor: pointer;\n",
              "    display: none;\n",
              "    fill: var(--fill-color);\n",
              "    height: 32px;\n",
              "    padding: 0;\n",
              "    width: 32px;\n",
              "  }\n",
              "\n",
              "  .colab-df-quickchart:hover {\n",
              "    background-color: var(--hover-bg-color);\n",
              "    box-shadow: 0 1px 2px rgba(60, 64, 67, 0.3), 0 1px 3px 1px rgba(60, 64, 67, 0.15);\n",
              "    fill: var(--button-hover-fill-color);\n",
              "  }\n",
              "\n",
              "  .colab-df-quickchart-complete:disabled,\n",
              "  .colab-df-quickchart-complete:disabled:hover {\n",
              "    background-color: var(--disabled-bg-color);\n",
              "    fill: var(--disabled-fill-color);\n",
              "    box-shadow: none;\n",
              "  }\n",
              "\n",
              "  .colab-df-spinner {\n",
              "    border: 2px solid var(--fill-color);\n",
              "    border-color: transparent;\n",
              "    border-bottom-color: var(--fill-color);\n",
              "    animation:\n",
              "      spin 1s steps(1) infinite;\n",
              "  }\n",
              "\n",
              "  @keyframes spin {\n",
              "    0% {\n",
              "      border-color: transparent;\n",
              "      border-bottom-color: var(--fill-color);\n",
              "      border-left-color: var(--fill-color);\n",
              "    }\n",
              "    20% {\n",
              "      border-color: transparent;\n",
              "      border-left-color: var(--fill-color);\n",
              "      border-top-color: var(--fill-color);\n",
              "    }\n",
              "    30% {\n",
              "      border-color: transparent;\n",
              "      border-left-color: var(--fill-color);\n",
              "      border-top-color: var(--fill-color);\n",
              "      border-right-color: var(--fill-color);\n",
              "    }\n",
              "    40% {\n",
              "      border-color: transparent;\n",
              "      border-right-color: var(--fill-color);\n",
              "      border-top-color: var(--fill-color);\n",
              "    }\n",
              "    60% {\n",
              "      border-color: transparent;\n",
              "      border-right-color: var(--fill-color);\n",
              "    }\n",
              "    80% {\n",
              "      border-color: transparent;\n",
              "      border-right-color: var(--fill-color);\n",
              "      border-bottom-color: var(--fill-color);\n",
              "    }\n",
              "    90% {\n",
              "      border-color: transparent;\n",
              "      border-bottom-color: var(--fill-color);\n",
              "    }\n",
              "  }\n",
              "</style>\n",
              "\n",
              "      <script>\n",
              "        async function quickchart(key) {\n",
              "          const quickchartButtonEl =\n",
              "            document.querySelector('#' + key + ' button');\n",
              "          quickchartButtonEl.disabled = true;  // To prevent multiple clicks.\n",
              "          quickchartButtonEl.classList.add('colab-df-spinner');\n",
              "          try {\n",
              "            const charts = await google.colab.kernel.invokeFunction(\n",
              "                'suggestCharts', [key], {});\n",
              "          } catch (error) {\n",
              "            console.error('Error during call to suggestCharts:', error);\n",
              "          }\n",
              "          quickchartButtonEl.classList.remove('colab-df-spinner');\n",
              "          quickchartButtonEl.classList.add('colab-df-quickchart-complete');\n",
              "        }\n",
              "        (() => {\n",
              "          let quickchartButtonEl =\n",
              "            document.querySelector('#df-e4ed401d-c10c-46eb-9a0e-be239d705754 button');\n",
              "          quickchartButtonEl.style.display =\n",
              "            google.colab.kernel.accessAllowed ? 'block' : 'none';\n",
              "        })();\n",
              "      </script>\n",
              "    </div>\n",
              "\n",
              "    </div>\n",
              "  </div>\n"
            ],
            "application/vnd.google.colaboratory.intrinsic+json": {
              "type": "dataframe",
              "variable_name": "data",
              "summary": "{\n  \"name\": \"data\",\n  \"rows\": 1200,\n  \"fields\": [\n    {\n      \"column\": \"Applicant_ID\",\n      \"properties\": {\n        \"dtype\": \"string\",\n        \"num_unique_values\": 1200,\n        \"samples\": [\n          \"ed07bf12b8fe09324c8bc24c6738e1a8fd1e1c579615665a73b5fffe740db719\",\n          \"80c39b8ca01cdfda142928ba683d503173017d52bfafacb118c62e34ec9bc693\",\n          \"37834f2f25762f23e1f74a531cbe445db73d6765ebe60878a7dfbecd7d4af6e1\"\n        ],\n        \"semantic_type\": \"\",\n        \"description\": \"\"\n      }\n    },\n    {\n      \"column\": \"Age\",\n      \"properties\": {\n        \"dtype\": \"number\",\n        \"std\": 11,\n        \"min\": 20,\n        \"max\": 59,\n        \"num_unique_values\": 40,\n        \"samples\": [\n          55,\n          40,\n          23\n        ],\n        \"semantic_type\": \"\",\n        \"description\": \"\"\n      }\n    },\n    {\n      \"column\": \"Gender\",\n      \"properties\": {\n        \"dtype\": \"category\",\n        \"num_unique_values\": 3,\n        \"samples\": [\n          \"Male\",\n          \"Other\",\n          \"Female\"\n        ],\n        \"semantic_type\": \"\",\n        \"description\": \"\"\n      }\n    },\n    {\n      \"column\": \"Ethnicity\",\n      \"properties\": {\n        \"dtype\": \"category\",\n        \"num_unique_values\": 3,\n        \"samples\": [\n          \"Group_B\",\n          \"Group_C\",\n          \"Group_A\"\n        ],\n        \"semantic_type\": \"\",\n        \"description\": \"\"\n      }\n    },\n    {\n      \"column\": \"Education\",\n      \"properties\": {\n        \"dtype\": \"category\",\n        \"num_unique_values\": 4,\n        \"samples\": [\n          \"Masters\",\n          \"PhD\",\n          \"Bachelors\"\n        ],\n        \"semantic_type\": \"\",\n        \"description\": \"\"\n      }\n    },\n    {\n      \"column\": \"Years_Experience\",\n      \"properties\": {\n        \"dtype\": \"number\",\n        \"std\": 5,\n        \"min\": 0,\n        \"max\": 19,\n        \"num_unique_values\": 20,\n        \"samples\": [\n          12,\n          18,\n          3\n        ],\n        \"semantic_type\": \"\",\n        \"description\": \"\"\n      }\n    },\n    {\n      \"column\": \"Skill_Score\",\n      \"properties\": {\n        \"dtype\": \"number\",\n        \"std\": 17,\n        \"min\": 40,\n        \"max\": 99,\n        \"num_unique_values\": 60,\n        \"samples\": [\n          87,\n          52,\n          95\n        ],\n        \"semantic_type\": \"\",\n        \"description\": \"\"\n      }\n    },\n    {\n      \"column\": \"Shortlisted\",\n      \"properties\": {\n        \"dtype\": \"number\",\n        \"std\": 0.4966939630862869,\n        \"min\": 0.0,\n        \"max\": 1.0,\n        \"num_unique_values\": 2,\n        \"samples\": [\n          1.0,\n          0.0\n        ],\n        \"semantic_type\": \"\",\n        \"description\": \"\"\n      }\n    }\n  ]\n}"
            }
          },
          "metadata": {},
          "execution_count": 10
        }
      ]
    },
    {
      "cell_type": "code",
      "source": [
        "# =========================================\n",
        "# Task 8: Inclusivity Feedback Loop\n",
        "# =========================================\n",
        "feedback = pd.DataFrame({\n",
        "    \"Applicant_ID\": [\"new_1\", \"new_2\"],\n",
        "    \"Age\": [29, 35],\n",
        "    \"Gender\": [\"Other\", \"Other\"],\n",
        "    \"Ethnicity\": [\"Group_C\", \"Group_C\"],\n",
        "    \"Education\": [\"Bachelors\", \"Masters\"],\n",
        "    \"Years_Experience\": [3, 5],\n",
        "    \"Skill_Score\": [72, 80],\n",
        "    \"Shortlisted\": [1, 1]\n",
        "})\n",
        "\n",
        "data_updated = pd.concat([data, feedback], ignore_index=True)\n",
        "print(\"Updated dataset size:\", data_updated.shape)\n"
      ],
      "metadata": {
        "colab": {
          "base_uri": "https://localhost:8080/"
        },
        "id": "sjTAyTnxA3ka",
        "outputId": "822df650-0740-4f11-b805-8830cd9f8a01"
      },
      "execution_count": 11,
      "outputs": [
        {
          "output_type": "stream",
          "name": "stdout",
          "text": [
            "Updated dataset size: (1202, 8)\n"
          ]
        }
      ]
    },
    {
      "cell_type": "code",
      "source": [
        "# =========================================\n",
        "# Task 9: Ethical Incident Simulation\n",
        "# =========================================\n",
        "incident_report = {\n",
        "    \"Detection\": \"User complaint about potential bias against Ethnicity Group_C.\",\n",
        "    \"Investigation\": \"Analyze model predictions to confirm disparity.\",\n",
        "    \"Communication\": \"Notify compliance and HR departments; prepare external statement.\",\n",
        "    \"Remediation\": \"Retrain model with balanced dataset; remove Ethnicity feature.\"\n",
        "}\n",
        "\n",
        "for step, detail in incident_report.items():\n",
        "    print(f\"{step}: {detail}\")\n"
      ],
      "metadata": {
        "id": "nwjtHdrLA5N9",
        "outputId": "891147c1-e03e-43c1-d164-7cca5c7ccdf5",
        "colab": {
          "base_uri": "https://localhost:8080/"
        }
      },
      "execution_count": 12,
      "outputs": [
        {
          "output_type": "stream",
          "name": "stdout",
          "text": [
            "Detection: User complaint about potential bias against Ethnicity Group_C.\n",
            "Investigation: Analyze model predictions to confirm disparity.\n",
            "Communication: Notify compliance and HR departments; prepare external statement.\n",
            "Remediation: Retrain model with balanced dataset; remove Ethnicity feature.\n"
          ]
        }
      ]
    }
  ]
}