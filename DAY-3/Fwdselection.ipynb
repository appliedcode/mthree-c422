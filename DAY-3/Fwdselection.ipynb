{
  "nbformat": 4,
  "nbformat_minor": 0,
  "metadata": {
    "colab": {
      "provenance": []
    },
    "kernelspec": {
      "name": "python3",
      "display_name": "Python 3"
    },
    "language_info": {
      "name": "python"
    }
  },
  "cells": [
    {
      "cell_type": "code",
      "execution_count": 1,
      "metadata": {
        "id": "fCUuLEg6UQcI"
      },
      "outputs": [],
      "source": [
        "import pandas as pd\n",
        "from sklearn.datasets import load_breast_cancer\n",
        "from sklearn.linear_model import LogisticRegression\n",
        "from sklearn.feature_selection import SequentialFeatureSelector\n",
        "from sklearn.model_selection import train_test_split\n",
        "from sklearn.metrics import accuracy_score\n",
        "from sklearn.feature_selection import SequentialFeatureSelector\n",
        "from sklearn.model_selection import train_test_split, cross_val_score, StratifiedKFold\n",
        "from sklearn.metrics import (\n",
        "    accuracy_score, precision_score, recall_score, roc_auc_score,\n",
        "    classification_report, roc_curve\n",
        ")"
      ]
    },
    {
      "cell_type": "code",
      "source": [
        "X, y = load_breast_cancer(return_X_y=True)\n",
        "X = pd.DataFrame(X)"
      ],
      "metadata": {
        "id": "psCi8GYsUdq5"
      },
      "execution_count": 2,
      "outputs": []
    },
    {
      "cell_type": "code",
      "source": [
        "X_train, X_test, y_train, y_test = train_test_split(X, y, random_state=42)\n"
      ],
      "metadata": {
        "id": "rAHGwqnsZUma"
      },
      "execution_count": 3,
      "outputs": []
    },
    {
      "cell_type": "code",
      "source": [
        "model = LogisticRegression(max_iter=5000)\n"
      ],
      "metadata": {
        "id": "SvtPfTCPZXVS"
      },
      "execution_count": 4,
      "outputs": []
    },
    {
      "cell_type": "code",
      "source": [
        "sfs_forward = SequentialFeatureSelector(\n",
        "    model, n_features_to_select=5, direction='forward'\n",
        ")\n",
        "sfs_forward.fit(X_train, y_train)\n",
        "\n",
        "selected_features = X.columns[sfs_forward.get_support()]\n",
        "print(\"Forward Selection Chosen Features:\", list(selected_features))"
      ],
      "metadata": {
        "colab": {
          "base_uri": "https://localhost:8080/"
        },
        "id": "DoRmSPQzZZgz",
        "outputId": "07bbd6cf-82f8-455e-d146-f95f94bb594a"
      },
      "execution_count": 5,
      "outputs": [
        {
          "output_type": "stream",
          "name": "stdout",
          "text": [
            "Forward Selection Chosen Features: [0, 2, 21, 22, 25]\n"
          ]
        }
      ]
    },
    {
      "cell_type": "code",
      "source": [
        "model.fit(X_train[selected_features], y_train)\n",
        "y_pred = model.predict(X_test[selected_features])\n",
        "acc = accuracy_score(y_test, y_pred)\n",
        "\n",
        "print(f\"Accuracy with Forward Selection (5 features): {acc:.4f}\")"
      ],
      "metadata": {
        "colab": {
          "base_uri": "https://localhost:8080/"
        },
        "id": "jURzaZ5AZcyy",
        "outputId": "04e414f5-cd6f-408c-d409-06bdbd907588"
      },
      "execution_count": 6,
      "outputs": [
        {
          "output_type": "stream",
          "name": "stdout",
          "text": [
            "Accuracy with Forward Selection (5 features): 0.9720\n"
          ]
        }
      ]
    },
    {
      "cell_type": "code",
      "source": [
        "from sklearn.model_selection import StratifiedKFold, cross_val_score\n",
        "\n",
        "kf = StratifiedKFold(n_splits=5, shuffle=True, random_state=42)\n",
        "sfs = SequentialFeatureSelector(\n",
        "    model,\n",
        "    n_features_to_select=5,\n",
        "    direction='forward',\n",
        "    cv=kf,\n",
        "    scoring='accuracy'\n",
        ").fit(X, y)\n",
        "\n",
        "feats = X.columns[sfs.get_support()]\n",
        "scores = cross_val_score(model.fit(X[feats], y), X[feats], y, cv=kf)\n",
        "print(f\"Selected: {list(feats)}\")\n",
        "print(f\"CV Accuracy: {scores.mean():.4f} ± {scores.std():.4f}\")\n"
      ],
      "metadata": {
        "colab": {
          "base_uri": "https://localhost:8080/"
        },
        "id": "UuXbYLGmZfa7",
        "outputId": "084a299e-0020-4c27-dffb-f20e4dcba24b"
      },
      "execution_count": 7,
      "outputs": [
        {
          "output_type": "stream",
          "name": "stdout",
          "text": [
            "Selected: [3, 4, 20, 21, 26]\n",
            "CV Accuracy: 0.9543 ± 0.0195\n"
          ]
        }
      ]
    },
    {
      "cell_type": "code",
      "source": [
        "sfs_f1 = SequentialFeatureSelector(\n",
        "    model, n_features_to_select=5,\n",
        "    direction='forward',\n",
        "    scoring='f1'\n",
        ").fit(X_train, y_train)\n",
        "\n",
        "feats_f1 = X_train.columns[sfs_f1.get_support()]\n",
        "model.fit(X_train[feats_f1], y_train)\n",
        "print(\"F1-based features:\", list(feats_f1))\n",
        "print(\"Test F1:\", precision_score(y_test, model.predict(X_test[feats_f1]), average='binary'))"
      ],
      "metadata": {
        "colab": {
          "base_uri": "https://localhost:8080/"
        },
        "id": "YhSkmpfKcb37",
        "outputId": "ffcf1e61-cad6-47b9-d910-3ac84bcb3952"
      },
      "execution_count": 8,
      "outputs": [
        {
          "output_type": "stream",
          "name": "stdout",
          "text": [
            "F1-based features: [4, 5, 20, 21, 26]\n",
            "Test F1: 0.967032967032967\n"
          ]
        }
      ]
    },
    {
      "cell_type": "code",
      "source": [
        "from sklearn.datasets import load_iris\n",
        "\n",
        "X2, y2 = load_iris(return_X_y=True, as_frame=True)\n",
        "model = LogisticRegression(max_iter=5000)\n",
        "X2_train, X2_test, y2_train, y2_test = train_test_split(X2, y2, random_state=42)\n",
        "\n",
        "sfs_iris = SequentialFeatureSelector(\n",
        "    model, n_features_to_select=2, direction='forward'\n",
        ").fit(X2_train, y2_train)\n",
        "\n",
        "feats_iris = X2.columns[sfs_iris.get_support()]\n",
        "model.fit(X2_train[feats_iris], y2_train)\n",
        "acc2 = accuracy_score(y2_test, model.predict(X2_test[feats_iris]))\n",
        "print(\"Iris selected features:\", list(feats_iris))\n",
        "print(f\"Iris accuracy: {acc2:.4f}\")"
      ],
      "metadata": {
        "colab": {
          "base_uri": "https://localhost:8080/"
        },
        "id": "NEFo-7XHceru",
        "outputId": "106cc5b4-f7f3-442f-bdd1-859902035b14"
      },
      "execution_count": 9,
      "outputs": [
        {
          "output_type": "stream",
          "name": "stdout",
          "text": [
            "Iris selected features: ['petal length (cm)', 'petal width (cm)']\n",
            "Iris accuracy: 1.0000\n"
          ]
        }
      ]
    },
    {
      "cell_type": "code",
      "source": [],
      "metadata": {
        "id": "qH4s6stbcjHp"
      },
      "execution_count": null,
      "outputs": []
    }
  ]
}