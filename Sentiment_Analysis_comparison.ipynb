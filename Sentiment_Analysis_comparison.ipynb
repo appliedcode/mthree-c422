{
  "nbformat": 4,
  "nbformat_minor": 0,
  "metadata": {
    "colab": {
      "provenance": [],
      "authorship_tag": "ABX9TyOCe9n/SBRKYG6kkRthAwt9",
      "include_colab_link": true
    },
    "kernelspec": {
      "name": "python3",
      "display_name": "Python 3"
    },
    "language_info": {
      "name": "python"
    }
  },
  "cells": [
    {
      "cell_type": "markdown",
      "metadata": {
        "id": "view-in-github",
        "colab_type": "text"
      },
      "source": [
        "<a href=\"https://colab.research.google.com/github/appliedcode/mthree-c422/blob/mthree-c422-Likhitha/Sentiment_Analysis_comparison.ipynb\" target=\"_parent\"><img src=\"https://colab.research.google.com/assets/colab-badge.svg\" alt=\"Open In Colab\"/></a>"
      ]
    },
    {
      "cell_type": "code",
      "execution_count": null,
      "metadata": {
        "id": "3qyY17CXhrqq"
      },
      "outputs": [],
      "source": [
        "!pip install nltk seaborn --quiet\n",
        "\n",
        "import pandas as pd\n",
        "import numpy as np\n",
        "import matplotlib.pyplot as plt\n",
        "import seaborn as sns\n",
        "\n",
        "import nltk\n",
        "from nltk.sentiment import SentimentIntensityAnalyzer\n",
        "from nltk.corpus import stopwords\n",
        "from nltk.tokenize import word_tokenize\n",
        "\n",
        "from sklearn.model_selection import train_test_split\n",
        "from sklearn.feature_extraction.text import TfidfVectorizer\n",
        "from sklearn.linear_model import LogisticRegression\n",
        "from sklearn.metrics import classification_report, confusion_matrix, accuracy_score\n",
        "\n",
        "import warnings\n",
        "warnings.filterwarnings('ignore')"
      ]
    },
    {
      "cell_type": "code",
      "source": [
        "nltk.download('vader_lexicon')\n",
        "nltk.download('punkt')\n",
        "nltk.download('stopwords')"
      ],
      "metadata": {
        "colab": {
          "base_uri": "https://localhost:8080/"
        },
        "id": "F9MYHgzXhtSO",
        "outputId": "6de9999e-958a-41b9-c9f2-75bd42bcaa4d"
      },
      "execution_count": null,
      "outputs": [
        {
          "output_type": "stream",
          "name": "stderr",
          "text": [
            "[nltk_data] Downloading package vader_lexicon to /root/nltk_data...\n",
            "[nltk_data] Downloading package punkt to /root/nltk_data...\n",
            "[nltk_data]   Unzipping tokenizers/punkt.zip.\n",
            "[nltk_data] Downloading package stopwords to /root/nltk_data...\n",
            "[nltk_data]   Unzipping corpora/stopwords.zip.\n"
          ]
        },
        {
          "output_type": "execute_result",
          "data": {
            "text/plain": [
              "True"
            ]
          },
          "metadata": {},
          "execution_count": 2
        }
      ]
    },
    {
      "cell_type": "code",
      "source": [
        "reviews = [\n",
        "    'This product is amazing! I love it.',\n",
        "    'Terrible experience, will not buy again.',\n",
        "    'It works as expected. Nothing special.',\n",
        "    'Absolutely fantastic! Exceeded my expectations.',\n",
        "    'Not worth the price. Very disappointed.',\n",
        "    'Great value for money.',\n",
        "    'The quality is poor and it broke quickly.',\n",
        "    'I am satisfied with my purchase.',\n",
        "    'Worst product ever.',\n",
        "    'Decent, but could be better.',\n",
        "    'I really enjoyed using this.',\n",
        "    'Not great, not terrible.',\n",
        "    'I hated the experience.',\n",
        "    'One of the best purchases I made.',\n",
        "    'It was just okay.',\n",
        "    'I will never recommend this to anyone.',\n",
        "    'Excellent build quality.',\n",
        "    'Feels cheap and flimsy.',\n",
        "    'Top-notch and well-designed.',\n",
        "    'Too expensive for the features.'\n",
        "]\n",
        "labels = [\n",
        "    'positive', 'negative', 'neutral', 'positive', 'negative',\n",
        "    'positive', 'negative', 'positive', 'negative', 'neutral',\n",
        "    'positive', 'neutral', 'negative', 'positive', 'neutral',\n",
        "    'negative', 'positive', 'negative', 'positive', 'negative'\n",
        "]\n",
        "\n",
        "df = pd.DataFrame({'review': reviews, 'label': labels})\n",
        "print(df.head())\n"
      ],
      "metadata": {
        "colab": {
          "base_uri": "https://localhost:8080/"
        },
        "id": "vnu3hyErh5I6",
        "outputId": "f38a7412-eba0-4cd0-b3b9-a4324cbe7311"
      },
      "execution_count": null,
      "outputs": [
        {
          "output_type": "stream",
          "name": "stdout",
          "text": [
            "                                            review     label\n",
            "0              This product is amazing! I love it.  positive\n",
            "1         Terrible experience, will not buy again.  negative\n",
            "2           It works as expected. Nothing special.   neutral\n",
            "3  Absolutely fantastic! Exceeded my expectations.  positive\n",
            "4          Not worth the price. Very disappointed.  negative\n"
          ]
        }
      ]
    },
    {
      "cell_type": "code",
      "source": [
        "sia = SentimentIntensityAnalyzer()\n",
        "df['vader_score'] = df['review'].apply(lambda x: sia.polarity_scores(x)['compound'])\n",
        "\n",
        "def vader_label(score):\n",
        "    if score >= 0.05:\n",
        "        return 'positive'\n",
        "    elif score <= -0.05:\n",
        "        return 'negative'\n",
        "    else:\n",
        "        return 'neutral'\n",
        "\n",
        "df['vader_pred'] = df['vader_score'].apply(vader_label)"
      ],
      "metadata": {
        "id": "veYAV-ozh688"
      },
      "execution_count": null,
      "outputs": []
    },
    {
      "cell_type": "code",
      "source": [
        "plt.figure(figsize=(6, 4))\n",
        "sns.countplot(x='vader_pred', data=df, order=['positive', 'neutral', 'negative'])\n",
        "plt.title('VADER Sentiment Distribution')\n",
        "plt.xlabel('Predicted Sentiment')\n",
        "plt.ylabel('Count')\n",
        "plt.tight_layout()\n",
        "plt.show()"
      ],
      "metadata": {
        "colab": {
          "base_uri": "https://localhost:8080/",
          "height": 407
        },
        "id": "VGK4BqJph_AO",
        "outputId": "e39c57c7-b5de-4984-c39c-3a97ef3c6ef2"
      },
      "execution_count": null,
      "outputs": [
        {
          "output_type": "display_data",
          "data": {
            "text/plain": [
              "<Figure size 600x400 with 1 Axes>"
            ],
            "image/png": "[encoded data removed]"
          },
          "metadata": {}
        }
      ]
    },
    {
      "cell_type": "code",
      "source": [
        "X = df['review']\n",
        "y = df['label']\n",
        "X_train, X_test, y_train, y_test = train_test_split(\n",
        "    X, y, test_size=0.3, stratify=y, random_state=42)\n",
        "\n",
        "# B. Vectorization\n",
        "vectorizer = TfidfVectorizer(stop_words='english')\n",
        "X_train_vec = vectorizer.fit_transform(X_train)\n",
        "X_test_vec = vectorizer.transform(X_test)\n",
        "\n",
        "# C. Training and Prediction\n",
        "clf = LogisticRegression(max_iter=200)\n",
        "clf.fit(X_train_vec, y_train)\n",
        "y_pred = clf.predict(X_test_vec)"
      ],
      "metadata": {
        "id": "jf0WnlT0iChW"
      },
      "execution_count": null,
      "outputs": []
    },
    {
      "cell_type": "code",
      "source": [
        "print(\"Classification Report (Logistic Regression):\")\n",
        "print(classification_report(y_test, y_pred, digits=3))\n",
        "\n",
        "# B. Confusion Matrix\n",
        "labels_order = ['positive', 'neutral', 'negative']\n",
        "cm = confusion_matrix(y_test, y_pred, labels=labels_order)\n",
        "\n",
        "plt.figure(figsize=(6, 5))\n",
        "sns.heatmap(cm, annot=True, fmt='d', cmap='Blues',\n",
        "            xticklabels=labels_order, yticklabels=labels_order)\n",
        "plt.xlabel('Predicted')\n",
        "plt.ylabel('True')\n",
        "plt.title('Confusion Matrix - Logistic Regression')\n",
        "plt.tight_layout()\n",
        "plt.show()\n"
      ],
      "metadata": {
        "colab": {
          "base_uri": "https://localhost:8080/",
          "height": 708
        },
        "id": "W8y03UtSiFtk",
        "outputId": "69c7a0a4-7b09-4b1e-ea7b-fe7b5a510db1"
      },
      "execution_count": null,
      "outputs": [
        {
          "output_type": "stream",
          "name": "stdout",
          "text": [
            "Classification Report (Logistic Regression):\n",
            "              precision    recall  f1-score   support\n",
            "\n",
            "    negative      0.500     0.333     0.400         3\n",
            "     neutral      0.000     0.000     0.000         1\n",
            "    positive      0.500     1.000     0.667         2\n",
            "\n",
            "    accuracy                          0.500         6\n",
            "   macro avg      0.333     0.444     0.356         6\n",
            "weighted avg      0.417     0.500     0.422         6\n",
            "\n"
          ]
        },
        {
          "output_type": "display_data",
          "data": {
            "text/plain": [
              "<Figure size 600x500 with 2 Axes>"
            ],
            "image/png": "[encoded data removed]"
          },
          "metadata": {}
        }
      ]
    },
    {
      "cell_type": "code",
      "source": [
        "print(\"\\nSummary Comparison:\")\n",
        "print(\"- VADER: Rule-based, no training data needed, can miss context-specific sentiment.\")\n",
        "print(\"- Logistic Regression: Requires labeled data, can adapt to domain context, often more accurate with enough data.\")"
      ],
      "metadata": {
        "colab": {
          "base_uri": "https://localhost:8080/"
        },
        "id": "jhZnk-_KiLSe",
        "outputId": "f2500323-2e96-4708-fb87-de0f3e982a5b"
      },
      "execution_count": null,
      "outputs": [
        {
          "output_type": "stream",
          "name": "stdout",
          "text": [
            "\n",
            "Summary Comparison:\n",
            "- VADER: Rule-based, no training data needed, can miss context-specific sentiment.\n",
            "- Logistic Regression: Requires labeled data, can adapt to domain context, often more accurate with enough data.\n"
          ]
        }
      ]
    }
  ]
}