{
  "nbformat": 4,
  "nbformat_minor": 0,
  "metadata": {
    "colab": {
      "provenance": [],
      "authorship_tag": "ABX9TyMeI5vFK671c5zNhxCo94r+",
      "include_colab_link": true
    },
    "kernelspec": {
      "name": "python3",
      "display_name": "Python 3"
    },
    "language_info": {
      "name": "python"
    }
  },
  "cells": [
    {
      "cell_type": "markdown",
      "metadata": {
        "id": "view-in-github",
        "colab_type": "text"
      },
      "source": [
        "<a href=\"https://colab.research.google.com/github/appliedcode/mthree-c422/blob/mthree-c422-Prashanth/vectorizationexercise.ipynb\" target=\"_parent\"><img src=\"https://colab.research.google.com/assets/colab-badge.svg\" alt=\"Open In Colab\"/></a>"
      ]
    },
    {
      "cell_type": "code",
      "execution_count": 1,
      "metadata": {
        "id": "HL7xjX4h03uM"
      },
      "outputs": [],
      "source": [
        "headlines = [\n",
        "    \"AI outperforms doctors in diagnosing rare diseases\",\n",
        "    \"Stock markets hit new record highs amid global optimism\",\n",
        "    \"New vaccine shows promise in early trials\",\n",
        "    \"Climate change impacts agriculture across multiple continents\",\n",
        "    \"Scientists develop biodegradable plastic from seaweed\",\n",
        "    \"Sports teams adapt strategies with big data analytics\",\n",
        "    \"Electric vehicles set new sales record worldwide\",\n",
        "    \"Breakthrough in quantum computing boosts encryption security\"\n",
        "]"
      ]
    },
    {
      "cell_type": "code",
      "source": [
        "import re\n",
        "import numpy as np\n",
        "import pandas as pd\n",
        "import matplotlib.pyplot as plt\n",
        "import seaborn as sns\n",
        "from sklearn.feature_extraction.text import CountVectorizer\n",
        "from sklearn.metrics.pairwise import cosine_similarity\n"
      ],
      "metadata": {
        "id": "bHyY_hT11YpC"
      },
      "execution_count": 3,
      "outputs": []
    },
    {
      "cell_type": "code",
      "source": [
        "# Step 2: Preprocessing Function\n",
        "def preprocess(texts):\n",
        "    cleaned_texts = []\n",
        "    for text in texts:\n",
        "        text = text.lower()  # lowercase\n",
        "        text = re.sub(r'[^\\w\\s]', '', text)  # remove punctuation\n",
        "        text = re.sub(r'\\s+', ' ', text).strip()  # normalize whitespace\n",
        "        cleaned_texts.append(text)\n",
        "    return cleaned_texts\n",
        "\n",
        "cleaned_headlines = preprocess(headlines)"
      ],
      "metadata": {
        "id": "-SdcBFye05vX"
      },
      "execution_count": 4,
      "outputs": []
    },
    {
      "cell_type": "code",
      "source": [
        "vectorizer = CountVectorizer(stop_words='english', max_features=50)\n",
        "X = vectorizer.fit_transform(cleaned_headlines)\n",
        "vocab = vectorizer.get_feature_names_out()"
      ],
      "metadata": {
        "id": "rNeFWPBI1V4q"
      },
      "execution_count": 5,
      "outputs": []
    },
    {
      "cell_type": "code",
      "source": [
        "shape = X.shape\n",
        "sparsity = 1.0 - X.nnz / (X.shape[0] * X.shape[1])\n",
        "print(f\"Matrix Shape: {shape}\")\n",
        "print(f\"Sparsity: {sparsity:.4f}\")\n",
        "print(f\"Vocabulary (Top 50):\\n{vocab}\")"
      ],
      "metadata": {
        "colab": {
          "base_uri": "https://localhost:8080/"
        },
        "id": "dZc_Hi8A1dcE",
        "outputId": "ea7eebe7-d5c1-4901-88f1-27bc92033177"
      },
      "execution_count": 6,
      "outputs": [
        {
          "output_type": "stream",
          "name": "stdout",
          "text": [
            "Matrix Shape: (8, 49)\n",
            "Sparsity: 0.8673\n",
            "Vocabulary (Top 50):\n",
            "['adapt' 'agriculture' 'ai' 'amid' 'analytics' 'big' 'biodegradable'\n",
            " 'boosts' 'breakthrough' 'change' 'climate' 'computing' 'continents'\n",
            " 'data' 'develop' 'diagnosing' 'diseases' 'doctors' 'early' 'electric'\n",
            " 'encryption' 'global' 'highs' 'hit' 'impacts' 'markets' 'multiple' 'new'\n",
            " 'optimism' 'outperforms' 'plastic' 'promise' 'quantum' 'rare' 'record'\n",
            " 'sales' 'scientists' 'seaweed' 'security' 'set' 'shows' 'sports' 'stock'\n",
            " 'strategies' 'teams' 'trials' 'vaccine' 'vehicles' 'worldwide']\n"
          ]
        }
      ]
    },
    {
      "cell_type": "code",
      "source": [
        "word_freq = np.asarray(X.sum(axis=0)).flatten()\n",
        "freq_df = pd.DataFrame({'word': vocab, 'frequency': word_freq})\n",
        "freq_df = freq_df.sort_values(by='frequency', ascending=False)"
      ],
      "metadata": {
        "id": "-rdewDYS1evt"
      },
      "execution_count": 7,
      "outputs": []
    },
    {
      "cell_type": "code",
      "source": [
        "plt.figure(figsize=(10, 6))\n",
        "sns.barplot(x='frequency', y='word', data=freq_df.head(10))\n",
        "plt.title(\"Top 10 Most Frequent Words\")\n",
        "plt.xlabel(\"Frequency\")\n",
        "plt.ylabel(\"Word\")\n",
        "plt.tight_layout()\n",
        "plt.show()"
      ],
      "metadata": {
        "colab": {
          "base_uri": "https://localhost:8080/",
          "height": 607
        },
        "id": "NGp_kWrP1gkV",
        "outputId": "73c6f19f-69cf-4906-e751-18a2e90d8fe6"
      },
      "execution_count": 8,
      "outputs": [
        {
          "output_type": "display_data",
          "data": {
            "text/plain": [
              "<Figure size 1000x600 with 1 Axes>"
            ],
            "image/png": "[encoded data removed]"
          },
          "metadata": {}
        }
      ]
    },
    {
      "cell_type": "code",
      "source": [
        "cos_sim = cosine_similarity(X)\n",
        "cos_sim_df = pd.DataFrame(cos_sim, index=headlines, columns=headlines)"
      ],
      "metadata": {
        "id": "BaAQsr0O1iDe"
      },
      "execution_count": 10,
      "outputs": []
    },
    {
      "cell_type": "code",
      "source": [
        "\n",
        "print(\"\\nCosine Similarity Matrix:\")\n",
        "print(cos_sim_df.round(2))"
      ],
      "metadata": {
        "colab": {
          "base_uri": "https://localhost:8080/"
        },
        "id": "mPm3eSW41kPy",
        "outputId": "b304588b-a2d7-4761-b805-1c917d3da6d7"
      },
      "execution_count": 11,
      "outputs": [
        {
          "output_type": "stream",
          "name": "stdout",
          "text": [
            "\n",
            "Cosine Similarity Matrix:\n",
            "                                                    AI outperforms doctors in diagnosing rare diseases  \\\n",
            "AI outperforms doctors in diagnosing rare diseases                                                1.0    \n",
            "Stock markets hit new record highs amid global ...                                                0.0    \n",
            "New vaccine shows promise in early trials                                                         0.0    \n",
            "Climate change impacts agriculture across multi...                                                0.0    \n",
            "Scientists develop biodegradable plastic from s...                                                0.0    \n",
            "Sports teams adapt strategies with big data ana...                                                0.0    \n",
            "Electric vehicles set new sales record worldwide                                                  0.0    \n",
            "Breakthrough in quantum computing boosts encryp...                                                0.0    \n",
            "\n",
            "                                                    Stock markets hit new record highs amid global optimism  \\\n",
            "AI outperforms doctors in diagnosing rare diseases                                               0.00         \n",
            "Stock markets hit new record highs amid global ...                                               1.00         \n",
            "New vaccine shows promise in early trials                                                        0.14         \n",
            "Climate change impacts agriculture across multi...                                               0.00         \n",
            "Scientists develop biodegradable plastic from s...                                               0.00         \n",
            "Sports teams adapt strategies with big data ana...                                               0.00         \n",
            "Electric vehicles set new sales record worldwide                                                 0.25         \n",
            "Breakthrough in quantum computing boosts encryp...                                               0.00         \n",
            "\n",
            "                                                    New vaccine shows promise in early trials  \\\n",
            "AI outperforms doctors in diagnosing rare diseases                                       0.00   \n",
            "Stock markets hit new record highs amid global ...                                       0.14   \n",
            "New vaccine shows promise in early trials                                                1.00   \n",
            "Climate change impacts agriculture across multi...                                       0.00   \n",
            "Scientists develop biodegradable plastic from s...                                       0.00   \n",
            "Sports teams adapt strategies with big data ana...                                       0.00   \n",
            "Electric vehicles set new sales record worldwide                                         0.15   \n",
            "Breakthrough in quantum computing boosts encryp...                                       0.00   \n",
            "\n",
            "                                                    Climate change impacts agriculture across multiple continents  \\\n",
            "AI outperforms doctors in diagnosing rare diseases                                                0.0               \n",
            "Stock markets hit new record highs amid global ...                                                0.0               \n",
            "New vaccine shows promise in early trials                                                         0.0               \n",
            "Climate change impacts agriculture across multi...                                                1.0               \n",
            "Scientists develop biodegradable plastic from s...                                                0.0               \n",
            "Sports teams adapt strategies with big data ana...                                                0.0               \n",
            "Electric vehicles set new sales record worldwide                                                  0.0               \n",
            "Breakthrough in quantum computing boosts encryp...                                                0.0               \n",
            "\n",
            "                                                    Scientists develop biodegradable plastic from seaweed  \\\n",
            "AI outperforms doctors in diagnosing rare diseases                                                0.0       \n",
            "Stock markets hit new record highs amid global ...                                                0.0       \n",
            "New vaccine shows promise in early trials                                                         0.0       \n",
            "Climate change impacts agriculture across multi...                                                0.0       \n",
            "Scientists develop biodegradable plastic from s...                                                1.0       \n",
            "Sports teams adapt strategies with big data ana...                                                0.0       \n",
            "Electric vehicles set new sales record worldwide                                                  0.0       \n",
            "Breakthrough in quantum computing boosts encryp...                                                0.0       \n",
            "\n",
            "                                                    Sports teams adapt strategies with big data analytics  \\\n",
            "AI outperforms doctors in diagnosing rare diseases                                                0.0       \n",
            "Stock markets hit new record highs amid global ...                                                0.0       \n",
            "New vaccine shows promise in early trials                                                         0.0       \n",
            "Climate change impacts agriculture across multi...                                                0.0       \n",
            "Scientists develop biodegradable plastic from s...                                                0.0       \n",
            "Sports teams adapt strategies with big data ana...                                                1.0       \n",
            "Electric vehicles set new sales record worldwide                                                  0.0       \n",
            "Breakthrough in quantum computing boosts encryp...                                                0.0       \n",
            "\n",
            "                                                    Electric vehicles set new sales record worldwide  \\\n",
            "AI outperforms doctors in diagnosing rare diseases                                              0.00   \n",
            "Stock markets hit new record highs amid global ...                                              0.25   \n",
            "New vaccine shows promise in early trials                                                       0.15   \n",
            "Climate change impacts agriculture across multi...                                              0.00   \n",
            "Scientists develop biodegradable plastic from s...                                              0.00   \n",
            "Sports teams adapt strategies with big data ana...                                              0.00   \n",
            "Electric vehicles set new sales record worldwide                                                1.00   \n",
            "Breakthrough in quantum computing boosts encryp...                                              0.00   \n",
            "\n",
            "                                                    Breakthrough in quantum computing boosts encryption security  \n",
            "AI outperforms doctors in diagnosing rare diseases                                                0.0             \n",
            "Stock markets hit new record highs amid global ...                                                0.0             \n",
            "New vaccine shows promise in early trials                                                         0.0             \n",
            "Climate change impacts agriculture across multi...                                                0.0             \n",
            "Scientists develop biodegradable plastic from s...                                                0.0             \n",
            "Sports teams adapt strategies with big data ana...                                                0.0             \n",
            "Electric vehicles set new sales record worldwide                                                  0.0             \n",
            "Breakthrough in quantum computing boosts encryp...                                                1.0             \n"
          ]
        }
      ]
    },
    {
      "cell_type": "code",
      "source": [
        "np.fill_diagonal(cos_sim, 0)\n",
        "most_similar_idx = np.unravel_index(np.argmax(cos_sim), cos_sim.shape)\n",
        "print(\"\\nMost Similar Headlines:\")\n",
        "print(f\"1. {headlines[most_similar_idx[0]]}\")\n",
        "print(f\"2. {headlines[most_similar_idx[1]]}\")"
      ],
      "metadata": {
        "colab": {
          "base_uri": "https://localhost:8080/"
        },
        "id": "2KbiewWo1nMz",
        "outputId": "120a7840-c2b2-4417-938c-a42b9a938cc4"
      },
      "execution_count": 12,
      "outputs": [
        {
          "output_type": "stream",
          "name": "stdout",
          "text": [
            "\n",
            "Most Similar Headlines:\n",
            "1. Stock markets hit new record highs amid global optimism\n",
            "2. Electric vehicles set new sales record worldwide\n"
          ]
        }
      ]
    },
    {
      "cell_type": "code",
      "source": [],
      "metadata": {
        "id": "60BI_Zhq1pqk"
      },
      "execution_count": null,
      "outputs": []
    }
  ]
}