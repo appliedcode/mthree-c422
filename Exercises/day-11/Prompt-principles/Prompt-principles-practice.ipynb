{
  "nbformat": 4,
  "nbformat_minor": 0,
  "metadata": {
    "colab": {
      "provenance": [],
      "authorship_tag": "ABX9TyMACdclvWHDwA4E6XFVjMPj",
      "include_colab_link": true
    },
    "kernelspec": {
      "name": "python3",
      "display_name": "Python 3"
    },
    "language_info": {
      "name": "python"
    }
  },
  "cells": [
    {
      "cell_type": "markdown",
      "metadata": {
        "id": "view-in-github",
        "colab_type": "text"
      },
      "source": [
        "<a href=\"https://colab.research.google.com/github/appliedcode/mthree-c422/blob/mthree-422-salleh/Exercises/day-11/Prompt-principles/Prompt-principles-practice.ipynb\" target=\"_parent\"><img src=\"https://colab.research.google.com/assets/colab-badge.svg\" alt=\"Open In Colab\"/></a>"
      ]
    },
    {
      "cell_type": "markdown",
      "source": [
        "## 📝 Problem Statement: Prompt Engineering Practice Lab with Diverse Datasets\n",
        "\n",
        "**Objective:**\n",
        "Apply and experiment with the **5 principles of prompt engineering** —\n",
        "\n",
        "1. Give Clear Direction\n",
        "2. Specify Format\n",
        "3. Provide Examples\n",
        "4. Evaluate Quality\n",
        "5. Divide Labor\n",
        "\n",
        "**Task:**\n",
        "Using the OpenAI API in Google Colab with the `gpt-4o-mini` model:\n",
        "\n",
        "***\n",
        "\n",
        "### 1. Give Clear Direction\n",
        "\n",
        "**Dataset:** Article excerpt on renewable energy\n",
        "**Data snippet:**\n",
        "\"Renewable energy sources such as solar, wind, and hydropower are increasingly cost-effective alternatives to fossil fuels. They reduce greenhouse gas emissions and offer sustainable energy solutions worldwide.\"\n",
        "\n",
        "- Start with a vague prompt (e.g., \"Write about energy.\")\n",
        "- Rewrite it with clear direction including audience (e.g., teenagers), tone (informative), and length (100 words).\n",
        "- Compare and analyze the outputs.\n",
        "\n",
        "***\n",
        "\n",
        "### 2. Specify Format\n",
        "\n",
        "**Dataset:** Product descriptions of three smartphones\n",
        "**Data snippet:**\n",
        "\n",
        "- Phone A: OLED display, 12MP camera, 4000mAh battery.\n",
        "- Phone B: AMOLED display, 108MP camera, 4500mAh battery.\n",
        "- Phone C: LCD display, 48MP camera, 3500mAh battery.\n",
        "- Ask a comparison question without specifying format.\n",
        "- Repeat with instructions to produce a markdown table listing features and specs.\n",
        "- Compare the clarity and usefulness of the outputs.\n",
        "\n",
        "***\n",
        "\n",
        "### 3. Provide Examples (Few-Shot)\n",
        "\n",
        "**Dataset:** Customer reviews for a coffee shop\n",
        "**Reviews:**\n",
        "\n",
        "- \"Loved the espresso, very rich flavor.\"\n",
        "- \"Service was slow but the ambiance was nice.\"\n",
        "- \"The croissant was stale and dry.\"\n",
        "- Provide 2-3 labeled examples classifying reviews as Positive, Neutral, or Negative.\n",
        "- Add a new review for the model to classify.\n",
        "\n",
        "***\n",
        "\n",
        "### 4. Evaluate Quality\n",
        "\n",
        "**Dataset:** Short news article on urban gardening\n",
        "**Text:**\n",
        "\"Community gardens are flourishing in cities worldwide, providing fresh produce and green spaces for residents. They improve air quality, foster social connections, and promote sustainability.\"\n",
        "\n",
        "- Summarize this text initially with a generic prompt.\n",
        "- Evaluate the output for completeness and key points.\n",
        "- Refine the prompt to ask for a 3-bullet summary mentioning benefits, social impact, and environmental effects.\n",
        "- Compare before and after outputs.\n",
        "\n",
        "***\n",
        "\n",
        "### 5. Divide Labor (Break Complex Tasks)\n",
        "\n",
        "**Dataset:** Business project - launching an online bookstore\n",
        "\n",
        "- Step 1 prompt: Define and describe the target customer base.\n",
        "- Step 2 prompt: Develop a marketing strategy tailored for the audience.\n",
        "- Step 3 prompt: Draft a content calendar for social media launch posts.\n",
        "- Run each prompt sequentially in Colab.\n",
        "- Combine the outputs into a cohesive overall launch plan.\n",
        "\n",
        "***\n",
        "\n",
        "## Deliverables\n",
        "\n",
        "For each principle:\n",
        "\n",
        "- Your original prompt(s)\n",
        "- Model output(s)\n",
        "- Observations on prompt design impact\n",
        "\n",
        "***\n",
        "\n",
        "**Goal:**\n",
        "Experience how tailoring prompts with clear direction, format, examples, evaluation, and task decomposition improves AI-generated content quality and usability.\n",
        "\n",
        "***\n",
        "\n",
        "If you would like, I can prepare this as a **ready-to-use Colab notebook template** with code cells pre-set for the datasets and exercises, so students can focus just on crafting prompts and observing results. Let me know if you want me to do that!"
      ],
      "metadata": {
        "id": "GYDCjsDYSP4N"
      }
    },
    {
      "cell_type": "code",
      "execution_count": 3,
      "metadata": {
        "id": "odztFojHSK3M",
        "outputId": "f2b16558-a3b1-4681-eb67-c969d54a56b8",
        "colab": {
          "base_uri": "https://localhost:8080/"
        }
      },
      "outputs": [
        {
          "output_type": "stream",
          "name": "stdout",
          "text": [
            "✅ OpenAI API key loaded safely\n"
          ]
        }
      ],
      "source": [
        "# Setup\n",
        "# Install OpenAI SDK\n",
        "!pip install openai -q\n",
        "from google.colab import userdata\n",
        "import os\n",
        "\n",
        "openai_api_key = userdata.get(\"mhthree_secret\")\n",
        "if openai_api_key:\n",
        "    os.environ[\"OPENAI_API_KEY\"] = openai_api_key\n",
        "    print(\"✅ OpenAI API key loaded safely\")\n",
        "else:\n",
        "    print(\"❌ OpenAI API key not found. Please set it using Colab Secrets.\")\n"
      ]
    },
    {
      "cell_type": "code",
      "source": [
        "from openai import OpenAI\n",
        "client = OpenAI(api_key=os.environ[\"OPENAI_API_KEY\"])  # Replace with your API key\n",
        "\n",
        "def ask_gpt(prompt, temp=0.7, max_tokens=500):\n",
        "    \"\"\"Send a prompt to GPT-4o-mini and return the output\"\"\"\n",
        "    response = client.chat.completions.create(\n",
        "        model=\"gpt-4o-mini\",\n",
        "        messages=[{\"role\": \"user\", \"content\": prompt}],\n",
        "        temperature=temp,\n",
        "        max_tokens=max_tokens\n",
        "    )\n",
        "    return response.choices[0].message.content"
      ],
      "metadata": {
        "id": "kTBumDFPUAQz"
      },
      "execution_count": 4,
      "outputs": []
    },
    {
      "cell_type": "markdown",
      "source": [
        "#Principle 1 — Give Clear Direction\n",
        "\n",
        "Goal: Be specific about what, for whom, and how the task should be done.\n"
      ],
      "metadata": {
        "id": "w5G1NEpOUKaK"
      }
    },
    {
      "cell_type": "code",
      "source": [
        "vague_prompt = \"Write about energy.\"\n",
        "print(\"Vague Output:\\n\", ask_gpt(vague_prompt))\n",
        "\n",
        "clear_prompt = \"Write, in about 100 words, about energy so that it is easily understood by teenagers in a friendly and informative tone.\"\n",
        "print(\"Clear Output:\\n\", ask_gpt(clear_prompt))"
      ],
      "metadata": {
        "id": "pVvRvr9TZKXG",
        "outputId": "95f43f92-0ecd-4519-8bee-615094e01e56",
        "colab": {
          "base_uri": "https://localhost:8080/"
        }
      },
      "execution_count": 5,
      "outputs": [
        {
          "output_type": "stream",
          "name": "stdout",
          "text": [
            "Vague Output:\n",
            " Energy is a fundamental concept in physics, essential to understanding the workings of the universe. It can be defined as the capacity to do work or produce change, manifesting in various forms such as kinetic, potential, thermal, chemical, electrical, and nuclear energy. \n",
            "\n",
            "### Forms of Energy\n",
            "\n",
            "1. **Kinetic Energy**: This is the energy of motion. Any object in motion, whether it's a rolling ball or a moving car, possesses kinetic energy. The amount of kinetic energy an object has depends on its mass and velocity, as described by the equation \\( KE = \\frac{1}{2}mv^2 \\).\n",
            "\n",
            "2. **Potential Energy**: This energy is stored in an object due to its position or state. For example, a rock perched at the top of a hill has gravitational potential energy, which can be converted to kinetic energy if it falls. Other forms include elastic potential energy (stored in stretched or compressed materials) and chemical potential energy (stored in the bonds of molecules).\n",
            "\n",
            "3. **Thermal Energy**: This is the energy associated with the temperature of an object. It arises from the kinetic energy of the particles that make up matter. The more active these particles are (i.e., the higher the temperature), the more thermal energy is present.\n",
            "\n",
            "4. **Chemical Energy**: Found in the bonds of chemical compounds, this energy is released or absorbed during a chemical reaction. For instance, the energy stored in food is released when the body metabolizes it.\n",
            "\n",
            "5. **Electrical Energy**: This form of energy results from the movement of electrons and is the basis for electricity. It powers our homes, industries, and electronic devices.\n",
            "\n",
            "6. **Nuclear Energy**: This energy is released during nuclear reactions, such as fission (splitting atomic nuclei) or fusion (combining atomic nuclei). It has significant implications for power generation and has been harnessed in nuclear reactors.\n",
            "\n",
            "### The Conservation of Energy\n",
            "\n",
            "One of the core principles governing energy is the law of conservation of energy, which states that energy cannot be created or destroyed, only transformed from one form to another. This principle underlies much of physics and is crucial for understanding processes in both natural and engineered systems.\n",
            "\n",
            "### Energy Sources\n",
            "\n",
            "Energy sources can be classified into renewable and non-renewable categories. \n",
            "\n",
            "- **Non-renewable energy sources** include fossil fuels (coal, oil, natural gas) and nuclear energy. While they have powered industrial growth and technological advancement, their extraction\n",
            "Clear Output:\n",
            " Hey there! Let’s talk about energy – it’s all around us and powers everything we do! Energy is the ability to do work, and it comes in different forms, like heat, light, and motion. Think of it like fuel for your favorite gadgets, from your smartphone to video games. There are renewable sources like solar and wind energy, which are great for the planet, and non-renewable sources like fossil fuels, which can harm the environment. Understanding energy helps us make smarter choices and protect our Earth for the future. So, let’s save energy and go green together! 🌍✨\n"
          ]
        }
      ]
    }
  ]
}