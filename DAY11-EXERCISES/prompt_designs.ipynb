{
  "nbformat": 4,
  "nbformat_minor": 0,
  "metadata": {
    "colab": {
      "provenance": []
    },
    "kernelspec": {
      "name": "python3",
      "display_name": "Python 3"
    },
    "language_info": {
      "name": "python"
    }
  },
  "cells": [
    {
      "cell_type": "code",
      "execution_count": 1,
      "metadata": {
        "colab": {
          "base_uri": "https://localhost:8080/"
        },
        "id": "5idEWdDyj-m_",
        "outputId": "c1dbdfc5-69cd-4a7d-f576-97f2d92965c1"
      },
      "outputs": [
        {
          "output_type": "stream",
          "name": "stdout",
          "text": [
            "✅ OpenAI API key loaded safely\n"
          ]
        }
      ],
      "source": [
        "\n",
        "# Setup\n",
        "# Install OpenAI SDK\n",
        "!pip install openai -q\n",
        "from google.colab import userdata\n",
        "import os\n",
        "\n",
        "openai_api_key = userdata.get(\"OPENAI_API_KEY\")\n",
        "if openai_api_key:\n",
        "    os.environ[\"OPENAI_API_KEY\"] = openai_api_key\n",
        "    print(\"✅ OpenAI API key loaded safely\")\n",
        "else:\n",
        "    print(\"❌ OpenAI API key not found. Please set it using Colab Secrets.\")"
      ]
    },
    {
      "cell_type": "code",
      "source": [
        "from openai import OpenAI\n",
        "client = OpenAI(api_key=os.environ[\"OPENAI_API_KEY\"])  # Replace with your API key\n",
        "\n",
        "def ask_gpt(prompt, temperature=0.7, max_tokens=500):\n",
        "    \"\"\"Send a prompt to GPT-4o-mini and return the output\"\"\"\n",
        "    response = client.chat.completions.create(\n",
        "        model=\"gpt-4o-mini\",\n",
        "        messages=[{\"role\": \"user\", \"content\": prompt}],\n",
        "        temperature=temperature,\n",
        "        max_tokens=max_tokens\n",
        "    )\n",
        "    return response.choices[0].message.content"
      ],
      "metadata": {
        "id": "KdKK6dL-kmzq"
      },
      "execution_count": 2,
      "outputs": []
    },
    {
      "cell_type": "code",
      "source": [
        "# Interview Pattern Prompting\n",
        "# Goal: Simulate an interview by prompting the model to ask and answer a series of questions on a topic. Helps in extracting detailed and structured info.\n",
        "base_prompt = \"\"\"\n",
        "Simulate an interview between a reporter and an AI expert about the impact of AI on education.\n",
        "Format it as a Q&A conversation with the reporter asking questions and the expert answering.\n",
        "Start with an introductory question.\n",
        "\"\"\"\n",
        "\n",
        "print(ask_gpt(base_prompt, temperature=0.6))"
      ],
      "metadata": {
        "colab": {
          "base_uri": "https://localhost:8080/"
        },
        "id": "_JhlDaRpksci",
        "outputId": "16cf579e-e223-4f8a-b21c-32aa44bfb3a2"
      },
      "execution_count": 3,
      "outputs": [
        {
          "output_type": "stream",
          "name": "stdout",
          "text": [
            "**Reporter:** Thank you for joining us today. To start off, can you explain how AI is currently being integrated into educational systems?\n",
            "\n",
            "**AI Expert:** Absolutely, and thank you for having me. AI is being integrated into education in various ways, from personalized learning experiences to administrative tasks. For instance, adaptive learning platforms use AI algorithms to analyze student performance and tailor educational content to meet individual needs. This allows students to learn at their own pace and helps educators identify areas where students may be struggling.\n",
            "\n",
            "**Reporter:** That sounds promising! What are some of the most significant benefits that AI brings to both students and teachers?\n",
            "\n",
            "**AI Expert:** One of the most significant benefits is the personalization of learning. AI can analyze vast amounts of data to provide insights into each student's learning style and progress, enabling customized lesson plans. For teachers, AI can automate administrative tasks, such as grading and attendance tracking, allowing them to focus more on teaching and engaging with students. Additionally, AI-powered tools can provide instant feedback, which can enhance the learning process.\n",
            "\n",
            "**Reporter:** Are there any challenges or concerns associated with the use of AI in education?\n",
            "\n",
            "**AI Expert:** Yes, there are several challenges. One major concern is data privacy and security. Since AI systems often rely on student data to function effectively, ensuring that this data is protected is crucial. There’s also the risk of bias in AI algorithms, which can inadvertently affect the learning experience. Moreover, there’s the challenge of ensuring that both educators and students have access to the necessary technology and training to effectively use these AI tools.\n",
            "\n",
            "**Reporter:** How do you see the role of teachers evolving in an AI-enhanced educational environment?\n",
            "\n",
            "**AI Expert:** The role of teachers will likely shift from being the primary source of knowledge to more of a facilitator or guide. With AI handling more administrative tasks and providing personalized learning experiences, teachers can focus on fostering critical thinking, creativity, and interpersonal skills. They will also play a vital role in mentoring students and helping them navigate the ethical implications of AI technologies.\n",
            "\n",
            "**Reporter:** What implications does AI have for equity in education?\n",
            "\n",
            "**AI Expert:** AI has the potential to bridge some gaps in educational equity by providing personalized learning resources to underserved populations. However, if not implemented carefully, it could also exacerbate existing inequalities. Access to technology and the internet is crucial; without it, students from low-income backgrounds may fall further behind. It's essential for policymakers and educators to ensure that AI tools are accessible to all students, regardless of\n"
          ]
        }
      ]
    },
    {
      "cell_type": "code",
      "source": [
        "# Tree-of-Thoughts Prompting\n",
        "# Goal: Explore multiple lines of reasoning or ideas branching from a prompt before converging on an answer.\n",
        "prompt = \"\"\"\n",
        "You want to plan a weekend trip. Using a tree-of-thoughts approach, list 3 possible destinations.\n",
        "For each destination, list 2 pros and 2 cons.\n",
        "Then choose the best destination and explain why.\n",
        "\"\"\"\n",
        "\n",
        "print(ask_gpt(prompt, temperature=0.7))"
      ],
      "metadata": {
        "colab": {
          "base_uri": "https://localhost:8080/"
        },
        "id": "W_vgPsTYkx-Q",
        "outputId": "b4bf15cb-ecaf-45c5-ccaf-5e31902d5942"
      },
      "execution_count": 4,
      "outputs": [
        {
          "output_type": "stream",
          "name": "stdout",
          "text": [
            "### Destination 1: National Park\n",
            "\n",
            "**Pros:**\n",
            "1. **Natural Beauty**: National parks offer stunning landscapes, hiking trails, and opportunities to connect with nature.\n",
            "2. **Outdoor Activities**: There are various activities available such as hiking, camping, and wildlife watching.\n",
            "\n",
            "**Cons:**\n",
            "1. **Crowds**: Popular national parks can be crowded, especially on weekends, which might detract from the experience.\n",
            "2. **Limited Amenities**: Accommodations and dining options may be limited, requiring advance planning.\n",
            "\n",
            "---\n",
            "\n",
            "### Destination 2: Beach Resort\n",
            "\n",
            "**Pros:**\n",
            "1. **Relaxation**: Beach resorts provide a relaxing atmosphere with opportunities for sunbathing and swimming.\n",
            "2. **Amenities**: Many resorts offer various facilities such as spas, restaurants, and entertainment options.\n",
            "\n",
            "**Cons:**\n",
            "1. **Cost**: Beach resorts can be expensive, especially during peak seasons, impacting the budget.\n",
            "2. **Weather Dependent**: Weather conditions can affect the enjoyment of beach activities, potentially leading to disappointment.\n",
            "\n",
            "---\n",
            "\n",
            "### Destination 3: City Getaway\n",
            "\n",
            "**Pros:**\n",
            "1. **Cultural Experiences**: Cities often have rich cultural offerings such as museums, theaters, and local cuisine.\n",
            "2. **Variety of Activities**: There are numerous activities to choose from, including shopping, dining, and nightlife.\n",
            "\n",
            "**Cons:**\n",
            "1. **Traffic and Crowds**: City areas can be busy and congested, making transportation a hassle.\n",
            "2. **Less Relaxation**: The fast-paced environment may not be conducive to relaxation compared to more natural settings.\n",
            "\n",
            "---\n",
            "\n",
            "### Best Destination: National Park\n",
            "\n",
            "**Reasoning:**\n",
            "The national park stands out as the best destination for the weekend trip due to its natural beauty and outdoor activities. The opportunity to disconnect from daily routines and immerse oneself in nature can provide a refreshing and rejuvenating experience. Although there may be crowds, the vastness of the park allows for exploration of less popular trails and areas. The limited amenities can also encourage a more adventurous and self-sufficient approach, enhancing the overall experience.\n"
          ]
        }
      ]
    },
    {
      "cell_type": "code",
      "source": [
        "# Step-by-Step Reasoning & Decomposition\n",
        "# Goal: Decompose complex problems into steps and guide the AI to reason about each part sequentially.\n",
        "prompt = \"\"\"\n",
        "Q: A bookstore sold 30 books on Monday and 20% more on Tuesday.\n",
        "Calculate how many books were sold on Tuesday and in total.\n",
        "Let's decompose and reason step-by-step.\n",
        "\"\"\"\n",
        "\n",
        "print(ask_gpt(prompt, temperature=0))"
      ],
      "metadata": {
        "colab": {
          "base_uri": "https://localhost:8080/"
        },
        "id": "nX4khdc4lBM5",
        "outputId": "10f74993-df7d-4e31-e838-d358218d509b"
      },
      "execution_count": 5,
      "outputs": [
        {
          "output_type": "stream",
          "name": "stdout",
          "text": [
            "To find out how many books were sold on Tuesday and the total number of books sold over both days, we can follow these steps:\n",
            "\n",
            "1. **Calculate the number of books sold on Tuesday:**\n",
            "   - The bookstore sold 30 books on Monday.\n",
            "   - On Tuesday, they sold 20% more than what they sold on Monday.\n",
            "   - To find 20% of the books sold on Monday, we calculate:\n",
            "     \\[\n",
            "     20\\% \\text{ of } 30 = 0.20 \\times 30 = 6\n",
            "     \\]\n",
            "   - Now, we add this amount to the number of books sold on Monday to find the total for Tuesday:\n",
            "     \\[\n",
            "     \\text{Books sold on Tuesday} = 30 + 6 = 36\n",
            "     \\]\n",
            "\n",
            "2. **Calculate the total number of books sold over both days:**\n",
            "   - We add the number of books sold on Monday and Tuesday:\n",
            "     \\[\n",
            "     \\text{Total books sold} = \\text{Books sold on Monday} + \\text{Books sold on Tuesday} = 30 + 36 = 66\n",
            "     \\]\n",
            "\n",
            "So, the bookstore sold **36 books on Tuesday** and a **total of 66 books** over both days.\n"
          ]
        }
      ]
    },
    {
      "cell_type": "code",
      "source": [
        "# Combining Prompts & Managing Context\n",
        "# Goal: Use multiple prompts or instructions combined to explore different aspects of a problem in one session.\n",
        "prompt = \"\"\"\n",
        "You are a financial advisor.\n",
        "\n",
        "Part 1: Summarize the benefits of investing in renewable energy funds.\n",
        "Part 2: List 3 risks associated with these investments.\n",
        "Part 3: Provide advice on how to mitigate these risks.\n",
        "\n",
        "Answer each part clearly.\n",
        "\"\"\"\n",
        "\n",
        "print(ask_gpt(prompt, temperature=0.7))"
      ],
      "metadata": {
        "colab": {
          "base_uri": "https://localhost:8080/"
        },
        "id": "kxZAUXzClHUc",
        "outputId": "72e8c953-2274-430d-e3e3-1ec9e3bf0219"
      },
      "execution_count": 6,
      "outputs": [
        {
          "output_type": "stream",
          "name": "stdout",
          "text": [
            "### Part 1: Benefits of Investing in Renewable Energy Funds\n",
            "\n",
            "1. **Sustainability and Environmental Impact**: Investing in renewable energy funds supports the transition to cleaner energy sources, reducing carbon emissions and combating climate change. This not only benefits the environment but also aligns with the growing global emphasis on sustainability.\n",
            "\n",
            "2. **Growth Potential**: The renewable energy sector is experiencing rapid growth, driven by technological advancements, government policies promoting clean energy, and increasing consumer demand. As the world shifts toward sustainable practices, investments in this sector have the potential for significant capital appreciation.\n",
            "\n",
            "3. **Diversification**: Renewable energy funds provide investors with access to a diversified portfolio of assets within the clean energy sector, including solar, wind, hydroelectric, and biomass projects. This diversification can help reduce risk compared to investing in individual companies.\n",
            "\n",
            "4. **Government Support and Incentives**: Many governments worldwide are implementing policies, subsidies, and tax incentives to promote renewable energy. This support can enhance the profitability of renewable energy projects, making them more attractive investments.\n",
            "\n",
            "5. **Long-Term Stability**: As the global economy increasingly relies on renewable energy sources, investments in this sector may offer more stability over the long term compared to fossil fuel investments, which are subject to volatility due to geopolitical tensions and regulatory changes.\n",
            "\n",
            "### Part 2: Risks Associated with Renewable Energy Investments\n",
            "\n",
            "1. **Regulatory and Political Risk**: Changes in government policies, regulations, or subsidies can significantly impact the profitability of renewable energy projects. For instance, the removal of tax incentives or unfavorable regulations can negatively affect returns.\n",
            "\n",
            "2. **Market Volatility**: The renewable energy market can be volatile, influenced by fluctuations in energy prices, competition from traditional energy sources, and technological advancements. This volatility can lead to unpredictable investment performance.\n",
            "\n",
            "3. **Technological Risk**: The renewable energy sector is characterized by rapid technological innovation. Investments in outdated technologies or companies that fail to adapt to new advancements may result in significant losses.\n",
            "\n",
            "### Part 3: Advice on How to Mitigate These Risks\n",
            "\n",
            "1. **Diversification**: Spread investments across various renewable energy sources (solar, wind, hydro) and geographic regions to mitigate the impact of any single market or regulatory change. Consider investing in funds that offer exposure to a range of companies within the renewable sector.\n",
            "\n",
            "2. **Research and Due Diligence**: Conduct thorough research on the companies and projects within the renewable energy fund. Stay informed about regulatory changes and technological advancements that could affect your\n"
          ]
        }
      ]
    },
    {
      "cell_type": "code",
      "source": [
        "# Prompt Chaining & Multi-Turn Conversations\n",
        "# Goal: Maintain context over multiple conversational turns, where each turn builds on previous responses.\n",
        "# Simulate multi-turn conversation by running prompts sequentially:\n",
        "\n",
        "# Turn 1: Ask for basic explanation\n",
        "turn1 = \"Explain blockchain technology in simple terms.\"\n",
        "\n",
        "response1 = ask_gpt(turn1)\n",
        "print(\"Turn 1 Response:\\n\", response1)\n",
        "\n",
        "# Turn 2: Ask for comparison based on previous answer\n",
        "turn2 = f\"\"\"Based on your previous explanation: \"{response1}\",\n",
        "explain how blockchain differs from traditional databases.\"\"\"\n",
        "\n",
        "response2 = ask_gpt(turn2)\n",
        "print(\"\\nTurn 2 Response:\\n\", response2)\n",
        "\n",
        "# Turn 3: Ask for real-world applications using previous info\n",
        "turn3 = f\"\"\"Given previous responses:\n",
        "1. {response1}\n",
        "2. {response2}\n",
        "List 3 industries that can benefit from blockchain and why.\n",
        "\"\"\"\n",
        "\n",
        "response3 = ask_gpt(turn3)\n",
        "print(\"\\nTurn 3 Response:\\n\", response3)"
      ],
      "metadata": {
        "colab": {
          "base_uri": "https://localhost:8080/"
        },
        "id": "Am_v0KMvlO1I",
        "outputId": "616e25df-7564-449f-f831-eedc1720d4b1"
      },
      "execution_count": 7,
      "outputs": [
        {
          "output_type": "stream",
          "name": "stdout",
          "text": [
            "Turn 1 Response:\n",
            " Sure! Blockchain technology is like a digital ledger or record-keeping system that is used to track and store information securely and transparently. Here’s a simple breakdown of how it works:\n",
            "\n",
            "1. **Blocks**: Imagine each block as a page in a ledger book. Each block contains a list of transactions or pieces of data.\n",
            "\n",
            "2. **Chain**: These blocks are linked together in a chronological order, forming a chain. This is why it’s called a \"blockchain.\"\n",
            "\n",
            "3. **Decentralization**: Instead of being stored in one central place (like a bank), the blockchain is distributed across many computers (nodes) around the world. This makes it very hard to tamper with or hack.\n",
            "\n",
            "4. **Transparency**: Everyone who has access to the blockchain can see the information stored in it, which helps ensure trust among users.\n",
            "\n",
            "5. **Security**: Each block is connected to the previous one using cryptographic techniques, which means that if someone tries to change the information in one block, it will break the chain and be easily noticed.\n",
            "\n",
            "6. **Consensus**: Before a new block is added to the chain, the majority of participants in the network must agree that the transaction is valid. This process helps ensure that only legitimate transactions are recorded.\n",
            "\n",
            "In summary, blockchain is a secure and transparent way to record information, making it useful for many applications beyond just cryptocurrencies, such as supply chain tracking, voting systems, and digital contracts.\n",
            "\n",
            "Turn 2 Response:\n",
            " Blockchain technology differs from traditional databases in several key ways, each contributing to its unique advantages and functionalities. Here are the main differences:\n",
            "\n",
            "1. **Structure**:\n",
            "   - **Blockchain**: Data is stored in blocks that are linked together in a chronological chain. Once data is added to a block and the block is linked to the chain, it is extremely difficult to alter.\n",
            "   - **Traditional Databases**: Data is typically stored in tables or records that are more flexible and can be modified easily. Changes can be made without a permanent record of previous states.\n",
            "\n",
            "2. **Centralization vs. Decentralization**:\n",
            "   - **Blockchain**: It is decentralized, meaning that no single entity has control over the entire database. Instead, multiple copies of the blockchain exist across a network of nodes, and any changes must be agreed upon by the network participants.\n",
            "   - **Traditional Databases**: These are usually centralized, with a single entity (like a company) controlling the database. This makes it easier to manage but also creates a single point of failure and vulnerability to hacking or data loss.\n",
            "\n",
            "3. **Transparency**:\n",
            "   - **Blockchain**: Transactions are visible to all participants in the network, promoting transparency. Users can verify transactions independently, which builds trust.\n",
            "   - **Traditional Databases**: Access to data is usually restricted, and only authorized users can see or modify the data. This can lead to a lack of transparency.\n",
            "\n",
            "4. **Immutability**:\n",
            "   - **Blockchain**: Once data is added to the blockchain, it is nearly impossible to change without consensus from the network. This immutability helps prevent fraud and unauthorized alterations.\n",
            "   - **Traditional Databases**: Data can be easily altered or deleted by users with the appropriate permissions, which can lead to issues like data tampering or accidental data loss.\n",
            "\n",
            "5. **Consensus Mechanism**:\n",
            "   - **Blockchain**: Before a new block is added, the network participants must reach consensus (agreement) on the validity of the transactions. This can involve various consensus algorithms, like proof of work or proof of stake.\n",
            "   - **Traditional Databases**: Changes can be made by a single administrator or entity without needing the approval of other users, which can speed up transactions but also increases the risk of errors or misconduct.\n",
            "\n",
            "6. **Data Integrity**:\n",
            "   - **Blockchain**: The cryptographic techniques used to link blocks ensure that any attempt to alter data would be easily detectable, maintaining\n",
            "\n",
            "Turn 3 Response:\n",
            " Blockchain technology has the potential to transform various industries by enhancing transparency, security, and efficiency. Here are three industries that can benefit significantly from blockchain:\n",
            "\n",
            "1. **Supply Chain Management**:\n",
            "   - **Why**: Blockchain can improve traceability and transparency in supply chains by providing a secure and immutable record of every transaction and movement of goods. Each participant in the supply chain can access the same information, reducing disputes and enhancing trust. This is particularly useful for tracking the origin of products, ensuring quality, and verifying the authenticity of goods, which is crucial in industries like food and pharmaceuticals.\n",
            "\n",
            "2. **Finance and Banking**:\n",
            "   - **Why**: The financial industry can leverage blockchain for faster and more secure transactions. Blockchain can facilitate peer-to-peer payments, reduce the need for intermediaries (like banks), and lower transaction costs. Additionally, it can enhance security and reduce fraud through immutable records. Smart contracts can also automate complex financial agreements, ensuring that terms are executed without the need for manual oversight.\n",
            "\n",
            "3. **Healthcare**:\n",
            "   - **Why**: In the healthcare sector, blockchain can provide a secure means of sharing patient records among authorized parties while maintaining privacy and consent. It can enable interoperability between different healthcare systems, ensuring that patient data is accurate and readily available when needed. Furthermore, blockchain can enhance the traceability of pharmaceuticals, helping to combat counterfeit drugs and ensure the integrity of the supply chain.\n",
            "\n",
            "These industries can harness blockchain technology to improve efficiency, reduce costs, and enhance security and trust among stakeholders.\n"
          ]
        }
      ]
    }
  ]
}