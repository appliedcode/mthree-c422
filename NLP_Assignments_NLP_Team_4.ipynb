{
  "nbformat": 4,
  "nbformat_minor": 0,
  "metadata": {
    "colab": {
      "provenance": [],
      "authorship_tag": "ABX9TyO6qqg77zqWkZOZ0kAafJUS",
      "include_colab_link": true
    },
    "kernelspec": {
      "name": "python3",
      "display_name": "Python 3"
    },
    "language_info": {
      "name": "python"
    }
  },
  "cells": [
    {
      "cell_type": "markdown",
      "metadata": {
        "id": "view-in-github",
        "colab_type": "text"
      },
      "source": [
        "<a href=\"https://colab.research.google.com/github/appliedcode/mthree-c422/blob/mthree-422-salleh/NLP_Assignments_NLP_Team_4.ipynb\" target=\"_parent\"><img src=\"https://colab.research.google.com/assets/colab-badge.svg\" alt=\"Open In Colab\"/></a>"
      ]
    },
    {
      "cell_type": "markdown",
      "source": [
        "## NLP Assignment: Multi-Class Sentiment Classification using Transformers on the Amazon Reviews Dataset\n",
        "\n",
        "### Problem Statement:\n",
        "\n",
        "In this assignment, you will explore Natural Language Processing (NLP) techniques by performing multi-class sentiment classification on the **Amazon Reviews** dataset. This dataset includes product reviews labeled with star ratings, which can be categorized into multiple sentiment classes (e.g., 1 to 5 stars). Your task is to preprocess the review texts, tokenize them for Transformer input, fine-tune a pretrained Transformer model (e.g., BERT) to classify reviews into sentiment categories based on ratings, and evaluate the performance of your model.\n",
        "\n",
        "This project will help you understand applying Transformer models to multi-class sentiment analysis problems on real-world, large-scale review data.\n",
        "\n",
        "### Dataset Details:\n",
        "\n",
        "- **Amazon Reviews Dataset:**\n",
        "    - Contains millions of product reviews from Amazon across various categories.\n",
        "    - Reviews are labeled with star ratings (commonly 1 to 5 stars).\n",
        "    - Suitable for multi-class sentiment classification tasks.\n",
        "    - Available through libraries like Huggingface `datasets`.\n",
        "\n",
        "\n",
        "### Task Objectives:\n",
        "\n",
        "1. **Load and Preprocess the Dataset:**\n",
        "    - Load the Amazon Reviews dataset using Huggingface’s `datasets` library (e.g., `amazon_polarity` or other Amazon review datasets available).\n",
        "    - Optionally clean reviews by removing noise and special characters.\n",
        "    - Tokenize texts using a pretrained Transformer tokenizer like `BertTokenizer`, applying padding and truncation with a max sequence length (e.g., 128 tokens).\n",
        "2. **Model Fine-Tuning:**\n",
        "    - Load a pretrained Transformer model for sequence classification (e.g., `bert-base-uncased`) with output labels set equal to the number of sentiment classes (e.g., 5 for star ratings).\n",
        "    - Fine-tune the model on the training data split.\n",
        "3. **Evaluation:**\n",
        "    - Evaluate the trained model on the test data using metrics such as accuracy, precision, recall, and F1-score for multi-class classification.\n",
        "    - Generate and analyze a confusion matrix to better understand model performance across sentiment classes.\n",
        "\n",
        "\n",
        "### Hints and Guidance:\n",
        "\n",
        "- Use Huggingface’s `datasets.load_dataset(\"amazon_polarity\")` or another Amazon reviews dataset variant suitable for multi-class tasks.\n",
        "- Use `BertTokenizer` for consistent tokenization and input formatting.\n",
        "- Train with batch sizes around 8-16 and 2-3 epochs to ensure results within a reasonable timeframe.\n",
        "- Utilize Huggingface’s `Trainer` API for streamlined fine-tuning and evaluation.\n",
        "- Use `sklearn.metrics` or built-in Trainer utilities for evaluation metrics and confusion matrix computation.\n",
        "- Analyze classification errors to refine understanding and improve model robustness."
      ],
      "metadata": {
        "id": "rynZ68zfFV8_"
      }
    },
    {
      "cell_type": "code",
      "source": [
        "# Imports\n",
        "import re\n",
        "import pandas as pd\n",
        "import torch\n",
        "import warnings\n",
        "import matplotlib.pyplot as plt\n",
        "\n",
        "from sklearn.metrics import classification_report, confusion_matrix, ConfusionMatrixDisplay\n",
        "from torch.utils.data import Dataset\n",
        "from transformers import BertTokenizer, BertForSequenceClassification, Trainer, TrainingArguments, DataCollatorWithPadding, logging\n",
        "from datasets import load_dataset\n",
        "\n",
        "warnings.filterwarnings(\"ignore\", category=UserWarning)\n",
        "logging.set_verbosity_error()"
      ],
      "metadata": {
        "id": "t5LuGn_MGOW-"
      },
      "execution_count": null,
      "outputs": []
    }
  ]
}