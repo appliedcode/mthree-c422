{
  "nbformat": 4,
  "nbformat_minor": 0,
  "metadata": {
    "colab": {
      "provenance": [],
      "authorship_tag": "ABX9TyOFLcTMQdP88pR+3C/4eJgv",
      "include_colab_link": true
    },
    "kernelspec": {
      "name": "python3",
      "display_name": "Python 3"
    },
    "language_info": {
      "name": "python"
    }
  },
  "cells": [
    {
      "cell_type": "markdown",
      "metadata": {
        "id": "view-in-github",
        "colab_type": "text"
      },
      "source": [
        "<a href=\"https://colab.research.google.com/github/appliedcode/mthree-c422/blob/mthree-c422-dipti/Exercises/day-11/Prompt-principles/Principles-practice.ipynb\" target=\"_parent\"><img src=\"https://colab.research.google.com/assets/colab-badge.svg\" alt=\"Open In Colab\"/></a>"
      ]
    },
    {
      "cell_type": "markdown",
      "source": [
        "\n",
        "## 📝 Problem Statement: Prompt Engineering Practice Lab with Diverse Datasets\n",
        "\n",
        "**Objective:**\n",
        "Apply and experiment with the **5 principles of prompt engineering** —\n",
        "\n",
        "1. Give Clear Direction\n",
        "2. Specify Format\n",
        "3. Provide Examples\n",
        "4. Evaluate Quality\n",
        "5. Divide Labor\n",
        "\n",
        "**Task:**\n",
        "Using the OpenAI API in Google Colab with the `gpt-4o-mini` model:\n",
        "\n",
        "***\n",
        "\n",
        "### 1. Give Clear Direction\n",
        "\n",
        "**Dataset:** Article excerpt on renewable energy\n",
        "**Data snippet:**\n",
        "\"Renewable energy sources such as solar, wind, and hydropower are increasingly cost-effective alternatives to fossil fuels. They reduce greenhouse gas emissions and offer sustainable energy solutions worldwide.\"\n",
        "\n",
        "- Start with a vague prompt (e.g., \"Write about energy.\")\n",
        "- Rewrite it with clear direction including audience (e.g., teenagers), tone (informative), and length (100 words).\n",
        "- Compare and analyze the outputs.\n",
        "\n",
        "***\n",
        "\n",
        "### 2. Specify Format\n",
        "\n",
        "**Dataset:** Product descriptions of three smartphones\n",
        "**Data snippet:**\n",
        "\n",
        "- Phone A: OLED display, 12MP camera, 4000mAh battery.\n",
        "- Phone B: AMOLED display, 108MP camera, 4500mAh battery.\n",
        "- Phone C: LCD display, 48MP camera, 3500mAh battery.\n",
        "- Ask a comparison question without specifying format.\n",
        "- Repeat with instructions to produce a markdown table listing features and specs.\n",
        "- Compare the clarity and usefulness of the outputs.\n",
        "\n",
        "***\n",
        "\n",
        "### 3. Provide Examples (Few-Shot)\n",
        "\n",
        "**Dataset:** Customer reviews for a coffee shop\n",
        "**Reviews:**\n",
        "\n",
        "- \"Loved the espresso, very rich flavor.\"\n",
        "- \"Service was slow but the ambiance was nice.\"\n",
        "- \"The croissant was stale and dry.\"\n",
        "- Provide 2-3 labeled examples classifying reviews as Positive, Neutral, or Negative.\n",
        "- Add a new review for the model to classify.\n",
        "\n",
        "***\n",
        "\n",
        "### 4. Evaluate Quality\n",
        "\n",
        "**Dataset:** Short news article on urban gardening\n",
        "**Text:**\n",
        "\"Community gardens are flourishing in cities worldwide, providing fresh produce and green spaces for residents. They improve air quality, foster social connections, and promote sustainability.\"\n",
        "\n",
        "- Summarize this text initially with a generic prompt.\n",
        "- Evaluate the output for completeness and key points.\n",
        "- Refine the prompt to ask for a 3-bullet summary mentioning benefits, social impact, and environmental effects.\n",
        "- Compare before and after outputs.\n",
        "\n",
        "***\n",
        "\n",
        "### 5. Divide Labor (Break Complex Tasks)\n",
        "\n",
        "**Dataset:** Business project - launching an online bookstore\n",
        "\n",
        "- Step 1 prompt: Define and describe the target customer base.\n",
        "- Step 2 prompt: Develop a marketing strategy tailored for the audience.\n",
        "- Step 3 prompt: Draft a content calendar for social media launch posts.\n",
        "- Run each prompt sequentially in Colab.\n",
        "- Combine the outputs into a cohesive overall launch plan.\n",
        "\n",
        "***\n",
        "\n",
        "## Deliverables\n",
        "\n",
        "For each principle:\n",
        "\n",
        "- Your original prompt(s)\n",
        "- Model output(s)\n",
        "- Observations on prompt design impact\n",
        "\n",
        "***\n",
        "\n",
        "**Goal:**\n",
        "Experience how tailoring prompts with clear direction, format, examples, evaluation, and task decomposition improves AI-generated content quality and usability.\n",
        "\n",
        "***\n",
        "\n",
        "If you would like, I can prepare this as a **ready-to-use Colab notebook template** with code cells pre-set for the datasets and exercises, so students can focus just on crafting prompts and observing results. Let me know if you want me to do that!\n"
      ],
      "metadata": {
        "id": "FYBRHqxsRE_5"
      }
    },
    {
      "cell_type": "code",
      "execution_count": 1,
      "metadata": {
        "colab": {
          "base_uri": "https://localhost:8080/"
        },
        "id": "LZyLkR80RCti",
        "outputId": "eb258c8a-e6b8-4c0c-9fef-b1c5533c6b4b"
      },
      "outputs": [
        {
          "output_type": "stream",
          "name": "stdout",
          "text": [
            "✅ OpenAI API key loaded safely\n"
          ]
        }
      ],
      "source": [
        "# Setup\n",
        "# Install OpenAI SDK\n",
        "!pip install openai -q\n",
        "from google.colab import userdata\n",
        "import os\n",
        "\n",
        "openai_api_key = userdata.get(\"OPENAI_API_KEY\")\n",
        "if openai_api_key:\n",
        "    os.environ[\"OPENAI_API_KEY\"] = openai_api_key\n",
        "    print(\"✅ OpenAI API key loaded safely\")\n",
        "else:\n",
        "    print(\"❌ OpenAI API key not found. Please set it using Colab Secrets.\")\n"
      ]
    },
    {
      "cell_type": "code",
      "source": [
        "from openai import OpenAI\n",
        "client = OpenAI(api_key=os.environ[\"OPENAI_API_KEY\"])  # Replace with your API key\n",
        "\n",
        "def ask_gpt(prompt, temp=0.7, max_tokens=500):\n",
        "    \"\"\"Send a prompt to GPT-4o-mini and return the output\"\"\"\n",
        "    response = client.chat.completions.create(\n",
        "        model=\"gpt-4o-mini\",\n",
        "        messages=[{\"role\": \"user\", \"content\": prompt}],\n",
        "        temperature=temp,\n",
        "        max_tokens=max_tokens\n",
        "    )\n",
        "    return response.choices[0].message.content"
      ],
      "metadata": {
        "id": "TuWQwRGARxCh"
      },
      "execution_count": 2,
      "outputs": []
    },
    {
      "cell_type": "code",
      "source": [
        "prompt = \"Write about energy.\"\n",
        "print(ask_gpt(prompt))"
      ],
      "metadata": {
        "colab": {
          "base_uri": "https://localhost:8080/"
        },
        "id": "emYBS71pSQWE",
        "outputId": "ff089b43-2fbe-4794-8fdd-2711eaee4eeb"
      },
      "execution_count": 3,
      "outputs": [
        {
          "output_type": "stream",
          "name": "stdout",
          "text": [
            "Energy is a fundamental concept in physics and is crucial to virtually every aspect of our lives. It is defined as the capacity to do work or produce change and exists in various forms, including kinetic, potential, thermal, chemical, electrical, nuclear, and more. Understanding energy is essential for studying systems in both natural and engineered environments.\n",
            "\n",
            "### Forms of Energy\n",
            "\n",
            "1. **Kinetic Energy**: This is the energy of motion. Any object that is moving, whether it's a rolling ball or a flowing river, possesses kinetic energy. The amount of kinetic energy an object has depends on its mass and velocity, described mathematically by the equation \\( KE = \\frac{1}{2} mv^2 \\).\n",
            "\n",
            "2. **Potential Energy**: This is stored energy based on an object's position or configuration. For example, an object raised to a height has gravitational potential energy, which can be converted to kinetic energy if it falls. Similarly, a compressed spring stores elastic potential energy.\n",
            "\n",
            "3. **Thermal Energy**: Related to the temperature of an object, thermal energy is the total kinetic energy of the particles in a substance. It is a measure of how much energy is being transferred as heat.\n",
            "\n",
            "4. **Chemical Energy**: This form of energy is stored in the bonds of chemical compounds. When these bonds are broken during chemical reactions, energy is released or absorbed. This is the basis for the energy produced by fuels like gasoline, food, and batteries.\n",
            "\n",
            "5. **Electrical Energy**: This is the energy carried by electric charges. It is generated through various means, such as chemical reactions in batteries, solar panels converting sunlight, or through dynamo generators.\n",
            "\n",
            "6. **Nuclear Energy**: This is the energy released during nuclear fission or fusion processes. Nuclear reactors exploit fission to generate electricity, while fusion powers the sun and other stars.\n",
            "\n",
            "### Conservation of Energy\n",
            "\n",
            "One of the key principles in physics is the law of conservation of energy, which states that energy cannot be created or destroyed but can only change forms. This principle is foundational in understanding energy transfer in physical systems, from roller coasters converting potential energy to kinetic energy to ecosystems cycling energy from sunlight through plants to herbivores and then to predators.\n",
            "\n",
            "### Energy in Society\n",
            "\n",
            "Energy plays a vital role in modern society, powering homes, industry, transportation, and communication. The primary sources of energy for human use include fossil fuels (coal, oil, natural gas), nuclear power, and renewable sources (solar, wind\n"
          ]
        }
      ]
    },
    {
      "cell_type": "code",
      "source": [
        "prompt = \"Explain renewable energy sources (solar, wind, hydropower) to high school students in an informative but simple tone, 100 words or less.\"\n",
        "print(ask_gpt(prompt))"
      ],
      "metadata": {
        "colab": {
          "base_uri": "https://localhost:8080/"
        },
        "id": "AyLHKD9jSUzf",
        "outputId": "21ea19a5-a519-4266-c248-7cf469024521"
      },
      "execution_count": 4,
      "outputs": [
        {
          "output_type": "stream",
          "name": "stdout",
          "text": [
            "Renewable energy sources are energy types that come from natural processes and can be replenished. Solar energy harnesses sunlight using solar panels to create electricity. Wind energy uses large turbines to capture the power of the wind and convert it into electricity. Hydropower generates energy by using flowing water, often from rivers or dams, to turn turbines. These sources are eco-friendly, produce little to no pollution, and help combat climate change. By using renewables, we can create a sustainable future for our planet, relying on resources that won't run out.\n"
          ]
        }
      ]
    },
    {
      "cell_type": "code",
      "source": [
        "\n",
        "prompt = \"Phone A: OLED display, 12MP camera, 4000mAh battery.\\\n",
        "Phone B: AMOLED display, 108MP camera, 4500mAh battery.\\\n",
        "Phone C: LCD display, 48MP camera, 3500mAh battery.\\\n",
        "Compare Phone A, Phone B, and Phone C.\"\n",
        "print(ask_gpt(prompt))"
      ],
      "metadata": {
        "colab": {
          "base_uri": "https://localhost:8080/"
        },
        "id": "HSdv25fLSoAJ",
        "outputId": "e35afbba-e9ba-4e51-adc5-338a7c8fdc4b"
      },
      "execution_count": 7,
      "outputs": [
        {
          "output_type": "stream",
          "name": "stdout",
          "text": [
            "Let's compare Phone A, Phone B, and Phone C based on their key specifications: display technology, camera resolution, and battery capacity.\n",
            "\n",
            "### 1. Display\n",
            "- **Phone A**: OLED display\n",
            "- **Phone B**: AMOLED display\n",
            "- **Phone C**: LCD display\n",
            "\n",
            "**Comparison**: \n",
            "- Both Phone A and Phone B use advanced display technologies (OLED and AMOLED), which typically offer better contrast, deeper blacks, and more vibrant colors compared to LCD, which is used in Phone C. AMOLED is a type of OLED, and it generally has better power efficiency when displaying dark images.\n",
            "\n",
            "### 2. Camera\n",
            "- **Phone A**: 12MP camera\n",
            "- **Phone B**: 108MP camera\n",
            "- **Phone C**: 48MP camera\n",
            "\n",
            "**Comparison**:\n",
            "- Phone B boasts the highest camera resolution at 108MP, which can potentially provide more detail and better image quality, especially in good lighting conditions. Phone C's 48MP camera is also capable, but it won't match the detail of Phone B. Phone A, with its 12MP camera, is the least capable in terms of raw megapixels, but image quality also depends on other factors like lens quality and software processing.\n",
            "\n",
            "### 3. Battery Capacity\n",
            "- **Phone A**: 4000mAh battery\n",
            "- **Phone B**: 4500mAh battery\n",
            "- **Phone C**: 3500mAh battery\n",
            "\n",
            "**Comparison**:\n",
            "- Phone B has the largest battery capacity at 4500mAh, which may provide longer usage times, especially with its power-efficient AMOLED display. Phone A's 4000mAh battery is decent but smaller than Phone B's, while Phone C's 3500mAh battery is the smallest, likely resulting in shorter usage times.\n",
            "\n",
            "### Summary\n",
            "- **Phone A**: Best for users who prefer an OLED display and do not prioritize camera megapixels. Good balance of battery life.\n",
            "- **Phone B**: Offers the best camera resolution and largest battery capacity, ideal for photography enthusiasts and users who value display quality.\n",
            "- **Phone C**: The least attractive option in terms of display and battery capacity, but may still appeal to those on a budget or who prefer a simpler setup.\n",
            "\n",
            "### Conclusion\n",
            "Your choice should depend on what features are most important to you: If you prioritize camera quality and battery life, go with Phone B. If you prefer a balance\n"
          ]
        }
      ]
    },
    {
      "cell_type": "code",
      "source": [
        "prompt = \"Phone A: OLED display, 12MP camera, 4000mAh battery.\\\n",
        "Phone B: AMOLED display, 108MP camera, 4500mAh battery.\\\n",
        "Phone C: LCD display, 48MP camera, 3500mAh battery.\\\n",
        "Compare Phone A, Phone B, and Phone C in a markdown table with columns: Phone, Display, Camera, Battery.\"\n",
        "print(ask_gpt(prompt))"
      ],
      "metadata": {
        "colab": {
          "base_uri": "https://localhost:8080/"
        },
        "id": "TsXhG2DYS5Mf",
        "outputId": "32fd8142-7fb9-4d16-eb31-65b05460e180"
      },
      "execution_count": 8,
      "outputs": [
        {
          "output_type": "stream",
          "name": "stdout",
          "text": [
            "Here's a comparison of Phone A, Phone B, and Phone C in a markdown table:\n",
            "\n",
            "| Phone   | Display       | Camera   | Battery     |\n",
            "|---------|---------------|----------|-------------|\n",
            "| Phone A | OLED          | 12MP     | 4000mAh     |\n",
            "| Phone B | AMOLED        | 108MP    | 4500mAh     |\n",
            "| Phone C | LCD           | 48MP     | 3500mAh     |\n"
          ]
        }
      ]
    },
    {
      "cell_type": "code",
      "source": [
        "\n",
        "\n",
        "prompt = \"\"\"\n",
        "Classify each review as Positive, Negative, or Neutral:\n",
        "\n",
        "Review: \"Loved the espresso, very rich flavor.\"\n",
        "Sentiment: Positive\n",
        "\n",
        "Review: \"Service was slow but the ambiance was nice.\"\n",
        "Sentiment: Neutral\n",
        "\n",
        "Review: \"The croissant was stale and dry.\"\n",
        "Sentiment: Negative\n",
        "\n",
        "Review: \"Great coffee but a bit noisy during peak hours.\"\n",
        "Sentiment:                 \"\"\"\n",
        "print(ask_gpt(prompt))"
      ],
      "metadata": {
        "colab": {
          "base_uri": "https://localhost:8080/"
        },
        "id": "0ImHdKLiTOwh",
        "outputId": "4d08f217-9797-40f1-9dce-4b19c800d6d2"
      },
      "execution_count": 9,
      "outputs": [
        {
          "output_type": "stream",
          "name": "stdout",
          "text": [
            "Sentiment: Neutral\n"
          ]
        }
      ]
    },
    {
      "cell_type": "code",
      "source": [
        "prompt = \"\"\"Summarize this text: Community gardens are flourishing…\"\"\"\n",
        "print(ask_gpt(prompt))"
      ],
      "metadata": {
        "colab": {
          "base_uri": "https://localhost:8080/"
        },
        "id": "LUCPbe-xTkma",
        "outputId": "e8c46b89-4f52-4832-da74-63e8b0547f6b"
      },
      "execution_count": 11,
      "outputs": [
        {
          "output_type": "stream",
          "name": "stdout",
          "text": [
            "Community gardens are thriving spaces where individuals come together to cultivate plants, grow food, and foster community connections. These gardens promote sustainability, enhance local food systems, and provide opportunities for social interaction and community building. They also contribute to environmental benefits and improve urban landscapes. Overall, community gardens play a vital role in enhancing community well-being and promoting a healthier lifestyle.\n"
          ]
        }
      ]
    },
    {
      "cell_type": "code",
      "source": [
        "prompt=\"\"\"Summarize this article in 3 bullet points each covering:\n",
        "1) Main benefits\n",
        "2) Social impact\n",
        "3) Environmental effects\n",
        "\n",
        "Text: Community gardens are flourishing in cities worldwide, providing fresh produce and green spaces for residents. They improve air quality, foster social connections, and promote sustainability.\"\"\"\n",
        "print(ask_gpt(prompt))"
      ],
      "metadata": {
        "colab": {
          "base_uri": "https://localhost:8080/"
        },
        "id": "X-PI9O-pUe7L",
        "outputId": "118d64e7-d3e9-46fe-8934-067cb8283657"
      },
      "execution_count": 12,
      "outputs": [
        {
          "output_type": "stream",
          "name": "stdout",
          "text": [
            "1) **Main benefits**: Community gardens offer residents access to fresh produce, enhance urban green spaces, and support local food systems.\n",
            "\n",
            "2) **Social impact**: These gardens foster social connections among community members, encouraging collaboration and strengthening neighborhood bonds.\n",
            "\n",
            "3) **Environmental effects**: Community gardens contribute to improved air quality and promote sustainability by encouraging eco-friendly practices and biodiversity.\n"
          ]
        }
      ]
    },
    {
      "cell_type": "code",
      "source": [
        "prompt=\"Propose a 1-month social media content calendar in a table with Date, Post Idea, and Caption.\"\n",
        "print(ask_gpt(prompt))"
      ],
      "metadata": {
        "colab": {
          "base_uri": "https://localhost:8080/"
        },
        "id": "JKy_E7lCUgZL",
        "outputId": "eac21c00-0542-4a20-a05c-2cdb1baf0c5b"
      },
      "execution_count": 13,
      "outputs": [
        {
          "output_type": "stream",
          "name": "stdout",
          "text": [
            "Here's a sample 1-month social media content calendar designed for a generic brand. You can adjust the themes and content according to your specific brand, audience, and goals.\n",
            "\n",
            "| Date       | Post Idea                             | Caption                                             |\n",
            "|------------|---------------------------------------|-----------------------------------------------------|\n",
            "| 01/01      | New Year Greeting                     | \"Cheers to new beginnings! 🎉 Happy New Year from all of us at [Brand Name]! #NewYearNewGoals\" |\n",
            "| 01/03      | Behind-the-Scenes of Product Creation | \"Ever wondered how our products are made? Here’s a sneak peek behind the scenes! #BehindTheScenes\" |\n",
            "| 01/05      | Customer Testimonial                  | \"We love hearing from our amazing customers! 💌 Check out what [Customer Name] has to say about their experience with us! #CustomerLove\" |\n",
            "| 01/07      | Poll about Favorite Products          | \"We want to hear from you! What’s your favorite product from our collection? Vote below! 🗳️ #Poll\" |\n",
            "| 01/10      | Tip or How-To Related to Your Product | \"Did you know you can use our product in this cool way? Here’s a quick tip! #TipTuesday\" |\n",
            "| 01/12      | User-Generated Content Feature       | \"Shoutout to [User Handle] for this amazing photo using our product! 🌟 Want to be featured? Tag us! #FeatureFriday\" |\n",
            "| 01/15      | Inspirational Quote                   | \"‘Success is not in what you have, but who you are.’ - [Author Name] 💪 #MondayMotivation\" |\n",
            "| 01/18      | Fun Fact about Your Industry          | \"Did you know? [Insert fun fact related to your industry] 🤓 #FunFactFriday\" |\n",
            "| 01/20      | Giveaway Announcement                 | \"🎉 GIVEAWAY ALERT! 🎉 Follow us and tag 2 friends for a chance to win [Prize]! #Giveaway\" |\n",
            "| 01/22      | Staff Spotlight                       | \"Meet [Staff Name], our [Position]! They’re the magic behind [specific task or product]! #TeamTuesday\" |\n",
            "| 01/25      | Share a Blog Post or Article         | \"Check out our latest blog post on [Topic]! Click the link in bio to read more! ✏️ #BlogPost\" |\n",
            "\n"
          ]
        }
      ]
    }
  ]
}