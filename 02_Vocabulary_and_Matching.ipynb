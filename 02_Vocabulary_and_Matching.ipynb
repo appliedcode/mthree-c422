{
  "nbformat": 4,
  "nbformat_minor": 0,
  "metadata": {
    "colab": {
      "provenance": [],
      "authorship_tag": "ABX9TyPmOJxmXQXjkkJPRKy11Xfr",
      "include_colab_link": true
    },
    "kernelspec": {
      "name": "python3",
      "display_name": "Python 3"
    },
    "language_info": {
      "name": "python"
    }
  },
  "cells": [
    {
      "cell_type": "markdown",
      "metadata": {
        "id": "view-in-github",
        "colab_type": "text"
      },
      "source": [
        "<a href=\"https://colab.research.google.com/github/appliedcode/mthree-c422/blob/mthree-c422-Likhitha/02_Vocabulary_and_Matching.ipynb\" target=\"_parent\"><img src=\"https://colab.research.google.com/assets/colab-badge.svg\" alt=\"Open In Colab\"/></a>"
      ]
    },
    {
      "cell_type": "code",
      "execution_count": 1,
      "metadata": {
        "id": "hMthWmwYxVTG"
      },
      "outputs": [],
      "source": [
        "import spacy\n",
        "from spacy.matcher import Matcher, PhraseMatcher\n",
        "\n",
        "# Load English tokenizer, POS tagger, parser, NER\n",
        "nlp = spacy.load(\"en_core_web_sm\")\n"
      ]
    },
    {
      "cell_type": "code",
      "source": [
        "matcher = Matcher(nlp.vocab)\n",
        "\n"
      ],
      "metadata": {
        "id": "Y-AQXC2UxWoX"
      },
      "execution_count": 3,
      "outputs": []
    },
    {
      "cell_type": "code",
      "source": [
        "import spacy\n",
        "from spacy.matcher import Matcher\n",
        "\n",
        "nlp = spacy.load(\"en_core_web_sm\")\n",
        "matcher = Matcher(nlp.vocab)\n",
        "\n",
        "# Define patterns\n",
        "pattern1 = [{'LOWER': 'solarpower'}]\n",
        "pattern2 = [{'LOWER': 'solar'}, {'LOWER': 'power'}]\n",
        "pattern3 = [{'LOWER': 'solar'}, {'IS_PUNCT': True}, {'LOWER': 'power'}]\n",
        "\n",
        "# Add patterns to matcher (updated for spaCy v3+)\n",
        "matcher.add('SolarPower', [pattern1, pattern2, pattern3])\n",
        "\n",
        "doc = nlp(\"The Solar Power industry continues to grow. solarpower, solar power, and solar-power are common terms.\")\n",
        "\n",
        "matches = matcher(doc)\n",
        "for match_id, start, end in matches:\n",
        "    span = doc[start:end]\n",
        "    print(match_id, span.text)\n"
      ],
      "metadata": {
        "colab": {
          "base_uri": "https://localhost:8080/"
        },
        "id": "wZjmcoW0xfvd",
        "outputId": "f80bed80-d151-497b-a73e-ff184e4aa027"
      },
      "execution_count": 5,
      "outputs": [
        {
          "output_type": "stream",
          "name": "stdout",
          "text": [
            "8656102463236116519 Solar Power\n",
            "8656102463236116519 solarpower\n",
            "8656102463236116519 solar power\n",
            "8656102463236116519 solar-power\n"
          ]
        }
      ]
    },
    {
      "cell_type": "code",
      "source": [
        "text = \"The Solar Power industry continues to grow as demand for solarpower increases. Solar-power cars are gaining popularity.\"\n",
        "doc = nlp(text)\n",
        "\n",
        "found_matches = matcher(doc)\n",
        "for match_id, start, end in found_matches:\n",
        "    span = doc[start:end]\n",
        "    print(match_id, nlp.vocab.strings[match_id], start, end, span.text)\n"
      ],
      "metadata": {
        "colab": {
          "base_uri": "https://localhost:8080/"
        },
        "id": "ir76MeV0x3aO",
        "outputId": "15694de1-d753-4c8c-da23-9c73047a1def"
      },
      "execution_count": 6,
      "outputs": [
        {
          "output_type": "stream",
          "name": "stdout",
          "text": [
            "8656102463236116519 SolarPower 1 3 Solar Power\n",
            "8656102463236116519 SolarPower 10 11 solarpower\n",
            "8656102463236116519 SolarPower 13 16 Solar-power\n"
          ]
        }
      ]
    },
    {
      "cell_type": "code",
      "source": [
        "import spacy\n",
        "from spacy.matcher import Matcher\n",
        "\n",
        "nlp = spacy.load(\"en_core_web_sm\")\n",
        "doc = nlp(\"Solarpower, solar power, and solar-power are all valid terms.\")\n",
        "\n",
        "matcher = Matcher(nlp.vocab)\n",
        "\n",
        "# Safe remove\n",
        "try:\n",
        "    matcher.remove('SolarPower')\n",
        "except ValueError:\n",
        "    pass\n",
        "\n",
        "# Define patterns\n",
        "pattern1 = [{'LOWER': 'solarpower'}]\n",
        "pattern2 = [{'LOWER': 'solar'}, {'IS_PUNCT': True, 'OP': '*'}, {'LOWER': 'power'}]\n",
        "\n",
        "# Add patterns correctly for spaCy v3+\n",
        "matcher.add('SolarPower', [pattern1, pattern2])\n",
        "\n",
        "# Find matches\n",
        "matches = matcher(doc)\n",
        "for match_id, start, end in matches:\n",
        "    span = doc[start:end]\n",
        "    print(match_id, nlp.vocab.strings[match_id], start, end, span.text)\n"
      ],
      "metadata": {
        "colab": {
          "base_uri": "https://localhost:8080/"
        },
        "id": "yyhK2pG3x8Vh",
        "outputId": "b9f0a01e-a4cd-4b09-eba8-a75344942ef8"
      },
      "execution_count": 9,
      "outputs": [
        {
          "output_type": "stream",
          "name": "stdout",
          "text": [
            "8656102463236116519 SolarPower 0 1 Solarpower\n",
            "8656102463236116519 SolarPower 2 4 solar power\n",
            "8656102463236116519 SolarPower 6 9 solar-power\n"
          ]
        }
      ]
    },
    {
      "cell_type": "code",
      "source": [
        "import spacy\n",
        "from spacy.matcher import Matcher\n",
        "\n",
        "nlp = spacy.load(\"en_core_web_sm\")\n",
        "matcher = Matcher(nlp.vocab)\n",
        "\n",
        "# Remove existing pattern safely\n",
        "try:\n",
        "    matcher.remove('SolarPower')\n",
        "except ValueError:\n",
        "    pass\n",
        "\n",
        "# Define all variations\n",
        "pattern1 = [{'LOWER': 'solarpower'}]\n",
        "pattern2 = [{'LOWER': 'solar'}, {'IS_PUNCT': True, 'OP': '*'}, {'LOWER': 'power'}]\n",
        "pattern3 = [{'LOWER': 'solarpowered'}]\n",
        "pattern4 = [{'LOWER': 'solar'}, {'IS_PUNCT': True, 'OP': '*'}, {'LOWER': 'powered'}]\n",
        "\n",
        "# Correct syntax\n",
        "matcher.add('SolarPower', [pattern1, pattern2, pattern3, pattern4])\n",
        "\n",
        "# Test doc\n",
        "doc2 = nlp(\"Solar-powered energy runs solarpower and solar powered cars, as well as solarpowered machines.\")\n",
        "\n",
        "# Find and print matches\n",
        "found_matches = matcher(doc2)\n",
        "for match_id, start, end in found_matches:\n",
        "    span = doc2[start:end]\n",
        "    print(match_id, nlp.vocab.strings[match_id], start, end, span.text)\n"
      ],
      "metadata": {
        "colab": {
          "base_uri": "https://localhost:8080/"
        },
        "id": "hwK2rhZ0yiZD",
        "outputId": "f869ce58-0d0a-42eb-c0be-7e2ef33adc98"
      },
      "execution_count": 11,
      "outputs": [
        {
          "output_type": "stream",
          "name": "stdout",
          "text": [
            "8656102463236116519 SolarPower 0 3 Solar-powered\n",
            "8656102463236116519 SolarPower 5 6 solarpower\n",
            "8656102463236116519 SolarPower 7 9 solar powered\n",
            "8656102463236116519 SolarPower 14 15 solarpowered\n"
          ]
        }
      ]
    },
    {
      "cell_type": "code",
      "source": [
        "import spacy\n",
        "from spacy.matcher import Matcher\n",
        "\n",
        "nlp = spacy.load(\"en_core_web_sm\")\n",
        "\n",
        "pattern = [{'ORTH': '#'}, {}]  # Match a '#' followed by any token\n",
        "matcher = Matcher(nlp.vocab)\n",
        "matcher.add('HASHTAG', [pattern])  # ✅ correct syntax\n",
        "\n",
        "doc = nlp(\"Use #AI to enhance productivity.\")\n",
        "matches = matcher(doc)\n",
        "\n",
        "for match_id, start, end in matches:\n",
        "    span = doc[start:end]\n",
        "    print(span.text)\n"
      ],
      "metadata": {
        "colab": {
          "base_uri": "https://localhost:8080/"
        },
        "id": "FqKCsn1rzADt",
        "outputId": "f282af98-1725-47f4-aa16-95ee489ff62a"
      },
      "execution_count": 13,
      "outputs": [
        {
          "output_type": "stream",
          "name": "stdout",
          "text": [
            "#AI\n"
          ]
        }
      ]
    },
    {
      "cell_type": "code",
      "source": [
        "# Reset matcher\n",
        "matcher = PhraseMatcher(nlp.vocab)\n",
        "\n",
        "# Example terminology list\n",
        "phrase_list = ['voodoo economics', 'supply-side economics', 'trickle-down economics', 'free-market economics']\n",
        "\n",
        "# Convert phrases to Doc objects\n",
        "phrase_patterns = [nlp(text) for text in phrase_list]\n",
        "\n",
        "# Add to PhraseMatcher\n",
        "matcher.add('VoodooEconomics', None, *phrase_patterns)\n"
      ],
      "metadata": {
        "id": "2Tu6icvIzIgg"
      },
      "execution_count": 14,
      "outputs": []
    },
    {
      "cell_type": "code",
      "source": [
        "text = \"\"\"\n",
        "Reaganomics refers to the economic policies promoted by U.S. President Ronald Reagan.\n",
        "These policies are commonly associated with supply-side economics, trickle-down theory, and tax cuts.\n",
        "\"\"\"\n",
        "doc3 = nlp(text)\n",
        "\n",
        "matches = matcher(doc3)\n",
        "for match_id, start, end in matches:\n",
        "    span = doc3[start:end]\n",
        "    print(span.text)\n"
      ],
      "metadata": {
        "colab": {
          "base_uri": "https://localhost:8080/"
        },
        "id": "LG8nOgHDzJPx",
        "outputId": "82a723ee-8e07-4adc-e5a8-11c82b72abb8"
      },
      "execution_count": 16,
      "outputs": [
        {
          "output_type": "stream",
          "name": "stdout",
          "text": [
            "supply-side economics\n"
          ]
        }
      ]
    },
    {
      "cell_type": "code",
      "source": [
        "for match_id, start, end in matches:\n",
        "    span = doc3[start:end]\n",
        "    print(match_id, nlp.vocab.strings[match_id], start, end, span.text)\n"
      ],
      "metadata": {
        "colab": {
          "base_uri": "https://localhost:8080/"
        },
        "id": "VfWVu56AzL_z",
        "outputId": "42332cec-9014-4b4e-adb3-29f8ffd2140a"
      },
      "execution_count": 17,
      "outputs": [
        {
          "output_type": "stream",
          "name": "stdout",
          "text": [
            "3473369816841043438 VoodooEconomics 21 25 supply-side economics\n"
          ]
        }
      ]
    },
    {
      "cell_type": "code",
      "source": [
        "# Example: Get context before and after a match\n",
        "print(doc3[665:685])        # Before and after 5th match (starts at 673)\n",
        "print(doc3[2975:2995])      # Before and after 6th match (starts at 2985)\n"
      ],
      "metadata": {
        "colab": {
          "base_uri": "https://localhost:8080/"
        },
        "id": "_Bx4toEFzQgQ",
        "outputId": "e78b39b0-fb02-494d-8776-3577fac86394"
      },
      "execution_count": 18,
      "outputs": [
        {
          "output_type": "stream",
          "name": "stdout",
          "text": [
            "\n",
            "\n"
          ]
        }
      ]
    },
    {
      "cell_type": "code",
      "source": [
        "if len(matches) >= 5:\n",
        "    match_start = matches[4][1]\n",
        "    for sent in sents:\n",
        "        if match_start < sent.end:\n",
        "            print(\"Sentence containing the 5th match:\")\n",
        "            print(sent.text)\n",
        "            break\n",
        "else:\n",
        "    print(\"Less than 5 matches found.\")\n"
      ],
      "metadata": {
        "colab": {
          "base_uri": "https://localhost:8080/"
        },
        "id": "CBYxszckzTF1",
        "outputId": "92500fc1-8a5a-4165-d38b-a3510a8ba275"
      },
      "execution_count": 20,
      "outputs": [
        {
          "output_type": "stream",
          "name": "stdout",
          "text": [
            "Less than 5 matches found.\n"
          ]
        }
      ]
    }
  ]
}