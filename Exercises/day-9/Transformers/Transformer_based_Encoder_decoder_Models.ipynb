{
  "nbformat": 4,
  "nbformat_minor": 0,
  "metadata": {
    "colab": {
      "provenance": []
    },
    "kernelspec": {
      "name": "python3",
      "display_name": "Python 3"
    },
    "language_info": {
      "name": "python"
    }
  },
  "cells": [
    {
      "cell_type": "code",
      "execution_count": 8,
      "metadata": {
        "colab": {
          "base_uri": "https://localhost:8080/"
        },
        "id": "ovlLgqC9cpiz",
        "outputId": "8c696ddf-e28d-40c2-9c52-dacf11d0a768"
      },
      "outputs": [
        {
          "output_type": "stream",
          "name": "stdout",
          "text": [
            "Summary: We'll have a project sync-up call on Thursday at 2 PM. We'll review the current sprint progress, discuss any blockers, and finalize the scope for the next sprint.\n"
          ]
        }
      ],
      "source": [
        "#----------------------------------------\n",
        "# Step 1: Import the necessary Libraries\n",
        "#----------------------------------------\n",
        "import warnings\n",
        "warnings.filterwarnings(\"ignore\", category=UserWarning)\n",
        "import spacy\n",
        "\n",
        "from transformers import pipeline, logging\n",
        "\n",
        "# Suppress warnings from transformers\n",
        "logging.set_verbosity_error()\n",
        "\n",
        "#----------------------------------------\n",
        "# Step 2: Load a summarization pipeline\n",
        "#----------------------------------------\n",
        "summarizer = pipeline(\"summarization\", model=\"facebook/bart-large-cnn\")\n",
        "\n",
        "#-------------------------------\n",
        "# Step 3: Define the input text\n",
        "#-------------------------------\n",
        "text = (\n",
        "    \"Hey team, hope you're all doing great. Just a heads-up that we'll be having our project sync-up call on Thursday at 2 PM. \"\n",
        "    \"We’ll review the current sprint progress, discuss any blockers, and finalize the scope for the next sprint. \"\n",
        "    \"As always, feel free to bring up any ideas that could improve delivery or collaboration. Looking forward to a great discussion!\"\n",
        ")\n",
        "\n",
        "#----------------------------\n",
        "# Step 4: Run the summarizer\n",
        "#----------------------------\n",
        "summary = summarizer(text, max_length=45, min_length=20, do_sample=False)\n",
        "\n",
        "#----------------------------\n",
        "# Step 5: Print the result\n",
        "#----------------------------\n",
        "print(\"Summary:\", summary[0]['summary_text'])\n"
      ]
    },
    {
      "cell_type": "code",
      "source": [],
      "metadata": {
        "id": "SkhKwuHRhEBM"
      },
      "execution_count": null,
      "outputs": []
    }
  ]
}