{
  "nbformat": 4,
  "nbformat_minor": 0,
  "metadata": {
    "colab": {
      "provenance": []
    },
    "kernelspec": {
      "name": "python3",
      "display_name": "Python 3"
    },
    "language_info": {
      "name": "python"
    }
  },
  "cells": [
    {
      "cell_type": "code",
      "execution_count": 1,
      "metadata": {
        "id": "WfYh90dLua6Q"
      },
      "outputs": [],
      "source": [
        "import spacy\n",
        "nlp = spacy.load('en_core_web_sm')"
      ]
    },
    {
      "cell_type": "code",
      "source": [
        "print(nlp.Defaults.stop_words)"
      ],
      "metadata": {
        "colab": {
          "base_uri": "https://localhost:8080/"
        },
        "id": "vAh1rIkau5mk",
        "outputId": "6d71077c-14a7-44d9-ad56-e5be9c4a1bc7"
      },
      "execution_count": 2,
      "outputs": [
        {
          "output_type": "stream",
          "name": "stdout",
          "text": [
            "{'hereafter', 'part', 'or', 'us', 'we', 'noone', 'make', 'such', 'out', 'therefore', 'see', 'where', 'whether', 'twelve', 'should', 'yours', 'ca', 'some', 'mine', 'he', 'onto', 'above', 'something', 'been', 'namely', 'without', 'somehow', 'afterwards', '’re', 'at', 'ten', 'under', 'just', 'thereby', '‘s', 'becomes', 'she', 'since', 'somewhere', 'always', 'me', 'himself', 'seemed', 'anyway', 'side', 'put', 'within', \"'ve\", 'enough', '‘d', 'many', 'from', 'sometime', 'and', 'else', 'nevertheless', '’m', 'no', 'his', 'whereby', 'whom', 'nobody', 'if', 'perhaps', 'after', 'almost', \"'re\", 'are', 'can', 'about', 'have', 'too', 'most', 'any', 'became', 'next', 'could', '‘ve', 'also', 'using', 'that', 'several', 'here', 'eleven', 'were', 'why', 'herein', 'nine', 'becoming', 'during', 'together', 'five', 'does', 'another', 'however', \"'ll\", 'amount', 'of', 'towards', 'them', 'indeed', 'done', 'itself', 'do', 'not', 'ourselves', 'down', 'meanwhile', 'four', 'seem', 'give', 'be', 'same', 'own', 'more', 'for', 'against', 'beyond', 'take', 'first', 'serious', 'six', 'often', 'i', 'which', 'the', 'a', 'themselves', '’d', 'behind', 'fifteen', 'am', '’ll', 'please', 'while', '‘ll', 'whereafter', 'thereupon', 'thus', 'even', 'eight', 'into', 'everyone', 'along', 'now', \"'m\", 'sometimes', 'her', 'regarding', 'except', 'might', '’ve', 'none', 'each', 'this', 'must', 'throughout', 'its', 'get', 'former', 'move', 'between', 'keep', 'everywhere', 'all', 'being', 'anyhow', 'how', 'less', 'made', 'nowhere', 'therein', 'up', 'seeming', 'per', 'when', 'front', 'top', 'may', 'moreover', 'whatever', 'call', 'full', 'thence', \"'d\", 'who', 'is', 'myself', 'doing', 'least', 'whenever', 'would', 'through', 'off', 'via', 'toward', 'latterly', 'though', 'whereas', 'yourself', 'show', 'become', 'thru', 'it', 'an', 'beforehand', 'nor', 'hereby', 'hence', 'anywhere', 'fifty', 'three', 'wherein', 'among', 'nothing', 'due', 'only', 'but', 'ever', 'whence', 'rather', '‘m', 'hundred', 'much', 'whither', 'every', 'twenty', 'you', 'because', 'ours', 'otherwise', 'third', 'whole', 'seems', 'my', 'below', 'various', 'there', 'across', 'before', 'really', 'back', 'anything', 'him', 're', 'to', 'alone', 'whereupon', 'quite', 'n‘t', 'name', 'they', 'their', 'with', 'your', 'empty', 'as', 'besides', 'what', 'bottom', 'so', 'other', 'neither', 'others', 'either', 'beside', 'herself', '’s', 'elsewhere', 'upon', 'n’t', 'has', 'whoever', 'will', 'once', 'although', 'used', 'forty', 'was', 'over', 'yet', 'last', 'than', 'wherever', 'did', 'anyone', 'never', 'thereafter', 'hers', '‘re', 'well', 'mostly', 'had', 'further', \"'s\", \"n't\", 'again', 'amongst', 'hereupon', 'cannot', 'these', 'on', 'two', 'one', 'everything', 'unless', 'few', 'in', 'around', 'those', 'go', 'formerly', 'until', 'latter', 'very', 'by', 'both', 'sixty', 'our', 'still', 'already', 'yourselves', 'then', 'someone', 'whose', 'say'}\n"
          ]
        }
      ]
    },
    {
      "cell_type": "code",
      "source": [
        "len(nlp.Defaults.stop_words)"
      ],
      "metadata": {
        "colab": {
          "base_uri": "https://localhost:8080/"
        },
        "id": "cnUAtMm3u768",
        "outputId": "ebc78637-747a-4aa8-eae9-2919a186d555"
      },
      "execution_count": 3,
      "outputs": [
        {
          "output_type": "execute_result",
          "data": {
            "text/plain": [
              "326"
            ]
          },
          "metadata": {},
          "execution_count": 3
        }
      ]
    },
    {
      "cell_type": "code",
      "source": [
        "\n",
        "nlp.vocab['myself'].is_stop"
      ],
      "metadata": {
        "colab": {
          "base_uri": "https://localhost:8080/"
        },
        "id": "-W70bhHZu9FJ",
        "outputId": "9f114c82-45e4-46c1-d517-4fc464b0d464"
      },
      "execution_count": 4,
      "outputs": [
        {
          "output_type": "execute_result",
          "data": {
            "text/plain": [
              "True"
            ]
          },
          "metadata": {},
          "execution_count": 4
        }
      ]
    },
    {
      "cell_type": "code",
      "source": [
        "\n",
        "nlp.vocab['mystery'].is_stop"
      ],
      "metadata": {
        "colab": {
          "base_uri": "https://localhost:8080/"
        },
        "id": "ZbLOfUVivBPT",
        "outputId": "a932b9ff-aac5-4827-95bc-24922ea17f1b"
      },
      "execution_count": 5,
      "outputs": [
        {
          "output_type": "execute_result",
          "data": {
            "text/plain": [
              "False"
            ]
          },
          "metadata": {},
          "execution_count": 5
        }
      ]
    },
    {
      "cell_type": "code",
      "source": [
        "# Add the word to the set of stop words. Use lowercase!\n",
        "nlp.Defaults.stop_words.add('btw')\n",
        "\n",
        "# Set the stop_word tag on the lexeme\n",
        "nlp.vocab['btw'].is_stop = True"
      ],
      "metadata": {
        "id": "sey9CQZ2vB19"
      },
      "execution_count": 6,
      "outputs": []
    },
    {
      "cell_type": "code",
      "source": [
        "\n",
        "len(nlp.Defaults.stop_words)"
      ],
      "metadata": {
        "colab": {
          "base_uri": "https://localhost:8080/"
        },
        "id": "eeGVlDy4vKJS",
        "outputId": "8a8203d5-d718-4f9b-cf52-f1d07dbd8cf6"
      },
      "execution_count": 8,
      "outputs": [
        {
          "output_type": "execute_result",
          "data": {
            "text/plain": [
              "327"
            ]
          },
          "metadata": {},
          "execution_count": 8
        }
      ]
    },
    {
      "cell_type": "code",
      "source": [
        "nlp.vocab['btw'].is_stop"
      ],
      "metadata": {
        "colab": {
          "base_uri": "https://localhost:8080/"
        },
        "id": "lMVZ7MJHvL5b",
        "outputId": "00687e58-0d60-47a2-c1bd-36840662febf"
      },
      "execution_count": 9,
      "outputs": [
        {
          "output_type": "execute_result",
          "data": {
            "text/plain": [
              "True"
            ]
          },
          "metadata": {},
          "execution_count": 9
        }
      ]
    },
    {
      "cell_type": "code",
      "source": [
        "# Remove the word from the set of stop words\n",
        "nlp.Defaults.stop_words.remove('beyond')\n",
        "\n",
        "# Remove the stop_word tag from the lexeme\n",
        "nlp.vocab['beyond'].is_stop = False"
      ],
      "metadata": {
        "id": "cbJ9bG3KvOxH"
      },
      "execution_count": 10,
      "outputs": []
    },
    {
      "cell_type": "code",
      "source": [
        "len(nlp.Defaults.stop_words)"
      ],
      "metadata": {
        "colab": {
          "base_uri": "https://localhost:8080/"
        },
        "id": "YQjbR2sZvTWy",
        "outputId": "868642ba-78f1-44f3-aa20-a0281a6b34f3"
      },
      "execution_count": 11,
      "outputs": [
        {
          "output_type": "execute_result",
          "data": {
            "text/plain": [
              "326"
            ]
          },
          "metadata": {},
          "execution_count": 11
        }
      ]
    },
    {
      "cell_type": "code",
      "source": [
        "nlp.vocab['beyond'].is_stop"
      ],
      "metadata": {
        "colab": {
          "base_uri": "https://localhost:8080/"
        },
        "id": "MVDFhWHIvWLj",
        "outputId": "32edd714-bf40-41b5-95d4-e77400981c8b"
      },
      "execution_count": 12,
      "outputs": [
        {
          "output_type": "execute_result",
          "data": {
            "text/plain": [
              "False"
            ]
          },
          "metadata": {},
          "execution_count": 12
        }
      ]
    }
  ]
}