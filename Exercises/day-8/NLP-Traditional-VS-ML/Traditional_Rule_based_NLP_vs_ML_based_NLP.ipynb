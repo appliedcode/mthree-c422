{
  "cells": [
    {
      "cell_type": "markdown",
      "metadata": {
        "id": "YcDfH6jdMXJv"
      },
      "source": [
        "## Rule-based NLP"
      ]
    },
    {
      "cell_type": "code",
      "execution_count": 6,
      "metadata": {
        "colab": {
          "base_uri": "https://localhost:8080/"
        },
        "id": "2PyEHB01Jb3_",
        "outputId": "7703fbee-36a2-4d66-9684-3eaaaea41ef5"
      },
      "outputs": [
        {
          "name": "stdout",
          "output_type": "stream",
          "text": [
            "Detected Intent: Set Meeting\n"
          ]
        }
      ],
      "source": [
        "# Rule-based example using simple pattern matching\n",
        "import re\n",
        "\n",
        "text = \"Please schedule a meeting with Prem tomorrow at 9 AM.\"\n",
        "\n",
        "if re.search(r'\\bplease\\b', text.lower()) and re.search(r'\\b(schedule|book|arrange)\\b', text.lower()):\n",
        "    print(\"Detected Intent: Set Meeting\")\n",
        "else:\n",
        "    print(\"Intent not recognized.\")"
      ]
    },
    {
      "cell_type": "markdown",
      "metadata": {
        "id": "G5-DKa6dMar6"
      },
      "source": [
        "## ML-based NLP"
      ]
    },
    {
      "cell_type": "code",
      "execution_count": 7,
      "metadata": {
        "colab": {
          "base_uri": "https://localhost:8080/"
        },
        "id": "mWQQkAoCJpf4",
        "outputId": "69648798-e980-444f-c51a-1888ae8b46ec"
      },
      "outputs": [
        {
          "name": "stdout",
          "output_type": "stream",
          "text": [
            "Predicted Intent: Set Meeting\n"
          ]
        }
      ],
      "source": [
        "#ML-based NLP\n",
        "import warnings\n",
        "warnings.filterwarnings(\"ignore\", category=UserWarning)\n",
        "from transformers import pipeline, logging\n",
        "logging.set_verbosity_error()\n",
        "\n",
        "# Load zero-shot classification pipeline\n",
        "classifier = pipeline(\"zero-shot-classification\", model=\"facebook/bart-large-mnli\")\n",
        "\n",
        "# Input text\n",
        "text = \"Please schedule a meeting with John tomorrow at 10 AM.\"\n",
        "labels = [\"Set Meeting\", \"Cancel Meeting\", \"Weather Query\"]\n",
        "\n",
        "# Predict intent\n",
        "result = classifier(text, labels)\n",
        "print(\"Predicted Intent:\", result['labels'][0])\n"
      ]
    },
    {
      "cell_type": "code",
      "execution_count": null,
      "metadata": {
        "vscode": {
          "languageId": "markdown"
        }
      },
      "outputs": [],
      "source": [
        "## Exercises\n",
        "\n",
        "1. **Rule-based NLP:**  \n",
        "    Write a rule-based function to detect if a text is asking to cancel a meeting. Test it with the sentence:  \n",
        "    `\"Can you please cancel my meeting with Alice at 2 PM?\"`\n",
        "\n",
        "2. **ML-based NLP:**  \n",
        "    Use the zero-shot classification pipeline to predict the intent for the following text:  \n",
        "    `\"Will it rain tomorrow in New York?\"`  \n",
        "    Use the labels: `[\"Set Meeting\", \"Cancel Meeting\", \"Weather Query\"]`.\n",
        "\n",
        "3. **Custom Labels:**  \n",
        "    Add your own label to the list of intents (e.g., `\"Order Food\"`) and test the classifier with a relevant sentence.\n",
        "\n",
        "4. **Compare Approaches:**  \n",
        "    Compare the output of rule-based and ML-based approaches for the text:  \n",
        "    `\"Please book a meeting with Sarah next Monday.\"`  \n",
        "    Which approach gives a more accurate intent prediction?"
      ]
    }
  ],
  "metadata": {
    "colab": {
      "collapsed_sections": [
        "YcDfH6jdMXJv"
      ],
      "provenance": []
    },
    "kernelspec": {
      "display_name": "Python 3",
      "name": "python3"
    },
    "language_info": {
      "name": "python"
    }
  },
  "nbformat": 4,
  "nbformat_minor": 0
}
