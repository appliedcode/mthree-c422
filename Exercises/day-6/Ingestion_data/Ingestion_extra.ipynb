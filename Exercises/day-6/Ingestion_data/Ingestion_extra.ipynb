{
  "cells": [
    {
      "cell_type": "markdown",
      "metadata": {
        "id": "view-in-github",
        "colab_type": "text"
      },
      "source": [
        "<a href=\"https://colab.research.google.com/github/appliedcode/mthree-c422/blob/main/Exercises/day-6/Ingestion_data/Ingestion_extra.ipynb\" target=\"_parent\"><img src=\"https://colab.research.google.com/assets/colab-badge.svg\" alt=\"Open In Colab\"/></a>"
      ]
    },
    {
      "cell_type": "markdown",
      "source": [
        "# Ingesting Data from REST API and CSV in Google Colab\n",
        "This lab exercise is inspired by the provided image, focusing on demonstrating how to ingest data from a public REST API and a local CSV file. It is suitable for running directly in Google Colab.\n",
        "\n",
        "Load from different data Set\n",
        "- COVID-19(https://disease.sh/v3/covid-19/countries)\n",
        "- Fetch air quality measurements for Los Angeles from OpenAQ.(https://api.openaq.org/v2/measurements?city=Los%20Angeles&limit=10)\n"
      ],
      "metadata": {
        "id": "W4J5zNWUMcF8"
      }
    },
    {
      "cell_type": "code",
      "source": [],
      "metadata": {
        "id": "o8O6Hj30WgO1"
      },
      "execution_count": null,
      "outputs": []
    }
  ],
  "metadata": {
    "colab": {
      "provenance": [],
      "include_colab_link": true
    },
    "kernelspec": {
      "display_name": "Python 3",
      "name": "python3"
    }
  },
  "nbformat": 4,
  "nbformat_minor": 0
}