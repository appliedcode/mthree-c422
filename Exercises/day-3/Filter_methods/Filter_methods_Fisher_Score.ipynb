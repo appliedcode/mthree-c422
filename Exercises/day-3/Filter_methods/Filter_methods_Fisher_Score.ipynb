{
 "cells": [
  {
   "cell_type": "markdown",
   "id": "a11a5551",
   "metadata": {},
   "source": [
    "\n",
    "## Exercise 4: Fisher Score\n",
    "\n",
    "**Problem Description:**  \n",
    "Measure class separability: ratio of between-class to within-class variance.\n",
    "\n",
    "**Solution Overview:**  \n",
    "Implement Fisher score formula and rank features.\n",
    "\n"
   ]
  },
  {
   "cell_type": "code",
   "execution_count": null,
   "id": "46a8abc6",
   "metadata": {
    "vscode": {
     "languageId": "plaintext"
    }
   },
   "outputs": [],
   "source": [
    "!pip install scikit-learn pandas matplotlib seaborn\n",
    "\n",
    "import pandas as pd\n",
    "import numpy as np\n",
    "import matplotlib.pyplot as plt\n",
    "from sklearn.datasets import load_iris\n",
    "from sklearn.feature_selection import VarianceThreshold\n"
   ]
  },
  {
   "cell_type": "code",
   "execution_count": null,
   "id": "66f9653d",
   "metadata": {
    "vscode": {
     "languageId": "plaintext"
    }
   },
   "outputs": [],
   "source": [
    "# 4.1 Compute Fisher scores\n",
    "def fisher_score(X_df, y_arr):\n",
    "    scores = []\n",
    "    classes = np.unique(y_arr)\n",
    "    for col in X_df.columns:\n",
    "        overall_mean = X_df[col].mean()\n",
    "        num = den = 0\n",
    "        for cls in classes:\n",
    "            Xi = X_df[col][y_arr == cls]\n",
    "            num += len(Xi) * (Xi.mean() - overall_mean) ** 2\n",
    "            den += len(Xi) * Xi.var()\n",
    "        scores.append(num / den if den else 0)\n",
    "    return scores\n",
    "\n",
    "fs = fisher_score(X, y)\n",
    "fs_df = pd.DataFrame({'feature': X.columns, 'Fisher_score': fs}).sort_values(by='Fisher_score', ascending=False)\n",
    "print(fs_df)\n"
   ]
  },
  {
   "cell_type": "markdown",
   "id": "1c467032",
   "metadata": {},
   "source": [
    "# 4.2 Analysis\n",
    "- Derive the Fisher score formula from between-class and within-class variances.\n",
    "\n",
    "- Compare Fisher scores to ANOVA F-scores.\n",
    "\n",
    "- Visualize Fisher scores with a bar plot."
   ]
  },
  {
   "cell_type": "markdown",
   "id": "9d3d8247",
   "metadata": {},
   "source": [
    "# Exercise 4: Fisher Score\n",
    "## Analysis to Include in Code"
   ]
  },
  {
   "cell_type": "code",
   "execution_count": null,
   "id": "b25b02a4",
   "metadata": {
    "vscode": {
     "languageId": "plaintext"
    }
   },
   "outputs": [],
   "source": [
    "# Formula Verification\n",
    "# Recompute between/within variances separately for one feature\n",
    "col = X.columns[0]\n",
    "# … compute num, den as in fisher_score(), then compare:\n",
    "print(\"Manual vs. function:\", manual_score, fs[0])\n"
   ]
  },
  {
   "cell_type": "code",
   "execution_count": null,
   "id": "14274a7b",
   "metadata": {
    "vscode": {
     "languageId": "plaintext"
    }
   },
   "outputs": [],
   "source": [
    "# Correlation with ANOVA\n",
    "\n",
    "pd.DataFrame({'ANOVA':anova_df['F_score'], 'Fisher':df_fs['Fisher_score']}).corr()\n"
   ]
  },
  {
   "cell_type": "code",
   "execution_count": null,
   "id": "64657164",
   "metadata": {
    "vscode": {
     "languageId": "plaintext"
    }
   },
   "outputs": [],
   "source": [
    "# Class-wise Distributions\n",
    "\n",
    "top = df_fs['feature'].iloc[0]\n",
    "sns.boxplot(x=y, y=X[top]); plt.title(f\"Class separation on {top}\"); plt.show()\n"
   ]
  }
 ],
 "metadata": {
  "language_info": {
   "name": "python"
  }
 },
 "nbformat": 4,
 "nbformat_minor": 5
}
