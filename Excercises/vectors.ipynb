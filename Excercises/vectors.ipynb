{
  "nbformat": 4,
  "nbformat_minor": 0,
  "metadata": {
    "colab": {
      "provenance": [],
      "authorship_tag": "ABX9TyOcWkPNi6ilkc0+lMQYsniS",
      "include_colab_link": true
    },
    "kernelspec": {
      "name": "python3",
      "display_name": "Python 3"
    },
    "language_info": {
      "name": "python"
    }
  },
  "cells": [
    {
      "cell_type": "markdown",
      "metadata": {
        "id": "view-in-github",
        "colab_type": "text"
      },
      "source": [
        "<a href=\"https://colab.research.google.com/github/appliedcode/mthree-c422/blob/mthree-c422-rama/Excercises/vectors.ipynb\" target=\"_parent\"><img src=\"https://colab.research.google.com/assets/colab-badge.svg\" alt=\"Open In Colab\"/></a>"
      ]
    },
    {
      "cell_type": "markdown",
      "source": [
        "Sentiment Analysis:\n",
        "Vector values\n"
      ],
      "metadata": {
        "id": "IRDxcRJYe_zc"
      }
    },
    {
      "cell_type": "code",
      "source": [
        "!pip install spacy"
      ],
      "metadata": {
        "colab": {
          "base_uri": "https://localhost:8080/"
        },
        "id": "ToeLZRBsf2S2",
        "outputId": "79293d67-9c6e-40d5-f1e1-32d215f26844"
      },
      "execution_count": 1,
      "outputs": [
        {
          "output_type": "stream",
          "name": "stdout",
          "text": [
            "Requirement already satisfied: spacy in /usr/local/lib/python3.11/dist-packages (3.8.7)\n",
            "Requirement already satisfied: spacy-legacy<3.1.0,>=3.0.11 in /usr/local/lib/python3.11/dist-packages (from spacy) (3.0.12)\n",
            "Requirement already satisfied: spacy-loggers<2.0.0,>=1.0.0 in /usr/local/lib/python3.11/dist-packages (from spacy) (1.0.5)\n",
            "Requirement already satisfied: murmurhash<1.1.0,>=0.28.0 in /usr/local/lib/python3.11/dist-packages (from spacy) (1.0.13)\n",
            "Requirement already satisfied: cymem<2.1.0,>=2.0.2 in /usr/local/lib/python3.11/dist-packages (from spacy) (2.0.11)\n",
            "Requirement already satisfied: preshed<3.1.0,>=3.0.2 in /usr/local/lib/python3.11/dist-packages (from spacy) (3.0.10)\n",
            "Requirement already satisfied: thinc<8.4.0,>=8.3.4 in /usr/local/lib/python3.11/dist-packages (from spacy) (8.3.6)\n",
            "Requirement already satisfied: wasabi<1.2.0,>=0.9.1 in /usr/local/lib/python3.11/dist-packages (from spacy) (1.1.3)\n",
            "Requirement already satisfied: srsly<3.0.0,>=2.4.3 in /usr/local/lib/python3.11/dist-packages (from spacy) (2.5.1)\n",
            "Requirement already satisfied: catalogue<2.1.0,>=2.0.6 in /usr/local/lib/python3.11/dist-packages (from spacy) (2.0.10)\n",
            "Requirement already satisfied: weasel<0.5.0,>=0.1.0 in /usr/local/lib/python3.11/dist-packages (from spacy) (0.4.1)\n",
            "Requirement already satisfied: typer<1.0.0,>=0.3.0 in /usr/local/lib/python3.11/dist-packages (from spacy) (0.16.0)\n",
            "Requirement already satisfied: tqdm<5.0.0,>=4.38.0 in /usr/local/lib/python3.11/dist-packages (from spacy) (4.67.1)\n",
            "Requirement already satisfied: numpy>=1.19.0 in /usr/local/lib/python3.11/dist-packages (from spacy) (2.0.2)\n",
            "Requirement already satisfied: requests<3.0.0,>=2.13.0 in /usr/local/lib/python3.11/dist-packages (from spacy) (2.32.3)\n",
            "Requirement already satisfied: pydantic!=1.8,!=1.8.1,<3.0.0,>=1.7.4 in /usr/local/lib/python3.11/dist-packages (from spacy) (2.11.7)\n",
            "Requirement already satisfied: jinja2 in /usr/local/lib/python3.11/dist-packages (from spacy) (3.1.6)\n",
            "Requirement already satisfied: setuptools in /usr/local/lib/python3.11/dist-packages (from spacy) (75.2.0)\n",
            "Requirement already satisfied: packaging>=20.0 in /usr/local/lib/python3.11/dist-packages (from spacy) (25.0)\n",
            "Requirement already satisfied: langcodes<4.0.0,>=3.2.0 in /usr/local/lib/python3.11/dist-packages (from spacy) (3.5.0)\n",
            "Requirement already satisfied: language-data>=1.2 in /usr/local/lib/python3.11/dist-packages (from langcodes<4.0.0,>=3.2.0->spacy) (1.3.0)\n",
            "Requirement already satisfied: annotated-types>=0.6.0 in /usr/local/lib/python3.11/dist-packages (from pydantic!=1.8,!=1.8.1,<3.0.0,>=1.7.4->spacy) (0.7.0)\n",
            "Requirement already satisfied: pydantic-core==2.33.2 in /usr/local/lib/python3.11/dist-packages (from pydantic!=1.8,!=1.8.1,<3.0.0,>=1.7.4->spacy) (2.33.2)\n",
            "Requirement already satisfied: typing-extensions>=4.12.2 in /usr/local/lib/python3.11/dist-packages (from pydantic!=1.8,!=1.8.1,<3.0.0,>=1.7.4->spacy) (4.14.1)\n",
            "Requirement already satisfied: typing-inspection>=0.4.0 in /usr/local/lib/python3.11/dist-packages (from pydantic!=1.8,!=1.8.1,<3.0.0,>=1.7.4->spacy) (0.4.1)\n",
            "Requirement already satisfied: charset-normalizer<4,>=2 in /usr/local/lib/python3.11/dist-packages (from requests<3.0.0,>=2.13.0->spacy) (3.4.2)\n",
            "Requirement already satisfied: idna<4,>=2.5 in /usr/local/lib/python3.11/dist-packages (from requests<3.0.0,>=2.13.0->spacy) (3.10)\n",
            "Requirement already satisfied: urllib3<3,>=1.21.1 in /usr/local/lib/python3.11/dist-packages (from requests<3.0.0,>=2.13.0->spacy) (2.5.0)\n",
            "Requirement already satisfied: certifi>=2017.4.17 in /usr/local/lib/python3.11/dist-packages (from requests<3.0.0,>=2.13.0->spacy) (2025.7.14)\n",
            "Requirement already satisfied: blis<1.4.0,>=1.3.0 in /usr/local/lib/python3.11/dist-packages (from thinc<8.4.0,>=8.3.4->spacy) (1.3.0)\n",
            "Requirement already satisfied: confection<1.0.0,>=0.0.1 in /usr/local/lib/python3.11/dist-packages (from thinc<8.4.0,>=8.3.4->spacy) (0.1.5)\n",
            "Requirement already satisfied: click>=8.0.0 in /usr/local/lib/python3.11/dist-packages (from typer<1.0.0,>=0.3.0->spacy) (8.2.1)\n",
            "Requirement already satisfied: shellingham>=1.3.0 in /usr/local/lib/python3.11/dist-packages (from typer<1.0.0,>=0.3.0->spacy) (1.5.4)\n",
            "Requirement already satisfied: rich>=10.11.0 in /usr/local/lib/python3.11/dist-packages (from typer<1.0.0,>=0.3.0->spacy) (13.9.4)\n",
            "Requirement already satisfied: cloudpathlib<1.0.0,>=0.7.0 in /usr/local/lib/python3.11/dist-packages (from weasel<0.5.0,>=0.1.0->spacy) (0.21.1)\n",
            "Requirement already satisfied: smart-open<8.0.0,>=5.2.1 in /usr/local/lib/python3.11/dist-packages (from weasel<0.5.0,>=0.1.0->spacy) (7.3.0.post1)\n",
            "Requirement already satisfied: MarkupSafe>=2.0 in /usr/local/lib/python3.11/dist-packages (from jinja2->spacy) (3.0.2)\n",
            "Requirement already satisfied: marisa-trie>=1.1.0 in /usr/local/lib/python3.11/dist-packages (from language-data>=1.2->langcodes<4.0.0,>=3.2.0->spacy) (1.2.1)\n",
            "Requirement already satisfied: markdown-it-py>=2.2.0 in /usr/local/lib/python3.11/dist-packages (from rich>=10.11.0->typer<1.0.0,>=0.3.0->spacy) (3.0.0)\n",
            "Requirement already satisfied: pygments<3.0.0,>=2.13.0 in /usr/local/lib/python3.11/dist-packages (from rich>=10.11.0->typer<1.0.0,>=0.3.0->spacy) (2.19.2)\n",
            "Requirement already satisfied: wrapt in /usr/local/lib/python3.11/dist-packages (from smart-open<8.0.0,>=5.2.1->weasel<0.5.0,>=0.1.0->spacy) (1.17.2)\n",
            "Requirement already satisfied: mdurl~=0.1 in /usr/local/lib/python3.11/dist-packages (from markdown-it-py>=2.2.0->rich>=10.11.0->typer<1.0.0,>=0.3.0->spacy) (0.1.2)\n"
          ]
        }
      ]
    },
    {
      "cell_type": "code",
      "source": [
        "!python -m spacy download en_core_web_md\n",
        "!python -m spacy download en_core_web_lg\n",
        "!python -m spacy download en_vectors_web_lg"
      ],
      "metadata": {
        "colab": {
          "base_uri": "https://localhost:8080/"
        },
        "id": "pjq4Qlq1f8HR",
        "outputId": "c4d55543-975c-4904-da9e-a15fdbd4a1e8"
      },
      "execution_count": 2,
      "outputs": [
        {
          "output_type": "stream",
          "name": "stdout",
          "text": [
            "Collecting en-core-web-md==3.8.0\n",
            "  Using cached https://github.com/explosion/spacy-models/releases/download/en_core_web_md-3.8.0/en_core_web_md-3.8.0-py3-none-any.whl (33.5 MB)\n",
            "\u001b[38;5;2m✔ Download and installation successful\u001b[0m\n",
            "You can now load the package via spacy.load('en_core_web_md')\n",
            "\u001b[38;5;3m⚠ Restart to reload dependencies\u001b[0m\n",
            "If you are in a Jupyter or Colab notebook, you may need to restart Python in\n",
            "order to load all the package's dependencies. You can do this by selecting the\n",
            "'Restart kernel' or 'Restart runtime' option.\n",
            "Collecting en-core-web-lg==3.8.0\n",
            "  Downloading https://github.com/explosion/spacy-models/releases/download/en_core_web_lg-3.8.0/en_core_web_lg-3.8.0-py3-none-any.whl (400.7 MB)\n",
            "\u001b[2K     \u001b[90m━━━━━━━━━━━━━━━━━━━━━━━━━━━━━━━━━━━━━━━\u001b[0m \u001b[32m400.7/400.7 MB\u001b[0m \u001b[31m2.8 MB/s\u001b[0m eta \u001b[36m0:00:00\u001b[0m\n",
            "\u001b[?25h\u001b[38;5;2m✔ Download and installation successful\u001b[0m\n",
            "You can now load the package via spacy.load('en_core_web_lg')\n",
            "\u001b[38;5;3m⚠ Restart to reload dependencies\u001b[0m\n",
            "If you are in a Jupyter or Colab notebook, you may need to restart Python in\n",
            "order to load all the package's dependencies. You can do this by selecting the\n",
            "'Restart kernel' or 'Restart runtime' option.\n",
            "\n",
            "\u001b[38;5;1m✘ No compatible package found for 'en_vectors_web_lg' (spaCy\n",
            "v3.8.7)\u001b[0m\n",
            "\n"
          ]
        }
      ]
    },
    {
      "cell_type": "code",
      "source": [
        "# Import spaCy and load the language library\n",
        "import spacy\n",
        "nlp = spacy.load('en_core_web_md')  # make sure to use a larger model!"
      ],
      "metadata": {
        "id": "cXilgpa8giD0"
      },
      "execution_count": 3,
      "outputs": []
    },
    {
      "cell_type": "code",
      "source": [
        "nlp(u'lion').vector"
      ],
      "metadata": {
        "colab": {
          "base_uri": "https://localhost:8080/"
        },
        "id": "YU4YOr5Igm6x",
        "outputId": "43f57eae-d24d-4cf7-8299-b4ba2765c8b7"
      },
      "execution_count": 4,
      "outputs": [
        {
          "output_type": "execute_result",
          "data": {
            "text/plain": [
              "array([-0.76275  , -0.2074   ,  0.32124  , -0.45817  , -0.36041  ,\n",
              "        0.60152  ,  0.74492  ,  0.079701 , -0.23428  ,  0.31224  ,\n",
              "       -0.43189  ,  0.20746  , -0.40774  , -0.2538   , -0.12308  ,\n",
              "       -0.39652  ,  0.2361   ,  0.20473  ,  0.49645  ,  0.26983  ,\n",
              "       -0.45623  ,  0.20879  , -0.0027486,  0.050435 , -0.003348 ,\n",
              "       -0.088146 , -0.53855  ,  0.42507  , -0.70535  , -0.31984  ,\n",
              "       -0.56023  , -0.042877 ,  0.31083  , -0.23038  ,  0.43657  ,\n",
              "        0.18436  ,  0.52997  , -0.1038   ,  0.010579 ,  0.5373   ,\n",
              "       -0.64911  ,  0.15171  , -0.13305  , -0.17798  ,  0.083277 ,\n",
              "       -0.15615  , -0.1446   , -0.27032  ,  0.19693  ,  0.22867  ,\n",
              "       -0.5745   ,  0.16468  ,  0.029028 ,  0.66735  , -0.13859  ,\n",
              "        0.51194  , -0.029928 ,  0.11792  , -0.15589  ,  0.69151  ,\n",
              "        0.19838  ,  0.032428 ,  0.37526  ,  0.099998 , -0.48631  ,\n",
              "       -0.13605  ,  0.5295   , -0.089214 ,  0.34458  ,  0.19393  ,\n",
              "        0.012607 , -0.1999   , -0.38105  , -0.05991  , -0.81039  ,\n",
              "        0.16744  , -0.71753  , -0.45249  , -0.15331  , -0.63738  ,\n",
              "       -0.65694  , -0.18735  ,  0.63503  ,  0.21831  ,  0.25238  ,\n",
              "       -0.28389  ,  0.92852  ,  0.27839  ,  0.23513  , -0.17551  ,\n",
              "        0.27253  , -0.069459 ,  0.28146  , -0.72036  , -0.21074  ,\n",
              "        0.2844   , -0.56551  , -0.088767 , -0.53687  ,  0.32924  ,\n",
              "        0.018555 ,  0.44599  ,  0.53125  ,  0.33813  , -0.2496   ,\n",
              "       -1.3837   , -0.6186   ,  0.16952  ,  0.41993  , -0.14406  ,\n",
              "        0.49195  , -0.44095  ,  0.22829  , -0.3835   ,  0.37375  ,\n",
              "        0.017091 ,  0.7226   , -0.059622 ,  0.18684  ,  0.38005  ,\n",
              "        0.49409  ,  0.048001 ,  0.64468  , -0.3216   , -0.36432  ,\n",
              "       -0.073444 , -0.016888 , -0.33217  , -0.87165  , -0.096356 ,\n",
              "        0.098888 , -0.8651   ,  0.0093075,  0.27166  ,  0.088393 ,\n",
              "       -0.39287  , -0.043349 , -0.1348   ,  0.25003  , -0.042534 ,\n",
              "       -1.6471   ,  0.13621  , -0.09254  ,  0.0056756,  0.73089  ,\n",
              "       -0.60677  , -0.098333 ,  0.31013  ,  0.24706  , -0.04379  ,\n",
              "       -0.32615  , -0.066207 ,  0.14114  , -0.77077  , -0.29903  ,\n",
              "        0.23375  , -0.34266  ,  0.39098  ,  0.57531  , -0.10536  ,\n",
              "        0.037208 ,  0.13038  , -0.5205   , -0.069537 ,  0.15813  ,\n",
              "        0.32067  , -0.26295  , -0.22167  ,  0.0075272,  0.20216  ,\n",
              "        0.026607 , -0.074615 ,  0.080685 ,  0.048114 , -0.66353  ,\n",
              "        0.22107  ,  0.24209  , -0.1021   ,  0.305    ,  0.14341  ,\n",
              "       -0.054846 , -0.11603  , -0.24537  ,  0.27788  , -0.2664   ,\n",
              "       -0.3657   ,  0.14288  , -0.73955  , -0.2029   , -0.46982  ,\n",
              "       -0.2818   ,  0.55073  , -0.20431  ,  0.46961  ,  0.14369  ,\n",
              "        0.25199  ,  0.54011  , -0.44682  ,  0.22835  , -0.56032  ,\n",
              "       -0.563    ,  0.28263  , -0.36653  ,  0.0044703,  0.41113  ,\n",
              "        0.45625  ,  0.2533   ,  0.10798  , -0.09376  , -0.47141  ,\n",
              "        0.074787 ,  0.6536   ,  0.11043  ,  0.33477  , -0.59218  ,\n",
              "       -0.45336  ,  0.15047  ,  0.70703  ,  0.31043  ,  0.48735  ,\n",
              "        0.36108  ,  0.027264 ,  0.01392  , -0.1515   , -0.29762  ,\n",
              "        0.17523  ,  0.96212  ,  0.36939  ,  0.26589  ,  0.10913  ,\n",
              "       -0.03072  , -0.23175  , -0.4      , -0.095803 , -0.024775 ,\n",
              "        0.14012  , -0.72798  , -0.13216  ,  0.39832  ,  0.030282 ,\n",
              "       -0.047631 , -0.060496 ,  0.12715  , -0.86461  , -0.20217  ,\n",
              "        0.32554  , -0.11635  , -0.099599 , -0.048509 , -0.45854  ,\n",
              "        0.098873 , -0.27002  , -0.25829  ,  0.10591  ,  0.38639  ,\n",
              "        0.077101 ,  0.5914   ,  0.32764  ,  0.15978  ,  0.081    ,\n",
              "        0.07582  ,  0.32709  , -0.015143 ,  0.2692   ,  0.14536  ,\n",
              "        0.49708  ,  0.20422  , -0.30185  , -0.74162  ,  0.28929  ,\n",
              "        0.29051  ,  0.026477 ,  0.23335  ,  0.11181  ,  0.42294  ,\n",
              "        0.72279  ,  0.33024  , -0.37637  ,  0.13693  , -0.50228  ,\n",
              "        0.062155 ,  0.43698  , -0.18967  , -0.43764  ,  0.44629  ,\n",
              "       -0.1434   ,  0.064268 , -0.56959  , -0.066664 , -0.46406  ,\n",
              "       -0.0044868, -0.062906 , -0.86369  , -0.16995  , -0.62189  ,\n",
              "        0.55016  ,  0.09481  , -0.042774 ,  0.17285  , -0.55231  ],\n",
              "      dtype=float32)"
            ]
          },
          "metadata": {},
          "execution_count": 4
        }
      ]
    },
    {
      "cell_type": "code",
      "source": [
        "doc = nlp(u'The quick brown fox jumped over the lazy dogs.')\n",
        "\n",
        "doc.vector"
      ],
      "metadata": {
        "colab": {
          "base_uri": "https://localhost:8080/"
        },
        "id": "ZAaxA_tNgpLD",
        "outputId": "87a691b1-d665-4586-afa0-292cc6375b5d"
      },
      "execution_count": 5,
      "outputs": [
        {
          "output_type": "execute_result",
          "data": {
            "text/plain": [
              "array([-6.97969019e-01,  5.56670018e-02, -1.62355408e-01,  2.68360879e-02,\n",
              "       -9.58139636e-03, -2.15498973e-02, -2.48151012e-02, -1.04111791e-01,\n",
              "        1.09173097e-01,  1.64876401e+00, -8.64830017e-02, -9.60250050e-02,\n",
              "       -6.10291585e-02, -1.34389028e-02, -1.50561988e-01,  9.28654969e-02,\n",
              "       -1.34864897e-01,  8.72585893e-01, -1.22531809e-01, -1.88338920e-01,\n",
              "       -6.95055947e-02,  6.75773025e-02,  7.23951012e-02, -2.42390200e-01,\n",
              "       -3.19726020e-02, -1.53924689e-01, -1.00833908e-01, -3.65620442e-02,\n",
              "       -9.96995121e-02, -2.87402004e-01, -2.31279328e-01,  1.94752514e-01,\n",
              "        1.13083087e-01, -8.84450302e-02,  1.84483200e-01,  1.19909093e-01,\n",
              "       -1.52591199e-01,  1.30020012e-03, -2.64751583e-01,  3.17928940e-02,\n",
              "        1.35594696e-01,  2.74599949e-03, -8.38430375e-02,  2.13983003e-02,\n",
              "        1.69815883e-01, -3.98678072e-02, -9.36224982e-02, -1.14555992e-01,\n",
              "        5.26507981e-02, -6.80560023e-02, -2.47021005e-01,  1.88996404e-01,\n",
              "       -1.35233002e-02, -1.08555399e-01,  3.28175984e-02, -3.33540956e-03,\n",
              "       -4.65659946e-02,  4.84490255e-03, -8.50021988e-02, -2.40363032e-02,\n",
              "       -2.62561999e-02, -1.70882702e-01, -2.53321286e-02,  1.72686070e-01,\n",
              "        7.43986890e-02, -4.75063510e-02, -3.45188975e-02, -3.74681205e-02,\n",
              "        7.36399740e-03,  1.25723124e-01,  1.23239994e-01,  2.04273507e-01,\n",
              "        2.16775507e-01, -1.43707603e-01,  3.77947986e-02,  9.93584022e-02,\n",
              "       -8.33669864e-03,  6.82813898e-02,  2.00422890e-02,  1.00890072e-02,\n",
              "       -1.22512102e-01,  5.75500019e-02, -1.11881338e-01, -1.28407003e-02,\n",
              "        1.89029008e-01, -2.18561500e-01,  7.20696032e-01,  9.61229950e-02,\n",
              "        3.73480655e-02, -6.14963956e-02, -7.80939013e-02,  3.13402707e-04,\n",
              "        7.28948042e-02, -4.57428023e-02, -1.81010030e-02, -9.42156911e-02,\n",
              "        1.37190074e-02, -1.34779988e-02,  1.55210704e-01, -1.45358294e-01,\n",
              "        2.61056013e-02,  6.77045062e-02, -1.78097978e-01,  1.69147700e-01,\n",
              "        1.72978804e-01, -1.21178603e+00,  1.06717095e-01, -2.29124352e-01,\n",
              "        8.58329758e-02, -3.99854891e-02, -9.00848061e-02, -1.46473899e-01,\n",
              "        2.77108010e-02, -2.27172613e-01,  6.48062080e-02, -4.63982001e-02,\n",
              "       -8.94155502e-02, -2.05056578e-01, -3.75589868e-03, -1.37561798e-01,\n",
              "        1.11509301e-01,  7.72319958e-02, -3.69155034e-02, -2.55482018e-01,\n",
              "       -9.00766999e-02, -1.14864465e-02,  1.21636510e-01, -1.48627058e-01,\n",
              "       -1.47031978e-01, -6.90920949e-02, -9.18409452e-02, -1.35908693e-01,\n",
              "       -1.71544012e-02,  1.57394320e-01,  1.89407080e-01, -4.87791076e-02,\n",
              "       -2.50880003e-01,  7.75157958e-02, -1.12594627e-01, -1.12058995e-02,\n",
              "       -1.69728398e+00,  2.77558062e-02,  1.06831506e-01,  3.34906988e-02,\n",
              "        5.58129959e-02, -1.14476100e-01,  2.54190271e-03,  6.39476925e-02,\n",
              "       -3.92444953e-02,  5.51191978e-02,  3.08099054e-02,  1.66446805e-01,\n",
              "        7.70618021e-02, -9.30443034e-02, -7.02572092e-02,  1.09060608e-01,\n",
              "       -9.61487070e-02,  1.49903893e-01,  1.74073111e-02, -3.44825983e-01,\n",
              "        1.17115201e-02,  1.81841068e-02,  1.46309882e-01,  8.84154961e-02,\n",
              "       -1.36591997e-02, -7.39593059e-02,  6.28561601e-02,  5.64795732e-02,\n",
              "       -7.02197030e-02, -2.82131016e-01,  1.46378800e-01, -7.71070942e-02,\n",
              "        1.24090014e-03, -1.75753012e-01, -3.54715027e-02, -1.53869003e-01,\n",
              "       -1.10804603e-01, -1.53412055e-02,  1.19799599e-01, -9.17747710e-03,\n",
              "       -4.84539010e-02, -1.15935043e-01, -2.95894980e-01, -3.53449024e-02,\n",
              "       -5.26200160e-02,  3.67775075e-02,  1.60048995e-02, -1.15203999e-01,\n",
              "        5.38403578e-02, -3.32610607e-02,  1.59010902e-01, -1.16736427e-01,\n",
              "        4.51509990e-02,  2.27913894e-02, -1.94491789e-01, -8.75983015e-02,\n",
              "        9.42104533e-02, -1.11932814e-01, -8.08437839e-02,  3.31156030e-02,\n",
              "       -9.43058878e-02,  2.00567357e-02, -1.68588787e-01, -2.96641029e-02,\n",
              "        6.21296987e-02, -3.07505038e-02, -5.99355996e-02, -2.65371054e-02,\n",
              "        5.43709844e-03,  8.55071098e-02, -1.07531801e-01,  1.26163960e-02,\n",
              "        4.64819893e-02,  6.39289916e-02, -7.97089934e-02,  9.72560141e-03,\n",
              "        6.88709924e-03, -8.42630044e-02, -1.19331501e-01, -1.67900021e-03,\n",
              "       -3.99020314e-02,  1.03048205e-01, -1.61388993e-01, -1.48317933e-01,\n",
              "       -3.93679962e-02, -2.02896386e-01, -9.87505019e-02,  8.07022601e-02,\n",
              "        4.41474020e-02,  1.76654011e-01,  2.62683984e-02, -7.93793947e-02,\n",
              "        1.39207110e-01, -7.38023967e-02, -1.29157025e-02, -2.50987951e-02,\n",
              "       -1.70146376e-02, -9.15018022e-02,  6.75814003e-02,  2.33881958e-02,\n",
              "       -1.34711400e-01, -7.31750950e-02, -9.58182067e-02, -1.28562925e-02,\n",
              "        1.40431061e-01, -6.91495016e-02, -1.62663490e-01, -9.46620107e-02,\n",
              "       -7.95475021e-02,  2.11946607e-01, -1.38161704e-01, -5.69266975e-02,\n",
              "        1.17019795e-01, -5.30205555e-02, -2.82658990e-02,  2.98956573e-01,\n",
              "        9.44230035e-02,  1.02056503e-01, -9.40431058e-02,  8.79367813e-02,\n",
              "       -2.00690068e-02,  5.93263023e-02,  1.45747187e-02,  7.91149959e-02,\n",
              "        1.08285904e-01,  1.29153030e-02, -6.00445047e-02, -5.99688962e-02,\n",
              "       -2.02149991e-02,  2.29536504e-01,  1.57987028e-02,  3.83144692e-02,\n",
              "       -1.84982702e-01, -2.16106012e-01, -2.40465596e-01, -2.55303979e-02,\n",
              "        8.24732929e-02, -8.68296996e-02, -6.60696998e-02,  2.32978195e-01,\n",
              "        2.27235600e-01,  1.29432557e-02, -3.69523987e-02,  2.49785073e-02,\n",
              "        6.72871992e-02,  3.25071990e-01,  1.16785862e-01, -3.31918001e-02,\n",
              "        1.51209801e-01,  1.20007992e-01,  6.90976391e-03,  1.23545602e-01,\n",
              "       -1.55540496e-01, -1.72495350e-01, -6.02621958e-02,  1.60273597e-01,\n",
              "        9.22757238e-02, -1.70343280e-01,  1.41861200e-01,  9.31753069e-02],\n",
              "      dtype=float32)"
            ]
          },
          "metadata": {},
          "execution_count": 5
        }
      ]
    },
    {
      "cell_type": "markdown",
      "source": [
        "Identifying similar ones\n"
      ],
      "metadata": {
        "id": "1FW2Z1v9gyKD"
      }
    },
    {
      "cell_type": "code",
      "source": [
        "# Create a three-token Doc object:\n",
        "tokens = nlp(u'lion cat pet')\n",
        "\n",
        "# Iterate through token combinations:\n",
        "for token1 in tokens:\n",
        "    for token2 in tokens:\n",
        "        print(token1.text, token2.text, token1.similarity(token2))"
      ],
      "metadata": {
        "colab": {
          "base_uri": "https://localhost:8080/"
        },
        "id": "tHyD5mlOg01_",
        "outputId": "5c03f4cd-ce49-4e79-f7d8-5979d64d146f"
      },
      "execution_count": 6,
      "outputs": [
        {
          "output_type": "stream",
          "name": "stdout",
          "text": [
            "lion lion 1.0\n",
            "lion cat 0.31077107787132263\n",
            "lion pet 0.31077107787132263\n",
            "cat lion 0.31077107787132263\n",
            "cat cat 1.0\n",
            "cat pet 1.0000001192092896\n",
            "pet lion 0.31077107787132263\n",
            "pet cat 1.0000001192092896\n",
            "pet pet 1.0\n"
          ]
        }
      ]
    },
    {
      "cell_type": "code",
      "source": [
        "# For brevity, assign each token a name\n",
        "a,b,c = tokens\n",
        "\n",
        "# Display as a Markdown table (this only works in Jupyter!)\n",
        "from IPython.display import Markdown, display\n",
        "display(Markdown(f'<table><tr><th></th><th>{a.text}</th><th>{b.text}</th><th>{c.text}</th></tr>\\\n",
        "<tr><td>**{a.text}**</td><td>{a.similarity(a):{.4}}</td><td>{b.similarity(a):{.4}}</td><td>{c.similarity(a):{.4}}</td></tr>\\\n",
        "<tr><td>**{b.text}**</td><td>{a.similarity(b):{.4}}</td><td>{b.similarity(b):{.4}}</td><td>{c.similarity(b):{.4}}</td></tr>\\\n",
        "<tr><td>**{c.text}**</td><td>{a.similarity(c):{.4}}</td><td>{b.similarity(c):{.4}}</td><td>{c.similarity(c):{.4}}</td></tr>'))"
      ],
      "metadata": {
        "colab": {
          "base_uri": "https://localhost:8080/",
          "height": 142
        },
        "id": "AqcQo425g8u6",
        "outputId": "21bdd254-c79c-4e62-b447-1bf00fe5798c"
      },
      "execution_count": 7,
      "outputs": [
        {
          "output_type": "display_data",
          "data": {
            "text/plain": [
              "<IPython.core.display.Markdown object>"
            ],
            "text/markdown": "<table><tr><th></th><th>lion</th><th>cat</th><th>pet</th></tr><tr><td>**lion**</td><td>1.0</td><td>0.3108</td><td>0.3108</td></tr><tr><td>**cat**</td><td>0.3108</td><td>1.0</td><td>1.0</td></tr><tr><td>**pet**</td><td>0.3108</td><td>1.0</td><td>1.0</td></tr>"
          },
          "metadata": {}
        }
      ]
    },
    {
      "cell_type": "code",
      "source": [
        "nlp(u'lion').similarity(nlp(u'dandelion'))"
      ],
      "metadata": {
        "colab": {
          "base_uri": "https://localhost:8080/"
        },
        "id": "AN_woEuAhBaH",
        "outputId": "434c9d80-d880-4517-93f4-85164caea092"
      },
      "execution_count": 8,
      "outputs": [
        {
          "output_type": "execute_result",
          "data": {
            "text/plain": [
              "0.344340443611145"
            ]
          },
          "metadata": {},
          "execution_count": 8
        }
      ]
    },
    {
      "cell_type": "code",
      "source": [
        "# Create a three-token Doc object:\n",
        "tokens = nlp(u'like love hate')\n",
        "\n",
        "# Iterate through token combinations:\n",
        "for token1 in tokens:\n",
        "    for token2 in tokens:\n",
        "        print(token1.text, token2.text, token1.similarity(token2))"
      ],
      "metadata": {
        "colab": {
          "base_uri": "https://localhost:8080/"
        },
        "id": "iI5_U0nShF3e",
        "outputId": "544a37e6-a69b-4361-8344-e8e1986c0a49"
      },
      "execution_count": 9,
      "outputs": [
        {
          "output_type": "stream",
          "name": "stdout",
          "text": [
            "like like 1.0\n",
            "like love 1.0\n",
            "like hate 1.0\n",
            "love like 1.0\n",
            "love love 1.0\n",
            "love hate 1.0\n",
            "hate like 1.0\n",
            "hate love 1.0\n",
            "hate hate 1.0\n"
          ]
        }
      ]
    },
    {
      "cell_type": "code",
      "source": [
        "tokens = nlp(u'dog cat nargle')\n",
        "\n",
        "for token in tokens:\n",
        "    print(token.text, token.has_vector, token.vector_norm, token.is_oov)"
      ],
      "metadata": {
        "colab": {
          "base_uri": "https://localhost:8080/"
        },
        "id": "9FVeM-2UhKWw",
        "outputId": "92a601c2-ce77-4fcb-d926-d6a1f6d39c69"
      },
      "execution_count": 10,
      "outputs": [
        {
          "output_type": "stream",
          "name": "stdout",
          "text": [
            "dog True 7.443447 False\n",
            "cat True 7.443447 False\n",
            "nargle False 0.0 True\n"
          ]
        }
      ]
    },
    {
      "cell_type": "code",
      "source": [
        "from scipy import spatial\n",
        "\n",
        "cosine_similarity = lambda x, y: 1 - spatial.distance.cosine(x, y)\n",
        "\n",
        "king = nlp.vocab['king'].vector\n",
        "man = nlp.vocab['man'].vector\n",
        "woman = nlp.vocab['woman'].vector\n",
        "\n",
        "# Now we find the closest vector in the vocabulary to the result of \"man\" - \"woman\" + \"queen\"\n",
        "new_vector = king - man + woman\n",
        "computed_similarities = []\n",
        "\n",
        "for word in nlp.vocab:\n",
        "    # Ignore words without vectors and mixed-case words:\n",
        "    if word.has_vector:\n",
        "        if word.is_lower:\n",
        "            if word.is_alpha:\n",
        "                similarity = cosine_similarity(new_vector, word.vector)\n",
        "                computed_similarities.append((word, similarity))\n",
        "\n",
        "computed_similarities = sorted(computed_similarities, key=lambda item: -item[1])\n",
        "\n",
        "print([w[0].text for w in computed_similarities[:10]])"
      ],
      "metadata": {
        "colab": {
          "base_uri": "https://localhost:8080/"
        },
        "id": "k0VgSMaVhP_A",
        "outputId": "4912daa0-ad97-454d-a9f8-d0b65e0f90e4"
      },
      "execution_count": 11,
      "outputs": [
        {
          "output_type": "stream",
          "name": "stdout",
          "text": [
            "['woman', 'king', 'brown', 'll', 'lazy', 'got', 'has', 'lovin', 'ol', 'n']\n"
          ]
        }
      ]
    }
  ]
}