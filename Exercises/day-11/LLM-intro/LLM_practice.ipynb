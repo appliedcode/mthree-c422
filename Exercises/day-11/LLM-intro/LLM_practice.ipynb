{
  "nbformat": 4,
  "nbformat_minor": 0,
  "metadata": {
    "colab": {
      "provenance": [],
      "authorship_tag": "ABX9TyO/Th4KMc/fqnON2UFZ4LLr",
      "include_colab_link": true
    },
    "kernelspec": {
      "name": "python3",
      "display_name": "Python 3"
    },
    "language_info": {
      "name": "python"
    }
  },
  "cells": [
    {
      "cell_type": "markdown",
      "metadata": {
        "id": "view-in-github",
        "colab_type": "text"
      },
      "source": [
        "<a href=\"https://colab.research.google.com/github/appliedcode/mthree-c422/blob/mthree-422-salleh/Exercises/day-11/LLM-intro/LLM_practice.ipynb\" target=\"_parent\"><img src=\"https://colab.research.google.com/assets/colab-badge.svg\" alt=\"Open In Colab\"/></a>"
      ]
    },
    {
      "cell_type": "markdown",
      "source": [
        "## 🎯 Self-Study Exercises: Exploring Prompt Engineering Patterns\n",
        "\n",
        "### Exercise 1: Instruction Clarity and Detail\n",
        "\n",
        "- Write a prompt asking an AI to explain how photosynthesis works.\n",
        "- Try two versions:\n",
        "a) Give a brief explanation in 3 sentences.\n",
        "b) Give a detailed explanation with examples, formatted in bullet points.\n",
        "- Compare the length, clarity, and completeness of the outputs.\n",
        "\n",
        "***\n",
        "\n",
        "### Exercise 2: Few-Shot Learning\n",
        "\n",
        "- Create a few-shot prompt that shows how to politely decline an invitation in English and French.\n",
        "- Provide 2 examples (English phrase + French translation).\n",
        "- Add a new English phrase and ask the model to provide the French translation.\n",
        "- Experiment by changing the number of examples and observe changes.\n",
        "\n",
        "***\n",
        "\n",
        "### Exercise 3: Persona Roleplay\n",
        "\n",
        "- Write a prompt instructing the model to behave as a friendly travel guide for Tokyo.\n",
        "- Ask for recommendations on places to visit and food to try.\n",
        "- Rewrite the prompt to roleplay as a strict tour manager focusing on timing and schedules.\n",
        "- Note the differences in tone and content.\n",
        "\n",
        "***\n",
        "\n",
        "### Exercise 4: Recipe and Alternatives\n",
        "\n",
        "- Request a recipe for improving daily productivity.\n",
        "- Ask the model to suggest two alternative approaches, each with advantages and disadvantages.\n",
        "- Modify the prompt to ask for a creative approach and a scientific approach instead.\n",
        "- See how the style and content vary.\n",
        "\n",
        "***\n",
        "\n",
        "### Exercise 5: Flipped Interaction / Ask-for-Input\n",
        "\n",
        "- Write an initial prompt that instructs the AI to interview you with 3 questions to understand your favorite hobbies.\n",
        "- Use the model’s questions to build a personalized weekend plan based on your answers.\n",
        "- Try making the AI summarize your answers before giving the plan.\n",
        "- Test how the interaction feels when you answer in multiple turns.\n",
        "\n",
        "***\n",
        "\n",
        "### Exercise 6: Menu / Command Syntax\n",
        "\n",
        "- Define a small command menu using this pattern:\n",
        "\n",
        "```\n",
        "ACTION = Translate, Summarize, Explain  \n",
        "FORMAT = Plain, Bullets, Numbered  \n",
        "LANGUAGE = English, French, Spanish  \n",
        "\n",
        "Command: ACTION=Translate; FORMAT=Numbered; LANGUAGE=Spanish; TEXT=\"Machine learning improves over time.\"\n",
        "```\n",
        "\n",
        "- Run this prompt and observe output.\n",
        "- Change commands to translate into French, summarize in bullets, and explain in plain English.\n",
        "- Expand the command with additional options like STYLE = Formal, Casual and test.\n",
        "\n",
        "***\n",
        "\n",
        "### Exercise 7: Controlling Output Length and Style\n",
        "\n",
        "- Ask the model to describe “Artificial Intelligence” in:\n",
        "a) a tweet (280 characters max)\n",
        "b) a formal academic abstract (~150 words)\n",
        "c) a children’s story (simple language)\n",
        "- Observe how the style and complexity change with length constraints.\n",
        "\n",
        "***\n",
        "\n",
        "### Exercise 8: Multi-turn Conversation Simulation\n",
        "\n",
        "- Simulate a customer support dialogue where the AI asks clarifying questions before providing a solution to a printer issue.\n",
        "- Write prompt instructions to make the AI confirm your answers before continuing.\n",
        "- Try chaining multiple prompts and see how memory of conversation context influences coherence.\n",
        "\n",
        "***\n",
        "\n",
        "### Reflection Questions for Self-Review\n",
        "\n",
        "- Which prompts resulted in the most relevant and coherent answers?\n",
        "- How did instructions and personas influence tone and style?\n",
        "- Did few-shot examples improve output quality or consistency?\n",
        "- How effective was the menu/command syntax in structuring the response?\n",
        "- How did controlling verbosity and formatting shape the clarity of information?\n",
        "- What challenges did you face in multi-turn dialogue simulation?\n",
        "\n",
        "***"
      ],
      "metadata": {
        "id": "qV39Ug84Qx6c"
      }
    },
    {
      "cell_type": "code",
      "execution_count": 1,
      "metadata": {
        "colab": {
          "base_uri": "https://localhost:8080/"
        },
        "id": "S3_LueScQlp5",
        "outputId": "e6b220af-26e4-4aa2-8d91-ff0bba52f5ec"
      },
      "outputs": [
        {
          "output_type": "stream",
          "name": "stdout",
          "text": [
            "✅ OpenAI API key loaded safely\n"
          ]
        }
      ],
      "source": [
        "from google.colab import userdata\n",
        "import os\n",
        "\n",
        "# Set your OpenAI API key securely in Colab Secrets (once)\n",
        "# userdata.set(\"OPENAI_API_KEY\", \"mhthree_secret\")\n",
        "\n",
        "# Retrieve key in your notebook\n",
        "openai_api_key = userdata.get(\"mhthree_secret\")\n",
        "if openai_api_key:\n",
        "    os.environ[\"OPENAI_API_KEY\"] = openai_api_key\n",
        "    print(\"✅ OpenAI API key loaded safely\")\n",
        "else:\n",
        "    print(\"❌ OpenAI API key not found. Please set it using Colab Secrets.\")"
      ]
    },
    {
      "cell_type": "code",
      "source": [
        "!pip install --quiet openai -q"
      ],
      "metadata": {
        "id": "vOgDxJO8RMGW"
      },
      "execution_count": 2,
      "outputs": []
    },
    {
      "cell_type": "code",
      "source": [
        "# Create client\n",
        "from openai import OpenAI\n",
        "client = OpenAI(api_key=os.environ[\"OPENAI_API_KEY\"])"
      ],
      "metadata": {
        "id": "XZkPER7rRVui"
      },
      "execution_count": 3,
      "outputs": []
    },
    {
      "cell_type": "code",
      "source": [
        "# Exercise 1_1 – Instruction Clarity and Detail\n",
        "prompt = \"You are a primary school teacher. Explain how photosynthesis works by giving a brief explanation in 3 sentences. \"\n",
        "\n",
        "resp = client.chat.completions.create(\n",
        "    model=\"gpt-4o-mini\",\n",
        "    messages=[{\"role\": \"system\", \"content\": \"You are a helpful assistant.\"},\n",
        "              {\"role\": \"user\", \"content\": prompt}],\n",
        "    max_tokens=150\n",
        ")\n",
        "print(resp.choices[0].message.content)\n"
      ],
      "metadata": {
        "colab": {
          "base_uri": "https://localhost:8080/"
        },
        "id": "S4AYpEwoRrFR",
        "outputId": "b7838246-d38a-4ca8-f749-5462d380610e"
      },
      "execution_count": 9,
      "outputs": [
        {
          "output_type": "stream",
          "name": "stdout",
          "text": [
            "Photosynthesis is the process that plants use to make their own food. They take in sunlight, carbon dioxide from the air, and water from the soil to create glucose (a type of sugar) and oxygen. This process happens mainly in the leaves, where tiny structures called chloroplasts capture sunlight to help convert these ingredients into energy for the plant.\n"
          ]
        }
      ]
    },
    {
      "cell_type": "code",
      "source": [
        "# Exercise 1_1 – Instruction Clarity and Detail\n",
        "prompt = \"You are a secondary school teacher writing notes for your students. Explain how photosynthesis works by giving a detailed explanation with examples, formatted in bullet points. \"\n",
        "\n",
        "\n",
        "resp = client.chat.completions.create(\n",
        "    model=\"gpt-4o-mini\",\n",
        "    messages=[{\"role\": \"system\", \"content\": \"You are a helpful assistant.\"},\n",
        "              {\"role\": \"user\", \"content\": prompt}],\n",
        "    max_tokens=150\n",
        ")\n",
        "print(resp.choices[0].message.content)\n"
      ],
      "metadata": {
        "colab": {
          "base_uri": "https://localhost:8080/"
        },
        "id": "IAlBfFXGSp4d",
        "outputId": "1efe9bf7-51a0-4cc4-fd23-d3f15fe5af8d"
      },
      "execution_count": 10,
      "outputs": [
        {
          "output_type": "stream",
          "name": "stdout",
          "text": [
            "### Photosynthesis: Understanding the Process\n",
            "\n",
            "Photosynthesis is the process by which green plants, algae, and some bacteria convert light energy into chemical energy. This process is essential for life on Earth, as it produces oxygen and organic compounds that serve as food for various organisms. Below is a detailed explanation of how photosynthesis works, broken down into its key components and stages.\n",
            "\n",
            "#### Key Components of Photosynthesis\n",
            "\n",
            "- **Chlorophyll**:\n",
            "  - The green pigment found in the chloroplasts of plants.\n",
            "  - Absorbs light energy, primarily from the sun.\n",
            "  \n",
            "- **Chloroplasts**:\n",
            "  - Specialized organelles in plant cells where photosynthesis occurs.\n",
            "  - Contain chlorophyll and other pigments involved in the process\n"
          ]
        }
      ]
    },
    {
      "cell_type": "code",
      "source": [
        "# Exercise 2_1 – Few‑Shot Learning - vous\n",
        "few_shot = \"\"\"Translate English → French.\n",
        "\n",
        "English: I'm sorry but I'm busy today.\n",
        "French: Je suis désolé mais je suis occupé aujourd'hui.\n",
        "\n",
        "English: I'm unable to attend your wedding because I'll be in South Africa.\n",
        "French: Je ne peux pas venir à votre mariage car je serai en Afrique du Sud.\n",
        "\n",
        "English: Unfortuantely I cannot afford to go on the skiing trip with you.\n",
        "French:\"\"\"\n",
        "\n",
        "resp = client.chat.completions.create(\n",
        "    model=\"gpt-4o-mini\",\n",
        "    messages=[{\"role\": \"user\", \"content\": few_shot}],\n",
        "    max_tokens=50\n",
        ")\n",
        "print(resp.choices[0].message.content)\n"
      ],
      "metadata": {
        "colab": {
          "base_uri": "https://localhost:8080/"
        },
        "id": "5rfYYAHQT798",
        "outputId": "e38ba970-2101-4e57-cf93-702f04d05695"
      },
      "execution_count": 11,
      "outputs": [
        {
          "output_type": "stream",
          "name": "stdout",
          "text": [
            "Je ne peux malheureusement pas me permettre de partir en voyage de ski avec vous.\n"
          ]
        }
      ]
    },
    {
      "cell_type": "code",
      "source": [
        "# Exercise 2_2 – Few‑Shot Learning - tu\n",
        "few_shot_tu = \"\"\"Translate English → French.\n",
        "\n",
        "English: I'm sorry but I'm busy today.\n",
        "French: Je suis désolé mais je suis occupé aujourd'hui.\n",
        "\n",
        "English: I'm unaable to attend your wedding because I'll be in South Africa.\n",
        "French: Je pourrai pas venir à ton mariage, je serai en Afrique du Sud.\n",
        "\n",
        "English: Unfortuantely I cannot afford to go on the skiing trip with you.\n",
        "French:\"\"\"\n",
        "\n",
        "resp_tu = client.chat.completions.create(\n",
        "    model=\"gpt-4o-mini\",\n",
        "    messages=[{\"role\": \"user\", \"content\": few_shot_tu}],\n",
        "    max_tokens=50\n",
        ")\n",
        "print(resp_tu.choices[0].message.content)\n"
      ],
      "metadata": {
        "colab": {
          "base_uri": "https://localhost:8080/"
        },
        "id": "P79S0hmgWM7B",
        "outputId": "7237f3d1-4fcc-4ab0-cd7a-bede5d7ca2a1"
      },
      "execution_count": 12,
      "outputs": [
        {
          "output_type": "stream",
          "name": "stdout",
          "text": [
            "Je ne peux malheureusement pas me permettre de partir en voyage de ski avec toi.\n"
          ]
        }
      ]
    },
    {
      "cell_type": "code",
      "source": [
        "# Exercise 3_1 – Persona Replay\n",
        "prompt = \"You are a friendly travel guide for Tokyo. Ask for recommendations on places to visit and food to try.\"\n",
        "resp = client.chat.completions.create(\n",
        "    model=\"gpt-4o-mini\",\n",
        "    messages=[{\"role\": \"user\", \"content\": prompt}],\n",
        "    max_tokens=200\n",
        ")\n",
        "print(resp.choices[0].message.content)"
      ],
      "metadata": {
        "colab": {
          "base_uri": "https://localhost:8080/"
        },
        "id": "_iVamAwJXVxy",
        "outputId": "7501442d-a1cc-4c42-9cb6-26dfb4ea11f8"
      },
      "execution_count": 13,
      "outputs": [
        {
          "output_type": "stream",
          "name": "stdout",
          "text": [
            "Absolutely! Tokyo is an incredible city with so much to offer. To help tailor your experience, could you share what kind of places you’re interested in? For example, are you looking for traditional cultural sites, modern attractions, parks and nature, or maybe shopping areas? \n",
            "\n",
            "And when it comes to food, do you have a preference for any particular cuisine, or are you open to trying local specialties? There are so many delicious options to explore in Tokyo! 🍣🍜🗼\n"
          ]
        }
      ]
    },
    {
      "cell_type": "code",
      "source": [
        "# Exercise 3_2 – Persona Replay\n",
        "prompt = \"You are a strict tour manager focusing on timing and schedules for Tokyo. Ask for recommendations on places to visit and food to try.\"\n",
        "resp = client.chat.completions.create(\n",
        "    model=\"gpt-4o-mini\",\n",
        "    messages=[{\"role\": \"user\", \"content\": prompt}],\n",
        "    max_tokens=200\n",
        ")\n",
        "print(resp.choices[0].message.content)"
      ],
      "metadata": {
        "colab": {
          "base_uri": "https://localhost:8080/"
        },
        "id": "3r7B17qbYCA4",
        "outputId": "c7726d92-b0af-4a78-d3f1-357deaa56529"
      },
      "execution_count": 14,
      "outputs": [
        {
          "output_type": "stream",
          "name": "stdout",
          "text": [
            "As your strict tour manager, I need to ensure we stick to our timetable while enjoying the best that Tokyo has to offer. I will need your recommendations for must-visit places and must-try foods, as follows:\n",
            "\n",
            "### Places to Visit:\n",
            "1. **Historical Sites**: What are the top temples or shrines we should include in our itinerary? I’m particularly interested in places that provide a rich cultural experience.\n",
            "   \n",
            "2. **Modern Attractions**: Are there any iconic towers, museums, or modern districts that you recommend? We need a balance between traditional and contemporary experiences.\n",
            "   \n",
            "3. **Parks and Natural Spots**: Do you have any suggestions for beautiful parks or gardens where we can take a brief break without deviating from our schedule?\n",
            "\n",
            "### Food to Try:\n",
            "1. **Street Food**: What are the top street food items we shouldn’t miss during our visit? Quick bites are preferable since we have limited time.\n",
            "\n",
            "2. **Local Cuisine**: Please recommend a few\n"
          ]
        }
      ]
    },
    {
      "cell_type": "code",
      "source": [
        "# Exercise 4 – Recipe\n",
        "prompt = \"\"\"Give me a recipe to improving daily productivity. Propose two\n",
        "alternative approaches: a ceativie approach and a scientific approach.  For each approach list also the advantages and disadvantages of the items in the recipe.\"\"\"\n",
        "resp = client.chat.completions.create(\n",
        "    model=\"gpt-4o-mini\",\n",
        "    messages=[{\"role\": \"user\", \"content\": prompt}],\n",
        "    max_tokens=300\n",
        ")\n",
        "print(resp.choices[0].message.content)\n"
      ],
      "metadata": {
        "colab": {
          "base_uri": "https://localhost:8080/"
        },
        "id": "jcUB0RfLYt0r",
        "outputId": "7da6c5ad-931a-4c20-f303-5b3d960ea06d"
      },
      "execution_count": 15,
      "outputs": [
        {
          "output_type": "stream",
          "name": "stdout",
          "text": [
            "Improving daily productivity can be approached in various ways. Below are two different approaches: a creative approach and a scientific approach. Each includes a recipe for improvement, advantages, and disadvantages.\n",
            "\n",
            "### Creative Approach: The Visualization and Affirmation Method\n",
            "\n",
            "**Recipe**\n",
            "\n",
            "1. **Morning Visualization (10 minutes)**\n",
            "   - Spend time visualizing your goals and daily tasks as completed successes.\n",
            "   - Envision the steps you will take throughout the day and the positive outcomes.\n",
            "\n",
            "2. **Affirmation Practice (5 minutes)**\n",
            "   - Write down three affirmations related to your goals and productivity and repeat them aloud.\n",
            "   - Examples: \"I am focused and productive,\" \"I tackle challenges with ease,\" or \"I manage my time effectively.\"\n",
            "\n",
            "3. **Color-Coding Task Lists (10 minutes)**\n",
            "   - Use different colors for tasks based on priority or categories in your planner or digital tools.\n",
            "   - This will not only organize your tasks but also make them visually appealing.\n",
            "\n",
            "4. **Mind Map Planning (15 minutes)**\n",
            "   - Spend time creating a mind map for your projects to explore ideas creatively and generate connections.\n",
            "\n",
            "5. **End-of-Day Reflection (10 minutes)**\n",
            "   - Journal about what you accomplished, what could be improved, and how you felt throughout the day.\n",
            "\n",
            "**Advantages**\n",
            "- Engaging both the mind and emotions can enhance motivation and commitment.\n",
            "- Visualization and affirmations can foster a positive mindset and boost self-esteem.\n",
            "- Creative planning methods, like mind mapping\n"
          ]
        }
      ]
    },
    {
      "cell_type": "code",
      "source": [
        "# Exercise 5 – Ask-for-Input / Flipped Interaction Pattern\n",
        "prompt = \"\"\"You are an interviewer. Ask me 3 questions about my hobbies,\n",
        "then summarize them and recommend a build a personalized weekend plan based on your answers.\"\"\"\n",
        "resp = client.chat.completions.create(\n",
        "    model=\"gpt-4o-mini\",\n",
        "    messages=[{\"role\": \"user\", \"content\": prompt}],\n",
        "    max_tokens=300\n",
        ")\n",
        "print(resp.choices[0].message.content)"
      ],
      "metadata": {
        "colab": {
          "base_uri": "https://localhost:8080/"
        },
        "id": "PaRMns_hZsmp",
        "outputId": "cda4504c-69f8-4036-e6f6-1ff0a5a94110"
      },
      "execution_count": 16,
      "outputs": [
        {
          "output_type": "stream",
          "name": "stdout",
          "text": [
            "Great! Let’s get started. Here are three questions about your hobbies:\n",
            "\n",
            "1. What hobbies do you currently enjoy the most, and how often do you engage in them?\n",
            "2. Are there any new hobbies or activities you've been wanting to try or learn more about?\n",
            "3. Do you prefer spending your weekends more actively (like outdoor activities) or more leisurely (such as creative projects or relaxing at home)?\n",
            "\n",
            "Feel free to answer these questions, and I'll summarize your responses and create a personalized weekend plan for you!\n"
          ]
        }
      ]
    },
    {
      "cell_type": "code",
      "source": [
        "# Exercise 6_1 – Menu / Meta-Language Pattern\n",
        "menu_prompt = \"\"\"### MENU\n",
        "ACTION = Translate, Summarize, Explain\n",
        "FORMAT = Plain, Bullets, Numbered\n",
        "LANGUAGE = English, French, Spanish\n",
        "\n",
        "Command: ACTION=Translate; FORMAT=Numbered; LANGUAGE=Spanish; TEXT=\"Machine learning improves over time.\"\n",
        "###\"\"\"\n",
        "\n",
        "resp = client.chat.completions.create(\n",
        "    model=\"gpt-4o-mini\",\n",
        "    messages=[{\"role\": \"user\", \"content\": menu_prompt}],\n",
        "    max_tokens=150\n",
        ")\n",
        "print(resp.choices[0].message.content)\n"
      ],
      "metadata": {
        "colab": {
          "base_uri": "https://localhost:8080/"
        },
        "id": "8DhRmwk7aTyG",
        "outputId": "adf5d1bb-3896-4965-da2d-2a31a693d6fa"
      },
      "execution_count": 17,
      "outputs": [
        {
          "output_type": "stream",
          "name": "stdout",
          "text": [
            "1. El aprendizaje automático mejora con el tiempo.\n"
          ]
        }
      ]
    },
    {
      "cell_type": "code",
      "source": [
        "# Exercise 6_2 – Menu / Meta-Language Pattern\n",
        "menu_prompt = \"\"\"### MENU\n",
        "ACTION = Translate, Summarize, Explain\n",
        "FORMAT = Plain, Bullets, Numbered\n",
        "LANGUAGE = English, French, Spanish\n",
        "\n",
        "Command: ACTION=Translate; FORMAT=Numbered; LANGUAGE=French; TEXT=\"Machine learning improves over time.\"\n",
        "###\"\"\"\n",
        "\n",
        "resp = client.chat.completions.create(\n",
        "    model=\"gpt-4o-mini\",\n",
        "    messages=[{\"role\": \"user\", \"content\": menu_prompt}],\n",
        "    max_tokens=150\n",
        ")\n",
        "print(resp.choices[0].message.content)"
      ],
      "metadata": {
        "colab": {
          "base_uri": "https://localhost:8080/"
        },
        "id": "_eKMfNjabUcc",
        "outputId": "98575ebf-315d-4d7f-a89b-a4830787cd73"
      },
      "execution_count": 18,
      "outputs": [
        {
          "output_type": "stream",
          "name": "stdout",
          "text": [
            "1. L'apprentissage automatique s'améliore avec le temps.\n"
          ]
        }
      ]
    },
    {
      "cell_type": "code",
      "source": [
        "# Exercise 6_3 – Menu / Meta-Language Pattern\n",
        "menu_prompt = \"\"\"### MENU\n",
        "ACTION = Translate, Summarize, Explain\n",
        "FORMAT = Plain, Bullets, Numbered\n",
        "LANGUAGE = English, French, Spanish\n",
        "\n",
        "Command: ACTION=Translate; FORMAT=Numbered; LANGUAGE=French; STYLE = Formal; TEXT=\"Machine learning improves over time.\"\n",
        "###\"\"\"\n",
        "\n",
        "resp = client.chat.completions.create(\n",
        "    model=\"gpt-4o-mini\",\n",
        "    messages=[{\"role\": \"user\", \"content\": menu_prompt}],\n",
        "    max_tokens=150\n",
        ")\n",
        "print(resp.choices[0].message.content)"
      ],
      "metadata": {
        "colab": {
          "base_uri": "https://localhost:8080/"
        },
        "id": "xnwQ7C7YbbYK",
        "outputId": "9a5eda05-42d9-407c-dc88-d769723df681"
      },
      "execution_count": 19,
      "outputs": [
        {
          "output_type": "stream",
          "name": "stdout",
          "text": [
            "1. L'apprentissage automatique s'améliore avec le temps.\n"
          ]
        }
      ]
    },
    {
      "cell_type": "code",
      "source": [
        "# Exercise 6_4 – Menu / Meta-Language Pattern\n",
        "menu_prompt = \"\"\"### MENU\n",
        "ACTION = Translate, Summarize, Explain\n",
        "FORMAT = Plain, Bullets, Numbered\n",
        "LANGUAGE = English, French, Spanish\n",
        "\n",
        "Command: ACTION=Translate; FORMAT=Numbered; LANGUAGE=French; STYLE = Casual; TEXT=\"Machine learning improves over time.\"\n",
        "###\"\"\"\n",
        "\n",
        "resp = client.chat.completions.create(\n",
        "    model=\"gpt-4o-mini\",\n",
        "    messages=[{\"role\": \"user\", \"content\": menu_prompt}],\n",
        "    max_tokens=150\n",
        ")\n",
        "print(resp.choices[0].message.content)"
      ],
      "metadata": {
        "colab": {
          "base_uri": "https://localhost:8080/"
        },
        "id": "9-6uE34Xbrip",
        "outputId": "ebc3924d-4587-4760-d38b-9e536448ead6"
      },
      "execution_count": 20,
      "outputs": [
        {
          "output_type": "stream",
          "name": "stdout",
          "text": [
            "1. L'apprentissage automatique s'améliore avec le temps.\n"
          ]
        }
      ]
    },
    {
      "cell_type": "code",
      "source": [
        "# Exercise 7 – Controlling Output Length and Style\n",
        "prompt = \"describe “Artificial Intelligence” in three different ways : a) as a tweet (280 characters max) b) as a formal academic abstract (~150 words) c) as a children’s story (simple language). List your responses. \"\n",
        "\n",
        "resp = client.chat.completions.create(\n",
        "    model=\"gpt-4o-mini\",\n",
        "    messages=[{\"role\": \"system\", \"content\": \"You are a helpful assistant.\"},\n",
        "              {\"role\": \"user\", \"content\": prompt}],\n",
        "    max_tokens=150\n",
        ")\n",
        "print(resp.choices[0].message.content)\n"
      ],
      "metadata": {
        "colab": {
          "base_uri": "https://localhost:8080/"
        },
        "id": "38OSdhdVb_29",
        "outputId": "946c5cfb-e2b2-4a59-8f4b-8a651883461c"
      },
      "execution_count": 21,
      "outputs": [
        {
          "output_type": "stream",
          "name": "stdout",
          "text": [
            "Sure! Here are three different descriptions of \"Artificial Intelligence\":\n",
            "\n",
            "### a) Tweet\n",
            "🤖✨ Artificial Intelligence (AI) is a field of computer science focused on creating smart machines that can think, learn, and adapt like humans! From chatbots to self-driving cars, AI is transforming our world. Exciting or scary? You decide! #AI #TechRevolution\n",
            "\n",
            "### b) Academic Abstract\n",
            "Artificial Intelligence (AI) refers to the development of algorithms and systems capable of performing tasks that typically require human-like cognitive functions. This includes problem-solving, understanding natural language, and perception. AI encompasses subfields such as machine learning, neural networks, and robotics. The rapid advancements in AI technologies are reshaping industries, enhancing efficiency, and promoting\n"
          ]
        }
      ]
    },
    {
      "cell_type": "code",
      "source": [
        "# Exercise 8: Multi-turn Conversation Simulation"
      ],
      "metadata": {
        "id": "oQW1iDi6dKfv"
      },
      "execution_count": null,
      "outputs": []
    }
  ]
}