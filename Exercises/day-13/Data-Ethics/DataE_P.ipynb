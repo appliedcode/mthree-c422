{
 "cells": [
  {
   "metadata": {},
   "cell_type": "markdown",
   "source": [
    "## **Problem Set: Data Ethics in Smart City IoT Sensor Data Management**\n",
    "\n",
    "### **Scenario**\n",
    "\n",
    "You are part of a **Smart City analytics team** responsible for collecting and analyzing IoT sensor data to improve urban safety, traffic flow, and environmental monitoring. The city council wants to ensure **ethical handling of data** — from **collection and consent** to **governance, privacy, and compliance**.\n",
    "\n",
    "You will work with a **synthetic dataset** simulating **vehicle tracking sensors**, **air quality monitors**, and some **citizen-reported incidents**.\n",
    "\n",
    "***\n",
    "\n",
    "### **Dataset Setup (Colab-Ready)**\n",
    "\n",
    "```python\n",
    "import pandas as pd\n",
    "import numpy as np\n",
    "\n",
    "np.random.seed(42)\n",
    "n = 800\n",
    "\n",
    "consent_types = [\"explicit\", \"implicit\", \"none\"]\n",
    "districts = [\"Downtown\", \"Suburban\", \"Industrial\", \"Green Zone\"]\n",
    "\n",
    "data = pd.DataFrame({\n",
    "    \"Device_ID\": range(1, n+1),\n",
    "    \"Owner_Age\": np.random.randint(18, 80, n),\n",
    "    \"District\": np.random.choice(districts, n),\n",
    "    \"Consent_Type\": np.random.choice(consent_types, n, p=[0.6, 0.3, 0.1]),\n",
    "    \"Vehicle_Count\": np.random.randint(0, 200, n),\n",
    "    \"Avg_Speed\": np.round(np.random.uniform(10, 80, n), 1),\n",
    "    \"Air_Quality_Index\": np.random.randint(10, 300, n),\n",
    "    \"Reported_Incident\": np.random.choice([0, 1], n, p=[0.85, 0.15])\n",
    "})\n",
    "\n",
    "data.head()\n",
    "```\n",
    "\n",
    "\n",
    "***\n",
    "\n",
    "## **Exercises**\n",
    "\n",
    "### **1. Data Collection, Privacy \\& Consent**\n",
    "\n",
    "- **Task 1.1:** Write a function to filter dataset to only keep records with valid consent for analytics.\n",
    "- **Task 1.2:** Compare size before and after consent filtering and discuss trade‑offs.\n",
    "\n",
    "***\n",
    "\n",
    "### **2. Implicit vs Explicit Consent**\n",
    "\n",
    "- **Task 2.1:** Count and plot proportion of explicit, implicit, and none.\n",
    "- **Task 2.2:** Discuss how **implicit consent** might be risky in IoT sensor deployments.\n",
    "\n",
    "***\n",
    "\n",
    "### **3. Bias in Data**\n",
    "\n",
    "- **Task 3.1:** Check if `Reported_Incident` rates differ significantly by `District`.\n",
    "- **Task 3.2:** Identify possible causes (sensor density, demographic differences) and how to correct bias.\n",
    "\n",
    "***\n",
    "\n",
    "### **4. Data Minimization**\n",
    "\n",
    "- **Task 4.1:** Select only the necessary columns for traffic congestion analysis, removing unrelated personal or sensitive attributes.\n",
    "- **Task 4.2:** Explain benefits \\& risks of minimization.\n",
    "\n",
    "***\n",
    "\n",
    "### **5. Anonymization \\& Pseudonymization**\n",
    "\n",
    "- **Task 5.1:** Remove `Device_ID` or replace with hashed pseudonym.\n",
    "- **Task 5.2:** Test whether you can still link records across datasets.\n",
    "\n",
    "***\n",
    "\n",
    "### **6. De-Anonymization Risks**\n",
    "\n",
    "- **Task 6.1:** Create an auxiliary dataset with `Owner_Age` + `District`.\n",
    "- **Task 6.2:** Attempt a simple join to re-identify pseudonymized records and measure percentage matched.\n",
    "\n",
    "***\n",
    "\n",
    "### **7. Data Governance \\& Stewardship**\n",
    "\n",
    "- **Task 7.1:** Create a data access control table defining roles (Admin, Analyst, Public).\n",
    "- **Task 7.2:** Outline responsibilities of a Data Steward for this smart city project.\n",
    "\n",
    "***\n",
    "\n",
    "### **8. Data Quality \\& Lineage**\n",
    "\n",
    "- **Task 8.1:** Implement a basic data quality report: missing values, out-of-range `Air_Quality_Index`.\n",
    "- **Task 8.2:** Create a transformation log tracking each processing step.\n",
    "\n",
    "***\n",
    "\n",
    "### **9. Ethical Data Sharing**\n",
    "\n",
    "- **Task 9.1:** Build a sharable, aggregated version of the dataset by district (no personal info).\n",
    "- **Task 9.2:** Define rules for approving or denying sharing requests.\n",
    "\n",
    "***\n",
    "\n",
    "### **10. Monitoring \\& Compliance**\n",
    "\n",
    "- **Task 10.1:** Write a compliance check that:\n",
    "    - Alerts if consent compliance ratio <90%\n",
    "    - Alerts if `Reported_Incident` rate disparity by district >0.15\n",
    "- **Task 10.2:** Document escalation steps if an alert is triggered.\n",
    "\n",
    "***\n",
    "\n",
    "### **Bonus**\n",
    "\n",
    "- Apply **k-anonymity checks** to District + Age combination.\n",
    "- Simulate **real-time consent withdrawal** and show how to handle it in downstream analytics.\n",
    "\n",
    "***"
   ],
   "id": "73ac29c620884903"
  },
  {
   "metadata": {
    "ExecuteTime": {
     "end_time": "2025-08-13T12:57:47.994374Z",
     "start_time": "2025-08-13T12:57:47.313484Z"
    }
   },
   "cell_type": "code",
   "source": [
    "# **Solution Code**\n",
    "import pandas as pd\n",
    "import numpy as np\n",
    "# Create the synthetic dataset\n",
    "np.random.seed(42)\n",
    "n = 800\n",
    "consent_types = [\"explicit\", \"implicit\", \"none\"]\n",
    "districts = [\"Downtown\", \"Suburban\", \"Industrial\", \"Green Zone\"]\n",
    "data = pd.DataFrame({\n",
    "    \"Device_ID\": range(1, n+1),\n",
    "    \"Owner_Age\": np.random.randint(18, 80, n),\n",
    "    \"District\": np.random.choice(districts, n),\n",
    "    \"Consent_Type\": np.random.choice(consent_types, n, p=[0.6, 0.3, 0.1]),\n",
    "    \"Vehicle_Count\": np.random.randint(0, 200, n),\n",
    "    \"Avg_Speed\": np.round(np.random.uniform(10, 80, n), 1),\n",
    "    \"Air_Quality_Index\": np.random.randint(10, 300, n),\n",
    "    \"Reported_Incident\": np.random.choice([0, 1], n, p=[0.85, 0.15])\n",
    "})\n",
    "data.head()"
   ],
   "id": "5050d4e7df8a2cdf",
   "outputs": [
    {
     "data": {
      "text/plain": [
       "   Device_ID  Owner_Age    District Consent_Type  Vehicle_Count  Avg_Speed  \\\n",
       "0          1         56  Green Zone     implicit            171       21.6   \n",
       "1          2         69    Downtown     explicit              1       71.7   \n",
       "2          3         46  Green Zone     implicit            101       39.9   \n",
       "3          4         32  Industrial     explicit             34       21.4   \n",
       "4          5         60    Downtown     implicit             97       10.9   \n",
       "\n",
       "   Air_Quality_Index  Reported_Incident  \n",
       "0                 48                  0  \n",
       "1                 25                  0  \n",
       "2                 31                  0  \n",
       "3                222                  0  \n",
       "4                158                  0  "
      ],
      "text/html": [
       "<div>\n",
       "<style scoped>\n",
       "    .dataframe tbody tr th:only-of-type {\n",
       "        vertical-align: middle;\n",
       "    }\n",
       "\n",
       "    .dataframe tbody tr th {\n",
       "        vertical-align: top;\n",
       "    }\n",
       "\n",
       "    .dataframe thead th {\n",
       "        text-align: right;\n",
       "    }\n",
       "</style>\n",
       "<table border=\"1\" class=\"dataframe\">\n",
       "  <thead>\n",
       "    <tr style=\"text-align: right;\">\n",
       "      <th></th>\n",
       "      <th>Device_ID</th>\n",
       "      <th>Owner_Age</th>\n",
       "      <th>District</th>\n",
       "      <th>Consent_Type</th>\n",
       "      <th>Vehicle_Count</th>\n",
       "      <th>Avg_Speed</th>\n",
       "      <th>Air_Quality_Index</th>\n",
       "      <th>Reported_Incident</th>\n",
       "    </tr>\n",
       "  </thead>\n",
       "  <tbody>\n",
       "    <tr>\n",
       "      <th>0</th>\n",
       "      <td>1</td>\n",
       "      <td>56</td>\n",
       "      <td>Green Zone</td>\n",
       "      <td>implicit</td>\n",
       "      <td>171</td>\n",
       "      <td>21.6</td>\n",
       "      <td>48</td>\n",
       "      <td>0</td>\n",
       "    </tr>\n",
       "    <tr>\n",
       "      <th>1</th>\n",
       "      <td>2</td>\n",
       "      <td>69</td>\n",
       "      <td>Downtown</td>\n",
       "      <td>explicit</td>\n",
       "      <td>1</td>\n",
       "      <td>71.7</td>\n",
       "      <td>25</td>\n",
       "      <td>0</td>\n",
       "    </tr>\n",
       "    <tr>\n",
       "      <th>2</th>\n",
       "      <td>3</td>\n",
       "      <td>46</td>\n",
       "      <td>Green Zone</td>\n",
       "      <td>implicit</td>\n",
       "      <td>101</td>\n",
       "      <td>39.9</td>\n",
       "      <td>31</td>\n",
       "      <td>0</td>\n",
       "    </tr>\n",
       "    <tr>\n",
       "      <th>3</th>\n",
       "      <td>4</td>\n",
       "      <td>32</td>\n",
       "      <td>Industrial</td>\n",
       "      <td>explicit</td>\n",
       "      <td>34</td>\n",
       "      <td>21.4</td>\n",
       "      <td>222</td>\n",
       "      <td>0</td>\n",
       "    </tr>\n",
       "    <tr>\n",
       "      <th>4</th>\n",
       "      <td>5</td>\n",
       "      <td>60</td>\n",
       "      <td>Downtown</td>\n",
       "      <td>implicit</td>\n",
       "      <td>97</td>\n",
       "      <td>10.9</td>\n",
       "      <td>158</td>\n",
       "      <td>0</td>\n",
       "    </tr>\n",
       "  </tbody>\n",
       "</table>\n",
       "</div>"
      ]
     },
     "execution_count": 1,
     "metadata": {},
     "output_type": "execute_result"
    }
   ],
   "execution_count": 1
  },
  {
   "metadata": {
    "ExecuteTime": {
     "end_time": "2025-08-13T12:58:27.989054Z",
     "start_time": "2025-08-13T12:58:27.979026Z"
    }
   },
   "cell_type": "code",
   "source": [
    "# Task 1.1: Filter dataset to keep records with valid consent\n",
    "def filter_valid_consent(df):\n",
    "    valid_consent = df[df['Consent_Type'].isin(['explicit', 'implicit'])]\n",
    "    return valid_consent\n",
    "# Filter the dataset\n",
    "filtered_data = filter_valid_consent(data)\n",
    "# Task 1.2: Compare size before and after consent filtering\n",
    "original_size = data.shape[0]\n",
    "filtered_size = filtered_data.shape[0]\n",
    "print(f\"Original size: {original_size}, Filtered size: {filtered_size}\")\n",
    "# Trade-offs: Filtering reduces dataset size, potentially losing valuable data but ensuring ethical compliance."
   ],
   "id": "9c361354c5345ab1",
   "outputs": [
    {
     "name": "stdout",
     "output_type": "stream",
     "text": [
      "Original size: 800, Filtered size: 723\n"
     ]
    }
   ],
   "execution_count": 2
  },
  {
   "metadata": {
    "ExecuteTime": {
     "end_time": "2025-08-13T13:01:43.469472Z",
     "start_time": "2025-08-13T13:01:42.696042Z"
    }
   },
   "cell_type": "code",
   "source": [
    "# Task 2.1: Count and plot proportion of consent types\n",
    "import matplotlib.pyplot as plt\n",
    "def plot_consent_distribution(df):\n",
    "    consent_counts = df['Consent_Type'].value_counts()\n",
    "    consent_counts.plot(kind='bar', color=['blue', 'orange', 'gray'])\n",
    "    plt.title('Consent Type Distribution')\n",
    "    plt.xlabel('Consent Type')\n",
    "    plt.ylabel('Count')\n",
    "    plt.xticks(rotation=0)\n",
    "    plt.show()\n",
    "plot_consent_distribution(data)\n",
    "# Task 2.2: Discuss implicit consent risks\n",
    "# Implicit consent can lead to ethical issues as users may not be fully aware of data collection\n",
    "# and usage, potentially violating privacy expectations. It can also lead to legal challenges if users\n",
    "# claim they did not consent to data usage."
   ],
   "id": "9d40b99c8bbe6d71",
   "outputs": [
    {
     "data": {
      "text/plain": [
       "<Figure size 640x480 with 1 Axes>"
      ],
      "image/png": "[encoded data removed]"
     },
     "metadata": {},
     "output_type": "display_data"
    }
   ],
   "execution_count": 4
  },
  {
   "metadata": {
    "ExecuteTime": {
     "end_time": "2025-08-13T13:02:43.780984Z",
     "start_time": "2025-08-13T13:02:43.772684Z"
    }
   },
   "cell_type": "code",
   "source": [
    "# Task 3.1: Check if Reported_Incident rates differ by District\n",
    "def incident_rate_by_district(df):\n",
    "    incident_rates = df.groupby('District')['Reported_Incident'].mean()\n",
    "    return incident_rates\n",
    "incident_rates = incident_rate_by_district(data)\n",
    "print(incident_rates)\n",
    "# Task 3.2: Identify possible causes and how to correct bias"
   ],
   "id": "e99aa1c18c135634",
   "outputs": [
    {
     "name": "stdout",
     "output_type": "stream",
     "text": [
      "District\n",
      "Downtown      0.120930\n",
      "Green Zone    0.129213\n",
      "Industrial    0.115000\n",
      "Suburban      0.135266\n",
      "Name: Reported_Incident, dtype: float64\n"
     ]
    }
   ],
   "execution_count": 5
  },
  {
   "metadata": {
    "ExecuteTime": {
     "end_time": "2025-08-13T13:02:45.288586Z",
     "start_time": "2025-08-13T13:02:45.278275Z"
    }
   },
   "cell_type": "code",
   "source": [
    "# Task 4.1: Select necessary columns for traffic congestion analysis\n",
    "def select_traffic_columns(df):\n",
    "    traffic_columns = df[['District', 'Vehicle_Count', 'Avg_Speed']]\n",
    "    return traffic_columns\n",
    "traffic_data = select_traffic_columns(data)\n",
    "print(traffic_data.head())\n",
    "# Task 4.2: Explain benefits & risks of minimization"
   ],
   "id": "59a7026e3e339702",
   "outputs": [
    {
     "name": "stdout",
     "output_type": "stream",
     "text": [
      "     District  Vehicle_Count  Avg_Speed\n",
      "0  Green Zone            171       21.6\n",
      "1    Downtown              1       71.7\n",
      "2  Green Zone            101       39.9\n",
      "3  Industrial             34       21.4\n",
      "4    Downtown             97       10.9\n"
     ]
    }
   ],
   "execution_count": 6
  },
  {
   "metadata": {
    "ExecuteTime": {
     "end_time": "2025-08-13T13:03:59.532052Z",
     "start_time": "2025-08-13T13:03:59.521558Z"
    }
   },
   "cell_type": "code",
   "source": [
    "# Task 5.1: Remove Device_ID or replace with hashed pseudonym\n",
    "def anonymize_data(df):\n",
    "    df_anonymized = df.drop(columns=['Device_ID'])\n",
    "    # Alternatively, replace with hashed pseudonym\n",
    "    # df_anonymized['Device_ID'] = df_anonymized['Device_ID'].\n",
    "    return df_anonymized\n",
    "anonymized_data = anonymize_data(data)\n",
    "print(anonymized_data.head())\n",
    "# Task 5.2: Test linking records across datasets\n",
    "# Since Device_ID is removed, we cannot link records across datasets without a unique identifier.\n",
    "# If pseudonymization was used, we could link using the hashed value."
   ],
   "id": "fb811a8e05669034",
   "outputs": [
    {
     "name": "stdout",
     "output_type": "stream",
     "text": [
      "   Owner_Age    District Consent_Type  Vehicle_Count  Avg_Speed  \\\n",
      "0         56  Green Zone     implicit            171       21.6   \n",
      "1         69    Downtown     explicit              1       71.7   \n",
      "2         46  Green Zone     implicit            101       39.9   \n",
      "3         32  Industrial     explicit             34       21.4   \n",
      "4         60    Downtown     implicit             97       10.9   \n",
      "\n",
      "   Air_Quality_Index  Reported_Incident  \n",
      "0                 48                  0  \n",
      "1                 25                  0  \n",
      "2                 31                  0  \n",
      "3                222                  0  \n",
      "4                158                  0  \n"
     ]
    }
   ],
   "execution_count": 7
  },
  {
   "metadata": {
    "ExecuteTime": {
     "end_time": "2025-08-13T13:04:04.463666Z",
     "start_time": "2025-08-13T13:04:04.427200Z"
    }
   },
   "cell_type": "code",
   "source": [
    "\n",
    "# Task 6.1: Create auxiliary dataset with Owner_Age + District\n",
    "def create_auxiliary_dataset(df):\n",
    "    aux_data = df[['Owner_Age', 'District']].copy()\n",
    "    aux_data['Pseudonym'] = aux_data.index  # Using index as a simple\n",
    "    return aux_data\n",
    "auxiliary_data = create_auxiliary_dataset(anonymized_data)\n",
    "print(auxiliary_data.head())\n",
    "# Task 6.2: Attempt a simple join to re-identify pseudonymized records\n",
    "def reidentify_records(aux_df, main_df):\n",
    "    reidentified = aux_df.merge(main_df, left_on='Pseudonym', right_index =True, how='left')\n",
    "    matched_percentage = (reidentified['Device_ID'].notnull().sum() / len(aux_df)) * 100\n",
    "    return reidentified, matched_percentage\n",
    "reidentified_data, match_percentage = reidentify_records(auxiliary_data, data)\n",
    "print(f\"Percentage of matched records: {match_percentage:.2f}%\")"
   ],
   "id": "c844a59098de8368",
   "outputs": [
    {
     "name": "stdout",
     "output_type": "stream",
     "text": [
      "   Owner_Age    District  Pseudonym\n",
      "0         56  Green Zone          0\n",
      "1         69    Downtown          1\n",
      "2         46  Green Zone          2\n",
      "3         32  Industrial          3\n",
      "4         60    Downtown          4\n",
      "Percentage of matched records: 100.00%\n"
     ]
    }
   ],
   "execution_count": 8
  },
  {
   "metadata": {
    "ExecuteTime": {
     "end_time": "2025-08-13T13:09:10.583494Z",
     "start_time": "2025-08-13T13:09:10.571136Z"
    }
   },
   "cell_type": "code",
   "source": [
    "# Task 7.1: Create a data access control table\n",
    "def create_access_control_table():\n",
    "    access_control = pd.DataFrame({\n",
    "        \"Role\": [\"Admin\", \"Analyst\", \"Public\"],\n",
    "        \"Access_Level\": [\"Full\", \"Read-Only\", \"Restricted\"],\n",
    "        \"Responsibilities\": [\n",
    "            \"Manage data, set policies, ensure compliance\",\n",
    "            \"Analyze data, generate reports\",\n",
    "            \"View aggregated data, no personal info access\"\n",
    "        ]\n",
    "    })\n",
    "    return access_control\n",
    "access_control_table = create_access_control_table()\n",
    "print(access_control_table)\n",
    "# Task 7.2: Outline responsibilities of a Data Steward\n",
    "# Responsibilities of a Data Steward:\n",
    "# - Ensure data quality and integrity\n",
    "# - Maintain data governance policies\n",
    "# - Facilitate data access and sharing\n",
    "# - Monitor compliance with ethical standards\n",
    "# - Act as a liaison between technical teams and stakeholders\n",
    "# - Provide training on data ethics and governance\n",
    "# - Handle data-related issues and escalations"
   ],
   "id": "84cac501803be7f1",
   "outputs": [
    {
     "name": "stdout",
     "output_type": "stream",
     "text": [
      "      Role Access_Level                               Responsibilities\n",
      "0    Admin         Full   Manage data, set policies, ensure compliance\n",
      "1  Analyst    Read-Only                 Analyze data, generate reports\n",
      "2   Public   Restricted  View aggregated data, no personal info access\n"
     ]
    }
   ],
   "execution_count": 9
  },
  {
   "metadata": {
    "ExecuteTime": {
     "end_time": "2025-08-13T13:09:12.725125Z",
     "start_time": "2025-08-13T13:09:12.710233Z"
    }
   },
   "cell_type": "code",
   "source": [
    "# Task 8.1: Implement a basic data quality report\n",
    "def data_quality_report(df):\n",
    "    report = {\n",
    "        \"Missing_Values\": df.isnull().sum(),\n",
    "        \"Out_of_Range_AQI\": df['Air_Quality_Index'][(df['Air_Quality_Index'] < 0) | (df['Air_Quality_Index'] > 500)].count(),\n",
    "        \"Total_Records\": df.shape[0]\n",
    "    }\n",
    "    return pd.Series(report)\n",
    "quality_report = data_quality_report(data)\n",
    "print(quality_report)\n",
    "# Task 8.2: Create a transformation log tracking each processing\n",
    "def create_transformation_log():\n",
    "    log = pd.DataFrame({\n",
    "        \"Step\": [\"Filter Valid Consent\", \"Select Traffic Columns\", \"Anonymize Data\"],\n",
    "        \"Description\": [\n",
    "            \"Filtered dataset to keep records with valid consent\",\n",
    "            \"Selected necessary columns for traffic congestion analysis\",\n",
    "            \"Removed Device_ID or replaced with hashed pseudonym\"\n",
    "        ],\n",
    "        \"Timestamp\": pd.to_datetime(\"now\")\n",
    "    })\n",
    "    return log\n",
    "transformation_log = create_transformation_log()\n"
   ],
   "id": "5c7c2fb794fb9d69",
   "outputs": [
    {
     "name": "stdout",
     "output_type": "stream",
     "text": [
      "Missing_Values      Device_ID            0\n",
      "Owner_Age            0\n",
      "...\n",
      "Out_of_Range_AQI                                                    0\n",
      "Total_Records                                                     800\n",
      "dtype: object\n"
     ]
    }
   ],
   "execution_count": 10
  },
  {
   "metadata": {
    "ExecuteTime": {
     "end_time": "2025-08-13T13:11:55.475865Z",
     "start_time": "2025-08-13T13:11:55.463668Z"
    }
   },
   "cell_type": "code",
   "source": [
    "# Task 9.1: Build a sharable, aggregated version of the dataset by district\n",
    "def create_aggregated_dataset(df):\n",
    "    aggregated_data = df.groupby('District').agg({\n",
    "        'Vehicle_Count': 'mean',\n",
    "        'Avg_Speed': 'mean',\n",
    "        'Air_Quality_Index': 'mean',\n",
    "        'Reported_Incident': 'mean'\n",
    "    }).reset_index()\n",
    "    return aggregated_data\n",
    "aggregated_data = create_aggregated_dataset(data)\n",
    "print(aggregated_data)\n",
    "# Task 9.2: Define rules for approving or denying sharing requests\n",
    "# Rules for approving or denying sharing requests:\n",
    "# - Requests must be for research or public safety purposes\n"
   ],
   "id": "bc8ab30ba379b316",
   "outputs": [
    {
     "name": "stdout",
     "output_type": "stream",
     "text": [
      "     District  Vehicle_Count  Avg_Speed  Air_Quality_Index  Reported_Incident\n",
      "0    Downtown     103.930233  44.347907         148.883721           0.120930\n",
      "1  Green Zone     100.011236  44.689326         160.578652           0.129213\n",
      "2  Industrial     105.100000  46.230500         148.280000           0.115000\n",
      "3    Suburban      95.729469  43.542512         163.362319           0.135266\n"
     ]
    }
   ],
   "execution_count": 12
  },
  {
   "metadata": {
    "ExecuteTime": {
     "end_time": "2025-08-13T13:11:51.200580Z",
     "start_time": "2025-08-13T13:11:51.187967Z"
    }
   },
   "cell_type": "code",
   "source": [
    "# Task 10.1: Write a compliance check\n",
    "def compliance_check(df):\n",
    "    consent_compliance = (df['Consent_Type'].isin(['explicit', 'implicit'])).mean()\n",
    "    incident_rate_disparity = df.groupby('District')['Reported_Incident'].mean().diff().abs().max()\n",
    "    alerts = []\n",
    "    if consent_compliance < 0.9:\n",
    "        alerts.append(\"Consent compliance ratio < 90%\")\n",
    "    if incident_rate_disparity > 0.15:\n",
    "        alerts.append(\"Reported Incident rate disparity by district > 0.15\")\n",
    "    return alerts\n",
    "alerts = compliance_check(data)\n",
    "if alerts:\n",
    "    print(\"Compliance Alerts:\")\n",
    "    for alert in alerts:\n",
    "        print(f\"- {alert}\")\n",
    "else:\n",
    "    print(\"No compliance issues detected.\")"
   ],
   "id": "e8cb35f8a4b2842c",
   "outputs": [
    {
     "name": "stdout",
     "output_type": "stream",
     "text": [
      "No compliance issues detected.\n"
     ]
    }
   ],
   "execution_count": 11
  }
 ],
 "metadata": {
  "kernelspec": {
   "display_name": "Python 3",
   "language": "python",
   "name": "python3"
  },
  "language_info": {
   "codemirror_mode": {
    "name": "ipython",
    "version": 2
   },
   "file_extension": ".py",
   "mimetype": "text/x-python",
   "name": "python",
   "nbconvert_exporter": "python",
   "pygments_lexer": "ipython2",
   "version": "2.7.6"
  }
 },
 "nbformat": 4,
 "nbformat_minor": 5
}
