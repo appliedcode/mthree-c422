{
  "nbformat": 4,
  "nbformat_minor": 0,
  "metadata": {
    "colab": {
      "provenance": [],
      "authorship_tag": "ABX9TyP1+ENlX0Z9C28RTJORop+p",
      "include_colab_link": true
    },
    "kernelspec": {
      "name": "python3",
      "display_name": "Python 3"
    },
    "language_info": {
      "name": "python"
    }
  },
  "cells": [
    {
      "cell_type": "markdown",
      "metadata": {
        "id": "view-in-github",
        "colab_type": "text"
      },
      "source": [
        "<a href=\"https://colab.research.google.com/github/appliedcode/mthree-c422/blob/mthree-c422-dipti/Exercises/day-12/Adv-techniques/Prompt-Domains-practice.ipynb\" target=\"_parent\"><img src=\"https://colab.research.google.com/assets/colab-badge.svg\" alt=\"Open In Colab\"/></a>"
      ]
    },
    {
      "cell_type": "markdown",
      "source": [
        "\n",
        "## **Self‑Practice Problem Statements – Prompt Engineering for Specific Domains**\n",
        "\n",
        "\n",
        "***\n",
        "\n",
        "### **Section 1 – Chatbots**\n",
        "\n",
        "**Problem 1 – Personality \\& Tone Control**\n",
        "\n",
        "- Create a chatbot that acts as a **travel advisor** for budget backpackers.\n",
        "- Requirements:\n",
        "    - Friendly tone\n",
        "    - Give concise travel tips\n",
        "    - Offer suggestions for cheap accommodations in any given country\n",
        "- Test it by asking about **3 different destinations** and see if the tone remains consistent.\n",
        "\n",
        "**Problem 2 – Few‑Shot Chatbot Training**\n",
        "\n",
        "- Build a customer support chatbot for an **online bookstore** using **few-shot examples**.\n",
        "- Include at least **3 Q\\&A examples** before the real question.\n",
        "- Test it with a query not present in your examples to see if it responds in the correct style.\n",
        "\n",
        "***\n",
        "\n",
        "### **Section 2 – Summarization**\n",
        "\n",
        "**Problem 3 – Multi-Format Summaries**\n",
        "\n",
        "- Take a news article or Wikipedia entry.\n",
        "- First, create:\n",
        "\n",
        "1. A **2-sentence concise summary**.\n",
        "2. A **5-bullet key facts summary**.\n",
        "3. A **child-friendly 3-sentence summary**.\n",
        "- Observe how the same source produces different outputs based on prompt instructions.\n",
        "\n",
        "**Problem 4 – Focused Summarization**\n",
        "\n",
        "- Choose a long technical blog post.\n",
        "- Produce a summary that:\n",
        "    - Omits introduction and unrelated details\n",
        "    - Focuses **only** on \"challenges\" discussed in the article.\n",
        "\n",
        "***\n",
        "\n",
        "### **Section 3 – Coding**\n",
        "\n",
        "**Problem 5 – Multi-Language Code Generation**\n",
        "\n",
        "- Prompt the AI to create a **Fibonacci sequence generator**:\n",
        "    - In **Python**\n",
        "    - In **JavaScript**\n",
        "    - In **Java**\n",
        "- For each, instruct the AI to **add code comments** and **a sample run**.\n",
        "\n",
        "**Problem 6 – Algorithm with Performance Requirement**\n",
        "\n",
        "- Write a prompt that asks the AI to implement **binary search**:\n",
        "    - In Python\n",
        "    - Must handle both sorted ascending and descending arrays\n",
        "    - Include **unit test code**.\n",
        "\n",
        "***\n",
        "\n",
        "### **Section 4 – Data Extraction**\n",
        "\n",
        "**Problem 7 – JSON Output Extraction**\n",
        "\n",
        "- Give the AI a paragraph describing multiple people with names, job titles, and emails.\n",
        "- Prompt it to return a **JSON list of objects** with `name`, `title`, and `email` keys.\n",
        "- Ensure the output is **pure JSON** with no extra text.\n",
        "\n",
        "**Problem 8 – Sentiment \\& Keyword Extraction**\n",
        "\n",
        "- Take a set of **3 user product reviews** (mix of positive, neutral, negative).\n",
        "- Prompt the AI to return:\n",
        "    - Reviewer name\n",
        "    - Sentiment (positive/neutral/negative)\n",
        "    - 5 keywords describing the review content\n",
        "- Output format: **CSV or JSON**.\n",
        "\n",
        "***\n",
        "\n",
        "### **Student Instructions**\n",
        "\n",
        "For each problem:\n",
        "\n",
        "1. **Start with a baseline prompt** and run it.\n",
        "2. If the result is incomplete or off-target, **refine** by:\n",
        "    - Adding role instructions\n",
        "    - Specifying output format\n",
        "    - Giving examples (few-shot prompting)\n",
        "3. Compare initial and refined outputs — write **2–3 sentence observations** for each.\n",
        "\n",
        "***\n"
      ],
      "metadata": {
        "id": "BNEKKc7LrVm-"
      }
    },
    {
      "cell_type": "code",
      "execution_count": 1,
      "metadata": {
        "colab": {
          "base_uri": "https://localhost:8080/"
        },
        "id": "ypXGyO2BrUuT",
        "outputId": "1da2b16e-3cb5-4619-fbfa-19e6dcd44535"
      },
      "outputs": [
        {
          "output_type": "stream",
          "name": "stdout",
          "text": [
            "✅ OpenAI client ready\n"
          ]
        }
      ],
      "source": [
        "!pip install --quiet openai\n",
        "\n",
        "from google.colab import userdata\n",
        "import os\n",
        "from openai import OpenAI\n",
        "\n",
        "api_key = userdata.get(\"OPENAI_API_KEY\")\n",
        "if not api_key:\n",
        "    raise ValueError(\"❌ API key not found. Please set it in Colab Secrets.\")\n",
        "\n",
        "os.environ[\"OPENAI_API_KEY\"] = api_key\n",
        "client = OpenAI()\n",
        "print(\"✅ OpenAI client ready\")"
      ]
    },
    {
      "cell_type": "code",
      "source": [
        "def get_ai_response(prompt, model=\"gpt-4o-mini\", temperature=0.7):\n",
        "    try:\n",
        "        resp = client.chat.completions.create(\n",
        "            model=model,\n",
        "            messages=[{\"role\": \"user\", \"content\": prompt}],\n",
        "            temperature=temperature\n",
        "        )\n",
        "        return resp.choices[0].message.content.strip()\n",
        "    except Exception as e:\n",
        "        return f\"Error: {e}\""
      ],
      "metadata": {
        "id": "6AZe6TbXrcJz"
      },
      "execution_count": 2,
      "outputs": []
    },
    {
      "cell_type": "code",
      "source": [
        "prompt = \"\"\"\n",
        "You are a budget travel advisor chatbot who is friendly and concise.\n",
        "Give 3 cheap accommodation tips for backpackers traveling to {destination}.\n",
        "\"\"\"\n",
        "for place in [\"Thailand\", \"Spain\", \"Peru\"]:\n",
        "    print(f\"--- {place} ---\")\n",
        "    print(get_ai_response(prompt.format(destination=place)), \"\\n\")"
      ],
      "metadata": {
        "colab": {
          "base_uri": "https://localhost:8080/"
        },
        "id": "_2TCAKtPrfDn",
        "outputId": "e1baf457-60c8-4811-af0d-26d19c48dec5"
      },
      "execution_count": 3,
      "outputs": [
        {
          "output_type": "stream",
          "name": "stdout",
          "text": [
            "--- Thailand ---\n",
            "Sure! Here are three budget-friendly accommodation tips for backpackers in Thailand:\n",
            "\n",
            "1. **Hostels and Guesthouses**: Look for hostels or local guesthouses, especially in popular areas like Chiang Mai, Bangkok, and Pai. They often offer dormitory-style rooms at very low rates, plus opportunities to meet other travelers.\n",
            "\n",
            "2. **Book in Advance**: Use budget travel websites or apps to book your stays ahead of time. This can help you secure better deals and avoid higher prices during peak seasons.\n",
            "\n",
            "3. **Stay Outside Tourist Hotspots**: Consider staying a bit further from major attractions. Areas just outside popular tourist zones often have cheaper accommodation options and can provide a more authentic local experience.\n",
            "\n",
            "Happy travels! \n",
            "\n",
            "--- Spain ---\n",
            "Sure! Here are three budget accommodation tips for backpackers traveling to Spain:\n",
            "\n",
            "1. **Hostels**: Look for hostels in major cities like Barcelona and Madrid. They offer affordable dormitory-style rooms and often have kitchens to save on meals. Websites like Hostelworld or Booking.com can help you find great deals.\n",
            "\n",
            "2. **Couchsurfing**: Consider using Couchsurfing to find locals willing to host you for free. This not only saves money but also gives you a chance to experience Spanish culture firsthand.\n",
            "\n",
            "3. **Camping**: If you’re traveling to coastal areas or national parks, check out campsites. Many offer low-cost pitches for tents, and you can enjoy nature while saving money on accommodation.\n",
            "\n",
            "Happy travels! \n",
            "\n",
            "--- Peru ---\n",
            "Sure! Here are three budget-friendly accommodation tips for backpackers traveling to Peru:\n",
            "\n",
            "1. **Hostels**: Look for hostels in major cities like Lima, Cusco, and Arequipa. They often offer dormitory-style rooms at affordable rates, plus amenities like kitchens and social areas to meet fellow travelers.\n",
            "\n",
            "2. **Couchsurfing**: Use platforms like Couchsurfing to find locals willing to host you for free. It’s a great way to save money while experiencing Peruvian culture firsthand.\n",
            "\n",
            "3. **Guesthouses and Homestays**: Opt for small guesthouses or homestays in rural areas. They are typically cheaper than hotels and provide an authentic experience, often including meals and local insights from the hosts.\n",
            "\n",
            "Happy travels! \n",
            "\n"
          ]
        }
      ]
    },
    {
      "cell_type": "code",
      "source": [
        "few_shot = \"\"\"\n",
        "You are BookHelper, the online bookstore assistant.\n",
        "\n",
        "User: How do I track my book order?\n",
        "BookHelper: Log in, go to 'Orders', click the order ID to track.\n",
        "\n",
        "User: Can I return a damaged book?\n",
        "BookHelper: Yes, damaged books can be returned within 14 days for free.\n",
        "\n",
        "User: Do you ship internationally?\n",
        "BookHelper: Yes, we ship to over 50 countries with added shipping costs.\n",
        "\n",
        "User: What are your audiobook prices?\n",
        "BookHelper:\n",
        "\"\"\"\n",
        "\n",
        "print(get_ai_response(few_shot))"
      ],
      "metadata": {
        "colab": {
          "base_uri": "https://localhost:8080/"
        },
        "id": "i6szncUmrh_5",
        "outputId": "64f13094-4d51-4ba6-99fb-3c8ba3656408"
      },
      "execution_count": 4,
      "outputs": [
        {
          "output_type": "stream",
          "name": "stdout",
          "text": [
            "Our audiobook prices vary depending on the title and format. Typically, they range from $9.99 to $29.99. You can browse our audiobook selection on the website for specific pricing.\n"
          ]
        }
      ]
    },
    {
      "cell_type": "code",
      "source": [
        "article = \"\"\"\n",
        "Space exploration has advanced through new rocket technologies, private sector involvement,\n",
        "and upcoming Mars missions. AI is helping design spacecraft and analyze space data.\n",
        "\"\"\"\n",
        "print(\"--- 2-sentence summary ---\")\n",
        "print(get_ai_response(f\"Summarize in 2 sentences:\\n{article}\\n\"), \"\\n\")\n",
        "\n",
        "print(\"--- 5-bullet facts ---\")\n",
        "print(get_ai_response(f\"Summarize into 5 bullet points:\\n{article}\\n\"), \"\\n\")\n",
        "\n",
        "print(\"--- Child-friendly summary ---\")\n",
        "print(get_ai_response(f\"Explain for a 10-year-old in 3 sentences:\\n{article}\"))"
      ],
      "metadata": {
        "colab": {
          "base_uri": "https://localhost:8080/"
        },
        "id": "nPTLGM65rkmY",
        "outputId": "70cf3aac-d14c-4e3a-ed72-d9bc6a2213f4"
      },
      "execution_count": 5,
      "outputs": [
        {
          "output_type": "stream",
          "name": "stdout",
          "text": [
            "--- 2-sentence summary ---\n",
            "Space exploration is progressing with innovative rocket technologies, increased participation from private companies, and planned missions to Mars. Additionally, artificial intelligence is playing a crucial role in spacecraft design and the analysis of space data. \n",
            "\n",
            "--- 5-bullet facts ---\n",
            "- Recent advancements in rocket technologies have significantly propelled space exploration efforts.\n",
            "- Increased involvement from the private sector is enhancing innovation and investment in space initiatives.\n",
            "- Upcoming missions to Mars are on the horizon, aiming to expand our understanding of the planet.\n",
            "- Artificial Intelligence (AI) is playing a crucial role in designing spacecraft and analyzing vast amounts of space data.\n",
            "- These developments collectively contribute to a new era of exploration and discovery in space. \n",
            "\n",
            "--- Child-friendly summary ---\n",
            "Space exploration has gotten better because scientists have created new rockets and companies are working together to explore space. Smart computers, called AI, help design spaceships and look at the information we find in space. Soon, we are planning to send missions to Mars to learn more about the planet!\n"
          ]
        }
      ]
    },
    {
      "cell_type": "code",
      "source": [
        "long_text = \"\"\"\n",
        "The project faced numerous challenges including budget cuts, resource mismanagement,\n",
        "and delays from supply chain disruptions. While the introduction celebrated the vision,\n",
        "it became clear that leadership turnover also contributed to issues.\n",
        "\"\"\"\n",
        "prompt = f\"From the text below, list ONLY the challenges mentioned:\\n{long_text}\"\n",
        "print(get_ai_response(prompt))"
      ],
      "metadata": {
        "colab": {
          "base_uri": "https://localhost:8080/"
        },
        "id": "XJtCnNANrtbI",
        "outputId": "3d07ca85-b652-4585-e343-65483f3e8605"
      },
      "execution_count": 6,
      "outputs": [
        {
          "output_type": "stream",
          "name": "stdout",
          "text": [
            "1. Budget cuts\n",
            "2. Resource mismanagement\n",
            "3. Delays from supply chain disruptions\n",
            "4. Leadership turnover\n"
          ]
        }
      ]
    },
    {
      "cell_type": "code",
      "source": [
        "langs = {\n",
        "    \"Python\": \"Write a Python function to generate first 10 Fibonacci numbers with comments.\",\n",
        "    \"JavaScript\": \"Write a JavaScript function to generate first 10 Fibonacci numbers with comments.\",\n",
        "    \"Java\": \"Write a Java program to print first 10 Fibonacci numbers with comments.\"\n",
        "}\n",
        "for lang, prompt in langs.items():\n",
        "    print(f\"--- {lang} ---\")\n",
        "    print(get_ai_response(prompt), \"\\n\")"
      ],
      "metadata": {
        "colab": {
          "base_uri": "https://localhost:8080/"
        },
        "id": "FTSmrfGsrxQ7",
        "outputId": "9105fba2-da82-4e37-fcc0-a570f83665ab"
      },
      "execution_count": 7,
      "outputs": [
        {
          "output_type": "stream",
          "name": "stdout",
          "text": [
            "--- Python ---\n",
            "Certainly! Below is a Python function that generates the first 10 Fibonacci numbers, along with comments explaining each part of the code.\n",
            "\n",
            "```python\n",
            "def generate_fibonacci(n):\n",
            "    \"\"\"\n",
            "    Generates the first n Fibonacci numbers.\n",
            "    \n",
            "    Parameters:\n",
            "    n (int): The number of Fibonacci numbers to generate.\n",
            "    \n",
            "    Returns:\n",
            "    list: A list containing the first n Fibonacci numbers.\n",
            "    \"\"\"\n",
            "    # Initialize the list to store Fibonacci numbers\n",
            "    fibonacci_numbers = []\n",
            "    \n",
            "    # Starting values for the Fibonacci sequence\n",
            "    a, b = 0, 1\n",
            "    \n",
            "    # Loop to generate the Fibonacci numbers\n",
            "    for _ in range(n):\n",
            "        # Append the current number to the list\n",
            "        fibonacci_numbers.append(a)\n",
            "        \n",
            "        # Update a and b to the next Fibonacci numbers\n",
            "        a, b = b, a + b\n",
            "    \n",
            "    return fibonacci_numbers\n",
            "\n",
            "# Generate the first 10 Fibonacci numbers\n",
            "first_10_fibonacci = generate_fibonacci(10)\n",
            "\n",
            "# Print the result\n",
            "print(first_10_fibonacci)\n",
            "```\n",
            "\n",
            "### Explanation of the Code:\n",
            "\n",
            "1. **Function Definition**: The function `generate_fibonacci` takes one parameter `n`, which specifies how many Fibonacci numbers to generate.\n",
            "\n",
            "2. **List Initialization**: We create an empty list `fibonacci_numbers` to store the Fibonacci numbers as we generate them.\n",
            "\n",
            "3. **Starting Values**: We initialize two variables, `a` and `b`, to 0 and 1, respectively. These represent the first two numbers in the Fibonacci sequence.\n",
            "\n",
            "4. **Loop**: We use a for loop that runs `n` times. In each iteration:\n",
            "   - We append the current value of `a` to the list `fibonacci_numbers`.\n",
            "   - We then update `a` and `b` to the next numbers in the sequence. Specifically, `a` takes the value of `b`, and `b` takes the value of `a + b`.\n",
            "\n",
            "5. **Return Statement**: After the loop completes, we return the list of generated Fibonacci numbers.\n",
            "\n",
            "6. **Function Call**: We call the function with the argument `10` to generate the first 10 Fibonacci numbers and store the result in `first_10_fibonacci`.\n",
            "\n",
            "7. **Print**: Finally, we print the generated Fibonacci numbers. \n",
            "\n",
            "When you run this code, the output will be the first 10 Fibonacci numbers: `[0, 1, 1, 2, 3, 5, 8, 13, 21, 34]`. \n",
            "\n",
            "--- JavaScript ---\n",
            "Certainly! Here's a JavaScript function that generates the first 10 Fibonacci numbers, along with comments explaining each part of the code:\n",
            "\n",
            "```javascript\n",
            "function generateFibonacci(n) {\n",
            "    // Create an array to hold the Fibonacci numbers\n",
            "    const fibonacciNumbers = [];\n",
            "    \n",
            "    // Initialize the first two Fibonacci numbers\n",
            "    let a = 0; // First Fibonacci number\n",
            "    let b = 1; // Second Fibonacci number\n",
            "    \n",
            "    // Loop to generate the Fibonacci numbers up to 'n'\n",
            "    for (let i = 0; i < n; i++) {\n",
            "        // Push the current Fibonacci number (a) into the array\n",
            "        fibonacciNumbers.push(a);\n",
            "        \n",
            "        // Calculate the next Fibonacci number\n",
            "        // The next number is the sum of the previous two numbers\n",
            "        const next = a + b;\n",
            "        \n",
            "        // Update 'a' and 'b' for the next iteration\n",
            "        a = b; // Move 'b' to 'a'\n",
            "        b = next; // Move the calculated next number to 'b'\n",
            "    }\n",
            "    \n",
            "    // Return the array of Fibonacci numbers\n",
            "    return fibonacciNumbers;\n",
            "}\n",
            "\n",
            "// Generate the first 10 Fibonacci numbers\n",
            "const first10Fibonacci = generateFibonacci(10);\n",
            "\n",
            "// Output the result\n",
            "console.log(first10Fibonacci);\n",
            "```\n",
            "\n",
            "### Explanation:\n",
            "1. **Function Declaration**: The function `generateFibonacci` takes one parameter `n`, which specifies how many Fibonacci numbers to generate.\n",
            "\n",
            "2. **Array Initialization**: An empty array `fibonacciNumbers` is created to store the Fibonacci numbers.\n",
            "\n",
            "3. **Initial Values**: Two variables `a` and `b` are initialized to represent the first two Fibonacci numbers (0 and 1).\n",
            "\n",
            "4. **Loop**: A `for` loop runs `n` times to generate the Fibonacci sequence:\n",
            "   - The current value of `a` is pushed into the `fibonacciNumbers` array.\n",
            "   - The next Fibonacci number is calculated as the sum of `a` and `b`.\n",
            "   - The values of `a` and `b` are updated for the next iteration.\n",
            "\n",
            "5. **Return Statement**: After the loop completes, the function returns the array containing the first `n` Fibonacci numbers.\n",
            "\n",
            "6. **Function Call**: The function is called with `10` to generate the first 10 Fibonacci numbers, and the result is logged to the console. \n",
            "\n",
            "--- Java ---\n",
            "Certainly! Below is a simple Java program that prints the first 10 Fibonacci numbers, along with comments explaining each part of the code.\n",
            "\n",
            "```java\n",
            "public class Fibonacci {\n",
            "\n",
            "    public static void main(String[] args) {\n",
            "        // Number of Fibonacci numbers to print\n",
            "        int count = 10;\n",
            "\n",
            "        // First two Fibonacci numbers\n",
            "        int first = 0; // 0th Fibonacci number\n",
            "        int second = 1; // 1st Fibonacci number\n",
            "\n",
            "        // Print the first two Fibonacci numbers\n",
            "        System.out.print(\"First \" + count + \" Fibonacci numbers: \" + first + \", \" + second);\n",
            "\n",
            "        // Loop to calculate and print the next Fibonacci numbers\n",
            "        for (int i = 2; i < count; i++) {\n",
            "            // Calculate the next Fibonacci number\n",
            "            int next = first + second;\n",
            "\n",
            "            // Print the next Fibonacci number\n",
            "            System.out.print(\", \" + next);\n",
            "\n",
            "            // Update the first and second numbers for the next iteration\n",
            "            first = second; // Move to the next number\n",
            "            second = next; // Update the second number to the newly calculated number\n",
            "        }\n",
            "\n",
            "        // Print a new line after the sequence\n",
            "        System.out.println();\n",
            "    }\n",
            "}\n",
            "```\n",
            "\n",
            "### Explanation:\n",
            "\n",
            "1. **Class Declaration**: We declare a public class named `Fibonacci`.\n",
            "  \n",
            "2. **Main Method**: The `main` method is the entry point of the program.\n",
            "\n",
            "3. **Count Variable**: We declare an `int count` variable set to 10, which represents how many Fibonacci numbers we want to print.\n",
            "\n",
            "4. **Fibonacci Initialization**: We initialize the first two Fibonacci numbers:\n",
            "   - `first` is set to 0, representing the 0th Fibonacci number.\n",
            "   - `second` is set to 1, representing the 1st Fibonacci number.\n",
            "\n",
            "5. **Printing Initial Values**: We print the first two Fibonacci numbers.\n",
            "\n",
            "6. **Loop for Calculation**: A `for` loop starts from 2 and goes up to `count - 1` (since we already printed the first two).\n",
            "   - Inside the loop, we calculate the next Fibonacci number as the sum of `first` and `second`.\n",
            "   - We then print the next Fibonacci number.\n",
            "   - We update `first` to be `second` and `second` to be `next` for the next iteration.\n",
            "\n",
            "7. **End of Output**: Finally, we print a new line for better formatting.\n",
            "\n",
            "### Running the Program:\n",
            "To run the program, simply copy it into a file named `Fibonacci.java`, compile it using `javac Fibonacci.java`, and execute it with `java Fibonacci`. It will display the first 10 Fibonacci numbers. \n",
            "\n"
          ]
        }
      ]
    },
    {
      "cell_type": "code",
      "source": [
        "binary_search_prompt = \"\"\"\n",
        "Implement binary search in Python that can handle both ascending and descending sorted arrays.\n",
        "Include unit tests to demonstrate correctness.\n",
        "\"\"\"\n",
        "print(get_ai_response(binary_search_prompt))"
      ],
      "metadata": {
        "colab": {
          "base_uri": "https://localhost:8080/"
        },
        "id": "gKzIo5Z4rz1l",
        "outputId": "7c38fd1d-bff0-411f-f603-99067f65c509"
      },
      "execution_count": 8,
      "outputs": [
        {
          "output_type": "stream",
          "name": "stdout",
          "text": [
            "Here's a Python implementation of a binary search function that can handle both ascending and descending sorted arrays. Additionally, I'll provide unit tests to demonstrate its correctness.\n",
            "\n",
            "```python\n",
            "def binary_search(arr, target):\n",
            "    if not arr:\n",
            "        return -1  # Empty array case\n",
            "\n",
            "    left, right = 0, len(arr) - 1\n",
            "\n",
            "    # Determine if the array is sorted in ascending or descending order\n",
            "    is_ascending = arr[left] < arr[right]\n",
            "\n",
            "    while left <= right:\n",
            "        mid = left + (right - left) // 2\n",
            "\n",
            "        if arr[mid] == target:\n",
            "            return mid  # Target found\n",
            "        if is_ascending:\n",
            "            if target < arr[mid]:\n",
            "                right = mid - 1  # Target is in the left half\n",
            "            else:\n",
            "                left = mid + 1  # Target is in the right half\n",
            "        else:\n",
            "            if target > arr[mid]:\n",
            "                right = mid - 1  # Target is in the left half\n",
            "            else:\n",
            "                left = mid + 1  # Target is in the right half\n",
            "\n",
            "    return -1  # Target not found\n",
            "\n",
            "# Unit tests\n",
            "import unittest\n",
            "\n",
            "class TestBinarySearch(unittest.TestCase):\n",
            "    \n",
            "    def test_ascending_array(self):\n",
            "        self.assertEqual(binary_search([1, 2, 3, 4, 5], 3), 2)\n",
            "        self.assertEqual(binary_search([1, 2, 3, 4, 5], 1), 0)\n",
            "        self.assertEqual(binary_search([1, 2, 3, 4, 5], 5), 4)\n",
            "        self.assertEqual(binary_search([1, 2, 3, 4, 5], 6), -1)\n",
            "\n",
            "    def test_descending_array(self):\n",
            "        self.assertEqual(binary_search([5, 4, 3, 2, 1], 3), 2)\n",
            "        self.assertEqual(binary_search([5, 4, 3, 2, 1], 5), 0)\n",
            "        self.assertEqual(binary_search([5, 4, 3, 2, 1], 1), 4)\n",
            "        self.assertEqual(binary_search([5, 4, 3, 2, 1], 0), -1)\n",
            "\n",
            "    def test_empty_array(self):\n",
            "        self.assertEqual(binary_search([], 1), -1)\n",
            "\n",
            "    def test_single_element_array(self):\n",
            "        self.assertEqual(binary_search([1], 1), 0)\n",
            "        self.assertEqual(binary_search([1], 2), -1)\n",
            "        self.assertEqual(binary_search([1], 0), -1)\n",
            "        self.assertEqual(binary_search([5], 5), 0)\n",
            "        self.assertEqual(binary_search([5], 6), -1)\n",
            "\n",
            "    def test_large_numbers(self):\n",
            "        self.assertEqual(binary_search([10**6, 10**7, 10**8], 10**7), 1)\n",
            "        self.assertEqual(binary_search([10**8, 10**7, 10**6], 10**7), 1)\n",
            "\n",
            "if __name__ == '__main__':\n",
            "    unittest.main()\n",
            "```\n",
            "\n",
            "### Explanation:\n",
            "1. **Binary Search Function** (`binary_search`):\n",
            "   - The function takes a sorted array `arr` and a `target` value to search for.\n",
            "   - It checks if the array is empty and returns `-1` if it is.\n",
            "   - It determines if the array is sorted in ascending or descending order by comparing the first and last elements.\n",
            "   - It uses a while loop to perform the standard binary search algorithm, adjusting the `left` and `right` pointers based on the comparison between the `target` and the middle element.\n",
            "\n",
            "2. **Unit Tests**:\n",
            "   - A test class `TestBinarySearch` is defined using the `unittest` framework.\n",
            "   - Different test cases are included to verify the functionality of the binary search for both ascending and descending arrays, as well as edge cases such as empty arrays and single-element arrays.\n",
            "\n",
            "You can run this code in a Python environment to perform the binary search and run the unit tests to verify the implementation's correctness.\n"
          ]
        }
      ]
    },
    {
      "cell_type": "code",
      "source": [
        "people_text = \"\"\"\n",
        "Contact: Jane Doe, CTO, jane.doe@example.com\n",
        "Contact: Mark Lee, Marketing Manager, mlee@company.com\n",
        "\"\"\"\n",
        "json_prompt = f\"\"\"\n",
        "Extract name, title, and email from the text below as a JSON array of objects:\n",
        "{people_text}\n",
        "Ensure output is pure JSON with no extra text.\n",
        "\"\"\"\n",
        "print(get_ai_response(json_prompt))"
      ],
      "metadata": {
        "colab": {
          "base_uri": "https://localhost:8080/"
        },
        "id": "lw7S6DDUr3T7",
        "outputId": "ab2dcef8-97ca-4732-c055-04f9639a37e4"
      },
      "execution_count": 10,
      "outputs": [
        {
          "output_type": "stream",
          "name": "stdout",
          "text": [
            "```json\n",
            "[\n",
            "    {\n",
            "        \"name\": \"Jane Doe\",\n",
            "        \"title\": \"CTO\",\n",
            "        \"email\": \"jane.doe@example.com\"\n",
            "    },\n",
            "    {\n",
            "        \"name\": \"Mark Lee\",\n",
            "        \"title\": \"Marketing Manager\",\n",
            "        \"email\": \"mlee@company.com\"\n",
            "    }\n",
            "]\n",
            "```\n"
          ]
        }
      ]
    },
    {
      "cell_type": "code",
      "source": [
        "reviews = \"\"\"\n",
        "Alice: I love this phone, battery lasts forever and camera is great!\n",
        "Bob: The laptop is okay, but could be faster.\n",
        "Charlie: The headphones stopped working after a week, very disappointed.\n",
        "\"\"\"\n",
        "sentiment_prompt = f\"\"\"\n",
        "From the reviews below, return JSON where each object contains:\n",
        "- name\n",
        "- sentiment (positive/neutral/negative)\n",
        "- 5 keywords\n",
        "Reviews:\n",
        "{reviews}\n",
        "\"\"\"\n",
        "print(get_ai_response(sentiment_prompt))"
      ],
      "metadata": {
        "colab": {
          "base_uri": "https://localhost:8080/"
        },
        "id": "E_lh8TWHr6b4",
        "outputId": "3bd9474f-5435-4764-9061-1539ad6e7967"
      },
      "execution_count": 11,
      "outputs": [
        {
          "output_type": "stream",
          "name": "stdout",
          "text": [
            "```json\n",
            "[\n",
            "    {\n",
            "        \"name\": \"Alice\",\n",
            "        \"sentiment\": \"positive\",\n",
            "        \"keywords\": [\"love\", \"phone\", \"battery\", \"lasts\", \"camera\"]\n",
            "    },\n",
            "    {\n",
            "        \"name\": \"Bob\",\n",
            "        \"sentiment\": \"neutral\",\n",
            "        \"keywords\": [\"laptop\", \"okay\", \"could\", \"faster\", \"but\"]\n",
            "    },\n",
            "    {\n",
            "        \"name\": \"Charlie\",\n",
            "        \"sentiment\": \"negative\",\n",
            "        \"keywords\": [\"headphones\", \"stopped\", \"working\", \"disappointed\", \"week\"]\n",
            "    }\n",
            "]\n",
            "```\n"
          ]
        }
      ]
    }
  ]
}