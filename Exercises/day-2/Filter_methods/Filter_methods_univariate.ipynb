{
 "cells": [
  {
   "cell_type": "markdown",
   "id": "522617be",
   "metadata": {},
   "source": [
    "\n",
    "## Exercise 2: Univariate Selection (ANOVA F-Value)\n",
    "\n",
    "**Problem Description:**  \n",
    "Rank features by how well they distinguish classes via ANOVA F-value.\n",
    "\n",
    "**Solution Overview:**  \n",
    "Use `SelectKBest(f_classif)` to compute F-scores, vary _k_, and plot results.\n",
    "\n"
   ]
  },
  {
   "cell_type": "code",
   "execution_count": null,
   "id": "290fe267",
   "metadata": {
    "vscode": {
     "languageId": "plaintext"
    }
   },
   "outputs": [],
   "source": [
    "# 2.1 Setup\n",
    "from sklearn.feature_selection import SelectKBest, f_classif"
   ]
  },
  {
   "cell_type": "code",
   "execution_count": null,
   "id": "97a524a3",
   "metadata": {
    "vscode": {
     "languageId": "plaintext"
    }
   },
   "outputs": [],
   "source": [
    "# 2.2 Compute F-scores and select top k\n",
    "def run_anova(k):\n",
    "selector = SelectKBest(score_func=f_classif, k=k)\n",
    "X_k = selector.fit_transform(X, y)\n",
    "df = pd.DataFrame({\n",
    "'feature': X.columns,\n",
    "'F_score': selector.scores_\n",
    "}).sort_values('F_score', ascending=False)\n",
    "print(f\"\\nTop {k} features by ANOVA F-value:\\n\", df.head(k))\n",
    "return df"
   ]
  },
  {
   "cell_type": "code",
   "execution_count": null,
   "id": "eb9df965",
   "metadata": {
    "vscode": {
     "languageId": "plaintext"
    }
   },
   "outputs": [],
   "source": [
    "# 2.3 Try k = 1, 2, 3, 4 and plot\n",
    "for k in :\n",
    "df_anova = run_anova(k)\n",
    "\n",
    "plt.figure(figsize=(6,4))\n",
    "sns.barplot(x='F_score', y='feature', data=df_anova)\n",
    "plt.title('ANOVA F-scores')\n",
    "plt.show()"
   ]
  },
  {
   "cell_type": "markdown",
   "id": "55f13ef1",
   "metadata": {},
   "source": [
    "# 2.3 Analysis\n",
    "Interpret the meaning of the F-score for each feature.\n",
    "\n",
    "Try k = 1, 2, 4 and discuss stability of rankings.\n",
    "\n",
    "Visualize F-scores with a horizontal bar plot."
   ]
  },
  {
   "cell_type": "markdown",
   "id": "74559a5b",
   "metadata": {},
   "source": [
    "# Exercise 2: ANOVA F-Value\n",
    "## Analysis to Include in Code"
   ]
  },
  {
   "cell_type": "code",
   "execution_count": null,
   "id": "f229cf68",
   "metadata": {
    "vscode": {
     "languageId": "plaintext"
    }
   },
   "outputs": [],
   "source": [
    "# 1. Score Table\n",
    "display(anova_df.style.background_gradient('Reds', subset=['F_score']))\n"
   ]
  },
  {
   "cell_type": "code",
   "execution_count": null,
   "id": "a3de14d5",
   "metadata": {
    "vscode": {
     "languageId": "plaintext"
    }
   },
   "outputs": [],
   "source": [
    "# Ranking Stability\n",
    "stability = {}\n",
    "for k in [1,2,3,4]:\n",
    "    stability[k] = list(run_anova(k)['feature'][:k])\n",
    "print(\"Top-k stability:\", stability)\n"
   ]
  },
  {
   "cell_type": "code",
   "execution_count": null,
   "id": "79665e97",
   "metadata": {
    "vscode": {
     "languageId": "plaintext"
    }
   },
   "outputs": [],
   "source": [
    "# Cumulative Explained Variance (approximate)\n",
    "cum = anova_df['F_score'].cumsum() / anova_df['F_score'].sum()\n",
    "plt.plot(range(1,len(cum)+1), cum, marker='o')\n",
    "plt.xlabel(\"Number of Features\"); plt.ylabel(\"Cumulative F-score (%)\")\n",
    "plt.title(\"Cumulative Importance by F-score\")\n",
    "plt.show()\n"
   ]
  }
 ],
 "metadata": {
  "language_info": {
   "name": "python"
  }
 },
 "nbformat": 4,
 "nbformat_minor": 5
}
