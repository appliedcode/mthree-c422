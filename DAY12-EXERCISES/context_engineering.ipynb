{
  "nbformat": 4,
  "nbformat_minor": 0,
  "metadata": {
    "colab": {
      "provenance": []
    },
    "kernelspec": {
      "name": "python3",
      "display_name": "Python 3"
    },
    "language_info": {
      "name": "python"
    }
  },
  "cells": [
    {
      "cell_type": "code",
      "execution_count": 1,
      "metadata": {
        "colab": {
          "base_uri": "https://localhost:8080/"
        },
        "id": "APTfuEeGSIH7",
        "outputId": "1c90391e-bc06-4104-c302-2382219dc132"
      },
      "outputs": [
        {
          "output_type": "stream",
          "name": "stdout",
          "text": [
            "✅ OpenAI API key loaded safely\n"
          ]
        }
      ],
      "source": [
        "from google.colab import userdata\n",
        "import os\n",
        "\n",
        "# Set your OpenAI API key securely in Colab Secrets (once)\n",
        "# userdata.set(\"OPENAI_API_KEY\", \"your-api-key-here\")\n",
        "\n",
        "# Retrieve key in your notebook\n",
        "openai_api_key = userdata.get(\"OPENAI_API_KEY\")\n",
        "if openai_api_key:\n",
        "    os.environ[\"OPENAI_API_KEY\"] = openai_api_key\n",
        "    print(\"✅ OpenAI API key loaded safely\")\n",
        "else:\n",
        "    print(\"❌ OpenAI API key not found. Please set it using Colab Secrets.\")"
      ]
    },
    {
      "cell_type": "code",
      "source": [
        "!pip install --quiet openai -q\n",
        "# Create client\n",
        "from openai import OpenAI\n",
        "client = OpenAI(api_key=os.environ[\"OPENAI_API_KEY\"])"
      ],
      "metadata": {
        "id": "D3KyPEM9SUUB"
      },
      "execution_count": 2,
      "outputs": []
    },
    {
      "cell_type": "code",
      "source": [
        "\n",
        "def generate_response(prompt, model=\"gpt-4o-mini\", max_tokens=200):\n",
        "    \"\"\"\n",
        "    Sends a user prompt to the OpenAI model and returns the AI's response.\n",
        "    \"\"\"\n",
        "    try:\n",
        "        completion = client.chat.completions.create(\n",
        "            model=model,\n",
        "            messages=[{\"role\": \"user\", \"content\": prompt}],\n",
        "            temperature=0.7,\n",
        "            max_tokens=max_tokens\n",
        "        )\n",
        "        return completion.choices[0].message.content.strip()\n",
        "    except Exception as e:\n",
        "        return f\"Error: {e}\""
      ],
      "metadata": {
        "id": "QldPajX0S0-r"
      },
      "execution_count": 5,
      "outputs": []
    },
    {
      "cell_type": "code",
      "source": [
        "# Exercise 1: Context Management\n",
        "# WITHOUT Context\n",
        "print(\"=== Conversation WITHOUT Context ===\")\n",
        "questions = [\n",
        "    \"Who is Albert Einstein?\",\n",
        "    \"What awards has he won?\",\n",
        "    \"Tell me about his early life.\"\n",
        "]\n",
        "\n",
        "for q in questions:\n",
        "    response = generate_response(q)\n",
        "    print(f\"Q: {q}\\nAI: {response}\\n\")\n",
        "\n",
        "# WITH Context\n",
        "print(\"\\n=== Conversation WITH Context ===\")\n",
        "context = \"\"\n",
        "for q in questions:\n",
        "    full_prompt = context + f\"\\nUser: {q}\\nAI:\"\n",
        "    response = generate_response(full_prompt)\n",
        "    print(f\"Q: {q}\\nAI: {response}\\n\")\n",
        "    context += f\"\\nUser: {q}\\nAI: {response}\""
      ],
      "metadata": {
        "colab": {
          "base_uri": "https://localhost:8080/"
        },
        "id": "lPfl52ctTFBJ",
        "outputId": "79f8d7f0-f208-4b3d-b285-186909a79baf"
      },
      "execution_count": 6,
      "outputs": [
        {
          "output_type": "stream",
          "name": "stdout",
          "text": [
            "=== Conversation WITHOUT Context ===\n",
            "Q: Who is Albert Einstein?\n",
            "AI: Albert Einstein (1879–1955) was a theoretical physicist who is best known for developing the theory of relativity, one of the two pillars of modern physics (the other being quantum mechanics). His most famous equation, \\(E=mc^2\\), expresses the equivalence of mass and energy, a fundamental concept in physics.\n",
            "\n",
            "Born in Ulm, Germany, Einstein showed an early interest in science and mathematics. He studied at the Polytechnic Institute in Zurich and later worked as a patent examiner. In 1905, often referred to as his \"miracle year,\" he published four groundbreaking papers, including those on the photoelectric effect (which later earned him the Nobel Prize in Physics in 1921), Brownian motion, special relativity, and mass-energy equivalence.\n",
            "\n",
            "In 1915, he presented the general theory of relativity, which describes gravity as a curvature of spacetime caused by mass. This theory has been confirmed by many experiments and observations, including the bending\n",
            "\n",
            "Q: What awards has he won?\n",
            "AI: Could you please specify who you are referring to? There are many individuals who could be the subject of your question regarding awards.\n",
            "\n",
            "Q: Tell me about his early life.\n",
            "AI: To provide accurate information, could you please specify whose early life you would like to know about?\n",
            "\n",
            "\n",
            "=== Conversation WITH Context ===\n",
            "Q: Who is Albert Einstein?\n",
            "AI: Albert Einstein was a theoretical physicist born on March 14, 1879, in Ulm, Germany, and he passed away on April 18, 1955, in Princeton, New Jersey, USA. He is best known for developing the theory of relativity, particularly the equation \\(E=mc^2\\), which describes the equivalence of mass and energy. His work fundamentally changed our understanding of space, time, and gravity.\n",
            "\n",
            "Einstein's contributions to physics include the photoelectric effect, for which he received the Nobel Prize in Physics in 1921, as well as significant advancements in statistical mechanics and quantum theory. He is often regarded as one of the most influential scientists of the 20th century, and his ideas continue to play a crucial role in modern physics. Beyond his scientific achievements, Einstein was also known for his philosophical views on science, politics, and human rights.\n",
            "\n",
            "Q: What awards has he won?\n",
            "AI: Albert Einstein received several prestigious awards and honors throughout his life, the most notable of which include:\n",
            "\n",
            "1. **Nobel Prize in Physics (1921)**: He was awarded the Nobel Prize for his explanation of the photoelectric effect, which was pivotal in establishing quantum theory.\n",
            "\n",
            "2. **Copley Medal (1925)**: This award from the Royal Society of London recognizes outstanding achievements in scientific research.\n",
            "\n",
            "3. **Franklin Medal (1935)**: Presented by the Franklin Institute in Philadelphia, this medal honors those who have made significant contributions to science.\n",
            "\n",
            "4. **Max Planck Medal (1929)**: Awarded by the German Physical Society for outstanding contributions to theoretical physics.\n",
            "\n",
            "5. **Time Magazine's Person of the Century (1999)**: Although not an award in the traditional sense, Einstein was named the Person of the Century by Time magazine for his impact on the 20th century.\n",
            "\n",
            "In addition to these awards, Einstein received numerous honorary doctorates and memberships in various\n",
            "\n",
            "Q: Tell me about his early life.\n",
            "AI: Albert Einstein was born on March 14, 1879, in Ulm, in the Kingdom of Württemberg in the German Empire. He was the first child of Hermann Einstein, a salesman and engineer, and Pauline Koch. The family moved to Munich shortly after his birth, where his father and uncle founded an electrical engineering company.\n",
            "\n",
            "Einstein's early life was marked by a few significant influences. His family was secular but had Jewish heritage, and he experienced a relatively stable and supportive upbringing. He showed an early interest in science and mathematics, particularly fascinated by a compass given to him by his father at the age of five, which sparked his interest in the mysteries of the natural world.\n",
            "\n",
            "In 1889, Einstein began attending the Luitpold Gymnasium in Munich, where he faced a rigid educational system that he found stifling. He struggled with the authoritarian teaching style and often clashed with his teachers. Despite these challenges, he excelled in mathematics and physics.\n",
            "\n",
            "In 189\n",
            "\n"
          ]
        }
      ]
    },
    {
      "cell_type": "code",
      "source": [
        "# Exercise 2: Prompt Optimization\n",
        "# Test vague and optimized prompts\n",
        "prompts = [\n",
        "    (\"Explain blockchain.\", \"Vague Prompt\"),\n",
        "    (\"Explain blockchain technology in simple terms suitable for a 12-year-old, using exactly 3 short examples.\", \"Optimized Prompt\")\n",
        "]\n",
        "\n",
        "for prompt, label in prompts:\n",
        "    print(f\"--- {label} ---\")\n",
        "    response = generate_response(prompt)\n",
        "    print(response, \"\\n\")"
      ],
      "metadata": {
        "colab": {
          "base_uri": "https://localhost:8080/"
        },
        "id": "vY5muUBJTWsr",
        "outputId": "180558a3-ea25-4962-df14-ffbfbf4cae6d"
      },
      "execution_count": 7,
      "outputs": [
        {
          "output_type": "stream",
          "name": "stdout",
          "text": [
            "--- Vague Prompt ---\n",
            "Blockchain is a decentralized and distributed digital ledger technology that records transactions across many computers in such a way that the registered transactions cannot be altered retroactively. This makes blockchain a secure and transparent way to store and transfer data. Here are the key components and characteristics of blockchain:\n",
            "\n",
            "1. **Structure**: A blockchain is made up of a series of blocks, each containing a list of transactions. Each block is linked to the previous one through a cryptographic hash, forming a chain. This structure ensures that once a block is added to the chain, it cannot be changed without altering all subsequent blocks, which requires consensus from the network.\n",
            "\n",
            "2. **Decentralization**: Instead of being stored on a single central server, the blockchain is maintained by a network of computers (nodes) that all have a copy of the entire blockchain. This decentralization makes it resistant to censorship and fraud.\n",
            "\n",
            "3. **Transparency**: Transactions on a blockchain are visible to all participants in the network. This transparency builds trust among \n",
            "\n",
            "--- Optimized Prompt ---\n",
            "Sure! Think of blockchain technology like a special notebook that everyone can see and write in, but no one can erase anything. Here are three simple examples:\n",
            "\n",
            "1. **Digital Diary**: Imagine you have a diary where you and your friends write down all the fun things you do together. Once something is written, it can’t be changed or erased. Everyone can see the diary, so they know what happened, and they can trust that it’s true.\n",
            "\n",
            "2. **Building Blocks**: Picture a tower made of blocks, where each block has information on it. Once you stack a block on top, it can’t be taken away or changed without everyone knowing. If someone tries to take a block out, the tower will fall, and everyone will see that something is wrong.\n",
            "\n",
            "3. **Treasure Hunt**: Think of a treasure map that lots of friends are using. Every time someone finds a clue, they write it down on the map. If someone tries to change a clue, \n",
            "\n"
          ]
        }
      ]
    },
    {
      "cell_type": "code",
      "source": [
        "# Combining both techniques\n",
        "context = \"\"\n",
        "conversation = [\n",
        "    \"Explain quantum computing to someone who knows basic high school physics.\",\n",
        "    \"Can you give 2 real-world use cases?\",\n",
        "    \"Summarize that in exactly 3 bullet points.\"\n",
        "]\n",
        "\n",
        "for q in conversation:\n",
        "    optimized_prompt = f\"{context}\\nUser: {q}\\nAI:\"\n",
        "    response = generate_response(optimized_prompt)\n",
        "    print(f\"Q: {q}\\nAI: {response}\\n\")\n",
        "    context += f\"\\nUser: {q}\\nAI: {response}\""
      ],
      "metadata": {
        "colab": {
          "base_uri": "https://localhost:8080/"
        },
        "id": "5yOgdMmeTccv",
        "outputId": "83a60ce8-4f22-416a-a2d2-71b9a2c65c5e"
      },
      "execution_count": 8,
      "outputs": [
        {
          "output_type": "stream",
          "name": "stdout",
          "text": [
            "Q: Explain quantum computing to someone who knows basic high school physics.\n",
            "AI: Sure! Let's break down quantum computing in a way that's easy to understand, especially if you have a basic background in high school physics.\n",
            "\n",
            "1. **Classical Bits vs. Quantum Bits**: In classical computing, the basic unit of information is called a \"bit.\" A bit can be either a 0 or a 1. This is like a light switch that can be off (0) or on (1). Quantum computing uses \"qubits,\" which can also be 0 or 1, but here's the twist: thanks to the principles of quantum mechanics, a qubit can be both 0 and 1 at the same time! This is called **superposition**. You can think of it like a spinning coin that is both heads and tails until it lands.\n",
            "\n",
            "2. **Entanglement**: Another important concept in quantum computing is **entanglement**. When qubits are entangled, the state of one qubit is directly related to the state of another\n",
            "\n",
            "Q: Can you give 2 real-world use cases?\n",
            "AI: Certainly! Here are two real-world use cases of quantum computing:\n",
            "\n",
            "1. **Cryptography**: Quantum computing has the potential to revolutionize cybersecurity. Many of today’s encryption methods rely on the difficulty of factoring large numbers (like RSA encryption). Quantum computers can use algorithms like Shor's algorithm to factor these large numbers much more efficiently than classical computers. This means that once sufficiently powerful quantum computers are available, they could break current encryption methods, necessitating the development of new quantum-resistant cryptography. On the flip side, quantum key distribution (QKD) utilizes the principles of quantum mechanics to create secure communication channels that are theoretically immune to eavesdropping.\n",
            "\n",
            "2. **Drug Discovery and Material Science**: Quantum computing can significantly accelerate the process of drug discovery and the development of new materials. Simulating molecular interactions at the quantum level is incredibly complex and requires immense computational power. Classical computers struggle with this task, especially for larger molecules. Quantum computers can model these interactions more accurately and efficiently,\n",
            "\n",
            "Q: Summarize that in exactly 3 bullet points.\n",
            "AI: - **Cryptography**: Quantum computers can break current encryption methods (like RSA) using algorithms such as Shor's algorithm, while also enabling secure communication through quantum key distribution (QKD).\n",
            "\n",
            "- **Drug Discovery**: Quantum computing accelerates drug discovery by accurately simulating molecular interactions, which classical computers find challenging, especially for larger molecules.\n",
            "\n",
            "- **Material Science**: It helps in the development of new materials by efficiently modeling complex interactions at the quantum level, leading to innovations in various fields.\n",
            "\n"
          ]
        }
      ]
    }
  ]
}