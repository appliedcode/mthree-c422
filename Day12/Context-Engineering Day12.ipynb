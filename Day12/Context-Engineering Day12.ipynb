{
  "cells": [
    {
      "cell_type": "markdown",
      "source": [
        "## Lab Exercise: Context Management \\& Prompt Optimization in Prompt Engineering\n",
        "\n",
        "### Objective:\n",
        "\n",
        "- Understand and implement effective context management in prompts.\n",
        "- Practice prompt optimization to improve AI responses in clarity, specificity, and relevance.\n",
        "\n",
        "***\n",
        "\n",
        "### Setup:\n",
        "\n",
        "- Use OpenAI API or any language model API accessible in your Colab.\n",
        "- If API keys are needed, ensure they are safely added as environment variables or input by the user."
      ],
      "metadata": {
        "id": "eq4qKCdSNSko"
      }
    },
    {
      "cell_type": "code",
      "source": [
        "from google.colab import userdata\n",
        "import os\n",
        "\n",
        "# Set your OpenAI API key securely in Colab Secrets (once)\n",
        "# userdata.set(\"OPENAI_API_KEY\", \"your-api-key-here\")\n",
        "\n",
        "# Retrieve key in your notebook\n",
        "openai_api_key = userdata.get(\"OPENAI_API_KEY\")\n",
        "if openai_api_key:\n",
        "    os.environ[\"OPENAI_API_KEY\"] = openai_api_key\n",
        "    print(\"✅ OpenAI API key loaded safely\")\n",
        "else:\n",
        "    print(\"❌ OpenAI API key not found. Please set it using Colab Secrets.\")"
      ],
      "metadata": {
        "id": "2YMRqyRCNGmo",
        "outputId": "8f9e7158-6584-47e5-d615-c69836679abe",
        "colab": {
          "base_uri": "https://localhost:8080/"
        }
      },
      "execution_count": 7,
      "outputs": [
        {
          "output_type": "stream",
          "name": "stdout",
          "text": [
            "✅ OpenAI API key loaded safely\n"
          ]
        }
      ]
    },
    {
      "cell_type": "code",
      "source": [
        "!pip install --quiet openai -q\n",
        "# Create client\n",
        "from openai import OpenAI\n",
        "client = OpenAI(api_key=os.environ[\"OPENAI_API_KEY\"])"
      ],
      "metadata": {
        "id": "9qrFrzlcPI1n"
      },
      "execution_count": 8,
      "outputs": []
    },
    {
      "cell_type": "code",
      "source": [
        "def generate_response(prompt, model=\"gpt-4o-mini\", max_tokens=200):\n",
        "    \"\"\"\n",
        "    Sends a user prompt to the OpenAI model and returns the AI's response.\n",
        "    \"\"\"\n",
        "    try:\n",
        "        completion = client.chat.completions.create(\n",
        "            model=model,\n",
        "            messages=[{\"role\": \"user\", \"content\": prompt}],\n",
        "            temperature= 0.7,\n",
        "            max_tokens=max_tokens\n",
        "        )\n",
        "        return completion.choices[0].message.content.strip()\n",
        "    except Exception as e:\n",
        "        return f\"Error: {e}\""
      ],
      "metadata": {
        "id": "QgyY5D9BNzIT"
      },
      "execution_count": 9,
      "outputs": []
    },
    {
      "cell_type": "markdown",
      "source": [
        "### Exercise 1: Context Management\n",
        "\n",
        "**Goal:** Maintain relevant context across multiple turns of interaction to generate coherent and context-aware responses.\n",
        "\n",
        "**Steps:**\n",
        "\n",
        "1. Write a function `generate_response(prompt, context=None)` that:\n",
        "    - Takes a current prompt and optionally previous context.\n",
        "    - Constructs an input combining context and current prompt appropriately.\n",
        "    - Sends to the model and returns the response.\n",
        "2. Simulate a multi-turn conversation about a specific topic (e.g., \"Albert Einstein\") where each prompt builds on previous responses.\n",
        "3. Experiment with:\n",
        "    - Passing full context in each turn.\n",
        "    - Passing only the current prompt without context.\n",
        "4. Compare responses to see the difference context management makes."
      ],
      "metadata": {
        "id": "4Zcp3h72NYSH"
      }
    },
    {
      "cell_type": "code",
      "source": [
        "# WITHOUT Context\n",
        "print(\"=== Conversation WITHOUT Context ===\")\n",
        "questions = [\n",
        "    \"Who is Albert Einstein?\",\n",
        "    \"What awards has he won?\",\n",
        "    \"Tell me about his early life.\"\n",
        "]\n",
        "\n",
        "for q in questions:\n",
        "    response = generate_response(q)\n",
        "    print(f\"Q: {q}\\nAI: {response}\\n\")\n",
        "\n",
        "# WITH Context\n",
        "print(\"\\n=== Conversation WITH Context ===\")\n",
        "context = \"\"\n",
        "for q in questions:\n",
        "    full_prompt = context + f\"\\nUser: {q}\\nAI:\"\n",
        "    response = generate_response(full_prompt)\n",
        "    print(f\"Q: {q}\\nAI: {response}\\n\")\n",
        "    context += f\"\\nUser: {q}\\nAI: {response}\"\n",
        "\n"
      ],
      "metadata": {
        "id": "ediE9XofNVcZ",
        "outputId": "07c2e582-6de7-4264-844b-46f53de872de",
        "colab": {
          "base_uri": "https://localhost:8080/"
        }
      },
      "execution_count": 10,
      "outputs": [
        {
          "output_type": "stream",
          "name": "stdout",
          "text": [
            "=== Conversation WITHOUT Context ===\n",
            "Q: Who is Albert Einstein?\n",
            "AI: Albert Einstein (1879–1955) was a theoretical physicist, widely regarded as one of the most influential scientists of the 20th century. He is best known for developing the theory of relativity, particularly the equation \\(E = mc^2\\), which describes the equivalence of mass and energy. This groundbreaking work fundamentally changed the understanding of space, time, and gravity.\n",
            "\n",
            "Einstein was born in Ulm, in the Kingdom of Württemberg in the German Empire, and later moved to Munich. He studied physics and mathematics at the Polytechnic Institute in Zurich, Switzerland. After working as a patent examiner in Bern, he published several important papers in 1905, a year often referred to as his \"annus mirabilis\" or \"miracle year.\" These papers included his theories on the photoelectric effect, Brownian motion, and special relativity.\n",
            "\n",
            "In 1915, he presented the general theory of relativity, which provided a new understanding of gravity, describing it\n",
            "\n",
            "Q: What awards has he won?\n",
            "AI: Could you please specify which person you are referring to? There are many individuals with notable awards in various fields.\n",
            "\n",
            "Q: Tell me about his early life.\n",
            "AI: To provide you with accurate information, could you please specify whose early life you would like to know about?\n",
            "\n",
            "\n",
            "=== Conversation WITH Context ===\n",
            "Q: Who is Albert Einstein?\n",
            "AI: Albert Einstein was a theoretical physicist born on March 14, 1879, in Ulm, Germany, and he is best known for developing the theory of relativity, particularly the equation \\( E = mc^2 \\), which describes the equivalence of mass and energy. His work fundamentally changed our understanding of physics and the laws governing the universe.\n",
            "\n",
            "Einstein's contributions to science include explanations of the photoelectric effect, which earned him the Nobel Prize in Physics in 1921, and significant contributions to quantum mechanics, statistical mechanics, and cosmology. He also famously engaged with philosophical questions about the nature of reality and the limits of scientific knowledge.\n",
            "\n",
            "In addition to his scientific achievements, Einstein was an outspoken advocate for civil rights, pacifism, and Zionism. He emigrated to the United States in 1933 to escape the rise of the Nazi regime in Germany and took a position at the Institute for Advanced Study in Princeton, New Jersey, where he worked until his death on\n",
            "\n",
            "Q: What awards has he won?\n",
            "AI: Albert Einstein received several prestigious awards and honors throughout his lifetime. The most notable among them include:\n",
            "\n",
            "1. **Nobel Prize in Physics (1921)**: Awarded for his explanation of the photoelectric effect, which was pivotal in establishing the quantum theory.\n",
            "\n",
            "2. **Copley Medal (1925)**: This is a prestigious award from the Royal Society of London for outstanding achievements in scientific research.\n",
            "\n",
            "3. **Max Planck Medal (1929)**: Awarded by the German Physical Society for outstanding achievements in theoretical physics.\n",
            "\n",
            "4. **Franklin Medal (1935)**: Awarded by the Franklin Institute for contributions to science.\n",
            "\n",
            "5. **Time's Person of the Century (1999)**: Although not a traditional award, he was named one of the most influential figures of the 20th century by Time magazine.\n",
            "\n",
            "In addition to these awards, Einstein received numerous honorary doctorates and was a member of various scientific academies around the world. His legacy continues to be honored\n",
            "\n",
            "Q: Tell me about his early life.\n",
            "AI: Albert Einstein was born into a secular Jewish family on March 14, 1879, in Ulm, in the Kingdom of Württemberg, Germany. His father, Hermann Einstein, was a salesman and engineer, while his mother, Pauline Koch, was a homemaker. The family moved to Munich when Einstein was a year old, where his father and uncle founded an electrical engineering company.\n",
            "\n",
            "Einstein showed an early interest in science and mathematics, often questioning the principles behind everyday phenomena. However, he struggled with the rigid educational structure in Germany, which emphasized rote learning over creativity. He excelled in subjects he was passionate about, particularly mathematics and physics.\n",
            "\n",
            "In 1894, the family’s business failed, and they moved to Italy, leaving young Albert behind to finish school in Munich. Disenchanted with the traditional school system, Einstein eventually left school at the age of 15. He later joined his family in Italy and decided to pursue a career in science.\n",
            "\n",
            "In 1896, Einstein\n",
            "\n"
          ]
        }
      ]
    },
    {
      "cell_type": "markdown",
      "source": [
        "### Exercise 2: Prompt Optimization\n",
        "\n",
        "**Goal:** Improve prompt clarity and specificity to get more relevant and useful AI responses.\n",
        "\n",
        "**Steps:**\n",
        "\n",
        "1. Write a function `test_prompt(prompt)` that:\n",
        "    - Sends the prompt to the model.\n",
        "    - Returns the output.\n",
        "2. Using the initial vague prompts, optimize them to be clearer, more instructive, and tailored to a desired output.\n",
        "3. Compare outputs for:\n",
        "    - Vague prompt\n",
        "    - Optimized prompt with explicit instructions\n",
        "4. Try different optimization techniques such as breaking down complex requests and specifying output formats."
      ],
      "metadata": {
        "id": "hWEU96ToNhg1"
      }
    },
    {
      "cell_type": "code",
      "source": [
        "# Test vague and optimized prompts\n",
        "prompts = [\n",
        "    (\"Explain blockchain.\", \"Vague Prompt\"),\n",
        "    (\"Explain blockchain technology in simple terms suitable for a 12-year-old, using exactly 3 short examples.\", \"Optimized Prompt\")\n",
        "]\n",
        "\n",
        "for prompt, label in prompts:\n",
        "    print(f\"--- {label} ---\")\n",
        "    response = generate_response(prompt)\n",
        "    print(response, \"\\n\")\n"
      ],
      "metadata": {
        "id": "jiFuYeBhNmLe",
        "outputId": "4ca772f9-cad7-4f80-b356-f30ed51effed",
        "colab": {
          "base_uri": "https://localhost:8080/"
        }
      },
      "execution_count": 11,
      "outputs": [
        {
          "output_type": "stream",
          "name": "stdout",
          "text": [
            "--- Vague Prompt ---\n",
            "Blockchain is a decentralized and distributed digital ledger technology that allows multiple parties to securely record, store, and share data in a way that is transparent, immutable, and resistant to tampering. Here are the key components and concepts associated with blockchain:\n",
            "\n",
            "1. **Structure**: A blockchain consists of a series of blocks, each containing a list of transactions. Each block is linked to the previous one through a cryptographic hash, forming a chain. This connection ensures that once a block is added to the chain, it cannot be altered without changing all subsequent blocks, which requires consensus from the network.\n",
            "\n",
            "2. **Decentralization**: Unlike traditional databases, which are typically controlled by a central authority (like a bank or government), a blockchain is maintained by a network of nodes (computers) that participate in the network. This decentralization enhances security and reduces the risk of a single point of failure.\n",
            "\n",
            "3. **Consensus Mechanisms**: To validate and add new transactions to the blockchain, participants must \n",
            "\n",
            "--- Optimized Prompt ---\n",
            "Sure! Imagine blockchain technology like a digital notebook that everyone can see and write in, but no one can erase anything. Here are three simple examples to help explain it:\n",
            "\n",
            "1. **Digital Diary**: Imagine you have a diary where you write down every time you trade your Pokémon cards with friends. Each time you make a trade, you write it in the diary. Everyone who was involved in the trade can see the diary, so they know who traded what. Once it's written down, it can’t be changed or erased.\n",
            "\n",
            "2. **Team Scoreboard**: Think of a sports team keeping track of their scores during games. Instead of one person writing it down, all the players have a copy of the scoreboard. Whenever a game is played, everyone updates their scoreboards at the same time. If someone tries to cheat and change the score, everyone else will see that their scoreboards don’t match, so the real score stays safe.\n",
            "\n",
            "3. **Treasure Hunt Map**: Imagine \n",
            "\n"
          ]
        }
      ]
    },
    {
      "cell_type": "markdown",
      "source": [
        "**Example Prompts to optimize:**\n",
        "\n",
        "- Vague: \"Explain blockchain.\"\n",
        "- Optimized: \"Explain blockchain technology in simple terms suitable for a 12-year-old, using 3 examples.\"\n",
        "\n",
        "***\n",
        "\n",
        "### Bonus (Optional):\n",
        "\n",
        "- Combine both exercises to maintain context while optimizing prompts in each turn.\n",
        "- Experiment with token limits by truncating context and observing impacts.\n",
        "\n",
        "***"
      ],
      "metadata": {
        "id": "0vIHGktBNqEV"
      }
    },
    {
      "cell_type": "code",
      "source": [
        "# Combining both techniques\n",
        "context = \"\"\n",
        "conversation = [\n",
        "    \"Explain quantum computing to someone who knows basic high school physics.\",\n",
        "    \"Can you give 2 real-world use cases?\",\n",
        "    \"Summarize that in exactly 3 bullet points.\"\n",
        "]\n",
        "\n",
        "for q in conversation:\n",
        "    optimized_prompt = f\"{context}\\nUser: {q}\\nAI:\"\n",
        "    response = generate_response(optimized_prompt)\n",
        "    print(f\"Q: {q}\\nAI: {response}\\n\")\n",
        "    context += f\"\\nUser: {q}\\nAI: {response}\"\n"
      ],
      "metadata": {
        "id": "X-mTOdvlNsds",
        "outputId": "88270764-83de-4fd7-8081-5a383170c485",
        "colab": {
          "base_uri": "https://localhost:8080/"
        }
      },
      "execution_count": 12,
      "outputs": [
        {
          "output_type": "stream",
          "name": "stdout",
          "text": [
            "Q: Explain quantum computing to someone who knows basic high school physics.\n",
            "AI: Sure! Quantum computing is a fascinating topic that builds on some of the principles of quantum mechanics, which is the branch of physics that deals with the behavior of very small particles, like atoms and photons.\n",
            "\n",
            "1. **Bits vs. Qubits**: In classical computers, information is stored in bits, which can be either a 0 or a 1. In quantum computers, we use qubits (quantum bits). Qubits can also be 0 or 1, but thanks to a property called superposition, they can be in a state that is both 0 and 1 at the same time. This ability allows quantum computers to process a vast amount of information simultaneously.\n",
            "\n",
            "2. **Superposition**: Imagine you have a coin spinning in the air. While it's spinning, it isn't just heads or tails; it's in a state that represents both until it lands. Similarly, a qubit can represent multiple states at once, which gives quantum computers their power.\n",
            "\n",
            "3.\n",
            "\n",
            "Q: Can you give 2 real-world use cases?\n",
            "AI: Absolutely! Here are two real-world use cases for quantum computing:\n",
            "\n",
            "1. **Drug Discovery and Molecular Simulation**: Quantum computers have the potential to revolutionize the field of drug discovery by simulating molecular interactions at a quantum level. Traditional computers struggle to accurately model complex molecules and their interactions because the number of possible configurations grows exponentially. Quantum computers can handle these calculations more efficiently due to their ability to represent multiple states simultaneously. This could lead to the discovery of new drugs and materials faster and more cost-effectively.\n",
            "\n",
            "2. **Cryptography**: Quantum computing has significant implications for cybersecurity. Many encryption methods that keep our data secure rely on the difficulty of factoring large numbers. Quantum computers, however, can use algorithms like Shor’s algorithm to factor these numbers much more efficiently than classical computers. This means that once quantum computers are widely available, they could potentially break current encryption schemes, prompting the need for new quantum-resistant cryptographic methods. This presents both a challenge and an opportunity to enhance our digital security\n",
            "\n",
            "Q: Summarize that in exactly 3 bullet points.\n",
            "AI: - **Superposition and Qubits**: Quantum computers use qubits that can represent both 0 and 1 simultaneously due to superposition, allowing them to process vast amounts of information at once.\n",
            "\n",
            "- **Drug Discovery**: Quantum computing can significantly enhance drug discovery by accurately simulating complex molecular interactions, leading to faster and more cost-effective development of new drugs.\n",
            "\n",
            "- **Cryptography**: Quantum computers pose a challenge to current encryption methods, as they can efficiently factor large numbers, necessitating the development of new quantum-resistant cryptographic techniques for digital security.\n",
            "\n"
          ]
        }
      ]
    }
  ],
  "metadata": {
    "colab": {
      "name": "Welcome to Colab",
      "provenance": []
    },
    "kernelspec": {
      "display_name": "Python 3",
      "name": "python3"
    }
  },
  "nbformat": 4,
  "nbformat_minor": 0
}