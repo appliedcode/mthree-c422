{
  "cells": [
    {
      "cell_type": "markdown",
      "metadata": {
        "id": "view-in-github",
        "colab_type": "text"
      },
      "source": [
        "<a href=\"https://colab.research.google.com/github/appliedcode/mthree-c422/blob/main/Exercises/day-11/LLM-Typeofstructure.ipynb\" target=\"_parent\"><img src=\"https://colab.research.google.com/assets/colab-badge.svg\" alt=\"Open In Colab\"/></a>"
      ]
    },
    {
      "cell_type": "markdown",
      "source": [
        "# Lab Exercise: Introduction to Prompt Engineering and Large Language Models (LLMs)\n"
      ],
      "metadata": {
        "id": "hFnkDgKDTUgk"
      }
    },
    {
      "cell_type": "code",
      "source": [
        "from google.colab import userdata\n",
        "import os\n",
        "\n",
        "# Set your OpenAI API key securely in Colab Secrets (once)\n",
        "# userdata.set(\"OPENAI_API_KEY\", \"your-api-key-here\")\n",
        "\n",
        "# Retrieve key in your notebook\n",
        "openai_api_key = userdata.get(\"OPENAI_API_KEY\")\n",
        "if openai_api_key:\n",
        "    os.environ[\"OPENAI_API_KEY\"] = openai_api_key\n",
        "    print(\"✅ OpenAI API key loaded safely\")\n",
        "else:\n",
        "    print(\"❌ OpenAI API key not found. Please set it using Colab Secrets.\")"
      ],
      "metadata": {
        "colab": {
          "base_uri": "https://localhost:8080/"
        },
        "id": "b-MrRDkKZxI6",
        "outputId": "9b774612-44e6-4e4d-b19d-41a4f08c7c33"
      },
      "execution_count": 31,
      "outputs": [
        {
          "output_type": "stream",
          "name": "stdout",
          "text": [
            "✅ OpenAI API key loaded safely\n"
          ]
        }
      ]
    },
    {
      "cell_type": "code",
      "source": [
        "!pip install --quiet openai -q"
      ],
      "metadata": {
        "id": "eyeKWLK4bM2Q"
      },
      "execution_count": 26,
      "outputs": []
    },
    {
      "cell_type": "code",
      "source": [
        "# Create client\n",
        "from openai import OpenAI\n",
        "client = OpenAI(api_key=os.environ[\"OPENAI_API_KEY\"])"
      ],
      "metadata": {
        "id": "lNqOYjPrbNo7"
      },
      "execution_count": 32,
      "outputs": []
    },
    {
      "cell_type": "code",
      "source": [
        "# Exercise 1 – Instructions Pattern\n",
        "prompt = \"You are a bicycle mechanic. Give step-by-step instructions (max 6 steps) for adjusting rim brakes on a road bike.\"\n",
        "\n",
        "resp = client.chat.completions.create(\n",
        "    model=\"gpt-4o-mini\",\n",
        "    messages=[{\"role\": \"system\", \"content\": \"You are a helpful assistant.\"},\n",
        "              {\"role\": \"user\", \"content\": prompt}],\n",
        "    max_tokens=150\n",
        ")\n",
        "print(resp.choices[0].message.content)\n",
        "\n",
        "\n"
      ],
      "metadata": {
        "colab": {
          "base_uri": "https://localhost:8080/"
        },
        "id": "8U4WXgvtbWV-",
        "outputId": "6645fd8b-a2ba-417b-90e0-e2086bb7c454"
      },
      "execution_count": 36,
      "outputs": [
        {
          "output_type": "stream",
          "name": "stdout",
          "text": [
            "Adjusting rim brakes on a road bike can improve your braking performance and ensure safety while riding. Here’s a simple step-by-step guide to adjust rim brakes:\n",
            "\n",
            "### Step 1: Inspect the Brake Components\n",
            "- **Check the brake pads:** Ensure they are not worn out and are aligned with the rim surface.\n",
            "- **Inspect brake cables:** Look for fraying or damage. If necessary, replace the cables.\n",
            "\n",
            "### Step 2: Center the Brake Calipers\n",
            "- **Loosen the mounting bolt:** Using a 5mm Allen wrench, slightly loosen the bolt that holds the brake calipers to the frame.\n",
            "- **Align the calipers:** Squeeze the brake lever and adjust the calipers so they are equidistant from the rim\n"
          ]
        }
      ]
    },
    {
      "cell_type": "code",
      "source": [
        "# Exercise 2 – Examples (Few‑Shot) Pattern\n",
        "few_shot = \"\"\"Translate English → French.\n",
        "\n",
        "English: Good morning!\n",
        "French: Bonjour !\n",
        "\n",
        "English: Where is the library?\n",
        "French: Où est la bibliothèque ?\n",
        "\n",
        "English: I love prompt engineering.\n",
        "French:\"\"\"\n",
        "\n",
        "resp = client.chat.completions.create(\n",
        "    model=\"gpt-4o-mini\",\n",
        "    messages=[{\"role\": \"user\", \"content\": few_shot}],\n",
        "    max_tokens=50\n",
        ")\n",
        "print(resp.choices[0].message.content)\n"
      ],
      "metadata": {
        "id": "C3FyrQo8e4yB",
        "outputId": "7c559ed8-118d-41df-bcc6-86322d0241e1",
        "colab": {
          "base_uri": "https://localhost:8080/"
        }
      },
      "execution_count": 37,
      "outputs": [
        {
          "output_type": "stream",
          "name": "stdout",
          "text": [
            "J'adore l'ingénierie des invites.\n"
          ]
        }
      ]
    },
    {
      "cell_type": "code",
      "source": [
        "# Exercise 3 – Persona Pattern\n",
        "prompt = \"You are Ada Lovelace writing a 120-word diary entry about today’s AI advancements.\"\n",
        "resp = client.chat.completions.create(\n",
        "    model=\"gpt-4o-mini\",\n",
        "    messages=[{\"role\": \"user\", \"content\": prompt}],\n",
        "    max_tokens=200\n",
        ")\n",
        "print(resp.choices[0].message.content)\n"
      ],
      "metadata": {
        "id": "fjjoAIZFfBvo",
        "outputId": "c201c20d-3c6e-4432-880d-41b934ef9f7c",
        "colab": {
          "base_uri": "https://localhost:8080/"
        }
      },
      "execution_count": 38,
      "outputs": [
        {
          "output_type": "stream",
          "name": "stdout",
          "text": [
            "November 18, 2023\n",
            "\n",
            "Today, I am astounded by the advancements in artificial intelligence that echo the visions I once dreamed of in the shadows of Charles Babbage's Analytical Engine. The machines now exhibit remarkable capabilities, simulating human-like thought and creativity with astonishing precision. Algorithms weave through vast datasets, uncovering patterns that even the most astute mathematicians may overlook. I marvel at the ways in which these creations assist in medicine, art, and communication, shaping a new world of possibilities. Yet, I ponder the ethical implications of such power: How do we ensure that these intelligent machines serve humanity’s highest ideals? As I reflect on my early musings, I am filled with both hope and caution for this brave new future we are forging.\n"
          ]
        }
      ]
    },
    {
      "cell_type": "code",
      "source": [
        "# Exercise 4 – Recipe + Alternative Approaches Pattern\n",
        "prompt = \"\"\"Give me a recipe to reduce exam stress, then propose two\n",
        "alternative approaches, each with pros & cons.\"\"\"\n",
        "resp = client.chat.completions.create(\n",
        "    model=\"gpt-4o-mini\",\n",
        "    messages=[{\"role\": \"user\", \"content\": prompt}],\n",
        "    max_tokens=300\n",
        ")\n",
        "print(resp.choices[0].message.content)\n"
      ],
      "metadata": {
        "id": "es_ZRyuLfJsT",
        "outputId": "45c3bfc0-2677-4202-9ec7-3c88e4c26c1a",
        "colab": {
          "base_uri": "https://localhost:8080/"
        }
      },
      "execution_count": 39,
      "outputs": [
        {
          "output_type": "stream",
          "name": "stdout",
          "text": [
            "**Recipe to Reduce Exam Stress:**\n",
            "\n",
            "### Ingredients:\n",
            "1. **Time Management Skills:** Create a study schedule.\n",
            "2. **Mindfulness Practices:** Incorporate meditation or breathing exercises.\n",
            "3. **Healthy Habits:**\n",
            "   - Balanced diet (fruits, vegetables, whole grains)\n",
            "   - Regular exercise (30 minutes of physical activity)\n",
            "   - Adequate sleep (7-9 hours per night)\n",
            "4. **Study Breaks:** Include short breaks (5-10 minutes) after every 25-30 minutes of studying.\n",
            "5. **Positive Affirmations:** Use daily affirmations to boost confidence.\n",
            "6. **Study Resources:** Gather notes, textbooks, and other materials beforehand.\n",
            "7. **Support Systems:** Engage family, friends, or study groups for support.\n",
            "\n",
            "### Instructions:\n",
            "1. **Create a Study Plan:** Break down material into manageable sections and allocate specific study times for each topic.\n",
            "2. **Incorporate Mindfulness:** Spend 5-10 minutes daily doing mindfulness exercises, focusing on your breath or practicing gratitude.\n",
            "3. **Maintain Healthy Routines:**\n",
            "   - Eat balanced meals. Avoid excessive caffeine and sugary snacks.\n",
            "   - Commit to regular physical activity, such as jogging, yoga, or dancing.\n",
            "   - Set a sleep schedule and create a restful sleeping environment.\n",
            "4. **Take Regular Breaks:** During study sessions, take a 5-10 minute break after concentrated work to relax your mind. Stretch, hydrate, or go for a short\n"
          ]
        }
      ]
    },
    {
      "cell_type": "code",
      "source": [
        "# Exercise 5 – Ask-for-Input / Flipped Interaction Pattern\n",
        "prompt = \"\"\"You are an interviewer. Ask me 3 questions about my career goals,\n",
        "then summarize them and recommend a suitable tech course.\"\"\"\n",
        "resp = client.chat.completions.create(\n",
        "    model=\"gpt-4o-mini\",\n",
        "    messages=[{\"role\": \"user\", \"content\": prompt}],\n",
        "    max_tokens=300\n",
        ")\n",
        "print(resp.choices[0].message.content)\n"
      ],
      "metadata": {
        "id": "jzKENZXhfPF7",
        "outputId": "4e24b101-2f29-4c76-d066-fa67bd6db354",
        "colab": {
          "base_uri": "https://localhost:8080/"
        }
      },
      "execution_count": 40,
      "outputs": [
        {
          "output_type": "stream",
          "name": "stdout",
          "text": [
            "Sure! Here are three questions to help me understand your career goals better:\n",
            "\n",
            "1. What specific skills or technologies are you interested in developing to advance your career in tech?\n",
            "2. Where do you see yourself in the next 3 to 5 years in terms of your career, and what kind of role are you aspiring to achieve?\n",
            "3. Are there any particular industries or types of projects that excite you and that you would like to be involved with in your tech career?\n",
            "\n",
            "Please go ahead and answer these questions!\n"
          ]
        }
      ]
    },
    {
      "cell_type": "code",
      "source": [
        "# Exercise 6 – Menu / Meta-Language Pattern\n",
        "menu_prompt = \"\"\"### MENU\n",
        "ACTION = Explain, Summarize, Translate\n",
        "FORMAT = Plain, Bullets\n",
        "\n",
        "Command: ACTION=Summarize; FORMAT=Bullets;\n",
        "TEXT=\"Prompt engineering accelerates AI adoption across industries.\"\n",
        "###\"\"\"\n",
        "\n",
        "resp = client.chat.completions.create(\n",
        "    model=\"gpt-4o-mini\",\n",
        "    messages=[{\"role\": \"user\", \"content\": menu_prompt}],\n",
        "    max_tokens=150\n",
        ")\n",
        "print(resp.choices[0].message.content)\n"
      ],
      "metadata": {
        "id": "8o7PYDaffVJ3",
        "outputId": "8a5cdc5e-edad-4381-822f-d2b72b251be5",
        "colab": {
          "base_uri": "https://localhost:8080/"
        }
      },
      "execution_count": 41,
      "outputs": [
        {
          "output_type": "stream",
          "name": "stdout",
          "text": [
            "- Prompt engineering is a key technique in enhancing AI capabilities.\n",
            "- It plays a significant role in facilitating the adoption of AI technologies.\n",
            "- Various industries benefit from improved AI performance through prompt engineering.\n"
          ]
        }
      ]
    }
  ],
  "metadata": {
    "colab": {
      "name": "Welcome to Colab",
      "provenance": [],
      "include_colab_link": true
    },
    "kernelspec": {
      "display_name": "Python 3",
      "name": "python3"
    }
  },
  "nbformat": 4,
  "nbformat_minor": 0
}