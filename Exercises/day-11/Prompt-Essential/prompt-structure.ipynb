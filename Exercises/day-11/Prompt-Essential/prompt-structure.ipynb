{
  "cells": [
    {
      "cell_type": "markdown",
      "metadata": {
        "id": "view-in-github",
        "colab_type": "text"
      },
      "source": [
        "<a href=\"https://colab.research.google.com/github/appliedcode/mthree-c422/blob/mthree-422-salleh/Exercises/day-11/Prompt-Essential/prompt-structure.ipynb\" target=\"_parent\"><img src=\"https://colab.research.google.com/assets/colab-badge.svg\" alt=\"Open In Colab\"/></a>"
      ]
    },
    {
      "cell_type": "markdown",
      "source": [
        "# 🧪 Colab Lab: Mastering Prompt Structure\n",
        "\n"
      ],
      "metadata": {
        "id": "hFnkDgKDTUgk"
      }
    },
    {
      "cell_type": "code",
      "source": [
        "!pip install --quiet openai\n",
        "\n",
        "from google.colab import userdata\n",
        "import os\n",
        "from openai import OpenAI\n",
        "\n",
        "api_key = userdata.get(\"mhthree_secret\")\n",
        "if not api_key:\n",
        "    raise ValueError(\"❌ API key not found. Please set with userdata.set(...)\")\n",
        "\n",
        "os.environ[\"OPENAI_API_KEY\"] = api_key\n",
        "client = OpenAI(api_key=os.environ[\"OPENAI_API_KEY\"])"
      ],
      "metadata": {
        "id": "b-MrRDkKZxI6"
      },
      "execution_count": 1,
      "outputs": []
    },
    {
      "cell_type": "markdown",
      "source": [
        "1️⃣ CLARITY — Make the Task Unambiguous\n",
        "Task:\n",
        "Write a prompt asking the model to explain Newton’s First Law, first unclearly, then with clear instructions."
      ],
      "metadata": {
        "id": "DWPZphMqQ748"
      }
    },
    {
      "cell_type": "code",
      "source": [
        "# Unclear prompt:\n",
        "unclear = \"Tell me about Newton's law.\"\n",
        "# Clearer version:\n",
        "clear = \"Write a 3-sentence explanation of Newton’s First Law in simple language for a 12-year-old.\"\n",
        "# Precise version\n",
        "clearer = \"Give bullet-points to expalin Newton’s First Law of motion to a GCE 'A' Level student including relevant equations.\"\n",
        "\n",
        "for prompt in [unclear, clear, clearer]:\n",
        "    resp = client.chat.completions.create(\n",
        "        model=\"gpt-4o-mini\",\n",
        "        messages=[{\"role\": \"user\", \"content\": prompt}],\n",
        "        max_tokens=80,\n",
        "    )\n",
        "    print(f\"\\nPrompt: {prompt}\\n---Answer---\\n{resp.choices[0].message.content.strip()}\")\n"
      ],
      "metadata": {
        "id": "EMw2mUTcRC87",
        "outputId": "dc0536ff-71ce-40e4-c824-991bfd1c60f0",
        "colab": {
          "base_uri": "https://localhost:8080/"
        }
      },
      "execution_count": 7,
      "outputs": [
        {
          "output_type": "stream",
          "name": "stdout",
          "text": [
            "\n",
            "Prompt: Tell me about Newton's law.\n",
            "---Answer---\n",
            "Newton's laws of motion are three fundamental principles that form the foundation of classical mechanics, describing the relationship between the motion of an object and the forces acting on it. They were formulated by Sir Isaac Newton in the late 17th century. Here’s a brief overview of each law:\n",
            "\n",
            "1. **Newton's First Law of Motion (Law of Inertia)**:\n",
            "   - An object at rest remains\n",
            "\n",
            "Prompt: Write a 3-sentence explanation of Newton’s First Law in simple language for a 12-year-old.\n",
            "---Answer---\n",
            "Newton’s First Law says that an object at rest will stay still, and an object that is moving will keep moving at the same speed and in the same direction, unless something forces it to change. This means that if you roll a ball on the ground, it will keep rolling until something like friction or a wall stops it. Basically, things don’t just start or stop moving all by themselves;\n",
            "\n",
            "Prompt: Give bullet-points to expalin Newton’s First Law of motion to a GCE 'A' Level student including relevant equations.\n",
            "---Answer---\n",
            "Certainly! Here are key bullet points to explain Newton’s First Law of Motion, also known as the law of inertia, with relevant equations:\n",
            "\n",
            "### Newton's First Law of Motion: Key Points\n",
            "\n",
            "- **Definition**: Newton’s First Law states that an object remains at rest or in uniform motion (constant velocity) in a straight line unless acted upon by a net external force.\n",
            "\n",
            "- **Inertia\n"
          ]
        }
      ]
    },
    {
      "cell_type": "markdown",
      "source": [
        "2️⃣ CONTEXT — Inject Relevant Details\n",
        "## Task:\n",
        "- Give more context to the model."
      ],
      "metadata": {
        "id": "vL86MpLGRHN5"
      }
    },
    {
      "cell_type": "code",
      "source": [
        "prompt = (\"You are a science teacher. Explain Newton’s First Law with an example involving riding a bike, in 4 sentences.\")\n",
        "resp = client.chat.completions.create(\n",
        "    model=\"gpt-4o-mini\",\n",
        "    messages=[{\"role\": \"user\", \"content\": prompt}],\n",
        "    max_tokens=100,\n",
        ")\n",
        "print(resp.choices[0].message.content.strip())"
      ],
      "metadata": {
        "id": "8Txjrm0JRGnU",
        "outputId": "11b73ec6-479e-4d09-a561-d46750222734",
        "colab": {
          "base_uri": "https://localhost:8080/"
        }
      },
      "execution_count": 3,
      "outputs": [
        {
          "output_type": "stream",
          "name": "stdout",
          "text": [
            "Newton’s First Law of Motion states that an object at rest will remain at rest, and an object in motion will continue in motion at a constant velocity unless acted upon by an unbalanced force. When you ride a bike, if you stop pedaling, the bike will eventually slow down and stop due to the force of friction from the ground and air resistance acting on it. However, as long as you keep pedaling and there are no significant forces acting against you, the bike will maintain a steady\n"
          ]
        }
      ]
    },
    {
      "cell_type": "markdown",
      "source": [
        "3️⃣ CONSTRAINTS — Define Output Boundaries\n",
        "## Task:\n",
        "- Ask for specific format, word count, or do’s and don'ts."
      ],
      "metadata": {
        "id": "Y7acccp-RPe4"
      }
    },
    {
      "cell_type": "code",
      "source": [
        "prompt = (\n",
        "    \"Summarize Newton’s First Law in exactly 2 bullet points and avoid technical jargon.\"\n",
        ")\n",
        "resp = client.chat.completions.create(\n",
        "    model=\"gpt-4o-mini\",\n",
        "    messages=[{\"role\": \"user\", \"content\": prompt}],\n",
        "    max_tokens=60,\n",
        ")\n",
        "print(resp.choices[0].message.content.strip())\n"
      ],
      "metadata": {
        "id": "nUiJywafRO9O",
        "outputId": "8d47a9d9-cb99-49ca-e557-379fc97b3139",
        "colab": {
          "base_uri": "https://localhost:8080/"
        }
      },
      "execution_count": 4,
      "outputs": [
        {
          "output_type": "stream",
          "name": "stdout",
          "text": [
            "- Objects at rest stay at rest, and objects in motion stay in motion unless something else affects them.  \n",
            "- This means that things don't change their state (whether still or moving) on their own.\n"
          ]
        }
      ]
    },
    {
      "cell_type": "markdown",
      "source": [
        "4️⃣ ORGANIZATION — Structure the Prompt\n",
        "## Task:\n",
        "- Use sections (instructions, context, output format)."
      ],
      "metadata": {
        "id": "wZqNlKK7RVBl"
      }
    },
    {
      "cell_type": "code",
      "source": [
        "prompt = \"\"\"\n",
        "### Instruction:\n",
        "Explain Newton's First Law to a beginner.\n",
        "### Context:\n",
        "The reader is learning about physics for the first time.\n",
        "### Output:\n",
        "Respond in 2 simple sentences and give a real-life example.\n",
        "\"\"\"\n",
        "resp = client.chat.completions.create(\n",
        "    model=\"gpt-4o-mini\",\n",
        "    messages=[{\"role\": \"user\", \"content\": prompt}],\n",
        "    max_tokens=80,\n",
        ")\n",
        "print(resp.choices[0].message.content.strip())"
      ],
      "metadata": {
        "id": "lRltbyqbRZAr",
        "outputId": "63e4eb37-8a4e-4973-b17b-e6de866c8086",
        "colab": {
          "base_uri": "https://localhost:8080/"
        }
      },
      "execution_count": 5,
      "outputs": [
        {
          "output_type": "stream",
          "name": "stdout",
          "text": [
            "Newton's First Law states that an object at rest will stay at rest, and an object in motion will stay in motion at the same speed and in the same direction unless acted upon by an external force. For example, if you slide a book across a table, it will eventually stop because of the friction between the book and the table, which is the external force acting on it.\n"
          ]
        }
      ]
    },
    {
      "cell_type": "markdown",
      "source": [
        " 5️⃣ PREFIXES & LABELS — Make Inputs and Outputs Explicit\n",
        "## Task:\n",
        "- Use prefixes/labels in your examples for few-shot prompts."
      ],
      "metadata": {
        "id": "mkZgqNg1Rjla"
      }
    },
    {
      "cell_type": "code",
      "source": [
        "prompt = \"\"\"Explain Newton’s First Law.\n",
        "\n",
        "Example 1:\n",
        "Q: What is Newton’s First Law?\n",
        "A: An object will keep moving in the same way unless acted on by another force.\n",
        "\n",
        "Example 2:\n",
        "Q: Can you explain Newton’s First Law using a rolling ball?\n",
        "A: A rolling ball keeps moving until friction or something else stops it.\n",
        "\n",
        "Now, give a new example using a moving car.\n",
        "\"\"\"\n",
        "resp = client.chat.completions.create(\n",
        "    model=\"gpt-4o-mini\",\n",
        "    messages=[{\"role\": \"user\", \"content\": prompt}],\n",
        "    max_tokens=80,\n",
        ")\n",
        "print(resp.choices[0].message.content.strip())"
      ],
      "metadata": {
        "id": "_u9T2_FKRjFP",
        "outputId": "e3422ddc-3580-426d-f8ca-81ad17889d1f",
        "colab": {
          "base_uri": "https://localhost:8080/"
        }
      },
      "execution_count": 6,
      "outputs": [
        {
          "output_type": "stream",
          "name": "stdout",
          "text": [
            "Q: Can you explain Newton’s First Law using a moving car?  \n",
            "A: A moving car will continue to travel forward at a constant speed and in a straight line until a force, such as the brakes being applied or an obstacle like a wall, acts on it to change its motion.\n"
          ]
        }
      ]
    },
    {
      "cell_type": "markdown",
      "source": [
        "6️⃣ DECOMPOSITION — Break Down Complex Tasks\n",
        "## Task:\n",
        "- Guide the model with step-by-step or modular instructions."
      ],
      "metadata": {
        "id": "8FHDll-bRscf"
      }
    },
    {
      "cell_type": "markdown",
      "source": [
        "🎯 Next Steps & Reflection\n",
        "For each section, tweak your own prompt and rerun.\n",
        "Ask yourself:\n",
        "\n",
        "Which structure resulted in the best explanation?\n",
        "\n",
        "Where did the model follow instructions tightly?\n",
        "\n",
        "Where did structure help/fail to reduce confusion or vagueness?"
      ],
      "metadata": {
        "id": "ZTHeHIGfRzeK"
      }
    },
    {
      "cell_type": "code",
      "source": [],
      "metadata": {
        "id": "z9GnB4jcRq1_"
      },
      "execution_count": null,
      "outputs": []
    }
  ],
  "metadata": {
    "colab": {
      "name": "Welcome to Colab",
      "provenance": [],
      "include_colab_link": true
    },
    "kernelspec": {
      "display_name": "Python 3",
      "name": "python3"
    }
  },
  "nbformat": 4,
  "nbformat_minor": 0
}