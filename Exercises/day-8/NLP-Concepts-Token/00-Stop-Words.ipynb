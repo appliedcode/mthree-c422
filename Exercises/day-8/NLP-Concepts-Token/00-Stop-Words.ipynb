{
  "cells": [
    {
      "cell_type": "markdown",
      "metadata": {
        "id": "qaA2TvdPscDw"
      },
      "source": [
        "___\n",
        "\n",
        "<a href='http://www.pieriandata.com'> <img src='https://github.com/appliedcode/mthree-c422/blob/main/Exercises/day-8/Pierian_Data_Logo.png?raw=1' /></a>\n",
        "___"
      ]
    },
    {
      "cell_type": "markdown",
      "metadata": {
        "id": "YRgRC4RWscDy"
      },
      "source": [
        "# Stop Words\n",
        "Words like \"a\" and \"the\" appear so frequently that they don't require tagging as thoroughly as nouns, verbs and modifiers. We call these *stop words*, and they can be filtered from the text to be processed. spaCy holds a built-in list of some 305 English stop words."
      ]
    },
    {
      "cell_type": "code",
      "execution_count": 1,
      "metadata": {
        "id": "pcAv1CjMscDz"
      },
      "outputs": [],
      "source": [
        "# Perform standard imports:\n",
        "import spacy\n",
        "nlp = spacy.load('en_core_web_sm')"
      ]
    },
    {
      "cell_type": "code",
      "execution_count": 2,
      "metadata": {
        "colab": {
          "base_uri": "https://localhost:8080/"
        },
        "id": "T1_-NszjscD0",
        "outputId": "699a19ba-e3c6-4b7f-ada7-834ca7fdeb8c"
      },
      "outputs": [
        {
          "output_type": "stream",
          "name": "stdout",
          "text": [
            "{'his', 'with', 'own', 'next', 'any', 'how', 'hereupon', '‘m', 'should', 'bottom', 'less', 'least', 'than', 'off', 'below', 'whence', 'only', 'besides', 'give', 'everyone', 'latter', 'whose', 'whether', 'the', 'i', 'ourselves', 'they', 'however', 'must', 'call', 'although', 'therefore', 'various', 'wherein', 'yet', 'has', 'out', '‘re', '‘ll', 'get', 'whenever', 'as', 'were', 'them', 'that', 'hereby', 'whom', 'eight', 'seeming', 'hereafter', 'before', 'regarding', 'ever', \"'s\", 'nor', 'someone', 'become', 'hundred', 'five', 'be', 'moreover', 'for', 'serious', 'will', 'neither', 'alone', 'yourselves', 'no', 'few', 'into', 'where', 'take', \"'re\", 'unless', 'becomes', 'hence', 'two', 'this', 'around', 'these', 'we', 'did', 'under', 'because', 'himself', 'then', 'whereby', 'between', 'when', 'while', 'ten', 'otherwise', 'show', 'forty', 'amount', 'hers', 'though', 'myself', 'twelve', 'it', 'say', 'whole', 'name', 'toward', 'thereafter', 'across', 'others', 'cannot', 'via', 'him', 're', '’d', 'thereupon', 'done', 'against', 'once', 'not', 'you', 'same', 'nobody', 'there', 'if', 'have', 'enough', 'whatever', 'about', 'doing', 'onto', 'but', 'why', 'put', 'can', 'more', 'latterly', 'using', 'here', 'always', 'in', '‘ve', 'without', 'fifteen', 'thru', 'meanwhile', 'its', 'n’t', 'nine', 'being', 'beforehand', 'anywhere', 'quite', 'all', 'until', 'else', 'none', 'every', '’re', 'side', 'six', 'well', 'whereupon', 'whereafter', 'thereby', 'so', 'three', 'n‘t', 'beside', 'back', 'often', '’m', 'third', 'twenty', 'among', 'ours', 'my', 'seem', 'empty', 'could', 'almost', 'throughout', 'somewhere', \"n't\", 'herself', 'other', 'towards', '’ve', 'again', 'four', 'her', 'mostly', 'themselves', 'and', 'which', 'our', 'anything', 'former', 'whoever', 'itself', '’s', 'would', 'by', 'last', 'during', 'sixty', 'therein', 'me', 'nowhere', '‘d', 'really', 'made', 'on', 'both', 'along', 'whither', 'your', 'upon', 'thence', 'thus', 'most', 'was', 'from', 'became', 'who', 'us', 'except', 'elsewhere', 'those', 'each', 'noone', 'what', 'does', 'their', 'behind', 'an', 'at', 'something', 'part', 'either', 'still', 'over', 'indeed', 'front', 'seemed', 'might', 'had', 'anyhow', 'just', 'above', 'whereas', 'ca', 'yours', \"'ll\", 'due', 'even', 'go', 'move', 'yourself', 'since', 'wherever', 'many', 'namely', 'per', 'to', 'too', 'first', 'nevertheless', 'amongst', 'anyway', 'sometimes', 'up', \"'d\", 'rather', 'sometime', 'some', 'please', 'top', 'fifty', 'herein', 'a', 'is', 'do', 'everything', 'somehow', 'eleven', 'another', 'now', 'through', 'am', 'he', 'beyond', 'of', 'several', \"'ve\", 'perhaps', 'anyone', 'been', 'very', '‘s', 'one', '’ll', 'seems', 'full', 'used', 'nothing', 'mine', 'such', \"'m\", 'already', 'are', 'formerly', 'keep', 'everywhere', 'never', 'much', 'afterwards', 'within', 'she', 'after', 'make', 'may', 'down', 'or', 'further', 'see', 'also', 'becoming', 'together'}\n"
          ]
        }
      ],
      "source": [
        "# Print the set of spaCy's default stop words (remember that sets are unordered):\n",
        "print(nlp.Defaults.stop_words)"
      ]
    },
    {
      "cell_type": "code",
      "execution_count": 3,
      "metadata": {
        "colab": {
          "base_uri": "https://localhost:8080/"
        },
        "id": "h1DQCymGscD1",
        "outputId": "7b64e3d5-46ba-4200-c627-809a0d6844f5"
      },
      "outputs": [
        {
          "output_type": "execute_result",
          "data": {
            "text/plain": [
              "326"
            ]
          },
          "metadata": {},
          "execution_count": 3
        }
      ],
      "source": [
        "len(nlp.Defaults.stop_words)"
      ]
    },
    {
      "cell_type": "markdown",
      "metadata": {
        "id": "XK-gTFwQscD2"
      },
      "source": [
        "## To see if a word is a stop word"
      ]
    },
    {
      "cell_type": "code",
      "execution_count": 4,
      "metadata": {
        "colab": {
          "base_uri": "https://localhost:8080/"
        },
        "id": "YAYveUkMscD2",
        "outputId": "89337ce8-21d2-4d4f-fa3b-d39e7a6ac7d1"
      },
      "outputs": [
        {
          "output_type": "execute_result",
          "data": {
            "text/plain": [
              "True"
            ]
          },
          "metadata": {},
          "execution_count": 4
        }
      ],
      "source": [
        "nlp.vocab['myself'].is_stop"
      ]
    },
    {
      "cell_type": "code",
      "execution_count": 7,
      "metadata": {
        "colab": {
          "base_uri": "https://localhost:8080/"
        },
        "id": "HV4UVxTXscD3",
        "outputId": "f5c22386-3617-430c-cb66-3407fbe71f0f"
      },
      "outputs": [
        {
          "output_type": "execute_result",
          "data": {
            "text/plain": [
              "False"
            ]
          },
          "metadata": {},
          "execution_count": 7
        }
      ],
      "source": [
        "nlp.vocab['mistry'].is_stop"
      ]
    },
    {
      "cell_type": "markdown",
      "metadata": {
        "id": "HM3Kof0NscD3"
      },
      "source": [
        "## To add a stop word\n",
        "There may be times when you wish to add a stop word to the default set. Perhaps you decide that `'btw'` (common shorthand for \"by the way\") should be considered a stop word."
      ]
    },
    {
      "cell_type": "code",
      "execution_count": 8,
      "metadata": {
        "id": "6GVQT6I1scD4"
      },
      "outputs": [],
      "source": [
        "# Add the word to the set of stop words. Use lowercase!\n",
        "nlp.Defaults.stop_words.add('btw')\n",
        "\n",
        "# Set the stop_word tag on the lexeme\n",
        "nlp.vocab['btw'].is_stop = True"
      ]
    },
    {
      "cell_type": "code",
      "execution_count": 9,
      "metadata": {
        "colab": {
          "base_uri": "https://localhost:8080/"
        },
        "id": "zOSMq-XrscD4",
        "outputId": "c709e93a-03a4-441a-ad10-9aeb8d6ad81c"
      },
      "outputs": [
        {
          "output_type": "execute_result",
          "data": {
            "text/plain": [
              "327"
            ]
          },
          "metadata": {},
          "execution_count": 9
        }
      ],
      "source": [
        "len(nlp.Defaults.stop_words)"
      ]
    },
    {
      "cell_type": "code",
      "execution_count": 10,
      "metadata": {
        "colab": {
          "base_uri": "https://localhost:8080/"
        },
        "id": "EYzlfcF4scD4",
        "outputId": "82ea8972-b650-4f80-9efa-807629af8e51"
      },
      "outputs": [
        {
          "output_type": "execute_result",
          "data": {
            "text/plain": [
              "True"
            ]
          },
          "metadata": {},
          "execution_count": 10
        }
      ],
      "source": [
        "nlp.vocab['btw'].is_stop"
      ]
    },
    {
      "cell_type": "markdown",
      "metadata": {
        "id": "k9j4GSIgscD5"
      },
      "source": [
        "<font color=green>When adding stop words, always use lowercase. Lexemes are converted to lowercase before being added to **vocab**.</font>"
      ]
    },
    {
      "cell_type": "markdown",
      "metadata": {
        "id": "NU7_3b0OscD5"
      },
      "source": [
        "## To remove a stop word\n",
        "Alternatively, you may decide that `'beyond'` should not be considered a stop word."
      ]
    },
    {
      "cell_type": "code",
      "execution_count": 11,
      "metadata": {
        "id": "IvstV06rscD5"
      },
      "outputs": [],
      "source": [
        "# Remove the word from the set of stop words\n",
        "nlp.Defaults.stop_words.remove('beyond')\n",
        "\n",
        "# Remove the stop_word tag from the lexeme\n",
        "nlp.vocab['beyond'].is_stop = False"
      ]
    },
    {
      "cell_type": "code",
      "execution_count": 12,
      "metadata": {
        "colab": {
          "base_uri": "https://localhost:8080/"
        },
        "id": "dsQfzSpEscD7",
        "outputId": "fb4a293a-df52-44d9-e4af-be4263be0760"
      },
      "outputs": [
        {
          "output_type": "execute_result",
          "data": {
            "text/plain": [
              "326"
            ]
          },
          "metadata": {},
          "execution_count": 12
        }
      ],
      "source": [
        "len(nlp.Defaults.stop_words)"
      ]
    },
    {
      "cell_type": "code",
      "execution_count": 13,
      "metadata": {
        "colab": {
          "base_uri": "https://localhost:8080/"
        },
        "id": "m23RSKNFscD8",
        "outputId": "a5ae8ba3-bcd7-415b-9c56-77bc1215ef70"
      },
      "outputs": [
        {
          "output_type": "execute_result",
          "data": {
            "text/plain": [
              "False"
            ]
          },
          "metadata": {},
          "execution_count": 13
        }
      ],
      "source": [
        "nlp.vocab['beyond'].is_stop"
      ]
    },
    {
      "cell_type": "code",
      "source": [
        "nlp.vocab['yourselves'].is_stop"
      ],
      "metadata": {
        "colab": {
          "base_uri": "https://localhost:8080/"
        },
        "id": "aaOCtobIs_zd",
        "outputId": "72d9265f-e0b9-4476-969e-accc520e0039"
      },
      "execution_count": 14,
      "outputs": [
        {
          "output_type": "execute_result",
          "data": {
            "text/plain": [
              "True"
            ]
          },
          "metadata": {},
          "execution_count": 14
        }
      ]
    },
    {
      "cell_type": "markdown",
      "metadata": {
        "id": "_2Ef84GnscD8"
      },
      "source": [
        "Great! Now you should be able to access spaCy's default set of stop words, and add or remove stop words as needed.\n",
        "## Next up: Vocabulary and Matching"
      ]
    }
  ],
  "metadata": {
    "kernelspec": {
      "display_name": "Python 3",
      "language": "python",
      "name": "python3"
    },
    "language_info": {
      "codemirror_mode": {
        "name": "ipython",
        "version": 3
      },
      "file_extension": ".py",
      "mimetype": "text/x-python",
      "name": "python",
      "nbconvert_exporter": "python",
      "pygments_lexer": "ipython3",
      "version": "3.6.7"
    },
    "colab": {
      "provenance": []
    }
  },
  "nbformat": 4,
  "nbformat_minor": 0
}