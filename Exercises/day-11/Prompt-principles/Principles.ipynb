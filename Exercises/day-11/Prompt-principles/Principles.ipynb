{
  "cells": [
    {
      "cell_type": "markdown",
      "metadata": {
        "id": "view-in-github",
        "colab_type": "text"
      },
      "source": [
        "<a href=\"https://colab.research.google.com/github/appliedcode/mthree-c422/blob/mthree-c422-dipti/Exercises/day-11/Prompt-principles/Principles.ipynb\" target=\"_parent\"><img src=\"https://colab.research.google.com/assets/colab-badge.svg\" alt=\"Open In Colab\"/></a>"
      ]
    },
    {
      "cell_type": "markdown",
      "source": [
        "## 📓 **Colab Lab: Practicing the 5 Principles of Prompt Engineering with GPT‑4o-mini**"
      ],
      "metadata": {
        "id": "hFnkDgKDTUgk"
      }
    },
    {
      "cell_type": "code",
      "source": [
        "# Setup\n",
        "# Install OpenAI SDK\n",
        "!pip install openai -q\n",
        "from google.colab import userdata\n",
        "import os\n",
        "\n",
        "openai_api_key = userdata.get(\"OPENAI_API_KEY\")\n",
        "if openai_api_key:\n",
        "    os.environ[\"OPENAI_API_KEY\"] = openai_api_key\n",
        "    print(\"✅ OpenAI API key loaded safely\")\n",
        "else:\n",
        "    print(\"❌ OpenAI API key not found. Please set it using Colab Secrets.\")\n"
      ],
      "metadata": {
        "id": "kRcM4QN7qGpf",
        "outputId": "c5881b36-9536-487a-e375-af8cd8f3b89f",
        "colab": {
          "base_uri": "https://localhost:8080/"
        }
      },
      "execution_count": 1,
      "outputs": [
        {
          "output_type": "stream",
          "name": "stdout",
          "text": [
            "✅ OpenAI API key loaded safely\n"
          ]
        }
      ]
    },
    {
      "cell_type": "code",
      "source": [
        "from openai import OpenAI\n",
        "client = OpenAI(api_key=os.environ[\"OPENAI_API_KEY\"])  # Replace with your API key\n",
        "\n",
        "def ask_gpt(prompt, temp=0.7, max_tokens=500):\n",
        "    \"\"\"Send a prompt to GPT-4o-mini and return the output\"\"\"\n",
        "    response = client.chat.completions.create(\n",
        "        model=\"gpt-4o-mini\",\n",
        "        messages=[{\"role\": \"user\", \"content\": prompt}],\n",
        "        temperature=temp,\n",
        "        max_tokens=max_tokens\n",
        "    )\n",
        "    return response.choices[0].message.content"
      ],
      "metadata": {
        "id": "rQzrL2tQDdsn"
      },
      "execution_count": 2,
      "outputs": []
    },
    {
      "cell_type": "markdown",
      "source": [
        "## **Principle 1 — Give Clear Direction**\n",
        "\n",
        "**Goal:** Be specific about *what*, *for whom*, and *how* the task should be done."
      ],
      "metadata": {
        "id": "zerNRrRGqOOF"
      }
    },
    {
      "cell_type": "code",
      "source": [
        "prompt = \"Write a 50-word friendly welcome message for first-year university students in an encouraging tone.\"\n",
        "print(ask_gpt(prompt))"
      ],
      "metadata": {
        "id": "wh8Pd8sSqLIW",
        "outputId": "49ab55a0-ccb5-40c3-feed-4cf4d9f5fa74",
        "colab": {
          "base_uri": "https://localhost:8080/"
        }
      },
      "execution_count": 3,
      "outputs": [
        {
          "output_type": "stream",
          "name": "stdout",
          "text": [
            "Welcome, first-year students! 🎉 We're thrilled to have you here at university! Embrace this exciting journey of discovery and growth. Remember, it’s okay to ask questions and seek support. You’re not alone—everyone is here to learn together. Dive in, make friends, and enjoy every moment of this adventure!\n"
          ]
        }
      ]
    },
    {
      "cell_type": "markdown",
      "source": [
        "**🎯 Student Exercise:**\n",
        "\n",
        "1. Write a vague prompt, e.g., `\"Write about climate change\"`.\n",
        "2. Run it and observe the output.\n",
        "3. Now rewrite it with **clear direction** for audience, style, and purpose.\n",
        "4. Compare outputs."
      ],
      "metadata": {
        "id": "qILNxxPLqQed"
      }
    },
    {
      "cell_type": "code",
      "source": [
        "# TODO: Your prompt here\n",
        "vague_prompt = \"Write about climate change\"\n",
        "clear_prompt = \"Explain climate change causes to high school students in a simple, positive tone, in 3 short sentences.\"\n",
        "\n",
        "print(\"Vague Output:\\n\", ask_gpt(vague_prompt))\n",
        "print(\"\\nClear Output:\\n\", ask_gpt(clear_prompt))"
      ],
      "metadata": {
        "id": "mzUnenajqUQv",
        "outputId": "1b8919e4-3b8e-4560-f94a-e2fb33e2f7ce",
        "colab": {
          "base_uri": "https://localhost:8080/"
        }
      },
      "execution_count": 4,
      "outputs": [
        {
          "output_type": "stream",
          "name": "stdout",
          "text": [
            "Vague Output:\n",
            " Climate change refers to significant and lasting changes in the Earth's climate, primarily driven by human activities, particularly the burning of fossil fuels, deforestation, and industrial processes. These activities release greenhouse gases (GHGs) such as carbon dioxide (CO2) and methane (CH4) into the atmosphere, which trap heat and lead to a rise in global temperatures—a phenomenon known as the greenhouse effect.\n",
            "\n",
            "### Causes of Climate Change\n",
            "\n",
            "1. **Fossil Fuels**: The combustion of coal, oil, and natural gas for energy production is the largest single source of GHG emissions. This includes power generation, transportation, and industrial processes.\n",
            "\n",
            "2. **Deforestation**: Trees absorb CO2, so cutting down forests reduces the planet's capacity to sequester carbon, contributing to higher atmospheric CO2 levels.\n",
            "\n",
            "3. **Agriculture**: Agricultural practices, particularly livestock production, release significant amounts of methane and nitrous oxide, both potent greenhouse gases.\n",
            "\n",
            "4. **Industrial Processes**: Many industrial activities release various GHGs, including fluorinated gases, which have a high warming potential.\n",
            "\n",
            "### Impacts of Climate Change\n",
            "\n",
            "1. **Rising Temperatures**: Average global temperatures have increased significantly, leading to more frequent and intense heatwaves.\n",
            "\n",
            "2. **Melting Ice and Rising Sea Levels**: Polar ice caps and glaciers are melting, contributing to rising sea levels that threaten coastal communities and ecosystems.\n",
            "\n",
            "3. **Extreme Weather**: Climate change is linked to an increase in the frequency and severity of extreme weather events, such as hurricanes, floods, and droughts.\n",
            "\n",
            "4. **Ocean Acidification**: Increased CO2 levels lead to higher concentrations of carbonic acid in oceans, affecting marine life, particularly coral reefs and shellfish.\n",
            "\n",
            "5. **Ecosystem Disruption**: Species may struggle to adapt to rapidly changing climates, leading to shifts in biodiversity, habitat loss, and, in some cases, extinction.\n",
            "\n",
            "6. **Human Health Risks**: Climate change poses direct and indirect health risks, including heat-related illnesses, respiratory problems from poor air quality, and increased vector-borne diseases.\n",
            "\n",
            "7. **Economic Consequences**: The impacts of climate change can disrupt economies, affecting agriculture, infrastructure, and public health, leading to increased costs for adaptation and mitigation.\n",
            "\n",
            "### Mitigation and Adaptation\n",
            "\n",
            "To address climate change, it is essential to pursue both mitigation and adaptation strategies:\n",
            "\n",
            "1. **Mitigation**: This involves reducing or preventing the emission of G\n",
            "\n",
            "Clear Output:\n",
            " Climate change is mainly caused by human activities, like burning fossil fuels for energy and cutting down forests, which release greenhouse gases into the atmosphere. These gases trap heat from the sun, making our planet warmer and affecting weather patterns. But by using renewable energy, planting trees, and being mindful of our consumption, we can all help protect our planet for future generations!\n"
          ]
        }
      ]
    },
    {
      "cell_type": "markdown",
      "source": [
        "## **Principle 2 — Specify Format**\n",
        "\n",
        "**Goal:** Tell the AI exactly how to structure its response."
      ],
      "metadata": {
        "id": "5iqa31WSqcBA"
      }
    },
    {
      "cell_type": "code",
      "source": [
        "prompt = \"\"\"\n",
        "List 3 benefits of learning Python.\n",
        "Format the output as a markdown table with columns: 'Benefit' and 'Description'.\n",
        "\"\"\"\n",
        "print(ask_gpt(prompt))"
      ],
      "metadata": {
        "id": "DWtx2g3jqd1-",
        "outputId": "e0160870-d00d-4459-cca7-20ace8ec4bfe",
        "colab": {
          "base_uri": "https://localhost:8080/"
        }
      },
      "execution_count": 5,
      "outputs": [
        {
          "output_type": "stream",
          "name": "stdout",
          "text": [
            "Here's a markdown table listing three benefits of learning Python along with their descriptions:\n",
            "\n",
            "| Benefit                  | Description                                                                                  |\n",
            "|-------------------------|----------------------------------------------------------------------------------------------|\n",
            "| Easy to Learn           | Python has a simple and readable syntax, making it accessible for beginners and reducing the learning curve. |\n",
            "| Versatile Applications   | Python can be used for various applications, including web development, data analysis, artificial intelligence, and automation. |\n",
            "| Strong Community Support | Python has a large and active community, which means plenty of resources, libraries, and frameworks are available for learners and developers. |\n"
          ]
        }
      ]
    },
    {
      "cell_type": "markdown",
      "source": [
        "**🎯 Student Exercise:**\n",
        "\n",
        "- Ask GPT to **compare electric cars and petrol cars** with format instructions:\n",
        "    - First: Paragraph form\n",
        "    - Second: Markdown table form\n",
        "- Compare clarity and usefulness."
      ],
      "metadata": {
        "id": "edBRTfupqhub"
      }
    },
    {
      "cell_type": "code",
      "source": [
        "para_prompt = \"Compare electric cars and petrol cars.\"\n",
        "table_prompt = \"Compare electric cars and petrol cars as a markdown table with rows for cost, performance, and environmental impact.\"\n",
        "\n",
        "print(\"Paragraph Output:\\n\", ask_gpt(para_prompt))\n",
        "print(\"\\nTable Output:\\n\", ask_gpt(table_prompt))"
      ],
      "metadata": {
        "id": "Pg1mp1Wgql5v",
        "outputId": "21c74af5-67f3-4994-f8dd-ccfb10f0e60b",
        "colab": {
          "base_uri": "https://localhost:8080/"
        }
      },
      "execution_count": 6,
      "outputs": [
        {
          "output_type": "stream",
          "name": "stdout",
          "text": [
            "Paragraph Output:\n",
            " When comparing electric cars and petrol (gasoline) cars, several factors come into play, including environmental impact, performance, cost, maintenance, and convenience. Here's a breakdown of these aspects:\n",
            "\n",
            "### 1. **Environmental Impact**\n",
            "- **Electric Cars:**\n",
            "  - Produce zero tailpipe emissions, reducing air pollution in urban areas.\n",
            "  - The environmental impact depends on the source of electricity; renewable sources (solar, wind, hydro) reduce the carbon footprint.\n",
            "  - Battery production and disposal can have significant environmental consequences, but advancements are being made in recycling and sustainable sourcing.\n",
            "\n",
            "- **Petrol Cars:**\n",
            "  - Emit greenhouse gases and pollutants (CO2, NOx, particulate matter) that contribute to climate change and air quality issues.\n",
            "  - The extraction, refining, and distribution of oil also have environmental impacts.\n",
            "\n",
            "### 2. **Performance**\n",
            "- **Electric Cars:**\n",
            "  - Typically have instant torque, providing quick acceleration.\n",
            "  - Generally quieter than petrol cars, contributing to a more serene driving experience.\n",
            "  - Range can be a concern, though many modern electric vehicles (EVs) now offer competitive ranges (200-400 miles or more) on a single charge.\n",
            "\n",
            "- **Petrol Cars:**\n",
            "  - Performance can vary widely based on engine size and type; many petrol cars offer robust power and acceleration.\n",
            "  - Engine noise can be more appealing to some drivers, providing a traditional driving experience.\n",
            "  - Generally, they can be refueled quickly at gas stations.\n",
            "\n",
            "### 3. **Cost**\n",
            "- **Electric Cars:**\n",
            "  - Typically have higher upfront costs, though this is decreasing as technology advances.\n",
            "  - Lower operating costs due to cheaper electricity compared to petrol and fewer moving parts leading to reduced maintenance costs.\n",
            "  - Incentives such as tax credits or rebates can offset initial costs.\n",
            "\n",
            "- **Petrol Cars:**\n",
            "  - Usually have lower upfront costs compared to electric cars.\n",
            "  - Fuel prices can fluctuate and may be higher over time compared to electricity costs.\n",
            "  - Maintenance costs can be higher due to more complex engines and moving parts.\n",
            "\n",
            "### 4. **Maintenance**\n",
            "- **Electric Cars:**\n",
            "  - Fewer moving parts mean less frequent maintenance; no oil changes, fewer brake replacements (thanks to regenerative braking), and fewer issues related to the engine.\n",
            "  - Battery maintenance and eventual replacement can be a significant concern, though many manufacturers offer warranties.\n",
            "\n",
            "- **Petrol Cars:**\n",
            "  - Require regular maintenance, including oil changes\n",
            "\n",
            "Table Output:\n",
            " Sure! Here's a comparison of electric cars and petrol cars in a markdown table format:\n",
            "\n",
            "```markdown\n",
            "| Feature              | Electric Cars                       | Petrol Cars                          |\n",
            "|----------------------|-------------------------------------|--------------------------------------|\n",
            "| Cost                 | Generally higher upfront cost, but lower operating costs (charging vs. fuel) | Lower upfront cost, but higher fuel and maintenance costs over time |\n",
            "| Performance          | Instant torque, smooth acceleration, often quieter | Varies by engine; typically has a delay in acceleration, noisier |\n",
            "| Environmental Impact | Lower emissions, can be renewable if charged via green energy | Higher emissions, contributes to air pollution and greenhouse gases |\n",
            "```\n",
            "\n",
            "Feel free to modify or expand this table according to your needs!\n"
          ]
        }
      ]
    },
    {
      "cell_type": "markdown",
      "source": [
        "## **Principle 3 — Provide Examples (Few-Shot Prompting)**\n",
        "\n",
        "**Goal:** Show the AI what kind of response you expect.\n"
      ],
      "metadata": {
        "id": "CESuJ2_Fqn4W"
      }
    },
    {
      "cell_type": "code",
      "source": [
        "prompt = \"\"\"\n",
        "Classify each review as Positive or Negative.\n",
        "\n",
        "Review: \"Loved the coffee, will come again.\"\n",
        "Sentiment: Positive\n",
        "\n",
        "Review: \"Service was slow and unhelpful.\"\n",
        "Sentiment: Negative\n",
        "\n",
        "Review: \"The dessert was delicious and beautifully presented.\"\n",
        "Sentiment:\n",
        "\"\"\"\n",
        "print(ask_gpt(prompt))"
      ],
      "metadata": {
        "id": "vHi9WqxUqrDO",
        "outputId": "265ca704-1fbc-436c-b2ee-12a2b674f65f",
        "colab": {
          "base_uri": "https://localhost:8080/"
        }
      },
      "execution_count": 7,
      "outputs": [
        {
          "output_type": "stream",
          "name": "stdout",
          "text": [
            "Sentiment: Positive\n"
          ]
        }
      ]
    },
    {
      "cell_type": "markdown",
      "source": [
        "**🎯 Student Exercise:**\n",
        "\n",
        "- Create a **few-shot prompt** to classify movie reviews as \"Positive\", \"Negative\", \"Neutral\". Provide at least 2 examples for each label, then add a new review for the model to classify.\n"
      ],
      "metadata": {
        "id": "vK24wwfwqvaB"
      }
    },
    {
      "cell_type": "code",
      "source": [
        "few_shot_prompt = \"\"\"\n",
        "Classify each movie review as Positive, Negative, or Neutral.\n",
        "\n",
        "Review: \"Amazing visuals and a heartwarming plot.\"\n",
        "Sentiment: Positive\n",
        "\n",
        "Review: \"Predictable storyline but decent acting.\"\n",
        "Sentiment: Neutral\n",
        "\n",
        "Review: \"I walked out halfway, it was terrible.\"\n",
        "Sentiment: Negative\n",
        "\n",
        "Review: \"The music was lovely but the pacing was too slow.\"\n",
        "Sentiment:\n",
        "\"\"\"\n",
        "\n",
        "print(ask_gpt(few_shot_prompt))"
      ],
      "metadata": {
        "id": "LwWI62r2qx2C",
        "colab": {
          "base_uri": "https://localhost:8080/"
        },
        "outputId": "7d2e605a-5d3a-4895-ce9a-91e0d21d1639"
      },
      "execution_count": 8,
      "outputs": [
        {
          "output_type": "stream",
          "name": "stdout",
          "text": [
            "Neutral\n"
          ]
        }
      ]
    },
    {
      "cell_type": "markdown",
      "source": [
        "## **Principle 4 — Evaluate Quality**\n",
        "\n",
        "**Goal:** Review the AI output and refine the prompt to improve quality.\n"
      ],
      "metadata": {
        "id": "KLDxsGzpq2qX"
      }
    },
    {
      "cell_type": "markdown",
      "source": [
        "**🎯 Student Task Flow:**\n",
        "\n",
        "1. Start with a prompt: `\"Summarize this article about AI ethics.\"`\n",
        "2. Note missing details.\n",
        "3. Add constraints: *\"In 3 bullet points, mention challenges, risks, and solutions.\"*\n",
        "4. Compare before vs after."
      ],
      "metadata": {
        "id": "b_1mUbOtEE-_"
      }
    },
    {
      "cell_type": "code",
      "source": [
        "article = \"\"\"Artificial intelligence is transforming industries but raises ethical concerns such as bias in algorithms, job automation, and data privacy. Several companies and governments are proposing transparency laws and AI ethics training to address these challenges.\"\"\"\n",
        "# Initial vague prompt\n",
        "vague_sum = ask_gpt(f\"Summarize this article: {article}\")\n",
        "\n",
        "# Improved prompt\n",
        "refined_sum = ask_gpt(f\"Summarize this article in 3 bullet points covering (1) main challenges, (2) risks, (3) solutions: {article}\")\n",
        "\n",
        "print(\"Original Summary:\\n\", vague_sum)\n",
        "print(\"\\nRefined Summary:\\n\", refined_sum)"
      ],
      "metadata": {
        "id": "U0lP4zKGq9y-",
        "outputId": "ce93295d-2b93-4ada-cb55-a5053f3e06e4",
        "colab": {
          "base_uri": "https://localhost:8080/"
        }
      },
      "execution_count": 9,
      "outputs": [
        {
          "output_type": "stream",
          "name": "stdout",
          "text": [
            "Original Summary:\n",
            " The article discusses the transformative impact of artificial intelligence on various industries, while also highlighting significant ethical concerns such as algorithmic bias, job automation, and data privacy issues. In response to these challenges, multiple companies and governments are advocating for transparency laws and implementing AI ethics training to mitigate potential risks.\n",
            "\n",
            "Refined Summary:\n",
            " - **Main Challenges**: The integration of artificial intelligence into industries faces significant ethical concerns, including algorithmic bias, job automation, and data privacy issues.\n",
            "\n",
            "- **Risks**: These challenges pose risks such as unfair treatment of individuals due to biased algorithms, potential job loss due to automation, and breaches of data privacy that can harm individuals and organizations.\n",
            "\n",
            "- **Solutions**: To mitigate these risks, companies and governments are advocating for transparency laws and implementing AI ethics training to promote responsible AI development and usage.\n"
          ]
        }
      ]
    },
    {
      "cell_type": "markdown",
      "source": [
        "## **Principle 5 — Divide Labor (Break Down Complex Tasks)**\n",
        "\n",
        "**Goal:** Break a big request into smaller steps.\n",
        "\n",
        "**Example:**\n",
        "Instead of:\n",
        "> \"Write a travel guide for Rome.\"\n",
        "\n",
        "Do:\n",
        "\n",
        "1. List top attractions.\n",
        "2. Suggest a 3-day itinerary.\n",
        "3. Give restaurant recommendations.\n",
        "\n",
        "***\n",
        "\n",
        "**🎯 Student Exercise:**\n",
        "\n",
        "- Use **three separate prompts** to create parts of a digital marketing plan:\n",
        "\n",
        "1. Audience analysis for a fitness app.\n",
        "2. Social media strategy.\n",
        "3. 1-month content calendar.\n"
      ],
      "metadata": {
        "id": "NTYJwroRrDa9"
      }
    },
    {
      "cell_type": "code",
      "source": [
        "# Step 1\n",
        "audience_analysis = ask_gpt(\"Describe the target audience for a fitness app in 3 bullet points.\")\n",
        "# Step 2\n",
        "social_media_strategy = ask_gpt(\"Create a social media strategy for the above audience in 5 bullet points.\")\n",
        "# Step 3\n",
        "content_calendar = ask_gpt(\"Propose a 1-month Instagram content calendar for the above strategy, in a table with date, post idea, and caption.\")\n",
        "\n",
        "print(\"Audience Analysis:\\n\", audience_analysis)\n",
        "print(\"\\nSocial Media Strategy:\\n\", social_media_strategy)\n",
        "print(\"\\nContent Calendar:\\n\", content_calendar)"
      ],
      "metadata": {
        "id": "T79FVPyprDI0",
        "outputId": "0c4846d4-c0b2-4923-e603-639b05ad6061",
        "colab": {
          "base_uri": "https://localhost:8080/"
        }
      },
      "execution_count": 10,
      "outputs": [
        {
          "output_type": "stream",
          "name": "stdout",
          "text": [
            "Audience Analysis:\n",
            " - **Health-Conscious Individuals**: People who are already interested in maintaining or improving their physical fitness, including gym-goers, athletes, and those looking to adopt a healthier lifestyle.\n",
            "\n",
            "- **Tech-Savvy Millennials and Gen Z**: Younger demographics who are comfortable using technology and apps to track their fitness progress, follow workout routines, and engage with fitness communities online.\n",
            "\n",
            "- **Busy Professionals**: Individuals with limited time who seek efficient workout solutions and personalized fitness plans that can be integrated into their fast-paced lifestyles, often looking for quick workouts or flexibility in scheduling.\n",
            "\n",
            "Social Media Strategy:\n",
            " To create an effective social media strategy for a specific audience, here are five key bullet points:\n",
            "\n",
            "1. **Audience Research and Segmentation**: Conduct thorough research to understand the demographics, interests, behaviors, and pain points of your audience. Segment this audience into smaller groups to tailor content that resonates with each segment's unique preferences.\n",
            "\n",
            "2. **Content Creation and Curation**: Develop a content calendar that includes a mix of engaging formats such as videos, infographics, stories, and user-generated content. Focus on creating value-driven content that addresses your audience's needs, such as tutorials, tips, and industry insights.\n",
            "\n",
            "3. **Platform Selection**: Identify the social media platforms where your audience is most active. Tailor your content strategy to fit the nuances of each platform (e.g., visuals for Instagram, professional content for LinkedIn, short updates for Twitter) to maximize engagement.\n",
            "\n",
            "4. **Engagement and Community Building**: Foster a sense of community by actively engaging with your audience. Respond to comments, ask for feedback, and initiate conversations. Utilize polls and Q&A sessions to encourage interaction and build a loyal following.\n",
            "\n",
            "5. **Analytics and Continuous Improvement**: Regularly monitor and analyze performance metrics (such as engagement rates, reach, and conversions) to assess the effectiveness of your strategy. Use insights gained to refine your approach, experiment with new content types, and optimize future campaigns for better results.\n",
            "\n",
            "Content Calendar:\n",
            " Certainly! Below is a 1-month Instagram content calendar that follows a strategic approach to engagement, brand promotion, and community building. The calendar includes a variety of post types such as images, videos, stories, and user-generated content.\n",
            "\n",
            "| Date       | Post Idea                                 | Caption                                         |\n",
            "|------------|-------------------------------------------|------------------------------------------------|\n",
            "| Oct 1      | Introduction Post                         | \"👋 Meet our team! We're excited to share our journey with you. Stay tuned for amazing content! #TeamIntroduction\" |\n",
            "| Oct 3      | Behind-the-Scenes Video                  | \"A sneak peek into our creative process! 🎥✨ #BehindTheScenes #MakingMagic\" |\n",
            "| Oct 5      | Product Highlight                        | \"Check out our new arrival! 🌟 Perfect for [purpose]. Available now! #NewProduct\" |\n",
            "| Oct 7      | Poll in Stories                           | \"What do you prefer? A or B? Vote in our stories! 🗳️ #PollTime\" |\n",
            "| Oct 9      | Customer Testimonial Graphic              | \"Hear it from our customers! ❤️ ‘[Customer quote]’ #CustomerLove\" |\n",
            "| Oct 11     | Educational Carousel Post                 | \"5 Tips on [relevant topic]. Swipe for insights! 📚 #TipsAndTricks\" |\n",
            "| Oct 13     | User-Generated Content (Repost)         | \"We love seeing how you use our products! 😍 Thank you, @username! #CustomerSpotlight\" |\n",
            "| Oct 15     | Live Q&A Announcement                     | \"Join us for a live Q&A this Friday! Ask us anything! 💬 #LiveSession\" |\n",
            "| Oct 17     | Fun Fact Post                            | \"Did you know? 🤔 [Interesting fact about your industry or product] #FunFact\" |\n",
            "| Oct 19     | User-Generated Content Challenge         | \"Challenge alert! Post a pic using our product with #OurBrandChallenge for a chance to be featured! 📸\" |\n",
            "| Oct 21     | Inspirational Quote Graphic               | \"‘[Inspirational quote]’ ✨ Let’s make this week amazing! #MotivationMonday\" |\n",
            "| Oct 23     | Product Usage Video                       | \"See our [product] in action! 🎥 Discover how it can make your life easier! #ProductDemo\" |\n",
            "| Oct 25     | Customer Poll on Next Product            | \"We want your\n"
          ]
        }
      ]
    },
    {
      "cell_type": "markdown",
      "source": [
        "## **💡 Reflection Questions for Students**\n",
        "\n",
        "- Which principle improved your results the most?\n",
        "- Did specifying format make the output easier to use?\n",
        "- How did providing examples change the output?\n",
        "- When would breaking down a task be most useful?"
      ],
      "metadata": {
        "id": "fkyT1W0XrJ7C"
      }
    }
  ],
  "metadata": {
    "colab": {
      "name": "Welcome to Colab",
      "provenance": [],
      "include_colab_link": true
    },
    "kernelspec": {
      "display_name": "Python 3",
      "name": "python3"
    }
  },
  "nbformat": 4,
  "nbformat_minor": 0
}