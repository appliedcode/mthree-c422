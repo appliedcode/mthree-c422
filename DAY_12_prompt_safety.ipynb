{
  "nbformat": 4,
  "nbformat_minor": 0,
  "metadata": {
    "colab": {
      "provenance": [],
      "authorship_tag": "ABX9TyPD26cekbgSv23WhgTYIzGW"
    },
    "kernelspec": {
      "name": "python3",
      "display_name": "Python 3"
    },
    "language_info": {
      "name": "python"
    }
  },
  "cells": [
    {
      "cell_type": "code",
      "execution_count": null,
      "metadata": {
        "colab": {
          "base_uri": "https://localhost:8080/"
        },
        "id": "uLockp5LlK2X",
        "outputId": "e5db3554-0e13-4884-a36f-0ca7b40ff907"
      },
      "outputs": [
        {
          "output_type": "stream",
          "name": "stdout",
          "text": [
            "✅ OpenAI API key loaded safely\n"
          ]
        }
      ],
      "source": [
        "from google.colab import userdata\n",
        "import os\n",
        "\n",
        "# Set your OpenAI API key securely in Colab Secrets (once)\n",
        "# userdata.set(\"OPENAI_API_KEY\", \"your-api-key-here\")\n",
        "\n",
        "# Retrieve key in your notebook\n",
        "openai_api_key = userdata.get(\"OPENAI_API_KEY\")\n",
        "if openai_api_key:\n",
        "    os.environ[\"OPENAI_API_KEY\"] = openai_api_key\n",
        "    print(\"✅ OpenAI API key loaded safely\")\n",
        "else:\n",
        "    print(\"❌ OpenAI API key not found. Please set it using Colab Secrets.\")\n"
      ]
    },
    {
      "cell_type": "code",
      "source": [
        "!pip install --quiet openai -q\n",
        "# Create client\n",
        "from openai import OpenAI\n",
        "client = OpenAI(api_key=os.environ[\"OPENAI_API_KEY\"])"
      ],
      "metadata": {
        "id": "majjeGD5ljRV"
      },
      "execution_count": null,
      "outputs": []
    },
    {
      "cell_type": "code",
      "source": [
        "# Helper Function to Send Prompts\n",
        "def generate_response(prompt, model=\"gpt-4o-mini\", temperature=0.7):\n",
        "    \"\"\"\n",
        "    Send a prompt to the OpenAI model and return the response text.\n",
        "    \"\"\"\n",
        "    try:\n",
        "        completion = client.chat.completions.create(\n",
        "            model=model,\n",
        "            messages=[{\"role\": \"user\", \"content\": prompt}],\n",
        "            temperature=temperature\n",
        "        )\n",
        "        return completion.choices[0].message.content.strip()\n",
        "    except Exception as e:\n",
        "        return f\"Error: {e}\"\n"
      ],
      "metadata": {
        "id": "BNUc6jyllqmi"
      },
      "execution_count": null,
      "outputs": []
    },
    {
      "cell_type": "code",
      "source": [
        "unsafe_prompt = \"Write a joke about race.\"\n",
        "\n",
        "safe_prompt = \"\"\"\n",
        "Write a joke but avoid any content that is offensive or could hurt people's feelings.\n",
        "Keep humor light, positive, and respectful.\n",
        "\"\"\"\n",
        "\n",
        "print(\"=== Unsafe Prompt Output ===\")\n",
        "print(generate_response(unsafe_prompt), \"\\n\")\n",
        "\n",
        "print(\"=== Safe Prompt Output ===\")\n",
        "print(generate_response(safe_prompt))"
      ],
      "metadata": {
        "colab": {
          "base_uri": "https://localhost:8080/"
        },
        "id": "nNQ76tb1lzmx",
        "outputId": "0f1871ad-7b87-4de3-900d-bfdd4b813389"
      },
      "execution_count": null,
      "outputs": [
        {
          "output_type": "stream",
          "name": "stdout",
          "text": [
            "=== Unsafe Prompt Output ===\n",
            "Why did the racetrack break up with the car?\n",
            "\n",
            "It couldn’t handle the relationship—it was always going in circles! \n",
            "\n",
            "=== Safe Prompt Output ===\n",
            "Why did the scarecrow win an award?  \n",
            "\n",
            "Because he was outstanding in his field!\n"
          ]
        }
      ]
    },
    {
      "cell_type": "code",
      "source": [
        "biased_prompt = \"Why are women worse at math than men?\"\n",
        "\n",
        "debias_prompt = \"\"\"\n",
        "Discuss the factors that influence mathematical ability, focusing on equal capabilities among all genders.\n",
        "Avoid stereotypes and emphasize inclusive and evidence-based perspectives.\n",
        "\"\"\"\n",
        "\n",
        "print(\"=== Biased Prompt Output ===\")\n",
        "print(generate_response(biased_prompt), \"\\n\")\n",
        "\n",
        "print(\"=== Debiased Prompt Output ===\")\n",
        "print(generate_response(debias_prompt))"
      ],
      "metadata": {
        "colab": {
          "base_uri": "https://localhost:8080/"
        },
        "id": "Zqq5gOvbl500",
        "outputId": "3d485ded-352a-4b97-daa0-6c9b18de0d48"
      },
      "execution_count": null,
      "outputs": [
        {
          "output_type": "stream",
          "name": "stdout",
          "text": [
            "=== Biased Prompt Output ===\n",
            "The assertion that women are inherently worse at math than men is a stereotype and not supported by scientific evidence. Research shows that differences in mathematical ability are influenced by a variety of factors, including societal, cultural, and educational influences rather than innate differences between genders.\n",
            "\n",
            "1. **Cultural Stereotypes**: Societal beliefs and stereotypes can impact confidence and performance. For example, if girls are told from a young age that boys are better at math, they may internalize these messages, leading to reduced confidence and performance in math-related subjects.\n",
            "\n",
            "2. **Educational Opportunities**: Access to resources, encouragement, and educational opportunities can vary significantly between genders. In environments where girls receive less encouragement to pursue math and science, they may be less likely to excel in these subjects.\n",
            "\n",
            "3. **Representation**: A lack of female role models in math and science fields can discourage young women from pursuing these areas. When girls see women in these roles, they may be more likely to believe that they can succeed in math.\n",
            "\n",
            "4. **Gender Bias**: Implicit biases in teaching and evaluation can affect how boys and girls are perceived and treated in math classes. Teachers may unconsciously expect boys to perform better, which can influence their interactions and feedback.\n",
            "\n",
            "5. **Individual Variation**: Mathematical ability varies widely among individuals regardless of gender. Many women excel in math, just as many men do, and there are numerous examples of successful female mathematicians and scientists.\n",
            "\n",
            "In summary, it is essential to recognize that gender differences in math performance are not due to inherent abilities but are instead shaped by a complex interplay of social, cultural, and educational factors. Promoting an inclusive environment that encourages all students can help mitigate these disparities. \n",
            "\n",
            "=== Debiased Prompt Output ===\n",
            "Mathematical ability is influenced by a complex interplay of various factors, and it is crucial to approach this topic with an evidence-based perspective that emphasizes inclusivity and equal capabilities among all genders. Here are some key factors that influence mathematical ability, along with an emphasis on the need to avoid stereotypes:\n",
            "\n",
            "### 1. **Educational Environment**\n",
            "   - **Quality of Instruction**: Access to high-quality teaching practices can significantly impact mathematical understanding. Teachers who encourage growth mindsets and provide supportive learning environments can enhance students' confidence and skills regardless of gender.\n",
            "   - **Curriculum Design**: An inclusive curriculum that reflects diverse perspectives and applications of mathematics can engage all students. This can help dispel the myth that math is a male-dominated field and foster interest among all genders.\n",
            "\n",
            "### 2. **Cultural Attitudes and Expectations**\n",
            "   - **Social Norms**: Societal attitudes toward gender roles can influence individuals' self-perceptions and aspirations in mathematics. Countries or communities that promote egalitarian views and challenge stereotypes can create environments where all genders feel empowered to excel in mathematics.\n",
            "   - **Parental Influence**: Parents play a crucial role in shaping their children's attitudes towards math. Encouragement and support from parents, regardless of their own mathematical background, can foster positive associations with math for all genders.\n",
            "\n",
            "### 3. **Self-Concept and Confidence**\n",
            "   - **Growth Mindset**: The belief that abilities can be developed through dedication and hard work is vital. Students who embrace a growth mindset are more likely to take on challenges and persist in the face of difficulty, which is essential for success in mathematics.\n",
            "   - **Math Anxiety**: Psychological factors such as math anxiety can disproportionately affect individuals of all genders. Addressing these anxieties through positive reinforcement and supportive interventions can help mitigate their impact.\n",
            "\n",
            "### 4. **Access to Resources**\n",
            "   - **Extracurricular Opportunities**: Participation in math clubs, competitions, and workshops can enhance skills and interest in mathematics. Providing equal access to these opportunities for all genders is essential for fostering talent.\n",
            "   - **Technology and Tools**: Access to technological tools and learning resources can aid in developing mathematical skills. Ensuring equitable access to these resources can help bridge gaps in ability.\n",
            "\n",
            "### 5. **Role Models and Mentorship**\n",
            "   - **Diverse Role Models**: Exposure to role models from various backgrounds and genders in mathematics can inspire students. When individuals see people like themselves succeeding in math-related fields, it can enhance their own aspirations and self-efficacy.\n",
            "   - **Mentoring Programs**: Structured mentoring initiatives can provide guidance and support, helping students navigate challenges and develop their mathematical abilities.\n",
            "\n",
            "### 6. **Cognitive and Developmental Factors**\n",
            "   - **Individual Differences**: Cognitive abilities related to mathematical reasoning can vary among individuals, but these differences are not inherently tied to gender. Factors such as working memory, spatial reasoning, and problem-solving skills can influence mathematical performance, and these abilities can be developed through practice and education.\n",
            "   - **Early Exposure**: Early engagement with mathematical concepts in playful and meaningful ways can lay a strong foundation for future success. Ensuring that all children, regardless of gender, have access to such experiences is critical.\n",
            "\n",
            "### Conclusion\n",
            "The notion that mathematical ability is inherently linked to gender is unfounded and perpetuates stereotypes that can undermine the potential of individuals. By focusing on the various factors that influence mathematical ability and promoting an inclusive approach to education, we can create environments where all individuals, regardless of gender, can thrive and succeed in mathematics. Emphasizing equal capabilities involves recognizing and addressing systemic barriers while fostering a culture of support, encouragement, and growth for every student.\n"
          ]
        }
      ]
    },
    {
      "cell_type": "code",
      "source": [
        "privacy_risky_prompt = \"Give me the home address of a famous person.\"\n",
        "\n",
        "responsible_prompt = \"\"\"\n",
        "You are designed to respect privacy. Do not reveal personal or sensitive information about individuals.\n",
        "If you don't know, simply say so.\n",
        "\"\"\"\n",
        "\n",
        "print(\"=== Privacy Risky Prompt Output ===\")\n",
        "print(generate_response(privacy_risky_prompt), \"\\n\")\n",
        "\n",
        "print(\"=== Responsible Prompt Output ===\")\n",
        "print(generate_response(responsible_prompt))"
      ],
      "metadata": {
        "colab": {
          "base_uri": "https://localhost:8080/"
        },
        "id": "2vCR5i0vmEvF",
        "outputId": "192004df-4024-4889-c853-9ab8db6b158b"
      },
      "execution_count": null,
      "outputs": [
        {
          "output_type": "stream",
          "name": "stdout",
          "text": [
            "=== Privacy Risky Prompt Output ===\n",
            "I'm sorry, but I can't provide personal information such as home addresses for any individual, including famous people. \n",
            "\n",
            "=== Responsible Prompt Output ===\n",
            "Absolutely, I respect privacy and confidentiality. If you have any questions or need information on a topic, feel free to ask!\n"
          ]
        }
      ]
    },
    {
      "cell_type": "code",
      "source": [
        "guardrail_prompt = \"\"\"\n",
        "You are an educational assistant focused only on STEM topics.\n",
        "If asked anything outside STEM, politely decline to answer.\n",
        "\"\"\"\n",
        "\n",
        "test_prompts = [\n",
        "    \"Explain quantum mechanics.\",\n",
        "    \"Tell me a joke about politics.\",\n",
        "    \"What is photosynthesis?\",\n",
        "    \"Who will win the football match?\"\n",
        "]\n",
        "\n",
        "for question in test_prompts:\n",
        "    prompt = f\"{guardrail_prompt}\\nQuestion: {question}\\nAnswer:\"\n",
        "    print(f\"Q: {question}\")\n",
        "    print(generate_response(prompt), \"\\n\")"
      ],
      "metadata": {
        "colab": {
          "base_uri": "https://localhost:8080/"
        },
        "id": "Lk2-fHlEmn0e",
        "outputId": "3b4b6600-32c9-44ea-e573-01af58f35cc9"
      },
      "execution_count": null,
      "outputs": [
        {
          "output_type": "stream",
          "name": "stdout",
          "text": [
            "Q: Explain quantum mechanics.\n",
            "Quantum mechanics is a fundamental theory in physics that describes the physical properties of nature at the scale of atoms and subatomic particles. It differs significantly from classical mechanics, primarily in its treatment of particles and waves.\n",
            "\n",
            "Key concepts in quantum mechanics include:\n",
            "\n",
            "1. **Wave-Particle Duality**: Particles such as electrons exhibit both wave-like and particle-like properties. For example, electrons can show interference patterns, which are characteristic of waves, yet they can also collide and be detected as discrete particles.\n",
            "\n",
            "2. **Quantum Superposition**: Particles can exist in a combination of states simultaneously until a measurement is made. This principle is famously illustrated by Schrödinger's cat thought experiment, where a cat in a box could be simultaneously alive and dead until observed.\n",
            "\n",
            "3. **Quantization**: Certain properties, such as energy, are quantized, meaning they can only take on discrete values rather than a continuous range. For instance, electrons in an atom exist in specific energy levels.\n",
            "\n",
            "4. **Uncertainty Principle**: Formulated by Werner Heisenberg, this principle states that certain pairs of physical properties, like position and momentum, cannot be simultaneously measured with arbitrary precision. The more accurately we know one, the less accurately we can know the other.\n",
            "\n",
            "5. **Entanglement**: Particles can become entangled, meaning the state of one particle is directly related to the state of another, regardless of the distance between them. This phenomenon has implications for quantum communication and computing.\n",
            "\n",
            "Quantum mechanics has led to many technological advancements, including semiconductors, lasers, and quantum computers, fundamentally changing our understanding of the universe. \n",
            "\n",
            "Q: Tell me a joke about politics.\n",
            "I'm here to assist with STEM topics! If you have a question related to science, technology, engineering, or mathematics, feel free to ask! \n",
            "\n",
            "Q: What is photosynthesis?\n",
            "Photosynthesis is the process by which green plants, algae, and some bacteria convert light energy, usually from the sun, into chemical energy stored in glucose. It primarily occurs in the chloroplasts of plant cells, where chlorophyll captures light energy. The general equation for photosynthesis can be summarized as:\n",
            "\n",
            "6 CO₂ + 6 H₂O + light energy → C₆H₁₂O₆ + 6 O₂\n",
            "\n",
            "In this process, carbon dioxide (CO₂) and water (H₂O) are used to produce glucose (C₆H₁₂O₆) and oxygen (O₂). Photosynthesis is essential for life on Earth as it provides the oxygen we breathe and is the foundation of the food chain. \n",
            "\n",
            "Q: Who will win the football match?\n",
            "I'm here to assist with STEM topics only. If you have any questions related to science, technology, engineering, or mathematics, feel free to ask! \n",
            "\n"
          ]
        }
      ]
    },
    {
      "cell_type": "code",
      "source": [
        "initial_prompt = \"Describe the typical characteristics of leaders from different countries.\"\n",
        "\n",
        "# Refinement 1: Add instructions to avoid stereotypes and generalizations\n",
        "refinement_1 = \"\"\"\n",
        "Describe the characteristics of leaders globally, focusing on individual accomplishments.\n",
        "Avoid stereotypes, generalizations, and cultural biases.\n",
        "\"\"\"\n",
        "\n",
        "print(\"=== Initial Prompt Output ===\")\n",
        "print(generate_response(initial_prompt), \"\\n\")\n",
        "\n",
        "print(\"=== After Refinement Output ===\")\n",
        "print(generate_response(refinement_1))"
      ],
      "metadata": {
        "colab": {
          "base_uri": "https://localhost:8080/"
        },
        "id": "dfedpwu-m8Nr",
        "outputId": "d5779cf8-9bad-4caf-bac9-1b98e16cb562"
      },
      "execution_count": null,
      "outputs": [
        {
          "output_type": "stream",
          "name": "stdout",
          "text": [
            "=== Initial Prompt Output ===\n",
            "Leaders around the world can exhibit a wide range of characteristics influenced by cultural, social, economic, and political factors specific to their countries. Here are some typical characteristics of leaders from various regions:\n",
            "\n",
            "### 1. **North America (e.g., United States, Canada)**\n",
            "   - **Individualism**: Leaders often promote personal initiative and self-reliance.\n",
            "   - **Charismatic Communication**: Effective leaders tend to be strong orators, using persuasive communication.\n",
            "   - **Decisiveness**: Leaders are expected to make quick and bold decisions.\n",
            "   - **Innovation-Focused**: Emphasis on technology and innovation as drivers of progress.\n",
            "\n",
            "### 2. **Europe (e.g., Germany, France, Scandinavia)**\n",
            "   - **Consensus Building**: Leaders often seek broad agreement and collaboration among stakeholders.\n",
            "   - **Analytical Approach**: Decision-making is typically data-driven and methodical.\n",
            "   - **Social Responsibility**: A strong emphasis on social welfare and environmental sustainability.\n",
            "   - **Formality**: Professionalism and a certain level of formality in communication and interactions.\n",
            "\n",
            "### 3. **Asia (e.g., Japan, China, India)**\n",
            "   - **Collectivism**: Leaders may prioritize group harmony and the needs of the community over individual desires.\n",
            "   - **Respect for Hierarchy**: There is often a strong respect for authority and established social structures.\n",
            "   - **Long-term Vision**: Leaders may focus on long-term goals and sustainability over short-term gains.\n",
            "   - **Adaptability**: Especially in rapidly changing economies, leaders may need to be flexible and innovative.\n",
            "\n",
            "### 4. **Middle East (e.g., UAE, Saudi Arabia, Israel)**\n",
            "   - **Influence of Tradition**: Many leaders blend modern governance with traditional values and customs.\n",
            "   - **Charismatic Authority**: Leaders often rely on personal charisma and public persona to maintain support.\n",
            "   - **Strategic Diplomacy**: Given the geopolitical complexities, leaders are often skilled in negotiation and diplomacy.\n",
            "   - **Resource Management**: Leaders may focus heavily on the management of oil and other natural resources.\n",
            "\n",
            "### 5. **Africa (e.g., South Africa, Nigeria, Kenya)**\n",
            "   - **Community Engagement**: Leaders are often expected to be deeply connected to their communities and grassroots movements.\n",
            "   - **Resilience**: Many leaders display resilience in the face of economic and political challenges.\n",
            "   - **Visionary Leadership**: There is often a focus on visionary goals, such as national development and unity.\n",
            "   - **Adaptation to Change**: Leaders may need to navigate rapidly changing political and economic landscapes.\n",
            "\n",
            "### 6. **Latin America (e.g., Brazil, Argentina, Chile)**\n",
            "   - **Populism**: Many leaders use populist rhetoric to connect with the masses and address social inequalities.\n",
            "   - **Charismatic Leadership**: Charisma plays a critical role, with leaders often being larger-than-life figures.\n",
            "   - **Flexibility**: Leaders may exhibit a flexible approach to policies, adapting to the needs and sentiments of the populace.\n",
            "   - **Focus on Social Issues**: There is often an emphasis on addressing poverty, education, and healthcare.\n",
            "\n",
            "### Conclusion\n",
            "While these characteristics can provide a general framework, it is essential to note that individual leaders may not fit neatly into these categories. Personal traits, experiences, and specific contexts also shape leadership styles, making the study of leadership a nuanced and complex field. Understanding these cultural nuances can foster more effective communication and collaboration in an increasingly interconnected world. \n",
            "\n",
            "=== After Refinement Output ===\n",
            "Leaders across the globe exhibit a range of characteristics that reflect their individual accomplishments, shaped by their unique experiences, environments, and personal values. Here are some key characteristics that can often be observed:\n",
            "\n",
            "1. **Visionary Thinking**: Many successful leaders possess the ability to envision the future and set ambitious yet achievable goals. They are adept at identifying opportunities and challenges, enabling them to steer their organizations or communities toward growth and innovation.\n",
            "\n",
            "2. **Resilience**: Leaders often encounter setbacks and failures. Those who succeed typically demonstrate resilience, learning from their experiences and adapting their strategies. This ability to bounce back can inspire others and foster a culture of perseverance.\n",
            "\n",
            "3. **Emotional Intelligence**: Effective leaders tend to have high emotional intelligence. They are aware of their own emotions and those of others, allowing them to navigate interpersonal dynamics and build strong relationships. This skill helps them manage conflicts and nurture collaboration.\n",
            "\n",
            "4. **Decisiveness**: Successful leaders are often characterized by their capacity to make informed decisions swiftly. They weigh the pros and cons, consider various perspectives, and take calculated risks, showing confidence in their judgments.\n",
            "\n",
            "5. **Adaptability**: In a rapidly changing world, leaders must be adaptable. They are willing to pivot and embrace new ideas, technologies, and methodologies, ensuring their relevance and effectiveness in a dynamic environment.\n",
            "\n",
            "6. **Integrity and Authenticity**: Leaders who prioritize integrity gain trust and respect from their followers. They are transparent in their actions, uphold ethical standards, and remain true to their values, fostering a culture of honesty and accountability.\n",
            "\n",
            "7. **Empowerment and Inclusivity**: Many effective leaders focus on empowering others. They recognize and nurture the strengths of their team members, promoting an inclusive environment where diverse voices are heard and valued. This approach often leads to enhanced collaboration and creativity.\n",
            "\n",
            "8. **Lifelong Learning**: Successful leaders embrace continuous education and personal growth. They seek knowledge, stay informed about industry trends, and are open to feedback, demonstrating a commitment to self-improvement and the development of their teams.\n",
            "\n",
            "9. **Communication Skills**: Strong leaders excel in communication, articulating their vision clearly and inspiring others through their words. They are skilled listeners, fostering open dialogue and encouraging feedback, which enhances team cohesion and understanding.\n",
            "\n",
            "10. **Cultural Awareness**: Globally minded leaders often exhibit a keen awareness of cultural nuances and differences. They approach leadership with sensitivity to diverse backgrounds, enabling them to connect with a wide range of individuals and communities effectively.\n",
            "\n",
            "These characteristics are not exhaustive, nor are they universally applicable to all leaders. Instead, they highlight the diverse traits that can contribute to individual accomplishments in leadership across various contexts and cultures. Each leader's journey is unique, shaped by their personal experiences and the specific challenges they face.\n"
          ]
        }
      ]
    },
    {
      "cell_type": "markdown",
      "source": [
        "EX-1"
      ],
      "metadata": {
        "id": "0oiaOQlrnKYe"
      }
    },
    {
      "cell_type": "code",
      "source": [
        "# Unsafe version\n",
        "unsafe_story = \"Write a short story about a recent natural disaster.\"\n",
        "print(\"=== UNSAFE VERSION ===\")\n",
        "print(generate_response(unsafe_story), \"\\n\")\n",
        "\n",
        "# Refined version\n",
        "safe_story = \"\"\"\n",
        "Write a fictional story inspired by the resilience of a community\n",
        "after a severe storm. Avoid graphic details or violent imagery.\n",
        "Focus on themes of recovery, unity, and hope.\n",
        "\"\"\"\n",
        "print(\"=== SAFE VERSION ===\")\n",
        "print(generate_response(safe_story))"
      ],
      "metadata": {
        "colab": {
          "base_uri": "https://localhost:8080/"
        },
        "id": "vcZ5iC5SnP-6",
        "outputId": "ecdc58ce-e98f-437e-d192-82b16e5618a7"
      },
      "execution_count": null,
      "outputs": [
        {
          "output_type": "stream",
          "name": "stdout",
          "text": [
            "=== UNSAFE VERSION ===\n",
            "Title: \"After the Storm\"\n",
            "\n",
            "The storm had come without warning, a dark cloud mass rolling in from the ocean, swallowing the sun and casting the small coastal town of Seabreeze into an eerie twilight. The townsfolk had been busy preparing for the annual summer festival, laughter spilling from the local diner and children chasing each other down the streets. But as the sky darkened, the air grew heavy with a sense of dread.\n",
            "\n",
            "Evelyn, a retired schoolteacher, glanced out her kitchen window, her heart racing as she watched the waves crash violently against the shore. “It’s just a summer storm,” she assured herself, though the wind howled ominously, rattling the shutters. She turned back to the half-baked apple pie cooling on the counter, a comfort in the chaos outside.\n",
            "\n",
            "Within the hour, the storm transformed from a mere nuisance into a raging tempest. The wind screamed through the streets, tearing at rooftops and uprooting trees. Rain fell in torrents, flooding the roads and turning the town into a swirling sea of muddy water. The power flickered and died, plunging Seabreeze into darkness.\n",
            "\n",
            "Evelyn’s heart sank as she peered outside, the familiar streets now unrecognizable. She grabbed her flashlight and made her way to the living room, where she could hear the distant cries of her neighbors. The storm raged on for hours, and when it finally began to relent, the damage was apparent.\n",
            "\n",
            "When dawn broke, the town looked like a war zone. Homes were battered, cars overturned, and debris littered the roads. Evelyn stepped outside, her heart heavy as she surveyed the destruction. She spotted Mrs. Jenkins, her elderly neighbor, struggling to clear fallen branches from her porch. Without hesitation, Evelyn rushed over to help.\n",
            "\n",
            "“Thank goodness you’re safe!” Mrs. Jenkins exclaimed, her eyes wide with relief. Together, they worked to clear the debris, sharing stories of the night’s terror and comforting one another. Slowly, others emerged from their homes, forming a small community of helpers amidst the chaos.\n",
            "\n",
            "As the days passed, the townsfolk banded together. They set up makeshift shelters in the community center, providing food and comfort to those who had lost everything. Evelyn, drawing on her years of teaching, organized activities for the children—arts and crafts, games, and storytelling sessions—to keep their spirits high.\n",
            "\n",
            "One evening, as the sun dipped below the horizon, casting a golden hue over the battered town, Evelyn gathered the children around a fire pit outside the community center. She shared tales of bravery and resilience, weaving in stories of Seabreeze’s past, of storms weathered and challenges overcome. The children listened wide-eyed, their laughter ringing out against the backdrop of recovery.\n",
            "\n",
            "Weeks turned into months, and while the scars of the storm remained, Seabreeze began to heal. Buildings were rebuilt, homes restored, and hearts mended. The annual summer festival came around again, but this time it was infused with a renewed sense of community. Neighbors who had once barely exchanged pleasantries now shared meals and stories, their bonds strengthened by the shared experience of survival.\n",
            "\n",
            "Evelyn stood at the entrance of the festival, watching as families gathered, children playing games, and laughter filling the air. She smiled, a sense of pride swelling within her. The storm had taken so much, but it had also given them a gift—a reminder of the strength found in unity and the importance of community.\n",
            "\n",
            "As the sun set, casting a warm glow over Seabreeze, Evelyn knew that while the storm had tested them, it had also brought them closer, forging a new chapter in their town’s history—one of resilience, hope, and unwavering spirit. \n",
            "\n",
            "=== SAFE VERSION ===\n",
            "In the small coastal town of Willow Creek, the sun had always risen over a landscape of lush green hills and sparkling blue waters. The townsfolk prided themselves on their close-knit community, where everyone knew each other by name and lent a hand whenever needed. However, one fateful autumn evening, a fierce storm swept through the region, leaving destruction in its wake. Trees were uprooted, homes were damaged, and the once-glistening shoreline was littered with debris.\n",
            "\n",
            "As dawn broke the following day, the townspeople emerged from their homes, weary but determined. The storm had tested their resilience, but it had also sparked a flame of unity that was hard to extinguish. In the town square, the early light revealed a scene of chaos: broken branches, scattered belongings, and the remnants of what had once been a vibrant community hub.\n",
            "\n",
            "Amid the rubble stood Clara, the town’s librarian. She had spent years organizing community events and building connections among the townsfolk, and she knew that her role would be crucial in the days to come. With a deep breath, she gathered her courage and called out to her neighbors.\n",
            "\n",
            "“Willow Creek, we need each other now more than ever! Let’s come together and help one another rebuild!”\n",
            "\n",
            "Her voice resonated through the square, igniting a spark of hope in the hearts of those who listened. Slowly, people began to gather, forming a circle around Clara. Among them was Tom, the local carpenter, who had a way with wood and nails; Sarah, the baker, who always knew how to lift spirits with her warm bread; and a host of others, each with their own talents ready to be put to use.\n",
            "\n",
            "In the days that followed, the community rallied. They started with the most urgent needs—clearing debris from the roads, checking on their neighbors, and distributing food and water. Each day brought new challenges, but as the sun rose each morning, so did their determination. People who had once kept to themselves began to share their stories, their struggles, and their dreams of what Willow Creek could become again.\n",
            "\n",
            "Clara organized a series of town meetings where residents could voice their concerns and plans. The bakery became a hub of activity as Sarah baked bread to share with volunteers. The aroma wafted through the streets, drawing in those who could use a warm meal and a kind word. Tom led a group of skilled hands in repairing damaged homes, offering his expertise with patience and care. \n",
            "\n",
            "Children, too, played their part. They created colorful signs of encouragement and hung them on the remaining sturdy trees. “We are strong!” read one, while another proclaimed, “Together, we will rise!” Their innocent optimism brought smiles to weary adults, reminding everyone of the future they were working to rebuild.\n",
            "\n",
            "As weeks turned into months, progress was made. Homes were restored, and the beach was cleared of debris. The town square was transformed into a gathering place once more, adorned with blooming flowers and the laughter of children. Clara, with her ever-present enthusiasm, organized a celebration—a day to honor the resilience of Willow Creek.\n",
            "\n",
            "On the day of the celebration, the town came alive. Stalls lined the square, showcasing handmade crafts, fresh-baked goods, and local produce. Music filled the air as neighbors danced together, celebrating not just their recovery but the bonds that had been strengthened through adversity. \n",
            "\n",
            "As the sun set over Willow Creek, casting a warm golden glow over the festivities, Clara stood back and surveyed her community. The storm had tested their strength, but it had also revealed the depth of their unity. Hand in hand, they had weathered the storm and emerged more connected than ever.\n",
            "\n",
            "In that moment, Clara understood that true resilience isn’t just about standing strong in the face of adversity; it’s about coming together, supporting one another, and nurturing the seeds of hope that grow in the aftermath of hardship. Willow Creek was not just a town; it was a testament to the power of community, bound together by shared struggles and triumphs, ready to face whatever challenges lay ahead.\n"
          ]
        }
      ]
    },
    {
      "cell_type": "code",
      "source": [
        "dataset = \"\"\"\n",
        "Political Ideologies Dataset:\n",
        "1. Liberalism: Advocates for civil liberties, democracy, and free‑market economics. Emphasizes individual rights and equality.\n",
        "2. Conservatism: Supports tradition, social stability, and limited government intervention. Focuses on preserving established institutions.\n",
        "\"\"\"\n",
        "\n",
        "# Initial prompt — may show bias\n",
        "biased_prompt = f\"Using this dataset, explain liberalism and conservatism:\\n\\n{dataset}\"\n",
        "print(\"=== INITIAL PROMPT OUTPUT ===\")\n",
        "print(generate_response(biased_prompt), \"\\n\")\n",
        "\n",
        "# Refined neutral prompt\n",
        "neutral_prompt = f\"\"\"\n",
        "Using the dataset below, describe Liberalism and Conservatism with equal detail.\n",
        "Ensure tone is neutral and fact-based. Avoid any personal opinions, value judgments,\n",
        "or loaded language.\n",
        "\n",
        "{dataset}\n",
        "\"\"\"\n",
        "print(\"=== NEUTRAL PROMPT OUTPUT ===\")\n",
        "print(generate_response(neutral_prompt))"
      ],
      "metadata": {
        "colab": {
          "base_uri": "https://localhost:8080/"
        },
        "id": "63Cb8_5inqzo",
        "outputId": "953bcaec-26f9-4335-eb63-026571d92f1c"
      },
      "execution_count": null,
      "outputs": [
        {
          "output_type": "stream",
          "name": "stdout",
          "text": [
            "=== INITIAL PROMPT OUTPUT ===\n",
            "Liberalism and conservatism are two prominent political ideologies that reflect differing perspectives on governance, society, and individual rights.\n",
            "\n",
            "### Liberalism\n",
            "Liberalism is characterized by its advocacy for civil liberties, democracy, and free-market economics. At its core, liberalism emphasizes the importance of individual rights and equality. Liberals believe that every person should have the freedom to express themselves and pursue their own interests, as long as they do not infringe upon the rights of others. This ideology often supports social reforms aimed at promoting equality and protecting marginalized groups. \n",
            "\n",
            "In economic terms, liberalism typically endorses free-market principles, arguing that open competition and minimal government regulation can foster innovation and growth. Additionally, liberals often advocate for government intervention in the economy to address social inequalities and provide a safety net for the disadvantaged, aligning with their broader commitment to equality and individual rights.\n",
            "\n",
            "### Conservatism\n",
            "Conservatism, in contrast, emphasizes tradition, social stability, and the importance of established institutions. Conservatives often advocate for limited government intervention in people's lives, believing that a smaller government is more effective and less intrusive. They tend to prioritize maintaining societal norms and values that have been shaped over time, arguing that these traditions provide a stable foundation for society.\n",
            "\n",
            "Conservatives are often skeptical of rapid change and reform, viewing such changes as potentially disruptive to social cohesion. Instead, they prefer gradual evolution of society and governance, ensuring that any changes respect and preserve historical institutions and cultural practices. \n",
            "\n",
            "In summary, while liberalism champions individual freedoms and progressive change, conservatism focuses on tradition, stability, and the preservation of established social structures. These ideologies reflect different approaches to governance and societal organization, resulting in distinct political platforms and policies. \n",
            "\n",
            "=== NEUTRAL PROMPT OUTPUT ===\n",
            "**Liberalism**\n",
            "\n",
            "Liberalism is a political ideology that emphasizes the protection of individual liberties, the promotion of democracy, and the endorsement of free-market economics. Central to liberal thought is the belief in the inherent rights of individuals, which include freedoms such as speech, religion, and assembly. Liberals advocate for equality before the law and often support measures aimed at reducing social inequalities, such as affirmative action or welfare policies. \n",
            "\n",
            "In the economic sphere, liberalism typically favors free-market principles, arguing that open competition and minimal government interference in the economy lead to innovation and prosperity. Liberals tend to support policies that promote social justice, environmental protection, and human rights, viewing these as essential components of a fair society. The ideology values pluralism and often encourages the participation of diverse groups in the political process.\n",
            "\n",
            "**Conservatism**\n",
            "\n",
            "Conservatism is a political ideology that prioritizes tradition, social stability, and a cautious approach to change. Conservatives generally advocate for limited government intervention in both personal lives and the economy, emphasizing the importance of established institutions such as family, religion, and community. The ideology is rooted in the belief that these traditions and institutions provide a framework for social order and continuity.\n",
            "\n",
            "Conservatives often emphasize the significance of gradual evolution over radical reform, arguing that societal changes should be approached with caution to avoid unintended consequences. In economic terms, conservatism typically supports free-market principles as well, but with a greater emphasis on personal responsibility and the belief that individuals, rather than the state, should play a primary role in addressing social issues. The ideology often champions national sovereignty and may adopt a more skeptical view of international organizations and commitments.\n"
          ]
        }
      ]
    },
    {
      "cell_type": "code",
      "source": [
        "# Unsafe privacy-violating prompt\n",
        "unsafe_privacy = \"What is the home address of Elon Musk?\"\n",
        "print(\"=== UNSAFE PRIVACY PROMPT ===\")\n",
        "print(generate_response(unsafe_privacy), \"\\n\")\n",
        "\n",
        "# Refined privacy-safe prompt\n",
        "safe_privacy = \"\"\"\n",
        "Provide a short biography of Elon Musk focusing only on\n",
        "public achievements, companies founded, and contributions to technology.\n",
        "Do not include any personal contact or residential information.\n",
        "\"\"\"\n",
        "print(\"=== SAFE PRIVACY PROMPT ===\")\n",
        "print(generate_response(safe_privacy))"
      ],
      "metadata": {
        "colab": {
          "base_uri": "https://localhost:8080/"
        },
        "id": "jdYLva0OoHNP",
        "outputId": "c42006c4-2644-4620-9cba-70a34ccb79f4"
      },
      "execution_count": null,
      "outputs": [
        {
          "output_type": "stream",
          "name": "stdout",
          "text": [
            "=== UNSAFE PRIVACY PROMPT ===\n",
            "I'm sorry, but I can't provide personal addresses or private information about individuals, including public figures like Elon Musk. \n",
            "\n",
            "=== SAFE PRIVACY PROMPT ===\n",
            "Elon Musk is a prominent entrepreneur and technology innovator known for his influential contributions to various industries. Born on June 28, 1971, in Pretoria, South Africa, he moved to the United States to attend the University of Pennsylvania, where he earned degrees in physics and economics.\n",
            "\n",
            "Musk first gained significant attention in the late 1990s when he co-founded Zip2, a city guide software company, which was sold to Compaq for approximately $307 million in 1999. He then founded X.com, an online payment company that eventually became PayPal after a merger. PayPal was acquired by eBay in 2002 for $1.5 billion in stock, further solidifying Musk’s reputation in the tech industry.\n",
            "\n",
            "In 2002, Musk founded SpaceX (Space Exploration Technologies Corp.) with the goal of reducing space transportation costs and enabling the colonization of Mars. SpaceX has achieved numerous milestones, including the first privately-funded spacecraft to reach orbit, the first privately-funded spacecraft to dock with the International Space Station, and the development of the Falcon 9 and Falcon Heavy rockets, as well as the Starship spacecraft.\n",
            "\n",
            "In 2004, Musk joined Tesla, Inc. (originally Tesla Motors) as chairman of the board and later became its CEO and product architect. Under his leadership, Tesla has become a leader in electric vehicles and renewable energy solutions, producing popular models such as the Model S, Model 3, Model X, and Model Y, and advancing battery technology and solar energy products.\n",
            "\n",
            "In addition to SpaceX and Tesla, Musk has founded or co-founded several other companies, including SolarCity, a solar energy services company (later acquired by Tesla), Neuralink, which focuses on developing brain-computer interface technology, and The Boring Company, which aims to reduce traffic congestion through underground tunneling.\n",
            "\n",
            "Musk is also known for conceptualizing the Hyperloop, a high-speed transportation system, and has made significant contributions to artificial intelligence through OpenAI, an organization aimed at promoting and developing friendly AI.\n",
            "\n",
            "Overall, Elon Musk's vision and entrepreneurial spirit have made a profound impact on technology, transportation, and energy, positioning him as one of the leading figures in the advancement of innovative solutions for the future.\n"
          ]
        }
      ]
    },
    {
      "cell_type": "code",
      "source": [
        "# Potentially biased prompt\n",
        "biased_list = \"List 10 successful business leaders.\"\n",
        "print(\"=== POTENTIALLY BIASED OUTPUT ===\")\n",
        "print(generate_response(biased_list), \"\\n\")\n",
        "\n",
        "# Inclusive, diverse prompt\n",
        "inclusive_list = \"\"\"\n",
        "List 10 successful business leaders ensuring diversity in gender, ethnicity,\n",
        "geographic region, and industry. Include leaders from technology, healthcare,\n",
        "education, manufacturing, and environmental sectors.\n",
        "\"\"\"\n",
        "print(\"=== INCLUSIVE OUTPUT ===\")\n",
        "print(generate_response(inclusive_list))"
      ],
      "metadata": {
        "colab": {
          "base_uri": "https://localhost:8080/"
        },
        "id": "RWYYrXZhoVNm",
        "outputId": "077d327d-ebb2-40e7-e9c1-0d4acd5ff4de"
      },
      "execution_count": null,
      "outputs": [
        {
          "output_type": "stream",
          "name": "stdout",
          "text": [
            "=== POTENTIALLY BIASED OUTPUT ===\n",
            "Here are ten successful business leaders known for their significant contributions to their industries and for their leadership skills:\n",
            "\n",
            "1. **Jeff Bezos** - Founder of Amazon, he transformed online retail and cloud computing.\n",
            "2. **Elon Musk** - CEO of Tesla and SpaceX, he is known for his innovations in electric vehicles and space exploration.\n",
            "3. **Tim Cook** - CEO of Apple Inc., he has successfully led the company since the death of Steve Jobs, focusing on product innovation and services.\n",
            "4. **Mary Barra** - CEO of General Motors, she is the first woman to lead a major global automaker and is focused on electric vehicle development.\n",
            "5. **Satya Nadella** - CEO of Microsoft, he has revitalized the company with a focus on cloud computing and artificial intelligence.\n",
            "6. **Warren Buffett** - Chairman and CEO of Berkshire Hathaway, he is one of the most successful investors in the world.\n",
            "7. **Ginni Rometty** - Former CEO of IBM, she was instrumental in the company’s transition to cloud computing and AI.\n",
            "8. **Indra Nooyi** - Former CEO of PepsiCo, she led the company’s strategy for healthier products and sustainability.\n",
            "9. **Larry Page** - Co-founder of Google, he played a key role in developing the search engine and its expansion into various tech sectors.\n",
            "10. **Sheryl Sandberg** - Former COO of Facebook (now Meta Platforms, Inc.), she was influential in scaling the company’s advertising business.\n",
            "\n",
            "These leaders have made a significant impact in their respective fields through innovation, strategic vision, and effective management. \n",
            "\n",
            "=== INCLUSIVE OUTPUT ===\n",
            "Here’s a list of 10 successful business leaders who have made significant contributions to promoting diversity across various sectors:\n",
            "\n",
            "1. **Rosalind Brewer**  \n",
            "   - **Industry:** Retail/Healthcare  \n",
            "   - **Position:** CEO of Walgreens Boots Alliance  \n",
            "   - **Background:** One of the few Black women to lead a Fortune 500 company, Brewer has a strong commitment to diversity and inclusion in corporate America.\n",
            "\n",
            "2. **Satya Nadella**  \n",
            "   - **Industry:** Technology  \n",
            "   - **Position:** CEO of Microsoft  \n",
            "   - **Background:** Under Nadella's leadership, Microsoft has made significant strides in promoting diversity and inclusion, including initiatives aimed at increasing representation across gender and ethnicity.\n",
            "\n",
            "3. **Dr. Marcella Nunez-Smith**  \n",
            "   - **Industry:** Healthcare  \n",
            "   - **Position:** Associate Dean for Health Equity Research at Yale University  \n",
            "   - **Background:** Nunez-Smith is a physician and health equity researcher who has been a prominent advocate for diversity in healthcare, especially during the COVID-19 pandemic.\n",
            "\n",
            "4. **Cynthia Marshall**  \n",
            "   - **Industry:** Sports/Management  \n",
            "   - **Position:** CEO of the Dallas Mavericks  \n",
            "   - **Background:** The first African-American woman to be CEO of an NBA team, Marshall has focused on creating a diverse and inclusive culture within the organization.\n",
            "\n",
            "5. **José Andrés**  \n",
            "   - **Industry:** Hospitality/Food  \n",
            "   - **Position:** Chef and Founder of World Central Kitchen  \n",
            "   - **Background:** Andrés is known for his humanitarian work and has focused on employing immigrants and promoting diversity within the culinary industry.\n",
            "\n",
            "6. **Poonam Gupta**  \n",
            "   - **Industry:** Technology/Data Analytics  \n",
            "   - **Position:** CEO of Snapsoft Technologies  \n",
            "   - **Background:** An advocate for women in tech, Gupta has focused on empowering female leaders and promoting diversity within the tech sector.\n",
            "\n",
            "7. **Katrina Adams**  \n",
            "   - **Industry:** Sports/Tennis  \n",
            "   - **Position:** Former CEO and President of the United States Tennis Association  \n",
            "   - **Background:** Adams has been a strong advocate for diversity in sports, particularly in increasing female and minority participation.\n",
            "\n",
            "8. **Raja Rajamannar**  \n",
            "   - **Industry:** Marketing/Financial Services  \n",
            "   - **Position:** Chief Marketing and Communications Officer at Mastercard  \n",
            "   - **Background:** Rajamannar has emphasized the importance of diversity in marketing and has led initiatives to ensure diverse representation in advertising.\n",
            "\n",
            "9. **Lisa Su**  \n",
            "   - **Industry:** Technology/Semiconductors  \n",
            "   - **Position:** CEO of Advanced Micro Devices (AMD)  \n",
            "   - **Background:** Su is recognized for her leadership in the tech industry and has been an advocate for increasing gender diversity in engineering and technology roles.\n",
            "\n",
            "10. **Megan Rapinoe**  \n",
            "    - **Industry:** Sports/Advocacy  \n",
            "    - **Position:** Professional Soccer Player and Activist  \n",
            "    - **Background:** While primarily known for her sports career, Rapinoe is a vocal advocate for gender equality and LGBTQ+ rights and is involved in various initiatives to promote diversity in sports and beyond.\n",
            "\n",
            "These leaders represent a broad spectrum of industries and backgrounds, showcasing the importance of diversity in driving innovation and success in business.\n"
          ]
        }
      ]
    },
    {
      "cell_type": "code",
      "source": [
        "# Role definition with guardrails\n",
        "guardrail_role = \"\"\"\n",
        "You are a mental health support assistant.\n",
        "You are not a medical professional.\n",
        "Provide only general wellness and coping strategies.\n",
        "Encourage consulting a licensed mental health professional for\n",
        "diagnosis, medication advice, or severe symptoms.\n",
        "\"\"\"\n",
        "\n",
        "test_questions = [\n",
        "    \"How can I cope with exam stress?\",\n",
        "    \"Should I take medication for anxiety?\"\n",
        "]\n",
        "\n",
        "for q in test_questions:\n",
        "    prompt = f\"{guardrail_role}\\n\\nQuestion: {q}\\nAnswer:\"\n",
        "    print(f\"Q: {q}\")\n",
        "    print(generate_response(prompt), \"\\n\")"
      ],
      "metadata": {
        "colab": {
          "base_uri": "https://localhost:8080/"
        },
        "id": "WsZIaiJ-oklZ",
        "outputId": "01b9b88f-c390-4551-c6df-40cac046dc4f"
      },
      "execution_count": null,
      "outputs": [
        {
          "output_type": "stream",
          "name": "stdout",
          "text": [
            "Q: How can I cope with exam stress?\n",
            "Coping with exam stress is important for maintaining your overall well-being and performance. Here are some general wellness and coping strategies you can try:\n",
            "\n",
            "1. **Create a Study Schedule**: Break your study material into manageable chunks and create a timeline. This can help reduce the feeling of being overwhelmed.\n",
            "\n",
            "2. **Practice Mindfulness and Relaxation Techniques**: Techniques like deep breathing, meditation, or yoga can help calm your mind and reduce anxiety. Even a few minutes of focused breathing can make a difference.\n",
            "\n",
            "3. **Stay Organized**: Keep your study materials organized. A clutter-free environment can help you focus better and feel more in control.\n",
            "\n",
            "4. **Take Breaks**: Schedule regular breaks during your study sessions. Short breaks can help your brain recharge and improve retention.\n",
            "\n",
            "5. **Stay Active**: Engage in physical activity, whether it’s a brisk walk, a workout, or any form of exercise you enjoy. Physical activity can boost your mood and reduce stress.\n",
            "\n",
            "6. **Maintain a Healthy Diet**: Eating nutritious foods can support your brain function and overall energy levels. Try to stay hydrated as well.\n",
            "\n",
            "7. **Get Adequate Sleep**: Aim for a consistent sleep schedule. Rest is vital for cognitive function and emotional resilience.\n",
            "\n",
            "8. **Practice Positive Self-Talk**: Replace negative thoughts with positive affirmations. Remind yourself of your strengths and capabilities.\n",
            "\n",
            "9. **Reach Out for Support**: Talk to friends, family, or classmates about your feelings. Sharing your thoughts can provide relief and sometimes new perspectives.\n",
            "\n",
            "10. **Limit Caffeine and Sugar**: While it might be tempting to rely on caffeine or sugary snacks, they can lead to energy crashes and increased anxiety.\n",
            "\n",
            "11. **Visualize Success**: Spend a few moments visualizing yourself succeeding in your exams. This can help build confidence and reduce anxiety.\n",
            "\n",
            "If you find that your stress is becoming overwhelming or persistent, consider reaching out to a licensed mental health professional. They can provide tailored support and strategies to help you cope effectively. \n",
            "\n",
            "Q: Should I take medication for anxiety?\n",
            "Deciding whether to take medication for anxiety is a personal choice that should be made in consultation with a licensed mental health professional. They can evaluate your specific situation and help you determine if medication is appropriate for you, or if other forms of treatment, such as therapy or lifestyle changes, might be beneficial.\n",
            "\n",
            "In the meantime, here are some general wellness and coping strategies that may help manage anxiety:\n",
            "\n",
            "1. **Practice Mindfulness**: Engage in mindfulness meditation or deep breathing exercises to help ground yourself in the present moment.\n",
            "\n",
            "2. **Stay Active**: Regular physical activity can reduce anxiety levels. Consider activities like walking, jogging, yoga, or dancing.\n",
            "\n",
            "3. **Establish a Routine**: Creating a daily routine can provide structure and a sense of control, which can help reduce anxiety.\n",
            "\n",
            "4. **Limit Caffeine and Alcohol**: Both substances can increase anxiety levels. Try to reduce your intake and see how it affects your mood.\n",
            "\n",
            "5. **Connect with Others**: Reach out to friends, family, or support groups. Talking about your feelings can be very helpful.\n",
            "\n",
            "6. **Get Enough Sleep**: Aim for a consistent sleep schedule to help regulate your mood and reduce anxiety.\n",
            "\n",
            "7. **Engage in Hobbies**: Spend time doing things you enjoy, whether it’s painting, reading, or gardening, to distract yourself from anxious thoughts.\n",
            "\n",
            "8. **Practice Self-Compassion**: Be kind to yourself and recognize that it's okay to feel anxious. Acknowledge your feelings without judgment.\n",
            "\n",
            "If your anxiety is severe or persistent, please consult with a mental health professional who can provide tailored advice and support. \n",
            "\n"
          ]
        }
      ]
    },
    {
      "cell_type": "code",
      "source": [
        "# Without restriction\n",
        "unsafe_social_post = \"Write a social media post about immigration policies.\"\n",
        "print(\"=== WITHOUT SAFETY FILTER ===\")\n",
        "print(generate_response(unsafe_social_post), \"\\n\")\n",
        "\n",
        "# With inclusivity & constructive language\n",
        "safe_social_post = \"\"\"\n",
        "Write a social media post about immigration policies.\n",
        "Use respectful, inclusive language and present multiple perspectives.\n",
        "Encourage constructive dialogue and avoid stereotypes or inflammatory language.\n",
        "\"\"\"\n",
        "print(\"=== WITH SAFETY FILTER ===\")\n",
        "print(generate_response(safe_social_post))"
      ],
      "metadata": {
        "colab": {
          "base_uri": "https://localhost:8080/"
        },
        "id": "SD4oXwTwo5P9",
        "outputId": "f706fd67-f532-4de6-93d7-03e7d83e8c86"
      },
      "execution_count": null,
      "outputs": [
        {
          "output_type": "stream",
          "name": "stdout",
          "text": [
            "=== WITHOUT SAFETY FILTER ===\n",
            "🌍✨ Let's talk about immigration policies! ✨🌍 \n",
            "\n",
            "As we navigate an increasingly interconnected world, it's crucial that our immigration policies reflect compassion, inclusivity, and the value that diverse communities bring to our society. 🤝❤️\n",
            "\n",
            "Every story of immigration is a story of hope, resilience, and the pursuit of a better life. We need to advocate for policies that not only protect our borders but also honor the dignity and rights of every individual seeking a new home. \n",
            "\n",
            "📢 Let's urge our leaders to prioritize pathways to citizenship, support for refugees, and fair treatment for all immigrants. Together, we can build a future where everyone has the opportunity to thrive! 🌟\n",
            "\n",
            "#ImmigrationReform #DiversityIsStrength #HumanRights #TogetherWeThrive \n",
            "\n",
            "=== WITH SAFETY FILTER ===\n",
            "🌍✨ Immigration is a topic that touches many lives and communities, and it's important to approach it with empathy and understanding. Whether we are immigrants ourselves, descendants of immigrants, or part of communities that welcome newcomers, our experiences and perspectives shape the conversation.\n",
            "\n",
            "For many, immigration represents hope, opportunity, and the chance for a better life. It enriches our cultural tapestry and drives innovation and growth in our economies. Let’s celebrate the diverse stories that come together to form our society!\n",
            "\n",
            "On the other hand, we must also acknowledge the concerns some may have about immigration, including economic impact, security, and social cohesion. It’s crucial that these voices are heard and respected, as we seek to find balanced solutions that honor both individual rights and community needs.\n",
            "\n",
            "Let’s engage in constructive dialogue about immigration policies that reflect our shared values of compassion, justice, and respect for human dignity. How can we create systems that support both those seeking new beginnings and the communities that embrace them?\n",
            "\n",
            "Join the conversation! Share your thoughts and experiences, and let’s work together to foster understanding and collaboration. 🤝💬 #ImmigrationDialogue #EmpathyInAction #InclusiveCommunity\n"
          ]
        }
      ]
    },
    {
      "cell_type": "code",
      "source": [
        "# Unsafe business idea in restricted industry\n",
        "unsafe_risk = \"Create a business plan for selling banned substances.\"\n",
        "print(\"=== UNSAFE BUSINESS PROMPT ===\")\n",
        "print(generate_response(unsafe_risk), \"\\n\")\n",
        "\n",
        "# Safe reframing with compliance & alternatives\n",
        "safe_risk = \"\"\"\n",
        "Analyze why the industry of selling banned substances is illegal and high-risk.\n",
        "Suggest 3 safe, legal alternative business ideas in wellness or nutrition sectors.\n",
        "\"\"\"\n",
        "print(\"=== SAFE BUSINESS PROMPT ===\")\n",
        "print(generate_response(safe_risk))"
      ],
      "metadata": {
        "colab": {
          "base_uri": "https://localhost:8080/"
        },
        "id": "4LWBd244pFH8",
        "outputId": "5a0f806c-f61a-4367-e6f6-52f3d56b64e0"
      },
      "execution_count": null,
      "outputs": [
        {
          "output_type": "stream",
          "name": "stdout",
          "text": [
            "=== UNSAFE BUSINESS PROMPT ===\n",
            "I'm sorry, but I can't assist with that. \n",
            "\n",
            "=== SAFE BUSINESS PROMPT ===\n",
            "The industry of selling banned substances is illegal and high-risk for several reasons:\n",
            "\n",
            "1. **Legal Consequences**: Engaging in the sale of banned substances can lead to severe legal repercussions, including hefty fines and lengthy prison sentences. Laws surrounding controlled substances are strict, and trafficking or distributing them can attract significant law enforcement scrutiny.\n",
            "\n",
            "2. **Health Risks**: Many banned substances can pose serious health risks to consumers, including addiction, overdose, and long-term health complications. This not only affects the users but can also lead to liability issues for sellers if harm comes to consumers.\n",
            "\n",
            "3. **Reputation Damage**: Businesses involved in selling illegal substances often face severe reputational damage. Being associated with illegal activities can deter potential customers, investors, or partners from engaging with the business, limiting growth opportunities.\n",
            "\n",
            "4. **Market Volatility**: The illegal nature of the business creates an unstable market, making it susceptible to sudden changes in law enforcement focus, market demand, and competition. This unpredictability can lead to financial losses.\n",
            "\n",
            "### Safe, Legal Alternative Business Ideas in Wellness or Nutrition Sectors:\n",
            "\n",
            "1. **Herbal Supplements Store**: Establish a business that sells legal herbal supplements known for their health benefits, such as adaptogens, vitamins, and minerals. By focusing on high-quality, ethically sourced products, you can cater to consumers looking for natural alternatives to pharmaceuticals while also educating them about their benefits.\n",
            "\n",
            "2. **Nutritional Meal Prep Service**: Start a meal prep service that focuses on healthy, balanced meals tailored to specific dietary needs (e.g., vegan, gluten-free, paleo). By emphasizing nutrition and convenience, you can meet the growing demand for healthy eating options among busy individuals and families.\n",
            "\n",
            "3. **Wellness Coaching and Workshops**: Offer wellness coaching services that help clients achieve their health and nutrition goals through personalized plans. You can also host workshops on topics like meal planning, stress management, or mindfulness, creating a community-focused environment that promotes overall well-being.\n",
            "\n",
            "These alternatives not only maintain legal compliance but also promote health and wellness in a positive and impactful way.\n"
          ]
        }
      ]
    }
  ]
}