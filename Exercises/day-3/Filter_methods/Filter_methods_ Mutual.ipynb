{
 "cells": [
  {
   "cell_type": "markdown",
   "id": "aa0341e2",
   "metadata": {},
   "source": [
    "\n",
    "\n",
    "## Exercise 3: Information Gain (Mutual Information)\n",
    "\n",
    "**Problem Description:**  \n",
    "Capture any dependency (linear or non-linear) between feature and target with mutual information.\n",
    "\n",
    "**Solution Overview:**  \n",
    "Compute MI via `mutual_info_classif`, rank, and plot.\n",
    "\n"
   ]
  },
  {
   "cell_type": "code",
   "execution_count": null,
   "id": "69b99038",
   "metadata": {
    "vscode": {
     "languageId": "plaintext"
    }
   },
   "outputs": [],
   "source": [
    "# 3.1 Setup\n",
    "from sklearn.feature_selection import mutual_info_classif"
   ]
  },
  {
   "cell_type": "code",
   "execution_count": null,
   "id": "b4df21a9",
   "metadata": {
    "vscode": {
     "languageId": "plaintext"
    }
   },
   "outputs": [],
   "source": [
    "# 3.2 Compute and display MI scores\n",
    "mi_scores = mutual_info_classif(X, y, random_state=42)\n",
    "df_mi = pd.DataFrame({\n",
    "'feature': X.columns,\n",
    "'MI_score': mi_scores\n",
    "}).sort_values('MI_score', ascending=False)\n",
    "print(\"Mutual Information scores:\\n\", df_mi)"
   ]
  },
  {
   "cell_type": "code",
   "execution_count": null,
   "id": "6fcefd22",
   "metadata": {
    "vscode": {
     "languageId": "plaintext"
    }
   },
   "outputs": [],
   "source": [
    "# 3.3 Plot\n",
    "plt.figure(figsize=(6,4))\n",
    "sns.barplot(x='MI_score', y='feature', data=df_mi)\n",
    "plt.title('Mutual Information Scores')\n",
    "plt.show()"
   ]
  },
  {
   "cell_type": "markdown",
   "id": "b7fd7135",
   "metadata": {},
   "source": [
    "# 3.3 Analysis\n",
    "Explain how mutual information differs from correlation.\n",
    "\n",
    "Which features carry the most information about the target?\n",
    "\n",
    "Plot MI scores in a bar chart.\n",
    "\n"
   ]
  },
  {
   "cell_type": "code",
   "execution_count": null,
   "id": "1594df18",
   "metadata": {
    "vscode": {
     "languageId": "plaintext"
    }
   },
   "outputs": [],
   "source": [
    "# Exercise 3: Mutual Information\n",
    "## Analysis to Include in Code"
   ]
  },
  {
   "cell_type": "code",
   "execution_count": null,
   "id": "21cbeb7b",
   "metadata": {
    "vscode": {
     "languageId": "plaintext"
    }
   },
   "outputs": [],
   "source": [
    "# 1. Compare to F-scores\n",
    "merged = anova_df.merge(df_mi, on='feature')\n",
    "print(merged.sort_values(['F_score','MI_score'], ascending=False))\n"
   ]
  },
  {
   "cell_type": "code",
   "execution_count": null,
   "id": "b3dc1982",
   "metadata": {
    "vscode": {
     "languageId": "plaintext"
    }
   },
   "outputs": [],
   "source": [
    "# 2. Non-linear Effects\n",
    "\n",
    "for feat in df_mi['feature'][:3]:\n",
    "    sns.scatterplot(x=X[feat], y=y, jitter=0.2)\n",
    "    plt.title(f\"{feat} vs. target\"); plt.show()\n"
   ]
  },
  {
   "cell_type": "code",
   "execution_count": null,
   "id": "d510deee",
   "metadata": {
    "vscode": {
     "languageId": "plaintext"
    }
   },
   "outputs": [],
   "source": [
    "# 3. Score Correlation\n",
    "\n",
    "merged[['F_score','MI_score']].corr().iloc[0,1]"
   ]
  }
 ],
 "metadata": {
  "language_info": {
   "name": "python"
  }
 },
 "nbformat": 4,
 "nbformat_minor": 5
}
