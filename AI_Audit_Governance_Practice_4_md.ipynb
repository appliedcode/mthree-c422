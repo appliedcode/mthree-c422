{
  "nbformat": 4,
  "nbformat_minor": 0,
  "metadata": {
    "colab": {
      "provenance": [],
      "authorship_tag": "ABX9TyM7MaUF+y0irzffT7iKyufm",
      "include_colab_link": true
    },
    "kernelspec": {
      "name": "python3",
      "display_name": "Python 3"
    },
    "language_info": {
      "name": "python"
    }
  },
  "cells": [
    {
      "cell_type": "markdown",
      "metadata": {
        "id": "view-in-github",
        "colab_type": "text"
      },
      "source": [
        "<a href=\"https://colab.research.google.com/github/appliedcode/mthree-c422/blob/mthree-c422-Likhitha/AI_Audit_Governance_Practice_4_md.ipynb\" target=\"_parent\"><img src=\"https://colab.research.google.com/assets/colab-badge.svg\" alt=\"Open In Colab\"/></a>"
      ]
    },
    {
      "cell_type": "code",
      "source": [
        "# -----------------------------\n",
        "# AI Governance: Bias Detection & SHAP Explainability\n",
        "# -----------------------------\n",
        "import pandas as pd\n",
        "import numpy as np\n",
        "from sklearn.model_selection import train_test_split\n",
        "from sklearn.ensemble import RandomForestClassifier\n",
        "from sklearn.metrics import accuracy_score, classification_report\n",
        "import shap\n",
        "\n",
        "# -----------------------------\n",
        "# 1. Load Data\n",
        "# -----------------------------\n",
        "url = \"https://archive.ics.uci.edu/ml/machine-learning-databases/adult/adult.data\"\n",
        "cols = [\n",
        "    \"age\", \"workclass\", \"fnlwgt\", \"education\", \"education_num\",\n",
        "    \"marital_status\", \"occupation\", \"relationship\", \"race\", \"sex\",\n",
        "    \"capital_gain\", \"capital_loss\", \"hours_per_week\", \"native_country\", \"income\"\n",
        "]\n",
        "df = pd.read_csv(url, header=None, names=cols, na_values=\" ?\", skipinitialspace=True)\n",
        "\n",
        "# Drop missing values\n",
        "df.dropna(inplace=True)\n",
        "\n",
        "# -----------------------------\n",
        "# 2. Preprocessing\n",
        "# -----------------------------\n",
        "# Binary target encoding\n",
        "df[\"income\"] = df[\"income\"].apply(lambda x: 1 if \">50K\" in x else 0)\n",
        "\n",
        "# One-hot encode categorical variables\n",
        "df_encoded = pd.get_dummies(df, drop_first=True)\n",
        "\n",
        "X = df_encoded.drop(\"income\", axis=1)\n",
        "y = df_encoded[\"income\"]\n",
        "\n",
        "# Train-test split\n",
        "X_train, X_test, y_train, y_test, df_train, df_test = train_test_split(\n",
        "    X, y, df, test_size=0.2, random_state=42, stratify=y\n",
        ")\n",
        "\n",
        "# -----------------------------\n",
        "# 3. Train Model\n",
        "# -----------------------------\n",
        "model = RandomForestClassifier(n_estimators=100, random_state=42)\n",
        "model.fit(X_train, y_train)\n",
        "\n",
        "# Predictions\n",
        "y_pred = model.predict(X_test)\n",
        "\n",
        "# -----------------------------\n",
        "# 4. Model Performance\n",
        "# -----------------------------\n",
        "print(\"\\nModel Accuracy:\", accuracy_score(y_test, y_pred))\n",
        "print(\"\\nClassification Report:\\n\", classification_report(y_test, y_pred))\n",
        "\n",
        "# -----------------------------\n",
        "# 5. Bias Detection by Demographics\n",
        "# -----------------------------\n",
        "test_data = df_test.copy()\n",
        "test_data[\"y_true\"] = y_test\n",
        "test_data[\"y_pred\"] = y_pred\n",
        "\n",
        "bias_stats = test_data.groupby(\"sex\", group_keys=False).apply(\n",
        "    lambda g: pd.Series({\n",
        "        \"count\": len(g),\n",
        "        \"accuracy\": accuracy_score(g[\"y_true\"], g[\"y_pred\"]),\n",
        "        \"positive_rate\": np.mean(g[\"y_pred\"])\n",
        "    })\n",
        ")\n",
        "\n",
        "print(\"\\nBias Statistics by Sex:\\n\", bias_stats)\n",
        "\n",
        "# -----------------------------\n",
        "# 6. Explainability with SHAP\n",
        "# -----------------------------\n",
        "explainer = shap.TreeExplainer(model)\n",
        "shap_values = explainer.shap_values(X_test)\n",
        "\n",
        "# Handle binary vs multiclass SHAP output shape\n",
        "if isinstance(shap_values, list):\n",
        "    # For binary classification: take positive class\n",
        "    shap_values_to_plot = shap_values[1]\n",
        "else:\n",
        "    shap_values_to_plot = shap_values\n",
        "\n",
        "print(\"\\nGenerating SHAP Summary Plot...\")\n",
        "shap.summary_plot(shap_values_to_plot, X_test, plot_type=\"bar\")\n"
      ],
      "metadata": {
        "colab": {
          "base_uri": "https://localhost:8080/"
        },
        "id": "B62RDZuqkhpM",
        "outputId": "b208ba55-40fc-4a6f-b131-47024e199a78"
      },
      "execution_count": null,
      "outputs": [
        {
          "metadata": {
            "tags": null
          },
          "name": "stdout",
          "output_type": "stream",
          "text": [
            "\n",
            "Model Accuracy: 0.8607400583448488\n",
            "\n",
            "Classification Report:\n",
            "               precision    recall  f1-score   support\n",
            "\n",
            "           0       0.89      0.93      0.91      4945\n",
            "           1       0.75      0.63      0.69      1568\n",
            "\n",
            "    accuracy                           0.86      6513\n",
            "   macro avg       0.82      0.78      0.80      6513\n",
            "weighted avg       0.86      0.86      0.86      6513\n",
            "\n",
            "\n",
            "Bias Statistics by Sex:\n",
            "          count  accuracy  positive_rate\n",
            "sex                                    \n",
            "Female  2158.0  0.936979       0.084801\n",
            "Male    4355.0  0.822962       0.263146\n"
          ]
        },
        {
          "metadata": {
            "tags": null
          },
          "name": "stderr",
          "output_type": "stream",
          "text": [
            "/tmp/ipython-input-3527928540.py:64: DeprecationWarning: DataFrameGroupBy.apply operated on the grouping columns. This behavior is deprecated, and in a future version of pandas the grouping columns will be excluded from the operation. Either pass `include_groups=False` to exclude the groupings or explicitly select the grouping columns after groupby to silence this warning.\n",
            "  bias_stats = test_data.groupby(\"sex\", group_keys=False).apply(\n"
          ]
        }
      ]
    }
  ]
}