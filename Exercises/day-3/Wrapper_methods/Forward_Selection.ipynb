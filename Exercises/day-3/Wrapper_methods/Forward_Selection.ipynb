{
 "cells": [
  {
   "cell_type": "code",
   "id": "a9b5fa65",
   "metadata": {
    "vscode": {
     "languageId": "plaintext"
    },
    "ExecuteTime": {
     "end_time": "2025-07-30T10:02:39.897739Z",
     "start_time": "2025-07-30T10:02:38.004094Z"
    }
   },
   "source": [
    "# Forward Selection\n",
    "import pandas as pd\n",
    "from sklearn.datasets import load_breast_cancer\n",
    "from sklearn.linear_model import LogisticRegression\n",
    "from sklearn.feature_selection import SequentialFeatureSelector\n",
    "from sklearn.model_selection import train_test_split\n",
    "from sklearn.metrics import accuracy_score\n"
   ],
   "outputs": [],
   "execution_count": 2
  },
  {
   "cell_type": "code",
   "id": "4e080b2b",
   "metadata": {
    "vscode": {
     "languageId": "plaintext"
    },
    "ExecuteTime": {
     "end_time": "2025-07-30T10:02:39.934873Z",
     "start_time": "2025-07-30T10:02:39.906280Z"
    }
   },
   "source": [
    "# Load data\n",
    "X, y = load_breast_cancer(return_X_y=True)\n",
    "X = pd.DataFrame(X)"
   ],
   "outputs": [],
   "execution_count": 3
  },
  {
   "cell_type": "code",
   "id": "7b38155f",
   "metadata": {
    "vscode": {
     "languageId": "plaintext"
    },
    "ExecuteTime": {
     "end_time": "2025-07-30T10:02:40.172810Z",
     "start_time": "2025-07-30T10:02:40.163295Z"
    }
   },
   "source": [
    "# Split dataset into train and test\n",
    "X_train, X_test, y_train, y_test = train_test_split(X, y, random_state=42)"
   ],
   "outputs": [],
   "execution_count": 4
  },
  {
   "cell_type": "code",
   "id": "a028b5d0",
   "metadata": {
    "vscode": {
     "languageId": "plaintext"
    },
    "ExecuteTime": {
     "end_time": "2025-07-30T10:02:40.217016Z",
     "start_time": "2025-07-30T10:02:40.212013Z"
    }
   },
   "source": [
    "# Create logistic regression model\n",
    "model = LogisticRegression(max_iter=5000)"
   ],
   "outputs": [],
   "execution_count": 5
  },
  {
   "cell_type": "code",
   "id": "cca6f470",
   "metadata": {
    "vscode": {
     "languageId": "plaintext"
    },
    "ExecuteTime": {
     "end_time": "2025-07-30T10:02:48.269466Z",
     "start_time": "2025-07-30T10:02:40.258193Z"
    }
   },
   "source": [
    "# Forward Selection: add features one by one that improve model performance\n",
    "sfs_forward = SequentialFeatureSelector(\n",
    "    model, n_features_to_select=5, direction='forward'\n",
    ")\n",
    "sfs_forward.fit(X_train, y_train)\n",
    "\n",
    "selected_features = X.columns[sfs_forward.get_support()]\n",
    "print(\"Forward Selection Chosen Features:\", list(selected_features))"
   ],
   "outputs": [
    {
     "name": "stdout",
     "output_type": "stream",
     "text": [
      "Forward Selection Chosen Features: [0, 2, 21, 22, 25]\n"
     ]
    }
   ],
   "execution_count": 6
  },
  {
   "cell_type": "code",
   "id": "a2946ba1",
   "metadata": {
    "vscode": {
     "languageId": "plaintext"
    },
    "ExecuteTime": {
     "end_time": "2025-07-30T10:02:48.352487Z",
     "start_time": "2025-07-30T10:02:48.323789Z"
    }
   },
   "source": [
    "# Train model with selected features and evaluate\n",
    "model.fit(X_train[selected_features], y_train)\n",
    "y_pred = model.predict(X_test[selected_features])\n",
    "acc = accuracy_score(y_test, y_pred)\n",
    "\n",
    "print(f\"Accuracy with Forward Selection (5 features): {acc:.4f}\")\n"
   ],
   "outputs": [
    {
     "name": "stdout",
     "output_type": "stream",
     "text": [
      "Accuracy with Forward Selection (5 features): 0.9720\n"
     ]
    }
   ],
   "execution_count": 7
  },
  {
   "metadata": {
    "ExecuteTime": {
     "end_time": "2025-07-30T10:02:49.117742Z",
     "start_time": "2025-07-30T10:02:48.407038Z"
    }
   },
   "cell_type": "code",
   "source": [
    "# Evaluate model with all features for comparison\n",
    "model.fit(X_train, y_train)\n",
    "y_pred_all = model.predict(X_test)\n",
    "acc_all = accuracy_score(y_test, y_pred_all)\n",
    "print(f\"Accuracy with All Features: {acc_all:.4f}\")\n"
   ],
   "id": "2201e3506f6275a9",
   "outputs": [
    {
     "name": "stdout",
     "output_type": "stream",
     "text": [
      "Accuracy with All Features: 0.9650\n"
     ]
    }
   ],
   "execution_count": 8
  },
  {
   "cell_type": "markdown",
   "id": "30345432",
   "metadata": {},
   "source": [
    "# Analysis:\n",
    "## Forward selection generally starts from an empty set and adds features that best improve\n",
    "## model performance incrementally. This can help identify a small subset of highly predictive features.\n",
    "## You may observe slightly improved or comparable accuracy to using all features with fewer variables,\n",
    "## indicating a good feature subset."
   ]
  }
 ],
 "metadata": {
  "language_info": {
   "name": "python"
  },
  "kernelspec": {
   "name": "python3",
   "language": "python",
   "display_name": "Python 3 (ipykernel)"
  }
 },
 "nbformat": 4,
 "nbformat_minor": 5
}
