{
  "nbformat": 4,
  "nbformat_minor": 0,
  "metadata": {
    "colab": {
      "provenance": []
    },
    "kernelspec": {
      "name": "python3",
      "display_name": "Python 3"
    },
    "language_info": {
      "name": "python"
    }
  },
  "cells": [
    {
      "cell_type": "code",
      "execution_count": 1,
      "metadata": {
        "id": "5XdfKO1tap3u"
      },
      "outputs": [],
      "source": [
        "from sklearn.datasets import load_breast_cancer\n",
        "from sklearn.model_selection import train_test_split\n",
        "\n",
        "X, y = load_breast_cancer(return_X_y=True, as_frame=True)\n",
        "X_train, X_test, y_train, y_test = train_test_split(\n",
        "    X, y, test_size=0.3, random_state=42\n",
        ")"
      ]
    },
    {
      "cell_type": "code",
      "source": [
        "from sklearn.linear_model import LogisticRegression\n",
        "from sklearn.feature_selection import SelectFromModel\n",
        "from sklearn.metrics import accuracy_score\n",
        "\n",
        "model_l1 = LogisticRegression(penalty='l1', solver='saga', C=1.0, max_iter=5000)\n",
        "model_l1.fit(X_train, y_train)\n",
        "\n",
        "sfm_l1 = SelectFromModel(model_l1, prefit=True, max_features=5)\n",
        "feat_l1 = X_train.columns[sfm_l1.get_support()]\n",
        "\n",
        "model = LogisticRegression(max_iter=5000).fit(X_train[feat_l1], y_train)\n",
        "print(\"L1 features:\", list(feat_l1))\n",
        "print(\"Accuracy (L1):\", accuracy_score(y_test, model.predict(X_test[feat_l1])))"
      ],
      "metadata": {
        "colab": {
          "base_uri": "https://localhost:8080/"
        },
        "id": "oKm4omabat-I",
        "outputId": "8330f776-2825-4411-a31c-14c2aa0a130f"
      },
      "execution_count": 2,
      "outputs": [
        {
          "output_type": "stream",
          "name": "stdout",
          "text": [
            "L1 features: ['mean perimeter', 'area error', 'worst radius', 'worst perimeter', 'worst area']\n",
            "Accuracy (L1): 0.9590643274853801\n"
          ]
        }
      ]
    },
    {
      "cell_type": "code",
      "source": [
        "import numpy as np\n",
        "\n",
        "model_l2 = LogisticRegression(penalty='l2', C=1.0, max_iter=5000)\n",
        "model_l2.fit(X_train, y_train)\n",
        "\n",
        "abs_coefs = np.abs(model_l2.coef_)[0]\n",
        "idx = np.argsort(abs_coefs)[-5:]\n",
        "feat_l2 = X_train.columns[idx]\n",
        "\n",
        "model = LogisticRegression(max_iter=5000).fit(X_train[feat_l2], y_train)\n",
        "print(\"L2 features:\", list(feat_l2))\n",
        "print(\"Accuracy (L2):\", accuracy_score(y_test, model.predict(X_test[feat_l2])))\n"
      ],
      "metadata": {
        "colab": {
          "base_uri": "https://localhost:8080/"
        },
        "id": "OruVGRVza0Iv",
        "outputId": "f64b65cd-2d04-4f91-baf0-c72576e05f37"
      },
      "execution_count": 3,
      "outputs": [
        {
          "output_type": "stream",
          "name": "stdout",
          "text": [
            "L2 features: ['worst symmetry', 'worst compactness', 'mean radius', 'worst concavity', 'texture error']\n",
            "Accuracy (L2): 0.9532163742690059\n"
          ]
        }
      ]
    },
    {
      "cell_type": "code",
      "source": [
        "from sklearn.preprocessing import StandardScaler\n",
        "from sklearn.linear_model import ElasticNetCV, LogisticRegression\n",
        "from sklearn.feature_selection import SelectFromModel\n",
        "from sklearn.metrics import accuracy_score\n",
        "\n",
        "# 1. Standardize the data\n",
        "scaler = StandardScaler().fit(X_train)\n",
        "X_tr_s = scaler.transform(X_train)\n",
        "X_ts_s = scaler.transform(X_test)\n",
        "\n",
        "# 2. Fit ElasticNetCV (with high max_iter to avoid warnings)\n",
        "enet_cv = ElasticNetCV(l1_ratio=[.1, .5, .9], cv=5, random_state=0, max_iter=10000)\n",
        "enet_cv.fit(X_tr_s, y_train)\n",
        "\n",
        "# 3. Use best model with fixed l1_ratio for SelectFromModel\n",
        "best_l1 = enet_cv.l1_ratio_\n",
        "enet = ElasticNetCV(l1_ratio=best_l1, cv=5, random_state=0, max_iter=10000)\n",
        "enet.fit(X_tr_s, y_train)\n",
        "\n",
        "# 4. Select top 5 features using model coefficients\n",
        "sfm_enet = SelectFromModel(enet, prefit=True, max_features=5, threshold=-np.inf)\n",
        "selected_mask = sfm_enet.get_support()\n",
        "feat_enet = X_train.columns[selected_mask]\n",
        "\n",
        "# 5. Train final model on selected features\n",
        "model = LogisticRegression(max_iter=5000)\n",
        "model.fit(X_tr_s[:, selected_mask], y_train)\n",
        "\n",
        "# 6. Evaluate\n",
        "y_pred = model.predict(X_ts_s[:, selected_mask])\n",
        "acc = accuracy_score(y_test, y_pred)\n",
        "\n",
        "print(\"Elastic Net Selected Features:\", list(feat_enet))\n",
        "print(f\"Accuracy (ElasticNet): {acc:.4f}\")\n"
      ],
      "metadata": {
        "colab": {
          "base_uri": "https://localhost:8080/"
        },
        "id": "wleRZNf5a2Kh",
        "outputId": "1f72304d-445c-4a76-f201-73b1b31be6bd"
      },
      "execution_count": 5,
      "outputs": [
        {
          "output_type": "stream",
          "name": "stdout",
          "text": [
            "Elastic Net Selected Features: ['mean compactness', 'mean concave points', 'radius error', 'worst radius', 'worst area']\n",
            "Accuracy (ElasticNet): 0.9415\n"
          ]
        }
      ]
    },
    {
      "cell_type": "code",
      "source": [
        "import numpy as np\n",
        "from sklearn.preprocessing import StandardScaler\n",
        "from sklearn.linear_model import ElasticNetCV, LogisticRegression\n",
        "from sklearn.metrics import accuracy_score\n",
        "\n",
        "# 1. Standardize the data\n",
        "scaler = StandardScaler().fit(X_train)\n",
        "X_tr_s = scaler.transform(X_train)\n",
        "X_ts_s = scaler.transform(X_test)\n",
        "\n",
        "# 2. Fit ElasticNetCV with increased iterations\n",
        "enet = ElasticNetCV(\n",
        "    l1_ratio=[.1, .5, .9],\n",
        "    cv=5,\n",
        "    max_iter=10000,\n",
        "    tol=1e-4,\n",
        "    random_state=0\n",
        ")\n",
        "enet.fit(X_tr_s, y_train)\n",
        "\n",
        "# 3. Manually select the 5 nonzero coefficients with largest magnitude\n",
        "coefs = enet.coef_  # shape (n_features,)\n",
        "# Zero out truly zero (or near-zero) coefficients first\n",
        "nonzero_idxs = np.where(np.abs(coefs) > 1e-8)[0]\n",
        "# Sort those by absolute value descending\n",
        "sorted_nonzero = nonzero_idxs[np.argsort(-np.abs(coefs[nonzero_idxs]))]\n",
        "top5_idxs = sorted_nonzero[:5]\n",
        "\n",
        "feat_enet = X_train.columns[top5_idxs]\n",
        "\n",
        "# 4. Retrain Logistic Regression on selected features\n",
        "model = LogisticRegression(max_iter=5000).fit(\n",
        "    X_tr_s[:, top5_idxs],\n",
        "    y_train\n",
        ")\n",
        "\n",
        "# 5. Evaluate on test data\n",
        "accuracy = accuracy_score(\n",
        "    y_test,\n",
        "    model.predict(X_ts_s[:, top5_idxs])\n",
        ")\n",
        "\n",
        "print(\"Elastic Net features:\", list(feat_enet))\n",
        "print(\"Accuracy (ElasticNet):\", accuracy)"
      ],
      "metadata": {
        "colab": {
          "base_uri": "https://localhost:8080/"
        },
        "id": "w0_1BDYza4zH",
        "outputId": "4c71cfc2-c6bd-428b-9c8e-98847398608f"
      },
      "execution_count": 6,
      "outputs": [
        {
          "output_type": "stream",
          "name": "stdout",
          "text": [
            "Elastic Net features: ['worst radius', 'worst area', 'mean concave points', 'mean compactness', 'radius error']\n",
            "Accuracy (ElasticNet): 0.9415204678362573\n"
          ]
        }
      ]
    },
    {
      "cell_type": "code",
      "source": [],
      "metadata": {
        "id": "7_YhmVMLlKZi"
      },
      "execution_count": null,
      "outputs": []
    }
  ]
}