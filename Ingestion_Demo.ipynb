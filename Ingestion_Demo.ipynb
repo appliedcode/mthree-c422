{
  "nbformat": 4,
  "nbformat_minor": 0,
  "metadata": {
    "colab": {
      "provenance": [],
      "authorship_tag": "ABX9TyN9syx4IBNplGfeDNLnp4ee",
      "include_colab_link": true
    },
    "kernelspec": {
      "name": "python3",
      "display_name": "Python 3"
    },
    "language_info": {
      "name": "python"
    }
  },
  "cells": [
    {
      "cell_type": "markdown",
      "metadata": {
        "id": "view-in-github",
        "colab_type": "text"
      },
      "source": [
        "<a href=\"https://colab.research.google.com/github/appliedcode/mthree-c422/blob/mthree-c422-Likhitha/Ingestion_Demo.ipynb\" target=\"_parent\"><img src=\"https://colab.research.google.com/assets/colab-badge.svg\" alt=\"Open In Colab\"/></a>"
      ]
    },
    {
      "cell_type": "code",
      "execution_count": 1,
      "metadata": {
        "colab": {
          "base_uri": "https://localhost:8080/"
        },
        "id": "18zVoUiaYub_",
        "outputId": "2e24872a-9c66-40b1-d943-264887432fd8"
      },
      "outputs": [
        {
          "output_type": "stream",
          "name": "stdout",
          "text": [
            "Data from REST API:\n",
            "   gender                         email           phone            cell nat  \\\n",
            "0    male      jairo.rosado@example.com  (643) 356 3557  (699) 547 5413  MX   \n",
            "1    male    orlando.menard@example.com   079 841 05 59   077 813 06 97  CH   \n",
            "2  female  zlatomira.kaplun@example.com  (096) D19-9832  (096) K76-1255  UA   \n",
            "3  female      selin.brunet@example.com   078 406 07 22   075 783 89 30  CH   \n",
            "4    male  petko.jevremovic@example.com    011-4479-919    060-3193-409  RS   \n",
            "\n",
            "  name.title name.first   name.last  location.street.number  \\\n",
            "0         Mr      Jairo      Rosado                    5112   \n",
            "1   Monsieur    Orlando      Menard                    4150   \n",
            "2       Miss  Zlatomira      Kaplun                    7074   \n",
            "3     Madame      Selin      Brunet                    6192   \n",
            "4         Mr      Petko  Jevremović                    3554   \n",
            "\n",
            "  location.street.name  ...  \\\n",
            "0      Viaducto Tirado  ...   \n",
            "1   Rue du Bon-Pasteur  ...   \n",
            "2          Berezhanska  ...   \n",
            "3        Rue Paul Bert  ...   \n",
            "4         Lapljeselska  ...   \n",
            "\n",
            "                                        login.sha256  \\\n",
            "0  f4306ce07729df66f4f368cb66a46c60fddfce87020991...   \n",
            "1  1a00897622b62787d42409f39c5c121353c096c108c70b...   \n",
            "2  6d9baf339447f080a184ecafbfb2d1a7daa38c22666c44...   \n",
            "3  02acc043be53d387d745872c2062045fb87e50cc50b50c...   \n",
            "4  1ed7d8f79983be96562d4fefbaea6b29b9e172032beb3c...   \n",
            "\n",
            "                   dob.date dob.age           registered.date registered.age  \\\n",
            "0  1989-03-20T17:40:12.616Z      36  2014-02-04T04:25:23.445Z             11   \n",
            "1  1998-07-01T11:16:44.974Z      27  2013-04-29T00:18:29.764Z             12   \n",
            "2  1945-11-16T04:25:05.975Z      79  2020-05-25T08:23:12.847Z              5   \n",
            "3  1974-02-20T01:56:28.310Z      51  2003-10-31T22:11:11.289Z             21   \n",
            "4  1980-10-16T18:00:19.800Z      44  2018-01-20T12:15:57.671Z              7   \n",
            "\n",
            "  id.name          id.value                                     picture.large  \\\n",
            "0     NSS   60 55 48 8538 8    https://randomuser.me/api/portraits/men/38.jpg   \n",
            "1     AVS  756.5172.1691.19    https://randomuser.me/api/portraits/men/76.jpg   \n",
            "2                      None  https://randomuser.me/api/portraits/women/69.jpg   \n",
            "3     AVS  756.3231.9095.62  https://randomuser.me/api/portraits/women/12.jpg   \n",
            "4     SID         972284784    https://randomuser.me/api/portraits/men/13.jpg   \n",
            "\n",
            "                                      picture.medium  \\\n",
            "0  https://randomuser.me/api/portraits/med/men/38...   \n",
            "1  https://randomuser.me/api/portraits/med/men/76...   \n",
            "2  https://randomuser.me/api/portraits/med/women/...   \n",
            "3  https://randomuser.me/api/portraits/med/women/...   \n",
            "4  https://randomuser.me/api/portraits/med/men/13...   \n",
            "\n",
            "                                   picture.thumbnail  \n",
            "0  https://randomuser.me/api/portraits/thumb/men/...  \n",
            "1  https://randomuser.me/api/portraits/thumb/men/...  \n",
            "2  https://randomuser.me/api/portraits/thumb/wome...  \n",
            "3  https://randomuser.me/api/portraits/thumb/wome...  \n",
            "4  https://randomuser.me/api/portraits/thumb/men/...  \n",
            "\n",
            "[5 rows x 34 columns]\n"
          ]
        }
      ],
      "source": [
        "!pip install requests pandas -q\n",
        "import requests\n",
        "import pandas as pd\n",
        "\n",
        "# Fetch data from Random User Generator API\n",
        "api_url = \"https://randomuser.me/api/?results=10\"\n",
        "response = requests.get(api_url)\n",
        "data = response.json()\n",
        "\n",
        "# Convert nested JSON to flat table\n",
        "df_api = pd.json_normalize(data['results'])\n",
        "\n",
        "print(\"Data from REST API:\")\n",
        "print(df_api.head())"
      ]
    },
    {
      "cell_type": "code",
      "source": [
        "csv_url = \"https://raw.githubusercontent.com/uiuc-cse/data-fa14/gh-pages/data/iris.csv\"\n",
        "df_csv = pd.read_csv(csv_url)\n",
        "\n",
        "print(\"\\nData from CSV File:\")\n",
        "print(df_csv.head())"
      ],
      "metadata": {
        "colab": {
          "base_uri": "https://localhost:8080/"
        },
        "id": "NoRHPpzIZ5HV",
        "outputId": "864cd2ea-6d23-43c7-e894-92f0b2a6f65c"
      },
      "execution_count": 2,
      "outputs": [
        {
          "output_type": "stream",
          "name": "stdout",
          "text": [
            "\n",
            "Data from CSV File:\n",
            "   sepal_length  sepal_width  petal_length  petal_width species\n",
            "0           5.1          3.5           1.4          0.2  setosa\n",
            "1           4.9          3.0           1.4          0.2  setosa\n",
            "2           4.7          3.2           1.3          0.2  setosa\n",
            "3           4.6          3.1           1.5          0.2  setosa\n",
            "4           5.0          3.6           1.4          0.2  setosa\n"
          ]
        }
      ]
    },
    {
      "cell_type": "code",
      "source": [
        "# Columns\n",
        "print(\"API Data Columns:\", df_api.columns.tolist())\n",
        "print(\"CSV Data Columns:\", df_csv.columns.tolist())\n",
        "\n",
        "# Info\n",
        "print(\"\\nAPI Data Info:\")\n",
        "print(df_api.info())\n",
        "\n",
        "print(\"\\nCSV Data Info:\")\n",
        "print(df_csv.info())\n"
      ],
      "metadata": {
        "colab": {
          "base_uri": "https://localhost:8080/"
        },
        "id": "r_2OCP2aZ8XJ",
        "outputId": "1a447bb4-29c7-42f8-ebbb-a31f025cc14d"
      },
      "execution_count": 3,
      "outputs": [
        {
          "output_type": "stream",
          "name": "stdout",
          "text": [
            "API Data Columns: ['gender', 'email', 'phone', 'cell', 'nat', 'name.title', 'name.first', 'name.last', 'location.street.number', 'location.street.name', 'location.city', 'location.state', 'location.country', 'location.postcode', 'location.coordinates.latitude', 'location.coordinates.longitude', 'location.timezone.offset', 'location.timezone.description', 'login.uuid', 'login.username', 'login.password', 'login.salt', 'login.md5', 'login.sha1', 'login.sha256', 'dob.date', 'dob.age', 'registered.date', 'registered.age', 'id.name', 'id.value', 'picture.large', 'picture.medium', 'picture.thumbnail']\n",
            "CSV Data Columns: ['sepal_length', 'sepal_width', 'petal_length', 'petal_width', 'species']\n",
            "\n",
            "API Data Info:\n",
            "<class 'pandas.core.frame.DataFrame'>\n",
            "RangeIndex: 10 entries, 0 to 9\n",
            "Data columns (total 34 columns):\n",
            " #   Column                          Non-Null Count  Dtype \n",
            "---  ------                          --------------  ----- \n",
            " 0   gender                          10 non-null     object\n",
            " 1   email                           10 non-null     object\n",
            " 2   phone                           10 non-null     object\n",
            " 3   cell                            10 non-null     object\n",
            " 4   nat                             10 non-null     object\n",
            " 5   name.title                      10 non-null     object\n",
            " 6   name.first                      10 non-null     object\n",
            " 7   name.last                       10 non-null     object\n",
            " 8   location.street.number          10 non-null     int64 \n",
            " 9   location.street.name            10 non-null     object\n",
            " 10  location.city                   10 non-null     object\n",
            " 11  location.state                  10 non-null     object\n",
            " 12  location.country                10 non-null     object\n",
            " 13  location.postcode               10 non-null     object\n",
            " 14  location.coordinates.latitude   10 non-null     object\n",
            " 15  location.coordinates.longitude  10 non-null     object\n",
            " 16  location.timezone.offset        10 non-null     object\n",
            " 17  location.timezone.description   10 non-null     object\n",
            " 18  login.uuid                      10 non-null     object\n",
            " 19  login.username                  10 non-null     object\n",
            " 20  login.password                  10 non-null     object\n",
            " 21  login.salt                      10 non-null     object\n",
            " 22  login.md5                       10 non-null     object\n",
            " 23  login.sha1                      10 non-null     object\n",
            " 24  login.sha256                    10 non-null     object\n",
            " 25  dob.date                        10 non-null     object\n",
            " 26  dob.age                         10 non-null     int64 \n",
            " 27  registered.date                 10 non-null     object\n",
            " 28  registered.age                  10 non-null     int64 \n",
            " 29  id.name                         10 non-null     object\n",
            " 30  id.value                        6 non-null      object\n",
            " 31  picture.large                   10 non-null     object\n",
            " 32  picture.medium                  10 non-null     object\n",
            " 33  picture.thumbnail               10 non-null     object\n",
            "dtypes: int64(3), object(31)\n",
            "memory usage: 2.8+ KB\n",
            "None\n",
            "\n",
            "CSV Data Info:\n",
            "<class 'pandas.core.frame.DataFrame'>\n",
            "RangeIndex: 150 entries, 0 to 149\n",
            "Data columns (total 5 columns):\n",
            " #   Column        Non-Null Count  Dtype  \n",
            "---  ------        --------------  -----  \n",
            " 0   sepal_length  150 non-null    float64\n",
            " 1   sepal_width   150 non-null    float64\n",
            " 2   petal_length  150 non-null    float64\n",
            " 3   petal_width   150 non-null    float64\n",
            " 4   species       150 non-null    object \n",
            "dtypes: float64(4), object(1)\n",
            "memory usage: 6.0+ KB\n",
            "None\n"
          ]
        }
      ]
    },
    {
      "cell_type": "code",
      "source": [
        "import matplotlib.pyplot as plt\n",
        "import seaborn as sns\n",
        "import pandas as pd\n",
        "\n",
        "# Count number of users by nationality\n",
        "nationality_counts = df_api['nat'].value_counts().reset_index()\n",
        "nationality_counts.columns = ['Nationality', 'Count']\n",
        "\n",
        "# Plot (no FutureWarning)\n",
        "plt.figure(figsize=(8, 5))\n",
        "sns.barplot(data=nationality_counts, x='Nationality', y='Count', palette='viridis')\n",
        "plt.title(\"Number of Random Users by Nationality\")\n",
        "plt.xlabel(\"Nationality\")\n",
        "plt.ylabel(\"Count\")\n",
        "plt.tight_layout()\n",
        "plt.show()\n"
      ],
      "metadata": {
        "colab": {
          "base_uri": "https://localhost:8080/",
          "height": 594
        },
        "id": "00xA0pRNaBXY",
        "outputId": "3c344966-3e3a-45d1-9b26-ed95f3ce1b97"
      },
      "execution_count": 6,
      "outputs": [
        {
          "output_type": "stream",
          "name": "stderr",
          "text": [
            "/tmp/ipython-input-2056047959.py:11: FutureWarning: \n",
            "\n",
            "Passing `palette` without assigning `hue` is deprecated and will be removed in v0.14.0. Assign the `x` variable to `hue` and set `legend=False` for the same effect.\n",
            "\n",
            "  sns.barplot(data=nationality_counts, x='Nationality', y='Count', palette='viridis')\n"
          ]
        },
        {
          "output_type": "display_data",
          "data": {
            "text/plain": [
              "<Figure size 800x500 with 1 Axes>"
            ],
            "image/png": "[encoded data removed]"
          },
          "metadata": {}
        }
      ]
    },
    {
      "cell_type": "code",
      "source": [
        "# Count of species\n",
        "species_counts = df_csv['species'].value_counts()\n",
        "\n",
        "# Plot\n",
        "plt.figure(figsize=(8, 5))\n",
        "sns.barplot(x=species_counts.index, y=species_counts.values, palette=\"magma\")\n",
        "plt.title(\"Count of Iris Species\")\n",
        "plt.xlabel(\"Species\")\n",
        "plt.ylabel(\"Count\")\n",
        "plt.show()\n"
      ],
      "metadata": {
        "colab": {
          "base_uri": "https://localhost:8080/",
          "height": 574
        },
        "id": "6P_OuSKtaPYQ",
        "outputId": "f2095da2-a6b5-4a55-8902-66f0b0b719d3"
      },
      "execution_count": 5,
      "outputs": [
        {
          "output_type": "stream",
          "name": "stderr",
          "text": [
            "/tmp/ipython-input-700182238.py:6: FutureWarning: \n",
            "\n",
            "Passing `palette` without assigning `hue` is deprecated and will be removed in v0.14.0. Assign the `x` variable to `hue` and set `legend=False` for the same effect.\n",
            "\n",
            "  sns.barplot(x=species_counts.index, y=species_counts.values, palette=\"magma\")\n"
          ]
        },
        {
          "output_type": "display_data",
          "data": {
            "text/plain": [
              "<Figure size 800x500 with 1 Axes>"
            ],
            "image/png": "[encoded data removed]"
          },
          "metadata": {}
        }
      ]
    },
    {
      "cell_type": "markdown",
      "source": [
        " 1. What were the main steps for ingesting data from a REST API vs. a CSV?\n",
        "REST API:\n",
        "\n",
        "Make an HTTP GET request using the requests library.\n",
        "\n",
        "Parse the JSON response.\n",
        "\n",
        "Flatten nested JSON using pandas.json_normalize().\n",
        "\n",
        "CSV File:\n",
        "\n",
        "Directly load the file with pandas.read_csv() from a URL or file path.\n",
        "\n",
        "Data is already structured as a flat table.\n",
        "\n",
        "Summary:\n",
        "Both methods load data into a Pandas DataFrame, but REST APIs require transformation from JSON to tabular format, while CSVs are ready-to-use.\n",
        "\n",
        " 2. What are some possible challenges or error scenarios for each ingestion method?\n",
        "REST API:\n",
        "\n",
        "Network issues (e.g., timeouts, 404/500 errors).\n",
        "\n",
        "API rate limits or auth failures (e.g., expired tokens).\n",
        "\n",
        "Changes in response structure (e.g., renamed or nested keys).\n",
        "\n",
        "Inconsistent or deeply nested JSON formats.\n",
        "\n",
        "CSV:\n",
        "\n",
        "Broken/missing URL or local file.\n",
        "\n",
        "Encoding mismatches (e.g., utf-8 vs latin-1).\n",
        "\n",
        "Irregular file structure (e.g., missing headers, bad delimiters).\n",
        "\n",
        "Large file size causing memory issues.\n",
        "\n",
        "Common to both:\n",
        "\n",
        "Schema mismatches.\n",
        "\n",
        "Missing or malformed values.\n",
        "\n",
        " 3. For your workflow, when would you prefer an API vs. a CSV file?\n",
        "Use an API when:\n",
        "\n",
        "Data is updated frequently or in real-time.\n",
        "\n",
        "You want to automate ingestion from a live source.\n",
        "\n",
        "You need access-controlled or parameterized data feeds.\n",
        "\n",
        "Use a CSV when:\n",
        "\n",
        "Working with static, offline datasets.\n",
        "\n",
        "Reproducibility and easy sharing are more important than freshness.\n",
        "\n",
        "You’re prototyping or doing quick analysis.\n",
        "\n",
        "Conclusion:\n",
        "APIs are ideal for production pipelines that need fresh or dynamic data. CSVs are better for EDA, model prototyping, and reproducible research."
      ],
      "metadata": {
        "id": "EGMDUuTEas9Q"
      }
    }
  ]
}