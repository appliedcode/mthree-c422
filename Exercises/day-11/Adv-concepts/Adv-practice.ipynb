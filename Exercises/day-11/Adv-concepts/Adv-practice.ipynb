{
  "nbformat": 4,
  "nbformat_minor": 0,
  "metadata": {
    "colab": {
      "provenance": [],
      "authorship_tag": "ABX9TyOfxTMXiBIUncaLXuEr9vSU",
      "include_colab_link": true
    },
    "kernelspec": {
      "name": "python3",
      "display_name": "Python 3"
    },
    "language_info": {
      "name": "python"
    }
  },
  "cells": [
    {
      "cell_type": "markdown",
      "metadata": {
        "id": "view-in-github",
        "colab_type": "text"
      },
      "source": [
        "<a href=\"https://colab.research.google.com/github/appliedcode/mthree-c422/blob/mthree-c422-dipti/Exercises/day-11/Adv-concepts/Adv-practice.ipynb\" target=\"_parent\"><img src=\"https://colab.research.google.com/assets/colab-badge.svg\" alt=\"Open In Colab\"/></a>"
      ]
    },
    {
      "cell_type": "markdown",
      "source": [
        "## 📝 **Advanced Prompt Engineering Practice Lab** – Problem Statement\n",
        "\n",
        "**Objective:**\n",
        "Individually explore and apply four advanced prompt engineering techniques with GPT‑4o‑mini (or similar).\n",
        "Learn how prompt design choices can make AI outputs more accurate, creative, well‑structured, and aligned with intended style.\n",
        "\n",
        "**Techniques to Practice:**\n",
        "\n",
        "1. **Chain of Thought (CoT) Prompting** – guide the AI to reason step‑by‑step before giving an answer.\n",
        "2. **Persona‑Based Prompting** – instruct the AI to take on a specific role or personality.\n",
        "3. **Controlling Verbosity, Style \\& Tone** – control length, detail, and formality level of the response.\n",
        "4. **Prompting for Creativity vs. Accuracy** – balance imaginative vs. factual outputs via temperature and wording.\n",
        "\n",
        "***\n",
        "\n",
        "### **Tasks for Students**\n",
        "\n",
        "#### 1️⃣ Chain‑of‑Thought Prompting\n",
        "\n",
        "**Dataset/Scenario:**\n",
        "You have a set of 2 math or logic word problems: one about calculating travel time, and one about figuring out a discount price.\n",
        "\n",
        "- Write a **basic prompt** asking the model to solve without guidance.\n",
        "- Write another prompt that clearly asks the model to **“think step by step”** and show reasoning before the answer.\n",
        "- Compare outputs: Did step‑by‑step change the clarity or correctness?\n",
        "\n",
        "***\n",
        "\n",
        "#### 2️⃣ Persona‑Based Prompting\n",
        "\n",
        "**Scenario:**\n",
        "Imagine you run a tourism blog and need tips for 3 days in a city.\n",
        "\n",
        "- Prompt the model **once without a persona**.\n",
        "- Prompt it again asking it to respond **as a professional tour guide with 10+ years of experience**.\n",
        "- Compare: How did the role affect tone, detail, and recommendations?\n",
        "\n",
        "***\n",
        "\n",
        "#### 3️⃣ Controlling Verbosity, Style \\& Tone\n",
        "\n",
        "**Scenario:**\n",
        "Topic: “Why renewable energy matters.”\n",
        "\n",
        "- First, get a **concise \\& formal** explanation in exactly **2 sentences**.\n",
        "- Then, get a **detailed \\& friendly** explanation that feels like a casual blog post.\n",
        "- Compare length, choice of words, and structure.\n",
        "\n",
        "***\n",
        "\n",
        "#### 4️⃣ Prompting for Creativity vs. Accuracy\n",
        "\n",
        "**Scenario:**\n",
        "Topic: Future transportation in 2050.\n",
        "\n",
        "- Create a **creative** prompt (higher temperature, imaginative wording) to get a vivid story‑like description.\n",
        "- Create an **accurate** prompt (lower temperature, request for factual trends) to get a realistic, data‑driven answer.\n",
        "- Compare imagination, novelty, and factual grounding.\n",
        "\n",
        "***\n",
        "\n",
        "### **Deliverables:**\n",
        "\n",
        "For each technique:\n",
        "\n",
        "- Both prompts you wrote.\n",
        "- The AI outputs.\n",
        "- A short observation (2–3 sentences) about the differences and which prompt worked better for the intended goal.\n",
        "\n",
        "***\n",
        "\n",
        "### **Goal:**\n",
        "\n",
        "By completing this lab, you should be able to **intentionally influence** an AI model’s reasoning process, tone, detail level, and creativity through advanced prompt engineering.\n",
        "\n",
        "***"
      ],
      "metadata": {
        "id": "IXyU4xYikfJU"
      }
    },
    {
      "cell_type": "code",
      "execution_count": 3,
      "metadata": {
        "colab": {
          "base_uri": "https://localhost:8080/"
        },
        "id": "esGV1uvjkLTa",
        "outputId": "e75cf1f9-0070-4bc2-fc95-81b6c7c3f8d4"
      },
      "outputs": [
        {
          "output_type": "stream",
          "name": "stdout",
          "text": [
            "✅ OpenAI API key loaded safely\n"
          ]
        }
      ],
      "source": [
        "from google.colab import userdata\n",
        "import os\n",
        "openai_api_key = userdata.get(\"OPENAI_API_KEY\")\n",
        "if openai_api_key:\n",
        "    os.environ[\"OPENAI_API_KEY\"] = openai_api_key\n",
        "    print(\"✅ OpenAI API key loaded safely\")\n",
        "else:\n",
        "    print(\"❌ OpenAI API key not found. Please set it using Colab Secrets.\")\n",
        "\n",
        "!pip install --quiet openai -q\n",
        "\n",
        "\n",
        "# Create client\n",
        "from openai import OpenAI\n",
        "client = OpenAI(api_key=os.environ[\"OPENAI_API_KEY\"])\n",
        "\n",
        "# Install and import OpenAI SDK\n",
        "!pip install openai -q\n",
        "\n",
        "def ask_gpt(prompt, temp=0.7, max_tokens=300):\n",
        "    \"\"\"Helper function to send prompt to GPT-4o-mini.\"\"\"\n",
        "    response = client.chat.completions.create(\n",
        "        model=\"gpt-4o-mini\",\n",
        "        messages=[{\"role\": \"user\", \"content\": prompt}],\n",
        "        temperature=temp,\n",
        "        max_tokens=max_tokens\n",
        "    )\n",
        "    return response.choices[0].message.content"
      ]
    },
    {
      "cell_type": "code",
      "source": [
        "# CoT OFF\n",
        "prompt_no_cot = \"\"\"\n",
        "A store sells pencils at 3 for $1.50.\n",
        "How many pencils can you buy with $6?\n",
        "\"\"\"\n",
        "print(\"=== Without Chain-of-Thought ===\")\n",
        "print(ask_gpt(prompt_no_cot, temp=0))\n",
        "\n",
        "# CoT ON\n",
        "prompt_cot = \"\"\"\n",
        "A store sells pencils at 3 for $1.50.\n",
        "How many pencils can you buy with $6?\n",
        "Let's think step by step.\n",
        "\"\"\"\n",
        "print(\"\\n=== With Chain-of-Thought ===\")\n",
        "print(ask_gpt(prompt_cot, temp=0))\n",
        "\n",
        "# Observation: CoT version should show interim steps like:\n",
        "# 1. Price per pencil calculation\n",
        "# 2. Division into $6 budget"
      ],
      "metadata": {
        "colab": {
          "base_uri": "https://localhost:8080/"
        },
        "id": "S1IRSY9QkuvI",
        "outputId": "8063960f-19ea-4649-9378-1247ca66c9ee"
      },
      "execution_count": 4,
      "outputs": [
        {
          "output_type": "stream",
          "name": "stdout",
          "text": [
            "=== Without Chain-of-Thought ===\n",
            "To find out how many pencils you can buy with $6, first determine how many sets of 3 pencils you can purchase with that amount.\n",
            "\n",
            "The cost for 3 pencils is $1.50. \n",
            "\n",
            "Now, divide $6 by $1.50 to find out how many sets of 3 pencils you can buy:\n",
            "\n",
            "\\[\n",
            "\\frac{6}{1.50} = 4\n",
            "\\]\n",
            "\n",
            "This means you can buy 4 sets of 3 pencils. Since each set contains 3 pencils, you can calculate the total number of pencils:\n",
            "\n",
            "\\[\n",
            "4 \\text{ sets} \\times 3 \\text{ pencils/set} = 12 \\text{ pencils}\n",
            "\\]\n",
            "\n",
            "Therefore, with $6, you can buy **12 pencils**.\n",
            "\n",
            "=== With Chain-of-Thought ===\n",
            "To determine how many pencils you can buy with $6 when the store sells pencils at 3 for $1.50, we can follow these steps:\n",
            "\n",
            "1. **Find the cost per pencil**: \n",
            "   - If 3 pencils cost $1.50, then the cost per pencil is:\n",
            "     \\[\n",
            "     \\text{Cost per pencil} = \\frac{1.50}{3} = 0.50 \\text{ dollars per pencil}\n",
            "     \\]\n",
            "\n",
            "2. **Determine how many pencils you can buy with $6**:\n",
            "   - To find out how many pencils you can buy with $6, divide the total amount of money by the cost per pencil:\n",
            "     \\[\n",
            "     \\text{Number of pencils} = \\frac{6}{0.50} = 12\n",
            "     \\]\n",
            "\n",
            "3. **Conclusion**:\n",
            "   - You can buy **12 pencils** with $6.\n"
          ]
        }
      ]
    },
    {
      "cell_type": "code",
      "source": [
        "# No persona\n",
        "prompt_no_persona = \"Give me 3 must-visit spots in Kyoto, Japan.\"\n",
        "print(\"=== Without Persona ===\")\n",
        "print(ask_gpt(prompt_no_persona))\n",
        "\n",
        "# With persona\n",
        "prompt_persona = \"\"\"\n",
        "You are a seasoned Japan travel guide.\n",
        "Create an exciting 3-point list of must-visit spots in Kyoto, Japan,\n",
        "including cultural context and insider tips.\n",
        "\"\"\"\n",
        "print(\"\\n=== With Persona ===\")\n",
        "print(ask_gpt(prompt_persona))\n",
        "\n",
        "# Observation: Persona version should sound warmer, more descriptive,\n",
        "# with tips only a 'guide' would give."
      ],
      "metadata": {
        "colab": {
          "base_uri": "https://localhost:8080/"
        },
        "id": "6k27kH1bkvnv",
        "outputId": "ebe56d2d-b690-4bca-9413-c3b0a2e9ab1f"
      },
      "execution_count": 5,
      "outputs": [
        {
          "output_type": "stream",
          "name": "stdout",
          "text": [
            "=== Without Persona ===\n",
            "Kyoto, Japan, is renowned for its rich history, stunning architecture, and beautiful natural surroundings. Here are three must-visit spots in Kyoto:\n",
            "\n",
            "1. **Kinkaku-ji (Golden Pavilion)**: This iconic Zen Buddhist temple is famous for its stunning architecture and picturesque setting. The top two floors of the pavilion are covered in gold leaf, reflecting beautifully in the surrounding pond. The gardens surrounding the temple are also meticulously designed, making it a perfect spot for photography and contemplation.\n",
            "\n",
            "2. **Fushimi Inari Taisha**: Known for its thousands of vibrant red torii gates, this Shinto shrine is dedicated to Inari, the deity of rice and agriculture. The gates create beautiful pathways that lead up the sacred Mount Inari, providing visitors with a unique hiking experience and breathtaking views of Kyoto along the way.\n",
            "\n",
            "3. **Arashiyama Bamboo Grove**: This enchanting bamboo forest is a must-see for anyone visiting Kyoto. Walking through the towering bamboo stalks is a surreal experience, and the grove is particularly beautiful in the early morning when it's less crowded. Nearby, you can also explore the scenic Arashiyama area, including the famous Togetsukyo Bridge and the Iwatayama Monkey Park.\n",
            "\n",
            "These spots offer a wonderful glimpse into Kyoto's cultural heritage and natural beauty!\n",
            "\n",
            "=== With Persona ===\n",
            "Absolutely! Kyoto is a treasure trove of cultural heritage and stunning sights. Here are three must-visit spots that offer a rich blend of history, beauty, and unique experiences:\n",
            "\n",
            "### 1. **Kinkaku-ji (Golden Pavilion)**\n",
            "   - **Cultural Context**: Kinkaku-ji, officially known as Rokuon-ji, is a Zen Buddhist temple that was originally built in 1397 as a retirement villa for the shogun Ashikaga Yoshimitsu. Its top two floors are covered in gold leaf, reflecting beautifully in the surrounding pond.\n",
            "   - **Insider Tips**: Visit early in the morning or later in the afternoon to avoid the crowds and witness the stunning golden reflection on the water with the soft morning or evening light. Don't forget to take a stroll through the surrounding gardens and enjoy a matcha (green tea) at the nearby tea house for a truly serene experience.\n",
            "\n",
            "### 2. **Fushimi Inari Taisha**\n",
            "   - **Cultural Context**: This iconic Shinto shrine is dedicated to Inari, the deity of rice and agriculture. It's famous for its thousands of vermillion torii gates that create a stunning pathway up the sacred Mount Inari. The shrine has been a place of worship since the 8th century and is deeply rooted in local tradition.\n",
            "   - **Insider Tips**: While many visitors only explore the lower section of the shrine, consider hiking all the way to the summit\n"
          ]
        }
      ]
    },
    {
      "cell_type": "code",
      "source": [
        "# Concise & Formal\n",
        "prompt_concise_formal = \"Explain global warming in exactly 2 formal sentences.\"\n",
        "print(\"=== Concise & Formal ===\")\n",
        "print(ask_gpt(prompt_concise_formal))\n",
        "\n",
        "# Detailed & Casual\n",
        "prompt_detailed_casual = \"Explain global warming in a detailed but casual, friendly tone.\"\n",
        "print(\"\\n=== Detailed & Casual ===\")\n",
        "print(ask_gpt(prompt_detailed_casual))\n",
        "\n",
        "# Observation: Expect big differences in sentence length, vocabulary,\n",
        "# and reader engagement."
      ],
      "metadata": {
        "colab": {
          "base_uri": "https://localhost:8080/"
        },
        "id": "Tb751d1ykzhi",
        "outputId": "15ec4d10-c3bf-45ed-907f-1817878774d3"
      },
      "execution_count": 6,
      "outputs": [
        {
          "output_type": "stream",
          "name": "stdout",
          "text": [
            "=== Concise & Formal ===\n",
            "Global warming refers to the long-term increase in Earth's average surface temperature due to human activities, primarily the emission of greenhouse gases such as carbon dioxide and methane. This phenomenon leads to significant climatic changes, resulting in adverse effects on ecosystems, weather patterns, and sea levels.\n",
            "\n",
            "=== Detailed & Casual ===\n",
            "Sure! Let’s chat about global warming in a way that’s easy to understand. \n",
            "\n",
            "So, global warming is basically the phenomenon of our planet's average temperature rising over time. Think of Earth as a cozy little home, and the atmosphere is like a blanket. This blanket is made up of gases, including carbon dioxide (CO2), methane, and nitrous oxide. These gases are called greenhouse gases because they trap heat from the sun, keeping our planet warm enough for life as we know it.\n",
            "\n",
            "Now, here’s where it gets a bit tricky. Since the Industrial Revolution—around the late 18th century—humans have been cranking out a lot more greenhouse gases by burning fossil fuels like coal, oil, and natural gas for energy. We’ve also been chopping down forests (which normally help absorb CO2) and engaging in agricultural practices that release even more greenhouse gases. All of this is making that blanket a little too thick, causing temperatures to rise.\n",
            "\n",
            "You might be wondering, “Why should I care?” Well, as the planet warms, we’re seeing some pretty significant changes. Ice caps and glaciers are melting, which contributes to rising sea levels. This can lead to flooding in coastal areas where many people live. Plus, warmer temperatures can disrupt weather patterns, leading to more extreme weather events—think hurricanes, droughts, and heatwaves.\n",
            "\n",
            "These changes can have serious implications for ecosystems and wildlife. Many species are struggling to adapt to the rapid changes, which can lead\n"
          ]
        }
      ]
    },
    {
      "cell_type": "code",
      "source": [
        "# Creative (High temp)\n",
        "prompt_creative = \"Imagine a day in 2080 where cities float above oceans. Describe creatively.\"\n",
        "print(\"=== Creative (Temp=0.9) ===\")\n",
        "print(ask_gpt(prompt_creative, temp=0.9))\n",
        "\n",
        "# Accurate (Low temp)\n",
        "prompt_accurate = \"\"\"\n",
        "Describe realistic expectations for global urban life in 2080\n",
        "based on current scientific and economic data.\n",
        "\"\"\"\n",
        "print(\"\\n=== Accurate (Temp=0.2) ===\")\n",
        "print(ask_gpt(prompt_accurate, temp=0.2))\n",
        "\n",
        "# Observation:\n",
        "# High temp = imaginative, novel scenarios\n",
        "# Low temp = grounded, factual predictions"
      ],
      "metadata": {
        "colab": {
          "base_uri": "https://localhost:8080/"
        },
        "id": "A1AFnOuSk2t6",
        "outputId": "578073fb-1a94-4cc1-92eb-cc085cc774d9"
      },
      "execution_count": 7,
      "outputs": [
        {
          "output_type": "stream",
          "name": "stdout",
          "text": [
            "=== Creative (Temp=0.9) ===\n",
            "As dawn broke over the horizon, the golden tendrils of sunlight pierced through the gauzy mist that enveloped the floating cities of Oceana Vespera, casting a shimmering reflection on the vast expanse of cerulean waters below. The air was alive with the harmonious hum of drones flitting between the crystalline towers, transporting vibrant flora from the vertical gardens that cascaded down the structures like waterfalls of green.\n",
            "\n",
            "Above the surface of the tranquil ocean, the floating city was a marvel of engineering and imagination—a seamless blend of technology and nature. Skyscrapers crafted from transparent alloys rose majestically, their surfaces alive with bioluminescent patterns that shifted and danced with the changing tide. Each building was tethered to the clouds with delicate filaments of energy that collected solar power, feeding the cities and ensuring they floated gracefully above the waves.\n",
            "\n",
            "As citizens began their day, they stepped out from their homes, each adorned with exotic plant life and adorned with elegant balconies that overlooked the endless ocean. The air was saturated with the scent of salty sea and blooming flowers, a fragrant testament to human ingenuity and ecological harmony. People moved about on hoverboards, gliding effortlessly between the curved, skybridges that connected the floating districts.\n",
            "\n",
            "In the Marketplace of Tides, a vibrant bazaar suspended in mid-air, vendors showcased an array of goods—shimmering pearls harvested from the depths below, textiles woven from seaweed fibers, and delicacies like algae sushi and coral-infused pastries.\n",
            "\n",
            "=== Accurate (Temp=0.2) ===\n",
            "As we look toward 2080, several trends and developments can shape realistic expectations for global urban life. These projections are based on current scientific, economic, and social data, as well as ongoing trends in technology, climate change, and urbanization.\n",
            "\n",
            "### 1. **Population Growth and Urbanization**\n",
            "- **Increased Urban Population**: By 2080, it is projected that approximately 68-70% of the global population will live in urban areas, up from around 55% in 2020. This will lead to megacities with populations exceeding 10 million, particularly in regions like Asia and Africa.\n",
            "- **Diverse Urban Centers**: Cities will become increasingly diverse, with a mix of cultures, languages, and lifestyles. This diversity can foster innovation but may also lead to social tensions if not managed well.\n",
            "\n",
            "### 2. **Sustainable Infrastructure**\n",
            "- **Green Buildings and Smart Cities**: Urban areas will likely prioritize sustainability, with green architecture, energy-efficient buildings, and smart city technologies becoming the norm. This includes the use of renewable energy sources, efficient public transport systems, and smart grids.\n",
            "- **Resilience to Climate Change**: Cities will need to adapt to climate change impacts, including rising sea levels and extreme weather events. Urban planning will incorporate flood defenses, heat mitigation strategies, and green spaces to enhance resilience.\n",
            "\n",
            "### 3. **Transportation Evolution**\n",
            "- **Autonomous and Electric Vehicles**: The widespread adoption of electric and autonomous vehicles will\n"
          ]
        }
      ]
    }
  ]
}