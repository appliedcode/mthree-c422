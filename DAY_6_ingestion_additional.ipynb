{
  "nbformat": 4,
  "nbformat_minor": 0,
  "metadata": {
    "colab": {
      "provenance": [],
      "authorship_tag": "ABX9TyNCqEn6toU2qSCze/455Cx+"
    },
    "kernelspec": {
      "name": "python3",
      "display_name": "Python 3"
    },
    "language_info": {
      "name": "python"
    }
  },
  "cells": [
    {
      "cell_type": "code",
      "execution_count": null,
      "metadata": {
        "id": "y2ToVN8Kb-nh"
      },
      "outputs": [],
      "source": [
        "# Step 1: Set Up the Environment\n",
        "# Install required libraries (requests and pandas)\n",
        "!pip install requests pandas -q"
      ]
    },
    {
      "cell_type": "code",
      "source": [
        "# Step 2: Ingest Data from a Public REST API\n",
        "# Example: Fetch random user data from the Random User Generator API.\n",
        "import requests\n",
        "import pandas as pd\n",
        "\n",
        "api_url = \"https://randomuser.me/api/?results=10\"\n",
        "response = requests.get(api_url)\n",
        "data = response.json()\n",
        "\n",
        "# Convert the results to a DataFrame\n",
        "df_api = pd.json_normalize(data['results'])\n",
        "print(\"Data from REST API:\")\n",
        "print(df_api.head())"
      ],
      "metadata": {
        "colab": {
          "base_uri": "https://localhost:8080/"
        },
        "id": "Elid0V-ecPHI",
        "outputId": "fef10afc-a6fc-46d8-b9ca-b415dfe67ade"
      },
      "execution_count": null,
      "outputs": [
        {
          "output_type": "stream",
          "name": "stdout",
          "text": [
            "Data from REST API:\n",
            "   gender                         email           phone            cell nat  \\\n",
            "0    male      babur.pekkan@example.com  (882)-054-6907  (402)-236-5742  TR   \n",
            "1    male  anthony.coenraad@example.com   (068) 4530429   (06) 67742560  NL   \n",
            "2  female      freja.larsen@example.com        55934787        60098980  DK   \n",
            "3    male      joaquin.soto@example.com     936-834-352     695-212-221  ES   \n",
            "4  female   consuelo.ibanez@example.com     937-945-003     654-709-071  ES   \n",
            "\n",
            "  name.title name.first name.last  location.street.number  \\\n",
            "0         Mr      Babür    Pekkan                     709   \n",
            "1         Mr    Anthony  Coenraad                    2128   \n",
            "2        Mrs      Freja    Larsen                     311   \n",
            "3         Mr    Joaquin      Soto                    2117   \n",
            "4       Miss   Consuelo    Ibáñez                    5157   \n",
            "\n",
            "  location.street.name  ...  \\\n",
            "0          Filistin Cd  ...   \n",
            "1             Klarinet  ...   \n",
            "2             Langgade  ...   \n",
            "3        Calle Nebrija  ...   \n",
            "4      Calle de Atocha  ...   \n",
            "\n",
            "                                        login.sha256  \\\n",
            "0  4847e7b30ffb9e864a0e31bccf4dbdf824648a9f955b64...   \n",
            "1  06546d2bd911a44ccdbad27d476bfb3757472b4d858d96...   \n",
            "2  815059c8f616700632b65922cdfa011b9a0f8cafd754e7...   \n",
            "3  4ba66f571ae473376f884cb8bf32534c0f89c28ac85cff...   \n",
            "4  0aeda71fffb41a6026f08771d46d6a15edad743ecd9051...   \n",
            "\n",
            "                   dob.date dob.age           registered.date registered.age  \\\n",
            "0  1995-02-20T08:24:42.870Z      30  2013-12-02T15:36:20.373Z             11   \n",
            "1  1969-12-21T19:19:28.068Z      55  2015-11-05T11:13:24.928Z              9   \n",
            "2  1996-08-05T05:24:26.767Z      28  2015-12-27T03:30:20.871Z              9   \n",
            "3  1970-06-30T07:44:27.178Z      55  2014-05-03T07:56:43.410Z             11   \n",
            "4  1964-07-23T04:25:06.027Z      61  2021-02-05T16:43:45.565Z              4   \n",
            "\n",
            "  id.name     id.value                                     picture.large  \\\n",
            "0                 None    https://randomuser.me/api/portraits/men/53.jpg   \n",
            "1     BSN     92916826    https://randomuser.me/api/portraits/men/43.jpg   \n",
            "2     CPR  050896-4763  https://randomuser.me/api/portraits/women/78.jpg   \n",
            "3     DNI   51619182-Q     https://randomuser.me/api/portraits/men/2.jpg   \n",
            "4     DNI   70287531-O  https://randomuser.me/api/portraits/women/30.jpg   \n",
            "\n",
            "                                      picture.medium  \\\n",
            "0  https://randomuser.me/api/portraits/med/men/53...   \n",
            "1  https://randomuser.me/api/portraits/med/men/43...   \n",
            "2  https://randomuser.me/api/portraits/med/women/...   \n",
            "3  https://randomuser.me/api/portraits/med/men/2.jpg   \n",
            "4  https://randomuser.me/api/portraits/med/women/...   \n",
            "\n",
            "                                   picture.thumbnail  \n",
            "0  https://randomuser.me/api/portraits/thumb/men/...  \n",
            "1  https://randomuser.me/api/portraits/thumb/men/...  \n",
            "2  https://randomuser.me/api/portraits/thumb/wome...  \n",
            "3  https://randomuser.me/api/portraits/thumb/men/...  \n",
            "4  https://randomuser.me/api/portraits/thumb/wome...  \n",
            "\n",
            "[5 rows x 34 columns]\n"
          ]
        }
      ]
    },
    {
      "cell_type": "code",
      "source": [
        "# Step 3: Ingest Data from a CSV File\n",
        "# Example using the Iris dataset (direct CSV link):\n",
        "\n",
        "csv_url = \"https://raw.githubusercontent.com/uiuc-cse/data-fa14/gh-pages/data/iris.csv\"\n",
        "df_csv = pd.read_csv(csv_url)\n",
        "print(\"\\nData from CSV File:\")\n",
        "print(df_csv.head())\n"
      ],
      "metadata": {
        "colab": {
          "base_uri": "https://localhost:8080/"
        },
        "id": "1mlSz1w-cXLX",
        "outputId": "6fc06e23-1e9b-4ea5-9c39-bfe60ee4c9d8"
      },
      "execution_count": null,
      "outputs": [
        {
          "output_type": "stream",
          "name": "stdout",
          "text": [
            "\n",
            "Data from CSV File:\n",
            "   sepal_length  sepal_width  petal_length  petal_width species\n",
            "0           5.1          3.5           1.4          0.2  setosa\n",
            "1           4.9          3.0           1.4          0.2  setosa\n",
            "2           4.7          3.2           1.3          0.2  setosa\n",
            "3           4.6          3.1           1.5          0.2  setosa\n",
            "4           5.0          3.6           1.4          0.2  setosa\n"
          ]
        }
      ]
    },
    {
      "cell_type": "code",
      "source": [
        "# Step 4: Inspect and Compare Data\n",
        "# Perform basic inspection on both data sources.\n",
        "# Inspect columns and info for both DataFrames\n",
        "print(\"API Data Columns:\", df_api.columns)\n",
        "print(\"CSV Data Columns:\", df_csv.columns)\n",
        "\n",
        "print(\"\\nAPI Data Info:\")\n",
        "print(df_api.info())\n",
        "\n",
        "print(\"\\nCSV Data Info:\")\n",
        "print(df_csv.info())"
      ],
      "metadata": {
        "colab": {
          "base_uri": "https://localhost:8080/"
        },
        "id": "nV0UYmK6chVW",
        "outputId": "30c58c99-b49e-4277-acfe-c5f6f2ea0b32"
      },
      "execution_count": null,
      "outputs": [
        {
          "output_type": "stream",
          "name": "stdout",
          "text": [
            "API Data Columns: Index(['gender', 'email', 'phone', 'cell', 'nat', 'name.title', 'name.first',\n",
            "       'name.last', 'location.street.number', 'location.street.name',\n",
            "       'location.city', 'location.state', 'location.country',\n",
            "       'location.postcode', 'location.coordinates.latitude',\n",
            "       'location.coordinates.longitude', 'location.timezone.offset',\n",
            "       'location.timezone.description', 'login.uuid', 'login.username',\n",
            "       'login.password', 'login.salt', 'login.md5', 'login.sha1',\n",
            "       'login.sha256', 'dob.date', 'dob.age', 'registered.date',\n",
            "       'registered.age', 'id.name', 'id.value', 'picture.large',\n",
            "       'picture.medium', 'picture.thumbnail'],\n",
            "      dtype='object')\n",
            "CSV Data Columns: Index(['sepal_length', 'sepal_width', 'petal_length', 'petal_width',\n",
            "       'species'],\n",
            "      dtype='object')\n",
            "\n",
            "API Data Info:\n",
            "<class 'pandas.core.frame.DataFrame'>\n",
            "RangeIndex: 10 entries, 0 to 9\n",
            "Data columns (total 34 columns):\n",
            " #   Column                          Non-Null Count  Dtype \n",
            "---  ------                          --------------  ----- \n",
            " 0   gender                          10 non-null     object\n",
            " 1   email                           10 non-null     object\n",
            " 2   phone                           10 non-null     object\n",
            " 3   cell                            10 non-null     object\n",
            " 4   nat                             10 non-null     object\n",
            " 5   name.title                      10 non-null     object\n",
            " 6   name.first                      10 non-null     object\n",
            " 7   name.last                       10 non-null     object\n",
            " 8   location.street.number          10 non-null     int64 \n",
            " 9   location.street.name            10 non-null     object\n",
            " 10  location.city                   10 non-null     object\n",
            " 11  location.state                  10 non-null     object\n",
            " 12  location.country                10 non-null     object\n",
            " 13  location.postcode               10 non-null     object\n",
            " 14  location.coordinates.latitude   10 non-null     object\n",
            " 15  location.coordinates.longitude  10 non-null     object\n",
            " 16  location.timezone.offset        10 non-null     object\n",
            " 17  location.timezone.description   10 non-null     object\n",
            " 18  login.uuid                      10 non-null     object\n",
            " 19  login.username                  10 non-null     object\n",
            " 20  login.password                  10 non-null     object\n",
            " 21  login.salt                      10 non-null     object\n",
            " 22  login.md5                       10 non-null     object\n",
            " 23  login.sha1                      10 non-null     object\n",
            " 24  login.sha256                    10 non-null     object\n",
            " 25  dob.date                        10 non-null     object\n",
            " 26  dob.age                         10 non-null     int64 \n",
            " 27  registered.date                 10 non-null     object\n",
            " 28  registered.age                  10 non-null     int64 \n",
            " 29  id.name                         10 non-null     object\n",
            " 30  id.value                        8 non-null      object\n",
            " 31  picture.large                   10 non-null     object\n",
            " 32  picture.medium                  10 non-null     object\n",
            " 33  picture.thumbnail               10 non-null     object\n",
            "dtypes: int64(3), object(31)\n",
            "memory usage: 2.8+ KB\n",
            "None\n",
            "\n",
            "CSV Data Info:\n",
            "<class 'pandas.core.frame.DataFrame'>\n",
            "RangeIndex: 150 entries, 0 to 149\n",
            "Data columns (total 5 columns):\n",
            " #   Column        Non-Null Count  Dtype  \n",
            "---  ------        --------------  -----  \n",
            " 0   sepal_length  150 non-null    float64\n",
            " 1   sepal_width   150 non-null    float64\n",
            " 2   petal_length  150 non-null    float64\n",
            " 3   petal_width   150 non-null    float64\n",
            " 4   species       150 non-null    object \n",
            "dtypes: float64(4), object(1)\n",
            "memory usage: 6.0+ KB\n",
            "None\n"
          ]
        }
      ]
    },
    {
      "cell_type": "code",
      "source": [
        "df_api.to_csv(\"users_api.csv\", index=False)\n",
        "df_csv.to_csv(\"iris_csv.csv\", index=False)\n"
      ],
      "metadata": {
        "id": "23AeYrN4dGJj"
      },
      "execution_count": null,
      "outputs": []
    },
    {
      "cell_type": "markdown",
      "source": [
        "COVID -19"
      ],
      "metadata": {
        "id": "WKakYFFueanj"
      }
    },
    {
      "cell_type": "code",
      "source": [
        "!pip install requests pandas -q\n"
      ],
      "metadata": {
        "id": "6mNxBhV_dttk"
      },
      "execution_count": null,
      "outputs": []
    },
    {
      "cell_type": "code",
      "source": [
        "import requests\n",
        "import pandas as pd\n",
        "\n",
        "# API endpoint\n",
        "url = \"https://disease.sh/v3/covid-19/countries\"\n",
        "\n",
        "# Send request\n",
        "response = requests.get(url)\n",
        "\n",
        "# Check if response is successful\n",
        "if response.status_code == 200:\n",
        "    data = response.json()\n",
        "    # Normalize JSON data into a flat table\n",
        "    df_covid = pd.json_normalize(data)\n",
        "    print(\"COVID-19 Data Loaded Successfully\\n\")\n",
        "    print(df_covid.head())\n",
        "else:\n",
        "    print(\"Failed to retrieve data. Status code:\", response.status_code)\n"
      ],
      "metadata": {
        "colab": {
          "base_uri": "https://localhost:8080/"
        },
        "id": "AcHoojHAfK49",
        "outputId": "fc5becd2-b0fc-447c-845a-7dd8647f6a06"
      },
      "execution_count": null,
      "outputs": [
        {
          "output_type": "stream",
          "name": "stdout",
          "text": [
            "COVID-19 Data Loaded Successfully\n",
            "\n",
            "         updated      country   cases  todayCases  deaths  todayDeaths  \\\n",
            "0  1754300676200  Afghanistan  234174           0    7996            0   \n",
            "1  1754300676192      Albania  334863           0    3605            0   \n",
            "2  1754300676195      Algeria  272010           0    6881            0   \n",
            "3  1754300676243      Andorra   48015           0     165            0   \n",
            "4  1754300676222       Angola  107327           0    1937            0   \n",
            "\n",
            "   recovered  todayRecovered  active  critical  ...  oneTestPerPeople  \\\n",
            "0     211080               0   15098         0  ...                29   \n",
            "1     330233               0    1025         0  ...                 1   \n",
            "2     183061               0   82068         0  ...               196   \n",
            "3          0               0   47850         0  ...                 0   \n",
            "4     103419               0    1971         0  ...                23   \n",
            "\n",
            "   activePerOneMillion  recoveredPerOneMillion  criticalPerOneMillion  \\\n",
            "0               370.46                 5179.32                    0.0   \n",
            "1               357.59               115209.32                    0.0   \n",
            "2              1809.65                 4036.61                    0.0   \n",
            "3            617714.26                    0.00                    0.0   \n",
            "4                56.27                 2952.52                    0.0   \n",
            "\n",
            "   countryInfo._id countryInfo.iso2  countryInfo.iso3  countryInfo.lat  \\\n",
            "0              4.0               AF               AFG             33.0   \n",
            "1              8.0               AL               ALB             41.0   \n",
            "2             12.0               DZ               DZA             28.0   \n",
            "3             20.0               AD               AND             42.5   \n",
            "4             24.0               AO               AGO            -12.5   \n",
            "\n",
            "   countryInfo.long                            countryInfo.flag  \n",
            "0              65.0  https://disease.sh/assets/img/flags/af.png  \n",
            "1              20.0  https://disease.sh/assets/img/flags/al.png  \n",
            "2               3.0  https://disease.sh/assets/img/flags/dz.png  \n",
            "3               1.6  https://disease.sh/assets/img/flags/ad.png  \n",
            "4              18.5  https://disease.sh/assets/img/flags/ao.png  \n",
            "\n",
            "[5 rows x 28 columns]\n"
          ]
        }
      ]
    },
    {
      "cell_type": "code",
      "source": [
        "print(\"Columns:\", df_covid.columns.tolist())\n",
        "print(\"\\nData Info:\")\n",
        "print(df_covid.info())\n",
        "\n",
        "print(\"\\nMissing Values:\")\n",
        "print(df_covid.isnull().sum())\n"
      ],
      "metadata": {
        "colab": {
          "base_uri": "https://localhost:8080/"
        },
        "id": "3P3gnP1WfPiM",
        "outputId": "ad9d36ec-bdff-4990-ca15-d1a36e47c1fb"
      },
      "execution_count": null,
      "outputs": [
        {
          "output_type": "stream",
          "name": "stdout",
          "text": [
            "Columns: ['updated', 'country', 'cases', 'todayCases', 'deaths', 'todayDeaths', 'recovered', 'todayRecovered', 'active', 'critical', 'casesPerOneMillion', 'deathsPerOneMillion', 'tests', 'testsPerOneMillion', 'population', 'continent', 'oneCasePerPeople', 'oneDeathPerPeople', 'oneTestPerPeople', 'activePerOneMillion', 'recoveredPerOneMillion', 'criticalPerOneMillion', 'countryInfo._id', 'countryInfo.iso2', 'countryInfo.iso3', 'countryInfo.lat', 'countryInfo.long', 'countryInfo.flag']\n",
            "\n",
            "Data Info:\n",
            "<class 'pandas.core.frame.DataFrame'>\n",
            "RangeIndex: 231 entries, 0 to 230\n",
            "Data columns (total 28 columns):\n",
            " #   Column                  Non-Null Count  Dtype  \n",
            "---  ------                  --------------  -----  \n",
            " 0   updated                 231 non-null    int64  \n",
            " 1   country                 231 non-null    object \n",
            " 2   cases                   231 non-null    int64  \n",
            " 3   todayCases              231 non-null    int64  \n",
            " 4   deaths                  231 non-null    int64  \n",
            " 5   todayDeaths             231 non-null    int64  \n",
            " 6   recovered               231 non-null    int64  \n",
            " 7   todayRecovered          231 non-null    int64  \n",
            " 8   active                  231 non-null    int64  \n",
            " 9   critical                231 non-null    int64  \n",
            " 10  casesPerOneMillion      231 non-null    int64  \n",
            " 11  deathsPerOneMillion     231 non-null    int64  \n",
            " 12  tests                   231 non-null    int64  \n",
            " 13  testsPerOneMillion      231 non-null    int64  \n",
            " 14  population              231 non-null    int64  \n",
            " 15  continent               231 non-null    object \n",
            " 16  oneCasePerPeople        231 non-null    int64  \n",
            " 17  oneDeathPerPeople       231 non-null    int64  \n",
            " 18  oneTestPerPeople        231 non-null    int64  \n",
            " 19  activePerOneMillion     231 non-null    float64\n",
            " 20  recoveredPerOneMillion  231 non-null    float64\n",
            " 21  criticalPerOneMillion   231 non-null    float64\n",
            " 22  countryInfo._id         229 non-null    float64\n",
            " 23  countryInfo.iso2        229 non-null    object \n",
            " 24  countryInfo.iso3        229 non-null    object \n",
            " 25  countryInfo.lat         231 non-null    float64\n",
            " 26  countryInfo.long        231 non-null    float64\n",
            " 27  countryInfo.flag        231 non-null    object \n",
            "dtypes: float64(6), int64(17), object(5)\n",
            "memory usage: 50.7+ KB\n",
            "None\n",
            "\n",
            "Missing Values:\n",
            "updated                   0\n",
            "country                   0\n",
            "cases                     0\n",
            "todayCases                0\n",
            "deaths                    0\n",
            "todayDeaths               0\n",
            "recovered                 0\n",
            "todayRecovered            0\n",
            "active                    0\n",
            "critical                  0\n",
            "casesPerOneMillion        0\n",
            "deathsPerOneMillion       0\n",
            "tests                     0\n",
            "testsPerOneMillion        0\n",
            "population                0\n",
            "continent                 0\n",
            "oneCasePerPeople          0\n",
            "oneDeathPerPeople         0\n",
            "oneTestPerPeople          0\n",
            "activePerOneMillion       0\n",
            "recoveredPerOneMillion    0\n",
            "criticalPerOneMillion     0\n",
            "countryInfo._id           2\n",
            "countryInfo.iso2          2\n",
            "countryInfo.iso3          2\n",
            "countryInfo.lat           0\n",
            "countryInfo.long          0\n",
            "countryInfo.flag          0\n",
            "dtype: int64\n"
          ]
        }
      ]
    }
  ]
}