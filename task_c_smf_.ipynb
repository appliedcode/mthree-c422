{
  "nbformat": 4,
  "nbformat_minor": 0,
  "metadata": {
    "colab": {
      "provenance": [],
      "gpuType": "T4",
      "authorship_tag": "ABX9TyNsGv3OasoWwMLfhXqTu1Gx",
      "include_colab_link": true
    },
    "kernelspec": {
      "name": "python3",
      "display_name": "Python 3"
    },
    "language_info": {
      "name": "python"
    },
    "accelerator": "GPU"
  },
  "cells": [
    {
      "cell_type": "markdown",
      "metadata": {
        "id": "view-in-github",
        "colab_type": "text"
      },
      "source": [
        "<a href=\"https://colab.research.google.com/github/appliedcode/mthree-c422/blob/mthree-422-srilatha/task_c_smf_.ipynb\" target=\"_parent\"><img src=\"https://colab.research.google.com/assets/colab-badge.svg\" alt=\"Open In Colab\"/></a>"
      ]
    },
    {
      "cell_type": "code",
      "execution_count": 13,
      "metadata": {
        "id": "d6-yTtq0DFkf"
      },
      "outputs": [],
      "source": [
        "import torch\n",
        "import torch.nn as nn\n",
        "import matplotlib.pyplot as plt\n",
        "import seaborn as sns"
      ]
    },
    {
      "cell_type": "code",
      "source": [
        "# ------------------ CONFIGURATION ------------------\n",
        "tokens = [\"The\", \"cat\", \"sat\", \"on\", \"the\", \"mat\"]\n",
        "vocab_size = len(tokens)\n",
        "\n",
        "#  Experiment with these parameters\n",
        "embedding_dim = 32      # Try: 8, 16, 32\n",
        "num_heads = 4           # Try: 2, 4, 8 (must divide embedding_dim)\n",
        "hidden_dim = 64         # Try: 16, 32, 64\n",
        "\n",
        "assert embedding_dim % num_heads == 0, \"Embedding dim must be divisible by number of heads\"\n",
        "# ---------------------------------------------------\n",
        "\n",
        "# Initialize random embeddings\n",
        "torch.manual_seed(0)\n",
        "embeddings = torch.rand(vocab_size, embedding_dim)"
      ],
      "metadata": {
        "id": "PIf94KWZDOgx"
      },
      "execution_count": 14,
      "outputs": []
    },
    {
      "cell_type": "code",
      "source": [
        "# --------- Self-Attention Block ---------\n",
        "class SelfAttention(nn.Module):\n",
        "    def __init__(self, embed_dim):\n",
        "        super().__init__()\n",
        "        self.query = nn.Linear(embed_dim, embed_dim)\n",
        "        self.key = nn.Linear(embed_dim, embed_dim)\n",
        "        self.value = nn.Linear(embed_dim, embed_dim)\n",
        "        self.scale = embed_dim ** 0.5\n",
        "\n",
        "    def forward(self, x):\n",
        "        Q = self.query(x)\n",
        "        K = self.key(x)\n",
        "        V = self.value(x)\n",
        "\n",
        "        scores = torch.matmul(Q, K.transpose(-2, -1)) / self.scale\n",
        "        weights = torch.softmax(scores, dim=-1)\n",
        "        output = torch.matmul(weights, V)\n",
        "        return weights, output\n",
        "\n",
        "# Run Self-Attention\n",
        "self_attention = SelfAttention(embedding_dim)\n",
        "attn_weights, attn_output = self_attention(embeddings)"
      ],
      "metadata": {
        "id": "jaj6jx_1DT6h"
      },
      "execution_count": 15,
      "outputs": []
    },
    {
      "cell_type": "code",
      "source": [
        "# Visualize self-attention weights\n",
        "plt.figure(figsize=(8,6))\n",
        "sns.heatmap(attn_weights.detach().numpy(), xticklabels=tokens, yticklabels=tokens, cmap='viridis')\n",
        "plt.title(\"Self-Attention Weights\")\n",
        "plt.show()"
      ],
      "metadata": {
        "colab": {
          "base_uri": "https://localhost:8080/",
          "height": 545
        },
        "id": "wvipWUcjDXYp",
        "outputId": "3a2382d2-2e1c-4783-92ae-7636320a0996"
      },
      "execution_count": 16,
      "outputs": [
        {
          "output_type": "display_data",
          "data": {
            "text/plain": [
              "<Figure size 800x600 with 2 Axes>"
            ],
            "image/png": "[encoded data removed]"
          },
          "metadata": {}
        }
      ]
    },
    {
      "cell_type": "code",
      "source": [
        "# --------- Multi-Head Attention Block ---------\n",
        "class MultiHeadAttention(nn.Module):\n",
        "    def __init__(self, embed_dim, num_heads):\n",
        "        super().__init__()\n",
        "        self.num_heads = num_heads\n",
        "        self.head_dim = embed_dim // num_heads\n",
        "\n",
        "        self.query = nn.Linear(embed_dim, embed_dim)\n",
        "        self.key = nn.Linear(embed_dim, embed_dim)\n",
        "        self.value = nn.Linear(embed_dim, embed_dim)\n",
        "        self.out_proj = nn.Linear(embed_dim, embed_dim)\n",
        "\n",
        "    def forward(self, x):\n",
        "        batch_size = x.shape[0] if x.ndim == 3 else 1\n",
        "        Q = self.query(x).view(batch_size, -1, self.num_heads, self.head_dim).transpose(1, 2)\n",
        "        K = self.key(x).view(batch_size, -1, self.num_heads, self.head_dim).transpose(1, 2)\n",
        "        V = self.value(x).view(batch_size, -1, self.num_heads, self.head_dim).transpose(1, 2)\n",
        "\n",
        "        scores = torch.matmul(Q, K.transpose(-2, -1)) / (self.head_dim ** 0.5)\n",
        "        weights = torch.softmax(scores, dim=-1)\n",
        "        output = torch.matmul(weights, V)\n",
        "        output = output.transpose(1, 2).contiguous().view(batch_size, -1, self.num_heads * self.head_dim)\n",
        "\n",
        "        output = self.out_proj(output)\n",
        "        return weights, output\n",
        "\n",
        "# Run Multi-Head Attention\n",
        "multihead_attention = MultiHeadAttention(embedding_dim, num_heads=num_heads)\n",
        "multihead_weights, multihead_output = multihead_attention(embeddings.unsqueeze(0))  # batch size = 1"
      ],
      "metadata": {
        "id": "o7Ne-JqhDgC3"
      },
      "execution_count": 17,
      "outputs": []
    },
    {
      "cell_type": "code",
      "source": [
        "# --------- Feedforward Layer ---------\n",
        "class FeedForward(nn.Module):\n",
        "    def __init__(self, embed_dim, hidden_dim):\n",
        "        super().__init__()\n",
        "        self.fc1 = nn.Linear(embed_dim, hidden_dim)\n",
        "        self.relu = nn.ReLU()\n",
        "        self.fc2 = nn.Linear(hidden_dim, embed_dim)\n",
        "\n",
        "    def forward(self, x):\n",
        "        return self.fc2(self.relu(self.fc1(x)))\n",
        "\n",
        "feed_forward = FeedForward(embedding_dim, hidden_dim=hidden_dim)\n",
        "ff_output = feed_forward(attn_output)\n",
        "\n",
        "# --------- Output Inspection ---------\n",
        "print(\" Shapes:\")\n",
        "print(\"Input embeddings shape:\", embeddings.shape)\n",
        "print(\"Self-attention output shape:\", attn_output.shape)\n",
        "print(\"Feedforward output shape:\", ff_output.shape)\n",
        "\n",
        "print(\"\\n Sample token 'The' embeddings:\")\n",
        "print(\"Input embedding:         \", embeddings[0].detach().numpy())\n",
        "print(\"Self-Attention output:   \", attn_output[0].detach().numpy())\n",
        "print(\"Feedforward output:      \", ff_output[0].detach().numpy())"
      ],
      "metadata": {
        "colab": {
          "base_uri": "https://localhost:8080/"
        },
        "id": "zOsbWKB9Dg5B",
        "outputId": "957e3705-d781-46bb-d157-e61f7b04d573"
      },
      "execution_count": 18,
      "outputs": [
        {
          "output_type": "stream",
          "name": "stdout",
          "text": [
            " Shapes:\n",
            "Input embeddings shape: torch.Size([6, 32])\n",
            "Self-attention output shape: torch.Size([6, 32])\n",
            "Feedforward output shape: torch.Size([6, 32])\n",
            "\n",
            " Sample token 'The' embeddings:\n",
            "Input embedding:          [0.4962566  0.7682218  0.08847743 0.13203049 0.30742282 0.6340787\n",
            " 0.4900934  0.89644474 0.45562798 0.6323063  0.34889346 0.4017173\n",
            " 0.02232575 0.16885895 0.29388845 0.5185218  0.6976676  0.8000114\n",
            " 0.16102946 0.28226858 0.68160856 0.915194   0.3970999  0.8741559\n",
            " 0.41940832 0.55290705 0.9527381  0.03616482 0.18523103 0.37341738\n",
            " 0.30510002 0.9320004 ]\n",
            "Self-Attention output:    [-7.06458017e-02  9.02842879e-02  7.09245950e-02 -2.87814796e-01\n",
            "  2.27755327e-02 -4.17728096e-01 -2.53544509e-01 -4.35720712e-01\n",
            "  3.89845312e-01 -4.93351221e-01  1.51728630e-01 -8.42544138e-02\n",
            " -1.04341656e-01 -3.31195205e-01  1.80438459e-01 -3.12154949e-01\n",
            " -3.13150525e-01 -3.72744650e-01  5.08898854e-01  3.20640147e-01\n",
            " -3.69278161e-04  4.83514555e-02  2.74398476e-01  3.20609152e-01\n",
            "  9.07141492e-02  7.04496428e-02 -1.14341818e-01  5.70549965e-02\n",
            "  2.36048196e-02  1.06457751e-02 -1.90977499e-01  3.10947478e-01]\n",
            "Feedforward output:       [ 0.05460374 -0.04493028 -0.085848    0.18378317 -0.03726412 -0.13387267\n",
            " -0.05347427 -0.0790342  -0.24923995 -0.0080649   0.05412338 -0.1394876\n",
            " -0.1672323  -0.08218385  0.03133769  0.02525164 -0.15553935 -0.13244718\n",
            "  0.08694595 -0.03868218  0.03941169  0.29425597 -0.05910548  0.08215376\n",
            "  0.11467279  0.14845301  0.08695438  0.09932683 -0.10370884  0.19772594\n",
            " -0.04987998 -0.0886841 ]\n"
          ]
        }
      ]
    }
  ]
}