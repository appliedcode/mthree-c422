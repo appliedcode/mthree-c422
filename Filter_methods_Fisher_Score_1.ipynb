{
  "nbformat": 4,
  "nbformat_minor": 0,
  "metadata": {
    "colab": {
      "provenance": [],
      "authorship_tag": "ABX9TyPdpiX6SvXBHqZQ1DAcojPi",
      "include_colab_link": true
    },
    "kernelspec": {
      "name": "python3",
      "display_name": "Python 3"
    },
    "language_info": {
      "name": "python"
    }
  },
  "cells": [
    {
      "cell_type": "markdown",
      "metadata": {
        "id": "view-in-github",
        "colab_type": "text"
      },
      "source": [
        "<a href=\"https://colab.research.google.com/github/appliedcode/mthree-c422/blob/mthree-c422-Likhitha/Filter_methods_Fisher_Score_1.ipynb\" target=\"_parent\"><img src=\"https://colab.research.google.com/assets/colab-badge.svg\" alt=\"Open In Colab\"/></a>"
      ]
    },
    {
      "cell_type": "code",
      "execution_count": null,
      "metadata": {
        "colab": {
          "base_uri": "https://localhost:8080/"
        },
        "id": "vxtaYwCKDVw_",
        "outputId": "d8a6ed1f-5b88-4961-d797-4764d809b8dd"
      },
      "outputs": [
        {
          "output_type": "stream",
          "name": "stdout",
          "text": [
            "          feature  Fisher_score  Fisher_score_rank     F_score  F_score_rank  Corr_with_target  Corr_with_target_rank  Chi2_score  Chi2_score_rank  Average_rank\n",
            " petal width (cm)     12.800095                2.0  960.007147           2.0          0.956547                    1.0   93.621622              1.0           1.5\n",
            "petal length (cm)     15.735482                1.0 1180.161182           1.0          0.949035                    2.0   91.123288              2.0           1.5\n",
            "sepal length (cm)      1.590193                3.0  119.264502           3.0          0.782561                    3.0   54.142857              3.0           3.0\n",
            " sepal width (cm)      0.655467                4.0   49.160040           4.0         -0.426658                    4.0   20.864407              4.0           4.0\n"
          ]
        }
      ],
      "source": [
        "import pandas as pd\n",
        "import numpy as np\n",
        "from sklearn.datasets import load_iris\n",
        "from sklearn.feature_selection import SelectKBest, chi2, f_classif\n",
        "from sklearn.preprocessing import KBinsDiscretizer\n",
        "\n",
        "# Load data\n",
        "data = load_iris()\n",
        "X = pd.DataFrame(data.data, columns=data.feature_names)\n",
        "y = pd.Series(data.target, name='target')\n",
        "\n",
        "# 1. Fisher Score calculation\n",
        "class_labels = np.unique(y)\n",
        "mean_overall = X.mean()\n",
        "between_var, within_var = [], []\n",
        "for feature in X.columns:\n",
        "    b = w = 0.0\n",
        "    for cls in class_labels:\n",
        "        samples = X.loc[y == cls, feature]\n",
        "        n = len(samples)\n",
        "        mu_cls = samples.mean()\n",
        "        var_cls = samples.var()\n",
        "        b += n * (mu_cls - mean_overall[feature])**2\n",
        "        w += n * var_cls\n",
        "    between_var.append(b)\n",
        "    within_var.append(w)\n",
        "fisher_scores = np.array(between_var) / np.array(within_var)\n",
        "\n",
        "# 2. ANOVA F-score calculation\n",
        "anova_selector = SelectKBest(score_func=f_classif, k=X.shape[1])\n",
        "anova_selector.fit(X, y)\n",
        "f_scores = anova_selector.scores_\n",
        "\n",
        "# 3. Correlation with target\n",
        "corr_with_target = X.apply(lambda col: col.corr(y))\n",
        "\n",
        "# 4. Chi-Square scores (requires discretization)\n",
        "kb = KBinsDiscretizer(n_bins=3, encode='ordinal', strategy='uniform')\n",
        "X_binned = pd.DataFrame(kb.fit_transform(X), columns=X.columns)\n",
        "chi2_selector = SelectKBest(score_func=chi2, k=X.shape[1])\n",
        "chi2_selector.fit(X_binned, y)\n",
        "chi2_scores = chi2_selector.scores_\n",
        "\n",
        "# 5. Combine into DataFrame\n",
        "df = pd.DataFrame({\n",
        "    'feature': X.columns,\n",
        "    'Fisher_score': fisher_scores,\n",
        "    'F_score': f_scores,\n",
        "    'Corr_with_target': corr_with_target.values,\n",
        "    'Chi2_score': chi2_scores\n",
        "})\n",
        "\n",
        "# 6. Compute rankings (1 = highest score)\n",
        "for col in ['Fisher_score', 'F_score', 'Corr_with_target', 'Chi2_score']:\n",
        "    # rank features: highest score gets rank 1\n",
        "    df[f'{col}_rank'] = df[col].rank(ascending=False, method='min')\n",
        "\n",
        "# 7. Compute average rank\n",
        "rank_cols = [c for c in df.columns if c.endswith('_rank')]\n",
        "df['Average_rank'] = df[rank_cols].mean(axis=1)\n",
        "\n",
        "# 8. Sort by average rank\n",
        "df_sorted = df.sort_values('Average_rank').reset_index(drop=True)\n",
        "\n",
        "# 9. Round numeric columns for readability\n",
        "round_cols = ['Fisher_score', 'F_score', 'Corr_with_target', 'Chi2_score', 'Average_rank']\n",
        "df_sorted[round_cols] = df_sorted[round_cols].round(6)\n",
        "\n",
        "# 10. Display final table\n",
        "print(df_sorted[[\n",
        "    'feature',\n",
        "    'Fisher_score', 'Fisher_score_rank',\n",
        "    'F_score', 'F_score_rank',\n",
        "    'Corr_with_target', 'Corr_with_target_rank',\n",
        "    'Chi2_score', 'Chi2_score_rank',\n",
        "    'Average_rank'\n",
        "]].to_string(index=False))"
      ]
    }
  ]
}