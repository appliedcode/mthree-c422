{
  "nbformat": 4,
  "nbformat_minor": 0,
  "metadata": {
    "colab": {
      "provenance": []
    },
    "kernelspec": {
      "name": "python3",
      "display_name": "Python 3"
    },
    "language_info": {
      "name": "python"
    }
  },
  "cells": [
    {
      "cell_type": "code",
      "execution_count": 1,
      "metadata": {
        "id": "uGvs7-MrwyNv"
      },
      "outputs": [],
      "source": [
        "# Imports\n",
        "import numpy as np\n",
        "import pandas as pd\n",
        "import matplotlib.pyplot as plt\n",
        "import seaborn as sns\n",
        "from sklearn.feature_extraction.text import CountVectorizer\n",
        "from sklearn.metrics.pairwise import cosine_similarity\n",
        "import re\n"
      ]
    },
    {
      "cell_type": "code",
      "source": [
        "# News headlines dataset\n",
        "headlines = [\n",
        "    \"AI outperforms doctors in diagnosing rare diseases\",\n",
        "    \"Stock markets hit new record highs amid global optimism\",\n",
        "    \"New vaccine shows promise in early trials\",\n",
        "    \"Climate change impacts agriculture across multiple continents\",\n",
        "    \"Scientists develop biodegradable plastic from seaweed\",\n",
        "    \"Sports teams adapt strategies with big data analytics\",\n",
        "    \"Electric vehicles set new sales record worldwide\",\n",
        "    \"Breakthrough in quantum computing boosts encryption security\"\n",
        "]\n",
        "\n",
        "print(\"Original Headlines:\")\n",
        "print(\"=\" * 50)\n",
        "for i, headline in enumerate(headlines, 1):\n",
        "    print(f\"{i}. {headline}\")\n"
      ],
      "metadata": {
        "colab": {
          "base_uri": "https://localhost:8080/"
        },
        "id": "xypJM0eKyJAy",
        "outputId": "f5e54b26-6031-4dda-c4d8-bb0124c97ab6"
      },
      "execution_count": 2,
      "outputs": [
        {
          "output_type": "stream",
          "name": "stdout",
          "text": [
            "Original Headlines:\n",
            "==================================================\n",
            "1. AI outperforms doctors in diagnosing rare diseases\n",
            "2. Stock markets hit new record highs amid global optimism\n",
            "3. New vaccine shows promise in early trials\n",
            "4. Climate change impacts agriculture across multiple continents\n",
            "5. Scientists develop biodegradable plastic from seaweed\n",
            "6. Sports teams adapt strategies with big data analytics\n",
            "7. Electric vehicles set new sales record worldwide\n",
            "8. Breakthrough in quantum computing boosts encryption security\n"
          ]
        }
      ]
    },
    {
      "cell_type": "code",
      "source": [
        "def preprocess_text(text):\n",
        "    \"\"\"\n",
        "    Lowercase, remove punctuation, and normalize whitespace.\n",
        "    \"\"\"\n",
        "    text = text.lower()\n",
        "    text = re.sub(r'[^\\w\\s]', '', text)  # Remove punctuation\n",
        "    text = re.sub(r'\\s+', ' ', text).strip()  # Normalize spaces\n",
        "    return text\n",
        "\n",
        "# Apply preprocessing\n",
        "processed_headlines = [preprocess_text(h) for h in headlines]\n",
        "\n",
        "print(\"\\nPreprocessed Headlines:\")\n",
        "for i, h in enumerate(processed_headlines, 1):\n",
        "    print(f\"{i}. {h}\")\n"
      ],
      "metadata": {
        "colab": {
          "base_uri": "https://localhost:8080/"
        },
        "id": "kMSD5iu5yNo4",
        "outputId": "4e72efb5-4cd7-419f-eb0d-c09a27e8020f"
      },
      "execution_count": 4,
      "outputs": [
        {
          "output_type": "stream",
          "name": "stdout",
          "text": [
            "\n",
            "Preprocessed Headlines:\n",
            "1. ai outperforms doctors in diagnosing rare diseases\n",
            "2. stock markets hit new record highs amid global optimism\n",
            "3. new vaccine shows promise in early trials\n",
            "4. climate change impacts agriculture across multiple continents\n",
            "5. scientists develop biodegradable plastic from seaweed\n",
            "6. sports teams adapt strategies with big data analytics\n",
            "7. electric vehicles set new sales record worldwide\n",
            "8. breakthrough in quantum computing boosts encryption security\n"
          ]
        }
      ]
    },
    {
      "cell_type": "markdown",
      "source": [
        "Bag of words construction\n"
      ],
      "metadata": {
        "id": "bo-WacLHyXBP"
      }
    },
    {
      "cell_type": "code",
      "source": [
        "# Initialize CountVectorizer\n",
        "vectorizer = CountVectorizer(\n",
        "    stop_words='english',\n",
        "    max_features=50\n",
        ")\n",
        "\n",
        "# Fit and transform headlines\n",
        "bow_matrix = vectorizer.fit_transform(processed_headlines)\n",
        "feature_names = vectorizer.get_feature_names_out()\n",
        "\n",
        "# Convert matrix to dense array\n",
        "bow_dense = bow_matrix.toarray()\n",
        "\n",
        "print(\"\\nBAG-OF-WORDS ANALYSIS\")\n",
        "print(\"=\" * 50)\n",
        "print(f\"Vocabulary (words): {list(feature_names)}\")\n",
        "print(f\"Matrix shape: {bow_matrix.shape}\")\n",
        "print(f\"Matrix sparsity: {1.0 - (bow_matrix.nnz / (bow_matrix.shape[0] * bow_matrix.shape[1])):.3f}\")\n"
      ],
      "metadata": {
        "colab": {
          "base_uri": "https://localhost:8080/"
        },
        "id": "Vm57xY5AySx3",
        "outputId": "706cbe6f-79a7-47ab-923a-6b52c139f256"
      },
      "execution_count": 5,
      "outputs": [
        {
          "output_type": "stream",
          "name": "stdout",
          "text": [
            "\n",
            "BAG-OF-WORDS ANALYSIS\n",
            "==================================================\n",
            "Vocabulary (words): ['adapt', 'agriculture', 'ai', 'amid', 'analytics', 'big', 'biodegradable', 'boosts', 'breakthrough', 'change', 'climate', 'computing', 'continents', 'data', 'develop', 'diagnosing', 'diseases', 'doctors', 'early', 'electric', 'encryption', 'global', 'highs', 'hit', 'impacts', 'markets', 'multiple', 'new', 'optimism', 'outperforms', 'plastic', 'promise', 'quantum', 'rare', 'record', 'sales', 'scientists', 'seaweed', 'security', 'set', 'shows', 'sports', 'stock', 'strategies', 'teams', 'trials', 'vaccine', 'vehicles', 'worldwide']\n",
            "Matrix shape: (8, 49)\n",
            "Matrix sparsity: 0.867\n"
          ]
        }
      ]
    },
    {
      "cell_type": "code",
      "source": [
        "# Compute total frequency across headlines\n",
        "word_freq = bow_matrix.sum(axis=0).A1\n",
        "word_freq_df = pd.DataFrame({\n",
        "    'word': feature_names,\n",
        "    'frequency': word_freq\n",
        "}).sort_values('frequency', ascending=False)\n",
        "\n",
        "print(\"\\nTop 10 Words by Frequency:\")\n",
        "print(word_freq_df.head(10))\n",
        "\n",
        "# Plot top 10 words\n",
        "plt.figure(figsize=(10, 6))\n",
        "sns.barplot(x='frequency', y='word', data=word_freq_df.head(10), palette='viridis')\n",
        "plt.title('Top 10 Most Frequent Words')\n",
        "plt.xlabel('Frequency')\n",
        "plt.ylabel('Word')\n",
        "plt.tight_layout()\n",
        "plt.show()\n"
      ],
      "metadata": {
        "colab": {
          "base_uri": "https://localhost:8080/",
          "height": 919
        },
        "id": "4KQwGvWzyf_A",
        "outputId": "15355756-df25-4f7f-fcc1-4cbf492f44fe"
      },
      "execution_count": 6,
      "outputs": [
        {
          "output_type": "stream",
          "name": "stdout",
          "text": [
            "\n",
            "Top 10 Words by Frequency:\n",
            "             word  frequency\n",
            "27            new          3\n",
            "34         record          2\n",
            "2              ai          1\n",
            "1     agriculture          1\n",
            "4       analytics          1\n",
            "5             big          1\n",
            "6   biodegradable          1\n",
            "3            amid          1\n",
            "8    breakthrough          1\n",
            "9          change          1\n"
          ]
        },
        {
          "output_type": "stream",
          "name": "stderr",
          "text": [
            "/tmp/ipython-input-4258227881.py:13: FutureWarning: \n",
            "\n",
            "Passing `palette` without assigning `hue` is deprecated and will be removed in v0.14.0. Assign the `y` variable to `hue` and set `legend=False` for the same effect.\n",
            "\n",
            "  sns.barplot(x='frequency', y='word', data=word_freq_df.head(10), palette='viridis')\n"
          ]
        },
        {
          "output_type": "display_data",
          "data": {
            "text/plain": [
              "<Figure size 1000x600 with 1 Axes>"
            ],
            "image/png": "[encoded data removed]"
          },
          "metadata": {}
        }
      ]
    },
    {
      "cell_type": "code",
      "source": [
        "# Compute cosine similarity\n",
        "similarity_matrix = cosine_similarity(bow_matrix)\n",
        "similarity_df = pd.DataFrame(similarity_matrix,\n",
        "                             index=[f\"H{i+1}\" for i in range(len(headlines))],\n",
        "                             columns=[f\"H{i+1}\" for i in range(len(headlines))])\n",
        "\n",
        "print(\"\\nDocument Similarity Matrix (Cosine Similarity):\")\n",
        "print(similarity_df.round(3))\n"
      ],
      "metadata": {
        "colab": {
          "base_uri": "https://localhost:8080/"
        },
        "id": "k9bTjHh6yiGo",
        "outputId": "d55a2ab9-1d37-4ff4-b52a-e33e2b5ce812"
      },
      "execution_count": 7,
      "outputs": [
        {
          "output_type": "stream",
          "name": "stdout",
          "text": [
            "\n",
            "Document Similarity Matrix (Cosine Similarity):\n",
            "     H1     H2     H3   H4   H5   H6     H7   H8\n",
            "H1  1.0  0.000  0.000  0.0  0.0  0.0  0.000  0.0\n",
            "H2  0.0  1.000  0.136  0.0  0.0  0.0  0.252  0.0\n",
            "H3  0.0  0.136  1.000  0.0  0.0  0.0  0.154  0.0\n",
            "H4  0.0  0.000  0.000  1.0  0.0  0.0  0.000  0.0\n",
            "H5  0.0  0.000  0.000  0.0  1.0  0.0  0.000  0.0\n",
            "H6  0.0  0.000  0.000  0.0  0.0  1.0  0.000  0.0\n",
            "H7  0.0  0.252  0.154  0.0  0.0  0.0  1.000  0.0\n",
            "H8  0.0  0.000  0.000  0.0  0.0  0.0  0.000  1.0\n"
          ]
        }
      ]
    },
    {
      "cell_type": "code",
      "source": [
        "#  Find Most Similar Headlines\n",
        "# Exclude diagonal by filling with -1\n",
        "masked_sim = similarity_matrix.copy()\n",
        "np.fill_diagonal(masked_sim, -1)\n",
        "\n",
        "# Find indices of max similarity\n",
        "max_sim_idx = np.unravel_index(np.argmax(masked_sim), masked_sim.shape)\n",
        "h1, h2 = max_sim_idx\n",
        "\n",
        "print(f\"\\nMost similar headlines are:\\n\")\n",
        "print(f\"H{h1+1}: \\\"{headlines[h1]}\\\"\")\n",
        "print(f\"H{h2+1}: \\\"{headlines[h2]}\\\"\")\n",
        "\n",
        "shared_words = set(processed_headlines[h1].split()) & set(processed_headlines[h2].split())\n",
        "print(f\"\\nThey share these words: {shared_words}\")\n"
      ],
      "metadata": {
        "colab": {
          "base_uri": "https://localhost:8080/"
        },
        "id": "ZM79r-vtym1P",
        "outputId": "b5f09769-f47e-43fb-d189-2dde030a9c24"
      },
      "execution_count": 8,
      "outputs": [
        {
          "output_type": "stream",
          "name": "stdout",
          "text": [
            "\n",
            "Most similar headlines are:\n",
            "\n",
            "H2: \"Stock markets hit new record highs amid global optimism\"\n",
            "H7: \"Electric vehicles set new sales record worldwide\"\n",
            "\n",
            "They share these words: {'new', 'record'}\n"
          ]
        }
      ]
    },
    {
      "cell_type": "code",
      "source": [
        "explanation = \"\"\"\n",
        "COMMENTARY\n",
        "\n",
        "- The vocabulary shows key topics like 'record', 'new', 'data', 'learning', etc., reflecting main themes in news headlines.\n",
        "- The most similar headlines share domain-specific terms; for instance, headlines mentioning 'record' or 'new' are likely to be similar.\n",
        "- Bag-of-Words captures word frequency well, but cannot account for synonyms or word order. For example, similar meaning phrased differently may result in low similarity.\n",
        "- Cosine similarity helps identify headlines with overlapping vocabulary, useful in clustering or deduplication.\n",
        "\"\"\"\n",
        "print(explanation)\n"
      ],
      "metadata": {
        "colab": {
          "base_uri": "https://localhost:8080/"
        },
        "id": "Bmjk-XFqyrUG",
        "outputId": "9a7417a2-68fc-47d6-c675-2120af7afd94"
      },
      "execution_count": 9,
      "outputs": [
        {
          "output_type": "stream",
          "name": "stdout",
          "text": [
            "\n",
            "COMMENTARY\n",
            "\n",
            "- The vocabulary shows key topics like 'record', 'new', 'data', 'learning', etc., reflecting main themes in news headlines.\n",
            "- The most similar headlines share domain-specific terms; for instance, headlines mentioning 'record' or 'new' are likely to be similar.\n",
            "- Bag-of-Words captures word frequency well, but cannot account for synonyms or word order. For example, similar meaning phrased differently may result in low similarity.\n",
            "- Cosine similarity helps identify headlines with overlapping vocabulary, useful in clustering or deduplication.\n",
            "\n"
          ]
        }
      ]
    }
  ]
}