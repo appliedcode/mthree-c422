{
  "cells": [
    {
      "cell_type": "markdown",
      "metadata": {
        "id": "view-in-github",
        "colab_type": "text"
      },
      "source": [
        "<a href=\"https://colab.research.google.com/github/appliedcode/mthree-c422/blob/main/Exercises/day-6/Multiple_Sources/Practice.ipynb\" target=\"_parent\"><img src=\"https://colab.research.google.com/assets/colab-badge.svg\" alt=\"Open In Colab\"/></a>"
      ]
    },
    {
      "cell_type": "markdown",
      "source": [
        "## Additional Lab Exercises: Practical Ingestion from Multiple Sources\n",
        "### Exercise 1: Weather & Climate Data Integration\n",
        "\n",
        "**CSV (Historical Weather):**  \n",
        "https://raw.githubusercontent.com/fivethirtyeight/data/master/us-weather-history/KCLT.csv\n",
        "\n",
        "**JSON (Sample Data):**  \n",
        "https://raw.githubusercontent.com/public-apis/public-apis/master/example.json\n",
        "\n",
        "**REST API (Current Weather, Open-Meteo):**  \n",
        "https://api.open-meteo.com/v1/forecast?latitude=52.52&longitude=13.41&current_weather=true\n",
        "\n",
        "---\n",
        "\n",
        "### Exercise 2: E-commerce Product Data Consolidation\n",
        "\n",
        "**CSV (Online Retail Sales):**  \n",
        "https://raw.githubusercontent.com/selva86/datasets/master/online_retail.csv\n",
        "\n",
        "**JSON (Product Catalog Sample):**  \n",
        "https://raw.githubusercontent.com/BretFisher/node-docker-good-defaults/master/test-results.json\n",
        "\n",
        "**REST API (Fake Store API):**  \n",
        "- https://fakestoreapi.com/products  \n",
        "- https://fakestoreapi.com/products/categories"
      ],
      "metadata": {
        "id": "RpsOG3v9XMxn"
      }
    }
  ],
  "metadata": {
    "colab": {
      "name": "Welcome to Colab",
      "provenance": [],
      "include_colab_link": true
    },
    "kernelspec": {
      "display_name": "Python 3",
      "name": "python3"
    }
  },
  "nbformat": 4,
  "nbformat_minor": 0
}