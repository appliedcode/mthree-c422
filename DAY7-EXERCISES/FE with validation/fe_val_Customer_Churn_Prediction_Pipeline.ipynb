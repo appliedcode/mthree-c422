{
  "nbformat": 4,
  "nbformat_minor": 0,
  "metadata": {
    "colab": {
      "provenance": []
    },
    "kernelspec": {
      "name": "python3",
      "display_name": "Python 3"
    },
    "language_info": {
      "name": "python"
    }
  },
  "cells": [
    {
      "cell_type": "code",
      "execution_count": 1,
      "metadata": {
        "id": "OnP2qUEVbX2S"
      },
      "outputs": [],
      "source": [
        "!pip install pandas numpy -q\n",
        "\n",
        "import pandas as pd\n",
        "import numpy as np\n",
        "import warnings\n",
        "warnings.filterwarnings(\"ignore\")"
      ]
    },
    {
      "cell_type": "code",
      "source": [
        "# # Step 2: Load Dataset\n",
        "# url = \"https://raw.githubusercontent.com/blastchar/telco-customer-churn/master/WA_Fn-UseC_-Telco-Customer-Churn.csv\"\n",
        "# df = pd.read_csv(url)\n",
        "\n",
        "# df.head()\n",
        "\n",
        "# Install dependencies as needed:\n",
        "# pip install kagglehub[pandas-datasets]\n",
        "import kagglehub\n",
        "from kagglehub import KaggleDatasetAdapter\n",
        "\n",
        "# Set the path to the file you'd like to load\n",
        "file_path = \"WA_Fn-UseC_-Telco-Customer-Churn.csv\"\n",
        "\n",
        "# Load the latest version\n",
        "df = kagglehub.load_dataset(\n",
        "  KaggleDatasetAdapter.PANDAS,\n",
        "  \"blastchar/telco-customer-churn\",\n",
        "  file_path,\n",
        "  # Provide any additional arguments like\n",
        "  # sql_query or pandas_kwargs. See the\n",
        "  # documenation for more information:\n",
        "  # https://github.com/Kaggle/kagglehub/blob/main/README.md#kaggledatasetadapterpandas\n",
        ")\n",
        "\n",
        "print(\"First 5 records:\", df.head())"
      ],
      "metadata": {
        "colab": {
          "base_uri": "https://localhost:8080/"
        },
        "id": "IVoWS6BgczvH",
        "outputId": "512b6dff-070e-4a5d-fca5-1f013337ad68"
      },
      "execution_count": 5,
      "outputs": [
        {
          "output_type": "stream",
          "name": "stdout",
          "text": [
            "First 5 records:    customerID  gender  SeniorCitizen Partner Dependents  tenure PhoneService  \\\n",
            "0  7590-VHVEG  Female              0     Yes         No       1           No   \n",
            "1  5575-GNVDE    Male              0      No         No      34          Yes   \n",
            "2  3668-QPYBK    Male              0      No         No       2          Yes   \n",
            "3  7795-CFOCW    Male              0      No         No      45           No   \n",
            "4  9237-HQITU  Female              0      No         No       2          Yes   \n",
            "\n",
            "      MultipleLines InternetService OnlineSecurity  ... DeviceProtection  \\\n",
            "0  No phone service             DSL             No  ...               No   \n",
            "1                No             DSL            Yes  ...              Yes   \n",
            "2                No             DSL            Yes  ...               No   \n",
            "3  No phone service             DSL            Yes  ...              Yes   \n",
            "4                No     Fiber optic             No  ...               No   \n",
            "\n",
            "  TechSupport StreamingTV StreamingMovies        Contract PaperlessBilling  \\\n",
            "0          No          No              No  Month-to-month              Yes   \n",
            "1          No          No              No        One year               No   \n",
            "2          No          No              No  Month-to-month              Yes   \n",
            "3         Yes          No              No        One year               No   \n",
            "4          No          No              No  Month-to-month              Yes   \n",
            "\n",
            "               PaymentMethod MonthlyCharges  TotalCharges Churn  \n",
            "0           Electronic check          29.85         29.85    No  \n",
            "1               Mailed check          56.95        1889.5    No  \n",
            "2               Mailed check          53.85        108.15   Yes  \n",
            "3  Bank transfer (automatic)          42.30       1840.75    No  \n",
            "4           Electronic check          70.70        151.65   Yes  \n",
            "\n",
            "[5 rows x 21 columns]\n"
          ]
        }
      ]
    },
    {
      "cell_type": "code",
      "source": [
        "def clean_data(df):\n",
        "    df = df.copy()\n",
        "\n",
        "    # Convert TotalCharges to numeric and impute missing with median\n",
        "    df['TotalCharges'] = pd.to_numeric(df['TotalCharges'], errors='coerce')\n",
        "    df['TotalCharges'] = df['TotalCharges'].fillna(df['TotalCharges'].median())\n",
        "\n",
        "    # Drop customerID\n",
        "    df = df.drop(columns=['customerID'], errors='ignore')\n",
        "\n",
        "    return df\n"
      ],
      "metadata": {
        "id": "Vj38byUlknl2"
      },
      "execution_count": 6,
      "outputs": []
    },
    {
      "cell_type": "code",
      "source": [
        "def engineer_features(df):\n",
        "    df = df.copy()\n",
        "\n",
        "    # Create tenure_group: every 12 months = 1 year\n",
        "    bins = [0, 12, 24, 36, 48, 60, np.inf]\n",
        "    labels = ['0-12','13-24','25-36','37-48','49-60','60+']\n",
        "    df['tenure_group'] = pd.cut(df['tenure'], bins=bins, labels=labels, right=True)\n",
        "\n",
        "    # Compute average monthly charges\n",
        "    df['avg_charges_per_month'] = df['TotalCharges'] / df['tenure'].replace(0, np.nan)\n",
        "    df['avg_charges_per_month'] = df['avg_charges_per_month'].fillna(0)\n",
        "\n",
        "    # One-hot encode categorical features\n",
        "    df = pd.get_dummies(df, columns=['Contract', 'PaymentMethod'], drop_first=True)\n",
        "\n",
        "    return df\n"
      ],
      "metadata": {
        "id": "cBPlw_kDla7j"
      },
      "execution_count": 7,
      "outputs": []
    },
    {
      "cell_type": "code",
      "source": [
        "def validate_data(df):\n",
        "    errors = []\n",
        "\n",
        "    # Check for infinite values\n",
        "    if np.isinf(df['avg_charges_per_month']).any():\n",
        "        errors.append(\"Infinite values found in avg_charges_per_month.\")\n",
        "\n",
        "    # Check all tenure_group labels are represented\n",
        "    expected_groups = {'0-12','13-24','25-36','37-48','49-60','60+'}\n",
        "    actual_groups = set(df['tenure_group'].astype(str).unique())\n",
        "    if not expected_groups.issubset(actual_groups):\n",
        "        missing = expected_groups - actual_groups\n",
        "        errors.append(f\"Missing tenure_group labels: {missing}\")\n",
        "\n",
        "    return errors\n"
      ],
      "metadata": {
        "id": "SRF-9jg-lp9V"
      },
      "execution_count": 8,
      "outputs": []
    },
    {
      "cell_type": "code",
      "source": [
        "# Execute pipeline\n",
        "df_clean = clean_data(df)\n",
        "df_feat = engineer_features(df_clean)\n",
        "validation_errors = validate_data(df_feat)\n",
        "\n",
        "print(\"Validation Errors:\", validation_errors or \"None\")\n"
      ],
      "metadata": {
        "colab": {
          "base_uri": "https://localhost:8080/"
        },
        "id": "jL3-9h_WlvNl",
        "outputId": "a5f60090-b710-4e26-b496-244944392e6d"
      },
      "execution_count": 9,
      "outputs": [
        {
          "output_type": "stream",
          "name": "stdout",
          "text": [
            "Validation Errors: None\n"
          ]
        }
      ]
    },
    {
      "cell_type": "code",
      "source": [
        "df_feat.to_csv(\"telco_churn_prepared.csv\", index=False)\n"
      ],
      "metadata": {
        "id": "7b6Tdxy5lyhl"
      },
      "execution_count": 10,
      "outputs": []
    }
  ]
}