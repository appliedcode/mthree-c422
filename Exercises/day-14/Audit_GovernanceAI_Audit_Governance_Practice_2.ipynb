{
  "nbformat": 4,
  "nbformat_minor": 0,
  "metadata": {
    "colab": {
      "provenance": [],
      "authorship_tag": "ABX9TyOzM65YdEKsnc/tlcyCRBUr",
      "include_colab_link": true
    },
    "kernelspec": {
      "name": "python3",
      "display_name": "Python 3"
    },
    "language_info": {
      "name": "python"
    }
  },
  "cells": [
    {
      "cell_type": "markdown",
      "metadata": {
        "id": "view-in-github",
        "colab_type": "text"
      },
      "source": [
        "<a href=\"https://colab.research.google.com/github/appliedcode/mthree-c422/blob/mthree-422-salleh/Exercises/day-14/Audit_GovernanceAI_Audit_Governance_Practice_2.ipynb\" target=\"_parent\"><img src=\"https://colab.research.google.com/assets/colab-badge.svg\" alt=\"Open In Colab\"/></a>"
      ]
    },
    {
      "cell_type": "markdown",
      "source": [
        "## **Problem Statement**\n",
        "\n",
        "You are tasked with evaluating and auditing a machine learning–based **credit scoring model** to ensure it complies with **AI governance principles**, including fairness, transparency, and accountability.\n",
        "\n",
        "The goal is to:\n",
        "\n",
        "- Detect and measure potential **bias** in model predictions across demographic groups (in this case, `age_group` — younger vs older applicants).\n",
        "- Provide **model transparency** through explainability tools such as **SHAP** to understand feature influences on decisions.\n",
        "- Implement **AI auditing steps** by logging performance metrics, bias analysis, and interpretability findings, with proper documentation that could be used for **regulatory compliance** and internal governance processes.\n",
        "\n",
        "You must train, evaluate, audit, and document the AI model in a way that aligns with **ethical AI adoption** in financial services.\n",
        "\n",
        "**In this exercise, we will use the publicly available \"Credit-G\" dataset from OpenML.**\n",
        "\n",
        "### **Dataset Collection Code**\n",
        "\n"
      ],
      "metadata": {
        "id": "HaQejtuyrWAd"
      }
    },
    {
      "cell_type": "code",
      "source": [
        "from sklearn.datasets import fetch_openml\n",
        "\n",
        "# Load dataset from OpenML\n",
        "credit_data = fetch_openml(name='credit-g', version=1, as_frame=True)\n",
        "\n",
        "# Features (X) and Target (y)\n",
        "X = credit_data.data\n",
        "y = credit_data.target\n",
        "\n",
        "# Convert target labels to binary (1 = good credit, 0 = bad credit)\n",
        "y = y.map({'good': 1, 'bad': 0})\n",
        "\n",
        "print(\"Dataset shape:\", X.shape)\n",
        "print(\"Target distribution:\\n\", y.value_counts())"
      ],
      "metadata": {
        "id": "b-Blchvlrq6N"
      },
      "execution_count": null,
      "outputs": []
    }
  ]
}