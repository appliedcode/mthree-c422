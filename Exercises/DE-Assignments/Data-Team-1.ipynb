{
  "cells": [
    {
      "cell_type": "markdown",
      "metadata": {
        "colab_type": "text",
        "id": "view-in-github"
      },
      "source": [
        "<a href=\"https://colab.research.google.com/github/appliedcode/mthree-c422/blob/main/Exercises/day-6/practice.ipynb\" target=\"_parent\"><img src=\"https://colab.research.google.com/assets/colab-badge.svg\" alt=\"Open In Colab\"/></a>"
      ]
    },
    {
      "cell_type": "markdown",
      "metadata": {
        "id": "RpsOG3v9XMxn"
      },
      "source": [
        "# ETL Lab Exercise: Wine Quality Dataset\n",
        "\n",
        "## Problem Statement\n",
        "\n",
        "In this exercise, you will build an end-to-end ETL (Extract-Transform-Load) pipeline using the public \"Wine Quality\" dataset from the UCI Machine Learning Repository. All work will be done in Google Colab using only local resources.\n",
        "\n",
        "---\n",
        "\n",
        "## Tasks\n",
        "\n",
        "### 1. Extract\n",
        "- **Download:**  \n",
        "  Download the \"Wine Quality - Red\" dataset directly from this URL:  \n",
        "  https://archive.ics.uci.edu/ml/machine-learning-databases/wine-quality/winequality-red.csv\n",
        "- **Load:**  \n",
        "  Load the CSV file into a pandas DataFrame, specifying the separator (`;`).\n",
        "\n",
        "### 2. Transform\n",
        "- **Clean:**  \n",
        "  - Check for and handle any missing or anomalous values.\n",
        "  - Rename columns for better readability, if desired.\n",
        "- **Feature Engineering:**  \n",
        "  - Classify each wine as \"High Quality\" if its `quality` score is 7 or higher, otherwise \"Low/Medium Quality.\"\n",
        "  - Normalize numerical features for further analysis.\n",
        "  - (Optional) Create a feature representing the sum of acidity levels (`fixed acidity` + `volatile acidity`).\n",
        "\n",
        "### 3. Load\n",
        "- **SQLite Storage:**  \n",
        "  Store the transformed DataFrame into a local SQLite database in Colab.\n",
        "- **SQL Queries:**  \n",
        "  - Count the number of high and low/medium quality wines.\n",
        "  - Find the average alcohol percentage by wine quality group.\n",
        "  - Identify the top 5 wines (rows) with the highest alcohol content.\n",
        "\n",
        "---\n",
        "\n",
        "## Constraints\n",
        "\n",
        "- Use only pandas, Python standard library, and SQLite—all within Google Colab.\n",
        "- Do **not** use any external or cloud database services.\n",
        "\n",
        "---\n",
        "\n",
        "## Dataset\n",
        "\n",
        "- **Wine Quality Red CSV:**  \n",
        "  [https://archive.ics.uci.edu/ml/machine-learning-databases/wine-quality/winequality-red.csv](https://archive.ics.uci.edu/ml/machine-learning-databases/wine-quality/winequality-red.csv)\n",
        "\n",
        "---\n",
        "\n",
        "## Example Challenge Questions\n",
        "\n",
        "- What percentage of red wines are classified as high quality?\n",
        "- Which parameter most strongly correlates with wine quality in this sample?\n",
        "- What is the distribution of alcohol content among different quality groups?\n",
        "\n",
        "---\n",
        "\n",
        "**Expected Outcome:**  \n",
        "You’ll successfully practice ETL skills on a benchmark dataset: from real-world-style data ingestion, cleaning, and enrichment, to local SQL storage and querying for analytics—all inside Colab."
      ]
    },
    {
      "cell_type": "markdown",
      "metadata": {
        "id": "WI2MFwO5Q76F"
      },
      "source": []
    }
  ],
  "metadata": {
    "colab": {
      "include_colab_link": true,
      "name": "Welcome to Colab",
      "provenance": []
    },
    "kernelspec": {
      "display_name": "Python 3",
      "name": "python3"
    }
  },
  "nbformat": 4,
  "nbformat_minor": 0
}
