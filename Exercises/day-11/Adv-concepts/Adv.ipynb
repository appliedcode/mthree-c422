{
  "cells": [
    {
      "cell_type": "markdown",
      "metadata": {
        "id": "view-in-github",
        "colab_type": "text"
      },
      "source": [
        "<a href=\"https://colab.research.google.com/github/appliedcode/mthree-c422/blob/mthree-c422-dipti/Exercises/day-11/Adv-concepts/Adv.ipynb\" target=\"_parent\"><img src=\"https://colab.research.google.com/assets/colab-badge.svg\" alt=\"Open In Colab\"/></a>"
      ]
    },
    {
      "cell_type": "markdown",
      "source": [
        "# 📓 Advanced Prompt Engineering Lab with GPT-4o-mini\n",
        "## Overview\n",
        "\n",
        "This lab explores four advanced prompt engineering techniques to help you gain deeper control over AI outputs:\n",
        "\n",
        "1. Chain-of-Thought (CoT) Prompting — guiding step-by-step reasoning\n",
        "2. Persona-Based Prompting — adopting roles \\& personas\n",
        "3. Controlling Verbosity, Style \\& Tone — adjusting length, formality, mood\n",
        "4. Prompting for Creativity vs. Accuracy — balancing imaginative vs. factual output\n",
        "\n",
        "***"
      ],
      "metadata": {
        "id": "oXmejYAuI67C"
      }
    },
    {
      "cell_type": "code",
      "source": [
        "\n",
        "from google.colab import userdata\n",
        "import os\n",
        "openai_api_key = userdata.get(\"OPENAI_API_KEY\")\n",
        "if openai_api_key:\n",
        "    os.environ[\"OPENAI_API_KEY\"] = openai_api_key\n",
        "    print(\"✅ OpenAI API key loaded safely\")\n",
        "else:\n",
        "    print(\"❌ OpenAI API key not found. Please set it using Colab Secrets.\")\n",
        "\n",
        "!pip install --quiet openai -q\n",
        "\n",
        "\n",
        "# Create client\n",
        "from openai import OpenAI\n",
        "client = OpenAI(api_key=os.environ[\"OPENAI_API_KEY\"])\n",
        "\n",
        "def ask_gpt(prompt, temp=0.7, max_tokens=150):\n",
        "    \"\"\"Send prompt to GPT-4o-mini and get response.\"\"\"\n",
        "    response = client.chat.completions.create(\n",
        "        model=\"gpt-4o-mini\",\n",
        "        messages=[{\"role\": \"user\", \"content\": prompt}],\n",
        "        temperature=temp,\n",
        "        max_tokens=max_tokens\n",
        "    )\n",
        "    return response.choices[0].message.content"
      ],
      "metadata": {
        "id": "shJFIb6eJAAk",
        "colab": {
          "base_uri": "https://localhost:8080/"
        },
        "outputId": "5e79c8ca-796d-4800-c0e1-5aa504e86893"
      },
      "execution_count": 19,
      "outputs": [
        {
          "output_type": "stream",
          "name": "stdout",
          "text": [
            "✅ OpenAI API key loaded safely\n"
          ]
        }
      ]
    },
    {
      "cell_type": "markdown",
      "source": [
        "## 1️⃣ Chain-of-Thought (CoT) Prompting\n",
        "\n",
        "**Goal:** Encourage the model to think through complex problems step-by-step before answering."
      ],
      "metadata": {
        "id": "28e9CfxAJDpA"
      }
    },
    {
      "cell_type": "code",
      "source": [
        "# Prompt a math word problem with CoT\n",
        "cot_prompt = \"\"\"\n",
        "Q: A farmer has 12 sheep and buys 5 more. Then 3 sheep are sold. How many sheep does he have now?\n",
        "Let's think step by step.\n",
        "\n",
        "1. The farmer starts with 12 sheep.\n",
        "2. He buys 5 more, so 12 + 5 = 17.\n",
        "3. He sells 3, so 17 - 3 = 14.\n",
        "\n",
        "Answer: 14\n",
        "\n",
        "Q: A bookstore sold 45 books on Monday and twice as many on Tuesday. How many books were sold on both days combined?\n",
        "Let's think step by step.\n",
        "\"\"\"\n",
        "\n",
        "print(ask_gpt(cot_prompt))"
      ],
      "metadata": {
        "id": "tXRQ5_OdJHZG",
        "colab": {
          "base_uri": "https://localhost:8080/"
        },
        "outputId": "88a03756-f4e7-4fde-d7a0-9e7338abc4b9"
      },
      "execution_count": 20,
      "outputs": [
        {
          "output_type": "stream",
          "name": "stdout",
          "text": [
            "1. The bookstore sold 45 books on Monday.\n",
            "2. On Tuesday, they sold twice as many, so 2 × 45 = 90 books.\n",
            "3. To find the total sold on both days, we add the books sold on Monday and Tuesday: 45 + 90 = 135.\n",
            "\n",
            "Answer: 135 books were sold on both days combined.\n"
          ]
        }
      ]
    },
    {
      "cell_type": "markdown",
      "source": [
        "## 2️⃣ Persona-Based Prompting\n",
        "\n",
        "**Goal:** Guide the behavior, tone, and knowledge of the model by assigning a role/persona."
      ],
      "metadata": {
        "id": "8P9wX_qRJQcx"
      }
    },
    {
      "cell_type": "code",
      "source": [
        "# Prompt the model to respond as a travel guide\n",
        "persona_prompt = \"\"\"\n",
        "You are an expert travel guide specializing in Italy. Provide a 3-point list of must-see places in Rome for a first-time visitor, in an enthusiastic and friendly tone.\n",
        "\"\"\"\n",
        "\n",
        "print(ask_gpt(persona_prompt))"
      ],
      "metadata": {
        "id": "x9Ec_xaNJS3d",
        "colab": {
          "base_uri": "https://localhost:8080/"
        },
        "outputId": "9996d035-573c-4941-c9ad-6bebb5490f43"
      },
      "execution_count": 21,
      "outputs": [
        {
          "output_type": "stream",
          "name": "stdout",
          "text": [
            "Absolutely! Rome is a treasure trove of history, art, and culture, and you're in for an unforgettable experience! Here are three must-see places you absolutely can't miss on your first visit:\n",
            "\n",
            "1. **The Colosseum**: Step back in time as you explore this iconic symbol of Rome! Imagine the roar of the crowd as gladiators battled in this ancient amphitheater. Don’t forget to grab a guided tour to learn fascinating stories about its history and architecture. It's an absolute must for anyone wanting to feel the pulse of ancient Rome!\n",
            "\n",
            "2. **Vatican City**: Prepare to be awestruck! Visit St. Peter’s Basilica, where the stunning architecture and breathtaking art will leave you speechless. Be sure to\n"
          ]
        }
      ]
    },
    {
      "cell_type": "markdown",
      "source": [
        "## 3️⃣ Controlling Verbosity, Style \\& Tone\n",
        "\n",
        "**Goal:** Control length, formality, tone (e.g., concise vs detailed, formal vs casual)."
      ],
      "metadata": {
        "id": "pBzBXDueJbSp"
      }
    },
    {
      "cell_type": "code",
      "source": [
        "# Compare outputs with different verbosity and tone\n",
        "# Concise & formal\n",
        "prompt1 = \"Explain the importance of water conservation in 2 formal sentences.\"\n",
        "\n",
        "# Detailed & casual\n",
        "prompt2 = \"Explain why saving water is important in a casual and detailed style.\"\n",
        "\n",
        "print(\"Concise & Formal:\\n\", ask_gpt(prompt1))\n",
        "print(\"\\nDetailed & Casual:\\n\", ask_gpt(prompt2))"
      ],
      "metadata": {
        "id": "9v7DbLO8Jeou",
        "colab": {
          "base_uri": "https://localhost:8080/"
        },
        "outputId": "21d5fe09-598b-45b3-b30d-63b579f6d5e0"
      },
      "execution_count": 22,
      "outputs": [
        {
          "output_type": "stream",
          "name": "stdout",
          "text": [
            "Concise & Formal:\n",
            " Water conservation is crucial for sustaining ecosystems, as it helps to maintain biodiversity and supports the health of various habitats. Additionally, responsible water use is essential for ensuring the availability of this vital resource for future generations, mitigating the impacts of drought, and reducing the energy required for water treatment and distribution.\n",
            "\n",
            "Detailed & Casual:\n",
            " Saving water is super important for a bunch of reasons, and it’s something we should all be thinking about, especially with the way things are going in the world. Let’s dive into it!\n",
            "\n",
            "### 1. **Scarcity is Real**\n",
            "First off, water isn’t as abundant as you might think. Although about 71% of the Earth’s surface is covered in water, only about 2.5% of that is freshwater, and even less is accessible. With population growth and climate change, many areas are experiencing water shortages. By saving water, we’re helping to ensure there’s enough for everyone.\n",
            "\n",
            "### 2. **Environmental Impact**\n",
            "When we save water, we’re also helping the environment. Using less water reduces the need\n"
          ]
        }
      ]
    },
    {
      "cell_type": "markdown",
      "source": [
        "## 4️⃣ Prompting for Creativity vs. Accuracy\n",
        "\n",
        "**Goal:** Adjust temperature and prompt wording to balance imaginative vs factual outputs."
      ],
      "metadata": {
        "id": "MisunzzwJjby"
      }
    },
    {
      "cell_type": "code",
      "source": [
        "creative_prompt = \"Describe a futuristic city with flying cars and robots, write creatively and vividly.\"\n",
        "factual_prompt = \"Describe current trends in urban transportation with factual details and data.\"\n",
        "\n",
        "print(\"Creative Description (high creativity):\\n\", ask_gpt(creative_prompt, temp=0.9))\n",
        "print(\"\\nFactual Description (low creativity):\\n\", ask_gpt(factual_prompt, temp=0.2))"
      ],
      "metadata": {
        "id": "sH52XpvOJl1a",
        "colab": {
          "base_uri": "https://localhost:8080/"
        },
        "outputId": "2b6d8071-443c-41ae-f221-45254dd00dcd"
      },
      "execution_count": 23,
      "outputs": [
        {
          "output_type": "stream",
          "name": "stdout",
          "text": [
            "Creative Description (high creativity):\n",
            " In the year 2143, the skyline of New Aurora gleamed under a radiant sun, its towers of glass and chrome spiraling high into the azure sky like the fingers of a titan reaching for the clouds. The architecture of the city was an intricate tapestry of bio-luminescent materials that shifted colors with the time of day—emerald greens at dawn, soft golds at noon, and deep, celestial blues at dusk, painting a vibrant canvas that seemed to pulse with the heartbeat of the metropolis.\n",
            "\n",
            "Above, the air buzzed with the gentle hum of flying cars, sleek and aerodynamic, gliding effortlessly between the vertical highways that twisted high above the ground. These vehicles, essentially drones piloted by artificial intelligence, weaved in and\n",
            "\n",
            "Factual Description (low creativity):\n",
            " As of 2023, urban transportation is undergoing significant transformations driven by technological advancements, sustainability goals, and changing consumer preferences. Here are some key trends:\n",
            "\n",
            "### 1. **Electrification of Public Transport**\n",
            "- **Electric Buses**: Many cities are transitioning their bus fleets to electric models. According to the International Council on Clean Transportation (ICCT), the number of electric buses worldwide surpassed 600,000 in 2021, with significant growth expected in the coming years.\n",
            "- **Trams and Light Rail**: Cities are investing in electric tram and light rail systems to reduce emissions and improve urban mobility.\n",
            "\n",
            "### 2. **Micro-Mobility Solutions**\n",
            "- **E-Scooters and E-Bikes**: The micro\n"
          ]
        }
      ]
    },
    {
      "cell_type": "markdown",
      "source": [
        "# 📝 Reflection Questions\n",
        "\n",
        "- How did chain-of-thought help with complex problem solving?\n",
        "- How did persona-based prompting change tone and style?\n",
        "- Which verbosity and style control improved readability?\n",
        "- When is high creativity useful compared to factual accuracy?"
      ],
      "metadata": {
        "id": "Hire7jVwJojl"
      }
    }
  ],
  "metadata": {
    "colab": {
      "name": "Welcome to Colab",
      "provenance": [],
      "include_colab_link": true
    },
    "kernelspec": {
      "display_name": "Python 3",
      "name": "python3"
    }
  },
  "nbformat": 4,
  "nbformat_minor": 0
}