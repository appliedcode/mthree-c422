{
  "cells": [
    {
      "cell_type": "markdown",
      "metadata": {
        "id": "view-in-github",
        "colab_type": "text"
      },
      "source": [
        "<a href=\"https://colab.research.google.com/github/appliedcode/mthree-c422/blob/mthree-c422-dipti/Exercises/day-11/Prompt-Essential/prompt-output.ipynb\" target=\"_parent\"><img src=\"https://colab.research.google.com/assets/colab-badge.svg\" alt=\"Open In Colab\"/></a>"
      ]
    },
    {
      "cell_type": "markdown",
      "source": [
        "# 🧪 Colab Lab: Mastering Prompt Structure\n",
        "\n"
      ],
      "metadata": {
        "id": "hFnkDgKDTUgk"
      }
    },
    {
      "cell_type": "code",
      "source": [
        "!pip install --quiet openai\n",
        "\n",
        "from google.colab import userdata\n",
        "import os\n",
        "from openai import OpenAI\n",
        "\n",
        "api_key = userdata.get('OPENAI_API_KEY')\n",
        "if not api_key:\n",
        "    raise ValueError(\"❌ API key not found. Please set with userdata.set(...)\")\n",
        "\n",
        "os.environ[\"OPENAI_API_KEY\"] = api_key\n",
        "client = OpenAI(api_key=os.environ[\"OPENAI_API_KEY\"])\n"
      ],
      "metadata": {
        "id": "b-MrRDkKZxI6"
      },
      "execution_count": 1,
      "outputs": []
    },
    {
      "cell_type": "code",
      "source": [
        "# Setup\n",
        "def gpt_request(prompt, model=\"gpt-4o-mini\", temperature=0.7):\n",
        "    \"\"\"Send a prompt to GPT-4o-mini and return the response\"\"\"\n",
        "    response = client.chat.completions.create(\n",
        "        model=model,\n",
        "        messages=[{\"role\": \"user\", \"content\": prompt}],\n",
        "        temperature=temperature,\n",
        "        max_tokens=1000\n",
        "    )\n",
        "    return response.choices[0].message.content\n",
        "\n",
        "# Test the connection\n",
        "print(\"✅ Connected to GPT-4o-mini!\")\n",
        "print(gpt_request(\"Say hello and confirm you are GPT-4o-mini with emoji and assistance\"))"
      ],
      "metadata": {
        "id": "AMu0nG8RUleT",
        "colab": {
          "base_uri": "https://localhost:8080/"
        },
        "outputId": "6e21bb2c-9ab5-47e6-88d9-0c96628c88a7"
      },
      "execution_count": 4,
      "outputs": [
        {
          "output_type": "stream",
          "name": "stdout",
          "text": [
            "✅ Connected to GPT-4o-mini!\n",
            "Hello! 👋 I am GPT-4o-mini, here to assist you. How can I help you today? 😊\n"
          ]
        }
      ]
    },
    {
      "cell_type": "markdown",
      "source": [
        "# Exercise 1: Text Generation"
      ],
      "metadata": {
        "id": "5-bxrnHZUcZ_"
      }
    },
    {
      "cell_type": "code",
      "source": [
        "# Part A: Explanation\n",
        "prompt = \"Explain quantum computing to a 12-year-old in simple terms.\"\n",
        "response = gpt_request(prompt)\n",
        "print(\"🧒 For 12-year-old:\")\n",
        "print(response)\n",
        "print(\"\\n\" + \"=\"*50 + \"\\n\")\n",
        "\n",
        "# Student Task: Try different age groups\n",
        "prompt_5yr = \"Explain quantum computing to a 5-year-old in very simple terms.\"\n",
        "response_5yr = gpt_request(prompt_5yr)\n",
        "print(\"👶 For 5-year-old:\")\n",
        "print(response_5yr)\n",
        "print(\"\\n\" + \"=\"*50 + \"\\n\")\n",
        "\n",
        "prompt_college = \"Explain quantum computing to a college student studying computer science.\"\n",
        "response_college = gpt_request(prompt_college)\n",
        "print(\"🎓 For college student:\")\n",
        "print(response_college)\n"
      ],
      "metadata": {
        "id": "RhihJQzaUdlH",
        "colab": {
          "base_uri": "https://localhost:8080/"
        },
        "outputId": "f6a13949-c6dd-42f8-8450-3f76d7cddbd2"
      },
      "execution_count": 5,
      "outputs": [
        {
          "output_type": "stream",
          "name": "stdout",
          "text": [
            "🧒 For 12-year-old:\n",
            "Sure! Imagine you have a really big library full of books, and you want to find one specific book. A regular computer is like having a librarian who checks each book one at a time until they find the right one. This can take a long time if there are a lot of books!\n",
            "\n",
            "Now, a quantum computer is like having a super librarian who can check many books at once. It uses special rules from quantum physics, which is the science that studies really tiny things, like atoms and particles. Instead of just using regular bits (like tiny light switches that can be either off or on), quantum computers use qubits, which can be both off and on at the same time! This special ability helps them solve certain problems much faster than regular computers.\n",
            "\n",
            "So, in simple terms, quantum computing is like having a super-fast librarian that can look through many books all at once, making it easier to find answers to really hard questions!\n",
            "\n",
            "==================================================\n",
            "\n",
            "👶 For 5-year-old:\n",
            "Okay! Imagine you have a super special kind of computer that can think about lots of things at the same time. \n",
            "\n",
            "You know how when you play with blocks, you can stack them in different ways? A regular computer is like a kid who can only stack one block at a time. But a quantum computer is like a magical kid who can stack lots of blocks all at once! \n",
            "\n",
            "This special computer uses tiny things, called \"qubits,\" that can be both on and off at the same time, like a light switch that can be both bright and dark together. This helps it solve really tricky problems much faster than regular computers. \n",
            "\n",
            "So, it’s like having a super-duper helper that can help us figure things out really quickly!\n",
            "\n",
            "==================================================\n",
            "\n",
            "🎓 For college student:\n",
            "Certainly! Quantum computing is a fascinating and rapidly evolving field that leverages principles of quantum mechanics to process information in fundamentally different ways than classical computers. Here’s a breakdown of the key concepts that will help you understand quantum computing:\n",
            "\n",
            "### 1. **Classical Bits vs. Quantum Bits (Qubits)**\n",
            "\n",
            "- **Classical Bits**: In classical computing, the basic unit of information is a bit, which can be either 0 or 1. Classical computers process information using these bits through operations like AND, OR, and NOT.\n",
            "\n",
            "- **Quantum Bits (Qubits)**: In quantum computing, the basic unit of information is a qubit. Unlike classical bits, qubits can exist in a state of 0, 1, or both at the same time due to a property called **superposition**. This means that a qubit can represent multiple values simultaneously.\n",
            "\n",
            "### 2. **Superposition**\n",
            "\n",
            "Superposition allows quantum computers to perform many calculations at once. For example, if you have two qubits, instead of just being in one of four states (00, 01, 10, 11) like classical bits, they can be in a combination of all four states at once. This exponential growth of states is what gives quantum computers their potential for solving complex problems more efficiently than classical computers.\n",
            "\n",
            "### 3. **Entanglement**\n",
            "\n",
            "Entanglement is another key principle of quantum mechanics. When qubits become entangled, the state of one qubit becomes dependent on the state of another, regardless of the distance between them. This means that measuring one qubit will instantly give you information about the other. Entanglement can be used to create correlations that enhance the computational power of quantum algorithms.\n",
            "\n",
            "### 4. **Quantum Gates and Circuits**\n",
            "\n",
            "Just like classical bits are manipulated using logic gates, qubits are manipulated using **quantum gates**. These gates change the probabilities of a qubit's state and can create complex quantum circuits. Quantum circuits are sequences of quantum gates that perform operations on qubits, and they are the basis for quantum algorithms.\n",
            "\n",
            "### 5. **Quantum Algorithms**\n",
            "\n",
            "Quantum algorithms exploit superposition and entanglement to achieve computational advantages. Some well-known quantum algorithms include:\n",
            "\n",
            "- **Shor's Algorithm**: Efficiently factors large numbers, which has implications for cryptography.\n",
            "- **Grover's Algorithm**: Provides a quadratic speedup for searching unsorted databases.\n",
            "\n",
            "### 6. **Quantum Decoherence and Error Correction**\n",
            "\n",
            "Quantum states are delicate and can be easily disturbed by their environment, leading to a phenomenon known as **decoherence**. Maintaining the integrity of qubits over time is a significant challenge in quantum computing. **Quantum error correction** codes are being developed to protect qubits from errors caused by decoherence and other noise.\n",
            "\n",
            "### 7. **Current State and Applications**\n",
            "\n",
            "As of now, quantum computers are still in the experimental stage, but they have shown promise in areas like cryptography, optimization problems, materials science, drug discovery, and machine learning. Companies like IBM, Google, and startups are investing in building more robust quantum systems.\n",
            "\n",
            "### Conclusion\n",
            "\n",
            "Quantum computing represents a paradigm shift in how we think about computation. By harnessing the unique properties of quantum mechanics, it has the potential to solve problems that are currently intractable for classical computers. While we are still in the early stages of its development, the implications for technology and science could be profound in the coming years. As a computer science student, delving into this field can open up exciting new avenues for research and innovation!\n"
          ]
        }
      ]
    },
    {
      "cell_type": "code",
      "source": [
        "# Part B: Short Essay\n",
        "prompt = \"Write a 150-word essay on the importance of clean water access worldwide.\"\n",
        "response = gpt_request(prompt)\n",
        "print(\"📝 Clean Water Essay:\")\n",
        "print(response)\n",
        "print(f\"\\nWord count: {len(response.split())}\")\n"
      ],
      "metadata": {
        "id": "GUFaHPxGUo05",
        "colab": {
          "base_uri": "https://localhost:8080/"
        },
        "outputId": "640b9b92-8d30-40da-d7f9-b78014a687a8"
      },
      "execution_count": 6,
      "outputs": [
        {
          "output_type": "stream",
          "name": "stdout",
          "text": [
            "📝 Clean Water Essay:\n",
            "Access to clean water is a fundamental human right and a critical component of global health, economic stability, and environmental sustainability. Over 2 billion people worldwide lack reliable access to safe drinking water, leading to severe health issues, including waterborne diseases like cholera and dysentery. These diseases disproportionately affect vulnerable populations, particularly children, resulting in millions of preventable deaths each year.\n",
            "\n",
            "Clean water access is also vital for education and economic productivity. Children, especially girls, often miss school due to the burden of collecting water, perpetuating cycles of poverty and limiting future opportunities. Furthermore, adequate water supply is essential for agriculture and industry, which are cornerstones of economic growth.\n",
            "\n",
            "Moreover, clean water fosters environmental sustainability by supporting ecosystems and reducing pollution. Investing in clean water infrastructure not only improves public health but also enhances community resilience against climate change, making it imperative that global efforts prioritize water access for all.\n",
            "\n",
            "Word count: 150\n"
          ]
        }
      ]
    },
    {
      "cell_type": "code",
      "source": [
        "# Part C: Email Draft\n",
        "prompt = \"\"\"Write a formal email to Professor Johnson requesting a 3-day extension\n",
        "on the final project due to illness. Include appropriate subject line.\"\"\"\n",
        "response = gpt_request(prompt)\n",
        "print(\"📧 Email Draft:\")\n",
        "print(response)\n"
      ],
      "metadata": {
        "id": "ZgVryP2JUqcr",
        "colab": {
          "base_uri": "https://localhost:8080/"
        },
        "outputId": "3743f639-dc38-4552-b999-ba799d5d048f"
      },
      "execution_count": 7,
      "outputs": [
        {
          "output_type": "stream",
          "name": "stdout",
          "text": [
            "📧 Email Draft:\n",
            "Subject: Request for Extension on Final Project Due to Illness\n",
            "\n",
            "Dear Professor Johnson,\n",
            "\n",
            "I hope this message finds you well. I am writing to formally request a three-day extension on the final project due for your class, originally due on [insert due date]. Unfortunately, I have been unwell recently, which has hindered my ability to complete the project to the best of my ability.\n",
            "\n",
            "I understand the importance of adhering to deadlines, and I appreciate your consideration of my request. If granted, I assure you that I will use the additional time to improve my work and ensure it meets the standards of your course.\n",
            "\n",
            "Thank you very much for your understanding. I look forward to your response.\n",
            "\n",
            "Sincerely,  \n",
            "[Your Name]  \n",
            "[Your Student ID]  \n",
            "[Your Course Name]  \n",
            "[Your Contact Information]  \n"
          ]
        }
      ]
    },
    {
      "cell_type": "markdown",
      "source": [
        "# Exercise 2: Code Output\n"
      ],
      "metadata": {
        "id": "IZvZM7Z4UuVf"
      }
    },
    {
      "cell_type": "code",
      "source": [
        "# Part A: Code Generation\n",
        "prompt = \"Write Python code to merge two sorted lists into one sorted list. Include comments and example usage.\"\n",
        "response = gpt_request(prompt)\n",
        "print(\"💻 Merge Sorted Lists:\")\n",
        "print(response)\n"
      ],
      "metadata": {
        "id": "CFMuWmtSUvj0",
        "colab": {
          "base_uri": "https://localhost:8080/"
        },
        "outputId": "ce1abd26-5ef8-4372-a97c-b1a69c671b05"
      },
      "execution_count": 8,
      "outputs": [
        {
          "output_type": "stream",
          "name": "stdout",
          "text": [
            "💻 Merge Sorted Lists:\n",
            "Certainly! Below is a Python code snippet that merges two sorted lists into one sorted list. The function `merge_sorted_lists` takes two sorted lists as input and returns a new sorted list that combines both.\n",
            "\n",
            "```python\n",
            "def merge_sorted_lists(list1, list2):\n",
            "    \"\"\"\n",
            "    Merges two sorted lists into a single sorted list.\n",
            "    \n",
            "    Parameters:\n",
            "    list1 (list): First sorted list.\n",
            "    list2 (list): Second sorted list.\n",
            "    \n",
            "    Returns:\n",
            "    list: A new sorted list containing all elements from list1 and list2.\n",
            "    \"\"\"\n",
            "    merged_list = []  # This will hold the merged result\n",
            "    i, j = 0, 0      # Pointers for list1 and list2\n",
            "    \n",
            "    # Traverse both lists and compare elements\n",
            "    while i < len(list1) and j < len(list2):\n",
            "        if list1[i] < list2[j]:\n",
            "            merged_list.append(list1[i])  # Append smaller element to merged_list\n",
            "            i += 1  # Move pointer in list1\n",
            "        else:\n",
            "            merged_list.append(list2[j])  # Append smaller element to merged_list\n",
            "            j += 1  # Move pointer in list2\n",
            "    \n",
            "    # If there are remaining elements in list1, add them to merged_list\n",
            "    while i < len(list1):\n",
            "        merged_list.append(list1[i])\n",
            "        i += 1\n",
            "    \n",
            "    # If there are remaining elements in list2, add them to merged_list\n",
            "    while j < len(list2):\n",
            "        merged_list.append(list2[j])\n",
            "        j += 1\n",
            "    \n",
            "    return merged_list  # Return the merged sorted list\n",
            "\n",
            "# Example usage:\n",
            "if __name__ == \"__main__\":\n",
            "    sorted_list1 = [1, 3, 5, 7]\n",
            "    sorted_list2 = [2, 4, 6, 8]\n",
            "    \n",
            "    merged_result = merge_sorted_lists(sorted_list1, sorted_list2)\n",
            "    print(\"Merged Sorted List:\", merged_result)\n",
            "```\n",
            "\n",
            "### Explanation:\n",
            "1. **Function Definition**: The function `merge_sorted_lists` is defined to take two parameters, `list1` and `list2`, which are expected to be sorted lists.\n",
            "2. **Initialization**: An empty list `merged_list` is created to hold the results, and two indices `i` and `j` are initialized to 0 for tracking the current position in `list1` and `list2`, respectively.\n",
            "3. **Main Loop**: A `while` loop iterates through both lists as long as there are elements in both. It compares the current elements pointed to by `i` and `j`, appending the smaller one to `merged_list` and advancing the respective pointer.\n",
            "4. **Remaining Elements**: After the main loop, two additional `while` loops handle any remaining elements in either list.\n",
            "5. **Return Value**: The function returns the merged sorted list.\n",
            "6. **Example Usage**: The example shows how to use the function with two sorted lists and prints the resulting merged sorted list. \n",
            "\n",
            "When you run this code, it will output:\n",
            "```\n",
            "Merged Sorted List: [1, 2, 3, 4, 5, 6, 7, 8]\n",
            "```\n"
          ]
        }
      ]
    },
    {
      "cell_type": "code",
      "source": [
        "# Part B: Code Refactoring\n",
        "original_code = \"\"\"\n",
        "def add(a,b):\n",
        "    return a+b\n",
        "\n",
        "def multiply(x,y):\n",
        "    return x*y\n",
        "\"\"\"\n",
        "\n",
        "prompt = f\"\"\"Refactor the following Python code to:\n",
        "1. Add proper docstrings\n",
        "2. Add type hints\n",
        "3. Add input validation\n",
        "4. Follow PEP 8 style guidelines\n",
        "\n",
        "Original code:\n",
        "{original_code}\"\"\"\n",
        "\n",
        "response = gpt_request(prompt)\n",
        "print(\"🔧 Refactored Code:\")\n",
        "print(response)\n"
      ],
      "metadata": {
        "id": "38TViMG-Ux0e",
        "colab": {
          "base_uri": "https://localhost:8080/"
        },
        "outputId": "38110f5f-9242-49a2-f367-19c6fb688eaa"
      },
      "execution_count": 9,
      "outputs": [
        {
          "output_type": "stream",
          "name": "stdout",
          "text": [
            "🔧 Refactored Code:\n",
            "Here’s the refactored version of the code that includes proper docstrings, type hints, input validation, and adheres to PEP 8 style guidelines:\n",
            "\n",
            "```python\n",
            "def add(a: float, b: float) -> float:\n",
            "    \"\"\"Return the sum of two numbers.\n",
            "\n",
            "    Args:\n",
            "        a (float): The first number.\n",
            "        b (float): The second number.\n",
            "\n",
            "    Raises:\n",
            "        ValueError: If either a or b is not a number.\n",
            "\n",
            "    Returns:\n",
            "        float: The sum of a and b.\n",
            "    \"\"\"\n",
            "    if not isinstance(a, (int, float)) or not isinstance(b, (int, float)):\n",
            "        raise ValueError(\"Both a and b must be numbers.\")\n",
            "    \n",
            "    return a + b\n",
            "\n",
            "\n",
            "def multiply(x: float, y: float) -> float:\n",
            "    \"\"\"Return the product of two numbers.\n",
            "\n",
            "    Args:\n",
            "        x (float): The first number.\n",
            "        y (float): The second number.\n",
            "\n",
            "    Raises:\n",
            "        ValueError: If either x or y is not a number.\n",
            "\n",
            "    Returns:\n",
            "        float: The product of x and y.\n",
            "    \"\"\"\n",
            "    if not isinstance(x, (int, float)) or not isinstance(y, (int, float)):\n",
            "        raise ValueError(\"Both x and y must be numbers.\")\n",
            "    \n",
            "    return x * y\n",
            "```\n",
            "\n",
            "### Changes Made:\n",
            "1. **Docstrings**: Added detailed docstrings to explain the purpose of each function, the arguments they take, the exceptions they might raise, and their return values.\n",
            "2. **Type Hints**: Introduced type hints to specify that the functions accept and return float values.\n",
            "3. **Input Validation**: Added checks to ensure that the inputs are either integers or floats, raising a `ValueError` if they are not.\n",
            "4. **PEP 8 Compliance**: Ensured the code follows PEP 8 style guidelines, such as spacing and line length.\n"
          ]
        }
      ]
    },
    {
      "cell_type": "code",
      "source": [
        "# Part C: Code Debugging\n",
        "buggy_code = \"\"\"\n",
        "def factorial(n):\n",
        "    if n == 0:\n",
        "        return 0  # This is wrong!\n",
        "    else:\n",
        "        return n * factorial(n-1)\n",
        "\n",
        "# Test\n",
        "print(factorial(5))  # Should be 120, but returns 0\n",
        "\"\"\"\n",
        "\n",
        "prompt = f\"\"\"Find and fix the bug in this Python factorial function.\n",
        "Explain what was wrong and provide the corrected version:\n",
        "\n",
        "{buggy_code}\"\"\"\n",
        "\n",
        "response = gpt_request(prompt)\n",
        "print(\"🐛 Debug Analysis:\")\n",
        "print(response)\n"
      ],
      "metadata": {
        "id": "QgUStZaOUzzV",
        "colab": {
          "base_uri": "https://localhost:8080/"
        },
        "outputId": "6d475c72-fc8b-4302-a1af-515751f7d29a"
      },
      "execution_count": 10,
      "outputs": [
        {
          "output_type": "stream",
          "name": "stdout",
          "text": [
            "🐛 Debug Analysis:\n",
            "The bug in the provided `factorial` function is in the base case. The factorial of 0 is defined to be 1, but the function currently returns 0 when `n` is 0. This incorrect return value causes the overall function to return 0 for any input greater than 0, as the multiplication will eventually reach the base case and return 0.\n",
            "\n",
            "Here's the corrected version of the function:\n",
            "\n",
            "```python\n",
            "def factorial(n):\n",
            "    if n == 0:\n",
            "        return 1  # Corrected to return 1 for factorial(0)\n",
            "    else:\n",
            "        return n * factorial(n-1)\n",
            "\n",
            "# Test\n",
            "print(factorial(5))  # Now returns 120 as expected\n",
            "```\n",
            "\n",
            "### Explanation of the Fix:\n",
            "1. **Base Case Correction**: The condition `if n == 0:` should return `1` instead of `0`. This aligns with the mathematical definition of factorial, where `0! = 1`.\n",
            "2. **Recursion**: The recursive call `factorial(n-1)` remains unchanged, as it correctly computes the factorial of the decremented value.\n",
            "\n",
            "With this change, calling `factorial(5)` will correctly return `120`.\n"
          ]
        }
      ]
    },
    {
      "cell_type": "markdown",
      "source": [
        "# Exercise 3: Summarization\n"
      ],
      "metadata": {
        "id": "K1Fs8-fkU2Qy"
      }
    },
    {
      "cell_type": "code",
      "source": [
        "# # Sample text for summarization\n",
        "article_text = \"\"\"\n",
        "Artificial intelligence has transformed numerous industries in recent years, from healthcare to finance to transportation.\n",
        "Machine learning algorithms can now diagnose diseases with accuracy comparable to human doctors, detect fraudulent\n",
        "financial transactions in real-time, and enable self-driving cars to navigate complex urban environments. However,\n",
        "these advances come with significant challenges including job displacement, privacy concerns, and algorithmic bias.\n",
        "Companies and governments are working to address these issues through regulation, retraining programs, and ethical AI\n",
        "frameworks. The future of AI development will likely depend on balancing innovation with responsible implementation\n",
        "that considers societal impact and ensures equitable benefits for all.\n",
        "\"\"\"\n",
        "\n",
        "# Extractive Summary\n",
        "prompt_extractive = f\"\"\"Create an extractive summary of the following text by selecting\n",
        "the most important sentences directly from the original:\n",
        "\n",
        "{article_text}\"\"\"\n",
        "\n",
        "extractive_summary = gpt_request(prompt_extractive)\n",
        "print(\"📋 Extractive Summary:\")\n",
        "print(extractive_summary)\n",
        "print(\"\\n\" + \"=\"*50 + \"\\n\")\n",
        "\n",
        "# Abstractive Summary\n",
        "prompt_abstractive = f\"\"\"Create an abstractive summary of the following text by\n",
        "rewriting the key points in your own words (2-3 sentences):\n",
        "\n",
        "{article_text}\"\"\"\n",
        "\n",
        "abstractive_summary = gpt_request(prompt_abstractive)\n",
        "print(\"✍️ Abstractive Summary:\")\n",
        "print(abstractive_summary)\n"
      ],
      "metadata": {
        "id": "5aHVZWmEU4Cw",
        "colab": {
          "base_uri": "https://localhost:8080/"
        },
        "outputId": "cefb517b-9d3e-4475-f78d-c7f7c5c1f571"
      },
      "execution_count": 11,
      "outputs": [
        {
          "output_type": "stream",
          "name": "stdout",
          "text": [
            "📋 Extractive Summary:\n",
            "Artificial intelligence has transformed numerous industries in recent years, from healthcare to finance to transportation. However, these advances come with significant challenges including job displacement, privacy concerns, and algorithmic bias. Companies and governments are working to address these issues through regulation, retraining programs, and ethical AI frameworks. The future of AI development will likely depend on balancing innovation with responsible implementation that considers societal impact and ensures equitable benefits for all.\n",
            "\n",
            "==================================================\n",
            "\n",
            "✍️ Abstractive Summary:\n",
            "Artificial intelligence has significantly impacted various sectors, such as healthcare, finance, and transportation, by enhancing capabilities like disease diagnosis, fraud detection, and autonomous driving. Nonetheless, these advancements pose challenges like job loss, privacy issues, and biases in algorithms, prompting companies and governments to implement regulations, retraining initiatives, and ethical guidelines. The future of AI will hinge on achieving a balance between fostering innovation and ensuring responsible practices that consider societal implications and equitable access.\n"
          ]
        }
      ]
    },
    {
      "cell_type": "markdown",
      "source": [
        "# Exercise 4: Classification / Labeling\n"
      ],
      "metadata": {
        "id": "fmHJfP84U7iI"
      }
    },
    {
      "cell_type": "code",
      "source": [
        "# Movie reviews for sentiment classification\n",
        "reviews = [\n",
        "    \"This movie was absolutely incredible! The acting was phenomenal and the plot kept me engaged throughout.\",\n",
        "    \"Boring and predictable. I fell asleep halfway through and didn't miss anything important.\",\n",
        "    \"It was okay. Some good moments but overall just average. Nothing special but not terrible either.\",\n",
        "    \"Waste of money and time. Poor dialogue, terrible acting, and nonsensical plot.\",\n",
        "    \"A masterpiece! This film will be remembered as one of the greatest of all time.\"\n",
        "]\n",
        "\n",
        "prompt = \"\"\"Classify each of the following movie reviews as either:\n",
        "- POSITIVE (clearly positive sentiment)\n",
        "- NEGATIVE (clearly negative sentiment)\n",
        "- NEUTRAL (mixed or neutral sentiment)\n",
        "\n",
        "Format your response as:\n",
        "Review 1: [CLASSIFICATION] - [Brief reason]\n",
        "Review 2: [CLASSIFICATION] - [Brief reason]\n",
        "etc.\n",
        "\n",
        "Reviews:\n",
        "\"\"\" + \"\\n\".join([f\"{i+1}. {review}\" for i, review in enumerate(reviews)])\n",
        "\n",
        "response = gpt_request(prompt)\n",
        "print(\"🏷️ Sentiment Classification:\")\n",
        "print(response)\n"
      ],
      "metadata": {
        "id": "FlO688UdU6jz",
        "colab": {
          "base_uri": "https://localhost:8080/"
        },
        "outputId": "75a69900-38b7-4216-ea62-c67e36f8e74b"
      },
      "execution_count": 12,
      "outputs": [
        {
          "output_type": "stream",
          "name": "stdout",
          "text": [
            "🏷️ Sentiment Classification:\n",
            "Review 1: POSITIVE - The review expresses strong enthusiasm and praise for the movie, highlighting the acting and engaging plot.  \n",
            "Review 2: NEGATIVE - The review clearly conveys dissatisfaction, describing the movie as boring and predictable, leading to a negative experience.  \n",
            "Review 3: NEUTRAL - The review presents a mixed sentiment, acknowledging some good moments but ultimately describing the movie as average without strong feelings.  \n",
            "Review 4: NEGATIVE - The review is overwhelmingly critical, pointing out multiple flaws such as poor dialogue and acting, indicating a very negative sentiment.  \n",
            "Review 5: POSITIVE - The review expresses high praise, calling the film a masterpiece and suggesting its lasting significance, indicating strong positive sentiment.\n"
          ]
        }
      ]
    },
    {
      "cell_type": "markdown",
      "source": [
        "# Exercise 5: Tables / JSON Output\n"
      ],
      "metadata": {
        "id": "5P6VmvMMU-PS"
      }
    },
    {
      "cell_type": "code",
      "source": [
        "# Part A: Table Format\n",
        "prompt = \"\"\"Create a comparison table for three types of renewable energy: Solar, Wind, and Hydroelectric.\n",
        "Compare them across these dimensions:\n",
        "- Initial cost (High/Medium/Low)\n",
        "- Maintenance requirements\n",
        "- Environmental impact\n",
        "- Reliability\n",
        "- Best suited locations\n",
        "\n",
        "Format as a clear table with proper headers.\"\"\"\n",
        "\n",
        "response = gpt_request(prompt)\n",
        "print(\"📊 Renewable Energy Comparison Table:\")\n",
        "print(response)\n"
      ],
      "metadata": {
        "id": "SCKtK-bOU_u8",
        "colab": {
          "base_uri": "https://localhost:8080/"
        },
        "outputId": "54af7a5c-ea9d-44c4-e2c8-5b4118cbff76"
      },
      "execution_count": 13,
      "outputs": [
        {
          "output_type": "stream",
          "name": "stdout",
          "text": [
            "📊 Renewable Energy Comparison Table:\n",
            "Here's a comparison table for Solar, Wind, and Hydroelectric energy across the specified dimensions:\n",
            "\n",
            "| Dimension              | Solar           | Wind             | Hydroelectric     |\n",
            "|------------------------|------------------|------------------|--------------------|\n",
            "| **Initial Cost**       | Medium           | Medium           | High               |\n",
            "| **Maintenance Requirements** | Low              | Medium           | Medium             |\n",
            "| **Environmental Impact**| Moderate         | Moderate         | High (local impact)|\n",
            "| **Reliability**        | High             | Medium           | High               |\n",
            "| **Best Suited Locations**| Sunny regions    | Open, windy areas | Near water bodies   |\n",
            "\n",
            "This table provides a concise comparison of the three renewable energy types based on the specified criteria.\n"
          ]
        }
      ]
    },
    {
      "cell_type": "code",
      "source": [
        "# Part B: JSON Format\n",
        "prompt = \"\"\"Generate a JSON object containing information about 5 programming languages.\n",
        "For each language include:\n",
        "- name\n",
        "- year_created\n",
        "- primary_use_case\n",
        "- difficulty_level (1-10 scale)\n",
        "- popular_frameworks (array of 2-3 frameworks)\n",
        "\n",
        "Ensure valid JSON format.\"\"\"\n",
        "\n",
        "response = gpt_request(prompt, temperature=0.3)  # Lower temperature for structured output\n",
        "print(\"🗂️ Programming Languages JSON:\")\n",
        "print(response)\n",
        "\n",
        "# Optional: Validate JSON\n",
        "try:\n",
        "    import json\n",
        "    parsed = json.loads(response)\n",
        "    print(\"\\n✅ Valid JSON format!\")\n",
        "except json.JSONDecodeError:\n",
        "    print(\"\\n❌ Invalid JSON format - needs fixing\")\n"
      ],
      "metadata": {
        "id": "Nln1L6ddVB45",
        "colab": {
          "base_uri": "https://localhost:8080/"
        },
        "outputId": "3400cdb1-2982-4ab9-946f-8f19e5cb6c77"
      },
      "execution_count": 14,
      "outputs": [
        {
          "output_type": "stream",
          "name": "stdout",
          "text": [
            "🗂️ Programming Languages JSON:\n",
            "```json\n",
            "{\n",
            "  \"programming_languages\": [\n",
            "    {\n",
            "      \"name\": \"Python\",\n",
            "      \"year_created\": 1991,\n",
            "      \"primary_use_case\": \"Web Development, Data Science, Automation\",\n",
            "      \"difficulty_level\": 3,\n",
            "      \"popular_frameworks\": [\"Django\", \"Flask\", \"Pandas\"]\n",
            "    },\n",
            "    {\n",
            "      \"name\": \"JavaScript\",\n",
            "      \"year_created\": 1995,\n",
            "      \"primary_use_case\": \"Web Development, Mobile Applications\",\n",
            "      \"difficulty_level\": 4,\n",
            "      \"popular_frameworks\": [\"React\", \"Angular\", \"Vue.js\"]\n",
            "    },\n",
            "    {\n",
            "      \"name\": \"Java\",\n",
            "      \"year_created\": 1995,\n",
            "      \"primary_use_case\": \"Enterprise Applications, Android Development\",\n",
            "      \"difficulty_level\": 6,\n",
            "      \"popular_frameworks\": [\"Spring\", \"Hibernate\", \"JavaServer Faces\"]\n",
            "    },\n",
            "    {\n",
            "      \"name\": \"C++\",\n",
            "      \"year_created\": 1985,\n",
            "      \"primary_use_case\": \"System Software, Game Development\",\n",
            "      \"difficulty_level\": 7,\n",
            "      \"popular_frameworks\": [\"Qt\", \"Boost\", \"Cinder\"]\n",
            "    },\n",
            "    {\n",
            "      \"name\": \"Ruby\",\n",
            "      \"year_created\": 1995,\n",
            "      \"primary_use_case\": \"Web Development, Prototyping\",\n",
            "      \"difficulty_level\": 5,\n",
            "      \"popular_frameworks\": [\"Ruby on Rails\", \"Sinatra\", \"Hanami\"]\n",
            "    }\n",
            "  ]\n",
            "}\n",
            "```\n",
            "\n",
            "❌ Invalid JSON format - needs fixing\n"
          ]
        }
      ]
    },
    {
      "cell_type": "markdown",
      "source": [
        "# Exercise 6: Evaluation / Comparison\n"
      ],
      "metadata": {
        "id": "JLGVEONLVEa3"
      }
    },
    {
      "cell_type": "code",
      "source": [
        "# Two explanations of the same concept\n",
        "explanation_1 = \"\"\"\n",
        "Photosynthesis is when plants use sunlight to make food. The green parts of plants, called chlorophyll,\n",
        "capture sunlight and use it along with water and carbon dioxide to create glucose, which is plant food.\n",
        "Oxygen is released as a waste product, which is lucky for us because we need oxygen to breathe.\n",
        "\"\"\"\n",
        "\n",
        "explanation_2 = \"\"\"\n",
        "Photosynthesis is a complex biochemical process where chloroplasts in plant cells convert light energy\n",
        "into chemical energy. The process involves light-dependent reactions in the thylakoids and the Calvin\n",
        "cycle in the stroma, ultimately producing glucose through carbon fixation while releasing oxygen as\n",
        "a byproduct of water photolysis.\n",
        "\"\"\"\n",
        "\n",
        "prompt = f\"\"\"Compare these two explanations of photosynthesis and evaluate them based on:\n",
        "1. Clarity and accessibility\n",
        "2. Scientific accuracy\n",
        "3. Appropriate audience level\n",
        "4. Completeness\n",
        "\n",
        "Explanation A:\n",
        "{explanation_1}\n",
        "\n",
        "Explanation B:\n",
        "{explanation_2}\n",
        "\n",
        "Provide a detailed analysis and recommendation for which explanation is better for different audiences.\"\"\"\n",
        "\n",
        "response = gpt_request(prompt)\n",
        "print(\"⚖️ Comparison Analysis:\")\n",
        "print(response)\n"
      ],
      "metadata": {
        "id": "QAd75bElVGS5",
        "colab": {
          "base_uri": "https://localhost:8080/"
        },
        "outputId": "04e84dac-ec18-41fc-e853-639379c3f35a"
      },
      "execution_count": 15,
      "outputs": [
        {
          "output_type": "stream",
          "name": "stdout",
          "text": [
            "⚖️ Comparison Analysis:\n",
            "### Analysis of Explanations\n",
            "\n",
            "#### Explanation A\n",
            "\n",
            "1. **Clarity and Accessibility**: \n",
            "   - **Strengths**: Explanation A is simple and straightforward. It uses everyday language that is easy to understand for a general audience, including children or people without a scientific background. The analogy of \"plant food\" and the mention of oxygen being beneficial for humans adds a relatable context.\n",
            "   - **Weaknesses**: While it is accessible, it lacks details that would provide a deeper understanding of the process.\n",
            "\n",
            "2. **Scientific Accuracy**: \n",
            "   - **Strengths**: The explanation accurately describes the basic process of photosynthesis, including the essential components (sunlight, water, carbon dioxide, and glucose) and the production of oxygen.\n",
            "   - **Weaknesses**: It oversimplifies the process by not mentioning the specific cellular structures involved (like chloroplasts) or the stages of photosynthesis (light-dependent reactions and Calvin cycle).\n",
            "\n",
            "3. **Appropriate Audience Level**: \n",
            "   - This explanation is suitable for younger students, casual learners, or individuals without a strong background in biology. It is designed for a broad audience that may be unfamiliar with more technical scientific terms.\n",
            "\n",
            "4. **Completeness**: \n",
            "   - The explanation covers the basic concept of photosynthesis but lacks depth. It does not explore the mechanisms involved or the significance of the process beyond the basic definition.\n",
            "\n",
            "#### Explanation B\n",
            "\n",
            "1. **Clarity and Accessibility**: \n",
            "   - **Strengths**: Explanation B provides a detailed breakdown of photosynthesis, using more technical language that might appeal to those with some background knowledge in biology.\n",
            "   - **Weaknesses**: The use of terms like \"biochemical process,\" \"thylakoids,\" \"Calvin cycle,\" and \"carbon fixation\" may be confusing for non-scientific audiences, making it less accessible.\n",
            "\n",
            "2. **Scientific Accuracy**: \n",
            "   - **Strengths**: It accurately describes the mechanisms involved in photosynthesis, including the roles of chloroplasts, light-dependent reactions, and the Calvin cycle. It correctly identifies the production of glucose and the release of oxygen as byproducts.\n",
            "   - **Weaknesses**: While scientifically accurate, it assumes prior knowledge of plant biology and biochemistry, which might not be present in all audiences.\n",
            "\n",
            "3. **Appropriate Audience Level**: \n",
            "   - This explanation is better suited for high school students, college students, or individuals in a scientific field. It assumes a certain level of understanding of biology, particularly cellular processes.\n",
            "\n",
            "4. **Completeness**: \n",
            "   - Explanation B is comprehensive, touching upon the specific reactions and processes involved in photosynthesis. It provides a more complete picture of the overall mechanism.\n",
            "\n",
            "### Recommendations for Different Audiences\n",
            "\n",
            "- **For Younger Students or General Public**: \n",
            "  - **Recommendation**: Use Explanation A. Its clarity and accessibility make it ideal for audiences with little to no background in biology. It introduces the concept in a friendly manner, linking it to everyday life.\n",
            "\n",
            "- **For High School or College Students**: \n",
            "  - **Recommendation**: Use Explanation B. This audience will benefit from the scientific accuracy and detail, allowing them to grasp the complexity of the photosynthesis process. It provides a foundation for further exploration in biology and biochemistry.\n",
            "\n",
            "- **For Science Enthusiasts or Professionals**: \n",
            "  - **Recommendation**: Explanation B would be more suitable here as it aligns with their existing knowledge and interest in the subject matter. \n",
            "\n",
            "In conclusion, both explanations serve their purposes depending on the audience, with Explanation A being more suitable for younger or less scientifically inclined individuals, and Explanation B being appropriate for more advanced learners.\n"
          ]
        }
      ]
    },
    {
      "cell_type": "code",
      "source": [
        "# Exercise 7: Advanced Prompt Engineering\n"
      ],
      "metadata": {
        "id": "XbWWm8FvVHgV"
      },
      "execution_count": null,
      "outputs": []
    },
    {
      "cell_type": "code",
      "source": [
        "# Test different temperature settings\n",
        "prompt = \"Write a creative opening line for a mystery novel.\"\n",
        "\n",
        "print(\"🌡️ Temperature Comparison:\")\n",
        "for temp in [0.1, 0.5, 0.9]:\n",
        "    response = gpt_request(prompt, temperature=temp)\n",
        "    print(f\"Temperature {temp}: {response}\\n\")\n",
        "\n",
        "# Test prompt specificity\n",
        "vague_prompt = \"Write about AI.\"\n",
        "specific_prompt = \"Write a 100-word explanation of how AI chatbots like GPT-4o-mini process and respond to user questions, aimed at high school students.\"\n",
        "\n",
        "print(\"🎯 Prompt Specificity Comparison:\")\n",
        "print(\"Vague prompt result:\")\n",
        "print(gpt_request(vague_prompt))\n",
        "print(\"\\nSpecific prompt result:\")\n",
        "print(gpt_request(specific_prompt))\n"
      ],
      "metadata": {
        "id": "j_Fzb1arVJYh",
        "colab": {
          "base_uri": "https://localhost:8080/"
        },
        "outputId": "a13b8c8a-4ed6-457b-ea69-162dac52356e"
      },
      "execution_count": 16,
      "outputs": [
        {
          "output_type": "stream",
          "name": "stdout",
          "text": [
            "🌡️ Temperature Comparison:\n",
            "Temperature 0.1: The fog rolled in like a whispered secret, cloaking the small town in shadows, but it was the sudden silence that hinted at the unspeakable truth lurking just beneath the surface.\n",
            "\n",
            "Temperature 0.5: As the clock struck midnight, the last breath of the town’s most notorious gossip echoed through the empty streets, leaving behind a riddle only the dead could solve.\n",
            "\n",
            "Temperature 0.9: The fog clung to the cobblestones like a secret yearning to be uncovered, as Amelia discovered the cryptic note tucked inside the hollow of an ancient oak, its ink still fresh with untold stories.\n",
            "\n",
            "🎯 Prompt Specificity Comparison:\n",
            "Vague prompt result:\n",
            "Artificial Intelligence (AI) is a branch of computer science focused on creating systems capable of performing tasks that typically require human intelligence. These tasks include problem-solving, understanding natural language, recognizing patterns, learning from experience, and making decisions. AI can be categorized into two main types: narrow AI and general AI.\n",
            "\n",
            "1. **Narrow AI**: Also known as weak AI, this type refers to systems designed and trained for specific tasks. Examples include virtual assistants like Siri and Alexa, recommendation algorithms used by streaming services, and image recognition software. Narrow AI excels in its designated area but lacks the ability to perform tasks beyond its programming.\n",
            "\n",
            "2. **General AI**: Also referred to as strong AI or AGI (Artificial General Intelligence), this concept envisions systems that possess the ability to understand, learn, and apply intelligence across a wide range of tasks, much like a human. While general AI remains largely theoretical and is a subject of ongoing research, achieving it would require significant advancements in understanding cognition and consciousness.\n",
            "\n",
            "### Key Technologies in AI\n",
            "\n",
            "- **Machine Learning (ML)**: A subset of AI that enables systems to learn from data and improve over time without being explicitly programmed. ML algorithms identify patterns in data and make predictions or decisions based on new inputs.\n",
            "\n",
            "- **Deep Learning**: A specialized area within machine learning that uses neural networks with many layers (hence \"deep\") to analyze various factors and make complex predictions. Deep learning has driven breakthroughs in fields like image and speech recognition.\n",
            "\n",
            "- **Natural Language Processing (NLP)**: This area focuses on the interaction between computers and humans through natural language. NLP enables machines to understand, interpret, and generate human language, allowing for applications like chatbots, language translation, and sentiment analysis.\n",
            "\n",
            "### Applications of AI\n",
            "\n",
            "AI has permeated various sectors, including:\n",
            "\n",
            "- **Healthcare**: AI systems are used for diagnosing diseases, personalizing treatment plans, and managing patient data. Tools like predictive analytics help in anticipating patient needs and improving operational efficiencies.\n",
            "\n",
            "- **Finance**: AI algorithms analyze market trends, detect fraud, and optimize investment strategies. Robo-advisors offer automated financial planning and portfolio management.\n",
            "\n",
            "- **Transportation**: Autonomous vehicles utilize AI to interpret sensory data and navigate safely. Traffic management systems leverage AI to optimize flow and reduce congestion.\n",
            "\n",
            "- **Customer Service**: Many companies deploy AI-powered chatbots to handle customer inquiries, provide support, and enhance user experience.\n",
            "\n",
            "### Ethical Considerations\n",
            "\n",
            "As AI continues to evolve, ethical concerns have emerged regarding its impact on society. Key issues include:\n",
            "\n",
            "- **Bias and Fairness**: AI systems can perpetuate and amplify existing biases present in training data, leading to unfair outcomes in areas like hiring, lending, and law enforcement.\n",
            "\n",
            "- **Privacy**: The use of AI often involves processing large amounts of personal data, raising concerns about user consent and data security.\n",
            "\n",
            "- **Job Displacement**: Automation driven by AI may lead to significant job losses in certain sectors, prompting discussions on reskilling the workforce and the future of work.\n",
            "\n",
            "- **Accountability**: As AI systems become more autonomous, questions arise about liability and accountability in decision-making processes, especially in critical areas like healthcare and criminal justice.\n",
            "\n",
            "### Conclusion\n",
            "\n",
            "AI has the potential to transform industries and improve the quality of life, but it also poses challenges that require careful consideration and proactive management. As research and development continue, fostering a balanced approach that maximizes benefits while addressing ethical concerns will be essential in shaping a future where AI contributes positively to society.\n",
            "\n",
            "Specific prompt result:\n",
            "AI chatbots like GPT-4o-mini process user questions by using complex algorithms and vast amounts of data. When you ask a question, the chatbot breaks it down to understand the meaning and context. It then searches through its training data, which includes books, articles, and conversations, to find relevant information. After analyzing this data, the chatbot generates a response that aims to be informative and coherent. It learns from interactions to improve over time, ensuring better responses in the future. Essentially, it mimics human conversation by predicting what a helpful answer would be based on patterns it has learned.\n"
          ]
        }
      ]
    },
    {
      "cell_type": "markdown",
      "source": [
        "# Student Reflection Questions\n"
      ],
      "metadata": {
        "id": "qPL9wlIbVIoL"
      }
    },
    {
      "cell_type": "code",
      "source": [
        "reflection_prompts = [\n",
        "    \"Which type of output (text, code, JSON, etc.) did GPT-4o-mini handle best? Why do you think that is?\",\n",
        "    \"How did changing the temperature setting affect the creativity vs consistency of outputs?\",\n",
        "    \"What did you notice about the importance of prompt specificity?\",\n",
        "    \"Which exercise taught you the most about effective prompt engineering?\"\n",
        "]\n",
        "\n",
        "print(\"🤔 Reflection Questions:\")\n",
        "for i, question in enumerate(reflection_prompts, 1):\n",
        "    print(f\"{i}. {question}\")\n",
        "    print(\"   Your answer: ________________\\n\")\n"
      ],
      "metadata": {
        "id": "kmMq1IQIVOIa",
        "colab": {
          "base_uri": "https://localhost:8080/"
        },
        "outputId": "20c8e919-07ce-4247-f5b8-b2c7d25cef80"
      },
      "execution_count": 17,
      "outputs": [
        {
          "output_type": "stream",
          "name": "stdout",
          "text": [
            "🤔 Reflection Questions:\n",
            "1. Which type of output (text, code, JSON, etc.) did GPT-4o-mini handle best? Why do you think that is?\n",
            "   Your answer: ________________\n",
            "\n",
            "2. How did changing the temperature setting affect the creativity vs consistency of outputs?\n",
            "   Your answer: ________________\n",
            "\n",
            "3. What did you notice about the importance of prompt specificity?\n",
            "   Your answer: ________________\n",
            "\n",
            "4. Which exercise taught you the most about effective prompt engineering?\n",
            "   Your answer: ________________\n",
            "\n"
          ]
        }
      ]
    },
    {
      "cell_type": "markdown",
      "source": [
        "# Bonus Challenge\n"
      ],
      "metadata": {
        "id": "0eVdMr8RVQnO"
      }
    },
    {
      "cell_type": "code",
      "source": [
        "# Create a prompt that generates multiple output types in one response\n",
        "challenge_prompt = \"\"\"Create a mini lesson plan about climate change that includes:\n",
        "1. A brief explanation (50 words)\n",
        "2. Python code to calculate carbon footprint\n",
        "3. A JSON object with 3 climate facts\n",
        "4. A classification of 3 human activities as High/Medium/Low carbon impact\n",
        "\n",
        "Format each section clearly with headers.\"\"\"\n",
        "\n",
        "response = gpt_request(challenge_prompt, temperature=0.5)\n",
        "print(\"🏆 Multi-format Challenge:\")\n",
        "print(response)"
      ],
      "metadata": {
        "id": "DAhnS6OxVTth",
        "colab": {
          "base_uri": "https://localhost:8080/"
        },
        "outputId": "b4aa48a5-eb80-4954-d2cc-d9e4cc9fc6cc"
      },
      "execution_count": 18,
      "outputs": [
        {
          "output_type": "stream",
          "name": "stdout",
          "text": [
            "🏆 Multi-format Challenge:\n",
            "# Mini Lesson Plan: Understanding Climate Change\n",
            "\n",
            "## 1. Brief Explanation\n",
            "Climate change refers to significant alterations in global temperatures and weather patterns over time. While natural processes contribute, human activities, particularly the burning of fossil fuels, deforestation, and industrial processes, have accelerated these changes, leading to severe environmental impacts, including extreme weather events and rising sea levels.\n",
            "\n",
            "## 2. Python Code to Calculate Carbon Footprint\n",
            "```python\n",
            "def calculate_carbon_footprint(miles_driven, fuel_efficiency):\n",
            "    # Average CO2 emissions per gallon of gasoline\n",
            "    CO2_per_gallon = 19.6  # in pounds\n",
            "    gallons_used = miles_driven / fuel_efficiency\n",
            "    carbon_footprint = gallons_used * CO2_per_gallon\n",
            "    return carbon_footprint\n",
            "\n",
            "# Example usage:\n",
            "miles = 1000  # miles driven\n",
            "efficiency = 25  # miles per gallon\n",
            "footprint = calculate_carbon_footprint(miles, efficiency)\n",
            "print(f\"Carbon Footprint for {miles} miles: {footprint} pounds of CO2\")\n",
            "```\n",
            "\n",
            "## 3. JSON Object with 3 Climate Facts\n",
            "```json\n",
            "{\n",
            "  \"climate_facts\": [\n",
            "    {\n",
            "      \"fact\": \"The Earth's average temperature has risen by about 1.2°C since the late 19th century.\",\n",
            "      \"source\": \"NASA\"\n",
            "    },\n",
            "    {\n",
            "      \"fact\": \"CO2 levels in the atmosphere have increased by over 40% since the Industrial Revolution.\",\n",
            "      \"source\": \"NOAA\"\n",
            "    },\n",
            "    {\n",
            "      \"fact\": \"Climate change is expected to increase the frequency and intensity of extreme weather events.\",\n",
            "      \"source\": \"IPCC\"\n",
            "    }\n",
            "  ]\n",
            "}\n",
            "```\n",
            "\n",
            "## 4. Classification of Human Activities as High/Medium/Low Carbon Impact\n",
            "- **High Carbon Impact:**\n",
            "  - Burning fossil fuels for electricity and heat\n",
            "  - Deforestation for agriculture and urban development\n",
            "  - Air travel\n",
            "\n",
            "- **Medium Carbon Impact:**\n",
            "  - Driving gasoline-powered vehicles\n",
            "  - Industrial manufacturing processes\n",
            "  - Agricultural practices (e.g., livestock farming)\n",
            "\n",
            "- **Low Carbon Impact:**\n",
            "  - Recycling and waste management\n",
            "  - Using public transportation\n",
            "  - Energy-efficient appliances and practices\n"
          ]
        }
      ]
    },
    {
      "cell_type": "code",
      "source": [
        "# Create a prompt that generates multiple output types in one response\n",
        "challenge_prompt = \"\"\"Create fresher level coding questions for python that includes:\n",
        "1. Answers of the question\n",
        "2. Different approaches to solve the question\n",
        "3. Random facts about the question\n",
        "4. Best practices for solving the question\n",
        "\n",
        "Format each section clearly with headers.\"\"\"\n",
        "\n",
        "response = gpt_request(challenge_prompt, temperature=0.5)\n",
        "print(\"🏆 Multi-format Challenge:\")\n",
        "print(response)"
      ],
      "metadata": {
        "colab": {
          "base_uri": "https://localhost:8080/"
        },
        "id": "KEXJfgBcp5MA",
        "outputId": "d6db4f1d-510e-4d4c-8b4f-5f56d6ea938f"
      },
      "execution_count": 19,
      "outputs": [
        {
          "output_type": "stream",
          "name": "stdout",
          "text": [
            "🏆 Multi-format Challenge:\n",
            "Sure! Here’s a set of fresh beginner-level coding questions for Python, complete with answers, different approaches, interesting facts, and best practices.\n",
            "\n",
            "---\n",
            "\n",
            "### Question 1: Reverse a String\n",
            "\n",
            "**Problem Statement:**  \n",
            "Write a function `reverse_string(s)` that takes a string `s` and returns the string reversed.\n",
            "\n",
            "#### Answer:\n",
            "```python\n",
            "def reverse_string(s):\n",
            "    return s[::-1]\n",
            "```\n",
            "\n",
            "#### Different Approaches:\n",
            "1. **Using Slicing:**  \n",
            "   The simplest way to reverse a string in Python.\n",
            "   ```python\n",
            "   def reverse_string(s):\n",
            "       return s[::-1]\n",
            "   ```\n",
            "\n",
            "2. **Using a Loop:**  \n",
            "   Build the reversed string character by character.\n",
            "   ```python\n",
            "   def reverse_string(s):\n",
            "       reversed_str = \"\"\n",
            "       for char in s:\n",
            "           reversed_str = char + reversed_str\n",
            "       return reversed_str\n",
            "   ```\n",
            "\n",
            "3. **Using the `reversed()` Function:**  \n",
            "   Utilize Python's built-in `reversed()` function and join the characters.\n",
            "   ```python\n",
            "   def reverse_string(s):\n",
            "       return ''.join(reversed(s))\n",
            "   ```\n",
            "\n",
            "#### Random Facts:\n",
            "- The slicing method `s[::-1]` is one of the most Pythonic ways to reverse a string and is highly efficient.\n",
            "- Strings in Python are immutable, meaning they cannot be changed after creation.\n",
            "\n",
            "#### Best Practices:\n",
            "- Always consider edge cases, such as empty strings or single-character strings.\n",
            "- Use clear variable names and keep the function focused on a single task for better readability.\n",
            "\n",
            "---\n",
            "\n",
            "### Question 2: Check for Palindrome\n",
            "\n",
            "**Problem Statement:**  \n",
            "Write a function `is_palindrome(s)` that checks if a given string `s` is a palindrome (reads the same forwards and backwards).\n",
            "\n",
            "#### Answer:\n",
            "```python\n",
            "def is_palindrome(s):\n",
            "    return s == s[::-1]\n",
            "```\n",
            "\n",
            "#### Different Approaches:\n",
            "1. **Using Slicing:**  \n",
            "   Simple and efficient.\n",
            "   ```python\n",
            "   def is_palindrome(s):\n",
            "       return s == s[::-1]\n",
            "   ```\n",
            "\n",
            "2. **Two-Pointer Technique:**  \n",
            "   Compare characters from both ends of the string.\n",
            "   ```python\n",
            "   def is_palindrome(s):\n",
            "       left, right = 0, len(s) - 1\n",
            "       while left < right:\n",
            "           if s[left] != s[right]:\n",
            "               return False\n",
            "           left += 1\n",
            "           right -= 1\n",
            "       return True\n",
            "   ```\n",
            "\n",
            "3. **Using the `reversed()` Function:**  \n",
            "   Similar to the first approach but uses `reversed()`.\n",
            "   ```python\n",
            "   def is_palindrome(s):\n",
            "       return s == ''.join(reversed(s))\n",
            "   ```\n",
            "\n",
            "#### Random Facts:\n",
            "- The word \"palindrome\" comes from the Greek words \"palin\" (again) and \"dromos\" (way, direction).\n",
            "- Common examples of palindromes include words like \"radar\" and phrases like \"A man, a plan, a canal, Panama!\"\n",
            "\n",
            "#### Best Practices:\n",
            "- Normalize the string by removing spaces and punctuation for a more robust palindrome check.\n",
            "- Consider case sensitivity and use `s.lower()` for case-insensitive checks.\n",
            "\n",
            "---\n",
            "\n",
            "### Question 3: FizzBuzz Problem\n",
            "\n",
            "**Problem Statement:**  \n",
            "Write a function `fizzbuzz(n)` that prints the numbers from 1 to `n`. For multiples of three, print \"Fizz\" instead of the number, and for the multiples of five, print \"Buzz\". For numbers which are multiples of both three and five, print \"FizzBuzz\".\n",
            "\n",
            "#### Answer:\n",
            "```python\n",
            "def fizzbuzz(n):\n",
            "    for i in range(1, n + 1):\n",
            "        if i % 3 == 0 and i % 5 == 0:\n",
            "            print(\"FizzBuzz\")\n",
            "        elif i % 3 == 0:\n",
            "            print(\"Fizz\")\n",
            "        elif i % 5 == 0:\n",
            "            print(\"Buzz\")\n",
            "        else:\n",
            "            print(i)\n",
            "```\n",
            "\n",
            "#### Different Approaches:\n",
            "1. **Using a Loop:**  \n",
            "   The straightforward approach using a loop.\n",
            "   ```python\n",
            "   def fizzbuzz(n):\n",
            "       for i in range(1, n + 1):\n",
            "           if i % 3 == 0 and i % 5 == 0:\n",
            "               print(\"FizzBuzz\")\n",
            "           elif i % 3 == 0:\n",
            "               print(\"Fizz\")\n",
            "           elif i % 5 == 0:\n",
            "               print(\"Buzz\")\n",
            "           else:\n",
            "               print(i)\n",
            "   ```\n",
            "\n",
            "2. **Using List Comprehension:**  \n",
            "   Return a list of results instead of printing.\n",
            "   ```python\n",
            "   def fizzbuzz(n):\n",
            "       return [\"FizzBuzz\" if i % 3 == 0 and i % 5 == 0 else \"Fizz\" if i % 3 == 0 else \"Buzz\" if i % 5 == 0\n"
          ]
        }
      ]
    }
  ],
  "metadata": {
    "colab": {
      "name": "Welcome to Colab",
      "provenance": [],
      "include_colab_link": true
    },
    "kernelspec": {
      "display_name": "Python 3",
      "name": "python3"
    }
  },
  "nbformat": 4,
  "nbformat_minor": 0
}