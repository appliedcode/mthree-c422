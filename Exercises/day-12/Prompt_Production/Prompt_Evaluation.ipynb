{
  "cells": [
    {
      "cell_type": "markdown",
      "metadata": {
        "id": "view-in-github",
        "colab_type": "text"
      },
      "source": [
        "<a href=\"https://colab.research.google.com/github/appliedcode/mthree-c422/blob/mthree-c422-dipti/Exercises/day-12/Prompt_Production/Prompt_Evaluation.ipynb\" target=\"_parent\"><img src=\"https://colab.research.google.com/assets/colab-badge.svg\" alt=\"Open In Colab\"/></a>"
      ]
    },
    {
      "cell_type": "markdown",
      "source": [
        "# Lab Exercises: Integrating Prompts \\& Measuring Prompt Performance\n",
        "\n",
        "\n",
        "***\n",
        "\n",
        "### Setup:\n",
        "\n",
        "- Use OpenAI API or any language model API accessible in your Colab.\n",
        "- If API keys are needed, ensure they are safely added as environment variables or input by the user."
      ],
      "metadata": {
        "id": "eq4qKCdSNSko"
      }
    },
    {
      "cell_type": "code",
      "source": [
        "from google.colab import userdata\n",
        "import os\n",
        "\n",
        "# Set your OpenAI API key securely in Colab Secrets (once)\n",
        "# userdata.set(\"OPENAI_API_KEY\", \"your-api-key-here\")\n",
        "\n",
        "# Retrieve key in your notebook\n",
        "openai_api_key = userdata.get(\"OPENAI_API_KEY\")\n",
        "if openai_api_key:\n",
        "    os.environ[\"OPENAI_API_KEY\"] = openai_api_key\n",
        "    print(\"✅ OpenAI API key loaded safely\")\n",
        "else:\n",
        "    print(\"❌ OpenAI API key not found. Please set it using Colab Secrets.\")"
      ],
      "metadata": {
        "colab": {
          "base_uri": "https://localhost:8080/"
        },
        "id": "2YMRqyRCNGmo",
        "outputId": "56690d35-0ede-4939-89fb-78660be9ec70"
      },
      "execution_count": 1,
      "outputs": [
        {
          "output_type": "stream",
          "name": "stdout",
          "text": [
            "✅ OpenAI API key loaded safely\n"
          ]
        }
      ]
    },
    {
      "cell_type": "code",
      "source": [
        "\n",
        "!pip install --quiet openai -q\n",
        "# Create client\n",
        "from openai import OpenAI\n",
        "client = OpenAI(api_key=os.environ[\"OPENAI_API_KEY\"])"
      ],
      "metadata": {
        "id": "9qrFrzlcPI1n"
      },
      "execution_count": 2,
      "outputs": []
    },
    {
      "cell_type": "code",
      "source": [
        "# Helper Function to Send Prompts\n",
        "def generate_response(prompt, model=\"gpt-4o-mini\", temperature=0.7):\n",
        "    \"\"\"\n",
        "    Send a prompt to the OpenAI model and return the response text.\n",
        "    \"\"\"\n",
        "    try:\n",
        "        completion = client.chat.completions.create(\n",
        "            model=model,\n",
        "            messages=[{\"role\": \"user\", \"content\": prompt}],\n",
        "            temperature=temperature\n",
        "        )\n",
        "        return completion.choices[0].message.content.strip()\n",
        "    except Exception as e:\n",
        "        return f\"Error: {e}\"\n"
      ],
      "metadata": {
        "id": "AieFziFDTcuy"
      },
      "execution_count": 3,
      "outputs": []
    },
    {
      "cell_type": "markdown",
      "source": [
        "***\n",
        "\n",
        "# Exercise 1: Integrating Prompts in Applications and Pipelines\n",
        "\n",
        "**Objective:** Learn how to integrate prompts into application workflows with versioning, automated testing, and CI/CD principles.\n",
        "\n",
        "**Tasks:**\n",
        "\n",
        "1. **Simulate prompt versioning:**\n",
        "    - Create two versions of a prompt for a customer support chatbot (e.g., one generic, one with explicit instructions).\n",
        "    - Store them as Python strings and switch between them in your code."
      ],
      "metadata": {
        "id": "u9GORkRefi-c"
      }
    },
    {
      "cell_type": "code",
      "source": [
        "prompt_v1 = \"Answer customer queries about returns.\"\n",
        "prompt_v2 = \"You are a helpful assistant answering customer return questions clearly and politely.\"\n",
        "\n",
        "# Use either version\n",
        "prompt = prompt_v2\n",
        "\n",
        "response = generate_response(prompt + \"\\nCustomer: How do I return a product?\")\n",
        "print(response)"
      ],
      "metadata": {
        "id": "dpcx6QvsfkxP",
        "colab": {
          "base_uri": "https://localhost:8080/"
        },
        "outputId": "ad65087c-c7b8-4a78-ed87-61b98406fd69"
      },
      "execution_count": 4,
      "outputs": [
        {
          "output_type": "stream",
          "name": "stdout",
          "text": [
            "Thank you for reaching out! To return a product, please follow these steps:\n",
            "\n",
            "1. **Check the Return Policy**: First, review our return policy to ensure your item is eligible for a return. \n",
            "\n",
            "2. **Prepare the Item**: Make sure the item is in its original condition, including packaging, tags, and accessories. \n",
            "\n",
            "3. **Request a Return Authorization**: If required, please contact our customer service team or log into your account to request a return authorization.\n",
            "\n",
            "4. **Package the Item**: Carefully pack the item to prevent damage during shipping. \n",
            "\n",
            "5. **Ship the Item**: Use the return shipping label provided (if applicable) to send the item back to us. Make sure to keep a copy of the tracking number for your records.\n",
            "\n",
            "6. **Refund Process**: Once we receive the returned item, we’ll process your refund according to our policy.\n",
            "\n",
            "If you have any specific questions or need assistance with the return process, feel free to ask!\n"
          ]
        }
      ]
    },
    {
      "cell_type": "markdown",
      "source": [
        "2. **Build a simple automated prompt test:**\n",
        "    - Write a small function that runs a set of input prompts through your prompt versions.\n",
        "    - Checks if responses include key expected phrases (e.g., \"return policy\", \"contact support\").\n",
        "    - Output pass/fail for each test."
      ],
      "metadata": {
        "id": "8Fsjj2aofmQ1"
      }
    },
    {
      "cell_type": "code",
      "source": [
        "test_inputs = [\n",
        "    \"How do I return my purchase?\",\n",
        "    \"What is the refund policy?\"\n",
        "]\n",
        "expected_keywords = [\"return policy\", \"contact support\"]\n",
        "\n",
        "def test_prompt(prompt):\n",
        "    print(f\"Testing prompt:\\n{prompt}\\n\")\n",
        "    for input_text in test_inputs:\n",
        "        response = generate_response(prompt + \"\\nCustomer: \" + input_text)\n",
        "        print(f\"Input: {input_text}\\nResponse: {response}\\n\")\n",
        "        passed = all(keyword in response.lower() for keyword in expected_keywords)\n",
        "        print(\"Pass\" if passed else \"Fail\", \"\\n\")\n",
        "\n",
        "# Test both versions\n",
        "test_prompt(prompt_v1)\n",
        "test_prompt(prompt_v2)"
      ],
      "metadata": {
        "id": "AU2L4Da7fn13",
        "colab": {
          "base_uri": "https://localhost:8080/"
        },
        "outputId": "6f5258d9-15c5-4d4c-cced-a0d6bb719ac3"
      },
      "execution_count": 5,
      "outputs": [
        {
          "output_type": "stream",
          "name": "stdout",
          "text": [
            "Testing prompt:\n",
            "Answer customer queries about returns.\n",
            "\n",
            "Input: How do I return my purchase?\n",
            "Response: To return your purchase, please follow these steps:\n",
            "\n",
            "1. **Review the Return Policy**: Check our return policy to ensure your item is eligible for a return. Items typically need to be returned within a specified timeframe and in their original condition.\n",
            "\n",
            "2. **Prepare Your Item**: Repack the item securely in its original packaging, if possible. Make sure to include all accessories, manuals, and any other items that came with it.\n",
            "\n",
            "3. **Obtain a Return Authorization**: Depending on our policy, you may need to request a return authorization. You can usually do this through our website or by contacting customer service.\n",
            "\n",
            "4. **Print the Return Label**: If a return label is provided, print it out. If you're responsible for shipping costs, you can choose your preferred shipping method.\n",
            "\n",
            "5. **Ship the Item**: Attach the return label to the package and ship it to the designated return address. Keep the tracking number for your records.\n",
            "\n",
            "6. **Track Your Return**: You can track the return shipment to ensure it reaches us. \n",
            "\n",
            "7. **Refund Process**: Once we receive and process your return, we will issue a refund to your original payment method, which may take a few days to reflect in your account.\n",
            "\n",
            "If you have any specific questions about your order or need further assistance, please let us know!\n",
            "\n",
            "Fail \n",
            "\n",
            "Input: What is the refund policy?\n",
            "Response: Our refund policy allows you to return items within 30 days of purchase for a full refund, provided they are in their original condition and packaging. Please ensure that you have your receipt or proof of purchase. Some items may be subject to specific return conditions, so it's always a good idea to check the details for those products. If you have any further questions or need assistance with the return process, feel free to ask!\n",
            "\n",
            "Fail \n",
            "\n",
            "Testing prompt:\n",
            "You are a helpful assistant answering customer return questions clearly and politely.\n",
            "\n",
            "Input: How do I return my purchase?\n",
            "Response: Thank you for reaching out! To return your purchase, please follow these steps:\n",
            "\n",
            "1. **Check the Return Policy**: Make sure your item is eligible for return by reviewing our return policy on our website.\n",
            "\n",
            "2. **Prepare Your Item**: Ensure the item is in its original condition, including packaging, tags, and any accessories.\n",
            "\n",
            "3. **Complete the Return Form**: If included with your order, fill out the return form. If you don't have it, you can usually find a printable version on our website.\n",
            "\n",
            "4. **Pack Your Return**: Carefully pack the item in its original packaging or a secure box to prevent damage during shipping.\n",
            "\n",
            "5. **Shipping Label**: If we provide a prepaid return shipping label, please attach it to your package. If not, you may need to cover the shipping cost.\n",
            "\n",
            "6. **Send It Back**: Drop off your package at the designated shipping location.\n",
            "\n",
            "7. **Track Your Return**: Keep the tracking number for your records.\n",
            "\n",
            "Once we receive your return, we will process your refund or exchange according to our policy.\n",
            "\n",
            "If you have any further questions or need assistance, please let me know!\n",
            "\n",
            "Fail \n",
            "\n",
            "Input: What is the refund policy?\n",
            "Response: Thank you for your question! Our refund policy allows you to return items within 30 days of purchase for a full refund, provided that they are in their original condition and packaging. To initiate a return, please visit our website or contact our customer service team for assistance. If you have any specific items in mind or need further details, feel free to ask!\n",
            "\n",
            "Fail \n",
            "\n"
          ]
        }
      ]
    },
    {
      "cell_type": "markdown",
      "source": [
        "3. **Discuss integration with CI/CD:**\n",
        "    - Outline how this kind of automated prompt testing can be triggered on every prompt update in a CI/CD pipeline to ensure prompt quality before deployment.\n",
        "    - Optionally, simulate prompt update by changing the prompt string and re-running tests.\n",
        "\n",
        "***\n",
        "\n",
        "# Exercise 2: Prompt Performance Measurement and Evaluation\n",
        "\n",
        "**Objective:** Measure prompt quality using key metrics and understand how to evaluate and improve prompts systematically.\n",
        "\n",
        "**Tasks:**\n",
        "\n",
        "1. **Define and implement simple metrics:**\n",
        "    - For each prompt response, measure:\n",
        "        - **Relevance**: Does the response include certain keywords or meet a relevance criterion?\n",
        "        - **Length**: Count the number of words or tokens.\n",
        "        - **Consistency**: Run the same prompt multiple times and compare responses for similarity (string match or cosine similarity using embeddings if available).\n",
        "\n",
        "Example:"
      ],
      "metadata": {
        "id": "6OGS4DosfpWI"
      }
    },
    {
      "cell_type": "code",
      "source": [
        "import difflib\n",
        "\n",
        "prompt = \"Explain the benefits of renewable energy.\"\n",
        "\n",
        "# Run same prompt 3 times\n",
        "responses = [generate_response(prompt) for _ in range(3)]\n",
        "\n",
        "print(\"Responses:\")\n",
        "for i, resp in enumerate(responses):\n",
        "    print(f\"Run {i+1}: {resp}\\n\")\n",
        "\n",
        "# Simple consistency check: ratio of similarity between runs 1 and 2\n",
        "similarity = difflib.SequenceMatcher(None, responses[0], responses[1]).ratio()\n",
        "print(f\"Similarity between first two runs: {similarity:.2f}\")"
      ],
      "metadata": {
        "id": "GDs4-cpifvsN",
        "colab": {
          "base_uri": "https://localhost:8080/"
        },
        "outputId": "45a10c44-5f1a-40d7-9e36-22ea8f3eabf6"
      },
      "execution_count": 7,
      "outputs": [
        {
          "output_type": "stream",
          "name": "stdout",
          "text": [
            "Responses:\n",
            "Run 1: Renewable energy offers a wide range of benefits that can positively impact the environment, economy, and society. Here are some key advantages:\n",
            "\n",
            "1. **Environmental Benefits**:\n",
            "   - **Reduced Greenhouse Gas Emissions**: Renewable energy sources, such as solar, wind, and hydro, produce little to no greenhouse gases during operation. This helps combat climate change and reduces air pollution.\n",
            "   - **Lower Air and Water Pollution**: By minimizing reliance on fossil fuels, renewable energy reduces harmful emissions that contribute to air and water pollution, leading to improved public health and ecosystems.\n",
            "   - **Sustainable Resource Use**: Renewable energy sources are naturally replenished, ensuring a sustainable and long-term energy supply without depleting natural resources.\n",
            "\n",
            "2. **Economic Benefits**:\n",
            "   - **Job Creation**: The renewable energy sector is labor-intensive, which means it creates a significant number of jobs in manufacturing, installation, maintenance, and research and development.\n",
            "   - **Energy Independence**: Investing in domestic renewable energy reduces dependence on imported fuels, enhancing energy security and stabilizing local economies.\n",
            "   - **Stable Energy Prices**: Renewable energy technologies often have lower operational costs and are less susceptible to market fluctuations compared to fossil fuels, leading to more stable energy prices over time.\n",
            "\n",
            "3. **Social Benefits**:\n",
            "   - **Energy Access**: Renewable energy can be deployed in remote and rural areas, providing electricity to communities that are not connected to traditional energy grids. This can improve quality of life and promote economic development.\n",
            "   - **Public Health**: By reducing air and water pollution, renewable energy contributes to better health outcomes, decreasing healthcare costs associated with pollution-related illnesses.\n",
            "   - **Community Resilience**: Local renewable energy projects can empower communities, giving them greater control over their energy sources and fostering local economies.\n",
            "\n",
            "4. **Technological Advancements**:\n",
            "   - **Innovation**: The renewable energy sector is a hub for innovation, leading to advancements in technology that can improve efficiency and reduce costs over time.\n",
            "   - **Grid Modernization**: The integration of renewable energy sources encourages the development of smarter, more resilient energy grids that can accommodate a variety of energy inputs and enhance overall energy efficiency.\n",
            "\n",
            "5. **Global Leadership and Competitiveness**:\n",
            "   - **Positioning for the Future**: Countries that invest in renewable energy technologies position themselves as leaders in a growing global market, attracting investments and fostering international collaborations.\n",
            "\n",
            "6. **Mitigation of Climate Change**:\n",
            "   - **Adaptation Strategies**: By reducing reliance on fossil fuels, renewable energy plays a crucial role in strategies to mitigate climate change impacts, helping to protect ecosystems and vulnerable communities.\n",
            "\n",
            "In summary, transitioning to renewable energy sources not only addresses environmental concerns but also promotes economic growth, enhances energy security, and improves public health and social equity. As technology continues to evolve and costs decrease, the benefits of renewable energy are expected to grow even further.\n",
            "\n",
            "Run 2: Renewable energy offers a multitude of benefits that contribute to environmental sustainability, economic growth, and energy security. Here are some of the key advantages:\n",
            "\n",
            "1. **Environmental Benefits**:\n",
            "   - **Reduced Greenhouse Gas Emissions**: Renewable energy sources, such as solar, wind, and hydro, produce little to no greenhouse gas emissions during operation, helping to mitigate climate change.\n",
            "   - **Lower Air Pollution**: By reducing reliance on fossil fuels, renewable energy decreases air pollutants that contribute to respiratory diseases and environmental degradation.\n",
            "   - **Sustainable Resource Use**: Unlike fossil fuels, which are finite, renewable energy sources are abundant and can be replenished naturally.\n",
            "\n",
            "2. **Economic Benefits**:\n",
            "   - **Job Creation**: The renewable energy sector creates jobs in manufacturing, installation, maintenance, and research and development. Jobs in renewable energy are often more resilient to economic downturns.\n",
            "   - **Energy Independence**: By investing in domestic renewable energy sources, countries can reduce their dependence on imported fuels, enhancing energy security and stabilizing energy prices.\n",
            "   - **Cost-Effectiveness**: The cost of renewable energy technologies, particularly solar and wind, has decreased significantly over the past decade, making them competitive with traditional fossil fuels.\n",
            "\n",
            "3. **Energy Security**:\n",
            "   - **Diversified Energy Supply**: Utilizing a mix of renewable energy sources reduces vulnerability to supply disruptions and market volatility associated with fossil fuels.\n",
            "   - **Resilience to Climate Change**: Renewable energy systems can be more adaptable to changing climate conditions and can be deployed in a decentralized manner, enhancing resilience against extreme weather events.\n",
            "\n",
            "4. **Social Benefits**:\n",
            "   - **Improved Public Health**: By reducing air and water pollution, renewable energy can lead to better public health outcomes and lower healthcare costs.\n",
            "   - **Community Development**: Many renewable energy projects are community-driven, providing local benefits and fostering community engagement and investment.\n",
            "\n",
            "5. **Technological Advancements**:\n",
            "   - **Innovation**: The renewable energy sector drives technological advancements and innovations, leading to more efficient energy solutions and smart grid technologies.\n",
            "\n",
            "6. **Long-term Sustainability**:\n",
            "   - **Resource Availability**: Renewable energy sources, such as sunlight, wind, and geothermal heat, are abundant and widely available, ensuring a more sustainable energy future.\n",
            "\n",
            "7. **Global Leadership**:\n",
            "   - **International Cooperation**: Transitioning to renewable energy can foster international collaboration on technology sharing and climate action, positioning countries as leaders in the global effort to combat climate change.\n",
            "\n",
            "In summary, the transition to renewable energy not only supports environmental sustainability but also contributes to economic growth, job creation, energy security, and improved public health, making it a crucial aspect of modern energy policy and planning.\n",
            "\n",
            "Run 3: Renewable energy offers numerous benefits that contribute to environmental sustainability, economic growth, and energy security. Here are some key advantages:\n",
            "\n",
            "1. **Environmental Protection**: Renewable energy sources, such as solar, wind, and hydro, produce little to no greenhouse gas emissions during operation. This helps mitigate climate change and reduces air and water pollution, protecting ecosystems and public health.\n",
            "\n",
            "2. **Sustainable Resource Use**: Unlike fossil fuels, which are finite and will eventually deplete, renewable energy sources are abundant and sustainable. Solar and wind energy, for example, are virtually inexhaustible on a human timescale.\n",
            "\n",
            "3. **Energy Independence**: By investing in renewable energy, countries can reduce their dependence on imported fossil fuels. This enhances energy security and stability, as it lessens vulnerability to geopolitical tensions and price fluctuations in global energy markets.\n",
            "\n",
            "4. **Job Creation**: The renewable energy sector is labor-intensive, meaning it creates a significant number of jobs in manufacturing, installation, maintenance, and related fields. This can stimulate local economies and provide employment opportunities, particularly in rural areas.\n",
            "\n",
            "5. **Economic Growth**: Investments in renewable energy technologies can drive innovation and stimulate economic growth. The sector attracts investments, fosters new businesses, and can lead to lower energy costs over time, contributing to overall economic resilience.\n",
            "\n",
            "6. **Energy Access**: Renewable energy can be deployed in remote and underserved areas, providing electricity to communities that lack access to traditional energy infrastructure. Off-grid solar systems, for example, can empower rural populations and improve quality of life.\n",
            "\n",
            "7. **Grid Resilience**: A diversified energy portfolio that includes renewables can enhance the resilience of power grids. Distributed energy resources can reduce vulnerability to outages and disruptions caused by extreme weather events or other emergencies.\n",
            "\n",
            "8. **Technological Advancements**: The renewable energy sector is characterized by rapid technological progress. Innovations in energy storage, smart grids, and efficiency improvements continue to enhance the viability and effectiveness of renewable solutions.\n",
            "\n",
            "9. **Public Support and Demand**: There is a growing consumer demand for clean energy solutions. Public awareness of climate change and environmental issues has led to increased support for renewable energy initiatives at local, national, and international levels.\n",
            "\n",
            "10. **Long-term Cost Savings**: While the initial investment in renewable energy infrastructure can be high, the long-term operational costs are often lower than fossil fuels. Many renewable energy sources have low maintenance costs and can lead to decreased energy bills for consumers.\n",
            "\n",
            "In summary, the transition to renewable energy offers a pathway toward a more sustainable, secure, and economically viable energy future, benefiting both the environment and society as a whole.\n",
            "\n",
            "Similarity between first two runs: 0.29\n"
          ]
        }
      ]
    },
    {
      "cell_type": "markdown",
      "source": [
        "2. **Automated evaluation function:**\n",
        "    - Build a function that takes a prompt and expected keywords (or a reference text) and computes pass/fail or similarity score."
      ],
      "metadata": {
        "id": "0V25d5oGfxeH"
      }
    },
    {
      "cell_type": "code",
      "source": [
        "def evaluate_prompt(prompt, expected_keywords):\n",
        "    response = generate_response(prompt)\n",
        "    print(f\"Response:\\n{response}\\n\")\n",
        "    relevance = all(keyword.lower() in response.lower() for keyword in expected_keywords)\n",
        "    length = len(response.split())\n",
        "    print(f\"Relevance: {'Passed' if relevance else 'Failed'}\")\n",
        "    print(f\"Response length (words): {length}\\n\")\n",
        "\n",
        "evaluate_prompt(\"Explain the importance of water conservation.\", [\"water\", \"conservation\", \"importance\"])"
      ],
      "metadata": {
        "id": "smMm5hVAfzTp",
        "colab": {
          "base_uri": "https://localhost:8080/"
        },
        "outputId": "7e20a9bd-8365-41a0-cca1-76a6d5cb9639"
      },
      "execution_count": 8,
      "outputs": [
        {
          "output_type": "stream",
          "name": "stdout",
          "text": [
            "Response:\n",
            "Water conservation is crucial for several reasons, reflecting its significance for the environment, economy, and society as a whole. Here are some key points emphasizing its importance:\n",
            "\n",
            "### 1. **Sustainable Resource Management**\n",
            "- **Finite Resource**: Freshwater is a limited resource, with only about 2.5% of the Earth's water being freshwater, and a significant portion of that is not easily accessible.\n",
            "- **Growing Demand**: As global populations increase and industrial and agricultural activities expand, the demand for freshwater grows, making conservation vital to ensure its availability for future generations.\n",
            "\n",
            "### 2. **Environmental Protection**\n",
            "- **Ecosystem Health**: Water conservation helps maintain healthy ecosystems. Aquatic habitats, wetlands, and rivers depend on sufficient water levels to support biodiversity.\n",
            "- **Climate Resilience**: Conserving water can help mitigate the effects of droughts and climate change, which can lead to water scarcity and negatively impact both human and ecological communities.\n",
            "\n",
            "### 3. **Economic Benefits**\n",
            "- **Cost Savings**: Reducing water usage can lead to lower utility bills for households and businesses. Efficient water use also reduces the costs associated with water treatment and distribution.\n",
            "- **Agricultural Efficiency**: In agriculture, conserving water can lead to more sustainable farming practices, enhancing food security while minimizing the impact on water resources.\n",
            "\n",
            "### 4. **Social Equity**\n",
            "- **Access to Clean Water**: Many communities, especially in developing regions, lack access to clean and safe drinking water. Water conservation efforts can help improve access to this essential resource.\n",
            "- **Public Health**: Adequate water supply is crucial for hygiene and sanitation. Conserving water can ensure that communities have enough water for these critical needs, reducing the risk of waterborne diseases.\n",
            "\n",
            "### 5. **Infrastructure Sustainability**\n",
            "- **Reduced Pressure on Infrastructure**: Efficient water use can alleviate the strain on existing water supply systems and infrastructure, reducing the need for costly upgrades and expansions.\n",
            "- **Flood Management**: Better water management practices can help mitigate flooding by allowing for better absorption and management of stormwater.\n",
            "\n",
            "### 6. **Awareness and Responsibility**\n",
            "- **Cultural Shift**: Promoting water conservation fosters a culture of sustainability and environmental responsibility, encouraging individuals and communities to adopt more sustainable practices in all areas of life.\n",
            "\n",
            "In summary, water conservation is essential not only for ensuring a sustainable supply of this vital resource but also for protecting ecosystems, promoting economic efficiency, supporting social equity, and fostering a culture of environmental stewardship. Implementing effective water conservation practices is a critical step toward addressing global water challenges.\n",
            "\n",
            "Relevance: Passed\n",
            "Response length (words): 398\n",
            "\n"
          ]
        }
      ]
    },
    {
      "cell_type": "markdown",
      "source": [
        "3. **Incorporate user feedback (simulated):**\n",
        "    - Ask students to simulate or collect simple user feedback scores (e.g., 1 to 5 rating).\n",
        "    - Show how this qualitative data complements automated metrics.\n",
        "4. **Discuss trade-offs:**\n",
        "    - Latency vs. response quality\n",
        "    - Length vs. clarity\n",
        "    - Consistency vs. creativity\n",
        "\n",
        "***\n",
        "\n",
        "## Summary for Students:\n",
        "\n",
        "- Practice managing prompt versions and testing integrations as mini automation.\n",
        "- Use keyword checks and repeated runs for simple prompt effectiveness measurement.\n",
        "- Understand that prompt evaluation involves both quantitative metrics and qualitative feedback.\n",
        "- Consider embedding prompt evaluation into automated pipelines for continuous prompt improvement.\n",
        "\n",
        "***"
      ],
      "metadata": {
        "id": "3sP66Oy8f1qX"
      }
    }
  ],
  "metadata": {
    "colab": {
      "name": "Welcome to Colab",
      "provenance": [],
      "include_colab_link": true
    },
    "kernelspec": {
      "display_name": "Python 3",
      "name": "python3"
    }
  },
  "nbformat": 4,
  "nbformat_minor": 0
}